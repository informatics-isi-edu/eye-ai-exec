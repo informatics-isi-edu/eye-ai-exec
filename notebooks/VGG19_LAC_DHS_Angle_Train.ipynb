{
 "cells": [
  {
   "cell_type": "code",
   "execution_count": 1,
   "id": "161575c6-6f1a-4d5c-9970-f9ec63579c6e",
   "metadata": {},
   "outputs": [
    {
     "data": {
      "text/plain": [
       "'/home/sreenidhi/Repos/eye-ai-exec/notebooks'"
      ]
     },
     "execution_count": 1,
     "metadata": {},
     "output_type": "execute_result"
    }
   ],
   "source": [
    "pwd"
   ]
  },
  {
   "cell_type": "code",
   "execution_count": 2,
   "id": "916c7040-959a-495b-b829-91207e33e268",
   "metadata": {},
   "outputs": [
    {
     "data": {
      "text/plain": [
       "['15rQQvQuopZ4T', 'Dataset_2-277G', 'validated_check.txt']"
      ]
     },
     "execution_count": 2,
     "metadata": {},
     "output_type": "execute_result"
    }
   ],
   "source": [
    "path = '/data/2-277G_6aa1a6861eee5a79bce4bf071065355f95a066c2a1ff326089d43048a7e0f185'\n",
    "\n",
    "import os\n",
    "\n",
    "os.listdir(path)"
   ]
  },
  {
   "cell_type": "code",
   "execution_count": 4,
   "id": "b0bb0517-4adf-42bf-a38d-26777740ecb3",
   "metadata": {},
   "outputs": [
    {
     "data": {
      "text/plain": [
       "'/data/2-277G_6aa1a6861eee5a79bce4bf071065355f95a066c2a1ff326089d43048a7e0f185/Dataset_2-277G'"
      ]
     },
     "execution_count": 4,
     "metadata": {},
     "output_type": "execute_result"
    }
   ],
   "source": [
    "train = os.path.join(path,os.listdir(path)[1])\n",
    "train"
   ]
  },
  {
   "cell_type": "code",
   "execution_count": 5,
   "id": "25870a89-3e09-456e-8586-3f9bbfe082cf",
   "metadata": {},
   "outputs": [
    {
     "data": {
      "text/plain": [
       "['bag-info.txt',\n",
       " 'bagit.txt',\n",
       " 'data',\n",
       " 'fetch.txt',\n",
       " 'manifest-md5.txt',\n",
       " 'tagmanifest-md5.txt']"
      ]
     },
     "execution_count": 5,
     "metadata": {},
     "output_type": "execute_result"
    }
   ],
   "source": [
    "os.listdir(train)"
   ]
  },
  {
   "cell_type": "code",
   "execution_count": 8,
   "id": "86fe90ba-8fab-4507-85d2-1f93fab278b9",
   "metadata": {},
   "outputs": [
    {
     "data": {
      "text/plain": [
       "'/data/2-277G_6aa1a6861eee5a79bce4bf071065355f95a066c2a1ff326089d43048a7e0f185/Dataset_2-277G/data'"
      ]
     },
     "execution_count": 8,
     "metadata": {},
     "output_type": "execute_result"
    }
   ],
   "source": [
    "train_data = os.path.join(train, \"data\") \n",
    "\n",
    "train_data"
   ]
  },
  {
   "cell_type": "code",
   "execution_count": 9,
   "id": "82670da5-968b-483e-9f4d-d342db947b7d",
   "metadata": {},
   "outputs": [
    {
     "data": {
      "text/plain": [
       "['Diagnosis.csv',\n",
       " 'Diagnosis_Image_Vocabulary.csv',\n",
       " 'Diagnosis_Tag.csv',\n",
       " 'Image.csv',\n",
       " 'Image_Annotation.csv',\n",
       " 'Observation.csv',\n",
       " 'Subject.csv',\n",
       " 'assets']"
      ]
     },
     "execution_count": 9,
     "metadata": {},
     "output_type": "execute_result"
    }
   ],
   "source": [
    "os.listdir(train_data)"
   ]
  },
  {
   "cell_type": "code",
   "execution_count": 10,
   "id": "752b27d3-f3e5-48ba-8a77-69bbdb5d9ccd",
   "metadata": {},
   "outputs": [
    {
     "data": {
      "text/plain": [
       "'/data/2-277G_6aa1a6861eee5a79bce4bf071065355f95a066c2a1ff326089d43048a7e0f185/Dataset_2-277G/data/assets'"
      ]
     },
     "execution_count": 10,
     "metadata": {},
     "output_type": "execute_result"
    }
   ],
   "source": [
    "train_data_assests = os.path.join(train_data, \"assets\")\n",
    "\n",
    "train_data_assests"
   ]
  },
  {
   "cell_type": "code",
   "execution_count": 11,
   "id": "ec66ec8d-154f-4eb9-9692-06088b919e11",
   "metadata": {},
   "outputs": [
    {
     "data": {
      "text/plain": [
       "['Image', 'Image_Annotation']"
      ]
     },
     "execution_count": 11,
     "metadata": {},
     "output_type": "execute_result"
    }
   ],
   "source": [
    "os.listdir(train_data_assests)"
   ]
  },
  {
   "cell_type": "code",
   "execution_count": 12,
   "id": "7b75ff81-b7eb-4711-9bfb-2b6b6d737b69",
   "metadata": {},
   "outputs": [
    {
     "data": {
      "text/plain": [
       "'/data/2-277G_6aa1a6861eee5a79bce4bf071065355f95a066c2a1ff326089d43048a7e0f185/Dataset_2-277G/data/assets/Image'"
      ]
     },
     "execution_count": 12,
     "metadata": {},
     "output_type": "execute_result"
    }
   ],
   "source": [
    "train_data_assests_Image = os.path.join(train_data_assests, \"Image\")\n",
    "\n",
    "train_data_assests_Image"
   ]
  },
  {
   "cell_type": "code",
   "execution_count": 14,
   "id": "a2fabe97-1a0c-40d7-bef9-2aa863bbe62c",
   "metadata": {},
   "outputs": [
    {
     "data": {
      "text/plain": [
       "27236"
      ]
     },
     "execution_count": 14,
     "metadata": {},
     "output_type": "execute_result"
    }
   ],
   "source": [
    "len(os.listdir(train_data_assests_Image))"
   ]
  },
  {
   "cell_type": "code",
   "execution_count": 15,
   "id": "a17ac83d-2164-4ad3-bdc3-c8b4ec5d0b6a",
   "metadata": {},
   "outputs": [
    {
     "data": {
      "text/plain": [
       "'/data/2-277G_6aa1a6861eee5a79bce4bf071065355f95a066c2a1ff326089d43048a7e0f185/Dataset_2-277G/data/Image.csv'"
      ]
     },
     "execution_count": 15,
     "metadata": {},
     "output_type": "execute_result"
    }
   ],
   "source": [
    "train_data_Image_CSV = os.path.join(train_data, 'Image.csv')\n",
    "\n",
    "\n",
    "train_data_Image_CSV"
   ]
  },
  {
   "cell_type": "code",
   "execution_count": 17,
   "id": "a64f2aa8-3c74-4b5d-b8a2-d31f46e64aba",
   "metadata": {},
   "outputs": [
    {
     "data": {
      "text/html": [
       "<div>\n",
       "<style scoped>\n",
       "    .dataframe tbody tr th:only-of-type {\n",
       "        vertical-align: middle;\n",
       "    }\n",
       "\n",
       "    .dataframe tbody tr th {\n",
       "        vertical-align: top;\n",
       "    }\n",
       "\n",
       "    .dataframe thead th {\n",
       "        text-align: right;\n",
       "    }\n",
       "</style>\n",
       "<table border=\"1\" class=\"dataframe\">\n",
       "  <thead>\n",
       "    <tr style=\"text-align: right;\">\n",
       "      <th></th>\n",
       "      <th>RID</th>\n",
       "      <th>RCT</th>\n",
       "      <th>RMT</th>\n",
       "      <th>RCB</th>\n",
       "      <th>RMB</th>\n",
       "      <th>URL</th>\n",
       "      <th>Filename</th>\n",
       "      <th>Description</th>\n",
       "      <th>Length</th>\n",
       "      <th>MD5</th>\n",
       "      <th>Observation</th>\n",
       "      <th>Image_Side_Vocab</th>\n",
       "      <th>Image_Angle_Vocab</th>\n",
       "      <th>Image</th>\n",
       "      <th>Image_Tag</th>\n",
       "      <th>Source_Image</th>\n",
       "      <th>Process</th>\n",
       "    </tr>\n",
       "  </thead>\n",
       "  <tbody>\n",
       "    <tr>\n",
       "      <th>0</th>\n",
       "      <td>7NXM</td>\n",
       "      <td>2023-05-02 20:53:07.158911+00</td>\n",
       "      <td>2023-06-20 00:49:34.743821+00</td>\n",
       "      <td>https://auth.globus.org/b2541312-d274-11e5-913...</td>\n",
       "      <td>https://auth.globus.org/3769492a-b197-4063-952...</td>\n",
       "      <td>/hatrac/images/scans/subject/1000399/observati...</td>\n",
       "      <td>1000399_1440173_14360776_Left Field 3.jpg</td>\n",
       "      <td>NaN</td>\n",
       "      <td>626427</td>\n",
       "      <td>8dcd29f8ce38385efb0d8b5f254768e3</td>\n",
       "      <td>7BZG</td>\n",
       "      <td>2SK0</td>\n",
       "      <td>2SK8</td>\n",
       "      <td>14360776</td>\n",
       "      <td>V9J0</td>\n",
       "      <td>NaN</td>\n",
       "      <td>NaN</td>\n",
       "    </tr>\n",
       "    <tr>\n",
       "      <th>1</th>\n",
       "      <td>7NXP</td>\n",
       "      <td>2023-05-02 20:53:08.11281+00</td>\n",
       "      <td>2023-06-20 00:49:34.743821+00</td>\n",
       "      <td>https://auth.globus.org/b2541312-d274-11e5-913...</td>\n",
       "      <td>https://auth.globus.org/3769492a-b197-4063-952...</td>\n",
       "      <td>/hatrac/images/scans/subject/1000399/observati...</td>\n",
       "      <td>1000399_1440173_14360777_Right Field 3.jpg</td>\n",
       "      <td>NaN</td>\n",
       "      <td>663989</td>\n",
       "      <td>fda7a2bf8511d8717394e53c8be427cc</td>\n",
       "      <td>7BZG</td>\n",
       "      <td>2SK2</td>\n",
       "      <td>2SK8</td>\n",
       "      <td>14360777</td>\n",
       "      <td>V9J0</td>\n",
       "      <td>NaN</td>\n",
       "      <td>NaN</td>\n",
       "    </tr>\n",
       "    <tr>\n",
       "      <th>2</th>\n",
       "      <td>7NXR</td>\n",
       "      <td>2023-05-02 20:53:09.113412+00</td>\n",
       "      <td>2023-06-20 00:49:34.743821+00</td>\n",
       "      <td>https://auth.globus.org/b2541312-d274-11e5-913...</td>\n",
       "      <td>https://auth.globus.org/3769492a-b197-4063-952...</td>\n",
       "      <td>/hatrac/images/scans/subject/1000399/observati...</td>\n",
       "      <td>1000399_1440173_14360778_Left Field 2.jpg</td>\n",
       "      <td>NaN</td>\n",
       "      <td>682114</td>\n",
       "      <td>4f71f2620beebd4652e92c5bc006bd64</td>\n",
       "      <td>7BZG</td>\n",
       "      <td>2SK0</td>\n",
       "      <td>2SK6</td>\n",
       "      <td>14360778</td>\n",
       "      <td>V9J0</td>\n",
       "      <td>NaN</td>\n",
       "      <td>NaN</td>\n",
       "    </tr>\n",
       "    <tr>\n",
       "      <th>3</th>\n",
       "      <td>7NXT</td>\n",
       "      <td>2023-05-02 20:53:10.148101+00</td>\n",
       "      <td>2023-06-20 00:49:34.743821+00</td>\n",
       "      <td>https://auth.globus.org/b2541312-d274-11e5-913...</td>\n",
       "      <td>https://auth.globus.org/3769492a-b197-4063-952...</td>\n",
       "      <td>/hatrac/images/scans/subject/1000399/observati...</td>\n",
       "      <td>1000399_1440173_14360779_Left Field 1.jpg</td>\n",
       "      <td>NaN</td>\n",
       "      <td>729195</td>\n",
       "      <td>7f5afb51ea3ce7c8c3d1fc18aac4322f</td>\n",
       "      <td>7BZG</td>\n",
       "      <td>2SK0</td>\n",
       "      <td>2SK4</td>\n",
       "      <td>14360779</td>\n",
       "      <td>V9J0</td>\n",
       "      <td>NaN</td>\n",
       "      <td>NaN</td>\n",
       "    </tr>\n",
       "    <tr>\n",
       "      <th>4</th>\n",
       "      <td>7NXW</td>\n",
       "      <td>2023-05-02 20:53:11.294077+00</td>\n",
       "      <td>2023-06-20 00:49:34.743821+00</td>\n",
       "      <td>https://auth.globus.org/b2541312-d274-11e5-913...</td>\n",
       "      <td>https://auth.globus.org/3769492a-b197-4063-952...</td>\n",
       "      <td>/hatrac/images/scans/subject/1000399/observati...</td>\n",
       "      <td>1000399_1440173_14360780_Right Field 1.jpg</td>\n",
       "      <td>NaN</td>\n",
       "      <td>731966</td>\n",
       "      <td>a270f7e794729469d08d6e1a276d0acf</td>\n",
       "      <td>7BZG</td>\n",
       "      <td>2SK2</td>\n",
       "      <td>2SK4</td>\n",
       "      <td>14360780</td>\n",
       "      <td>V9J0</td>\n",
       "      <td>NaN</td>\n",
       "      <td>NaN</td>\n",
       "    </tr>\n",
       "    <tr>\n",
       "      <th>...</th>\n",
       "      <td>...</td>\n",
       "      <td>...</td>\n",
       "      <td>...</td>\n",
       "      <td>...</td>\n",
       "      <td>...</td>\n",
       "      <td>...</td>\n",
       "      <td>...</td>\n",
       "      <td>...</td>\n",
       "      <td>...</td>\n",
       "      <td>...</td>\n",
       "      <td>...</td>\n",
       "      <td>...</td>\n",
       "      <td>...</td>\n",
       "      <td>...</td>\n",
       "      <td>...</td>\n",
       "      <td>...</td>\n",
       "      <td>...</td>\n",
       "    </tr>\n",
       "    <tr>\n",
       "      <th>27231</th>\n",
       "      <td>AHE6</td>\n",
       "      <td>2023-05-03 11:27:01.811931+00</td>\n",
       "      <td>2023-06-20 00:50:08.631888+00</td>\n",
       "      <td>https://auth.globus.org/b2541312-d274-11e5-913...</td>\n",
       "      <td>https://auth.globus.org/3769492a-b197-4063-952...</td>\n",
       "      <td>/hatrac/images/scans/subject/999943/observatio...</td>\n",
       "      <td>999943_1439491_14356088_Left Field 2.jpg</td>\n",
       "      <td>NaN</td>\n",
       "      <td>673876</td>\n",
       "      <td>1b13d6275cd30315bd3d5d3f9b686e7b</td>\n",
       "      <td>7KNT</td>\n",
       "      <td>2SK0</td>\n",
       "      <td>2SK6</td>\n",
       "      <td>14356088</td>\n",
       "      <td>V9J0</td>\n",
       "      <td>NaN</td>\n",
       "      <td>NaN</td>\n",
       "    </tr>\n",
       "    <tr>\n",
       "      <th>27232</th>\n",
       "      <td>AHE8</td>\n",
       "      <td>2023-05-03 11:27:02.909452+00</td>\n",
       "      <td>2023-06-20 00:50:08.631888+00</td>\n",
       "      <td>https://auth.globus.org/b2541312-d274-11e5-913...</td>\n",
       "      <td>https://auth.globus.org/3769492a-b197-4063-952...</td>\n",
       "      <td>/hatrac/images/scans/subject/999943/observatio...</td>\n",
       "      <td>999943_1439491_14356089_Right Field 2.jpg</td>\n",
       "      <td>NaN</td>\n",
       "      <td>680226</td>\n",
       "      <td>5f2d6aab860a87f18a8460c3e4465098</td>\n",
       "      <td>7KNT</td>\n",
       "      <td>2SK2</td>\n",
       "      <td>2SK6</td>\n",
       "      <td>14356089</td>\n",
       "      <td>V9J0</td>\n",
       "      <td>NaN</td>\n",
       "      <td>NaN</td>\n",
       "    </tr>\n",
       "    <tr>\n",
       "      <th>27233</th>\n",
       "      <td>AHEA</td>\n",
       "      <td>2023-05-03 11:27:03.95341+00</td>\n",
       "      <td>2023-06-20 00:50:08.631888+00</td>\n",
       "      <td>https://auth.globus.org/b2541312-d274-11e5-913...</td>\n",
       "      <td>https://auth.globus.org/3769492a-b197-4063-952...</td>\n",
       "      <td>/hatrac/images/scans/subject/999943/observatio...</td>\n",
       "      <td>999943_1439491_14356090_Left Field 1.jpg</td>\n",
       "      <td>NaN</td>\n",
       "      <td>682070</td>\n",
       "      <td>b4e5c2c012845b8bfd698753382a7e8e</td>\n",
       "      <td>7KNT</td>\n",
       "      <td>2SK0</td>\n",
       "      <td>2SK4</td>\n",
       "      <td>14356090</td>\n",
       "      <td>V9J0</td>\n",
       "      <td>NaN</td>\n",
       "      <td>NaN</td>\n",
       "    </tr>\n",
       "    <tr>\n",
       "      <th>27234</th>\n",
       "      <td>AHEC</td>\n",
       "      <td>2023-05-03 11:27:04.921484+00</td>\n",
       "      <td>2023-06-20 00:50:08.631888+00</td>\n",
       "      <td>https://auth.globus.org/b2541312-d274-11e5-913...</td>\n",
       "      <td>https://auth.globus.org/3769492a-b197-4063-952...</td>\n",
       "      <td>/hatrac/images/scans/subject/999943/observatio...</td>\n",
       "      <td>999943_1439491_14356091_Right Field 1.jpg</td>\n",
       "      <td>NaN</td>\n",
       "      <td>674771</td>\n",
       "      <td>acf8568970adb46f81ef10defc65d1e0</td>\n",
       "      <td>7KNT</td>\n",
       "      <td>2SK2</td>\n",
       "      <td>2SK4</td>\n",
       "      <td>14356091</td>\n",
       "      <td>V9J0</td>\n",
       "      <td>NaN</td>\n",
       "      <td>NaN</td>\n",
       "    </tr>\n",
       "    <tr>\n",
       "      <th>27235</th>\n",
       "      <td>AHEE</td>\n",
       "      <td>2023-05-03 11:27:05.927491+00</td>\n",
       "      <td>2023-06-20 00:50:08.631888+00</td>\n",
       "      <td>https://auth.globus.org/b2541312-d274-11e5-913...</td>\n",
       "      <td>https://auth.globus.org/3769492a-b197-4063-952...</td>\n",
       "      <td>/hatrac/images/scans/subject/999943/observatio...</td>\n",
       "      <td>999943_1439491_14356092_Right Field 3.jpg</td>\n",
       "      <td>NaN</td>\n",
       "      <td>659198</td>\n",
       "      <td>a0322b5f6d002c3012dc9f4e970a48f2</td>\n",
       "      <td>7KNT</td>\n",
       "      <td>2SK2</td>\n",
       "      <td>2SK8</td>\n",
       "      <td>14356092</td>\n",
       "      <td>V9J0</td>\n",
       "      <td>NaN</td>\n",
       "      <td>NaN</td>\n",
       "    </tr>\n",
       "  </tbody>\n",
       "</table>\n",
       "<p>27236 rows × 17 columns</p>\n",
       "</div>"
      ],
      "text/plain": [
       "        RID                            RCT                            RMT  \\\n",
       "0      7NXM  2023-05-02 20:53:07.158911+00  2023-06-20 00:49:34.743821+00   \n",
       "1      7NXP   2023-05-02 20:53:08.11281+00  2023-06-20 00:49:34.743821+00   \n",
       "2      7NXR  2023-05-02 20:53:09.113412+00  2023-06-20 00:49:34.743821+00   \n",
       "3      7NXT  2023-05-02 20:53:10.148101+00  2023-06-20 00:49:34.743821+00   \n",
       "4      7NXW  2023-05-02 20:53:11.294077+00  2023-06-20 00:49:34.743821+00   \n",
       "...     ...                            ...                            ...   \n",
       "27231  AHE6  2023-05-03 11:27:01.811931+00  2023-06-20 00:50:08.631888+00   \n",
       "27232  AHE8  2023-05-03 11:27:02.909452+00  2023-06-20 00:50:08.631888+00   \n",
       "27233  AHEA   2023-05-03 11:27:03.95341+00  2023-06-20 00:50:08.631888+00   \n",
       "27234  AHEC  2023-05-03 11:27:04.921484+00  2023-06-20 00:50:08.631888+00   \n",
       "27235  AHEE  2023-05-03 11:27:05.927491+00  2023-06-20 00:50:08.631888+00   \n",
       "\n",
       "                                                     RCB  \\\n",
       "0      https://auth.globus.org/b2541312-d274-11e5-913...   \n",
       "1      https://auth.globus.org/b2541312-d274-11e5-913...   \n",
       "2      https://auth.globus.org/b2541312-d274-11e5-913...   \n",
       "3      https://auth.globus.org/b2541312-d274-11e5-913...   \n",
       "4      https://auth.globus.org/b2541312-d274-11e5-913...   \n",
       "...                                                  ...   \n",
       "27231  https://auth.globus.org/b2541312-d274-11e5-913...   \n",
       "27232  https://auth.globus.org/b2541312-d274-11e5-913...   \n",
       "27233  https://auth.globus.org/b2541312-d274-11e5-913...   \n",
       "27234  https://auth.globus.org/b2541312-d274-11e5-913...   \n",
       "27235  https://auth.globus.org/b2541312-d274-11e5-913...   \n",
       "\n",
       "                                                     RMB  \\\n",
       "0      https://auth.globus.org/3769492a-b197-4063-952...   \n",
       "1      https://auth.globus.org/3769492a-b197-4063-952...   \n",
       "2      https://auth.globus.org/3769492a-b197-4063-952...   \n",
       "3      https://auth.globus.org/3769492a-b197-4063-952...   \n",
       "4      https://auth.globus.org/3769492a-b197-4063-952...   \n",
       "...                                                  ...   \n",
       "27231  https://auth.globus.org/3769492a-b197-4063-952...   \n",
       "27232  https://auth.globus.org/3769492a-b197-4063-952...   \n",
       "27233  https://auth.globus.org/3769492a-b197-4063-952...   \n",
       "27234  https://auth.globus.org/3769492a-b197-4063-952...   \n",
       "27235  https://auth.globus.org/3769492a-b197-4063-952...   \n",
       "\n",
       "                                                     URL  \\\n",
       "0      /hatrac/images/scans/subject/1000399/observati...   \n",
       "1      /hatrac/images/scans/subject/1000399/observati...   \n",
       "2      /hatrac/images/scans/subject/1000399/observati...   \n",
       "3      /hatrac/images/scans/subject/1000399/observati...   \n",
       "4      /hatrac/images/scans/subject/1000399/observati...   \n",
       "...                                                  ...   \n",
       "27231  /hatrac/images/scans/subject/999943/observatio...   \n",
       "27232  /hatrac/images/scans/subject/999943/observatio...   \n",
       "27233  /hatrac/images/scans/subject/999943/observatio...   \n",
       "27234  /hatrac/images/scans/subject/999943/observatio...   \n",
       "27235  /hatrac/images/scans/subject/999943/observatio...   \n",
       "\n",
       "                                         Filename  Description  Length  \\\n",
       "0       1000399_1440173_14360776_Left Field 3.jpg          NaN  626427   \n",
       "1      1000399_1440173_14360777_Right Field 3.jpg          NaN  663989   \n",
       "2       1000399_1440173_14360778_Left Field 2.jpg          NaN  682114   \n",
       "3       1000399_1440173_14360779_Left Field 1.jpg          NaN  729195   \n",
       "4      1000399_1440173_14360780_Right Field 1.jpg          NaN  731966   \n",
       "...                                           ...          ...     ...   \n",
       "27231    999943_1439491_14356088_Left Field 2.jpg          NaN  673876   \n",
       "27232   999943_1439491_14356089_Right Field 2.jpg          NaN  680226   \n",
       "27233    999943_1439491_14356090_Left Field 1.jpg          NaN  682070   \n",
       "27234   999943_1439491_14356091_Right Field 1.jpg          NaN  674771   \n",
       "27235   999943_1439491_14356092_Right Field 3.jpg          NaN  659198   \n",
       "\n",
       "                                    MD5 Observation Image_Side_Vocab  \\\n",
       "0      8dcd29f8ce38385efb0d8b5f254768e3        7BZG             2SK0   \n",
       "1      fda7a2bf8511d8717394e53c8be427cc        7BZG             2SK2   \n",
       "2      4f71f2620beebd4652e92c5bc006bd64        7BZG             2SK0   \n",
       "3      7f5afb51ea3ce7c8c3d1fc18aac4322f        7BZG             2SK0   \n",
       "4      a270f7e794729469d08d6e1a276d0acf        7BZG             2SK2   \n",
       "...                                 ...         ...              ...   \n",
       "27231  1b13d6275cd30315bd3d5d3f9b686e7b        7KNT             2SK0   \n",
       "27232  5f2d6aab860a87f18a8460c3e4465098        7KNT             2SK2   \n",
       "27233  b4e5c2c012845b8bfd698753382a7e8e        7KNT             2SK0   \n",
       "27234  acf8568970adb46f81ef10defc65d1e0        7KNT             2SK2   \n",
       "27235  a0322b5f6d002c3012dc9f4e970a48f2        7KNT             2SK2   \n",
       "\n",
       "      Image_Angle_Vocab     Image Image_Tag  Source_Image  Process  \n",
       "0                  2SK8  14360776      V9J0           NaN      NaN  \n",
       "1                  2SK8  14360777      V9J0           NaN      NaN  \n",
       "2                  2SK6  14360778      V9J0           NaN      NaN  \n",
       "3                  2SK4  14360779      V9J0           NaN      NaN  \n",
       "4                  2SK4  14360780      V9J0           NaN      NaN  \n",
       "...                 ...       ...       ...           ...      ...  \n",
       "27231              2SK6  14356088      V9J0           NaN      NaN  \n",
       "27232              2SK6  14356089      V9J0           NaN      NaN  \n",
       "27233              2SK4  14356090      V9J0           NaN      NaN  \n",
       "27234              2SK4  14356091      V9J0           NaN      NaN  \n",
       "27235              2SK8  14356092      V9J0           NaN      NaN  \n",
       "\n",
       "[27236 rows x 17 columns]"
      ]
     },
     "execution_count": 17,
     "metadata": {},
     "output_type": "execute_result"
    }
   ],
   "source": [
    "import pandas as pd\n",
    "\n",
    "train_data_Image_CSV_df = pd.read_csv(train_data_Image_CSV)\n",
    "\n",
    "train_data_Image_CSV_df"
   ]
  },
  {
   "cell_type": "code",
   "execution_count": 19,
   "id": "ddab221a-202b-4908-be4a-2e9a9807aa2c",
   "metadata": {},
   "outputs": [
    {
     "data": {
      "text/plain": [
       "array(['2SK8', '2SK6', '2SK4'], dtype=object)"
      ]
     },
     "execution_count": 19,
     "metadata": {},
     "output_type": "execute_result"
    }
   ],
   "source": [
    "train_data_Image_CSV_df['Image_Angle_Vocab'].unique()"
   ]
  },
  {
   "cell_type": "code",
   "execution_count": 20,
   "id": "d469bde3-ad34-4b25-99a6-5af1d1bdeb8a",
   "metadata": {},
   "outputs": [
    {
     "data": {
      "text/plain": [
       "array(['2SK0', '2SK2'], dtype=object)"
      ]
     },
     "execution_count": 20,
     "metadata": {},
     "output_type": "execute_result"
    }
   ],
   "source": [
    "train_data_Image_CSV_df['Image_Side_Vocab'].unique()"
   ]
  },
  {
   "cell_type": "code",
   "execution_count": null,
   "id": "5c1b7779-06d0-4678-adbe-a411da14ceab",
   "metadata": {},
   "outputs": [],
   "source": []
  }
 ],
 "metadata": {
  "kernelspec": {
   "display_name": "My TensorFlow (Conda)",
   "language": "python",
   "name": "my-tensorflow-conda"
  },
  "language_info": {
   "codemirror_mode": {
    "name": "ipython",
    "version": 3
   },
   "file_extension": ".py",
   "mimetype": "text/x-python",
   "name": "python",
   "nbconvert_exporter": "python",
   "pygments_lexer": "ipython3",
   "version": "3.10.13"
  }
 },
 "nbformat": 4,
 "nbformat_minor": 5
}
