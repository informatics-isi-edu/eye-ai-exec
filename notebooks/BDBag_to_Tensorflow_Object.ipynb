{
 "cells": [
  {
   "cell_type": "code",
   "execution_count": 3,
   "id": "d9a9d5da-e920-4084-8f85-68ceccd5bf5c",
   "metadata": {},
   "outputs": [],
   "source": [
    "repo_dir = \"Repos\"   # Set this to be where your github repos are located.\n",
    "%load_ext autoreload\n",
    "%autoreload 2\n",
    "\n",
    "# Update the load path so python can find modules for the model\n",
    "import sys\n",
    "from pathlib import Path\n",
    "sys.path.insert(0, str(Path.home() / repo_dir / \"eye-ai-ml\"))"
   ]
  },
  {
   "cell_type": "code",
   "execution_count": 6,
   "id": "617864f0-dcc4-4ee1-a643-47d0bed44f7f",
   "metadata": {},
   "outputs": [],
   "source": [
    "# Prerequisites\n",
    "\n",
    "import json\n",
    "import os\n",
    "import re\n",
    "from eye_ai.eye_ai import EyeAI\n",
    "import pandas as pd\n",
    "import numpy as np\n",
    "from pathlib import Path, PurePath,PosixPath\n",
    "import logging\n",
    "\n",
    "\n",
    "logging.basicConfig(level=logging.INFO, format='%(asctime)s - %(levelname)s - %(message)s', force=True)"
   ]
  },
  {
   "cell_type": "code",
   "execution_count": 7,
   "id": "fa274178-ecf4-46b6-8215-999d056be36a",
   "metadata": {
    "scrolled": true
   },
   "outputs": [
    {
     "name": "stderr",
     "output_type": "stream",
     "text": [
      "2024-08-29 21:58:23,695 - INFO - Creating client of type <class 'globus_sdk.services.auth.client.native_client.NativeAppAuthClient'> for service \"auth\"\n",
      "2024-08-29 21:58:23,696 - INFO - Finished initializing AuthLoginClient. client_id='8ef15ba9-2b4a-469c-a163-7fd910c9d111', type(authorizer)=<class 'globus_sdk.authorizers.base.NullAuthorizer'>\n",
      "2024-08-29 21:58:23,699 - INFO - Setting up RefreshTokenAuthorizer with auth_client=[instance:140249620036144]\n",
      "2024-08-29 21:58:23,700 - INFO - Setting up a RenewingAuthorizer. It will use an auth type of Bearer and can handle 401s.\n",
      "2024-08-29 21:58:23,700 - INFO - RenewingAuthorizer will start by using access_token with hash \"3f5c8076ba9c87dbc9caedf3ce9d5a2b29f942951f9844bd6f6a37681fcb82dc\"\n",
      "2024-08-29 21:58:23,701 - INFO - Executing token refresh without client credentials\n",
      "2024-08-29 21:58:23,702 - INFO - Fetching new token from Globus Auth\n",
      "2024-08-29 21:58:24,112 - INFO - request done (success)\n",
      "2024-08-29 21:58:24,113 - INFO - RenewingAuthorizer.access_token updated to token with hash \"ab7d4bf3dde4a3f3ef7c11710bcfa8d910402e46f67dcb07b89563bebe78d577\"\n",
      "2024-08-29 21:58:24,113 - INFO - Setting up RefreshTokenAuthorizer with auth_client=[instance:140249620036144]\n",
      "2024-08-29 21:58:24,114 - INFO - Setting up a RenewingAuthorizer. It will use an auth type of Bearer and can handle 401s.\n",
      "2024-08-29 21:58:24,114 - INFO - RenewingAuthorizer will start by using access_token with hash \"ffdfcfde0acdf219b0e1a3c2eb6edf4935dc44ac1aeea1015baca9ac4c600aa5\"\n",
      "2024-08-29 21:58:24,116 - INFO - Executing token refresh without client credentials\n",
      "2024-08-29 21:58:24,116 - INFO - Fetching new token from Globus Auth\n",
      "2024-08-29 21:58:24,259 - INFO - request done (success)\n",
      "2024-08-29 21:58:24,260 - INFO - RenewingAuthorizer.access_token updated to token with hash \"49af02b750a98acfa864036cbc5faae7ff0ccfafef9d0e422613ab58d1f578f4\"\n",
      "2024-08-29 21:58:24,260 - INFO - Setting up RefreshTokenAuthorizer with auth_client=[instance:140249620036144]\n",
      "2024-08-29 21:58:24,261 - INFO - Setting up a RenewingAuthorizer. It will use an auth type of Bearer and can handle 401s.\n",
      "2024-08-29 21:58:24,261 - INFO - RenewingAuthorizer will start by using access_token with hash \"d7847de0aace6aebdb6bf2a8f93ce20cb5bda392fcd0f96aaf021ca7f188c560\"\n",
      "2024-08-29 21:58:24,262 - INFO - Executing token refresh without client credentials\n",
      "2024-08-29 21:58:24,263 - INFO - Fetching new token from Globus Auth\n",
      "2024-08-29 21:58:24,406 - INFO - request done (success)\n",
      "2024-08-29 21:58:24,406 - INFO - RenewingAuthorizer.access_token updated to token with hash \"181f1603f6fe2f1d3dd752715fbefe6351490a562cf230eafb598c892fdcb88a\"\n"
     ]
    },
    {
     "name": "stdout",
     "output_type": "stream",
     "text": [
      "You are already logged in.\n"
     ]
    }
   ],
   "source": [
    "from deriva.core.utils.globus_auth_utils import GlobusNativeLogin\n",
    "catalog_id = \"eye-ai\" #@param\n",
    "host = 'www.eye-ai.org'\n",
    "\n",
    "\n",
    "gnl = GlobusNativeLogin(host=host)\n",
    "if gnl.is_logged_in([host]):\n",
    "    print(\"You are already logged in.\")\n",
    "else:\n",
    "    gnl.login([host], no_local_server=True, no_browser=True, refresh_tokens=True, update_bdbag_keychain=True)\n",
    "    print(\"Login Successful\")"
   ]
  },
  {
   "cell_type": "code",
   "execution_count": 8,
   "id": "80dbe719-ef6a-48b6-83ee-d276c9bdaf0d",
   "metadata": {},
   "outputs": [],
   "source": [
    "# Variables to configure the rest of the notebook.\n",
    "\n",
    "cache_dir = '/data'        # Directory in which to cache materialized BDBags for datasets\n",
    "working_dir = '/data'    # Directory in which to place output files for later upload."
   ]
  },
  {
   "cell_type": "code",
   "execution_count": 9,
   "id": "4010d8a7-ea65-475e-8e82-5a0a4f195343",
   "metadata": {},
   "outputs": [
    {
     "name": "stderr",
     "output_type": "stream",
     "text": [
      "2024-08-29 21:59:05,290 - INFO - Creating client of type <class 'globus_sdk.services.auth.client.native_client.NativeAppAuthClient'> for service \"auth\"\n",
      "2024-08-29 21:59:05,291 - INFO - Finished initializing AuthLoginClient. client_id='8ef15ba9-2b4a-469c-a163-7fd910c9d111', type(authorizer)=<class 'globus_sdk.authorizers.base.NullAuthorizer'>\n"
     ]
    }
   ],
   "source": [
    "EA = EyeAI(hostname = host, catalog_id = catalog_id, cache_dir= cache_dir, working_dir=working_dir)"
   ]
  },
  {
   "cell_type": "code",
   "execution_count": 11,
   "id": "e208ed47-6601-42d6-9856-6f1578f283b8",
   "metadata": {},
   "outputs": [
    {
     "name": "stderr",
     "output_type": "stream",
     "text": [
      "2024-08-29 22:01:56,780 - INFO - Wrote configuration file: /home/alyciaqiu/.bdbag/bdbag.json\n",
      "2024-08-29 22:01:56,783 - INFO - Attempting to resolve http://identifiers.org/minid:z6hYdVcrlHo1 into a valid set of URLs.\n",
      "2024-08-29 22:01:57,650 - INFO - The identifier minid:z6hYdVcrlHo1 resolved into the following locations: [https://eye-ai-shared.s3.amazonaws.com/08636b768aee2223d7b5c311603297ad/2024-08-30_04.50.39/Dataset_2-7K8W.zip]\n",
      "2024-08-29 22:01:57,653 - INFO - Attempting GET from URL: https://eye-ai-shared.s3.amazonaws.com/08636b768aee2223d7b5c311603297ad/2024-08-30_04.50.39/Dataset_2-7K8W.zip\n",
      "2024-08-29 22:01:57,718 - INFO - File [/data/2-7K8W_aa5a95049b97e4aed59ed6107ff63035b3de0b96ad405ae204860b72ecde41e4/z6hYdVcrlHo1] transfer complete. 24.363 KB transferred. Elapsed time: 0:00:00.001139.\n",
      "2024-08-29 22:01:57,720 - INFO - Extracting ZIP archived file: /data/2-7K8W_aa5a95049b97e4aed59ed6107ff63035b3de0b96ad405ae204860b72ecde41e4/z6hYdVcrlHo1\n",
      "2024-08-29 22:01:57,729 - INFO - File /data/2-7K8W_aa5a95049b97e4aed59ed6107ff63035b3de0b96ad405ae204860b72ecde41e4/z6hYdVcrlHo1 was successfully extracted to directory /data/2-7K8W_aa5a95049b97e4aed59ed6107ff63035b3de0b96ad405ae204860b72ecde41e4/Dataset_2-7K8W\n",
      "2024-08-29 22:01:57,743 - INFO - Checking payload consistency. This can take some time for large bags with many payload files...\n",
      "2024-08-29 22:01:57,766 - INFO - Attempting to resolve remote file references from /data/2-7K8W_aa5a95049b97e4aed59ed6107ff63035b3de0b96ad405ae204860b72ecde41e4/Dataset_2-7K8W/fetch.txt.\n",
      "2024-08-29 22:01:57,776 - INFO - Attempting GET from URL: https://www.eye-ai.org/hatrac/images/scans/subject/399033/observation/703769/image/8669237/592e5be5356a1de8f02456ceec5576e9.JPG\n",
      "2024-08-29 22:01:58,051 - INFO - File [/data/2-7K8W_aa5a95049b97e4aed59ed6107ff63035b3de0b96ad405ae204860b72ecde41e4/Dataset_2-7K8W/data/assets/Image/399033_703769_8669237_Right Field 1.JPG] transfer complete. 639.104 KB transferred. Elapsed time: 0:00:00.004821.\n"
     ]
    },
    {
     "ename": "DataPathException",
     "evalue": "DETAIL:  Failing row contains (null, Materializing bag: 1 of 88 file(s) downloaded., Running).\n\n409 Client Error: CONFLICT for url: [https://www.eye-ai.org/ermrest/catalog/eye-ai/attributegroup/eye-ai:Execution/RID;Status,Status_Detail] Details: b'Request conflicts with state of server. Detail: null value in column \"RID\" of relation \"input_data_j-v8y9ZqRF2i_TeONXl6LQ\" violates not-null constraint\\nDETAIL:  Failing row contains (null, Materializing bag: 1 of 88 file(s) downloaded., Running).\\n\\n'",
     "output_type": "error",
     "traceback": [
      "\u001b[0;31m---------------------------------------------------------------------------\u001b[0m",
      "\u001b[0;31mHTTPError\u001b[0m                                 Traceback (most recent call last)",
      "File \u001b[0;32m~/.conda/envs/my-tensorflow-conda/lib/python3.10/site-packages/deriva/core/datapath.py:940\u001b[0m, in \u001b[0;36m_TableWrapper.update\u001b[0;34m(self, entities, correlation, targets)\u001b[0m\n\u001b[1;32m    939\u001b[0m \u001b[38;5;28;01mtry\u001b[39;00m:\n\u001b[0;32m--> 940\u001b[0m     resp \u001b[38;5;241m=\u001b[39m \u001b[38;5;28;43mself\u001b[39;49m\u001b[38;5;241;43m.\u001b[39;49m\u001b[43m_schema\u001b[49m\u001b[38;5;241;43m.\u001b[39;49m\u001b[43m_catalog\u001b[49m\u001b[38;5;241;43m.\u001b[39;49m\u001b[43m_wrapped_catalog\u001b[49m\u001b[38;5;241;43m.\u001b[39;49m\u001b[43mput\u001b[49m\u001b[43m(\u001b[49m\u001b[43mpath\u001b[49m\u001b[43m,\u001b[49m\u001b[43m \u001b[49m\u001b[43mjson\u001b[49m\u001b[38;5;241;43m=\u001b[39;49m\u001b[43mentities\u001b[49m\u001b[43m,\u001b[49m\u001b[43m \u001b[49m\u001b[43mheaders\u001b[49m\u001b[38;5;241;43m=\u001b[39;49m\u001b[43m{\u001b[49m\u001b[38;5;124;43m'\u001b[39;49m\u001b[38;5;124;43mContent-Type\u001b[39;49m\u001b[38;5;124;43m'\u001b[39;49m\u001b[43m:\u001b[49m\u001b[43m \u001b[49m\u001b[38;5;124;43m'\u001b[39;49m\u001b[38;5;124;43mapplication/json\u001b[39;49m\u001b[38;5;124;43m'\u001b[39;49m\u001b[43m}\u001b[49m\u001b[43m)\u001b[49m\n\u001b[1;32m    941\u001b[0m     \u001b[38;5;28;01mreturn\u001b[39;00m _ResultSet(\u001b[38;5;28mself\u001b[39m\u001b[38;5;241m.\u001b[39mpath\u001b[38;5;241m.\u001b[39muri, \u001b[38;5;28;01mlambda\u001b[39;00m ignore1, ignore2, ignore3: resp\u001b[38;5;241m.\u001b[39mjson())\n",
      "File \u001b[0;32m~/.conda/envs/my-tensorflow-conda/lib/python3.10/site-packages/deriva/core/deriva_binding.py:330\u001b[0m, in \u001b[0;36mDerivaBinding.put\u001b[0;34m(self, path, data, json, headers, guard_response)\u001b[0m\n\u001b[1;32m    329\u001b[0m r \u001b[38;5;241m=\u001b[39m \u001b[38;5;28mself\u001b[39m\u001b[38;5;241m.\u001b[39m_session\u001b[38;5;241m.\u001b[39mput(url, data\u001b[38;5;241m=\u001b[39mdata, json\u001b[38;5;241m=\u001b[39mjson, headers\u001b[38;5;241m=\u001b[39mheaders)\n\u001b[0;32m--> 330\u001b[0m \u001b[38;5;28;01mreturn\u001b[39;00m \u001b[38;5;28;43mself\u001b[39;49m\u001b[38;5;241;43m.\u001b[39;49m\u001b[43m_raise_for_status_412\u001b[49m\u001b[43m(\u001b[49m\u001b[43mr\u001b[49m\u001b[43m)\u001b[49m\n",
      "File \u001b[0;32m~/.conda/envs/my-tensorflow-conda/lib/python3.10/site-packages/deriva/core/deriva_binding.py:213\u001b[0m, in \u001b[0;36mDerivaBinding._raise_for_status_412\u001b[0;34m(r)\u001b[0m\n\u001b[1;32m    212\u001b[0m     \u001b[38;5;28;01mraise\u001b[39;00m ConcurrentUpdate(r)\n\u001b[0;32m--> 213\u001b[0m \u001b[43m_response_raise_for_status\u001b[49m\u001b[43m(\u001b[49m\u001b[43mr\u001b[49m\u001b[43m)\u001b[49m\n\u001b[1;32m    214\u001b[0m \u001b[38;5;28msetattr\u001b[39m(r, \u001b[38;5;124m'\u001b[39m\u001b[38;5;124mraise_for_status\u001b[39m\u001b[38;5;124m'\u001b[39m, _response_raise_for_status\u001b[38;5;241m.\u001b[39m\u001b[38;5;21m__get__\u001b[39m(r))\n",
      "File \u001b[0;32m~/.conda/envs/my-tensorflow-conda/lib/python3.10/site-packages/deriva/core/deriva_binding.py:97\u001b[0m, in \u001b[0;36m_response_raise_for_status\u001b[0;34m(self)\u001b[0m\n\u001b[1;32m     96\u001b[0m details \u001b[38;5;241m=\u001b[39m \u001b[38;5;124m\"\u001b[39m\u001b[38;5;124m Details: \u001b[39m\u001b[38;5;132;01m%s\u001b[39;00m\u001b[38;5;124m\"\u001b[39m\n\u001b[0;32m---> 97\u001b[0m \u001b[38;5;28;01mraise\u001b[39;00m requests\u001b[38;5;241m.\u001b[39mHTTPError(\n\u001b[1;32m     98\u001b[0m     \u001b[38;5;124mu\u001b[39m\u001b[38;5;124m'\u001b[39m\u001b[38;5;132;01m%s\u001b[39;00m\u001b[38;5;124m \u001b[39m\u001b[38;5;132;01m%s\u001b[39;00m\u001b[38;5;124m Error: \u001b[39m\u001b[38;5;132;01m%s\u001b[39;00m\u001b[38;5;124m for url: [\u001b[39m\u001b[38;5;132;01m%s\u001b[39;00m\u001b[38;5;124m]\u001b[39m\u001b[38;5;132;01m%s\u001b[39;00m\u001b[38;5;124m'\u001b[39m \u001b[38;5;241m%\u001b[39m (\n\u001b[1;32m     99\u001b[0m         \u001b[38;5;28mself\u001b[39m\u001b[38;5;241m.\u001b[39mstatus_code,\n\u001b[1;32m    100\u001b[0m         \u001b[38;5;124m'\u001b[39m\u001b[38;5;124mClient\u001b[39m\u001b[38;5;124m'\u001b[39m \u001b[38;5;28;01mif\u001b[39;00m \u001b[38;5;28mself\u001b[39m\u001b[38;5;241m.\u001b[39mstatus_code \u001b[38;5;241m<\u001b[39m \u001b[38;5;241m500\u001b[39m \u001b[38;5;28;01melse\u001b[39;00m \u001b[38;5;124m'\u001b[39m\u001b[38;5;124mServer\u001b[39m\u001b[38;5;124m'\u001b[39m,\n\u001b[1;32m    101\u001b[0m         \u001b[38;5;28mself\u001b[39m\u001b[38;5;241m.\u001b[39mreason,\n\u001b[1;32m    102\u001b[0m         \u001b[38;5;28mself\u001b[39m\u001b[38;5;241m.\u001b[39murl,\n\u001b[1;32m    103\u001b[0m         details \u001b[38;5;241m%\u001b[39m \u001b[38;5;28mself\u001b[39m\u001b[38;5;241m.\u001b[39mcontent \u001b[38;5;28;01mif\u001b[39;00m \u001b[38;5;28mself\u001b[39m\u001b[38;5;241m.\u001b[39mcontent \u001b[38;5;28;01melse\u001b[39;00m \u001b[38;5;124m\"\u001b[39m\u001b[38;5;124m\"\u001b[39m,\n\u001b[1;32m    104\u001b[0m     ),\n\u001b[1;32m    105\u001b[0m     response\u001b[38;5;241m=\u001b[39m\u001b[38;5;28mself\u001b[39m\n\u001b[1;32m    106\u001b[0m )\n",
      "\u001b[0;31mHTTPError\u001b[0m: 409 Client Error: CONFLICT for url: [https://www.eye-ai.org/ermrest/catalog/eye-ai/attributegroup/eye-ai:Execution/RID;Status,Status_Detail] Details: b'Request conflicts with state of server. Detail: null value in column \"RID\" of relation \"input_data_j-v8y9ZqRF2i_TeONXl6LQ\" violates not-null constraint\\nDETAIL:  Failing row contains (null, Materializing bag: 1 of 88 file(s) downloaded., Running).\\n\\n'",
      "\nDuring handling of the above exception, another exception occurred:\n",
      "\u001b[0;31mDataPathException\u001b[0m                         Traceback (most recent call last)",
      "Cell \u001b[0;32mIn[11], line 1\u001b[0m\n\u001b[0;32m----> 1\u001b[0m \u001b[43mEA\u001b[49m\u001b[38;5;241;43m.\u001b[39;49m\u001b[43mmaterialize_bdbag\u001b[49m\u001b[43m(\u001b[49m\u001b[43mminid\u001b[49m\u001b[43m \u001b[49m\u001b[38;5;241;43m=\u001b[39;49m\u001b[43m \u001b[49m\u001b[38;5;124;43m\"\u001b[39;49m\u001b[38;5;124;43mminid:z6hYdVcrlHo1\u001b[39;49m\u001b[38;5;124;43m\"\u001b[39;49m\u001b[43m,\u001b[49m\u001b[43m \u001b[49m\u001b[43mexecution_rid\u001b[49m\u001b[43m \u001b[49m\u001b[38;5;241;43m=\u001b[39;49m\u001b[43m \u001b[49m\u001b[38;5;28;43;01mNone\u001b[39;49;00m\u001b[43m)\u001b[49m\n",
      "File \u001b[0;32m~/.conda/envs/my-tensorflow-conda/lib/python3.10/site-packages/deriva_ml/deriva_ml_base.py:614\u001b[0m, in \u001b[0;36mDerivaML.materialize_bdbag\u001b[0;34m(self, minid, execution_rid)\u001b[0m\n\u001b[1;32m    612\u001b[0m bags \u001b[38;5;241m=\u001b[39m [\u001b[38;5;28mstr\u001b[39m(item) \u001b[38;5;28;01mfor\u001b[39;00m item \u001b[38;5;129;01min\u001b[39;00m bag_dir\u001b[38;5;241m.\u001b[39miterdir() \u001b[38;5;28;01mif\u001b[39;00m item\u001b[38;5;241m.\u001b[39mis_dir()]\n\u001b[1;32m    613\u001b[0m \u001b[38;5;28;01mif\u001b[39;00m \u001b[38;5;129;01mnot\u001b[39;00m bags:\n\u001b[0;32m--> 614\u001b[0m     bag_path \u001b[38;5;241m=\u001b[39m \u001b[43mbdb\u001b[49m\u001b[38;5;241;43m.\u001b[39;49m\u001b[43mmaterialize\u001b[49m\u001b[43m(\u001b[49m\u001b[43mminid\u001b[49m\u001b[43m,\u001b[49m\n\u001b[1;32m    615\u001b[0m \u001b[43m                               \u001b[49m\u001b[43mbag_dir\u001b[49m\u001b[43m,\u001b[49m\n\u001b[1;32m    616\u001b[0m \u001b[43m                               \u001b[49m\u001b[43mfetch_callback\u001b[49m\u001b[38;5;241;43m=\u001b[39;49m\u001b[43mfetch_progress_callback\u001b[49m\u001b[43m,\u001b[49m\n\u001b[1;32m    617\u001b[0m \u001b[43m                               \u001b[49m\u001b[43mvalidation_callback\u001b[49m\u001b[38;5;241;43m=\u001b[39;49m\u001b[43mvalidation_progress_callback\u001b[49m\u001b[43m)\u001b[49m\n\u001b[1;32m    618\u001b[0m     validated_check\u001b[38;5;241m.\u001b[39mtouch()\n\u001b[1;32m    619\u001b[0m \u001b[38;5;28;01melse\u001b[39;00m:\n",
      "File \u001b[0;32m~/.conda/envs/my-tensorflow-conda/lib/python3.10/site-packages/bdbag/bdbag_api.py:786\u001b[0m, in \u001b[0;36mmaterialize\u001b[0;34m(input_path, output_path, fetch_callback, validation_callback, keychain_file, config_file, filter_expr, force, **kwargs)\u001b[0m\n\u001b[1;32m    782\u001b[0m     logger\u001b[38;5;241m.\u001b[39minfo(\u001b[38;5;124m\"\u001b[39m\u001b[38;5;124mThe directory [\u001b[39m\u001b[38;5;132;01m%s\u001b[39;00m\u001b[38;5;124m] is not a valid bag directory. \u001b[39m\u001b[38;5;124m\"\u001b[39m\n\u001b[1;32m    783\u001b[0m                 \u001b[38;5;124m\"\u001b[39m\u001b[38;5;124mOnly a properly structured bag directory can be fully materialized.\u001b[39m\u001b[38;5;124m\"\u001b[39m \u001b[38;5;241m%\u001b[39m bag_path)\n\u001b[1;32m    784\u001b[0m     \u001b[38;5;28;01mreturn\u001b[39;00m bag_path\n\u001b[0;32m--> 786\u001b[0m \u001b[38;5;28;01mif\u001b[39;00m \u001b[38;5;129;01mnot\u001b[39;00m \u001b[43mresolve_fetch\u001b[49m\u001b[43m(\u001b[49m\u001b[43mbag_path\u001b[49m\u001b[43m,\u001b[49m\n\u001b[1;32m    787\u001b[0m \u001b[43m                     \u001b[49m\u001b[43mforce\u001b[49m\u001b[38;5;241;43m=\u001b[39;49m\u001b[43mforce\u001b[49m\u001b[43m,\u001b[49m\n\u001b[1;32m    788\u001b[0m \u001b[43m                     \u001b[49m\u001b[43mcallback\u001b[49m\u001b[38;5;241;43m=\u001b[39;49m\u001b[43mfetch_callback\u001b[49m\u001b[43m,\u001b[49m\n\u001b[1;32m    789\u001b[0m \u001b[43m                     \u001b[49m\u001b[43mkeychain_file\u001b[49m\u001b[38;5;241;43m=\u001b[39;49m\u001b[43mkeychain_file\u001b[49m\u001b[43m,\u001b[49m\n\u001b[1;32m    790\u001b[0m \u001b[43m                     \u001b[49m\u001b[43mconfig_file\u001b[49m\u001b[38;5;241;43m=\u001b[39;49m\u001b[43mconfig_file\u001b[49m\u001b[43m,\u001b[49m\n\u001b[1;32m    791\u001b[0m \u001b[43m                     \u001b[49m\u001b[43mfilter_expr\u001b[49m\u001b[38;5;241;43m=\u001b[39;49m\u001b[43mfilter_expr\u001b[49m\u001b[43m,\u001b[49m\n\u001b[1;32m    792\u001b[0m \u001b[43m                     \u001b[49m\u001b[38;5;241;43m*\u001b[39;49m\u001b[38;5;241;43m*\u001b[39;49m\u001b[43mkwargs\u001b[49m\u001b[43m)\u001b[49m:\n\u001b[1;32m    793\u001b[0m     logger\u001b[38;5;241m.\u001b[39mwarning(\u001b[38;5;124m\"\u001b[39m\u001b[38;5;124mOne or more bag files were not fetched successfully.\u001b[39m\u001b[38;5;124m\"\u001b[39m)\n\u001b[1;32m    795\u001b[0m validate_bag(bag_path, fast\u001b[38;5;241m=\u001b[39m\u001b[38;5;28;01mFalse\u001b[39;00m, callback\u001b[38;5;241m=\u001b[39mvalidation_callback, config_file\u001b[38;5;241m=\u001b[39mconfig_file)\n",
      "File \u001b[0;32m~/.conda/envs/my-tensorflow-conda/lib/python3.10/site-packages/bdbag/bdbag_api.py:738\u001b[0m, in \u001b[0;36mresolve_fetch\u001b[0;34m(bag_path, force, callback, keychain_file, config_file, filter_expr, **kwargs)\u001b[0m\n\u001b[1;32m    733\u001b[0m \u001b[38;5;28;01mif\u001b[39;00m force \u001b[38;5;129;01mor\u001b[39;00m \u001b[38;5;129;01mnot\u001b[39;00m check_payload_consistency(bag, skip_remote\u001b[38;5;241m=\u001b[39m\u001b[38;5;28;01mFalse\u001b[39;00m, quiet\u001b[38;5;241m=\u001b[39mkwargs\u001b[38;5;241m.\u001b[39mget(\u001b[38;5;124m\"\u001b[39m\u001b[38;5;124mquiet\u001b[39m\u001b[38;5;124m\"\u001b[39m, \u001b[38;5;28;01mTrue\u001b[39;00m)):\n\u001b[1;32m    734\u001b[0m     logger\u001b[38;5;241m.\u001b[39minfo(\u001b[38;5;124m\"\u001b[39m\u001b[38;5;124mAttempting to resolve remote file references from \u001b[39m\u001b[38;5;132;01m%s\u001b[39;00m\u001b[38;5;132;01m%s\u001b[39;00m\u001b[38;5;124m\"\u001b[39m \u001b[38;5;241m%\u001b[39m\n\u001b[1;32m    735\u001b[0m                 (os\u001b[38;5;241m.\u001b[39mpath\u001b[38;5;241m.\u001b[39mjoin(bag_path, \u001b[38;5;124m\"\u001b[39m\u001b[38;5;124mfetch.txt\u001b[39m\u001b[38;5;124m\"\u001b[39m),\n\u001b[1;32m    736\u001b[0m                  \u001b[38;5;124m\"\u001b[39m\u001b[38;5;124m.\u001b[39m\u001b[38;5;124m\"\u001b[39m \u001b[38;5;28;01mif\u001b[39;00m \u001b[38;5;129;01mnot\u001b[39;00m filter_expr \u001b[38;5;28;01melse\u001b[39;00m \u001b[38;5;124m\"\u001b[39m\u001b[38;5;124m, using filter expression [\u001b[39m\u001b[38;5;132;01m%s\u001b[39;00m\u001b[38;5;124m].\u001b[39m\u001b[38;5;124m\"\u001b[39m \u001b[38;5;241m%\u001b[39m filter_expr))\n\u001b[0;32m--> 738\u001b[0m     \u001b[38;5;28;01mreturn\u001b[39;00m \u001b[43mfetch_bag_files\u001b[49m\u001b[43m(\u001b[49m\u001b[43mbag\u001b[49m\u001b[43m,\u001b[49m\n\u001b[1;32m    739\u001b[0m \u001b[43m                           \u001b[49m\u001b[43mforce\u001b[49m\u001b[38;5;241;43m=\u001b[39;49m\u001b[43mforce\u001b[49m\u001b[43m,\u001b[49m\n\u001b[1;32m    740\u001b[0m \u001b[43m                           \u001b[49m\u001b[43mkeychain_file\u001b[49m\u001b[38;5;241;43m=\u001b[39;49m\u001b[43mkeychain_file\u001b[49m\u001b[43m,\u001b[49m\n\u001b[1;32m    741\u001b[0m \u001b[43m                           \u001b[49m\u001b[43mconfig_file\u001b[49m\u001b[38;5;241;43m=\u001b[39;49m\u001b[43mconfig_file\u001b[49m\u001b[43m,\u001b[49m\n\u001b[1;32m    742\u001b[0m \u001b[43m                           \u001b[49m\u001b[43mcallback\u001b[49m\u001b[38;5;241;43m=\u001b[39;49m\u001b[43mcallback\u001b[49m\u001b[43m,\u001b[49m\n\u001b[1;32m    743\u001b[0m \u001b[43m                           \u001b[49m\u001b[43mfilter_expr\u001b[49m\u001b[38;5;241;43m=\u001b[39;49m\u001b[43mfilter_expr\u001b[49m\u001b[43m,\u001b[49m\n\u001b[1;32m    744\u001b[0m \u001b[43m                           \u001b[49m\u001b[38;5;241;43m*\u001b[39;49m\u001b[38;5;241;43m*\u001b[39;49m\u001b[43mkwargs\u001b[49m\u001b[43m)\u001b[49m\n\u001b[1;32m    745\u001b[0m \u001b[38;5;28;01melse\u001b[39;00m:\n\u001b[1;32m    746\u001b[0m     \u001b[38;5;28;01mreturn\u001b[39;00m \u001b[38;5;28;01mTrue\u001b[39;00m\n",
      "File \u001b[0;32m~/.conda/envs/my-tensorflow-conda/lib/python3.10/site-packages/bdbag/fetch/fetcher.py:77\u001b[0m, in \u001b[0;36mfetch_bag_files\u001b[0;34m(bag, keychain_file, config_file, force, callback, filter_expr, **kwargs)\u001b[0m\n\u001b[1;32m     75\u001b[0m \u001b[38;5;28;01mif\u001b[39;00m callback:\n\u001b[1;32m     76\u001b[0m     current \u001b[38;5;241m+\u001b[39m\u001b[38;5;241m=\u001b[39m \u001b[38;5;241m1\u001b[39m\n\u001b[0;32m---> 77\u001b[0m     \u001b[38;5;28;01mif\u001b[39;00m \u001b[38;5;129;01mnot\u001b[39;00m \u001b[43mcallback\u001b[49m\u001b[43m(\u001b[49m\u001b[43mcurrent\u001b[49m\u001b[43m,\u001b[49m\u001b[43m \u001b[49m\u001b[43mtotal\u001b[49m\u001b[43m)\u001b[49m:\n\u001b[1;32m     78\u001b[0m         logger\u001b[38;5;241m.\u001b[39mwarning(\u001b[38;5;124m\"\u001b[39m\u001b[38;5;124mFetch cancelled by user...\u001b[39m\u001b[38;5;124m\"\u001b[39m)\n\u001b[1;32m     79\u001b[0m         success \u001b[38;5;241m=\u001b[39m \u001b[38;5;28;01mFalse\u001b[39;00m\n",
      "File \u001b[0;32m~/.conda/envs/my-tensorflow-conda/lib/python3.10/site-packages/deriva_ml/deriva_ml_base.py:590\u001b[0m, in \u001b[0;36mDerivaML.materialize_bdbag.<locals>.fetch_progress_callback\u001b[0;34m(current, total)\u001b[0m\n\u001b[1;32m    589\u001b[0m \u001b[38;5;28;01mdef\u001b[39;00m \u001b[38;5;21mfetch_progress_callback\u001b[39m(current, total):\n\u001b[0;32m--> 590\u001b[0m     \u001b[38;5;28;43mself\u001b[39;49m\u001b[38;5;241;43m.\u001b[39;49m\u001b[43mupdate_status\u001b[49m\u001b[43m(\u001b[49m\u001b[43mStatus\u001b[49m\u001b[38;5;241;43m.\u001b[39;49m\u001b[43mrunning\u001b[49m\u001b[43m,\u001b[49m\n\u001b[1;32m    591\u001b[0m \u001b[43m                       \u001b[49m\u001b[38;5;124;43mf\u001b[39;49m\u001b[38;5;124;43m\"\u001b[39;49m\u001b[38;5;124;43mMaterializing bag: \u001b[39;49m\u001b[38;5;132;43;01m{\u001b[39;49;00m\u001b[43mcurrent\u001b[49m\u001b[38;5;132;43;01m}\u001b[39;49;00m\u001b[38;5;124;43m of \u001b[39;49m\u001b[38;5;132;43;01m{\u001b[39;49;00m\u001b[43mtotal\u001b[49m\u001b[38;5;132;43;01m}\u001b[39;49;00m\u001b[38;5;124;43m file(s) downloaded.\u001b[39;49m\u001b[38;5;124;43m\"\u001b[39;49m\u001b[43m,\u001b[49m\u001b[43m \u001b[49m\u001b[43mexecution_rid\u001b[49m\u001b[43m)\u001b[49m\n\u001b[1;32m    592\u001b[0m     \u001b[38;5;28;01mreturn\u001b[39;00m \u001b[38;5;28;01mTrue\u001b[39;00m\n",
      "File \u001b[0;32m~/.conda/envs/my-tensorflow-conda/lib/python3.10/site-packages/deriva_ml/deriva_ml_base.py:683\u001b[0m, in \u001b[0;36mDerivaML.update_status\u001b[0;34m(self, new_status, status_detail, execution_rid)\u001b[0m\n\u001b[1;32m    673\u001b[0m \u001b[38;5;250m\u001b[39m\u001b[38;5;124;03m\"\"\"\u001b[39;00m\n\u001b[1;32m    674\u001b[0m \u001b[38;5;124;03mUpdate the status of an execution.\u001b[39;00m\n\u001b[1;32m    675\u001b[0m \n\u001b[0;32m   (...)\u001b[0m\n\u001b[1;32m    680\u001b[0m \n\u001b[1;32m    681\u001b[0m \u001b[38;5;124;03m\"\"\"\u001b[39;00m\n\u001b[1;32m    682\u001b[0m \u001b[38;5;28mself\u001b[39m\u001b[38;5;241m.\u001b[39mstatus \u001b[38;5;241m=\u001b[39m new_status\u001b[38;5;241m.\u001b[39mvalue\n\u001b[0;32m--> 683\u001b[0m \u001b[38;5;28;43mself\u001b[39;49m\u001b[38;5;241;43m.\u001b[39;49m\u001b[43m_batch_update\u001b[49m\u001b[43m(\u001b[49m\u001b[38;5;28;43mself\u001b[39;49m\u001b[38;5;241;43m.\u001b[39;49m\u001b[43mml_schema\u001b[49m\u001b[38;5;241;43m.\u001b[39;49m\u001b[43mExecution\u001b[49m\u001b[43m,\u001b[49m\n\u001b[1;32m    684\u001b[0m \u001b[43m                   \u001b[49m\u001b[43m[\u001b[49m\u001b[43m{\u001b[49m\u001b[38;5;124;43m\"\u001b[39;49m\u001b[38;5;124;43mRID\u001b[39;49m\u001b[38;5;124;43m\"\u001b[39;49m\u001b[43m:\u001b[49m\u001b[43m \u001b[49m\u001b[43mexecution_rid\u001b[49m\u001b[43m,\u001b[49m\u001b[43m \u001b[49m\u001b[38;5;124;43m\"\u001b[39;49m\u001b[38;5;124;43mStatus\u001b[39;49m\u001b[38;5;124;43m\"\u001b[39;49m\u001b[43m:\u001b[49m\u001b[43m \u001b[49m\u001b[38;5;28;43mself\u001b[39;49m\u001b[38;5;241;43m.\u001b[39;49m\u001b[43mstatus\u001b[49m\u001b[43m,\u001b[49m\u001b[43m \u001b[49m\u001b[38;5;124;43m\"\u001b[39;49m\u001b[38;5;124;43mStatus_Detail\u001b[39;49m\u001b[38;5;124;43m\"\u001b[39;49m\u001b[43m:\u001b[49m\u001b[43m \u001b[49m\u001b[43mstatus_detail\u001b[49m\u001b[43m}\u001b[49m\u001b[43m]\u001b[49m\u001b[43m,\u001b[49m\n\u001b[1;32m    685\u001b[0m \u001b[43m                   \u001b[49m\u001b[43m[\u001b[49m\u001b[38;5;28;43mself\u001b[39;49m\u001b[38;5;241;43m.\u001b[39;49m\u001b[43mml_schema\u001b[49m\u001b[38;5;241;43m.\u001b[39;49m\u001b[43mExecution\u001b[49m\u001b[38;5;241;43m.\u001b[39;49m\u001b[43mStatus\u001b[49m\u001b[43m,\u001b[49m\u001b[43m \u001b[49m\u001b[38;5;28;43mself\u001b[39;49m\u001b[38;5;241;43m.\u001b[39;49m\u001b[43mml_schema\u001b[49m\u001b[38;5;241;43m.\u001b[39;49m\u001b[43mExecution\u001b[49m\u001b[38;5;241;43m.\u001b[39;49m\u001b[43mStatus_Detail\u001b[49m\u001b[43m]\u001b[49m\u001b[43m)\u001b[49m\n",
      "File \u001b[0;32m~/.conda/envs/my-tensorflow-conda/lib/python3.10/site-packages/deriva_ml/deriva_ml_base.py:545\u001b[0m, in \u001b[0;36mDerivaML._batch_update\u001b[0;34m(table, entities, update_cols)\u001b[0m\n\u001b[1;32m    543\u001b[0m it \u001b[38;5;241m=\u001b[39m \u001b[38;5;28miter\u001b[39m(entities)\n\u001b[1;32m    544\u001b[0m \u001b[38;5;28;01mwhile\u001b[39;00m chunk \u001b[38;5;241m:=\u001b[39m \u001b[38;5;28mlist\u001b[39m(islice(it, \u001b[38;5;241m2000\u001b[39m)):\n\u001b[0;32m--> 545\u001b[0m     \u001b[43mtable\u001b[49m\u001b[38;5;241;43m.\u001b[39;49m\u001b[43mupdate\u001b[49m\u001b[43m(\u001b[49m\u001b[43mchunk\u001b[49m\u001b[43m,\u001b[49m\u001b[43m \u001b[49m\u001b[43m[\u001b[49m\u001b[43mtable\u001b[49m\u001b[38;5;241;43m.\u001b[39;49m\u001b[43mRID\u001b[49m\u001b[43m]\u001b[49m\u001b[43m,\u001b[49m\u001b[43m \u001b[49m\u001b[43mupdate_cols\u001b[49m\u001b[43m)\u001b[49m\n",
      "File \u001b[0;32m~/.conda/envs/my-tensorflow-conda/lib/python3.10/site-packages/deriva/core/datapath.py:945\u001b[0m, in \u001b[0;36m_TableWrapper.update\u001b[0;34m(self, entities, correlation, targets)\u001b[0m\n\u001b[1;32m    943\u001b[0m logger\u001b[38;5;241m.\u001b[39mdebug(e\u001b[38;5;241m.\u001b[39mresponse\u001b[38;5;241m.\u001b[39mtext)\n\u001b[1;32m    944\u001b[0m \u001b[38;5;28;01mif\u001b[39;00m \u001b[38;5;241m400\u001b[39m \u001b[38;5;241m<\u001b[39m\u001b[38;5;241m=\u001b[39m e\u001b[38;5;241m.\u001b[39mresponse\u001b[38;5;241m.\u001b[39mstatus_code \u001b[38;5;241m<\u001b[39m \u001b[38;5;241m500\u001b[39m:\n\u001b[0;32m--> 945\u001b[0m     \u001b[38;5;28;01mraise\u001b[39;00m DataPathException(_http_error_message(e), e)\n\u001b[1;32m    946\u001b[0m \u001b[38;5;28;01melse\u001b[39;00m:\n\u001b[1;32m    947\u001b[0m     \u001b[38;5;28;01mraise\u001b[39;00m e\n",
      "\u001b[0;31mDataPathException\u001b[0m: DETAIL:  Failing row contains (null, Materializing bag: 1 of 88 file(s) downloaded., Running).\n\n409 Client Error: CONFLICT for url: [https://www.eye-ai.org/ermrest/catalog/eye-ai/attributegroup/eye-ai:Execution/RID;Status,Status_Detail] Details: b'Request conflicts with state of server. Detail: null value in column \"RID\" of relation \"input_data_j-v8y9ZqRF2i_TeONXl6LQ\" violates not-null constraint\\nDETAIL:  Failing row contains (null, Materializing bag: 1 of 88 file(s) downloaded., Running).\\n\\n'"
     ]
    }
   ],
   "source": [
    "EA.materialize_bdbag(minid = \"minid:z6hYdVcrlHo1\", execution_rid = None)"
   ]
  }
 ],
 "metadata": {
  "kernelspec": {
   "display_name": "My TensorFlow (Conda)",
   "language": "python",
   "name": "my-tensorflow-conda"
  },
  "language_info": {
   "codemirror_mode": {
    "name": "ipython",
    "version": 3
   },
   "file_extension": ".py",
   "mimetype": "text/x-python",
   "name": "python",
   "nbconvert_exporter": "python",
   "pygments_lexer": "ipython3",
   "version": "3.10.13"
  }
 },
 "nbformat": 4,
 "nbformat_minor": 5
}
