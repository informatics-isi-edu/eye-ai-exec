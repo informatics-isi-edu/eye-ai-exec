{
 "cells": [
  {
   "cell_type": "code",
   "execution_count": 1,
   "id": "d9a9d5da-e920-4084-8f85-68ceccd5bf5c",
   "metadata": {},
   "outputs": [],
   "source": [
    "repo_dir = \"Repos\"   # Set this to be where your github repos are located.\n",
    "%load_ext autoreload\n",
    "%autoreload 2\n",
    "\n",
    "# Update the load path so python can find modules for the model\n",
    "import sys\n",
    "from pathlib import Path\n",
    "sys.path.insert(0, str(Path.home() / repo_dir / \"eye-ai-ml\"))"
   ]
  },
  {
   "cell_type": "code",
   "execution_count": 15,
   "id": "a4ea3c8d-0f9e-4749-b2ae-3d1c4805cdcd",
   "metadata": {},
   "outputs": [],
   "source": [
    "# Prerequisites\n",
    "\n",
    "import json\n",
    "import os\n",
    "import re\n",
    "from eye_ai.eye_ai import EyeAI\n",
    "import pandas as pd\n",
    "import numpy as np\n",
    "from pathlib import Path, PurePath,PosixPath\n",
    "import logging\n",
    "\n",
    "\n",
    "logging.basicConfig(level=logging.INFO, format='%(asctime)s - %(levelname)s - %(message)s', force=True)"
   ]
  },
  {
   "cell_type": "code",
   "execution_count": 16,
   "id": "169e6ca7-3b72-428a-aa37-360e72e8292e",
   "metadata": {},
   "outputs": [
    {
     "name": "stderr",
     "output_type": "stream",
     "text": [
      "2024-08-29 23:32:46,780 - INFO - Creating client of type <class 'globus_sdk.services.auth.client.native_client.NativeAppAuthClient'> for service \"auth\"\n",
      "2024-08-29 23:32:46,781 - INFO - Finished initializing AuthLoginClient. client_id='8ef15ba9-2b4a-469c-a163-7fd910c9d111', type(authorizer)=<class 'globus_sdk.authorizers.base.NullAuthorizer'>\n"
     ]
    },
    {
     "name": "stdout",
     "output_type": "stream",
     "text": [
      "You are already logged in.\n"
     ]
    }
   ],
   "source": [
    "from deriva.core.utils.globus_auth_utils import GlobusNativeLogin\n",
    "catalog_id = \"eye-ai\" #@param\n",
    "host = 'www.eye-ai.org'\n",
    "\n",
    "\n",
    "gnl = GlobusNativeLogin(host=host)\n",
    "if gnl.is_logged_in([host]):\n",
    "    print(\"You are already logged in.\")\n",
    "else:\n",
    "    gnl.login([host], no_local_server=True, no_browser=True, refresh_tokens=True, update_bdbag_keychain=True)\n",
    "    print(\"Login Successful\")"
   ]
  },
  {
   "cell_type": "code",
   "execution_count": 11,
   "id": "1805db27-3f1f-4359-95f2-62aac0057d27",
   "metadata": {},
   "outputs": [],
   "source": [
    "from deriva_ml.deriva_ml_base import DerivaML, DerivaMLException"
   ]
  },
  {
   "cell_type": "code",
   "execution_count": 18,
   "id": "80dbe719-ef6a-48b6-83ee-d276c9bdaf0d",
   "metadata": {},
   "outputs": [],
   "source": [
    "# Variables to configure the rest of the notebook.\n",
    "\n",
    "catalog_id = \"eye-ai\" #@param\n",
    "host = 'www.eye-ai.org'\n",
    "domain_schema = \"eye-ai\"\n",
    "cache_dir = '/data'        # Directory in which to cache materialized BDBags for datasets\n",
    "working_dir = '/data'    # Directory in which to place output files for later upload.\n",
    "model_version = \"0.9.0\"\n",
    "\n",
    "# configuration_rid = \"2-CC80\""
   ]
  },
  {
   "cell_type": "code",
   "execution_count": 21,
   "id": "4010d8a7-ea65-475e-8e82-5a0a4f195343",
   "metadata": {},
   "outputs": [
    {
     "name": "stderr",
     "output_type": "stream",
     "text": [
      "2024-08-29 23:44:23,321 - INFO - Creating client of type <class 'globus_sdk.services.auth.client.native_client.NativeAppAuthClient'> for service \"auth\"\n",
      "2024-08-29 23:44:23,322 - INFO - Finished initializing AuthLoginClient. client_id='8ef15ba9-2b4a-469c-a163-7fd910c9d111', type(authorizer)=<class 'globus_sdk.authorizers.base.NullAuthorizer'>\n"
     ]
    }
   ],
   "source": [
    "deriva_ml_instance = DerivaML(hostname = host, catalog_id = catalog_id, ml_schema=domain_schema, cache_dir= cache_dir, working_dir=working_dir, model_version=model_version)"
   ]
  },
  {
   "cell_type": "code",
   "execution_count": 22,
   "id": "d12df336-27bb-4406-aae2-5ca2839eb356",
   "metadata": {},
   "outputs": [],
   "source": [
    "from typing import Optional"
   ]
  },
  {
   "cell_type": "code",
   "execution_count": 26,
   "id": "b9443af2-888d-4810-9156-5beeeccd176e",
   "metadata": {},
   "outputs": [
    {
     "name": "stdout",
     "output_type": "stream",
     "text": [
      "Bag Path: /data/2-7K8W_aa5a95049b97e4aed59ed6107ff63035b3de0b96ad405ae204860b72ecde41e4/Dataset_2-7K8W\n",
      "Dataset RID: 2-7K8W\n"
     ]
    }
   ],
   "source": [
    "# Call the materialize_bdbag method\n",
    "minid = \"minid:z6hYdVcrlHo1\"\n",
    "execution_rid = None  # Optional, replace with actual RID if available\n",
    "\n",
    "try:\n",
    "    # Use the method to materialize the BDBag\n",
    "    bag_path, dataset_rid = deriva_ml_instance.materialize_bdbag(minid=minid, execution_rid=execution_rid)\n",
    "    \n",
    "    # Output the results\n",
    "    print(f\"Bag Path: {bag_path}\")\n",
    "    print(f\"Dataset RID: {dataset_rid}\")\n",
    "\n",
    "except DerivaMLException as e:\n",
    "    # Handle any exceptions raised during the materialization\n",
    "    print(f\"An error occurred: {str(e)}\")"
   ]
  },
  {
   "cell_type": "code",
   "execution_count": 25,
   "id": "13e636a4-0495-4ae9-b49d-cb844ff9f103",
   "metadata": {},
   "outputs": [
    {
     "name": "stdout",
     "output_type": "stream",
     "text": [
      "/data/2-7K8W_aa5a95049b97e4aed59ed6107ff63035b3de0b96ad405ae204860b72ecde41e4/Dataset_2-7K8W/bag-info.txt\n",
      "/data/2-7K8W_aa5a95049b97e4aed59ed6107ff63035b3de0b96ad405ae204860b72ecde41e4/Dataset_2-7K8W/bagit.txt\n",
      "/data/2-7K8W_aa5a95049b97e4aed59ed6107ff63035b3de0b96ad405ae204860b72ecde41e4/Dataset_2-7K8W/data\n",
      "/data/2-7K8W_aa5a95049b97e4aed59ed6107ff63035b3de0b96ad405ae204860b72ecde41e4/Dataset_2-7K8W/fetch.txt\n",
      "/data/2-7K8W_aa5a95049b97e4aed59ed6107ff63035b3de0b96ad405ae204860b72ecde41e4/Dataset_2-7K8W/manifest-md5.txt\n",
      "/data/2-7K8W_aa5a95049b97e4aed59ed6107ff63035b3de0b96ad405ae204860b72ecde41e4/Dataset_2-7K8W/tagmanifest-md5.txt\n"
     ]
    }
   ],
   "source": [
    "# List all files and directories inside the bag_path\n",
    "for file_path in bag_path.iterdir():\n",
    "    print(file_path)"
   ]
  }
 ],
 "metadata": {
  "kernelspec": {
   "display_name": "My TensorFlow (Conda)",
   "language": "python",
   "name": "my-tensorflow-conda"
  },
  "language_info": {
   "codemirror_mode": {
    "name": "ipython",
    "version": 3
   },
   "file_extension": ".py",
   "mimetype": "text/x-python",
   "name": "python",
   "nbconvert_exporter": "python",
   "pygments_lexer": "ipython3",
   "version": "3.10.13"
  }
 },
 "nbformat": 4,
 "nbformat_minor": 5
}
