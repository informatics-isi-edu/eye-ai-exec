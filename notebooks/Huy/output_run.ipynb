{
 "cells": [
  {
   "cell_type": "code",
   "execution_count": 3,
   "id": "706a4672-9dfb-46c1-a42a-63b63b578aa7",
   "metadata": {
    "editable": true,
    "papermill": {
     "duration": 0.011494,
     "end_time": "2025-04-11T22:03:03.762559",
     "exception": false,
     "start_time": "2025-04-11T22:03:03.751065",
     "status": "completed"
    },
    "slideshow": {
     "slide_type": ""
    },
    "tags": [
     "parameters"
    ]
   },
   "outputs": [],
   "source": [
    "#Parameters\n",
    "num =  1\n",
    "text =2 "
   ]
  },
  {
   "cell_type": "code",
   "execution_count": 4,
   "id": "b8181cb7",
   "metadata": {
    "editable": true,
    "papermill": {
     "duration": 0.005782,
     "end_time": "2025-04-11T22:03:03.769464",
     "exception": false,
     "start_time": "2025-04-11T22:03:03.763682",
     "status": "completed"
    },
    "slideshow": {
     "slide_type": ""
    },
    "tags": [
     "injected-parameters"
    ]
   },
   "outputs": [],
   "source": [
    "# Parameters\n",
    "num = 42\n"
   ]
  },
  {
   "cell_type": "code",
   "execution_count": 5,
   "id": "12208edf-c198-441b-b3eb-370ccf4620c6",
   "metadata": {
    "editable": true,
    "papermill": {
     "duration": 0.006593,
     "end_time": "2025-04-11T22:03:03.776951",
     "exception": false,
     "start_time": "2025-04-11T22:03:03.770358",
     "status": "completed"
    },
    "slideshow": {
     "slide_type": ""
    },
    "tags": [
     "parameters"
    ]
   },
   "outputs": [
    {
     "name": "stdout",
     "output_type": "stream",
     "text": [
      "Number var:  42\n",
      "Text var:  2\n"
     ]
    }
   ],
   "source": [
    "def print_out():\n",
    "    print(\"Number var: \", num)\n",
    "    print(\"Text var: \", text)\n",
    "\n",
    "print_out()"
   ]
  },
  {
   "cell_type": "code",
   "execution_count": null,
   "id": "4b47afa1-3cff-49f0-9490-043d622bd5b3",
   "metadata": {
    "editable": true,
    "slideshow": {
     "slide_type": ""
    },
    "tags": []
   },
   "outputs": [],
   "source": [
    "print_out(\"error\")"
   ]
  }
 ],
 "metadata": {
  "kernelspec": {
   "display_name": "TensorFlow - Base (Conda)",
   "language": "python",
   "name": "tensorflow-base"
  },
  "language_info": {
   "codemirror_mode": {
    "name": "ipython",
    "version": 3
   },
   "file_extension": ".py",
   "mimetype": "text/x-python",
   "name": "python",
   "nbconvert_exporter": "python",
   "pygments_lexer": "ipython3",
   "version": "3.10.13"
  },
  "papermill": {
   "default_parameters": {},
   "duration": 0.979035,
   "end_time": "2025-04-11T22:03:03.894014",
   "environment_variables": {},
   "exception": null,
   "input_path": "papermill_test.ipynb",
   "output_path": "output_run.ipynb",
   "parameters": {
    "num": 42
   },
   "start_time": "2025-04-11T22:03:02.914979",
   "version": "2.6.0"
  }
 },
 "nbformat": 4,
 "nbformat_minor": 5
}
