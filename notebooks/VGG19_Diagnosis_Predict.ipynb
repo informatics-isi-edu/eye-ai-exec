{
 "cells": [
  {
   "cell_type": "markdown",
   "metadata": {
    "colab_type": "text",
    "editable": true,
    "id": "view-in-github",
    "slideshow": {
     "slide_type": ""
    },
    "tags": []
   },
   "source": [
    "<a href=\"https://colab.research.google.com/github/informatics-isi-edu/eye-ai-exec/blob/main/notebooks/VGG19_Diagnosis_Predict.ipynb\" target=\"_parent\"><img src=\"https://colab.research.google.com/assets/colab-badge.svg\" alt=\"Open In Colab\"/></a>"
   ]
  },
  {
   "cell_type": "markdown",
   "metadata": {
    "editable": true,
    "slideshow": {
     "slide_type": ""
    },
    "tags": []
   },
   "source": [
    "# VGG19 Model Application\n",
    "\n",
    "This notebook applied a pre-trained model to a dataset specified in the configuration file and uploads the labels to the catalog.  The ROC curve is also calculated and uploaded."
   ]
  },
  {
   "cell_type": "code",
   "execution_count": 1,
   "metadata": {
    "editable": true,
    "slideshow": {
     "slide_type": ""
    },
    "tags": []
   },
   "outputs": [],
   "source": [
    "# Prerequisites to configure colab \n",
    "import sys\n",
    "IN_COLAB = 'google.colab' in sys.modules\n",
    "\n",
    "if IN_COLAB:\n",
    "    !pip install deriva\n",
    "    !pip install bdbag\n",
    "    !pip install --upgrade --force pydantic\n",
    "    !pip install git+https://github.com/informatics-isi-edu/deriva-ml git+https://github.com/informatics-isi-edu/eye-ai-ml\n"
   ]
  },
  {
   "cell_type": "code",
   "execution_count": 2,
   "metadata": {
    "editable": true,
    "slideshow": {
     "slide_type": ""
    },
    "tags": []
   },
   "outputs": [],
   "source": [
    "repo_dir = \"Repos\"   # Set this to be where your github repos are located.\n",
    "%load_ext autoreload\n",
    "%autoreload 2\n",
    "\n",
    "# Update the load path so python can find modules for the model\n",
    "import sys\n",
    "from pathlib import Path\n",
    "sys.path.insert(0, str(Path.home() / repo_dir / \"eye-ai-ml\"))"
   ]
  },
  {
   "cell_type": "code",
   "execution_count": 3,
   "metadata": {
    "editable": true,
    "id": "iCtEohU8lV-W",
    "jupyter": {
     "is_executing": true
    },
    "slideshow": {
     "slide_type": ""
    },
    "tags": []
   },
   "outputs": [],
   "source": [
    "import json\n",
    "import os\n",
    "import eye_ai\n",
    "from eye_ai.eye_ai import EyeAI\n",
    "import pandas as pd\n",
    "from pathlib import Path, PurePath\n",
    "import logging\n",
    "\n",
    "logging.basicConfig(level=logging.INFO, format='%(asctime)s - %(levelname)s - %(message)s', force=True)"
   ]
  },
  {
   "cell_type": "code",
   "execution_count": 4,
   "metadata": {
    "editable": true,
    "id": "qw-bW4bORlqQ",
    "slideshow": {
     "slide_type": ""
    },
    "tags": []
   },
   "outputs": [
    {
     "name": "stdout",
     "output_type": "stream",
     "text": [
      "You are already logged in.\n"
     ]
    }
   ],
   "source": [
    "# @title login to DERIVA via Globus Auth\n",
    "\n",
    "DEBUG_MODE = False #@param [\"False\", \"True\"] {type:\"raw\"}\n",
    "catalog_id = \"eye-ai\" #@param\n",
    "DEFAULT_SERVER = 'dev.eye-ai.org' if DEBUG_MODE else 'www.eye-ai.org'\n",
    "\n",
    "!deriva-globus-auth-utils login --no-browser --host {DEFAULT_SERVER}\n"
   ]
  },
  {
   "cell_type": "markdown",
   "metadata": {
    "editable": true,
    "slideshow": {
     "slide_type": ""
    },
    "tags": []
   },
   "source": [
    "Connect to Eye-AI catalog.  Configure to store data local cache and working directories.  Initialize Eye-AI for pending execution based on the provided configuration file."
   ]
  },
  {
   "cell_type": "code",
   "execution_count": 5,
   "metadata": {
    "editable": true,
    "slideshow": {
     "slide_type": ""
    },
    "tags": []
   },
   "outputs": [],
   "source": [
    "# Variables to configure the rest of the notebook.\n",
    "\n",
    "cache_dir = '/data'        # Directory in which to cache materialized BDBags for datasets\n",
    "working_dir = 'working'    # Directory in which to place output files for later upload.\n",
    "\n",
    "configuration_rid=\"2-A5KC\"      # Configuration file for this run.  Needs to be changed for each execution."
   ]
  },
  {
   "cell_type": "code",
   "execution_count": 6,
   "metadata": {
    "editable": true,
    "scrolled": true,
    "slideshow": {
     "slide_type": ""
    },
    "tags": []
   },
   "outputs": [
    {
     "name": "stderr",
     "output_type": "stream",
     "text": [
      "2024-04-29 11:00:50,742 - INFO - Creating client of type <class 'globus_sdk.services.auth.client.native_client.NativeAppAuthClient'> for service \"auth\"\n",
      "2024-04-29 11:00:50,742 - INFO - Finished initializing AuthLoginClient. client_id='8ef15ba9-2b4a-469c-a163-7fd910c9d111', type(authorizer)=<class 'globus_sdk.authorizers.base.NullAuthorizer'>\n"
     ]
    },
    {
     "name": "stdout",
     "output_type": "stream",
     "text": [
      " Initializing model version: 1.1.0.post1+git.68f4582d.dirty\n"
     ]
    }
   ],
   "source": [
    "EA = EyeAI(hostname = DEFAULT_SERVER, catalog_id = catalog_id, cache_dir= cache_dir, working_dir=working_dir)\n",
    "print(f\" Initializing model version: {EA.version}\")"
   ]
  },
  {
   "cell_type": "code",
   "execution_count": 7,
   "metadata": {
    "editable": true,
    "id": "kCIfOvbUXTGB",
    "slideshow": {
     "slide_type": ""
    },
    "tags": []
   },
   "outputs": [
    {
     "name": "stderr",
     "output_type": "stream",
     "text": [
      "2024-04-29 11:00:53,362 - INFO - File [working/Execution_Metadata/Execution_Config-diagnosis_insert.json] transfer successful. 0.67 KB transferred. Elapsed time: 0:00:00.000058.\n",
      "2024-04-29 11:00:53,363 - INFO - Verifying SHA256 checksum for downloaded file [working/Execution_Metadata/Execution_Config-diagnosis_insert.json]\n",
      "2024-04-29 11:00:53,388 - INFO - Configuration validation successful!\n",
      "2024-04-29 11:00:54,483 - INFO - Attempting to resolve http://identifiers.org/minid:zTfxqlUm0T9S into a valid set of URLs.\n",
      "2024-04-29 11:00:55,718 - INFO - The identifier minid:zTfxqlUm0T9S resolved into the following locations: [https://eye-ai-shared.s3.amazonaws.com//6656e08709b2f7c0bbed8284fdfb550d/2024-03-20_18.02.51/Dataset_2-7KA2.zip]\n",
      "2024-04-29 11:00:55,721 - INFO - Attempting GET from URL: https://eye-ai-shared.s3.amazonaws.com//6656e08709b2f7c0bbed8284fdfb550d/2024-03-20_18.02.51/Dataset_2-7KA2.zip\n",
      "2024-04-29 11:00:55,848 - INFO - File [/data/2-7KA2_385efaeefabd04cd21e1ef0a4a77e34b50f7f5bf074df7d22e4d51a1142496fc/zTfxqlUm0T9S] transfer complete. 31.577 KB transferred. Elapsed time: 0:00:00.000998.\n",
      "2024-04-29 11:00:55,850 - INFO - Extracting ZIP archived file: /data/2-7KA2_385efaeefabd04cd21e1ef0a4a77e34b50f7f5bf074df7d22e4d51a1142496fc/zTfxqlUm0T9S\n",
      "2024-04-29 11:00:55,858 - INFO - File /data/2-7KA2_385efaeefabd04cd21e1ef0a4a77e34b50f7f5bf074df7d22e4d51a1142496fc/zTfxqlUm0T9S was successfully extracted to directory /data/2-7KA2_385efaeefabd04cd21e1ef0a4a77e34b50f7f5bf074df7d22e4d51a1142496fc/Dataset_2-7KA2\n",
      "2024-04-29 11:00:55,877 - INFO - Checking payload consistency. This can take some time for large bags with many payload files...\n",
      "2024-04-29 11:00:55,912 - INFO - Attempting to resolve remote file references from /data/2-7KA2_385efaeefabd04cd21e1ef0a4a77e34b50f7f5bf074df7d22e4d51a1142496fc/Dataset_2-7KA2/fetch.txt.\n",
      "2024-04-29 11:00:55,925 - INFO - Attempting GET from URL: https://www.eye-ai.org/hatrac/images/scans/subject/399033/observation/703769/image/8669237/592e5be5356a1de8f02456ceec5576e9.JPG\n",
      "2024-04-29 11:00:56,230 - INFO - File [/data/2-7KA2_385efaeefabd04cd21e1ef0a4a77e34b50f7f5bf074df7d22e4d51a1142496fc/Dataset_2-7KA2/data/assets/Image/399033_703769_8669237_Right Field 1.JPG] transfer complete. 639.104 KB transferred. Elapsed time: 0:00:00.003247.\n",
      "2024-04-29 11:00:56,250 - INFO - Attempting GET from URL: https://www.eye-ai.org/hatrac/images/scans/subject/399033/observation/703769/image/8669238/da56b84614fc5d194138f71a92a36f79.JPG\n",
      "2024-04-29 11:00:56,427 - INFO - File [/data/2-7KA2_385efaeefabd04cd21e1ef0a4a77e34b50f7f5bf074df7d22e4d51a1142496fc/Dataset_2-7KA2/data/assets/Image/399033_703769_8669238_Right Field 2.JPG] transfer complete. 628.454 KB transferred. Elapsed time: 0:00:00.001710.\n",
      "2024-04-29 11:00:56,444 - INFO - Attempting GET from URL: https://www.eye-ai.org/hatrac/images/scans/subject/399033/observation/703769/image/8669239/0564e9082089707726a0d755b1e3150f.JPG\n",
      "2024-04-29 11:00:56,700 - INFO - File [/data/2-7KA2_385efaeefabd04cd21e1ef0a4a77e34b50f7f5bf074df7d22e4d51a1142496fc/Dataset_2-7KA2/data/assets/Image/399033_703769_8669239_Right Field 3.JPG] transfer complete. 636.802 KB transferred. Elapsed time: 0:00:00.001765.\n",
      "2024-04-29 11:00:56,717 - INFO - Attempting GET from URL: https://www.eye-ai.org/hatrac/images/scans/subject/399033/observation/703769/image/8669240/865083962cce9917737d4ad686b85f80.JPG\n",
      "2024-04-29 11:00:56,803 - INFO - File [/data/2-7KA2_385efaeefabd04cd21e1ef0a4a77e34b50f7f5bf074df7d22e4d51a1142496fc/Dataset_2-7KA2/data/assets/Image/399033_703769_8669240_Left Field 1.JPG] transfer complete. 660.586 KB transferred. Elapsed time: 0:00:00.001627.\n",
      "2024-04-29 11:00:56,819 - INFO - Attempting GET from URL: https://www.eye-ai.org/hatrac/images/scans/subject/399033/observation/703769/image/8669241/3926c43e09c07617ac44c7ca2a6dcd22.JPG\n",
      "2024-04-29 11:00:56,889 - INFO - File [/data/2-7KA2_385efaeefabd04cd21e1ef0a4a77e34b50f7f5bf074df7d22e4d51a1142496fc/Dataset_2-7KA2/data/assets/Image/399033_703769_8669241_Left Field 2.JPG] transfer complete. 645.344 KB transferred. Elapsed time: 0:00:00.002773.\n",
      "2024-04-29 11:00:56,914 - INFO - Attempting GET from URL: https://www.eye-ai.org/hatrac/images/scans/subject/399033/observation/703769/image/8669242/a8425d247faa5925c18fcc5052a1808b.JPG\n",
      "2024-04-29 11:00:56,999 - INFO - File [/data/2-7KA2_385efaeefabd04cd21e1ef0a4a77e34b50f7f5bf074df7d22e4d51a1142496fc/Dataset_2-7KA2/data/assets/Image/399033_703769_8669242_Left Field 3.JPG] transfer complete. 648.639 KB transferred. Elapsed time: 0:00:00.002333.\n",
      "2024-04-29 11:00:57,016 - INFO - Attempting GET from URL: https://www.eye-ai.org/hatrac/images/scans/subject/428549/observation/1305606/image/13387969/58fd13ed040b5358edb50225a405c910.JPG\n",
      "2024-04-29 11:00:57,089 - INFO - File [/data/2-7KA2_385efaeefabd04cd21e1ef0a4a77e34b50f7f5bf074df7d22e4d51a1142496fc/Dataset_2-7KA2/data/assets/Image/428549_1305606_13387969_Right Field 3.JPG] transfer complete. 388.258 KB transferred. Elapsed time: 0:00:00.000926.\n",
      "2024-04-29 11:00:57,105 - INFO - Attempting GET from URL: https://www.eye-ai.org/hatrac/images/scans/subject/428549/observation/1305606/image/13387970/5b3c980ba3ed96859c558238ed96a7d3.JPG\n",
      "2024-04-29 11:00:57,180 - INFO - File [/data/2-7KA2_385efaeefabd04cd21e1ef0a4a77e34b50f7f5bf074df7d22e4d51a1142496fc/Dataset_2-7KA2/data/assets/Image/428549_1305606_13387970_Right Field 1.JPG] transfer complete. 363.186 KB transferred. Elapsed time: 0:00:00.002981.\n",
      "2024-04-29 11:00:57,196 - INFO - Attempting GET from URL: https://www.eye-ai.org/hatrac/images/scans/subject/428549/observation/1305606/image/13387971/f81834629bfcd5c401c11b4e13407e5b.JPG\n",
      "2024-04-29 11:00:57,299 - INFO - File [/data/2-7KA2_385efaeefabd04cd21e1ef0a4a77e34b50f7f5bf074df7d22e4d51a1142496fc/Dataset_2-7KA2/data/assets/Image/428549_1305606_13387971_Left Field 1.JPG] transfer complete. 356.633 KB transferred. Elapsed time: 0:00:00.000840.\n",
      "2024-04-29 11:00:57,325 - INFO - Attempting GET from URL: https://www.eye-ai.org/hatrac/images/scans/subject/428549/observation/1305606/image/13387973/6ce690a12e791f5c560b276c762493ea.JPG\n",
      "2024-04-29 11:00:57,398 - INFO - File [/data/2-7KA2_385efaeefabd04cd21e1ef0a4a77e34b50f7f5bf074df7d22e4d51a1142496fc/Dataset_2-7KA2/data/assets/Image/428549_1305606_13387973_Right Field 2.JPG] transfer complete. 363.322 KB transferred. Elapsed time: 0:00:00.000940.\n",
      "2024-04-29 11:00:57,413 - INFO - Attempting GET from URL: https://www.eye-ai.org/hatrac/images/scans/subject/428549/observation/1305606/image/13387974/acb1d6e82d3fdbb5e7486e0291fc5426.JPG\n",
      "2024-04-29 11:00:57,497 - INFO - File [/data/2-7KA2_385efaeefabd04cd21e1ef0a4a77e34b50f7f5bf074df7d22e4d51a1142496fc/Dataset_2-7KA2/data/assets/Image/428549_1305606_13387974_Left Field 2.JPG] transfer complete. 380.462 KB transferred. Elapsed time: 0:00:00.001053.\n",
      "2024-04-29 11:00:57,513 - INFO - Attempting GET from URL: https://www.eye-ai.org/hatrac/images/scans/subject/428549/observation/1305606/image/13387975/79592affc8e901b1a761655d63bbcec7.JPG\n",
      "2024-04-29 11:00:57,598 - INFO - File [/data/2-7KA2_385efaeefabd04cd21e1ef0a4a77e34b50f7f5bf074df7d22e4d51a1142496fc/Dataset_2-7KA2/data/assets/Image/428549_1305606_13387975_Left Field 3.JPG] transfer complete. 376.696 KB transferred. Elapsed time: 0:00:00.000999.\n",
      "2024-04-29 11:00:57,614 - INFO - Attempting GET from URL: https://www.eye-ai.org/hatrac/images/scans/subject/552869/observation/763975/image/9144780/d4f5d67ad265f8e259e8cbe2de23dfd5.jpg\n",
      "2024-04-29 11:00:57,695 - INFO - File [/data/2-7KA2_385efaeefabd04cd21e1ef0a4a77e34b50f7f5bf074df7d22e4d51a1142496fc/Dataset_2-7KA2/data/assets/Image/552869_763975_9144780_Left Field 3.jpg] transfer complete. 410.235 KB transferred. Elapsed time: 0:00:00.001448.\n",
      "2024-04-29 11:00:57,721 - INFO - Attempting GET from URL: https://www.eye-ai.org/hatrac/images/scans/subject/552869/observation/763975/image/9144781/e522ce97fc78ca8a6ce385dc7e76bdcd.jpg\n",
      "2024-04-29 11:00:57,803 - INFO - File [/data/2-7KA2_385efaeefabd04cd21e1ef0a4a77e34b50f7f5bf074df7d22e4d51a1142496fc/Dataset_2-7KA2/data/assets/Image/552869_763975_9144781_Left Field 1.jpg] transfer complete. 463.901 KB transferred. Elapsed time: 0:00:00.001015.\n",
      "2024-04-29 11:00:57,819 - INFO - Attempting GET from URL: https://www.eye-ai.org/hatrac/images/scans/subject/552869/observation/763975/image/9144782/a737536761d8c43c232c829dfacf818d.jpg\n",
      "2024-04-29 11:00:57,921 - INFO - File [/data/2-7KA2_385efaeefabd04cd21e1ef0a4a77e34b50f7f5bf074df7d22e4d51a1142496fc/Dataset_2-7KA2/data/assets/Image/552869_763975_9144782_Left Field 2.jpg] transfer complete. 442.009 KB transferred. Elapsed time: 0:00:00.001418.\n",
      "2024-04-29 11:00:57,936 - INFO - Attempting GET from URL: https://www.eye-ai.org/hatrac/images/scans/subject/552869/observation/763975/image/9144783/985ba9de444ed5d25dd1a5b8863b2fab.jpg\n",
      "2024-04-29 11:00:58,017 - INFO - File [/data/2-7KA2_385efaeefabd04cd21e1ef0a4a77e34b50f7f5bf074df7d22e4d51a1142496fc/Dataset_2-7KA2/data/assets/Image/552869_763975_9144783_Right Field 1.jpg] transfer complete. 466.391 KB transferred. Elapsed time: 0:00:00.001255.\n",
      "2024-04-29 11:00:58,036 - INFO - Attempting GET from URL: https://www.eye-ai.org/hatrac/images/scans/subject/552869/observation/763975/image/9144784/ce4f9685d77b0559634c97c1f49d98f6.jpg\n",
      "2024-04-29 11:00:58,126 - INFO - File [/data/2-7KA2_385efaeefabd04cd21e1ef0a4a77e34b50f7f5bf074df7d22e4d51a1142496fc/Dataset_2-7KA2/data/assets/Image/552869_763975_9144784_Right Field 3.jpg] transfer complete. 503.997 KB transferred. Elapsed time: 0:00:00.001161.\n",
      "2024-04-29 11:00:58,149 - INFO - Attempting GET from URL: https://www.eye-ai.org/hatrac/images/scans/subject/552869/observation/763975/image/9144787/4d1e23d157579dbf3e3149f7e733270d.jpg\n",
      "2024-04-29 11:00:58,249 - INFO - File [/data/2-7KA2_385efaeefabd04cd21e1ef0a4a77e34b50f7f5bf074df7d22e4d51a1142496fc/Dataset_2-7KA2/data/assets/Image/552869_763975_9144787_Right Field 2.jpg] transfer complete. 433.058 KB transferred. Elapsed time: 0:00:00.000991.\n",
      "2024-04-29 11:00:58,265 - INFO - Attempting GET from URL: https://www.eye-ai.org/hatrac/images/scans/subject/598644/observation/1021876/image/11184948/84238c7ac2f244294fc0f892805e7e41.JPG\n",
      "2024-04-29 11:00:58,339 - INFO - File [/data/2-7KA2_385efaeefabd04cd21e1ef0a4a77e34b50f7f5bf074df7d22e4d51a1142496fc/Dataset_2-7KA2/data/assets/Image/598644_1021876_11184948_Left Field 3.JPG] transfer complete. 130.369 KB transferred. Elapsed time: 0:00:00.000313.\n",
      "2024-04-29 11:00:58,354 - INFO - Attempting GET from URL: https://www.eye-ai.org/hatrac/images/scans/subject/598644/observation/1021876/image/11184949/d0c5caa0d4921ece933ce538af0b958f.JPG\n",
      "2024-04-29 11:00:58,428 - INFO - File [/data/2-7KA2_385efaeefabd04cd21e1ef0a4a77e34b50f7f5bf074df7d22e4d51a1142496fc/Dataset_2-7KA2/data/assets/Image/598644_1021876_11184949_Right Field 2.JPG] transfer complete. 138.231 KB transferred. Elapsed time: 0:00:00.000399.\n",
      "2024-04-29 11:00:58,446 - INFO - Attempting GET from URL: https://www.eye-ai.org/hatrac/images/scans/subject/598644/observation/1021876/image/11184950/34bebb17bab7d9dbb246f05a98591ea7.JPG\n",
      "2024-04-29 11:00:58,525 - INFO - File [/data/2-7KA2_385efaeefabd04cd21e1ef0a4a77e34b50f7f5bf074df7d22e4d51a1142496fc/Dataset_2-7KA2/data/assets/Image/598644_1021876_11184950_Left Field 2.JPG] transfer complete. 139.746 KB transferred. Elapsed time: 0:00:00.000486.\n",
      "2024-04-29 11:00:58,540 - INFO - Attempting GET from URL: https://www.eye-ai.org/hatrac/images/scans/subject/598644/observation/1021876/image/11184951/0510c6a0bb0841c989a00bbb49252b98.JPG\n",
      "2024-04-29 11:00:58,614 - INFO - File [/data/2-7KA2_385efaeefabd04cd21e1ef0a4a77e34b50f7f5bf074df7d22e4d51a1142496fc/Dataset_2-7KA2/data/assets/Image/598644_1021876_11184951_Left Field 1.JPG] transfer complete. 140.804 KB transferred. Elapsed time: 0:00:00.000367.\n",
      "2024-04-29 11:00:58,635 - INFO - Attempting GET from URL: https://www.eye-ai.org/hatrac/images/scans/subject/598644/observation/1021876/image/11184952/b4755f028154e37e11f9ce94cb3ebe05.JPG\n",
      "2024-04-29 11:00:58,725 - INFO - File [/data/2-7KA2_385efaeefabd04cd21e1ef0a4a77e34b50f7f5bf074df7d22e4d51a1142496fc/Dataset_2-7KA2/data/assets/Image/598644_1021876_11184952_Right Field 3.JPG] transfer complete. 144.592 KB transferred. Elapsed time: 0:00:00.000335.\n",
      "2024-04-29 11:00:58,761 - INFO - Attempting GET from URL: https://www.eye-ai.org/hatrac/images/scans/subject/598644/observation/1021876/image/11184953/770e57fa5c028449302587393b128e18.JPG\n",
      "2024-04-29 11:00:58,854 - INFO - File [/data/2-7KA2_385efaeefabd04cd21e1ef0a4a77e34b50f7f5bf074df7d22e4d51a1142496fc/Dataset_2-7KA2/data/assets/Image/598644_1021876_11184953_Right Field 1.JPG] transfer complete. 141.707 KB transferred. Elapsed time: 0:00:00.000393.\n",
      "2024-04-29 11:00:58,875 - INFO - Attempting GET from URL: https://www.eye-ai.org/hatrac/images/scans/subject/598644/observation/824484/image/9619599/9b459920930278a24bc7bfcff474af4e.JPG\n",
      "2024-04-29 11:00:58,966 - INFO - File [/data/2-7KA2_385efaeefabd04cd21e1ef0a4a77e34b50f7f5bf074df7d22e4d51a1142496fc/Dataset_2-7KA2/data/assets/Image/598644_824484_9619599_Right Field 1.JPG] transfer complete. 147.499 KB transferred. Elapsed time: 0:00:00.000320.\n",
      "2024-04-29 11:00:58,981 - INFO - Attempting GET from URL: https://www.eye-ai.org/hatrac/images/scans/subject/598644/observation/824484/image/9619600/3281d3408932cf48b38de9a61d78a0c9.JPG\n",
      "2024-04-29 11:00:59,061 - INFO - File [/data/2-7KA2_385efaeefabd04cd21e1ef0a4a77e34b50f7f5bf074df7d22e4d51a1142496fc/Dataset_2-7KA2/data/assets/Image/598644_824484_9619600_Right Field 3.JPG] transfer complete. 147.809 KB transferred. Elapsed time: 0:00:00.000306.\n",
      "2024-04-29 11:00:59,075 - INFO - Attempting GET from URL: https://www.eye-ai.org/hatrac/images/scans/subject/598644/observation/824484/image/9619601/33c6259d7a173130f20d7b94e49e818c.JPG\n",
      "2024-04-29 11:00:59,154 - INFO - File [/data/2-7KA2_385efaeefabd04cd21e1ef0a4a77e34b50f7f5bf074df7d22e4d51a1142496fc/Dataset_2-7KA2/data/assets/Image/598644_824484_9619601_Right Field 2.JPG] transfer complete. 150.577 KB transferred. Elapsed time: 0:00:00.000379.\n",
      "2024-04-29 11:00:59,171 - INFO - Attempting GET from URL: https://www.eye-ai.org/hatrac/images/scans/subject/598644/observation/824484/image/9619602/7e5636b0a47226734eed838260dae578.JPG\n",
      "2024-04-29 11:00:59,272 - INFO - File [/data/2-7KA2_385efaeefabd04cd21e1ef0a4a77e34b50f7f5bf074df7d22e4d51a1142496fc/Dataset_2-7KA2/data/assets/Image/598644_824484_9619602_Left Field 1.JPG] transfer complete. 144.621 KB transferred. Elapsed time: 0:00:00.000314.\n",
      "2024-04-29 11:00:59,291 - INFO - Attempting GET from URL: https://www.eye-ai.org/hatrac/images/scans/subject/598644/observation/824484/image/9619604/6cdac08fd3e86c094c0e3cebb5e7e68f.JPG\n",
      "2024-04-29 11:00:59,372 - INFO - File [/data/2-7KA2_385efaeefabd04cd21e1ef0a4a77e34b50f7f5bf074df7d22e4d51a1142496fc/Dataset_2-7KA2/data/assets/Image/598644_824484_9619604_Left Field 2.JPG] transfer complete. 145.549 KB transferred. Elapsed time: 0:00:00.000553.\n",
      "2024-04-29 11:00:59,403 - INFO - Attempting GET from URL: https://www.eye-ai.org/hatrac/images/scans/subject/598644/observation/824484/image/9619605/afb27553216ab4a53abfdaeefe51705b.JPG\n",
      "2024-04-29 11:00:59,484 - INFO - File [/data/2-7KA2_385efaeefabd04cd21e1ef0a4a77e34b50f7f5bf074df7d22e4d51a1142496fc/Dataset_2-7KA2/data/assets/Image/598644_824484_9619605_Left Field 3.JPG] transfer complete. 138.698 KB transferred. Elapsed time: 0:00:00.000337.\n",
      "2024-04-29 11:00:59,539 - INFO - Attempting GET from URL: https://www.eye-ai.org/hatrac/images/scans/subject/612937/observation/844349/image/9772227/d2583773434f6612ef9380f165c349ea.jpg\n",
      "2024-04-29 11:00:59,612 - INFO - File [/data/2-7KA2_385efaeefabd04cd21e1ef0a4a77e34b50f7f5bf074df7d22e4d51a1142496fc/Dataset_2-7KA2/data/assets/Image/612937_844349_9772227_Left Field 2.jpg] transfer complete. 651.144 KB transferred. Elapsed time: 0:00:00.002710.\n",
      "2024-04-29 11:00:59,630 - INFO - Attempting GET from URL: https://www.eye-ai.org/hatrac/images/scans/subject/612937/observation/844349/image/9772228/4a18a4baa32f8c7743125b15e88557a2.jpg\n",
      "2024-04-29 11:00:59,712 - INFO - File [/data/2-7KA2_385efaeefabd04cd21e1ef0a4a77e34b50f7f5bf074df7d22e4d51a1142496fc/Dataset_2-7KA2/data/assets/Image/612937_844349_9772228_Right Field 2.jpg] transfer complete. 541.652 KB transferred. Elapsed time: 0:00:00.001388.\n",
      "2024-04-29 11:00:59,733 - INFO - Attempting GET from URL: https://www.eye-ai.org/hatrac/images/scans/subject/612937/observation/844349/image/9772230/69049e84e136e3e15d54e6f1c62c2c77.jpg\n",
      "2024-04-29 11:00:59,826 - INFO - File [/data/2-7KA2_385efaeefabd04cd21e1ef0a4a77e34b50f7f5bf074df7d22e4d51a1142496fc/Dataset_2-7KA2/data/assets/Image/612937_844349_9772230_Left Field 3.jpg] transfer complete. 609.450 KB transferred. Elapsed time: 0:00:00.001802.\n",
      "2024-04-29 11:00:59,843 - INFO - Attempting GET from URL: https://www.eye-ai.org/hatrac/images/scans/subject/612937/observation/844349/image/9772231/fc4bcbc2592e05181ad202e839c1989e.jpg\n",
      "2024-04-29 11:00:59,933 - INFO - File [/data/2-7KA2_385efaeefabd04cd21e1ef0a4a77e34b50f7f5bf074df7d22e4d51a1142496fc/Dataset_2-7KA2/data/assets/Image/612937_844349_9772231_Left Field 1.jpg] transfer complete. 635.874 KB transferred. Elapsed time: 0:00:00.002224.\n",
      "2024-04-29 11:00:59,950 - INFO - Attempting GET from URL: https://www.eye-ai.org/hatrac/images/scans/subject/612937/observation/844349/image/9772232/916e0626a4ecb620bd922b4e49055e82.jpg\n",
      "2024-04-29 11:01:00,039 - INFO - File [/data/2-7KA2_385efaeefabd04cd21e1ef0a4a77e34b50f7f5bf074df7d22e4d51a1142496fc/Dataset_2-7KA2/data/assets/Image/612937_844349_9772232_Right Field 3.jpg] transfer complete. 593.409 KB transferred. Elapsed time: 0:00:00.003650.\n",
      "2024-04-29 11:01:00,057 - INFO - Attempting GET from URL: https://www.eye-ai.org/hatrac/images/scans/subject/612937/observation/844349/image/9772233/f91e38a73b74b599344af1f93f1f4e5d.jpg\n",
      "2024-04-29 11:01:00,138 - INFO - File [/data/2-7KA2_385efaeefabd04cd21e1ef0a4a77e34b50f7f5bf074df7d22e4d51a1142496fc/Dataset_2-7KA2/data/assets/Image/612937_844349_9772233_Right Field 1.jpg] transfer complete. 605.958 KB transferred. Elapsed time: 0:00:00.006468.\n",
      "2024-04-29 11:01:00,156 - INFO - Attempting GET from URL: https://www.eye-ai.org/hatrac/images/scans/subject/684555/observation/950526/image/10609121/438aa4adb857906b2ef8a8d7d4bda801.jpg\n",
      "2024-04-29 11:01:00,246 - INFO - File [/data/2-7KA2_385efaeefabd04cd21e1ef0a4a77e34b50f7f5bf074df7d22e4d51a1142496fc/Dataset_2-7KA2/data/assets/Image/684555_950526_10609121_Right Field 2.jpg] transfer complete. 313.634 KB transferred. Elapsed time: 0:00:00.000799.\n",
      "2024-04-29 11:01:00,273 - INFO - Attempting GET from URL: https://www.eye-ai.org/hatrac/images/scans/subject/684555/observation/950526/image/10609122/c09dc42f3b46461eb846710507f0a5e0.jpg\n",
      "2024-04-29 11:01:00,344 - INFO - File [/data/2-7KA2_385efaeefabd04cd21e1ef0a4a77e34b50f7f5bf074df7d22e4d51a1142496fc/Dataset_2-7KA2/data/assets/Image/684555_950526_10609122_Right Field 3.jpg] transfer complete. 330.588 KB transferred. Elapsed time: 0:00:00.000724.\n",
      "2024-04-29 11:01:00,359 - INFO - Attempting GET from URL: https://www.eye-ai.org/hatrac/images/scans/subject/684555/observation/950526/image/10609124/c31b3d2cfbf3e0414fa235dad4430f6d.jpg\n",
      "2024-04-29 11:01:00,419 - INFO - File [/data/2-7KA2_385efaeefabd04cd21e1ef0a4a77e34b50f7f5bf074df7d22e4d51a1142496fc/Dataset_2-7KA2/data/assets/Image/684555_950526_10609124_Left Field 3.jpg] transfer complete. 351.009 KB transferred. Elapsed time: 0:00:00.000881.\n",
      "2024-04-29 11:01:00,443 - INFO - Attempting GET from URL: https://www.eye-ai.org/hatrac/images/scans/subject/684555/observation/950526/image/10609125/f174a00325cd09f1aee072ac4118099b.jpg\n",
      "2024-04-29 11:01:00,519 - INFO - File [/data/2-7KA2_385efaeefabd04cd21e1ef0a4a77e34b50f7f5bf074df7d22e4d51a1142496fc/Dataset_2-7KA2/data/assets/Image/684555_950526_10609125_Left Field 2.jpg] transfer complete. 353.573 KB transferred. Elapsed time: 0:00:00.000717.\n",
      "2024-04-29 11:01:00,534 - INFO - Attempting GET from URL: https://www.eye-ai.org/hatrac/images/scans/subject/684555/observation/950526/image/10609127/967193fd047fbf25983f08f92967c26b.jpg\n",
      "2024-04-29 11:01:00,613 - INFO - File [/data/2-7KA2_385efaeefabd04cd21e1ef0a4a77e34b50f7f5bf074df7d22e4d51a1142496fc/Dataset_2-7KA2/data/assets/Image/684555_950526_10609127_Left Field 1.jpg] transfer complete. 346.880 KB transferred. Elapsed time: 0:00:00.000759.\n",
      "2024-04-29 11:01:00,628 - INFO - Attempting GET from URL: https://www.eye-ai.org/hatrac/images/scans/subject/684555/observation/950526/image/10609128/3f2000b99790037c3ddf0e63f7fb1275.jpg\n",
      "2024-04-29 11:01:00,709 - INFO - File [/data/2-7KA2_385efaeefabd04cd21e1ef0a4a77e34b50f7f5bf074df7d22e4d51a1142496fc/Dataset_2-7KA2/data/assets/Image/684555_950526_10609128_Right Field 1.jpg] transfer complete. 335.669 KB transferred. Elapsed time: 0:00:00.001092.\n",
      "2024-04-29 11:01:00,725 - INFO - Attempting GET from URL: https://www.eye-ai.org/hatrac/images/scans/subject/696040/observation/1125153/image/12014103/43285e35096e6a14540f1ce8d5b88173.jpg\n",
      "2024-04-29 11:01:00,852 - INFO - File [/data/2-7KA2_385efaeefabd04cd21e1ef0a4a77e34b50f7f5bf074df7d22e4d51a1142496fc/Dataset_2-7KA2/data/assets/Image/696040_1125153_12014103_Left Field 2.jpg] transfer complete. 688.799 KB transferred. Elapsed time: 0:00:00.001460.\n",
      "2024-04-29 11:01:00,868 - INFO - Attempting GET from URL: https://www.eye-ai.org/hatrac/images/scans/subject/696040/observation/1125153/image/12014104/aa1d8608c5d6880ce5dd1a3537cedfdc.jpg\n",
      "2024-04-29 11:01:00,952 - INFO - File [/data/2-7KA2_385efaeefabd04cd21e1ef0a4a77e34b50f7f5bf074df7d22e4d51a1142496fc/Dataset_2-7KA2/data/assets/Image/696040_1125153_12014104_Left Field 3.jpg] transfer complete. 628.528 KB transferred. Elapsed time: 0:00:00.001548.\n",
      "2024-04-29 11:01:00,966 - INFO - Attempting GET from URL: https://www.eye-ai.org/hatrac/images/scans/subject/696040/observation/1125153/image/12014105/88e6969c7a44af9b304e701cb96aae26.jpg\n",
      "2024-04-29 11:01:01,069 - INFO - File [/data/2-7KA2_385efaeefabd04cd21e1ef0a4a77e34b50f7f5bf074df7d22e4d51a1142496fc/Dataset_2-7KA2/data/assets/Image/696040_1125153_12014105_Right Field 2.jpg] transfer complete. 686.377 KB transferred. Elapsed time: 0:00:00.001581.\n",
      "2024-04-29 11:01:01,084 - INFO - Attempting GET from URL: https://www.eye-ai.org/hatrac/images/scans/subject/696040/observation/1125153/image/12014106/41f2a2eead088af4c482c2c24b188afc.jpg\n",
      "2024-04-29 11:01:01,199 - INFO - File [/data/2-7KA2_385efaeefabd04cd21e1ef0a4a77e34b50f7f5bf074df7d22e4d51a1142496fc/Dataset_2-7KA2/data/assets/Image/696040_1125153_12014106_Right Field 3.jpg] transfer complete. 643.462 KB transferred. Elapsed time: 0:00:00.001470.\n",
      "2024-04-29 11:01:01,214 - INFO - Attempting GET from URL: https://www.eye-ai.org/hatrac/images/scans/subject/696040/observation/1125153/image/12014107/7293d77ffb193d1fa372d7289434e9b0.jpg\n",
      "2024-04-29 11:01:01,318 - INFO - File [/data/2-7KA2_385efaeefabd04cd21e1ef0a4a77e34b50f7f5bf074df7d22e4d51a1142496fc/Dataset_2-7KA2/data/assets/Image/696040_1125153_12014107_Left Field 1.jpg] transfer complete. 688.216 KB transferred. Elapsed time: 0:00:00.001538.\n",
      "2024-04-29 11:01:01,333 - INFO - Attempting GET from URL: https://www.eye-ai.org/hatrac/images/scans/subject/696040/observation/1125153/image/12014108/fa2695d462b36bada9c224693636eafb.jpg\n",
      "2024-04-29 11:01:01,468 - INFO - File [/data/2-7KA2_385efaeefabd04cd21e1ef0a4a77e34b50f7f5bf074df7d22e4d51a1142496fc/Dataset_2-7KA2/data/assets/Image/696040_1125153_12014108_Right Field 1.jpg] transfer complete. 696.605 KB transferred. Elapsed time: 0:00:00.001646.\n",
      "2024-04-29 11:01:01,492 - INFO - Attempting GET from URL: https://www.eye-ai.org/hatrac/images/scans/subject/696040/observation/967596/image/10744912/23f8d0c98f6b13930b800630f04a7732.jpg\n",
      "2024-04-29 11:01:01,634 - INFO - File [/data/2-7KA2_385efaeefabd04cd21e1ef0a4a77e34b50f7f5bf074df7d22e4d51a1142496fc/Dataset_2-7KA2/data/assets/Image/696040_967596_10744912_Right Field 3.jpg] transfer complete. 593.289 KB transferred. Elapsed time: 0:00:00.001540.\n",
      "2024-04-29 11:01:01,653 - INFO - Attempting GET from URL: https://www.eye-ai.org/hatrac/images/scans/subject/696040/observation/967596/image/10744913/3f2b4ecbe2a4e2011779fa126a2bbeb1.jpg\n",
      "2024-04-29 11:01:01,758 - INFO - File [/data/2-7KA2_385efaeefabd04cd21e1ef0a4a77e34b50f7f5bf074df7d22e4d51a1142496fc/Dataset_2-7KA2/data/assets/Image/696040_967596_10744913_Left Field 1.jpg] transfer complete. 621.027 KB transferred. Elapsed time: 0:00:00.002078.\n",
      "2024-04-29 11:01:01,793 - INFO - Attempting GET from URL: https://www.eye-ai.org/hatrac/images/scans/subject/696040/observation/967596/image/10744914/43fae09608ec194b475e5d44f4c7d23b.jpg\n",
      "2024-04-29 11:01:01,881 - INFO - File [/data/2-7KA2_385efaeefabd04cd21e1ef0a4a77e34b50f7f5bf074df7d22e4d51a1142496fc/Dataset_2-7KA2/data/assets/Image/696040_967596_10744914_Right Field 1.jpg] transfer complete. 651.566 KB transferred. Elapsed time: 0:00:00.002552.\n",
      "2024-04-29 11:01:01,908 - INFO - Attempting GET from URL: https://www.eye-ai.org/hatrac/images/scans/subject/696040/observation/967596/image/10744915/ad23ac6270cff974ee42e18c73d75ba1.jpg\n",
      "2024-04-29 11:01:02,020 - INFO - File [/data/2-7KA2_385efaeefabd04cd21e1ef0a4a77e34b50f7f5bf074df7d22e4d51a1142496fc/Dataset_2-7KA2/data/assets/Image/696040_967596_10744915_Left Field 2.jpg] transfer complete. 650.988 KB transferred. Elapsed time: 0:00:00.006199.\n",
      "2024-04-29 11:01:02,057 - INFO - Attempting GET from URL: https://www.eye-ai.org/hatrac/images/scans/subject/696040/observation/967596/image/10744916/542841ee62a8298b69159377ca43e3e6.jpg\n",
      "2024-04-29 11:01:02,219 - INFO - File [/data/2-7KA2_385efaeefabd04cd21e1ef0a4a77e34b50f7f5bf074df7d22e4d51a1142496fc/Dataset_2-7KA2/data/assets/Image/696040_967596_10744916_Left Field 3.jpg] transfer complete. 595.468 KB transferred. Elapsed time: 0:00:00.004969.\n",
      "2024-04-29 11:01:02,259 - INFO - Attempting GET from URL: https://www.eye-ai.org/hatrac/images/scans/subject/696040/observation/967596/image/10744917/6982f2b6672115dc2024c8acfa9479f0.jpg\n",
      "2024-04-29 11:01:02,369 - INFO - File [/data/2-7KA2_385efaeefabd04cd21e1ef0a4a77e34b50f7f5bf074df7d22e4d51a1142496fc/Dataset_2-7KA2/data/assets/Image/696040_967596_10744917_Right Field 2.jpg] transfer complete. 649.941 KB transferred. Elapsed time: 0:00:00.001753.\n",
      "2024-04-29 11:01:02,386 - INFO - Attempting GET from URL: https://www.eye-ai.org/hatrac/images/scans/subject/728768/observation/1018796/image/11160128/f614253fcd45ce9c4777a2a3b48d2a04.jpg\n",
      "2024-04-29 11:01:02,513 - INFO - File [/data/2-7KA2_385efaeefabd04cd21e1ef0a4a77e34b50f7f5bf074df7d22e4d51a1142496fc/Dataset_2-7KA2/data/assets/Image/728768_1018796_11160128_Left Field 3.jpg] transfer complete. 410.330 KB transferred. Elapsed time: 0:00:00.000978.\n",
      "2024-04-29 11:01:02,532 - INFO - Attempting GET from URL: https://www.eye-ai.org/hatrac/images/scans/subject/728768/observation/1018796/image/11160130/d7dd62d2a7087b315f0594a9aab44e5f.jpg\n",
      "2024-04-29 11:01:02,747 - INFO - File [/data/2-7KA2_385efaeefabd04cd21e1ef0a4a77e34b50f7f5bf074df7d22e4d51a1142496fc/Dataset_2-7KA2/data/assets/Image/728768_1018796_11160130_Right Field 3.jpg] transfer complete. 424.756 KB transferred. Elapsed time: 0:00:00.001095.\n",
      "2024-04-29 11:01:02,764 - INFO - Attempting GET from URL: https://www.eye-ai.org/hatrac/images/scans/subject/728768/observation/1018796/image/11160131/e1d1c2f0b8a00d7fe5dbef10cdde4d1e.jpg\n",
      "2024-04-29 11:01:02,834 - INFO - File [/data/2-7KA2_385efaeefabd04cd21e1ef0a4a77e34b50f7f5bf074df7d22e4d51a1142496fc/Dataset_2-7KA2/data/assets/Image/728768_1018796_11160131_Left Field 2.jpg] transfer complete. 424.310 KB transferred. Elapsed time: 0:00:00.000923.\n",
      "2024-04-29 11:01:02,850 - INFO - Attempting GET from URL: https://www.eye-ai.org/hatrac/images/scans/subject/728768/observation/1018796/image/11160132/6ddc76041e9c3c5de6ac501d8adbb4ca.jpg\n",
      "2024-04-29 11:01:02,930 - INFO - File [/data/2-7KA2_385efaeefabd04cd21e1ef0a4a77e34b50f7f5bf074df7d22e4d51a1142496fc/Dataset_2-7KA2/data/assets/Image/728768_1018796_11160132_Left Field 1.jpg] transfer complete. 428.876 KB transferred. Elapsed time: 0:00:00.000841.\n",
      "2024-04-29 11:01:02,951 - INFO - Attempting GET from URL: https://www.eye-ai.org/hatrac/images/scans/subject/728768/observation/1018796/image/11160134/fa22be4f87db5dfcf09985fe77a975ab.jpg\n",
      "2024-04-29 11:01:03,021 - INFO - File [/data/2-7KA2_385efaeefabd04cd21e1ef0a4a77e34b50f7f5bf074df7d22e4d51a1142496fc/Dataset_2-7KA2/data/assets/Image/728768_1018796_11160134_Right Field 1.jpg] transfer complete. 437.773 KB transferred. Elapsed time: 0:00:00.000877.\n",
      "2024-04-29 11:01:03,046 - INFO - Attempting GET from URL: https://www.eye-ai.org/hatrac/images/scans/subject/728768/observation/1018796/image/11160135/0cf9011ef1c63234ea5c66e146d2dde0.jpg\n",
      "2024-04-29 11:01:03,118 - INFO - File [/data/2-7KA2_385efaeefabd04cd21e1ef0a4a77e34b50f7f5bf074df7d22e4d51a1142496fc/Dataset_2-7KA2/data/assets/Image/728768_1018796_11160135_Right Field 2.jpg] transfer complete. 437.295 KB transferred. Elapsed time: 0:00:00.001300.\n",
      "2024-04-29 11:01:03,136 - INFO - Attempting GET from URL: https://www.eye-ai.org/hatrac/images/scans/subject/822792/observation/1165080/image/12329056/a56c8f2cffd8e5554aeb7836f3b2ebc1.jpg\n",
      "2024-04-29 11:01:03,212 - INFO - File [/data/2-7KA2_385efaeefabd04cd21e1ef0a4a77e34b50f7f5bf074df7d22e4d51a1142496fc/Dataset_2-7KA2/data/assets/Image/822792_1165080_12329056_Left Field 3.jpg] transfer complete. 293.994 KB transferred. Elapsed time: 0:00:00.000701.\n",
      "2024-04-29 11:01:03,233 - INFO - Attempting GET from URL: https://www.eye-ai.org/hatrac/images/scans/subject/822792/observation/1165080/image/12329057/d3d29387bfffbc44399d9495495c5204.jpg\n",
      "2024-04-29 11:01:03,335 - INFO - File [/data/2-7KA2_385efaeefabd04cd21e1ef0a4a77e34b50f7f5bf074df7d22e4d51a1142496fc/Dataset_2-7KA2/data/assets/Image/822792_1165080_12329057_Left Field 1.jpg] transfer complete. 381.941 KB transferred. Elapsed time: 0:00:00.000748.\n",
      "2024-04-29 11:01:03,352 - INFO - Attempting GET from URL: https://www.eye-ai.org/hatrac/images/scans/subject/822792/observation/1165080/image/12329058/35f62b3d375e778f1894e597e3e7c861.jpg\n",
      "2024-04-29 11:01:03,472 - INFO - File [/data/2-7KA2_385efaeefabd04cd21e1ef0a4a77e34b50f7f5bf074df7d22e4d51a1142496fc/Dataset_2-7KA2/data/assets/Image/822792_1165080_12329058_Left Field 2.jpg] transfer complete. 343.495 KB transferred. Elapsed time: 0:00:00.000766.\n",
      "2024-04-29 11:01:03,492 - INFO - Attempting GET from URL: https://www.eye-ai.org/hatrac/images/scans/subject/822792/observation/1165080/image/12329059/1c517f2f72ed10b1b99c3c404f9f8664.jpg\n",
      "2024-04-29 11:01:03,582 - INFO - File [/data/2-7KA2_385efaeefabd04cd21e1ef0a4a77e34b50f7f5bf074df7d22e4d51a1142496fc/Dataset_2-7KA2/data/assets/Image/822792_1165080_12329059_Right Field 1.jpg] transfer complete. 347.035 KB transferred. Elapsed time: 0:00:00.000831.\n",
      "2024-04-29 11:01:03,597 - INFO - Attempting GET from URL: https://www.eye-ai.org/hatrac/images/scans/subject/822792/observation/1165080/image/12329060/8fb61ad35c9b408bba163eb5d7a1d087.jpg\n",
      "2024-04-29 11:01:03,686 - INFO - File [/data/2-7KA2_385efaeefabd04cd21e1ef0a4a77e34b50f7f5bf074df7d22e4d51a1142496fc/Dataset_2-7KA2/data/assets/Image/822792_1165080_12329060_Right Field 2.jpg] transfer complete. 323.626 KB transferred. Elapsed time: 0:00:00.000777.\n",
      "2024-04-29 11:01:03,705 - INFO - Attempting GET from URL: https://www.eye-ai.org/hatrac/images/scans/subject/822792/observation/1165080/image/12329061/00165e93e845a8c43e83d9e6728262c8.jpg\n",
      "2024-04-29 11:01:03,824 - INFO - File [/data/2-7KA2_385efaeefabd04cd21e1ef0a4a77e34b50f7f5bf074df7d22e4d51a1142496fc/Dataset_2-7KA2/data/assets/Image/822792_1165080_12329061_Right Field 3.jpg] transfer complete. 329.880 KB transferred. Elapsed time: 0:00:00.001568.\n",
      "2024-04-29 11:01:03,841 - INFO - Attempting GET from URL: https://www.eye-ai.org/hatrac/images/scans/subject/852885/observation/1213628/image/12701283/d751f80a8f3a5e25d9ef76aa6aa29a33.JPG\n",
      "2024-04-29 11:01:03,913 - INFO - File [/data/2-7KA2_385efaeefabd04cd21e1ef0a4a77e34b50f7f5bf074df7d22e4d51a1142496fc/Dataset_2-7KA2/data/assets/Image/852885_1213628_12701283_Right Field 1.JPG] transfer complete. 239.960 KB transferred. Elapsed time: 0:00:00.001156.\n",
      "2024-04-29 11:01:03,933 - INFO - Attempting GET from URL: https://www.eye-ai.org/hatrac/images/scans/subject/852885/observation/1213628/image/12701284/5d61e0faed9a84303dc1a532cdaca3df.JPG\n",
      "2024-04-29 11:01:04,054 - INFO - File [/data/2-7KA2_385efaeefabd04cd21e1ef0a4a77e34b50f7f5bf074df7d22e4d51a1142496fc/Dataset_2-7KA2/data/assets/Image/852885_1213628_12701284_Left Field 1.JPG] transfer complete. 235.754 KB transferred. Elapsed time: 0:00:00.000473.\n",
      "2024-04-29 11:01:04,073 - INFO - Attempting GET from URL: https://www.eye-ai.org/hatrac/images/scans/subject/852885/observation/1213628/image/12701285/7677716d924cb5f38367b8cf65f4eb75.JPG\n",
      "2024-04-29 11:01:04,141 - INFO - File [/data/2-7KA2_385efaeefabd04cd21e1ef0a4a77e34b50f7f5bf074df7d22e4d51a1142496fc/Dataset_2-7KA2/data/assets/Image/852885_1213628_12701285_Right Field 3.JPG] transfer complete. 242.041 KB transferred. Elapsed time: 0:00:00.000596.\n",
      "2024-04-29 11:01:04,156 - INFO - Attempting GET from URL: https://www.eye-ai.org/hatrac/images/scans/subject/852885/observation/1213628/image/12701286/ea4ea4495bc5972c1bd2662b32d57da8.JPG\n",
      "2024-04-29 11:01:04,218 - INFO - File [/data/2-7KA2_385efaeefabd04cd21e1ef0a4a77e34b50f7f5bf074df7d22e4d51a1142496fc/Dataset_2-7KA2/data/assets/Image/852885_1213628_12701286_Right Field 2.JPG] transfer complete. 272.607 KB transferred. Elapsed time: 0:00:00.000536.\n",
      "2024-04-29 11:01:04,234 - INFO - Attempting GET from URL: https://www.eye-ai.org/hatrac/images/scans/subject/852885/observation/1213628/image/12701289/57218ace8e45565f48f4dd636601286b.JPG\n",
      "2024-04-29 11:01:04,319 - INFO - File [/data/2-7KA2_385efaeefabd04cd21e1ef0a4a77e34b50f7f5bf074df7d22e4d51a1142496fc/Dataset_2-7KA2/data/assets/Image/852885_1213628_12701289_Left Field 3.JPG] transfer complete. 222.849 KB transferred. Elapsed time: 0:00:00.001019.\n",
      "2024-04-29 11:01:04,335 - INFO - Attempting GET from URL: https://www.eye-ai.org/hatrac/images/scans/subject/852885/observation/1213628/image/12701290/11f7889f481d854c4b78d0bdab8f69b0.JPG\n",
      "2024-04-29 11:01:04,466 - INFO - File [/data/2-7KA2_385efaeefabd04cd21e1ef0a4a77e34b50f7f5bf074df7d22e4d51a1142496fc/Dataset_2-7KA2/data/assets/Image/852885_1213628_12701290_Left Field 2.JPG] transfer complete. 227.737 KB transferred. Elapsed time: 0:00:00.000500.\n",
      "2024-04-29 11:01:04,495 - INFO - Attempting GET from URL: https://www.eye-ai.org/hatrac/images/scans/subject/894955/observation/1281759/image/13223151/f00194687533636c44dfe9f90f9500e7.jpg\n",
      "2024-04-29 11:01:04,600 - INFO - File [/data/2-7KA2_385efaeefabd04cd21e1ef0a4a77e34b50f7f5bf074df7d22e4d51a1142496fc/Dataset_2-7KA2/data/assets/Image/894955_1281759_13223151_Right Field 3.jpg] transfer complete. 390.328 KB transferred. Elapsed time: 0:00:00.001079.\n",
      "2024-04-29 11:01:04,615 - INFO - Attempting GET from URL: https://www.eye-ai.org/hatrac/images/scans/subject/894955/observation/1281759/image/13223153/ff9ca7351e20bdaf37fc88d32616488c.jpg\n",
      "2024-04-29 11:01:04,737 - INFO - File [/data/2-7KA2_385efaeefabd04cd21e1ef0a4a77e34b50f7f5bf074df7d22e4d51a1142496fc/Dataset_2-7KA2/data/assets/Image/894955_1281759_13223153_Right Field 2.jpg] transfer complete. 394.681 KB transferred. Elapsed time: 0:00:00.000864.\n",
      "2024-04-29 11:01:04,757 - INFO - Attempting GET from URL: https://www.eye-ai.org/hatrac/images/scans/subject/894955/observation/1281759/image/13223154/07eaf26b20cdfde501bc2913c7f49061.jpg\n",
      "2024-04-29 11:01:04,836 - INFO - File [/data/2-7KA2_385efaeefabd04cd21e1ef0a4a77e34b50f7f5bf074df7d22e4d51a1142496fc/Dataset_2-7KA2/data/assets/Image/894955_1281759_13223154_Left Field 2.jpg] transfer complete. 411.522 KB transferred. Elapsed time: 0:00:00.000941.\n",
      "2024-04-29 11:01:04,859 - INFO - Attempting GET from URL: https://www.eye-ai.org/hatrac/images/scans/subject/894955/observation/1281759/image/13223155/ea05ee4e94fdf0258835c660c0767ccc.jpg\n",
      "2024-04-29 11:01:04,956 - INFO - File [/data/2-7KA2_385efaeefabd04cd21e1ef0a4a77e34b50f7f5bf074df7d22e4d51a1142496fc/Dataset_2-7KA2/data/assets/Image/894955_1281759_13223155_Right Field 1.jpg] transfer complete. 429.432 KB transferred. Elapsed time: 0:00:00.001134.\n",
      "2024-04-29 11:01:04,974 - INFO - Attempting GET from URL: https://www.eye-ai.org/hatrac/images/scans/subject/894955/observation/1281759/image/13223156/c41413110c1c1e0b3d7a8b24fe9fc402.jpg\n",
      "2024-04-29 11:01:05,063 - INFO - File [/data/2-7KA2_385efaeefabd04cd21e1ef0a4a77e34b50f7f5bf074df7d22e4d51a1142496fc/Dataset_2-7KA2/data/assets/Image/894955_1281759_13223156_Left Field 1.jpg] transfer complete. 434.428 KB transferred. Elapsed time: 0:00:00.001121.\n",
      "2024-04-29 11:01:05,081 - INFO - Attempting GET from URL: https://www.eye-ai.org/hatrac/images/scans/subject/894955/observation/1281759/image/13223157/d5d0994cc6f0cfcc9559dbe1939641dd.jpg\n",
      "2024-04-29 11:01:05,166 - INFO - File [/data/2-7KA2_385efaeefabd04cd21e1ef0a4a77e34b50f7f5bf074df7d22e4d51a1142496fc/Dataset_2-7KA2/data/assets/Image/894955_1281759_13223157_Left Field 3.jpg] transfer complete. 401.302 KB transferred. Elapsed time: 0:00:00.001021.\n",
      "2024-04-29 11:01:05,185 - INFO - Attempting GET from URL: https://www.eye-ai.org/hatrac/images/scans/subject/900811/observation/1290426/image/13287986/09b1a227a7effb14fcf53cebe52fdbf1.jpg\n",
      "2024-04-29 11:01:05,334 - INFO - File [/data/2-7KA2_385efaeefabd04cd21e1ef0a4a77e34b50f7f5bf074df7d22e4d51a1142496fc/Dataset_2-7KA2/data/assets/Image/900811_1290426_13287986_Left Field 2.jpg] transfer complete. 129.107 KB transferred. Elapsed time: 0:00:00.000319.\n",
      "2024-04-29 11:01:05,350 - INFO - Attempting GET from URL: https://www.eye-ai.org/hatrac/images/scans/subject/900811/observation/1290426/image/13287987/18741d28644594a99bbba6bd0a5f4a77.jpg\n",
      "2024-04-29 11:01:05,426 - INFO - File [/data/2-7KA2_385efaeefabd04cd21e1ef0a4a77e34b50f7f5bf074df7d22e4d51a1142496fc/Dataset_2-7KA2/data/assets/Image/900811_1290426_13287987_Left Field 3.jpg] transfer complete. 127.962 KB transferred. Elapsed time: 0:00:00.000295.\n",
      "2024-04-29 11:01:05,440 - INFO - Attempting GET from URL: https://www.eye-ai.org/hatrac/images/scans/subject/900811/observation/1290426/image/13287988/f2105055981c159382fe056694edb0e9.jpg\n",
      "2024-04-29 11:01:05,533 - INFO - File [/data/2-7KA2_385efaeefabd04cd21e1ef0a4a77e34b50f7f5bf074df7d22e4d51a1142496fc/Dataset_2-7KA2/data/assets/Image/900811_1290426_13287988_Left Field 1.jpg] transfer complete. 126.491 KB transferred. Elapsed time: 0:00:00.000295.\n",
      "2024-04-29 11:01:05,548 - INFO - Attempting GET from URL: https://www.eye-ai.org/hatrac/images/scans/subject/900811/observation/1290426/image/13287989/e343d42b08c181fb0ce5243b21f41c55.jpg\n",
      "2024-04-29 11:01:05,638 - INFO - File [/data/2-7KA2_385efaeefabd04cd21e1ef0a4a77e34b50f7f5bf074df7d22e4d51a1142496fc/Dataset_2-7KA2/data/assets/Image/900811_1290426_13287989_Right Field 2.jpg] transfer complete. 130.508 KB transferred. Elapsed time: 0:00:00.000517.\n",
      "2024-04-29 11:01:05,656 - INFO - Attempting GET from URL: https://www.eye-ai.org/hatrac/images/scans/subject/900811/observation/1290426/image/13287990/ece2297e22da5de0cbd3379c36bf7dfc.jpg\n",
      "2024-04-29 11:01:05,727 - INFO - File [/data/2-7KA2_385efaeefabd04cd21e1ef0a4a77e34b50f7f5bf074df7d22e4d51a1142496fc/Dataset_2-7KA2/data/assets/Image/900811_1290426_13287990_Right Field 3.jpg] transfer complete. 130.047 KB transferred. Elapsed time: 0:00:00.002299.\n",
      "2024-04-29 11:01:05,745 - INFO - Attempting GET from URL: https://www.eye-ai.org/hatrac/images/scans/subject/900811/observation/1290426/image/13287991/c53f03da4da0383c271fda9c64a9d172.jpg\n",
      "2024-04-29 11:01:05,899 - INFO - File [/data/2-7KA2_385efaeefabd04cd21e1ef0a4a77e34b50f7f5bf074df7d22e4d51a1142496fc/Dataset_2-7KA2/data/assets/Image/900811_1290426_13287991_Right Field 1.jpg] transfer complete. 136.520 KB transferred. Elapsed time: 0:00:00.000394.\n",
      "2024-04-29 11:01:05,928 - INFO - Attempting GET from URL: https://www.eye-ai.org/hatrac/images/scans/subject/910138/observation/1303089/image/13369010/a4d99c9d0833649d3978bae63b80e6c8.jpg\n",
      "2024-04-29 11:01:06,021 - INFO - File [/data/2-7KA2_385efaeefabd04cd21e1ef0a4a77e34b50f7f5bf074df7d22e4d51a1142496fc/Dataset_2-7KA2/data/assets/Image/910138_1303089_13369010_Right Field 3.jpg] transfer complete. 129.547 KB transferred. Elapsed time: 0:00:00.000299.\n",
      "2024-04-29 11:01:06,037 - INFO - Attempting GET from URL: https://www.eye-ai.org/hatrac/images/scans/subject/910138/observation/1303089/image/13369011/39198754f8a7877e108caf7cdd6707db.jpg\n",
      "2024-04-29 11:01:06,115 - INFO - File [/data/2-7KA2_385efaeefabd04cd21e1ef0a4a77e34b50f7f5bf074df7d22e4d51a1142496fc/Dataset_2-7KA2/data/assets/Image/910138_1303089_13369011_Left Field 2.jpg] transfer complete. 158.413 KB transferred. Elapsed time: 0:00:00.000426.\n",
      "2024-04-29 11:01:06,132 - INFO - Attempting GET from URL: https://www.eye-ai.org/hatrac/images/scans/subject/910138/observation/1303089/image/13369012/6223b40266f63411c398153464d816e3.jpg\n",
      "2024-04-29 11:01:06,215 - INFO - File [/data/2-7KA2_385efaeefabd04cd21e1ef0a4a77e34b50f7f5bf074df7d22e4d51a1142496fc/Dataset_2-7KA2/data/assets/Image/910138_1303089_13369012_Right Field 2.jpg] transfer complete. 160.116 KB transferred. Elapsed time: 0:00:00.000518.\n",
      "2024-04-29 11:01:06,231 - INFO - Attempting GET from URL: https://www.eye-ai.org/hatrac/images/scans/subject/910138/observation/1303089/image/13369013/ca770e6f7339277449bdf33b445d4427.jpg\n",
      "2024-04-29 11:01:06,318 - INFO - File [/data/2-7KA2_385efaeefabd04cd21e1ef0a4a77e34b50f7f5bf074df7d22e4d51a1142496fc/Dataset_2-7KA2/data/assets/Image/910138_1303089_13369013_Left Field 1.jpg] transfer complete. 162.296 KB transferred. Elapsed time: 0:00:00.001281.\n",
      "2024-04-29 11:01:06,337 - INFO - Attempting GET from URL: https://www.eye-ai.org/hatrac/images/scans/subject/910138/observation/1303089/image/13369016/f2e32d6cd9b0ea5cd7e44f9fb5e2a04d.jpg\n",
      "2024-04-29 11:01:06,475 - INFO - File [/data/2-7KA2_385efaeefabd04cd21e1ef0a4a77e34b50f7f5bf074df7d22e4d51a1142496fc/Dataset_2-7KA2/data/assets/Image/910138_1303089_13369016_Right Field 1.jpg] transfer complete. 161.723 KB transferred. Elapsed time: 0:00:00.001962.\n",
      "2024-04-29 11:01:06,493 - INFO - Attempting GET from URL: https://www.eye-ai.org/hatrac/images/scans/subject/910138/observation/1303089/image/13369017/4956eef9c228f455fbef7d26170223ee.jpg\n",
      "2024-04-29 11:01:06,570 - INFO - File [/data/2-7KA2_385efaeefabd04cd21e1ef0a4a77e34b50f7f5bf074df7d22e4d51a1142496fc/Dataset_2-7KA2/data/assets/Image/910138_1303089_13369017_Left Field 3.jpg] transfer complete. 142.610 KB transferred. Elapsed time: 0:00:00.000341.\n",
      "2024-04-29 11:01:06,599 - INFO - Attempting GET from URL: https://www.eye-ai.org/hatrac/images/scans/subject/963487/observation/1385527/image/13977686/d2679d0cbfa5860025c7bf9c8b7bd39e.jpg\n",
      "2024-04-29 11:01:06,693 - INFO - File [/data/2-7KA2_385efaeefabd04cd21e1ef0a4a77e34b50f7f5bf074df7d22e4d51a1142496fc/Dataset_2-7KA2/data/assets/Image/963487_1385527_13977686_Left Field 3.jpg] transfer complete. 531.780 KB transferred. Elapsed time: 0:00:00.005198.\n",
      "2024-04-29 11:01:06,729 - INFO - Attempting GET from URL: https://www.eye-ai.org/hatrac/images/scans/subject/963487/observation/1385527/image/13977688/a8a4452bc1c3661a12b9761219b9f04b.jpg\n",
      "2024-04-29 11:01:06,813 - INFO - File [/data/2-7KA2_385efaeefabd04cd21e1ef0a4a77e34b50f7f5bf074df7d22e4d51a1142496fc/Dataset_2-7KA2/data/assets/Image/963487_1385527_13977688_Left Field 1.jpg] transfer complete. 577.938 KB transferred. Elapsed time: 0:00:00.002038.\n",
      "2024-04-29 11:01:06,861 - INFO - Attempting GET from URL: https://www.eye-ai.org/hatrac/images/scans/subject/963487/observation/1385527/image/13977689/98801057a1e89245311d44a551e9e922.jpg\n",
      "2024-04-29 11:01:06,984 - INFO - File [/data/2-7KA2_385efaeefabd04cd21e1ef0a4a77e34b50f7f5bf074df7d22e4d51a1142496fc/Dataset_2-7KA2/data/assets/Image/963487_1385527_13977689_Right Field 3.jpg] transfer complete. 575.908 KB transferred. Elapsed time: 0:00:00.001224.\n",
      "2024-04-29 11:01:07,001 - INFO - Attempting GET from URL: https://www.eye-ai.org/hatrac/images/scans/subject/963487/observation/1385527/image/13977690/f5ca7714a9b7a443ef166100d6032e99.jpg\n",
      "2024-04-29 11:01:07,085 - INFO - File [/data/2-7KA2_385efaeefabd04cd21e1ef0a4a77e34b50f7f5bf074df7d22e4d51a1142496fc/Dataset_2-7KA2/data/assets/Image/963487_1385527_13977690_Right Field 2.jpg] transfer complete. 572.584 KB transferred. Elapsed time: 0:00:00.001162.\n",
      "2024-04-29 11:01:07,101 - INFO - Attempting GET from URL: https://www.eye-ai.org/hatrac/images/scans/subject/963487/observation/1385527/image/13977691/dfb7b00392ee4810b33d8d91ca510309.jpg\n",
      "2024-04-29 11:01:07,187 - INFO - File [/data/2-7KA2_385efaeefabd04cd21e1ef0a4a77e34b50f7f5bf074df7d22e4d51a1142496fc/Dataset_2-7KA2/data/assets/Image/963487_1385527_13977691_Right Field 1.jpg] transfer complete. 602.288 KB transferred. Elapsed time: 0:00:00.002888.\n",
      "2024-04-29 11:01:07,208 - INFO - Attempting GET from URL: https://www.eye-ai.org/hatrac/images/scans/subject/963487/observation/1385527/image/13977692/d5454f9695bca960433ffaa4fa87bec8.jpg\n",
      "2024-04-29 11:01:07,279 - INFO - File [/data/2-7KA2_385efaeefabd04cd21e1ef0a4a77e34b50f7f5bf074df7d22e4d51a1142496fc/Dataset_2-7KA2/data/assets/Image/963487_1385527_13977692_Left Field 2.jpg] transfer complete. 601.258 KB transferred. Elapsed time: 0:00:00.001588.\n",
      "2024-04-29 11:01:07,296 - INFO - Attempting GET from URL: https://www.eye-ai.org/hatrac/images/scans/subject/966607/observation/1390118/image/14009165/7fe7ac032ff42664be0dc72fd3cc27a5.jpg\n",
      "2024-04-29 11:01:07,383 - INFO - File [/data/2-7KA2_385efaeefabd04cd21e1ef0a4a77e34b50f7f5bf074df7d22e4d51a1142496fc/Dataset_2-7KA2/data/assets/Image/966607_1390118_14009165_Left Field 3.jpg] transfer complete. 1.024 MB transferred. Elapsed time: 0:00:00.003112.\n",
      "2024-04-29 11:01:07,402 - INFO - Attempting GET from URL: https://www.eye-ai.org/hatrac/images/scans/subject/966607/observation/1390118/image/14009166/c4fce460805c4d5259e58a85992707fc.jpg\n",
      "2024-04-29 11:01:07,496 - INFO - File [/data/2-7KA2_385efaeefabd04cd21e1ef0a4a77e34b50f7f5bf074df7d22e4d51a1142496fc/Dataset_2-7KA2/data/assets/Image/966607_1390118_14009166_Right Field 3.jpg] transfer complete. 1.042 MB transferred. Elapsed time: 0:00:00.003665.\n",
      "2024-04-29 11:01:07,515 - INFO - Attempting GET from URL: https://www.eye-ai.org/hatrac/images/scans/subject/966607/observation/1390118/image/14009169/3c8fa7e32cc3131b14a61a5df1e318ff.jpg\n",
      "2024-04-29 11:01:07,584 - INFO - File [/data/2-7KA2_385efaeefabd04cd21e1ef0a4a77e34b50f7f5bf074df7d22e4d51a1142496fc/Dataset_2-7KA2/data/assets/Image/966607_1390118_14009169_Right Field 1.jpg] transfer complete. 1.080 MB transferred. Elapsed time: 0:00:00.003814.\n",
      "2024-04-29 11:01:07,602 - INFO - Attempting GET from URL: https://www.eye-ai.org/hatrac/images/scans/subject/966607/observation/1390118/image/14009170/5b5cef4d6b4b4b498c35354944ef32b2.jpg\n",
      "2024-04-29 11:01:07,692 - INFO - File [/data/2-7KA2_385efaeefabd04cd21e1ef0a4a77e34b50f7f5bf074df7d22e4d51a1142496fc/Dataset_2-7KA2/data/assets/Image/966607_1390118_14009170_Left Field 2.jpg] transfer complete. 1.087 MB transferred. Elapsed time: 0:00:00.003240.\n",
      "2024-04-29 11:01:07,708 - INFO - Attempting GET from URL: https://www.eye-ai.org/hatrac/images/scans/subject/966607/observation/1390118/image/14009176/2372dfe3177ac91ef300209fc535fdfe.jpg\n",
      "2024-04-29 11:01:07,813 - INFO - File [/data/2-7KA2_385efaeefabd04cd21e1ef0a4a77e34b50f7f5bf074df7d22e4d51a1142496fc/Dataset_2-7KA2/data/assets/Image/966607_1390118_14009176_Right Field 2.jpg] transfer complete. 1.089 MB transferred. Elapsed time: 0:00:00.004194.\n",
      "2024-04-29 11:01:07,832 - INFO - Attempting GET from URL: https://www.eye-ai.org/hatrac/images/scans/subject/966607/observation/1390118/image/14009178/a2bfb56f3eb3875851be4e15dc8721d0.jpg\n",
      "2024-04-29 11:01:07,946 - INFO - File [/data/2-7KA2_385efaeefabd04cd21e1ef0a4a77e34b50f7f5bf074df7d22e4d51a1142496fc/Dataset_2-7KA2/data/assets/Image/966607_1390118_14009178_Left Field 1.jpg] transfer complete. 1.082 MB transferred. Elapsed time: 0:00:00.010210.\n",
      "2024-04-29 11:01:07,964 - INFO - Attempting GET from URL: https://www.eye-ai.org/hatrac/execution_assets/cc9909ee5fddcce10375f2bcf1e1fd65.Cropped_8662.svg:cCUo7UZQS9Dl4iRzMdN1TZaAquqDYbqO\n",
      "2024-04-29 11:01:08,005 - INFO - File [/data/2-7KA2_385efaeefabd04cd21e1ef0a4a77e34b50f7f5bf074df7d22e4d51a1142496fc/Dataset_2-7KA2/data/assets/Image_Annotation/Cropped_8662.svg] transfer complete. 0.319 KB transferred. Elapsed time: 0:00:00.000096.\n",
      "2024-04-29 11:01:08,022 - INFO - Attempting GET from URL: https://www.eye-ai.org/hatrac/execution_assets/b5be2370add151c6e6e20937f8292f43.Cropped_8668.svg:mFd8r61AggUqhI7BdX9qxoy.WfIDAokE\n",
      "2024-04-29 11:01:08,088 - INFO - File [/data/2-7KA2_385efaeefabd04cd21e1ef0a4a77e34b50f7f5bf074df7d22e4d51a1142496fc/Dataset_2-7KA2/data/assets/Image_Annotation/Cropped_8668.svg] transfer complete. 0.318 KB transferred. Elapsed time: 0:00:00.000092.\n",
      "2024-04-29 11:01:08,105 - INFO - Attempting GET from URL: https://www.eye-ai.org/hatrac/execution_assets/7cf21359538213294782bf717ca27ee8.Cropped_8C8G.svg:AucdW366sx0pxLJTEOLlhB4EAGu0DLiH\n",
      "2024-04-29 11:01:08,205 - INFO - File [/data/2-7KA2_385efaeefabd04cd21e1ef0a4a77e34b50f7f5bf074df7d22e4d51a1142496fc/Dataset_2-7KA2/data/assets/Image_Annotation/Cropped_8C8G.svg] transfer complete. 0.315 KB transferred. Elapsed time: 0:00:00.000102.\n",
      "2024-04-29 11:01:08,220 - INFO - Attempting GET from URL: https://www.eye-ai.org/hatrac/execution_assets/853c305a0cd27f31c26c0072be936a38.Cropped_8C8J.svg:QOv7kMZMzXJleOvt8Z49gP8PNrGi.Q7m\n",
      "2024-04-29 11:01:08,260 - INFO - File [/data/2-7KA2_385efaeefabd04cd21e1ef0a4a77e34b50f7f5bf074df7d22e4d51a1142496fc/Dataset_2-7KA2/data/assets/Image_Annotation/Cropped_8C8J.svg] transfer complete. 0.316 KB transferred. Elapsed time: 0:00:00.000117.\n",
      "2024-04-29 11:01:08,278 - INFO - Attempting GET from URL: https://www.eye-ai.org/hatrac/execution_assets/19c561e120a91ca8e2a494293a1c01aa.Cropped_8C8Y.svg:Z4V2VMU8R.3guvg3E_N1qhNoLlp570v0\n",
      "2024-04-29 11:01:08,320 - INFO - File [/data/2-7KA2_385efaeefabd04cd21e1ef0a4a77e34b50f7f5bf074df7d22e4d51a1142496fc/Dataset_2-7KA2/data/assets/Image_Annotation/Cropped_8C8Y.svg] transfer complete. 0.315 KB transferred. Elapsed time: 0:00:00.000098.\n",
      "2024-04-29 11:01:08,339 - INFO - Attempting GET from URL: https://www.eye-ai.org/hatrac/execution_assets/823046e07b8e7c21760c660a921bde69.Cropped_8C92.svg:GM5ljOE.TOY4CU7tdsFPKmgKR3ouErGB\n",
      "2024-04-29 11:01:08,444 - INFO - File [/data/2-7KA2_385efaeefabd04cd21e1ef0a4a77e34b50f7f5bf074df7d22e4d51a1142496fc/Dataset_2-7KA2/data/assets/Image_Annotation/Cropped_8C92.svg] transfer complete. 0.316 KB transferred. Elapsed time: 0:00:00.000113.\n",
      "2024-04-29 11:01:08,461 - INFO - Attempting GET from URL: https://www.eye-ai.org/hatrac/execution_assets/26a968463dc2c989d8c252bc0ef72512.Cropped_8DWG.svg:K.IgvlcUghysqk6otHFjmEEtcC8KPIRU\n",
      "2024-04-29 11:01:08,511 - INFO - File [/data/2-7KA2_385efaeefabd04cd21e1ef0a4a77e34b50f7f5bf074df7d22e4d51a1142496fc/Dataset_2-7KA2/data/assets/Image_Annotation/Cropped_8DWG.svg] transfer complete. 0.318 KB transferred. Elapsed time: 0:00:00.000164.\n",
      "2024-04-29 11:01:08,530 - INFO - Attempting GET from URL: https://www.eye-ai.org/hatrac/execution_assets/dd555e8fab99b9310857c6b69e39ea1e.Cropped_8DWJ.svg:vDml2b3dt8e2UHFURyC9Xq_sGH8moYWT\n",
      "2024-04-29 11:01:08,564 - INFO - File [/data/2-7KA2_385efaeefabd04cd21e1ef0a4a77e34b50f7f5bf074df7d22e4d51a1142496fc/Dataset_2-7KA2/data/assets/Image_Annotation/Cropped_8DWJ.svg] transfer complete. 0.319 KB transferred. Elapsed time: 0:00:00.000198.\n",
      "2024-04-29 11:01:08,591 - INFO - Attempting GET from URL: https://www.eye-ai.org/hatrac/execution_assets/cc8c56a9a033a316e28f537713b1da9d.Cropped_8NGP.svg:M33x3KOwTFOjekKt2cmuB03vVp0Dg2CG\n",
      "2024-04-29 11:01:08,668 - INFO - File [/data/2-7KA2_385efaeefabd04cd21e1ef0a4a77e34b50f7f5bf074df7d22e4d51a1142496fc/Dataset_2-7KA2/data/assets/Image_Annotation/Cropped_8NGP.svg] transfer complete. 0.316 KB transferred. Elapsed time: 0:00:00.000112.\n",
      "2024-04-29 11:01:08,684 - INFO - Attempting GET from URL: https://www.eye-ai.org/hatrac/execution_assets/ec06db54ed93ee994b00554f03ec2cc7.Cropped_8NGW.svg:kuQ2.A9GDI6ys49OQ6SXpUbQWiJXFCki\n",
      "2024-04-29 11:01:08,796 - INFO - File [/data/2-7KA2_385efaeefabd04cd21e1ef0a4a77e34b50f7f5bf074df7d22e4d51a1142496fc/Dataset_2-7KA2/data/assets/Image_Annotation/Cropped_8NGW.svg] transfer complete. 0.316 KB transferred. Elapsed time: 0:00:00.000103.\n",
      "2024-04-29 11:01:08,812 - INFO - Attempting GET from URL: https://www.eye-ai.org/hatrac/execution_assets/e855db9a16f6024b80311d8bf917b3ae.Cropped_8SF8.svg:fM_jC2hjs0NCvBtNty0mMVBrtt.Ad4mV\n",
      "2024-04-29 11:01:08,857 - INFO - File [/data/2-7KA2_385efaeefabd04cd21e1ef0a4a77e34b50f7f5bf074df7d22e4d51a1142496fc/Dataset_2-7KA2/data/assets/Image_Annotation/Cropped_8SF8.svg] transfer complete. 0.316 KB transferred. Elapsed time: 0:00:00.000115.\n",
      "2024-04-29 11:01:08,874 - INFO - Attempting GET from URL: https://www.eye-ai.org/hatrac/execution_assets/d0abb2ceec839a7b44c2c152b857a857.Cropped_8SFE.svg:BxH4TzpQEmhSslrKR7TjotzS7WFx7Wv6\n",
      "2024-04-29 11:01:08,910 - INFO - File [/data/2-7KA2_385efaeefabd04cd21e1ef0a4a77e34b50f7f5bf074df7d22e4d51a1142496fc/Dataset_2-7KA2/data/assets/Image_Annotation/Cropped_8SFE.svg] transfer complete. 0.316 KB transferred. Elapsed time: 0:00:00.000092.\n",
      "2024-04-29 11:01:08,929 - INFO - Attempting GET from URL: https://www.eye-ai.org/hatrac/execution_assets/fb68d4d971d9628cf59ce657878ded50.Cropped_90MT.svg:3Wp4gTNG94ehh1Ta7Atx9iKk_sXhd1l2\n",
      "2024-04-29 11:01:08,979 - INFO - File [/data/2-7KA2_385efaeefabd04cd21e1ef0a4a77e34b50f7f5bf074df7d22e4d51a1142496fc/Dataset_2-7KA2/data/assets/Image_Annotation/Cropped_90MT.svg] transfer complete. 0.316 KB transferred. Elapsed time: 0:00:00.001640.\n",
      "2024-04-29 11:01:09,001 - INFO - Attempting GET from URL: https://www.eye-ai.org/hatrac/execution_assets/b305459f57ed1378fc634a4f5a083084.Cropped_90MY.svg:iqujhqY5G5bM0p2F2aVcV3pLhIj2_PJN\n",
      "2024-04-29 11:01:09,053 - INFO - File [/data/2-7KA2_385efaeefabd04cd21e1ef0a4a77e34b50f7f5bf074df7d22e4d51a1142496fc/Dataset_2-7KA2/data/assets/Image_Annotation/Cropped_90MY.svg] transfer complete. 0.316 KB transferred. Elapsed time: 0:00:00.002425.\n",
      "2024-04-29 11:01:09,072 - INFO - Attempting GET from URL: https://www.eye-ai.org/hatrac/execution_assets/0f9a9e62d4d55a6a865d0449720961f5.Cropped_92GY.svg:gKT0HG0ta0NUHvj2VQZCIiKNnYcLoObp\n",
      "2024-04-29 11:01:09,159 - INFO - File [/data/2-7KA2_385efaeefabd04cd21e1ef0a4a77e34b50f7f5bf074df7d22e4d51a1142496fc/Dataset_2-7KA2/data/assets/Image_Annotation/Cropped_92GY.svg] transfer complete. 0.316 KB transferred. Elapsed time: 0:00:00.000093.\n",
      "2024-04-29 11:01:09,179 - INFO - Attempting GET from URL: https://www.eye-ai.org/hatrac/execution_assets/37e59e3dbece8f1413fda79a8ec0e591.Cropped_92H2.svg:smkiMj2UElymAHU2pykSVfwWADsCvmU7\n",
      "2024-04-29 11:01:09,239 - INFO - File [/data/2-7KA2_385efaeefabd04cd21e1ef0a4a77e34b50f7f5bf074df7d22e4d51a1142496fc/Dataset_2-7KA2/data/assets/Image_Annotation/Cropped_92H2.svg] transfer complete. 0.316 KB transferred. Elapsed time: 0:00:00.000093.\n",
      "2024-04-29 11:01:09,257 - INFO - Attempting GET from URL: https://www.eye-ai.org/hatrac/execution_assets/9550633f180dfb77732729681c8b35b2.Cropped_960A.svg:NyGbgRuw68MCa0mNWeBFUGRKCKXq6w_c\n",
      "2024-04-29 11:01:09,311 - INFO - File [/data/2-7KA2_385efaeefabd04cd21e1ef0a4a77e34b50f7f5bf074df7d22e4d51a1142496fc/Dataset_2-7KA2/data/assets/Image_Annotation/Cropped_960A.svg] transfer complete. 0.316 KB transferred. Elapsed time: 0:00:00.000092.\n",
      "2024-04-29 11:01:09,326 - INFO - Attempting GET from URL: https://www.eye-ai.org/hatrac/execution_assets/7d5779a5076821d6fe2b692d4fdcf58f.Cropped_960C.svg:6TsM6YtxOqpJhNlGYmQ6Ru3OwCZXhjXm\n",
      "2024-04-29 11:01:09,366 - INFO - File [/data/2-7KA2_385efaeefabd04cd21e1ef0a4a77e34b50f7f5bf074df7d22e4d51a1142496fc/Dataset_2-7KA2/data/assets/Image_Annotation/Cropped_960C.svg] transfer complete. 0.316 KB transferred. Elapsed time: 0:00:00.000161.\n",
      "2024-04-29 11:01:09,387 - INFO - Attempting GET from URL: https://www.eye-ai.org/hatrac/execution_assets/de827fc5f4958c14e1eced913e2f8dc7.Cropped_96YJ.svg:CtCDzELILTJac1ADBvuYg1RzoSb0URYH\n",
      "2024-04-29 11:01:09,466 - INFO - File [/data/2-7KA2_385efaeefabd04cd21e1ef0a4a77e34b50f7f5bf074df7d22e4d51a1142496fc/Dataset_2-7KA2/data/assets/Image_Annotation/Cropped_96YJ.svg] transfer complete. 0.315 KB transferred. Elapsed time: 0:00:00.000097.\n",
      "2024-04-29 11:01:09,484 - INFO - Attempting GET from URL: https://www.eye-ai.org/hatrac/execution_assets/a6032c57b0dd59d017592fbf7576579e.Cropped_96YM.svg:pYNr6lBSStZIUlRx1aH3gpXji.Ih9TbX\n",
      "2024-04-29 11:01:09,538 - INFO - File [/data/2-7KA2_385efaeefabd04cd21e1ef0a4a77e34b50f7f5bf074df7d22e4d51a1142496fc/Dataset_2-7KA2/data/assets/Image_Annotation/Cropped_96YM.svg] transfer complete. 0.315 KB transferred. Elapsed time: 0:00:00.000093.\n",
      "2024-04-29 11:01:09,565 - INFO - Attempting GET from URL: https://www.eye-ai.org/hatrac/execution_assets/9d6c751241dc3ee66263deeedf05ac99.Cropped_9EDA.svg:xCRFvYeY0KtlcMUItvebsQAaXZb6Qnhq\n",
      "2024-04-29 11:01:09,638 - INFO - File [/data/2-7KA2_385efaeefabd04cd21e1ef0a4a77e34b50f7f5bf074df7d22e4d51a1142496fc/Dataset_2-7KA2/data/assets/Image_Annotation/Cropped_9EDA.svg] transfer complete. 0.316 KB transferred. Elapsed time: 0:00:00.000147.\n",
      "2024-04-29 11:01:09,660 - INFO - Attempting GET from URL: https://www.eye-ai.org/hatrac/execution_assets/fe0b5bfb173b45407181dc1bcd9a78da.Cropped_9EDG.svg:SrcisDclyp2xImxmK7RSOISa6qLfefi7\n",
      "2024-04-29 11:01:09,702 - INFO - File [/data/2-7KA2_385efaeefabd04cd21e1ef0a4a77e34b50f7f5bf074df7d22e4d51a1142496fc/Dataset_2-7KA2/data/assets/Image_Annotation/Cropped_9EDG.svg] transfer complete. 0.318 KB transferred. Elapsed time: 0:00:00.000093.\n",
      "2024-04-29 11:01:09,721 - INFO - Attempting GET from URL: https://www.eye-ai.org/hatrac/execution_assets/aed10e1ded06881fa081d983ea55a164.Cropped_9F04.svg:4tuDTWSmTwf6._j8uYbeptIWVHP1Yeb0\n",
      "2024-04-29 11:01:09,766 - INFO - File [/data/2-7KA2_385efaeefabd04cd21e1ef0a4a77e34b50f7f5bf074df7d22e4d51a1142496fc/Dataset_2-7KA2/data/assets/Image_Annotation/Cropped_9F04.svg] transfer complete. 0.316 KB transferred. Elapsed time: 0:00:00.000092.\n",
      "2024-04-29 11:01:09,782 - INFO - Attempting GET from URL: https://www.eye-ai.org/hatrac/execution_assets/7c41c07a42e537ca1d6323d4fdd111ca.Cropped_9F06.svg:SzWtY40YZSjPy4PZg6n9R6fYLXdcA9QR\n",
      "2024-04-29 11:01:09,834 - INFO - File [/data/2-7KA2_385efaeefabd04cd21e1ef0a4a77e34b50f7f5bf074df7d22e4d51a1142496fc/Dataset_2-7KA2/data/assets/Image_Annotation/Cropped_9F06.svg] transfer complete. 0.316 KB transferred. Elapsed time: 0:00:00.000123.\n",
      "2024-04-29 11:01:09,851 - INFO - Attempting GET from URL: https://www.eye-ai.org/hatrac/execution_assets/64ffd59df0d4f00082f968f00a0d1ba8.Cropped_9ZYM.svg:v1DcofdQ2CxCvPaoJJFlImpZeTPxkyjA\n",
      "2024-04-29 11:01:09,895 - INFO - File [/data/2-7KA2_385efaeefabd04cd21e1ef0a4a77e34b50f7f5bf074df7d22e4d51a1142496fc/Dataset_2-7KA2/data/assets/Image_Annotation/Cropped_9ZYM.svg] transfer complete. 0.319 KB transferred. Elapsed time: 0:00:00.000100.\n",
      "2024-04-29 11:01:09,915 - INFO - Attempting GET from URL: https://www.eye-ai.org/hatrac/execution_assets/31d5cec6c72003972f13d7d28c4046e0.Cropped_9ZYR.svg:KV.DPAXjPhoJMVrQw0B9UyIo_5hogr4f\n",
      "2024-04-29 11:01:09,952 - INFO - File [/data/2-7KA2_385efaeefabd04cd21e1ef0a4a77e34b50f7f5bf074df7d22e4d51a1142496fc/Dataset_2-7KA2/data/assets/Image_Annotation/Cropped_9ZYR.svg] transfer complete. 0.319 KB transferred. Elapsed time: 0:00:00.000091.\n",
      "2024-04-29 11:01:09,968 - INFO - Attempting GET from URL: https://www.eye-ai.org/hatrac/execution_assets/855e390d125de2b761710ab6e928f5e5.Cropped_9ZZ6.svg:2id1zDW6K9egEb6xOXIRFuaRajFeTwV4\n",
      "2024-04-29 11:01:10,006 - INFO - File [/data/2-7KA2_385efaeefabd04cd21e1ef0a4a77e34b50f7f5bf074df7d22e4d51a1142496fc/Dataset_2-7KA2/data/assets/Image_Annotation/Cropped_9ZZ6.svg] transfer complete. 0.319 KB transferred. Elapsed time: 0:00:00.000094.\n",
      "2024-04-29 11:01:10,045 - INFO - Attempting GET from URL: https://www.eye-ai.org/hatrac/execution_assets/b84bcfb0d89bc1d6017bc482a9770ff2.Cropped_9ZZA.svg:5pOCz0z4ghoD8r.xYRBLWwj8nOC9dTD3\n",
      "2024-04-29 11:01:10,121 - INFO - File [/data/2-7KA2_385efaeefabd04cd21e1ef0a4a77e34b50f7f5bf074df7d22e4d51a1142496fc/Dataset_2-7KA2/data/assets/Image_Annotation/Cropped_9ZZA.svg] transfer complete. 0.319 KB transferred. Elapsed time: 0:00:00.000094.\n",
      "2024-04-29 11:01:10,137 - INFO - Attempting GET from URL: https://www.eye-ai.org/hatrac/execution_assets/0bf1fb02562e2a7f81e02701099c5a79.Cropped_AAZ6.svg:CcACL01v0Y_0iKWElJDKANFQ5VICuAC.\n",
      "2024-04-29 11:01:10,191 - INFO - File [/data/2-7KA2_385efaeefabd04cd21e1ef0a4a77e34b50f7f5bf074df7d22e4d51a1142496fc/Dataset_2-7KA2/data/assets/Image_Annotation/Cropped_AAZ6.svg] transfer complete. 0.315 KB transferred. Elapsed time: 0:00:00.000171.\n",
      "2024-04-29 11:01:10,206 - INFO - Attempting GET from URL: https://www.eye-ai.org/hatrac/execution_assets/133e7839dd60b7615b0a1f1ab0431e8d.Cropped_AAZC.svg:pUe7zspm_rvMGSMNDcky0qmqxI2sqcC0\n",
      "2024-04-29 11:01:10,282 - INFO - File [/data/2-7KA2_385efaeefabd04cd21e1ef0a4a77e34b50f7f5bf074df7d22e4d51a1142496fc/Dataset_2-7KA2/data/assets/Image_Annotation/Cropped_AAZC.svg] transfer complete. 0.315 KB transferred. Elapsed time: 0:00:00.000096.\n",
      "2024-04-29 11:01:10,338 - INFO - Attempting GET from URL: https://www.eye-ai.org/hatrac/execution_assets/0ae9e18bdc1e9580104bb482ec604ca5.Cropped_AF76.svg:rJqnj38OhT_FaLe_gOCwlTKafTciFXqT\n",
      "2024-04-29 11:01:10,379 - INFO - File [/data/2-7KA2_385efaeefabd04cd21e1ef0a4a77e34b50f7f5bf074df7d22e4d51a1142496fc/Dataset_2-7KA2/data/assets/Image_Annotation/Cropped_AF76.svg] transfer complete. 0.319 KB transferred. Elapsed time: 0:00:00.000091.\n",
      "2024-04-29 11:01:10,456 - INFO - Attempting GET from URL: https://www.eye-ai.org/hatrac/execution_assets/66d93a2622bab5687c19676e9e8b3c4e.Cropped_AF7A.svg:UJj1LRHlZYIzOCyKAMo.xe6t5N7F8_4c\n",
      "2024-04-29 11:01:10,496 - INFO - File [/data/2-7KA2_385efaeefabd04cd21e1ef0a4a77e34b50f7f5bf074df7d22e4d51a1142496fc/Dataset_2-7KA2/data/assets/Image_Annotation/Cropped_AF7A.svg] transfer complete. 0.319 KB transferred. Elapsed time: 0:00:00.000091.\n",
      "2024-04-29 11:01:10,522 - INFO - Attempting GET from URL: https://www.eye-ai.org/hatrac/execution_assets/586ccd4eb4edefe59ac90254e8bef06e.Cropped_AFE8.svg:KI9KbBqG6WNLK4KrM9by7ywLEaTbnOH4\n",
      "2024-04-29 11:01:10,564 - INFO - File [/data/2-7KA2_385efaeefabd04cd21e1ef0a4a77e34b50f7f5bf074df7d22e4d51a1142496fc/Dataset_2-7KA2/data/assets/Image_Annotation/Cropped_AFE8.svg] transfer complete. 0.319 KB transferred. Elapsed time: 0:00:00.000090.\n",
      "2024-04-29 11:01:10,608 - INFO - Attempting GET from URL: https://www.eye-ai.org/hatrac/execution_assets/0cd54ab5954d6b58f4b3cb1e5ed850bf.Cropped_AFEA.svg:vri0MYR5pAwqyV0ZbIlo6NAbsmOokaqm\n",
      "2024-04-29 11:01:10,680 - INFO - File [/data/2-7KA2_385efaeefabd04cd21e1ef0a4a77e34b50f7f5bf074df7d22e4d51a1142496fc/Dataset_2-7KA2/data/assets/Image_Annotation/Cropped_AFEA.svg] transfer complete. 0.319 KB transferred. Elapsed time: 0:00:00.000102.\n",
      "2024-04-29 11:01:10,696 - INFO - Fetch complete. Elapsed time: 0:00:14.774607\n",
      "2024-04-29 11:01:10,698 - INFO - Validating bag: /data/2-7KA2_385efaeefabd04cd21e1ef0a4a77e34b50f7f5bf074df7d22e4d51a1142496fc/Dataset_2-7KA2\n",
      "2024-04-29 11:01:10,727 - INFO - Verifying checksum for file /data/2-7KA2_385efaeefabd04cd21e1ef0a4a77e34b50f7f5bf074df7d22e4d51a1142496fc/Dataset_2-7KA2/data/Diagnosis.csv\n",
      "2024-04-29 11:01:10,744 - INFO - Verifying checksum for file /data/2-7KA2_385efaeefabd04cd21e1ef0a4a77e34b50f7f5bf074df7d22e4d51a1142496fc/Dataset_2-7KA2/data/Diagnosis_Image_Vocabulary.csv\n",
      "2024-04-29 11:01:10,761 - INFO - Verifying checksum for file /data/2-7KA2_385efaeefabd04cd21e1ef0a4a77e34b50f7f5bf074df7d22e4d51a1142496fc/Dataset_2-7KA2/data/Diagnosis_Tag.csv\n",
      "2024-04-29 11:01:10,781 - INFO - Verifying checksum for file /data/2-7KA2_385efaeefabd04cd21e1ef0a4a77e34b50f7f5bf074df7d22e4d51a1142496fc/Dataset_2-7KA2/data/Image.csv\n",
      "2024-04-29 11:01:10,795 - INFO - Verifying checksum for file /data/2-7KA2_385efaeefabd04cd21e1ef0a4a77e34b50f7f5bf074df7d22e4d51a1142496fc/Dataset_2-7KA2/data/Image_Annotation.csv\n",
      "2024-04-29 11:01:10,810 - INFO - Verifying checksum for file /data/2-7KA2_385efaeefabd04cd21e1ef0a4a77e34b50f7f5bf074df7d22e4d51a1142496fc/Dataset_2-7KA2/data/Observation.csv\n",
      "2024-04-29 11:01:10,825 - INFO - Verifying checksum for file /data/2-7KA2_385efaeefabd04cd21e1ef0a4a77e34b50f7f5bf074df7d22e4d51a1142496fc/Dataset_2-7KA2/data/Subject.csv\n",
      "2024-04-29 11:01:10,840 - INFO - Verifying checksum for file /data/2-7KA2_385efaeefabd04cd21e1ef0a4a77e34b50f7f5bf074df7d22e4d51a1142496fc/Dataset_2-7KA2/data/assets/Image/399033_703769_8669237_Right Field 1.JPG\n",
      "2024-04-29 11:01:10,855 - INFO - Verifying checksum for file /data/2-7KA2_385efaeefabd04cd21e1ef0a4a77e34b50f7f5bf074df7d22e4d51a1142496fc/Dataset_2-7KA2/data/assets/Image/399033_703769_8669238_Right Field 2.JPG\n",
      "2024-04-29 11:01:10,872 - INFO - Verifying checksum for file /data/2-7KA2_385efaeefabd04cd21e1ef0a4a77e34b50f7f5bf074df7d22e4d51a1142496fc/Dataset_2-7KA2/data/assets/Image/399033_703769_8669239_Right Field 3.JPG\n",
      "2024-04-29 11:01:10,891 - INFO - Verifying checksum for file /data/2-7KA2_385efaeefabd04cd21e1ef0a4a77e34b50f7f5bf074df7d22e4d51a1142496fc/Dataset_2-7KA2/data/assets/Image/399033_703769_8669240_Left Field 1.JPG\n",
      "2024-04-29 11:01:10,908 - INFO - Verifying checksum for file /data/2-7KA2_385efaeefabd04cd21e1ef0a4a77e34b50f7f5bf074df7d22e4d51a1142496fc/Dataset_2-7KA2/data/assets/Image/399033_703769_8669241_Left Field 2.JPG\n",
      "2024-04-29 11:01:10,925 - INFO - Verifying checksum for file /data/2-7KA2_385efaeefabd04cd21e1ef0a4a77e34b50f7f5bf074df7d22e4d51a1142496fc/Dataset_2-7KA2/data/assets/Image/399033_703769_8669242_Left Field 3.JPG\n",
      "2024-04-29 11:01:10,941 - INFO - Verifying checksum for file /data/2-7KA2_385efaeefabd04cd21e1ef0a4a77e34b50f7f5bf074df7d22e4d51a1142496fc/Dataset_2-7KA2/data/assets/Image/428549_1305606_13387969_Right Field 3.JPG\n",
      "2024-04-29 11:01:10,960 - INFO - Verifying checksum for file /data/2-7KA2_385efaeefabd04cd21e1ef0a4a77e34b50f7f5bf074df7d22e4d51a1142496fc/Dataset_2-7KA2/data/assets/Image/428549_1305606_13387970_Right Field 1.JPG\n",
      "2024-04-29 11:01:10,978 - INFO - Verifying checksum for file /data/2-7KA2_385efaeefabd04cd21e1ef0a4a77e34b50f7f5bf074df7d22e4d51a1142496fc/Dataset_2-7KA2/data/assets/Image/428549_1305606_13387971_Left Field 1.JPG\n",
      "2024-04-29 11:01:10,994 - INFO - Verifying checksum for file /data/2-7KA2_385efaeefabd04cd21e1ef0a4a77e34b50f7f5bf074df7d22e4d51a1142496fc/Dataset_2-7KA2/data/assets/Image/428549_1305606_13387973_Right Field 2.JPG\n",
      "2024-04-29 11:01:11,011 - INFO - Verifying checksum for file /data/2-7KA2_385efaeefabd04cd21e1ef0a4a77e34b50f7f5bf074df7d22e4d51a1142496fc/Dataset_2-7KA2/data/assets/Image/428549_1305606_13387974_Left Field 2.JPG\n",
      "2024-04-29 11:01:11,028 - INFO - Verifying checksum for file /data/2-7KA2_385efaeefabd04cd21e1ef0a4a77e34b50f7f5bf074df7d22e4d51a1142496fc/Dataset_2-7KA2/data/assets/Image/428549_1305606_13387975_Left Field 3.JPG\n",
      "2024-04-29 11:01:11,060 - INFO - Verifying checksum for file /data/2-7KA2_385efaeefabd04cd21e1ef0a4a77e34b50f7f5bf074df7d22e4d51a1142496fc/Dataset_2-7KA2/data/assets/Image/552869_763975_9144780_Left Field 3.jpg\n",
      "2024-04-29 11:01:11,088 - INFO - Verifying checksum for file /data/2-7KA2_385efaeefabd04cd21e1ef0a4a77e34b50f7f5bf074df7d22e4d51a1142496fc/Dataset_2-7KA2/data/assets/Image/552869_763975_9144781_Left Field 1.jpg\n",
      "2024-04-29 11:01:11,105 - INFO - Verifying checksum for file /data/2-7KA2_385efaeefabd04cd21e1ef0a4a77e34b50f7f5bf074df7d22e4d51a1142496fc/Dataset_2-7KA2/data/assets/Image/552869_763975_9144782_Left Field 2.jpg\n",
      "2024-04-29 11:01:11,121 - INFO - Verifying checksum for file /data/2-7KA2_385efaeefabd04cd21e1ef0a4a77e34b50f7f5bf074df7d22e4d51a1142496fc/Dataset_2-7KA2/data/assets/Image/552869_763975_9144783_Right Field 1.jpg\n",
      "2024-04-29 11:01:11,137 - INFO - Verifying checksum for file /data/2-7KA2_385efaeefabd04cd21e1ef0a4a77e34b50f7f5bf074df7d22e4d51a1142496fc/Dataset_2-7KA2/data/assets/Image/552869_763975_9144784_Right Field 3.jpg\n",
      "2024-04-29 11:01:11,153 - INFO - Verifying checksum for file /data/2-7KA2_385efaeefabd04cd21e1ef0a4a77e34b50f7f5bf074df7d22e4d51a1142496fc/Dataset_2-7KA2/data/assets/Image/552869_763975_9144787_Right Field 2.jpg\n",
      "2024-04-29 11:01:11,168 - INFO - Verifying checksum for file /data/2-7KA2_385efaeefabd04cd21e1ef0a4a77e34b50f7f5bf074df7d22e4d51a1142496fc/Dataset_2-7KA2/data/assets/Image/598644_1021876_11184948_Left Field 3.JPG\n",
      "2024-04-29 11:01:11,186 - INFO - Verifying checksum for file /data/2-7KA2_385efaeefabd04cd21e1ef0a4a77e34b50f7f5bf074df7d22e4d51a1142496fc/Dataset_2-7KA2/data/assets/Image/598644_1021876_11184949_Right Field 2.JPG\n",
      "2024-04-29 11:01:11,200 - INFO - Verifying checksum for file /data/2-7KA2_385efaeefabd04cd21e1ef0a4a77e34b50f7f5bf074df7d22e4d51a1142496fc/Dataset_2-7KA2/data/assets/Image/598644_1021876_11184950_Left Field 2.JPG\n",
      "2024-04-29 11:01:11,216 - INFO - Verifying checksum for file /data/2-7KA2_385efaeefabd04cd21e1ef0a4a77e34b50f7f5bf074df7d22e4d51a1142496fc/Dataset_2-7KA2/data/assets/Image/598644_1021876_11184951_Left Field 1.JPG\n",
      "2024-04-29 11:01:11,231 - INFO - Verifying checksum for file /data/2-7KA2_385efaeefabd04cd21e1ef0a4a77e34b50f7f5bf074df7d22e4d51a1142496fc/Dataset_2-7KA2/data/assets/Image/598644_1021876_11184952_Right Field 3.JPG\n",
      "2024-04-29 11:01:11,246 - INFO - Verifying checksum for file /data/2-7KA2_385efaeefabd04cd21e1ef0a4a77e34b50f7f5bf074df7d22e4d51a1142496fc/Dataset_2-7KA2/data/assets/Image/598644_1021876_11184953_Right Field 1.JPG\n",
      "2024-04-29 11:01:11,261 - INFO - Verifying checksum for file /data/2-7KA2_385efaeefabd04cd21e1ef0a4a77e34b50f7f5bf074df7d22e4d51a1142496fc/Dataset_2-7KA2/data/assets/Image/598644_824484_9619599_Right Field 1.JPG\n",
      "2024-04-29 11:01:11,276 - INFO - Verifying checksum for file /data/2-7KA2_385efaeefabd04cd21e1ef0a4a77e34b50f7f5bf074df7d22e4d51a1142496fc/Dataset_2-7KA2/data/assets/Image/598644_824484_9619600_Right Field 3.JPG\n",
      "2024-04-29 11:01:11,291 - INFO - Verifying checksum for file /data/2-7KA2_385efaeefabd04cd21e1ef0a4a77e34b50f7f5bf074df7d22e4d51a1142496fc/Dataset_2-7KA2/data/assets/Image/598644_824484_9619601_Right Field 2.JPG\n",
      "2024-04-29 11:01:11,306 - INFO - Verifying checksum for file /data/2-7KA2_385efaeefabd04cd21e1ef0a4a77e34b50f7f5bf074df7d22e4d51a1142496fc/Dataset_2-7KA2/data/assets/Image/598644_824484_9619602_Left Field 1.JPG\n",
      "2024-04-29 11:01:11,321 - INFO - Verifying checksum for file /data/2-7KA2_385efaeefabd04cd21e1ef0a4a77e34b50f7f5bf074df7d22e4d51a1142496fc/Dataset_2-7KA2/data/assets/Image/598644_824484_9619604_Left Field 2.JPG\n",
      "2024-04-29 11:01:11,337 - INFO - Verifying checksum for file /data/2-7KA2_385efaeefabd04cd21e1ef0a4a77e34b50f7f5bf074df7d22e4d51a1142496fc/Dataset_2-7KA2/data/assets/Image/598644_824484_9619605_Left Field 3.JPG\n",
      "2024-04-29 11:01:11,352 - INFO - Verifying checksum for file /data/2-7KA2_385efaeefabd04cd21e1ef0a4a77e34b50f7f5bf074df7d22e4d51a1142496fc/Dataset_2-7KA2/data/assets/Image/612937_844349_9772227_Left Field 2.jpg\n",
      "2024-04-29 11:01:11,369 - INFO - Verifying checksum for file /data/2-7KA2_385efaeefabd04cd21e1ef0a4a77e34b50f7f5bf074df7d22e4d51a1142496fc/Dataset_2-7KA2/data/assets/Image/612937_844349_9772228_Right Field 2.jpg\n",
      "2024-04-29 11:01:11,385 - INFO - Verifying checksum for file /data/2-7KA2_385efaeefabd04cd21e1ef0a4a77e34b50f7f5bf074df7d22e4d51a1142496fc/Dataset_2-7KA2/data/assets/Image/612937_844349_9772230_Left Field 3.jpg\n",
      "2024-04-29 11:01:11,403 - INFO - Verifying checksum for file /data/2-7KA2_385efaeefabd04cd21e1ef0a4a77e34b50f7f5bf074df7d22e4d51a1142496fc/Dataset_2-7KA2/data/assets/Image/612937_844349_9772231_Left Field 1.jpg\n",
      "2024-04-29 11:01:11,428 - INFO - Verifying checksum for file /data/2-7KA2_385efaeefabd04cd21e1ef0a4a77e34b50f7f5bf074df7d22e4d51a1142496fc/Dataset_2-7KA2/data/assets/Image/612937_844349_9772232_Right Field 3.jpg\n",
      "2024-04-29 11:01:11,446 - INFO - Verifying checksum for file /data/2-7KA2_385efaeefabd04cd21e1ef0a4a77e34b50f7f5bf074df7d22e4d51a1142496fc/Dataset_2-7KA2/data/assets/Image/612937_844349_9772233_Right Field 1.jpg\n",
      "2024-04-29 11:01:11,461 - INFO - Verifying checksum for file /data/2-7KA2_385efaeefabd04cd21e1ef0a4a77e34b50f7f5bf074df7d22e4d51a1142496fc/Dataset_2-7KA2/data/assets/Image/684555_950526_10609121_Right Field 2.jpg\n",
      "2024-04-29 11:01:11,476 - INFO - Verifying checksum for file /data/2-7KA2_385efaeefabd04cd21e1ef0a4a77e34b50f7f5bf074df7d22e4d51a1142496fc/Dataset_2-7KA2/data/assets/Image/684555_950526_10609122_Right Field 3.jpg\n",
      "2024-04-29 11:01:11,492 - INFO - Verifying checksum for file /data/2-7KA2_385efaeefabd04cd21e1ef0a4a77e34b50f7f5bf074df7d22e4d51a1142496fc/Dataset_2-7KA2/data/assets/Image/684555_950526_10609124_Left Field 3.jpg\n",
      "2024-04-29 11:01:11,514 - INFO - Verifying checksum for file /data/2-7KA2_385efaeefabd04cd21e1ef0a4a77e34b50f7f5bf074df7d22e4d51a1142496fc/Dataset_2-7KA2/data/assets/Image/684555_950526_10609125_Left Field 2.jpg\n",
      "2024-04-29 11:01:11,533 - INFO - Verifying checksum for file /data/2-7KA2_385efaeefabd04cd21e1ef0a4a77e34b50f7f5bf074df7d22e4d51a1142496fc/Dataset_2-7KA2/data/assets/Image/684555_950526_10609127_Left Field 1.jpg\n",
      "2024-04-29 11:01:11,554 - INFO - Verifying checksum for file /data/2-7KA2_385efaeefabd04cd21e1ef0a4a77e34b50f7f5bf074df7d22e4d51a1142496fc/Dataset_2-7KA2/data/assets/Image/684555_950526_10609128_Right Field 1.jpg\n",
      "2024-04-29 11:01:11,570 - INFO - Verifying checksum for file /data/2-7KA2_385efaeefabd04cd21e1ef0a4a77e34b50f7f5bf074df7d22e4d51a1142496fc/Dataset_2-7KA2/data/assets/Image/696040_1125153_12014103_Left Field 2.jpg\n",
      "2024-04-29 11:01:11,589 - INFO - Verifying checksum for file /data/2-7KA2_385efaeefabd04cd21e1ef0a4a77e34b50f7f5bf074df7d22e4d51a1142496fc/Dataset_2-7KA2/data/assets/Image/696040_1125153_12014104_Left Field 3.jpg\n",
      "2024-04-29 11:01:11,608 - INFO - Verifying checksum for file /data/2-7KA2_385efaeefabd04cd21e1ef0a4a77e34b50f7f5bf074df7d22e4d51a1142496fc/Dataset_2-7KA2/data/assets/Image/696040_1125153_12014105_Right Field 2.jpg\n",
      "2024-04-29 11:01:11,628 - INFO - Verifying checksum for file /data/2-7KA2_385efaeefabd04cd21e1ef0a4a77e34b50f7f5bf074df7d22e4d51a1142496fc/Dataset_2-7KA2/data/assets/Image/696040_1125153_12014106_Right Field 3.jpg\n",
      "2024-04-29 11:01:11,647 - INFO - Verifying checksum for file /data/2-7KA2_385efaeefabd04cd21e1ef0a4a77e34b50f7f5bf074df7d22e4d51a1142496fc/Dataset_2-7KA2/data/assets/Image/696040_1125153_12014107_Left Field 1.jpg\n",
      "2024-04-29 11:01:11,668 - INFO - Verifying checksum for file /data/2-7KA2_385efaeefabd04cd21e1ef0a4a77e34b50f7f5bf074df7d22e4d51a1142496fc/Dataset_2-7KA2/data/assets/Image/696040_1125153_12014108_Right Field 1.jpg\n",
      "2024-04-29 11:01:11,688 - INFO - Verifying checksum for file /data/2-7KA2_385efaeefabd04cd21e1ef0a4a77e34b50f7f5bf074df7d22e4d51a1142496fc/Dataset_2-7KA2/data/assets/Image/696040_967596_10744912_Right Field 3.jpg\n",
      "2024-04-29 11:01:11,708 - INFO - Verifying checksum for file /data/2-7KA2_385efaeefabd04cd21e1ef0a4a77e34b50f7f5bf074df7d22e4d51a1142496fc/Dataset_2-7KA2/data/assets/Image/696040_967596_10744913_Left Field 1.jpg\n",
      "2024-04-29 11:01:11,755 - INFO - Verifying checksum for file /data/2-7KA2_385efaeefabd04cd21e1ef0a4a77e34b50f7f5bf074df7d22e4d51a1142496fc/Dataset_2-7KA2/data/assets/Image/696040_967596_10744914_Right Field 1.jpg\n",
      "2024-04-29 11:01:11,771 - INFO - Verifying checksum for file /data/2-7KA2_385efaeefabd04cd21e1ef0a4a77e34b50f7f5bf074df7d22e4d51a1142496fc/Dataset_2-7KA2/data/assets/Image/696040_967596_10744915_Left Field 2.jpg\n",
      "2024-04-29 11:01:11,787 - INFO - Verifying checksum for file /data/2-7KA2_385efaeefabd04cd21e1ef0a4a77e34b50f7f5bf074df7d22e4d51a1142496fc/Dataset_2-7KA2/data/assets/Image/696040_967596_10744916_Left Field 3.jpg\n",
      "2024-04-29 11:01:11,804 - INFO - Verifying checksum for file /data/2-7KA2_385efaeefabd04cd21e1ef0a4a77e34b50f7f5bf074df7d22e4d51a1142496fc/Dataset_2-7KA2/data/assets/Image/696040_967596_10744917_Right Field 2.jpg\n",
      "2024-04-29 11:01:11,821 - INFO - Verifying checksum for file /data/2-7KA2_385efaeefabd04cd21e1ef0a4a77e34b50f7f5bf074df7d22e4d51a1142496fc/Dataset_2-7KA2/data/assets/Image/728768_1018796_11160128_Left Field 3.jpg\n",
      "2024-04-29 11:01:11,837 - INFO - Verifying checksum for file /data/2-7KA2_385efaeefabd04cd21e1ef0a4a77e34b50f7f5bf074df7d22e4d51a1142496fc/Dataset_2-7KA2/data/assets/Image/728768_1018796_11160130_Right Field 3.jpg\n",
      "2024-04-29 11:01:11,856 - INFO - Verifying checksum for file /data/2-7KA2_385efaeefabd04cd21e1ef0a4a77e34b50f7f5bf074df7d22e4d51a1142496fc/Dataset_2-7KA2/data/assets/Image/728768_1018796_11160131_Left Field 2.jpg\n",
      "2024-04-29 11:01:11,874 - INFO - Verifying checksum for file /data/2-7KA2_385efaeefabd04cd21e1ef0a4a77e34b50f7f5bf074df7d22e4d51a1142496fc/Dataset_2-7KA2/data/assets/Image/728768_1018796_11160132_Left Field 1.jpg\n",
      "2024-04-29 11:01:11,891 - INFO - Verifying checksum for file /data/2-7KA2_385efaeefabd04cd21e1ef0a4a77e34b50f7f5bf074df7d22e4d51a1142496fc/Dataset_2-7KA2/data/assets/Image/728768_1018796_11160134_Right Field 1.jpg\n",
      "2024-04-29 11:01:11,908 - INFO - Verifying checksum for file /data/2-7KA2_385efaeefabd04cd21e1ef0a4a77e34b50f7f5bf074df7d22e4d51a1142496fc/Dataset_2-7KA2/data/assets/Image/728768_1018796_11160135_Right Field 2.jpg\n",
      "2024-04-29 11:01:11,923 - INFO - Verifying checksum for file /data/2-7KA2_385efaeefabd04cd21e1ef0a4a77e34b50f7f5bf074df7d22e4d51a1142496fc/Dataset_2-7KA2/data/assets/Image/822792_1165080_12329056_Left Field 3.jpg\n",
      "2024-04-29 11:01:11,939 - INFO - Verifying checksum for file /data/2-7KA2_385efaeefabd04cd21e1ef0a4a77e34b50f7f5bf074df7d22e4d51a1142496fc/Dataset_2-7KA2/data/assets/Image/822792_1165080_12329057_Left Field 1.jpg\n",
      "2024-04-29 11:01:11,955 - INFO - Verifying checksum for file /data/2-7KA2_385efaeefabd04cd21e1ef0a4a77e34b50f7f5bf074df7d22e4d51a1142496fc/Dataset_2-7KA2/data/assets/Image/822792_1165080_12329058_Left Field 2.jpg\n",
      "2024-04-29 11:01:11,971 - INFO - Verifying checksum for file /data/2-7KA2_385efaeefabd04cd21e1ef0a4a77e34b50f7f5bf074df7d22e4d51a1142496fc/Dataset_2-7KA2/data/assets/Image/822792_1165080_12329059_Right Field 1.jpg\n",
      "2024-04-29 11:01:11,988 - INFO - Verifying checksum for file /data/2-7KA2_385efaeefabd04cd21e1ef0a4a77e34b50f7f5bf074df7d22e4d51a1142496fc/Dataset_2-7KA2/data/assets/Image/822792_1165080_12329060_Right Field 2.jpg\n",
      "2024-04-29 11:01:12,004 - INFO - Verifying checksum for file /data/2-7KA2_385efaeefabd04cd21e1ef0a4a77e34b50f7f5bf074df7d22e4d51a1142496fc/Dataset_2-7KA2/data/assets/Image/822792_1165080_12329061_Right Field 3.jpg\n",
      "2024-04-29 11:01:12,021 - INFO - Verifying checksum for file /data/2-7KA2_385efaeefabd04cd21e1ef0a4a77e34b50f7f5bf074df7d22e4d51a1142496fc/Dataset_2-7KA2/data/assets/Image/852885_1213628_12701283_Right Field 1.JPG\n",
      "2024-04-29 11:01:12,036 - INFO - Verifying checksum for file /data/2-7KA2_385efaeefabd04cd21e1ef0a4a77e34b50f7f5bf074df7d22e4d51a1142496fc/Dataset_2-7KA2/data/assets/Image/852885_1213628_12701284_Left Field 1.JPG\n",
      "2024-04-29 11:01:12,052 - INFO - Verifying checksum for file /data/2-7KA2_385efaeefabd04cd21e1ef0a4a77e34b50f7f5bf074df7d22e4d51a1142496fc/Dataset_2-7KA2/data/assets/Image/852885_1213628_12701285_Right Field 3.JPG\n",
      "2024-04-29 11:01:12,067 - INFO - Verifying checksum for file /data/2-7KA2_385efaeefabd04cd21e1ef0a4a77e34b50f7f5bf074df7d22e4d51a1142496fc/Dataset_2-7KA2/data/assets/Image/852885_1213628_12701286_Right Field 2.JPG\n",
      "2024-04-29 11:01:12,083 - INFO - Verifying checksum for file /data/2-7KA2_385efaeefabd04cd21e1ef0a4a77e34b50f7f5bf074df7d22e4d51a1142496fc/Dataset_2-7KA2/data/assets/Image/852885_1213628_12701289_Left Field 3.JPG\n",
      "2024-04-29 11:01:12,099 - INFO - Verifying checksum for file /data/2-7KA2_385efaeefabd04cd21e1ef0a4a77e34b50f7f5bf074df7d22e4d51a1142496fc/Dataset_2-7KA2/data/assets/Image/852885_1213628_12701290_Left Field 2.JPG\n",
      "2024-04-29 11:01:12,115 - INFO - Verifying checksum for file /data/2-7KA2_385efaeefabd04cd21e1ef0a4a77e34b50f7f5bf074df7d22e4d51a1142496fc/Dataset_2-7KA2/data/assets/Image/894955_1281759_13223151_Right Field 3.jpg\n",
      "2024-04-29 11:01:12,134 - INFO - Verifying checksum for file /data/2-7KA2_385efaeefabd04cd21e1ef0a4a77e34b50f7f5bf074df7d22e4d51a1142496fc/Dataset_2-7KA2/data/assets/Image/894955_1281759_13223153_Right Field 2.jpg\n",
      "2024-04-29 11:01:12,149 - INFO - Verifying checksum for file /data/2-7KA2_385efaeefabd04cd21e1ef0a4a77e34b50f7f5bf074df7d22e4d51a1142496fc/Dataset_2-7KA2/data/assets/Image/894955_1281759_13223154_Left Field 2.jpg\n",
      "2024-04-29 11:01:12,170 - INFO - Verifying checksum for file /data/2-7KA2_385efaeefabd04cd21e1ef0a4a77e34b50f7f5bf074df7d22e4d51a1142496fc/Dataset_2-7KA2/data/assets/Image/894955_1281759_13223155_Right Field 1.jpg\n",
      "2024-04-29 11:01:12,191 - INFO - Verifying checksum for file /data/2-7KA2_385efaeefabd04cd21e1ef0a4a77e34b50f7f5bf074df7d22e4d51a1142496fc/Dataset_2-7KA2/data/assets/Image/894955_1281759_13223156_Left Field 1.jpg\n",
      "2024-04-29 11:01:12,215 - INFO - Verifying checksum for file /data/2-7KA2_385efaeefabd04cd21e1ef0a4a77e34b50f7f5bf074df7d22e4d51a1142496fc/Dataset_2-7KA2/data/assets/Image/894955_1281759_13223157_Left Field 3.jpg\n",
      "2024-04-29 11:01:12,232 - INFO - Verifying checksum for file /data/2-7KA2_385efaeefabd04cd21e1ef0a4a77e34b50f7f5bf074df7d22e4d51a1142496fc/Dataset_2-7KA2/data/assets/Image/900811_1290426_13287986_Left Field 2.jpg\n",
      "2024-04-29 11:01:12,252 - INFO - Verifying checksum for file /data/2-7KA2_385efaeefabd04cd21e1ef0a4a77e34b50f7f5bf074df7d22e4d51a1142496fc/Dataset_2-7KA2/data/assets/Image/900811_1290426_13287987_Left Field 3.jpg\n",
      "2024-04-29 11:01:12,273 - INFO - Verifying checksum for file /data/2-7KA2_385efaeefabd04cd21e1ef0a4a77e34b50f7f5bf074df7d22e4d51a1142496fc/Dataset_2-7KA2/data/assets/Image/900811_1290426_13287988_Left Field 1.jpg\n",
      "2024-04-29 11:01:12,293 - INFO - Verifying checksum for file /data/2-7KA2_385efaeefabd04cd21e1ef0a4a77e34b50f7f5bf074df7d22e4d51a1142496fc/Dataset_2-7KA2/data/assets/Image/900811_1290426_13287989_Right Field 2.jpg\n",
      "2024-04-29 11:01:12,324 - INFO - Verifying checksum for file /data/2-7KA2_385efaeefabd04cd21e1ef0a4a77e34b50f7f5bf074df7d22e4d51a1142496fc/Dataset_2-7KA2/data/assets/Image/900811_1290426_13287990_Right Field 3.jpg\n",
      "2024-04-29 11:01:12,353 - INFO - Verifying checksum for file /data/2-7KA2_385efaeefabd04cd21e1ef0a4a77e34b50f7f5bf074df7d22e4d51a1142496fc/Dataset_2-7KA2/data/assets/Image/900811_1290426_13287991_Right Field 1.jpg\n",
      "2024-04-29 11:01:12,375 - INFO - Verifying checksum for file /data/2-7KA2_385efaeefabd04cd21e1ef0a4a77e34b50f7f5bf074df7d22e4d51a1142496fc/Dataset_2-7KA2/data/assets/Image/910138_1303089_13369010_Right Field 3.jpg\n",
      "2024-04-29 11:01:12,398 - INFO - Verifying checksum for file /data/2-7KA2_385efaeefabd04cd21e1ef0a4a77e34b50f7f5bf074df7d22e4d51a1142496fc/Dataset_2-7KA2/data/assets/Image/910138_1303089_13369011_Left Field 2.jpg\n",
      "2024-04-29 11:01:12,429 - INFO - Verifying checksum for file /data/2-7KA2_385efaeefabd04cd21e1ef0a4a77e34b50f7f5bf074df7d22e4d51a1142496fc/Dataset_2-7KA2/data/assets/Image/910138_1303089_13369012_Right Field 2.jpg\n",
      "2024-04-29 11:01:12,445 - INFO - Verifying checksum for file /data/2-7KA2_385efaeefabd04cd21e1ef0a4a77e34b50f7f5bf074df7d22e4d51a1142496fc/Dataset_2-7KA2/data/assets/Image/910138_1303089_13369013_Left Field 1.jpg\n",
      "2024-04-29 11:01:12,465 - INFO - Verifying checksum for file /data/2-7KA2_385efaeefabd04cd21e1ef0a4a77e34b50f7f5bf074df7d22e4d51a1142496fc/Dataset_2-7KA2/data/assets/Image/910138_1303089_13369016_Right Field 1.jpg\n",
      "2024-04-29 11:01:12,480 - INFO - Verifying checksum for file /data/2-7KA2_385efaeefabd04cd21e1ef0a4a77e34b50f7f5bf074df7d22e4d51a1142496fc/Dataset_2-7KA2/data/assets/Image/910138_1303089_13369017_Left Field 3.jpg\n",
      "2024-04-29 11:01:12,495 - INFO - Verifying checksum for file /data/2-7KA2_385efaeefabd04cd21e1ef0a4a77e34b50f7f5bf074df7d22e4d51a1142496fc/Dataset_2-7KA2/data/assets/Image/963487_1385527_13977686_Left Field 3.jpg\n",
      "2024-04-29 11:01:12,510 - INFO - Verifying checksum for file /data/2-7KA2_385efaeefabd04cd21e1ef0a4a77e34b50f7f5bf074df7d22e4d51a1142496fc/Dataset_2-7KA2/data/assets/Image/963487_1385527_13977688_Left Field 1.jpg\n",
      "2024-04-29 11:01:12,529 - INFO - Verifying checksum for file /data/2-7KA2_385efaeefabd04cd21e1ef0a4a77e34b50f7f5bf074df7d22e4d51a1142496fc/Dataset_2-7KA2/data/assets/Image/963487_1385527_13977689_Right Field 3.jpg\n",
      "2024-04-29 11:01:12,544 - INFO - Verifying checksum for file /data/2-7KA2_385efaeefabd04cd21e1ef0a4a77e34b50f7f5bf074df7d22e4d51a1142496fc/Dataset_2-7KA2/data/assets/Image/963487_1385527_13977690_Right Field 2.jpg\n",
      "2024-04-29 11:01:12,559 - INFO - Verifying checksum for file /data/2-7KA2_385efaeefabd04cd21e1ef0a4a77e34b50f7f5bf074df7d22e4d51a1142496fc/Dataset_2-7KA2/data/assets/Image/963487_1385527_13977691_Right Field 1.jpg\n",
      "2024-04-29 11:01:12,578 - INFO - Verifying checksum for file /data/2-7KA2_385efaeefabd04cd21e1ef0a4a77e34b50f7f5bf074df7d22e4d51a1142496fc/Dataset_2-7KA2/data/assets/Image/963487_1385527_13977692_Left Field 2.jpg\n",
      "2024-04-29 11:01:12,599 - INFO - Verifying checksum for file /data/2-7KA2_385efaeefabd04cd21e1ef0a4a77e34b50f7f5bf074df7d22e4d51a1142496fc/Dataset_2-7KA2/data/assets/Image/966607_1390118_14009165_Left Field 3.jpg\n",
      "2024-04-29 11:01:12,619 - INFO - Verifying checksum for file /data/2-7KA2_385efaeefabd04cd21e1ef0a4a77e34b50f7f5bf074df7d22e4d51a1142496fc/Dataset_2-7KA2/data/assets/Image/966607_1390118_14009166_Right Field 3.jpg\n",
      "2024-04-29 11:01:12,645 - INFO - Verifying checksum for file /data/2-7KA2_385efaeefabd04cd21e1ef0a4a77e34b50f7f5bf074df7d22e4d51a1142496fc/Dataset_2-7KA2/data/assets/Image/966607_1390118_14009169_Right Field 1.jpg\n",
      "2024-04-29 11:01:12,665 - INFO - Verifying checksum for file /data/2-7KA2_385efaeefabd04cd21e1ef0a4a77e34b50f7f5bf074df7d22e4d51a1142496fc/Dataset_2-7KA2/data/assets/Image/966607_1390118_14009170_Left Field 2.jpg\n",
      "2024-04-29 11:01:12,684 - INFO - Verifying checksum for file /data/2-7KA2_385efaeefabd04cd21e1ef0a4a77e34b50f7f5bf074df7d22e4d51a1142496fc/Dataset_2-7KA2/data/assets/Image/966607_1390118_14009176_Right Field 2.jpg\n",
      "2024-04-29 11:01:12,700 - INFO - Verifying checksum for file /data/2-7KA2_385efaeefabd04cd21e1ef0a4a77e34b50f7f5bf074df7d22e4d51a1142496fc/Dataset_2-7KA2/data/assets/Image/966607_1390118_14009178_Left Field 1.jpg\n",
      "2024-04-29 11:01:12,718 - INFO - Verifying checksum for file /data/2-7KA2_385efaeefabd04cd21e1ef0a4a77e34b50f7f5bf074df7d22e4d51a1142496fc/Dataset_2-7KA2/data/assets/Image_Annotation/Cropped_8662.svg\n",
      "2024-04-29 11:01:12,733 - INFO - Verifying checksum for file /data/2-7KA2_385efaeefabd04cd21e1ef0a4a77e34b50f7f5bf074df7d22e4d51a1142496fc/Dataset_2-7KA2/data/assets/Image_Annotation/Cropped_8668.svg\n",
      "2024-04-29 11:01:12,749 - INFO - Verifying checksum for file /data/2-7KA2_385efaeefabd04cd21e1ef0a4a77e34b50f7f5bf074df7d22e4d51a1142496fc/Dataset_2-7KA2/data/assets/Image_Annotation/Cropped_8C8G.svg\n",
      "2024-04-29 11:01:12,764 - INFO - Verifying checksum for file /data/2-7KA2_385efaeefabd04cd21e1ef0a4a77e34b50f7f5bf074df7d22e4d51a1142496fc/Dataset_2-7KA2/data/assets/Image_Annotation/Cropped_8C8J.svg\n",
      "2024-04-29 11:01:12,779 - INFO - Verifying checksum for file /data/2-7KA2_385efaeefabd04cd21e1ef0a4a77e34b50f7f5bf074df7d22e4d51a1142496fc/Dataset_2-7KA2/data/assets/Image_Annotation/Cropped_8C8Y.svg\n",
      "2024-04-29 11:01:12,794 - INFO - Verifying checksum for file /data/2-7KA2_385efaeefabd04cd21e1ef0a4a77e34b50f7f5bf074df7d22e4d51a1142496fc/Dataset_2-7KA2/data/assets/Image_Annotation/Cropped_8C92.svg\n",
      "2024-04-29 11:01:12,811 - INFO - Verifying checksum for file /data/2-7KA2_385efaeefabd04cd21e1ef0a4a77e34b50f7f5bf074df7d22e4d51a1142496fc/Dataset_2-7KA2/data/assets/Image_Annotation/Cropped_8DWG.svg\n",
      "2024-04-29 11:01:12,827 - INFO - Verifying checksum for file /data/2-7KA2_385efaeefabd04cd21e1ef0a4a77e34b50f7f5bf074df7d22e4d51a1142496fc/Dataset_2-7KA2/data/assets/Image_Annotation/Cropped_8DWJ.svg\n",
      "2024-04-29 11:01:12,843 - INFO - Verifying checksum for file /data/2-7KA2_385efaeefabd04cd21e1ef0a4a77e34b50f7f5bf074df7d22e4d51a1142496fc/Dataset_2-7KA2/data/assets/Image_Annotation/Cropped_8NGP.svg\n",
      "2024-04-29 11:01:12,858 - INFO - Verifying checksum for file /data/2-7KA2_385efaeefabd04cd21e1ef0a4a77e34b50f7f5bf074df7d22e4d51a1142496fc/Dataset_2-7KA2/data/assets/Image_Annotation/Cropped_8NGW.svg\n",
      "2024-04-29 11:01:12,873 - INFO - Verifying checksum for file /data/2-7KA2_385efaeefabd04cd21e1ef0a4a77e34b50f7f5bf074df7d22e4d51a1142496fc/Dataset_2-7KA2/data/assets/Image_Annotation/Cropped_8SF8.svg\n",
      "2024-04-29 11:01:12,888 - INFO - Verifying checksum for file /data/2-7KA2_385efaeefabd04cd21e1ef0a4a77e34b50f7f5bf074df7d22e4d51a1142496fc/Dataset_2-7KA2/data/assets/Image_Annotation/Cropped_8SFE.svg\n",
      "2024-04-29 11:01:12,903 - INFO - Verifying checksum for file /data/2-7KA2_385efaeefabd04cd21e1ef0a4a77e34b50f7f5bf074df7d22e4d51a1142496fc/Dataset_2-7KA2/data/assets/Image_Annotation/Cropped_90MT.svg\n",
      "2024-04-29 11:01:12,920 - INFO - Verifying checksum for file /data/2-7KA2_385efaeefabd04cd21e1ef0a4a77e34b50f7f5bf074df7d22e4d51a1142496fc/Dataset_2-7KA2/data/assets/Image_Annotation/Cropped_90MY.svg\n",
      "2024-04-29 11:01:12,935 - INFO - Verifying checksum for file /data/2-7KA2_385efaeefabd04cd21e1ef0a4a77e34b50f7f5bf074df7d22e4d51a1142496fc/Dataset_2-7KA2/data/assets/Image_Annotation/Cropped_92GY.svg\n",
      "2024-04-29 11:01:12,952 - INFO - Verifying checksum for file /data/2-7KA2_385efaeefabd04cd21e1ef0a4a77e34b50f7f5bf074df7d22e4d51a1142496fc/Dataset_2-7KA2/data/assets/Image_Annotation/Cropped_92H2.svg\n",
      "2024-04-29 11:01:12,968 - INFO - Verifying checksum for file /data/2-7KA2_385efaeefabd04cd21e1ef0a4a77e34b50f7f5bf074df7d22e4d51a1142496fc/Dataset_2-7KA2/data/assets/Image_Annotation/Cropped_960A.svg\n",
      "2024-04-29 11:01:12,984 - INFO - Verifying checksum for file /data/2-7KA2_385efaeefabd04cd21e1ef0a4a77e34b50f7f5bf074df7d22e4d51a1142496fc/Dataset_2-7KA2/data/assets/Image_Annotation/Cropped_960C.svg\n",
      "2024-04-29 11:01:12,999 - INFO - Verifying checksum for file /data/2-7KA2_385efaeefabd04cd21e1ef0a4a77e34b50f7f5bf074df7d22e4d51a1142496fc/Dataset_2-7KA2/data/assets/Image_Annotation/Cropped_96YJ.svg\n",
      "2024-04-29 11:01:13,031 - INFO - Verifying checksum for file /data/2-7KA2_385efaeefabd04cd21e1ef0a4a77e34b50f7f5bf074df7d22e4d51a1142496fc/Dataset_2-7KA2/data/assets/Image_Annotation/Cropped_96YM.svg\n",
      "2024-04-29 11:01:13,065 - INFO - Verifying checksum for file /data/2-7KA2_385efaeefabd04cd21e1ef0a4a77e34b50f7f5bf074df7d22e4d51a1142496fc/Dataset_2-7KA2/data/assets/Image_Annotation/Cropped_9EDA.svg\n",
      "2024-04-29 11:01:13,112 - INFO - Verifying checksum for file /data/2-7KA2_385efaeefabd04cd21e1ef0a4a77e34b50f7f5bf074df7d22e4d51a1142496fc/Dataset_2-7KA2/data/assets/Image_Annotation/Cropped_9EDG.svg\n",
      "2024-04-29 11:01:13,133 - INFO - Verifying checksum for file /data/2-7KA2_385efaeefabd04cd21e1ef0a4a77e34b50f7f5bf074df7d22e4d51a1142496fc/Dataset_2-7KA2/data/assets/Image_Annotation/Cropped_9F04.svg\n",
      "2024-04-29 11:01:13,149 - INFO - Verifying checksum for file /data/2-7KA2_385efaeefabd04cd21e1ef0a4a77e34b50f7f5bf074df7d22e4d51a1142496fc/Dataset_2-7KA2/data/assets/Image_Annotation/Cropped_9F06.svg\n",
      "2024-04-29 11:01:13,168 - INFO - Verifying checksum for file /data/2-7KA2_385efaeefabd04cd21e1ef0a4a77e34b50f7f5bf074df7d22e4d51a1142496fc/Dataset_2-7KA2/data/assets/Image_Annotation/Cropped_9ZYM.svg\n",
      "2024-04-29 11:01:13,184 - INFO - Verifying checksum for file /data/2-7KA2_385efaeefabd04cd21e1ef0a4a77e34b50f7f5bf074df7d22e4d51a1142496fc/Dataset_2-7KA2/data/assets/Image_Annotation/Cropped_9ZYR.svg\n",
      "2024-04-29 11:01:13,201 - INFO - Verifying checksum for file /data/2-7KA2_385efaeefabd04cd21e1ef0a4a77e34b50f7f5bf074df7d22e4d51a1142496fc/Dataset_2-7KA2/data/assets/Image_Annotation/Cropped_9ZZ6.svg\n",
      "2024-04-29 11:01:13,219 - INFO - Verifying checksum for file /data/2-7KA2_385efaeefabd04cd21e1ef0a4a77e34b50f7f5bf074df7d22e4d51a1142496fc/Dataset_2-7KA2/data/assets/Image_Annotation/Cropped_9ZZA.svg\n",
      "2024-04-29 11:01:13,234 - INFO - Verifying checksum for file /data/2-7KA2_385efaeefabd04cd21e1ef0a4a77e34b50f7f5bf074df7d22e4d51a1142496fc/Dataset_2-7KA2/data/assets/Image_Annotation/Cropped_AAZ6.svg\n",
      "2024-04-29 11:01:13,249 - INFO - Verifying checksum for file /data/2-7KA2_385efaeefabd04cd21e1ef0a4a77e34b50f7f5bf074df7d22e4d51a1142496fc/Dataset_2-7KA2/data/assets/Image_Annotation/Cropped_AAZC.svg\n",
      "2024-04-29 11:01:13,265 - INFO - Verifying checksum for file /data/2-7KA2_385efaeefabd04cd21e1ef0a4a77e34b50f7f5bf074df7d22e4d51a1142496fc/Dataset_2-7KA2/data/assets/Image_Annotation/Cropped_AF76.svg\n",
      "2024-04-29 11:01:13,283 - INFO - Verifying checksum for file /data/2-7KA2_385efaeefabd04cd21e1ef0a4a77e34b50f7f5bf074df7d22e4d51a1142496fc/Dataset_2-7KA2/data/assets/Image_Annotation/Cropped_AF7A.svg\n",
      "2024-04-29 11:01:13,300 - INFO - Verifying checksum for file /data/2-7KA2_385efaeefabd04cd21e1ef0a4a77e34b50f7f5bf074df7d22e4d51a1142496fc/Dataset_2-7KA2/data/assets/Image_Annotation/Cropped_AFE8.svg\n",
      "2024-04-29 11:01:13,327 - INFO - Verifying checksum for file /data/2-7KA2_385efaeefabd04cd21e1ef0a4a77e34b50f7f5bf074df7d22e4d51a1142496fc/Dataset_2-7KA2/data/assets/Image_Annotation/Cropped_AFEA.svg\n",
      "2024-04-29 11:01:13,342 - INFO - Verifying checksum for file /data/2-7KA2_385efaeefabd04cd21e1ef0a4a77e34b50f7f5bf074df7d22e4d51a1142496fc/Dataset_2-7KA2/bagit.txt\n",
      "2024-04-29 11:01:13,361 - INFO - Verifying checksum for file /data/2-7KA2_385efaeefabd04cd21e1ef0a4a77e34b50f7f5bf074df7d22e4d51a1142496fc/Dataset_2-7KA2/bag-info.txt\n",
      "2024-04-29 11:01:13,377 - INFO - Verifying checksum for file /data/2-7KA2_385efaeefabd04cd21e1ef0a4a77e34b50f7f5bf074df7d22e4d51a1142496fc/Dataset_2-7KA2/manifest-md5.txt\n",
      "2024-04-29 11:01:13,393 - INFO - Verifying checksum for file /data/2-7KA2_385efaeefabd04cd21e1ef0a4a77e34b50f7f5bf074df7d22e4d51a1142496fc/Dataset_2-7KA2/fetch.txt\n",
      "2024-04-29 11:01:13,408 - INFO - Bag /data/2-7KA2_385efaeefabd04cd21e1ef0a4a77e34b50f7f5bf074df7d22e4d51a1142496fc/Dataset_2-7KA2 is valid\n",
      "2024-04-29 11:01:26,464 - INFO - File [working/Execution_Assets/diagnosis_model.h5] transfer successful. 227.78 MB transferred at 18.83 MB/second. Elapsed time: 0:00:12.095601.\n"
     ]
    },
    {
     "data": {
      "text/plain": [
       "{'vocabs': {'Workflow_Type': [{'name': 'Diagnosis', 'rid': '2-7J8T'}],\n",
       "  'Diagnosis_Tag': [{'name': 'CNN_Prediction', 'rid': '2-7KBR'}]},\n",
       " 'execution_rid': '2-A77C',\n",
       " 'workflow_rid': '2-A5QA',\n",
       " 'bag_paths': [PosixPath('/data/2-7KA2_385efaeefabd04cd21e1ef0a4a77e34b50f7f5bf074df7d22e4d51a1142496fc/Dataset_2-7KA2')],\n",
       " 'assets_paths': [PosixPath('working/Execution_Assets/diagnosis_model.h5')],\n",
       " 'configuration_path': PosixPath('working/Execution_Metadata/Execution_Config-diagnosis_insert.json')}"
      ]
     },
     "execution_count": 7,
     "metadata": {},
     "output_type": "execute_result"
    }
   ],
   "source": [
    "# @title Initiate an Execution\n",
    "configuration_records = EA.execution_init(configuration_rid=configuration_rid)\n",
    "input_dataset = configuration_records.assets_paths[0] # Assumes that the configuration file only specifies one dataset.\n",
    "configuration_records.model_dump()"
   ]
  },
  {
   "cell_type": "markdown",
   "metadata": {
    "editable": true,
    "slideshow": {
     "slide_type": ""
    },
    "tags": []
   },
   "source": [
    "Algorithm was trained on cropped images, so take the raw images and bounding boxes and apply, storing the results in the working directory. "
   ]
  },
  {
   "cell_type": "code",
   "execution_count": 8,
   "metadata": {
    "editable": true,
    "slideshow": {
     "slide_type": ""
    },
    "tags": []
   },
   "outputs": [],
   "source": [
    "# @title Get Cropped Images\n",
    "cropped_image_path, cropped_csv = EA.create_cropped_images(str(configuration_records.bag_paths[0]),\n",
    "                                                           output_dir = working_dir,\n",
    "                                                           crop_to_eye=False)"
   ]
  },
  {
   "cell_type": "markdown",
   "metadata": {
    "editable": true,
    "slideshow": {
     "slide_type": ""
    },
    "tags": []
   },
   "source": [
    "Import the actual model code and then run against the input dataset specified in the configuration file.  "
   ]
  },
  {
   "cell_type": "code",
   "execution_count": null,
   "metadata": {
    "editable": true,
    "slideshow": {
     "slide_type": ""
    },
    "tags": []
   },
   "outputs": [
    {
     "name": "stderr",
     "output_type": "stream",
     "text": [
      "2024-04-29 11:02:37.911734: E external/local_xla/xla/stream_executor/cuda/cuda_dnn.cc:9261] Unable to register cuDNN factory: Attempting to register factory for plugin cuDNN when one has already been registered\n",
      "2024-04-29 11:02:37.911783: E external/local_xla/xla/stream_executor/cuda/cuda_fft.cc:607] Unable to register cuFFT factory: Attempting to register factory for plugin cuFFT when one has already been registered\n",
      "2024-04-29 11:02:37.912534: E external/local_xla/xla/stream_executor/cuda/cuda_blas.cc:1515] Unable to register cuBLAS factory: Attempting to register factory for plugin cuBLAS when one has already been registered\n",
      "2024-04-29 11:02:37.918635: I tensorflow/core/platform/cpu_feature_guard.cc:182] This TensorFlow binary is optimized to use available CPU instructions in performance-critical operations.\n",
      "To enable the following instructions: AVX2 FMA, in other operations, rebuild TensorFlow with the appropriate compiler flags.\n"
     ]
    }
   ],
   "source": [
    "# @title Execute Proecss algorithm (Test model)\n",
    "from eye_ai.models.vgg19_diagnosis_predict import prediction\n",
    "\n",
    "with EA.execution(execution_rid=configuration_records.execution_rid) as exec:\n",
    "  output_path = EA.execution_assets_path/Path(\"Model_Prediction\")\n",
    "  pred_csv_path = prediction(input_dataset, cropped_image_path, output_path)"
   ]
  },
  {
   "cell_type": "code",
   "execution_count": null,
   "metadata": {
    "editable": true,
    "id": "hra5M6G8-dh9",
    "slideshow": {
     "slide_type": ""
    },
    "tags": []
   },
   "outputs": [],
   "source": [
    "# @title Plot ROC.\n",
    "roc_value_path = EA.plot_roc(pred_csv_path)"
   ]
  },
  {
   "cell_type": "markdown",
   "metadata": {
    "editable": true,
    "slideshow": {
     "slide_type": ""
    },
    "tags": []
   },
   "source": [
    "Add the new lables to the catalog using the provided diagnosis tage for this execution.  Also upload any additional assets that were produced by this execution.."
   ]
  },
  {
   "cell_type": "code",
   "execution_count": null,
   "metadata": {},
   "outputs": [],
   "source": [
    "# @title Save Diagnosis\n",
    "import re\n",
    "pred_df = pd.read_csv(pred_csv_path)\n",
    "pred_df['Image'] = pred_df['Filename'].apply(lambda x: re.search(r'Cropped_(.*?)\\.', x).group(1))\n",
    "# The input dataframe need two columns: Image (containing image rid) and Prediction (containing 0/1)\n",
    "EA.insert_new_diagnosis(pred_df,\n",
    "                        configuration_records.vocabs['Diagnosis_Tag'][0].rid,\n",
    "                        configuration_records.execution_rid)\n"
   ]
  },
  {
   "cell_type": "code",
   "execution_count": null,
   "metadata": {},
   "outputs": [],
   "source": [
    "# @title Save Execution Assets (model) and Metadata\n",
    "uploaded_assets = EA.execution_upload(configuration_records.execution_rid, False)\n"
   ]
  },
  {
   "cell_type": "code",
   "execution_count": null,
   "metadata": {},
   "outputs": [],
   "source": []
  }
 ],
 "metadata": {
  "colab": {
   "include_colab_link": true,
   "provenance": []
  },
  "kernelspec": {
   "display_name": "Eye AI (Conda)",
   "language": "python",
   "name": "eye-ai"
  },
  "language_info": {
   "codemirror_mode": {
    "name": "ipython",
    "version": 3
   },
   "file_extension": ".py",
   "mimetype": "text/x-python",
   "name": "python",
   "nbconvert_exporter": "python",
   "pygments_lexer": "ipython3",
   "version": "3.10.13"
  }
 },
 "nbformat": 4,
 "nbformat_minor": 4
}
