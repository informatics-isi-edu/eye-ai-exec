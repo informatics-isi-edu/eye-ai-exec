{
 "cells": [
  {
   "cell_type": "code",
   "execution_count": null,
   "id": "98411793-13d3-4deb-b559-7a61f536b432",
   "metadata": {},
   "outputs": [],
   "source": [
    "repo_dir = \"Repos\"   # Set this to be where your github repos are located.\n",
    "%load_ext autoreload\n",
    "%autoreload 2\n",
    "\n",
    "# Update the load path so python can find modules for the model\n",
    "import sys\n",
    "from pathlib import Path\n",
    "sys.path.insert(0, str(Path.home() / repo_dir / \"eye-ai-ml\"))"
   ]
  },
  {
   "cell_type": "code",
   "execution_count": null,
   "id": "4ec94952-b138-4536-8223-a44c150f1cc8",
   "metadata": {},
   "outputs": [],
   "source": [
    "# Prerequisites\n",
    "\n",
    "import json\n",
    "import os\n",
    "from eye_ai.eye_ai import EyeAI\n",
    "import pandas as pd\n",
    "from pathlib import Path, PurePath\n",
    "import logging\n",
    "# import torch\n",
    "\n",
    "logging.basicConfig(level=logging.INFO, format='%(asctime)s - %(levelname)s - %(message)s', force=True)"
   ]
  },
  {
   "cell_type": "code",
   "execution_count": null,
   "id": "54c2963f-6805-44ab-a78f-dfff3a14ae80",
   "metadata": {},
   "outputs": [],
   "source": [
    "from deriva.core.utils.globus_auth_utils import GlobusNativeLogin\n",
    "catalog_id = \"eye-ai\" #@param\n",
    "# host = 'dev.eye-ai.org'\n",
    "host = 'www.eye-ai.org'\n",
    "\n",
    "\n",
    "gnl = GlobusNativeLogin(host=host)\n",
    "if gnl.is_logged_in([host]):\n",
    "    print(\"You are already logged in.\")\n",
    "else:\n",
    "    gnl.login([host], no_local_server=True, no_browser=True, refresh_tokens=True, update_bdbag_keychain=True)\n",
    "    print(\"Login Successful\")"
   ]
  },
  {
   "cell_type": "code",
   "execution_count": null,
   "id": "859fb65e-f7a1-4e65-abf8-f209390c0211",
   "metadata": {},
   "outputs": [],
   "source": [
    "# Variables to configure the rest of the notebook.\n",
    "\n",
    "cache_dir = '/data'        # Directory in which to cache materialized BDBags for datasets\n",
    "working_dir = '/data'    # Directory in which to place output files for later upload.\n",
    "\n",
    "configuration_rid=\"2-C60W\" # rid dev: 2-BH84 prod: 2-C60W\n"
   ]
  },
  {
   "cell_type": "code",
   "execution_count": null,
   "id": "4ef26797-d732-4289-bc06-899f4a0b3176",
   "metadata": {},
   "outputs": [],
   "source": [
    "EA = EyeAI(hostname = host, catalog_id = catalog_id, cache_dir= cache_dir, working_dir=working_dir)"
   ]
  },
  {
   "cell_type": "code",
   "execution_count": null,
   "id": "6f5059bd-0419-4468-a991-23c59875a400",
   "metadata": {},
   "outputs": [],
   "source": [
    "# @title Initiate an Execution\n",
    "configuration_records = EA.execution_init(configuration_rid=configuration_rid)\n",
    "configuration_records.model_dump()"
   ]
  },
  {
   "cell_type": "code",
   "execution_count": null,
   "id": "8786e088-9c9e-40aa-bb56-a9949d1c8000",
   "metadata": {},
   "outputs": [],
   "source": [
    "# Compute condition labels\n",
    "icd10 = pd.read_csv(configuration_records.bag_paths[0]/'data/Clinic_ICD10.csv').drop(columns=['RCT', 'RMT', 'RCB', 'RMB'])\n",
    "icd10_asso = pd.read_csv(configuration_records.bag_paths[0]/'data/Clinic_ICD_Asso.csv').drop(columns=['RCT', 'RMT', 'RCB', 'RMB'])\n",
    "\n",
    "condition_labels = EA.compute_condition_label(icd10_asso, icd10)"
   ]
  },
  {
   "cell_type": "code",
   "execution_count": null,
   "id": "81378137-bfe7-4582-88fd-8c2044cd444b",
   "metadata": {},
   "outputs": [],
   "source": [
    "condition_labels"
   ]
  },
  {
   "cell_type": "code",
   "execution_count": null,
   "id": "8019c19c-09e7-42df-9ef3-dde57628e062",
   "metadata": {},
   "outputs": [],
   "source": [
    "# Insert new condition labels\n",
    "EA.insert_condition_label(condition_labels)\n"
   ]
  },
  {
   "cell_type": "code",
   "execution_count": null,
   "id": "d4bfd18c-fd40-44d9-b3ac-fe04dd47d7ee",
   "metadata": {},
   "outputs": [],
   "source": [
    "uploaded_assets = EA.execution_upload(configuration_records.execution_rid, True)"
   ]
  }
 ],
 "metadata": {
  "language_info": {
   "name": "python"
  }
 },
 "nbformat": 4,
 "nbformat_minor": 5
}
