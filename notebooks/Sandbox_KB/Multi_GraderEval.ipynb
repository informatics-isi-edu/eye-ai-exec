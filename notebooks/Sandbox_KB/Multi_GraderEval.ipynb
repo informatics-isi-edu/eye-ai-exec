{
 "cells": [
  {
   "cell_type": "markdown",
   "id": "b2006ce9-6ca1-402d-b9ad-8853b85509cf",
   "metadata": {},
   "source": [
    "# Connect Eye-AI and Load Libraries"
   ]
  },
  {
   "cell_type": "code",
   "execution_count": 1,
   "id": "003248d9-3365-4aaa-874a-858234cb2f86",
   "metadata": {},
   "outputs": [],
   "source": [
    "repo_dir = \"Repos\"   # Set this to be where your github repos are located.\n",
    "%load_ext autoreload\n",
    "%autoreload 2\n",
    "\n",
    "# # Update the load path so python can find modules for the model\n",
    "import sys\n",
    "from pathlib import Path\n",
    "sys.path.insert(0, str(Path.home() / repo_dir / \"eye-ai-ml\"))\n",
    "sys.path.insert(0, str(Path.home() / repo_dir / \"eye-ai-exec\"))"
   ]
  },
  {
   "cell_type": "code",
   "execution_count": 2,
   "id": "8499060d-4de0-4ab1-bf23-8f766d24dd5e",
   "metadata": {},
   "outputs": [],
   "source": [
    "# Prerequisites\n",
    "import json\n",
    "import os\n",
    "import shutil\n",
    "from PIL import Image\n",
    "\n",
    "# EyeAI, Deriva, VGG19\n",
    "from deriva_ml import DatasetSpec, DatasetBag, Workflow, ExecutionConfiguration, VersionPart\n",
    "from deriva_ml import MLVocab as vc\n",
    "from eye_ai.eye_ai import EyeAI\n",
    "\n",
    "# ML Analytics\n",
    "import pandas as pd\n",
    "import numpy as np\n",
    "import sklearn.metrics as sk\n",
    "\n",
    "# Other Utilities\n",
    "from pathlib import Path, PurePath\n",
    "import logging\n",
    "from datetime import datetime\n",
    "\n",
    "logging.basicConfig(level=logging.INFO, format='%(asctime)s - %(levelname)s - %(message)s', force=True)"
   ]
  },
  {
   "cell_type": "code",
   "execution_count": 3,
   "id": "9e4c1b67-794d-4239-8696-7a0f432e4fcc",
   "metadata": {},
   "outputs": [
    {
     "name": "stdout",
     "output_type": "stream",
     "text": [
      "1.7.1\n"
     ]
    }
   ],
   "source": [
    "import sklearn\n",
    "import sklearn.metrics as skm\n",
    "print(sklearn.__version__)\n"
   ]
  },
  {
   "cell_type": "code",
   "execution_count": 4,
   "id": "1f254b11-9f01-4185-95a0-cd7f80995c2f",
   "metadata": {},
   "outputs": [
    {
     "name": "stderr",
     "output_type": "stream",
     "text": [
      "2025-08-28 20:27:13,082 - INFO - Creating client of type <class 'globus_sdk.services.auth.client.native_client.NativeAppAuthClient'> for service \"auth\"\n",
      "2025-08-28 20:27:13,083 - INFO - Finished initializing AuthLoginClient. client_id='8ef15ba9-2b4a-469c-a163-7fd910c9d111', type(authorizer)=<class 'globus_sdk.authorizers.base.NullAuthorizer'>\n"
     ]
    },
    {
     "name": "stdout",
     "output_type": "stream",
     "text": [
      "You are already logged in.\n"
     ]
    }
   ],
   "source": [
    "# Login\n",
    "from deriva.core.utils.globus_auth_utils import GlobusNativeLogin\n",
    "host = 'www.eye-ai.org'\n",
    "#host = 'dev.eye-ai.org' #for dev testing\n",
    "catalog_id = \"eye-ai\"\n",
    "\n",
    "gnl = GlobusNativeLogin(host=host)\n",
    "if gnl.is_logged_in([host]):\n",
    "    print(\"You are already logged in.\")\n",
    "else:\n",
    "    gnl.login([host], no_local_server=True, no_browser=True, refresh_tokens=True, update_bdbag_keychain=True)\n",
    "    print(\"Login Successful\")"
   ]
  },
  {
   "cell_type": "markdown",
   "id": "420ee433-9dce-460f-ab4d-0aff7d4eea0e",
   "metadata": {},
   "source": [
    "# Configuration"
   ]
  },
  {
   "cell_type": "code",
   "execution_count": 5,
   "id": "3a40db10-6f64-4b6e-a22d-3c7011e2a3fa",
   "metadata": {},
   "outputs": [
    {
     "name": "stderr",
     "output_type": "stream",
     "text": [
      "2025-08-28 20:27:14,669 - INFO - Creating client of type <class 'globus_sdk.services.auth.client.native_client.NativeAppAuthClient'> for service \"auth\"\n",
      "2025-08-28 20:27:14,669 - INFO - Finished initializing AuthLoginClient. client_id='8ef15ba9-2b4a-469c-a163-7fd910c9d111', type(authorizer)=<class 'globus_sdk.authorizers.base.NullAuthorizer'>\n"
     ]
    }
   ],
   "source": [
    "cache_dir = '/data'\n",
    "working_dir = '/data'\n",
    "EA = EyeAI(hostname = host, catalog_id = catalog_id, cache_dir= cache_dir, working_dir=working_dir)"
   ]
  },
  {
   "cell_type": "code",
   "execution_count": 6,
   "id": "85ad0a5a-4bcc-423b-a020-3e84e7506055",
   "metadata": {},
   "outputs": [],
   "source": [
    "\n",
    "\n",
    "#ml_instance.increment_dataset_version(dataset_rid='2-N93J', component= VersionPart.patch, description='Update to latest deriva-ml schema')"
   ]
  },
  {
   "cell_type": "code",
   "execution_count": 7,
   "id": "5c7340a9-2356-481b-bbd9-2f1f30955ca7",
   "metadata": {},
   "outputs": [
    {
     "name": "stderr",
     "output_type": "stream",
     "text": [
      "2025-08-28 20:27:18,263 - INFO - Materialize bag 4-411G... \n",
      "2025-08-28 20:27:18,471 - INFO - Creating client of type <class 'globus_sdk.services.auth.client.native_client.NativeAppAuthClient'> for service \"auth\"\n",
      "2025-08-28 20:27:18,472 - INFO - Finished initializing AuthLoginClient. client_id='8ef15ba9-2b4a-469c-a163-7fd910c9d111', type(authorizer)=<class 'globus_sdk.authorizers.base.NullAuthorizer'>\n",
      "2025-08-28 20:27:20,077 - INFO - Using cached bag for  4-411G Version:2.7.0\n",
      "2025-08-28 20:27:20,078 - INFO - Loading /data/4-411G_37ce9366c961c832931248ef462255860bc8595e0165040faa43113eba38ce45/Dataset_4-411G\n",
      "2025-08-28 20:27:20,845 - INFO - Creating new database for dataset: 4-411G in /data/kb_766/EyeAI_working/4-411G@33N-3CNE-1XFP.db\n",
      "2025-08-28 20:27:20,846 - INFO - Materialize bag 2-C9PR... \n",
      "2025-08-28 20:27:21,063 - INFO - Creating client of type <class 'globus_sdk.services.auth.client.native_client.NativeAppAuthClient'> for service \"auth\"\n",
      "2025-08-28 20:27:21,064 - INFO - Finished initializing AuthLoginClient. client_id='8ef15ba9-2b4a-469c-a163-7fd910c9d111', type(authorizer)=<class 'globus_sdk.authorizers.base.NullAuthorizer'>\n",
      "2025-08-28 20:27:22,524 - INFO - Using cached bag for  2-C9PR Version:2.7.0\n",
      "2025-08-28 20:27:22,525 - INFO - Loading /data/2-C9PR_5a22c20f7dd267724f2d9bc1c44d6200827219be3029c2c4f7fa537c064a06e7/Dataset_2-C9PR\n",
      "2025-08-28 20:27:23,870 - INFO - Creating new database for dataset: 2-C9PR in /data/kb_766/EyeAI_working/2-C9PR@33N-3CNE-1XFP.db\n",
      "2025-08-28 20:27:23,913 - INFO - Downloading assets ...\n",
      "2025-08-28 20:27:24,340 - INFO - Initialize status finished.\n"
     ]
    }
   ],
   "source": [
    "datasets = [ '4-411G', '2-C9PR' ]#\"2-39FY\" ]\n",
    "\n",
    "data_to_download = []\n",
    "for dataset in datasets:\n",
    "    ds_dict = {\n",
    "        'rid': dataset,\n",
    "        'materialize':False,\n",
    "        'version':EA.dataset_version(dataset_rid=dataset),\n",
    "    }\n",
    "    data_to_download.append(ds_dict)\n",
    "\n",
    "dataset_workflow = EA.add_workflow( \n",
    "    Workflow(\n",
    "        name=\"Make Dataset by KB\",\n",
    "        url=\"https://github.com/informatics-isi-edu/eye-ai-exec/blob/main/notebooks/Sandbox_KB/Make_Dataset.ipynb\",\n",
    "        workflow_type=\"Test Workflow\",\n",
    "        )\n",
    "    )\n",
    "\n",
    "config = ExecutionConfiguration(\n",
    "    datasets=data_to_download,\n",
    "    workflow=dataset_workflow,\n",
    "    description=\"Test\"\n",
    "    )\n",
    "\n",
    "execution = EA.create_execution(config)"
   ]
  },
  {
   "cell_type": "code",
   "execution_count": 8,
   "id": "9db71483-dce2-4fdf-bcbc-0c952989d8f3",
   "metadata": {},
   "outputs": [
    {
     "name": "stdout",
     "output_type": "stream",
     "text": [
      "caching_dir: /data\n",
      "_working_dir: /data/kb_766/EyeAI_working\n",
      "execution_rid: 5-4XCP\n",
      "workflow_rid: 4-Z5Y4\n",
      "asset_paths: {}\n",
      "configuration: datasets=[DatasetSpec(rid='4-411G', materialize=False, version=DatasetVersion(major=2, minor=7, patch=0)), DatasetSpec(rid='2-C9PR', materialize=False, version=DatasetVersion(major=2, minor=7, patch=0))] assets=[] workflow='4-Z5Y4' parameters={} description='Test' argv=['/home/kb_766/.conda/envs/my-tensorflow-conda/lib/python3.10/site-packages/ipykernel_launcher.py', '-f', '/home/kb_766/.local/share/jupyter/runtime/kernel-2f5e238d-101c-4d36-b517-990edcf7b75a.json']\n"
     ]
    }
   ],
   "source": [
    "print(execution)"
   ]
  },
  {
   "cell_type": "markdown",
   "id": "ff4ad8d0-ee04-4844-9712-b6cca103ee1f",
   "metadata": {},
   "source": [
    "# Work with Data"
   ]
  },
  {
   "cell_type": "code",
   "execution_count": 9,
   "id": "3f4d890f-f8fc-4110-829f-f4e6f09f3790",
   "metadata": {},
   "outputs": [],
   "source": [
    "ds_img = execution.datasets[0]\n",
    "ds_test = execution.datasets[1]"
   ]
  },
  {
   "cell_type": "markdown",
   "id": "f682b2ab-6a21-4876-afc4-0570d6e877c4",
   "metadata": {},
   "source": [
    "# My Grading"
   ]
  },
  {
   "cell_type": "code",
   "execution_count": 21,
   "id": "da5516d2-6833-48e9-aa90-71ca69e02909",
   "metadata": {},
   "outputs": [],
   "source": [
    "# Get disc-only grading ME\n",
    "disc_grades = pd.read_csv('Multimodal test set grading - disc only - KB 8-12-25.csv')\n",
    "disc_grades = disc_grades.drop(['Random_Ind','Comments'], axis=1)\n",
    "disc_grades = disc_grades.dropna(subset=['Glaucoma','GS+Mild_Mod+Severe'])\n",
    "disc_grades = disc_grades.rename(columns={'Glaucoma':'Disc_Grade', 'GS+Mild_Mod+Severe':'Disc_Severity'})\n",
    "disc_grades = disc_grades[['RID_Subject', 'Eye', 'Disc_Grade', 'Disc_Severity']]"
   ]
  },
  {
   "cell_type": "code",
   "execution_count": 22,
   "id": "c45aa820-61b6-461a-9f08-5bc329b1cd02",
   "metadata": {},
   "outputs": [],
   "source": [
    "# Get full testing grading\n",
    "full_grades = pd.read_csv('testset_compiled_graded_adjudicated.csv')\n",
    "full_grades = full_grades[['RID_Subject', 'Side', 'Grade_grader2', 'Grader 2']]\n",
    "full_grades = full_grades.rename(columns={'Grade_grader2':'Full_Grade', 'Grader 2':'Grader', 'Side':'Eye'})\n",
    "full_grades = full_grades.dropna(subset=['Full_Grade'])"
   ]
  },
  {
   "cell_type": "code",
   "execution_count": 23,
   "id": "fdd01f66-a15c-4f13-96df-24e4c39bd37f",
   "metadata": {},
   "outputs": [
    {
     "name": "stderr",
     "output_type": "stream",
     "text": [
      "/home/kb_766/Repos/eye-ai-ml/eye_ai/eye_ai.py:423: SettingWithCopyWarning: \n",
      "A value is trying to be set on a copy of a slice from a DataFrame.\n",
      "Try using .loc[row_indexer,col_indexer] = value instead\n",
      "\n",
      "See the caveats in the documentation: https://pandas.pydata.org/pandas-docs/stable/user_guide/indexing.html#returning-a-view-versus-a-copy\n",
      "  hvf_clean.loc[:, 'priority'] = hvf_clean['Field_Size'].map(priority)\n"
     ]
    }
   ],
   "source": [
    "mergeDF = pd.merge( disc_grades,\n",
    "                   full_grades[full_grades['Grader'] == 'KB'],\n",
    "                   on = ['RID_Subject', 'Eye'],\n",
    "                   how = 'inner'\n",
    "                  )\n",
    "\n",
    "mergeDF = pd.merge( mergeDF,\n",
    "                   ds_img.get_table_as_dataframe('Execution_Subject_Chart_Label')[['Subject', 'Image_Side', 'Condition_Label']],\n",
    "                   left_on = ['RID_Subject', 'Eye'], right_on = ['Subject', 'Image_Side'],\n",
    "                   how = 'left'\n",
    "                  )[['RID_Subject', 'Eye', 'Disc_Grade', 'Disc_Severity', 'Full_Grade', 'Condition_Label']]\n",
    "\n",
    "mergeDF = pd.merge( mergeDF,\n",
    "                   EA.multimodal_wide(ds_test)[['RID_Subject', 'Image_Side', 'MD']],\n",
    "                   left_on = ['RID_Subject', 'Eye'], right_on = ['RID_Subject', 'Image_Side'],\n",
    "                   how = 'left'\n",
    "                  )[['RID_Subject', 'Eye', 'Disc_Grade', 'Disc_Severity', 'Full_Grade', 'Condition_Label', 'MD']]\n",
    "\n",
    "mergeDF = mergeDF.rename(columns={'Condition_Label':'Chart_Label'})\n",
    "mergeDF['Binary_Disc_Grade'] = mergeDF['Disc_Grade'].map({'0-suspect': 0, '1-glaucoma': 1})\n",
    "mergeDF['Binary_Disc_Severity'] = mergeDF['Disc_Severity'].map({'0-GS/Mild': 0, '1-Mod/Severe': 1})\n",
    "mergeDF['Binary_Full_Grade'] = mergeDF['Full_Grade'].map({'GS': 0, 'Glaucoma': 1})\n",
    "mergeDF['Binary_Label'] = mergeDF['Chart_Label'].map({'GS': 0, 'POAG': 1, 'PACG': 1})\n"
   ]
  },
  {
   "cell_type": "code",
   "execution_count": 24,
   "id": "511e54ca-2c92-4538-9aee-a97881f0f6ea",
   "metadata": {},
   "outputs": [],
   "source": [
    "import ipywidgets as widgets\n",
    "from IPython.display import display\n",
    "import matplotlib.pyplot as plt\n",
    "\n",
    "def prep_stats(y_true=None, y_pred=None, cm=None):\n",
    "    if cm is None and y_true is not None and y_pred is not None:\n",
    "        cm = sk.confusion_matrix(y_true, y_pred)\n",
    "    tn, fp, fn, tp = cm.ravel()\n",
    "    accuracy = (tp + tn) / (tp + tn + fp + fn)\n",
    "    sensitivity = tp / (tp + fn)       # Recall, True Positive Rate\n",
    "    specificity = tn / (tn + fp)       # True Negative Rate\n",
    "\n",
    "    print(f\"Accuracy   : {accuracy:.3f}\")\n",
    "    print(f\"Sensitivity: {sensitivity:.3f}\")\n",
    "    print(f\"Specificity: {specificity:.3f}\")\n",
    "\n",
    "    return(cm)"
   ]
  },
  {
   "cell_type": "code",
   "execution_count": 25,
   "id": "d0336366-bd0e-4af1-b591-29e269824ead",
   "metadata": {},
   "outputs": [
    {
     "name": "stdout",
     "output_type": "stream",
     "text": [
      "KB: GS vs. Glaucoma  ---------------------\n"
     ]
    },
    {
     "data": {
      "application/vnd.jupyter.widget-view+json": {
       "model_id": "b1ac9f8997034c1fa478e059d15e698d",
       "version_major": 2,
       "version_minor": 0
      },
      "text/plain": [
       "HBox(children=(Output(), Output()))"
      ]
     },
     "metadata": {},
     "output_type": "display_data"
    }
   ],
   "source": [
    "# GS vs. Glaucoma\n",
    "\n",
    "left_out = widgets.Output()\n",
    "right_out = widgets.Output()\n",
    "\n",
    "print(\"KB: GS vs. Glaucoma  ---------------------\")\n",
    "\n",
    "# Fill the left output\n",
    "with left_out:\n",
    "    print(\"Disc Grade\")\n",
    "    cm_KB_G_D = prep_stats(y_true=mergeDF['Binary_Label'], y_pred=mergeDF['Binary_Disc_Grade'])\n",
    "    sk.ConfusionMatrixDisplay(cm_KB_G_D).plot(cmap='Blues')\n",
    "    plt.show()\n",
    "    \n",
    "# Fill the right output\n",
    "with right_out:\n",
    "    print(\"Full Testing Grade\")\n",
    "    cm_KB_G_F = prep_stats(y_true=mergeDF['Binary_Label'], y_pred=mergeDF['Binary_Full_Grade'])\n",
    "    sk.ConfusionMatrixDisplay(cm_KB_G_F).plot(cmap='Blues')\n",
    "    plt.show()\n",
    "\n",
    "# Display side-by-side\n",
    "box = widgets.HBox([left_out, right_out])\n",
    "display(box)"
   ]
  },
  {
   "cell_type": "code",
   "execution_count": 26,
   "id": "fc3c926c-9e56-495d-af1e-e6d40487e190",
   "metadata": {},
   "outputs": [
    {
     "name": "stdout",
     "output_type": "stream",
     "text": [
      "KB: GS+Mild vs. Mod+Severe Glaucoma  ---------------------\n"
     ]
    },
    {
     "data": {
      "application/vnd.jupyter.widget-view+json": {
       "model_id": "e45764eb6b234861a1de73a6d080fe1e",
       "version_major": 2,
       "version_minor": 0
      },
      "text/plain": [
       "HBox(children=(Output(), Output()))"
      ]
     },
     "metadata": {},
     "output_type": "display_data"
    }
   ],
   "source": [
    "y_true = (mergeDF['Binary_Label'] == 1) & (mergeDF['MD'] < -6)\n",
    "y_pred = (mergeDF['Binary_Disc_Grade'] == 1)  & (mergeDF['MD'] < -6)\n",
    "\n",
    "# GS+Mild vs. Mod+Severe Glaucoma\n",
    "\n",
    "left_out = widgets.Output()\n",
    "right_out = widgets.Output()\n",
    "\n",
    "print(\"KB: GS+Mild vs. Mod+Severe Glaucoma  ---------------------\")\n",
    "\n",
    "# Fill the left output\n",
    "with left_out:\n",
    "    print(\"Disc Grade\")\n",
    "    cm_KB_S_D = prep_stats(\n",
    "        y_true=(mergeDF['Binary_Label'] == 1) & (mergeDF['MD'] < -6), \n",
    "        y_pred=mergeDF['Binary_Disc_Severity']\n",
    "    )\n",
    "    sk.ConfusionMatrixDisplay(cm_KB_S_D).plot(cmap='Blues')\n",
    "    plt.show()\n",
    "    \n",
    "# Fill the right output\n",
    "with right_out:\n",
    "    print(\"Full Testing Grade\")\n",
    "    cm_KB_S_F = prep_stats(\n",
    "        y_true=(mergeDF['Binary_Label'] == 1) & (mergeDF['MD'] < -6),\n",
    "        y_pred=(mergeDF['Binary_Full_Grade'] == 1) & (mergeDF['MD'] < -6)\n",
    "    )\n",
    "    sk.ConfusionMatrixDisplay(cm_KB_S_F).plot(cmap='Blues')\n",
    "    plt.show()\n",
    "\n",
    "# Display side-by-side\n",
    "box = widgets.HBox([left_out, right_out])\n",
    "display(box)"
   ]
  },
  {
   "cell_type": "markdown",
   "id": "08e1273c-f197-42ba-93a5-0b9348d176c3",
   "metadata": {},
   "source": [
    "# Van's Grading"
   ]
  },
  {
   "cell_type": "code",
   "execution_count": 27,
   "id": "6d4b25cb-fb17-464e-9ed6-e7c8677503ed",
   "metadata": {},
   "outputs": [],
   "source": [
    "# Get disc-only grading VAN\n",
    "disc_grades = pd.read_csv('Multimodal test set grading - disc only - VN 8-15-25.csv')\n",
    "disc_grades = disc_grades.drop(['Random_Ind'], axis=1)\n",
    "disc_grades = disc_grades.dropna(subset=['Glaucoma','GS+Mild_Mod+Severe'])\n",
    "disc_grades = disc_grades.rename(columns={'Glaucoma':'Disc_Grade', 'GS+Mild_Mod+Severe':'Disc_Severity'})\n",
    "disc_grades = disc_grades[['RID_Subject', 'Eye', 'Disc_Grade', 'Disc_Severity']]"
   ]
  },
  {
   "cell_type": "code",
   "execution_count": 28,
   "id": "bb0d8503-1b27-42b6-add2-74d2ee2bc585",
   "metadata": {},
   "outputs": [
    {
     "name": "stderr",
     "output_type": "stream",
     "text": [
      "/home/kb_766/Repos/eye-ai-ml/eye_ai/eye_ai.py:423: SettingWithCopyWarning: \n",
      "A value is trying to be set on a copy of a slice from a DataFrame.\n",
      "Try using .loc[row_indexer,col_indexer] = value instead\n",
      "\n",
      "See the caveats in the documentation: https://pandas.pydata.org/pandas-docs/stable/user_guide/indexing.html#returning-a-view-versus-a-copy\n",
      "  hvf_clean.loc[:, 'priority'] = hvf_clean['Field_Size'].map(priority)\n"
     ]
    }
   ],
   "source": [
    "mergeDF = pd.merge( disc_grades,\n",
    "                   full_grades[full_grades['Grader'] == 'VN'],\n",
    "                   on = ['RID_Subject', 'Eye'],\n",
    "                   how = 'inner'\n",
    "                  )\n",
    "\n",
    "mergeDF = pd.merge( mergeDF,\n",
    "                   ds_img.get_table_as_dataframe('Execution_Subject_Chart_Label')[['Subject', 'Image_Side', 'Condition_Label']],\n",
    "                   left_on = ['RID_Subject', 'Eye'], right_on = ['Subject', 'Image_Side'],\n",
    "                   how = 'left'\n",
    "                  )[['RID_Subject', 'Eye', 'Disc_Grade', 'Disc_Severity', 'Full_Grade', 'Condition_Label']]\n",
    "\n",
    "mergeDF = pd.merge( mergeDF,\n",
    "                   EA.multimodal_wide(ds_test)[['RID_Subject', 'Image_Side', 'MD']],\n",
    "                   left_on = ['RID_Subject', 'Eye'], right_on = ['RID_Subject', 'Image_Side'],\n",
    "                   how = 'left'\n",
    "                  )[['RID_Subject', 'Eye', 'Disc_Grade', 'Disc_Severity', 'Full_Grade', 'Condition_Label', 'MD']]\n",
    "\n",
    "mergeDF = mergeDF.rename(columns={'Condition_Label':'Chart_Label'})\n",
    "mergeDF['Binary_Disc_Grade'] = mergeDF['Disc_Grade'].map({'0-suspect': 0, '1-glaucoma': 1})\n",
    "mergeDF['Binary_Disc_Severity'] = mergeDF['Disc_Severity'].map({'0-GS/Mild': 0, '1-Mod/Severe': 1})\n",
    "mergeDF['Binary_Full_Grade'] = mergeDF['Full_Grade'].map({'GS': 0, 'Glaucoma': 1})\n",
    "mergeDF['Binary_Label'] = mergeDF['Chart_Label'].map({'GS': 0, 'POAG': 1, 'PACG': 1})\n"
   ]
  },
  {
   "cell_type": "code",
   "execution_count": 29,
   "id": "c4a88bec-ecfc-4456-9ced-8e75166e5495",
   "metadata": {},
   "outputs": [
    {
     "name": "stdout",
     "output_type": "stream",
     "text": [
      "VN: GS vs. Glaucoma  ---------------------\n"
     ]
    },
    {
     "data": {
      "application/vnd.jupyter.widget-view+json": {
       "model_id": "b1d6fec7702e4458973537e27002980a",
       "version_major": 2,
       "version_minor": 0
      },
      "text/plain": [
       "HBox(children=(Output(), Output()))"
      ]
     },
     "metadata": {},
     "output_type": "display_data"
    }
   ],
   "source": [
    "# GS vs. Glaucoma\n",
    "\n",
    "left_out = widgets.Output()\n",
    "right_out = widgets.Output()\n",
    "\n",
    "print(\"VN: GS vs. Glaucoma  ---------------------\")\n",
    "\n",
    "# Fill the left output\n",
    "with left_out:\n",
    "    print(\"Disc Grade\")\n",
    "    cm_VN_G_D = prep_stats(y_true=mergeDF['Binary_Label'], y_pred=mergeDF['Binary_Disc_Grade'])\n",
    "    sk.ConfusionMatrixDisplay(cm_VN_G_D).plot(cmap='Blues')\n",
    "    plt.show()\n",
    "    \n",
    "# Fill the right output\n",
    "with right_out:\n",
    "    print(\"Full Testing Grade\")\n",
    "    cm_VN_G_F = prep_stats(y_true=mergeDF['Binary_Label'], y_pred=mergeDF['Binary_Full_Grade'])\n",
    "    sk.ConfusionMatrixDisplay(cm_VN_G_F).plot(cmap='Blues')\n",
    "    plt.show()\n",
    "\n",
    "# Display side-by-side\n",
    "box = widgets.HBox([left_out, right_out])\n",
    "display(box)"
   ]
  },
  {
   "cell_type": "code",
   "execution_count": 30,
   "id": "7cac7cfb-d5c5-46eb-838b-adfafa05ae7a",
   "metadata": {},
   "outputs": [
    {
     "name": "stdout",
     "output_type": "stream",
     "text": [
      "VN: GS+Mild vs. Mod+Severe Glaucoma  ---------------------\n"
     ]
    },
    {
     "data": {
      "application/vnd.jupyter.widget-view+json": {
       "model_id": "7a4d9aa9137946169a1667d8813b13bc",
       "version_major": 2,
       "version_minor": 0
      },
      "text/plain": [
       "HBox(children=(Output(), Output()))"
      ]
     },
     "metadata": {},
     "output_type": "display_data"
    }
   ],
   "source": [
    "y_true = (mergeDF['Binary_Label'] == 1) & (mergeDF['MD'] < -6)\n",
    "y_pred = (mergeDF['Binary_Disc_Grade'] == 1)  & (mergeDF['MD'] < -6)\n",
    "\n",
    "# GS+Mild vs. Mod+Severe Glaucoma\n",
    "\n",
    "left_out = widgets.Output()\n",
    "right_out = widgets.Output()\n",
    "\n",
    "print(\"VN: GS+Mild vs. Mod+Severe Glaucoma  ---------------------\")\n",
    "\n",
    "# Fill the left output\n",
    "with left_out:\n",
    "    print(\"Disc Grade\")\n",
    "    cm_VN_S_D = prep_stats(\n",
    "        y_true=(mergeDF['Binary_Label'] == 1) & (mergeDF['MD'] < -6), \n",
    "        y_pred=mergeDF['Binary_Disc_Severity']\n",
    "    )\n",
    "    sk.ConfusionMatrixDisplay(cm_VN_S_D).plot(cmap='Blues')\n",
    "    plt.show()\n",
    "    \n",
    "# Fill the right output\n",
    "with right_out:\n",
    "    print(\"Full Testing Grade\")\n",
    "    cm_VN_S_F = prep_stats(\n",
    "        y_true=(mergeDF['Binary_Label'] == 1) & (mergeDF['MD'] < -6),\n",
    "        y_pred=(mergeDF['Binary_Full_Grade'] == 1) & (mergeDF['MD'] < -6)\n",
    "    )\n",
    "    sk.ConfusionMatrixDisplay(cm_VN_S_F).plot(cmap='Blues')\n",
    "    plt.show()\n",
    "\n",
    "# Display side-by-side\n",
    "box = widgets.HBox([left_out, right_out])\n",
    "display(box)"
   ]
  },
  {
   "cell_type": "markdown",
   "id": "d5ac837a-604e-4a15-8ee2-4be283def9a2",
   "metadata": {},
   "source": [
    "# Combined Graders"
   ]
  },
  {
   "cell_type": "code",
   "execution_count": 199,
   "id": "dc2c68fb-05f4-4451-ad45-0da5eb722a99",
   "metadata": {},
   "outputs": [
    {
     "name": "stdout",
     "output_type": "stream",
     "text": [
      "GS vs. Glaucoma  ---------------------\n"
     ]
    },
    {
     "data": {
      "application/vnd.jupyter.widget-view+json": {
       "model_id": "a8ef201cf6914fe088140833fb1c2c48",
       "version_major": 2,
       "version_minor": 0
      },
      "text/plain": [
       "HBox(children=(Output(), Output()))"
      ]
     },
     "metadata": {},
     "output_type": "display_data"
    }
   ],
   "source": [
    "# GS vs. Glaucoma\n",
    "\n",
    "cm_KBVN_D = cm_KB_G_D+cm_VN_G_D\n",
    "cm_KBVN_F = cm_KB_G_F+cm_VN_G_F\n",
    "\n",
    "left_out = widgets.Output()\n",
    "right_out = widgets.Output()\n",
    "\n",
    "print(\"GS vs. Glaucoma  ---------------------\")\n",
    "\n",
    "# Fill the left output\n",
    "with left_out:\n",
    "    print(\"Disc Grade\")\n",
    "    prep_stats(cm=cm_KBVN_D)\n",
    "    sk.ConfusionMatrixDisplay(cm_KBVN_D).plot(cmap='Blues')\n",
    "    plt.show()\n",
    "    \n",
    "# Fill the right output\n",
    "with right_out:\n",
    "    print(\"Full Testing Grade\")\n",
    "    prep_stats(cm=cm_KBVN_F)\n",
    "    sk.ConfusionMatrixDisplay(cm_KBVN_F).plot(cmap='Blues')\n",
    "    plt.show()\n",
    "\n",
    "# Display side-by-side\n",
    "box = widgets.HBox([left_out, right_out])\n",
    "display(box)"
   ]
  },
  {
   "cell_type": "code",
   "execution_count": 201,
   "id": "41d91ed5-5af6-4cf3-ac7e-f18ba2d3e61f",
   "metadata": {},
   "outputs": [
    {
     "name": "stdout",
     "output_type": "stream",
     "text": [
      "GS+Mild vs. Mod+Severe Glaucoma  ---------------------\n"
     ]
    },
    {
     "data": {
      "application/vnd.jupyter.widget-view+json": {
       "model_id": "055c267f293b4ae4b06748e79a31bfd4",
       "version_major": 2,
       "version_minor": 0
      },
      "text/plain": [
       "HBox(children=(Output(), Output()))"
      ]
     },
     "metadata": {},
     "output_type": "display_data"
    }
   ],
   "source": [
    "# GS+Mild vs. Mod+Severe Glaucoma\n",
    "\n",
    "cm_KBVN_D = cm_KB_S_D+cm_VN_S_D\n",
    "cm_KBVN_F = cm_KB_S_F+cm_VN_S_F\n",
    "\n",
    "left_out = widgets.Output()\n",
    "right_out = widgets.Output()\n",
    "\n",
    "print(\"GS+Mild vs. Mod+Severe Glaucoma  ---------------------\")\n",
    "\n",
    "# Fill the left output\n",
    "with left_out:\n",
    "    print(\"Disc Grade\")\n",
    "    prep_stats(cm=cm_KBVN_D)\n",
    "    sk.ConfusionMatrixDisplay(cm_KBVN_D).plot(cmap='Blues')\n",
    "    plt.show()\n",
    "    \n",
    "# Fill the right output\n",
    "with right_out:\n",
    "    print(\"Full Testing Grade\")\n",
    "    prep_stats(cm=cm_KBVN_F)\n",
    "    sk.ConfusionMatrixDisplay(cm_KBVN_F).plot(cmap='Blues')\n",
    "    plt.show()\n",
    "\n",
    "# Display side-by-side\n",
    "box = widgets.HBox([left_out, right_out])\n",
    "display(box)"
   ]
  },
  {
   "cell_type": "code",
   "execution_count": null,
   "id": "0a8f5dca-76ce-4671-897f-38aa38da5ad1",
   "metadata": {},
   "outputs": [],
   "source": [
    "# Buffer"
   ]
  }
 ],
 "metadata": {
  "kernelspec": {
   "display_name": "My TensorFlow (Conda)",
   "language": "python",
   "name": "my-tensorflow-conda"
  },
  "language_info": {
   "codemirror_mode": {
    "name": "ipython",
    "version": 3
   },
   "file_extension": ".py",
   "mimetype": "text/x-python",
   "name": "python",
   "nbconvert_exporter": "python",
   "pygments_lexer": "ipython3",
   "version": "3.10.13"
  }
 },
 "nbformat": 4,
 "nbformat_minor": 5
}
