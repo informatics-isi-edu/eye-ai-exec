{
 "cells": [
  {
   "cell_type": "markdown",
   "id": "b2006ce9-6ca1-402d-b9ad-8853b85509cf",
   "metadata": {},
   "source": [
    "# Connect Eye-AI and Load Libraries"
   ]
  },
  {
   "cell_type": "code",
   "execution_count": 1,
   "id": "003248d9-3365-4aaa-874a-858234cb2f86",
   "metadata": {},
   "outputs": [],
   "source": [
    "repo_dir = \"Repos\"   # Set this to be where your github repos are located.\n",
    "%load_ext autoreload\n",
    "%autoreload 2\n",
    "\n",
    "# # Update the load path so python can find modules for the model\n",
    "import sys\n",
    "from pathlib import Path\n",
    "sys.path.insert(0, str(Path.home() / repo_dir / \"eye-ai-ml\"))\n",
    "sys.path.insert(0, str(Path.home() / repo_dir / \"eye-ai-exec\"))"
   ]
  },
  {
   "cell_type": "code",
   "execution_count": 2,
   "id": "8499060d-4de0-4ab1-bf23-8f766d24dd5e",
   "metadata": {},
   "outputs": [],
   "source": [
    "# Prerequisites\n",
    "import json\n",
    "import os\n",
    "import shutil\n",
    "from PIL import Image\n",
    "\n",
    "# EyeAI, Deriva, VGG19\n",
    "from deriva_ml import DatasetSpec, DatasetBag, Workflow, ExecutionConfiguration, VersionPart\n",
    "from deriva_ml import MLVocab as vc\n",
    "from eye_ai.eye_ai import EyeAI\n",
    "\n",
    "# ML Analytics\n",
    "import pandas as pd\n",
    "import numpy as np\n",
    "import sklearn.metrics as sk\n",
    "\n",
    "# Other Utilities\n",
    "from pathlib import Path, PurePath\n",
    "import logging\n",
    "from datetime import datetime\n",
    "\n",
    "logging.basicConfig(level=logging.INFO, format='%(asctime)s - %(levelname)s - %(message)s', force=True)"
   ]
  },
  {
   "cell_type": "code",
   "execution_count": 3,
   "id": "1f254b11-9f01-4185-95a0-cd7f80995c2f",
   "metadata": {},
   "outputs": [
    {
     "name": "stderr",
     "output_type": "stream",
     "text": [
      "2025-08-12 18:54:37,691 - INFO - Creating client of type <class 'globus_sdk.services.auth.client.native_client.NativeAppAuthClient'> for service \"auth\"\n",
      "2025-08-12 18:54:37,692 - INFO - Finished initializing AuthLoginClient. client_id='8ef15ba9-2b4a-469c-a163-7fd910c9d111', type(authorizer)=<class 'globus_sdk.authorizers.base.NullAuthorizer'>\n"
     ]
    },
    {
     "name": "stdout",
     "output_type": "stream",
     "text": [
      "You are already logged in.\n"
     ]
    }
   ],
   "source": [
    "# Login\n",
    "from deriva.core.utils.globus_auth_utils import GlobusNativeLogin\n",
    "host = 'www.eye-ai.org'\n",
    "#host = 'dev.eye-ai.org' #for dev testing\n",
    "catalog_id = \"eye-ai\"\n",
    "\n",
    "gnl = GlobusNativeLogin(host=host)\n",
    "if gnl.is_logged_in([host]):\n",
    "    print(\"You are already logged in.\")\n",
    "else:\n",
    "    gnl.login([host], no_local_server=True, no_browser=True, refresh_tokens=True, update_bdbag_keychain=True)\n",
    "    print(\"Login Successful\")"
   ]
  },
  {
   "cell_type": "markdown",
   "id": "420ee433-9dce-460f-ab4d-0aff7d4eea0e",
   "metadata": {},
   "source": [
    "# Configuration"
   ]
  },
  {
   "cell_type": "code",
   "execution_count": 4,
   "id": "3a40db10-6f64-4b6e-a22d-3c7011e2a3fa",
   "metadata": {},
   "outputs": [
    {
     "name": "stderr",
     "output_type": "stream",
     "text": [
      "2025-08-12 18:54:40,824 - INFO - Creating client of type <class 'globus_sdk.services.auth.client.native_client.NativeAppAuthClient'> for service \"auth\"\n",
      "2025-08-12 18:54:40,825 - INFO - Finished initializing AuthLoginClient. client_id='8ef15ba9-2b4a-469c-a163-7fd910c9d111', type(authorizer)=<class 'globus_sdk.authorizers.base.NullAuthorizer'>\n"
     ]
    }
   ],
   "source": [
    "cache_dir = '/data'\n",
    "working_dir = '/data'\n",
    "EA = EyeAI(hostname = host, catalog_id = catalog_id, cache_dir= cache_dir, working_dir=working_dir)"
   ]
  },
  {
   "cell_type": "code",
   "execution_count": 5,
   "id": "85ad0a5a-4bcc-423b-a020-3e84e7506055",
   "metadata": {},
   "outputs": [],
   "source": [
    "\n",
    "\n",
    "#ml_instance.increment_dataset_version(dataset_rid='2-N93J', component= VersionPart.patch, description='Update to latest deriva-ml schema')"
   ]
  },
  {
   "cell_type": "code",
   "execution_count": 6,
   "id": "5c7340a9-2356-481b-bbd9-2f1f30955ca7",
   "metadata": {},
   "outputs": [
    {
     "name": "stderr",
     "output_type": "stream",
     "text": [
      "2025-08-12 18:54:44,579 - INFO - Materialize bag 4-411G... \n",
      "2025-08-12 18:54:44,777 - INFO - Creating client of type <class 'globus_sdk.services.auth.client.native_client.NativeAppAuthClient'> for service \"auth\"\n",
      "2025-08-12 18:54:44,778 - INFO - Finished initializing AuthLoginClient. client_id='8ef15ba9-2b4a-469c-a163-7fd910c9d111', type(authorizer)=<class 'globus_sdk.authorizers.base.NullAuthorizer'>\n",
      "2025-08-12 18:54:46,301 - INFO - Using cached bag for  4-411G Version:2.7.0\n",
      "2025-08-12 18:54:46,302 - INFO - Loading /data/4-411G_37ce9366c961c832931248ef462255860bc8595e0165040faa43113eba38ce45/Dataset_4-411G\n",
      "2025-08-12 18:54:47,100 - INFO - Creating new database for dataset: 4-411G in /data/kb_766/EyeAI_working/4-411G@33N-3CNE-1XFP.db\n",
      "2025-08-12 18:54:47,101 - INFO - Materialize bag 2-C9PR... \n",
      "2025-08-12 18:54:47,206 - INFO - Creating client of type <class 'globus_sdk.services.auth.client.native_client.NativeAppAuthClient'> for service \"auth\"\n",
      "2025-08-12 18:54:47,207 - INFO - Finished initializing AuthLoginClient. client_id='8ef15ba9-2b4a-469c-a163-7fd910c9d111', type(authorizer)=<class 'globus_sdk.authorizers.base.NullAuthorizer'>\n",
      "2025-08-12 18:54:48,687 - INFO - Attempting GET from URL: https://eye-ai-shared.s3.amazonaws.com/4f5b552ad48c7d26159fa2c726a11584/2025-07-22_17.40.34/Dataset_2-C9PR.zip\n",
      "2025-08-12 18:54:48,808 - INFO - File [/home/kb_766/Repos/eye-ai-exec/notebooks/Sandbox_KB/Dataset_2-C9PR.zip] transfer complete. 991.064 KB transferred. Elapsed time: 0:00:00.007695.\n",
      "2025-08-12 18:54:48,810 - INFO - Extracting ZIP archived file: /home/kb_766/Repos/eye-ai-exec/notebooks/Sandbox_KB/Dataset_2-C9PR.zip\n",
      "2025-08-12 18:54:48,842 - INFO - File /home/kb_766/Repos/eye-ai-exec/notebooks/Sandbox_KB/Dataset_2-C9PR.zip was successfully extracted to directory /data/2-C9PR_5a22c20f7dd267724f2d9bc1c44d6200827219be3029c2c4f7fa537c064a06e7/Dataset_2-C9PR\n",
      "2025-08-12 18:54:48,843 - INFO - Validating bag structure: /data/2-C9PR_5a22c20f7dd267724f2d9bc1c44d6200827219be3029c2c4f7fa537c064a06e7/Dataset_2-C9PR\n",
      "2025-08-12 18:54:49,004 - INFO - Checking payload consistency. This can take some time for large bags with many payload files...\n",
      "2025-08-12 18:54:49,158 - INFO - The directory /data/2-C9PR_5a22c20f7dd267724f2d9bc1c44d6200827219be3029c2c4f7fa537c064a06e7/Dataset_2-C9PR is a valid bag structure\n",
      "2025-08-12 18:54:49,159 - INFO - Loading /data/2-C9PR_5a22c20f7dd267724f2d9bc1c44d6200827219be3029c2c4f7fa537c064a06e7/Dataset_2-C9PR\n",
      "2025-08-12 18:54:50,254 - INFO - Creating new database for dataset: 2-C9PR in /data/kb_766/EyeAI_working/2-C9PR@33N-3CNE-1XFP.db\n",
      "2025-08-12 18:54:50,298 - INFO - Downloading assets ...\n",
      "2025-08-12 18:54:50,874 - INFO - Initialize status finished.\n"
     ]
    }
   ],
   "source": [
    "datasets = [ '4-411G', '2-C9PR' ]#\"2-39FY\" ]\n",
    "\n",
    "data_to_download = []\n",
    "for dataset in datasets:\n",
    "    ds_dict = {\n",
    "        'rid': dataset,\n",
    "        'materialize':False,\n",
    "        'version':EA.dataset_version(dataset_rid=dataset),\n",
    "    }\n",
    "    data_to_download.append(ds_dict)\n",
    "\n",
    "dataset_workflow = EA.add_workflow( \n",
    "    Workflow(\n",
    "        name=\"Make Dataset by KB\",\n",
    "        url=\"https://github.com/informatics-isi-edu/eye-ai-exec/blob/main/notebooks/Sandbox_KB/Make_Dataset.ipynb\",\n",
    "        workflow_type=\"Test Workflow\",\n",
    "        )\n",
    "    )\n",
    "\n",
    "config = ExecutionConfiguration(\n",
    "    datasets=data_to_download,\n",
    "    workflow=dataset_workflow,\n",
    "    description=\"Test\"\n",
    "    )\n",
    "\n",
    "execution = EA.create_execution(config)"
   ]
  },
  {
   "cell_type": "code",
   "execution_count": 7,
   "id": "9db71483-dce2-4fdf-bcbc-0c952989d8f3",
   "metadata": {},
   "outputs": [
    {
     "name": "stdout",
     "output_type": "stream",
     "text": [
      "caching_dir: /data\n",
      "_working_dir: /data/kb_766/EyeAI_working\n",
      "execution_rid: 5-4WYE\n",
      "workflow_rid: 4-Z5Y4\n",
      "asset_paths: {}\n",
      "configuration: datasets=[DatasetSpec(rid='4-411G', materialize=False, version=DatasetVersion(major=2, minor=7, patch=0)), DatasetSpec(rid='2-C9PR', materialize=False, version=DatasetVersion(major=2, minor=7, patch=0))] assets=[] workflow='4-Z5Y4' parameters={} description='Test' argv=['/home/kb_766/.conda/envs/my-tensorflow-conda/lib/python3.10/site-packages/ipykernel_launcher.py', '-f', '/home/kb_766/.local/share/jupyter/runtime/kernel-2f5e238d-101c-4d36-b517-990edcf7b75a.json']\n"
     ]
    }
   ],
   "source": [
    "print(execution)"
   ]
  },
  {
   "cell_type": "markdown",
   "id": "ff4ad8d0-ee04-4844-9712-b6cca103ee1f",
   "metadata": {},
   "source": [
    "# Work with Data"
   ]
  },
  {
   "cell_type": "code",
   "execution_count": 8,
   "id": "3f4d890f-f8fc-4110-829f-f4e6f09f3790",
   "metadata": {},
   "outputs": [],
   "source": [
    "ds_img = execution.datasets[0]\n",
    "ds_test = execution.datasets[1]"
   ]
  },
  {
   "cell_type": "code",
   "execution_count": 30,
   "id": "da5516d2-6833-48e9-aa90-71ca69e02909",
   "metadata": {},
   "outputs": [],
   "source": [
    "\n",
    "disc_grades = pd.read_csv('Multimodal test set grading - disc only - KB 8-12-25.csv')\n",
    "disc_grades = disc_grades.drop(['Random_Ind','Comments'], axis=1)\n",
    "disc_grades = disc_grades.dropna(subset=['Glaucoma','GS+Mild_Mod+Severe'])"
   ]
  },
  {
   "cell_type": "code",
   "execution_count": 34,
   "id": "fdd01f66-a15c-4f13-96df-24e4c39bd37f",
   "metadata": {},
   "outputs": [
    {
     "name": "stderr",
     "output_type": "stream",
     "text": [
      "/home/kb_766/Repos/eye-ai-ml/eye_ai/eye_ai.py:423: SettingWithCopyWarning: \n",
      "A value is trying to be set on a copy of a slice from a DataFrame.\n",
      "Try using .loc[row_indexer,col_indexer] = value instead\n",
      "\n",
      "See the caveats in the documentation: https://pandas.pydata.org/pandas-docs/stable/user_guide/indexing.html#returning-a-view-versus-a-copy\n",
      "  hvf_clean.loc[:, 'priority'] = hvf_clean['Field_Size'].map(priority)\n"
     ]
    }
   ],
   "source": [
    "mergeDF = pd.merge( disc_grades[['RID_Subject', 'Eye', 'Glaucoma']],\n",
    "         ds_img.get_table_as_dataframe('Execution_Subject_Chart_Label')[['Subject', 'Image_Side', 'Condition_Label']],\n",
    "         left_on = ['RID_Subject', 'Eye'], right_on = ['Subject', 'Image_Side'],\n",
    "         how = 'left'\n",
    "        )[['RID_Subject', 'Eye', 'Glaucoma', 'Condition_Label']]\n",
    "\n",
    "mergeDF = pd.merge( mergeDF,\n",
    "         EA.multimodal_wide(ds_test)[['RID_Subject', 'Image_Side', 'MD']],\n",
    "         left_on = ['RID_Subject', 'Eye'], right_on = ['RID_Subject', 'Image_Side'],\n",
    "         how = 'left'\n",
    "        )[['RID_Subject', 'Eye', 'Glaucoma', 'Condition_Label', 'MD']]\n",
    "\n",
    "mergeDF['Binary_Grade'] = mergeDF['Glaucoma'].map({'0-suspect': 0, '1-glaucoma': 1})\n",
    "mergeDF['Binary_Label'] = mergeDF['Condition_Label'].map({'GS': 0, 'POAG': 1, 'PACG': 1})\n"
   ]
  },
  {
   "cell_type": "code",
   "execution_count": 35,
   "id": "0d6f0c14-30ff-48ce-acff-4b683c1b54d9",
   "metadata": {},
   "outputs": [
    {
     "data": {
      "text/html": [
       "<div>\n",
       "<style scoped>\n",
       "    .dataframe tbody tr th:only-of-type {\n",
       "        vertical-align: middle;\n",
       "    }\n",
       "\n",
       "    .dataframe tbody tr th {\n",
       "        vertical-align: top;\n",
       "    }\n",
       "\n",
       "    .dataframe thead th {\n",
       "        text-align: right;\n",
       "    }\n",
       "</style>\n",
       "<table border=\"1\" class=\"dataframe\">\n",
       "  <thead>\n",
       "    <tr style=\"text-align: right;\">\n",
       "      <th></th>\n",
       "      <th>RID_Subject</th>\n",
       "      <th>Eye</th>\n",
       "      <th>Glaucoma</th>\n",
       "      <th>Condition_Label</th>\n",
       "      <th>MD</th>\n",
       "      <th>Binary_Grade</th>\n",
       "      <th>Binary_Label</th>\n",
       "    </tr>\n",
       "  </thead>\n",
       "  <tbody>\n",
       "    <tr>\n",
       "      <th>0</th>\n",
       "      <td>2-7NVC</td>\n",
       "      <td>Right</td>\n",
       "      <td>0-suspect</td>\n",
       "      <td>GS</td>\n",
       "      <td>-2.55</td>\n",
       "      <td>0</td>\n",
       "      <td>0</td>\n",
       "    </tr>\n",
       "    <tr>\n",
       "      <th>1</th>\n",
       "      <td>2-7NWP</td>\n",
       "      <td>Right</td>\n",
       "      <td>0-suspect</td>\n",
       "      <td>GS</td>\n",
       "      <td>-2.89</td>\n",
       "      <td>0</td>\n",
       "      <td>0</td>\n",
       "    </tr>\n",
       "    <tr>\n",
       "      <th>2</th>\n",
       "      <td>2-7NQG</td>\n",
       "      <td>Right</td>\n",
       "      <td>1-glaucoma</td>\n",
       "      <td>POAG</td>\n",
       "      <td>-1.59</td>\n",
       "      <td>1</td>\n",
       "      <td>1</td>\n",
       "    </tr>\n",
       "    <tr>\n",
       "      <th>3</th>\n",
       "      <td>2-7N6W</td>\n",
       "      <td>Right</td>\n",
       "      <td>1-glaucoma</td>\n",
       "      <td>POAG</td>\n",
       "      <td>-4.68</td>\n",
       "      <td>1</td>\n",
       "      <td>1</td>\n",
       "    </tr>\n",
       "    <tr>\n",
       "      <th>4</th>\n",
       "      <td>2-7P0T</td>\n",
       "      <td>Left</td>\n",
       "      <td>1-glaucoma</td>\n",
       "      <td>GS</td>\n",
       "      <td>1.3</td>\n",
       "      <td>1</td>\n",
       "      <td>0</td>\n",
       "    </tr>\n",
       "    <tr>\n",
       "      <th>...</th>\n",
       "      <td>...</td>\n",
       "      <td>...</td>\n",
       "      <td>...</td>\n",
       "      <td>...</td>\n",
       "      <td>...</td>\n",
       "      <td>...</td>\n",
       "      <td>...</td>\n",
       "    </tr>\n",
       "    <tr>\n",
       "      <th>112</th>\n",
       "      <td>2-7P12</td>\n",
       "      <td>Right</td>\n",
       "      <td>0-suspect</td>\n",
       "      <td>POAG</td>\n",
       "      <td>-6.23</td>\n",
       "      <td>0</td>\n",
       "      <td>1</td>\n",
       "    </tr>\n",
       "    <tr>\n",
       "      <th>113</th>\n",
       "      <td>2-7P04</td>\n",
       "      <td>Left</td>\n",
       "      <td>0-suspect</td>\n",
       "      <td>GS</td>\n",
       "      <td>-1.64</td>\n",
       "      <td>0</td>\n",
       "      <td>0</td>\n",
       "    </tr>\n",
       "    <tr>\n",
       "      <th>114</th>\n",
       "      <td>2-7NXW</td>\n",
       "      <td>Right</td>\n",
       "      <td>0-suspect</td>\n",
       "      <td>POAG</td>\n",
       "      <td>-13.91</td>\n",
       "      <td>0</td>\n",
       "      <td>1</td>\n",
       "    </tr>\n",
       "    <tr>\n",
       "      <th>115</th>\n",
       "      <td>2-7NXW</td>\n",
       "      <td>Left</td>\n",
       "      <td>0-suspect</td>\n",
       "      <td>POAG</td>\n",
       "      <td>-2.48</td>\n",
       "      <td>0</td>\n",
       "      <td>1</td>\n",
       "    </tr>\n",
       "    <tr>\n",
       "      <th>116</th>\n",
       "      <td>2-7N3P</td>\n",
       "      <td>Right</td>\n",
       "      <td>1-glaucoma</td>\n",
       "      <td>POAG</td>\n",
       "      <td>-5.02</td>\n",
       "      <td>1</td>\n",
       "      <td>1</td>\n",
       "    </tr>\n",
       "  </tbody>\n",
       "</table>\n",
       "<p>117 rows × 7 columns</p>\n",
       "</div>"
      ],
      "text/plain": [
       "    RID_Subject    Eye    Glaucoma Condition_Label     MD  Binary_Grade  \\\n",
       "0        2-7NVC  Right   0-suspect              GS  -2.55             0   \n",
       "1        2-7NWP  Right   0-suspect              GS  -2.89             0   \n",
       "2        2-7NQG  Right  1-glaucoma            POAG  -1.59             1   \n",
       "3        2-7N6W  Right  1-glaucoma            POAG  -4.68             1   \n",
       "4        2-7P0T   Left  1-glaucoma              GS    1.3             1   \n",
       "..          ...    ...         ...             ...    ...           ...   \n",
       "112      2-7P12  Right   0-suspect            POAG  -6.23             0   \n",
       "113      2-7P04   Left   0-suspect              GS  -1.64             0   \n",
       "114      2-7NXW  Right   0-suspect            POAG -13.91             0   \n",
       "115      2-7NXW   Left   0-suspect            POAG  -2.48             0   \n",
       "116      2-7N3P  Right  1-glaucoma            POAG  -5.02             1   \n",
       "\n",
       "     Binary_Label  \n",
       "0               0  \n",
       "1               0  \n",
       "2               1  \n",
       "3               1  \n",
       "4               0  \n",
       "..            ...  \n",
       "112             1  \n",
       "113             0  \n",
       "114             1  \n",
       "115             1  \n",
       "116             1  \n",
       "\n",
       "[117 rows x 7 columns]"
      ]
     },
     "execution_count": 35,
     "metadata": {},
     "output_type": "execute_result"
    }
   ],
   "source": [
    "mergeDF"
   ]
  },
  {
   "cell_type": "code",
   "execution_count": 47,
   "id": "fc3c926c-9e56-495d-af1e-e6d40487e190",
   "metadata": {},
   "outputs": [
    {
     "name": "stdout",
     "output_type": "stream",
     "text": [
      "Accuracy   : 0.675\n",
      "Sensitivity: 0.556\n",
      "Specificity: 0.815\n"
     ]
    },
    {
     "data": {
      "image/png": "[encoded data removed]",
      "text/plain": [
       "<Figure size 640x480 with 2 Axes>"
      ]
     },
     "metadata": {},
     "output_type": "display_data"
    }
   ],
   "source": [
    "y_true = mergeDF['Binary_Label']\n",
    "y_pred = mergeDF['Binary_Grade']\n",
    "cm = sk.confusion_matrix(y_true, y_pred)\n",
    "\n",
    "tn, fp, fn, tp = cm.ravel()\n",
    "\n",
    "accuracy = (tp + tn) / (tp + tn + fp + fn)\n",
    "sensitivity = tp / (tp + fn)       # Recall, True Positive Rate\n",
    "specificity = tn / (tn + fp)       # True Negative Rate\n",
    "\n",
    "sk.ConfusionMatrixDisplay(cm).plot(cmap='Blues')\n",
    "\n",
    "print(f\"Accuracy   : {accuracy:.3f}\")\n",
    "print(f\"Sensitivity: {sensitivity:.3f}\")\n",
    "print(f\"Specificity: {specificity:.3f}\")"
   ]
  },
  {
   "cell_type": "code",
   "execution_count": 46,
   "id": "f401e730-7c1b-489f-a67f-22e9d7a38192",
   "metadata": {},
   "outputs": [
    {
     "name": "stdout",
     "output_type": "stream",
     "text": [
      "Accuracy   : 0.940\n",
      "Sensitivity: 0.684\n",
      "Specificity: 0.990\n"
     ]
    },
    {
     "data": {
      "image/png": "[encoded data removed]",
      "text/plain": [
       "<Figure size 640x480 with 2 Axes>"
      ]
     },
     "metadata": {},
     "output_type": "display_data"
    }
   ],
   "source": [
    "y_true = (mergeDF['Binary_Label'] == 1) & (mergeDF['MD'] < -6)\n",
    "y_pred = (mergeDF['Binary_Grade'] == 1)  & (mergeDF['MD'] < -6)\n",
    "cm = sk.confusion_matrix(y_true, y_pred)\n",
    "\n",
    "tn, fp, fn, tp = cm.ravel()\n",
    "\n",
    "accuracy = (tp + tn) / (tp + tn + fp + fn)\n",
    "sensitivity = tp / (tp + fn)       # Recall, True Positive Rate\n",
    "specificity = tn / (tn + fp)       # True Negative Rate\n",
    "\n",
    "sk.ConfusionMatrixDisplay(cm).plot(cmap='Blues')\n",
    "\n",
    "print(f\"Accuracy   : {accuracy:.3f}\")\n",
    "print(f\"Sensitivity: {sensitivity:.3f}\")\n",
    "print(f\"Specificity: {specificity:.3f}\")"
   ]
  },
  {
   "cell_type": "code",
   "execution_count": null,
   "id": "0a8f5dca-76ce-4671-897f-38aa38da5ad1",
   "metadata": {},
   "outputs": [],
   "source": [
    "# Buffer"
   ]
  }
 ],
 "metadata": {
  "kernelspec": {
   "display_name": "My TensorFlow (Conda)",
   "language": "python",
   "name": "my-tensorflow-conda"
  },
  "language_info": {
   "codemirror_mode": {
    "name": "ipython",
    "version": 3
   },
   "file_extension": ".py",
   "mimetype": "text/x-python",
   "name": "python",
   "nbconvert_exporter": "python",
   "pygments_lexer": "ipython3",
   "version": "3.10.13"
  }
 },
 "nbformat": 4,
 "nbformat_minor": 5
}
