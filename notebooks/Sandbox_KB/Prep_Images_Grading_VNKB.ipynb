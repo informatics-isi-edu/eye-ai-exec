{
 "cells": [
  {
   "cell_type": "markdown",
   "id": "b2006ce9-6ca1-402d-b9ad-8853b85509cf",
   "metadata": {},
   "source": [
    "# Connect Eye-AI and Load Libraries"
   ]
  },
  {
   "cell_type": "code",
   "execution_count": 230,
   "id": "003248d9-3365-4aaa-874a-858234cb2f86",
   "metadata": {},
   "outputs": [
    {
     "name": "stdout",
     "output_type": "stream",
     "text": [
      "The autoreload extension is already loaded. To reload it, use:\n",
      "  %reload_ext autoreload\n"
     ]
    }
   ],
   "source": [
    "repo_dir = \"Repos\"   # Set this to be where your github repos are located.\n",
    "%load_ext autoreload\n",
    "%autoreload 2\n",
    "\n",
    "# # Update the load path so python can find modules for the model\n",
    "import sys\n",
    "from pathlib import Path\n",
    "sys.path.insert(0, str(Path.home() / repo_dir / \"eye-ai-ml\"))\n",
    "sys.path.insert(0, str(Path.home() / repo_dir / \"eye-ai-exec\"))"
   ]
  },
  {
   "cell_type": "code",
   "execution_count": 231,
   "id": "8499060d-4de0-4ab1-bf23-8f766d24dd5e",
   "metadata": {},
   "outputs": [],
   "source": [
    "# Prerequisites\n",
    "import json\n",
    "import os\n",
    "import shutil\n",
    "from PIL import Image\n",
    "\n",
    "# EyeAI, Deriva, VGG19\n",
    "from deriva_ml import DatasetSpec, DatasetBag, Workflow, ExecutionConfiguration, VersionPart\n",
    "from deriva_ml import MLVocab as vc\n",
    "from eye_ai.eye_ai import EyeAI\n",
    "\n",
    "# ML Analytics\n",
    "import pandas as pd\n",
    "import numpy as np\n",
    "import sklearn.metrics as sk\n",
    "\n",
    "# Other Utilities\n",
    "from pathlib import Path, PurePath\n",
    "import logging\n",
    "from datetime import datetime\n",
    "\n",
    "logging.basicConfig(level=logging.INFO, format='%(asctime)s - %(levelname)s - %(message)s', force=True)"
   ]
  },
  {
   "cell_type": "code",
   "execution_count": 232,
   "id": "1f254b11-9f01-4185-95a0-cd7f80995c2f",
   "metadata": {},
   "outputs": [
    {
     "name": "stderr",
     "output_type": "stream",
     "text": [
      "2025-07-30 13:47:36,230 - INFO - Creating client of type <class 'globus_sdk.services.auth.client.native_client.NativeAppAuthClient'> for service \"auth\"\n",
      "2025-07-30 13:47:36,231 - INFO - Finished initializing AuthLoginClient. client_id='8ef15ba9-2b4a-469c-a163-7fd910c9d111', type(authorizer)=<class 'globus_sdk.authorizers.base.NullAuthorizer'>\n",
      "2025-07-30 13:47:36,232 - INFO - Setting up RefreshTokenAuthorizer with auth_client=[instance:140264790610640]\n",
      "2025-07-30 13:47:36,233 - INFO - Setting up a RenewingAuthorizer. It will use an auth type of Bearer and can handle 401s.\n",
      "2025-07-30 13:47:36,234 - INFO - RenewingAuthorizer will start by using access_token with hash \"acdc0eae06d2d8d4d6aa9a666415581034840afdd37fba4f335a5cbb3f8ac109\"\n",
      "2025-07-30 13:47:36,234 - INFO - Executing token refresh without client credentials\n",
      "2025-07-30 13:47:36,235 - INFO - Fetching new token from Globus Auth\n",
      "2025-07-30 13:47:36,803 - INFO - request done (success)\n",
      "2025-07-30 13:47:36,804 - INFO - RenewingAuthorizer.access_token updated to token with hash \"74646dce75703e6703d9f765f2b18e0a9c0c15b0f6c54db0ba783e7d005c6511\"\n",
      "2025-07-30 13:47:36,804 - INFO - Setting up RefreshTokenAuthorizer with auth_client=[instance:140264790610640]\n",
      "2025-07-30 13:47:36,805 - INFO - Setting up a RenewingAuthorizer. It will use an auth type of Bearer and can handle 401s.\n",
      "2025-07-30 13:47:36,805 - INFO - RenewingAuthorizer will start by using access_token with hash \"218ad8f75bef0d3c417a8e068f6a163adf88e1df1ba34075e95f5588ccff2fff\"\n",
      "2025-07-30 13:47:36,806 - INFO - Executing token refresh without client credentials\n",
      "2025-07-30 13:47:36,806 - INFO - Fetching new token from Globus Auth\n",
      "2025-07-30 13:47:37,021 - INFO - request done (success)\n",
      "2025-07-30 13:47:37,021 - INFO - RenewingAuthorizer.access_token updated to token with hash \"69e0f4b01df9f511b8b3ac28263eabc0c755954fa720b6fdd92cacb57b6a1933\"\n",
      "2025-07-30 13:47:37,022 - INFO - Setting up RefreshTokenAuthorizer with auth_client=[instance:140264790610640]\n",
      "2025-07-30 13:47:37,023 - INFO - Setting up a RenewingAuthorizer. It will use an auth type of Bearer and can handle 401s.\n",
      "2025-07-30 13:47:37,023 - INFO - RenewingAuthorizer will start by using access_token with hash \"4b01ca80c4dacada76beade53cad0dcc1d93e283cb1ba5114c77527228770f48\"\n",
      "2025-07-30 13:47:37,023 - INFO - Executing token refresh without client credentials\n",
      "2025-07-30 13:47:37,024 - INFO - Fetching new token from Globus Auth\n",
      "2025-07-30 13:47:37,169 - INFO - request done (success)\n",
      "2025-07-30 13:47:37,170 - INFO - RenewingAuthorizer.access_token updated to token with hash \"198141b5f949ed0f8ec2a53a36a1237bf161dcca6983cd639c5c347bcb1bb15b\"\n"
     ]
    },
    {
     "name": "stdout",
     "output_type": "stream",
     "text": [
      "You are already logged in.\n"
     ]
    }
   ],
   "source": [
    "# Login\n",
    "from deriva.core.utils.globus_auth_utils import GlobusNativeLogin\n",
    "host = 'www.eye-ai.org'\n",
    "#host = 'dev.eye-ai.org' #for dev testing\n",
    "catalog_id = \"eye-ai\"\n",
    "\n",
    "gnl = GlobusNativeLogin(host=host)\n",
    "if gnl.is_logged_in([host]):\n",
    "    print(\"You are already logged in.\")\n",
    "else:\n",
    "    gnl.login([host], no_local_server=True, no_browser=True, refresh_tokens=True, update_bdbag_keychain=True)\n",
    "    print(\"Login Successful\")"
   ]
  },
  {
   "cell_type": "markdown",
   "id": "420ee433-9dce-460f-ab4d-0aff7d4eea0e",
   "metadata": {},
   "source": [
    "# Configuration"
   ]
  },
  {
   "cell_type": "code",
   "execution_count": 233,
   "id": "3a40db10-6f64-4b6e-a22d-3c7011e2a3fa",
   "metadata": {},
   "outputs": [
    {
     "name": "stderr",
     "output_type": "stream",
     "text": [
      "2025-07-30 13:47:41,718 - INFO - Creating client of type <class 'globus_sdk.services.auth.client.native_client.NativeAppAuthClient'> for service \"auth\"\n",
      "2025-07-30 13:47:41,719 - INFO - Finished initializing AuthLoginClient. client_id='8ef15ba9-2b4a-469c-a163-7fd910c9d111', type(authorizer)=<class 'globus_sdk.authorizers.base.NullAuthorizer'>\n"
     ]
    }
   ],
   "source": [
    "cache_dir = '/data'\n",
    "working_dir = '/data'\n",
    "EA = EyeAI(hostname = host, catalog_id = catalog_id, cache_dir= cache_dir, working_dir=working_dir)"
   ]
  },
  {
   "cell_type": "code",
   "execution_count": 234,
   "id": "85ad0a5a-4bcc-423b-a020-3e84e7506055",
   "metadata": {},
   "outputs": [],
   "source": [
    "\n",
    "\n",
    "#ml_instance.increment_dataset_version(dataset_rid='2-N93J', component= VersionPart.patch, description='Update to latest deriva-ml schema')"
   ]
  },
  {
   "cell_type": "code",
   "execution_count": 235,
   "id": "5c7340a9-2356-481b-bbd9-2f1f30955ca7",
   "metadata": {},
   "outputs": [
    {
     "name": "stderr",
     "output_type": "stream",
     "text": [
      "2025-07-30 13:47:45,742 - INFO - Execution Aborted\n",
      "Exception ignored in: <function DerivaML.__del__ at 0x7f92150b92d0>\n",
      "Traceback (most recent call last):\n",
      "  File \"/home/kb_766/.conda/envs/my-tensorflow-conda/lib/python3.10/site-packages/deriva_ml/deriva_ml_base.py\", line 158, in __del__\n",
      "    self._execution.update_status(Status.aborted, \"Execution Aborted\")\n",
      "  File \"/home/kb_766/.conda/envs/my-tensorflow-conda/lib/python3.10/site-packages/pydantic/_internal/_validate_call.py\", line 38, in wrapper_function\n",
      "    return wrapper(*args, **kwargs)\n",
      "  File \"/home/kb_766/.conda/envs/my-tensorflow-conda/lib/python3.10/site-packages/pydantic/_internal/_validate_call.py\", line 111, in __call__\n",
      "    res = self.__pydantic_validator__.validate_python(pydantic_core.ArgsKwargs(args, kwargs))\n",
      "  File \"/home/kb_766/.conda/envs/my-tensorflow-conda/lib/python3.10/site-packages/deriva_ml/execution.py\", line 409, in update_status\n",
      "    self._ml_object.pathBuilder.schemas[self._ml_object.ml_schema].Execution.update(\n",
      "  File \"/home/kb_766/.conda/envs/my-tensorflow-conda/lib/python3.10/site-packages/deriva/core/datapath.py\", line 1109, in update\n",
      "    resp = _request_with_retry(\n",
      "  File \"/home/kb_766/.conda/envs/my-tensorflow-conda/lib/python3.10/site-packages/deriva/core/datapath.py\", line 785, in _request_with_retry\n",
      "    raise last_ex\n",
      "deriva.core.datapath.DataPathException: \n",
      "401 Client Error: UNAUTHORIZED for url: [https://www.eye-ai.org/ermrest/catalog/eye-ai/attributegroup/deriva-ml:Execution/RID;Status_Detail,Status] Details: b'Access requires authentication. Detail: update access on :deriva-ml:Execution\\n'\n",
      "2025-07-30 13:47:47,252 - INFO - Materialize bag 4-411G... \n",
      "2025-07-30 13:47:47,373 - INFO - Creating client of type <class 'globus_sdk.services.auth.client.native_client.NativeAppAuthClient'> for service \"auth\"\n",
      "2025-07-30 13:47:47,374 - INFO - Finished initializing AuthLoginClient. client_id='8ef15ba9-2b4a-469c-a163-7fd910c9d111', type(authorizer)=<class 'globus_sdk.authorizers.base.NullAuthorizer'>\n",
      "2025-07-30 13:47:49,227 - INFO - Using cached bag for  4-411G Version:2.7.0\n",
      "2025-07-30 13:47:49,228 - INFO - Loading /data/4-411G_37ce9366c961c832931248ef462255860bc8595e0165040faa43113eba38ce45/Dataset_4-411G\n",
      "2025-07-30 13:47:49,742 - INFO - Creating new database for dataset: 4-411G in /data/kb_766/EyeAI_working/4-411G@33N-3CNE-1XFP.db\n",
      "2025-07-30 13:47:49,788 - INFO - Downloading assets ...\n",
      "2025-07-30 13:47:50,072 - INFO - Initialize status finished.\n"
     ]
    }
   ],
   "source": [
    "datasets = [ '4-411G' ]#\"2-39FY\" ]\n",
    "\n",
    "data_to_download = []\n",
    "for dataset in datasets:\n",
    "    ds_dict = {\n",
    "        'rid': dataset,\n",
    "        'materialize':True,\n",
    "        'version':EA.dataset_version(dataset_rid=dataset),\n",
    "    }\n",
    "    data_to_download.append(ds_dict)\n",
    "\n",
    "dataset_workflow = EA.add_workflow( \n",
    "    Workflow(\n",
    "        name=\"Make Dataset by KB\",\n",
    "        url=\"https://github.com/informatics-isi-edu/eye-ai-exec/blob/main/notebooks/Sandbox_KB/Make_Dataset.ipynb\",\n",
    "        workflow_type=\"Test Workflow\",\n",
    "        )\n",
    "    )\n",
    "\n",
    "config = ExecutionConfiguration(\n",
    "    datasets=data_to_download,\n",
    "    workflow=dataset_workflow,\n",
    "    description=\"Test\"\n",
    "    )\n",
    "\n",
    "execution = EA.create_execution(config)"
   ]
  },
  {
   "cell_type": "code",
   "execution_count": 20,
   "id": "9db71483-dce2-4fdf-bcbc-0c952989d8f3",
   "metadata": {},
   "outputs": [
    {
     "name": "stdout",
     "output_type": "stream",
     "text": [
      "caching_dir: /data\n",
      "_working_dir: /data/kb_766/EyeAI_working\n",
      "execution_rid: 4-Z6K4\n",
      "workflow_rid: 4-Z5Y4\n",
      "asset_paths: {}\n",
      "configuration: datasets=[DatasetSpec(rid='4-S42W', materialize=False, version=DatasetVersion(major=0, minor=2, patch=1))] assets=[] workflow='4-Z5Y4' parameters={} description='Instance of making a dataset; in this case, creating an angle-2 subset of 4-S42W' argv=['/home/kb_766/.conda/envs/my-tensorflow-conda/lib/python3.10/site-packages/ipykernel_launcher.py', '-f', '/home/kb_766/.local/share/jupyter/runtime/kernel-9b90ba4d-9b2b-4f49-b3ee-c52e2a09d828.json']\n"
     ]
    }
   ],
   "source": [
    "print(execution)"
   ]
  },
  {
   "cell_type": "markdown",
   "id": "ff4ad8d0-ee04-4844-9712-b6cca103ee1f",
   "metadata": {},
   "source": [
    "# Work with Data"
   ]
  },
  {
   "cell_type": "code",
   "execution_count": 236,
   "id": "3f4d890f-f8fc-4110-829f-f4e6f09f3790",
   "metadata": {},
   "outputs": [],
   "source": [
    "ds_bag = execution.datasets[0]"
   ]
  },
  {
   "cell_type": "code",
   "execution_count": 237,
   "id": "da5516d2-6833-48e9-aa90-71ca69e02909",
   "metadata": {},
   "outputs": [
    {
     "data": {
      "text/plain": [
       "PosixPath('/data/kb_766/EyeAI_working')"
      ]
     },
     "execution_count": 237,
     "metadata": {},
     "output_type": "execute_result"
    }
   ],
   "source": [
    "\n",
    "execution._working_dir"
   ]
  },
  {
   "cell_type": "code",
   "execution_count": 224,
   "id": "3be7d5d8-b2a0-4308-96a7-e2561b11dbf8",
   "metadata": {},
   "outputs": [],
   "source": [
    "imageDF = ds_bag.get_table_as_dataframe('Image')[['RID', 'Filename', 'Observation']]\n",
    "gradingDF = pd.read_csv('Multimodal test set grading - VN.csv')[['RID_Subject', 'Eye']]\n",
    "\n",
    "imageDF = pd.merge( \n",
    "    imageDF,\n",
    "    ds_bag.get_table_as_dataframe('Execution_Image_Fundus_Laterality')[['Image', 'Image_Side']],\n",
    "    left_on = 'RID', right_on = 'Image',\n",
    "    how = 'inner'\n",
    ")[['RID', 'Image_Side', 'Filename', 'Observation']]\n",
    "\n",
    "imageDF = pd.merge(\n",
    "    imageDF,\n",
    "    ds_bag.get_table_as_dataframe('Observation')[['RID', 'Subject']],\n",
    "    left_on = 'Observation', right_on = 'RID',\n",
    "    suffixes=('_Image', '_Obs'),\n",
    "    how = 'left'\n",
    ")\n",
    "\n",
    "imageDF = pd.merge(\n",
    "    imageDF,\n",
    "    gradingDF[['RID_Subject', 'Eye']],\n",
    "    left_on = ['Subject', 'Image_Side'], right_on = ['RID_Subject', 'Eye'],\n",
    "    how = 'inner'\n",
    ")[['RID_Subject', 'RID_Image', 'Image_Side', 'Filename']]"
   ]
  },
  {
   "cell_type": "code",
   "execution_count": 229,
   "id": "6dc2b2f6-ecec-42da-9de9-949adb0caca1",
   "metadata": {},
   "outputs": [
    {
     "data": {
      "text/html": [
       "<div>\n",
       "<style scoped>\n",
       "    .dataframe tbody tr th:only-of-type {\n",
       "        vertical-align: middle;\n",
       "    }\n",
       "\n",
       "    .dataframe tbody tr th {\n",
       "        vertical-align: top;\n",
       "    }\n",
       "\n",
       "    .dataframe thead th {\n",
       "        text-align: right;\n",
       "    }\n",
       "</style>\n",
       "<table border=\"1\" class=\"dataframe\">\n",
       "  <thead>\n",
       "    <tr style=\"text-align: right;\">\n",
       "      <th></th>\n",
       "      <th>RID</th>\n",
       "      <th>Filename</th>\n",
       "      <th>Observation</th>\n",
       "    </tr>\n",
       "  </thead>\n",
       "  <tbody>\n",
       "  </tbody>\n",
       "</table>\n",
       "</div>"
      ],
      "text/plain": [
       "Empty DataFrame\n",
       "Columns: [RID, Filename, Observation]\n",
       "Index: []"
      ]
     },
     "execution_count": 229,
     "metadata": {},
     "output_type": "execute_result"
    }
   ],
   "source": [
    "imageDF = ds_bag.get_table_as_dataframe('Image')[['RID', 'Filename', 'Observation']]\n",
    "imageDF[ imageDF['RID'] == '2-7P4A' ]"
   ]
  },
  {
   "cell_type": "code",
   "execution_count": 225,
   "id": "f4071fbd-9a7a-4594-a78c-28cb620b7b77",
   "metadata": {},
   "outputs": [],
   "source": [
    "import random\n",
    "random.seed(42)\n",
    "imageDF['Random_Ind'] = random.sample( range(0,len(imageDF)), len(imageDF) )\n",
    "imageDF = imageDF[['Random_Ind', 'RID_Subject', 'RID_Image', 'Image_Side', 'Filename']]"
   ]
  },
  {
   "cell_type": "code",
   "execution_count": 226,
   "id": "aa7a74b8-6e1d-44f8-9f47-123debe983f0",
   "metadata": {},
   "outputs": [
    {
     "data": {
      "text/html": [
       "<div>\n",
       "<style scoped>\n",
       "    .dataframe tbody tr th:only-of-type {\n",
       "        vertical-align: middle;\n",
       "    }\n",
       "\n",
       "    .dataframe tbody tr th {\n",
       "        vertical-align: top;\n",
       "    }\n",
       "\n",
       "    .dataframe thead th {\n",
       "        text-align: right;\n",
       "    }\n",
       "</style>\n",
       "<table border=\"1\" class=\"dataframe\">\n",
       "  <thead>\n",
       "    <tr style=\"text-align: right;\">\n",
       "      <th></th>\n",
       "      <th>Random_Ind</th>\n",
       "      <th>RID_Subject</th>\n",
       "      <th>RID_Image</th>\n",
       "      <th>Image_Side</th>\n",
       "      <th>Filename</th>\n",
       "    </tr>\n",
       "  </thead>\n",
       "  <tbody>\n",
       "    <tr>\n",
       "      <th>0</th>\n",
       "      <td>81</td>\n",
       "      <td>2-7M7W</td>\n",
       "      <td>2-BDCW</td>\n",
       "      <td>Left</td>\n",
       "      <td>/data/4-411G_37ce9366c961c832931248ef462255860...</td>\n",
       "    </tr>\n",
       "    <tr>\n",
       "      <th>1</th>\n",
       "      <td>14</td>\n",
       "      <td>2-7M2J</td>\n",
       "      <td>2-BDHR</td>\n",
       "      <td>Left</td>\n",
       "      <td>/data/4-411G_37ce9366c961c832931248ef462255860...</td>\n",
       "    </tr>\n",
       "    <tr>\n",
       "      <th>2</th>\n",
       "      <td>3</td>\n",
       "      <td>2-7MEG</td>\n",
       "      <td>2-BDZG</td>\n",
       "      <td>Right</td>\n",
       "      <td>/data/4-411G_37ce9366c961c832931248ef462255860...</td>\n",
       "    </tr>\n",
       "    <tr>\n",
       "      <th>3</th>\n",
       "      <td>94</td>\n",
       "      <td>2-7MQC</td>\n",
       "      <td>2-BE90</td>\n",
       "      <td>Left</td>\n",
       "      <td>/data/4-411G_37ce9366c961c832931248ef462255860...</td>\n",
       "    </tr>\n",
       "    <tr>\n",
       "      <th>4</th>\n",
       "      <td>35</td>\n",
       "      <td>2-7MAM</td>\n",
       "      <td>2-BEA0</td>\n",
       "      <td>Left</td>\n",
       "      <td>/data/4-411G_37ce9366c961c832931248ef462255860...</td>\n",
       "    </tr>\n",
       "    <tr>\n",
       "      <th>...</th>\n",
       "      <td>...</td>\n",
       "      <td>...</td>\n",
       "      <td>...</td>\n",
       "      <td>...</td>\n",
       "      <td>...</td>\n",
       "    </tr>\n",
       "    <tr>\n",
       "      <th>113</th>\n",
       "      <td>41</td>\n",
       "      <td>2-7MTW</td>\n",
       "      <td>2-C2AJ</td>\n",
       "      <td>Left</td>\n",
       "      <td>/data/4-411G_37ce9366c961c832931248ef462255860...</td>\n",
       "    </tr>\n",
       "    <tr>\n",
       "      <th>114</th>\n",
       "      <td>50</td>\n",
       "      <td>2-7N3J</td>\n",
       "      <td>2-C2B0</td>\n",
       "      <td>Right</td>\n",
       "      <td>/data/4-411G_37ce9366c961c832931248ef462255860...</td>\n",
       "    </tr>\n",
       "    <tr>\n",
       "      <th>115</th>\n",
       "      <td>82</td>\n",
       "      <td>2-7M6A</td>\n",
       "      <td>2-C2YP</td>\n",
       "      <td>Left</td>\n",
       "      <td>/data/4-411G_37ce9366c961c832931248ef462255860...</td>\n",
       "    </tr>\n",
       "    <tr>\n",
       "      <th>116</th>\n",
       "      <td>112</td>\n",
       "      <td>2-7MK6</td>\n",
       "      <td>2-C382</td>\n",
       "      <td>Left</td>\n",
       "      <td>/data/4-411G_37ce9366c961c832931248ef462255860...</td>\n",
       "    </tr>\n",
       "    <tr>\n",
       "      <th>117</th>\n",
       "      <td>68</td>\n",
       "      <td>2-7M2J</td>\n",
       "      <td>2-C3JM</td>\n",
       "      <td>Right</td>\n",
       "      <td>/data/4-411G_37ce9366c961c832931248ef462255860...</td>\n",
       "    </tr>\n",
       "  </tbody>\n",
       "</table>\n",
       "<p>118 rows × 5 columns</p>\n",
       "</div>"
      ],
      "text/plain": [
       "     Random_Ind RID_Subject RID_Image Image_Side  \\\n",
       "0            81      2-7M7W    2-BDCW       Left   \n",
       "1            14      2-7M2J    2-BDHR       Left   \n",
       "2             3      2-7MEG    2-BDZG      Right   \n",
       "3            94      2-7MQC    2-BE90       Left   \n",
       "4            35      2-7MAM    2-BEA0       Left   \n",
       "..          ...         ...       ...        ...   \n",
       "113          41      2-7MTW    2-C2AJ       Left   \n",
       "114          50      2-7N3J    2-C2B0      Right   \n",
       "115          82      2-7M6A    2-C2YP       Left   \n",
       "116         112      2-7MK6    2-C382       Left   \n",
       "117          68      2-7M2J    2-C3JM      Right   \n",
       "\n",
       "                                              Filename  \n",
       "0    /data/4-411G_37ce9366c961c832931248ef462255860...  \n",
       "1    /data/4-411G_37ce9366c961c832931248ef462255860...  \n",
       "2    /data/4-411G_37ce9366c961c832931248ef462255860...  \n",
       "3    /data/4-411G_37ce9366c961c832931248ef462255860...  \n",
       "4    /data/4-411G_37ce9366c961c832931248ef462255860...  \n",
       "..                                                 ...  \n",
       "113  /data/4-411G_37ce9366c961c832931248ef462255860...  \n",
       "114  /data/4-411G_37ce9366c961c832931248ef462255860...  \n",
       "115  /data/4-411G_37ce9366c961c832931248ef462255860...  \n",
       "116  /data/4-411G_37ce9366c961c832931248ef462255860...  \n",
       "117  /data/4-411G_37ce9366c961c832931248ef462255860...  \n",
       "\n",
       "[118 rows x 5 columns]"
      ]
     },
     "execution_count": 226,
     "metadata": {},
     "output_type": "execute_result"
    }
   ],
   "source": [
    "imageDF"
   ]
  },
  {
   "cell_type": "code",
   "execution_count": 228,
   "id": "c66db652-ed85-4e7b-b6a8-dc870d331e19",
   "metadata": {},
   "outputs": [],
   "source": [
    "finalDF = pd.merge(\n",
    "    gradingDF,\n",
    "    imageDF[['RID_Subject', 'Image_Side', 'Random_Ind']],\n",
    "    left_on = ['RID_Subject', 'Eye'], right_on = ['RID_Subject', 'Image_Side'],\n",
    "    how = 'left'\n",
    ")[['Random_Ind', 'RID_Subject', 'Eye']]\n",
    "\n",
    "finalDF.to_csv('PairedGrading_VN.csv', index=False)"
   ]
  },
  {
   "cell_type": "code",
   "execution_count": 198,
   "id": "74fb098e-3a65-4361-8262-f6a905754c52",
   "metadata": {},
   "outputs": [],
   "source": [
    "! rm -r -f \"./Grading_KB\"\n",
    "! rm -r -f \"./Grading_KB.zip\""
   ]
  },
  {
   "cell_type": "code",
   "execution_count": 208,
   "id": "9b881279-7153-4778-8975-6f27d08a5d52",
   "metadata": {},
   "outputs": [],
   "source": [
    "output_path = \"./Grading_KB\"\n",
    "os.makedirs(output_path, exist_ok= True)"
   ]
  },
  {
   "cell_type": "code",
   "execution_count": 209,
   "id": "62180787-5603-4fb3-b0f9-6255a06c89b4",
   "metadata": {},
   "outputs": [],
   "source": [
    "for index, row in imageDF.iterrows():     \n",
    "    src_path = row[\"Filename\"]\n",
    "    dest_name = str(row[\"Random_Ind\"]) + \"_\" + row[\"RID_Subject\"] + \"_\" + row[\"Image_Side\"] + \".jpg\"\n",
    "    dest_path = os.path.join(output_path, dest_name)\n",
    "    shutil.copy2(src_path, dest_path)"
   ]
  },
  {
   "cell_type": "code",
   "execution_count": 210,
   "id": "c6b90aa1-fbed-4684-8c06-3c93a8e5bae7",
   "metadata": {},
   "outputs": [
    {
     "name": "stdout",
     "output_type": "stream",
     "text": [
      "117\n"
     ]
    }
   ],
   "source": [
    "!ls \"./Grading_KB\" -1 | wc -l"
   ]
  },
  {
   "cell_type": "code",
   "execution_count": 211,
   "id": "d28ecb35-8762-4166-8794-c945edfca37f",
   "metadata": {},
   "outputs": [
    {
     "name": "stdout",
     "output_type": "stream",
     "text": [
      "0_2-7NVC_Right.jpg    29_2-7P1W_Right.jpg  64_2-7NVA_Left.jpg\n",
      "100_2-7NV0_Right.jpg  30_2-7P0C_Right.jpg  65_2-7P1W_Left.jpg\n",
      "101_2-7NJ0_Right.jpg  31_2-7NWP_Left.jpg   66_2-7N88_Right.jpg\n",
      "102_2-7NVT_Right.jpg  32_2-7NCG_Left.jpg   67_2-7NDP_Left.jpg\n",
      "10_2-7NKA_Left.jpg    3_2-7N6W_Right.jpg   68_2-7NDP_Right.jpg\n",
      "103_2-7NDJ_Left.jpg   33_2-7NQM_Right.jpg  69_2-7NQM_Left.jpg\n",
      "104_2-7NT2_Right.jpg  34_2-7M2R_Left.jpg   70_2-7N5M_Left.jpg\n",
      "105_2-7N9A_Right.jpg  35_2-7NB8_Right.jpg  71_2-7P1R_Left.jpg\n",
      "106_2-7P38_Right.jpg  36_2-7N66_Right.jpg  72_2-7NEY_Left.jpg\n",
      "107_2-7NC8_Right.jpg  37_2-7P34_Right.jpg  7_2-7NQR_Left.jpg\n",
      "108_2-7NVT_Left.jpg   38_2-7N9G_Left.jpg   73_2-7NA4_Left.jpg\n",
      "109_2-7NER_Right.jpg  39_2-7NXG_Left.jpg   74_2-7MZM_Right.jpg\n",
      "110_2-7NS6_Right.jpg  40_2-7KZG_Right.jpg  75_2-7NB8_Left.jpg\n",
      "111_2-7NQG_Left.jpg   41_2-7NKP_Right.jpg  76_2-7NV0_Left.jpg\n",
      "112_2-7P12_Right.jpg  42_2-7P1R_Right.jpg  77_2-7M2R_Right.jpg\n",
      "11_2-7NYC_Right.jpg   4_2-7P0T_Left.jpg    78_2-7NT4_Left.jpg\n",
      "113_2-7P04_Left.jpg   43_2-7N7A_Left.jpg   79_2-7NZR_Right.jpg\n",
      "114_2-7NXW_Right.jpg  44_2-7NS6_Left.jpg   80_2-7NYA_Right.jpg\n",
      "115_2-7NXW_Left.jpg   45_2-7NT4_Right.jpg  81_2-7N9P_Right.jpg\n",
      "116_2-7N3P_Right.jpg  46_2-7NKA_Right.jpg  82_2-7NMW_Left.jpg\n",
      "12_2-7N8G_Left.jpg    47_2-7NVA_Right.jpg  8_2-7P0C_Left.jpg\n",
      "1_2-7NWP_Right.jpg    48_2-7N9G_Right.jpg  83_2-7N5M_Right.jpg\n",
      "13_2-7NQR_Right.jpg   49_2-7NT2_Left.jpg   84_2-7NT6_Right.jpg\n",
      "14_2-7P4R_Left.jpg    50_2-7MZM_Left.jpg   85_2-7NBM_Left.jpg\n",
      "15_2-7NMW_Right.jpg   51_2-7N3P_Left.jpg   86_2-7N88_Left.jpg\n",
      "16_2-7NXG_Right.jpg   52_2-7N6W_Left.jpg   87_2-7N66_Left.jpg\n",
      "17_2-7NAA_Right.jpg   5_2-7N9A_Left.jpg    88_2-7P24_Right.jpg\n",
      "18_2-7NZ6_Left.jpg    53_2-7P16_Left.jpg   89_2-7NNR_Right.jpg\n",
      "19_2-7NA4_Right.jpg   54_2-7N9P_Left.jpg   90_2-7N6R_Left.jpg\n",
      "20_2-7NYC_Left.jpg    55_2-7NNR_Left.jpg   91_2-7P38_Right.jpg\n",
      "21_2-7P16_Right.jpg   56_2-7NS2_Right.jpg  92_2-7NCG_Right.jpg\n",
      "22_2-7P0T_Right.jpg   57_2-7NS4_Right.jpg  9_2-7NRY_Left.jpg\n",
      "2_2-7NQG_Right.jpg    58_2-7N7A_Right.jpg  93_2-7NYR_Right.jpg\n",
      "23_2-7NTC_Left.jpg    59_2-7P04_Right.jpg  94_2-7NZ6_Right.jpg\n",
      "24_2-7P24_Left.jpg    60_2-7NZR_Left.jpg   95_2-7P08_Left.jpg\n",
      "25_2-7NFY_Right.jpg   61_2-7P4R_Right.jpg  96_2-7KVT_Right.jpg\n",
      "26_2-7P08_Right.jpg   62_2-7NS4_Left.jpg   97_2-7NT6_Left.jpg\n",
      "27_2-7NAA_Left.jpg    6_2-7P52_Left.jpg    98_2-7NTC_Right.jpg\n",
      "28_2-7NS2_Left.jpg    63_2-7N8G_Right.jpg  99_2-7P52_Right.jpg\n"
     ]
    }
   ],
   "source": [
    "ls Grading_KB"
   ]
  },
  {
   "cell_type": "code",
   "execution_count": 212,
   "id": "6c6ec8c4-f0b3-4682-bdfe-54a8ca4ef944",
   "metadata": {},
   "outputs": [
    {
     "name": "stdout",
     "output_type": "stream",
     "text": [
      "  adding: Grading_KB/ (stored 0%)\n",
      "  adding: Grading_KB/81_2-7N9P_Right.jpg (deflated 9%)\n",
      "  adding: Grading_KB/14_2-7P4R_Left.jpg (deflated 12%)\n",
      "  adding: Grading_KB/3_2-7N6W_Right.jpg (deflated 2%)\n",
      "  adding: Grading_KB/94_2-7NZ6_Right.jpg (deflated 2%)\n",
      "  adding: Grading_KB/35_2-7NB8_Right.jpg (deflated 9%)\n",
      "  adding: Grading_KB/31_2-7NWP_Left.jpg (deflated 4%)\n",
      "  adding: Grading_KB/28_2-7NS2_Left.jpg (deflated 3%)\n",
      "  adding: Grading_KB/17_2-7NAA_Right.jpg (deflated 9%)\n",
      "  adding: Grading_KB/113_2-7P04_Left.jpg (deflated 7%)\n",
      "  adding: Grading_KB/13_2-7NQR_Right.jpg (deflated 16%)\n",
      "  adding: Grading_KB/86_2-7N88_Left.jpg (deflated 3%)\n",
      "  adding: Grading_KB/108_2-7NVT_Left.jpg (deflated 2%)\n",
      "  adding: Grading_KB/69_2-7NQM_Left.jpg (deflated 3%)\n",
      "  adding: Grading_KB/11_2-7NYC_Right.jpg (deflated 3%)\n",
      "  adding: Grading_KB/75_2-7NB8_Left.jpg (deflated 10%)\n",
      "  adding: Grading_KB/54_2-7N9P_Left.jpg (deflated 11%)\n",
      "  adding: Grading_KB/4_2-7P0T_Left.jpg (deflated 4%)\n",
      "  adding: Grading_KB/114_2-7NXW_Right.jpg (deflated 3%)\n",
      "  adding: Grading_KB/103_2-7NDJ_Left.jpg (deflated 13%)\n",
      "  adding: Grading_KB/27_2-7NAA_Left.jpg (deflated 9%)\n",
      "  adding: Grading_KB/29_2-7P1W_Right.jpg (deflated 3%)\n",
      "  adding: Grading_KB/64_2-7NVA_Left.jpg (deflated 4%)\n",
      "  adding: Grading_KB/77_2-7M2R_Right.jpg (deflated 11%)\n",
      "  adding: Grading_KB/99_2-7P52_Right.jpg (deflated 13%)\n",
      "  adding: Grading_KB/71_2-7P1R_Left.jpg (deflated 12%)\n",
      "  adding: Grading_KB/25_2-7NFY_Right.jpg (deflated 5%)\n",
      "  adding: Grading_KB/83_2-7N5M_Right.jpg (deflated 11%)\n",
      "  adding: Grading_KB/89_2-7NNR_Right.jpg (deflated 12%)\n",
      "  adding: Grading_KB/104_2-7NT2_Right.jpg (deflated 13%)\n",
      "  adding: Grading_KB/53_2-7P16_Left.jpg (deflated 2%)\n",
      "  adding: Grading_KB/110_2-7NS6_Right.jpg (deflated 3%)\n",
      "  adding: Grading_KB/57_2-7NS4_Right.jpg (deflated 10%)\n",
      "  adding: Grading_KB/102_2-7NVT_Right.jpg (deflated 4%)\n",
      "  adding: Grading_KB/112_2-7P12_Right.jpg (deflated 7%)\n",
      "  adding: Grading_KB/0_2-7NVC_Right.jpg (deflated 10%)\n",
      "  adding: Grading_KB/20_2-7NYC_Left.jpg (deflated 3%)\n",
      "  adding: Grading_KB/101_2-7NJ0_Right.jpg (deflated 11%)\n",
      "  adding: Grading_KB/43_2-7N7A_Left.jpg (deflated 3%)\n",
      "  adding: Grading_KB/90_2-7N6R_Left.jpg (deflated 10%)\n",
      "  adding: Grading_KB/19_2-7NA4_Right.jpg (deflated 9%)\n",
      "  adding: Grading_KB/97_2-7NT6_Left.jpg (deflated 6%)\n",
      "  adding: Grading_KB/79_2-7NZR_Right.jpg (deflated 3%)\n",
      "  adding: Grading_KB/107_2-7NC8_Right.jpg (deflated 13%)\n",
      "  adding: Grading_KB/98_2-7NTC_Right.jpg (deflated 10%)\n",
      "  adding: Grading_KB/48_2-7N9G_Right.jpg (deflated 3%)\n",
      "  adding: Grading_KB/12_2-7N8G_Left.jpg (deflated 10%)\n",
      "  adding: Grading_KB/45_2-7NT4_Right.jpg (deflated 10%)\n",
      "  adding: Grading_KB/44_2-7NS6_Left.jpg (deflated 3%)\n",
      "  adding: Grading_KB/33_2-7NQM_Right.jpg (deflated 1%)\n",
      "  adding: Grading_KB/5_2-7N9A_Left.jpg (deflated 4%)\n",
      "  adding: Grading_KB/58_2-7N7A_Right.jpg (deflated 3%)\n",
      "  adding: Grading_KB/15_2-7NMW_Right.jpg (deflated 11%)\n",
      "  adding: Grading_KB/72_2-7NEY_Left.jpg (deflated 3%)\n",
      "  adding: Grading_KB/10_2-7NKA_Left.jpg (deflated 3%)\n",
      "  adding: Grading_KB/78_2-7NT4_Left.jpg (deflated 9%)\n",
      "  adding: Grading_KB/18_2-7NZ6_Left.jpg (deflated 2%)\n",
      "  adding: Grading_KB/87_2-7N66_Left.jpg (deflated 13%)\n",
      "  adding: Grading_KB/40_2-7KZG_Right.jpg (deflated 12%)\n",
      "  adding: Grading_KB/39_2-7NXG_Left.jpg (deflated 8%)\n",
      "  adding: Grading_KB/56_2-7NS2_Right.jpg (deflated 3%)\n",
      "  adding: Grading_KB/55_2-7NNR_Left.jpg (deflated 11%)\n",
      "  adding: Grading_KB/23_2-7NTC_Left.jpg (deflated 10%)\n",
      "  adding: Grading_KB/36_2-7N66_Right.jpg (deflated 14%)\n",
      "  adding: Grading_KB/92_2-7NCG_Right.jpg (deflated 3%)\n",
      "  adding: Grading_KB/70_2-7N5M_Left.jpg (deflated 10%)\n",
      "  adding: Grading_KB/100_2-7NV0_Right.jpg (deflated 10%)\n",
      "  adding: Grading_KB/2_2-7NQG_Right.jpg (deflated 20%)\n",
      "  adding: Grading_KB/42_2-7P1R_Right.jpg (deflated 12%)\n",
      "  adding: Grading_KB/115_2-7NXW_Left.jpg (deflated 3%)\n",
      "  adding: Grading_KB/61_2-7P4R_Right.jpg (deflated 11%)\n",
      "  adding: Grading_KB/67_2-7NDP_Left.jpg (deflated 4%)\n",
      "  adding: Grading_KB/95_2-7P08_Left.jpg (deflated 5%)\n",
      "  adding: Grading_KB/6_2-7P52_Left.jpg (deflated 13%)\n",
      "  adding: Grading_KB/24_2-7P24_Left.jpg (deflated 3%)\n",
      "  adding: Grading_KB/109_2-7NER_Right.jpg (deflated 4%)\n",
      "  adding: Grading_KB/96_2-7KVT_Right.jpg (deflated 9%)\n",
      "  adding: Grading_KB/59_2-7P04_Right.jpg (deflated 6%)\n",
      "  adding: Grading_KB/85_2-7NBM_Left.jpg (deflated 8%)\n",
      "  adding: Grading_KB/63_2-7N8G_Right.jpg (deflated 10%)\n",
      "  adding: Grading_KB/66_2-7N88_Right.jpg (deflated 3%)\n",
      "  adding: Grading_KB/22_2-7P0T_Right.jpg (deflated 3%)\n",
      "  adding: Grading_KB/74_2-7MZM_Right.jpg (deflated 10%)\n",
      "  adding: Grading_KB/49_2-7NT2_Left.jpg (deflated 10%)\n",
      "  adding: Grading_KB/51_2-7N3P_Left.jpg (deflated 3%)\n",
      "  adding: Grading_KB/38_2-7N9G_Left.jpg (deflated 3%)\n",
      "  adding: Grading_KB/65_2-7P1W_Left.jpg (deflated 5%)\n",
      "  adding: Grading_KB/46_2-7NKA_Right.jpg (deflated 2%)\n",
      "  adding: Grading_KB/52_2-7N6W_Left.jpg (deflated 3%)\n",
      "  adding: Grading_KB/60_2-7NZR_Left.jpg (deflated 3%)\n",
      "  adding: Grading_KB/8_2-7P0C_Left.jpg (deflated 9%)\n",
      "  adding: Grading_KB/116_2-7N3P_Right.jpg (deflated 3%)\n",
      "  adding: Grading_KB/80_2-7NYA_Right.jpg (deflated 1%)\n",
      "  adding: Grading_KB/34_2-7M2R_Left.jpg (deflated 12%)\n",
      "  adding: Grading_KB/7_2-7NQR_Left.jpg (deflated 16%)\n",
      "  adding: Grading_KB/21_2-7P16_Right.jpg (deflated 3%)\n",
      "  adding: Grading_KB/32_2-7NCG_Left.jpg (deflated 2%)\n",
      "  adding: Grading_KB/1_2-7NWP_Right.jpg (deflated 3%)\n",
      "  adding: Grading_KB/37_2-7P34_Right.jpg (deflated 12%)\n",
      "  adding: Grading_KB/26_2-7P08_Right.jpg (deflated 5%)\n",
      "  adding: Grading_KB/91_2-7P38_Right.jpg (deflated 16%)\n",
      "  adding: Grading_KB/106_2-7P38_Right.jpg (deflated 16%)\n",
      "  adding: Grading_KB/76_2-7NV0_Left.jpg (deflated 13%)\n",
      "  adding: Grading_KB/47_2-7NVA_Right.jpg (deflated 6%)\n",
      "  adding: Grading_KB/93_2-7NYR_Right.jpg (deflated 5%)\n",
      "  adding: Grading_KB/9_2-7NRY_Left.jpg (deflated 12%)\n",
      "  adding: Grading_KB/73_2-7NA4_Left.jpg (deflated 11%)\n",
      "  adding: Grading_KB/30_2-7P0C_Right.jpg (deflated 11%)\n",
      "  adding: Grading_KB/62_2-7NS4_Left.jpg (deflated 12%)\n",
      "  adding: Grading_KB/105_2-7N9A_Right.jpg (deflated 4%)\n",
      "  adding: Grading_KB/88_2-7P24_Right.jpg (deflated 4%)\n",
      "  adding: Grading_KB/84_2-7NT6_Right.jpg (deflated 9%)\n",
      "  adding: Grading_KB/16_2-7NXG_Right.jpg (deflated 10%)\n",
      "  adding: Grading_KB/41_2-7NKP_Right.jpg (deflated 10%)\n",
      "  adding: Grading_KB/50_2-7MZM_Left.jpg (deflated 10%)\n",
      "  adding: Grading_KB/82_2-7NMW_Left.jpg (deflated 12%)\n",
      "  adding: Grading_KB/111_2-7NQG_Left.jpg (deflated 20%)\n",
      "  adding: Grading_KB/68_2-7NDP_Right.jpg (deflated 1%)\n"
     ]
    }
   ],
   "source": [
    "!zip -r Grading_KB.zip Grading_KB/"
   ]
  },
  {
   "cell_type": "code",
   "execution_count": null,
   "id": "0a8f5dca-76ce-4671-897f-38aa38da5ad1",
   "metadata": {},
   "outputs": [],
   "source": [
    "# Buffer"
   ]
  }
 ],
 "metadata": {
  "kernelspec": {
   "display_name": "My TensorFlow (Conda)",
   "language": "python",
   "name": "my-tensorflow-conda"
  },
  "language_info": {
   "codemirror_mode": {
    "name": "ipython",
    "version": 3
   },
   "file_extension": ".py",
   "mimetype": "text/x-python",
   "name": "python",
   "nbconvert_exporter": "python",
   "pygments_lexer": "ipython3",
   "version": "3.10.13"
  }
 },
 "nbformat": 4,
 "nbformat_minor": 5
}
