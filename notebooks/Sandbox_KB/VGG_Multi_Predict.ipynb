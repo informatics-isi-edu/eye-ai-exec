{
 "cells": [
  {
   "cell_type": "markdown",
   "id": "b2006ce9-6ca1-402d-b9ad-8853b85509cf",
   "metadata": {},
   "source": [
    "# Connect Eye-AI and Load Libraries"
   ]
  },
  {
   "cell_type": "code",
   "execution_count": 41,
   "id": "003248d9-3365-4aaa-874a-858234cb2f86",
   "metadata": {},
   "outputs": [
    {
     "name": "stdout",
     "output_type": "stream",
     "text": [
      "The autoreload extension is already loaded. To reload it, use:\n",
      "  %reload_ext autoreload\n"
     ]
    }
   ],
   "source": [
    "repo_dir = \"Repos\"   # Set this to be where your github repos are located.\n",
    "%load_ext autoreload\n",
    "%autoreload 2\n",
    "\n",
    "# # Update the load path so python can find modules for the model\n",
    "import sys\n",
    "from pathlib import Path\n",
    "sys.path.insert(0, str(Path.home() / repo_dir / \"eye-ai-ml\"))\n",
    "sys.path.insert(0, str(Path.home() / repo_dir / \"eye-ai-exec\"))"
   ]
  },
  {
   "cell_type": "code",
   "execution_count": 68,
   "id": "8499060d-4de0-4ab1-bf23-8f766d24dd5e",
   "metadata": {},
   "outputs": [],
   "source": [
    "# Prerequisites\n",
    "import json\n",
    "import os\n",
    "import shutil\n",
    "from PIL import Image\n",
    "\n",
    "# EyeAI, Deriva, VGG19\n",
    "from deriva_ml import DatasetSpec, DatasetBag, Workflow, ExecutionConfiguration, VersionPart\n",
    "from deriva_ml import MLVocab as vc\n",
    "from eye_ai.eye_ai import EyeAI\n",
    "from models.vgg19 import vgg19_diagnosis_train\n",
    "\n",
    "# ML Analytics\n",
    "import pandas as pd\n",
    "import numpy as np\n",
    "from sklearn.calibration import calibration_curve\n",
    "from sklearn.metrics import roc_curve, auc\n",
    "import matplotlib.pyplot as plt\n",
    "\n",
    "# Other Utilities\n",
    "from pathlib import Path, PurePath\n",
    "import logging\n",
    "from datetime import datetime\n",
    "\n",
    "logging.basicConfig(level=logging.INFO, format='%(asctime)s - %(levelname)s - %(message)s', force=True)"
   ]
  },
  {
   "cell_type": "code",
   "execution_count": 43,
   "id": "1f254b11-9f01-4185-95a0-cd7f80995c2f",
   "metadata": {},
   "outputs": [
    {
     "name": "stderr",
     "output_type": "stream",
     "text": [
      "2025-07-30 13:48:18,347 - INFO - Creating client of type <class 'globus_sdk.services.auth.client.native_client.NativeAppAuthClient'> for service \"auth\"\n",
      "2025-07-30 13:48:18,352 - INFO - Finished initializing AuthLoginClient. client_id='8ef15ba9-2b4a-469c-a163-7fd910c9d111', type(authorizer)=<class 'globus_sdk.authorizers.base.NullAuthorizer'>\n"
     ]
    },
    {
     "name": "stdout",
     "output_type": "stream",
     "text": [
      "You are already logged in.\n"
     ]
    }
   ],
   "source": [
    "# Login\n",
    "from deriva.core.utils.globus_auth_utils import GlobusNativeLogin\n",
    "host = 'www.eye-ai.org'\n",
    "#host = 'dev.eye-ai.org' #for dev testing\n",
    "catalog_id = \"eye-ai\"\n",
    "\n",
    "gnl = GlobusNativeLogin(host=host)\n",
    "if gnl.is_logged_in([host]):\n",
    "    print(\"You are already logged in.\")\n",
    "else:\n",
    "    gnl.login([host], no_local_server=True, no_browser=True, refresh_tokens=True, update_bdbag_keychain=True)\n",
    "    print(\"Login Successful\")"
   ]
  },
  {
   "cell_type": "markdown",
   "id": "420ee433-9dce-460f-ab4d-0aff7d4eea0e",
   "metadata": {},
   "source": [
    "# Configuration"
   ]
  },
  {
   "cell_type": "code",
   "execution_count": 44,
   "id": "3a40db10-6f64-4b6e-a22d-3c7011e2a3fa",
   "metadata": {},
   "outputs": [
    {
     "name": "stderr",
     "output_type": "stream",
     "text": [
      "2025-07-30 13:48:20,029 - INFO - Creating client of type <class 'globus_sdk.services.auth.client.native_client.NativeAppAuthClient'> for service \"auth\"\n",
      "2025-07-30 13:48:20,030 - INFO - Finished initializing AuthLoginClient. client_id='8ef15ba9-2b4a-469c-a163-7fd910c9d111', type(authorizer)=<class 'globus_sdk.authorizers.base.NullAuthorizer'>\n"
     ]
    }
   ],
   "source": [
    "cache_dir = '/data'\n",
    "working_dir = '/data'\n",
    "EA = EyeAI(hostname = host, catalog_id = catalog_id, cache_dir= cache_dir, working_dir=working_dir)"
   ]
  },
  {
   "cell_type": "code",
   "execution_count": 45,
   "id": "6cef35ae-c47b-4888-9f52-811d73d7fb8d",
   "metadata": {},
   "outputs": [],
   "source": [
    "# Increment dataset if changed\n",
    "\n",
    "# EA.increment_dataset_version(dataset_rid='4-YWKJ', component= VersionPart.patch, description='Update after annotations added')"
   ]
  },
  {
   "cell_type": "code",
   "execution_count": 46,
   "id": "5c7340a9-2356-481b-bbd9-2f1f30955ca7",
   "metadata": {},
   "outputs": [
    {
     "name": "stderr",
     "output_type": "stream",
     "text": [
      "2025-07-30 13:49:20,172 - INFO - Execution Aborted\n",
      "Exception ignored in: <function DerivaML.__del__ at 0x7fab8c1cb7f0>\n",
      "Traceback (most recent call last):\n",
      "  File \"/home/kb_766/.conda/envs/my-tensorflow-conda/lib/python3.10/site-packages/deriva_ml/deriva_ml_base.py\", line 158, in __del__\n",
      "    self._execution.update_status(Status.aborted, \"Execution Aborted\")\n",
      "  File \"/home/kb_766/.conda/envs/my-tensorflow-conda/lib/python3.10/site-packages/pydantic/_internal/_validate_call.py\", line 38, in wrapper_function\n",
      "    return wrapper(*args, **kwargs)\n",
      "  File \"/home/kb_766/.conda/envs/my-tensorflow-conda/lib/python3.10/site-packages/pydantic/_internal/_validate_call.py\", line 111, in __call__\n",
      "    res = self.__pydantic_validator__.validate_python(pydantic_core.ArgsKwargs(args, kwargs))\n",
      "  File \"/home/kb_766/.conda/envs/my-tensorflow-conda/lib/python3.10/site-packages/deriva_ml/execution.py\", line 409, in update_status\n",
      "    self._ml_object.pathBuilder.schemas[self._ml_object.ml_schema].Execution.update(\n",
      "  File \"/home/kb_766/.conda/envs/my-tensorflow-conda/lib/python3.10/site-packages/deriva/core/datapath.py\", line 1109, in update\n",
      "    resp = _request_with_retry(\n",
      "  File \"/home/kb_766/.conda/envs/my-tensorflow-conda/lib/python3.10/site-packages/deriva/core/datapath.py\", line 785, in _request_with_retry\n",
      "    raise last_ex\n",
      "deriva.core.datapath.DataPathException: \n",
      "401 Client Error: UNAUTHORIZED for url: [https://www.eye-ai.org/ermrest/catalog/eye-ai/attributegroup/deriva-ml:Execution/RID;Status_Detail,Status] Details: b'Access requires authentication. Detail: update access on :deriva-ml:Execution\\n'\n",
      "2025-07-30 13:49:21,225 - INFO - Materialize bag 4-411G... \n",
      "2025-07-30 13:49:21,340 - INFO - Creating client of type <class 'globus_sdk.services.auth.client.native_client.NativeAppAuthClient'> for service \"auth\"\n",
      "2025-07-30 13:49:21,341 - INFO - Finished initializing AuthLoginClient. client_id='8ef15ba9-2b4a-469c-a163-7fd910c9d111', type(authorizer)=<class 'globus_sdk.authorizers.base.NullAuthorizer'>\n",
      "2025-07-30 13:49:23,051 - INFO - Using cached bag for  4-411G Version:2.7.0\n",
      "2025-07-30 13:49:23,052 - INFO - Loading /data/4-411G_37ce9366c961c832931248ef462255860bc8595e0165040faa43113eba38ce45/Dataset_4-411G\n",
      "2025-07-30 13:49:23,555 - INFO - Creating new database for dataset: 4-411G in /data/kb_766/EyeAI_working/4-411G@33N-3CNE-1XFP.db\n",
      "2025-07-30 13:49:23,599 - INFO - Downloading assets ...\n",
      "2025-07-30 13:49:28,327 - INFO - File [/data/kb_766/EyeAI_working/deriva-ml/execution/5-2EXP/downloaded-assets/Execution_Asset/VGG19_FULL_Images_Cropped_2-277G_Feb_14_2025.h5] transfer successful. 227.79 MB transferred at 56.97 MB/second. Elapsed time: 0:00:03.998035.\n",
      "2025-07-30 13:49:28,721 - INFO - Initialize status finished.\n"
     ]
    }
   ],
   "source": [
    "source_dataset = \"4-411G\" #\"4-YWKJ\" # USC test set\n",
    "crop = True\n",
    "\n",
    "if crop:\n",
    "    asset_RID = [\"4-MWQ6\"]  # VGG19 cropped\n",
    "else:\n",
    "    asset_RID = [\"4-MWQ8\"]  # VGG19 uncropped\n",
    "\n",
    "preds_workflow = EA.add_workflow( \n",
    "    Workflow(\n",
    "        name=\"VGG Predictions by KB\",\n",
    "        url=\"https://github.com/informatics-isi-edu/eye-ai-exec/blob/main/notebooks/Sandbox_KB/VGG_Multi_Predict.ipynb\",\n",
    "        workflow_type=\"Test Workflow\",\n",
    "        )\n",
    "    )\n",
    "\n",
    "config = ExecutionConfiguration(\n",
    "    datasets=[ DatasetSpec(rid=source_dataset, version=EA.dataset_version(source_dataset), materialize=True) ],\n",
    "    assets=asset_RID,\n",
    "    workflow=preds_workflow,\n",
    "    description=f\"Instance of creating VGG19 predictions: VGG19 on 4-411G USC Test with Crop = {crop}\",\n",
    "    )\n",
    "\n",
    "execution = EA.create_execution(config)"
   ]
  },
  {
   "cell_type": "code",
   "execution_count": 47,
   "id": "9db71483-dce2-4fdf-bcbc-0c952989d8f3",
   "metadata": {},
   "outputs": [
    {
     "name": "stdout",
     "output_type": "stream",
     "text": [
      "caching_dir: /data\n",
      "_working_dir: /data/kb_766/EyeAI_working\n",
      "execution_rid: 5-2EXP\n",
      "workflow_rid: 5-26KP\n",
      "asset_paths: {'Execution_Asset': [AssetFilePath('/data/kb_766/EyeAI_working/deriva-ml/execution/5-2EXP/downloaded-assets/Execution_Asset/VGG19_FULL_Images_Cropped_2-277G_Feb_14_2025.h5')]}\n",
      "configuration: datasets=[DatasetSpec(rid='4-411G', materialize=True, version=DatasetVersion(major=2, minor=7, patch=0))] assets=['4-MWQ6'] workflow='5-26KP' parameters={} description='Instance of creating VGG19 predictions: VGG19 on 4-411G USC Test with Crop = True' argv=['/home/kb_766/.conda/envs/my-tensorflow-conda/lib/python3.10/site-packages/ipykernel_launcher.py', '-f', '/home/kb_766/.local/share/jupyter/runtime/kernel-53b81482-309f-428d-9422-74fb6f1dc323.json']\n"
     ]
    }
   ],
   "source": [
    "print(execution)"
   ]
  },
  {
   "cell_type": "code",
   "execution_count": 48,
   "id": "390b6e9d-078d-4fad-88b9-3edc29fbd2a7",
   "metadata": {},
   "outputs": [],
   "source": [
    "output_dir = execution._working_dir / execution.execution_rid"
   ]
  },
  {
   "cell_type": "markdown",
   "id": "c5d2c728-5e3c-425c-8c62-1a54fc3347e8",
   "metadata": {},
   "source": [
    "# Organize Data into Directories for ML"
   ]
  },
  {
   "cell_type": "code",
   "execution_count": 49,
   "id": "64273618-87e3-40ed-8e39-a8d176728fb0",
   "metadata": {},
   "outputs": [],
   "source": [
    "ds_bag_test = execution.datasets[0]"
   ]
  },
  {
   "cell_type": "code",
   "execution_count": 54,
   "id": "29190d10-5c5e-4aea-a76a-2f29c835bc0e",
   "metadata": {},
   "outputs": [
    {
     "data": {
      "text/plain": [
       "PosixPath('/data/kb_766/EyeAI_working/5-2EXP/Test')"
      ]
     },
     "execution_count": 54,
     "metadata": {},
     "output_type": "execute_result"
    }
   ],
   "source": [
    "# FOR USC MULTIMODAL DATA\n",
    "# Group files as glaucoma/not for VGG evaluation\n",
    "\n",
    "imageDF = ds_bag_test.get_table_as_dataframe('Image')\n",
    "annotation_bounding_box =  pd.merge( ds_bag_test.get_table_as_dataframe('Annotation')[['Image', 'Fundus_Bounding_Box']], \n",
    "                                                ds_bag_test.get_table_as_dataframe('Fundus_Bounding_Box'), \n",
    "                                                left_on='Fundus_Bounding_Box', \n",
    "                                                right_on='RID')\n",
    "\n",
    "output_path =  output_dir / \"Test\"\n",
    "output_path_healthy = output_path / \"No_Glaucoma\"\n",
    "output_path_glaucoma = output_path / \"Suspected_Glaucoma\"\n",
    "\n",
    "output_path.mkdir(parents=True, exist_ok=True)\n",
    "output_path_healthy.mkdir(parents=True, exist_ok=True)\n",
    "output_path_glaucoma.mkdir(parents=True, exist_ok=True)\n",
    "\n",
    "for index, row in imageDF.iterrows():     \n",
    "    src_path = row[\"Filename\"]\n",
    "    image_rid = row[\"RID\"]\n",
    "    dest_name = image_rid + \".jpg\"\n",
    "    if crop: dest_name = \"Crop_\" + dest_name\n",
    "    dest_path = os.path.join(output_path_glaucoma, dest_name)\n",
    "\n",
    "    # Rule for labeling in my external USC test set\n",
    "    # label = image_rid.split( sep = \"-\" )[0]\n",
    "    # if label == \"4\":\n",
    "    #     dest_path = os.path.join(output_path_suspected, dest_name)\n",
    "    # elif label == \"2\":\n",
    "    #     dest_path = os.path.join(output_path_glaucoma, dest_name)\n",
    "    # else: \n",
    "    #     continue    \n",
    "    \n",
    "    if crop:\n",
    "        image = Image.open(src_path)\n",
    "        svg_path = annotation_bounding_box.loc[annotation_bounding_box['Image'] == image_rid, 'Filename'].values[0]\n",
    "        svg_path = Path(svg_path)\n",
    "        if not svg_path.exists():\n",
    "          continue\n",
    "        bbox = EA.get_bounding_box(svg_path)\n",
    "        cropped_image = image.crop(bbox)\n",
    "        cropped_image.save(dest_path)\n",
    "    else:\n",
    "        shutil.copy2(src_path, dest_path)\n",
    "\n",
    "output_path"
   ]
  },
  {
   "cell_type": "code",
   "execution_count": 59,
   "id": "e1abfc36-b047-4933-bb36-8defefaf73f8",
   "metadata": {},
   "outputs": [
    {
     "name": "stdout",
     "output_type": "stream",
     "text": [
      "343\n"
     ]
    }
   ],
   "source": [
    "!ls /data/kb_766/EyeAI_working/5-2EXP/Test/Suspected_Glaucoma -1 | wc -l"
   ]
  },
  {
   "cell_type": "markdown",
   "id": "5caf393f-c97c-4596-9066-944851509dae",
   "metadata": {},
   "source": [
    "# Run ML"
   ]
  },
  {
   "cell_type": "code",
   "execution_count": 60,
   "id": "90171469-182a-494c-905f-678a30fc97ba",
   "metadata": {},
   "outputs": [],
   "source": [
    "asset_output_dir = execution._working_dir / execution.execution_rid / \"asset\"\n",
    "asset_output_dir.mkdir( parents=True, exist_ok=True )"
   ]
  },
  {
   "cell_type": "code",
   "execution_count": 61,
   "id": "5c0ad2fe-8f12-477b-9f3f-0bf2a6b65642",
   "metadata": {},
   "outputs": [],
   "source": [
    "current_date = datetime.now().strftime(\"%b_%d_%Y\") "
   ]
  },
  {
   "cell_type": "code",
   "execution_count": 62,
   "id": "757330e5-06a7-4266-b4e8-cf2ee6936ff6",
   "metadata": {},
   "outputs": [],
   "source": [
    "model_path = str(execution.asset_paths['Execution_Asset'][0])"
   ]
  },
  {
   "cell_type": "code",
   "execution_count": 63,
   "id": "6e697f65-1602-4c29-b00e-1fbe3ba22bf9",
   "metadata": {},
   "outputs": [
    {
     "name": "stderr",
     "output_type": "stream",
     "text": [
      "2025-07-30 13:54:15,017 - INFO - Start execution  ...\n",
      "2025-07-30 13:54:15,114 - INFO - Start execution  ...\n",
      "2025-07-30 13:54:15.514927: I external/local_xla/xla/stream_executor/cuda/cuda_executor.cc:901] successful NUMA node read from SysFS had negative value (-1), but there must be at least one NUMA node, so returning NUMA node zero. See more at https://github.com/torvalds/linux/blob/v6.0/Documentation/ABI/testing/sysfs-bus-pci#L344-L355\n",
      "2025-07-30 13:54:15.928094: I external/local_xla/xla/stream_executor/cuda/cuda_executor.cc:901] successful NUMA node read from SysFS had negative value (-1), but there must be at least one NUMA node, so returning NUMA node zero. See more at https://github.com/torvalds/linux/blob/v6.0/Documentation/ABI/testing/sysfs-bus-pci#L344-L355\n",
      "2025-07-30 13:54:15.929724: I external/local_xla/xla/stream_executor/cuda/cuda_executor.cc:901] successful NUMA node read from SysFS had negative value (-1), but there must be at least one NUMA node, so returning NUMA node zero. See more at https://github.com/torvalds/linux/blob/v6.0/Documentation/ABI/testing/sysfs-bus-pci#L344-L355\n",
      "2025-07-30 13:54:15.939471: I external/local_xla/xla/stream_executor/cuda/cuda_executor.cc:901] successful NUMA node read from SysFS had negative value (-1), but there must be at least one NUMA node, so returning NUMA node zero. See more at https://github.com/torvalds/linux/blob/v6.0/Documentation/ABI/testing/sysfs-bus-pci#L344-L355\n",
      "2025-07-30 13:54:15.941176: I external/local_xla/xla/stream_executor/cuda/cuda_executor.cc:901] successful NUMA node read from SysFS had negative value (-1), but there must be at least one NUMA node, so returning NUMA node zero. See more at https://github.com/torvalds/linux/blob/v6.0/Documentation/ABI/testing/sysfs-bus-pci#L344-L355\n",
      "2025-07-30 13:54:15.942661: I external/local_xla/xla/stream_executor/cuda/cuda_executor.cc:901] successful NUMA node read from SysFS had negative value (-1), but there must be at least one NUMA node, so returning NUMA node zero. See more at https://github.com/torvalds/linux/blob/v6.0/Documentation/ABI/testing/sysfs-bus-pci#L344-L355\n",
      "2025-07-30 13:54:16.263981: I external/local_xla/xla/stream_executor/cuda/cuda_executor.cc:901] successful NUMA node read from SysFS had negative value (-1), but there must be at least one NUMA node, so returning NUMA node zero. See more at https://github.com/torvalds/linux/blob/v6.0/Documentation/ABI/testing/sysfs-bus-pci#L344-L355\n",
      "2025-07-30 13:54:16.265541: I external/local_xla/xla/stream_executor/cuda/cuda_executor.cc:901] successful NUMA node read from SysFS had negative value (-1), but there must be at least one NUMA node, so returning NUMA node zero. See more at https://github.com/torvalds/linux/blob/v6.0/Documentation/ABI/testing/sysfs-bus-pci#L344-L355\n",
      "2025-07-30 13:54:16.267013: I external/local_xla/xla/stream_executor/cuda/cuda_executor.cc:901] successful NUMA node read from SysFS had negative value (-1), but there must be at least one NUMA node, so returning NUMA node zero. See more at https://github.com/torvalds/linux/blob/v6.0/Documentation/ABI/testing/sysfs-bus-pci#L344-L355\n",
      "2025-07-30 13:54:16.268499: I tensorflow/core/common_runtime/gpu/gpu_device.cc:1929] Created device /job:localhost/replica:0/task:0/device:GPU:0 with 17574 MB memory:  -> device: 0, name: NVIDIA A10G, pci bus id: 0000:00:1e.0, compute capability: 8.6\n"
     ]
    },
    {
     "name": "stdout",
     "output_type": "stream",
     "text": [
      "Found 343 images belonging to 2 classes.\n"
     ]
    },
    {
     "name": "stderr",
     "output_type": "stream",
     "text": [
      "2025-07-30 13:54:18.190169: I external/local_xla/xla/stream_executor/cuda/cuda_dnn.cc:454] Loaded cuDNN version 8907\n",
      "2025-07-30 13:54:27,030 - INFO - Predictions saved to VGG19_Cropped_Model_4-411G_Jul_30_2025_predictions_results.csv\n",
      "2025-07-30 13:54:27,031 - INFO - Metrics saved to VGG19_Cropped_Model_4-411G_Jul_30_2025_metrics_summary.csv\n",
      "2025-07-30 13:54:27,035 - INFO - Successfully run Ml.\n",
      "2025-07-30 13:54:27,105 - INFO - Algorithm execution ended.\n"
     ]
    },
    {
     "name": "stdout",
     "output_type": "stream",
     "text": [
      "Execution Results:\n",
      "/data/kb_766/EyeAI_working/5-2EXP/asset/VGG19_Cropped_Model_4-411G_Jul_30_2025_predictions_results.csv /data/kb_766/EyeAI_working/5-2EXP/asset/VGG19_Cropped_Model_4-411G_Jul_30_2025_metrics_summary.csv\n"
     ]
    }
   ],
   "source": [
    "\n",
    "with execution.execute() as exec:\n",
    "        predictions_results, metrics_summary = vgg19_diagnosis_train.evaluate_only(\n",
    "            model_path = model_path, \n",
    "            model_name = f\"VGG19_Cropped_Model_{ds_bag_test.dataset_rid}_{current_date}\", \n",
    "            test_path = output_path, \n",
    "            output_dir = asset_output_dir,\n",
    "            classes = {'No_Glaucoma': 0, 'Suspected_Glaucoma': 1}\n",
    "        )\n",
    "        print(\"Execution Results:\")\n",
    "        print(predictions_results, metrics_summary)"
   ]
  },
  {
   "cell_type": "markdown",
   "id": "576aa00e-ecbb-4416-993b-19a63c50849e",
   "metadata": {},
   "source": [
    "# Evaluate ML"
   ]
  },
  {
   "cell_type": "code",
   "execution_count": 64,
   "id": "b7519fba-8a49-4ba1-bd65-227170644c26",
   "metadata": {},
   "outputs": [
    {
     "data": {
      "text/html": [
       "<div>\n",
       "<style scoped>\n",
       "    .dataframe tbody tr th:only-of-type {\n",
       "        vertical-align: middle;\n",
       "    }\n",
       "\n",
       "    .dataframe tbody tr th {\n",
       "        vertical-align: top;\n",
       "    }\n",
       "\n",
       "    .dataframe thead th {\n",
       "        text-align: right;\n",
       "    }\n",
       "</style>\n",
       "<table border=\"1\" class=\"dataframe\">\n",
       "  <thead>\n",
       "    <tr style=\"text-align: right;\">\n",
       "      <th></th>\n",
       "      <th>Metric</th>\n",
       "      <th>Value</th>\n",
       "    </tr>\n",
       "  </thead>\n",
       "  <tbody>\n",
       "    <tr>\n",
       "      <th>0</th>\n",
       "      <td>F1 Score</td>\n",
       "      <td>0.8528428093645485</td>\n",
       "    </tr>\n",
       "    <tr>\n",
       "      <th>1</th>\n",
       "      <td>Precision</td>\n",
       "      <td>1.0</td>\n",
       "    </tr>\n",
       "    <tr>\n",
       "      <th>2</th>\n",
       "      <td>Recall</td>\n",
       "      <td>0.7434402332361516</td>\n",
       "    </tr>\n",
       "    <tr>\n",
       "      <th>3</th>\n",
       "      <td>Accuracy</td>\n",
       "      <td>0.7434402332361516</td>\n",
       "    </tr>\n",
       "    <tr>\n",
       "      <th>4</th>\n",
       "      <td>ROC-AUC</td>\n",
       "      <td>Undefined (only one class)</td>\n",
       "    </tr>\n",
       "  </tbody>\n",
       "</table>\n",
       "</div>"
      ],
      "text/plain": [
       "      Metric                       Value\n",
       "0   F1 Score          0.8528428093645485\n",
       "1  Precision                         1.0\n",
       "2     Recall          0.7434402332361516\n",
       "3   Accuracy          0.7434402332361516\n",
       "4    ROC-AUC  Undefined (only one class)"
      ]
     },
     "execution_count": 64,
     "metadata": {},
     "output_type": "execute_result"
    }
   ],
   "source": [
    "pd.read_csv( metrics_summary )"
   ]
  },
  {
   "cell_type": "code",
   "execution_count": 91,
   "id": "7824292c-4e41-41c7-8a42-0e88cbca8b9d",
   "metadata": {},
   "outputs": [
    {
     "data": {
      "text/html": [
       "<div>\n",
       "<style scoped>\n",
       "    .dataframe tbody tr th:only-of-type {\n",
       "        vertical-align: middle;\n",
       "    }\n",
       "\n",
       "    .dataframe tbody tr th {\n",
       "        vertical-align: top;\n",
       "    }\n",
       "\n",
       "    .dataframe thead th {\n",
       "        text-align: right;\n",
       "    }\n",
       "</style>\n",
       "<table border=\"1\" class=\"dataframe\">\n",
       "  <thead>\n",
       "    <tr style=\"text-align: right;\">\n",
       "      <th></th>\n",
       "      <th>Filename</th>\n",
       "      <th>True Label</th>\n",
       "      <th>Prediction</th>\n",
       "      <th>Probability Score</th>\n",
       "      <th>Image</th>\n",
       "    </tr>\n",
       "  </thead>\n",
       "  <tbody>\n",
       "    <tr>\n",
       "      <th>0</th>\n",
       "      <td>Suspected_Glaucoma/Crop_2-BDCW.jpg</td>\n",
       "      <td>1.0</td>\n",
       "      <td>1</td>\n",
       "      <td>0.993956</td>\n",
       "      <td>2-BDCW</td>\n",
       "    </tr>\n",
       "    <tr>\n",
       "      <th>1</th>\n",
       "      <td>Suspected_Glaucoma/Crop_2-BDHR.jpg</td>\n",
       "      <td>1.0</td>\n",
       "      <td>1</td>\n",
       "      <td>0.994846</td>\n",
       "      <td>2-BDHR</td>\n",
       "    </tr>\n",
       "    <tr>\n",
       "      <th>2</th>\n",
       "      <td>Suspected_Glaucoma/Crop_2-BDME.jpg</td>\n",
       "      <td>1.0</td>\n",
       "      <td>1</td>\n",
       "      <td>0.884743</td>\n",
       "      <td>2-BDME</td>\n",
       "    </tr>\n",
       "    <tr>\n",
       "      <th>3</th>\n",
       "      <td>Suspected_Glaucoma/Crop_2-BDMY.jpg</td>\n",
       "      <td>1.0</td>\n",
       "      <td>0</td>\n",
       "      <td>0.216373</td>\n",
       "      <td>2-BDMY</td>\n",
       "    </tr>\n",
       "    <tr>\n",
       "      <th>4</th>\n",
       "      <td>Suspected_Glaucoma/Crop_2-BDQT.jpg</td>\n",
       "      <td>1.0</td>\n",
       "      <td>1</td>\n",
       "      <td>0.938646</td>\n",
       "      <td>2-BDQT</td>\n",
       "    </tr>\n",
       "    <tr>\n",
       "      <th>...</th>\n",
       "      <td>...</td>\n",
       "      <td>...</td>\n",
       "      <td>...</td>\n",
       "      <td>...</td>\n",
       "      <td>...</td>\n",
       "    </tr>\n",
       "    <tr>\n",
       "      <th>338</th>\n",
       "      <td>Suspected_Glaucoma/Crop_2-C38C.jpg</td>\n",
       "      <td>1.0</td>\n",
       "      <td>0</td>\n",
       "      <td>0.092451</td>\n",
       "      <td>2-C38C</td>\n",
       "    </tr>\n",
       "    <tr>\n",
       "      <th>339</th>\n",
       "      <td>Suspected_Glaucoma/Crop_2-C38R.jpg</td>\n",
       "      <td>1.0</td>\n",
       "      <td>1</td>\n",
       "      <td>0.987421</td>\n",
       "      <td>2-C38R</td>\n",
       "    </tr>\n",
       "    <tr>\n",
       "      <th>340</th>\n",
       "      <td>Suspected_Glaucoma/Crop_2-C3DG.jpg</td>\n",
       "      <td>1.0</td>\n",
       "      <td>1</td>\n",
       "      <td>0.990156</td>\n",
       "      <td>2-C3DG</td>\n",
       "    </tr>\n",
       "    <tr>\n",
       "      <th>341</th>\n",
       "      <td>Suspected_Glaucoma/Crop_2-C3JM.jpg</td>\n",
       "      <td>1.0</td>\n",
       "      <td>1</td>\n",
       "      <td>0.995290</td>\n",
       "      <td>2-C3JM</td>\n",
       "    </tr>\n",
       "    <tr>\n",
       "      <th>342</th>\n",
       "      <td>Suspected_Glaucoma/Crop_2-C3M4.jpg</td>\n",
       "      <td>1.0</td>\n",
       "      <td>1</td>\n",
       "      <td>0.910115</td>\n",
       "      <td>2-C3M4</td>\n",
       "    </tr>\n",
       "  </tbody>\n",
       "</table>\n",
       "<p>343 rows × 5 columns</p>\n",
       "</div>"
      ],
      "text/plain": [
       "                               Filename  True Label  Prediction  \\\n",
       "0    Suspected_Glaucoma/Crop_2-BDCW.jpg         1.0           1   \n",
       "1    Suspected_Glaucoma/Crop_2-BDHR.jpg         1.0           1   \n",
       "2    Suspected_Glaucoma/Crop_2-BDME.jpg         1.0           1   \n",
       "3    Suspected_Glaucoma/Crop_2-BDMY.jpg         1.0           0   \n",
       "4    Suspected_Glaucoma/Crop_2-BDQT.jpg         1.0           1   \n",
       "..                                  ...         ...         ...   \n",
       "338  Suspected_Glaucoma/Crop_2-C38C.jpg         1.0           0   \n",
       "339  Suspected_Glaucoma/Crop_2-C38R.jpg         1.0           1   \n",
       "340  Suspected_Glaucoma/Crop_2-C3DG.jpg         1.0           1   \n",
       "341  Suspected_Glaucoma/Crop_2-C3JM.jpg         1.0           1   \n",
       "342  Suspected_Glaucoma/Crop_2-C3M4.jpg         1.0           1   \n",
       "\n",
       "     Probability Score   Image  \n",
       "0             0.993956  2-BDCW  \n",
       "1             0.994846  2-BDHR  \n",
       "2             0.884743  2-BDME  \n",
       "3             0.216373  2-BDMY  \n",
       "4             0.938646  2-BDQT  \n",
       "..                 ...     ...  \n",
       "338           0.092451  2-C38C  \n",
       "339           0.987421  2-C38R  \n",
       "340           0.990156  2-C3DG  \n",
       "341           0.995290  2-C3JM  \n",
       "342           0.910115  2-C3M4  \n",
       "\n",
       "[343 rows x 5 columns]"
      ]
     },
     "execution_count": 91,
     "metadata": {},
     "output_type": "execute_result"
    }
   ],
   "source": [
    "preds = pd.read_csv( predictions_results )\n",
    "preds['Image']=preds['Filename'].str.extract(r'Crop_(.+?)\\.jpg$')\n",
    "preds"
   ]
  },
  {
   "cell_type": "code",
   "execution_count": null,
   "id": "e0c00389-8710-452b-a058-0b3476a71b22",
   "metadata": {},
   "outputs": [],
   "source": [
    "wide_t = EA.multimodal_wide(ds_bag_test)"
   ]
  },
  {
   "cell_type": "code",
   "execution_count": 118,
   "id": "962e69b5-cd58-4afd-9292-df4212ffad9a",
   "metadata": {},
   "outputs": [
    {
     "data": {
      "text/html": [
       "<div>\n",
       "<style scoped>\n",
       "    .dataframe tbody tr th:only-of-type {\n",
       "        vertical-align: middle;\n",
       "    }\n",
       "\n",
       "    .dataframe tbody tr th {\n",
       "        vertical-align: top;\n",
       "    }\n",
       "\n",
       "    .dataframe thead th {\n",
       "        text-align: right;\n",
       "    }\n",
       "</style>\n",
       "<table border=\"1\" class=\"dataframe\">\n",
       "  <thead>\n",
       "    <tr style=\"text-align: right;\">\n",
       "      <th></th>\n",
       "      <th>Image</th>\n",
       "      <th>Image_Side</th>\n",
       "      <th>Observation</th>\n",
       "      <th>Subject</th>\n",
       "      <th>Prediction</th>\n",
       "      <th>CDR</th>\n",
       "      <th>Condition_Label</th>\n",
       "    </tr>\n",
       "  </thead>\n",
       "  <tbody>\n",
       "    <tr>\n",
       "      <th>0</th>\n",
       "      <td>2-BDCW</td>\n",
       "      <td>Left</td>\n",
       "      <td>2-7SCG</td>\n",
       "      <td>2-7M7W</td>\n",
       "      <td>1</td>\n",
       "      <td>0.7</td>\n",
       "      <td>POAG</td>\n",
       "    </tr>\n",
       "    <tr>\n",
       "      <th>1</th>\n",
       "      <td>2-BDHR</td>\n",
       "      <td>Left</td>\n",
       "      <td>2-7S1G</td>\n",
       "      <td>2-7M2J</td>\n",
       "      <td>1</td>\n",
       "      <td>0.85</td>\n",
       "      <td>POAG</td>\n",
       "    </tr>\n",
       "    <tr>\n",
       "      <th>2</th>\n",
       "      <td>2-BDME</td>\n",
       "      <td>Left</td>\n",
       "      <td>2-7VT2</td>\n",
       "      <td>2-7NC8</td>\n",
       "      <td>1</td>\n",
       "      <td>0.75</td>\n",
       "      <td>Other</td>\n",
       "    </tr>\n",
       "    <tr>\n",
       "      <th>3</th>\n",
       "      <td>2-BDMY</td>\n",
       "      <td>Right</td>\n",
       "      <td>2-7VMT</td>\n",
       "      <td>2-7N9P</td>\n",
       "      <td>0</td>\n",
       "      <td>0.4</td>\n",
       "      <td>GS</td>\n",
       "    </tr>\n",
       "    <tr>\n",
       "      <th>4</th>\n",
       "      <td>2-BDQT</td>\n",
       "      <td>Left</td>\n",
       "      <td>2-7XDW</td>\n",
       "      <td>2-7P4R</td>\n",
       "      <td>1</td>\n",
       "      <td>0.7</td>\n",
       "      <td>GS</td>\n",
       "    </tr>\n",
       "    <tr>\n",
       "      <th>...</th>\n",
       "      <td>...</td>\n",
       "      <td>...</td>\n",
       "      <td>...</td>\n",
       "      <td>...</td>\n",
       "      <td>...</td>\n",
       "      <td>...</td>\n",
       "      <td>...</td>\n",
       "    </tr>\n",
       "    <tr>\n",
       "      <th>338</th>\n",
       "      <td>2-C38C</td>\n",
       "      <td>Left</td>\n",
       "      <td>2-7SM8</td>\n",
       "      <td>2-7MBG</td>\n",
       "      <td>0</td>\n",
       "      <td>0.45</td>\n",
       "      <td>POAG</td>\n",
       "    </tr>\n",
       "    <tr>\n",
       "      <th>339</th>\n",
       "      <td>2-C38R</td>\n",
       "      <td>Left</td>\n",
       "      <td>2-7WHJ</td>\n",
       "      <td>2-7NQG</td>\n",
       "      <td>1</td>\n",
       "      <td>0.7</td>\n",
       "      <td>POAG</td>\n",
       "    </tr>\n",
       "    <tr>\n",
       "      <th>340</th>\n",
       "      <td>2-C3DG</td>\n",
       "      <td>Right</td>\n",
       "      <td>2-7VX0</td>\n",
       "      <td>2-7NDP</td>\n",
       "      <td>1</td>\n",
       "      <td>0.9</td>\n",
       "      <td>POAG</td>\n",
       "    </tr>\n",
       "    <tr>\n",
       "      <th>341</th>\n",
       "      <td>2-C3JM</td>\n",
       "      <td>Right</td>\n",
       "      <td>2-7S1G</td>\n",
       "      <td>2-7M2J</td>\n",
       "      <td>1</td>\n",
       "      <td>0.95</td>\n",
       "      <td>POAG</td>\n",
       "    </tr>\n",
       "    <tr>\n",
       "      <th>342</th>\n",
       "      <td>2-C3M4</td>\n",
       "      <td>Left</td>\n",
       "      <td>2-7T3A</td>\n",
       "      <td>2-7MJG</td>\n",
       "      <td>1</td>\n",
       "      <td>0.45</td>\n",
       "      <td>GS</td>\n",
       "    </tr>\n",
       "  </tbody>\n",
       "</table>\n",
       "<p>343 rows × 7 columns</p>\n",
       "</div>"
      ],
      "text/plain": [
       "      Image Image_Side Observation Subject  Prediction   CDR Condition_Label\n",
       "0    2-BDCW       Left      2-7SCG  2-7M7W           1   0.7            POAG\n",
       "1    2-BDHR       Left      2-7S1G  2-7M2J           1  0.85            POAG\n",
       "2    2-BDME       Left      2-7VT2  2-7NC8           1  0.75           Other\n",
       "3    2-BDMY      Right      2-7VMT  2-7N9P           0   0.4              GS\n",
       "4    2-BDQT       Left      2-7XDW  2-7P4R           1   0.7              GS\n",
       "..      ...        ...         ...     ...         ...   ...             ...\n",
       "338  2-C38C       Left      2-7SM8  2-7MBG           0  0.45            POAG\n",
       "339  2-C38R       Left      2-7WHJ  2-7NQG           1   0.7            POAG\n",
       "340  2-C3DG      Right      2-7VX0  2-7NDP           1   0.9            POAG\n",
       "341  2-C3JM      Right      2-7S1G  2-7M2J           1  0.95            POAG\n",
       "342  2-C3M4       Left      2-7T3A  2-7MJG           1  0.45              GS\n",
       "\n",
       "[343 rows x 7 columns]"
      ]
     },
     "execution_count": 118,
     "metadata": {},
     "output_type": "execute_result"
    }
   ],
   "source": [
    "mergeDF = pd.merge(\n",
    "    imageDF[['RID', 'Observation']],\n",
    "    ds_bag_test.get_table_as_dataframe('Execution_Image_Fundus_Laterality')[['Image', 'Image_Side']],\n",
    "    left_on = 'RID', right_on = 'Image',\n",
    "    how = 'left'\n",
    ")[['Image', 'Image_Side', 'Observation']]\n",
    "\n",
    "mergeDF = pd.merge(\n",
    "    mergeDF,\n",
    "    ds_bag_test.get_table_as_dataframe('Observation')[['RID', 'Subject']],\n",
    "    left_on = 'Observation', right_on = 'RID',\n",
    "    how = 'left'\n",
    ")[['Image', 'Image_Side', 'Observation', 'Subject']]\n",
    "\n",
    "mergeDF = pd.merge(\n",
    "    mergeDF,\n",
    "    preds[['Image', 'Prediction']],\n",
    "    on = 'Image',\n",
    "    how = 'left'\n",
    ")[['Image', 'Image_Side', 'Observation', 'Subject', 'Prediction']]\n",
    "\n",
    "mergeDF = pd.merge(\n",
    "    mergeDF,\n",
    "    wide_t[['RID_Subject', 'Image_Side', 'CDR']],\n",
    "    left_on = ['Subject', 'Image_Side'], right_on = ['RID_Subject', 'Image_Side'],\n",
    "    how = 'left'\n",
    ")[['Image', 'Image_Side', 'Observation', 'Subject', 'Prediction', 'CDR']]\n",
    "\n",
    "mergeDF = pd.merge(\n",
    "    mergeDF,\n",
    "    ds_bag_test.get_table_as_dataframe('Execution_Subject_Chart_Label')[['Subject','Image_Side','Condition_Label']],\n",
    "    on = ['Subject', 'Image_Side'],\n",
    "    how = 'left'\n",
    ")[['Image', 'Image_Side', 'Observation', 'Subject', 'Prediction', 'CDR', 'Condition_Label']]\n",
    "\n",
    "\n",
    "mergeDF\n",
    "    "
   ]
  },
  {
   "cell_type": "code",
   "execution_count": 120,
   "id": "cf6b6e25-28cd-4c91-a3a4-3c4805abdf66",
   "metadata": {},
   "outputs": [
    {
     "data": {
      "text/plain": [
       "Condition_Label\n",
       "POAG               51\n",
       "GS                 35\n",
       "Normal or No dx     2\n",
       "Name: count, dtype: int64"
      ]
     },
     "execution_count": 120,
     "metadata": {},
     "output_type": "execute_result"
    }
   ],
   "source": [
    "mergeDF[mergeDF['Prediction'] == 0]['Condition_Label'].value_counts()"
   ]
  },
  {
   "cell_type": "code",
   "execution_count": 107,
   "id": "9febf89b-fb57-4135-85d7-c9a85b28ab6e",
   "metadata": {},
   "outputs": [
    {
     "data": {
      "image/png": "[encoded data removed]",
      "text/plain": [
       "<Figure size 1000x600 with 1 Axes>"
      ]
     },
     "metadata": {},
     "output_type": "display_data"
    }
   ],
   "source": [
    "# Ensure CDR is float and rounded\n",
    "mergeDF['CDR'] = pd.to_numeric(mergeDF['CDR'], errors='coerce')\n",
    "mergeDF['CDR'] = mergeDF['CDR'].round(2)\n",
    "\n",
    "# Count CDR values by Prediction\n",
    "cdr_1 = mergeDF[mergeDF['Prediction'] == 1]['CDR'].value_counts().sort_index()\n",
    "cdr_0 = mergeDF[mergeDF['Prediction'] == 0]['CDR'].value_counts().sort_index()\n",
    "\n",
    "# Combine into a single DataFrame\n",
    "cdr_df = pd.concat([cdr_0, cdr_1], axis=1)\n",
    "cdr_df.columns = ['Prediction = 0', 'Prediction = 1']\n",
    "cdr_df = cdr_df.fillna(0)  # Fill NaNs with 0 where a CDR is missing in one group\n",
    "\n",
    "# Plot grouped bar chart\n",
    "cdr_df.plot(kind='bar', figsize=(10, 6), width=0.8, edgecolor='black')\n",
    "\n",
    "# Labels and title\n",
    "plt.xlabel('CDR')\n",
    "plt.ylabel('Count')\n",
    "plt.title('CDR Distribution by Prediction')\n",
    "plt.legend(title='Prediction')\n",
    "plt.tight_layout()\n",
    "plt.show()"
   ]
  },
  {
   "cell_type": "code",
   "execution_count": 126,
   "id": "85c9df1b-0d01-4b04-a22e-223d39f17837",
   "metadata": {},
   "outputs": [
    {
     "data": {
      "text/plain": [
       "(35.0, 65.0, 12.77533039647577, 87.22466960352423)"
      ]
     },
     "execution_count": 126,
     "metadata": {},
     "output_type": "execute_result"
    }
   ],
   "source": [
    "(cdr_0 < 0.6).mean() * 100, (cdr_0 >= 0.6).mean() * 100, (cdr_1 < 0.6).mean() * 100, (cdr_1 >= 0.6).mean() * 100"
   ]
  },
  {
   "cell_type": "code",
   "execution_count": 110,
   "id": "97cacde1-c780-4179-9cb2-24074c179fbe",
   "metadata": {},
   "outputs": [
    {
     "data": {
      "image/png": "[encoded data removed]",
      "text/plain": [
       "<Figure size 700x500 with 1 Axes>"
      ]
     },
     "metadata": {},
     "output_type": "display_data"
    },
    {
     "name": "stdout",
     "output_type": "stream",
     "text": [
      "Mann–Whitney U test: U = 6219.00, p = 2.38e-05\n"
     ]
    }
   ],
   "source": [
    "from scipy.stats import mannwhitneyu\n",
    "\n",
    "# Ensure CDR is numeric and rounded\n",
    "mergeDF['CDR'] = pd.to_numeric(mergeDF['CDR'], errors='coerce')\n",
    "mergeDF['CDR'] = mergeDF['CDR'].round(2)\n",
    "\n",
    "# Get CDRs by prediction group\n",
    "cdr_0 = mergeDF[mergeDF['Prediction'] == 0]['CDR'].dropna()\n",
    "cdr_1 = mergeDF[mergeDF['Prediction'] == 1]['CDR'].dropna()\n",
    "\n",
    "# Boxplot\n",
    "plt.figure(figsize=(7, 5))\n",
    "plt.boxplot([cdr_0, cdr_1], labels=['Prediction = 0', 'Prediction = 1'], patch_artist=True,\n",
    "            boxprops=dict(facecolor='lightgray'),\n",
    "            medianprops=dict(color='red'))\n",
    "plt.ylabel('CDR')\n",
    "plt.title('CDR by Prediction')\n",
    "plt.grid(True, linestyle='--', alpha=0.5)\n",
    "plt.tight_layout()\n",
    "plt.show()\n",
    "\n",
    "# Statistical test: Mann–Whitney U (non-parametric alternative to t-test)\n",
    "stat, p = mannwhitneyu(cdr_0, cdr_1, alternative='two-sided')\n",
    "print(f\"Mann–Whitney U test: U = {stat:.2f}, p = {p:.2e}\")\n"
   ]
  },
  {
   "cell_type": "code",
   "execution_count": 72,
   "id": "a8af49d7-9277-4837-ad01-fb13d7a6a7c9",
   "metadata": {},
   "outputs": [
    {
     "name": "stdout",
     "output_type": "stream",
     "text": [
      "Sensitivity =  0.74\n",
      "Specificity =  nan\n",
      "Accuracy =  0.74 \n",
      "\n"
     ]
    },
    {
     "name": "stderr",
     "output_type": "stream",
     "text": [
      "/tmp/ipykernel_28653/118157946.py:7: RuntimeWarning: invalid value encountered in scalar divide\n",
      "  print( \"Specificity = \", round( tn / (tn + fp), 2 ) )\n"
     ]
    }
   ],
   "source": [
    "import matplotlib.pyplot as plt\n",
    "import sklearn.metrics as sk\n",
    "\n",
    "cm = sk.confusion_matrix(preds['True Label'], preds['Prediction'])\n",
    "tn, fp, fn, tp = cm.ravel()\n",
    "print( \"Sensitivity = \", round( tp / (tp + fn), 2 ) )\n",
    "print( \"Specificity = \", round( tn / (tn + fp), 2 ) )\n",
    "print( \"Accuracy = \", round( (tp + tn) / (tp + tn + fp + fn), 2 ), \"\\n\" )\n",
    "disp = sk.ConfusionMatrixDisplay( cm )"
   ]
  },
  {
   "cell_type": "code",
   "execution_count": 73,
   "id": "9903330f-82c4-4ff2-9d61-960e2440dbc0",
   "metadata": {},
   "outputs": [
    {
     "data": {
      "image/png": "[encoded data removed]",
      "text/plain": [
       "<Figure size 640x480 with 2 Axes>"
      ]
     },
     "metadata": {},
     "output_type": "display_data"
    }
   ],
   "source": [
    "disp.plot()\n",
    "plt.show()"
   ]
  },
  {
   "cell_type": "code",
   "execution_count": 66,
   "id": "ed1227b4-13ac-40dd-ba5a-c19e10ab2719",
   "metadata": {},
   "outputs": [
    {
     "data": {
      "image/png": "[encoded data removed]",
      "text/plain": [
       "<Figure size 640x480 with 1 Axes>"
      ]
     },
     "metadata": {},
     "output_type": "display_data"
    }
   ],
   "source": [
    "# Calibration curve\n",
    "prob_true, prob_pred = calibration_curve( preds[\"True Label\"], preds[\"Probability Score\"], n_bins=10, strategy='uniform')\n",
    "plt.plot(prob_pred, prob_true, marker='o', label='Model')\n",
    "plt.plot([0, 1], [0, 1], linestyle='--', label='Perfectly calibrated')\n",
    "plt.xlabel('Mean predicted probability')\n",
    "plt.ylabel('Fraction of positives')\n",
    "plt.title('Calibration curve')\n",
    "plt.legend()\n",
    "plt.show()"
   ]
  },
  {
   "cell_type": "markdown",
   "id": "97724d8d-2d2c-4f60-8a4c-75f8c8d06b33",
   "metadata": {},
   "source": [
    "# Upload Results"
   ]
  },
  {
   "cell_type": "code",
   "execution_count": 74,
   "id": "f27d4849-0230-4722-afa5-47f03a9d90a2",
   "metadata": {},
   "outputs": [],
   "source": [
    "#This loop creates copies.\n",
    "for filename in os.listdir(asset_output_dir):\n",
    "    file_path = os.path.join(asset_output_dir, filename)\n",
    "    if os.path.isfile(file_path):\n",
    "        asset_type = \"\"\n",
    "        if filename.endswith(('csv', 'jpg', 'txt')):\n",
    "            asset_type = \"Model_Prediction\"\n",
    "        elif filename.endswith('pth'):\n",
    "            asset_type = \"Diagnosis_Model\"\n",
    "        if asset_type != \"\":\n",
    "            path = execution.asset_file_path(\n",
    "                asset_name=\"Execution_Asset\",\n",
    "                file_name=file_path,\n",
    "                asset_types=asset_type\n",
    "            )\n"
   ]
  },
  {
   "cell_type": "code",
   "execution_count": 75,
   "id": "aaf78fd5-8f9e-4abf-a946-c716b9c86ddd",
   "metadata": {},
   "outputs": [
    {
     "name": "stderr",
     "output_type": "stream",
     "text": [
      "2025-07-30 14:23:45,785 - INFO - Uploading execution files...\n",
      "2025-07-30 14:23:45,835 - INFO - Initializing uploader: GenericUploader v1.7.7 [Python 3.10.13, Linux-5.10.210-201.852.amzn2.x86_64-x86_64-with-glibc2.26]\n",
      "2025-07-30 14:23:45,836 - INFO - Creating client of type <class 'globus_sdk.services.auth.client.native_client.NativeAppAuthClient'> for service \"auth\"\n",
      "2025-07-30 14:23:45,837 - INFO - Finished initializing AuthLoginClient. client_id='8ef15ba9-2b4a-469c-a163-7fd910c9d111', type(authorizer)=<class 'globus_sdk.authorizers.base.NullAuthorizer'>\n",
      "2025-07-30 14:23:45,874 - INFO - Scanning files in directory [/data/kb_766/EyeAI_working/deriva-ml/execution/5-2EXP/asset]...\n",
      "2025-07-30 14:23:45,877 - INFO - Including file: [/data/kb_766/EyeAI_working/deriva-ml/execution/5-2EXP/asset/deriva-ml/Execution_Metadata/configuration.json].\n",
      "2025-07-30 14:23:45,878 - INFO - Including file: [/data/kb_766/EyeAI_working/deriva-ml/execution/5-2EXP/asset/deriva-ml/Execution_Metadata/environment_snapshot_20250730_134928.txt].\n",
      "2025-07-30 14:23:45,878 - INFO - Including file: [/data/kb_766/EyeAI_working/deriva-ml/execution/5-2EXP/asset/deriva-ml/Execution_Asset/VGG19_Cropped_Model_4-411G_Jul_30_2025_predictions_results.csv].\n",
      "2025-07-30 14:23:45,879 - INFO - Including file: [/data/kb_766/EyeAI_working/deriva-ml/execution/5-2EXP/asset/deriva-ml/Execution_Asset/VGG19_Cropped_Model_4-411G_Jul_30_2025_metrics_summary.csv].\n",
      "2025-07-30 14:23:45,880 - INFO - Processing: [/data/kb_766/EyeAI_working/deriva-ml/execution/5-2EXP/asset/deriva-ml/Execution_Metadata/configuration.json]\n",
      "2025-07-30 14:23:45,881 - INFO - Computed metadata for: [/data/kb_766/EyeAI_working/deriva-ml/execution/5-2EXP/asset/deriva-ml/Execution_Metadata/configuration.json].\n",
      "2025-07-30 14:23:45,881 - INFO - Computing checksums for file: [/data/kb_766/EyeAI_working/deriva-ml/execution/5-2EXP/asset/deriva-ml/Execution_Metadata/configuration.json]. Please wait...\n",
      "2025-07-30 14:23:45,883 - INFO - Uploading file: [/data/kb_766/EyeAI_working/deriva-ml/execution/5-2EXP/asset/deriva-ml/Execution_Metadata/configuration.json] to host https://www.eye-ai.org. Please wait...\n",
      "2025-07-30 14:23:46,347 - INFO - Processing: [/data/kb_766/EyeAI_working/deriva-ml/execution/5-2EXP/asset/deriva-ml/Execution_Metadata/environment_snapshot_20250730_134928.txt]\n",
      "2025-07-30 14:23:46,348 - INFO - Computed metadata for: [/data/kb_766/EyeAI_working/deriva-ml/execution/5-2EXP/asset/deriva-ml/Execution_Metadata/environment_snapshot_20250730_134928.txt].\n",
      "2025-07-30 14:23:46,348 - INFO - Computing checksums for file: [/data/kb_766/EyeAI_working/deriva-ml/execution/5-2EXP/asset/deriva-ml/Execution_Metadata/environment_snapshot_20250730_134928.txt]. Please wait...\n",
      "2025-07-30 14:23:46,350 - INFO - Uploading file: [/data/kb_766/EyeAI_working/deriva-ml/execution/5-2EXP/asset/deriva-ml/Execution_Metadata/environment_snapshot_20250730_134928.txt] to host https://www.eye-ai.org. Please wait...\n",
      "2025-07-30 14:23:46,505 - INFO - Processing: [/data/kb_766/EyeAI_working/deriva-ml/execution/5-2EXP/asset/deriva-ml/Execution_Asset/VGG19_Cropped_Model_4-411G_Jul_30_2025_predictions_results.csv]\n",
      "2025-07-30 14:23:46,506 - INFO - Computed metadata for: [/data/kb_766/EyeAI_working/deriva-ml/execution/5-2EXP/asset/deriva-ml/Execution_Asset/VGG19_Cropped_Model_4-411G_Jul_30_2025_predictions_results.csv].\n",
      "2025-07-30 14:23:46,506 - INFO - Computing checksums for file: [/data/kb_766/EyeAI_working/deriva-ml/execution/5-2EXP/asset/deriva-ml/Execution_Asset/VGG19_Cropped_Model_4-411G_Jul_30_2025_predictions_results.csv]. Please wait...\n",
      "2025-07-30 14:23:46,508 - INFO - Uploading file: [/data/kb_766/EyeAI_working/deriva-ml/execution/5-2EXP/asset/deriva-ml/Execution_Asset/VGG19_Cropped_Model_4-411G_Jul_30_2025_predictions_results.csv] to host https://www.eye-ai.org. Please wait...\n",
      "2025-07-30 14:23:46,667 - INFO - Processing: [/data/kb_766/EyeAI_working/deriva-ml/execution/5-2EXP/asset/deriva-ml/Execution_Asset/VGG19_Cropped_Model_4-411G_Jul_30_2025_metrics_summary.csv]\n",
      "2025-07-30 14:23:46,668 - INFO - Computed metadata for: [/data/kb_766/EyeAI_working/deriva-ml/execution/5-2EXP/asset/deriva-ml/Execution_Asset/VGG19_Cropped_Model_4-411G_Jul_30_2025_metrics_summary.csv].\n",
      "2025-07-30 14:23:46,669 - INFO - Computing checksums for file: [/data/kb_766/EyeAI_working/deriva-ml/execution/5-2EXP/asset/deriva-ml/Execution_Asset/VGG19_Cropped_Model_4-411G_Jul_30_2025_metrics_summary.csv]. Please wait...\n",
      "2025-07-30 14:23:46,670 - INFO - Uploading file: [/data/kb_766/EyeAI_working/deriva-ml/execution/5-2EXP/asset/deriva-ml/Execution_Asset/VGG19_Cropped_Model_4-411G_Jul_30_2025_metrics_summary.csv] to host https://www.eye-ai.org. Please wait...\n",
      "2025-07-30 14:23:46,860 - INFO - File upload processing completed: 4 files were uploaded successfully, 0 files failed to upload due to errors, 0 files were skipped because they did not satisfy the matching criteria of the configuration.\n",
      "2025-07-30 14:23:47,076 - INFO - Updating features...\n",
      "2025-07-30 14:23:47,117 - INFO - Upload assets complete\n",
      "2025-07-30 14:23:47,154 - INFO - Successfully end the execution.\n"
     ]
    },
    {
     "data": {
      "text/plain": [
       "{'deriva-ml/Execution_Metadata': [AssetFilePath('/data/kb_766/EyeAI_working/deriva-ml/execution/5-2EXP/asset/deriva-ml/Execution_Metadata/configuration.json'),\n",
       "  AssetFilePath('/data/kb_766/EyeAI_working/deriva-ml/execution/5-2EXP/asset/deriva-ml/Execution_Metadata/environment_snapshot_20250730_134928.txt')],\n",
       " 'deriva-ml/Execution_Asset': [AssetFilePath('/data/kb_766/EyeAI_working/deriva-ml/execution/5-2EXP/asset/deriva-ml/Execution_Asset/VGG19_Cropped_Model_4-411G_Jul_30_2025_predictions_results.csv'),\n",
       "  AssetFilePath('/data/kb_766/EyeAI_working/deriva-ml/execution/5-2EXP/asset/deriva-ml/Execution_Asset/VGG19_Cropped_Model_4-411G_Jul_30_2025_metrics_summary.csv')]}"
      ]
     },
     "execution_count": 75,
     "metadata": {},
     "output_type": "execute_result"
    }
   ],
   "source": [
    "# upload assets to catalog\n",
    "exec.upload_execution_outputs(clean_folder=True)"
   ]
  },
  {
   "cell_type": "code",
   "execution_count": null,
   "id": "2780afbd-f4be-496c-bf24-efe2a133bee3",
   "metadata": {},
   "outputs": [],
   "source": []
  }
 ],
 "metadata": {
  "kernelspec": {
   "display_name": "My TensorFlow (Conda)",
   "language": "python",
   "name": "my-tensorflow-conda"
  },
  "language_info": {
   "codemirror_mode": {
    "name": "ipython",
    "version": 3
   },
   "file_extension": ".py",
   "mimetype": "text/x-python",
   "name": "python",
   "nbconvert_exporter": "python",
   "pygments_lexer": "ipython3",
   "version": "3.10.13"
  }
 },
 "nbformat": 4,
 "nbformat_minor": 5
}
