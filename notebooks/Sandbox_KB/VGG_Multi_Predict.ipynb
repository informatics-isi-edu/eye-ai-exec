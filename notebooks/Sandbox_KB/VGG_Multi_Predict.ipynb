{
 "cells": [
  {
   "cell_type": "markdown",
   "id": "b2006ce9-6ca1-402d-b9ad-8853b85509cf",
   "metadata": {},
   "source": [
    "# Connect Eye-AI and Load Libraries"
   ]
  },
  {
   "cell_type": "code",
   "execution_count": null,
   "id": "003248d9-3365-4aaa-874a-858234cb2f86",
   "metadata": {},
   "outputs": [],
   "source": [
    "%load_ext autoreload\n",
    "%autoreload 2\n",
    "\n",
    "# # Update the load path so python can find modules for the model\n",
    "import sys\n",
    "from pathlib import Path\n",
    "sys.path.insert(0, str(Path.home() / \"eye-ai-ml\"))\n",
    "sys.path.insert(0, str(Path.home() / \"eye-ai-exec\"))"
   ]
  },
  {
   "cell_type": "code",
   "execution_count": null,
   "id": "8499060d-4de0-4ab1-bf23-8f766d24dd5e",
   "metadata": {},
   "outputs": [],
   "source": [
    "# Prerequisites\n",
    "import json\n",
    "import os\n",
    "import shutil\n",
    "from PIL import Image\n",
    "\n",
    "# EyeAI, Deriva, VGG19\n",
    "from deriva_ml import DatasetSpec, DatasetBag, Workflow, ExecutionConfiguration, VersionPart\n",
    "from deriva_ml import MLVocab as vc\n",
    "from eye_ai.eye_ai import EyeAI\n",
    "from models.vgg19 import vgg19_diagnosis_train\n",
    "\n",
    "# ML Analytics\n",
    "import pandas as pd\n",
    "import numpy as np\n",
    "from sklearn.calibration import calibration_curve\n",
    "from sklearn.metrics import roc_curve, auc\n",
    "import matplotlib.pyplot as plt\n",
    "\n",
    "# Other Utilities\n",
    "from pathlib import Path, PurePath\n",
    "import logging\n",
    "from datetime import datetime\n",
    "\n",
    "logging.basicConfig(level=logging.INFO, format='%(asctime)s - %(levelname)s - %(message)s', force=True)"
   ]
  },
  {
   "cell_type": "code",
   "execution_count": null,
   "id": "1f254b11-9f01-4185-95a0-cd7f80995c2f",
   "metadata": {},
   "outputs": [],
   "source": [
    "# Login\n",
    "from deriva.core.utils.globus_auth_utils import GlobusNativeLogin\n",
    "host = 'www.eye-ai.org'\n",
    "#host = 'dev.eye-ai.org' #for dev testing\n",
    "catalog_id = \"eye-ai\"\n",
    "\n",
    "gnl = GlobusNativeLogin(host=host)\n",
    "if gnl.is_logged_in([host]):\n",
    "    print(\"You are already logged in.\")\n",
    "else:\n",
    "    gnl.login([host], no_local_server=True, no_browser=True, refresh_tokens=True, update_bdbag_keychain=True)\n",
    "    print(\"Login Successful\")"
   ]
  },
  {
   "cell_type": "markdown",
   "id": "420ee433-9dce-460f-ab4d-0aff7d4eea0e",
   "metadata": {},
   "source": [
    "# Configuration"
   ]
  },
  {
   "cell_type": "code",
   "execution_count": null,
   "id": "3a40db10-6f64-4b6e-a22d-3c7011e2a3fa",
   "metadata": {},
   "outputs": [],
   "source": [
    "cache_dir = '/data'\n",
    "working_dir = '/data'\n",
    "EA = EyeAI(hostname = host, catalog_id = catalog_id, cache_dir= cache_dir, working_dir=working_dir)"
   ]
  },
  {
   "cell_type": "code",
   "execution_count": null,
   "id": "6cef35ae-c47b-4888-9f52-811d73d7fb8d",
   "metadata": {},
   "outputs": [],
   "source": [
    "# Increment dataset if changed\n",
    "\n",
    "# EA.increment_dataset_version(dataset_rid='4-YWKJ', component= VersionPart.patch, description='Update after annotations added')"
   ]
  },
  {
   "cell_type": "code",
   "execution_count": null,
   "id": "5c7340a9-2356-481b-bbd9-2f1f30955ca7",
   "metadata": {},
   "outputs": [],
   "source": [
    "source_dataset = \"4-YWKJ\" # USC test set\n",
    "crop = True\n",
    "\n",
    "if crop:\n",
    "    asset_RID = [\"4-MWQ6\"]  # VGG19 cropped\n",
    "else:\n",
    "    asset_RID = [\"4-MWQ8\"]  # VGG19 uncropped\n",
    "\n",
    "preds_workflow = EA.add_workflow( \n",
    "    Workflow(\n",
    "        name=\"VGG Predictions by KB\",\n",
    "        url=\"https://github.com/informatics-isi-edu/eye-ai-exec/blob/main/notebooks/Sandbox_KB/VGG_Predict.ipynb\",\n",
    "        workflow_type=\"Test Workflow\",\n",
    "        )\n",
    "    )\n",
    "\n",
    "config = ExecutionConfiguration(\n",
    "    datasets=[ DatasetSpec(rid=source_dataset, version=EA.dataset_version(source_dataset), materialize=True) ],\n",
    "    assets=asset_RID,\n",
    "    workflow=preds_workflow,\n",
    "    description=\"Instance of creating VGG19 predictions: VGG19 Uncropped on 4-YWKJ USC Test\",\n",
    "    )\n",
    "\n",
    "execution = EA.create_execution(config)"
   ]
  },
  {
   "cell_type": "code",
   "execution_count": null,
   "id": "9db71483-dce2-4fdf-bcbc-0c952989d8f3",
   "metadata": {},
   "outputs": [],
   "source": [
    "print(execution)"
   ]
  },
  {
   "cell_type": "code",
   "execution_count": null,
   "id": "390b6e9d-078d-4fad-88b9-3edc29fbd2a7",
   "metadata": {},
   "outputs": [],
   "source": [
    "output_dir = execution._working_dir / execution.execution_rid"
   ]
  },
  {
   "cell_type": "markdown",
   "id": "c5d2c728-5e3c-425c-8c62-1a54fc3347e8",
   "metadata": {},
   "source": [
    "# Organize Data into Directories for ML"
   ]
  },
  {
   "cell_type": "code",
   "execution_count": null,
   "id": "64273618-87e3-40ed-8e39-a8d176728fb0",
   "metadata": {},
   "outputs": [],
   "source": [
    "ds_bag_test = execution.datasets[0]"
   ]
  },
  {
   "cell_type": "code",
   "execution_count": null,
   "id": "29190d10-5c5e-4aea-a76a-2f29c835bc0e",
   "metadata": {},
   "outputs": [],
   "source": [
    "# FOR USC MULTIMODAL DATA\n",
    "# Group files as glaucoma/not for VGG evaluation\n",
    "\n",
    "imageDF = ds_bag_test.get_table_as_dataframe('Image')\n",
    "annotation_bounding_box =  pd.merge( ds_bag_test.get_table_as_dataframe('Annotation')[['Image', 'Fundus_Bounding_Box']], \n",
    "                                                ds_bag_test.get_table_as_dataframe('Fundus_Bounding_Box'), \n",
    "                                                left_on='Fundus_Bounding_Box', \n",
    "                                                right_on='RID')\n",
    "\n",
    "output_path =  output_dir / \"Test\"\n",
    "output_path_suspected = output_path / \"No_Glaucoma\"\n",
    "output_path_glaucoma = output_path / \"Suspected_Glaucoma\"\n",
    "\n",
    "output_path.mkdir(parents=True, exist_ok=True)\n",
    "output_path_suspected.mkdir(parents=True, exist_ok=True)\n",
    "output_path_glaucoma.mkdir(parents=True, exist_ok=True)\n",
    "\n",
    "for index, row in imageDF.iterrows():     \n",
    "    src_path = row[\"Filename\"]\n",
    "    image_rid = row[\"RID\"]\n",
    "    dest_name = image_rid + \".jpg\"\n",
    "    if crop: dest_name = \"Crop_\" + dest_name\n",
    "    label = image_rid.split( sep = \"-\" )[0]\n",
    "    \n",
    "    if label == \"4\":\n",
    "        dest_path = os.path.join(output_path_suspected, dest_name)\n",
    "    elif label == \"2\":\n",
    "        dest_path = os.path.join(output_path_glaucoma, dest_name)\n",
    "    else: \n",
    "        continue    \n",
    "    \n",
    "    if crop:\n",
    "        image = Image.open(src_path)\n",
    "        svg_path = annotation_bounding_box.loc[annotation_bounding_box['Image'] == image_rid, 'Filename'].values[0]\n",
    "        svg_path = Path(svg_path)\n",
    "        if not svg_path.exists():\n",
    "          continue\n",
    "        bbox = EA.get_bounding_box(svg_path)\n",
    "        cropped_image = image.crop(bbox)\n",
    "        cropped_image.save(dest_path)\n",
    "    else:\n",
    "        shutil.copy2(src_path, dest_path)\n",
    "\n",
    "output_path"
   ]
  },
  {
   "cell_type": "code",
   "execution_count": null,
   "id": "dc413d08-083e-40f6-af09-5a351e12ffec",
   "metadata": {},
   "outputs": [],
   "source": [
    "!ls /data/kb_766/EyeAI_working/4-YX7M/Test"
   ]
  },
  {
   "cell_type": "code",
   "execution_count": null,
   "id": "1a5b73e9-901a-4fc0-9810-7a3660155282",
   "metadata": {},
   "outputs": [],
   "source": [
    "!ls /data/kb_766/EyeAI_working/4-YX7M/Test/No_Glaucoma"
   ]
  },
  {
   "cell_type": "code",
   "execution_count": null,
   "id": "ceceaff8-253c-49c6-9ec0-5b042800d481",
   "metadata": {},
   "outputs": [],
   "source": [
    "!ls /data/kb_766/EyeAI_working/4-YX7M/Test/No_Glaucoma -1 | wc -l"
   ]
  },
  {
   "cell_type": "code",
   "execution_count": null,
   "id": "417b0afe-5df2-4666-8de2-865aa9391b96",
   "metadata": {},
   "outputs": [],
   "source": [
    "!ls /data/kb_766/EyeAI_working/4-YX7M/Test/Suspected_Glaucoma"
   ]
  },
  {
   "cell_type": "code",
   "execution_count": null,
   "id": "e1abfc36-b047-4933-bb36-8defefaf73f8",
   "metadata": {},
   "outputs": [],
   "source": [
    "!ls /data/kb_766/EyeAI_working/4-YX7M/Test/Suspected_Glaucoma -1 | wc -l"
   ]
  },
  {
   "cell_type": "markdown",
   "id": "5caf393f-c97c-4596-9066-944851509dae",
   "metadata": {},
   "source": [
    "# Run ML"
   ]
  },
  {
   "cell_type": "code",
   "execution_count": null,
   "id": "90171469-182a-494c-905f-678a30fc97ba",
   "metadata": {},
   "outputs": [],
   "source": [
    "asset_output_dir = execution._working_dir / execution.execution_rid / \"asset\"\n",
    "asset_output_dir.mkdir( parents=True, exist_ok=True )"
   ]
  },
  {
   "cell_type": "code",
   "execution_count": null,
   "id": "5c0ad2fe-8f12-477b-9f3f-0bf2a6b65642",
   "metadata": {},
   "outputs": [],
   "source": [
    "current_date = datetime.now().strftime(\"%b_%d_%Y\") "
   ]
  },
  {
   "cell_type": "code",
   "execution_count": null,
   "id": "757330e5-06a7-4266-b4e8-cf2ee6936ff6",
   "metadata": {},
   "outputs": [],
   "source": [
    "model_path = str(execution.asset_paths['Execution_Asset'][0])"
   ]
  },
  {
   "cell_type": "code",
   "execution_count": null,
   "id": "6e697f65-1602-4c29-b00e-1fbe3ba22bf9",
   "metadata": {},
   "outputs": [],
   "source": [
    "\n",
    "with execution.execute() as exec:\n",
    "        predictions_results, metrics_summary = vgg19_diagnosis_train.evaluate_only(\n",
    "            model_path = model_path, \n",
    "            model_name = f\"VGG19_Cropped_Model_{ds_bag_test.dataset_rid}_{current_date}\", \n",
    "            test_path = output_path, \n",
    "            output_dir = asset_output_dir,\n",
    "            classes = {'No_Glaucoma': 0, 'Suspected_Glaucoma': 1}\n",
    "        )\n",
    "        print(\"Execution Results:\")\n",
    "        print(predictions_results, metrics_summary)"
   ]
  },
  {
   "cell_type": "markdown",
   "id": "576aa00e-ecbb-4416-993b-19a63c50849e",
   "metadata": {},
   "source": [
    "# Evaluate ML"
   ]
  },
  {
   "cell_type": "code",
   "execution_count": null,
   "id": "b7519fba-8a49-4ba1-bd65-227170644c26",
   "metadata": {},
   "outputs": [],
   "source": [
    "pd.read_csv( metrics_summary )"
   ]
  },
  {
   "cell_type": "code",
   "execution_count": null,
   "id": "7824292c-4e41-41c7-8a42-0e88cbca8b9d",
   "metadata": {},
   "outputs": [],
   "source": [
    "preds = pd.read_csv( predictions_results )"
   ]
  },
  {
   "cell_type": "code",
   "execution_count": null,
   "id": "ed1227b4-13ac-40dd-ba5a-c19e10ab2719",
   "metadata": {},
   "outputs": [],
   "source": [
    "# Calibration curve\n",
    "prob_true, prob_pred = calibration_curve( preds[\"True Label\"], preds[\"Probability Score\"], n_bins=10, strategy='uniform')\n",
    "plt.plot(prob_pred, prob_true, marker='o', label='Model')\n",
    "plt.plot([0, 1], [0, 1], linestyle='--', label='Perfectly calibrated')\n",
    "plt.xlabel('Mean predicted probability')\n",
    "plt.ylabel('Fraction of positives')\n",
    "plt.title('Calibration curve')\n",
    "plt.legend()\n",
    "plt.show()"
   ]
  },
  {
   "cell_type": "markdown",
   "id": "97724d8d-2d2c-4f60-8a4c-75f8c8d06b33",
   "metadata": {},
   "source": [
    "# Upload Results"
   ]
  },
  {
   "cell_type": "code",
   "execution_count": null,
   "id": "f27d4849-0230-4722-afa5-47f03a9d90a2",
   "metadata": {},
   "outputs": [],
   "source": [
    "# # crete asset path\n",
    "# asset_type_name = \"Diagnosis_Analysis\"\n",
    "# asset_path = exec.execution_asset_path(asset_type_name)\n",
    "\n",
    "# # save assets to asset_path\n",
    "# linkdDF.to_csv(asset_path/'ImagesToVGG19.csv', index=False)\n",
    "\n",
    "# upload assets to catalog\n",
    "exec.upload_execution_outputs(clean_folder=True)"
   ]
  },
  {
   "cell_type": "code",
   "execution_count": null,
   "id": "aaf78fd5-8f9e-4abf-a946-c716b9c86ddd",
   "metadata": {},
   "outputs": [],
   "source": []
  }
 ],
 "metadata": {
  "language_info": {
   "name": "python"
  }
 },
 "nbformat": 4,
 "nbformat_minor": 5
}
