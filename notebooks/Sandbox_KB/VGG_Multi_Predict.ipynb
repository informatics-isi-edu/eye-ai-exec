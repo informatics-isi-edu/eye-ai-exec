{
 "cells": [
  {
   "cell_type": "markdown",
   "id": "b2006ce9-6ca1-402d-b9ad-8853b85509cf",
   "metadata": {},
   "source": [
    "# Connect Eye-AI and Load Libraries"
   ]
  },
  {
   "cell_type": "code",
   "execution_count": 1,
   "id": "003248d9-3365-4aaa-874a-858234cb2f86",
   "metadata": {},
   "outputs": [],
   "source": [
    "repo_dir = \"Repos\"   # Set this to be where your github repos are located.\n",
    "%load_ext autoreload\n",
    "%autoreload 2\n",
    "\n",
    "# # Update the load path so python can find modules for the model\n",
    "import sys\n",
    "from pathlib import Path\n",
    "sys.path.insert(0, str(Path.home() / repo_dir / \"eye-ai-ml\"))\n",
    "sys.path.insert(0, str(Path.home() / repo_dir / \"eye-ai-exec\"))"
   ]
  },
  {
   "cell_type": "code",
   "execution_count": 2,
   "id": "8499060d-4de0-4ab1-bf23-8f766d24dd5e",
   "metadata": {},
   "outputs": [
    {
     "name": "stderr",
     "output_type": "stream",
     "text": [
      "2025-06-30 12:12:52.362486: E external/local_xla/xla/stream_executor/cuda/cuda_dnn.cc:9261] Unable to register cuDNN factory: Attempting to register factory for plugin cuDNN when one has already been registered\n",
      "2025-06-30 12:12:52.362546: E external/local_xla/xla/stream_executor/cuda/cuda_fft.cc:607] Unable to register cuFFT factory: Attempting to register factory for plugin cuFFT when one has already been registered\n",
      "2025-06-30 12:12:52.494553: E external/local_xla/xla/stream_executor/cuda/cuda_blas.cc:1515] Unable to register cuBLAS factory: Attempting to register factory for plugin cuBLAS when one has already been registered\n",
      "2025-06-30 12:12:52.777090: I tensorflow/core/platform/cpu_feature_guard.cc:182] This TensorFlow binary is optimized to use available CPU instructions in performance-critical operations.\n",
      "To enable the following instructions: AVX2 FMA, in other operations, rebuild TensorFlow with the appropriate compiler flags.\n",
      "2025-06-30 12:12:54.499385: W tensorflow/compiler/tf2tensorrt/utils/py_utils.cc:38] TF-TRT Warning: Could not find TensorRT\n"
     ]
    }
   ],
   "source": [
    "# Prerequisites\n",
    "import json\n",
    "import os\n",
    "import shutil\n",
    "from PIL import Image\n",
    "\n",
    "# EyeAI, Deriva, VGG19\n",
    "from deriva_ml import DatasetSpec, DatasetBag, Workflow, ExecutionConfiguration, VersionPart\n",
    "from deriva_ml import MLVocab as vc\n",
    "from eye_ai.eye_ai import EyeAI\n",
    "from models.vgg19 import vgg19_diagnosis_train\n",
    "\n",
    "# ML Analytics\n",
    "import pandas as pd\n",
    "import numpy as np\n",
    "from sklearn.calibration import calibration_curve\n",
    "from sklearn.metrics import roc_curve, auc\n",
    "import matplotlib.pyplot as plt\n",
    "\n",
    "# Other Utilities\n",
    "from pathlib import Path, PurePath\n",
    "import logging\n",
    "from datetime import datetime\n",
    "\n",
    "logging.basicConfig(level=logging.INFO, format='%(asctime)s - %(levelname)s - %(message)s', force=True)"
   ]
  },
  {
   "cell_type": "code",
   "execution_count": 3,
   "id": "1f254b11-9f01-4185-95a0-cd7f80995c2f",
   "metadata": {},
   "outputs": [
    {
     "name": "stderr",
     "output_type": "stream",
     "text": [
      "2025-06-30 12:12:56,326 - INFO - Creating client of type <class 'globus_sdk.services.auth.client.native_client.NativeAppAuthClient'> for service \"auth\"\n",
      "2025-06-30 12:12:56,327 - INFO - Finished initializing AuthLoginClient. client_id='8ef15ba9-2b4a-469c-a163-7fd910c9d111', type(authorizer)=<class 'globus_sdk.authorizers.base.NullAuthorizer'>\n",
      "2025-06-30 12:12:56,329 - INFO - Setting up RefreshTokenAuthorizer with auth_client=[instance:140373539451856]\n",
      "2025-06-30 12:12:56,330 - INFO - Setting up a RenewingAuthorizer. It will use an auth type of Bearer and can handle 401s.\n",
      "2025-06-30 12:12:56,330 - INFO - RenewingAuthorizer will start by using access_token with hash \"3abdea4d66ce49b3b6ae190010f35990d2eb7e3299bcbde28fb6bbd7d20c3e24\"\n",
      "2025-06-30 12:12:56,331 - INFO - Executing token refresh without client credentials\n",
      "2025-06-30 12:12:56,331 - INFO - Fetching new token from Globus Auth\n",
      "2025-06-30 12:12:56,855 - INFO - request done (success)\n",
      "2025-06-30 12:12:56,856 - INFO - RenewingAuthorizer.access_token updated to token with hash \"e5b617d200a9e9a145ca7fb531df7efae087ba12052804b426fac09533479771\"\n",
      "2025-06-30 12:12:56,856 - INFO - Setting up RefreshTokenAuthorizer with auth_client=[instance:140373539451856]\n",
      "2025-06-30 12:12:56,857 - INFO - Setting up a RenewingAuthorizer. It will use an auth type of Bearer and can handle 401s.\n",
      "2025-06-30 12:12:56,857 - INFO - RenewingAuthorizer will start by using access_token with hash \"d2052fe1373e8899ee56e2b4b86fa87887c2d8b0f10c83e30600715b2437766a\"\n",
      "2025-06-30 12:12:56,858 - INFO - Executing token refresh without client credentials\n",
      "2025-06-30 12:12:56,858 - INFO - Fetching new token from Globus Auth\n",
      "2025-06-30 12:12:57,103 - INFO - request done (success)\n",
      "2025-06-30 12:12:57,104 - INFO - RenewingAuthorizer.access_token updated to token with hash \"6934637e342d5f916b3d77c4300fe762f57315395ff86f68d50448cea3156538\"\n",
      "2025-06-30 12:12:57,104 - INFO - Setting up RefreshTokenAuthorizer with auth_client=[instance:140373539451856]\n",
      "2025-06-30 12:12:57,105 - INFO - Setting up a RenewingAuthorizer. It will use an auth type of Bearer and can handle 401s.\n",
      "2025-06-30 12:12:57,105 - INFO - RenewingAuthorizer will start by using access_token with hash \"7de4729e89e3bb963eef174b86eb3ac6b561d1df35a865901dc6162ec6ac7815\"\n",
      "2025-06-30 12:12:57,106 - INFO - Executing token refresh without client credentials\n",
      "2025-06-30 12:12:57,107 - INFO - Fetching new token from Globus Auth\n",
      "2025-06-30 12:12:57,325 - INFO - request done (success)\n",
      "2025-06-30 12:12:57,325 - INFO - RenewingAuthorizer.access_token updated to token with hash \"fce888c1fefd979c2d2cf25d194f048b0f799bebc0cbc4ee7f877806f01588d3\"\n"
     ]
    },
    {
     "name": "stdout",
     "output_type": "stream",
     "text": [
      "You are already logged in.\n"
     ]
    }
   ],
   "source": [
    "# Login\n",
    "from deriva.core.utils.globus_auth_utils import GlobusNativeLogin\n",
    "host = 'www.eye-ai.org'\n",
    "#host = 'dev.eye-ai.org' #for dev testing\n",
    "catalog_id = \"eye-ai\"\n",
    "\n",
    "gnl = GlobusNativeLogin(host=host)\n",
    "if gnl.is_logged_in([host]):\n",
    "    print(\"You are already logged in.\")\n",
    "else:\n",
    "    gnl.login([host], no_local_server=True, no_browser=True, refresh_tokens=True, update_bdbag_keychain=True)\n",
    "    print(\"Login Successful\")"
   ]
  },
  {
   "cell_type": "markdown",
   "id": "420ee433-9dce-460f-ab4d-0aff7d4eea0e",
   "metadata": {},
   "source": [
    "# Configuration"
   ]
  },
  {
   "cell_type": "code",
   "execution_count": 4,
   "id": "3a40db10-6f64-4b6e-a22d-3c7011e2a3fa",
   "metadata": {},
   "outputs": [
    {
     "name": "stderr",
     "output_type": "stream",
     "text": [
      "2025-06-30 12:13:02,925 - INFO - Creating client of type <class 'globus_sdk.services.auth.client.native_client.NativeAppAuthClient'> for service \"auth\"\n",
      "2025-06-30 12:13:02,926 - INFO - Finished initializing AuthLoginClient. client_id='8ef15ba9-2b4a-469c-a163-7fd910c9d111', type(authorizer)=<class 'globus_sdk.authorizers.base.NullAuthorizer'>\n"
     ]
    }
   ],
   "source": [
    "cache_dir = '/data'\n",
    "working_dir = '/data'\n",
    "EA = EyeAI(hostname = host, catalog_id = catalog_id, cache_dir= cache_dir, working_dir=working_dir)"
   ]
  },
  {
   "cell_type": "code",
   "execution_count": 5,
   "id": "6cef35ae-c47b-4888-9f52-811d73d7fb8d",
   "metadata": {},
   "outputs": [],
   "source": [
    "# Increment dataset if changed\n",
    "\n",
    "# EA.increment_dataset_version(dataset_rid='4-YWKJ', component= VersionPart.patch, description='Update after annotations added')"
   ]
  },
  {
   "cell_type": "code",
   "execution_count": 6,
   "id": "5c7340a9-2356-481b-bbd9-2f1f30955ca7",
   "metadata": {},
   "outputs": [
    {
     "name": "stderr",
     "output_type": "stream",
     "text": [
      "2025-06-30 12:13:07,194 - INFO - Materialize bag 4-YWKJ... \n",
      "2025-06-30 12:13:07,304 - INFO - Creating client of type <class 'globus_sdk.services.auth.client.native_client.NativeAppAuthClient'> for service \"auth\"\n",
      "2025-06-30 12:13:07,305 - INFO - Finished initializing AuthLoginClient. client_id='8ef15ba9-2b4a-469c-a163-7fd910c9d111', type(authorizer)=<class 'globus_sdk.authorizers.base.NullAuthorizer'>\n",
      "2025-06-30 12:13:08,978 - INFO - Using cached bag for  4-YWKJ Version:0.2.0\n",
      "2025-06-30 12:13:08,979 - INFO - Loading /data/4-YWKJ_44b67c208c639554dd582f1575a7466fd853affad87411a7f99d28c7559acbbb/Dataset_4-YWKJ\n",
      "2025-06-30 12:13:09,635 - INFO - Creating new database for dataset: 4-YWKJ in /data/kb_766/EyeAI_working/4-YWKJ@33F-J5QX-5CCA.db\n",
      "2025-06-30 12:13:09,689 - INFO - Downloading assets ...\n",
      "2025-06-30 12:13:19,204 - INFO - File [/data/kb_766/EyeAI_working/deriva-ml/execution/4-YXK0/downloaded-assets/Execution_Asset/VGG19_FULL_Images_Uncropped_2-277G_Feb_14_2025.h5] transfer successful. 227.79 MB transferred at 25.42 MB/second. Elapsed time: 0:00:08.960351.\n",
      "2025-06-30 12:13:19,998 - INFO - Initialize status finished.\n"
     ]
    }
   ],
   "source": [
    "source_dataset = \"4-YWKJ\" # USC test set\n",
    "crop = False\n",
    "\n",
    "if crop:\n",
    "    asset_RID = [\"4-MWQ6\"]  # VGG19 cropped\n",
    "else:\n",
    "    asset_RID = [\"4-MWQ8\"]  # VGG19 uncropped\n",
    "\n",
    "preds_workflow = EA.add_workflow( \n",
    "    Workflow(\n",
    "        name=\"VGG Predictions by KB\",\n",
    "        url=\"https://github.com/informatics-isi-edu/eye-ai-exec/blob/main/notebooks/Sandbox_KB/VGG_Multi_Predict.ipynb\",\n",
    "        workflow_type=\"Test Workflow\",\n",
    "        )\n",
    "    )\n",
    "\n",
    "config = ExecutionConfiguration(\n",
    "    datasets=[ DatasetSpec(rid=source_dataset, version=EA.dataset_version(source_dataset), materialize=True) ],\n",
    "    assets=asset_RID,\n",
    "    workflow=preds_workflow,\n",
    "    description=f\"Instance of creating VGG19 predictions: VGG19 on 4-YWKJ USC Test with Crop = {crop}\",\n",
    "    )\n",
    "\n",
    "execution = EA.create_execution(config)"
   ]
  },
  {
   "cell_type": "code",
   "execution_count": 7,
   "id": "9db71483-dce2-4fdf-bcbc-0c952989d8f3",
   "metadata": {},
   "outputs": [
    {
     "name": "stdout",
     "output_type": "stream",
     "text": [
      "caching_dir: /data\n",
      "_working_dir: /data/kb_766/EyeAI_working\n",
      "execution_rid: 4-YXCC\n",
      "workflow_rid: 4-YSP4\n",
      "asset_paths: {'Execution_Asset': [AssetFilePath('/data/kb_766/EyeAI_working/deriva-ml/execution/4-YXCC/downloaded-assets/Execution_Asset/VGG19_FULL_Images_Uncropped_2-277G_Feb_14_2025.h5')]}\n",
      "configuration: datasets=[DatasetSpec(rid='4-YWKJ', materialize=True, version=DatasetVersion(major=0, minor=2, patch=0))] assets=['4-MWQ8'] workflow='4-YSP4' parameters={} description='Instance of creating VGG19 predictions: VGG19 Uncropped on 4-YWKJ USC Test' argv=['/home/kb_766/.conda/envs/my-tensorflow-conda/lib/python3.10/site-packages/ipykernel_launcher.py', '-f', '/home/kb_766/.local/share/jupyter/runtime/kernel-53b81482-309f-428d-9422-74fb6f1dc323.json']\n"
     ]
    }
   ],
   "source": [
    "print(execution)"
   ]
  },
  {
   "cell_type": "code",
   "execution_count": 8,
   "id": "390b6e9d-078d-4fad-88b9-3edc29fbd2a7",
   "metadata": {},
   "outputs": [],
   "source": [
    "output_dir = execution._working_dir / execution.execution_rid"
   ]
  },
  {
   "cell_type": "markdown",
   "id": "c5d2c728-5e3c-425c-8c62-1a54fc3347e8",
   "metadata": {},
   "source": [
    "# Organize Data into Directories for ML"
   ]
  },
  {
   "cell_type": "code",
   "execution_count": 8,
   "id": "64273618-87e3-40ed-8e39-a8d176728fb0",
   "metadata": {},
   "outputs": [],
   "source": [
    "ds_bag_test = execution.datasets[0]"
   ]
  },
  {
   "cell_type": "code",
   "execution_count": 13,
   "id": "8ad75909-8649-4867-87f0-2ac6cdcdd910",
   "metadata": {},
   "outputs": [],
   "source": [
    "dbImage = ds_bag_test.get_table_as_dataframe('Image')"
   ]
  },
  {
   "cell_type": "code",
   "execution_count": 21,
   "id": "463b8200-1bdc-4662-a69b-fda8d776441f",
   "metadata": {},
   "outputs": [
    {
     "data": {
      "text/plain": [
       "('2021-05-24 00:00:00', '2024-04-10 00:00:00')"
      ]
     },
     "execution_count": 21,
     "metadata": {},
     "output_type": "execute_result"
    }
   ],
   "source": [
    "dates = dbImage['Date_of_Encounter'][dbImage['Date_of_Encounter'] != '']\n",
    "min(dates), max(dates)"
   ]
  },
  {
   "cell_type": "code",
   "execution_count": 10,
   "id": "29190d10-5c5e-4aea-a76a-2f29c835bc0e",
   "metadata": {},
   "outputs": [
    {
     "data": {
      "text/plain": [
       "PosixPath('/data/kb_766/EyeAI_working/4-YXCC/Test')"
      ]
     },
     "execution_count": 10,
     "metadata": {},
     "output_type": "execute_result"
    }
   ],
   "source": [
    "# FOR USC MULTIMODAL DATA\n",
    "# Group files as glaucoma/not for VGG evaluation\n",
    "\n",
    "imageDF = ds_bag_test.get_table_as_dataframe('Image')\n",
    "annotation_bounding_box =  pd.merge( ds_bag_test.get_table_as_dataframe('Annotation')[['Image', 'Fundus_Bounding_Box']], \n",
    "                                                ds_bag_test.get_table_as_dataframe('Fundus_Bounding_Box'), \n",
    "                                                left_on='Fundus_Bounding_Box', \n",
    "                                                right_on='RID')\n",
    "\n",
    "output_path =  output_dir / \"Test\"\n",
    "output_path_suspected = output_path / \"No_Glaucoma\"\n",
    "output_path_glaucoma = output_path / \"Suspected_Glaucoma\"\n",
    "\n",
    "output_path.mkdir(parents=True, exist_ok=True)\n",
    "output_path_suspected.mkdir(parents=True, exist_ok=True)\n",
    "output_path_glaucoma.mkdir(parents=True, exist_ok=True)\n",
    "\n",
    "for index, row in imageDF.iterrows():     \n",
    "    src_path = row[\"Filename\"]\n",
    "    image_rid = row[\"RID\"]\n",
    "    dest_name = image_rid + \".jpg\"\n",
    "    if crop: dest_name = \"Crop_\" + dest_name\n",
    "    label = image_rid.split( sep = \"-\" )[0]\n",
    "    \n",
    "    if label == \"4\":\n",
    "        dest_path = os.path.join(output_path_suspected, dest_name)\n",
    "    elif label == \"2\":\n",
    "        dest_path = os.path.join(output_path_glaucoma, dest_name)\n",
    "    else: \n",
    "        continue    \n",
    "    \n",
    "    if crop:\n",
    "        image = Image.open(src_path)\n",
    "        svg_path = annotation_bounding_box.loc[annotation_bounding_box['Image'] == image_rid, 'Filename'].values[0]\n",
    "        svg_path = Path(svg_path)\n",
    "        if not svg_path.exists():\n",
    "          continue\n",
    "        bbox = EA.get_bounding_box(svg_path)\n",
    "        cropped_image = image.crop(bbox)\n",
    "        cropped_image.save(dest_path)\n",
    "    else:\n",
    "        shutil.copy2(src_path, dest_path)\n",
    "\n",
    "output_path"
   ]
  },
  {
   "cell_type": "code",
   "execution_count": null,
   "id": "dc413d08-083e-40f6-af09-5a351e12ffec",
   "metadata": {},
   "outputs": [],
   "source": [
    "!ls /data/kb_766/EyeAI_working/4-YX7M/Test"
   ]
  },
  {
   "cell_type": "code",
   "execution_count": null,
   "id": "1a5b73e9-901a-4fc0-9810-7a3660155282",
   "metadata": {},
   "outputs": [],
   "source": [
    "!ls /data/kb_766/EyeAI_working/4-YX7M/Test/No_Glaucoma"
   ]
  },
  {
   "cell_type": "code",
   "execution_count": null,
   "id": "ceceaff8-253c-49c6-9ec0-5b042800d481",
   "metadata": {},
   "outputs": [],
   "source": [
    "!ls /data/kb_766/EyeAI_working/4-YX7M/Test/No_Glaucoma -1 | wc -l"
   ]
  },
  {
   "cell_type": "code",
   "execution_count": null,
   "id": "417b0afe-5df2-4666-8de2-865aa9391b96",
   "metadata": {},
   "outputs": [],
   "source": [
    "!ls /data/kb_766/EyeAI_working/4-YX7M/Test/Suspected_Glaucoma"
   ]
  },
  {
   "cell_type": "code",
   "execution_count": null,
   "id": "e1abfc36-b047-4933-bb36-8defefaf73f8",
   "metadata": {},
   "outputs": [],
   "source": [
    "!ls /data/kb_766/EyeAI_working/4-YX7M/Test/Suspected_Glaucoma -1 | wc -l"
   ]
  },
  {
   "cell_type": "markdown",
   "id": "5caf393f-c97c-4596-9066-944851509dae",
   "metadata": {},
   "source": [
    "# Run ML"
   ]
  },
  {
   "cell_type": "code",
   "execution_count": 11,
   "id": "90171469-182a-494c-905f-678a30fc97ba",
   "metadata": {},
   "outputs": [],
   "source": [
    "asset_output_dir = execution._working_dir / execution.execution_rid / \"asset\"\n",
    "asset_output_dir.mkdir( parents=True, exist_ok=True )"
   ]
  },
  {
   "cell_type": "code",
   "execution_count": 12,
   "id": "5c0ad2fe-8f12-477b-9f3f-0bf2a6b65642",
   "metadata": {},
   "outputs": [],
   "source": [
    "current_date = datetime.now().strftime(\"%b_%d_%Y\") "
   ]
  },
  {
   "cell_type": "code",
   "execution_count": 13,
   "id": "757330e5-06a7-4266-b4e8-cf2ee6936ff6",
   "metadata": {},
   "outputs": [],
   "source": [
    "model_path = str(execution.asset_paths['Execution_Asset'][0])"
   ]
  },
  {
   "cell_type": "code",
   "execution_count": 14,
   "id": "6e697f65-1602-4c29-b00e-1fbe3ba22bf9",
   "metadata": {},
   "outputs": [
    {
     "name": "stderr",
     "output_type": "stream",
     "text": [
      "2025-06-23 12:25:13,113 - INFO - Start execution  ...\n",
      "2025-06-23 12:25:13,207 - INFO - Start execution  ...\n",
      "2025-06-23 12:25:13.346469: I external/local_xla/xla/stream_executor/cuda/cuda_executor.cc:901] successful NUMA node read from SysFS had negative value (-1), but there must be at least one NUMA node, so returning NUMA node zero. See more at https://github.com/torvalds/linux/blob/v6.0/Documentation/ABI/testing/sysfs-bus-pci#L344-L355\n",
      "2025-06-23 12:25:13.374866: I external/local_xla/xla/stream_executor/cuda/cuda_executor.cc:901] successful NUMA node read from SysFS had negative value (-1), but there must be at least one NUMA node, so returning NUMA node zero. See more at https://github.com/torvalds/linux/blob/v6.0/Documentation/ABI/testing/sysfs-bus-pci#L344-L355\n",
      "2025-06-23 12:25:13.378516: I external/local_xla/xla/stream_executor/cuda/cuda_executor.cc:901] successful NUMA node read from SysFS had negative value (-1), but there must be at least one NUMA node, so returning NUMA node zero. See more at https://github.com/torvalds/linux/blob/v6.0/Documentation/ABI/testing/sysfs-bus-pci#L344-L355\n",
      "2025-06-23 12:25:13.382603: I external/local_xla/xla/stream_executor/cuda/cuda_executor.cc:901] successful NUMA node read from SysFS had negative value (-1), but there must be at least one NUMA node, so returning NUMA node zero. See more at https://github.com/torvalds/linux/blob/v6.0/Documentation/ABI/testing/sysfs-bus-pci#L344-L355\n",
      "2025-06-23 12:25:13.386179: I external/local_xla/xla/stream_executor/cuda/cuda_executor.cc:901] successful NUMA node read from SysFS had negative value (-1), but there must be at least one NUMA node, so returning NUMA node zero. See more at https://github.com/torvalds/linux/blob/v6.0/Documentation/ABI/testing/sysfs-bus-pci#L344-L355\n",
      "2025-06-23 12:25:13.389621: I external/local_xla/xla/stream_executor/cuda/cuda_executor.cc:901] successful NUMA node read from SysFS had negative value (-1), but there must be at least one NUMA node, so returning NUMA node zero. See more at https://github.com/torvalds/linux/blob/v6.0/Documentation/ABI/testing/sysfs-bus-pci#L344-L355\n",
      "2025-06-23 12:25:13.501834: I external/local_xla/xla/stream_executor/cuda/cuda_executor.cc:901] successful NUMA node read from SysFS had negative value (-1), but there must be at least one NUMA node, so returning NUMA node zero. See more at https://github.com/torvalds/linux/blob/v6.0/Documentation/ABI/testing/sysfs-bus-pci#L344-L355\n",
      "2025-06-23 12:25:13.503416: I external/local_xla/xla/stream_executor/cuda/cuda_executor.cc:901] successful NUMA node read from SysFS had negative value (-1), but there must be at least one NUMA node, so returning NUMA node zero. See more at https://github.com/torvalds/linux/blob/v6.0/Documentation/ABI/testing/sysfs-bus-pci#L344-L355\n",
      "2025-06-23 12:25:13.504932: I external/local_xla/xla/stream_executor/cuda/cuda_executor.cc:901] successful NUMA node read from SysFS had negative value (-1), but there must be at least one NUMA node, so returning NUMA node zero. See more at https://github.com/torvalds/linux/blob/v6.0/Documentation/ABI/testing/sysfs-bus-pci#L344-L355\n",
      "2025-06-23 12:25:13.506264: I tensorflow/core/common_runtime/gpu/gpu_device.cc:1929] Created device /job:localhost/replica:0/task:0/device:GPU:0 with 20723 MB memory:  -> device: 0, name: NVIDIA A10G, pci bus id: 0000:00:1e.0, compute capability: 8.6\n"
     ]
    },
    {
     "name": "stdout",
     "output_type": "stream",
     "text": [
      "Found 300 images belonging to 2 classes.\n"
     ]
    },
    {
     "name": "stderr",
     "output_type": "stream",
     "text": [
      "2025-06-23 12:25:15.259713: I external/local_xla/xla/stream_executor/cuda/cuda_dnn.cc:454] Loaded cuDNN version 8907\n",
      "2025-06-23 12:25:29,545 - INFO - Predictions saved to VGG19_Cropped_Model_4-YWKJ_Jun_23_2025_predictions_results.csv\n",
      "2025-06-23 12:25:29,545 - INFO - Metrics saved to VGG19_Cropped_Model_4-YWKJ_Jun_23_2025_metrics_summary.csv\n",
      "2025-06-23 12:25:29,546 - INFO - Successfully run Ml.\n",
      "2025-06-23 12:25:29,620 - INFO - Algorithm execution ended.\n"
     ]
    },
    {
     "name": "stdout",
     "output_type": "stream",
     "text": [
      "Execution Results:\n",
      "/data/kb_766/EyeAI_working/4-YXCC/asset/VGG19_Cropped_Model_4-YWKJ_Jun_23_2025_predictions_results.csv /data/kb_766/EyeAI_working/4-YXCC/asset/VGG19_Cropped_Model_4-YWKJ_Jun_23_2025_metrics_summary.csv\n"
     ]
    }
   ],
   "source": [
    "\n",
    "with execution.execute() as exec:\n",
    "        predictions_results, metrics_summary = vgg19_diagnosis_train.evaluate_only(\n",
    "            model_path = model_path, \n",
    "            model_name = f\"VGG19_Cropped_Model_{ds_bag_test.dataset_rid}_{current_date}\", \n",
    "            test_path = output_path, \n",
    "            output_dir = asset_output_dir,\n",
    "            classes = {'No_Glaucoma': 0, 'Suspected_Glaucoma': 1}\n",
    "        )\n",
    "        print(\"Execution Results:\")\n",
    "        print(predictions_results, metrics_summary)"
   ]
  },
  {
   "cell_type": "markdown",
   "id": "576aa00e-ecbb-4416-993b-19a63c50849e",
   "metadata": {},
   "source": [
    "# Evaluate ML"
   ]
  },
  {
   "cell_type": "code",
   "execution_count": 15,
   "id": "b7519fba-8a49-4ba1-bd65-227170644c26",
   "metadata": {},
   "outputs": [
    {
     "data": {
      "text/html": [
       "<div>\n",
       "<style scoped>\n",
       "    .dataframe tbody tr th:only-of-type {\n",
       "        vertical-align: middle;\n",
       "    }\n",
       "\n",
       "    .dataframe tbody tr th {\n",
       "        vertical-align: top;\n",
       "    }\n",
       "\n",
       "    .dataframe thead th {\n",
       "        text-align: right;\n",
       "    }\n",
       "</style>\n",
       "<table border=\"1\" class=\"dataframe\">\n",
       "  <thead>\n",
       "    <tr style=\"text-align: right;\">\n",
       "      <th></th>\n",
       "      <th>Metric</th>\n",
       "      <th>Value</th>\n",
       "    </tr>\n",
       "  </thead>\n",
       "  <tbody>\n",
       "    <tr>\n",
       "      <th>0</th>\n",
       "      <td>F1 Score</td>\n",
       "      <td>0.647520</td>\n",
       "    </tr>\n",
       "    <tr>\n",
       "      <th>1</th>\n",
       "      <td>Precision</td>\n",
       "      <td>0.532189</td>\n",
       "    </tr>\n",
       "    <tr>\n",
       "      <th>2</th>\n",
       "      <td>Recall</td>\n",
       "      <td>0.826667</td>\n",
       "    </tr>\n",
       "    <tr>\n",
       "      <th>3</th>\n",
       "      <td>Accuracy</td>\n",
       "      <td>0.550000</td>\n",
       "    </tr>\n",
       "    <tr>\n",
       "      <th>4</th>\n",
       "      <td>ROC-AUC</td>\n",
       "      <td>0.633778</td>\n",
       "    </tr>\n",
       "  </tbody>\n",
       "</table>\n",
       "</div>"
      ],
      "text/plain": [
       "      Metric     Value\n",
       "0   F1 Score  0.647520\n",
       "1  Precision  0.532189\n",
       "2     Recall  0.826667\n",
       "3   Accuracy  0.550000\n",
       "4    ROC-AUC  0.633778"
      ]
     },
     "execution_count": 15,
     "metadata": {},
     "output_type": "execute_result"
    }
   ],
   "source": [
    "pd.read_csv( metrics_summary )"
   ]
  },
  {
   "cell_type": "code",
   "execution_count": 16,
   "id": "7824292c-4e41-41c7-8a42-0e88cbca8b9d",
   "metadata": {},
   "outputs": [],
   "source": [
    "preds = pd.read_csv( predictions_results )"
   ]
  },
  {
   "cell_type": "code",
   "execution_count": 17,
   "id": "ed1227b4-13ac-40dd-ba5a-c19e10ab2719",
   "metadata": {},
   "outputs": [
    {
     "data": {
      "image/png": "[encoded data removed]",
      "text/plain": [
       "<Figure size 640x480 with 1 Axes>"
      ]
     },
     "metadata": {},
     "output_type": "display_data"
    }
   ],
   "source": [
    "# Calibration curve\n",
    "prob_true, prob_pred = calibration_curve( preds[\"True Label\"], preds[\"Probability Score\"], n_bins=10, strategy='uniform')\n",
    "plt.plot(prob_pred, prob_true, marker='o', label='Model')\n",
    "plt.plot([0, 1], [0, 1], linestyle='--', label='Perfectly calibrated')\n",
    "plt.xlabel('Mean predicted probability')\n",
    "plt.ylabel('Fraction of positives')\n",
    "plt.title('Calibration curve')\n",
    "plt.legend()\n",
    "plt.show()"
   ]
  },
  {
   "cell_type": "markdown",
   "id": "97724d8d-2d2c-4f60-8a4c-75f8c8d06b33",
   "metadata": {},
   "source": [
    "# Upload Results"
   ]
  },
  {
   "cell_type": "code",
   "execution_count": 18,
   "id": "f27d4849-0230-4722-afa5-47f03a9d90a2",
   "metadata": {},
   "outputs": [],
   "source": [
    "#This loop creates copies.\n",
    "for filename in os.listdir(asset_output_dir):\n",
    "    file_path = os.path.join(asset_output_dir, filename)\n",
    "    if os.path.isfile(file_path):\n",
    "        asset_type = \"\"\n",
    "        if filename.endswith(('csv', 'jpg', 'txt')):\n",
    "            asset_type = \"Model_Prediction\"\n",
    "        elif filename.endswith('pth'):\n",
    "            asset_type = \"Diagnosis_Model\"\n",
    "        if asset_type != \"\":\n",
    "            path = execution.asset_file_path(\n",
    "                asset_name=\"Execution_Asset\",\n",
    "                file_name=file_path,\n",
    "                asset_types=asset_type\n",
    "            )\n"
   ]
  },
  {
   "cell_type": "code",
   "execution_count": 19,
   "id": "aaf78fd5-8f9e-4abf-a946-c716b9c86ddd",
   "metadata": {},
   "outputs": [
    {
     "name": "stderr",
     "output_type": "stream",
     "text": [
      "2025-06-23 12:27:16,381 - INFO - Uploading execution files...\n",
      "2025-06-23 12:27:16,460 - INFO - Initializing uploader: GenericUploader v1.7.7 [Python 3.10.13, Linux-5.10.210-201.852.amzn2.x86_64-x86_64-with-glibc2.26]\n",
      "2025-06-23 12:27:16,461 - INFO - Creating client of type <class 'globus_sdk.services.auth.client.native_client.NativeAppAuthClient'> for service \"auth\"\n",
      "2025-06-23 12:27:16,462 - INFO - Finished initializing AuthLoginClient. client_id='8ef15ba9-2b4a-469c-a163-7fd910c9d111', type(authorizer)=<class 'globus_sdk.authorizers.base.NullAuthorizer'>\n",
      "2025-06-23 12:27:16,500 - INFO - Scanning files in directory [/data/kb_766/EyeAI_working/deriva-ml/execution/4-YXCC/asset]...\n",
      "2025-06-23 12:27:16,503 - INFO - Including file: [/data/kb_766/EyeAI_working/deriva-ml/execution/4-YXCC/asset/deriva-ml/Execution_Metadata/configuration.json].\n",
      "2025-06-23 12:27:16,503 - INFO - Including file: [/data/kb_766/EyeAI_working/deriva-ml/execution/4-YXCC/asset/deriva-ml/Execution_Metadata/environment_snapshot_20250623_122433.txt].\n",
      "2025-06-23 12:27:16,503 - INFO - Including file: [/data/kb_766/EyeAI_working/deriva-ml/execution/4-YXCC/asset/deriva-ml/Execution_Asset/VGG19_Cropped_Model_4-YWKJ_Jun_23_2025_predictions_results.csv].\n",
      "2025-06-23 12:27:16,504 - INFO - Including file: [/data/kb_766/EyeAI_working/deriva-ml/execution/4-YXCC/asset/deriva-ml/Execution_Asset/VGG19_Cropped_Model_4-YWKJ_Jun_23_2025_metrics_summary.csv].\n",
      "2025-06-23 12:27:16,504 - INFO - Processing: [/data/kb_766/EyeAI_working/deriva-ml/execution/4-YXCC/asset/deriva-ml/Execution_Metadata/configuration.json]\n",
      "2025-06-23 12:27:16,505 - INFO - Computed metadata for: [/data/kb_766/EyeAI_working/deriva-ml/execution/4-YXCC/asset/deriva-ml/Execution_Metadata/configuration.json].\n",
      "2025-06-23 12:27:16,506 - INFO - Computing checksums for file: [/data/kb_766/EyeAI_working/deriva-ml/execution/4-YXCC/asset/deriva-ml/Execution_Metadata/configuration.json]. Please wait...\n",
      "2025-06-23 12:27:16,507 - INFO - Uploading file: [/data/kb_766/EyeAI_working/deriva-ml/execution/4-YXCC/asset/deriva-ml/Execution_Metadata/configuration.json] to host https://www.eye-ai.org. Please wait...\n",
      "2025-06-23 12:27:16,814 - INFO - Processing: [/data/kb_766/EyeAI_working/deriva-ml/execution/4-YXCC/asset/deriva-ml/Execution_Metadata/environment_snapshot_20250623_122433.txt]\n",
      "2025-06-23 12:27:16,814 - INFO - Computed metadata for: [/data/kb_766/EyeAI_working/deriva-ml/execution/4-YXCC/asset/deriva-ml/Execution_Metadata/environment_snapshot_20250623_122433.txt].\n",
      "2025-06-23 12:27:16,815 - INFO - Computing checksums for file: [/data/kb_766/EyeAI_working/deriva-ml/execution/4-YXCC/asset/deriva-ml/Execution_Metadata/environment_snapshot_20250623_122433.txt]. Please wait...\n",
      "2025-06-23 12:27:16,816 - INFO - Uploading file: [/data/kb_766/EyeAI_working/deriva-ml/execution/4-YXCC/asset/deriva-ml/Execution_Metadata/environment_snapshot_20250623_122433.txt] to host https://www.eye-ai.org. Please wait...\n",
      "2025-06-23 12:27:17,008 - INFO - Processing: [/data/kb_766/EyeAI_working/deriva-ml/execution/4-YXCC/asset/deriva-ml/Execution_Asset/VGG19_Cropped_Model_4-YWKJ_Jun_23_2025_predictions_results.csv]\n",
      "2025-06-23 12:27:17,009 - INFO - Computed metadata for: [/data/kb_766/EyeAI_working/deriva-ml/execution/4-YXCC/asset/deriva-ml/Execution_Asset/VGG19_Cropped_Model_4-YWKJ_Jun_23_2025_predictions_results.csv].\n",
      "2025-06-23 12:27:17,010 - INFO - Computing checksums for file: [/data/kb_766/EyeAI_working/deriva-ml/execution/4-YXCC/asset/deriva-ml/Execution_Asset/VGG19_Cropped_Model_4-YWKJ_Jun_23_2025_predictions_results.csv]. Please wait...\n",
      "2025-06-23 12:27:17,011 - INFO - Uploading file: [/data/kb_766/EyeAI_working/deriva-ml/execution/4-YXCC/asset/deriva-ml/Execution_Asset/VGG19_Cropped_Model_4-YWKJ_Jun_23_2025_predictions_results.csv] to host https://www.eye-ai.org. Please wait...\n",
      "2025-06-23 12:27:17,144 - INFO - Processing: [/data/kb_766/EyeAI_working/deriva-ml/execution/4-YXCC/asset/deriva-ml/Execution_Asset/VGG19_Cropped_Model_4-YWKJ_Jun_23_2025_metrics_summary.csv]\n",
      "2025-06-23 12:27:17,145 - INFO - Computed metadata for: [/data/kb_766/EyeAI_working/deriva-ml/execution/4-YXCC/asset/deriva-ml/Execution_Asset/VGG19_Cropped_Model_4-YWKJ_Jun_23_2025_metrics_summary.csv].\n",
      "2025-06-23 12:27:17,145 - INFO - Computing checksums for file: [/data/kb_766/EyeAI_working/deriva-ml/execution/4-YXCC/asset/deriva-ml/Execution_Asset/VGG19_Cropped_Model_4-YWKJ_Jun_23_2025_metrics_summary.csv]. Please wait...\n",
      "2025-06-23 12:27:17,146 - INFO - Uploading file: [/data/kb_766/EyeAI_working/deriva-ml/execution/4-YXCC/asset/deriva-ml/Execution_Asset/VGG19_Cropped_Model_4-YWKJ_Jun_23_2025_metrics_summary.csv] to host https://www.eye-ai.org. Please wait...\n",
      "2025-06-23 12:27:17,251 - INFO - File upload processing completed: 4 files were uploaded successfully, 0 files failed to upload due to errors, 0 files were skipped because they did not satisfy the matching criteria of the configuration.\n",
      "2025-06-23 12:27:17,414 - INFO - Updating features...\n",
      "2025-06-23 12:27:17,457 - INFO - Upload assets complete\n",
      "2025-06-23 12:27:17,504 - INFO - Successfully end the execution.\n"
     ]
    },
    {
     "data": {
      "text/plain": [
       "{'deriva-ml/Execution_Metadata': [AssetFilePath('/data/kb_766/EyeAI_working/deriva-ml/execution/4-YXCC/asset/deriva-ml/Execution_Metadata/configuration.json'),\n",
       "  AssetFilePath('/data/kb_766/EyeAI_working/deriva-ml/execution/4-YXCC/asset/deriva-ml/Execution_Metadata/environment_snapshot_20250623_122433.txt')],\n",
       " 'deriva-ml/Execution_Asset': [AssetFilePath('/data/kb_766/EyeAI_working/deriva-ml/execution/4-YXCC/asset/deriva-ml/Execution_Asset/VGG19_Cropped_Model_4-YWKJ_Jun_23_2025_predictions_results.csv'),\n",
       "  AssetFilePath('/data/kb_766/EyeAI_working/deriva-ml/execution/4-YXCC/asset/deriva-ml/Execution_Asset/VGG19_Cropped_Model_4-YWKJ_Jun_23_2025_metrics_summary.csv')]}"
      ]
     },
     "execution_count": 19,
     "metadata": {},
     "output_type": "execute_result"
    }
   ],
   "source": [
    "# upload assets to catalog\n",
    "exec.upload_execution_outputs(clean_folder=True)"
   ]
  },
  {
   "cell_type": "code",
   "execution_count": null,
   "id": "2780afbd-f4be-496c-bf24-efe2a133bee3",
   "metadata": {},
   "outputs": [],
   "source": []
  }
 ],
 "metadata": {
  "kernelspec": {
   "display_name": "My TensorFlow (Conda)",
   "language": "python",
   "name": "my-tensorflow-conda"
  },
  "language_info": {
   "codemirror_mode": {
    "name": "ipython",
    "version": 3
   },
   "file_extension": ".py",
   "mimetype": "text/x-python",
   "name": "python",
   "nbconvert_exporter": "python",
   "pygments_lexer": "ipython3",
   "version": "3.10.13"
  }
 },
 "nbformat": 4,
 "nbformat_minor": 5
}
