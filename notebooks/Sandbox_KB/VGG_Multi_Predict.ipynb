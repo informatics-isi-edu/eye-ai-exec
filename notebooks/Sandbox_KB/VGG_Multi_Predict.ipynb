{
 "cells": [
  {
   "cell_type": "markdown",
   "id": "b2006ce9-6ca1-402d-b9ad-8853b85509cf",
   "metadata": {},
   "source": [
    "# Connect Eye-AI and Load Libraries"
   ]
  },
  {
   "cell_type": "code",
   "execution_count": 1,
   "id": "003248d9-3365-4aaa-874a-858234cb2f86",
   "metadata": {},
   "outputs": [],
   "source": [
    "%load_ext autoreload\n",
    "%autoreload 2\n",
    "\n",
    "# # Update the load path so python can find modules for the model\n",
    "import sys\n",
    "from pathlib import Path\n",
    "sys.path.insert(0, str(Path.home() / \"eye-ai-ml\"))\n",
    "sys.path.insert(0, str(Path.home() / \"eye-ai-exec\"))"
   ]
  },
  {
   "cell_type": "code",
   "execution_count": 2,
   "id": "8499060d-4de0-4ab1-bf23-8f766d24dd5e",
   "metadata": {},
   "outputs": [
    {
     "name": "stderr",
     "output_type": "stream",
     "text": [
      "2025-06-18 17:44:47.213627: E external/local_xla/xla/stream_executor/cuda/cuda_dnn.cc:9261] Unable to register cuDNN factory: Attempting to register factory for plugin cuDNN when one has already been registered\n",
      "2025-06-18 17:44:47.213681: E external/local_xla/xla/stream_executor/cuda/cuda_fft.cc:607] Unable to register cuFFT factory: Attempting to register factory for plugin cuFFT when one has already been registered\n",
      "2025-06-18 17:44:47.214480: E external/local_xla/xla/stream_executor/cuda/cuda_blas.cc:1515] Unable to register cuBLAS factory: Attempting to register factory for plugin cuBLAS when one has already been registered\n",
      "2025-06-18 17:44:47.220510: I tensorflow/core/platform/cpu_feature_guard.cc:182] This TensorFlow binary is optimized to use available CPU instructions in performance-critical operations.\n",
      "To enable the following instructions: AVX2 FMA, in other operations, rebuild TensorFlow with the appropriate compiler flags.\n",
      "2025-06-18 17:44:48.000366: W tensorflow/compiler/tf2tensorrt/utils/py_utils.cc:38] TF-TRT Warning: Could not find TensorRT\n"
     ]
    }
   ],
   "source": [
    "# Prerequisites\n",
    "import json\n",
    "import os\n",
    "from PIL import Image\n",
    "\n",
    "# EyeAI, Deriva, VGG19\n",
    "from deriva_ml import DatasetSpec, DatasetBag, Workflow, ExecutionConfiguration, VersionPart\n",
    "from deriva_ml import MLVocab as vc\n",
    "from eye_ai.eye_ai import EyeAI\n",
    "from models.vgg19 import vgg19_diagnosis_train\n",
    "\n",
    "# ML Analytics\n",
    "import pandas as pd\n",
    "import numpy as np\n",
    "from sklearn.calibration import calibration_curve\n",
    "from sklearn.metrics import roc_curve, auc\n",
    "import matplotlib.pyplot as plt\n",
    "\n",
    "# Other Utilities\n",
    "from pathlib import Path, PurePath\n",
    "import logging\n",
    "from datetime import datetime\n",
    "\n",
    "logging.basicConfig(level=logging.INFO, format='%(asctime)s - %(levelname)s - %(message)s', force=True)"
   ]
  },
  {
   "cell_type": "code",
   "execution_count": 3,
   "id": "1f254b11-9f01-4185-95a0-cd7f80995c2f",
   "metadata": {},
   "outputs": [
    {
     "name": "stderr",
     "output_type": "stream",
     "text": [
      "2025-06-18 17:44:48,641 - INFO - Creating client of type <class 'globus_sdk.services.auth.client.native_client.NativeAppAuthClient'> for service \"auth\"\n",
      "2025-06-18 17:44:48,642 - INFO - Finished initializing AuthLoginClient. client_id='8ef15ba9-2b4a-469c-a163-7fd910c9d111', type(authorizer)=<class 'globus_sdk.authorizers.base.NullAuthorizer'>\n"
     ]
    },
    {
     "name": "stdout",
     "output_type": "stream",
     "text": [
      "You are already logged in.\n"
     ]
    }
   ],
   "source": [
    "# Login\n",
    "from deriva.core.utils.globus_auth_utils import GlobusNativeLogin\n",
    "host = 'www.eye-ai.org'\n",
    "#host = 'dev.eye-ai.org' #for dev testing\n",
    "catalog_id = \"eye-ai\"\n",
    "\n",
    "gnl = GlobusNativeLogin(host=host)\n",
    "if gnl.is_logged_in([host]):\n",
    "    print(\"You are already logged in.\")\n",
    "else:\n",
    "    gnl.login([host], no_local_server=True, no_browser=True, refresh_tokens=True, update_bdbag_keychain=True)\n",
    "    print(\"Login Successful\")"
   ]
  },
  {
   "cell_type": "markdown",
   "id": "420ee433-9dce-460f-ab4d-0aff7d4eea0e",
   "metadata": {},
   "source": [
    "# Configuration"
   ]
  },
  {
   "cell_type": "code",
   "execution_count": 4,
   "id": "3a40db10-6f64-4b6e-a22d-3c7011e2a3fa",
   "metadata": {},
   "outputs": [
    {
     "name": "stderr",
     "output_type": "stream",
     "text": [
      "2025-06-18 17:44:49,519 - INFO - Creating client of type <class 'globus_sdk.services.auth.client.native_client.NativeAppAuthClient'> for service \"auth\"\n",
      "2025-06-18 17:44:49,520 - INFO - Finished initializing AuthLoginClient. client_id='8ef15ba9-2b4a-469c-a163-7fd910c9d111', type(authorizer)=<class 'globus_sdk.authorizers.base.NullAuthorizer'>\n"
     ]
    }
   ],
   "source": [
    "cache_dir = '/data'\n",
    "working_dir = '/data'\n",
    "EA = EyeAI(hostname = host, catalog_id = catalog_id, cache_dir= cache_dir, working_dir=working_dir)"
   ]
  },
  {
   "cell_type": "code",
   "execution_count": 5,
   "id": "6cef35ae-c47b-4888-9f52-811d73d7fb8d",
   "metadata": {},
   "outputs": [],
   "source": [
    "\n",
    "#EA.increment_dataset_version(dataset_rid='4-YWKJ', component= VersionPart.patch, description='Update after annotations added')"
   ]
  },
  {
   "cell_type": "code",
   "execution_count": 6,
   "id": "5c7340a9-2356-481b-bbd9-2f1f30955ca7",
   "metadata": {},
   "outputs": [
    {
     "name": "stderr",
     "output_type": "stream",
     "text": [
      "2025-06-18 17:44:52,052 - INFO - Materialize bag 4-YWKJ... \n",
      "2025-06-18 17:44:52,162 - INFO - Creating client of type <class 'globus_sdk.services.auth.client.native_client.NativeAppAuthClient'> for service \"auth\"\n",
      "2025-06-18 17:44:52,163 - INFO - Finished initializing AuthLoginClient. client_id='8ef15ba9-2b4a-469c-a163-7fd910c9d111', type(authorizer)=<class 'globus_sdk.authorizers.base.NullAuthorizer'>\n",
      "2025-06-18 17:44:53,788 - INFO - Using cached bag for  4-YWKJ Version:0.2.0\n",
      "2025-06-18 17:44:53,789 - INFO - Loading /data/4-YWKJ_44b67c208c639554dd582f1575a7466fd853affad87411a7f99d28c7559acbbb/Dataset_4-YWKJ\n",
      "2025-06-18 17:44:54,227 - INFO - Creating new database for dataset: 4-YWKJ in /data/kb_766/EyeAI_working/4-YWKJ@33F-J5QX-5CCA.db\n",
      "2025-06-18 17:44:54,276 - INFO - Downloading assets ...\n",
      "2025-06-18 17:44:58,491 - INFO - File [/data/kb_766/EyeAI_working/deriva-ml/execution/4-YX7E/downloaded-assets/Execution_Asset/VGG19_FULL_Images_Cropped_2-277G_Feb_14_2025.h5] transfer successful. 227.79 MB transferred at 64.12 MB/second. Elapsed time: 0:00:03.552363.\n",
      "2025-06-18 17:44:59,018 - INFO - Initialize status finished.\n"
     ]
    }
   ],
   "source": [
    "source_dataset = \"4-YWKJ\" # USC test set\n",
    "crop = True\n",
    "\n",
    "if crop:\n",
    "    asset_RID = [\"4-MWQ6\"]  # VGG19 cropped\n",
    "else:\n",
    "    asset_RID = [\"4-MWQ8\"]  # VGG19 uncropped\n",
    "\n",
    "preds_workflow = EA.add_workflow( \n",
    "    Workflow(\n",
    "        name=\"VGG Predictions by KB\",\n",
    "        url=\"https://github.com/informatics-isi-edu/eye-ai-exec/blob/main/notebooks/Sandbox_KB/VGG_Predict.ipynb\",\n",
    "        workflow_type=\"Test Workflow\",\n",
    "        )\n",
    "    )\n",
    "\n",
    "config = ExecutionConfiguration(\n",
    "    datasets=[ DatasetSpec(rid=source_dataset, version=EA.dataset_version(source_dataset), materialize=True) ],\n",
    "    assets=asset_RID,\n",
    "    workflow=preds_workflow,\n",
    "    description=\"Instance of creating VGG19 predictions: VGG19 Uncropped on 4-YWKJ USC Test\",\n",
    "    )\n",
    "\n",
    "execution = EA.create_execution(config)"
   ]
  },
  {
   "cell_type": "code",
   "execution_count": 7,
   "id": "9db71483-dce2-4fdf-bcbc-0c952989d8f3",
   "metadata": {},
   "outputs": [
    {
     "name": "stdout",
     "output_type": "stream",
     "text": [
      "caching_dir: /data\n",
      "_working_dir: /data/kb_766/EyeAI_working\n",
      "execution_rid: 4-YX7E\n",
      "workflow_rid: 4-YSP4\n",
      "asset_paths: {'Execution_Asset': [AssetFilePath('/data/kb_766/EyeAI_working/deriva-ml/execution/4-YX7E/downloaded-assets/Execution_Asset/VGG19_FULL_Images_Cropped_2-277G_Feb_14_2025.h5')]}\n",
      "configuration: datasets=[DatasetSpec(rid='4-YWKJ', materialize=True, version=DatasetVersion(major=0, minor=2, patch=0))] assets=['4-MWQ6'] workflow='4-YSP4' parameters={} description='Instance of creating VGG19 predictions: VGG19 Uncropped on 4-YWKJ USC Test' argv=['/home/kb_766/.conda/envs/my-tensorflow-conda/lib/python3.10/site-packages/ipykernel_launcher.py', '-f', '/home/kb_766/.local/share/jupyter/runtime/kernel-9df0d7de-d6f5-47ca-a76c-87e85401b2d8.json']\n"
     ]
    }
   ],
   "source": [
    "print(execution)"
   ]
  },
  {
   "cell_type": "code",
   "execution_count": 8,
   "id": "390b6e9d-078d-4fad-88b9-3edc29fbd2a7",
   "metadata": {},
   "outputs": [],
   "source": [
    "output_dir = execution._working_dir / execution.execution_rid"
   ]
  },
  {
   "cell_type": "raw",
   "id": "b7b334cd-7dad-42a7-b6f7-c999ad9fadc6",
   "metadata": {},
   "source": [
    "# Get Pertinent Datasets"
   ]
  },
  {
   "cell_type": "code",
   "execution_count": 9,
   "id": "64273618-87e3-40ed-8e39-a8d176728fb0",
   "metadata": {},
   "outputs": [],
   "source": [
    "ds_bag_test = execution.datasets[0]"
   ]
  },
  {
   "cell_type": "code",
   "execution_count": 10,
   "id": "29190d10-5c5e-4aea-a76a-2f29c835bc0e",
   "metadata": {},
   "outputs": [
    {
     "data": {
      "text/plain": [
       "PosixPath('/data/kb_766/EyeAI_working/4-YX7E/Test')"
      ]
     },
     "execution_count": 10,
     "metadata": {},
     "output_type": "execute_result"
    }
   ],
   "source": [
    "# FOR USC MULTIMODAL DATA\n",
    "# Group files as glaucoma/not for VGG evaluation\n",
    "\n",
    "imageDF = ds_bag_test.get_table_as_dataframe('Image')\n",
    "annotation_bounding_box =  pd.merge( ds_bag_test.get_table_as_dataframe('Annotation')[['Image', 'Fundus_Bounding_Box']], \n",
    "                                                ds_bag_test.get_table_as_dataframe('Fundus_Bounding_Box'), \n",
    "                                                left_on='Fundus_Bounding_Box', \n",
    "                                                right_on='RID')\n",
    "\n",
    "import shutil\n",
    "\n",
    "output_path =  output_dir / \"Test\"\n",
    "output_path.mkdir(parents=True, exist_ok=True)\n",
    "    \n",
    "output_path_suspected = output_path / \"No_Glaucoma\"\n",
    "output_path_glaucoma = output_path / \"Suspected_Glaucoma\"\n",
    "    \n",
    "output_path_suspected.mkdir(parents=True, exist_ok=True)\n",
    "output_path_glaucoma.mkdir(parents=True, exist_ok=True)\n",
    "\n",
    "for index, row in imageDF.iterrows():     \n",
    "    src_path = row[\"Filename\"]\n",
    "    image_rid = row[\"RID\"]\n",
    "    dest_name = row[\"RID\"] + \".jpg\"\n",
    "    if crop:\n",
    "        dest_name = \"Crop_\" + dest_name\n",
    "    label = row[\"RID\"].split( sep = \"-\" )[0]\n",
    "    \n",
    "    if label == \"4\":\n",
    "        dest_path = os.path.join(output_path_suspected, dest_name)\n",
    "    elif label == \"2\":\n",
    "        dest_path = os.path.join(output_path_glaucoma, dest_name)\n",
    "    else: \n",
    "        continue    \n",
    "    \n",
    "    if crop:\n",
    "        image = Image.open(src_path)\n",
    "        svg_path = annotation_bounding_box.loc[annotation_bounding_box['Image'] == image_rid, 'Filename'].values[0]\n",
    "        svg_path = Path(svg_path)\n",
    "        if not svg_path.exists():\n",
    "          continue\n",
    "        bbox = EA.get_bounding_box(svg_path)\n",
    "        cropped_image = image.crop(bbox)\n",
    "        cropped_image.save(dest_path)\n",
    "    else:\n",
    "        shutil.copy2(src_path, dest_path)\n",
    "\n",
    "output_path"
   ]
  },
  {
   "cell_type": "code",
   "execution_count": 11,
   "id": "dc413d08-083e-40f6-af09-5a351e12ffec",
   "metadata": {},
   "outputs": [
    {
     "name": "stdout",
     "output_type": "stream",
     "text": [
      "No_Glaucoma  Suspected_Glaucoma\n"
     ]
    }
   ],
   "source": [
    "!ls /data/kb_766/EyeAI_working/4-YX7E/Test"
   ]
  },
  {
   "cell_type": "code",
   "execution_count": 12,
   "id": "1a5b73e9-901a-4fc0-9810-7a3660155282",
   "metadata": {},
   "outputs": [
    {
     "name": "stdout",
     "output_type": "stream",
     "text": [
      "Crop_4-YRP6.jpg  Crop_4-YRSW.jpg  Crop_4-YRYG.jpg  Crop_4-YS1W.jpg\n",
      "Crop_4-YRPA.jpg  Crop_4-YRT2.jpg  Crop_4-YRYJ.jpg  Crop_4-YS1Y.jpg\n",
      "Crop_4-YRPE.jpg  Crop_4-YRT6.jpg  Crop_4-YRYM.jpg  Crop_4-YS22.jpg\n",
      "Crop_4-YRPG.jpg  Crop_4-YRT8.jpg  Crop_4-YRYP.jpg  Crop_4-YS24.jpg\n",
      "Crop_4-YRPJ.jpg  Crop_4-YRTG.jpg  Crop_4-YRYR.jpg  Crop_4-YS28.jpg\n",
      "Crop_4-YRPM.jpg  Crop_4-YRTJ.jpg  Crop_4-YRYW.jpg  Crop_4-YS2A.jpg\n",
      "Crop_4-YRPT.jpg  Crop_4-YRTM.jpg  Crop_4-YRYY.jpg  Crop_4-YS2C.jpg\n",
      "Crop_4-YRPW.jpg  Crop_4-YRTT.jpg  Crop_4-YRZ4.jpg  Crop_4-YS2G.jpg\n",
      "Crop_4-YRPY.jpg  Crop_4-YRTW.jpg  Crop_4-YRZ6.jpg  Crop_4-YS2P.jpg\n",
      "Crop_4-YRQ0.jpg  Crop_4-YRTY.jpg  Crop_4-YRZA.jpg  Crop_4-YS2R.jpg\n",
      "Crop_4-YRQ6.jpg  Crop_4-YRV2.jpg  Crop_4-YRZC.jpg  Crop_4-YS2T.jpg\n",
      "Crop_4-YRQ8.jpg  Crop_4-YRV4.jpg  Crop_4-YRZE.jpg  Crop_4-YS2W.jpg\n",
      "Crop_4-YRQC.jpg  Crop_4-YRV6.jpg  Crop_4-YRZJ.jpg  Crop_4-YS30.jpg\n",
      "Crop_4-YRQE.jpg  Crop_4-YRV8.jpg  Crop_4-YRZM.jpg  Crop_4-YS32.jpg\n",
      "Crop_4-YRQM.jpg  Crop_4-YRVJ.jpg  Crop_4-YRZP.jpg  Crop_4-YS36.jpg\n",
      "Crop_4-YRQP.jpg  Crop_4-YRVT.jpg  Crop_4-YRZT.jpg  Crop_4-YS3E.jpg\n",
      "Crop_4-YRQR.jpg  Crop_4-YRVW.jpg  Crop_4-YS04.jpg  Crop_4-YS3G.jpg\n",
      "Crop_4-YRQT.jpg  Crop_4-YRVY.jpg  Crop_4-YS06.jpg  Crop_4-YS3J.jpg\n",
      "Crop_4-YRQW.jpg  Crop_4-YRW0.jpg  Crop_4-YS0A.jpg  Crop_4-YS3R.jpg\n",
      "Crop_4-YRR0.jpg  Crop_4-YRW4.jpg  Crop_4-YS0C.jpg  Crop_4-YS3T.jpg\n",
      "Crop_4-YRR2.jpg  Crop_4-YRW8.jpg  Crop_4-YS0E.jpg  Crop_4-YS3W.jpg\n",
      "Crop_4-YRR6.jpg  Crop_4-YRWA.jpg  Crop_4-YS0G.jpg  Crop_4-YS48.jpg\n",
      "Crop_4-YRR8.jpg  Crop_4-YRWE.jpg  Crop_4-YS0J.jpg  Crop_4-YS4A.jpg\n",
      "Crop_4-YRRA.jpg  Crop_4-YRWG.jpg  Crop_4-YS0M.jpg  Crop_4-YS4C.jpg\n",
      "Crop_4-YRRC.jpg  Crop_4-YRWJ.jpg  Crop_4-YS0R.jpg  Crop_4-YS4E.jpg\n",
      "Crop_4-YRRJ.jpg  Crop_4-YRWY.jpg  Crop_4-YS0T.jpg  Crop_4-YS4J.jpg\n",
      "Crop_4-YRRR.jpg  Crop_4-YRX4.jpg  Crop_4-YS0W.jpg  Crop_4-YS4R.jpg\n",
      "Crop_4-YRRT.jpg  Crop_4-YRX6.jpg  Crop_4-YS0Y.jpg  Crop_4-YS4W.jpg\n",
      "Crop_4-YRRY.jpg  Crop_4-YRXA.jpg  Crop_4-YS10.jpg  Crop_4-YS4Y.jpg\n",
      "Crop_4-YRS0.jpg  Crop_4-YRXC.jpg  Crop_4-YS12.jpg  Crop_4-YS54.jpg\n",
      "Crop_4-YRS2.jpg  Crop_4-YRXE.jpg  Crop_4-YS14.jpg  Crop_4-YS56.jpg\n",
      "Crop_4-YRS4.jpg  Crop_4-YRXG.jpg  Crop_4-YS16.jpg  Crop_4-YS58.jpg\n",
      "Crop_4-YRS6.jpg  Crop_4-YRXM.jpg  Crop_4-YS1A.jpg  Crop_4-YS5E.jpg\n",
      "Crop_4-YRS8.jpg  Crop_4-YRXP.jpg  Crop_4-YS1E.jpg  Crop_4-YS5G.jpg\n",
      "Crop_4-YRSC.jpg  Crop_4-YRXY.jpg  Crop_4-YS1G.jpg  Crop_4-YS5M.jpg\n",
      "Crop_4-YRSG.jpg  Crop_4-YRY2.jpg  Crop_4-YS1M.jpg  Crop_4-YS5R.jpg\n",
      "Crop_4-YRSJ.jpg  Crop_4-YRYA.jpg  Crop_4-YS1P.jpg\n",
      "Crop_4-YRSM.jpg  Crop_4-YRYC.jpg  Crop_4-YS1R.jpg\n"
     ]
    }
   ],
   "source": [
    "!ls /data/kb_766/EyeAI_working/4-YX7E/Test/No_Glaucoma"
   ]
  },
  {
   "cell_type": "code",
   "execution_count": 13,
   "id": "ceceaff8-253c-49c6-9ec0-5b042800d481",
   "metadata": {},
   "outputs": [
    {
     "name": "stdout",
     "output_type": "stream",
     "text": [
      "150\n"
     ]
    }
   ],
   "source": [
    "!ls /data/kb_766/EyeAI_working/4-YX7E/Test/No_Glaucoma -1 | wc -l"
   ]
  },
  {
   "cell_type": "code",
   "execution_count": 14,
   "id": "417b0afe-5df2-4666-8de2-865aa9391b96",
   "metadata": {},
   "outputs": [
    {
     "name": "stdout",
     "output_type": "stream",
     "text": [
      "Crop_2-BDCW.jpg  Crop_2-BJS0.jpg  Crop_2-BR4T.jpg  Crop_2-BYD0.jpg\n",
      "Crop_2-BDHR.jpg  Crop_2-BJTP.jpg  Crop_2-BRVJ.jpg  Crop_2-BYF0.jpg\n",
      "Crop_2-BDQT.jpg  Crop_2-BK9M.jpg  Crop_2-BRXR.jpg  Crop_2-BYHP.jpg\n",
      "Crop_2-BE6A.jpg  Crop_2-BKC6.jpg  Crop_2-BS4A.jpg  Crop_2-BYQJ.jpg\n",
      "Crop_2-BE90.jpg  Crop_2-BKFW.jpg  Crop_2-BS7T.jpg  Crop_2-BYSP.jpg\n",
      "Crop_2-BEA0.jpg  Crop_2-BKQJ.jpg  Crop_2-BSA0.jpg  Crop_2-BYSR.jpg\n",
      "Crop_2-BEA4.jpg  Crop_2-BKSA.jpg  Crop_2-BSDM.jpg  Crop_2-BYXM.jpg\n",
      "Crop_2-BEFY.jpg  Crop_2-BKSG.jpg  Crop_2-BSEJ.jpg  Crop_2-BYYC.jpg\n",
      "Crop_2-BEQG.jpg  Crop_2-BKY2.jpg  Crop_2-BSN4.jpg  Crop_2-BZ00.jpg\n",
      "Crop_2-BET6.jpg  Crop_2-BM18.jpg  Crop_2-BSQ8.jpg  Crop_2-BZP0.jpg\n",
      "Crop_2-BFA8.jpg  Crop_2-BM9T.jpg  Crop_2-BSST.jpg  Crop_2-BZRT.jpg\n",
      "Crop_2-BFDM.jpg  Crop_2-BMD6.jpg  Crop_2-BT0E.jpg  Crop_2-BZSC.jpg\n",
      "Crop_2-BFK4.jpg  Crop_2-BMH2.jpg  Crop_2-BT3M.jpg  Crop_2-BZTW.jpg\n",
      "Crop_2-BFNY.jpg  Crop_2-BMJ8.jpg  Crop_2-BT84.jpg  Crop_2-C05W.jpg\n",
      "Crop_2-BFYA.jpg  Crop_2-BMJC.jpg  Crop_2-BTB8.jpg  Crop_2-C08E.jpg\n",
      "Crop_2-BFZJ.jpg  Crop_2-BMKE.jpg  Crop_2-BTG6.jpg  Crop_2-C08Y.jpg\n",
      "Crop_2-BG02.jpg  Crop_2-BMQG.jpg  Crop_2-BTKT.jpg  Crop_2-C0GW.jpg\n",
      "Crop_2-BG34.jpg  Crop_2-BMVC.jpg  Crop_2-BTPJ.jpg  Crop_2-C0KJ.jpg\n",
      "Crop_2-BG44.jpg  Crop_2-BMZ2.jpg  Crop_2-BVDG.jpg  Crop_2-C0QJ.jpg\n",
      "Crop_2-BG6C.jpg  Crop_2-BN0G.jpg  Crop_2-BVHP.jpg  Crop_2-C0V0.jpg\n",
      "Crop_2-BGBW.jpg  Crop_2-BN6E.jpg  Crop_2-BVMM.jpg  Crop_2-C0YP.jpg\n",
      "Crop_2-BGE6.jpg  Crop_2-BN8E.jpg  Crop_2-BW2R.jpg  Crop_2-C120.jpg\n",
      "Crop_2-BGEY.jpg  Crop_2-BNCW.jpg  Crop_2-BW8C.jpg  Crop_2-C16W.jpg\n",
      "Crop_2-BGNR.jpg  Crop_2-BNMP.jpg  Crop_2-BWA8.jpg  Crop_2-C1E8.jpg\n",
      "Crop_2-BGQ4.jpg  Crop_2-BNXC.jpg  Crop_2-BWAJ.jpg  Crop_2-C1K0.jpg\n",
      "Crop_2-BGQA.jpg  Crop_2-BP4C.jpg  Crop_2-BWE6.jpg  Crop_2-C1MY.jpg\n",
      "Crop_2-BGV4.jpg  Crop_2-BP9R.jpg  Crop_2-BWEP.jpg  Crop_2-C1R2.jpg\n",
      "Crop_2-BGXY.jpg  Crop_2-BPA8.jpg  Crop_2-BWJT.jpg  Crop_2-C21E.jpg\n",
      "Crop_2-BGZR.jpg  Crop_2-BPCJ.jpg  Crop_2-BWVC.jpg  Crop_2-C27A.jpg\n",
      "Crop_2-BH2M.jpg  Crop_2-BPHW.jpg  Crop_2-BWW2.jpg  Crop_2-C2B0.jpg\n",
      "Crop_2-BHD6.jpg  Crop_2-BPRJ.jpg  Crop_2-BWWG.jpg  Crop_2-C2YP.jpg\n",
      "Crop_2-BHQ4.jpg  Crop_2-BPST.jpg  Crop_2-BX4G.jpg  Crop_2-C2ZR.jpg\n",
      "Crop_2-BHR8.jpg  Crop_2-BQ6J.jpg  Crop_2-BX7Y.jpg  Crop_2-C382.jpg\n",
      "Crop_2-BJ0R.jpg  Crop_2-BQ6W.jpg  Crop_2-BXQA.jpg  Crop_2-C38R.jpg\n",
      "Crop_2-BJ1P.jpg  Crop_2-BQ7C.jpg  Crop_2-BXQM.jpg  Crop_2-C3DG.jpg\n",
      "Crop_2-BJ48.jpg  Crop_2-BQRA.jpg  Crop_2-BXSW.jpg  Crop_2-C3JM.jpg\n",
      "Crop_2-BJHM.jpg  Crop_2-BQTC.jpg  Crop_2-BY8M.jpg\n",
      "Crop_2-BJQ8.jpg  Crop_2-BQTT.jpg  Crop_2-BY90.jpg\n"
     ]
    }
   ],
   "source": [
    "!ls /data/kb_766/EyeAI_working/4-YX7E/Test/Suspected_Glaucoma"
   ]
  },
  {
   "cell_type": "code",
   "execution_count": 15,
   "id": "e1abfc36-b047-4933-bb36-8defefaf73f8",
   "metadata": {},
   "outputs": [
    {
     "name": "stdout",
     "output_type": "stream",
     "text": [
      "150\n"
     ]
    }
   ],
   "source": [
    "!ls /data/kb_766/EyeAI_working/4-YX7E/Test/Suspected_Glaucoma -1 | wc -l"
   ]
  },
  {
   "cell_type": "code",
   "execution_count": 16,
   "id": "90171469-182a-494c-905f-678a30fc97ba",
   "metadata": {},
   "outputs": [],
   "source": [
    "asset_output_dir = execution._working_dir / execution.execution_rid / \"asset\"\n",
    "asset_output_dir.mkdir( parents=True, exist_ok=True )"
   ]
  },
  {
   "cell_type": "code",
   "execution_count": 17,
   "id": "5c0ad2fe-8f12-477b-9f3f-0bf2a6b65642",
   "metadata": {},
   "outputs": [],
   "source": [
    "current_date = datetime.now().strftime(\"%b_%d_%Y\") "
   ]
  },
  {
   "cell_type": "code",
   "execution_count": 18,
   "id": "757330e5-06a7-4266-b4e8-cf2ee6936ff6",
   "metadata": {},
   "outputs": [],
   "source": [
    "model_path = str(execution.asset_paths['Execution_Asset'][0])"
   ]
  },
  {
   "cell_type": "code",
   "execution_count": 19,
   "id": "6e697f65-1602-4c29-b00e-1fbe3ba22bf9",
   "metadata": {},
   "outputs": [
    {
     "name": "stderr",
     "output_type": "stream",
     "text": [
      "2025-06-18 17:46:15,347 - INFO - Start execution  ...\n",
      "2025-06-18 17:46:15,441 - INFO - Start execution  ...\n",
      "2025-06-18 17:46:15.666852: I external/local_xla/xla/stream_executor/cuda/cuda_executor.cc:901] successful NUMA node read from SysFS had negative value (-1), but there must be at least one NUMA node, so returning NUMA node zero. See more at https://github.com/torvalds/linux/blob/v6.0/Documentation/ABI/testing/sysfs-bus-pci#L344-L355\n",
      "2025-06-18 17:46:15.695279: I external/local_xla/xla/stream_executor/cuda/cuda_executor.cc:901] successful NUMA node read from SysFS had negative value (-1), but there must be at least one NUMA node, so returning NUMA node zero. See more at https://github.com/torvalds/linux/blob/v6.0/Documentation/ABI/testing/sysfs-bus-pci#L344-L355\n",
      "2025-06-18 17:46:15.698917: I external/local_xla/xla/stream_executor/cuda/cuda_executor.cc:901] successful NUMA node read from SysFS had negative value (-1), but there must be at least one NUMA node, so returning NUMA node zero. See more at https://github.com/torvalds/linux/blob/v6.0/Documentation/ABI/testing/sysfs-bus-pci#L344-L355\n",
      "2025-06-18 17:46:15.703329: I external/local_xla/xla/stream_executor/cuda/cuda_executor.cc:901] successful NUMA node read from SysFS had negative value (-1), but there must be at least one NUMA node, so returning NUMA node zero. See more at https://github.com/torvalds/linux/blob/v6.0/Documentation/ABI/testing/sysfs-bus-pci#L344-L355\n",
      "2025-06-18 17:46:15.706911: I external/local_xla/xla/stream_executor/cuda/cuda_executor.cc:901] successful NUMA node read from SysFS had negative value (-1), but there must be at least one NUMA node, so returning NUMA node zero. See more at https://github.com/torvalds/linux/blob/v6.0/Documentation/ABI/testing/sysfs-bus-pci#L344-L355\n",
      "2025-06-18 17:46:15.710326: I external/local_xla/xla/stream_executor/cuda/cuda_executor.cc:901] successful NUMA node read from SysFS had negative value (-1), but there must be at least one NUMA node, so returning NUMA node zero. See more at https://github.com/torvalds/linux/blob/v6.0/Documentation/ABI/testing/sysfs-bus-pci#L344-L355\n",
      "2025-06-18 17:46:15.821832: I external/local_xla/xla/stream_executor/cuda/cuda_executor.cc:901] successful NUMA node read from SysFS had negative value (-1), but there must be at least one NUMA node, so returning NUMA node zero. See more at https://github.com/torvalds/linux/blob/v6.0/Documentation/ABI/testing/sysfs-bus-pci#L344-L355\n",
      "2025-06-18 17:46:15.823307: I external/local_xla/xla/stream_executor/cuda/cuda_executor.cc:901] successful NUMA node read from SysFS had negative value (-1), but there must be at least one NUMA node, so returning NUMA node zero. See more at https://github.com/torvalds/linux/blob/v6.0/Documentation/ABI/testing/sysfs-bus-pci#L344-L355\n",
      "2025-06-18 17:46:15.824695: I external/local_xla/xla/stream_executor/cuda/cuda_executor.cc:901] successful NUMA node read from SysFS had negative value (-1), but there must be at least one NUMA node, so returning NUMA node zero. See more at https://github.com/torvalds/linux/blob/v6.0/Documentation/ABI/testing/sysfs-bus-pci#L344-L355\n",
      "2025-06-18 17:46:15.826021: I tensorflow/core/common_runtime/gpu/gpu_device.cc:1929] Created device /job:localhost/replica:0/task:0/device:GPU:0 with 20723 MB memory:  -> device: 0, name: NVIDIA A10G, pci bus id: 0000:00:1e.0, compute capability: 8.6\n"
     ]
    },
    {
     "name": "stdout",
     "output_type": "stream",
     "text": [
      "Found 300 images belonging to 2 classes.\n"
     ]
    },
    {
     "name": "stderr",
     "output_type": "stream",
     "text": [
      "2025-06-18 17:46:17.080763: I external/local_xla/xla/stream_executor/cuda/cuda_dnn.cc:454] Loaded cuDNN version 8907\n",
      "2025-06-18 17:46:23,527 - INFO - Predictions saved to VGG19_Cropped_Model_4-YWKJ_Jun_18_2025_predictions_results.csv\n",
      "2025-06-18 17:46:23,528 - INFO - Metrics saved to VGG19_Cropped_Model_4-YWKJ_Jun_18_2025_metrics_summary.csv\n",
      "2025-06-18 17:46:23,529 - INFO - Successfully run Ml.\n",
      "2025-06-18 17:46:23,600 - INFO - Algorithm execution ended.\n"
     ]
    },
    {
     "name": "stdout",
     "output_type": "stream",
     "text": [
      "Execution Results:\n",
      "/data/kb_766/EyeAI_working/4-YX7E/asset/VGG19_Cropped_Model_4-YWKJ_Jun_18_2025_predictions_results.csv /data/kb_766/EyeAI_working/4-YX7E/asset/VGG19_Cropped_Model_4-YWKJ_Jun_18_2025_metrics_summary.csv\n"
     ]
    }
   ],
   "source": [
    "\n",
    "with execution.execute() as exec:\n",
    "        predictions_results, metrics_summary = vgg19_diagnosis_train.evaluate_only(\n",
    "            model_path = model_path, \n",
    "            model_name = f\"VGG19_Cropped_Model_{ds_bag_test.dataset_rid}_{current_date}\", \n",
    "            test_path = output_path, \n",
    "            output_dir = asset_output_dir,\n",
    "            classes = {'No_Glaucoma': 0, 'Suspected_Glaucoma': 1}\n",
    "        )\n",
    "        print(\"Execution Results:\")\n",
    "        print(predictions_results, metrics_summary)"
   ]
  },
  {
   "cell_type": "code",
   "execution_count": 20,
   "id": "b7519fba-8a49-4ba1-bd65-227170644c26",
   "metadata": {},
   "outputs": [
    {
     "data": {
      "text/html": [
       "<div>\n",
       "<style scoped>\n",
       "    .dataframe tbody tr th:only-of-type {\n",
       "        vertical-align: middle;\n",
       "    }\n",
       "\n",
       "    .dataframe tbody tr th {\n",
       "        vertical-align: top;\n",
       "    }\n",
       "\n",
       "    .dataframe thead th {\n",
       "        text-align: right;\n",
       "    }\n",
       "</style>\n",
       "<table border=\"1\" class=\"dataframe\">\n",
       "  <thead>\n",
       "    <tr style=\"text-align: right;\">\n",
       "      <th></th>\n",
       "      <th>Metric</th>\n",
       "      <th>Value</th>\n",
       "    </tr>\n",
       "  </thead>\n",
       "  <tbody>\n",
       "    <tr>\n",
       "      <th>0</th>\n",
       "      <td>F1 Score</td>\n",
       "      <td>0.681690</td>\n",
       "    </tr>\n",
       "    <tr>\n",
       "      <th>1</th>\n",
       "      <td>Precision</td>\n",
       "      <td>0.590244</td>\n",
       "    </tr>\n",
       "    <tr>\n",
       "      <th>2</th>\n",
       "      <td>Recall</td>\n",
       "      <td>0.806667</td>\n",
       "    </tr>\n",
       "    <tr>\n",
       "      <th>3</th>\n",
       "      <td>Accuracy</td>\n",
       "      <td>0.623333</td>\n",
       "    </tr>\n",
       "    <tr>\n",
       "      <th>4</th>\n",
       "      <td>ROC-AUC</td>\n",
       "      <td>0.767333</td>\n",
       "    </tr>\n",
       "  </tbody>\n",
       "</table>\n",
       "</div>"
      ],
      "text/plain": [
       "      Metric     Value\n",
       "0   F1 Score  0.681690\n",
       "1  Precision  0.590244\n",
       "2     Recall  0.806667\n",
       "3   Accuracy  0.623333\n",
       "4    ROC-AUC  0.767333"
      ]
     },
     "execution_count": 20,
     "metadata": {},
     "output_type": "execute_result"
    }
   ],
   "source": [
    "pd.read_csv( metrics_summary )"
   ]
  },
  {
   "cell_type": "code",
   "execution_count": 22,
   "id": "7824292c-4e41-41c7-8a42-0e88cbca8b9d",
   "metadata": {},
   "outputs": [],
   "source": [
    "preds = pd.read_csv( predictions_results )"
   ]
  },
  {
   "cell_type": "code",
   "execution_count": 23,
   "id": "ed1227b4-13ac-40dd-ba5a-c19e10ab2719",
   "metadata": {},
   "outputs": [
    {
     "data": {
      "image/png": "[encoded data removed]",
      "text/plain": [
       "<Figure size 640x480 with 1 Axes>"
      ]
     },
     "metadata": {},
     "output_type": "display_data"
    }
   ],
   "source": [
    "# Calibration curve\n",
    "prob_true, prob_pred = calibration_curve( preds[\"True Label\"], preds[\"Probability Score\"], n_bins=10, strategy='uniform')\n",
    "plt.plot(prob_pred, prob_true, marker='o', label='Model')\n",
    "plt.plot([0, 1], [0, 1], linestyle='--', label='Perfectly calibrated')\n",
    "plt.xlabel('Mean predicted probability')\n",
    "plt.ylabel('Fraction of positives')\n",
    "plt.title('Calibration curve')\n",
    "plt.legend()\n",
    "plt.show()"
   ]
  },
  {
   "cell_type": "markdown",
   "id": "97724d8d-2d2c-4f60-8a4c-75f8c8d06b33",
   "metadata": {},
   "source": [
    "# Upload Results"
   ]
  },
  {
   "cell_type": "code",
   "execution_count": 118,
   "id": "f27d4849-0230-4722-afa5-47f03a9d90a2",
   "metadata": {},
   "outputs": [
    {
     "name": "stderr",
     "output_type": "stream",
     "text": [
      "2025-03-24 16:16:09,766 - INFO - Initializing uploader: GenericUploader v1.7.6 [Python 3.10.13, Linux-5.10.210-201.852.amzn2.x86_64-x86_64-with-glibc2.26]\n",
      "2025-03-24 16:16:09,767 - INFO - Creating client of type <class 'globus_sdk.services.auth.client.native_client.NativeAppAuthClient'> for service \"auth\"\n",
      "2025-03-24 16:16:09,767 - INFO - Finished initializing AuthLoginClient. client_id='8ef15ba9-2b4a-469c-a163-7fd910c9d111', type(authorizer)=<class 'globus_sdk.authorizers.base.NullAuthorizer'>\n",
      "2025-03-24 16:16:09,804 - INFO - Scanning files in directory [/home/kb_766/deriva-ml/DerivaML_working/deriva-ml/execution/4-S42C]...\n",
      "2025-03-24 16:16:09,805 - INFO - Including file: [/home/kb_766/deriva-ml/DerivaML_working/deriva-ml/execution/4-S42C/execution-metadata/Execution_Config/configuration.json].\n",
      "2025-03-24 16:16:09,806 - INFO - Including file: [/home/kb_766/deriva-ml/DerivaML_working/deriva-ml/execution/4-S42C/execution-metadata/Runtime_Env/environment_snapshot_ytvbrm53.txt].\n",
      "2025-03-24 16:16:09,807 - INFO - Processing: [/home/kb_766/deriva-ml/DerivaML_working/deriva-ml/execution/4-S42C/execution-metadata/Execution_Config/configuration.json]\n",
      "2025-03-24 16:16:09,808 - INFO - Computed metadata for: [/home/kb_766/deriva-ml/DerivaML_working/deriva-ml/execution/4-S42C/execution-metadata/Execution_Config/configuration.json].\n",
      "2025-03-24 16:16:09,808 - INFO - Computing checksums for file: [/home/kb_766/deriva-ml/DerivaML_working/deriva-ml/execution/4-S42C/execution-metadata/Execution_Config/configuration.json]. Please wait...\n",
      "2025-03-24 16:16:09,830 - INFO - Uploading file: [/home/kb_766/deriva-ml/DerivaML_working/deriva-ml/execution/4-S42C/execution-metadata/Execution_Config/configuration.json] to host https://www.eye-ai.org. Please wait...\n",
      "2025-03-24 16:16:10,399 - INFO - Processing: [/home/kb_766/deriva-ml/DerivaML_working/deriva-ml/execution/4-S42C/execution-metadata/Runtime_Env/environment_snapshot_ytvbrm53.txt]\n",
      "2025-03-24 16:16:10,400 - INFO - Computed metadata for: [/home/kb_766/deriva-ml/DerivaML_working/deriva-ml/execution/4-S42C/execution-metadata/Runtime_Env/environment_snapshot_ytvbrm53.txt].\n",
      "2025-03-24 16:16:10,400 - INFO - Computing checksums for file: [/home/kb_766/deriva-ml/DerivaML_working/deriva-ml/execution/4-S42C/execution-metadata/Runtime_Env/environment_snapshot_ytvbrm53.txt]. Please wait...\n",
      "2025-03-24 16:16:10,417 - INFO - Uploading file: [/home/kb_766/deriva-ml/DerivaML_working/deriva-ml/execution/4-S42C/execution-metadata/Runtime_Env/environment_snapshot_ytvbrm53.txt] to host https://www.eye-ai.org. Please wait...\n",
      "2025-03-24 16:16:10,711 - INFO - File upload processing completed: 2 files were uploaded successfully, 0 files failed to upload due to errors, 0 files were skipped because they did not satisfy the matching criteria of the configuration.\n"
     ]
    },
    {
     "data": {
      "text/plain": [
       "{'Execution_Config/configuration.json': FileUploadState(state=<UploadState.success: 0>, status='Complete', result={'URL': '/hatrac/execution_metadata/c574c9dbd4d2f1c98a1120b20c9c2b3a.configuration.json:dzyDIqTmdshSDmojKAIzT8JYnBDH1Mdx', 'RID': '4-S4R0', 'RCT': '2025-03-24T23:16:10.356903+00:00', 'RMT': '2025-03-24T23:16:10.356903+00:00', 'RCB': 'https://auth.globus.org/6022643c-876c-4a47-bafa-5b9fac2c7782', 'RMB': 'https://auth.globus.org/6022643c-876c-4a47-bafa-5b9fac2c7782', 'Filename': 'configuration.json', 'Description': None, 'Length': 226, 'MD5': 'c574c9dbd4d2f1c98a1120b20c9c2b3a', 'Execution_Metadata_Type': 'Execution_Config'}, rid='4-S4R0'),\n",
       " 'Runtime_Env/environment_snapshot_ytvbrm53.txt': FileUploadState(state=<UploadState.success: 0>, status='Complete', result={'URL': '/hatrac/execution_metadata/4bdd399d7cc638e1bb0e992d330c240b.environment_snapshot_ytvbrm53.txt:yPxwkhgeO6Ub5AcWr6kVDY8hvXhRfPpx', 'RID': '4-S4R2', 'RCT': '2025-03-24T23:16:10.635156+00:00', 'RMT': '2025-03-24T23:16:10.635156+00:00', 'RCB': 'https://auth.globus.org/6022643c-876c-4a47-bafa-5b9fac2c7782', 'RMB': 'https://auth.globus.org/6022643c-876c-4a47-bafa-5b9fac2c7782', 'Filename': 'environment_snapshot_ytvbrm53.txt', 'Description': None, 'Length': 12047, 'MD5': '4bdd399d7cc638e1bb0e992d330c240b', 'Execution_Metadata_Type': 'Runtime_Env'}, rid='4-S4R2')}"
      ]
     },
     "execution_count": 118,
     "metadata": {},
     "output_type": "execute_result"
    }
   ],
   "source": [
    "# # crete asset path\n",
    "# asset_type_name = \"Diagnosis_Analysis\"\n",
    "# asset_path = exec.execution_asset_path(asset_type_name)\n",
    "\n",
    "# # save assets to asset_path\n",
    "# linkdDF.to_csv(asset_path/'ImagesToVGG19.csv', index=False)\n",
    "\n",
    "# upload assets to catalog\n",
    "exec.upload_execution_outputs(clean_folder=True)"
   ]
  },
  {
   "cell_type": "code",
   "execution_count": null,
   "id": "aaf78fd5-8f9e-4abf-a946-c716b9c86ddd",
   "metadata": {},
   "outputs": [],
   "source": []
  }
 ],
 "metadata": {
  "kernelspec": {
   "display_name": "My TensorFlow (Conda)",
   "language": "python",
   "name": "my-tensorflow-conda"
  },
  "language_info": {
   "codemirror_mode": {
    "name": "ipython",
    "version": 3
   },
   "file_extension": ".py",
   "mimetype": "text/x-python",
   "name": "python",
   "nbconvert_exporter": "python",
   "pygments_lexer": "ipython3",
   "version": "3.10.13"
  }
 },
 "nbformat": 4,
 "nbformat_minor": 5
}
