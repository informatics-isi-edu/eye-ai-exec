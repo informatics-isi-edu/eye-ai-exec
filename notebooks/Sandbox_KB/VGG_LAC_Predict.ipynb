{
 "cells": [
  {
   "cell_type": "markdown",
   "id": "b2006ce9-6ca1-402d-b9ad-8853b85509cf",
   "metadata": {},
   "source": [
    "# Connect Eye-AI and Load Libraries"
   ]
  },
  {
   "cell_type": "code",
   "execution_count": null,
   "id": "003248d9-3365-4aaa-874a-858234cb2f86",
   "metadata": {},
   "outputs": [],
   "source": [
    "%load_ext autoreload\n",
    "%autoreload 2\n",
    "\n",
    "# # Update the load path so python can find modules for the model\n",
    "import sys\n",
    "from pathlib import Path\n",
    "sys.path.insert(0, str(Path.home() / \"eye-ai-ml\"))\n",
    "sys.path.insert(0, str(Path.home() / \"eye-ai-exec\"))"
   ]
  },
  {
   "cell_type": "code",
   "execution_count": null,
   "id": "8499060d-4de0-4ab1-bf23-8f766d24dd5e",
   "metadata": {},
   "outputs": [],
   "source": [
    "# Prerequisites\n",
    "import json\n",
    "import os\n",
    "\n",
    "# EyeAI, Deriva, VGG19\n",
    "from deriva_ml import DatasetSpec, DatasetBag, Workflow, ExecutionConfiguration, VersionPart\n",
    "from deriva_ml import MLVocab as vc\n",
    "from eye_ai.eye_ai import EyeAI\n",
    "from models.vgg19 import vgg19_diagnosis_train\n",
    "\n",
    "# ML Analytics\n",
    "import pandas as pd\n",
    "import numpy as np\n",
    "from sklearn.calibration import calibration_curve\n",
    "from sklearn.metrics import roc_curve, auc\n",
    "import matplotlib.pyplot as plt\n",
    "\n",
    "# Other Utilities\n",
    "from pathlib import Path, PurePath\n",
    "import logging\n",
    "from datetime import datetime\n",
    "\n",
    "logging.basicConfig(level=logging.INFO, format='%(asctime)s - %(levelname)s - %(message)s', force=True)"
   ]
  },
  {
   "cell_type": "code",
   "execution_count": null,
   "id": "1f254b11-9f01-4185-95a0-cd7f80995c2f",
   "metadata": {},
   "outputs": [],
   "source": [
    "# Login\n",
    "from deriva.core.utils.globus_auth_utils import GlobusNativeLogin\n",
    "host = 'www.eye-ai.org'\n",
    "#host = 'dev.eye-ai.org' #for dev testing\n",
    "catalog_id = \"eye-ai\"\n",
    "\n",
    "gnl = GlobusNativeLogin(host=host)\n",
    "if gnl.is_logged_in([host]):\n",
    "    print(\"You are already logged in.\")\n",
    "else:\n",
    "    gnl.login([host], no_local_server=True, no_browser=True, refresh_tokens=True, update_bdbag_keychain=True)\n",
    "    print(\"Login Successful\")"
   ]
  },
  {
   "cell_type": "markdown",
   "id": "420ee433-9dce-460f-ab4d-0aff7d4eea0e",
   "metadata": {},
   "source": [
    "# Configuration"
   ]
  },
  {
   "cell_type": "code",
   "execution_count": null,
   "id": "3a40db10-6f64-4b6e-a22d-3c7011e2a3fa",
   "metadata": {},
   "outputs": [],
   "source": [
    "cache_dir = '/data'\n",
    "working_dir = '/data'\n",
    "EA = EyeAI(hostname = host, catalog_id = catalog_id, cache_dir= cache_dir, working_dir=working_dir)"
   ]
  },
  {
   "cell_type": "code",
   "execution_count": null,
   "id": "6cef35ae-c47b-4888-9f52-811d73d7fb8d",
   "metadata": {},
   "outputs": [],
   "source": [
    "\n",
    "#EA.increment_dataset_version(dataset_rid='4-YWKJ', component= VersionPart.patch, description='Update after annotations added')"
   ]
  },
  {
   "cell_type": "code",
   "execution_count": null,
   "id": "5c7340a9-2356-481b-bbd9-2f1f30955ca7",
   "metadata": {},
   "outputs": [],
   "source": [
    "source_dataset = \"4-S42W\" # New LAC test (balanced)\n",
    "\n",
    "# asset_RID = [\"4-MWQ6\"]  # VGG19 cropped\n",
    "# crop = True\n",
    "\n",
    "asset_RID = [\"4-MWQ8\"]  # VGG19 uncropped\n",
    "crop = False\n",
    "\n",
    "preds_workflow = EA.add_workflow( \n",
    "    Workflow(\n",
    "        name=\"VGG Predictions by KB\",\n",
    "        url=\"https://github.com/informatics-isi-edu/eye-ai-exec/blob/main/notebooks/Sandbox_KB/VGG_Predict.ipynb\",\n",
    "        workflow_type=\"Test Workflow\",\n",
    "        )\n",
    "    )\n",
    "\n",
    "config = ExecutionConfiguration(\n",
    "    datasets=[ DatasetSpec(rid=source_dataset, version=EA.dataset_version(source_dataset), materialize=True) ],\n",
    "    assets=asset_RID,\n",
    "    workflow=preds_workflow,\n",
    "    description=\"Instance of creating VGG19 predictions: VGG19 Uncropped on 4-YWKJ USC Test\",\n",
    "    )\n",
    "\n",
    "execution = EA.create_execution(config)"
   ]
  },
  {
   "cell_type": "code",
   "execution_count": null,
   "id": "9db71483-dce2-4fdf-bcbc-0c952989d8f3",
   "metadata": {},
   "outputs": [],
   "source": [
    "print(execution)"
   ]
  },
  {
   "cell_type": "code",
   "execution_count": null,
   "id": "390b6e9d-078d-4fad-88b9-3edc29fbd2a7",
   "metadata": {},
   "outputs": [],
   "source": [
    "output_dir = execution._working_dir / execution.execution_rid\n",
    "output_dir.mkdir(parents=True, exist_ok=True)\n",
    "output_dir"
   ]
  },
  {
   "cell_type": "raw",
   "id": "b7b334cd-7dad-42a7-b6f7-c999ad9fadc6",
   "metadata": {},
   "source": [
    "# Get Pertinent Datasets"
   ]
  },
  {
   "cell_type": "code",
   "execution_count": null,
   "id": "64273618-87e3-40ed-8e39-a8d176728fb0",
   "metadata": {},
   "outputs": [],
   "source": [
    "ds_bag_test = execution.datasets[0]"
   ]
  },
  {
   "cell_type": "code",
   "execution_count": null,
   "id": "e89421fb-ebf2-465e-bbeb-4e2e3e15deef",
   "metadata": {},
   "outputs": [],
   "source": [
    "# FOR LAC DATA\n",
    "\n",
    "test_image_path_cropped, test_csv_cropped = EA.create_cropped_images(ds_bag = ds_bag_test,\n",
    "                                                                     output_dir = output_dir / \"dataset\" / \"test\",\n",
    "                                                                     crop_to_eye = crop)"
   ]
  },
  {
   "cell_type": "code",
   "execution_count": null,
   "id": "90171469-182a-494c-905f-678a30fc97ba",
   "metadata": {},
   "outputs": [],
   "source": [
    "asset_output_dir = execution._working_dir / execution.execution_rid / \"asset\"\n",
    "asset_output_dir.mkdir( parents=True, exist_ok=True )"
   ]
  },
  {
   "cell_type": "code",
   "execution_count": null,
   "id": "5c0ad2fe-8f12-477b-9f3f-0bf2a6b65642",
   "metadata": {},
   "outputs": [],
   "source": [
    "current_date = datetime.now().strftime(\"%b_%d_%Y\") "
   ]
  },
  {
   "cell_type": "code",
   "execution_count": null,
   "id": "757330e5-06a7-4266-b4e8-cf2ee6936ff6",
   "metadata": {},
   "outputs": [],
   "source": [
    "model_path = str(execution.asset_paths['Execution_Asset'][0])"
   ]
  },
  {
   "cell_type": "code",
   "execution_count": null,
   "id": "eb62a373-3361-4b7d-9d91-a9e9cf435519",
   "metadata": {},
   "outputs": [],
   "source": [
    "test_image_path_cropped"
   ]
  },
  {
   "cell_type": "code",
   "execution_count": null,
   "id": "935fa69b-b509-442a-ab14-2f7e25805673",
   "metadata": {},
   "outputs": [],
   "source": [
    "!ls /data/kb_766/EyeAI_working/4-YX6W/dataset/test/"
   ]
  },
  {
   "cell_type": "code",
   "execution_count": null,
   "id": "a31d9e97-ccee-4a65-b02a-40107b4bf4f9",
   "metadata": {},
   "outputs": [],
   "source": [
    "pd.read_csv( \"/data/kb_766/EyeAI_working/4-YX6W/dataset/test/Image.csv\" )"
   ]
  },
  {
   "cell_type": "code",
   "execution_count": null,
   "id": "6e697f65-1602-4c29-b00e-1fbe3ba22bf9",
   "metadata": {},
   "outputs": [],
   "source": [
    "\n",
    "with execution.execute() as exec:\n",
    "        predictions_results, metrics_summary = vgg19_diagnosis_train.evaluate_only(\n",
    "            model_path = model_path, \n",
    "            model_name = f\"VGG19_Uncropped_Model_{ds_bag_test.dataset_rid}_{current_date}\", \n",
    "            test_path = test_image_path_cropped, \n",
    "            output_dir = asset_output_dir,\n",
    "            classes = {'No_Glaucoma': 0, 'Suspected_Glaucoma': 1}\n",
    "        )\n",
    "        print(\"Execution Results:\")\n",
    "        print(predictions_results, metrics_summary)"
   ]
  },
  {
   "cell_type": "code",
   "execution_count": null,
   "id": "b7519fba-8a49-4ba1-bd65-227170644c26",
   "metadata": {},
   "outputs": [],
   "source": [
    "pd.read_csv( metrics_summary )"
   ]
  },
  {
   "cell_type": "code",
   "execution_count": null,
   "id": "4fea0c07-46d0-4f04-afaf-9f5af5e4c577",
   "metadata": {},
   "outputs": [],
   "source": [
    "preds = pd.read_csv( predictions_results )\n",
    "preds['Filename'].str.split( pat = \"/\", expand = True)[0].value_counts()"
   ]
  },
  {
   "cell_type": "code",
   "execution_count": null,
   "id": "ed1227b4-13ac-40dd-ba5a-c19e10ab2719",
   "metadata": {},
   "outputs": [],
   "source": [
    "# Calibration curve\n",
    "prob_true, prob_pred = calibration_curve( preds[\"True Label\"], preds[\"Probability Score\"], n_bins=10, strategy='uniform')\n",
    "plt.plot(prob_pred, prob_true, marker='o', label='Model')\n",
    "plt.plot([0, 1], [0, 1], linestyle='--', label='Perfectly calibrated')\n",
    "plt.xlabel('Mean predicted probability')\n",
    "plt.ylabel('Fraction of positives')\n",
    "plt.title('Calibration curve')\n",
    "plt.legend()\n",
    "plt.show()"
   ]
  },
  {
   "cell_type": "code",
   "execution_count": null,
   "id": "bd33347a-01d1-4180-bd31-9ae34b863a5d",
   "metadata": {},
   "outputs": [],
   "source": [
    "# Gather patient data\n",
    "\n",
    "preds['Image'] = preds['Filename'].apply(lambda x: x.split(\"_\")[2].split(\".\")[0])\n",
    "\n",
    "# Link to diagnosis data\n",
    "linkdDF = pd.merge( preds,\n",
    "    ds_bag_test.get_table_as_dataframe('Image_Diagnosis')[['Image','Diagnosis_Image']],\n",
    "    on = 'Image', how = 'left' \n",
    ")\n",
    "\n",
    "# Link to image data\n",
    "linkdDF = pd.merge( linkdDF,\n",
    "                   ds_bag_test.get_table_as_dataframe('Image')[['RID', 'Observation']],\n",
    "                   left_on = 'Image', right_on = 'RID', \n",
    "                   how = 'left')\n",
    "linkdDF = linkdDF.drop('RID', axis = 1)\n",
    "\n",
    "# Link to observation data\n",
    "linkdDF = pd.merge( linkdDF,\n",
    "                   ds_bag_test.get_table_as_dataframe('Observation')[['RID', 'Subject']],\n",
    "                   left_on = 'Observation', right_on = 'RID', \n",
    "                   how = 'left')\n",
    "linkdDF = linkdDF.drop('RID', axis = 1)\n",
    "\n",
    "linkdDF = pd.merge( linkdDF,\n",
    "                   ds_bag_test.get_table_as_dataframe('Subject')[['RID', 'Subject_Gender', 'Subject_Ethnicity']],\n",
    "                   left_on = 'Subject', right_on = 'RID', \n",
    "                   how = 'left')\n",
    "linkdDF = linkdDF.drop('RID', axis = 1)\n",
    "\n",
    "linkdDF['Subject_Ethnicity'] = linkdDF['Subject_Ethnicity'].astype('category')\n"
   ]
  },
  {
   "cell_type": "code",
   "execution_count": null,
   "id": "b1668b9f-39e6-409d-b2e0-38a045a3ae9a",
   "metadata": {},
   "outputs": [],
   "source": [
    "linkdDF['Subject_Gender'].value_counts()/656, linkdDF['Subject_Ethnicity'].value_counts()/656"
   ]
  },
  {
   "cell_type": "code",
   "execution_count": null,
   "id": "71f737db-09ff-42fb-9c1d-e807e0afe3d1",
   "metadata": {},
   "outputs": [],
   "source": [
    "# Explore performance metrics\n",
    "\n",
    "# Confirm AUC\n",
    "fpr, tpr, thresholds = roc_curve( preds[\"True Label\"], preds[\"Probability Score\"])\n",
    "print( \"Overall AUC\" )\n",
    "print( auc(fpr, tpr) )\n",
    "\n",
    "# Check AUC by ethnicity\n",
    "for e in pd.unique( linkdDF['Subject_Ethnicity'] ):\n",
    "    tDF = linkdDF[ linkdDF['Subject_Ethnicity'] == e ]\n",
    "    fpr, tpr, thresholds = roc_curve( tDF[\"True Label\"], tDF[\"Probability Score\"])\n",
    "    print( e )\n",
    "    print( auc(fpr, tpr) )\n",
    "\n",
    "# Check AUC by gender\n",
    "for g in pd.unique( linkdDF['Subject_Gender'] ):\n",
    "    tDF = linkdDF[ linkdDF['Subject_Gender'] == g ]\n",
    "    fpr, tpr, thresholds = roc_curve( tDF[\"True Label\"], tDF[\"Probability Score\"])\n",
    "    print( g )\n",
    "    print( auc(fpr, tpr) )"
   ]
  },
  {
   "cell_type": "code",
   "execution_count": null,
   "id": "32312272-e88e-40de-9ebc-f76b4c91cf05",
   "metadata": {},
   "outputs": [],
   "source": [
    "linkdDF[ (linkdDF[ 'Diagnosis_Image' ] == 'Suspected Glaucoma') & (linkdDF[ 'Prediction' ] == 0) ]"
   ]
  },
  {
   "cell_type": "markdown",
   "id": "97724d8d-2d2c-4f60-8a4c-75f8c8d06b33",
   "metadata": {},
   "source": [
    "# Upload Results"
   ]
  },
  {
   "cell_type": "code",
   "execution_count": null,
   "id": "f27d4849-0230-4722-afa5-47f03a9d90a2",
   "metadata": {},
   "outputs": [],
   "source": [
    "# # crete asset path\n",
    "# asset_type_name = \"Diagnosis_Analysis\"\n",
    "# asset_path = exec.execution_asset_path(asset_type_name)\n",
    "\n",
    "# # save assets to asset_path\n",
    "# linkdDF.to_csv(asset_path/'ImagesToVGG19.csv', index=False)\n",
    "\n",
    "# upload assets to catalog\n",
    "exec.upload_execution_outputs(clean_folder=True)"
   ]
  },
  {
   "cell_type": "code",
   "execution_count": null,
   "id": "aaf78fd5-8f9e-4abf-a946-c716b9c86ddd",
   "metadata": {},
   "outputs": [],
   "source": []
  }
 ],
 "metadata": {
  "language_info": {
   "name": "python"
  }
 },
 "nbformat": 4,
 "nbformat_minor": 5
}
