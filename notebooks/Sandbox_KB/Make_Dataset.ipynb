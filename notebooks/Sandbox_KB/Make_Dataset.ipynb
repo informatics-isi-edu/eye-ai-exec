{
 "cells": [
  {
   "cell_type": "markdown",
   "id": "b2006ce9-6ca1-402d-b9ad-8853b85509cf",
   "metadata": {},
   "source": [
    "# Connect Eye-AI and Load Libraries"
   ]
  },
  {
   "cell_type": "code",
   "execution_count": 1,
   "id": "003248d9-3365-4aaa-874a-858234cb2f86",
   "metadata": {},
   "outputs": [],
   "source": [
    "%load_ext autoreload\n",
    "%autoreload 2\n",
    "\n",
    "# # Update the load path so python can find modules for the model\n",
    "import sys\n",
    "from pathlib import Path\n",
    "sys.path.insert(0, str(Path.home() / \"eye-ai-ml\"))\n",
    "sys.path.insert(0, str(Path.home() / \"eye-ai-exec\"))"
   ]
  },
  {
   "cell_type": "code",
   "execution_count": 2,
   "id": "8499060d-4de0-4ab1-bf23-8f766d24dd5e",
   "metadata": {},
   "outputs": [],
   "source": [
    "# Prerequisites\n",
    "import json\n",
    "import os\n",
    "\n",
    "# EyeAI, Deriva, VGG19\n",
    "from deriva_ml import DatasetSpec, DatasetBag, Workflow, ExecutionConfiguration, VersionPart\n",
    "from deriva_ml import MLVocab as vc\n",
    "from eye_ai.eye_ai import EyeAI\n",
    "\n",
    "# ML Analytics\n",
    "import pandas as pd\n",
    "import numpy as np\n",
    "\n",
    "# Other Utilities\n",
    "from pathlib import Path, PurePath\n",
    "import logging\n",
    "from datetime import datetime\n",
    "\n",
    "logging.basicConfig(level=logging.INFO, format='%(asctime)s - %(levelname)s - %(message)s', force=True)"
   ]
  },
  {
   "cell_type": "code",
   "execution_count": 3,
   "id": "1f254b11-9f01-4185-95a0-cd7f80995c2f",
   "metadata": {},
   "outputs": [
    {
     "name": "stderr",
     "output_type": "stream",
     "text": [
      "2025-06-16 15:20:25,696 - INFO - Creating client of type <class 'globus_sdk.services.auth.client.native_client.NativeAppAuthClient'> for service \"auth\"\n",
      "2025-06-16 15:20:25,697 - INFO - Finished initializing AuthLoginClient. client_id='8ef15ba9-2b4a-469c-a163-7fd910c9d111', type(authorizer)=<class 'globus_sdk.authorizers.base.NullAuthorizer'>\n"
     ]
    },
    {
     "name": "stdout",
     "output_type": "stream",
     "text": [
      "You are already logged in.\n"
     ]
    }
   ],
   "source": [
    "# Login\n",
    "from deriva.core.utils.globus_auth_utils import GlobusNativeLogin\n",
    "host = 'www.eye-ai.org'\n",
    "#host = 'dev.eye-ai.org' #for dev testing\n",
    "catalog_id = \"eye-ai\"\n",
    "\n",
    "gnl = GlobusNativeLogin(host=host)\n",
    "if gnl.is_logged_in([host]):\n",
    "    print(\"You are already logged in.\")\n",
    "else:\n",
    "    gnl.login([host], no_local_server=True, no_browser=True, refresh_tokens=True, update_bdbag_keychain=True)\n",
    "    print(\"Login Successful\")"
   ]
  },
  {
   "cell_type": "markdown",
   "id": "420ee433-9dce-460f-ab4d-0aff7d4eea0e",
   "metadata": {},
   "source": [
    "# Configuration"
   ]
  },
  {
   "cell_type": "code",
   "execution_count": 4,
   "id": "3a40db10-6f64-4b6e-a22d-3c7011e2a3fa",
   "metadata": {},
   "outputs": [
    {
     "name": "stderr",
     "output_type": "stream",
     "text": [
      "2025-06-16 15:20:27,388 - INFO - Creating client of type <class 'globus_sdk.services.auth.client.native_client.NativeAppAuthClient'> for service \"auth\"\n",
      "2025-06-16 15:20:27,388 - INFO - Finished initializing AuthLoginClient. client_id='8ef15ba9-2b4a-469c-a163-7fd910c9d111', type(authorizer)=<class 'globus_sdk.authorizers.base.NullAuthorizer'>\n"
     ]
    }
   ],
   "source": [
    "cache_dir = '/data'\n",
    "working_dir = '/data'\n",
    "EA = EyeAI(hostname = host, catalog_id = catalog_id, cache_dir= cache_dir, working_dir=working_dir)"
   ]
  },
  {
   "cell_type": "code",
   "execution_count": 8,
   "id": "85ad0a5a-4bcc-423b-a020-3e84e7506055",
   "metadata": {},
   "outputs": [
    {
     "data": {
      "text/plain": [
       "DatasetVersion(major=2, minor=0, patch=1)"
      ]
     },
     "execution_count": 8,
     "metadata": {},
     "output_type": "execute_result"
    }
   ],
   "source": [
    "\n",
    "\n",
    "#ml_instance.increment_dataset_version(dataset_rid='2-N93J', component= VersionPart.patch, description='Update to latest deriva-ml schema')"
   ]
  },
  {
   "cell_type": "code",
   "execution_count": 8,
   "id": "5c7340a9-2356-481b-bbd9-2f1f30955ca7",
   "metadata": {},
   "outputs": [
    {
     "name": "stderr",
     "output_type": "stream",
     "text": [
      "2025-06-16 15:30:08,963 - INFO - Materialize bag 2-C9PR... \n",
      "2025-06-16 15:30:09,175 - INFO - Creating client of type <class 'globus_sdk.services.auth.client.native_client.NativeAppAuthClient'> for service \"auth\"\n",
      "2025-06-16 15:30:09,175 - INFO - Finished initializing AuthLoginClient. client_id='8ef15ba9-2b4a-469c-a163-7fd910c9d111', type(authorizer)=<class 'globus_sdk.authorizers.base.NullAuthorizer'>\n",
      "2025-06-16 15:30:10,740 - INFO - Creating new MINID for dataset 2-C9PR\n",
      "2025-06-16 15:30:11,788 - INFO - Downloading dataset minid for catalog: 2-C9PR@2.6.0\n",
      "2025-06-16 15:30:11,790 - INFO - Creating client of type <class 'globus_sdk.services.auth.client.native_client.NativeAppAuthClient'> for service \"auth\"\n",
      "2025-06-16 15:30:11,790 - INFO - Finished initializing AuthLoginClient. client_id='8ef15ba9-2b4a-469c-a163-7fd910c9d111', type(authorizer)=<class 'globus_sdk.authorizers.base.NullAuthorizer'>\n",
      "2025-06-16 15:30:11,828 - INFO - Processing export config file: /tmp/tmpfzypxftb/download_spec.json\n",
      "2025-06-16 15:30:11,830 - INFO - Requesting bdbag export at: https://www.eye-ai.org/deriva/export/bdbag\n",
      "2025-06-16 15:31:35,027 - INFO - Export successful. Service responded with URL list: ['https://identifiers.fair-research.org/hdl:20.500.12582/tNxM87eTkn11', 'https://www.eye-ai.org/deriva/export/bdbag/8325d9f5-f696-4dc7-9f95-06d2a7b8e2cf']\n",
      "2025-06-16 15:31:35,363 - INFO - Attempting GET from URL: https://eye-ai-shared.s3.amazonaws.com/2d9eac4317de4f06b31b70546003deca/2025-06-16_15.31.33/Dataset_2-C9PR.zip\n",
      "2025-06-16 15:31:35,427 - INFO - File [/home/kb_766/eye-ai-exec/notebooks/Sandbox_KB/Dataset_2-C9PR.zip] transfer complete. 972.467 KB transferred. Elapsed time: 0:00:00.005891.\n",
      "2025-06-16 15:31:35,429 - INFO - Extracting ZIP archived file: /home/kb_766/eye-ai-exec/notebooks/Sandbox_KB/Dataset_2-C9PR.zip\n",
      "2025-06-16 15:31:35,459 - INFO - File /home/kb_766/eye-ai-exec/notebooks/Sandbox_KB/Dataset_2-C9PR.zip was successfully extracted to directory /data/2-C9PR_a33ec26e2891605ca6901f3f2a69877d13b29538ffd45ed2dfd068a6ddfed488/Dataset_2-C9PR\n",
      "2025-06-16 15:31:35,460 - INFO - Validating bag structure: /data/2-C9PR_a33ec26e2891605ca6901f3f2a69877d13b29538ffd45ed2dfd068a6ddfed488/Dataset_2-C9PR\n",
      "2025-06-16 15:31:35,612 - INFO - Checking payload consistency. This can take some time for large bags with many payload files...\n",
      "2025-06-16 15:31:35,773 - INFO - The directory /data/2-C9PR_a33ec26e2891605ca6901f3f2a69877d13b29538ffd45ed2dfd068a6ddfed488/Dataset_2-C9PR is a valid bag structure\n",
      "2025-06-16 15:31:35,774 - INFO - Loading /data/2-C9PR_a33ec26e2891605ca6901f3f2a69877d13b29538ffd45ed2dfd068a6ddfed488/Dataset_2-C9PR\n",
      "2025-06-16 15:31:36,926 - INFO - Creating new database for dataset: 2-C9PR in /data/kb_766/EyeAI_working/2-C9PR@33D-HFGE-G12M.db\n",
      "2025-06-16 15:31:36,928 - INFO - Materialize bag 4-YQVM... \n",
      "2025-06-16 15:31:37,161 - INFO - Creating client of type <class 'globus_sdk.services.auth.client.native_client.NativeAppAuthClient'> for service \"auth\"\n",
      "2025-06-16 15:31:37,162 - INFO - Finished initializing AuthLoginClient. client_id='8ef15ba9-2b4a-469c-a163-7fd910c9d111', type(authorizer)=<class 'globus_sdk.authorizers.base.NullAuthorizer'>\n",
      "2025-06-16 15:31:38,590 - INFO - Using cached bag for  4-YQVM Version:1.0.0\n",
      "2025-06-16 15:31:38,590 - INFO - Loading /data/4-YQVM_9ac33726c539459d10cd6f6c97a6c9c77b0eefd4545f9eb551fbe334a9b59ad7/Dataset_4-YQVM\n",
      "2025-06-16 15:31:38,853 - INFO - Creating new database for dataset: 4-YQVM in /data/kb_766/EyeAI_working/4-YQVM@33E-T6MD-NKXR.db\n",
      "2025-06-16 15:31:38,902 - INFO - Downloading assets ...\n",
      "2025-06-16 15:31:39,353 - INFO - Initialize status finished.\n"
     ]
    }
   ],
   "source": [
    "\n",
    "datasets = [ '2-C9PR', '4-YQVM' ] # for USC healthy/glaucoma\n",
    "#datasets = [ \"2-N93J\" ] # for new LAC balanced\n",
    "\n",
    "data_to_download = []\n",
    "for dataset in datasets:\n",
    "    ds_dict = {\n",
    "        'rid': dataset,\n",
    "        'materialize':False,\n",
    "        'version':EA.dataset_version(dataset_rid=dataset),\n",
    "    }\n",
    "    data_to_download.append(ds_dict)\n",
    "\n",
    "dataset_workflow = EA.add_workflow( \n",
    "    Workflow(\n",
    "        name=\"Make Dataset by KB\",\n",
    "        url=\"https://github.com/informatics-isi-edu/eye-ai-exec/blob/main/notebooks/Sandbox_KB/Make_Dataset.ipynb\",\n",
    "        workflow_type=\"Test Workflow\",\n",
    "        )\n",
    "    )\n",
    "\n",
    "config = ExecutionConfiguration(\n",
    "    datasets=data_to_download,\n",
    "    workflow=dataset_workflow,\n",
    "    description=\"Instance of making a dataset\",\n",
    "    )\n",
    "\n",
    "execution = EA.create_execution(config)"
   ]
  },
  {
   "cell_type": "code",
   "execution_count": 5,
   "id": "9db71483-dce2-4fdf-bcbc-0c952989d8f3",
   "metadata": {},
   "outputs": [
    {
     "name": "stdout",
     "output_type": "stream",
     "text": [
      "caching_dir: /home/kb_766/deriva-ml/cache\n",
      "_working_dir: /home/kb_766/deriva-ml/DerivaML_working\n",
      "execution_rid: 4-S42C\n",
      "workflow_rid: 4-M4TT\n",
      "asset_paths: [PosixPath('/home/kb_766/deriva-ml/DerivaML_working/4-S42C/asset/predictions_results.csv')]\n",
      "configuration: datasets=[DatasetSpec(rid='2-N93J', materialize=False, version=DatasetVersion(major=2, minor=0, patch=1))] assets=['2-C8JM'] workflow='4-M4TT' description='Instance of linking VGG19 predictions to patient-level data'\n"
     ]
    }
   ],
   "source": [
    "print(execution)"
   ]
  },
  {
   "cell_type": "markdown",
   "id": "c97e75f7-8eb7-490c-8ba7-0e00d738a723",
   "metadata": {},
   "source": [
    "# Get Pertinent Datasets"
   ]
  },
  {
   "cell_type": "code",
   "execution_count": 25,
   "id": "a32a51e0-e149-4806-9080-ef48994fceef",
   "metadata": {},
   "outputs": [],
   "source": [
    "# Function to update column names\n",
    "pd.options.mode.copy_on_write = True\n",
    "def updateCols(df, cols, colDict):\n",
    "    df = df[cols]\n",
    "    df.rename( columns = colDict, inplace = True )\n",
    "    for c in set(cols).intersection( set(colDict) ): cols[cols.index(c)] = colDict.get(c)\n",
    "    return df"
   ]
  },
  {
   "cell_type": "markdown",
   "id": "ce4c3096-51a8-4ece-bf9c-1b48eb5b2713",
   "metadata": {},
   "source": [
    "# For USC Multimodal dataset healthy/glaucoma"
   ]
  },
  {
   "cell_type": "code",
   "execution_count": 24,
   "id": "64273618-87e3-40ed-8e39-a8d176728fb0",
   "metadata": {},
   "outputs": [],
   "source": [
    "# For building the USC dataset for healthy/glaucoma\n",
    "ds_bag_OG = execution.datasets[0]\n",
    "ds_bag_healthy = execution.datasets[1]\n",
    "\n",
    "# For building the new LAC dataset with matching\n",
    "# ds_bag = exec.datasets[0]\n",
    "# diagsTall = EA.image_tall(ds_bag, 'Initial Diagnosis')"
   ]
  },
  {
   "cell_type": "code",
   "execution_count": 101,
   "id": "44d79cdc-a526-4e3b-9629-b43e53e13639",
   "metadata": {},
   "outputs": [],
   "source": [
    "# For building the USC dataset for healthy/glaucoma\n",
    "\n",
    "# Merge datasets to create master dataframe\n",
    "\n",
    "modalities = EA.extract_modality(ds_bag_OG)\n",
    "\n",
    "masterDF = pd.merge(\n",
    "    ds_bag_OG.get_table_as_dataframe('Image')[[ 'RID', 'Observation' ]],\n",
    "    ds_bag_OG.get_table_as_dataframe('Execution_Image_Fundus_Laterality')[[ 'Image', 'Image_Side' ]],\n",
    "    left_on = 'RID',\n",
    "    right_on = 'Image',\n",
    "    how = 'right').drop( 'RID', axis = 1 )\n",
    "\n",
    "masterDF = pd.merge(\n",
    "    ds_bag_OG.get_table_as_dataframe('Observation')[[ 'RID', 'Subject' ]],\n",
    "    masterDF,\n",
    "    left_on = 'RID',\n",
    "    right_on = 'Observation',\n",
    "    how = 'right').drop( 'RID', axis = 1 )\n",
    "\n",
    "masterDF = pd.merge(\n",
    "    masterDF,\n",
    "    EA.multimodal_wide(ds_bag_OG)[[ 'RID_Subject', 'Image_Side', 'RID_Clinic' ]],\n",
    "    left_on = [ 'Subject', 'Image_Side' ],\n",
    "    right_on = [ 'RID_Subject', 'Image_Side' ],\n",
    "    how = 'left').drop( 'RID_Subject', axis = 1 )\n",
    "\n",
    "masterDF = masterDF[ ~ pd.isna(masterDF['RID_Clinic']) ]\n",
    "\n",
    "masterDF = pd.merge(\n",
    "    masterDF,\n",
    "    modalities['Clinic'][[ 'RID_Clinic', 'CDR', 'Condition_Label' ]],\n",
    "    on = 'RID_Clinic',\n",
    "    how = 'left')"
   ]
  },
  {
   "cell_type": "markdown",
   "id": "ffc04913-4688-4f7b-991c-420b91426356",
   "metadata": {
    "jp-MarkdownHeadingCollapsed": true
   },
   "source": [
    "# For LAC dataset with matching"
   ]
  },
  {
   "cell_type": "code",
   "execution_count": 23,
   "id": "9ead0ede-d1ba-4002-9b4d-b65cd01d5d45",
   "metadata": {},
   "outputs": [
    {
     "ename": "NameError",
     "evalue": "name 'diagsTall' is not defined",
     "output_type": "error",
     "traceback": [
      "\u001b[0;31m---------------------------------------------------------------------------\u001b[0m",
      "\u001b[0;31mNameError\u001b[0m                                 Traceback (most recent call last)",
      "Cell \u001b[0;32mIn[23], line 13\u001b[0m\n\u001b[1;32m     11\u001b[0m cols \u001b[38;5;241m=\u001b[39m [\u001b[38;5;124m'\u001b[39m\u001b[38;5;124mSubject_RID\u001b[39m\u001b[38;5;124m'\u001b[39m, \u001b[38;5;124m'\u001b[39m\u001b[38;5;124mImage_RID\u001b[39m\u001b[38;5;124m'\u001b[39m, \u001b[38;5;124m'\u001b[39m\u001b[38;5;124mImage_Side\u001b[39m\u001b[38;5;124m'\u001b[39m, \u001b[38;5;124m'\u001b[39m\u001b[38;5;124mDiagnosis_Image\u001b[39m\u001b[38;5;124m'\u001b[39m]\n\u001b[1;32m     12\u001b[0m colDict \u001b[38;5;241m=\u001b[39m {}\n\u001b[0;32m---> 13\u001b[0m masterDF \u001b[38;5;241m=\u001b[39m updateCols(\u001b[43mdiagsTall\u001b[49m, cols, colDict)\n\u001b[1;32m     15\u001b[0m masterDF \u001b[38;5;241m=\u001b[39m pd\u001b[38;5;241m.\u001b[39mmerge( masterDF,\n\u001b[1;32m     16\u001b[0m         ds_bag\u001b[38;5;241m.\u001b[39mget_table_as_dataframe(\u001b[38;5;124m'\u001b[39m\u001b[38;5;124mSubject\u001b[39m\u001b[38;5;124m'\u001b[39m),\n\u001b[1;32m     17\u001b[0m         left_on \u001b[38;5;241m=\u001b[39m \u001b[38;5;124m'\u001b[39m\u001b[38;5;124mSubject_RID\u001b[39m\u001b[38;5;124m'\u001b[39m,\n\u001b[1;32m     18\u001b[0m         right_on \u001b[38;5;241m=\u001b[39m \u001b[38;5;124m'\u001b[39m\u001b[38;5;124mRID\u001b[39m\u001b[38;5;124m'\u001b[39m,\n\u001b[1;32m     19\u001b[0m         how \u001b[38;5;241m=\u001b[39m \u001b[38;5;124m'\u001b[39m\u001b[38;5;124mleft\u001b[39m\u001b[38;5;124m'\u001b[39m)\n\u001b[1;32m     21\u001b[0m cols\u001b[38;5;241m.\u001b[39mextend([\u001b[38;5;124m'\u001b[39m\u001b[38;5;124mSubject_ID\u001b[39m\u001b[38;5;124m'\u001b[39m,\u001b[38;5;124m'\u001b[39m\u001b[38;5;124mSubject_Gender\u001b[39m\u001b[38;5;124m'\u001b[39m,\u001b[38;5;124m'\u001b[39m\u001b[38;5;124mSubject_Ethnicity\u001b[39m\u001b[38;5;124m'\u001b[39m])\n",
      "\u001b[0;31mNameError\u001b[0m: name 'diagsTall' is not defined"
     ]
    }
   ],
   "source": [
    "# For building the new LAC dataset with matching\n",
    "\n",
    "# Merge datasets to create master dataframe\n",
    "# Used for unifying all data in order to make a matched dataset\n",
    "\n",
    "\n",
    "cols = ['Subject_RID', 'Image_RID', 'Image_Side', 'Diagnosis_Image']\n",
    "colDict = {}\n",
    "masterDF = updateCols(diagsTall, cols, colDict)\n",
    "\n",
    "masterDF = pd.merge( masterDF,\n",
    "        ds_bag.get_table_as_dataframe('Subject'),\n",
    "        left_on = 'Subject_RID',\n",
    "        right_on = 'RID',\n",
    "        how = 'left')\n",
    "\n",
    "cols.extend(['Subject_ID','Subject_Gender','Subject_Ethnicity'])\n",
    "colDict = {'Subject_ID':'EyePacs_ID'}\n",
    "masterDF = updateCols(masterDF, cols, colDict)\n",
    "\n",
    "masterDF = pd.merge( masterDF,\n",
    "        ds_bag.get_table_as_dataframe('Image'),\n",
    "        left_on = 'Image_RID',\n",
    "        right_on = 'RID',\n",
    "        suffixes = ('', '_right'),\n",
    "        how = 'left')\n",
    "\n",
    "cols.extend(['Observation'])\n",
    "colDict = {'Observation':'Observation_RID'}\n",
    "masterDF = updateCols(masterDF, cols, colDict)\n",
    "\n",
    "masterDF = pd.merge( masterDF,\n",
    "        ds_bag.get_table_as_dataframe('Observation'),\n",
    "        left_on = 'Observation_RID',\n",
    "        right_on = 'RID',\n",
    "        how = 'left')\n",
    "\n",
    "cols.extend(['date_of_encounter', 'Age'])\n",
    "masterDF = updateCols(masterDF, cols, colDict)\n",
    "\n",
    "patientDF = masterDF.drop_duplicates(subset=['Subject_RID', 'Diagnosis_Image']).reset_index() # patient level\n",
    "eyeDF = masterDF.drop_duplicates(subset=['Subject_RID', 'Diagnosis_Image', 'Image_Side']).reset_index() # eye level"
   ]
  },
  {
   "cell_type": "markdown",
   "id": "7a59b7c9-33e6-434a-8605-ec4517ee2079",
   "metadata": {},
   "source": [
    "# Select Test Set"
   ]
  },
  {
   "cell_type": "markdown",
   "id": "344d93b4-8d58-46d5-9db2-3039533353e6",
   "metadata": {},
   "source": [
    "# For USC Multimodal dataset healthy/glaucoma"
   ]
  },
  {
   "cell_type": "code",
   "execution_count": 145,
   "id": "8ba1fd7a-8dc4-4b01-b9c6-f7b77cbe34c1",
   "metadata": {},
   "outputs": [
    {
     "data": {
      "text/html": [
       "<div>\n",
       "<style scoped>\n",
       "    .dataframe tbody tr th:only-of-type {\n",
       "        vertical-align: middle;\n",
       "    }\n",
       "\n",
       "    .dataframe tbody tr th {\n",
       "        vertical-align: top;\n",
       "    }\n",
       "\n",
       "    .dataframe thead th {\n",
       "        text-align: right;\n",
       "    }\n",
       "</style>\n",
       "<table border=\"1\" class=\"dataframe\">\n",
       "  <thead>\n",
       "    <tr style=\"text-align: right;\">\n",
       "      <th></th>\n",
       "      <th>Subject</th>\n",
       "      <th>Observation</th>\n",
       "      <th>Image</th>\n",
       "      <th>Image_Side</th>\n",
       "      <th>RID_Clinic</th>\n",
       "      <th>CDR</th>\n",
       "      <th>Condition_Label</th>\n",
       "    </tr>\n",
       "  </thead>\n",
       "  <tbody>\n",
       "    <tr>\n",
       "      <th>0</th>\n",
       "      <td>2-7MEG</td>\n",
       "      <td>2-7STC</td>\n",
       "      <td>2-BDZG</td>\n",
       "      <td>Right</td>\n",
       "      <td>4-2RA4</td>\n",
       "      <td>0.6</td>\n",
       "      <td>POAG</td>\n",
       "    </tr>\n",
       "    <tr>\n",
       "      <th>1</th>\n",
       "      <td>2-7MEG</td>\n",
       "      <td>2-7STC</td>\n",
       "      <td>2-BMVC</td>\n",
       "      <td>Left</td>\n",
       "      <td>4-2RA2</td>\n",
       "      <td>0.85</td>\n",
       "      <td>POAG</td>\n",
       "    </tr>\n",
       "    <tr>\n",
       "      <th>2</th>\n",
       "      <td>2-7P4G</td>\n",
       "      <td>2-7XDA</td>\n",
       "      <td>2-BHEA</td>\n",
       "      <td>Right</td>\n",
       "      <td>4-2XHA</td>\n",
       "      <td>0.99</td>\n",
       "      <td>POAG</td>\n",
       "    </tr>\n",
       "    <tr>\n",
       "      <th>3</th>\n",
       "      <td>2-7P4G</td>\n",
       "      <td>2-7XDA</td>\n",
       "      <td>2-BWWG</td>\n",
       "      <td>Left</td>\n",
       "      <td>4-2XH8</td>\n",
       "      <td>0.9</td>\n",
       "      <td>POAG</td>\n",
       "    </tr>\n",
       "    <tr>\n",
       "      <th>4</th>\n",
       "      <td>2-7KYC</td>\n",
       "      <td>2-7RRC</td>\n",
       "      <td>2-C0V0</td>\n",
       "      <td>Right</td>\n",
       "      <td>4-2PQC</td>\n",
       "      <td>0.9</td>\n",
       "      <td>POAG</td>\n",
       "    </tr>\n",
       "    <tr>\n",
       "      <th>...</th>\n",
       "      <td>...</td>\n",
       "      <td>...</td>\n",
       "      <td>...</td>\n",
       "      <td>...</td>\n",
       "      <td>...</td>\n",
       "      <td>...</td>\n",
       "      <td>...</td>\n",
       "    </tr>\n",
       "    <tr>\n",
       "      <th>328</th>\n",
       "      <td>2-7NCY</td>\n",
       "      <td>2-7VVG</td>\n",
       "      <td>2-C31E</td>\n",
       "      <td>Left</td>\n",
       "      <td>4-2V9C</td>\n",
       "      <td></td>\n",
       "      <td>POAG</td>\n",
       "    </tr>\n",
       "    <tr>\n",
       "      <th>329</th>\n",
       "      <td>2-7MYG</td>\n",
       "      <td>2-7TWM</td>\n",
       "      <td>2-BMZ2</td>\n",
       "      <td>Right</td>\n",
       "      <td>4-2SW8</td>\n",
       "      <td>0.9</td>\n",
       "      <td>POAG</td>\n",
       "    </tr>\n",
       "    <tr>\n",
       "      <th>330</th>\n",
       "      <td>2-7MYG</td>\n",
       "      <td>2-7TWM</td>\n",
       "      <td>2-BH2M</td>\n",
       "      <td>Left</td>\n",
       "      <td>4-2SW6</td>\n",
       "      <td>0.85</td>\n",
       "      <td>POAG</td>\n",
       "    </tr>\n",
       "    <tr>\n",
       "      <th>331</th>\n",
       "      <td>2-7NZ2</td>\n",
       "      <td>2-7X1C</td>\n",
       "      <td>2-BYD0</td>\n",
       "      <td>Right</td>\n",
       "      <td>4-2X02</td>\n",
       "      <td>0.7</td>\n",
       "      <td>POAG</td>\n",
       "    </tr>\n",
       "    <tr>\n",
       "      <th>332</th>\n",
       "      <td>2-7NZ2</td>\n",
       "      <td>2-7X1C</td>\n",
       "      <td>2-BGY4</td>\n",
       "      <td>Left</td>\n",
       "      <td>4-2X00</td>\n",
       "      <td>0.7</td>\n",
       "      <td>POAG</td>\n",
       "    </tr>\n",
       "  </tbody>\n",
       "</table>\n",
       "<p>333 rows × 7 columns</p>\n",
       "</div>"
      ],
      "text/plain": [
       "    Subject Observation   Image Image_Side RID_Clinic   CDR Condition_Label\n",
       "0    2-7MEG      2-7STC  2-BDZG      Right     4-2RA4   0.6            POAG\n",
       "1    2-7MEG      2-7STC  2-BMVC       Left     4-2RA2  0.85            POAG\n",
       "2    2-7P4G      2-7XDA  2-BHEA      Right     4-2XHA  0.99            POAG\n",
       "3    2-7P4G      2-7XDA  2-BWWG       Left     4-2XH8   0.9            POAG\n",
       "4    2-7KYC      2-7RRC  2-C0V0      Right     4-2PQC   0.9            POAG\n",
       "..      ...         ...     ...        ...        ...   ...             ...\n",
       "328  2-7NCY      2-7VVG  2-C31E       Left     4-2V9C                  POAG\n",
       "329  2-7MYG      2-7TWM  2-BMZ2      Right     4-2SW8   0.9            POAG\n",
       "330  2-7MYG      2-7TWM  2-BH2M       Left     4-2SW6  0.85            POAG\n",
       "331  2-7NZ2      2-7X1C  2-BYD0      Right     4-2X02   0.7            POAG\n",
       "332  2-7NZ2      2-7X1C  2-BGY4       Left     4-2X00   0.7            POAG\n",
       "\n",
       "[333 rows x 7 columns]"
      ]
     },
     "execution_count": 145,
     "metadata": {},
     "output_type": "execute_result"
    }
   ],
   "source": [
    "masterDF"
   ]
  },
  {
   "cell_type": "code",
   "execution_count": 151,
   "id": "9cdd8b5d-2946-490a-963a-85257a9e341e",
   "metadata": {},
   "outputs": [
    {
     "data": {
      "text/plain": [
       "0      2-C0QJ\n",
       "1      2-BXQA\n",
       "2      2-C16W\n",
       "3      2-BJ0R\n",
       "4      2-BS4A\n",
       "        ...  \n",
       "295    4-YRPE\n",
       "296    4-YRY2\n",
       "297    4-YRT2\n",
       "298    4-YS06\n",
       "299    4-YS4E\n",
       "Length: 300, dtype: object"
      ]
     },
     "execution_count": 151,
     "metadata": {},
     "output_type": "execute_result"
    }
   ],
   "source": [
    "# For building the USC dataset for healthy/glaucoma\n",
    "\n",
    "# Select cases - 170 total, take 150\n",
    "caseDF = masterDF[ masterDF['Condition_Label'].isin( ['POAG', 'PACG'] ) ]\n",
    "caseDF = caseDF[ caseDF['CDR'] != '' ]\n",
    "caseDF = caseDF[ caseDF['CDR'] > 0.6 ]\n",
    "testDF = caseDF.sample( n = 150 , random_state = 42, replace = False )\n",
    "testImage_RIDS = testDF['Image']\n",
    "\n",
    "# Select controls\n",
    "testImage_RIDS = pd.concat( [ testImage_RIDS, \n",
    "        EA.filter_angle_2( ds_bag_healthy ).sample( n = 150 , random_state = 42, replace = False )['RID'] ], ignore_index=True )\n",
    "\n",
    "testImage_RIDS"
   ]
  },
  {
   "cell_type": "code",
   "execution_count": 155,
   "id": "281b40d1-a3fc-4bac-ba63-693a2da0128b",
   "metadata": {},
   "outputs": [
    {
     "data": {
      "text/plain": [
       "1      POAG\n",
       "3      POAG\n",
       "4      POAG\n",
       "5      POAG\n",
       "6      POAG\n",
       "       ... \n",
       "323    POAG\n",
       "324    POAG\n",
       "329    POAG\n",
       "330    POAG\n",
       "331    POAG\n",
       "Name: Condition_Label, Length: 150, dtype: object"
      ]
     },
     "execution_count": 155,
     "metadata": {},
     "output_type": "execute_result"
    }
   ],
   "source": [
    "masterDF[ masterDF['Image'].isin(testImage_RIDS) ]['Condition_Label']"
   ]
  },
  {
   "cell_type": "markdown",
   "id": "5b600cce-1ac5-4965-98d0-10b9cb98887b",
   "metadata": {
    "jp-MarkdownHeadingCollapsed": true
   },
   "source": [
    "# For LAC dataset with matching"
   ]
  },
  {
   "cell_type": "code",
   "execution_count": 106,
   "id": "cafa91a2-6a35-4fc7-a4b7-b7ae68d127b0",
   "metadata": {},
   "outputs": [],
   "source": [
    "# For building the new LAC dataset with matching\n",
    "# Select cases\n",
    "\n",
    "\n",
    "# Target total size ~600 images, so ~300 patients\n",
    "# Select ~150 case patients\n",
    "\n",
    "# Drop \"Indian subcontinent origin\" because there are so few, also none in original test set\n",
    "caseDF = patientDF[ patientDF['Diagnosis_Image'] == 'Suspected Glaucoma']\n",
    "caseDF = caseDF[ - caseDF['Subject_Ethnicity'].isin(['Latin American', 'Indian subcontinent origin', '']) ]\n",
    "\n",
    "# Drop cases if too many, for African, Asian, ethnicity not specified\n",
    "caseDF = caseDF.drop( caseDF[ caseDF['Subject_Ethnicity'] == 'African Descent'].iloc[0:45].index )\n",
    "caseDF = caseDF.drop( caseDF[ caseDF['Subject_Ethnicity'] == 'Asian'].iloc[0:22].index )\n",
    "caseDF = caseDF.drop( caseDF[ caseDF['Subject_Ethnicity'] == 'ethnicity not specified'].iloc[0:81].index )\n",
    "\n",
    "caseKey, caseCount = np.unique( caseDF['Subject_Ethnicity'], return_counts=True )\n",
    "caseCounts = dict( zip( caseKey, caseCount ))"
   ]
  },
  {
   "cell_type": "code",
   "execution_count": 107,
   "id": "6f2b1113-d2a4-4698-9de8-af7028362d93",
   "metadata": {},
   "outputs": [],
   "source": [
    "# For building the new LAC dataset with matching\n",
    "# Select controls\n",
    "\n",
    "\n",
    "cntrlRatio = 1  # meaning 1 case to 2 controls\n",
    "bins = list(range(0, 101, 10))  # age bins\n",
    "\n",
    "cntrlDF = patientDF[ patientDF['Diagnosis_Image'] == 'No Glaucoma']\n",
    "cntrlDF = cntrlDF[ - cntrlDF['Subject_Ethnicity'].isin(['Latin American', 'Indian subcontinent origin', 'Multi-racial', '']) ]\n",
    "\n",
    "cntrlKey, cntrlCount = np.unique( cntrlDF['Subject_Ethnicity'], return_counts=True )\n",
    "cntrlCounts = dict( zip( cntrlKey, cntrlCount ))\n",
    "\n",
    "cntrlRIDs = []\n",
    "for e in pd.unique( cntrlDF['Subject_Ethnicity'] ):\n",
    "    needMore = 0\n",
    "    if cntrlCounts[e] > (cntrlRatio * caseCounts[e]):\n",
    "        # Enough controls to try gender matching\n",
    "        for s in pd.unique( caseDF[ caseDF['Subject_Ethnicity'] == e ].loc[:,'Subject_Gender']):\n",
    "            tempCaseDF = caseDF[ (caseDF['Subject_Ethnicity'] == e) &  (caseDF['Subject_Gender'] == s) ]\n",
    "            tempCntrlDF = cntrlDF[ (cntrlDF['Subject_Ethnicity'] == e) & (cntrlDF['Subject_Gender'] == s) ]\n",
    "\n",
    "            if tempCntrlDF.shape[0] > (cntrlRatio * tempCaseDF.shape[0]):\n",
    "                # Enough to try age matching\n",
    "                i, c = np.unique( pd.cut(tempCaseDF['Age'], bins = bins), return_counts=True )\n",
    "                tCounts = dict( zip( i, c ))\n",
    "                cntrlAges = pd.cut(tempCntrlDF['Age'], bins = bins )\n",
    "                for ind in i:\n",
    "                    cntrlMatch = np.where( cntrlAges == ind )[0]\n",
    "                    if len(cntrlMatch) < ( cntrlRatio * tCounts[ind] ):\n",
    "                        # Not enough controls for this age bin matching, take all of them\n",
    "                        cntrlRIDs.extend( tempCntrlDF.loc[ cntrlAges.index[cntrlMatch]].loc[:,'Subject_RID'] )\n",
    "                        needMore = needMore + ( ( cntrlRatio * tCounts[ind] ) - len(cntrlMatch) )\n",
    "                    else:\n",
    "                        # More than enough controls for this age bin matching, only take enough\n",
    "                        cntrlRIDs.extend( tempCntrlDF.loc[ cntrlAges.index[cntrlMatch]].loc[:,'Subject_RID'].iloc[0:( cntrlRatio * tCounts[ind] )] )\n",
    "            \n",
    "                if needMore > 0:\n",
    "                    # Not enough were age matched, take more gender matched\n",
    "                    cntrlRIDs.extend( list(set(tempCntrlDF['Subject_RID']) - set(cntrlRIDs))[0:needMore] )\n",
    "                    needMore = 0\n",
    "\n",
    "            else:\n",
    "                # Not enough for gender + age matching in this gender, do ethnicity matching\n",
    "                # First take all for that gender, then use needMore\n",
    "                cntrlRIDs.extend(tempCntrlDF['Subject_RID'])\n",
    "                needMore = needMore + ( (cntrlRatio * tempCaseDF.shape[0]) - tempCntrlDF.shape[0] )\n",
    "\n",
    "        if needMore > 0:\n",
    "            # Not enough were gender matched, take more ethnicity matched\n",
    "            cntrlRIDs.extend( list( set(caseDF[caseDF['Subject_Ethnicity'] == e].loc[:,'Subject_RID']) - set(cntrlRIDs))[0:needMore] )\n",
    "            needMore = 0\n",
    "            \n",
    "    else:\n",
    "        # Not enough controls for ethnicity + gender + age matching, take all of them\n",
    "        cntrlRIDs.extend( cntrlDF[ cntrlDF['Subject_Ethnicity'] == e ].loc[:,'Subject_RID'] )"
   ]
  },
  {
   "cell_type": "code",
   "execution_count": 117,
   "id": "bcf273e6-c570-4092-b763-93325687bcbe",
   "metadata": {},
   "outputs": [
    {
     "data": {
      "text/plain": [
       "5       2-CDB4\n",
       "6       2-CDB4\n",
       "41      2-CDCE\n",
       "42      2-CDCE\n",
       "81      2-CDDW\n",
       "         ...  \n",
       "6968    2-CN8P\n",
       "6969    2-CN8P\n",
       "6985    2-CN9A\n",
       "6986    2-CN9A\n",
       "6987    2-CN9A\n",
       "Name: Subject_RID, Length: 645, dtype: object"
      ]
     },
     "execution_count": 117,
     "metadata": {},
     "output_type": "execute_result"
    }
   ],
   "source": [
    "# Put it all together in new TEST SET\n",
    "testDF = masterDF[ masterDF['Subject_RID'].isin( cntrlRIDs + list( caseDF['Subject_RID'] ) )]"
   ]
  },
  {
   "cell_type": "markdown",
   "id": "7b7f4c40-d50b-481a-b55b-d253ea01c37f",
   "metadata": {},
   "source": [
    "# Create Dataset"
   ]
  },
  {
   "cell_type": "code",
   "execution_count": 152,
   "id": "d6e047d0-e9b0-42cc-af13-a23ea24c6315",
   "metadata": {},
   "outputs": [],
   "source": [
    "\n",
    "\n",
    "# test_dataset = execution.create_dataset(['LAC', 'Test'], description='A race/gender/age matched test dataset')\n",
    "# EA.add_dataset_members( dataset_rid = test_dataset, members = testDF['Subject_RID'])\n",
    "\n",
    "test_dataset = execution.create_dataset(['USC', 'Test'], description='A test dataset for photograph interpretation for referable glaucoma - UPDATED TO ANGLE 2')\n",
    "EA.add_dataset_members( dataset_rid = test_dataset, members = testImage_RIDS )\n"
   ]
  },
  {
   "cell_type": "code",
   "execution_count": null,
   "id": "f85036bf-2e4f-44ed-ab5f-93ef38428a8b",
   "metadata": {},
   "outputs": [],
   "source": []
  }
 ],
 "metadata": {
  "kernelspec": {
   "display_name": "My TensorFlow (Conda)",
   "language": "python",
   "name": "my-tensorflow-conda"
  },
  "language_info": {
   "codemirror_mode": {
    "name": "ipython",
    "version": 3
   },
   "file_extension": ".py",
   "mimetype": "text/x-python",
   "name": "python",
   "nbconvert_exporter": "python",
   "pygments_lexer": "ipython3",
   "version": "3.10.13"
  }
 },
 "nbformat": 4,
 "nbformat_minor": 5
}
