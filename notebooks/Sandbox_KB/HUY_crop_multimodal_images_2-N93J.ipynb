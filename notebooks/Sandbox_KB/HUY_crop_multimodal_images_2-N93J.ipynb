{
 "cells": [
  {
   "cell_type": "code",
   "execution_count": null,
   "id": "88bfec52-cdba-4f8d-919f-a79ef124a0e8",
   "metadata": {},
   "outputs": [],
   "source": [
    "%load_ext autoreload\n",
    "%autoreload 2\n",
    "\n",
    "# # Update the load path so python can find modules for the model\n",
    "import sys\n",
    "from pathlib import Path\n",
    "sys.path.insert(0, str(Path.home() / \"eye-ai-ml\"))\n",
    "sys.path.insert(0, str(Path.home() / \"eye-ai-exec\"))"
   ]
  },
  {
   "cell_type": "code",
   "execution_count": null,
   "id": "bb792c6d-c5d6-4a15-915e-d901863fa5ec",
   "metadata": {},
   "outputs": [],
   "source": [
    "# Prerequisites\n",
    "import json\n",
    "import os\n",
    "from eye_ai.eye_ai import EyeAI\n",
    "import pandas as pd\n",
    "from pathlib import Path, PurePath\n",
    "import logging\n",
    "\n",
    "from deriva_ml import DatasetBag, Workflow, ExecutionConfiguration, DatasetVersion\n",
    "from deriva_ml import MLVocab as vc\n",
    "logging.basicConfig(level=logging.INFO, format='%(asctime)s - %(levelname)s - %(message)s', force=True)"
   ]
  },
  {
   "cell_type": "code",
   "execution_count": null,
   "id": "4909fad7-f14a-4276-a8c9-b2f91b29c753",
   "metadata": {},
   "outputs": [],
   "source": [
    "from deriva.core.utils.globus_auth_utils import GlobusNativeLogin\n",
    "catalog_id = \"eye-ai\" #@param\n",
    "host = 'www.eye-ai.org'\n",
    "\n",
    "\n",
    "gnl = GlobusNativeLogin(host=host)\n",
    "if gnl.is_logged_in([host]):\n",
    "    print(\"You are already logged in.\")\n",
    "else:\n",
    "    gnl.login([host], no_local_server=True, no_browser=True, refresh_tokens=True, update_bdbag_keychain=True)\n",
    "    print(\"Login Successful\")"
   ]
  },
  {
   "cell_type": "code",
   "execution_count": null,
   "id": "7246e454-9d83-4b52-af12-1d61b471cd8e",
   "metadata": {},
   "outputs": [],
   "source": [
    "cache_dir = '/data'\n",
    "working_dir = '/data'\n",
    "EA = EyeAI(hostname = host, catalog_id = catalog_id, cache_dir= cache_dir, working_dir=working_dir)"
   ]
  },
  {
   "cell_type": "code",
   "execution_count": null,
   "id": "00b2edfa-8a58-4a7a-b346-a0755da019c1",
   "metadata": {},
   "outputs": [],
   "source": [
    "datasets = [\n",
    "    '4-YQVM', # Healthy USC data\n",
    "    ]\n",
    "\n",
    "to_be_download = []\n",
    "for dataset in datasets:\n",
    "    ds_dict = {\n",
    "        'rid': dataset,\n",
    "        'materialize':True,\n",
    "        'version':EA.dataset_version(dataset_rid=dataset),\n",
    "    }\n",
    "    to_be_download.append(ds_dict)\n",
    "\n",
    "workflow_instance = EA.create_workflow(\n",
    "    name=\"Cropping Image\",\n",
    "    workflow_type=\"Image Cropping\"\n",
    ")\n",
    "\n",
    "config = ExecutionConfiguration(\n",
    "    datasets=to_be_download,\n",
    "    assets = ['2-4JR6',],\n",
    "    workflow=workflow_instance,\n",
    "    description=\"Instance of cropping multimodal images.\")\n",
    "\n",
    "execution = EA.create_execution(config)"
   ]
  },
  {
   "cell_type": "code",
   "execution_count": null,
   "id": "e2d5a104-349c-48a7-8a8c-8ba1e249f901",
   "metadata": {},
   "outputs": [],
   "source": [
    "print(execution)"
   ]
  },
  {
   "cell_type": "code",
   "execution_count": null,
   "id": "eb801487-6480-486b-b7ab-00f9abea7ecf",
   "metadata": {},
   "outputs": [],
   "source": [
    "execution._working_dir"
   ]
  },
  {
   "cell_type": "code",
   "execution_count": null,
   "id": "090db8d3-775b-4b88-9a75-beaa63f584b3",
   "metadata": {},
   "outputs": [],
   "source": [
    "ds_bag = execution.datasets[0]\n",
    "crop_image_model =  execution.asset_paths[\"Execution_Asset\"][0]"
   ]
  },
  {
   "cell_type": "code",
   "execution_count": null,
   "id": "ea8e311b-c7ad-4f20-8b60-df91f8a369a6",
   "metadata": {},
   "outputs": [],
   "source": [
    "df = ds_bag.get_table_as_dataframe(\"Image\")"
   ]
  },
  {
   "cell_type": "code",
   "execution_count": null,
   "id": "32f244c2-6d44-413b-84ae-af729c47f998",
   "metadata": {},
   "outputs": [],
   "source": [
    "df.rename(columns={'RID': 'RID_Image'}, inplace=True)"
   ]
  },
  {
   "cell_type": "code",
   "execution_count": null,
   "id": "adbaa602-7011-4c1d-842e-2c53ef86eec8",
   "metadata": {},
   "outputs": [],
   "source": [
    "from pathlib import Path\n",
    "working_dir = Path(\"~/working_dir\")\n",
    "csv_path = execution._working_dir / \"df.csv\"\n",
    "df.to_csv(csv_path, index=False)"
   ]
  },
  {
   "cell_type": "code",
   "execution_count": null,
   "id": "a178c2f6-33e4-4e33-a2e4-523dfad9f680",
   "metadata": {},
   "outputs": [],
   "source": [
    "table_name = 'Image'\n",
    "EA.find_features(table_name)"
   ]
  },
  {
   "cell_type": "code",
   "execution_count": null,
   "id": "536de7ee-527e-4cd4-b67f-48ddfff79100",
   "metadata": {},
   "outputs": [],
   "source": [
    "ImageAnnotationFeature = EA.feature_record_class(\"Image\", \"Annotation\")"
   ]
  },
  {
   "cell_type": "code",
   "execution_count": null,
   "id": "c1e15835-9f9b-4edd-935c-ed76c8d240e5",
   "metadata": {},
   "outputs": [],
   "source": [
    "output = execution._working_dir / \"image_svg_output\"\n",
    "output.mkdir(parents= True, exist_ok=True)"
   ]
  },
  {
   "cell_type": "code",
   "execution_count": null,
   "id": "a7af5530-cb5f-4105-8f8b-453cce78f21c",
   "metadata": {},
   "outputs": [],
   "source": [
    "\n",
    "from models.vgg19.vgg19_disk_crop_predict import preprocess_and_crop\n",
    "with execution.execute() as exec:\n",
    "    preprocess_and_crop(\n",
    "      ds_bag,\n",
    "      csv_path,\n",
    "      execution._working_dir / 'output_train.csv',\n",
    "      'template.jpg',\n",
    "      str(output),\n",
    "      crop_image_model,\n",
    "      \"2-NK8E\",\n",
    "      \"Optic Nerve\",\n",
    "      False\n",
    "      )\n",
    "    "
   ]
  },
  {
   "cell_type": "code",
   "execution_count": null,
   "id": "38605f46-c5f8-48b2-9794-a77c132cefb7",
   "metadata": {},
   "outputs": [],
   "source": [
    "angle_2_only = EA.filter_angle_2(ds_bag)"
   ]
  },
  {
   "cell_type": "code",
   "execution_count": null,
   "id": "ee0e4eae-268f-41ad-8699-8c4b5ffa6edb",
   "metadata": {},
   "outputs": [],
   "source": [
    "csv_output  = Path(execution._working_dir / 'output_train.csv')"
   ]
  },
  {
   "cell_type": "code",
   "execution_count": null,
   "id": "22d485b4-f5bb-4d2d-a7e8-40e99dd57688",
   "metadata": {},
   "outputs": [],
   "source": [
    "df_output = pd.read_csv(csv_output)"
   ]
  },
  {
   "cell_type": "code",
   "execution_count": null,
   "id": "ca305eab-5f81-415e-920a-c0b36fea3504",
   "metadata": {},
   "outputs": [],
   "source": [
    "filtered_resulted_df = df_output[df_output[\"Image RID\"].isin(angle_2_only[\"RID\"])]"
   ]
  },
  {
   "cell_type": "code",
   "execution_count": null,
   "id": "bd8af492-b43d-45ed-869c-b0bbe8e38dfc",
   "metadata": {},
   "outputs": [],
   "source": [
    "cropping_func_map_output = dict(zip(filtered_resulted_df[\"Image RID\"], filtered_resulted_df[\"Worked Image Cropping Function\"]))"
   ]
  },
  {
   "cell_type": "code",
   "execution_count": null,
   "id": "5be3e794-5e02-4fc7-9be1-768bda16645b",
   "metadata": {},
   "outputs": [],
   "source": [
    "import shutil \n",
    "\n",
    "saved_svg_names = filtered_resulted_df[\"Saved SVG Name\"].values\n",
    "\n",
    "bounding_box_file_paths = []\n",
    "for file_name in os.listdir(output):\n",
    "    if file_name in saved_svg_names:\n",
    "        full_path_name = os.path.join(output, file_name)\n",
    "        \n",
    "        bounding_box_file = execution.asset_file_path(\n",
    "            \"Fundus_Bounding_Box\", full_path_name, \n",
    "        )\n",
    "        bounding_box_file_paths.append(bounding_box_file)"
   ]
  },
  {
   "cell_type": "code",
   "execution_count": null,
   "id": "9466abcb-2b33-4c4c-bd49-7335fab62d5c",
   "metadata": {},
   "outputs": [],
   "source": [
    "image_rids = []\n",
    "angle_2_rids = filtered_resulted_df[\"Image RID\"].values\n",
    "\n",
    "for file_name in os.listdir(output):\n",
    "    rid = file_name.split(\"_\")[1].split('.')[0]\n",
    "    if rid in angle_2_rids:\n",
    "        image_rids.append(rid)\n",
    "len(image_rids)"
   ]
  },
  {
   "cell_type": "code",
   "execution_count": null,
   "id": "93794f5d-70ab-4106-8c6e-449ef91ac7cf",
   "metadata": {},
   "outputs": [],
   "source": [
    "image_bounding_box_feature_list = []\n",
    "\n",
    "for image_rid, asset_file_path in zip(image_rids, bounding_box_file_paths):\n",
    "    expected_name = f\"Cropped_{image_rid}.svg\"\n",
    "    actual_name = os.path.basename(asset_file_path)\n",
    "    assert expected_name == actual_name, f\"Expected {expected_name}, got {actual_name}\"\n",
    "\n",
    "    annotation_func = cropping_func_map_output.get(image_rid)\n",
    "    if annotation_func:\n",
    "        image_bounding_box_feature_list.append(\n",
    "            ImageAnnotationFeature(\n",
    "                Image=image_rid,\n",
    "                Execution=execution.execution_rid,\n",
    "                Fundus_Bounding_Box=asset_file_path,\n",
    "                Annotation_Function=annotation_func,\n",
    "                Annotation_Type='Optic Nerve',\n",
    "            )\n",
    "        )\n"
   ]
  },
  {
   "cell_type": "code",
   "execution_count": null,
   "id": "faab0368-0d0c-45b6-87ca-222cf650b333",
   "metadata": {},
   "outputs": [],
   "source": [
    "with execution.execute() as execution:\n",
    "    execution.add_features(image_bounding_box_feature_list)"
   ]
  },
  {
   "cell_type": "code",
   "execution_count": null,
   "id": "90a35548-5d8e-4243-bea2-fa70e79e0417",
   "metadata": {},
   "outputs": [],
   "source": [
    "execution.upload_execution_outputs()"
   ]
  },
  {
   "cell_type": "code",
   "execution_count": null,
   "id": "08dfd563-8297-4941-837c-45232bad1e08",
   "metadata": {},
   "outputs": [],
   "source": []
  }
 ],
 "metadata": {
  "language_info": {
   "name": "python"
  }
 },
 "nbformat": 4,
 "nbformat_minor": 5
}
