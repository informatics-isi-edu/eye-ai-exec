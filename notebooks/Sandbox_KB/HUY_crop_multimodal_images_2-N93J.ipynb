{
 "cells": [
  {
   "cell_type": "code",
   "execution_count": 23,
   "id": "88bfec52-cdba-4f8d-919f-a79ef124a0e8",
   "metadata": {},
   "outputs": [
    {
     "name": "stdout",
     "output_type": "stream",
     "text": [
      "The autoreload extension is already loaded. To reload it, use:\n",
      "  %reload_ext autoreload\n"
     ]
    }
   ],
   "source": [
    "repo_dir = \"Repos\"   # Set this to be where your github repos are located.\n",
    "%load_ext autoreload\n",
    "%autoreload 2\n",
    "\n",
    "# # Update the load path so python can find modules for the model\n",
    "import sys\n",
    "from pathlib import Path\n",
    "sys.path.insert(0, str(Path.home() / repo_dir / \"eye-ai-ml\"))\n",
    "sys.path.insert(0, str(Path.home() / repo_dir / \"eye-ai-exec\"))"
   ]
  },
  {
   "cell_type": "code",
   "execution_count": 24,
   "id": "bb792c6d-c5d6-4a15-915e-d901863fa5ec",
   "metadata": {},
   "outputs": [],
   "source": [
    "# Prerequisites\n",
    "import json\n",
    "import os\n",
    "from eye_ai.eye_ai import EyeAI\n",
    "import pandas as pd\n",
    "from pathlib import Path, PurePath\n",
    "import logging\n",
    "\n",
    "from deriva_ml import DatasetBag, Workflow, ExecutionConfiguration, DatasetVersion\n",
    "from deriva_ml import MLVocab as vc\n",
    "logging.basicConfig(level=logging.INFO, format='%(asctime)s - %(levelname)s - %(message)s', force=True)"
   ]
  },
  {
   "cell_type": "code",
   "execution_count": 25,
   "id": "4909fad7-f14a-4276-a8c9-b2f91b29c753",
   "metadata": {},
   "outputs": [
    {
     "name": "stderr",
     "output_type": "stream",
     "text": [
      "2025-09-22 14:30:58,706 - INFO - Creating client of type <class 'globus_sdk.services.auth.client.native_client.NativeAppAuthClient'> for service \"auth\"\n",
      "2025-09-22 14:30:58,707 - INFO - Finished initializing AuthLoginClient. client_id='8ef15ba9-2b4a-469c-a163-7fd910c9d111', type(authorizer)=<class 'globus_sdk.authorizers.base.NullAuthorizer'>\n"
     ]
    },
    {
     "name": "stdout",
     "output_type": "stream",
     "text": [
      "You are already logged in.\n"
     ]
    }
   ],
   "source": [
    "from deriva.core.utils.globus_auth_utils import GlobusNativeLogin\n",
    "catalog_id = \"eye-ai\" #@param\n",
    "host = 'www.eye-ai.org'\n",
    "\n",
    "\n",
    "gnl = GlobusNativeLogin(host=host)\n",
    "if gnl.is_logged_in([host]):\n",
    "    print(\"You are already logged in.\")\n",
    "else:\n",
    "    gnl.login([host], no_local_server=True, no_browser=True, refresh_tokens=True, update_bdbag_keychain=True)\n",
    "    print(\"Login Successful\")"
   ]
  },
  {
   "cell_type": "code",
   "execution_count": 26,
   "id": "7246e454-9d83-4b52-af12-1d61b471cd8e",
   "metadata": {},
   "outputs": [
    {
     "name": "stderr",
     "output_type": "stream",
     "text": [
      "2025-09-22 14:30:59,627 - INFO - Creating client of type <class 'globus_sdk.services.auth.client.native_client.NativeAppAuthClient'> for service \"auth\"\n",
      "2025-09-22 14:30:59,628 - INFO - Finished initializing AuthLoginClient. client_id='8ef15ba9-2b4a-469c-a163-7fd910c9d111', type(authorizer)=<class 'globus_sdk.authorizers.base.NullAuthorizer'>\n"
     ]
    }
   ],
   "source": [
    "cache_dir = '/data'\n",
    "working_dir = '/data'\n",
    "EA = EyeAI(hostname = host, catalog_id = catalog_id, cache_dir= cache_dir, working_dir=working_dir)"
   ]
  },
  {
   "cell_type": "code",
   "execution_count": 27,
   "id": "00b2edfa-8a58-4a7a-b346-a0755da019c1",
   "metadata": {},
   "outputs": [
    {
     "name": "stderr",
     "output_type": "stream",
     "text": [
      "2025-09-22 14:31:01,617 - WARNING - File /home/kb_766/Repos/eye-ai-exec/notebooks/Sandbox_KB/HUY_crop_multimodal_images_2-N93J.ipynb has been modified since last commit. Consider commiting before executing\n"
     ]
    },
    {
     "data": {
      "text/markdown": [
       "Execution RID: https://www.eye-ai.org/id/eye-ai/5-51CA@33Y-TM97-FBEY"
      ],
      "text/plain": [
       "<IPython.core.display.Markdown object>"
      ]
     },
     "metadata": {},
     "output_type": "display_data"
    },
    {
     "name": "stderr",
     "output_type": "stream",
     "text": [
      "2025-09-22 14:31:01,810 - INFO - Materialize bag 4-Z6K8... \n",
      "2025-09-22 14:31:02,122 - INFO - Creating client of type <class 'globus_sdk.services.auth.client.native_client.NativeAppAuthClient'> for service \"auth\"\n",
      "2025-09-22 14:31:02,122 - INFO - Finished initializing AuthLoginClient. client_id='8ef15ba9-2b4a-469c-a163-7fd910c9d111', type(authorizer)=<class 'globus_sdk.authorizers.base.NullAuthorizer'>\n",
      "2025-09-22 14:31:03,844 - INFO - Using cached bag for  4-Z6K8 Version:0.5.2\n",
      "2025-09-22 14:31:03,845 - INFO - Loading /data/4-Z6K8_49330658558098c69ec955ecae8b4c1a3f6c467acc788fc80427df570333a653/Dataset_4-Z6K8\n",
      "2025-09-22 14:31:04,354 - INFO - Creating new database for dataset: 4-Z6K8 in /data/kb_766/EyeAI_working/4-Z6K8@33X-PGTB-JB7R.db\n",
      "2025-09-22 14:31:04,402 - INFO - Downloading assets ...\n",
      "2025-09-22 14:31:08,356 - INFO - File [/data/kb_766/EyeAI_working/deriva-ml/execution/5-51CA/downloaded-assets/Execution_Asset/optic_disk_crop_model.hdf5] transfer successful. 76.75 MB transferred at 21.87 MB/second. Elapsed time: 0:00:03.509037.\n",
      "2025-09-22 14:31:08,960 - INFO - Initialize status finished.\n"
     ]
    }
   ],
   "source": [
    "datasets = [\n",
    "    '4-Z6K8', # New LAC balanced test set\n",
    "    ]\n",
    "\n",
    "to_be_download = []\n",
    "for dataset in datasets:\n",
    "    ds_dict = {\n",
    "        'rid': dataset,\n",
    "        'materialize':True,\n",
    "        'version':EA.dataset_version(dataset_rid=dataset),\n",
    "    }\n",
    "    to_be_download.append(ds_dict)\n",
    "\n",
    "workflow_instance = EA.create_workflow(\n",
    "    name=\"Cropping Image\",\n",
    "    workflow_type=\"Image Cropping\"\n",
    ")\n",
    "\n",
    "config = ExecutionConfiguration(\n",
    "    datasets=to_be_download,\n",
    "    assets = ['2-4JR6',],\n",
    "    workflow=workflow_instance,\n",
    "    description=\"Instance of cropping multimodal images.\")\n",
    "\n",
    "execution = EA.create_execution(config)"
   ]
  },
  {
   "cell_type": "code",
   "execution_count": 28,
   "id": "e2d5a104-349c-48a7-8a8c-8ba1e249f901",
   "metadata": {},
   "outputs": [
    {
     "name": "stdout",
     "output_type": "stream",
     "text": [
      "caching_dir: /data\n",
      "_working_dir: /data/kb_766/EyeAI_working\n",
      "execution_rid: 5-51CA\n",
      "workflow_rid: 5-515W\n",
      "asset_paths: {'Execution_Asset': [AssetFilePath('/data/kb_766/EyeAI_working/deriva-ml/execution/5-51CA/downloaded-assets/Execution_Asset/optic_disk_crop_model.hdf5')]}\n",
      "configuration: datasets=[DatasetSpec(rid='4-Z6K8', materialize=True, version=DatasetVersion(major=0, minor=5, patch=2))] assets=['2-4JR6'] workflow=Workflow(name='Cropping Image', url='https://github.com/informatics-isi-edu/eye-ai-exec/blob/fd01faedf2c3c685e542653216eaddb888de65ac--/notebooks/Sandbox_KB/HUY_crop_multimodal_images_2-N93J.ipynb', workflow_type='Image Cropping', version=None, description='', rid=None, checksum='b6703c771197011829f71dcce7af7028758d462f', is_notebook=True) parameters={} description='Instance of cropping multimodal images.' argv=['/home/kb_766/.conda/envs/my-tensorflow-conda/lib/python3.10/site-packages/ipykernel_launcher.py', '-f', '/home/kb_766/.local/share/jupyter/runtime/kernel-ed5f8e03-579c-4db3-99fb-9511a8b79ff1.json']\n"
     ]
    }
   ],
   "source": [
    "print(execution)"
   ]
  },
  {
   "cell_type": "code",
   "execution_count": 29,
   "id": "eb801487-6480-486b-b7ab-00f9abea7ecf",
   "metadata": {},
   "outputs": [
    {
     "data": {
      "text/plain": [
       "PosixPath('/data/kb_766/EyeAI_working')"
      ]
     },
     "execution_count": 29,
     "metadata": {},
     "output_type": "execute_result"
    }
   ],
   "source": [
    "execution._working_dir"
   ]
  },
  {
   "cell_type": "code",
   "execution_count": 30,
   "id": "090db8d3-775b-4b88-9a75-beaa63f584b3",
   "metadata": {},
   "outputs": [],
   "source": [
    "ds_bag = execution.datasets[0]\n",
    "crop_image_model =  execution.asset_paths[\"Execution_Asset\"][0]"
   ]
  },
  {
   "cell_type": "code",
   "execution_count": 31,
   "id": "ea8e311b-c7ad-4f20-8b60-df91f8a369a6",
   "metadata": {},
   "outputs": [],
   "source": [
    "df = ds_bag.get_table_as_dataframe(\"Image\")"
   ]
  },
  {
   "cell_type": "code",
   "execution_count": 32,
   "id": "32f244c2-6d44-413b-84ae-af729c47f998",
   "metadata": {},
   "outputs": [],
   "source": [
    "df.rename(columns={'RID': 'RID_Image'}, inplace=True)"
   ]
  },
  {
   "cell_type": "code",
   "execution_count": 13,
   "id": "adbaa602-7011-4c1d-842e-2c53ef86eec8",
   "metadata": {},
   "outputs": [],
   "source": [
    "from pathlib import Path\n",
    "working_dir = Path(\"~/working_dir\")\n",
    "csv_path = execution._working_dir / \"df.csv\"\n",
    "df.to_csv(csv_path, index=False)"
   ]
  },
  {
   "cell_type": "code",
   "execution_count": 33,
   "id": "a178c2f6-33e4-4e33-a2e4-523dfad9f680",
   "metadata": {},
   "outputs": [
    {
     "data": {
      "text/plain": [
       "[Feature(target_table=Image, feature_name=Annotation, feature_table=Annotation),\n",
       " Feature(target_table=Image, feature_name=Image_Diagnosis, feature_table=Image_Diagnosis),\n",
       " Feature(target_table=Image, feature_name=Fundus_Laterality, feature_table=Execution_Image_Fundus_Laterality),\n",
       " Feature(target_table=Image, feature_name=Fundus_Angle, feature_table=Execution_Image_Fundus_Angle)]"
      ]
     },
     "execution_count": 33,
     "metadata": {},
     "output_type": "execute_result"
    }
   ],
   "source": [
    "table_name = 'Image'\n",
    "EA.find_features(table_name)"
   ]
  },
  {
   "cell_type": "code",
   "execution_count": 34,
   "id": "536de7ee-527e-4cd4-b67f-48ddfff79100",
   "metadata": {},
   "outputs": [],
   "source": [
    "ImageAnnotationFeature = EA.feature_record_class(\"Image\", \"Annotation\")"
   ]
  },
  {
   "cell_type": "code",
   "execution_count": 16,
   "id": "c1e15835-9f9b-4edd-935c-ed76c8d240e5",
   "metadata": {},
   "outputs": [],
   "source": [
    "output = execution._working_dir / \"image_svg_output\"\n",
    "output.mkdir(parents= True, exist_ok=True)"
   ]
  },
  {
   "cell_type": "code",
   "execution_count": null,
   "id": "a7af5530-cb5f-4105-8f8b-453cce78f21c",
   "metadata": {},
   "outputs": [
    {
     "name": "stderr",
     "output_type": "stream",
     "text": [
      "2025-09-22 11:44:29.565274: E external/local_xla/xla/stream_executor/cuda/cuda_dnn.cc:9261] Unable to register cuDNN factory: Attempting to register factory for plugin cuDNN when one has already been registered\n",
      "2025-09-22 11:44:29.565344: E external/local_xla/xla/stream_executor/cuda/cuda_fft.cc:607] Unable to register cuFFT factory: Attempting to register factory for plugin cuFFT when one has already been registered\n",
      "2025-09-22 11:44:29.690901: E external/local_xla/xla/stream_executor/cuda/cuda_blas.cc:1515] Unable to register cuBLAS factory: Attempting to register factory for plugin cuBLAS when one has already been registered\n",
      "2025-09-22 11:44:29.989728: I tensorflow/core/platform/cpu_feature_guard.cc:182] This TensorFlow binary is optimized to use available CPU instructions in performance-critical operations.\n",
      "To enable the following instructions: AVX2 FMA, in other operations, rebuild TensorFlow with the appropriate compiler flags.\n",
      "2025-09-22 11:44:31.698080: W tensorflow/compiler/tf2tensorrt/utils/py_utils.cc:38] TF-TRT Warning: Could not find TensorRT\n",
      "2025-09-22 11:44:33,346 - INFO - Start execution  ...\n",
      "2025-09-22 11:44:33,472 - INFO - Start execution  ...\n",
      "2025-09-22 11:44:33.601758: I external/local_xla/xla/stream_executor/cuda/cuda_executor.cc:901] successful NUMA node read from SysFS had negative value (-1), but there must be at least one NUMA node, so returning NUMA node zero. See more at https://github.com/torvalds/linux/blob/v6.0/Documentation/ABI/testing/sysfs-bus-pci#L344-L355\n",
      "2025-09-22 11:44:33.930182: I external/local_xla/xla/stream_executor/cuda/cuda_executor.cc:901] successful NUMA node read from SysFS had negative value (-1), but there must be at least one NUMA node, so returning NUMA node zero. See more at https://github.com/torvalds/linux/blob/v6.0/Documentation/ABI/testing/sysfs-bus-pci#L344-L355\n",
      "2025-09-22 11:44:33.931879: I external/local_xla/xla/stream_executor/cuda/cuda_executor.cc:901] successful NUMA node read from SysFS had negative value (-1), but there must be at least one NUMA node, so returning NUMA node zero. See more at https://github.com/torvalds/linux/blob/v6.0/Documentation/ABI/testing/sysfs-bus-pci#L344-L355\n",
      "2025-09-22 11:44:33.934971: I external/local_xla/xla/stream_executor/cuda/cuda_executor.cc:901] successful NUMA node read from SysFS had negative value (-1), but there must be at least one NUMA node, so returning NUMA node zero. See more at https://github.com/torvalds/linux/blob/v6.0/Documentation/ABI/testing/sysfs-bus-pci#L344-L355\n",
      "2025-09-22 11:44:33.936478: I external/local_xla/xla/stream_executor/cuda/cuda_executor.cc:901] successful NUMA node read from SysFS had negative value (-1), but there must be at least one NUMA node, so returning NUMA node zero. See more at https://github.com/torvalds/linux/blob/v6.0/Documentation/ABI/testing/sysfs-bus-pci#L344-L355\n",
      "2025-09-22 11:44:33.937869: I external/local_xla/xla/stream_executor/cuda/cuda_executor.cc:901] successful NUMA node read from SysFS had negative value (-1), but there must be at least one NUMA node, so returning NUMA node zero. See more at https://github.com/torvalds/linux/blob/v6.0/Documentation/ABI/testing/sysfs-bus-pci#L344-L355\n",
      "2025-09-22 11:44:34.087361: I external/local_xla/xla/stream_executor/cuda/cuda_executor.cc:901] successful NUMA node read from SysFS had negative value (-1), but there must be at least one NUMA node, so returning NUMA node zero. See more at https://github.com/torvalds/linux/blob/v6.0/Documentation/ABI/testing/sysfs-bus-pci#L344-L355\n",
      "2025-09-22 11:44:34.088822: I external/local_xla/xla/stream_executor/cuda/cuda_executor.cc:901] successful NUMA node read from SysFS had negative value (-1), but there must be at least one NUMA node, so returning NUMA node zero. See more at https://github.com/torvalds/linux/blob/v6.0/Documentation/ABI/testing/sysfs-bus-pci#L344-L355\n",
      "2025-09-22 11:44:34.090204: I external/local_xla/xla/stream_executor/cuda/cuda_executor.cc:901] successful NUMA node read from SysFS had negative value (-1), but there must be at least one NUMA node, so returning NUMA node zero. See more at https://github.com/torvalds/linux/blob/v6.0/Documentation/ABI/testing/sysfs-bus-pci#L344-L355\n",
      "2025-09-22 11:44:34.092147: I tensorflow/core/common_runtime/gpu/gpu_device.cc:1929] Created device /job:localhost/replica:0/task:0/device:GPU:0 with 6251 MB memory:  -> device: 0, name: NVIDIA A10G, pci bus id: 0000:00:1e.0, compute capability: 8.6\n",
      "2025-09-22 11:44:35,307 - INFO - Processing image /data/4-Z6K8_49330658558098c69ec955ecae8b4c1a3f6c467acc788fc80427df570333a653/Dataset_4-Z6K8/data/asset/Image/1008682_1451992_14434210_Right Field 2.jpg : , trial 1, color channel grey, resize function imgResize_primary\n",
      "2025-09-22 11:44:36.315475: I external/local_xla/xla/stream_executor/cuda/cuda_dnn.cc:454] Loaded cuDNN version 8907\n"
     ]
    },
    {
     "name": "stdout",
     "output_type": "stream",
     "text": [
      "1/1 [==============================] - 1s 1s/step\n"
     ]
    },
    {
     "name": "stderr",
     "output_type": "stream",
     "text": [
      "2025-09-22 11:44:37,550 - INFO - SVG for 2-CXEE saved.\n",
      "2025-09-22 11:44:37,668 - INFO - Processing image /data/4-Z6K8_49330658558098c69ec955ecae8b4c1a3f6c467acc788fc80427df570333a653/Dataset_4-Z6K8/data/asset/Image/1008682_1451992_14434212_Left Field 2.jpg : , trial 1, color channel grey, resize function imgResize_primary\n"
     ]
    },
    {
     "name": "stdout",
     "output_type": "stream",
     "text": [
      "1/1 [==============================] - 0s 21ms/step\n"
     ]
    },
    {
     "name": "stderr",
     "output_type": "stream",
     "text": [
      "2025-09-22 11:44:38,636 - INFO - SVG for 2-CXEJ saved.\n",
      "2025-09-22 11:44:38,754 - INFO - Processing image /data/4-Z6K8_49330658558098c69ec955ecae8b4c1a3f6c467acc788fc80427df570333a653/Dataset_4-Z6K8/data/asset/Image/1008828_1452223_14435798_Right Field 2.jpg : , trial 1, color channel grey, resize function imgResize_primary\n"
     ]
    },
    {
     "name": "stdout",
     "output_type": "stream",
     "text": [
      "1/1 [==============================] - 0s 21ms/step\n"
     ]
    },
    {
     "name": "stderr",
     "output_type": "stream",
     "text": [
      "2025-09-22 11:44:39,641 - INFO - SVG for 2-CXFM saved.\n",
      "2025-09-22 11:44:39,759 - INFO - Processing image /data/4-Z6K8_49330658558098c69ec955ecae8b4c1a3f6c467acc788fc80427df570333a653/Dataset_4-Z6K8/data/asset/Image/1008828_1452223_14435801_Left Field 2.jpg : , trial 1, color channel grey, resize function imgResize_primary\n"
     ]
    },
    {
     "name": "stdout",
     "output_type": "stream",
     "text": [
      "1/1 [==============================] - 0s 21ms/step\n"
     ]
    },
    {
     "name": "stderr",
     "output_type": "stream",
     "text": [
      "2025-09-22 11:44:40,543 - INFO - SVG for 2-CXFT saved.\n",
      "2025-09-22 11:44:40,745 - INFO - Processing image /data/4-Z6K8_49330658558098c69ec955ecae8b4c1a3f6c467acc788fc80427df570333a653/Dataset_4-Z6K8/data/asset/Image/1010224_1454277_14449752_Right Field 2.jpg : , trial 1, color channel grey, resize function imgResize_primary\n"
     ]
    },
    {
     "name": "stdout",
     "output_type": "stream",
     "text": [
      "1/1 [==============================] - 0s 21ms/step\n"
     ]
    },
    {
     "name": "stderr",
     "output_type": "stream",
     "text": [
      "2025-09-22 11:44:41,726 - INFO - SVG for 2-CXH4 saved.\n",
      "2025-09-22 11:44:41,926 - INFO - Processing image /data/4-Z6K8_49330658558098c69ec955ecae8b4c1a3f6c467acc788fc80427df570333a653/Dataset_4-Z6K8/data/asset/Image/1010224_1454277_14449753_Left Field 2.jpg : , trial 1, color channel grey, resize function imgResize_primary\n"
     ]
    },
    {
     "name": "stdout",
     "output_type": "stream",
     "text": [
      "1/1 [==============================] - 0s 20ms/step\n"
     ]
    },
    {
     "name": "stderr",
     "output_type": "stream",
     "text": [
      "2025-09-22 11:44:42,709 - INFO - SVG for 2-CXH6 saved.\n",
      "2025-09-22 11:44:42,915 - INFO - Processing image /data/4-Z6K8_49330658558098c69ec955ecae8b4c1a3f6c467acc788fc80427df570333a653/Dataset_4-Z6K8/data/asset/Image/1011417_1456094_14461552_Right Field 2.jpg : , trial 1, color channel grey, resize function imgResize_primary\n"
     ]
    },
    {
     "name": "stdout",
     "output_type": "stream",
     "text": [
      "1/1 [==============================] - 0s 20ms/step\n"
     ]
    },
    {
     "name": "stderr",
     "output_type": "stream",
     "text": [
      "2025-09-22 11:44:43,949 - INFO - SVG for 2-CXK0 saved.\n",
      "2025-09-22 11:44:44,158 - INFO - Processing image /data/4-Z6K8_49330658558098c69ec955ecae8b4c1a3f6c467acc788fc80427df570333a653/Dataset_4-Z6K8/data/asset/Image/1011417_1456094_14461556_Left Field 2.jpg : , trial 1, color channel grey, resize function imgResize_primary\n"
     ]
    },
    {
     "name": "stdout",
     "output_type": "stream",
     "text": [
      "1/1 [==============================] - 0s 21ms/step\n"
     ]
    },
    {
     "name": "stderr",
     "output_type": "stream",
     "text": [
      "2025-09-22 11:44:45,138 - INFO - SVG for 2-CXK6 saved.\n",
      "2025-09-22 11:44:45,281 - INFO - Processing image /data/4-Z6K8_49330658558098c69ec955ecae8b4c1a3f6c467acc788fc80427df570333a653/Dataset_4-Z6K8/data/asset/Image/1012282_1457420_14470945_Right Field 2.JPG : , trial 1, color channel grey, resize function imgResize_primary\n"
     ]
    },
    {
     "name": "stdout",
     "output_type": "stream",
     "text": [
      "1/1 [==============================] - 0s 20ms/step\n"
     ]
    },
    {
     "name": "stderr",
     "output_type": "stream",
     "text": [
      "2025-09-22 11:44:46,189 - INFO - SVG for 2-CXM4 saved.\n",
      "2025-09-22 11:44:46,333 - INFO - Processing image /data/4-Z6K8_49330658558098c69ec955ecae8b4c1a3f6c467acc788fc80427df570333a653/Dataset_4-Z6K8/data/asset/Image/1012282_1457420_14470947_Left Field 2.JPG : , trial 1, color channel grey, resize function imgResize_primary\n"
     ]
    },
    {
     "name": "stdout",
     "output_type": "stream",
     "text": [
      "1/1 [==============================] - 0s 20ms/step\n"
     ]
    },
    {
     "name": "stderr",
     "output_type": "stream",
     "text": [
      "2025-09-22 11:44:47,057 - INFO - SVG for 2-CXM8 saved.\n",
      "2025-09-22 11:44:47,175 - INFO - Processing image /data/4-Z6K8_49330658558098c69ec955ecae8b4c1a3f6c467acc788fc80427df570333a653/Dataset_4-Z6K8/data/asset/Image/1014282_1460594_14492911_Right Field 2.jpg : , trial 1, color channel grey, resize function imgResize_primary\n"
     ]
    },
    {
     "name": "stdout",
     "output_type": "stream",
     "text": [
      "1/1 [==============================] - 0s 20ms/step\n"
     ]
    },
    {
     "name": "stderr",
     "output_type": "stream",
     "text": [
      "2025-09-22 11:44:47,939 - INFO - SVG for 2-CXS2 saved.\n",
      "2025-09-22 11:44:48,056 - INFO - Processing image /data/4-Z6K8_49330658558098c69ec955ecae8b4c1a3f6c467acc788fc80427df570333a653/Dataset_4-Z6K8/data/asset/Image/1014282_1460594_14492915_Left Field 2.jpg : , trial 1, color channel grey, resize function imgResize_primary\n"
     ]
    },
    {
     "name": "stdout",
     "output_type": "stream",
     "text": [
      "1/1 [==============================] - 0s 20ms/step\n"
     ]
    },
    {
     "name": "stderr",
     "output_type": "stream",
     "text": [
      "2025-09-22 11:44:48,816 - INFO - SVG for 2-CXSA saved.\n",
      "2025-09-22 11:44:49,097 - INFO - Processing image /data/4-Z6K8_49330658558098c69ec955ecae8b4c1a3f6c467acc788fc80427df570333a653/Dataset_4-Z6K8/data/asset/Image/1014603_1461082_14496331_Left Field 2.jpg : , trial 1, color channel grey, resize function imgResize_primary\n"
     ]
    },
    {
     "name": "stdout",
     "output_type": "stream",
     "text": [
      "1/1 [==============================] - 0s 20ms/step\n"
     ]
    },
    {
     "name": "stderr",
     "output_type": "stream",
     "text": [
      "2025-09-22 11:44:50,041 - INFO - SVG for 2-CXT8 saved.\n",
      "2025-09-22 11:44:50,323 - INFO - Processing image /data/4-Z6K8_49330658558098c69ec955ecae8b4c1a3f6c467acc788fc80427df570333a653/Dataset_4-Z6K8/data/asset/Image/1014603_1461082_14496333_Right Field 2.jpg : , trial 1, color channel grey, resize function imgResize_primary\n"
     ]
    },
    {
     "name": "stdout",
     "output_type": "stream",
     "text": [
      "1/1 [==============================] - 0s 20ms/step\n"
     ]
    },
    {
     "name": "stderr",
     "output_type": "stream",
     "text": [
      "2025-09-22 11:44:51,285 - INFO - SVG for 2-CXTC saved.\n",
      "2025-09-22 11:44:51,495 - INFO - Processing image /data/4-Z6K8_49330658558098c69ec955ecae8b4c1a3f6c467acc788fc80427df570333a653/Dataset_4-Z6K8/data/asset/Image/1015215_1462025_14503027_Left Field 2.jpg : , trial 1, color channel grey, resize function imgResize_primary\n"
     ]
    },
    {
     "name": "stdout",
     "output_type": "stream",
     "text": [
      "1/1 [==============================] - 0s 21ms/step\n"
     ]
    },
    {
     "name": "stderr",
     "output_type": "stream",
     "text": [
      "2025-09-22 11:44:52,193 - INFO - SVG for 2-CXVR saved.\n",
      "2025-09-22 11:44:52,399 - INFO - Processing image /data/4-Z6K8_49330658558098c69ec955ecae8b4c1a3f6c467acc788fc80427df570333a653/Dataset_4-Z6K8/data/asset/Image/1015215_1462025_14503028_Right Field 2.jpg : , trial 1, color channel grey, resize function imgResize_primary\n"
     ]
    },
    {
     "name": "stdout",
     "output_type": "stream",
     "text": [
      "1/1 [==============================] - 0s 21ms/step\n"
     ]
    },
    {
     "name": "stderr",
     "output_type": "stream",
     "text": [
      "2025-09-22 11:44:53,176 - INFO - SVG for 2-CXVT saved.\n",
      "2025-09-22 11:44:53,384 - INFO - Processing image /data/4-Z6K8_49330658558098c69ec955ecae8b4c1a3f6c467acc788fc80427df570333a653/Dataset_4-Z6K8/data/asset/Image/1018244_1466498_14531786_Left Field 2.jpg : , trial 1, color channel grey, resize function imgResize_primary\n"
     ]
    },
    {
     "name": "stdout",
     "output_type": "stream",
     "text": [
      "1/1 [==============================] - 0s 20ms/step\n"
     ]
    },
    {
     "name": "stderr",
     "output_type": "stream",
     "text": [
      "2025-09-22 11:44:54,135 - INFO - SVG for 2-CY0A saved.\n",
      "2025-09-22 11:44:54,341 - INFO - Processing image /data/4-Z6K8_49330658558098c69ec955ecae8b4c1a3f6c467acc788fc80427df570333a653/Dataset_4-Z6K8/data/asset/Image/1018244_1466498_14531789_Right Field 2.jpg : , trial 1, color channel grey, resize function imgResize_primary\n"
     ]
    },
    {
     "name": "stdout",
     "output_type": "stream",
     "text": [
      "1/1 [==============================] - 0s 20ms/step\n"
     ]
    },
    {
     "name": "stderr",
     "output_type": "stream",
     "text": [
      "2025-09-22 11:44:55,189 - INFO - SVG for 2-CY0C saved.\n",
      "2025-09-22 11:44:55,395 - INFO - Processing image /data/4-Z6K8_49330658558098c69ec955ecae8b4c1a3f6c467acc788fc80427df570333a653/Dataset_4-Z6K8/data/asset/Image/1018363_1466695_14533248_Left Field 2.jpg : , trial 1, color channel grey, resize function imgResize_primary\n"
     ]
    },
    {
     "name": "stdout",
     "output_type": "stream",
     "text": [
      "1/1 [==============================] - 0s 20ms/step\n"
     ]
    },
    {
     "name": "stderr",
     "output_type": "stream",
     "text": [
      "2025-09-22 11:44:56,454 - INFO - SVG for 2-CY0E saved.\n",
      "2025-09-22 11:44:56,660 - INFO - Processing image /data/4-Z6K8_49330658558098c69ec955ecae8b4c1a3f6c467acc788fc80427df570333a653/Dataset_4-Z6K8/data/asset/Image/1018363_1466695_14533250_Right Field 2.jpg : , trial 1, color channel grey, resize function imgResize_primary\n"
     ]
    },
    {
     "name": "stdout",
     "output_type": "stream",
     "text": [
      "1/1 [==============================] - 0s 20ms/step\n"
     ]
    },
    {
     "name": "stderr",
     "output_type": "stream",
     "text": [
      "2025-09-22 11:44:57,870 - INFO - SVG for 2-CY0J saved.\n",
      "2025-09-22 11:44:57,902 - INFO - Processing image /data/4-Z6K8_49330658558098c69ec955ecae8b4c1a3f6c467acc788fc80427df570333a653/Dataset_4-Z6K8/data/asset/Image/1020197_1469448_14551951_Left Field 2.jpg : , trial 1, color channel grey, resize function imgResize_primary\n"
     ]
    },
    {
     "name": "stdout",
     "output_type": "stream",
     "text": [
      "1/1 [==============================] - 0s 21ms/step\n"
     ]
    },
    {
     "name": "stderr",
     "output_type": "stream",
     "text": [
      "2025-09-22 11:44:58,409 - INFO - SVG for 2-CY4J saved.\n",
      "2025-09-22 11:44:58,441 - INFO - Processing image /data/4-Z6K8_49330658558098c69ec955ecae8b4c1a3f6c467acc788fc80427df570333a653/Dataset_4-Z6K8/data/asset/Image/1020197_1469448_14551953_Right Field 2.jpg : , trial 1, color channel grey, resize function imgResize_primary\n"
     ]
    },
    {
     "name": "stdout",
     "output_type": "stream",
     "text": [
      "1/1 [==============================] - 0s 20ms/step\n"
     ]
    },
    {
     "name": "stderr",
     "output_type": "stream",
     "text": [
      "2025-09-22 11:44:59,088 - INFO - SVG for 2-CY4P saved.\n",
      "2025-09-22 11:44:59,122 - INFO - Processing image /data/4-Z6K8_49330658558098c69ec955ecae8b4c1a3f6c467acc788fc80427df570333a653/Dataset_4-Z6K8/data/asset/Image/1020279_1469562_14552770_Right Field 2.jpg : , trial 1, color channel grey, resize function imgResize_primary\n"
     ]
    },
    {
     "name": "stdout",
     "output_type": "stream",
     "text": [
      "1/1 [==============================] - 0s 21ms/step\n"
     ]
    },
    {
     "name": "stderr",
     "output_type": "stream",
     "text": [
      "2025-09-22 11:44:59,681 - INFO - SVG for 2-CY5G saved.\n",
      "2025-09-22 11:44:59,715 - INFO - Processing image /data/4-Z6K8_49330658558098c69ec955ecae8b4c1a3f6c467acc788fc80427df570333a653/Dataset_4-Z6K8/data/asset/Image/1020279_1469562_14552771_Left Field 2.jpg : , trial 1, color channel grey, resize function imgResize_primary\n"
     ]
    },
    {
     "name": "stdout",
     "output_type": "stream",
     "text": [
      "1/1 [==============================] - 0s 20ms/step\n"
     ]
    },
    {
     "name": "stderr",
     "output_type": "stream",
     "text": [
      "2025-09-22 11:45:00,384 - INFO - SVG for 2-CY5J saved.\n",
      "2025-09-22 11:45:00,611 - INFO - Processing image /data/4-Z6K8_49330658558098c69ec955ecae8b4c1a3f6c467acc788fc80427df570333a653/Dataset_4-Z6K8/data/asset/Image/1020752_1470265_14557229_Right Field 2.jpg : , trial 1, color channel grey, resize function imgResize_primary\n"
     ]
    },
    {
     "name": "stdout",
     "output_type": "stream",
     "text": [
      "1/1 [==============================] - 0s 20ms/step\n"
     ]
    },
    {
     "name": "stderr",
     "output_type": "stream",
     "text": [
      "2025-09-22 11:45:01,585 - INFO - SVG for 2-CY62 saved.\n",
      "2025-09-22 11:45:01,803 - INFO - Processing image /data/4-Z6K8_49330658558098c69ec955ecae8b4c1a3f6c467acc788fc80427df570333a653/Dataset_4-Z6K8/data/asset/Image/1020752_1470265_14557235_Left Field 2.jpg : , trial 1, color channel grey, resize function imgResize_primary\n"
     ]
    },
    {
     "name": "stdout",
     "output_type": "stream",
     "text": [
      "1/1 [==============================] - 0s 20ms/step\n"
     ]
    },
    {
     "name": "stderr",
     "output_type": "stream",
     "text": [
      "2025-09-22 11:45:02,798 - INFO - SVG for 2-CY6A saved.\n",
      "2025-09-22 11:45:03,014 - INFO - Processing image /data/4-Z6K8_49330658558098c69ec955ecae8b4c1a3f6c467acc788fc80427df570333a653/Dataset_4-Z6K8/data/asset/Image/1020752_1664387_15857645_Left Field 2.jpg : , trial 1, color channel grey, resize function imgResize_primary\n"
     ]
    },
    {
     "name": "stdout",
     "output_type": "stream",
     "text": [
      "1/1 [==============================] - 0s 20ms/step\n"
     ]
    },
    {
     "name": "stderr",
     "output_type": "stream",
     "text": [
      "2025-09-22 11:45:03,924 - INFO - SVG for 2-CY6C saved.\n",
      "2025-09-22 11:45:04,142 - INFO - Processing image /data/4-Z6K8_49330658558098c69ec955ecae8b4c1a3f6c467acc788fc80427df570333a653/Dataset_4-Z6K8/data/asset/Image/1020752_1664387_15857650_Right Field 2.jpg : , trial 1, color channel grey, resize function imgResize_primary\n"
     ]
    },
    {
     "name": "stdout",
     "output_type": "stream",
     "text": [
      "1/1 [==============================] - 0s 20ms/step\n"
     ]
    },
    {
     "name": "stderr",
     "output_type": "stream",
     "text": [
      "2025-09-22 11:45:05,119 - INFO - SVG for 2-CY6M saved.\n",
      "2025-09-22 11:45:05,337 - INFO - Processing image /data/4-Z6K8_49330658558098c69ec955ecae8b4c1a3f6c467acc788fc80427df570333a653/Dataset_4-Z6K8/data/asset/Image/1020790_1470331_14557764_Left Field 2.jpg : , trial 1, color channel grey, resize function imgResize_primary\n"
     ]
    },
    {
     "name": "stdout",
     "output_type": "stream",
     "text": [
      "1/1 [==============================] - 0s 20ms/step\n"
     ]
    },
    {
     "name": "stderr",
     "output_type": "stream",
     "text": [
      "2025-09-22 11:45:06,358 - INFO - SVG for 2-CY70 saved.\n",
      "2025-09-22 11:45:06,574 - INFO - Processing image /data/4-Z6K8_49330658558098c69ec955ecae8b4c1a3f6c467acc788fc80427df570333a653/Dataset_4-Z6K8/data/asset/Image/1020790_1470331_14557765_Right Field 2.jpg : , trial 1, color channel grey, resize function imgResize_primary\n"
     ]
    },
    {
     "name": "stdout",
     "output_type": "stream",
     "text": [
      "1/1 [==============================] - 0s 20ms/step\n"
     ]
    },
    {
     "name": "stderr",
     "output_type": "stream",
     "text": [
      "2025-09-22 11:45:07,415 - INFO - SVG for 2-CY72 saved.\n",
      "2025-09-22 11:45:07,531 - INFO - Processing image /data/4-Z6K8_49330658558098c69ec955ecae8b4c1a3f6c467acc788fc80427df570333a653/Dataset_4-Z6K8/data/asset/Image/1022106_1472328_14571033_Right Field 2.jpg : , trial 1, color channel grey, resize function imgResize_primary\n"
     ]
    },
    {
     "name": "stdout",
     "output_type": "stream",
     "text": [
      "1/1 [==============================] - 0s 20ms/step\n"
     ]
    },
    {
     "name": "stderr",
     "output_type": "stream",
     "text": [
      "2025-09-22 11:45:08,250 - INFO - SVG for 2-CY9C saved.\n",
      "2025-09-22 11:45:08,368 - INFO - Processing image /data/4-Z6K8_49330658558098c69ec955ecae8b4c1a3f6c467acc788fc80427df570333a653/Dataset_4-Z6K8/data/asset/Image/1022106_1472328_14571036_Left Field 2.jpg : , trial 1, color channel grey, resize function imgResize_primary\n"
     ]
    },
    {
     "name": "stdout",
     "output_type": "stream",
     "text": [
      "1/1 [==============================] - 0s 20ms/step\n"
     ]
    },
    {
     "name": "stderr",
     "output_type": "stream",
     "text": [
      "2025-09-22 11:45:09,288 - INFO - SVG for 2-CY9J saved.\n",
      "2025-09-22 11:45:09,578 - INFO - Processing image /data/4-Z6K8_49330658558098c69ec955ecae8b4c1a3f6c467acc788fc80427df570333a653/Dataset_4-Z6K8/data/asset/Image/1022646_1473149_14576721_Right Field 2.jpg : , trial 1, color channel grey, resize function imgResize_primary\n"
     ]
    },
    {
     "name": "stdout",
     "output_type": "stream",
     "text": [
      "1/1 [==============================] - 0s 21ms/step\n"
     ]
    },
    {
     "name": "stderr",
     "output_type": "stream",
     "text": [
      "2025-09-22 11:45:10,507 - INFO - SVG for 2-CYB0 saved.\n",
      "2025-09-22 11:45:10,784 - INFO - Processing image /data/4-Z6K8_49330658558098c69ec955ecae8b4c1a3f6c467acc788fc80427df570333a653/Dataset_4-Z6K8/data/asset/Image/1022646_1473149_14576723_Left Field 2.jpg : , trial 1, color channel grey, resize function imgResize_primary\n"
     ]
    },
    {
     "name": "stdout",
     "output_type": "stream",
     "text": [
      "1/1 [==============================] - 0s 20ms/step\n"
     ]
    },
    {
     "name": "stderr",
     "output_type": "stream",
     "text": [
      "2025-09-22 11:45:11,779 - INFO - SVG for 2-CYB2 saved.\n",
      "2025-09-22 11:45:11,900 - INFO - Processing image /data/4-Z6K8_49330658558098c69ec955ecae8b4c1a3f6c467acc788fc80427df570333a653/Dataset_4-Z6K8/data/asset/Image/1023491_1474449_14585250_Left Field 2.jpg : , trial 1, color channel grey, resize function imgResize_primary\n"
     ]
    },
    {
     "name": "stdout",
     "output_type": "stream",
     "text": [
      "1/1 [==============================] - 0s 20ms/step\n"
     ]
    },
    {
     "name": "stderr",
     "output_type": "stream",
     "text": [
      "2025-09-22 11:45:12,612 - INFO - SVG for 2-CYCC saved.\n",
      "2025-09-22 11:45:12,732 - INFO - Processing image /data/4-Z6K8_49330658558098c69ec955ecae8b4c1a3f6c467acc788fc80427df570333a653/Dataset_4-Z6K8/data/asset/Image/1023491_1474449_14585260_Right Field 2.jpg : , trial 1, color channel grey, resize function imgResize_primary\n"
     ]
    },
    {
     "name": "stdout",
     "output_type": "stream",
     "text": [
      "1/1 [==============================] - 0s 20ms/step\n"
     ]
    },
    {
     "name": "stderr",
     "output_type": "stream",
     "text": [
      "2025-09-22 11:45:13,526 - INFO - SVG for 2-CYCP saved.\n",
      "2025-09-22 11:45:13,645 - INFO - Processing image /data/4-Z6K8_49330658558098c69ec955ecae8b4c1a3f6c467acc788fc80427df570333a653/Dataset_4-Z6K8/data/asset/Image/1023885_1624192_15579143_Left Field 2.jpg : , trial 1, color channel grey, resize function imgResize_primary\n"
     ]
    },
    {
     "name": "stdout",
     "output_type": "stream",
     "text": [
      "1/1 [==============================] - 0s 20ms/step\n"
     ]
    },
    {
     "name": "stderr",
     "output_type": "stream",
     "text": [
      "2025-09-22 11:45:14,288 - INFO - SVG for 2-CYDP saved.\n",
      "2025-09-22 11:45:14,406 - INFO - Processing image /data/4-Z6K8_49330658558098c69ec955ecae8b4c1a3f6c467acc788fc80427df570333a653/Dataset_4-Z6K8/data/asset/Image/1023885_1624192_15579146_Right Field 2.jpg : , trial 1, color channel grey, resize function imgResize_primary\n"
     ]
    },
    {
     "name": "stdout",
     "output_type": "stream",
     "text": [
      "1/1 [==============================] - 0s 20ms/step\n"
     ]
    },
    {
     "name": "stderr",
     "output_type": "stream",
     "text": [
      "2025-09-22 11:45:15,253 - INFO - Processing image /data/4-Z6K8_49330658558098c69ec955ecae8b4c1a3f6c467acc788fc80427df570333a653/Dataset_4-Z6K8/data/asset/Image/1023885_1624192_15579146_Right Field 2.jpg : , trial 2, color channel green, resize function imgResize_primary\n"
     ]
    },
    {
     "name": "stdout",
     "output_type": "stream",
     "text": [
      "1/1 [==============================] - 0s 20ms/step\n"
     ]
    },
    {
     "name": "stderr",
     "output_type": "stream",
     "text": [
      "2025-09-22 11:45:16,005 - INFO - SVG for 2-CYDT saved.\n",
      "2025-09-22 11:45:16,124 - INFO - Processing image /data/4-Z6K8_49330658558098c69ec955ecae8b4c1a3f6c467acc788fc80427df570333a653/Dataset_4-Z6K8/data/asset/Image/1024245_1610932_15519115_Left Field 2.jpg : , trial 1, color channel grey, resize function imgResize_primary\n"
     ]
    },
    {
     "name": "stdout",
     "output_type": "stream",
     "text": [
      "1/1 [==============================] - 0s 21ms/step\n"
     ]
    },
    {
     "name": "stderr",
     "output_type": "stream",
     "text": [
      "2025-09-22 11:45:16,883 - INFO - SVG for 2-CYEC saved.\n",
      "2025-09-22 11:45:17,001 - INFO - Processing image /data/4-Z6K8_49330658558098c69ec955ecae8b4c1a3f6c467acc788fc80427df570333a653/Dataset_4-Z6K8/data/asset/Image/1024245_1610932_15519116_Right Field 2.jpg : , trial 1, color channel grey, resize function imgResize_primary\n"
     ]
    },
    {
     "name": "stdout",
     "output_type": "stream",
     "text": [
      "1/1 [==============================] - 0s 21ms/step\n"
     ]
    },
    {
     "name": "stderr",
     "output_type": "stream",
     "text": [
      "2025-09-22 11:45:17,994 - INFO - SVG for 2-CYEE saved.\n",
      "2025-09-22 11:45:18,281 - INFO - Processing image /data/4-Z6K8_49330658558098c69ec955ecae8b4c1a3f6c467acc788fc80427df570333a653/Dataset_4-Z6K8/data/asset/Image/1025995_1663737_15853247_Right Field 2.jpg : , trial 1, color channel grey, resize function imgResize_primary\n"
     ]
    },
    {
     "name": "stdout",
     "output_type": "stream",
     "text": [
      "1/1 [==============================] - 0s 21ms/step\n"
     ]
    },
    {
     "name": "stderr",
     "output_type": "stream",
     "text": [
      "2025-09-22 11:45:19,198 - INFO - SVG for 2-CYK4 saved.\n",
      "2025-09-22 11:45:19,486 - INFO - Processing image /data/4-Z6K8_49330658558098c69ec955ecae8b4c1a3f6c467acc788fc80427df570333a653/Dataset_4-Z6K8/data/asset/Image/1025995_1663737_15853252_Left Field 2.jpg : , trial 1, color channel grey, resize function imgResize_primary\n"
     ]
    },
    {
     "name": "stdout",
     "output_type": "stream",
     "text": [
      "1/1 [==============================] - 0s 20ms/step\n"
     ]
    },
    {
     "name": "stderr",
     "output_type": "stream",
     "text": [
      "2025-09-22 11:45:20,393 - INFO - SVG for 2-CYKE saved.\n",
      "2025-09-22 11:45:20,426 - INFO - Processing image /data/4-Z6K8_49330658558098c69ec955ecae8b4c1a3f6c467acc788fc80427df570333a653/Dataset_4-Z6K8/data/asset/Image/1027659_1480495_14624980_Right Field 2.jpg : , trial 1, color channel grey, resize function imgResize_primary\n"
     ]
    },
    {
     "name": "stdout",
     "output_type": "stream",
     "text": [
      "1/1 [==============================] - 0s 20ms/step\n"
     ]
    },
    {
     "name": "stderr",
     "output_type": "stream",
     "text": [
      "2025-09-22 11:45:21,105 - INFO - SVG for 2-CYMA saved.\n",
      "2025-09-22 11:45:21,139 - INFO - Processing image /data/4-Z6K8_49330658558098c69ec955ecae8b4c1a3f6c467acc788fc80427df570333a653/Dataset_4-Z6K8/data/asset/Image/1027659_1480495_14624981_Left Field 2.jpg : , trial 1, color channel grey, resize function imgResize_primary\n"
     ]
    },
    {
     "name": "stdout",
     "output_type": "stream",
     "text": [
      "1/1 [==============================] - 0s 20ms/step\n"
     ]
    },
    {
     "name": "stderr",
     "output_type": "stream",
     "text": [
      "2025-09-22 11:45:22,068 - INFO - SVG for 2-CYMC saved.\n",
      "2025-09-22 11:45:22,289 - INFO - Processing image /data/4-Z6K8_49330658558098c69ec955ecae8b4c1a3f6c467acc788fc80427df570333a653/Dataset_4-Z6K8/data/asset/Image/1029790_1483570_14644388_Right Field 2.jpg : , trial 1, color channel grey, resize function imgResize_primary\n"
     ]
    },
    {
     "name": "stdout",
     "output_type": "stream",
     "text": [
      "1/1 [==============================] - 0s 21ms/step\n"
     ]
    },
    {
     "name": "stderr",
     "output_type": "stream",
     "text": [
      "2025-09-22 11:45:23,242 - INFO - SVG for 2-CYRC saved.\n",
      "2025-09-22 11:45:23,466 - INFO - Processing image /data/4-Z6K8_49330658558098c69ec955ecae8b4c1a3f6c467acc788fc80427df570333a653/Dataset_4-Z6K8/data/asset/Image/1029790_1483570_14644392_Left Field 2.jpg : , trial 1, color channel grey, resize function imgResize_primary\n"
     ]
    },
    {
     "name": "stdout",
     "output_type": "stream",
     "text": [
      "1/1 [==============================] - 0s 20ms/step\n"
     ]
    },
    {
     "name": "stderr",
     "output_type": "stream",
     "text": [
      "2025-09-22 11:45:24,591 - INFO - SVG for 2-CYRG saved.\n",
      "2025-09-22 11:45:24,815 - INFO - Processing image /data/4-Z6K8_49330658558098c69ec955ecae8b4c1a3f6c467acc788fc80427df570333a653/Dataset_4-Z6K8/data/asset/Image/1029790_1483570_14644396_Right Field 2.jpg : , trial 1, color channel grey, resize function imgResize_primary\n"
     ]
    },
    {
     "name": "stdout",
     "output_type": "stream",
     "text": [
      "1/1 [==============================] - 0s 21ms/step\n"
     ]
    },
    {
     "name": "stderr",
     "output_type": "stream",
     "text": [
      "2025-09-22 11:45:25,807 - INFO - SVG for 2-CYRP saved.\n",
      "2025-09-22 11:45:26,034 - INFO - Processing image /data/4-Z6K8_49330658558098c69ec955ecae8b4c1a3f6c467acc788fc80427df570333a653/Dataset_4-Z6K8/data/asset/Image/1030040_1483960_14647103_Left Field 2.jpg : , trial 1, color channel grey, resize function imgResize_primary\n"
     ]
    },
    {
     "name": "stdout",
     "output_type": "stream",
     "text": [
      "1/1 [==============================] - 0s 20ms/step\n"
     ]
    },
    {
     "name": "stderr",
     "output_type": "stream",
     "text": [
      "2025-09-22 11:45:26,935 - INFO - SVG for 2-CYSJ saved.\n",
      "2025-09-22 11:45:27,162 - INFO - Processing image /data/4-Z6K8_49330658558098c69ec955ecae8b4c1a3f6c467acc788fc80427df570333a653/Dataset_4-Z6K8/data/asset/Image/1030040_1483960_14647109_Right Field 2.jpg : , trial 1, color channel grey, resize function imgResize_primary\n"
     ]
    },
    {
     "name": "stdout",
     "output_type": "stream",
     "text": [
      "1/1 [==============================] - 0s 20ms/step\n"
     ]
    },
    {
     "name": "stderr",
     "output_type": "stream",
     "text": [
      "2025-09-22 11:45:28,240 - INFO - SVG for 2-CYST saved.\n",
      "2025-09-22 11:45:28,272 - INFO - Processing image /data/4-Z6K8_49330658558098c69ec955ecae8b4c1a3f6c467acc788fc80427df570333a653/Dataset_4-Z6K8/data/asset/Image/1030110_1484062_14648065_Left Field 2.jpg : , trial 1, color channel grey, resize function imgResize_primary\n"
     ]
    },
    {
     "name": "stdout",
     "output_type": "stream",
     "text": [
      "1/1 [==============================] - 0s 21ms/step\n"
     ]
    },
    {
     "name": "stderr",
     "output_type": "stream",
     "text": [
      "2025-09-22 11:45:28,916 - INFO - SVG for 2-CYTC saved.\n",
      "2025-09-22 11:45:28,950 - INFO - Processing image /data/4-Z6K8_49330658558098c69ec955ecae8b4c1a3f6c467acc788fc80427df570333a653/Dataset_4-Z6K8/data/asset/Image/1030110_1484062_14648068_Right Field 2.jpg : , trial 1, color channel grey, resize function imgResize_primary\n"
     ]
    },
    {
     "name": "stdout",
     "output_type": "stream",
     "text": [
      "1/1 [==============================] - 0s 21ms/step\n"
     ]
    },
    {
     "name": "stderr",
     "output_type": "stream",
     "text": [
      "2025-09-22 11:45:29,761 - INFO - SVG for 2-CYTJ saved.\n",
      "2025-09-22 11:45:29,976 - INFO - Processing image /data/4-Z6K8_49330658558098c69ec955ecae8b4c1a3f6c467acc788fc80427df570333a653/Dataset_4-Z6K8/data/asset/Image/1030142_1641481_15697991_Right Field 2.jpg : , trial 1, color channel grey, resize function imgResize_primary\n"
     ]
    },
    {
     "name": "stdout",
     "output_type": "stream",
     "text": [
      "1/1 [==============================] - 0s 20ms/step\n"
     ]
    },
    {
     "name": "stderr",
     "output_type": "stream",
     "text": [
      "2025-09-22 11:45:30,758 - INFO - SVG for 2-CYTR saved.\n",
      "2025-09-22 11:45:30,972 - INFO - Processing image /data/4-Z6K8_49330658558098c69ec955ecae8b4c1a3f6c467acc788fc80427df570333a653/Dataset_4-Z6K8/data/asset/Image/1030142_1641481_15697994_Left Field 2.jpg : , trial 1, color channel grey, resize function imgResize_primary\n"
     ]
    },
    {
     "name": "stdout",
     "output_type": "stream",
     "text": [
      "1/1 [==============================] - 0s 20ms/step\n"
     ]
    },
    {
     "name": "stderr",
     "output_type": "stream",
     "text": [
      "2025-09-22 11:45:31,634 - INFO - Processing image /data/4-Z6K8_49330658558098c69ec955ecae8b4c1a3f6c467acc788fc80427df570333a653/Dataset_4-Z6K8/data/asset/Image/1030142_1641481_15697994_Left Field 2.jpg : , trial 2, color channel green, resize function imgResize_primary\n"
     ]
    },
    {
     "name": "stdout",
     "output_type": "stream",
     "text": [
      "1/1 [==============================] - 0s 20ms/step\n"
     ]
    },
    {
     "name": "stderr",
     "output_type": "stream",
     "text": [
      "2025-09-22 11:45:32,428 - INFO - SVG for 2-CYTY saved.\n",
      "2025-09-22 11:45:32,641 - INFO - Processing image /data/4-Z6K8_49330658558098c69ec955ecae8b4c1a3f6c467acc788fc80427df570333a653/Dataset_4-Z6K8/data/asset/Image/1030953_1627751_15602887_Left Field 2.jpg : , trial 1, color channel grey, resize function imgResize_primary\n"
     ]
    },
    {
     "name": "stdout",
     "output_type": "stream",
     "text": [
      "1/1 [==============================] - 0s 20ms/step\n"
     ]
    },
    {
     "name": "stderr",
     "output_type": "stream",
     "text": [
      "2025-09-22 11:45:33,671 - INFO - SVG for 2-CYWE saved.\n",
      "2025-09-22 11:45:33,884 - INFO - Processing image /data/4-Z6K8_49330658558098c69ec955ecae8b4c1a3f6c467acc788fc80427df570333a653/Dataset_4-Z6K8/data/asset/Image/1030953_1627751_15602889_Right Field 2.jpg : , trial 1, color channel grey, resize function imgResize_primary\n"
     ]
    },
    {
     "name": "stdout",
     "output_type": "stream",
     "text": [
      "1/1 [==============================] - 0s 20ms/step\n"
     ]
    },
    {
     "name": "stderr",
     "output_type": "stream",
     "text": [
      "2025-09-22 11:45:34,772 - INFO - SVG for 2-CYWJ saved.\n",
      "2025-09-22 11:45:35,049 - INFO - Processing image /data/4-Z6K8_49330658558098c69ec955ecae8b4c1a3f6c467acc788fc80427df570333a653/Dataset_4-Z6K8/data/asset/Image/1031352_1485878_14659370_Left Field 2.jpg : , trial 1, color channel grey, resize function imgResize_primary\n"
     ]
    },
    {
     "name": "stdout",
     "output_type": "stream",
     "text": [
      "1/1 [==============================] - 0s 20ms/step\n"
     ]
    },
    {
     "name": "stderr",
     "output_type": "stream",
     "text": [
      "2025-09-22 11:45:35,707 - INFO - Processing image /data/4-Z6K8_49330658558098c69ec955ecae8b4c1a3f6c467acc788fc80427df570333a653/Dataset_4-Z6K8/data/asset/Image/1031352_1485878_14659370_Left Field 2.jpg : , trial 2, color channel green, resize function imgResize_primary\n"
     ]
    },
    {
     "name": "stdout",
     "output_type": "stream",
     "text": [
      "1/1 [==============================] - 0s 21ms/step\n"
     ]
    },
    {
     "name": "stderr",
     "output_type": "stream",
     "text": [
      "2025-09-22 11:45:36,779 - INFO - Processing image /data/4-Z6K8_49330658558098c69ec955ecae8b4c1a3f6c467acc788fc80427df570333a653/Dataset_4-Z6K8/data/asset/Image/1031352_1485878_14659370_Left Field 2.jpg : , trial 3, color channel red, resize function imgResize_primary\n"
     ]
    },
    {
     "name": "stdout",
     "output_type": "stream",
     "text": [
      "1/1 [==============================] - 0s 20ms/step\n"
     ]
    },
    {
     "name": "stderr",
     "output_type": "stream",
     "text": [
      "2025-09-22 11:45:37,501 - INFO - Processing image /data/4-Z6K8_49330658558098c69ec955ecae8b4c1a3f6c467acc788fc80427df570333a653/Dataset_4-Z6K8/data/asset/Image/1031352_1485878_14659370_Left Field 2.jpg : , trial 4, color channel blue, resize function imgResize_primary\n"
     ]
    },
    {
     "name": "stdout",
     "output_type": "stream",
     "text": [
      "1/1 [==============================] - 0s 20ms/step\n"
     ]
    },
    {
     "name": "stderr",
     "output_type": "stream",
     "text": [
      "2025-09-22 11:45:38,159 - INFO - Processing image /data/4-Z6K8_49330658558098c69ec955ecae8b4c1a3f6c467acc788fc80427df570333a653/Dataset_4-Z6K8/data/asset/Image/1031352_1485878_14659370_Left Field 2.jpg : , trial 1, color channel grey, resize function imgResize_secondary\n"
     ]
    },
    {
     "name": "stdout",
     "output_type": "stream",
     "text": [
      "1/1 [==============================] - 0s 20ms/step\n"
     ]
    },
    {
     "name": "stderr",
     "output_type": "stream",
     "text": [
      "2025-09-22 11:45:39,257 - INFO - Processing image /data/4-Z6K8_49330658558098c69ec955ecae8b4c1a3f6c467acc788fc80427df570333a653/Dataset_4-Z6K8/data/asset/Image/1031352_1485878_14659370_Left Field 2.jpg : , trial 2, color channel green, resize function imgResize_secondary\n"
     ]
    },
    {
     "name": "stdout",
     "output_type": "stream",
     "text": [
      "1/1 [==============================] - 0s 21ms/step\n"
     ]
    },
    {
     "name": "stderr",
     "output_type": "stream",
     "text": [
      "2025-09-22 11:45:40,317 - INFO - Processing image /data/4-Z6K8_49330658558098c69ec955ecae8b4c1a3f6c467acc788fc80427df570333a653/Dataset_4-Z6K8/data/asset/Image/1031352_1485878_14659370_Left Field 2.jpg : , trial 3, color channel red, resize function imgResize_secondary\n"
     ]
    },
    {
     "name": "stdout",
     "output_type": "stream",
     "text": [
      "1/1 [==============================] - 0s 20ms/step\n"
     ]
    },
    {
     "name": "stderr",
     "output_type": "stream",
     "text": [
      "2025-09-22 11:45:41,004 - INFO - Processing image /data/4-Z6K8_49330658558098c69ec955ecae8b4c1a3f6c467acc788fc80427df570333a653/Dataset_4-Z6K8/data/asset/Image/1031352_1485878_14659370_Left Field 2.jpg : , trial 4, color channel blue, resize function imgResize_secondary\n"
     ]
    },
    {
     "name": "stdout",
     "output_type": "stream",
     "text": [
      "1/1 [==============================] - 0s 21ms/step\n"
     ]
    },
    {
     "name": "stderr",
     "output_type": "stream",
     "text": [
      "2025-09-22 11:45:41,919 - INFO - Processing image /data/4-Z6K8_49330658558098c69ec955ecae8b4c1a3f6c467acc788fc80427df570333a653/Dataset_4-Z6K8/data/asset/Image/1031352_1485878_14659370_Left Field 2.jpg : , trial 1, color channel grey, resize function imgResize_primary\n"
     ]
    },
    {
     "name": "stdout",
     "output_type": "stream",
     "text": [
      "1/1 [==============================] - 0s 20ms/step\n"
     ]
    },
    {
     "name": "stderr",
     "output_type": "stream",
     "text": [
      "2025-09-22 11:45:42,875 - INFO - SVG for 2-CYX4 saved.\n",
      "2025-09-22 11:45:43,154 - INFO - Processing image /data/4-Z6K8_49330658558098c69ec955ecae8b4c1a3f6c467acc788fc80427df570333a653/Dataset_4-Z6K8/data/asset/Image/1031352_1485878_14659373_Right Field 2.jpg : , trial 1, color channel grey, resize function imgResize_primary\n"
     ]
    },
    {
     "name": "stdout",
     "output_type": "stream",
     "text": [
      "1/1 [==============================] - 0s 20ms/step\n"
     ]
    },
    {
     "name": "stderr",
     "output_type": "stream",
     "text": [
      "2025-09-22 11:45:44,187 - INFO - SVG for 2-CYXA saved.\n",
      "2025-09-22 11:45:44,407 - INFO - Processing image /data/4-Z6K8_49330658558098c69ec955ecae8b4c1a3f6c467acc788fc80427df570333a653/Dataset_4-Z6K8/data/asset/Image/1032797_1488068_14674116_Left Field 2.jpg : , trial 1, color channel grey, resize function imgResize_primary\n"
     ]
    },
    {
     "name": "stdout",
     "output_type": "stream",
     "text": [
      "1/1 [==============================] - 0s 20ms/step\n"
     ]
    },
    {
     "name": "stderr",
     "output_type": "stream",
     "text": [
      "2025-09-22 11:45:45,191 - INFO - SVG for 2-CYZP saved.\n",
      "2025-09-22 11:45:45,406 - INFO - Processing image /data/4-Z6K8_49330658558098c69ec955ecae8b4c1a3f6c467acc788fc80427df570333a653/Dataset_4-Z6K8/data/asset/Image/1032797_1488068_14674117_Left Field 2.jpg : , trial 1, color channel grey, resize function imgResize_primary\n"
     ]
    },
    {
     "name": "stdout",
     "output_type": "stream",
     "text": [
      "1/1 [==============================] - 0s 20ms/step\n"
     ]
    },
    {
     "name": "stderr",
     "output_type": "stream",
     "text": [
      "2025-09-22 11:45:46,188 - INFO - SVG for 2-CYZR saved.\n",
      "2025-09-22 11:45:46,407 - INFO - Processing image /data/4-Z6K8_49330658558098c69ec955ecae8b4c1a3f6c467acc788fc80427df570333a653/Dataset_4-Z6K8/data/asset/Image/1032797_1488068_14674121_Right Field 2.jpg : , trial 1, color channel grey, resize function imgResize_primary\n"
     ]
    },
    {
     "name": "stdout",
     "output_type": "stream",
     "text": [
      "1/1 [==============================] - 0s 20ms/step\n"
     ]
    },
    {
     "name": "stderr",
     "output_type": "stream",
     "text": [
      "2025-09-22 11:45:47,222 - INFO - SVG for 2-CYZY saved.\n",
      "2025-09-22 11:45:47,258 - INFO - Processing image /data/4-Z6K8_49330658558098c69ec955ecae8b4c1a3f6c467acc788fc80427df570333a653/Dataset_4-Z6K8/data/asset/Image/1033955_1489817_14685030_Right Field 2.jpg : , trial 1, color channel grey, resize function imgResize_primary\n"
     ]
    },
    {
     "name": "stdout",
     "output_type": "stream",
     "text": [
      "1/1 [==============================] - 0s 20ms/step\n"
     ]
    },
    {
     "name": "stderr",
     "output_type": "stream",
     "text": [
      "2025-09-22 11:45:48,100 - INFO - SVG for 2-CZ16 saved.\n",
      "2025-09-22 11:45:48,136 - INFO - Processing image /data/4-Z6K8_49330658558098c69ec955ecae8b4c1a3f6c467acc788fc80427df570333a653/Dataset_4-Z6K8/data/asset/Image/1033955_1489817_14685031_Left Field 2.jpg : , trial 1, color channel grey, resize function imgResize_primary\n"
     ]
    },
    {
     "name": "stdout",
     "output_type": "stream",
     "text": [
      "1/1 [==============================] - 0s 20ms/step\n"
     ]
    },
    {
     "name": "stderr",
     "output_type": "stream",
     "text": [
      "2025-09-22 11:45:48,949 - INFO - SVG for 2-CZ18 saved.\n",
      "2025-09-22 11:45:48,985 - INFO - Processing image /data/4-Z6K8_49330658558098c69ec955ecae8b4c1a3f6c467acc788fc80427df570333a653/Dataset_4-Z6K8/data/asset/Image/1038421_1496712_14732130_Right Field 2.jpg : , trial 1, color channel grey, resize function imgResize_primary\n"
     ]
    },
    {
     "name": "stdout",
     "output_type": "stream",
     "text": [
      "1/1 [==============================] - 0s 20ms/step\n"
     ]
    },
    {
     "name": "stderr",
     "output_type": "stream",
     "text": [
      "2025-09-22 11:45:49,825 - INFO - SVG for 2-CZA2 saved.\n",
      "2025-09-22 11:45:50,003 - INFO - Processing image /data/4-Z6K8_49330658558098c69ec955ecae8b4c1a3f6c467acc788fc80427df570333a653/Dataset_4-Z6K8/data/asset/Image/1040460_1499990_14755556_Left Field 2.jpg : , trial 1, color channel grey, resize function imgResize_primary\n"
     ]
    },
    {
     "name": "stdout",
     "output_type": "stream",
     "text": [
      "1/1 [==============================] - 0s 21ms/step\n"
     ]
    },
    {
     "name": "stderr",
     "output_type": "stream",
     "text": [
      "2025-09-22 11:45:50,928 - INFO - SVG for 2-CZD6 saved.\n",
      "2025-09-22 11:45:51,107 - INFO - Processing image /data/4-Z6K8_49330658558098c69ec955ecae8b4c1a3f6c467acc788fc80427df570333a653/Dataset_4-Z6K8/data/asset/Image/1040460_1499990_14755558_Right Field 2.jpg : , trial 1, color channel grey, resize function imgResize_primary\n"
     ]
    },
    {
     "name": "stdout",
     "output_type": "stream",
     "text": [
      "1/1 [==============================] - 0s 20ms/step\n"
     ]
    },
    {
     "name": "stderr",
     "output_type": "stream",
     "text": [
      "2025-09-22 11:45:51,864 - INFO - SVG for 2-CZDA saved.\n",
      "2025-09-22 11:45:51,897 - INFO - Processing image /data/4-Z6K8_49330658558098c69ec955ecae8b4c1a3f6c467acc788fc80427df570333a653/Dataset_4-Z6K8/data/asset/Image/1041123_1501030_14762589_Left Field 2.jpg : , trial 1, color channel grey, resize function imgResize_primary\n"
     ]
    },
    {
     "name": "stdout",
     "output_type": "stream",
     "text": [
      "1/1 [==============================] - 0s 20ms/step\n"
     ]
    },
    {
     "name": "stderr",
     "output_type": "stream",
     "text": [
      "2025-09-22 11:45:52,541 - INFO - SVG for 2-CZEC saved.\n",
      "2025-09-22 11:45:52,749 - INFO - Processing image /data/4-Z6K8_49330658558098c69ec955ecae8b4c1a3f6c467acc788fc80427df570333a653/Dataset_4-Z6K8/data/asset/Image/1041839_1502207_14770584_Left Field 2.jpg : , trial 1, color channel grey, resize function imgResize_primary\n"
     ]
    },
    {
     "name": "stdout",
     "output_type": "stream",
     "text": [
      "1/1 [==============================] - 0s 20ms/step\n"
     ]
    },
    {
     "name": "stderr",
     "output_type": "stream",
     "text": [
      "2025-09-22 11:45:53,580 - INFO - SVG for 2-CZF8 saved.\n",
      "2025-09-22 11:45:53,781 - INFO - Processing image /data/4-Z6K8_49330658558098c69ec955ecae8b4c1a3f6c467acc788fc80427df570333a653/Dataset_4-Z6K8/data/asset/Image/1041839_1502207_14770585_Right Field 2.jpg : , trial 1, color channel grey, resize function imgResize_primary\n"
     ]
    },
    {
     "name": "stdout",
     "output_type": "stream",
     "text": [
      "1/1 [==============================] - 0s 20ms/step\n"
     ]
    },
    {
     "name": "stderr",
     "output_type": "stream",
     "text": [
      "2025-09-22 11:45:54,594 - INFO - SVG for 2-CZFA saved.\n",
      "2025-09-22 11:45:54,627 - INFO - Processing image /data/4-Z6K8_49330658558098c69ec955ecae8b4c1a3f6c467acc788fc80427df570333a653/Dataset_4-Z6K8/data/asset/Image/1043266_1504440_14785024_Left Field 2.jpg : , trial 1, color channel grey, resize function imgResize_primary\n"
     ]
    },
    {
     "name": "stdout",
     "output_type": "stream",
     "text": [
      "1/1 [==============================] - 0s 21ms/step\n"
     ]
    },
    {
     "name": "stderr",
     "output_type": "stream",
     "text": [
      "2025-09-22 11:45:55,223 - INFO - SVG for 2-CZH8 saved.\n",
      "2025-09-22 11:45:55,256 - INFO - Processing image /data/4-Z6K8_49330658558098c69ec955ecae8b4c1a3f6c467acc788fc80427df570333a653/Dataset_4-Z6K8/data/asset/Image/1043266_1504440_14785027_Right Field 2.jpg : , trial 1, color channel grey, resize function imgResize_primary\n"
     ]
    },
    {
     "name": "stdout",
     "output_type": "stream",
     "text": [
      "1/1 [==============================] - 0s 20ms/step\n"
     ]
    },
    {
     "name": "stderr",
     "output_type": "stream",
     "text": [
      "2025-09-22 11:45:55,984 - INFO - SVG for 2-CZHC saved.\n",
      "2025-09-22 11:45:56,107 - INFO - Processing image /data/4-Z6K8_49330658558098c69ec955ecae8b4c1a3f6c467acc788fc80427df570333a653/Dataset_4-Z6K8/data/asset/Image/1043432_1504695_14786891_Right Field 2.jpg : , trial 1, color channel grey, resize function imgResize_primary\n"
     ]
    },
    {
     "name": "stdout",
     "output_type": "stream",
     "text": [
      "1/1 [==============================] - 0s 20ms/step\n"
     ]
    },
    {
     "name": "stderr",
     "output_type": "stream",
     "text": [
      "2025-09-22 11:45:56,891 - INFO - SVG for 2-CZKA saved.\n",
      "2025-09-22 11:45:56,999 - INFO - Processing image /data/4-Z6K8_49330658558098c69ec955ecae8b4c1a3f6c467acc788fc80427df570333a653/Dataset_4-Z6K8/data/asset/Image/1043432_1504695_14786895_Left Field 2.jpg : , trial 1, color channel grey, resize function imgResize_primary\n"
     ]
    },
    {
     "name": "stdout",
     "output_type": "stream",
     "text": [
      "1/1 [==============================] - 0s 20ms/step\n"
     ]
    },
    {
     "name": "stderr",
     "output_type": "stream",
     "text": [
      "2025-09-22 11:45:57,721 - INFO - SVG for 2-CZKE saved.\n",
      "2025-09-22 11:45:57,937 - INFO - Processing image /data/4-Z6K8_49330658558098c69ec955ecae8b4c1a3f6c467acc788fc80427df570333a653/Dataset_4-Z6K8/data/asset/Image/1045973_1508782_14815665_Right Field 2.jpg : , trial 1, color channel grey, resize function imgResize_primary\n"
     ]
    },
    {
     "name": "stdout",
     "output_type": "stream",
     "text": [
      "1/1 [==============================] - 0s 20ms/step\n"
     ]
    },
    {
     "name": "stderr",
     "output_type": "stream",
     "text": [
      "2025-09-22 11:45:58,896 - INFO - SVG for 2-CZQ2 saved.\n",
      "2025-09-22 11:45:59,003 - INFO - Processing image /data/4-Z6K8_49330658558098c69ec955ecae8b4c1a3f6c467acc788fc80427df570333a653/Dataset_4-Z6K8/data/asset/Image/1048840_1513382_14847384_Right Field 2.jpg : , trial 1, color channel grey, resize function imgResize_primary\n"
     ]
    },
    {
     "name": "stdout",
     "output_type": "stream",
     "text": [
      "1/1 [==============================] - 0s 20ms/step\n"
     ]
    },
    {
     "name": "stderr",
     "output_type": "stream",
     "text": [
      "2025-09-22 11:45:59,627 - INFO - SVG for 2-CZWJ saved.\n",
      "2025-09-22 11:45:59,734 - INFO - Processing image /data/4-Z6K8_49330658558098c69ec955ecae8b4c1a3f6c467acc788fc80427df570333a653/Dataset_4-Z6K8/data/asset/Image/1048840_1513382_14847387_Left Field 2.jpg : , trial 1, color channel grey, resize function imgResize_primary\n"
     ]
    },
    {
     "name": "stdout",
     "output_type": "stream",
     "text": [
      "1/1 [==============================] - 0s 20ms/step\n"
     ]
    },
    {
     "name": "stderr",
     "output_type": "stream",
     "text": [
      "2025-09-22 11:46:00,356 - INFO - SVG for 2-CZWM saved.\n",
      "2025-09-22 11:46:00,390 - INFO - Processing image /data/4-Z6K8_49330658558098c69ec955ecae8b4c1a3f6c467acc788fc80427df570333a653/Dataset_4-Z6K8/data/asset/Image/1051146_1517078_14872497_Left Field 2.jpg : , trial 1, color channel grey, resize function imgResize_primary\n"
     ]
    },
    {
     "name": "stdout",
     "output_type": "stream",
     "text": [
      "1/1 [==============================] - 0s 20ms/step\n"
     ]
    },
    {
     "name": "stderr",
     "output_type": "stream",
     "text": [
      "2025-09-22 11:46:01,065 - INFO - SVG for 2-D022 saved.\n",
      "2025-09-22 11:46:01,098 - INFO - Processing image /data/4-Z6K8_49330658558098c69ec955ecae8b4c1a3f6c467acc788fc80427df570333a653/Dataset_4-Z6K8/data/asset/Image/1051146_1517078_14872498_Right Field 2.jpg : , trial 1, color channel grey, resize function imgResize_primary\n"
     ]
    },
    {
     "name": "stdout",
     "output_type": "stream",
     "text": [
      "1/1 [==============================] - 0s 20ms/step\n"
     ]
    },
    {
     "name": "stderr",
     "output_type": "stream",
     "text": [
      "2025-09-22 11:46:01,862 - INFO - SVG for 2-D024 saved.\n",
      "2025-09-22 11:46:02,070 - INFO - Processing image /data/4-Z6K8_49330658558098c69ec955ecae8b4c1a3f6c467acc788fc80427df570333a653/Dataset_4-Z6K8/data/asset/Image/1052011_1518391_14881713_Right Field 2.jpg : , trial 1, color channel grey, resize function imgResize_primary\n"
     ]
    },
    {
     "name": "stdout",
     "output_type": "stream",
     "text": [
      "1/1 [==============================] - 0s 21ms/step\n"
     ]
    },
    {
     "name": "stderr",
     "output_type": "stream",
     "text": [
      "2025-09-22 11:46:03,147 - INFO - SVG for 2-D03T saved.\n",
      "2025-09-22 11:46:03,350 - INFO - Processing image /data/4-Z6K8_49330658558098c69ec955ecae8b4c1a3f6c467acc788fc80427df570333a653/Dataset_4-Z6K8/data/asset/Image/1052011_1518391_14881723_Left Field 2.jpg : , trial 1, color channel grey, resize function imgResize_primary\n"
     ]
    },
    {
     "name": "stdout",
     "output_type": "stream",
     "text": [
      "1/1 [==============================] - 0s 21ms/step\n"
     ]
    },
    {
     "name": "stderr",
     "output_type": "stream",
     "text": [
      "2025-09-22 11:46:04,219 - INFO - SVG for 2-D044 saved.\n",
      "2025-09-22 11:46:04,498 - INFO - Processing image /data/4-Z6K8_49330658558098c69ec955ecae8b4c1a3f6c467acc788fc80427df570333a653/Dataset_4-Z6K8/data/asset/Image/1052706_1519421_14888423_Right Field 2.jpg : , trial 1, color channel grey, resize function imgResize_primary\n"
     ]
    },
    {
     "name": "stdout",
     "output_type": "stream",
     "text": [
      "1/1 [==============================] - 0s 20ms/step\n"
     ]
    },
    {
     "name": "stderr",
     "output_type": "stream",
     "text": [
      "2025-09-22 11:46:05,408 - INFO - SVG for 2-D04A saved.\n",
      "2025-09-22 11:46:05,690 - INFO - Processing image /data/4-Z6K8_49330658558098c69ec955ecae8b4c1a3f6c467acc788fc80427df570333a653/Dataset_4-Z6K8/data/asset/Image/1052706_1519421_14888427_Left Field 2.jpg : , trial 1, color channel grey, resize function imgResize_primary\n"
     ]
    },
    {
     "name": "stdout",
     "output_type": "stream",
     "text": [
      "1/1 [==============================] - 0s 20ms/step\n"
     ]
    },
    {
     "name": "stderr",
     "output_type": "stream",
     "text": [
      "2025-09-22 11:46:06,701 - INFO - SVG for 2-D04E saved.\n",
      "2025-09-22 11:46:06,821 - INFO - Processing image /data/4-Z6K8_49330658558098c69ec955ecae8b4c1a3f6c467acc788fc80427df570333a653/Dataset_4-Z6K8/data/asset/Image/1053726_1521040_14899086_Left Field 2.jpg : , trial 1, color channel grey, resize function imgResize_primary\n"
     ]
    },
    {
     "name": "stdout",
     "output_type": "stream",
     "text": [
      "1/1 [==============================] - 0s 20ms/step\n"
     ]
    },
    {
     "name": "stderr",
     "output_type": "stream",
     "text": [
      "2025-09-22 11:46:07,599 - INFO - SVG for 2-D064 saved.\n",
      "2025-09-22 11:46:07,717 - INFO - Processing image /data/4-Z6K8_49330658558098c69ec955ecae8b4c1a3f6c467acc788fc80427df570333a653/Dataset_4-Z6K8/data/asset/Image/1053726_1521040_14899090_Right Field 2.jpg : , trial 1, color channel grey, resize function imgResize_primary\n"
     ]
    },
    {
     "name": "stdout",
     "output_type": "stream",
     "text": [
      "1/1 [==============================] - 0s 20ms/step\n"
     ]
    },
    {
     "name": "stderr",
     "output_type": "stream",
     "text": [
      "2025-09-22 11:46:08,549 - INFO - SVG for 2-D06A saved.\n",
      "2025-09-22 11:46:08,581 - INFO - Processing image /data/4-Z6K8_49330658558098c69ec955ecae8b4c1a3f6c467acc788fc80427df570333a653/Dataset_4-Z6K8/data/asset/Image/1053738_1521056_14899110_Left Field 2.jpg : , trial 1, color channel grey, resize function imgResize_primary\n"
     ]
    },
    {
     "name": "stdout",
     "output_type": "stream",
     "text": [
      "1/1 [==============================] - 0s 20ms/step\n"
     ]
    },
    {
     "name": "stderr",
     "output_type": "stream",
     "text": [
      "2025-09-22 11:46:09,162 - INFO - SVG for 2-D06E saved.\n",
      "2025-09-22 11:46:09,196 - INFO - Processing image /data/4-Z6K8_49330658558098c69ec955ecae8b4c1a3f6c467acc788fc80427df570333a653/Dataset_4-Z6K8/data/asset/Image/1053738_1521056_14899116_Right Field 2.jpg : , trial 1, color channel grey, resize function imgResize_primary\n"
     ]
    },
    {
     "name": "stdout",
     "output_type": "stream",
     "text": [
      "1/1 [==============================] - 0s 21ms/step\n"
     ]
    },
    {
     "name": "stderr",
     "output_type": "stream",
     "text": [
      "2025-09-22 11:46:09,769 - INFO - SVG for 2-D06P saved.\n",
      "2025-09-22 11:46:09,802 - INFO - Processing image /data/4-Z6K8_49330658558098c69ec955ecae8b4c1a3f6c467acc788fc80427df570333a653/Dataset_4-Z6K8/data/asset/Image/1053801_1521147_14899620_Right Field 2.jpg : , trial 1, color channel grey, resize function imgResize_primary\n"
     ]
    },
    {
     "name": "stdout",
     "output_type": "stream",
     "text": [
      "1/1 [==============================] - 0s 21ms/step\n"
     ]
    },
    {
     "name": "stderr",
     "output_type": "stream",
     "text": [
      "2025-09-22 11:46:10,732 - INFO - SVG for 2-D070 saved.\n",
      "2025-09-22 11:46:10,764 - INFO - Processing image /data/4-Z6K8_49330658558098c69ec955ecae8b4c1a3f6c467acc788fc80427df570333a653/Dataset_4-Z6K8/data/asset/Image/1053801_1521147_14899621_Left Field 2.jpg : , trial 1, color channel grey, resize function imgResize_primary\n"
     ]
    },
    {
     "name": "stdout",
     "output_type": "stream",
     "text": [
      "1/1 [==============================] - 0s 21ms/step\n"
     ]
    },
    {
     "name": "stderr",
     "output_type": "stream",
     "text": [
      "2025-09-22 11:46:11,383 - INFO - SVG for 2-D072 saved.\n",
      "2025-09-22 11:46:11,608 - INFO - Processing image /data/4-Z6K8_49330658558098c69ec955ecae8b4c1a3f6c467acc788fc80427df570333a653/Dataset_4-Z6K8/data/asset/Image/1053910_1521313_14900382_Left Field 2.jpg : , trial 1, color channel grey, resize function imgResize_primary\n"
     ]
    },
    {
     "name": "stdout",
     "output_type": "stream",
     "text": [
      "1/1 [==============================] - 0s 21ms/step\n"
     ]
    },
    {
     "name": "stderr",
     "output_type": "stream",
     "text": [
      "2025-09-22 11:46:12,477 - INFO - SVG for 2-D082 saved.\n",
      "2025-09-22 11:46:12,694 - INFO - Processing image /data/4-Z6K8_49330658558098c69ec955ecae8b4c1a3f6c467acc788fc80427df570333a653/Dataset_4-Z6K8/data/asset/Image/1053910_1521313_14900384_Right Field 2.jpg : , trial 1, color channel grey, resize function imgResize_primary\n"
     ]
    },
    {
     "name": "stdout",
     "output_type": "stream",
     "text": [
      "1/1 [==============================] - 0s 21ms/step\n"
     ]
    },
    {
     "name": "stderr",
     "output_type": "stream",
     "text": [
      "2025-09-22 11:46:13,529 - INFO - SVG for 2-D086 saved.\n",
      "2025-09-22 11:46:13,747 - INFO - Processing image /data/4-Z6K8_49330658558098c69ec955ecae8b4c1a3f6c467acc788fc80427df570333a653/Dataset_4-Z6K8/data/asset/Image/1053910_1665280_15864451_Right Field 2.jpg : , trial 1, color channel grey, resize function imgResize_primary\n"
     ]
    },
    {
     "name": "stdout",
     "output_type": "stream",
     "text": [
      "1/1 [==============================] - 0s 20ms/step\n"
     ]
    },
    {
     "name": "stderr",
     "output_type": "stream",
     "text": [
      "2025-09-22 11:46:14,479 - INFO - SVG for 2-D08J saved.\n",
      "2025-09-22 11:46:14,695 - INFO - Processing image /data/4-Z6K8_49330658558098c69ec955ecae8b4c1a3f6c467acc788fc80427df570333a653/Dataset_4-Z6K8/data/asset/Image/1053910_1665280_15864452_Left Field 2.jpg : , trial 1, color channel grey, resize function imgResize_primary\n"
     ]
    },
    {
     "name": "stdout",
     "output_type": "stream",
     "text": [
      "1/1 [==============================] - 0s 20ms/step\n"
     ]
    },
    {
     "name": "stderr",
     "output_type": "stream",
     "text": [
      "2025-09-22 11:46:15,537 - INFO - SVG for 2-D08M saved.\n",
      "2025-09-22 11:46:15,654 - INFO - Processing image /data/4-Z6K8_49330658558098c69ec955ecae8b4c1a3f6c467acc788fc80427df570333a653/Dataset_4-Z6K8/data/asset/Image/1054940_1522905_14910927_Left Field 2.jpg : , trial 1, color channel grey, resize function imgResize_primary\n"
     ]
    },
    {
     "name": "stdout",
     "output_type": "stream",
     "text": [
      "1/1 [==============================] - 0s 20ms/step\n"
     ]
    },
    {
     "name": "stderr",
     "output_type": "stream",
     "text": [
      "2025-09-22 11:46:16,404 - INFO - SVG for 2-D0A6 saved.\n",
      "2025-09-22 11:46:16,523 - INFO - Processing image /data/4-Z6K8_49330658558098c69ec955ecae8b4c1a3f6c467acc788fc80427df570333a653/Dataset_4-Z6K8/data/asset/Image/1054940_1522905_14910928_Right Field 2.jpg : , trial 1, color channel grey, resize function imgResize_primary\n"
     ]
    },
    {
     "name": "stdout",
     "output_type": "stream",
     "text": [
      "1/1 [==============================] - 0s 20ms/step\n"
     ]
    },
    {
     "name": "stderr",
     "output_type": "stream",
     "text": [
      "2025-09-22 11:46:17,113 - INFO - SVG for 2-D0A8 saved.\n",
      "2025-09-22 11:46:17,147 - INFO - Processing image /data/4-Z6K8_49330658558098c69ec955ecae8b4c1a3f6c467acc788fc80427df570333a653/Dataset_4-Z6K8/data/asset/Image/1056422_1525224_14926727_Left Field 2.jpg : , trial 1, color channel grey, resize function imgResize_primary\n"
     ]
    },
    {
     "name": "stdout",
     "output_type": "stream",
     "text": [
      "1/1 [==============================] - 0s 20ms/step\n"
     ]
    },
    {
     "name": "stderr",
     "output_type": "stream",
     "text": [
      "2025-09-22 11:46:18,207 - INFO - SVG for 2-D0EE saved.\n",
      "2025-09-22 11:46:18,241 - INFO - Processing image /data/4-Z6K8_49330658558098c69ec955ecae8b4c1a3f6c467acc788fc80427df570333a653/Dataset_4-Z6K8/data/asset/Image/1056422_1525224_14926731_Right Field 2.jpg : , trial 1, color channel grey, resize function imgResize_primary\n"
     ]
    },
    {
     "name": "stdout",
     "output_type": "stream",
     "text": [
      "1/1 [==============================] - 0s 21ms/step\n"
     ]
    },
    {
     "name": "stderr",
     "output_type": "stream",
     "text": [
      "2025-09-22 11:46:19,016 - INFO - SVG for 2-D0EM saved.\n",
      "2025-09-22 11:46:19,138 - INFO - Processing image /data/4-Z6K8_49330658558098c69ec955ecae8b4c1a3f6c467acc788fc80427df570333a653/Dataset_4-Z6K8/data/asset/Image/1057977_1527708_14943763_Left Field 2.jpg : , trial 1, color channel grey, resize function imgResize_primary\n"
     ]
    },
    {
     "name": "stdout",
     "output_type": "stream",
     "text": [
      "1/1 [==============================] - 0s 21ms/step\n"
     ]
    },
    {
     "name": "stderr",
     "output_type": "stream",
     "text": [
      "2025-09-22 11:46:19,742 - INFO - SVG for 2-D0GM saved.\n",
      "2025-09-22 11:46:19,849 - INFO - Processing image /data/4-Z6K8_49330658558098c69ec955ecae8b4c1a3f6c467acc788fc80427df570333a653/Dataset_4-Z6K8/data/asset/Image/1057977_1527708_14943764_Right Field 2.jpg : , trial 1, color channel grey, resize function imgResize_primary\n"
     ]
    },
    {
     "name": "stdout",
     "output_type": "stream",
     "text": [
      "1/1 [==============================] - 0s 20ms/step\n"
     ]
    },
    {
     "name": "stderr",
     "output_type": "stream",
     "text": [
      "2025-09-22 11:46:20,416 - INFO - SVG for 2-D0GP saved.\n",
      "2025-09-22 11:46:20,696 - INFO - Processing image /data/4-Z6K8_49330658558098c69ec955ecae8b4c1a3f6c467acc788fc80427df570333a653/Dataset_4-Z6K8/data/asset/Image/1058121_1527895_14944883_Right Field 2.jpg : , trial 1, color channel grey, resize function imgResize_primary\n"
     ]
    },
    {
     "name": "stdout",
     "output_type": "stream",
     "text": [
      "1/1 [==============================] - 0s 20ms/step\n"
     ]
    },
    {
     "name": "stderr",
     "output_type": "stream",
     "text": [
      "2025-09-22 11:46:21,741 - INFO - SVG for 2-D0GW saved.\n",
      "2025-09-22 11:46:22,023 - INFO - Processing image /data/4-Z6K8_49330658558098c69ec955ecae8b4c1a3f6c467acc788fc80427df570333a653/Dataset_4-Z6K8/data/asset/Image/1058121_1527895_14944884_Left Field 2.jpg : , trial 1, color channel grey, resize function imgResize_primary\n"
     ]
    },
    {
     "name": "stdout",
     "output_type": "stream",
     "text": [
      "1/1 [==============================] - 0s 21ms/step\n"
     ]
    },
    {
     "name": "stderr",
     "output_type": "stream",
     "text": [
      "2025-09-22 11:46:22,863 - INFO - SVG for 2-D0GY saved.\n",
      "2025-09-22 11:46:22,896 - INFO - Processing image /data/4-Z6K8_49330658558098c69ec955ecae8b4c1a3f6c467acc788fc80427df570333a653/Dataset_4-Z6K8/data/asset/Image/1058170_1527984_14945640_Right Field 2.jpg : , trial 1, color channel grey, resize function imgResize_primary\n"
     ]
    },
    {
     "name": "stdout",
     "output_type": "stream",
     "text": [
      "1/1 [==============================] - 0s 20ms/step\n"
     ]
    },
    {
     "name": "stderr",
     "output_type": "stream",
     "text": [
      "2025-09-22 11:46:23,604 - INFO - SVG for 2-D0HA saved.\n",
      "2025-09-22 11:46:23,637 - INFO - Processing image /data/4-Z6K8_49330658558098c69ec955ecae8b4c1a3f6c467acc788fc80427df570333a653/Dataset_4-Z6K8/data/asset/Image/1058170_1527984_14945642_Left Field 2.jpg : , trial 1, color channel grey, resize function imgResize_primary\n"
     ]
    },
    {
     "name": "stdout",
     "output_type": "stream",
     "text": [
      "1/1 [==============================] - 0s 21ms/step\n"
     ]
    },
    {
     "name": "stderr",
     "output_type": "stream",
     "text": [
      "2025-09-22 11:46:24,267 - INFO - SVG for 2-D0HE saved.\n",
      "2025-09-22 11:46:24,556 - INFO - Processing image /data/4-Z6K8_49330658558098c69ec955ecae8b4c1a3f6c467acc788fc80427df570333a653/Dataset_4-Z6K8/data/asset/Image/1062112_1534257_14988426_Left Field 2.jpg : , trial 1, color channel grey, resize function imgResize_primary\n"
     ]
    },
    {
     "name": "stdout",
     "output_type": "stream",
     "text": [
      "1/1 [==============================] - 0s 20ms/step\n"
     ]
    },
    {
     "name": "stderr",
     "output_type": "stream",
     "text": [
      "2025-09-22 11:46:25,465 - INFO - SVG for 2-D0R6 saved.\n",
      "2025-09-22 11:46:25,752 - INFO - Processing image /data/4-Z6K8_49330658558098c69ec955ecae8b4c1a3f6c467acc788fc80427df570333a653/Dataset_4-Z6K8/data/asset/Image/1062112_1534257_14988427_Right Field 2.jpg : , trial 1, color channel grey, resize function imgResize_primary\n"
     ]
    },
    {
     "name": "stdout",
     "output_type": "stream",
     "text": [
      "1/1 [==============================] - 0s 20ms/step\n"
     ]
    },
    {
     "name": "stderr",
     "output_type": "stream",
     "text": [
      "2025-09-22 11:46:26,950 - INFO - SVG for 2-D0R8 saved.\n",
      "2025-09-22 11:46:27,132 - INFO - Processing image /data/4-Z6K8_49330658558098c69ec955ecae8b4c1a3f6c467acc788fc80427df570333a653/Dataset_4-Z6K8/data/asset/Image/1062751_1535216_14994923_Left Field 2.jpg : , trial 1, color channel grey, resize function imgResize_primary\n"
     ]
    },
    {
     "name": "stdout",
     "output_type": "stream",
     "text": [
      "1/1 [==============================] - 0s 21ms/step\n"
     ]
    },
    {
     "name": "stderr",
     "output_type": "stream",
     "text": [
      "2025-09-22 11:46:28,041 - INFO - SVG for 2-D0SR saved.\n",
      "2025-09-22 11:46:28,222 - INFO - Processing image /data/4-Z6K8_49330658558098c69ec955ecae8b4c1a3f6c467acc788fc80427df570333a653/Dataset_4-Z6K8/data/asset/Image/1062751_1535216_14994927_Right Field 2.jpg : , trial 1, color channel grey, resize function imgResize_primary\n"
     ]
    },
    {
     "name": "stdout",
     "output_type": "stream",
     "text": [
      "1/1 [==============================] - 0s 21ms/step\n"
     ]
    },
    {
     "name": "stderr",
     "output_type": "stream",
     "text": [
      "2025-09-22 11:46:29,220 - INFO - SVG for 2-D0SW saved.\n",
      "2025-09-22 11:46:29,253 - INFO - Processing image /data/4-Z6K8_49330658558098c69ec955ecae8b4c1a3f6c467acc788fc80427df570333a653/Dataset_4-Z6K8/data/asset/Image/1063503_1536456_15004495_Right Field 2.jpg : , trial 1, color channel grey, resize function imgResize_primary\n"
     ]
    },
    {
     "name": "stdout",
     "output_type": "stream",
     "text": [
      "1/1 [==============================] - 0s 21ms/step\n"
     ]
    },
    {
     "name": "stderr",
     "output_type": "stream",
     "text": [
      "2025-09-22 11:46:29,795 - INFO - SVG for 2-D0VM saved.\n",
      "2025-09-22 11:46:29,829 - INFO - Processing image /data/4-Z6K8_49330658558098c69ec955ecae8b4c1a3f6c467acc788fc80427df570333a653/Dataset_4-Z6K8/data/asset/Image/1063503_1536456_15004497_Left Field 2.jpg : , trial 1, color channel grey, resize function imgResize_primary\n"
     ]
    },
    {
     "name": "stdout",
     "output_type": "stream",
     "text": [
      "1/1 [==============================] - 0s 21ms/step\n"
     ]
    },
    {
     "name": "stderr",
     "output_type": "stream",
     "text": [
      "2025-09-22 11:46:30,573 - INFO - SVG for 2-D0VR saved.\n",
      "2025-09-22 11:46:30,789 - INFO - Processing image /data/4-Z6K8_49330658558098c69ec955ecae8b4c1a3f6c467acc788fc80427df570333a653/Dataset_4-Z6K8/data/asset/Image/1064907_1538733_15019730_Right Field 2.jpg : , trial 1, color channel grey, resize function imgResize_primary\n"
     ]
    },
    {
     "name": "stdout",
     "output_type": "stream",
     "text": [
      "1/1 [==============================] - 0s 20ms/step\n"
     ]
    },
    {
     "name": "stderr",
     "output_type": "stream",
     "text": [
      "2025-09-22 11:46:31,487 - INFO - SVG for 2-D0ZG saved.\n",
      "2025-09-22 11:46:31,695 - INFO - Processing image /data/4-Z6K8_49330658558098c69ec955ecae8b4c1a3f6c467acc788fc80427df570333a653/Dataset_4-Z6K8/data/asset/Image/1064907_1538733_15019736_Left Field 2.jpg : , trial 1, color channel grey, resize function imgResize_primary\n"
     ]
    },
    {
     "name": "stdout",
     "output_type": "stream",
     "text": [
      "1/1 [==============================] - 0s 21ms/step\n"
     ]
    },
    {
     "name": "stderr",
     "output_type": "stream",
     "text": [
      "2025-09-22 11:46:32,440 - INFO - SVG for 2-D0ZJ saved.\n",
      "2025-09-22 11:46:32,657 - INFO - Processing image /data/4-Z6K8_49330658558098c69ec955ecae8b4c1a3f6c467acc788fc80427df570333a653/Dataset_4-Z6K8/data/asset/Image/1065028_1538927_15020975_Left Field 2.jpg : , trial 1, color channel grey, resize function imgResize_primary\n"
     ]
    },
    {
     "name": "stdout",
     "output_type": "stream",
     "text": [
      "1/1 [==============================] - 0s 20ms/step\n"
     ]
    },
    {
     "name": "stderr",
     "output_type": "stream",
     "text": [
      "2025-09-22 11:46:33,412 - INFO - SVG for 2-D0ZT saved.\n",
      "2025-09-22 11:46:33,631 - INFO - Processing image /data/4-Z6K8_49330658558098c69ec955ecae8b4c1a3f6c467acc788fc80427df570333a653/Dataset_4-Z6K8/data/asset/Image/1065028_1538927_15020977_Right Field 2.jpg : , trial 1, color channel grey, resize function imgResize_primary\n"
     ]
    },
    {
     "name": "stdout",
     "output_type": "stream",
     "text": [
      "1/1 [==============================] - 0s 21ms/step\n"
     ]
    },
    {
     "name": "stderr",
     "output_type": "stream",
     "text": [
      "2025-09-22 11:46:34,455 - INFO - SVG for 2-D0ZW saved.\n",
      "2025-09-22 11:46:34,573 - INFO - Processing image /data/4-Z6K8_49330658558098c69ec955ecae8b4c1a3f6c467acc788fc80427df570333a653/Dataset_4-Z6K8/data/asset/Image/1067048_1542268_15045056_Right Field 2.jpg : , trial 1, color channel grey, resize function imgResize_primary\n"
     ]
    },
    {
     "name": "stdout",
     "output_type": "stream",
     "text": [
      "1/1 [==============================] - 0s 20ms/step\n"
     ]
    },
    {
     "name": "stderr",
     "output_type": "stream",
     "text": [
      "2025-09-22 11:46:35,360 - INFO - SVG for 2-D16A saved.\n",
      "2025-09-22 11:46:35,479 - INFO - Processing image /data/4-Z6K8_49330658558098c69ec955ecae8b4c1a3f6c467acc788fc80427df570333a653/Dataset_4-Z6K8/data/asset/Image/1067048_1542268_15045057_Left Field 2.jpg : , trial 1, color channel grey, resize function imgResize_primary\n"
     ]
    },
    {
     "name": "stdout",
     "output_type": "stream",
     "text": [
      "1/1 [==============================] - 0s 20ms/step\n"
     ]
    },
    {
     "name": "stderr",
     "output_type": "stream",
     "text": [
      "2025-09-22 11:46:36,132 - INFO - SVG for 2-D16C saved.\n",
      "2025-09-22 11:46:36,249 - INFO - Processing image /data/4-Z6K8_49330658558098c69ec955ecae8b4c1a3f6c467acc788fc80427df570333a653/Dataset_4-Z6K8/data/asset/Image/1069406_1546161_15071744_Left Field 2.jpg : , trial 1, color channel grey, resize function imgResize_primary\n"
     ]
    },
    {
     "name": "stdout",
     "output_type": "stream",
     "text": [
      "1/1 [==============================] - 0s 21ms/step\n"
     ]
    },
    {
     "name": "stderr",
     "output_type": "stream",
     "text": [
      "2025-09-22 11:46:36,962 - INFO - SVG for 2-D1AC saved.\n",
      "2025-09-22 11:46:37,081 - INFO - Processing image /data/4-Z6K8_49330658558098c69ec955ecae8b4c1a3f6c467acc788fc80427df570333a653/Dataset_4-Z6K8/data/asset/Image/1069406_1546161_15071748_Right Field 2.jpg : , trial 1, color channel grey, resize function imgResize_primary\n"
     ]
    },
    {
     "name": "stdout",
     "output_type": "stream",
     "text": [
      "1/1 [==============================] - 0s 20ms/step\n"
     ]
    },
    {
     "name": "stderr",
     "output_type": "stream",
     "text": [
      "2025-09-22 11:46:37,963 - INFO - SVG for 2-D1AJ saved.\n",
      "2025-09-22 11:46:37,996 - INFO - Processing image /data/4-Z6K8_49330658558098c69ec955ecae8b4c1a3f6c467acc788fc80427df570333a653/Dataset_4-Z6K8/data/asset/Image/1072287_1550692_15102921_Left Field 2.jpg : , trial 1, color channel grey, resize function imgResize_primary\n"
     ]
    },
    {
     "name": "stdout",
     "output_type": "stream",
     "text": [
      "1/1 [==============================] - 0s 21ms/step\n"
     ]
    },
    {
     "name": "stderr",
     "output_type": "stream",
     "text": [
      "2025-09-22 11:46:38,898 - INFO - SVG for 2-D1EP saved.\n",
      "2025-09-22 11:46:38,931 - INFO - Processing image /data/4-Z6K8_49330658558098c69ec955ecae8b4c1a3f6c467acc788fc80427df570333a653/Dataset_4-Z6K8/data/asset/Image/1072287_1550692_15102922_Right Field 2.jpg : , trial 1, color channel grey, resize function imgResize_primary\n"
     ]
    },
    {
     "name": "stdout",
     "output_type": "stream",
     "text": [
      "1/1 [==============================] - 0s 20ms/step\n"
     ]
    },
    {
     "name": "stderr",
     "output_type": "stream",
     "text": [
      "2025-09-22 11:46:39,817 - INFO - SVG for 2-D1ER saved.\n",
      "2025-09-22 11:46:40,042 - INFO - Processing image /data/4-Z6K8_49330658558098c69ec955ecae8b4c1a3f6c467acc788fc80427df570333a653/Dataset_4-Z6K8/data/asset/Image/1072665_1551332_15107279_Left Field 2.jpg : , trial 1, color channel grey, resize function imgResize_primary\n"
     ]
    },
    {
     "name": "stdout",
     "output_type": "stream",
     "text": [
      "1/1 [==============================] - 0s 20ms/step\n"
     ]
    },
    {
     "name": "stderr",
     "output_type": "stream",
     "text": [
      "2025-09-22 11:46:40,913 - INFO - SVG for 2-D1FP saved.\n",
      "2025-09-22 11:46:41,133 - INFO - Processing image /data/4-Z6K8_49330658558098c69ec955ecae8b4c1a3f6c467acc788fc80427df570333a653/Dataset_4-Z6K8/data/asset/Image/1072665_1551332_15107281_Right Field 2.jpg : , trial 1, color channel grey, resize function imgResize_primary\n"
     ]
    },
    {
     "name": "stdout",
     "output_type": "stream",
     "text": [
      "1/1 [==============================] - 0s 20ms/step\n"
     ]
    },
    {
     "name": "stderr",
     "output_type": "stream",
     "text": [
      "2025-09-22 11:46:42,019 - INFO - SVG for 2-D1FT saved.\n",
      "2025-09-22 11:46:42,227 - INFO - Processing image /data/4-Z6K8_49330658558098c69ec955ecae8b4c1a3f6c467acc788fc80427df570333a653/Dataset_4-Z6K8/data/asset/Image/1073335_1552485_15115750_Left Field 2.jpg : , trial 1, color channel grey, resize function imgResize_primary\n"
     ]
    },
    {
     "name": "stdout",
     "output_type": "stream",
     "text": [
      "1/1 [==============================] - 0s 20ms/step\n"
     ]
    },
    {
     "name": "stderr",
     "output_type": "stream",
     "text": [
      "2025-09-22 11:46:42,928 - INFO - SVG for 2-D1J0 saved.\n",
      "2025-09-22 11:46:43,138 - INFO - Processing image /data/4-Z6K8_49330658558098c69ec955ecae8b4c1a3f6c467acc788fc80427df570333a653/Dataset_4-Z6K8/data/asset/Image/1073335_1552485_15115752_Right Field 2.jpg : , trial 1, color channel grey, resize function imgResize_primary\n"
     ]
    },
    {
     "name": "stdout",
     "output_type": "stream",
     "text": [
      "1/1 [==============================] - 0s 20ms/step\n"
     ]
    },
    {
     "name": "stderr",
     "output_type": "stream",
     "text": [
      "2025-09-22 11:46:44,137 - INFO - SVG for 2-D1J4 saved.\n",
      "2025-09-22 11:46:44,345 - INFO - Processing image /data/4-Z6K8_49330658558098c69ec955ecae8b4c1a3f6c467acc788fc80427df570333a653/Dataset_4-Z6K8/data/asset/Image/1076277_1557266_15157902_Right Field 2.jpg : , trial 1, color channel grey, resize function imgResize_primary\n"
     ]
    },
    {
     "name": "stdout",
     "output_type": "stream",
     "text": [
      "1/1 [==============================] - 0s 21ms/step\n"
     ]
    },
    {
     "name": "stderr",
     "output_type": "stream",
     "text": [
      "2025-09-22 11:46:45,114 - INFO - SVG for 2-D1QA saved.\n",
      "2025-09-22 11:46:45,321 - INFO - Processing image /data/4-Z6K8_49330658558098c69ec955ecae8b4c1a3f6c467acc788fc80427df570333a653/Dataset_4-Z6K8/data/asset/Image/1076277_1557266_15157903_Left Field 2.jpg : , trial 1, color channel grey, resize function imgResize_primary\n"
     ]
    },
    {
     "name": "stdout",
     "output_type": "stream",
     "text": [
      "1/1 [==============================] - 0s 21ms/step\n"
     ]
    },
    {
     "name": "stderr",
     "output_type": "stream",
     "text": [
      "2025-09-22 11:46:46,401 - INFO - SVG for 2-D1QC saved.\n",
      "2025-09-22 11:46:46,616 - INFO - Processing image /data/4-Z6K8_49330658558098c69ec955ecae8b4c1a3f6c467acc788fc80427df570333a653/Dataset_4-Z6K8/data/asset/Image/1076689_1557936_15162564_Left Field 2.jpg : , trial 1, color channel grey, resize function imgResize_primary\n"
     ]
    },
    {
     "name": "stdout",
     "output_type": "stream",
     "text": [
      "1/1 [==============================] - 0s 20ms/step\n"
     ]
    },
    {
     "name": "stderr",
     "output_type": "stream",
     "text": [
      "2025-09-22 11:46:47,429 - INFO - SVG for 2-D1RW saved.\n",
      "2025-09-22 11:46:47,646 - INFO - Processing image /data/4-Z6K8_49330658558098c69ec955ecae8b4c1a3f6c467acc788fc80427df570333a653/Dataset_4-Z6K8/data/asset/Image/1076689_1557936_15162569_Right Field 2.jpg : , trial 1, color channel grey, resize function imgResize_primary\n"
     ]
    },
    {
     "name": "stdout",
     "output_type": "stream",
     "text": [
      "1/1 [==============================] - 0s 21ms/step\n"
     ]
    },
    {
     "name": "stderr",
     "output_type": "stream",
     "text": [
      "2025-09-22 11:46:48,660 - INFO - SVG for 2-D1S2 saved.\n",
      "2025-09-22 11:46:48,693 - INFO - Processing image /data/4-Z6K8_49330658558098c69ec955ecae8b4c1a3f6c467acc788fc80427df570333a653/Dataset_4-Z6K8/data/asset/Image/1082661_1568276_15231605_Left Field 2.jpg : , trial 1, color channel grey, resize function imgResize_primary\n"
     ]
    },
    {
     "name": "stdout",
     "output_type": "stream",
     "text": [
      "1/1 [==============================] - 0s 20ms/step\n"
     ]
    },
    {
     "name": "stderr",
     "output_type": "stream",
     "text": [
      "2025-09-22 11:46:49,289 - INFO - SVG for 2-D25R saved.\n",
      "2025-09-22 11:46:49,321 - INFO - Processing image /data/4-Z6K8_49330658558098c69ec955ecae8b4c1a3f6c467acc788fc80427df570333a653/Dataset_4-Z6K8/data/asset/Image/1082661_1568276_15231609_Right Field 2.jpg : , trial 1, color channel grey, resize function imgResize_primary\n"
     ]
    },
    {
     "name": "stdout",
     "output_type": "stream",
     "text": [
      "1/1 [==============================] - 0s 20ms/step\n"
     ]
    },
    {
     "name": "stderr",
     "output_type": "stream",
     "text": [
      "2025-09-22 11:46:50,041 - INFO - SVG for 2-D260 saved.\n",
      "2025-09-22 11:46:50,251 - INFO - Processing image /data/4-Z6K8_49330658558098c69ec955ecae8b4c1a3f6c467acc788fc80427df570333a653/Dataset_4-Z6K8/data/asset/Image/1083031_1568859_15235713_Right Field 2.jpg : , trial 1, color channel grey, resize function imgResize_primary\n"
     ]
    },
    {
     "name": "stdout",
     "output_type": "stream",
     "text": [
      "1/1 [==============================] - 0s 21ms/step\n"
     ]
    },
    {
     "name": "stderr",
     "output_type": "stream",
     "text": [
      "2025-09-22 11:46:51,137 - INFO - SVG for 2-D26G saved.\n",
      "2025-09-22 11:46:51,350 - INFO - Processing image /data/4-Z6K8_49330658558098c69ec955ecae8b4c1a3f6c467acc788fc80427df570333a653/Dataset_4-Z6K8/data/asset/Image/1083644_1569896_15242847_Left Field 2.jpg : , trial 1, color channel grey, resize function imgResize_primary\n"
     ]
    },
    {
     "name": "stdout",
     "output_type": "stream",
     "text": [
      "1/1 [==============================] - 0s 20ms/step\n"
     ]
    },
    {
     "name": "stderr",
     "output_type": "stream",
     "text": [
      "2025-09-22 11:46:52,400 - INFO - SVG for 2-D27E saved.\n",
      "2025-09-22 11:46:52,617 - INFO - Processing image /data/4-Z6K8_49330658558098c69ec955ecae8b4c1a3f6c467acc788fc80427df570333a653/Dataset_4-Z6K8/data/asset/Image/1083644_1569896_15242850_Right Field 2.jpg : , trial 1, color channel grey, resize function imgResize_primary\n"
     ]
    },
    {
     "name": "stdout",
     "output_type": "stream",
     "text": [
      "1/1 [==============================] - 0s 20ms/step\n"
     ]
    },
    {
     "name": "stderr",
     "output_type": "stream",
     "text": [
      "2025-09-22 11:46:53,773 - INFO - SVG for 2-D27M saved.\n",
      "2025-09-22 11:46:54,003 - INFO - Processing image /data/4-Z6K8_49330658558098c69ec955ecae8b4c1a3f6c467acc788fc80427df570333a653/Dataset_4-Z6K8/data/asset/Image/1083644_1569896_15242855_Left Field 2.jpg : , trial 1, color channel grey, resize function imgResize_primary\n"
     ]
    },
    {
     "name": "stdout",
     "output_type": "stream",
     "text": [
      "1/1 [==============================] - 0s 20ms/step\n"
     ]
    },
    {
     "name": "stderr",
     "output_type": "stream",
     "text": [
      "2025-09-22 11:46:54,946 - INFO - SVG for 2-D27T saved.\n",
      "2025-09-22 11:46:55,224 - INFO - Processing image /data/4-Z6K8_49330658558098c69ec955ecae8b4c1a3f6c467acc788fc80427df570333a653/Dataset_4-Z6K8/data/asset/Image/1085194_1572457_15261228_Right Field 2.jpg : , trial 1, color channel grey, resize function imgResize_primary\n"
     ]
    },
    {
     "name": "stdout",
     "output_type": "stream",
     "text": [
      "1/1 [==============================] - 0s 20ms/step\n"
     ]
    },
    {
     "name": "stderr",
     "output_type": "stream",
     "text": [
      "2025-09-22 11:46:56,017 - INFO - SVG for 2-D2BA saved.\n",
      "2025-09-22 11:46:56,295 - INFO - Processing image /data/4-Z6K8_49330658558098c69ec955ecae8b4c1a3f6c467acc788fc80427df570333a653/Dataset_4-Z6K8/data/asset/Image/1085194_1572457_15261231_Left Field 2.jpg : , trial 1, color channel grey, resize function imgResize_primary\n"
     ]
    },
    {
     "name": "stdout",
     "output_type": "stream",
     "text": [
      "1/1 [==============================] - 0s 20ms/step\n"
     ]
    },
    {
     "name": "stderr",
     "output_type": "stream",
     "text": [
      "2025-09-22 11:46:57,255 - INFO - SVG for 2-D2BG saved.\n",
      "2025-09-22 11:46:57,290 - INFO - Processing image /data/4-Z6K8_49330658558098c69ec955ecae8b4c1a3f6c467acc788fc80427df570333a653/Dataset_4-Z6K8/data/asset/Image/1085655_1573228_15266409_Right Field 2.jpg : , trial 1, color channel grey, resize function imgResize_primary\n"
     ]
    },
    {
     "name": "stdout",
     "output_type": "stream",
     "text": [
      "1/1 [==============================] - 0s 21ms/step\n"
     ]
    },
    {
     "name": "stderr",
     "output_type": "stream",
     "text": [
      "2025-09-22 11:46:57,898 - INFO - SVG for 2-D2D2 saved.\n",
      "2025-09-22 11:46:57,933 - INFO - Processing image /data/4-Z6K8_49330658558098c69ec955ecae8b4c1a3f6c467acc788fc80427df570333a653/Dataset_4-Z6K8/data/asset/Image/1085655_1573228_15266410_Left Field 2.jpg : , trial 1, color channel grey, resize function imgResize_primary\n"
     ]
    },
    {
     "name": "stdout",
     "output_type": "stream",
     "text": [
      "1/1 [==============================] - 0s 21ms/step\n"
     ]
    },
    {
     "name": "stderr",
     "output_type": "stream",
     "text": [
      "2025-09-22 11:46:58,512 - INFO - SVG for 2-D2D4 saved.\n",
      "2025-09-22 11:46:58,633 - INFO - Processing image /data/4-Z6K8_49330658558098c69ec955ecae8b4c1a3f6c467acc788fc80427df570333a653/Dataset_4-Z6K8/data/asset/Image/1090782_1581830_15327144_Left Field 2.jpg : , trial 1, color channel grey, resize function imgResize_primary\n"
     ]
    },
    {
     "name": "stdout",
     "output_type": "stream",
     "text": [
      "1/1 [==============================] - 0s 21ms/step\n"
     ]
    },
    {
     "name": "stderr",
     "output_type": "stream",
     "text": [
      "2025-09-22 11:46:59,390 - INFO - SVG for 2-D2QM saved.\n",
      "2025-09-22 11:46:59,608 - INFO - Processing image /data/4-Z6K8_49330658558098c69ec955ecae8b4c1a3f6c467acc788fc80427df570333a653/Dataset_4-Z6K8/data/asset/Image/1094593_1587117_15354351_Right Field 2.jpg : , trial 1, color channel grey, resize function imgResize_primary\n"
     ]
    },
    {
     "name": "stdout",
     "output_type": "stream",
     "text": [
      "1/1 [==============================] - 0s 21ms/step\n"
     ]
    },
    {
     "name": "stderr",
     "output_type": "stream",
     "text": [
      "2025-09-22 11:47:00,560 - INFO - SVG for 2-D2VT saved.\n",
      "2025-09-22 11:47:00,778 - INFO - Processing image /data/4-Z6K8_49330658558098c69ec955ecae8b4c1a3f6c467acc788fc80427df570333a653/Dataset_4-Z6K8/data/asset/Image/1094593_1587117_15354361_Left Field 2.jpg : , trial 1, color channel grey, resize function imgResize_primary\n"
     ]
    },
    {
     "name": "stdout",
     "output_type": "stream",
     "text": [
      "1/1 [==============================] - 0s 20ms/step\n"
     ]
    },
    {
     "name": "stderr",
     "output_type": "stream",
     "text": [
      "2025-09-22 11:47:01,468 - INFO - SVG for 2-D2W0 saved.\n",
      "2025-09-22 11:47:01,576 - INFO - Processing image /data/4-Z6K8_49330658558098c69ec955ecae8b4c1a3f6c467acc788fc80427df570333a653/Dataset_4-Z6K8/data/asset/Image/1094622_1587166_15354672_Left Field 2.jpg : , trial 1, color channel grey, resize function imgResize_primary\n"
     ]
    },
    {
     "name": "stdout",
     "output_type": "stream",
     "text": [
      "1/1 [==============================] - 0s 21ms/step\n"
     ]
    },
    {
     "name": "stderr",
     "output_type": "stream",
     "text": [
      "2025-09-22 11:47:02,373 - INFO - SVG for 2-D2W8 saved.\n",
      "2025-09-22 11:47:02,481 - INFO - Processing image /data/4-Z6K8_49330658558098c69ec955ecae8b4c1a3f6c467acc788fc80427df570333a653/Dataset_4-Z6K8/data/asset/Image/1094622_1587166_15354678_Right Field 2.jpg : , trial 1, color channel grey, resize function imgResize_primary\n"
     ]
    },
    {
     "name": "stdout",
     "output_type": "stream",
     "text": [
      "1/1 [==============================] - 0s 20ms/step\n"
     ]
    },
    {
     "name": "stderr",
     "output_type": "stream",
     "text": [
      "2025-09-22 11:47:03,138 - INFO - SVG for 2-D2WG saved.\n",
      "2025-09-22 11:47:03,170 - INFO - Processing image /data/4-Z6K8_49330658558098c69ec955ecae8b4c1a3f6c467acc788fc80427df570333a653/Dataset_4-Z6K8/data/asset/Image/1098463_1593506_15398414_Right Field 2.jpg : , trial 1, color channel grey, resize function imgResize_primary\n"
     ]
    },
    {
     "name": "stdout",
     "output_type": "stream",
     "text": [
      "1/1 [==============================] - 0s 21ms/step\n"
     ]
    },
    {
     "name": "stderr",
     "output_type": "stream",
     "text": [
      "2025-09-22 11:47:03,932 - INFO - Processing image /data/4-Z6K8_49330658558098c69ec955ecae8b4c1a3f6c467acc788fc80427df570333a653/Dataset_4-Z6K8/data/asset/Image/1098463_1593506_15398414_Right Field 2.jpg : , trial 2, color channel green, resize function imgResize_primary\n"
     ]
    },
    {
     "name": "stdout",
     "output_type": "stream",
     "text": [
      "1/1 [==============================] - 0s 20ms/step\n"
     ]
    },
    {
     "name": "stderr",
     "output_type": "stream",
     "text": [
      "2025-09-22 11:47:04,650 - INFO - Processing image /data/4-Z6K8_49330658558098c69ec955ecae8b4c1a3f6c467acc788fc80427df570333a653/Dataset_4-Z6K8/data/asset/Image/1098463_1593506_15398414_Right Field 2.jpg : , trial 3, color channel red, resize function imgResize_primary\n"
     ]
    },
    {
     "name": "stdout",
     "output_type": "stream",
     "text": [
      "1/1 [==============================] - 0s 20ms/step\n"
     ]
    },
    {
     "name": "stderr",
     "output_type": "stream",
     "text": [
      "2025-09-22 11:47:05,328 - INFO - Processing image /data/4-Z6K8_49330658558098c69ec955ecae8b4c1a3f6c467acc788fc80427df570333a653/Dataset_4-Z6K8/data/asset/Image/1098463_1593506_15398414_Right Field 2.jpg : , trial 4, color channel blue, resize function imgResize_primary\n"
     ]
    },
    {
     "name": "stdout",
     "output_type": "stream",
     "text": [
      "1/1 [==============================] - 0s 20ms/step\n"
     ]
    },
    {
     "name": "stderr",
     "output_type": "stream",
     "text": [
      "2025-09-22 11:47:05,900 - INFO - Processing image /data/4-Z6K8_49330658558098c69ec955ecae8b4c1a3f6c467acc788fc80427df570333a653/Dataset_4-Z6K8/data/asset/Image/1098463_1593506_15398414_Right Field 2.jpg : , trial 1, color channel grey, resize function imgResize_secondary\n"
     ]
    },
    {
     "name": "stdout",
     "output_type": "stream",
     "text": [
      "1/1 [==============================] - 0s 20ms/step\n"
     ]
    },
    {
     "name": "stderr",
     "output_type": "stream",
     "text": [
      "2025-09-22 11:47:06,761 - INFO - Processing image /data/4-Z6K8_49330658558098c69ec955ecae8b4c1a3f6c467acc788fc80427df570333a653/Dataset_4-Z6K8/data/asset/Image/1098463_1593506_15398414_Right Field 2.jpg : , trial 2, color channel green, resize function imgResize_secondary\n"
     ]
    },
    {
     "name": "stdout",
     "output_type": "stream",
     "text": [
      "1/1 [==============================] - 0s 20ms/step\n"
     ]
    },
    {
     "name": "stderr",
     "output_type": "stream",
     "text": [
      "2025-09-22 11:47:07,454 - INFO - Processing image /data/4-Z6K8_49330658558098c69ec955ecae8b4c1a3f6c467acc788fc80427df570333a653/Dataset_4-Z6K8/data/asset/Image/1098463_1593506_15398414_Right Field 2.jpg : , trial 3, color channel red, resize function imgResize_secondary\n"
     ]
    },
    {
     "name": "stdout",
     "output_type": "stream",
     "text": [
      "1/1 [==============================] - 0s 21ms/step\n"
     ]
    },
    {
     "name": "stderr",
     "output_type": "stream",
     "text": [
      "2025-09-22 11:47:08,600 - INFO - Processing image /data/4-Z6K8_49330658558098c69ec955ecae8b4c1a3f6c467acc788fc80427df570333a653/Dataset_4-Z6K8/data/asset/Image/1098463_1593506_15398414_Right Field 2.jpg : , trial 4, color channel blue, resize function imgResize_secondary\n"
     ]
    },
    {
     "name": "stdout",
     "output_type": "stream",
     "text": [
      "1/1 [==============================] - 0s 20ms/step\n"
     ]
    },
    {
     "name": "stderr",
     "output_type": "stream",
     "text": [
      "2025-09-22 11:47:09,461 - INFO - Processing image /data/4-Z6K8_49330658558098c69ec955ecae8b4c1a3f6c467acc788fc80427df570333a653/Dataset_4-Z6K8/data/asset/Image/1098463_1593506_15398414_Right Field 2.jpg : , trial 1, color channel grey, resize function imgResize_primary\n"
     ]
    },
    {
     "name": "stdout",
     "output_type": "stream",
     "text": [
      "1/1 [==============================] - 0s 21ms/step\n"
     ]
    },
    {
     "name": "stderr",
     "output_type": "stream",
     "text": [
      "2025-09-22 11:47:10,135 - INFO - Processing image /data/4-Z6K8_49330658558098c69ec955ecae8b4c1a3f6c467acc788fc80427df570333a653/Dataset_4-Z6K8/data/asset/Image/1098463_1593506_15398414_Right Field 2.jpg : , trial 2, color channel green, resize function imgResize_primary\n"
     ]
    },
    {
     "name": "stdout",
     "output_type": "stream",
     "text": [
      "1/1 [==============================] - 0s 21ms/step\n"
     ]
    },
    {
     "name": "stderr",
     "output_type": "stream",
     "text": [
      "2025-09-22 11:47:10,759 - INFO - Processing image /data/4-Z6K8_49330658558098c69ec955ecae8b4c1a3f6c467acc788fc80427df570333a653/Dataset_4-Z6K8/data/asset/Image/1098463_1593506_15398414_Right Field 2.jpg : , trial 3, color channel red, resize function imgResize_primary\n"
     ]
    },
    {
     "name": "stdout",
     "output_type": "stream",
     "text": [
      "1/1 [==============================] - 0s 21ms/step\n"
     ]
    },
    {
     "name": "stderr",
     "output_type": "stream",
     "text": [
      "2025-09-22 11:47:11,493 - INFO - Processing image /data/4-Z6K8_49330658558098c69ec955ecae8b4c1a3f6c467acc788fc80427df570333a653/Dataset_4-Z6K8/data/asset/Image/1098463_1593506_15398414_Right Field 2.jpg : , trial 4, color channel blue, resize function imgResize_primary\n"
     ]
    },
    {
     "name": "stdout",
     "output_type": "stream",
     "text": [
      "1/1 [==============================] - 0s 20ms/step\n"
     ]
    },
    {
     "name": "stderr",
     "output_type": "stream",
     "text": [
      "2025-09-22 11:47:12,017 - INFO - Processing image /data/4-Z6K8_49330658558098c69ec955ecae8b4c1a3f6c467acc788fc80427df570333a653/Dataset_4-Z6K8/data/asset/Image/1098463_1593506_15398414_Right Field 2.jpg : , trial 1, color channel grey, resize function imgResize_secondary\n"
     ]
    },
    {
     "name": "stdout",
     "output_type": "stream",
     "text": [
      "1/1 [==============================] - 0s 21ms/step\n"
     ]
    },
    {
     "name": "stderr",
     "output_type": "stream",
     "text": [
      "2025-09-22 11:47:12,837 - INFO - Processing image /data/4-Z6K8_49330658558098c69ec955ecae8b4c1a3f6c467acc788fc80427df570333a653/Dataset_4-Z6K8/data/asset/Image/1098463_1593506_15398414_Right Field 2.jpg : , trial 2, color channel green, resize function imgResize_secondary\n"
     ]
    },
    {
     "name": "stdout",
     "output_type": "stream",
     "text": [
      "1/1 [==============================] - 0s 21ms/step\n"
     ]
    },
    {
     "name": "stderr",
     "output_type": "stream",
     "text": [
      "2025-09-22 11:47:13,819 - INFO - Processing image /data/4-Z6K8_49330658558098c69ec955ecae8b4c1a3f6c467acc788fc80427df570333a653/Dataset_4-Z6K8/data/asset/Image/1098463_1593506_15398414_Right Field 2.jpg : , trial 3, color channel red, resize function imgResize_secondary\n"
     ]
    },
    {
     "name": "stdout",
     "output_type": "stream",
     "text": [
      "1/1 [==============================] - 0s 21ms/step\n"
     ]
    },
    {
     "name": "stderr",
     "output_type": "stream",
     "text": [
      "2025-09-22 11:47:14,647 - INFO - Processing image /data/4-Z6K8_49330658558098c69ec955ecae8b4c1a3f6c467acc788fc80427df570333a653/Dataset_4-Z6K8/data/asset/Image/1098463_1593506_15398414_Right Field 2.jpg : , trial 4, color channel blue, resize function imgResize_secondary\n"
     ]
    },
    {
     "name": "stdout",
     "output_type": "stream",
     "text": [
      "1/1 [==============================] - 0s 20ms/step\n"
     ]
    },
    {
     "name": "stderr",
     "output_type": "stream",
     "text": [
      "2025-09-22 11:47:15,516 - INFO - Processing image /data/4-Z6K8_49330658558098c69ec955ecae8b4c1a3f6c467acc788fc80427df570333a653/Dataset_4-Z6K8/data/asset/Image/1098463_1593506_15398414_Right Field 2.jpg : , trial 1, color channel grey, resize function imgResize_primary\n"
     ]
    },
    {
     "name": "stdout",
     "output_type": "stream",
     "text": [
      "1/1 [==============================] - 0s 20ms/step\n"
     ]
    },
    {
     "name": "stderr",
     "output_type": "stream",
     "text": [
      "2025-09-22 11:47:16,223 - INFO - Processing image /data/4-Z6K8_49330658558098c69ec955ecae8b4c1a3f6c467acc788fc80427df570333a653/Dataset_4-Z6K8/data/asset/Image/1098463_1593506_15398414_Right Field 2.jpg : , trial 2, color channel green, resize function imgResize_primary\n"
     ]
    },
    {
     "name": "stdout",
     "output_type": "stream",
     "text": [
      "1/1 [==============================] - 0s 20ms/step\n"
     ]
    },
    {
     "name": "stderr",
     "output_type": "stream",
     "text": [
      "2025-09-22 11:47:16,781 - INFO - Processing image /data/4-Z6K8_49330658558098c69ec955ecae8b4c1a3f6c467acc788fc80427df570333a653/Dataset_4-Z6K8/data/asset/Image/1098463_1593506_15398414_Right Field 2.jpg : , trial 3, color channel red, resize function imgResize_primary\n"
     ]
    },
    {
     "name": "stdout",
     "output_type": "stream",
     "text": [
      "1/1 [==============================] - 0s 20ms/step\n"
     ]
    },
    {
     "name": "stderr",
     "output_type": "stream",
     "text": [
      "2025-09-22 11:47:17,362 - INFO - Processing image /data/4-Z6K8_49330658558098c69ec955ecae8b4c1a3f6c467acc788fc80427df570333a653/Dataset_4-Z6K8/data/asset/Image/1098463_1593506_15398414_Right Field 2.jpg : , trial 4, color channel blue, resize function imgResize_primary\n"
     ]
    },
    {
     "name": "stdout",
     "output_type": "stream",
     "text": [
      "1/1 [==============================] - 0s 20ms/step\n"
     ]
    },
    {
     "name": "stderr",
     "output_type": "stream",
     "text": [
      "2025-09-22 11:47:17,922 - INFO - Processing image /data/4-Z6K8_49330658558098c69ec955ecae8b4c1a3f6c467acc788fc80427df570333a653/Dataset_4-Z6K8/data/asset/Image/1098463_1593506_15398414_Right Field 2.jpg : , trial 1, color channel grey, resize function imgResize_secondary\n"
     ]
    },
    {
     "name": "stdout",
     "output_type": "stream",
     "text": [
      "1/1 [==============================] - 0s 21ms/step\n"
     ]
    },
    {
     "name": "stderr",
     "output_type": "stream",
     "text": [
      "2025-09-22 11:47:18,652 - INFO - Processing image /data/4-Z6K8_49330658558098c69ec955ecae8b4c1a3f6c467acc788fc80427df570333a653/Dataset_4-Z6K8/data/asset/Image/1098463_1593506_15398414_Right Field 2.jpg : , trial 2, color channel green, resize function imgResize_secondary\n"
     ]
    },
    {
     "name": "stdout",
     "output_type": "stream",
     "text": [
      "1/1 [==============================] - 0s 20ms/step\n"
     ]
    },
    {
     "name": "stderr",
     "output_type": "stream",
     "text": [
      "2025-09-22 11:47:19,486 - INFO - Processing image /data/4-Z6K8_49330658558098c69ec955ecae8b4c1a3f6c467acc788fc80427df570333a653/Dataset_4-Z6K8/data/asset/Image/1098463_1593506_15398414_Right Field 2.jpg : , trial 3, color channel red, resize function imgResize_secondary\n"
     ]
    },
    {
     "name": "stdout",
     "output_type": "stream",
     "text": [
      "1/1 [==============================] - 0s 20ms/step\n"
     ]
    },
    {
     "name": "stderr",
     "output_type": "stream",
     "text": [
      "2025-09-22 11:47:20,451 - INFO - Processing image /data/4-Z6K8_49330658558098c69ec955ecae8b4c1a3f6c467acc788fc80427df570333a653/Dataset_4-Z6K8/data/asset/Image/1098463_1593506_15398414_Right Field 2.jpg : , trial 4, color channel blue, resize function imgResize_secondary\n"
     ]
    },
    {
     "name": "stdout",
     "output_type": "stream",
     "text": [
      "1/1 [==============================] - 0s 21ms/step\n"
     ]
    },
    {
     "name": "stderr",
     "output_type": "stream",
     "text": [
      "2025-09-22 11:47:21,416 - INFO - SVG for 2-D310 saved.\n",
      "2025-09-22 11:47:21,450 - INFO - Processing image /data/4-Z6K8_49330658558098c69ec955ecae8b4c1a3f6c467acc788fc80427df570333a653/Dataset_4-Z6K8/data/asset/Image/1098463_1593506_15398417_Left Field 2.jpg : , trial 1, color channel grey, resize function imgResize_primary\n"
     ]
    },
    {
     "name": "stdout",
     "output_type": "stream",
     "text": [
      "1/1 [==============================] - 0s 20ms/step\n"
     ]
    },
    {
     "name": "stderr",
     "output_type": "stream",
     "text": [
      "2025-09-22 11:47:22,269 - INFO - Processing image /data/4-Z6K8_49330658558098c69ec955ecae8b4c1a3f6c467acc788fc80427df570333a653/Dataset_4-Z6K8/data/asset/Image/1098463_1593506_15398417_Left Field 2.jpg : , trial 2, color channel green, resize function imgResize_primary\n"
     ]
    },
    {
     "name": "stdout",
     "output_type": "stream",
     "text": [
      "1/1 [==============================] - 0s 20ms/step\n"
     ]
    },
    {
     "name": "stderr",
     "output_type": "stream",
     "text": [
      "2025-09-22 11:47:22,955 - INFO - Processing image /data/4-Z6K8_49330658558098c69ec955ecae8b4c1a3f6c467acc788fc80427df570333a653/Dataset_4-Z6K8/data/asset/Image/1098463_1593506_15398417_Left Field 2.jpg : , trial 3, color channel red, resize function imgResize_primary\n"
     ]
    },
    {
     "name": "stdout",
     "output_type": "stream",
     "text": [
      "1/1 [==============================] - 0s 21ms/step\n"
     ]
    },
    {
     "name": "stderr",
     "output_type": "stream",
     "text": [
      "2025-09-22 11:47:23,753 - INFO - Processing image /data/4-Z6K8_49330658558098c69ec955ecae8b4c1a3f6c467acc788fc80427df570333a653/Dataset_4-Z6K8/data/asset/Image/1098463_1593506_15398417_Left Field 2.jpg : , trial 4, color channel blue, resize function imgResize_primary\n"
     ]
    },
    {
     "name": "stdout",
     "output_type": "stream",
     "text": [
      "1/1 [==============================] - 0s 21ms/step\n"
     ]
    },
    {
     "name": "stderr",
     "output_type": "stream",
     "text": [
      "2025-09-22 11:47:24,404 - INFO - Processing image /data/4-Z6K8_49330658558098c69ec955ecae8b4c1a3f6c467acc788fc80427df570333a653/Dataset_4-Z6K8/data/asset/Image/1098463_1593506_15398417_Left Field 2.jpg : , trial 1, color channel grey, resize function imgResize_secondary\n"
     ]
    },
    {
     "name": "stdout",
     "output_type": "stream",
     "text": [
      "1/1 [==============================] - 0s 21ms/step\n"
     ]
    },
    {
     "name": "stderr",
     "output_type": "stream",
     "text": [
      "2025-09-22 11:47:25,449 - INFO - Processing image /data/4-Z6K8_49330658558098c69ec955ecae8b4c1a3f6c467acc788fc80427df570333a653/Dataset_4-Z6K8/data/asset/Image/1098463_1593506_15398417_Left Field 2.jpg : , trial 2, color channel green, resize function imgResize_secondary\n"
     ]
    },
    {
     "name": "stdout",
     "output_type": "stream",
     "text": [
      "1/1 [==============================] - 0s 20ms/step\n"
     ]
    },
    {
     "name": "stderr",
     "output_type": "stream",
     "text": [
      "2025-09-22 11:47:26,379 - INFO - Processing image /data/4-Z6K8_49330658558098c69ec955ecae8b4c1a3f6c467acc788fc80427df570333a653/Dataset_4-Z6K8/data/asset/Image/1098463_1593506_15398417_Left Field 2.jpg : , trial 3, color channel red, resize function imgResize_secondary\n"
     ]
    },
    {
     "name": "stdout",
     "output_type": "stream",
     "text": [
      "1/1 [==============================] - 0s 20ms/step\n"
     ]
    },
    {
     "name": "stderr",
     "output_type": "stream",
     "text": [
      "2025-09-22 11:47:27,417 - INFO - Processing image /data/4-Z6K8_49330658558098c69ec955ecae8b4c1a3f6c467acc788fc80427df570333a653/Dataset_4-Z6K8/data/asset/Image/1098463_1593506_15398417_Left Field 2.jpg : , trial 4, color channel blue, resize function imgResize_secondary\n"
     ]
    },
    {
     "name": "stdout",
     "output_type": "stream",
     "text": [
      "1/1 [==============================] - 0s 21ms/step\n"
     ]
    },
    {
     "name": "stderr",
     "output_type": "stream",
     "text": [
      "2025-09-22 11:47:28,248 - INFO - Processing image /data/4-Z6K8_49330658558098c69ec955ecae8b4c1a3f6c467acc788fc80427df570333a653/Dataset_4-Z6K8/data/asset/Image/1098463_1593506_15398417_Left Field 2.jpg : , trial 1, color channel grey, resize function imgResize_primary\n"
     ]
    },
    {
     "name": "stdout",
     "output_type": "stream",
     "text": [
      "1/1 [==============================] - 0s 20ms/step\n"
     ]
    },
    {
     "name": "stderr",
     "output_type": "stream",
     "text": [
      "2025-09-22 11:47:28,948 - INFO - Processing image /data/4-Z6K8_49330658558098c69ec955ecae8b4c1a3f6c467acc788fc80427df570333a653/Dataset_4-Z6K8/data/asset/Image/1098463_1593506_15398417_Left Field 2.jpg : , trial 2, color channel green, resize function imgResize_primary\n"
     ]
    },
    {
     "name": "stdout",
     "output_type": "stream",
     "text": [
      "1/1 [==============================] - 0s 20ms/step\n"
     ]
    },
    {
     "name": "stderr",
     "output_type": "stream",
     "text": [
      "2025-09-22 11:47:29,539 - INFO - Processing image /data/4-Z6K8_49330658558098c69ec955ecae8b4c1a3f6c467acc788fc80427df570333a653/Dataset_4-Z6K8/data/asset/Image/1098463_1593506_15398417_Left Field 2.jpg : , trial 3, color channel red, resize function imgResize_primary\n"
     ]
    },
    {
     "name": "stdout",
     "output_type": "stream",
     "text": [
      "1/1 [==============================] - 0s 21ms/step\n"
     ]
    },
    {
     "name": "stderr",
     "output_type": "stream",
     "text": [
      "2025-09-22 11:47:30,231 - INFO - Processing image /data/4-Z6K8_49330658558098c69ec955ecae8b4c1a3f6c467acc788fc80427df570333a653/Dataset_4-Z6K8/data/asset/Image/1098463_1593506_15398417_Left Field 2.jpg : , trial 4, color channel blue, resize function imgResize_primary\n"
     ]
    },
    {
     "name": "stdout",
     "output_type": "stream",
     "text": [
      "1/1 [==============================] - 0s 20ms/step\n"
     ]
    },
    {
     "name": "stderr",
     "output_type": "stream",
     "text": [
      "2025-09-22 11:47:30,861 - INFO - Processing image /data/4-Z6K8_49330658558098c69ec955ecae8b4c1a3f6c467acc788fc80427df570333a653/Dataset_4-Z6K8/data/asset/Image/1098463_1593506_15398417_Left Field 2.jpg : , trial 1, color channel grey, resize function imgResize_secondary\n"
     ]
    },
    {
     "name": "stdout",
     "output_type": "stream",
     "text": [
      "1/1 [==============================] - 0s 21ms/step\n"
     ]
    },
    {
     "name": "stderr",
     "output_type": "stream",
     "text": [
      "2025-09-22 11:47:31,810 - INFO - Processing image /data/4-Z6K8_49330658558098c69ec955ecae8b4c1a3f6c467acc788fc80427df570333a653/Dataset_4-Z6K8/data/asset/Image/1098463_1593506_15398417_Left Field 2.jpg : , trial 2, color channel green, resize function imgResize_secondary\n"
     ]
    },
    {
     "name": "stdout",
     "output_type": "stream",
     "text": [
      "1/1 [==============================] - 0s 21ms/step\n"
     ]
    },
    {
     "name": "stderr",
     "output_type": "stream",
     "text": [
      "2025-09-22 11:47:32,944 - INFO - Processing image /data/4-Z6K8_49330658558098c69ec955ecae8b4c1a3f6c467acc788fc80427df570333a653/Dataset_4-Z6K8/data/asset/Image/1098463_1593506_15398417_Left Field 2.jpg : , trial 3, color channel red, resize function imgResize_secondary\n"
     ]
    },
    {
     "name": "stdout",
     "output_type": "stream",
     "text": [
      "1/1 [==============================] - 0s 21ms/step\n"
     ]
    },
    {
     "name": "stderr",
     "output_type": "stream",
     "text": [
      "2025-09-22 11:47:33,936 - INFO - Processing image /data/4-Z6K8_49330658558098c69ec955ecae8b4c1a3f6c467acc788fc80427df570333a653/Dataset_4-Z6K8/data/asset/Image/1098463_1593506_15398417_Left Field 2.jpg : , trial 4, color channel blue, resize function imgResize_secondary\n"
     ]
    },
    {
     "name": "stdout",
     "output_type": "stream",
     "text": [
      "1/1 [==============================] - 0s 20ms/step\n"
     ]
    },
    {
     "name": "stderr",
     "output_type": "stream",
     "text": [
      "2025-09-22 11:47:34,773 - INFO - Processing image /data/4-Z6K8_49330658558098c69ec955ecae8b4c1a3f6c467acc788fc80427df570333a653/Dataset_4-Z6K8/data/asset/Image/1098463_1593506_15398417_Left Field 2.jpg : , trial 1, color channel grey, resize function imgResize_primary\n"
     ]
    },
    {
     "name": "stdout",
     "output_type": "stream",
     "text": [
      "1/1 [==============================] - 0s 20ms/step\n"
     ]
    },
    {
     "name": "stderr",
     "output_type": "stream",
     "text": [
      "2025-09-22 11:47:35,722 - INFO - Processing image /data/4-Z6K8_49330658558098c69ec955ecae8b4c1a3f6c467acc788fc80427df570333a653/Dataset_4-Z6K8/data/asset/Image/1098463_1593506_15398417_Left Field 2.jpg : , trial 2, color channel green, resize function imgResize_primary\n"
     ]
    },
    {
     "name": "stdout",
     "output_type": "stream",
     "text": [
      "1/1 [==============================] - 0s 20ms/step\n"
     ]
    },
    {
     "name": "stderr",
     "output_type": "stream",
     "text": [
      "2025-09-22 11:47:36,364 - INFO - Processing image /data/4-Z6K8_49330658558098c69ec955ecae8b4c1a3f6c467acc788fc80427df570333a653/Dataset_4-Z6K8/data/asset/Image/1098463_1593506_15398417_Left Field 2.jpg : , trial 3, color channel red, resize function imgResize_primary\n"
     ]
    },
    {
     "name": "stdout",
     "output_type": "stream",
     "text": [
      "1/1 [==============================] - 0s 20ms/step\n"
     ]
    },
    {
     "name": "stderr",
     "output_type": "stream",
     "text": [
      "2025-09-22 11:47:36,978 - INFO - Processing image /data/4-Z6K8_49330658558098c69ec955ecae8b4c1a3f6c467acc788fc80427df570333a653/Dataset_4-Z6K8/data/asset/Image/1098463_1593506_15398417_Left Field 2.jpg : , trial 4, color channel blue, resize function imgResize_primary\n"
     ]
    },
    {
     "name": "stdout",
     "output_type": "stream",
     "text": [
      "1/1 [==============================] - 0s 21ms/step\n"
     ]
    },
    {
     "name": "stderr",
     "output_type": "stream",
     "text": [
      "2025-09-22 11:47:37,582 - INFO - Processing image /data/4-Z6K8_49330658558098c69ec955ecae8b4c1a3f6c467acc788fc80427df570333a653/Dataset_4-Z6K8/data/asset/Image/1098463_1593506_15398417_Left Field 2.jpg : , trial 1, color channel grey, resize function imgResize_secondary\n"
     ]
    },
    {
     "name": "stdout",
     "output_type": "stream",
     "text": [
      "1/1 [==============================] - 0s 21ms/step\n"
     ]
    },
    {
     "name": "stderr",
     "output_type": "stream",
     "text": [
      "2025-09-22 11:47:38,532 - INFO - Processing image /data/4-Z6K8_49330658558098c69ec955ecae8b4c1a3f6c467acc788fc80427df570333a653/Dataset_4-Z6K8/data/asset/Image/1098463_1593506_15398417_Left Field 2.jpg : , trial 2, color channel green, resize function imgResize_secondary\n"
     ]
    },
    {
     "name": "stdout",
     "output_type": "stream",
     "text": [
      "1/1 [==============================] - 0s 21ms/step\n"
     ]
    },
    {
     "name": "stderr",
     "output_type": "stream",
     "text": [
      "2025-09-22 11:47:39,645 - INFO - Processing image /data/4-Z6K8_49330658558098c69ec955ecae8b4c1a3f6c467acc788fc80427df570333a653/Dataset_4-Z6K8/data/asset/Image/1098463_1593506_15398417_Left Field 2.jpg : , trial 3, color channel red, resize function imgResize_secondary\n"
     ]
    },
    {
     "name": "stdout",
     "output_type": "stream",
     "text": [
      "1/1 [==============================] - 0s 21ms/step\n"
     ]
    },
    {
     "name": "stderr",
     "output_type": "stream",
     "text": [
      "2025-09-22 11:47:40,721 - INFO - Processing image /data/4-Z6K8_49330658558098c69ec955ecae8b4c1a3f6c467acc788fc80427df570333a653/Dataset_4-Z6K8/data/asset/Image/1098463_1593506_15398417_Left Field 2.jpg : , trial 4, color channel blue, resize function imgResize_secondary\n"
     ]
    },
    {
     "name": "stdout",
     "output_type": "stream",
     "text": [
      "1/1 [==============================] - 0s 21ms/step\n"
     ]
    },
    {
     "name": "stderr",
     "output_type": "stream",
     "text": [
      "2025-09-22 11:47:41,592 - INFO - SVG for 2-D316 saved.\n",
      "2025-09-22 11:47:41,776 - INFO - Processing image /data/4-Z6K8_49330658558098c69ec955ecae8b4c1a3f6c467acc788fc80427df570333a653/Dataset_4-Z6K8/data/asset/Image/1098481_1593545_15398730_Right Field 2.jpg : , trial 1, color channel grey, resize function imgResize_primary\n"
     ]
    },
    {
     "name": "stdout",
     "output_type": "stream",
     "text": [
      "1/1 [==============================] - 0s 21ms/step\n"
     ]
    },
    {
     "name": "stderr",
     "output_type": "stream",
     "text": [
      "2025-09-22 11:47:42,656 - INFO - SVG for 2-D31C saved.\n",
      "2025-09-22 11:47:42,819 - INFO - Processing image /data/4-Z6K8_49330658558098c69ec955ecae8b4c1a3f6c467acc788fc80427df570333a653/Dataset_4-Z6K8/data/asset/Image/1098481_1593545_15398732_Left Field 2.jpg : , trial 1, color channel grey, resize function imgResize_primary\n"
     ]
    },
    {
     "name": "stdout",
     "output_type": "stream",
     "text": [
      "1/1 [==============================] - 0s 21ms/step\n"
     ]
    },
    {
     "name": "stderr",
     "output_type": "stream",
     "text": [
      "2025-09-22 11:47:43,787 - INFO - SVG for 2-D31G saved.\n",
      "2025-09-22 11:47:43,949 - INFO - Processing image /data/4-Z6K8_49330658558098c69ec955ecae8b4c1a3f6c467acc788fc80427df570333a653/Dataset_4-Z6K8/data/asset/Image/1098725_1593967_15401281_Left Field 2.jpg : , trial 1, color channel grey, resize function imgResize_primary\n"
     ]
    },
    {
     "name": "stdout",
     "output_type": "stream",
     "text": [
      "1/1 [==============================] - 0s 20ms/step\n"
     ]
    },
    {
     "name": "stderr",
     "output_type": "stream",
     "text": [
      "2025-09-22 11:47:44,864 - INFO - SVG for 2-D31P saved.\n",
      "2025-09-22 11:47:45,028 - INFO - Processing image /data/4-Z6K8_49330658558098c69ec955ecae8b4c1a3f6c467acc788fc80427df570333a653/Dataset_4-Z6K8/data/asset/Image/1098725_1593967_15401282_Right Field 2.jpg : , trial 1, color channel grey, resize function imgResize_primary\n"
     ]
    },
    {
     "name": "stdout",
     "output_type": "stream",
     "text": [
      "1/1 [==============================] - 0s 20ms/step\n"
     ]
    },
    {
     "name": "stderr",
     "output_type": "stream",
     "text": [
      "2025-09-22 11:47:45,749 - INFO - SVG for 2-D31R saved.\n",
      "2025-09-22 11:47:45,783 - INFO - Processing image /data/4-Z6K8_49330658558098c69ec955ecae8b4c1a3f6c467acc788fc80427df570333a653/Dataset_4-Z6K8/data/asset/Image/1100281_1596634_15419610_Left Field 2.jpg : , trial 1, color channel grey, resize function imgResize_primary\n"
     ]
    },
    {
     "name": "stdout",
     "output_type": "stream",
     "text": [
      "1/1 [==============================] - 0s 21ms/step\n"
     ]
    },
    {
     "name": "stderr",
     "output_type": "stream",
     "text": [
      "2025-09-22 11:47:46,533 - INFO - SVG for 2-D34Y saved.\n",
      "2025-09-22 11:47:46,567 - INFO - Processing image /data/4-Z6K8_49330658558098c69ec955ecae8b4c1a3f6c467acc788fc80427df570333a653/Dataset_4-Z6K8/data/asset/Image/1100281_1596634_15419614_Right Field 2.jpg : , trial 1, color channel grey, resize function imgResize_primary\n"
     ]
    },
    {
     "name": "stdout",
     "output_type": "stream",
     "text": [
      "1/1 [==============================] - 0s 20ms/step\n"
     ]
    },
    {
     "name": "stderr",
     "output_type": "stream",
     "text": [
      "2025-09-22 11:47:47,347 - INFO - SVG for 2-D354 saved.\n",
      "2025-09-22 11:47:47,561 - INFO - Processing image /data/4-Z6K8_49330658558098c69ec955ecae8b4c1a3f6c467acc788fc80427df570333a653/Dataset_4-Z6K8/data/asset/Image/1100610_1597183_15423362_Right Field 2.jpg : , trial 1, color channel grey, resize function imgResize_primary\n"
     ]
    },
    {
     "name": "stdout",
     "output_type": "stream",
     "text": [
      "1/1 [==============================] - 0s 21ms/step\n"
     ]
    },
    {
     "name": "stderr",
     "output_type": "stream",
     "text": [
      "2025-09-22 11:47:48,523 - INFO - SVG for 2-D35T saved.\n",
      "2025-09-22 11:47:48,737 - INFO - Processing image /data/4-Z6K8_49330658558098c69ec955ecae8b4c1a3f6c467acc788fc80427df570333a653/Dataset_4-Z6K8/data/asset/Image/1100610_1597183_15423364_Left Field 2.jpg : , trial 1, color channel grey, resize function imgResize_primary\n"
     ]
    },
    {
     "name": "stdout",
     "output_type": "stream",
     "text": [
      "1/1 [==============================] - 0s 21ms/step\n"
     ]
    },
    {
     "name": "stderr",
     "output_type": "stream",
     "text": [
      "2025-09-22 11:47:49,821 - INFO - SVG for 2-D35W saved.\n",
      "2025-09-22 11:47:50,046 - INFO - Processing image /data/4-Z6K8_49330658558098c69ec955ecae8b4c1a3f6c467acc788fc80427df570333a653/Dataset_4-Z6K8/data/asset/Image/1101483_1598622_15433888_Right Field 2.jpg : , trial 1, color channel grey, resize function imgResize_primary\n"
     ]
    },
    {
     "name": "stdout",
     "output_type": "stream",
     "text": [
      "1/1 [==============================] - 0s 20ms/step\n"
     ]
    },
    {
     "name": "stderr",
     "output_type": "stream",
     "text": [
      "2025-09-22 11:47:51,042 - INFO - SVG for 2-D37W saved.\n",
      "2025-09-22 11:47:51,269 - INFO - Processing image /data/4-Z6K8_49330658558098c69ec955ecae8b4c1a3f6c467acc788fc80427df570333a653/Dataset_4-Z6K8/data/asset/Image/1101483_1598622_15433894_Left Field 2.jpg : , trial 1, color channel grey, resize function imgResize_primary\n"
     ]
    },
    {
     "name": "stdout",
     "output_type": "stream",
     "text": [
      "1/1 [==============================] - 0s 20ms/step\n"
     ]
    },
    {
     "name": "stderr",
     "output_type": "stream",
     "text": [
      "2025-09-22 11:47:52,231 - INFO - SVG for 2-D382 saved.\n",
      "2025-09-22 11:47:52,445 - INFO - Processing image /data/4-Z6K8_49330658558098c69ec955ecae8b4c1a3f6c467acc788fc80427df570333a653/Dataset_4-Z6K8/data/asset/Image/1104004_1602997_15464298_Left Field 2.jpg : , trial 1, color channel grey, resize function imgResize_primary\n"
     ]
    },
    {
     "name": "stdout",
     "output_type": "stream",
     "text": [
      "1/1 [==============================] - 0s 20ms/step\n"
     ]
    },
    {
     "name": "stderr",
     "output_type": "stream",
     "text": [
      "2025-09-22 11:47:53,307 - INFO - SVG for 2-D3BE saved.\n",
      "2025-09-22 11:47:53,520 - INFO - Processing image /data/4-Z6K8_49330658558098c69ec955ecae8b4c1a3f6c467acc788fc80427df570333a653/Dataset_4-Z6K8/data/asset/Image/1104004_1602997_15464299_Right Field 2.jpg : , trial 1, color channel grey, resize function imgResize_primary\n"
     ]
    },
    {
     "name": "stdout",
     "output_type": "stream",
     "text": [
      "1/1 [==============================] - 0s 21ms/step\n"
     ]
    },
    {
     "name": "stderr",
     "output_type": "stream",
     "text": [
      "2025-09-22 11:47:54,319 - INFO - SVG for 2-D3BG saved.\n",
      "2025-09-22 11:47:54,442 - INFO - Processing image /data/4-Z6K8_49330658558098c69ec955ecae8b4c1a3f6c467acc788fc80427df570333a653/Dataset_4-Z6K8/data/asset/Image/1105396_1605263_15479271_Right Field 2.jpg : , trial 1, color channel grey, resize function imgResize_primary\n"
     ]
    },
    {
     "name": "stdout",
     "output_type": "stream",
     "text": [
      "1/1 [==============================] - 0s 20ms/step\n"
     ]
    },
    {
     "name": "stderr",
     "output_type": "stream",
     "text": [
      "2025-09-22 11:47:55,131 - INFO - SVG for 2-D3E0 saved.\n",
      "2025-09-22 11:47:55,239 - INFO - Processing image /data/4-Z6K8_49330658558098c69ec955ecae8b4c1a3f6c467acc788fc80427df570333a653/Dataset_4-Z6K8/data/asset/Image/1105396_1605263_15479273_Left Field 2.jpg : , trial 1, color channel grey, resize function imgResize_primary\n"
     ]
    },
    {
     "name": "stdout",
     "output_type": "stream",
     "text": [
      "1/1 [==============================] - 0s 20ms/step\n"
     ]
    },
    {
     "name": "stderr",
     "output_type": "stream",
     "text": [
      "2025-09-22 11:47:55,932 - INFO - SVG for 2-D3E4 saved.\n",
      "2025-09-22 11:47:55,965 - INFO - Processing image /data/4-Z6K8_49330658558098c69ec955ecae8b4c1a3f6c467acc788fc80427df570333a653/Dataset_4-Z6K8/data/asset/Image/1105798_1605953_15484250_Left Field 2.jpg : , trial 1, color channel grey, resize function imgResize_primary\n"
     ]
    },
    {
     "name": "stdout",
     "output_type": "stream",
     "text": [
      "1/1 [==============================] - 0s 21ms/step\n"
     ]
    },
    {
     "name": "stderr",
     "output_type": "stream",
     "text": [
      "2025-09-22 11:47:56,703 - INFO - SVG for 2-D3EG saved.\n",
      "2025-09-22 11:47:56,736 - INFO - Processing image /data/4-Z6K8_49330658558098c69ec955ecae8b4c1a3f6c467acc788fc80427df570333a653/Dataset_4-Z6K8/data/asset/Image/1105798_1605953_15484251_Right Field 2.jpg : , trial 1, color channel grey, resize function imgResize_primary\n"
     ]
    },
    {
     "name": "stdout",
     "output_type": "stream",
     "text": [
      "1/1 [==============================] - 0s 21ms/step\n"
     ]
    },
    {
     "name": "stderr",
     "output_type": "stream",
     "text": [
      "2025-09-22 11:47:57,319 - INFO - SVG for 2-D3EJ saved.\n",
      "2025-09-22 11:47:57,597 - INFO - Processing image /data/4-Z6K8_49330658558098c69ec955ecae8b4c1a3f6c467acc788fc80427df570333a653/Dataset_4-Z6K8/data/asset/Image/1110091_1613054_15533752_Left Field 2.jpg : , trial 1, color channel grey, resize function imgResize_primary\n"
     ]
    },
    {
     "name": "stdout",
     "output_type": "stream",
     "text": [
      "1/1 [==============================] - 0s 20ms/step\n"
     ]
    },
    {
     "name": "stderr",
     "output_type": "stream",
     "text": [
      "2025-09-22 11:47:58,568 - INFO - SVG for 2-D3QM saved.\n",
      "2025-09-22 11:47:58,850 - INFO - Processing image /data/4-Z6K8_49330658558098c69ec955ecae8b4c1a3f6c467acc788fc80427df570333a653/Dataset_4-Z6K8/data/asset/Image/1110091_1613054_15533754_Right Field 2.jpg : , trial 1, color channel grey, resize function imgResize_primary\n"
     ]
    },
    {
     "name": "stdout",
     "output_type": "stream",
     "text": [
      "1/1 [==============================] - 0s 20ms/step\n"
     ]
    },
    {
     "name": "stderr",
     "output_type": "stream",
     "text": [
      "2025-09-22 11:47:59,832 - INFO - SVG for 2-D3QR saved.\n",
      "2025-09-22 11:47:59,866 - INFO - Processing image /data/4-Z6K8_49330658558098c69ec955ecae8b4c1a3f6c467acc788fc80427df570333a653/Dataset_4-Z6K8/data/asset/Image/1110983_1614605_15544452_Left Field 2.jpg : , trial 1, color channel grey, resize function imgResize_primary\n"
     ]
    },
    {
     "name": "stdout",
     "output_type": "stream",
     "text": [
      "1/1 [==============================] - 0s 20ms/step\n"
     ]
    },
    {
     "name": "stderr",
     "output_type": "stream",
     "text": [
      "2025-09-22 11:48:00,578 - INFO - SVG for 2-D3S8 saved.\n",
      "2025-09-22 11:48:00,612 - INFO - Processing image /data/4-Z6K8_49330658558098c69ec955ecae8b4c1a3f6c467acc788fc80427df570333a653/Dataset_4-Z6K8/data/asset/Image/1110983_1614605_15544454_Right Field 2.jpg : , trial 1, color channel grey, resize function imgResize_primary\n"
     ]
    },
    {
     "name": "stdout",
     "output_type": "stream",
     "text": [
      "1/1 [==============================] - 0s 22ms/step\n"
     ]
    },
    {
     "name": "stderr",
     "output_type": "stream",
     "text": [
      "2025-09-22 11:48:01,439 - INFO - SVG for 2-D3SC saved.\n",
      "2025-09-22 11:48:01,648 - INFO - Processing image /data/4-Z6K8_49330658558098c69ec955ecae8b4c1a3f6c467acc788fc80427df570333a653/Dataset_4-Z6K8/data/asset/Image/1111346_1615216_15548641_Right Field 2.jpg : , trial 1, color channel grey, resize function imgResize_primary\n"
     ]
    },
    {
     "name": "stdout",
     "output_type": "stream",
     "text": [
      "1/1 [==============================] - 0s 20ms/step\n"
     ]
    },
    {
     "name": "stderr",
     "output_type": "stream",
     "text": [
      "2025-09-22 11:48:02,743 - INFO - SVG for 2-D3TP saved.\n",
      "2025-09-22 11:48:02,953 - INFO - Processing image /data/4-Z6K8_49330658558098c69ec955ecae8b4c1a3f6c467acc788fc80427df570333a653/Dataset_4-Z6K8/data/asset/Image/1111346_1615216_15548644_Left Field 2.jpg : , trial 1, color channel grey, resize function imgResize_primary\n"
     ]
    },
    {
     "name": "stdout",
     "output_type": "stream",
     "text": [
      "1/1 [==============================] - 0s 20ms/step\n"
     ]
    },
    {
     "name": "stderr",
     "output_type": "stream",
     "text": [
      "2025-09-22 11:48:03,762 - INFO - SVG for 2-D3TW saved.\n",
      "2025-09-22 11:48:03,977 - INFO - Processing image /data/4-Z6K8_49330658558098c69ec955ecae8b4c1a3f6c467acc788fc80427df570333a653/Dataset_4-Z6K8/data/asset/Image/1111851_1616052_15554410_Left Field 2.jpg : , trial 1, color channel grey, resize function imgResize_primary\n"
     ]
    },
    {
     "name": "stdout",
     "output_type": "stream",
     "text": [
      "1/1 [==============================] - 0s 20ms/step\n"
     ]
    },
    {
     "name": "stderr",
     "output_type": "stream",
     "text": [
      "2025-09-22 11:48:04,910 - INFO - SVG for 2-D3Y0 saved.\n",
      "2025-09-22 11:48:05,124 - INFO - Processing image /data/4-Z6K8_49330658558098c69ec955ecae8b4c1a3f6c467acc788fc80427df570333a653/Dataset_4-Z6K8/data/asset/Image/1111851_1616052_15554415_Right Field 2.jpg : , trial 1, color channel grey, resize function imgResize_primary\n"
     ]
    },
    {
     "name": "stdout",
     "output_type": "stream",
     "text": [
      "1/1 [==============================] - 0s 21ms/step\n"
     ]
    },
    {
     "name": "stderr",
     "output_type": "stream",
     "text": [
      "2025-09-22 11:48:06,231 - INFO - SVG for 2-D3Y8 saved.\n",
      "2025-09-22 11:48:06,458 - INFO - Processing image /data/4-Z6K8_49330658558098c69ec955ecae8b4c1a3f6c467acc788fc80427df570333a653/Dataset_4-Z6K8/data/asset/Image/1118600_1544061_15057049_Left Field 2.jpg : , trial 1, color channel grey, resize function imgResize_primary\n"
     ]
    },
    {
     "name": "stdout",
     "output_type": "stream",
     "text": [
      "1/1 [==============================] - 0s 21ms/step\n"
     ]
    },
    {
     "name": "stderr",
     "output_type": "stream",
     "text": [
      "2025-09-22 11:48:06,967 - INFO - Processing image /data/4-Z6K8_49330658558098c69ec955ecae8b4c1a3f6c467acc788fc80427df570333a653/Dataset_4-Z6K8/data/asset/Image/1118600_1544061_15057049_Left Field 2.jpg : , trial 2, color channel green, resize function imgResize_primary\n"
     ]
    },
    {
     "name": "stdout",
     "output_type": "stream",
     "text": [
      "1/1 [==============================] - 0s 21ms/step\n"
     ]
    },
    {
     "name": "stderr",
     "output_type": "stream",
     "text": [
      "2025-09-22 11:48:07,675 - INFO - SVG for 2-D412 saved.\n",
      "2025-09-22 11:48:07,901 - INFO - Processing image /data/4-Z6K8_49330658558098c69ec955ecae8b4c1a3f6c467acc788fc80427df570333a653/Dataset_4-Z6K8/data/asset/Image/1118600_1544061_15057050_Right Field 2.jpg : , trial 1, color channel grey, resize function imgResize_primary\n"
     ]
    },
    {
     "name": "stdout",
     "output_type": "stream",
     "text": [
      "1/1 [==============================] - 0s 20ms/step\n"
     ]
    },
    {
     "name": "stderr",
     "output_type": "stream",
     "text": [
      "2025-09-22 11:48:08,950 - INFO - SVG for 2-D414 saved.\n",
      "2025-09-22 11:48:09,235 - INFO - Processing image /data/4-Z6K8_49330658558098c69ec955ecae8b4c1a3f6c467acc788fc80427df570333a653/Dataset_4-Z6K8/data/asset/Image/1121178_1628113_15604904_Right Field 2.jpg : , trial 1, color channel grey, resize function imgResize_primary\n"
     ]
    },
    {
     "name": "stdout",
     "output_type": "stream",
     "text": [
      "1/1 [==============================] - 0s 20ms/step\n"
     ]
    },
    {
     "name": "stderr",
     "output_type": "stream",
     "text": [
      "2025-09-22 11:48:10,168 - INFO - Processing image /data/4-Z6K8_49330658558098c69ec955ecae8b4c1a3f6c467acc788fc80427df570333a653/Dataset_4-Z6K8/data/asset/Image/1121178_1628113_15604904_Right Field 2.jpg : , trial 2, color channel green, resize function imgResize_primary\n"
     ]
    },
    {
     "name": "stdout",
     "output_type": "stream",
     "text": [
      "1/1 [==============================] - 0s 20ms/step\n"
     ]
    },
    {
     "name": "stderr",
     "output_type": "stream",
     "text": [
      "2025-09-22 11:48:10,830 - INFO - Processing image /data/4-Z6K8_49330658558098c69ec955ecae8b4c1a3f6c467acc788fc80427df570333a653/Dataset_4-Z6K8/data/asset/Image/1121178_1628113_15604904_Right Field 2.jpg : , trial 3, color channel red, resize function imgResize_primary\n"
     ]
    },
    {
     "name": "stdout",
     "output_type": "stream",
     "text": [
      "1/1 [==============================] - 0s 21ms/step\n"
     ]
    },
    {
     "name": "stderr",
     "output_type": "stream",
     "text": [
      "2025-09-22 11:48:11,333 - INFO - Processing image /data/4-Z6K8_49330658558098c69ec955ecae8b4c1a3f6c467acc788fc80427df570333a653/Dataset_4-Z6K8/data/asset/Image/1121178_1628113_15604904_Right Field 2.jpg : , trial 4, color channel blue, resize function imgResize_primary\n"
     ]
    },
    {
     "name": "stdout",
     "output_type": "stream",
     "text": [
      "1/1 [==============================] - 0s 20ms/step\n"
     ]
    },
    {
     "name": "stderr",
     "output_type": "stream",
     "text": [
      "2025-09-22 11:48:12,047 - INFO - Processing image /data/4-Z6K8_49330658558098c69ec955ecae8b4c1a3f6c467acc788fc80427df570333a653/Dataset_4-Z6K8/data/asset/Image/1121178_1628113_15604904_Right Field 2.jpg : , trial 1, color channel grey, resize function imgResize_secondary\n"
     ]
    },
    {
     "name": "stdout",
     "output_type": "stream",
     "text": [
      "1/1 [==============================] - 0s 20ms/step\n"
     ]
    },
    {
     "name": "stderr",
     "output_type": "stream",
     "text": [
      "2025-09-22 11:48:13,222 - INFO - Processing image /data/4-Z6K8_49330658558098c69ec955ecae8b4c1a3f6c467acc788fc80427df570333a653/Dataset_4-Z6K8/data/asset/Image/1121178_1628113_15604904_Right Field 2.jpg : , trial 2, color channel green, resize function imgResize_secondary\n"
     ]
    },
    {
     "name": "stdout",
     "output_type": "stream",
     "text": [
      "1/1 [==============================] - 0s 21ms/step\n"
     ]
    },
    {
     "name": "stderr",
     "output_type": "stream",
     "text": [
      "2025-09-22 11:48:14,265 - INFO - Processing image /data/4-Z6K8_49330658558098c69ec955ecae8b4c1a3f6c467acc788fc80427df570333a653/Dataset_4-Z6K8/data/asset/Image/1121178_1628113_15604904_Right Field 2.jpg : , trial 3, color channel red, resize function imgResize_secondary\n"
     ]
    },
    {
     "name": "stdout",
     "output_type": "stream",
     "text": [
      "1/1 [==============================] - 0s 20ms/step\n"
     ]
    },
    {
     "name": "stderr",
     "output_type": "stream",
     "text": [
      "2025-09-22 11:48:14,974 - INFO - Processing image /data/4-Z6K8_49330658558098c69ec955ecae8b4c1a3f6c467acc788fc80427df570333a653/Dataset_4-Z6K8/data/asset/Image/1121178_1628113_15604904_Right Field 2.jpg : , trial 4, color channel blue, resize function imgResize_secondary\n"
     ]
    },
    {
     "name": "stdout",
     "output_type": "stream",
     "text": [
      "1/1 [==============================] - 0s 21ms/step\n"
     ]
    },
    {
     "name": "stderr",
     "output_type": "stream",
     "text": [
      "2025-09-22 11:48:15,940 - INFO - Processing image /data/4-Z6K8_49330658558098c69ec955ecae8b4c1a3f6c467acc788fc80427df570333a653/Dataset_4-Z6K8/data/asset/Image/1121178_1628113_15604904_Right Field 2.jpg : , trial 1, color channel grey, resize function imgResize_primary\n"
     ]
    },
    {
     "name": "stdout",
     "output_type": "stream",
     "text": [
      "1/1 [==============================] - 0s 22ms/step\n"
     ]
    },
    {
     "name": "stderr",
     "output_type": "stream",
     "text": [
      "2025-09-22 11:48:16,876 - INFO - Processing image /data/4-Z6K8_49330658558098c69ec955ecae8b4c1a3f6c467acc788fc80427df570333a653/Dataset_4-Z6K8/data/asset/Image/1121178_1628113_15604904_Right Field 2.jpg : , trial 2, color channel green, resize function imgResize_primary\n"
     ]
    },
    {
     "name": "stdout",
     "output_type": "stream",
     "text": [
      "1/1 [==============================] - 0s 21ms/step\n"
     ]
    },
    {
     "name": "stderr",
     "output_type": "stream",
     "text": [
      "2025-09-22 11:48:17,815 - INFO - Processing image /data/4-Z6K8_49330658558098c69ec955ecae8b4c1a3f6c467acc788fc80427df570333a653/Dataset_4-Z6K8/data/asset/Image/1121178_1628113_15604904_Right Field 2.jpg : , trial 3, color channel red, resize function imgResize_primary\n"
     ]
    },
    {
     "name": "stdout",
     "output_type": "stream",
     "text": [
      "1/1 [==============================] - 0s 20ms/step\n"
     ]
    },
    {
     "name": "stderr",
     "output_type": "stream",
     "text": [
      "2025-09-22 11:48:18,330 - INFO - Processing image /data/4-Z6K8_49330658558098c69ec955ecae8b4c1a3f6c467acc788fc80427df570333a653/Dataset_4-Z6K8/data/asset/Image/1121178_1628113_15604904_Right Field 2.jpg : , trial 4, color channel blue, resize function imgResize_primary\n"
     ]
    },
    {
     "name": "stdout",
     "output_type": "stream",
     "text": [
      "1/1 [==============================] - 0s 20ms/step\n"
     ]
    },
    {
     "name": "stderr",
     "output_type": "stream",
     "text": [
      "2025-09-22 11:48:18,952 - INFO - Processing image /data/4-Z6K8_49330658558098c69ec955ecae8b4c1a3f6c467acc788fc80427df570333a653/Dataset_4-Z6K8/data/asset/Image/1121178_1628113_15604904_Right Field 2.jpg : , trial 1, color channel grey, resize function imgResize_secondary\n"
     ]
    },
    {
     "name": "stdout",
     "output_type": "stream",
     "text": [
      "1/1 [==============================] - 0s 20ms/step\n"
     ]
    },
    {
     "name": "stderr",
     "output_type": "stream",
     "text": [
      "2025-09-22 11:48:20,362 - INFO - Processing image /data/4-Z6K8_49330658558098c69ec955ecae8b4c1a3f6c467acc788fc80427df570333a653/Dataset_4-Z6K8/data/asset/Image/1121178_1628113_15604904_Right Field 2.jpg : , trial 2, color channel green, resize function imgResize_secondary\n"
     ]
    },
    {
     "name": "stdout",
     "output_type": "stream",
     "text": [
      "1/1 [==============================] - 0s 20ms/step\n"
     ]
    },
    {
     "name": "stderr",
     "output_type": "stream",
     "text": [
      "2025-09-22 11:48:21,311 - INFO - Processing image /data/4-Z6K8_49330658558098c69ec955ecae8b4c1a3f6c467acc788fc80427df570333a653/Dataset_4-Z6K8/data/asset/Image/1121178_1628113_15604904_Right Field 2.jpg : , trial 3, color channel red, resize function imgResize_secondary\n"
     ]
    },
    {
     "name": "stdout",
     "output_type": "stream",
     "text": [
      "1/1 [==============================] - 0s 20ms/step\n"
     ]
    },
    {
     "name": "stderr",
     "output_type": "stream",
     "text": [
      "2025-09-22 11:48:22,020 - INFO - Processing image /data/4-Z6K8_49330658558098c69ec955ecae8b4c1a3f6c467acc788fc80427df570333a653/Dataset_4-Z6K8/data/asset/Image/1121178_1628113_15604904_Right Field 2.jpg : , trial 4, color channel blue, resize function imgResize_secondary\n"
     ]
    },
    {
     "name": "stdout",
     "output_type": "stream",
     "text": [
      "1/1 [==============================] - 0s 21ms/step\n"
     ]
    },
    {
     "name": "stderr",
     "output_type": "stream",
     "text": [
      "2025-09-22 11:48:22,892 - INFO - Processing image /data/4-Z6K8_49330658558098c69ec955ecae8b4c1a3f6c467acc788fc80427df570333a653/Dataset_4-Z6K8/data/asset/Image/1121178_1628113_15604904_Right Field 2.jpg : , trial 1, color channel grey, resize function imgResize_primary\n"
     ]
    },
    {
     "name": "stdout",
     "output_type": "stream",
     "text": [
      "1/1 [==============================] - 0s 20ms/step\n"
     ]
    },
    {
     "name": "stderr",
     "output_type": "stream",
     "text": [
      "2025-09-22 11:48:23,857 - INFO - Processing image /data/4-Z6K8_49330658558098c69ec955ecae8b4c1a3f6c467acc788fc80427df570333a653/Dataset_4-Z6K8/data/asset/Image/1121178_1628113_15604904_Right Field 2.jpg : , trial 2, color channel green, resize function imgResize_primary\n"
     ]
    },
    {
     "name": "stdout",
     "output_type": "stream",
     "text": [
      "1/1 [==============================] - 0s 21ms/step\n"
     ]
    },
    {
     "name": "stderr",
     "output_type": "stream",
     "text": [
      "2025-09-22 11:48:24,627 - INFO - Processing image /data/4-Z6K8_49330658558098c69ec955ecae8b4c1a3f6c467acc788fc80427df570333a653/Dataset_4-Z6K8/data/asset/Image/1121178_1628113_15604904_Right Field 2.jpg : , trial 3, color channel red, resize function imgResize_primary\n"
     ]
    },
    {
     "name": "stdout",
     "output_type": "stream",
     "text": [
      "1/1 [==============================] - 0s 20ms/step\n"
     ]
    },
    {
     "name": "stderr",
     "output_type": "stream",
     "text": [
      "2025-09-22 11:48:25,137 - INFO - Processing image /data/4-Z6K8_49330658558098c69ec955ecae8b4c1a3f6c467acc788fc80427df570333a653/Dataset_4-Z6K8/data/asset/Image/1121178_1628113_15604904_Right Field 2.jpg : , trial 4, color channel blue, resize function imgResize_primary\n"
     ]
    },
    {
     "name": "stdout",
     "output_type": "stream",
     "text": [
      "1/1 [==============================] - 0s 21ms/step\n"
     ]
    },
    {
     "name": "stderr",
     "output_type": "stream",
     "text": [
      "2025-09-22 11:48:25,860 - INFO - Processing image /data/4-Z6K8_49330658558098c69ec955ecae8b4c1a3f6c467acc788fc80427df570333a653/Dataset_4-Z6K8/data/asset/Image/1121178_1628113_15604904_Right Field 2.jpg : , trial 1, color channel grey, resize function imgResize_secondary\n"
     ]
    },
    {
     "name": "stdout",
     "output_type": "stream",
     "text": [
      "1/1 [==============================] - 0s 20ms/step\n"
     ]
    },
    {
     "name": "stderr",
     "output_type": "stream",
     "text": [
      "2025-09-22 11:48:27,169 - INFO - Processing image /data/4-Z6K8_49330658558098c69ec955ecae8b4c1a3f6c467acc788fc80427df570333a653/Dataset_4-Z6K8/data/asset/Image/1121178_1628113_15604904_Right Field 2.jpg : , trial 2, color channel green, resize function imgResize_secondary\n"
     ]
    },
    {
     "name": "stdout",
     "output_type": "stream",
     "text": [
      "1/1 [==============================] - 0s 21ms/step\n"
     ]
    },
    {
     "name": "stderr",
     "output_type": "stream",
     "text": [
      "2025-09-22 11:48:28,291 - INFO - Processing image /data/4-Z6K8_49330658558098c69ec955ecae8b4c1a3f6c467acc788fc80427df570333a653/Dataset_4-Z6K8/data/asset/Image/1121178_1628113_15604904_Right Field 2.jpg : , trial 3, color channel red, resize function imgResize_secondary\n"
     ]
    },
    {
     "name": "stdout",
     "output_type": "stream",
     "text": [
      "1/1 [==============================] - 0s 21ms/step\n"
     ]
    },
    {
     "name": "stderr",
     "output_type": "stream",
     "text": [
      "2025-09-22 11:48:29,027 - INFO - Processing image /data/4-Z6K8_49330658558098c69ec955ecae8b4c1a3f6c467acc788fc80427df570333a653/Dataset_4-Z6K8/data/asset/Image/1121178_1628113_15604904_Right Field 2.jpg : , trial 4, color channel blue, resize function imgResize_secondary\n"
     ]
    },
    {
     "name": "stdout",
     "output_type": "stream",
     "text": [
      "1/1 [==============================] - 0s 20ms/step\n"
     ]
    },
    {
     "name": "stderr",
     "output_type": "stream",
     "text": [
      "2025-09-22 11:48:30,243 - INFO - SVG for 2-D452 saved.\n",
      "2025-09-22 11:48:32,059 - INFO - Processing image /data/4-Z6K8_49330658558098c69ec955ecae8b4c1a3f6c467acc788fc80427df570333a653/Dataset_4-Z6K8/data/asset/Image/1121178_1628113_15604905_Left Field 2.jpg : , trial 1, color channel grey, resize function imgResize_primary\n"
     ]
    },
    {
     "name": "stdout",
     "output_type": "stream",
     "text": [
      "1/1 [==============================] - 0s 21ms/step\n"
     ]
    },
    {
     "name": "stderr",
     "output_type": "stream",
     "text": [
      "2025-09-22 11:48:33,392 - INFO - SVG for 2-D454 saved.\n",
      "2025-09-22 11:48:34,477 - INFO - Processing image /data/4-Z6K8_49330658558098c69ec955ecae8b4c1a3f6c467acc788fc80427df570333a653/Dataset_4-Z6K8/data/asset/Image/1122820_1630750_15623961_Right Field 2.jpg : , trial 1, color channel grey, resize function imgResize_primary\n"
     ]
    },
    {
     "name": "stdout",
     "output_type": "stream",
     "text": [
      "1/1 [==============================] - 0s 21ms/step\n"
     ]
    },
    {
     "name": "stderr",
     "output_type": "stream",
     "text": [
      "2025-09-22 11:48:35,106 - INFO - Processing image /data/4-Z6K8_49330658558098c69ec955ecae8b4c1a3f6c467acc788fc80427df570333a653/Dataset_4-Z6K8/data/asset/Image/1122820_1630750_15623961_Right Field 2.jpg : , trial 2, color channel green, resize function imgResize_primary\n"
     ]
    },
    {
     "name": "stdout",
     "output_type": "stream",
     "text": [
      "1/1 [==============================] - 0s 20ms/step\n"
     ]
    },
    {
     "name": "stderr",
     "output_type": "stream",
     "text": [
      "2025-09-22 11:48:35,847 - INFO - Processing image /data/4-Z6K8_49330658558098c69ec955ecae8b4c1a3f6c467acc788fc80427df570333a653/Dataset_4-Z6K8/data/asset/Image/1122820_1630750_15623961_Right Field 2.jpg : , trial 3, color channel red, resize function imgResize_primary\n"
     ]
    },
    {
     "name": "stdout",
     "output_type": "stream",
     "text": [
      "1/1 [==============================] - 0s 21ms/step\n"
     ]
    },
    {
     "name": "stderr",
     "output_type": "stream",
     "text": [
      "2025-09-22 11:48:36,638 - INFO - SVG for 2-D47G saved.\n",
      "2025-09-22 11:48:36,760 - INFO - Processing image /data/4-Z6K8_49330658558098c69ec955ecae8b4c1a3f6c467acc788fc80427df570333a653/Dataset_4-Z6K8/data/asset/Image/1123135_1631243_15626830_Left Field 2.jpg : , trial 1, color channel grey, resize function imgResize_primary\n"
     ]
    },
    {
     "name": "stdout",
     "output_type": "stream",
     "text": [
      "1/1 [==============================] - 0s 21ms/step\n"
     ]
    },
    {
     "name": "stderr",
     "output_type": "stream",
     "text": [
      "2025-09-22 11:48:37,508 - INFO - SVG for 2-D48Y saved.\n",
      "2025-09-22 11:48:37,629 - INFO - Processing image /data/4-Z6K8_49330658558098c69ec955ecae8b4c1a3f6c467acc788fc80427df570333a653/Dataset_4-Z6K8/data/asset/Image/1123135_1631243_15626832_Right Field 2.jpg : , trial 1, color channel grey, resize function imgResize_primary\n"
     ]
    },
    {
     "name": "stdout",
     "output_type": "stream",
     "text": [
      "1/1 [==============================] - 0s 20ms/step\n"
     ]
    },
    {
     "name": "stderr",
     "output_type": "stream",
     "text": [
      "2025-09-22 11:48:38,364 - INFO - SVG for 2-D492 saved.\n",
      "2025-09-22 11:48:38,657 - INFO - Processing image /data/4-Z6K8_49330658558098c69ec955ecae8b4c1a3f6c467acc788fc80427df570333a653/Dataset_4-Z6K8/data/asset/Image/1123300_1631538_15629306_Left Field 2.jpg : , trial 1, color channel grey, resize function imgResize_primary\n"
     ]
    },
    {
     "name": "stdout",
     "output_type": "stream",
     "text": [
      "1/1 [==============================] - 0s 20ms/step\n"
     ]
    },
    {
     "name": "stderr",
     "output_type": "stream",
     "text": [
      "2025-09-22 11:48:39,802 - INFO - SVG for 2-D49E saved.\n",
      "2025-09-22 11:48:40,228 - INFO - Processing image /data/4-Z6K8_49330658558098c69ec955ecae8b4c1a3f6c467acc788fc80427df570333a653/Dataset_4-Z6K8/data/asset/Image/1123300_1631538_15629307_Right Field 2.jpg : , trial 1, color channel grey, resize function imgResize_primary\n"
     ]
    },
    {
     "name": "stdout",
     "output_type": "stream",
     "text": [
      "1/1 [==============================] - 0s 20ms/step\n"
     ]
    },
    {
     "name": "stderr",
     "output_type": "stream",
     "text": [
      "2025-09-22 11:48:41,231 - INFO - SVG for 2-D49G saved.\n",
      "2025-09-22 11:48:41,352 - INFO - Processing image /data/4-Z6K8_49330658558098c69ec955ecae8b4c1a3f6c467acc788fc80427df570333a653/Dataset_4-Z6K8/data/asset/Image/1126053_1635754_15656423_Right Field 2.jpg : , trial 1, color channel grey, resize function imgResize_primary\n"
     ]
    },
    {
     "name": "stdout",
     "output_type": "stream",
     "text": [
      "1/1 [==============================] - 0s 21ms/step\n"
     ]
    },
    {
     "name": "stderr",
     "output_type": "stream",
     "text": [
      "2025-09-22 11:48:42,022 - INFO - SVG for 2-D4D2 saved.\n",
      "2025-09-22 11:48:42,143 - INFO - Processing image /data/4-Z6K8_49330658558098c69ec955ecae8b4c1a3f6c467acc788fc80427df570333a653/Dataset_4-Z6K8/data/asset/Image/1126053_1635754_15656426_Left Field 2.jpg : , trial 1, color channel grey, resize function imgResize_primary\n"
     ]
    },
    {
     "name": "stdout",
     "output_type": "stream",
     "text": [
      "1/1 [==============================] - 0s 20ms/step\n"
     ]
    },
    {
     "name": "stderr",
     "output_type": "stream",
     "text": [
      "2025-09-22 11:48:43,019 - INFO - SVG for 2-D4D6 saved.\n",
      "2025-09-22 11:48:43,239 - INFO - Processing image /data/4-Z6K8_49330658558098c69ec955ecae8b4c1a3f6c467acc788fc80427df570333a653/Dataset_4-Z6K8/data/asset/Image/1126225_1636034_15658687_Right Field 2.jpg : , trial 1, color channel grey, resize function imgResize_primary\n"
     ]
    },
    {
     "name": "stdout",
     "output_type": "stream",
     "text": [
      "1/1 [==============================] - 0s 21ms/step\n"
     ]
    },
    {
     "name": "stderr",
     "output_type": "stream",
     "text": [
      "2025-09-22 11:48:44,118 - INFO - SVG for 2-D4DM saved.\n",
      "2025-09-22 11:48:44,338 - INFO - Processing image /data/4-Z6K8_49330658558098c69ec955ecae8b4c1a3f6c467acc788fc80427df570333a653/Dataset_4-Z6K8/data/asset/Image/1126225_1636034_15658690_Left Field 2.jpg : , trial 1, color channel grey, resize function imgResize_primary\n"
     ]
    },
    {
     "name": "stdout",
     "output_type": "stream",
     "text": [
      "1/1 [==============================] - 0s 21ms/step\n"
     ]
    },
    {
     "name": "stderr",
     "output_type": "stream",
     "text": [
      "2025-09-22 11:48:45,051 - INFO - SVG for 2-D4DT saved.\n",
      "2025-09-22 11:48:45,172 - INFO - Processing image /data/4-Z6K8_49330658558098c69ec955ecae8b4c1a3f6c467acc788fc80427df570333a653/Dataset_4-Z6K8/data/asset/Image/1127828_1638577_15676878_Right Field 2.jpg : , trial 1, color channel grey, resize function imgResize_primary\n"
     ]
    },
    {
     "name": "stdout",
     "output_type": "stream",
     "text": [
      "1/1 [==============================] - 0s 20ms/step\n"
     ]
    },
    {
     "name": "stderr",
     "output_type": "stream",
     "text": [
      "2025-09-22 11:48:46,035 - INFO - SVG for 2-D4GR saved.\n",
      "2025-09-22 11:48:46,155 - INFO - Processing image /data/4-Z6K8_49330658558098c69ec955ecae8b4c1a3f6c467acc788fc80427df570333a653/Dataset_4-Z6K8/data/asset/Image/1127828_1638577_15676880_Left Field 2.jpg : , trial 1, color channel grey, resize function imgResize_primary\n"
     ]
    },
    {
     "name": "stdout",
     "output_type": "stream",
     "text": [
      "1/1 [==============================] - 0s 20ms/step\n"
     ]
    },
    {
     "name": "stderr",
     "output_type": "stream",
     "text": [
      "2025-09-22 11:48:46,988 - INFO - SVG for 2-D4GW saved.\n",
      "2025-09-22 11:48:47,107 - INFO - Processing image /data/4-Z6K8_49330658558098c69ec955ecae8b4c1a3f6c467acc788fc80427df570333a653/Dataset_4-Z6K8/data/asset/Image/1128488_1639742_15686600_Right Field 2.jpg : , trial 1, color channel grey, resize function imgResize_primary\n"
     ]
    },
    {
     "name": "stdout",
     "output_type": "stream",
     "text": [
      "1/1 [==============================] - 0s 20ms/step\n"
     ]
    },
    {
     "name": "stderr",
     "output_type": "stream",
     "text": [
      "2025-09-22 11:48:48,014 - INFO - SVG for 2-D4H2 saved.\n",
      "2025-09-22 11:48:48,135 - INFO - Processing image /data/4-Z6K8_49330658558098c69ec955ecae8b4c1a3f6c467acc788fc80427df570333a653/Dataset_4-Z6K8/data/asset/Image/1128488_1639742_15686601_Left Field 2.jpg : , trial 1, color channel grey, resize function imgResize_primary\n"
     ]
    },
    {
     "name": "stdout",
     "output_type": "stream",
     "text": [
      "1/1 [==============================] - 0s 21ms/step\n"
     ]
    },
    {
     "name": "stderr",
     "output_type": "stream",
     "text": [
      "2025-09-22 11:48:49,014 - INFO - SVG for 2-D4H4 saved.\n",
      "2025-09-22 11:48:49,234 - INFO - Processing image /data/4-Z6K8_49330658558098c69ec955ecae8b4c1a3f6c467acc788fc80427df570333a653/Dataset_4-Z6K8/data/asset/Image/1128624_1639957_15688214_Left Field 2.jpg : , trial 1, color channel grey, resize function imgResize_primary\n"
     ]
    },
    {
     "name": "stdout",
     "output_type": "stream",
     "text": [
      "1/1 [==============================] - 0s 20ms/step\n"
     ]
    },
    {
     "name": "stderr",
     "output_type": "stream",
     "text": [
      "2025-09-22 11:48:50,263 - INFO - SVG for 2-D4K6 saved.\n",
      "2025-09-22 11:48:50,483 - INFO - Processing image /data/4-Z6K8_49330658558098c69ec955ecae8b4c1a3f6c467acc788fc80427df570333a653/Dataset_4-Z6K8/data/asset/Image/1128624_1639957_15688217_Right Field 2.jpg : , trial 1, color channel grey, resize function imgResize_primary\n"
     ]
    },
    {
     "name": "stdout",
     "output_type": "stream",
     "text": [
      "1/1 [==============================] - 0s 20ms/step\n"
     ]
    },
    {
     "name": "stderr",
     "output_type": "stream",
     "text": [
      "2025-09-22 11:48:51,257 - INFO - SVG for 2-D4K8 saved.\n",
      "2025-09-22 11:48:51,292 - INFO - Processing image /data/4-Z6K8_49330658558098c69ec955ecae8b4c1a3f6c467acc788fc80427df570333a653/Dataset_4-Z6K8/data/asset/Image/1130040_1642155_15702307_Right Field 2.jpg : , trial 1, color channel grey, resize function imgResize_primary\n"
     ]
    },
    {
     "name": "stdout",
     "output_type": "stream",
     "text": [
      "1/1 [==============================] - 0s 21ms/step\n"
     ]
    },
    {
     "name": "stderr",
     "output_type": "stream",
     "text": [
      "2025-09-22 11:48:51,873 - INFO - SVG for 2-D4NJ saved.\n",
      "2025-09-22 11:48:51,909 - INFO - Processing image /data/4-Z6K8_49330658558098c69ec955ecae8b4c1a3f6c467acc788fc80427df570333a653/Dataset_4-Z6K8/data/asset/Image/1130040_1642155_15702310_Left Field 2.jpg : , trial 1, color channel grey, resize function imgResize_primary\n"
     ]
    },
    {
     "name": "stdout",
     "output_type": "stream",
     "text": [
      "1/1 [==============================] - 0s 21ms/step\n"
     ]
    },
    {
     "name": "stderr",
     "output_type": "stream",
     "text": [
      "2025-09-22 11:48:52,710 - INFO - SVG for 2-D4NR saved.\n",
      "2025-09-22 11:48:52,931 - INFO - Processing image /data/4-Z6K8_49330658558098c69ec955ecae8b4c1a3f6c467acc788fc80427df570333a653/Dataset_4-Z6K8/data/asset/Image/1133030_1646847_15734939_Left Field 2.jpg : , trial 1, color channel grey, resize function imgResize_primary\n"
     ]
    },
    {
     "name": "stdout",
     "output_type": "stream",
     "text": [
      "1/1 [==============================] - 0s 21ms/step\n"
     ]
    },
    {
     "name": "stderr",
     "output_type": "stream",
     "text": [
      "2025-09-22 11:48:53,717 - INFO - SVG for 2-D4SE saved.\n",
      "2025-09-22 11:48:53,938 - INFO - Processing image /data/4-Z6K8_49330658558098c69ec955ecae8b4c1a3f6c467acc788fc80427df570333a653/Dataset_4-Z6K8/data/asset/Image/1133030_1646847_15734941_Right Field 2.jpg : , trial 1, color channel grey, resize function imgResize_primary\n"
     ]
    },
    {
     "name": "stdout",
     "output_type": "stream",
     "text": [
      "1/1 [==============================] - 0s 21ms/step\n"
     ]
    },
    {
     "name": "stderr",
     "output_type": "stream",
     "text": [
      "2025-09-22 11:48:54,760 - INFO - SVG for 2-D4SG saved.\n",
      "2025-09-22 11:48:54,992 - INFO - Processing image /data/4-Z6K8_49330658558098c69ec955ecae8b4c1a3f6c467acc788fc80427df570333a653/Dataset_4-Z6K8/data/asset/Image/1134475_1649224_15751299_Right Field 2.jpg : , trial 1, color channel grey, resize function imgResize_primary\n"
     ]
    },
    {
     "name": "stdout",
     "output_type": "stream",
     "text": [
      "1/1 [==============================] - 0s 20ms/step\n"
     ]
    },
    {
     "name": "stderr",
     "output_type": "stream",
     "text": [
      "2025-09-22 11:48:55,942 - INFO - SVG for 2-D4V6 saved.\n",
      "2025-09-22 11:48:56,174 - INFO - Processing image /data/4-Z6K8_49330658558098c69ec955ecae8b4c1a3f6c467acc788fc80427df570333a653/Dataset_4-Z6K8/data/asset/Image/1134475_1649224_15751306_Left Field 2.jpg : , trial 1, color channel grey, resize function imgResize_primary\n"
     ]
    },
    {
     "name": "stdout",
     "output_type": "stream",
     "text": [
      "1/1 [==============================] - 0s 21ms/step\n"
     ]
    },
    {
     "name": "stderr",
     "output_type": "stream",
     "text": [
      "2025-09-22 11:48:57,092 - INFO - SVG for 2-D4VG saved.\n",
      "2025-09-22 11:48:57,214 - INFO - Processing image /data/4-Z6K8_49330658558098c69ec955ecae8b4c1a3f6c467acc788fc80427df570333a653/Dataset_4-Z6K8/data/asset/Image/1134762_1649663_15754175_Left Field 2.jpg : , trial 1, color channel grey, resize function imgResize_primary\n"
     ]
    },
    {
     "name": "stdout",
     "output_type": "stream",
     "text": [
      "1/1 [==============================] - 0s 20ms/step\n"
     ]
    },
    {
     "name": "stderr",
     "output_type": "stream",
     "text": [
      "2025-09-22 11:48:57,977 - INFO - SVG for 2-D4VW saved.\n",
      "2025-09-22 11:48:58,098 - INFO - Processing image /data/4-Z6K8_49330658558098c69ec955ecae8b4c1a3f6c467acc788fc80427df570333a653/Dataset_4-Z6K8/data/asset/Image/1134762_1649663_15754178_Right Field 2.jpg : , trial 1, color channel grey, resize function imgResize_primary\n"
     ]
    },
    {
     "name": "stdout",
     "output_type": "stream",
     "text": [
      "1/1 [==============================] - 0s 20ms/step\n"
     ]
    },
    {
     "name": "stderr",
     "output_type": "stream",
     "text": [
      "2025-09-22 11:48:58,903 - INFO - SVG for 2-D4W0 saved.\n",
      "2025-09-22 11:48:59,023 - INFO - Processing image /data/4-Z6K8_49330658558098c69ec955ecae8b4c1a3f6c467acc788fc80427df570333a653/Dataset_4-Z6K8/data/asset/Image/1134993_1650009_15756932_Right Field 2.jpg : , trial 1, color channel grey, resize function imgResize_primary\n"
     ]
    },
    {
     "name": "stdout",
     "output_type": "stream",
     "text": [
      "1/1 [==============================] - 0s 21ms/step\n"
     ]
    },
    {
     "name": "stderr",
     "output_type": "stream",
     "text": [
      "2025-09-22 11:48:59,732 - INFO - SVG for 2-D4WP saved.\n",
      "2025-09-22 11:48:59,852 - INFO - Processing image /data/4-Z6K8_49330658558098c69ec955ecae8b4c1a3f6c467acc788fc80427df570333a653/Dataset_4-Z6K8/data/asset/Image/1134993_1650009_15756935_Left Field 2.jpg : , trial 1, color channel grey, resize function imgResize_primary\n"
     ]
    },
    {
     "name": "stdout",
     "output_type": "stream",
     "text": [
      "1/1 [==============================] - 0s 21ms/step\n"
     ]
    },
    {
     "name": "stderr",
     "output_type": "stream",
     "text": [
      "2025-09-22 11:49:00,508 - INFO - SVG for 2-D4WW saved.\n",
      "2025-09-22 11:49:00,546 - INFO - Processing image /data/4-Z6K8_49330658558098c69ec955ecae8b4c1a3f6c467acc788fc80427df570333a653/Dataset_4-Z6K8/data/asset/Image/1137033_1652672_15777964_Right Field 2.jpg : , trial 1, color channel grey, resize function imgResize_primary\n"
     ]
    },
    {
     "name": "stdout",
     "output_type": "stream",
     "text": [
      "1/1 [==============================] - 0s 21ms/step\n"
     ]
    },
    {
     "name": "stderr",
     "output_type": "stream",
     "text": [
      "2025-09-22 11:49:01,315 - INFO - SVG for 2-D4ZR saved.\n",
      "2025-09-22 11:49:01,351 - INFO - Processing image /data/4-Z6K8_49330658558098c69ec955ecae8b4c1a3f6c467acc788fc80427df570333a653/Dataset_4-Z6K8/data/asset/Image/1137033_1652672_15777965_Left Field 2.jpg : , trial 1, color channel grey, resize function imgResize_primary\n"
     ]
    },
    {
     "name": "stdout",
     "output_type": "stream",
     "text": [
      "1/1 [==============================] - 0s 20ms/step\n"
     ]
    },
    {
     "name": "stderr",
     "output_type": "stream",
     "text": [
      "2025-09-22 11:49:02,052 - INFO - SVG for 2-D4ZT saved.\n",
      "2025-09-22 11:49:02,283 - INFO - Processing image /data/4-Z6K8_49330658558098c69ec955ecae8b4c1a3f6c467acc788fc80427df570333a653/Dataset_4-Z6K8/data/asset/Image/1137150_1652854_15778953_Right Field 2.jpg : , trial 1, color channel grey, resize function imgResize_primary\n"
     ]
    },
    {
     "name": "stdout",
     "output_type": "stream",
     "text": [
      "1/1 [==============================] - 0s 20ms/step\n"
     ]
    },
    {
     "name": "stderr",
     "output_type": "stream",
     "text": [
      "2025-09-22 11:49:03,320 - INFO - SVG for 2-D4ZY saved.\n",
      "2025-09-22 11:49:03,552 - INFO - Processing image /data/4-Z6K8_49330658558098c69ec955ecae8b4c1a3f6c467acc788fc80427df570333a653/Dataset_4-Z6K8/data/asset/Image/1137150_1652854_15778960_Left Field 2.jpg : , trial 1, color channel grey, resize function imgResize_primary\n"
     ]
    },
    {
     "name": "stdout",
     "output_type": "stream",
     "text": [
      "1/1 [==============================] - 0s 20ms/step\n"
     ]
    },
    {
     "name": "stderr",
     "output_type": "stream",
     "text": [
      "2025-09-22 11:49:04,507 - INFO - SVG for 2-D504 saved.\n",
      "2025-09-22 11:49:04,539 - INFO - Processing image /data/4-Z6K8_49330658558098c69ec955ecae8b4c1a3f6c467acc788fc80427df570333a653/Dataset_4-Z6K8/data/asset/Image/1137377_1653251_15781836_Right Field 2.jpg : , trial 1, color channel grey, resize function imgResize_primary\n"
     ]
    },
    {
     "name": "stdout",
     "output_type": "stream",
     "text": [
      "1/1 [==============================] - 0s 20ms/step\n"
     ]
    },
    {
     "name": "stderr",
     "output_type": "stream",
     "text": [
      "2025-09-22 11:49:05,082 - INFO - Processing image /data/4-Z6K8_49330658558098c69ec955ecae8b4c1a3f6c467acc788fc80427df570333a653/Dataset_4-Z6K8/data/asset/Image/1137377_1653251_15781836_Right Field 2.jpg : , trial 2, color channel green, resize function imgResize_primary\n"
     ]
    },
    {
     "name": "stdout",
     "output_type": "stream",
     "text": [
      "1/1 [==============================] - 0s 20ms/step\n"
     ]
    },
    {
     "name": "stderr",
     "output_type": "stream",
     "text": [
      "2025-09-22 11:49:05,750 - INFO - Processing image /data/4-Z6K8_49330658558098c69ec955ecae8b4c1a3f6c467acc788fc80427df570333a653/Dataset_4-Z6K8/data/asset/Image/1137377_1653251_15781836_Right Field 2.jpg : , trial 3, color channel red, resize function imgResize_primary\n"
     ]
    },
    {
     "name": "stdout",
     "output_type": "stream",
     "text": [
      "1/1 [==============================] - 0s 20ms/step\n"
     ]
    },
    {
     "name": "stderr",
     "output_type": "stream",
     "text": [
      "2025-09-22 11:49:06,429 - INFO - Processing image /data/4-Z6K8_49330658558098c69ec955ecae8b4c1a3f6c467acc788fc80427df570333a653/Dataset_4-Z6K8/data/asset/Image/1137377_1653251_15781836_Right Field 2.jpg : , trial 4, color channel blue, resize function imgResize_primary\n"
     ]
    },
    {
     "name": "stdout",
     "output_type": "stream",
     "text": [
      "1/1 [==============================] - 0s 20ms/step\n"
     ]
    },
    {
     "name": "stderr",
     "output_type": "stream",
     "text": [
      "2025-09-22 11:49:06,871 - INFO - Processing image /data/4-Z6K8_49330658558098c69ec955ecae8b4c1a3f6c467acc788fc80427df570333a653/Dataset_4-Z6K8/data/asset/Image/1137377_1653251_15781836_Right Field 2.jpg : , trial 1, color channel grey, resize function imgResize_secondary\n"
     ]
    },
    {
     "name": "stdout",
     "output_type": "stream",
     "text": [
      "1/1 [==============================] - 0s 20ms/step\n"
     ]
    },
    {
     "name": "stderr",
     "output_type": "stream",
     "text": [
      "2025-09-22 11:49:07,676 - INFO - Processing image /data/4-Z6K8_49330658558098c69ec955ecae8b4c1a3f6c467acc788fc80427df570333a653/Dataset_4-Z6K8/data/asset/Image/1137377_1653251_15781836_Right Field 2.jpg : , trial 2, color channel green, resize function imgResize_secondary\n"
     ]
    },
    {
     "name": "stdout",
     "output_type": "stream",
     "text": [
      "1/1 [==============================] - 0s 20ms/step\n"
     ]
    },
    {
     "name": "stderr",
     "output_type": "stream",
     "text": [
      "2025-09-22 11:49:08,511 - INFO - Processing image /data/4-Z6K8_49330658558098c69ec955ecae8b4c1a3f6c467acc788fc80427df570333a653/Dataset_4-Z6K8/data/asset/Image/1137377_1653251_15781836_Right Field 2.jpg : , trial 3, color channel red, resize function imgResize_secondary\n"
     ]
    },
    {
     "name": "stdout",
     "output_type": "stream",
     "text": [
      "1/1 [==============================] - 0s 21ms/step\n"
     ]
    },
    {
     "name": "stderr",
     "output_type": "stream",
     "text": [
      "2025-09-22 11:49:09,304 - INFO - Processing image /data/4-Z6K8_49330658558098c69ec955ecae8b4c1a3f6c467acc788fc80427df570333a653/Dataset_4-Z6K8/data/asset/Image/1137377_1653251_15781836_Right Field 2.jpg : , trial 4, color channel blue, resize function imgResize_secondary\n"
     ]
    },
    {
     "name": "stdout",
     "output_type": "stream",
     "text": [
      "1/1 [==============================] - 0s 20ms/step\n"
     ]
    },
    {
     "name": "stderr",
     "output_type": "stream",
     "text": [
      "2025-09-22 11:49:10,070 - INFO - Processing image /data/4-Z6K8_49330658558098c69ec955ecae8b4c1a3f6c467acc788fc80427df570333a653/Dataset_4-Z6K8/data/asset/Image/1137377_1653251_15781836_Right Field 2.jpg : , trial 1, color channel grey, resize function imgResize_primary\n"
     ]
    },
    {
     "name": "stdout",
     "output_type": "stream",
     "text": [
      "1/1 [==============================] - 0s 21ms/step\n"
     ]
    },
    {
     "name": "stderr",
     "output_type": "stream",
     "text": [
      "2025-09-22 11:49:10,591 - INFO - Processing image /data/4-Z6K8_49330658558098c69ec955ecae8b4c1a3f6c467acc788fc80427df570333a653/Dataset_4-Z6K8/data/asset/Image/1137377_1653251_15781836_Right Field 2.jpg : , trial 2, color channel green, resize function imgResize_primary\n"
     ]
    },
    {
     "name": "stdout",
     "output_type": "stream",
     "text": [
      "1/1 [==============================] - 0s 21ms/step\n"
     ]
    },
    {
     "name": "stderr",
     "output_type": "stream",
     "text": [
      "2025-09-22 11:49:11,193 - INFO - Processing image /data/4-Z6K8_49330658558098c69ec955ecae8b4c1a3f6c467acc788fc80427df570333a653/Dataset_4-Z6K8/data/asset/Image/1137377_1653251_15781836_Right Field 2.jpg : , trial 3, color channel red, resize function imgResize_primary\n"
     ]
    },
    {
     "name": "stdout",
     "output_type": "stream",
     "text": [
      "1/1 [==============================] - 0s 20ms/step\n"
     ]
    },
    {
     "name": "stderr",
     "output_type": "stream",
     "text": [
      "2025-09-22 11:49:11,901 - INFO - Processing image /data/4-Z6K8_49330658558098c69ec955ecae8b4c1a3f6c467acc788fc80427df570333a653/Dataset_4-Z6K8/data/asset/Image/1137377_1653251_15781836_Right Field 2.jpg : , trial 4, color channel blue, resize function imgResize_primary\n"
     ]
    },
    {
     "name": "stdout",
     "output_type": "stream",
     "text": [
      "1/1 [==============================] - 0s 20ms/step\n"
     ]
    },
    {
     "name": "stderr",
     "output_type": "stream",
     "text": [
      "2025-09-22 11:49:12,414 - INFO - Processing image /data/4-Z6K8_49330658558098c69ec955ecae8b4c1a3f6c467acc788fc80427df570333a653/Dataset_4-Z6K8/data/asset/Image/1137377_1653251_15781836_Right Field 2.jpg : , trial 1, color channel grey, resize function imgResize_secondary\n"
     ]
    },
    {
     "name": "stdout",
     "output_type": "stream",
     "text": [
      "1/1 [==============================] - 0s 20ms/step\n"
     ]
    },
    {
     "name": "stderr",
     "output_type": "stream",
     "text": [
      "2025-09-22 11:49:13,134 - INFO - Processing image /data/4-Z6K8_49330658558098c69ec955ecae8b4c1a3f6c467acc788fc80427df570333a653/Dataset_4-Z6K8/data/asset/Image/1137377_1653251_15781836_Right Field 2.jpg : , trial 2, color channel green, resize function imgResize_secondary\n"
     ]
    },
    {
     "name": "stdout",
     "output_type": "stream",
     "text": [
      "1/1 [==============================] - 0s 21ms/step\n"
     ]
    },
    {
     "name": "stderr",
     "output_type": "stream",
     "text": [
      "2025-09-22 11:49:14,028 - INFO - Processing image /data/4-Z6K8_49330658558098c69ec955ecae8b4c1a3f6c467acc788fc80427df570333a653/Dataset_4-Z6K8/data/asset/Image/1137377_1653251_15781836_Right Field 2.jpg : , trial 3, color channel red, resize function imgResize_secondary\n"
     ]
    },
    {
     "name": "stdout",
     "output_type": "stream",
     "text": [
      "1/1 [==============================] - 0s 21ms/step\n"
     ]
    },
    {
     "name": "stderr",
     "output_type": "stream",
     "text": [
      "2025-09-22 11:49:14,914 - INFO - Processing image /data/4-Z6K8_49330658558098c69ec955ecae8b4c1a3f6c467acc788fc80427df570333a653/Dataset_4-Z6K8/data/asset/Image/1137377_1653251_15781836_Right Field 2.jpg : , trial 4, color channel blue, resize function imgResize_secondary\n"
     ]
    },
    {
     "name": "stdout",
     "output_type": "stream",
     "text": [
      "1/1 [==============================] - 0s 20ms/step\n"
     ]
    },
    {
     "name": "stderr",
     "output_type": "stream",
     "text": [
      "2025-09-22 11:49:15,717 - INFO - Processing image /data/4-Z6K8_49330658558098c69ec955ecae8b4c1a3f6c467acc788fc80427df570333a653/Dataset_4-Z6K8/data/asset/Image/1137377_1653251_15781836_Right Field 2.jpg : , trial 1, color channel grey, resize function imgResize_primary\n"
     ]
    },
    {
     "name": "stdout",
     "output_type": "stream",
     "text": [
      "1/1 [==============================] - 0s 20ms/step\n"
     ]
    },
    {
     "name": "stderr",
     "output_type": "stream",
     "text": [
      "2025-09-22 11:49:16,328 - INFO - Processing image /data/4-Z6K8_49330658558098c69ec955ecae8b4c1a3f6c467acc788fc80427df570333a653/Dataset_4-Z6K8/data/asset/Image/1137377_1653251_15781836_Right Field 2.jpg : , trial 2, color channel green, resize function imgResize_primary\n"
     ]
    },
    {
     "name": "stdout",
     "output_type": "stream",
     "text": [
      "1/1 [==============================] - 0s 20ms/step\n"
     ]
    },
    {
     "name": "stderr",
     "output_type": "stream",
     "text": [
      "2025-09-22 11:49:16,992 - INFO - Processing image /data/4-Z6K8_49330658558098c69ec955ecae8b4c1a3f6c467acc788fc80427df570333a653/Dataset_4-Z6K8/data/asset/Image/1137377_1653251_15781836_Right Field 2.jpg : , trial 3, color channel red, resize function imgResize_primary\n"
     ]
    },
    {
     "name": "stdout",
     "output_type": "stream",
     "text": [
      "1/1 [==============================] - 0s 21ms/step\n"
     ]
    },
    {
     "name": "stderr",
     "output_type": "stream",
     "text": [
      "2025-09-22 11:49:17,671 - INFO - Processing image /data/4-Z6K8_49330658558098c69ec955ecae8b4c1a3f6c467acc788fc80427df570333a653/Dataset_4-Z6K8/data/asset/Image/1137377_1653251_15781836_Right Field 2.jpg : , trial 4, color channel blue, resize function imgResize_primary\n"
     ]
    },
    {
     "name": "stdout",
     "output_type": "stream",
     "text": [
      "1/1 [==============================] - 0s 20ms/step\n"
     ]
    },
    {
     "name": "stderr",
     "output_type": "stream",
     "text": [
      "2025-09-22 11:49:18,145 - INFO - Processing image /data/4-Z6K8_49330658558098c69ec955ecae8b4c1a3f6c467acc788fc80427df570333a653/Dataset_4-Z6K8/data/asset/Image/1137377_1653251_15781836_Right Field 2.jpg : , trial 1, color channel grey, resize function imgResize_secondary\n"
     ]
    },
    {
     "name": "stdout",
     "output_type": "stream",
     "text": [
      "1/1 [==============================] - 0s 20ms/step\n"
     ]
    },
    {
     "name": "stderr",
     "output_type": "stream",
     "text": [
      "2025-09-22 11:49:18,904 - INFO - Processing image /data/4-Z6K8_49330658558098c69ec955ecae8b4c1a3f6c467acc788fc80427df570333a653/Dataset_4-Z6K8/data/asset/Image/1137377_1653251_15781836_Right Field 2.jpg : , trial 2, color channel green, resize function imgResize_secondary\n"
     ]
    },
    {
     "name": "stdout",
     "output_type": "stream",
     "text": [
      "1/1 [==============================] - 0s 21ms/step\n"
     ]
    },
    {
     "name": "stderr",
     "output_type": "stream",
     "text": [
      "2025-09-22 11:49:19,781 - INFO - Processing image /data/4-Z6K8_49330658558098c69ec955ecae8b4c1a3f6c467acc788fc80427df570333a653/Dataset_4-Z6K8/data/asset/Image/1137377_1653251_15781836_Right Field 2.jpg : , trial 3, color channel red, resize function imgResize_secondary\n"
     ]
    },
    {
     "name": "stdout",
     "output_type": "stream",
     "text": [
      "1/1 [==============================] - 0s 21ms/step\n"
     ]
    },
    {
     "name": "stderr",
     "output_type": "stream",
     "text": [
      "2025-09-22 11:49:20,567 - INFO - Processing image /data/4-Z6K8_49330658558098c69ec955ecae8b4c1a3f6c467acc788fc80427df570333a653/Dataset_4-Z6K8/data/asset/Image/1137377_1653251_15781836_Right Field 2.jpg : , trial 4, color channel blue, resize function imgResize_secondary\n"
     ]
    },
    {
     "name": "stdout",
     "output_type": "stream",
     "text": [
      "1/1 [==============================] - 0s 21ms/step\n"
     ]
    },
    {
     "name": "stderr",
     "output_type": "stream",
     "text": [
      "2025-09-22 11:49:21,282 - INFO - SVG for 2-D514 saved.\n",
      "2025-09-22 11:49:21,317 - INFO - Processing image /data/4-Z6K8_49330658558098c69ec955ecae8b4c1a3f6c467acc788fc80427df570333a653/Dataset_4-Z6K8/data/asset/Image/1137377_1653251_15781839_Left Field 2.jpg : , trial 1, color channel grey, resize function imgResize_primary\n"
     ]
    },
    {
     "name": "stdout",
     "output_type": "stream",
     "text": [
      "1/1 [==============================] - 0s 21ms/step\n"
     ]
    },
    {
     "name": "stderr",
     "output_type": "stream",
     "text": [
      "2025-09-22 11:49:21,889 - INFO - SVG for 2-D51A saved.\n",
      "2025-09-22 11:49:21,926 - INFO - Processing image /data/4-Z6K8_49330658558098c69ec955ecae8b4c1a3f6c467acc788fc80427df570333a653/Dataset_4-Z6K8/data/asset/Image/1137644_1653720_15785158_Left Field 2.jpg : , trial 1, color channel grey, resize function imgResize_primary\n"
     ]
    },
    {
     "name": "stdout",
     "output_type": "stream",
     "text": [
      "1/1 [==============================] - 0s 21ms/step\n"
     ]
    },
    {
     "name": "stderr",
     "output_type": "stream",
     "text": [
      "2025-09-22 11:49:22,758 - INFO - SVG for 2-D52A saved.\n",
      "2025-09-22 11:49:22,794 - INFO - Processing image /data/4-Z6K8_49330658558098c69ec955ecae8b4c1a3f6c467acc788fc80427df570333a653/Dataset_4-Z6K8/data/asset/Image/1137644_1653720_15785159_Right Field 2.jpg : , trial 1, color channel grey, resize function imgResize_primary\n"
     ]
    },
    {
     "name": "stdout",
     "output_type": "stream",
     "text": [
      "1/1 [==============================] - 0s 20ms/step\n"
     ]
    },
    {
     "name": "stderr",
     "output_type": "stream",
     "text": [
      "2025-09-22 11:49:23,568 - INFO - SVG for 2-D52C saved.\n",
      "2025-09-22 11:49:23,604 - INFO - Processing image /data/4-Z6K8_49330658558098c69ec955ecae8b4c1a3f6c467acc788fc80427df570333a653/Dataset_4-Z6K8/data/asset/Image/1139236_1656099_15801668_Right Field 2.jpg : , trial 1, color channel grey, resize function imgResize_primary\n"
     ]
    },
    {
     "name": "stdout",
     "output_type": "stream",
     "text": [
      "1/1 [==============================] - 0s 21ms/step\n"
     ]
    },
    {
     "name": "stderr",
     "output_type": "stream",
     "text": [
      "2025-09-22 11:49:24,227 - INFO - Processing image /data/4-Z6K8_49330658558098c69ec955ecae8b4c1a3f6c467acc788fc80427df570333a653/Dataset_4-Z6K8/data/asset/Image/1139236_1656099_15801668_Right Field 2.jpg : , trial 2, color channel green, resize function imgResize_primary\n"
     ]
    },
    {
     "name": "stdout",
     "output_type": "stream",
     "text": [
      "1/1 [==============================] - 0s 20ms/step\n"
     ]
    },
    {
     "name": "stderr",
     "output_type": "stream",
     "text": [
      "2025-09-22 11:49:24,793 - INFO - SVG for 2-D52G saved.\n",
      "2025-09-22 11:49:24,830 - INFO - Processing image /data/4-Z6K8_49330658558098c69ec955ecae8b4c1a3f6c467acc788fc80427df570333a653/Dataset_4-Z6K8/data/asset/Image/1139236_1656099_15801673_Left Field 2.jpg : , trial 1, color channel grey, resize function imgResize_primary\n"
     ]
    },
    {
     "name": "stdout",
     "output_type": "stream",
     "text": [
      "1/1 [==============================] - 0s 20ms/step\n"
     ]
    },
    {
     "name": "stderr",
     "output_type": "stream",
     "text": [
      "2025-09-22 11:49:25,551 - INFO - SVG for 2-D52R saved.\n",
      "2025-09-22 11:49:25,844 - INFO - Processing image /data/4-Z6K8_49330658558098c69ec955ecae8b4c1a3f6c467acc788fc80427df570333a653/Dataset_4-Z6K8/data/asset/Image/1140255_1657687_15812725_Left Field 2.jpg : , trial 1, color channel grey, resize function imgResize_primary\n"
     ]
    },
    {
     "name": "stdout",
     "output_type": "stream",
     "text": [
      "1/1 [==============================] - 0s 20ms/step\n"
     ]
    },
    {
     "name": "stderr",
     "output_type": "stream",
     "text": [
      "2025-09-22 11:49:26,774 - INFO - SVG for 2-D540 saved.\n",
      "2025-09-22 11:49:27,066 - INFO - Processing image /data/4-Z6K8_49330658558098c69ec955ecae8b4c1a3f6c467acc788fc80427df570333a653/Dataset_4-Z6K8/data/asset/Image/1140255_1657687_15812731_Right Field 2.jpg : , trial 1, color channel grey, resize function imgResize_primary\n"
     ]
    },
    {
     "name": "stdout",
     "output_type": "stream",
     "text": [
      "1/1 [==============================] - 0s 20ms/step\n"
     ]
    },
    {
     "name": "stderr",
     "output_type": "stream",
     "text": [
      "2025-09-22 11:49:28,032 - INFO - SVG for 2-D54A saved.\n",
      "2025-09-22 11:49:28,320 - INFO - Processing image /data/4-Z6K8_49330658558098c69ec955ecae8b4c1a3f6c467acc788fc80427df570333a653/Dataset_4-Z6K8/data/asset/Image/1143990_1663609_15852438_Left Field 2.jpg : , trial 1, color channel grey, resize function imgResize_primary\n"
     ]
    },
    {
     "name": "stdout",
     "output_type": "stream",
     "text": [
      "1/1 [==============================] - 0s 21ms/step\n"
     ]
    },
    {
     "name": "stderr",
     "output_type": "stream",
     "text": [
      "2025-09-22 11:49:29,297 - INFO - SVG for 2-D584 saved.\n",
      "2025-09-22 11:49:29,585 - INFO - Processing image /data/4-Z6K8_49330658558098c69ec955ecae8b4c1a3f6c467acc788fc80427df570333a653/Dataset_4-Z6K8/data/asset/Image/1143990_1663609_15852439_Right Field 2.jpg : , trial 1, color channel grey, resize function imgResize_primary\n"
     ]
    },
    {
     "name": "stdout",
     "output_type": "stream",
     "text": [
      "1/1 [==============================] - 0s 21ms/step\n"
     ]
    },
    {
     "name": "stderr",
     "output_type": "stream",
     "text": [
      "2025-09-22 11:49:30,057 - INFO - Processing image /data/4-Z6K8_49330658558098c69ec955ecae8b4c1a3f6c467acc788fc80427df570333a653/Dataset_4-Z6K8/data/asset/Image/1143990_1663609_15852439_Right Field 2.jpg : , trial 2, color channel green, resize function imgResize_primary\n"
     ]
    },
    {
     "name": "stdout",
     "output_type": "stream",
     "text": [
      "1/1 [==============================] - 0s 21ms/step\n"
     ]
    },
    {
     "name": "stderr",
     "output_type": "stream",
     "text": [
      "2025-09-22 11:49:30,871 - INFO - Processing image /data/4-Z6K8_49330658558098c69ec955ecae8b4c1a3f6c467acc788fc80427df570333a653/Dataset_4-Z6K8/data/asset/Image/1143990_1663609_15852439_Right Field 2.jpg : , trial 3, color channel red, resize function imgResize_primary\n"
     ]
    },
    {
     "name": "stdout",
     "output_type": "stream",
     "text": [
      "1/1 [==============================] - 0s 21ms/step\n"
     ]
    },
    {
     "name": "stderr",
     "output_type": "stream",
     "text": [
      "2025-09-22 11:49:31,484 - INFO - Processing image /data/4-Z6K8_49330658558098c69ec955ecae8b4c1a3f6c467acc788fc80427df570333a653/Dataset_4-Z6K8/data/asset/Image/1143990_1663609_15852439_Right Field 2.jpg : , trial 4, color channel blue, resize function imgResize_primary\n"
     ]
    },
    {
     "name": "stdout",
     "output_type": "stream",
     "text": [
      "1/1 [==============================] - 0s 20ms/step\n"
     ]
    },
    {
     "name": "stderr",
     "output_type": "stream",
     "text": [
      "2025-09-22 11:49:32,474 - INFO - SVG for 2-D586 saved.\n",
      "2025-09-22 11:49:32,694 - INFO - Processing image /data/4-Z6K8_49330658558098c69ec955ecae8b4c1a3f6c467acc788fc80427df570333a653/Dataset_4-Z6K8/data/asset/Image/1144973_1665139_15863358_Right Field 2.jpg : , trial 1, color channel grey, resize function imgResize_primary\n"
     ]
    },
    {
     "name": "stdout",
     "output_type": "stream",
     "text": [
      "1/1 [==============================] - 0s 20ms/step\n"
     ]
    },
    {
     "name": "stderr",
     "output_type": "stream",
     "text": [
      "2025-09-22 11:49:33,473 - INFO - SVG for 2-D5B2 saved.\n",
      "2025-09-22 11:49:33,595 - INFO - Processing image /data/4-Z6K8_49330658558098c69ec955ecae8b4c1a3f6c467acc788fc80427df570333a653/Dataset_4-Z6K8/data/asset/Image/1147487_1669509_15893118_Right Field 2.jpg : , trial 1, color channel grey, resize function imgResize_primary\n"
     ]
    },
    {
     "name": "stdout",
     "output_type": "stream",
     "text": [
      "1/1 [==============================] - 0s 20ms/step\n"
     ]
    },
    {
     "name": "stderr",
     "output_type": "stream",
     "text": [
      "2025-09-22 11:49:34,538 - INFO - SVG for 2-D5FM saved.\n",
      "2025-09-22 11:49:34,660 - INFO - Processing image /data/4-Z6K8_49330658558098c69ec955ecae8b4c1a3f6c467acc788fc80427df570333a653/Dataset_4-Z6K8/data/asset/Image/1147487_1669509_15893124_Left Field 2.jpg : , trial 1, color channel grey, resize function imgResize_primary\n"
     ]
    },
    {
     "name": "stdout",
     "output_type": "stream",
     "text": [
      "1/1 [==============================] - 0s 21ms/step\n"
     ]
    },
    {
     "name": "stderr",
     "output_type": "stream",
     "text": [
      "2025-09-22 11:49:35,405 - INFO - SVG for 2-D5FW saved.\n",
      "2025-09-22 11:49:35,624 - INFO - Processing image /data/4-Z6K8_49330658558098c69ec955ecae8b4c1a3f6c467acc788fc80427df570333a653/Dataset_4-Z6K8/data/asset/Image/1148145_1670483_15899059_Right Field 2.jpg : , trial 1, color channel grey, resize function imgResize_primary\n"
     ]
    },
    {
     "name": "stdout",
     "output_type": "stream",
     "text": [
      "1/1 [==============================] - 0s 21ms/step\n"
     ]
    },
    {
     "name": "stderr",
     "output_type": "stream",
     "text": [
      "2025-09-22 11:49:36,361 - INFO - SVG for 2-D5J0 saved.\n",
      "2025-09-22 11:49:36,581 - INFO - Processing image /data/4-Z6K8_49330658558098c69ec955ecae8b4c1a3f6c467acc788fc80427df570333a653/Dataset_4-Z6K8/data/asset/Image/1148145_1670483_15899060_Left Field 2.jpg : , trial 1, color channel grey, resize function imgResize_primary\n"
     ]
    },
    {
     "name": "stdout",
     "output_type": "stream",
     "text": [
      "1/1 [==============================] - 0s 21ms/step\n"
     ]
    },
    {
     "name": "stderr",
     "output_type": "stream",
     "text": [
      "2025-09-22 11:49:37,412 - INFO - SVG for 2-D5J2 saved.\n",
      "2025-09-22 11:49:37,635 - INFO - Processing image /data/4-Z6K8_49330658558098c69ec955ecae8b4c1a3f6c467acc788fc80427df570333a653/Dataset_4-Z6K8/data/asset/Image/428597_1571947_15257443_Left Field 2.jpg : , trial 1, color channel grey, resize function imgResize_primary\n"
     ]
    },
    {
     "name": "stdout",
     "output_type": "stream",
     "text": [
      "1/1 [==============================] - 0s 20ms/step\n"
     ]
    },
    {
     "name": "stderr",
     "output_type": "stream",
     "text": [
      "2025-09-22 11:49:38,517 - INFO - SVG for 2-D5QJ saved.\n",
      "2025-09-22 11:49:38,738 - INFO - Processing image /data/4-Z6K8_49330658558098c69ec955ecae8b4c1a3f6c467acc788fc80427df570333a653/Dataset_4-Z6K8/data/asset/Image/428597_1571947_15257444_Right Field 2.jpg : , trial 1, color channel grey, resize function imgResize_primary\n"
     ]
    },
    {
     "name": "stdout",
     "output_type": "stream",
     "text": [
      "1/1 [==============================] - 0s 20ms/step\n"
     ]
    },
    {
     "name": "stderr",
     "output_type": "stream",
     "text": [
      "2025-09-22 11:49:39,677 - INFO - SVG for 2-D5QM saved.\n",
      "2025-09-22 11:49:39,912 - INFO - Processing image /data/4-Z6K8_49330658558098c69ec955ecae8b4c1a3f6c467acc788fc80427df570333a653/Dataset_4-Z6K8/data/asset/Image/437854_1535515_14997187_Right Field 2.jpg : , trial 1, color channel grey, resize function imgResize_primary\n"
     ]
    },
    {
     "name": "stdout",
     "output_type": "stream",
     "text": [
      "1/1 [==============================] - 0s 21ms/step\n"
     ]
    },
    {
     "name": "stderr",
     "output_type": "stream",
     "text": [
      "2025-09-22 11:49:40,957 - INFO - SVG for 2-D5RP saved.\n",
      "2025-09-22 11:49:41,193 - INFO - Processing image /data/4-Z6K8_49330658558098c69ec955ecae8b4c1a3f6c467acc788fc80427df570333a653/Dataset_4-Z6K8/data/asset/Image/437854_1535515_14997193_Left Field 2.jpg : , trial 1, color channel grey, resize function imgResize_primary\n"
     ]
    },
    {
     "name": "stdout",
     "output_type": "stream",
     "text": [
      "1/1 [==============================] - 0s 21ms/step\n"
     ]
    },
    {
     "name": "stderr",
     "output_type": "stream",
     "text": [
      "2025-09-22 11:49:41,935 - INFO - Processing image /data/4-Z6K8_49330658558098c69ec955ecae8b4c1a3f6c467acc788fc80427df570333a653/Dataset_4-Z6K8/data/asset/Image/437854_1535515_14997193_Left Field 2.jpg : , trial 2, color channel green, resize function imgResize_primary\n"
     ]
    },
    {
     "name": "stdout",
     "output_type": "stream",
     "text": [
      "1/1 [==============================] - 0s 20ms/step\n"
     ]
    },
    {
     "name": "stderr",
     "output_type": "stream",
     "text": [
      "2025-09-22 11:49:42,844 - INFO - Processing image /data/4-Z6K8_49330658558098c69ec955ecae8b4c1a3f6c467acc788fc80427df570333a653/Dataset_4-Z6K8/data/asset/Image/437854_1535515_14997193_Left Field 2.jpg : , trial 3, color channel red, resize function imgResize_primary\n"
     ]
    },
    {
     "name": "stdout",
     "output_type": "stream",
     "text": [
      "1/1 [==============================] - 0s 20ms/step\n"
     ]
    },
    {
     "name": "stderr",
     "output_type": "stream",
     "text": [
      "2025-09-22 11:49:43,642 - INFO - SVG for 2-D5RT saved.\n",
      "2025-09-22 11:49:43,858 - INFO - Processing image /data/4-Z6K8_49330658558098c69ec955ecae8b4c1a3f6c467acc788fc80427df570333a653/Dataset_4-Z6K8/data/asset/Image/446657_1529419_14955500_Right Field 2.jpg : , trial 1, color channel grey, resize function imgResize_primary\n"
     ]
    },
    {
     "name": "stdout",
     "output_type": "stream",
     "text": [
      "1/1 [==============================] - 0s 21ms/step\n"
     ]
    },
    {
     "name": "stderr",
     "output_type": "stream",
     "text": [
      "2025-09-22 11:49:44,814 - INFO - SVG for 2-D5VC saved.\n",
      "2025-09-22 11:49:45,029 - INFO - Processing image /data/4-Z6K8_49330658558098c69ec955ecae8b4c1a3f6c467acc788fc80427df570333a653/Dataset_4-Z6K8/data/asset/Image/446657_1529419_14955503_Left Field 2.jpg : , trial 1, color channel grey, resize function imgResize_primary\n"
     ]
    },
    {
     "name": "stdout",
     "output_type": "stream",
     "text": [
      "1/1 [==============================] - 0s 20ms/step\n"
     ]
    },
    {
     "name": "stderr",
     "output_type": "stream",
     "text": [
      "2025-09-22 11:49:46,132 - INFO - SVG for 2-D5VJ saved.\n",
      "2025-09-22 11:49:46,352 - INFO - Processing image /data/4-Z6K8_49330658558098c69ec955ecae8b4c1a3f6c467acc788fc80427df570333a653/Dataset_4-Z6K8/data/asset/Image/460482_1669629_15894018_Left Field 2.jpg : , trial 1, color channel grey, resize function imgResize_primary\n"
     ]
    },
    {
     "name": "stdout",
     "output_type": "stream",
     "text": [
      "1/1 [==============================] - 0s 20ms/step\n"
     ]
    },
    {
     "name": "stderr",
     "output_type": "stream",
     "text": [
      "2025-09-22 11:49:47,077 - INFO - Processing image /data/4-Z6K8_49330658558098c69ec955ecae8b4c1a3f6c467acc788fc80427df570333a653/Dataset_4-Z6K8/data/asset/Image/460482_1669629_15894018_Left Field 2.jpg : , trial 2, color channel green, resize function imgResize_primary\n"
     ]
    },
    {
     "name": "stdout",
     "output_type": "stream",
     "text": [
      "1/1 [==============================] - 0s 21ms/step\n"
     ]
    },
    {
     "name": "stderr",
     "output_type": "stream",
     "text": [
      "2025-09-22 11:49:47,764 - INFO - Processing image /data/4-Z6K8_49330658558098c69ec955ecae8b4c1a3f6c467acc788fc80427df570333a653/Dataset_4-Z6K8/data/asset/Image/460482_1669629_15894018_Left Field 2.jpg : , trial 3, color channel red, resize function imgResize_primary\n"
     ]
    },
    {
     "name": "stdout",
     "output_type": "stream",
     "text": [
      "1/1 [==============================] - 0s 21ms/step\n"
     ]
    },
    {
     "name": "stderr",
     "output_type": "stream",
     "text": [
      "2025-09-22 11:49:48,563 - INFO - SVG for 2-D5Z4 saved.\n",
      "2025-09-22 11:49:48,783 - INFO - Processing image /data/4-Z6K8_49330658558098c69ec955ecae8b4c1a3f6c467acc788fc80427df570333a653/Dataset_4-Z6K8/data/asset/Image/460482_1669629_15894019_Right Field 2.jpg : , trial 1, color channel grey, resize function imgResize_primary\n"
     ]
    },
    {
     "name": "stdout",
     "output_type": "stream",
     "text": [
      "1/1 [==============================] - 0s 21ms/step\n"
     ]
    },
    {
     "name": "stderr",
     "output_type": "stream",
     "text": [
      "2025-09-22 11:49:49,603 - INFO - SVG for 2-D5Z6 saved.\n",
      "2025-09-22 11:49:49,836 - INFO - Processing image /data/4-Z6K8_49330658558098c69ec955ecae8b4c1a3f6c467acc788fc80427df570333a653/Dataset_4-Z6K8/data/asset/Image/471544_1523852_14917198_Left Field 2.jpg : , trial 1, color channel grey, resize function imgResize_primary\n"
     ]
    },
    {
     "name": "stdout",
     "output_type": "stream",
     "text": [
      "1/1 [==============================] - 0s 20ms/step\n"
     ]
    },
    {
     "name": "stderr",
     "output_type": "stream",
     "text": [
      "2025-09-22 11:49:50,455 - INFO - Processing image /data/4-Z6K8_49330658558098c69ec955ecae8b4c1a3f6c467acc788fc80427df570333a653/Dataset_4-Z6K8/data/asset/Image/471544_1523852_14917198_Left Field 2.jpg : , trial 2, color channel green, resize function imgResize_primary\n"
     ]
    },
    {
     "name": "stdout",
     "output_type": "stream",
     "text": [
      "1/1 [==============================] - 0s 20ms/step\n"
     ]
    },
    {
     "name": "stderr",
     "output_type": "stream",
     "text": [
      "2025-09-22 11:49:51,301 - INFO - SVG for 2-D60C saved.\n",
      "2025-09-22 11:49:51,534 - INFO - Processing image /data/4-Z6K8_49330658558098c69ec955ecae8b4c1a3f6c467acc788fc80427df570333a653/Dataset_4-Z6K8/data/asset/Image/471544_1523852_14917199_Right Field 2.jpg : , trial 1, color channel grey, resize function imgResize_primary\n"
     ]
    },
    {
     "name": "stdout",
     "output_type": "stream",
     "text": [
      "1/1 [==============================] - 0s 20ms/step\n"
     ]
    },
    {
     "name": "stderr",
     "output_type": "stream",
     "text": [
      "2025-09-22 11:49:52,393 - INFO - SVG for 2-D60E saved.\n",
      "2025-09-22 11:49:52,623 - INFO - Processing image /data/4-Z6K8_49330658558098c69ec955ecae8b4c1a3f6c467acc788fc80427df570333a653/Dataset_4-Z6K8/data/asset/Image/499736_1515249_14860274_Left Field 2.jpg : , trial 1, color channel grey, resize function imgResize_primary\n"
     ]
    },
    {
     "name": "stdout",
     "output_type": "stream",
     "text": [
      "1/1 [==============================] - 0s 20ms/step\n"
     ]
    },
    {
     "name": "stderr",
     "output_type": "stream",
     "text": [
      "2025-09-22 11:49:53,544 - INFO - SVG for 2-D6B2 saved.\n",
      "2025-09-22 11:49:53,775 - INFO - Processing image /data/4-Z6K8_49330658558098c69ec955ecae8b4c1a3f6c467acc788fc80427df570333a653/Dataset_4-Z6K8/data/asset/Image/499736_1515249_14860278_Right Field 2.jpg : , trial 1, color channel grey, resize function imgResize_primary\n"
     ]
    },
    {
     "name": "stdout",
     "output_type": "stream",
     "text": [
      "1/1 [==============================] - 0s 20ms/step\n"
     ]
    },
    {
     "name": "stderr",
     "output_type": "stream",
     "text": [
      "2025-09-22 11:49:54,605 - INFO - SVG for 2-D6B6 saved.\n",
      "2025-09-22 11:49:54,826 - INFO - Processing image /data/4-Z6K8_49330658558098c69ec955ecae8b4c1a3f6c467acc788fc80427df570333a653/Dataset_4-Z6K8/data/asset/Image/503464_1523489_14914838_Left Field 2.jpg : , trial 1, color channel grey, resize function imgResize_primary\n"
     ]
    },
    {
     "name": "stdout",
     "output_type": "stream",
     "text": [
      "1/1 [==============================] - 0s 20ms/step\n"
     ]
    },
    {
     "name": "stderr",
     "output_type": "stream",
     "text": [
      "2025-09-22 11:49:55,675 - INFO - SVG for 2-D6DT saved.\n",
      "2025-09-22 11:49:55,895 - INFO - Processing image /data/4-Z6K8_49330658558098c69ec955ecae8b4c1a3f6c467acc788fc80427df570333a653/Dataset_4-Z6K8/data/asset/Image/503464_1523489_14914839_Right Field 2.jpg : , trial 1, color channel grey, resize function imgResize_primary\n"
     ]
    },
    {
     "name": "stdout",
     "output_type": "stream",
     "text": [
      "1/1 [==============================] - 0s 21ms/step\n"
     ]
    },
    {
     "name": "stderr",
     "output_type": "stream",
     "text": [
      "2025-09-22 11:49:57,040 - INFO - SVG for 2-D6DW saved.\n",
      "2025-09-22 11:49:57,333 - INFO - Processing image /data/4-Z6K8_49330658558098c69ec955ecae8b4c1a3f6c467acc788fc80427df570333a653/Dataset_4-Z6K8/data/asset/Image/530502_1566381_15218478_Right Field 2.jpg : , trial 1, color channel grey, resize function imgResize_primary\n"
     ]
    },
    {
     "name": "stdout",
     "output_type": "stream",
     "text": [
      "1/1 [==============================] - 0s 20ms/step\n"
     ]
    },
    {
     "name": "stderr",
     "output_type": "stream",
     "text": [
      "2025-09-22 11:49:58,441 - INFO - SVG for 2-D6TM saved.\n",
      "2025-09-22 11:49:58,733 - INFO - Processing image /data/4-Z6K8_49330658558098c69ec955ecae8b4c1a3f6c467acc788fc80427df570333a653/Dataset_4-Z6K8/data/asset/Image/530502_1566381_15218483_Left Field 2.jpg : , trial 1, color channel grey, resize function imgResize_primary\n"
     ]
    },
    {
     "name": "stdout",
     "output_type": "stream",
     "text": [
      "1/1 [==============================] - 0s 21ms/step\n"
     ]
    },
    {
     "name": "stderr",
     "output_type": "stream",
     "text": [
      "2025-09-22 11:49:59,702 - INFO - SVG for 2-D6TT saved.\n",
      "2025-09-22 11:49:59,993 - INFO - Processing image /data/4-Z6K8_49330658558098c69ec955ecae8b4c1a3f6c467acc788fc80427df570333a653/Dataset_4-Z6K8/data/asset/Image/530502_1566381_15218486_Right Field 2.jpg : , trial 1, color channel grey, resize function imgResize_primary\n"
     ]
    },
    {
     "name": "stdout",
     "output_type": "stream",
     "text": [
      "1/1 [==============================] - 0s 20ms/step\n"
     ]
    },
    {
     "name": "stderr",
     "output_type": "stream",
     "text": [
      "2025-09-22 11:50:00,958 - INFO - SVG for 2-D6TY saved.\n",
      "2025-09-22 11:50:01,247 - INFO - Processing image /data/4-Z6K8_49330658558098c69ec955ecae8b4c1a3f6c467acc788fc80427df570333a653/Dataset_4-Z6K8/data/asset/Image/535873_1640320_15690702_Right Field 2.jpg : , trial 1, color channel grey, resize function imgResize_primary\n"
     ]
    },
    {
     "name": "stdout",
     "output_type": "stream",
     "text": [
      "1/1 [==============================] - 0s 20ms/step\n"
     ]
    },
    {
     "name": "stderr",
     "output_type": "stream",
     "text": [
      "2025-09-22 11:50:02,170 - INFO - SVG for 2-D6XA saved.\n",
      "2025-09-22 11:50:02,461 - INFO - Processing image /data/4-Z6K8_49330658558098c69ec955ecae8b4c1a3f6c467acc788fc80427df570333a653/Dataset_4-Z6K8/data/asset/Image/535873_1640320_15690704_Left Field 2.jpg : , trial 1, color channel grey, resize function imgResize_primary\n"
     ]
    },
    {
     "name": "stdout",
     "output_type": "stream",
     "text": [
      "1/1 [==============================] - 0s 20ms/step\n"
     ]
    },
    {
     "name": "stderr",
     "output_type": "stream",
     "text": [
      "2025-09-22 11:50:03,356 - INFO - SVG for 2-D6XE saved.\n",
      "2025-09-22 11:50:03,585 - INFO - Processing image /data/4-Z6K8_49330658558098c69ec955ecae8b4c1a3f6c467acc788fc80427df570333a653/Dataset_4-Z6K8/data/asset/Image/538229_1544300_15058768_Left Field 2.jpg : , trial 1, color channel grey, resize function imgResize_primary\n"
     ]
    },
    {
     "name": "stdout",
     "output_type": "stream",
     "text": [
      "1/1 [==============================] - 0s 21ms/step\n"
     ]
    },
    {
     "name": "stderr",
     "output_type": "stream",
     "text": [
      "2025-09-22 11:50:04,489 - INFO - SVG for 2-D6YG saved.\n",
      "2025-09-22 11:50:04,718 - INFO - Processing image /data/4-Z6K8_49330658558098c69ec955ecae8b4c1a3f6c467acc788fc80427df570333a653/Dataset_4-Z6K8/data/asset/Image/538229_1544300_15058770_Right Field 2.jpg : , trial 1, color channel grey, resize function imgResize_primary\n"
     ]
    },
    {
     "name": "stdout",
     "output_type": "stream",
     "text": [
      "1/1 [==============================] - 0s 21ms/step\n"
     ]
    },
    {
     "name": "stderr",
     "output_type": "stream",
     "text": [
      "2025-09-22 11:50:05,483 - INFO - SVG for 2-D6YJ saved.\n",
      "2025-09-22 11:50:05,714 - INFO - Processing image /data/4-Z6K8_49330658558098c69ec955ecae8b4c1a3f6c467acc788fc80427df570333a653/Dataset_4-Z6K8/data/asset/Image/544969_1479895_14620513_Left Field 2.jpg : , trial 1, color channel grey, resize function imgResize_primary\n"
     ]
    },
    {
     "name": "stdout",
     "output_type": "stream",
     "text": [
      "1/1 [==============================] - 0s 21ms/step\n"
     ]
    },
    {
     "name": "stderr",
     "output_type": "stream",
     "text": [
      "2025-09-22 11:50:06,491 - INFO - Processing image /data/4-Z6K8_49330658558098c69ec955ecae8b4c1a3f6c467acc788fc80427df570333a653/Dataset_4-Z6K8/data/asset/Image/544969_1479895_14620513_Left Field 2.jpg : , trial 2, color channel green, resize function imgResize_primary\n"
     ]
    },
    {
     "name": "stdout",
     "output_type": "stream",
     "text": [
      "1/1 [==============================] - 0s 21ms/step\n"
     ]
    },
    {
     "name": "stderr",
     "output_type": "stream",
     "text": [
      "2025-09-22 11:50:07,497 - INFO - SVG for 2-D714 saved.\n",
      "2025-09-22 11:50:07,785 - INFO - Processing image /data/4-Z6K8_49330658558098c69ec955ecae8b4c1a3f6c467acc788fc80427df570333a653/Dataset_4-Z6K8/data/asset/Image/545627_1627730_15602687_Left Field 2.jpg : , trial 1, color channel grey, resize function imgResize_primary\n"
     ]
    },
    {
     "name": "stdout",
     "output_type": "stream",
     "text": [
      "1/1 [==============================] - 0s 21ms/step\n"
     ]
    },
    {
     "name": "stderr",
     "output_type": "stream",
     "text": [
      "2025-09-22 11:50:08,554 - INFO - Processing image /data/4-Z6K8_49330658558098c69ec955ecae8b4c1a3f6c467acc788fc80427df570333a653/Dataset_4-Z6K8/data/asset/Image/545627_1627730_15602687_Left Field 2.jpg : , trial 2, color channel green, resize function imgResize_primary\n"
     ]
    },
    {
     "name": "stdout",
     "output_type": "stream",
     "text": [
      "1/1 [==============================] - 0s 20ms/step\n"
     ]
    },
    {
     "name": "stderr",
     "output_type": "stream",
     "text": [
      "2025-09-22 11:50:09,602 - INFO - SVG for 2-D722 saved.\n",
      "2025-09-22 11:50:09,890 - INFO - Processing image /data/4-Z6K8_49330658558098c69ec955ecae8b4c1a3f6c467acc788fc80427df570333a653/Dataset_4-Z6K8/data/asset/Image/545627_1627730_15602688_Right Field 2.jpg : , trial 1, color channel grey, resize function imgResize_primary\n"
     ]
    },
    {
     "name": "stdout",
     "output_type": "stream",
     "text": [
      "1/1 [==============================] - 0s 20ms/step\n"
     ]
    },
    {
     "name": "stderr",
     "output_type": "stream",
     "text": [
      "2025-09-22 11:50:10,800 - INFO - SVG for 2-D724 saved.\n",
      "2025-09-22 11:50:10,835 - INFO - Processing image /data/4-Z6K8_49330658558098c69ec955ecae8b4c1a3f6c467acc788fc80427df570333a653/Dataset_4-Z6K8/data/asset/Image/548054_1611270_15521577_Left Field 2.jpg : , trial 1, color channel grey, resize function imgResize_primary\n"
     ]
    },
    {
     "name": "stdout",
     "output_type": "stream",
     "text": [
      "1/1 [==============================] - 0s 20ms/step\n"
     ]
    },
    {
     "name": "stderr",
     "output_type": "stream",
     "text": [
      "2025-09-22 11:50:11,290 - INFO - Processing image /data/4-Z6K8_49330658558098c69ec955ecae8b4c1a3f6c467acc788fc80427df570333a653/Dataset_4-Z6K8/data/asset/Image/548054_1611270_15521577_Left Field 2.jpg : , trial 2, color channel green, resize function imgResize_primary\n"
     ]
    },
    {
     "name": "stdout",
     "output_type": "stream",
     "text": [
      "1/1 [==============================] - 0s 20ms/step\n"
     ]
    },
    {
     "name": "stderr",
     "output_type": "stream",
     "text": [
      "2025-09-22 11:50:11,787 - INFO - Processing image /data/4-Z6K8_49330658558098c69ec955ecae8b4c1a3f6c467acc788fc80427df570333a653/Dataset_4-Z6K8/data/asset/Image/548054_1611270_15521577_Left Field 2.jpg : , trial 3, color channel red, resize function imgResize_primary\n"
     ]
    },
    {
     "name": "stdout",
     "output_type": "stream",
     "text": [
      "1/1 [==============================] - 0s 20ms/step\n"
     ]
    },
    {
     "name": "stderr",
     "output_type": "stream",
     "text": [
      "2025-09-22 11:50:12,692 - INFO - Processing image /data/4-Z6K8_49330658558098c69ec955ecae8b4c1a3f6c467acc788fc80427df570333a653/Dataset_4-Z6K8/data/asset/Image/548054_1611270_15521577_Left Field 2.jpg : , trial 4, color channel blue, resize function imgResize_primary\n"
     ]
    },
    {
     "name": "stdout",
     "output_type": "stream",
     "text": [
      "1/1 [==============================] - 0s 20ms/step\n"
     ]
    },
    {
     "name": "stderr",
     "output_type": "stream",
     "text": [
      "2025-09-22 11:50:13,291 - INFO - Processing image /data/4-Z6K8_49330658558098c69ec955ecae8b4c1a3f6c467acc788fc80427df570333a653/Dataset_4-Z6K8/data/asset/Image/548054_1611270_15521577_Left Field 2.jpg : , trial 1, color channel grey, resize function imgResize_secondary\n"
     ]
    },
    {
     "name": "stdout",
     "output_type": "stream",
     "text": [
      "1/1 [==============================] - 0s 20ms/step\n"
     ]
    },
    {
     "name": "stderr",
     "output_type": "stream",
     "text": [
      "2025-09-22 11:50:14,000 - INFO - Processing image /data/4-Z6K8_49330658558098c69ec955ecae8b4c1a3f6c467acc788fc80427df570333a653/Dataset_4-Z6K8/data/asset/Image/548054_1611270_15521577_Left Field 2.jpg : , trial 2, color channel green, resize function imgResize_secondary\n"
     ]
    },
    {
     "name": "stdout",
     "output_type": "stream",
     "text": [
      "1/1 [==============================] - 0s 21ms/step\n"
     ]
    },
    {
     "name": "stderr",
     "output_type": "stream",
     "text": [
      "2025-09-22 11:50:14,957 - INFO - Processing image /data/4-Z6K8_49330658558098c69ec955ecae8b4c1a3f6c467acc788fc80427df570333a653/Dataset_4-Z6K8/data/asset/Image/548054_1611270_15521577_Left Field 2.jpg : , trial 3, color channel red, resize function imgResize_secondary\n"
     ]
    },
    {
     "name": "stdout",
     "output_type": "stream",
     "text": [
      "1/1 [==============================] - 0s 20ms/step\n"
     ]
    },
    {
     "name": "stderr",
     "output_type": "stream",
     "text": [
      "2025-09-22 11:50:15,979 - INFO - Processing image /data/4-Z6K8_49330658558098c69ec955ecae8b4c1a3f6c467acc788fc80427df570333a653/Dataset_4-Z6K8/data/asset/Image/548054_1611270_15521577_Left Field 2.jpg : , trial 4, color channel blue, resize function imgResize_secondary\n"
     ]
    },
    {
     "name": "stdout",
     "output_type": "stream",
     "text": [
      "1/1 [==============================] - 0s 20ms/step\n"
     ]
    },
    {
     "name": "stderr",
     "output_type": "stream",
     "text": [
      "2025-09-22 11:50:16,716 - INFO - Processing image /data/4-Z6K8_49330658558098c69ec955ecae8b4c1a3f6c467acc788fc80427df570333a653/Dataset_4-Z6K8/data/asset/Image/548054_1611270_15521577_Left Field 2.jpg : , trial 1, color channel grey, resize function imgResize_primary\n"
     ]
    },
    {
     "name": "stdout",
     "output_type": "stream",
     "text": [
      "1/1 [==============================] - 0s 21ms/step\n"
     ]
    },
    {
     "name": "stderr",
     "output_type": "stream",
     "text": [
      "2025-09-22 11:50:17,140 - INFO - Processing image /data/4-Z6K8_49330658558098c69ec955ecae8b4c1a3f6c467acc788fc80427df570333a653/Dataset_4-Z6K8/data/asset/Image/548054_1611270_15521577_Left Field 2.jpg : , trial 2, color channel green, resize function imgResize_primary\n"
     ]
    },
    {
     "name": "stdout",
     "output_type": "stream",
     "text": [
      "1/1 [==============================] - 0s 21ms/step\n"
     ]
    },
    {
     "name": "stderr",
     "output_type": "stream",
     "text": [
      "2025-09-22 11:50:17,876 - INFO - Processing image /data/4-Z6K8_49330658558098c69ec955ecae8b4c1a3f6c467acc788fc80427df570333a653/Dataset_4-Z6K8/data/asset/Image/548054_1611270_15521577_Left Field 2.jpg : , trial 3, color channel red, resize function imgResize_primary\n"
     ]
    },
    {
     "name": "stdout",
     "output_type": "stream",
     "text": [
      "1/1 [==============================] - 0s 21ms/step\n"
     ]
    },
    {
     "name": "stderr",
     "output_type": "stream",
     "text": [
      "2025-09-22 11:50:18,685 - INFO - Processing image /data/4-Z6K8_49330658558098c69ec955ecae8b4c1a3f6c467acc788fc80427df570333a653/Dataset_4-Z6K8/data/asset/Image/548054_1611270_15521577_Left Field 2.jpg : , trial 4, color channel blue, resize function imgResize_primary\n"
     ]
    },
    {
     "name": "stdout",
     "output_type": "stream",
     "text": [
      "1/1 [==============================] - 0s 20ms/step\n"
     ]
    },
    {
     "name": "stderr",
     "output_type": "stream",
     "text": [
      "2025-09-22 11:50:19,294 - INFO - Processing image /data/4-Z6K8_49330658558098c69ec955ecae8b4c1a3f6c467acc788fc80427df570333a653/Dataset_4-Z6K8/data/asset/Image/548054_1611270_15521577_Left Field 2.jpg : , trial 1, color channel grey, resize function imgResize_secondary\n"
     ]
    },
    {
     "name": "stdout",
     "output_type": "stream",
     "text": [
      "1/1 [==============================] - 0s 20ms/step\n"
     ]
    },
    {
     "name": "stderr",
     "output_type": "stream",
     "text": [
      "2025-09-22 11:50:20,131 - INFO - Processing image /data/4-Z6K8_49330658558098c69ec955ecae8b4c1a3f6c467acc788fc80427df570333a653/Dataset_4-Z6K8/data/asset/Image/548054_1611270_15521577_Left Field 2.jpg : , trial 2, color channel green, resize function imgResize_secondary\n"
     ]
    },
    {
     "name": "stdout",
     "output_type": "stream",
     "text": [
      "1/1 [==============================] - 0s 21ms/step\n"
     ]
    },
    {
     "name": "stderr",
     "output_type": "stream",
     "text": [
      "2025-09-22 11:50:20,863 - INFO - Processing image /data/4-Z6K8_49330658558098c69ec955ecae8b4c1a3f6c467acc788fc80427df570333a653/Dataset_4-Z6K8/data/asset/Image/548054_1611270_15521577_Left Field 2.jpg : , trial 3, color channel red, resize function imgResize_secondary\n"
     ]
    },
    {
     "name": "stdout",
     "output_type": "stream",
     "text": [
      "1/1 [==============================] - 0s 20ms/step\n"
     ]
    },
    {
     "name": "stderr",
     "output_type": "stream",
     "text": [
      "2025-09-22 11:50:21,805 - INFO - Processing image /data/4-Z6K8_49330658558098c69ec955ecae8b4c1a3f6c467acc788fc80427df570333a653/Dataset_4-Z6K8/data/asset/Image/548054_1611270_15521577_Left Field 2.jpg : , trial 4, color channel blue, resize function imgResize_secondary\n"
     ]
    },
    {
     "name": "stdout",
     "output_type": "stream",
     "text": [
      "1/1 [==============================] - 0s 21ms/step\n"
     ]
    },
    {
     "name": "stderr",
     "output_type": "stream",
     "text": [
      "2025-09-22 11:50:22,473 - INFO - Processing image /data/4-Z6K8_49330658558098c69ec955ecae8b4c1a3f6c467acc788fc80427df570333a653/Dataset_4-Z6K8/data/asset/Image/548054_1611270_15521577_Left Field 2.jpg : , trial 1, color channel grey, resize function imgResize_primary\n"
     ]
    },
    {
     "name": "stdout",
     "output_type": "stream",
     "text": [
      "1/1 [==============================] - 0s 20ms/step\n"
     ]
    },
    {
     "name": "stderr",
     "output_type": "stream",
     "text": [
      "2025-09-22 11:50:22,987 - INFO - Processing image /data/4-Z6K8_49330658558098c69ec955ecae8b4c1a3f6c467acc788fc80427df570333a653/Dataset_4-Z6K8/data/asset/Image/548054_1611270_15521577_Left Field 2.jpg : , trial 2, color channel green, resize function imgResize_primary\n"
     ]
    },
    {
     "name": "stdout",
     "output_type": "stream",
     "text": [
      "1/1 [==============================] - 0s 21ms/step\n"
     ]
    },
    {
     "name": "stderr",
     "output_type": "stream",
     "text": [
      "2025-09-22 11:50:23,603 - INFO - Processing image /data/4-Z6K8_49330658558098c69ec955ecae8b4c1a3f6c467acc788fc80427df570333a653/Dataset_4-Z6K8/data/asset/Image/548054_1611270_15521577_Left Field 2.jpg : , trial 3, color channel red, resize function imgResize_primary\n"
     ]
    },
    {
     "name": "stdout",
     "output_type": "stream",
     "text": [
      "1/1 [==============================] - 0s 20ms/step\n"
     ]
    },
    {
     "name": "stderr",
     "output_type": "stream",
     "text": [
      "2025-09-22 11:50:24,260 - INFO - Processing image /data/4-Z6K8_49330658558098c69ec955ecae8b4c1a3f6c467acc788fc80427df570333a653/Dataset_4-Z6K8/data/asset/Image/548054_1611270_15521577_Left Field 2.jpg : , trial 4, color channel blue, resize function imgResize_primary\n"
     ]
    },
    {
     "name": "stdout",
     "output_type": "stream",
     "text": [
      "1/1 [==============================] - 0s 20ms/step\n"
     ]
    },
    {
     "name": "stderr",
     "output_type": "stream",
     "text": [
      "2025-09-22 11:50:24,813 - INFO - Processing image /data/4-Z6K8_49330658558098c69ec955ecae8b4c1a3f6c467acc788fc80427df570333a653/Dataset_4-Z6K8/data/asset/Image/548054_1611270_15521577_Left Field 2.jpg : , trial 1, color channel grey, resize function imgResize_secondary\n"
     ]
    },
    {
     "name": "stdout",
     "output_type": "stream",
     "text": [
      "1/1 [==============================] - 0s 21ms/step\n"
     ]
    },
    {
     "name": "stderr",
     "output_type": "stream",
     "text": [
      "2025-09-22 11:50:25,579 - INFO - Processing image /data/4-Z6K8_49330658558098c69ec955ecae8b4c1a3f6c467acc788fc80427df570333a653/Dataset_4-Z6K8/data/asset/Image/548054_1611270_15521577_Left Field 2.jpg : , trial 2, color channel green, resize function imgResize_secondary\n"
     ]
    },
    {
     "name": "stdout",
     "output_type": "stream",
     "text": [
      "1/1 [==============================] - 0s 21ms/step\n"
     ]
    },
    {
     "name": "stderr",
     "output_type": "stream",
     "text": [
      "2025-09-22 11:50:26,253 - INFO - Processing image /data/4-Z6K8_49330658558098c69ec955ecae8b4c1a3f6c467acc788fc80427df570333a653/Dataset_4-Z6K8/data/asset/Image/548054_1611270_15521577_Left Field 2.jpg : , trial 3, color channel red, resize function imgResize_secondary\n"
     ]
    },
    {
     "name": "stdout",
     "output_type": "stream",
     "text": [
      "1/1 [==============================] - 0s 20ms/step\n"
     ]
    },
    {
     "name": "stderr",
     "output_type": "stream",
     "text": [
      "2025-09-22 11:50:27,112 - INFO - Processing image /data/4-Z6K8_49330658558098c69ec955ecae8b4c1a3f6c467acc788fc80427df570333a653/Dataset_4-Z6K8/data/asset/Image/548054_1611270_15521577_Left Field 2.jpg : , trial 4, color channel blue, resize function imgResize_secondary\n"
     ]
    },
    {
     "name": "stdout",
     "output_type": "stream",
     "text": [
      "1/1 [==============================] - 0s 21ms/step\n"
     ]
    },
    {
     "name": "stderr",
     "output_type": "stream",
     "text": [
      "2025-09-22 11:50:27,917 - INFO - SVG for 2-D732 saved.\n",
      "2025-09-22 11:50:27,950 - INFO - Processing image /data/4-Z6K8_49330658558098c69ec955ecae8b4c1a3f6c467acc788fc80427df570333a653/Dataset_4-Z6K8/data/asset/Image/548054_1611270_15521580_Right Field 2.jpg : , trial 1, color channel grey, resize function imgResize_primary\n"
     ]
    },
    {
     "name": "stdout",
     "output_type": "stream",
     "text": [
      "1/1 [==============================] - 0s 21ms/step\n"
     ]
    },
    {
     "name": "stderr",
     "output_type": "stream",
     "text": [
      "2025-09-22 11:50:28,521 - INFO - SVG for 2-D736 saved.\n",
      "2025-09-22 11:50:28,805 - INFO - Processing image /data/4-Z6K8_49330658558098c69ec955ecae8b4c1a3f6c467acc788fc80427df570333a653/Dataset_4-Z6K8/data/asset/Image/595425_1531079_14966347_Left Field 2.jpg : , trial 1, color channel grey, resize function imgResize_primary\n"
     ]
    },
    {
     "name": "stdout",
     "output_type": "stream",
     "text": [
      "1/1 [==============================] - 0s 21ms/step\n"
     ]
    },
    {
     "name": "stderr",
     "output_type": "stream",
     "text": [
      "2025-09-22 11:50:29,661 - INFO - SVG for 2-D7M0 saved.\n",
      "2025-09-22 11:50:29,944 - INFO - Processing image /data/4-Z6K8_49330658558098c69ec955ecae8b4c1a3f6c467acc788fc80427df570333a653/Dataset_4-Z6K8/data/asset/Image/595425_1531079_14966350_Right Field 2.jpg : , trial 1, color channel grey, resize function imgResize_primary\n"
     ]
    },
    {
     "name": "stdout",
     "output_type": "stream",
     "text": [
      "1/1 [==============================] - 0s 21ms/step\n"
     ]
    },
    {
     "name": "stderr",
     "output_type": "stream",
     "text": [
      "2025-09-22 11:50:30,916 - INFO - SVG for 2-D7M6 saved.\n",
      "2025-09-22 11:50:31,108 - INFO - Processing image /data/4-Z6K8_49330658558098c69ec955ecae8b4c1a3f6c467acc788fc80427df570333a653/Dataset_4-Z6K8/data/asset/Image/597856_1465894_14528120_Left Field 2.jpg : , trial 1, color channel grey, resize function imgResize_primary\n"
     ]
    },
    {
     "name": "stdout",
     "output_type": "stream",
     "text": [
      "1/1 [==============================] - 0s 20ms/step\n"
     ]
    },
    {
     "name": "stderr",
     "output_type": "stream",
     "text": [
      "2025-09-22 11:50:31,837 - INFO - SVG for 2-D7MC saved.\n",
      "2025-09-22 11:50:32,001 - INFO - Processing image /data/4-Z6K8_49330658558098c69ec955ecae8b4c1a3f6c467acc788fc80427df570333a653/Dataset_4-Z6K8/data/asset/Image/597856_1465894_14528123_Right Field 2.jpg : , trial 1, color channel grey, resize function imgResize_primary\n"
     ]
    },
    {
     "name": "stdout",
     "output_type": "stream",
     "text": [
      "1/1 [==============================] - 0s 20ms/step\n"
     ]
    },
    {
     "name": "stderr",
     "output_type": "stream",
     "text": [
      "2025-09-22 11:50:32,966 - INFO - SVG for 2-D7MJ saved.\n",
      "2025-09-22 11:50:33,227 - INFO - Processing image /data/4-Z6K8_49330658558098c69ec955ecae8b4c1a3f6c467acc788fc80427df570333a653/Dataset_4-Z6K8/data/asset/Image/602650_1540131_15029937_Left Field 2.jpg : , trial 1, color channel grey, resize function imgResize_primary\n"
     ]
    },
    {
     "name": "stdout",
     "output_type": "stream",
     "text": [
      "1/1 [==============================] - 0s 20ms/step\n"
     ]
    },
    {
     "name": "stderr",
     "output_type": "stream",
     "text": [
      "2025-09-22 11:50:34,316 - INFO - SVG for 2-D7PC saved.\n",
      "2025-09-22 11:50:34,554 - INFO - Processing image /data/4-Z6K8_49330658558098c69ec955ecae8b4c1a3f6c467acc788fc80427df570333a653/Dataset_4-Z6K8/data/asset/Image/602650_1540131_15029940_Left Field 2.jpg : , trial 1, color channel grey, resize function imgResize_primary\n"
     ]
    },
    {
     "name": "stdout",
     "output_type": "stream",
     "text": [
      "1/1 [==============================] - 0s 20ms/step\n"
     ]
    },
    {
     "name": "stderr",
     "output_type": "stream",
     "text": [
      "2025-09-22 11:50:35,458 - INFO - SVG for 2-D7PJ saved.\n",
      "2025-09-22 11:50:35,697 - INFO - Processing image /data/4-Z6K8_49330658558098c69ec955ecae8b4c1a3f6c467acc788fc80427df570333a653/Dataset_4-Z6K8/data/asset/Image/602650_1540131_15029944_Right Field 2.jpg : , trial 1, color channel grey, resize function imgResize_primary\n"
     ]
    },
    {
     "name": "stdout",
     "output_type": "stream",
     "text": [
      "1/1 [==============================] - 0s 21ms/step\n"
     ]
    },
    {
     "name": "stderr",
     "output_type": "stream",
     "text": [
      "2025-09-22 11:50:36,639 - INFO - SVG for 2-D7PP saved.\n",
      "2025-09-22 11:50:36,672 - INFO - Processing image /data/4-Z6K8_49330658558098c69ec955ecae8b4c1a3f6c467acc788fc80427df570333a653/Dataset_4-Z6K8/data/asset/Image/603199_1523651_14915935_Right Field 2.jpg : , trial 1, color channel grey, resize function imgResize_primary\n"
     ]
    },
    {
     "name": "stdout",
     "output_type": "stream",
     "text": [
      "1/1 [==============================] - 0s 21ms/step\n"
     ]
    },
    {
     "name": "stderr",
     "output_type": "stream",
     "text": [
      "2025-09-22 11:50:37,287 - INFO - SVG for 2-D7PT saved.\n",
      "2025-09-22 11:50:37,321 - INFO - Processing image /data/4-Z6K8_49330658558098c69ec955ecae8b4c1a3f6c467acc788fc80427df570333a653/Dataset_4-Z6K8/data/asset/Image/603199_1523651_14915937_Left Field 2.jpg : , trial 1, color channel grey, resize function imgResize_primary\n"
     ]
    },
    {
     "name": "stdout",
     "output_type": "stream",
     "text": [
      "1/1 [==============================] - 0s 20ms/step\n"
     ]
    },
    {
     "name": "stderr",
     "output_type": "stream",
     "text": [
      "2025-09-22 11:50:38,145 - INFO - SVG for 2-D7PY saved.\n",
      "2025-09-22 11:50:38,366 - INFO - Processing image /data/4-Z6K8_49330658558098c69ec955ecae8b4c1a3f6c467acc788fc80427df570333a653/Dataset_4-Z6K8/data/asset/Image/614393_1540220_15030428_Left Field 2.jpg : , trial 1, color channel grey, resize function imgResize_primary\n"
     ]
    },
    {
     "name": "stdout",
     "output_type": "stream",
     "text": [
      "1/1 [==============================] - 0s 20ms/step\n"
     ]
    },
    {
     "name": "stderr",
     "output_type": "stream",
     "text": [
      "2025-09-22 11:50:39,225 - INFO - SVG for 2-D7T0 saved.\n",
      "2025-09-22 11:50:39,446 - INFO - Processing image /data/4-Z6K8_49330658558098c69ec955ecae8b4c1a3f6c467acc788fc80427df570333a653/Dataset_4-Z6K8/data/asset/Image/614393_1540220_15030430_Right Field 2.jpg : , trial 1, color channel grey, resize function imgResize_primary\n"
     ]
    },
    {
     "name": "stdout",
     "output_type": "stream",
     "text": [
      "1/1 [==============================] - 0s 20ms/step\n"
     ]
    },
    {
     "name": "stderr",
     "output_type": "stream",
     "text": [
      "2025-09-22 11:50:40,173 - INFO - Processing image /data/4-Z6K8_49330658558098c69ec955ecae8b4c1a3f6c467acc788fc80427df570333a653/Dataset_4-Z6K8/data/asset/Image/614393_1540220_15030430_Right Field 2.jpg : , trial 2, color channel green, resize function imgResize_primary\n"
     ]
    },
    {
     "name": "stdout",
     "output_type": "stream",
     "text": [
      "1/1 [==============================] - 0s 20ms/step\n"
     ]
    },
    {
     "name": "stderr",
     "output_type": "stream",
     "text": [
      "2025-09-22 11:50:41,046 - INFO - SVG for 2-D7T2 saved.\n",
      "2025-09-22 11:50:41,263 - INFO - Processing image /data/4-Z6K8_49330658558098c69ec955ecae8b4c1a3f6c467acc788fc80427df570333a653/Dataset_4-Z6K8/data/asset/Image/615554_1463854_14515238_Left Field 2.jpg : , trial 1, color channel grey, resize function imgResize_primary\n"
     ]
    },
    {
     "name": "stdout",
     "output_type": "stream",
     "text": [
      "1/1 [==============================] - 0s 20ms/step\n"
     ]
    },
    {
     "name": "stderr",
     "output_type": "stream",
     "text": [
      "2025-09-22 11:50:42,039 - INFO - SVG for 2-D7V0 saved.\n",
      "2025-09-22 11:50:42,258 - INFO - Processing image /data/4-Z6K8_49330658558098c69ec955ecae8b4c1a3f6c467acc788fc80427df570333a653/Dataset_4-Z6K8/data/asset/Image/615554_1463854_14515243_Right Field 2.jpg : , trial 1, color channel grey, resize function imgResize_primary\n"
     ]
    },
    {
     "name": "stdout",
     "output_type": "stream",
     "text": [
      "1/1 [==============================] - 0s 21ms/step\n"
     ]
    },
    {
     "name": "stderr",
     "output_type": "stream",
     "text": [
      "2025-09-22 11:50:43,120 - INFO - SVG for 2-D7V8 saved.\n",
      "2025-09-22 11:50:43,351 - INFO - Processing image /data/4-Z6K8_49330658558098c69ec955ecae8b4c1a3f6c467acc788fc80427df570333a653/Dataset_4-Z6K8/data/asset/Image/621746_1496666_14731557_Left Field 2.jpg : , trial 1, color channel grey, resize function imgResize_primary\n"
     ]
    },
    {
     "name": "stdout",
     "output_type": "stream",
     "text": [
      "1/1 [==============================] - 0s 21ms/step\n"
     ]
    },
    {
     "name": "stderr",
     "output_type": "stream",
     "text": [
      "2025-09-22 11:50:44,154 - INFO - SVG for 2-D7XA saved.\n",
      "2025-09-22 11:50:44,387 - INFO - Processing image /data/4-Z6K8_49330658558098c69ec955ecae8b4c1a3f6c467acc788fc80427df570333a653/Dataset_4-Z6K8/data/asset/Image/621746_1496666_14731558_Right Field 2.jpg : , trial 1, color channel grey, resize function imgResize_primary\n"
     ]
    },
    {
     "name": "stdout",
     "output_type": "stream",
     "text": [
      "1/1 [==============================] - 0s 21ms/step\n"
     ]
    },
    {
     "name": "stderr",
     "output_type": "stream",
     "text": [
      "2025-09-22 11:50:45,118 - INFO - SVG for 2-D7XC saved.\n",
      "2025-09-22 11:50:45,349 - INFO - Processing image /data/4-Z6K8_49330658558098c69ec955ecae8b4c1a3f6c467acc788fc80427df570333a653/Dataset_4-Z6K8/data/asset/Image/626811_1468841_14547704_Right Field 2.jpg : , trial 1, color channel grey, resize function imgResize_primary\n"
     ]
    },
    {
     "name": "stdout",
     "output_type": "stream",
     "text": [
      "1/1 [==============================] - 0s 20ms/step\n"
     ]
    },
    {
     "name": "stderr",
     "output_type": "stream",
     "text": [
      "2025-09-22 11:50:46,420 - INFO - SVG for 2-D7YT saved.\n",
      "2025-09-22 11:50:46,650 - INFO - Processing image /data/4-Z6K8_49330658558098c69ec955ecae8b4c1a3f6c467acc788fc80427df570333a653/Dataset_4-Z6K8/data/asset/Image/626811_1468841_14547707_Right Field 2.jpg : , trial 1, color channel grey, resize function imgResize_primary\n"
     ]
    },
    {
     "name": "stdout",
     "output_type": "stream",
     "text": [
      "1/1 [==============================] - 0s 21ms/step\n"
     ]
    },
    {
     "name": "stderr",
     "output_type": "stream",
     "text": [
      "2025-09-22 11:50:47,327 - INFO - Processing image /data/4-Z6K8_49330658558098c69ec955ecae8b4c1a3f6c467acc788fc80427df570333a653/Dataset_4-Z6K8/data/asset/Image/626811_1468841_14547707_Right Field 2.jpg : , trial 2, color channel green, resize function imgResize_primary\n"
     ]
    },
    {
     "name": "stdout",
     "output_type": "stream",
     "text": [
      "1/1 [==============================] - 0s 20ms/step\n"
     ]
    },
    {
     "name": "stderr",
     "output_type": "stream",
     "text": [
      "2025-09-22 11:50:48,096 - INFO - Processing image /data/4-Z6K8_49330658558098c69ec955ecae8b4c1a3f6c467acc788fc80427df570333a653/Dataset_4-Z6K8/data/asset/Image/626811_1468841_14547707_Right Field 2.jpg : , trial 3, color channel red, resize function imgResize_primary\n"
     ]
    },
    {
     "name": "stdout",
     "output_type": "stream",
     "text": [
      "1/1 [==============================] - 0s 21ms/step\n"
     ]
    },
    {
     "name": "stderr",
     "output_type": "stream",
     "text": [
      "2025-09-22 11:50:48,740 - INFO - Processing image /data/4-Z6K8_49330658558098c69ec955ecae8b4c1a3f6c467acc788fc80427df570333a653/Dataset_4-Z6K8/data/asset/Image/626811_1468841_14547707_Right Field 2.jpg : , trial 4, color channel blue, resize function imgResize_primary\n"
     ]
    },
    {
     "name": "stdout",
     "output_type": "stream",
     "text": [
      "1/1 [==============================] - 0s 20ms/step\n"
     ]
    },
    {
     "name": "stderr",
     "output_type": "stream",
     "text": [
      "2025-09-22 11:50:49,309 - INFO - Processing image /data/4-Z6K8_49330658558098c69ec955ecae8b4c1a3f6c467acc788fc80427df570333a653/Dataset_4-Z6K8/data/asset/Image/626811_1468841_14547707_Right Field 2.jpg : , trial 1, color channel grey, resize function imgResize_secondary\n"
     ]
    },
    {
     "name": "stdout",
     "output_type": "stream",
     "text": [
      "1/1 [==============================] - 0s 20ms/step\n"
     ]
    },
    {
     "name": "stderr",
     "output_type": "stream",
     "text": [
      "2025-09-22 11:50:50,573 - INFO - Processing image /data/4-Z6K8_49330658558098c69ec955ecae8b4c1a3f6c467acc788fc80427df570333a653/Dataset_4-Z6K8/data/asset/Image/626811_1468841_14547707_Right Field 2.jpg : , trial 2, color channel green, resize function imgResize_secondary\n"
     ]
    },
    {
     "name": "stdout",
     "output_type": "stream",
     "text": [
      "1/1 [==============================] - 0s 20ms/step\n"
     ]
    },
    {
     "name": "stderr",
     "output_type": "stream",
     "text": [
      "2025-09-22 11:50:51,513 - INFO - Processing image /data/4-Z6K8_49330658558098c69ec955ecae8b4c1a3f6c467acc788fc80427df570333a653/Dataset_4-Z6K8/data/asset/Image/626811_1468841_14547707_Right Field 2.jpg : , trial 3, color channel red, resize function imgResize_secondary\n"
     ]
    },
    {
     "name": "stdout",
     "output_type": "stream",
     "text": [
      "1/1 [==============================] - 0s 21ms/step\n"
     ]
    },
    {
     "name": "stderr",
     "output_type": "stream",
     "text": [
      "2025-09-22 11:50:52,355 - INFO - Processing image /data/4-Z6K8_49330658558098c69ec955ecae8b4c1a3f6c467acc788fc80427df570333a653/Dataset_4-Z6K8/data/asset/Image/626811_1468841_14547707_Right Field 2.jpg : , trial 4, color channel blue, resize function imgResize_secondary\n"
     ]
    },
    {
     "name": "stdout",
     "output_type": "stream",
     "text": [
      "1/1 [==============================] - 0s 21ms/step\n"
     ]
    },
    {
     "name": "stderr",
     "output_type": "stream",
     "text": [
      "2025-09-22 11:50:53,302 - INFO - Processing image /data/4-Z6K8_49330658558098c69ec955ecae8b4c1a3f6c467acc788fc80427df570333a653/Dataset_4-Z6K8/data/asset/Image/626811_1468841_14547707_Right Field 2.jpg : , trial 1, color channel grey, resize function imgResize_primary\n"
     ]
    },
    {
     "name": "stdout",
     "output_type": "stream",
     "text": [
      "1/1 [==============================] - 0s 20ms/step\n"
     ]
    },
    {
     "name": "stderr",
     "output_type": "stream",
     "text": [
      "2025-09-22 11:50:54,232 - INFO - SVG for 2-D7Z0 saved.\n",
      "2025-09-22 11:50:54,464 - INFO - Processing image /data/4-Z6K8_49330658558098c69ec955ecae8b4c1a3f6c467acc788fc80427df570333a653/Dataset_4-Z6K8/data/asset/Image/626811_1468841_14547711_Left Field 2.jpg : , trial 1, color channel grey, resize function imgResize_primary\n"
     ]
    },
    {
     "name": "stdout",
     "output_type": "stream",
     "text": [
      "1/1 [==============================] - 0s 21ms/step\n"
     ]
    },
    {
     "name": "stderr",
     "output_type": "stream",
     "text": [
      "2025-09-22 11:50:55,346 - INFO - SVG for 2-D7Z4 saved.\n",
      "2025-09-22 11:50:55,577 - INFO - Processing image /data/4-Z6K8_49330658558098c69ec955ecae8b4c1a3f6c467acc788fc80427df570333a653/Dataset_4-Z6K8/data/asset/Image/626811_1468841_14547714_Left Field 2.jpg : , trial 1, color channel grey, resize function imgResize_primary\n"
     ]
    },
    {
     "name": "stdout",
     "output_type": "stream",
     "text": [
      "1/1 [==============================] - 0s 21ms/step\n"
     ]
    },
    {
     "name": "stderr",
     "output_type": "stream",
     "text": [
      "2025-09-22 11:50:56,401 - INFO - SVG for 2-D7ZA saved.\n",
      "2025-09-22 11:50:56,635 - INFO - Processing image /data/4-Z6K8_49330658558098c69ec955ecae8b4c1a3f6c467acc788fc80427df570333a653/Dataset_4-Z6K8/data/asset/Image/679219_1651400_15766315_Right Field 2.jpg : , trial 1, color channel grey, resize function imgResize_primary\n"
     ]
    },
    {
     "name": "stdout",
     "output_type": "stream",
     "text": [
      "1/1 [==============================] - 0s 20ms/step\n"
     ]
    },
    {
     "name": "stderr",
     "output_type": "stream",
     "text": [
      "2025-09-22 11:50:57,477 - INFO - SVG for 2-D8CC saved.\n",
      "2025-09-22 11:50:57,711 - INFO - Processing image /data/4-Z6K8_49330658558098c69ec955ecae8b4c1a3f6c467acc788fc80427df570333a653/Dataset_4-Z6K8/data/asset/Image/679219_1651400_15766321_Left Field 2.jpg : , trial 1, color channel grey, resize function imgResize_primary\n"
     ]
    },
    {
     "name": "stdout",
     "output_type": "stream",
     "text": [
      "1/1 [==============================] - 0s 21ms/step\n"
     ]
    },
    {
     "name": "stderr",
     "output_type": "stream",
     "text": [
      "2025-09-22 11:50:58,432 - INFO - Processing image /data/4-Z6K8_49330658558098c69ec955ecae8b4c1a3f6c467acc788fc80427df570333a653/Dataset_4-Z6K8/data/asset/Image/679219_1651400_15766321_Left Field 2.jpg : , trial 2, color channel green, resize function imgResize_primary\n"
     ]
    },
    {
     "name": "stdout",
     "output_type": "stream",
     "text": [
      "1/1 [==============================] - 0s 20ms/step\n"
     ]
    },
    {
     "name": "stderr",
     "output_type": "stream",
     "text": [
      "2025-09-22 11:50:59,252 - INFO - SVG for 2-D8CM saved.\n",
      "2025-09-22 11:50:59,285 - INFO - Processing image /data/4-Z6K8_49330658558098c69ec955ecae8b4c1a3f6c467acc788fc80427df570333a653/Dataset_4-Z6K8/data/asset/Image/687983_1475852_14594183_Right Field 2.jpg : , trial 1, color channel grey, resize function imgResize_primary\n"
     ]
    },
    {
     "name": "stdout",
     "output_type": "stream",
     "text": [
      "1/1 [==============================] - 0s 21ms/step\n"
     ]
    },
    {
     "name": "stderr",
     "output_type": "stream",
     "text": [
      "2025-09-22 11:50:59,951 - INFO - Processing image /data/4-Z6K8_49330658558098c69ec955ecae8b4c1a3f6c467acc788fc80427df570333a653/Dataset_4-Z6K8/data/asset/Image/687983_1475852_14594183_Right Field 2.jpg : , trial 2, color channel green, resize function imgResize_primary\n"
     ]
    },
    {
     "name": "stdout",
     "output_type": "stream",
     "text": [
      "1/1 [==============================] - 0s 21ms/step\n"
     ]
    },
    {
     "name": "stderr",
     "output_type": "stream",
     "text": [
      "2025-09-22 11:51:00,626 - INFO - Processing image /data/4-Z6K8_49330658558098c69ec955ecae8b4c1a3f6c467acc788fc80427df570333a653/Dataset_4-Z6K8/data/asset/Image/687983_1475852_14594183_Right Field 2.jpg : , trial 3, color channel red, resize function imgResize_primary\n"
     ]
    },
    {
     "name": "stdout",
     "output_type": "stream",
     "text": [
      "1/1 [==============================] - 0s 21ms/step\n"
     ]
    },
    {
     "name": "stderr",
     "output_type": "stream",
     "text": [
      "2025-09-22 11:51:01,335 - INFO - SVG for 2-D8DM saved.\n",
      "2025-09-22 11:51:01,367 - INFO - Processing image /data/4-Z6K8_49330658558098c69ec955ecae8b4c1a3f6c467acc788fc80427df570333a653/Dataset_4-Z6K8/data/asset/Image/687983_1475852_14594186_Left Field 2.jpg : , trial 1, color channel grey, resize function imgResize_primary\n"
     ]
    },
    {
     "name": "stdout",
     "output_type": "stream",
     "text": [
      "1/1 [==============================] - 0s 20ms/step\n"
     ]
    },
    {
     "name": "stderr",
     "output_type": "stream",
     "text": [
      "2025-09-22 11:51:02,060 - INFO - SVG for 2-D8DP saved.\n",
      "2025-09-22 11:51:02,293 - INFO - Processing image /data/4-Z6K8_49330658558098c69ec955ecae8b4c1a3f6c467acc788fc80427df570333a653/Dataset_4-Z6K8/data/asset/Image/700627_1468262_14543790_Left Field 2.jpg : , trial 1, color channel grey, resize function imgResize_primary\n"
     ]
    },
    {
     "name": "stdout",
     "output_type": "stream",
     "text": [
      "1/1 [==============================] - 0s 20ms/step\n"
     ]
    },
    {
     "name": "stderr",
     "output_type": "stream",
     "text": [
      "2025-09-22 11:51:03,325 - INFO - SVG for 2-D8F0 saved.\n"
     ]
    },
    {
     "name": "stdout",
     "output_type": "stream",
     "text": [
      "1/1 [==============================] - 0s 20ms/step\n"
     ]
    },
    {
     "name": "stderr",
     "output_type": "stream",
     "text": [
      "2025-09-22 11:52:28,029 - INFO - Processing image /data/4-Z6K8_49330658558098c69ec955ecae8b4c1a3f6c467acc788fc80427df570333a653/Dataset_4-Z6K8/data/asset/Image/835474_1536878_15007164_Right Field 2.jpg : , trial 4, color channel blue, resize function imgResize_primary\n"
     ]
    },
    {
     "name": "stdout",
     "output_type": "stream",
     "text": [
      "1/1 [==============================] - 0s 21ms/step\n"
     ]
    },
    {
     "name": "stderr",
     "output_type": "stream",
     "text": [
      "2025-09-22 11:52:28,498 - INFO - Processing image /data/4-Z6K8_49330658558098c69ec955ecae8b4c1a3f6c467acc788fc80427df570333a653/Dataset_4-Z6K8/data/asset/Image/835474_1536878_15007164_Right Field 2.jpg : , trial 1, color channel grey, resize function imgResize_secondary\n"
     ]
    },
    {
     "name": "stdout",
     "output_type": "stream",
     "text": [
      "1/1 [==============================] - 0s 21ms/step\n"
     ]
    },
    {
     "name": "stderr",
     "output_type": "stream",
     "text": [
      "2025-09-22 11:52:29,450 - INFO - Processing image /data/4-Z6K8_49330658558098c69ec955ecae8b4c1a3f6c467acc788fc80427df570333a653/Dataset_4-Z6K8/data/asset/Image/835474_1536878_15007164_Right Field 2.jpg : , trial 2, color channel green, resize function imgResize_secondary\n"
     ]
    },
    {
     "name": "stdout",
     "output_type": "stream",
     "text": [
      "1/1 [==============================] - 0s 20ms/step\n"
     ]
    },
    {
     "name": "stderr",
     "output_type": "stream",
     "text": [
      "2025-09-22 11:52:30,112 - INFO - Processing image /data/4-Z6K8_49330658558098c69ec955ecae8b4c1a3f6c467acc788fc80427df570333a653/Dataset_4-Z6K8/data/asset/Image/835474_1536878_15007164_Right Field 2.jpg : , trial 3, color channel red, resize function imgResize_secondary\n"
     ]
    },
    {
     "name": "stdout",
     "output_type": "stream",
     "text": [
      "1/1 [==============================] - 0s 20ms/step\n"
     ]
    },
    {
     "name": "stderr",
     "output_type": "stream",
     "text": [
      "2025-09-22 11:52:31,065 - INFO - Processing image /data/4-Z6K8_49330658558098c69ec955ecae8b4c1a3f6c467acc788fc80427df570333a653/Dataset_4-Z6K8/data/asset/Image/835474_1536878_15007164_Right Field 2.jpg : , trial 4, color channel blue, resize function imgResize_secondary\n"
     ]
    },
    {
     "name": "stdout",
     "output_type": "stream",
     "text": [
      "1/1 [==============================] - 0s 21ms/step\n"
     ]
    },
    {
     "name": "stderr",
     "output_type": "stream",
     "text": [
      "2025-09-22 11:52:31,814 - INFO - Processing image /data/4-Z6K8_49330658558098c69ec955ecae8b4c1a3f6c467acc788fc80427df570333a653/Dataset_4-Z6K8/data/asset/Image/835474_1536878_15007164_Right Field 2.jpg : , trial 1, color channel grey, resize function imgResize_primary\n"
     ]
    },
    {
     "name": "stdout",
     "output_type": "stream",
     "text": [
      "1/1 [==============================] - 0s 20ms/step\n"
     ]
    },
    {
     "name": "stderr",
     "output_type": "stream",
     "text": [
      "2025-09-22 11:52:32,303 - INFO - Processing image /data/4-Z6K8_49330658558098c69ec955ecae8b4c1a3f6c467acc788fc80427df570333a653/Dataset_4-Z6K8/data/asset/Image/835474_1536878_15007164_Right Field 2.jpg : , trial 2, color channel green, resize function imgResize_primary\n"
     ]
    },
    {
     "name": "stdout",
     "output_type": "stream",
     "text": [
      "1/1 [==============================] - 0s 20ms/step\n"
     ]
    },
    {
     "name": "stderr",
     "output_type": "stream",
     "text": [
      "2025-09-22 11:52:32,858 - INFO - Processing image /data/4-Z6K8_49330658558098c69ec955ecae8b4c1a3f6c467acc788fc80427df570333a653/Dataset_4-Z6K8/data/asset/Image/835474_1536878_15007164_Right Field 2.jpg : , trial 3, color channel red, resize function imgResize_primary\n"
     ]
    },
    {
     "name": "stdout",
     "output_type": "stream",
     "text": [
      "1/1 [==============================] - 0s 21ms/step\n"
     ]
    },
    {
     "name": "stderr",
     "output_type": "stream",
     "text": [
      "2025-09-22 11:52:33,389 - INFO - Processing image /data/4-Z6K8_49330658558098c69ec955ecae8b4c1a3f6c467acc788fc80427df570333a653/Dataset_4-Z6K8/data/asset/Image/835474_1536878_15007164_Right Field 2.jpg : , trial 4, color channel blue, resize function imgResize_primary\n"
     ]
    },
    {
     "name": "stdout",
     "output_type": "stream",
     "text": [
      "1/1 [==============================] - 0s 21ms/step\n"
     ]
    },
    {
     "name": "stderr",
     "output_type": "stream",
     "text": [
      "2025-09-22 11:52:33,830 - INFO - Processing image /data/4-Z6K8_49330658558098c69ec955ecae8b4c1a3f6c467acc788fc80427df570333a653/Dataset_4-Z6K8/data/asset/Image/835474_1536878_15007164_Right Field 2.jpg : , trial 1, color channel grey, resize function imgResize_secondary\n"
     ]
    },
    {
     "name": "stdout",
     "output_type": "stream",
     "text": [
      "1/1 [==============================] - 0s 20ms/step\n"
     ]
    },
    {
     "name": "stderr",
     "output_type": "stream",
     "text": [
      "2025-09-22 11:52:34,678 - INFO - Processing image /data/4-Z6K8_49330658558098c69ec955ecae8b4c1a3f6c467acc788fc80427df570333a653/Dataset_4-Z6K8/data/asset/Image/835474_1536878_15007164_Right Field 2.jpg : , trial 2, color channel green, resize function imgResize_secondary\n"
     ]
    },
    {
     "name": "stdout",
     "output_type": "stream",
     "text": [
      "1/1 [==============================] - 0s 20ms/step\n"
     ]
    },
    {
     "name": "stderr",
     "output_type": "stream",
     "text": [
      "2025-09-22 11:52:35,321 - INFO - Processing image /data/4-Z6K8_49330658558098c69ec955ecae8b4c1a3f6c467acc788fc80427df570333a653/Dataset_4-Z6K8/data/asset/Image/835474_1536878_15007164_Right Field 2.jpg : , trial 3, color channel red, resize function imgResize_secondary\n"
     ]
    },
    {
     "name": "stdout",
     "output_type": "stream",
     "text": [
      "1/1 [==============================] - 0s 21ms/step\n"
     ]
    },
    {
     "name": "stderr",
     "output_type": "stream",
     "text": [
      "2025-09-22 11:52:36,209 - INFO - Processing image /data/4-Z6K8_49330658558098c69ec955ecae8b4c1a3f6c467acc788fc80427df570333a653/Dataset_4-Z6K8/data/asset/Image/835474_1536878_15007164_Right Field 2.jpg : , trial 4, color channel blue, resize function imgResize_secondary\n"
     ]
    },
    {
     "name": "stdout",
     "output_type": "stream",
     "text": [
      "1/1 [==============================] - 0s 21ms/step\n"
     ]
    },
    {
     "name": "stderr",
     "output_type": "stream",
     "text": [
      "2025-09-22 11:52:36,900 - INFO - Processing image /data/4-Z6K8_49330658558098c69ec955ecae8b4c1a3f6c467acc788fc80427df570333a653/Dataset_4-Z6K8/data/asset/Image/835474_1536878_15007164_Right Field 2.jpg : , trial 1, color channel grey, resize function imgResize_primary\n"
     ]
    },
    {
     "name": "stdout",
     "output_type": "stream",
     "text": [
      "1/1 [==============================] - 0s 21ms/step\n"
     ]
    },
    {
     "name": "stderr",
     "output_type": "stream",
     "text": [
      "2025-09-22 11:52:37,387 - INFO - Processing image /data/4-Z6K8_49330658558098c69ec955ecae8b4c1a3f6c467acc788fc80427df570333a653/Dataset_4-Z6K8/data/asset/Image/835474_1536878_15007164_Right Field 2.jpg : , trial 2, color channel green, resize function imgResize_primary\n"
     ]
    },
    {
     "name": "stdout",
     "output_type": "stream",
     "text": [
      "1/1 [==============================] - 0s 20ms/step\n"
     ]
    },
    {
     "name": "stderr",
     "output_type": "stream",
     "text": [
      "2025-09-22 11:52:37,947 - INFO - Processing image /data/4-Z6K8_49330658558098c69ec955ecae8b4c1a3f6c467acc788fc80427df570333a653/Dataset_4-Z6K8/data/asset/Image/835474_1536878_15007164_Right Field 2.jpg : , trial 3, color channel red, resize function imgResize_primary\n"
     ]
    },
    {
     "name": "stdout",
     "output_type": "stream",
     "text": [
      "1/1 [==============================] - 0s 20ms/step\n"
     ]
    },
    {
     "name": "stderr",
     "output_type": "stream",
     "text": [
      "2025-09-22 11:52:38,671 - INFO - Processing image /data/4-Z6K8_49330658558098c69ec955ecae8b4c1a3f6c467acc788fc80427df570333a653/Dataset_4-Z6K8/data/asset/Image/835474_1536878_15007164_Right Field 2.jpg : , trial 4, color channel blue, resize function imgResize_primary\n"
     ]
    },
    {
     "name": "stdout",
     "output_type": "stream",
     "text": [
      "1/1 [==============================] - 0s 21ms/step\n"
     ]
    },
    {
     "name": "stderr",
     "output_type": "stream",
     "text": [
      "2025-09-22 11:52:39,180 - INFO - Processing image /data/4-Z6K8_49330658558098c69ec955ecae8b4c1a3f6c467acc788fc80427df570333a653/Dataset_4-Z6K8/data/asset/Image/835474_1536878_15007164_Right Field 2.jpg : , trial 1, color channel grey, resize function imgResize_secondary\n"
     ]
    },
    {
     "name": "stdout",
     "output_type": "stream",
     "text": [
      "1/1 [==============================] - 0s 21ms/step\n"
     ]
    },
    {
     "name": "stderr",
     "output_type": "stream",
     "text": [
      "2025-09-22 11:52:39,833 - INFO - Processing image /data/4-Z6K8_49330658558098c69ec955ecae8b4c1a3f6c467acc788fc80427df570333a653/Dataset_4-Z6K8/data/asset/Image/835474_1536878_15007164_Right Field 2.jpg : , trial 2, color channel green, resize function imgResize_secondary\n"
     ]
    },
    {
     "name": "stdout",
     "output_type": "stream",
     "text": [
      "1/1 [==============================] - 0s 21ms/step\n"
     ]
    },
    {
     "name": "stderr",
     "output_type": "stream",
     "text": [
      "2025-09-22 11:52:40,659 - INFO - Processing image /data/4-Z6K8_49330658558098c69ec955ecae8b4c1a3f6c467acc788fc80427df570333a653/Dataset_4-Z6K8/data/asset/Image/835474_1536878_15007164_Right Field 2.jpg : , trial 3, color channel red, resize function imgResize_secondary\n"
     ]
    },
    {
     "name": "stdout",
     "output_type": "stream",
     "text": [
      "1/1 [==============================] - 0s 21ms/step\n"
     ]
    },
    {
     "name": "stderr",
     "output_type": "stream",
     "text": [
      "2025-09-22 11:52:41,484 - INFO - Processing image /data/4-Z6K8_49330658558098c69ec955ecae8b4c1a3f6c467acc788fc80427df570333a653/Dataset_4-Z6K8/data/asset/Image/835474_1536878_15007164_Right Field 2.jpg : , trial 4, color channel blue, resize function imgResize_secondary\n"
     ]
    },
    {
     "name": "stdout",
     "output_type": "stream",
     "text": [
      "1/1 [==============================] - 0s 20ms/step\n"
     ]
    },
    {
     "name": "stderr",
     "output_type": "stream",
     "text": [
      "2025-09-22 11:52:42,378 - INFO - SVG for 2-D9WT saved.\n",
      "2025-09-22 11:52:42,485 - INFO - Processing image /data/4-Z6K8_49330658558098c69ec955ecae8b4c1a3f6c467acc788fc80427df570333a653/Dataset_4-Z6K8/data/asset/Image/865129_1595966_15414921_Right Field 2.jpg : , trial 1, color channel grey, resize function imgResize_primary\n"
     ]
    },
    {
     "name": "stdout",
     "output_type": "stream",
     "text": [
      "1/1 [==============================] - 0s 21ms/step\n"
     ]
    },
    {
     "name": "stderr",
     "output_type": "stream",
     "text": [
      "2025-09-22 11:52:43,357 - INFO - SVG for 2-DA5R saved.\n",
      "2025-09-22 11:52:43,465 - INFO - Processing image /data/4-Z6K8_49330658558098c69ec955ecae8b4c1a3f6c467acc788fc80427df570333a653/Dataset_4-Z6K8/data/asset/Image/865129_1595966_15414925_Left Field 2.jpg : , trial 1, color channel grey, resize function imgResize_primary\n"
     ]
    },
    {
     "name": "stdout",
     "output_type": "stream",
     "text": [
      "1/1 [==============================] - 0s 21ms/step\n"
     ]
    },
    {
     "name": "stderr",
     "output_type": "stream",
     "text": [
      "2025-09-22 11:52:44,308 - INFO - SVG for 2-DA5Y saved.\n",
      "2025-09-22 11:52:44,529 - INFO - Processing image /data/4-Z6K8_49330658558098c69ec955ecae8b4c1a3f6c467acc788fc80427df570333a653/Dataset_4-Z6K8/data/asset/Image/866442_1542077_15043519_Right Field 2.jpg : , trial 1, color channel grey, resize function imgResize_primary\n"
     ]
    },
    {
     "name": "stdout",
     "output_type": "stream",
     "text": [
      "1/1 [==============================] - 0s 20ms/step\n"
     ]
    },
    {
     "name": "stderr",
     "output_type": "stream",
     "text": [
      "2025-09-22 11:52:45,307 - INFO - SVG for 2-DA6R saved.\n",
      "2025-09-22 11:52:45,527 - INFO - Processing image /data/4-Z6K8_49330658558098c69ec955ecae8b4c1a3f6c467acc788fc80427df570333a653/Dataset_4-Z6K8/data/asset/Image/866442_1542077_15043520_Left Field 2.jpg : , trial 1, color channel grey, resize function imgResize_primary\n"
     ]
    },
    {
     "name": "stdout",
     "output_type": "stream",
     "text": [
      "1/1 [==============================] - 0s 20ms/step\n"
     ]
    },
    {
     "name": "stderr",
     "output_type": "stream",
     "text": [
      "2025-09-22 11:52:46,300 - INFO - SVG for 2-DA6T saved.\n",
      "2025-09-22 11:52:46,532 - INFO - Processing image /data/4-Z6K8_49330658558098c69ec955ecae8b4c1a3f6c467acc788fc80427df570333a653/Dataset_4-Z6K8/data/asset/Image/872730_1671247_15904061_Left Field 2.jpg : , trial 1, color channel grey, resize function imgResize_primary\n"
     ]
    },
    {
     "name": "stdout",
     "output_type": "stream",
     "text": [
      "1/1 [==============================] - 0s 20ms/step\n"
     ]
    },
    {
     "name": "stderr",
     "output_type": "stream",
     "text": [
      "2025-09-22 11:52:47,330 - INFO - SVG for 2-DAB4 saved.\n",
      "2025-09-22 11:52:47,562 - INFO - Processing image /data/4-Z6K8_49330658558098c69ec955ecae8b4c1a3f6c467acc788fc80427df570333a653/Dataset_4-Z6K8/data/asset/Image/872730_1671247_15904066_Right Field 2.jpg : , trial 1, color channel grey, resize function imgResize_primary\n"
     ]
    },
    {
     "name": "stdout",
     "output_type": "stream",
     "text": [
      "1/1 [==============================] - 0s 20ms/step\n"
     ]
    },
    {
     "name": "stderr",
     "output_type": "stream",
     "text": [
      "2025-09-22 11:52:48,533 - INFO - SVG for 2-DABA saved.\n",
      "2025-09-22 11:52:48,569 - INFO - Processing image /data/4-Z6K8_49330658558098c69ec955ecae8b4c1a3f6c467acc788fc80427df570333a653/Dataset_4-Z6K8/data/asset/Image/895604_1599433_15439826_Left Field 2.jpg : , trial 1, color channel grey, resize function imgResize_primary\n"
     ]
    },
    {
     "name": "stdout",
     "output_type": "stream",
     "text": [
      "1/1 [==============================] - 0s 20ms/step\n"
     ]
    },
    {
     "name": "stderr",
     "output_type": "stream",
     "text": [
      "2025-09-22 11:52:49,079 - INFO - Processing image /data/4-Z6K8_49330658558098c69ec955ecae8b4c1a3f6c467acc788fc80427df570333a653/Dataset_4-Z6K8/data/asset/Image/895604_1599433_15439826_Left Field 2.jpg : , trial 2, color channel green, resize function imgResize_primary\n"
     ]
    },
    {
     "name": "stdout",
     "output_type": "stream",
     "text": [
      "1/1 [==============================] - 0s 20ms/step\n"
     ]
    },
    {
     "name": "stderr",
     "output_type": "stream",
     "text": [
      "2025-09-22 11:52:49,672 - INFO - Processing image /data/4-Z6K8_49330658558098c69ec955ecae8b4c1a3f6c467acc788fc80427df570333a653/Dataset_4-Z6K8/data/asset/Image/895604_1599433_15439826_Left Field 2.jpg : , trial 3, color channel red, resize function imgResize_primary\n"
     ]
    },
    {
     "name": "stdout",
     "output_type": "stream",
     "text": [
      "1/1 [==============================] - 0s 21ms/step\n"
     ]
    },
    {
     "name": "stderr",
     "output_type": "stream",
     "text": [
      "2025-09-22 11:52:50,298 - INFO - Processing image /data/4-Z6K8_49330658558098c69ec955ecae8b4c1a3f6c467acc788fc80427df570333a653/Dataset_4-Z6K8/data/asset/Image/895604_1599433_15439826_Left Field 2.jpg : , trial 4, color channel blue, resize function imgResize_primary\n"
     ]
    },
    {
     "name": "stdout",
     "output_type": "stream",
     "text": [
      "1/1 [==============================] - 0s 20ms/step\n"
     ]
    },
    {
     "name": "stderr",
     "output_type": "stream",
     "text": [
      "2025-09-22 11:52:50,870 - INFO - Processing image /data/4-Z6K8_49330658558098c69ec955ecae8b4c1a3f6c467acc788fc80427df570333a653/Dataset_4-Z6K8/data/asset/Image/895604_1599433_15439826_Left Field 2.jpg : , trial 1, color channel grey, resize function imgResize_secondary\n"
     ]
    },
    {
     "name": "stdout",
     "output_type": "stream",
     "text": [
      "1/1 [==============================] - 0s 20ms/step\n"
     ]
    },
    {
     "name": "stderr",
     "output_type": "stream",
     "text": [
      "2025-09-22 11:52:51,604 - INFO - Processing image /data/4-Z6K8_49330658558098c69ec955ecae8b4c1a3f6c467acc788fc80427df570333a653/Dataset_4-Z6K8/data/asset/Image/895604_1599433_15439826_Left Field 2.jpg : , trial 2, color channel green, resize function imgResize_secondary\n"
     ]
    },
    {
     "name": "stdout",
     "output_type": "stream",
     "text": [
      "1/1 [==============================] - 0s 20ms/step\n"
     ]
    },
    {
     "name": "stderr",
     "output_type": "stream",
     "text": [
      "2025-09-22 11:52:52,292 - INFO - Processing image /data/4-Z6K8_49330658558098c69ec955ecae8b4c1a3f6c467acc788fc80427df570333a653/Dataset_4-Z6K8/data/asset/Image/895604_1599433_15439826_Left Field 2.jpg : , trial 3, color channel red, resize function imgResize_secondary\n"
     ]
    },
    {
     "name": "stdout",
     "output_type": "stream",
     "text": [
      "1/1 [==============================] - 0s 20ms/step\n"
     ]
    },
    {
     "name": "stderr",
     "output_type": "stream",
     "text": [
      "2025-09-22 11:52:53,074 - INFO - Processing image /data/4-Z6K8_49330658558098c69ec955ecae8b4c1a3f6c467acc788fc80427df570333a653/Dataset_4-Z6K8/data/asset/Image/895604_1599433_15439826_Left Field 2.jpg : , trial 4, color channel blue, resize function imgResize_secondary\n"
     ]
    },
    {
     "name": "stdout",
     "output_type": "stream",
     "text": [
      "1/1 [==============================] - 0s 21ms/step\n"
     ]
    },
    {
     "name": "stderr",
     "output_type": "stream",
     "text": [
      "2025-09-22 11:52:53,872 - INFO - Processing image /data/4-Z6K8_49330658558098c69ec955ecae8b4c1a3f6c467acc788fc80427df570333a653/Dataset_4-Z6K8/data/asset/Image/895604_1599433_15439826_Left Field 2.jpg : , trial 1, color channel grey, resize function imgResize_primary\n"
     ]
    },
    {
     "name": "stdout",
     "output_type": "stream",
     "text": [
      "1/1 [==============================] - 0s 21ms/step\n"
     ]
    },
    {
     "name": "stderr",
     "output_type": "stream",
     "text": [
      "2025-09-22 11:52:54,349 - INFO - Processing image /data/4-Z6K8_49330658558098c69ec955ecae8b4c1a3f6c467acc788fc80427df570333a653/Dataset_4-Z6K8/data/asset/Image/895604_1599433_15439826_Left Field 2.jpg : , trial 2, color channel green, resize function imgResize_primary\n"
     ]
    },
    {
     "name": "stdout",
     "output_type": "stream",
     "text": [
      "1/1 [==============================] - 0s 20ms/step\n"
     ]
    },
    {
     "name": "stderr",
     "output_type": "stream",
     "text": [
      "2025-09-22 11:52:54,912 - INFO - Processing image /data/4-Z6K8_49330658558098c69ec955ecae8b4c1a3f6c467acc788fc80427df570333a653/Dataset_4-Z6K8/data/asset/Image/895604_1599433_15439826_Left Field 2.jpg : , trial 3, color channel red, resize function imgResize_primary\n"
     ]
    },
    {
     "name": "stdout",
     "output_type": "stream",
     "text": [
      "1/1 [==============================] - 0s 20ms/step\n"
     ]
    },
    {
     "name": "stderr",
     "output_type": "stream",
     "text": [
      "2025-09-22 11:52:55,619 - INFO - Processing image /data/4-Z6K8_49330658558098c69ec955ecae8b4c1a3f6c467acc788fc80427df570333a653/Dataset_4-Z6K8/data/asset/Image/895604_1599433_15439826_Left Field 2.jpg : , trial 4, color channel blue, resize function imgResize_primary\n"
     ]
    },
    {
     "name": "stdout",
     "output_type": "stream",
     "text": [
      "1/1 [==============================] - 0s 20ms/step\n"
     ]
    },
    {
     "name": "stderr",
     "output_type": "stream",
     "text": [
      "2025-09-22 11:52:56,166 - INFO - Processing image /data/4-Z6K8_49330658558098c69ec955ecae8b4c1a3f6c467acc788fc80427df570333a653/Dataset_4-Z6K8/data/asset/Image/895604_1599433_15439826_Left Field 2.jpg : , trial 1, color channel grey, resize function imgResize_secondary\n"
     ]
    },
    {
     "name": "stdout",
     "output_type": "stream",
     "text": [
      "1/1 [==============================] - 0s 21ms/step\n"
     ]
    },
    {
     "name": "stderr",
     "output_type": "stream",
     "text": [
      "2025-09-22 11:52:56,907 - INFO - Processing image /data/4-Z6K8_49330658558098c69ec955ecae8b4c1a3f6c467acc788fc80427df570333a653/Dataset_4-Z6K8/data/asset/Image/895604_1599433_15439826_Left Field 2.jpg : , trial 2, color channel green, resize function imgResize_secondary\n"
     ]
    },
    {
     "name": "stdout",
     "output_type": "stream",
     "text": [
      "1/1 [==============================] - 0s 20ms/step\n"
     ]
    },
    {
     "name": "stderr",
     "output_type": "stream",
     "text": [
      "2025-09-22 11:52:57,551 - INFO - Processing image /data/4-Z6K8_49330658558098c69ec955ecae8b4c1a3f6c467acc788fc80427df570333a653/Dataset_4-Z6K8/data/asset/Image/895604_1599433_15439826_Left Field 2.jpg : , trial 3, color channel red, resize function imgResize_secondary\n"
     ]
    },
    {
     "name": "stdout",
     "output_type": "stream",
     "text": [
      "1/1 [==============================] - 0s 20ms/step\n"
     ]
    },
    {
     "name": "stderr",
     "output_type": "stream",
     "text": [
      "2025-09-22 11:52:58,492 - INFO - Processing image /data/4-Z6K8_49330658558098c69ec955ecae8b4c1a3f6c467acc788fc80427df570333a653/Dataset_4-Z6K8/data/asset/Image/895604_1599433_15439826_Left Field 2.jpg : , trial 4, color channel blue, resize function imgResize_secondary\n"
     ]
    },
    {
     "name": "stdout",
     "output_type": "stream",
     "text": [
      "1/1 [==============================] - 0s 20ms/step\n"
     ]
    },
    {
     "name": "stderr",
     "output_type": "stream",
     "text": [
      "2025-09-22 11:52:59,199 - INFO - Processing image /data/4-Z6K8_49330658558098c69ec955ecae8b4c1a3f6c467acc788fc80427df570333a653/Dataset_4-Z6K8/data/asset/Image/895604_1599433_15439826_Left Field 2.jpg : , trial 1, color channel grey, resize function imgResize_primary\n"
     ]
    },
    {
     "name": "stdout",
     "output_type": "stream",
     "text": [
      "1/1 [==============================] - 0s 21ms/step\n"
     ]
    },
    {
     "name": "stderr",
     "output_type": "stream",
     "text": [
      "2025-09-22 11:52:59,756 - INFO - Processing image /data/4-Z6K8_49330658558098c69ec955ecae8b4c1a3f6c467acc788fc80427df570333a653/Dataset_4-Z6K8/data/asset/Image/895604_1599433_15439826_Left Field 2.jpg : , trial 2, color channel green, resize function imgResize_primary\n"
     ]
    },
    {
     "name": "stdout",
     "output_type": "stream",
     "text": [
      "1/1 [==============================] - 0s 21ms/step\n"
     ]
    },
    {
     "name": "stderr",
     "output_type": "stream",
     "text": [
      "2025-09-22 11:53:00,360 - INFO - Processing image /data/4-Z6K8_49330658558098c69ec955ecae8b4c1a3f6c467acc788fc80427df570333a653/Dataset_4-Z6K8/data/asset/Image/895604_1599433_15439826_Left Field 2.jpg : , trial 3, color channel red, resize function imgResize_primary\n"
     ]
    },
    {
     "name": "stdout",
     "output_type": "stream",
     "text": [
      "1/1 [==============================] - 0s 20ms/step\n"
     ]
    },
    {
     "name": "stderr",
     "output_type": "stream",
     "text": [
      "2025-09-22 11:53:00,884 - INFO - Processing image /data/4-Z6K8_49330658558098c69ec955ecae8b4c1a3f6c467acc788fc80427df570333a653/Dataset_4-Z6K8/data/asset/Image/895604_1599433_15439826_Left Field 2.jpg : , trial 4, color channel blue, resize function imgResize_primary\n"
     ]
    },
    {
     "name": "stdout",
     "output_type": "stream",
     "text": [
      "1/1 [==============================] - 0s 20ms/step\n"
     ]
    },
    {
     "name": "stderr",
     "output_type": "stream",
     "text": [
      "2025-09-22 11:53:01,402 - INFO - Processing image /data/4-Z6K8_49330658558098c69ec955ecae8b4c1a3f6c467acc788fc80427df570333a653/Dataset_4-Z6K8/data/asset/Image/895604_1599433_15439826_Left Field 2.jpg : , trial 1, color channel grey, resize function imgResize_secondary\n"
     ]
    },
    {
     "name": "stdout",
     "output_type": "stream",
     "text": [
      "1/1 [==============================] - 0s 20ms/step\n"
     ]
    },
    {
     "name": "stderr",
     "output_type": "stream",
     "text": [
      "2025-09-22 11:53:02,097 - INFO - Processing image /data/4-Z6K8_49330658558098c69ec955ecae8b4c1a3f6c467acc788fc80427df570333a653/Dataset_4-Z6K8/data/asset/Image/895604_1599433_15439826_Left Field 2.jpg : , trial 2, color channel green, resize function imgResize_secondary\n"
     ]
    },
    {
     "name": "stdout",
     "output_type": "stream",
     "text": [
      "1/1 [==============================] - 0s 21ms/step\n"
     ]
    },
    {
     "name": "stderr",
     "output_type": "stream",
     "text": [
      "2025-09-22 11:53:02,788 - INFO - Processing image /data/4-Z6K8_49330658558098c69ec955ecae8b4c1a3f6c467acc788fc80427df570333a653/Dataset_4-Z6K8/data/asset/Image/895604_1599433_15439826_Left Field 2.jpg : , trial 3, color channel red, resize function imgResize_secondary\n"
     ]
    },
    {
     "name": "stdout",
     "output_type": "stream",
     "text": [
      "1/1 [==============================] - 0s 21ms/step\n"
     ]
    },
    {
     "name": "stderr",
     "output_type": "stream",
     "text": [
      "2025-09-22 11:53:03,639 - INFO - Processing image /data/4-Z6K8_49330658558098c69ec955ecae8b4c1a3f6c467acc788fc80427df570333a653/Dataset_4-Z6K8/data/asset/Image/895604_1599433_15439826_Left Field 2.jpg : , trial 4, color channel blue, resize function imgResize_secondary\n"
     ]
    },
    {
     "name": "stdout",
     "output_type": "stream",
     "text": [
      "1/1 [==============================] - 0s 21ms/step\n"
     ]
    },
    {
     "name": "stderr",
     "output_type": "stream",
     "text": [
      "2025-09-22 11:53:04,559 - INFO - SVG for 2-DAT0 saved.\n",
      "2025-09-22 11:53:04,593 - INFO - Processing image /data/4-Z6K8_49330658558098c69ec955ecae8b4c1a3f6c467acc788fc80427df570333a653/Dataset_4-Z6K8/data/asset/Image/895604_1599433_15439827_Right Field 2.jpg : , trial 1, color channel grey, resize function imgResize_primary\n"
     ]
    },
    {
     "name": "stdout",
     "output_type": "stream",
     "text": [
      "1/1 [==============================] - 0s 20ms/step\n"
     ]
    },
    {
     "name": "stderr",
     "output_type": "stream",
     "text": [
      "2025-09-22 11:53:05,120 - INFO - Processing image /data/4-Z6K8_49330658558098c69ec955ecae8b4c1a3f6c467acc788fc80427df570333a653/Dataset_4-Z6K8/data/asset/Image/895604_1599433_15439827_Right Field 2.jpg : , trial 2, color channel green, resize function imgResize_primary\n"
     ]
    },
    {
     "name": "stdout",
     "output_type": "stream",
     "text": [
      "1/1 [==============================] - 0s 21ms/step\n"
     ]
    },
    {
     "name": "stderr",
     "output_type": "stream",
     "text": [
      "2025-09-22 11:53:05,705 - INFO - Processing image /data/4-Z6K8_49330658558098c69ec955ecae8b4c1a3f6c467acc788fc80427df570333a653/Dataset_4-Z6K8/data/asset/Image/895604_1599433_15439827_Right Field 2.jpg : , trial 3, color channel red, resize function imgResize_primary\n"
     ]
    },
    {
     "name": "stdout",
     "output_type": "stream",
     "text": [
      "1/1 [==============================] - 0s 21ms/step\n"
     ]
    },
    {
     "name": "stderr",
     "output_type": "stream",
     "text": [
      "2025-09-22 11:53:06,466 - INFO - SVG for 2-DAT2 saved.\n",
      "2025-09-22 11:53:06,500 - INFO - Processing image /data/4-Z6K8_49330658558098c69ec955ecae8b4c1a3f6c467acc788fc80427df570333a653/Dataset_4-Z6K8/data/asset/Image/909121_1577854_15298306_Right Field 2.jpg : , trial 1, color channel grey, resize function imgResize_primary\n"
     ]
    },
    {
     "name": "stdout",
     "output_type": "stream",
     "text": [
      "1/1 [==============================] - 0s 20ms/step\n"
     ]
    },
    {
     "name": "stderr",
     "output_type": "stream",
     "text": [
      "2025-09-22 11:53:07,262 - INFO - SVG for 2-DAY6 saved.\n",
      "2025-09-22 11:53:07,295 - INFO - Processing image /data/4-Z6K8_49330658558098c69ec955ecae8b4c1a3f6c467acc788fc80427df570333a653/Dataset_4-Z6K8/data/asset/Image/909121_1577854_15298310_Left Field 2.jpg : , trial 1, color channel grey, resize function imgResize_primary\n"
     ]
    },
    {
     "name": "stdout",
     "output_type": "stream",
     "text": [
      "1/1 [==============================] - 0s 20ms/step\n"
     ]
    },
    {
     "name": "stderr",
     "output_type": "stream",
     "text": [
      "2025-09-22 11:53:08,083 - INFO - SVG for 2-DAYE saved.\n",
      "2025-09-22 11:53:08,314 - INFO - Processing image /data/4-Z6K8_49330658558098c69ec955ecae8b4c1a3f6c467acc788fc80427df570333a653/Dataset_4-Z6K8/data/asset/Image/911953_1532792_14978501_Right Field 2.jpg : , trial 1, color channel grey, resize function imgResize_primary\n"
     ]
    },
    {
     "name": "stdout",
     "output_type": "stream",
     "text": [
      "1/1 [==============================] - 0s 21ms/step\n"
     ]
    },
    {
     "name": "stderr",
     "output_type": "stream",
     "text": [
      "2025-09-22 11:53:09,158 - INFO - SVG for 2-DAZC saved.\n",
      "2025-09-22 11:53:09,379 - INFO - Processing image /data/4-Z6K8_49330658558098c69ec955ecae8b4c1a3f6c467acc788fc80427df570333a653/Dataset_4-Z6K8/data/asset/Image/911953_1532792_14978503_Left Field 2.jpg : , trial 1, color channel grey, resize function imgResize_primary\n"
     ]
    },
    {
     "name": "stdout",
     "output_type": "stream",
     "text": [
      "1/1 [==============================] - 0s 20ms/step\n"
     ]
    },
    {
     "name": "stderr",
     "output_type": "stream",
     "text": [
      "2025-09-22 11:53:10,241 - INFO - SVG for 2-DAZG saved.\n",
      "2025-09-22 11:53:10,274 - INFO - Processing image /data/4-Z6K8_49330658558098c69ec955ecae8b4c1a3f6c467acc788fc80427df570333a653/Dataset_4-Z6K8/data/asset/Image/919890_1559026_15170776_Left Field 2.jpg : , trial 1, color channel grey, resize function imgResize_primary\n"
     ]
    },
    {
     "name": "stdout",
     "output_type": "stream",
     "text": [
      "1/1 [==============================] - 0s 20ms/step\n"
     ]
    },
    {
     "name": "stderr",
     "output_type": "stream",
     "text": [
      "2025-09-22 11:53:11,009 - INFO - SVG for 2-DB6T saved.\n",
      "2025-09-22 11:53:11,043 - INFO - Processing image /data/4-Z6K8_49330658558098c69ec955ecae8b4c1a3f6c467acc788fc80427df570333a653/Dataset_4-Z6K8/data/asset/Image/919890_1559026_15170781_Right Field 2.jpg : , trial 1, color channel grey, resize function imgResize_primary\n"
     ]
    },
    {
     "name": "stdout",
     "output_type": "stream",
     "text": [
      "1/1 [==============================] - 0s 21ms/step\n"
     ]
    },
    {
     "name": "stderr",
     "output_type": "stream",
     "text": [
      "2025-09-22 11:53:11,746 - INFO - SVG for 2-DB72 saved.\n",
      "2025-09-22 11:53:11,871 - INFO - Processing image /data/4-Z6K8_49330658558098c69ec955ecae8b4c1a3f6c467acc788fc80427df570333a653/Dataset_4-Z6K8/data/asset/Image/921064_1456165_14462012_Left Field 2.jpg : , trial 1, color channel grey, resize function imgResize_primary\n"
     ]
    },
    {
     "name": "stdout",
     "output_type": "stream",
     "text": [
      "1/1 [==============================] - 0s 20ms/step\n"
     ]
    },
    {
     "name": "stderr",
     "output_type": "stream",
     "text": [
      "2025-09-22 11:53:12,866 - INFO - SVG for 2-DB7J saved.\n",
      "2025-09-22 11:53:12,975 - INFO - Processing image /data/4-Z6K8_49330658558098c69ec955ecae8b4c1a3f6c467acc788fc80427df570333a653/Dataset_4-Z6K8/data/asset/Image/921064_1456165_14462016_Right Field 2.jpg : , trial 1, color channel grey, resize function imgResize_primary\n"
     ]
    },
    {
     "name": "stdout",
     "output_type": "stream",
     "text": [
      "1/1 [==============================] - 0s 21ms/step\n"
     ]
    },
    {
     "name": "stderr",
     "output_type": "stream",
     "text": [
      "2025-09-22 11:53:13,706 - INFO - SVG for 2-DB7R saved.\n",
      "2025-09-22 11:53:13,812 - INFO - Processing image /data/4-Z6K8_49330658558098c69ec955ecae8b4c1a3f6c467acc788fc80427df570333a653/Dataset_4-Z6K8/data/asset/Image/926317_1571984_15257633_Right Field 2.jpg : , trial 1, color channel grey, resize function imgResize_primary\n"
     ]
    },
    {
     "name": "stdout",
     "output_type": "stream",
     "text": [
      "1/1 [==============================] - 0s 21ms/step\n"
     ]
    },
    {
     "name": "stderr",
     "output_type": "stream",
     "text": [
      "2025-09-22 11:53:14,500 - INFO - SVG for 2-DBBP saved.\n",
      "2025-09-22 11:53:14,607 - INFO - Processing image /data/4-Z6K8_49330658558098c69ec955ecae8b4c1a3f6c467acc788fc80427df570333a653/Dataset_4-Z6K8/data/asset/Image/926317_1571984_15257635_Left Field 2.jpg : , trial 1, color channel grey, resize function imgResize_primary\n"
     ]
    },
    {
     "name": "stdout",
     "output_type": "stream",
     "text": [
      "1/1 [==============================] - 0s 21ms/step\n"
     ]
    },
    {
     "name": "stderr",
     "output_type": "stream",
     "text": [
      "2025-09-22 11:53:15,469 - INFO - SVG for 2-DBBT saved.\n",
      "2025-09-22 11:53:15,691 - INFO - Processing image /data/4-Z6K8_49330658558098c69ec955ecae8b4c1a3f6c467acc788fc80427df570333a653/Dataset_4-Z6K8/data/asset/Image/929067_1489847_14685536_Left Field 2.jpg : , trial 1, color channel grey, resize function imgResize_primary\n"
     ]
    },
    {
     "name": "stdout",
     "output_type": "stream",
     "text": [
      "1/1 [==============================] - 0s 20ms/step\n"
     ]
    },
    {
     "name": "stderr",
     "output_type": "stream",
     "text": [
      "2025-09-22 11:53:16,490 - INFO - SVG for 2-DBDT saved.\n",
      "2025-09-22 11:53:16,712 - INFO - Processing image /data/4-Z6K8_49330658558098c69ec955ecae8b4c1a3f6c467acc788fc80427df570333a653/Dataset_4-Z6K8/data/asset/Image/929067_1489847_14685540_Right Field 2.jpg : , trial 1, color channel grey, resize function imgResize_primary\n"
     ]
    },
    {
     "name": "stdout",
     "output_type": "stream",
     "text": [
      "1/1 [==============================] - 0s 21ms/step\n"
     ]
    },
    {
     "name": "stderr",
     "output_type": "stream",
     "text": [
      "2025-09-22 11:53:17,577 - INFO - SVG for 2-DBE0 saved.\n",
      "2025-09-22 11:53:17,797 - INFO - Processing image /data/4-Z6K8_49330658558098c69ec955ecae8b4c1a3f6c467acc788fc80427df570333a653/Dataset_4-Z6K8/data/asset/Image/929067_1642884_15708050_Right Field 2.jpg : , trial 1, color channel grey, resize function imgResize_primary\n"
     ]
    },
    {
     "name": "stdout",
     "output_type": "stream",
     "text": [
      "1/1 [==============================] - 0s 21ms/step\n"
     ]
    },
    {
     "name": "stderr",
     "output_type": "stream",
     "text": [
      "2025-09-22 11:53:18,682 - INFO - SVG for 2-DBE6 saved.\n",
      "2025-09-22 11:53:18,905 - INFO - Processing image /data/4-Z6K8_49330658558098c69ec955ecae8b4c1a3f6c467acc788fc80427df570333a653/Dataset_4-Z6K8/data/asset/Image/929067_1642884_15708054_Left Field 2.jpg : , trial 1, color channel grey, resize function imgResize_primary\n"
     ]
    },
    {
     "name": "stdout",
     "output_type": "stream",
     "text": [
      "1/1 [==============================] - 0s 20ms/step\n"
     ]
    },
    {
     "name": "stderr",
     "output_type": "stream",
     "text": [
      "2025-09-22 11:53:19,715 - INFO - SVG for 2-DBEC saved.\n",
      "2025-09-22 11:53:19,748 - INFO - Processing image /data/4-Z6K8_49330658558098c69ec955ecae8b4c1a3f6c467acc788fc80427df570333a653/Dataset_4-Z6K8/data/asset/Image/929244_1467249_14536696_Right Field 2.jpg : , trial 1, color channel grey, resize function imgResize_primary\n"
     ]
    },
    {
     "name": "stdout",
     "output_type": "stream",
     "text": [
      "1/1 [==============================] - 0s 20ms/step\n"
     ]
    },
    {
     "name": "stderr",
     "output_type": "stream",
     "text": [
      "2025-09-22 11:53:20,437 - INFO - SVG for 2-DBEW saved.\n",
      "2025-09-22 11:53:20,470 - INFO - Processing image /data/4-Z6K8_49330658558098c69ec955ecae8b4c1a3f6c467acc788fc80427df570333a653/Dataset_4-Z6K8/data/asset/Image/929244_1467249_14536699_Left Field 2.jpg : , trial 1, color channel grey, resize function imgResize_primary\n"
     ]
    },
    {
     "name": "stdout",
     "output_type": "stream",
     "text": [
      "1/1 [==============================] - 0s 20ms/step\n"
     ]
    },
    {
     "name": "stderr",
     "output_type": "stream",
     "text": [
      "2025-09-22 11:53:21,222 - INFO - SVG for 2-DBF2 saved.\n",
      "2025-09-22 11:53:21,509 - INFO - Processing image /data/4-Z6K8_49330658558098c69ec955ecae8b4c1a3f6c467acc788fc80427df570333a653/Dataset_4-Z6K8/data/asset/Image/929278_1525927_14931535_Left Field 2.jpg : , trial 1, color channel grey, resize function imgResize_primary\n"
     ]
    },
    {
     "name": "stdout",
     "output_type": "stream",
     "text": [
      "1/1 [==============================] - 0s 21ms/step\n"
     ]
    },
    {
     "name": "stderr",
     "output_type": "stream",
     "text": [
      "2025-09-22 11:53:22,753 - INFO - SVG for 2-DBFC saved.\n",
      "2025-09-22 11:53:23,042 - INFO - Processing image /data/4-Z6K8_49330658558098c69ec955ecae8b4c1a3f6c467acc788fc80427df570333a653/Dataset_4-Z6K8/data/asset/Image/929278_1525927_14931537_Right Field 2.jpg : , trial 1, color channel grey, resize function imgResize_primary\n"
     ]
    },
    {
     "name": "stdout",
     "output_type": "stream",
     "text": [
      "1/1 [==============================] - 0s 21ms/step\n"
     ]
    },
    {
     "name": "stderr",
     "output_type": "stream",
     "text": [
      "2025-09-22 11:53:23,983 - INFO - SVG for 2-DBFG saved.\n",
      "2025-09-22 11:53:24,202 - INFO - Processing image /data/4-Z6K8_49330658558098c69ec955ecae8b4c1a3f6c467acc788fc80427df570333a653/Dataset_4-Z6K8/data/asset/Image/941066_1526883_14938417_Left Field 2.jpg : , trial 1, color channel grey, resize function imgResize_primary\n"
     ]
    },
    {
     "name": "stdout",
     "output_type": "stream",
     "text": [
      "1/1 [==============================] - 0s 21ms/step\n"
     ]
    },
    {
     "name": "stderr",
     "output_type": "stream",
     "text": [
      "2025-09-22 11:53:25,078 - INFO - SVG for 2-DBPA saved.\n",
      "2025-09-22 11:53:25,300 - INFO - Processing image /data/4-Z6K8_49330658558098c69ec955ecae8b4c1a3f6c467acc788fc80427df570333a653/Dataset_4-Z6K8/data/asset/Image/941066_1526883_14938427_Right Field 2.jpg : , trial 1, color channel grey, resize function imgResize_primary\n"
     ]
    },
    {
     "name": "stdout",
     "output_type": "stream",
     "text": [
      "1/1 [==============================] - 0s 21ms/step\n"
     ]
    },
    {
     "name": "stderr",
     "output_type": "stream",
     "text": [
      "2025-09-22 11:53:26,229 - INFO - SVG for 2-DBPJ saved.\n",
      "2025-09-22 11:53:26,378 - INFO - Processing image /data/4-Z6K8_49330658558098c69ec955ecae8b4c1a3f6c467acc788fc80427df570333a653/Dataset_4-Z6K8/data/asset/Image/943081_1497511_14737540_Left Field 2.JPG : , trial 1, color channel grey, resize function imgResize_primary\n"
     ]
    },
    {
     "name": "stdout",
     "output_type": "stream",
     "text": [
      "1/1 [==============================] - 0s 20ms/step\n"
     ]
    },
    {
     "name": "stderr",
     "output_type": "stream",
     "text": [
      "2025-09-22 11:53:27,128 - INFO - SVG for 2-DBQW saved.\n",
      "2025-09-22 11:53:27,276 - INFO - Processing image /data/4-Z6K8_49330658558098c69ec955ecae8b4c1a3f6c467acc788fc80427df570333a653/Dataset_4-Z6K8/data/asset/Image/943081_1497511_14737544_Right Field 2.JPG : , trial 1, color channel grey, resize function imgResize_primary\n"
     ]
    },
    {
     "name": "stdout",
     "output_type": "stream",
     "text": [
      "1/1 [==============================] - 0s 21ms/step\n"
     ]
    },
    {
     "name": "stderr",
     "output_type": "stream",
     "text": [
      "2025-09-22 11:53:28,037 - INFO - SVG for 2-DBR2 saved.\n",
      "2025-09-22 11:53:28,071 - INFO - Processing image /data/4-Z6K8_49330658558098c69ec955ecae8b4c1a3f6c467acc788fc80427df570333a653/Dataset_4-Z6K8/data/asset/Image/950564_1532181_14974295_Left Field 2.jpg : , trial 1, color channel grey, resize function imgResize_primary\n"
     ]
    },
    {
     "name": "stdout",
     "output_type": "stream",
     "text": [
      "1/1 [==============================] - 0s 21ms/step\n"
     ]
    },
    {
     "name": "stderr",
     "output_type": "stream",
     "text": [
      "2025-09-22 11:53:28,665 - INFO - Processing image /data/4-Z6K8_49330658558098c69ec955ecae8b4c1a3f6c467acc788fc80427df570333a653/Dataset_4-Z6K8/data/asset/Image/950564_1532181_14974295_Left Field 2.jpg : , trial 2, color channel green, resize function imgResize_primary\n"
     ]
    },
    {
     "name": "stdout",
     "output_type": "stream",
     "text": [
      "1/1 [==============================] - 0s 21ms/step\n"
     ]
    },
    {
     "name": "stderr",
     "output_type": "stream",
     "text": [
      "2025-09-22 11:53:29,400 - INFO - SVG for 2-DBXR saved.\n",
      "2025-09-22 11:53:29,432 - INFO - Processing image /data/4-Z6K8_49330658558098c69ec955ecae8b4c1a3f6c467acc788fc80427df570333a653/Dataset_4-Z6K8/data/asset/Image/950564_1532181_14974296_Right Field 2.jpg : , trial 1, color channel grey, resize function imgResize_primary\n"
     ]
    },
    {
     "name": "stdout",
     "output_type": "stream",
     "text": [
      "1/1 [==============================] - 0s 20ms/step\n"
     ]
    },
    {
     "name": "stderr",
     "output_type": "stream",
     "text": [
      "2025-09-22 11:53:30,111 - INFO - SVG for 2-DBXT saved.\n",
      "2025-09-22 11:53:30,145 - INFO - Processing image /data/4-Z6K8_49330658558098c69ec955ecae8b4c1a3f6c467acc788fc80427df570333a653/Dataset_4-Z6K8/data/asset/Image/951260_1559740_15175782_Left Field 2.jpg : , trial 1, color channel grey, resize function imgResize_primary\n"
     ]
    },
    {
     "name": "stdout",
     "output_type": "stream",
     "text": [
      "1/1 [==============================] - 0s 21ms/step\n"
     ]
    },
    {
     "name": "stderr",
     "output_type": "stream",
     "text": [
      "2025-09-22 11:53:31,026 - INFO - SVG for 2-DBXY saved.\n",
      "2025-09-22 11:53:31,058 - INFO - Processing image /data/4-Z6K8_49330658558098c69ec955ecae8b4c1a3f6c467acc788fc80427df570333a653/Dataset_4-Z6K8/data/asset/Image/951260_1559740_15175783_Right Field 2.jpg : , trial 1, color channel grey, resize function imgResize_primary\n"
     ]
    },
    {
     "name": "stdout",
     "output_type": "stream",
     "text": [
      "1/1 [==============================] - 0s 20ms/step\n"
     ]
    },
    {
     "name": "stderr",
     "output_type": "stream",
     "text": [
      "2025-09-22 11:53:31,645 - INFO - SVG for 2-DBY0 saved.\n",
      "2025-09-22 11:53:31,678 - INFO - Processing image /data/4-Z6K8_49330658558098c69ec955ecae8b4c1a3f6c467acc788fc80427df570333a653/Dataset_4-Z6K8/data/asset/Image/956979_1562311_15193254_Right Field 2.jpg : , trial 1, color channel grey, resize function imgResize_primary\n"
     ]
    },
    {
     "name": "stdout",
     "output_type": "stream",
     "text": [
      "1/1 [==============================] - 0s 21ms/step\n"
     ]
    },
    {
     "name": "stderr",
     "output_type": "stream",
     "text": [
      "2025-09-22 11:53:32,479 - INFO - SVG for 2-DC1R saved.\n",
      "2025-09-22 11:53:32,511 - INFO - Processing image /data/4-Z6K8_49330658558098c69ec955ecae8b4c1a3f6c467acc788fc80427df570333a653/Dataset_4-Z6K8/data/asset/Image/956979_1562311_15193257_Left Field 2.jpg : , trial 1, color channel grey, resize function imgResize_primary\n"
     ]
    },
    {
     "name": "stdout",
     "output_type": "stream",
     "text": [
      "1/1 [==============================] - 0s 20ms/step\n"
     ]
    },
    {
     "name": "stderr",
     "output_type": "stream",
     "text": [
      "2025-09-22 11:53:33,157 - INFO - SVG for 2-DC1W saved.\n",
      "2025-09-22 11:53:33,339 - INFO - Processing image /data/4-Z6K8_49330658558098c69ec955ecae8b4c1a3f6c467acc788fc80427df570333a653/Dataset_4-Z6K8/data/asset/Image/975536_1539401_15024102_Left Field 2.jpg : , trial 1, color channel grey, resize function imgResize_primary\n"
     ]
    },
    {
     "name": "stdout",
     "output_type": "stream",
     "text": [
      "1/1 [==============================] - 0s 20ms/step\n"
     ]
    },
    {
     "name": "stderr",
     "output_type": "stream",
     "text": [
      "2025-09-22 11:53:34,273 - INFO - SVG for 2-DC6Y saved.\n",
      "2025-09-22 11:53:34,457 - INFO - Processing image /data/4-Z6K8_49330658558098c69ec955ecae8b4c1a3f6c467acc788fc80427df570333a653/Dataset_4-Z6K8/data/asset/Image/975536_1539401_15024103_Right Field 2.jpg : , trial 1, color channel grey, resize function imgResize_primary\n"
     ]
    },
    {
     "name": "stdout",
     "output_type": "stream",
     "text": [
      "1/1 [==============================] - 0s 20ms/step\n"
     ]
    },
    {
     "name": "stderr",
     "output_type": "stream",
     "text": [
      "2025-09-22 11:53:35,376 - INFO - SVG for 2-DC70 saved.\n",
      "2025-09-22 11:53:35,663 - INFO - Processing image /data/4-Z6K8_49330658558098c69ec955ecae8b4c1a3f6c467acc788fc80427df570333a653/Dataset_4-Z6K8/data/asset/Image/979522_1541025_15035949_Left Field 2.jpg : , trial 1, color channel grey, resize function imgResize_primary\n"
     ]
    },
    {
     "name": "stdout",
     "output_type": "stream",
     "text": [
      "1/1 [==============================] - 0s 21ms/step\n"
     ]
    },
    {
     "name": "stderr",
     "output_type": "stream",
     "text": [
      "2025-09-22 11:53:36,551 - INFO - SVG for 2-DC8A saved.\n",
      "2025-09-22 11:53:36,841 - INFO - Processing image /data/4-Z6K8_49330658558098c69ec955ecae8b4c1a3f6c467acc788fc80427df570333a653/Dataset_4-Z6K8/data/asset/Image/979522_1541025_15035950_Right Field 2.jpg : , trial 1, color channel grey, resize function imgResize_primary\n"
     ]
    },
    {
     "name": "stdout",
     "output_type": "stream",
     "text": [
      "1/1 [==============================] - 0s 20ms/step\n"
     ]
    },
    {
     "name": "stderr",
     "output_type": "stream",
     "text": [
      "2025-09-22 11:53:37,489 - INFO - Processing image /data/4-Z6K8_49330658558098c69ec955ecae8b4c1a3f6c467acc788fc80427df570333a653/Dataset_4-Z6K8/data/asset/Image/979522_1541025_15035950_Right Field 2.jpg : , trial 2, color channel green, resize function imgResize_primary\n"
     ]
    },
    {
     "name": "stdout",
     "output_type": "stream",
     "text": [
      "1/1 [==============================] - 0s 20ms/step\n"
     ]
    },
    {
     "name": "stderr",
     "output_type": "stream",
     "text": [
      "2025-09-22 11:53:38,090 - INFO - Processing image /data/4-Z6K8_49330658558098c69ec955ecae8b4c1a3f6c467acc788fc80427df570333a653/Dataset_4-Z6K8/data/asset/Image/979522_1541025_15035950_Right Field 2.jpg : , trial 3, color channel red, resize function imgResize_primary\n"
     ]
    },
    {
     "name": "stdout",
     "output_type": "stream",
     "text": [
      "1/1 [==============================] - 0s 20ms/step\n"
     ]
    },
    {
     "name": "stderr",
     "output_type": "stream",
     "text": [
      "2025-09-22 11:53:39,309 - INFO - SVG for 2-DC8C saved.\n",
      "2025-09-22 11:53:39,433 - INFO - Processing image /data/4-Z6K8_49330658558098c69ec955ecae8b4c1a3f6c467acc788fc80427df570333a653/Dataset_4-Z6K8/data/asset/Image/990314_1592178_15389222_Left Field 2.jpg : , trial 1, color channel grey, resize function imgResize_primary\n"
     ]
    },
    {
     "name": "stdout",
     "output_type": "stream",
     "text": [
      "1/1 [==============================] - 0s 21ms/step\n"
     ]
    },
    {
     "name": "stderr",
     "output_type": "stream",
     "text": [
      "2025-09-22 11:53:40,364 - INFO - SVG for 2-DCE0 saved.\n",
      "2025-09-22 11:53:40,485 - INFO - Processing image /data/4-Z6K8_49330658558098c69ec955ecae8b4c1a3f6c467acc788fc80427df570333a653/Dataset_4-Z6K8/data/asset/Image/990314_1592178_15389225_Right Field 2.jpg : , trial 1, color channel grey, resize function imgResize_primary\n"
     ]
    },
    {
     "name": "stdout",
     "output_type": "stream",
     "text": [
      "1/1 [==============================] - 0s 20ms/step\n"
     ]
    },
    {
     "name": "stderr",
     "output_type": "stream",
     "text": [
      "2025-09-22 11:53:41,242 - INFO - SVG for 2-DCE6 saved.\n",
      "2025-09-22 11:53:41,423 - INFO - Processing image /data/4-Z6K8_49330658558098c69ec955ecae8b4c1a3f6c467acc788fc80427df570333a653/Dataset_4-Z6K8/data/asset/Image/1006112_1626099_15592494_Left Field 2.jpg : , trial 1, color channel grey, resize function imgResize_primary\n"
     ]
    },
    {
     "name": "stdout",
     "output_type": "stream",
     "text": [
      "1/1 [==============================] - 0s 21ms/step\n"
     ]
    },
    {
     "name": "stderr",
     "output_type": "stream",
     "text": [
      "2025-09-22 11:53:42,115 - INFO - SVG for 2-DCKR saved.\n",
      "2025-09-22 11:53:42,298 - INFO - Processing image /data/4-Z6K8_49330658558098c69ec955ecae8b4c1a3f6c467acc788fc80427df570333a653/Dataset_4-Z6K8/data/asset/Image/1006112_1626099_15592498_Right Field 2.jpg : , trial 1, color channel grey, resize function imgResize_primary\n"
     ]
    },
    {
     "name": "stdout",
     "output_type": "stream",
     "text": [
      "1/1 [==============================] - 0s 21ms/step\n"
     ]
    },
    {
     "name": "stderr",
     "output_type": "stream",
     "text": [
      "2025-09-22 11:53:43,032 - INFO - SVG for 2-DCKY saved.\n",
      "2025-09-22 11:53:43,239 - INFO - Processing image /data/4-Z6K8_49330658558098c69ec955ecae8b4c1a3f6c467acc788fc80427df570333a653/Dataset_4-Z6K8/data/asset/Image/1007805_1583305_15334809_Left Field 2.jpg : , trial 1, color channel grey, resize function imgResize_primary\n"
     ]
    },
    {
     "name": "stdout",
     "output_type": "stream",
     "text": [
      "1/1 [==============================] - 0s 21ms/step\n"
     ]
    },
    {
     "name": "stderr",
     "output_type": "stream",
     "text": [
      "2025-09-22 11:53:44,088 - INFO - SVG for 2-DCN0 saved.\n",
      "2025-09-22 11:53:44,294 - INFO - Processing image /data/4-Z6K8_49330658558098c69ec955ecae8b4c1a3f6c467acc788fc80427df570333a653/Dataset_4-Z6K8/data/asset/Image/1007805_1583305_15334810_Right Field 2.jpg : , trial 1, color channel grey, resize function imgResize_primary\n"
     ]
    },
    {
     "name": "stdout",
     "output_type": "stream",
     "text": [
      "1/1 [==============================] - 0s 20ms/step\n"
     ]
    },
    {
     "name": "stderr",
     "output_type": "stream",
     "text": [
      "2025-09-22 11:53:45,193 - INFO - SVG for 2-DCN2 saved.\n",
      "2025-09-22 11:53:45,225 - INFO - Processing image /data/4-Z6K8_49330658558098c69ec955ecae8b4c1a3f6c467acc788fc80427df570333a653/Dataset_4-Z6K8/data/asset/Image/1008820_1452206_14435782_Left Field 2.jpg : , trial 1, color channel grey, resize function imgResize_primary\n"
     ]
    },
    {
     "name": "stdout",
     "output_type": "stream",
     "text": [
      "1/1 [==============================] - 0s 20ms/step\n"
     ]
    },
    {
     "name": "stderr",
     "output_type": "stream",
     "text": [
      "2025-09-22 11:53:45,944 - INFO - SVG for 2-DCPP saved.\n",
      "2025-09-22 11:53:45,977 - INFO - Processing image /data/4-Z6K8_49330658558098c69ec955ecae8b4c1a3f6c467acc788fc80427df570333a653/Dataset_4-Z6K8/data/asset/Image/1008820_1452206_14435785_Right Field 2.jpg : , trial 1, color channel grey, resize function imgResize_primary\n"
     ]
    },
    {
     "name": "stdout",
     "output_type": "stream",
     "text": [
      "1/1 [==============================] - 0s 20ms/step\n"
     ]
    },
    {
     "name": "stderr",
     "output_type": "stream",
     "text": [
      "2025-09-22 11:53:46,561 - INFO - SVG for 2-DCPW saved.\n",
      "2025-09-22 11:53:46,781 - INFO - Processing image /data/4-Z6K8_49330658558098c69ec955ecae8b4c1a3f6c467acc788fc80427df570333a653/Dataset_4-Z6K8/data/asset/Image/1009505_1453175_14441888_Left Field 2.jpg : , trial 1, color channel grey, resize function imgResize_primary\n"
     ]
    },
    {
     "name": "stdout",
     "output_type": "stream",
     "text": [
      "1/1 [==============================] - 0s 21ms/step\n"
     ]
    },
    {
     "name": "stderr",
     "output_type": "stream",
     "text": [
      "2025-09-22 11:53:47,610 - INFO - SVG for 2-DCS8 saved.\n",
      "2025-09-22 11:53:47,822 - INFO - Processing image /data/4-Z6K8_49330658558098c69ec955ecae8b4c1a3f6c467acc788fc80427df570333a653/Dataset_4-Z6K8/data/asset/Image/1009505_1453175_14441893_Right Field 2.jpg : , trial 1, color channel grey, resize function imgResize_primary\n"
     ]
    },
    {
     "name": "stdout",
     "output_type": "stream",
     "text": [
      "1/1 [==============================] - 0s 20ms/step\n"
     ]
    },
    {
     "name": "stderr",
     "output_type": "stream",
     "text": [
      "2025-09-22 11:53:48,709 - INFO - SVG for 2-DCSE saved.\n",
      "2025-09-22 11:53:48,741 - INFO - Processing image /data/4-Z6K8_49330658558098c69ec955ecae8b4c1a3f6c467acc788fc80427df570333a653/Dataset_4-Z6K8/data/asset/Image/1009551_1453251_14442353_Left Field 2.jpg : , trial 1, color channel grey, resize function imgResize_primary\n"
     ]
    },
    {
     "name": "stdout",
     "output_type": "stream",
     "text": [
      "1/1 [==============================] - 0s 21ms/step\n"
     ]
    },
    {
     "name": "stderr",
     "output_type": "stream",
     "text": [
      "2025-09-22 11:53:49,516 - INFO - SVG for 2-DCSM saved.\n",
      "2025-09-22 11:53:49,548 - INFO - Processing image /data/4-Z6K8_49330658558098c69ec955ecae8b4c1a3f6c467acc788fc80427df570333a653/Dataset_4-Z6K8/data/asset/Image/1009551_1453251_14442354_Right Field 2.jpg : , trial 1, color channel grey, resize function imgResize_primary\n"
     ]
    },
    {
     "name": "stdout",
     "output_type": "stream",
     "text": [
      "1/1 [==============================] - 0s 21ms/step\n"
     ]
    },
    {
     "name": "stderr",
     "output_type": "stream",
     "text": [
      "2025-09-22 11:53:50,209 - INFO - SVG for 2-DCSP saved.\n",
      "2025-09-22 11:53:50,243 - INFO - Processing image /data/4-Z6K8_49330658558098c69ec955ecae8b4c1a3f6c467acc788fc80427df570333a653/Dataset_4-Z6K8/data/asset/Image/1009768_1453611_14445031_Left Field 2.jpg : , trial 1, color channel grey, resize function imgResize_primary\n"
     ]
    },
    {
     "name": "stdout",
     "output_type": "stream",
     "text": [
      "1/1 [==============================] - 0s 20ms/step\n"
     ]
    },
    {
     "name": "stderr",
     "output_type": "stream",
     "text": [
      "2025-09-22 11:53:50,944 - INFO - SVG for 2-DCW6 saved.\n",
      "2025-09-22 11:53:50,978 - INFO - Processing image /data/4-Z6K8_49330658558098c69ec955ecae8b4c1a3f6c467acc788fc80427df570333a653/Dataset_4-Z6K8/data/asset/Image/1009768_1453611_14445033_Right Field 2.jpg : , trial 1, color channel grey, resize function imgResize_primary\n"
     ]
    },
    {
     "name": "stdout",
     "output_type": "stream",
     "text": [
      "1/1 [==============================] - 0s 21ms/step\n"
     ]
    },
    {
     "name": "stderr",
     "output_type": "stream",
     "text": [
      "2025-09-22 11:53:51,659 - INFO - SVG for 2-DCW8 saved.\n",
      "2025-09-22 11:53:51,879 - INFO - Processing image /data/4-Z6K8_49330658558098c69ec955ecae8b4c1a3f6c467acc788fc80427df570333a653/Dataset_4-Z6K8/data/asset/Image/1010041_1636305_15659942_Right Field 2.jpg : , trial 1, color channel grey, resize function imgResize_primary\n"
     ]
    },
    {
     "name": "stdout",
     "output_type": "stream",
     "text": [
      "1/1 [==============================] - 0s 21ms/step\n"
     ]
    },
    {
     "name": "stderr",
     "output_type": "stream",
     "text": [
      "2025-09-22 11:53:52,600 - INFO - Processing image /data/4-Z6K8_49330658558098c69ec955ecae8b4c1a3f6c467acc788fc80427df570333a653/Dataset_4-Z6K8/data/asset/Image/1010041_1636305_15659942_Right Field 2.jpg : , trial 2, color channel green, resize function imgResize_primary\n"
     ]
    },
    {
     "name": "stdout",
     "output_type": "stream",
     "text": [
      "1/1 [==============================] - 0s 21ms/step\n"
     ]
    },
    {
     "name": "stderr",
     "output_type": "stream",
     "text": [
      "2025-09-22 11:53:53,486 - INFO - SVG for 2-DCXW saved.\n",
      "2025-09-22 11:53:53,707 - INFO - Processing image /data/4-Z6K8_49330658558098c69ec955ecae8b4c1a3f6c467acc788fc80427df570333a653/Dataset_4-Z6K8/data/asset/Image/1010041_1636305_15659943_Left Field 2.jpg : , trial 1, color channel grey, resize function imgResize_primary\n"
     ]
    },
    {
     "name": "stdout",
     "output_type": "stream",
     "text": [
      "1/1 [==============================] - 0s 20ms/step\n"
     ]
    },
    {
     "name": "stderr",
     "output_type": "stream",
     "text": [
      "2025-09-22 11:53:54,476 - INFO - Processing image /data/4-Z6K8_49330658558098c69ec955ecae8b4c1a3f6c467acc788fc80427df570333a653/Dataset_4-Z6K8/data/asset/Image/1010041_1636305_15659943_Left Field 2.jpg : , trial 2, color channel green, resize function imgResize_primary\n"
     ]
    },
    {
     "name": "stdout",
     "output_type": "stream",
     "text": [
      "1/1 [==============================] - 0s 21ms/step\n"
     ]
    },
    {
     "name": "stderr",
     "output_type": "stream",
     "text": [
      "2025-09-22 11:53:55,357 - INFO - SVG for 2-DCXY saved.\n",
      "2025-09-22 11:53:55,476 - INFO - Processing image /data/4-Z6K8_49330658558098c69ec955ecae8b4c1a3f6c467acc788fc80427df570333a653/Dataset_4-Z6K8/data/asset/Image/1012159_1457237_14469404_Right Field 2.jpg : , trial 1, color channel grey, resize function imgResize_primary\n"
     ]
    },
    {
     "name": "stdout",
     "output_type": "stream",
     "text": [
      "1/1 [==============================] - 0s 20ms/step\n"
     ]
    },
    {
     "name": "stderr",
     "output_type": "stream",
     "text": [
      "2025-09-22 11:53:56,200 - INFO - SVG for 2-DD54 saved.\n",
      "2025-09-22 11:53:56,490 - INFO - Processing image /data/4-Z6K8_49330658558098c69ec955ecae8b4c1a3f6c467acc788fc80427df570333a653/Dataset_4-Z6K8/data/asset/Image/1012888_1458380_14477301_Right Field 2.jpg : , trial 1, color channel grey, resize function imgResize_primary\n"
     ]
    },
    {
     "name": "stdout",
     "output_type": "stream",
     "text": [
      "1/1 [==============================] - 0s 21ms/step\n"
     ]
    },
    {
     "name": "stderr",
     "output_type": "stream",
     "text": [
      "2025-09-22 11:53:57,535 - INFO - SVG for 2-DD6W saved.\n",
      "2025-09-22 11:53:57,825 - INFO - Processing image /data/4-Z6K8_49330658558098c69ec955ecae8b4c1a3f6c467acc788fc80427df570333a653/Dataset_4-Z6K8/data/asset/Image/1012888_1458380_14477303_Left Field 2.jpg : , trial 1, color channel grey, resize function imgResize_primary\n"
     ]
    },
    {
     "name": "stdout",
     "output_type": "stream",
     "text": [
      "1/1 [==============================] - 0s 21ms/step\n"
     ]
    },
    {
     "name": "stderr",
     "output_type": "stream",
     "text": [
      "2025-09-22 11:53:58,808 - INFO - SVG for 2-DD70 saved.\n",
      "2025-09-22 11:53:58,841 - INFO - Processing image /data/4-Z6K8_49330658558098c69ec955ecae8b4c1a3f6c467acc788fc80427df570333a653/Dataset_4-Z6K8/data/asset/Image/1013344_1459054_14482028_Left Field 2.jpg : , trial 1, color channel grey, resize function imgResize_primary\n"
     ]
    },
    {
     "name": "stdout",
     "output_type": "stream",
     "text": [
      "1/1 [==============================] - 0s 20ms/step\n"
     ]
    },
    {
     "name": "stderr",
     "output_type": "stream",
     "text": [
      "2025-09-22 11:53:59,283 - INFO - Processing image /data/4-Z6K8_49330658558098c69ec955ecae8b4c1a3f6c467acc788fc80427df570333a653/Dataset_4-Z6K8/data/asset/Image/1013344_1459054_14482028_Left Field 2.jpg : , trial 2, color channel green, resize function imgResize_primary\n"
     ]
    },
    {
     "name": "stdout",
     "output_type": "stream",
     "text": [
      "1/1 [==============================] - 0s 21ms/step\n"
     ]
    },
    {
     "name": "stderr",
     "output_type": "stream",
     "text": [
      "2025-09-22 11:53:59,890 - INFO - Processing image /data/4-Z6K8_49330658558098c69ec955ecae8b4c1a3f6c467acc788fc80427df570333a653/Dataset_4-Z6K8/data/asset/Image/1013344_1459054_14482028_Left Field 2.jpg : , trial 3, color channel red, resize function imgResize_primary\n"
     ]
    },
    {
     "name": "stdout",
     "output_type": "stream",
     "text": [
      "1/1 [==============================] - 0s 20ms/step\n"
     ]
    },
    {
     "name": "stderr",
     "output_type": "stream",
     "text": [
      "2025-09-22 11:54:00,597 - INFO - Processing image /data/4-Z6K8_49330658558098c69ec955ecae8b4c1a3f6c467acc788fc80427df570333a653/Dataset_4-Z6K8/data/asset/Image/1013344_1459054_14482028_Left Field 2.jpg : , trial 4, color channel blue, resize function imgResize_primary\n"
     ]
    },
    {
     "name": "stdout",
     "output_type": "stream",
     "text": [
      "1/1 [==============================] - 0s 20ms/step\n"
     ]
    },
    {
     "name": "stderr",
     "output_type": "stream",
     "text": [
      "2025-09-22 11:54:00,985 - INFO - Processing image /data/4-Z6K8_49330658558098c69ec955ecae8b4c1a3f6c467acc788fc80427df570333a653/Dataset_4-Z6K8/data/asset/Image/1013344_1459054_14482028_Left Field 2.jpg : , trial 1, color channel grey, resize function imgResize_secondary\n"
     ]
    },
    {
     "name": "stdout",
     "output_type": "stream",
     "text": [
      "1/1 [==============================] - 0s 21ms/step\n"
     ]
    },
    {
     "name": "stderr",
     "output_type": "stream",
     "text": [
      "2025-09-22 11:54:01,649 - INFO - SVG for 2-DDAA saved.\n",
      "2025-09-22 11:54:01,683 - INFO - Processing image /data/4-Z6K8_49330658558098c69ec955ecae8b4c1a3f6c467acc788fc80427df570333a653/Dataset_4-Z6K8/data/asset/Image/1013344_1459054_14482031_Right Field 2.jpg : , trial 1, color channel grey, resize function imgResize_primary\n"
     ]
    },
    {
     "name": "stdout",
     "output_type": "stream",
     "text": [
      "1/1 [==============================] - 0s 21ms/step\n"
     ]
    },
    {
     "name": "stderr",
     "output_type": "stream",
     "text": [
      "2025-09-22 11:54:02,418 - INFO - SVG for 2-DDAG saved.\n",
      "2025-09-22 11:54:02,705 - INFO - Processing image /data/4-Z6K8_49330658558098c69ec955ecae8b4c1a3f6c467acc788fc80427df570333a653/Dataset_4-Z6K8/data/asset/Image/1014603_1645207_15724247_Left Field 2.jpg : , trial 1, color channel grey, resize function imgResize_primary\n"
     ]
    },
    {
     "name": "stdout",
     "output_type": "stream",
     "text": [
      "1/1 [==============================] - 0s 21ms/step\n"
     ]
    },
    {
     "name": "stderr",
     "output_type": "stream",
     "text": [
      "2025-09-22 11:54:03,660 - INFO - SVG for 2-DDHJ saved.\n",
      "2025-09-22 11:54:03,951 - INFO - Processing image /data/4-Z6K8_49330658558098c69ec955ecae8b4c1a3f6c467acc788fc80427df570333a653/Dataset_4-Z6K8/data/asset/Image/1014603_1645207_15724250_Left Field 2.jpg : , trial 1, color channel grey, resize function imgResize_primary\n"
     ]
    },
    {
     "name": "stdout",
     "output_type": "stream",
     "text": [
      "1/1 [==============================] - 0s 20ms/step\n"
     ]
    },
    {
     "name": "stderr",
     "output_type": "stream",
     "text": [
      "2025-09-22 11:54:04,717 - INFO - SVG for 2-DDHP saved.\n",
      "2025-09-22 11:54:05,007 - INFO - Processing image /data/4-Z6K8_49330658558098c69ec955ecae8b4c1a3f6c467acc788fc80427df570333a653/Dataset_4-Z6K8/data/asset/Image/1014603_1645207_15724254_Right Field 2.jpg : , trial 1, color channel grey, resize function imgResize_primary\n"
     ]
    },
    {
     "name": "stdout",
     "output_type": "stream",
     "text": [
      "1/1 [==============================] - 0s 20ms/step\n"
     ]
    },
    {
     "name": "stderr",
     "output_type": "stream",
     "text": [
      "2025-09-22 11:54:06,045 - INFO - SVG for 2-DDHW saved.\n",
      "2025-09-22 11:54:06,259 - INFO - Processing image /data/4-Z6K8_49330658558098c69ec955ecae8b4c1a3f6c467acc788fc80427df570333a653/Dataset_4-Z6K8/data/asset/Image/1014935_1461635_14500214_Left Field 2.jpg : , trial 1, color channel grey, resize function imgResize_primary\n"
     ]
    },
    {
     "name": "stdout",
     "output_type": "stream",
     "text": [
      "1/1 [==============================] - 0s 20ms/step\n"
     ]
    },
    {
     "name": "stderr",
     "output_type": "stream",
     "text": [
      "2025-09-22 11:54:06,801 - INFO - Processing image /data/4-Z6K8_49330658558098c69ec955ecae8b4c1a3f6c467acc788fc80427df570333a653/Dataset_4-Z6K8/data/asset/Image/1014935_1461635_14500214_Left Field 2.jpg : , trial 2, color channel green, resize function imgResize_primary\n"
     ]
    },
    {
     "name": "stdout",
     "output_type": "stream",
     "text": [
      "1/1 [==============================] - 0s 20ms/step\n"
     ]
    },
    {
     "name": "stderr",
     "output_type": "stream",
     "text": [
      "2025-09-22 11:54:07,583 - INFO - SVG for 2-DDKA saved.\n",
      "2025-09-22 11:54:07,797 - INFO - Processing image /data/4-Z6K8_49330658558098c69ec955ecae8b4c1a3f6c467acc788fc80427df570333a653/Dataset_4-Z6K8/data/asset/Image/1014935_1461635_14500215_Right Field 2.jpg : , trial 1, color channel grey, resize function imgResize_primary\n"
     ]
    },
    {
     "name": "stdout",
     "output_type": "stream",
     "text": [
      "1/1 [==============================] - 0s 21ms/step\n"
     ]
    },
    {
     "name": "stderr",
     "output_type": "stream",
     "text": [
      "2025-09-22 11:54:08,643 - INFO - SVG for 2-DDKC saved.\n",
      "2025-09-22 11:54:08,826 - INFO - Processing image /data/4-Z6K8_49330658558098c69ec955ecae8b4c1a3f6c467acc788fc80427df570333a653/Dataset_4-Z6K8/data/asset/Image/1016739_1464359_14518746_Left Field 2.jpg : , trial 1, color channel grey, resize function imgResize_primary\n"
     ]
    },
    {
     "name": "stdout",
     "output_type": "stream",
     "text": [
      "1/1 [==============================] - 0s 20ms/step\n"
     ]
    },
    {
     "name": "stderr",
     "output_type": "stream",
     "text": [
      "2025-09-22 11:54:09,374 - INFO - Processing image /data/4-Z6K8_49330658558098c69ec955ecae8b4c1a3f6c467acc788fc80427df570333a653/Dataset_4-Z6K8/data/asset/Image/1016739_1464359_14518746_Left Field 2.jpg : , trial 2, color channel green, resize function imgResize_primary\n"
     ]
    },
    {
     "name": "stdout",
     "output_type": "stream",
     "text": [
      "1/1 [==============================] - 0s 20ms/step\n"
     ]
    },
    {
     "name": "stderr",
     "output_type": "stream",
     "text": [
      "2025-09-22 11:54:10,213 - INFO - SVG for 2-DDR4 saved.\n",
      "2025-09-22 11:54:10,375 - INFO - Processing image /data/4-Z6K8_49330658558098c69ec955ecae8b4c1a3f6c467acc788fc80427df570333a653/Dataset_4-Z6K8/data/asset/Image/1016739_1464359_14518749_Right Field 2.jpg : , trial 1, color channel grey, resize function imgResize_primary\n"
     ]
    },
    {
     "name": "stdout",
     "output_type": "stream",
     "text": [
      "1/1 [==============================] - 0s 21ms/step\n"
     ]
    },
    {
     "name": "stderr",
     "output_type": "stream",
     "text": [
      "2025-09-22 11:54:11,034 - INFO - SVG for 2-DDRA saved.\n",
      "2025-09-22 11:54:11,238 - INFO - Processing image /data/4-Z6K8_49330658558098c69ec955ecae8b4c1a3f6c467acc788fc80427df570333a653/Dataset_4-Z6K8/data/asset/Image/1022061_1472250_14570562_Left Field 2.jpg : , trial 1, color channel grey, resize function imgResize_primary\n"
     ]
    },
    {
     "name": "stdout",
     "output_type": "stream",
     "text": [
      "1/1 [==============================] - 0s 21ms/step\n"
     ]
    },
    {
     "name": "stderr",
     "output_type": "stream",
     "text": [
      "2025-09-22 11:54:11,740 - INFO - Processing image /data/4-Z6K8_49330658558098c69ec955ecae8b4c1a3f6c467acc788fc80427df570333a653/Dataset_4-Z6K8/data/asset/Image/1022061_1472250_14570562_Left Field 2.jpg : , trial 2, color channel green, resize function imgResize_primary\n"
     ]
    },
    {
     "name": "stdout",
     "output_type": "stream",
     "text": [
      "1/1 [==============================] - 0s 21ms/step\n"
     ]
    },
    {
     "name": "stderr",
     "output_type": "stream",
     "text": [
      "2025-09-22 11:54:12,187 - INFO - Processing image /data/4-Z6K8_49330658558098c69ec955ecae8b4c1a3f6c467acc788fc80427df570333a653/Dataset_4-Z6K8/data/asset/Image/1022061_1472250_14570562_Left Field 2.jpg : , trial 3, color channel red, resize function imgResize_primary\n"
     ]
    },
    {
     "name": "stdout",
     "output_type": "stream",
     "text": [
      "1/1 [==============================] - 0s 21ms/step\n"
     ]
    },
    {
     "name": "stderr",
     "output_type": "stream",
     "text": [
      "2025-09-22 11:54:12,801 - INFO - Processing image /data/4-Z6K8_49330658558098c69ec955ecae8b4c1a3f6c467acc788fc80427df570333a653/Dataset_4-Z6K8/data/asset/Image/1022061_1472250_14570562_Left Field 2.jpg : , trial 4, color channel blue, resize function imgResize_primary\n"
     ]
    },
    {
     "name": "stdout",
     "output_type": "stream",
     "text": [
      "1/1 [==============================] - 0s 20ms/step\n"
     ]
    },
    {
     "name": "stderr",
     "output_type": "stream",
     "text": [
      "2025-09-22 11:54:13,239 - INFO - Processing image /data/4-Z6K8_49330658558098c69ec955ecae8b4c1a3f6c467acc788fc80427df570333a653/Dataset_4-Z6K8/data/asset/Image/1022061_1472250_14570562_Left Field 2.jpg : , trial 1, color channel grey, resize function imgResize_secondary\n"
     ]
    },
    {
     "name": "stdout",
     "output_type": "stream",
     "text": [
      "1/1 [==============================] - 0s 20ms/step\n"
     ]
    },
    {
     "name": "stderr",
     "output_type": "stream",
     "text": [
      "2025-09-22 11:54:14,212 - INFO - SVG for 2-DE94 saved.\n",
      "2025-09-22 11:54:14,429 - INFO - Processing image /data/4-Z6K8_49330658558098c69ec955ecae8b4c1a3f6c467acc788fc80427df570333a653/Dataset_4-Z6K8/data/asset/Image/1022061_1472250_14570563_Right Field 2.jpg : , trial 1, color channel grey, resize function imgResize_primary\n"
     ]
    },
    {
     "name": "stdout",
     "output_type": "stream",
     "text": [
      "1/1 [==============================] - 0s 20ms/step\n"
     ]
    },
    {
     "name": "stderr",
     "output_type": "stream",
     "text": [
      "2025-09-22 11:54:14,853 - INFO - Processing image /data/4-Z6K8_49330658558098c69ec955ecae8b4c1a3f6c467acc788fc80427df570333a653/Dataset_4-Z6K8/data/asset/Image/1022061_1472250_14570563_Right Field 2.jpg : , trial 2, color channel green, resize function imgResize_primary\n"
     ]
    },
    {
     "name": "stdout",
     "output_type": "stream",
     "text": [
      "1/1 [==============================] - 0s 21ms/step\n"
     ]
    },
    {
     "name": "stderr",
     "output_type": "stream",
     "text": [
      "2025-09-22 11:54:15,341 - INFO - Processing image /data/4-Z6K8_49330658558098c69ec955ecae8b4c1a3f6c467acc788fc80427df570333a653/Dataset_4-Z6K8/data/asset/Image/1022061_1472250_14570563_Right Field 2.jpg : , trial 3, color channel red, resize function imgResize_primary\n"
     ]
    },
    {
     "name": "stdout",
     "output_type": "stream",
     "text": [
      "1/1 [==============================] - 0s 20ms/step\n"
     ]
    },
    {
     "name": "stderr",
     "output_type": "stream",
     "text": [
      "2025-09-22 11:54:15,888 - INFO - Processing image /data/4-Z6K8_49330658558098c69ec955ecae8b4c1a3f6c467acc788fc80427df570333a653/Dataset_4-Z6K8/data/asset/Image/1022061_1472250_14570563_Right Field 2.jpg : , trial 4, color channel blue, resize function imgResize_primary\n"
     ]
    },
    {
     "name": "stdout",
     "output_type": "stream",
     "text": [
      "1/1 [==============================] - 0s 21ms/step\n"
     ]
    },
    {
     "name": "stderr",
     "output_type": "stream",
     "text": [
      "2025-09-22 11:54:16,393 - INFO - Processing image /data/4-Z6K8_49330658558098c69ec955ecae8b4c1a3f6c467acc788fc80427df570333a653/Dataset_4-Z6K8/data/asset/Image/1022061_1472250_14570563_Right Field 2.jpg : , trial 1, color channel grey, resize function imgResize_secondary\n"
     ]
    },
    {
     "name": "stdout",
     "output_type": "stream",
     "text": [
      "1/1 [==============================] - 0s 20ms/step\n"
     ]
    },
    {
     "name": "stderr",
     "output_type": "stream",
     "text": [
      "2025-09-22 11:54:17,015 - INFO - Processing image /data/4-Z6K8_49330658558098c69ec955ecae8b4c1a3f6c467acc788fc80427df570333a653/Dataset_4-Z6K8/data/asset/Image/1022061_1472250_14570563_Right Field 2.jpg : , trial 2, color channel green, resize function imgResize_secondary\n"
     ]
    },
    {
     "name": "stdout",
     "output_type": "stream",
     "text": [
      "1/1 [==============================] - 0s 21ms/step\n"
     ]
    },
    {
     "name": "stderr",
     "output_type": "stream",
     "text": [
      "2025-09-22 11:54:17,759 - INFO - Processing image /data/4-Z6K8_49330658558098c69ec955ecae8b4c1a3f6c467acc788fc80427df570333a653/Dataset_4-Z6K8/data/asset/Image/1022061_1472250_14570563_Right Field 2.jpg : , trial 3, color channel red, resize function imgResize_secondary\n"
     ]
    },
    {
     "name": "stdout",
     "output_type": "stream",
     "text": [
      "1/1 [==============================] - 0s 21ms/step\n"
     ]
    },
    {
     "name": "stderr",
     "output_type": "stream",
     "text": [
      "2025-09-22 11:54:18,475 - INFO - Processing image /data/4-Z6K8_49330658558098c69ec955ecae8b4c1a3f6c467acc788fc80427df570333a653/Dataset_4-Z6K8/data/asset/Image/1022061_1472250_14570563_Right Field 2.jpg : , trial 4, color channel blue, resize function imgResize_secondary\n"
     ]
    },
    {
     "name": "stdout",
     "output_type": "stream",
     "text": [
      "1/1 [==============================] - 0s 20ms/step\n"
     ]
    },
    {
     "name": "stderr",
     "output_type": "stream",
     "text": [
      "2025-09-22 11:54:19,076 - INFO - Processing image /data/4-Z6K8_49330658558098c69ec955ecae8b4c1a3f6c467acc788fc80427df570333a653/Dataset_4-Z6K8/data/asset/Image/1022061_1472250_14570563_Right Field 2.jpg : , trial 1, color channel grey, resize function imgResize_primary\n"
     ]
    },
    {
     "name": "stdout",
     "output_type": "stream",
     "text": [
      "1/1 [==============================] - 0s 21ms/step\n"
     ]
    },
    {
     "name": "stderr",
     "output_type": "stream",
     "text": [
      "2025-09-22 11:54:19,554 - INFO - Processing image /data/4-Z6K8_49330658558098c69ec955ecae8b4c1a3f6c467acc788fc80427df570333a653/Dataset_4-Z6K8/data/asset/Image/1022061_1472250_14570563_Right Field 2.jpg : , trial 2, color channel green, resize function imgResize_primary\n"
     ]
    },
    {
     "name": "stdout",
     "output_type": "stream",
     "text": [
      "1/1 [==============================] - 0s 20ms/step\n"
     ]
    },
    {
     "name": "stderr",
     "output_type": "stream",
     "text": [
      "2025-09-22 11:54:20,055 - INFO - Processing image /data/4-Z6K8_49330658558098c69ec955ecae8b4c1a3f6c467acc788fc80427df570333a653/Dataset_4-Z6K8/data/asset/Image/1022061_1472250_14570563_Right Field 2.jpg : , trial 3, color channel red, resize function imgResize_primary\n"
     ]
    },
    {
     "name": "stdout",
     "output_type": "stream",
     "text": [
      "1/1 [==============================] - 0s 20ms/step\n"
     ]
    },
    {
     "name": "stderr",
     "output_type": "stream",
     "text": [
      "2025-09-22 11:54:20,546 - INFO - Processing image /data/4-Z6K8_49330658558098c69ec955ecae8b4c1a3f6c467acc788fc80427df570333a653/Dataset_4-Z6K8/data/asset/Image/1022061_1472250_14570563_Right Field 2.jpg : , trial 4, color channel blue, resize function imgResize_primary\n"
     ]
    },
    {
     "name": "stdout",
     "output_type": "stream",
     "text": [
      "1/1 [==============================] - 0s 20ms/step\n"
     ]
    },
    {
     "name": "stderr",
     "output_type": "stream",
     "text": [
      "2025-09-22 11:54:21,031 - INFO - Processing image /data/4-Z6K8_49330658558098c69ec955ecae8b4c1a3f6c467acc788fc80427df570333a653/Dataset_4-Z6K8/data/asset/Image/1022061_1472250_14570563_Right Field 2.jpg : , trial 1, color channel grey, resize function imgResize_secondary\n"
     ]
    },
    {
     "name": "stdout",
     "output_type": "stream",
     "text": [
      "1/1 [==============================] - 0s 21ms/step\n"
     ]
    },
    {
     "name": "stderr",
     "output_type": "stream",
     "text": [
      "2025-09-22 11:54:21,651 - INFO - Processing image /data/4-Z6K8_49330658558098c69ec955ecae8b4c1a3f6c467acc788fc80427df570333a653/Dataset_4-Z6K8/data/asset/Image/1022061_1472250_14570563_Right Field 2.jpg : , trial 2, color channel green, resize function imgResize_secondary\n"
     ]
    },
    {
     "name": "stdout",
     "output_type": "stream",
     "text": [
      "1/1 [==============================] - 0s 21ms/step\n"
     ]
    },
    {
     "name": "stderr",
     "output_type": "stream",
     "text": [
      "2025-09-22 11:54:22,357 - INFO - Processing image /data/4-Z6K8_49330658558098c69ec955ecae8b4c1a3f6c467acc788fc80427df570333a653/Dataset_4-Z6K8/data/asset/Image/1022061_1472250_14570563_Right Field 2.jpg : , trial 3, color channel red, resize function imgResize_secondary\n"
     ]
    },
    {
     "name": "stdout",
     "output_type": "stream",
     "text": [
      "1/1 [==============================] - 0s 21ms/step\n"
     ]
    },
    {
     "name": "stderr",
     "output_type": "stream",
     "text": [
      "2025-09-22 11:54:23,082 - INFO - Processing image /data/4-Z6K8_49330658558098c69ec955ecae8b4c1a3f6c467acc788fc80427df570333a653/Dataset_4-Z6K8/data/asset/Image/1022061_1472250_14570563_Right Field 2.jpg : , trial 4, color channel blue, resize function imgResize_secondary\n"
     ]
    },
    {
     "name": "stdout",
     "output_type": "stream",
     "text": [
      "1/1 [==============================] - 0s 20ms/step\n"
     ]
    },
    {
     "name": "stderr",
     "output_type": "stream",
     "text": [
      "2025-09-22 11:54:23,708 - INFO - Processing image /data/4-Z6K8_49330658558098c69ec955ecae8b4c1a3f6c467acc788fc80427df570333a653/Dataset_4-Z6K8/data/asset/Image/1022061_1472250_14570563_Right Field 2.jpg : , trial 1, color channel grey, resize function imgResize_primary\n"
     ]
    },
    {
     "name": "stdout",
     "output_type": "stream",
     "text": [
      "1/1 [==============================] - 0s 20ms/step\n"
     ]
    },
    {
     "name": "stderr",
     "output_type": "stream",
     "text": [
      "2025-09-22 11:54:24,203 - INFO - Processing image /data/4-Z6K8_49330658558098c69ec955ecae8b4c1a3f6c467acc788fc80427df570333a653/Dataset_4-Z6K8/data/asset/Image/1022061_1472250_14570563_Right Field 2.jpg : , trial 2, color channel green, resize function imgResize_primary\n"
     ]
    },
    {
     "name": "stdout",
     "output_type": "stream",
     "text": [
      "1/1 [==============================] - 0s 20ms/step\n"
     ]
    },
    {
     "name": "stderr",
     "output_type": "stream",
     "text": [
      "2025-09-22 11:54:24,733 - INFO - Processing image /data/4-Z6K8_49330658558098c69ec955ecae8b4c1a3f6c467acc788fc80427df570333a653/Dataset_4-Z6K8/data/asset/Image/1022061_1472250_14570563_Right Field 2.jpg : , trial 3, color channel red, resize function imgResize_primary\n"
     ]
    },
    {
     "name": "stdout",
     "output_type": "stream",
     "text": [
      "1/1 [==============================] - 0s 21ms/step\n"
     ]
    },
    {
     "name": "stderr",
     "output_type": "stream",
     "text": [
      "2025-09-22 11:54:25,261 - INFO - Processing image /data/4-Z6K8_49330658558098c69ec955ecae8b4c1a3f6c467acc788fc80427df570333a653/Dataset_4-Z6K8/data/asset/Image/1022061_1472250_14570563_Right Field 2.jpg : , trial 4, color channel blue, resize function imgResize_primary\n"
     ]
    },
    {
     "name": "stdout",
     "output_type": "stream",
     "text": [
      "1/1 [==============================] - 0s 20ms/step\n"
     ]
    },
    {
     "name": "stderr",
     "output_type": "stream",
     "text": [
      "2025-09-22 11:54:25,716 - INFO - Processing image /data/4-Z6K8_49330658558098c69ec955ecae8b4c1a3f6c467acc788fc80427df570333a653/Dataset_4-Z6K8/data/asset/Image/1022061_1472250_14570563_Right Field 2.jpg : , trial 1, color channel grey, resize function imgResize_secondary\n"
     ]
    },
    {
     "name": "stdout",
     "output_type": "stream",
     "text": [
      "1/1 [==============================] - 0s 20ms/step\n"
     ]
    },
    {
     "name": "stderr",
     "output_type": "stream",
     "text": [
      "2025-09-22 11:54:26,319 - INFO - Processing image /data/4-Z6K8_49330658558098c69ec955ecae8b4c1a3f6c467acc788fc80427df570333a653/Dataset_4-Z6K8/data/asset/Image/1022061_1472250_14570563_Right Field 2.jpg : , trial 2, color channel green, resize function imgResize_secondary\n"
     ]
    },
    {
     "name": "stdout",
     "output_type": "stream",
     "text": [
      "1/1 [==============================] - 0s 21ms/step\n"
     ]
    },
    {
     "name": "stderr",
     "output_type": "stream",
     "text": [
      "2025-09-22 11:54:27,078 - INFO - Processing image /data/4-Z6K8_49330658558098c69ec955ecae8b4c1a3f6c467acc788fc80427df570333a653/Dataset_4-Z6K8/data/asset/Image/1022061_1472250_14570563_Right Field 2.jpg : , trial 3, color channel red, resize function imgResize_secondary\n"
     ]
    },
    {
     "name": "stdout",
     "output_type": "stream",
     "text": [
      "1/1 [==============================] - 0s 20ms/step\n"
     ]
    },
    {
     "name": "stderr",
     "output_type": "stream",
     "text": [
      "2025-09-22 11:54:27,744 - INFO - Processing image /data/4-Z6K8_49330658558098c69ec955ecae8b4c1a3f6c467acc788fc80427df570333a653/Dataset_4-Z6K8/data/asset/Image/1022061_1472250_14570563_Right Field 2.jpg : , trial 4, color channel blue, resize function imgResize_secondary\n"
     ]
    },
    {
     "name": "stdout",
     "output_type": "stream",
     "text": [
      "1/1 [==============================] - 0s 20ms/step\n"
     ]
    },
    {
     "name": "stderr",
     "output_type": "stream",
     "text": [
      "2025-09-22 11:54:28,539 - INFO - SVG for 2-DE96 saved.\n",
      "2025-09-22 11:54:28,829 - INFO - Processing image /data/4-Z6K8_49330658558098c69ec955ecae8b4c1a3f6c467acc788fc80427df570333a653/Dataset_4-Z6K8/data/asset/Image/1023297_1642779_15707229_Left Field 2.jpg : , trial 1, color channel grey, resize function imgResize_primary\n"
     ]
    },
    {
     "name": "stdout",
     "output_type": "stream",
     "text": [
      "1/1 [==============================] - 0s 21ms/step\n"
     ]
    },
    {
     "name": "stderr",
     "output_type": "stream",
     "text": [
      "2025-09-22 11:54:29,534 - INFO - Processing image /data/4-Z6K8_49330658558098c69ec955ecae8b4c1a3f6c467acc788fc80427df570333a653/Dataset_4-Z6K8/data/asset/Image/1023297_1642779_15707229_Left Field 2.jpg : , trial 2, color channel green, resize function imgResize_primary\n"
     ]
    },
    {
     "name": "stdout",
     "output_type": "stream",
     "text": [
      "1/1 [==============================] - 0s 21ms/step\n"
     ]
    },
    {
     "name": "stderr",
     "output_type": "stream",
     "text": [
      "2025-09-22 11:54:30,516 - INFO - SVG for 2-DEDR saved.\n",
      "2025-09-22 11:54:31,371 - INFO - Processing image /data/4-Z6K8_49330658558098c69ec955ecae8b4c1a3f6c467acc788fc80427df570333a653/Dataset_4-Z6K8/data/asset/Image/1023297_1642779_15707231_Right Field 2.jpg : , trial 1, color channel grey, resize function imgResize_primary\n"
     ]
    },
    {
     "name": "stdout",
     "output_type": "stream",
     "text": [
      "1/1 [==============================] - 0s 21ms/step\n"
     ]
    },
    {
     "name": "stderr",
     "output_type": "stream",
     "text": [
      "2025-09-22 11:54:32,220 - INFO - SVG for 2-DEDW saved.\n",
      "2025-09-22 11:54:32,256 - INFO - Processing image /data/4-Z6K8_49330658558098c69ec955ecae8b4c1a3f6c467acc788fc80427df570333a653/Dataset_4-Z6K8/data/asset/Image/1023723_1474766_14587060_Right Field 2.jpg : , trial 1, color channel grey, resize function imgResize_primary\n"
     ]
    },
    {
     "name": "stdout",
     "output_type": "stream",
     "text": [
      "1/1 [==============================] - 0s 20ms/step\n"
     ]
    },
    {
     "name": "stderr",
     "output_type": "stream",
     "text": [
      "2025-09-22 11:54:33,038 - INFO - SVG for 2-DEFM saved.\n",
      "2025-09-22 11:54:33,074 - INFO - Processing image /data/4-Z6K8_49330658558098c69ec955ecae8b4c1a3f6c467acc788fc80427df570333a653/Dataset_4-Z6K8/data/asset/Image/1023723_1474766_14587061_Left Field 2.jpg : , trial 1, color channel grey, resize function imgResize_primary\n"
     ]
    },
    {
     "name": "stdout",
     "output_type": "stream",
     "text": [
      "1/1 [==============================] - 0s 20ms/step\n"
     ]
    },
    {
     "name": "stderr",
     "output_type": "stream",
     "text": [
      "2025-09-22 11:54:33,688 - INFO - SVG for 2-DEFP saved.\n",
      "2025-09-22 11:54:33,902 - INFO - Processing image /data/4-Z6K8_49330658558098c69ec955ecae8b4c1a3f6c467acc788fc80427df570333a653/Dataset_4-Z6K8/data/asset/Image/1024351_1475706_14592949_Left Field 2.jpg : , trial 1, color channel grey, resize function imgResize_primary\n"
     ]
    },
    {
     "name": "stdout",
     "output_type": "stream",
     "text": [
      "1/1 [==============================] - 0s 21ms/step\n"
     ]
    },
    {
     "name": "stderr",
     "output_type": "stream",
     "text": [
      "2025-09-22 11:54:34,589 - INFO - Processing image /data/4-Z6K8_49330658558098c69ec955ecae8b4c1a3f6c467acc788fc80427df570333a653/Dataset_4-Z6K8/data/asset/Image/1024351_1475706_14592949_Left Field 2.jpg : , trial 2, color channel green, resize function imgResize_primary\n"
     ]
    },
    {
     "name": "stdout",
     "output_type": "stream",
     "text": [
      "1/1 [==============================] - 0s 21ms/step\n"
     ]
    },
    {
     "name": "stderr",
     "output_type": "stream",
     "text": [
      "2025-09-22 11:54:35,301 - INFO - Processing image /data/4-Z6K8_49330658558098c69ec955ecae8b4c1a3f6c467acc788fc80427df570333a653/Dataset_4-Z6K8/data/asset/Image/1024351_1475706_14592949_Left Field 2.jpg : , trial 3, color channel red, resize function imgResize_primary\n"
     ]
    },
    {
     "name": "stdout",
     "output_type": "stream",
     "text": [
      "1/1 [==============================] - 0s 20ms/step\n"
     ]
    },
    {
     "name": "stderr",
     "output_type": "stream",
     "text": [
      "2025-09-22 11:54:36,046 - INFO - Processing image /data/4-Z6K8_49330658558098c69ec955ecae8b4c1a3f6c467acc788fc80427df570333a653/Dataset_4-Z6K8/data/asset/Image/1024351_1475706_14592949_Left Field 2.jpg : , trial 4, color channel blue, resize function imgResize_primary\n"
     ]
    },
    {
     "name": "stdout",
     "output_type": "stream",
     "text": [
      "1/1 [==============================] - 0s 20ms/step\n"
     ]
    },
    {
     "name": "stderr",
     "output_type": "stream",
     "text": [
      "2025-09-22 11:54:36,669 - INFO - Processing image /data/4-Z6K8_49330658558098c69ec955ecae8b4c1a3f6c467acc788fc80427df570333a653/Dataset_4-Z6K8/data/asset/Image/1024351_1475706_14592949_Left Field 2.jpg : , trial 1, color channel grey, resize function imgResize_secondary\n"
     ]
    },
    {
     "name": "stdout",
     "output_type": "stream",
     "text": [
      "1/1 [==============================] - 0s 21ms/step\n"
     ]
    },
    {
     "name": "stderr",
     "output_type": "stream",
     "text": [
      "2025-09-22 11:54:37,665 - INFO - Processing image /data/4-Z6K8_49330658558098c69ec955ecae8b4c1a3f6c467acc788fc80427df570333a653/Dataset_4-Z6K8/data/asset/Image/1024351_1475706_14592949_Left Field 2.jpg : , trial 2, color channel green, resize function imgResize_secondary\n"
     ]
    },
    {
     "name": "stdout",
     "output_type": "stream",
     "text": [
      "1/1 [==============================] - 0s 20ms/step\n"
     ]
    },
    {
     "name": "stderr",
     "output_type": "stream",
     "text": [
      "2025-09-22 11:54:38,738 - INFO - Processing image /data/4-Z6K8_49330658558098c69ec955ecae8b4c1a3f6c467acc788fc80427df570333a653/Dataset_4-Z6K8/data/asset/Image/1024351_1475706_14592949_Left Field 2.jpg : , trial 3, color channel red, resize function imgResize_secondary\n"
     ]
    },
    {
     "name": "stdout",
     "output_type": "stream",
     "text": [
      "1/1 [==============================] - 0s 21ms/step\n"
     ]
    },
    {
     "name": "stderr",
     "output_type": "stream",
     "text": [
      "2025-09-22 11:54:40,011 - INFO - Processing image /data/4-Z6K8_49330658558098c69ec955ecae8b4c1a3f6c467acc788fc80427df570333a653/Dataset_4-Z6K8/data/asset/Image/1024351_1475706_14592949_Left Field 2.jpg : , trial 4, color channel blue, resize function imgResize_secondary\n"
     ]
    },
    {
     "name": "stdout",
     "output_type": "stream",
     "text": [
      "1/1 [==============================] - 0s 20ms/step\n"
     ]
    },
    {
     "name": "stderr",
     "output_type": "stream",
     "text": [
      "2025-09-22 11:54:41,025 - INFO - Processing image /data/4-Z6K8_49330658558098c69ec955ecae8b4c1a3f6c467acc788fc80427df570333a653/Dataset_4-Z6K8/data/asset/Image/1024351_1475706_14592949_Left Field 2.jpg : , trial 1, color channel grey, resize function imgResize_primary\n"
     ]
    },
    {
     "name": "stdout",
     "output_type": "stream",
     "text": [
      "1/1 [==============================] - 0s 20ms/step\n"
     ]
    },
    {
     "name": "stderr",
     "output_type": "stream",
     "text": [
      "2025-09-22 11:54:41,662 - INFO - Processing image /data/4-Z6K8_49330658558098c69ec955ecae8b4c1a3f6c467acc788fc80427df570333a653/Dataset_4-Z6K8/data/asset/Image/1024351_1475706_14592949_Left Field 2.jpg : , trial 2, color channel green, resize function imgResize_primary\n"
     ]
    },
    {
     "name": "stdout",
     "output_type": "stream",
     "text": [
      "1/1 [==============================] - 0s 21ms/step\n"
     ]
    },
    {
     "name": "stderr",
     "output_type": "stream",
     "text": [
      "2025-09-22 11:54:42,335 - INFO - Processing image /data/4-Z6K8_49330658558098c69ec955ecae8b4c1a3f6c467acc788fc80427df570333a653/Dataset_4-Z6K8/data/asset/Image/1024351_1475706_14592949_Left Field 2.jpg : , trial 3, color channel red, resize function imgResize_primary\n"
     ]
    },
    {
     "name": "stdout",
     "output_type": "stream",
     "text": [
      "1/1 [==============================] - 0s 20ms/step\n"
     ]
    },
    {
     "name": "stderr",
     "output_type": "stream",
     "text": [
      "2025-09-22 11:54:43,131 - INFO - Processing image /data/4-Z6K8_49330658558098c69ec955ecae8b4c1a3f6c467acc788fc80427df570333a653/Dataset_4-Z6K8/data/asset/Image/1024351_1475706_14592949_Left Field 2.jpg : , trial 4, color channel blue, resize function imgResize_primary\n"
     ]
    },
    {
     "name": "stdout",
     "output_type": "stream",
     "text": [
      "1/1 [==============================] - 0s 20ms/step\n"
     ]
    },
    {
     "name": "stderr",
     "output_type": "stream",
     "text": [
      "2025-09-22 11:54:43,885 - INFO - Processing image /data/4-Z6K8_49330658558098c69ec955ecae8b4c1a3f6c467acc788fc80427df570333a653/Dataset_4-Z6K8/data/asset/Image/1024351_1475706_14592949_Left Field 2.jpg : , trial 1, color channel grey, resize function imgResize_secondary\n"
     ]
    },
    {
     "name": "stdout",
     "output_type": "stream",
     "text": [
      "1/1 [==============================] - 0s 20ms/step\n"
     ]
    },
    {
     "name": "stderr",
     "output_type": "stream",
     "text": [
      "2025-09-22 11:54:45,110 - INFO - Processing image /data/4-Z6K8_49330658558098c69ec955ecae8b4c1a3f6c467acc788fc80427df570333a653/Dataset_4-Z6K8/data/asset/Image/1024351_1475706_14592949_Left Field 2.jpg : , trial 2, color channel green, resize function imgResize_secondary\n"
     ]
    },
    {
     "name": "stdout",
     "output_type": "stream",
     "text": [
      "1/1 [==============================] - 0s 20ms/step\n"
     ]
    },
    {
     "name": "stderr",
     "output_type": "stream",
     "text": [
      "2025-09-22 11:54:46,140 - INFO - Processing image /data/4-Z6K8_49330658558098c69ec955ecae8b4c1a3f6c467acc788fc80427df570333a653/Dataset_4-Z6K8/data/asset/Image/1024351_1475706_14592949_Left Field 2.jpg : , trial 3, color channel red, resize function imgResize_secondary\n"
     ]
    },
    {
     "name": "stdout",
     "output_type": "stream",
     "text": [
      "1/1 [==============================] - 0s 20ms/step\n"
     ]
    },
    {
     "name": "stderr",
     "output_type": "stream",
     "text": [
      "2025-09-22 11:54:46,924 - INFO - Processing image /data/4-Z6K8_49330658558098c69ec955ecae8b4c1a3f6c467acc788fc80427df570333a653/Dataset_4-Z6K8/data/asset/Image/1024351_1475706_14592949_Left Field 2.jpg : , trial 4, color channel blue, resize function imgResize_secondary\n"
     ]
    },
    {
     "name": "stdout",
     "output_type": "stream",
     "text": [
      "1/1 [==============================] - 0s 21ms/step\n"
     ]
    },
    {
     "name": "stderr",
     "output_type": "stream",
     "text": [
      "2025-09-22 11:54:47,828 - INFO - Processing image /data/4-Z6K8_49330658558098c69ec955ecae8b4c1a3f6c467acc788fc80427df570333a653/Dataset_4-Z6K8/data/asset/Image/1024351_1475706_14592949_Left Field 2.jpg : , trial 1, color channel grey, resize function imgResize_primary\n"
     ]
    },
    {
     "name": "stdout",
     "output_type": "stream",
     "text": [
      "1/1 [==============================] - 0s 20ms/step\n"
     ]
    },
    {
     "name": "stderr",
     "output_type": "stream",
     "text": [
      "2025-09-22 11:54:48,346 - INFO - Processing image /data/4-Z6K8_49330658558098c69ec955ecae8b4c1a3f6c467acc788fc80427df570333a653/Dataset_4-Z6K8/data/asset/Image/1024351_1475706_14592949_Left Field 2.jpg : , trial 2, color channel green, resize function imgResize_primary\n"
     ]
    },
    {
     "name": "stdout",
     "output_type": "stream",
     "text": [
      "1/1 [==============================] - 0s 20ms/step\n"
     ]
    },
    {
     "name": "stderr",
     "output_type": "stream",
     "text": [
      "2025-09-22 11:54:48,907 - INFO - Processing image /data/4-Z6K8_49330658558098c69ec955ecae8b4c1a3f6c467acc788fc80427df570333a653/Dataset_4-Z6K8/data/asset/Image/1024351_1475706_14592949_Left Field 2.jpg : , trial 3, color channel red, resize function imgResize_primary\n"
     ]
    },
    {
     "name": "stdout",
     "output_type": "stream",
     "text": [
      "1/1 [==============================] - 0s 20ms/step\n"
     ]
    },
    {
     "name": "stderr",
     "output_type": "stream",
     "text": [
      "2025-09-22 11:54:49,579 - INFO - Processing image /data/4-Z6K8_49330658558098c69ec955ecae8b4c1a3f6c467acc788fc80427df570333a653/Dataset_4-Z6K8/data/asset/Image/1024351_1475706_14592949_Left Field 2.jpg : , trial 4, color channel blue, resize function imgResize_primary\n"
     ]
    },
    {
     "name": "stdout",
     "output_type": "stream",
     "text": [
      "1/1 [==============================] - 0s 21ms/step\n"
     ]
    },
    {
     "name": "stderr",
     "output_type": "stream",
     "text": [
      "2025-09-22 11:54:50,472 - INFO - Processing image /data/4-Z6K8_49330658558098c69ec955ecae8b4c1a3f6c467acc788fc80427df570333a653/Dataset_4-Z6K8/data/asset/Image/1024351_1475706_14592949_Left Field 2.jpg : , trial 1, color channel grey, resize function imgResize_secondary\n"
     ]
    },
    {
     "name": "stdout",
     "output_type": "stream",
     "text": [
      "1/1 [==============================] - 0s 20ms/step\n"
     ]
    },
    {
     "name": "stderr",
     "output_type": "stream",
     "text": [
      "2025-09-22 11:54:51,426 - INFO - Processing image /data/4-Z6K8_49330658558098c69ec955ecae8b4c1a3f6c467acc788fc80427df570333a653/Dataset_4-Z6K8/data/asset/Image/1024351_1475706_14592949_Left Field 2.jpg : , trial 2, color channel green, resize function imgResize_secondary\n"
     ]
    },
    {
     "name": "stdout",
     "output_type": "stream",
     "text": [
      "1/1 [==============================] - 0s 20ms/step\n"
     ]
    },
    {
     "name": "stderr",
     "output_type": "stream",
     "text": [
      "2025-09-22 11:54:52,201 - INFO - Processing image /data/4-Z6K8_49330658558098c69ec955ecae8b4c1a3f6c467acc788fc80427df570333a653/Dataset_4-Z6K8/data/asset/Image/1024351_1475706_14592949_Left Field 2.jpg : , trial 3, color channel red, resize function imgResize_secondary\n"
     ]
    },
    {
     "name": "stdout",
     "output_type": "stream",
     "text": [
      "1/1 [==============================] - 0s 20ms/step\n"
     ]
    },
    {
     "name": "stderr",
     "output_type": "stream",
     "text": [
      "2025-09-22 11:54:53,165 - INFO - Processing image /data/4-Z6K8_49330658558098c69ec955ecae8b4c1a3f6c467acc788fc80427df570333a653/Dataset_4-Z6K8/data/asset/Image/1024351_1475706_14592949_Left Field 2.jpg : , trial 4, color channel blue, resize function imgResize_secondary\n"
     ]
    },
    {
     "name": "stdout",
     "output_type": "stream",
     "text": [
      "1/1 [==============================] - 0s 20ms/step\n"
     ]
    },
    {
     "name": "stderr",
     "output_type": "stream",
     "text": [
      "2025-09-22 11:54:54,294 - INFO - SVG for 2-DEK8 saved.\n",
      "2025-09-22 11:54:54,512 - INFO - Processing image /data/4-Z6K8_49330658558098c69ec955ecae8b4c1a3f6c467acc788fc80427df570333a653/Dataset_4-Z6K8/data/asset/Image/1024351_1475706_14592951_Right Field 2.jpg : , trial 1, color channel grey, resize function imgResize_primary\n"
     ]
    },
    {
     "name": "stdout",
     "output_type": "stream",
     "text": [
      "1/1 [==============================] - 0s 20ms/step\n"
     ]
    },
    {
     "name": "stderr",
     "output_type": "stream",
     "text": [
      "2025-09-22 11:54:55,230 - INFO - Processing image /data/4-Z6K8_49330658558098c69ec955ecae8b4c1a3f6c467acc788fc80427df570333a653/Dataset_4-Z6K8/data/asset/Image/1024351_1475706_14592951_Right Field 2.jpg : , trial 2, color channel green, resize function imgResize_primary\n"
     ]
    },
    {
     "name": "stdout",
     "output_type": "stream",
     "text": [
      "1/1 [==============================] - 0s 20ms/step\n"
     ]
    },
    {
     "name": "stderr",
     "output_type": "stream",
     "text": [
      "2025-09-22 11:54:56,194 - INFO - SVG for 2-DEKA saved.\n",
      "2025-09-22 11:54:56,227 - INFO - Processing image /data/4-Z6K8_49330658558098c69ec955ecae8b4c1a3f6c467acc788fc80427df570333a653/Dataset_4-Z6K8/data/asset/Image/1027459_1624702_15582343_Left Field 2.jpg : , trial 1, color channel grey, resize function imgResize_primary\n"
     ]
    },
    {
     "name": "stdout",
     "output_type": "stream",
     "text": [
      "1/1 [==============================] - 0s 21ms/step\n"
     ]
    },
    {
     "name": "stderr",
     "output_type": "stream",
     "text": [
      "2025-09-22 11:54:56,786 - INFO - SVG for 2-DEWG saved.\n",
      "2025-09-22 11:54:56,820 - INFO - Processing image /data/4-Z6K8_49330658558098c69ec955ecae8b4c1a3f6c467acc788fc80427df570333a653/Dataset_4-Z6K8/data/asset/Image/1027459_1624702_15582345_Right Field 2.jpg : , trial 1, color channel grey, resize function imgResize_primary\n"
     ]
    },
    {
     "name": "stdout",
     "output_type": "stream",
     "text": [
      "1/1 [==============================] - 0s 20ms/step\n"
     ]
    },
    {
     "name": "stderr",
     "output_type": "stream",
     "text": [
      "2025-09-22 11:54:57,472 - INFO - SVG for 2-DEWM saved.\n",
      "2025-09-22 11:54:57,505 - INFO - Processing image /data/4-Z6K8_49330658558098c69ec955ecae8b4c1a3f6c467acc788fc80427df570333a653/Dataset_4-Z6K8/data/asset/Image/1030386_1484467_14650510_Right Field 2.jpg : , trial 1, color channel grey, resize function imgResize_primary\n"
     ]
    },
    {
     "name": "stdout",
     "output_type": "stream",
     "text": [
      "1/1 [==============================] - 0s 20ms/step\n"
     ]
    },
    {
     "name": "stderr",
     "output_type": "stream",
     "text": [
      "2025-09-22 11:54:58,144 - INFO - SVG for 2-DF7G saved.\n",
      "2025-09-22 11:54:58,178 - INFO - Processing image /data/4-Z6K8_49330658558098c69ec955ecae8b4c1a3f6c467acc788fc80427df570333a653/Dataset_4-Z6K8/data/asset/Image/1030386_1484467_14650513_Left Field 2.jpg : , trial 1, color channel grey, resize function imgResize_primary\n"
     ]
    },
    {
     "name": "stdout",
     "output_type": "stream",
     "text": [
      "1/1 [==============================] - 0s 21ms/step\n"
     ]
    },
    {
     "name": "stderr",
     "output_type": "stream",
     "text": [
      "2025-09-22 11:54:59,096 - INFO - SVG for 2-DF7P saved.\n",
      "2025-09-22 11:54:59,129 - INFO - Processing image /data/4-Z6K8_49330658558098c69ec955ecae8b4c1a3f6c467acc788fc80427df570333a653/Dataset_4-Z6K8/data/asset/Image/1031266_1485728_14658342_Left Field 2.jpg : , trial 1, color channel grey, resize function imgResize_primary\n"
     ]
    },
    {
     "name": "stdout",
     "output_type": "stream",
     "text": [
      "1/1 [==============================] - 0s 20ms/step\n"
     ]
    },
    {
     "name": "stderr",
     "output_type": "stream",
     "text": [
      "2025-09-22 11:54:59,979 - INFO - SVG for 2-DFA0 saved.\n",
      "2025-09-22 11:55:00,013 - INFO - Processing image /data/4-Z6K8_49330658558098c69ec955ecae8b4c1a3f6c467acc788fc80427df570333a653/Dataset_4-Z6K8/data/asset/Image/1031266_1485728_14658346_Right Field 2.jpg : , trial 1, color channel grey, resize function imgResize_primary\n"
     ]
    },
    {
     "name": "stdout",
     "output_type": "stream",
     "text": [
      "1/1 [==============================] - 0s 21ms/step\n"
     ]
    },
    {
     "name": "stderr",
     "output_type": "stream",
     "text": [
      "2025-09-22 11:55:00,589 - INFO - SVG for 2-DFA8 saved.\n",
      "2025-09-22 11:55:00,622 - INFO - Processing image /data/4-Z6K8_49330658558098c69ec955ecae8b4c1a3f6c467acc788fc80427df570333a653/Dataset_4-Z6K8/data/asset/Image/1031571_1686107_16005739_Left Field 2.jpg : , trial 1, color channel grey, resize function imgResize_primary\n"
     ]
    },
    {
     "name": "stdout",
     "output_type": "stream",
     "text": [
      "1/1 [==============================] - 0s 21ms/step\n"
     ]
    },
    {
     "name": "stderr",
     "output_type": "stream",
     "text": [
      "2025-09-22 11:55:01,187 - INFO - Processing image /data/4-Z6K8_49330658558098c69ec955ecae8b4c1a3f6c467acc788fc80427df570333a653/Dataset_4-Z6K8/data/asset/Image/1031571_1686107_16005739_Left Field 2.jpg : , trial 2, color channel green, resize function imgResize_primary\n"
     ]
    },
    {
     "name": "stdout",
     "output_type": "stream",
     "text": [
      "1/1 [==============================] - 0s 21ms/step\n"
     ]
    },
    {
     "name": "stderr",
     "output_type": "stream",
     "text": [
      "2025-09-22 11:55:01,847 - INFO - Processing image /data/4-Z6K8_49330658558098c69ec955ecae8b4c1a3f6c467acc788fc80427df570333a653/Dataset_4-Z6K8/data/asset/Image/1031571_1686107_16005739_Left Field 2.jpg : , trial 3, color channel red, resize function imgResize_primary\n"
     ]
    },
    {
     "name": "stdout",
     "output_type": "stream",
     "text": [
      "1/1 [==============================] - 0s 21ms/step\n"
     ]
    },
    {
     "name": "stderr",
     "output_type": "stream",
     "text": [
      "2025-09-22 11:55:02,471 - INFO - SVG for 2-DFCA saved.\n",
      "2025-09-22 11:55:02,504 - INFO - Processing image /data/4-Z6K8_49330658558098c69ec955ecae8b4c1a3f6c467acc788fc80427df570333a653/Dataset_4-Z6K8/data/asset/Image/1031571_1686107_16005740_Right Field 2.jpg : , trial 1, color channel grey, resize function imgResize_primary\n"
     ]
    },
    {
     "name": "stdout",
     "output_type": "stream",
     "text": [
      "1/1 [==============================] - 0s 20ms/step\n"
     ]
    },
    {
     "name": "stderr",
     "output_type": "stream",
     "text": [
      "2025-09-22 11:55:03,147 - INFO - SVG for 2-DFCC saved.\n",
      "2025-09-22 11:55:03,375 - INFO - Processing image /data/4-Z6K8_49330658558098c69ec955ecae8b4c1a3f6c467acc788fc80427df570333a653/Dataset_4-Z6K8/data/asset/Image/1033558_1489200_14681307_Right Field 2.jpg : , trial 1, color channel grey, resize function imgResize_primary\n"
     ]
    },
    {
     "name": "stdout",
     "output_type": "stream",
     "text": [
      "1/1 [==============================] - 0s 20ms/step\n"
     ]
    },
    {
     "name": "stderr",
     "output_type": "stream",
     "text": [
      "2025-09-22 11:55:04,242 - INFO - SVG for 2-DFK6 saved.\n",
      "2025-09-22 11:55:04,470 - INFO - Processing image /data/4-Z6K8_49330658558098c69ec955ecae8b4c1a3f6c467acc788fc80427df570333a653/Dataset_4-Z6K8/data/asset/Image/1033558_1489200_14681309_Right Field 2.jpg : , trial 1, color channel grey, resize function imgResize_primary\n"
     ]
    },
    {
     "name": "stdout",
     "output_type": "stream",
     "text": [
      "1/1 [==============================] - 0s 20ms/step\n"
     ]
    },
    {
     "name": "stderr",
     "output_type": "stream",
     "text": [
      "2025-09-22 11:55:05,442 - INFO - SVG for 2-DFK8 saved.\n",
      "2025-09-22 11:55:05,672 - INFO - Processing image /data/4-Z6K8_49330658558098c69ec955ecae8b4c1a3f6c467acc788fc80427df570333a653/Dataset_4-Z6K8/data/asset/Image/1033558_1489200_14681313_Left Field 2.jpg : , trial 1, color channel grey, resize function imgResize_primary\n"
     ]
    },
    {
     "name": "stdout",
     "output_type": "stream",
     "text": [
      "1/1 [==============================] - 0s 21ms/step\n"
     ]
    },
    {
     "name": "stderr",
     "output_type": "stream",
     "text": [
      "2025-09-22 11:55:06,586 - INFO - SVG for 2-DFKE saved.\n",
      "2025-09-22 11:55:06,620 - INFO - Processing image /data/4-Z6K8_49330658558098c69ec955ecae8b4c1a3f6c467acc788fc80427df570333a653/Dataset_4-Z6K8/data/asset/Image/1036233_1493342_14709974_Left Field 2.jpg : , trial 1, color channel grey, resize function imgResize_primary\n"
     ]
    },
    {
     "name": "stdout",
     "output_type": "stream",
     "text": [
      "1/1 [==============================] - 0s 20ms/step\n"
     ]
    },
    {
     "name": "stderr",
     "output_type": "stream",
     "text": [
      "2025-09-22 11:55:07,221 - INFO - SVG for 2-DFVJ saved.\n",
      "2025-09-22 11:55:07,255 - INFO - Processing image /data/4-Z6K8_49330658558098c69ec955ecae8b4c1a3f6c467acc788fc80427df570333a653/Dataset_4-Z6K8/data/asset/Image/1036233_1493342_14709976_Right Field 2.jpg : , trial 1, color channel grey, resize function imgResize_primary\n"
     ]
    },
    {
     "name": "stdout",
     "output_type": "stream",
     "text": [
      "1/1 [==============================] - 0s 21ms/step\n"
     ]
    },
    {
     "name": "stderr",
     "output_type": "stream",
     "text": [
      "2025-09-22 11:55:07,938 - INFO - SVG for 2-DFVP saved.\n",
      "2025-09-22 11:55:08,229 - INFO - Processing image /data/4-Z6K8_49330658558098c69ec955ecae8b4c1a3f6c467acc788fc80427df570333a653/Dataset_4-Z6K8/data/asset/Image/1041337_1501375_14764860_Right Field 2.jpg : , trial 1, color channel grey, resize function imgResize_primary\n"
     ]
    },
    {
     "name": "stdout",
     "output_type": "stream",
     "text": [
      "1/1 [==============================] - 0s 21ms/step\n"
     ]
    },
    {
     "name": "stderr",
     "output_type": "stream",
     "text": [
      "2025-09-22 11:55:09,385 - INFO - SVG for 2-DG72 saved.\n",
      "2025-09-22 11:55:10,224 - INFO - Processing image /data/4-Z6K8_49330658558098c69ec955ecae8b4c1a3f6c467acc788fc80427df570333a653/Dataset_4-Z6K8/data/asset/Image/1041337_1501375_14764861_Left Field 2.jpg : , trial 1, color channel grey, resize function imgResize_primary\n"
     ]
    },
    {
     "name": "stdout",
     "output_type": "stream",
     "text": [
      "1/1 [==============================] - 0s 20ms/step\n"
     ]
    },
    {
     "name": "stderr",
     "output_type": "stream",
     "text": [
      "2025-09-22 11:55:11,319 - INFO - SVG for 2-DG74 saved.\n",
      "2025-09-22 11:55:11,356 - INFO - Processing image /data/4-Z6K8_49330658558098c69ec955ecae8b4c1a3f6c467acc788fc80427df570333a653/Dataset_4-Z6K8/data/asset/Image/1044075_1660750_15833161_Right Field 2.jpg : , trial 1, color channel grey, resize function imgResize_primary\n"
     ]
    },
    {
     "name": "stdout",
     "output_type": "stream",
     "text": [
      "1/1 [==============================] - 0s 20ms/step\n"
     ]
    },
    {
     "name": "stderr",
     "output_type": "stream",
     "text": [
      "2025-09-22 11:55:11,947 - INFO - Processing image /data/4-Z6K8_49330658558098c69ec955ecae8b4c1a3f6c467acc788fc80427df570333a653/Dataset_4-Z6K8/data/asset/Image/1044075_1660750_15833161_Right Field 2.jpg : , trial 2, color channel green, resize function imgResize_primary\n"
     ]
    },
    {
     "name": "stdout",
     "output_type": "stream",
     "text": [
      "1/1 [==============================] - 0s 20ms/step\n"
     ]
    },
    {
     "name": "stderr",
     "output_type": "stream",
     "text": [
      "2025-09-22 11:55:12,688 - INFO - SVG for 2-DGE4 saved.\n",
      "2025-09-22 11:55:12,725 - INFO - Processing image /data/4-Z6K8_49330658558098c69ec955ecae8b4c1a3f6c467acc788fc80427df570333a653/Dataset_4-Z6K8/data/asset/Image/1044075_1660750_15833162_Left Field 2.jpg : , trial 1, color channel grey, resize function imgResize_primary\n"
     ]
    },
    {
     "name": "stdout",
     "output_type": "stream",
     "text": [
      "1/1 [==============================] - 0s 20ms/step\n"
     ]
    },
    {
     "name": "stderr",
     "output_type": "stream",
     "text": [
      "2025-09-22 11:55:13,453 - INFO - SVG for 2-DGE6 saved.\n",
      "2025-09-22 11:55:13,601 - INFO - Processing image /data/4-Z6K8_49330658558098c69ec955ecae8b4c1a3f6c467acc788fc80427df570333a653/Dataset_4-Z6K8/data/asset/Image/1045347_1507769_14808741_Left Field 2.JPG : , trial 1, color channel grey, resize function imgResize_primary\n"
     ]
    },
    {
     "name": "stdout",
     "output_type": "stream",
     "text": [
      "1/1 [==============================] - 0s 21ms/step\n"
     ]
    },
    {
     "name": "stderr",
     "output_type": "stream",
     "text": [
      "2025-09-22 11:55:14,549 - INFO - SVG for 2-DGK4 saved.\n",
      "2025-09-22 11:55:14,682 - INFO - Processing image /data/4-Z6K8_49330658558098c69ec955ecae8b4c1a3f6c467acc788fc80427df570333a653/Dataset_4-Z6K8/data/asset/Image/1045347_1507769_14808747_Right Field 2.JPG : , trial 1, color channel grey, resize function imgResize_primary\n"
     ]
    },
    {
     "name": "stdout",
     "output_type": "stream",
     "text": [
      "1/1 [==============================] - 0s 21ms/step\n"
     ]
    },
    {
     "name": "stderr",
     "output_type": "stream",
     "text": [
      "2025-09-22 11:55:15,489 - INFO - SVG for 2-DGKC saved.\n",
      "2025-09-22 11:55:15,520 - INFO - Processing image /data/4-Z6K8_49330658558098c69ec955ecae8b4c1a3f6c467acc788fc80427df570333a653/Dataset_4-Z6K8/data/asset/Image/1046023_1508873_14816374_Left Field 2.jpg : , trial 1, color channel grey, resize function imgResize_primary\n"
     ]
    },
    {
     "name": "stdout",
     "output_type": "stream",
     "text": [
      "1/1 [==============================] - 0s 21ms/step\n"
     ]
    },
    {
     "name": "stderr",
     "output_type": "stream",
     "text": [
      "2025-09-22 11:55:15,939 - INFO - Processing image /data/4-Z6K8_49330658558098c69ec955ecae8b4c1a3f6c467acc788fc80427df570333a653/Dataset_4-Z6K8/data/asset/Image/1046023_1508873_14816374_Left Field 2.jpg : , trial 2, color channel green, resize function imgResize_primary\n"
     ]
    },
    {
     "name": "stdout",
     "output_type": "stream",
     "text": [
      "1/1 [==============================] - 0s 20ms/step\n"
     ]
    },
    {
     "name": "stderr",
     "output_type": "stream",
     "text": [
      "2025-09-22 11:55:16,361 - INFO - Processing image /data/4-Z6K8_49330658558098c69ec955ecae8b4c1a3f6c467acc788fc80427df570333a653/Dataset_4-Z6K8/data/asset/Image/1046023_1508873_14816374_Left Field 2.jpg : , trial 3, color channel red, resize function imgResize_primary\n"
     ]
    },
    {
     "name": "stdout",
     "output_type": "stream",
     "text": [
      "1/1 [==============================] - 0s 20ms/step\n"
     ]
    },
    {
     "name": "stderr",
     "output_type": "stream",
     "text": [
      "2025-09-22 11:55:16,870 - INFO - Processing image /data/4-Z6K8_49330658558098c69ec955ecae8b4c1a3f6c467acc788fc80427df570333a653/Dataset_4-Z6K8/data/asset/Image/1046023_1508873_14816374_Left Field 2.jpg : , trial 4, color channel blue, resize function imgResize_primary\n"
     ]
    },
    {
     "name": "stdout",
     "output_type": "stream",
     "text": [
      "1/1 [==============================] - 0s 21ms/step\n"
     ]
    },
    {
     "name": "stderr",
     "output_type": "stream",
     "text": [
      "2025-09-22 11:55:17,266 - INFO - Processing image /data/4-Z6K8_49330658558098c69ec955ecae8b4c1a3f6c467acc788fc80427df570333a653/Dataset_4-Z6K8/data/asset/Image/1046023_1508873_14816374_Left Field 2.jpg : , trial 1, color channel grey, resize function imgResize_secondary\n"
     ]
    },
    {
     "name": "stdout",
     "output_type": "stream",
     "text": [
      "1/1 [==============================] - 0s 20ms/step\n"
     ]
    },
    {
     "name": "stderr",
     "output_type": "stream",
     "text": [
      "2025-09-22 11:55:17,926 - INFO - Processing image /data/4-Z6K8_49330658558098c69ec955ecae8b4c1a3f6c467acc788fc80427df570333a653/Dataset_4-Z6K8/data/asset/Image/1046023_1508873_14816374_Left Field 2.jpg : , trial 2, color channel green, resize function imgResize_secondary\n"
     ]
    },
    {
     "name": "stdout",
     "output_type": "stream",
     "text": [
      "1/1 [==============================] - 0s 21ms/step\n"
     ]
    },
    {
     "name": "stderr",
     "output_type": "stream",
     "text": [
      "2025-09-22 11:55:18,643 - INFO - Processing image /data/4-Z6K8_49330658558098c69ec955ecae8b4c1a3f6c467acc788fc80427df570333a653/Dataset_4-Z6K8/data/asset/Image/1046023_1508873_14816374_Left Field 2.jpg : , trial 3, color channel red, resize function imgResize_secondary\n"
     ]
    },
    {
     "name": "stdout",
     "output_type": "stream",
     "text": [
      "1/1 [==============================] - 0s 20ms/step\n"
     ]
    },
    {
     "name": "stderr",
     "output_type": "stream",
     "text": [
      "2025-09-22 11:55:19,330 - INFO - Processing image /data/4-Z6K8_49330658558098c69ec955ecae8b4c1a3f6c467acc788fc80427df570333a653/Dataset_4-Z6K8/data/asset/Image/1046023_1508873_14816374_Left Field 2.jpg : , trial 4, color channel blue, resize function imgResize_secondary\n"
     ]
    },
    {
     "name": "stdout",
     "output_type": "stream",
     "text": [
      "1/1 [==============================] - 0s 21ms/step\n"
     ]
    },
    {
     "name": "stderr",
     "output_type": "stream",
     "text": [
      "2025-09-22 11:55:19,947 - INFO - Processing image /data/4-Z6K8_49330658558098c69ec955ecae8b4c1a3f6c467acc788fc80427df570333a653/Dataset_4-Z6K8/data/asset/Image/1046023_1508873_14816374_Left Field 2.jpg : , trial 1, color channel grey, resize function imgResize_primary\n"
     ]
    },
    {
     "name": "stdout",
     "output_type": "stream",
     "text": [
      "1/1 [==============================] - 0s 21ms/step\n"
     ]
    },
    {
     "name": "stderr",
     "output_type": "stream",
     "text": [
      "2025-09-22 11:55:20,431 - INFO - Processing image /data/4-Z6K8_49330658558098c69ec955ecae8b4c1a3f6c467acc788fc80427df570333a653/Dataset_4-Z6K8/data/asset/Image/1046023_1508873_14816374_Left Field 2.jpg : , trial 2, color channel green, resize function imgResize_primary\n"
     ]
    },
    {
     "name": "stdout",
     "output_type": "stream",
     "text": [
      "1/1 [==============================] - 0s 20ms/step\n"
     ]
    },
    {
     "name": "stderr",
     "output_type": "stream",
     "text": [
      "2025-09-22 11:55:20,919 - INFO - Processing image /data/4-Z6K8_49330658558098c69ec955ecae8b4c1a3f6c467acc788fc80427df570333a653/Dataset_4-Z6K8/data/asset/Image/1046023_1508873_14816374_Left Field 2.jpg : , trial 3, color channel red, resize function imgResize_primary\n"
     ]
    },
    {
     "name": "stdout",
     "output_type": "stream",
     "text": [
      "1/1 [==============================] - 0s 21ms/step\n"
     ]
    },
    {
     "name": "stderr",
     "output_type": "stream",
     "text": [
      "2025-09-22 11:55:21,449 - INFO - Processing image /data/4-Z6K8_49330658558098c69ec955ecae8b4c1a3f6c467acc788fc80427df570333a653/Dataset_4-Z6K8/data/asset/Image/1046023_1508873_14816374_Left Field 2.jpg : , trial 4, color channel blue, resize function imgResize_primary\n"
     ]
    },
    {
     "name": "stdout",
     "output_type": "stream",
     "text": [
      "1/1 [==============================] - 0s 20ms/step\n"
     ]
    },
    {
     "name": "stderr",
     "output_type": "stream",
     "text": [
      "2025-09-22 11:55:21,884 - INFO - Processing image /data/4-Z6K8_49330658558098c69ec955ecae8b4c1a3f6c467acc788fc80427df570333a653/Dataset_4-Z6K8/data/asset/Image/1046023_1508873_14816374_Left Field 2.jpg : , trial 1, color channel grey, resize function imgResize_secondary\n"
     ]
    },
    {
     "name": "stdout",
     "output_type": "stream",
     "text": [
      "1/1 [==============================] - 0s 21ms/step\n"
     ]
    },
    {
     "name": "stderr",
     "output_type": "stream",
     "text": [
      "2025-09-22 11:55:22,559 - INFO - Processing image /data/4-Z6K8_49330658558098c69ec955ecae8b4c1a3f6c467acc788fc80427df570333a653/Dataset_4-Z6K8/data/asset/Image/1046023_1508873_14816374_Left Field 2.jpg : , trial 2, color channel green, resize function imgResize_secondary\n"
     ]
    },
    {
     "name": "stdout",
     "output_type": "stream",
     "text": [
      "1/1 [==============================] - 0s 21ms/step\n"
     ]
    },
    {
     "name": "stderr",
     "output_type": "stream",
     "text": [
      "2025-09-22 11:55:23,187 - INFO - Processing image /data/4-Z6K8_49330658558098c69ec955ecae8b4c1a3f6c467acc788fc80427df570333a653/Dataset_4-Z6K8/data/asset/Image/1046023_1508873_14816374_Left Field 2.jpg : , trial 3, color channel red, resize function imgResize_secondary\n"
     ]
    },
    {
     "name": "stdout",
     "output_type": "stream",
     "text": [
      "1/1 [==============================] - 0s 21ms/step\n"
     ]
    },
    {
     "name": "stderr",
     "output_type": "stream",
     "text": [
      "2025-09-22 11:55:23,911 - INFO - Processing image /data/4-Z6K8_49330658558098c69ec955ecae8b4c1a3f6c467acc788fc80427df570333a653/Dataset_4-Z6K8/data/asset/Image/1046023_1508873_14816374_Left Field 2.jpg : , trial 4, color channel blue, resize function imgResize_secondary\n"
     ]
    },
    {
     "name": "stdout",
     "output_type": "stream",
     "text": [
      "1/1 [==============================] - 0s 20ms/step\n"
     ]
    },
    {
     "name": "stderr",
     "output_type": "stream",
     "text": [
      "2025-09-22 11:55:24,506 - INFO - Processing image /data/4-Z6K8_49330658558098c69ec955ecae8b4c1a3f6c467acc788fc80427df570333a653/Dataset_4-Z6K8/data/asset/Image/1046023_1508873_14816374_Left Field 2.jpg : , trial 1, color channel grey, resize function imgResize_primary\n"
     ]
    },
    {
     "name": "stdout",
     "output_type": "stream",
     "text": [
      "1/1 [==============================] - 0s 20ms/step\n"
     ]
    },
    {
     "name": "stderr",
     "output_type": "stream",
     "text": [
      "2025-09-22 11:55:24,934 - INFO - Processing image /data/4-Z6K8_49330658558098c69ec955ecae8b4c1a3f6c467acc788fc80427df570333a653/Dataset_4-Z6K8/data/asset/Image/1046023_1508873_14816374_Left Field 2.jpg : , trial 2, color channel green, resize function imgResize_primary\n"
     ]
    },
    {
     "name": "stdout",
     "output_type": "stream",
     "text": [
      "1/1 [==============================] - 0s 20ms/step\n"
     ]
    },
    {
     "name": "stderr",
     "output_type": "stream",
     "text": [
      "2025-09-22 11:55:25,426 - INFO - Processing image /data/4-Z6K8_49330658558098c69ec955ecae8b4c1a3f6c467acc788fc80427df570333a653/Dataset_4-Z6K8/data/asset/Image/1046023_1508873_14816374_Left Field 2.jpg : , trial 3, color channel red, resize function imgResize_primary\n"
     ]
    },
    {
     "name": "stdout",
     "output_type": "stream",
     "text": [
      "1/1 [==============================] - 0s 20ms/step\n"
     ]
    },
    {
     "name": "stderr",
     "output_type": "stream",
     "text": [
      "2025-09-22 11:55:25,949 - INFO - Processing image /data/4-Z6K8_49330658558098c69ec955ecae8b4c1a3f6c467acc788fc80427df570333a653/Dataset_4-Z6K8/data/asset/Image/1046023_1508873_14816374_Left Field 2.jpg : , trial 4, color channel blue, resize function imgResize_primary\n"
     ]
    },
    {
     "name": "stdout",
     "output_type": "stream",
     "text": [
      "1/1 [==============================] - 0s 21ms/step\n"
     ]
    },
    {
     "name": "stderr",
     "output_type": "stream",
     "text": [
      "2025-09-22 11:55:26,300 - INFO - Processing image /data/4-Z6K8_49330658558098c69ec955ecae8b4c1a3f6c467acc788fc80427df570333a653/Dataset_4-Z6K8/data/asset/Image/1046023_1508873_14816374_Left Field 2.jpg : , trial 1, color channel grey, resize function imgResize_secondary\n"
     ]
    },
    {
     "name": "stdout",
     "output_type": "stream",
     "text": [
      "1/1 [==============================] - 0s 20ms/step\n"
     ]
    },
    {
     "name": "stderr",
     "output_type": "stream",
     "text": [
      "2025-09-22 11:55:26,919 - INFO - Processing image /data/4-Z6K8_49330658558098c69ec955ecae8b4c1a3f6c467acc788fc80427df570333a653/Dataset_4-Z6K8/data/asset/Image/1046023_1508873_14816374_Left Field 2.jpg : , trial 2, color channel green, resize function imgResize_secondary\n"
     ]
    },
    {
     "name": "stdout",
     "output_type": "stream",
     "text": [
      "1/1 [==============================] - 0s 21ms/step\n"
     ]
    },
    {
     "name": "stderr",
     "output_type": "stream",
     "text": [
      "2025-09-22 11:55:27,639 - INFO - Processing image /data/4-Z6K8_49330658558098c69ec955ecae8b4c1a3f6c467acc788fc80427df570333a653/Dataset_4-Z6K8/data/asset/Image/1046023_1508873_14816374_Left Field 2.jpg : , trial 3, color channel red, resize function imgResize_secondary\n"
     ]
    },
    {
     "name": "stdout",
     "output_type": "stream",
     "text": [
      "1/1 [==============================] - 0s 20ms/step\n"
     ]
    },
    {
     "name": "stderr",
     "output_type": "stream",
     "text": [
      "2025-09-22 11:55:28,357 - INFO - Processing image /data/4-Z6K8_49330658558098c69ec955ecae8b4c1a3f6c467acc788fc80427df570333a653/Dataset_4-Z6K8/data/asset/Image/1046023_1508873_14816374_Left Field 2.jpg : , trial 4, color channel blue, resize function imgResize_secondary\n"
     ]
    },
    {
     "name": "stdout",
     "output_type": "stream",
     "text": [
      "1/1 [==============================] - 0s 20ms/step\n"
     ]
    },
    {
     "name": "stderr",
     "output_type": "stream",
     "text": [
      "2025-09-22 11:55:28,973 - INFO - SVG for 2-DGMR saved.\n",
      "2025-09-22 11:55:29,007 - INFO - Processing image /data/4-Z6K8_49330658558098c69ec955ecae8b4c1a3f6c467acc788fc80427df570333a653/Dataset_4-Z6K8/data/asset/Image/1046023_1508873_14816376_Right Field 2.jpg : , trial 1, color channel grey, resize function imgResize_primary\n"
     ]
    },
    {
     "name": "stdout",
     "output_type": "stream",
     "text": [
      "1/1 [==============================] - 0s 20ms/step\n"
     ]
    },
    {
     "name": "stderr",
     "output_type": "stream",
     "text": [
      "2025-09-22 11:55:30,100 - INFO - Processing image /data/4-Z6K8_49330658558098c69ec955ecae8b4c1a3f6c467acc788fc80427df570333a653/Dataset_4-Z6K8/data/asset/Image/1046023_1508873_14816376_Right Field 2.jpg : , trial 2, color channel green, resize function imgResize_primary\n"
     ]
    },
    {
     "name": "stdout",
     "output_type": "stream",
     "text": [
      "1/1 [==============================] - 0s 21ms/step\n"
     ]
    },
    {
     "name": "stderr",
     "output_type": "stream",
     "text": [
      "2025-09-22 11:55:30,990 - INFO - SVG for 2-DGMW saved.\n",
      "2025-09-22 11:55:31,023 - INFO - Processing image /data/4-Z6K8_49330658558098c69ec955ecae8b4c1a3f6c467acc788fc80427df570333a653/Dataset_4-Z6K8/data/asset/Image/1047811_1656510_15804794_Left Field 2.jpg : , trial 1, color channel grey, resize function imgResize_primary\n"
     ]
    },
    {
     "name": "stdout",
     "output_type": "stream",
     "text": [
      "1/1 [==============================] - 0s 21ms/step\n"
     ]
    },
    {
     "name": "stderr",
     "output_type": "stream",
     "text": [
      "2025-09-22 11:55:31,931 - INFO - SVG for 2-DGS2 saved.\n",
      "2025-09-22 11:55:31,963 - INFO - Processing image /data/4-Z6K8_49330658558098c69ec955ecae8b4c1a3f6c467acc788fc80427df570333a653/Dataset_4-Z6K8/data/asset/Image/1047811_1656510_15804795_Right Field 2.jpg : , trial 1, color channel grey, resize function imgResize_primary\n"
     ]
    },
    {
     "name": "stdout",
     "output_type": "stream",
     "text": [
      "1/1 [==============================] - 0s 21ms/step\n"
     ]
    },
    {
     "name": "stderr",
     "output_type": "stream",
     "text": [
      "2025-09-22 11:55:32,533 - INFO - SVG for 2-DGS4 saved.\n",
      "2025-09-22 11:55:32,750 - INFO - Processing image /data/4-Z6K8_49330658558098c69ec955ecae8b4c1a3f6c467acc788fc80427df570333a653/Dataset_4-Z6K8/data/asset/Image/1050013_1515304_14860755_Right Field 2.jpg : , trial 1, color channel grey, resize function imgResize_primary\n"
     ]
    },
    {
     "name": "stdout",
     "output_type": "stream",
     "text": [
      "1/1 [==============================] - 0s 21ms/step\n"
     ]
    },
    {
     "name": "stderr",
     "output_type": "stream",
     "text": [
      "2025-09-22 11:55:33,557 - INFO - SVG for 2-DH0P saved.\n",
      "2025-09-22 11:55:33,772 - INFO - Processing image /data/4-Z6K8_49330658558098c69ec955ecae8b4c1a3f6c467acc788fc80427df570333a653/Dataset_4-Z6K8/data/asset/Image/1050013_1515304_14860757_Left Field 2.jpg : , trial 1, color channel grey, resize function imgResize_primary\n"
     ]
    },
    {
     "name": "stdout",
     "output_type": "stream",
     "text": [
      "1/1 [==============================] - 0s 21ms/step\n"
     ]
    },
    {
     "name": "stderr",
     "output_type": "stream",
     "text": [
      "2025-09-22 11:55:34,689 - INFO - SVG for 2-DH0T saved.\n",
      "2025-09-22 11:55:34,903 - INFO - Processing image /data/4-Z6K8_49330658558098c69ec955ecae8b4c1a3f6c467acc788fc80427df570333a653/Dataset_4-Z6K8/data/asset/Image/1053877_1521260_14900110_Right Field 2.jpg : , trial 1, color channel grey, resize function imgResize_primary\n"
     ]
    },
    {
     "name": "stdout",
     "output_type": "stream",
     "text": [
      "1/1 [==============================] - 0s 20ms/step\n"
     ]
    },
    {
     "name": "stderr",
     "output_type": "stream",
     "text": [
      "2025-09-22 11:55:35,604 - INFO - SVG for 2-DH96 saved.\n",
      "2025-09-22 11:55:35,820 - INFO - Processing image /data/4-Z6K8_49330658558098c69ec955ecae8b4c1a3f6c467acc788fc80427df570333a653/Dataset_4-Z6K8/data/asset/Image/1053877_1521260_14900112_Left Field 2.jpg : , trial 1, color channel grey, resize function imgResize_primary\n"
     ]
    },
    {
     "name": "stdout",
     "output_type": "stream",
     "text": [
      "1/1 [==============================] - 0s 21ms/step\n"
     ]
    },
    {
     "name": "stderr",
     "output_type": "stream",
     "text": [
      "2025-09-22 11:55:36,680 - INFO - SVG for 2-DH9A saved.\n",
      "2025-09-22 11:55:36,969 - INFO - Processing image /data/4-Z6K8_49330658558098c69ec955ecae8b4c1a3f6c467acc788fc80427df570333a653/Dataset_4-Z6K8/data/asset/Image/1056744_1525732_14930356_Right Field 2.jpg : , trial 1, color channel grey, resize function imgResize_primary\n"
     ]
    },
    {
     "name": "stdout",
     "output_type": "stream",
     "text": [
      "1/1 [==============================] - 0s 21ms/step\n"
     ]
    },
    {
     "name": "stderr",
     "output_type": "stream",
     "text": [
      "2025-09-22 11:55:37,742 - INFO - SVG for 2-DHET saved.\n",
      "2025-09-22 11:55:38,031 - INFO - Processing image /data/4-Z6K8_49330658558098c69ec955ecae8b4c1a3f6c467acc788fc80427df570333a653/Dataset_4-Z6K8/data/asset/Image/1056744_1525732_14930361_Left Field 2.jpg : , trial 1, color channel grey, resize function imgResize_primary\n"
     ]
    },
    {
     "name": "stdout",
     "output_type": "stream",
     "text": [
      "1/1 [==============================] - 0s 20ms/step\n"
     ]
    },
    {
     "name": "stderr",
     "output_type": "stream",
     "text": [
      "2025-09-22 11:55:38,787 - INFO - SVG for 2-DHF0 saved.\n",
      "2025-09-22 11:55:39,081 - INFO - Processing image /data/4-Z6K8_49330658558098c69ec955ecae8b4c1a3f6c467acc788fc80427df570333a653/Dataset_4-Z6K8/data/asset/Image/1057052_1526249_14933614_Left Field 2.jpg : , trial 1, color channel grey, resize function imgResize_primary\n"
     ]
    },
    {
     "name": "stdout",
     "output_type": "stream",
     "text": [
      "1/1 [==============================] - 0s 21ms/step\n"
     ]
    },
    {
     "name": "stderr",
     "output_type": "stream",
     "text": [
      "2025-09-22 11:55:39,734 - INFO - Processing image /data/4-Z6K8_49330658558098c69ec955ecae8b4c1a3f6c467acc788fc80427df570333a653/Dataset_4-Z6K8/data/asset/Image/1057052_1526249_14933614_Left Field 2.jpg : , trial 2, color channel green, resize function imgResize_primary\n"
     ]
    },
    {
     "name": "stdout",
     "output_type": "stream",
     "text": [
      "1/1 [==============================] - 0s 21ms/step\n"
     ]
    },
    {
     "name": "stderr",
     "output_type": "stream",
     "text": [
      "2025-09-22 11:55:40,270 - INFO - Processing image /data/4-Z6K8_49330658558098c69ec955ecae8b4c1a3f6c467acc788fc80427df570333a653/Dataset_4-Z6K8/data/asset/Image/1057052_1526249_14933614_Left Field 2.jpg : , trial 3, color channel red, resize function imgResize_primary\n"
     ]
    },
    {
     "name": "stdout",
     "output_type": "stream",
     "text": [
      "1/1 [==============================] - 0s 20ms/step\n"
     ]
    },
    {
     "name": "stderr",
     "output_type": "stream",
     "text": [
      "2025-09-22 11:55:40,782 - INFO - Processing image /data/4-Z6K8_49330658558098c69ec955ecae8b4c1a3f6c467acc788fc80427df570333a653/Dataset_4-Z6K8/data/asset/Image/1057052_1526249_14933614_Left Field 2.jpg : , trial 4, color channel blue, resize function imgResize_primary\n"
     ]
    },
    {
     "name": "stdout",
     "output_type": "stream",
     "text": [
      "1/1 [==============================] - 0s 20ms/step\n"
     ]
    },
    {
     "name": "stderr",
     "output_type": "stream",
     "text": [
      "2025-09-22 11:55:41,216 - INFO - Processing image /data/4-Z6K8_49330658558098c69ec955ecae8b4c1a3f6c467acc788fc80427df570333a653/Dataset_4-Z6K8/data/asset/Image/1057052_1526249_14933614_Left Field 2.jpg : , trial 1, color channel grey, resize function imgResize_secondary\n"
     ]
    },
    {
     "name": "stdout",
     "output_type": "stream",
     "text": [
      "1/1 [==============================] - 0s 20ms/step\n"
     ]
    },
    {
     "name": "stderr",
     "output_type": "stream",
     "text": [
      "2025-09-22 11:55:41,905 - INFO - Processing image /data/4-Z6K8_49330658558098c69ec955ecae8b4c1a3f6c467acc788fc80427df570333a653/Dataset_4-Z6K8/data/asset/Image/1057052_1526249_14933614_Left Field 2.jpg : , trial 2, color channel green, resize function imgResize_secondary\n"
     ]
    },
    {
     "name": "stdout",
     "output_type": "stream",
     "text": [
      "1/1 [==============================] - 0s 21ms/step\n"
     ]
    },
    {
     "name": "stderr",
     "output_type": "stream",
     "text": [
      "2025-09-22 11:55:42,899 - INFO - Processing image /data/4-Z6K8_49330658558098c69ec955ecae8b4c1a3f6c467acc788fc80427df570333a653/Dataset_4-Z6K8/data/asset/Image/1057052_1526249_14933614_Left Field 2.jpg : , trial 3, color channel red, resize function imgResize_secondary\n"
     ]
    },
    {
     "name": "stdout",
     "output_type": "stream",
     "text": [
      "1/1 [==============================] - 0s 21ms/step\n"
     ]
    },
    {
     "name": "stderr",
     "output_type": "stream",
     "text": [
      "2025-09-22 11:55:43,940 - INFO - Processing image /data/4-Z6K8_49330658558098c69ec955ecae8b4c1a3f6c467acc788fc80427df570333a653/Dataset_4-Z6K8/data/asset/Image/1057052_1526249_14933614_Left Field 2.jpg : , trial 4, color channel blue, resize function imgResize_secondary\n"
     ]
    },
    {
     "name": "stdout",
     "output_type": "stream",
     "text": [
      "1/1 [==============================] - 0s 20ms/step\n"
     ]
    },
    {
     "name": "stderr",
     "output_type": "stream",
     "text": [
      "2025-09-22 11:55:44,554 - INFO - Processing image /data/4-Z6K8_49330658558098c69ec955ecae8b4c1a3f6c467acc788fc80427df570333a653/Dataset_4-Z6K8/data/asset/Image/1057052_1526249_14933614_Left Field 2.jpg : , trial 1, color channel grey, resize function imgResize_primary\n"
     ]
    },
    {
     "name": "stdout",
     "output_type": "stream",
     "text": [
      "1/1 [==============================] - 0s 21ms/step\n"
     ]
    },
    {
     "name": "stderr",
     "output_type": "stream",
     "text": [
      "2025-09-22 11:55:45,074 - INFO - Processing image /data/4-Z6K8_49330658558098c69ec955ecae8b4c1a3f6c467acc788fc80427df570333a653/Dataset_4-Z6K8/data/asset/Image/1057052_1526249_14933614_Left Field 2.jpg : , trial 2, color channel green, resize function imgResize_primary\n"
     ]
    },
    {
     "name": "stdout",
     "output_type": "stream",
     "text": [
      "1/1 [==============================] - 0s 21ms/step\n"
     ]
    },
    {
     "name": "stderr",
     "output_type": "stream",
     "text": [
      "2025-09-22 11:55:45,798 - INFO - Processing image /data/4-Z6K8_49330658558098c69ec955ecae8b4c1a3f6c467acc788fc80427df570333a653/Dataset_4-Z6K8/data/asset/Image/1057052_1526249_14933614_Left Field 2.jpg : , trial 3, color channel red, resize function imgResize_primary\n"
     ]
    },
    {
     "name": "stdout",
     "output_type": "stream",
     "text": [
      "1/1 [==============================] - 0s 21ms/step\n"
     ]
    },
    {
     "name": "stderr",
     "output_type": "stream",
     "text": [
      "2025-09-22 11:55:46,414 - INFO - Processing image /data/4-Z6K8_49330658558098c69ec955ecae8b4c1a3f6c467acc788fc80427df570333a653/Dataset_4-Z6K8/data/asset/Image/1057052_1526249_14933614_Left Field 2.jpg : , trial 4, color channel blue, resize function imgResize_primary\n"
     ]
    },
    {
     "name": "stdout",
     "output_type": "stream",
     "text": [
      "1/1 [==============================] - 0s 20ms/step\n"
     ]
    },
    {
     "name": "stderr",
     "output_type": "stream",
     "text": [
      "2025-09-22 11:55:46,838 - INFO - Processing image /data/4-Z6K8_49330658558098c69ec955ecae8b4c1a3f6c467acc788fc80427df570333a653/Dataset_4-Z6K8/data/asset/Image/1057052_1526249_14933614_Left Field 2.jpg : , trial 1, color channel grey, resize function imgResize_secondary\n"
     ]
    },
    {
     "name": "stdout",
     "output_type": "stream",
     "text": [
      "1/1 [==============================] - 0s 21ms/step\n"
     ]
    },
    {
     "name": "stderr",
     "output_type": "stream",
     "text": [
      "2025-09-22 11:55:47,694 - INFO - Processing image /data/4-Z6K8_49330658558098c69ec955ecae8b4c1a3f6c467acc788fc80427df570333a653/Dataset_4-Z6K8/data/asset/Image/1057052_1526249_14933614_Left Field 2.jpg : , trial 2, color channel green, resize function imgResize_secondary\n"
     ]
    },
    {
     "name": "stdout",
     "output_type": "stream",
     "text": [
      "1/1 [==============================] - 0s 20ms/step\n"
     ]
    },
    {
     "name": "stderr",
     "output_type": "stream",
     "text": [
      "2025-09-22 11:55:48,582 - INFO - Processing image /data/4-Z6K8_49330658558098c69ec955ecae8b4c1a3f6c467acc788fc80427df570333a653/Dataset_4-Z6K8/data/asset/Image/1057052_1526249_14933614_Left Field 2.jpg : , trial 3, color channel red, resize function imgResize_secondary\n"
     ]
    },
    {
     "name": "stdout",
     "output_type": "stream",
     "text": [
      "1/1 [==============================] - 0s 21ms/step\n"
     ]
    },
    {
     "name": "stderr",
     "output_type": "stream",
     "text": [
      "2025-09-22 11:55:49,367 - INFO - Processing image /data/4-Z6K8_49330658558098c69ec955ecae8b4c1a3f6c467acc788fc80427df570333a653/Dataset_4-Z6K8/data/asset/Image/1057052_1526249_14933614_Left Field 2.jpg : , trial 4, color channel blue, resize function imgResize_secondary\n"
     ]
    },
    {
     "name": "stdout",
     "output_type": "stream",
     "text": [
      "1/1 [==============================] - 0s 20ms/step\n"
     ]
    },
    {
     "name": "stderr",
     "output_type": "stream",
     "text": [
      "2025-09-22 11:55:50,076 - INFO - Processing image /data/4-Z6K8_49330658558098c69ec955ecae8b4c1a3f6c467acc788fc80427df570333a653/Dataset_4-Z6K8/data/asset/Image/1057052_1526249_14933614_Left Field 2.jpg : , trial 1, color channel grey, resize function imgResize_primary\n"
     ]
    },
    {
     "name": "stdout",
     "output_type": "stream",
     "text": [
      "1/1 [==============================] - 0s 20ms/step\n"
     ]
    },
    {
     "name": "stderr",
     "output_type": "stream",
     "text": [
      "2025-09-22 11:55:50,578 - INFO - Processing image /data/4-Z6K8_49330658558098c69ec955ecae8b4c1a3f6c467acc788fc80427df570333a653/Dataset_4-Z6K8/data/asset/Image/1057052_1526249_14933614_Left Field 2.jpg : , trial 2, color channel green, resize function imgResize_primary\n"
     ]
    },
    {
     "name": "stdout",
     "output_type": "stream",
     "text": [
      "1/1 [==============================] - 0s 20ms/step\n"
     ]
    },
    {
     "name": "stderr",
     "output_type": "stream",
     "text": [
      "2025-09-22 11:55:51,194 - INFO - Processing image /data/4-Z6K8_49330658558098c69ec955ecae8b4c1a3f6c467acc788fc80427df570333a653/Dataset_4-Z6K8/data/asset/Image/1057052_1526249_14933614_Left Field 2.jpg : , trial 3, color channel red, resize function imgResize_primary\n"
     ]
    },
    {
     "name": "stdout",
     "output_type": "stream",
     "text": [
      "1/1 [==============================] - 0s 20ms/step\n"
     ]
    },
    {
     "name": "stderr",
     "output_type": "stream",
     "text": [
      "2025-09-22 11:55:52,009 - INFO - SVG for 2-DHFW saved.\n",
      "2025-09-22 11:55:52,303 - INFO - Processing image /data/4-Z6K8_49330658558098c69ec955ecae8b4c1a3f6c467acc788fc80427df570333a653/Dataset_4-Z6K8/data/asset/Image/1057052_1526249_14933617_Right Field 2.jpg : , trial 1, color channel grey, resize function imgResize_primary\n"
     ]
    },
    {
     "name": "stdout",
     "output_type": "stream",
     "text": [
      "1/1 [==============================] - 0s 21ms/step\n"
     ]
    },
    {
     "name": "stderr",
     "output_type": "stream",
     "text": [
      "2025-09-22 11:55:53,305 - INFO - SVG for 2-DHFY saved.\n",
      "2025-09-22 11:55:53,340 - INFO - Processing image /data/4-Z6K8_49330658558098c69ec955ecae8b4c1a3f6c467acc788fc80427df570333a653/Dataset_4-Z6K8/data/asset/Image/1057268_1695430_16071198_Left Field 2.jpg : , trial 1, color channel grey, resize function imgResize_primary\n"
     ]
    },
    {
     "name": "stdout",
     "output_type": "stream",
     "text": [
      "1/1 [==============================] - 0s 21ms/step\n"
     ]
    },
    {
     "name": "stderr",
     "output_type": "stream",
     "text": [
      "2025-09-22 11:55:54,018 - INFO - SVG for 2-DHHJ saved.\n",
      "2025-09-22 11:55:54,052 - INFO - Processing image /data/4-Z6K8_49330658558098c69ec955ecae8b4c1a3f6c467acc788fc80427df570333a653/Dataset_4-Z6K8/data/asset/Image/1057268_1695430_16071202_Right Field 2.jpg : , trial 1, color channel grey, resize function imgResize_primary\n"
     ]
    },
    {
     "name": "stdout",
     "output_type": "stream",
     "text": [
      "1/1 [==============================] - 0s 20ms/step\n"
     ]
    },
    {
     "name": "stderr",
     "output_type": "stream",
     "text": [
      "2025-09-22 11:55:54,662 - INFO - SVG for 2-DHHT saved.\n",
      "2025-09-22 11:55:54,951 - INFO - Processing image /data/4-Z6K8_49330658558098c69ec955ecae8b4c1a3f6c467acc788fc80427df570333a653/Dataset_4-Z6K8/data/asset/Image/1059376_1529916_14958704_Right Field 2.jpg : , trial 1, color channel grey, resize function imgResize_primary\n"
     ]
    },
    {
     "name": "stdout",
     "output_type": "stream",
     "text": [
      "1/1 [==============================] - 0s 20ms/step\n"
     ]
    },
    {
     "name": "stderr",
     "output_type": "stream",
     "text": [
      "2025-09-22 11:55:55,964 - INFO - SVG for 2-DHQC saved.\n",
      "2025-09-22 11:55:56,254 - INFO - Processing image /data/4-Z6K8_49330658558098c69ec955ecae8b4c1a3f6c467acc788fc80427df570333a653/Dataset_4-Z6K8/data/asset/Image/1059376_1529916_14958707_Left Field 2.jpg : , trial 1, color channel grey, resize function imgResize_primary\n"
     ]
    },
    {
     "name": "stdout",
     "output_type": "stream",
     "text": [
      "1/1 [==============================] - 0s 20ms/step\n"
     ]
    },
    {
     "name": "stderr",
     "output_type": "stream",
     "text": [
      "2025-09-22 11:55:57,275 - INFO - SVG for 2-DHQJ saved.\n",
      "2025-09-22 11:55:57,310 - INFO - Processing image /data/4-Z6K8_49330658558098c69ec955ecae8b4c1a3f6c467acc788fc80427df570333a653/Dataset_4-Z6K8/data/asset/Image/1060624_1670953_15901662_Right Field 2.jpg : , trial 1, color channel grey, resize function imgResize_primary\n"
     ]
    },
    {
     "name": "stdout",
     "output_type": "stream",
     "text": [
      "1/1 [==============================] - 0s 20ms/step\n"
     ]
    },
    {
     "name": "stderr",
     "output_type": "stream",
     "text": [
      "2025-09-22 11:55:57,846 - INFO - SVG for 2-DHSG saved.\n",
      "2025-09-22 11:55:57,880 - INFO - Processing image /data/4-Z6K8_49330658558098c69ec955ecae8b4c1a3f6c467acc788fc80427df570333a653/Dataset_4-Z6K8/data/asset/Image/1060669_1531979_14972998_Right Field 2.jpg : , trial 1, color channel grey, resize function imgResize_primary\n"
     ]
    },
    {
     "name": "stdout",
     "output_type": "stream",
     "text": [
      "1/1 [==============================] - 0s 21ms/step\n"
     ]
    },
    {
     "name": "stderr",
     "output_type": "stream",
     "text": [
      "2025-09-22 11:55:58,516 - INFO - Processing image /data/4-Z6K8_49330658558098c69ec955ecae8b4c1a3f6c467acc788fc80427df570333a653/Dataset_4-Z6K8/data/asset/Image/1060669_1531979_14972998_Right Field 2.jpg : , trial 2, color channel green, resize function imgResize_primary\n"
     ]
    },
    {
     "name": "stdout",
     "output_type": "stream",
     "text": [
      "1/1 [==============================] - 0s 20ms/step\n"
     ]
    },
    {
     "name": "stderr",
     "output_type": "stream",
     "text": [
      "2025-09-22 11:55:59,180 - INFO - SVG for 2-DHSM saved.\n",
      "2025-09-22 11:55:59,211 - INFO - Processing image /data/4-Z6K8_49330658558098c69ec955ecae8b4c1a3f6c467acc788fc80427df570333a653/Dataset_4-Z6K8/data/asset/Image/1060669_1531979_14972999_Left Field 2.jpg : , trial 1, color channel grey, resize function imgResize_primary\n"
     ]
    },
    {
     "name": "stdout",
     "output_type": "stream",
     "text": [
      "1/1 [==============================] - 0s 21ms/step\n"
     ]
    },
    {
     "name": "stderr",
     "output_type": "stream",
     "text": [
      "2025-09-22 11:55:59,825 - INFO - SVG for 2-DHSP saved.\n",
      "2025-09-22 11:56:00,114 - INFO - Processing image /data/4-Z6K8_49330658558098c69ec955ecae8b4c1a3f6c467acc788fc80427df570333a653/Dataset_4-Z6K8/data/asset/Image/1063629_1536663_15005758_Left Field 2.jpg : , trial 1, color channel grey, resize function imgResize_primary\n"
     ]
    },
    {
     "name": "stdout",
     "output_type": "stream",
     "text": [
      "1/1 [==============================] - 0s 20ms/step\n"
     ]
    },
    {
     "name": "stderr",
     "output_type": "stream",
     "text": [
      "2025-09-22 11:56:00,716 - INFO - Processing image /data/4-Z6K8_49330658558098c69ec955ecae8b4c1a3f6c467acc788fc80427df570333a653/Dataset_4-Z6K8/data/asset/Image/1063629_1536663_15005758_Left Field 2.jpg : , trial 2, color channel green, resize function imgResize_primary\n"
     ]
    },
    {
     "name": "stdout",
     "output_type": "stream",
     "text": [
      "1/1 [==============================] - 0s 21ms/step\n"
     ]
    },
    {
     "name": "stderr",
     "output_type": "stream",
     "text": [
      "2025-09-22 11:56:01,307 - INFO - Processing image /data/4-Z6K8_49330658558098c69ec955ecae8b4c1a3f6c467acc788fc80427df570333a653/Dataset_4-Z6K8/data/asset/Image/1063629_1536663_15005758_Left Field 2.jpg : , trial 3, color channel red, resize function imgResize_primary\n"
     ]
    },
    {
     "name": "stdout",
     "output_type": "stream",
     "text": [
      "1/1 [==============================] - ETA: 0s"
     ]
    }
   ],
   "source": [
    "\n",
    "from models.vgg19.vgg19_disk_crop_predict import preprocess_and_crop\n",
    "with execution.execute() as exec:\n",
    "    preprocess_and_crop(\n",
    "      ds_bag,\n",
    "      csv_path,\n",
    "      execution._working_dir / 'output_train.csv',\n",
    "      'template.jpg',\n",
    "      str(output),\n",
    "      crop_image_model,\n",
    "      \"5-515T\",\n",
    "      \"Optic Nerve OG LAC Crop\",\n",
    "      False\n",
    "      )\n",
    "    "
   ]
  },
  {
   "cell_type": "code",
   "execution_count": 35,
   "id": "38605f46-c5f8-48b2-9794-a77c132cefb7",
   "metadata": {},
   "outputs": [],
   "source": [
    "angle_2_only = EA.filter_angle_2(ds_bag)"
   ]
  },
  {
   "cell_type": "code",
   "execution_count": 36,
   "id": "ee0e4eae-268f-41ad-8699-8c4b5ffa6edb",
   "metadata": {},
   "outputs": [],
   "source": [
    "csv_output  = Path(execution._working_dir / 'output_train.csv')"
   ]
  },
  {
   "cell_type": "code",
   "execution_count": 37,
   "id": "22d485b4-f5bb-4d2d-a7e8-40e99dd57688",
   "metadata": {},
   "outputs": [],
   "source": [
    "df_output = pd.read_csv(csv_output)"
   ]
  },
  {
   "cell_type": "code",
   "execution_count": 39,
   "id": "ca305eab-5f81-415e-920a-c0b36fea3504",
   "metadata": {},
   "outputs": [],
   "source": [
    "filtered_resulted_df = df_output[df_output[\"Image RID\"].isin(angle_2_only[\"RID\"])]"
   ]
  },
  {
   "cell_type": "code",
   "execution_count": 40,
   "id": "bd8af492-b43d-45ed-869c-b0bbe8e38dfc",
   "metadata": {},
   "outputs": [],
   "source": [
    "cropping_func_map_output = dict(zip(filtered_resulted_df[\"Image RID\"], filtered_resulted_df[\"Worked Image Cropping Function\"]))"
   ]
  },
  {
   "cell_type": "code",
   "execution_count": 41,
   "id": "5be3e794-5e02-4fc7-9be1-768bda16645b",
   "metadata": {},
   "outputs": [],
   "source": [
    "import shutil \n",
    "\n",
    "saved_svg_names = filtered_resulted_df[\"Saved SVG Name\"].values\n",
    "\n",
    "bounding_box_file_paths = []\n",
    "for file_name in os.listdir(output):\n",
    "    if file_name in saved_svg_names:\n",
    "        full_path_name = os.path.join(output, file_name)\n",
    "        \n",
    "        bounding_box_file = execution.asset_file_path(\n",
    "            \"Fundus_Bounding_Box\", full_path_name, \n",
    "        )\n",
    "        bounding_box_file_paths.append(bounding_box_file)"
   ]
  },
  {
   "cell_type": "code",
   "execution_count": 42,
   "id": "9466abcb-2b33-4c4c-bd49-7335fab62d5c",
   "metadata": {},
   "outputs": [
    {
     "data": {
      "text/plain": [
       "656"
      ]
     },
     "execution_count": 42,
     "metadata": {},
     "output_type": "execute_result"
    }
   ],
   "source": [
    "image_rids = []\n",
    "angle_2_rids = filtered_resulted_df[\"Image RID\"].values\n",
    "\n",
    "for file_name in os.listdir(output):\n",
    "    rid = file_name.split(\"_\")[1].split('.')[0]\n",
    "    if rid in angle_2_rids:\n",
    "        image_rids.append(rid)\n",
    "len(image_rids)"
   ]
  },
  {
   "cell_type": "code",
   "execution_count": 43,
   "id": "93794f5d-70ab-4106-8c6e-449ef91ac7cf",
   "metadata": {},
   "outputs": [],
   "source": [
    "image_bounding_box_feature_list = []\n",
    "\n",
    "for image_rid, asset_file_path in zip(image_rids, bounding_box_file_paths):\n",
    "    expected_name = f\"Cropped_{image_rid}.svg\"\n",
    "    actual_name = os.path.basename(asset_file_path)\n",
    "    assert expected_name == actual_name, f\"Expected {expected_name}, got {actual_name}\"\n",
    "\n",
    "    annotation_func = cropping_func_map_output.get(image_rid)\n",
    "    if annotation_func:\n",
    "        image_bounding_box_feature_list.append(\n",
    "            ImageAnnotationFeature(\n",
    "                Image=image_rid,\n",
    "                Execution=execution.execution_rid,\n",
    "                Fundus_Bounding_Box=asset_file_path,\n",
    "                Annotation_Function=annotation_func,\n",
    "                Annotation_Type='Optic Nerve OG LAC Crop',\n",
    "            )\n",
    "        )\n"
   ]
  },
  {
   "cell_type": "code",
   "execution_count": 45,
   "id": "faab0368-0d0c-45b6-87ca-222cf650b333",
   "metadata": {},
   "outputs": [
    {
     "name": "stderr",
     "output_type": "stream",
     "text": [
      "2025-09-22 14:36:57,652 - INFO - Start execution  ...\n",
      "2025-09-22 14:36:57,773 - INFO - Start execution  ...\n",
      "2025-09-22 14:36:57,839 - INFO - Successfully run Ml.\n",
      "2025-09-22 14:36:57,880 - INFO - Algorithm execution ended.\n"
     ]
    }
   ],
   "source": [
    "with execution.execute() as execution:\n",
    "    execution.add_features(image_bounding_box_feature_list)"
   ]
  },
  {
   "cell_type": "code",
   "execution_count": null,
   "id": "90a35548-5d8e-4243-bea2-fa70e79e0417",
   "metadata": {},
   "outputs": [
    {
     "name": "stderr",
     "output_type": "stream",
     "text": [
      "2025-09-22 14:37:01,133 - INFO - Uploading execution files...\n",
      "2025-09-22 14:37:01,174 - INFO - Initializing uploader: GenericUploader v1.7.7 [Python 3.10.13, Linux-5.10.210-201.852.amzn2.x86_64-x86_64-with-glibc2.26]\n",
      "2025-09-22 14:37:01,175 - INFO - Creating client of type <class 'globus_sdk.services.auth.client.native_client.NativeAppAuthClient'> for service \"auth\"\n",
      "2025-09-22 14:37:01,176 - INFO - Finished initializing AuthLoginClient. client_id='8ef15ba9-2b4a-469c-a163-7fd910c9d111', type(authorizer)=<class 'globus_sdk.authorizers.base.NullAuthorizer'>\n",
      "2025-09-22 14:37:01,217 - INFO - Scanning files in directory [/data/kb_766/EyeAI_working/deriva-ml/execution/5-51CA/asset]...\n",
      "2025-09-22 14:37:01,240 - INFO - Including file: [/data/kb_766/EyeAI_working/deriva-ml/execution/5-51CA/asset/deriva-ml/Execution_Metadata/configuration.json].\n",
      "2025-09-22 14:37:01,241 - INFO - Including file: [/data/kb_766/EyeAI_working/deriva-ml/execution/5-51CA/asset/deriva-ml/Execution_Metadata/environment_snapshot_20250922_143108.txt].\n",
      "2025-09-22 14:37:01,241 - INFO - Including file: [/data/kb_766/EyeAI_working/deriva-ml/execution/5-51CA/asset/eye-ai/Fundus_Bounding_Box/Cropped_2-CXEE.svg].\n",
      "2025-09-22 14:37:01,242 - INFO - Including file: [/data/kb_766/EyeAI_working/deriva-ml/execution/5-51CA/asset/eye-ai/Fundus_Bounding_Box/Cropped_2-CXEJ.svg].\n",
      "2025-09-22 14:37:01,243 - INFO - Including file: [/data/kb_766/EyeAI_working/deriva-ml/execution/5-51CA/asset/eye-ai/Fundus_Bounding_Box/Cropped_2-CXFM.svg].\n",
      "2025-09-22 14:37:01,244 - INFO - Including file: [/data/kb_766/EyeAI_working/deriva-ml/execution/5-51CA/asset/eye-ai/Fundus_Bounding_Box/Cropped_2-CXFT.svg].\n",
      "2025-09-22 14:37:01,244 - INFO - Including file: [/data/kb_766/EyeAI_working/deriva-ml/execution/5-51CA/asset/eye-ai/Fundus_Bounding_Box/Cropped_2-CXH4.svg].\n",
      "2025-09-22 14:37:01,245 - INFO - Including file: [/data/kb_766/EyeAI_working/deriva-ml/execution/5-51CA/asset/eye-ai/Fundus_Bounding_Box/Cropped_2-CXH6.svg].\n",
      "2025-09-22 14:37:01,245 - INFO - Including file: [/data/kb_766/EyeAI_working/deriva-ml/execution/5-51CA/asset/eye-ai/Fundus_Bounding_Box/Cropped_2-CXK0.svg].\n",
      "2025-09-22 14:37:01,246 - INFO - Including file: [/data/kb_766/EyeAI_working/deriva-ml/execution/5-51CA/asset/eye-ai/Fundus_Bounding_Box/Cropped_2-CXK6.svg].\n",
      "2025-09-22 14:37:01,246 - INFO - Including file: [/data/kb_766/EyeAI_working/deriva-ml/execution/5-51CA/asset/eye-ai/Fundus_Bounding_Box/Cropped_2-CXM4.svg].\n",
      "2025-09-22 14:37:01,247 - INFO - Including file: [/data/kb_766/EyeAI_working/deriva-ml/execution/5-51CA/asset/eye-ai/Fundus_Bounding_Box/Cropped_2-CXM8.svg].\n",
      "2025-09-22 14:37:01,248 - INFO - Including file: [/data/kb_766/EyeAI_working/deriva-ml/execution/5-51CA/asset/eye-ai/Fundus_Bounding_Box/Cropped_2-CXS2.svg].\n",
      "2025-09-22 14:37:01,249 - INFO - Including file: [/data/kb_766/EyeAI_working/deriva-ml/execution/5-51CA/asset/eye-ai/Fundus_Bounding_Box/Cropped_2-CXSA.svg].\n",
      "2025-09-22 14:37:01,249 - INFO - Including file: [/data/kb_766/EyeAI_working/deriva-ml/execution/5-51CA/asset/eye-ai/Fundus_Bounding_Box/Cropped_2-CXT8.svg].\n",
      "2025-09-22 14:37:01,250 - INFO - Including file: [/data/kb_766/EyeAI_working/deriva-ml/execution/5-51CA/asset/eye-ai/Fundus_Bounding_Box/Cropped_2-CXTC.svg].\n",
      "2025-09-22 14:37:01,251 - INFO - Including file: [/data/kb_766/EyeAI_working/deriva-ml/execution/5-51CA/asset/eye-ai/Fundus_Bounding_Box/Cropped_2-CXVR.svg].\n",
      "2025-09-22 14:37:01,251 - INFO - Including file: [/data/kb_766/EyeAI_working/deriva-ml/execution/5-51CA/asset/eye-ai/Fundus_Bounding_Box/Cropped_2-CXVT.svg].\n",
      "2025-09-22 14:37:01,252 - INFO - Including file: [/data/kb_766/EyeAI_working/deriva-ml/execution/5-51CA/asset/eye-ai/Fundus_Bounding_Box/Cropped_2-CY0A.svg].\n",
      "2025-09-22 14:37:01,252 - INFO - Including file: [/data/kb_766/EyeAI_working/deriva-ml/execution/5-51CA/asset/eye-ai/Fundus_Bounding_Box/Cropped_2-CY0C.svg].\n",
      "2025-09-22 14:37:01,253 - INFO - Including file: [/data/kb_766/EyeAI_working/deriva-ml/execution/5-51CA/asset/eye-ai/Fundus_Bounding_Box/Cropped_2-CY0E.svg].\n",
      "2025-09-22 14:37:01,253 - INFO - Including file: [/data/kb_766/EyeAI_working/deriva-ml/execution/5-51CA/asset/eye-ai/Fundus_Bounding_Box/Cropped_2-CY0J.svg].\n",
      "2025-09-22 14:37:01,254 - INFO - Including file: [/data/kb_766/EyeAI_working/deriva-ml/execution/5-51CA/asset/eye-ai/Fundus_Bounding_Box/Cropped_2-CY4J.svg].\n",
      "2025-09-22 14:37:01,254 - INFO - Including file: [/data/kb_766/EyeAI_working/deriva-ml/execution/5-51CA/asset/eye-ai/Fundus_Bounding_Box/Cropped_2-CY4P.svg].\n",
      "2025-09-22 14:37:01,256 - INFO - Including file: [/data/kb_766/EyeAI_working/deriva-ml/execution/5-51CA/asset/eye-ai/Fundus_Bounding_Box/Cropped_2-CY5G.svg].\n",
      "2025-09-22 14:37:01,257 - INFO - Including file: [/data/kb_766/EyeAI_working/deriva-ml/execution/5-51CA/asset/eye-ai/Fundus_Bounding_Box/Cropped_2-CY5J.svg].\n",
      "2025-09-22 14:37:01,257 - INFO - Including file: [/data/kb_766/EyeAI_working/deriva-ml/execution/5-51CA/asset/eye-ai/Fundus_Bounding_Box/Cropped_2-CY62.svg].\n",
      "2025-09-22 14:37:01,258 - INFO - Including file: [/data/kb_766/EyeAI_working/deriva-ml/execution/5-51CA/asset/eye-ai/Fundus_Bounding_Box/Cropped_2-CY6A.svg].\n",
      "2025-09-22 14:37:01,259 - INFO - Including file: [/data/kb_766/EyeAI_working/deriva-ml/execution/5-51CA/asset/eye-ai/Fundus_Bounding_Box/Cropped_2-CY6C.svg].\n",
      "2025-09-22 14:37:01,259 - INFO - Including file: [/data/kb_766/EyeAI_working/deriva-ml/execution/5-51CA/asset/eye-ai/Fundus_Bounding_Box/Cropped_2-CY6M.svg].\n",
      "2025-09-22 14:37:01,260 - INFO - Including file: [/data/kb_766/EyeAI_working/deriva-ml/execution/5-51CA/asset/eye-ai/Fundus_Bounding_Box/Cropped_2-CY70.svg].\n",
      "2025-09-22 14:37:01,260 - INFO - Including file: [/data/kb_766/EyeAI_working/deriva-ml/execution/5-51CA/asset/eye-ai/Fundus_Bounding_Box/Cropped_2-CY72.svg].\n",
      "2025-09-22 14:37:01,261 - INFO - Including file: [/data/kb_766/EyeAI_working/deriva-ml/execution/5-51CA/asset/eye-ai/Fundus_Bounding_Box/Cropped_2-CY9C.svg].\n",
      "2025-09-22 14:37:01,262 - INFO - Including file: [/data/kb_766/EyeAI_working/deriva-ml/execution/5-51CA/asset/eye-ai/Fundus_Bounding_Box/Cropped_2-CY9J.svg].\n",
      "2025-09-22 14:37:01,262 - INFO - Including file: [/data/kb_766/EyeAI_working/deriva-ml/execution/5-51CA/asset/eye-ai/Fundus_Bounding_Box/Cropped_2-CYB0.svg].\n",
      "2025-09-22 14:37:01,263 - INFO - Including file: [/data/kb_766/EyeAI_working/deriva-ml/execution/5-51CA/asset/eye-ai/Fundus_Bounding_Box/Cropped_2-CYB2.svg].\n",
      "2025-09-22 14:37:01,263 - INFO - Including file: [/data/kb_766/EyeAI_working/deriva-ml/execution/5-51CA/asset/eye-ai/Fundus_Bounding_Box/Cropped_2-CYCC.svg].\n",
      "2025-09-22 14:37:01,264 - INFO - Including file: [/data/kb_766/EyeAI_working/deriva-ml/execution/5-51CA/asset/eye-ai/Fundus_Bounding_Box/Cropped_2-CYCP.svg].\n",
      "2025-09-22 14:37:01,265 - INFO - Including file: [/data/kb_766/EyeAI_working/deriva-ml/execution/5-51CA/asset/eye-ai/Fundus_Bounding_Box/Cropped_2-CYDP.svg].\n",
      "2025-09-22 14:37:01,265 - INFO - Including file: [/data/kb_766/EyeAI_working/deriva-ml/execution/5-51CA/asset/eye-ai/Fundus_Bounding_Box/Cropped_2-CYDT.svg].\n",
      "2025-09-22 14:37:01,266 - INFO - Including file: [/data/kb_766/EyeAI_working/deriva-ml/execution/5-51CA/asset/eye-ai/Fundus_Bounding_Box/Cropped_2-CYEC.svg].\n",
      "2025-09-22 14:37:01,266 - INFO - Including file: [/data/kb_766/EyeAI_working/deriva-ml/execution/5-51CA/asset/eye-ai/Fundus_Bounding_Box/Cropped_2-CYEE.svg].\n",
      "2025-09-22 14:37:01,267 - INFO - Including file: [/data/kb_766/EyeAI_working/deriva-ml/execution/5-51CA/asset/eye-ai/Fundus_Bounding_Box/Cropped_2-CYK4.svg].\n",
      "2025-09-22 14:37:01,268 - INFO - Including file: [/data/kb_766/EyeAI_working/deriva-ml/execution/5-51CA/asset/eye-ai/Fundus_Bounding_Box/Cropped_2-CYKE.svg].\n",
      "2025-09-22 14:37:01,268 - INFO - Including file: [/data/kb_766/EyeAI_working/deriva-ml/execution/5-51CA/asset/eye-ai/Fundus_Bounding_Box/Cropped_2-CYMA.svg].\n",
      "2025-09-22 14:37:01,269 - INFO - Including file: [/data/kb_766/EyeAI_working/deriva-ml/execution/5-51CA/asset/eye-ai/Fundus_Bounding_Box/Cropped_2-CYMC.svg].\n",
      "2025-09-22 14:37:01,269 - INFO - Including file: [/data/kb_766/EyeAI_working/deriva-ml/execution/5-51CA/asset/eye-ai/Fundus_Bounding_Box/Cropped_2-CYRC.svg].\n",
      "2025-09-22 14:37:01,270 - INFO - Including file: [/data/kb_766/EyeAI_working/deriva-ml/execution/5-51CA/asset/eye-ai/Fundus_Bounding_Box/Cropped_2-CYRG.svg].\n",
      "2025-09-22 14:37:01,271 - INFO - Including file: [/data/kb_766/EyeAI_working/deriva-ml/execution/5-51CA/asset/eye-ai/Fundus_Bounding_Box/Cropped_2-CYRP.svg].\n",
      "2025-09-22 14:37:01,274 - INFO - Including file: [/data/kb_766/EyeAI_working/deriva-ml/execution/5-51CA/asset/eye-ai/Fundus_Bounding_Box/Cropped_2-CYSJ.svg].\n",
      "2025-09-22 14:37:01,274 - INFO - Including file: [/data/kb_766/EyeAI_working/deriva-ml/execution/5-51CA/asset/eye-ai/Fundus_Bounding_Box/Cropped_2-CYST.svg].\n",
      "2025-09-22 14:37:01,275 - INFO - Including file: [/data/kb_766/EyeAI_working/deriva-ml/execution/5-51CA/asset/eye-ai/Fundus_Bounding_Box/Cropped_2-CYTC.svg].\n",
      "2025-09-22 14:37:01,275 - INFO - Including file: [/data/kb_766/EyeAI_working/deriva-ml/execution/5-51CA/asset/eye-ai/Fundus_Bounding_Box/Cropped_2-CYTJ.svg].\n",
      "2025-09-22 14:37:01,276 - INFO - Including file: [/data/kb_766/EyeAI_working/deriva-ml/execution/5-51CA/asset/eye-ai/Fundus_Bounding_Box/Cropped_2-CYTR.svg].\n",
      "2025-09-22 14:37:01,276 - INFO - Including file: [/data/kb_766/EyeAI_working/deriva-ml/execution/5-51CA/asset/eye-ai/Fundus_Bounding_Box/Cropped_2-CYTY.svg].\n",
      "2025-09-22 14:37:01,277 - INFO - Including file: [/data/kb_766/EyeAI_working/deriva-ml/execution/5-51CA/asset/eye-ai/Fundus_Bounding_Box/Cropped_2-CYWE.svg].\n",
      "2025-09-22 14:37:01,277 - INFO - Including file: [/data/kb_766/EyeAI_working/deriva-ml/execution/5-51CA/asset/eye-ai/Fundus_Bounding_Box/Cropped_2-CYWJ.svg].\n",
      "2025-09-22 14:37:01,278 - INFO - Including file: [/data/kb_766/EyeAI_working/deriva-ml/execution/5-51CA/asset/eye-ai/Fundus_Bounding_Box/Cropped_2-CYX4.svg].\n",
      "2025-09-22 14:37:01,278 - INFO - Including file: [/data/kb_766/EyeAI_working/deriva-ml/execution/5-51CA/asset/eye-ai/Fundus_Bounding_Box/Cropped_2-CYXA.svg].\n",
      "2025-09-22 14:37:01,279 - INFO - Including file: [/data/kb_766/EyeAI_working/deriva-ml/execution/5-51CA/asset/eye-ai/Fundus_Bounding_Box/Cropped_2-CYZP.svg].\n",
      "2025-09-22 14:37:01,279 - INFO - Including file: [/data/kb_766/EyeAI_working/deriva-ml/execution/5-51CA/asset/eye-ai/Fundus_Bounding_Box/Cropped_2-CYZR.svg].\n",
      "2025-09-22 14:37:01,280 - INFO - Including file: [/data/kb_766/EyeAI_working/deriva-ml/execution/5-51CA/asset/eye-ai/Fundus_Bounding_Box/Cropped_2-CYZY.svg].\n",
      "2025-09-22 14:37:01,280 - INFO - Including file: [/data/kb_766/EyeAI_working/deriva-ml/execution/5-51CA/asset/eye-ai/Fundus_Bounding_Box/Cropped_2-CZ16.svg].\n",
      "2025-09-22 14:37:01,281 - INFO - Including file: [/data/kb_766/EyeAI_working/deriva-ml/execution/5-51CA/asset/eye-ai/Fundus_Bounding_Box/Cropped_2-CZ18.svg].\n",
      "2025-09-22 14:37:01,281 - INFO - Including file: [/data/kb_766/EyeAI_working/deriva-ml/execution/5-51CA/asset/eye-ai/Fundus_Bounding_Box/Cropped_2-CZA2.svg].\n",
      "2025-09-22 14:37:01,284 - INFO - Including file: [/data/kb_766/EyeAI_working/deriva-ml/execution/5-51CA/asset/eye-ai/Fundus_Bounding_Box/Cropped_2-CZD6.svg].\n",
      "2025-09-22 14:37:01,284 - INFO - Including file: [/data/kb_766/EyeAI_working/deriva-ml/execution/5-51CA/asset/eye-ai/Fundus_Bounding_Box/Cropped_2-CZDA.svg].\n",
      "2025-09-22 14:37:01,284 - INFO - Including file: [/data/kb_766/EyeAI_working/deriva-ml/execution/5-51CA/asset/eye-ai/Fundus_Bounding_Box/Cropped_2-CZEC.svg].\n",
      "2025-09-22 14:37:01,285 - INFO - Including file: [/data/kb_766/EyeAI_working/deriva-ml/execution/5-51CA/asset/eye-ai/Fundus_Bounding_Box/Cropped_2-CZF8.svg].\n",
      "2025-09-22 14:37:01,286 - INFO - Including file: [/data/kb_766/EyeAI_working/deriva-ml/execution/5-51CA/asset/eye-ai/Fundus_Bounding_Box/Cropped_2-CZFA.svg].\n",
      "2025-09-22 14:37:01,286 - INFO - Including file: [/data/kb_766/EyeAI_working/deriva-ml/execution/5-51CA/asset/eye-ai/Fundus_Bounding_Box/Cropped_2-CZH8.svg].\n",
      "2025-09-22 14:37:01,287 - INFO - Including file: [/data/kb_766/EyeAI_working/deriva-ml/execution/5-51CA/asset/eye-ai/Fundus_Bounding_Box/Cropped_2-CZHC.svg].\n",
      "2025-09-22 14:37:01,287 - INFO - Including file: [/data/kb_766/EyeAI_working/deriva-ml/execution/5-51CA/asset/eye-ai/Fundus_Bounding_Box/Cropped_2-CZKA.svg].\n",
      "2025-09-22 14:37:01,288 - INFO - Including file: [/data/kb_766/EyeAI_working/deriva-ml/execution/5-51CA/asset/eye-ai/Fundus_Bounding_Box/Cropped_2-CZKE.svg].\n",
      "2025-09-22 14:37:01,288 - INFO - Including file: [/data/kb_766/EyeAI_working/deriva-ml/execution/5-51CA/asset/eye-ai/Fundus_Bounding_Box/Cropped_2-CZQ2.svg].\n",
      "2025-09-22 14:37:01,289 - INFO - Including file: [/data/kb_766/EyeAI_working/deriva-ml/execution/5-51CA/asset/eye-ai/Fundus_Bounding_Box/Cropped_2-CZWJ.svg].\n",
      "2025-09-22 14:37:01,289 - INFO - Including file: [/data/kb_766/EyeAI_working/deriva-ml/execution/5-51CA/asset/eye-ai/Fundus_Bounding_Box/Cropped_2-CZWM.svg].\n",
      "2025-09-22 14:37:01,289 - INFO - Including file: [/data/kb_766/EyeAI_working/deriva-ml/execution/5-51CA/asset/eye-ai/Fundus_Bounding_Box/Cropped_2-D022.svg].\n",
      "2025-09-22 14:37:01,290 - INFO - Including file: [/data/kb_766/EyeAI_working/deriva-ml/execution/5-51CA/asset/eye-ai/Fundus_Bounding_Box/Cropped_2-D024.svg].\n",
      "2025-09-22 14:37:01,291 - INFO - Including file: [/data/kb_766/EyeAI_working/deriva-ml/execution/5-51CA/asset/eye-ai/Fundus_Bounding_Box/Cropped_2-D03T.svg].\n",
      "2025-09-22 14:37:01,291 - INFO - Including file: [/data/kb_766/EyeAI_working/deriva-ml/execution/5-51CA/asset/eye-ai/Fundus_Bounding_Box/Cropped_2-D044.svg].\n",
      "2025-09-22 14:37:01,293 - INFO - Including file: [/data/kb_766/EyeAI_working/deriva-ml/execution/5-51CA/asset/eye-ai/Fundus_Bounding_Box/Cropped_2-D04A.svg].\n",
      "2025-09-22 14:37:01,294 - INFO - Including file: [/data/kb_766/EyeAI_working/deriva-ml/execution/5-51CA/asset/eye-ai/Fundus_Bounding_Box/Cropped_2-D04E.svg].\n",
      "2025-09-22 14:37:01,294 - INFO - Including file: [/data/kb_766/EyeAI_working/deriva-ml/execution/5-51CA/asset/eye-ai/Fundus_Bounding_Box/Cropped_2-D064.svg].\n",
      "2025-09-22 14:37:01,295 - INFO - Including file: [/data/kb_766/EyeAI_working/deriva-ml/execution/5-51CA/asset/eye-ai/Fundus_Bounding_Box/Cropped_2-D06A.svg].\n",
      "2025-09-22 14:37:01,295 - INFO - Including file: [/data/kb_766/EyeAI_working/deriva-ml/execution/5-51CA/asset/eye-ai/Fundus_Bounding_Box/Cropped_2-D06E.svg].\n",
      "2025-09-22 14:37:01,296 - INFO - Including file: [/data/kb_766/EyeAI_working/deriva-ml/execution/5-51CA/asset/eye-ai/Fundus_Bounding_Box/Cropped_2-D06P.svg].\n",
      "2025-09-22 14:37:01,296 - INFO - Including file: [/data/kb_766/EyeAI_working/deriva-ml/execution/5-51CA/asset/eye-ai/Fundus_Bounding_Box/Cropped_2-D070.svg].\n",
      "2025-09-22 14:37:01,297 - INFO - Including file: [/data/kb_766/EyeAI_working/deriva-ml/execution/5-51CA/asset/eye-ai/Fundus_Bounding_Box/Cropped_2-D072.svg].\n",
      "2025-09-22 14:37:01,297 - INFO - Including file: [/data/kb_766/EyeAI_working/deriva-ml/execution/5-51CA/asset/eye-ai/Fundus_Bounding_Box/Cropped_2-D082.svg].\n",
      "2025-09-22 14:37:01,298 - INFO - Including file: [/data/kb_766/EyeAI_working/deriva-ml/execution/5-51CA/asset/eye-ai/Fundus_Bounding_Box/Cropped_2-D086.svg].\n",
      "2025-09-22 14:37:01,298 - INFO - Including file: [/data/kb_766/EyeAI_working/deriva-ml/execution/5-51CA/asset/eye-ai/Fundus_Bounding_Box/Cropped_2-D08J.svg].\n",
      "2025-09-22 14:37:01,299 - INFO - Including file: [/data/kb_766/EyeAI_working/deriva-ml/execution/5-51CA/asset/eye-ai/Fundus_Bounding_Box/Cropped_2-D08M.svg].\n",
      "2025-09-22 14:37:01,299 - INFO - Including file: [/data/kb_766/EyeAI_working/deriva-ml/execution/5-51CA/asset/eye-ai/Fundus_Bounding_Box/Cropped_2-D0A6.svg].\n",
      "2025-09-22 14:37:01,300 - INFO - Including file: [/data/kb_766/EyeAI_working/deriva-ml/execution/5-51CA/asset/eye-ai/Fundus_Bounding_Box/Cropped_2-D0A8.svg].\n",
      "2025-09-22 14:37:01,300 - INFO - Including file: [/data/kb_766/EyeAI_working/deriva-ml/execution/5-51CA/asset/eye-ai/Fundus_Bounding_Box/Cropped_2-D0EE.svg].\n",
      "2025-09-22 14:37:01,301 - INFO - Including file: [/data/kb_766/EyeAI_working/deriva-ml/execution/5-51CA/asset/eye-ai/Fundus_Bounding_Box/Cropped_2-D0EM.svg].\n",
      "2025-09-22 14:37:01,302 - INFO - Including file: [/data/kb_766/EyeAI_working/deriva-ml/execution/5-51CA/asset/eye-ai/Fundus_Bounding_Box/Cropped_2-D0GM.svg].\n",
      "2025-09-22 14:37:01,303 - INFO - Including file: [/data/kb_766/EyeAI_working/deriva-ml/execution/5-51CA/asset/eye-ai/Fundus_Bounding_Box/Cropped_2-D0GP.svg].\n",
      "2025-09-22 14:37:01,303 - INFO - Including file: [/data/kb_766/EyeAI_working/deriva-ml/execution/5-51CA/asset/eye-ai/Fundus_Bounding_Box/Cropped_2-D0GW.svg].\n",
      "2025-09-22 14:37:01,304 - INFO - Including file: [/data/kb_766/EyeAI_working/deriva-ml/execution/5-51CA/asset/eye-ai/Fundus_Bounding_Box/Cropped_2-D0GY.svg].\n",
      "2025-09-22 14:37:01,304 - INFO - Including file: [/data/kb_766/EyeAI_working/deriva-ml/execution/5-51CA/asset/eye-ai/Fundus_Bounding_Box/Cropped_2-D0HA.svg].\n",
      "2025-09-22 14:37:01,305 - INFO - Including file: [/data/kb_766/EyeAI_working/deriva-ml/execution/5-51CA/asset/eye-ai/Fundus_Bounding_Box/Cropped_2-D0HE.svg].\n",
      "2025-09-22 14:37:01,305 - INFO - Including file: [/data/kb_766/EyeAI_working/deriva-ml/execution/5-51CA/asset/eye-ai/Fundus_Bounding_Box/Cropped_2-D0R6.svg].\n",
      "2025-09-22 14:37:01,306 - INFO - Including file: [/data/kb_766/EyeAI_working/deriva-ml/execution/5-51CA/asset/eye-ai/Fundus_Bounding_Box/Cropped_2-D0R8.svg].\n",
      "2025-09-22 14:37:01,306 - INFO - Including file: [/data/kb_766/EyeAI_working/deriva-ml/execution/5-51CA/asset/eye-ai/Fundus_Bounding_Box/Cropped_2-D0SR.svg].\n",
      "2025-09-22 14:37:01,307 - INFO - Including file: [/data/kb_766/EyeAI_working/deriva-ml/execution/5-51CA/asset/eye-ai/Fundus_Bounding_Box/Cropped_2-D0SW.svg].\n",
      "2025-09-22 14:37:01,308 - INFO - Including file: [/data/kb_766/EyeAI_working/deriva-ml/execution/5-51CA/asset/eye-ai/Fundus_Bounding_Box/Cropped_2-D0VM.svg].\n",
      "2025-09-22 14:37:01,308 - INFO - Including file: [/data/kb_766/EyeAI_working/deriva-ml/execution/5-51CA/asset/eye-ai/Fundus_Bounding_Box/Cropped_2-D0VR.svg].\n",
      "2025-09-22 14:37:01,309 - INFO - Including file: [/data/kb_766/EyeAI_working/deriva-ml/execution/5-51CA/asset/eye-ai/Fundus_Bounding_Box/Cropped_2-D0ZG.svg].\n",
      "2025-09-22 14:37:01,309 - INFO - Including file: [/data/kb_766/EyeAI_working/deriva-ml/execution/5-51CA/asset/eye-ai/Fundus_Bounding_Box/Cropped_2-D0ZJ.svg].\n",
      "2025-09-22 14:37:01,310 - INFO - Including file: [/data/kb_766/EyeAI_working/deriva-ml/execution/5-51CA/asset/eye-ai/Fundus_Bounding_Box/Cropped_2-D0ZT.svg].\n",
      "2025-09-22 14:37:01,310 - INFO - Including file: [/data/kb_766/EyeAI_working/deriva-ml/execution/5-51CA/asset/eye-ai/Fundus_Bounding_Box/Cropped_2-D0ZW.svg].\n",
      "2025-09-22 14:37:01,311 - INFO - Including file: [/data/kb_766/EyeAI_working/deriva-ml/execution/5-51CA/asset/eye-ai/Fundus_Bounding_Box/Cropped_2-D16A.svg].\n",
      "2025-09-22 14:37:01,312 - INFO - Including file: [/data/kb_766/EyeAI_working/deriva-ml/execution/5-51CA/asset/eye-ai/Fundus_Bounding_Box/Cropped_2-D16C.svg].\n",
      "2025-09-22 14:37:01,312 - INFO - Including file: [/data/kb_766/EyeAI_working/deriva-ml/execution/5-51CA/asset/eye-ai/Fundus_Bounding_Box/Cropped_2-D1AC.svg].\n",
      "2025-09-22 14:37:01,318 - INFO - Including file: [/data/kb_766/EyeAI_working/deriva-ml/execution/5-51CA/asset/eye-ai/Fundus_Bounding_Box/Cropped_2-D1AJ.svg].\n",
      "2025-09-22 14:37:01,318 - INFO - Including file: [/data/kb_766/EyeAI_working/deriva-ml/execution/5-51CA/asset/eye-ai/Fundus_Bounding_Box/Cropped_2-D1EP.svg].\n",
      "2025-09-22 14:37:01,319 - INFO - Including file: [/data/kb_766/EyeAI_working/deriva-ml/execution/5-51CA/asset/eye-ai/Fundus_Bounding_Box/Cropped_2-D1ER.svg].\n",
      "2025-09-22 14:37:01,320 - INFO - Including file: [/data/kb_766/EyeAI_working/deriva-ml/execution/5-51CA/asset/eye-ai/Fundus_Bounding_Box/Cropped_2-D1FP.svg].\n",
      "2025-09-22 14:37:01,320 - INFO - Including file: [/data/kb_766/EyeAI_working/deriva-ml/execution/5-51CA/asset/eye-ai/Fundus_Bounding_Box/Cropped_2-D1FT.svg].\n",
      "2025-09-22 14:37:01,321 - INFO - Including file: [/data/kb_766/EyeAI_working/deriva-ml/execution/5-51CA/asset/eye-ai/Fundus_Bounding_Box/Cropped_2-D1J0.svg].\n",
      "2025-09-22 14:37:01,321 - INFO - Including file: [/data/kb_766/EyeAI_working/deriva-ml/execution/5-51CA/asset/eye-ai/Fundus_Bounding_Box/Cropped_2-D1J4.svg].\n",
      "2025-09-22 14:37:01,322 - INFO - Including file: [/data/kb_766/EyeAI_working/deriva-ml/execution/5-51CA/asset/eye-ai/Fundus_Bounding_Box/Cropped_2-D1QA.svg].\n",
      "2025-09-22 14:37:01,322 - INFO - Including file: [/data/kb_766/EyeAI_working/deriva-ml/execution/5-51CA/asset/eye-ai/Fundus_Bounding_Box/Cropped_2-D1QC.svg].\n",
      "2025-09-22 14:37:01,323 - INFO - Including file: [/data/kb_766/EyeAI_working/deriva-ml/execution/5-51CA/asset/eye-ai/Fundus_Bounding_Box/Cropped_2-D1RW.svg].\n",
      "2025-09-22 14:37:01,323 - INFO - Including file: [/data/kb_766/EyeAI_working/deriva-ml/execution/5-51CA/asset/eye-ai/Fundus_Bounding_Box/Cropped_2-D1S2.svg].\n",
      "2025-09-22 14:37:01,324 - INFO - Including file: [/data/kb_766/EyeAI_working/deriva-ml/execution/5-51CA/asset/eye-ai/Fundus_Bounding_Box/Cropped_2-D25R.svg].\n",
      "2025-09-22 14:37:01,324 - INFO - Including file: [/data/kb_766/EyeAI_working/deriva-ml/execution/5-51CA/asset/eye-ai/Fundus_Bounding_Box/Cropped_2-D260.svg].\n",
      "2025-09-22 14:37:01,325 - INFO - Including file: [/data/kb_766/EyeAI_working/deriva-ml/execution/5-51CA/asset/eye-ai/Fundus_Bounding_Box/Cropped_2-D26G.svg].\n",
      "2025-09-22 14:37:01,325 - INFO - Including file: [/data/kb_766/EyeAI_working/deriva-ml/execution/5-51CA/asset/eye-ai/Fundus_Bounding_Box/Cropped_2-D27E.svg].\n",
      "2025-09-22 14:37:01,326 - INFO - Including file: [/data/kb_766/EyeAI_working/deriva-ml/execution/5-51CA/asset/eye-ai/Fundus_Bounding_Box/Cropped_2-D27M.svg].\n",
      "2025-09-22 14:37:01,326 - INFO - Including file: [/data/kb_766/EyeAI_working/deriva-ml/execution/5-51CA/asset/eye-ai/Fundus_Bounding_Box/Cropped_2-D27T.svg].\n",
      "2025-09-22 14:37:01,327 - INFO - Including file: [/data/kb_766/EyeAI_working/deriva-ml/execution/5-51CA/asset/eye-ai/Fundus_Bounding_Box/Cropped_2-D2BA.svg].\n",
      "2025-09-22 14:37:01,327 - INFO - Including file: [/data/kb_766/EyeAI_working/deriva-ml/execution/5-51CA/asset/eye-ai/Fundus_Bounding_Box/Cropped_2-D2BG.svg].\n",
      "2025-09-22 14:37:01,328 - INFO - Including file: [/data/kb_766/EyeAI_working/deriva-ml/execution/5-51CA/asset/eye-ai/Fundus_Bounding_Box/Cropped_2-D2D2.svg].\n",
      "2025-09-22 14:37:01,328 - INFO - Including file: [/data/kb_766/EyeAI_working/deriva-ml/execution/5-51CA/asset/eye-ai/Fundus_Bounding_Box/Cropped_2-D2D4.svg].\n",
      "2025-09-22 14:37:01,329 - INFO - Including file: [/data/kb_766/EyeAI_working/deriva-ml/execution/5-51CA/asset/eye-ai/Fundus_Bounding_Box/Cropped_2-D2QM.svg].\n",
      "2025-09-22 14:37:01,329 - INFO - Including file: [/data/kb_766/EyeAI_working/deriva-ml/execution/5-51CA/asset/eye-ai/Fundus_Bounding_Box/Cropped_2-D2VT.svg].\n",
      "2025-09-22 14:37:01,330 - INFO - Including file: [/data/kb_766/EyeAI_working/deriva-ml/execution/5-51CA/asset/eye-ai/Fundus_Bounding_Box/Cropped_2-D2W0.svg].\n",
      "2025-09-22 14:37:01,330 - INFO - Including file: [/data/kb_766/EyeAI_working/deriva-ml/execution/5-51CA/asset/eye-ai/Fundus_Bounding_Box/Cropped_2-D2W8.svg].\n",
      "2025-09-22 14:37:01,333 - INFO - Including file: [/data/kb_766/EyeAI_working/deriva-ml/execution/5-51CA/asset/eye-ai/Fundus_Bounding_Box/Cropped_2-D2WG.svg].\n",
      "2025-09-22 14:37:01,333 - INFO - Including file: [/data/kb_766/EyeAI_working/deriva-ml/execution/5-51CA/asset/eye-ai/Fundus_Bounding_Box/Cropped_2-D310.svg].\n",
      "2025-09-22 14:37:01,334 - INFO - Including file: [/data/kb_766/EyeAI_working/deriva-ml/execution/5-51CA/asset/eye-ai/Fundus_Bounding_Box/Cropped_2-D316.svg].\n",
      "2025-09-22 14:37:01,334 - INFO - Including file: [/data/kb_766/EyeAI_working/deriva-ml/execution/5-51CA/asset/eye-ai/Fundus_Bounding_Box/Cropped_2-D31C.svg].\n",
      "2025-09-22 14:37:01,335 - INFO - Including file: [/data/kb_766/EyeAI_working/deriva-ml/execution/5-51CA/asset/eye-ai/Fundus_Bounding_Box/Cropped_2-D31G.svg].\n",
      "2025-09-22 14:37:01,335 - INFO - Including file: [/data/kb_766/EyeAI_working/deriva-ml/execution/5-51CA/asset/eye-ai/Fundus_Bounding_Box/Cropped_2-D31P.svg].\n",
      "2025-09-22 14:37:01,336 - INFO - Including file: [/data/kb_766/EyeAI_working/deriva-ml/execution/5-51CA/asset/eye-ai/Fundus_Bounding_Box/Cropped_2-D31R.svg].\n",
      "2025-09-22 14:37:01,336 - INFO - Including file: [/data/kb_766/EyeAI_working/deriva-ml/execution/5-51CA/asset/eye-ai/Fundus_Bounding_Box/Cropped_2-D34Y.svg].\n",
      "2025-09-22 14:37:01,337 - INFO - Including file: [/data/kb_766/EyeAI_working/deriva-ml/execution/5-51CA/asset/eye-ai/Fundus_Bounding_Box/Cropped_2-D354.svg].\n",
      "2025-09-22 14:37:01,337 - INFO - Including file: [/data/kb_766/EyeAI_working/deriva-ml/execution/5-51CA/asset/eye-ai/Fundus_Bounding_Box/Cropped_2-D35T.svg].\n",
      "2025-09-22 14:37:01,338 - INFO - Including file: [/data/kb_766/EyeAI_working/deriva-ml/execution/5-51CA/asset/eye-ai/Fundus_Bounding_Box/Cropped_2-D35W.svg].\n",
      "2025-09-22 14:37:01,338 - INFO - Including file: [/data/kb_766/EyeAI_working/deriva-ml/execution/5-51CA/asset/eye-ai/Fundus_Bounding_Box/Cropped_2-D37W.svg].\n",
      "2025-09-22 14:37:01,339 - INFO - Including file: [/data/kb_766/EyeAI_working/deriva-ml/execution/5-51CA/asset/eye-ai/Fundus_Bounding_Box/Cropped_2-D382.svg].\n",
      "2025-09-22 14:37:01,339 - INFO - Including file: [/data/kb_766/EyeAI_working/deriva-ml/execution/5-51CA/asset/eye-ai/Fundus_Bounding_Box/Cropped_2-D3BE.svg].\n",
      "2025-09-22 14:37:01,340 - INFO - Including file: [/data/kb_766/EyeAI_working/deriva-ml/execution/5-51CA/asset/eye-ai/Fundus_Bounding_Box/Cropped_2-D3BG.svg].\n",
      "2025-09-22 14:37:01,342 - INFO - Including file: [/data/kb_766/EyeAI_working/deriva-ml/execution/5-51CA/asset/eye-ai/Fundus_Bounding_Box/Cropped_2-D3E0.svg].\n",
      "2025-09-22 14:37:01,342 - INFO - Including file: [/data/kb_766/EyeAI_working/deriva-ml/execution/5-51CA/asset/eye-ai/Fundus_Bounding_Box/Cropped_2-D3E4.svg].\n",
      "2025-09-22 14:37:01,343 - INFO - Including file: [/data/kb_766/EyeAI_working/deriva-ml/execution/5-51CA/asset/eye-ai/Fundus_Bounding_Box/Cropped_2-D3EG.svg].\n",
      "2025-09-22 14:37:01,343 - INFO - Including file: [/data/kb_766/EyeAI_working/deriva-ml/execution/5-51CA/asset/eye-ai/Fundus_Bounding_Box/Cropped_2-D3EJ.svg].\n",
      "2025-09-22 14:37:01,344 - INFO - Including file: [/data/kb_766/EyeAI_working/deriva-ml/execution/5-51CA/asset/eye-ai/Fundus_Bounding_Box/Cropped_2-D3QM.svg].\n",
      "2025-09-22 14:37:01,344 - INFO - Including file: [/data/kb_766/EyeAI_working/deriva-ml/execution/5-51CA/asset/eye-ai/Fundus_Bounding_Box/Cropped_2-D3QR.svg].\n",
      "2025-09-22 14:37:01,345 - INFO - Including file: [/data/kb_766/EyeAI_working/deriva-ml/execution/5-51CA/asset/eye-ai/Fundus_Bounding_Box/Cropped_2-D3S8.svg].\n",
      "2025-09-22 14:37:01,345 - INFO - Including file: [/data/kb_766/EyeAI_working/deriva-ml/execution/5-51CA/asset/eye-ai/Fundus_Bounding_Box/Cropped_2-D3SC.svg].\n",
      "2025-09-22 14:37:01,346 - INFO - Including file: [/data/kb_766/EyeAI_working/deriva-ml/execution/5-51CA/asset/eye-ai/Fundus_Bounding_Box/Cropped_2-D3TP.svg].\n",
      "2025-09-22 14:37:01,346 - INFO - Including file: [/data/kb_766/EyeAI_working/deriva-ml/execution/5-51CA/asset/eye-ai/Fundus_Bounding_Box/Cropped_2-D3TW.svg].\n",
      "2025-09-22 14:37:01,347 - INFO - Including file: [/data/kb_766/EyeAI_working/deriva-ml/execution/5-51CA/asset/eye-ai/Fundus_Bounding_Box/Cropped_2-D3Y0.svg].\n",
      "2025-09-22 14:37:01,348 - INFO - Including file: [/data/kb_766/EyeAI_working/deriva-ml/execution/5-51CA/asset/eye-ai/Fundus_Bounding_Box/Cropped_2-D3Y8.svg].\n",
      "2025-09-22 14:37:01,349 - INFO - Including file: [/data/kb_766/EyeAI_working/deriva-ml/execution/5-51CA/asset/eye-ai/Fundus_Bounding_Box/Cropped_2-D412.svg].\n",
      "2025-09-22 14:37:01,349 - INFO - Including file: [/data/kb_766/EyeAI_working/deriva-ml/execution/5-51CA/asset/eye-ai/Fundus_Bounding_Box/Cropped_2-D414.svg].\n",
      "2025-09-22 14:37:01,350 - INFO - Including file: [/data/kb_766/EyeAI_working/deriva-ml/execution/5-51CA/asset/eye-ai/Fundus_Bounding_Box/Cropped_2-D452.svg].\n",
      "2025-09-22 14:37:01,350 - INFO - Including file: [/data/kb_766/EyeAI_working/deriva-ml/execution/5-51CA/asset/eye-ai/Fundus_Bounding_Box/Cropped_2-D454.svg].\n",
      "2025-09-22 14:37:01,351 - INFO - Including file: [/data/kb_766/EyeAI_working/deriva-ml/execution/5-51CA/asset/eye-ai/Fundus_Bounding_Box/Cropped_2-D47G.svg].\n",
      "2025-09-22 14:37:01,351 - INFO - Including file: [/data/kb_766/EyeAI_working/deriva-ml/execution/5-51CA/asset/eye-ai/Fundus_Bounding_Box/Cropped_2-D48Y.svg].\n",
      "2025-09-22 14:37:01,352 - INFO - Including file: [/data/kb_766/EyeAI_working/deriva-ml/execution/5-51CA/asset/eye-ai/Fundus_Bounding_Box/Cropped_2-D492.svg].\n",
      "2025-09-22 14:37:01,352 - INFO - Including file: [/data/kb_766/EyeAI_working/deriva-ml/execution/5-51CA/asset/eye-ai/Fundus_Bounding_Box/Cropped_2-D49E.svg].\n",
      "2025-09-22 14:37:01,352 - INFO - Including file: [/data/kb_766/EyeAI_working/deriva-ml/execution/5-51CA/asset/eye-ai/Fundus_Bounding_Box/Cropped_2-D49G.svg].\n",
      "2025-09-22 14:37:01,353 - INFO - Including file: [/data/kb_766/EyeAI_working/deriva-ml/execution/5-51CA/asset/eye-ai/Fundus_Bounding_Box/Cropped_2-D4D2.svg].\n",
      "2025-09-22 14:37:01,353 - INFO - Including file: [/data/kb_766/EyeAI_working/deriva-ml/execution/5-51CA/asset/eye-ai/Fundus_Bounding_Box/Cropped_2-D4D6.svg].\n",
      "2025-09-22 14:37:01,354 - INFO - Including file: [/data/kb_766/EyeAI_working/deriva-ml/execution/5-51CA/asset/eye-ai/Fundus_Bounding_Box/Cropped_2-D4DM.svg].\n",
      "2025-09-22 14:37:01,354 - INFO - Including file: [/data/kb_766/EyeAI_working/deriva-ml/execution/5-51CA/asset/eye-ai/Fundus_Bounding_Box/Cropped_2-D4DT.svg].\n",
      "2025-09-22 14:37:01,355 - INFO - Including file: [/data/kb_766/EyeAI_working/deriva-ml/execution/5-51CA/asset/eye-ai/Fundus_Bounding_Box/Cropped_2-D4GR.svg].\n",
      "2025-09-22 14:37:01,355 - INFO - Including file: [/data/kb_766/EyeAI_working/deriva-ml/execution/5-51CA/asset/eye-ai/Fundus_Bounding_Box/Cropped_2-D4GW.svg].\n",
      "2025-09-22 14:37:01,356 - INFO - Including file: [/data/kb_766/EyeAI_working/deriva-ml/execution/5-51CA/asset/eye-ai/Fundus_Bounding_Box/Cropped_2-D4H2.svg].\n",
      "2025-09-22 14:37:01,357 - INFO - Including file: [/data/kb_766/EyeAI_working/deriva-ml/execution/5-51CA/asset/eye-ai/Fundus_Bounding_Box/Cropped_2-D4H4.svg].\n",
      "2025-09-22 14:37:01,358 - INFO - Including file: [/data/kb_766/EyeAI_working/deriva-ml/execution/5-51CA/asset/eye-ai/Fundus_Bounding_Box/Cropped_2-D4K6.svg].\n",
      "2025-09-22 14:37:01,359 - INFO - Including file: [/data/kb_766/EyeAI_working/deriva-ml/execution/5-51CA/asset/eye-ai/Fundus_Bounding_Box/Cropped_2-D4K8.svg].\n",
      "2025-09-22 14:37:01,359 - INFO - Including file: [/data/kb_766/EyeAI_working/deriva-ml/execution/5-51CA/asset/eye-ai/Fundus_Bounding_Box/Cropped_2-D4NJ.svg].\n",
      "2025-09-22 14:37:01,360 - INFO - Including file: [/data/kb_766/EyeAI_working/deriva-ml/execution/5-51CA/asset/eye-ai/Fundus_Bounding_Box/Cropped_2-D4NR.svg].\n",
      "2025-09-22 14:37:01,360 - INFO - Including file: [/data/kb_766/EyeAI_working/deriva-ml/execution/5-51CA/asset/eye-ai/Fundus_Bounding_Box/Cropped_2-D4SE.svg].\n",
      "2025-09-22 14:37:01,361 - INFO - Including file: [/data/kb_766/EyeAI_working/deriva-ml/execution/5-51CA/asset/eye-ai/Fundus_Bounding_Box/Cropped_2-D4SG.svg].\n",
      "2025-09-22 14:37:01,362 - INFO - Including file: [/data/kb_766/EyeAI_working/deriva-ml/execution/5-51CA/asset/eye-ai/Fundus_Bounding_Box/Cropped_2-D4V6.svg].\n",
      "2025-09-22 14:37:01,362 - INFO - Including file: [/data/kb_766/EyeAI_working/deriva-ml/execution/5-51CA/asset/eye-ai/Fundus_Bounding_Box/Cropped_2-D4VG.svg].\n",
      "2025-09-22 14:37:01,363 - INFO - Including file: [/data/kb_766/EyeAI_working/deriva-ml/execution/5-51CA/asset/eye-ai/Fundus_Bounding_Box/Cropped_2-D4VW.svg].\n",
      "2025-09-22 14:37:01,363 - INFO - Including file: [/data/kb_766/EyeAI_working/deriva-ml/execution/5-51CA/asset/eye-ai/Fundus_Bounding_Box/Cropped_2-D4W0.svg].\n",
      "2025-09-22 14:37:01,364 - INFO - Including file: [/data/kb_766/EyeAI_working/deriva-ml/execution/5-51CA/asset/eye-ai/Fundus_Bounding_Box/Cropped_2-D4WP.svg].\n",
      "2025-09-22 14:37:01,364 - INFO - Including file: [/data/kb_766/EyeAI_working/deriva-ml/execution/5-51CA/asset/eye-ai/Fundus_Bounding_Box/Cropped_2-D4WW.svg].\n",
      "2025-09-22 14:37:01,365 - INFO - Including file: [/data/kb_766/EyeAI_working/deriva-ml/execution/5-51CA/asset/eye-ai/Fundus_Bounding_Box/Cropped_2-D4ZR.svg].\n",
      "2025-09-22 14:37:01,368 - INFO - Including file: [/data/kb_766/EyeAI_working/deriva-ml/execution/5-51CA/asset/eye-ai/Fundus_Bounding_Box/Cropped_2-D4ZT.svg].\n",
      "2025-09-22 14:37:01,368 - INFO - Including file: [/data/kb_766/EyeAI_working/deriva-ml/execution/5-51CA/asset/eye-ai/Fundus_Bounding_Box/Cropped_2-D4ZY.svg].\n",
      "2025-09-22 14:37:01,369 - INFO - Including file: [/data/kb_766/EyeAI_working/deriva-ml/execution/5-51CA/asset/eye-ai/Fundus_Bounding_Box/Cropped_2-D504.svg].\n",
      "2025-09-22 14:37:01,370 - INFO - Including file: [/data/kb_766/EyeAI_working/deriva-ml/execution/5-51CA/asset/eye-ai/Fundus_Bounding_Box/Cropped_2-D514.svg].\n",
      "2025-09-22 14:37:01,370 - INFO - Including file: [/data/kb_766/EyeAI_working/deriva-ml/execution/5-51CA/asset/eye-ai/Fundus_Bounding_Box/Cropped_2-D51A.svg].\n",
      "2025-09-22 14:37:01,371 - INFO - Including file: [/data/kb_766/EyeAI_working/deriva-ml/execution/5-51CA/asset/eye-ai/Fundus_Bounding_Box/Cropped_2-D52A.svg].\n",
      "2025-09-22 14:37:01,371 - INFO - Including file: [/data/kb_766/EyeAI_working/deriva-ml/execution/5-51CA/asset/eye-ai/Fundus_Bounding_Box/Cropped_2-D52C.svg].\n",
      "2025-09-22 14:37:01,372 - INFO - Including file: [/data/kb_766/EyeAI_working/deriva-ml/execution/5-51CA/asset/eye-ai/Fundus_Bounding_Box/Cropped_2-D52G.svg].\n",
      "2025-09-22 14:37:01,372 - INFO - Including file: [/data/kb_766/EyeAI_working/deriva-ml/execution/5-51CA/asset/eye-ai/Fundus_Bounding_Box/Cropped_2-D52R.svg].\n",
      "2025-09-22 14:37:01,374 - INFO - Including file: [/data/kb_766/EyeAI_working/deriva-ml/execution/5-51CA/asset/eye-ai/Fundus_Bounding_Box/Cropped_2-D540.svg].\n",
      "2025-09-22 14:37:01,374 - INFO - Including file: [/data/kb_766/EyeAI_working/deriva-ml/execution/5-51CA/asset/eye-ai/Fundus_Bounding_Box/Cropped_2-D54A.svg].\n",
      "2025-09-22 14:37:01,375 - INFO - Including file: [/data/kb_766/EyeAI_working/deriva-ml/execution/5-51CA/asset/eye-ai/Fundus_Bounding_Box/Cropped_2-D584.svg].\n",
      "2025-09-22 14:37:01,375 - INFO - Including file: [/data/kb_766/EyeAI_working/deriva-ml/execution/5-51CA/asset/eye-ai/Fundus_Bounding_Box/Cropped_2-D586.svg].\n",
      "2025-09-22 14:37:01,376 - INFO - Including file: [/data/kb_766/EyeAI_working/deriva-ml/execution/5-51CA/asset/eye-ai/Fundus_Bounding_Box/Cropped_2-D5B2.svg].\n",
      "2025-09-22 14:37:01,376 - INFO - Including file: [/data/kb_766/EyeAI_working/deriva-ml/execution/5-51CA/asset/eye-ai/Fundus_Bounding_Box/Cropped_2-D5FM.svg].\n",
      "2025-09-22 14:37:01,377 - INFO - Including file: [/data/kb_766/EyeAI_working/deriva-ml/execution/5-51CA/asset/eye-ai/Fundus_Bounding_Box/Cropped_2-D5FW.svg].\n",
      "2025-09-22 14:37:01,377 - INFO - Including file: [/data/kb_766/EyeAI_working/deriva-ml/execution/5-51CA/asset/eye-ai/Fundus_Bounding_Box/Cropped_2-D5J0.svg].\n",
      "2025-09-22 14:37:01,378 - INFO - Including file: [/data/kb_766/EyeAI_working/deriva-ml/execution/5-51CA/asset/eye-ai/Fundus_Bounding_Box/Cropped_2-D5J2.svg].\n",
      "2025-09-22 14:37:01,378 - INFO - Including file: [/data/kb_766/EyeAI_working/deriva-ml/execution/5-51CA/asset/eye-ai/Fundus_Bounding_Box/Cropped_2-D5QJ.svg].\n",
      "2025-09-22 14:37:01,379 - INFO - Including file: [/data/kb_766/EyeAI_working/deriva-ml/execution/5-51CA/asset/eye-ai/Fundus_Bounding_Box/Cropped_2-D5QM.svg].\n",
      "2025-09-22 14:37:01,379 - INFO - Including file: [/data/kb_766/EyeAI_working/deriva-ml/execution/5-51CA/asset/eye-ai/Fundus_Bounding_Box/Cropped_2-D5RP.svg].\n",
      "2025-09-22 14:37:01,380 - INFO - Including file: [/data/kb_766/EyeAI_working/deriva-ml/execution/5-51CA/asset/eye-ai/Fundus_Bounding_Box/Cropped_2-D5RT.svg].\n",
      "2025-09-22 14:37:01,380 - INFO - Including file: [/data/kb_766/EyeAI_working/deriva-ml/execution/5-51CA/asset/eye-ai/Fundus_Bounding_Box/Cropped_2-D5VC.svg].\n",
      "2025-09-22 14:37:01,380 - INFO - Including file: [/data/kb_766/EyeAI_working/deriva-ml/execution/5-51CA/asset/eye-ai/Fundus_Bounding_Box/Cropped_2-D5VJ.svg].\n",
      "2025-09-22 14:37:01,381 - INFO - Including file: [/data/kb_766/EyeAI_working/deriva-ml/execution/5-51CA/asset/eye-ai/Fundus_Bounding_Box/Cropped_2-D5Z4.svg].\n",
      "2025-09-22 14:37:01,381 - INFO - Including file: [/data/kb_766/EyeAI_working/deriva-ml/execution/5-51CA/asset/eye-ai/Fundus_Bounding_Box/Cropped_2-D5Z6.svg].\n",
      "2025-09-22 14:37:01,382 - INFO - Including file: [/data/kb_766/EyeAI_working/deriva-ml/execution/5-51CA/asset/eye-ai/Fundus_Bounding_Box/Cropped_2-D60C.svg].\n",
      "2025-09-22 14:37:01,382 - INFO - Including file: [/data/kb_766/EyeAI_working/deriva-ml/execution/5-51CA/asset/eye-ai/Fundus_Bounding_Box/Cropped_2-D60E.svg].\n",
      "2025-09-22 14:37:01,383 - INFO - Including file: [/data/kb_766/EyeAI_working/deriva-ml/execution/5-51CA/asset/eye-ai/Fundus_Bounding_Box/Cropped_2-D6B2.svg].\n",
      "2025-09-22 14:37:01,383 - INFO - Including file: [/data/kb_766/EyeAI_working/deriva-ml/execution/5-51CA/asset/eye-ai/Fundus_Bounding_Box/Cropped_2-D6B6.svg].\n",
      "2025-09-22 14:37:01,384 - INFO - Including file: [/data/kb_766/EyeAI_working/deriva-ml/execution/5-51CA/asset/eye-ai/Fundus_Bounding_Box/Cropped_2-D6DT.svg].\n",
      "2025-09-22 14:37:01,384 - INFO - Including file: [/data/kb_766/EyeAI_working/deriva-ml/execution/5-51CA/asset/eye-ai/Fundus_Bounding_Box/Cropped_2-D6DW.svg].\n",
      "2025-09-22 14:37:01,385 - INFO - Including file: [/data/kb_766/EyeAI_working/deriva-ml/execution/5-51CA/asset/eye-ai/Fundus_Bounding_Box/Cropped_2-D6TM.svg].\n",
      "2025-09-22 14:37:01,385 - INFO - Including file: [/data/kb_766/EyeAI_working/deriva-ml/execution/5-51CA/asset/eye-ai/Fundus_Bounding_Box/Cropped_2-D6TT.svg].\n",
      "2025-09-22 14:37:01,386 - INFO - Including file: [/data/kb_766/EyeAI_working/deriva-ml/execution/5-51CA/asset/eye-ai/Fundus_Bounding_Box/Cropped_2-D6TY.svg].\n",
      "2025-09-22 14:37:01,386 - INFO - Including file: [/data/kb_766/EyeAI_working/deriva-ml/execution/5-51CA/asset/eye-ai/Fundus_Bounding_Box/Cropped_2-D6XA.svg].\n",
      "2025-09-22 14:37:01,390 - INFO - Including file: [/data/kb_766/EyeAI_working/deriva-ml/execution/5-51CA/asset/eye-ai/Fundus_Bounding_Box/Cropped_2-D6XE.svg].\n",
      "2025-09-22 14:37:01,390 - INFO - Including file: [/data/kb_766/EyeAI_working/deriva-ml/execution/5-51CA/asset/eye-ai/Fundus_Bounding_Box/Cropped_2-D6YG.svg].\n",
      "2025-09-22 14:37:01,391 - INFO - Including file: [/data/kb_766/EyeAI_working/deriva-ml/execution/5-51CA/asset/eye-ai/Fundus_Bounding_Box/Cropped_2-D6YJ.svg].\n",
      "2025-09-22 14:37:01,391 - INFO - Including file: [/data/kb_766/EyeAI_working/deriva-ml/execution/5-51CA/asset/eye-ai/Fundus_Bounding_Box/Cropped_2-D714.svg].\n",
      "2025-09-22 14:37:01,392 - INFO - Including file: [/data/kb_766/EyeAI_working/deriva-ml/execution/5-51CA/asset/eye-ai/Fundus_Bounding_Box/Cropped_2-D722.svg].\n",
      "2025-09-22 14:37:01,392 - INFO - Including file: [/data/kb_766/EyeAI_working/deriva-ml/execution/5-51CA/asset/eye-ai/Fundus_Bounding_Box/Cropped_2-D724.svg].\n",
      "2025-09-22 14:37:01,393 - INFO - Including file: [/data/kb_766/EyeAI_working/deriva-ml/execution/5-51CA/asset/eye-ai/Fundus_Bounding_Box/Cropped_2-D732.svg].\n",
      "2025-09-22 14:37:01,393 - INFO - Including file: [/data/kb_766/EyeAI_working/deriva-ml/execution/5-51CA/asset/eye-ai/Fundus_Bounding_Box/Cropped_2-D736.svg].\n",
      "2025-09-22 14:37:01,394 - INFO - Including file: [/data/kb_766/EyeAI_working/deriva-ml/execution/5-51CA/asset/eye-ai/Fundus_Bounding_Box/Cropped_2-D7M0.svg].\n",
      "2025-09-22 14:37:01,395 - INFO - Including file: [/data/kb_766/EyeAI_working/deriva-ml/execution/5-51CA/asset/eye-ai/Fundus_Bounding_Box/Cropped_2-D7M6.svg].\n",
      "2025-09-22 14:37:01,395 - INFO - Including file: [/data/kb_766/EyeAI_working/deriva-ml/execution/5-51CA/asset/eye-ai/Fundus_Bounding_Box/Cropped_2-D7MC.svg].\n",
      "2025-09-22 14:37:01,396 - INFO - Including file: [/data/kb_766/EyeAI_working/deriva-ml/execution/5-51CA/asset/eye-ai/Fundus_Bounding_Box/Cropped_2-D7MJ.svg].\n",
      "2025-09-22 14:37:01,396 - INFO - Including file: [/data/kb_766/EyeAI_working/deriva-ml/execution/5-51CA/asset/eye-ai/Fundus_Bounding_Box/Cropped_2-D7PC.svg].\n",
      "2025-09-22 14:37:01,397 - INFO - Including file: [/data/kb_766/EyeAI_working/deriva-ml/execution/5-51CA/asset/eye-ai/Fundus_Bounding_Box/Cropped_2-D7PJ.svg].\n",
      "2025-09-22 14:37:01,397 - INFO - Including file: [/data/kb_766/EyeAI_working/deriva-ml/execution/5-51CA/asset/eye-ai/Fundus_Bounding_Box/Cropped_2-D7PP.svg].\n",
      "2025-09-22 14:37:01,398 - INFO - Including file: [/data/kb_766/EyeAI_working/deriva-ml/execution/5-51CA/asset/eye-ai/Fundus_Bounding_Box/Cropped_2-D7PT.svg].\n",
      "2025-09-22 14:37:01,398 - INFO - Including file: [/data/kb_766/EyeAI_working/deriva-ml/execution/5-51CA/asset/eye-ai/Fundus_Bounding_Box/Cropped_2-D7PY.svg].\n",
      "2025-09-22 14:37:01,399 - INFO - Including file: [/data/kb_766/EyeAI_working/deriva-ml/execution/5-51CA/asset/eye-ai/Fundus_Bounding_Box/Cropped_2-D7T0.svg].\n",
      "2025-09-22 14:37:01,402 - INFO - Including file: [/data/kb_766/EyeAI_working/deriva-ml/execution/5-51CA/asset/eye-ai/Fundus_Bounding_Box/Cropped_2-D7T2.svg].\n",
      "2025-09-22 14:37:01,403 - INFO - Including file: [/data/kb_766/EyeAI_working/deriva-ml/execution/5-51CA/asset/eye-ai/Fundus_Bounding_Box/Cropped_2-D7V0.svg].\n",
      "2025-09-22 14:37:01,403 - INFO - Including file: [/data/kb_766/EyeAI_working/deriva-ml/execution/5-51CA/asset/eye-ai/Fundus_Bounding_Box/Cropped_2-D7V8.svg].\n",
      "2025-09-22 14:37:01,404 - INFO - Including file: [/data/kb_766/EyeAI_working/deriva-ml/execution/5-51CA/asset/eye-ai/Fundus_Bounding_Box/Cropped_2-D7XA.svg].\n",
      "2025-09-22 14:37:01,405 - INFO - Including file: [/data/kb_766/EyeAI_working/deriva-ml/execution/5-51CA/asset/eye-ai/Fundus_Bounding_Box/Cropped_2-D7XC.svg].\n",
      "2025-09-22 14:37:01,405 - INFO - Including file: [/data/kb_766/EyeAI_working/deriva-ml/execution/5-51CA/asset/eye-ai/Fundus_Bounding_Box/Cropped_2-D7YT.svg].\n",
      "2025-09-22 14:37:01,406 - INFO - Including file: [/data/kb_766/EyeAI_working/deriva-ml/execution/5-51CA/asset/eye-ai/Fundus_Bounding_Box/Cropped_2-D7Z0.svg].\n",
      "2025-09-22 14:37:01,406 - INFO - Including file: [/data/kb_766/EyeAI_working/deriva-ml/execution/5-51CA/asset/eye-ai/Fundus_Bounding_Box/Cropped_2-D7Z4.svg].\n",
      "2025-09-22 14:37:01,407 - INFO - Including file: [/data/kb_766/EyeAI_working/deriva-ml/execution/5-51CA/asset/eye-ai/Fundus_Bounding_Box/Cropped_2-D7ZA.svg].\n",
      "2025-09-22 14:37:01,407 - INFO - Including file: [/data/kb_766/EyeAI_working/deriva-ml/execution/5-51CA/asset/eye-ai/Fundus_Bounding_Box/Cropped_2-D8CC.svg].\n",
      "2025-09-22 14:37:01,410 - INFO - Including file: [/data/kb_766/EyeAI_working/deriva-ml/execution/5-51CA/asset/eye-ai/Fundus_Bounding_Box/Cropped_2-D8CM.svg].\n",
      "2025-09-22 14:37:01,410 - INFO - Including file: [/data/kb_766/EyeAI_working/deriva-ml/execution/5-51CA/asset/eye-ai/Fundus_Bounding_Box/Cropped_2-D8DM.svg].\n",
      "2025-09-22 14:37:01,411 - INFO - Including file: [/data/kb_766/EyeAI_working/deriva-ml/execution/5-51CA/asset/eye-ai/Fundus_Bounding_Box/Cropped_2-D8DP.svg].\n",
      "2025-09-22 14:37:01,412 - INFO - Including file: [/data/kb_766/EyeAI_working/deriva-ml/execution/5-51CA/asset/eye-ai/Fundus_Bounding_Box/Cropped_2-D8F0.svg].\n",
      "2025-09-22 14:37:01,412 - INFO - Including file: [/data/kb_766/EyeAI_working/deriva-ml/execution/5-51CA/asset/eye-ai/Fundus_Bounding_Box/Cropped_2-D8F8.svg].\n",
      "2025-09-22 14:37:01,413 - INFO - Including file: [/data/kb_766/EyeAI_working/deriva-ml/execution/5-51CA/asset/eye-ai/Fundus_Bounding_Box/Cropped_2-D8FE.svg].\n",
      "2025-09-22 14:37:01,413 - INFO - Including file: [/data/kb_766/EyeAI_working/deriva-ml/execution/5-51CA/asset/eye-ai/Fundus_Bounding_Box/Cropped_2-D8FG.svg].\n",
      "2025-09-22 14:37:01,414 - INFO - Including file: [/data/kb_766/EyeAI_working/deriva-ml/execution/5-51CA/asset/eye-ai/Fundus_Bounding_Box/Cropped_2-D8JC.svg].\n",
      "2025-09-22 14:37:01,414 - INFO - Including file: [/data/kb_766/EyeAI_working/deriva-ml/execution/5-51CA/asset/eye-ai/Fundus_Bounding_Box/Cropped_2-D8JE.svg].\n",
      "2025-09-22 14:37:01,415 - INFO - Including file: [/data/kb_766/EyeAI_working/deriva-ml/execution/5-51CA/asset/eye-ai/Fundus_Bounding_Box/Cropped_2-D8K8.svg].\n",
      "2025-09-22 14:37:01,416 - INFO - Including file: [/data/kb_766/EyeAI_working/deriva-ml/execution/5-51CA/asset/eye-ai/Fundus_Bounding_Box/Cropped_2-D8KC.svg].\n",
      "2025-09-22 14:37:01,416 - INFO - Including file: [/data/kb_766/EyeAI_working/deriva-ml/execution/5-51CA/asset/eye-ai/Fundus_Bounding_Box/Cropped_2-D8QY.svg].\n",
      "2025-09-22 14:37:01,417 - INFO - Including file: [/data/kb_766/EyeAI_working/deriva-ml/execution/5-51CA/asset/eye-ai/Fundus_Bounding_Box/Cropped_2-D8R2.svg].\n",
      "2025-09-22 14:37:01,417 - INFO - Including file: [/data/kb_766/EyeAI_working/deriva-ml/execution/5-51CA/asset/eye-ai/Fundus_Bounding_Box/Cropped_2-D8S4.svg].\n",
      "2025-09-22 14:37:01,418 - INFO - Including file: [/data/kb_766/EyeAI_working/deriva-ml/execution/5-51CA/asset/eye-ai/Fundus_Bounding_Box/Cropped_2-D8S6.svg].\n",
      "2025-09-22 14:37:01,419 - INFO - Including file: [/data/kb_766/EyeAI_working/deriva-ml/execution/5-51CA/asset/eye-ai/Fundus_Bounding_Box/Cropped_2-D930.svg].\n",
      "2025-09-22 14:37:01,419 - INFO - Including file: [/data/kb_766/EyeAI_working/deriva-ml/execution/5-51CA/asset/eye-ai/Fundus_Bounding_Box/Cropped_2-D932.svg].\n",
      "2025-09-22 14:37:01,420 - INFO - Including file: [/data/kb_766/EyeAI_working/deriva-ml/execution/5-51CA/asset/eye-ai/Fundus_Bounding_Box/Cropped_2-D96A.svg].\n",
      "2025-09-22 14:37:01,420 - INFO - Including file: [/data/kb_766/EyeAI_working/deriva-ml/execution/5-51CA/asset/eye-ai/Fundus_Bounding_Box/Cropped_2-D96E.svg].\n",
      "2025-09-22 14:37:01,421 - INFO - Including file: [/data/kb_766/EyeAI_working/deriva-ml/execution/5-51CA/asset/eye-ai/Fundus_Bounding_Box/Cropped_2-D98W.svg].\n",
      "2025-09-22 14:37:01,422 - INFO - Including file: [/data/kb_766/EyeAI_working/deriva-ml/execution/5-51CA/asset/eye-ai/Fundus_Bounding_Box/Cropped_2-D996.svg].\n",
      "2025-09-22 14:37:01,426 - INFO - Including file: [/data/kb_766/EyeAI_working/deriva-ml/execution/5-51CA/asset/eye-ai/Fundus_Bounding_Box/Cropped_2-D9BR.svg].\n",
      "2025-09-22 14:37:01,426 - INFO - Including file: [/data/kb_766/EyeAI_working/deriva-ml/execution/5-51CA/asset/eye-ai/Fundus_Bounding_Box/Cropped_2-D9BT.svg].\n",
      "2025-09-22 14:37:01,427 - INFO - Including file: [/data/kb_766/EyeAI_working/deriva-ml/execution/5-51CA/asset/eye-ai/Fundus_Bounding_Box/Cropped_2-D9FC.svg].\n",
      "2025-09-22 14:37:01,427 - INFO - Including file: [/data/kb_766/EyeAI_working/deriva-ml/execution/5-51CA/asset/eye-ai/Fundus_Bounding_Box/Cropped_2-D9FM.svg].\n",
      "2025-09-22 14:37:01,428 - INFO - Including file: [/data/kb_766/EyeAI_working/deriva-ml/execution/5-51CA/asset/eye-ai/Fundus_Bounding_Box/Cropped_2-D9KW.svg].\n",
      "2025-09-22 14:37:01,428 - INFO - Including file: [/data/kb_766/EyeAI_working/deriva-ml/execution/5-51CA/asset/eye-ai/Fundus_Bounding_Box/Cropped_2-D9KY.svg].\n",
      "2025-09-22 14:37:01,429 - INFO - Including file: [/data/kb_766/EyeAI_working/deriva-ml/execution/5-51CA/asset/eye-ai/Fundus_Bounding_Box/Cropped_2-D9MA.svg].\n",
      "2025-09-22 14:37:01,429 - INFO - Including file: [/data/kb_766/EyeAI_working/deriva-ml/execution/5-51CA/asset/eye-ai/Fundus_Bounding_Box/Cropped_2-D9MC.svg].\n",
      "2025-09-22 14:37:01,431 - INFO - Including file: [/data/kb_766/EyeAI_working/deriva-ml/execution/5-51CA/asset/eye-ai/Fundus_Bounding_Box/Cropped_2-D9MM.svg].\n",
      "2025-09-22 14:37:01,431 - INFO - Including file: [/data/kb_766/EyeAI_working/deriva-ml/execution/5-51CA/asset/eye-ai/Fundus_Bounding_Box/Cropped_2-D9MR.svg].\n",
      "2025-09-22 14:37:01,432 - INFO - Including file: [/data/kb_766/EyeAI_working/deriva-ml/execution/5-51CA/asset/eye-ai/Fundus_Bounding_Box/Cropped_2-D9NA.svg].\n",
      "2025-09-22 14:37:01,432 - INFO - Including file: [/data/kb_766/EyeAI_working/deriva-ml/execution/5-51CA/asset/eye-ai/Fundus_Bounding_Box/Cropped_2-D9NC.svg].\n",
      "2025-09-22 14:37:01,433 - INFO - Including file: [/data/kb_766/EyeAI_working/deriva-ml/execution/5-51CA/asset/eye-ai/Fundus_Bounding_Box/Cropped_2-D9PJ.svg].\n",
      "2025-09-22 14:37:01,433 - INFO - Including file: [/data/kb_766/EyeAI_working/deriva-ml/execution/5-51CA/asset/eye-ai/Fundus_Bounding_Box/Cropped_2-D9PR.svg].\n",
      "2025-09-22 14:37:01,434 - INFO - Including file: [/data/kb_766/EyeAI_working/deriva-ml/execution/5-51CA/asset/eye-ai/Fundus_Bounding_Box/Cropped_2-D9WP.svg].\n",
      "2025-09-22 14:37:01,434 - INFO - Including file: [/data/kb_766/EyeAI_working/deriva-ml/execution/5-51CA/asset/eye-ai/Fundus_Bounding_Box/Cropped_2-D9WT.svg].\n",
      "2025-09-22 14:37:01,435 - INFO - Including file: [/data/kb_766/EyeAI_working/deriva-ml/execution/5-51CA/asset/eye-ai/Fundus_Bounding_Box/Cropped_2-DA5R.svg].\n",
      "2025-09-22 14:37:01,435 - INFO - Including file: [/data/kb_766/EyeAI_working/deriva-ml/execution/5-51CA/asset/eye-ai/Fundus_Bounding_Box/Cropped_2-DA5Y.svg].\n",
      "2025-09-22 14:37:01,437 - INFO - Including file: [/data/kb_766/EyeAI_working/deriva-ml/execution/5-51CA/asset/eye-ai/Fundus_Bounding_Box/Cropped_2-DA6R.svg].\n",
      "2025-09-22 14:37:01,437 - INFO - Including file: [/data/kb_766/EyeAI_working/deriva-ml/execution/5-51CA/asset/eye-ai/Fundus_Bounding_Box/Cropped_2-DA6T.svg].\n",
      "2025-09-22 14:37:01,438 - INFO - Including file: [/data/kb_766/EyeAI_working/deriva-ml/execution/5-51CA/asset/eye-ai/Fundus_Bounding_Box/Cropped_2-DAB4.svg].\n",
      "2025-09-22 14:37:01,438 - INFO - Including file: [/data/kb_766/EyeAI_working/deriva-ml/execution/5-51CA/asset/eye-ai/Fundus_Bounding_Box/Cropped_2-DABA.svg].\n",
      "2025-09-22 14:37:01,439 - INFO - Including file: [/data/kb_766/EyeAI_working/deriva-ml/execution/5-51CA/asset/eye-ai/Fundus_Bounding_Box/Cropped_2-DAT0.svg].\n",
      "2025-09-22 14:37:01,439 - INFO - Including file: [/data/kb_766/EyeAI_working/deriva-ml/execution/5-51CA/asset/eye-ai/Fundus_Bounding_Box/Cropped_2-DAT2.svg].\n",
      "2025-09-22 14:37:01,440 - INFO - Including file: [/data/kb_766/EyeAI_working/deriva-ml/execution/5-51CA/asset/eye-ai/Fundus_Bounding_Box/Cropped_2-DAY6.svg].\n",
      "2025-09-22 14:37:01,441 - INFO - Including file: [/data/kb_766/EyeAI_working/deriva-ml/execution/5-51CA/asset/eye-ai/Fundus_Bounding_Box/Cropped_2-DAYE.svg].\n",
      "2025-09-22 14:37:01,441 - INFO - Including file: [/data/kb_766/EyeAI_working/deriva-ml/execution/5-51CA/asset/eye-ai/Fundus_Bounding_Box/Cropped_2-DAZC.svg].\n",
      "2025-09-22 14:37:01,442 - INFO - Including file: [/data/kb_766/EyeAI_working/deriva-ml/execution/5-51CA/asset/eye-ai/Fundus_Bounding_Box/Cropped_2-DAZG.svg].\n",
      "2025-09-22 14:37:01,443 - INFO - Including file: [/data/kb_766/EyeAI_working/deriva-ml/execution/5-51CA/asset/eye-ai/Fundus_Bounding_Box/Cropped_2-DB6T.svg].\n",
      "2025-09-22 14:37:01,443 - INFO - Including file: [/data/kb_766/EyeAI_working/deriva-ml/execution/5-51CA/asset/eye-ai/Fundus_Bounding_Box/Cropped_2-DB72.svg].\n",
      "2025-09-22 14:37:01,444 - INFO - Including file: [/data/kb_766/EyeAI_working/deriva-ml/execution/5-51CA/asset/eye-ai/Fundus_Bounding_Box/Cropped_2-DB7J.svg].\n",
      "2025-09-22 14:37:01,444 - INFO - Including file: [/data/kb_766/EyeAI_working/deriva-ml/execution/5-51CA/asset/eye-ai/Fundus_Bounding_Box/Cropped_2-DB7R.svg].\n",
      "2025-09-22 14:37:01,445 - INFO - Including file: [/data/kb_766/EyeAI_working/deriva-ml/execution/5-51CA/asset/eye-ai/Fundus_Bounding_Box/Cropped_2-DBBP.svg].\n",
      "2025-09-22 14:37:01,445 - INFO - Including file: [/data/kb_766/EyeAI_working/deriva-ml/execution/5-51CA/asset/eye-ai/Fundus_Bounding_Box/Cropped_2-DBBT.svg].\n",
      "2025-09-22 14:37:01,447 - INFO - Including file: [/data/kb_766/EyeAI_working/deriva-ml/execution/5-51CA/asset/eye-ai/Fundus_Bounding_Box/Cropped_2-DBDT.svg].\n",
      "2025-09-22 14:37:01,447 - INFO - Including file: [/data/kb_766/EyeAI_working/deriva-ml/execution/5-51CA/asset/eye-ai/Fundus_Bounding_Box/Cropped_2-DBE0.svg].\n",
      "2025-09-22 14:37:01,448 - INFO - Including file: [/data/kb_766/EyeAI_working/deriva-ml/execution/5-51CA/asset/eye-ai/Fundus_Bounding_Box/Cropped_2-DBE6.svg].\n",
      "2025-09-22 14:37:01,448 - INFO - Including file: [/data/kb_766/EyeAI_working/deriva-ml/execution/5-51CA/asset/eye-ai/Fundus_Bounding_Box/Cropped_2-DBEC.svg].\n",
      "2025-09-22 14:37:01,449 - INFO - Including file: [/data/kb_766/EyeAI_working/deriva-ml/execution/5-51CA/asset/eye-ai/Fundus_Bounding_Box/Cropped_2-DBEW.svg].\n",
      "2025-09-22 14:37:01,449 - INFO - Including file: [/data/kb_766/EyeAI_working/deriva-ml/execution/5-51CA/asset/eye-ai/Fundus_Bounding_Box/Cropped_2-DBF2.svg].\n",
      "2025-09-22 14:37:01,450 - INFO - Including file: [/data/kb_766/EyeAI_working/deriva-ml/execution/5-51CA/asset/eye-ai/Fundus_Bounding_Box/Cropped_2-DBFC.svg].\n",
      "2025-09-22 14:37:01,450 - INFO - Including file: [/data/kb_766/EyeAI_working/deriva-ml/execution/5-51CA/asset/eye-ai/Fundus_Bounding_Box/Cropped_2-DBFG.svg].\n",
      "2025-09-22 14:37:01,451 - INFO - Including file: [/data/kb_766/EyeAI_working/deriva-ml/execution/5-51CA/asset/eye-ai/Fundus_Bounding_Box/Cropped_2-DBPA.svg].\n",
      "2025-09-22 14:37:01,451 - INFO - Including file: [/data/kb_766/EyeAI_working/deriva-ml/execution/5-51CA/asset/eye-ai/Fundus_Bounding_Box/Cropped_2-DBPJ.svg].\n",
      "2025-09-22 14:37:01,452 - INFO - Including file: [/data/kb_766/EyeAI_working/deriva-ml/execution/5-51CA/asset/eye-ai/Fundus_Bounding_Box/Cropped_2-DBQW.svg].\n",
      "2025-09-22 14:37:01,452 - INFO - Including file: [/data/kb_766/EyeAI_working/deriva-ml/execution/5-51CA/asset/eye-ai/Fundus_Bounding_Box/Cropped_2-DBR2.svg].\n",
      "2025-09-22 14:37:01,453 - INFO - Including file: [/data/kb_766/EyeAI_working/deriva-ml/execution/5-51CA/asset/eye-ai/Fundus_Bounding_Box/Cropped_2-DBXR.svg].\n",
      "2025-09-22 14:37:01,453 - INFO - Including file: [/data/kb_766/EyeAI_working/deriva-ml/execution/5-51CA/asset/eye-ai/Fundus_Bounding_Box/Cropped_2-DBXT.svg].\n",
      "2025-09-22 14:37:01,454 - INFO - Including file: [/data/kb_766/EyeAI_working/deriva-ml/execution/5-51CA/asset/eye-ai/Fundus_Bounding_Box/Cropped_2-DBXY.svg].\n",
      "2025-09-22 14:37:01,454 - INFO - Including file: [/data/kb_766/EyeAI_working/deriva-ml/execution/5-51CA/asset/eye-ai/Fundus_Bounding_Box/Cropped_2-DBY0.svg].\n",
      "2025-09-22 14:37:01,455 - INFO - Including file: [/data/kb_766/EyeAI_working/deriva-ml/execution/5-51CA/asset/eye-ai/Fundus_Bounding_Box/Cropped_2-DC1R.svg].\n",
      "2025-09-22 14:37:01,455 - INFO - Including file: [/data/kb_766/EyeAI_working/deriva-ml/execution/5-51CA/asset/eye-ai/Fundus_Bounding_Box/Cropped_2-DC1W.svg].\n",
      "2025-09-22 14:37:01,456 - INFO - Including file: [/data/kb_766/EyeAI_working/deriva-ml/execution/5-51CA/asset/eye-ai/Fundus_Bounding_Box/Cropped_2-DC6Y.svg].\n",
      "2025-09-22 14:37:01,456 - INFO - Including file: [/data/kb_766/EyeAI_working/deriva-ml/execution/5-51CA/asset/eye-ai/Fundus_Bounding_Box/Cropped_2-DC70.svg].\n",
      "2025-09-22 14:37:01,461 - INFO - Including file: [/data/kb_766/EyeAI_working/deriva-ml/execution/5-51CA/asset/eye-ai/Fundus_Bounding_Box/Cropped_2-DC8A.svg].\n",
      "2025-09-22 14:37:01,462 - INFO - Including file: [/data/kb_766/EyeAI_working/deriva-ml/execution/5-51CA/asset/eye-ai/Fundus_Bounding_Box/Cropped_2-DC8C.svg].\n",
      "2025-09-22 14:37:01,463 - INFO - Including file: [/data/kb_766/EyeAI_working/deriva-ml/execution/5-51CA/asset/eye-ai/Fundus_Bounding_Box/Cropped_2-DCE0.svg].\n",
      "2025-09-22 14:37:01,463 - INFO - Including file: [/data/kb_766/EyeAI_working/deriva-ml/execution/5-51CA/asset/eye-ai/Fundus_Bounding_Box/Cropped_2-DCE6.svg].\n",
      "2025-09-22 14:37:01,464 - INFO - Including file: [/data/kb_766/EyeAI_working/deriva-ml/execution/5-51CA/asset/eye-ai/Fundus_Bounding_Box/Cropped_2-DCKR.svg].\n",
      "2025-09-22 14:37:01,464 - INFO - Including file: [/data/kb_766/EyeAI_working/deriva-ml/execution/5-51CA/asset/eye-ai/Fundus_Bounding_Box/Cropped_2-DCKY.svg].\n",
      "2025-09-22 14:37:01,465 - INFO - Including file: [/data/kb_766/EyeAI_working/deriva-ml/execution/5-51CA/asset/eye-ai/Fundus_Bounding_Box/Cropped_2-DCN0.svg].\n",
      "2025-09-22 14:37:01,465 - INFO - Including file: [/data/kb_766/EyeAI_working/deriva-ml/execution/5-51CA/asset/eye-ai/Fundus_Bounding_Box/Cropped_2-DCN2.svg].\n",
      "2025-09-22 14:37:01,466 - INFO - Including file: [/data/kb_766/EyeAI_working/deriva-ml/execution/5-51CA/asset/eye-ai/Fundus_Bounding_Box/Cropped_2-DCPP.svg].\n",
      "2025-09-22 14:37:01,468 - INFO - Including file: [/data/kb_766/EyeAI_working/deriva-ml/execution/5-51CA/asset/eye-ai/Fundus_Bounding_Box/Cropped_2-DCPW.svg].\n",
      "2025-09-22 14:37:01,469 - INFO - Including file: [/data/kb_766/EyeAI_working/deriva-ml/execution/5-51CA/asset/eye-ai/Fundus_Bounding_Box/Cropped_2-DCS8.svg].\n",
      "2025-09-22 14:37:01,469 - INFO - Including file: [/data/kb_766/EyeAI_working/deriva-ml/execution/5-51CA/asset/eye-ai/Fundus_Bounding_Box/Cropped_2-DCSE.svg].\n",
      "2025-09-22 14:37:01,470 - INFO - Including file: [/data/kb_766/EyeAI_working/deriva-ml/execution/5-51CA/asset/eye-ai/Fundus_Bounding_Box/Cropped_2-DCSM.svg].\n",
      "2025-09-22 14:37:01,471 - INFO - Including file: [/data/kb_766/EyeAI_working/deriva-ml/execution/5-51CA/asset/eye-ai/Fundus_Bounding_Box/Cropped_2-DCSP.svg].\n",
      "2025-09-22 14:37:01,471 - INFO - Including file: [/data/kb_766/EyeAI_working/deriva-ml/execution/5-51CA/asset/eye-ai/Fundus_Bounding_Box/Cropped_2-DCW6.svg].\n",
      "2025-09-22 14:37:01,472 - INFO - Including file: [/data/kb_766/EyeAI_working/deriva-ml/execution/5-51CA/asset/eye-ai/Fundus_Bounding_Box/Cropped_2-DCW8.svg].\n",
      "2025-09-22 14:37:01,472 - INFO - Including file: [/data/kb_766/EyeAI_working/deriva-ml/execution/5-51CA/asset/eye-ai/Fundus_Bounding_Box/Cropped_2-DCXW.svg].\n",
      "2025-09-22 14:37:01,473 - INFO - Including file: [/data/kb_766/EyeAI_working/deriva-ml/execution/5-51CA/asset/eye-ai/Fundus_Bounding_Box/Cropped_2-DCXY.svg].\n",
      "2025-09-22 14:37:01,473 - INFO - Including file: [/data/kb_766/EyeAI_working/deriva-ml/execution/5-51CA/asset/eye-ai/Fundus_Bounding_Box/Cropped_2-DD54.svg].\n",
      "2025-09-22 14:37:01,474 - INFO - Including file: [/data/kb_766/EyeAI_working/deriva-ml/execution/5-51CA/asset/eye-ai/Fundus_Bounding_Box/Cropped_2-DD6W.svg].\n",
      "2025-09-22 14:37:01,475 - INFO - Including file: [/data/kb_766/EyeAI_working/deriva-ml/execution/5-51CA/asset/eye-ai/Fundus_Bounding_Box/Cropped_2-DD70.svg].\n",
      "2025-09-22 14:37:01,475 - INFO - Including file: [/data/kb_766/EyeAI_working/deriva-ml/execution/5-51CA/asset/eye-ai/Fundus_Bounding_Box/Cropped_2-DDAA.svg].\n",
      "2025-09-22 14:37:01,478 - INFO - Including file: [/data/kb_766/EyeAI_working/deriva-ml/execution/5-51CA/asset/eye-ai/Fundus_Bounding_Box/Cropped_2-DDAG.svg].\n",
      "2025-09-22 14:37:01,479 - INFO - Including file: [/data/kb_766/EyeAI_working/deriva-ml/execution/5-51CA/asset/eye-ai/Fundus_Bounding_Box/Cropped_2-DDHJ.svg].\n",
      "2025-09-22 14:37:01,479 - INFO - Including file: [/data/kb_766/EyeAI_working/deriva-ml/execution/5-51CA/asset/eye-ai/Fundus_Bounding_Box/Cropped_2-DDHP.svg].\n",
      "2025-09-22 14:37:01,480 - INFO - Including file: [/data/kb_766/EyeAI_working/deriva-ml/execution/5-51CA/asset/eye-ai/Fundus_Bounding_Box/Cropped_2-DDHW.svg].\n",
      "2025-09-22 14:37:01,480 - INFO - Including file: [/data/kb_766/EyeAI_working/deriva-ml/execution/5-51CA/asset/eye-ai/Fundus_Bounding_Box/Cropped_2-DDKA.svg].\n",
      "2025-09-22 14:37:01,481 - INFO - Including file: [/data/kb_766/EyeAI_working/deriva-ml/execution/5-51CA/asset/eye-ai/Fundus_Bounding_Box/Cropped_2-DDKC.svg].\n",
      "2025-09-22 14:37:01,481 - INFO - Including file: [/data/kb_766/EyeAI_working/deriva-ml/execution/5-51CA/asset/eye-ai/Fundus_Bounding_Box/Cropped_2-DDR4.svg].\n",
      "2025-09-22 14:37:01,482 - INFO - Including file: [/data/kb_766/EyeAI_working/deriva-ml/execution/5-51CA/asset/eye-ai/Fundus_Bounding_Box/Cropped_2-DDRA.svg].\n",
      "2025-09-22 14:37:01,482 - INFO - Including file: [/data/kb_766/EyeAI_working/deriva-ml/execution/5-51CA/asset/eye-ai/Fundus_Bounding_Box/Cropped_2-DE94.svg].\n",
      "2025-09-22 14:37:01,483 - INFO - Including file: [/data/kb_766/EyeAI_working/deriva-ml/execution/5-51CA/asset/eye-ai/Fundus_Bounding_Box/Cropped_2-DE96.svg].\n",
      "2025-09-22 14:37:01,483 - INFO - Including file: [/data/kb_766/EyeAI_working/deriva-ml/execution/5-51CA/asset/eye-ai/Fundus_Bounding_Box/Cropped_2-DEDR.svg].\n",
      "2025-09-22 14:37:01,484 - INFO - Including file: [/data/kb_766/EyeAI_working/deriva-ml/execution/5-51CA/asset/eye-ai/Fundus_Bounding_Box/Cropped_2-DEDW.svg].\n",
      "2025-09-22 14:37:01,484 - INFO - Including file: [/data/kb_766/EyeAI_working/deriva-ml/execution/5-51CA/asset/eye-ai/Fundus_Bounding_Box/Cropped_2-DEFM.svg].\n",
      "2025-09-22 14:37:01,485 - INFO - Including file: [/data/kb_766/EyeAI_working/deriva-ml/execution/5-51CA/asset/eye-ai/Fundus_Bounding_Box/Cropped_2-DEFP.svg].\n",
      "2025-09-22 14:37:01,485 - INFO - Including file: [/data/kb_766/EyeAI_working/deriva-ml/execution/5-51CA/asset/eye-ai/Fundus_Bounding_Box/Cropped_2-DEK8.svg].\n",
      "2025-09-22 14:37:01,486 - INFO - Including file: [/data/kb_766/EyeAI_working/deriva-ml/execution/5-51CA/asset/eye-ai/Fundus_Bounding_Box/Cropped_2-DEKA.svg].\n",
      "2025-09-22 14:37:01,490 - INFO - Including file: [/data/kb_766/EyeAI_working/deriva-ml/execution/5-51CA/asset/eye-ai/Fundus_Bounding_Box/Cropped_2-DEWG.svg].\n",
      "2025-09-22 14:37:01,491 - INFO - Including file: [/data/kb_766/EyeAI_working/deriva-ml/execution/5-51CA/asset/eye-ai/Fundus_Bounding_Box/Cropped_2-DEWM.svg].\n",
      "2025-09-22 14:37:01,491 - INFO - Including file: [/data/kb_766/EyeAI_working/deriva-ml/execution/5-51CA/asset/eye-ai/Fundus_Bounding_Box/Cropped_2-DF7G.svg].\n",
      "2025-09-22 14:37:01,492 - INFO - Including file: [/data/kb_766/EyeAI_working/deriva-ml/execution/5-51CA/asset/eye-ai/Fundus_Bounding_Box/Cropped_2-DF7P.svg].\n",
      "2025-09-22 14:37:01,492 - INFO - Including file: [/data/kb_766/EyeAI_working/deriva-ml/execution/5-51CA/asset/eye-ai/Fundus_Bounding_Box/Cropped_2-DFA0.svg].\n",
      "2025-09-22 14:37:01,493 - INFO - Including file: [/data/kb_766/EyeAI_working/deriva-ml/execution/5-51CA/asset/eye-ai/Fundus_Bounding_Box/Cropped_2-DFA8.svg].\n",
      "2025-09-22 14:37:01,493 - INFO - Including file: [/data/kb_766/EyeAI_working/deriva-ml/execution/5-51CA/asset/eye-ai/Fundus_Bounding_Box/Cropped_2-DFCA.svg].\n",
      "2025-09-22 14:37:01,494 - INFO - Including file: [/data/kb_766/EyeAI_working/deriva-ml/execution/5-51CA/asset/eye-ai/Fundus_Bounding_Box/Cropped_2-DFCC.svg].\n",
      "2025-09-22 14:37:01,495 - INFO - Including file: [/data/kb_766/EyeAI_working/deriva-ml/execution/5-51CA/asset/eye-ai/Fundus_Bounding_Box/Cropped_2-DFK6.svg].\n",
      "2025-09-22 14:37:01,496 - INFO - Including file: [/data/kb_766/EyeAI_working/deriva-ml/execution/5-51CA/asset/eye-ai/Fundus_Bounding_Box/Cropped_2-DFK8.svg].\n",
      "2025-09-22 14:37:01,496 - INFO - Including file: [/data/kb_766/EyeAI_working/deriva-ml/execution/5-51CA/asset/eye-ai/Fundus_Bounding_Box/Cropped_2-DFKE.svg].\n",
      "2025-09-22 14:37:01,497 - INFO - Including file: [/data/kb_766/EyeAI_working/deriva-ml/execution/5-51CA/asset/eye-ai/Fundus_Bounding_Box/Cropped_2-DFVJ.svg].\n",
      "2025-09-22 14:37:01,497 - INFO - Including file: [/data/kb_766/EyeAI_working/deriva-ml/execution/5-51CA/asset/eye-ai/Fundus_Bounding_Box/Cropped_2-DFVP.svg].\n",
      "2025-09-22 14:37:01,498 - INFO - Including file: [/data/kb_766/EyeAI_working/deriva-ml/execution/5-51CA/asset/eye-ai/Fundus_Bounding_Box/Cropped_2-DG72.svg].\n",
      "2025-09-22 14:37:01,498 - INFO - Including file: [/data/kb_766/EyeAI_working/deriva-ml/execution/5-51CA/asset/eye-ai/Fundus_Bounding_Box/Cropped_2-DG74.svg].\n",
      "2025-09-22 14:37:01,499 - INFO - Including file: [/data/kb_766/EyeAI_working/deriva-ml/execution/5-51CA/asset/eye-ai/Fundus_Bounding_Box/Cropped_2-DGE4.svg].\n",
      "2025-09-22 14:37:01,499 - INFO - Including file: [/data/kb_766/EyeAI_working/deriva-ml/execution/5-51CA/asset/eye-ai/Fundus_Bounding_Box/Cropped_2-DGE6.svg].\n",
      "2025-09-22 14:37:01,500 - INFO - Including file: [/data/kb_766/EyeAI_working/deriva-ml/execution/5-51CA/asset/eye-ai/Fundus_Bounding_Box/Cropped_2-DGK4.svg].\n",
      "2025-09-22 14:37:01,500 - INFO - Including file: [/data/kb_766/EyeAI_working/deriva-ml/execution/5-51CA/asset/eye-ai/Fundus_Bounding_Box/Cropped_2-DGKC.svg].\n",
      "2025-09-22 14:37:01,501 - INFO - Including file: [/data/kb_766/EyeAI_working/deriva-ml/execution/5-51CA/asset/eye-ai/Fundus_Bounding_Box/Cropped_2-DGMR.svg].\n",
      "2025-09-22 14:37:01,501 - INFO - Including file: [/data/kb_766/EyeAI_working/deriva-ml/execution/5-51CA/asset/eye-ai/Fundus_Bounding_Box/Cropped_2-DGMW.svg].\n",
      "2025-09-22 14:37:01,502 - INFO - Including file: [/data/kb_766/EyeAI_working/deriva-ml/execution/5-51CA/asset/eye-ai/Fundus_Bounding_Box/Cropped_2-DGS2.svg].\n",
      "2025-09-22 14:37:01,502 - INFO - Including file: [/data/kb_766/EyeAI_working/deriva-ml/execution/5-51CA/asset/eye-ai/Fundus_Bounding_Box/Cropped_2-DGS4.svg].\n",
      "2025-09-22 14:37:01,503 - INFO - Including file: [/data/kb_766/EyeAI_working/deriva-ml/execution/5-51CA/asset/eye-ai/Fundus_Bounding_Box/Cropped_2-DH0P.svg].\n",
      "2025-09-22 14:37:01,503 - INFO - Including file: [/data/kb_766/EyeAI_working/deriva-ml/execution/5-51CA/asset/eye-ai/Fundus_Bounding_Box/Cropped_2-DH0T.svg].\n",
      "2025-09-22 14:37:01,504 - INFO - Including file: [/data/kb_766/EyeAI_working/deriva-ml/execution/5-51CA/asset/eye-ai/Fundus_Bounding_Box/Cropped_2-DH96.svg].\n",
      "2025-09-22 14:37:01,504 - INFO - Including file: [/data/kb_766/EyeAI_working/deriva-ml/execution/5-51CA/asset/eye-ai/Fundus_Bounding_Box/Cropped_2-DH9A.svg].\n",
      "2025-09-22 14:37:01,505 - INFO - Including file: [/data/kb_766/EyeAI_working/deriva-ml/execution/5-51CA/asset/eye-ai/Fundus_Bounding_Box/Cropped_2-DHET.svg].\n",
      "2025-09-22 14:37:01,505 - INFO - Including file: [/data/kb_766/EyeAI_working/deriva-ml/execution/5-51CA/asset/eye-ai/Fundus_Bounding_Box/Cropped_2-DHF0.svg].\n",
      "2025-09-22 14:37:01,506 - INFO - Including file: [/data/kb_766/EyeAI_working/deriva-ml/execution/5-51CA/asset/eye-ai/Fundus_Bounding_Box/Cropped_2-DHFW.svg].\n",
      "2025-09-22 14:37:01,511 - INFO - Including file: [/data/kb_766/EyeAI_working/deriva-ml/execution/5-51CA/asset/eye-ai/Fundus_Bounding_Box/Cropped_2-DHFY.svg].\n",
      "2025-09-22 14:37:01,511 - INFO - Including file: [/data/kb_766/EyeAI_working/deriva-ml/execution/5-51CA/asset/eye-ai/Fundus_Bounding_Box/Cropped_2-DHHJ.svg].\n",
      "2025-09-22 14:37:01,512 - INFO - Including file: [/data/kb_766/EyeAI_working/deriva-ml/execution/5-51CA/asset/eye-ai/Fundus_Bounding_Box/Cropped_2-DHHT.svg].\n",
      "2025-09-22 14:37:01,512 - INFO - Including file: [/data/kb_766/EyeAI_working/deriva-ml/execution/5-51CA/asset/eye-ai/Fundus_Bounding_Box/Cropped_2-DHQC.svg].\n",
      "2025-09-22 14:37:01,513 - INFO - Including file: [/data/kb_766/EyeAI_working/deriva-ml/execution/5-51CA/asset/eye-ai/Fundus_Bounding_Box/Cropped_2-DHQJ.svg].\n",
      "2025-09-22 14:37:01,513 - INFO - Including file: [/data/kb_766/EyeAI_working/deriva-ml/execution/5-51CA/asset/eye-ai/Fundus_Bounding_Box/Cropped_2-DHSG.svg].\n",
      "2025-09-22 14:37:01,514 - INFO - Including file: [/data/kb_766/EyeAI_working/deriva-ml/execution/5-51CA/asset/eye-ai/Fundus_Bounding_Box/Cropped_2-DHSM.svg].\n",
      "2025-09-22 14:37:01,515 - INFO - Including file: [/data/kb_766/EyeAI_working/deriva-ml/execution/5-51CA/asset/eye-ai/Fundus_Bounding_Box/Cropped_2-DHSP.svg].\n",
      "2025-09-22 14:37:01,515 - INFO - Including file: [/data/kb_766/EyeAI_working/deriva-ml/execution/5-51CA/asset/eye-ai/Fundus_Bounding_Box/Cropped_2-DHZR.svg].\n",
      "2025-09-22 14:37:01,516 - INFO - Including file: [/data/kb_766/EyeAI_working/deriva-ml/execution/5-51CA/asset/eye-ai/Fundus_Bounding_Box/Cropped_2-DHZT.svg].\n",
      "2025-09-22 14:37:01,516 - INFO - Including file: [/data/kb_766/EyeAI_working/deriva-ml/execution/5-51CA/asset/eye-ai/Fundus_Bounding_Box/Cropped_2-DJ2T.svg].\n",
      "2025-09-22 14:37:01,517 - INFO - Including file: [/data/kb_766/EyeAI_working/deriva-ml/execution/5-51CA/asset/eye-ai/Fundus_Bounding_Box/Cropped_2-DJ2W.svg].\n",
      "2025-09-22 14:37:01,517 - INFO - Including file: [/data/kb_766/EyeAI_working/deriva-ml/execution/5-51CA/asset/eye-ai/Fundus_Bounding_Box/Cropped_2-DJX4.svg].\n",
      "2025-09-22 14:37:01,518 - INFO - Including file: [/data/kb_766/EyeAI_working/deriva-ml/execution/5-51CA/asset/eye-ai/Fundus_Bounding_Box/Cropped_2-DJX6.svg].\n",
      "2025-09-22 14:37:01,518 - INFO - Including file: [/data/kb_766/EyeAI_working/deriva-ml/execution/5-51CA/asset/eye-ai/Fundus_Bounding_Box/Cropped_2-DKJT.svg].\n",
      "2025-09-22 14:37:01,519 - INFO - Including file: [/data/kb_766/EyeAI_working/deriva-ml/execution/5-51CA/asset/eye-ai/Fundus_Bounding_Box/Cropped_2-DKJY.svg].\n",
      "2025-09-22 14:37:01,519 - INFO - Including file: [/data/kb_766/EyeAI_working/deriva-ml/execution/5-51CA/asset/eye-ai/Fundus_Bounding_Box/Cropped_2-DKK4.svg].\n",
      "2025-09-22 14:37:01,520 - INFO - Including file: [/data/kb_766/EyeAI_working/deriva-ml/execution/5-51CA/asset/eye-ai/Fundus_Bounding_Box/Cropped_2-DKNG.svg].\n",
      "2025-09-22 14:37:01,522 - INFO - Including file: [/data/kb_766/EyeAI_working/deriva-ml/execution/5-51CA/asset/eye-ai/Fundus_Bounding_Box/Cropped_2-DKNM.svg].\n",
      "2025-09-22 14:37:01,523 - INFO - Including file: [/data/kb_766/EyeAI_working/deriva-ml/execution/5-51CA/asset/eye-ai/Fundus_Bounding_Box/Cropped_2-DKT0.svg].\n",
      "2025-09-22 14:37:01,523 - INFO - Including file: [/data/kb_766/EyeAI_working/deriva-ml/execution/5-51CA/asset/eye-ai/Fundus_Bounding_Box/Cropped_2-DKT2.svg].\n",
      "2025-09-22 14:37:01,524 - INFO - Including file: [/data/kb_766/EyeAI_working/deriva-ml/execution/5-51CA/asset/eye-ai/Fundus_Bounding_Box/Cropped_2-DKTC.svg].\n",
      "2025-09-22 14:37:01,524 - INFO - Including file: [/data/kb_766/EyeAI_working/deriva-ml/execution/5-51CA/asset/eye-ai/Fundus_Bounding_Box/Cropped_2-DKTM.svg].\n",
      "2025-09-22 14:37:01,525 - INFO - Including file: [/data/kb_766/EyeAI_working/deriva-ml/execution/5-51CA/asset/eye-ai/Fundus_Bounding_Box/Cropped_2-DKV6.svg].\n",
      "2025-09-22 14:37:01,525 - INFO - Including file: [/data/kb_766/EyeAI_working/deriva-ml/execution/5-51CA/asset/eye-ai/Fundus_Bounding_Box/Cropped_2-DKV8.svg].\n",
      "2025-09-22 14:37:01,525 - INFO - Including file: [/data/kb_766/EyeAI_working/deriva-ml/execution/5-51CA/asset/eye-ai/Fundus_Bounding_Box/Cropped_2-DM1T.svg].\n",
      "2025-09-22 14:37:01,526 - INFO - Including file: [/data/kb_766/EyeAI_working/deriva-ml/execution/5-51CA/asset/eye-ai/Fundus_Bounding_Box/Cropped_2-DM1W.svg].\n",
      "2025-09-22 14:37:01,526 - INFO - Including file: [/data/kb_766/EyeAI_working/deriva-ml/execution/5-51CA/asset/eye-ai/Fundus_Bounding_Box/Cropped_2-DM44.svg].\n",
      "2025-09-22 14:37:01,527 - INFO - Including file: [/data/kb_766/EyeAI_working/deriva-ml/execution/5-51CA/asset/eye-ai/Fundus_Bounding_Box/Cropped_2-DM46.svg].\n",
      "2025-09-22 14:37:01,527 - INFO - Including file: [/data/kb_766/EyeAI_working/deriva-ml/execution/5-51CA/asset/eye-ai/Fundus_Bounding_Box/Cropped_2-DM7R.svg].\n",
      "2025-09-22 14:37:01,529 - INFO - Including file: [/data/kb_766/EyeAI_working/deriva-ml/execution/5-51CA/asset/eye-ai/Fundus_Bounding_Box/Cropped_2-DM7T.svg].\n",
      "2025-09-22 14:37:01,530 - INFO - Including file: [/data/kb_766/EyeAI_working/deriva-ml/execution/5-51CA/asset/eye-ai/Fundus_Bounding_Box/Cropped_2-DMP8.svg].\n",
      "2025-09-22 14:37:01,530 - INFO - Including file: [/data/kb_766/EyeAI_working/deriva-ml/execution/5-51CA/asset/eye-ai/Fundus_Bounding_Box/Cropped_2-DMPC.svg].\n",
      "2025-09-22 14:37:01,531 - INFO - Including file: [/data/kb_766/EyeAI_working/deriva-ml/execution/5-51CA/asset/eye-ai/Fundus_Bounding_Box/Cropped_2-DN40.svg].\n",
      "2025-09-22 14:37:01,531 - INFO - Including file: [/data/kb_766/EyeAI_working/deriva-ml/execution/5-51CA/asset/eye-ai/Fundus_Bounding_Box/Cropped_2-DN42.svg].\n",
      "2025-09-22 14:37:01,532 - INFO - Including file: [/data/kb_766/EyeAI_working/deriva-ml/execution/5-51CA/asset/eye-ai/Fundus_Bounding_Box/Cropped_2-DN9C.svg].\n",
      "2025-09-22 14:37:01,532 - INFO - Including file: [/data/kb_766/EyeAI_working/deriva-ml/execution/5-51CA/asset/eye-ai/Fundus_Bounding_Box/Cropped_2-DNZ6.svg].\n",
      "2025-09-22 14:37:01,533 - INFO - Including file: [/data/kb_766/EyeAI_working/deriva-ml/execution/5-51CA/asset/eye-ai/Fundus_Bounding_Box/Cropped_2-DNZC.svg].\n",
      "2025-09-22 14:37:01,534 - INFO - Including file: [/data/kb_766/EyeAI_working/deriva-ml/execution/5-51CA/asset/eye-ai/Fundus_Bounding_Box/Cropped_2-DP0W.svg].\n",
      "2025-09-22 14:37:01,534 - INFO - Including file: [/data/kb_766/EyeAI_working/deriva-ml/execution/5-51CA/asset/eye-ai/Fundus_Bounding_Box/Cropped_2-DP10.svg].\n",
      "2025-09-22 14:37:01,535 - INFO - Including file: [/data/kb_766/EyeAI_working/deriva-ml/execution/5-51CA/asset/eye-ai/Fundus_Bounding_Box/Cropped_2-DP88.svg].\n",
      "2025-09-22 14:37:01,536 - INFO - Including file: [/data/kb_766/EyeAI_working/deriva-ml/execution/5-51CA/asset/eye-ai/Fundus_Bounding_Box/Cropped_2-DP8E.svg].\n",
      "2025-09-22 14:37:01,536 - INFO - Including file: [/data/kb_766/EyeAI_working/deriva-ml/execution/5-51CA/asset/eye-ai/Fundus_Bounding_Box/Cropped_2-DP9R.svg].\n",
      "2025-09-22 14:37:01,537 - INFO - Including file: [/data/kb_766/EyeAI_working/deriva-ml/execution/5-51CA/asset/eye-ai/Fundus_Bounding_Box/Cropped_2-DP9T.svg].\n",
      "2025-09-22 14:37:01,537 - INFO - Including file: [/data/kb_766/EyeAI_working/deriva-ml/execution/5-51CA/asset/eye-ai/Fundus_Bounding_Box/Cropped_2-DPG0.svg].\n",
      "2025-09-22 14:37:01,538 - INFO - Including file: [/data/kb_766/EyeAI_working/deriva-ml/execution/5-51CA/asset/eye-ai/Fundus_Bounding_Box/Cropped_2-DPG2.svg].\n",
      "2025-09-22 14:37:01,539 - INFO - Including file: [/data/kb_766/EyeAI_working/deriva-ml/execution/5-51CA/asset/eye-ai/Fundus_Bounding_Box/Cropped_2-DPJJ.svg].\n",
      "2025-09-22 14:37:01,540 - INFO - Including file: [/data/kb_766/EyeAI_working/deriva-ml/execution/5-51CA/asset/eye-ai/Fundus_Bounding_Box/Cropped_2-DPY8.svg].\n",
      "2025-09-22 14:37:01,540 - INFO - Including file: [/data/kb_766/EyeAI_working/deriva-ml/execution/5-51CA/asset/eye-ai/Fundus_Bounding_Box/Cropped_2-DPYA.svg].\n",
      "2025-09-22 14:37:01,540 - INFO - Including file: [/data/kb_766/EyeAI_working/deriva-ml/execution/5-51CA/asset/eye-ai/Fundus_Bounding_Box/Cropped_2-DQ1P.svg].\n",
      "2025-09-22 14:37:01,541 - INFO - Including file: [/data/kb_766/EyeAI_working/deriva-ml/execution/5-51CA/asset/eye-ai/Fundus_Bounding_Box/Cropped_2-DQ24.svg].\n",
      "2025-09-22 14:37:01,541 - INFO - Including file: [/data/kb_766/EyeAI_working/deriva-ml/execution/5-51CA/asset/eye-ai/Fundus_Bounding_Box/Cropped_2-DQ70.svg].\n",
      "2025-09-22 14:37:01,542 - INFO - Including file: [/data/kb_766/EyeAI_working/deriva-ml/execution/5-51CA/asset/eye-ai/Fundus_Bounding_Box/Cropped_2-DQ74.svg].\n",
      "2025-09-22 14:37:01,542 - INFO - Including file: [/data/kb_766/EyeAI_working/deriva-ml/execution/5-51CA/asset/eye-ai/Fundus_Bounding_Box/Cropped_2-DQ82.svg].\n",
      "2025-09-22 14:37:01,543 - INFO - Including file: [/data/kb_766/EyeAI_working/deriva-ml/execution/5-51CA/asset/eye-ai/Fundus_Bounding_Box/Cropped_2-DQ84.svg].\n",
      "2025-09-22 14:37:01,543 - INFO - Including file: [/data/kb_766/EyeAI_working/deriva-ml/execution/5-51CA/asset/eye-ai/Fundus_Bounding_Box/Cropped_2-DQCE.svg].\n",
      "2025-09-22 14:37:01,544 - INFO - Including file: [/data/kb_766/EyeAI_working/deriva-ml/execution/5-51CA/asset/eye-ai/Fundus_Bounding_Box/Cropped_2-DQCG.svg].\n",
      "2025-09-22 14:37:01,544 - INFO - Including file: [/data/kb_766/EyeAI_working/deriva-ml/execution/5-51CA/asset/eye-ai/Fundus_Bounding_Box/Cropped_2-DQMA.svg].\n",
      "2025-09-22 14:37:01,545 - INFO - Including file: [/data/kb_766/EyeAI_working/deriva-ml/execution/5-51CA/asset/eye-ai/Fundus_Bounding_Box/Cropped_2-DQME.svg].\n",
      "2025-09-22 14:37:01,545 - INFO - Including file: [/data/kb_766/EyeAI_working/deriva-ml/execution/5-51CA/asset/eye-ai/Fundus_Bounding_Box/Cropped_2-DQTA.svg].\n",
      "2025-09-22 14:37:01,546 - INFO - Including file: [/data/kb_766/EyeAI_working/deriva-ml/execution/5-51CA/asset/eye-ai/Fundus_Bounding_Box/Cropped_2-DQTE.svg].\n",
      "2025-09-22 14:37:01,546 - INFO - Including file: [/data/kb_766/EyeAI_working/deriva-ml/execution/5-51CA/asset/eye-ai/Fundus_Bounding_Box/Cropped_2-DR5A.svg].\n",
      "2025-09-22 14:37:01,547 - INFO - Including file: [/data/kb_766/EyeAI_working/deriva-ml/execution/5-51CA/asset/eye-ai/Fundus_Bounding_Box/Cropped_2-DR5C.svg].\n",
      "2025-09-22 14:37:01,547 - INFO - Including file: [/data/kb_766/EyeAI_working/deriva-ml/execution/5-51CA/asset/eye-ai/Fundus_Bounding_Box/Cropped_2-DR94.svg].\n",
      "2025-09-22 14:37:01,547 - INFO - Including file: [/data/kb_766/EyeAI_working/deriva-ml/execution/5-51CA/asset/eye-ai/Fundus_Bounding_Box/Cropped_2-DR96.svg].\n",
      "2025-09-22 14:37:01,548 - INFO - Including file: [/data/kb_766/EyeAI_working/deriva-ml/execution/5-51CA/asset/eye-ai/Fundus_Bounding_Box/Cropped_2-DRG0.svg].\n",
      "2025-09-22 14:37:01,548 - INFO - Including file: [/data/kb_766/EyeAI_working/deriva-ml/execution/5-51CA/asset/eye-ai/Fundus_Bounding_Box/Cropped_2-DRG4.svg].\n",
      "2025-09-22 14:37:01,549 - INFO - Including file: [/data/kb_766/EyeAI_working/deriva-ml/execution/5-51CA/asset/eye-ai/Fundus_Bounding_Box/Cropped_2-DRGA.svg].\n",
      "2025-09-22 14:37:01,549 - INFO - Including file: [/data/kb_766/EyeAI_working/deriva-ml/execution/5-51CA/asset/eye-ai/Fundus_Bounding_Box/Cropped_2-DRGG.svg].\n",
      "2025-09-22 14:37:01,552 - INFO - Including file: [/data/kb_766/EyeAI_working/deriva-ml/execution/5-51CA/asset/eye-ai/Fundus_Bounding_Box/Cropped_2-DRMY.svg].\n",
      "2025-09-22 14:37:01,553 - INFO - Including file: [/data/kb_766/EyeAI_working/deriva-ml/execution/5-51CA/asset/eye-ai/Fundus_Bounding_Box/Cropped_2-DRN2.svg].\n",
      "2025-09-22 14:37:01,553 - INFO - Including file: [/data/kb_766/EyeAI_working/deriva-ml/execution/5-51CA/asset/eye-ai/Fundus_Bounding_Box/Cropped_2-DRQA.svg].\n",
      "2025-09-22 14:37:01,553 - INFO - Including file: [/data/kb_766/EyeAI_working/deriva-ml/execution/5-51CA/asset/eye-ai/Fundus_Bounding_Box/Cropped_2-DRR4.svg].\n",
      "2025-09-22 14:37:01,554 - INFO - Including file: [/data/kb_766/EyeAI_working/deriva-ml/execution/5-51CA/asset/eye-ai/Fundus_Bounding_Box/Cropped_2-DRR8.svg].\n",
      "2025-09-22 14:37:01,554 - INFO - Including file: [/data/kb_766/EyeAI_working/deriva-ml/execution/5-51CA/asset/eye-ai/Fundus_Bounding_Box/Cropped_2-DRVY.svg].\n",
      "2025-09-22 14:37:01,555 - INFO - Including file: [/data/kb_766/EyeAI_working/deriva-ml/execution/5-51CA/asset/eye-ai/Fundus_Bounding_Box/Cropped_2-DRW2.svg].\n",
      "2025-09-22 14:37:01,556 - INFO - Including file: [/data/kb_766/EyeAI_working/deriva-ml/execution/5-51CA/asset/eye-ai/Fundus_Bounding_Box/Cropped_2-DRWC.svg].\n",
      "2025-09-22 14:37:01,556 - INFO - Including file: [/data/kb_766/EyeAI_working/deriva-ml/execution/5-51CA/asset/eye-ai/Fundus_Bounding_Box/Cropped_2-DRWE.svg].\n",
      "2025-09-22 14:37:01,557 - INFO - Including file: [/data/kb_766/EyeAI_working/deriva-ml/execution/5-51CA/asset/eye-ai/Fundus_Bounding_Box/Cropped_2-DS2Y.svg].\n",
      "2025-09-22 14:37:01,558 - INFO - Including file: [/data/kb_766/EyeAI_working/deriva-ml/execution/5-51CA/asset/eye-ai/Fundus_Bounding_Box/Cropped_2-DS32.svg].\n",
      "2025-09-22 14:37:01,558 - INFO - Including file: [/data/kb_766/EyeAI_working/deriva-ml/execution/5-51CA/asset/eye-ai/Fundus_Bounding_Box/Cropped_2-DS66.svg].\n",
      "2025-09-22 14:37:01,559 - INFO - Including file: [/data/kb_766/EyeAI_working/deriva-ml/execution/5-51CA/asset/eye-ai/Fundus_Bounding_Box/Cropped_2-DS68.svg].\n",
      "2025-09-22 14:37:01,559 - INFO - Including file: [/data/kb_766/EyeAI_working/deriva-ml/execution/5-51CA/asset/eye-ai/Fundus_Bounding_Box/Cropped_2-DSGE.svg].\n",
      "2025-09-22 14:37:01,560 - INFO - Including file: [/data/kb_766/EyeAI_working/deriva-ml/execution/5-51CA/asset/eye-ai/Fundus_Bounding_Box/Cropped_2-DTPJ.svg].\n",
      "2025-09-22 14:37:01,560 - INFO - Including file: [/data/kb_766/EyeAI_working/deriva-ml/execution/5-51CA/asset/eye-ai/Fundus_Bounding_Box/Cropped_2-DTPT.svg].\n",
      "2025-09-22 14:37:01,561 - INFO - Including file: [/data/kb_766/EyeAI_working/deriva-ml/execution/5-51CA/asset/eye-ai/Fundus_Bounding_Box/Cropped_2-DTQ2.svg].\n",
      "2025-09-22 14:37:01,561 - INFO - Including file: [/data/kb_766/EyeAI_working/deriva-ml/execution/5-51CA/asset/eye-ai/Fundus_Bounding_Box/Cropped_2-DTQ4.svg].\n",
      "2025-09-22 14:37:01,562 - INFO - Including file: [/data/kb_766/EyeAI_working/deriva-ml/execution/5-51CA/asset/eye-ai/Fundus_Bounding_Box/Cropped_2-DTZ6.svg].\n",
      "2025-09-22 14:37:01,562 - INFO - Including file: [/data/kb_766/EyeAI_working/deriva-ml/execution/5-51CA/asset/eye-ai/Fundus_Bounding_Box/Cropped_2-DTZE.svg].\n",
      "2025-09-22 14:37:01,562 - INFO - Including file: [/data/kb_766/EyeAI_working/deriva-ml/execution/5-51CA/asset/eye-ai/Fundus_Bounding_Box/Cropped_2-DV1M.svg].\n",
      "2025-09-22 14:37:01,563 - INFO - Including file: [/data/kb_766/EyeAI_working/deriva-ml/execution/5-51CA/asset/eye-ai/Fundus_Bounding_Box/Cropped_2-DV1P.svg].\n",
      "2025-09-22 14:37:01,563 - INFO - Including file: [/data/kb_766/EyeAI_working/deriva-ml/execution/5-51CA/asset/eye-ai/Fundus_Bounding_Box/Cropped_2-DV4T.svg].\n",
      "2025-09-22 14:37:01,564 - INFO - Including file: [/data/kb_766/EyeAI_working/deriva-ml/execution/5-51CA/asset/eye-ai/Fundus_Bounding_Box/Cropped_2-DVC2.svg].\n",
      "2025-09-22 14:37:01,564 - INFO - Including file: [/data/kb_766/EyeAI_working/deriva-ml/execution/5-51CA/asset/eye-ai/Fundus_Bounding_Box/Cropped_2-DVC6.svg].\n",
      "2025-09-22 14:37:01,565 - INFO - Including file: [/data/kb_766/EyeAI_working/deriva-ml/execution/5-51CA/asset/eye-ai/Fundus_Bounding_Box/Cropped_2-DVNT.svg].\n",
      "2025-09-22 14:37:01,565 - INFO - Including file: [/data/kb_766/EyeAI_working/deriva-ml/execution/5-51CA/asset/eye-ai/Fundus_Bounding_Box/Cropped_2-DVNY.svg].\n",
      "2025-09-22 14:37:01,566 - INFO - Including file: [/data/kb_766/EyeAI_working/deriva-ml/execution/5-51CA/asset/eye-ai/Fundus_Bounding_Box/Cropped_2-DW0M.svg].\n",
      "2025-09-22 14:37:01,566 - INFO - Including file: [/data/kb_766/EyeAI_working/deriva-ml/execution/5-51CA/asset/eye-ai/Fundus_Bounding_Box/Cropped_2-DW0R.svg].\n",
      "2025-09-22 14:37:01,567 - INFO - Including file: [/data/kb_766/EyeAI_working/deriva-ml/execution/5-51CA/asset/eye-ai/Fundus_Bounding_Box/Cropped_2-DW3J.svg].\n",
      "2025-09-22 14:37:01,567 - INFO - Including file: [/data/kb_766/EyeAI_working/deriva-ml/execution/5-51CA/asset/eye-ai/Fundus_Bounding_Box/Cropped_2-DW7Y.svg].\n",
      "2025-09-22 14:37:01,567 - INFO - Including file: [/data/kb_766/EyeAI_working/deriva-ml/execution/5-51CA/asset/eye-ai/Fundus_Bounding_Box/Cropped_2-DW82.svg].\n",
      "2025-09-22 14:37:01,568 - INFO - Including file: [/data/kb_766/EyeAI_working/deriva-ml/execution/5-51CA/asset/eye-ai/Fundus_Bounding_Box/Cropped_2-DWR2.svg].\n",
      "2025-09-22 14:37:01,568 - INFO - Including file: [/data/kb_766/EyeAI_working/deriva-ml/execution/5-51CA/asset/eye-ai/Fundus_Bounding_Box/Cropped_2-DWR4.svg].\n",
      "2025-09-22 14:37:01,569 - INFO - Including file: [/data/kb_766/EyeAI_working/deriva-ml/execution/5-51CA/asset/eye-ai/Fundus_Bounding_Box/Cropped_2-DWTT.svg].\n",
      "2025-09-22 14:37:01,571 - INFO - Including file: [/data/kb_766/EyeAI_working/deriva-ml/execution/5-51CA/asset/eye-ai/Fundus_Bounding_Box/Cropped_2-DWTW.svg].\n",
      "2025-09-22 14:37:01,571 - INFO - Including file: [/data/kb_766/EyeAI_working/deriva-ml/execution/5-51CA/asset/eye-ai/Fundus_Bounding_Box/Cropped_2-DWW4.svg].\n",
      "2025-09-22 14:37:01,573 - INFO - Including file: [/data/kb_766/EyeAI_working/deriva-ml/execution/5-51CA/asset/eye-ai/Fundus_Bounding_Box/Cropped_2-DWW6.svg].\n",
      "2025-09-22 14:37:01,574 - INFO - Including file: [/data/kb_766/EyeAI_working/deriva-ml/execution/5-51CA/asset/eye-ai/Fundus_Bounding_Box/Cropped_2-DX18.svg].\n",
      "2025-09-22 14:37:01,574 - INFO - Including file: [/data/kb_766/EyeAI_working/deriva-ml/execution/5-51CA/asset/eye-ai/Fundus_Bounding_Box/Cropped_2-DX1C.svg].\n",
      "2025-09-22 14:37:01,575 - INFO - Including file: [/data/kb_766/EyeAI_working/deriva-ml/execution/5-51CA/asset/eye-ai/Fundus_Bounding_Box/Cropped_2-DX1M.svg].\n",
      "2025-09-22 14:37:01,576 - INFO - Including file: [/data/kb_766/EyeAI_working/deriva-ml/execution/5-51CA/asset/eye-ai/Fundus_Bounding_Box/Cropped_2-DX1P.svg].\n",
      "2025-09-22 14:37:01,576 - INFO - Including file: [/data/kb_766/EyeAI_working/deriva-ml/execution/5-51CA/asset/eye-ai/Fundus_Bounding_Box/Cropped_2-DX5E.svg].\n",
      "2025-09-22 14:37:01,576 - INFO - Including file: [/data/kb_766/EyeAI_working/deriva-ml/execution/5-51CA/asset/eye-ai/Fundus_Bounding_Box/Cropped_2-DX5P.svg].\n",
      "2025-09-22 14:37:01,577 - INFO - Including file: [/data/kb_766/EyeAI_working/deriva-ml/execution/5-51CA/asset/eye-ai/Fundus_Bounding_Box/Cropped_2-DXMA.svg].\n",
      "2025-09-22 14:37:01,578 - INFO - Including file: [/data/kb_766/EyeAI_working/deriva-ml/execution/5-51CA/asset/eye-ai/Fundus_Bounding_Box/Cropped_2-DXMG.svg].\n",
      "2025-09-22 14:37:01,578 - INFO - Including file: [/data/kb_766/EyeAI_working/deriva-ml/execution/5-51CA/asset/eye-ai/Fundus_Bounding_Box/Cropped_2-DXMJ.svg].\n",
      "2025-09-22 14:37:01,578 - INFO - Including file: [/data/kb_766/EyeAI_working/deriva-ml/execution/5-51CA/asset/eye-ai/Fundus_Bounding_Box/Cropped_2-DXZ6.svg].\n",
      "2025-09-22 14:37:01,579 - INFO - Including file: [/data/kb_766/EyeAI_working/deriva-ml/execution/5-51CA/asset/eye-ai/Fundus_Bounding_Box/Cropped_2-DYCG.svg].\n",
      "2025-09-22 14:37:01,579 - INFO - Including file: [/data/kb_766/EyeAI_working/deriva-ml/execution/5-51CA/asset/eye-ai/Fundus_Bounding_Box/Cropped_2-DYCP.svg].\n",
      "2025-09-22 14:37:01,580 - INFO - Including file: [/data/kb_766/EyeAI_working/deriva-ml/execution/5-51CA/asset/eye-ai/Fundus_Bounding_Box/Cropped_2-DYFA.svg].\n",
      "2025-09-22 14:37:01,580 - INFO - Including file: [/data/kb_766/EyeAI_working/deriva-ml/execution/5-51CA/asset/eye-ai/Fundus_Bounding_Box/Cropped_2-DYFC.svg].\n",
      "2025-09-22 14:37:01,581 - INFO - Including file: [/data/kb_766/EyeAI_working/deriva-ml/execution/5-51CA/asset/eye-ai/Fundus_Bounding_Box/Cropped_2-DYHR.svg].\n",
      "2025-09-22 14:37:01,581 - INFO - Including file: [/data/kb_766/EyeAI_working/deriva-ml/execution/5-51CA/asset/eye-ai/Fundus_Bounding_Box/Cropped_2-DYJ0.svg].\n",
      "2025-09-22 14:37:01,582 - INFO - Including file: [/data/kb_766/EyeAI_working/deriva-ml/execution/5-51CA/asset/eye-ai/Fundus_Bounding_Box/Cropped_2-DYJY.svg].\n",
      "2025-09-22 14:37:01,582 - INFO - Including file: [/data/kb_766/EyeAI_working/deriva-ml/execution/5-51CA/asset/eye-ai/Fundus_Bounding_Box/Cropped_2-DYK2.svg].\n",
      "2025-09-22 14:37:01,583 - INFO - Including file: [/data/kb_766/EyeAI_working/deriva-ml/execution/5-51CA/asset/eye-ai/Fundus_Bounding_Box/Cropped_2-DYPA.svg].\n",
      "2025-09-22 14:37:01,583 - INFO - Including file: [/data/kb_766/EyeAI_working/deriva-ml/execution/5-51CA/asset/eye-ai/Fundus_Bounding_Box/Cropped_2-DYPE.svg].\n",
      "2025-09-22 14:37:01,584 - INFO - Including file: [/data/kb_766/EyeAI_working/deriva-ml/execution/5-51CA/asset/eye-ai/Fundus_Bounding_Box/Cropped_2-DZ7T.svg].\n",
      "2025-09-22 14:37:01,584 - INFO - Including file: [/data/kb_766/EyeAI_working/deriva-ml/execution/5-51CA/asset/eye-ai/Fundus_Bounding_Box/Cropped_2-DZ7W.svg].\n",
      "2025-09-22 14:37:01,585 - INFO - Including file: [/data/kb_766/EyeAI_working/deriva-ml/execution/5-51CA/asset/eye-ai/Fundus_Bounding_Box/Cropped_2-DZ9J.svg].\n",
      "2025-09-22 14:37:01,585 - INFO - Including file: [/data/kb_766/EyeAI_working/deriva-ml/execution/5-51CA/asset/eye-ai/Fundus_Bounding_Box/Cropped_2-DZ9M.svg].\n",
      "2025-09-22 14:37:01,585 - INFO - Including file: [/data/kb_766/EyeAI_working/deriva-ml/execution/5-51CA/asset/eye-ai/Fundus_Bounding_Box/Cropped_2-DZE4.svg].\n",
      "2025-09-22 14:37:01,586 - INFO - Including file: [/data/kb_766/EyeAI_working/deriva-ml/execution/5-51CA/asset/eye-ai/Fundus_Bounding_Box/Cropped_2-DZER.svg].\n",
      "2025-09-22 14:37:01,586 - INFO - Including file: [/data/kb_766/EyeAI_working/deriva-ml/execution/5-51CA/asset/eye-ai/Fundus_Bounding_Box/Cropped_2-DZEW.svg].\n",
      "2025-09-22 14:37:01,587 - INFO - Including file: [/data/kb_766/EyeAI_working/deriva-ml/execution/5-51CA/asset/eye-ai/Fundus_Bounding_Box/Cropped_2-DZMR.svg].\n",
      "2025-09-22 14:37:01,587 - INFO - Including file: [/data/kb_766/EyeAI_working/deriva-ml/execution/5-51CA/asset/eye-ai/Fundus_Bounding_Box/Cropped_2-DZN0.svg].\n",
      "2025-09-22 14:37:01,588 - INFO - Including file: [/data/kb_766/EyeAI_working/deriva-ml/execution/5-51CA/asset/eye-ai/Fundus_Bounding_Box/Cropped_2-DZQ8.svg].\n",
      "2025-09-22 14:37:01,588 - INFO - Including file: [/data/kb_766/EyeAI_working/deriva-ml/execution/5-51CA/asset/eye-ai/Fundus_Bounding_Box/Cropped_2-DZQJ.svg].\n",
      "2025-09-22 14:37:01,592 - INFO - Including file: [/data/kb_766/EyeAI_working/deriva-ml/execution/5-51CA/asset/eye-ai/Fundus_Bounding_Box/Cropped_2-DZVP.svg].\n",
      "2025-09-22 14:37:01,593 - INFO - Including file: [/data/kb_766/EyeAI_working/deriva-ml/execution/5-51CA/asset/eye-ai/Fundus_Bounding_Box/Cropped_2-E01T.svg].\n",
      "2025-09-22 14:37:01,593 - INFO - Including file: [/data/kb_766/EyeAI_working/deriva-ml/execution/5-51CA/asset/eye-ai/Fundus_Bounding_Box/Cropped_2-E01W.svg].\n",
      "2025-09-22 14:37:01,594 - INFO - Including file: [/data/kb_766/EyeAI_working/deriva-ml/execution/5-51CA/asset/eye-ai/Fundus_Bounding_Box/Cropped_2-E05W.svg].\n",
      "2025-09-22 14:37:01,594 - INFO - Including file: [/data/kb_766/EyeAI_working/deriva-ml/execution/5-51CA/asset/eye-ai/Fundus_Bounding_Box/Cropped_2-E05Y.svg].\n",
      "2025-09-22 14:37:01,595 - INFO - Including file: [/data/kb_766/EyeAI_working/deriva-ml/execution/5-51CA/asset/eye-ai/Fundus_Bounding_Box/Cropped_2-E0BC.svg].\n",
      "2025-09-22 14:37:01,595 - INFO - Including file: [/data/kb_766/EyeAI_working/deriva-ml/execution/5-51CA/asset/eye-ai/Fundus_Bounding_Box/Cropped_2-E0BJ.svg].\n",
      "2025-09-22 14:37:01,596 - INFO - Including file: [/data/kb_766/EyeAI_working/deriva-ml/execution/5-51CA/asset/eye-ai/Fundus_Bounding_Box/Cropped_2-E0M2.svg].\n",
      "2025-09-22 14:37:01,596 - INFO - Including file: [/data/kb_766/EyeAI_working/deriva-ml/execution/5-51CA/asset/eye-ai/Fundus_Bounding_Box/Cropped_2-E0M4.svg].\n",
      "2025-09-22 14:37:01,597 - INFO - Including file: [/data/kb_766/EyeAI_working/deriva-ml/execution/5-51CA/asset/eye-ai/Fundus_Bounding_Box/Cropped_2-E0VJ.svg].\n",
      "2025-09-22 14:37:01,598 - INFO - Including file: [/data/kb_766/EyeAI_working/deriva-ml/execution/5-51CA/asset/eye-ai/Fundus_Bounding_Box/Cropped_2-E0VM.svg].\n",
      "2025-09-22 14:37:01,598 - INFO - Including file: [/data/kb_766/EyeAI_working/deriva-ml/execution/5-51CA/asset/eye-ai/Fundus_Bounding_Box/Cropped_2-E0XE.svg].\n",
      "2025-09-22 14:37:01,599 - INFO - Including file: [/data/kb_766/EyeAI_working/deriva-ml/execution/5-51CA/asset/eye-ai/Fundus_Bounding_Box/Cropped_2-E0XM.svg].\n",
      "2025-09-22 14:37:01,599 - INFO - Including file: [/data/kb_766/EyeAI_working/deriva-ml/execution/5-51CA/asset/eye-ai/Fundus_Bounding_Box/Cropped_2-E14E.svg].\n",
      "2025-09-22 14:37:01,600 - INFO - Including file: [/data/kb_766/EyeAI_working/deriva-ml/execution/5-51CA/asset/eye-ai/Fundus_Bounding_Box/Cropped_2-E14J.svg].\n",
      "2025-09-22 14:37:01,600 - INFO - Including file: [/data/kb_766/EyeAI_working/deriva-ml/execution/5-51CA/asset/eye-ai/Fundus_Bounding_Box/Cropped_2-E14P.svg].\n",
      "2025-09-22 14:37:01,601 - INFO - Including file: [/data/kb_766/EyeAI_working/deriva-ml/execution/5-51CA/asset/eye-ai/Fundus_Bounding_Box/Cropped_2-E14Y.svg].\n",
      "2025-09-22 14:37:01,601 - INFO - Including file: [/data/kb_766/EyeAI_working/deriva-ml/execution/5-51CA/asset/eye-ai/Fundus_Bounding_Box/Cropped_2-E18T.svg].\n",
      "2025-09-22 14:37:01,602 - INFO - Including file: [/data/kb_766/EyeAI_working/deriva-ml/execution/5-51CA/asset/eye-ai/Fundus_Bounding_Box/Cropped_2-E190.svg].\n",
      "2025-09-22 14:37:01,603 - INFO - Including file: [/data/kb_766/EyeAI_working/deriva-ml/execution/5-51CA/asset/eye-ai/Fundus_Bounding_Box/Cropped_2-E1DT.svg].\n",
      "2025-09-22 14:37:01,603 - INFO - Including file: [/data/kb_766/EyeAI_working/deriva-ml/execution/5-51CA/asset/eye-ai/Fundus_Bounding_Box/Cropped_2-E1DY.svg].\n",
      "2025-09-22 14:37:01,604 - INFO - Including file: [/data/kb_766/EyeAI_working/deriva-ml/execution/5-51CA/asset/eye-ai/Fundus_Bounding_Box/Cropped_2-E1HP.svg].\n",
      "2025-09-22 14:37:01,604 - INFO - Including file: [/data/kb_766/EyeAI_working/deriva-ml/execution/5-51CA/asset/eye-ai/Fundus_Bounding_Box/Cropped_2-E1HT.svg].\n",
      "2025-09-22 14:37:01,605 - INFO - Including file: [/data/kb_766/EyeAI_working/deriva-ml/execution/5-51CA/asset/eye-ai/Fundus_Bounding_Box/Cropped_2-E1PE.svg].\n",
      "2025-09-22 14:37:01,605 - INFO - Including file: [/data/kb_766/EyeAI_working/deriva-ml/execution/5-51CA/asset/eye-ai/Fundus_Bounding_Box/Cropped_2-E1PG.svg].\n",
      "2025-09-22 14:37:01,606 - INFO - Including file: [/data/kb_766/EyeAI_working/deriva-ml/execution/5-51CA/asset/eye-ai/Fundus_Bounding_Box/Cropped_2-E1RT.svg].\n",
      "2025-09-22 14:37:01,606 - INFO - Including file: [/data/kb_766/EyeAI_working/deriva-ml/execution/5-51CA/asset/eye-ai/Fundus_Bounding_Box/Cropped_2-E1TJ.svg].\n",
      "2025-09-22 14:37:01,607 - INFO - Including file: [/data/kb_766/EyeAI_working/deriva-ml/execution/5-51CA/asset/eye-ai/Fundus_Bounding_Box/Cropped_2-E1TM.svg].\n",
      "2025-09-22 14:37:01,607 - INFO - Including file: [/data/kb_766/EyeAI_working/deriva-ml/execution/5-51CA/asset/eye-ai/Fundus_Bounding_Box/Cropped_2-E1TR.svg].\n",
      "2025-09-22 14:37:01,608 - INFO - Including file: [/data/kb_766/EyeAI_working/deriva-ml/execution/5-51CA/asset/eye-ai/Fundus_Bounding_Box/Cropped_2-E1TT.svg].\n",
      "2025-09-22 14:37:01,609 - INFO - Including file: [/data/kb_766/EyeAI_working/deriva-ml/execution/5-51CA/asset/eye-ai/Fundus_Bounding_Box/Cropped_2-E2E0.svg].\n",
      "2025-09-22 14:37:01,609 - INFO - Including file: [/data/kb_766/EyeAI_working/deriva-ml/execution/5-51CA/asset/eye-ai/Fundus_Bounding_Box/Cropped_2-E2E4.svg].\n",
      "2025-09-22 14:37:01,610 - INFO - Including file: [/data/kb_766/EyeAI_working/deriva-ml/execution/5-51CA/asset/eye-ai/Fundus_Bounding_Box/Cropped_2-E2FC.svg].\n",
      "2025-09-22 14:37:01,614 - INFO - Including file: [/data/kb_766/EyeAI_working/deriva-ml/execution/5-51CA/asset/eye-ai/Fundus_Bounding_Box/Cropped_2-E2FG.svg].\n",
      "2025-09-22 14:37:01,615 - INFO - Including file: [/data/kb_766/EyeAI_working/deriva-ml/execution/5-51CA/asset/eye-ai/Fundus_Bounding_Box/Cropped_2-E2KA.svg].\n",
      "2025-09-22 14:37:01,615 - INFO - Including file: [/data/kb_766/EyeAI_working/deriva-ml/execution/5-51CA/asset/eye-ai/Fundus_Bounding_Box/Cropped_2-E2KG.svg].\n",
      "2025-09-22 14:37:01,616 - INFO - Including file: [/data/kb_766/EyeAI_working/deriva-ml/execution/5-51CA/asset/eye-ai/Fundus_Bounding_Box/Cropped_2-E2KM.svg].\n",
      "2025-09-22 14:37:01,617 - INFO - Including file: [/data/kb_766/EyeAI_working/deriva-ml/execution/5-51CA/asset/eye-ai/Fundus_Bounding_Box/Cropped_2-E2M2.svg].\n",
      "2025-09-22 14:37:01,618 - INFO - Including file: [/data/kb_766/EyeAI_working/deriva-ml/execution/5-51CA/asset/eye-ai/Fundus_Bounding_Box/Cropped_2-E2M4.svg].\n",
      "2025-09-22 14:37:01,618 - INFO - Including file: [/data/kb_766/EyeAI_working/deriva-ml/execution/5-51CA/asset/eye-ai/Fundus_Bounding_Box/Cropped_2-E388.svg].\n",
      "2025-09-22 14:37:01,619 - INFO - Including file: [/data/kb_766/EyeAI_working/deriva-ml/execution/5-51CA/asset/eye-ai/Fundus_Bounding_Box/Cropped_2-E38G.svg].\n",
      "2025-09-22 14:37:01,619 - INFO - Including file: [/data/kb_766/EyeAI_working/deriva-ml/execution/5-51CA/asset/eye-ai/Fundus_Bounding_Box/Cropped_2-E3AT.svg].\n",
      "2025-09-22 14:37:01,620 - INFO - Including file: [/data/kb_766/EyeAI_working/deriva-ml/execution/5-51CA/asset/eye-ai/Fundus_Bounding_Box/Cropped_2-E3AY.svg].\n",
      "2025-09-22 14:37:01,620 - INFO - Including file: [/data/kb_766/EyeAI_working/deriva-ml/execution/5-51CA/asset/eye-ai/Fundus_Bounding_Box/Cropped_2-E3D0.svg].\n",
      "2025-09-22 14:37:01,621 - INFO - Including file: [/data/kb_766/EyeAI_working/deriva-ml/execution/5-51CA/asset/eye-ai/Fundus_Bounding_Box/Cropped_2-E3EA.svg].\n",
      "2025-09-22 14:37:01,621 - INFO - Including file: [/data/kb_766/EyeAI_working/deriva-ml/execution/5-51CA/asset/eye-ai/Fundus_Bounding_Box/Cropped_2-E3EJ.svg].\n",
      "2025-09-22 14:37:01,622 - INFO - Including file: [/data/kb_766/EyeAI_working/deriva-ml/execution/5-51CA/asset/eye-ai/Fundus_Bounding_Box/Cropped_2-E3TR.svg].\n",
      "2025-09-22 14:37:01,622 - INFO - Including file: [/data/kb_766/EyeAI_working/deriva-ml/execution/5-51CA/asset/eye-ai/Fundus_Bounding_Box/Cropped_2-E3WM.svg].\n",
      "2025-09-22 14:37:01,623 - INFO - Including file: [/data/kb_766/EyeAI_working/deriva-ml/execution/5-51CA/asset/eye-ai/Fundus_Bounding_Box/Cropped_2-E3WP.svg].\n",
      "2025-09-22 14:37:01,623 - INFO - Including file: [/data/kb_766/EyeAI_working/deriva-ml/execution/5-51CA/asset/eye-ai/Fundus_Bounding_Box/Cropped_2-E3XT.svg].\n",
      "2025-09-22 14:37:01,624 - INFO - Including file: [/data/kb_766/EyeAI_working/deriva-ml/execution/5-51CA/asset/eye-ai/Fundus_Bounding_Box/Cropped_2-E3XW.svg].\n",
      "2025-09-22 14:37:01,624 - INFO - Including file: [/data/kb_766/EyeAI_working/deriva-ml/execution/5-51CA/asset/eye-ai/Fundus_Bounding_Box/Cropped_2-E3Y6.svg].\n",
      "2025-09-22 14:37:01,625 - INFO - Including file: [/data/kb_766/EyeAI_working/deriva-ml/execution/5-51CA/asset/eye-ai/Fundus_Bounding_Box/Cropped_2-E3Y8.svg].\n",
      "2025-09-22 14:37:01,625 - INFO - Including file: [/data/kb_766/EyeAI_working/deriva-ml/execution/5-51CA/asset/eye-ai/Fundus_Bounding_Box/Cropped_2-E42C.svg].\n",
      "2025-09-22 14:37:01,626 - INFO - Including file: [/data/kb_766/EyeAI_working/deriva-ml/execution/5-51CA/asset/eye-ai/Fundus_Bounding_Box/Cropped_2-E42E.svg].\n",
      "2025-09-22 14:37:01,626 - INFO - Including file: [/data/kb_766/EyeAI_working/deriva-ml/execution/5-51CA/asset/eye-ai/Fundus_Bounding_Box/Cropped_2-E45C.svg].\n",
      "2025-09-22 14:37:01,627 - INFO - Including file: [/data/kb_766/EyeAI_working/deriva-ml/execution/5-51CA/asset/eye-ai/Fundus_Bounding_Box/Cropped_2-E45M.svg].\n",
      "2025-09-22 14:37:01,628 - INFO - Including file: [/data/kb_766/EyeAI_working/deriva-ml/execution/5-51CA/asset/eye-ai/Fundus_Bounding_Box/Cropped_2-E488.svg].\n",
      "2025-09-22 14:37:01,628 - INFO - Including file: [/data/kb_766/EyeAI_working/deriva-ml/execution/5-51CA/asset/eye-ai/Fundus_Bounding_Box/Cropped_2-E48C.svg].\n",
      "2025-09-22 14:37:01,629 - INFO - Including file: [/data/kb_766/EyeAI_working/deriva-ml/execution/5-51CA/asset/eye-ai/Fundus_Bounding_Box/Cropped_2-E4GR.svg].\n",
      "2025-09-22 14:37:01,629 - INFO - Including file: [/data/kb_766/EyeAI_working/deriva-ml/execution/5-51CA/asset/eye-ai/Fundus_Bounding_Box/Cropped_2-E4GY.svg].\n",
      "2025-09-22 14:37:01,630 - INFO - Including file: [/data/kb_766/EyeAI_working/deriva-ml/execution/5-51CA/asset/eye-ai/Fundus_Bounding_Box/Cropped_2-E4KE.svg].\n",
      "2025-09-22 14:37:01,633 - INFO - Including file: [/data/kb_766/EyeAI_working/deriva-ml/execution/5-51CA/asset/eye-ai/Fundus_Bounding_Box/Cropped_2-E4KJ.svg].\n",
      "2025-09-22 14:37:01,634 - INFO - Including file: [/data/kb_766/EyeAI_working/deriva-ml/execution/5-51CA/asset/eye-ai/Fundus_Bounding_Box/Cropped_2-E4RA.svg].\n",
      "2025-09-22 14:37:01,634 - INFO - Including file: [/data/kb_766/EyeAI_working/deriva-ml/execution/5-51CA/asset/eye-ai/Fundus_Bounding_Box/Cropped_2-E4RE.svg].\n",
      "2025-09-22 14:37:01,635 - INFO - Including file: [/data/kb_766/EyeAI_working/deriva-ml/execution/5-51CA/asset/eye-ai/Fundus_Bounding_Box/Cropped_2-E55E.svg].\n",
      "2025-09-22 14:37:01,635 - INFO - Including file: [/data/kb_766/EyeAI_working/deriva-ml/execution/5-51CA/asset/eye-ai/Fundus_Bounding_Box/Cropped_2-E56T.svg].\n",
      "2025-09-22 14:37:01,636 - INFO - Including file: [/data/kb_766/EyeAI_working/deriva-ml/execution/5-51CA/asset/eye-ai/Fundus_Bounding_Box/Cropped_2-E574.svg].\n",
      "2025-09-22 14:37:01,636 - INFO - Including file: [/data/kb_766/EyeAI_working/deriva-ml/execution/5-51CA/asset/eye-ai/Fundus_Bounding_Box/Cropped_2-E59W.svg].\n",
      "2025-09-22 14:37:01,637 - INFO - Including file: [/data/kb_766/EyeAI_working/deriva-ml/execution/5-51CA/asset/eye-ai/Fundus_Bounding_Box/Cropped_2-E5A2.svg].\n",
      "2025-09-22 14:37:01,637 - INFO - Including file: [/data/kb_766/EyeAI_working/deriva-ml/execution/5-51CA/asset/eye-ai/Fundus_Bounding_Box/Cropped_2-E5RT.svg].\n",
      "2025-09-22 14:37:01,639 - INFO - Including file: [/data/kb_766/EyeAI_working/deriva-ml/execution/5-51CA/asset/eye-ai/Fundus_Bounding_Box/Cropped_2-E5RW.svg].\n",
      "2025-09-22 14:37:01,640 - INFO - Including file: [/data/kb_766/EyeAI_working/deriva-ml/execution/5-51CA/asset/eye-ai/Fundus_Bounding_Box/Cropped_2-E5TE.svg].\n",
      "2025-09-22 14:37:01,640 - INFO - Including file: [/data/kb_766/EyeAI_working/deriva-ml/execution/5-51CA/asset/eye-ai/Fundus_Bounding_Box/Cropped_2-E5TM.svg].\n",
      "2025-09-22 14:37:01,641 - INFO - Including file: [/data/kb_766/EyeAI_working/deriva-ml/execution/5-51CA/asset/eye-ai/Fundus_Bounding_Box/Cropped_2-E63G.svg].\n",
      "2025-09-22 14:37:01,641 - INFO - Including file: [/data/kb_766/EyeAI_working/deriva-ml/execution/5-51CA/asset/eye-ai/Fundus_Bounding_Box/Cropped_2-E63M.svg].\n",
      "2025-09-22 14:37:01,642 - INFO - Including file: [/data/kb_766/EyeAI_working/deriva-ml/execution/5-51CA/asset/eye-ai/Fundus_Bounding_Box/Cropped_2-E6K0.svg].\n",
      "2025-09-22 14:37:01,642 - INFO - Including file: [/data/kb_766/EyeAI_working/deriva-ml/execution/5-51CA/asset/eye-ai/Fundus_Bounding_Box/Cropped_2-E6K4.svg].\n",
      "2025-09-22 14:37:01,643 - INFO - Including file: [/data/kb_766/EyeAI_working/deriva-ml/execution/5-51CA/asset/eye-ai/Fundus_Bounding_Box/Cropped_2-E6NR.svg].\n",
      "2025-09-22 14:37:01,643 - INFO - Including file: [/data/kb_766/EyeAI_working/deriva-ml/execution/5-51CA/asset/eye-ai/Fundus_Bounding_Box/Cropped_2-E6NT.svg].\n",
      "2025-09-22 14:37:01,644 - INFO - Including file: [/data/kb_766/EyeAI_working/deriva-ml/execution/5-51CA/asset/eye-ai/Fundus_Bounding_Box/Cropped_2-E6QC.svg].\n",
      "2025-09-22 14:37:01,644 - INFO - Including file: [/data/kb_766/EyeAI_working/deriva-ml/execution/5-51CA/asset/eye-ai/Fundus_Bounding_Box/Cropped_2-E6QG.svg].\n",
      "2025-09-22 14:37:01,645 - INFO - Including file: [/data/kb_766/EyeAI_working/deriva-ml/execution/5-51CA/asset/eye-ai/Fundus_Bounding_Box/Cropped_2-E6XM.svg].\n",
      "2025-09-22 14:37:01,645 - INFO - Including file: [/data/kb_766/EyeAI_working/deriva-ml/execution/5-51CA/asset/eye-ai/Fundus_Bounding_Box/Cropped_2-E6YP.svg].\n",
      "2025-09-22 14:37:01,646 - INFO - Including file: [/data/kb_766/EyeAI_working/deriva-ml/execution/5-51CA/asset/eye-ai/Fundus_Bounding_Box/Cropped_2-E6YT.svg].\n",
      "2025-09-22 14:37:01,646 - INFO - Including file: [/data/kb_766/EyeAI_working/deriva-ml/execution/5-51CA/asset/eye-ai/Fundus_Bounding_Box/Cropped_2-E75M.svg].\n",
      "2025-09-22 14:37:01,647 - INFO - Including file: [/data/kb_766/EyeAI_working/deriva-ml/execution/5-51CA/asset/eye-ai/Fundus_Bounding_Box/Cropped_2-E75P.svg].\n",
      "2025-09-22 14:37:01,647 - INFO - Including file: [/data/kb_766/EyeAI_working/deriva-ml/execution/5-51CA/asset/eye-ai/Fundus_Bounding_Box/Cropped_2-E7PW.svg].\n",
      "2025-09-22 14:37:01,648 - INFO - Including file: [/data/kb_766/EyeAI_working/deriva-ml/execution/5-51CA/asset/eye-ai/Fundus_Bounding_Box/Cropped_2-E7Q4.svg].\n",
      "2025-09-22 14:37:01,650 - INFO - Including file: [/data/kb_766/EyeAI_working/deriva-ml/execution/5-51CA/asset/eye-ai/Fundus_Bounding_Box/Cropped_2-E7TA.svg].\n",
      "2025-09-22 14:37:01,650 - INFO - Including file: [/data/kb_766/EyeAI_working/deriva-ml/execution/5-51CA/asset/eye-ai/Fundus_Bounding_Box/Cropped_2-E7TC.svg].\n",
      "2025-09-22 14:37:01,651 - INFO - Including file: [/data/kb_766/EyeAI_working/deriva-ml/execution/5-51CA/asset/eye-ai/Fundus_Bounding_Box/Cropped_2-E7X4.svg].\n",
      "2025-09-22 14:37:01,651 - INFO - Including file: [/data/kb_766/EyeAI_working/deriva-ml/execution/5-51CA/asset/eye-ai/Fundus_Bounding_Box/Cropped_2-E7X6.svg].\n",
      "2025-09-22 14:37:01,652 - INFO - Including file: [/data/kb_766/EyeAI_working/deriva-ml/execution/5-51CA/asset/eye-ai/Fundus_Bounding_Box/Cropped_2-E89C.svg].\n",
      "2025-09-22 14:37:01,652 - INFO - Including file: [/data/kb_766/EyeAI_working/deriva-ml/execution/5-51CA/asset/eye-ai/Fundus_Bounding_Box/Cropped_2-E89E.svg].\n",
      "2025-09-22 14:37:01,653 - INFO - Including file: [/data/kb_766/EyeAI_working/deriva-ml/execution/5-51CA/asset/eye-ai/Fundus_Bounding_Box/Cropped_2-E8DM.svg].\n",
      "2025-09-22 14:37:01,653 - INFO - Including file: [/data/kb_766/EyeAI_working/deriva-ml/execution/5-51CA/asset/eye-ai/Fundus_Bounding_Box/Cropped_2-E8DR.svg].\n",
      "2025-09-22 14:37:01,654 - INFO - Including file: [/data/kb_766/EyeAI_working/deriva-ml/execution/5-51CA/asset/eye-ai/Fundus_Bounding_Box/Cropped_2-E8EC.svg].\n",
      "2025-09-22 14:37:01,654 - INFO - Including file: [/data/kb_766/EyeAI_working/deriva-ml/execution/5-51CA/asset/eye-ai/Fundus_Bounding_Box/Cropped_2-E8EG.svg].\n",
      "2025-09-22 14:37:01,657 - INFO - Including file: [/data/kb_766/EyeAI_working/deriva-ml/execution/5-51CA/asset/eye-ai/Fundus_Bounding_Box/Cropped_2-E8F6.svg].\n",
      "2025-09-22 14:37:01,657 - INFO - Including file: [/data/kb_766/EyeAI_working/deriva-ml/execution/5-51CA/asset/eye-ai/Fundus_Bounding_Box/Cropped_2-E8F8.svg].\n",
      "2025-09-22 14:37:01,658 - INFO - Including file: [/data/kb_766/EyeAI_working/deriva-ml/execution/5-51CA/asset/eye-ai/Fundus_Bounding_Box/Cropped_2-E8PA.svg].\n",
      "2025-09-22 14:37:01,659 - INFO - Including file: [/data/kb_766/EyeAI_working/deriva-ml/execution/5-51CA/asset/eye-ai/Fundus_Bounding_Box/Cropped_2-E8PJ.svg].\n",
      "2025-09-22 14:37:01,659 - INFO - Including file: [/data/kb_766/EyeAI_working/deriva-ml/execution/5-51CA/asset/eye-ai/Fundus_Bounding_Box/Cropped_2-E8Q4.svg].\n",
      "2025-09-22 14:37:01,660 - INFO - Including file: [/data/kb_766/EyeAI_working/deriva-ml/execution/5-51CA/asset/eye-ai/Fundus_Bounding_Box/Cropped_2-E8Q6.svg].\n",
      "2025-09-22 14:37:01,660 - INFO - Including file: [/data/kb_766/EyeAI_working/deriva-ml/execution/5-51CA/asset/eye-ai/Fundus_Bounding_Box/Cropped_2-E8R2.svg].\n",
      "2025-09-22 14:37:01,661 - INFO - Including file: [/data/kb_766/EyeAI_working/deriva-ml/execution/5-51CA/asset/eye-ai/Fundus_Bounding_Box/Cropped_2-E8R6.svg].\n",
      "2025-09-22 14:37:01,662 - INFO - Including file: [/data/kb_766/EyeAI_working/deriva-ml/execution/5-51CA/asset/eye-ai/Fundus_Bounding_Box/Cropped_2-E93G.svg].\n",
      "2025-09-22 14:37:01,662 - INFO - Including file: [/data/kb_766/EyeAI_working/deriva-ml/execution/5-51CA/asset/eye-ai/Fundus_Bounding_Box/Cropped_2-E93R.svg].\n",
      "2025-09-22 14:37:01,663 - INFO - Including file: [/data/kb_766/EyeAI_working/deriva-ml/execution/5-51CA/asset/eye-ai/Fundus_Bounding_Box/Cropped_2-E94A.svg].\n",
      "2025-09-22 14:37:01,663 - INFO - Including file: [/data/kb_766/EyeAI_working/deriva-ml/execution/5-51CA/asset/eye-ai/Fundus_Bounding_Box/Cropped_2-E94E.svg].\n",
      "2025-09-22 14:37:01,664 - INFO - Including file: [/data/kb_766/EyeAI_working/deriva-ml/execution/5-51CA/asset/eye-ai/Fundus_Bounding_Box/Cropped_2-E95E.svg].\n",
      "2025-09-22 14:37:01,664 - INFO - Including file: [/data/kb_766/EyeAI_working/deriva-ml/execution/5-51CA/asset/eye-ai/Fundus_Bounding_Box/Cropped_2-E95G.svg].\n",
      "2025-09-22 14:37:01,665 - INFO - Including file: [/data/kb_766/EyeAI_working/deriva-ml/execution/5-51CA/asset/eye-ai/Fundus_Bounding_Box/Cropped_2-E978.svg].\n",
      "2025-09-22 14:37:01,666 - INFO - Including file: [/data/kb_766/EyeAI_working/deriva-ml/execution/5-51CA/asset/eye-ai/Fundus_Bounding_Box/Cropped_2-E97A.svg].\n",
      "2025-09-22 14:37:01,666 - INFO - Processing: [/data/kb_766/EyeAI_working/deriva-ml/execution/5-51CA/asset/deriva-ml/Execution_Metadata/configuration.json]\n",
      "2025-09-22 14:37:01,667 - INFO - Computed metadata for: [/data/kb_766/EyeAI_working/deriva-ml/execution/5-51CA/asset/deriva-ml/Execution_Metadata/configuration.json].\n",
      "2025-09-22 14:37:01,667 - INFO - Computing checksums for file: [/data/kb_766/EyeAI_working/deriva-ml/execution/5-51CA/asset/deriva-ml/Execution_Metadata/configuration.json]. Please wait...\n",
      "2025-09-22 14:37:01,671 - INFO - Uploading file: [/data/kb_766/EyeAI_working/deriva-ml/execution/5-51CA/asset/deriva-ml/Execution_Metadata/configuration.json] to host https://www.eye-ai.org. Please wait...\n",
      "2025-09-22 14:37:02,046 - INFO - Processing: [/data/kb_766/EyeAI_working/deriva-ml/execution/5-51CA/asset/deriva-ml/Execution_Metadata/environment_snapshot_20250922_143108.txt]\n",
      "2025-09-22 14:37:02,046 - INFO - Computed metadata for: [/data/kb_766/EyeAI_working/deriva-ml/execution/5-51CA/asset/deriva-ml/Execution_Metadata/environment_snapshot_20250922_143108.txt].\n",
      "2025-09-22 14:37:02,047 - INFO - Computing checksums for file: [/data/kb_766/EyeAI_working/deriva-ml/execution/5-51CA/asset/deriva-ml/Execution_Metadata/environment_snapshot_20250922_143108.txt]. Please wait...\n",
      "2025-09-22 14:37:02,048 - INFO - Uploading file: [/data/kb_766/EyeAI_working/deriva-ml/execution/5-51CA/asset/deriva-ml/Execution_Metadata/environment_snapshot_20250922_143108.txt] to host https://www.eye-ai.org. Please wait...\n",
      "2025-09-22 14:37:02,253 - INFO - Processing: [/data/kb_766/EyeAI_working/deriva-ml/execution/5-51CA/asset/eye-ai/Fundus_Bounding_Box/Cropped_2-CXEE.svg]\n",
      "2025-09-22 14:37:02,254 - INFO - Computed metadata for: [/data/kb_766/EyeAI_working/deriva-ml/execution/5-51CA/asset/eye-ai/Fundus_Bounding_Box/Cropped_2-CXEE.svg].\n",
      "2025-09-22 14:37:02,255 - INFO - Computing checksums for file: [/data/kb_766/EyeAI_working/deriva-ml/execution/5-51CA/asset/eye-ai/Fundus_Bounding_Box/Cropped_2-CXEE.svg]. Please wait...\n",
      "2025-09-22 14:37:02,255 - INFO - Uploading file: [/data/kb_766/EyeAI_working/deriva-ml/execution/5-51CA/asset/eye-ai/Fundus_Bounding_Box/Cropped_2-CXEE.svg] to host https://www.eye-ai.org. Please wait...\n",
      "2025-09-22 14:37:02,391 - INFO - Processing: [/data/kb_766/EyeAI_working/deriva-ml/execution/5-51CA/asset/eye-ai/Fundus_Bounding_Box/Cropped_2-CXEJ.svg]\n",
      "2025-09-22 14:37:02,392 - INFO - Computed metadata for: [/data/kb_766/EyeAI_working/deriva-ml/execution/5-51CA/asset/eye-ai/Fundus_Bounding_Box/Cropped_2-CXEJ.svg].\n",
      "2025-09-22 14:37:02,392 - INFO - Computing checksums for file: [/data/kb_766/EyeAI_working/deriva-ml/execution/5-51CA/asset/eye-ai/Fundus_Bounding_Box/Cropped_2-CXEJ.svg]. Please wait...\n",
      "2025-09-22 14:37:02,394 - INFO - Uploading file: [/data/kb_766/EyeAI_working/deriva-ml/execution/5-51CA/asset/eye-ai/Fundus_Bounding_Box/Cropped_2-CXEJ.svg] to host https://www.eye-ai.org. Please wait...\n",
      "2025-09-22 14:37:02,486 - INFO - Processing: [/data/kb_766/EyeAI_working/deriva-ml/execution/5-51CA/asset/eye-ai/Fundus_Bounding_Box/Cropped_2-CXFM.svg]\n",
      "2025-09-22 14:37:02,487 - INFO - Computed metadata for: [/data/kb_766/EyeAI_working/deriva-ml/execution/5-51CA/asset/eye-ai/Fundus_Bounding_Box/Cropped_2-CXFM.svg].\n",
      "2025-09-22 14:37:02,487 - INFO - Computing checksums for file: [/data/kb_766/EyeAI_working/deriva-ml/execution/5-51CA/asset/eye-ai/Fundus_Bounding_Box/Cropped_2-CXFM.svg]. Please wait...\n",
      "2025-09-22 14:37:02,489 - INFO - Uploading file: [/data/kb_766/EyeAI_working/deriva-ml/execution/5-51CA/asset/eye-ai/Fundus_Bounding_Box/Cropped_2-CXFM.svg] to host https://www.eye-ai.org. Please wait...\n",
      "2025-09-22 14:37:02,581 - INFO - Processing: [/data/kb_766/EyeAI_working/deriva-ml/execution/5-51CA/asset/eye-ai/Fundus_Bounding_Box/Cropped_2-CXFT.svg]\n",
      "2025-09-22 14:37:02,582 - INFO - Computed metadata for: [/data/kb_766/EyeAI_working/deriva-ml/execution/5-51CA/asset/eye-ai/Fundus_Bounding_Box/Cropped_2-CXFT.svg].\n",
      "2025-09-22 14:37:02,582 - INFO - Computing checksums for file: [/data/kb_766/EyeAI_working/deriva-ml/execution/5-51CA/asset/eye-ai/Fundus_Bounding_Box/Cropped_2-CXFT.svg]. Please wait...\n",
      "2025-09-22 14:37:02,583 - INFO - Uploading file: [/data/kb_766/EyeAI_working/deriva-ml/execution/5-51CA/asset/eye-ai/Fundus_Bounding_Box/Cropped_2-CXFT.svg] to host https://www.eye-ai.org. Please wait...\n",
      "2025-09-22 14:37:02,686 - INFO - Processing: [/data/kb_766/EyeAI_working/deriva-ml/execution/5-51CA/asset/eye-ai/Fundus_Bounding_Box/Cropped_2-CXH4.svg]\n",
      "2025-09-22 14:37:02,687 - INFO - Computed metadata for: [/data/kb_766/EyeAI_working/deriva-ml/execution/5-51CA/asset/eye-ai/Fundus_Bounding_Box/Cropped_2-CXH4.svg].\n",
      "2025-09-22 14:37:02,688 - INFO - Computing checksums for file: [/data/kb_766/EyeAI_working/deriva-ml/execution/5-51CA/asset/eye-ai/Fundus_Bounding_Box/Cropped_2-CXH4.svg]. Please wait...\n",
      "2025-09-22 14:37:02,689 - INFO - Uploading file: [/data/kb_766/EyeAI_working/deriva-ml/execution/5-51CA/asset/eye-ai/Fundus_Bounding_Box/Cropped_2-CXH4.svg] to host https://www.eye-ai.org. Please wait...\n",
      "2025-09-22 14:37:02,774 - INFO - Processing: [/data/kb_766/EyeAI_working/deriva-ml/execution/5-51CA/asset/eye-ai/Fundus_Bounding_Box/Cropped_2-CXH6.svg]\n",
      "2025-09-22 14:37:02,775 - INFO - Computed metadata for: [/data/kb_766/EyeAI_working/deriva-ml/execution/5-51CA/asset/eye-ai/Fundus_Bounding_Box/Cropped_2-CXH6.svg].\n",
      "2025-09-22 14:37:02,775 - INFO - Computing checksums for file: [/data/kb_766/EyeAI_working/deriva-ml/execution/5-51CA/asset/eye-ai/Fundus_Bounding_Box/Cropped_2-CXH6.svg]. Please wait...\n",
      "2025-09-22 14:37:02,776 - INFO - Uploading file: [/data/kb_766/EyeAI_working/deriva-ml/execution/5-51CA/asset/eye-ai/Fundus_Bounding_Box/Cropped_2-CXH6.svg] to host https://www.eye-ai.org. Please wait...\n",
      "2025-09-22 14:37:02,894 - INFO - Processing: [/data/kb_766/EyeAI_working/deriva-ml/execution/5-51CA/asset/eye-ai/Fundus_Bounding_Box/Cropped_2-CXK0.svg]\n",
      "2025-09-22 14:37:02,894 - INFO - Computed metadata for: [/data/kb_766/EyeAI_working/deriva-ml/execution/5-51CA/asset/eye-ai/Fundus_Bounding_Box/Cropped_2-CXK0.svg].\n",
      "2025-09-22 14:37:02,895 - INFO - Computing checksums for file: [/data/kb_766/EyeAI_working/deriva-ml/execution/5-51CA/asset/eye-ai/Fundus_Bounding_Box/Cropped_2-CXK0.svg]. Please wait...\n",
      "2025-09-22 14:37:02,896 - INFO - Uploading file: [/data/kb_766/EyeAI_working/deriva-ml/execution/5-51CA/asset/eye-ai/Fundus_Bounding_Box/Cropped_2-CXK0.svg] to host https://www.eye-ai.org. Please wait...\n",
      "2025-09-22 14:37:02,981 - INFO - Processing: [/data/kb_766/EyeAI_working/deriva-ml/execution/5-51CA/asset/eye-ai/Fundus_Bounding_Box/Cropped_2-CXK6.svg]\n",
      "2025-09-22 14:37:02,982 - INFO - Computed metadata for: [/data/kb_766/EyeAI_working/deriva-ml/execution/5-51CA/asset/eye-ai/Fundus_Bounding_Box/Cropped_2-CXK6.svg].\n",
      "2025-09-22 14:37:02,982 - INFO - Computing checksums for file: [/data/kb_766/EyeAI_working/deriva-ml/execution/5-51CA/asset/eye-ai/Fundus_Bounding_Box/Cropped_2-CXK6.svg]. Please wait...\n",
      "2025-09-22 14:37:02,984 - INFO - Uploading file: [/data/kb_766/EyeAI_working/deriva-ml/execution/5-51CA/asset/eye-ai/Fundus_Bounding_Box/Cropped_2-CXK6.svg] to host https://www.eye-ai.org. Please wait...\n",
      "2025-09-22 14:37:03,091 - INFO - Processing: [/data/kb_766/EyeAI_working/deriva-ml/execution/5-51CA/asset/eye-ai/Fundus_Bounding_Box/Cropped_2-CXM4.svg]\n",
      "2025-09-22 14:37:03,091 - INFO - Computed metadata for: [/data/kb_766/EyeAI_working/deriva-ml/execution/5-51CA/asset/eye-ai/Fundus_Bounding_Box/Cropped_2-CXM4.svg].\n",
      "2025-09-22 14:37:03,092 - INFO - Computing checksums for file: [/data/kb_766/EyeAI_working/deriva-ml/execution/5-51CA/asset/eye-ai/Fundus_Bounding_Box/Cropped_2-CXM4.svg]. Please wait...\n",
      "2025-09-22 14:37:03,093 - INFO - Uploading file: [/data/kb_766/EyeAI_working/deriva-ml/execution/5-51CA/asset/eye-ai/Fundus_Bounding_Box/Cropped_2-CXM4.svg] to host https://www.eye-ai.org. Please wait...\n",
      "2025-09-22 14:37:03,188 - INFO - Processing: [/data/kb_766/EyeAI_working/deriva-ml/execution/5-51CA/asset/eye-ai/Fundus_Bounding_Box/Cropped_2-CXM8.svg]\n",
      "2025-09-22 14:37:03,189 - INFO - Computed metadata for: [/data/kb_766/EyeAI_working/deriva-ml/execution/5-51CA/asset/eye-ai/Fundus_Bounding_Box/Cropped_2-CXM8.svg].\n",
      "2025-09-22 14:37:03,189 - INFO - Computing checksums for file: [/data/kb_766/EyeAI_working/deriva-ml/execution/5-51CA/asset/eye-ai/Fundus_Bounding_Box/Cropped_2-CXM8.svg]. Please wait...\n",
      "2025-09-22 14:37:03,190 - INFO - Uploading file: [/data/kb_766/EyeAI_working/deriva-ml/execution/5-51CA/asset/eye-ai/Fundus_Bounding_Box/Cropped_2-CXM8.svg] to host https://www.eye-ai.org. Please wait...\n",
      "2025-09-22 14:37:03,281 - INFO - Processing: [/data/kb_766/EyeAI_working/deriva-ml/execution/5-51CA/asset/eye-ai/Fundus_Bounding_Box/Cropped_2-CXS2.svg]\n",
      "2025-09-22 14:37:03,282 - INFO - Computed metadata for: [/data/kb_766/EyeAI_working/deriva-ml/execution/5-51CA/asset/eye-ai/Fundus_Bounding_Box/Cropped_2-CXS2.svg].\n",
      "2025-09-22 14:37:03,283 - INFO - Computing checksums for file: [/data/kb_766/EyeAI_working/deriva-ml/execution/5-51CA/asset/eye-ai/Fundus_Bounding_Box/Cropped_2-CXS2.svg]. Please wait...\n",
      "2025-09-22 14:37:03,284 - INFO - Uploading file: [/data/kb_766/EyeAI_working/deriva-ml/execution/5-51CA/asset/eye-ai/Fundus_Bounding_Box/Cropped_2-CXS2.svg] to host https://www.eye-ai.org. Please wait...\n",
      "2025-09-22 14:37:03,415 - INFO - Processing: [/data/kb_766/EyeAI_working/deriva-ml/execution/5-51CA/asset/eye-ai/Fundus_Bounding_Box/Cropped_2-CXSA.svg]\n",
      "2025-09-22 14:37:03,415 - INFO - Computed metadata for: [/data/kb_766/EyeAI_working/deriva-ml/execution/5-51CA/asset/eye-ai/Fundus_Bounding_Box/Cropped_2-CXSA.svg].\n",
      "2025-09-22 14:37:03,416 - INFO - Computing checksums for file: [/data/kb_766/EyeAI_working/deriva-ml/execution/5-51CA/asset/eye-ai/Fundus_Bounding_Box/Cropped_2-CXSA.svg]. Please wait...\n",
      "2025-09-22 14:37:03,417 - INFO - Uploading file: [/data/kb_766/EyeAI_working/deriva-ml/execution/5-51CA/asset/eye-ai/Fundus_Bounding_Box/Cropped_2-CXSA.svg] to host https://www.eye-ai.org. Please wait...\n",
      "2025-09-22 14:37:03,510 - INFO - Processing: [/data/kb_766/EyeAI_working/deriva-ml/execution/5-51CA/asset/eye-ai/Fundus_Bounding_Box/Cropped_2-CXT8.svg]\n",
      "2025-09-22 14:37:03,510 - INFO - Computed metadata for: [/data/kb_766/EyeAI_working/deriva-ml/execution/5-51CA/asset/eye-ai/Fundus_Bounding_Box/Cropped_2-CXT8.svg].\n",
      "2025-09-22 14:37:03,511 - INFO - Computing checksums for file: [/data/kb_766/EyeAI_working/deriva-ml/execution/5-51CA/asset/eye-ai/Fundus_Bounding_Box/Cropped_2-CXT8.svg]. Please wait...\n",
      "2025-09-22 14:37:03,512 - INFO - Uploading file: [/data/kb_766/EyeAI_working/deriva-ml/execution/5-51CA/asset/eye-ai/Fundus_Bounding_Box/Cropped_2-CXT8.svg] to host https://www.eye-ai.org. Please wait...\n",
      "2025-09-22 14:37:03,601 - INFO - Processing: [/data/kb_766/EyeAI_working/deriva-ml/execution/5-51CA/asset/eye-ai/Fundus_Bounding_Box/Cropped_2-CXTC.svg]\n",
      "2025-09-22 14:37:03,601 - INFO - Computed metadata for: [/data/kb_766/EyeAI_working/deriva-ml/execution/5-51CA/asset/eye-ai/Fundus_Bounding_Box/Cropped_2-CXTC.svg].\n",
      "2025-09-22 14:37:03,602 - INFO - Computing checksums for file: [/data/kb_766/EyeAI_working/deriva-ml/execution/5-51CA/asset/eye-ai/Fundus_Bounding_Box/Cropped_2-CXTC.svg]. Please wait...\n",
      "2025-09-22 14:37:03,603 - INFO - Uploading file: [/data/kb_766/EyeAI_working/deriva-ml/execution/5-51CA/asset/eye-ai/Fundus_Bounding_Box/Cropped_2-CXTC.svg] to host https://www.eye-ai.org. Please wait...\n",
      "2025-09-22 14:37:03,689 - INFO - Processing: [/data/kb_766/EyeAI_working/deriva-ml/execution/5-51CA/asset/eye-ai/Fundus_Bounding_Box/Cropped_2-CXVR.svg]\n",
      "2025-09-22 14:37:03,690 - INFO - Computed metadata for: [/data/kb_766/EyeAI_working/deriva-ml/execution/5-51CA/asset/eye-ai/Fundus_Bounding_Box/Cropped_2-CXVR.svg].\n",
      "2025-09-22 14:37:03,690 - INFO - Computing checksums for file: [/data/kb_766/EyeAI_working/deriva-ml/execution/5-51CA/asset/eye-ai/Fundus_Bounding_Box/Cropped_2-CXVR.svg]. Please wait...\n",
      "2025-09-22 14:37:03,691 - INFO - Uploading file: [/data/kb_766/EyeAI_working/deriva-ml/execution/5-51CA/asset/eye-ai/Fundus_Bounding_Box/Cropped_2-CXVR.svg] to host https://www.eye-ai.org. Please wait...\n",
      "2025-09-22 14:37:03,769 - INFO - Processing: [/data/kb_766/EyeAI_working/deriva-ml/execution/5-51CA/asset/eye-ai/Fundus_Bounding_Box/Cropped_2-CXVT.svg]\n",
      "2025-09-22 14:37:03,770 - INFO - Computed metadata for: [/data/kb_766/EyeAI_working/deriva-ml/execution/5-51CA/asset/eye-ai/Fundus_Bounding_Box/Cropped_2-CXVT.svg].\n",
      "2025-09-22 14:37:03,771 - INFO - Computing checksums for file: [/data/kb_766/EyeAI_working/deriva-ml/execution/5-51CA/asset/eye-ai/Fundus_Bounding_Box/Cropped_2-CXVT.svg]. Please wait...\n",
      "2025-09-22 14:37:03,772 - INFO - Uploading file: [/data/kb_766/EyeAI_working/deriva-ml/execution/5-51CA/asset/eye-ai/Fundus_Bounding_Box/Cropped_2-CXVT.svg] to host https://www.eye-ai.org. Please wait...\n",
      "2025-09-22 14:37:03,861 - INFO - Processing: [/data/kb_766/EyeAI_working/deriva-ml/execution/5-51CA/asset/eye-ai/Fundus_Bounding_Box/Cropped_2-CY0A.svg]\n",
      "2025-09-22 14:37:03,861 - INFO - Computed metadata for: [/data/kb_766/EyeAI_working/deriva-ml/execution/5-51CA/asset/eye-ai/Fundus_Bounding_Box/Cropped_2-CY0A.svg].\n",
      "2025-09-22 14:37:03,862 - INFO - Computing checksums for file: [/data/kb_766/EyeAI_working/deriva-ml/execution/5-51CA/asset/eye-ai/Fundus_Bounding_Box/Cropped_2-CY0A.svg]. Please wait...\n",
      "2025-09-22 14:37:03,863 - INFO - Uploading file: [/data/kb_766/EyeAI_working/deriva-ml/execution/5-51CA/asset/eye-ai/Fundus_Bounding_Box/Cropped_2-CY0A.svg] to host https://www.eye-ai.org. Please wait...\n",
      "2025-09-22 14:37:03,943 - INFO - Processing: [/data/kb_766/EyeAI_working/deriva-ml/execution/5-51CA/asset/eye-ai/Fundus_Bounding_Box/Cropped_2-CY0C.svg]\n",
      "2025-09-22 14:37:03,944 - INFO - Computed metadata for: [/data/kb_766/EyeAI_working/deriva-ml/execution/5-51CA/asset/eye-ai/Fundus_Bounding_Box/Cropped_2-CY0C.svg].\n",
      "2025-09-22 14:37:03,944 - INFO - Computing checksums for file: [/data/kb_766/EyeAI_working/deriva-ml/execution/5-51CA/asset/eye-ai/Fundus_Bounding_Box/Cropped_2-CY0C.svg]. Please wait...\n",
      "2025-09-22 14:37:03,946 - INFO - Uploading file: [/data/kb_766/EyeAI_working/deriva-ml/execution/5-51CA/asset/eye-ai/Fundus_Bounding_Box/Cropped_2-CY0C.svg] to host https://www.eye-ai.org. Please wait...\n",
      "2025-09-22 14:37:04,033 - INFO - Processing: [/data/kb_766/EyeAI_working/deriva-ml/execution/5-51CA/asset/eye-ai/Fundus_Bounding_Box/Cropped_2-CY0E.svg]\n",
      "2025-09-22 14:37:04,033 - INFO - Computed metadata for: [/data/kb_766/EyeAI_working/deriva-ml/execution/5-51CA/asset/eye-ai/Fundus_Bounding_Box/Cropped_2-CY0E.svg].\n",
      "2025-09-22 14:37:04,034 - INFO - Computing checksums for file: [/data/kb_766/EyeAI_working/deriva-ml/execution/5-51CA/asset/eye-ai/Fundus_Bounding_Box/Cropped_2-CY0E.svg]. Please wait...\n",
      "2025-09-22 14:37:04,035 - INFO - Uploading file: [/data/kb_766/EyeAI_working/deriva-ml/execution/5-51CA/asset/eye-ai/Fundus_Bounding_Box/Cropped_2-CY0E.svg] to host https://www.eye-ai.org. Please wait...\n",
      "2025-09-22 14:37:04,115 - INFO - Processing: [/data/kb_766/EyeAI_working/deriva-ml/execution/5-51CA/asset/eye-ai/Fundus_Bounding_Box/Cropped_2-CY0J.svg]\n",
      "2025-09-22 14:37:04,116 - INFO - Computed metadata for: [/data/kb_766/EyeAI_working/deriva-ml/execution/5-51CA/asset/eye-ai/Fundus_Bounding_Box/Cropped_2-CY0J.svg].\n",
      "2025-09-22 14:37:04,116 - INFO - Computing checksums for file: [/data/kb_766/EyeAI_working/deriva-ml/execution/5-51CA/asset/eye-ai/Fundus_Bounding_Box/Cropped_2-CY0J.svg]. Please wait...\n",
      "2025-09-22 14:37:04,117 - INFO - Uploading file: [/data/kb_766/EyeAI_working/deriva-ml/execution/5-51CA/asset/eye-ai/Fundus_Bounding_Box/Cropped_2-CY0J.svg] to host https://www.eye-ai.org. Please wait...\n",
      "2025-09-22 14:37:04,205 - INFO - Processing: [/data/kb_766/EyeAI_working/deriva-ml/execution/5-51CA/asset/eye-ai/Fundus_Bounding_Box/Cropped_2-CY4J.svg]\n",
      "2025-09-22 14:37:04,206 - INFO - Computed metadata for: [/data/kb_766/EyeAI_working/deriva-ml/execution/5-51CA/asset/eye-ai/Fundus_Bounding_Box/Cropped_2-CY4J.svg].\n",
      "2025-09-22 14:37:04,206 - INFO - Computing checksums for file: [/data/kb_766/EyeAI_working/deriva-ml/execution/5-51CA/asset/eye-ai/Fundus_Bounding_Box/Cropped_2-CY4J.svg]. Please wait...\n",
      "2025-09-22 14:37:04,208 - INFO - Uploading file: [/data/kb_766/EyeAI_working/deriva-ml/execution/5-51CA/asset/eye-ai/Fundus_Bounding_Box/Cropped_2-CY4J.svg] to host https://www.eye-ai.org. Please wait...\n",
      "2025-09-22 14:37:04,286 - INFO - Processing: [/data/kb_766/EyeAI_working/deriva-ml/execution/5-51CA/asset/eye-ai/Fundus_Bounding_Box/Cropped_2-CY4P.svg]\n",
      "2025-09-22 14:37:04,287 - INFO - Computed metadata for: [/data/kb_766/EyeAI_working/deriva-ml/execution/5-51CA/asset/eye-ai/Fundus_Bounding_Box/Cropped_2-CY4P.svg].\n",
      "2025-09-22 14:37:04,287 - INFO - Computing checksums for file: [/data/kb_766/EyeAI_working/deriva-ml/execution/5-51CA/asset/eye-ai/Fundus_Bounding_Box/Cropped_2-CY4P.svg]. Please wait...\n",
      "2025-09-22 14:37:04,288 - INFO - Uploading file: [/data/kb_766/EyeAI_working/deriva-ml/execution/5-51CA/asset/eye-ai/Fundus_Bounding_Box/Cropped_2-CY4P.svg] to host https://www.eye-ai.org. Please wait...\n",
      "2025-09-22 14:37:04,376 - INFO - Processing: [/data/kb_766/EyeAI_working/deriva-ml/execution/5-51CA/asset/eye-ai/Fundus_Bounding_Box/Cropped_2-CY5G.svg]\n",
      "2025-09-22 14:37:04,377 - INFO - Computed metadata for: [/data/kb_766/EyeAI_working/deriva-ml/execution/5-51CA/asset/eye-ai/Fundus_Bounding_Box/Cropped_2-CY5G.svg].\n",
      "2025-09-22 14:37:04,377 - INFO - Computing checksums for file: [/data/kb_766/EyeAI_working/deriva-ml/execution/5-51CA/asset/eye-ai/Fundus_Bounding_Box/Cropped_2-CY5G.svg]. Please wait...\n",
      "2025-09-22 14:37:04,379 - INFO - Uploading file: [/data/kb_766/EyeAI_working/deriva-ml/execution/5-51CA/asset/eye-ai/Fundus_Bounding_Box/Cropped_2-CY5G.svg] to host https://www.eye-ai.org. Please wait...\n",
      "2025-09-22 14:37:04,465 - INFO - Processing: [/data/kb_766/EyeAI_working/deriva-ml/execution/5-51CA/asset/eye-ai/Fundus_Bounding_Box/Cropped_2-CY5J.svg]\n",
      "2025-09-22 14:37:04,466 - INFO - Computed metadata for: [/data/kb_766/EyeAI_working/deriva-ml/execution/5-51CA/asset/eye-ai/Fundus_Bounding_Box/Cropped_2-CY5J.svg].\n",
      "2025-09-22 14:37:04,466 - INFO - Computing checksums for file: [/data/kb_766/EyeAI_working/deriva-ml/execution/5-51CA/asset/eye-ai/Fundus_Bounding_Box/Cropped_2-CY5J.svg]. Please wait...\n",
      "2025-09-22 14:37:04,467 - INFO - Uploading file: [/data/kb_766/EyeAI_working/deriva-ml/execution/5-51CA/asset/eye-ai/Fundus_Bounding_Box/Cropped_2-CY5J.svg] to host https://www.eye-ai.org. Please wait...\n",
      "2025-09-22 14:37:04,551 - INFO - Processing: [/data/kb_766/EyeAI_working/deriva-ml/execution/5-51CA/asset/eye-ai/Fundus_Bounding_Box/Cropped_2-CY62.svg]\n",
      "2025-09-22 14:37:04,552 - INFO - Computed metadata for: [/data/kb_766/EyeAI_working/deriva-ml/execution/5-51CA/asset/eye-ai/Fundus_Bounding_Box/Cropped_2-CY62.svg].\n",
      "2025-09-22 14:37:04,552 - INFO - Computing checksums for file: [/data/kb_766/EyeAI_working/deriva-ml/execution/5-51CA/asset/eye-ai/Fundus_Bounding_Box/Cropped_2-CY62.svg]. Please wait...\n",
      "2025-09-22 14:37:04,553 - INFO - Uploading file: [/data/kb_766/EyeAI_working/deriva-ml/execution/5-51CA/asset/eye-ai/Fundus_Bounding_Box/Cropped_2-CY62.svg] to host https://www.eye-ai.org. Please wait...\n",
      "2025-09-22 14:37:04,641 - INFO - Processing: [/data/kb_766/EyeAI_working/deriva-ml/execution/5-51CA/asset/eye-ai/Fundus_Bounding_Box/Cropped_2-CY6A.svg]\n",
      "2025-09-22 14:37:04,642 - INFO - Computed metadata for: [/data/kb_766/EyeAI_working/deriva-ml/execution/5-51CA/asset/eye-ai/Fundus_Bounding_Box/Cropped_2-CY6A.svg].\n",
      "2025-09-22 14:37:04,642 - INFO - Computing checksums for file: [/data/kb_766/EyeAI_working/deriva-ml/execution/5-51CA/asset/eye-ai/Fundus_Bounding_Box/Cropped_2-CY6A.svg]. Please wait...\n",
      "2025-09-22 14:37:04,643 - INFO - Uploading file: [/data/kb_766/EyeAI_working/deriva-ml/execution/5-51CA/asset/eye-ai/Fundus_Bounding_Box/Cropped_2-CY6A.svg] to host https://www.eye-ai.org. Please wait...\n",
      "2025-09-22 14:37:04,733 - INFO - Processing: [/data/kb_766/EyeAI_working/deriva-ml/execution/5-51CA/asset/eye-ai/Fundus_Bounding_Box/Cropped_2-CY6C.svg]\n",
      "2025-09-22 14:37:04,734 - INFO - Computed metadata for: [/data/kb_766/EyeAI_working/deriva-ml/execution/5-51CA/asset/eye-ai/Fundus_Bounding_Box/Cropped_2-CY6C.svg].\n",
      "2025-09-22 14:37:04,734 - INFO - Computing checksums for file: [/data/kb_766/EyeAI_working/deriva-ml/execution/5-51CA/asset/eye-ai/Fundus_Bounding_Box/Cropped_2-CY6C.svg]. Please wait...\n",
      "2025-09-22 14:37:04,735 - INFO - Uploading file: [/data/kb_766/EyeAI_working/deriva-ml/execution/5-51CA/asset/eye-ai/Fundus_Bounding_Box/Cropped_2-CY6C.svg] to host https://www.eye-ai.org. Please wait...\n",
      "2025-09-22 14:37:04,821 - INFO - Processing: [/data/kb_766/EyeAI_working/deriva-ml/execution/5-51CA/asset/eye-ai/Fundus_Bounding_Box/Cropped_2-CY6M.svg]\n",
      "2025-09-22 14:37:04,822 - INFO - Computed metadata for: [/data/kb_766/EyeAI_working/deriva-ml/execution/5-51CA/asset/eye-ai/Fundus_Bounding_Box/Cropped_2-CY6M.svg].\n",
      "2025-09-22 14:37:04,822 - INFO - Computing checksums for file: [/data/kb_766/EyeAI_working/deriva-ml/execution/5-51CA/asset/eye-ai/Fundus_Bounding_Box/Cropped_2-CY6M.svg]. Please wait...\n",
      "2025-09-22 14:37:04,823 - INFO - Uploading file: [/data/kb_766/EyeAI_working/deriva-ml/execution/5-51CA/asset/eye-ai/Fundus_Bounding_Box/Cropped_2-CY6M.svg] to host https://www.eye-ai.org. Please wait...\n",
      "2025-09-22 14:37:04,918 - INFO - Processing: [/data/kb_766/EyeAI_working/deriva-ml/execution/5-51CA/asset/eye-ai/Fundus_Bounding_Box/Cropped_2-CY70.svg]\n",
      "2025-09-22 14:37:04,919 - INFO - Computed metadata for: [/data/kb_766/EyeAI_working/deriva-ml/execution/5-51CA/asset/eye-ai/Fundus_Bounding_Box/Cropped_2-CY70.svg].\n",
      "2025-09-22 14:37:04,919 - INFO - Computing checksums for file: [/data/kb_766/EyeAI_working/deriva-ml/execution/5-51CA/asset/eye-ai/Fundus_Bounding_Box/Cropped_2-CY70.svg]. Please wait...\n",
      "2025-09-22 14:37:04,920 - INFO - Uploading file: [/data/kb_766/EyeAI_working/deriva-ml/execution/5-51CA/asset/eye-ai/Fundus_Bounding_Box/Cropped_2-CY70.svg] to host https://www.eye-ai.org. Please wait...\n",
      "2025-09-22 14:37:05,002 - INFO - Processing: [/data/kb_766/EyeAI_working/deriva-ml/execution/5-51CA/asset/eye-ai/Fundus_Bounding_Box/Cropped_2-CY72.svg]\n",
      "2025-09-22 14:37:05,003 - INFO - Computed metadata for: [/data/kb_766/EyeAI_working/deriva-ml/execution/5-51CA/asset/eye-ai/Fundus_Bounding_Box/Cropped_2-CY72.svg].\n",
      "2025-09-22 14:37:05,003 - INFO - Computing checksums for file: [/data/kb_766/EyeAI_working/deriva-ml/execution/5-51CA/asset/eye-ai/Fundus_Bounding_Box/Cropped_2-CY72.svg]. Please wait...\n",
      "2025-09-22 14:37:05,004 - INFO - Uploading file: [/data/kb_766/EyeAI_working/deriva-ml/execution/5-51CA/asset/eye-ai/Fundus_Bounding_Box/Cropped_2-CY72.svg] to host https://www.eye-ai.org. Please wait...\n",
      "2025-09-22 14:37:05,092 - INFO - Processing: [/data/kb_766/EyeAI_working/deriva-ml/execution/5-51CA/asset/eye-ai/Fundus_Bounding_Box/Cropped_2-CY9C.svg]\n",
      "2025-09-22 14:37:05,093 - INFO - Computed metadata for: [/data/kb_766/EyeAI_working/deriva-ml/execution/5-51CA/asset/eye-ai/Fundus_Bounding_Box/Cropped_2-CY9C.svg].\n",
      "2025-09-22 14:37:05,093 - INFO - Computing checksums for file: [/data/kb_766/EyeAI_working/deriva-ml/execution/5-51CA/asset/eye-ai/Fundus_Bounding_Box/Cropped_2-CY9C.svg]. Please wait...\n",
      "2025-09-22 14:37:05,094 - INFO - Uploading file: [/data/kb_766/EyeAI_working/deriva-ml/execution/5-51CA/asset/eye-ai/Fundus_Bounding_Box/Cropped_2-CY9C.svg] to host https://www.eye-ai.org. Please wait...\n",
      "2025-09-22 14:37:05,221 - INFO - Processing: [/data/kb_766/EyeAI_working/deriva-ml/execution/5-51CA/asset/eye-ai/Fundus_Bounding_Box/Cropped_2-CY9J.svg]\n",
      "2025-09-22 14:37:05,222 - INFO - Computed metadata for: [/data/kb_766/EyeAI_working/deriva-ml/execution/5-51CA/asset/eye-ai/Fundus_Bounding_Box/Cropped_2-CY9J.svg].\n",
      "2025-09-22 14:37:05,223 - INFO - Computing checksums for file: [/data/kb_766/EyeAI_working/deriva-ml/execution/5-51CA/asset/eye-ai/Fundus_Bounding_Box/Cropped_2-CY9J.svg]. Please wait...\n",
      "2025-09-22 14:37:05,224 - INFO - Uploading file: [/data/kb_766/EyeAI_working/deriva-ml/execution/5-51CA/asset/eye-ai/Fundus_Bounding_Box/Cropped_2-CY9J.svg] to host https://www.eye-ai.org. Please wait...\n",
      "2025-09-22 14:37:05,311 - INFO - Processing: [/data/kb_766/EyeAI_working/deriva-ml/execution/5-51CA/asset/eye-ai/Fundus_Bounding_Box/Cropped_2-CYB0.svg]\n",
      "2025-09-22 14:37:05,311 - INFO - Computed metadata for: [/data/kb_766/EyeAI_working/deriva-ml/execution/5-51CA/asset/eye-ai/Fundus_Bounding_Box/Cropped_2-CYB0.svg].\n",
      "2025-09-22 14:37:05,312 - INFO - Computing checksums for file: [/data/kb_766/EyeAI_working/deriva-ml/execution/5-51CA/asset/eye-ai/Fundus_Bounding_Box/Cropped_2-CYB0.svg]. Please wait...\n",
      "2025-09-22 14:37:05,313 - INFO - Uploading file: [/data/kb_766/EyeAI_working/deriva-ml/execution/5-51CA/asset/eye-ai/Fundus_Bounding_Box/Cropped_2-CYB0.svg] to host https://www.eye-ai.org. Please wait...\n",
      "2025-09-22 14:37:05,397 - INFO - Processing: [/data/kb_766/EyeAI_working/deriva-ml/execution/5-51CA/asset/eye-ai/Fundus_Bounding_Box/Cropped_2-CYB2.svg]\n",
      "2025-09-22 14:37:05,398 - INFO - Computed metadata for: [/data/kb_766/EyeAI_working/deriva-ml/execution/5-51CA/asset/eye-ai/Fundus_Bounding_Box/Cropped_2-CYB2.svg].\n",
      "2025-09-22 14:37:05,398 - INFO - Computing checksums for file: [/data/kb_766/EyeAI_working/deriva-ml/execution/5-51CA/asset/eye-ai/Fundus_Bounding_Box/Cropped_2-CYB2.svg]. Please wait...\n",
      "2025-09-22 14:37:05,400 - INFO - Uploading file: [/data/kb_766/EyeAI_working/deriva-ml/execution/5-51CA/asset/eye-ai/Fundus_Bounding_Box/Cropped_2-CYB2.svg] to host https://www.eye-ai.org. Please wait...\n",
      "2025-09-22 14:37:05,486 - INFO - Processing: [/data/kb_766/EyeAI_working/deriva-ml/execution/5-51CA/asset/eye-ai/Fundus_Bounding_Box/Cropped_2-CYCC.svg]\n",
      "2025-09-22 14:37:05,486 - INFO - Computed metadata for: [/data/kb_766/EyeAI_working/deriva-ml/execution/5-51CA/asset/eye-ai/Fundus_Bounding_Box/Cropped_2-CYCC.svg].\n",
      "2025-09-22 14:37:05,487 - INFO - Computing checksums for file: [/data/kb_766/EyeAI_working/deriva-ml/execution/5-51CA/asset/eye-ai/Fundus_Bounding_Box/Cropped_2-CYCC.svg]. Please wait...\n",
      "2025-09-22 14:37:05,488 - INFO - Uploading file: [/data/kb_766/EyeAI_working/deriva-ml/execution/5-51CA/asset/eye-ai/Fundus_Bounding_Box/Cropped_2-CYCC.svg] to host https://www.eye-ai.org. Please wait...\n",
      "2025-09-22 14:37:05,567 - INFO - Processing: [/data/kb_766/EyeAI_working/deriva-ml/execution/5-51CA/asset/eye-ai/Fundus_Bounding_Box/Cropped_2-CYCP.svg]\n",
      "2025-09-22 14:37:05,568 - INFO - Computed metadata for: [/data/kb_766/EyeAI_working/deriva-ml/execution/5-51CA/asset/eye-ai/Fundus_Bounding_Box/Cropped_2-CYCP.svg].\n",
      "2025-09-22 14:37:05,568 - INFO - Computing checksums for file: [/data/kb_766/EyeAI_working/deriva-ml/execution/5-51CA/asset/eye-ai/Fundus_Bounding_Box/Cropped_2-CYCP.svg]. Please wait...\n",
      "2025-09-22 14:37:05,569 - INFO - Uploading file: [/data/kb_766/EyeAI_working/deriva-ml/execution/5-51CA/asset/eye-ai/Fundus_Bounding_Box/Cropped_2-CYCP.svg] to host https://www.eye-ai.org. Please wait...\n",
      "2025-09-22 14:37:05,657 - INFO - Processing: [/data/kb_766/EyeAI_working/deriva-ml/execution/5-51CA/asset/eye-ai/Fundus_Bounding_Box/Cropped_2-CYDP.svg]\n",
      "2025-09-22 14:37:05,658 - INFO - Computed metadata for: [/data/kb_766/EyeAI_working/deriva-ml/execution/5-51CA/asset/eye-ai/Fundus_Bounding_Box/Cropped_2-CYDP.svg].\n",
      "2025-09-22 14:37:05,659 - INFO - Computing checksums for file: [/data/kb_766/EyeAI_working/deriva-ml/execution/5-51CA/asset/eye-ai/Fundus_Bounding_Box/Cropped_2-CYDP.svg]. Please wait...\n",
      "2025-09-22 14:37:05,660 - INFO - Uploading file: [/data/kb_766/EyeAI_working/deriva-ml/execution/5-51CA/asset/eye-ai/Fundus_Bounding_Box/Cropped_2-CYDP.svg] to host https://www.eye-ai.org. Please wait...\n",
      "2025-09-22 14:37:05,752 - INFO - Processing: [/data/kb_766/EyeAI_working/deriva-ml/execution/5-51CA/asset/eye-ai/Fundus_Bounding_Box/Cropped_2-CYDT.svg]\n",
      "2025-09-22 14:37:05,753 - INFO - Computed metadata for: [/data/kb_766/EyeAI_working/deriva-ml/execution/5-51CA/asset/eye-ai/Fundus_Bounding_Box/Cropped_2-CYDT.svg].\n",
      "2025-09-22 14:37:05,754 - INFO - Computing checksums for file: [/data/kb_766/EyeAI_working/deriva-ml/execution/5-51CA/asset/eye-ai/Fundus_Bounding_Box/Cropped_2-CYDT.svg]. Please wait...\n",
      "2025-09-22 14:37:05,755 - INFO - Uploading file: [/data/kb_766/EyeAI_working/deriva-ml/execution/5-51CA/asset/eye-ai/Fundus_Bounding_Box/Cropped_2-CYDT.svg] to host https://www.eye-ai.org. Please wait...\n",
      "2025-09-22 14:37:05,837 - INFO - Processing: [/data/kb_766/EyeAI_working/deriva-ml/execution/5-51CA/asset/eye-ai/Fundus_Bounding_Box/Cropped_2-CYEC.svg]\n",
      "2025-09-22 14:37:05,838 - INFO - Computed metadata for: [/data/kb_766/EyeAI_working/deriva-ml/execution/5-51CA/asset/eye-ai/Fundus_Bounding_Box/Cropped_2-CYEC.svg].\n",
      "2025-09-22 14:37:05,839 - INFO - Computing checksums for file: [/data/kb_766/EyeAI_working/deriva-ml/execution/5-51CA/asset/eye-ai/Fundus_Bounding_Box/Cropped_2-CYEC.svg]. Please wait...\n",
      "2025-09-22 14:37:05,840 - INFO - Uploading file: [/data/kb_766/EyeAI_working/deriva-ml/execution/5-51CA/asset/eye-ai/Fundus_Bounding_Box/Cropped_2-CYEC.svg] to host https://www.eye-ai.org. Please wait...\n",
      "2025-09-22 14:37:05,934 - INFO - Processing: [/data/kb_766/EyeAI_working/deriva-ml/execution/5-51CA/asset/eye-ai/Fundus_Bounding_Box/Cropped_2-CYEE.svg]\n",
      "2025-09-22 14:37:05,935 - INFO - Computed metadata for: [/data/kb_766/EyeAI_working/deriva-ml/execution/5-51CA/asset/eye-ai/Fundus_Bounding_Box/Cropped_2-CYEE.svg].\n",
      "2025-09-22 14:37:05,935 - INFO - Computing checksums for file: [/data/kb_766/EyeAI_working/deriva-ml/execution/5-51CA/asset/eye-ai/Fundus_Bounding_Box/Cropped_2-CYEE.svg]. Please wait...\n",
      "2025-09-22 14:37:05,937 - INFO - Uploading file: [/data/kb_766/EyeAI_working/deriva-ml/execution/5-51CA/asset/eye-ai/Fundus_Bounding_Box/Cropped_2-CYEE.svg] to host https://www.eye-ai.org. Please wait...\n",
      "2025-09-22 14:37:06,024 - INFO - Processing: [/data/kb_766/EyeAI_working/deriva-ml/execution/5-51CA/asset/eye-ai/Fundus_Bounding_Box/Cropped_2-CYK4.svg]\n",
      "2025-09-22 14:37:06,025 - INFO - Computed metadata for: [/data/kb_766/EyeAI_working/deriva-ml/execution/5-51CA/asset/eye-ai/Fundus_Bounding_Box/Cropped_2-CYK4.svg].\n",
      "2025-09-22 14:37:06,025 - INFO - Computing checksums for file: [/data/kb_766/EyeAI_working/deriva-ml/execution/5-51CA/asset/eye-ai/Fundus_Bounding_Box/Cropped_2-CYK4.svg]. Please wait...\n",
      "2025-09-22 14:37:06,027 - INFO - Uploading file: [/data/kb_766/EyeAI_working/deriva-ml/execution/5-51CA/asset/eye-ai/Fundus_Bounding_Box/Cropped_2-CYK4.svg] to host https://www.eye-ai.org. Please wait...\n",
      "2025-09-22 14:37:06,105 - INFO - Processing: [/data/kb_766/EyeAI_working/deriva-ml/execution/5-51CA/asset/eye-ai/Fundus_Bounding_Box/Cropped_2-CYKE.svg]\n",
      "2025-09-22 14:37:06,106 - INFO - Computed metadata for: [/data/kb_766/EyeAI_working/deriva-ml/execution/5-51CA/asset/eye-ai/Fundus_Bounding_Box/Cropped_2-CYKE.svg].\n",
      "2025-09-22 14:37:06,106 - INFO - Computing checksums for file: [/data/kb_766/EyeAI_working/deriva-ml/execution/5-51CA/asset/eye-ai/Fundus_Bounding_Box/Cropped_2-CYKE.svg]. Please wait...\n",
      "2025-09-22 14:37:06,108 - INFO - Uploading file: [/data/kb_766/EyeAI_working/deriva-ml/execution/5-51CA/asset/eye-ai/Fundus_Bounding_Box/Cropped_2-CYKE.svg] to host https://www.eye-ai.org. Please wait...\n",
      "2025-09-22 14:37:06,198 - INFO - Processing: [/data/kb_766/EyeAI_working/deriva-ml/execution/5-51CA/asset/eye-ai/Fundus_Bounding_Box/Cropped_2-CYMA.svg]\n",
      "2025-09-22 14:37:06,198 - INFO - Computed metadata for: [/data/kb_766/EyeAI_working/deriva-ml/execution/5-51CA/asset/eye-ai/Fundus_Bounding_Box/Cropped_2-CYMA.svg].\n",
      "2025-09-22 14:37:06,199 - INFO - Computing checksums for file: [/data/kb_766/EyeAI_working/deriva-ml/execution/5-51CA/asset/eye-ai/Fundus_Bounding_Box/Cropped_2-CYMA.svg]. Please wait...\n",
      "2025-09-22 14:37:06,200 - INFO - Uploading file: [/data/kb_766/EyeAI_working/deriva-ml/execution/5-51CA/asset/eye-ai/Fundus_Bounding_Box/Cropped_2-CYMA.svg] to host https://www.eye-ai.org. Please wait...\n",
      "2025-09-22 14:37:06,281 - INFO - Processing: [/data/kb_766/EyeAI_working/deriva-ml/execution/5-51CA/asset/eye-ai/Fundus_Bounding_Box/Cropped_2-CYMC.svg]\n",
      "2025-09-22 14:37:06,282 - INFO - Computed metadata for: [/data/kb_766/EyeAI_working/deriva-ml/execution/5-51CA/asset/eye-ai/Fundus_Bounding_Box/Cropped_2-CYMC.svg].\n",
      "2025-09-22 14:37:06,282 - INFO - Computing checksums for file: [/data/kb_766/EyeAI_working/deriva-ml/execution/5-51CA/asset/eye-ai/Fundus_Bounding_Box/Cropped_2-CYMC.svg]. Please wait...\n",
      "2025-09-22 14:37:06,284 - INFO - Uploading file: [/data/kb_766/EyeAI_working/deriva-ml/execution/5-51CA/asset/eye-ai/Fundus_Bounding_Box/Cropped_2-CYMC.svg] to host https://www.eye-ai.org. Please wait...\n",
      "2025-09-22 14:37:06,370 - INFO - Processing: [/data/kb_766/EyeAI_working/deriva-ml/execution/5-51CA/asset/eye-ai/Fundus_Bounding_Box/Cropped_2-CYRC.svg]\n",
      "2025-09-22 14:37:06,370 - INFO - Computed metadata for: [/data/kb_766/EyeAI_working/deriva-ml/execution/5-51CA/asset/eye-ai/Fundus_Bounding_Box/Cropped_2-CYRC.svg].\n",
      "2025-09-22 14:37:06,371 - INFO - Computing checksums for file: [/data/kb_766/EyeAI_working/deriva-ml/execution/5-51CA/asset/eye-ai/Fundus_Bounding_Box/Cropped_2-CYRC.svg]. Please wait...\n",
      "2025-09-22 14:37:06,372 - INFO - Uploading file: [/data/kb_766/EyeAI_working/deriva-ml/execution/5-51CA/asset/eye-ai/Fundus_Bounding_Box/Cropped_2-CYRC.svg] to host https://www.eye-ai.org. Please wait...\n",
      "2025-09-22 14:37:06,460 - INFO - Processing: [/data/kb_766/EyeAI_working/deriva-ml/execution/5-51CA/asset/eye-ai/Fundus_Bounding_Box/Cropped_2-CYRG.svg]\n",
      "2025-09-22 14:37:06,460 - INFO - Computed metadata for: [/data/kb_766/EyeAI_working/deriva-ml/execution/5-51CA/asset/eye-ai/Fundus_Bounding_Box/Cropped_2-CYRG.svg].\n",
      "2025-09-22 14:37:06,461 - INFO - Computing checksums for file: [/data/kb_766/EyeAI_working/deriva-ml/execution/5-51CA/asset/eye-ai/Fundus_Bounding_Box/Cropped_2-CYRG.svg]. Please wait...\n",
      "2025-09-22 14:37:06,462 - INFO - Uploading file: [/data/kb_766/EyeAI_working/deriva-ml/execution/5-51CA/asset/eye-ai/Fundus_Bounding_Box/Cropped_2-CYRG.svg] to host https://www.eye-ai.org. Please wait...\n",
      "2025-09-22 14:37:06,553 - INFO - Processing: [/data/kb_766/EyeAI_working/deriva-ml/execution/5-51CA/asset/eye-ai/Fundus_Bounding_Box/Cropped_2-CYRP.svg]\n",
      "2025-09-22 14:37:06,554 - INFO - Computed metadata for: [/data/kb_766/EyeAI_working/deriva-ml/execution/5-51CA/asset/eye-ai/Fundus_Bounding_Box/Cropped_2-CYRP.svg].\n",
      "2025-09-22 14:37:06,555 - INFO - Computing checksums for file: [/data/kb_766/EyeAI_working/deriva-ml/execution/5-51CA/asset/eye-ai/Fundus_Bounding_Box/Cropped_2-CYRP.svg]. Please wait...\n",
      "2025-09-22 14:37:06,556 - INFO - Uploading file: [/data/kb_766/EyeAI_working/deriva-ml/execution/5-51CA/asset/eye-ai/Fundus_Bounding_Box/Cropped_2-CYRP.svg] to host https://www.eye-ai.org. Please wait...\n",
      "2025-09-22 14:37:06,645 - INFO - Processing: [/data/kb_766/EyeAI_working/deriva-ml/execution/5-51CA/asset/eye-ai/Fundus_Bounding_Box/Cropped_2-CYSJ.svg]\n",
      "2025-09-22 14:37:06,646 - INFO - Computed metadata for: [/data/kb_766/EyeAI_working/deriva-ml/execution/5-51CA/asset/eye-ai/Fundus_Bounding_Box/Cropped_2-CYSJ.svg].\n",
      "2025-09-22 14:37:06,646 - INFO - Computing checksums for file: [/data/kb_766/EyeAI_working/deriva-ml/execution/5-51CA/asset/eye-ai/Fundus_Bounding_Box/Cropped_2-CYSJ.svg]. Please wait...\n",
      "2025-09-22 14:37:06,647 - INFO - Uploading file: [/data/kb_766/EyeAI_working/deriva-ml/execution/5-51CA/asset/eye-ai/Fundus_Bounding_Box/Cropped_2-CYSJ.svg] to host https://www.eye-ai.org. Please wait...\n",
      "2025-09-22 14:37:06,766 - INFO - Processing: [/data/kb_766/EyeAI_working/deriva-ml/execution/5-51CA/asset/eye-ai/Fundus_Bounding_Box/Cropped_2-CYST.svg]\n",
      "2025-09-22 14:37:06,767 - INFO - Computed metadata for: [/data/kb_766/EyeAI_working/deriva-ml/execution/5-51CA/asset/eye-ai/Fundus_Bounding_Box/Cropped_2-CYST.svg].\n",
      "2025-09-22 14:37:06,767 - INFO - Computing checksums for file: [/data/kb_766/EyeAI_working/deriva-ml/execution/5-51CA/asset/eye-ai/Fundus_Bounding_Box/Cropped_2-CYST.svg]. Please wait...\n",
      "2025-09-22 14:37:06,769 - INFO - Uploading file: [/data/kb_766/EyeAI_working/deriva-ml/execution/5-51CA/asset/eye-ai/Fundus_Bounding_Box/Cropped_2-CYST.svg] to host https://www.eye-ai.org. Please wait...\n",
      "2025-09-22 14:37:06,880 - INFO - Processing: [/data/kb_766/EyeAI_working/deriva-ml/execution/5-51CA/asset/eye-ai/Fundus_Bounding_Box/Cropped_2-CYTC.svg]\n",
      "2025-09-22 14:37:06,880 - INFO - Computed metadata for: [/data/kb_766/EyeAI_working/deriva-ml/execution/5-51CA/asset/eye-ai/Fundus_Bounding_Box/Cropped_2-CYTC.svg].\n",
      "2025-09-22 14:37:06,881 - INFO - Computing checksums for file: [/data/kb_766/EyeAI_working/deriva-ml/execution/5-51CA/asset/eye-ai/Fundus_Bounding_Box/Cropped_2-CYTC.svg]. Please wait...\n",
      "2025-09-22 14:37:06,882 - INFO - Uploading file: [/data/kb_766/EyeAI_working/deriva-ml/execution/5-51CA/asset/eye-ai/Fundus_Bounding_Box/Cropped_2-CYTC.svg] to host https://www.eye-ai.org. Please wait...\n",
      "2025-09-22 14:37:06,973 - INFO - Processing: [/data/kb_766/EyeAI_working/deriva-ml/execution/5-51CA/asset/eye-ai/Fundus_Bounding_Box/Cropped_2-CYTJ.svg]\n",
      "2025-09-22 14:37:06,973 - INFO - Computed metadata for: [/data/kb_766/EyeAI_working/deriva-ml/execution/5-51CA/asset/eye-ai/Fundus_Bounding_Box/Cropped_2-CYTJ.svg].\n",
      "2025-09-22 14:37:06,974 - INFO - Computing checksums for file: [/data/kb_766/EyeAI_working/deriva-ml/execution/5-51CA/asset/eye-ai/Fundus_Bounding_Box/Cropped_2-CYTJ.svg]. Please wait...\n",
      "2025-09-22 14:37:06,975 - INFO - Uploading file: [/data/kb_766/EyeAI_working/deriva-ml/execution/5-51CA/asset/eye-ai/Fundus_Bounding_Box/Cropped_2-CYTJ.svg] to host https://www.eye-ai.org. Please wait...\n",
      "2025-09-22 14:37:07,059 - INFO - Processing: [/data/kb_766/EyeAI_working/deriva-ml/execution/5-51CA/asset/eye-ai/Fundus_Bounding_Box/Cropped_2-CYTR.svg]\n",
      "2025-09-22 14:37:07,060 - INFO - Computed metadata for: [/data/kb_766/EyeAI_working/deriva-ml/execution/5-51CA/asset/eye-ai/Fundus_Bounding_Box/Cropped_2-CYTR.svg].\n",
      "2025-09-22 14:37:07,060 - INFO - Computing checksums for file: [/data/kb_766/EyeAI_working/deriva-ml/execution/5-51CA/asset/eye-ai/Fundus_Bounding_Box/Cropped_2-CYTR.svg]. Please wait...\n",
      "2025-09-22 14:37:07,061 - INFO - Uploading file: [/data/kb_766/EyeAI_working/deriva-ml/execution/5-51CA/asset/eye-ai/Fundus_Bounding_Box/Cropped_2-CYTR.svg] to host https://www.eye-ai.org. Please wait...\n",
      "2025-09-22 14:37:07,141 - INFO - Processing: [/data/kb_766/EyeAI_working/deriva-ml/execution/5-51CA/asset/eye-ai/Fundus_Bounding_Box/Cropped_2-CYTY.svg]\n",
      "2025-09-22 14:37:07,141 - INFO - Computed metadata for: [/data/kb_766/EyeAI_working/deriva-ml/execution/5-51CA/asset/eye-ai/Fundus_Bounding_Box/Cropped_2-CYTY.svg].\n",
      "2025-09-22 14:37:07,142 - INFO - Computing checksums for file: [/data/kb_766/EyeAI_working/deriva-ml/execution/5-51CA/asset/eye-ai/Fundus_Bounding_Box/Cropped_2-CYTY.svg]. Please wait...\n",
      "2025-09-22 14:37:07,143 - INFO - Uploading file: [/data/kb_766/EyeAI_working/deriva-ml/execution/5-51CA/asset/eye-ai/Fundus_Bounding_Box/Cropped_2-CYTY.svg] to host https://www.eye-ai.org. Please wait...\n",
      "2025-09-22 14:37:07,226 - INFO - Processing: [/data/kb_766/EyeAI_working/deriva-ml/execution/5-51CA/asset/eye-ai/Fundus_Bounding_Box/Cropped_2-CYWE.svg]\n",
      "2025-09-22 14:37:07,227 - INFO - Computed metadata for: [/data/kb_766/EyeAI_working/deriva-ml/execution/5-51CA/asset/eye-ai/Fundus_Bounding_Box/Cropped_2-CYWE.svg].\n",
      "2025-09-22 14:37:07,227 - INFO - Computing checksums for file: [/data/kb_766/EyeAI_working/deriva-ml/execution/5-51CA/asset/eye-ai/Fundus_Bounding_Box/Cropped_2-CYWE.svg]. Please wait...\n",
      "2025-09-22 14:37:07,229 - INFO - Uploading file: [/data/kb_766/EyeAI_working/deriva-ml/execution/5-51CA/asset/eye-ai/Fundus_Bounding_Box/Cropped_2-CYWE.svg] to host https://www.eye-ai.org. Please wait...\n",
      "2025-09-22 14:37:07,309 - INFO - Processing: [/data/kb_766/EyeAI_working/deriva-ml/execution/5-51CA/asset/eye-ai/Fundus_Bounding_Box/Cropped_2-CYWJ.svg]\n",
      "2025-09-22 14:37:07,310 - INFO - Computed metadata for: [/data/kb_766/EyeAI_working/deriva-ml/execution/5-51CA/asset/eye-ai/Fundus_Bounding_Box/Cropped_2-CYWJ.svg].\n",
      "2025-09-22 14:37:07,310 - INFO - Computing checksums for file: [/data/kb_766/EyeAI_working/deriva-ml/execution/5-51CA/asset/eye-ai/Fundus_Bounding_Box/Cropped_2-CYWJ.svg]. Please wait...\n",
      "2025-09-22 14:37:07,311 - INFO - Uploading file: [/data/kb_766/EyeAI_working/deriva-ml/execution/5-51CA/asset/eye-ai/Fundus_Bounding_Box/Cropped_2-CYWJ.svg] to host https://www.eye-ai.org. Please wait...\n",
      "2025-09-22 14:37:07,396 - INFO - Processing: [/data/kb_766/EyeAI_working/deriva-ml/execution/5-51CA/asset/eye-ai/Fundus_Bounding_Box/Cropped_2-CYX4.svg]\n",
      "2025-09-22 14:37:07,397 - INFO - Computed metadata for: [/data/kb_766/EyeAI_working/deriva-ml/execution/5-51CA/asset/eye-ai/Fundus_Bounding_Box/Cropped_2-CYX4.svg].\n",
      "2025-09-22 14:37:07,397 - INFO - Computing checksums for file: [/data/kb_766/EyeAI_working/deriva-ml/execution/5-51CA/asset/eye-ai/Fundus_Bounding_Box/Cropped_2-CYX4.svg]. Please wait...\n",
      "2025-09-22 14:37:07,398 - INFO - Uploading file: [/data/kb_766/EyeAI_working/deriva-ml/execution/5-51CA/asset/eye-ai/Fundus_Bounding_Box/Cropped_2-CYX4.svg] to host https://www.eye-ai.org. Please wait...\n",
      "2025-09-22 14:37:07,479 - INFO - Processing: [/data/kb_766/EyeAI_working/deriva-ml/execution/5-51CA/asset/eye-ai/Fundus_Bounding_Box/Cropped_2-CYXA.svg]\n",
      "2025-09-22 14:37:07,480 - INFO - Computed metadata for: [/data/kb_766/EyeAI_working/deriva-ml/execution/5-51CA/asset/eye-ai/Fundus_Bounding_Box/Cropped_2-CYXA.svg].\n",
      "2025-09-22 14:37:07,481 - INFO - Computing checksums for file: [/data/kb_766/EyeAI_working/deriva-ml/execution/5-51CA/asset/eye-ai/Fundus_Bounding_Box/Cropped_2-CYXA.svg]. Please wait...\n",
      "2025-09-22 14:37:07,482 - INFO - Uploading file: [/data/kb_766/EyeAI_working/deriva-ml/execution/5-51CA/asset/eye-ai/Fundus_Bounding_Box/Cropped_2-CYXA.svg] to host https://www.eye-ai.org. Please wait...\n",
      "2025-09-22 14:37:07,564 - INFO - Processing: [/data/kb_766/EyeAI_working/deriva-ml/execution/5-51CA/asset/eye-ai/Fundus_Bounding_Box/Cropped_2-CYZP.svg]\n",
      "2025-09-22 14:37:07,565 - INFO - Computed metadata for: [/data/kb_766/EyeAI_working/deriva-ml/execution/5-51CA/asset/eye-ai/Fundus_Bounding_Box/Cropped_2-CYZP.svg].\n",
      "2025-09-22 14:37:07,566 - INFO - Computing checksums for file: [/data/kb_766/EyeAI_working/deriva-ml/execution/5-51CA/asset/eye-ai/Fundus_Bounding_Box/Cropped_2-CYZP.svg]. Please wait...\n",
      "2025-09-22 14:37:07,567 - INFO - Uploading file: [/data/kb_766/EyeAI_working/deriva-ml/execution/5-51CA/asset/eye-ai/Fundus_Bounding_Box/Cropped_2-CYZP.svg] to host https://www.eye-ai.org. Please wait...\n",
      "2025-09-22 14:37:07,648 - INFO - Processing: [/data/kb_766/EyeAI_working/deriva-ml/execution/5-51CA/asset/eye-ai/Fundus_Bounding_Box/Cropped_2-CYZR.svg]\n",
      "2025-09-22 14:37:07,648 - INFO - Computed metadata for: [/data/kb_766/EyeAI_working/deriva-ml/execution/5-51CA/asset/eye-ai/Fundus_Bounding_Box/Cropped_2-CYZR.svg].\n",
      "2025-09-22 14:37:07,649 - INFO - Computing checksums for file: [/data/kb_766/EyeAI_working/deriva-ml/execution/5-51CA/asset/eye-ai/Fundus_Bounding_Box/Cropped_2-CYZR.svg]. Please wait...\n",
      "2025-09-22 14:37:07,651 - INFO - Uploading file: [/data/kb_766/EyeAI_working/deriva-ml/execution/5-51CA/asset/eye-ai/Fundus_Bounding_Box/Cropped_2-CYZR.svg] to host https://www.eye-ai.org. Please wait...\n",
      "2025-09-22 14:37:07,730 - INFO - Processing: [/data/kb_766/EyeAI_working/deriva-ml/execution/5-51CA/asset/eye-ai/Fundus_Bounding_Box/Cropped_2-CYZY.svg]\n",
      "2025-09-22 14:37:07,731 - INFO - Computed metadata for: [/data/kb_766/EyeAI_working/deriva-ml/execution/5-51CA/asset/eye-ai/Fundus_Bounding_Box/Cropped_2-CYZY.svg].\n",
      "2025-09-22 14:37:07,732 - INFO - Computing checksums for file: [/data/kb_766/EyeAI_working/deriva-ml/execution/5-51CA/asset/eye-ai/Fundus_Bounding_Box/Cropped_2-CYZY.svg]. Please wait...\n",
      "2025-09-22 14:37:07,733 - INFO - Uploading file: [/data/kb_766/EyeAI_working/deriva-ml/execution/5-51CA/asset/eye-ai/Fundus_Bounding_Box/Cropped_2-CYZY.svg] to host https://www.eye-ai.org. Please wait...\n",
      "2025-09-22 14:37:07,817 - INFO - Processing: [/data/kb_766/EyeAI_working/deriva-ml/execution/5-51CA/asset/eye-ai/Fundus_Bounding_Box/Cropped_2-CZ16.svg]\n",
      "2025-09-22 14:37:07,817 - INFO - Computed metadata for: [/data/kb_766/EyeAI_working/deriva-ml/execution/5-51CA/asset/eye-ai/Fundus_Bounding_Box/Cropped_2-CZ16.svg].\n",
      "2025-09-22 14:37:07,818 - INFO - Computing checksums for file: [/data/kb_766/EyeAI_working/deriva-ml/execution/5-51CA/asset/eye-ai/Fundus_Bounding_Box/Cropped_2-CZ16.svg]. Please wait...\n",
      "2025-09-22 14:37:07,819 - INFO - Uploading file: [/data/kb_766/EyeAI_working/deriva-ml/execution/5-51CA/asset/eye-ai/Fundus_Bounding_Box/Cropped_2-CZ16.svg] to host https://www.eye-ai.org. Please wait...\n",
      "2025-09-22 14:37:07,902 - INFO - Processing: [/data/kb_766/EyeAI_working/deriva-ml/execution/5-51CA/asset/eye-ai/Fundus_Bounding_Box/Cropped_2-CZ18.svg]\n",
      "2025-09-22 14:37:07,903 - INFO - Computed metadata for: [/data/kb_766/EyeAI_working/deriva-ml/execution/5-51CA/asset/eye-ai/Fundus_Bounding_Box/Cropped_2-CZ18.svg].\n",
      "2025-09-22 14:37:07,904 - INFO - Computing checksums for file: [/data/kb_766/EyeAI_working/deriva-ml/execution/5-51CA/asset/eye-ai/Fundus_Bounding_Box/Cropped_2-CZ18.svg]. Please wait...\n",
      "2025-09-22 14:37:07,905 - INFO - Uploading file: [/data/kb_766/EyeAI_working/deriva-ml/execution/5-51CA/asset/eye-ai/Fundus_Bounding_Box/Cropped_2-CZ18.svg] to host https://www.eye-ai.org. Please wait...\n",
      "2025-09-22 14:37:07,993 - INFO - Processing: [/data/kb_766/EyeAI_working/deriva-ml/execution/5-51CA/asset/eye-ai/Fundus_Bounding_Box/Cropped_2-CZA2.svg]\n",
      "2025-09-22 14:37:07,994 - INFO - Computed metadata for: [/data/kb_766/EyeAI_working/deriva-ml/execution/5-51CA/asset/eye-ai/Fundus_Bounding_Box/Cropped_2-CZA2.svg].\n",
      "2025-09-22 14:37:07,995 - INFO - Computing checksums for file: [/data/kb_766/EyeAI_working/deriva-ml/execution/5-51CA/asset/eye-ai/Fundus_Bounding_Box/Cropped_2-CZA2.svg]. Please wait...\n",
      "2025-09-22 14:37:07,996 - INFO - Uploading file: [/data/kb_766/EyeAI_working/deriva-ml/execution/5-51CA/asset/eye-ai/Fundus_Bounding_Box/Cropped_2-CZA2.svg] to host https://www.eye-ai.org. Please wait...\n",
      "2025-09-22 14:37:08,078 - INFO - Processing: [/data/kb_766/EyeAI_working/deriva-ml/execution/5-51CA/asset/eye-ai/Fundus_Bounding_Box/Cropped_2-CZD6.svg]\n",
      "2025-09-22 14:37:08,079 - INFO - Computed metadata for: [/data/kb_766/EyeAI_working/deriva-ml/execution/5-51CA/asset/eye-ai/Fundus_Bounding_Box/Cropped_2-CZD6.svg].\n",
      "2025-09-22 14:37:08,079 - INFO - Computing checksums for file: [/data/kb_766/EyeAI_working/deriva-ml/execution/5-51CA/asset/eye-ai/Fundus_Bounding_Box/Cropped_2-CZD6.svg]. Please wait...\n",
      "2025-09-22 14:37:08,080 - INFO - Uploading file: [/data/kb_766/EyeAI_working/deriva-ml/execution/5-51CA/asset/eye-ai/Fundus_Bounding_Box/Cropped_2-CZD6.svg] to host https://www.eye-ai.org. Please wait...\n",
      "2025-09-22 14:37:08,174 - INFO - Processing: [/data/kb_766/EyeAI_working/deriva-ml/execution/5-51CA/asset/eye-ai/Fundus_Bounding_Box/Cropped_2-CZDA.svg]\n",
      "2025-09-22 14:37:08,174 - INFO - Computed metadata for: [/data/kb_766/EyeAI_working/deriva-ml/execution/5-51CA/asset/eye-ai/Fundus_Bounding_Box/Cropped_2-CZDA.svg].\n",
      "2025-09-22 14:37:08,175 - INFO - Computing checksums for file: [/data/kb_766/EyeAI_working/deriva-ml/execution/5-51CA/asset/eye-ai/Fundus_Bounding_Box/Cropped_2-CZDA.svg]. Please wait...\n",
      "2025-09-22 14:37:08,176 - INFO - Uploading file: [/data/kb_766/EyeAI_working/deriva-ml/execution/5-51CA/asset/eye-ai/Fundus_Bounding_Box/Cropped_2-CZDA.svg] to host https://www.eye-ai.org. Please wait...\n",
      "2025-09-22 14:37:08,255 - INFO - Processing: [/data/kb_766/EyeAI_working/deriva-ml/execution/5-51CA/asset/eye-ai/Fundus_Bounding_Box/Cropped_2-CZEC.svg]\n",
      "2025-09-22 14:37:08,256 - INFO - Computed metadata for: [/data/kb_766/EyeAI_working/deriva-ml/execution/5-51CA/asset/eye-ai/Fundus_Bounding_Box/Cropped_2-CZEC.svg].\n",
      "2025-09-22 14:37:08,257 - INFO - Computing checksums for file: [/data/kb_766/EyeAI_working/deriva-ml/execution/5-51CA/asset/eye-ai/Fundus_Bounding_Box/Cropped_2-CZEC.svg]. Please wait...\n",
      "2025-09-22 14:37:08,258 - INFO - Uploading file: [/data/kb_766/EyeAI_working/deriva-ml/execution/5-51CA/asset/eye-ai/Fundus_Bounding_Box/Cropped_2-CZEC.svg] to host https://www.eye-ai.org. Please wait...\n",
      "2025-09-22 14:37:08,344 - INFO - Processing: [/data/kb_766/EyeAI_working/deriva-ml/execution/5-51CA/asset/eye-ai/Fundus_Bounding_Box/Cropped_2-CZF8.svg]\n",
      "2025-09-22 14:37:08,345 - INFO - Computed metadata for: [/data/kb_766/EyeAI_working/deriva-ml/execution/5-51CA/asset/eye-ai/Fundus_Bounding_Box/Cropped_2-CZF8.svg].\n",
      "2025-09-22 14:37:08,346 - INFO - Computing checksums for file: [/data/kb_766/EyeAI_working/deriva-ml/execution/5-51CA/asset/eye-ai/Fundus_Bounding_Box/Cropped_2-CZF8.svg]. Please wait...\n",
      "2025-09-22 14:37:08,347 - INFO - Uploading file: [/data/kb_766/EyeAI_working/deriva-ml/execution/5-51CA/asset/eye-ai/Fundus_Bounding_Box/Cropped_2-CZF8.svg] to host https://www.eye-ai.org. Please wait...\n",
      "2025-09-22 14:37:08,428 - INFO - Processing: [/data/kb_766/EyeAI_working/deriva-ml/execution/5-51CA/asset/eye-ai/Fundus_Bounding_Box/Cropped_2-CZFA.svg]\n",
      "2025-09-22 14:37:08,429 - INFO - Computed metadata for: [/data/kb_766/EyeAI_working/deriva-ml/execution/5-51CA/asset/eye-ai/Fundus_Bounding_Box/Cropped_2-CZFA.svg].\n",
      "2025-09-22 14:37:08,429 - INFO - Computing checksums for file: [/data/kb_766/EyeAI_working/deriva-ml/execution/5-51CA/asset/eye-ai/Fundus_Bounding_Box/Cropped_2-CZFA.svg]. Please wait...\n",
      "2025-09-22 14:37:08,431 - INFO - Uploading file: [/data/kb_766/EyeAI_working/deriva-ml/execution/5-51CA/asset/eye-ai/Fundus_Bounding_Box/Cropped_2-CZFA.svg] to host https://www.eye-ai.org. Please wait...\n",
      "2025-09-22 14:37:08,517 - INFO - Processing: [/data/kb_766/EyeAI_working/deriva-ml/execution/5-51CA/asset/eye-ai/Fundus_Bounding_Box/Cropped_2-CZH8.svg]\n",
      "2025-09-22 14:37:08,518 - INFO - Computed metadata for: [/data/kb_766/EyeAI_working/deriva-ml/execution/5-51CA/asset/eye-ai/Fundus_Bounding_Box/Cropped_2-CZH8.svg].\n",
      "2025-09-22 14:37:08,519 - INFO - Computing checksums for file: [/data/kb_766/EyeAI_working/deriva-ml/execution/5-51CA/asset/eye-ai/Fundus_Bounding_Box/Cropped_2-CZH8.svg]. Please wait...\n",
      "2025-09-22 14:37:08,520 - INFO - Uploading file: [/data/kb_766/EyeAI_working/deriva-ml/execution/5-51CA/asset/eye-ai/Fundus_Bounding_Box/Cropped_2-CZH8.svg] to host https://www.eye-ai.org. Please wait...\n",
      "2025-09-22 14:37:08,601 - INFO - Processing: [/data/kb_766/EyeAI_working/deriva-ml/execution/5-51CA/asset/eye-ai/Fundus_Bounding_Box/Cropped_2-CZHC.svg]\n",
      "2025-09-22 14:37:08,602 - INFO - Computed metadata for: [/data/kb_766/EyeAI_working/deriva-ml/execution/5-51CA/asset/eye-ai/Fundus_Bounding_Box/Cropped_2-CZHC.svg].\n",
      "2025-09-22 14:37:08,603 - INFO - Computing checksums for file: [/data/kb_766/EyeAI_working/deriva-ml/execution/5-51CA/asset/eye-ai/Fundus_Bounding_Box/Cropped_2-CZHC.svg]. Please wait...\n",
      "2025-09-22 14:37:08,604 - INFO - Uploading file: [/data/kb_766/EyeAI_working/deriva-ml/execution/5-51CA/asset/eye-ai/Fundus_Bounding_Box/Cropped_2-CZHC.svg] to host https://www.eye-ai.org. Please wait...\n",
      "2025-09-22 14:37:08,693 - INFO - Processing: [/data/kb_766/EyeAI_working/deriva-ml/execution/5-51CA/asset/eye-ai/Fundus_Bounding_Box/Cropped_2-CZKA.svg]\n",
      "2025-09-22 14:37:08,693 - INFO - Computed metadata for: [/data/kb_766/EyeAI_working/deriva-ml/execution/5-51CA/asset/eye-ai/Fundus_Bounding_Box/Cropped_2-CZKA.svg].\n",
      "2025-09-22 14:37:08,694 - INFO - Computing checksums for file: [/data/kb_766/EyeAI_working/deriva-ml/execution/5-51CA/asset/eye-ai/Fundus_Bounding_Box/Cropped_2-CZKA.svg]. Please wait...\n",
      "2025-09-22 14:37:08,696 - INFO - Uploading file: [/data/kb_766/EyeAI_working/deriva-ml/execution/5-51CA/asset/eye-ai/Fundus_Bounding_Box/Cropped_2-CZKA.svg] to host https://www.eye-ai.org. Please wait...\n",
      "2025-09-22 14:37:08,777 - INFO - Processing: [/data/kb_766/EyeAI_working/deriva-ml/execution/5-51CA/asset/eye-ai/Fundus_Bounding_Box/Cropped_2-CZKE.svg]\n",
      "2025-09-22 14:37:08,777 - INFO - Computed metadata for: [/data/kb_766/EyeAI_working/deriva-ml/execution/5-51CA/asset/eye-ai/Fundus_Bounding_Box/Cropped_2-CZKE.svg].\n",
      "2025-09-22 14:37:08,778 - INFO - Computing checksums for file: [/data/kb_766/EyeAI_working/deriva-ml/execution/5-51CA/asset/eye-ai/Fundus_Bounding_Box/Cropped_2-CZKE.svg]. Please wait...\n",
      "2025-09-22 14:37:08,779 - INFO - Uploading file: [/data/kb_766/EyeAI_working/deriva-ml/execution/5-51CA/asset/eye-ai/Fundus_Bounding_Box/Cropped_2-CZKE.svg] to host https://www.eye-ai.org. Please wait...\n",
      "2025-09-22 14:37:08,862 - INFO - Processing: [/data/kb_766/EyeAI_working/deriva-ml/execution/5-51CA/asset/eye-ai/Fundus_Bounding_Box/Cropped_2-CZQ2.svg]\n",
      "2025-09-22 14:37:08,863 - INFO - Computed metadata for: [/data/kb_766/EyeAI_working/deriva-ml/execution/5-51CA/asset/eye-ai/Fundus_Bounding_Box/Cropped_2-CZQ2.svg].\n",
      "2025-09-22 14:37:08,864 - INFO - Computing checksums for file: [/data/kb_766/EyeAI_working/deriva-ml/execution/5-51CA/asset/eye-ai/Fundus_Bounding_Box/Cropped_2-CZQ2.svg]. Please wait...\n",
      "2025-09-22 14:37:08,865 - INFO - Uploading file: [/data/kb_766/EyeAI_working/deriva-ml/execution/5-51CA/asset/eye-ai/Fundus_Bounding_Box/Cropped_2-CZQ2.svg] to host https://www.eye-ai.org. Please wait...\n",
      "2025-09-22 14:37:08,953 - INFO - Processing: [/data/kb_766/EyeAI_working/deriva-ml/execution/5-51CA/asset/eye-ai/Fundus_Bounding_Box/Cropped_2-CZWJ.svg]\n",
      "2025-09-22 14:37:08,954 - INFO - Computed metadata for: [/data/kb_766/EyeAI_working/deriva-ml/execution/5-51CA/asset/eye-ai/Fundus_Bounding_Box/Cropped_2-CZWJ.svg].\n",
      "2025-09-22 14:37:08,955 - INFO - Computing checksums for file: [/data/kb_766/EyeAI_working/deriva-ml/execution/5-51CA/asset/eye-ai/Fundus_Bounding_Box/Cropped_2-CZWJ.svg]. Please wait...\n",
      "2025-09-22 14:37:08,956 - INFO - Uploading file: [/data/kb_766/EyeAI_working/deriva-ml/execution/5-51CA/asset/eye-ai/Fundus_Bounding_Box/Cropped_2-CZWJ.svg] to host https://www.eye-ai.org. Please wait...\n",
      "2025-09-22 14:37:09,044 - INFO - Processing: [/data/kb_766/EyeAI_working/deriva-ml/execution/5-51CA/asset/eye-ai/Fundus_Bounding_Box/Cropped_2-CZWM.svg]\n",
      "2025-09-22 14:37:09,045 - INFO - Computed metadata for: [/data/kb_766/EyeAI_working/deriva-ml/execution/5-51CA/asset/eye-ai/Fundus_Bounding_Box/Cropped_2-CZWM.svg].\n",
      "2025-09-22 14:37:09,045 - INFO - Computing checksums for file: [/data/kb_766/EyeAI_working/deriva-ml/execution/5-51CA/asset/eye-ai/Fundus_Bounding_Box/Cropped_2-CZWM.svg]. Please wait...\n",
      "2025-09-22 14:37:09,047 - INFO - Uploading file: [/data/kb_766/EyeAI_working/deriva-ml/execution/5-51CA/asset/eye-ai/Fundus_Bounding_Box/Cropped_2-CZWM.svg] to host https://www.eye-ai.org. Please wait...\n",
      "2025-09-22 14:37:09,128 - INFO - Processing: [/data/kb_766/EyeAI_working/deriva-ml/execution/5-51CA/asset/eye-ai/Fundus_Bounding_Box/Cropped_2-D022.svg]\n",
      "2025-09-22 14:37:09,128 - INFO - Computed metadata for: [/data/kb_766/EyeAI_working/deriva-ml/execution/5-51CA/asset/eye-ai/Fundus_Bounding_Box/Cropped_2-D022.svg].\n",
      "2025-09-22 14:37:09,129 - INFO - Computing checksums for file: [/data/kb_766/EyeAI_working/deriva-ml/execution/5-51CA/asset/eye-ai/Fundus_Bounding_Box/Cropped_2-D022.svg]. Please wait...\n",
      "2025-09-22 14:37:09,130 - INFO - Uploading file: [/data/kb_766/EyeAI_working/deriva-ml/execution/5-51CA/asset/eye-ai/Fundus_Bounding_Box/Cropped_2-D022.svg] to host https://www.eye-ai.org. Please wait...\n",
      "2025-09-22 14:37:09,209 - INFO - Processing: [/data/kb_766/EyeAI_working/deriva-ml/execution/5-51CA/asset/eye-ai/Fundus_Bounding_Box/Cropped_2-D024.svg]\n",
      "2025-09-22 14:37:09,210 - INFO - Computed metadata for: [/data/kb_766/EyeAI_working/deriva-ml/execution/5-51CA/asset/eye-ai/Fundus_Bounding_Box/Cropped_2-D024.svg].\n",
      "2025-09-22 14:37:09,210 - INFO - Computing checksums for file: [/data/kb_766/EyeAI_working/deriva-ml/execution/5-51CA/asset/eye-ai/Fundus_Bounding_Box/Cropped_2-D024.svg]. Please wait...\n",
      "2025-09-22 14:37:09,211 - INFO - Uploading file: [/data/kb_766/EyeAI_working/deriva-ml/execution/5-51CA/asset/eye-ai/Fundus_Bounding_Box/Cropped_2-D024.svg] to host https://www.eye-ai.org. Please wait...\n",
      "2025-09-22 14:37:09,295 - INFO - Processing: [/data/kb_766/EyeAI_working/deriva-ml/execution/5-51CA/asset/eye-ai/Fundus_Bounding_Box/Cropped_2-D03T.svg]\n",
      "2025-09-22 14:37:09,296 - INFO - Computed metadata for: [/data/kb_766/EyeAI_working/deriva-ml/execution/5-51CA/asset/eye-ai/Fundus_Bounding_Box/Cropped_2-D03T.svg].\n",
      "2025-09-22 14:37:09,296 - INFO - Computing checksums for file: [/data/kb_766/EyeAI_working/deriva-ml/execution/5-51CA/asset/eye-ai/Fundus_Bounding_Box/Cropped_2-D03T.svg]. Please wait...\n",
      "2025-09-22 14:37:09,297 - INFO - Uploading file: [/data/kb_766/EyeAI_working/deriva-ml/execution/5-51CA/asset/eye-ai/Fundus_Bounding_Box/Cropped_2-D03T.svg] to host https://www.eye-ai.org. Please wait...\n",
      "2025-09-22 14:37:09,381 - INFO - Processing: [/data/kb_766/EyeAI_working/deriva-ml/execution/5-51CA/asset/eye-ai/Fundus_Bounding_Box/Cropped_2-D044.svg]\n",
      "2025-09-22 14:37:09,382 - INFO - Computed metadata for: [/data/kb_766/EyeAI_working/deriva-ml/execution/5-51CA/asset/eye-ai/Fundus_Bounding_Box/Cropped_2-D044.svg].\n",
      "2025-09-22 14:37:09,382 - INFO - Computing checksums for file: [/data/kb_766/EyeAI_working/deriva-ml/execution/5-51CA/asset/eye-ai/Fundus_Bounding_Box/Cropped_2-D044.svg]. Please wait...\n",
      "2025-09-22 14:37:09,384 - INFO - Uploading file: [/data/kb_766/EyeAI_working/deriva-ml/execution/5-51CA/asset/eye-ai/Fundus_Bounding_Box/Cropped_2-D044.svg] to host https://www.eye-ai.org. Please wait...\n",
      "2025-09-22 14:37:09,465 - INFO - Processing: [/data/kb_766/EyeAI_working/deriva-ml/execution/5-51CA/asset/eye-ai/Fundus_Bounding_Box/Cropped_2-D04A.svg]\n",
      "2025-09-22 14:37:09,466 - INFO - Computed metadata for: [/data/kb_766/EyeAI_working/deriva-ml/execution/5-51CA/asset/eye-ai/Fundus_Bounding_Box/Cropped_2-D04A.svg].\n",
      "2025-09-22 14:37:09,467 - INFO - Computing checksums for file: [/data/kb_766/EyeAI_working/deriva-ml/execution/5-51CA/asset/eye-ai/Fundus_Bounding_Box/Cropped_2-D04A.svg]. Please wait...\n",
      "2025-09-22 14:37:09,468 - INFO - Uploading file: [/data/kb_766/EyeAI_working/deriva-ml/execution/5-51CA/asset/eye-ai/Fundus_Bounding_Box/Cropped_2-D04A.svg] to host https://www.eye-ai.org. Please wait...\n",
      "2025-09-22 14:37:09,557 - INFO - Processing: [/data/kb_766/EyeAI_working/deriva-ml/execution/5-51CA/asset/eye-ai/Fundus_Bounding_Box/Cropped_2-D04E.svg]\n",
      "2025-09-22 14:37:09,558 - INFO - Computed metadata for: [/data/kb_766/EyeAI_working/deriva-ml/execution/5-51CA/asset/eye-ai/Fundus_Bounding_Box/Cropped_2-D04E.svg].\n",
      "2025-09-22 14:37:09,558 - INFO - Computing checksums for file: [/data/kb_766/EyeAI_working/deriva-ml/execution/5-51CA/asset/eye-ai/Fundus_Bounding_Box/Cropped_2-D04E.svg]. Please wait...\n",
      "2025-09-22 14:37:09,559 - INFO - Uploading file: [/data/kb_766/EyeAI_working/deriva-ml/execution/5-51CA/asset/eye-ai/Fundus_Bounding_Box/Cropped_2-D04E.svg] to host https://www.eye-ai.org. Please wait...\n",
      "2025-09-22 14:37:09,635 - INFO - Processing: [/data/kb_766/EyeAI_working/deriva-ml/execution/5-51CA/asset/eye-ai/Fundus_Bounding_Box/Cropped_2-D064.svg]\n",
      "2025-09-22 14:37:09,636 - INFO - Computed metadata for: [/data/kb_766/EyeAI_working/deriva-ml/execution/5-51CA/asset/eye-ai/Fundus_Bounding_Box/Cropped_2-D064.svg].\n",
      "2025-09-22 14:37:09,636 - INFO - Computing checksums for file: [/data/kb_766/EyeAI_working/deriva-ml/execution/5-51CA/asset/eye-ai/Fundus_Bounding_Box/Cropped_2-D064.svg]. Please wait...\n",
      "2025-09-22 14:37:09,638 - INFO - Uploading file: [/data/kb_766/EyeAI_working/deriva-ml/execution/5-51CA/asset/eye-ai/Fundus_Bounding_Box/Cropped_2-D064.svg] to host https://www.eye-ai.org. Please wait...\n",
      "2025-09-22 14:37:09,725 - INFO - Processing: [/data/kb_766/EyeAI_working/deriva-ml/execution/5-51CA/asset/eye-ai/Fundus_Bounding_Box/Cropped_2-D06A.svg]\n",
      "2025-09-22 14:37:09,725 - INFO - Computed metadata for: [/data/kb_766/EyeAI_working/deriva-ml/execution/5-51CA/asset/eye-ai/Fundus_Bounding_Box/Cropped_2-D06A.svg].\n",
      "2025-09-22 14:37:09,726 - INFO - Computing checksums for file: [/data/kb_766/EyeAI_working/deriva-ml/execution/5-51CA/asset/eye-ai/Fundus_Bounding_Box/Cropped_2-D06A.svg]. Please wait...\n",
      "2025-09-22 14:37:09,728 - INFO - Uploading file: [/data/kb_766/EyeAI_working/deriva-ml/execution/5-51CA/asset/eye-ai/Fundus_Bounding_Box/Cropped_2-D06A.svg] to host https://www.eye-ai.org. Please wait...\n",
      "2025-09-22 14:37:09,806 - INFO - Processing: [/data/kb_766/EyeAI_working/deriva-ml/execution/5-51CA/asset/eye-ai/Fundus_Bounding_Box/Cropped_2-D06E.svg]\n",
      "2025-09-22 14:37:09,807 - INFO - Computed metadata for: [/data/kb_766/EyeAI_working/deriva-ml/execution/5-51CA/asset/eye-ai/Fundus_Bounding_Box/Cropped_2-D06E.svg].\n",
      "2025-09-22 14:37:09,807 - INFO - Computing checksums for file: [/data/kb_766/EyeAI_working/deriva-ml/execution/5-51CA/asset/eye-ai/Fundus_Bounding_Box/Cropped_2-D06E.svg]. Please wait...\n",
      "2025-09-22 14:37:09,808 - INFO - Uploading file: [/data/kb_766/EyeAI_working/deriva-ml/execution/5-51CA/asset/eye-ai/Fundus_Bounding_Box/Cropped_2-D06E.svg] to host https://www.eye-ai.org. Please wait...\n",
      "2025-09-22 14:37:09,895 - INFO - Processing: [/data/kb_766/EyeAI_working/deriva-ml/execution/5-51CA/asset/eye-ai/Fundus_Bounding_Box/Cropped_2-D06P.svg]\n",
      "2025-09-22 14:37:09,895 - INFO - Computed metadata for: [/data/kb_766/EyeAI_working/deriva-ml/execution/5-51CA/asset/eye-ai/Fundus_Bounding_Box/Cropped_2-D06P.svg].\n",
      "2025-09-22 14:37:09,896 - INFO - Computing checksums for file: [/data/kb_766/EyeAI_working/deriva-ml/execution/5-51CA/asset/eye-ai/Fundus_Bounding_Box/Cropped_2-D06P.svg]. Please wait...\n",
      "2025-09-22 14:37:09,897 - INFO - Uploading file: [/data/kb_766/EyeAI_working/deriva-ml/execution/5-51CA/asset/eye-ai/Fundus_Bounding_Box/Cropped_2-D06P.svg] to host https://www.eye-ai.org. Please wait...\n",
      "2025-09-22 14:37:09,978 - INFO - Processing: [/data/kb_766/EyeAI_working/deriva-ml/execution/5-51CA/asset/eye-ai/Fundus_Bounding_Box/Cropped_2-D070.svg]\n",
      "2025-09-22 14:37:09,979 - INFO - Computed metadata for: [/data/kb_766/EyeAI_working/deriva-ml/execution/5-51CA/asset/eye-ai/Fundus_Bounding_Box/Cropped_2-D070.svg].\n",
      "2025-09-22 14:37:09,979 - INFO - Computing checksums for file: [/data/kb_766/EyeAI_working/deriva-ml/execution/5-51CA/asset/eye-ai/Fundus_Bounding_Box/Cropped_2-D070.svg]. Please wait...\n",
      "2025-09-22 14:37:09,981 - INFO - Uploading file: [/data/kb_766/EyeAI_working/deriva-ml/execution/5-51CA/asset/eye-ai/Fundus_Bounding_Box/Cropped_2-D070.svg] to host https://www.eye-ai.org. Please wait...\n",
      "2025-09-22 14:37:10,064 - INFO - Processing: [/data/kb_766/EyeAI_working/deriva-ml/execution/5-51CA/asset/eye-ai/Fundus_Bounding_Box/Cropped_2-D072.svg]\n",
      "2025-09-22 14:37:10,065 - INFO - Computed metadata for: [/data/kb_766/EyeAI_working/deriva-ml/execution/5-51CA/asset/eye-ai/Fundus_Bounding_Box/Cropped_2-D072.svg].\n",
      "2025-09-22 14:37:10,065 - INFO - Computing checksums for file: [/data/kb_766/EyeAI_working/deriva-ml/execution/5-51CA/asset/eye-ai/Fundus_Bounding_Box/Cropped_2-D072.svg]. Please wait...\n",
      "2025-09-22 14:37:10,067 - INFO - Uploading file: [/data/kb_766/EyeAI_working/deriva-ml/execution/5-51CA/asset/eye-ai/Fundus_Bounding_Box/Cropped_2-D072.svg] to host https://www.eye-ai.org. Please wait...\n",
      "2025-09-22 14:37:10,151 - INFO - Processing: [/data/kb_766/EyeAI_working/deriva-ml/execution/5-51CA/asset/eye-ai/Fundus_Bounding_Box/Cropped_2-D082.svg]\n",
      "2025-09-22 14:37:10,152 - INFO - Computed metadata for: [/data/kb_766/EyeAI_working/deriva-ml/execution/5-51CA/asset/eye-ai/Fundus_Bounding_Box/Cropped_2-D082.svg].\n",
      "2025-09-22 14:37:10,152 - INFO - Computing checksums for file: [/data/kb_766/EyeAI_working/deriva-ml/execution/5-51CA/asset/eye-ai/Fundus_Bounding_Box/Cropped_2-D082.svg]. Please wait...\n",
      "2025-09-22 14:37:10,154 - INFO - Uploading file: [/data/kb_766/EyeAI_working/deriva-ml/execution/5-51CA/asset/eye-ai/Fundus_Bounding_Box/Cropped_2-D082.svg] to host https://www.eye-ai.org. Please wait...\n",
      "2025-09-22 14:37:10,270 - INFO - Processing: [/data/kb_766/EyeAI_working/deriva-ml/execution/5-51CA/asset/eye-ai/Fundus_Bounding_Box/Cropped_2-D086.svg]\n",
      "2025-09-22 14:37:10,271 - INFO - Computed metadata for: [/data/kb_766/EyeAI_working/deriva-ml/execution/5-51CA/asset/eye-ai/Fundus_Bounding_Box/Cropped_2-D086.svg].\n",
      "2025-09-22 14:37:10,271 - INFO - Computing checksums for file: [/data/kb_766/EyeAI_working/deriva-ml/execution/5-51CA/asset/eye-ai/Fundus_Bounding_Box/Cropped_2-D086.svg]. Please wait...\n",
      "2025-09-22 14:37:10,273 - INFO - Uploading file: [/data/kb_766/EyeAI_working/deriva-ml/execution/5-51CA/asset/eye-ai/Fundus_Bounding_Box/Cropped_2-D086.svg] to host https://www.eye-ai.org. Please wait...\n",
      "2025-09-22 14:37:10,351 - INFO - Processing: [/data/kb_766/EyeAI_working/deriva-ml/execution/5-51CA/asset/eye-ai/Fundus_Bounding_Box/Cropped_2-D08J.svg]\n",
      "2025-09-22 14:37:10,352 - INFO - Computed metadata for: [/data/kb_766/EyeAI_working/deriva-ml/execution/5-51CA/asset/eye-ai/Fundus_Bounding_Box/Cropped_2-D08J.svg].\n",
      "2025-09-22 14:37:10,352 - INFO - Computing checksums for file: [/data/kb_766/EyeAI_working/deriva-ml/execution/5-51CA/asset/eye-ai/Fundus_Bounding_Box/Cropped_2-D08J.svg]. Please wait...\n",
      "2025-09-22 14:37:10,354 - INFO - Uploading file: [/data/kb_766/EyeAI_working/deriva-ml/execution/5-51CA/asset/eye-ai/Fundus_Bounding_Box/Cropped_2-D08J.svg] to host https://www.eye-ai.org. Please wait...\n",
      "2025-09-22 14:37:10,462 - INFO - Processing: [/data/kb_766/EyeAI_working/deriva-ml/execution/5-51CA/asset/eye-ai/Fundus_Bounding_Box/Cropped_2-D08M.svg]\n",
      "2025-09-22 14:37:10,463 - INFO - Computed metadata for: [/data/kb_766/EyeAI_working/deriva-ml/execution/5-51CA/asset/eye-ai/Fundus_Bounding_Box/Cropped_2-D08M.svg].\n",
      "2025-09-22 14:37:10,463 - INFO - Computing checksums for file: [/data/kb_766/EyeAI_working/deriva-ml/execution/5-51CA/asset/eye-ai/Fundus_Bounding_Box/Cropped_2-D08M.svg]. Please wait...\n",
      "2025-09-22 14:37:10,465 - INFO - Uploading file: [/data/kb_766/EyeAI_working/deriva-ml/execution/5-51CA/asset/eye-ai/Fundus_Bounding_Box/Cropped_2-D08M.svg] to host https://www.eye-ai.org. Please wait...\n",
      "2025-09-22 14:37:10,545 - INFO - Processing: [/data/kb_766/EyeAI_working/deriva-ml/execution/5-51CA/asset/eye-ai/Fundus_Bounding_Box/Cropped_2-D0A6.svg]\n",
      "2025-09-22 14:37:10,545 - INFO - Computed metadata for: [/data/kb_766/EyeAI_working/deriva-ml/execution/5-51CA/asset/eye-ai/Fundus_Bounding_Box/Cropped_2-D0A6.svg].\n",
      "2025-09-22 14:37:10,546 - INFO - Computing checksums for file: [/data/kb_766/EyeAI_working/deriva-ml/execution/5-51CA/asset/eye-ai/Fundus_Bounding_Box/Cropped_2-D0A6.svg]. Please wait...\n",
      "2025-09-22 14:37:10,547 - INFO - Uploading file: [/data/kb_766/EyeAI_working/deriva-ml/execution/5-51CA/asset/eye-ai/Fundus_Bounding_Box/Cropped_2-D0A6.svg] to host https://www.eye-ai.org. Please wait...\n",
      "2025-09-22 14:37:10,635 - INFO - Processing: [/data/kb_766/EyeAI_working/deriva-ml/execution/5-51CA/asset/eye-ai/Fundus_Bounding_Box/Cropped_2-D0A8.svg]\n",
      "2025-09-22 14:37:10,636 - INFO - Computed metadata for: [/data/kb_766/EyeAI_working/deriva-ml/execution/5-51CA/asset/eye-ai/Fundus_Bounding_Box/Cropped_2-D0A8.svg].\n",
      "2025-09-22 14:37:10,637 - INFO - Computing checksums for file: [/data/kb_766/EyeAI_working/deriva-ml/execution/5-51CA/asset/eye-ai/Fundus_Bounding_Box/Cropped_2-D0A8.svg]. Please wait...\n",
      "2025-09-22 14:37:10,638 - INFO - Uploading file: [/data/kb_766/EyeAI_working/deriva-ml/execution/5-51CA/asset/eye-ai/Fundus_Bounding_Box/Cropped_2-D0A8.svg] to host https://www.eye-ai.org. Please wait...\n",
      "2025-09-22 14:37:10,721 - INFO - Processing: [/data/kb_766/EyeAI_working/deriva-ml/execution/5-51CA/asset/eye-ai/Fundus_Bounding_Box/Cropped_2-D0EE.svg]\n",
      "2025-09-22 14:37:10,722 - INFO - Computed metadata for: [/data/kb_766/EyeAI_working/deriva-ml/execution/5-51CA/asset/eye-ai/Fundus_Bounding_Box/Cropped_2-D0EE.svg].\n",
      "2025-09-22 14:37:10,722 - INFO - Computing checksums for file: [/data/kb_766/EyeAI_working/deriva-ml/execution/5-51CA/asset/eye-ai/Fundus_Bounding_Box/Cropped_2-D0EE.svg]. Please wait...\n",
      "2025-09-22 14:37:10,724 - INFO - Uploading file: [/data/kb_766/EyeAI_working/deriva-ml/execution/5-51CA/asset/eye-ai/Fundus_Bounding_Box/Cropped_2-D0EE.svg] to host https://www.eye-ai.org. Please wait...\n",
      "2025-09-22 14:37:10,805 - INFO - Processing: [/data/kb_766/EyeAI_working/deriva-ml/execution/5-51CA/asset/eye-ai/Fundus_Bounding_Box/Cropped_2-D0EM.svg]\n",
      "2025-09-22 14:37:10,806 - INFO - Computed metadata for: [/data/kb_766/EyeAI_working/deriva-ml/execution/5-51CA/asset/eye-ai/Fundus_Bounding_Box/Cropped_2-D0EM.svg].\n",
      "2025-09-22 14:37:10,807 - INFO - Computing checksums for file: [/data/kb_766/EyeAI_working/deriva-ml/execution/5-51CA/asset/eye-ai/Fundus_Bounding_Box/Cropped_2-D0EM.svg]. Please wait...\n",
      "2025-09-22 14:37:10,808 - INFO - Uploading file: [/data/kb_766/EyeAI_working/deriva-ml/execution/5-51CA/asset/eye-ai/Fundus_Bounding_Box/Cropped_2-D0EM.svg] to host https://www.eye-ai.org. Please wait...\n",
      "2025-09-22 14:37:10,890 - INFO - Processing: [/data/kb_766/EyeAI_working/deriva-ml/execution/5-51CA/asset/eye-ai/Fundus_Bounding_Box/Cropped_2-D0GM.svg]\n",
      "2025-09-22 14:37:10,890 - INFO - Computed metadata for: [/data/kb_766/EyeAI_working/deriva-ml/execution/5-51CA/asset/eye-ai/Fundus_Bounding_Box/Cropped_2-D0GM.svg].\n",
      "2025-09-22 14:37:10,891 - INFO - Computing checksums for file: [/data/kb_766/EyeAI_working/deriva-ml/execution/5-51CA/asset/eye-ai/Fundus_Bounding_Box/Cropped_2-D0GM.svg]. Please wait...\n",
      "2025-09-22 14:37:10,892 - INFO - Uploading file: [/data/kb_766/EyeAI_working/deriva-ml/execution/5-51CA/asset/eye-ai/Fundus_Bounding_Box/Cropped_2-D0GM.svg] to host https://www.eye-ai.org. Please wait...\n",
      "2025-09-22 14:37:10,977 - INFO - Processing: [/data/kb_766/EyeAI_working/deriva-ml/execution/5-51CA/asset/eye-ai/Fundus_Bounding_Box/Cropped_2-D0GP.svg]\n",
      "2025-09-22 14:37:10,978 - INFO - Computed metadata for: [/data/kb_766/EyeAI_working/deriva-ml/execution/5-51CA/asset/eye-ai/Fundus_Bounding_Box/Cropped_2-D0GP.svg].\n",
      "2025-09-22 14:37:10,978 - INFO - Computing checksums for file: [/data/kb_766/EyeAI_working/deriva-ml/execution/5-51CA/asset/eye-ai/Fundus_Bounding_Box/Cropped_2-D0GP.svg]. Please wait...\n",
      "2025-09-22 14:37:10,979 - INFO - Uploading file: [/data/kb_766/EyeAI_working/deriva-ml/execution/5-51CA/asset/eye-ai/Fundus_Bounding_Box/Cropped_2-D0GP.svg] to host https://www.eye-ai.org. Please wait...\n",
      "2025-09-22 14:37:11,062 - INFO - Processing: [/data/kb_766/EyeAI_working/deriva-ml/execution/5-51CA/asset/eye-ai/Fundus_Bounding_Box/Cropped_2-D0GW.svg]\n",
      "2025-09-22 14:37:11,063 - INFO - Computed metadata for: [/data/kb_766/EyeAI_working/deriva-ml/execution/5-51CA/asset/eye-ai/Fundus_Bounding_Box/Cropped_2-D0GW.svg].\n",
      "2025-09-22 14:37:11,063 - INFO - Computing checksums for file: [/data/kb_766/EyeAI_working/deriva-ml/execution/5-51CA/asset/eye-ai/Fundus_Bounding_Box/Cropped_2-D0GW.svg]. Please wait...\n",
      "2025-09-22 14:37:11,064 - INFO - Uploading file: [/data/kb_766/EyeAI_working/deriva-ml/execution/5-51CA/asset/eye-ai/Fundus_Bounding_Box/Cropped_2-D0GW.svg] to host https://www.eye-ai.org. Please wait...\n",
      "2025-09-22 14:37:11,186 - INFO - Processing: [/data/kb_766/EyeAI_working/deriva-ml/execution/5-51CA/asset/eye-ai/Fundus_Bounding_Box/Cropped_2-D0GY.svg]\n",
      "2025-09-22 14:37:11,187 - INFO - Computed metadata for: [/data/kb_766/EyeAI_working/deriva-ml/execution/5-51CA/asset/eye-ai/Fundus_Bounding_Box/Cropped_2-D0GY.svg].\n",
      "2025-09-22 14:37:11,188 - INFO - Computing checksums for file: [/data/kb_766/EyeAI_working/deriva-ml/execution/5-51CA/asset/eye-ai/Fundus_Bounding_Box/Cropped_2-D0GY.svg]. Please wait...\n",
      "2025-09-22 14:37:11,189 - INFO - Uploading file: [/data/kb_766/EyeAI_working/deriva-ml/execution/5-51CA/asset/eye-ai/Fundus_Bounding_Box/Cropped_2-D0GY.svg] to host https://www.eye-ai.org. Please wait...\n",
      "2025-09-22 14:37:11,283 - INFO - Processing: [/data/kb_766/EyeAI_working/deriva-ml/execution/5-51CA/asset/eye-ai/Fundus_Bounding_Box/Cropped_2-D0HA.svg]\n",
      "2025-09-22 14:37:11,284 - INFO - Computed metadata for: [/data/kb_766/EyeAI_working/deriva-ml/execution/5-51CA/asset/eye-ai/Fundus_Bounding_Box/Cropped_2-D0HA.svg].\n",
      "2025-09-22 14:37:11,285 - INFO - Computing checksums for file: [/data/kb_766/EyeAI_working/deriva-ml/execution/5-51CA/asset/eye-ai/Fundus_Bounding_Box/Cropped_2-D0HA.svg]. Please wait...\n",
      "2025-09-22 14:37:11,286 - INFO - Uploading file: [/data/kb_766/EyeAI_working/deriva-ml/execution/5-51CA/asset/eye-ai/Fundus_Bounding_Box/Cropped_2-D0HA.svg] to host https://www.eye-ai.org. Please wait...\n",
      "2025-09-22 14:37:11,397 - INFO - Processing: [/data/kb_766/EyeAI_working/deriva-ml/execution/5-51CA/asset/eye-ai/Fundus_Bounding_Box/Cropped_2-D0HE.svg]\n",
      "2025-09-22 14:37:11,398 - INFO - Computed metadata for: [/data/kb_766/EyeAI_working/deriva-ml/execution/5-51CA/asset/eye-ai/Fundus_Bounding_Box/Cropped_2-D0HE.svg].\n",
      "2025-09-22 14:37:11,399 - INFO - Computing checksums for file: [/data/kb_766/EyeAI_working/deriva-ml/execution/5-51CA/asset/eye-ai/Fundus_Bounding_Box/Cropped_2-D0HE.svg]. Please wait...\n",
      "2025-09-22 14:37:11,400 - INFO - Uploading file: [/data/kb_766/EyeAI_working/deriva-ml/execution/5-51CA/asset/eye-ai/Fundus_Bounding_Box/Cropped_2-D0HE.svg] to host https://www.eye-ai.org. Please wait...\n",
      "2025-09-22 14:37:11,494 - INFO - Processing: [/data/kb_766/EyeAI_working/deriva-ml/execution/5-51CA/asset/eye-ai/Fundus_Bounding_Box/Cropped_2-D0R6.svg]\n",
      "2025-09-22 14:37:11,495 - INFO - Computed metadata for: [/data/kb_766/EyeAI_working/deriva-ml/execution/5-51CA/asset/eye-ai/Fundus_Bounding_Box/Cropped_2-D0R6.svg].\n",
      "2025-09-22 14:37:11,496 - INFO - Computing checksums for file: [/data/kb_766/EyeAI_working/deriva-ml/execution/5-51CA/asset/eye-ai/Fundus_Bounding_Box/Cropped_2-D0R6.svg]. Please wait...\n",
      "2025-09-22 14:37:11,497 - INFO - Uploading file: [/data/kb_766/EyeAI_working/deriva-ml/execution/5-51CA/asset/eye-ai/Fundus_Bounding_Box/Cropped_2-D0R6.svg] to host https://www.eye-ai.org. Please wait...\n",
      "2025-09-22 14:37:11,577 - INFO - Processing: [/data/kb_766/EyeAI_working/deriva-ml/execution/5-51CA/asset/eye-ai/Fundus_Bounding_Box/Cropped_2-D0R8.svg]\n",
      "2025-09-22 14:37:11,578 - INFO - Computed metadata for: [/data/kb_766/EyeAI_working/deriva-ml/execution/5-51CA/asset/eye-ai/Fundus_Bounding_Box/Cropped_2-D0R8.svg].\n",
      "2025-09-22 14:37:11,578 - INFO - Computing checksums for file: [/data/kb_766/EyeAI_working/deriva-ml/execution/5-51CA/asset/eye-ai/Fundus_Bounding_Box/Cropped_2-D0R8.svg]. Please wait...\n",
      "2025-09-22 14:37:11,579 - INFO - Uploading file: [/data/kb_766/EyeAI_working/deriva-ml/execution/5-51CA/asset/eye-ai/Fundus_Bounding_Box/Cropped_2-D0R8.svg] to host https://www.eye-ai.org. Please wait...\n",
      "2025-09-22 14:37:11,722 - INFO - Processing: [/data/kb_766/EyeAI_working/deriva-ml/execution/5-51CA/asset/eye-ai/Fundus_Bounding_Box/Cropped_2-D0SR.svg]\n",
      "2025-09-22 14:37:11,723 - INFO - Computed metadata for: [/data/kb_766/EyeAI_working/deriva-ml/execution/5-51CA/asset/eye-ai/Fundus_Bounding_Box/Cropped_2-D0SR.svg].\n",
      "2025-09-22 14:37:11,723 - INFO - Computing checksums for file: [/data/kb_766/EyeAI_working/deriva-ml/execution/5-51CA/asset/eye-ai/Fundus_Bounding_Box/Cropped_2-D0SR.svg]. Please wait...\n",
      "2025-09-22 14:37:11,725 - INFO - Uploading file: [/data/kb_766/EyeAI_working/deriva-ml/execution/5-51CA/asset/eye-ai/Fundus_Bounding_Box/Cropped_2-D0SR.svg] to host https://www.eye-ai.org. Please wait...\n",
      "2025-09-22 14:37:11,814 - INFO - Processing: [/data/kb_766/EyeAI_working/deriva-ml/execution/5-51CA/asset/eye-ai/Fundus_Bounding_Box/Cropped_2-D0SW.svg]\n",
      "2025-09-22 14:37:11,815 - INFO - Computed metadata for: [/data/kb_766/EyeAI_working/deriva-ml/execution/5-51CA/asset/eye-ai/Fundus_Bounding_Box/Cropped_2-D0SW.svg].\n",
      "2025-09-22 14:37:11,816 - INFO - Computing checksums for file: [/data/kb_766/EyeAI_working/deriva-ml/execution/5-51CA/asset/eye-ai/Fundus_Bounding_Box/Cropped_2-D0SW.svg]. Please wait...\n",
      "2025-09-22 14:37:11,817 - INFO - Uploading file: [/data/kb_766/EyeAI_working/deriva-ml/execution/5-51CA/asset/eye-ai/Fundus_Bounding_Box/Cropped_2-D0SW.svg] to host https://www.eye-ai.org. Please wait...\n",
      "2025-09-22 14:37:11,907 - INFO - Processing: [/data/kb_766/EyeAI_working/deriva-ml/execution/5-51CA/asset/eye-ai/Fundus_Bounding_Box/Cropped_2-D0VM.svg]\n",
      "2025-09-22 14:37:11,908 - INFO - Computed metadata for: [/data/kb_766/EyeAI_working/deriva-ml/execution/5-51CA/asset/eye-ai/Fundus_Bounding_Box/Cropped_2-D0VM.svg].\n",
      "2025-09-22 14:37:11,908 - INFO - Computing checksums for file: [/data/kb_766/EyeAI_working/deriva-ml/execution/5-51CA/asset/eye-ai/Fundus_Bounding_Box/Cropped_2-D0VM.svg]. Please wait...\n",
      "2025-09-22 14:37:11,910 - INFO - Uploading file: [/data/kb_766/EyeAI_working/deriva-ml/execution/5-51CA/asset/eye-ai/Fundus_Bounding_Box/Cropped_2-D0VM.svg] to host https://www.eye-ai.org. Please wait...\n",
      "2025-09-22 14:37:11,993 - INFO - Processing: [/data/kb_766/EyeAI_working/deriva-ml/execution/5-51CA/asset/eye-ai/Fundus_Bounding_Box/Cropped_2-D0VR.svg]\n",
      "2025-09-22 14:37:11,994 - INFO - Computed metadata for: [/data/kb_766/EyeAI_working/deriva-ml/execution/5-51CA/asset/eye-ai/Fundus_Bounding_Box/Cropped_2-D0VR.svg].\n",
      "2025-09-22 14:37:11,994 - INFO - Computing checksums for file: [/data/kb_766/EyeAI_working/deriva-ml/execution/5-51CA/asset/eye-ai/Fundus_Bounding_Box/Cropped_2-D0VR.svg]. Please wait...\n",
      "2025-09-22 14:37:11,996 - INFO - Uploading file: [/data/kb_766/EyeAI_working/deriva-ml/execution/5-51CA/asset/eye-ai/Fundus_Bounding_Box/Cropped_2-D0VR.svg] to host https://www.eye-ai.org. Please wait...\n",
      "2025-09-22 14:37:12,078 - INFO - Processing: [/data/kb_766/EyeAI_working/deriva-ml/execution/5-51CA/asset/eye-ai/Fundus_Bounding_Box/Cropped_2-D0ZG.svg]\n",
      "2025-09-22 14:37:12,079 - INFO - Computed metadata for: [/data/kb_766/EyeAI_working/deriva-ml/execution/5-51CA/asset/eye-ai/Fundus_Bounding_Box/Cropped_2-D0ZG.svg].\n",
      "2025-09-22 14:37:12,080 - INFO - Computing checksums for file: [/data/kb_766/EyeAI_working/deriva-ml/execution/5-51CA/asset/eye-ai/Fundus_Bounding_Box/Cropped_2-D0ZG.svg]. Please wait...\n",
      "2025-09-22 14:37:12,081 - INFO - Uploading file: [/data/kb_766/EyeAI_working/deriva-ml/execution/5-51CA/asset/eye-ai/Fundus_Bounding_Box/Cropped_2-D0ZG.svg] to host https://www.eye-ai.org. Please wait...\n",
      "2025-09-22 14:37:12,171 - INFO - Processing: [/data/kb_766/EyeAI_working/deriva-ml/execution/5-51CA/asset/eye-ai/Fundus_Bounding_Box/Cropped_2-D0ZJ.svg]\n",
      "2025-09-22 14:37:12,171 - INFO - Computed metadata for: [/data/kb_766/EyeAI_working/deriva-ml/execution/5-51CA/asset/eye-ai/Fundus_Bounding_Box/Cropped_2-D0ZJ.svg].\n",
      "2025-09-22 14:37:12,172 - INFO - Computing checksums for file: [/data/kb_766/EyeAI_working/deriva-ml/execution/5-51CA/asset/eye-ai/Fundus_Bounding_Box/Cropped_2-D0ZJ.svg]. Please wait...\n",
      "2025-09-22 14:37:12,173 - INFO - Uploading file: [/data/kb_766/EyeAI_working/deriva-ml/execution/5-51CA/asset/eye-ai/Fundus_Bounding_Box/Cropped_2-D0ZJ.svg] to host https://www.eye-ai.org. Please wait...\n",
      "2025-09-22 14:37:12,261 - INFO - Processing: [/data/kb_766/EyeAI_working/deriva-ml/execution/5-51CA/asset/eye-ai/Fundus_Bounding_Box/Cropped_2-D0ZT.svg]\n",
      "2025-09-22 14:37:12,262 - INFO - Computed metadata for: [/data/kb_766/EyeAI_working/deriva-ml/execution/5-51CA/asset/eye-ai/Fundus_Bounding_Box/Cropped_2-D0ZT.svg].\n",
      "2025-09-22 14:37:12,263 - INFO - Computing checksums for file: [/data/kb_766/EyeAI_working/deriva-ml/execution/5-51CA/asset/eye-ai/Fundus_Bounding_Box/Cropped_2-D0ZT.svg]. Please wait...\n",
      "2025-09-22 14:37:12,264 - INFO - Uploading file: [/data/kb_766/EyeAI_working/deriva-ml/execution/5-51CA/asset/eye-ai/Fundus_Bounding_Box/Cropped_2-D0ZT.svg] to host https://www.eye-ai.org. Please wait...\n",
      "2025-09-22 14:37:12,346 - INFO - Processing: [/data/kb_766/EyeAI_working/deriva-ml/execution/5-51CA/asset/eye-ai/Fundus_Bounding_Box/Cropped_2-D0ZW.svg]\n",
      "2025-09-22 14:37:12,346 - INFO - Computed metadata for: [/data/kb_766/EyeAI_working/deriva-ml/execution/5-51CA/asset/eye-ai/Fundus_Bounding_Box/Cropped_2-D0ZW.svg].\n",
      "2025-09-22 14:37:12,347 - INFO - Computing checksums for file: [/data/kb_766/EyeAI_working/deriva-ml/execution/5-51CA/asset/eye-ai/Fundus_Bounding_Box/Cropped_2-D0ZW.svg]. Please wait...\n",
      "2025-09-22 14:37:12,348 - INFO - Uploading file: [/data/kb_766/EyeAI_working/deriva-ml/execution/5-51CA/asset/eye-ai/Fundus_Bounding_Box/Cropped_2-D0ZW.svg] to host https://www.eye-ai.org. Please wait...\n",
      "2025-09-22 14:37:12,431 - INFO - Processing: [/data/kb_766/EyeAI_working/deriva-ml/execution/5-51CA/asset/eye-ai/Fundus_Bounding_Box/Cropped_2-D16A.svg]\n",
      "2025-09-22 14:37:12,432 - INFO - Computed metadata for: [/data/kb_766/EyeAI_working/deriva-ml/execution/5-51CA/asset/eye-ai/Fundus_Bounding_Box/Cropped_2-D16A.svg].\n",
      "2025-09-22 14:37:12,432 - INFO - Computing checksums for file: [/data/kb_766/EyeAI_working/deriva-ml/execution/5-51CA/asset/eye-ai/Fundus_Bounding_Box/Cropped_2-D16A.svg]. Please wait...\n",
      "2025-09-22 14:37:12,434 - INFO - Uploading file: [/data/kb_766/EyeAI_working/deriva-ml/execution/5-51CA/asset/eye-ai/Fundus_Bounding_Box/Cropped_2-D16A.svg] to host https://www.eye-ai.org. Please wait...\n",
      "2025-09-22 14:37:12,517 - INFO - Processing: [/data/kb_766/EyeAI_working/deriva-ml/execution/5-51CA/asset/eye-ai/Fundus_Bounding_Box/Cropped_2-D16C.svg]\n",
      "2025-09-22 14:37:12,518 - INFO - Computed metadata for: [/data/kb_766/EyeAI_working/deriva-ml/execution/5-51CA/asset/eye-ai/Fundus_Bounding_Box/Cropped_2-D16C.svg].\n",
      "2025-09-22 14:37:12,519 - INFO - Computing checksums for file: [/data/kb_766/EyeAI_working/deriva-ml/execution/5-51CA/asset/eye-ai/Fundus_Bounding_Box/Cropped_2-D16C.svg]. Please wait...\n",
      "2025-09-22 14:37:12,520 - INFO - Uploading file: [/data/kb_766/EyeAI_working/deriva-ml/execution/5-51CA/asset/eye-ai/Fundus_Bounding_Box/Cropped_2-D16C.svg] to host https://www.eye-ai.org. Please wait...\n",
      "2025-09-22 14:37:12,599 - INFO - Processing: [/data/kb_766/EyeAI_working/deriva-ml/execution/5-51CA/asset/eye-ai/Fundus_Bounding_Box/Cropped_2-D1AC.svg]\n",
      "2025-09-22 14:37:12,600 - INFO - Computed metadata for: [/data/kb_766/EyeAI_working/deriva-ml/execution/5-51CA/asset/eye-ai/Fundus_Bounding_Box/Cropped_2-D1AC.svg].\n",
      "2025-09-22 14:37:12,600 - INFO - Computing checksums for file: [/data/kb_766/EyeAI_working/deriva-ml/execution/5-51CA/asset/eye-ai/Fundus_Bounding_Box/Cropped_2-D1AC.svg]. Please wait...\n",
      "2025-09-22 14:37:12,601 - INFO - Uploading file: [/data/kb_766/EyeAI_working/deriva-ml/execution/5-51CA/asset/eye-ai/Fundus_Bounding_Box/Cropped_2-D1AC.svg] to host https://www.eye-ai.org. Please wait...\n",
      "2025-09-22 14:37:12,686 - INFO - Processing: [/data/kb_766/EyeAI_working/deriva-ml/execution/5-51CA/asset/eye-ai/Fundus_Bounding_Box/Cropped_2-D1AJ.svg]\n",
      "2025-09-22 14:37:12,687 - INFO - Computed metadata for: [/data/kb_766/EyeAI_working/deriva-ml/execution/5-51CA/asset/eye-ai/Fundus_Bounding_Box/Cropped_2-D1AJ.svg].\n",
      "2025-09-22 14:37:12,688 - INFO - Computing checksums for file: [/data/kb_766/EyeAI_working/deriva-ml/execution/5-51CA/asset/eye-ai/Fundus_Bounding_Box/Cropped_2-D1AJ.svg]. Please wait...\n",
      "2025-09-22 14:37:12,689 - INFO - Uploading file: [/data/kb_766/EyeAI_working/deriva-ml/execution/5-51CA/asset/eye-ai/Fundus_Bounding_Box/Cropped_2-D1AJ.svg] to host https://www.eye-ai.org. Please wait...\n",
      "2025-09-22 14:37:12,776 - INFO - Processing: [/data/kb_766/EyeAI_working/deriva-ml/execution/5-51CA/asset/eye-ai/Fundus_Bounding_Box/Cropped_2-D1EP.svg]\n",
      "2025-09-22 14:37:12,777 - INFO - Computed metadata for: [/data/kb_766/EyeAI_working/deriva-ml/execution/5-51CA/asset/eye-ai/Fundus_Bounding_Box/Cropped_2-D1EP.svg].\n",
      "2025-09-22 14:37:12,777 - INFO - Computing checksums for file: [/data/kb_766/EyeAI_working/deriva-ml/execution/5-51CA/asset/eye-ai/Fundus_Bounding_Box/Cropped_2-D1EP.svg]. Please wait...\n",
      "2025-09-22 14:37:12,778 - INFO - Uploading file: [/data/kb_766/EyeAI_working/deriva-ml/execution/5-51CA/asset/eye-ai/Fundus_Bounding_Box/Cropped_2-D1EP.svg] to host https://www.eye-ai.org. Please wait...\n",
      "2025-09-22 14:37:12,857 - INFO - Processing: [/data/kb_766/EyeAI_working/deriva-ml/execution/5-51CA/asset/eye-ai/Fundus_Bounding_Box/Cropped_2-D1ER.svg]\n",
      "2025-09-22 14:37:12,857 - INFO - Computed metadata for: [/data/kb_766/EyeAI_working/deriva-ml/execution/5-51CA/asset/eye-ai/Fundus_Bounding_Box/Cropped_2-D1ER.svg].\n",
      "2025-09-22 14:37:12,858 - INFO - Computing checksums for file: [/data/kb_766/EyeAI_working/deriva-ml/execution/5-51CA/asset/eye-ai/Fundus_Bounding_Box/Cropped_2-D1ER.svg]. Please wait...\n",
      "2025-09-22 14:37:12,859 - INFO - Uploading file: [/data/kb_766/EyeAI_working/deriva-ml/execution/5-51CA/asset/eye-ai/Fundus_Bounding_Box/Cropped_2-D1ER.svg] to host https://www.eye-ai.org. Please wait...\n",
      "2025-09-22 14:37:12,955 - INFO - Processing: [/data/kb_766/EyeAI_working/deriva-ml/execution/5-51CA/asset/eye-ai/Fundus_Bounding_Box/Cropped_2-D1FP.svg]\n",
      "2025-09-22 14:37:12,956 - INFO - Computed metadata for: [/data/kb_766/EyeAI_working/deriva-ml/execution/5-51CA/asset/eye-ai/Fundus_Bounding_Box/Cropped_2-D1FP.svg].\n",
      "2025-09-22 14:37:12,956 - INFO - Computing checksums for file: [/data/kb_766/EyeAI_working/deriva-ml/execution/5-51CA/asset/eye-ai/Fundus_Bounding_Box/Cropped_2-D1FP.svg]. Please wait...\n",
      "2025-09-22 14:37:12,958 - INFO - Uploading file: [/data/kb_766/EyeAI_working/deriva-ml/execution/5-51CA/asset/eye-ai/Fundus_Bounding_Box/Cropped_2-D1FP.svg] to host https://www.eye-ai.org. Please wait...\n",
      "2025-09-22 14:37:13,047 - INFO - Processing: [/data/kb_766/EyeAI_working/deriva-ml/execution/5-51CA/asset/eye-ai/Fundus_Bounding_Box/Cropped_2-D1FT.svg]\n",
      "2025-09-22 14:37:13,048 - INFO - Computed metadata for: [/data/kb_766/EyeAI_working/deriva-ml/execution/5-51CA/asset/eye-ai/Fundus_Bounding_Box/Cropped_2-D1FT.svg].\n",
      "2025-09-22 14:37:13,049 - INFO - Computing checksums for file: [/data/kb_766/EyeAI_working/deriva-ml/execution/5-51CA/asset/eye-ai/Fundus_Bounding_Box/Cropped_2-D1FT.svg]. Please wait...\n",
      "2025-09-22 14:37:13,050 - INFO - Uploading file: [/data/kb_766/EyeAI_working/deriva-ml/execution/5-51CA/asset/eye-ai/Fundus_Bounding_Box/Cropped_2-D1FT.svg] to host https://www.eye-ai.org. Please wait...\n",
      "2025-09-22 14:37:13,144 - INFO - Processing: [/data/kb_766/EyeAI_working/deriva-ml/execution/5-51CA/asset/eye-ai/Fundus_Bounding_Box/Cropped_2-D1J0.svg]\n",
      "2025-09-22 14:37:13,145 - INFO - Computed metadata for: [/data/kb_766/EyeAI_working/deriva-ml/execution/5-51CA/asset/eye-ai/Fundus_Bounding_Box/Cropped_2-D1J0.svg].\n",
      "2025-09-22 14:37:13,146 - INFO - Computing checksums for file: [/data/kb_766/EyeAI_working/deriva-ml/execution/5-51CA/asset/eye-ai/Fundus_Bounding_Box/Cropped_2-D1J0.svg]. Please wait...\n",
      "2025-09-22 14:37:13,147 - INFO - Uploading file: [/data/kb_766/EyeAI_working/deriva-ml/execution/5-51CA/asset/eye-ai/Fundus_Bounding_Box/Cropped_2-D1J0.svg] to host https://www.eye-ai.org. Please wait...\n",
      "2025-09-22 14:37:13,229 - INFO - Processing: [/data/kb_766/EyeAI_working/deriva-ml/execution/5-51CA/asset/eye-ai/Fundus_Bounding_Box/Cropped_2-D1J4.svg]\n",
      "2025-09-22 14:37:13,229 - INFO - Computed metadata for: [/data/kb_766/EyeAI_working/deriva-ml/execution/5-51CA/asset/eye-ai/Fundus_Bounding_Box/Cropped_2-D1J4.svg].\n",
      "2025-09-22 14:37:13,230 - INFO - Computing checksums for file: [/data/kb_766/EyeAI_working/deriva-ml/execution/5-51CA/asset/eye-ai/Fundus_Bounding_Box/Cropped_2-D1J4.svg]. Please wait...\n",
      "2025-09-22 14:37:13,231 - INFO - Uploading file: [/data/kb_766/EyeAI_working/deriva-ml/execution/5-51CA/asset/eye-ai/Fundus_Bounding_Box/Cropped_2-D1J4.svg] to host https://www.eye-ai.org. Please wait...\n",
      "2025-09-22 14:37:13,330 - INFO - Processing: [/data/kb_766/EyeAI_working/deriva-ml/execution/5-51CA/asset/eye-ai/Fundus_Bounding_Box/Cropped_2-D1QA.svg]\n",
      "2025-09-22 14:37:13,332 - INFO - Computed metadata for: [/data/kb_766/EyeAI_working/deriva-ml/execution/5-51CA/asset/eye-ai/Fundus_Bounding_Box/Cropped_2-D1QA.svg].\n",
      "2025-09-22 14:37:13,332 - INFO - Computing checksums for file: [/data/kb_766/EyeAI_working/deriva-ml/execution/5-51CA/asset/eye-ai/Fundus_Bounding_Box/Cropped_2-D1QA.svg]. Please wait...\n",
      "2025-09-22 14:37:13,334 - INFO - Uploading file: [/data/kb_766/EyeAI_working/deriva-ml/execution/5-51CA/asset/eye-ai/Fundus_Bounding_Box/Cropped_2-D1QA.svg] to host https://www.eye-ai.org. Please wait...\n",
      "2025-09-22 14:37:13,419 - INFO - Processing: [/data/kb_766/EyeAI_working/deriva-ml/execution/5-51CA/asset/eye-ai/Fundus_Bounding_Box/Cropped_2-D1QC.svg]\n",
      "2025-09-22 14:37:13,420 - INFO - Computed metadata for: [/data/kb_766/EyeAI_working/deriva-ml/execution/5-51CA/asset/eye-ai/Fundus_Bounding_Box/Cropped_2-D1QC.svg].\n",
      "2025-09-22 14:37:13,420 - INFO - Computing checksums for file: [/data/kb_766/EyeAI_working/deriva-ml/execution/5-51CA/asset/eye-ai/Fundus_Bounding_Box/Cropped_2-D1QC.svg]. Please wait...\n",
      "2025-09-22 14:37:13,421 - INFO - Uploading file: [/data/kb_766/EyeAI_working/deriva-ml/execution/5-51CA/asset/eye-ai/Fundus_Bounding_Box/Cropped_2-D1QC.svg] to host https://www.eye-ai.org. Please wait...\n",
      "2025-09-22 14:37:13,509 - INFO - Processing: [/data/kb_766/EyeAI_working/deriva-ml/execution/5-51CA/asset/eye-ai/Fundus_Bounding_Box/Cropped_2-D1RW.svg]\n",
      "2025-09-22 14:37:13,510 - INFO - Computed metadata for: [/data/kb_766/EyeAI_working/deriva-ml/execution/5-51CA/asset/eye-ai/Fundus_Bounding_Box/Cropped_2-D1RW.svg].\n",
      "2025-09-22 14:37:13,510 - INFO - Computing checksums for file: [/data/kb_766/EyeAI_working/deriva-ml/execution/5-51CA/asset/eye-ai/Fundus_Bounding_Box/Cropped_2-D1RW.svg]. Please wait...\n",
      "2025-09-22 14:37:13,512 - INFO - Uploading file: [/data/kb_766/EyeAI_working/deriva-ml/execution/5-51CA/asset/eye-ai/Fundus_Bounding_Box/Cropped_2-D1RW.svg] to host https://www.eye-ai.org. Please wait...\n",
      "2025-09-22 14:37:13,594 - INFO - Processing: [/data/kb_766/EyeAI_working/deriva-ml/execution/5-51CA/asset/eye-ai/Fundus_Bounding_Box/Cropped_2-D1S2.svg]\n",
      "2025-09-22 14:37:13,595 - INFO - Computed metadata for: [/data/kb_766/EyeAI_working/deriva-ml/execution/5-51CA/asset/eye-ai/Fundus_Bounding_Box/Cropped_2-D1S2.svg].\n",
      "2025-09-22 14:37:13,595 - INFO - Computing checksums for file: [/data/kb_766/EyeAI_working/deriva-ml/execution/5-51CA/asset/eye-ai/Fundus_Bounding_Box/Cropped_2-D1S2.svg]. Please wait...\n",
      "2025-09-22 14:37:13,597 - INFO - Uploading file: [/data/kb_766/EyeAI_working/deriva-ml/execution/5-51CA/asset/eye-ai/Fundus_Bounding_Box/Cropped_2-D1S2.svg] to host https://www.eye-ai.org. Please wait...\n",
      "2025-09-22 14:37:13,690 - INFO - Processing: [/data/kb_766/EyeAI_working/deriva-ml/execution/5-51CA/asset/eye-ai/Fundus_Bounding_Box/Cropped_2-D25R.svg]\n",
      "2025-09-22 14:37:13,691 - INFO - Computed metadata for: [/data/kb_766/EyeAI_working/deriva-ml/execution/5-51CA/asset/eye-ai/Fundus_Bounding_Box/Cropped_2-D25R.svg].\n",
      "2025-09-22 14:37:13,691 - INFO - Computing checksums for file: [/data/kb_766/EyeAI_working/deriva-ml/execution/5-51CA/asset/eye-ai/Fundus_Bounding_Box/Cropped_2-D25R.svg]. Please wait...\n",
      "2025-09-22 14:37:13,692 - INFO - Uploading file: [/data/kb_766/EyeAI_working/deriva-ml/execution/5-51CA/asset/eye-ai/Fundus_Bounding_Box/Cropped_2-D25R.svg] to host https://www.eye-ai.org. Please wait...\n",
      "2025-09-22 14:37:13,773 - INFO - Processing: [/data/kb_766/EyeAI_working/deriva-ml/execution/5-51CA/asset/eye-ai/Fundus_Bounding_Box/Cropped_2-D260.svg]\n",
      "2025-09-22 14:37:13,774 - INFO - Computed metadata for: [/data/kb_766/EyeAI_working/deriva-ml/execution/5-51CA/asset/eye-ai/Fundus_Bounding_Box/Cropped_2-D260.svg].\n",
      "2025-09-22 14:37:13,775 - INFO - Computing checksums for file: [/data/kb_766/EyeAI_working/deriva-ml/execution/5-51CA/asset/eye-ai/Fundus_Bounding_Box/Cropped_2-D260.svg]. Please wait...\n",
      "2025-09-22 14:37:13,776 - INFO - Uploading file: [/data/kb_766/EyeAI_working/deriva-ml/execution/5-51CA/asset/eye-ai/Fundus_Bounding_Box/Cropped_2-D260.svg] to host https://www.eye-ai.org. Please wait...\n",
      "2025-09-22 14:37:13,857 - INFO - Processing: [/data/kb_766/EyeAI_working/deriva-ml/execution/5-51CA/asset/eye-ai/Fundus_Bounding_Box/Cropped_2-D26G.svg]\n",
      "2025-09-22 14:37:13,858 - INFO - Computed metadata for: [/data/kb_766/EyeAI_working/deriva-ml/execution/5-51CA/asset/eye-ai/Fundus_Bounding_Box/Cropped_2-D26G.svg].\n",
      "2025-09-22 14:37:13,859 - INFO - Computing checksums for file: [/data/kb_766/EyeAI_working/deriva-ml/execution/5-51CA/asset/eye-ai/Fundus_Bounding_Box/Cropped_2-D26G.svg]. Please wait...\n",
      "2025-09-22 14:37:13,860 - INFO - Uploading file: [/data/kb_766/EyeAI_working/deriva-ml/execution/5-51CA/asset/eye-ai/Fundus_Bounding_Box/Cropped_2-D26G.svg] to host https://www.eye-ai.org. Please wait...\n",
      "2025-09-22 14:37:13,946 - INFO - Processing: [/data/kb_766/EyeAI_working/deriva-ml/execution/5-51CA/asset/eye-ai/Fundus_Bounding_Box/Cropped_2-D27E.svg]\n",
      "2025-09-22 14:37:13,947 - INFO - Computed metadata for: [/data/kb_766/EyeAI_working/deriva-ml/execution/5-51CA/asset/eye-ai/Fundus_Bounding_Box/Cropped_2-D27E.svg].\n",
      "2025-09-22 14:37:13,948 - INFO - Computing checksums for file: [/data/kb_766/EyeAI_working/deriva-ml/execution/5-51CA/asset/eye-ai/Fundus_Bounding_Box/Cropped_2-D27E.svg]. Please wait...\n",
      "2025-09-22 14:37:13,949 - INFO - Uploading file: [/data/kb_766/EyeAI_working/deriva-ml/execution/5-51CA/asset/eye-ai/Fundus_Bounding_Box/Cropped_2-D27E.svg] to host https://www.eye-ai.org. Please wait...\n",
      "2025-09-22 14:37:14,036 - INFO - Processing: [/data/kb_766/EyeAI_working/deriva-ml/execution/5-51CA/asset/eye-ai/Fundus_Bounding_Box/Cropped_2-D27M.svg]\n",
      "2025-09-22 14:37:14,037 - INFO - Computed metadata for: [/data/kb_766/EyeAI_working/deriva-ml/execution/5-51CA/asset/eye-ai/Fundus_Bounding_Box/Cropped_2-D27M.svg].\n",
      "2025-09-22 14:37:14,038 - INFO - Computing checksums for file: [/data/kb_766/EyeAI_working/deriva-ml/execution/5-51CA/asset/eye-ai/Fundus_Bounding_Box/Cropped_2-D27M.svg]. Please wait...\n",
      "2025-09-22 14:37:14,039 - INFO - Uploading file: [/data/kb_766/EyeAI_working/deriva-ml/execution/5-51CA/asset/eye-ai/Fundus_Bounding_Box/Cropped_2-D27M.svg] to host https://www.eye-ai.org. Please wait...\n",
      "2025-09-22 14:37:14,123 - INFO - Processing: [/data/kb_766/EyeAI_working/deriva-ml/execution/5-51CA/asset/eye-ai/Fundus_Bounding_Box/Cropped_2-D27T.svg]\n",
      "2025-09-22 14:37:14,123 - INFO - Computed metadata for: [/data/kb_766/EyeAI_working/deriva-ml/execution/5-51CA/asset/eye-ai/Fundus_Bounding_Box/Cropped_2-D27T.svg].\n",
      "2025-09-22 14:37:14,124 - INFO - Computing checksums for file: [/data/kb_766/EyeAI_working/deriva-ml/execution/5-51CA/asset/eye-ai/Fundus_Bounding_Box/Cropped_2-D27T.svg]. Please wait...\n",
      "2025-09-22 14:37:14,125 - INFO - Uploading file: [/data/kb_766/EyeAI_working/deriva-ml/execution/5-51CA/asset/eye-ai/Fundus_Bounding_Box/Cropped_2-D27T.svg] to host https://www.eye-ai.org. Please wait...\n",
      "2025-09-22 14:37:14,216 - INFO - Processing: [/data/kb_766/EyeAI_working/deriva-ml/execution/5-51CA/asset/eye-ai/Fundus_Bounding_Box/Cropped_2-D2BA.svg]\n",
      "2025-09-22 14:37:14,217 - INFO - Computed metadata for: [/data/kb_766/EyeAI_working/deriva-ml/execution/5-51CA/asset/eye-ai/Fundus_Bounding_Box/Cropped_2-D2BA.svg].\n",
      "2025-09-22 14:37:14,218 - INFO - Computing checksums for file: [/data/kb_766/EyeAI_working/deriva-ml/execution/5-51CA/asset/eye-ai/Fundus_Bounding_Box/Cropped_2-D2BA.svg]. Please wait...\n",
      "2025-09-22 14:37:14,219 - INFO - Uploading file: [/data/kb_766/EyeAI_working/deriva-ml/execution/5-51CA/asset/eye-ai/Fundus_Bounding_Box/Cropped_2-D2BA.svg] to host https://www.eye-ai.org. Please wait...\n",
      "2025-09-22 14:37:14,310 - INFO - Processing: [/data/kb_766/EyeAI_working/deriva-ml/execution/5-51CA/asset/eye-ai/Fundus_Bounding_Box/Cropped_2-D2BG.svg]\n",
      "2025-09-22 14:37:14,311 - INFO - Computed metadata for: [/data/kb_766/EyeAI_working/deriva-ml/execution/5-51CA/asset/eye-ai/Fundus_Bounding_Box/Cropped_2-D2BG.svg].\n",
      "2025-09-22 14:37:14,311 - INFO - Computing checksums for file: [/data/kb_766/EyeAI_working/deriva-ml/execution/5-51CA/asset/eye-ai/Fundus_Bounding_Box/Cropped_2-D2BG.svg]. Please wait...\n",
      "2025-09-22 14:37:14,312 - INFO - Uploading file: [/data/kb_766/EyeAI_working/deriva-ml/execution/5-51CA/asset/eye-ai/Fundus_Bounding_Box/Cropped_2-D2BG.svg] to host https://www.eye-ai.org. Please wait...\n",
      "2025-09-22 14:37:14,413 - INFO - Processing: [/data/kb_766/EyeAI_working/deriva-ml/execution/5-51CA/asset/eye-ai/Fundus_Bounding_Box/Cropped_2-D2D2.svg]\n",
      "2025-09-22 14:37:14,414 - INFO - Computed metadata for: [/data/kb_766/EyeAI_working/deriva-ml/execution/5-51CA/asset/eye-ai/Fundus_Bounding_Box/Cropped_2-D2D2.svg].\n",
      "2025-09-22 14:37:14,415 - INFO - Computing checksums for file: [/data/kb_766/EyeAI_working/deriva-ml/execution/5-51CA/asset/eye-ai/Fundus_Bounding_Box/Cropped_2-D2D2.svg]. Please wait...\n",
      "2025-09-22 14:37:14,416 - INFO - Uploading file: [/data/kb_766/EyeAI_working/deriva-ml/execution/5-51CA/asset/eye-ai/Fundus_Bounding_Box/Cropped_2-D2D2.svg] to host https://www.eye-ai.org. Please wait...\n",
      "2025-09-22 14:37:14,503 - INFO - Processing: [/data/kb_766/EyeAI_working/deriva-ml/execution/5-51CA/asset/eye-ai/Fundus_Bounding_Box/Cropped_2-D2D4.svg]\n",
      "2025-09-22 14:37:14,504 - INFO - Computed metadata for: [/data/kb_766/EyeAI_working/deriva-ml/execution/5-51CA/asset/eye-ai/Fundus_Bounding_Box/Cropped_2-D2D4.svg].\n",
      "2025-09-22 14:37:14,505 - INFO - Computing checksums for file: [/data/kb_766/EyeAI_working/deriva-ml/execution/5-51CA/asset/eye-ai/Fundus_Bounding_Box/Cropped_2-D2D4.svg]. Please wait...\n",
      "2025-09-22 14:37:14,506 - INFO - Uploading file: [/data/kb_766/EyeAI_working/deriva-ml/execution/5-51CA/asset/eye-ai/Fundus_Bounding_Box/Cropped_2-D2D4.svg] to host https://www.eye-ai.org. Please wait...\n",
      "2025-09-22 14:37:14,592 - INFO - Processing: [/data/kb_766/EyeAI_working/deriva-ml/execution/5-51CA/asset/eye-ai/Fundus_Bounding_Box/Cropped_2-D2QM.svg]\n",
      "2025-09-22 14:37:14,593 - INFO - Computed metadata for: [/data/kb_766/EyeAI_working/deriva-ml/execution/5-51CA/asset/eye-ai/Fundus_Bounding_Box/Cropped_2-D2QM.svg].\n",
      "2025-09-22 14:37:14,593 - INFO - Computing checksums for file: [/data/kb_766/EyeAI_working/deriva-ml/execution/5-51CA/asset/eye-ai/Fundus_Bounding_Box/Cropped_2-D2QM.svg]. Please wait...\n",
      "2025-09-22 14:37:14,595 - INFO - Uploading file: [/data/kb_766/EyeAI_working/deriva-ml/execution/5-51CA/asset/eye-ai/Fundus_Bounding_Box/Cropped_2-D2QM.svg] to host https://www.eye-ai.org. Please wait...\n",
      "2025-09-22 14:37:14,672 - INFO - Processing: [/data/kb_766/EyeAI_working/deriva-ml/execution/5-51CA/asset/eye-ai/Fundus_Bounding_Box/Cropped_2-D2VT.svg]\n",
      "2025-09-22 14:37:14,673 - INFO - Computed metadata for: [/data/kb_766/EyeAI_working/deriva-ml/execution/5-51CA/asset/eye-ai/Fundus_Bounding_Box/Cropped_2-D2VT.svg].\n",
      "2025-09-22 14:37:14,673 - INFO - Computing checksums for file: [/data/kb_766/EyeAI_working/deriva-ml/execution/5-51CA/asset/eye-ai/Fundus_Bounding_Box/Cropped_2-D2VT.svg]. Please wait...\n",
      "2025-09-22 14:37:14,675 - INFO - Uploading file: [/data/kb_766/EyeAI_working/deriva-ml/execution/5-51CA/asset/eye-ai/Fundus_Bounding_Box/Cropped_2-D2VT.svg] to host https://www.eye-ai.org. Please wait...\n",
      "2025-09-22 14:37:14,761 - INFO - Processing: [/data/kb_766/EyeAI_working/deriva-ml/execution/5-51CA/asset/eye-ai/Fundus_Bounding_Box/Cropped_2-D2W0.svg]\n",
      "2025-09-22 14:37:14,761 - INFO - Computed metadata for: [/data/kb_766/EyeAI_working/deriva-ml/execution/5-51CA/asset/eye-ai/Fundus_Bounding_Box/Cropped_2-D2W0.svg].\n",
      "2025-09-22 14:37:14,762 - INFO - Computing checksums for file: [/data/kb_766/EyeAI_working/deriva-ml/execution/5-51CA/asset/eye-ai/Fundus_Bounding_Box/Cropped_2-D2W0.svg]. Please wait...\n",
      "2025-09-22 14:37:14,763 - INFO - Uploading file: [/data/kb_766/EyeAI_working/deriva-ml/execution/5-51CA/asset/eye-ai/Fundus_Bounding_Box/Cropped_2-D2W0.svg] to host https://www.eye-ai.org. Please wait...\n",
      "2025-09-22 14:37:14,874 - INFO - Processing: [/data/kb_766/EyeAI_working/deriva-ml/execution/5-51CA/asset/eye-ai/Fundus_Bounding_Box/Cropped_2-D2W8.svg]\n",
      "2025-09-22 14:37:14,875 - INFO - Computed metadata for: [/data/kb_766/EyeAI_working/deriva-ml/execution/5-51CA/asset/eye-ai/Fundus_Bounding_Box/Cropped_2-D2W8.svg].\n",
      "2025-09-22 14:37:14,876 - INFO - Computing checksums for file: [/data/kb_766/EyeAI_working/deriva-ml/execution/5-51CA/asset/eye-ai/Fundus_Bounding_Box/Cropped_2-D2W8.svg]. Please wait...\n",
      "2025-09-22 14:37:14,877 - INFO - Uploading file: [/data/kb_766/EyeAI_working/deriva-ml/execution/5-51CA/asset/eye-ai/Fundus_Bounding_Box/Cropped_2-D2W8.svg] to host https://www.eye-ai.org. Please wait...\n",
      "2025-09-22 14:37:14,962 - INFO - Processing: [/data/kb_766/EyeAI_working/deriva-ml/execution/5-51CA/asset/eye-ai/Fundus_Bounding_Box/Cropped_2-D2WG.svg]\n",
      "2025-09-22 14:37:14,962 - INFO - Computed metadata for: [/data/kb_766/EyeAI_working/deriva-ml/execution/5-51CA/asset/eye-ai/Fundus_Bounding_Box/Cropped_2-D2WG.svg].\n",
      "2025-09-22 14:37:14,963 - INFO - Computing checksums for file: [/data/kb_766/EyeAI_working/deriva-ml/execution/5-51CA/asset/eye-ai/Fundus_Bounding_Box/Cropped_2-D2WG.svg]. Please wait...\n",
      "2025-09-22 14:37:14,964 - INFO - Uploading file: [/data/kb_766/EyeAI_working/deriva-ml/execution/5-51CA/asset/eye-ai/Fundus_Bounding_Box/Cropped_2-D2WG.svg] to host https://www.eye-ai.org. Please wait...\n",
      "2025-09-22 14:37:15,053 - INFO - Processing: [/data/kb_766/EyeAI_working/deriva-ml/execution/5-51CA/asset/eye-ai/Fundus_Bounding_Box/Cropped_2-D310.svg]\n",
      "2025-09-22 14:37:15,054 - INFO - Computed metadata for: [/data/kb_766/EyeAI_working/deriva-ml/execution/5-51CA/asset/eye-ai/Fundus_Bounding_Box/Cropped_2-D310.svg].\n",
      "2025-09-22 14:37:15,054 - INFO - Computing checksums for file: [/data/kb_766/EyeAI_working/deriva-ml/execution/5-51CA/asset/eye-ai/Fundus_Bounding_Box/Cropped_2-D310.svg]. Please wait...\n",
      "2025-09-22 14:37:15,055 - INFO - Uploading file: [/data/kb_766/EyeAI_working/deriva-ml/execution/5-51CA/asset/eye-ai/Fundus_Bounding_Box/Cropped_2-D310.svg] to host https://www.eye-ai.org. Please wait...\n",
      "2025-09-22 14:37:15,150 - INFO - Processing: [/data/kb_766/EyeAI_working/deriva-ml/execution/5-51CA/asset/eye-ai/Fundus_Bounding_Box/Cropped_2-D316.svg]\n",
      "2025-09-22 14:37:15,151 - INFO - Computed metadata for: [/data/kb_766/EyeAI_working/deriva-ml/execution/5-51CA/asset/eye-ai/Fundus_Bounding_Box/Cropped_2-D316.svg].\n",
      "2025-09-22 14:37:15,151 - INFO - Computing checksums for file: [/data/kb_766/EyeAI_working/deriva-ml/execution/5-51CA/asset/eye-ai/Fundus_Bounding_Box/Cropped_2-D316.svg]. Please wait...\n",
      "2025-09-22 14:37:15,152 - INFO - Uploading file: [/data/kb_766/EyeAI_working/deriva-ml/execution/5-51CA/asset/eye-ai/Fundus_Bounding_Box/Cropped_2-D316.svg] to host https://www.eye-ai.org. Please wait...\n",
      "2025-09-22 14:37:15,234 - INFO - Processing: [/data/kb_766/EyeAI_working/deriva-ml/execution/5-51CA/asset/eye-ai/Fundus_Bounding_Box/Cropped_2-D31C.svg]\n",
      "2025-09-22 14:37:15,235 - INFO - Computed metadata for: [/data/kb_766/EyeAI_working/deriva-ml/execution/5-51CA/asset/eye-ai/Fundus_Bounding_Box/Cropped_2-D31C.svg].\n",
      "2025-09-22 14:37:15,235 - INFO - Computing checksums for file: [/data/kb_766/EyeAI_working/deriva-ml/execution/5-51CA/asset/eye-ai/Fundus_Bounding_Box/Cropped_2-D31C.svg]. Please wait...\n",
      "2025-09-22 14:37:15,236 - INFO - Uploading file: [/data/kb_766/EyeAI_working/deriva-ml/execution/5-51CA/asset/eye-ai/Fundus_Bounding_Box/Cropped_2-D31C.svg] to host https://www.eye-ai.org. Please wait...\n",
      "2025-09-22 14:37:15,314 - INFO - Processing: [/data/kb_766/EyeAI_working/deriva-ml/execution/5-51CA/asset/eye-ai/Fundus_Bounding_Box/Cropped_2-D31G.svg]\n",
      "2025-09-22 14:37:15,315 - INFO - Computed metadata for: [/data/kb_766/EyeAI_working/deriva-ml/execution/5-51CA/asset/eye-ai/Fundus_Bounding_Box/Cropped_2-D31G.svg].\n",
      "2025-09-22 14:37:15,315 - INFO - Computing checksums for file: [/data/kb_766/EyeAI_working/deriva-ml/execution/5-51CA/asset/eye-ai/Fundus_Bounding_Box/Cropped_2-D31G.svg]. Please wait...\n",
      "2025-09-22 14:37:15,317 - INFO - Uploading file: [/data/kb_766/EyeAI_working/deriva-ml/execution/5-51CA/asset/eye-ai/Fundus_Bounding_Box/Cropped_2-D31G.svg] to host https://www.eye-ai.org. Please wait...\n",
      "2025-09-22 14:37:15,407 - INFO - Processing: [/data/kb_766/EyeAI_working/deriva-ml/execution/5-51CA/asset/eye-ai/Fundus_Bounding_Box/Cropped_2-D31P.svg]\n",
      "2025-09-22 14:37:15,408 - INFO - Computed metadata for: [/data/kb_766/EyeAI_working/deriva-ml/execution/5-51CA/asset/eye-ai/Fundus_Bounding_Box/Cropped_2-D31P.svg].\n",
      "2025-09-22 14:37:15,408 - INFO - Computing checksums for file: [/data/kb_766/EyeAI_working/deriva-ml/execution/5-51CA/asset/eye-ai/Fundus_Bounding_Box/Cropped_2-D31P.svg]. Please wait...\n",
      "2025-09-22 14:37:15,410 - INFO - Uploading file: [/data/kb_766/EyeAI_working/deriva-ml/execution/5-51CA/asset/eye-ai/Fundus_Bounding_Box/Cropped_2-D31P.svg] to host https://www.eye-ai.org. Please wait...\n",
      "2025-09-22 14:37:15,490 - INFO - Processing: [/data/kb_766/EyeAI_working/deriva-ml/execution/5-51CA/asset/eye-ai/Fundus_Bounding_Box/Cropped_2-D31R.svg]\n",
      "2025-09-22 14:37:15,491 - INFO - Computed metadata for: [/data/kb_766/EyeAI_working/deriva-ml/execution/5-51CA/asset/eye-ai/Fundus_Bounding_Box/Cropped_2-D31R.svg].\n",
      "2025-09-22 14:37:15,491 - INFO - Computing checksums for file: [/data/kb_766/EyeAI_working/deriva-ml/execution/5-51CA/asset/eye-ai/Fundus_Bounding_Box/Cropped_2-D31R.svg]. Please wait...\n",
      "2025-09-22 14:37:15,493 - INFO - Uploading file: [/data/kb_766/EyeAI_working/deriva-ml/execution/5-51CA/asset/eye-ai/Fundus_Bounding_Box/Cropped_2-D31R.svg] to host https://www.eye-ai.org. Please wait...\n",
      "2025-09-22 14:37:15,575 - INFO - Processing: [/data/kb_766/EyeAI_working/deriva-ml/execution/5-51CA/asset/eye-ai/Fundus_Bounding_Box/Cropped_2-D34Y.svg]\n",
      "2025-09-22 14:37:15,575 - INFO - Computed metadata for: [/data/kb_766/EyeAI_working/deriva-ml/execution/5-51CA/asset/eye-ai/Fundus_Bounding_Box/Cropped_2-D34Y.svg].\n",
      "2025-09-22 14:37:15,576 - INFO - Computing checksums for file: [/data/kb_766/EyeAI_working/deriva-ml/execution/5-51CA/asset/eye-ai/Fundus_Bounding_Box/Cropped_2-D34Y.svg]. Please wait...\n",
      "2025-09-22 14:37:15,578 - INFO - Uploading file: [/data/kb_766/EyeAI_working/deriva-ml/execution/5-51CA/asset/eye-ai/Fundus_Bounding_Box/Cropped_2-D34Y.svg] to host https://www.eye-ai.org. Please wait...\n",
      "2025-09-22 14:37:15,668 - INFO - Processing: [/data/kb_766/EyeAI_working/deriva-ml/execution/5-51CA/asset/eye-ai/Fundus_Bounding_Box/Cropped_2-D354.svg]\n",
      "2025-09-22 14:37:15,669 - INFO - Computed metadata for: [/data/kb_766/EyeAI_working/deriva-ml/execution/5-51CA/asset/eye-ai/Fundus_Bounding_Box/Cropped_2-D354.svg].\n",
      "2025-09-22 14:37:15,670 - INFO - Computing checksums for file: [/data/kb_766/EyeAI_working/deriva-ml/execution/5-51CA/asset/eye-ai/Fundus_Bounding_Box/Cropped_2-D354.svg]. Please wait...\n",
      "2025-09-22 14:37:15,671 - INFO - Uploading file: [/data/kb_766/EyeAI_working/deriva-ml/execution/5-51CA/asset/eye-ai/Fundus_Bounding_Box/Cropped_2-D354.svg] to host https://www.eye-ai.org. Please wait...\n",
      "2025-09-22 14:37:15,761 - INFO - Processing: [/data/kb_766/EyeAI_working/deriva-ml/execution/5-51CA/asset/eye-ai/Fundus_Bounding_Box/Cropped_2-D35T.svg]\n",
      "2025-09-22 14:37:15,762 - INFO - Computed metadata for: [/data/kb_766/EyeAI_working/deriva-ml/execution/5-51CA/asset/eye-ai/Fundus_Bounding_Box/Cropped_2-D35T.svg].\n",
      "2025-09-22 14:37:15,763 - INFO - Computing checksums for file: [/data/kb_766/EyeAI_working/deriva-ml/execution/5-51CA/asset/eye-ai/Fundus_Bounding_Box/Cropped_2-D35T.svg]. Please wait...\n",
      "2025-09-22 14:37:15,764 - INFO - Uploading file: [/data/kb_766/EyeAI_working/deriva-ml/execution/5-51CA/asset/eye-ai/Fundus_Bounding_Box/Cropped_2-D35T.svg] to host https://www.eye-ai.org. Please wait...\n",
      "2025-09-22 14:37:15,902 - INFO - Processing: [/data/kb_766/EyeAI_working/deriva-ml/execution/5-51CA/asset/eye-ai/Fundus_Bounding_Box/Cropped_2-D35W.svg]\n",
      "2025-09-22 14:37:15,903 - INFO - Computed metadata for: [/data/kb_766/EyeAI_working/deriva-ml/execution/5-51CA/asset/eye-ai/Fundus_Bounding_Box/Cropped_2-D35W.svg].\n",
      "2025-09-22 14:37:15,903 - INFO - Computing checksums for file: [/data/kb_766/EyeAI_working/deriva-ml/execution/5-51CA/asset/eye-ai/Fundus_Bounding_Box/Cropped_2-D35W.svg]. Please wait...\n",
      "2025-09-22 14:37:15,904 - INFO - Uploading file: [/data/kb_766/EyeAI_working/deriva-ml/execution/5-51CA/asset/eye-ai/Fundus_Bounding_Box/Cropped_2-D35W.svg] to host https://www.eye-ai.org. Please wait...\n",
      "2025-09-22 14:37:16,039 - INFO - Processing: [/data/kb_766/EyeAI_working/deriva-ml/execution/5-51CA/asset/eye-ai/Fundus_Bounding_Box/Cropped_2-D37W.svg]\n",
      "2025-09-22 14:37:16,040 - INFO - Computed metadata for: [/data/kb_766/EyeAI_working/deriva-ml/execution/5-51CA/asset/eye-ai/Fundus_Bounding_Box/Cropped_2-D37W.svg].\n",
      "2025-09-22 14:37:16,040 - INFO - Computing checksums for file: [/data/kb_766/EyeAI_working/deriva-ml/execution/5-51CA/asset/eye-ai/Fundus_Bounding_Box/Cropped_2-D37W.svg]. Please wait...\n",
      "2025-09-22 14:37:16,042 - INFO - Uploading file: [/data/kb_766/EyeAI_working/deriva-ml/execution/5-51CA/asset/eye-ai/Fundus_Bounding_Box/Cropped_2-D37W.svg] to host https://www.eye-ai.org. Please wait...\n",
      "2025-09-22 14:37:16,125 - INFO - Processing: [/data/kb_766/EyeAI_working/deriva-ml/execution/5-51CA/asset/eye-ai/Fundus_Bounding_Box/Cropped_2-D382.svg]\n",
      "2025-09-22 14:37:16,126 - INFO - Computed metadata for: [/data/kb_766/EyeAI_working/deriva-ml/execution/5-51CA/asset/eye-ai/Fundus_Bounding_Box/Cropped_2-D382.svg].\n",
      "2025-09-22 14:37:16,127 - INFO - Computing checksums for file: [/data/kb_766/EyeAI_working/deriva-ml/execution/5-51CA/asset/eye-ai/Fundus_Bounding_Box/Cropped_2-D382.svg]. Please wait...\n",
      "2025-09-22 14:37:16,128 - INFO - Uploading file: [/data/kb_766/EyeAI_working/deriva-ml/execution/5-51CA/asset/eye-ai/Fundus_Bounding_Box/Cropped_2-D382.svg] to host https://www.eye-ai.org. Please wait...\n",
      "2025-09-22 14:37:16,210 - INFO - Processing: [/data/kb_766/EyeAI_working/deriva-ml/execution/5-51CA/asset/eye-ai/Fundus_Bounding_Box/Cropped_2-D3BE.svg]\n",
      "2025-09-22 14:37:16,210 - INFO - Computed metadata for: [/data/kb_766/EyeAI_working/deriva-ml/execution/5-51CA/asset/eye-ai/Fundus_Bounding_Box/Cropped_2-D3BE.svg].\n",
      "2025-09-22 14:37:16,211 - INFO - Computing checksums for file: [/data/kb_766/EyeAI_working/deriva-ml/execution/5-51CA/asset/eye-ai/Fundus_Bounding_Box/Cropped_2-D3BE.svg]. Please wait...\n",
      "2025-09-22 14:37:16,212 - INFO - Uploading file: [/data/kb_766/EyeAI_working/deriva-ml/execution/5-51CA/asset/eye-ai/Fundus_Bounding_Box/Cropped_2-D3BE.svg] to host https://www.eye-ai.org. Please wait...\n",
      "2025-09-22 14:37:16,295 - INFO - Processing: [/data/kb_766/EyeAI_working/deriva-ml/execution/5-51CA/asset/eye-ai/Fundus_Bounding_Box/Cropped_2-D3BG.svg]\n",
      "2025-09-22 14:37:16,296 - INFO - Computed metadata for: [/data/kb_766/EyeAI_working/deriva-ml/execution/5-51CA/asset/eye-ai/Fundus_Bounding_Box/Cropped_2-D3BG.svg].\n",
      "2025-09-22 14:37:16,296 - INFO - Computing checksums for file: [/data/kb_766/EyeAI_working/deriva-ml/execution/5-51CA/asset/eye-ai/Fundus_Bounding_Box/Cropped_2-D3BG.svg]. Please wait...\n",
      "2025-09-22 14:37:16,298 - INFO - Uploading file: [/data/kb_766/EyeAI_working/deriva-ml/execution/5-51CA/asset/eye-ai/Fundus_Bounding_Box/Cropped_2-D3BG.svg] to host https://www.eye-ai.org. Please wait...\n",
      "2025-09-22 14:37:16,383 - INFO - Processing: [/data/kb_766/EyeAI_working/deriva-ml/execution/5-51CA/asset/eye-ai/Fundus_Bounding_Box/Cropped_2-D3E0.svg]\n",
      "2025-09-22 14:37:16,384 - INFO - Computed metadata for: [/data/kb_766/EyeAI_working/deriva-ml/execution/5-51CA/asset/eye-ai/Fundus_Bounding_Box/Cropped_2-D3E0.svg].\n",
      "2025-09-22 14:37:16,385 - INFO - Computing checksums for file: [/data/kb_766/EyeAI_working/deriva-ml/execution/5-51CA/asset/eye-ai/Fundus_Bounding_Box/Cropped_2-D3E0.svg]. Please wait...\n",
      "2025-09-22 14:37:16,386 - INFO - Uploading file: [/data/kb_766/EyeAI_working/deriva-ml/execution/5-51CA/asset/eye-ai/Fundus_Bounding_Box/Cropped_2-D3E0.svg] to host https://www.eye-ai.org. Please wait...\n",
      "2025-09-22 14:37:16,462 - INFO - Processing: [/data/kb_766/EyeAI_working/deriva-ml/execution/5-51CA/asset/eye-ai/Fundus_Bounding_Box/Cropped_2-D3E4.svg]\n",
      "2025-09-22 14:37:16,463 - INFO - Computed metadata for: [/data/kb_766/EyeAI_working/deriva-ml/execution/5-51CA/asset/eye-ai/Fundus_Bounding_Box/Cropped_2-D3E4.svg].\n",
      "2025-09-22 14:37:16,464 - INFO - Computing checksums for file: [/data/kb_766/EyeAI_working/deriva-ml/execution/5-51CA/asset/eye-ai/Fundus_Bounding_Box/Cropped_2-D3E4.svg]. Please wait...\n",
      "2025-09-22 14:37:16,465 - INFO - Uploading file: [/data/kb_766/EyeAI_working/deriva-ml/execution/5-51CA/asset/eye-ai/Fundus_Bounding_Box/Cropped_2-D3E4.svg] to host https://www.eye-ai.org. Please wait...\n",
      "2025-09-22 14:37:16,602 - INFO - Processing: [/data/kb_766/EyeAI_working/deriva-ml/execution/5-51CA/asset/eye-ai/Fundus_Bounding_Box/Cropped_2-D3EG.svg]\n",
      "2025-09-22 14:37:16,603 - INFO - Computed metadata for: [/data/kb_766/EyeAI_working/deriva-ml/execution/5-51CA/asset/eye-ai/Fundus_Bounding_Box/Cropped_2-D3EG.svg].\n",
      "2025-09-22 14:37:16,603 - INFO - Computing checksums for file: [/data/kb_766/EyeAI_working/deriva-ml/execution/5-51CA/asset/eye-ai/Fundus_Bounding_Box/Cropped_2-D3EG.svg]. Please wait...\n",
      "2025-09-22 14:37:16,605 - INFO - Uploading file: [/data/kb_766/EyeAI_working/deriva-ml/execution/5-51CA/asset/eye-ai/Fundus_Bounding_Box/Cropped_2-D3EG.svg] to host https://www.eye-ai.org. Please wait...\n",
      "2025-09-22 14:37:16,693 - INFO - Processing: [/data/kb_766/EyeAI_working/deriva-ml/execution/5-51CA/asset/eye-ai/Fundus_Bounding_Box/Cropped_2-D3EJ.svg]\n",
      "2025-09-22 14:37:16,693 - INFO - Computed metadata for: [/data/kb_766/EyeAI_working/deriva-ml/execution/5-51CA/asset/eye-ai/Fundus_Bounding_Box/Cropped_2-D3EJ.svg].\n",
      "2025-09-22 14:37:16,694 - INFO - Computing checksums for file: [/data/kb_766/EyeAI_working/deriva-ml/execution/5-51CA/asset/eye-ai/Fundus_Bounding_Box/Cropped_2-D3EJ.svg]. Please wait...\n",
      "2025-09-22 14:37:16,695 - INFO - Uploading file: [/data/kb_766/EyeAI_working/deriva-ml/execution/5-51CA/asset/eye-ai/Fundus_Bounding_Box/Cropped_2-D3EJ.svg] to host https://www.eye-ai.org. Please wait...\n",
      "2025-09-22 14:37:16,781 - INFO - Processing: [/data/kb_766/EyeAI_working/deriva-ml/execution/5-51CA/asset/eye-ai/Fundus_Bounding_Box/Cropped_2-D3QM.svg]\n",
      "2025-09-22 14:37:16,782 - INFO - Computed metadata for: [/data/kb_766/EyeAI_working/deriva-ml/execution/5-51CA/asset/eye-ai/Fundus_Bounding_Box/Cropped_2-D3QM.svg].\n",
      "2025-09-22 14:37:16,783 - INFO - Computing checksums for file: [/data/kb_766/EyeAI_working/deriva-ml/execution/5-51CA/asset/eye-ai/Fundus_Bounding_Box/Cropped_2-D3QM.svg]. Please wait...\n",
      "2025-09-22 14:37:16,784 - INFO - Uploading file: [/data/kb_766/EyeAI_working/deriva-ml/execution/5-51CA/asset/eye-ai/Fundus_Bounding_Box/Cropped_2-D3QM.svg] to host https://www.eye-ai.org. Please wait...\n",
      "2025-09-22 14:37:16,870 - INFO - Processing: [/data/kb_766/EyeAI_working/deriva-ml/execution/5-51CA/asset/eye-ai/Fundus_Bounding_Box/Cropped_2-D3QR.svg]\n",
      "2025-09-22 14:37:16,871 - INFO - Computed metadata for: [/data/kb_766/EyeAI_working/deriva-ml/execution/5-51CA/asset/eye-ai/Fundus_Bounding_Box/Cropped_2-D3QR.svg].\n",
      "2025-09-22 14:37:16,871 - INFO - Computing checksums for file: [/data/kb_766/EyeAI_working/deriva-ml/execution/5-51CA/asset/eye-ai/Fundus_Bounding_Box/Cropped_2-D3QR.svg]. Please wait...\n",
      "2025-09-22 14:37:16,873 - INFO - Uploading file: [/data/kb_766/EyeAI_working/deriva-ml/execution/5-51CA/asset/eye-ai/Fundus_Bounding_Box/Cropped_2-D3QR.svg] to host https://www.eye-ai.org. Please wait...\n",
      "2025-09-22 14:37:16,971 - INFO - Processing: [/data/kb_766/EyeAI_working/deriva-ml/execution/5-51CA/asset/eye-ai/Fundus_Bounding_Box/Cropped_2-D3S8.svg]\n",
      "2025-09-22 14:37:16,971 - INFO - Computed metadata for: [/data/kb_766/EyeAI_working/deriva-ml/execution/5-51CA/asset/eye-ai/Fundus_Bounding_Box/Cropped_2-D3S8.svg].\n",
      "2025-09-22 14:37:16,972 - INFO - Computing checksums for file: [/data/kb_766/EyeAI_working/deriva-ml/execution/5-51CA/asset/eye-ai/Fundus_Bounding_Box/Cropped_2-D3S8.svg]. Please wait...\n",
      "2025-09-22 14:37:16,973 - INFO - Uploading file: [/data/kb_766/EyeAI_working/deriva-ml/execution/5-51CA/asset/eye-ai/Fundus_Bounding_Box/Cropped_2-D3S8.svg] to host https://www.eye-ai.org. Please wait...\n",
      "2025-09-22 14:37:17,055 - INFO - Processing: [/data/kb_766/EyeAI_working/deriva-ml/execution/5-51CA/asset/eye-ai/Fundus_Bounding_Box/Cropped_2-D3SC.svg]\n",
      "2025-09-22 14:37:17,055 - INFO - Computed metadata for: [/data/kb_766/EyeAI_working/deriva-ml/execution/5-51CA/asset/eye-ai/Fundus_Bounding_Box/Cropped_2-D3SC.svg].\n",
      "2025-09-22 14:37:17,056 - INFO - Computing checksums for file: [/data/kb_766/EyeAI_working/deriva-ml/execution/5-51CA/asset/eye-ai/Fundus_Bounding_Box/Cropped_2-D3SC.svg]. Please wait...\n",
      "2025-09-22 14:37:17,057 - INFO - Uploading file: [/data/kb_766/EyeAI_working/deriva-ml/execution/5-51CA/asset/eye-ai/Fundus_Bounding_Box/Cropped_2-D3SC.svg] to host https://www.eye-ai.org. Please wait...\n",
      "2025-09-22 14:37:17,140 - INFO - Processing: [/data/kb_766/EyeAI_working/deriva-ml/execution/5-51CA/asset/eye-ai/Fundus_Bounding_Box/Cropped_2-D3TP.svg]\n",
      "2025-09-22 14:37:17,141 - INFO - Computed metadata for: [/data/kb_766/EyeAI_working/deriva-ml/execution/5-51CA/asset/eye-ai/Fundus_Bounding_Box/Cropped_2-D3TP.svg].\n",
      "2025-09-22 14:37:17,141 - INFO - Computing checksums for file: [/data/kb_766/EyeAI_working/deriva-ml/execution/5-51CA/asset/eye-ai/Fundus_Bounding_Box/Cropped_2-D3TP.svg]. Please wait...\n",
      "2025-09-22 14:37:17,143 - INFO - Uploading file: [/data/kb_766/EyeAI_working/deriva-ml/execution/5-51CA/asset/eye-ai/Fundus_Bounding_Box/Cropped_2-D3TP.svg] to host https://www.eye-ai.org. Please wait...\n",
      "2025-09-22 14:37:17,247 - INFO - Processing: [/data/kb_766/EyeAI_working/deriva-ml/execution/5-51CA/asset/eye-ai/Fundus_Bounding_Box/Cropped_2-D3TW.svg]\n",
      "2025-09-22 14:37:17,248 - INFO - Computed metadata for: [/data/kb_766/EyeAI_working/deriva-ml/execution/5-51CA/asset/eye-ai/Fundus_Bounding_Box/Cropped_2-D3TW.svg].\n",
      "2025-09-22 14:37:17,248 - INFO - Computing checksums for file: [/data/kb_766/EyeAI_working/deriva-ml/execution/5-51CA/asset/eye-ai/Fundus_Bounding_Box/Cropped_2-D3TW.svg]. Please wait...\n",
      "2025-09-22 14:37:17,249 - INFO - Uploading file: [/data/kb_766/EyeAI_working/deriva-ml/execution/5-51CA/asset/eye-ai/Fundus_Bounding_Box/Cropped_2-D3TW.svg] to host https://www.eye-ai.org. Please wait...\n",
      "2025-09-22 14:37:17,333 - INFO - Processing: [/data/kb_766/EyeAI_working/deriva-ml/execution/5-51CA/asset/eye-ai/Fundus_Bounding_Box/Cropped_2-D3Y0.svg]\n",
      "2025-09-22 14:37:17,334 - INFO - Computed metadata for: [/data/kb_766/EyeAI_working/deriva-ml/execution/5-51CA/asset/eye-ai/Fundus_Bounding_Box/Cropped_2-D3Y0.svg].\n",
      "2025-09-22 14:37:17,335 - INFO - Computing checksums for file: [/data/kb_766/EyeAI_working/deriva-ml/execution/5-51CA/asset/eye-ai/Fundus_Bounding_Box/Cropped_2-D3Y0.svg]. Please wait...\n",
      "2025-09-22 14:37:17,336 - INFO - Uploading file: [/data/kb_766/EyeAI_working/deriva-ml/execution/5-51CA/asset/eye-ai/Fundus_Bounding_Box/Cropped_2-D3Y0.svg] to host https://www.eye-ai.org. Please wait...\n",
      "2025-09-22 14:37:17,420 - INFO - Processing: [/data/kb_766/EyeAI_working/deriva-ml/execution/5-51CA/asset/eye-ai/Fundus_Bounding_Box/Cropped_2-D3Y8.svg]\n",
      "2025-09-22 14:37:17,421 - INFO - Computed metadata for: [/data/kb_766/EyeAI_working/deriva-ml/execution/5-51CA/asset/eye-ai/Fundus_Bounding_Box/Cropped_2-D3Y8.svg].\n",
      "2025-09-22 14:37:17,422 - INFO - Computing checksums for file: [/data/kb_766/EyeAI_working/deriva-ml/execution/5-51CA/asset/eye-ai/Fundus_Bounding_Box/Cropped_2-D3Y8.svg]. Please wait...\n",
      "2025-09-22 14:37:17,423 - INFO - Uploading file: [/data/kb_766/EyeAI_working/deriva-ml/execution/5-51CA/asset/eye-ai/Fundus_Bounding_Box/Cropped_2-D3Y8.svg] to host https://www.eye-ai.org. Please wait...\n",
      "2025-09-22 14:37:17,506 - INFO - Processing: [/data/kb_766/EyeAI_working/deriva-ml/execution/5-51CA/asset/eye-ai/Fundus_Bounding_Box/Cropped_2-D412.svg]\n",
      "2025-09-22 14:37:17,507 - INFO - Computed metadata for: [/data/kb_766/EyeAI_working/deriva-ml/execution/5-51CA/asset/eye-ai/Fundus_Bounding_Box/Cropped_2-D412.svg].\n",
      "2025-09-22 14:37:17,507 - INFO - Computing checksums for file: [/data/kb_766/EyeAI_working/deriva-ml/execution/5-51CA/asset/eye-ai/Fundus_Bounding_Box/Cropped_2-D412.svg]. Please wait...\n",
      "2025-09-22 14:37:17,509 - INFO - Uploading file: [/data/kb_766/EyeAI_working/deriva-ml/execution/5-51CA/asset/eye-ai/Fundus_Bounding_Box/Cropped_2-D412.svg] to host https://www.eye-ai.org. Please wait...\n",
      "2025-09-22 14:37:17,685 - INFO - Processing: [/data/kb_766/EyeAI_working/deriva-ml/execution/5-51CA/asset/eye-ai/Fundus_Bounding_Box/Cropped_2-D414.svg]\n",
      "2025-09-22 14:37:17,686 - INFO - Computed metadata for: [/data/kb_766/EyeAI_working/deriva-ml/execution/5-51CA/asset/eye-ai/Fundus_Bounding_Box/Cropped_2-D414.svg].\n",
      "2025-09-22 14:37:17,687 - INFO - Computing checksums for file: [/data/kb_766/EyeAI_working/deriva-ml/execution/5-51CA/asset/eye-ai/Fundus_Bounding_Box/Cropped_2-D414.svg]. Please wait...\n",
      "2025-09-22 14:37:17,688 - INFO - Uploading file: [/data/kb_766/EyeAI_working/deriva-ml/execution/5-51CA/asset/eye-ai/Fundus_Bounding_Box/Cropped_2-D414.svg] to host https://www.eye-ai.org. Please wait...\n",
      "2025-09-22 14:37:17,777 - INFO - Processing: [/data/kb_766/EyeAI_working/deriva-ml/execution/5-51CA/asset/eye-ai/Fundus_Bounding_Box/Cropped_2-D452.svg]\n",
      "2025-09-22 14:37:17,778 - INFO - Computed metadata for: [/data/kb_766/EyeAI_working/deriva-ml/execution/5-51CA/asset/eye-ai/Fundus_Bounding_Box/Cropped_2-D452.svg].\n",
      "2025-09-22 14:37:17,779 - INFO - Computing checksums for file: [/data/kb_766/EyeAI_working/deriva-ml/execution/5-51CA/asset/eye-ai/Fundus_Bounding_Box/Cropped_2-D452.svg]. Please wait...\n",
      "2025-09-22 14:37:17,780 - INFO - Uploading file: [/data/kb_766/EyeAI_working/deriva-ml/execution/5-51CA/asset/eye-ai/Fundus_Bounding_Box/Cropped_2-D452.svg] to host https://www.eye-ai.org. Please wait...\n",
      "2025-09-22 14:37:17,885 - INFO - Processing: [/data/kb_766/EyeAI_working/deriva-ml/execution/5-51CA/asset/eye-ai/Fundus_Bounding_Box/Cropped_2-D454.svg]\n",
      "2025-09-22 14:37:17,885 - INFO - Computed metadata for: [/data/kb_766/EyeAI_working/deriva-ml/execution/5-51CA/asset/eye-ai/Fundus_Bounding_Box/Cropped_2-D454.svg].\n",
      "2025-09-22 14:37:17,886 - INFO - Computing checksums for file: [/data/kb_766/EyeAI_working/deriva-ml/execution/5-51CA/asset/eye-ai/Fundus_Bounding_Box/Cropped_2-D454.svg]. Please wait...\n",
      "2025-09-22 14:37:17,887 - INFO - Uploading file: [/data/kb_766/EyeAI_working/deriva-ml/execution/5-51CA/asset/eye-ai/Fundus_Bounding_Box/Cropped_2-D454.svg] to host https://www.eye-ai.org. Please wait...\n",
      "2025-09-22 14:37:17,966 - INFO - Processing: [/data/kb_766/EyeAI_working/deriva-ml/execution/5-51CA/asset/eye-ai/Fundus_Bounding_Box/Cropped_2-D47G.svg]\n",
      "2025-09-22 14:37:17,966 - INFO - Computed metadata for: [/data/kb_766/EyeAI_working/deriva-ml/execution/5-51CA/asset/eye-ai/Fundus_Bounding_Box/Cropped_2-D47G.svg].\n",
      "2025-09-22 14:37:17,967 - INFO - Computing checksums for file: [/data/kb_766/EyeAI_working/deriva-ml/execution/5-51CA/asset/eye-ai/Fundus_Bounding_Box/Cropped_2-D47G.svg]. Please wait...\n",
      "2025-09-22 14:37:17,968 - INFO - Uploading file: [/data/kb_766/EyeAI_working/deriva-ml/execution/5-51CA/asset/eye-ai/Fundus_Bounding_Box/Cropped_2-D47G.svg] to host https://www.eye-ai.org. Please wait...\n",
      "2025-09-22 14:37:18,052 - INFO - Processing: [/data/kb_766/EyeAI_working/deriva-ml/execution/5-51CA/asset/eye-ai/Fundus_Bounding_Box/Cropped_2-D48Y.svg]\n",
      "2025-09-22 14:37:18,053 - INFO - Computed metadata for: [/data/kb_766/EyeAI_working/deriva-ml/execution/5-51CA/asset/eye-ai/Fundus_Bounding_Box/Cropped_2-D48Y.svg].\n",
      "2025-09-22 14:37:18,054 - INFO - Computing checksums for file: [/data/kb_766/EyeAI_working/deriva-ml/execution/5-51CA/asset/eye-ai/Fundus_Bounding_Box/Cropped_2-D48Y.svg]. Please wait...\n",
      "2025-09-22 14:37:18,055 - INFO - Uploading file: [/data/kb_766/EyeAI_working/deriva-ml/execution/5-51CA/asset/eye-ai/Fundus_Bounding_Box/Cropped_2-D48Y.svg] to host https://www.eye-ai.org. Please wait...\n",
      "2025-09-22 14:37:18,132 - INFO - Processing: [/data/kb_766/EyeAI_working/deriva-ml/execution/5-51CA/asset/eye-ai/Fundus_Bounding_Box/Cropped_2-D492.svg]\n",
      "2025-09-22 14:37:18,132 - INFO - Computed metadata for: [/data/kb_766/EyeAI_working/deriva-ml/execution/5-51CA/asset/eye-ai/Fundus_Bounding_Box/Cropped_2-D492.svg].\n",
      "2025-09-22 14:37:18,133 - INFO - Computing checksums for file: [/data/kb_766/EyeAI_working/deriva-ml/execution/5-51CA/asset/eye-ai/Fundus_Bounding_Box/Cropped_2-D492.svg]. Please wait...\n",
      "2025-09-22 14:37:18,134 - INFO - Uploading file: [/data/kb_766/EyeAI_working/deriva-ml/execution/5-51CA/asset/eye-ai/Fundus_Bounding_Box/Cropped_2-D492.svg] to host https://www.eye-ai.org. Please wait...\n",
      "2025-09-22 14:37:18,219 - INFO - Processing: [/data/kb_766/EyeAI_working/deriva-ml/execution/5-51CA/asset/eye-ai/Fundus_Bounding_Box/Cropped_2-D49E.svg]\n",
      "2025-09-22 14:37:18,220 - INFO - Computed metadata for: [/data/kb_766/EyeAI_working/deriva-ml/execution/5-51CA/asset/eye-ai/Fundus_Bounding_Box/Cropped_2-D49E.svg].\n",
      "2025-09-22 14:37:18,220 - INFO - Computing checksums for file: [/data/kb_766/EyeAI_working/deriva-ml/execution/5-51CA/asset/eye-ai/Fundus_Bounding_Box/Cropped_2-D49E.svg]. Please wait...\n",
      "2025-09-22 14:37:18,221 - INFO - Uploading file: [/data/kb_766/EyeAI_working/deriva-ml/execution/5-51CA/asset/eye-ai/Fundus_Bounding_Box/Cropped_2-D49E.svg] to host https://www.eye-ai.org. Please wait...\n",
      "2025-09-22 14:37:18,303 - INFO - Processing: [/data/kb_766/EyeAI_working/deriva-ml/execution/5-51CA/asset/eye-ai/Fundus_Bounding_Box/Cropped_2-D49G.svg]\n",
      "2025-09-22 14:37:18,304 - INFO - Computed metadata for: [/data/kb_766/EyeAI_working/deriva-ml/execution/5-51CA/asset/eye-ai/Fundus_Bounding_Box/Cropped_2-D49G.svg].\n",
      "2025-09-22 14:37:18,304 - INFO - Computing checksums for file: [/data/kb_766/EyeAI_working/deriva-ml/execution/5-51CA/asset/eye-ai/Fundus_Bounding_Box/Cropped_2-D49G.svg]. Please wait...\n",
      "2025-09-22 14:37:18,306 - INFO - Uploading file: [/data/kb_766/EyeAI_working/deriva-ml/execution/5-51CA/asset/eye-ai/Fundus_Bounding_Box/Cropped_2-D49G.svg] to host https://www.eye-ai.org. Please wait...\n",
      "2025-09-22 14:37:18,394 - INFO - Processing: [/data/kb_766/EyeAI_working/deriva-ml/execution/5-51CA/asset/eye-ai/Fundus_Bounding_Box/Cropped_2-D4D2.svg]\n",
      "2025-09-22 14:37:18,395 - INFO - Computed metadata for: [/data/kb_766/EyeAI_working/deriva-ml/execution/5-51CA/asset/eye-ai/Fundus_Bounding_Box/Cropped_2-D4D2.svg].\n",
      "2025-09-22 14:37:18,395 - INFO - Computing checksums for file: [/data/kb_766/EyeAI_working/deriva-ml/execution/5-51CA/asset/eye-ai/Fundus_Bounding_Box/Cropped_2-D4D2.svg]. Please wait...\n",
      "2025-09-22 14:37:18,396 - INFO - Uploading file: [/data/kb_766/EyeAI_working/deriva-ml/execution/5-51CA/asset/eye-ai/Fundus_Bounding_Box/Cropped_2-D4D2.svg] to host https://www.eye-ai.org. Please wait...\n",
      "2025-09-22 14:37:18,489 - INFO - Processing: [/data/kb_766/EyeAI_working/deriva-ml/execution/5-51CA/asset/eye-ai/Fundus_Bounding_Box/Cropped_2-D4D6.svg]\n",
      "2025-09-22 14:37:18,489 - INFO - Computed metadata for: [/data/kb_766/EyeAI_working/deriva-ml/execution/5-51CA/asset/eye-ai/Fundus_Bounding_Box/Cropped_2-D4D6.svg].\n",
      "2025-09-22 14:37:18,490 - INFO - Computing checksums for file: [/data/kb_766/EyeAI_working/deriva-ml/execution/5-51CA/asset/eye-ai/Fundus_Bounding_Box/Cropped_2-D4D6.svg]. Please wait...\n",
      "2025-09-22 14:37:18,492 - INFO - Uploading file: [/data/kb_766/EyeAI_working/deriva-ml/execution/5-51CA/asset/eye-ai/Fundus_Bounding_Box/Cropped_2-D4D6.svg] to host https://www.eye-ai.org. Please wait...\n",
      "2025-09-22 14:37:18,573 - INFO - Processing: [/data/kb_766/EyeAI_working/deriva-ml/execution/5-51CA/asset/eye-ai/Fundus_Bounding_Box/Cropped_2-D4DM.svg]\n",
      "2025-09-22 14:37:18,574 - INFO - Computed metadata for: [/data/kb_766/EyeAI_working/deriva-ml/execution/5-51CA/asset/eye-ai/Fundus_Bounding_Box/Cropped_2-D4DM.svg].\n",
      "2025-09-22 14:37:18,575 - INFO - Computing checksums for file: [/data/kb_766/EyeAI_working/deriva-ml/execution/5-51CA/asset/eye-ai/Fundus_Bounding_Box/Cropped_2-D4DM.svg]. Please wait...\n",
      "2025-09-22 14:37:18,576 - INFO - Uploading file: [/data/kb_766/EyeAI_working/deriva-ml/execution/5-51CA/asset/eye-ai/Fundus_Bounding_Box/Cropped_2-D4DM.svg] to host https://www.eye-ai.org. Please wait...\n",
      "2025-09-22 14:37:18,668 - INFO - Processing: [/data/kb_766/EyeAI_working/deriva-ml/execution/5-51CA/asset/eye-ai/Fundus_Bounding_Box/Cropped_2-D4DT.svg]\n",
      "2025-09-22 14:37:18,669 - INFO - Computed metadata for: [/data/kb_766/EyeAI_working/deriva-ml/execution/5-51CA/asset/eye-ai/Fundus_Bounding_Box/Cropped_2-D4DT.svg].\n",
      "2025-09-22 14:37:18,669 - INFO - Computing checksums for file: [/data/kb_766/EyeAI_working/deriva-ml/execution/5-51CA/asset/eye-ai/Fundus_Bounding_Box/Cropped_2-D4DT.svg]. Please wait...\n",
      "2025-09-22 14:37:18,670 - INFO - Uploading file: [/data/kb_766/EyeAI_working/deriva-ml/execution/5-51CA/asset/eye-ai/Fundus_Bounding_Box/Cropped_2-D4DT.svg] to host https://www.eye-ai.org. Please wait...\n",
      "2025-09-22 14:37:18,752 - INFO - Processing: [/data/kb_766/EyeAI_working/deriva-ml/execution/5-51CA/asset/eye-ai/Fundus_Bounding_Box/Cropped_2-D4GR.svg]\n",
      "2025-09-22 14:37:18,753 - INFO - Computed metadata for: [/data/kb_766/EyeAI_working/deriva-ml/execution/5-51CA/asset/eye-ai/Fundus_Bounding_Box/Cropped_2-D4GR.svg].\n",
      "2025-09-22 14:37:18,753 - INFO - Computing checksums for file: [/data/kb_766/EyeAI_working/deriva-ml/execution/5-51CA/asset/eye-ai/Fundus_Bounding_Box/Cropped_2-D4GR.svg]. Please wait...\n",
      "2025-09-22 14:37:18,754 - INFO - Uploading file: [/data/kb_766/EyeAI_working/deriva-ml/execution/5-51CA/asset/eye-ai/Fundus_Bounding_Box/Cropped_2-D4GR.svg] to host https://www.eye-ai.org. Please wait...\n",
      "2025-09-22 14:37:18,839 - INFO - Processing: [/data/kb_766/EyeAI_working/deriva-ml/execution/5-51CA/asset/eye-ai/Fundus_Bounding_Box/Cropped_2-D4GW.svg]\n",
      "2025-09-22 14:37:18,840 - INFO - Computed metadata for: [/data/kb_766/EyeAI_working/deriva-ml/execution/5-51CA/asset/eye-ai/Fundus_Bounding_Box/Cropped_2-D4GW.svg].\n",
      "2025-09-22 14:37:18,840 - INFO - Computing checksums for file: [/data/kb_766/EyeAI_working/deriva-ml/execution/5-51CA/asset/eye-ai/Fundus_Bounding_Box/Cropped_2-D4GW.svg]. Please wait...\n",
      "2025-09-22 14:37:18,842 - INFO - Uploading file: [/data/kb_766/EyeAI_working/deriva-ml/execution/5-51CA/asset/eye-ai/Fundus_Bounding_Box/Cropped_2-D4GW.svg] to host https://www.eye-ai.org. Please wait...\n",
      "2025-09-22 14:37:18,921 - INFO - Processing: [/data/kb_766/EyeAI_working/deriva-ml/execution/5-51CA/asset/eye-ai/Fundus_Bounding_Box/Cropped_2-D4H2.svg]\n",
      "2025-09-22 14:37:18,921 - INFO - Computed metadata for: [/data/kb_766/EyeAI_working/deriva-ml/execution/5-51CA/asset/eye-ai/Fundus_Bounding_Box/Cropped_2-D4H2.svg].\n",
      "2025-09-22 14:37:18,922 - INFO - Computing checksums for file: [/data/kb_766/EyeAI_working/deriva-ml/execution/5-51CA/asset/eye-ai/Fundus_Bounding_Box/Cropped_2-D4H2.svg]. Please wait...\n",
      "2025-09-22 14:37:18,923 - INFO - Uploading file: [/data/kb_766/EyeAI_working/deriva-ml/execution/5-51CA/asset/eye-ai/Fundus_Bounding_Box/Cropped_2-D4H2.svg] to host https://www.eye-ai.org. Please wait...\n",
      "2025-09-22 14:37:19,005 - INFO - Processing: [/data/kb_766/EyeAI_working/deriva-ml/execution/5-51CA/asset/eye-ai/Fundus_Bounding_Box/Cropped_2-D4H4.svg]\n",
      "2025-09-22 14:37:19,006 - INFO - Computed metadata for: [/data/kb_766/EyeAI_working/deriva-ml/execution/5-51CA/asset/eye-ai/Fundus_Bounding_Box/Cropped_2-D4H4.svg].\n",
      "2025-09-22 14:37:19,006 - INFO - Computing checksums for file: [/data/kb_766/EyeAI_working/deriva-ml/execution/5-51CA/asset/eye-ai/Fundus_Bounding_Box/Cropped_2-D4H4.svg]. Please wait...\n",
      "2025-09-22 14:37:19,008 - INFO - Uploading file: [/data/kb_766/EyeAI_working/deriva-ml/execution/5-51CA/asset/eye-ai/Fundus_Bounding_Box/Cropped_2-D4H4.svg] to host https://www.eye-ai.org. Please wait...\n",
      "2025-09-22 14:37:19,093 - INFO - Processing: [/data/kb_766/EyeAI_working/deriva-ml/execution/5-51CA/asset/eye-ai/Fundus_Bounding_Box/Cropped_2-D4K6.svg]\n",
      "2025-09-22 14:37:19,094 - INFO - Computed metadata for: [/data/kb_766/EyeAI_working/deriva-ml/execution/5-51CA/asset/eye-ai/Fundus_Bounding_Box/Cropped_2-D4K6.svg].\n",
      "2025-09-22 14:37:19,094 - INFO - Computing checksums for file: [/data/kb_766/EyeAI_working/deriva-ml/execution/5-51CA/asset/eye-ai/Fundus_Bounding_Box/Cropped_2-D4K6.svg]. Please wait...\n",
      "2025-09-22 14:37:19,096 - INFO - Uploading file: [/data/kb_766/EyeAI_working/deriva-ml/execution/5-51CA/asset/eye-ai/Fundus_Bounding_Box/Cropped_2-D4K6.svg] to host https://www.eye-ai.org. Please wait...\n",
      "2025-09-22 14:37:19,181 - INFO - Processing: [/data/kb_766/EyeAI_working/deriva-ml/execution/5-51CA/asset/eye-ai/Fundus_Bounding_Box/Cropped_2-D4K8.svg]\n",
      "2025-09-22 14:37:19,182 - INFO - Computed metadata for: [/data/kb_766/EyeAI_working/deriva-ml/execution/5-51CA/asset/eye-ai/Fundus_Bounding_Box/Cropped_2-D4K8.svg].\n",
      "2025-09-22 14:37:19,182 - INFO - Computing checksums for file: [/data/kb_766/EyeAI_working/deriva-ml/execution/5-51CA/asset/eye-ai/Fundus_Bounding_Box/Cropped_2-D4K8.svg]. Please wait...\n",
      "2025-09-22 14:37:19,184 - INFO - Uploading file: [/data/kb_766/EyeAI_working/deriva-ml/execution/5-51CA/asset/eye-ai/Fundus_Bounding_Box/Cropped_2-D4K8.svg] to host https://www.eye-ai.org. Please wait...\n",
      "2025-09-22 14:37:19,264 - INFO - Processing: [/data/kb_766/EyeAI_working/deriva-ml/execution/5-51CA/asset/eye-ai/Fundus_Bounding_Box/Cropped_2-D4NJ.svg]\n",
      "2025-09-22 14:37:19,265 - INFO - Computed metadata for: [/data/kb_766/EyeAI_working/deriva-ml/execution/5-51CA/asset/eye-ai/Fundus_Bounding_Box/Cropped_2-D4NJ.svg].\n",
      "2025-09-22 14:37:19,266 - INFO - Computing checksums for file: [/data/kb_766/EyeAI_working/deriva-ml/execution/5-51CA/asset/eye-ai/Fundus_Bounding_Box/Cropped_2-D4NJ.svg]. Please wait...\n",
      "2025-09-22 14:37:19,267 - INFO - Uploading file: [/data/kb_766/EyeAI_working/deriva-ml/execution/5-51CA/asset/eye-ai/Fundus_Bounding_Box/Cropped_2-D4NJ.svg] to host https://www.eye-ai.org. Please wait...\n",
      "2025-09-22 14:37:19,362 - INFO - Processing: [/data/kb_766/EyeAI_working/deriva-ml/execution/5-51CA/asset/eye-ai/Fundus_Bounding_Box/Cropped_2-D4NR.svg]\n",
      "2025-09-22 14:37:19,362 - INFO - Computed metadata for: [/data/kb_766/EyeAI_working/deriva-ml/execution/5-51CA/asset/eye-ai/Fundus_Bounding_Box/Cropped_2-D4NR.svg].\n",
      "2025-09-22 14:37:19,363 - INFO - Computing checksums for file: [/data/kb_766/EyeAI_working/deriva-ml/execution/5-51CA/asset/eye-ai/Fundus_Bounding_Box/Cropped_2-D4NR.svg]. Please wait...\n",
      "2025-09-22 14:37:19,364 - INFO - Uploading file: [/data/kb_766/EyeAI_working/deriva-ml/execution/5-51CA/asset/eye-ai/Fundus_Bounding_Box/Cropped_2-D4NR.svg] to host https://www.eye-ai.org. Please wait...\n",
      "2025-09-22 14:37:19,442 - INFO - Processing: [/data/kb_766/EyeAI_working/deriva-ml/execution/5-51CA/asset/eye-ai/Fundus_Bounding_Box/Cropped_2-D4SE.svg]\n",
      "2025-09-22 14:37:19,443 - INFO - Computed metadata for: [/data/kb_766/EyeAI_working/deriva-ml/execution/5-51CA/asset/eye-ai/Fundus_Bounding_Box/Cropped_2-D4SE.svg].\n",
      "2025-09-22 14:37:19,444 - INFO - Computing checksums for file: [/data/kb_766/EyeAI_working/deriva-ml/execution/5-51CA/asset/eye-ai/Fundus_Bounding_Box/Cropped_2-D4SE.svg]. Please wait...\n",
      "2025-09-22 14:37:19,445 - INFO - Uploading file: [/data/kb_766/EyeAI_working/deriva-ml/execution/5-51CA/asset/eye-ai/Fundus_Bounding_Box/Cropped_2-D4SE.svg] to host https://www.eye-ai.org. Please wait...\n",
      "2025-09-22 14:37:19,542 - INFO - Processing: [/data/kb_766/EyeAI_working/deriva-ml/execution/5-51CA/asset/eye-ai/Fundus_Bounding_Box/Cropped_2-D4SG.svg]\n",
      "2025-09-22 14:37:19,542 - INFO - Computed metadata for: [/data/kb_766/EyeAI_working/deriva-ml/execution/5-51CA/asset/eye-ai/Fundus_Bounding_Box/Cropped_2-D4SG.svg].\n",
      "2025-09-22 14:37:19,543 - INFO - Computing checksums for file: [/data/kb_766/EyeAI_working/deriva-ml/execution/5-51CA/asset/eye-ai/Fundus_Bounding_Box/Cropped_2-D4SG.svg]. Please wait...\n",
      "2025-09-22 14:37:19,544 - INFO - Uploading file: [/data/kb_766/EyeAI_working/deriva-ml/execution/5-51CA/asset/eye-ai/Fundus_Bounding_Box/Cropped_2-D4SG.svg] to host https://www.eye-ai.org. Please wait...\n",
      "2025-09-22 14:37:19,633 - INFO - Processing: [/data/kb_766/EyeAI_working/deriva-ml/execution/5-51CA/asset/eye-ai/Fundus_Bounding_Box/Cropped_2-D4V6.svg]\n",
      "2025-09-22 14:37:19,634 - INFO - Computed metadata for: [/data/kb_766/EyeAI_working/deriva-ml/execution/5-51CA/asset/eye-ai/Fundus_Bounding_Box/Cropped_2-D4V6.svg].\n",
      "2025-09-22 14:37:19,634 - INFO - Computing checksums for file: [/data/kb_766/EyeAI_working/deriva-ml/execution/5-51CA/asset/eye-ai/Fundus_Bounding_Box/Cropped_2-D4V6.svg]. Please wait...\n",
      "2025-09-22 14:37:19,635 - INFO - Uploading file: [/data/kb_766/EyeAI_working/deriva-ml/execution/5-51CA/asset/eye-ai/Fundus_Bounding_Box/Cropped_2-D4V6.svg] to host https://www.eye-ai.org. Please wait...\n",
      "2025-09-22 14:37:19,731 - INFO - Processing: [/data/kb_766/EyeAI_working/deriva-ml/execution/5-51CA/asset/eye-ai/Fundus_Bounding_Box/Cropped_2-D4VG.svg]\n",
      "2025-09-22 14:37:19,732 - INFO - Computed metadata for: [/data/kb_766/EyeAI_working/deriva-ml/execution/5-51CA/asset/eye-ai/Fundus_Bounding_Box/Cropped_2-D4VG.svg].\n",
      "2025-09-22 14:37:19,733 - INFO - Computing checksums for file: [/data/kb_766/EyeAI_working/deriva-ml/execution/5-51CA/asset/eye-ai/Fundus_Bounding_Box/Cropped_2-D4VG.svg]. Please wait...\n",
      "2025-09-22 14:37:19,734 - INFO - Uploading file: [/data/kb_766/EyeAI_working/deriva-ml/execution/5-51CA/asset/eye-ai/Fundus_Bounding_Box/Cropped_2-D4VG.svg] to host https://www.eye-ai.org. Please wait...\n",
      "2025-09-22 14:37:19,814 - INFO - Processing: [/data/kb_766/EyeAI_working/deriva-ml/execution/5-51CA/asset/eye-ai/Fundus_Bounding_Box/Cropped_2-D4VW.svg]\n",
      "2025-09-22 14:37:19,815 - INFO - Computed metadata for: [/data/kb_766/EyeAI_working/deriva-ml/execution/5-51CA/asset/eye-ai/Fundus_Bounding_Box/Cropped_2-D4VW.svg].\n",
      "2025-09-22 14:37:19,815 - INFO - Computing checksums for file: [/data/kb_766/EyeAI_working/deriva-ml/execution/5-51CA/asset/eye-ai/Fundus_Bounding_Box/Cropped_2-D4VW.svg]. Please wait...\n",
      "2025-09-22 14:37:19,817 - INFO - Uploading file: [/data/kb_766/EyeAI_working/deriva-ml/execution/5-51CA/asset/eye-ai/Fundus_Bounding_Box/Cropped_2-D4VW.svg] to host https://www.eye-ai.org. Please wait...\n",
      "2025-09-22 14:37:19,906 - INFO - Processing: [/data/kb_766/EyeAI_working/deriva-ml/execution/5-51CA/asset/eye-ai/Fundus_Bounding_Box/Cropped_2-D4W0.svg]\n",
      "2025-09-22 14:37:19,907 - INFO - Computed metadata for: [/data/kb_766/EyeAI_working/deriva-ml/execution/5-51CA/asset/eye-ai/Fundus_Bounding_Box/Cropped_2-D4W0.svg].\n",
      "2025-09-22 14:37:19,908 - INFO - Computing checksums for file: [/data/kb_766/EyeAI_working/deriva-ml/execution/5-51CA/asset/eye-ai/Fundus_Bounding_Box/Cropped_2-D4W0.svg]. Please wait...\n",
      "2025-09-22 14:37:19,909 - INFO - Uploading file: [/data/kb_766/EyeAI_working/deriva-ml/execution/5-51CA/asset/eye-ai/Fundus_Bounding_Box/Cropped_2-D4W0.svg] to host https://www.eye-ai.org. Please wait...\n",
      "2025-09-22 14:37:19,985 - INFO - Processing: [/data/kb_766/EyeAI_working/deriva-ml/execution/5-51CA/asset/eye-ai/Fundus_Bounding_Box/Cropped_2-D4WP.svg]\n",
      "2025-09-22 14:37:19,986 - INFO - Computed metadata for: [/data/kb_766/EyeAI_working/deriva-ml/execution/5-51CA/asset/eye-ai/Fundus_Bounding_Box/Cropped_2-D4WP.svg].\n",
      "2025-09-22 14:37:19,986 - INFO - Computing checksums for file: [/data/kb_766/EyeAI_working/deriva-ml/execution/5-51CA/asset/eye-ai/Fundus_Bounding_Box/Cropped_2-D4WP.svg]. Please wait...\n",
      "2025-09-22 14:37:19,988 - INFO - Uploading file: [/data/kb_766/EyeAI_working/deriva-ml/execution/5-51CA/asset/eye-ai/Fundus_Bounding_Box/Cropped_2-D4WP.svg] to host https://www.eye-ai.org. Please wait...\n",
      "2025-09-22 14:37:20,117 - INFO - Processing: [/data/kb_766/EyeAI_working/deriva-ml/execution/5-51CA/asset/eye-ai/Fundus_Bounding_Box/Cropped_2-D4WW.svg]\n",
      "2025-09-22 14:37:20,118 - INFO - Computed metadata for: [/data/kb_766/EyeAI_working/deriva-ml/execution/5-51CA/asset/eye-ai/Fundus_Bounding_Box/Cropped_2-D4WW.svg].\n",
      "2025-09-22 14:37:20,118 - INFO - Computing checksums for file: [/data/kb_766/EyeAI_working/deriva-ml/execution/5-51CA/asset/eye-ai/Fundus_Bounding_Box/Cropped_2-D4WW.svg]. Please wait...\n",
      "2025-09-22 14:37:20,119 - INFO - Uploading file: [/data/kb_766/EyeAI_working/deriva-ml/execution/5-51CA/asset/eye-ai/Fundus_Bounding_Box/Cropped_2-D4WW.svg] to host https://www.eye-ai.org. Please wait...\n",
      "2025-09-22 14:37:20,243 - INFO - Processing: [/data/kb_766/EyeAI_working/deriva-ml/execution/5-51CA/asset/eye-ai/Fundus_Bounding_Box/Cropped_2-D4ZR.svg]\n",
      "2025-09-22 14:37:20,244 - INFO - Computed metadata for: [/data/kb_766/EyeAI_working/deriva-ml/execution/5-51CA/asset/eye-ai/Fundus_Bounding_Box/Cropped_2-D4ZR.svg].\n",
      "2025-09-22 14:37:20,245 - INFO - Computing checksums for file: [/data/kb_766/EyeAI_working/deriva-ml/execution/5-51CA/asset/eye-ai/Fundus_Bounding_Box/Cropped_2-D4ZR.svg]. Please wait...\n",
      "2025-09-22 14:37:20,246 - INFO - Uploading file: [/data/kb_766/EyeAI_working/deriva-ml/execution/5-51CA/asset/eye-ai/Fundus_Bounding_Box/Cropped_2-D4ZR.svg] to host https://www.eye-ai.org. Please wait...\n",
      "2025-09-22 14:37:20,334 - INFO - Processing: [/data/kb_766/EyeAI_working/deriva-ml/execution/5-51CA/asset/eye-ai/Fundus_Bounding_Box/Cropped_2-D4ZT.svg]\n",
      "2025-09-22 14:37:20,335 - INFO - Computed metadata for: [/data/kb_766/EyeAI_working/deriva-ml/execution/5-51CA/asset/eye-ai/Fundus_Bounding_Box/Cropped_2-D4ZT.svg].\n",
      "2025-09-22 14:37:20,335 - INFO - Computing checksums for file: [/data/kb_766/EyeAI_working/deriva-ml/execution/5-51CA/asset/eye-ai/Fundus_Bounding_Box/Cropped_2-D4ZT.svg]. Please wait...\n",
      "2025-09-22 14:37:20,337 - INFO - Uploading file: [/data/kb_766/EyeAI_working/deriva-ml/execution/5-51CA/asset/eye-ai/Fundus_Bounding_Box/Cropped_2-D4ZT.svg] to host https://www.eye-ai.org. Please wait...\n",
      "2025-09-22 14:37:20,419 - INFO - Processing: [/data/kb_766/EyeAI_working/deriva-ml/execution/5-51CA/asset/eye-ai/Fundus_Bounding_Box/Cropped_2-D4ZY.svg]\n",
      "2025-09-22 14:37:20,420 - INFO - Computed metadata for: [/data/kb_766/EyeAI_working/deriva-ml/execution/5-51CA/asset/eye-ai/Fundus_Bounding_Box/Cropped_2-D4ZY.svg].\n",
      "2025-09-22 14:37:20,420 - INFO - Computing checksums for file: [/data/kb_766/EyeAI_working/deriva-ml/execution/5-51CA/asset/eye-ai/Fundus_Bounding_Box/Cropped_2-D4ZY.svg]. Please wait...\n",
      "2025-09-22 14:37:20,422 - INFO - Uploading file: [/data/kb_766/EyeAI_working/deriva-ml/execution/5-51CA/asset/eye-ai/Fundus_Bounding_Box/Cropped_2-D4ZY.svg] to host https://www.eye-ai.org. Please wait...\n",
      "2025-09-22 14:37:20,505 - INFO - Processing: [/data/kb_766/EyeAI_working/deriva-ml/execution/5-51CA/asset/eye-ai/Fundus_Bounding_Box/Cropped_2-D504.svg]\n",
      "2025-09-22 14:37:20,506 - INFO - Computed metadata for: [/data/kb_766/EyeAI_working/deriva-ml/execution/5-51CA/asset/eye-ai/Fundus_Bounding_Box/Cropped_2-D504.svg].\n",
      "2025-09-22 14:37:20,507 - INFO - Computing checksums for file: [/data/kb_766/EyeAI_working/deriva-ml/execution/5-51CA/asset/eye-ai/Fundus_Bounding_Box/Cropped_2-D504.svg]. Please wait...\n",
      "2025-09-22 14:37:20,508 - INFO - Uploading file: [/data/kb_766/EyeAI_working/deriva-ml/execution/5-51CA/asset/eye-ai/Fundus_Bounding_Box/Cropped_2-D504.svg] to host https://www.eye-ai.org. Please wait...\n",
      "2025-09-22 14:37:20,620 - INFO - Processing: [/data/kb_766/EyeAI_working/deriva-ml/execution/5-51CA/asset/eye-ai/Fundus_Bounding_Box/Cropped_2-D514.svg]\n",
      "2025-09-22 14:37:20,621 - INFO - Computed metadata for: [/data/kb_766/EyeAI_working/deriva-ml/execution/5-51CA/asset/eye-ai/Fundus_Bounding_Box/Cropped_2-D514.svg].\n",
      "2025-09-22 14:37:20,621 - INFO - Computing checksums for file: [/data/kb_766/EyeAI_working/deriva-ml/execution/5-51CA/asset/eye-ai/Fundus_Bounding_Box/Cropped_2-D514.svg]. Please wait...\n",
      "2025-09-22 14:37:20,622 - INFO - Uploading file: [/data/kb_766/EyeAI_working/deriva-ml/execution/5-51CA/asset/eye-ai/Fundus_Bounding_Box/Cropped_2-D514.svg] to host https://www.eye-ai.org. Please wait...\n",
      "2025-09-22 14:37:20,705 - INFO - Processing: [/data/kb_766/EyeAI_working/deriva-ml/execution/5-51CA/asset/eye-ai/Fundus_Bounding_Box/Cropped_2-D51A.svg]\n",
      "2025-09-22 14:37:20,706 - INFO - Computed metadata for: [/data/kb_766/EyeAI_working/deriva-ml/execution/5-51CA/asset/eye-ai/Fundus_Bounding_Box/Cropped_2-D51A.svg].\n",
      "2025-09-22 14:37:20,706 - INFO - Computing checksums for file: [/data/kb_766/EyeAI_working/deriva-ml/execution/5-51CA/asset/eye-ai/Fundus_Bounding_Box/Cropped_2-D51A.svg]. Please wait...\n",
      "2025-09-22 14:37:20,707 - INFO - Uploading file: [/data/kb_766/EyeAI_working/deriva-ml/execution/5-51CA/asset/eye-ai/Fundus_Bounding_Box/Cropped_2-D51A.svg] to host https://www.eye-ai.org. Please wait...\n",
      "2025-09-22 14:37:20,824 - INFO - Processing: [/data/kb_766/EyeAI_working/deriva-ml/execution/5-51CA/asset/eye-ai/Fundus_Bounding_Box/Cropped_2-D52A.svg]\n",
      "2025-09-22 14:37:20,824 - INFO - Computed metadata for: [/data/kb_766/EyeAI_working/deriva-ml/execution/5-51CA/asset/eye-ai/Fundus_Bounding_Box/Cropped_2-D52A.svg].\n",
      "2025-09-22 14:37:20,825 - INFO - Computing checksums for file: [/data/kb_766/EyeAI_working/deriva-ml/execution/5-51CA/asset/eye-ai/Fundus_Bounding_Box/Cropped_2-D52A.svg]. Please wait...\n",
      "2025-09-22 14:37:20,826 - INFO - Uploading file: [/data/kb_766/EyeAI_working/deriva-ml/execution/5-51CA/asset/eye-ai/Fundus_Bounding_Box/Cropped_2-D52A.svg] to host https://www.eye-ai.org. Please wait...\n",
      "2025-09-22 14:37:20,910 - INFO - Processing: [/data/kb_766/EyeAI_working/deriva-ml/execution/5-51CA/asset/eye-ai/Fundus_Bounding_Box/Cropped_2-D52C.svg]\n",
      "2025-09-22 14:37:20,910 - INFO - Computed metadata for: [/data/kb_766/EyeAI_working/deriva-ml/execution/5-51CA/asset/eye-ai/Fundus_Bounding_Box/Cropped_2-D52C.svg].\n",
      "2025-09-22 14:37:20,911 - INFO - Computing checksums for file: [/data/kb_766/EyeAI_working/deriva-ml/execution/5-51CA/asset/eye-ai/Fundus_Bounding_Box/Cropped_2-D52C.svg]. Please wait...\n",
      "2025-09-22 14:37:20,912 - INFO - Uploading file: [/data/kb_766/EyeAI_working/deriva-ml/execution/5-51CA/asset/eye-ai/Fundus_Bounding_Box/Cropped_2-D52C.svg] to host https://www.eye-ai.org. Please wait...\n",
      "2025-09-22 14:37:20,994 - INFO - Processing: [/data/kb_766/EyeAI_working/deriva-ml/execution/5-51CA/asset/eye-ai/Fundus_Bounding_Box/Cropped_2-D52G.svg]\n",
      "2025-09-22 14:37:20,994 - INFO - Computed metadata for: [/data/kb_766/EyeAI_working/deriva-ml/execution/5-51CA/asset/eye-ai/Fundus_Bounding_Box/Cropped_2-D52G.svg].\n",
      "2025-09-22 14:37:20,995 - INFO - Computing checksums for file: [/data/kb_766/EyeAI_working/deriva-ml/execution/5-51CA/asset/eye-ai/Fundus_Bounding_Box/Cropped_2-D52G.svg]. Please wait...\n",
      "2025-09-22 14:37:20,996 - INFO - Uploading file: [/data/kb_766/EyeAI_working/deriva-ml/execution/5-51CA/asset/eye-ai/Fundus_Bounding_Box/Cropped_2-D52G.svg] to host https://www.eye-ai.org. Please wait...\n",
      "2025-09-22 14:37:21,077 - INFO - Processing: [/data/kb_766/EyeAI_working/deriva-ml/execution/5-51CA/asset/eye-ai/Fundus_Bounding_Box/Cropped_2-D52R.svg]\n",
      "2025-09-22 14:37:21,078 - INFO - Computed metadata for: [/data/kb_766/EyeAI_working/deriva-ml/execution/5-51CA/asset/eye-ai/Fundus_Bounding_Box/Cropped_2-D52R.svg].\n",
      "2025-09-22 14:37:21,078 - INFO - Computing checksums for file: [/data/kb_766/EyeAI_working/deriva-ml/execution/5-51CA/asset/eye-ai/Fundus_Bounding_Box/Cropped_2-D52R.svg]. Please wait...\n",
      "2025-09-22 14:37:21,079 - INFO - Uploading file: [/data/kb_766/EyeAI_working/deriva-ml/execution/5-51CA/asset/eye-ai/Fundus_Bounding_Box/Cropped_2-D52R.svg] to host https://www.eye-ai.org. Please wait...\n",
      "2025-09-22 14:37:21,173 - INFO - Processing: [/data/kb_766/EyeAI_working/deriva-ml/execution/5-51CA/asset/eye-ai/Fundus_Bounding_Box/Cropped_2-D540.svg]\n",
      "2025-09-22 14:37:21,174 - INFO - Computed metadata for: [/data/kb_766/EyeAI_working/deriva-ml/execution/5-51CA/asset/eye-ai/Fundus_Bounding_Box/Cropped_2-D540.svg].\n",
      "2025-09-22 14:37:21,174 - INFO - Computing checksums for file: [/data/kb_766/EyeAI_working/deriva-ml/execution/5-51CA/asset/eye-ai/Fundus_Bounding_Box/Cropped_2-D540.svg]. Please wait...\n",
      "2025-09-22 14:37:21,175 - INFO - Uploading file: [/data/kb_766/EyeAI_working/deriva-ml/execution/5-51CA/asset/eye-ai/Fundus_Bounding_Box/Cropped_2-D540.svg] to host https://www.eye-ai.org. Please wait...\n",
      "2025-09-22 14:37:21,257 - INFO - Processing: [/data/kb_766/EyeAI_working/deriva-ml/execution/5-51CA/asset/eye-ai/Fundus_Bounding_Box/Cropped_2-D54A.svg]\n",
      "2025-09-22 14:37:21,258 - INFO - Computed metadata for: [/data/kb_766/EyeAI_working/deriva-ml/execution/5-51CA/asset/eye-ai/Fundus_Bounding_Box/Cropped_2-D54A.svg].\n",
      "2025-09-22 14:37:21,259 - INFO - Computing checksums for file: [/data/kb_766/EyeAI_working/deriva-ml/execution/5-51CA/asset/eye-ai/Fundus_Bounding_Box/Cropped_2-D54A.svg]. Please wait...\n",
      "2025-09-22 14:37:21,260 - INFO - Uploading file: [/data/kb_766/EyeAI_working/deriva-ml/execution/5-51CA/asset/eye-ai/Fundus_Bounding_Box/Cropped_2-D54A.svg] to host https://www.eye-ai.org. Please wait...\n",
      "2025-09-22 14:37:21,342 - INFO - Processing: [/data/kb_766/EyeAI_working/deriva-ml/execution/5-51CA/asset/eye-ai/Fundus_Bounding_Box/Cropped_2-D584.svg]\n",
      "2025-09-22 14:37:21,343 - INFO - Computed metadata for: [/data/kb_766/EyeAI_working/deriva-ml/execution/5-51CA/asset/eye-ai/Fundus_Bounding_Box/Cropped_2-D584.svg].\n",
      "2025-09-22 14:37:21,343 - INFO - Computing checksums for file: [/data/kb_766/EyeAI_working/deriva-ml/execution/5-51CA/asset/eye-ai/Fundus_Bounding_Box/Cropped_2-D584.svg]. Please wait...\n",
      "2025-09-22 14:37:21,344 - INFO - Uploading file: [/data/kb_766/EyeAI_working/deriva-ml/execution/5-51CA/asset/eye-ai/Fundus_Bounding_Box/Cropped_2-D584.svg] to host https://www.eye-ai.org. Please wait...\n",
      "2025-09-22 14:37:21,421 - INFO - Processing: [/data/kb_766/EyeAI_working/deriva-ml/execution/5-51CA/asset/eye-ai/Fundus_Bounding_Box/Cropped_2-D586.svg]\n",
      "2025-09-22 14:37:21,422 - INFO - Computed metadata for: [/data/kb_766/EyeAI_working/deriva-ml/execution/5-51CA/asset/eye-ai/Fundus_Bounding_Box/Cropped_2-D586.svg].\n",
      "2025-09-22 14:37:21,423 - INFO - Computing checksums for file: [/data/kb_766/EyeAI_working/deriva-ml/execution/5-51CA/asset/eye-ai/Fundus_Bounding_Box/Cropped_2-D586.svg]. Please wait...\n",
      "2025-09-22 14:37:21,424 - INFO - Uploading file: [/data/kb_766/EyeAI_working/deriva-ml/execution/5-51CA/asset/eye-ai/Fundus_Bounding_Box/Cropped_2-D586.svg] to host https://www.eye-ai.org. Please wait...\n",
      "2025-09-22 14:37:21,512 - INFO - Processing: [/data/kb_766/EyeAI_working/deriva-ml/execution/5-51CA/asset/eye-ai/Fundus_Bounding_Box/Cropped_2-D5B2.svg]\n",
      "2025-09-22 14:37:21,513 - INFO - Computed metadata for: [/data/kb_766/EyeAI_working/deriva-ml/execution/5-51CA/asset/eye-ai/Fundus_Bounding_Box/Cropped_2-D5B2.svg].\n",
      "2025-09-22 14:37:21,513 - INFO - Computing checksums for file: [/data/kb_766/EyeAI_working/deriva-ml/execution/5-51CA/asset/eye-ai/Fundus_Bounding_Box/Cropped_2-D5B2.svg]. Please wait...\n",
      "2025-09-22 14:37:21,515 - INFO - Uploading file: [/data/kb_766/EyeAI_working/deriva-ml/execution/5-51CA/asset/eye-ai/Fundus_Bounding_Box/Cropped_2-D5B2.svg] to host https://www.eye-ai.org. Please wait...\n",
      "2025-09-22 14:37:21,593 - INFO - Processing: [/data/kb_766/EyeAI_working/deriva-ml/execution/5-51CA/asset/eye-ai/Fundus_Bounding_Box/Cropped_2-D5FM.svg]\n",
      "2025-09-22 14:37:21,594 - INFO - Computed metadata for: [/data/kb_766/EyeAI_working/deriva-ml/execution/5-51CA/asset/eye-ai/Fundus_Bounding_Box/Cropped_2-D5FM.svg].\n",
      "2025-09-22 14:37:21,595 - INFO - Computing checksums for file: [/data/kb_766/EyeAI_working/deriva-ml/execution/5-51CA/asset/eye-ai/Fundus_Bounding_Box/Cropped_2-D5FM.svg]. Please wait...\n",
      "2025-09-22 14:37:21,596 - INFO - Uploading file: [/data/kb_766/EyeAI_working/deriva-ml/execution/5-51CA/asset/eye-ai/Fundus_Bounding_Box/Cropped_2-D5FM.svg] to host https://www.eye-ai.org. Please wait...\n",
      "2025-09-22 14:37:21,685 - INFO - Processing: [/data/kb_766/EyeAI_working/deriva-ml/execution/5-51CA/asset/eye-ai/Fundus_Bounding_Box/Cropped_2-D5FW.svg]\n",
      "2025-09-22 14:37:21,686 - INFO - Computed metadata for: [/data/kb_766/EyeAI_working/deriva-ml/execution/5-51CA/asset/eye-ai/Fundus_Bounding_Box/Cropped_2-D5FW.svg].\n",
      "2025-09-22 14:37:21,687 - INFO - Computing checksums for file: [/data/kb_766/EyeAI_working/deriva-ml/execution/5-51CA/asset/eye-ai/Fundus_Bounding_Box/Cropped_2-D5FW.svg]. Please wait...\n",
      "2025-09-22 14:37:21,688 - INFO - Uploading file: [/data/kb_766/EyeAI_working/deriva-ml/execution/5-51CA/asset/eye-ai/Fundus_Bounding_Box/Cropped_2-D5FW.svg] to host https://www.eye-ai.org. Please wait...\n",
      "2025-09-22 14:37:21,776 - INFO - Processing: [/data/kb_766/EyeAI_working/deriva-ml/execution/5-51CA/asset/eye-ai/Fundus_Bounding_Box/Cropped_2-D5J0.svg]\n",
      "2025-09-22 14:37:21,777 - INFO - Computed metadata for: [/data/kb_766/EyeAI_working/deriva-ml/execution/5-51CA/asset/eye-ai/Fundus_Bounding_Box/Cropped_2-D5J0.svg].\n",
      "2025-09-22 14:37:21,777 - INFO - Computing checksums for file: [/data/kb_766/EyeAI_working/deriva-ml/execution/5-51CA/asset/eye-ai/Fundus_Bounding_Box/Cropped_2-D5J0.svg]. Please wait...\n",
      "2025-09-22 14:37:21,778 - INFO - Uploading file: [/data/kb_766/EyeAI_working/deriva-ml/execution/5-51CA/asset/eye-ai/Fundus_Bounding_Box/Cropped_2-D5J0.svg] to host https://www.eye-ai.org. Please wait...\n",
      "2025-09-22 14:37:21,862 - INFO - Processing: [/data/kb_766/EyeAI_working/deriva-ml/execution/5-51CA/asset/eye-ai/Fundus_Bounding_Box/Cropped_2-D5J2.svg]\n",
      "2025-09-22 14:37:21,863 - INFO - Computed metadata for: [/data/kb_766/EyeAI_working/deriva-ml/execution/5-51CA/asset/eye-ai/Fundus_Bounding_Box/Cropped_2-D5J2.svg].\n",
      "2025-09-22 14:37:21,863 - INFO - Computing checksums for file: [/data/kb_766/EyeAI_working/deriva-ml/execution/5-51CA/asset/eye-ai/Fundus_Bounding_Box/Cropped_2-D5J2.svg]. Please wait...\n",
      "2025-09-22 14:37:21,864 - INFO - Uploading file: [/data/kb_766/EyeAI_working/deriva-ml/execution/5-51CA/asset/eye-ai/Fundus_Bounding_Box/Cropped_2-D5J2.svg] to host https://www.eye-ai.org. Please wait...\n",
      "2025-09-22 14:37:21,955 - INFO - Processing: [/data/kb_766/EyeAI_working/deriva-ml/execution/5-51CA/asset/eye-ai/Fundus_Bounding_Box/Cropped_2-D5QJ.svg]\n",
      "2025-09-22 14:37:21,956 - INFO - Computed metadata for: [/data/kb_766/EyeAI_working/deriva-ml/execution/5-51CA/asset/eye-ai/Fundus_Bounding_Box/Cropped_2-D5QJ.svg].\n",
      "2025-09-22 14:37:21,956 - INFO - Computing checksums for file: [/data/kb_766/EyeAI_working/deriva-ml/execution/5-51CA/asset/eye-ai/Fundus_Bounding_Box/Cropped_2-D5QJ.svg]. Please wait...\n",
      "2025-09-22 14:37:21,958 - INFO - Uploading file: [/data/kb_766/EyeAI_working/deriva-ml/execution/5-51CA/asset/eye-ai/Fundus_Bounding_Box/Cropped_2-D5QJ.svg] to host https://www.eye-ai.org. Please wait...\n",
      "2025-09-22 14:37:22,045 - INFO - Processing: [/data/kb_766/EyeAI_working/deriva-ml/execution/5-51CA/asset/eye-ai/Fundus_Bounding_Box/Cropped_2-D5QM.svg]\n",
      "2025-09-22 14:37:22,046 - INFO - Computed metadata for: [/data/kb_766/EyeAI_working/deriva-ml/execution/5-51CA/asset/eye-ai/Fundus_Bounding_Box/Cropped_2-D5QM.svg].\n",
      "2025-09-22 14:37:22,046 - INFO - Computing checksums for file: [/data/kb_766/EyeAI_working/deriva-ml/execution/5-51CA/asset/eye-ai/Fundus_Bounding_Box/Cropped_2-D5QM.svg]. Please wait...\n",
      "2025-09-22 14:37:22,048 - INFO - Uploading file: [/data/kb_766/EyeAI_working/deriva-ml/execution/5-51CA/asset/eye-ai/Fundus_Bounding_Box/Cropped_2-D5QM.svg] to host https://www.eye-ai.org. Please wait...\n",
      "2025-09-22 14:37:22,129 - INFO - Processing: [/data/kb_766/EyeAI_working/deriva-ml/execution/5-51CA/asset/eye-ai/Fundus_Bounding_Box/Cropped_2-D5RP.svg]\n",
      "2025-09-22 14:37:22,130 - INFO - Computed metadata for: [/data/kb_766/EyeAI_working/deriva-ml/execution/5-51CA/asset/eye-ai/Fundus_Bounding_Box/Cropped_2-D5RP.svg].\n",
      "2025-09-22 14:37:22,130 - INFO - Computing checksums for file: [/data/kb_766/EyeAI_working/deriva-ml/execution/5-51CA/asset/eye-ai/Fundus_Bounding_Box/Cropped_2-D5RP.svg]. Please wait...\n",
      "2025-09-22 14:37:22,132 - INFO - Uploading file: [/data/kb_766/EyeAI_working/deriva-ml/execution/5-51CA/asset/eye-ai/Fundus_Bounding_Box/Cropped_2-D5RP.svg] to host https://www.eye-ai.org. Please wait...\n",
      "2025-09-22 14:37:22,231 - INFO - Processing: [/data/kb_766/EyeAI_working/deriva-ml/execution/5-51CA/asset/eye-ai/Fundus_Bounding_Box/Cropped_2-D5RT.svg]\n",
      "2025-09-22 14:37:22,231 - INFO - Computed metadata for: [/data/kb_766/EyeAI_working/deriva-ml/execution/5-51CA/asset/eye-ai/Fundus_Bounding_Box/Cropped_2-D5RT.svg].\n",
      "2025-09-22 14:37:22,232 - INFO - Computing checksums for file: [/data/kb_766/EyeAI_working/deriva-ml/execution/5-51CA/asset/eye-ai/Fundus_Bounding_Box/Cropped_2-D5RT.svg]. Please wait...\n",
      "2025-09-22 14:37:22,233 - INFO - Uploading file: [/data/kb_766/EyeAI_working/deriva-ml/execution/5-51CA/asset/eye-ai/Fundus_Bounding_Box/Cropped_2-D5RT.svg] to host https://www.eye-ai.org. Please wait...\n",
      "2025-09-22 14:37:22,315 - INFO - Processing: [/data/kb_766/EyeAI_working/deriva-ml/execution/5-51CA/asset/eye-ai/Fundus_Bounding_Box/Cropped_2-D5VC.svg]\n",
      "2025-09-22 14:37:22,316 - INFO - Computed metadata for: [/data/kb_766/EyeAI_working/deriva-ml/execution/5-51CA/asset/eye-ai/Fundus_Bounding_Box/Cropped_2-D5VC.svg].\n",
      "2025-09-22 14:37:22,316 - INFO - Computing checksums for file: [/data/kb_766/EyeAI_working/deriva-ml/execution/5-51CA/asset/eye-ai/Fundus_Bounding_Box/Cropped_2-D5VC.svg]. Please wait...\n",
      "2025-09-22 14:37:22,318 - INFO - Uploading file: [/data/kb_766/EyeAI_working/deriva-ml/execution/5-51CA/asset/eye-ai/Fundus_Bounding_Box/Cropped_2-D5VC.svg] to host https://www.eye-ai.org. Please wait...\n",
      "2025-09-22 14:37:22,445 - INFO - Processing: [/data/kb_766/EyeAI_working/deriva-ml/execution/5-51CA/asset/eye-ai/Fundus_Bounding_Box/Cropped_2-D5VJ.svg]\n",
      "2025-09-22 14:37:22,446 - INFO - Computed metadata for: [/data/kb_766/EyeAI_working/deriva-ml/execution/5-51CA/asset/eye-ai/Fundus_Bounding_Box/Cropped_2-D5VJ.svg].\n",
      "2025-09-22 14:37:22,446 - INFO - Computing checksums for file: [/data/kb_766/EyeAI_working/deriva-ml/execution/5-51CA/asset/eye-ai/Fundus_Bounding_Box/Cropped_2-D5VJ.svg]. Please wait...\n",
      "2025-09-22 14:37:22,448 - INFO - Uploading file: [/data/kb_766/EyeAI_working/deriva-ml/execution/5-51CA/asset/eye-ai/Fundus_Bounding_Box/Cropped_2-D5VJ.svg] to host https://www.eye-ai.org. Please wait...\n",
      "2025-09-22 14:37:22,550 - INFO - Processing: [/data/kb_766/EyeAI_working/deriva-ml/execution/5-51CA/asset/eye-ai/Fundus_Bounding_Box/Cropped_2-D5Z4.svg]\n",
      "2025-09-22 14:37:22,551 - INFO - Computed metadata for: [/data/kb_766/EyeAI_working/deriva-ml/execution/5-51CA/asset/eye-ai/Fundus_Bounding_Box/Cropped_2-D5Z4.svg].\n",
      "2025-09-22 14:37:22,551 - INFO - Computing checksums for file: [/data/kb_766/EyeAI_working/deriva-ml/execution/5-51CA/asset/eye-ai/Fundus_Bounding_Box/Cropped_2-D5Z4.svg]. Please wait...\n",
      "2025-09-22 14:37:22,552 - INFO - Uploading file: [/data/kb_766/EyeAI_working/deriva-ml/execution/5-51CA/asset/eye-ai/Fundus_Bounding_Box/Cropped_2-D5Z4.svg] to host https://www.eye-ai.org. Please wait...\n",
      "2025-09-22 14:37:22,630 - INFO - Processing: [/data/kb_766/EyeAI_working/deriva-ml/execution/5-51CA/asset/eye-ai/Fundus_Bounding_Box/Cropped_2-D5Z6.svg]\n",
      "2025-09-22 14:37:22,631 - INFO - Computed metadata for: [/data/kb_766/EyeAI_working/deriva-ml/execution/5-51CA/asset/eye-ai/Fundus_Bounding_Box/Cropped_2-D5Z6.svg].\n",
      "2025-09-22 14:37:22,632 - INFO - Computing checksums for file: [/data/kb_766/EyeAI_working/deriva-ml/execution/5-51CA/asset/eye-ai/Fundus_Bounding_Box/Cropped_2-D5Z6.svg]. Please wait...\n",
      "2025-09-22 14:37:22,632 - INFO - Uploading file: [/data/kb_766/EyeAI_working/deriva-ml/execution/5-51CA/asset/eye-ai/Fundus_Bounding_Box/Cropped_2-D5Z6.svg] to host https://www.eye-ai.org. Please wait...\n",
      "2025-09-22 14:37:22,717 - INFO - Processing: [/data/kb_766/EyeAI_working/deriva-ml/execution/5-51CA/asset/eye-ai/Fundus_Bounding_Box/Cropped_2-D60C.svg]\n",
      "2025-09-22 14:37:22,717 - INFO - Computed metadata for: [/data/kb_766/EyeAI_working/deriva-ml/execution/5-51CA/asset/eye-ai/Fundus_Bounding_Box/Cropped_2-D60C.svg].\n",
      "2025-09-22 14:37:22,718 - INFO - Computing checksums for file: [/data/kb_766/EyeAI_working/deriva-ml/execution/5-51CA/asset/eye-ai/Fundus_Bounding_Box/Cropped_2-D60C.svg]. Please wait...\n",
      "2025-09-22 14:37:22,719 - INFO - Uploading file: [/data/kb_766/EyeAI_working/deriva-ml/execution/5-51CA/asset/eye-ai/Fundus_Bounding_Box/Cropped_2-D60C.svg] to host https://www.eye-ai.org. Please wait...\n",
      "2025-09-22 14:37:22,807 - INFO - Processing: [/data/kb_766/EyeAI_working/deriva-ml/execution/5-51CA/asset/eye-ai/Fundus_Bounding_Box/Cropped_2-D60E.svg]\n",
      "2025-09-22 14:37:22,808 - INFO - Computed metadata for: [/data/kb_766/EyeAI_working/deriva-ml/execution/5-51CA/asset/eye-ai/Fundus_Bounding_Box/Cropped_2-D60E.svg].\n",
      "2025-09-22 14:37:22,809 - INFO - Computing checksums for file: [/data/kb_766/EyeAI_working/deriva-ml/execution/5-51CA/asset/eye-ai/Fundus_Bounding_Box/Cropped_2-D60E.svg]. Please wait...\n",
      "2025-09-22 14:37:22,810 - INFO - Uploading file: [/data/kb_766/EyeAI_working/deriva-ml/execution/5-51CA/asset/eye-ai/Fundus_Bounding_Box/Cropped_2-D60E.svg] to host https://www.eye-ai.org. Please wait...\n",
      "2025-09-22 14:37:22,889 - INFO - Processing: [/data/kb_766/EyeAI_working/deriva-ml/execution/5-51CA/asset/eye-ai/Fundus_Bounding_Box/Cropped_2-D6B2.svg]\n",
      "2025-09-22 14:37:22,890 - INFO - Computed metadata for: [/data/kb_766/EyeAI_working/deriva-ml/execution/5-51CA/asset/eye-ai/Fundus_Bounding_Box/Cropped_2-D6B2.svg].\n",
      "2025-09-22 14:37:22,891 - INFO - Computing checksums for file: [/data/kb_766/EyeAI_working/deriva-ml/execution/5-51CA/asset/eye-ai/Fundus_Bounding_Box/Cropped_2-D6B2.svg]. Please wait...\n",
      "2025-09-22 14:37:22,892 - INFO - Uploading file: [/data/kb_766/EyeAI_working/deriva-ml/execution/5-51CA/asset/eye-ai/Fundus_Bounding_Box/Cropped_2-D6B2.svg] to host https://www.eye-ai.org. Please wait...\n",
      "2025-09-22 14:37:22,981 - INFO - Processing: [/data/kb_766/EyeAI_working/deriva-ml/execution/5-51CA/asset/eye-ai/Fundus_Bounding_Box/Cropped_2-D6B6.svg]\n",
      "2025-09-22 14:37:22,981 - INFO - Computed metadata for: [/data/kb_766/EyeAI_working/deriva-ml/execution/5-51CA/asset/eye-ai/Fundus_Bounding_Box/Cropped_2-D6B6.svg].\n",
      "2025-09-22 14:37:22,982 - INFO - Computing checksums for file: [/data/kb_766/EyeAI_working/deriva-ml/execution/5-51CA/asset/eye-ai/Fundus_Bounding_Box/Cropped_2-D6B6.svg]. Please wait...\n",
      "2025-09-22 14:37:22,984 - INFO - Uploading file: [/data/kb_766/EyeAI_working/deriva-ml/execution/5-51CA/asset/eye-ai/Fundus_Bounding_Box/Cropped_2-D6B6.svg] to host https://www.eye-ai.org. Please wait...\n",
      "2025-09-22 14:37:23,111 - INFO - Processing: [/data/kb_766/EyeAI_working/deriva-ml/execution/5-51CA/asset/eye-ai/Fundus_Bounding_Box/Cropped_2-D6DT.svg]\n",
      "2025-09-22 14:37:23,112 - INFO - Computed metadata for: [/data/kb_766/EyeAI_working/deriva-ml/execution/5-51CA/asset/eye-ai/Fundus_Bounding_Box/Cropped_2-D6DT.svg].\n",
      "2025-09-22 14:37:23,113 - INFO - Computing checksums for file: [/data/kb_766/EyeAI_working/deriva-ml/execution/5-51CA/asset/eye-ai/Fundus_Bounding_Box/Cropped_2-D6DT.svg]. Please wait...\n",
      "2025-09-22 14:37:23,114 - INFO - Uploading file: [/data/kb_766/EyeAI_working/deriva-ml/execution/5-51CA/asset/eye-ai/Fundus_Bounding_Box/Cropped_2-D6DT.svg] to host https://www.eye-ai.org. Please wait...\n",
      "2025-09-22 14:37:23,194 - INFO - Processing: [/data/kb_766/EyeAI_working/deriva-ml/execution/5-51CA/asset/eye-ai/Fundus_Bounding_Box/Cropped_2-D6DW.svg]\n",
      "2025-09-22 14:37:23,195 - INFO - Computed metadata for: [/data/kb_766/EyeAI_working/deriva-ml/execution/5-51CA/asset/eye-ai/Fundus_Bounding_Box/Cropped_2-D6DW.svg].\n",
      "2025-09-22 14:37:23,196 - INFO - Computing checksums for file: [/data/kb_766/EyeAI_working/deriva-ml/execution/5-51CA/asset/eye-ai/Fundus_Bounding_Box/Cropped_2-D6DW.svg]. Please wait...\n",
      "2025-09-22 14:37:23,197 - INFO - Uploading file: [/data/kb_766/EyeAI_working/deriva-ml/execution/5-51CA/asset/eye-ai/Fundus_Bounding_Box/Cropped_2-D6DW.svg] to host https://www.eye-ai.org. Please wait...\n",
      "2025-09-22 14:37:23,274 - INFO - Processing: [/data/kb_766/EyeAI_working/deriva-ml/execution/5-51CA/asset/eye-ai/Fundus_Bounding_Box/Cropped_2-D6TM.svg]\n",
      "2025-09-22 14:37:23,275 - INFO - Computed metadata for: [/data/kb_766/EyeAI_working/deriva-ml/execution/5-51CA/asset/eye-ai/Fundus_Bounding_Box/Cropped_2-D6TM.svg].\n",
      "2025-09-22 14:37:23,275 - INFO - Computing checksums for file: [/data/kb_766/EyeAI_working/deriva-ml/execution/5-51CA/asset/eye-ai/Fundus_Bounding_Box/Cropped_2-D6TM.svg]. Please wait...\n",
      "2025-09-22 14:37:23,276 - INFO - Uploading file: [/data/kb_766/EyeAI_working/deriva-ml/execution/5-51CA/asset/eye-ai/Fundus_Bounding_Box/Cropped_2-D6TM.svg] to host https://www.eye-ai.org. Please wait...\n",
      "2025-09-22 14:37:23,357 - INFO - Processing: [/data/kb_766/EyeAI_working/deriva-ml/execution/5-51CA/asset/eye-ai/Fundus_Bounding_Box/Cropped_2-D6TT.svg]\n",
      "2025-09-22 14:37:23,357 - INFO - Computed metadata for: [/data/kb_766/EyeAI_working/deriva-ml/execution/5-51CA/asset/eye-ai/Fundus_Bounding_Box/Cropped_2-D6TT.svg].\n",
      "2025-09-22 14:37:23,358 - INFO - Computing checksums for file: [/data/kb_766/EyeAI_working/deriva-ml/execution/5-51CA/asset/eye-ai/Fundus_Bounding_Box/Cropped_2-D6TT.svg]. Please wait...\n",
      "2025-09-22 14:37:23,359 - INFO - Uploading file: [/data/kb_766/EyeAI_working/deriva-ml/execution/5-51CA/asset/eye-ai/Fundus_Bounding_Box/Cropped_2-D6TT.svg] to host https://www.eye-ai.org. Please wait...\n",
      "2025-09-22 14:37:23,448 - INFO - Processing: [/data/kb_766/EyeAI_working/deriva-ml/execution/5-51CA/asset/eye-ai/Fundus_Bounding_Box/Cropped_2-D6TY.svg]\n",
      "2025-09-22 14:37:23,449 - INFO - Computed metadata for: [/data/kb_766/EyeAI_working/deriva-ml/execution/5-51CA/asset/eye-ai/Fundus_Bounding_Box/Cropped_2-D6TY.svg].\n",
      "2025-09-22 14:37:23,450 - INFO - Computing checksums for file: [/data/kb_766/EyeAI_working/deriva-ml/execution/5-51CA/asset/eye-ai/Fundus_Bounding_Box/Cropped_2-D6TY.svg]. Please wait...\n",
      "2025-09-22 14:37:23,451 - INFO - Uploading file: [/data/kb_766/EyeAI_working/deriva-ml/execution/5-51CA/asset/eye-ai/Fundus_Bounding_Box/Cropped_2-D6TY.svg] to host https://www.eye-ai.org. Please wait...\n",
      "2025-09-22 14:37:23,533 - INFO - Processing: [/data/kb_766/EyeAI_working/deriva-ml/execution/5-51CA/asset/eye-ai/Fundus_Bounding_Box/Cropped_2-D6XA.svg]\n",
      "2025-09-22 14:37:23,533 - INFO - Computed metadata for: [/data/kb_766/EyeAI_working/deriva-ml/execution/5-51CA/asset/eye-ai/Fundus_Bounding_Box/Cropped_2-D6XA.svg].\n",
      "2025-09-22 14:37:23,534 - INFO - Computing checksums for file: [/data/kb_766/EyeAI_working/deriva-ml/execution/5-51CA/asset/eye-ai/Fundus_Bounding_Box/Cropped_2-D6XA.svg]. Please wait...\n",
      "2025-09-22 14:37:23,535 - INFO - Uploading file: [/data/kb_766/EyeAI_working/deriva-ml/execution/5-51CA/asset/eye-ai/Fundus_Bounding_Box/Cropped_2-D6XA.svg] to host https://www.eye-ai.org. Please wait...\n",
      "2025-09-22 14:37:23,619 - INFO - Processing: [/data/kb_766/EyeAI_working/deriva-ml/execution/5-51CA/asset/eye-ai/Fundus_Bounding_Box/Cropped_2-D6XE.svg]\n",
      "2025-09-22 14:37:23,619 - INFO - Computed metadata for: [/data/kb_766/EyeAI_working/deriva-ml/execution/5-51CA/asset/eye-ai/Fundus_Bounding_Box/Cropped_2-D6XE.svg].\n",
      "2025-09-22 14:37:23,620 - INFO - Computing checksums for file: [/data/kb_766/EyeAI_working/deriva-ml/execution/5-51CA/asset/eye-ai/Fundus_Bounding_Box/Cropped_2-D6XE.svg]. Please wait...\n",
      "2025-09-22 14:37:23,621 - INFO - Uploading file: [/data/kb_766/EyeAI_working/deriva-ml/execution/5-51CA/asset/eye-ai/Fundus_Bounding_Box/Cropped_2-D6XE.svg] to host https://www.eye-ai.org. Please wait...\n",
      "2025-09-22 14:37:23,701 - INFO - Processing: [/data/kb_766/EyeAI_working/deriva-ml/execution/5-51CA/asset/eye-ai/Fundus_Bounding_Box/Cropped_2-D6YG.svg]\n",
      "2025-09-22 14:37:23,702 - INFO - Computed metadata for: [/data/kb_766/EyeAI_working/deriva-ml/execution/5-51CA/asset/eye-ai/Fundus_Bounding_Box/Cropped_2-D6YG.svg].\n",
      "2025-09-22 14:37:23,703 - INFO - Computing checksums for file: [/data/kb_766/EyeAI_working/deriva-ml/execution/5-51CA/asset/eye-ai/Fundus_Bounding_Box/Cropped_2-D6YG.svg]. Please wait...\n",
      "2025-09-22 14:37:23,704 - INFO - Uploading file: [/data/kb_766/EyeAI_working/deriva-ml/execution/5-51CA/asset/eye-ai/Fundus_Bounding_Box/Cropped_2-D6YG.svg] to host https://www.eye-ai.org. Please wait...\n",
      "2025-09-22 14:37:23,786 - INFO - Processing: [/data/kb_766/EyeAI_working/deriva-ml/execution/5-51CA/asset/eye-ai/Fundus_Bounding_Box/Cropped_2-D6YJ.svg]\n",
      "2025-09-22 14:37:23,787 - INFO - Computed metadata for: [/data/kb_766/EyeAI_working/deriva-ml/execution/5-51CA/asset/eye-ai/Fundus_Bounding_Box/Cropped_2-D6YJ.svg].\n",
      "2025-09-22 14:37:23,787 - INFO - Computing checksums for file: [/data/kb_766/EyeAI_working/deriva-ml/execution/5-51CA/asset/eye-ai/Fundus_Bounding_Box/Cropped_2-D6YJ.svg]. Please wait...\n",
      "2025-09-22 14:37:23,788 - INFO - Uploading file: [/data/kb_766/EyeAI_working/deriva-ml/execution/5-51CA/asset/eye-ai/Fundus_Bounding_Box/Cropped_2-D6YJ.svg] to host https://www.eye-ai.org. Please wait...\n",
      "2025-09-22 14:37:23,870 - INFO - Processing: [/data/kb_766/EyeAI_working/deriva-ml/execution/5-51CA/asset/eye-ai/Fundus_Bounding_Box/Cropped_2-D714.svg]\n",
      "2025-09-22 14:37:23,871 - INFO - Computed metadata for: [/data/kb_766/EyeAI_working/deriva-ml/execution/5-51CA/asset/eye-ai/Fundus_Bounding_Box/Cropped_2-D714.svg].\n",
      "2025-09-22 14:37:23,871 - INFO - Computing checksums for file: [/data/kb_766/EyeAI_working/deriva-ml/execution/5-51CA/asset/eye-ai/Fundus_Bounding_Box/Cropped_2-D714.svg]. Please wait...\n",
      "2025-09-22 14:37:23,872 - INFO - Uploading file: [/data/kb_766/EyeAI_working/deriva-ml/execution/5-51CA/asset/eye-ai/Fundus_Bounding_Box/Cropped_2-D714.svg] to host https://www.eye-ai.org. Please wait...\n",
      "2025-09-22 14:37:23,957 - INFO - Processing: [/data/kb_766/EyeAI_working/deriva-ml/execution/5-51CA/asset/eye-ai/Fundus_Bounding_Box/Cropped_2-D722.svg]\n",
      "2025-09-22 14:37:23,958 - INFO - Computed metadata for: [/data/kb_766/EyeAI_working/deriva-ml/execution/5-51CA/asset/eye-ai/Fundus_Bounding_Box/Cropped_2-D722.svg].\n",
      "2025-09-22 14:37:23,959 - INFO - Computing checksums for file: [/data/kb_766/EyeAI_working/deriva-ml/execution/5-51CA/asset/eye-ai/Fundus_Bounding_Box/Cropped_2-D722.svg]. Please wait...\n",
      "2025-09-22 14:37:23,960 - INFO - Uploading file: [/data/kb_766/EyeAI_working/deriva-ml/execution/5-51CA/asset/eye-ai/Fundus_Bounding_Box/Cropped_2-D722.svg] to host https://www.eye-ai.org. Please wait...\n",
      "2025-09-22 14:37:24,051 - INFO - Processing: [/data/kb_766/EyeAI_working/deriva-ml/execution/5-51CA/asset/eye-ai/Fundus_Bounding_Box/Cropped_2-D724.svg]\n",
      "2025-09-22 14:37:24,052 - INFO - Computed metadata for: [/data/kb_766/EyeAI_working/deriva-ml/execution/5-51CA/asset/eye-ai/Fundus_Bounding_Box/Cropped_2-D724.svg].\n",
      "2025-09-22 14:37:24,052 - INFO - Computing checksums for file: [/data/kb_766/EyeAI_working/deriva-ml/execution/5-51CA/asset/eye-ai/Fundus_Bounding_Box/Cropped_2-D724.svg]. Please wait...\n",
      "2025-09-22 14:37:24,053 - INFO - Uploading file: [/data/kb_766/EyeAI_working/deriva-ml/execution/5-51CA/asset/eye-ai/Fundus_Bounding_Box/Cropped_2-D724.svg] to host https://www.eye-ai.org. Please wait...\n",
      "2025-09-22 14:37:24,144 - INFO - Processing: [/data/kb_766/EyeAI_working/deriva-ml/execution/5-51CA/asset/eye-ai/Fundus_Bounding_Box/Cropped_2-D732.svg]\n",
      "2025-09-22 14:37:24,145 - INFO - Computed metadata for: [/data/kb_766/EyeAI_working/deriva-ml/execution/5-51CA/asset/eye-ai/Fundus_Bounding_Box/Cropped_2-D732.svg].\n",
      "2025-09-22 14:37:24,145 - INFO - Computing checksums for file: [/data/kb_766/EyeAI_working/deriva-ml/execution/5-51CA/asset/eye-ai/Fundus_Bounding_Box/Cropped_2-D732.svg]. Please wait...\n",
      "2025-09-22 14:37:24,146 - INFO - Uploading file: [/data/kb_766/EyeAI_working/deriva-ml/execution/5-51CA/asset/eye-ai/Fundus_Bounding_Box/Cropped_2-D732.svg] to host https://www.eye-ai.org. Please wait...\n",
      "2025-09-22 14:37:24,227 - INFO - Processing: [/data/kb_766/EyeAI_working/deriva-ml/execution/5-51CA/asset/eye-ai/Fundus_Bounding_Box/Cropped_2-D736.svg]\n",
      "2025-09-22 14:37:24,227 - INFO - Computed metadata for: [/data/kb_766/EyeAI_working/deriva-ml/execution/5-51CA/asset/eye-ai/Fundus_Bounding_Box/Cropped_2-D736.svg].\n",
      "2025-09-22 14:37:24,228 - INFO - Computing checksums for file: [/data/kb_766/EyeAI_working/deriva-ml/execution/5-51CA/asset/eye-ai/Fundus_Bounding_Box/Cropped_2-D736.svg]. Please wait...\n",
      "2025-09-22 14:37:24,229 - INFO - Uploading file: [/data/kb_766/EyeAI_working/deriva-ml/execution/5-51CA/asset/eye-ai/Fundus_Bounding_Box/Cropped_2-D736.svg] to host https://www.eye-ai.org. Please wait...\n",
      "2025-09-22 14:37:24,313 - INFO - Processing: [/data/kb_766/EyeAI_working/deriva-ml/execution/5-51CA/asset/eye-ai/Fundus_Bounding_Box/Cropped_2-D7M0.svg]\n",
      "2025-09-22 14:37:24,314 - INFO - Computed metadata for: [/data/kb_766/EyeAI_working/deriva-ml/execution/5-51CA/asset/eye-ai/Fundus_Bounding_Box/Cropped_2-D7M0.svg].\n",
      "2025-09-22 14:37:24,315 - INFO - Computing checksums for file: [/data/kb_766/EyeAI_working/deriva-ml/execution/5-51CA/asset/eye-ai/Fundus_Bounding_Box/Cropped_2-D7M0.svg]. Please wait...\n",
      "2025-09-22 14:37:24,316 - INFO - Uploading file: [/data/kb_766/EyeAI_working/deriva-ml/execution/5-51CA/asset/eye-ai/Fundus_Bounding_Box/Cropped_2-D7M0.svg] to host https://www.eye-ai.org. Please wait...\n",
      "2025-09-22 14:37:24,397 - INFO - Processing: [/data/kb_766/EyeAI_working/deriva-ml/execution/5-51CA/asset/eye-ai/Fundus_Bounding_Box/Cropped_2-D7M6.svg]\n",
      "2025-09-22 14:37:24,398 - INFO - Computed metadata for: [/data/kb_766/EyeAI_working/deriva-ml/execution/5-51CA/asset/eye-ai/Fundus_Bounding_Box/Cropped_2-D7M6.svg].\n",
      "2025-09-22 14:37:24,398 - INFO - Computing checksums for file: [/data/kb_766/EyeAI_working/deriva-ml/execution/5-51CA/asset/eye-ai/Fundus_Bounding_Box/Cropped_2-D7M6.svg]. Please wait...\n",
      "2025-09-22 14:37:24,399 - INFO - Uploading file: [/data/kb_766/EyeAI_working/deriva-ml/execution/5-51CA/asset/eye-ai/Fundus_Bounding_Box/Cropped_2-D7M6.svg] to host https://www.eye-ai.org. Please wait...\n",
      "2025-09-22 14:37:24,485 - INFO - Processing: [/data/kb_766/EyeAI_working/deriva-ml/execution/5-51CA/asset/eye-ai/Fundus_Bounding_Box/Cropped_2-D7MC.svg]\n",
      "2025-09-22 14:37:24,486 - INFO - Computed metadata for: [/data/kb_766/EyeAI_working/deriva-ml/execution/5-51CA/asset/eye-ai/Fundus_Bounding_Box/Cropped_2-D7MC.svg].\n",
      "2025-09-22 14:37:24,486 - INFO - Computing checksums for file: [/data/kb_766/EyeAI_working/deriva-ml/execution/5-51CA/asset/eye-ai/Fundus_Bounding_Box/Cropped_2-D7MC.svg]. Please wait...\n",
      "2025-09-22 14:37:24,487 - INFO - Uploading file: [/data/kb_766/EyeAI_working/deriva-ml/execution/5-51CA/asset/eye-ai/Fundus_Bounding_Box/Cropped_2-D7MC.svg] to host https://www.eye-ai.org. Please wait...\n",
      "2025-09-22 14:37:24,569 - INFO - Processing: [/data/kb_766/EyeAI_working/deriva-ml/execution/5-51CA/asset/eye-ai/Fundus_Bounding_Box/Cropped_2-D7MJ.svg]\n",
      "2025-09-22 14:37:24,570 - INFO - Computed metadata for: [/data/kb_766/EyeAI_working/deriva-ml/execution/5-51CA/asset/eye-ai/Fundus_Bounding_Box/Cropped_2-D7MJ.svg].\n",
      "2025-09-22 14:37:24,570 - INFO - Computing checksums for file: [/data/kb_766/EyeAI_working/deriva-ml/execution/5-51CA/asset/eye-ai/Fundus_Bounding_Box/Cropped_2-D7MJ.svg]. Please wait...\n",
      "2025-09-22 14:37:24,571 - INFO - Uploading file: [/data/kb_766/EyeAI_working/deriva-ml/execution/5-51CA/asset/eye-ai/Fundus_Bounding_Box/Cropped_2-D7MJ.svg] to host https://www.eye-ai.org. Please wait...\n",
      "2025-09-22 14:37:24,650 - INFO - Processing: [/data/kb_766/EyeAI_working/deriva-ml/execution/5-51CA/asset/eye-ai/Fundus_Bounding_Box/Cropped_2-D7PC.svg]\n",
      "2025-09-22 14:37:24,651 - INFO - Computed metadata for: [/data/kb_766/EyeAI_working/deriva-ml/execution/5-51CA/asset/eye-ai/Fundus_Bounding_Box/Cropped_2-D7PC.svg].\n",
      "2025-09-22 14:37:24,651 - INFO - Computing checksums for file: [/data/kb_766/EyeAI_working/deriva-ml/execution/5-51CA/asset/eye-ai/Fundus_Bounding_Box/Cropped_2-D7PC.svg]. Please wait...\n",
      "2025-09-22 14:37:24,652 - INFO - Uploading file: [/data/kb_766/EyeAI_working/deriva-ml/execution/5-51CA/asset/eye-ai/Fundus_Bounding_Box/Cropped_2-D7PC.svg] to host https://www.eye-ai.org. Please wait...\n",
      "2025-09-22 14:37:24,741 - INFO - Processing: [/data/kb_766/EyeAI_working/deriva-ml/execution/5-51CA/asset/eye-ai/Fundus_Bounding_Box/Cropped_2-D7PJ.svg]\n",
      "2025-09-22 14:37:24,742 - INFO - Computed metadata for: [/data/kb_766/EyeAI_working/deriva-ml/execution/5-51CA/asset/eye-ai/Fundus_Bounding_Box/Cropped_2-D7PJ.svg].\n",
      "2025-09-22 14:37:24,742 - INFO - Computing checksums for file: [/data/kb_766/EyeAI_working/deriva-ml/execution/5-51CA/asset/eye-ai/Fundus_Bounding_Box/Cropped_2-D7PJ.svg]. Please wait...\n",
      "2025-09-22 14:37:24,744 - INFO - Uploading file: [/data/kb_766/EyeAI_working/deriva-ml/execution/5-51CA/asset/eye-ai/Fundus_Bounding_Box/Cropped_2-D7PJ.svg] to host https://www.eye-ai.org. Please wait...\n",
      "2025-09-22 14:37:24,822 - INFO - Processing: [/data/kb_766/EyeAI_working/deriva-ml/execution/5-51CA/asset/eye-ai/Fundus_Bounding_Box/Cropped_2-D7PP.svg]\n",
      "2025-09-22 14:37:24,822 - INFO - Computed metadata for: [/data/kb_766/EyeAI_working/deriva-ml/execution/5-51CA/asset/eye-ai/Fundus_Bounding_Box/Cropped_2-D7PP.svg].\n",
      "2025-09-22 14:37:24,823 - INFO - Computing checksums for file: [/data/kb_766/EyeAI_working/deriva-ml/execution/5-51CA/asset/eye-ai/Fundus_Bounding_Box/Cropped_2-D7PP.svg]. Please wait...\n",
      "2025-09-22 14:37:24,824 - INFO - Uploading file: [/data/kb_766/EyeAI_working/deriva-ml/execution/5-51CA/asset/eye-ai/Fundus_Bounding_Box/Cropped_2-D7PP.svg] to host https://www.eye-ai.org. Please wait...\n",
      "2025-09-22 14:37:24,908 - INFO - Processing: [/data/kb_766/EyeAI_working/deriva-ml/execution/5-51CA/asset/eye-ai/Fundus_Bounding_Box/Cropped_2-D7PT.svg]\n",
      "2025-09-22 14:37:24,908 - INFO - Computed metadata for: [/data/kb_766/EyeAI_working/deriva-ml/execution/5-51CA/asset/eye-ai/Fundus_Bounding_Box/Cropped_2-D7PT.svg].\n",
      "2025-09-22 14:37:24,909 - INFO - Computing checksums for file: [/data/kb_766/EyeAI_working/deriva-ml/execution/5-51CA/asset/eye-ai/Fundus_Bounding_Box/Cropped_2-D7PT.svg]. Please wait...\n",
      "2025-09-22 14:37:24,910 - INFO - Uploading file: [/data/kb_766/EyeAI_working/deriva-ml/execution/5-51CA/asset/eye-ai/Fundus_Bounding_Box/Cropped_2-D7PT.svg] to host https://www.eye-ai.org. Please wait...\n",
      "2025-09-22 14:37:24,987 - INFO - Processing: [/data/kb_766/EyeAI_working/deriva-ml/execution/5-51CA/asset/eye-ai/Fundus_Bounding_Box/Cropped_2-D7PY.svg]\n",
      "2025-09-22 14:37:24,987 - INFO - Computed metadata for: [/data/kb_766/EyeAI_working/deriva-ml/execution/5-51CA/asset/eye-ai/Fundus_Bounding_Box/Cropped_2-D7PY.svg].\n",
      "2025-09-22 14:37:24,988 - INFO - Computing checksums for file: [/data/kb_766/EyeAI_working/deriva-ml/execution/5-51CA/asset/eye-ai/Fundus_Bounding_Box/Cropped_2-D7PY.svg]. Please wait...\n",
      "2025-09-22 14:37:24,989 - INFO - Uploading file: [/data/kb_766/EyeAI_working/deriva-ml/execution/5-51CA/asset/eye-ai/Fundus_Bounding_Box/Cropped_2-D7PY.svg] to host https://www.eye-ai.org. Please wait...\n",
      "2025-09-22 14:37:25,073 - INFO - Processing: [/data/kb_766/EyeAI_working/deriva-ml/execution/5-51CA/asset/eye-ai/Fundus_Bounding_Box/Cropped_2-D7T0.svg]\n",
      "2025-09-22 14:37:25,074 - INFO - Computed metadata for: [/data/kb_766/EyeAI_working/deriva-ml/execution/5-51CA/asset/eye-ai/Fundus_Bounding_Box/Cropped_2-D7T0.svg].\n",
      "2025-09-22 14:37:25,075 - INFO - Computing checksums for file: [/data/kb_766/EyeAI_working/deriva-ml/execution/5-51CA/asset/eye-ai/Fundus_Bounding_Box/Cropped_2-D7T0.svg]. Please wait...\n",
      "2025-09-22 14:37:25,076 - INFO - Uploading file: [/data/kb_766/EyeAI_working/deriva-ml/execution/5-51CA/asset/eye-ai/Fundus_Bounding_Box/Cropped_2-D7T0.svg] to host https://www.eye-ai.org. Please wait...\n",
      "2025-09-22 14:37:25,207 - INFO - Processing: [/data/kb_766/EyeAI_working/deriva-ml/execution/5-51CA/asset/eye-ai/Fundus_Bounding_Box/Cropped_2-D7T2.svg]\n",
      "2025-09-22 14:37:25,208 - INFO - Computed metadata for: [/data/kb_766/EyeAI_working/deriva-ml/execution/5-51CA/asset/eye-ai/Fundus_Bounding_Box/Cropped_2-D7T2.svg].\n",
      "2025-09-22 14:37:25,208 - INFO - Computing checksums for file: [/data/kb_766/EyeAI_working/deriva-ml/execution/5-51CA/asset/eye-ai/Fundus_Bounding_Box/Cropped_2-D7T2.svg]. Please wait...\n",
      "2025-09-22 14:37:25,209 - INFO - Uploading file: [/data/kb_766/EyeAI_working/deriva-ml/execution/5-51CA/asset/eye-ai/Fundus_Bounding_Box/Cropped_2-D7T2.svg] to host https://www.eye-ai.org. Please wait...\n",
      "2025-09-22 14:37:25,331 - INFO - Processing: [/data/kb_766/EyeAI_working/deriva-ml/execution/5-51CA/asset/eye-ai/Fundus_Bounding_Box/Cropped_2-D7V0.svg]\n",
      "2025-09-22 14:37:25,332 - INFO - Computed metadata for: [/data/kb_766/EyeAI_working/deriva-ml/execution/5-51CA/asset/eye-ai/Fundus_Bounding_Box/Cropped_2-D7V0.svg].\n",
      "2025-09-22 14:37:25,332 - INFO - Computing checksums for file: [/data/kb_766/EyeAI_working/deriva-ml/execution/5-51CA/asset/eye-ai/Fundus_Bounding_Box/Cropped_2-D7V0.svg]. Please wait...\n",
      "2025-09-22 14:37:25,334 - INFO - Uploading file: [/data/kb_766/EyeAI_working/deriva-ml/execution/5-51CA/asset/eye-ai/Fundus_Bounding_Box/Cropped_2-D7V0.svg] to host https://www.eye-ai.org. Please wait...\n",
      "2025-09-22 14:37:25,411 - INFO - Processing: [/data/kb_766/EyeAI_working/deriva-ml/execution/5-51CA/asset/eye-ai/Fundus_Bounding_Box/Cropped_2-D7V8.svg]\n",
      "2025-09-22 14:37:25,412 - INFO - Computed metadata for: [/data/kb_766/EyeAI_working/deriva-ml/execution/5-51CA/asset/eye-ai/Fundus_Bounding_Box/Cropped_2-D7V8.svg].\n",
      "2025-09-22 14:37:25,412 - INFO - Computing checksums for file: [/data/kb_766/EyeAI_working/deriva-ml/execution/5-51CA/asset/eye-ai/Fundus_Bounding_Box/Cropped_2-D7V8.svg]. Please wait...\n",
      "2025-09-22 14:37:25,414 - INFO - Uploading file: [/data/kb_766/EyeAI_working/deriva-ml/execution/5-51CA/asset/eye-ai/Fundus_Bounding_Box/Cropped_2-D7V8.svg] to host https://www.eye-ai.org. Please wait...\n",
      "2025-09-22 14:37:25,490 - INFO - Processing: [/data/kb_766/EyeAI_working/deriva-ml/execution/5-51CA/asset/eye-ai/Fundus_Bounding_Box/Cropped_2-D7XA.svg]\n",
      "2025-09-22 14:37:25,490 - INFO - Computed metadata for: [/data/kb_766/EyeAI_working/deriva-ml/execution/5-51CA/asset/eye-ai/Fundus_Bounding_Box/Cropped_2-D7XA.svg].\n",
      "2025-09-22 14:37:25,491 - INFO - Computing checksums for file: [/data/kb_766/EyeAI_working/deriva-ml/execution/5-51CA/asset/eye-ai/Fundus_Bounding_Box/Cropped_2-D7XA.svg]. Please wait...\n",
      "2025-09-22 14:37:25,492 - INFO - Uploading file: [/data/kb_766/EyeAI_working/deriva-ml/execution/5-51CA/asset/eye-ai/Fundus_Bounding_Box/Cropped_2-D7XA.svg] to host https://www.eye-ai.org. Please wait...\n",
      "2025-09-22 14:37:25,570 - INFO - Processing: [/data/kb_766/EyeAI_working/deriva-ml/execution/5-51CA/asset/eye-ai/Fundus_Bounding_Box/Cropped_2-D7XC.svg]\n",
      "2025-09-22 14:37:25,570 - INFO - Computed metadata for: [/data/kb_766/EyeAI_working/deriva-ml/execution/5-51CA/asset/eye-ai/Fundus_Bounding_Box/Cropped_2-D7XC.svg].\n",
      "2025-09-22 14:37:25,571 - INFO - Computing checksums for file: [/data/kb_766/EyeAI_working/deriva-ml/execution/5-51CA/asset/eye-ai/Fundus_Bounding_Box/Cropped_2-D7XC.svg]. Please wait...\n",
      "2025-09-22 14:37:25,573 - INFO - Uploading file: [/data/kb_766/EyeAI_working/deriva-ml/execution/5-51CA/asset/eye-ai/Fundus_Bounding_Box/Cropped_2-D7XC.svg] to host https://www.eye-ai.org. Please wait...\n",
      "2025-09-22 14:37:25,651 - INFO - Processing: [/data/kb_766/EyeAI_working/deriva-ml/execution/5-51CA/asset/eye-ai/Fundus_Bounding_Box/Cropped_2-D7YT.svg]\n",
      "2025-09-22 14:37:25,652 - INFO - Computed metadata for: [/data/kb_766/EyeAI_working/deriva-ml/execution/5-51CA/asset/eye-ai/Fundus_Bounding_Box/Cropped_2-D7YT.svg].\n",
      "2025-09-22 14:37:25,652 - INFO - Computing checksums for file: [/data/kb_766/EyeAI_working/deriva-ml/execution/5-51CA/asset/eye-ai/Fundus_Bounding_Box/Cropped_2-D7YT.svg]. Please wait...\n",
      "2025-09-22 14:37:25,653 - INFO - Uploading file: [/data/kb_766/EyeAI_working/deriva-ml/execution/5-51CA/asset/eye-ai/Fundus_Bounding_Box/Cropped_2-D7YT.svg] to host https://www.eye-ai.org. Please wait...\n",
      "2025-09-22 14:37:25,734 - INFO - Processing: [/data/kb_766/EyeAI_working/deriva-ml/execution/5-51CA/asset/eye-ai/Fundus_Bounding_Box/Cropped_2-D7Z0.svg]\n",
      "2025-09-22 14:37:25,735 - INFO - Computed metadata for: [/data/kb_766/EyeAI_working/deriva-ml/execution/5-51CA/asset/eye-ai/Fundus_Bounding_Box/Cropped_2-D7Z0.svg].\n",
      "2025-09-22 14:37:25,736 - INFO - Computing checksums for file: [/data/kb_766/EyeAI_working/deriva-ml/execution/5-51CA/asset/eye-ai/Fundus_Bounding_Box/Cropped_2-D7Z0.svg]. Please wait...\n",
      "2025-09-22 14:37:25,737 - INFO - Uploading file: [/data/kb_766/EyeAI_working/deriva-ml/execution/5-51CA/asset/eye-ai/Fundus_Bounding_Box/Cropped_2-D7Z0.svg] to host https://www.eye-ai.org. Please wait...\n",
      "2025-09-22 14:37:25,817 - INFO - Processing: [/data/kb_766/EyeAI_working/deriva-ml/execution/5-51CA/asset/eye-ai/Fundus_Bounding_Box/Cropped_2-D7Z4.svg]\n",
      "2025-09-22 14:37:25,818 - INFO - Computed metadata for: [/data/kb_766/EyeAI_working/deriva-ml/execution/5-51CA/asset/eye-ai/Fundus_Bounding_Box/Cropped_2-D7Z4.svg].\n",
      "2025-09-22 14:37:25,818 - INFO - Computing checksums for file: [/data/kb_766/EyeAI_working/deriva-ml/execution/5-51CA/asset/eye-ai/Fundus_Bounding_Box/Cropped_2-D7Z4.svg]. Please wait...\n",
      "2025-09-22 14:37:25,819 - INFO - Uploading file: [/data/kb_766/EyeAI_working/deriva-ml/execution/5-51CA/asset/eye-ai/Fundus_Bounding_Box/Cropped_2-D7Z4.svg] to host https://www.eye-ai.org. Please wait...\n",
      "2025-09-22 14:37:25,900 - INFO - Processing: [/data/kb_766/EyeAI_working/deriva-ml/execution/5-51CA/asset/eye-ai/Fundus_Bounding_Box/Cropped_2-D7ZA.svg]\n",
      "2025-09-22 14:37:25,901 - INFO - Computed metadata for: [/data/kb_766/EyeAI_working/deriva-ml/execution/5-51CA/asset/eye-ai/Fundus_Bounding_Box/Cropped_2-D7ZA.svg].\n",
      "2025-09-22 14:37:25,901 - INFO - Computing checksums for file: [/data/kb_766/EyeAI_working/deriva-ml/execution/5-51CA/asset/eye-ai/Fundus_Bounding_Box/Cropped_2-D7ZA.svg]. Please wait...\n",
      "2025-09-22 14:37:25,902 - INFO - Uploading file: [/data/kb_766/EyeAI_working/deriva-ml/execution/5-51CA/asset/eye-ai/Fundus_Bounding_Box/Cropped_2-D7ZA.svg] to host https://www.eye-ai.org. Please wait...\n",
      "2025-09-22 14:37:25,985 - INFO - Processing: [/data/kb_766/EyeAI_working/deriva-ml/execution/5-51CA/asset/eye-ai/Fundus_Bounding_Box/Cropped_2-D8CC.svg]\n",
      "2025-09-22 14:37:25,985 - INFO - Computed metadata for: [/data/kb_766/EyeAI_working/deriva-ml/execution/5-51CA/asset/eye-ai/Fundus_Bounding_Box/Cropped_2-D8CC.svg].\n",
      "2025-09-22 14:37:25,986 - INFO - Computing checksums for file: [/data/kb_766/EyeAI_working/deriva-ml/execution/5-51CA/asset/eye-ai/Fundus_Bounding_Box/Cropped_2-D8CC.svg]. Please wait...\n",
      "2025-09-22 14:37:25,987 - INFO - Uploading file: [/data/kb_766/EyeAI_working/deriva-ml/execution/5-51CA/asset/eye-ai/Fundus_Bounding_Box/Cropped_2-D8CC.svg] to host https://www.eye-ai.org. Please wait...\n",
      "2025-09-22 14:37:26,067 - INFO - Processing: [/data/kb_766/EyeAI_working/deriva-ml/execution/5-51CA/asset/eye-ai/Fundus_Bounding_Box/Cropped_2-D8CM.svg]\n",
      "2025-09-22 14:37:26,068 - INFO - Computed metadata for: [/data/kb_766/EyeAI_working/deriva-ml/execution/5-51CA/asset/eye-ai/Fundus_Bounding_Box/Cropped_2-D8CM.svg].\n",
      "2025-09-22 14:37:26,068 - INFO - Computing checksums for file: [/data/kb_766/EyeAI_working/deriva-ml/execution/5-51CA/asset/eye-ai/Fundus_Bounding_Box/Cropped_2-D8CM.svg]. Please wait...\n",
      "2025-09-22 14:37:26,069 - INFO - Uploading file: [/data/kb_766/EyeAI_working/deriva-ml/execution/5-51CA/asset/eye-ai/Fundus_Bounding_Box/Cropped_2-D8CM.svg] to host https://www.eye-ai.org. Please wait...\n",
      "2025-09-22 14:37:26,151 - INFO - Processing: [/data/kb_766/EyeAI_working/deriva-ml/execution/5-51CA/asset/eye-ai/Fundus_Bounding_Box/Cropped_2-D8DM.svg]\n",
      "2025-09-22 14:37:26,152 - INFO - Computed metadata for: [/data/kb_766/EyeAI_working/deriva-ml/execution/5-51CA/asset/eye-ai/Fundus_Bounding_Box/Cropped_2-D8DM.svg].\n",
      "2025-09-22 14:37:26,153 - INFO - Computing checksums for file: [/data/kb_766/EyeAI_working/deriva-ml/execution/5-51CA/asset/eye-ai/Fundus_Bounding_Box/Cropped_2-D8DM.svg]. Please wait...\n",
      "2025-09-22 14:37:26,154 - INFO - Uploading file: [/data/kb_766/EyeAI_working/deriva-ml/execution/5-51CA/asset/eye-ai/Fundus_Bounding_Box/Cropped_2-D8DM.svg] to host https://www.eye-ai.org. Please wait...\n",
      "2025-09-22 14:37:26,238 - INFO - Processing: [/data/kb_766/EyeAI_working/deriva-ml/execution/5-51CA/asset/eye-ai/Fundus_Bounding_Box/Cropped_2-D8DP.svg]\n",
      "2025-09-22 14:37:26,238 - INFO - Computed metadata for: [/data/kb_766/EyeAI_working/deriva-ml/execution/5-51CA/asset/eye-ai/Fundus_Bounding_Box/Cropped_2-D8DP.svg].\n",
      "2025-09-22 14:37:26,239 - INFO - Computing checksums for file: [/data/kb_766/EyeAI_working/deriva-ml/execution/5-51CA/asset/eye-ai/Fundus_Bounding_Box/Cropped_2-D8DP.svg]. Please wait...\n",
      "2025-09-22 14:37:26,240 - INFO - Uploading file: [/data/kb_766/EyeAI_working/deriva-ml/execution/5-51CA/asset/eye-ai/Fundus_Bounding_Box/Cropped_2-D8DP.svg] to host https://www.eye-ai.org. Please wait...\n",
      "2025-09-22 14:37:26,327 - INFO - Processing: [/data/kb_766/EyeAI_working/deriva-ml/execution/5-51CA/asset/eye-ai/Fundus_Bounding_Box/Cropped_2-D8F0.svg]\n",
      "2025-09-22 14:37:26,328 - INFO - Computed metadata for: [/data/kb_766/EyeAI_working/deriva-ml/execution/5-51CA/asset/eye-ai/Fundus_Bounding_Box/Cropped_2-D8F0.svg].\n",
      "2025-09-22 14:37:26,329 - INFO - Computing checksums for file: [/data/kb_766/EyeAI_working/deriva-ml/execution/5-51CA/asset/eye-ai/Fundus_Bounding_Box/Cropped_2-D8F0.svg]. Please wait...\n",
      "2025-09-22 14:37:26,329 - INFO - Uploading file: [/data/kb_766/EyeAI_working/deriva-ml/execution/5-51CA/asset/eye-ai/Fundus_Bounding_Box/Cropped_2-D8F0.svg] to host https://www.eye-ai.org. Please wait...\n",
      "2025-09-22 14:37:26,411 - INFO - Processing: [/data/kb_766/EyeAI_working/deriva-ml/execution/5-51CA/asset/eye-ai/Fundus_Bounding_Box/Cropped_2-D8F8.svg]\n",
      "2025-09-22 14:37:26,412 - INFO - Computed metadata for: [/data/kb_766/EyeAI_working/deriva-ml/execution/5-51CA/asset/eye-ai/Fundus_Bounding_Box/Cropped_2-D8F8.svg].\n",
      "2025-09-22 14:37:26,412 - INFO - Computing checksums for file: [/data/kb_766/EyeAI_working/deriva-ml/execution/5-51CA/asset/eye-ai/Fundus_Bounding_Box/Cropped_2-D8F8.svg]. Please wait...\n",
      "2025-09-22 14:37:26,414 - INFO - Uploading file: [/data/kb_766/EyeAI_working/deriva-ml/execution/5-51CA/asset/eye-ai/Fundus_Bounding_Box/Cropped_2-D8F8.svg] to host https://www.eye-ai.org. Please wait...\n",
      "2025-09-22 14:37:26,500 - INFO - Processing: [/data/kb_766/EyeAI_working/deriva-ml/execution/5-51CA/asset/eye-ai/Fundus_Bounding_Box/Cropped_2-D8FE.svg]\n",
      "2025-09-22 14:37:26,501 - INFO - Computed metadata for: [/data/kb_766/EyeAI_working/deriva-ml/execution/5-51CA/asset/eye-ai/Fundus_Bounding_Box/Cropped_2-D8FE.svg].\n",
      "2025-09-22 14:37:26,501 - INFO - Computing checksums for file: [/data/kb_766/EyeAI_working/deriva-ml/execution/5-51CA/asset/eye-ai/Fundus_Bounding_Box/Cropped_2-D8FE.svg]. Please wait...\n",
      "2025-09-22 14:37:26,503 - INFO - Uploading file: [/data/kb_766/EyeAI_working/deriva-ml/execution/5-51CA/asset/eye-ai/Fundus_Bounding_Box/Cropped_2-D8FE.svg] to host https://www.eye-ai.org. Please wait...\n",
      "2025-09-22 14:37:26,599 - INFO - Processing: [/data/kb_766/EyeAI_working/deriva-ml/execution/5-51CA/asset/eye-ai/Fundus_Bounding_Box/Cropped_2-D8FG.svg]\n",
      "2025-09-22 14:37:26,600 - INFO - Computed metadata for: [/data/kb_766/EyeAI_working/deriva-ml/execution/5-51CA/asset/eye-ai/Fundus_Bounding_Box/Cropped_2-D8FG.svg].\n",
      "2025-09-22 14:37:26,600 - INFO - Computing checksums for file: [/data/kb_766/EyeAI_working/deriva-ml/execution/5-51CA/asset/eye-ai/Fundus_Bounding_Box/Cropped_2-D8FG.svg]. Please wait...\n",
      "2025-09-22 14:37:26,602 - INFO - Uploading file: [/data/kb_766/EyeAI_working/deriva-ml/execution/5-51CA/asset/eye-ai/Fundus_Bounding_Box/Cropped_2-D8FG.svg] to host https://www.eye-ai.org. Please wait...\n",
      "2025-09-22 14:37:26,684 - INFO - Processing: [/data/kb_766/EyeAI_working/deriva-ml/execution/5-51CA/asset/eye-ai/Fundus_Bounding_Box/Cropped_2-D8JC.svg]\n",
      "2025-09-22 14:37:26,685 - INFO - Computed metadata for: [/data/kb_766/EyeAI_working/deriva-ml/execution/5-51CA/asset/eye-ai/Fundus_Bounding_Box/Cropped_2-D8JC.svg].\n",
      "2025-09-22 14:37:26,686 - INFO - Computing checksums for file: [/data/kb_766/EyeAI_working/deriva-ml/execution/5-51CA/asset/eye-ai/Fundus_Bounding_Box/Cropped_2-D8JC.svg]. Please wait...\n",
      "2025-09-22 14:37:26,687 - INFO - Uploading file: [/data/kb_766/EyeAI_working/deriva-ml/execution/5-51CA/asset/eye-ai/Fundus_Bounding_Box/Cropped_2-D8JC.svg] to host https://www.eye-ai.org. Please wait...\n",
      "2025-09-22 14:37:26,765 - INFO - Processing: [/data/kb_766/EyeAI_working/deriva-ml/execution/5-51CA/asset/eye-ai/Fundus_Bounding_Box/Cropped_2-D8JE.svg]\n",
      "2025-09-22 14:37:26,766 - INFO - Computed metadata for: [/data/kb_766/EyeAI_working/deriva-ml/execution/5-51CA/asset/eye-ai/Fundus_Bounding_Box/Cropped_2-D8JE.svg].\n",
      "2025-09-22 14:37:26,767 - INFO - Computing checksums for file: [/data/kb_766/EyeAI_working/deriva-ml/execution/5-51CA/asset/eye-ai/Fundus_Bounding_Box/Cropped_2-D8JE.svg]. Please wait...\n",
      "2025-09-22 14:37:26,768 - INFO - Uploading file: [/data/kb_766/EyeAI_working/deriva-ml/execution/5-51CA/asset/eye-ai/Fundus_Bounding_Box/Cropped_2-D8JE.svg] to host https://www.eye-ai.org. Please wait...\n",
      "2025-09-22 14:37:26,852 - INFO - Processing: [/data/kb_766/EyeAI_working/deriva-ml/execution/5-51CA/asset/eye-ai/Fundus_Bounding_Box/Cropped_2-D8K8.svg]\n",
      "2025-09-22 14:37:26,853 - INFO - Computed metadata for: [/data/kb_766/EyeAI_working/deriva-ml/execution/5-51CA/asset/eye-ai/Fundus_Bounding_Box/Cropped_2-D8K8.svg].\n",
      "2025-09-22 14:37:26,853 - INFO - Computing checksums for file: [/data/kb_766/EyeAI_working/deriva-ml/execution/5-51CA/asset/eye-ai/Fundus_Bounding_Box/Cropped_2-D8K8.svg]. Please wait...\n",
      "2025-09-22 14:37:26,854 - INFO - Uploading file: [/data/kb_766/EyeAI_working/deriva-ml/execution/5-51CA/asset/eye-ai/Fundus_Bounding_Box/Cropped_2-D8K8.svg] to host https://www.eye-ai.org. Please wait...\n",
      "2025-09-22 14:37:26,956 - INFO - Processing: [/data/kb_766/EyeAI_working/deriva-ml/execution/5-51CA/asset/eye-ai/Fundus_Bounding_Box/Cropped_2-D8KC.svg]\n",
      "2025-09-22 14:37:26,957 - INFO - Computed metadata for: [/data/kb_766/EyeAI_working/deriva-ml/execution/5-51CA/asset/eye-ai/Fundus_Bounding_Box/Cropped_2-D8KC.svg].\n",
      "2025-09-22 14:37:26,957 - INFO - Computing checksums for file: [/data/kb_766/EyeAI_working/deriva-ml/execution/5-51CA/asset/eye-ai/Fundus_Bounding_Box/Cropped_2-D8KC.svg]. Please wait...\n",
      "2025-09-22 14:37:26,958 - INFO - Uploading file: [/data/kb_766/EyeAI_working/deriva-ml/execution/5-51CA/asset/eye-ai/Fundus_Bounding_Box/Cropped_2-D8KC.svg] to host https://www.eye-ai.org. Please wait...\n",
      "2025-09-22 14:37:27,036 - INFO - Processing: [/data/kb_766/EyeAI_working/deriva-ml/execution/5-51CA/asset/eye-ai/Fundus_Bounding_Box/Cropped_2-D8QY.svg]\n",
      "2025-09-22 14:37:27,037 - INFO - Computed metadata for: [/data/kb_766/EyeAI_working/deriva-ml/execution/5-51CA/asset/eye-ai/Fundus_Bounding_Box/Cropped_2-D8QY.svg].\n",
      "2025-09-22 14:37:27,037 - INFO - Computing checksums for file: [/data/kb_766/EyeAI_working/deriva-ml/execution/5-51CA/asset/eye-ai/Fundus_Bounding_Box/Cropped_2-D8QY.svg]. Please wait...\n",
      "2025-09-22 14:37:27,038 - INFO - Uploading file: [/data/kb_766/EyeAI_working/deriva-ml/execution/5-51CA/asset/eye-ai/Fundus_Bounding_Box/Cropped_2-D8QY.svg] to host https://www.eye-ai.org. Please wait...\n",
      "2025-09-22 14:37:27,124 - INFO - Processing: [/data/kb_766/EyeAI_working/deriva-ml/execution/5-51CA/asset/eye-ai/Fundus_Bounding_Box/Cropped_2-D8R2.svg]\n",
      "2025-09-22 14:37:27,124 - INFO - Computed metadata for: [/data/kb_766/EyeAI_working/deriva-ml/execution/5-51CA/asset/eye-ai/Fundus_Bounding_Box/Cropped_2-D8R2.svg].\n",
      "2025-09-22 14:37:27,125 - INFO - Computing checksums for file: [/data/kb_766/EyeAI_working/deriva-ml/execution/5-51CA/asset/eye-ai/Fundus_Bounding_Box/Cropped_2-D8R2.svg]. Please wait...\n",
      "2025-09-22 14:37:27,126 - INFO - Uploading file: [/data/kb_766/EyeAI_working/deriva-ml/execution/5-51CA/asset/eye-ai/Fundus_Bounding_Box/Cropped_2-D8R2.svg] to host https://www.eye-ai.org. Please wait...\n",
      "2025-09-22 14:37:27,210 - INFO - Processing: [/data/kb_766/EyeAI_working/deriva-ml/execution/5-51CA/asset/eye-ai/Fundus_Bounding_Box/Cropped_2-D8S4.svg]\n",
      "2025-09-22 14:37:27,210 - INFO - Computed metadata for: [/data/kb_766/EyeAI_working/deriva-ml/execution/5-51CA/asset/eye-ai/Fundus_Bounding_Box/Cropped_2-D8S4.svg].\n",
      "2025-09-22 14:37:27,211 - INFO - Computing checksums for file: [/data/kb_766/EyeAI_working/deriva-ml/execution/5-51CA/asset/eye-ai/Fundus_Bounding_Box/Cropped_2-D8S4.svg]. Please wait...\n",
      "2025-09-22 14:37:27,212 - INFO - Uploading file: [/data/kb_766/EyeAI_working/deriva-ml/execution/5-51CA/asset/eye-ai/Fundus_Bounding_Box/Cropped_2-D8S4.svg] to host https://www.eye-ai.org. Please wait...\n",
      "2025-09-22 14:37:27,291 - INFO - Processing: [/data/kb_766/EyeAI_working/deriva-ml/execution/5-51CA/asset/eye-ai/Fundus_Bounding_Box/Cropped_2-D8S6.svg]\n",
      "2025-09-22 14:37:27,291 - INFO - Computed metadata for: [/data/kb_766/EyeAI_working/deriva-ml/execution/5-51CA/asset/eye-ai/Fundus_Bounding_Box/Cropped_2-D8S6.svg].\n",
      "2025-09-22 14:37:27,292 - INFO - Computing checksums for file: [/data/kb_766/EyeAI_working/deriva-ml/execution/5-51CA/asset/eye-ai/Fundus_Bounding_Box/Cropped_2-D8S6.svg]. Please wait...\n",
      "2025-09-22 14:37:27,293 - INFO - Uploading file: [/data/kb_766/EyeAI_working/deriva-ml/execution/5-51CA/asset/eye-ai/Fundus_Bounding_Box/Cropped_2-D8S6.svg] to host https://www.eye-ai.org. Please wait...\n",
      "2025-09-22 14:37:27,372 - INFO - Processing: [/data/kb_766/EyeAI_working/deriva-ml/execution/5-51CA/asset/eye-ai/Fundus_Bounding_Box/Cropped_2-D930.svg]\n",
      "2025-09-22 14:37:27,373 - INFO - Computed metadata for: [/data/kb_766/EyeAI_working/deriva-ml/execution/5-51CA/asset/eye-ai/Fundus_Bounding_Box/Cropped_2-D930.svg].\n",
      "2025-09-22 14:37:27,373 - INFO - Computing checksums for file: [/data/kb_766/EyeAI_working/deriva-ml/execution/5-51CA/asset/eye-ai/Fundus_Bounding_Box/Cropped_2-D930.svg]. Please wait...\n",
      "2025-09-22 14:37:27,375 - INFO - Uploading file: [/data/kb_766/EyeAI_working/deriva-ml/execution/5-51CA/asset/eye-ai/Fundus_Bounding_Box/Cropped_2-D930.svg] to host https://www.eye-ai.org. Please wait...\n",
      "2025-09-22 14:37:27,451 - INFO - Processing: [/data/kb_766/EyeAI_working/deriva-ml/execution/5-51CA/asset/eye-ai/Fundus_Bounding_Box/Cropped_2-D932.svg]\n",
      "2025-09-22 14:37:27,452 - INFO - Computed metadata for: [/data/kb_766/EyeAI_working/deriva-ml/execution/5-51CA/asset/eye-ai/Fundus_Bounding_Box/Cropped_2-D932.svg].\n",
      "2025-09-22 14:37:27,452 - INFO - Computing checksums for file: [/data/kb_766/EyeAI_working/deriva-ml/execution/5-51CA/asset/eye-ai/Fundus_Bounding_Box/Cropped_2-D932.svg]. Please wait...\n",
      "2025-09-22 14:37:27,454 - INFO - Uploading file: [/data/kb_766/EyeAI_working/deriva-ml/execution/5-51CA/asset/eye-ai/Fundus_Bounding_Box/Cropped_2-D932.svg] to host https://www.eye-ai.org. Please wait...\n",
      "2025-09-22 14:37:27,537 - INFO - Processing: [/data/kb_766/EyeAI_working/deriva-ml/execution/5-51CA/asset/eye-ai/Fundus_Bounding_Box/Cropped_2-D96A.svg]\n",
      "2025-09-22 14:37:27,538 - INFO - Computed metadata for: [/data/kb_766/EyeAI_working/deriva-ml/execution/5-51CA/asset/eye-ai/Fundus_Bounding_Box/Cropped_2-D96A.svg].\n",
      "2025-09-22 14:37:27,538 - INFO - Computing checksums for file: [/data/kb_766/EyeAI_working/deriva-ml/execution/5-51CA/asset/eye-ai/Fundus_Bounding_Box/Cropped_2-D96A.svg]. Please wait...\n",
      "2025-09-22 14:37:27,540 - INFO - Uploading file: [/data/kb_766/EyeAI_working/deriva-ml/execution/5-51CA/asset/eye-ai/Fundus_Bounding_Box/Cropped_2-D96A.svg] to host https://www.eye-ai.org. Please wait...\n",
      "2025-09-22 14:37:27,621 - INFO - Processing: [/data/kb_766/EyeAI_working/deriva-ml/execution/5-51CA/asset/eye-ai/Fundus_Bounding_Box/Cropped_2-D96E.svg]\n",
      "2025-09-22 14:37:27,622 - INFO - Computed metadata for: [/data/kb_766/EyeAI_working/deriva-ml/execution/5-51CA/asset/eye-ai/Fundus_Bounding_Box/Cropped_2-D96E.svg].\n",
      "2025-09-22 14:37:27,622 - INFO - Computing checksums for file: [/data/kb_766/EyeAI_working/deriva-ml/execution/5-51CA/asset/eye-ai/Fundus_Bounding_Box/Cropped_2-D96E.svg]. Please wait...\n",
      "2025-09-22 14:37:27,623 - INFO - Uploading file: [/data/kb_766/EyeAI_working/deriva-ml/execution/5-51CA/asset/eye-ai/Fundus_Bounding_Box/Cropped_2-D96E.svg] to host https://www.eye-ai.org. Please wait...\n",
      "2025-09-22 14:37:27,702 - INFO - Processing: [/data/kb_766/EyeAI_working/deriva-ml/execution/5-51CA/asset/eye-ai/Fundus_Bounding_Box/Cropped_2-D98W.svg]\n",
      "2025-09-22 14:37:27,702 - INFO - Computed metadata for: [/data/kb_766/EyeAI_working/deriva-ml/execution/5-51CA/asset/eye-ai/Fundus_Bounding_Box/Cropped_2-D98W.svg].\n",
      "2025-09-22 14:37:27,703 - INFO - Computing checksums for file: [/data/kb_766/EyeAI_working/deriva-ml/execution/5-51CA/asset/eye-ai/Fundus_Bounding_Box/Cropped_2-D98W.svg]. Please wait...\n",
      "2025-09-22 14:37:27,704 - INFO - Uploading file: [/data/kb_766/EyeAI_working/deriva-ml/execution/5-51CA/asset/eye-ai/Fundus_Bounding_Box/Cropped_2-D98W.svg] to host https://www.eye-ai.org. Please wait...\n",
      "2025-09-22 14:37:27,785 - INFO - Processing: [/data/kb_766/EyeAI_working/deriva-ml/execution/5-51CA/asset/eye-ai/Fundus_Bounding_Box/Cropped_2-D996.svg]\n",
      "2025-09-22 14:37:27,785 - INFO - Computed metadata for: [/data/kb_766/EyeAI_working/deriva-ml/execution/5-51CA/asset/eye-ai/Fundus_Bounding_Box/Cropped_2-D996.svg].\n",
      "2025-09-22 14:37:27,786 - INFO - Computing checksums for file: [/data/kb_766/EyeAI_working/deriva-ml/execution/5-51CA/asset/eye-ai/Fundus_Bounding_Box/Cropped_2-D996.svg]. Please wait...\n",
      "2025-09-22 14:37:27,787 - INFO - Uploading file: [/data/kb_766/EyeAI_working/deriva-ml/execution/5-51CA/asset/eye-ai/Fundus_Bounding_Box/Cropped_2-D996.svg] to host https://www.eye-ai.org. Please wait...\n",
      "2025-09-22 14:37:27,867 - INFO - Processing: [/data/kb_766/EyeAI_working/deriva-ml/execution/5-51CA/asset/eye-ai/Fundus_Bounding_Box/Cropped_2-D9BR.svg]\n",
      "2025-09-22 14:37:27,868 - INFO - Computed metadata for: [/data/kb_766/EyeAI_working/deriva-ml/execution/5-51CA/asset/eye-ai/Fundus_Bounding_Box/Cropped_2-D9BR.svg].\n",
      "2025-09-22 14:37:27,868 - INFO - Computing checksums for file: [/data/kb_766/EyeAI_working/deriva-ml/execution/5-51CA/asset/eye-ai/Fundus_Bounding_Box/Cropped_2-D9BR.svg]. Please wait...\n",
      "2025-09-22 14:37:27,870 - INFO - Uploading file: [/data/kb_766/EyeAI_working/deriva-ml/execution/5-51CA/asset/eye-ai/Fundus_Bounding_Box/Cropped_2-D9BR.svg] to host https://www.eye-ai.org. Please wait...\n",
      "2025-09-22 14:37:27,951 - INFO - Processing: [/data/kb_766/EyeAI_working/deriva-ml/execution/5-51CA/asset/eye-ai/Fundus_Bounding_Box/Cropped_2-D9BT.svg]\n",
      "2025-09-22 14:37:27,952 - INFO - Computed metadata for: [/data/kb_766/EyeAI_working/deriva-ml/execution/5-51CA/asset/eye-ai/Fundus_Bounding_Box/Cropped_2-D9BT.svg].\n",
      "2025-09-22 14:37:27,953 - INFO - Computing checksums for file: [/data/kb_766/EyeAI_working/deriva-ml/execution/5-51CA/asset/eye-ai/Fundus_Bounding_Box/Cropped_2-D9BT.svg]. Please wait...\n",
      "2025-09-22 14:37:27,954 - INFO - Uploading file: [/data/kb_766/EyeAI_working/deriva-ml/execution/5-51CA/asset/eye-ai/Fundus_Bounding_Box/Cropped_2-D9BT.svg] to host https://www.eye-ai.org. Please wait...\n",
      "2025-09-22 14:37:28,033 - INFO - Processing: [/data/kb_766/EyeAI_working/deriva-ml/execution/5-51CA/asset/eye-ai/Fundus_Bounding_Box/Cropped_2-D9FC.svg]\n",
      "2025-09-22 14:37:28,034 - INFO - Computed metadata for: [/data/kb_766/EyeAI_working/deriva-ml/execution/5-51CA/asset/eye-ai/Fundus_Bounding_Box/Cropped_2-D9FC.svg].\n",
      "2025-09-22 14:37:28,034 - INFO - Computing checksums for file: [/data/kb_766/EyeAI_working/deriva-ml/execution/5-51CA/asset/eye-ai/Fundus_Bounding_Box/Cropped_2-D9FC.svg]. Please wait...\n",
      "2025-09-22 14:37:28,035 - INFO - Uploading file: [/data/kb_766/EyeAI_working/deriva-ml/execution/5-51CA/asset/eye-ai/Fundus_Bounding_Box/Cropped_2-D9FC.svg] to host https://www.eye-ai.org. Please wait...\n",
      "2025-09-22 14:37:28,120 - INFO - Processing: [/data/kb_766/EyeAI_working/deriva-ml/execution/5-51CA/asset/eye-ai/Fundus_Bounding_Box/Cropped_2-D9FM.svg]\n",
      "2025-09-22 14:37:28,120 - INFO - Computed metadata for: [/data/kb_766/EyeAI_working/deriva-ml/execution/5-51CA/asset/eye-ai/Fundus_Bounding_Box/Cropped_2-D9FM.svg].\n",
      "2025-09-22 14:37:28,121 - INFO - Computing checksums for file: [/data/kb_766/EyeAI_working/deriva-ml/execution/5-51CA/asset/eye-ai/Fundus_Bounding_Box/Cropped_2-D9FM.svg]. Please wait...\n",
      "2025-09-22 14:37:28,122 - INFO - Uploading file: [/data/kb_766/EyeAI_working/deriva-ml/execution/5-51CA/asset/eye-ai/Fundus_Bounding_Box/Cropped_2-D9FM.svg] to host https://www.eye-ai.org. Please wait...\n",
      "2025-09-22 14:37:28,203 - INFO - Processing: [/data/kb_766/EyeAI_working/deriva-ml/execution/5-51CA/asset/eye-ai/Fundus_Bounding_Box/Cropped_2-D9KW.svg]\n",
      "2025-09-22 14:37:28,203 - INFO - Computed metadata for: [/data/kb_766/EyeAI_working/deriva-ml/execution/5-51CA/asset/eye-ai/Fundus_Bounding_Box/Cropped_2-D9KW.svg].\n",
      "2025-09-22 14:37:28,204 - INFO - Computing checksums for file: [/data/kb_766/EyeAI_working/deriva-ml/execution/5-51CA/asset/eye-ai/Fundus_Bounding_Box/Cropped_2-D9KW.svg]. Please wait...\n",
      "2025-09-22 14:37:28,205 - INFO - Uploading file: [/data/kb_766/EyeAI_working/deriva-ml/execution/5-51CA/asset/eye-ai/Fundus_Bounding_Box/Cropped_2-D9KW.svg] to host https://www.eye-ai.org. Please wait...\n",
      "2025-09-22 14:37:28,285 - INFO - Processing: [/data/kb_766/EyeAI_working/deriva-ml/execution/5-51CA/asset/eye-ai/Fundus_Bounding_Box/Cropped_2-D9KY.svg]\n",
      "2025-09-22 14:37:28,286 - INFO - Computed metadata for: [/data/kb_766/EyeAI_working/deriva-ml/execution/5-51CA/asset/eye-ai/Fundus_Bounding_Box/Cropped_2-D9KY.svg].\n",
      "2025-09-22 14:37:28,286 - INFO - Computing checksums for file: [/data/kb_766/EyeAI_working/deriva-ml/execution/5-51CA/asset/eye-ai/Fundus_Bounding_Box/Cropped_2-D9KY.svg]. Please wait...\n",
      "2025-09-22 14:37:28,288 - INFO - Uploading file: [/data/kb_766/EyeAI_working/deriva-ml/execution/5-51CA/asset/eye-ai/Fundus_Bounding_Box/Cropped_2-D9KY.svg] to host https://www.eye-ai.org. Please wait...\n",
      "2025-09-22 14:37:28,364 - INFO - Processing: [/data/kb_766/EyeAI_working/deriva-ml/execution/5-51CA/asset/eye-ai/Fundus_Bounding_Box/Cropped_2-D9MA.svg]\n",
      "2025-09-22 14:37:28,365 - INFO - Computed metadata for: [/data/kb_766/EyeAI_working/deriva-ml/execution/5-51CA/asset/eye-ai/Fundus_Bounding_Box/Cropped_2-D9MA.svg].\n",
      "2025-09-22 14:37:28,366 - INFO - Computing checksums for file: [/data/kb_766/EyeAI_working/deriva-ml/execution/5-51CA/asset/eye-ai/Fundus_Bounding_Box/Cropped_2-D9MA.svg]. Please wait...\n",
      "2025-09-22 14:37:28,367 - INFO - Uploading file: [/data/kb_766/EyeAI_working/deriva-ml/execution/5-51CA/asset/eye-ai/Fundus_Bounding_Box/Cropped_2-D9MA.svg] to host https://www.eye-ai.org. Please wait...\n",
      "2025-09-22 14:37:28,447 - INFO - Processing: [/data/kb_766/EyeAI_working/deriva-ml/execution/5-51CA/asset/eye-ai/Fundus_Bounding_Box/Cropped_2-D9MC.svg]\n",
      "2025-09-22 14:37:28,448 - INFO - Computed metadata for: [/data/kb_766/EyeAI_working/deriva-ml/execution/5-51CA/asset/eye-ai/Fundus_Bounding_Box/Cropped_2-D9MC.svg].\n",
      "2025-09-22 14:37:28,449 - INFO - Computing checksums for file: [/data/kb_766/EyeAI_working/deriva-ml/execution/5-51CA/asset/eye-ai/Fundus_Bounding_Box/Cropped_2-D9MC.svg]. Please wait...\n",
      "2025-09-22 14:37:28,450 - INFO - Uploading file: [/data/kb_766/EyeAI_working/deriva-ml/execution/5-51CA/asset/eye-ai/Fundus_Bounding_Box/Cropped_2-D9MC.svg] to host https://www.eye-ai.org. Please wait...\n",
      "2025-09-22 14:37:28,524 - INFO - Processing: [/data/kb_766/EyeAI_working/deriva-ml/execution/5-51CA/asset/eye-ai/Fundus_Bounding_Box/Cropped_2-D9MM.svg]\n",
      "2025-09-22 14:37:28,525 - INFO - Computed metadata for: [/data/kb_766/EyeAI_working/deriva-ml/execution/5-51CA/asset/eye-ai/Fundus_Bounding_Box/Cropped_2-D9MM.svg].\n",
      "2025-09-22 14:37:28,526 - INFO - Computing checksums for file: [/data/kb_766/EyeAI_working/deriva-ml/execution/5-51CA/asset/eye-ai/Fundus_Bounding_Box/Cropped_2-D9MM.svg]. Please wait...\n",
      "2025-09-22 14:37:28,527 - INFO - Uploading file: [/data/kb_766/EyeAI_working/deriva-ml/execution/5-51CA/asset/eye-ai/Fundus_Bounding_Box/Cropped_2-D9MM.svg] to host https://www.eye-ai.org. Please wait...\n",
      "2025-09-22 14:37:28,608 - INFO - Processing: [/data/kb_766/EyeAI_working/deriva-ml/execution/5-51CA/asset/eye-ai/Fundus_Bounding_Box/Cropped_2-D9MR.svg]\n",
      "2025-09-22 14:37:28,608 - INFO - Computed metadata for: [/data/kb_766/EyeAI_working/deriva-ml/execution/5-51CA/asset/eye-ai/Fundus_Bounding_Box/Cropped_2-D9MR.svg].\n",
      "2025-09-22 14:37:28,609 - INFO - Computing checksums for file: [/data/kb_766/EyeAI_working/deriva-ml/execution/5-51CA/asset/eye-ai/Fundus_Bounding_Box/Cropped_2-D9MR.svg]. Please wait...\n",
      "2025-09-22 14:37:28,610 - INFO - Uploading file: [/data/kb_766/EyeAI_working/deriva-ml/execution/5-51CA/asset/eye-ai/Fundus_Bounding_Box/Cropped_2-D9MR.svg] to host https://www.eye-ai.org. Please wait...\n",
      "2025-09-22 14:37:28,703 - INFO - Processing: [/data/kb_766/EyeAI_working/deriva-ml/execution/5-51CA/asset/eye-ai/Fundus_Bounding_Box/Cropped_2-D9NA.svg]\n",
      "2025-09-22 14:37:28,704 - INFO - Computed metadata for: [/data/kb_766/EyeAI_working/deriva-ml/execution/5-51CA/asset/eye-ai/Fundus_Bounding_Box/Cropped_2-D9NA.svg].\n",
      "2025-09-22 14:37:28,704 - INFO - Computing checksums for file: [/data/kb_766/EyeAI_working/deriva-ml/execution/5-51CA/asset/eye-ai/Fundus_Bounding_Box/Cropped_2-D9NA.svg]. Please wait...\n",
      "2025-09-22 14:37:28,705 - INFO - Uploading file: [/data/kb_766/EyeAI_working/deriva-ml/execution/5-51CA/asset/eye-ai/Fundus_Bounding_Box/Cropped_2-D9NA.svg] to host https://www.eye-ai.org. Please wait...\n",
      "2025-09-22 14:37:28,788 - INFO - Processing: [/data/kb_766/EyeAI_working/deriva-ml/execution/5-51CA/asset/eye-ai/Fundus_Bounding_Box/Cropped_2-D9NC.svg]\n",
      "2025-09-22 14:37:28,789 - INFO - Computed metadata for: [/data/kb_766/EyeAI_working/deriva-ml/execution/5-51CA/asset/eye-ai/Fundus_Bounding_Box/Cropped_2-D9NC.svg].\n",
      "2025-09-22 14:37:28,789 - INFO - Computing checksums for file: [/data/kb_766/EyeAI_working/deriva-ml/execution/5-51CA/asset/eye-ai/Fundus_Bounding_Box/Cropped_2-D9NC.svg]. Please wait...\n",
      "2025-09-22 14:37:28,791 - INFO - Uploading file: [/data/kb_766/EyeAI_working/deriva-ml/execution/5-51CA/asset/eye-ai/Fundus_Bounding_Box/Cropped_2-D9NC.svg] to host https://www.eye-ai.org. Please wait...\n",
      "2025-09-22 14:37:28,874 - INFO - Processing: [/data/kb_766/EyeAI_working/deriva-ml/execution/5-51CA/asset/eye-ai/Fundus_Bounding_Box/Cropped_2-D9PJ.svg]\n",
      "2025-09-22 14:37:28,875 - INFO - Computed metadata for: [/data/kb_766/EyeAI_working/deriva-ml/execution/5-51CA/asset/eye-ai/Fundus_Bounding_Box/Cropped_2-D9PJ.svg].\n",
      "2025-09-22 14:37:28,876 - INFO - Computing checksums for file: [/data/kb_766/EyeAI_working/deriva-ml/execution/5-51CA/asset/eye-ai/Fundus_Bounding_Box/Cropped_2-D9PJ.svg]. Please wait...\n",
      "2025-09-22 14:37:28,877 - INFO - Uploading file: [/data/kb_766/EyeAI_working/deriva-ml/execution/5-51CA/asset/eye-ai/Fundus_Bounding_Box/Cropped_2-D9PJ.svg] to host https://www.eye-ai.org. Please wait...\n",
      "2025-09-22 14:37:28,961 - INFO - Processing: [/data/kb_766/EyeAI_working/deriva-ml/execution/5-51CA/asset/eye-ai/Fundus_Bounding_Box/Cropped_2-D9PR.svg]\n",
      "2025-09-22 14:37:28,961 - INFO - Computed metadata for: [/data/kb_766/EyeAI_working/deriva-ml/execution/5-51CA/asset/eye-ai/Fundus_Bounding_Box/Cropped_2-D9PR.svg].\n",
      "2025-09-22 14:37:28,962 - INFO - Computing checksums for file: [/data/kb_766/EyeAI_working/deriva-ml/execution/5-51CA/asset/eye-ai/Fundus_Bounding_Box/Cropped_2-D9PR.svg]. Please wait...\n",
      "2025-09-22 14:37:28,963 - INFO - Uploading file: [/data/kb_766/EyeAI_working/deriva-ml/execution/5-51CA/asset/eye-ai/Fundus_Bounding_Box/Cropped_2-D9PR.svg] to host https://www.eye-ai.org. Please wait...\n",
      "2025-09-22 14:37:29,049 - INFO - Processing: [/data/kb_766/EyeAI_working/deriva-ml/execution/5-51CA/asset/eye-ai/Fundus_Bounding_Box/Cropped_2-D9WP.svg]\n",
      "2025-09-22 14:37:29,050 - INFO - Computed metadata for: [/data/kb_766/EyeAI_working/deriva-ml/execution/5-51CA/asset/eye-ai/Fundus_Bounding_Box/Cropped_2-D9WP.svg].\n",
      "2025-09-22 14:37:29,050 - INFO - Computing checksums for file: [/data/kb_766/EyeAI_working/deriva-ml/execution/5-51CA/asset/eye-ai/Fundus_Bounding_Box/Cropped_2-D9WP.svg]. Please wait...\n",
      "2025-09-22 14:37:29,051 - INFO - Uploading file: [/data/kb_766/EyeAI_working/deriva-ml/execution/5-51CA/asset/eye-ai/Fundus_Bounding_Box/Cropped_2-D9WP.svg] to host https://www.eye-ai.org. Please wait...\n",
      "2025-09-22 14:37:29,162 - INFO - Processing: [/data/kb_766/EyeAI_working/deriva-ml/execution/5-51CA/asset/eye-ai/Fundus_Bounding_Box/Cropped_2-D9WT.svg]\n",
      "2025-09-22 14:37:29,163 - INFO - Computed metadata for: [/data/kb_766/EyeAI_working/deriva-ml/execution/5-51CA/asset/eye-ai/Fundus_Bounding_Box/Cropped_2-D9WT.svg].\n",
      "2025-09-22 14:37:29,163 - INFO - Computing checksums for file: [/data/kb_766/EyeAI_working/deriva-ml/execution/5-51CA/asset/eye-ai/Fundus_Bounding_Box/Cropped_2-D9WT.svg]. Please wait...\n",
      "2025-09-22 14:37:29,164 - INFO - Uploading file: [/data/kb_766/EyeAI_working/deriva-ml/execution/5-51CA/asset/eye-ai/Fundus_Bounding_Box/Cropped_2-D9WT.svg] to host https://www.eye-ai.org. Please wait...\n",
      "2025-09-22 14:37:29,240 - INFO - Processing: [/data/kb_766/EyeAI_working/deriva-ml/execution/5-51CA/asset/eye-ai/Fundus_Bounding_Box/Cropped_2-DA5R.svg]\n",
      "2025-09-22 14:37:29,241 - INFO - Computed metadata for: [/data/kb_766/EyeAI_working/deriva-ml/execution/5-51CA/asset/eye-ai/Fundus_Bounding_Box/Cropped_2-DA5R.svg].\n",
      "2025-09-22 14:37:29,241 - INFO - Computing checksums for file: [/data/kb_766/EyeAI_working/deriva-ml/execution/5-51CA/asset/eye-ai/Fundus_Bounding_Box/Cropped_2-DA5R.svg]. Please wait...\n",
      "2025-09-22 14:37:29,243 - INFO - Uploading file: [/data/kb_766/EyeAI_working/deriva-ml/execution/5-51CA/asset/eye-ai/Fundus_Bounding_Box/Cropped_2-DA5R.svg] to host https://www.eye-ai.org. Please wait...\n",
      "2025-09-22 14:37:29,325 - INFO - Processing: [/data/kb_766/EyeAI_working/deriva-ml/execution/5-51CA/asset/eye-ai/Fundus_Bounding_Box/Cropped_2-DA5Y.svg]\n",
      "2025-09-22 14:37:29,326 - INFO - Computed metadata for: [/data/kb_766/EyeAI_working/deriva-ml/execution/5-51CA/asset/eye-ai/Fundus_Bounding_Box/Cropped_2-DA5Y.svg].\n",
      "2025-09-22 14:37:29,326 - INFO - Computing checksums for file: [/data/kb_766/EyeAI_working/deriva-ml/execution/5-51CA/asset/eye-ai/Fundus_Bounding_Box/Cropped_2-DA5Y.svg]. Please wait...\n",
      "2025-09-22 14:37:29,328 - INFO - Uploading file: [/data/kb_766/EyeAI_working/deriva-ml/execution/5-51CA/asset/eye-ai/Fundus_Bounding_Box/Cropped_2-DA5Y.svg] to host https://www.eye-ai.org. Please wait...\n",
      "2025-09-22 14:37:29,422 - INFO - Processing: [/data/kb_766/EyeAI_working/deriva-ml/execution/5-51CA/asset/eye-ai/Fundus_Bounding_Box/Cropped_2-DA6R.svg]\n",
      "2025-09-22 14:37:29,422 - INFO - Computed metadata for: [/data/kb_766/EyeAI_working/deriva-ml/execution/5-51CA/asset/eye-ai/Fundus_Bounding_Box/Cropped_2-DA6R.svg].\n",
      "2025-09-22 14:37:29,423 - INFO - Computing checksums for file: [/data/kb_766/EyeAI_working/deriva-ml/execution/5-51CA/asset/eye-ai/Fundus_Bounding_Box/Cropped_2-DA6R.svg]. Please wait...\n",
      "2025-09-22 14:37:29,424 - INFO - Uploading file: [/data/kb_766/EyeAI_working/deriva-ml/execution/5-51CA/asset/eye-ai/Fundus_Bounding_Box/Cropped_2-DA6R.svg] to host https://www.eye-ai.org. Please wait...\n",
      "2025-09-22 14:37:29,536 - INFO - Processing: [/data/kb_766/EyeAI_working/deriva-ml/execution/5-51CA/asset/eye-ai/Fundus_Bounding_Box/Cropped_2-DA6T.svg]\n",
      "2025-09-22 14:37:29,537 - INFO - Computed metadata for: [/data/kb_766/EyeAI_working/deriva-ml/execution/5-51CA/asset/eye-ai/Fundus_Bounding_Box/Cropped_2-DA6T.svg].\n",
      "2025-09-22 14:37:29,538 - INFO - Computing checksums for file: [/data/kb_766/EyeAI_working/deriva-ml/execution/5-51CA/asset/eye-ai/Fundus_Bounding_Box/Cropped_2-DA6T.svg]. Please wait...\n",
      "2025-09-22 14:37:29,539 - INFO - Uploading file: [/data/kb_766/EyeAI_working/deriva-ml/execution/5-51CA/asset/eye-ai/Fundus_Bounding_Box/Cropped_2-DA6T.svg] to host https://www.eye-ai.org. Please wait...\n",
      "2025-09-22 14:37:29,625 - INFO - Processing: [/data/kb_766/EyeAI_working/deriva-ml/execution/5-51CA/asset/eye-ai/Fundus_Bounding_Box/Cropped_2-DAB4.svg]\n",
      "2025-09-22 14:37:29,626 - INFO - Computed metadata for: [/data/kb_766/EyeAI_working/deriva-ml/execution/5-51CA/asset/eye-ai/Fundus_Bounding_Box/Cropped_2-DAB4.svg].\n",
      "2025-09-22 14:37:29,626 - INFO - Computing checksums for file: [/data/kb_766/EyeAI_working/deriva-ml/execution/5-51CA/asset/eye-ai/Fundus_Bounding_Box/Cropped_2-DAB4.svg]. Please wait...\n",
      "2025-09-22 14:37:29,627 - INFO - Uploading file: [/data/kb_766/EyeAI_working/deriva-ml/execution/5-51CA/asset/eye-ai/Fundus_Bounding_Box/Cropped_2-DAB4.svg] to host https://www.eye-ai.org. Please wait...\n",
      "2025-09-22 14:37:29,735 - INFO - Processing: [/data/kb_766/EyeAI_working/deriva-ml/execution/5-51CA/asset/eye-ai/Fundus_Bounding_Box/Cropped_2-DABA.svg]\n",
      "2025-09-22 14:37:29,735 - INFO - Computed metadata for: [/data/kb_766/EyeAI_working/deriva-ml/execution/5-51CA/asset/eye-ai/Fundus_Bounding_Box/Cropped_2-DABA.svg].\n",
      "2025-09-22 14:37:29,736 - INFO - Computing checksums for file: [/data/kb_766/EyeAI_working/deriva-ml/execution/5-51CA/asset/eye-ai/Fundus_Bounding_Box/Cropped_2-DABA.svg]. Please wait...\n",
      "2025-09-22 14:37:29,737 - INFO - Uploading file: [/data/kb_766/EyeAI_working/deriva-ml/execution/5-51CA/asset/eye-ai/Fundus_Bounding_Box/Cropped_2-DABA.svg] to host https://www.eye-ai.org. Please wait...\n",
      "2025-09-22 14:37:29,823 - INFO - Processing: [/data/kb_766/EyeAI_working/deriva-ml/execution/5-51CA/asset/eye-ai/Fundus_Bounding_Box/Cropped_2-DAT0.svg]\n",
      "2025-09-22 14:37:29,824 - INFO - Computed metadata for: [/data/kb_766/EyeAI_working/deriva-ml/execution/5-51CA/asset/eye-ai/Fundus_Bounding_Box/Cropped_2-DAT0.svg].\n",
      "2025-09-22 14:37:29,825 - INFO - Computing checksums for file: [/data/kb_766/EyeAI_working/deriva-ml/execution/5-51CA/asset/eye-ai/Fundus_Bounding_Box/Cropped_2-DAT0.svg]. Please wait...\n",
      "2025-09-22 14:37:29,826 - INFO - Uploading file: [/data/kb_766/EyeAI_working/deriva-ml/execution/5-51CA/asset/eye-ai/Fundus_Bounding_Box/Cropped_2-DAT0.svg] to host https://www.eye-ai.org. Please wait...\n",
      "2025-09-22 14:37:29,909 - INFO - Processing: [/data/kb_766/EyeAI_working/deriva-ml/execution/5-51CA/asset/eye-ai/Fundus_Bounding_Box/Cropped_2-DAT2.svg]\n",
      "2025-09-22 14:37:29,910 - INFO - Computed metadata for: [/data/kb_766/EyeAI_working/deriva-ml/execution/5-51CA/asset/eye-ai/Fundus_Bounding_Box/Cropped_2-DAT2.svg].\n",
      "2025-09-22 14:37:29,910 - INFO - Computing checksums for file: [/data/kb_766/EyeAI_working/deriva-ml/execution/5-51CA/asset/eye-ai/Fundus_Bounding_Box/Cropped_2-DAT2.svg]. Please wait...\n",
      "2025-09-22 14:37:29,911 - INFO - Uploading file: [/data/kb_766/EyeAI_working/deriva-ml/execution/5-51CA/asset/eye-ai/Fundus_Bounding_Box/Cropped_2-DAT2.svg] to host https://www.eye-ai.org. Please wait...\n",
      "2025-09-22 14:37:30,009 - INFO - Processing: [/data/kb_766/EyeAI_working/deriva-ml/execution/5-51CA/asset/eye-ai/Fundus_Bounding_Box/Cropped_2-DAY6.svg]\n",
      "2025-09-22 14:37:30,009 - INFO - Computed metadata for: [/data/kb_766/EyeAI_working/deriva-ml/execution/5-51CA/asset/eye-ai/Fundus_Bounding_Box/Cropped_2-DAY6.svg].\n",
      "2025-09-22 14:37:30,010 - INFO - Computing checksums for file: [/data/kb_766/EyeAI_working/deriva-ml/execution/5-51CA/asset/eye-ai/Fundus_Bounding_Box/Cropped_2-DAY6.svg]. Please wait...\n",
      "2025-09-22 14:37:30,011 - INFO - Uploading file: [/data/kb_766/EyeAI_working/deriva-ml/execution/5-51CA/asset/eye-ai/Fundus_Bounding_Box/Cropped_2-DAY6.svg] to host https://www.eye-ai.org. Please wait...\n",
      "2025-09-22 14:37:30,099 - INFO - Processing: [/data/kb_766/EyeAI_working/deriva-ml/execution/5-51CA/asset/eye-ai/Fundus_Bounding_Box/Cropped_2-DAYE.svg]\n",
      "2025-09-22 14:37:30,100 - INFO - Computed metadata for: [/data/kb_766/EyeAI_working/deriva-ml/execution/5-51CA/asset/eye-ai/Fundus_Bounding_Box/Cropped_2-DAYE.svg].\n",
      "2025-09-22 14:37:30,100 - INFO - Computing checksums for file: [/data/kb_766/EyeAI_working/deriva-ml/execution/5-51CA/asset/eye-ai/Fundus_Bounding_Box/Cropped_2-DAYE.svg]. Please wait...\n",
      "2025-09-22 14:37:30,102 - INFO - Uploading file: [/data/kb_766/EyeAI_working/deriva-ml/execution/5-51CA/asset/eye-ai/Fundus_Bounding_Box/Cropped_2-DAYE.svg] to host https://www.eye-ai.org. Please wait...\n",
      "2025-09-22 14:37:30,186 - INFO - Processing: [/data/kb_766/EyeAI_working/deriva-ml/execution/5-51CA/asset/eye-ai/Fundus_Bounding_Box/Cropped_2-DAZC.svg]\n",
      "2025-09-22 14:37:30,187 - INFO - Computed metadata for: [/data/kb_766/EyeAI_working/deriva-ml/execution/5-51CA/asset/eye-ai/Fundus_Bounding_Box/Cropped_2-DAZC.svg].\n",
      "2025-09-22 14:37:30,187 - INFO - Computing checksums for file: [/data/kb_766/EyeAI_working/deriva-ml/execution/5-51CA/asset/eye-ai/Fundus_Bounding_Box/Cropped_2-DAZC.svg]. Please wait...\n",
      "2025-09-22 14:37:30,188 - INFO - Uploading file: [/data/kb_766/EyeAI_working/deriva-ml/execution/5-51CA/asset/eye-ai/Fundus_Bounding_Box/Cropped_2-DAZC.svg] to host https://www.eye-ai.org. Please wait...\n",
      "2025-09-22 14:37:30,269 - INFO - Processing: [/data/kb_766/EyeAI_working/deriva-ml/execution/5-51CA/asset/eye-ai/Fundus_Bounding_Box/Cropped_2-DAZG.svg]\n",
      "2025-09-22 14:37:30,269 - INFO - Computed metadata for: [/data/kb_766/EyeAI_working/deriva-ml/execution/5-51CA/asset/eye-ai/Fundus_Bounding_Box/Cropped_2-DAZG.svg].\n",
      "2025-09-22 14:37:30,270 - INFO - Computing checksums for file: [/data/kb_766/EyeAI_working/deriva-ml/execution/5-51CA/asset/eye-ai/Fundus_Bounding_Box/Cropped_2-DAZG.svg]. Please wait...\n",
      "2025-09-22 14:37:30,271 - INFO - Uploading file: [/data/kb_766/EyeAI_working/deriva-ml/execution/5-51CA/asset/eye-ai/Fundus_Bounding_Box/Cropped_2-DAZG.svg] to host https://www.eye-ai.org. Please wait...\n",
      "2025-09-22 14:37:30,400 - INFO - Processing: [/data/kb_766/EyeAI_working/deriva-ml/execution/5-51CA/asset/eye-ai/Fundus_Bounding_Box/Cropped_2-DB6T.svg]\n",
      "2025-09-22 14:37:30,400 - INFO - Computed metadata for: [/data/kb_766/EyeAI_working/deriva-ml/execution/5-51CA/asset/eye-ai/Fundus_Bounding_Box/Cropped_2-DB6T.svg].\n",
      "2025-09-22 14:37:30,401 - INFO - Computing checksums for file: [/data/kb_766/EyeAI_working/deriva-ml/execution/5-51CA/asset/eye-ai/Fundus_Bounding_Box/Cropped_2-DB6T.svg]. Please wait...\n",
      "2025-09-22 14:37:30,402 - INFO - Uploading file: [/data/kb_766/EyeAI_working/deriva-ml/execution/5-51CA/asset/eye-ai/Fundus_Bounding_Box/Cropped_2-DB6T.svg] to host https://www.eye-ai.org. Please wait...\n",
      "2025-09-22 14:37:30,485 - INFO - Processing: [/data/kb_766/EyeAI_working/deriva-ml/execution/5-51CA/asset/eye-ai/Fundus_Bounding_Box/Cropped_2-DB72.svg]\n",
      "2025-09-22 14:37:30,485 - INFO - Computed metadata for: [/data/kb_766/EyeAI_working/deriva-ml/execution/5-51CA/asset/eye-ai/Fundus_Bounding_Box/Cropped_2-DB72.svg].\n",
      "2025-09-22 14:37:30,486 - INFO - Computing checksums for file: [/data/kb_766/EyeAI_working/deriva-ml/execution/5-51CA/asset/eye-ai/Fundus_Bounding_Box/Cropped_2-DB72.svg]. Please wait...\n",
      "2025-09-22 14:37:30,487 - INFO - Uploading file: [/data/kb_766/EyeAI_working/deriva-ml/execution/5-51CA/asset/eye-ai/Fundus_Bounding_Box/Cropped_2-DB72.svg] to host https://www.eye-ai.org. Please wait...\n",
      "2025-09-22 14:37:30,566 - INFO - Processing: [/data/kb_766/EyeAI_working/deriva-ml/execution/5-51CA/asset/eye-ai/Fundus_Bounding_Box/Cropped_2-DB7J.svg]\n",
      "2025-09-22 14:37:30,567 - INFO - Computed metadata for: [/data/kb_766/EyeAI_working/deriva-ml/execution/5-51CA/asset/eye-ai/Fundus_Bounding_Box/Cropped_2-DB7J.svg].\n",
      "2025-09-22 14:37:30,568 - INFO - Computing checksums for file: [/data/kb_766/EyeAI_working/deriva-ml/execution/5-51CA/asset/eye-ai/Fundus_Bounding_Box/Cropped_2-DB7J.svg]. Please wait...\n",
      "2025-09-22 14:37:30,569 - INFO - Uploading file: [/data/kb_766/EyeAI_working/deriva-ml/execution/5-51CA/asset/eye-ai/Fundus_Bounding_Box/Cropped_2-DB7J.svg] to host https://www.eye-ai.org. Please wait...\n",
      "2025-09-22 14:37:30,674 - INFO - Processing: [/data/kb_766/EyeAI_working/deriva-ml/execution/5-51CA/asset/eye-ai/Fundus_Bounding_Box/Cropped_2-DB7R.svg]\n",
      "2025-09-22 14:37:30,674 - INFO - Computed metadata for: [/data/kb_766/EyeAI_working/deriva-ml/execution/5-51CA/asset/eye-ai/Fundus_Bounding_Box/Cropped_2-DB7R.svg].\n",
      "2025-09-22 14:37:30,675 - INFO - Computing checksums for file: [/data/kb_766/EyeAI_working/deriva-ml/execution/5-51CA/asset/eye-ai/Fundus_Bounding_Box/Cropped_2-DB7R.svg]. Please wait...\n",
      "2025-09-22 14:37:30,676 - INFO - Uploading file: [/data/kb_766/EyeAI_working/deriva-ml/execution/5-51CA/asset/eye-ai/Fundus_Bounding_Box/Cropped_2-DB7R.svg] to host https://www.eye-ai.org. Please wait...\n",
      "2025-09-22 14:37:30,755 - INFO - Processing: [/data/kb_766/EyeAI_working/deriva-ml/execution/5-51CA/asset/eye-ai/Fundus_Bounding_Box/Cropped_2-DBBP.svg]\n",
      "2025-09-22 14:37:30,755 - INFO - Computed metadata for: [/data/kb_766/EyeAI_working/deriva-ml/execution/5-51CA/asset/eye-ai/Fundus_Bounding_Box/Cropped_2-DBBP.svg].\n",
      "2025-09-22 14:37:30,756 - INFO - Computing checksums for file: [/data/kb_766/EyeAI_working/deriva-ml/execution/5-51CA/asset/eye-ai/Fundus_Bounding_Box/Cropped_2-DBBP.svg]. Please wait...\n",
      "2025-09-22 14:37:30,757 - INFO - Uploading file: [/data/kb_766/EyeAI_working/deriva-ml/execution/5-51CA/asset/eye-ai/Fundus_Bounding_Box/Cropped_2-DBBP.svg] to host https://www.eye-ai.org. Please wait...\n",
      "2025-09-22 14:37:30,839 - INFO - Processing: [/data/kb_766/EyeAI_working/deriva-ml/execution/5-51CA/asset/eye-ai/Fundus_Bounding_Box/Cropped_2-DBBT.svg]\n",
      "2025-09-22 14:37:30,839 - INFO - Computed metadata for: [/data/kb_766/EyeAI_working/deriva-ml/execution/5-51CA/asset/eye-ai/Fundus_Bounding_Box/Cropped_2-DBBT.svg].\n",
      "2025-09-22 14:37:30,840 - INFO - Computing checksums for file: [/data/kb_766/EyeAI_working/deriva-ml/execution/5-51CA/asset/eye-ai/Fundus_Bounding_Box/Cropped_2-DBBT.svg]. Please wait...\n",
      "2025-09-22 14:37:30,841 - INFO - Uploading file: [/data/kb_766/EyeAI_working/deriva-ml/execution/5-51CA/asset/eye-ai/Fundus_Bounding_Box/Cropped_2-DBBT.svg] to host https://www.eye-ai.org. Please wait...\n",
      "2025-09-22 14:37:30,917 - INFO - Processing: [/data/kb_766/EyeAI_working/deriva-ml/execution/5-51CA/asset/eye-ai/Fundus_Bounding_Box/Cropped_2-DBDT.svg]\n",
      "2025-09-22 14:37:30,918 - INFO - Computed metadata for: [/data/kb_766/EyeAI_working/deriva-ml/execution/5-51CA/asset/eye-ai/Fundus_Bounding_Box/Cropped_2-DBDT.svg].\n",
      "2025-09-22 14:37:30,918 - INFO - Computing checksums for file: [/data/kb_766/EyeAI_working/deriva-ml/execution/5-51CA/asset/eye-ai/Fundus_Bounding_Box/Cropped_2-DBDT.svg]. Please wait...\n",
      "2025-09-22 14:37:30,919 - INFO - Uploading file: [/data/kb_766/EyeAI_working/deriva-ml/execution/5-51CA/asset/eye-ai/Fundus_Bounding_Box/Cropped_2-DBDT.svg] to host https://www.eye-ai.org. Please wait...\n",
      "2025-09-22 14:37:31,000 - INFO - Processing: [/data/kb_766/EyeAI_working/deriva-ml/execution/5-51CA/asset/eye-ai/Fundus_Bounding_Box/Cropped_2-DBE0.svg]\n",
      "2025-09-22 14:37:31,000 - INFO - Computed metadata for: [/data/kb_766/EyeAI_working/deriva-ml/execution/5-51CA/asset/eye-ai/Fundus_Bounding_Box/Cropped_2-DBE0.svg].\n",
      "2025-09-22 14:37:31,001 - INFO - Computing checksums for file: [/data/kb_766/EyeAI_working/deriva-ml/execution/5-51CA/asset/eye-ai/Fundus_Bounding_Box/Cropped_2-DBE0.svg]. Please wait...\n",
      "2025-09-22 14:37:31,002 - INFO - Uploading file: [/data/kb_766/EyeAI_working/deriva-ml/execution/5-51CA/asset/eye-ai/Fundus_Bounding_Box/Cropped_2-DBE0.svg] to host https://www.eye-ai.org. Please wait...\n",
      "2025-09-22 14:37:31,084 - INFO - Processing: [/data/kb_766/EyeAI_working/deriva-ml/execution/5-51CA/asset/eye-ai/Fundus_Bounding_Box/Cropped_2-DBE6.svg]\n",
      "2025-09-22 14:37:31,085 - INFO - Computed metadata for: [/data/kb_766/EyeAI_working/deriva-ml/execution/5-51CA/asset/eye-ai/Fundus_Bounding_Box/Cropped_2-DBE6.svg].\n",
      "2025-09-22 14:37:31,085 - INFO - Computing checksums for file: [/data/kb_766/EyeAI_working/deriva-ml/execution/5-51CA/asset/eye-ai/Fundus_Bounding_Box/Cropped_2-DBE6.svg]. Please wait...\n",
      "2025-09-22 14:37:31,086 - INFO - Uploading file: [/data/kb_766/EyeAI_working/deriva-ml/execution/5-51CA/asset/eye-ai/Fundus_Bounding_Box/Cropped_2-DBE6.svg] to host https://www.eye-ai.org. Please wait...\n",
      "2025-09-22 14:37:31,181 - INFO - Processing: [/data/kb_766/EyeAI_working/deriva-ml/execution/5-51CA/asset/eye-ai/Fundus_Bounding_Box/Cropped_2-DBEC.svg]\n",
      "2025-09-22 14:37:31,182 - INFO - Computed metadata for: [/data/kb_766/EyeAI_working/deriva-ml/execution/5-51CA/asset/eye-ai/Fundus_Bounding_Box/Cropped_2-DBEC.svg].\n",
      "2025-09-22 14:37:31,182 - INFO - Computing checksums for file: [/data/kb_766/EyeAI_working/deriva-ml/execution/5-51CA/asset/eye-ai/Fundus_Bounding_Box/Cropped_2-DBEC.svg]. Please wait...\n",
      "2025-09-22 14:37:31,183 - INFO - Uploading file: [/data/kb_766/EyeAI_working/deriva-ml/execution/5-51CA/asset/eye-ai/Fundus_Bounding_Box/Cropped_2-DBEC.svg] to host https://www.eye-ai.org. Please wait...\n",
      "2025-09-22 14:37:31,268 - INFO - Processing: [/data/kb_766/EyeAI_working/deriva-ml/execution/5-51CA/asset/eye-ai/Fundus_Bounding_Box/Cropped_2-DBEW.svg]\n",
      "2025-09-22 14:37:31,268 - INFO - Computed metadata for: [/data/kb_766/EyeAI_working/deriva-ml/execution/5-51CA/asset/eye-ai/Fundus_Bounding_Box/Cropped_2-DBEW.svg].\n",
      "2025-09-22 14:37:31,269 - INFO - Computing checksums for file: [/data/kb_766/EyeAI_working/deriva-ml/execution/5-51CA/asset/eye-ai/Fundus_Bounding_Box/Cropped_2-DBEW.svg]. Please wait...\n",
      "2025-09-22 14:37:31,270 - INFO - Uploading file: [/data/kb_766/EyeAI_working/deriva-ml/execution/5-51CA/asset/eye-ai/Fundus_Bounding_Box/Cropped_2-DBEW.svg] to host https://www.eye-ai.org. Please wait...\n",
      "2025-09-22 14:37:31,353 - INFO - Processing: [/data/kb_766/EyeAI_working/deriva-ml/execution/5-51CA/asset/eye-ai/Fundus_Bounding_Box/Cropped_2-DBF2.svg]\n",
      "2025-09-22 14:37:31,354 - INFO - Computed metadata for: [/data/kb_766/EyeAI_working/deriva-ml/execution/5-51CA/asset/eye-ai/Fundus_Bounding_Box/Cropped_2-DBF2.svg].\n",
      "2025-09-22 14:37:31,354 - INFO - Computing checksums for file: [/data/kb_766/EyeAI_working/deriva-ml/execution/5-51CA/asset/eye-ai/Fundus_Bounding_Box/Cropped_2-DBF2.svg]. Please wait...\n",
      "2025-09-22 14:37:31,356 - INFO - Uploading file: [/data/kb_766/EyeAI_working/deriva-ml/execution/5-51CA/asset/eye-ai/Fundus_Bounding_Box/Cropped_2-DBF2.svg] to host https://www.eye-ai.org. Please wait...\n",
      "2025-09-22 14:37:31,460 - INFO - Processing: [/data/kb_766/EyeAI_working/deriva-ml/execution/5-51CA/asset/eye-ai/Fundus_Bounding_Box/Cropped_2-DBFC.svg]\n",
      "2025-09-22 14:37:31,461 - INFO - Computed metadata for: [/data/kb_766/EyeAI_working/deriva-ml/execution/5-51CA/asset/eye-ai/Fundus_Bounding_Box/Cropped_2-DBFC.svg].\n",
      "2025-09-22 14:37:31,461 - INFO - Computing checksums for file: [/data/kb_766/EyeAI_working/deriva-ml/execution/5-51CA/asset/eye-ai/Fundus_Bounding_Box/Cropped_2-DBFC.svg]. Please wait...\n",
      "2025-09-22 14:37:31,463 - INFO - Uploading file: [/data/kb_766/EyeAI_working/deriva-ml/execution/5-51CA/asset/eye-ai/Fundus_Bounding_Box/Cropped_2-DBFC.svg] to host https://www.eye-ai.org. Please wait...\n",
      "2025-09-22 14:37:31,567 - INFO - Processing: [/data/kb_766/EyeAI_working/deriva-ml/execution/5-51CA/asset/eye-ai/Fundus_Bounding_Box/Cropped_2-DBFG.svg]\n",
      "2025-09-22 14:37:31,568 - INFO - Computed metadata for: [/data/kb_766/EyeAI_working/deriva-ml/execution/5-51CA/asset/eye-ai/Fundus_Bounding_Box/Cropped_2-DBFG.svg].\n",
      "2025-09-22 14:37:31,568 - INFO - Computing checksums for file: [/data/kb_766/EyeAI_working/deriva-ml/execution/5-51CA/asset/eye-ai/Fundus_Bounding_Box/Cropped_2-DBFG.svg]. Please wait...\n",
      "2025-09-22 14:37:31,570 - INFO - Uploading file: [/data/kb_766/EyeAI_working/deriva-ml/execution/5-51CA/asset/eye-ai/Fundus_Bounding_Box/Cropped_2-DBFG.svg] to host https://www.eye-ai.org. Please wait...\n",
      "2025-09-22 14:37:31,651 - INFO - Processing: [/data/kb_766/EyeAI_working/deriva-ml/execution/5-51CA/asset/eye-ai/Fundus_Bounding_Box/Cropped_2-DBPA.svg]\n",
      "2025-09-22 14:37:31,651 - INFO - Computed metadata for: [/data/kb_766/EyeAI_working/deriva-ml/execution/5-51CA/asset/eye-ai/Fundus_Bounding_Box/Cropped_2-DBPA.svg].\n",
      "2025-09-22 14:37:31,652 - INFO - Computing checksums for file: [/data/kb_766/EyeAI_working/deriva-ml/execution/5-51CA/asset/eye-ai/Fundus_Bounding_Box/Cropped_2-DBPA.svg]. Please wait...\n",
      "2025-09-22 14:37:31,653 - INFO - Uploading file: [/data/kb_766/EyeAI_working/deriva-ml/execution/5-51CA/asset/eye-ai/Fundus_Bounding_Box/Cropped_2-DBPA.svg] to host https://www.eye-ai.org. Please wait...\n",
      "2025-09-22 14:37:31,742 - INFO - Processing: [/data/kb_766/EyeAI_working/deriva-ml/execution/5-51CA/asset/eye-ai/Fundus_Bounding_Box/Cropped_2-DBPJ.svg]\n",
      "2025-09-22 14:37:31,743 - INFO - Computed metadata for: [/data/kb_766/EyeAI_working/deriva-ml/execution/5-51CA/asset/eye-ai/Fundus_Bounding_Box/Cropped_2-DBPJ.svg].\n",
      "2025-09-22 14:37:31,743 - INFO - Computing checksums for file: [/data/kb_766/EyeAI_working/deriva-ml/execution/5-51CA/asset/eye-ai/Fundus_Bounding_Box/Cropped_2-DBPJ.svg]. Please wait...\n",
      "2025-09-22 14:37:31,745 - INFO - Uploading file: [/data/kb_766/EyeAI_working/deriva-ml/execution/5-51CA/asset/eye-ai/Fundus_Bounding_Box/Cropped_2-DBPJ.svg] to host https://www.eye-ai.org. Please wait...\n",
      "2025-09-22 14:37:31,823 - INFO - Processing: [/data/kb_766/EyeAI_working/deriva-ml/execution/5-51CA/asset/eye-ai/Fundus_Bounding_Box/Cropped_2-DBQW.svg]\n",
      "2025-09-22 14:37:31,824 - INFO - Computed metadata for: [/data/kb_766/EyeAI_working/deriva-ml/execution/5-51CA/asset/eye-ai/Fundus_Bounding_Box/Cropped_2-DBQW.svg].\n",
      "2025-09-22 14:37:31,825 - INFO - Computing checksums for file: [/data/kb_766/EyeAI_working/deriva-ml/execution/5-51CA/asset/eye-ai/Fundus_Bounding_Box/Cropped_2-DBQW.svg]. Please wait...\n",
      "2025-09-22 14:37:31,826 - INFO - Uploading file: [/data/kb_766/EyeAI_working/deriva-ml/execution/5-51CA/asset/eye-ai/Fundus_Bounding_Box/Cropped_2-DBQW.svg] to host https://www.eye-ai.org. Please wait...\n",
      "2025-09-22 14:37:31,907 - INFO - Processing: [/data/kb_766/EyeAI_working/deriva-ml/execution/5-51CA/asset/eye-ai/Fundus_Bounding_Box/Cropped_2-DBR2.svg]\n",
      "2025-09-22 14:37:31,907 - INFO - Computed metadata for: [/data/kb_766/EyeAI_working/deriva-ml/execution/5-51CA/asset/eye-ai/Fundus_Bounding_Box/Cropped_2-DBR2.svg].\n",
      "2025-09-22 14:37:31,908 - INFO - Computing checksums for file: [/data/kb_766/EyeAI_working/deriva-ml/execution/5-51CA/asset/eye-ai/Fundus_Bounding_Box/Cropped_2-DBR2.svg]. Please wait...\n",
      "2025-09-22 14:37:31,909 - INFO - Uploading file: [/data/kb_766/EyeAI_working/deriva-ml/execution/5-51CA/asset/eye-ai/Fundus_Bounding_Box/Cropped_2-DBR2.svg] to host https://www.eye-ai.org. Please wait...\n",
      "2025-09-22 14:37:31,990 - INFO - Processing: [/data/kb_766/EyeAI_working/deriva-ml/execution/5-51CA/asset/eye-ai/Fundus_Bounding_Box/Cropped_2-DBXR.svg]\n",
      "2025-09-22 14:37:31,991 - INFO - Computed metadata for: [/data/kb_766/EyeAI_working/deriva-ml/execution/5-51CA/asset/eye-ai/Fundus_Bounding_Box/Cropped_2-DBXR.svg].\n",
      "2025-09-22 14:37:31,991 - INFO - Computing checksums for file: [/data/kb_766/EyeAI_working/deriva-ml/execution/5-51CA/asset/eye-ai/Fundus_Bounding_Box/Cropped_2-DBXR.svg]. Please wait...\n",
      "2025-09-22 14:37:31,993 - INFO - Uploading file: [/data/kb_766/EyeAI_working/deriva-ml/execution/5-51CA/asset/eye-ai/Fundus_Bounding_Box/Cropped_2-DBXR.svg] to host https://www.eye-ai.org. Please wait...\n",
      "2025-09-22 14:37:32,068 - INFO - Processing: [/data/kb_766/EyeAI_working/deriva-ml/execution/5-51CA/asset/eye-ai/Fundus_Bounding_Box/Cropped_2-DBXT.svg]\n",
      "2025-09-22 14:37:32,069 - INFO - Computed metadata for: [/data/kb_766/EyeAI_working/deriva-ml/execution/5-51CA/asset/eye-ai/Fundus_Bounding_Box/Cropped_2-DBXT.svg].\n",
      "2025-09-22 14:37:32,069 - INFO - Computing checksums for file: [/data/kb_766/EyeAI_working/deriva-ml/execution/5-51CA/asset/eye-ai/Fundus_Bounding_Box/Cropped_2-DBXT.svg]. Please wait...\n",
      "2025-09-22 14:37:32,071 - INFO - Uploading file: [/data/kb_766/EyeAI_working/deriva-ml/execution/5-51CA/asset/eye-ai/Fundus_Bounding_Box/Cropped_2-DBXT.svg] to host https://www.eye-ai.org. Please wait...\n",
      "2025-09-22 14:37:32,154 - INFO - Processing: [/data/kb_766/EyeAI_working/deriva-ml/execution/5-51CA/asset/eye-ai/Fundus_Bounding_Box/Cropped_2-DBXY.svg]\n",
      "2025-09-22 14:37:32,154 - INFO - Computed metadata for: [/data/kb_766/EyeAI_working/deriva-ml/execution/5-51CA/asset/eye-ai/Fundus_Bounding_Box/Cropped_2-DBXY.svg].\n",
      "2025-09-22 14:37:32,155 - INFO - Computing checksums for file: [/data/kb_766/EyeAI_working/deriva-ml/execution/5-51CA/asset/eye-ai/Fundus_Bounding_Box/Cropped_2-DBXY.svg]. Please wait...\n",
      "2025-09-22 14:37:32,156 - INFO - Uploading file: [/data/kb_766/EyeAI_working/deriva-ml/execution/5-51CA/asset/eye-ai/Fundus_Bounding_Box/Cropped_2-DBXY.svg] to host https://www.eye-ai.org. Please wait...\n",
      "2025-09-22 14:37:32,238 - INFO - Processing: [/data/kb_766/EyeAI_working/deriva-ml/execution/5-51CA/asset/eye-ai/Fundus_Bounding_Box/Cropped_2-DBY0.svg]\n",
      "2025-09-22 14:37:32,239 - INFO - Computed metadata for: [/data/kb_766/EyeAI_working/deriva-ml/execution/5-51CA/asset/eye-ai/Fundus_Bounding_Box/Cropped_2-DBY0.svg].\n",
      "2025-09-22 14:37:32,239 - INFO - Computing checksums for file: [/data/kb_766/EyeAI_working/deriva-ml/execution/5-51CA/asset/eye-ai/Fundus_Bounding_Box/Cropped_2-DBY0.svg]. Please wait...\n",
      "2025-09-22 14:37:32,240 - INFO - Uploading file: [/data/kb_766/EyeAI_working/deriva-ml/execution/5-51CA/asset/eye-ai/Fundus_Bounding_Box/Cropped_2-DBY0.svg] to host https://www.eye-ai.org. Please wait...\n",
      "2025-09-22 14:37:32,321 - INFO - Processing: [/data/kb_766/EyeAI_working/deriva-ml/execution/5-51CA/asset/eye-ai/Fundus_Bounding_Box/Cropped_2-DC1R.svg]\n",
      "2025-09-22 14:37:32,321 - INFO - Computed metadata for: [/data/kb_766/EyeAI_working/deriva-ml/execution/5-51CA/asset/eye-ai/Fundus_Bounding_Box/Cropped_2-DC1R.svg].\n",
      "2025-09-22 14:37:32,322 - INFO - Computing checksums for file: [/data/kb_766/EyeAI_working/deriva-ml/execution/5-51CA/asset/eye-ai/Fundus_Bounding_Box/Cropped_2-DC1R.svg]. Please wait...\n",
      "2025-09-22 14:37:32,323 - INFO - Uploading file: [/data/kb_766/EyeAI_working/deriva-ml/execution/5-51CA/asset/eye-ai/Fundus_Bounding_Box/Cropped_2-DC1R.svg] to host https://www.eye-ai.org. Please wait...\n",
      "2025-09-22 14:37:32,404 - INFO - Processing: [/data/kb_766/EyeAI_working/deriva-ml/execution/5-51CA/asset/eye-ai/Fundus_Bounding_Box/Cropped_2-DC1W.svg]\n",
      "2025-09-22 14:37:32,404 - INFO - Computed metadata for: [/data/kb_766/EyeAI_working/deriva-ml/execution/5-51CA/asset/eye-ai/Fundus_Bounding_Box/Cropped_2-DC1W.svg].\n",
      "2025-09-22 14:37:32,405 - INFO - Computing checksums for file: [/data/kb_766/EyeAI_working/deriva-ml/execution/5-51CA/asset/eye-ai/Fundus_Bounding_Box/Cropped_2-DC1W.svg]. Please wait...\n",
      "2025-09-22 14:37:32,406 - INFO - Uploading file: [/data/kb_766/EyeAI_working/deriva-ml/execution/5-51CA/asset/eye-ai/Fundus_Bounding_Box/Cropped_2-DC1W.svg] to host https://www.eye-ai.org. Please wait...\n",
      "2025-09-22 14:37:32,503 - INFO - Processing: [/data/kb_766/EyeAI_working/deriva-ml/execution/5-51CA/asset/eye-ai/Fundus_Bounding_Box/Cropped_2-DC6Y.svg]\n",
      "2025-09-22 14:37:32,504 - INFO - Computed metadata for: [/data/kb_766/EyeAI_working/deriva-ml/execution/5-51CA/asset/eye-ai/Fundus_Bounding_Box/Cropped_2-DC6Y.svg].\n",
      "2025-09-22 14:37:32,504 - INFO - Computing checksums for file: [/data/kb_766/EyeAI_working/deriva-ml/execution/5-51CA/asset/eye-ai/Fundus_Bounding_Box/Cropped_2-DC6Y.svg]. Please wait...\n",
      "2025-09-22 14:37:32,506 - INFO - Uploading file: [/data/kb_766/EyeAI_working/deriva-ml/execution/5-51CA/asset/eye-ai/Fundus_Bounding_Box/Cropped_2-DC6Y.svg] to host https://www.eye-ai.org. Please wait...\n",
      "2025-09-22 14:37:32,584 - INFO - Processing: [/data/kb_766/EyeAI_working/deriva-ml/execution/5-51CA/asset/eye-ai/Fundus_Bounding_Box/Cropped_2-DC70.svg]\n",
      "2025-09-22 14:37:32,584 - INFO - Computed metadata for: [/data/kb_766/EyeAI_working/deriva-ml/execution/5-51CA/asset/eye-ai/Fundus_Bounding_Box/Cropped_2-DC70.svg].\n",
      "2025-09-22 14:37:32,585 - INFO - Computing checksums for file: [/data/kb_766/EyeAI_working/deriva-ml/execution/5-51CA/asset/eye-ai/Fundus_Bounding_Box/Cropped_2-DC70.svg]. Please wait...\n",
      "2025-09-22 14:37:32,586 - INFO - Uploading file: [/data/kb_766/EyeAI_working/deriva-ml/execution/5-51CA/asset/eye-ai/Fundus_Bounding_Box/Cropped_2-DC70.svg] to host https://www.eye-ai.org. Please wait...\n",
      "2025-09-22 14:37:32,665 - INFO - Processing: [/data/kb_766/EyeAI_working/deriva-ml/execution/5-51CA/asset/eye-ai/Fundus_Bounding_Box/Cropped_2-DC8A.svg]\n",
      "2025-09-22 14:37:32,665 - INFO - Computed metadata for: [/data/kb_766/EyeAI_working/deriva-ml/execution/5-51CA/asset/eye-ai/Fundus_Bounding_Box/Cropped_2-DC8A.svg].\n",
      "2025-09-22 14:37:32,666 - INFO - Computing checksums for file: [/data/kb_766/EyeAI_working/deriva-ml/execution/5-51CA/asset/eye-ai/Fundus_Bounding_Box/Cropped_2-DC8A.svg]. Please wait...\n",
      "2025-09-22 14:37:32,667 - INFO - Uploading file: [/data/kb_766/EyeAI_working/deriva-ml/execution/5-51CA/asset/eye-ai/Fundus_Bounding_Box/Cropped_2-DC8A.svg] to host https://www.eye-ai.org. Please wait...\n",
      "2025-09-22 14:37:32,788 - INFO - Processing: [/data/kb_766/EyeAI_working/deriva-ml/execution/5-51CA/asset/eye-ai/Fundus_Bounding_Box/Cropped_2-DC8C.svg]\n",
      "2025-09-22 14:37:32,789 - INFO - Computed metadata for: [/data/kb_766/EyeAI_working/deriva-ml/execution/5-51CA/asset/eye-ai/Fundus_Bounding_Box/Cropped_2-DC8C.svg].\n",
      "2025-09-22 14:37:32,790 - INFO - Computing checksums for file: [/data/kb_766/EyeAI_working/deriva-ml/execution/5-51CA/asset/eye-ai/Fundus_Bounding_Box/Cropped_2-DC8C.svg]. Please wait...\n",
      "2025-09-22 14:37:32,791 - INFO - Uploading file: [/data/kb_766/EyeAI_working/deriva-ml/execution/5-51CA/asset/eye-ai/Fundus_Bounding_Box/Cropped_2-DC8C.svg] to host https://www.eye-ai.org. Please wait...\n",
      "2025-09-22 14:37:32,879 - INFO - Processing: [/data/kb_766/EyeAI_working/deriva-ml/execution/5-51CA/asset/eye-ai/Fundus_Bounding_Box/Cropped_2-DCE0.svg]\n",
      "2025-09-22 14:37:32,880 - INFO - Computed metadata for: [/data/kb_766/EyeAI_working/deriva-ml/execution/5-51CA/asset/eye-ai/Fundus_Bounding_Box/Cropped_2-DCE0.svg].\n",
      "2025-09-22 14:37:32,880 - INFO - Computing checksums for file: [/data/kb_766/EyeAI_working/deriva-ml/execution/5-51CA/asset/eye-ai/Fundus_Bounding_Box/Cropped_2-DCE0.svg]. Please wait...\n",
      "2025-09-22 14:37:32,881 - INFO - Uploading file: [/data/kb_766/EyeAI_working/deriva-ml/execution/5-51CA/asset/eye-ai/Fundus_Bounding_Box/Cropped_2-DCE0.svg] to host https://www.eye-ai.org. Please wait...\n",
      "2025-09-22 14:37:32,964 - INFO - Processing: [/data/kb_766/EyeAI_working/deriva-ml/execution/5-51CA/asset/eye-ai/Fundus_Bounding_Box/Cropped_2-DCE6.svg]\n",
      "2025-09-22 14:37:32,964 - INFO - Computed metadata for: [/data/kb_766/EyeAI_working/deriva-ml/execution/5-51CA/asset/eye-ai/Fundus_Bounding_Box/Cropped_2-DCE6.svg].\n",
      "2025-09-22 14:37:32,965 - INFO - Computing checksums for file: [/data/kb_766/EyeAI_working/deriva-ml/execution/5-51CA/asset/eye-ai/Fundus_Bounding_Box/Cropped_2-DCE6.svg]. Please wait...\n",
      "2025-09-22 14:37:32,966 - INFO - Uploading file: [/data/kb_766/EyeAI_working/deriva-ml/execution/5-51CA/asset/eye-ai/Fundus_Bounding_Box/Cropped_2-DCE6.svg] to host https://www.eye-ai.org. Please wait...\n",
      "2025-09-22 14:37:33,048 - INFO - Processing: [/data/kb_766/EyeAI_working/deriva-ml/execution/5-51CA/asset/eye-ai/Fundus_Bounding_Box/Cropped_2-DCKR.svg]\n",
      "2025-09-22 14:37:33,049 - INFO - Computed metadata for: [/data/kb_766/EyeAI_working/deriva-ml/execution/5-51CA/asset/eye-ai/Fundus_Bounding_Box/Cropped_2-DCKR.svg].\n",
      "2025-09-22 14:37:33,050 - INFO - Computing checksums for file: [/data/kb_766/EyeAI_working/deriva-ml/execution/5-51CA/asset/eye-ai/Fundus_Bounding_Box/Cropped_2-DCKR.svg]. Please wait...\n",
      "2025-09-22 14:37:33,051 - INFO - Uploading file: [/data/kb_766/EyeAI_working/deriva-ml/execution/5-51CA/asset/eye-ai/Fundus_Bounding_Box/Cropped_2-DCKR.svg] to host https://www.eye-ai.org. Please wait...\n",
      "2025-09-22 14:37:33,129 - INFO - Processing: [/data/kb_766/EyeAI_working/deriva-ml/execution/5-51CA/asset/eye-ai/Fundus_Bounding_Box/Cropped_2-DCKY.svg]\n",
      "2025-09-22 14:37:33,130 - INFO - Computed metadata for: [/data/kb_766/EyeAI_working/deriva-ml/execution/5-51CA/asset/eye-ai/Fundus_Bounding_Box/Cropped_2-DCKY.svg].\n",
      "2025-09-22 14:37:33,131 - INFO - Computing checksums for file: [/data/kb_766/EyeAI_working/deriva-ml/execution/5-51CA/asset/eye-ai/Fundus_Bounding_Box/Cropped_2-DCKY.svg]. Please wait...\n",
      "2025-09-22 14:37:33,132 - INFO - Uploading file: [/data/kb_766/EyeAI_working/deriva-ml/execution/5-51CA/asset/eye-ai/Fundus_Bounding_Box/Cropped_2-DCKY.svg] to host https://www.eye-ai.org. Please wait...\n",
      "2025-09-22 14:37:33,216 - INFO - Processing: [/data/kb_766/EyeAI_working/deriva-ml/execution/5-51CA/asset/eye-ai/Fundus_Bounding_Box/Cropped_2-DCN0.svg]\n",
      "2025-09-22 14:37:33,216 - INFO - Computed metadata for: [/data/kb_766/EyeAI_working/deriva-ml/execution/5-51CA/asset/eye-ai/Fundus_Bounding_Box/Cropped_2-DCN0.svg].\n",
      "2025-09-22 14:37:33,217 - INFO - Computing checksums for file: [/data/kb_766/EyeAI_working/deriva-ml/execution/5-51CA/asset/eye-ai/Fundus_Bounding_Box/Cropped_2-DCN0.svg]. Please wait...\n",
      "2025-09-22 14:37:33,218 - INFO - Uploading file: [/data/kb_766/EyeAI_working/deriva-ml/execution/5-51CA/asset/eye-ai/Fundus_Bounding_Box/Cropped_2-DCN0.svg] to host https://www.eye-ai.org. Please wait...\n",
      "2025-09-22 14:37:33,300 - INFO - Processing: [/data/kb_766/EyeAI_working/deriva-ml/execution/5-51CA/asset/eye-ai/Fundus_Bounding_Box/Cropped_2-DCN2.svg]\n",
      "2025-09-22 14:37:33,300 - INFO - Computed metadata for: [/data/kb_766/EyeAI_working/deriva-ml/execution/5-51CA/asset/eye-ai/Fundus_Bounding_Box/Cropped_2-DCN2.svg].\n",
      "2025-09-22 14:37:33,301 - INFO - Computing checksums for file: [/data/kb_766/EyeAI_working/deriva-ml/execution/5-51CA/asset/eye-ai/Fundus_Bounding_Box/Cropped_2-DCN2.svg]. Please wait...\n",
      "2025-09-22 14:37:33,302 - INFO - Uploading file: [/data/kb_766/EyeAI_working/deriva-ml/execution/5-51CA/asset/eye-ai/Fundus_Bounding_Box/Cropped_2-DCN2.svg] to host https://www.eye-ai.org. Please wait...\n",
      "2025-09-22 14:37:33,380 - INFO - Processing: [/data/kb_766/EyeAI_working/deriva-ml/execution/5-51CA/asset/eye-ai/Fundus_Bounding_Box/Cropped_2-DCPP.svg]\n",
      "2025-09-22 14:37:33,381 - INFO - Computed metadata for: [/data/kb_766/EyeAI_working/deriva-ml/execution/5-51CA/asset/eye-ai/Fundus_Bounding_Box/Cropped_2-DCPP.svg].\n",
      "2025-09-22 14:37:33,382 - INFO - Computing checksums for file: [/data/kb_766/EyeAI_working/deriva-ml/execution/5-51CA/asset/eye-ai/Fundus_Bounding_Box/Cropped_2-DCPP.svg]. Please wait...\n",
      "2025-09-22 14:37:33,383 - INFO - Uploading file: [/data/kb_766/EyeAI_working/deriva-ml/execution/5-51CA/asset/eye-ai/Fundus_Bounding_Box/Cropped_2-DCPP.svg] to host https://www.eye-ai.org. Please wait...\n",
      "2025-09-22 14:37:33,461 - INFO - Processing: [/data/kb_766/EyeAI_working/deriva-ml/execution/5-51CA/asset/eye-ai/Fundus_Bounding_Box/Cropped_2-DCPW.svg]\n",
      "2025-09-22 14:37:33,461 - INFO - Computed metadata for: [/data/kb_766/EyeAI_working/deriva-ml/execution/5-51CA/asset/eye-ai/Fundus_Bounding_Box/Cropped_2-DCPW.svg].\n",
      "2025-09-22 14:37:33,462 - INFO - Computing checksums for file: [/data/kb_766/EyeAI_working/deriva-ml/execution/5-51CA/asset/eye-ai/Fundus_Bounding_Box/Cropped_2-DCPW.svg]. Please wait...\n",
      "2025-09-22 14:37:33,463 - INFO - Uploading file: [/data/kb_766/EyeAI_working/deriva-ml/execution/5-51CA/asset/eye-ai/Fundus_Bounding_Box/Cropped_2-DCPW.svg] to host https://www.eye-ai.org. Please wait...\n",
      "2025-09-22 14:37:33,576 - INFO - Processing: [/data/kb_766/EyeAI_working/deriva-ml/execution/5-51CA/asset/eye-ai/Fundus_Bounding_Box/Cropped_2-DCS8.svg]\n",
      "2025-09-22 14:37:33,577 - INFO - Computed metadata for: [/data/kb_766/EyeAI_working/deriva-ml/execution/5-51CA/asset/eye-ai/Fundus_Bounding_Box/Cropped_2-DCS8.svg].\n",
      "2025-09-22 14:37:33,577 - INFO - Computing checksums for file: [/data/kb_766/EyeAI_working/deriva-ml/execution/5-51CA/asset/eye-ai/Fundus_Bounding_Box/Cropped_2-DCS8.svg]. Please wait...\n",
      "2025-09-22 14:37:33,579 - INFO - Uploading file: [/data/kb_766/EyeAI_working/deriva-ml/execution/5-51CA/asset/eye-ai/Fundus_Bounding_Box/Cropped_2-DCS8.svg] to host https://www.eye-ai.org. Please wait...\n",
      "2025-09-22 14:37:33,661 - INFO - Processing: [/data/kb_766/EyeAI_working/deriva-ml/execution/5-51CA/asset/eye-ai/Fundus_Bounding_Box/Cropped_2-DCSE.svg]\n",
      "2025-09-22 14:37:33,662 - INFO - Computed metadata for: [/data/kb_766/EyeAI_working/deriva-ml/execution/5-51CA/asset/eye-ai/Fundus_Bounding_Box/Cropped_2-DCSE.svg].\n",
      "2025-09-22 14:37:33,662 - INFO - Computing checksums for file: [/data/kb_766/EyeAI_working/deriva-ml/execution/5-51CA/asset/eye-ai/Fundus_Bounding_Box/Cropped_2-DCSE.svg]. Please wait...\n",
      "2025-09-22 14:37:33,664 - INFO - Uploading file: [/data/kb_766/EyeAI_working/deriva-ml/execution/5-51CA/asset/eye-ai/Fundus_Bounding_Box/Cropped_2-DCSE.svg] to host https://www.eye-ai.org. Please wait...\n",
      "2025-09-22 14:37:33,743 - INFO - Processing: [/data/kb_766/EyeAI_working/deriva-ml/execution/5-51CA/asset/eye-ai/Fundus_Bounding_Box/Cropped_2-DCSM.svg]\n",
      "2025-09-22 14:37:33,743 - INFO - Computed metadata for: [/data/kb_766/EyeAI_working/deriva-ml/execution/5-51CA/asset/eye-ai/Fundus_Bounding_Box/Cropped_2-DCSM.svg].\n",
      "2025-09-22 14:37:33,744 - INFO - Computing checksums for file: [/data/kb_766/EyeAI_working/deriva-ml/execution/5-51CA/asset/eye-ai/Fundus_Bounding_Box/Cropped_2-DCSM.svg]. Please wait...\n",
      "2025-09-22 14:37:33,745 - INFO - Uploading file: [/data/kb_766/EyeAI_working/deriva-ml/execution/5-51CA/asset/eye-ai/Fundus_Bounding_Box/Cropped_2-DCSM.svg] to host https://www.eye-ai.org. Please wait...\n",
      "2025-09-22 14:37:33,834 - INFO - Processing: [/data/kb_766/EyeAI_working/deriva-ml/execution/5-51CA/asset/eye-ai/Fundus_Bounding_Box/Cropped_2-DCSP.svg]\n",
      "2025-09-22 14:37:33,835 - INFO - Computed metadata for: [/data/kb_766/EyeAI_working/deriva-ml/execution/5-51CA/asset/eye-ai/Fundus_Bounding_Box/Cropped_2-DCSP.svg].\n",
      "2025-09-22 14:37:33,835 - INFO - Computing checksums for file: [/data/kb_766/EyeAI_working/deriva-ml/execution/5-51CA/asset/eye-ai/Fundus_Bounding_Box/Cropped_2-DCSP.svg]. Please wait...\n",
      "2025-09-22 14:37:33,837 - INFO - Uploading file: [/data/kb_766/EyeAI_working/deriva-ml/execution/5-51CA/asset/eye-ai/Fundus_Bounding_Box/Cropped_2-DCSP.svg] to host https://www.eye-ai.org. Please wait...\n",
      "2025-09-22 14:37:33,925 - INFO - Processing: [/data/kb_766/EyeAI_working/deriva-ml/execution/5-51CA/asset/eye-ai/Fundus_Bounding_Box/Cropped_2-DCW6.svg]\n",
      "2025-09-22 14:37:33,925 - INFO - Computed metadata for: [/data/kb_766/EyeAI_working/deriva-ml/execution/5-51CA/asset/eye-ai/Fundus_Bounding_Box/Cropped_2-DCW6.svg].\n",
      "2025-09-22 14:37:33,927 - INFO - Computing checksums for file: [/data/kb_766/EyeAI_working/deriva-ml/execution/5-51CA/asset/eye-ai/Fundus_Bounding_Box/Cropped_2-DCW6.svg]. Please wait...\n",
      "2025-09-22 14:37:33,928 - INFO - Uploading file: [/data/kb_766/EyeAI_working/deriva-ml/execution/5-51CA/asset/eye-ai/Fundus_Bounding_Box/Cropped_2-DCW6.svg] to host https://www.eye-ai.org. Please wait...\n",
      "2025-09-22 14:37:34,013 - INFO - Processing: [/data/kb_766/EyeAI_working/deriva-ml/execution/5-51CA/asset/eye-ai/Fundus_Bounding_Box/Cropped_2-DCW8.svg]\n",
      "2025-09-22 14:37:34,014 - INFO - Computed metadata for: [/data/kb_766/EyeAI_working/deriva-ml/execution/5-51CA/asset/eye-ai/Fundus_Bounding_Box/Cropped_2-DCW8.svg].\n",
      "2025-09-22 14:37:34,014 - INFO - Computing checksums for file: [/data/kb_766/EyeAI_working/deriva-ml/execution/5-51CA/asset/eye-ai/Fundus_Bounding_Box/Cropped_2-DCW8.svg]. Please wait...\n",
      "2025-09-22 14:37:34,016 - INFO - Uploading file: [/data/kb_766/EyeAI_working/deriva-ml/execution/5-51CA/asset/eye-ai/Fundus_Bounding_Box/Cropped_2-DCW8.svg] to host https://www.eye-ai.org. Please wait...\n",
      "2025-09-22 14:37:34,125 - INFO - Processing: [/data/kb_766/EyeAI_working/deriva-ml/execution/5-51CA/asset/eye-ai/Fundus_Bounding_Box/Cropped_2-DCXW.svg]\n",
      "2025-09-22 14:37:34,126 - INFO - Computed metadata for: [/data/kb_766/EyeAI_working/deriva-ml/execution/5-51CA/asset/eye-ai/Fundus_Bounding_Box/Cropped_2-DCXW.svg].\n",
      "2025-09-22 14:37:34,127 - INFO - Computing checksums for file: [/data/kb_766/EyeAI_working/deriva-ml/execution/5-51CA/asset/eye-ai/Fundus_Bounding_Box/Cropped_2-DCXW.svg]. Please wait...\n",
      "2025-09-22 14:37:34,128 - INFO - Uploading file: [/data/kb_766/EyeAI_working/deriva-ml/execution/5-51CA/asset/eye-ai/Fundus_Bounding_Box/Cropped_2-DCXW.svg] to host https://www.eye-ai.org. Please wait...\n",
      "2025-09-22 14:37:34,236 - INFO - Processing: [/data/kb_766/EyeAI_working/deriva-ml/execution/5-51CA/asset/eye-ai/Fundus_Bounding_Box/Cropped_2-DCXY.svg]\n",
      "2025-09-22 14:37:34,236 - INFO - Computed metadata for: [/data/kb_766/EyeAI_working/deriva-ml/execution/5-51CA/asset/eye-ai/Fundus_Bounding_Box/Cropped_2-DCXY.svg].\n",
      "2025-09-22 14:37:34,237 - INFO - Computing checksums for file: [/data/kb_766/EyeAI_working/deriva-ml/execution/5-51CA/asset/eye-ai/Fundus_Bounding_Box/Cropped_2-DCXY.svg]. Please wait...\n",
      "2025-09-22 14:37:34,238 - INFO - Uploading file: [/data/kb_766/EyeAI_working/deriva-ml/execution/5-51CA/asset/eye-ai/Fundus_Bounding_Box/Cropped_2-DCXY.svg] to host https://www.eye-ai.org. Please wait...\n",
      "2025-09-22 14:37:34,317 - INFO - Processing: [/data/kb_766/EyeAI_working/deriva-ml/execution/5-51CA/asset/eye-ai/Fundus_Bounding_Box/Cropped_2-DD54.svg]\n",
      "2025-09-22 14:37:34,318 - INFO - Computed metadata for: [/data/kb_766/EyeAI_working/deriva-ml/execution/5-51CA/asset/eye-ai/Fundus_Bounding_Box/Cropped_2-DD54.svg].\n",
      "2025-09-22 14:37:34,319 - INFO - Computing checksums for file: [/data/kb_766/EyeAI_working/deriva-ml/execution/5-51CA/asset/eye-ai/Fundus_Bounding_Box/Cropped_2-DD54.svg]. Please wait...\n",
      "2025-09-22 14:37:34,320 - INFO - Uploading file: [/data/kb_766/EyeAI_working/deriva-ml/execution/5-51CA/asset/eye-ai/Fundus_Bounding_Box/Cropped_2-DD54.svg] to host https://www.eye-ai.org. Please wait...\n",
      "2025-09-22 14:37:34,401 - INFO - Processing: [/data/kb_766/EyeAI_working/deriva-ml/execution/5-51CA/asset/eye-ai/Fundus_Bounding_Box/Cropped_2-DD6W.svg]\n",
      "2025-09-22 14:37:34,402 - INFO - Computed metadata for: [/data/kb_766/EyeAI_working/deriva-ml/execution/5-51CA/asset/eye-ai/Fundus_Bounding_Box/Cropped_2-DD6W.svg].\n",
      "2025-09-22 14:37:34,403 - INFO - Computing checksums for file: [/data/kb_766/EyeAI_working/deriva-ml/execution/5-51CA/asset/eye-ai/Fundus_Bounding_Box/Cropped_2-DD6W.svg]. Please wait...\n",
      "2025-09-22 14:37:34,404 - INFO - Uploading file: [/data/kb_766/EyeAI_working/deriva-ml/execution/5-51CA/asset/eye-ai/Fundus_Bounding_Box/Cropped_2-DD6W.svg] to host https://www.eye-ai.org. Please wait...\n",
      "2025-09-22 14:37:34,489 - INFO - Processing: [/data/kb_766/EyeAI_working/deriva-ml/execution/5-51CA/asset/eye-ai/Fundus_Bounding_Box/Cropped_2-DD70.svg]\n",
      "2025-09-22 14:37:34,490 - INFO - Computed metadata for: [/data/kb_766/EyeAI_working/deriva-ml/execution/5-51CA/asset/eye-ai/Fundus_Bounding_Box/Cropped_2-DD70.svg].\n",
      "2025-09-22 14:37:34,490 - INFO - Computing checksums for file: [/data/kb_766/EyeAI_working/deriva-ml/execution/5-51CA/asset/eye-ai/Fundus_Bounding_Box/Cropped_2-DD70.svg]. Please wait...\n",
      "2025-09-22 14:37:34,491 - INFO - Uploading file: [/data/kb_766/EyeAI_working/deriva-ml/execution/5-51CA/asset/eye-ai/Fundus_Bounding_Box/Cropped_2-DD70.svg] to host https://www.eye-ai.org. Please wait...\n",
      "2025-09-22 14:37:34,570 - INFO - Processing: [/data/kb_766/EyeAI_working/deriva-ml/execution/5-51CA/asset/eye-ai/Fundus_Bounding_Box/Cropped_2-DDAA.svg]\n",
      "2025-09-22 14:37:34,571 - INFO - Computed metadata for: [/data/kb_766/EyeAI_working/deriva-ml/execution/5-51CA/asset/eye-ai/Fundus_Bounding_Box/Cropped_2-DDAA.svg].\n",
      "2025-09-22 14:37:34,572 - INFO - Computing checksums for file: [/data/kb_766/EyeAI_working/deriva-ml/execution/5-51CA/asset/eye-ai/Fundus_Bounding_Box/Cropped_2-DDAA.svg]. Please wait...\n",
      "2025-09-22 14:37:34,573 - INFO - Uploading file: [/data/kb_766/EyeAI_working/deriva-ml/execution/5-51CA/asset/eye-ai/Fundus_Bounding_Box/Cropped_2-DDAA.svg] to host https://www.eye-ai.org. Please wait...\n",
      "2025-09-22 14:37:34,683 - INFO - Processing: [/data/kb_766/EyeAI_working/deriva-ml/execution/5-51CA/asset/eye-ai/Fundus_Bounding_Box/Cropped_2-DDAG.svg]\n",
      "2025-09-22 14:37:34,683 - INFO - Computed metadata for: [/data/kb_766/EyeAI_working/deriva-ml/execution/5-51CA/asset/eye-ai/Fundus_Bounding_Box/Cropped_2-DDAG.svg].\n",
      "2025-09-22 14:37:34,684 - INFO - Computing checksums for file: [/data/kb_766/EyeAI_working/deriva-ml/execution/5-51CA/asset/eye-ai/Fundus_Bounding_Box/Cropped_2-DDAG.svg]. Please wait...\n",
      "2025-09-22 14:37:34,685 - INFO - Uploading file: [/data/kb_766/EyeAI_working/deriva-ml/execution/5-51CA/asset/eye-ai/Fundus_Bounding_Box/Cropped_2-DDAG.svg] to host https://www.eye-ai.org. Please wait...\n",
      "2025-09-22 14:37:34,771 - INFO - Processing: [/data/kb_766/EyeAI_working/deriva-ml/execution/5-51CA/asset/eye-ai/Fundus_Bounding_Box/Cropped_2-DDHJ.svg]\n",
      "2025-09-22 14:37:34,772 - INFO - Computed metadata for: [/data/kb_766/EyeAI_working/deriva-ml/execution/5-51CA/asset/eye-ai/Fundus_Bounding_Box/Cropped_2-DDHJ.svg].\n",
      "2025-09-22 14:37:34,772 - INFO - Computing checksums for file: [/data/kb_766/EyeAI_working/deriva-ml/execution/5-51CA/asset/eye-ai/Fundus_Bounding_Box/Cropped_2-DDHJ.svg]. Please wait...\n",
      "2025-09-22 14:37:34,773 - INFO - Uploading file: [/data/kb_766/EyeAI_working/deriva-ml/execution/5-51CA/asset/eye-ai/Fundus_Bounding_Box/Cropped_2-DDHJ.svg] to host https://www.eye-ai.org. Please wait...\n",
      "2025-09-22 14:37:34,862 - INFO - Processing: [/data/kb_766/EyeAI_working/deriva-ml/execution/5-51CA/asset/eye-ai/Fundus_Bounding_Box/Cropped_2-DDHP.svg]\n",
      "2025-09-22 14:37:34,863 - INFO - Computed metadata for: [/data/kb_766/EyeAI_working/deriva-ml/execution/5-51CA/asset/eye-ai/Fundus_Bounding_Box/Cropped_2-DDHP.svg].\n",
      "2025-09-22 14:37:34,863 - INFO - Computing checksums for file: [/data/kb_766/EyeAI_working/deriva-ml/execution/5-51CA/asset/eye-ai/Fundus_Bounding_Box/Cropped_2-DDHP.svg]. Please wait...\n",
      "2025-09-22 14:37:34,864 - INFO - Uploading file: [/data/kb_766/EyeAI_working/deriva-ml/execution/5-51CA/asset/eye-ai/Fundus_Bounding_Box/Cropped_2-DDHP.svg] to host https://www.eye-ai.org. Please wait...\n",
      "2025-09-22 14:37:34,949 - INFO - Processing: [/data/kb_766/EyeAI_working/deriva-ml/execution/5-51CA/asset/eye-ai/Fundus_Bounding_Box/Cropped_2-DDHW.svg]\n",
      "2025-09-22 14:37:34,950 - INFO - Computed metadata for: [/data/kb_766/EyeAI_working/deriva-ml/execution/5-51CA/asset/eye-ai/Fundus_Bounding_Box/Cropped_2-DDHW.svg].\n",
      "2025-09-22 14:37:34,951 - INFO - Computing checksums for file: [/data/kb_766/EyeAI_working/deriva-ml/execution/5-51CA/asset/eye-ai/Fundus_Bounding_Box/Cropped_2-DDHW.svg]. Please wait...\n",
      "2025-09-22 14:37:34,952 - INFO - Uploading file: [/data/kb_766/EyeAI_working/deriva-ml/execution/5-51CA/asset/eye-ai/Fundus_Bounding_Box/Cropped_2-DDHW.svg] to host https://www.eye-ai.org. Please wait...\n",
      "2025-09-22 14:37:35,033 - INFO - Processing: [/data/kb_766/EyeAI_working/deriva-ml/execution/5-51CA/asset/eye-ai/Fundus_Bounding_Box/Cropped_2-DDKA.svg]\n",
      "2025-09-22 14:37:35,034 - INFO - Computed metadata for: [/data/kb_766/EyeAI_working/deriva-ml/execution/5-51CA/asset/eye-ai/Fundus_Bounding_Box/Cropped_2-DDKA.svg].\n",
      "2025-09-22 14:37:35,034 - INFO - Computing checksums for file: [/data/kb_766/EyeAI_working/deriva-ml/execution/5-51CA/asset/eye-ai/Fundus_Bounding_Box/Cropped_2-DDKA.svg]. Please wait...\n",
      "2025-09-22 14:37:35,036 - INFO - Uploading file: [/data/kb_766/EyeAI_working/deriva-ml/execution/5-51CA/asset/eye-ai/Fundus_Bounding_Box/Cropped_2-DDKA.svg] to host https://www.eye-ai.org. Please wait...\n",
      "2025-09-22 14:37:35,119 - INFO - Processing: [/data/kb_766/EyeAI_working/deriva-ml/execution/5-51CA/asset/eye-ai/Fundus_Bounding_Box/Cropped_2-DDKC.svg]\n",
      "2025-09-22 14:37:35,120 - INFO - Computed metadata for: [/data/kb_766/EyeAI_working/deriva-ml/execution/5-51CA/asset/eye-ai/Fundus_Bounding_Box/Cropped_2-DDKC.svg].\n",
      "2025-09-22 14:37:35,120 - INFO - Computing checksums for file: [/data/kb_766/EyeAI_working/deriva-ml/execution/5-51CA/asset/eye-ai/Fundus_Bounding_Box/Cropped_2-DDKC.svg]. Please wait...\n",
      "2025-09-22 14:37:35,121 - INFO - Uploading file: [/data/kb_766/EyeAI_working/deriva-ml/execution/5-51CA/asset/eye-ai/Fundus_Bounding_Box/Cropped_2-DDKC.svg] to host https://www.eye-ai.org. Please wait...\n",
      "2025-09-22 14:37:35,203 - INFO - Processing: [/data/kb_766/EyeAI_working/deriva-ml/execution/5-51CA/asset/eye-ai/Fundus_Bounding_Box/Cropped_2-DDR4.svg]\n",
      "2025-09-22 14:37:35,204 - INFO - Computed metadata for: [/data/kb_766/EyeAI_working/deriva-ml/execution/5-51CA/asset/eye-ai/Fundus_Bounding_Box/Cropped_2-DDR4.svg].\n",
      "2025-09-22 14:37:35,205 - INFO - Computing checksums for file: [/data/kb_766/EyeAI_working/deriva-ml/execution/5-51CA/asset/eye-ai/Fundus_Bounding_Box/Cropped_2-DDR4.svg]. Please wait...\n",
      "2025-09-22 14:37:35,206 - INFO - Uploading file: [/data/kb_766/EyeAI_working/deriva-ml/execution/5-51CA/asset/eye-ai/Fundus_Bounding_Box/Cropped_2-DDR4.svg] to host https://www.eye-ai.org. Please wait...\n",
      "2025-09-22 14:37:35,284 - INFO - Processing: [/data/kb_766/EyeAI_working/deriva-ml/execution/5-51CA/asset/eye-ai/Fundus_Bounding_Box/Cropped_2-DDRA.svg]\n",
      "2025-09-22 14:37:35,285 - INFO - Computed metadata for: [/data/kb_766/EyeAI_working/deriva-ml/execution/5-51CA/asset/eye-ai/Fundus_Bounding_Box/Cropped_2-DDRA.svg].\n",
      "2025-09-22 14:37:35,286 - INFO - Computing checksums for file: [/data/kb_766/EyeAI_working/deriva-ml/execution/5-51CA/asset/eye-ai/Fundus_Bounding_Box/Cropped_2-DDRA.svg]. Please wait...\n",
      "2025-09-22 14:37:35,287 - INFO - Uploading file: [/data/kb_766/EyeAI_working/deriva-ml/execution/5-51CA/asset/eye-ai/Fundus_Bounding_Box/Cropped_2-DDRA.svg] to host https://www.eye-ai.org. Please wait...\n",
      "2025-09-22 14:37:35,364 - INFO - Processing: [/data/kb_766/EyeAI_working/deriva-ml/execution/5-51CA/asset/eye-ai/Fundus_Bounding_Box/Cropped_2-DE94.svg]\n",
      "2025-09-22 14:37:35,365 - INFO - Computed metadata for: [/data/kb_766/EyeAI_working/deriva-ml/execution/5-51CA/asset/eye-ai/Fundus_Bounding_Box/Cropped_2-DE94.svg].\n",
      "2025-09-22 14:37:35,366 - INFO - Computing checksums for file: [/data/kb_766/EyeAI_working/deriva-ml/execution/5-51CA/asset/eye-ai/Fundus_Bounding_Box/Cropped_2-DE94.svg]. Please wait...\n",
      "2025-09-22 14:37:35,367 - INFO - Uploading file: [/data/kb_766/EyeAI_working/deriva-ml/execution/5-51CA/asset/eye-ai/Fundus_Bounding_Box/Cropped_2-DE94.svg] to host https://www.eye-ai.org. Please wait...\n",
      "2025-09-22 14:37:35,451 - INFO - Processing: [/data/kb_766/EyeAI_working/deriva-ml/execution/5-51CA/asset/eye-ai/Fundus_Bounding_Box/Cropped_2-DE96.svg]\n",
      "2025-09-22 14:37:35,452 - INFO - Computed metadata for: [/data/kb_766/EyeAI_working/deriva-ml/execution/5-51CA/asset/eye-ai/Fundus_Bounding_Box/Cropped_2-DE96.svg].\n",
      "2025-09-22 14:37:35,452 - INFO - Computing checksums for file: [/data/kb_766/EyeAI_working/deriva-ml/execution/5-51CA/asset/eye-ai/Fundus_Bounding_Box/Cropped_2-DE96.svg]. Please wait...\n",
      "2025-09-22 14:37:35,453 - INFO - Uploading file: [/data/kb_766/EyeAI_working/deriva-ml/execution/5-51CA/asset/eye-ai/Fundus_Bounding_Box/Cropped_2-DE96.svg] to host https://www.eye-ai.org. Please wait...\n",
      "2025-09-22 14:37:35,533 - INFO - Processing: [/data/kb_766/EyeAI_working/deriva-ml/execution/5-51CA/asset/eye-ai/Fundus_Bounding_Box/Cropped_2-DEDR.svg]\n",
      "2025-09-22 14:37:35,534 - INFO - Computed metadata for: [/data/kb_766/EyeAI_working/deriva-ml/execution/5-51CA/asset/eye-ai/Fundus_Bounding_Box/Cropped_2-DEDR.svg].\n",
      "2025-09-22 14:37:35,534 - INFO - Computing checksums for file: [/data/kb_766/EyeAI_working/deriva-ml/execution/5-51CA/asset/eye-ai/Fundus_Bounding_Box/Cropped_2-DEDR.svg]. Please wait...\n",
      "2025-09-22 14:37:35,535 - INFO - Uploading file: [/data/kb_766/EyeAI_working/deriva-ml/execution/5-51CA/asset/eye-ai/Fundus_Bounding_Box/Cropped_2-DEDR.svg] to host https://www.eye-ai.org. Please wait...\n",
      "2025-09-22 14:37:35,625 - INFO - Processing: [/data/kb_766/EyeAI_working/deriva-ml/execution/5-51CA/asset/eye-ai/Fundus_Bounding_Box/Cropped_2-DEDW.svg]\n",
      "2025-09-22 14:37:35,626 - INFO - Computed metadata for: [/data/kb_766/EyeAI_working/deriva-ml/execution/5-51CA/asset/eye-ai/Fundus_Bounding_Box/Cropped_2-DEDW.svg].\n",
      "2025-09-22 14:37:35,626 - INFO - Computing checksums for file: [/data/kb_766/EyeAI_working/deriva-ml/execution/5-51CA/asset/eye-ai/Fundus_Bounding_Box/Cropped_2-DEDW.svg]. Please wait...\n",
      "2025-09-22 14:37:35,628 - INFO - Uploading file: [/data/kb_766/EyeAI_working/deriva-ml/execution/5-51CA/asset/eye-ai/Fundus_Bounding_Box/Cropped_2-DEDW.svg] to host https://www.eye-ai.org. Please wait...\n",
      "2025-09-22 14:37:35,707 - INFO - Processing: [/data/kb_766/EyeAI_working/deriva-ml/execution/5-51CA/asset/eye-ai/Fundus_Bounding_Box/Cropped_2-DEFM.svg]\n",
      "2025-09-22 14:37:35,708 - INFO - Computed metadata for: [/data/kb_766/EyeAI_working/deriva-ml/execution/5-51CA/asset/eye-ai/Fundus_Bounding_Box/Cropped_2-DEFM.svg].\n",
      "2025-09-22 14:37:35,708 - INFO - Computing checksums for file: [/data/kb_766/EyeAI_working/deriva-ml/execution/5-51CA/asset/eye-ai/Fundus_Bounding_Box/Cropped_2-DEFM.svg]. Please wait...\n",
      "2025-09-22 14:37:35,710 - INFO - Uploading file: [/data/kb_766/EyeAI_working/deriva-ml/execution/5-51CA/asset/eye-ai/Fundus_Bounding_Box/Cropped_2-DEFM.svg] to host https://www.eye-ai.org. Please wait...\n",
      "2025-09-22 14:37:35,797 - INFO - Processing: [/data/kb_766/EyeAI_working/deriva-ml/execution/5-51CA/asset/eye-ai/Fundus_Bounding_Box/Cropped_2-DEFP.svg]\n",
      "2025-09-22 14:37:35,798 - INFO - Computed metadata for: [/data/kb_766/EyeAI_working/deriva-ml/execution/5-51CA/asset/eye-ai/Fundus_Bounding_Box/Cropped_2-DEFP.svg].\n",
      "2025-09-22 14:37:35,799 - INFO - Computing checksums for file: [/data/kb_766/EyeAI_working/deriva-ml/execution/5-51CA/asset/eye-ai/Fundus_Bounding_Box/Cropped_2-DEFP.svg]. Please wait...\n",
      "2025-09-22 14:37:35,800 - INFO - Uploading file: [/data/kb_766/EyeAI_working/deriva-ml/execution/5-51CA/asset/eye-ai/Fundus_Bounding_Box/Cropped_2-DEFP.svg] to host https://www.eye-ai.org. Please wait...\n",
      "2025-09-22 14:37:35,929 - INFO - Processing: [/data/kb_766/EyeAI_working/deriva-ml/execution/5-51CA/asset/eye-ai/Fundus_Bounding_Box/Cropped_2-DEK8.svg]\n",
      "2025-09-22 14:37:35,930 - INFO - Computed metadata for: [/data/kb_766/EyeAI_working/deriva-ml/execution/5-51CA/asset/eye-ai/Fundus_Bounding_Box/Cropped_2-DEK8.svg].\n",
      "2025-09-22 14:37:35,931 - INFO - Computing checksums for file: [/data/kb_766/EyeAI_working/deriva-ml/execution/5-51CA/asset/eye-ai/Fundus_Bounding_Box/Cropped_2-DEK8.svg]. Please wait...\n",
      "2025-09-22 14:37:35,932 - INFO - Uploading file: [/data/kb_766/EyeAI_working/deriva-ml/execution/5-51CA/asset/eye-ai/Fundus_Bounding_Box/Cropped_2-DEK8.svg] to host https://www.eye-ai.org. Please wait...\n",
      "2025-09-22 14:37:36,052 - INFO - Processing: [/data/kb_766/EyeAI_working/deriva-ml/execution/5-51CA/asset/eye-ai/Fundus_Bounding_Box/Cropped_2-DEKA.svg]\n",
      "2025-09-22 14:37:36,053 - INFO - Computed metadata for: [/data/kb_766/EyeAI_working/deriva-ml/execution/5-51CA/asset/eye-ai/Fundus_Bounding_Box/Cropped_2-DEKA.svg].\n",
      "2025-09-22 14:37:36,053 - INFO - Computing checksums for file: [/data/kb_766/EyeAI_working/deriva-ml/execution/5-51CA/asset/eye-ai/Fundus_Bounding_Box/Cropped_2-DEKA.svg]. Please wait...\n",
      "2025-09-22 14:37:36,055 - INFO - Uploading file: [/data/kb_766/EyeAI_working/deriva-ml/execution/5-51CA/asset/eye-ai/Fundus_Bounding_Box/Cropped_2-DEKA.svg] to host https://www.eye-ai.org. Please wait...\n",
      "2025-09-22 14:37:36,137 - INFO - Processing: [/data/kb_766/EyeAI_working/deriva-ml/execution/5-51CA/asset/eye-ai/Fundus_Bounding_Box/Cropped_2-DEWG.svg]\n",
      "2025-09-22 14:37:36,137 - INFO - Computed metadata for: [/data/kb_766/EyeAI_working/deriva-ml/execution/5-51CA/asset/eye-ai/Fundus_Bounding_Box/Cropped_2-DEWG.svg].\n",
      "2025-09-22 14:37:36,138 - INFO - Computing checksums for file: [/data/kb_766/EyeAI_working/deriva-ml/execution/5-51CA/asset/eye-ai/Fundus_Bounding_Box/Cropped_2-DEWG.svg]. Please wait...\n",
      "2025-09-22 14:37:36,139 - INFO - Uploading file: [/data/kb_766/EyeAI_working/deriva-ml/execution/5-51CA/asset/eye-ai/Fundus_Bounding_Box/Cropped_2-DEWG.svg] to host https://www.eye-ai.org. Please wait...\n",
      "2025-09-22 14:37:36,223 - INFO - Processing: [/data/kb_766/EyeAI_working/deriva-ml/execution/5-51CA/asset/eye-ai/Fundus_Bounding_Box/Cropped_2-DEWM.svg]\n",
      "2025-09-22 14:37:36,224 - INFO - Computed metadata for: [/data/kb_766/EyeAI_working/deriva-ml/execution/5-51CA/asset/eye-ai/Fundus_Bounding_Box/Cropped_2-DEWM.svg].\n",
      "2025-09-22 14:37:36,224 - INFO - Computing checksums for file: [/data/kb_766/EyeAI_working/deriva-ml/execution/5-51CA/asset/eye-ai/Fundus_Bounding_Box/Cropped_2-DEWM.svg]. Please wait...\n",
      "2025-09-22 14:37:36,226 - INFO - Uploading file: [/data/kb_766/EyeAI_working/deriva-ml/execution/5-51CA/asset/eye-ai/Fundus_Bounding_Box/Cropped_2-DEWM.svg] to host https://www.eye-ai.org. Please wait...\n",
      "2025-09-22 14:37:36,309 - INFO - Processing: [/data/kb_766/EyeAI_working/deriva-ml/execution/5-51CA/asset/eye-ai/Fundus_Bounding_Box/Cropped_2-DF7G.svg]\n",
      "2025-09-22 14:37:36,310 - INFO - Computed metadata for: [/data/kb_766/EyeAI_working/deriva-ml/execution/5-51CA/asset/eye-ai/Fundus_Bounding_Box/Cropped_2-DF7G.svg].\n",
      "2025-09-22 14:37:36,310 - INFO - Computing checksums for file: [/data/kb_766/EyeAI_working/deriva-ml/execution/5-51CA/asset/eye-ai/Fundus_Bounding_Box/Cropped_2-DF7G.svg]. Please wait...\n",
      "2025-09-22 14:37:36,311 - INFO - Uploading file: [/data/kb_766/EyeAI_working/deriva-ml/execution/5-51CA/asset/eye-ai/Fundus_Bounding_Box/Cropped_2-DF7G.svg] to host https://www.eye-ai.org. Please wait...\n",
      "2025-09-22 14:37:36,392 - INFO - Processing: [/data/kb_766/EyeAI_working/deriva-ml/execution/5-51CA/asset/eye-ai/Fundus_Bounding_Box/Cropped_2-DF7P.svg]\n",
      "2025-09-22 14:37:36,392 - INFO - Computed metadata for: [/data/kb_766/EyeAI_working/deriva-ml/execution/5-51CA/asset/eye-ai/Fundus_Bounding_Box/Cropped_2-DF7P.svg].\n",
      "2025-09-22 14:37:36,393 - INFO - Computing checksums for file: [/data/kb_766/EyeAI_working/deriva-ml/execution/5-51CA/asset/eye-ai/Fundus_Bounding_Box/Cropped_2-DF7P.svg]. Please wait...\n",
      "2025-09-22 14:37:36,394 - INFO - Uploading file: [/data/kb_766/EyeAI_working/deriva-ml/execution/5-51CA/asset/eye-ai/Fundus_Bounding_Box/Cropped_2-DF7P.svg] to host https://www.eye-ai.org. Please wait...\n",
      "2025-09-22 14:37:36,473 - INFO - Processing: [/data/kb_766/EyeAI_working/deriva-ml/execution/5-51CA/asset/eye-ai/Fundus_Bounding_Box/Cropped_2-DFA0.svg]\n",
      "2025-09-22 14:37:36,474 - INFO - Computed metadata for: [/data/kb_766/EyeAI_working/deriva-ml/execution/5-51CA/asset/eye-ai/Fundus_Bounding_Box/Cropped_2-DFA0.svg].\n",
      "2025-09-22 14:37:36,474 - INFO - Computing checksums for file: [/data/kb_766/EyeAI_working/deriva-ml/execution/5-51CA/asset/eye-ai/Fundus_Bounding_Box/Cropped_2-DFA0.svg]. Please wait...\n",
      "2025-09-22 14:37:36,476 - INFO - Uploading file: [/data/kb_766/EyeAI_working/deriva-ml/execution/5-51CA/asset/eye-ai/Fundus_Bounding_Box/Cropped_2-DFA0.svg] to host https://www.eye-ai.org. Please wait...\n",
      "2025-09-22 14:37:36,558 - INFO - Processing: [/data/kb_766/EyeAI_working/deriva-ml/execution/5-51CA/asset/eye-ai/Fundus_Bounding_Box/Cropped_2-DFA8.svg]\n",
      "2025-09-22 14:37:36,559 - INFO - Computed metadata for: [/data/kb_766/EyeAI_working/deriva-ml/execution/5-51CA/asset/eye-ai/Fundus_Bounding_Box/Cropped_2-DFA8.svg].\n",
      "2025-09-22 14:37:36,559 - INFO - Computing checksums for file: [/data/kb_766/EyeAI_working/deriva-ml/execution/5-51CA/asset/eye-ai/Fundus_Bounding_Box/Cropped_2-DFA8.svg]. Please wait...\n",
      "2025-09-22 14:37:36,560 - INFO - Uploading file: [/data/kb_766/EyeAI_working/deriva-ml/execution/5-51CA/asset/eye-ai/Fundus_Bounding_Box/Cropped_2-DFA8.svg] to host https://www.eye-ai.org. Please wait...\n",
      "2025-09-22 14:37:36,642 - INFO - Processing: [/data/kb_766/EyeAI_working/deriva-ml/execution/5-51CA/asset/eye-ai/Fundus_Bounding_Box/Cropped_2-DFCA.svg]\n",
      "2025-09-22 14:37:36,643 - INFO - Computed metadata for: [/data/kb_766/EyeAI_working/deriva-ml/execution/5-51CA/asset/eye-ai/Fundus_Bounding_Box/Cropped_2-DFCA.svg].\n",
      "2025-09-22 14:37:36,644 - INFO - Computing checksums for file: [/data/kb_766/EyeAI_working/deriva-ml/execution/5-51CA/asset/eye-ai/Fundus_Bounding_Box/Cropped_2-DFCA.svg]. Please wait...\n",
      "2025-09-22 14:37:36,645 - INFO - Uploading file: [/data/kb_766/EyeAI_working/deriva-ml/execution/5-51CA/asset/eye-ai/Fundus_Bounding_Box/Cropped_2-DFCA.svg] to host https://www.eye-ai.org. Please wait...\n",
      "2025-09-22 14:37:36,723 - INFO - Processing: [/data/kb_766/EyeAI_working/deriva-ml/execution/5-51CA/asset/eye-ai/Fundus_Bounding_Box/Cropped_2-DFCC.svg]\n",
      "2025-09-22 14:37:36,724 - INFO - Computed metadata for: [/data/kb_766/EyeAI_working/deriva-ml/execution/5-51CA/asset/eye-ai/Fundus_Bounding_Box/Cropped_2-DFCC.svg].\n",
      "2025-09-22 14:37:36,724 - INFO - Computing checksums for file: [/data/kb_766/EyeAI_working/deriva-ml/execution/5-51CA/asset/eye-ai/Fundus_Bounding_Box/Cropped_2-DFCC.svg]. Please wait...\n",
      "2025-09-22 14:37:36,725 - INFO - Uploading file: [/data/kb_766/EyeAI_working/deriva-ml/execution/5-51CA/asset/eye-ai/Fundus_Bounding_Box/Cropped_2-DFCC.svg] to host https://www.eye-ai.org. Please wait...\n",
      "2025-09-22 14:37:36,810 - INFO - Processing: [/data/kb_766/EyeAI_working/deriva-ml/execution/5-51CA/asset/eye-ai/Fundus_Bounding_Box/Cropped_2-DFK6.svg]\n",
      "2025-09-22 14:37:36,811 - INFO - Computed metadata for: [/data/kb_766/EyeAI_working/deriva-ml/execution/5-51CA/asset/eye-ai/Fundus_Bounding_Box/Cropped_2-DFK6.svg].\n",
      "2025-09-22 14:37:36,811 - INFO - Computing checksums for file: [/data/kb_766/EyeAI_working/deriva-ml/execution/5-51CA/asset/eye-ai/Fundus_Bounding_Box/Cropped_2-DFK6.svg]. Please wait...\n",
      "2025-09-22 14:37:36,812 - INFO - Uploading file: [/data/kb_766/EyeAI_working/deriva-ml/execution/5-51CA/asset/eye-ai/Fundus_Bounding_Box/Cropped_2-DFK6.svg] to host https://www.eye-ai.org. Please wait...\n",
      "2025-09-22 14:37:36,888 - INFO - Processing: [/data/kb_766/EyeAI_working/deriva-ml/execution/5-51CA/asset/eye-ai/Fundus_Bounding_Box/Cropped_2-DFK8.svg]\n",
      "2025-09-22 14:37:36,889 - INFO - Computed metadata for: [/data/kb_766/EyeAI_working/deriva-ml/execution/5-51CA/asset/eye-ai/Fundus_Bounding_Box/Cropped_2-DFK8.svg].\n",
      "2025-09-22 14:37:36,890 - INFO - Computing checksums for file: [/data/kb_766/EyeAI_working/deriva-ml/execution/5-51CA/asset/eye-ai/Fundus_Bounding_Box/Cropped_2-DFK8.svg]. Please wait...\n",
      "2025-09-22 14:37:36,891 - INFO - Uploading file: [/data/kb_766/EyeAI_working/deriva-ml/execution/5-51CA/asset/eye-ai/Fundus_Bounding_Box/Cropped_2-DFK8.svg] to host https://www.eye-ai.org. Please wait...\n",
      "2025-09-22 14:37:36,971 - INFO - Processing: [/data/kb_766/EyeAI_working/deriva-ml/execution/5-51CA/asset/eye-ai/Fundus_Bounding_Box/Cropped_2-DFKE.svg]\n",
      "2025-09-22 14:37:36,972 - INFO - Computed metadata for: [/data/kb_766/EyeAI_working/deriva-ml/execution/5-51CA/asset/eye-ai/Fundus_Bounding_Box/Cropped_2-DFKE.svg].\n",
      "2025-09-22 14:37:36,973 - INFO - Computing checksums for file: [/data/kb_766/EyeAI_working/deriva-ml/execution/5-51CA/asset/eye-ai/Fundus_Bounding_Box/Cropped_2-DFKE.svg]. Please wait...\n",
      "2025-09-22 14:37:36,974 - INFO - Uploading file: [/data/kb_766/EyeAI_working/deriva-ml/execution/5-51CA/asset/eye-ai/Fundus_Bounding_Box/Cropped_2-DFKE.svg] to host https://www.eye-ai.org. Please wait...\n",
      "2025-09-22 14:37:37,053 - INFO - Processing: [/data/kb_766/EyeAI_working/deriva-ml/execution/5-51CA/asset/eye-ai/Fundus_Bounding_Box/Cropped_2-DFVJ.svg]\n",
      "2025-09-22 14:37:37,054 - INFO - Computed metadata for: [/data/kb_766/EyeAI_working/deriva-ml/execution/5-51CA/asset/eye-ai/Fundus_Bounding_Box/Cropped_2-DFVJ.svg].\n",
      "2025-09-22 14:37:37,054 - INFO - Computing checksums for file: [/data/kb_766/EyeAI_working/deriva-ml/execution/5-51CA/asset/eye-ai/Fundus_Bounding_Box/Cropped_2-DFVJ.svg]. Please wait...\n",
      "2025-09-22 14:37:37,055 - INFO - Uploading file: [/data/kb_766/EyeAI_working/deriva-ml/execution/5-51CA/asset/eye-ai/Fundus_Bounding_Box/Cropped_2-DFVJ.svg] to host https://www.eye-ai.org. Please wait...\n",
      "2025-09-22 14:37:37,132 - INFO - Processing: [/data/kb_766/EyeAI_working/deriva-ml/execution/5-51CA/asset/eye-ai/Fundus_Bounding_Box/Cropped_2-DFVP.svg]\n",
      "2025-09-22 14:37:37,133 - INFO - Computed metadata for: [/data/kb_766/EyeAI_working/deriva-ml/execution/5-51CA/asset/eye-ai/Fundus_Bounding_Box/Cropped_2-DFVP.svg].\n",
      "2025-09-22 14:37:37,133 - INFO - Computing checksums for file: [/data/kb_766/EyeAI_working/deriva-ml/execution/5-51CA/asset/eye-ai/Fundus_Bounding_Box/Cropped_2-DFVP.svg]. Please wait...\n",
      "2025-09-22 14:37:37,135 - INFO - Uploading file: [/data/kb_766/EyeAI_working/deriva-ml/execution/5-51CA/asset/eye-ai/Fundus_Bounding_Box/Cropped_2-DFVP.svg] to host https://www.eye-ai.org. Please wait...\n",
      "2025-09-22 14:37:37,225 - INFO - Processing: [/data/kb_766/EyeAI_working/deriva-ml/execution/5-51CA/asset/eye-ai/Fundus_Bounding_Box/Cropped_2-DG72.svg]\n",
      "2025-09-22 14:37:37,226 - INFO - Computed metadata for: [/data/kb_766/EyeAI_working/deriva-ml/execution/5-51CA/asset/eye-ai/Fundus_Bounding_Box/Cropped_2-DG72.svg].\n",
      "2025-09-22 14:37:37,226 - INFO - Computing checksums for file: [/data/kb_766/EyeAI_working/deriva-ml/execution/5-51CA/asset/eye-ai/Fundus_Bounding_Box/Cropped_2-DG72.svg]. Please wait...\n",
      "2025-09-22 14:37:37,228 - INFO - Uploading file: [/data/kb_766/EyeAI_working/deriva-ml/execution/5-51CA/asset/eye-ai/Fundus_Bounding_Box/Cropped_2-DG72.svg] to host https://www.eye-ai.org. Please wait...\n",
      "2025-09-22 14:37:37,313 - INFO - Processing: [/data/kb_766/EyeAI_working/deriva-ml/execution/5-51CA/asset/eye-ai/Fundus_Bounding_Box/Cropped_2-DG74.svg]\n",
      "2025-09-22 14:37:37,314 - INFO - Computed metadata for: [/data/kb_766/EyeAI_working/deriva-ml/execution/5-51CA/asset/eye-ai/Fundus_Bounding_Box/Cropped_2-DG74.svg].\n",
      "2025-09-22 14:37:37,314 - INFO - Computing checksums for file: [/data/kb_766/EyeAI_working/deriva-ml/execution/5-51CA/asset/eye-ai/Fundus_Bounding_Box/Cropped_2-DG74.svg]. Please wait...\n",
      "2025-09-22 14:37:37,315 - INFO - Uploading file: [/data/kb_766/EyeAI_working/deriva-ml/execution/5-51CA/asset/eye-ai/Fundus_Bounding_Box/Cropped_2-DG74.svg] to host https://www.eye-ai.org. Please wait...\n",
      "2025-09-22 14:37:37,393 - INFO - Processing: [/data/kb_766/EyeAI_working/deriva-ml/execution/5-51CA/asset/eye-ai/Fundus_Bounding_Box/Cropped_2-DGE4.svg]\n",
      "2025-09-22 14:37:37,394 - INFO - Computed metadata for: [/data/kb_766/EyeAI_working/deriva-ml/execution/5-51CA/asset/eye-ai/Fundus_Bounding_Box/Cropped_2-DGE4.svg].\n",
      "2025-09-22 14:37:37,395 - INFO - Computing checksums for file: [/data/kb_766/EyeAI_working/deriva-ml/execution/5-51CA/asset/eye-ai/Fundus_Bounding_Box/Cropped_2-DGE4.svg]. Please wait...\n",
      "2025-09-22 14:37:37,396 - INFO - Uploading file: [/data/kb_766/EyeAI_working/deriva-ml/execution/5-51CA/asset/eye-ai/Fundus_Bounding_Box/Cropped_2-DGE4.svg] to host https://www.eye-ai.org. Please wait...\n",
      "2025-09-22 14:37:37,479 - INFO - Processing: [/data/kb_766/EyeAI_working/deriva-ml/execution/5-51CA/asset/eye-ai/Fundus_Bounding_Box/Cropped_2-DGE6.svg]\n",
      "2025-09-22 14:37:37,480 - INFO - Computed metadata for: [/data/kb_766/EyeAI_working/deriva-ml/execution/5-51CA/asset/eye-ai/Fundus_Bounding_Box/Cropped_2-DGE6.svg].\n",
      "2025-09-22 14:37:37,480 - INFO - Computing checksums for file: [/data/kb_766/EyeAI_working/deriva-ml/execution/5-51CA/asset/eye-ai/Fundus_Bounding_Box/Cropped_2-DGE6.svg]. Please wait...\n",
      "2025-09-22 14:37:37,482 - INFO - Uploading file: [/data/kb_766/EyeAI_working/deriva-ml/execution/5-51CA/asset/eye-ai/Fundus_Bounding_Box/Cropped_2-DGE6.svg] to host https://www.eye-ai.org. Please wait...\n",
      "2025-09-22 14:37:37,562 - INFO - Processing: [/data/kb_766/EyeAI_working/deriva-ml/execution/5-51CA/asset/eye-ai/Fundus_Bounding_Box/Cropped_2-DGK4.svg]\n",
      "2025-09-22 14:37:37,563 - INFO - Computed metadata for: [/data/kb_766/EyeAI_working/deriva-ml/execution/5-51CA/asset/eye-ai/Fundus_Bounding_Box/Cropped_2-DGK4.svg].\n",
      "2025-09-22 14:37:37,564 - INFO - Computing checksums for file: [/data/kb_766/EyeAI_working/deriva-ml/execution/5-51CA/asset/eye-ai/Fundus_Bounding_Box/Cropped_2-DGK4.svg]. Please wait...\n",
      "2025-09-22 14:37:37,565 - INFO - Uploading file: [/data/kb_766/EyeAI_working/deriva-ml/execution/5-51CA/asset/eye-ai/Fundus_Bounding_Box/Cropped_2-DGK4.svg] to host https://www.eye-ai.org. Please wait...\n",
      "2025-09-22 14:37:37,650 - INFO - Processing: [/data/kb_766/EyeAI_working/deriva-ml/execution/5-51CA/asset/eye-ai/Fundus_Bounding_Box/Cropped_2-DGKC.svg]\n",
      "2025-09-22 14:37:37,650 - INFO - Computed metadata for: [/data/kb_766/EyeAI_working/deriva-ml/execution/5-51CA/asset/eye-ai/Fundus_Bounding_Box/Cropped_2-DGKC.svg].\n",
      "2025-09-22 14:37:37,651 - INFO - Computing checksums for file: [/data/kb_766/EyeAI_working/deriva-ml/execution/5-51CA/asset/eye-ai/Fundus_Bounding_Box/Cropped_2-DGKC.svg]. Please wait...\n",
      "2025-09-22 14:37:37,652 - INFO - Uploading file: [/data/kb_766/EyeAI_working/deriva-ml/execution/5-51CA/asset/eye-ai/Fundus_Bounding_Box/Cropped_2-DGKC.svg] to host https://www.eye-ai.org. Please wait...\n",
      "2025-09-22 14:37:37,737 - INFO - Processing: [/data/kb_766/EyeAI_working/deriva-ml/execution/5-51CA/asset/eye-ai/Fundus_Bounding_Box/Cropped_2-DGMR.svg]\n",
      "2025-09-22 14:37:37,737 - INFO - Computed metadata for: [/data/kb_766/EyeAI_working/deriva-ml/execution/5-51CA/asset/eye-ai/Fundus_Bounding_Box/Cropped_2-DGMR.svg].\n",
      "2025-09-22 14:37:37,738 - INFO - Computing checksums for file: [/data/kb_766/EyeAI_working/deriva-ml/execution/5-51CA/asset/eye-ai/Fundus_Bounding_Box/Cropped_2-DGMR.svg]. Please wait...\n",
      "2025-09-22 14:37:37,739 - INFO - Uploading file: [/data/kb_766/EyeAI_working/deriva-ml/execution/5-51CA/asset/eye-ai/Fundus_Bounding_Box/Cropped_2-DGMR.svg] to host https://www.eye-ai.org. Please wait...\n",
      "2025-09-22 14:37:37,821 - INFO - Processing: [/data/kb_766/EyeAI_working/deriva-ml/execution/5-51CA/asset/eye-ai/Fundus_Bounding_Box/Cropped_2-DGMW.svg]\n",
      "2025-09-22 14:37:37,822 - INFO - Computed metadata for: [/data/kb_766/EyeAI_working/deriva-ml/execution/5-51CA/asset/eye-ai/Fundus_Bounding_Box/Cropped_2-DGMW.svg].\n",
      "2025-09-22 14:37:37,822 - INFO - Computing checksums for file: [/data/kb_766/EyeAI_working/deriva-ml/execution/5-51CA/asset/eye-ai/Fundus_Bounding_Box/Cropped_2-DGMW.svg]. Please wait...\n",
      "2025-09-22 14:37:37,824 - INFO - Uploading file: [/data/kb_766/EyeAI_working/deriva-ml/execution/5-51CA/asset/eye-ai/Fundus_Bounding_Box/Cropped_2-DGMW.svg] to host https://www.eye-ai.org. Please wait...\n",
      "2025-09-22 14:37:37,909 - INFO - Processing: [/data/kb_766/EyeAI_working/deriva-ml/execution/5-51CA/asset/eye-ai/Fundus_Bounding_Box/Cropped_2-DGS2.svg]\n",
      "2025-09-22 14:37:37,910 - INFO - Computed metadata for: [/data/kb_766/EyeAI_working/deriva-ml/execution/5-51CA/asset/eye-ai/Fundus_Bounding_Box/Cropped_2-DGS2.svg].\n",
      "2025-09-22 14:37:37,910 - INFO - Computing checksums for file: [/data/kb_766/EyeAI_working/deriva-ml/execution/5-51CA/asset/eye-ai/Fundus_Bounding_Box/Cropped_2-DGS2.svg]. Please wait...\n",
      "2025-09-22 14:37:37,912 - INFO - Uploading file: [/data/kb_766/EyeAI_working/deriva-ml/execution/5-51CA/asset/eye-ai/Fundus_Bounding_Box/Cropped_2-DGS2.svg] to host https://www.eye-ai.org. Please wait...\n",
      "2025-09-22 14:37:37,990 - INFO - Processing: [/data/kb_766/EyeAI_working/deriva-ml/execution/5-51CA/asset/eye-ai/Fundus_Bounding_Box/Cropped_2-DGS4.svg]\n",
      "2025-09-22 14:37:37,991 - INFO - Computed metadata for: [/data/kb_766/EyeAI_working/deriva-ml/execution/5-51CA/asset/eye-ai/Fundus_Bounding_Box/Cropped_2-DGS4.svg].\n",
      "2025-09-22 14:37:37,992 - INFO - Computing checksums for file: [/data/kb_766/EyeAI_working/deriva-ml/execution/5-51CA/asset/eye-ai/Fundus_Bounding_Box/Cropped_2-DGS4.svg]. Please wait...\n",
      "2025-09-22 14:37:37,993 - INFO - Uploading file: [/data/kb_766/EyeAI_working/deriva-ml/execution/5-51CA/asset/eye-ai/Fundus_Bounding_Box/Cropped_2-DGS4.svg] to host https://www.eye-ai.org. Please wait...\n",
      "2025-09-22 14:37:38,078 - INFO - Processing: [/data/kb_766/EyeAI_working/deriva-ml/execution/5-51CA/asset/eye-ai/Fundus_Bounding_Box/Cropped_2-DH0P.svg]\n",
      "2025-09-22 14:37:38,079 - INFO - Computed metadata for: [/data/kb_766/EyeAI_working/deriva-ml/execution/5-51CA/asset/eye-ai/Fundus_Bounding_Box/Cropped_2-DH0P.svg].\n",
      "2025-09-22 14:37:38,079 - INFO - Computing checksums for file: [/data/kb_766/EyeAI_working/deriva-ml/execution/5-51CA/asset/eye-ai/Fundus_Bounding_Box/Cropped_2-DH0P.svg]. Please wait...\n",
      "2025-09-22 14:37:38,080 - INFO - Uploading file: [/data/kb_766/EyeAI_working/deriva-ml/execution/5-51CA/asset/eye-ai/Fundus_Bounding_Box/Cropped_2-DH0P.svg] to host https://www.eye-ai.org. Please wait...\n",
      "2025-09-22 14:37:38,167 - INFO - Processing: [/data/kb_766/EyeAI_working/deriva-ml/execution/5-51CA/asset/eye-ai/Fundus_Bounding_Box/Cropped_2-DH0T.svg]\n",
      "2025-09-22 14:37:38,168 - INFO - Computed metadata for: [/data/kb_766/EyeAI_working/deriva-ml/execution/5-51CA/asset/eye-ai/Fundus_Bounding_Box/Cropped_2-DH0T.svg].\n",
      "2025-09-22 14:37:38,168 - INFO - Computing checksums for file: [/data/kb_766/EyeAI_working/deriva-ml/execution/5-51CA/asset/eye-ai/Fundus_Bounding_Box/Cropped_2-DH0T.svg]. Please wait...\n",
      "2025-09-22 14:37:38,169 - INFO - Uploading file: [/data/kb_766/EyeAI_working/deriva-ml/execution/5-51CA/asset/eye-ai/Fundus_Bounding_Box/Cropped_2-DH0T.svg] to host https://www.eye-ai.org. Please wait...\n",
      "2025-09-22 14:37:38,254 - INFO - Processing: [/data/kb_766/EyeAI_working/deriva-ml/execution/5-51CA/asset/eye-ai/Fundus_Bounding_Box/Cropped_2-DH96.svg]\n",
      "2025-09-22 14:37:38,255 - INFO - Computed metadata for: [/data/kb_766/EyeAI_working/deriva-ml/execution/5-51CA/asset/eye-ai/Fundus_Bounding_Box/Cropped_2-DH96.svg].\n",
      "2025-09-22 14:37:38,256 - INFO - Computing checksums for file: [/data/kb_766/EyeAI_working/deriva-ml/execution/5-51CA/asset/eye-ai/Fundus_Bounding_Box/Cropped_2-DH96.svg]. Please wait...\n",
      "2025-09-22 14:37:38,257 - INFO - Uploading file: [/data/kb_766/EyeAI_working/deriva-ml/execution/5-51CA/asset/eye-ai/Fundus_Bounding_Box/Cropped_2-DH96.svg] to host https://www.eye-ai.org. Please wait...\n",
      "2025-09-22 14:37:38,334 - INFO - Processing: [/data/kb_766/EyeAI_working/deriva-ml/execution/5-51CA/asset/eye-ai/Fundus_Bounding_Box/Cropped_2-DH9A.svg]\n",
      "2025-09-22 14:37:38,335 - INFO - Computed metadata for: [/data/kb_766/EyeAI_working/deriva-ml/execution/5-51CA/asset/eye-ai/Fundus_Bounding_Box/Cropped_2-DH9A.svg].\n",
      "2025-09-22 14:37:38,336 - INFO - Computing checksums for file: [/data/kb_766/EyeAI_working/deriva-ml/execution/5-51CA/asset/eye-ai/Fundus_Bounding_Box/Cropped_2-DH9A.svg]. Please wait...\n",
      "2025-09-22 14:37:38,337 - INFO - Uploading file: [/data/kb_766/EyeAI_working/deriva-ml/execution/5-51CA/asset/eye-ai/Fundus_Bounding_Box/Cropped_2-DH9A.svg] to host https://www.eye-ai.org. Please wait...\n",
      "2025-09-22 14:37:38,415 - INFO - Processing: [/data/kb_766/EyeAI_working/deriva-ml/execution/5-51CA/asset/eye-ai/Fundus_Bounding_Box/Cropped_2-DHET.svg]\n",
      "2025-09-22 14:37:38,415 - INFO - Computed metadata for: [/data/kb_766/EyeAI_working/deriva-ml/execution/5-51CA/asset/eye-ai/Fundus_Bounding_Box/Cropped_2-DHET.svg].\n",
      "2025-09-22 14:37:38,416 - INFO - Computing checksums for file: [/data/kb_766/EyeAI_working/deriva-ml/execution/5-51CA/asset/eye-ai/Fundus_Bounding_Box/Cropped_2-DHET.svg]. Please wait...\n",
      "2025-09-22 14:37:38,417 - INFO - Uploading file: [/data/kb_766/EyeAI_working/deriva-ml/execution/5-51CA/asset/eye-ai/Fundus_Bounding_Box/Cropped_2-DHET.svg] to host https://www.eye-ai.org. Please wait...\n",
      "2025-09-22 14:37:38,528 - INFO - Processing: [/data/kb_766/EyeAI_working/deriva-ml/execution/5-51CA/asset/eye-ai/Fundus_Bounding_Box/Cropped_2-DHF0.svg]\n",
      "2025-09-22 14:37:38,528 - INFO - Computed metadata for: [/data/kb_766/EyeAI_working/deriva-ml/execution/5-51CA/asset/eye-ai/Fundus_Bounding_Box/Cropped_2-DHF0.svg].\n",
      "2025-09-22 14:37:38,529 - INFO - Computing checksums for file: [/data/kb_766/EyeAI_working/deriva-ml/execution/5-51CA/asset/eye-ai/Fundus_Bounding_Box/Cropped_2-DHF0.svg]. Please wait...\n",
      "2025-09-22 14:37:38,530 - INFO - Uploading file: [/data/kb_766/EyeAI_working/deriva-ml/execution/5-51CA/asset/eye-ai/Fundus_Bounding_Box/Cropped_2-DHF0.svg] to host https://www.eye-ai.org. Please wait...\n",
      "2025-09-22 14:37:38,610 - INFO - Processing: [/data/kb_766/EyeAI_working/deriva-ml/execution/5-51CA/asset/eye-ai/Fundus_Bounding_Box/Cropped_2-DHFW.svg]\n",
      "2025-09-22 14:37:38,611 - INFO - Computed metadata for: [/data/kb_766/EyeAI_working/deriva-ml/execution/5-51CA/asset/eye-ai/Fundus_Bounding_Box/Cropped_2-DHFW.svg].\n",
      "2025-09-22 14:37:38,612 - INFO - Computing checksums for file: [/data/kb_766/EyeAI_working/deriva-ml/execution/5-51CA/asset/eye-ai/Fundus_Bounding_Box/Cropped_2-DHFW.svg]. Please wait...\n",
      "2025-09-22 14:37:38,613 - INFO - Uploading file: [/data/kb_766/EyeAI_working/deriva-ml/execution/5-51CA/asset/eye-ai/Fundus_Bounding_Box/Cropped_2-DHFW.svg] to host https://www.eye-ai.org. Please wait...\n",
      "2025-09-22 14:37:38,726 - INFO - Processing: [/data/kb_766/EyeAI_working/deriva-ml/execution/5-51CA/asset/eye-ai/Fundus_Bounding_Box/Cropped_2-DHFY.svg]\n",
      "2025-09-22 14:37:38,727 - INFO - Computed metadata for: [/data/kb_766/EyeAI_working/deriva-ml/execution/5-51CA/asset/eye-ai/Fundus_Bounding_Box/Cropped_2-DHFY.svg].\n",
      "2025-09-22 14:37:38,727 - INFO - Computing checksums for file: [/data/kb_766/EyeAI_working/deriva-ml/execution/5-51CA/asset/eye-ai/Fundus_Bounding_Box/Cropped_2-DHFY.svg]. Please wait...\n",
      "2025-09-22 14:37:38,729 - INFO - Uploading file: [/data/kb_766/EyeAI_working/deriva-ml/execution/5-51CA/asset/eye-ai/Fundus_Bounding_Box/Cropped_2-DHFY.svg] to host https://www.eye-ai.org. Please wait...\n",
      "2025-09-22 14:37:38,814 - INFO - Processing: [/data/kb_766/EyeAI_working/deriva-ml/execution/5-51CA/asset/eye-ai/Fundus_Bounding_Box/Cropped_2-DHHJ.svg]\n",
      "2025-09-22 14:37:38,815 - INFO - Computed metadata for: [/data/kb_766/EyeAI_working/deriva-ml/execution/5-51CA/asset/eye-ai/Fundus_Bounding_Box/Cropped_2-DHHJ.svg].\n",
      "2025-09-22 14:37:38,815 - INFO - Computing checksums for file: [/data/kb_766/EyeAI_working/deriva-ml/execution/5-51CA/asset/eye-ai/Fundus_Bounding_Box/Cropped_2-DHHJ.svg]. Please wait...\n",
      "2025-09-22 14:37:38,816 - INFO - Uploading file: [/data/kb_766/EyeAI_working/deriva-ml/execution/5-51CA/asset/eye-ai/Fundus_Bounding_Box/Cropped_2-DHHJ.svg] to host https://www.eye-ai.org. Please wait...\n",
      "2025-09-22 14:37:38,903 - INFO - Processing: [/data/kb_766/EyeAI_working/deriva-ml/execution/5-51CA/asset/eye-ai/Fundus_Bounding_Box/Cropped_2-DHHT.svg]\n",
      "2025-09-22 14:37:38,904 - INFO - Computed metadata for: [/data/kb_766/EyeAI_working/deriva-ml/execution/5-51CA/asset/eye-ai/Fundus_Bounding_Box/Cropped_2-DHHT.svg].\n",
      "2025-09-22 14:37:38,904 - INFO - Computing checksums for file: [/data/kb_766/EyeAI_working/deriva-ml/execution/5-51CA/asset/eye-ai/Fundus_Bounding_Box/Cropped_2-DHHT.svg]. Please wait...\n",
      "2025-09-22 14:37:38,905 - INFO - Uploading file: [/data/kb_766/EyeAI_working/deriva-ml/execution/5-51CA/asset/eye-ai/Fundus_Bounding_Box/Cropped_2-DHHT.svg] to host https://www.eye-ai.org. Please wait...\n",
      "2025-09-22 14:37:38,984 - INFO - Processing: [/data/kb_766/EyeAI_working/deriva-ml/execution/5-51CA/asset/eye-ai/Fundus_Bounding_Box/Cropped_2-DHQC.svg]\n",
      "2025-09-22 14:37:38,985 - INFO - Computed metadata for: [/data/kb_766/EyeAI_working/deriva-ml/execution/5-51CA/asset/eye-ai/Fundus_Bounding_Box/Cropped_2-DHQC.svg].\n",
      "2025-09-22 14:37:38,986 - INFO - Computing checksums for file: [/data/kb_766/EyeAI_working/deriva-ml/execution/5-51CA/asset/eye-ai/Fundus_Bounding_Box/Cropped_2-DHQC.svg]. Please wait...\n",
      "2025-09-22 14:37:38,987 - INFO - Uploading file: [/data/kb_766/EyeAI_working/deriva-ml/execution/5-51CA/asset/eye-ai/Fundus_Bounding_Box/Cropped_2-DHQC.svg] to host https://www.eye-ai.org. Please wait...\n",
      "2025-09-22 14:37:39,065 - INFO - Processing: [/data/kb_766/EyeAI_working/deriva-ml/execution/5-51CA/asset/eye-ai/Fundus_Bounding_Box/Cropped_2-DHQJ.svg]\n",
      "2025-09-22 14:37:39,066 - INFO - Computed metadata for: [/data/kb_766/EyeAI_working/deriva-ml/execution/5-51CA/asset/eye-ai/Fundus_Bounding_Box/Cropped_2-DHQJ.svg].\n",
      "2025-09-22 14:37:39,066 - INFO - Computing checksums for file: [/data/kb_766/EyeAI_working/deriva-ml/execution/5-51CA/asset/eye-ai/Fundus_Bounding_Box/Cropped_2-DHQJ.svg]. Please wait...\n",
      "2025-09-22 14:37:39,067 - INFO - Uploading file: [/data/kb_766/EyeAI_working/deriva-ml/execution/5-51CA/asset/eye-ai/Fundus_Bounding_Box/Cropped_2-DHQJ.svg] to host https://www.eye-ai.org. Please wait...\n",
      "2025-09-22 14:37:39,190 - INFO - Processing: [/data/kb_766/EyeAI_working/deriva-ml/execution/5-51CA/asset/eye-ai/Fundus_Bounding_Box/Cropped_2-DHSG.svg]\n",
      "2025-09-22 14:37:39,190 - INFO - Computed metadata for: [/data/kb_766/EyeAI_working/deriva-ml/execution/5-51CA/asset/eye-ai/Fundus_Bounding_Box/Cropped_2-DHSG.svg].\n",
      "2025-09-22 14:37:39,191 - INFO - Computing checksums for file: [/data/kb_766/EyeAI_working/deriva-ml/execution/5-51CA/asset/eye-ai/Fundus_Bounding_Box/Cropped_2-DHSG.svg]. Please wait...\n",
      "2025-09-22 14:37:39,192 - INFO - Uploading file: [/data/kb_766/EyeAI_working/deriva-ml/execution/5-51CA/asset/eye-ai/Fundus_Bounding_Box/Cropped_2-DHSG.svg] to host https://www.eye-ai.org. Please wait...\n",
      "2025-09-22 14:37:39,265 - INFO - Processing: [/data/kb_766/EyeAI_working/deriva-ml/execution/5-51CA/asset/eye-ai/Fundus_Bounding_Box/Cropped_2-DHSM.svg]\n",
      "2025-09-22 14:37:39,266 - INFO - Computed metadata for: [/data/kb_766/EyeAI_working/deriva-ml/execution/5-51CA/asset/eye-ai/Fundus_Bounding_Box/Cropped_2-DHSM.svg].\n",
      "2025-09-22 14:37:39,267 - INFO - Computing checksums for file: [/data/kb_766/EyeAI_working/deriva-ml/execution/5-51CA/asset/eye-ai/Fundus_Bounding_Box/Cropped_2-DHSM.svg]. Please wait...\n",
      "2025-09-22 14:37:39,268 - INFO - Uploading file: [/data/kb_766/EyeAI_working/deriva-ml/execution/5-51CA/asset/eye-ai/Fundus_Bounding_Box/Cropped_2-DHSM.svg] to host https://www.eye-ai.org. Please wait...\n",
      "2025-09-22 14:37:39,350 - INFO - Processing: [/data/kb_766/EyeAI_working/deriva-ml/execution/5-51CA/asset/eye-ai/Fundus_Bounding_Box/Cropped_2-DHSP.svg]\n",
      "2025-09-22 14:37:39,351 - INFO - Computed metadata for: [/data/kb_766/EyeAI_working/deriva-ml/execution/5-51CA/asset/eye-ai/Fundus_Bounding_Box/Cropped_2-DHSP.svg].\n",
      "2025-09-22 14:37:39,351 - INFO - Computing checksums for file: [/data/kb_766/EyeAI_working/deriva-ml/execution/5-51CA/asset/eye-ai/Fundus_Bounding_Box/Cropped_2-DHSP.svg]. Please wait...\n",
      "2025-09-22 14:37:39,352 - INFO - Uploading file: [/data/kb_766/EyeAI_working/deriva-ml/execution/5-51CA/asset/eye-ai/Fundus_Bounding_Box/Cropped_2-DHSP.svg] to host https://www.eye-ai.org. Please wait...\n",
      "2025-09-22 14:37:39,429 - INFO - Processing: [/data/kb_766/EyeAI_working/deriva-ml/execution/5-51CA/asset/eye-ai/Fundus_Bounding_Box/Cropped_2-DHZR.svg]\n",
      "2025-09-22 14:37:39,430 - INFO - Computed metadata for: [/data/kb_766/EyeAI_working/deriva-ml/execution/5-51CA/asset/eye-ai/Fundus_Bounding_Box/Cropped_2-DHZR.svg].\n",
      "2025-09-22 14:37:39,431 - INFO - Computing checksums for file: [/data/kb_766/EyeAI_working/deriva-ml/execution/5-51CA/asset/eye-ai/Fundus_Bounding_Box/Cropped_2-DHZR.svg]. Please wait...\n",
      "2025-09-22 14:37:39,432 - INFO - Uploading file: [/data/kb_766/EyeAI_working/deriva-ml/execution/5-51CA/asset/eye-ai/Fundus_Bounding_Box/Cropped_2-DHZR.svg] to host https://www.eye-ai.org. Please wait...\n",
      "2025-09-22 14:37:39,514 - INFO - Processing: [/data/kb_766/EyeAI_working/deriva-ml/execution/5-51CA/asset/eye-ai/Fundus_Bounding_Box/Cropped_2-DHZT.svg]\n",
      "2025-09-22 14:37:39,515 - INFO - Computed metadata for: [/data/kb_766/EyeAI_working/deriva-ml/execution/5-51CA/asset/eye-ai/Fundus_Bounding_Box/Cropped_2-DHZT.svg].\n",
      "2025-09-22 14:37:39,516 - INFO - Computing checksums for file: [/data/kb_766/EyeAI_working/deriva-ml/execution/5-51CA/asset/eye-ai/Fundus_Bounding_Box/Cropped_2-DHZT.svg]. Please wait...\n",
      "2025-09-22 14:37:39,517 - INFO - Uploading file: [/data/kb_766/EyeAI_working/deriva-ml/execution/5-51CA/asset/eye-ai/Fundus_Bounding_Box/Cropped_2-DHZT.svg] to host https://www.eye-ai.org. Please wait...\n",
      "2025-09-22 14:37:39,594 - INFO - Processing: [/data/kb_766/EyeAI_working/deriva-ml/execution/5-51CA/asset/eye-ai/Fundus_Bounding_Box/Cropped_2-DJ2T.svg]\n",
      "2025-09-22 14:37:39,595 - INFO - Computed metadata for: [/data/kb_766/EyeAI_working/deriva-ml/execution/5-51CA/asset/eye-ai/Fundus_Bounding_Box/Cropped_2-DJ2T.svg].\n",
      "2025-09-22 14:37:39,595 - INFO - Computing checksums for file: [/data/kb_766/EyeAI_working/deriva-ml/execution/5-51CA/asset/eye-ai/Fundus_Bounding_Box/Cropped_2-DJ2T.svg]. Please wait...\n",
      "2025-09-22 14:37:39,597 - INFO - Uploading file: [/data/kb_766/EyeAI_working/deriva-ml/execution/5-51CA/asset/eye-ai/Fundus_Bounding_Box/Cropped_2-DJ2T.svg] to host https://www.eye-ai.org. Please wait...\n",
      "2025-09-22 14:37:39,676 - INFO - Processing: [/data/kb_766/EyeAI_working/deriva-ml/execution/5-51CA/asset/eye-ai/Fundus_Bounding_Box/Cropped_2-DJ2W.svg]\n",
      "2025-09-22 14:37:39,677 - INFO - Computed metadata for: [/data/kb_766/EyeAI_working/deriva-ml/execution/5-51CA/asset/eye-ai/Fundus_Bounding_Box/Cropped_2-DJ2W.svg].\n",
      "2025-09-22 14:37:39,677 - INFO - Computing checksums for file: [/data/kb_766/EyeAI_working/deriva-ml/execution/5-51CA/asset/eye-ai/Fundus_Bounding_Box/Cropped_2-DJ2W.svg]. Please wait...\n",
      "2025-09-22 14:37:39,679 - INFO - Uploading file: [/data/kb_766/EyeAI_working/deriva-ml/execution/5-51CA/asset/eye-ai/Fundus_Bounding_Box/Cropped_2-DJ2W.svg] to host https://www.eye-ai.org. Please wait...\n",
      "2025-09-22 14:37:39,762 - INFO - Processing: [/data/kb_766/EyeAI_working/deriva-ml/execution/5-51CA/asset/eye-ai/Fundus_Bounding_Box/Cropped_2-DJX4.svg]\n",
      "2025-09-22 14:37:39,763 - INFO - Computed metadata for: [/data/kb_766/EyeAI_working/deriva-ml/execution/5-51CA/asset/eye-ai/Fundus_Bounding_Box/Cropped_2-DJX4.svg].\n",
      "2025-09-22 14:37:39,763 - INFO - Computing checksums for file: [/data/kb_766/EyeAI_working/deriva-ml/execution/5-51CA/asset/eye-ai/Fundus_Bounding_Box/Cropped_2-DJX4.svg]. Please wait...\n",
      "2025-09-22 14:37:39,764 - INFO - Uploading file: [/data/kb_766/EyeAI_working/deriva-ml/execution/5-51CA/asset/eye-ai/Fundus_Bounding_Box/Cropped_2-DJX4.svg] to host https://www.eye-ai.org. Please wait...\n",
      "2025-09-22 14:37:39,855 - INFO - Processing: [/data/kb_766/EyeAI_working/deriva-ml/execution/5-51CA/asset/eye-ai/Fundus_Bounding_Box/Cropped_2-DJX6.svg]\n",
      "2025-09-22 14:37:39,856 - INFO - Computed metadata for: [/data/kb_766/EyeAI_working/deriva-ml/execution/5-51CA/asset/eye-ai/Fundus_Bounding_Box/Cropped_2-DJX6.svg].\n",
      "2025-09-22 14:37:39,857 - INFO - Computing checksums for file: [/data/kb_766/EyeAI_working/deriva-ml/execution/5-51CA/asset/eye-ai/Fundus_Bounding_Box/Cropped_2-DJX6.svg]. Please wait...\n",
      "2025-09-22 14:37:39,858 - INFO - Uploading file: [/data/kb_766/EyeAI_working/deriva-ml/execution/5-51CA/asset/eye-ai/Fundus_Bounding_Box/Cropped_2-DJX6.svg] to host https://www.eye-ai.org. Please wait...\n",
      "2025-09-22 14:37:39,939 - INFO - Processing: [/data/kb_766/EyeAI_working/deriva-ml/execution/5-51CA/asset/eye-ai/Fundus_Bounding_Box/Cropped_2-DKJT.svg]\n",
      "2025-09-22 14:37:39,939 - INFO - Computed metadata for: [/data/kb_766/EyeAI_working/deriva-ml/execution/5-51CA/asset/eye-ai/Fundus_Bounding_Box/Cropped_2-DKJT.svg].\n",
      "2025-09-22 14:37:39,940 - INFO - Computing checksums for file: [/data/kb_766/EyeAI_working/deriva-ml/execution/5-51CA/asset/eye-ai/Fundus_Bounding_Box/Cropped_2-DKJT.svg]. Please wait...\n",
      "2025-09-22 14:37:39,941 - INFO - Uploading file: [/data/kb_766/EyeAI_working/deriva-ml/execution/5-51CA/asset/eye-ai/Fundus_Bounding_Box/Cropped_2-DKJT.svg] to host https://www.eye-ai.org. Please wait...\n",
      "2025-09-22 14:37:40,040 - INFO - Processing: [/data/kb_766/EyeAI_working/deriva-ml/execution/5-51CA/asset/eye-ai/Fundus_Bounding_Box/Cropped_2-DKJY.svg]\n",
      "2025-09-22 14:37:40,041 - INFO - Computed metadata for: [/data/kb_766/EyeAI_working/deriva-ml/execution/5-51CA/asset/eye-ai/Fundus_Bounding_Box/Cropped_2-DKJY.svg].\n",
      "2025-09-22 14:37:40,041 - INFO - Computing checksums for file: [/data/kb_766/EyeAI_working/deriva-ml/execution/5-51CA/asset/eye-ai/Fundus_Bounding_Box/Cropped_2-DKJY.svg]. Please wait...\n",
      "2025-09-22 14:37:40,042 - INFO - Uploading file: [/data/kb_766/EyeAI_working/deriva-ml/execution/5-51CA/asset/eye-ai/Fundus_Bounding_Box/Cropped_2-DKJY.svg] to host https://www.eye-ai.org. Please wait...\n",
      "2025-09-22 14:37:40,129 - INFO - Processing: [/data/kb_766/EyeAI_working/deriva-ml/execution/5-51CA/asset/eye-ai/Fundus_Bounding_Box/Cropped_2-DKK4.svg]\n",
      "2025-09-22 14:37:40,129 - INFO - Computed metadata for: [/data/kb_766/EyeAI_working/deriva-ml/execution/5-51CA/asset/eye-ai/Fundus_Bounding_Box/Cropped_2-DKK4.svg].\n",
      "2025-09-22 14:37:40,130 - INFO - Computing checksums for file: [/data/kb_766/EyeAI_working/deriva-ml/execution/5-51CA/asset/eye-ai/Fundus_Bounding_Box/Cropped_2-DKK4.svg]. Please wait...\n",
      "2025-09-22 14:37:40,131 - INFO - Uploading file: [/data/kb_766/EyeAI_working/deriva-ml/execution/5-51CA/asset/eye-ai/Fundus_Bounding_Box/Cropped_2-DKK4.svg] to host https://www.eye-ai.org. Please wait...\n",
      "2025-09-22 14:37:40,212 - INFO - Processing: [/data/kb_766/EyeAI_working/deriva-ml/execution/5-51CA/asset/eye-ai/Fundus_Bounding_Box/Cropped_2-DKNG.svg]\n",
      "2025-09-22 14:37:40,213 - INFO - Computed metadata for: [/data/kb_766/EyeAI_working/deriva-ml/execution/5-51CA/asset/eye-ai/Fundus_Bounding_Box/Cropped_2-DKNG.svg].\n",
      "2025-09-22 14:37:40,213 - INFO - Computing checksums for file: [/data/kb_766/EyeAI_working/deriva-ml/execution/5-51CA/asset/eye-ai/Fundus_Bounding_Box/Cropped_2-DKNG.svg]. Please wait...\n",
      "2025-09-22 14:37:40,214 - INFO - Uploading file: [/data/kb_766/EyeAI_working/deriva-ml/execution/5-51CA/asset/eye-ai/Fundus_Bounding_Box/Cropped_2-DKNG.svg] to host https://www.eye-ai.org. Please wait...\n",
      "2025-09-22 14:37:40,297 - INFO - Processing: [/data/kb_766/EyeAI_working/deriva-ml/execution/5-51CA/asset/eye-ai/Fundus_Bounding_Box/Cropped_2-DKNM.svg]\n",
      "2025-09-22 14:37:40,298 - INFO - Computed metadata for: [/data/kb_766/EyeAI_working/deriva-ml/execution/5-51CA/asset/eye-ai/Fundus_Bounding_Box/Cropped_2-DKNM.svg].\n",
      "2025-09-22 14:37:40,299 - INFO - Computing checksums for file: [/data/kb_766/EyeAI_working/deriva-ml/execution/5-51CA/asset/eye-ai/Fundus_Bounding_Box/Cropped_2-DKNM.svg]. Please wait...\n",
      "2025-09-22 14:37:40,300 - INFO - Uploading file: [/data/kb_766/EyeAI_working/deriva-ml/execution/5-51CA/asset/eye-ai/Fundus_Bounding_Box/Cropped_2-DKNM.svg] to host https://www.eye-ai.org. Please wait...\n",
      "2025-09-22 14:37:40,414 - INFO - Processing: [/data/kb_766/EyeAI_working/deriva-ml/execution/5-51CA/asset/eye-ai/Fundus_Bounding_Box/Cropped_2-DKT0.svg]\n",
      "2025-09-22 14:37:40,415 - INFO - Computed metadata for: [/data/kb_766/EyeAI_working/deriva-ml/execution/5-51CA/asset/eye-ai/Fundus_Bounding_Box/Cropped_2-DKT0.svg].\n",
      "2025-09-22 14:37:40,415 - INFO - Computing checksums for file: [/data/kb_766/EyeAI_working/deriva-ml/execution/5-51CA/asset/eye-ai/Fundus_Bounding_Box/Cropped_2-DKT0.svg]. Please wait...\n",
      "2025-09-22 14:37:40,417 - INFO - Uploading file: [/data/kb_766/EyeAI_working/deriva-ml/execution/5-51CA/asset/eye-ai/Fundus_Bounding_Box/Cropped_2-DKT0.svg] to host https://www.eye-ai.org. Please wait...\n",
      "2025-09-22 14:37:40,502 - INFO - Processing: [/data/kb_766/EyeAI_working/deriva-ml/execution/5-51CA/asset/eye-ai/Fundus_Bounding_Box/Cropped_2-DKT2.svg]\n",
      "2025-09-22 14:37:40,503 - INFO - Computed metadata for: [/data/kb_766/EyeAI_working/deriva-ml/execution/5-51CA/asset/eye-ai/Fundus_Bounding_Box/Cropped_2-DKT2.svg].\n",
      "2025-09-22 14:37:40,503 - INFO - Computing checksums for file: [/data/kb_766/EyeAI_working/deriva-ml/execution/5-51CA/asset/eye-ai/Fundus_Bounding_Box/Cropped_2-DKT2.svg]. Please wait...\n",
      "2025-09-22 14:37:40,505 - INFO - Uploading file: [/data/kb_766/EyeAI_working/deriva-ml/execution/5-51CA/asset/eye-ai/Fundus_Bounding_Box/Cropped_2-DKT2.svg] to host https://www.eye-ai.org. Please wait...\n",
      "2025-09-22 14:37:40,581 - INFO - Processing: [/data/kb_766/EyeAI_working/deriva-ml/execution/5-51CA/asset/eye-ai/Fundus_Bounding_Box/Cropped_2-DKTC.svg]\n",
      "2025-09-22 14:37:40,582 - INFO - Computed metadata for: [/data/kb_766/EyeAI_working/deriva-ml/execution/5-51CA/asset/eye-ai/Fundus_Bounding_Box/Cropped_2-DKTC.svg].\n",
      "2025-09-22 14:37:40,582 - INFO - Computing checksums for file: [/data/kb_766/EyeAI_working/deriva-ml/execution/5-51CA/asset/eye-ai/Fundus_Bounding_Box/Cropped_2-DKTC.svg]. Please wait...\n",
      "2025-09-22 14:37:40,583 - INFO - Uploading file: [/data/kb_766/EyeAI_working/deriva-ml/execution/5-51CA/asset/eye-ai/Fundus_Bounding_Box/Cropped_2-DKTC.svg] to host https://www.eye-ai.org. Please wait...\n",
      "2025-09-22 14:37:40,667 - INFO - Processing: [/data/kb_766/EyeAI_working/deriva-ml/execution/5-51CA/asset/eye-ai/Fundus_Bounding_Box/Cropped_2-DKTM.svg]\n",
      "2025-09-22 14:37:40,668 - INFO - Computed metadata for: [/data/kb_766/EyeAI_working/deriva-ml/execution/5-51CA/asset/eye-ai/Fundus_Bounding_Box/Cropped_2-DKTM.svg].\n",
      "2025-09-22 14:37:40,668 - INFO - Computing checksums for file: [/data/kb_766/EyeAI_working/deriva-ml/execution/5-51CA/asset/eye-ai/Fundus_Bounding_Box/Cropped_2-DKTM.svg]. Please wait...\n",
      "2025-09-22 14:37:40,669 - INFO - Uploading file: [/data/kb_766/EyeAI_working/deriva-ml/execution/5-51CA/asset/eye-ai/Fundus_Bounding_Box/Cropped_2-DKTM.svg] to host https://www.eye-ai.org. Please wait...\n",
      "2025-09-22 14:37:40,752 - INFO - Processing: [/data/kb_766/EyeAI_working/deriva-ml/execution/5-51CA/asset/eye-ai/Fundus_Bounding_Box/Cropped_2-DKV6.svg]\n",
      "2025-09-22 14:37:40,753 - INFO - Computed metadata for: [/data/kb_766/EyeAI_working/deriva-ml/execution/5-51CA/asset/eye-ai/Fundus_Bounding_Box/Cropped_2-DKV6.svg].\n",
      "2025-09-22 14:37:40,754 - INFO - Computing checksums for file: [/data/kb_766/EyeAI_working/deriva-ml/execution/5-51CA/asset/eye-ai/Fundus_Bounding_Box/Cropped_2-DKV6.svg]. Please wait...\n",
      "2025-09-22 14:37:40,755 - INFO - Uploading file: [/data/kb_766/EyeAI_working/deriva-ml/execution/5-51CA/asset/eye-ai/Fundus_Bounding_Box/Cropped_2-DKV6.svg] to host https://www.eye-ai.org. Please wait...\n",
      "2025-09-22 14:37:40,833 - INFO - Processing: [/data/kb_766/EyeAI_working/deriva-ml/execution/5-51CA/asset/eye-ai/Fundus_Bounding_Box/Cropped_2-DKV8.svg]\n",
      "2025-09-22 14:37:40,834 - INFO - Computed metadata for: [/data/kb_766/EyeAI_working/deriva-ml/execution/5-51CA/asset/eye-ai/Fundus_Bounding_Box/Cropped_2-DKV8.svg].\n",
      "2025-09-22 14:37:40,834 - INFO - Computing checksums for file: [/data/kb_766/EyeAI_working/deriva-ml/execution/5-51CA/asset/eye-ai/Fundus_Bounding_Box/Cropped_2-DKV8.svg]. Please wait...\n",
      "2025-09-22 14:37:40,836 - INFO - Uploading file: [/data/kb_766/EyeAI_working/deriva-ml/execution/5-51CA/asset/eye-ai/Fundus_Bounding_Box/Cropped_2-DKV8.svg] to host https://www.eye-ai.org. Please wait...\n",
      "2025-09-22 14:37:40,933 - INFO - Processing: [/data/kb_766/EyeAI_working/deriva-ml/execution/5-51CA/asset/eye-ai/Fundus_Bounding_Box/Cropped_2-DM1T.svg]\n",
      "2025-09-22 14:37:40,934 - INFO - Computed metadata for: [/data/kb_766/EyeAI_working/deriva-ml/execution/5-51CA/asset/eye-ai/Fundus_Bounding_Box/Cropped_2-DM1T.svg].\n",
      "2025-09-22 14:37:40,934 - INFO - Computing checksums for file: [/data/kb_766/EyeAI_working/deriva-ml/execution/5-51CA/asset/eye-ai/Fundus_Bounding_Box/Cropped_2-DM1T.svg]. Please wait...\n",
      "2025-09-22 14:37:40,935 - INFO - Uploading file: [/data/kb_766/EyeAI_working/deriva-ml/execution/5-51CA/asset/eye-ai/Fundus_Bounding_Box/Cropped_2-DM1T.svg] to host https://www.eye-ai.org. Please wait...\n",
      "2025-09-22 14:37:41,013 - INFO - Processing: [/data/kb_766/EyeAI_working/deriva-ml/execution/5-51CA/asset/eye-ai/Fundus_Bounding_Box/Cropped_2-DM1W.svg]\n",
      "2025-09-22 14:37:41,014 - INFO - Computed metadata for: [/data/kb_766/EyeAI_working/deriva-ml/execution/5-51CA/asset/eye-ai/Fundus_Bounding_Box/Cropped_2-DM1W.svg].\n",
      "2025-09-22 14:37:41,014 - INFO - Computing checksums for file: [/data/kb_766/EyeAI_working/deriva-ml/execution/5-51CA/asset/eye-ai/Fundus_Bounding_Box/Cropped_2-DM1W.svg]. Please wait...\n",
      "2025-09-22 14:37:41,016 - INFO - Uploading file: [/data/kb_766/EyeAI_working/deriva-ml/execution/5-51CA/asset/eye-ai/Fundus_Bounding_Box/Cropped_2-DM1W.svg] to host https://www.eye-ai.org. Please wait...\n",
      "2025-09-22 14:37:41,097 - INFO - Processing: [/data/kb_766/EyeAI_working/deriva-ml/execution/5-51CA/asset/eye-ai/Fundus_Bounding_Box/Cropped_2-DM44.svg]\n",
      "2025-09-22 14:37:41,097 - INFO - Computed metadata for: [/data/kb_766/EyeAI_working/deriva-ml/execution/5-51CA/asset/eye-ai/Fundus_Bounding_Box/Cropped_2-DM44.svg].\n",
      "2025-09-22 14:37:41,098 - INFO - Computing checksums for file: [/data/kb_766/EyeAI_working/deriva-ml/execution/5-51CA/asset/eye-ai/Fundus_Bounding_Box/Cropped_2-DM44.svg]. Please wait...\n",
      "2025-09-22 14:37:41,099 - INFO - Uploading file: [/data/kb_766/EyeAI_working/deriva-ml/execution/5-51CA/asset/eye-ai/Fundus_Bounding_Box/Cropped_2-DM44.svg] to host https://www.eye-ai.org. Please wait...\n",
      "2025-09-22 14:37:41,175 - INFO - Processing: [/data/kb_766/EyeAI_working/deriva-ml/execution/5-51CA/asset/eye-ai/Fundus_Bounding_Box/Cropped_2-DM46.svg]\n",
      "2025-09-22 14:37:41,176 - INFO - Computed metadata for: [/data/kb_766/EyeAI_working/deriva-ml/execution/5-51CA/asset/eye-ai/Fundus_Bounding_Box/Cropped_2-DM46.svg].\n",
      "2025-09-22 14:37:41,177 - INFO - Computing checksums for file: [/data/kb_766/EyeAI_working/deriva-ml/execution/5-51CA/asset/eye-ai/Fundus_Bounding_Box/Cropped_2-DM46.svg]. Please wait...\n",
      "2025-09-22 14:37:41,177 - INFO - Uploading file: [/data/kb_766/EyeAI_working/deriva-ml/execution/5-51CA/asset/eye-ai/Fundus_Bounding_Box/Cropped_2-DM46.svg] to host https://www.eye-ai.org. Please wait...\n",
      "2025-09-22 14:37:41,260 - INFO - Processing: [/data/kb_766/EyeAI_working/deriva-ml/execution/5-51CA/asset/eye-ai/Fundus_Bounding_Box/Cropped_2-DM7R.svg]\n",
      "2025-09-22 14:37:41,261 - INFO - Computed metadata for: [/data/kb_766/EyeAI_working/deriva-ml/execution/5-51CA/asset/eye-ai/Fundus_Bounding_Box/Cropped_2-DM7R.svg].\n",
      "2025-09-22 14:37:41,262 - INFO - Computing checksums for file: [/data/kb_766/EyeAI_working/deriva-ml/execution/5-51CA/asset/eye-ai/Fundus_Bounding_Box/Cropped_2-DM7R.svg]. Please wait...\n",
      "2025-09-22 14:37:41,263 - INFO - Uploading file: [/data/kb_766/EyeAI_working/deriva-ml/execution/5-51CA/asset/eye-ai/Fundus_Bounding_Box/Cropped_2-DM7R.svg] to host https://www.eye-ai.org. Please wait...\n",
      "2025-09-22 14:37:41,344 - INFO - Processing: [/data/kb_766/EyeAI_working/deriva-ml/execution/5-51CA/asset/eye-ai/Fundus_Bounding_Box/Cropped_2-DM7T.svg]\n",
      "2025-09-22 14:37:41,345 - INFO - Computed metadata for: [/data/kb_766/EyeAI_working/deriva-ml/execution/5-51CA/asset/eye-ai/Fundus_Bounding_Box/Cropped_2-DM7T.svg].\n",
      "2025-09-22 14:37:41,346 - INFO - Computing checksums for file: [/data/kb_766/EyeAI_working/deriva-ml/execution/5-51CA/asset/eye-ai/Fundus_Bounding_Box/Cropped_2-DM7T.svg]. Please wait...\n",
      "2025-09-22 14:37:41,347 - INFO - Uploading file: [/data/kb_766/EyeAI_working/deriva-ml/execution/5-51CA/asset/eye-ai/Fundus_Bounding_Box/Cropped_2-DM7T.svg] to host https://www.eye-ai.org. Please wait...\n",
      "2025-09-22 14:37:41,422 - INFO - Processing: [/data/kb_766/EyeAI_working/deriva-ml/execution/5-51CA/asset/eye-ai/Fundus_Bounding_Box/Cropped_2-DMP8.svg]\n",
      "2025-09-22 14:37:41,423 - INFO - Computed metadata for: [/data/kb_766/EyeAI_working/deriva-ml/execution/5-51CA/asset/eye-ai/Fundus_Bounding_Box/Cropped_2-DMP8.svg].\n",
      "2025-09-22 14:37:41,423 - INFO - Computing checksums for file: [/data/kb_766/EyeAI_working/deriva-ml/execution/5-51CA/asset/eye-ai/Fundus_Bounding_Box/Cropped_2-DMP8.svg]. Please wait...\n",
      "2025-09-22 14:37:41,425 - INFO - Uploading file: [/data/kb_766/EyeAI_working/deriva-ml/execution/5-51CA/asset/eye-ai/Fundus_Bounding_Box/Cropped_2-DMP8.svg] to host https://www.eye-ai.org. Please wait...\n",
      "2025-09-22 14:37:41,508 - INFO - Processing: [/data/kb_766/EyeAI_working/deriva-ml/execution/5-51CA/asset/eye-ai/Fundus_Bounding_Box/Cropped_2-DMPC.svg]\n",
      "2025-09-22 14:37:41,508 - INFO - Computed metadata for: [/data/kb_766/EyeAI_working/deriva-ml/execution/5-51CA/asset/eye-ai/Fundus_Bounding_Box/Cropped_2-DMPC.svg].\n",
      "2025-09-22 14:37:41,509 - INFO - Computing checksums for file: [/data/kb_766/EyeAI_working/deriva-ml/execution/5-51CA/asset/eye-ai/Fundus_Bounding_Box/Cropped_2-DMPC.svg]. Please wait...\n",
      "2025-09-22 14:37:41,510 - INFO - Uploading file: [/data/kb_766/EyeAI_working/deriva-ml/execution/5-51CA/asset/eye-ai/Fundus_Bounding_Box/Cropped_2-DMPC.svg] to host https://www.eye-ai.org. Please wait...\n",
      "2025-09-22 14:37:41,597 - INFO - Processing: [/data/kb_766/EyeAI_working/deriva-ml/execution/5-51CA/asset/eye-ai/Fundus_Bounding_Box/Cropped_2-DN40.svg]\n",
      "2025-09-22 14:37:41,598 - INFO - Computed metadata for: [/data/kb_766/EyeAI_working/deriva-ml/execution/5-51CA/asset/eye-ai/Fundus_Bounding_Box/Cropped_2-DN40.svg].\n",
      "2025-09-22 14:37:41,598 - INFO - Computing checksums for file: [/data/kb_766/EyeAI_working/deriva-ml/execution/5-51CA/asset/eye-ai/Fundus_Bounding_Box/Cropped_2-DN40.svg]. Please wait...\n",
      "2025-09-22 14:37:41,599 - INFO - Uploading file: [/data/kb_766/EyeAI_working/deriva-ml/execution/5-51CA/asset/eye-ai/Fundus_Bounding_Box/Cropped_2-DN40.svg] to host https://www.eye-ai.org. Please wait...\n",
      "2025-09-22 14:37:41,687 - INFO - Processing: [/data/kb_766/EyeAI_working/deriva-ml/execution/5-51CA/asset/eye-ai/Fundus_Bounding_Box/Cropped_2-DN42.svg]\n",
      "2025-09-22 14:37:41,688 - INFO - Computed metadata for: [/data/kb_766/EyeAI_working/deriva-ml/execution/5-51CA/asset/eye-ai/Fundus_Bounding_Box/Cropped_2-DN42.svg].\n",
      "2025-09-22 14:37:41,688 - INFO - Computing checksums for file: [/data/kb_766/EyeAI_working/deriva-ml/execution/5-51CA/asset/eye-ai/Fundus_Bounding_Box/Cropped_2-DN42.svg]. Please wait...\n",
      "2025-09-22 14:37:41,689 - INFO - Uploading file: [/data/kb_766/EyeAI_working/deriva-ml/execution/5-51CA/asset/eye-ai/Fundus_Bounding_Box/Cropped_2-DN42.svg] to host https://www.eye-ai.org. Please wait...\n",
      "2025-09-22 14:37:41,770 - INFO - Processing: [/data/kb_766/EyeAI_working/deriva-ml/execution/5-51CA/asset/eye-ai/Fundus_Bounding_Box/Cropped_2-DN9C.svg]\n",
      "2025-09-22 14:37:41,771 - INFO - Computed metadata for: [/data/kb_766/EyeAI_working/deriva-ml/execution/5-51CA/asset/eye-ai/Fundus_Bounding_Box/Cropped_2-DN9C.svg].\n",
      "2025-09-22 14:37:41,771 - INFO - Computing checksums for file: [/data/kb_766/EyeAI_working/deriva-ml/execution/5-51CA/asset/eye-ai/Fundus_Bounding_Box/Cropped_2-DN9C.svg]. Please wait...\n",
      "2025-09-22 14:37:41,773 - INFO - Uploading file: [/data/kb_766/EyeAI_working/deriva-ml/execution/5-51CA/asset/eye-ai/Fundus_Bounding_Box/Cropped_2-DN9C.svg] to host https://www.eye-ai.org. Please wait...\n",
      "2025-09-22 14:37:41,852 - INFO - Processing: [/data/kb_766/EyeAI_working/deriva-ml/execution/5-51CA/asset/eye-ai/Fundus_Bounding_Box/Cropped_2-DNZ6.svg]\n",
      "2025-09-22 14:37:41,852 - INFO - Computed metadata for: [/data/kb_766/EyeAI_working/deriva-ml/execution/5-51CA/asset/eye-ai/Fundus_Bounding_Box/Cropped_2-DNZ6.svg].\n",
      "2025-09-22 14:37:41,853 - INFO - Computing checksums for file: [/data/kb_766/EyeAI_working/deriva-ml/execution/5-51CA/asset/eye-ai/Fundus_Bounding_Box/Cropped_2-DNZ6.svg]. Please wait...\n",
      "2025-09-22 14:37:41,854 - INFO - Uploading file: [/data/kb_766/EyeAI_working/deriva-ml/execution/5-51CA/asset/eye-ai/Fundus_Bounding_Box/Cropped_2-DNZ6.svg] to host https://www.eye-ai.org. Please wait...\n",
      "2025-09-22 14:37:41,940 - INFO - Processing: [/data/kb_766/EyeAI_working/deriva-ml/execution/5-51CA/asset/eye-ai/Fundus_Bounding_Box/Cropped_2-DNZC.svg]\n",
      "2025-09-22 14:37:41,941 - INFO - Computed metadata for: [/data/kb_766/EyeAI_working/deriva-ml/execution/5-51CA/asset/eye-ai/Fundus_Bounding_Box/Cropped_2-DNZC.svg].\n",
      "2025-09-22 14:37:41,941 - INFO - Computing checksums for file: [/data/kb_766/EyeAI_working/deriva-ml/execution/5-51CA/asset/eye-ai/Fundus_Bounding_Box/Cropped_2-DNZC.svg]. Please wait...\n",
      "2025-09-22 14:37:41,943 - INFO - Uploading file: [/data/kb_766/EyeAI_working/deriva-ml/execution/5-51CA/asset/eye-ai/Fundus_Bounding_Box/Cropped_2-DNZC.svg] to host https://www.eye-ai.org. Please wait...\n",
      "2025-09-22 14:37:42,027 - INFO - Processing: [/data/kb_766/EyeAI_working/deriva-ml/execution/5-51CA/asset/eye-ai/Fundus_Bounding_Box/Cropped_2-DP0W.svg]\n",
      "2025-09-22 14:37:42,028 - INFO - Computed metadata for: [/data/kb_766/EyeAI_working/deriva-ml/execution/5-51CA/asset/eye-ai/Fundus_Bounding_Box/Cropped_2-DP0W.svg].\n",
      "2025-09-22 14:37:42,028 - INFO - Computing checksums for file: [/data/kb_766/EyeAI_working/deriva-ml/execution/5-51CA/asset/eye-ai/Fundus_Bounding_Box/Cropped_2-DP0W.svg]. Please wait...\n",
      "2025-09-22 14:37:42,029 - INFO - Uploading file: [/data/kb_766/EyeAI_working/deriva-ml/execution/5-51CA/asset/eye-ai/Fundus_Bounding_Box/Cropped_2-DP0W.svg] to host https://www.eye-ai.org. Please wait...\n",
      "2025-09-22 14:37:42,112 - INFO - Processing: [/data/kb_766/EyeAI_working/deriva-ml/execution/5-51CA/asset/eye-ai/Fundus_Bounding_Box/Cropped_2-DP10.svg]\n",
      "2025-09-22 14:37:42,112 - INFO - Computed metadata for: [/data/kb_766/EyeAI_working/deriva-ml/execution/5-51CA/asset/eye-ai/Fundus_Bounding_Box/Cropped_2-DP10.svg].\n",
      "2025-09-22 14:37:42,113 - INFO - Computing checksums for file: [/data/kb_766/EyeAI_working/deriva-ml/execution/5-51CA/asset/eye-ai/Fundus_Bounding_Box/Cropped_2-DP10.svg]. Please wait...\n",
      "2025-09-22 14:37:42,114 - INFO - Uploading file: [/data/kb_766/EyeAI_working/deriva-ml/execution/5-51CA/asset/eye-ai/Fundus_Bounding_Box/Cropped_2-DP10.svg] to host https://www.eye-ai.org. Please wait...\n",
      "2025-09-22 14:37:42,194 - INFO - Processing: [/data/kb_766/EyeAI_working/deriva-ml/execution/5-51CA/asset/eye-ai/Fundus_Bounding_Box/Cropped_2-DP88.svg]\n",
      "2025-09-22 14:37:42,194 - INFO - Computed metadata for: [/data/kb_766/EyeAI_working/deriva-ml/execution/5-51CA/asset/eye-ai/Fundus_Bounding_Box/Cropped_2-DP88.svg].\n",
      "2025-09-22 14:37:42,195 - INFO - Computing checksums for file: [/data/kb_766/EyeAI_working/deriva-ml/execution/5-51CA/asset/eye-ai/Fundus_Bounding_Box/Cropped_2-DP88.svg]. Please wait...\n",
      "2025-09-22 14:37:42,196 - INFO - Uploading file: [/data/kb_766/EyeAI_working/deriva-ml/execution/5-51CA/asset/eye-ai/Fundus_Bounding_Box/Cropped_2-DP88.svg] to host https://www.eye-ai.org. Please wait...\n",
      "2025-09-22 14:37:42,281 - INFO - Processing: [/data/kb_766/EyeAI_working/deriva-ml/execution/5-51CA/asset/eye-ai/Fundus_Bounding_Box/Cropped_2-DP8E.svg]\n",
      "2025-09-22 14:37:42,282 - INFO - Computed metadata for: [/data/kb_766/EyeAI_working/deriva-ml/execution/5-51CA/asset/eye-ai/Fundus_Bounding_Box/Cropped_2-DP8E.svg].\n",
      "2025-09-22 14:37:42,282 - INFO - Computing checksums for file: [/data/kb_766/EyeAI_working/deriva-ml/execution/5-51CA/asset/eye-ai/Fundus_Bounding_Box/Cropped_2-DP8E.svg]. Please wait...\n",
      "2025-09-22 14:37:42,283 - INFO - Uploading file: [/data/kb_766/EyeAI_working/deriva-ml/execution/5-51CA/asset/eye-ai/Fundus_Bounding_Box/Cropped_2-DP8E.svg] to host https://www.eye-ai.org. Please wait...\n",
      "2025-09-22 14:37:42,371 - INFO - Processing: [/data/kb_766/EyeAI_working/deriva-ml/execution/5-51CA/asset/eye-ai/Fundus_Bounding_Box/Cropped_2-DP9R.svg]\n",
      "2025-09-22 14:37:42,371 - INFO - Computed metadata for: [/data/kb_766/EyeAI_working/deriva-ml/execution/5-51CA/asset/eye-ai/Fundus_Bounding_Box/Cropped_2-DP9R.svg].\n",
      "2025-09-22 14:37:42,372 - INFO - Computing checksums for file: [/data/kb_766/EyeAI_working/deriva-ml/execution/5-51CA/asset/eye-ai/Fundus_Bounding_Box/Cropped_2-DP9R.svg]. Please wait...\n",
      "2025-09-22 14:37:42,373 - INFO - Uploading file: [/data/kb_766/EyeAI_working/deriva-ml/execution/5-51CA/asset/eye-ai/Fundus_Bounding_Box/Cropped_2-DP9R.svg] to host https://www.eye-ai.org. Please wait...\n",
      "2025-09-22 14:37:42,454 - INFO - Processing: [/data/kb_766/EyeAI_working/deriva-ml/execution/5-51CA/asset/eye-ai/Fundus_Bounding_Box/Cropped_2-DP9T.svg]\n",
      "2025-09-22 14:37:42,455 - INFO - Computed metadata for: [/data/kb_766/EyeAI_working/deriva-ml/execution/5-51CA/asset/eye-ai/Fundus_Bounding_Box/Cropped_2-DP9T.svg].\n",
      "2025-09-22 14:37:42,456 - INFO - Computing checksums for file: [/data/kb_766/EyeAI_working/deriva-ml/execution/5-51CA/asset/eye-ai/Fundus_Bounding_Box/Cropped_2-DP9T.svg]. Please wait...\n",
      "2025-09-22 14:37:42,457 - INFO - Uploading file: [/data/kb_766/EyeAI_working/deriva-ml/execution/5-51CA/asset/eye-ai/Fundus_Bounding_Box/Cropped_2-DP9T.svg] to host https://www.eye-ai.org. Please wait...\n",
      "2025-09-22 14:37:42,535 - INFO - Processing: [/data/kb_766/EyeAI_working/deriva-ml/execution/5-51CA/asset/eye-ai/Fundus_Bounding_Box/Cropped_2-DPG0.svg]\n",
      "2025-09-22 14:37:42,536 - INFO - Computed metadata for: [/data/kb_766/EyeAI_working/deriva-ml/execution/5-51CA/asset/eye-ai/Fundus_Bounding_Box/Cropped_2-DPG0.svg].\n",
      "2025-09-22 14:37:42,536 - INFO - Computing checksums for file: [/data/kb_766/EyeAI_working/deriva-ml/execution/5-51CA/asset/eye-ai/Fundus_Bounding_Box/Cropped_2-DPG0.svg]. Please wait...\n",
      "2025-09-22 14:37:42,537 - INFO - Uploading file: [/data/kb_766/EyeAI_working/deriva-ml/execution/5-51CA/asset/eye-ai/Fundus_Bounding_Box/Cropped_2-DPG0.svg] to host https://www.eye-ai.org. Please wait...\n",
      "2025-09-22 14:37:42,620 - INFO - Processing: [/data/kb_766/EyeAI_working/deriva-ml/execution/5-51CA/asset/eye-ai/Fundus_Bounding_Box/Cropped_2-DPG2.svg]\n",
      "2025-09-22 14:37:42,621 - INFO - Computed metadata for: [/data/kb_766/EyeAI_working/deriva-ml/execution/5-51CA/asset/eye-ai/Fundus_Bounding_Box/Cropped_2-DPG2.svg].\n",
      "2025-09-22 14:37:42,621 - INFO - Computing checksums for file: [/data/kb_766/EyeAI_working/deriva-ml/execution/5-51CA/asset/eye-ai/Fundus_Bounding_Box/Cropped_2-DPG2.svg]. Please wait...\n",
      "2025-09-22 14:37:42,623 - INFO - Uploading file: [/data/kb_766/EyeAI_working/deriva-ml/execution/5-51CA/asset/eye-ai/Fundus_Bounding_Box/Cropped_2-DPG2.svg] to host https://www.eye-ai.org. Please wait...\n",
      "2025-09-22 14:37:42,709 - INFO - Processing: [/data/kb_766/EyeAI_working/deriva-ml/execution/5-51CA/asset/eye-ai/Fundus_Bounding_Box/Cropped_2-DPJJ.svg]\n",
      "2025-09-22 14:37:42,709 - INFO - Computed metadata for: [/data/kb_766/EyeAI_working/deriva-ml/execution/5-51CA/asset/eye-ai/Fundus_Bounding_Box/Cropped_2-DPJJ.svg].\n",
      "2025-09-22 14:37:42,710 - INFO - Computing checksums for file: [/data/kb_766/EyeAI_working/deriva-ml/execution/5-51CA/asset/eye-ai/Fundus_Bounding_Box/Cropped_2-DPJJ.svg]. Please wait...\n",
      "2025-09-22 14:37:42,711 - INFO - Uploading file: [/data/kb_766/EyeAI_working/deriva-ml/execution/5-51CA/asset/eye-ai/Fundus_Bounding_Box/Cropped_2-DPJJ.svg] to host https://www.eye-ai.org. Please wait...\n",
      "2025-09-22 14:37:42,796 - INFO - Processing: [/data/kb_766/EyeAI_working/deriva-ml/execution/5-51CA/asset/eye-ai/Fundus_Bounding_Box/Cropped_2-DPY8.svg]\n",
      "2025-09-22 14:37:42,796 - INFO - Computed metadata for: [/data/kb_766/EyeAI_working/deriva-ml/execution/5-51CA/asset/eye-ai/Fundus_Bounding_Box/Cropped_2-DPY8.svg].\n",
      "2025-09-22 14:37:42,797 - INFO - Computing checksums for file: [/data/kb_766/EyeAI_working/deriva-ml/execution/5-51CA/asset/eye-ai/Fundus_Bounding_Box/Cropped_2-DPY8.svg]. Please wait...\n",
      "2025-09-22 14:37:42,798 - INFO - Uploading file: [/data/kb_766/EyeAI_working/deriva-ml/execution/5-51CA/asset/eye-ai/Fundus_Bounding_Box/Cropped_2-DPY8.svg] to host https://www.eye-ai.org. Please wait...\n",
      "2025-09-22 14:37:42,889 - INFO - Processing: [/data/kb_766/EyeAI_working/deriva-ml/execution/5-51CA/asset/eye-ai/Fundus_Bounding_Box/Cropped_2-DPYA.svg]\n",
      "2025-09-22 14:37:42,890 - INFO - Computed metadata for: [/data/kb_766/EyeAI_working/deriva-ml/execution/5-51CA/asset/eye-ai/Fundus_Bounding_Box/Cropped_2-DPYA.svg].\n",
      "2025-09-22 14:37:42,890 - INFO - Computing checksums for file: [/data/kb_766/EyeAI_working/deriva-ml/execution/5-51CA/asset/eye-ai/Fundus_Bounding_Box/Cropped_2-DPYA.svg]. Please wait...\n",
      "2025-09-22 14:37:42,892 - INFO - Uploading file: [/data/kb_766/EyeAI_working/deriva-ml/execution/5-51CA/asset/eye-ai/Fundus_Bounding_Box/Cropped_2-DPYA.svg] to host https://www.eye-ai.org. Please wait...\n",
      "2025-09-22 14:37:43,000 - INFO - Processing: [/data/kb_766/EyeAI_working/deriva-ml/execution/5-51CA/asset/eye-ai/Fundus_Bounding_Box/Cropped_2-DQ1P.svg]\n",
      "2025-09-22 14:37:43,001 - INFO - Computed metadata for: [/data/kb_766/EyeAI_working/deriva-ml/execution/5-51CA/asset/eye-ai/Fundus_Bounding_Box/Cropped_2-DQ1P.svg].\n",
      "2025-09-22 14:37:43,001 - INFO - Computing checksums for file: [/data/kb_766/EyeAI_working/deriva-ml/execution/5-51CA/asset/eye-ai/Fundus_Bounding_Box/Cropped_2-DQ1P.svg]. Please wait...\n",
      "2025-09-22 14:37:43,002 - INFO - Uploading file: [/data/kb_766/EyeAI_working/deriva-ml/execution/5-51CA/asset/eye-ai/Fundus_Bounding_Box/Cropped_2-DQ1P.svg] to host https://www.eye-ai.org. Please wait...\n",
      "2025-09-22 14:37:43,135 - INFO - Processing: [/data/kb_766/EyeAI_working/deriva-ml/execution/5-51CA/asset/eye-ai/Fundus_Bounding_Box/Cropped_2-DQ24.svg]\n",
      "2025-09-22 14:37:43,136 - INFO - Computed metadata for: [/data/kb_766/EyeAI_working/deriva-ml/execution/5-51CA/asset/eye-ai/Fundus_Bounding_Box/Cropped_2-DQ24.svg].\n",
      "2025-09-22 14:37:43,137 - INFO - Computing checksums for file: [/data/kb_766/EyeAI_working/deriva-ml/execution/5-51CA/asset/eye-ai/Fundus_Bounding_Box/Cropped_2-DQ24.svg]. Please wait...\n",
      "2025-09-22 14:37:43,138 - INFO - Uploading file: [/data/kb_766/EyeAI_working/deriva-ml/execution/5-51CA/asset/eye-ai/Fundus_Bounding_Box/Cropped_2-DQ24.svg] to host https://www.eye-ai.org. Please wait...\n",
      "2025-09-22 14:37:43,217 - INFO - Processing: [/data/kb_766/EyeAI_working/deriva-ml/execution/5-51CA/asset/eye-ai/Fundus_Bounding_Box/Cropped_2-DQ70.svg]\n",
      "2025-09-22 14:37:43,218 - INFO - Computed metadata for: [/data/kb_766/EyeAI_working/deriva-ml/execution/5-51CA/asset/eye-ai/Fundus_Bounding_Box/Cropped_2-DQ70.svg].\n",
      "2025-09-22 14:37:43,218 - INFO - Computing checksums for file: [/data/kb_766/EyeAI_working/deriva-ml/execution/5-51CA/asset/eye-ai/Fundus_Bounding_Box/Cropped_2-DQ70.svg]. Please wait...\n",
      "2025-09-22 14:37:43,220 - INFO - Uploading file: [/data/kb_766/EyeAI_working/deriva-ml/execution/5-51CA/asset/eye-ai/Fundus_Bounding_Box/Cropped_2-DQ70.svg] to host https://www.eye-ai.org. Please wait...\n",
      "2025-09-22 14:37:43,303 - INFO - Processing: [/data/kb_766/EyeAI_working/deriva-ml/execution/5-51CA/asset/eye-ai/Fundus_Bounding_Box/Cropped_2-DQ74.svg]\n",
      "2025-09-22 14:37:43,304 - INFO - Computed metadata for: [/data/kb_766/EyeAI_working/deriva-ml/execution/5-51CA/asset/eye-ai/Fundus_Bounding_Box/Cropped_2-DQ74.svg].\n",
      "2025-09-22 14:37:43,304 - INFO - Computing checksums for file: [/data/kb_766/EyeAI_working/deriva-ml/execution/5-51CA/asset/eye-ai/Fundus_Bounding_Box/Cropped_2-DQ74.svg]. Please wait...\n",
      "2025-09-22 14:37:43,305 - INFO - Uploading file: [/data/kb_766/EyeAI_working/deriva-ml/execution/5-51CA/asset/eye-ai/Fundus_Bounding_Box/Cropped_2-DQ74.svg] to host https://www.eye-ai.org. Please wait...\n",
      "2025-09-22 14:37:43,388 - INFO - Processing: [/data/kb_766/EyeAI_working/deriva-ml/execution/5-51CA/asset/eye-ai/Fundus_Bounding_Box/Cropped_2-DQ82.svg]\n",
      "2025-09-22 14:37:43,388 - INFO - Computed metadata for: [/data/kb_766/EyeAI_working/deriva-ml/execution/5-51CA/asset/eye-ai/Fundus_Bounding_Box/Cropped_2-DQ82.svg].\n",
      "2025-09-22 14:37:43,389 - INFO - Computing checksums for file: [/data/kb_766/EyeAI_working/deriva-ml/execution/5-51CA/asset/eye-ai/Fundus_Bounding_Box/Cropped_2-DQ82.svg]. Please wait...\n",
      "2025-09-22 14:37:43,390 - INFO - Uploading file: [/data/kb_766/EyeAI_working/deriva-ml/execution/5-51CA/asset/eye-ai/Fundus_Bounding_Box/Cropped_2-DQ82.svg] to host https://www.eye-ai.org. Please wait...\n",
      "2025-09-22 14:37:43,477 - INFO - Processing: [/data/kb_766/EyeAI_working/deriva-ml/execution/5-51CA/asset/eye-ai/Fundus_Bounding_Box/Cropped_2-DQ84.svg]\n",
      "2025-09-22 14:37:43,478 - INFO - Computed metadata for: [/data/kb_766/EyeAI_working/deriva-ml/execution/5-51CA/asset/eye-ai/Fundus_Bounding_Box/Cropped_2-DQ84.svg].\n",
      "2025-09-22 14:37:43,479 - INFO - Computing checksums for file: [/data/kb_766/EyeAI_working/deriva-ml/execution/5-51CA/asset/eye-ai/Fundus_Bounding_Box/Cropped_2-DQ84.svg]. Please wait...\n",
      "2025-09-22 14:37:43,480 - INFO - Uploading file: [/data/kb_766/EyeAI_working/deriva-ml/execution/5-51CA/asset/eye-ai/Fundus_Bounding_Box/Cropped_2-DQ84.svg] to host https://www.eye-ai.org. Please wait...\n",
      "2025-09-22 14:37:43,560 - INFO - Processing: [/data/kb_766/EyeAI_working/deriva-ml/execution/5-51CA/asset/eye-ai/Fundus_Bounding_Box/Cropped_2-DQCE.svg]\n",
      "2025-09-22 14:37:43,560 - INFO - Computed metadata for: [/data/kb_766/EyeAI_working/deriva-ml/execution/5-51CA/asset/eye-ai/Fundus_Bounding_Box/Cropped_2-DQCE.svg].\n",
      "2025-09-22 14:37:43,561 - INFO - Computing checksums for file: [/data/kb_766/EyeAI_working/deriva-ml/execution/5-51CA/asset/eye-ai/Fundus_Bounding_Box/Cropped_2-DQCE.svg]. Please wait...\n",
      "2025-09-22 14:37:43,562 - INFO - Uploading file: [/data/kb_766/EyeAI_working/deriva-ml/execution/5-51CA/asset/eye-ai/Fundus_Bounding_Box/Cropped_2-DQCE.svg] to host https://www.eye-ai.org. Please wait...\n",
      "2025-09-22 14:37:43,643 - INFO - Processing: [/data/kb_766/EyeAI_working/deriva-ml/execution/5-51CA/asset/eye-ai/Fundus_Bounding_Box/Cropped_2-DQCG.svg]\n",
      "2025-09-22 14:37:43,644 - INFO - Computed metadata for: [/data/kb_766/EyeAI_working/deriva-ml/execution/5-51CA/asset/eye-ai/Fundus_Bounding_Box/Cropped_2-DQCG.svg].\n",
      "2025-09-22 14:37:43,644 - INFO - Computing checksums for file: [/data/kb_766/EyeAI_working/deriva-ml/execution/5-51CA/asset/eye-ai/Fundus_Bounding_Box/Cropped_2-DQCG.svg]. Please wait...\n",
      "2025-09-22 14:37:43,646 - INFO - Uploading file: [/data/kb_766/EyeAI_working/deriva-ml/execution/5-51CA/asset/eye-ai/Fundus_Bounding_Box/Cropped_2-DQCG.svg] to host https://www.eye-ai.org. Please wait...\n",
      "2025-09-22 14:37:43,724 - INFO - Processing: [/data/kb_766/EyeAI_working/deriva-ml/execution/5-51CA/asset/eye-ai/Fundus_Bounding_Box/Cropped_2-DQMA.svg]\n",
      "2025-09-22 14:37:43,724 - INFO - Computed metadata for: [/data/kb_766/EyeAI_working/deriva-ml/execution/5-51CA/asset/eye-ai/Fundus_Bounding_Box/Cropped_2-DQMA.svg].\n",
      "2025-09-22 14:37:43,725 - INFO - Computing checksums for file: [/data/kb_766/EyeAI_working/deriva-ml/execution/5-51CA/asset/eye-ai/Fundus_Bounding_Box/Cropped_2-DQMA.svg]. Please wait...\n",
      "2025-09-22 14:37:43,726 - INFO - Uploading file: [/data/kb_766/EyeAI_working/deriva-ml/execution/5-51CA/asset/eye-ai/Fundus_Bounding_Box/Cropped_2-DQMA.svg] to host https://www.eye-ai.org. Please wait...\n",
      "2025-09-22 14:37:43,815 - INFO - Processing: [/data/kb_766/EyeAI_working/deriva-ml/execution/5-51CA/asset/eye-ai/Fundus_Bounding_Box/Cropped_2-DQME.svg]\n",
      "2025-09-22 14:37:43,816 - INFO - Computed metadata for: [/data/kb_766/EyeAI_working/deriva-ml/execution/5-51CA/asset/eye-ai/Fundus_Bounding_Box/Cropped_2-DQME.svg].\n",
      "2025-09-22 14:37:43,816 - INFO - Computing checksums for file: [/data/kb_766/EyeAI_working/deriva-ml/execution/5-51CA/asset/eye-ai/Fundus_Bounding_Box/Cropped_2-DQME.svg]. Please wait...\n",
      "2025-09-22 14:37:43,818 - INFO - Uploading file: [/data/kb_766/EyeAI_working/deriva-ml/execution/5-51CA/asset/eye-ai/Fundus_Bounding_Box/Cropped_2-DQME.svg] to host https://www.eye-ai.org. Please wait...\n",
      "2025-09-22 14:37:43,897 - INFO - Processing: [/data/kb_766/EyeAI_working/deriva-ml/execution/5-51CA/asset/eye-ai/Fundus_Bounding_Box/Cropped_2-DQTA.svg]\n",
      "2025-09-22 14:37:43,897 - INFO - Computed metadata for: [/data/kb_766/EyeAI_working/deriva-ml/execution/5-51CA/asset/eye-ai/Fundus_Bounding_Box/Cropped_2-DQTA.svg].\n",
      "2025-09-22 14:37:43,898 - INFO - Computing checksums for file: [/data/kb_766/EyeAI_working/deriva-ml/execution/5-51CA/asset/eye-ai/Fundus_Bounding_Box/Cropped_2-DQTA.svg]. Please wait...\n",
      "2025-09-22 14:37:43,899 - INFO - Uploading file: [/data/kb_766/EyeAI_working/deriva-ml/execution/5-51CA/asset/eye-ai/Fundus_Bounding_Box/Cropped_2-DQTA.svg] to host https://www.eye-ai.org. Please wait...\n",
      "2025-09-22 14:37:43,987 - INFO - Processing: [/data/kb_766/EyeAI_working/deriva-ml/execution/5-51CA/asset/eye-ai/Fundus_Bounding_Box/Cropped_2-DQTE.svg]\n",
      "2025-09-22 14:37:43,988 - INFO - Computed metadata for: [/data/kb_766/EyeAI_working/deriva-ml/execution/5-51CA/asset/eye-ai/Fundus_Bounding_Box/Cropped_2-DQTE.svg].\n",
      "2025-09-22 14:37:43,989 - INFO - Computing checksums for file: [/data/kb_766/EyeAI_working/deriva-ml/execution/5-51CA/asset/eye-ai/Fundus_Bounding_Box/Cropped_2-DQTE.svg]. Please wait...\n",
      "2025-09-22 14:37:43,990 - INFO - Uploading file: [/data/kb_766/EyeAI_working/deriva-ml/execution/5-51CA/asset/eye-ai/Fundus_Bounding_Box/Cropped_2-DQTE.svg] to host https://www.eye-ai.org. Please wait...\n",
      "2025-09-22 14:37:44,074 - INFO - Processing: [/data/kb_766/EyeAI_working/deriva-ml/execution/5-51CA/asset/eye-ai/Fundus_Bounding_Box/Cropped_2-DR5A.svg]\n",
      "2025-09-22 14:37:44,075 - INFO - Computed metadata for: [/data/kb_766/EyeAI_working/deriva-ml/execution/5-51CA/asset/eye-ai/Fundus_Bounding_Box/Cropped_2-DR5A.svg].\n",
      "2025-09-22 14:37:44,075 - INFO - Computing checksums for file: [/data/kb_766/EyeAI_working/deriva-ml/execution/5-51CA/asset/eye-ai/Fundus_Bounding_Box/Cropped_2-DR5A.svg]. Please wait...\n",
      "2025-09-22 14:37:44,076 - INFO - Uploading file: [/data/kb_766/EyeAI_working/deriva-ml/execution/5-51CA/asset/eye-ai/Fundus_Bounding_Box/Cropped_2-DR5A.svg] to host https://www.eye-ai.org. Please wait...\n",
      "2025-09-22 14:37:44,164 - INFO - Processing: [/data/kb_766/EyeAI_working/deriva-ml/execution/5-51CA/asset/eye-ai/Fundus_Bounding_Box/Cropped_2-DR5C.svg]\n",
      "2025-09-22 14:37:44,164 - INFO - Computed metadata for: [/data/kb_766/EyeAI_working/deriva-ml/execution/5-51CA/asset/eye-ai/Fundus_Bounding_Box/Cropped_2-DR5C.svg].\n",
      "2025-09-22 14:37:44,165 - INFO - Computing checksums for file: [/data/kb_766/EyeAI_working/deriva-ml/execution/5-51CA/asset/eye-ai/Fundus_Bounding_Box/Cropped_2-DR5C.svg]. Please wait...\n",
      "2025-09-22 14:37:44,166 - INFO - Uploading file: [/data/kb_766/EyeAI_working/deriva-ml/execution/5-51CA/asset/eye-ai/Fundus_Bounding_Box/Cropped_2-DR5C.svg] to host https://www.eye-ai.org. Please wait...\n",
      "2025-09-22 14:37:44,241 - INFO - Processing: [/data/kb_766/EyeAI_working/deriva-ml/execution/5-51CA/asset/eye-ai/Fundus_Bounding_Box/Cropped_2-DR94.svg]\n",
      "2025-09-22 14:37:44,242 - INFO - Computed metadata for: [/data/kb_766/EyeAI_working/deriva-ml/execution/5-51CA/asset/eye-ai/Fundus_Bounding_Box/Cropped_2-DR94.svg].\n",
      "2025-09-22 14:37:44,242 - INFO - Computing checksums for file: [/data/kb_766/EyeAI_working/deriva-ml/execution/5-51CA/asset/eye-ai/Fundus_Bounding_Box/Cropped_2-DR94.svg]. Please wait...\n",
      "2025-09-22 14:37:44,243 - INFO - Uploading file: [/data/kb_766/EyeAI_working/deriva-ml/execution/5-51CA/asset/eye-ai/Fundus_Bounding_Box/Cropped_2-DR94.svg] to host https://www.eye-ai.org. Please wait...\n",
      "2025-09-22 14:37:44,330 - INFO - Processing: [/data/kb_766/EyeAI_working/deriva-ml/execution/5-51CA/asset/eye-ai/Fundus_Bounding_Box/Cropped_2-DR96.svg]\n",
      "2025-09-22 14:37:44,330 - INFO - Computed metadata for: [/data/kb_766/EyeAI_working/deriva-ml/execution/5-51CA/asset/eye-ai/Fundus_Bounding_Box/Cropped_2-DR96.svg].\n",
      "2025-09-22 14:37:44,331 - INFO - Computing checksums for file: [/data/kb_766/EyeAI_working/deriva-ml/execution/5-51CA/asset/eye-ai/Fundus_Bounding_Box/Cropped_2-DR96.svg]. Please wait...\n",
      "2025-09-22 14:37:44,332 - INFO - Uploading file: [/data/kb_766/EyeAI_working/deriva-ml/execution/5-51CA/asset/eye-ai/Fundus_Bounding_Box/Cropped_2-DR96.svg] to host https://www.eye-ai.org. Please wait...\n",
      "2025-09-22 14:37:44,419 - INFO - Processing: [/data/kb_766/EyeAI_working/deriva-ml/execution/5-51CA/asset/eye-ai/Fundus_Bounding_Box/Cropped_2-DRG0.svg]\n",
      "2025-09-22 14:37:44,420 - INFO - Computed metadata for: [/data/kb_766/EyeAI_working/deriva-ml/execution/5-51CA/asset/eye-ai/Fundus_Bounding_Box/Cropped_2-DRG0.svg].\n",
      "2025-09-22 14:37:44,421 - INFO - Computing checksums for file: [/data/kb_766/EyeAI_working/deriva-ml/execution/5-51CA/asset/eye-ai/Fundus_Bounding_Box/Cropped_2-DRG0.svg]. Please wait...\n",
      "2025-09-22 14:37:44,422 - INFO - Uploading file: [/data/kb_766/EyeAI_working/deriva-ml/execution/5-51CA/asset/eye-ai/Fundus_Bounding_Box/Cropped_2-DRG0.svg] to host https://www.eye-ai.org. Please wait...\n",
      "2025-09-22 14:37:44,500 - INFO - Processing: [/data/kb_766/EyeAI_working/deriva-ml/execution/5-51CA/asset/eye-ai/Fundus_Bounding_Box/Cropped_2-DRG4.svg]\n"
     ]
    }
   ],
   "source": [
    "execution.upload_execution_outputs()"
   ]
  },
  {
   "cell_type": "code",
   "execution_count": null,
   "id": "08dfd563-8297-4941-837c-45232bad1e08",
   "metadata": {},
   "outputs": [],
   "source": []
  }
 ],
 "metadata": {
  "kernelspec": {
   "display_name": "My TensorFlow (Conda)",
   "language": "python",
   "name": "my-tensorflow-conda"
  },
  "language_info": {
   "codemirror_mode": {
    "name": "ipython",
    "version": 3
   },
   "file_extension": ".py",
   "mimetype": "text/x-python",
   "name": "python",
   "nbconvert_exporter": "python",
   "pygments_lexer": "ipython3",
   "version": "3.10.13"
  }
 },
 "nbformat": 4,
 "nbformat_minor": 5
}
