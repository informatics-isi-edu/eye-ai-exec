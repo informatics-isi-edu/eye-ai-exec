{
 "cells": [
  {
   "cell_type": "code",
   "execution_count": 1,
   "id": "88bfec52-cdba-4f8d-919f-a79ef124a0e8",
   "metadata": {},
   "outputs": [],
   "source": [
    "%load_ext autoreload\n",
    "%autoreload 2\n",
    "\n",
    "# # Update the load path so python can find modules for the model\n",
    "import sys\n",
    "from pathlib import Path\n",
    "sys.path.insert(0, str(Path.home() / \"eye-ai-ml\"))\n",
    "sys.path.insert(0, str(Path.home() / \"eye-ai-exec\"))"
   ]
  },
  {
   "cell_type": "code",
   "execution_count": 2,
   "id": "bb792c6d-c5d6-4a15-915e-d901863fa5ec",
   "metadata": {},
   "outputs": [],
   "source": [
    "# Prerequisites\n",
    "import json\n",
    "import os\n",
    "from eye_ai.eye_ai import EyeAI\n",
    "import pandas as pd\n",
    "from pathlib import Path, PurePath\n",
    "import logging\n",
    "\n",
    "from deriva_ml import DatasetBag, Workflow, ExecutionConfiguration, DatasetVersion\n",
    "from deriva_ml import MLVocab as vc\n",
    "logging.basicConfig(level=logging.INFO, format='%(asctime)s - %(levelname)s - %(message)s', force=True)"
   ]
  },
  {
   "cell_type": "code",
   "execution_count": 3,
   "id": "4909fad7-f14a-4276-a8c9-b2f91b29c753",
   "metadata": {},
   "outputs": [
    {
     "name": "stderr",
     "output_type": "stream",
     "text": [
      "2025-06-17 08:59:24,056 - INFO - Creating client of type <class 'globus_sdk.services.auth.client.native_client.NativeAppAuthClient'> for service \"auth\"\n",
      "2025-06-17 08:59:24,057 - INFO - Finished initializing AuthLoginClient. client_id='8ef15ba9-2b4a-469c-a163-7fd910c9d111', type(authorizer)=<class 'globus_sdk.authorizers.base.NullAuthorizer'>\n"
     ]
    },
    {
     "name": "stdout",
     "output_type": "stream",
     "text": [
      "You are already logged in.\n"
     ]
    }
   ],
   "source": [
    "from deriva.core.utils.globus_auth_utils import GlobusNativeLogin\n",
    "catalog_id = \"eye-ai\" #@param\n",
    "host = 'www.eye-ai.org'\n",
    "\n",
    "\n",
    "gnl = GlobusNativeLogin(host=host)\n",
    "if gnl.is_logged_in([host]):\n",
    "    print(\"You are already logged in.\")\n",
    "else:\n",
    "    gnl.login([host], no_local_server=True, no_browser=True, refresh_tokens=True, update_bdbag_keychain=True)\n",
    "    print(\"Login Successful\")"
   ]
  },
  {
   "cell_type": "code",
   "execution_count": 4,
   "id": "7246e454-9d83-4b52-af12-1d61b471cd8e",
   "metadata": {},
   "outputs": [
    {
     "name": "stderr",
     "output_type": "stream",
     "text": [
      "2025-06-17 08:59:27,697 - INFO - Creating client of type <class 'globus_sdk.services.auth.client.native_client.NativeAppAuthClient'> for service \"auth\"\n",
      "2025-06-17 08:59:27,697 - INFO - Finished initializing AuthLoginClient. client_id='8ef15ba9-2b4a-469c-a163-7fd910c9d111', type(authorizer)=<class 'globus_sdk.authorizers.base.NullAuthorizer'>\n"
     ]
    }
   ],
   "source": [
    "cache_dir = '/data'\n",
    "working_dir = '/data'\n",
    "EA = EyeAI(hostname = host, catalog_id = catalog_id, cache_dir= cache_dir, working_dir=working_dir)"
   ]
  },
  {
   "cell_type": "code",
   "execution_count": 5,
   "id": "00b2edfa-8a58-4a7a-b346-a0755da019c1",
   "metadata": {},
   "outputs": [
    {
     "name": "stderr",
     "output_type": "stream",
     "text": [
      "2025-06-17 09:00:40,773 - WARNING - File /home/kb_766/eye-ai-exec/notebooks/Sandbox_KB/HUY_crop_multimodal_images_2-N93J.ipynb has been modified since last commit. Consider commiting before executing\n"
     ]
    },
    {
     "data": {
      "text/markdown": [
       "Execution RID: https://www.eye-ai.org/id/eye-ai/4-YTWW@33F-HMX7-D1B6"
      ],
      "text/plain": [
       "<IPython.core.display.Markdown object>"
      ]
     },
     "metadata": {},
     "output_type": "display_data"
    },
    {
     "name": "stderr",
     "output_type": "stream",
     "text": [
      "2025-06-17 09:00:41,306 - INFO - Materialize bag 4-YQVM... \n",
      "2025-06-17 09:00:41,426 - INFO - Creating client of type <class 'globus_sdk.services.auth.client.native_client.NativeAppAuthClient'> for service \"auth\"\n",
      "2025-06-17 09:00:41,427 - INFO - Finished initializing AuthLoginClient. client_id='8ef15ba9-2b4a-469c-a163-7fd910c9d111', type(authorizer)=<class 'globus_sdk.authorizers.base.NullAuthorizer'>\n",
      "2025-06-17 09:00:42,992 - INFO - Using cached bag for  4-YQVM Version:1.0.0\n",
      "2025-06-17 09:00:42,993 - INFO - Loading /data/4-YQVM_9ac33726c539459d10cd6f6c97a6c9c77b0eefd4545f9eb551fbe334a9b59ad7/Dataset_4-YQVM\n",
      "2025-06-17 09:00:43,248 - INFO - Creating new database for dataset: 4-YQVM in /data/kb_766/EyeAI_working/4-YQVM@33E-T6MD-NKXR.db\n",
      "2025-06-17 09:00:43,321 - INFO - Downloading assets ...\n",
      "2025-06-17 09:00:49,270 - INFO - File [/data/kb_766/EyeAI_working/deriva-ml/execution/4-YTWW/downloaded-assets/Execution_Asset/optic_disk_crop_model.hdf5] transfer successful. 76.75 MB transferred at 14.27 MB/second. Elapsed time: 0:00:05.377472.\n",
      "2025-06-17 09:00:49,795 - INFO - Initialize status finished.\n"
     ]
    }
   ],
   "source": [
    "datasets = [\n",
    "    '4-YQVM', # Healthy USC data\n",
    "    ]\n",
    "\n",
    "to_be_download = []\n",
    "for dataset in datasets:\n",
    "    ds_dict = {\n",
    "        'rid': dataset,\n",
    "        'materialize':True,\n",
    "        'version':EA.dataset_version(dataset_rid=dataset),\n",
    "    }\n",
    "    to_be_download.append(ds_dict)\n",
    "\n",
    "workflow_instance = EA.create_workflow(\n",
    "    name=\"Cropping Image\",\n",
    "    workflow_type=\"Image Cropping\"\n",
    ")\n",
    "\n",
    "config = ExecutionConfiguration(\n",
    "    datasets=to_be_download,\n",
    "    assets = ['2-4JR6',],\n",
    "    workflow=workflow_instance,\n",
    "    description=\"Instance of cropping multimodal images.\")\n",
    "\n",
    "execution = EA.create_execution(config)"
   ]
  },
  {
   "cell_type": "code",
   "execution_count": 6,
   "id": "e2d5a104-349c-48a7-8a8c-8ba1e249f901",
   "metadata": {},
   "outputs": [
    {
     "name": "stdout",
     "output_type": "stream",
     "text": [
      "caching_dir: /data\n",
      "_working_dir: /data/kb_766/EyeAI_working\n",
      "execution_rid: 4-YTWW\n",
      "workflow_rid: 4-YTWT\n",
      "asset_paths: {'Execution_Asset': [AssetFilePath('/data/kb_766/EyeAI_working/deriva-ml/execution/4-YTWW/downloaded-assets/Execution_Asset/optic_disk_crop_model.hdf5')]}\n",
      "configuration: datasets=[DatasetSpec(rid='4-YQVM', materialize=True, version=DatasetVersion(major=1, minor=0, patch=0))] assets=['2-4JR6'] workflow=Workflow(name='Cropping Image', url='https://github.com/informatics-isi-edu/eye-ai-exec/blob/513e000f72eeef4e1f4ce4a85826d6bee253591e--/notebooks/Sandbox_KB/HUY_crop_multimodal_images_2-N93J.ipynb', workflow_type='Image Cropping', version=None, description='', rid=None, checksum='dd9ff8fe57e87667bf4e49ed65cc19966cb31cce', is_notebook=True) parameters={} description='Instance of cropping multimodal images.' argv=['/home/kb_766/.conda/envs/my-tensorflow-conda/lib/python3.10/site-packages/ipykernel_launcher.py', '-f', '/home/kb_766/.local/share/jupyter/runtime/kernel-403d6c52-cf78-4968-97c2-44fa5f238cec.json']\n"
     ]
    }
   ],
   "source": [
    "print(execution)"
   ]
  },
  {
   "cell_type": "code",
   "execution_count": 7,
   "id": "eb801487-6480-486b-b7ab-00f9abea7ecf",
   "metadata": {},
   "outputs": [
    {
     "data": {
      "text/plain": [
       "PosixPath('/data/kb_766/EyeAI_working')"
      ]
     },
     "execution_count": 7,
     "metadata": {},
     "output_type": "execute_result"
    }
   ],
   "source": [
    "execution._working_dir"
   ]
  },
  {
   "cell_type": "code",
   "execution_count": 8,
   "id": "090db8d3-775b-4b88-9a75-beaa63f584b3",
   "metadata": {},
   "outputs": [],
   "source": [
    "ds_bag = execution.datasets[0]\n",
    "crop_image_model =  execution.asset_paths[\"Execution_Asset\"][0]"
   ]
  },
  {
   "cell_type": "code",
   "execution_count": 9,
   "id": "ea8e311b-c7ad-4f20-8b60-df91f8a369a6",
   "metadata": {},
   "outputs": [],
   "source": [
    "df = ds_bag.get_table_as_dataframe(\"Image\")"
   ]
  },
  {
   "cell_type": "code",
   "execution_count": 10,
   "id": "32f244c2-6d44-413b-84ae-af729c47f998",
   "metadata": {},
   "outputs": [],
   "source": [
    "df.rename(columns={'RID': 'RID_Image'}, inplace=True)"
   ]
  },
  {
   "cell_type": "code",
   "execution_count": 11,
   "id": "adbaa602-7011-4c1d-842e-2c53ef86eec8",
   "metadata": {},
   "outputs": [],
   "source": [
    "from pathlib import Path\n",
    "working_dir = Path(\"~/working_dir\")\n",
    "csv_path = execution._working_dir / \"df.csv\"\n",
    "df.to_csv(csv_path, index=False)"
   ]
  },
  {
   "cell_type": "code",
   "execution_count": 12,
   "id": "a178c2f6-33e4-4e33-a2e4-523dfad9f680",
   "metadata": {},
   "outputs": [
    {
     "data": {
      "text/plain": [
       "[Feature(target_table=Image, feature_name=Annotation, feature_table=Annotation),\n",
       " Feature(target_table=Image, feature_name=Image_Diagnosis, feature_table=Image_Diagnosis),\n",
       " Feature(target_table=Image, feature_name=Fundus_Laterality, feature_table=Execution_Image_Fundus_Laterality),\n",
       " Feature(target_table=Image, feature_name=Fundus_Angle, feature_table=Execution_Image_Fundus_Angle)]"
      ]
     },
     "execution_count": 12,
     "metadata": {},
     "output_type": "execute_result"
    }
   ],
   "source": [
    "table_name = 'Image'\n",
    "EA.find_features(table_name)"
   ]
  },
  {
   "cell_type": "code",
   "execution_count": 13,
   "id": "536de7ee-527e-4cd4-b67f-48ddfff79100",
   "metadata": {},
   "outputs": [],
   "source": [
    "ImageAnnotationFeature = EA.feature_record_class(\"Image\", \"Annotation\")"
   ]
  },
  {
   "cell_type": "code",
   "execution_count": 15,
   "id": "c1e15835-9f9b-4edd-935c-ed76c8d240e5",
   "metadata": {},
   "outputs": [],
   "source": [
    "output = execution._working_dir / \"image_svg_output\"\n",
    "output.mkdir(parents= True, exist_ok=True)"
   ]
  },
  {
   "cell_type": "code",
   "execution_count": 17,
   "id": "a7af5530-cb5f-4105-8f8b-453cce78f21c",
   "metadata": {},
   "outputs": [
    {
     "name": "stderr",
     "output_type": "stream",
     "text": [
      "2025-06-17 09:06:49.535857: E external/local_xla/xla/stream_executor/cuda/cuda_dnn.cc:9261] Unable to register cuDNN factory: Attempting to register factory for plugin cuDNN when one has already been registered\n",
      "2025-06-17 09:06:49.535899: E external/local_xla/xla/stream_executor/cuda/cuda_fft.cc:607] Unable to register cuFFT factory: Attempting to register factory for plugin cuFFT when one has already been registered\n",
      "2025-06-17 09:06:49.536697: E external/local_xla/xla/stream_executor/cuda/cuda_blas.cc:1515] Unable to register cuBLAS factory: Attempting to register factory for plugin cuBLAS when one has already been registered\n",
      "2025-06-17 09:06:49.542910: I tensorflow/core/platform/cpu_feature_guard.cc:182] This TensorFlow binary is optimized to use available CPU instructions in performance-critical operations.\n",
      "To enable the following instructions: AVX2 FMA, in other operations, rebuild TensorFlow with the appropriate compiler flags.\n",
      "2025-06-17 09:06:50.374437: W tensorflow/compiler/tf2tensorrt/utils/py_utils.cc:38] TF-TRT Warning: Could not find TensorRT\n",
      "2025-06-17 09:06:50,805 - INFO - Start execution  ...\n",
      "2025-06-17 09:06:50,974 - INFO - Start execution  ...\n"
     ]
    },
    {
     "name": "stdout",
     "output_type": "stream",
     "text": [
      "Downloading data from https://storage.googleapis.com/tensorflow/keras-applications/vgg19/vgg19_weights_tf_dim_ordering_tf_kernels_notop.h5\n"
     ]
    },
    {
     "name": "stderr",
     "output_type": "stream",
     "text": [
      "2025-06-17 09:06:51.338677: I external/local_xla/xla/stream_executor/cuda/cuda_executor.cc:901] successful NUMA node read from SysFS had negative value (-1), but there must be at least one NUMA node, so returning NUMA node zero. See more at https://github.com/torvalds/linux/blob/v6.0/Documentation/ABI/testing/sysfs-bus-pci#L344-L355\n",
      "2025-06-17 09:06:51.365143: I external/local_xla/xla/stream_executor/cuda/cuda_executor.cc:901] successful NUMA node read from SysFS had negative value (-1), but there must be at least one NUMA node, so returning NUMA node zero. See more at https://github.com/torvalds/linux/blob/v6.0/Documentation/ABI/testing/sysfs-bus-pci#L344-L355\n",
      "2025-06-17 09:06:51.366815: I external/local_xla/xla/stream_executor/cuda/cuda_executor.cc:901] successful NUMA node read from SysFS had negative value (-1), but there must be at least one NUMA node, so returning NUMA node zero. See more at https://github.com/torvalds/linux/blob/v6.0/Documentation/ABI/testing/sysfs-bus-pci#L344-L355\n",
      "2025-06-17 09:06:51.368769: I external/local_xla/xla/stream_executor/cuda/cuda_executor.cc:901] successful NUMA node read from SysFS had negative value (-1), but there must be at least one NUMA node, so returning NUMA node zero. See more at https://github.com/torvalds/linux/blob/v6.0/Documentation/ABI/testing/sysfs-bus-pci#L344-L355\n",
      "2025-06-17 09:06:51.370236: I external/local_xla/xla/stream_executor/cuda/cuda_executor.cc:901] successful NUMA node read from SysFS had negative value (-1), but there must be at least one NUMA node, so returning NUMA node zero. See more at https://github.com/torvalds/linux/blob/v6.0/Documentation/ABI/testing/sysfs-bus-pci#L344-L355\n",
      "2025-06-17 09:06:51.371825: I external/local_xla/xla/stream_executor/cuda/cuda_executor.cc:901] successful NUMA node read from SysFS had negative value (-1), but there must be at least one NUMA node, so returning NUMA node zero. See more at https://github.com/torvalds/linux/blob/v6.0/Documentation/ABI/testing/sysfs-bus-pci#L344-L355\n",
      "2025-06-17 09:06:51.492565: I external/local_xla/xla/stream_executor/cuda/cuda_executor.cc:901] successful NUMA node read from SysFS had negative value (-1), but there must be at least one NUMA node, so returning NUMA node zero. See more at https://github.com/torvalds/linux/blob/v6.0/Documentation/ABI/testing/sysfs-bus-pci#L344-L355\n",
      "2025-06-17 09:06:51.494178: I external/local_xla/xla/stream_executor/cuda/cuda_executor.cc:901] successful NUMA node read from SysFS had negative value (-1), but there must be at least one NUMA node, so returning NUMA node zero. See more at https://github.com/torvalds/linux/blob/v6.0/Documentation/ABI/testing/sysfs-bus-pci#L344-L355\n",
      "2025-06-17 09:06:51.495686: I external/local_xla/xla/stream_executor/cuda/cuda_executor.cc:901] successful NUMA node read from SysFS had negative value (-1), but there must be at least one NUMA node, so returning NUMA node zero. See more at https://github.com/torvalds/linux/blob/v6.0/Documentation/ABI/testing/sysfs-bus-pci#L344-L355\n",
      "2025-06-17 09:06:51.497043: I tensorflow/core/common_runtime/gpu/gpu_device.cc:1929] Created device /job:localhost/replica:0/task:0/device:GPU:0 with 1033 MB memory:  -> device: 0, name: NVIDIA A10G, pci bus id: 0000:00:1e.0, compute capability: 8.6\n"
     ]
    },
    {
     "name": "stdout",
     "output_type": "stream",
     "text": [
      "80134624/80134624 [==============================] - 1s 0us/step\n"
     ]
    },
    {
     "name": "stderr",
     "output_type": "stream",
     "text": [
      "2025-06-17 09:06:52,950 - INFO - Processing image /data/4-YQVM_9ac33726c539459d10cd6f6c97a6c9c77b0eefd4545f9eb551fbe334a9b59ad7/Dataset_4-YQVM/data/asset/Image/Multimodal_1268_Multimodal_2670_Multimodal_11469_Left_Field_2.jpg : , trial 1, color channel grey, resize function imgResize_primary\n",
      "2025-06-17 09:06:54.068990: I external/local_xla/xla/stream_executor/cuda/cuda_dnn.cc:454] Loaded cuDNN version 8907\n"
     ]
    },
    {
     "name": "stdout",
     "output_type": "stream",
     "text": [
      "1/1 [==============================] - 1s 735ms/step\n"
     ]
    },
    {
     "name": "stderr",
     "output_type": "stream",
     "text": [
      "2025-06-17 09:06:54,631 - INFO - SVG for 4-YRP6 saved.\n",
      "2025-06-17 09:06:54,693 - INFO - Processing image /data/4-YQVM_9ac33726c539459d10cd6f6c97a6c9c77b0eefd4545f9eb551fbe334a9b59ad7/Dataset_4-YQVM/data/asset/Image/Multimodal_1330_Multimodal_2779_Multimodal_11578_Right_Field_2.jpg : , trial 1, color channel grey, resize function imgResize_primary\n"
     ]
    },
    {
     "name": "stdout",
     "output_type": "stream",
     "text": [
      "1/1 [==============================] - 0s 22ms/step\n"
     ]
    },
    {
     "name": "stderr",
     "output_type": "stream",
     "text": [
      "2025-06-17 09:06:55,555 - INFO - SVG for 4-YRP8 saved.\n",
      "2025-06-17 09:06:55,614 - INFO - Processing image /data/4-YQVM_9ac33726c539459d10cd6f6c97a6c9c77b0eefd4545f9eb551fbe334a9b59ad7/Dataset_4-YQVM/data/asset/Image/Multimodal_1310_Multimodal_2742_Multimodal_11541_Right_Field_2.jpg : , trial 1, color channel grey, resize function imgResize_primary\n"
     ]
    },
    {
     "name": "stdout",
     "output_type": "stream",
     "text": [
      "1/1 [==============================] - 0s 20ms/step\n"
     ]
    },
    {
     "name": "stderr",
     "output_type": "stream",
     "text": [
      "2025-06-17 09:06:56,227 - INFO - Processing image /data/4-YQVM_9ac33726c539459d10cd6f6c97a6c9c77b0eefd4545f9eb551fbe334a9b59ad7/Dataset_4-YQVM/data/asset/Image/Multimodal_1310_Multimodal_2742_Multimodal_11541_Right_Field_2.jpg : , trial 2, color channel green, resize function imgResize_primary\n"
     ]
    },
    {
     "name": "stdout",
     "output_type": "stream",
     "text": [
      "1/1 [==============================] - 0s 20ms/step\n"
     ]
    },
    {
     "name": "stderr",
     "output_type": "stream",
     "text": [
      "2025-06-17 09:06:57,031 - INFO - SVG for 4-YRPA saved.\n",
      "2025-06-17 09:06:57,091 - INFO - Processing image /data/4-YQVM_9ac33726c539459d10cd6f6c97a6c9c77b0eefd4545f9eb551fbe334a9b59ad7/Dataset_4-YQVM/data/asset/Image/Multimodal_1258_Multimodal_2654_Multimodal_11453_Right_Field_1.jpg : , trial 1, color channel grey, resize function imgResize_primary\n"
     ]
    },
    {
     "name": "stdout",
     "output_type": "stream",
     "text": [
      "1/1 [==============================] - 0s 20ms/step\n"
     ]
    },
    {
     "name": "stderr",
     "output_type": "stream",
     "text": [
      "2025-06-17 09:06:57,753 - INFO - SVG for 4-YRPC saved.\n",
      "2025-06-17 09:06:57,814 - INFO - Processing image /data/4-YQVM_9ac33726c539459d10cd6f6c97a6c9c77b0eefd4545f9eb551fbe334a9b59ad7/Dataset_4-YQVM/data/asset/Image/Multimodal_1265_Multimodal_2665_Multimodal_11464_Right_Field_2.jpg : , trial 1, color channel grey, resize function imgResize_primary\n"
     ]
    },
    {
     "name": "stdout",
     "output_type": "stream",
     "text": [
      "1/1 [==============================] - 0s 20ms/step\n"
     ]
    },
    {
     "name": "stderr",
     "output_type": "stream",
     "text": [
      "2025-06-17 09:06:58,443 - INFO - SVG for 4-YRPE saved.\n",
      "2025-06-17 09:06:58,505 - INFO - Processing image /data/4-YQVM_9ac33726c539459d10cd6f6c97a6c9c77b0eefd4545f9eb551fbe334a9b59ad7/Dataset_4-YQVM/data/asset/Image/Multimodal_1285_Multimodal_2697_Multimodal_11497_Left_Field_2.jpg : , trial 1, color channel grey, resize function imgResize_primary\n"
     ]
    },
    {
     "name": "stdout",
     "output_type": "stream",
     "text": [
      "1/1 [==============================] - 0s 20ms/step\n"
     ]
    },
    {
     "name": "stderr",
     "output_type": "stream",
     "text": [
      "2025-06-17 09:06:59,106 - INFO - SVG for 4-YRPG saved.\n",
      "2025-06-17 09:06:59,171 - INFO - Processing image /data/4-YQVM_9ac33726c539459d10cd6f6c97a6c9c77b0eefd4545f9eb551fbe334a9b59ad7/Dataset_4-YQVM/data/asset/Image/Multimodal_1229_Multimodal_2600_Multimodal_11399_Right_Field_2.jpg : , trial 1, color channel grey, resize function imgResize_primary\n"
     ]
    },
    {
     "name": "stdout",
     "output_type": "stream",
     "text": [
      "1/1 [==============================] - 0s 21ms/step\n"
     ]
    },
    {
     "name": "stderr",
     "output_type": "stream",
     "text": [
      "2025-06-17 09:06:59,951 - INFO - SVG for 4-YRPJ saved.\n",
      "2025-06-17 09:07:00,009 - INFO - Processing image /data/4-YQVM_9ac33726c539459d10cd6f6c97a6c9c77b0eefd4545f9eb551fbe334a9b59ad7/Dataset_4-YQVM/data/asset/Image/Multimodal_1286_Multimodal_2699_Multimodal_11498_Right_Field_2.jpg : , trial 1, color channel grey, resize function imgResize_primary\n"
     ]
    },
    {
     "name": "stdout",
     "output_type": "stream",
     "text": [
      "1/1 [==============================] - 0s 21ms/step\n"
     ]
    },
    {
     "name": "stderr",
     "output_type": "stream",
     "text": [
      "2025-06-17 09:07:00,675 - INFO - SVG for 4-YRPM saved.\n",
      "2025-06-17 09:07:00,734 - INFO - Processing image /data/4-YQVM_9ac33726c539459d10cd6f6c97a6c9c77b0eefd4545f9eb551fbe334a9b59ad7/Dataset_4-YQVM/data/asset/Image/Multimodal_1203_Multimodal_2553_Multimodal_11353_Left_Field_2.jpg : , trial 1, color channel grey, resize function imgResize_primary\n"
     ]
    },
    {
     "name": "stdout",
     "output_type": "stream",
     "text": [
      "1/1 [==============================] - 0s 20ms/step\n"
     ]
    },
    {
     "name": "stderr",
     "output_type": "stream",
     "text": [
      "2025-06-17 09:07:01,314 - INFO - SVG for 4-YRPP saved.\n",
      "2025-06-17 09:07:01,373 - INFO - Processing image /data/4-YQVM_9ac33726c539459d10cd6f6c97a6c9c77b0eefd4545f9eb551fbe334a9b59ad7/Dataset_4-YQVM/data/asset/Image/Multimodal_1239_Multimodal_2619_Multimodal_11419_Left_Field_2.jpg : , trial 1, color channel grey, resize function imgResize_primary\n"
     ]
    },
    {
     "name": "stdout",
     "output_type": "stream",
     "text": [
      "1/1 [==============================] - 0s 20ms/step\n"
     ]
    },
    {
     "name": "stderr",
     "output_type": "stream",
     "text": [
      "2025-06-17 09:07:02,020 - INFO - SVG for 4-YRPR saved.\n",
      "2025-06-17 09:07:02,079 - INFO - Processing image /data/4-YQVM_9ac33726c539459d10cd6f6c97a6c9c77b0eefd4545f9eb551fbe334a9b59ad7/Dataset_4-YQVM/data/asset/Image/Multimodal_1230_Multimodal_2602_Multimodal_11402_Left_Field_2.jpg : , trial 1, color channel grey, resize function imgResize_primary\n"
     ]
    },
    {
     "name": "stdout",
     "output_type": "stream",
     "text": [
      "1/1 [==============================] - 0s 20ms/step\n"
     ]
    },
    {
     "name": "stderr",
     "output_type": "stream",
     "text": [
      "2025-06-17 09:07:02,835 - INFO - SVG for 4-YRPT saved.\n",
      "2025-06-17 09:07:02,893 - INFO - Processing image /data/4-YQVM_9ac33726c539459d10cd6f6c97a6c9c77b0eefd4545f9eb551fbe334a9b59ad7/Dataset_4-YQVM/data/asset/Image/Multimodal_1245_Multimodal_2631_Multimodal_11430_Right_Field_2.jpg : , trial 1, color channel grey, resize function imgResize_primary\n"
     ]
    },
    {
     "name": "stdout",
     "output_type": "stream",
     "text": [
      "1/1 [==============================] - 0s 20ms/step\n"
     ]
    },
    {
     "name": "stderr",
     "output_type": "stream",
     "text": [
      "2025-06-17 09:07:03,584 - INFO - SVG for 4-YRPW saved.\n",
      "2025-06-17 09:07:03,646 - INFO - Processing image /data/4-YQVM_9ac33726c539459d10cd6f6c97a6c9c77b0eefd4545f9eb551fbe334a9b59ad7/Dataset_4-YQVM/data/asset/Image/Multimodal_1299_Multimodal_2722_Multimodal_11522_Left_Field_2.jpg : , trial 1, color channel grey, resize function imgResize_primary\n"
     ]
    },
    {
     "name": "stdout",
     "output_type": "stream",
     "text": [
      "1/1 [==============================] - 0s 20ms/step\n"
     ]
    },
    {
     "name": "stderr",
     "output_type": "stream",
     "text": [
      "2025-06-17 09:07:04,155 - INFO - SVG for 4-YRPY saved.\n",
      "2025-06-17 09:07:04,214 - INFO - Processing image /data/4-YQVM_9ac33726c539459d10cd6f6c97a6c9c77b0eefd4545f9eb551fbe334a9b59ad7/Dataset_4-YQVM/data/asset/Image/Multimodal_1319_Multimodal_2758_Multimodal_11557_Right_Field_2.jpg : , trial 1, color channel grey, resize function imgResize_primary\n"
     ]
    },
    {
     "name": "stdout",
     "output_type": "stream",
     "text": [
      "1/1 [==============================] - 0s 20ms/step\n"
     ]
    },
    {
     "name": "stderr",
     "output_type": "stream",
     "text": [
      "2025-06-17 09:07:04,980 - INFO - SVG for 4-YRQ0 saved.\n",
      "2025-06-17 09:07:05,039 - INFO - Processing image /data/4-YQVM_9ac33726c539459d10cd6f6c97a6c9c77b0eefd4545f9eb551fbe334a9b59ad7/Dataset_4-YQVM/data/asset/Image/Multimodal_1201_Multimodal_2549_Multimodal_11349_Left_Field_2.jpg : , trial 1, color channel grey, resize function imgResize_primary\n"
     ]
    },
    {
     "name": "stdout",
     "output_type": "stream",
     "text": [
      "1/1 [==============================] - 0s 20ms/step\n"
     ]
    },
    {
     "name": "stderr",
     "output_type": "stream",
     "text": [
      "2025-06-17 09:07:05,706 - INFO - SVG for 4-YRQ2 saved.\n",
      "2025-06-17 09:07:05,765 - INFO - Processing image /data/4-YQVM_9ac33726c539459d10cd6f6c97a6c9c77b0eefd4545f9eb551fbe334a9b59ad7/Dataset_4-YQVM/data/asset/Image/Multimodal_1201_Multimodal_2549_Multimodal_11348_Right_Field_2.jpg : , trial 1, color channel grey, resize function imgResize_primary\n"
     ]
    },
    {
     "name": "stdout",
     "output_type": "stream",
     "text": [
      "1/1 [==============================] - 0s 20ms/step\n"
     ]
    },
    {
     "name": "stderr",
     "output_type": "stream",
     "text": [
      "2025-06-17 09:07:06,390 - INFO - SVG for 4-YRQ4 saved.\n",
      "2025-06-17 09:07:06,451 - INFO - Processing image /data/4-YQVM_9ac33726c539459d10cd6f6c97a6c9c77b0eefd4545f9eb551fbe334a9b59ad7/Dataset_4-YQVM/data/asset/Image/Multimodal_1210_Multimodal_2567_Multimodal_11366_Right_Field_2.jpg : , trial 1, color channel grey, resize function imgResize_primary\n"
     ]
    },
    {
     "name": "stdout",
     "output_type": "stream",
     "text": [
      "1/1 [==============================] - 0s 20ms/step\n"
     ]
    },
    {
     "name": "stderr",
     "output_type": "stream",
     "text": [
      "2025-06-17 09:07:07,074 - INFO - SVG for 4-YRQ6 saved.\n",
      "2025-06-17 09:07:07,141 - INFO - Processing image /data/4-YQVM_9ac33726c539459d10cd6f6c97a6c9c77b0eefd4545f9eb551fbe334a9b59ad7/Dataset_4-YQVM/data/asset/Image/Multimodal_1327_Multimodal_2774_Multimodal_11574_Left_Field_2.jpg : , trial 1, color channel grey, resize function imgResize_primary\n"
     ]
    },
    {
     "name": "stdout",
     "output_type": "stream",
     "text": [
      "1/1 [==============================] - 0s 20ms/step\n"
     ]
    },
    {
     "name": "stderr",
     "output_type": "stream",
     "text": [
      "2025-06-17 09:07:07,927 - INFO - SVG for 4-YRQ8 saved.\n",
      "2025-06-17 09:07:07,985 - INFO - Processing image /data/4-YQVM_9ac33726c539459d10cd6f6c97a6c9c77b0eefd4545f9eb551fbe334a9b59ad7/Dataset_4-YQVM/data/asset/Image/Multimodal_1204_Multimodal_2555_Multimodal_11354_Right_Field_2.jpg : , trial 1, color channel grey, resize function imgResize_primary\n"
     ]
    },
    {
     "name": "stdout",
     "output_type": "stream",
     "text": [
      "1/1 [==============================] - 0s 20ms/step\n"
     ]
    },
    {
     "name": "stderr",
     "output_type": "stream",
     "text": [
      "2025-06-17 09:07:08,679 - INFO - SVG for 4-YRQA saved.\n",
      "2025-06-17 09:07:08,740 - INFO - Processing image /data/4-YQVM_9ac33726c539459d10cd6f6c97a6c9c77b0eefd4545f9eb551fbe334a9b59ad7/Dataset_4-YQVM/data/asset/Image/Multimodal_1275_Multimodal_2680_Multimodal_11479_Left_Field_2.jpg : , trial 1, color channel grey, resize function imgResize_primary\n"
     ]
    },
    {
     "name": "stdout",
     "output_type": "stream",
     "text": [
      "1/1 [==============================] - 0s 20ms/step\n"
     ]
    },
    {
     "name": "stderr",
     "output_type": "stream",
     "text": [
      "2025-06-17 09:07:09,549 - INFO - Processing image /data/4-YQVM_9ac33726c539459d10cd6f6c97a6c9c77b0eefd4545f9eb551fbe334a9b59ad7/Dataset_4-YQVM/data/asset/Image/Multimodal_1275_Multimodal_2680_Multimodal_11479_Left_Field_2.jpg : , trial 2, color channel green, resize function imgResize_primary\n"
     ]
    },
    {
     "name": "stdout",
     "output_type": "stream",
     "text": [
      "1/1 [==============================] - 0s 20ms/step\n"
     ]
    },
    {
     "name": "stderr",
     "output_type": "stream",
     "text": [
      "2025-06-17 09:07:10,115 - INFO - SVG for 4-YRQC saved.\n",
      "2025-06-17 09:07:10,177 - INFO - Processing image /data/4-YQVM_9ac33726c539459d10cd6f6c97a6c9c77b0eefd4545f9eb551fbe334a9b59ad7/Dataset_4-YQVM/data/asset/Image/Multimodal_1289_Multimodal_2704_Multimodal_11504_Left_Field_2.jpg : , trial 1, color channel grey, resize function imgResize_primary\n"
     ]
    },
    {
     "name": "stdout",
     "output_type": "stream",
     "text": [
      "1/1 [==============================] - 0s 20ms/step\n"
     ]
    },
    {
     "name": "stderr",
     "output_type": "stream",
     "text": [
      "2025-06-17 09:07:10,817 - INFO - Processing image /data/4-YQVM_9ac33726c539459d10cd6f6c97a6c9c77b0eefd4545f9eb551fbe334a9b59ad7/Dataset_4-YQVM/data/asset/Image/Multimodal_1289_Multimodal_2704_Multimodal_11504_Left_Field_2.jpg : , trial 2, color channel green, resize function imgResize_primary\n"
     ]
    },
    {
     "name": "stdout",
     "output_type": "stream",
     "text": [
      "1/1 [==============================] - 0s 20ms/step\n"
     ]
    },
    {
     "name": "stderr",
     "output_type": "stream",
     "text": [
      "2025-06-17 09:07:11,589 - INFO - Processing image /data/4-YQVM_9ac33726c539459d10cd6f6c97a6c9c77b0eefd4545f9eb551fbe334a9b59ad7/Dataset_4-YQVM/data/asset/Image/Multimodal_1289_Multimodal_2704_Multimodal_11504_Left_Field_2.jpg : , trial 3, color channel red, resize function imgResize_primary\n"
     ]
    },
    {
     "name": "stdout",
     "output_type": "stream",
     "text": [
      "1/1 [==============================] - 0s 20ms/step\n"
     ]
    },
    {
     "name": "stderr",
     "output_type": "stream",
     "text": [
      "2025-06-17 09:07:12,322 - INFO - Processing image /data/4-YQVM_9ac33726c539459d10cd6f6c97a6c9c77b0eefd4545f9eb551fbe334a9b59ad7/Dataset_4-YQVM/data/asset/Image/Multimodal_1289_Multimodal_2704_Multimodal_11504_Left_Field_2.jpg : , trial 4, color channel blue, resize function imgResize_primary\n"
     ]
    },
    {
     "name": "stdout",
     "output_type": "stream",
     "text": [
      "1/1 [==============================] - 0s 20ms/step\n"
     ]
    },
    {
     "name": "stderr",
     "output_type": "stream",
     "text": [
      "2025-06-17 09:07:12,983 - INFO - Processing image /data/4-YQVM_9ac33726c539459d10cd6f6c97a6c9c77b0eefd4545f9eb551fbe334a9b59ad7/Dataset_4-YQVM/data/asset/Image/Multimodal_1289_Multimodal_2704_Multimodal_11504_Left_Field_2.jpg : , trial 1, color channel grey, resize function imgResize_secondary\n"
     ]
    },
    {
     "name": "stdout",
     "output_type": "stream",
     "text": [
      "1/1 [==============================] - 0s 21ms/step\n"
     ]
    },
    {
     "name": "stderr",
     "output_type": "stream",
     "text": [
      "2025-06-17 09:07:14,124 - INFO - Processing image /data/4-YQVM_9ac33726c539459d10cd6f6c97a6c9c77b0eefd4545f9eb551fbe334a9b59ad7/Dataset_4-YQVM/data/asset/Image/Multimodal_1289_Multimodal_2704_Multimodal_11504_Left_Field_2.jpg : , trial 2, color channel green, resize function imgResize_secondary\n"
     ]
    },
    {
     "name": "stdout",
     "output_type": "stream",
     "text": [
      "1/1 [==============================] - 0s 20ms/step\n"
     ]
    },
    {
     "name": "stderr",
     "output_type": "stream",
     "text": [
      "2025-06-17 09:07:15,676 - INFO - SVG for 4-YRQE saved.\n",
      "2025-06-17 09:07:15,740 - INFO - Processing image /data/4-YQVM_9ac33726c539459d10cd6f6c97a6c9c77b0eefd4545f9eb551fbe334a9b59ad7/Dataset_4-YQVM/data/asset/Image/Multimodal_1200_Multimodal_2547_Multimodal_11347_Left_Field_2.jpg : , trial 1, color channel grey, resize function imgResize_primary\n"
     ]
    },
    {
     "name": "stdout",
     "output_type": "stream",
     "text": [
      "1/1 [==============================] - 0s 20ms/step\n"
     ]
    },
    {
     "name": "stderr",
     "output_type": "stream",
     "text": [
      "2025-06-17 09:07:16,398 - INFO - SVG for 4-YRQG saved.\n",
      "2025-06-17 09:07:16,458 - INFO - Processing image /data/4-YQVM_9ac33726c539459d10cd6f6c97a6c9c77b0eefd4545f9eb551fbe334a9b59ad7/Dataset_4-YQVM/data/asset/Image/Multimodal_1331_Multimodal_2781_Multimodal_11581_Left_Field_2.jpg : , trial 1, color channel grey, resize function imgResize_primary\n"
     ]
    },
    {
     "name": "stdout",
     "output_type": "stream",
     "text": [
      "1/1 [==============================] - 0s 20ms/step\n"
     ]
    },
    {
     "name": "stderr",
     "output_type": "stream",
     "text": [
      "2025-06-17 09:07:17,157 - INFO - SVG for 4-YRQJ saved.\n",
      "2025-06-17 09:07:17,215 - INFO - Processing image /data/4-YQVM_9ac33726c539459d10cd6f6c97a6c9c77b0eefd4545f9eb551fbe334a9b59ad7/Dataset_4-YQVM/data/asset/Image/Multimodal_1272_Multimodal_2676_Multimodal_11475_Right_Field_2.jpg : , trial 1, color channel grey, resize function imgResize_primary\n"
     ]
    },
    {
     "name": "stdout",
     "output_type": "stream",
     "text": [
      "1/1 [==============================] - 0s 21ms/step\n"
     ]
    },
    {
     "name": "stderr",
     "output_type": "stream",
     "text": [
      "2025-06-17 09:07:18,201 - INFO - SVG for 4-YRQM saved.\n",
      "2025-06-17 09:07:18,260 - INFO - Processing image /data/4-YQVM_9ac33726c539459d10cd6f6c97a6c9c77b0eefd4545f9eb551fbe334a9b59ad7/Dataset_4-YQVM/data/asset/Image/Multimodal_1301_Multimodal_2726_Multimodal_11525_Right_Field_2.jpg : , trial 1, color channel grey, resize function imgResize_primary\n"
     ]
    },
    {
     "name": "stdout",
     "output_type": "stream",
     "text": [
      "1/1 [==============================] - 0s 20ms/step\n"
     ]
    },
    {
     "name": "stderr",
     "output_type": "stream",
     "text": [
      "2025-06-17 09:07:19,089 - INFO - SVG for 4-YRQP saved.\n",
      "2025-06-17 09:07:19,147 - INFO - Processing image /data/4-YQVM_9ac33726c539459d10cd6f6c97a6c9c77b0eefd4545f9eb551fbe334a9b59ad7/Dataset_4-YQVM/data/asset/Image/Multimodal_1334_Multimodal_2787_Multimodal_11587_Left_Field_2.jpg : , trial 1, color channel grey, resize function imgResize_primary\n"
     ]
    },
    {
     "name": "stdout",
     "output_type": "stream",
     "text": [
      "1/1 [==============================] - 0s 21ms/step\n"
     ]
    },
    {
     "name": "stderr",
     "output_type": "stream",
     "text": [
      "2025-06-17 09:07:19,865 - INFO - SVG for 4-YRQR saved.\n",
      "2025-06-17 09:07:19,924 - INFO - Processing image /data/4-YQVM_9ac33726c539459d10cd6f6c97a6c9c77b0eefd4545f9eb551fbe334a9b59ad7/Dataset_4-YQVM/data/asset/Image/Multimodal_1311_Multimodal_2744_Multimodal_11544_Left_Field_2.jpg : , trial 1, color channel grey, resize function imgResize_primary\n"
     ]
    },
    {
     "name": "stdout",
     "output_type": "stream",
     "text": [
      "1/1 [==============================] - 0s 20ms/step\n"
     ]
    },
    {
     "name": "stderr",
     "output_type": "stream",
     "text": [
      "2025-06-17 09:07:20,541 - INFO - SVG for 4-YRQT saved.\n",
      "2025-06-17 09:07:20,601 - INFO - Processing image /data/4-YQVM_9ac33726c539459d10cd6f6c97a6c9c77b0eefd4545f9eb551fbe334a9b59ad7/Dataset_4-YQVM/data/asset/Image/Multimodal_1339_Multimodal_2796_Multimodal_11595_Right_Field_2.jpg : , trial 1, color channel grey, resize function imgResize_primary\n"
     ]
    },
    {
     "name": "stdout",
     "output_type": "stream",
     "text": [
      "1/1 [==============================] - 0s 20ms/step\n"
     ]
    },
    {
     "name": "stderr",
     "output_type": "stream",
     "text": [
      "2025-06-17 09:07:21,388 - INFO - SVG for 4-YRQW saved.\n",
      "2025-06-17 09:07:21,447 - INFO - Processing image /data/4-YQVM_9ac33726c539459d10cd6f6c97a6c9c77b0eefd4545f9eb551fbe334a9b59ad7/Dataset_4-YQVM/data/asset/Image/Multimodal_1284_Multimodal_2695_Multimodal_11494_Right_Field_1.jpg : , trial 1, color channel grey, resize function imgResize_primary\n"
     ]
    },
    {
     "name": "stdout",
     "output_type": "stream",
     "text": [
      "1/1 [==============================] - 0s 20ms/step\n"
     ]
    },
    {
     "name": "stderr",
     "output_type": "stream",
     "text": [
      "2025-06-17 09:07:22,046 - INFO - Processing image /data/4-YQVM_9ac33726c539459d10cd6f6c97a6c9c77b0eefd4545f9eb551fbe334a9b59ad7/Dataset_4-YQVM/data/asset/Image/Multimodal_1284_Multimodal_2695_Multimodal_11494_Right_Field_1.jpg : , trial 2, color channel green, resize function imgResize_primary\n"
     ]
    },
    {
     "name": "stdout",
     "output_type": "stream",
     "text": [
      "1/1 [==============================] - 0s 20ms/step\n"
     ]
    },
    {
     "name": "stderr",
     "output_type": "stream",
     "text": [
      "2025-06-17 09:07:22,600 - INFO - Processing image /data/4-YQVM_9ac33726c539459d10cd6f6c97a6c9c77b0eefd4545f9eb551fbe334a9b59ad7/Dataset_4-YQVM/data/asset/Image/Multimodal_1284_Multimodal_2695_Multimodal_11494_Right_Field_1.jpg : , trial 3, color channel red, resize function imgResize_primary\n"
     ]
    },
    {
     "name": "stdout",
     "output_type": "stream",
     "text": [
      "1/1 [==============================] - 0s 20ms/step\n"
     ]
    },
    {
     "name": "stderr",
     "output_type": "stream",
     "text": [
      "2025-06-17 09:07:23,424 - INFO - Processing image /data/4-YQVM_9ac33726c539459d10cd6f6c97a6c9c77b0eefd4545f9eb551fbe334a9b59ad7/Dataset_4-YQVM/data/asset/Image/Multimodal_1284_Multimodal_2695_Multimodal_11494_Right_Field_1.jpg : , trial 4, color channel blue, resize function imgResize_primary\n"
     ]
    },
    {
     "name": "stdout",
     "output_type": "stream",
     "text": [
      "1/1 [==============================] - 0s 20ms/step\n"
     ]
    },
    {
     "name": "stderr",
     "output_type": "stream",
     "text": [
      "2025-06-17 09:07:23,963 - INFO - Processing image /data/4-YQVM_9ac33726c539459d10cd6f6c97a6c9c77b0eefd4545f9eb551fbe334a9b59ad7/Dataset_4-YQVM/data/asset/Image/Multimodal_1284_Multimodal_2695_Multimodal_11494_Right_Field_1.jpg : , trial 1, color channel grey, resize function imgResize_secondary\n"
     ]
    },
    {
     "name": "stdout",
     "output_type": "stream",
     "text": [
      "1/1 [==============================] - 0s 20ms/step\n"
     ]
    },
    {
     "name": "stderr",
     "output_type": "stream",
     "text": [
      "2025-06-17 09:07:24,724 - INFO - Processing image /data/4-YQVM_9ac33726c539459d10cd6f6c97a6c9c77b0eefd4545f9eb551fbe334a9b59ad7/Dataset_4-YQVM/data/asset/Image/Multimodal_1284_Multimodal_2695_Multimodal_11494_Right_Field_1.jpg : , trial 2, color channel green, resize function imgResize_secondary\n"
     ]
    },
    {
     "name": "stdout",
     "output_type": "stream",
     "text": [
      "1/1 [==============================] - 0s 20ms/step\n"
     ]
    },
    {
     "name": "stderr",
     "output_type": "stream",
     "text": [
      "2025-06-17 09:07:25,668 - INFO - Processing image /data/4-YQVM_9ac33726c539459d10cd6f6c97a6c9c77b0eefd4545f9eb551fbe334a9b59ad7/Dataset_4-YQVM/data/asset/Image/Multimodal_1284_Multimodal_2695_Multimodal_11494_Right_Field_1.jpg : , trial 3, color channel red, resize function imgResize_secondary\n"
     ]
    },
    {
     "name": "stdout",
     "output_type": "stream",
     "text": [
      "1/1 [==============================] - 0s 21ms/step\n"
     ]
    },
    {
     "name": "stderr",
     "output_type": "stream",
     "text": [
      "2025-06-17 09:07:26,684 - INFO - Processing image /data/4-YQVM_9ac33726c539459d10cd6f6c97a6c9c77b0eefd4545f9eb551fbe334a9b59ad7/Dataset_4-YQVM/data/asset/Image/Multimodal_1284_Multimodal_2695_Multimodal_11494_Right_Field_1.jpg : , trial 4, color channel blue, resize function imgResize_secondary\n"
     ]
    },
    {
     "name": "stdout",
     "output_type": "stream",
     "text": [
      "1/1 [==============================] - 0s 20ms/step\n"
     ]
    },
    {
     "name": "stderr",
     "output_type": "stream",
     "text": [
      "2025-06-17 09:07:27,520 - INFO - Processing image /data/4-YQVM_9ac33726c539459d10cd6f6c97a6c9c77b0eefd4545f9eb551fbe334a9b59ad7/Dataset_4-YQVM/data/asset/Image/Multimodal_1284_Multimodal_2695_Multimodal_11494_Right_Field_1.jpg : , trial 1, color channel grey, resize function imgResize_primary\n"
     ]
    },
    {
     "name": "stdout",
     "output_type": "stream",
     "text": [
      "1/1 [==============================] - 0s 20ms/step\n"
     ]
    },
    {
     "name": "stderr",
     "output_type": "stream",
     "text": [
      "2025-06-17 09:07:28,186 - INFO - Processing image /data/4-YQVM_9ac33726c539459d10cd6f6c97a6c9c77b0eefd4545f9eb551fbe334a9b59ad7/Dataset_4-YQVM/data/asset/Image/Multimodal_1284_Multimodal_2695_Multimodal_11494_Right_Field_1.jpg : , trial 2, color channel green, resize function imgResize_primary\n"
     ]
    },
    {
     "name": "stdout",
     "output_type": "stream",
     "text": [
      "1/1 [==============================] - 0s 20ms/step\n"
     ]
    },
    {
     "name": "stderr",
     "output_type": "stream",
     "text": [
      "2025-06-17 09:07:28,926 - INFO - Processing image /data/4-YQVM_9ac33726c539459d10cd6f6c97a6c9c77b0eefd4545f9eb551fbe334a9b59ad7/Dataset_4-YQVM/data/asset/Image/Multimodal_1284_Multimodal_2695_Multimodal_11494_Right_Field_1.jpg : , trial 3, color channel red, resize function imgResize_primary\n"
     ]
    },
    {
     "name": "stdout",
     "output_type": "stream",
     "text": [
      "1/1 [==============================] - 0s 20ms/step\n"
     ]
    },
    {
     "name": "stderr",
     "output_type": "stream",
     "text": [
      "2025-06-17 09:07:29,606 - INFO - Processing image /data/4-YQVM_9ac33726c539459d10cd6f6c97a6c9c77b0eefd4545f9eb551fbe334a9b59ad7/Dataset_4-YQVM/data/asset/Image/Multimodal_1284_Multimodal_2695_Multimodal_11494_Right_Field_1.jpg : , trial 4, color channel blue, resize function imgResize_primary\n"
     ]
    },
    {
     "name": "stdout",
     "output_type": "stream",
     "text": [
      "1/1 [==============================] - 0s 20ms/step\n"
     ]
    },
    {
     "name": "stderr",
     "output_type": "stream",
     "text": [
      "2025-06-17 09:07:30,188 - INFO - Processing image /data/4-YQVM_9ac33726c539459d10cd6f6c97a6c9c77b0eefd4545f9eb551fbe334a9b59ad7/Dataset_4-YQVM/data/asset/Image/Multimodal_1284_Multimodal_2695_Multimodal_11494_Right_Field_1.jpg : , trial 1, color channel grey, resize function imgResize_secondary\n"
     ]
    },
    {
     "name": "stdout",
     "output_type": "stream",
     "text": [
      "1/1 [==============================] - 0s 20ms/step\n"
     ]
    },
    {
     "name": "stderr",
     "output_type": "stream",
     "text": [
      "2025-06-17 09:07:30,893 - INFO - Processing image /data/4-YQVM_9ac33726c539459d10cd6f6c97a6c9c77b0eefd4545f9eb551fbe334a9b59ad7/Dataset_4-YQVM/data/asset/Image/Multimodal_1284_Multimodal_2695_Multimodal_11494_Right_Field_1.jpg : , trial 2, color channel green, resize function imgResize_secondary\n"
     ]
    },
    {
     "name": "stdout",
     "output_type": "stream",
     "text": [
      "1/1 [==============================] - 0s 20ms/step\n"
     ]
    },
    {
     "name": "stderr",
     "output_type": "stream",
     "text": [
      "2025-06-17 09:07:31,685 - INFO - Processing image /data/4-YQVM_9ac33726c539459d10cd6f6c97a6c9c77b0eefd4545f9eb551fbe334a9b59ad7/Dataset_4-YQVM/data/asset/Image/Multimodal_1284_Multimodal_2695_Multimodal_11494_Right_Field_1.jpg : , trial 3, color channel red, resize function imgResize_secondary\n"
     ]
    },
    {
     "name": "stdout",
     "output_type": "stream",
     "text": [
      "1/1 [==============================] - 0s 21ms/step\n"
     ]
    },
    {
     "name": "stderr",
     "output_type": "stream",
     "text": [
      "2025-06-17 09:07:32,932 - INFO - Processing image /data/4-YQVM_9ac33726c539459d10cd6f6c97a6c9c77b0eefd4545f9eb551fbe334a9b59ad7/Dataset_4-YQVM/data/asset/Image/Multimodal_1284_Multimodal_2695_Multimodal_11494_Right_Field_1.jpg : , trial 4, color channel blue, resize function imgResize_secondary\n"
     ]
    },
    {
     "name": "stdout",
     "output_type": "stream",
     "text": [
      "1/1 [==============================] - 0s 20ms/step\n"
     ]
    },
    {
     "name": "stderr",
     "output_type": "stream",
     "text": [
      "2025-06-17 09:07:33,765 - INFO - Processing image /data/4-YQVM_9ac33726c539459d10cd6f6c97a6c9c77b0eefd4545f9eb551fbe334a9b59ad7/Dataset_4-YQVM/data/asset/Image/Multimodal_1284_Multimodal_2695_Multimodal_11494_Right_Field_1.jpg : , trial 1, color channel grey, resize function imgResize_primary\n"
     ]
    },
    {
     "name": "stdout",
     "output_type": "stream",
     "text": [
      "1/1 [==============================] - 0s 20ms/step\n"
     ]
    },
    {
     "name": "stderr",
     "output_type": "stream",
     "text": [
      "2025-06-17 09:07:34,375 - INFO - Processing image /data/4-YQVM_9ac33726c539459d10cd6f6c97a6c9c77b0eefd4545f9eb551fbe334a9b59ad7/Dataset_4-YQVM/data/asset/Image/Multimodal_1284_Multimodal_2695_Multimodal_11494_Right_Field_1.jpg : , trial 2, color channel green, resize function imgResize_primary\n"
     ]
    },
    {
     "name": "stdout",
     "output_type": "stream",
     "text": [
      "1/1 [==============================] - 0s 20ms/step\n"
     ]
    },
    {
     "name": "stderr",
     "output_type": "stream",
     "text": [
      "2025-06-17 09:07:34,916 - INFO - Processing image /data/4-YQVM_9ac33726c539459d10cd6f6c97a6c9c77b0eefd4545f9eb551fbe334a9b59ad7/Dataset_4-YQVM/data/asset/Image/Multimodal_1284_Multimodal_2695_Multimodal_11494_Right_Field_1.jpg : , trial 3, color channel red, resize function imgResize_primary\n"
     ]
    },
    {
     "name": "stdout",
     "output_type": "stream",
     "text": [
      "1/1 [==============================] - 0s 21ms/step\n"
     ]
    },
    {
     "name": "stderr",
     "output_type": "stream",
     "text": [
      "2025-06-17 09:07:35,513 - INFO - Processing image /data/4-YQVM_9ac33726c539459d10cd6f6c97a6c9c77b0eefd4545f9eb551fbe334a9b59ad7/Dataset_4-YQVM/data/asset/Image/Multimodal_1284_Multimodal_2695_Multimodal_11494_Right_Field_1.jpg : , trial 4, color channel blue, resize function imgResize_primary\n"
     ]
    },
    {
     "name": "stdout",
     "output_type": "stream",
     "text": [
      "1/1 [==============================] - 0s 20ms/step\n"
     ]
    },
    {
     "name": "stderr",
     "output_type": "stream",
     "text": [
      "2025-06-17 09:07:35,992 - INFO - Processing image /data/4-YQVM_9ac33726c539459d10cd6f6c97a6c9c77b0eefd4545f9eb551fbe334a9b59ad7/Dataset_4-YQVM/data/asset/Image/Multimodal_1284_Multimodal_2695_Multimodal_11494_Right_Field_1.jpg : , trial 1, color channel grey, resize function imgResize_secondary\n"
     ]
    },
    {
     "name": "stdout",
     "output_type": "stream",
     "text": [
      "1/1 [==============================] - 0s 20ms/step\n"
     ]
    },
    {
     "name": "stderr",
     "output_type": "stream",
     "text": [
      "2025-06-17 09:07:36,811 - INFO - Processing image /data/4-YQVM_9ac33726c539459d10cd6f6c97a6c9c77b0eefd4545f9eb551fbe334a9b59ad7/Dataset_4-YQVM/data/asset/Image/Multimodal_1284_Multimodal_2695_Multimodal_11494_Right_Field_1.jpg : , trial 2, color channel green, resize function imgResize_secondary\n"
     ]
    },
    {
     "name": "stdout",
     "output_type": "stream",
     "text": [
      "1/1 [==============================] - 0s 20ms/step\n"
     ]
    },
    {
     "name": "stderr",
     "output_type": "stream",
     "text": [
      "2025-06-17 09:07:37,802 - INFO - Processing image /data/4-YQVM_9ac33726c539459d10cd6f6c97a6c9c77b0eefd4545f9eb551fbe334a9b59ad7/Dataset_4-YQVM/data/asset/Image/Multimodal_1284_Multimodal_2695_Multimodal_11494_Right_Field_1.jpg : , trial 3, color channel red, resize function imgResize_secondary\n"
     ]
    },
    {
     "name": "stdout",
     "output_type": "stream",
     "text": [
      "1/1 [==============================] - 0s 20ms/step\n"
     ]
    },
    {
     "name": "stderr",
     "output_type": "stream",
     "text": [
      "2025-06-17 09:07:38,773 - INFO - Processing image /data/4-YQVM_9ac33726c539459d10cd6f6c97a6c9c77b0eefd4545f9eb551fbe334a9b59ad7/Dataset_4-YQVM/data/asset/Image/Multimodal_1284_Multimodal_2695_Multimodal_11494_Right_Field_1.jpg : , trial 4, color channel blue, resize function imgResize_secondary\n"
     ]
    },
    {
     "name": "stdout",
     "output_type": "stream",
     "text": [
      "1/1 [==============================] - 0s 20ms/step\n"
     ]
    },
    {
     "name": "stderr",
     "output_type": "stream",
     "text": [
      "2025-06-17 09:07:39,471 - INFO - Processing image /data/4-YQVM_9ac33726c539459d10cd6f6c97a6c9c77b0eefd4545f9eb551fbe334a9b59ad7/Dataset_4-YQVM/data/asset/Image/Multimodal_1284_Multimodal_2695_Multimodal_11494_Right_Field_1.jpg : , trial 1, color channel grey, resize function imgResize_primary\n"
     ]
    },
    {
     "name": "stdout",
     "output_type": "stream",
     "text": [
      "1/1 [==============================] - 0s 20ms/step\n"
     ]
    },
    {
     "name": "stderr",
     "output_type": "stream",
     "text": [
      "2025-06-17 09:07:40,101 - INFO - Processing image /data/4-YQVM_9ac33726c539459d10cd6f6c97a6c9c77b0eefd4545f9eb551fbe334a9b59ad7/Dataset_4-YQVM/data/asset/Image/Multimodal_1284_Multimodal_2695_Multimodal_11494_Right_Field_1.jpg : , trial 2, color channel green, resize function imgResize_primary\n"
     ]
    },
    {
     "name": "stdout",
     "output_type": "stream",
     "text": [
      "1/1 [==============================] - 0s 20ms/step\n"
     ]
    },
    {
     "name": "stderr",
     "output_type": "stream",
     "text": [
      "2025-06-17 09:07:40,664 - INFO - Processing image /data/4-YQVM_9ac33726c539459d10cd6f6c97a6c9c77b0eefd4545f9eb551fbe334a9b59ad7/Dataset_4-YQVM/data/asset/Image/Multimodal_1284_Multimodal_2695_Multimodal_11494_Right_Field_1.jpg : , trial 3, color channel red, resize function imgResize_primary\n"
     ]
    },
    {
     "name": "stdout",
     "output_type": "stream",
     "text": [
      "1/1 [==============================] - 0s 20ms/step\n"
     ]
    },
    {
     "name": "stderr",
     "output_type": "stream",
     "text": [
      "2025-06-17 09:07:41,238 - INFO - Processing image /data/4-YQVM_9ac33726c539459d10cd6f6c97a6c9c77b0eefd4545f9eb551fbe334a9b59ad7/Dataset_4-YQVM/data/asset/Image/Multimodal_1284_Multimodal_2695_Multimodal_11494_Right_Field_1.jpg : , trial 4, color channel blue, resize function imgResize_primary\n"
     ]
    },
    {
     "name": "stdout",
     "output_type": "stream",
     "text": [
      "1/1 [==============================] - 0s 20ms/step\n"
     ]
    },
    {
     "name": "stderr",
     "output_type": "stream",
     "text": [
      "2025-06-17 09:07:41,761 - INFO - Processing image /data/4-YQVM_9ac33726c539459d10cd6f6c97a6c9c77b0eefd4545f9eb551fbe334a9b59ad7/Dataset_4-YQVM/data/asset/Image/Multimodal_1284_Multimodal_2695_Multimodal_11494_Right_Field_1.jpg : , trial 1, color channel grey, resize function imgResize_secondary\n"
     ]
    },
    {
     "name": "stdout",
     "output_type": "stream",
     "text": [
      "1/1 [==============================] - 0s 20ms/step\n"
     ]
    },
    {
     "name": "stderr",
     "output_type": "stream",
     "text": [
      "2025-06-17 09:07:42,512 - INFO - Processing image /data/4-YQVM_9ac33726c539459d10cd6f6c97a6c9c77b0eefd4545f9eb551fbe334a9b59ad7/Dataset_4-YQVM/data/asset/Image/Multimodal_1284_Multimodal_2695_Multimodal_11494_Right_Field_1.jpg : , trial 2, color channel green, resize function imgResize_secondary\n"
     ]
    },
    {
     "name": "stdout",
     "output_type": "stream",
     "text": [
      "1/1 [==============================] - 0s 20ms/step\n"
     ]
    },
    {
     "name": "stderr",
     "output_type": "stream",
     "text": [
      "2025-06-17 09:07:43,505 - INFO - Processing image /data/4-YQVM_9ac33726c539459d10cd6f6c97a6c9c77b0eefd4545f9eb551fbe334a9b59ad7/Dataset_4-YQVM/data/asset/Image/Multimodal_1284_Multimodal_2695_Multimodal_11494_Right_Field_1.jpg : , trial 3, color channel red, resize function imgResize_secondary\n"
     ]
    },
    {
     "name": "stdout",
     "output_type": "stream",
     "text": [
      "1/1 [==============================] - 0s 20ms/step\n"
     ]
    },
    {
     "name": "stderr",
     "output_type": "stream",
     "text": [
      "2025-06-17 09:07:44,585 - INFO - Processing image /data/4-YQVM_9ac33726c539459d10cd6f6c97a6c9c77b0eefd4545f9eb551fbe334a9b59ad7/Dataset_4-YQVM/data/asset/Image/Multimodal_1284_Multimodal_2695_Multimodal_11494_Right_Field_1.jpg : , trial 4, color channel blue, resize function imgResize_secondary\n"
     ]
    },
    {
     "name": "stdout",
     "output_type": "stream",
     "text": [
      "1/1 [==============================] - 0s 20ms/step\n"
     ]
    },
    {
     "name": "stderr",
     "output_type": "stream",
     "text": [
      "2025-06-17 09:07:45,340 - INFO - Processing image /data/4-YQVM_9ac33726c539459d10cd6f6c97a6c9c77b0eefd4545f9eb551fbe334a9b59ad7/Dataset_4-YQVM/data/asset/Image/Multimodal_1284_Multimodal_2695_Multimodal_11494_Right_Field_1.jpg : , trial 1, color channel grey, resize function imgResize_primary\n"
     ]
    },
    {
     "name": "stdout",
     "output_type": "stream",
     "text": [
      "1/1 [==============================] - 0s 20ms/step\n"
     ]
    },
    {
     "name": "stderr",
     "output_type": "stream",
     "text": [
      "2025-06-17 09:07:45,836 - INFO - Processing image /data/4-YQVM_9ac33726c539459d10cd6f6c97a6c9c77b0eefd4545f9eb551fbe334a9b59ad7/Dataset_4-YQVM/data/asset/Image/Multimodal_1284_Multimodal_2695_Multimodal_11494_Right_Field_1.jpg : , trial 2, color channel green, resize function imgResize_primary\n"
     ]
    },
    {
     "name": "stdout",
     "output_type": "stream",
     "text": [
      "1/1 [==============================] - 0s 20ms/step\n"
     ]
    },
    {
     "name": "stderr",
     "output_type": "stream",
     "text": [
      "2025-06-17 09:07:46,361 - INFO - Processing image /data/4-YQVM_9ac33726c539459d10cd6f6c97a6c9c77b0eefd4545f9eb551fbe334a9b59ad7/Dataset_4-YQVM/data/asset/Image/Multimodal_1284_Multimodal_2695_Multimodal_11494_Right_Field_1.jpg : , trial 3, color channel red, resize function imgResize_primary\n"
     ]
    },
    {
     "name": "stdout",
     "output_type": "stream",
     "text": [
      "1/1 [==============================] - 0s 20ms/step\n"
     ]
    },
    {
     "name": "stderr",
     "output_type": "stream",
     "text": [
      "2025-06-17 09:07:47,129 - INFO - Processing image /data/4-YQVM_9ac33726c539459d10cd6f6c97a6c9c77b0eefd4545f9eb551fbe334a9b59ad7/Dataset_4-YQVM/data/asset/Image/Multimodal_1284_Multimodal_2695_Multimodal_11494_Right_Field_1.jpg : , trial 4, color channel blue, resize function imgResize_primary\n"
     ]
    },
    {
     "name": "stdout",
     "output_type": "stream",
     "text": [
      "1/1 [==============================] - 0s 20ms/step\n"
     ]
    },
    {
     "name": "stderr",
     "output_type": "stream",
     "text": [
      "2025-06-17 09:07:47,700 - INFO - Processing image /data/4-YQVM_9ac33726c539459d10cd6f6c97a6c9c77b0eefd4545f9eb551fbe334a9b59ad7/Dataset_4-YQVM/data/asset/Image/Multimodal_1284_Multimodal_2695_Multimodal_11494_Right_Field_1.jpg : , trial 1, color channel grey, resize function imgResize_secondary\n"
     ]
    },
    {
     "name": "stdout",
     "output_type": "stream",
     "text": [
      "1/1 [==============================] - 0s 20ms/step\n"
     ]
    },
    {
     "name": "stderr",
     "output_type": "stream",
     "text": [
      "2025-06-17 09:07:48,522 - INFO - Processing image /data/4-YQVM_9ac33726c539459d10cd6f6c97a6c9c77b0eefd4545f9eb551fbe334a9b59ad7/Dataset_4-YQVM/data/asset/Image/Multimodal_1284_Multimodal_2695_Multimodal_11494_Right_Field_1.jpg : , trial 2, color channel green, resize function imgResize_secondary\n"
     ]
    },
    {
     "name": "stdout",
     "output_type": "stream",
     "text": [
      "1/1 [==============================] - 0s 20ms/step\n"
     ]
    },
    {
     "name": "stderr",
     "output_type": "stream",
     "text": [
      "2025-06-17 09:07:49,271 - INFO - Processing image /data/4-YQVM_9ac33726c539459d10cd6f6c97a6c9c77b0eefd4545f9eb551fbe334a9b59ad7/Dataset_4-YQVM/data/asset/Image/Multimodal_1284_Multimodal_2695_Multimodal_11494_Right_Field_1.jpg : , trial 3, color channel red, resize function imgResize_secondary\n"
     ]
    },
    {
     "name": "stdout",
     "output_type": "stream",
     "text": [
      "1/1 [==============================] - 0s 20ms/step\n"
     ]
    },
    {
     "name": "stderr",
     "output_type": "stream",
     "text": [
      "2025-06-17 09:07:50,395 - INFO - Processing image /data/4-YQVM_9ac33726c539459d10cd6f6c97a6c9c77b0eefd4545f9eb551fbe334a9b59ad7/Dataset_4-YQVM/data/asset/Image/Multimodal_1284_Multimodal_2695_Multimodal_11494_Right_Field_1.jpg : , trial 4, color channel blue, resize function imgResize_secondary\n"
     ]
    },
    {
     "name": "stdout",
     "output_type": "stream",
     "text": [
      "1/1 [==============================] - 0s 20ms/step\n"
     ]
    },
    {
     "name": "stderr",
     "output_type": "stream",
     "text": [
      "2025-06-17 09:07:51,347 - INFO - SVG for 4-YRQY saved.\n",
      "2025-06-17 09:07:51,412 - INFO - Processing image /data/4-YQVM_9ac33726c539459d10cd6f6c97a6c9c77b0eefd4545f9eb551fbe334a9b59ad7/Dataset_4-YQVM/data/asset/Image/Multimodal_1217_Multimodal_2580_Multimodal_11380_Left_Field_2.jpg : , trial 1, color channel grey, resize function imgResize_primary\n"
     ]
    },
    {
     "name": "stdout",
     "output_type": "stream",
     "text": [
      "1/1 [==============================] - 0s 20ms/step\n"
     ]
    },
    {
     "name": "stderr",
     "output_type": "stream",
     "text": [
      "2025-06-17 09:07:52,131 - INFO - SVG for 4-YRR0 saved.\n",
      "2025-06-17 09:07:52,190 - INFO - Processing image /data/4-YQVM_9ac33726c539459d10cd6f6c97a6c9c77b0eefd4545f9eb551fbe334a9b59ad7/Dataset_4-YQVM/data/asset/Image/Multimodal_1323_Multimodal_2766_Multimodal_11566_Left_Field_2.jpg : , trial 1, color channel grey, resize function imgResize_primary\n"
     ]
    },
    {
     "name": "stdout",
     "output_type": "stream",
     "text": [
      "1/1 [==============================] - 0s 20ms/step\n"
     ]
    },
    {
     "name": "stderr",
     "output_type": "stream",
     "text": [
      "2025-06-17 09:07:53,117 - INFO - SVG for 4-YRR2 saved.\n",
      "2025-06-17 09:07:53,179 - INFO - Processing image /data/4-YQVM_9ac33726c539459d10cd6f6c97a6c9c77b0eefd4545f9eb551fbe334a9b59ad7/Dataset_4-YQVM/data/asset/Image/Multimodal_1267_Multimodal_2668_Multimodal_11468_Left_Field_1.jpg : , trial 1, color channel grey, resize function imgResize_primary\n"
     ]
    },
    {
     "name": "stdout",
     "output_type": "stream",
     "text": [
      "1/1 [==============================] - 0s 21ms/step\n"
     ]
    },
    {
     "name": "stderr",
     "output_type": "stream",
     "text": [
      "2025-06-17 09:07:54,120 - INFO - SVG for 4-YRR4 saved.\n",
      "2025-06-17 09:07:54,180 - INFO - Processing image /data/4-YQVM_9ac33726c539459d10cd6f6c97a6c9c77b0eefd4545f9eb551fbe334a9b59ad7/Dataset_4-YQVM/data/asset/Image/Multimodal_1325_Multimodal_2770_Multimodal_11569_Right_Field_2.jpg : , trial 1, color channel grey, resize function imgResize_primary\n"
     ]
    },
    {
     "name": "stdout",
     "output_type": "stream",
     "text": [
      "1/1 [==============================] - 0s 20ms/step\n"
     ]
    },
    {
     "name": "stderr",
     "output_type": "stream",
     "text": [
      "2025-06-17 09:07:54,795 - INFO - SVG for 4-YRR6 saved.\n",
      "2025-06-17 09:07:54,853 - INFO - Processing image /data/4-YQVM_9ac33726c539459d10cd6f6c97a6c9c77b0eefd4545f9eb551fbe334a9b59ad7/Dataset_4-YQVM/data/asset/Image/Multimodal_1226_Multimodal_2595_Multimodal_11394_Right_Field_2.jpg : , trial 1, color channel grey, resize function imgResize_primary\n"
     ]
    },
    {
     "name": "stdout",
     "output_type": "stream",
     "text": [
      "1/1 [==============================] - 0s 20ms/step\n"
     ]
    },
    {
     "name": "stderr",
     "output_type": "stream",
     "text": [
      "2025-06-17 09:07:55,619 - INFO - Processing image /data/4-YQVM_9ac33726c539459d10cd6f6c97a6c9c77b0eefd4545f9eb551fbe334a9b59ad7/Dataset_4-YQVM/data/asset/Image/Multimodal_1226_Multimodal_2595_Multimodal_11394_Right_Field_2.jpg : , trial 2, color channel green, resize function imgResize_primary\n"
     ]
    },
    {
     "name": "stdout",
     "output_type": "stream",
     "text": [
      "1/1 [==============================] - 0s 20ms/step\n"
     ]
    },
    {
     "name": "stderr",
     "output_type": "stream",
     "text": [
      "2025-06-17 09:07:56,336 - INFO - Processing image /data/4-YQVM_9ac33726c539459d10cd6f6c97a6c9c77b0eefd4545f9eb551fbe334a9b59ad7/Dataset_4-YQVM/data/asset/Image/Multimodal_1226_Multimodal_2595_Multimodal_11394_Right_Field_2.jpg : , trial 3, color channel red, resize function imgResize_primary\n"
     ]
    },
    {
     "name": "stdout",
     "output_type": "stream",
     "text": [
      "1/1 [==============================] - 0s 20ms/step\n"
     ]
    },
    {
     "name": "stderr",
     "output_type": "stream",
     "text": [
      "2025-06-17 09:07:56,913 - INFO - Processing image /data/4-YQVM_9ac33726c539459d10cd6f6c97a6c9c77b0eefd4545f9eb551fbe334a9b59ad7/Dataset_4-YQVM/data/asset/Image/Multimodal_1226_Multimodal_2595_Multimodal_11394_Right_Field_2.jpg : , trial 4, color channel blue, resize function imgResize_primary\n"
     ]
    },
    {
     "name": "stdout",
     "output_type": "stream",
     "text": [
      "1/1 [==============================] - 0s 20ms/step\n"
     ]
    },
    {
     "name": "stderr",
     "output_type": "stream",
     "text": [
      "2025-06-17 09:07:57,574 - INFO - Processing image /data/4-YQVM_9ac33726c539459d10cd6f6c97a6c9c77b0eefd4545f9eb551fbe334a9b59ad7/Dataset_4-YQVM/data/asset/Image/Multimodal_1226_Multimodal_2595_Multimodal_11394_Right_Field_2.jpg : , trial 1, color channel grey, resize function imgResize_secondary\n"
     ]
    },
    {
     "name": "stdout",
     "output_type": "stream",
     "text": [
      "1/1 [==============================] - 0s 20ms/step\n"
     ]
    },
    {
     "name": "stderr",
     "output_type": "stream",
     "text": [
      "2025-06-17 09:07:58,763 - INFO - Processing image /data/4-YQVM_9ac33726c539459d10cd6f6c97a6c9c77b0eefd4545f9eb551fbe334a9b59ad7/Dataset_4-YQVM/data/asset/Image/Multimodal_1226_Multimodal_2595_Multimodal_11394_Right_Field_2.jpg : , trial 2, color channel green, resize function imgResize_secondary\n"
     ]
    },
    {
     "name": "stdout",
     "output_type": "stream",
     "text": [
      "1/1 [==============================] - 0s 20ms/step\n"
     ]
    },
    {
     "name": "stderr",
     "output_type": "stream",
     "text": [
      "2025-06-17 09:07:59,903 - INFO - Processing image /data/4-YQVM_9ac33726c539459d10cd6f6c97a6c9c77b0eefd4545f9eb551fbe334a9b59ad7/Dataset_4-YQVM/data/asset/Image/Multimodal_1226_Multimodal_2595_Multimodal_11394_Right_Field_2.jpg : , trial 3, color channel red, resize function imgResize_secondary\n"
     ]
    },
    {
     "name": "stdout",
     "output_type": "stream",
     "text": [
      "1/1 [==============================] - 0s 20ms/step\n"
     ]
    },
    {
     "name": "stderr",
     "output_type": "stream",
     "text": [
      "2025-06-17 09:08:01,088 - INFO - Processing image /data/4-YQVM_9ac33726c539459d10cd6f6c97a6c9c77b0eefd4545f9eb551fbe334a9b59ad7/Dataset_4-YQVM/data/asset/Image/Multimodal_1226_Multimodal_2595_Multimodal_11394_Right_Field_2.jpg : , trial 4, color channel blue, resize function imgResize_secondary\n"
     ]
    },
    {
     "name": "stdout",
     "output_type": "stream",
     "text": [
      "1/1 [==============================] - 0s 20ms/step\n"
     ]
    },
    {
     "name": "stderr",
     "output_type": "stream",
     "text": [
      "2025-06-17 09:08:02,454 - INFO - Processing image /data/4-YQVM_9ac33726c539459d10cd6f6c97a6c9c77b0eefd4545f9eb551fbe334a9b59ad7/Dataset_4-YQVM/data/asset/Image/Multimodal_1226_Multimodal_2595_Multimodal_11394_Right_Field_2.jpg : , trial 1, color channel grey, resize function imgResize_primary\n"
     ]
    },
    {
     "name": "stdout",
     "output_type": "stream",
     "text": [
      "1/1 [==============================] - 0s 21ms/step\n"
     ]
    },
    {
     "name": "stderr",
     "output_type": "stream",
     "text": [
      "2025-06-17 09:08:03,170 - INFO - Processing image /data/4-YQVM_9ac33726c539459d10cd6f6c97a6c9c77b0eefd4545f9eb551fbe334a9b59ad7/Dataset_4-YQVM/data/asset/Image/Multimodal_1226_Multimodal_2595_Multimodal_11394_Right_Field_2.jpg : , trial 2, color channel green, resize function imgResize_primary\n"
     ]
    },
    {
     "name": "stdout",
     "output_type": "stream",
     "text": [
      "1/1 [==============================] - 0s 20ms/step\n"
     ]
    },
    {
     "name": "stderr",
     "output_type": "stream",
     "text": [
      "2025-06-17 09:08:03,822 - INFO - Processing image /data/4-YQVM_9ac33726c539459d10cd6f6c97a6c9c77b0eefd4545f9eb551fbe334a9b59ad7/Dataset_4-YQVM/data/asset/Image/Multimodal_1226_Multimodal_2595_Multimodal_11394_Right_Field_2.jpg : , trial 3, color channel red, resize function imgResize_primary\n"
     ]
    },
    {
     "name": "stdout",
     "output_type": "stream",
     "text": [
      "1/1 [==============================] - 0s 20ms/step\n"
     ]
    },
    {
     "name": "stderr",
     "output_type": "stream",
     "text": [
      "2025-06-17 09:08:04,635 - INFO - Processing image /data/4-YQVM_9ac33726c539459d10cd6f6c97a6c9c77b0eefd4545f9eb551fbe334a9b59ad7/Dataset_4-YQVM/data/asset/Image/Multimodal_1226_Multimodal_2595_Multimodal_11394_Right_Field_2.jpg : , trial 4, color channel blue, resize function imgResize_primary\n"
     ]
    },
    {
     "name": "stdout",
     "output_type": "stream",
     "text": [
      "1/1 [==============================] - 0s 20ms/step\n"
     ]
    },
    {
     "name": "stderr",
     "output_type": "stream",
     "text": [
      "2025-06-17 09:08:05,266 - INFO - Processing image /data/4-YQVM_9ac33726c539459d10cd6f6c97a6c9c77b0eefd4545f9eb551fbe334a9b59ad7/Dataset_4-YQVM/data/asset/Image/Multimodal_1226_Multimodal_2595_Multimodal_11394_Right_Field_2.jpg : , trial 1, color channel grey, resize function imgResize_secondary\n"
     ]
    },
    {
     "name": "stdout",
     "output_type": "stream",
     "text": [
      "1/1 [==============================] - 0s 20ms/step\n"
     ]
    },
    {
     "name": "stderr",
     "output_type": "stream",
     "text": [
      "2025-06-17 09:08:06,478 - INFO - Processing image /data/4-YQVM_9ac33726c539459d10cd6f6c97a6c9c77b0eefd4545f9eb551fbe334a9b59ad7/Dataset_4-YQVM/data/asset/Image/Multimodal_1226_Multimodal_2595_Multimodal_11394_Right_Field_2.jpg : , trial 2, color channel green, resize function imgResize_secondary\n"
     ]
    },
    {
     "name": "stdout",
     "output_type": "stream",
     "text": [
      "1/1 [==============================] - 0s 20ms/step\n"
     ]
    },
    {
     "name": "stderr",
     "output_type": "stream",
     "text": [
      "2025-06-17 09:08:07,632 - INFO - Processing image /data/4-YQVM_9ac33726c539459d10cd6f6c97a6c9c77b0eefd4545f9eb551fbe334a9b59ad7/Dataset_4-YQVM/data/asset/Image/Multimodal_1226_Multimodal_2595_Multimodal_11394_Right_Field_2.jpg : , trial 3, color channel red, resize function imgResize_secondary\n"
     ]
    },
    {
     "name": "stdout",
     "output_type": "stream",
     "text": [
      "1/1 [==============================] - 0s 20ms/step\n"
     ]
    },
    {
     "name": "stderr",
     "output_type": "stream",
     "text": [
      "2025-06-17 09:08:08,674 - INFO - Processing image /data/4-YQVM_9ac33726c539459d10cd6f6c97a6c9c77b0eefd4545f9eb551fbe334a9b59ad7/Dataset_4-YQVM/data/asset/Image/Multimodal_1226_Multimodal_2595_Multimodal_11394_Right_Field_2.jpg : , trial 4, color channel blue, resize function imgResize_secondary\n"
     ]
    },
    {
     "name": "stdout",
     "output_type": "stream",
     "text": [
      "1/1 [==============================] - 0s 20ms/step\n"
     ]
    },
    {
     "name": "stderr",
     "output_type": "stream",
     "text": [
      "2025-06-17 09:08:09,814 - INFO - Processing image /data/4-YQVM_9ac33726c539459d10cd6f6c97a6c9c77b0eefd4545f9eb551fbe334a9b59ad7/Dataset_4-YQVM/data/asset/Image/Multimodal_1226_Multimodal_2595_Multimodal_11394_Right_Field_2.jpg : , trial 1, color channel grey, resize function imgResize_primary\n"
     ]
    },
    {
     "name": "stdout",
     "output_type": "stream",
     "text": [
      "1/1 [==============================] - 0s 20ms/step\n"
     ]
    },
    {
     "name": "stderr",
     "output_type": "stream",
     "text": [
      "2025-06-17 09:08:10,747 - INFO - Processing image /data/4-YQVM_9ac33726c539459d10cd6f6c97a6c9c77b0eefd4545f9eb551fbe334a9b59ad7/Dataset_4-YQVM/data/asset/Image/Multimodal_1226_Multimodal_2595_Multimodal_11394_Right_Field_2.jpg : , trial 2, color channel green, resize function imgResize_primary\n"
     ]
    },
    {
     "name": "stdout",
     "output_type": "stream",
     "text": [
      "1/1 [==============================] - 0s 20ms/step\n"
     ]
    },
    {
     "name": "stderr",
     "output_type": "stream",
     "text": [
      "2025-06-17 09:08:11,371 - INFO - Processing image /data/4-YQVM_9ac33726c539459d10cd6f6c97a6c9c77b0eefd4545f9eb551fbe334a9b59ad7/Dataset_4-YQVM/data/asset/Image/Multimodal_1226_Multimodal_2595_Multimodal_11394_Right_Field_2.jpg : , trial 3, color channel red, resize function imgResize_primary\n"
     ]
    },
    {
     "name": "stdout",
     "output_type": "stream",
     "text": [
      "1/1 [==============================] - 0s 20ms/step\n"
     ]
    },
    {
     "name": "stderr",
     "output_type": "stream",
     "text": [
      "2025-06-17 09:08:12,144 - INFO - Processing image /data/4-YQVM_9ac33726c539459d10cd6f6c97a6c9c77b0eefd4545f9eb551fbe334a9b59ad7/Dataset_4-YQVM/data/asset/Image/Multimodal_1226_Multimodal_2595_Multimodal_11394_Right_Field_2.jpg : , trial 4, color channel blue, resize function imgResize_primary\n"
     ]
    },
    {
     "name": "stdout",
     "output_type": "stream",
     "text": [
      "1/1 [==============================] - 0s 20ms/step\n"
     ]
    },
    {
     "name": "stderr",
     "output_type": "stream",
     "text": [
      "2025-06-17 09:08:13,003 - INFO - Processing image /data/4-YQVM_9ac33726c539459d10cd6f6c97a6c9c77b0eefd4545f9eb551fbe334a9b59ad7/Dataset_4-YQVM/data/asset/Image/Multimodal_1226_Multimodal_2595_Multimodal_11394_Right_Field_2.jpg : , trial 1, color channel grey, resize function imgResize_secondary\n"
     ]
    },
    {
     "name": "stdout",
     "output_type": "stream",
     "text": [
      "1/1 [==============================] - 0s 21ms/step\n"
     ]
    },
    {
     "name": "stderr",
     "output_type": "stream",
     "text": [
      "2025-06-17 09:08:14,140 - INFO - Processing image /data/4-YQVM_9ac33726c539459d10cd6f6c97a6c9c77b0eefd4545f9eb551fbe334a9b59ad7/Dataset_4-YQVM/data/asset/Image/Multimodal_1226_Multimodal_2595_Multimodal_11394_Right_Field_2.jpg : , trial 2, color channel green, resize function imgResize_secondary\n"
     ]
    },
    {
     "name": "stdout",
     "output_type": "stream",
     "text": [
      "1/1 [==============================] - 0s 20ms/step\n"
     ]
    },
    {
     "name": "stderr",
     "output_type": "stream",
     "text": [
      "2025-06-17 09:08:15,274 - INFO - Processing image /data/4-YQVM_9ac33726c539459d10cd6f6c97a6c9c77b0eefd4545f9eb551fbe334a9b59ad7/Dataset_4-YQVM/data/asset/Image/Multimodal_1226_Multimodal_2595_Multimodal_11394_Right_Field_2.jpg : , trial 3, color channel red, resize function imgResize_secondary\n"
     ]
    },
    {
     "name": "stdout",
     "output_type": "stream",
     "text": [
      "1/1 [==============================] - 0s 20ms/step\n"
     ]
    },
    {
     "name": "stderr",
     "output_type": "stream",
     "text": [
      "2025-06-17 09:08:16,414 - INFO - Processing image /data/4-YQVM_9ac33726c539459d10cd6f6c97a6c9c77b0eefd4545f9eb551fbe334a9b59ad7/Dataset_4-YQVM/data/asset/Image/Multimodal_1226_Multimodal_2595_Multimodal_11394_Right_Field_2.jpg : , trial 4, color channel blue, resize function imgResize_secondary\n"
     ]
    },
    {
     "name": "stdout",
     "output_type": "stream",
     "text": [
      "1/1 [==============================] - 0s 20ms/step\n"
     ]
    },
    {
     "name": "stderr",
     "output_type": "stream",
     "text": [
      "2025-06-17 09:08:17,398 - INFO - Processing image /data/4-YQVM_9ac33726c539459d10cd6f6c97a6c9c77b0eefd4545f9eb551fbe334a9b59ad7/Dataset_4-YQVM/data/asset/Image/Multimodal_1226_Multimodal_2595_Multimodal_11394_Right_Field_2.jpg : , trial 1, color channel grey, resize function imgResize_primary\n"
     ]
    },
    {
     "name": "stdout",
     "output_type": "stream",
     "text": [
      "1/1 [==============================] - 0s 21ms/step\n"
     ]
    },
    {
     "name": "stderr",
     "output_type": "stream",
     "text": [
      "2025-06-17 09:08:18,220 - INFO - Processing image /data/4-YQVM_9ac33726c539459d10cd6f6c97a6c9c77b0eefd4545f9eb551fbe334a9b59ad7/Dataset_4-YQVM/data/asset/Image/Multimodal_1226_Multimodal_2595_Multimodal_11394_Right_Field_2.jpg : , trial 2, color channel green, resize function imgResize_primary\n"
     ]
    },
    {
     "name": "stdout",
     "output_type": "stream",
     "text": [
      "1/1 [==============================] - 0s 20ms/step\n"
     ]
    },
    {
     "name": "stderr",
     "output_type": "stream",
     "text": [
      "2025-06-17 09:08:18,889 - INFO - Processing image /data/4-YQVM_9ac33726c539459d10cd6f6c97a6c9c77b0eefd4545f9eb551fbe334a9b59ad7/Dataset_4-YQVM/data/asset/Image/Multimodal_1226_Multimodal_2595_Multimodal_11394_Right_Field_2.jpg : , trial 3, color channel red, resize function imgResize_primary\n"
     ]
    },
    {
     "name": "stdout",
     "output_type": "stream",
     "text": [
      "1/1 [==============================] - 0s 20ms/step\n"
     ]
    },
    {
     "name": "stderr",
     "output_type": "stream",
     "text": [
      "2025-06-17 09:08:19,690 - INFO - Processing image /data/4-YQVM_9ac33726c539459d10cd6f6c97a6c9c77b0eefd4545f9eb551fbe334a9b59ad7/Dataset_4-YQVM/data/asset/Image/Multimodal_1226_Multimodal_2595_Multimodal_11394_Right_Field_2.jpg : , trial 4, color channel blue, resize function imgResize_primary\n"
     ]
    },
    {
     "name": "stdout",
     "output_type": "stream",
     "text": [
      "1/1 [==============================] - 0s 20ms/step\n"
     ]
    },
    {
     "name": "stderr",
     "output_type": "stream",
     "text": [
      "2025-06-17 09:08:20,452 - INFO - Processing image /data/4-YQVM_9ac33726c539459d10cd6f6c97a6c9c77b0eefd4545f9eb551fbe334a9b59ad7/Dataset_4-YQVM/data/asset/Image/Multimodal_1226_Multimodal_2595_Multimodal_11394_Right_Field_2.jpg : , trial 1, color channel grey, resize function imgResize_secondary\n"
     ]
    },
    {
     "name": "stdout",
     "output_type": "stream",
     "text": [
      "1/1 [==============================] - 0s 20ms/step\n"
     ]
    },
    {
     "name": "stderr",
     "output_type": "stream",
     "text": [
      "2025-06-17 09:08:21,308 - INFO - Processing image /data/4-YQVM_9ac33726c539459d10cd6f6c97a6c9c77b0eefd4545f9eb551fbe334a9b59ad7/Dataset_4-YQVM/data/asset/Image/Multimodal_1226_Multimodal_2595_Multimodal_11394_Right_Field_2.jpg : , trial 2, color channel green, resize function imgResize_secondary\n"
     ]
    },
    {
     "name": "stdout",
     "output_type": "stream",
     "text": [
      "1/1 [==============================] - 0s 20ms/step\n"
     ]
    },
    {
     "name": "stderr",
     "output_type": "stream",
     "text": [
      "2025-06-17 09:08:22,431 - INFO - Processing image /data/4-YQVM_9ac33726c539459d10cd6f6c97a6c9c77b0eefd4545f9eb551fbe334a9b59ad7/Dataset_4-YQVM/data/asset/Image/Multimodal_1226_Multimodal_2595_Multimodal_11394_Right_Field_2.jpg : , trial 3, color channel red, resize function imgResize_secondary\n"
     ]
    },
    {
     "name": "stdout",
     "output_type": "stream",
     "text": [
      "1/1 [==============================] - 0s 20ms/step\n"
     ]
    },
    {
     "name": "stderr",
     "output_type": "stream",
     "text": [
      "2025-06-17 09:08:23,485 - INFO - Processing image /data/4-YQVM_9ac33726c539459d10cd6f6c97a6c9c77b0eefd4545f9eb551fbe334a9b59ad7/Dataset_4-YQVM/data/asset/Image/Multimodal_1226_Multimodal_2595_Multimodal_11394_Right_Field_2.jpg : , trial 4, color channel blue, resize function imgResize_secondary\n"
     ]
    },
    {
     "name": "stdout",
     "output_type": "stream",
     "text": [
      "1/1 [==============================] - 0s 20ms/step\n"
     ]
    },
    {
     "name": "stderr",
     "output_type": "stream",
     "text": [
      "2025-06-17 09:08:24,656 - INFO - Processing image /data/4-YQVM_9ac33726c539459d10cd6f6c97a6c9c77b0eefd4545f9eb551fbe334a9b59ad7/Dataset_4-YQVM/data/asset/Image/Multimodal_1226_Multimodal_2595_Multimodal_11394_Right_Field_2.jpg : , trial 1, color channel grey, resize function imgResize_primary\n"
     ]
    },
    {
     "name": "stdout",
     "output_type": "stream",
     "text": [
      "1/1 [==============================] - 0s 20ms/step\n"
     ]
    },
    {
     "name": "stderr",
     "output_type": "stream",
     "text": [
      "2025-06-17 09:08:25,383 - INFO - Processing image /data/4-YQVM_9ac33726c539459d10cd6f6c97a6c9c77b0eefd4545f9eb551fbe334a9b59ad7/Dataset_4-YQVM/data/asset/Image/Multimodal_1226_Multimodal_2595_Multimodal_11394_Right_Field_2.jpg : , trial 2, color channel green, resize function imgResize_primary\n"
     ]
    },
    {
     "name": "stdout",
     "output_type": "stream",
     "text": [
      "1/1 [==============================] - 0s 20ms/step\n"
     ]
    },
    {
     "name": "stderr",
     "output_type": "stream",
     "text": [
      "2025-06-17 09:08:26,211 - INFO - Processing image /data/4-YQVM_9ac33726c539459d10cd6f6c97a6c9c77b0eefd4545f9eb551fbe334a9b59ad7/Dataset_4-YQVM/data/asset/Image/Multimodal_1226_Multimodal_2595_Multimodal_11394_Right_Field_2.jpg : , trial 3, color channel red, resize function imgResize_primary\n"
     ]
    },
    {
     "name": "stdout",
     "output_type": "stream",
     "text": [
      "1/1 [==============================] - 0s 20ms/step\n"
     ]
    },
    {
     "name": "stderr",
     "output_type": "stream",
     "text": [
      "2025-06-17 09:08:27,009 - INFO - Processing image /data/4-YQVM_9ac33726c539459d10cd6f6c97a6c9c77b0eefd4545f9eb551fbe334a9b59ad7/Dataset_4-YQVM/data/asset/Image/Multimodal_1226_Multimodal_2595_Multimodal_11394_Right_Field_2.jpg : , trial 4, color channel blue, resize function imgResize_primary\n"
     ]
    },
    {
     "name": "stdout",
     "output_type": "stream",
     "text": [
      "1/1 [==============================] - 0s 20ms/step\n"
     ]
    },
    {
     "name": "stderr",
     "output_type": "stream",
     "text": [
      "2025-06-17 09:08:27,743 - INFO - Processing image /data/4-YQVM_9ac33726c539459d10cd6f6c97a6c9c77b0eefd4545f9eb551fbe334a9b59ad7/Dataset_4-YQVM/data/asset/Image/Multimodal_1226_Multimodal_2595_Multimodal_11394_Right_Field_2.jpg : , trial 1, color channel grey, resize function imgResize_secondary\n"
     ]
    },
    {
     "name": "stdout",
     "output_type": "stream",
     "text": [
      "1/1 [==============================] - 0s 20ms/step\n"
     ]
    },
    {
     "name": "stderr",
     "output_type": "stream",
     "text": [
      "2025-06-17 09:08:28,900 - INFO - Processing image /data/4-YQVM_9ac33726c539459d10cd6f6c97a6c9c77b0eefd4545f9eb551fbe334a9b59ad7/Dataset_4-YQVM/data/asset/Image/Multimodal_1226_Multimodal_2595_Multimodal_11394_Right_Field_2.jpg : , trial 2, color channel green, resize function imgResize_secondary\n"
     ]
    },
    {
     "name": "stdout",
     "output_type": "stream",
     "text": [
      "1/1 [==============================] - 0s 20ms/step\n"
     ]
    },
    {
     "name": "stderr",
     "output_type": "stream",
     "text": [
      "2025-06-17 09:08:29,854 - INFO - Processing image /data/4-YQVM_9ac33726c539459d10cd6f6c97a6c9c77b0eefd4545f9eb551fbe334a9b59ad7/Dataset_4-YQVM/data/asset/Image/Multimodal_1226_Multimodal_2595_Multimodal_11394_Right_Field_2.jpg : , trial 3, color channel red, resize function imgResize_secondary\n"
     ]
    },
    {
     "name": "stdout",
     "output_type": "stream",
     "text": [
      "1/1 [==============================] - 0s 20ms/step\n"
     ]
    },
    {
     "name": "stderr",
     "output_type": "stream",
     "text": [
      "2025-06-17 09:08:30,752 - INFO - Processing image /data/4-YQVM_9ac33726c539459d10cd6f6c97a6c9c77b0eefd4545f9eb551fbe334a9b59ad7/Dataset_4-YQVM/data/asset/Image/Multimodal_1226_Multimodal_2595_Multimodal_11394_Right_Field_2.jpg : , trial 4, color channel blue, resize function imgResize_secondary\n"
     ]
    },
    {
     "name": "stdout",
     "output_type": "stream",
     "text": [
      "1/1 [==============================] - 0s 20ms/step\n"
     ]
    },
    {
     "name": "stderr",
     "output_type": "stream",
     "text": [
      "2025-06-17 09:08:31,893 - INFO - SVG for 4-YRR8 saved.\n",
      "2025-06-17 09:08:31,953 - INFO - Processing image /data/4-YQVM_9ac33726c539459d10cd6f6c97a6c9c77b0eefd4545f9eb551fbe334a9b59ad7/Dataset_4-YQVM/data/asset/Image/Multimodal_1249_Multimodal_2638_Multimodal_11438_Left_Field_2.jpg : , trial 1, color channel grey, resize function imgResize_primary\n"
     ]
    },
    {
     "name": "stdout",
     "output_type": "stream",
     "text": [
      "1/1 [==============================] - 0s 21ms/step\n"
     ]
    },
    {
     "name": "stderr",
     "output_type": "stream",
     "text": [
      "2025-06-17 09:08:32,767 - INFO - SVG for 4-YRRA saved.\n",
      "2025-06-17 09:08:32,825 - INFO - Processing image /data/4-YQVM_9ac33726c539459d10cd6f6c97a6c9c77b0eefd4545f9eb551fbe334a9b59ad7/Dataset_4-YQVM/data/asset/Image/Multimodal_1313_Multimodal_2747_Multimodal_11546_Right_Field_2.jpg : , trial 1, color channel grey, resize function imgResize_primary\n"
     ]
    },
    {
     "name": "stdout",
     "output_type": "stream",
     "text": [
      "1/1 [==============================] - 0s 20ms/step\n"
     ]
    },
    {
     "name": "stderr",
     "output_type": "stream",
     "text": [
      "2025-06-17 09:08:33,563 - INFO - SVG for 4-YRRC saved.\n",
      "2025-06-17 09:08:33,622 - INFO - Processing image /data/4-YQVM_9ac33726c539459d10cd6f6c97a6c9c77b0eefd4545f9eb551fbe334a9b59ad7/Dataset_4-YQVM/data/asset/Image/Multimodal_1279_Multimodal_2686_Multimodal_11485_Right_Field_1.jpg : , trial 1, color channel grey, resize function imgResize_primary\n"
     ]
    },
    {
     "name": "stdout",
     "output_type": "stream",
     "text": [
      "1/1 [==============================] - 0s 21ms/step\n"
     ]
    },
    {
     "name": "stderr",
     "output_type": "stream",
     "text": [
      "2025-06-17 09:08:34,376 - INFO - SVG for 4-YRRE saved.\n",
      "2025-06-17 09:08:34,434 - INFO - Processing image /data/4-YQVM_9ac33726c539459d10cd6f6c97a6c9c77b0eefd4545f9eb551fbe334a9b59ad7/Dataset_4-YQVM/data/asset/Image/Multimodal_1300_Multimodal_2724_Multimodal_11524_Left_Field_1.jpg : , trial 1, color channel grey, resize function imgResize_primary\n"
     ]
    },
    {
     "name": "stdout",
     "output_type": "stream",
     "text": [
      "1/1 [==============================] - 0s 20ms/step\n"
     ]
    },
    {
     "name": "stderr",
     "output_type": "stream",
     "text": [
      "2025-06-17 09:08:35,211 - INFO - SVG for 4-YRRG saved.\n",
      "2025-06-17 09:08:35,269 - INFO - Processing image /data/4-YQVM_9ac33726c539459d10cd6f6c97a6c9c77b0eefd4545f9eb551fbe334a9b59ad7/Dataset_4-YQVM/data/asset/Image/Multimodal_1242_Multimodal_2625_Multimodal_11424_Right_Field_2.jpg : , trial 1, color channel grey, resize function imgResize_primary\n"
     ]
    },
    {
     "name": "stdout",
     "output_type": "stream",
     "text": [
      "1/1 [==============================] - 0s 20ms/step\n"
     ]
    },
    {
     "name": "stderr",
     "output_type": "stream",
     "text": [
      "2025-06-17 09:08:35,840 - INFO - SVG for 4-YRRJ saved.\n",
      "2025-06-17 09:08:35,898 - INFO - Processing image /data/4-YQVM_9ac33726c539459d10cd6f6c97a6c9c77b0eefd4545f9eb551fbe334a9b59ad7/Dataset_4-YQVM/data/asset/Image/Multimodal_1283_Multimodal_2693_Multimodal_11493_Left_Field_2.jpg : , trial 1, color channel grey, resize function imgResize_primary\n"
     ]
    },
    {
     "name": "stdout",
     "output_type": "stream",
     "text": [
      "1/1 [==============================] - 0s 20ms/step\n"
     ]
    },
    {
     "name": "stderr",
     "output_type": "stream",
     "text": [
      "2025-06-17 09:08:36,761 - INFO - SVG for 4-YRRM saved.\n",
      "2025-06-17 09:08:36,820 - INFO - Processing image /data/4-YQVM_9ac33726c539459d10cd6f6c97a6c9c77b0eefd4545f9eb551fbe334a9b59ad7/Dataset_4-YQVM/data/asset/Image/Multimodal_1208_Multimodal_2563_Multimodal_11362_Right_Field_1.jpg : , trial 1, color channel grey, resize function imgResize_primary\n"
     ]
    },
    {
     "name": "stdout",
     "output_type": "stream",
     "text": [
      "1/1 [==============================] - 0s 21ms/step\n"
     ]
    },
    {
     "name": "stderr",
     "output_type": "stream",
     "text": [
      "2025-06-17 09:08:37,653 - INFO - SVG for 4-YRRP saved.\n",
      "2025-06-17 09:08:37,712 - INFO - Processing image /data/4-YQVM_9ac33726c539459d10cd6f6c97a6c9c77b0eefd4545f9eb551fbe334a9b59ad7/Dataset_4-YQVM/data/asset/Image/Multimodal_1335_Multimodal_2789_Multimodal_11588_Left_Field_2.jpg : , trial 1, color channel grey, resize function imgResize_primary\n"
     ]
    },
    {
     "name": "stdout",
     "output_type": "stream",
     "text": [
      "1/1 [==============================] - 0s 20ms/step\n"
     ]
    },
    {
     "name": "stderr",
     "output_type": "stream",
     "text": [
      "2025-06-17 09:08:38,444 - INFO - SVG for 4-YRRR saved.\n",
      "2025-06-17 09:08:38,502 - INFO - Processing image /data/4-YQVM_9ac33726c539459d10cd6f6c97a6c9c77b0eefd4545f9eb551fbe334a9b59ad7/Dataset_4-YQVM/data/asset/Image/Multimodal_1216_Multimodal_2578_Multimodal_11378_Left_Field_2.jpg : , trial 1, color channel grey, resize function imgResize_primary\n"
     ]
    },
    {
     "name": "stdout",
     "output_type": "stream",
     "text": [
      "1/1 [==============================] - 0s 20ms/step\n"
     ]
    },
    {
     "name": "stderr",
     "output_type": "stream",
     "text": [
      "2025-06-17 09:08:39,098 - INFO - Processing image /data/4-YQVM_9ac33726c539459d10cd6f6c97a6c9c77b0eefd4545f9eb551fbe334a9b59ad7/Dataset_4-YQVM/data/asset/Image/Multimodal_1216_Multimodal_2578_Multimodal_11378_Left_Field_2.jpg : , trial 2, color channel green, resize function imgResize_primary\n"
     ]
    },
    {
     "name": "stdout",
     "output_type": "stream",
     "text": [
      "1/1 [==============================] - 0s 20ms/step\n"
     ]
    },
    {
     "name": "stderr",
     "output_type": "stream",
     "text": [
      "2025-06-17 09:08:39,713 - INFO - Processing image /data/4-YQVM_9ac33726c539459d10cd6f6c97a6c9c77b0eefd4545f9eb551fbe334a9b59ad7/Dataset_4-YQVM/data/asset/Image/Multimodal_1216_Multimodal_2578_Multimodal_11378_Left_Field_2.jpg : , trial 3, color channel red, resize function imgResize_primary\n"
     ]
    },
    {
     "name": "stdout",
     "output_type": "stream",
     "text": [
      "1/1 [==============================] - 0s 20ms/step\n"
     ]
    },
    {
     "name": "stderr",
     "output_type": "stream",
     "text": [
      "2025-06-17 09:08:40,118 - INFO - Processing image /data/4-YQVM_9ac33726c539459d10cd6f6c97a6c9c77b0eefd4545f9eb551fbe334a9b59ad7/Dataset_4-YQVM/data/asset/Image/Multimodal_1216_Multimodal_2578_Multimodal_11378_Left_Field_2.jpg : , trial 4, color channel blue, resize function imgResize_primary\n"
     ]
    },
    {
     "name": "stdout",
     "output_type": "stream",
     "text": [
      "1/1 [==============================] - 0s 20ms/step\n"
     ]
    },
    {
     "name": "stderr",
     "output_type": "stream",
     "text": [
      "2025-06-17 09:08:40,647 - INFO - Processing image /data/4-YQVM_9ac33726c539459d10cd6f6c97a6c9c77b0eefd4545f9eb551fbe334a9b59ad7/Dataset_4-YQVM/data/asset/Image/Multimodal_1216_Multimodal_2578_Multimodal_11378_Left_Field_2.jpg : , trial 1, color channel grey, resize function imgResize_secondary\n"
     ]
    },
    {
     "name": "stdout",
     "output_type": "stream",
     "text": [
      "1/1 [==============================] - 0s 21ms/step\n"
     ]
    },
    {
     "name": "stderr",
     "output_type": "stream",
     "text": [
      "2025-06-17 09:08:41,498 - INFO - SVG for 4-YRRT saved.\n",
      "2025-06-17 09:08:41,557 - INFO - Processing image /data/4-YQVM_9ac33726c539459d10cd6f6c97a6c9c77b0eefd4545f9eb551fbe334a9b59ad7/Dataset_4-YQVM/data/asset/Image/Multimodal_1288_Multimodal_2703_Multimodal_11502_Left_Field_2.jpg : , trial 1, color channel grey, resize function imgResize_primary\n"
     ]
    },
    {
     "name": "stdout",
     "output_type": "stream",
     "text": [
      "1/1 [==============================] - 0s 20ms/step\n"
     ]
    },
    {
     "name": "stderr",
     "output_type": "stream",
     "text": [
      "2025-06-17 09:08:42,299 - INFO - SVG for 4-YRRW saved.\n",
      "2025-06-17 09:08:42,362 - INFO - Processing image /data/4-YQVM_9ac33726c539459d10cd6f6c97a6c9c77b0eefd4545f9eb551fbe334a9b59ad7/Dataset_4-YQVM/data/asset/Image/Multimodal_1318_Multimodal_2756_Multimodal_11555_Right_Field_2.jpg : , trial 1, color channel grey, resize function imgResize_primary\n"
     ]
    },
    {
     "name": "stdout",
     "output_type": "stream",
     "text": [
      "1/1 [==============================] - 0s 20ms/step\n"
     ]
    },
    {
     "name": "stderr",
     "output_type": "stream",
     "text": [
      "2025-06-17 09:08:43,023 - INFO - SVG for 4-YRRY saved.\n",
      "2025-06-17 09:08:43,084 - INFO - Processing image /data/4-YQVM_9ac33726c539459d10cd6f6c97a6c9c77b0eefd4545f9eb551fbe334a9b59ad7/Dataset_4-YQVM/data/asset/Image/Multimodal_1253_Multimodal_2645_Multimodal_11444_Right_Field_2.jpg : , trial 1, color channel grey, resize function imgResize_primary\n"
     ]
    },
    {
     "name": "stdout",
     "output_type": "stream",
     "text": [
      "1/1 [==============================] - 0s 21ms/step\n"
     ]
    },
    {
     "name": "stderr",
     "output_type": "stream",
     "text": [
      "2025-06-17 09:08:43,693 - INFO - SVG for 4-YRS0 saved.\n",
      "2025-06-17 09:08:43,752 - INFO - Processing image /data/4-YQVM_9ac33726c539459d10cd6f6c97a6c9c77b0eefd4545f9eb551fbe334a9b59ad7/Dataset_4-YQVM/data/asset/Image/Multimodal_1339_Multimodal_2796_Multimodal_11596_Left_Field_2.jpg : , trial 1, color channel grey, resize function imgResize_primary\n"
     ]
    },
    {
     "name": "stdout",
     "output_type": "stream",
     "text": [
      "1/1 [==============================] - 0s 21ms/step\n"
     ]
    },
    {
     "name": "stderr",
     "output_type": "stream",
     "text": [
      "2025-06-17 09:08:44,473 - INFO - SVG for 4-YRS2 saved.\n",
      "2025-06-17 09:08:44,532 - INFO - Processing image /data/4-YQVM_9ac33726c539459d10cd6f6c97a6c9c77b0eefd4545f9eb551fbe334a9b59ad7/Dataset_4-YQVM/data/asset/Image/Multimodal_1304_Multimodal_2732_Multimodal_11531_Right_Field_2.jpg : , trial 1, color channel grey, resize function imgResize_primary\n"
     ]
    },
    {
     "name": "stdout",
     "output_type": "stream",
     "text": [
      "1/1 [==============================] - 0s 20ms/step\n"
     ]
    },
    {
     "name": "stderr",
     "output_type": "stream",
     "text": [
      "2025-06-17 09:08:45,163 - INFO - SVG for 4-YRS4 saved.\n",
      "2025-06-17 09:08:45,223 - INFO - Processing image /data/4-YQVM_9ac33726c539459d10cd6f6c97a6c9c77b0eefd4545f9eb551fbe334a9b59ad7/Dataset_4-YQVM/data/asset/Image/Multimodal_1272_Multimodal_2676_Multimodal_11476_Left_Field_2.jpg : , trial 1, color channel grey, resize function imgResize_primary\n"
     ]
    },
    {
     "name": "stdout",
     "output_type": "stream",
     "text": [
      "1/1 [==============================] - 0s 20ms/step\n"
     ]
    },
    {
     "name": "stderr",
     "output_type": "stream",
     "text": [
      "2025-06-17 09:08:45,877 - INFO - SVG for 4-YRS6 saved.\n",
      "2025-06-17 09:08:45,935 - INFO - Processing image /data/4-YQVM_9ac33726c539459d10cd6f6c97a6c9c77b0eefd4545f9eb551fbe334a9b59ad7/Dataset_4-YQVM/data/asset/Image/Multimodal_1264_Multimodal_2663_Multimodal_11462_Right_Field_2.jpg : , trial 1, color channel grey, resize function imgResize_primary\n"
     ]
    },
    {
     "name": "stdout",
     "output_type": "stream",
     "text": [
      "1/1 [==============================] - 0s 20ms/step\n"
     ]
    },
    {
     "name": "stderr",
     "output_type": "stream",
     "text": [
      "2025-06-17 09:08:46,640 - INFO - SVG for 4-YRS8 saved.\n",
      "2025-06-17 09:08:46,698 - INFO - Processing image /data/4-YQVM_9ac33726c539459d10cd6f6c97a6c9c77b0eefd4545f9eb551fbe334a9b59ad7/Dataset_4-YQVM/data/asset/Image/Multimodal_1262_Multimodal_2661_Multimodal_11460_Right_Field_1.jpg : , trial 1, color channel grey, resize function imgResize_primary\n"
     ]
    },
    {
     "name": "stdout",
     "output_type": "stream",
     "text": [
      "1/1 [==============================] - 0s 20ms/step\n"
     ]
    },
    {
     "name": "stderr",
     "output_type": "stream",
     "text": [
      "2025-06-17 09:08:47,375 - INFO - SVG for 4-YRSA saved.\n",
      "2025-06-17 09:08:47,434 - INFO - Processing image /data/4-YQVM_9ac33726c539459d10cd6f6c97a6c9c77b0eefd4545f9eb551fbe334a9b59ad7/Dataset_4-YQVM/data/asset/Image/Multimodal_1277_Multimodal_2683_Multimodal_11483_Left_Field_2.jpg : , trial 1, color channel grey, resize function imgResize_primary\n"
     ]
    },
    {
     "name": "stdout",
     "output_type": "stream",
     "text": [
      "1/1 [==============================] - 0s 20ms/step\n"
     ]
    },
    {
     "name": "stderr",
     "output_type": "stream",
     "text": [
      "2025-06-17 09:08:48,062 - INFO - SVG for 4-YRSC saved.\n",
      "2025-06-17 09:08:48,122 - INFO - Processing image /data/4-YQVM_9ac33726c539459d10cd6f6c97a6c9c77b0eefd4545f9eb551fbe334a9b59ad7/Dataset_4-YQVM/data/asset/Image/Multimodal_1260_Multimodal_2658_Multimodal_11457_Right_Field_1.jpg : , trial 1, color channel grey, resize function imgResize_primary\n"
     ]
    },
    {
     "name": "stdout",
     "output_type": "stream",
     "text": [
      "1/1 [==============================] - 0s 20ms/step\n"
     ]
    },
    {
     "name": "stderr",
     "output_type": "stream",
     "text": [
      "2025-06-17 09:08:48,642 - INFO - Processing image /data/4-YQVM_9ac33726c539459d10cd6f6c97a6c9c77b0eefd4545f9eb551fbe334a9b59ad7/Dataset_4-YQVM/data/asset/Image/Multimodal_1260_Multimodal_2658_Multimodal_11457_Right_Field_1.jpg : , trial 2, color channel green, resize function imgResize_primary\n"
     ]
    },
    {
     "name": "stdout",
     "output_type": "stream",
     "text": [
      "1/1 [==============================] - 0s 20ms/step\n"
     ]
    },
    {
     "name": "stderr",
     "output_type": "stream",
     "text": [
      "2025-06-17 09:08:49,172 - INFO - Processing image /data/4-YQVM_9ac33726c539459d10cd6f6c97a6c9c77b0eefd4545f9eb551fbe334a9b59ad7/Dataset_4-YQVM/data/asset/Image/Multimodal_1260_Multimodal_2658_Multimodal_11457_Right_Field_1.jpg : , trial 3, color channel red, resize function imgResize_primary\n"
     ]
    },
    {
     "name": "stdout",
     "output_type": "stream",
     "text": [
      "1/1 [==============================] - 0s 20ms/step\n"
     ]
    },
    {
     "name": "stderr",
     "output_type": "stream",
     "text": [
      "2025-06-17 09:08:49,909 - INFO - Processing image /data/4-YQVM_9ac33726c539459d10cd6f6c97a6c9c77b0eefd4545f9eb551fbe334a9b59ad7/Dataset_4-YQVM/data/asset/Image/Multimodal_1260_Multimodal_2658_Multimodal_11457_Right_Field_1.jpg : , trial 4, color channel blue, resize function imgResize_primary\n"
     ]
    },
    {
     "name": "stdout",
     "output_type": "stream",
     "text": [
      "1/1 [==============================] - 0s 20ms/step\n"
     ]
    },
    {
     "name": "stderr",
     "output_type": "stream",
     "text": [
      "2025-06-17 09:08:50,617 - INFO - Processing image /data/4-YQVM_9ac33726c539459d10cd6f6c97a6c9c77b0eefd4545f9eb551fbe334a9b59ad7/Dataset_4-YQVM/data/asset/Image/Multimodal_1260_Multimodal_2658_Multimodal_11457_Right_Field_1.jpg : , trial 1, color channel grey, resize function imgResize_secondary\n"
     ]
    },
    {
     "name": "stdout",
     "output_type": "stream",
     "text": [
      "1/1 [==============================] - 0s 20ms/step\n"
     ]
    },
    {
     "name": "stderr",
     "output_type": "stream",
     "text": [
      "2025-06-17 09:08:51,404 - INFO - Processing image /data/4-YQVM_9ac33726c539459d10cd6f6c97a6c9c77b0eefd4545f9eb551fbe334a9b59ad7/Dataset_4-YQVM/data/asset/Image/Multimodal_1260_Multimodal_2658_Multimodal_11457_Right_Field_1.jpg : , trial 2, color channel green, resize function imgResize_secondary\n"
     ]
    },
    {
     "name": "stdout",
     "output_type": "stream",
     "text": [
      "1/1 [==============================] - 0s 21ms/step\n"
     ]
    },
    {
     "name": "stderr",
     "output_type": "stream",
     "text": [
      "2025-06-17 09:08:52,160 - INFO - Processing image /data/4-YQVM_9ac33726c539459d10cd6f6c97a6c9c77b0eefd4545f9eb551fbe334a9b59ad7/Dataset_4-YQVM/data/asset/Image/Multimodal_1260_Multimodal_2658_Multimodal_11457_Right_Field_1.jpg : , trial 3, color channel red, resize function imgResize_secondary\n"
     ]
    },
    {
     "name": "stdout",
     "output_type": "stream",
     "text": [
      "1/1 [==============================] - 0s 20ms/step\n"
     ]
    },
    {
     "name": "stderr",
     "output_type": "stream",
     "text": [
      "2025-06-17 09:08:53,129 - INFO - Processing image /data/4-YQVM_9ac33726c539459d10cd6f6c97a6c9c77b0eefd4545f9eb551fbe334a9b59ad7/Dataset_4-YQVM/data/asset/Image/Multimodal_1260_Multimodal_2658_Multimodal_11457_Right_Field_1.jpg : , trial 4, color channel blue, resize function imgResize_secondary\n"
     ]
    },
    {
     "name": "stdout",
     "output_type": "stream",
     "text": [
      "1/1 [==============================] - 0s 20ms/step\n"
     ]
    },
    {
     "name": "stderr",
     "output_type": "stream",
     "text": [
      "2025-06-17 09:08:53,853 - INFO - Processing image /data/4-YQVM_9ac33726c539459d10cd6f6c97a6c9c77b0eefd4545f9eb551fbe334a9b59ad7/Dataset_4-YQVM/data/asset/Image/Multimodal_1260_Multimodal_2658_Multimodal_11457_Right_Field_1.jpg : , trial 1, color channel grey, resize function imgResize_primary\n"
     ]
    },
    {
     "name": "stdout",
     "output_type": "stream",
     "text": [
      "1/1 [==============================] - 0s 20ms/step\n"
     ]
    },
    {
     "name": "stderr",
     "output_type": "stream",
     "text": [
      "2025-06-17 09:08:54,416 - INFO - Processing image /data/4-YQVM_9ac33726c539459d10cd6f6c97a6c9c77b0eefd4545f9eb551fbe334a9b59ad7/Dataset_4-YQVM/data/asset/Image/Multimodal_1260_Multimodal_2658_Multimodal_11457_Right_Field_1.jpg : , trial 2, color channel green, resize function imgResize_primary\n"
     ]
    },
    {
     "name": "stdout",
     "output_type": "stream",
     "text": [
      "1/1 [==============================] - 0s 20ms/step\n"
     ]
    },
    {
     "name": "stderr",
     "output_type": "stream",
     "text": [
      "2025-06-17 09:08:55,021 - INFO - Processing image /data/4-YQVM_9ac33726c539459d10cd6f6c97a6c9c77b0eefd4545f9eb551fbe334a9b59ad7/Dataset_4-YQVM/data/asset/Image/Multimodal_1260_Multimodal_2658_Multimodal_11457_Right_Field_1.jpg : , trial 3, color channel red, resize function imgResize_primary\n"
     ]
    },
    {
     "name": "stdout",
     "output_type": "stream",
     "text": [
      "1/1 [==============================] - 0s 20ms/step\n"
     ]
    },
    {
     "name": "stderr",
     "output_type": "stream",
     "text": [
      "2025-06-17 09:08:55,825 - INFO - Processing image /data/4-YQVM_9ac33726c539459d10cd6f6c97a6c9c77b0eefd4545f9eb551fbe334a9b59ad7/Dataset_4-YQVM/data/asset/Image/Multimodal_1260_Multimodal_2658_Multimodal_11457_Right_Field_1.jpg : , trial 4, color channel blue, resize function imgResize_primary\n"
     ]
    },
    {
     "name": "stdout",
     "output_type": "stream",
     "text": [
      "1/1 [==============================] - 0s 20ms/step\n"
     ]
    },
    {
     "name": "stderr",
     "output_type": "stream",
     "text": [
      "2025-06-17 09:08:56,399 - INFO - Processing image /data/4-YQVM_9ac33726c539459d10cd6f6c97a6c9c77b0eefd4545f9eb551fbe334a9b59ad7/Dataset_4-YQVM/data/asset/Image/Multimodal_1260_Multimodal_2658_Multimodal_11457_Right_Field_1.jpg : , trial 1, color channel grey, resize function imgResize_secondary\n"
     ]
    },
    {
     "name": "stdout",
     "output_type": "stream",
     "text": [
      "1/1 [==============================] - 0s 21ms/step\n"
     ]
    },
    {
     "name": "stderr",
     "output_type": "stream",
     "text": [
      "2025-06-17 09:08:57,153 - INFO - Processing image /data/4-YQVM_9ac33726c539459d10cd6f6c97a6c9c77b0eefd4545f9eb551fbe334a9b59ad7/Dataset_4-YQVM/data/asset/Image/Multimodal_1260_Multimodal_2658_Multimodal_11457_Right_Field_1.jpg : , trial 2, color channel green, resize function imgResize_secondary\n"
     ]
    },
    {
     "name": "stdout",
     "output_type": "stream",
     "text": [
      "1/1 [==============================] - 0s 20ms/step\n"
     ]
    },
    {
     "name": "stderr",
     "output_type": "stream",
     "text": [
      "2025-06-17 09:08:58,182 - INFO - Processing image /data/4-YQVM_9ac33726c539459d10cd6f6c97a6c9c77b0eefd4545f9eb551fbe334a9b59ad7/Dataset_4-YQVM/data/asset/Image/Multimodal_1260_Multimodal_2658_Multimodal_11457_Right_Field_1.jpg : , trial 3, color channel red, resize function imgResize_secondary\n"
     ]
    },
    {
     "name": "stdout",
     "output_type": "stream",
     "text": [
      "1/1 [==============================] - 0s 21ms/step\n"
     ]
    },
    {
     "name": "stderr",
     "output_type": "stream",
     "text": [
      "2025-06-17 09:08:59,203 - INFO - Processing image /data/4-YQVM_9ac33726c539459d10cd6f6c97a6c9c77b0eefd4545f9eb551fbe334a9b59ad7/Dataset_4-YQVM/data/asset/Image/Multimodal_1260_Multimodal_2658_Multimodal_11457_Right_Field_1.jpg : , trial 4, color channel blue, resize function imgResize_secondary\n"
     ]
    },
    {
     "name": "stdout",
     "output_type": "stream",
     "text": [
      "1/1 [==============================] - 0s 20ms/step\n"
     ]
    },
    {
     "name": "stderr",
     "output_type": "stream",
     "text": [
      "2025-06-17 09:09:00,043 - INFO - Processing image /data/4-YQVM_9ac33726c539459d10cd6f6c97a6c9c77b0eefd4545f9eb551fbe334a9b59ad7/Dataset_4-YQVM/data/asset/Image/Multimodal_1260_Multimodal_2658_Multimodal_11457_Right_Field_1.jpg : , trial 1, color channel grey, resize function imgResize_primary\n"
     ]
    },
    {
     "name": "stdout",
     "output_type": "stream",
     "text": [
      "1/1 [==============================] - 0s 21ms/step\n"
     ]
    },
    {
     "name": "stderr",
     "output_type": "stream",
     "text": [
      "2025-06-17 09:09:00,606 - INFO - Processing image /data/4-YQVM_9ac33726c539459d10cd6f6c97a6c9c77b0eefd4545f9eb551fbe334a9b59ad7/Dataset_4-YQVM/data/asset/Image/Multimodal_1260_Multimodal_2658_Multimodal_11457_Right_Field_1.jpg : , trial 2, color channel green, resize function imgResize_primary\n"
     ]
    },
    {
     "name": "stdout",
     "output_type": "stream",
     "text": [
      "1/1 [==============================] - 0s 20ms/step\n"
     ]
    },
    {
     "name": "stderr",
     "output_type": "stream",
     "text": [
      "2025-06-17 09:09:01,204 - INFO - Processing image /data/4-YQVM_9ac33726c539459d10cd6f6c97a6c9c77b0eefd4545f9eb551fbe334a9b59ad7/Dataset_4-YQVM/data/asset/Image/Multimodal_1260_Multimodal_2658_Multimodal_11457_Right_Field_1.jpg : , trial 3, color channel red, resize function imgResize_primary\n"
     ]
    },
    {
     "name": "stdout",
     "output_type": "stream",
     "text": [
      "1/1 [==============================] - 0s 20ms/step\n"
     ]
    },
    {
     "name": "stderr",
     "output_type": "stream",
     "text": [
      "2025-06-17 09:09:01,963 - INFO - Processing image /data/4-YQVM_9ac33726c539459d10cd6f6c97a6c9c77b0eefd4545f9eb551fbe334a9b59ad7/Dataset_4-YQVM/data/asset/Image/Multimodal_1260_Multimodal_2658_Multimodal_11457_Right_Field_1.jpg : , trial 4, color channel blue, resize function imgResize_primary\n"
     ]
    },
    {
     "name": "stdout",
     "output_type": "stream",
     "text": [
      "1/1 [==============================] - 0s 20ms/step\n"
     ]
    },
    {
     "name": "stderr",
     "output_type": "stream",
     "text": [
      "2025-06-17 09:09:02,568 - INFO - Processing image /data/4-YQVM_9ac33726c539459d10cd6f6c97a6c9c77b0eefd4545f9eb551fbe334a9b59ad7/Dataset_4-YQVM/data/asset/Image/Multimodal_1260_Multimodal_2658_Multimodal_11457_Right_Field_1.jpg : , trial 1, color channel grey, resize function imgResize_secondary\n"
     ]
    },
    {
     "name": "stdout",
     "output_type": "stream",
     "text": [
      "1/1 [==============================] - 0s 21ms/step\n"
     ]
    },
    {
     "name": "stderr",
     "output_type": "stream",
     "text": [
      "2025-06-17 09:09:03,467 - INFO - Processing image /data/4-YQVM_9ac33726c539459d10cd6f6c97a6c9c77b0eefd4545f9eb551fbe334a9b59ad7/Dataset_4-YQVM/data/asset/Image/Multimodal_1260_Multimodal_2658_Multimodal_11457_Right_Field_1.jpg : , trial 2, color channel green, resize function imgResize_secondary\n"
     ]
    },
    {
     "name": "stdout",
     "output_type": "stream",
     "text": [
      "1/1 [==============================] - 0s 20ms/step\n"
     ]
    },
    {
     "name": "stderr",
     "output_type": "stream",
     "text": [
      "2025-06-17 09:09:04,365 - INFO - Processing image /data/4-YQVM_9ac33726c539459d10cd6f6c97a6c9c77b0eefd4545f9eb551fbe334a9b59ad7/Dataset_4-YQVM/data/asset/Image/Multimodal_1260_Multimodal_2658_Multimodal_11457_Right_Field_1.jpg : , trial 3, color channel red, resize function imgResize_secondary\n"
     ]
    },
    {
     "name": "stdout",
     "output_type": "stream",
     "text": [
      "1/1 [==============================] - 0s 21ms/step\n"
     ]
    },
    {
     "name": "stderr",
     "output_type": "stream",
     "text": [
      "2025-06-17 09:09:05,470 - INFO - Processing image /data/4-YQVM_9ac33726c539459d10cd6f6c97a6c9c77b0eefd4545f9eb551fbe334a9b59ad7/Dataset_4-YQVM/data/asset/Image/Multimodal_1260_Multimodal_2658_Multimodal_11457_Right_Field_1.jpg : , trial 4, color channel blue, resize function imgResize_secondary\n"
     ]
    },
    {
     "name": "stdout",
     "output_type": "stream",
     "text": [
      "1/1 [==============================] - 0s 20ms/step\n"
     ]
    },
    {
     "name": "stderr",
     "output_type": "stream",
     "text": [
      "2025-06-17 09:09:06,228 - INFO - Processing image /data/4-YQVM_9ac33726c539459d10cd6f6c97a6c9c77b0eefd4545f9eb551fbe334a9b59ad7/Dataset_4-YQVM/data/asset/Image/Multimodal_1260_Multimodal_2658_Multimodal_11457_Right_Field_1.jpg : , trial 1, color channel grey, resize function imgResize_primary\n"
     ]
    },
    {
     "name": "stdout",
     "output_type": "stream",
     "text": [
      "1/1 [==============================] - 0s 20ms/step\n"
     ]
    },
    {
     "name": "stderr",
     "output_type": "stream",
     "text": [
      "2025-06-17 09:09:06,765 - INFO - Processing image /data/4-YQVM_9ac33726c539459d10cd6f6c97a6c9c77b0eefd4545f9eb551fbe334a9b59ad7/Dataset_4-YQVM/data/asset/Image/Multimodal_1260_Multimodal_2658_Multimodal_11457_Right_Field_1.jpg : , trial 2, color channel green, resize function imgResize_primary\n"
     ]
    },
    {
     "name": "stdout",
     "output_type": "stream",
     "text": [
      "1/1 [==============================] - 0s 20ms/step\n"
     ]
    },
    {
     "name": "stderr",
     "output_type": "stream",
     "text": [
      "2025-06-17 09:09:07,501 - INFO - Processing image /data/4-YQVM_9ac33726c539459d10cd6f6c97a6c9c77b0eefd4545f9eb551fbe334a9b59ad7/Dataset_4-YQVM/data/asset/Image/Multimodal_1260_Multimodal_2658_Multimodal_11457_Right_Field_1.jpg : , trial 3, color channel red, resize function imgResize_primary\n"
     ]
    },
    {
     "name": "stdout",
     "output_type": "stream",
     "text": [
      "1/1 [==============================] - 0s 20ms/step\n"
     ]
    },
    {
     "name": "stderr",
     "output_type": "stream",
     "text": [
      "2025-06-17 09:09:08,252 - INFO - Processing image /data/4-YQVM_9ac33726c539459d10cd6f6c97a6c9c77b0eefd4545f9eb551fbe334a9b59ad7/Dataset_4-YQVM/data/asset/Image/Multimodal_1260_Multimodal_2658_Multimodal_11457_Right_Field_1.jpg : , trial 4, color channel blue, resize function imgResize_primary\n"
     ]
    },
    {
     "name": "stdout",
     "output_type": "stream",
     "text": [
      "1/1 [==============================] - 0s 20ms/step\n"
     ]
    },
    {
     "name": "stderr",
     "output_type": "stream",
     "text": [
      "2025-06-17 09:09:08,876 - INFO - Processing image /data/4-YQVM_9ac33726c539459d10cd6f6c97a6c9c77b0eefd4545f9eb551fbe334a9b59ad7/Dataset_4-YQVM/data/asset/Image/Multimodal_1260_Multimodal_2658_Multimodal_11457_Right_Field_1.jpg : , trial 1, color channel grey, resize function imgResize_secondary\n"
     ]
    },
    {
     "name": "stdout",
     "output_type": "stream",
     "text": [
      "1/1 [==============================] - 0s 20ms/step\n"
     ]
    },
    {
     "name": "stderr",
     "output_type": "stream",
     "text": [
      "2025-06-17 09:09:09,716 - INFO - Processing image /data/4-YQVM_9ac33726c539459d10cd6f6c97a6c9c77b0eefd4545f9eb551fbe334a9b59ad7/Dataset_4-YQVM/data/asset/Image/Multimodal_1260_Multimodal_2658_Multimodal_11457_Right_Field_1.jpg : , trial 2, color channel green, resize function imgResize_secondary\n"
     ]
    },
    {
     "name": "stdout",
     "output_type": "stream",
     "text": [
      "1/1 [==============================] - 0s 20ms/step\n"
     ]
    },
    {
     "name": "stderr",
     "output_type": "stream",
     "text": [
      "2025-06-17 09:09:10,566 - INFO - Processing image /data/4-YQVM_9ac33726c539459d10cd6f6c97a6c9c77b0eefd4545f9eb551fbe334a9b59ad7/Dataset_4-YQVM/data/asset/Image/Multimodal_1260_Multimodal_2658_Multimodal_11457_Right_Field_1.jpg : , trial 3, color channel red, resize function imgResize_secondary\n"
     ]
    },
    {
     "name": "stdout",
     "output_type": "stream",
     "text": [
      "1/1 [==============================] - 0s 20ms/step\n"
     ]
    },
    {
     "name": "stderr",
     "output_type": "stream",
     "text": [
      "2025-06-17 09:09:11,671 - INFO - Processing image /data/4-YQVM_9ac33726c539459d10cd6f6c97a6c9c77b0eefd4545f9eb551fbe334a9b59ad7/Dataset_4-YQVM/data/asset/Image/Multimodal_1260_Multimodal_2658_Multimodal_11457_Right_Field_1.jpg : , trial 4, color channel blue, resize function imgResize_secondary\n"
     ]
    },
    {
     "name": "stdout",
     "output_type": "stream",
     "text": [
      "1/1 [==============================] - 0s 21ms/step\n"
     ]
    },
    {
     "name": "stderr",
     "output_type": "stream",
     "text": [
      "2025-06-17 09:09:12,704 - INFO - Processing image /data/4-YQVM_9ac33726c539459d10cd6f6c97a6c9c77b0eefd4545f9eb551fbe334a9b59ad7/Dataset_4-YQVM/data/asset/Image/Multimodal_1260_Multimodal_2658_Multimodal_11457_Right_Field_1.jpg : , trial 1, color channel grey, resize function imgResize_primary\n"
     ]
    },
    {
     "name": "stdout",
     "output_type": "stream",
     "text": [
      "1/1 [==============================] - 0s 20ms/step\n"
     ]
    },
    {
     "name": "stderr",
     "output_type": "stream",
     "text": [
      "2025-06-17 09:09:13,239 - INFO - Processing image /data/4-YQVM_9ac33726c539459d10cd6f6c97a6c9c77b0eefd4545f9eb551fbe334a9b59ad7/Dataset_4-YQVM/data/asset/Image/Multimodal_1260_Multimodal_2658_Multimodal_11457_Right_Field_1.jpg : , trial 2, color channel green, resize function imgResize_primary\n"
     ]
    },
    {
     "name": "stdout",
     "output_type": "stream",
     "text": [
      "1/1 [==============================] - 0s 20ms/step\n"
     ]
    },
    {
     "name": "stderr",
     "output_type": "stream",
     "text": [
      "2025-06-17 09:09:13,840 - INFO - Processing image /data/4-YQVM_9ac33726c539459d10cd6f6c97a6c9c77b0eefd4545f9eb551fbe334a9b59ad7/Dataset_4-YQVM/data/asset/Image/Multimodal_1260_Multimodal_2658_Multimodal_11457_Right_Field_1.jpg : , trial 3, color channel red, resize function imgResize_primary\n"
     ]
    },
    {
     "name": "stdout",
     "output_type": "stream",
     "text": [
      "1/1 [==============================] - 0s 21ms/step\n"
     ]
    },
    {
     "name": "stderr",
     "output_type": "stream",
     "text": [
      "2025-06-17 09:09:14,704 - INFO - Processing image /data/4-YQVM_9ac33726c539459d10cd6f6c97a6c9c77b0eefd4545f9eb551fbe334a9b59ad7/Dataset_4-YQVM/data/asset/Image/Multimodal_1260_Multimodal_2658_Multimodal_11457_Right_Field_1.jpg : , trial 4, color channel blue, resize function imgResize_primary\n"
     ]
    },
    {
     "name": "stdout",
     "output_type": "stream",
     "text": [
      "1/1 [==============================] - 0s 21ms/step\n"
     ]
    },
    {
     "name": "stderr",
     "output_type": "stream",
     "text": [
      "2025-06-17 09:09:15,231 - INFO - Processing image /data/4-YQVM_9ac33726c539459d10cd6f6c97a6c9c77b0eefd4545f9eb551fbe334a9b59ad7/Dataset_4-YQVM/data/asset/Image/Multimodal_1260_Multimodal_2658_Multimodal_11457_Right_Field_1.jpg : , trial 1, color channel grey, resize function imgResize_secondary\n"
     ]
    },
    {
     "name": "stdout",
     "output_type": "stream",
     "text": [
      "1/1 [==============================] - 0s 20ms/step\n"
     ]
    },
    {
     "name": "stderr",
     "output_type": "stream",
     "text": [
      "2025-06-17 09:09:16,048 - INFO - Processing image /data/4-YQVM_9ac33726c539459d10cd6f6c97a6c9c77b0eefd4545f9eb551fbe334a9b59ad7/Dataset_4-YQVM/data/asset/Image/Multimodal_1260_Multimodal_2658_Multimodal_11457_Right_Field_1.jpg : , trial 2, color channel green, resize function imgResize_secondary\n"
     ]
    },
    {
     "name": "stdout",
     "output_type": "stream",
     "text": [
      "1/1 [==============================] - 0s 20ms/step\n"
     ]
    },
    {
     "name": "stderr",
     "output_type": "stream",
     "text": [
      "2025-06-17 09:09:17,253 - INFO - Processing image /data/4-YQVM_9ac33726c539459d10cd6f6c97a6c9c77b0eefd4545f9eb551fbe334a9b59ad7/Dataset_4-YQVM/data/asset/Image/Multimodal_1260_Multimodal_2658_Multimodal_11457_Right_Field_1.jpg : , trial 3, color channel red, resize function imgResize_secondary\n"
     ]
    },
    {
     "name": "stdout",
     "output_type": "stream",
     "text": [
      "1/1 [==============================] - 0s 20ms/step\n"
     ]
    },
    {
     "name": "stderr",
     "output_type": "stream",
     "text": [
      "2025-06-17 09:09:18,418 - INFO - Processing image /data/4-YQVM_9ac33726c539459d10cd6f6c97a6c9c77b0eefd4545f9eb551fbe334a9b59ad7/Dataset_4-YQVM/data/asset/Image/Multimodal_1260_Multimodal_2658_Multimodal_11457_Right_Field_1.jpg : , trial 4, color channel blue, resize function imgResize_secondary\n"
     ]
    },
    {
     "name": "stdout",
     "output_type": "stream",
     "text": [
      "1/1 [==============================] - 0s 20ms/step\n"
     ]
    },
    {
     "name": "stderr",
     "output_type": "stream",
     "text": [
      "2025-06-17 09:09:19,198 - INFO - SVG for 4-YRSE saved.\n",
      "2025-06-17 09:09:19,257 - INFO - Processing image /data/4-YQVM_9ac33726c539459d10cd6f6c97a6c9c77b0eefd4545f9eb551fbe334a9b59ad7/Dataset_4-YQVM/data/asset/Image/Multimodal_1326_Multimodal_2772_Multimodal_11571_Right_Field_2.jpg : , trial 1, color channel grey, resize function imgResize_primary\n"
     ]
    },
    {
     "name": "stdout",
     "output_type": "stream",
     "text": [
      "1/1 [==============================] - 0s 20ms/step\n"
     ]
    },
    {
     "name": "stderr",
     "output_type": "stream",
     "text": [
      "2025-06-17 09:09:19,848 - INFO - Processing image /data/4-YQVM_9ac33726c539459d10cd6f6c97a6c9c77b0eefd4545f9eb551fbe334a9b59ad7/Dataset_4-YQVM/data/asset/Image/Multimodal_1326_Multimodal_2772_Multimodal_11571_Right_Field_2.jpg : , trial 2, color channel green, resize function imgResize_primary\n"
     ]
    },
    {
     "name": "stdout",
     "output_type": "stream",
     "text": [
      "1/1 [==============================] - 0s 20ms/step\n"
     ]
    },
    {
     "name": "stderr",
     "output_type": "stream",
     "text": [
      "2025-06-17 09:09:20,477 - INFO - Processing image /data/4-YQVM_9ac33726c539459d10cd6f6c97a6c9c77b0eefd4545f9eb551fbe334a9b59ad7/Dataset_4-YQVM/data/asset/Image/Multimodal_1326_Multimodal_2772_Multimodal_11571_Right_Field_2.jpg : , trial 3, color channel red, resize function imgResize_primary\n"
     ]
    },
    {
     "name": "stdout",
     "output_type": "stream",
     "text": [
      "1/1 [==============================] - 0s 21ms/step\n"
     ]
    },
    {
     "name": "stderr",
     "output_type": "stream",
     "text": [
      "2025-06-17 09:09:21,222 - INFO - SVG for 4-YRSG saved.\n",
      "2025-06-17 09:09:21,291 - INFO - Processing image /data/4-YQVM_9ac33726c539459d10cd6f6c97a6c9c77b0eefd4545f9eb551fbe334a9b59ad7/Dataset_4-YQVM/data/asset/Image/Multimodal_1321_Multimodal_2762_Multimodal_11562_Left_Field_2.jpg : , trial 1, color channel grey, resize function imgResize_primary\n"
     ]
    },
    {
     "name": "stdout",
     "output_type": "stream",
     "text": [
      "1/1 [==============================] - 0s 20ms/step\n"
     ]
    },
    {
     "name": "stderr",
     "output_type": "stream",
     "text": [
      "2025-06-17 09:09:21,920 - INFO - Processing image /data/4-YQVM_9ac33726c539459d10cd6f6c97a6c9c77b0eefd4545f9eb551fbe334a9b59ad7/Dataset_4-YQVM/data/asset/Image/Multimodal_1321_Multimodal_2762_Multimodal_11562_Left_Field_2.jpg : , trial 2, color channel green, resize function imgResize_primary\n"
     ]
    },
    {
     "name": "stdout",
     "output_type": "stream",
     "text": [
      "1/1 [==============================] - 0s 20ms/step\n"
     ]
    },
    {
     "name": "stderr",
     "output_type": "stream",
     "text": [
      "2025-06-17 09:09:22,674 - INFO - Processing image /data/4-YQVM_9ac33726c539459d10cd6f6c97a6c9c77b0eefd4545f9eb551fbe334a9b59ad7/Dataset_4-YQVM/data/asset/Image/Multimodal_1321_Multimodal_2762_Multimodal_11562_Left_Field_2.jpg : , trial 3, color channel red, resize function imgResize_primary\n"
     ]
    },
    {
     "name": "stdout",
     "output_type": "stream",
     "text": [
      "1/1 [==============================] - 0s 20ms/step\n"
     ]
    },
    {
     "name": "stderr",
     "output_type": "stream",
     "text": [
      "2025-06-17 09:09:23,345 - INFO - SVG for 4-YRSJ saved.\n",
      "2025-06-17 09:09:23,423 - INFO - Processing image /data/4-YQVM_9ac33726c539459d10cd6f6c97a6c9c77b0eefd4545f9eb551fbe334a9b59ad7/Dataset_4-YQVM/data/asset/Image/Multimodal_1206_Multimodal_2559_Multimodal_11358_Right_Field_2.jpg : , trial 1, color channel grey, resize function imgResize_primary\n"
     ]
    },
    {
     "name": "stdout",
     "output_type": "stream",
     "text": [
      "1/1 [==============================] - 0s 21ms/step\n"
     ]
    },
    {
     "name": "stderr",
     "output_type": "stream",
     "text": [
      "2025-06-17 09:09:24,288 - INFO - Processing image /data/4-YQVM_9ac33726c539459d10cd6f6c97a6c9c77b0eefd4545f9eb551fbe334a9b59ad7/Dataset_4-YQVM/data/asset/Image/Multimodal_1206_Multimodal_2559_Multimodal_11358_Right_Field_2.jpg : , trial 2, color channel green, resize function imgResize_primary\n"
     ]
    },
    {
     "name": "stdout",
     "output_type": "stream",
     "text": [
      "1/1 [==============================] - 0s 20ms/step\n"
     ]
    },
    {
     "name": "stderr",
     "output_type": "stream",
     "text": [
      "2025-06-17 09:09:25,060 - INFO - Processing image /data/4-YQVM_9ac33726c539459d10cd6f6c97a6c9c77b0eefd4545f9eb551fbe334a9b59ad7/Dataset_4-YQVM/data/asset/Image/Multimodal_1206_Multimodal_2559_Multimodal_11358_Right_Field_2.jpg : , trial 3, color channel red, resize function imgResize_primary\n"
     ]
    },
    {
     "name": "stdout",
     "output_type": "stream",
     "text": [
      "1/1 [==============================] - 0s 21ms/step\n"
     ]
    },
    {
     "name": "stderr",
     "output_type": "stream",
     "text": [
      "2025-06-17 09:09:26,068 - INFO - Processing image /data/4-YQVM_9ac33726c539459d10cd6f6c97a6c9c77b0eefd4545f9eb551fbe334a9b59ad7/Dataset_4-YQVM/data/asset/Image/Multimodal_1206_Multimodal_2559_Multimodal_11358_Right_Field_2.jpg : , trial 4, color channel blue, resize function imgResize_primary\n"
     ]
    },
    {
     "name": "stdout",
     "output_type": "stream",
     "text": [
      "1/1 [==============================] - 0s 21ms/step\n"
     ]
    },
    {
     "name": "stderr",
     "output_type": "stream",
     "text": [
      "2025-06-17 09:09:27,147 - INFO - Processing image /data/4-YQVM_9ac33726c539459d10cd6f6c97a6c9c77b0eefd4545f9eb551fbe334a9b59ad7/Dataset_4-YQVM/data/asset/Image/Multimodal_1206_Multimodal_2559_Multimodal_11358_Right_Field_2.jpg : , trial 1, color channel grey, resize function imgResize_secondary\n"
     ]
    },
    {
     "name": "stdout",
     "output_type": "stream",
     "text": [
      "1/1 [==============================] - 0s 20ms/step\n"
     ]
    },
    {
     "name": "stderr",
     "output_type": "stream",
     "text": [
      "2025-06-17 09:09:28,397 - INFO - SVG for 4-YRSM saved.\n",
      "2025-06-17 09:09:28,456 - INFO - Processing image /data/4-YQVM_9ac33726c539459d10cd6f6c97a6c9c77b0eefd4545f9eb551fbe334a9b59ad7/Dataset_4-YQVM/data/asset/Image/Multimodal_1232_Multimodal_2606_Multimodal_11405_Right_Field_2.jpg : , trial 1, color channel grey, resize function imgResize_primary\n"
     ]
    },
    {
     "name": "stdout",
     "output_type": "stream",
     "text": [
      "1/1 [==============================] - 0s 20ms/step\n"
     ]
    },
    {
     "name": "stderr",
     "output_type": "stream",
     "text": [
      "2025-06-17 09:09:29,204 - INFO - SVG for 4-YRSP saved.\n",
      "2025-06-17 09:09:29,264 - INFO - Processing image /data/4-YQVM_9ac33726c539459d10cd6f6c97a6c9c77b0eefd4545f9eb551fbe334a9b59ad7/Dataset_4-YQVM/data/asset/Image/Multimodal_1306_Multimodal_2736_Multimodal_11535_Right_Field_2.jpg : , trial 1, color channel grey, resize function imgResize_primary\n"
     ]
    },
    {
     "name": "stdout",
     "output_type": "stream",
     "text": [
      "1/1 [==============================] - 0s 20ms/step\n"
     ]
    },
    {
     "name": "stderr",
     "output_type": "stream",
     "text": [
      "2025-06-17 09:09:29,955 - INFO - SVG for 4-YRSR saved.\n",
      "2025-06-17 09:09:30,016 - INFO - Processing image /data/4-YQVM_9ac33726c539459d10cd6f6c97a6c9c77b0eefd4545f9eb551fbe334a9b59ad7/Dataset_4-YQVM/data/asset/Image/Multimodal_1206_Multimodal_2559_Multimodal_11359_Left_Field_2.jpg : , trial 1, color channel grey, resize function imgResize_primary\n"
     ]
    },
    {
     "name": "stdout",
     "output_type": "stream",
     "text": [
      "1/1 [==============================] - 0s 20ms/step\n"
     ]
    },
    {
     "name": "stderr",
     "output_type": "stream",
     "text": [
      "2025-06-17 09:09:30,611 - INFO - Processing image /data/4-YQVM_9ac33726c539459d10cd6f6c97a6c9c77b0eefd4545f9eb551fbe334a9b59ad7/Dataset_4-YQVM/data/asset/Image/Multimodal_1206_Multimodal_2559_Multimodal_11359_Left_Field_2.jpg : , trial 2, color channel green, resize function imgResize_primary\n"
     ]
    },
    {
     "name": "stdout",
     "output_type": "stream",
     "text": [
      "1/1 [==============================] - 0s 20ms/step\n"
     ]
    },
    {
     "name": "stderr",
     "output_type": "stream",
     "text": [
      "2025-06-17 09:09:31,401 - INFO - Processing image /data/4-YQVM_9ac33726c539459d10cd6f6c97a6c9c77b0eefd4545f9eb551fbe334a9b59ad7/Dataset_4-YQVM/data/asset/Image/Multimodal_1206_Multimodal_2559_Multimodal_11359_Left_Field_2.jpg : , trial 3, color channel red, resize function imgResize_primary\n"
     ]
    },
    {
     "name": "stdout",
     "output_type": "stream",
     "text": [
      "1/1 [==============================] - 0s 20ms/step\n"
     ]
    },
    {
     "name": "stderr",
     "output_type": "stream",
     "text": [
      "2025-06-17 09:09:32,013 - INFO - SVG for 4-YRST saved.\n",
      "2025-06-17 09:09:32,070 - INFO - Processing image /data/4-YQVM_9ac33726c539459d10cd6f6c97a6c9c77b0eefd4545f9eb551fbe334a9b59ad7/Dataset_4-YQVM/data/asset/Image/Multimodal_1320_Multimodal_2760_Multimodal_11560_Left_Field_2.jpg : , trial 1, color channel grey, resize function imgResize_primary\n"
     ]
    },
    {
     "name": "stdout",
     "output_type": "stream",
     "text": [
      "1/1 [==============================] - 0s 21ms/step\n"
     ]
    },
    {
     "name": "stderr",
     "output_type": "stream",
     "text": [
      "2025-06-17 09:09:32,605 - INFO - Processing image /data/4-YQVM_9ac33726c539459d10cd6f6c97a6c9c77b0eefd4545f9eb551fbe334a9b59ad7/Dataset_4-YQVM/data/asset/Image/Multimodal_1320_Multimodal_2760_Multimodal_11560_Left_Field_2.jpg : , trial 2, color channel green, resize function imgResize_primary\n"
     ]
    },
    {
     "name": "stdout",
     "output_type": "stream",
     "text": [
      "1/1 [==============================] - 0s 20ms/step\n"
     ]
    },
    {
     "name": "stderr",
     "output_type": "stream",
     "text": [
      "2025-06-17 09:09:33,167 - INFO - SVG for 4-YRSW saved.\n",
      "2025-06-17 09:09:33,226 - INFO - Processing image /data/4-YQVM_9ac33726c539459d10cd6f6c97a6c9c77b0eefd4545f9eb551fbe334a9b59ad7/Dataset_4-YQVM/data/asset/Image/Multimodal_1252_Multimodal_2643_Multimodal_11443_Left_Field_1.jpg : , trial 1, color channel grey, resize function imgResize_primary\n"
     ]
    },
    {
     "name": "stdout",
     "output_type": "stream",
     "text": [
      "1/1 [==============================] - 0s 20ms/step\n"
     ]
    },
    {
     "name": "stderr",
     "output_type": "stream",
     "text": [
      "2025-06-17 09:09:33,757 - INFO - Processing image /data/4-YQVM_9ac33726c539459d10cd6f6c97a6c9c77b0eefd4545f9eb551fbe334a9b59ad7/Dataset_4-YQVM/data/asset/Image/Multimodal_1252_Multimodal_2643_Multimodal_11443_Left_Field_1.jpg : , trial 2, color channel green, resize function imgResize_primary\n"
     ]
    },
    {
     "name": "stdout",
     "output_type": "stream",
     "text": [
      "1/1 [==============================] - 0s 20ms/step\n"
     ]
    },
    {
     "name": "stderr",
     "output_type": "stream",
     "text": [
      "2025-06-17 09:09:34,329 - INFO - Processing image /data/4-YQVM_9ac33726c539459d10cd6f6c97a6c9c77b0eefd4545f9eb551fbe334a9b59ad7/Dataset_4-YQVM/data/asset/Image/Multimodal_1252_Multimodal_2643_Multimodal_11443_Left_Field_1.jpg : , trial 3, color channel red, resize function imgResize_primary\n"
     ]
    },
    {
     "name": "stdout",
     "output_type": "stream",
     "text": [
      "1/1 [==============================] - 0s 20ms/step\n"
     ]
    },
    {
     "name": "stderr",
     "output_type": "stream",
     "text": [
      "2025-06-17 09:09:34,994 - INFO - Processing image /data/4-YQVM_9ac33726c539459d10cd6f6c97a6c9c77b0eefd4545f9eb551fbe334a9b59ad7/Dataset_4-YQVM/data/asset/Image/Multimodal_1252_Multimodal_2643_Multimodal_11443_Left_Field_1.jpg : , trial 4, color channel blue, resize function imgResize_primary\n"
     ]
    },
    {
     "name": "stdout",
     "output_type": "stream",
     "text": [
      "1/1 [==============================] - 0s 20ms/step\n"
     ]
    },
    {
     "name": "stderr",
     "output_type": "stream",
     "text": [
      "2025-06-17 09:09:35,507 - INFO - Processing image /data/4-YQVM_9ac33726c539459d10cd6f6c97a6c9c77b0eefd4545f9eb551fbe334a9b59ad7/Dataset_4-YQVM/data/asset/Image/Multimodal_1252_Multimodal_2643_Multimodal_11443_Left_Field_1.jpg : , trial 1, color channel grey, resize function imgResize_secondary\n"
     ]
    },
    {
     "name": "stdout",
     "output_type": "stream",
     "text": [
      "1/1 [==============================] - 0s 20ms/step\n"
     ]
    },
    {
     "name": "stderr",
     "output_type": "stream",
     "text": [
      "2025-06-17 09:09:36,439 - INFO - Processing image /data/4-YQVM_9ac33726c539459d10cd6f6c97a6c9c77b0eefd4545f9eb551fbe334a9b59ad7/Dataset_4-YQVM/data/asset/Image/Multimodal_1252_Multimodal_2643_Multimodal_11443_Left_Field_1.jpg : , trial 2, color channel green, resize function imgResize_secondary\n"
     ]
    },
    {
     "name": "stdout",
     "output_type": "stream",
     "text": [
      "1/1 [==============================] - 0s 20ms/step\n"
     ]
    },
    {
     "name": "stderr",
     "output_type": "stream",
     "text": [
      "2025-06-17 09:09:37,043 - INFO - Processing image /data/4-YQVM_9ac33726c539459d10cd6f6c97a6c9c77b0eefd4545f9eb551fbe334a9b59ad7/Dataset_4-YQVM/data/asset/Image/Multimodal_1252_Multimodal_2643_Multimodal_11443_Left_Field_1.jpg : , trial 3, color channel red, resize function imgResize_secondary\n"
     ]
    },
    {
     "name": "stdout",
     "output_type": "stream",
     "text": [
      "1/1 [==============================] - 0s 20ms/step\n"
     ]
    },
    {
     "name": "stderr",
     "output_type": "stream",
     "text": [
      "2025-06-17 09:09:38,012 - INFO - Processing image /data/4-YQVM_9ac33726c539459d10cd6f6c97a6c9c77b0eefd4545f9eb551fbe334a9b59ad7/Dataset_4-YQVM/data/asset/Image/Multimodal_1252_Multimodal_2643_Multimodal_11443_Left_Field_1.jpg : , trial 4, color channel blue, resize function imgResize_secondary\n"
     ]
    },
    {
     "name": "stdout",
     "output_type": "stream",
     "text": [
      "1/1 [==============================] - 0s 21ms/step\n"
     ]
    },
    {
     "name": "stderr",
     "output_type": "stream",
     "text": [
      "2025-06-17 09:09:38,824 - INFO - Processing image /data/4-YQVM_9ac33726c539459d10cd6f6c97a6c9c77b0eefd4545f9eb551fbe334a9b59ad7/Dataset_4-YQVM/data/asset/Image/Multimodal_1252_Multimodal_2643_Multimodal_11443_Left_Field_1.jpg : , trial 1, color channel grey, resize function imgResize_primary\n"
     ]
    },
    {
     "name": "stdout",
     "output_type": "stream",
     "text": [
      "1/1 [==============================] - 0s 20ms/step\n"
     ]
    },
    {
     "name": "stderr",
     "output_type": "stream",
     "text": [
      "2025-06-17 09:09:39,530 - INFO - Processing image /data/4-YQVM_9ac33726c539459d10cd6f6c97a6c9c77b0eefd4545f9eb551fbe334a9b59ad7/Dataset_4-YQVM/data/asset/Image/Multimodal_1252_Multimodal_2643_Multimodal_11443_Left_Field_1.jpg : , trial 2, color channel green, resize function imgResize_primary\n"
     ]
    },
    {
     "name": "stdout",
     "output_type": "stream",
     "text": [
      "1/1 [==============================] - 0s 20ms/step\n"
     ]
    },
    {
     "name": "stderr",
     "output_type": "stream",
     "text": [
      "2025-06-17 09:09:40,109 - INFO - Processing image /data/4-YQVM_9ac33726c539459d10cd6f6c97a6c9c77b0eefd4545f9eb551fbe334a9b59ad7/Dataset_4-YQVM/data/asset/Image/Multimodal_1252_Multimodal_2643_Multimodal_11443_Left_Field_1.jpg : , trial 3, color channel red, resize function imgResize_primary\n"
     ]
    },
    {
     "name": "stdout",
     "output_type": "stream",
     "text": [
      "1/1 [==============================] - 0s 21ms/step\n"
     ]
    },
    {
     "name": "stderr",
     "output_type": "stream",
     "text": [
      "2025-06-17 09:09:40,655 - INFO - Processing image /data/4-YQVM_9ac33726c539459d10cd6f6c97a6c9c77b0eefd4545f9eb551fbe334a9b59ad7/Dataset_4-YQVM/data/asset/Image/Multimodal_1252_Multimodal_2643_Multimodal_11443_Left_Field_1.jpg : , trial 4, color channel blue, resize function imgResize_primary\n"
     ]
    },
    {
     "name": "stdout",
     "output_type": "stream",
     "text": [
      "1/1 [==============================] - 0s 20ms/step\n"
     ]
    },
    {
     "name": "stderr",
     "output_type": "stream",
     "text": [
      "2025-06-17 09:09:41,303 - INFO - Processing image /data/4-YQVM_9ac33726c539459d10cd6f6c97a6c9c77b0eefd4545f9eb551fbe334a9b59ad7/Dataset_4-YQVM/data/asset/Image/Multimodal_1252_Multimodal_2643_Multimodal_11443_Left_Field_1.jpg : , trial 1, color channel grey, resize function imgResize_secondary\n"
     ]
    },
    {
     "name": "stdout",
     "output_type": "stream",
     "text": [
      "1/1 [==============================] - 0s 20ms/step\n"
     ]
    },
    {
     "name": "stderr",
     "output_type": "stream",
     "text": [
      "2025-06-17 09:09:42,157 - INFO - Processing image /data/4-YQVM_9ac33726c539459d10cd6f6c97a6c9c77b0eefd4545f9eb551fbe334a9b59ad7/Dataset_4-YQVM/data/asset/Image/Multimodal_1252_Multimodal_2643_Multimodal_11443_Left_Field_1.jpg : , trial 2, color channel green, resize function imgResize_secondary\n"
     ]
    },
    {
     "name": "stdout",
     "output_type": "stream",
     "text": [
      "1/1 [==============================] - 0s 20ms/step\n"
     ]
    },
    {
     "name": "stderr",
     "output_type": "stream",
     "text": [
      "2025-06-17 09:09:42,843 - INFO - Processing image /data/4-YQVM_9ac33726c539459d10cd6f6c97a6c9c77b0eefd4545f9eb551fbe334a9b59ad7/Dataset_4-YQVM/data/asset/Image/Multimodal_1252_Multimodal_2643_Multimodal_11443_Left_Field_1.jpg : , trial 3, color channel red, resize function imgResize_secondary\n"
     ]
    },
    {
     "name": "stdout",
     "output_type": "stream",
     "text": [
      "1/1 [==============================] - 0s 20ms/step\n"
     ]
    },
    {
     "name": "stderr",
     "output_type": "stream",
     "text": [
      "2025-06-17 09:09:43,587 - INFO - Processing image /data/4-YQVM_9ac33726c539459d10cd6f6c97a6c9c77b0eefd4545f9eb551fbe334a9b59ad7/Dataset_4-YQVM/data/asset/Image/Multimodal_1252_Multimodal_2643_Multimodal_11443_Left_Field_1.jpg : , trial 4, color channel blue, resize function imgResize_secondary\n"
     ]
    },
    {
     "name": "stdout",
     "output_type": "stream",
     "text": [
      "1/1 [==============================] - 0s 20ms/step\n"
     ]
    },
    {
     "name": "stderr",
     "output_type": "stream",
     "text": [
      "2025-06-17 09:09:44,460 - INFO - Processing image /data/4-YQVM_9ac33726c539459d10cd6f6c97a6c9c77b0eefd4545f9eb551fbe334a9b59ad7/Dataset_4-YQVM/data/asset/Image/Multimodal_1252_Multimodal_2643_Multimodal_11443_Left_Field_1.jpg : , trial 1, color channel grey, resize function imgResize_primary\n"
     ]
    },
    {
     "name": "stdout",
     "output_type": "stream",
     "text": [
      "1/1 [==============================] - 0s 20ms/step\n"
     ]
    },
    {
     "name": "stderr",
     "output_type": "stream",
     "text": [
      "2025-06-17 09:09:45,059 - INFO - Processing image /data/4-YQVM_9ac33726c539459d10cd6f6c97a6c9c77b0eefd4545f9eb551fbe334a9b59ad7/Dataset_4-YQVM/data/asset/Image/Multimodal_1252_Multimodal_2643_Multimodal_11443_Left_Field_1.jpg : , trial 2, color channel green, resize function imgResize_primary\n"
     ]
    },
    {
     "name": "stdout",
     "output_type": "stream",
     "text": [
      "1/1 [==============================] - 0s 20ms/step\n"
     ]
    },
    {
     "name": "stderr",
     "output_type": "stream",
     "text": [
      "2025-06-17 09:09:45,653 - INFO - Processing image /data/4-YQVM_9ac33726c539459d10cd6f6c97a6c9c77b0eefd4545f9eb551fbe334a9b59ad7/Dataset_4-YQVM/data/asset/Image/Multimodal_1252_Multimodal_2643_Multimodal_11443_Left_Field_1.jpg : , trial 3, color channel red, resize function imgResize_primary\n"
     ]
    },
    {
     "name": "stdout",
     "output_type": "stream",
     "text": [
      "1/1 [==============================] - 0s 21ms/step\n"
     ]
    },
    {
     "name": "stderr",
     "output_type": "stream",
     "text": [
      "2025-06-17 09:09:46,298 - INFO - Processing image /data/4-YQVM_9ac33726c539459d10cd6f6c97a6c9c77b0eefd4545f9eb551fbe334a9b59ad7/Dataset_4-YQVM/data/asset/Image/Multimodal_1252_Multimodal_2643_Multimodal_11443_Left_Field_1.jpg : , trial 4, color channel blue, resize function imgResize_primary\n"
     ]
    },
    {
     "name": "stdout",
     "output_type": "stream",
     "text": [
      "1/1 [==============================] - 0s 20ms/step\n"
     ]
    },
    {
     "name": "stderr",
     "output_type": "stream",
     "text": [
      "2025-06-17 09:09:46,885 - INFO - Processing image /data/4-YQVM_9ac33726c539459d10cd6f6c97a6c9c77b0eefd4545f9eb551fbe334a9b59ad7/Dataset_4-YQVM/data/asset/Image/Multimodal_1252_Multimodal_2643_Multimodal_11443_Left_Field_1.jpg : , trial 1, color channel grey, resize function imgResize_secondary\n"
     ]
    },
    {
     "name": "stdout",
     "output_type": "stream",
     "text": [
      "1/1 [==============================] - 0s 21ms/step\n"
     ]
    },
    {
     "name": "stderr",
     "output_type": "stream",
     "text": [
      "2025-06-17 09:09:47,928 - INFO - Processing image /data/4-YQVM_9ac33726c539459d10cd6f6c97a6c9c77b0eefd4545f9eb551fbe334a9b59ad7/Dataset_4-YQVM/data/asset/Image/Multimodal_1252_Multimodal_2643_Multimodal_11443_Left_Field_1.jpg : , trial 2, color channel green, resize function imgResize_secondary\n"
     ]
    },
    {
     "name": "stdout",
     "output_type": "stream",
     "text": [
      "1/1 [==============================] - 0s 20ms/step\n"
     ]
    },
    {
     "name": "stderr",
     "output_type": "stream",
     "text": [
      "2025-06-17 09:09:48,686 - INFO - Processing image /data/4-YQVM_9ac33726c539459d10cd6f6c97a6c9c77b0eefd4545f9eb551fbe334a9b59ad7/Dataset_4-YQVM/data/asset/Image/Multimodal_1252_Multimodal_2643_Multimodal_11443_Left_Field_1.jpg : , trial 3, color channel red, resize function imgResize_secondary\n"
     ]
    },
    {
     "name": "stdout",
     "output_type": "stream",
     "text": [
      "1/1 [==============================] - 0s 20ms/step\n"
     ]
    },
    {
     "name": "stderr",
     "output_type": "stream",
     "text": [
      "2025-06-17 09:09:49,761 - INFO - Processing image /data/4-YQVM_9ac33726c539459d10cd6f6c97a6c9c77b0eefd4545f9eb551fbe334a9b59ad7/Dataset_4-YQVM/data/asset/Image/Multimodal_1252_Multimodal_2643_Multimodal_11443_Left_Field_1.jpg : , trial 4, color channel blue, resize function imgResize_secondary\n"
     ]
    },
    {
     "name": "stdout",
     "output_type": "stream",
     "text": [
      "1/1 [==============================] - 0s 21ms/step\n"
     ]
    },
    {
     "name": "stderr",
     "output_type": "stream",
     "text": [
      "2025-06-17 09:09:50,432 - INFO - Processing image /data/4-YQVM_9ac33726c539459d10cd6f6c97a6c9c77b0eefd4545f9eb551fbe334a9b59ad7/Dataset_4-YQVM/data/asset/Image/Multimodal_1252_Multimodal_2643_Multimodal_11443_Left_Field_1.jpg : , trial 1, color channel grey, resize function imgResize_primary\n"
     ]
    },
    {
     "name": "stdout",
     "output_type": "stream",
     "text": [
      "1/1 [==============================] - 0s 20ms/step\n"
     ]
    },
    {
     "name": "stderr",
     "output_type": "stream",
     "text": [
      "2025-06-17 09:09:50,983 - INFO - Processing image /data/4-YQVM_9ac33726c539459d10cd6f6c97a6c9c77b0eefd4545f9eb551fbe334a9b59ad7/Dataset_4-YQVM/data/asset/Image/Multimodal_1252_Multimodal_2643_Multimodal_11443_Left_Field_1.jpg : , trial 2, color channel green, resize function imgResize_primary\n"
     ]
    },
    {
     "name": "stdout",
     "output_type": "stream",
     "text": [
      "1/1 [==============================] - 0s 20ms/step\n"
     ]
    },
    {
     "name": "stderr",
     "output_type": "stream",
     "text": [
      "2025-06-17 09:09:51,483 - INFO - Processing image /data/4-YQVM_9ac33726c539459d10cd6f6c97a6c9c77b0eefd4545f9eb551fbe334a9b59ad7/Dataset_4-YQVM/data/asset/Image/Multimodal_1252_Multimodal_2643_Multimodal_11443_Left_Field_1.jpg : , trial 3, color channel red, resize function imgResize_primary\n"
     ]
    },
    {
     "name": "stdout",
     "output_type": "stream",
     "text": [
      "1/1 [==============================] - 0s 20ms/step\n"
     ]
    },
    {
     "name": "stderr",
     "output_type": "stream",
     "text": [
      "2025-06-17 09:09:52,087 - INFO - Processing image /data/4-YQVM_9ac33726c539459d10cd6f6c97a6c9c77b0eefd4545f9eb551fbe334a9b59ad7/Dataset_4-YQVM/data/asset/Image/Multimodal_1252_Multimodal_2643_Multimodal_11443_Left_Field_1.jpg : , trial 4, color channel blue, resize function imgResize_primary\n"
     ]
    },
    {
     "name": "stdout",
     "output_type": "stream",
     "text": [
      "1/1 [==============================] - 0s 22ms/step\n"
     ]
    },
    {
     "name": "stderr",
     "output_type": "stream",
     "text": [
      "2025-06-17 09:09:52,584 - INFO - Processing image /data/4-YQVM_9ac33726c539459d10cd6f6c97a6c9c77b0eefd4545f9eb551fbe334a9b59ad7/Dataset_4-YQVM/data/asset/Image/Multimodal_1252_Multimodal_2643_Multimodal_11443_Left_Field_1.jpg : , trial 1, color channel grey, resize function imgResize_secondary\n"
     ]
    },
    {
     "name": "stdout",
     "output_type": "stream",
     "text": [
      "1/1 [==============================] - 0s 20ms/step\n"
     ]
    },
    {
     "name": "stderr",
     "output_type": "stream",
     "text": [
      "2025-06-17 09:09:53,460 - INFO - Processing image /data/4-YQVM_9ac33726c539459d10cd6f6c97a6c9c77b0eefd4545f9eb551fbe334a9b59ad7/Dataset_4-YQVM/data/asset/Image/Multimodal_1252_Multimodal_2643_Multimodal_11443_Left_Field_1.jpg : , trial 2, color channel green, resize function imgResize_secondary\n"
     ]
    },
    {
     "name": "stdout",
     "output_type": "stream",
     "text": [
      "1/1 [==============================] - 0s 20ms/step\n"
     ]
    },
    {
     "name": "stderr",
     "output_type": "stream",
     "text": [
      "2025-06-17 09:09:54,219 - INFO - Processing image /data/4-YQVM_9ac33726c539459d10cd6f6c97a6c9c77b0eefd4545f9eb551fbe334a9b59ad7/Dataset_4-YQVM/data/asset/Image/Multimodal_1252_Multimodal_2643_Multimodal_11443_Left_Field_1.jpg : , trial 3, color channel red, resize function imgResize_secondary\n"
     ]
    },
    {
     "name": "stdout",
     "output_type": "stream",
     "text": [
      "1/1 [==============================] - 0s 20ms/step\n"
     ]
    },
    {
     "name": "stderr",
     "output_type": "stream",
     "text": [
      "2025-06-17 09:09:55,149 - INFO - Processing image /data/4-YQVM_9ac33726c539459d10cd6f6c97a6c9c77b0eefd4545f9eb551fbe334a9b59ad7/Dataset_4-YQVM/data/asset/Image/Multimodal_1252_Multimodal_2643_Multimodal_11443_Left_Field_1.jpg : , trial 4, color channel blue, resize function imgResize_secondary\n"
     ]
    },
    {
     "name": "stdout",
     "output_type": "stream",
     "text": [
      "1/1 [==============================] - 0s 20ms/step\n"
     ]
    },
    {
     "name": "stderr",
     "output_type": "stream",
     "text": [
      "2025-06-17 09:09:55,958 - INFO - Processing image /data/4-YQVM_9ac33726c539459d10cd6f6c97a6c9c77b0eefd4545f9eb551fbe334a9b59ad7/Dataset_4-YQVM/data/asset/Image/Multimodal_1252_Multimodal_2643_Multimodal_11443_Left_Field_1.jpg : , trial 1, color channel grey, resize function imgResize_primary\n"
     ]
    },
    {
     "name": "stdout",
     "output_type": "stream",
     "text": [
      "1/1 [==============================] - 0s 20ms/step\n"
     ]
    },
    {
     "name": "stderr",
     "output_type": "stream",
     "text": [
      "2025-06-17 09:09:56,607 - INFO - Processing image /data/4-YQVM_9ac33726c539459d10cd6f6c97a6c9c77b0eefd4545f9eb551fbe334a9b59ad7/Dataset_4-YQVM/data/asset/Image/Multimodal_1252_Multimodal_2643_Multimodal_11443_Left_Field_1.jpg : , trial 2, color channel green, resize function imgResize_primary\n"
     ]
    },
    {
     "name": "stdout",
     "output_type": "stream",
     "text": [
      "1/1 [==============================] - 0s 20ms/step\n"
     ]
    },
    {
     "name": "stderr",
     "output_type": "stream",
     "text": [
      "2025-06-17 09:09:57,180 - INFO - Processing image /data/4-YQVM_9ac33726c539459d10cd6f6c97a6c9c77b0eefd4545f9eb551fbe334a9b59ad7/Dataset_4-YQVM/data/asset/Image/Multimodal_1252_Multimodal_2643_Multimodal_11443_Left_Field_1.jpg : , trial 3, color channel red, resize function imgResize_primary\n"
     ]
    },
    {
     "name": "stdout",
     "output_type": "stream",
     "text": [
      "1/1 [==============================] - 0s 20ms/step\n"
     ]
    },
    {
     "name": "stderr",
     "output_type": "stream",
     "text": [
      "2025-06-17 09:09:57,794 - INFO - Processing image /data/4-YQVM_9ac33726c539459d10cd6f6c97a6c9c77b0eefd4545f9eb551fbe334a9b59ad7/Dataset_4-YQVM/data/asset/Image/Multimodal_1252_Multimodal_2643_Multimodal_11443_Left_Field_1.jpg : , trial 4, color channel blue, resize function imgResize_primary\n"
     ]
    },
    {
     "name": "stdout",
     "output_type": "stream",
     "text": [
      "1/1 [==============================] - 0s 21ms/step\n"
     ]
    },
    {
     "name": "stderr",
     "output_type": "stream",
     "text": [
      "2025-06-17 09:09:58,429 - INFO - Processing image /data/4-YQVM_9ac33726c539459d10cd6f6c97a6c9c77b0eefd4545f9eb551fbe334a9b59ad7/Dataset_4-YQVM/data/asset/Image/Multimodal_1252_Multimodal_2643_Multimodal_11443_Left_Field_1.jpg : , trial 1, color channel grey, resize function imgResize_secondary\n"
     ]
    },
    {
     "name": "stdout",
     "output_type": "stream",
     "text": [
      "1/1 [==============================] - 0s 20ms/step\n"
     ]
    },
    {
     "name": "stderr",
     "output_type": "stream",
     "text": [
      "2025-06-17 09:09:59,250 - INFO - Processing image /data/4-YQVM_9ac33726c539459d10cd6f6c97a6c9c77b0eefd4545f9eb551fbe334a9b59ad7/Dataset_4-YQVM/data/asset/Image/Multimodal_1252_Multimodal_2643_Multimodal_11443_Left_Field_1.jpg : , trial 2, color channel green, resize function imgResize_secondary\n"
     ]
    },
    {
     "name": "stdout",
     "output_type": "stream",
     "text": [
      "1/1 [==============================] - 0s 20ms/step\n"
     ]
    },
    {
     "name": "stderr",
     "output_type": "stream",
     "text": [
      "2025-06-17 09:09:59,995 - INFO - Processing image /data/4-YQVM_9ac33726c539459d10cd6f6c97a6c9c77b0eefd4545f9eb551fbe334a9b59ad7/Dataset_4-YQVM/data/asset/Image/Multimodal_1252_Multimodal_2643_Multimodal_11443_Left_Field_1.jpg : , trial 3, color channel red, resize function imgResize_secondary\n"
     ]
    },
    {
     "name": "stdout",
     "output_type": "stream",
     "text": [
      "1/1 [==============================] - 0s 21ms/step\n"
     ]
    },
    {
     "name": "stderr",
     "output_type": "stream",
     "text": [
      "2025-06-17 09:10:00,925 - INFO - Processing image /data/4-YQVM_9ac33726c539459d10cd6f6c97a6c9c77b0eefd4545f9eb551fbe334a9b59ad7/Dataset_4-YQVM/data/asset/Image/Multimodal_1252_Multimodal_2643_Multimodal_11443_Left_Field_1.jpg : , trial 4, color channel blue, resize function imgResize_secondary\n"
     ]
    },
    {
     "name": "stdout",
     "output_type": "stream",
     "text": [
      "1/1 [==============================] - 0s 20ms/step\n"
     ]
    },
    {
     "name": "stderr",
     "output_type": "stream",
     "text": [
      "2025-06-17 09:10:01,831 - INFO - SVG for 4-YRSY saved.\n",
      "2025-06-17 09:10:01,890 - INFO - Processing image /data/4-YQVM_9ac33726c539459d10cd6f6c97a6c9c77b0eefd4545f9eb551fbe334a9b59ad7/Dataset_4-YQVM/data/asset/Image/Multimodal_1338_Multimodal_2794_Multimodal_11593_Right_Field_2.jpg : , trial 1, color channel grey, resize function imgResize_primary\n"
     ]
    },
    {
     "name": "stdout",
     "output_type": "stream",
     "text": [
      "1/1 [==============================] - 0s 21ms/step\n"
     ]
    },
    {
     "name": "stderr",
     "output_type": "stream",
     "text": [
      "2025-06-17 09:10:02,664 - INFO - SVG for 4-YRT0 saved.\n",
      "2025-06-17 09:10:02,723 - INFO - Processing image /data/4-YQVM_9ac33726c539459d10cd6f6c97a6c9c77b0eefd4545f9eb551fbe334a9b59ad7/Dataset_4-YQVM/data/asset/Image/Multimodal_1237_Multimodal_2615_Multimodal_11414_Right_Field_2.jpg : , trial 1, color channel grey, resize function imgResize_primary\n"
     ]
    },
    {
     "name": "stdout",
     "output_type": "stream",
     "text": [
      "1/1 [==============================] - 0s 20ms/step\n"
     ]
    },
    {
     "name": "stderr",
     "output_type": "stream",
     "text": [
      "2025-06-17 09:10:03,303 - INFO - Processing image /data/4-YQVM_9ac33726c539459d10cd6f6c97a6c9c77b0eefd4545f9eb551fbe334a9b59ad7/Dataset_4-YQVM/data/asset/Image/Multimodal_1237_Multimodal_2615_Multimodal_11414_Right_Field_2.jpg : , trial 2, color channel green, resize function imgResize_primary\n"
     ]
    },
    {
     "name": "stdout",
     "output_type": "stream",
     "text": [
      "1/1 [==============================] - 0s 20ms/step\n"
     ]
    },
    {
     "name": "stderr",
     "output_type": "stream",
     "text": [
      "2025-06-17 09:10:03,834 - INFO - Processing image /data/4-YQVM_9ac33726c539459d10cd6f6c97a6c9c77b0eefd4545f9eb551fbe334a9b59ad7/Dataset_4-YQVM/data/asset/Image/Multimodal_1237_Multimodal_2615_Multimodal_11414_Right_Field_2.jpg : , trial 3, color channel red, resize function imgResize_primary\n"
     ]
    },
    {
     "name": "stdout",
     "output_type": "stream",
     "text": [
      "1/1 [==============================] - 0s 20ms/step\n"
     ]
    },
    {
     "name": "stderr",
     "output_type": "stream",
     "text": [
      "2025-06-17 09:10:04,428 - INFO - Processing image /data/4-YQVM_9ac33726c539459d10cd6f6c97a6c9c77b0eefd4545f9eb551fbe334a9b59ad7/Dataset_4-YQVM/data/asset/Image/Multimodal_1237_Multimodal_2615_Multimodal_11414_Right_Field_2.jpg : , trial 4, color channel blue, resize function imgResize_primary\n"
     ]
    },
    {
     "name": "stdout",
     "output_type": "stream",
     "text": [
      "1/1 [==============================] - 0s 20ms/step\n"
     ]
    },
    {
     "name": "stderr",
     "output_type": "stream",
     "text": [
      "2025-06-17 09:10:04,910 - INFO - Processing image /data/4-YQVM_9ac33726c539459d10cd6f6c97a6c9c77b0eefd4545f9eb551fbe334a9b59ad7/Dataset_4-YQVM/data/asset/Image/Multimodal_1237_Multimodal_2615_Multimodal_11414_Right_Field_2.jpg : , trial 1, color channel grey, resize function imgResize_secondary\n"
     ]
    },
    {
     "name": "stdout",
     "output_type": "stream",
     "text": [
      "1/1 [==============================] - 0s 20ms/step\n"
     ]
    },
    {
     "name": "stderr",
     "output_type": "stream",
     "text": [
      "2025-06-17 09:10:05,961 - INFO - Processing image /data/4-YQVM_9ac33726c539459d10cd6f6c97a6c9c77b0eefd4545f9eb551fbe334a9b59ad7/Dataset_4-YQVM/data/asset/Image/Multimodal_1237_Multimodal_2615_Multimodal_11414_Right_Field_2.jpg : , trial 2, color channel green, resize function imgResize_secondary\n"
     ]
    },
    {
     "name": "stdout",
     "output_type": "stream",
     "text": [
      "1/1 [==============================] - 0s 20ms/step\n"
     ]
    },
    {
     "name": "stderr",
     "output_type": "stream",
     "text": [
      "2025-06-17 09:10:06,849 - INFO - SVG for 4-YRT2 saved.\n",
      "2025-06-17 09:10:06,908 - INFO - Processing image /data/4-YQVM_9ac33726c539459d10cd6f6c97a6c9c77b0eefd4545f9eb551fbe334a9b59ad7/Dataset_4-YQVM/data/asset/Image/Multimodal_1283_Multimodal_2693_Multimodal_11492_Right_Field_2.jpg : , trial 1, color channel grey, resize function imgResize_primary\n"
     ]
    },
    {
     "name": "stdout",
     "output_type": "stream",
     "text": [
      "1/1 [==============================] - 0s 21ms/step\n"
     ]
    },
    {
     "name": "stderr",
     "output_type": "stream",
     "text": [
      "2025-06-17 09:10:07,413 - INFO - Processing image /data/4-YQVM_9ac33726c539459d10cd6f6c97a6c9c77b0eefd4545f9eb551fbe334a9b59ad7/Dataset_4-YQVM/data/asset/Image/Multimodal_1283_Multimodal_2693_Multimodal_11492_Right_Field_2.jpg : , trial 2, color channel green, resize function imgResize_primary\n"
     ]
    },
    {
     "name": "stdout",
     "output_type": "stream",
     "text": [
      "1/1 [==============================] - 0s 20ms/step\n"
     ]
    },
    {
     "name": "stderr",
     "output_type": "stream",
     "text": [
      "2025-06-17 09:10:08,146 - INFO - SVG for 4-YRT4 saved.\n",
      "2025-06-17 09:10:08,206 - INFO - Processing image /data/4-YQVM_9ac33726c539459d10cd6f6c97a6c9c77b0eefd4545f9eb551fbe334a9b59ad7/Dataset_4-YQVM/data/asset/Image/Multimodal_1306_Multimodal_2736_Multimodal_11536_Left_Field_2.jpg : , trial 1, color channel grey, resize function imgResize_primary\n"
     ]
    },
    {
     "name": "stdout",
     "output_type": "stream",
     "text": [
      "1/1 [==============================] - 0s 21ms/step\n"
     ]
    },
    {
     "name": "stderr",
     "output_type": "stream",
     "text": [
      "2025-06-17 09:10:08,984 - INFO - SVG for 4-YRT6 saved.\n",
      "2025-06-17 09:10:09,044 - INFO - Processing image /data/4-YQVM_9ac33726c539459d10cd6f6c97a6c9c77b0eefd4545f9eb551fbe334a9b59ad7/Dataset_4-YQVM/data/asset/Image/Multimodal_1258_Multimodal_2654_Multimodal_11454_Left_Field_2.jpg : , trial 1, color channel grey, resize function imgResize_primary\n"
     ]
    },
    {
     "name": "stdout",
     "output_type": "stream",
     "text": [
      "1/1 [==============================] - 0s 20ms/step\n"
     ]
    },
    {
     "name": "stderr",
     "output_type": "stream",
     "text": [
      "2025-06-17 09:10:09,784 - INFO - SVG for 4-YRT8 saved.\n",
      "2025-06-17 09:10:09,852 - INFO - Processing image /data/4-YQVM_9ac33726c539459d10cd6f6c97a6c9c77b0eefd4545f9eb551fbe334a9b59ad7/Dataset_4-YQVM/data/asset/Image/Multimodal_1255_Multimodal_2648_Multimodal_11447_Right_Field_2.jpg : , trial 1, color channel grey, resize function imgResize_primary\n"
     ]
    },
    {
     "name": "stdout",
     "output_type": "stream",
     "text": [
      "1/1 [==============================] - 0s 20ms/step\n"
     ]
    },
    {
     "name": "stderr",
     "output_type": "stream",
     "text": [
      "2025-06-17 09:10:10,600 - INFO - SVG for 4-YRTA saved.\n",
      "2025-06-17 09:10:10,660 - INFO - Processing image /data/4-YQVM_9ac33726c539459d10cd6f6c97a6c9c77b0eefd4545f9eb551fbe334a9b59ad7/Dataset_4-YQVM/data/asset/Image/Multimodal_1310_Multimodal_2742_Multimodal_11542_Left_Field_2.jpg : , trial 1, color channel grey, resize function imgResize_primary\n"
     ]
    },
    {
     "name": "stdout",
     "output_type": "stream",
     "text": [
      "1/1 [==============================] - 0s 20ms/step\n"
     ]
    },
    {
     "name": "stderr",
     "output_type": "stream",
     "text": [
      "2025-06-17 09:10:11,396 - INFO - SVG for 4-YRTC saved.\n",
      "2025-06-17 09:10:11,454 - INFO - Processing image /data/4-YQVM_9ac33726c539459d10cd6f6c97a6c9c77b0eefd4545f9eb551fbe334a9b59ad7/Dataset_4-YQVM/data/asset/Image/Multimodal_1293_Multimodal_2712_Multimodal_11512_Left_Field_2.jpg : , trial 1, color channel grey, resize function imgResize_primary\n"
     ]
    },
    {
     "name": "stdout",
     "output_type": "stream",
     "text": [
      "1/1 [==============================] - 0s 20ms/step\n"
     ]
    },
    {
     "name": "stderr",
     "output_type": "stream",
     "text": [
      "2025-06-17 09:10:12,303 - INFO - SVG for 4-YRTE saved.\n",
      "2025-06-17 09:10:12,362 - INFO - Processing image /data/4-YQVM_9ac33726c539459d10cd6f6c97a6c9c77b0eefd4545f9eb551fbe334a9b59ad7/Dataset_4-YQVM/data/asset/Image/Multimodal_1259_Multimodal_2656_Multimodal_11455_Right_Field_2.jpg : , trial 1, color channel grey, resize function imgResize_primary\n"
     ]
    },
    {
     "name": "stdout",
     "output_type": "stream",
     "text": [
      "1/1 [==============================] - 0s 20ms/step\n"
     ]
    },
    {
     "name": "stderr",
     "output_type": "stream",
     "text": [
      "2025-06-17 09:10:13,186 - INFO - SVG for 4-YRTG saved.\n",
      "2025-06-17 09:10:13,244 - INFO - Processing image /data/4-YQVM_9ac33726c539459d10cd6f6c97a6c9c77b0eefd4545f9eb551fbe334a9b59ad7/Dataset_4-YQVM/data/asset/Image/Multimodal_1293_Multimodal_2712_Multimodal_11511_Right_Field_2.jpg : , trial 1, color channel grey, resize function imgResize_primary\n"
     ]
    },
    {
     "name": "stdout",
     "output_type": "stream",
     "text": [
      "1/1 [==============================] - 0s 20ms/step\n"
     ]
    },
    {
     "name": "stderr",
     "output_type": "stream",
     "text": [
      "2025-06-17 09:10:13,761 - INFO - Processing image /data/4-YQVM_9ac33726c539459d10cd6f6c97a6c9c77b0eefd4545f9eb551fbe334a9b59ad7/Dataset_4-YQVM/data/asset/Image/Multimodal_1293_Multimodal_2712_Multimodal_11511_Right_Field_2.jpg : , trial 2, color channel green, resize function imgResize_primary\n"
     ]
    },
    {
     "name": "stdout",
     "output_type": "stream",
     "text": [
      "1/1 [==============================] - 0s 20ms/step\n"
     ]
    },
    {
     "name": "stderr",
     "output_type": "stream",
     "text": [
      "2025-06-17 09:10:14,595 - INFO - Processing image /data/4-YQVM_9ac33726c539459d10cd6f6c97a6c9c77b0eefd4545f9eb551fbe334a9b59ad7/Dataset_4-YQVM/data/asset/Image/Multimodal_1293_Multimodal_2712_Multimodal_11511_Right_Field_2.jpg : , trial 3, color channel red, resize function imgResize_primary\n"
     ]
    },
    {
     "name": "stdout",
     "output_type": "stream",
     "text": [
      "1/1 [==============================] - 0s 20ms/step\n"
     ]
    },
    {
     "name": "stderr",
     "output_type": "stream",
     "text": [
      "2025-06-17 09:10:15,169 - INFO - Processing image /data/4-YQVM_9ac33726c539459d10cd6f6c97a6c9c77b0eefd4545f9eb551fbe334a9b59ad7/Dataset_4-YQVM/data/asset/Image/Multimodal_1293_Multimodal_2712_Multimodal_11511_Right_Field_2.jpg : , trial 4, color channel blue, resize function imgResize_primary\n"
     ]
    },
    {
     "name": "stdout",
     "output_type": "stream",
     "text": [
      "1/1 [==============================] - 0s 20ms/step\n"
     ]
    },
    {
     "name": "stderr",
     "output_type": "stream",
     "text": [
      "2025-06-17 09:10:15,871 - INFO - Processing image /data/4-YQVM_9ac33726c539459d10cd6f6c97a6c9c77b0eefd4545f9eb551fbe334a9b59ad7/Dataset_4-YQVM/data/asset/Image/Multimodal_1293_Multimodal_2712_Multimodal_11511_Right_Field_2.jpg : , trial 1, color channel grey, resize function imgResize_secondary\n"
     ]
    },
    {
     "name": "stdout",
     "output_type": "stream",
     "text": [
      "1/1 [==============================] - 0s 21ms/step\n"
     ]
    },
    {
     "name": "stderr",
     "output_type": "stream",
     "text": [
      "2025-06-17 09:10:16,705 - INFO - Processing image /data/4-YQVM_9ac33726c539459d10cd6f6c97a6c9c77b0eefd4545f9eb551fbe334a9b59ad7/Dataset_4-YQVM/data/asset/Image/Multimodal_1293_Multimodal_2712_Multimodal_11511_Right_Field_2.jpg : , trial 2, color channel green, resize function imgResize_secondary\n"
     ]
    },
    {
     "name": "stdout",
     "output_type": "stream",
     "text": [
      "1/1 [==============================] - 0s 21ms/step\n"
     ]
    },
    {
     "name": "stderr",
     "output_type": "stream",
     "text": [
      "2025-06-17 09:10:17,881 - INFO - SVG for 4-YRTJ saved.\n",
      "2025-06-17 09:10:17,940 - INFO - Processing image /data/4-YQVM_9ac33726c539459d10cd6f6c97a6c9c77b0eefd4545f9eb551fbe334a9b59ad7/Dataset_4-YQVM/data/asset/Image/Multimodal_1271_Multimodal_2674_Multimodal_11473_Right_Field_2.jpg : , trial 1, color channel grey, resize function imgResize_primary\n"
     ]
    },
    {
     "name": "stdout",
     "output_type": "stream",
     "text": [
      "1/1 [==============================] - 0s 21ms/step\n"
     ]
    },
    {
     "name": "stderr",
     "output_type": "stream",
     "text": [
      "2025-06-17 09:10:18,613 - INFO - SVG for 4-YRTM saved.\n",
      "2025-06-17 09:10:18,671 - INFO - Processing image /data/4-YQVM_9ac33726c539459d10cd6f6c97a6c9c77b0eefd4545f9eb551fbe334a9b59ad7/Dataset_4-YQVM/data/asset/Image/Multimodal_1212_Multimodal_2570_Multimodal_11369_Right_Field_1.jpg : , trial 1, color channel grey, resize function imgResize_primary\n"
     ]
    },
    {
     "name": "stdout",
     "output_type": "stream",
     "text": [
      "1/1 [==============================] - 0s 20ms/step\n"
     ]
    },
    {
     "name": "stderr",
     "output_type": "stream",
     "text": [
      "2025-06-17 09:10:19,249 - INFO - Processing image /data/4-YQVM_9ac33726c539459d10cd6f6c97a6c9c77b0eefd4545f9eb551fbe334a9b59ad7/Dataset_4-YQVM/data/asset/Image/Multimodal_1212_Multimodal_2570_Multimodal_11369_Right_Field_1.jpg : , trial 2, color channel green, resize function imgResize_primary\n"
     ]
    },
    {
     "name": "stdout",
     "output_type": "stream",
     "text": [
      "1/1 [==============================] - 0s 20ms/step\n"
     ]
    },
    {
     "name": "stderr",
     "output_type": "stream",
     "text": [
      "2025-06-17 09:10:19,709 - INFO - Processing image /data/4-YQVM_9ac33726c539459d10cd6f6c97a6c9c77b0eefd4545f9eb551fbe334a9b59ad7/Dataset_4-YQVM/data/asset/Image/Multimodal_1212_Multimodal_2570_Multimodal_11369_Right_Field_1.jpg : , trial 3, color channel red, resize function imgResize_primary\n"
     ]
    },
    {
     "name": "stdout",
     "output_type": "stream",
     "text": [
      "1/1 [==============================] - 0s 20ms/step\n"
     ]
    },
    {
     "name": "stderr",
     "output_type": "stream",
     "text": [
      "2025-06-17 09:10:20,324 - INFO - Processing image /data/4-YQVM_9ac33726c539459d10cd6f6c97a6c9c77b0eefd4545f9eb551fbe334a9b59ad7/Dataset_4-YQVM/data/asset/Image/Multimodal_1212_Multimodal_2570_Multimodal_11369_Right_Field_1.jpg : , trial 4, color channel blue, resize function imgResize_primary\n"
     ]
    },
    {
     "name": "stdout",
     "output_type": "stream",
     "text": [
      "1/1 [==============================] - 0s 20ms/step\n"
     ]
    },
    {
     "name": "stderr",
     "output_type": "stream",
     "text": [
      "2025-06-17 09:10:20,849 - INFO - Processing image /data/4-YQVM_9ac33726c539459d10cd6f6c97a6c9c77b0eefd4545f9eb551fbe334a9b59ad7/Dataset_4-YQVM/data/asset/Image/Multimodal_1212_Multimodal_2570_Multimodal_11369_Right_Field_1.jpg : , trial 1, color channel grey, resize function imgResize_secondary\n"
     ]
    },
    {
     "name": "stdout",
     "output_type": "stream",
     "text": [
      "1/1 [==============================] - 0s 20ms/step\n"
     ]
    },
    {
     "name": "stderr",
     "output_type": "stream",
     "text": [
      "2025-06-17 09:10:21,634 - INFO - Processing image /data/4-YQVM_9ac33726c539459d10cd6f6c97a6c9c77b0eefd4545f9eb551fbe334a9b59ad7/Dataset_4-YQVM/data/asset/Image/Multimodal_1212_Multimodal_2570_Multimodal_11369_Right_Field_1.jpg : , trial 2, color channel green, resize function imgResize_secondary\n"
     ]
    },
    {
     "name": "stdout",
     "output_type": "stream",
     "text": [
      "1/1 [==============================] - 0s 20ms/step\n"
     ]
    },
    {
     "name": "stderr",
     "output_type": "stream",
     "text": [
      "2025-06-17 09:10:22,256 - INFO - Processing image /data/4-YQVM_9ac33726c539459d10cd6f6c97a6c9c77b0eefd4545f9eb551fbe334a9b59ad7/Dataset_4-YQVM/data/asset/Image/Multimodal_1212_Multimodal_2570_Multimodal_11369_Right_Field_1.jpg : , trial 3, color channel red, resize function imgResize_secondary\n"
     ]
    },
    {
     "name": "stdout",
     "output_type": "stream",
     "text": [
      "1/1 [==============================] - 0s 20ms/step\n"
     ]
    },
    {
     "name": "stderr",
     "output_type": "stream",
     "text": [
      "2025-06-17 09:10:23,112 - INFO - Processing image /data/4-YQVM_9ac33726c539459d10cd6f6c97a6c9c77b0eefd4545f9eb551fbe334a9b59ad7/Dataset_4-YQVM/data/asset/Image/Multimodal_1212_Multimodal_2570_Multimodal_11369_Right_Field_1.jpg : , trial 4, color channel blue, resize function imgResize_secondary\n"
     ]
    },
    {
     "name": "stdout",
     "output_type": "stream",
     "text": [
      "1/1 [==============================] - 0s 20ms/step\n"
     ]
    },
    {
     "name": "stderr",
     "output_type": "stream",
     "text": [
      "2025-06-17 09:10:23,827 - INFO - Processing image /data/4-YQVM_9ac33726c539459d10cd6f6c97a6c9c77b0eefd4545f9eb551fbe334a9b59ad7/Dataset_4-YQVM/data/asset/Image/Multimodal_1212_Multimodal_2570_Multimodal_11369_Right_Field_1.jpg : , trial 1, color channel grey, resize function imgResize_primary\n"
     ]
    },
    {
     "name": "stdout",
     "output_type": "stream",
     "text": [
      "1/1 [==============================] - 0s 20ms/step\n"
     ]
    },
    {
     "name": "stderr",
     "output_type": "stream",
     "text": [
      "2025-06-17 09:10:24,392 - INFO - SVG for 4-YRTP saved.\n",
      "2025-06-17 09:10:24,451 - INFO - Processing image /data/4-YQVM_9ac33726c539459d10cd6f6c97a6c9c77b0eefd4545f9eb551fbe334a9b59ad7/Dataset_4-YQVM/data/asset/Image/Multimodal_1257_Multimodal_2652_Multimodal_11452_Left_Field_2.jpg : , trial 1, color channel grey, resize function imgResize_primary\n"
     ]
    },
    {
     "name": "stdout",
     "output_type": "stream",
     "text": [
      "1/1 [==============================] - 0s 20ms/step\n"
     ]
    },
    {
     "name": "stderr",
     "output_type": "stream",
     "text": [
      "2025-06-17 09:10:25,075 - INFO - SVG for 4-YRTR saved.\n",
      "2025-06-17 09:10:25,136 - INFO - Processing image /data/4-YQVM_9ac33726c539459d10cd6f6c97a6c9c77b0eefd4545f9eb551fbe334a9b59ad7/Dataset_4-YQVM/data/asset/Image/Multimodal_1253_Multimodal_2645_Multimodal_11445_Left_Field_2.jpg : , trial 1, color channel grey, resize function imgResize_primary\n"
     ]
    },
    {
     "name": "stdout",
     "output_type": "stream",
     "text": [
      "1/1 [==============================] - 0s 21ms/step\n"
     ]
    },
    {
     "name": "stderr",
     "output_type": "stream",
     "text": [
      "2025-06-17 09:10:25,864 - INFO - SVG for 4-YRTT saved.\n",
      "2025-06-17 09:10:25,922 - INFO - Processing image /data/4-YQVM_9ac33726c539459d10cd6f6c97a6c9c77b0eefd4545f9eb551fbe334a9b59ad7/Dataset_4-YQVM/data/asset/Image/Multimodal_1266_Multimodal_2666_Multimodal_11465_Right_Field_2.jpg : , trial 1, color channel grey, resize function imgResize_primary\n"
     ]
    },
    {
     "name": "stdout",
     "output_type": "stream",
     "text": [
      "1/1 [==============================] - 0s 20ms/step\n"
     ]
    },
    {
     "name": "stderr",
     "output_type": "stream",
     "text": [
      "2025-06-17 09:10:26,549 - INFO - SVG for 4-YRTW saved.\n",
      "2025-06-17 09:10:26,607 - INFO - Processing image /data/4-YQVM_9ac33726c539459d10cd6f6c97a6c9c77b0eefd4545f9eb551fbe334a9b59ad7/Dataset_4-YQVM/data/asset/Image/Multimodal_1332_Multimodal_2783_Multimodal_11583_Left_Field_2.jpg : , trial 1, color channel grey, resize function imgResize_primary\n"
     ]
    },
    {
     "name": "stdout",
     "output_type": "stream",
     "text": [
      "1/1 [==============================] - 0s 21ms/step\n"
     ]
    },
    {
     "name": "stderr",
     "output_type": "stream",
     "text": [
      "2025-06-17 09:10:27,233 - INFO - SVG for 4-YRTY saved.\n",
      "2025-06-17 09:10:27,295 - INFO - Processing image /data/4-YQVM_9ac33726c539459d10cd6f6c97a6c9c77b0eefd4545f9eb551fbe334a9b59ad7/Dataset_4-YQVM/data/asset/Image/Multimodal_1298_Multimodal_2720_Multimodal_11520_Left_Field_1.jpg : , trial 1, color channel grey, resize function imgResize_primary\n"
     ]
    },
    {
     "name": "stdout",
     "output_type": "stream",
     "text": [
      "1/1 [==============================] - 0s 20ms/step\n"
     ]
    },
    {
     "name": "stderr",
     "output_type": "stream",
     "text": [
      "2025-06-17 09:10:28,016 - INFO - Processing image /data/4-YQVM_9ac33726c539459d10cd6f6c97a6c9c77b0eefd4545f9eb551fbe334a9b59ad7/Dataset_4-YQVM/data/asset/Image/Multimodal_1298_Multimodal_2720_Multimodal_11520_Left_Field_1.jpg : , trial 2, color channel green, resize function imgResize_primary\n"
     ]
    },
    {
     "name": "stdout",
     "output_type": "stream",
     "text": [
      "1/1 [==============================] - 0s 20ms/step\n"
     ]
    },
    {
     "name": "stderr",
     "output_type": "stream",
     "text": [
      "2025-06-17 09:10:28,905 - INFO - SVG for 4-YRV0 saved.\n",
      "2025-06-17 09:10:28,963 - INFO - Processing image /data/4-YQVM_9ac33726c539459d10cd6f6c97a6c9c77b0eefd4545f9eb551fbe334a9b59ad7/Dataset_4-YQVM/data/asset/Image/Multimodal_1257_Multimodal_2652_Multimodal_11451_Right_Field_2.jpg : , trial 1, color channel grey, resize function imgResize_primary\n"
     ]
    },
    {
     "name": "stdout",
     "output_type": "stream",
     "text": [
      "1/1 [==============================] - 0s 20ms/step\n"
     ]
    },
    {
     "name": "stderr",
     "output_type": "stream",
     "text": [
      "2025-06-17 09:10:29,542 - INFO - SVG for 4-YRV2 saved.\n",
      "2025-06-17 09:10:29,602 - INFO - Processing image /data/4-YQVM_9ac33726c539459d10cd6f6c97a6c9c77b0eefd4545f9eb551fbe334a9b59ad7/Dataset_4-YQVM/data/asset/Image/Multimodal_1263_Multimodal_2662_Multimodal_11461_Left_Field_2.jpg : , trial 1, color channel grey, resize function imgResize_primary\n"
     ]
    },
    {
     "name": "stdout",
     "output_type": "stream",
     "text": [
      "1/1 [==============================] - 0s 21ms/step\n"
     ]
    },
    {
     "name": "stderr",
     "output_type": "stream",
     "text": [
      "2025-06-17 09:10:30,226 - INFO - Processing image /data/4-YQVM_9ac33726c539459d10cd6f6c97a6c9c77b0eefd4545f9eb551fbe334a9b59ad7/Dataset_4-YQVM/data/asset/Image/Multimodal_1263_Multimodal_2662_Multimodal_11461_Left_Field_2.jpg : , trial 2, color channel green, resize function imgResize_primary\n"
     ]
    },
    {
     "name": "stdout",
     "output_type": "stream",
     "text": [
      "1/1 [==============================] - 0s 20ms/step\n"
     ]
    },
    {
     "name": "stderr",
     "output_type": "stream",
     "text": [
      "2025-06-17 09:10:30,904 - INFO - Processing image /data/4-YQVM_9ac33726c539459d10cd6f6c97a6c9c77b0eefd4545f9eb551fbe334a9b59ad7/Dataset_4-YQVM/data/asset/Image/Multimodal_1263_Multimodal_2662_Multimodal_11461_Left_Field_2.jpg : , trial 3, color channel red, resize function imgResize_primary\n"
     ]
    },
    {
     "name": "stdout",
     "output_type": "stream",
     "text": [
      "1/1 [==============================] - 0s 21ms/step\n"
     ]
    },
    {
     "name": "stderr",
     "output_type": "stream",
     "text": [
      "2025-06-17 09:10:31,516 - INFO - Processing image /data/4-YQVM_9ac33726c539459d10cd6f6c97a6c9c77b0eefd4545f9eb551fbe334a9b59ad7/Dataset_4-YQVM/data/asset/Image/Multimodal_1263_Multimodal_2662_Multimodal_11461_Left_Field_2.jpg : , trial 4, color channel blue, resize function imgResize_primary\n"
     ]
    },
    {
     "name": "stdout",
     "output_type": "stream",
     "text": [
      "1/1 [==============================] - 0s 20ms/step\n"
     ]
    },
    {
     "name": "stderr",
     "output_type": "stream",
     "text": [
      "2025-06-17 09:10:32,154 - INFO - Processing image /data/4-YQVM_9ac33726c539459d10cd6f6c97a6c9c77b0eefd4545f9eb551fbe334a9b59ad7/Dataset_4-YQVM/data/asset/Image/Multimodal_1263_Multimodal_2662_Multimodal_11461_Left_Field_2.jpg : , trial 1, color channel grey, resize function imgResize_secondary\n"
     ]
    },
    {
     "name": "stdout",
     "output_type": "stream",
     "text": [
      "1/1 [==============================] - 0s 20ms/step\n"
     ]
    },
    {
     "name": "stderr",
     "output_type": "stream",
     "text": [
      "2025-06-17 09:10:33,015 - INFO - Processing image /data/4-YQVM_9ac33726c539459d10cd6f6c97a6c9c77b0eefd4545f9eb551fbe334a9b59ad7/Dataset_4-YQVM/data/asset/Image/Multimodal_1263_Multimodal_2662_Multimodal_11461_Left_Field_2.jpg : , trial 2, color channel green, resize function imgResize_secondary\n"
     ]
    },
    {
     "name": "stdout",
     "output_type": "stream",
     "text": [
      "1/1 [==============================] - 0s 20ms/step\n"
     ]
    },
    {
     "name": "stderr",
     "output_type": "stream",
     "text": [
      "2025-06-17 09:10:33,987 - INFO - Processing image /data/4-YQVM_9ac33726c539459d10cd6f6c97a6c9c77b0eefd4545f9eb551fbe334a9b59ad7/Dataset_4-YQVM/data/asset/Image/Multimodal_1263_Multimodal_2662_Multimodal_11461_Left_Field_2.jpg : , trial 3, color channel red, resize function imgResize_secondary\n"
     ]
    },
    {
     "name": "stdout",
     "output_type": "stream",
     "text": [
      "1/1 [==============================] - 0s 20ms/step\n"
     ]
    },
    {
     "name": "stderr",
     "output_type": "stream",
     "text": [
      "2025-06-17 09:10:34,898 - INFO - Processing image /data/4-YQVM_9ac33726c539459d10cd6f6c97a6c9c77b0eefd4545f9eb551fbe334a9b59ad7/Dataset_4-YQVM/data/asset/Image/Multimodal_1263_Multimodal_2662_Multimodal_11461_Left_Field_2.jpg : , trial 4, color channel blue, resize function imgResize_secondary\n"
     ]
    },
    {
     "name": "stdout",
     "output_type": "stream",
     "text": [
      "1/1 [==============================] - 0s 20ms/step\n"
     ]
    },
    {
     "name": "stderr",
     "output_type": "stream",
     "text": [
      "2025-06-17 09:10:35,618 - INFO - Processing image /data/4-YQVM_9ac33726c539459d10cd6f6c97a6c9c77b0eefd4545f9eb551fbe334a9b59ad7/Dataset_4-YQVM/data/asset/Image/Multimodal_1263_Multimodal_2662_Multimodal_11461_Left_Field_2.jpg : , trial 1, color channel grey, resize function imgResize_primary\n"
     ]
    },
    {
     "name": "stdout",
     "output_type": "stream",
     "text": [
      "1/1 [==============================] - 0s 20ms/step\n"
     ]
    },
    {
     "name": "stderr",
     "output_type": "stream",
     "text": [
      "2025-06-17 09:10:36,401 - INFO - Processing image /data/4-YQVM_9ac33726c539459d10cd6f6c97a6c9c77b0eefd4545f9eb551fbe334a9b59ad7/Dataset_4-YQVM/data/asset/Image/Multimodal_1263_Multimodal_2662_Multimodal_11461_Left_Field_2.jpg : , trial 2, color channel green, resize function imgResize_primary\n"
     ]
    },
    {
     "name": "stdout",
     "output_type": "stream",
     "text": [
      "1/1 [==============================] - 0s 20ms/step\n"
     ]
    },
    {
     "name": "stderr",
     "output_type": "stream",
     "text": [
      "2025-06-17 09:10:37,179 - INFO - Processing image /data/4-YQVM_9ac33726c539459d10cd6f6c97a6c9c77b0eefd4545f9eb551fbe334a9b59ad7/Dataset_4-YQVM/data/asset/Image/Multimodal_1263_Multimodal_2662_Multimodal_11461_Left_Field_2.jpg : , trial 3, color channel red, resize function imgResize_primary\n"
     ]
    },
    {
     "name": "stdout",
     "output_type": "stream",
     "text": [
      "1/1 [==============================] - 0s 20ms/step\n"
     ]
    },
    {
     "name": "stderr",
     "output_type": "stream",
     "text": [
      "2025-06-17 09:10:37,762 - INFO - Processing image /data/4-YQVM_9ac33726c539459d10cd6f6c97a6c9c77b0eefd4545f9eb551fbe334a9b59ad7/Dataset_4-YQVM/data/asset/Image/Multimodal_1263_Multimodal_2662_Multimodal_11461_Left_Field_2.jpg : , trial 4, color channel blue, resize function imgResize_primary\n"
     ]
    },
    {
     "name": "stdout",
     "output_type": "stream",
     "text": [
      "1/1 [==============================] - 0s 20ms/step\n"
     ]
    },
    {
     "name": "stderr",
     "output_type": "stream",
     "text": [
      "2025-06-17 09:10:38,508 - INFO - Processing image /data/4-YQVM_9ac33726c539459d10cd6f6c97a6c9c77b0eefd4545f9eb551fbe334a9b59ad7/Dataset_4-YQVM/data/asset/Image/Multimodal_1263_Multimodal_2662_Multimodal_11461_Left_Field_2.jpg : , trial 1, color channel grey, resize function imgResize_secondary\n"
     ]
    },
    {
     "name": "stdout",
     "output_type": "stream",
     "text": [
      "1/1 [==============================] - 0s 20ms/step\n"
     ]
    },
    {
     "name": "stderr",
     "output_type": "stream",
     "text": [
      "2025-06-17 09:10:39,541 - INFO - Processing image /data/4-YQVM_9ac33726c539459d10cd6f6c97a6c9c77b0eefd4545f9eb551fbe334a9b59ad7/Dataset_4-YQVM/data/asset/Image/Multimodal_1263_Multimodal_2662_Multimodal_11461_Left_Field_2.jpg : , trial 2, color channel green, resize function imgResize_secondary\n"
     ]
    },
    {
     "name": "stdout",
     "output_type": "stream",
     "text": [
      "1/1 [==============================] - 0s 20ms/step\n"
     ]
    },
    {
     "name": "stderr",
     "output_type": "stream",
     "text": [
      "2025-06-17 09:10:40,538 - INFO - Processing image /data/4-YQVM_9ac33726c539459d10cd6f6c97a6c9c77b0eefd4545f9eb551fbe334a9b59ad7/Dataset_4-YQVM/data/asset/Image/Multimodal_1263_Multimodal_2662_Multimodal_11461_Left_Field_2.jpg : , trial 3, color channel red, resize function imgResize_secondary\n"
     ]
    },
    {
     "name": "stdout",
     "output_type": "stream",
     "text": [
      "1/1 [==============================] - 0s 20ms/step\n"
     ]
    },
    {
     "name": "stderr",
     "output_type": "stream",
     "text": [
      "2025-06-17 09:10:41,380 - INFO - Processing image /data/4-YQVM_9ac33726c539459d10cd6f6c97a6c9c77b0eefd4545f9eb551fbe334a9b59ad7/Dataset_4-YQVM/data/asset/Image/Multimodal_1263_Multimodal_2662_Multimodal_11461_Left_Field_2.jpg : , trial 4, color channel blue, resize function imgResize_secondary\n"
     ]
    },
    {
     "name": "stdout",
     "output_type": "stream",
     "text": [
      "1/1 [==============================] - 0s 20ms/step\n"
     ]
    },
    {
     "name": "stderr",
     "output_type": "stream",
     "text": [
      "2025-06-17 09:10:42,161 - INFO - Processing image /data/4-YQVM_9ac33726c539459d10cd6f6c97a6c9c77b0eefd4545f9eb551fbe334a9b59ad7/Dataset_4-YQVM/data/asset/Image/Multimodal_1263_Multimodal_2662_Multimodal_11461_Left_Field_2.jpg : , trial 1, color channel grey, resize function imgResize_primary\n"
     ]
    },
    {
     "name": "stdout",
     "output_type": "stream",
     "text": [
      "1/1 [==============================] - 0s 20ms/step\n"
     ]
    },
    {
     "name": "stderr",
     "output_type": "stream",
     "text": [
      "2025-06-17 09:10:42,666 - INFO - Processing image /data/4-YQVM_9ac33726c539459d10cd6f6c97a6c9c77b0eefd4545f9eb551fbe334a9b59ad7/Dataset_4-YQVM/data/asset/Image/Multimodal_1263_Multimodal_2662_Multimodal_11461_Left_Field_2.jpg : , trial 2, color channel green, resize function imgResize_primary\n"
     ]
    },
    {
     "name": "stdout",
     "output_type": "stream",
     "text": [
      "1/1 [==============================] - 0s 20ms/step\n"
     ]
    },
    {
     "name": "stderr",
     "output_type": "stream",
     "text": [
      "2025-06-17 09:10:43,381 - INFO - Processing image /data/4-YQVM_9ac33726c539459d10cd6f6c97a6c9c77b0eefd4545f9eb551fbe334a9b59ad7/Dataset_4-YQVM/data/asset/Image/Multimodal_1263_Multimodal_2662_Multimodal_11461_Left_Field_2.jpg : , trial 3, color channel red, resize function imgResize_primary\n"
     ]
    },
    {
     "name": "stdout",
     "output_type": "stream",
     "text": [
      "1/1 [==============================] - 0s 20ms/step\n"
     ]
    },
    {
     "name": "stderr",
     "output_type": "stream",
     "text": [
      "2025-06-17 09:10:43,843 - INFO - Processing image /data/4-YQVM_9ac33726c539459d10cd6f6c97a6c9c77b0eefd4545f9eb551fbe334a9b59ad7/Dataset_4-YQVM/data/asset/Image/Multimodal_1263_Multimodal_2662_Multimodal_11461_Left_Field_2.jpg : , trial 4, color channel blue, resize function imgResize_primary\n"
     ]
    },
    {
     "name": "stdout",
     "output_type": "stream",
     "text": [
      "1/1 [==============================] - 0s 20ms/step\n"
     ]
    },
    {
     "name": "stderr",
     "output_type": "stream",
     "text": [
      "2025-06-17 09:10:44,519 - INFO - Processing image /data/4-YQVM_9ac33726c539459d10cd6f6c97a6c9c77b0eefd4545f9eb551fbe334a9b59ad7/Dataset_4-YQVM/data/asset/Image/Multimodal_1263_Multimodal_2662_Multimodal_11461_Left_Field_2.jpg : , trial 1, color channel grey, resize function imgResize_secondary\n"
     ]
    },
    {
     "name": "stdout",
     "output_type": "stream",
     "text": [
      "1/1 [==============================] - 0s 20ms/step\n"
     ]
    },
    {
     "name": "stderr",
     "output_type": "stream",
     "text": [
      "2025-06-17 09:10:45,649 - INFO - Processing image /data/4-YQVM_9ac33726c539459d10cd6f6c97a6c9c77b0eefd4545f9eb551fbe334a9b59ad7/Dataset_4-YQVM/data/asset/Image/Multimodal_1263_Multimodal_2662_Multimodal_11461_Left_Field_2.jpg : , trial 2, color channel green, resize function imgResize_secondary\n"
     ]
    },
    {
     "name": "stdout",
     "output_type": "stream",
     "text": [
      "1/1 [==============================] - 0s 20ms/step\n"
     ]
    },
    {
     "name": "stderr",
     "output_type": "stream",
     "text": [
      "2025-06-17 09:10:46,654 - INFO - Processing image /data/4-YQVM_9ac33726c539459d10cd6f6c97a6c9c77b0eefd4545f9eb551fbe334a9b59ad7/Dataset_4-YQVM/data/asset/Image/Multimodal_1263_Multimodal_2662_Multimodal_11461_Left_Field_2.jpg : , trial 3, color channel red, resize function imgResize_secondary\n"
     ]
    },
    {
     "name": "stdout",
     "output_type": "stream",
     "text": [
      "1/1 [==============================] - 0s 20ms/step\n"
     ]
    },
    {
     "name": "stderr",
     "output_type": "stream",
     "text": [
      "2025-06-17 09:10:47,485 - INFO - Processing image /data/4-YQVM_9ac33726c539459d10cd6f6c97a6c9c77b0eefd4545f9eb551fbe334a9b59ad7/Dataset_4-YQVM/data/asset/Image/Multimodal_1263_Multimodal_2662_Multimodal_11461_Left_Field_2.jpg : , trial 4, color channel blue, resize function imgResize_secondary\n"
     ]
    },
    {
     "name": "stdout",
     "output_type": "stream",
     "text": [
      "1/1 [==============================] - 0s 20ms/step\n"
     ]
    },
    {
     "name": "stderr",
     "output_type": "stream",
     "text": [
      "2025-06-17 09:10:48,307 - INFO - Processing image /data/4-YQVM_9ac33726c539459d10cd6f6c97a6c9c77b0eefd4545f9eb551fbe334a9b59ad7/Dataset_4-YQVM/data/asset/Image/Multimodal_1263_Multimodal_2662_Multimodal_11461_Left_Field_2.jpg : , trial 1, color channel grey, resize function imgResize_primary\n"
     ]
    },
    {
     "name": "stdout",
     "output_type": "stream",
     "text": [
      "1/1 [==============================] - 0s 20ms/step\n"
     ]
    },
    {
     "name": "stderr",
     "output_type": "stream",
     "text": [
      "2025-06-17 09:10:49,029 - INFO - SVG for 4-YRV4 saved.\n",
      "2025-06-17 09:10:49,095 - INFO - Processing image /data/4-YQVM_9ac33726c539459d10cd6f6c97a6c9c77b0eefd4545f9eb551fbe334a9b59ad7/Dataset_4-YQVM/data/asset/Image/Multimodal_1327_Multimodal_2774_Multimodal_11573_Right_Field_2.jpg : , trial 1, color channel grey, resize function imgResize_primary\n"
     ]
    },
    {
     "name": "stdout",
     "output_type": "stream",
     "text": [
      "1/1 [==============================] - 0s 20ms/step\n"
     ]
    },
    {
     "name": "stderr",
     "output_type": "stream",
     "text": [
      "2025-06-17 09:10:49,721 - INFO - SVG for 4-YRV6 saved.\n",
      "2025-06-17 09:10:49,780 - INFO - Processing image /data/4-YQVM_9ac33726c539459d10cd6f6c97a6c9c77b0eefd4545f9eb551fbe334a9b59ad7/Dataset_4-YQVM/data/asset/Image/Multimodal_1204_Multimodal_2555_Multimodal_11355_Left_Field_2.jpg : , trial 1, color channel grey, resize function imgResize_primary\n"
     ]
    },
    {
     "name": "stdout",
     "output_type": "stream",
     "text": [
      "1/1 [==============================] - 0s 20ms/step\n"
     ]
    },
    {
     "name": "stderr",
     "output_type": "stream",
     "text": [
      "2025-06-17 09:10:50,170 - INFO - Processing image /data/4-YQVM_9ac33726c539459d10cd6f6c97a6c9c77b0eefd4545f9eb551fbe334a9b59ad7/Dataset_4-YQVM/data/asset/Image/Multimodal_1204_Multimodal_2555_Multimodal_11355_Left_Field_2.jpg : , trial 2, color channel green, resize function imgResize_primary\n"
     ]
    },
    {
     "name": "stdout",
     "output_type": "stream",
     "text": [
      "1/1 [==============================] - 0s 20ms/step\n"
     ]
    },
    {
     "name": "stderr",
     "output_type": "stream",
     "text": [
      "2025-06-17 09:10:50,517 - INFO - Processing image /data/4-YQVM_9ac33726c539459d10cd6f6c97a6c9c77b0eefd4545f9eb551fbe334a9b59ad7/Dataset_4-YQVM/data/asset/Image/Multimodal_1204_Multimodal_2555_Multimodal_11355_Left_Field_2.jpg : , trial 3, color channel red, resize function imgResize_primary\n"
     ]
    },
    {
     "name": "stdout",
     "output_type": "stream",
     "text": [
      "1/1 [==============================] - 0s 20ms/step\n"
     ]
    },
    {
     "name": "stderr",
     "output_type": "stream",
     "text": [
      "2025-06-17 09:10:50,979 - INFO - Processing image /data/4-YQVM_9ac33726c539459d10cd6f6c97a6c9c77b0eefd4545f9eb551fbe334a9b59ad7/Dataset_4-YQVM/data/asset/Image/Multimodal_1204_Multimodal_2555_Multimodal_11355_Left_Field_2.jpg : , trial 4, color channel blue, resize function imgResize_primary\n"
     ]
    },
    {
     "name": "stdout",
     "output_type": "stream",
     "text": [
      "1/1 [==============================] - 0s 20ms/step\n"
     ]
    },
    {
     "name": "stderr",
     "output_type": "stream",
     "text": [
      "2025-06-17 09:10:51,437 - INFO - Processing image /data/4-YQVM_9ac33726c539459d10cd6f6c97a6c9c77b0eefd4545f9eb551fbe334a9b59ad7/Dataset_4-YQVM/data/asset/Image/Multimodal_1204_Multimodal_2555_Multimodal_11355_Left_Field_2.jpg : , trial 1, color channel grey, resize function imgResize_secondary\n"
     ]
    },
    {
     "name": "stdout",
     "output_type": "stream",
     "text": [
      "1/1 [==============================] - 0s 20ms/step\n"
     ]
    },
    {
     "name": "stderr",
     "output_type": "stream",
     "text": [
      "2025-06-17 09:10:52,055 - INFO - Processing image /data/4-YQVM_9ac33726c539459d10cd6f6c97a6c9c77b0eefd4545f9eb551fbe334a9b59ad7/Dataset_4-YQVM/data/asset/Image/Multimodal_1204_Multimodal_2555_Multimodal_11355_Left_Field_2.jpg : , trial 2, color channel green, resize function imgResize_secondary\n"
     ]
    },
    {
     "name": "stdout",
     "output_type": "stream",
     "text": [
      "1/1 [==============================] - 0s 20ms/step\n"
     ]
    },
    {
     "name": "stderr",
     "output_type": "stream",
     "text": [
      "2025-06-17 09:10:52,624 - INFO - Processing image /data/4-YQVM_9ac33726c539459d10cd6f6c97a6c9c77b0eefd4545f9eb551fbe334a9b59ad7/Dataset_4-YQVM/data/asset/Image/Multimodal_1204_Multimodal_2555_Multimodal_11355_Left_Field_2.jpg : , trial 3, color channel red, resize function imgResize_secondary\n"
     ]
    },
    {
     "name": "stdout",
     "output_type": "stream",
     "text": [
      "1/1 [==============================] - 0s 20ms/step\n"
     ]
    },
    {
     "name": "stderr",
     "output_type": "stream",
     "text": [
      "2025-06-17 09:10:53,385 - INFO - Processing image /data/4-YQVM_9ac33726c539459d10cd6f6c97a6c9c77b0eefd4545f9eb551fbe334a9b59ad7/Dataset_4-YQVM/data/asset/Image/Multimodal_1204_Multimodal_2555_Multimodal_11355_Left_Field_2.jpg : , trial 4, color channel blue, resize function imgResize_secondary\n"
     ]
    },
    {
     "name": "stdout",
     "output_type": "stream",
     "text": [
      "1/1 [==============================] - 0s 20ms/step\n"
     ]
    },
    {
     "name": "stderr",
     "output_type": "stream",
     "text": [
      "2025-06-17 09:10:53,912 - INFO - Processing image /data/4-YQVM_9ac33726c539459d10cd6f6c97a6c9c77b0eefd4545f9eb551fbe334a9b59ad7/Dataset_4-YQVM/data/asset/Image/Multimodal_1204_Multimodal_2555_Multimodal_11355_Left_Field_2.jpg : , trial 1, color channel grey, resize function imgResize_primary\n"
     ]
    },
    {
     "name": "stdout",
     "output_type": "stream",
     "text": [
      "1/1 [==============================] - 0s 20ms/step\n"
     ]
    },
    {
     "name": "stderr",
     "output_type": "stream",
     "text": [
      "2025-06-17 09:10:54,364 - INFO - Processing image /data/4-YQVM_9ac33726c539459d10cd6f6c97a6c9c77b0eefd4545f9eb551fbe334a9b59ad7/Dataset_4-YQVM/data/asset/Image/Multimodal_1204_Multimodal_2555_Multimodal_11355_Left_Field_2.jpg : , trial 2, color channel green, resize function imgResize_primary\n"
     ]
    },
    {
     "name": "stdout",
     "output_type": "stream",
     "text": [
      "1/1 [==============================] - 0s 20ms/step\n"
     ]
    },
    {
     "name": "stderr",
     "output_type": "stream",
     "text": [
      "2025-06-17 09:10:54,746 - INFO - Processing image /data/4-YQVM_9ac33726c539459d10cd6f6c97a6c9c77b0eefd4545f9eb551fbe334a9b59ad7/Dataset_4-YQVM/data/asset/Image/Multimodal_1204_Multimodal_2555_Multimodal_11355_Left_Field_2.jpg : , trial 3, color channel red, resize function imgResize_primary\n"
     ]
    },
    {
     "name": "stdout",
     "output_type": "stream",
     "text": [
      "1/1 [==============================] - 0s 20ms/step\n"
     ]
    },
    {
     "name": "stderr",
     "output_type": "stream",
     "text": [
      "2025-06-17 09:10:55,228 - INFO - Processing image /data/4-YQVM_9ac33726c539459d10cd6f6c97a6c9c77b0eefd4545f9eb551fbe334a9b59ad7/Dataset_4-YQVM/data/asset/Image/Multimodal_1204_Multimodal_2555_Multimodal_11355_Left_Field_2.jpg : , trial 4, color channel blue, resize function imgResize_primary\n"
     ]
    },
    {
     "name": "stdout",
     "output_type": "stream",
     "text": [
      "1/1 [==============================] - 0s 20ms/step\n"
     ]
    },
    {
     "name": "stderr",
     "output_type": "stream",
     "text": [
      "2025-06-17 09:10:55,700 - INFO - Processing image /data/4-YQVM_9ac33726c539459d10cd6f6c97a6c9c77b0eefd4545f9eb551fbe334a9b59ad7/Dataset_4-YQVM/data/asset/Image/Multimodal_1204_Multimodal_2555_Multimodal_11355_Left_Field_2.jpg : , trial 1, color channel grey, resize function imgResize_secondary\n"
     ]
    },
    {
     "name": "stdout",
     "output_type": "stream",
     "text": [
      "1/1 [==============================] - 0s 20ms/step\n"
     ]
    },
    {
     "name": "stderr",
     "output_type": "stream",
     "text": [
      "2025-06-17 09:10:56,321 - INFO - Processing image /data/4-YQVM_9ac33726c539459d10cd6f6c97a6c9c77b0eefd4545f9eb551fbe334a9b59ad7/Dataset_4-YQVM/data/asset/Image/Multimodal_1204_Multimodal_2555_Multimodal_11355_Left_Field_2.jpg : , trial 2, color channel green, resize function imgResize_secondary\n"
     ]
    },
    {
     "name": "stdout",
     "output_type": "stream",
     "text": [
      "1/1 [==============================] - 0s 20ms/step\n"
     ]
    },
    {
     "name": "stderr",
     "output_type": "stream",
     "text": [
      "2025-06-17 09:10:56,815 - INFO - Processing image /data/4-YQVM_9ac33726c539459d10cd6f6c97a6c9c77b0eefd4545f9eb551fbe334a9b59ad7/Dataset_4-YQVM/data/asset/Image/Multimodal_1204_Multimodal_2555_Multimodal_11355_Left_Field_2.jpg : , trial 3, color channel red, resize function imgResize_secondary\n"
     ]
    },
    {
     "name": "stdout",
     "output_type": "stream",
     "text": [
      "1/1 [==============================] - 0s 20ms/step\n"
     ]
    },
    {
     "name": "stderr",
     "output_type": "stream",
     "text": [
      "2025-06-17 09:10:57,495 - INFO - Processing image /data/4-YQVM_9ac33726c539459d10cd6f6c97a6c9c77b0eefd4545f9eb551fbe334a9b59ad7/Dataset_4-YQVM/data/asset/Image/Multimodal_1204_Multimodal_2555_Multimodal_11355_Left_Field_2.jpg : , trial 4, color channel blue, resize function imgResize_secondary\n"
     ]
    },
    {
     "name": "stdout",
     "output_type": "stream",
     "text": [
      "1/1 [==============================] - 0s 20ms/step\n"
     ]
    },
    {
     "name": "stderr",
     "output_type": "stream",
     "text": [
      "2025-06-17 09:10:58,007 - INFO - Processing image /data/4-YQVM_9ac33726c539459d10cd6f6c97a6c9c77b0eefd4545f9eb551fbe334a9b59ad7/Dataset_4-YQVM/data/asset/Image/Multimodal_1204_Multimodal_2555_Multimodal_11355_Left_Field_2.jpg : , trial 1, color channel grey, resize function imgResize_primary\n"
     ]
    },
    {
     "name": "stdout",
     "output_type": "stream",
     "text": [
      "1/1 [==============================] - 0s 20ms/step\n"
     ]
    },
    {
     "name": "stderr",
     "output_type": "stream",
     "text": [
      "2025-06-17 09:10:58,474 - INFO - Processing image /data/4-YQVM_9ac33726c539459d10cd6f6c97a6c9c77b0eefd4545f9eb551fbe334a9b59ad7/Dataset_4-YQVM/data/asset/Image/Multimodal_1204_Multimodal_2555_Multimodal_11355_Left_Field_2.jpg : , trial 2, color channel green, resize function imgResize_primary\n"
     ]
    },
    {
     "name": "stdout",
     "output_type": "stream",
     "text": [
      "1/1 [==============================] - 0s 20ms/step\n"
     ]
    },
    {
     "name": "stderr",
     "output_type": "stream",
     "text": [
      "2025-06-17 09:10:58,863 - INFO - Processing image /data/4-YQVM_9ac33726c539459d10cd6f6c97a6c9c77b0eefd4545f9eb551fbe334a9b59ad7/Dataset_4-YQVM/data/asset/Image/Multimodal_1204_Multimodal_2555_Multimodal_11355_Left_Field_2.jpg : , trial 3, color channel red, resize function imgResize_primary\n"
     ]
    },
    {
     "name": "stdout",
     "output_type": "stream",
     "text": [
      "1/1 [==============================] - 0s 20ms/step\n"
     ]
    },
    {
     "name": "stderr",
     "output_type": "stream",
     "text": [
      "2025-06-17 09:10:59,314 - INFO - Processing image /data/4-YQVM_9ac33726c539459d10cd6f6c97a6c9c77b0eefd4545f9eb551fbe334a9b59ad7/Dataset_4-YQVM/data/asset/Image/Multimodal_1204_Multimodal_2555_Multimodal_11355_Left_Field_2.jpg : , trial 4, color channel blue, resize function imgResize_primary\n"
     ]
    },
    {
     "name": "stdout",
     "output_type": "stream",
     "text": [
      "1/1 [==============================] - 0s 20ms/step\n"
     ]
    },
    {
     "name": "stderr",
     "output_type": "stream",
     "text": [
      "2025-06-17 09:10:59,691 - INFO - Processing image /data/4-YQVM_9ac33726c539459d10cd6f6c97a6c9c77b0eefd4545f9eb551fbe334a9b59ad7/Dataset_4-YQVM/data/asset/Image/Multimodal_1204_Multimodal_2555_Multimodal_11355_Left_Field_2.jpg : , trial 1, color channel grey, resize function imgResize_secondary\n"
     ]
    },
    {
     "name": "stdout",
     "output_type": "stream",
     "text": [
      "1/1 [==============================] - 0s 20ms/step\n"
     ]
    },
    {
     "name": "stderr",
     "output_type": "stream",
     "text": [
      "2025-06-17 09:11:00,326 - INFO - Processing image /data/4-YQVM_9ac33726c539459d10cd6f6c97a6c9c77b0eefd4545f9eb551fbe334a9b59ad7/Dataset_4-YQVM/data/asset/Image/Multimodal_1204_Multimodal_2555_Multimodal_11355_Left_Field_2.jpg : , trial 2, color channel green, resize function imgResize_secondary\n"
     ]
    },
    {
     "name": "stdout",
     "output_type": "stream",
     "text": [
      "1/1 [==============================] - 0s 21ms/step\n"
     ]
    },
    {
     "name": "stderr",
     "output_type": "stream",
     "text": [
      "2025-06-17 09:11:00,886 - INFO - Processing image /data/4-YQVM_9ac33726c539459d10cd6f6c97a6c9c77b0eefd4545f9eb551fbe334a9b59ad7/Dataset_4-YQVM/data/asset/Image/Multimodal_1204_Multimodal_2555_Multimodal_11355_Left_Field_2.jpg : , trial 3, color channel red, resize function imgResize_secondary\n"
     ]
    },
    {
     "name": "stdout",
     "output_type": "stream",
     "text": [
      "1/1 [==============================] - 0s 20ms/step\n"
     ]
    },
    {
     "name": "stderr",
     "output_type": "stream",
     "text": [
      "2025-06-17 09:11:01,524 - INFO - Processing image /data/4-YQVM_9ac33726c539459d10cd6f6c97a6c9c77b0eefd4545f9eb551fbe334a9b59ad7/Dataset_4-YQVM/data/asset/Image/Multimodal_1204_Multimodal_2555_Multimodal_11355_Left_Field_2.jpg : , trial 4, color channel blue, resize function imgResize_secondary\n"
     ]
    },
    {
     "name": "stdout",
     "output_type": "stream",
     "text": [
      "1/1 [==============================] - 0s 20ms/step\n"
     ]
    },
    {
     "name": "stderr",
     "output_type": "stream",
     "text": [
      "2025-06-17 09:11:02,081 - INFO - Processing image /data/4-YQVM_9ac33726c539459d10cd6f6c97a6c9c77b0eefd4545f9eb551fbe334a9b59ad7/Dataset_4-YQVM/data/asset/Image/Multimodal_1204_Multimodal_2555_Multimodal_11355_Left_Field_2.jpg : , trial 1, color channel grey, resize function imgResize_primary\n"
     ]
    },
    {
     "name": "stdout",
     "output_type": "stream",
     "text": [
      "1/1 [==============================] - 0s 20ms/step\n"
     ]
    },
    {
     "name": "stderr",
     "output_type": "stream",
     "text": [
      "2025-06-17 09:11:02,481 - INFO - Processing image /data/4-YQVM_9ac33726c539459d10cd6f6c97a6c9c77b0eefd4545f9eb551fbe334a9b59ad7/Dataset_4-YQVM/data/asset/Image/Multimodal_1204_Multimodal_2555_Multimodal_11355_Left_Field_2.jpg : , trial 2, color channel green, resize function imgResize_primary\n"
     ]
    },
    {
     "name": "stdout",
     "output_type": "stream",
     "text": [
      "1/1 [==============================] - 0s 20ms/step\n"
     ]
    },
    {
     "name": "stderr",
     "output_type": "stream",
     "text": [
      "2025-06-17 09:11:02,806 - INFO - Processing image /data/4-YQVM_9ac33726c539459d10cd6f6c97a6c9c77b0eefd4545f9eb551fbe334a9b59ad7/Dataset_4-YQVM/data/asset/Image/Multimodal_1204_Multimodal_2555_Multimodal_11355_Left_Field_2.jpg : , trial 3, color channel red, resize function imgResize_primary\n"
     ]
    },
    {
     "name": "stdout",
     "output_type": "stream",
     "text": [
      "1/1 [==============================] - 0s 20ms/step\n"
     ]
    },
    {
     "name": "stderr",
     "output_type": "stream",
     "text": [
      "2025-06-17 09:11:03,252 - INFO - Processing image /data/4-YQVM_9ac33726c539459d10cd6f6c97a6c9c77b0eefd4545f9eb551fbe334a9b59ad7/Dataset_4-YQVM/data/asset/Image/Multimodal_1204_Multimodal_2555_Multimodal_11355_Left_Field_2.jpg : , trial 4, color channel blue, resize function imgResize_primary\n"
     ]
    },
    {
     "name": "stdout",
     "output_type": "stream",
     "text": [
      "1/1 [==============================] - 0s 20ms/step\n"
     ]
    },
    {
     "name": "stderr",
     "output_type": "stream",
     "text": [
      "2025-06-17 09:11:03,731 - INFO - Processing image /data/4-YQVM_9ac33726c539459d10cd6f6c97a6c9c77b0eefd4545f9eb551fbe334a9b59ad7/Dataset_4-YQVM/data/asset/Image/Multimodal_1204_Multimodal_2555_Multimodal_11355_Left_Field_2.jpg : , trial 1, color channel grey, resize function imgResize_secondary\n"
     ]
    },
    {
     "name": "stdout",
     "output_type": "stream",
     "text": [
      "1/1 [==============================] - 0s 20ms/step\n"
     ]
    },
    {
     "name": "stderr",
     "output_type": "stream",
     "text": [
      "2025-06-17 09:11:04,341 - INFO - Processing image /data/4-YQVM_9ac33726c539459d10cd6f6c97a6c9c77b0eefd4545f9eb551fbe334a9b59ad7/Dataset_4-YQVM/data/asset/Image/Multimodal_1204_Multimodal_2555_Multimodal_11355_Left_Field_2.jpg : , trial 2, color channel green, resize function imgResize_secondary\n"
     ]
    },
    {
     "name": "stdout",
     "output_type": "stream",
     "text": [
      "1/1 [==============================] - 0s 20ms/step\n"
     ]
    },
    {
     "name": "stderr",
     "output_type": "stream",
     "text": [
      "2025-06-17 09:11:04,780 - INFO - Processing image /data/4-YQVM_9ac33726c539459d10cd6f6c97a6c9c77b0eefd4545f9eb551fbe334a9b59ad7/Dataset_4-YQVM/data/asset/Image/Multimodal_1204_Multimodal_2555_Multimodal_11355_Left_Field_2.jpg : , trial 3, color channel red, resize function imgResize_secondary\n"
     ]
    },
    {
     "name": "stdout",
     "output_type": "stream",
     "text": [
      "1/1 [==============================] - 0s 20ms/step\n"
     ]
    },
    {
     "name": "stderr",
     "output_type": "stream",
     "text": [
      "2025-06-17 09:11:05,470 - INFO - Processing image /data/4-YQVM_9ac33726c539459d10cd6f6c97a6c9c77b0eefd4545f9eb551fbe334a9b59ad7/Dataset_4-YQVM/data/asset/Image/Multimodal_1204_Multimodal_2555_Multimodal_11355_Left_Field_2.jpg : , trial 4, color channel blue, resize function imgResize_secondary\n"
     ]
    },
    {
     "name": "stdout",
     "output_type": "stream",
     "text": [
      "1/1 [==============================] - 0s 20ms/step\n"
     ]
    },
    {
     "name": "stderr",
     "output_type": "stream",
     "text": [
      "2025-06-17 09:11:06,044 - INFO - Processing image /data/4-YQVM_9ac33726c539459d10cd6f6c97a6c9c77b0eefd4545f9eb551fbe334a9b59ad7/Dataset_4-YQVM/data/asset/Image/Multimodal_1204_Multimodal_2555_Multimodal_11355_Left_Field_2.jpg : , trial 1, color channel grey, resize function imgResize_primary\n"
     ]
    },
    {
     "name": "stdout",
     "output_type": "stream",
     "text": [
      "1/1 [==============================] - 0s 20ms/step\n"
     ]
    },
    {
     "name": "stderr",
     "output_type": "stream",
     "text": [
      "2025-06-17 09:11:06,436 - INFO - Processing image /data/4-YQVM_9ac33726c539459d10cd6f6c97a6c9c77b0eefd4545f9eb551fbe334a9b59ad7/Dataset_4-YQVM/data/asset/Image/Multimodal_1204_Multimodal_2555_Multimodal_11355_Left_Field_2.jpg : , trial 2, color channel green, resize function imgResize_primary\n"
     ]
    },
    {
     "name": "stdout",
     "output_type": "stream",
     "text": [
      "1/1 [==============================] - 0s 20ms/step\n"
     ]
    },
    {
     "name": "stderr",
     "output_type": "stream",
     "text": [
      "2025-06-17 09:11:06,793 - INFO - Processing image /data/4-YQVM_9ac33726c539459d10cd6f6c97a6c9c77b0eefd4545f9eb551fbe334a9b59ad7/Dataset_4-YQVM/data/asset/Image/Multimodal_1204_Multimodal_2555_Multimodal_11355_Left_Field_2.jpg : , trial 3, color channel red, resize function imgResize_primary\n"
     ]
    },
    {
     "name": "stdout",
     "output_type": "stream",
     "text": [
      "1/1 [==============================] - 0s 20ms/step\n"
     ]
    },
    {
     "name": "stderr",
     "output_type": "stream",
     "text": [
      "2025-06-17 09:11:07,268 - INFO - Processing image /data/4-YQVM_9ac33726c539459d10cd6f6c97a6c9c77b0eefd4545f9eb551fbe334a9b59ad7/Dataset_4-YQVM/data/asset/Image/Multimodal_1204_Multimodal_2555_Multimodal_11355_Left_Field_2.jpg : , trial 4, color channel blue, resize function imgResize_primary\n"
     ]
    },
    {
     "name": "stdout",
     "output_type": "stream",
     "text": [
      "1/1 [==============================] - 0s 20ms/step\n"
     ]
    },
    {
     "name": "stderr",
     "output_type": "stream",
     "text": [
      "2025-06-17 09:11:07,688 - INFO - Processing image /data/4-YQVM_9ac33726c539459d10cd6f6c97a6c9c77b0eefd4545f9eb551fbe334a9b59ad7/Dataset_4-YQVM/data/asset/Image/Multimodal_1204_Multimodal_2555_Multimodal_11355_Left_Field_2.jpg : , trial 1, color channel grey, resize function imgResize_secondary\n"
     ]
    },
    {
     "name": "stdout",
     "output_type": "stream",
     "text": [
      "1/1 [==============================] - 0s 20ms/step\n"
     ]
    },
    {
     "name": "stderr",
     "output_type": "stream",
     "text": [
      "2025-06-17 09:11:08,372 - INFO - Processing image /data/4-YQVM_9ac33726c539459d10cd6f6c97a6c9c77b0eefd4545f9eb551fbe334a9b59ad7/Dataset_4-YQVM/data/asset/Image/Multimodal_1204_Multimodal_2555_Multimodal_11355_Left_Field_2.jpg : , trial 2, color channel green, resize function imgResize_secondary\n"
     ]
    },
    {
     "name": "stdout",
     "output_type": "stream",
     "text": [
      "1/1 [==============================] - 0s 20ms/step\n"
     ]
    },
    {
     "name": "stderr",
     "output_type": "stream",
     "text": [
      "2025-06-17 09:11:08,818 - INFO - Processing image /data/4-YQVM_9ac33726c539459d10cd6f6c97a6c9c77b0eefd4545f9eb551fbe334a9b59ad7/Dataset_4-YQVM/data/asset/Image/Multimodal_1204_Multimodal_2555_Multimodal_11355_Left_Field_2.jpg : , trial 3, color channel red, resize function imgResize_secondary\n"
     ]
    },
    {
     "name": "stdout",
     "output_type": "stream",
     "text": [
      "1/1 [==============================] - 0s 20ms/step\n"
     ]
    },
    {
     "name": "stderr",
     "output_type": "stream",
     "text": [
      "2025-06-17 09:11:09,590 - INFO - Processing image /data/4-YQVM_9ac33726c539459d10cd6f6c97a6c9c77b0eefd4545f9eb551fbe334a9b59ad7/Dataset_4-YQVM/data/asset/Image/Multimodal_1204_Multimodal_2555_Multimodal_11355_Left_Field_2.jpg : , trial 4, color channel blue, resize function imgResize_secondary\n"
     ]
    },
    {
     "name": "stdout",
     "output_type": "stream",
     "text": [
      "1/1 [==============================] - 0s 20ms/step\n"
     ]
    },
    {
     "name": "stderr",
     "output_type": "stream",
     "text": [
      "2025-06-17 09:11:10,235 - INFO - SVG for 4-YRV8 saved.\n",
      "2025-06-17 09:11:10,294 - INFO - Processing image /data/4-YQVM_9ac33726c539459d10cd6f6c97a6c9c77b0eefd4545f9eb551fbe334a9b59ad7/Dataset_4-YQVM/data/asset/Image/Multimodal_1215_Multimodal_2576_Multimodal_11375_Right_Field_1.jpg : , trial 1, color channel grey, resize function imgResize_primary\n"
     ]
    },
    {
     "name": "stdout",
     "output_type": "stream",
     "text": [
      "1/1 [==============================] - 0s 20ms/step\n"
     ]
    },
    {
     "name": "stderr",
     "output_type": "stream",
     "text": [
      "2025-06-17 09:11:11,213 - INFO - SVG for 4-YRVA saved.\n",
      "2025-06-17 09:11:11,276 - INFO - Processing image /data/4-YQVM_9ac33726c539459d10cd6f6c97a6c9c77b0eefd4545f9eb551fbe334a9b59ad7/Dataset_4-YQVM/data/asset/Image/Multimodal_1233_Multimodal_2608_Multimodal_11408_Left_Field_1.jpg : , trial 1, color channel grey, resize function imgResize_primary\n"
     ]
    },
    {
     "name": "stdout",
     "output_type": "stream",
     "text": [
      "1/1 [==============================] - 0s 20ms/step\n"
     ]
    },
    {
     "name": "stderr",
     "output_type": "stream",
     "text": [
      "2025-06-17 09:11:11,921 - INFO - SVG for 4-YRVC saved.\n",
      "2025-06-17 09:11:11,978 - INFO - Processing image /data/4-YQVM_9ac33726c539459d10cd6f6c97a6c9c77b0eefd4545f9eb551fbe334a9b59ad7/Dataset_4-YQVM/data/asset/Image/Multimodal_1309_Multimodal_2741_Multimodal_11540_Left_Field_2.jpg : , trial 1, color channel grey, resize function imgResize_primary\n"
     ]
    },
    {
     "name": "stdout",
     "output_type": "stream",
     "text": [
      "1/1 [==============================] - 0s 20ms/step\n"
     ]
    },
    {
     "name": "stderr",
     "output_type": "stream",
     "text": [
      "2025-06-17 09:11:12,652 - INFO - SVG for 4-YRVE saved.\n",
      "2025-06-17 09:11:12,711 - INFO - Processing image /data/4-YQVM_9ac33726c539459d10cd6f6c97a6c9c77b0eefd4545f9eb551fbe334a9b59ad7/Dataset_4-YQVM/data/asset/Image/Multimodal_1249_Multimodal_2638_Multimodal_11437_Right_Field_2.jpg : , trial 1, color channel grey, resize function imgResize_primary\n"
     ]
    },
    {
     "name": "stdout",
     "output_type": "stream",
     "text": [
      "1/1 [==============================] - 0s 20ms/step\n"
     ]
    },
    {
     "name": "stderr",
     "output_type": "stream",
     "text": [
      "2025-06-17 09:11:13,414 - INFO - SVG for 4-YRVG saved.\n",
      "2025-06-17 09:11:13,473 - INFO - Processing image /data/4-YQVM_9ac33726c539459d10cd6f6c97a6c9c77b0eefd4545f9eb551fbe334a9b59ad7/Dataset_4-YQVM/data/asset/Image/Multimodal_1311_Multimodal_2744_Multimodal_11543_Right_Field_2.jpg : , trial 1, color channel grey, resize function imgResize_primary\n"
     ]
    },
    {
     "name": "stdout",
     "output_type": "stream",
     "text": [
      "1/1 [==============================] - 0s 20ms/step\n"
     ]
    },
    {
     "name": "stderr",
     "output_type": "stream",
     "text": [
      "2025-06-17 09:11:14,116 - INFO - SVG for 4-YRVJ saved.\n",
      "2025-06-17 09:11:14,175 - INFO - Processing image /data/4-YQVM_9ac33726c539459d10cd6f6c97a6c9c77b0eefd4545f9eb551fbe334a9b59ad7/Dataset_4-YQVM/data/asset/Image/Multimodal_1238_Multimodal_2617_Multimodal_11417_Left_Field_1.jpg : , trial 1, color channel grey, resize function imgResize_primary\n"
     ]
    },
    {
     "name": "stdout",
     "output_type": "stream",
     "text": [
      "1/1 [==============================] - 0s 20ms/step\n"
     ]
    },
    {
     "name": "stderr",
     "output_type": "stream",
     "text": [
      "2025-06-17 09:11:14,949 - INFO - SVG for 4-YRVM saved.\n",
      "2025-06-17 09:11:15,009 - INFO - Processing image /data/4-YQVM_9ac33726c539459d10cd6f6c97a6c9c77b0eefd4545f9eb551fbe334a9b59ad7/Dataset_4-YQVM/data/asset/Image/Multimodal_1267_Multimodal_2668_Multimodal_11467_Right_Field_1.jpg : , trial 1, color channel grey, resize function imgResize_primary\n"
     ]
    },
    {
     "name": "stdout",
     "output_type": "stream",
     "text": [
      "1/1 [==============================] - 0s 20ms/step\n"
     ]
    },
    {
     "name": "stderr",
     "output_type": "stream",
     "text": [
      "2025-06-17 09:11:15,679 - INFO - SVG for 4-YRVP saved.\n",
      "2025-06-17 09:11:15,737 - INFO - Processing image /data/4-YQVM_9ac33726c539459d10cd6f6c97a6c9c77b0eefd4545f9eb551fbe334a9b59ad7/Dataset_4-YQVM/data/asset/Image/Multimodal_1287_Multimodal_2701_Multimodal_11501_Left_Field_2.jpg : , trial 1, color channel grey, resize function imgResize_primary\n"
     ]
    },
    {
     "name": "stdout",
     "output_type": "stream",
     "text": [
      "1/1 [==============================] - 0s 21ms/step\n"
     ]
    },
    {
     "name": "stderr",
     "output_type": "stream",
     "text": [
      "2025-06-17 09:11:16,640 - INFO - SVG for 4-YRVR saved.\n",
      "2025-06-17 09:11:16,698 - INFO - Processing image /data/4-YQVM_9ac33726c539459d10cd6f6c97a6c9c77b0eefd4545f9eb551fbe334a9b59ad7/Dataset_4-YQVM/data/asset/Image/Multimodal_1225_Multimodal_2594_Multimodal_11393_Right_Field_2.jpg : , trial 1, color channel grey, resize function imgResize_primary\n"
     ]
    },
    {
     "name": "stdout",
     "output_type": "stream",
     "text": [
      "1/1 [==============================] - 0s 21ms/step\n"
     ]
    },
    {
     "name": "stderr",
     "output_type": "stream",
     "text": [
      "2025-06-17 09:11:17,333 - INFO - SVG for 4-YRVT saved.\n",
      "2025-06-17 09:11:17,392 - INFO - Processing image /data/4-YQVM_9ac33726c539459d10cd6f6c97a6c9c77b0eefd4545f9eb551fbe334a9b59ad7/Dataset_4-YQVM/data/asset/Image/Multimodal_1203_Multimodal_2553_Multimodal_11352_Right_Field_2.jpg : , trial 1, color channel grey, resize function imgResize_primary\n"
     ]
    },
    {
     "name": "stdout",
     "output_type": "stream",
     "text": [
      "1/1 [==============================] - 0s 20ms/step\n"
     ]
    },
    {
     "name": "stderr",
     "output_type": "stream",
     "text": [
      "2025-06-17 09:11:18,201 - INFO - Processing image /data/4-YQVM_9ac33726c539459d10cd6f6c97a6c9c77b0eefd4545f9eb551fbe334a9b59ad7/Dataset_4-YQVM/data/asset/Image/Multimodal_1203_Multimodal_2553_Multimodal_11352_Right_Field_2.jpg : , trial 2, color channel green, resize function imgResize_primary\n"
     ]
    },
    {
     "name": "stdout",
     "output_type": "stream",
     "text": [
      "1/1 [==============================] - 0s 20ms/step\n"
     ]
    },
    {
     "name": "stderr",
     "output_type": "stream",
     "text": [
      "2025-06-17 09:11:18,796 - INFO - Processing image /data/4-YQVM_9ac33726c539459d10cd6f6c97a6c9c77b0eefd4545f9eb551fbe334a9b59ad7/Dataset_4-YQVM/data/asset/Image/Multimodal_1203_Multimodal_2553_Multimodal_11352_Right_Field_2.jpg : , trial 3, color channel red, resize function imgResize_primary\n"
     ]
    },
    {
     "name": "stdout",
     "output_type": "stream",
     "text": [
      "1/1 [==============================] - 0s 20ms/step\n"
     ]
    },
    {
     "name": "stderr",
     "output_type": "stream",
     "text": [
      "2025-06-17 09:11:19,447 - INFO - Processing image /data/4-YQVM_9ac33726c539459d10cd6f6c97a6c9c77b0eefd4545f9eb551fbe334a9b59ad7/Dataset_4-YQVM/data/asset/Image/Multimodal_1203_Multimodal_2553_Multimodal_11352_Right_Field_2.jpg : , trial 4, color channel blue, resize function imgResize_primary\n"
     ]
    },
    {
     "name": "stdout",
     "output_type": "stream",
     "text": [
      "1/1 [==============================] - 0s 20ms/step\n"
     ]
    },
    {
     "name": "stderr",
     "output_type": "stream",
     "text": [
      "2025-06-17 09:11:20,013 - INFO - Processing image /data/4-YQVM_9ac33726c539459d10cd6f6c97a6c9c77b0eefd4545f9eb551fbe334a9b59ad7/Dataset_4-YQVM/data/asset/Image/Multimodal_1203_Multimodal_2553_Multimodal_11352_Right_Field_2.jpg : , trial 1, color channel grey, resize function imgResize_secondary\n"
     ]
    },
    {
     "name": "stdout",
     "output_type": "stream",
     "text": [
      "1/1 [==============================] - 0s 20ms/step\n"
     ]
    },
    {
     "name": "stderr",
     "output_type": "stream",
     "text": [
      "2025-06-17 09:11:21,201 - INFO - Processing image /data/4-YQVM_9ac33726c539459d10cd6f6c97a6c9c77b0eefd4545f9eb551fbe334a9b59ad7/Dataset_4-YQVM/data/asset/Image/Multimodal_1203_Multimodal_2553_Multimodal_11352_Right_Field_2.jpg : , trial 2, color channel green, resize function imgResize_secondary\n"
     ]
    },
    {
     "name": "stdout",
     "output_type": "stream",
     "text": [
      "1/1 [==============================] - 0s 20ms/step\n"
     ]
    },
    {
     "name": "stderr",
     "output_type": "stream",
     "text": [
      "2025-06-17 09:11:22,532 - INFO - Processing image /data/4-YQVM_9ac33726c539459d10cd6f6c97a6c9c77b0eefd4545f9eb551fbe334a9b59ad7/Dataset_4-YQVM/data/asset/Image/Multimodal_1203_Multimodal_2553_Multimodal_11352_Right_Field_2.jpg : , trial 3, color channel red, resize function imgResize_secondary\n"
     ]
    },
    {
     "name": "stdout",
     "output_type": "stream",
     "text": [
      "1/1 [==============================] - 0s 20ms/step\n"
     ]
    },
    {
     "name": "stderr",
     "output_type": "stream",
     "text": [
      "2025-06-17 09:11:23,459 - INFO - Processing image /data/4-YQVM_9ac33726c539459d10cd6f6c97a6c9c77b0eefd4545f9eb551fbe334a9b59ad7/Dataset_4-YQVM/data/asset/Image/Multimodal_1203_Multimodal_2553_Multimodal_11352_Right_Field_2.jpg : , trial 4, color channel blue, resize function imgResize_secondary\n"
     ]
    },
    {
     "name": "stdout",
     "output_type": "stream",
     "text": [
      "1/1 [==============================] - 0s 20ms/step\n"
     ]
    },
    {
     "name": "stderr",
     "output_type": "stream",
     "text": [
      "2025-06-17 09:11:24,274 - INFO - Processing image /data/4-YQVM_9ac33726c539459d10cd6f6c97a6c9c77b0eefd4545f9eb551fbe334a9b59ad7/Dataset_4-YQVM/data/asset/Image/Multimodal_1203_Multimodal_2553_Multimodal_11352_Right_Field_2.jpg : , trial 1, color channel grey, resize function imgResize_primary\n"
     ]
    },
    {
     "name": "stdout",
     "output_type": "stream",
     "text": [
      "1/1 [==============================] - 0s 20ms/step\n"
     ]
    },
    {
     "name": "stderr",
     "output_type": "stream",
     "text": [
      "2025-06-17 09:11:24,968 - INFO - Processing image /data/4-YQVM_9ac33726c539459d10cd6f6c97a6c9c77b0eefd4545f9eb551fbe334a9b59ad7/Dataset_4-YQVM/data/asset/Image/Multimodal_1203_Multimodal_2553_Multimodal_11352_Right_Field_2.jpg : , trial 2, color channel green, resize function imgResize_primary\n"
     ]
    },
    {
     "name": "stdout",
     "output_type": "stream",
     "text": [
      "1/1 [==============================] - 0s 20ms/step\n"
     ]
    },
    {
     "name": "stderr",
     "output_type": "stream",
     "text": [
      "2025-06-17 09:11:25,786 - INFO - Processing image /data/4-YQVM_9ac33726c539459d10cd6f6c97a6c9c77b0eefd4545f9eb551fbe334a9b59ad7/Dataset_4-YQVM/data/asset/Image/Multimodal_1203_Multimodal_2553_Multimodal_11352_Right_Field_2.jpg : , trial 3, color channel red, resize function imgResize_primary\n"
     ]
    },
    {
     "name": "stdout",
     "output_type": "stream",
     "text": [
      "1/1 [==============================] - 0s 20ms/step\n"
     ]
    },
    {
     "name": "stderr",
     "output_type": "stream",
     "text": [
      "2025-06-17 09:11:26,356 - INFO - Processing image /data/4-YQVM_9ac33726c539459d10cd6f6c97a6c9c77b0eefd4545f9eb551fbe334a9b59ad7/Dataset_4-YQVM/data/asset/Image/Multimodal_1203_Multimodal_2553_Multimodal_11352_Right_Field_2.jpg : , trial 4, color channel blue, resize function imgResize_primary\n"
     ]
    },
    {
     "name": "stdout",
     "output_type": "stream",
     "text": [
      "1/1 [==============================] - 0s 20ms/step\n"
     ]
    },
    {
     "name": "stderr",
     "output_type": "stream",
     "text": [
      "2025-06-17 09:11:26,901 - INFO - Processing image /data/4-YQVM_9ac33726c539459d10cd6f6c97a6c9c77b0eefd4545f9eb551fbe334a9b59ad7/Dataset_4-YQVM/data/asset/Image/Multimodal_1203_Multimodal_2553_Multimodal_11352_Right_Field_2.jpg : , trial 1, color channel grey, resize function imgResize_secondary\n"
     ]
    },
    {
     "name": "stdout",
     "output_type": "stream",
     "text": [
      "1/1 [==============================] - 0s 20ms/step\n"
     ]
    },
    {
     "name": "stderr",
     "output_type": "stream",
     "text": [
      "2025-06-17 09:11:27,820 - INFO - Processing image /data/4-YQVM_9ac33726c539459d10cd6f6c97a6c9c77b0eefd4545f9eb551fbe334a9b59ad7/Dataset_4-YQVM/data/asset/Image/Multimodal_1203_Multimodal_2553_Multimodal_11352_Right_Field_2.jpg : , trial 2, color channel green, resize function imgResize_secondary\n"
     ]
    },
    {
     "name": "stdout",
     "output_type": "stream",
     "text": [
      "1/1 [==============================] - 0s 21ms/step\n"
     ]
    },
    {
     "name": "stderr",
     "output_type": "stream",
     "text": [
      "2025-06-17 09:11:29,221 - INFO - Processing image /data/4-YQVM_9ac33726c539459d10cd6f6c97a6c9c77b0eefd4545f9eb551fbe334a9b59ad7/Dataset_4-YQVM/data/asset/Image/Multimodal_1203_Multimodal_2553_Multimodal_11352_Right_Field_2.jpg : , trial 3, color channel red, resize function imgResize_secondary\n"
     ]
    },
    {
     "name": "stdout",
     "output_type": "stream",
     "text": [
      "1/1 [==============================] - 0s 20ms/step\n"
     ]
    },
    {
     "name": "stderr",
     "output_type": "stream",
     "text": [
      "2025-06-17 09:11:30,211 - INFO - Processing image /data/4-YQVM_9ac33726c539459d10cd6f6c97a6c9c77b0eefd4545f9eb551fbe334a9b59ad7/Dataset_4-YQVM/data/asset/Image/Multimodal_1203_Multimodal_2553_Multimodal_11352_Right_Field_2.jpg : , trial 4, color channel blue, resize function imgResize_secondary\n"
     ]
    },
    {
     "name": "stdout",
     "output_type": "stream",
     "text": [
      "1/1 [==============================] - 0s 20ms/step\n"
     ]
    },
    {
     "name": "stderr",
     "output_type": "stream",
     "text": [
      "2025-06-17 09:11:31,101 - INFO - Processing image /data/4-YQVM_9ac33726c539459d10cd6f6c97a6c9c77b0eefd4545f9eb551fbe334a9b59ad7/Dataset_4-YQVM/data/asset/Image/Multimodal_1203_Multimodal_2553_Multimodal_11352_Right_Field_2.jpg : , trial 1, color channel grey, resize function imgResize_primary\n"
     ]
    },
    {
     "name": "stdout",
     "output_type": "stream",
     "text": [
      "1/1 [==============================] - 0s 20ms/step\n"
     ]
    },
    {
     "name": "stderr",
     "output_type": "stream",
     "text": [
      "2025-06-17 09:11:31,748 - INFO - Processing image /data/4-YQVM_9ac33726c539459d10cd6f6c97a6c9c77b0eefd4545f9eb551fbe334a9b59ad7/Dataset_4-YQVM/data/asset/Image/Multimodal_1203_Multimodal_2553_Multimodal_11352_Right_Field_2.jpg : , trial 2, color channel green, resize function imgResize_primary\n"
     ]
    },
    {
     "name": "stdout",
     "output_type": "stream",
     "text": [
      "1/1 [==============================] - 0s 20ms/step\n"
     ]
    },
    {
     "name": "stderr",
     "output_type": "stream",
     "text": [
      "2025-06-17 09:11:32,212 - INFO - Processing image /data/4-YQVM_9ac33726c539459d10cd6f6c97a6c9c77b0eefd4545f9eb551fbe334a9b59ad7/Dataset_4-YQVM/data/asset/Image/Multimodal_1203_Multimodal_2553_Multimodal_11352_Right_Field_2.jpg : , trial 3, color channel red, resize function imgResize_primary\n"
     ]
    },
    {
     "name": "stdout",
     "output_type": "stream",
     "text": [
      "1/1 [==============================] - 0s 20ms/step\n"
     ]
    },
    {
     "name": "stderr",
     "output_type": "stream",
     "text": [
      "2025-06-17 09:11:32,926 - INFO - Processing image /data/4-YQVM_9ac33726c539459d10cd6f6c97a6c9c77b0eefd4545f9eb551fbe334a9b59ad7/Dataset_4-YQVM/data/asset/Image/Multimodal_1203_Multimodal_2553_Multimodal_11352_Right_Field_2.jpg : , trial 4, color channel blue, resize function imgResize_primary\n"
     ]
    },
    {
     "name": "stdout",
     "output_type": "stream",
     "text": [
      "1/1 [==============================] - 0s 21ms/step\n"
     ]
    },
    {
     "name": "stderr",
     "output_type": "stream",
     "text": [
      "2025-06-17 09:11:33,680 - INFO - Processing image /data/4-YQVM_9ac33726c539459d10cd6f6c97a6c9c77b0eefd4545f9eb551fbe334a9b59ad7/Dataset_4-YQVM/data/asset/Image/Multimodal_1203_Multimodal_2553_Multimodal_11352_Right_Field_2.jpg : , trial 1, color channel grey, resize function imgResize_secondary\n"
     ]
    },
    {
     "name": "stdout",
     "output_type": "stream",
     "text": [
      "1/1 [==============================] - 0s 20ms/step\n"
     ]
    },
    {
     "name": "stderr",
     "output_type": "stream",
     "text": [
      "2025-06-17 09:11:34,970 - INFO - Processing image /data/4-YQVM_9ac33726c539459d10cd6f6c97a6c9c77b0eefd4545f9eb551fbe334a9b59ad7/Dataset_4-YQVM/data/asset/Image/Multimodal_1203_Multimodal_2553_Multimodal_11352_Right_Field_2.jpg : , trial 2, color channel green, resize function imgResize_secondary\n"
     ]
    },
    {
     "name": "stdout",
     "output_type": "stream",
     "text": [
      "1/1 [==============================] - 0s 20ms/step\n"
     ]
    },
    {
     "name": "stderr",
     "output_type": "stream",
     "text": [
      "2025-06-17 09:11:36,082 - INFO - Processing image /data/4-YQVM_9ac33726c539459d10cd6f6c97a6c9c77b0eefd4545f9eb551fbe334a9b59ad7/Dataset_4-YQVM/data/asset/Image/Multimodal_1203_Multimodal_2553_Multimodal_11352_Right_Field_2.jpg : , trial 3, color channel red, resize function imgResize_secondary\n"
     ]
    },
    {
     "name": "stdout",
     "output_type": "stream",
     "text": [
      "1/1 [==============================] - 0s 20ms/step\n"
     ]
    },
    {
     "name": "stderr",
     "output_type": "stream",
     "text": [
      "2025-06-17 09:11:37,108 - INFO - Processing image /data/4-YQVM_9ac33726c539459d10cd6f6c97a6c9c77b0eefd4545f9eb551fbe334a9b59ad7/Dataset_4-YQVM/data/asset/Image/Multimodal_1203_Multimodal_2553_Multimodal_11352_Right_Field_2.jpg : , trial 4, color channel blue, resize function imgResize_secondary\n"
     ]
    },
    {
     "name": "stdout",
     "output_type": "stream",
     "text": [
      "1/1 [==============================] - 0s 20ms/step\n"
     ]
    },
    {
     "name": "stderr",
     "output_type": "stream",
     "text": [
      "2025-06-17 09:11:38,030 - INFO - Processing image /data/4-YQVM_9ac33726c539459d10cd6f6c97a6c9c77b0eefd4545f9eb551fbe334a9b59ad7/Dataset_4-YQVM/data/asset/Image/Multimodal_1203_Multimodal_2553_Multimodal_11352_Right_Field_2.jpg : , trial 1, color channel grey, resize function imgResize_primary\n"
     ]
    },
    {
     "name": "stdout",
     "output_type": "stream",
     "text": [
      "1/1 [==============================] - 0s 21ms/step\n"
     ]
    },
    {
     "name": "stderr",
     "output_type": "stream",
     "text": [
      "2025-06-17 09:11:38,835 - INFO - Processing image /data/4-YQVM_9ac33726c539459d10cd6f6c97a6c9c77b0eefd4545f9eb551fbe334a9b59ad7/Dataset_4-YQVM/data/asset/Image/Multimodal_1203_Multimodal_2553_Multimodal_11352_Right_Field_2.jpg : , trial 2, color channel green, resize function imgResize_primary\n"
     ]
    },
    {
     "name": "stdout",
     "output_type": "stream",
     "text": [
      "1/1 [==============================] - 0s 20ms/step\n"
     ]
    },
    {
     "name": "stderr",
     "output_type": "stream",
     "text": [
      "2025-06-17 09:11:39,498 - INFO - Processing image /data/4-YQVM_9ac33726c539459d10cd6f6c97a6c9c77b0eefd4545f9eb551fbe334a9b59ad7/Dataset_4-YQVM/data/asset/Image/Multimodal_1203_Multimodal_2553_Multimodal_11352_Right_Field_2.jpg : , trial 3, color channel red, resize function imgResize_primary\n"
     ]
    },
    {
     "name": "stdout",
     "output_type": "stream",
     "text": [
      "1/1 [==============================] - 0s 21ms/step\n"
     ]
    },
    {
     "name": "stderr",
     "output_type": "stream",
     "text": [
      "2025-06-17 09:11:40,223 - INFO - Processing image /data/4-YQVM_9ac33726c539459d10cd6f6c97a6c9c77b0eefd4545f9eb551fbe334a9b59ad7/Dataset_4-YQVM/data/asset/Image/Multimodal_1203_Multimodal_2553_Multimodal_11352_Right_Field_2.jpg : , trial 4, color channel blue, resize function imgResize_primary\n"
     ]
    },
    {
     "name": "stdout",
     "output_type": "stream",
     "text": [
      "1/1 [==============================] - 0s 20ms/step\n"
     ]
    },
    {
     "name": "stderr",
     "output_type": "stream",
     "text": [
      "2025-06-17 09:11:40,837 - INFO - Processing image /data/4-YQVM_9ac33726c539459d10cd6f6c97a6c9c77b0eefd4545f9eb551fbe334a9b59ad7/Dataset_4-YQVM/data/asset/Image/Multimodal_1203_Multimodal_2553_Multimodal_11352_Right_Field_2.jpg : , trial 1, color channel grey, resize function imgResize_secondary\n"
     ]
    },
    {
     "name": "stdout",
     "output_type": "stream",
     "text": [
      "1/1 [==============================] - 0s 21ms/step\n"
     ]
    },
    {
     "name": "stderr",
     "output_type": "stream",
     "text": [
      "2025-06-17 09:11:42,054 - INFO - Processing image /data/4-YQVM_9ac33726c539459d10cd6f6c97a6c9c77b0eefd4545f9eb551fbe334a9b59ad7/Dataset_4-YQVM/data/asset/Image/Multimodal_1203_Multimodal_2553_Multimodal_11352_Right_Field_2.jpg : , trial 2, color channel green, resize function imgResize_secondary\n"
     ]
    },
    {
     "name": "stdout",
     "output_type": "stream",
     "text": [
      "1/1 [==============================] - 0s 21ms/step\n"
     ]
    },
    {
     "name": "stderr",
     "output_type": "stream",
     "text": [
      "2025-06-17 09:11:43,238 - INFO - Processing image /data/4-YQVM_9ac33726c539459d10cd6f6c97a6c9c77b0eefd4545f9eb551fbe334a9b59ad7/Dataset_4-YQVM/data/asset/Image/Multimodal_1203_Multimodal_2553_Multimodal_11352_Right_Field_2.jpg : , trial 3, color channel red, resize function imgResize_secondary\n"
     ]
    },
    {
     "name": "stdout",
     "output_type": "stream",
     "text": [
      "1/1 [==============================] - 0s 20ms/step\n"
     ]
    },
    {
     "name": "stderr",
     "output_type": "stream",
     "text": [
      "2025-06-17 09:11:44,171 - INFO - Processing image /data/4-YQVM_9ac33726c539459d10cd6f6c97a6c9c77b0eefd4545f9eb551fbe334a9b59ad7/Dataset_4-YQVM/data/asset/Image/Multimodal_1203_Multimodal_2553_Multimodal_11352_Right_Field_2.jpg : , trial 4, color channel blue, resize function imgResize_secondary\n"
     ]
    },
    {
     "name": "stdout",
     "output_type": "stream",
     "text": [
      "1/1 [==============================] - 0s 20ms/step\n"
     ]
    },
    {
     "name": "stderr",
     "output_type": "stream",
     "text": [
      "2025-06-17 09:11:45,108 - INFO - Processing image /data/4-YQVM_9ac33726c539459d10cd6f6c97a6c9c77b0eefd4545f9eb551fbe334a9b59ad7/Dataset_4-YQVM/data/asset/Image/Multimodal_1203_Multimodal_2553_Multimodal_11352_Right_Field_2.jpg : , trial 1, color channel grey, resize function imgResize_primary\n"
     ]
    },
    {
     "name": "stdout",
     "output_type": "stream",
     "text": [
      "1/1 [==============================] - 0s 20ms/step\n"
     ]
    },
    {
     "name": "stderr",
     "output_type": "stream",
     "text": [
      "2025-06-17 09:11:45,891 - INFO - Processing image /data/4-YQVM_9ac33726c539459d10cd6f6c97a6c9c77b0eefd4545f9eb551fbe334a9b59ad7/Dataset_4-YQVM/data/asset/Image/Multimodal_1203_Multimodal_2553_Multimodal_11352_Right_Field_2.jpg : , trial 2, color channel green, resize function imgResize_primary\n"
     ]
    },
    {
     "name": "stdout",
     "output_type": "stream",
     "text": [
      "1/1 [==============================] - 0s 20ms/step\n"
     ]
    },
    {
     "name": "stderr",
     "output_type": "stream",
     "text": [
      "2025-06-17 09:11:46,525 - INFO - Processing image /data/4-YQVM_9ac33726c539459d10cd6f6c97a6c9c77b0eefd4545f9eb551fbe334a9b59ad7/Dataset_4-YQVM/data/asset/Image/Multimodal_1203_Multimodal_2553_Multimodal_11352_Right_Field_2.jpg : , trial 3, color channel red, resize function imgResize_primary\n"
     ]
    },
    {
     "name": "stdout",
     "output_type": "stream",
     "text": [
      "1/1 [==============================] - 0s 20ms/step\n"
     ]
    },
    {
     "name": "stderr",
     "output_type": "stream",
     "text": [
      "2025-06-17 09:11:47,153 - INFO - Processing image /data/4-YQVM_9ac33726c539459d10cd6f6c97a6c9c77b0eefd4545f9eb551fbe334a9b59ad7/Dataset_4-YQVM/data/asset/Image/Multimodal_1203_Multimodal_2553_Multimodal_11352_Right_Field_2.jpg : , trial 4, color channel blue, resize function imgResize_primary\n"
     ]
    },
    {
     "name": "stdout",
     "output_type": "stream",
     "text": [
      "1/1 [==============================] - 0s 20ms/step\n"
     ]
    },
    {
     "name": "stderr",
     "output_type": "stream",
     "text": [
      "2025-06-17 09:11:47,685 - INFO - Processing image /data/4-YQVM_9ac33726c539459d10cd6f6c97a6c9c77b0eefd4545f9eb551fbe334a9b59ad7/Dataset_4-YQVM/data/asset/Image/Multimodal_1203_Multimodal_2553_Multimodal_11352_Right_Field_2.jpg : , trial 1, color channel grey, resize function imgResize_secondary\n"
     ]
    },
    {
     "name": "stdout",
     "output_type": "stream",
     "text": [
      "1/1 [==============================] - 0s 20ms/step\n"
     ]
    },
    {
     "name": "stderr",
     "output_type": "stream",
     "text": [
      "2025-06-17 09:11:48,686 - INFO - Processing image /data/4-YQVM_9ac33726c539459d10cd6f6c97a6c9c77b0eefd4545f9eb551fbe334a9b59ad7/Dataset_4-YQVM/data/asset/Image/Multimodal_1203_Multimodal_2553_Multimodal_11352_Right_Field_2.jpg : , trial 2, color channel green, resize function imgResize_secondary\n"
     ]
    },
    {
     "name": "stdout",
     "output_type": "stream",
     "text": [
      "1/1 [==============================] - 0s 20ms/step\n"
     ]
    },
    {
     "name": "stderr",
     "output_type": "stream",
     "text": [
      "2025-06-17 09:11:49,692 - INFO - Processing image /data/4-YQVM_9ac33726c539459d10cd6f6c97a6c9c77b0eefd4545f9eb551fbe334a9b59ad7/Dataset_4-YQVM/data/asset/Image/Multimodal_1203_Multimodal_2553_Multimodal_11352_Right_Field_2.jpg : , trial 3, color channel red, resize function imgResize_secondary\n"
     ]
    },
    {
     "name": "stdout",
     "output_type": "stream",
     "text": [
      "1/1 [==============================] - 0s 20ms/step\n"
     ]
    },
    {
     "name": "stderr",
     "output_type": "stream",
     "text": [
      "2025-06-17 09:11:50,537 - INFO - Processing image /data/4-YQVM_9ac33726c539459d10cd6f6c97a6c9c77b0eefd4545f9eb551fbe334a9b59ad7/Dataset_4-YQVM/data/asset/Image/Multimodal_1203_Multimodal_2553_Multimodal_11352_Right_Field_2.jpg : , trial 4, color channel blue, resize function imgResize_secondary\n"
     ]
    },
    {
     "name": "stdout",
     "output_type": "stream",
     "text": [
      "1/1 [==============================] - 0s 20ms/step\n"
     ]
    },
    {
     "name": "stderr",
     "output_type": "stream",
     "text": [
      "2025-06-17 09:11:51,342 - INFO - SVG for 4-YRVW saved.\n",
      "2025-06-17 09:11:51,402 - INFO - Processing image /data/4-YQVM_9ac33726c539459d10cd6f6c97a6c9c77b0eefd4545f9eb551fbe334a9b59ad7/Dataset_4-YQVM/data/asset/Image/Multimodal_1276_Multimodal_2681_Multimodal_11480_Right_Field_2.jpg : , trial 1, color channel grey, resize function imgResize_primary\n"
     ]
    },
    {
     "name": "stdout",
     "output_type": "stream",
     "text": [
      "1/1 [==============================] - 0s 20ms/step\n"
     ]
    },
    {
     "name": "stderr",
     "output_type": "stream",
     "text": [
      "2025-06-17 09:11:52,080 - INFO - SVG for 4-YRVY saved.\n",
      "2025-06-17 09:11:52,139 - INFO - Processing image /data/4-YQVM_9ac33726c539459d10cd6f6c97a6c9c77b0eefd4545f9eb551fbe334a9b59ad7/Dataset_4-YQVM/data/asset/Image/Multimodal_1287_Multimodal_2701_Multimodal_11500_Right_Field_2.jpg : , trial 1, color channel grey, resize function imgResize_primary\n"
     ]
    },
    {
     "name": "stdout",
     "output_type": "stream",
     "text": [
      "1/1 [==============================] - 0s 21ms/step\n"
     ]
    },
    {
     "name": "stderr",
     "output_type": "stream",
     "text": [
      "2025-06-17 09:11:53,030 - INFO - SVG for 4-YRW0 saved.\n",
      "2025-06-17 09:11:53,090 - INFO - Processing image /data/4-YQVM_9ac33726c539459d10cd6f6c97a6c9c77b0eefd4545f9eb551fbe334a9b59ad7/Dataset_4-YQVM/data/asset/Image/Multimodal_1294_Multimodal_2714_Multimodal_11513_Right_Field_1.jpg : , trial 1, color channel grey, resize function imgResize_primary\n"
     ]
    },
    {
     "name": "stdout",
     "output_type": "stream",
     "text": [
      "1/1 [==============================] - 0s 20ms/step\n"
     ]
    },
    {
     "name": "stderr",
     "output_type": "stream",
     "text": [
      "2025-06-17 09:11:54,238 - INFO - SVG for 4-YRW2 saved.\n",
      "2025-06-17 09:11:54,298 - INFO - Processing image /data/4-YQVM_9ac33726c539459d10cd6f6c97a6c9c77b0eefd4545f9eb551fbe334a9b59ad7/Dataset_4-YQVM/data/asset/Image/Multimodal_1315_Multimodal_2750_Multimodal_11550_Left_Field_2.jpg : , trial 1, color channel grey, resize function imgResize_primary\n"
     ]
    },
    {
     "name": "stdout",
     "output_type": "stream",
     "text": [
      "1/1 [==============================] - 0s 20ms/step\n"
     ]
    },
    {
     "name": "stderr",
     "output_type": "stream",
     "text": [
      "2025-06-17 09:11:55,065 - INFO - SVG for 4-YRW4 saved.\n",
      "2025-06-17 09:11:55,123 - INFO - Processing image /data/4-YQVM_9ac33726c539459d10cd6f6c97a6c9c77b0eefd4545f9eb551fbe334a9b59ad7/Dataset_4-YQVM/data/asset/Image/Multimodal_1202_Multimodal_2551_Multimodal_11350_Right_Field_2.jpg : , trial 1, color channel grey, resize function imgResize_primary\n"
     ]
    },
    {
     "name": "stdout",
     "output_type": "stream",
     "text": [
      "1/1 [==============================] - 0s 21ms/step\n"
     ]
    },
    {
     "name": "stderr",
     "output_type": "stream",
     "text": [
      "2025-06-17 09:11:55,788 - INFO - SVG for 4-YRW6 saved.\n",
      "2025-06-17 09:11:55,847 - INFO - Processing image /data/4-YQVM_9ac33726c539459d10cd6f6c97a6c9c77b0eefd4545f9eb551fbe334a9b59ad7/Dataset_4-YQVM/data/asset/Image/Multimodal_1319_Multimodal_2758_Multimodal_11558_Left_Field_2.jpg : , trial 1, color channel grey, resize function imgResize_primary\n"
     ]
    },
    {
     "name": "stdout",
     "output_type": "stream",
     "text": [
      "1/1 [==============================] - 0s 21ms/step\n"
     ]
    },
    {
     "name": "stderr",
     "output_type": "stream",
     "text": [
      "2025-06-17 09:11:56,328 - INFO - SVG for 4-YRW8 saved.\n",
      "2025-06-17 09:11:56,387 - INFO - Processing image /data/4-YQVM_9ac33726c539459d10cd6f6c97a6c9c77b0eefd4545f9eb551fbe334a9b59ad7/Dataset_4-YQVM/data/asset/Image/Multimodal_1237_Multimodal_2615_Multimodal_11415_Left_Field_2.jpg : , trial 1, color channel grey, resize function imgResize_primary\n"
     ]
    },
    {
     "name": "stdout",
     "output_type": "stream",
     "text": [
      "1/1 [==============================] - 0s 20ms/step\n"
     ]
    },
    {
     "name": "stderr",
     "output_type": "stream",
     "text": [
      "2025-06-17 09:11:57,251 - INFO - SVG for 4-YRWA saved.\n",
      "2025-06-17 09:11:57,309 - INFO - Processing image /data/4-YQVM_9ac33726c539459d10cd6f6c97a6c9c77b0eefd4545f9eb551fbe334a9b59ad7/Dataset_4-YQVM/data/asset/Image/Multimodal_1213_Multimodal_2572_Multimodal_11372_Left_Field_2.jpg : , trial 1, color channel grey, resize function imgResize_primary\n"
     ]
    },
    {
     "name": "stdout",
     "output_type": "stream",
     "text": [
      "1/1 [==============================] - 0s 20ms/step\n"
     ]
    },
    {
     "name": "stderr",
     "output_type": "stream",
     "text": [
      "2025-06-17 09:11:58,159 - INFO - SVG for 4-YRWC saved.\n",
      "2025-06-17 09:11:58,217 - INFO - Processing image /data/4-YQVM_9ac33726c539459d10cd6f6c97a6c9c77b0eefd4545f9eb551fbe334a9b59ad7/Dataset_4-YQVM/data/asset/Image/Multimodal_1328_Multimodal_2776_Multimodal_11575_Right_Field_2.jpg : , trial 1, color channel grey, resize function imgResize_primary\n"
     ]
    },
    {
     "name": "stdout",
     "output_type": "stream",
     "text": [
      "1/1 [==============================] - 0s 20ms/step\n"
     ]
    },
    {
     "name": "stderr",
     "output_type": "stream",
     "text": [
      "2025-06-17 09:11:58,947 - INFO - SVG for 4-YRWE saved.\n",
      "2025-06-17 09:11:59,008 - INFO - Processing image /data/4-YQVM_9ac33726c539459d10cd6f6c97a6c9c77b0eefd4545f9eb551fbe334a9b59ad7/Dataset_4-YQVM/data/asset/Image/Multimodal_1231_Multimodal_2604_Multimodal_11404_Left_Field_2.jpg : , trial 1, color channel grey, resize function imgResize_primary\n"
     ]
    },
    {
     "name": "stdout",
     "output_type": "stream",
     "text": [
      "1/1 [==============================] - 0s 20ms/step\n"
     ]
    },
    {
     "name": "stderr",
     "output_type": "stream",
     "text": [
      "2025-06-17 09:11:59,798 - INFO - SVG for 4-YRWG saved.\n",
      "2025-06-17 09:11:59,858 - INFO - Processing image /data/4-YQVM_9ac33726c539459d10cd6f6c97a6c9c77b0eefd4545f9eb551fbe334a9b59ad7/Dataset_4-YQVM/data/asset/Image/Multimodal_1240_Multimodal_2621_Multimodal_11420_Right_Field_2.jpg : , trial 1, color channel grey, resize function imgResize_primary\n"
     ]
    },
    {
     "name": "stdout",
     "output_type": "stream",
     "text": [
      "1/1 [==============================] - 0s 20ms/step\n"
     ]
    },
    {
     "name": "stderr",
     "output_type": "stream",
     "text": [
      "2025-06-17 09:12:00,424 - INFO - Processing image /data/4-YQVM_9ac33726c539459d10cd6f6c97a6c9c77b0eefd4545f9eb551fbe334a9b59ad7/Dataset_4-YQVM/data/asset/Image/Multimodal_1240_Multimodal_2621_Multimodal_11420_Right_Field_2.jpg : , trial 2, color channel green, resize function imgResize_primary\n"
     ]
    },
    {
     "name": "stdout",
     "output_type": "stream",
     "text": [
      "1/1 [==============================] - 0s 20ms/step\n"
     ]
    },
    {
     "name": "stderr",
     "output_type": "stream",
     "text": [
      "2025-06-17 09:12:00,981 - INFO - Processing image /data/4-YQVM_9ac33726c539459d10cd6f6c97a6c9c77b0eefd4545f9eb551fbe334a9b59ad7/Dataset_4-YQVM/data/asset/Image/Multimodal_1240_Multimodal_2621_Multimodal_11420_Right_Field_2.jpg : , trial 3, color channel red, resize function imgResize_primary\n"
     ]
    },
    {
     "name": "stdout",
     "output_type": "stream",
     "text": [
      "1/1 [==============================] - 0s 21ms/step\n"
     ]
    },
    {
     "name": "stderr",
     "output_type": "stream",
     "text": [
      "2025-06-17 09:12:01,760 - INFO - Processing image /data/4-YQVM_9ac33726c539459d10cd6f6c97a6c9c77b0eefd4545f9eb551fbe334a9b59ad7/Dataset_4-YQVM/data/asset/Image/Multimodal_1240_Multimodal_2621_Multimodal_11420_Right_Field_2.jpg : , trial 4, color channel blue, resize function imgResize_primary\n"
     ]
    },
    {
     "name": "stdout",
     "output_type": "stream",
     "text": [
      "1/1 [==============================] - 0s 20ms/step\n"
     ]
    },
    {
     "name": "stderr",
     "output_type": "stream",
     "text": [
      "2025-06-17 09:12:02,313 - INFO - Processing image /data/4-YQVM_9ac33726c539459d10cd6f6c97a6c9c77b0eefd4545f9eb551fbe334a9b59ad7/Dataset_4-YQVM/data/asset/Image/Multimodal_1240_Multimodal_2621_Multimodal_11420_Right_Field_2.jpg : , trial 1, color channel grey, resize function imgResize_secondary\n"
     ]
    },
    {
     "name": "stdout",
     "output_type": "stream",
     "text": [
      "1/1 [==============================] - 0s 21ms/step\n"
     ]
    },
    {
     "name": "stderr",
     "output_type": "stream",
     "text": [
      "2025-06-17 09:12:03,320 - INFO - Processing image /data/4-YQVM_9ac33726c539459d10cd6f6c97a6c9c77b0eefd4545f9eb551fbe334a9b59ad7/Dataset_4-YQVM/data/asset/Image/Multimodal_1240_Multimodal_2621_Multimodal_11420_Right_Field_2.jpg : , trial 2, color channel green, resize function imgResize_secondary\n"
     ]
    },
    {
     "name": "stdout",
     "output_type": "stream",
     "text": [
      "1/1 [==============================] - 0s 20ms/step\n"
     ]
    },
    {
     "name": "stderr",
     "output_type": "stream",
     "text": [
      "2025-06-17 09:12:04,290 - INFO - Processing image /data/4-YQVM_9ac33726c539459d10cd6f6c97a6c9c77b0eefd4545f9eb551fbe334a9b59ad7/Dataset_4-YQVM/data/asset/Image/Multimodal_1240_Multimodal_2621_Multimodal_11420_Right_Field_2.jpg : , trial 3, color channel red, resize function imgResize_secondary\n"
     ]
    },
    {
     "name": "stdout",
     "output_type": "stream",
     "text": [
      "1/1 [==============================] - 0s 20ms/step\n"
     ]
    },
    {
     "name": "stderr",
     "output_type": "stream",
     "text": [
      "2025-06-17 09:12:05,161 - INFO - Processing image /data/4-YQVM_9ac33726c539459d10cd6f6c97a6c9c77b0eefd4545f9eb551fbe334a9b59ad7/Dataset_4-YQVM/data/asset/Image/Multimodal_1240_Multimodal_2621_Multimodal_11420_Right_Field_2.jpg : , trial 4, color channel blue, resize function imgResize_secondary\n"
     ]
    },
    {
     "name": "stdout",
     "output_type": "stream",
     "text": [
      "1/1 [==============================] - 0s 20ms/step\n"
     ]
    },
    {
     "name": "stderr",
     "output_type": "stream",
     "text": [
      "2025-06-17 09:12:06,123 - INFO - Processing image /data/4-YQVM_9ac33726c539459d10cd6f6c97a6c9c77b0eefd4545f9eb551fbe334a9b59ad7/Dataset_4-YQVM/data/asset/Image/Multimodal_1240_Multimodal_2621_Multimodal_11420_Right_Field_2.jpg : , trial 1, color channel grey, resize function imgResize_primary\n"
     ]
    },
    {
     "name": "stdout",
     "output_type": "stream",
     "text": [
      "1/1 [==============================] - 0s 21ms/step\n"
     ]
    },
    {
     "name": "stderr",
     "output_type": "stream",
     "text": [
      "2025-06-17 09:12:06,654 - INFO - Processing image /data/4-YQVM_9ac33726c539459d10cd6f6c97a6c9c77b0eefd4545f9eb551fbe334a9b59ad7/Dataset_4-YQVM/data/asset/Image/Multimodal_1240_Multimodal_2621_Multimodal_11420_Right_Field_2.jpg : , trial 2, color channel green, resize function imgResize_primary\n"
     ]
    },
    {
     "name": "stdout",
     "output_type": "stream",
     "text": [
      "1/1 [==============================] - 0s 20ms/step\n"
     ]
    },
    {
     "name": "stderr",
     "output_type": "stream",
     "text": [
      "2025-06-17 09:12:07,220 - INFO - Processing image /data/4-YQVM_9ac33726c539459d10cd6f6c97a6c9c77b0eefd4545f9eb551fbe334a9b59ad7/Dataset_4-YQVM/data/asset/Image/Multimodal_1240_Multimodal_2621_Multimodal_11420_Right_Field_2.jpg : , trial 3, color channel red, resize function imgResize_primary\n"
     ]
    },
    {
     "name": "stdout",
     "output_type": "stream",
     "text": [
      "1/1 [==============================] - 0s 20ms/step\n"
     ]
    },
    {
     "name": "stderr",
     "output_type": "stream",
     "text": [
      "2025-06-17 09:12:07,990 - INFO - Processing image /data/4-YQVM_9ac33726c539459d10cd6f6c97a6c9c77b0eefd4545f9eb551fbe334a9b59ad7/Dataset_4-YQVM/data/asset/Image/Multimodal_1240_Multimodal_2621_Multimodal_11420_Right_Field_2.jpg : , trial 4, color channel blue, resize function imgResize_primary\n"
     ]
    },
    {
     "name": "stdout",
     "output_type": "stream",
     "text": [
      "1/1 [==============================] - 0s 20ms/step\n"
     ]
    },
    {
     "name": "stderr",
     "output_type": "stream",
     "text": [
      "2025-06-17 09:12:08,555 - INFO - Processing image /data/4-YQVM_9ac33726c539459d10cd6f6c97a6c9c77b0eefd4545f9eb551fbe334a9b59ad7/Dataset_4-YQVM/data/asset/Image/Multimodal_1240_Multimodal_2621_Multimodal_11420_Right_Field_2.jpg : , trial 1, color channel grey, resize function imgResize_secondary\n"
     ]
    },
    {
     "name": "stdout",
     "output_type": "stream",
     "text": [
      "1/1 [==============================] - 0s 21ms/step\n"
     ]
    },
    {
     "name": "stderr",
     "output_type": "stream",
     "text": [
      "2025-06-17 09:12:09,575 - INFO - Processing image /data/4-YQVM_9ac33726c539459d10cd6f6c97a6c9c77b0eefd4545f9eb551fbe334a9b59ad7/Dataset_4-YQVM/data/asset/Image/Multimodal_1240_Multimodal_2621_Multimodal_11420_Right_Field_2.jpg : , trial 2, color channel green, resize function imgResize_secondary\n"
     ]
    },
    {
     "name": "stdout",
     "output_type": "stream",
     "text": [
      "1/1 [==============================] - 0s 20ms/step\n"
     ]
    },
    {
     "name": "stderr",
     "output_type": "stream",
     "text": [
      "2025-06-17 09:12:10,527 - INFO - Processing image /data/4-YQVM_9ac33726c539459d10cd6f6c97a6c9c77b0eefd4545f9eb551fbe334a9b59ad7/Dataset_4-YQVM/data/asset/Image/Multimodal_1240_Multimodal_2621_Multimodal_11420_Right_Field_2.jpg : , trial 3, color channel red, resize function imgResize_secondary\n"
     ]
    },
    {
     "name": "stdout",
     "output_type": "stream",
     "text": [
      "1/1 [==============================] - 0s 21ms/step\n"
     ]
    },
    {
     "name": "stderr",
     "output_type": "stream",
     "text": [
      "2025-06-17 09:12:11,518 - INFO - Processing image /data/4-YQVM_9ac33726c539459d10cd6f6c97a6c9c77b0eefd4545f9eb551fbe334a9b59ad7/Dataset_4-YQVM/data/asset/Image/Multimodal_1240_Multimodal_2621_Multimodal_11420_Right_Field_2.jpg : , trial 4, color channel blue, resize function imgResize_secondary\n"
     ]
    },
    {
     "name": "stdout",
     "output_type": "stream",
     "text": [
      "1/1 [==============================] - 0s 21ms/step\n"
     ]
    },
    {
     "name": "stderr",
     "output_type": "stream",
     "text": [
      "2025-06-17 09:12:12,314 - INFO - Processing image /data/4-YQVM_9ac33726c539459d10cd6f6c97a6c9c77b0eefd4545f9eb551fbe334a9b59ad7/Dataset_4-YQVM/data/asset/Image/Multimodal_1240_Multimodal_2621_Multimodal_11420_Right_Field_2.jpg : , trial 1, color channel grey, resize function imgResize_primary\n"
     ]
    },
    {
     "name": "stdout",
     "output_type": "stream",
     "text": [
      "1/1 [==============================] - 0s 20ms/step\n"
     ]
    },
    {
     "name": "stderr",
     "output_type": "stream",
     "text": [
      "2025-06-17 09:12:12,935 - INFO - Processing image /data/4-YQVM_9ac33726c539459d10cd6f6c97a6c9c77b0eefd4545f9eb551fbe334a9b59ad7/Dataset_4-YQVM/data/asset/Image/Multimodal_1240_Multimodal_2621_Multimodal_11420_Right_Field_2.jpg : , trial 2, color channel green, resize function imgResize_primary\n"
     ]
    },
    {
     "name": "stdout",
     "output_type": "stream",
     "text": [
      "1/1 [==============================] - 0s 20ms/step\n"
     ]
    },
    {
     "name": "stderr",
     "output_type": "stream",
     "text": [
      "2025-06-17 09:12:13,400 - INFO - Processing image /data/4-YQVM_9ac33726c539459d10cd6f6c97a6c9c77b0eefd4545f9eb551fbe334a9b59ad7/Dataset_4-YQVM/data/asset/Image/Multimodal_1240_Multimodal_2621_Multimodal_11420_Right_Field_2.jpg : , trial 3, color channel red, resize function imgResize_primary\n"
     ]
    },
    {
     "name": "stdout",
     "output_type": "stream",
     "text": [
      "1/1 [==============================] - 0s 20ms/step\n"
     ]
    },
    {
     "name": "stderr",
     "output_type": "stream",
     "text": [
      "2025-06-17 09:12:14,241 - INFO - Processing image /data/4-YQVM_9ac33726c539459d10cd6f6c97a6c9c77b0eefd4545f9eb551fbe334a9b59ad7/Dataset_4-YQVM/data/asset/Image/Multimodal_1240_Multimodal_2621_Multimodal_11420_Right_Field_2.jpg : , trial 4, color channel blue, resize function imgResize_primary\n"
     ]
    },
    {
     "name": "stdout",
     "output_type": "stream",
     "text": [
      "1/1 [==============================] - 0s 20ms/step\n"
     ]
    },
    {
     "name": "stderr",
     "output_type": "stream",
     "text": [
      "2025-06-17 09:12:14,663 - INFO - Processing image /data/4-YQVM_9ac33726c539459d10cd6f6c97a6c9c77b0eefd4545f9eb551fbe334a9b59ad7/Dataset_4-YQVM/data/asset/Image/Multimodal_1240_Multimodal_2621_Multimodal_11420_Right_Field_2.jpg : , trial 1, color channel grey, resize function imgResize_secondary\n"
     ]
    },
    {
     "name": "stdout",
     "output_type": "stream",
     "text": [
      "1/1 [==============================] - 0s 20ms/step\n"
     ]
    },
    {
     "name": "stderr",
     "output_type": "stream",
     "text": [
      "2025-06-17 09:12:15,741 - INFO - Processing image /data/4-YQVM_9ac33726c539459d10cd6f6c97a6c9c77b0eefd4545f9eb551fbe334a9b59ad7/Dataset_4-YQVM/data/asset/Image/Multimodal_1240_Multimodal_2621_Multimodal_11420_Right_Field_2.jpg : , trial 2, color channel green, resize function imgResize_secondary\n"
     ]
    },
    {
     "name": "stdout",
     "output_type": "stream",
     "text": [
      "1/1 [==============================] - 0s 20ms/step\n"
     ]
    },
    {
     "name": "stderr",
     "output_type": "stream",
     "text": [
      "2025-06-17 09:12:16,650 - INFO - Processing image /data/4-YQVM_9ac33726c539459d10cd6f6c97a6c9c77b0eefd4545f9eb551fbe334a9b59ad7/Dataset_4-YQVM/data/asset/Image/Multimodal_1240_Multimodal_2621_Multimodal_11420_Right_Field_2.jpg : , trial 3, color channel red, resize function imgResize_secondary\n"
     ]
    },
    {
     "name": "stdout",
     "output_type": "stream",
     "text": [
      "1/1 [==============================] - 0s 20ms/step\n"
     ]
    },
    {
     "name": "stderr",
     "output_type": "stream",
     "text": [
      "2025-06-17 09:12:17,549 - INFO - Processing image /data/4-YQVM_9ac33726c539459d10cd6f6c97a6c9c77b0eefd4545f9eb551fbe334a9b59ad7/Dataset_4-YQVM/data/asset/Image/Multimodal_1240_Multimodal_2621_Multimodal_11420_Right_Field_2.jpg : , trial 4, color channel blue, resize function imgResize_secondary\n"
     ]
    },
    {
     "name": "stdout",
     "output_type": "stream",
     "text": [
      "1/1 [==============================] - 0s 20ms/step\n"
     ]
    },
    {
     "name": "stderr",
     "output_type": "stream",
     "text": [
      "2025-06-17 09:12:18,421 - INFO - Processing image /data/4-YQVM_9ac33726c539459d10cd6f6c97a6c9c77b0eefd4545f9eb551fbe334a9b59ad7/Dataset_4-YQVM/data/asset/Image/Multimodal_1240_Multimodal_2621_Multimodal_11420_Right_Field_2.jpg : , trial 1, color channel grey, resize function imgResize_primary\n"
     ]
    },
    {
     "name": "stdout",
     "output_type": "stream",
     "text": [
      "1/1 [==============================] - 0s 20ms/step\n"
     ]
    },
    {
     "name": "stderr",
     "output_type": "stream",
     "text": [
      "2025-06-17 09:12:18,964 - INFO - Processing image /data/4-YQVM_9ac33726c539459d10cd6f6c97a6c9c77b0eefd4545f9eb551fbe334a9b59ad7/Dataset_4-YQVM/data/asset/Image/Multimodal_1240_Multimodal_2621_Multimodal_11420_Right_Field_2.jpg : , trial 2, color channel green, resize function imgResize_primary\n"
     ]
    },
    {
     "name": "stdout",
     "output_type": "stream",
     "text": [
      "1/1 [==============================] - 0s 20ms/step\n"
     ]
    },
    {
     "name": "stderr",
     "output_type": "stream",
     "text": [
      "2025-06-17 09:12:19,442 - INFO - Processing image /data/4-YQVM_9ac33726c539459d10cd6f6c97a6c9c77b0eefd4545f9eb551fbe334a9b59ad7/Dataset_4-YQVM/data/asset/Image/Multimodal_1240_Multimodal_2621_Multimodal_11420_Right_Field_2.jpg : , trial 3, color channel red, resize function imgResize_primary\n"
     ]
    },
    {
     "name": "stdout",
     "output_type": "stream",
     "text": [
      "1/1 [==============================] - 0s 20ms/step\n"
     ]
    },
    {
     "name": "stderr",
     "output_type": "stream",
     "text": [
      "2025-06-17 09:12:20,313 - INFO - Processing image /data/4-YQVM_9ac33726c539459d10cd6f6c97a6c9c77b0eefd4545f9eb551fbe334a9b59ad7/Dataset_4-YQVM/data/asset/Image/Multimodal_1240_Multimodal_2621_Multimodal_11420_Right_Field_2.jpg : , trial 4, color channel blue, resize function imgResize_primary\n"
     ]
    },
    {
     "name": "stdout",
     "output_type": "stream",
     "text": [
      "1/1 [==============================] - 0s 20ms/step\n"
     ]
    },
    {
     "name": "stderr",
     "output_type": "stream",
     "text": [
      "2025-06-17 09:12:20,882 - INFO - Processing image /data/4-YQVM_9ac33726c539459d10cd6f6c97a6c9c77b0eefd4545f9eb551fbe334a9b59ad7/Dataset_4-YQVM/data/asset/Image/Multimodal_1240_Multimodal_2621_Multimodal_11420_Right_Field_2.jpg : , trial 1, color channel grey, resize function imgResize_secondary\n"
     ]
    },
    {
     "name": "stdout",
     "output_type": "stream",
     "text": [
      "1/1 [==============================] - 0s 20ms/step\n"
     ]
    },
    {
     "name": "stderr",
     "output_type": "stream",
     "text": [
      "2025-06-17 09:12:21,766 - INFO - Processing image /data/4-YQVM_9ac33726c539459d10cd6f6c97a6c9c77b0eefd4545f9eb551fbe334a9b59ad7/Dataset_4-YQVM/data/asset/Image/Multimodal_1240_Multimodal_2621_Multimodal_11420_Right_Field_2.jpg : , trial 2, color channel green, resize function imgResize_secondary\n"
     ]
    },
    {
     "name": "stdout",
     "output_type": "stream",
     "text": [
      "1/1 [==============================] - 0s 20ms/step\n"
     ]
    },
    {
     "name": "stderr",
     "output_type": "stream",
     "text": [
      "2025-06-17 09:12:22,744 - INFO - Processing image /data/4-YQVM_9ac33726c539459d10cd6f6c97a6c9c77b0eefd4545f9eb551fbe334a9b59ad7/Dataset_4-YQVM/data/asset/Image/Multimodal_1240_Multimodal_2621_Multimodal_11420_Right_Field_2.jpg : , trial 3, color channel red, resize function imgResize_secondary\n"
     ]
    },
    {
     "name": "stdout",
     "output_type": "stream",
     "text": [
      "1/1 [==============================] - 0s 20ms/step\n"
     ]
    },
    {
     "name": "stderr",
     "output_type": "stream",
     "text": [
      "2025-06-17 09:12:23,637 - INFO - Processing image /data/4-YQVM_9ac33726c539459d10cd6f6c97a6c9c77b0eefd4545f9eb551fbe334a9b59ad7/Dataset_4-YQVM/data/asset/Image/Multimodal_1240_Multimodal_2621_Multimodal_11420_Right_Field_2.jpg : , trial 4, color channel blue, resize function imgResize_secondary\n"
     ]
    },
    {
     "name": "stdout",
     "output_type": "stream",
     "text": [
      "1/1 [==============================] - 0s 21ms/step\n"
     ]
    },
    {
     "name": "stderr",
     "output_type": "stream",
     "text": [
      "2025-06-17 09:12:24,412 - INFO - Processing image /data/4-YQVM_9ac33726c539459d10cd6f6c97a6c9c77b0eefd4545f9eb551fbe334a9b59ad7/Dataset_4-YQVM/data/asset/Image/Multimodal_1240_Multimodal_2621_Multimodal_11420_Right_Field_2.jpg : , trial 1, color channel grey, resize function imgResize_primary\n"
     ]
    },
    {
     "name": "stdout",
     "output_type": "stream",
     "text": [
      "1/1 [==============================] - 0s 20ms/step\n"
     ]
    },
    {
     "name": "stderr",
     "output_type": "stream",
     "text": [
      "2025-06-17 09:12:25,041 - INFO - Processing image /data/4-YQVM_9ac33726c539459d10cd6f6c97a6c9c77b0eefd4545f9eb551fbe334a9b59ad7/Dataset_4-YQVM/data/asset/Image/Multimodal_1240_Multimodal_2621_Multimodal_11420_Right_Field_2.jpg : , trial 2, color channel green, resize function imgResize_primary\n"
     ]
    },
    {
     "name": "stdout",
     "output_type": "stream",
     "text": [
      "1/1 [==============================] - 0s 20ms/step\n"
     ]
    },
    {
     "name": "stderr",
     "output_type": "stream",
     "text": [
      "2025-06-17 09:12:25,540 - INFO - Processing image /data/4-YQVM_9ac33726c539459d10cd6f6c97a6c9c77b0eefd4545f9eb551fbe334a9b59ad7/Dataset_4-YQVM/data/asset/Image/Multimodal_1240_Multimodal_2621_Multimodal_11420_Right_Field_2.jpg : , trial 3, color channel red, resize function imgResize_primary\n"
     ]
    },
    {
     "name": "stdout",
     "output_type": "stream",
     "text": [
      "1/1 [==============================] - 0s 20ms/step\n"
     ]
    },
    {
     "name": "stderr",
     "output_type": "stream",
     "text": [
      "2025-06-17 09:12:26,228 - INFO - Processing image /data/4-YQVM_9ac33726c539459d10cd6f6c97a6c9c77b0eefd4545f9eb551fbe334a9b59ad7/Dataset_4-YQVM/data/asset/Image/Multimodal_1240_Multimodal_2621_Multimodal_11420_Right_Field_2.jpg : , trial 4, color channel blue, resize function imgResize_primary\n"
     ]
    },
    {
     "name": "stdout",
     "output_type": "stream",
     "text": [
      "1/1 [==============================] - 0s 20ms/step\n"
     ]
    },
    {
     "name": "stderr",
     "output_type": "stream",
     "text": [
      "2025-06-17 09:12:26,834 - INFO - Processing image /data/4-YQVM_9ac33726c539459d10cd6f6c97a6c9c77b0eefd4545f9eb551fbe334a9b59ad7/Dataset_4-YQVM/data/asset/Image/Multimodal_1240_Multimodal_2621_Multimodal_11420_Right_Field_2.jpg : , trial 1, color channel grey, resize function imgResize_secondary\n"
     ]
    },
    {
     "name": "stdout",
     "output_type": "stream",
     "text": [
      "1/1 [==============================] - 0s 20ms/step\n"
     ]
    },
    {
     "name": "stderr",
     "output_type": "stream",
     "text": [
      "2025-06-17 09:12:27,848 - INFO - Processing image /data/4-YQVM_9ac33726c539459d10cd6f6c97a6c9c77b0eefd4545f9eb551fbe334a9b59ad7/Dataset_4-YQVM/data/asset/Image/Multimodal_1240_Multimodal_2621_Multimodal_11420_Right_Field_2.jpg : , trial 2, color channel green, resize function imgResize_secondary\n"
     ]
    },
    {
     "name": "stdout",
     "output_type": "stream",
     "text": [
      "1/1 [==============================] - 0s 20ms/step\n"
     ]
    },
    {
     "name": "stderr",
     "output_type": "stream",
     "text": [
      "2025-06-17 09:12:28,794 - INFO - Processing image /data/4-YQVM_9ac33726c539459d10cd6f6c97a6c9c77b0eefd4545f9eb551fbe334a9b59ad7/Dataset_4-YQVM/data/asset/Image/Multimodal_1240_Multimodal_2621_Multimodal_11420_Right_Field_2.jpg : , trial 3, color channel red, resize function imgResize_secondary\n"
     ]
    },
    {
     "name": "stdout",
     "output_type": "stream",
     "text": [
      "1/1 [==============================] - 0s 21ms/step\n"
     ]
    },
    {
     "name": "stderr",
     "output_type": "stream",
     "text": [
      "2025-06-17 09:12:29,699 - INFO - Processing image /data/4-YQVM_9ac33726c539459d10cd6f6c97a6c9c77b0eefd4545f9eb551fbe334a9b59ad7/Dataset_4-YQVM/data/asset/Image/Multimodal_1240_Multimodal_2621_Multimodal_11420_Right_Field_2.jpg : , trial 4, color channel blue, resize function imgResize_secondary\n"
     ]
    },
    {
     "name": "stdout",
     "output_type": "stream",
     "text": [
      "1/1 [==============================] - 0s 20ms/step\n"
     ]
    },
    {
     "name": "stderr",
     "output_type": "stream",
     "text": [
      "2025-06-17 09:12:30,499 - INFO - SVG for 4-YRWJ saved.\n",
      "2025-06-17 09:12:30,561 - INFO - Processing image /data/4-YQVM_9ac33726c539459d10cd6f6c97a6c9c77b0eefd4545f9eb551fbe334a9b59ad7/Dataset_4-YQVM/data/asset/Image/Multimodal_1220_Multimodal_2585_Multimodal_11384_Right_Field_1.jpg : , trial 1, color channel grey, resize function imgResize_primary\n"
     ]
    },
    {
     "name": "stdout",
     "output_type": "stream",
     "text": [
      "1/1 [==============================] - 0s 20ms/step\n"
     ]
    },
    {
     "name": "stderr",
     "output_type": "stream",
     "text": [
      "2025-06-17 09:12:31,319 - INFO - SVG for 4-YRWM saved.\n",
      "2025-06-17 09:12:31,380 - INFO - Processing image /data/4-YQVM_9ac33726c539459d10cd6f6c97a6c9c77b0eefd4545f9eb551fbe334a9b59ad7/Dataset_4-YQVM/data/asset/Image/Multimodal_1231_Multimodal_2604_Multimodal_11403_Right_Field_1.jpg : , trial 1, color channel grey, resize function imgResize_primary\n"
     ]
    },
    {
     "name": "stdout",
     "output_type": "stream",
     "text": [
      "1/1 [==============================] - 0s 20ms/step\n"
     ]
    },
    {
     "name": "stderr",
     "output_type": "stream",
     "text": [
      "2025-06-17 09:12:32,051 - INFO - Processing image /data/4-YQVM_9ac33726c539459d10cd6f6c97a6c9c77b0eefd4545f9eb551fbe334a9b59ad7/Dataset_4-YQVM/data/asset/Image/Multimodal_1231_Multimodal_2604_Multimodal_11403_Right_Field_1.jpg : , trial 2, color channel green, resize function imgResize_primary\n"
     ]
    },
    {
     "name": "stdout",
     "output_type": "stream",
     "text": [
      "1/1 [==============================] - 0s 21ms/step\n"
     ]
    },
    {
     "name": "stderr",
     "output_type": "stream",
     "text": [
      "2025-06-17 09:12:32,621 - INFO - Processing image /data/4-YQVM_9ac33726c539459d10cd6f6c97a6c9c77b0eefd4545f9eb551fbe334a9b59ad7/Dataset_4-YQVM/data/asset/Image/Multimodal_1231_Multimodal_2604_Multimodal_11403_Right_Field_1.jpg : , trial 3, color channel red, resize function imgResize_primary\n"
     ]
    },
    {
     "name": "stdout",
     "output_type": "stream",
     "text": [
      "1/1 [==============================] - 0s 20ms/step\n"
     ]
    },
    {
     "name": "stderr",
     "output_type": "stream",
     "text": [
      "2025-06-17 09:12:33,293 - INFO - Processing image /data/4-YQVM_9ac33726c539459d10cd6f6c97a6c9c77b0eefd4545f9eb551fbe334a9b59ad7/Dataset_4-YQVM/data/asset/Image/Multimodal_1231_Multimodal_2604_Multimodal_11403_Right_Field_1.jpg : , trial 4, color channel blue, resize function imgResize_primary\n"
     ]
    },
    {
     "name": "stdout",
     "output_type": "stream",
     "text": [
      "1/1 [==============================] - 0s 20ms/step\n"
     ]
    },
    {
     "name": "stderr",
     "output_type": "stream",
     "text": [
      "2025-06-17 09:12:33,871 - INFO - Processing image /data/4-YQVM_9ac33726c539459d10cd6f6c97a6c9c77b0eefd4545f9eb551fbe334a9b59ad7/Dataset_4-YQVM/data/asset/Image/Multimodal_1231_Multimodal_2604_Multimodal_11403_Right_Field_1.jpg : , trial 1, color channel grey, resize function imgResize_secondary\n"
     ]
    },
    {
     "name": "stdout",
     "output_type": "stream",
     "text": [
      "1/1 [==============================] - 0s 21ms/step\n"
     ]
    },
    {
     "name": "stderr",
     "output_type": "stream",
     "text": [
      "2025-06-17 09:12:34,665 - INFO - Processing image /data/4-YQVM_9ac33726c539459d10cd6f6c97a6c9c77b0eefd4545f9eb551fbe334a9b59ad7/Dataset_4-YQVM/data/asset/Image/Multimodal_1231_Multimodal_2604_Multimodal_11403_Right_Field_1.jpg : , trial 2, color channel green, resize function imgResize_secondary\n"
     ]
    },
    {
     "name": "stdout",
     "output_type": "stream",
     "text": [
      "1/1 [==============================] - 0s 20ms/step\n"
     ]
    },
    {
     "name": "stderr",
     "output_type": "stream",
     "text": [
      "2025-06-17 09:12:35,401 - INFO - Processing image /data/4-YQVM_9ac33726c539459d10cd6f6c97a6c9c77b0eefd4545f9eb551fbe334a9b59ad7/Dataset_4-YQVM/data/asset/Image/Multimodal_1231_Multimodal_2604_Multimodal_11403_Right_Field_1.jpg : , trial 3, color channel red, resize function imgResize_secondary\n"
     ]
    },
    {
     "name": "stdout",
     "output_type": "stream",
     "text": [
      "1/1 [==============================] - 0s 20ms/step\n"
     ]
    },
    {
     "name": "stderr",
     "output_type": "stream",
     "text": [
      "2025-06-17 09:12:36,781 - INFO - Processing image /data/4-YQVM_9ac33726c539459d10cd6f6c97a6c9c77b0eefd4545f9eb551fbe334a9b59ad7/Dataset_4-YQVM/data/asset/Image/Multimodal_1231_Multimodal_2604_Multimodal_11403_Right_Field_1.jpg : , trial 4, color channel blue, resize function imgResize_secondary\n"
     ]
    },
    {
     "name": "stdout",
     "output_type": "stream",
     "text": [
      "1/1 [==============================] - 0s 21ms/step\n"
     ]
    },
    {
     "name": "stderr",
     "output_type": "stream",
     "text": [
      "2025-06-17 09:12:37,428 - INFO - Processing image /data/4-YQVM_9ac33726c539459d10cd6f6c97a6c9c77b0eefd4545f9eb551fbe334a9b59ad7/Dataset_4-YQVM/data/asset/Image/Multimodal_1231_Multimodal_2604_Multimodal_11403_Right_Field_1.jpg : , trial 1, color channel grey, resize function imgResize_primary\n"
     ]
    },
    {
     "name": "stdout",
     "output_type": "stream",
     "text": [
      "1/1 [==============================] - 0s 20ms/step\n"
     ]
    },
    {
     "name": "stderr",
     "output_type": "stream",
     "text": [
      "2025-06-17 09:12:38,110 - INFO - Processing image /data/4-YQVM_9ac33726c539459d10cd6f6c97a6c9c77b0eefd4545f9eb551fbe334a9b59ad7/Dataset_4-YQVM/data/asset/Image/Multimodal_1231_Multimodal_2604_Multimodal_11403_Right_Field_1.jpg : , trial 2, color channel green, resize function imgResize_primary\n"
     ]
    },
    {
     "name": "stdout",
     "output_type": "stream",
     "text": [
      "1/1 [==============================] - 0s 20ms/step\n"
     ]
    },
    {
     "name": "stderr",
     "output_type": "stream",
     "text": [
      "2025-06-17 09:12:38,750 - INFO - Processing image /data/4-YQVM_9ac33726c539459d10cd6f6c97a6c9c77b0eefd4545f9eb551fbe334a9b59ad7/Dataset_4-YQVM/data/asset/Image/Multimodal_1231_Multimodal_2604_Multimodal_11403_Right_Field_1.jpg : , trial 3, color channel red, resize function imgResize_primary\n"
     ]
    },
    {
     "name": "stdout",
     "output_type": "stream",
     "text": [
      "1/1 [==============================] - 0s 20ms/step\n"
     ]
    },
    {
     "name": "stderr",
     "output_type": "stream",
     "text": [
      "2025-06-17 09:12:39,432 - INFO - Processing image /data/4-YQVM_9ac33726c539459d10cd6f6c97a6c9c77b0eefd4545f9eb551fbe334a9b59ad7/Dataset_4-YQVM/data/asset/Image/Multimodal_1231_Multimodal_2604_Multimodal_11403_Right_Field_1.jpg : , trial 4, color channel blue, resize function imgResize_primary\n"
     ]
    },
    {
     "name": "stdout",
     "output_type": "stream",
     "text": [
      "1/1 [==============================] - 0s 20ms/step\n"
     ]
    },
    {
     "name": "stderr",
     "output_type": "stream",
     "text": [
      "2025-06-17 09:12:40,050 - INFO - Processing image /data/4-YQVM_9ac33726c539459d10cd6f6c97a6c9c77b0eefd4545f9eb551fbe334a9b59ad7/Dataset_4-YQVM/data/asset/Image/Multimodal_1231_Multimodal_2604_Multimodal_11403_Right_Field_1.jpg : , trial 1, color channel grey, resize function imgResize_secondary\n"
     ]
    },
    {
     "name": "stdout",
     "output_type": "stream",
     "text": [
      "1/1 [==============================] - 0s 20ms/step\n"
     ]
    },
    {
     "name": "stderr",
     "output_type": "stream",
     "text": [
      "2025-06-17 09:12:40,984 - INFO - Processing image /data/4-YQVM_9ac33726c539459d10cd6f6c97a6c9c77b0eefd4545f9eb551fbe334a9b59ad7/Dataset_4-YQVM/data/asset/Image/Multimodal_1231_Multimodal_2604_Multimodal_11403_Right_Field_1.jpg : , trial 2, color channel green, resize function imgResize_secondary\n"
     ]
    },
    {
     "name": "stdout",
     "output_type": "stream",
     "text": [
      "1/1 [==============================] - 0s 20ms/step\n"
     ]
    },
    {
     "name": "stderr",
     "output_type": "stream",
     "text": [
      "2025-06-17 09:12:41,903 - INFO - Processing image /data/4-YQVM_9ac33726c539459d10cd6f6c97a6c9c77b0eefd4545f9eb551fbe334a9b59ad7/Dataset_4-YQVM/data/asset/Image/Multimodal_1231_Multimodal_2604_Multimodal_11403_Right_Field_1.jpg : , trial 3, color channel red, resize function imgResize_secondary\n"
     ]
    },
    {
     "name": "stdout",
     "output_type": "stream",
     "text": [
      "1/1 [==============================] - 0s 20ms/step\n"
     ]
    },
    {
     "name": "stderr",
     "output_type": "stream",
     "text": [
      "2025-06-17 09:12:43,204 - INFO - Processing image /data/4-YQVM_9ac33726c539459d10cd6f6c97a6c9c77b0eefd4545f9eb551fbe334a9b59ad7/Dataset_4-YQVM/data/asset/Image/Multimodal_1231_Multimodal_2604_Multimodal_11403_Right_Field_1.jpg : , trial 4, color channel blue, resize function imgResize_secondary\n"
     ]
    },
    {
     "name": "stdout",
     "output_type": "stream",
     "text": [
      "1/1 [==============================] - 0s 21ms/step\n"
     ]
    },
    {
     "name": "stderr",
     "output_type": "stream",
     "text": [
      "2025-06-17 09:12:44,219 - INFO - Processing image /data/4-YQVM_9ac33726c539459d10cd6f6c97a6c9c77b0eefd4545f9eb551fbe334a9b59ad7/Dataset_4-YQVM/data/asset/Image/Multimodal_1231_Multimodal_2604_Multimodal_11403_Right_Field_1.jpg : , trial 1, color channel grey, resize function imgResize_primary\n"
     ]
    },
    {
     "name": "stdout",
     "output_type": "stream",
     "text": [
      "1/1 [==============================] - 0s 21ms/step\n"
     ]
    },
    {
     "name": "stderr",
     "output_type": "stream",
     "text": [
      "2025-06-17 09:12:44,811 - INFO - Processing image /data/4-YQVM_9ac33726c539459d10cd6f6c97a6c9c77b0eefd4545f9eb551fbe334a9b59ad7/Dataset_4-YQVM/data/asset/Image/Multimodal_1231_Multimodal_2604_Multimodal_11403_Right_Field_1.jpg : , trial 2, color channel green, resize function imgResize_primary\n"
     ]
    },
    {
     "name": "stdout",
     "output_type": "stream",
     "text": [
      "1/1 [==============================] - 0s 20ms/step\n"
     ]
    },
    {
     "name": "stderr",
     "output_type": "stream",
     "text": [
      "2025-06-17 09:12:45,368 - INFO - Processing image /data/4-YQVM_9ac33726c539459d10cd6f6c97a6c9c77b0eefd4545f9eb551fbe334a9b59ad7/Dataset_4-YQVM/data/asset/Image/Multimodal_1231_Multimodal_2604_Multimodal_11403_Right_Field_1.jpg : , trial 3, color channel red, resize function imgResize_primary\n"
     ]
    },
    {
     "name": "stdout",
     "output_type": "stream",
     "text": [
      "1/1 [==============================] - 0s 20ms/step\n"
     ]
    },
    {
     "name": "stderr",
     "output_type": "stream",
     "text": [
      "2025-06-17 09:12:46,004 - INFO - Processing image /data/4-YQVM_9ac33726c539459d10cd6f6c97a6c9c77b0eefd4545f9eb551fbe334a9b59ad7/Dataset_4-YQVM/data/asset/Image/Multimodal_1231_Multimodal_2604_Multimodal_11403_Right_Field_1.jpg : , trial 4, color channel blue, resize function imgResize_primary\n"
     ]
    },
    {
     "name": "stdout",
     "output_type": "stream",
     "text": [
      "1/1 [==============================] - 0s 20ms/step\n"
     ]
    },
    {
     "name": "stderr",
     "output_type": "stream",
     "text": [
      "2025-06-17 09:12:46,557 - INFO - Processing image /data/4-YQVM_9ac33726c539459d10cd6f6c97a6c9c77b0eefd4545f9eb551fbe334a9b59ad7/Dataset_4-YQVM/data/asset/Image/Multimodal_1231_Multimodal_2604_Multimodal_11403_Right_Field_1.jpg : , trial 1, color channel grey, resize function imgResize_secondary\n"
     ]
    },
    {
     "name": "stdout",
     "output_type": "stream",
     "text": [
      "1/1 [==============================] - 0s 21ms/step\n"
     ]
    },
    {
     "name": "stderr",
     "output_type": "stream",
     "text": [
      "2025-06-17 09:12:47,542 - INFO - Processing image /data/4-YQVM_9ac33726c539459d10cd6f6c97a6c9c77b0eefd4545f9eb551fbe334a9b59ad7/Dataset_4-YQVM/data/asset/Image/Multimodal_1231_Multimodal_2604_Multimodal_11403_Right_Field_1.jpg : , trial 2, color channel green, resize function imgResize_secondary\n"
     ]
    },
    {
     "name": "stdout",
     "output_type": "stream",
     "text": [
      "1/1 [==============================] - 0s 20ms/step\n"
     ]
    },
    {
     "name": "stderr",
     "output_type": "stream",
     "text": [
      "2025-06-17 09:12:48,412 - INFO - Processing image /data/4-YQVM_9ac33726c539459d10cd6f6c97a6c9c77b0eefd4545f9eb551fbe334a9b59ad7/Dataset_4-YQVM/data/asset/Image/Multimodal_1231_Multimodal_2604_Multimodal_11403_Right_Field_1.jpg : , trial 3, color channel red, resize function imgResize_secondary\n"
     ]
    },
    {
     "name": "stdout",
     "output_type": "stream",
     "text": [
      "1/1 [==============================] - 0s 20ms/step\n"
     ]
    },
    {
     "name": "stderr",
     "output_type": "stream",
     "text": [
      "2025-06-17 09:12:49,700 - INFO - Processing image /data/4-YQVM_9ac33726c539459d10cd6f6c97a6c9c77b0eefd4545f9eb551fbe334a9b59ad7/Dataset_4-YQVM/data/asset/Image/Multimodal_1231_Multimodal_2604_Multimodal_11403_Right_Field_1.jpg : , trial 4, color channel blue, resize function imgResize_secondary\n"
     ]
    },
    {
     "name": "stdout",
     "output_type": "stream",
     "text": [
      "1/1 [==============================] - 0s 20ms/step\n"
     ]
    },
    {
     "name": "stderr",
     "output_type": "stream",
     "text": [
      "2025-06-17 09:12:50,594 - INFO - Processing image /data/4-YQVM_9ac33726c539459d10cd6f6c97a6c9c77b0eefd4545f9eb551fbe334a9b59ad7/Dataset_4-YQVM/data/asset/Image/Multimodal_1231_Multimodal_2604_Multimodal_11403_Right_Field_1.jpg : , trial 1, color channel grey, resize function imgResize_primary\n"
     ]
    },
    {
     "name": "stdout",
     "output_type": "stream",
     "text": [
      "1/1 [==============================] - 0s 20ms/step\n"
     ]
    },
    {
     "name": "stderr",
     "output_type": "stream",
     "text": [
      "2025-06-17 09:12:51,296 - INFO - Processing image /data/4-YQVM_9ac33726c539459d10cd6f6c97a6c9c77b0eefd4545f9eb551fbe334a9b59ad7/Dataset_4-YQVM/data/asset/Image/Multimodal_1231_Multimodal_2604_Multimodal_11403_Right_Field_1.jpg : , trial 2, color channel green, resize function imgResize_primary\n"
     ]
    },
    {
     "name": "stdout",
     "output_type": "stream",
     "text": [
      "1/1 [==============================] - 0s 20ms/step\n"
     ]
    },
    {
     "name": "stderr",
     "output_type": "stream",
     "text": [
      "2025-06-17 09:12:51,894 - INFO - Processing image /data/4-YQVM_9ac33726c539459d10cd6f6c97a6c9c77b0eefd4545f9eb551fbe334a9b59ad7/Dataset_4-YQVM/data/asset/Image/Multimodal_1231_Multimodal_2604_Multimodal_11403_Right_Field_1.jpg : , trial 3, color channel red, resize function imgResize_primary\n"
     ]
    },
    {
     "name": "stdout",
     "output_type": "stream",
     "text": [
      "1/1 [==============================] - 0s 21ms/step\n"
     ]
    },
    {
     "name": "stderr",
     "output_type": "stream",
     "text": [
      "2025-06-17 09:12:52,540 - INFO - Processing image /data/4-YQVM_9ac33726c539459d10cd6f6c97a6c9c77b0eefd4545f9eb551fbe334a9b59ad7/Dataset_4-YQVM/data/asset/Image/Multimodal_1231_Multimodal_2604_Multimodal_11403_Right_Field_1.jpg : , trial 4, color channel blue, resize function imgResize_primary\n"
     ]
    },
    {
     "name": "stdout",
     "output_type": "stream",
     "text": [
      "1/1 [==============================] - 0s 20ms/step\n"
     ]
    },
    {
     "name": "stderr",
     "output_type": "stream",
     "text": [
      "2025-06-17 09:12:53,143 - INFO - Processing image /data/4-YQVM_9ac33726c539459d10cd6f6c97a6c9c77b0eefd4545f9eb551fbe334a9b59ad7/Dataset_4-YQVM/data/asset/Image/Multimodal_1231_Multimodal_2604_Multimodal_11403_Right_Field_1.jpg : , trial 1, color channel grey, resize function imgResize_secondary\n"
     ]
    },
    {
     "name": "stdout",
     "output_type": "stream",
     "text": [
      "1/1 [==============================] - 0s 20ms/step\n"
     ]
    },
    {
     "name": "stderr",
     "output_type": "stream",
     "text": [
      "2025-06-17 09:12:54,066 - INFO - Processing image /data/4-YQVM_9ac33726c539459d10cd6f6c97a6c9c77b0eefd4545f9eb551fbe334a9b59ad7/Dataset_4-YQVM/data/asset/Image/Multimodal_1231_Multimodal_2604_Multimodal_11403_Right_Field_1.jpg : , trial 2, color channel green, resize function imgResize_secondary\n"
     ]
    },
    {
     "name": "stdout",
     "output_type": "stream",
     "text": [
      "1/1 [==============================] - 0s 20ms/step\n"
     ]
    },
    {
     "name": "stderr",
     "output_type": "stream",
     "text": [
      "2025-06-17 09:12:55,106 - INFO - Processing image /data/4-YQVM_9ac33726c539459d10cd6f6c97a6c9c77b0eefd4545f9eb551fbe334a9b59ad7/Dataset_4-YQVM/data/asset/Image/Multimodal_1231_Multimodal_2604_Multimodal_11403_Right_Field_1.jpg : , trial 3, color channel red, resize function imgResize_secondary\n"
     ]
    },
    {
     "name": "stdout",
     "output_type": "stream",
     "text": [
      "1/1 [==============================] - 0s 20ms/step\n"
     ]
    },
    {
     "name": "stderr",
     "output_type": "stream",
     "text": [
      "2025-06-17 09:12:56,350 - INFO - Processing image /data/4-YQVM_9ac33726c539459d10cd6f6c97a6c9c77b0eefd4545f9eb551fbe334a9b59ad7/Dataset_4-YQVM/data/asset/Image/Multimodal_1231_Multimodal_2604_Multimodal_11403_Right_Field_1.jpg : , trial 4, color channel blue, resize function imgResize_secondary\n"
     ]
    },
    {
     "name": "stdout",
     "output_type": "stream",
     "text": [
      "1/1 [==============================] - 0s 20ms/step\n"
     ]
    },
    {
     "name": "stderr",
     "output_type": "stream",
     "text": [
      "2025-06-17 09:12:57,288 - INFO - Processing image /data/4-YQVM_9ac33726c539459d10cd6f6c97a6c9c77b0eefd4545f9eb551fbe334a9b59ad7/Dataset_4-YQVM/data/asset/Image/Multimodal_1231_Multimodal_2604_Multimodal_11403_Right_Field_1.jpg : , trial 1, color channel grey, resize function imgResize_primary\n"
     ]
    },
    {
     "name": "stdout",
     "output_type": "stream",
     "text": [
      "1/1 [==============================] - 0s 20ms/step\n"
     ]
    },
    {
     "name": "stderr",
     "output_type": "stream",
     "text": [
      "2025-06-17 09:12:57,892 - INFO - Processing image /data/4-YQVM_9ac33726c539459d10cd6f6c97a6c9c77b0eefd4545f9eb551fbe334a9b59ad7/Dataset_4-YQVM/data/asset/Image/Multimodal_1231_Multimodal_2604_Multimodal_11403_Right_Field_1.jpg : , trial 2, color channel green, resize function imgResize_primary\n"
     ]
    },
    {
     "name": "stdout",
     "output_type": "stream",
     "text": [
      "1/1 [==============================] - 0s 20ms/step\n"
     ]
    },
    {
     "name": "stderr",
     "output_type": "stream",
     "text": [
      "2025-06-17 09:12:58,539 - INFO - Processing image /data/4-YQVM_9ac33726c539459d10cd6f6c97a6c9c77b0eefd4545f9eb551fbe334a9b59ad7/Dataset_4-YQVM/data/asset/Image/Multimodal_1231_Multimodal_2604_Multimodal_11403_Right_Field_1.jpg : , trial 3, color channel red, resize function imgResize_primary\n"
     ]
    },
    {
     "name": "stdout",
     "output_type": "stream",
     "text": [
      "1/1 [==============================] - 0s 20ms/step\n"
     ]
    },
    {
     "name": "stderr",
     "output_type": "stream",
     "text": [
      "2025-06-17 09:12:59,366 - INFO - Processing image /data/4-YQVM_9ac33726c539459d10cd6f6c97a6c9c77b0eefd4545f9eb551fbe334a9b59ad7/Dataset_4-YQVM/data/asset/Image/Multimodal_1231_Multimodal_2604_Multimodal_11403_Right_Field_1.jpg : , trial 4, color channel blue, resize function imgResize_primary\n"
     ]
    },
    {
     "name": "stdout",
     "output_type": "stream",
     "text": [
      "1/1 [==============================] - 0s 20ms/step\n"
     ]
    },
    {
     "name": "stderr",
     "output_type": "stream",
     "text": [
      "2025-06-17 09:12:59,904 - INFO - Processing image /data/4-YQVM_9ac33726c539459d10cd6f6c97a6c9c77b0eefd4545f9eb551fbe334a9b59ad7/Dataset_4-YQVM/data/asset/Image/Multimodal_1231_Multimodal_2604_Multimodal_11403_Right_Field_1.jpg : , trial 1, color channel grey, resize function imgResize_secondary\n"
     ]
    },
    {
     "name": "stdout",
     "output_type": "stream",
     "text": [
      "1/1 [==============================] - 0s 20ms/step\n"
     ]
    },
    {
     "name": "stderr",
     "output_type": "stream",
     "text": [
      "2025-06-17 09:13:00,807 - INFO - Processing image /data/4-YQVM_9ac33726c539459d10cd6f6c97a6c9c77b0eefd4545f9eb551fbe334a9b59ad7/Dataset_4-YQVM/data/asset/Image/Multimodal_1231_Multimodal_2604_Multimodal_11403_Right_Field_1.jpg : , trial 2, color channel green, resize function imgResize_secondary\n"
     ]
    },
    {
     "name": "stdout",
     "output_type": "stream",
     "text": [
      "1/1 [==============================] - 0s 20ms/step\n"
     ]
    },
    {
     "name": "stderr",
     "output_type": "stream",
     "text": [
      "2025-06-17 09:13:01,764 - INFO - Processing image /data/4-YQVM_9ac33726c539459d10cd6f6c97a6c9c77b0eefd4545f9eb551fbe334a9b59ad7/Dataset_4-YQVM/data/asset/Image/Multimodal_1231_Multimodal_2604_Multimodal_11403_Right_Field_1.jpg : , trial 3, color channel red, resize function imgResize_secondary\n"
     ]
    },
    {
     "name": "stdout",
     "output_type": "stream",
     "text": [
      "1/1 [==============================] - 0s 20ms/step\n"
     ]
    },
    {
     "name": "stderr",
     "output_type": "stream",
     "text": [
      "2025-06-17 09:13:02,804 - INFO - Processing image /data/4-YQVM_9ac33726c539459d10cd6f6c97a6c9c77b0eefd4545f9eb551fbe334a9b59ad7/Dataset_4-YQVM/data/asset/Image/Multimodal_1231_Multimodal_2604_Multimodal_11403_Right_Field_1.jpg : , trial 4, color channel blue, resize function imgResize_secondary\n"
     ]
    },
    {
     "name": "stdout",
     "output_type": "stream",
     "text": [
      "1/1 [==============================] - 0s 20ms/step\n"
     ]
    },
    {
     "name": "stderr",
     "output_type": "stream",
     "text": [
      "2025-06-17 09:13:03,543 - INFO - SVG for 4-YRWP saved.\n",
      "2025-06-17 09:13:03,601 - INFO - Processing image /data/4-YQVM_9ac33726c539459d10cd6f6c97a6c9c77b0eefd4545f9eb551fbe334a9b59ad7/Dataset_4-YQVM/data/asset/Image/Multimodal_1297_Multimodal_2719_Multimodal_11518_Left_Field_2.jpg : , trial 1, color channel grey, resize function imgResize_primary\n"
     ]
    },
    {
     "name": "stdout",
     "output_type": "stream",
     "text": [
      "1/1 [==============================] - 0s 20ms/step\n"
     ]
    },
    {
     "name": "stderr",
     "output_type": "stream",
     "text": [
      "2025-06-17 09:13:04,518 - INFO - SVG for 4-YRWR saved.\n",
      "2025-06-17 09:13:04,578 - INFO - Processing image /data/4-YQVM_9ac33726c539459d10cd6f6c97a6c9c77b0eefd4545f9eb551fbe334a9b59ad7/Dataset_4-YQVM/data/asset/Image/Multimodal_1329_Multimodal_2778_Multimodal_11577_Left_Field_2.jpg : , trial 1, color channel grey, resize function imgResize_primary\n"
     ]
    },
    {
     "name": "stdout",
     "output_type": "stream",
     "text": [
      "1/1 [==============================] - 0s 20ms/step\n"
     ]
    },
    {
     "name": "stderr",
     "output_type": "stream",
     "text": [
      "2025-06-17 09:13:05,388 - INFO - SVG for 4-YRWT saved.\n",
      "2025-06-17 09:13:05,446 - INFO - Processing image /data/4-YQVM_9ac33726c539459d10cd6f6c97a6c9c77b0eefd4545f9eb551fbe334a9b59ad7/Dataset_4-YQVM/data/asset/Image/Multimodal_1207_Multimodal_2561_Multimodal_11361_Left_Field_2.jpg : , trial 1, color channel grey, resize function imgResize_primary\n"
     ]
    },
    {
     "name": "stdout",
     "output_type": "stream",
     "text": [
      "1/1 [==============================] - 0s 20ms/step\n"
     ]
    },
    {
     "name": "stderr",
     "output_type": "stream",
     "text": [
      "2025-06-17 09:13:06,058 - INFO - SVG for 4-YRWW saved.\n",
      "2025-06-17 09:13:06,117 - INFO - Processing image /data/4-YQVM_9ac33726c539459d10cd6f6c97a6c9c77b0eefd4545f9eb551fbe334a9b59ad7/Dataset_4-YQVM/data/asset/Image/Multimodal_1315_Multimodal_2750_Multimodal_11549_Right_Field_2.jpg : , trial 1, color channel grey, resize function imgResize_primary\n"
     ]
    },
    {
     "name": "stdout",
     "output_type": "stream",
     "text": [
      "1/1 [==============================] - 0s 21ms/step\n"
     ]
    },
    {
     "name": "stderr",
     "output_type": "stream",
     "text": [
      "2025-06-17 09:13:06,808 - INFO - SVG for 4-YRWY saved.\n",
      "2025-06-17 09:13:06,871 - INFO - Processing image /data/4-YQVM_9ac33726c539459d10cd6f6c97a6c9c77b0eefd4545f9eb551fbe334a9b59ad7/Dataset_4-YQVM/data/asset/Image/Multimodal_1318_Multimodal_2756_Multimodal_11556_Left_Field_2.jpg : , trial 1, color channel grey, resize function imgResize_primary\n"
     ]
    },
    {
     "name": "stdout",
     "output_type": "stream",
     "text": [
      "1/1 [==============================] - 0s 21ms/step\n"
     ]
    },
    {
     "name": "stderr",
     "output_type": "stream",
     "text": [
      "2025-06-17 09:13:07,624 - INFO - SVG for 4-YRX0 saved.\n",
      "2025-06-17 09:13:07,684 - INFO - Processing image /data/4-YQVM_9ac33726c539459d10cd6f6c97a6c9c77b0eefd4545f9eb551fbe334a9b59ad7/Dataset_4-YQVM/data/asset/Image/Multimodal_1216_Multimodal_2578_Multimodal_11377_Right_Field_2.jpg : , trial 1, color channel grey, resize function imgResize_primary\n"
     ]
    },
    {
     "name": "stdout",
     "output_type": "stream",
     "text": [
      "1/1 [==============================] - 0s 20ms/step\n"
     ]
    },
    {
     "name": "stderr",
     "output_type": "stream",
     "text": [
      "2025-06-17 09:13:08,246 - INFO - Processing image /data/4-YQVM_9ac33726c539459d10cd6f6c97a6c9c77b0eefd4545f9eb551fbe334a9b59ad7/Dataset_4-YQVM/data/asset/Image/Multimodal_1216_Multimodal_2578_Multimodal_11377_Right_Field_2.jpg : , trial 2, color channel green, resize function imgResize_primary\n"
     ]
    },
    {
     "name": "stdout",
     "output_type": "stream",
     "text": [
      "1/1 [==============================] - 0s 20ms/step\n"
     ]
    },
    {
     "name": "stderr",
     "output_type": "stream",
     "text": [
      "2025-06-17 09:13:08,831 - INFO - Processing image /data/4-YQVM_9ac33726c539459d10cd6f6c97a6c9c77b0eefd4545f9eb551fbe334a9b59ad7/Dataset_4-YQVM/data/asset/Image/Multimodal_1216_Multimodal_2578_Multimodal_11377_Right_Field_2.jpg : , trial 3, color channel red, resize function imgResize_primary\n"
     ]
    },
    {
     "name": "stdout",
     "output_type": "stream",
     "text": [
      "1/1 [==============================] - 0s 20ms/step\n"
     ]
    },
    {
     "name": "stderr",
     "output_type": "stream",
     "text": [
      "2025-06-17 09:13:09,444 - INFO - Processing image /data/4-YQVM_9ac33726c539459d10cd6f6c97a6c9c77b0eefd4545f9eb551fbe334a9b59ad7/Dataset_4-YQVM/data/asset/Image/Multimodal_1216_Multimodal_2578_Multimodal_11377_Right_Field_2.jpg : , trial 4, color channel blue, resize function imgResize_primary\n"
     ]
    },
    {
     "name": "stdout",
     "output_type": "stream",
     "text": [
      "1/1 [==============================] - 0s 20ms/step\n"
     ]
    },
    {
     "name": "stderr",
     "output_type": "stream",
     "text": [
      "2025-06-17 09:13:10,064 - INFO - Processing image /data/4-YQVM_9ac33726c539459d10cd6f6c97a6c9c77b0eefd4545f9eb551fbe334a9b59ad7/Dataset_4-YQVM/data/asset/Image/Multimodal_1216_Multimodal_2578_Multimodal_11377_Right_Field_2.jpg : , trial 1, color channel grey, resize function imgResize_secondary\n"
     ]
    },
    {
     "name": "stdout",
     "output_type": "stream",
     "text": [
      "1/1 [==============================] - 0s 20ms/step\n"
     ]
    },
    {
     "name": "stderr",
     "output_type": "stream",
     "text": [
      "2025-06-17 09:13:10,990 - INFO - Processing image /data/4-YQVM_9ac33726c539459d10cd6f6c97a6c9c77b0eefd4545f9eb551fbe334a9b59ad7/Dataset_4-YQVM/data/asset/Image/Multimodal_1216_Multimodal_2578_Multimodal_11377_Right_Field_2.jpg : , trial 2, color channel green, resize function imgResize_secondary\n"
     ]
    },
    {
     "name": "stdout",
     "output_type": "stream",
     "text": [
      "1/1 [==============================] - 0s 20ms/step\n"
     ]
    },
    {
     "name": "stderr",
     "output_type": "stream",
     "text": [
      "2025-06-17 09:13:11,965 - INFO - SVG for 4-YRX2 saved.\n",
      "2025-06-17 09:13:12,024 - INFO - Processing image /data/4-YQVM_9ac33726c539459d10cd6f6c97a6c9c77b0eefd4545f9eb551fbe334a9b59ad7/Dataset_4-YQVM/data/asset/Image/Multimodal_1282_Multimodal_2691_Multimodal_11491_Left_Field_2.jpg : , trial 1, color channel grey, resize function imgResize_primary\n"
     ]
    },
    {
     "name": "stdout",
     "output_type": "stream",
     "text": [
      "1/1 [==============================] - 0s 20ms/step\n"
     ]
    },
    {
     "name": "stderr",
     "output_type": "stream",
     "text": [
      "2025-06-17 09:13:12,613 - INFO - SVG for 4-YRX4 saved.\n",
      "2025-06-17 09:13:12,672 - INFO - Processing image /data/4-YQVM_9ac33726c539459d10cd6f6c97a6c9c77b0eefd4545f9eb551fbe334a9b59ad7/Dataset_4-YQVM/data/asset/Image/Multimodal_1295_Multimodal_2716_Multimodal_11516_Left_Field_2.jpg : , trial 1, color channel grey, resize function imgResize_primary\n"
     ]
    },
    {
     "name": "stdout",
     "output_type": "stream",
     "text": [
      "1/1 [==============================] - 0s 20ms/step\n"
     ]
    },
    {
     "name": "stderr",
     "output_type": "stream",
     "text": [
      "2025-06-17 09:13:13,383 - INFO - SVG for 4-YRX6 saved.\n",
      "2025-06-17 09:13:13,441 - INFO - Processing image /data/4-YQVM_9ac33726c539459d10cd6f6c97a6c9c77b0eefd4545f9eb551fbe334a9b59ad7/Dataset_4-YQVM/data/asset/Image/Multimodal_1239_Multimodal_2619_Multimodal_11418_Right_Field_1.jpg : , trial 1, color channel grey, resize function imgResize_primary\n"
     ]
    },
    {
     "name": "stdout",
     "output_type": "stream",
     "text": [
      "1/1 [==============================] - 0s 21ms/step\n"
     ]
    },
    {
     "name": "stderr",
     "output_type": "stream",
     "text": [
      "2025-06-17 09:13:14,031 - INFO - SVG for 4-YRX8 saved.\n",
      "2025-06-17 09:13:14,091 - INFO - Processing image /data/4-YQVM_9ac33726c539459d10cd6f6c97a6c9c77b0eefd4545f9eb551fbe334a9b59ad7/Dataset_4-YQVM/data/asset/Image/Multimodal_1307_Multimodal_2738_Multimodal_11538_Left_Field_2.jpg : , trial 1, color channel grey, resize function imgResize_primary\n"
     ]
    },
    {
     "name": "stdout",
     "output_type": "stream",
     "text": [
      "1/1 [==============================] - 0s 20ms/step\n"
     ]
    },
    {
     "name": "stderr",
     "output_type": "stream",
     "text": [
      "2025-06-17 09:13:14,752 - INFO - Processing image /data/4-YQVM_9ac33726c539459d10cd6f6c97a6c9c77b0eefd4545f9eb551fbe334a9b59ad7/Dataset_4-YQVM/data/asset/Image/Multimodal_1307_Multimodal_2738_Multimodal_11538_Left_Field_2.jpg : , trial 2, color channel green, resize function imgResize_primary\n"
     ]
    },
    {
     "name": "stdout",
     "output_type": "stream",
     "text": [
      "1/1 [==============================] - 0s 21ms/step\n"
     ]
    },
    {
     "name": "stderr",
     "output_type": "stream",
     "text": [
      "2025-06-17 09:13:15,345 - INFO - Processing image /data/4-YQVM_9ac33726c539459d10cd6f6c97a6c9c77b0eefd4545f9eb551fbe334a9b59ad7/Dataset_4-YQVM/data/asset/Image/Multimodal_1307_Multimodal_2738_Multimodal_11538_Left_Field_2.jpg : , trial 3, color channel red, resize function imgResize_primary\n"
     ]
    },
    {
     "name": "stdout",
     "output_type": "stream",
     "text": [
      "1/1 [==============================] - 0s 20ms/step\n"
     ]
    },
    {
     "name": "stderr",
     "output_type": "stream",
     "text": [
      "2025-06-17 09:13:16,228 - INFO - Processing image /data/4-YQVM_9ac33726c539459d10cd6f6c97a6c9c77b0eefd4545f9eb551fbe334a9b59ad7/Dataset_4-YQVM/data/asset/Image/Multimodal_1307_Multimodal_2738_Multimodal_11538_Left_Field_2.jpg : , trial 4, color channel blue, resize function imgResize_primary\n"
     ]
    },
    {
     "name": "stdout",
     "output_type": "stream",
     "text": [
      "1/1 [==============================] - 0s 20ms/step\n"
     ]
    },
    {
     "name": "stderr",
     "output_type": "stream",
     "text": [
      "2025-06-17 09:13:16,858 - INFO - Processing image /data/4-YQVM_9ac33726c539459d10cd6f6c97a6c9c77b0eefd4545f9eb551fbe334a9b59ad7/Dataset_4-YQVM/data/asset/Image/Multimodal_1307_Multimodal_2738_Multimodal_11538_Left_Field_2.jpg : , trial 1, color channel grey, resize function imgResize_secondary\n"
     ]
    },
    {
     "name": "stdout",
     "output_type": "stream",
     "text": [
      "1/1 [==============================] - 0s 20ms/step\n"
     ]
    },
    {
     "name": "stderr",
     "output_type": "stream",
     "text": [
      "2025-06-17 09:13:17,594 - INFO - SVG for 4-YRXA saved.\n",
      "2025-06-17 09:13:17,653 - INFO - Processing image /data/4-YQVM_9ac33726c539459d10cd6f6c97a6c9c77b0eefd4545f9eb551fbe334a9b59ad7/Dataset_4-YQVM/data/asset/Image/Multimodal_1281_Multimodal_2690_Multimodal_11489_Right_Field_2.jpg : , trial 1, color channel grey, resize function imgResize_primary\n"
     ]
    },
    {
     "name": "stdout",
     "output_type": "stream",
     "text": [
      "1/1 [==============================] - 0s 20ms/step\n"
     ]
    },
    {
     "name": "stderr",
     "output_type": "stream",
     "text": [
      "2025-06-17 09:13:18,316 - INFO - SVG for 4-YRXC saved.\n",
      "2025-06-17 09:13:18,372 - INFO - Processing image /data/4-YQVM_9ac33726c539459d10cd6f6c97a6c9c77b0eefd4545f9eb551fbe334a9b59ad7/Dataset_4-YQVM/data/asset/Image/Multimodal_1316_Multimodal_2752_Multimodal_11551_Right_Field_2.jpg : , trial 1, color channel grey, resize function imgResize_primary\n"
     ]
    },
    {
     "name": "stdout",
     "output_type": "stream",
     "text": [
      "1/1 [==============================] - 0s 20ms/step\n"
     ]
    },
    {
     "name": "stderr",
     "output_type": "stream",
     "text": [
      "2025-06-17 09:13:19,157 - INFO - SVG for 4-YRXE saved.\n",
      "2025-06-17 09:13:19,216 - INFO - Processing image /data/4-YQVM_9ac33726c539459d10cd6f6c97a6c9c77b0eefd4545f9eb551fbe334a9b59ad7/Dataset_4-YQVM/data/asset/Image/Multimodal_1322_Multimodal_2764_Multimodal_11564_Left_Field_2.jpg : , trial 1, color channel grey, resize function imgResize_primary\n"
     ]
    },
    {
     "name": "stdout",
     "output_type": "stream",
     "text": [
      "1/1 [==============================] - 0s 20ms/step\n"
     ]
    },
    {
     "name": "stderr",
     "output_type": "stream",
     "text": [
      "2025-06-17 09:13:19,797 - INFO - SVG for 4-YRXG saved.\n",
      "2025-06-17 09:13:19,856 - INFO - Processing image /data/4-YQVM_9ac33726c539459d10cd6f6c97a6c9c77b0eefd4545f9eb551fbe334a9b59ad7/Dataset_4-YQVM/data/asset/Image/Multimodal_1285_Multimodal_2697_Multimodal_11496_Right_Field_2.jpg : , trial 1, color channel grey, resize function imgResize_primary\n"
     ]
    },
    {
     "name": "stdout",
     "output_type": "stream",
     "text": [
      "1/1 [==============================] - 0s 20ms/step\n"
     ]
    },
    {
     "name": "stderr",
     "output_type": "stream",
     "text": [
      "2025-06-17 09:13:20,489 - INFO - SVG for 4-YRXJ saved.\n",
      "2025-06-17 09:13:20,546 - INFO - Processing image /data/4-YQVM_9ac33726c539459d10cd6f6c97a6c9c77b0eefd4545f9eb551fbe334a9b59ad7/Dataset_4-YQVM/data/asset/Image/Multimodal_1256_Multimodal_2650_Multimodal_11449_Right_Field_2.jpg : , trial 1, color channel grey, resize function imgResize_primary\n"
     ]
    },
    {
     "name": "stdout",
     "output_type": "stream",
     "text": [
      "1/1 [==============================] - 0s 21ms/step\n"
     ]
    },
    {
     "name": "stderr",
     "output_type": "stream",
     "text": [
      "2025-06-17 09:13:21,541 - INFO - SVG for 4-YRXM saved.\n",
      "2025-06-17 09:13:21,601 - INFO - Processing image /data/4-YQVM_9ac33726c539459d10cd6f6c97a6c9c77b0eefd4545f9eb551fbe334a9b59ad7/Dataset_4-YQVM/data/asset/Image/Multimodal_1219_Multimodal_2583_Multimodal_11383_Left_Field_2.jpg : , trial 1, color channel grey, resize function imgResize_primary\n"
     ]
    },
    {
     "name": "stdout",
     "output_type": "stream",
     "text": [
      "1/1 [==============================] - 0s 20ms/step\n"
     ]
    },
    {
     "name": "stderr",
     "output_type": "stream",
     "text": [
      "2025-06-17 09:13:22,425 - INFO - Processing image /data/4-YQVM_9ac33726c539459d10cd6f6c97a6c9c77b0eefd4545f9eb551fbe334a9b59ad7/Dataset_4-YQVM/data/asset/Image/Multimodal_1219_Multimodal_2583_Multimodal_11383_Left_Field_2.jpg : , trial 2, color channel green, resize function imgResize_primary\n"
     ]
    },
    {
     "name": "stdout",
     "output_type": "stream",
     "text": [
      "1/1 [==============================] - 0s 21ms/step\n"
     ]
    },
    {
     "name": "stderr",
     "output_type": "stream",
     "text": [
      "2025-06-17 09:13:23,335 - INFO - Processing image /data/4-YQVM_9ac33726c539459d10cd6f6c97a6c9c77b0eefd4545f9eb551fbe334a9b59ad7/Dataset_4-YQVM/data/asset/Image/Multimodal_1219_Multimodal_2583_Multimodal_11383_Left_Field_2.jpg : , trial 3, color channel red, resize function imgResize_primary\n"
     ]
    },
    {
     "name": "stdout",
     "output_type": "stream",
     "text": [
      "1/1 [==============================] - 0s 20ms/step\n"
     ]
    },
    {
     "name": "stderr",
     "output_type": "stream",
     "text": [
      "2025-06-17 09:13:24,221 - INFO - SVG for 4-YRXP saved.\n",
      "2025-06-17 09:13:24,279 - INFO - Processing image /data/4-YQVM_9ac33726c539459d10cd6f6c97a6c9c77b0eefd4545f9eb551fbe334a9b59ad7/Dataset_4-YQVM/data/asset/Image/Multimodal_1214_Multimodal_2574_Multimodal_11373_Right_Field_1.jpg : , trial 1, color channel grey, resize function imgResize_primary\n"
     ]
    },
    {
     "name": "stdout",
     "output_type": "stream",
     "text": [
      "1/1 [==============================] - 0s 20ms/step\n"
     ]
    },
    {
     "name": "stderr",
     "output_type": "stream",
     "text": [
      "2025-06-17 09:13:24,942 - INFO - SVG for 4-YRXR saved.\n",
      "2025-06-17 09:13:25,002 - INFO - Processing image /data/4-YQVM_9ac33726c539459d10cd6f6c97a6c9c77b0eefd4545f9eb551fbe334a9b59ad7/Dataset_4-YQVM/data/asset/Image/Multimodal_1218_Multimodal_2582_Multimodal_11381_Right_Field_2.jpg : , trial 1, color channel grey, resize function imgResize_primary\n"
     ]
    },
    {
     "name": "stdout",
     "output_type": "stream",
     "text": [
      "1/1 [==============================] - 0s 20ms/step\n"
     ]
    },
    {
     "name": "stderr",
     "output_type": "stream",
     "text": [
      "2025-06-17 09:13:25,910 - INFO - SVG for 4-YRXT saved.\n",
      "2025-06-17 09:13:25,968 - INFO - Processing image /data/4-YQVM_9ac33726c539459d10cd6f6c97a6c9c77b0eefd4545f9eb551fbe334a9b59ad7/Dataset_4-YQVM/data/asset/Image/Multimodal_1299_Multimodal_2722_Multimodal_11521_Right_Field_2.jpg : , trial 1, color channel grey, resize function imgResize_primary\n"
     ]
    },
    {
     "name": "stdout",
     "output_type": "stream",
     "text": [
      "1/1 [==============================] - 0s 20ms/step\n"
     ]
    },
    {
     "name": "stderr",
     "output_type": "stream",
     "text": [
      "2025-06-17 09:13:26,481 - INFO - SVG for 4-YRXW saved.\n",
      "2025-06-17 09:13:26,538 - INFO - Processing image /data/4-YQVM_9ac33726c539459d10cd6f6c97a6c9c77b0eefd4545f9eb551fbe334a9b59ad7/Dataset_4-YQVM/data/asset/Image/Multimodal_1320_Multimodal_2760_Multimodal_11559_Right_Field_2.jpg : , trial 1, color channel grey, resize function imgResize_primary\n"
     ]
    },
    {
     "name": "stdout",
     "output_type": "stream",
     "text": [
      "1/1 [==============================] - 0s 20ms/step\n"
     ]
    },
    {
     "name": "stderr",
     "output_type": "stream",
     "text": [
      "2025-06-17 09:13:26,975 - INFO - Processing image /data/4-YQVM_9ac33726c539459d10cd6f6c97a6c9c77b0eefd4545f9eb551fbe334a9b59ad7/Dataset_4-YQVM/data/asset/Image/Multimodal_1320_Multimodal_2760_Multimodal_11559_Right_Field_2.jpg : , trial 2, color channel green, resize function imgResize_primary\n"
     ]
    },
    {
     "name": "stdout",
     "output_type": "stream",
     "text": [
      "1/1 [==============================] - 0s 20ms/step\n"
     ]
    },
    {
     "name": "stderr",
     "output_type": "stream",
     "text": [
      "2025-06-17 09:13:27,529 - INFO - SVG for 4-YRXY saved.\n",
      "2025-06-17 09:13:27,594 - INFO - Processing image /data/4-YQVM_9ac33726c539459d10cd6f6c97a6c9c77b0eefd4545f9eb551fbe334a9b59ad7/Dataset_4-YQVM/data/asset/Image/Multimodal_1338_Multimodal_2794_Multimodal_11594_Left_Field_1.jpg : , trial 1, color channel grey, resize function imgResize_primary\n"
     ]
    },
    {
     "name": "stdout",
     "output_type": "stream",
     "text": [
      "1/1 [==============================] - 0s 20ms/step\n"
     ]
    },
    {
     "name": "stderr",
     "output_type": "stream",
     "text": [
      "2025-06-17 09:13:28,265 - INFO - SVG for 4-YRY0 saved.\n",
      "2025-06-17 09:13:28,323 - INFO - Processing image /data/4-YQVM_9ac33726c539459d10cd6f6c97a6c9c77b0eefd4545f9eb551fbe334a9b59ad7/Dataset_4-YQVM/data/asset/Image/Multimodal_1322_Multimodal_2764_Multimodal_11563_Right_Field_2.jpg : , trial 1, color channel grey, resize function imgResize_primary\n"
     ]
    },
    {
     "name": "stdout",
     "output_type": "stream",
     "text": [
      "1/1 [==============================] - 0s 20ms/step\n"
     ]
    },
    {
     "name": "stderr",
     "output_type": "stream",
     "text": [
      "2025-06-17 09:13:28,915 - INFO - Processing image /data/4-YQVM_9ac33726c539459d10cd6f6c97a6c9c77b0eefd4545f9eb551fbe334a9b59ad7/Dataset_4-YQVM/data/asset/Image/Multimodal_1322_Multimodal_2764_Multimodal_11563_Right_Field_2.jpg : , trial 2, color channel green, resize function imgResize_primary\n"
     ]
    },
    {
     "name": "stdout",
     "output_type": "stream",
     "text": [
      "1/1 [==============================] - 0s 20ms/step\n"
     ]
    },
    {
     "name": "stderr",
     "output_type": "stream",
     "text": [
      "2025-06-17 09:13:29,578 - INFO - Processing image /data/4-YQVM_9ac33726c539459d10cd6f6c97a6c9c77b0eefd4545f9eb551fbe334a9b59ad7/Dataset_4-YQVM/data/asset/Image/Multimodal_1322_Multimodal_2764_Multimodal_11563_Right_Field_2.jpg : , trial 3, color channel red, resize function imgResize_primary\n"
     ]
    },
    {
     "name": "stdout",
     "output_type": "stream",
     "text": [
      "1/1 [==============================] - 0s 20ms/step\n"
     ]
    },
    {
     "name": "stderr",
     "output_type": "stream",
     "text": [
      "2025-06-17 09:13:30,265 - INFO - SVG for 4-YRY2 saved.\n",
      "2025-06-17 09:13:30,326 - INFO - Processing image /data/4-YQVM_9ac33726c539459d10cd6f6c97a6c9c77b0eefd4545f9eb551fbe334a9b59ad7/Dataset_4-YQVM/data/asset/Image/Multimodal_1240_Multimodal_2621_Multimodal_11421_Left_Field_2.jpg : , trial 1, color channel grey, resize function imgResize_primary\n"
     ]
    },
    {
     "name": "stdout",
     "output_type": "stream",
     "text": [
      "1/1 [==============================] - 0s 20ms/step\n"
     ]
    },
    {
     "name": "stderr",
     "output_type": "stream",
     "text": [
      "2025-06-17 09:13:31,006 - INFO - SVG for 4-YRY4 saved.\n",
      "2025-06-17 09:13:31,065 - INFO - Processing image /data/4-YQVM_9ac33726c539459d10cd6f6c97a6c9c77b0eefd4545f9eb551fbe334a9b59ad7/Dataset_4-YQVM/data/asset/Image/Multimodal_1224_Multimodal_2592_Multimodal_11391_Right_Field_1.jpg : , trial 1, color channel grey, resize function imgResize_primary\n"
     ]
    },
    {
     "name": "stdout",
     "output_type": "stream",
     "text": [
      "1/1 [==============================] - 0s 20ms/step\n"
     ]
    },
    {
     "name": "stderr",
     "output_type": "stream",
     "text": [
      "2025-06-17 09:13:31,807 - INFO - SVG for 4-YRY6 saved.\n",
      "2025-06-17 09:13:31,864 - INFO - Processing image /data/4-YQVM_9ac33726c539459d10cd6f6c97a6c9c77b0eefd4545f9eb551fbe334a9b59ad7/Dataset_4-YQVM/data/asset/Image/Multimodal_1247_Multimodal_2635_Multimodal_11435_Left_Field_2.jpg : , trial 1, color channel grey, resize function imgResize_primary\n"
     ]
    },
    {
     "name": "stdout",
     "output_type": "stream",
     "text": [
      "1/1 [==============================] - 0s 20ms/step\n"
     ]
    },
    {
     "name": "stderr",
     "output_type": "stream",
     "text": [
      "2025-06-17 09:13:32,393 - INFO - SVG for 4-YRY8 saved.\n",
      "2025-06-17 09:13:32,449 - INFO - Processing image /data/4-YQVM_9ac33726c539459d10cd6f6c97a6c9c77b0eefd4545f9eb551fbe334a9b59ad7/Dataset_4-YQVM/data/asset/Image/Multimodal_1250_Multimodal_2640_Multimodal_11439_Right_Field_2.jpg : , trial 1, color channel grey, resize function imgResize_primary\n"
     ]
    },
    {
     "name": "stdout",
     "output_type": "stream",
     "text": [
      "1/1 [==============================] - 0s 20ms/step\n"
     ]
    },
    {
     "name": "stderr",
     "output_type": "stream",
     "text": [
      "2025-06-17 09:13:33,124 - INFO - SVG for 4-YRYA saved.\n",
      "2025-06-17 09:13:33,181 - INFO - Processing image /data/4-YQVM_9ac33726c539459d10cd6f6c97a6c9c77b0eefd4545f9eb551fbe334a9b59ad7/Dataset_4-YQVM/data/asset/Image/Multimodal_1290_Multimodal_2706_Multimodal_11505_Right_Field_2.jpg : , trial 1, color channel grey, resize function imgResize_primary\n"
     ]
    },
    {
     "name": "stdout",
     "output_type": "stream",
     "text": [
      "1/1 [==============================] - 0s 20ms/step\n"
     ]
    },
    {
     "name": "stderr",
     "output_type": "stream",
     "text": [
      "2025-06-17 09:13:33,836 - INFO - SVG for 4-YRYC saved.\n",
      "2025-06-17 09:13:33,896 - INFO - Processing image /data/4-YQVM_9ac33726c539459d10cd6f6c97a6c9c77b0eefd4545f9eb551fbe334a9b59ad7/Dataset_4-YQVM/data/asset/Image/Multimodal_1212_Multimodal_2570_Multimodal_11370_Left_Field_2.jpg : , trial 1, color channel grey, resize function imgResize_primary\n"
     ]
    },
    {
     "name": "stdout",
     "output_type": "stream",
     "text": [
      "1/1 [==============================] - 0s 20ms/step\n"
     ]
    },
    {
     "name": "stderr",
     "output_type": "stream",
     "text": [
      "2025-06-17 09:13:34,577 - INFO - Processing image /data/4-YQVM_9ac33726c539459d10cd6f6c97a6c9c77b0eefd4545f9eb551fbe334a9b59ad7/Dataset_4-YQVM/data/asset/Image/Multimodal_1212_Multimodal_2570_Multimodal_11370_Left_Field_2.jpg : , trial 2, color channel green, resize function imgResize_primary\n"
     ]
    },
    {
     "name": "stdout",
     "output_type": "stream",
     "text": [
      "1/1 [==============================] - 0s 20ms/step\n"
     ]
    },
    {
     "name": "stderr",
     "output_type": "stream",
     "text": [
      "2025-06-17 09:13:35,727 - INFO - Processing image /data/4-YQVM_9ac33726c539459d10cd6f6c97a6c9c77b0eefd4545f9eb551fbe334a9b59ad7/Dataset_4-YQVM/data/asset/Image/Multimodal_1212_Multimodal_2570_Multimodal_11370_Left_Field_2.jpg : , trial 3, color channel red, resize function imgResize_primary\n"
     ]
    },
    {
     "name": "stdout",
     "output_type": "stream",
     "text": [
      "1/1 [==============================] - 0s 20ms/step\n"
     ]
    },
    {
     "name": "stderr",
     "output_type": "stream",
     "text": [
      "2025-06-17 09:13:36,585 - INFO - Processing image /data/4-YQVM_9ac33726c539459d10cd6f6c97a6c9c77b0eefd4545f9eb551fbe334a9b59ad7/Dataset_4-YQVM/data/asset/Image/Multimodal_1212_Multimodal_2570_Multimodal_11370_Left_Field_2.jpg : , trial 4, color channel blue, resize function imgResize_primary\n"
     ]
    },
    {
     "name": "stdout",
     "output_type": "stream",
     "text": [
      "1/1 [==============================] - 0s 20ms/step\n"
     ]
    },
    {
     "name": "stderr",
     "output_type": "stream",
     "text": [
      "2025-06-17 09:13:37,451 - INFO - Processing image /data/4-YQVM_9ac33726c539459d10cd6f6c97a6c9c77b0eefd4545f9eb551fbe334a9b59ad7/Dataset_4-YQVM/data/asset/Image/Multimodal_1212_Multimodal_2570_Multimodal_11370_Left_Field_2.jpg : , trial 1, color channel grey, resize function imgResize_secondary\n"
     ]
    },
    {
     "name": "stdout",
     "output_type": "stream",
     "text": [
      "1/1 [==============================] - 0s 20ms/step\n"
     ]
    },
    {
     "name": "stderr",
     "output_type": "stream",
     "text": [
      "2025-06-17 09:13:38,438 - INFO - Processing image /data/4-YQVM_9ac33726c539459d10cd6f6c97a6c9c77b0eefd4545f9eb551fbe334a9b59ad7/Dataset_4-YQVM/data/asset/Image/Multimodal_1212_Multimodal_2570_Multimodal_11370_Left_Field_2.jpg : , trial 2, color channel green, resize function imgResize_secondary\n"
     ]
    },
    {
     "name": "stdout",
     "output_type": "stream",
     "text": [
      "1/1 [==============================] - 0s 20ms/step\n"
     ]
    },
    {
     "name": "stderr",
     "output_type": "stream",
     "text": [
      "2025-06-17 09:13:39,562 - INFO - Processing image /data/4-YQVM_9ac33726c539459d10cd6f6c97a6c9c77b0eefd4545f9eb551fbe334a9b59ad7/Dataset_4-YQVM/data/asset/Image/Multimodal_1212_Multimodal_2570_Multimodal_11370_Left_Field_2.jpg : , trial 3, color channel red, resize function imgResize_secondary\n"
     ]
    },
    {
     "name": "stdout",
     "output_type": "stream",
     "text": [
      "1/1 [==============================] - 0s 20ms/step\n"
     ]
    },
    {
     "name": "stderr",
     "output_type": "stream",
     "text": [
      "2025-06-17 09:13:40,579 - INFO - Processing image /data/4-YQVM_9ac33726c539459d10cd6f6c97a6c9c77b0eefd4545f9eb551fbe334a9b59ad7/Dataset_4-YQVM/data/asset/Image/Multimodal_1212_Multimodal_2570_Multimodal_11370_Left_Field_2.jpg : , trial 4, color channel blue, resize function imgResize_secondary\n"
     ]
    },
    {
     "name": "stdout",
     "output_type": "stream",
     "text": [
      "1/1 [==============================] - 0s 20ms/step\n"
     ]
    },
    {
     "name": "stderr",
     "output_type": "stream",
     "text": [
      "2025-06-17 09:13:41,885 - INFO - Processing image /data/4-YQVM_9ac33726c539459d10cd6f6c97a6c9c77b0eefd4545f9eb551fbe334a9b59ad7/Dataset_4-YQVM/data/asset/Image/Multimodal_1212_Multimodal_2570_Multimodal_11370_Left_Field_2.jpg : , trial 1, color channel grey, resize function imgResize_primary\n"
     ]
    },
    {
     "name": "stdout",
     "output_type": "stream",
     "text": [
      "1/1 [==============================] - 0s 21ms/step\n"
     ]
    },
    {
     "name": "stderr",
     "output_type": "stream",
     "text": [
      "2025-06-17 09:13:42,577 - INFO - Processing image /data/4-YQVM_9ac33726c539459d10cd6f6c97a6c9c77b0eefd4545f9eb551fbe334a9b59ad7/Dataset_4-YQVM/data/asset/Image/Multimodal_1212_Multimodal_2570_Multimodal_11370_Left_Field_2.jpg : , trial 2, color channel green, resize function imgResize_primary\n"
     ]
    },
    {
     "name": "stdout",
     "output_type": "stream",
     "text": [
      "1/1 [==============================] - 0s 20ms/step\n"
     ]
    },
    {
     "name": "stderr",
     "output_type": "stream",
     "text": [
      "2025-06-17 09:13:43,359 - INFO - Processing image /data/4-YQVM_9ac33726c539459d10cd6f6c97a6c9c77b0eefd4545f9eb551fbe334a9b59ad7/Dataset_4-YQVM/data/asset/Image/Multimodal_1212_Multimodal_2570_Multimodal_11370_Left_Field_2.jpg : , trial 3, color channel red, resize function imgResize_primary\n"
     ]
    },
    {
     "name": "stdout",
     "output_type": "stream",
     "text": [
      "1/1 [==============================] - 0s 21ms/step\n"
     ]
    },
    {
     "name": "stderr",
     "output_type": "stream",
     "text": [
      "2025-06-17 09:13:44,203 - INFO - Processing image /data/4-YQVM_9ac33726c539459d10cd6f6c97a6c9c77b0eefd4545f9eb551fbe334a9b59ad7/Dataset_4-YQVM/data/asset/Image/Multimodal_1212_Multimodal_2570_Multimodal_11370_Left_Field_2.jpg : , trial 4, color channel blue, resize function imgResize_primary\n"
     ]
    },
    {
     "name": "stdout",
     "output_type": "stream",
     "text": [
      "1/1 [==============================] - 0s 20ms/step\n"
     ]
    },
    {
     "name": "stderr",
     "output_type": "stream",
     "text": [
      "2025-06-17 09:13:45,053 - INFO - Processing image /data/4-YQVM_9ac33726c539459d10cd6f6c97a6c9c77b0eefd4545f9eb551fbe334a9b59ad7/Dataset_4-YQVM/data/asset/Image/Multimodal_1212_Multimodal_2570_Multimodal_11370_Left_Field_2.jpg : , trial 1, color channel grey, resize function imgResize_secondary\n"
     ]
    },
    {
     "name": "stdout",
     "output_type": "stream",
     "text": [
      "1/1 [==============================] - 0s 20ms/step\n"
     ]
    },
    {
     "name": "stderr",
     "output_type": "stream",
     "text": [
      "2025-06-17 09:13:46,128 - INFO - Processing image /data/4-YQVM_9ac33726c539459d10cd6f6c97a6c9c77b0eefd4545f9eb551fbe334a9b59ad7/Dataset_4-YQVM/data/asset/Image/Multimodal_1212_Multimodal_2570_Multimodal_11370_Left_Field_2.jpg : , trial 2, color channel green, resize function imgResize_secondary\n"
     ]
    },
    {
     "name": "stdout",
     "output_type": "stream",
     "text": [
      "1/1 [==============================] - 0s 20ms/step\n"
     ]
    },
    {
     "name": "stderr",
     "output_type": "stream",
     "text": [
      "2025-06-17 09:13:47,372 - INFO - Processing image /data/4-YQVM_9ac33726c539459d10cd6f6c97a6c9c77b0eefd4545f9eb551fbe334a9b59ad7/Dataset_4-YQVM/data/asset/Image/Multimodal_1212_Multimodal_2570_Multimodal_11370_Left_Field_2.jpg : , trial 3, color channel red, resize function imgResize_secondary\n"
     ]
    },
    {
     "name": "stdout",
     "output_type": "stream",
     "text": [
      "1/1 [==============================] - 0s 20ms/step\n"
     ]
    },
    {
     "name": "stderr",
     "output_type": "stream",
     "text": [
      "2025-06-17 09:13:48,444 - INFO - Processing image /data/4-YQVM_9ac33726c539459d10cd6f6c97a6c9c77b0eefd4545f9eb551fbe334a9b59ad7/Dataset_4-YQVM/data/asset/Image/Multimodal_1212_Multimodal_2570_Multimodal_11370_Left_Field_2.jpg : , trial 4, color channel blue, resize function imgResize_secondary\n"
     ]
    },
    {
     "name": "stdout",
     "output_type": "stream",
     "text": [
      "1/1 [==============================] - 0s 20ms/step\n"
     ]
    },
    {
     "name": "stderr",
     "output_type": "stream",
     "text": [
      "2025-06-17 09:13:49,464 - INFO - Processing image /data/4-YQVM_9ac33726c539459d10cd6f6c97a6c9c77b0eefd4545f9eb551fbe334a9b59ad7/Dataset_4-YQVM/data/asset/Image/Multimodal_1212_Multimodal_2570_Multimodal_11370_Left_Field_2.jpg : , trial 1, color channel grey, resize function imgResize_primary\n"
     ]
    },
    {
     "name": "stdout",
     "output_type": "stream",
     "text": [
      "1/1 [==============================] - 0s 21ms/step\n"
     ]
    },
    {
     "name": "stderr",
     "output_type": "stream",
     "text": [
      "2025-06-17 09:13:50,273 - INFO - Processing image /data/4-YQVM_9ac33726c539459d10cd6f6c97a6c9c77b0eefd4545f9eb551fbe334a9b59ad7/Dataset_4-YQVM/data/asset/Image/Multimodal_1212_Multimodal_2570_Multimodal_11370_Left_Field_2.jpg : , trial 2, color channel green, resize function imgResize_primary\n"
     ]
    },
    {
     "name": "stdout",
     "output_type": "stream",
     "text": [
      "1/1 [==============================] - 0s 20ms/step\n"
     ]
    },
    {
     "name": "stderr",
     "output_type": "stream",
     "text": [
      "2025-06-17 09:13:51,175 - INFO - Processing image /data/4-YQVM_9ac33726c539459d10cd6f6c97a6c9c77b0eefd4545f9eb551fbe334a9b59ad7/Dataset_4-YQVM/data/asset/Image/Multimodal_1212_Multimodal_2570_Multimodal_11370_Left_Field_2.jpg : , trial 3, color channel red, resize function imgResize_primary\n"
     ]
    },
    {
     "name": "stdout",
     "output_type": "stream",
     "text": [
      "1/1 [==============================] - 0s 20ms/step\n"
     ]
    },
    {
     "name": "stderr",
     "output_type": "stream",
     "text": [
      "2025-06-17 09:13:51,911 - INFO - Processing image /data/4-YQVM_9ac33726c539459d10cd6f6c97a6c9c77b0eefd4545f9eb551fbe334a9b59ad7/Dataset_4-YQVM/data/asset/Image/Multimodal_1212_Multimodal_2570_Multimodal_11370_Left_Field_2.jpg : , trial 4, color channel blue, resize function imgResize_primary\n"
     ]
    },
    {
     "name": "stdout",
     "output_type": "stream",
     "text": [
      "1/1 [==============================] - 0s 20ms/step\n"
     ]
    },
    {
     "name": "stderr",
     "output_type": "stream",
     "text": [
      "2025-06-17 09:13:52,785 - INFO - Processing image /data/4-YQVM_9ac33726c539459d10cd6f6c97a6c9c77b0eefd4545f9eb551fbe334a9b59ad7/Dataset_4-YQVM/data/asset/Image/Multimodal_1212_Multimodal_2570_Multimodal_11370_Left_Field_2.jpg : , trial 1, color channel grey, resize function imgResize_secondary\n"
     ]
    },
    {
     "name": "stdout",
     "output_type": "stream",
     "text": [
      "1/1 [==============================] - 0s 20ms/step\n"
     ]
    },
    {
     "name": "stderr",
     "output_type": "stream",
     "text": [
      "2025-06-17 09:13:53,722 - INFO - Processing image /data/4-YQVM_9ac33726c539459d10cd6f6c97a6c9c77b0eefd4545f9eb551fbe334a9b59ad7/Dataset_4-YQVM/data/asset/Image/Multimodal_1212_Multimodal_2570_Multimodal_11370_Left_Field_2.jpg : , trial 2, color channel green, resize function imgResize_secondary\n"
     ]
    },
    {
     "name": "stdout",
     "output_type": "stream",
     "text": [
      "1/1 [==============================] - 0s 20ms/step\n"
     ]
    },
    {
     "name": "stderr",
     "output_type": "stream",
     "text": [
      "2025-06-17 09:13:54,952 - INFO - Processing image /data/4-YQVM_9ac33726c539459d10cd6f6c97a6c9c77b0eefd4545f9eb551fbe334a9b59ad7/Dataset_4-YQVM/data/asset/Image/Multimodal_1212_Multimodal_2570_Multimodal_11370_Left_Field_2.jpg : , trial 3, color channel red, resize function imgResize_secondary\n"
     ]
    },
    {
     "name": "stdout",
     "output_type": "stream",
     "text": [
      "1/1 [==============================] - 0s 20ms/step\n"
     ]
    },
    {
     "name": "stderr",
     "output_type": "stream",
     "text": [
      "2025-06-17 09:13:55,808 - INFO - Processing image /data/4-YQVM_9ac33726c539459d10cd6f6c97a6c9c77b0eefd4545f9eb551fbe334a9b59ad7/Dataset_4-YQVM/data/asset/Image/Multimodal_1212_Multimodal_2570_Multimodal_11370_Left_Field_2.jpg : , trial 4, color channel blue, resize function imgResize_secondary\n"
     ]
    },
    {
     "name": "stdout",
     "output_type": "stream",
     "text": [
      "1/1 [==============================] - 0s 20ms/step\n"
     ]
    },
    {
     "name": "stderr",
     "output_type": "stream",
     "text": [
      "2025-06-17 09:13:57,043 - INFO - Processing image /data/4-YQVM_9ac33726c539459d10cd6f6c97a6c9c77b0eefd4545f9eb551fbe334a9b59ad7/Dataset_4-YQVM/data/asset/Image/Multimodal_1212_Multimodal_2570_Multimodal_11370_Left_Field_2.jpg : , trial 1, color channel grey, resize function imgResize_primary\n"
     ]
    },
    {
     "name": "stdout",
     "output_type": "stream",
     "text": [
      "1/1 [==============================] - 0s 20ms/step\n"
     ]
    },
    {
     "name": "stderr",
     "output_type": "stream",
     "text": [
      "2025-06-17 09:13:57,839 - INFO - Processing image /data/4-YQVM_9ac33726c539459d10cd6f6c97a6c9c77b0eefd4545f9eb551fbe334a9b59ad7/Dataset_4-YQVM/data/asset/Image/Multimodal_1212_Multimodal_2570_Multimodal_11370_Left_Field_2.jpg : , trial 2, color channel green, resize function imgResize_primary\n"
     ]
    },
    {
     "name": "stdout",
     "output_type": "stream",
     "text": [
      "1/1 [==============================] - 0s 21ms/step\n"
     ]
    },
    {
     "name": "stderr",
     "output_type": "stream",
     "text": [
      "2025-06-17 09:13:58,711 - INFO - Processing image /data/4-YQVM_9ac33726c539459d10cd6f6c97a6c9c77b0eefd4545f9eb551fbe334a9b59ad7/Dataset_4-YQVM/data/asset/Image/Multimodal_1212_Multimodal_2570_Multimodal_11370_Left_Field_2.jpg : , trial 3, color channel red, resize function imgResize_primary\n"
     ]
    },
    {
     "name": "stdout",
     "output_type": "stream",
     "text": [
      "1/1 [==============================] - 0s 20ms/step\n"
     ]
    },
    {
     "name": "stderr",
     "output_type": "stream",
     "text": [
      "2025-06-17 09:13:59,362 - INFO - Processing image /data/4-YQVM_9ac33726c539459d10cd6f6c97a6c9c77b0eefd4545f9eb551fbe334a9b59ad7/Dataset_4-YQVM/data/asset/Image/Multimodal_1212_Multimodal_2570_Multimodal_11370_Left_Field_2.jpg : , trial 4, color channel blue, resize function imgResize_primary\n"
     ]
    },
    {
     "name": "stdout",
     "output_type": "stream",
     "text": [
      "1/1 [==============================] - 0s 20ms/step\n"
     ]
    },
    {
     "name": "stderr",
     "output_type": "stream",
     "text": [
      "2025-06-17 09:14:00,140 - INFO - Processing image /data/4-YQVM_9ac33726c539459d10cd6f6c97a6c9c77b0eefd4545f9eb551fbe334a9b59ad7/Dataset_4-YQVM/data/asset/Image/Multimodal_1212_Multimodal_2570_Multimodal_11370_Left_Field_2.jpg : , trial 1, color channel grey, resize function imgResize_secondary\n"
     ]
    },
    {
     "name": "stdout",
     "output_type": "stream",
     "text": [
      "1/1 [==============================] - 0s 21ms/step\n"
     ]
    },
    {
     "name": "stderr",
     "output_type": "stream",
     "text": [
      "2025-06-17 09:14:01,031 - INFO - Processing image /data/4-YQVM_9ac33726c539459d10cd6f6c97a6c9c77b0eefd4545f9eb551fbe334a9b59ad7/Dataset_4-YQVM/data/asset/Image/Multimodal_1212_Multimodal_2570_Multimodal_11370_Left_Field_2.jpg : , trial 2, color channel green, resize function imgResize_secondary\n"
     ]
    },
    {
     "name": "stdout",
     "output_type": "stream",
     "text": [
      "1/1 [==============================] - 0s 20ms/step\n"
     ]
    },
    {
     "name": "stderr",
     "output_type": "stream",
     "text": [
      "2025-06-17 09:14:02,585 - INFO - Processing image /data/4-YQVM_9ac33726c539459d10cd6f6c97a6c9c77b0eefd4545f9eb551fbe334a9b59ad7/Dataset_4-YQVM/data/asset/Image/Multimodal_1212_Multimodal_2570_Multimodal_11370_Left_Field_2.jpg : , trial 3, color channel red, resize function imgResize_secondary\n"
     ]
    },
    {
     "name": "stdout",
     "output_type": "stream",
     "text": [
      "1/1 [==============================] - 0s 20ms/step\n"
     ]
    },
    {
     "name": "stderr",
     "output_type": "stream",
     "text": [
      "2025-06-17 09:14:03,661 - INFO - Processing image /data/4-YQVM_9ac33726c539459d10cd6f6c97a6c9c77b0eefd4545f9eb551fbe334a9b59ad7/Dataset_4-YQVM/data/asset/Image/Multimodal_1212_Multimodal_2570_Multimodal_11370_Left_Field_2.jpg : , trial 4, color channel blue, resize function imgResize_secondary\n"
     ]
    },
    {
     "name": "stdout",
     "output_type": "stream",
     "text": [
      "1/1 [==============================] - 0s 20ms/step\n"
     ]
    },
    {
     "name": "stderr",
     "output_type": "stream",
     "text": [
      "2025-06-17 09:14:04,815 - INFO - Processing image /data/4-YQVM_9ac33726c539459d10cd6f6c97a6c9c77b0eefd4545f9eb551fbe334a9b59ad7/Dataset_4-YQVM/data/asset/Image/Multimodal_1212_Multimodal_2570_Multimodal_11370_Left_Field_2.jpg : , trial 1, color channel grey, resize function imgResize_primary\n"
     ]
    },
    {
     "name": "stdout",
     "output_type": "stream",
     "text": [
      "1/1 [==============================] - 0s 20ms/step\n"
     ]
    },
    {
     "name": "stderr",
     "output_type": "stream",
     "text": [
      "2025-06-17 09:14:05,466 - INFO - Processing image /data/4-YQVM_9ac33726c539459d10cd6f6c97a6c9c77b0eefd4545f9eb551fbe334a9b59ad7/Dataset_4-YQVM/data/asset/Image/Multimodal_1212_Multimodal_2570_Multimodal_11370_Left_Field_2.jpg : , trial 2, color channel green, resize function imgResize_primary\n"
     ]
    },
    {
     "name": "stdout",
     "output_type": "stream",
     "text": [
      "1/1 [==============================] - 0s 20ms/step\n"
     ]
    },
    {
     "name": "stderr",
     "output_type": "stream",
     "text": [
      "2025-06-17 09:14:06,266 - INFO - Processing image /data/4-YQVM_9ac33726c539459d10cd6f6c97a6c9c77b0eefd4545f9eb551fbe334a9b59ad7/Dataset_4-YQVM/data/asset/Image/Multimodal_1212_Multimodal_2570_Multimodal_11370_Left_Field_2.jpg : , trial 3, color channel red, resize function imgResize_primary\n"
     ]
    },
    {
     "name": "stdout",
     "output_type": "stream",
     "text": [
      "1/1 [==============================] - 0s 20ms/step\n"
     ]
    },
    {
     "name": "stderr",
     "output_type": "stream",
     "text": [
      "2025-06-17 09:14:06,955 - INFO - Processing image /data/4-YQVM_9ac33726c539459d10cd6f6c97a6c9c77b0eefd4545f9eb551fbe334a9b59ad7/Dataset_4-YQVM/data/asset/Image/Multimodal_1212_Multimodal_2570_Multimodal_11370_Left_Field_2.jpg : , trial 4, color channel blue, resize function imgResize_primary\n"
     ]
    },
    {
     "name": "stdout",
     "output_type": "stream",
     "text": [
      "1/1 [==============================] - 0s 20ms/step\n"
     ]
    },
    {
     "name": "stderr",
     "output_type": "stream",
     "text": [
      "2025-06-17 09:14:08,055 - INFO - Processing image /data/4-YQVM_9ac33726c539459d10cd6f6c97a6c9c77b0eefd4545f9eb551fbe334a9b59ad7/Dataset_4-YQVM/data/asset/Image/Multimodal_1212_Multimodal_2570_Multimodal_11370_Left_Field_2.jpg : , trial 1, color channel grey, resize function imgResize_secondary\n"
     ]
    },
    {
     "name": "stdout",
     "output_type": "stream",
     "text": [
      "1/1 [==============================] - 0s 20ms/step\n"
     ]
    },
    {
     "name": "stderr",
     "output_type": "stream",
     "text": [
      "2025-06-17 09:14:09,001 - INFO - Processing image /data/4-YQVM_9ac33726c539459d10cd6f6c97a6c9c77b0eefd4545f9eb551fbe334a9b59ad7/Dataset_4-YQVM/data/asset/Image/Multimodal_1212_Multimodal_2570_Multimodal_11370_Left_Field_2.jpg : , trial 2, color channel green, resize function imgResize_secondary\n"
     ]
    },
    {
     "name": "stdout",
     "output_type": "stream",
     "text": [
      "1/1 [==============================] - 0s 20ms/step\n"
     ]
    },
    {
     "name": "stderr",
     "output_type": "stream",
     "text": [
      "2025-06-17 09:14:10,419 - INFO - Processing image /data/4-YQVM_9ac33726c539459d10cd6f6c97a6c9c77b0eefd4545f9eb551fbe334a9b59ad7/Dataset_4-YQVM/data/asset/Image/Multimodal_1212_Multimodal_2570_Multimodal_11370_Left_Field_2.jpg : , trial 3, color channel red, resize function imgResize_secondary\n"
     ]
    },
    {
     "name": "stdout",
     "output_type": "stream",
     "text": [
      "1/1 [==============================] - 0s 20ms/step\n"
     ]
    },
    {
     "name": "stderr",
     "output_type": "stream",
     "text": [
      "2025-06-17 09:14:11,397 - INFO - Processing image /data/4-YQVM_9ac33726c539459d10cd6f6c97a6c9c77b0eefd4545f9eb551fbe334a9b59ad7/Dataset_4-YQVM/data/asset/Image/Multimodal_1212_Multimodal_2570_Multimodal_11370_Left_Field_2.jpg : , trial 4, color channel blue, resize function imgResize_secondary\n"
     ]
    },
    {
     "name": "stdout",
     "output_type": "stream",
     "text": [
      "1/1 [==============================] - 0s 20ms/step\n"
     ]
    },
    {
     "name": "stderr",
     "output_type": "stream",
     "text": [
      "2025-06-17 09:14:12,420 - INFO - SVG for 4-YRYE saved.\n",
      "2025-06-17 09:14:12,480 - INFO - Processing image /data/4-YQVM_9ac33726c539459d10cd6f6c97a6c9c77b0eefd4545f9eb551fbe334a9b59ad7/Dataset_4-YQVM/data/asset/Image/Multimodal_1273_Multimodal_2678_Multimodal_11477_Left_Field_2.jpg : , trial 1, color channel grey, resize function imgResize_primary\n"
     ]
    },
    {
     "name": "stdout",
     "output_type": "stream",
     "text": [
      "1/1 [==============================] - 0s 20ms/step\n"
     ]
    },
    {
     "name": "stderr",
     "output_type": "stream",
     "text": [
      "2025-06-17 09:14:13,589 - INFO - Processing image /data/4-YQVM_9ac33726c539459d10cd6f6c97a6c9c77b0eefd4545f9eb551fbe334a9b59ad7/Dataset_4-YQVM/data/asset/Image/Multimodal_1273_Multimodal_2678_Multimodal_11477_Left_Field_2.jpg : , trial 2, color channel green, resize function imgResize_primary\n"
     ]
    },
    {
     "name": "stdout",
     "output_type": "stream",
     "text": [
      "1/1 [==============================] - 0s 21ms/step\n"
     ]
    },
    {
     "name": "stderr",
     "output_type": "stream",
     "text": [
      "2025-06-17 09:14:14,465 - INFO - Processing image /data/4-YQVM_9ac33726c539459d10cd6f6c97a6c9c77b0eefd4545f9eb551fbe334a9b59ad7/Dataset_4-YQVM/data/asset/Image/Multimodal_1273_Multimodal_2678_Multimodal_11477_Left_Field_2.jpg : , trial 3, color channel red, resize function imgResize_primary\n"
     ]
    },
    {
     "name": "stdout",
     "output_type": "stream",
     "text": [
      "1/1 [==============================] - 0s 20ms/step\n"
     ]
    },
    {
     "name": "stderr",
     "output_type": "stream",
     "text": [
      "2025-06-17 09:14:15,073 - INFO - Processing image /data/4-YQVM_9ac33726c539459d10cd6f6c97a6c9c77b0eefd4545f9eb551fbe334a9b59ad7/Dataset_4-YQVM/data/asset/Image/Multimodal_1273_Multimodal_2678_Multimodal_11477_Left_Field_2.jpg : , trial 4, color channel blue, resize function imgResize_primary\n"
     ]
    },
    {
     "name": "stdout",
     "output_type": "stream",
     "text": [
      "1/1 [==============================] - 0s 20ms/step\n"
     ]
    },
    {
     "name": "stderr",
     "output_type": "stream",
     "text": [
      "2025-06-17 09:14:15,856 - INFO - Processing image /data/4-YQVM_9ac33726c539459d10cd6f6c97a6c9c77b0eefd4545f9eb551fbe334a9b59ad7/Dataset_4-YQVM/data/asset/Image/Multimodal_1273_Multimodal_2678_Multimodal_11477_Left_Field_2.jpg : , trial 1, color channel grey, resize function imgResize_secondary\n"
     ]
    },
    {
     "name": "stdout",
     "output_type": "stream",
     "text": [
      "1/1 [==============================] - 0s 21ms/step\n"
     ]
    },
    {
     "name": "stderr",
     "output_type": "stream",
     "text": [
      "2025-06-17 09:14:16,945 - INFO - SVG for 4-YRYG saved.\n",
      "2025-06-17 09:14:17,008 - INFO - Processing image /data/4-YQVM_9ac33726c539459d10cd6f6c97a6c9c77b0eefd4545f9eb551fbe334a9b59ad7/Dataset_4-YQVM/data/asset/Image/Multimodal_1303_Multimodal_2730_Multimodal_11530_Left_Field_2.jpg : , trial 1, color channel grey, resize function imgResize_primary\n"
     ]
    },
    {
     "name": "stdout",
     "output_type": "stream",
     "text": [
      "1/1 [==============================] - 0s 21ms/step\n"
     ]
    },
    {
     "name": "stderr",
     "output_type": "stream",
     "text": [
      "2025-06-17 09:14:17,636 - INFO - SVG for 4-YRYJ saved.\n",
      "2025-06-17 09:14:17,698 - INFO - Processing image /data/4-YQVM_9ac33726c539459d10cd6f6c97a6c9c77b0eefd4545f9eb551fbe334a9b59ad7/Dataset_4-YQVM/data/asset/Image/Multimodal_1291_Multimodal_2708_Multimodal_11508_Left_Field_2.jpg : , trial 1, color channel grey, resize function imgResize_primary\n"
     ]
    },
    {
     "name": "stdout",
     "output_type": "stream",
     "text": [
      "1/1 [==============================] - 0s 21ms/step\n"
     ]
    },
    {
     "name": "stderr",
     "output_type": "stream",
     "text": [
      "2025-06-17 09:14:18,388 - INFO - SVG for 4-YRYM saved.\n",
      "2025-06-17 09:14:18,447 - INFO - Processing image /data/4-YQVM_9ac33726c539459d10cd6f6c97a6c9c77b0eefd4545f9eb551fbe334a9b59ad7/Dataset_4-YQVM/data/asset/Image/Multimodal_1264_Multimodal_2663_Multimodal_11463_Left_Field_2.jpg : , trial 1, color channel grey, resize function imgResize_primary\n"
     ]
    },
    {
     "name": "stdout",
     "output_type": "stream",
     "text": [
      "1/1 [==============================] - 0s 20ms/step\n"
     ]
    },
    {
     "name": "stderr",
     "output_type": "stream",
     "text": [
      "2025-06-17 09:14:19,276 - INFO - SVG for 4-YRYP saved.\n",
      "2025-06-17 09:14:19,337 - INFO - Processing image /data/4-YQVM_9ac33726c539459d10cd6f6c97a6c9c77b0eefd4545f9eb551fbe334a9b59ad7/Dataset_4-YQVM/data/asset/Image/Multimodal_1278_Multimodal_2685_Multimodal_11484_Right_Field_2.jpg : , trial 1, color channel grey, resize function imgResize_primary\n"
     ]
    },
    {
     "name": "stdout",
     "output_type": "stream",
     "text": [
      "1/1 [==============================] - 0s 20ms/step\n"
     ]
    },
    {
     "name": "stderr",
     "output_type": "stream",
     "text": [
      "2025-06-17 09:14:20,051 - INFO - SVG for 4-YRYR saved.\n",
      "2025-06-17 09:14:20,110 - INFO - Processing image /data/4-YQVM_9ac33726c539459d10cd6f6c97a6c9c77b0eefd4545f9eb551fbe334a9b59ad7/Dataset_4-YQVM/data/asset/Image/Multimodal_1332_Multimodal_2783_Multimodal_11582_Right_Field_2.jpg : , trial 1, color channel grey, resize function imgResize_primary\n"
     ]
    },
    {
     "name": "stdout",
     "output_type": "stream",
     "text": [
      "1/1 [==============================] - 0s 20ms/step\n"
     ]
    },
    {
     "name": "stderr",
     "output_type": "stream",
     "text": [
      "2025-06-17 09:14:21,026 - INFO - SVG for 4-YRYT saved.\n",
      "2025-06-17 09:14:21,084 - INFO - Processing image /data/4-YQVM_9ac33726c539459d10cd6f6c97a6c9c77b0eefd4545f9eb551fbe334a9b59ad7/Dataset_4-YQVM/data/asset/Image/Multimodal_1221_Multimodal_2586_Multimodal_11385_Right_Field_2.jpg : , trial 1, color channel grey, resize function imgResize_primary\n"
     ]
    },
    {
     "name": "stdout",
     "output_type": "stream",
     "text": [
      "1/1 [==============================] - 0s 20ms/step\n"
     ]
    },
    {
     "name": "stderr",
     "output_type": "stream",
     "text": [
      "2025-06-17 09:14:21,649 - INFO - SVG for 4-YRYW saved.\n",
      "2025-06-17 09:14:21,708 - INFO - Processing image /data/4-YQVM_9ac33726c539459d10cd6f6c97a6c9c77b0eefd4545f9eb551fbe334a9b59ad7/Dataset_4-YQVM/data/asset/Image/Multimodal_1292_Multimodal_2710_Multimodal_11510_Left_Field_2.jpg : , trial 1, color channel grey, resize function imgResize_primary\n"
     ]
    },
    {
     "name": "stdout",
     "output_type": "stream",
     "text": [
      "1/1 [==============================] - 0s 20ms/step\n"
     ]
    },
    {
     "name": "stderr",
     "output_type": "stream",
     "text": [
      "2025-06-17 09:14:22,288 - INFO - Processing image /data/4-YQVM_9ac33726c539459d10cd6f6c97a6c9c77b0eefd4545f9eb551fbe334a9b59ad7/Dataset_4-YQVM/data/asset/Image/Multimodal_1292_Multimodal_2710_Multimodal_11510_Left_Field_2.jpg : , trial 2, color channel green, resize function imgResize_primary\n"
     ]
    },
    {
     "name": "stdout",
     "output_type": "stream",
     "text": [
      "1/1 [==============================] - 0s 20ms/step\n"
     ]
    },
    {
     "name": "stderr",
     "output_type": "stream",
     "text": [
      "2025-06-17 09:14:23,087 - INFO - SVG for 4-YRYY saved.\n",
      "2025-06-17 09:14:23,151 - INFO - Processing image /data/4-YQVM_9ac33726c539459d10cd6f6c97a6c9c77b0eefd4545f9eb551fbe334a9b59ad7/Dataset_4-YQVM/data/asset/Image/Multimodal_1200_Multimodal_2547_Multimodal_11346_Right_Field_1.jpg : , trial 1, color channel grey, resize function imgResize_primary\n"
     ]
    },
    {
     "name": "stdout",
     "output_type": "stream",
     "text": [
      "1/1 [==============================] - 0s 20ms/step\n"
     ]
    },
    {
     "name": "stderr",
     "output_type": "stream",
     "text": [
      "2025-06-17 09:14:23,745 - INFO - Processing image /data/4-YQVM_9ac33726c539459d10cd6f6c97a6c9c77b0eefd4545f9eb551fbe334a9b59ad7/Dataset_4-YQVM/data/asset/Image/Multimodal_1200_Multimodal_2547_Multimodal_11346_Right_Field_1.jpg : , trial 2, color channel green, resize function imgResize_primary\n"
     ]
    },
    {
     "name": "stdout",
     "output_type": "stream",
     "text": [
      "1/1 [==============================] - 0s 20ms/step\n"
     ]
    },
    {
     "name": "stderr",
     "output_type": "stream",
     "text": [
      "2025-06-17 09:14:24,283 - INFO - Processing image /data/4-YQVM_9ac33726c539459d10cd6f6c97a6c9c77b0eefd4545f9eb551fbe334a9b59ad7/Dataset_4-YQVM/data/asset/Image/Multimodal_1200_Multimodal_2547_Multimodal_11346_Right_Field_1.jpg : , trial 3, color channel red, resize function imgResize_primary\n"
     ]
    },
    {
     "name": "stdout",
     "output_type": "stream",
     "text": [
      "1/1 [==============================] - 0s 20ms/step\n"
     ]
    },
    {
     "name": "stderr",
     "output_type": "stream",
     "text": [
      "2025-06-17 09:14:24,950 - INFO - Processing image /data/4-YQVM_9ac33726c539459d10cd6f6c97a6c9c77b0eefd4545f9eb551fbe334a9b59ad7/Dataset_4-YQVM/data/asset/Image/Multimodal_1200_Multimodal_2547_Multimodal_11346_Right_Field_1.jpg : , trial 4, color channel blue, resize function imgResize_primary\n"
     ]
    },
    {
     "name": "stdout",
     "output_type": "stream",
     "text": [
      "1/1 [==============================] - 0s 21ms/step\n"
     ]
    },
    {
     "name": "stderr",
     "output_type": "stream",
     "text": [
      "2025-06-17 09:14:25,544 - INFO - Processing image /data/4-YQVM_9ac33726c539459d10cd6f6c97a6c9c77b0eefd4545f9eb551fbe334a9b59ad7/Dataset_4-YQVM/data/asset/Image/Multimodal_1200_Multimodal_2547_Multimodal_11346_Right_Field_1.jpg : , trial 1, color channel grey, resize function imgResize_secondary\n"
     ]
    },
    {
     "name": "stdout",
     "output_type": "stream",
     "text": [
      "1/1 [==============================] - 0s 20ms/step\n"
     ]
    },
    {
     "name": "stderr",
     "output_type": "stream",
     "text": [
      "2025-06-17 09:14:26,369 - INFO - Processing image /data/4-YQVM_9ac33726c539459d10cd6f6c97a6c9c77b0eefd4545f9eb551fbe334a9b59ad7/Dataset_4-YQVM/data/asset/Image/Multimodal_1200_Multimodal_2547_Multimodal_11346_Right_Field_1.jpg : , trial 2, color channel green, resize function imgResize_secondary\n"
     ]
    },
    {
     "name": "stdout",
     "output_type": "stream",
     "text": [
      "1/1 [==============================] - 0s 20ms/step\n"
     ]
    },
    {
     "name": "stderr",
     "output_type": "stream",
     "text": [
      "2025-06-17 09:14:27,219 - INFO - Processing image /data/4-YQVM_9ac33726c539459d10cd6f6c97a6c9c77b0eefd4545f9eb551fbe334a9b59ad7/Dataset_4-YQVM/data/asset/Image/Multimodal_1200_Multimodal_2547_Multimodal_11346_Right_Field_1.jpg : , trial 3, color channel red, resize function imgResize_secondary\n"
     ]
    },
    {
     "name": "stdout",
     "output_type": "stream",
     "text": [
      "1/1 [==============================] - 0s 20ms/step\n"
     ]
    },
    {
     "name": "stderr",
     "output_type": "stream",
     "text": [
      "2025-06-17 09:14:28,014 - INFO - Processing image /data/4-YQVM_9ac33726c539459d10cd6f6c97a6c9c77b0eefd4545f9eb551fbe334a9b59ad7/Dataset_4-YQVM/data/asset/Image/Multimodal_1200_Multimodal_2547_Multimodal_11346_Right_Field_1.jpg : , trial 4, color channel blue, resize function imgResize_secondary\n"
     ]
    },
    {
     "name": "stdout",
     "output_type": "stream",
     "text": [
      "1/1 [==============================] - 0s 20ms/step\n"
     ]
    },
    {
     "name": "stderr",
     "output_type": "stream",
     "text": [
      "2025-06-17 09:14:28,845 - INFO - Processing image /data/4-YQVM_9ac33726c539459d10cd6f6c97a6c9c77b0eefd4545f9eb551fbe334a9b59ad7/Dataset_4-YQVM/data/asset/Image/Multimodal_1200_Multimodal_2547_Multimodal_11346_Right_Field_1.jpg : , trial 1, color channel grey, resize function imgResize_primary\n"
     ]
    },
    {
     "name": "stdout",
     "output_type": "stream",
     "text": [
      "1/1 [==============================] - 0s 20ms/step\n"
     ]
    },
    {
     "name": "stderr",
     "output_type": "stream",
     "text": [
      "2025-06-17 09:14:29,474 - INFO - Processing image /data/4-YQVM_9ac33726c539459d10cd6f6c97a6c9c77b0eefd4545f9eb551fbe334a9b59ad7/Dataset_4-YQVM/data/asset/Image/Multimodal_1200_Multimodal_2547_Multimodal_11346_Right_Field_1.jpg : , trial 2, color channel green, resize function imgResize_primary\n"
     ]
    },
    {
     "name": "stdout",
     "output_type": "stream",
     "text": [
      "1/1 [==============================] - 0s 20ms/step\n"
     ]
    },
    {
     "name": "stderr",
     "output_type": "stream",
     "text": [
      "2025-06-17 09:14:30,091 - INFO - Processing image /data/4-YQVM_9ac33726c539459d10cd6f6c97a6c9c77b0eefd4545f9eb551fbe334a9b59ad7/Dataset_4-YQVM/data/asset/Image/Multimodal_1200_Multimodal_2547_Multimodal_11346_Right_Field_1.jpg : , trial 3, color channel red, resize function imgResize_primary\n"
     ]
    },
    {
     "name": "stdout",
     "output_type": "stream",
     "text": [
      "1/1 [==============================] - 0s 21ms/step\n"
     ]
    },
    {
     "name": "stderr",
     "output_type": "stream",
     "text": [
      "2025-06-17 09:14:30,674 - INFO - Processing image /data/4-YQVM_9ac33726c539459d10cd6f6c97a6c9c77b0eefd4545f9eb551fbe334a9b59ad7/Dataset_4-YQVM/data/asset/Image/Multimodal_1200_Multimodal_2547_Multimodal_11346_Right_Field_1.jpg : , trial 4, color channel blue, resize function imgResize_primary\n"
     ]
    },
    {
     "name": "stdout",
     "output_type": "stream",
     "text": [
      "1/1 [==============================] - 0s 20ms/step\n"
     ]
    },
    {
     "name": "stderr",
     "output_type": "stream",
     "text": [
      "2025-06-17 09:14:31,237 - INFO - Processing image /data/4-YQVM_9ac33726c539459d10cd6f6c97a6c9c77b0eefd4545f9eb551fbe334a9b59ad7/Dataset_4-YQVM/data/asset/Image/Multimodal_1200_Multimodal_2547_Multimodal_11346_Right_Field_1.jpg : , trial 1, color channel grey, resize function imgResize_secondary\n"
     ]
    },
    {
     "name": "stdout",
     "output_type": "stream",
     "text": [
      "1/1 [==============================] - 0s 20ms/step\n"
     ]
    },
    {
     "name": "stderr",
     "output_type": "stream",
     "text": [
      "2025-06-17 09:14:32,404 - INFO - Processing image /data/4-YQVM_9ac33726c539459d10cd6f6c97a6c9c77b0eefd4545f9eb551fbe334a9b59ad7/Dataset_4-YQVM/data/asset/Image/Multimodal_1200_Multimodal_2547_Multimodal_11346_Right_Field_1.jpg : , trial 2, color channel green, resize function imgResize_secondary\n"
     ]
    },
    {
     "name": "stdout",
     "output_type": "stream",
     "text": [
      "1/1 [==============================] - 0s 20ms/step\n"
     ]
    },
    {
     "name": "stderr",
     "output_type": "stream",
     "text": [
      "2025-06-17 09:14:33,275 - INFO - Processing image /data/4-YQVM_9ac33726c539459d10cd6f6c97a6c9c77b0eefd4545f9eb551fbe334a9b59ad7/Dataset_4-YQVM/data/asset/Image/Multimodal_1200_Multimodal_2547_Multimodal_11346_Right_Field_1.jpg : , trial 3, color channel red, resize function imgResize_secondary\n"
     ]
    },
    {
     "name": "stdout",
     "output_type": "stream",
     "text": [
      "1/1 [==============================] - 0s 20ms/step\n"
     ]
    },
    {
     "name": "stderr",
     "output_type": "stream",
     "text": [
      "2025-06-17 09:14:34,151 - INFO - Processing image /data/4-YQVM_9ac33726c539459d10cd6f6c97a6c9c77b0eefd4545f9eb551fbe334a9b59ad7/Dataset_4-YQVM/data/asset/Image/Multimodal_1200_Multimodal_2547_Multimodal_11346_Right_Field_1.jpg : , trial 4, color channel blue, resize function imgResize_secondary\n"
     ]
    },
    {
     "name": "stdout",
     "output_type": "stream",
     "text": [
      "1/1 [==============================] - 0s 20ms/step\n"
     ]
    },
    {
     "name": "stderr",
     "output_type": "stream",
     "text": [
      "2025-06-17 09:14:35,050 - INFO - Processing image /data/4-YQVM_9ac33726c539459d10cd6f6c97a6c9c77b0eefd4545f9eb551fbe334a9b59ad7/Dataset_4-YQVM/data/asset/Image/Multimodal_1200_Multimodal_2547_Multimodal_11346_Right_Field_1.jpg : , trial 1, color channel grey, resize function imgResize_primary\n"
     ]
    },
    {
     "name": "stdout",
     "output_type": "stream",
     "text": [
      "1/1 [==============================] - 0s 20ms/step\n"
     ]
    },
    {
     "name": "stderr",
     "output_type": "stream",
     "text": [
      "2025-06-17 09:14:35,757 - INFO - Processing image /data/4-YQVM_9ac33726c539459d10cd6f6c97a6c9c77b0eefd4545f9eb551fbe334a9b59ad7/Dataset_4-YQVM/data/asset/Image/Multimodal_1200_Multimodal_2547_Multimodal_11346_Right_Field_1.jpg : , trial 2, color channel green, resize function imgResize_primary\n"
     ]
    },
    {
     "name": "stdout",
     "output_type": "stream",
     "text": [
      "1/1 [==============================] - 0s 21ms/step\n"
     ]
    },
    {
     "name": "stderr",
     "output_type": "stream",
     "text": [
      "2025-06-17 09:14:36,226 - INFO - Processing image /data/4-YQVM_9ac33726c539459d10cd6f6c97a6c9c77b0eefd4545f9eb551fbe334a9b59ad7/Dataset_4-YQVM/data/asset/Image/Multimodal_1200_Multimodal_2547_Multimodal_11346_Right_Field_1.jpg : , trial 3, color channel red, resize function imgResize_primary\n"
     ]
    },
    {
     "name": "stdout",
     "output_type": "stream",
     "text": [
      "1/1 [==============================] - 0s 20ms/step\n"
     ]
    },
    {
     "name": "stderr",
     "output_type": "stream",
     "text": [
      "2025-06-17 09:14:36,766 - INFO - Processing image /data/4-YQVM_9ac33726c539459d10cd6f6c97a6c9c77b0eefd4545f9eb551fbe334a9b59ad7/Dataset_4-YQVM/data/asset/Image/Multimodal_1200_Multimodal_2547_Multimodal_11346_Right_Field_1.jpg : , trial 4, color channel blue, resize function imgResize_primary\n"
     ]
    },
    {
     "name": "stdout",
     "output_type": "stream",
     "text": [
      "1/1 [==============================] - 0s 20ms/step\n"
     ]
    },
    {
     "name": "stderr",
     "output_type": "stream",
     "text": [
      "2025-06-17 09:14:37,281 - INFO - Processing image /data/4-YQVM_9ac33726c539459d10cd6f6c97a6c9c77b0eefd4545f9eb551fbe334a9b59ad7/Dataset_4-YQVM/data/asset/Image/Multimodal_1200_Multimodal_2547_Multimodal_11346_Right_Field_1.jpg : , trial 1, color channel grey, resize function imgResize_secondary\n"
     ]
    },
    {
     "name": "stdout",
     "output_type": "stream",
     "text": [
      "1/1 [==============================] - 0s 20ms/step\n"
     ]
    },
    {
     "name": "stderr",
     "output_type": "stream",
     "text": [
      "2025-06-17 09:14:38,122 - INFO - Processing image /data/4-YQVM_9ac33726c539459d10cd6f6c97a6c9c77b0eefd4545f9eb551fbe334a9b59ad7/Dataset_4-YQVM/data/asset/Image/Multimodal_1200_Multimodal_2547_Multimodal_11346_Right_Field_1.jpg : , trial 2, color channel green, resize function imgResize_secondary\n"
     ]
    },
    {
     "name": "stdout",
     "output_type": "stream",
     "text": [
      "1/1 [==============================] - 0s 20ms/step\n"
     ]
    },
    {
     "name": "stderr",
     "output_type": "stream",
     "text": [
      "2025-06-17 09:14:39,009 - INFO - Processing image /data/4-YQVM_9ac33726c539459d10cd6f6c97a6c9c77b0eefd4545f9eb551fbe334a9b59ad7/Dataset_4-YQVM/data/asset/Image/Multimodal_1200_Multimodal_2547_Multimodal_11346_Right_Field_1.jpg : , trial 3, color channel red, resize function imgResize_secondary\n"
     ]
    },
    {
     "name": "stdout",
     "output_type": "stream",
     "text": [
      "1/1 [==============================] - 0s 21ms/step\n"
     ]
    },
    {
     "name": "stderr",
     "output_type": "stream",
     "text": [
      "2025-06-17 09:14:39,801 - INFO - Processing image /data/4-YQVM_9ac33726c539459d10cd6f6c97a6c9c77b0eefd4545f9eb551fbe334a9b59ad7/Dataset_4-YQVM/data/asset/Image/Multimodal_1200_Multimodal_2547_Multimodal_11346_Right_Field_1.jpg : , trial 4, color channel blue, resize function imgResize_secondary\n"
     ]
    },
    {
     "name": "stdout",
     "output_type": "stream",
     "text": [
      "1/1 [==============================] - 0s 20ms/step\n"
     ]
    },
    {
     "name": "stderr",
     "output_type": "stream",
     "text": [
      "2025-06-17 09:14:40,648 - INFO - Processing image /data/4-YQVM_9ac33726c539459d10cd6f6c97a6c9c77b0eefd4545f9eb551fbe334a9b59ad7/Dataset_4-YQVM/data/asset/Image/Multimodal_1200_Multimodal_2547_Multimodal_11346_Right_Field_1.jpg : , trial 1, color channel grey, resize function imgResize_primary\n"
     ]
    },
    {
     "name": "stdout",
     "output_type": "stream",
     "text": [
      "1/1 [==============================] - 0s 20ms/step\n"
     ]
    },
    {
     "name": "stderr",
     "output_type": "stream",
     "text": [
      "2025-06-17 09:14:41,281 - INFO - Processing image /data/4-YQVM_9ac33726c539459d10cd6f6c97a6c9c77b0eefd4545f9eb551fbe334a9b59ad7/Dataset_4-YQVM/data/asset/Image/Multimodal_1200_Multimodal_2547_Multimodal_11346_Right_Field_1.jpg : , trial 2, color channel green, resize function imgResize_primary\n"
     ]
    },
    {
     "name": "stdout",
     "output_type": "stream",
     "text": [
      "1/1 [==============================] - 0s 20ms/step\n"
     ]
    },
    {
     "name": "stderr",
     "output_type": "stream",
     "text": [
      "2025-06-17 09:14:41,957 - INFO - Processing image /data/4-YQVM_9ac33726c539459d10cd6f6c97a6c9c77b0eefd4545f9eb551fbe334a9b59ad7/Dataset_4-YQVM/data/asset/Image/Multimodal_1200_Multimodal_2547_Multimodal_11346_Right_Field_1.jpg : , trial 3, color channel red, resize function imgResize_primary\n"
     ]
    },
    {
     "name": "stdout",
     "output_type": "stream",
     "text": [
      "1/1 [==============================] - 0s 20ms/step\n"
     ]
    },
    {
     "name": "stderr",
     "output_type": "stream",
     "text": [
      "2025-06-17 09:14:42,527 - INFO - Processing image /data/4-YQVM_9ac33726c539459d10cd6f6c97a6c9c77b0eefd4545f9eb551fbe334a9b59ad7/Dataset_4-YQVM/data/asset/Image/Multimodal_1200_Multimodal_2547_Multimodal_11346_Right_Field_1.jpg : , trial 4, color channel blue, resize function imgResize_primary\n"
     ]
    },
    {
     "name": "stdout",
     "output_type": "stream",
     "text": [
      "1/1 [==============================] - 0s 20ms/step\n"
     ]
    },
    {
     "name": "stderr",
     "output_type": "stream",
     "text": [
      "2025-06-17 09:14:43,180 - INFO - Processing image /data/4-YQVM_9ac33726c539459d10cd6f6c97a6c9c77b0eefd4545f9eb551fbe334a9b59ad7/Dataset_4-YQVM/data/asset/Image/Multimodal_1200_Multimodal_2547_Multimodal_11346_Right_Field_1.jpg : , trial 1, color channel grey, resize function imgResize_secondary\n"
     ]
    },
    {
     "name": "stdout",
     "output_type": "stream",
     "text": [
      "1/1 [==============================] - 0s 20ms/step\n"
     ]
    },
    {
     "name": "stderr",
     "output_type": "stream",
     "text": [
      "2025-06-17 09:14:44,091 - INFO - Processing image /data/4-YQVM_9ac33726c539459d10cd6f6c97a6c9c77b0eefd4545f9eb551fbe334a9b59ad7/Dataset_4-YQVM/data/asset/Image/Multimodal_1200_Multimodal_2547_Multimodal_11346_Right_Field_1.jpg : , trial 2, color channel green, resize function imgResize_secondary\n"
     ]
    },
    {
     "name": "stdout",
     "output_type": "stream",
     "text": [
      "1/1 [==============================] - 0s 20ms/step\n"
     ]
    },
    {
     "name": "stderr",
     "output_type": "stream",
     "text": [
      "2025-06-17 09:14:45,101 - INFO - Processing image /data/4-YQVM_9ac33726c539459d10cd6f6c97a6c9c77b0eefd4545f9eb551fbe334a9b59ad7/Dataset_4-YQVM/data/asset/Image/Multimodal_1200_Multimodal_2547_Multimodal_11346_Right_Field_1.jpg : , trial 3, color channel red, resize function imgResize_secondary\n"
     ]
    },
    {
     "name": "stdout",
     "output_type": "stream",
     "text": [
      "1/1 [==============================] - 0s 20ms/step\n"
     ]
    },
    {
     "name": "stderr",
     "output_type": "stream",
     "text": [
      "2025-06-17 09:14:46,026 - INFO - Processing image /data/4-YQVM_9ac33726c539459d10cd6f6c97a6c9c77b0eefd4545f9eb551fbe334a9b59ad7/Dataset_4-YQVM/data/asset/Image/Multimodal_1200_Multimodal_2547_Multimodal_11346_Right_Field_1.jpg : , trial 4, color channel blue, resize function imgResize_secondary\n"
     ]
    },
    {
     "name": "stdout",
     "output_type": "stream",
     "text": [
      "1/1 [==============================] - 0s 21ms/step\n"
     ]
    },
    {
     "name": "stderr",
     "output_type": "stream",
     "text": [
      "2025-06-17 09:14:46,857 - INFO - Processing image /data/4-YQVM_9ac33726c539459d10cd6f6c97a6c9c77b0eefd4545f9eb551fbe334a9b59ad7/Dataset_4-YQVM/data/asset/Image/Multimodal_1200_Multimodal_2547_Multimodal_11346_Right_Field_1.jpg : , trial 1, color channel grey, resize function imgResize_primary\n"
     ]
    },
    {
     "name": "stdout",
     "output_type": "stream",
     "text": [
      "1/1 [==============================] - 0s 20ms/step\n"
     ]
    },
    {
     "name": "stderr",
     "output_type": "stream",
     "text": [
      "2025-06-17 09:14:47,425 - INFO - Processing image /data/4-YQVM_9ac33726c539459d10cd6f6c97a6c9c77b0eefd4545f9eb551fbe334a9b59ad7/Dataset_4-YQVM/data/asset/Image/Multimodal_1200_Multimodal_2547_Multimodal_11346_Right_Field_1.jpg : , trial 2, color channel green, resize function imgResize_primary\n"
     ]
    },
    {
     "name": "stdout",
     "output_type": "stream",
     "text": [
      "1/1 [==============================] - 0s 20ms/step\n"
     ]
    },
    {
     "name": "stderr",
     "output_type": "stream",
     "text": [
      "2025-06-17 09:14:47,993 - INFO - Processing image /data/4-YQVM_9ac33726c539459d10cd6f6c97a6c9c77b0eefd4545f9eb551fbe334a9b59ad7/Dataset_4-YQVM/data/asset/Image/Multimodal_1200_Multimodal_2547_Multimodal_11346_Right_Field_1.jpg : , trial 3, color channel red, resize function imgResize_primary\n"
     ]
    },
    {
     "name": "stdout",
     "output_type": "stream",
     "text": [
      "1/1 [==============================] - 0s 20ms/step\n"
     ]
    },
    {
     "name": "stderr",
     "output_type": "stream",
     "text": [
      "2025-06-17 09:14:48,591 - INFO - Processing image /data/4-YQVM_9ac33726c539459d10cd6f6c97a6c9c77b0eefd4545f9eb551fbe334a9b59ad7/Dataset_4-YQVM/data/asset/Image/Multimodal_1200_Multimodal_2547_Multimodal_11346_Right_Field_1.jpg : , trial 4, color channel blue, resize function imgResize_primary\n"
     ]
    },
    {
     "name": "stdout",
     "output_type": "stream",
     "text": [
      "1/1 [==============================] - 0s 20ms/step\n"
     ]
    },
    {
     "name": "stderr",
     "output_type": "stream",
     "text": [
      "2025-06-17 09:14:49,148 - INFO - Processing image /data/4-YQVM_9ac33726c539459d10cd6f6c97a6c9c77b0eefd4545f9eb551fbe334a9b59ad7/Dataset_4-YQVM/data/asset/Image/Multimodal_1200_Multimodal_2547_Multimodal_11346_Right_Field_1.jpg : , trial 1, color channel grey, resize function imgResize_secondary\n"
     ]
    },
    {
     "name": "stdout",
     "output_type": "stream",
     "text": [
      "1/1 [==============================] - 0s 20ms/step\n"
     ]
    },
    {
     "name": "stderr",
     "output_type": "stream",
     "text": [
      "2025-06-17 09:14:50,252 - INFO - Processing image /data/4-YQVM_9ac33726c539459d10cd6f6c97a6c9c77b0eefd4545f9eb551fbe334a9b59ad7/Dataset_4-YQVM/data/asset/Image/Multimodal_1200_Multimodal_2547_Multimodal_11346_Right_Field_1.jpg : , trial 2, color channel green, resize function imgResize_secondary\n"
     ]
    },
    {
     "name": "stdout",
     "output_type": "stream",
     "text": [
      "1/1 [==============================] - 0s 20ms/step\n"
     ]
    },
    {
     "name": "stderr",
     "output_type": "stream",
     "text": [
      "2025-06-17 09:14:51,252 - INFO - Processing image /data/4-YQVM_9ac33726c539459d10cd6f6c97a6c9c77b0eefd4545f9eb551fbe334a9b59ad7/Dataset_4-YQVM/data/asset/Image/Multimodal_1200_Multimodal_2547_Multimodal_11346_Right_Field_1.jpg : , trial 3, color channel red, resize function imgResize_secondary\n"
     ]
    },
    {
     "name": "stdout",
     "output_type": "stream",
     "text": [
      "1/1 [==============================] - 0s 20ms/step\n"
     ]
    },
    {
     "name": "stderr",
     "output_type": "stream",
     "text": [
      "2025-06-17 09:14:52,102 - INFO - Processing image /data/4-YQVM_9ac33726c539459d10cd6f6c97a6c9c77b0eefd4545f9eb551fbe334a9b59ad7/Dataset_4-YQVM/data/asset/Image/Multimodal_1200_Multimodal_2547_Multimodal_11346_Right_Field_1.jpg : , trial 4, color channel blue, resize function imgResize_secondary\n"
     ]
    },
    {
     "name": "stdout",
     "output_type": "stream",
     "text": [
      "1/1 [==============================] - 0s 20ms/step\n"
     ]
    },
    {
     "name": "stderr",
     "output_type": "stream",
     "text": [
      "2025-06-17 09:14:53,091 - INFO - SVG for 4-YRZ0 saved.\n",
      "2025-06-17 09:14:53,151 - INFO - Processing image /data/4-YQVM_9ac33726c539459d10cd6f6c97a6c9c77b0eefd4545f9eb551fbe334a9b59ad7/Dataset_4-YQVM/data/asset/Image/Multimodal_1252_Multimodal_2643_Multimodal_11442_Right_Field_1.jpg : , trial 1, color channel grey, resize function imgResize_primary\n"
     ]
    },
    {
     "name": "stdout",
     "output_type": "stream",
     "text": [
      "1/1 [==============================] - 0s 21ms/step\n"
     ]
    },
    {
     "name": "stderr",
     "output_type": "stream",
     "text": [
      "2025-06-17 09:14:53,853 - INFO - SVG for 4-YRZ2 saved.\n",
      "2025-06-17 09:14:53,913 - INFO - Processing image /data/4-YQVM_9ac33726c539459d10cd6f6c97a6c9c77b0eefd4545f9eb551fbe334a9b59ad7/Dataset_4-YQVM/data/asset/Image/Multimodal_1292_Multimodal_2710_Multimodal_11509_Right_Field_2.jpg : , trial 1, color channel grey, resize function imgResize_primary\n"
     ]
    },
    {
     "name": "stdout",
     "output_type": "stream",
     "text": [
      "1/1 [==============================] - 0s 20ms/step\n"
     ]
    },
    {
     "name": "stderr",
     "output_type": "stream",
     "text": [
      "2025-06-17 09:14:54,751 - INFO - SVG for 4-YRZ4 saved.\n",
      "2025-06-17 09:14:54,810 - INFO - Processing image /data/4-YQVM_9ac33726c539459d10cd6f6c97a6c9c77b0eefd4545f9eb551fbe334a9b59ad7/Dataset_4-YQVM/data/asset/Image/Multimodal_1337_Multimodal_2792_Multimodal_11592_Left_Field_2.jpg : , trial 1, color channel grey, resize function imgResize_primary\n"
     ]
    },
    {
     "name": "stdout",
     "output_type": "stream",
     "text": [
      "1/1 [==============================] - 0s 20ms/step\n"
     ]
    },
    {
     "name": "stderr",
     "output_type": "stream",
     "text": [
      "2025-06-17 09:14:55,520 - INFO - SVG for 4-YRZ6 saved.\n",
      "2025-06-17 09:14:55,579 - INFO - Processing image /data/4-YQVM_9ac33726c539459d10cd6f6c97a6c9c77b0eefd4545f9eb551fbe334a9b59ad7/Dataset_4-YQVM/data/asset/Image/Multimodal_1295_Multimodal_2716_Multimodal_11515_Right_Field_2.jpg : , trial 1, color channel grey, resize function imgResize_primary\n"
     ]
    },
    {
     "name": "stdout",
     "output_type": "stream",
     "text": [
      "1/1 [==============================] - 0s 20ms/step\n"
     ]
    },
    {
     "name": "stderr",
     "output_type": "stream",
     "text": [
      "2025-06-17 09:14:56,166 - INFO - SVG for 4-YRZ8 saved.\n",
      "2025-06-17 09:14:56,224 - INFO - Processing image /data/4-YQVM_9ac33726c539459d10cd6f6c97a6c9c77b0eefd4545f9eb551fbe334a9b59ad7/Dataset_4-YQVM/data/asset/Image/Multimodal_1235_Multimodal_2612_Multimodal_11411_Right_Field_2.jpg : , trial 1, color channel grey, resize function imgResize_primary\n"
     ]
    },
    {
     "name": "stdout",
     "output_type": "stream",
     "text": [
      "1/1 [==============================] - 0s 20ms/step\n"
     ]
    },
    {
     "name": "stderr",
     "output_type": "stream",
     "text": [
      "2025-06-17 09:14:56,959 - INFO - SVG for 4-YRZA saved.\n",
      "2025-06-17 09:14:57,020 - INFO - Processing image /data/4-YQVM_9ac33726c539459d10cd6f6c97a6c9c77b0eefd4545f9eb551fbe334a9b59ad7/Dataset_4-YQVM/data/asset/Image/Multimodal_1270_Multimodal_2672_Multimodal_11471_Right_Field_2.jpg : , trial 1, color channel grey, resize function imgResize_primary\n"
     ]
    },
    {
     "name": "stdout",
     "output_type": "stream",
     "text": [
      "1/1 [==============================] - 0s 20ms/step\n"
     ]
    },
    {
     "name": "stderr",
     "output_type": "stream",
     "text": [
      "2025-06-17 09:14:57,911 - INFO - SVG for 4-YRZC saved.\n",
      "2025-06-17 09:14:57,970 - INFO - Processing image /data/4-YQVM_9ac33726c539459d10cd6f6c97a6c9c77b0eefd4545f9eb551fbe334a9b59ad7/Dataset_4-YQVM/data/asset/Image/Multimodal_1211_Multimodal_2569_Multimodal_11368_Right_Field_2.jpg : , trial 1, color channel grey, resize function imgResize_primary\n"
     ]
    },
    {
     "name": "stdout",
     "output_type": "stream",
     "text": [
      "1/1 [==============================] - 0s 21ms/step\n"
     ]
    },
    {
     "name": "stderr",
     "output_type": "stream",
     "text": [
      "2025-06-17 09:14:58,635 - INFO - SVG for 4-YRZE saved.\n",
      "2025-06-17 09:14:58,695 - INFO - Processing image /data/4-YQVM_9ac33726c539459d10cd6f6c97a6c9c77b0eefd4545f9eb551fbe334a9b59ad7/Dataset_4-YQVM/data/asset/Image/Multimodal_1234_Multimodal_2610_Multimodal_11409_Right_Field_1.jpg : , trial 1, color channel grey, resize function imgResize_primary\n"
     ]
    },
    {
     "name": "stdout",
     "output_type": "stream",
     "text": [
      "1/1 [==============================] - 0s 21ms/step\n"
     ]
    },
    {
     "name": "stderr",
     "output_type": "stream",
     "text": [
      "2025-06-17 09:14:59,399 - INFO - SVG for 4-YRZG saved.\n",
      "2025-06-17 09:14:59,463 - INFO - Processing image /data/4-YQVM_9ac33726c539459d10cd6f6c97a6c9c77b0eefd4545f9eb551fbe334a9b59ad7/Dataset_4-YQVM/data/asset/Image/Multimodal_1303_Multimodal_2730_Multimodal_11529_Right_Field_2.jpg : , trial 1, color channel grey, resize function imgResize_primary\n"
     ]
    },
    {
     "name": "stdout",
     "output_type": "stream",
     "text": [
      "1/1 [==============================] - 0s 20ms/step\n"
     ]
    },
    {
     "name": "stderr",
     "output_type": "stream",
     "text": [
      "2025-06-17 09:15:00,201 - INFO - SVG for 4-YRZJ saved.\n",
      "2025-06-17 09:15:00,260 - INFO - Processing image /data/4-YQVM_9ac33726c539459d10cd6f6c97a6c9c77b0eefd4545f9eb551fbe334a9b59ad7/Dataset_4-YQVM/data/asset/Image/Multimodal_1226_Multimodal_2595_Multimodal_11395_Left_Field_2.jpg : , trial 1, color channel grey, resize function imgResize_primary\n"
     ]
    },
    {
     "name": "stdout",
     "output_type": "stream",
     "text": [
      "1/1 [==============================] - 0s 20ms/step\n"
     ]
    },
    {
     "name": "stderr",
     "output_type": "stream",
     "text": [
      "2025-06-17 09:15:00,872 - INFO - Processing image /data/4-YQVM_9ac33726c539459d10cd6f6c97a6c9c77b0eefd4545f9eb551fbe334a9b59ad7/Dataset_4-YQVM/data/asset/Image/Multimodal_1226_Multimodal_2595_Multimodal_11395_Left_Field_2.jpg : , trial 2, color channel green, resize function imgResize_primary\n"
     ]
    },
    {
     "name": "stdout",
     "output_type": "stream",
     "text": [
      "1/1 [==============================] - 0s 21ms/step\n"
     ]
    },
    {
     "name": "stderr",
     "output_type": "stream",
     "text": [
      "2025-06-17 09:15:01,598 - INFO - Processing image /data/4-YQVM_9ac33726c539459d10cd6f6c97a6c9c77b0eefd4545f9eb551fbe334a9b59ad7/Dataset_4-YQVM/data/asset/Image/Multimodal_1226_Multimodal_2595_Multimodal_11395_Left_Field_2.jpg : , trial 3, color channel red, resize function imgResize_primary\n"
     ]
    },
    {
     "name": "stdout",
     "output_type": "stream",
     "text": [
      "1/1 [==============================] - 0s 21ms/step\n"
     ]
    },
    {
     "name": "stderr",
     "output_type": "stream",
     "text": [
      "2025-06-17 09:15:02,388 - INFO - Processing image /data/4-YQVM_9ac33726c539459d10cd6f6c97a6c9c77b0eefd4545f9eb551fbe334a9b59ad7/Dataset_4-YQVM/data/asset/Image/Multimodal_1226_Multimodal_2595_Multimodal_11395_Left_Field_2.jpg : , trial 4, color channel blue, resize function imgResize_primary\n"
     ]
    },
    {
     "name": "stdout",
     "output_type": "stream",
     "text": [
      "1/1 [==============================] - 0s 20ms/step\n"
     ]
    },
    {
     "name": "stderr",
     "output_type": "stream",
     "text": [
      "2025-06-17 09:15:03,143 - INFO - Processing image /data/4-YQVM_9ac33726c539459d10cd6f6c97a6c9c77b0eefd4545f9eb551fbe334a9b59ad7/Dataset_4-YQVM/data/asset/Image/Multimodal_1226_Multimodal_2595_Multimodal_11395_Left_Field_2.jpg : , trial 1, color channel grey, resize function imgResize_secondary\n"
     ]
    },
    {
     "name": "stdout",
     "output_type": "stream",
     "text": [
      "1/1 [==============================] - 0s 20ms/step\n"
     ]
    },
    {
     "name": "stderr",
     "output_type": "stream",
     "text": [
      "2025-06-17 09:15:04,330 - INFO - SVG for 4-YRZM saved.\n",
      "2025-06-17 09:15:04,388 - INFO - Processing image /data/4-YQVM_9ac33726c539459d10cd6f6c97a6c9c77b0eefd4545f9eb551fbe334a9b59ad7/Dataset_4-YQVM/data/asset/Image/Multimodal_1236_Multimodal_2613_Multimodal_11412_Right_Field_2.jpg : , trial 1, color channel grey, resize function imgResize_primary\n"
     ]
    },
    {
     "name": "stdout",
     "output_type": "stream",
     "text": [
      "1/1 [==============================] - 0s 20ms/step\n"
     ]
    },
    {
     "name": "stderr",
     "output_type": "stream",
     "text": [
      "2025-06-17 09:15:05,054 - INFO - SVG for 4-YRZP saved.\n",
      "2025-06-17 09:15:05,112 - INFO - Processing image /data/4-YQVM_9ac33726c539459d10cd6f6c97a6c9c77b0eefd4545f9eb551fbe334a9b59ad7/Dataset_4-YQVM/data/asset/Image/Multimodal_1304_Multimodal_2732_Multimodal_11532_Left_Field_1.jpg : , trial 1, color channel grey, resize function imgResize_primary\n"
     ]
    },
    {
     "name": "stdout",
     "output_type": "stream",
     "text": [
      "1/1 [==============================] - 0s 20ms/step\n"
     ]
    },
    {
     "name": "stderr",
     "output_type": "stream",
     "text": [
      "2025-06-17 09:15:06,046 - INFO - SVG for 4-YRZR saved.\n",
      "2025-06-17 09:15:06,103 - INFO - Processing image /data/4-YQVM_9ac33726c539459d10cd6f6c97a6c9c77b0eefd4545f9eb551fbe334a9b59ad7/Dataset_4-YQVM/data/asset/Image/Multimodal_1228_Multimodal_2599_Multimodal_11398_Left_Field_2.jpg : , trial 1, color channel grey, resize function imgResize_primary\n"
     ]
    },
    {
     "name": "stdout",
     "output_type": "stream",
     "text": [
      "1/1 [==============================] - 0s 20ms/step\n"
     ]
    },
    {
     "name": "stderr",
     "output_type": "stream",
     "text": [
      "2025-06-17 09:15:06,618 - INFO - SVG for 4-YRZT saved.\n",
      "2025-06-17 09:15:06,677 - INFO - Processing image /data/4-YQVM_9ac33726c539459d10cd6f6c97a6c9c77b0eefd4545f9eb551fbe334a9b59ad7/Dataset_4-YQVM/data/asset/Image/Multimodal_1300_Multimodal_2724_Multimodal_11523_Right_Field_2.jpg : , trial 1, color channel grey, resize function imgResize_primary\n"
     ]
    },
    {
     "name": "stdout",
     "output_type": "stream",
     "text": [
      "1/1 [==============================] - 0s 20ms/step\n"
     ]
    },
    {
     "name": "stderr",
     "output_type": "stream",
     "text": [
      "2025-06-17 09:15:07,316 - INFO - SVG for 4-YRZW saved.\n",
      "2025-06-17 09:15:07,377 - INFO - Processing image /data/4-YQVM_9ac33726c539459d10cd6f6c97a6c9c77b0eefd4545f9eb551fbe334a9b59ad7/Dataset_4-YQVM/data/asset/Image/Multimodal_1243_Multimodal_2627_Multimodal_11427_Left_Field_2.jpg : , trial 1, color channel grey, resize function imgResize_primary\n"
     ]
    },
    {
     "name": "stdout",
     "output_type": "stream",
     "text": [
      "1/1 [==============================] - 0s 20ms/step\n"
     ]
    },
    {
     "name": "stderr",
     "output_type": "stream",
     "text": [
      "2025-06-17 09:15:08,019 - INFO - SVG for 4-YRZY saved.\n",
      "2025-06-17 09:15:08,076 - INFO - Processing image /data/4-YQVM_9ac33726c539459d10cd6f6c97a6c9c77b0eefd4545f9eb551fbe334a9b59ad7/Dataset_4-YQVM/data/asset/Image/Multimodal_1312_Multimodal_2746_Multimodal_11545_Left_Field_2.jpg : , trial 1, color channel grey, resize function imgResize_primary\n"
     ]
    },
    {
     "name": "stdout",
     "output_type": "stream",
     "text": [
      "1/1 [==============================] - 0s 20ms/step\n"
     ]
    },
    {
     "name": "stderr",
     "output_type": "stream",
     "text": [
      "2025-06-17 09:15:08,711 - INFO - SVG for 4-YS00 saved.\n",
      "2025-06-17 09:15:08,772 - INFO - Processing image /data/4-YQVM_9ac33726c539459d10cd6f6c97a6c9c77b0eefd4545f9eb551fbe334a9b59ad7/Dataset_4-YQVM/data/asset/Image/Multimodal_1305_Multimodal_2734_Multimodal_11534_Left_Field_1.jpg : , trial 1, color channel grey, resize function imgResize_primary\n"
     ]
    },
    {
     "name": "stdout",
     "output_type": "stream",
     "text": [
      "1/1 [==============================] - 0s 20ms/step\n"
     ]
    },
    {
     "name": "stderr",
     "output_type": "stream",
     "text": [
      "2025-06-17 09:15:09,464 - INFO - SVG for 4-YS02 saved.\n",
      "2025-06-17 09:15:09,521 - INFO - Processing image /data/4-YQVM_9ac33726c539459d10cd6f6c97a6c9c77b0eefd4545f9eb551fbe334a9b59ad7/Dataset_4-YQVM/data/asset/Image/Multimodal_1217_Multimodal_2580_Multimodal_11379_Right_Field_2.jpg : , trial 1, color channel grey, resize function imgResize_primary\n"
     ]
    },
    {
     "name": "stdout",
     "output_type": "stream",
     "text": [
      "1/1 [==============================] - 0s 20ms/step\n"
     ]
    },
    {
     "name": "stderr",
     "output_type": "stream",
     "text": [
      "2025-06-17 09:15:10,011 - INFO - Processing image /data/4-YQVM_9ac33726c539459d10cd6f6c97a6c9c77b0eefd4545f9eb551fbe334a9b59ad7/Dataset_4-YQVM/data/asset/Image/Multimodal_1217_Multimodal_2580_Multimodal_11379_Right_Field_2.jpg : , trial 2, color channel green, resize function imgResize_primary\n"
     ]
    },
    {
     "name": "stdout",
     "output_type": "stream",
     "text": [
      "1/1 [==============================] - 0s 20ms/step\n"
     ]
    },
    {
     "name": "stderr",
     "output_type": "stream",
     "text": [
      "2025-06-17 09:15:10,455 - INFO - Processing image /data/4-YQVM_9ac33726c539459d10cd6f6c97a6c9c77b0eefd4545f9eb551fbe334a9b59ad7/Dataset_4-YQVM/data/asset/Image/Multimodal_1217_Multimodal_2580_Multimodal_11379_Right_Field_2.jpg : , trial 3, color channel red, resize function imgResize_primary\n"
     ]
    },
    {
     "name": "stdout",
     "output_type": "stream",
     "text": [
      "1/1 [==============================] - 0s 20ms/step\n"
     ]
    },
    {
     "name": "stderr",
     "output_type": "stream",
     "text": [
      "2025-06-17 09:15:11,160 - INFO - Processing image /data/4-YQVM_9ac33726c539459d10cd6f6c97a6c9c77b0eefd4545f9eb551fbe334a9b59ad7/Dataset_4-YQVM/data/asset/Image/Multimodal_1217_Multimodal_2580_Multimodal_11379_Right_Field_2.jpg : , trial 4, color channel blue, resize function imgResize_primary\n"
     ]
    },
    {
     "name": "stdout",
     "output_type": "stream",
     "text": [
      "1/1 [==============================] - 0s 20ms/step\n"
     ]
    },
    {
     "name": "stderr",
     "output_type": "stream",
     "text": [
      "2025-06-17 09:15:11,564 - INFO - Processing image /data/4-YQVM_9ac33726c539459d10cd6f6c97a6c9c77b0eefd4545f9eb551fbe334a9b59ad7/Dataset_4-YQVM/data/asset/Image/Multimodal_1217_Multimodal_2580_Multimodal_11379_Right_Field_2.jpg : , trial 1, color channel grey, resize function imgResize_secondary\n"
     ]
    },
    {
     "name": "stdout",
     "output_type": "stream",
     "text": [
      "1/1 [==============================] - 0s 20ms/step\n"
     ]
    },
    {
     "name": "stderr",
     "output_type": "stream",
     "text": [
      "2025-06-17 09:15:12,237 - INFO - Processing image /data/4-YQVM_9ac33726c539459d10cd6f6c97a6c9c77b0eefd4545f9eb551fbe334a9b59ad7/Dataset_4-YQVM/data/asset/Image/Multimodal_1217_Multimodal_2580_Multimodal_11379_Right_Field_2.jpg : , trial 2, color channel green, resize function imgResize_secondary\n"
     ]
    },
    {
     "name": "stdout",
     "output_type": "stream",
     "text": [
      "1/1 [==============================] - 0s 20ms/step\n"
     ]
    },
    {
     "name": "stderr",
     "output_type": "stream",
     "text": [
      "2025-06-17 09:15:12,845 - INFO - Processing image /data/4-YQVM_9ac33726c539459d10cd6f6c97a6c9c77b0eefd4545f9eb551fbe334a9b59ad7/Dataset_4-YQVM/data/asset/Image/Multimodal_1217_Multimodal_2580_Multimodal_11379_Right_Field_2.jpg : , trial 3, color channel red, resize function imgResize_secondary\n"
     ]
    },
    {
     "name": "stdout",
     "output_type": "stream",
     "text": [
      "1/1 [==============================] - 0s 20ms/step\n"
     ]
    },
    {
     "name": "stderr",
     "output_type": "stream",
     "text": [
      "2025-06-17 09:15:13,632 - INFO - Processing image /data/4-YQVM_9ac33726c539459d10cd6f6c97a6c9c77b0eefd4545f9eb551fbe334a9b59ad7/Dataset_4-YQVM/data/asset/Image/Multimodal_1217_Multimodal_2580_Multimodal_11379_Right_Field_2.jpg : , trial 4, color channel blue, resize function imgResize_secondary\n"
     ]
    },
    {
     "name": "stdout",
     "output_type": "stream",
     "text": [
      "1/1 [==============================] - 0s 20ms/step\n"
     ]
    },
    {
     "name": "stderr",
     "output_type": "stream",
     "text": [
      "2025-06-17 09:15:14,227 - INFO - Processing image /data/4-YQVM_9ac33726c539459d10cd6f6c97a6c9c77b0eefd4545f9eb551fbe334a9b59ad7/Dataset_4-YQVM/data/asset/Image/Multimodal_1217_Multimodal_2580_Multimodal_11379_Right_Field_2.jpg : , trial 1, color channel grey, resize function imgResize_primary\n"
     ]
    },
    {
     "name": "stdout",
     "output_type": "stream",
     "text": [
      "1/1 [==============================] - 0s 22ms/step\n"
     ]
    },
    {
     "name": "stderr",
     "output_type": "stream",
     "text": [
      "2025-06-17 09:15:14,671 - INFO - Processing image /data/4-YQVM_9ac33726c539459d10cd6f6c97a6c9c77b0eefd4545f9eb551fbe334a9b59ad7/Dataset_4-YQVM/data/asset/Image/Multimodal_1217_Multimodal_2580_Multimodal_11379_Right_Field_2.jpg : , trial 2, color channel green, resize function imgResize_primary\n"
     ]
    },
    {
     "name": "stdout",
     "output_type": "stream",
     "text": [
      "1/1 [==============================] - 0s 20ms/step\n"
     ]
    },
    {
     "name": "stderr",
     "output_type": "stream",
     "text": [
      "2025-06-17 09:15:15,193 - INFO - Processing image /data/4-YQVM_9ac33726c539459d10cd6f6c97a6c9c77b0eefd4545f9eb551fbe334a9b59ad7/Dataset_4-YQVM/data/asset/Image/Multimodal_1217_Multimodal_2580_Multimodal_11379_Right_Field_2.jpg : , trial 3, color channel red, resize function imgResize_primary\n"
     ]
    },
    {
     "name": "stdout",
     "output_type": "stream",
     "text": [
      "1/1 [==============================] - 0s 20ms/step\n"
     ]
    },
    {
     "name": "stderr",
     "output_type": "stream",
     "text": [
      "2025-06-17 09:15:15,864 - INFO - Processing image /data/4-YQVM_9ac33726c539459d10cd6f6c97a6c9c77b0eefd4545f9eb551fbe334a9b59ad7/Dataset_4-YQVM/data/asset/Image/Multimodal_1217_Multimodal_2580_Multimodal_11379_Right_Field_2.jpg : , trial 4, color channel blue, resize function imgResize_primary\n"
     ]
    },
    {
     "name": "stdout",
     "output_type": "stream",
     "text": [
      "1/1 [==============================] - 0s 20ms/step\n"
     ]
    },
    {
     "name": "stderr",
     "output_type": "stream",
     "text": [
      "2025-06-17 09:15:16,325 - INFO - Processing image /data/4-YQVM_9ac33726c539459d10cd6f6c97a6c9c77b0eefd4545f9eb551fbe334a9b59ad7/Dataset_4-YQVM/data/asset/Image/Multimodal_1217_Multimodal_2580_Multimodal_11379_Right_Field_2.jpg : , trial 1, color channel grey, resize function imgResize_secondary\n"
     ]
    },
    {
     "name": "stdout",
     "output_type": "stream",
     "text": [
      "1/1 [==============================] - 0s 22ms/step\n"
     ]
    },
    {
     "name": "stderr",
     "output_type": "stream",
     "text": [
      "2025-06-17 09:15:17,047 - INFO - Processing image /data/4-YQVM_9ac33726c539459d10cd6f6c97a6c9c77b0eefd4545f9eb551fbe334a9b59ad7/Dataset_4-YQVM/data/asset/Image/Multimodal_1217_Multimodal_2580_Multimodal_11379_Right_Field_2.jpg : , trial 2, color channel green, resize function imgResize_secondary\n"
     ]
    },
    {
     "name": "stdout",
     "output_type": "stream",
     "text": [
      "1/1 [==============================] - 0s 20ms/step\n"
     ]
    },
    {
     "name": "stderr",
     "output_type": "stream",
     "text": [
      "2025-06-17 09:15:17,713 - INFO - Processing image /data/4-YQVM_9ac33726c539459d10cd6f6c97a6c9c77b0eefd4545f9eb551fbe334a9b59ad7/Dataset_4-YQVM/data/asset/Image/Multimodal_1217_Multimodal_2580_Multimodal_11379_Right_Field_2.jpg : , trial 3, color channel red, resize function imgResize_secondary\n"
     ]
    },
    {
     "name": "stdout",
     "output_type": "stream",
     "text": [
      "1/1 [==============================] - 0s 20ms/step\n"
     ]
    },
    {
     "name": "stderr",
     "output_type": "stream",
     "text": [
      "2025-06-17 09:15:18,635 - INFO - Processing image /data/4-YQVM_9ac33726c539459d10cd6f6c97a6c9c77b0eefd4545f9eb551fbe334a9b59ad7/Dataset_4-YQVM/data/asset/Image/Multimodal_1217_Multimodal_2580_Multimodal_11379_Right_Field_2.jpg : , trial 4, color channel blue, resize function imgResize_secondary\n"
     ]
    },
    {
     "name": "stdout",
     "output_type": "stream",
     "text": [
      "1/1 [==============================] - 0s 20ms/step\n"
     ]
    },
    {
     "name": "stderr",
     "output_type": "stream",
     "text": [
      "2025-06-17 09:15:19,251 - INFO - Processing image /data/4-YQVM_9ac33726c539459d10cd6f6c97a6c9c77b0eefd4545f9eb551fbe334a9b59ad7/Dataset_4-YQVM/data/asset/Image/Multimodal_1217_Multimodal_2580_Multimodal_11379_Right_Field_2.jpg : , trial 1, color channel grey, resize function imgResize_primary\n"
     ]
    },
    {
     "name": "stdout",
     "output_type": "stream",
     "text": [
      "1/1 [==============================] - 0s 20ms/step\n"
     ]
    },
    {
     "name": "stderr",
     "output_type": "stream",
     "text": [
      "2025-06-17 09:15:19,796 - INFO - Processing image /data/4-YQVM_9ac33726c539459d10cd6f6c97a6c9c77b0eefd4545f9eb551fbe334a9b59ad7/Dataset_4-YQVM/data/asset/Image/Multimodal_1217_Multimodal_2580_Multimodal_11379_Right_Field_2.jpg : , trial 2, color channel green, resize function imgResize_primary\n"
     ]
    },
    {
     "name": "stdout",
     "output_type": "stream",
     "text": [
      "1/1 [==============================] - 0s 20ms/step\n"
     ]
    },
    {
     "name": "stderr",
     "output_type": "stream",
     "text": [
      "2025-06-17 09:15:20,244 - INFO - Processing image /data/4-YQVM_9ac33726c539459d10cd6f6c97a6c9c77b0eefd4545f9eb551fbe334a9b59ad7/Dataset_4-YQVM/data/asset/Image/Multimodal_1217_Multimodal_2580_Multimodal_11379_Right_Field_2.jpg : , trial 3, color channel red, resize function imgResize_primary\n"
     ]
    },
    {
     "name": "stdout",
     "output_type": "stream",
     "text": [
      "1/1 [==============================] - 0s 20ms/step\n"
     ]
    },
    {
     "name": "stderr",
     "output_type": "stream",
     "text": [
      "2025-06-17 09:15:20,782 - INFO - Processing image /data/4-YQVM_9ac33726c539459d10cd6f6c97a6c9c77b0eefd4545f9eb551fbe334a9b59ad7/Dataset_4-YQVM/data/asset/Image/Multimodal_1217_Multimodal_2580_Multimodal_11379_Right_Field_2.jpg : , trial 4, color channel blue, resize function imgResize_primary\n"
     ]
    },
    {
     "name": "stdout",
     "output_type": "stream",
     "text": [
      "1/1 [==============================] - 0s 21ms/step\n"
     ]
    },
    {
     "name": "stderr",
     "output_type": "stream",
     "text": [
      "2025-06-17 09:15:21,210 - INFO - Processing image /data/4-YQVM_9ac33726c539459d10cd6f6c97a6c9c77b0eefd4545f9eb551fbe334a9b59ad7/Dataset_4-YQVM/data/asset/Image/Multimodal_1217_Multimodal_2580_Multimodal_11379_Right_Field_2.jpg : , trial 1, color channel grey, resize function imgResize_secondary\n"
     ]
    },
    {
     "name": "stdout",
     "output_type": "stream",
     "text": [
      "1/1 [==============================] - 0s 20ms/step\n"
     ]
    },
    {
     "name": "stderr",
     "output_type": "stream",
     "text": [
      "2025-06-17 09:15:21,886 - INFO - Processing image /data/4-YQVM_9ac33726c539459d10cd6f6c97a6c9c77b0eefd4545f9eb551fbe334a9b59ad7/Dataset_4-YQVM/data/asset/Image/Multimodal_1217_Multimodal_2580_Multimodal_11379_Right_Field_2.jpg : , trial 2, color channel green, resize function imgResize_secondary\n"
     ]
    },
    {
     "name": "stdout",
     "output_type": "stream",
     "text": [
      "1/1 [==============================] - 0s 20ms/step\n"
     ]
    },
    {
     "name": "stderr",
     "output_type": "stream",
     "text": [
      "2025-06-17 09:15:22,487 - INFO - Processing image /data/4-YQVM_9ac33726c539459d10cd6f6c97a6c9c77b0eefd4545f9eb551fbe334a9b59ad7/Dataset_4-YQVM/data/asset/Image/Multimodal_1217_Multimodal_2580_Multimodal_11379_Right_Field_2.jpg : , trial 3, color channel red, resize function imgResize_secondary\n"
     ]
    },
    {
     "name": "stdout",
     "output_type": "stream",
     "text": [
      "1/1 [==============================] - 0s 20ms/step\n"
     ]
    },
    {
     "name": "stderr",
     "output_type": "stream",
     "text": [
      "2025-06-17 09:15:23,321 - INFO - Processing image /data/4-YQVM_9ac33726c539459d10cd6f6c97a6c9c77b0eefd4545f9eb551fbe334a9b59ad7/Dataset_4-YQVM/data/asset/Image/Multimodal_1217_Multimodal_2580_Multimodal_11379_Right_Field_2.jpg : , trial 4, color channel blue, resize function imgResize_secondary\n"
     ]
    },
    {
     "name": "stdout",
     "output_type": "stream",
     "text": [
      "1/1 [==============================] - 0s 20ms/step\n"
     ]
    },
    {
     "name": "stderr",
     "output_type": "stream",
     "text": [
      "2025-06-17 09:15:23,934 - INFO - Processing image /data/4-YQVM_9ac33726c539459d10cd6f6c97a6c9c77b0eefd4545f9eb551fbe334a9b59ad7/Dataset_4-YQVM/data/asset/Image/Multimodal_1217_Multimodal_2580_Multimodal_11379_Right_Field_2.jpg : , trial 1, color channel grey, resize function imgResize_primary\n"
     ]
    },
    {
     "name": "stdout",
     "output_type": "stream",
     "text": [
      "1/1 [==============================] - 0s 21ms/step\n"
     ]
    },
    {
     "name": "stderr",
     "output_type": "stream",
     "text": [
      "2025-06-17 09:15:24,419 - INFO - Processing image /data/4-YQVM_9ac33726c539459d10cd6f6c97a6c9c77b0eefd4545f9eb551fbe334a9b59ad7/Dataset_4-YQVM/data/asset/Image/Multimodal_1217_Multimodal_2580_Multimodal_11379_Right_Field_2.jpg : , trial 2, color channel green, resize function imgResize_primary\n"
     ]
    },
    {
     "name": "stdout",
     "output_type": "stream",
     "text": [
      "1/1 [==============================] - 0s 20ms/step\n"
     ]
    },
    {
     "name": "stderr",
     "output_type": "stream",
     "text": [
      "2025-06-17 09:15:24,875 - INFO - Processing image /data/4-YQVM_9ac33726c539459d10cd6f6c97a6c9c77b0eefd4545f9eb551fbe334a9b59ad7/Dataset_4-YQVM/data/asset/Image/Multimodal_1217_Multimodal_2580_Multimodal_11379_Right_Field_2.jpg : , trial 3, color channel red, resize function imgResize_primary\n"
     ]
    },
    {
     "name": "stdout",
     "output_type": "stream",
     "text": [
      "1/1 [==============================] - 0s 20ms/step\n"
     ]
    },
    {
     "name": "stderr",
     "output_type": "stream",
     "text": [
      "2025-06-17 09:15:25,353 - INFO - Processing image /data/4-YQVM_9ac33726c539459d10cd6f6c97a6c9c77b0eefd4545f9eb551fbe334a9b59ad7/Dataset_4-YQVM/data/asset/Image/Multimodal_1217_Multimodal_2580_Multimodal_11379_Right_Field_2.jpg : , trial 4, color channel blue, resize function imgResize_primary\n"
     ]
    },
    {
     "name": "stdout",
     "output_type": "stream",
     "text": [
      "1/1 [==============================] - 0s 20ms/step\n"
     ]
    },
    {
     "name": "stderr",
     "output_type": "stream",
     "text": [
      "2025-06-17 09:15:25,766 - INFO - Processing image /data/4-YQVM_9ac33726c539459d10cd6f6c97a6c9c77b0eefd4545f9eb551fbe334a9b59ad7/Dataset_4-YQVM/data/asset/Image/Multimodal_1217_Multimodal_2580_Multimodal_11379_Right_Field_2.jpg : , trial 1, color channel grey, resize function imgResize_secondary\n"
     ]
    },
    {
     "name": "stdout",
     "output_type": "stream",
     "text": [
      "1/1 [==============================] - 0s 20ms/step\n"
     ]
    },
    {
     "name": "stderr",
     "output_type": "stream",
     "text": [
      "2025-06-17 09:15:26,553 - INFO - Processing image /data/4-YQVM_9ac33726c539459d10cd6f6c97a6c9c77b0eefd4545f9eb551fbe334a9b59ad7/Dataset_4-YQVM/data/asset/Image/Multimodal_1217_Multimodal_2580_Multimodal_11379_Right_Field_2.jpg : , trial 2, color channel green, resize function imgResize_secondary\n"
     ]
    },
    {
     "name": "stdout",
     "output_type": "stream",
     "text": [
      "1/1 [==============================] - 0s 20ms/step\n"
     ]
    },
    {
     "name": "stderr",
     "output_type": "stream",
     "text": [
      "2025-06-17 09:15:27,231 - INFO - Processing image /data/4-YQVM_9ac33726c539459d10cd6f6c97a6c9c77b0eefd4545f9eb551fbe334a9b59ad7/Dataset_4-YQVM/data/asset/Image/Multimodal_1217_Multimodal_2580_Multimodal_11379_Right_Field_2.jpg : , trial 3, color channel red, resize function imgResize_secondary\n"
     ]
    },
    {
     "name": "stdout",
     "output_type": "stream",
     "text": [
      "1/1 [==============================] - 0s 20ms/step\n"
     ]
    },
    {
     "name": "stderr",
     "output_type": "stream",
     "text": [
      "2025-06-17 09:15:28,011 - INFO - Processing image /data/4-YQVM_9ac33726c539459d10cd6f6c97a6c9c77b0eefd4545f9eb551fbe334a9b59ad7/Dataset_4-YQVM/data/asset/Image/Multimodal_1217_Multimodal_2580_Multimodal_11379_Right_Field_2.jpg : , trial 4, color channel blue, resize function imgResize_secondary\n"
     ]
    },
    {
     "name": "stdout",
     "output_type": "stream",
     "text": [
      "1/1 [==============================] - 0s 20ms/step\n"
     ]
    },
    {
     "name": "stderr",
     "output_type": "stream",
     "text": [
      "2025-06-17 09:15:28,638 - INFO - Processing image /data/4-YQVM_9ac33726c539459d10cd6f6c97a6c9c77b0eefd4545f9eb551fbe334a9b59ad7/Dataset_4-YQVM/data/asset/Image/Multimodal_1217_Multimodal_2580_Multimodal_11379_Right_Field_2.jpg : , trial 1, color channel grey, resize function imgResize_primary\n"
     ]
    },
    {
     "name": "stdout",
     "output_type": "stream",
     "text": [
      "1/1 [==============================] - 0s 20ms/step\n"
     ]
    },
    {
     "name": "stderr",
     "output_type": "stream",
     "text": [
      "2025-06-17 09:15:29,103 - INFO - Processing image /data/4-YQVM_9ac33726c539459d10cd6f6c97a6c9c77b0eefd4545f9eb551fbe334a9b59ad7/Dataset_4-YQVM/data/asset/Image/Multimodal_1217_Multimodal_2580_Multimodal_11379_Right_Field_2.jpg : , trial 2, color channel green, resize function imgResize_primary\n"
     ]
    },
    {
     "name": "stdout",
     "output_type": "stream",
     "text": [
      "1/1 [==============================] - 0s 20ms/step\n"
     ]
    },
    {
     "name": "stderr",
     "output_type": "stream",
     "text": [
      "2025-06-17 09:15:29,529 - INFO - Processing image /data/4-YQVM_9ac33726c539459d10cd6f6c97a6c9c77b0eefd4545f9eb551fbe334a9b59ad7/Dataset_4-YQVM/data/asset/Image/Multimodal_1217_Multimodal_2580_Multimodal_11379_Right_Field_2.jpg : , trial 3, color channel red, resize function imgResize_primary\n"
     ]
    },
    {
     "name": "stdout",
     "output_type": "stream",
     "text": [
      "1/1 [==============================] - 0s 20ms/step\n"
     ]
    },
    {
     "name": "stderr",
     "output_type": "stream",
     "text": [
      "2025-06-17 09:15:30,103 - INFO - Processing image /data/4-YQVM_9ac33726c539459d10cd6f6c97a6c9c77b0eefd4545f9eb551fbe334a9b59ad7/Dataset_4-YQVM/data/asset/Image/Multimodal_1217_Multimodal_2580_Multimodal_11379_Right_Field_2.jpg : , trial 4, color channel blue, resize function imgResize_primary\n"
     ]
    },
    {
     "name": "stdout",
     "output_type": "stream",
     "text": [
      "1/1 [==============================] - 0s 20ms/step\n"
     ]
    },
    {
     "name": "stderr",
     "output_type": "stream",
     "text": [
      "2025-06-17 09:15:30,522 - INFO - Processing image /data/4-YQVM_9ac33726c539459d10cd6f6c97a6c9c77b0eefd4545f9eb551fbe334a9b59ad7/Dataset_4-YQVM/data/asset/Image/Multimodal_1217_Multimodal_2580_Multimodal_11379_Right_Field_2.jpg : , trial 1, color channel grey, resize function imgResize_secondary\n"
     ]
    },
    {
     "name": "stdout",
     "output_type": "stream",
     "text": [
      "1/1 [==============================] - 0s 20ms/step\n"
     ]
    },
    {
     "name": "stderr",
     "output_type": "stream",
     "text": [
      "2025-06-17 09:15:31,072 - INFO - Processing image /data/4-YQVM_9ac33726c539459d10cd6f6c97a6c9c77b0eefd4545f9eb551fbe334a9b59ad7/Dataset_4-YQVM/data/asset/Image/Multimodal_1217_Multimodal_2580_Multimodal_11379_Right_Field_2.jpg : , trial 2, color channel green, resize function imgResize_secondary\n"
     ]
    },
    {
     "name": "stdout",
     "output_type": "stream",
     "text": [
      "1/1 [==============================] - 0s 20ms/step\n"
     ]
    },
    {
     "name": "stderr",
     "output_type": "stream",
     "text": [
      "2025-06-17 09:15:31,707 - INFO - Processing image /data/4-YQVM_9ac33726c539459d10cd6f6c97a6c9c77b0eefd4545f9eb551fbe334a9b59ad7/Dataset_4-YQVM/data/asset/Image/Multimodal_1217_Multimodal_2580_Multimodal_11379_Right_Field_2.jpg : , trial 3, color channel red, resize function imgResize_secondary\n"
     ]
    },
    {
     "name": "stdout",
     "output_type": "stream",
     "text": [
      "1/1 [==============================] - 0s 21ms/step\n"
     ]
    },
    {
     "name": "stderr",
     "output_type": "stream",
     "text": [
      "2025-06-17 09:15:32,538 - INFO - Processing image /data/4-YQVM_9ac33726c539459d10cd6f6c97a6c9c77b0eefd4545f9eb551fbe334a9b59ad7/Dataset_4-YQVM/data/asset/Image/Multimodal_1217_Multimodal_2580_Multimodal_11379_Right_Field_2.jpg : , trial 4, color channel blue, resize function imgResize_secondary\n"
     ]
    },
    {
     "name": "stdout",
     "output_type": "stream",
     "text": [
      "1/1 [==============================] - 0s 20ms/step\n"
     ]
    },
    {
     "name": "stderr",
     "output_type": "stream",
     "text": [
      "2025-06-17 09:15:33,219 - INFO - SVG for 4-YS04 saved.\n",
      "2025-06-17 09:15:33,278 - INFO - Processing image /data/4-YQVM_9ac33726c539459d10cd6f6c97a6c9c77b0eefd4545f9eb551fbe334a9b59ad7/Dataset_4-YQVM/data/asset/Image/Multimodal_1209_Multimodal_2565_Multimodal_11365_Left_Field_2.jpg : , trial 1, color channel grey, resize function imgResize_primary\n"
     ]
    },
    {
     "name": "stdout",
     "output_type": "stream",
     "text": [
      "1/1 [==============================] - 0s 20ms/step\n"
     ]
    },
    {
     "name": "stderr",
     "output_type": "stream",
     "text": [
      "2025-06-17 09:15:34,089 - INFO - SVG for 4-YS06 saved.\n",
      "2025-06-17 09:15:34,147 - INFO - Processing image /data/4-YQVM_9ac33726c539459d10cd6f6c97a6c9c77b0eefd4545f9eb551fbe334a9b59ad7/Dataset_4-YQVM/data/asset/Image/Multimodal_1317_Multimodal_2754_Multimodal_11554_Left_Field_2.jpg : , trial 1, color channel grey, resize function imgResize_primary\n"
     ]
    },
    {
     "name": "stdout",
     "output_type": "stream",
     "text": [
      "1/1 [==============================] - 0s 20ms/step\n"
     ]
    },
    {
     "name": "stderr",
     "output_type": "stream",
     "text": [
      "2025-06-17 09:15:34,722 - INFO - Processing image /data/4-YQVM_9ac33726c539459d10cd6f6c97a6c9c77b0eefd4545f9eb551fbe334a9b59ad7/Dataset_4-YQVM/data/asset/Image/Multimodal_1317_Multimodal_2754_Multimodal_11554_Left_Field_2.jpg : , trial 2, color channel green, resize function imgResize_primary\n"
     ]
    },
    {
     "name": "stdout",
     "output_type": "stream",
     "text": [
      "1/1 [==============================] - 0s 21ms/step\n"
     ]
    },
    {
     "name": "stderr",
     "output_type": "stream",
     "text": [
      "2025-06-17 09:15:35,203 - INFO - Processing image /data/4-YQVM_9ac33726c539459d10cd6f6c97a6c9c77b0eefd4545f9eb551fbe334a9b59ad7/Dataset_4-YQVM/data/asset/Image/Multimodal_1317_Multimodal_2754_Multimodal_11554_Left_Field_2.jpg : , trial 3, color channel red, resize function imgResize_primary\n"
     ]
    },
    {
     "name": "stdout",
     "output_type": "stream",
     "text": [
      "1/1 [==============================] - 0s 20ms/step\n"
     ]
    },
    {
     "name": "stderr",
     "output_type": "stream",
     "text": [
      "2025-06-17 09:15:35,820 - INFO - Processing image /data/4-YQVM_9ac33726c539459d10cd6f6c97a6c9c77b0eefd4545f9eb551fbe334a9b59ad7/Dataset_4-YQVM/data/asset/Image/Multimodal_1317_Multimodal_2754_Multimodal_11554_Left_Field_2.jpg : , trial 4, color channel blue, resize function imgResize_primary\n"
     ]
    },
    {
     "name": "stdout",
     "output_type": "stream",
     "text": [
      "1/1 [==============================] - 0s 20ms/step\n"
     ]
    },
    {
     "name": "stderr",
     "output_type": "stream",
     "text": [
      "2025-06-17 09:15:36,351 - INFO - Processing image /data/4-YQVM_9ac33726c539459d10cd6f6c97a6c9c77b0eefd4545f9eb551fbe334a9b59ad7/Dataset_4-YQVM/data/asset/Image/Multimodal_1317_Multimodal_2754_Multimodal_11554_Left_Field_2.jpg : , trial 1, color channel grey, resize function imgResize_secondary\n"
     ]
    },
    {
     "name": "stdout",
     "output_type": "stream",
     "text": [
      "1/1 [==============================] - 0s 21ms/step\n"
     ]
    },
    {
     "name": "stderr",
     "output_type": "stream",
     "text": [
      "2025-06-17 09:15:37,131 - INFO - Processing image /data/4-YQVM_9ac33726c539459d10cd6f6c97a6c9c77b0eefd4545f9eb551fbe334a9b59ad7/Dataset_4-YQVM/data/asset/Image/Multimodal_1317_Multimodal_2754_Multimodal_11554_Left_Field_2.jpg : , trial 2, color channel green, resize function imgResize_secondary\n"
     ]
    },
    {
     "name": "stdout",
     "output_type": "stream",
     "text": [
      "1/1 [==============================] - 0s 21ms/step\n"
     ]
    },
    {
     "name": "stderr",
     "output_type": "stream",
     "text": [
      "2025-06-17 09:15:37,916 - INFO - Processing image /data/4-YQVM_9ac33726c539459d10cd6f6c97a6c9c77b0eefd4545f9eb551fbe334a9b59ad7/Dataset_4-YQVM/data/asset/Image/Multimodal_1317_Multimodal_2754_Multimodal_11554_Left_Field_2.jpg : , trial 3, color channel red, resize function imgResize_secondary\n"
     ]
    },
    {
     "name": "stdout",
     "output_type": "stream",
     "text": [
      "1/1 [==============================] - 0s 20ms/step\n"
     ]
    },
    {
     "name": "stderr",
     "output_type": "stream",
     "text": [
      "2025-06-17 09:15:38,995 - INFO - Processing image /data/4-YQVM_9ac33726c539459d10cd6f6c97a6c9c77b0eefd4545f9eb551fbe334a9b59ad7/Dataset_4-YQVM/data/asset/Image/Multimodal_1317_Multimodal_2754_Multimodal_11554_Left_Field_2.jpg : , trial 4, color channel blue, resize function imgResize_secondary\n"
     ]
    },
    {
     "name": "stdout",
     "output_type": "stream",
     "text": [
      "1/1 [==============================] - 0s 21ms/step\n"
     ]
    },
    {
     "name": "stderr",
     "output_type": "stream",
     "text": [
      "2025-06-17 09:15:39,849 - INFO - Processing image /data/4-YQVM_9ac33726c539459d10cd6f6c97a6c9c77b0eefd4545f9eb551fbe334a9b59ad7/Dataset_4-YQVM/data/asset/Image/Multimodal_1317_Multimodal_2754_Multimodal_11554_Left_Field_2.jpg : , trial 1, color channel grey, resize function imgResize_primary\n"
     ]
    },
    {
     "name": "stdout",
     "output_type": "stream",
     "text": [
      "1/1 [==============================] - 0s 20ms/step\n"
     ]
    },
    {
     "name": "stderr",
     "output_type": "stream",
     "text": [
      "2025-06-17 09:15:40,529 - INFO - Processing image /data/4-YQVM_9ac33726c539459d10cd6f6c97a6c9c77b0eefd4545f9eb551fbe334a9b59ad7/Dataset_4-YQVM/data/asset/Image/Multimodal_1317_Multimodal_2754_Multimodal_11554_Left_Field_2.jpg : , trial 2, color channel green, resize function imgResize_primary\n"
     ]
    },
    {
     "name": "stdout",
     "output_type": "stream",
     "text": [
      "1/1 [==============================] - 0s 20ms/step\n"
     ]
    },
    {
     "name": "stderr",
     "output_type": "stream",
     "text": [
      "2025-06-17 09:15:41,111 - INFO - Processing image /data/4-YQVM_9ac33726c539459d10cd6f6c97a6c9c77b0eefd4545f9eb551fbe334a9b59ad7/Dataset_4-YQVM/data/asset/Image/Multimodal_1317_Multimodal_2754_Multimodal_11554_Left_Field_2.jpg : , trial 3, color channel red, resize function imgResize_primary\n"
     ]
    },
    {
     "name": "stdout",
     "output_type": "stream",
     "text": [
      "1/1 [==============================] - 0s 20ms/step\n"
     ]
    },
    {
     "name": "stderr",
     "output_type": "stream",
     "text": [
      "2025-06-17 09:15:41,750 - INFO - Processing image /data/4-YQVM_9ac33726c539459d10cd6f6c97a6c9c77b0eefd4545f9eb551fbe334a9b59ad7/Dataset_4-YQVM/data/asset/Image/Multimodal_1317_Multimodal_2754_Multimodal_11554_Left_Field_2.jpg : , trial 4, color channel blue, resize function imgResize_primary\n"
     ]
    },
    {
     "name": "stdout",
     "output_type": "stream",
     "text": [
      "1/1 [==============================] - 0s 20ms/step\n"
     ]
    },
    {
     "name": "stderr",
     "output_type": "stream",
     "text": [
      "2025-06-17 09:15:42,209 - INFO - Processing image /data/4-YQVM_9ac33726c539459d10cd6f6c97a6c9c77b0eefd4545f9eb551fbe334a9b59ad7/Dataset_4-YQVM/data/asset/Image/Multimodal_1317_Multimodal_2754_Multimodal_11554_Left_Field_2.jpg : , trial 1, color channel grey, resize function imgResize_secondary\n"
     ]
    },
    {
     "name": "stdout",
     "output_type": "stream",
     "text": [
      "1/1 [==============================] - 0s 20ms/step\n"
     ]
    },
    {
     "name": "stderr",
     "output_type": "stream",
     "text": [
      "2025-06-17 09:15:42,979 - INFO - Processing image /data/4-YQVM_9ac33726c539459d10cd6f6c97a6c9c77b0eefd4545f9eb551fbe334a9b59ad7/Dataset_4-YQVM/data/asset/Image/Multimodal_1317_Multimodal_2754_Multimodal_11554_Left_Field_2.jpg : , trial 2, color channel green, resize function imgResize_secondary\n"
     ]
    },
    {
     "name": "stdout",
     "output_type": "stream",
     "text": [
      "1/1 [==============================] - 0s 21ms/step\n"
     ]
    },
    {
     "name": "stderr",
     "output_type": "stream",
     "text": [
      "2025-06-17 09:15:43,713 - INFO - Processing image /data/4-YQVM_9ac33726c539459d10cd6f6c97a6c9c77b0eefd4545f9eb551fbe334a9b59ad7/Dataset_4-YQVM/data/asset/Image/Multimodal_1317_Multimodal_2754_Multimodal_11554_Left_Field_2.jpg : , trial 3, color channel red, resize function imgResize_secondary\n"
     ]
    },
    {
     "name": "stdout",
     "output_type": "stream",
     "text": [
      "1/1 [==============================] - 0s 20ms/step\n"
     ]
    },
    {
     "name": "stderr",
     "output_type": "stream",
     "text": [
      "2025-06-17 09:15:44,467 - INFO - Processing image /data/4-YQVM_9ac33726c539459d10cd6f6c97a6c9c77b0eefd4545f9eb551fbe334a9b59ad7/Dataset_4-YQVM/data/asset/Image/Multimodal_1317_Multimodal_2754_Multimodal_11554_Left_Field_2.jpg : , trial 4, color channel blue, resize function imgResize_secondary\n"
     ]
    },
    {
     "name": "stdout",
     "output_type": "stream",
     "text": [
      "1/1 [==============================] - 0s 21ms/step\n"
     ]
    },
    {
     "name": "stderr",
     "output_type": "stream",
     "text": [
      "2025-06-17 09:15:45,392 - INFO - Processing image /data/4-YQVM_9ac33726c539459d10cd6f6c97a6c9c77b0eefd4545f9eb551fbe334a9b59ad7/Dataset_4-YQVM/data/asset/Image/Multimodal_1317_Multimodal_2754_Multimodal_11554_Left_Field_2.jpg : , trial 1, color channel grey, resize function imgResize_primary\n"
     ]
    },
    {
     "name": "stdout",
     "output_type": "stream",
     "text": [
      "1/1 [==============================] - 0s 20ms/step\n"
     ]
    },
    {
     "name": "stderr",
     "output_type": "stream",
     "text": [
      "2025-06-17 09:15:45,918 - INFO - Processing image /data/4-YQVM_9ac33726c539459d10cd6f6c97a6c9c77b0eefd4545f9eb551fbe334a9b59ad7/Dataset_4-YQVM/data/asset/Image/Multimodal_1317_Multimodal_2754_Multimodal_11554_Left_Field_2.jpg : , trial 2, color channel green, resize function imgResize_primary\n"
     ]
    },
    {
     "name": "stdout",
     "output_type": "stream",
     "text": [
      "1/1 [==============================] - 0s 21ms/step\n"
     ]
    },
    {
     "name": "stderr",
     "output_type": "stream",
     "text": [
      "2025-06-17 09:15:46,420 - INFO - Processing image /data/4-YQVM_9ac33726c539459d10cd6f6c97a6c9c77b0eefd4545f9eb551fbe334a9b59ad7/Dataset_4-YQVM/data/asset/Image/Multimodal_1317_Multimodal_2754_Multimodal_11554_Left_Field_2.jpg : , trial 3, color channel red, resize function imgResize_primary\n"
     ]
    },
    {
     "name": "stdout",
     "output_type": "stream",
     "text": [
      "1/1 [==============================] - 0s 20ms/step\n"
     ]
    },
    {
     "name": "stderr",
     "output_type": "stream",
     "text": [
      "2025-06-17 09:15:47,070 - INFO - Processing image /data/4-YQVM_9ac33726c539459d10cd6f6c97a6c9c77b0eefd4545f9eb551fbe334a9b59ad7/Dataset_4-YQVM/data/asset/Image/Multimodal_1317_Multimodal_2754_Multimodal_11554_Left_Field_2.jpg : , trial 4, color channel blue, resize function imgResize_primary\n"
     ]
    },
    {
     "name": "stdout",
     "output_type": "stream",
     "text": [
      "1/1 [==============================] - 0s 20ms/step\n"
     ]
    },
    {
     "name": "stderr",
     "output_type": "stream",
     "text": [
      "2025-06-17 09:15:47,596 - INFO - Processing image /data/4-YQVM_9ac33726c539459d10cd6f6c97a6c9c77b0eefd4545f9eb551fbe334a9b59ad7/Dataset_4-YQVM/data/asset/Image/Multimodal_1317_Multimodal_2754_Multimodal_11554_Left_Field_2.jpg : , trial 1, color channel grey, resize function imgResize_secondary\n"
     ]
    },
    {
     "name": "stdout",
     "output_type": "stream",
     "text": [
      "1/1 [==============================] - 0s 20ms/step\n"
     ]
    },
    {
     "name": "stderr",
     "output_type": "stream",
     "text": [
      "2025-06-17 09:15:48,426 - INFO - Processing image /data/4-YQVM_9ac33726c539459d10cd6f6c97a6c9c77b0eefd4545f9eb551fbe334a9b59ad7/Dataset_4-YQVM/data/asset/Image/Multimodal_1317_Multimodal_2754_Multimodal_11554_Left_Field_2.jpg : , trial 2, color channel green, resize function imgResize_secondary\n"
     ]
    },
    {
     "name": "stdout",
     "output_type": "stream",
     "text": [
      "1/1 [==============================] - 0s 20ms/step\n"
     ]
    },
    {
     "name": "stderr",
     "output_type": "stream",
     "text": [
      "2025-06-17 09:15:49,208 - INFO - Processing image /data/4-YQVM_9ac33726c539459d10cd6f6c97a6c9c77b0eefd4545f9eb551fbe334a9b59ad7/Dataset_4-YQVM/data/asset/Image/Multimodal_1317_Multimodal_2754_Multimodal_11554_Left_Field_2.jpg : , trial 3, color channel red, resize function imgResize_secondary\n"
     ]
    },
    {
     "name": "stdout",
     "output_type": "stream",
     "text": [
      "1/1 [==============================] - 0s 21ms/step\n"
     ]
    },
    {
     "name": "stderr",
     "output_type": "stream",
     "text": [
      "2025-06-17 09:15:50,132 - INFO - Processing image /data/4-YQVM_9ac33726c539459d10cd6f6c97a6c9c77b0eefd4545f9eb551fbe334a9b59ad7/Dataset_4-YQVM/data/asset/Image/Multimodal_1317_Multimodal_2754_Multimodal_11554_Left_Field_2.jpg : , trial 4, color channel blue, resize function imgResize_secondary\n"
     ]
    },
    {
     "name": "stdout",
     "output_type": "stream",
     "text": [
      "1/1 [==============================] - 0s 20ms/step\n"
     ]
    },
    {
     "name": "stderr",
     "output_type": "stream",
     "text": [
      "2025-06-17 09:15:51,105 - INFO - SVG for 4-YS08 saved.\n",
      "2025-06-17 09:15:51,165 - INFO - Processing image /data/4-YQVM_9ac33726c539459d10cd6f6c97a6c9c77b0eefd4545f9eb551fbe334a9b59ad7/Dataset_4-YQVM/data/asset/Image/Multimodal_1261_Multimodal_2659_Multimodal_11458_Right_Field_2.jpg : , trial 1, color channel grey, resize function imgResize_primary\n"
     ]
    },
    {
     "name": "stdout",
     "output_type": "stream",
     "text": [
      "1/1 [==============================] - 0s 20ms/step\n"
     ]
    },
    {
     "name": "stderr",
     "output_type": "stream",
     "text": [
      "2025-06-17 09:15:52,086 - INFO - SVG for 4-YS0A saved.\n",
      "2025-06-17 09:15:52,145 - INFO - Processing image /data/4-YQVM_9ac33726c539459d10cd6f6c97a6c9c77b0eefd4545f9eb551fbe334a9b59ad7/Dataset_4-YQVM/data/asset/Image/Multimodal_1280_Multimodal_2688_Multimodal_11487_Right_Field_2.jpg : , trial 1, color channel grey, resize function imgResize_primary\n"
     ]
    },
    {
     "name": "stdout",
     "output_type": "stream",
     "text": [
      "1/1 [==============================] - 0s 20ms/step\n"
     ]
    },
    {
     "name": "stderr",
     "output_type": "stream",
     "text": [
      "2025-06-17 09:15:52,969 - INFO - SVG for 4-YS0C saved.\n",
      "2025-06-17 09:15:53,027 - INFO - Processing image /data/4-YQVM_9ac33726c539459d10cd6f6c97a6c9c77b0eefd4545f9eb551fbe334a9b59ad7/Dataset_4-YQVM/data/asset/Image/Multimodal_1337_Multimodal_2792_Multimodal_11591_Right_Field_2.jpg : , trial 1, color channel grey, resize function imgResize_primary\n"
     ]
    },
    {
     "name": "stdout",
     "output_type": "stream",
     "text": [
      "1/1 [==============================] - 0s 20ms/step\n"
     ]
    },
    {
     "name": "stderr",
     "output_type": "stream",
     "text": [
      "2025-06-17 09:15:53,694 - INFO - SVG for 4-YS0E saved.\n",
      "2025-06-17 09:15:53,753 - INFO - Processing image /data/4-YQVM_9ac33726c539459d10cd6f6c97a6c9c77b0eefd4545f9eb551fbe334a9b59ad7/Dataset_4-YQVM/data/asset/Image/Multimodal_1276_Multimodal_2681_Multimodal_11481_Left_Field_2.jpg : , trial 1, color channel grey, resize function imgResize_primary\n"
     ]
    },
    {
     "name": "stdout",
     "output_type": "stream",
     "text": [
      "1/1 [==============================] - 0s 20ms/step\n"
     ]
    },
    {
     "name": "stderr",
     "output_type": "stream",
     "text": [
      "2025-06-17 09:15:54,318 - INFO - SVG for 4-YS0G saved.\n",
      "2025-06-17 09:15:54,375 - INFO - Processing image /data/4-YQVM_9ac33726c539459d10cd6f6c97a6c9c77b0eefd4545f9eb551fbe334a9b59ad7/Dataset_4-YQVM/data/asset/Image/Multimodal_1256_Multimodal_2650_Multimodal_11450_Left_Field_2.jpg : , trial 1, color channel grey, resize function imgResize_primary\n"
     ]
    },
    {
     "name": "stdout",
     "output_type": "stream",
     "text": [
      "1/1 [==============================] - 0s 20ms/step\n"
     ]
    },
    {
     "name": "stderr",
     "output_type": "stream",
     "text": [
      "2025-06-17 09:15:55,063 - INFO - SVG for 4-YS0J saved.\n",
      "2025-06-17 09:15:55,127 - INFO - Processing image /data/4-YQVM_9ac33726c539459d10cd6f6c97a6c9c77b0eefd4545f9eb551fbe334a9b59ad7/Dataset_4-YQVM/data/asset/Image/Multimodal_1251_Multimodal_2642_Multimodal_11441_Left_Field_2.jpg : , trial 1, color channel grey, resize function imgResize_primary\n"
     ]
    },
    {
     "name": "stdout",
     "output_type": "stream",
     "text": [
      "1/1 [==============================] - 0s 20ms/step\n"
     ]
    },
    {
     "name": "stderr",
     "output_type": "stream",
     "text": [
      "2025-06-17 09:15:56,045 - INFO - SVG for 4-YS0M saved.\n",
      "2025-06-17 09:15:56,104 - INFO - Processing image /data/4-YQVM_9ac33726c539459d10cd6f6c97a6c9c77b0eefd4545f9eb551fbe334a9b59ad7/Dataset_4-YQVM/data/asset/Image/Multimodal_1222_Multimodal_2588_Multimodal_11388_Left_Field_1.jpg : , trial 1, color channel grey, resize function imgResize_primary\n"
     ]
    },
    {
     "name": "stdout",
     "output_type": "stream",
     "text": [
      "1/1 [==============================] - 0s 20ms/step\n"
     ]
    },
    {
     "name": "stderr",
     "output_type": "stream",
     "text": [
      "2025-06-17 09:15:56,845 - INFO - SVG for 4-YS0P saved.\n",
      "2025-06-17 09:15:56,907 - INFO - Processing image /data/4-YQVM_9ac33726c539459d10cd6f6c97a6c9c77b0eefd4545f9eb551fbe334a9b59ad7/Dataset_4-YQVM/data/asset/Image/Multimodal_1279_Multimodal_2686_Multimodal_11486_Left_Field_2.jpg : , trial 1, color channel grey, resize function imgResize_primary\n"
     ]
    },
    {
     "name": "stdout",
     "output_type": "stream",
     "text": [
      "1/1 [==============================] - 0s 20ms/step\n"
     ]
    },
    {
     "name": "stderr",
     "output_type": "stream",
     "text": [
      "2025-06-17 09:15:57,482 - INFO - SVG for 4-YS0R saved.\n",
      "2025-06-17 09:15:57,544 - INFO - Processing image /data/4-YQVM_9ac33726c539459d10cd6f6c97a6c9c77b0eefd4545f9eb551fbe334a9b59ad7/Dataset_4-YQVM/data/asset/Image/Multimodal_1244_Multimodal_2629_Multimodal_11429_Left_Field_2.jpg : , trial 1, color channel grey, resize function imgResize_primary\n"
     ]
    },
    {
     "name": "stdout",
     "output_type": "stream",
     "text": [
      "1/1 [==============================] - 0s 20ms/step\n"
     ]
    },
    {
     "name": "stderr",
     "output_type": "stream",
     "text": [
      "2025-06-17 09:15:58,196 - INFO - SVG for 4-YS0T saved.\n",
      "2025-06-17 09:15:58,255 - INFO - Processing image /data/4-YQVM_9ac33726c539459d10cd6f6c97a6c9c77b0eefd4545f9eb551fbe334a9b59ad7/Dataset_4-YQVM/data/asset/Image/Multimodal_1302_Multimodal_2728_Multimodal_11527_Right_Field_2.jpg : , trial 1, color channel grey, resize function imgResize_primary\n"
     ]
    },
    {
     "name": "stdout",
     "output_type": "stream",
     "text": [
      "1/1 [==============================] - 0s 20ms/step\n"
     ]
    },
    {
     "name": "stderr",
     "output_type": "stream",
     "text": [
      "2025-06-17 09:15:59,066 - INFO - SVG for 4-YS0W saved.\n",
      "2025-06-17 09:15:59,127 - INFO - Processing image /data/4-YQVM_9ac33726c539459d10cd6f6c97a6c9c77b0eefd4545f9eb551fbe334a9b59ad7/Dataset_4-YQVM/data/asset/Image/Multimodal_1245_Multimodal_2631_Multimodal_11431_Left_Field_2.jpg : , trial 1, color channel grey, resize function imgResize_primary\n"
     ]
    },
    {
     "name": "stdout",
     "output_type": "stream",
     "text": [
      "1/1 [==============================] - 0s 21ms/step\n"
     ]
    },
    {
     "name": "stderr",
     "output_type": "stream",
     "text": [
      "2025-06-17 09:15:59,853 - INFO - SVG for 4-YS0Y saved.\n",
      "2025-06-17 09:15:59,912 - INFO - Processing image /data/4-YQVM_9ac33726c539459d10cd6f6c97a6c9c77b0eefd4545f9eb551fbe334a9b59ad7/Dataset_4-YQVM/data/asset/Image/Multimodal_1246_Multimodal_2633_Multimodal_11433_Left_Field_2.jpg : , trial 1, color channel grey, resize function imgResize_primary\n"
     ]
    },
    {
     "name": "stdout",
     "output_type": "stream",
     "text": [
      "1/1 [==============================] - 0s 20ms/step\n"
     ]
    },
    {
     "name": "stderr",
     "output_type": "stream",
     "text": [
      "2025-06-17 09:16:00,607 - INFO - Processing image /data/4-YQVM_9ac33726c539459d10cd6f6c97a6c9c77b0eefd4545f9eb551fbe334a9b59ad7/Dataset_4-YQVM/data/asset/Image/Multimodal_1246_Multimodal_2633_Multimodal_11433_Left_Field_2.jpg : , trial 2, color channel green, resize function imgResize_primary\n"
     ]
    },
    {
     "name": "stdout",
     "output_type": "stream",
     "text": [
      "1/1 [==============================] - 0s 20ms/step\n"
     ]
    },
    {
     "name": "stderr",
     "output_type": "stream",
     "text": [
      "2025-06-17 09:16:01,361 - INFO - SVG for 4-YS10 saved.\n",
      "2025-06-17 09:16:01,427 - INFO - Processing image /data/4-YQVM_9ac33726c539459d10cd6f6c97a6c9c77b0eefd4545f9eb551fbe334a9b59ad7/Dataset_4-YQVM/data/asset/Image/Multimodal_1307_Multimodal_2738_Multimodal_11537_Right_Field_2.jpg : , trial 1, color channel grey, resize function imgResize_primary\n"
     ]
    },
    {
     "name": "stdout",
     "output_type": "stream",
     "text": [
      "1/1 [==============================] - 0s 20ms/step\n"
     ]
    },
    {
     "name": "stderr",
     "output_type": "stream",
     "text": [
      "2025-06-17 09:16:02,248 - INFO - SVG for 4-YS12 saved.\n",
      "2025-06-17 09:16:02,307 - INFO - Processing image /data/4-YQVM_9ac33726c539459d10cd6f6c97a6c9c77b0eefd4545f9eb551fbe334a9b59ad7/Dataset_4-YQVM/data/asset/Image/Multimodal_1296_Multimodal_2718_Multimodal_11517_Right_Field_2.jpg : , trial 1, color channel grey, resize function imgResize_primary\n"
     ]
    },
    {
     "name": "stdout",
     "output_type": "stream",
     "text": [
      "1/1 [==============================] - 0s 20ms/step\n"
     ]
    },
    {
     "name": "stderr",
     "output_type": "stream",
     "text": [
      "2025-06-17 09:16:03,112 - INFO - SVG for 4-YS14 saved.\n",
      "2025-06-17 09:16:03,170 - INFO - Processing image /data/4-YQVM_9ac33726c539459d10cd6f6c97a6c9c77b0eefd4545f9eb551fbe334a9b59ad7/Dataset_4-YQVM/data/asset/Image/Multimodal_1242_Multimodal_2625_Multimodal_11425_Left_Field_2.jpg : , trial 1, color channel grey, resize function imgResize_primary\n"
     ]
    },
    {
     "name": "stdout",
     "output_type": "stream",
     "text": [
      "1/1 [==============================] - 0s 20ms/step\n"
     ]
    },
    {
     "name": "stderr",
     "output_type": "stream",
     "text": [
      "2025-06-17 09:16:03,948 - INFO - SVG for 4-YS16 saved.\n",
      "2025-06-17 09:16:04,008 - INFO - Processing image /data/4-YQVM_9ac33726c539459d10cd6f6c97a6c9c77b0eefd4545f9eb551fbe334a9b59ad7/Dataset_4-YQVM/data/asset/Image/Multimodal_1243_Multimodal_2627_Multimodal_11426_Right_Field_2.jpg : , trial 1, color channel grey, resize function imgResize_primary\n"
     ]
    },
    {
     "name": "stdout",
     "output_type": "stream",
     "text": [
      "1/1 [==============================] - 0s 21ms/step\n"
     ]
    },
    {
     "name": "stderr",
     "output_type": "stream",
     "text": [
      "2025-06-17 09:16:04,672 - INFO - SVG for 4-YS18 saved.\n",
      "2025-06-17 09:16:04,730 - INFO - Processing image /data/4-YQVM_9ac33726c539459d10cd6f6c97a6c9c77b0eefd4545f9eb551fbe334a9b59ad7/Dataset_4-YQVM/data/asset/Image/Multimodal_1336_Multimodal_2790_Multimodal_11589_Right_Field_2.jpg : , trial 1, color channel grey, resize function imgResize_primary\n"
     ]
    },
    {
     "name": "stdout",
     "output_type": "stream",
     "text": [
      "1/1 [==============================] - 0s 20ms/step\n"
     ]
    },
    {
     "name": "stderr",
     "output_type": "stream",
     "text": [
      "2025-06-17 09:16:05,280 - INFO - Processing image /data/4-YQVM_9ac33726c539459d10cd6f6c97a6c9c77b0eefd4545f9eb551fbe334a9b59ad7/Dataset_4-YQVM/data/asset/Image/Multimodal_1336_Multimodal_2790_Multimodal_11589_Right_Field_2.jpg : , trial 2, color channel green, resize function imgResize_primary\n"
     ]
    },
    {
     "name": "stdout",
     "output_type": "stream",
     "text": [
      "1/1 [==============================] - 0s 20ms/step\n"
     ]
    },
    {
     "name": "stderr",
     "output_type": "stream",
     "text": [
      "2025-06-17 09:16:06,013 - INFO - Processing image /data/4-YQVM_9ac33726c539459d10cd6f6c97a6c9c77b0eefd4545f9eb551fbe334a9b59ad7/Dataset_4-YQVM/data/asset/Image/Multimodal_1336_Multimodal_2790_Multimodal_11589_Right_Field_2.jpg : , trial 3, color channel red, resize function imgResize_primary\n"
     ]
    },
    {
     "name": "stdout",
     "output_type": "stream",
     "text": [
      "1/1 [==============================] - 0s 20ms/step\n"
     ]
    },
    {
     "name": "stderr",
     "output_type": "stream",
     "text": [
      "2025-06-17 09:16:06,755 - INFO - SVG for 4-YS1A saved.\n",
      "2025-06-17 09:16:06,813 - INFO - Processing image /data/4-YQVM_9ac33726c539459d10cd6f6c97a6c9c77b0eefd4545f9eb551fbe334a9b59ad7/Dataset_4-YQVM/data/asset/Image/Multimodal_1333_Multimodal_2785_Multimodal_11585_Left_Field_2.jpg : , trial 1, color channel grey, resize function imgResize_primary\n"
     ]
    },
    {
     "name": "stdout",
     "output_type": "stream",
     "text": [
      "1/1 [==============================] - 0s 21ms/step\n"
     ]
    },
    {
     "name": "stderr",
     "output_type": "stream",
     "text": [
      "2025-06-17 09:16:07,593 - INFO - Processing image /data/4-YQVM_9ac33726c539459d10cd6f6c97a6c9c77b0eefd4545f9eb551fbe334a9b59ad7/Dataset_4-YQVM/data/asset/Image/Multimodal_1333_Multimodal_2785_Multimodal_11585_Left_Field_2.jpg : , trial 2, color channel green, resize function imgResize_primary\n"
     ]
    },
    {
     "name": "stdout",
     "output_type": "stream",
     "text": [
      "1/1 [==============================] - 0s 20ms/step\n"
     ]
    },
    {
     "name": "stderr",
     "output_type": "stream",
     "text": [
      "2025-06-17 09:16:08,276 - INFO - Processing image /data/4-YQVM_9ac33726c539459d10cd6f6c97a6c9c77b0eefd4545f9eb551fbe334a9b59ad7/Dataset_4-YQVM/data/asset/Image/Multimodal_1333_Multimodal_2785_Multimodal_11585_Left_Field_2.jpg : , trial 3, color channel red, resize function imgResize_primary\n"
     ]
    },
    {
     "name": "stdout",
     "output_type": "stream",
     "text": [
      "1/1 [==============================] - 0s 20ms/step\n"
     ]
    },
    {
     "name": "stderr",
     "output_type": "stream",
     "text": [
      "2025-06-17 09:16:09,188 - INFO - SVG for 4-YS1C saved.\n",
      "2025-06-17 09:16:09,249 - INFO - Processing image /data/4-YQVM_9ac33726c539459d10cd6f6c97a6c9c77b0eefd4545f9eb551fbe334a9b59ad7/Dataset_4-YQVM/data/asset/Image/Multimodal_1209_Multimodal_2565_Multimodal_11364_Right_Field_2.jpg : , trial 1, color channel grey, resize function imgResize_primary\n"
     ]
    },
    {
     "name": "stdout",
     "output_type": "stream",
     "text": [
      "1/1 [==============================] - 0s 20ms/step\n"
     ]
    },
    {
     "name": "stderr",
     "output_type": "stream",
     "text": [
      "2025-06-17 09:16:09,756 - INFO - SVG for 4-YS1E saved.\n",
      "2025-06-17 09:16:09,814 - INFO - Processing image /data/4-YQVM_9ac33726c539459d10cd6f6c97a6c9c77b0eefd4545f9eb551fbe334a9b59ad7/Dataset_4-YQVM/data/asset/Image/Multimodal_1254_Multimodal_2647_Multimodal_11446_Right_Field_2.jpg : , trial 1, color channel grey, resize function imgResize_primary\n"
     ]
    },
    {
     "name": "stdout",
     "output_type": "stream",
     "text": [
      "1/1 [==============================] - 0s 20ms/step\n"
     ]
    },
    {
     "name": "stderr",
     "output_type": "stream",
     "text": [
      "2025-06-17 09:16:10,633 - INFO - SVG for 4-YS1G saved.\n",
      "2025-06-17 09:16:10,693 - INFO - Processing image /data/4-YQVM_9ac33726c539459d10cd6f6c97a6c9c77b0eefd4545f9eb551fbe334a9b59ad7/Dataset_4-YQVM/data/asset/Image/Multimodal_1246_Multimodal_2633_Multimodal_11432_Right_Field_1.jpg : , trial 1, color channel grey, resize function imgResize_primary\n"
     ]
    },
    {
     "name": "stdout",
     "output_type": "stream",
     "text": [
      "1/1 [==============================] - 0s 21ms/step\n"
     ]
    },
    {
     "name": "stderr",
     "output_type": "stream",
     "text": [
      "2025-06-17 09:16:11,476 - INFO - SVG for 4-YS1J saved.\n",
      "2025-06-17 09:16:11,536 - INFO - Processing image /data/4-YQVM_9ac33726c539459d10cd6f6c97a6c9c77b0eefd4545f9eb551fbe334a9b59ad7/Dataset_4-YQVM/data/asset/Image/Multimodal_1230_Multimodal_2602_Multimodal_11401_Right_Field_2.jpg : , trial 1, color channel grey, resize function imgResize_primary\n"
     ]
    },
    {
     "name": "stdout",
     "output_type": "stream",
     "text": [
      "1/1 [==============================] - 0s 21ms/step\n"
     ]
    },
    {
     "name": "stderr",
     "output_type": "stream",
     "text": [
      "2025-06-17 09:16:12,387 - INFO - SVG for 4-YS1M saved.\n",
      "2025-06-17 09:16:12,446 - INFO - Processing image /data/4-YQVM_9ac33726c539459d10cd6f6c97a6c9c77b0eefd4545f9eb551fbe334a9b59ad7/Dataset_4-YQVM/data/asset/Image/Multimodal_1326_Multimodal_2772_Multimodal_11572_Left_Field_2.jpg : , trial 1, color channel grey, resize function imgResize_primary\n"
     ]
    },
    {
     "name": "stdout",
     "output_type": "stream",
     "text": [
      "1/1 [==============================] - 0s 20ms/step\n"
     ]
    },
    {
     "name": "stderr",
     "output_type": "stream",
     "text": [
      "2025-06-17 09:16:13,077 - INFO - SVG for 4-YS1P saved.\n",
      "2025-06-17 09:16:13,135 - INFO - Processing image /data/4-YQVM_9ac33726c539459d10cd6f6c97a6c9c77b0eefd4545f9eb551fbe334a9b59ad7/Dataset_4-YQVM/data/asset/Image/Multimodal_1207_Multimodal_2561_Multimodal_11360_Right_Field_2.jpg : , trial 1, color channel grey, resize function imgResize_primary\n"
     ]
    },
    {
     "name": "stdout",
     "output_type": "stream",
     "text": [
      "1/1 [==============================] - 0s 20ms/step\n"
     ]
    },
    {
     "name": "stderr",
     "output_type": "stream",
     "text": [
      "2025-06-17 09:16:13,930 - INFO - SVG for 4-YS1R saved.\n",
      "2025-06-17 09:16:13,988 - INFO - Processing image /data/4-YQVM_9ac33726c539459d10cd6f6c97a6c9c77b0eefd4545f9eb551fbe334a9b59ad7/Dataset_4-YQVM/data/asset/Image/Multimodal_1336_Multimodal_2790_Multimodal_11590_Left_Field_2.jpg : , trial 1, color channel grey, resize function imgResize_primary\n"
     ]
    },
    {
     "name": "stdout",
     "output_type": "stream",
     "text": [
      "1/1 [==============================] - 0s 20ms/step\n"
     ]
    },
    {
     "name": "stderr",
     "output_type": "stream",
     "text": [
      "2025-06-17 09:16:14,880 - INFO - SVG for 4-YS1T saved.\n",
      "2025-06-17 09:16:14,940 - INFO - Processing image /data/4-YQVM_9ac33726c539459d10cd6f6c97a6c9c77b0eefd4545f9eb551fbe334a9b59ad7/Dataset_4-YQVM/data/asset/Image/Multimodal_1325_Multimodal_2770_Multimodal_11570_Left_Field_2.jpg : , trial 1, color channel grey, resize function imgResize_primary\n"
     ]
    },
    {
     "name": "stdout",
     "output_type": "stream",
     "text": [
      "1/1 [==============================] - 0s 20ms/step\n"
     ]
    },
    {
     "name": "stderr",
     "output_type": "stream",
     "text": [
      "2025-06-17 09:16:15,775 - INFO - SVG for 4-YS1W saved.\n",
      "2025-06-17 09:16:15,834 - INFO - Processing image /data/4-YQVM_9ac33726c539459d10cd6f6c97a6c9c77b0eefd4545f9eb551fbe334a9b59ad7/Dataset_4-YQVM/data/asset/Image/Multimodal_1314_Multimodal_2748_Multimodal_11548_Left_Field_2.jpg : , trial 1, color channel grey, resize function imgResize_primary\n"
     ]
    },
    {
     "name": "stdout",
     "output_type": "stream",
     "text": [
      "1/1 [==============================] - 0s 20ms/step\n"
     ]
    },
    {
     "name": "stderr",
     "output_type": "stream",
     "text": [
      "2025-06-17 09:16:16,635 - INFO - SVG for 4-YS1Y saved.\n",
      "2025-06-17 09:16:16,693 - INFO - Processing image /data/4-YQVM_9ac33726c539459d10cd6f6c97a6c9c77b0eefd4545f9eb551fbe334a9b59ad7/Dataset_4-YQVM/data/asset/Image/Multimodal_1221_Multimodal_2586_Multimodal_11386_Left_Field_2.jpg : , trial 1, color channel grey, resize function imgResize_primary\n"
     ]
    },
    {
     "name": "stdout",
     "output_type": "stream",
     "text": [
      "1/1 [==============================] - 0s 20ms/step\n"
     ]
    },
    {
     "name": "stderr",
     "output_type": "stream",
     "text": [
      "2025-06-17 09:16:17,286 - INFO - SVG for 4-YS20 saved.\n",
      "2025-06-17 09:16:17,342 - INFO - Processing image /data/4-YQVM_9ac33726c539459d10cd6f6c97a6c9c77b0eefd4545f9eb551fbe334a9b59ad7/Dataset_4-YQVM/data/asset/Image/Multimodal_1202_Multimodal_2551_Multimodal_11351_Left_Field_2.jpg : , trial 1, color channel grey, resize function imgResize_primary\n"
     ]
    },
    {
     "name": "stdout",
     "output_type": "stream",
     "text": [
      "1/1 [==============================] - 0s 20ms/step\n"
     ]
    },
    {
     "name": "stderr",
     "output_type": "stream",
     "text": [
      "2025-06-17 09:16:17,929 - INFO - SVG for 4-YS22 saved.\n",
      "2025-06-17 09:16:17,989 - INFO - Processing image /data/4-YQVM_9ac33726c539459d10cd6f6c97a6c9c77b0eefd4545f9eb551fbe334a9b59ad7/Dataset_4-YQVM/data/asset/Image/Multimodal_1328_Multimodal_2776_Multimodal_11576_Left_Field_2.jpg : , trial 1, color channel grey, resize function imgResize_primary\n"
     ]
    },
    {
     "name": "stdout",
     "output_type": "stream",
     "text": [
      "1/1 [==============================] - 0s 20ms/step\n"
     ]
    },
    {
     "name": "stderr",
     "output_type": "stream",
     "text": [
      "2025-06-17 09:16:18,645 - INFO - SVG for 4-YS24 saved.\n",
      "2025-06-17 09:16:18,702 - INFO - Processing image /data/4-YQVM_9ac33726c539459d10cd6f6c97a6c9c77b0eefd4545f9eb551fbe334a9b59ad7/Dataset_4-YQVM/data/asset/Image/Multimodal_1274_Multimodal_2679_Multimodal_11478_Right_Field_1.jpg : , trial 1, color channel grey, resize function imgResize_primary\n"
     ]
    },
    {
     "name": "stdout",
     "output_type": "stream",
     "text": [
      "1/1 [==============================] - 0s 20ms/step\n"
     ]
    },
    {
     "name": "stderr",
     "output_type": "stream",
     "text": [
      "2025-06-17 09:16:19,316 - INFO - Processing image /data/4-YQVM_9ac33726c539459d10cd6f6c97a6c9c77b0eefd4545f9eb551fbe334a9b59ad7/Dataset_4-YQVM/data/asset/Image/Multimodal_1274_Multimodal_2679_Multimodal_11478_Right_Field_1.jpg : , trial 2, color channel green, resize function imgResize_primary\n"
     ]
    },
    {
     "name": "stdout",
     "output_type": "stream",
     "text": [
      "1/1 [==============================] - 0s 20ms/step\n"
     ]
    },
    {
     "name": "stderr",
     "output_type": "stream",
     "text": [
      "2025-06-17 09:16:19,855 - INFO - Processing image /data/4-YQVM_9ac33726c539459d10cd6f6c97a6c9c77b0eefd4545f9eb551fbe334a9b59ad7/Dataset_4-YQVM/data/asset/Image/Multimodal_1274_Multimodal_2679_Multimodal_11478_Right_Field_1.jpg : , trial 3, color channel red, resize function imgResize_primary\n"
     ]
    },
    {
     "name": "stdout",
     "output_type": "stream",
     "text": [
      "1/1 [==============================] - 0s 21ms/step\n"
     ]
    },
    {
     "name": "stderr",
     "output_type": "stream",
     "text": [
      "2025-06-17 09:16:20,354 - INFO - Processing image /data/4-YQVM_9ac33726c539459d10cd6f6c97a6c9c77b0eefd4545f9eb551fbe334a9b59ad7/Dataset_4-YQVM/data/asset/Image/Multimodal_1274_Multimodal_2679_Multimodal_11478_Right_Field_1.jpg : , trial 4, color channel blue, resize function imgResize_primary\n"
     ]
    },
    {
     "name": "stdout",
     "output_type": "stream",
     "text": [
      "1/1 [==============================] - 0s 20ms/step\n"
     ]
    },
    {
     "name": "stderr",
     "output_type": "stream",
     "text": [
      "2025-06-17 09:16:20,855 - INFO - SVG for 4-YS26 saved.\n",
      "2025-06-17 09:16:20,916 - INFO - Processing image /data/4-YQVM_9ac33726c539459d10cd6f6c97a6c9c77b0eefd4545f9eb551fbe334a9b59ad7/Dataset_4-YQVM/data/asset/Image/Multimodal_1223_Multimodal_2590_Multimodal_11390_Left_Field_2.jpg : , trial 1, color channel grey, resize function imgResize_primary\n"
     ]
    },
    {
     "name": "stdout",
     "output_type": "stream",
     "text": [
      "1/1 [==============================] - 0s 20ms/step\n"
     ]
    },
    {
     "name": "stderr",
     "output_type": "stream",
     "text": [
      "2025-06-17 09:16:21,489 - INFO - Processing image /data/4-YQVM_9ac33726c539459d10cd6f6c97a6c9c77b0eefd4545f9eb551fbe334a9b59ad7/Dataset_4-YQVM/data/asset/Image/Multimodal_1223_Multimodal_2590_Multimodal_11390_Left_Field_2.jpg : , trial 2, color channel green, resize function imgResize_primary\n"
     ]
    },
    {
     "name": "stdout",
     "output_type": "stream",
     "text": [
      "1/1 [==============================] - 0s 20ms/step\n"
     ]
    },
    {
     "name": "stderr",
     "output_type": "stream",
     "text": [
      "2025-06-17 09:16:22,090 - INFO - Processing image /data/4-YQVM_9ac33726c539459d10cd6f6c97a6c9c77b0eefd4545f9eb551fbe334a9b59ad7/Dataset_4-YQVM/data/asset/Image/Multimodal_1223_Multimodal_2590_Multimodal_11390_Left_Field_2.jpg : , trial 3, color channel red, resize function imgResize_primary\n"
     ]
    },
    {
     "name": "stdout",
     "output_type": "stream",
     "text": [
      "1/1 [==============================] - 0s 20ms/step\n"
     ]
    },
    {
     "name": "stderr",
     "output_type": "stream",
     "text": [
      "2025-06-17 09:16:22,788 - INFO - SVG for 4-YS28 saved.\n",
      "2025-06-17 09:16:22,847 - INFO - Processing image /data/4-YQVM_9ac33726c539459d10cd6f6c97a6c9c77b0eefd4545f9eb551fbe334a9b59ad7/Dataset_4-YQVM/data/asset/Image/Multimodal_1219_Multimodal_2583_Multimodal_11382_Right_Field_2.jpg : , trial 1, color channel grey, resize function imgResize_primary\n"
     ]
    },
    {
     "name": "stdout",
     "output_type": "stream",
     "text": [
      "1/1 [==============================] - 0s 20ms/step\n"
     ]
    },
    {
     "name": "stderr",
     "output_type": "stream",
     "text": [
      "2025-06-17 09:16:23,441 - INFO - SVG for 4-YS2A saved.\n",
      "2025-06-17 09:16:23,499 - INFO - Processing image /data/4-YQVM_9ac33726c539459d10cd6f6c97a6c9c77b0eefd4545f9eb551fbe334a9b59ad7/Dataset_4-YQVM/data/asset/Image/Multimodal_1282_Multimodal_2691_Multimodal_11490_Right_Field_2.jpg : , trial 1, color channel grey, resize function imgResize_primary\n"
     ]
    },
    {
     "name": "stdout",
     "output_type": "stream",
     "text": [
      "1/1 [==============================] - 0s 20ms/step\n"
     ]
    },
    {
     "name": "stderr",
     "output_type": "stream",
     "text": [
      "2025-06-17 09:16:23,964 - INFO - SVG for 4-YS2C saved.\n",
      "2025-06-17 09:16:24,024 - INFO - Processing image /data/4-YQVM_9ac33726c539459d10cd6f6c97a6c9c77b0eefd4545f9eb551fbe334a9b59ad7/Dataset_4-YQVM/data/asset/Image/Multimodal_1244_Multimodal_2629_Multimodal_11428_Right_Field_2.jpg : , trial 1, color channel grey, resize function imgResize_primary\n"
     ]
    },
    {
     "name": "stdout",
     "output_type": "stream",
     "text": [
      "1/1 [==============================] - 0s 21ms/step\n"
     ]
    },
    {
     "name": "stderr",
     "output_type": "stream",
     "text": [
      "2025-06-17 09:16:24,629 - INFO - SVG for 4-YS2E saved.\n",
      "2025-06-17 09:16:24,689 - INFO - Processing image /data/4-YQVM_9ac33726c539459d10cd6f6c97a6c9c77b0eefd4545f9eb551fbe334a9b59ad7/Dataset_4-YQVM/data/asset/Image/Multimodal_1205_Multimodal_2557_Multimodal_11357_Left_Field_2.jpg : , trial 1, color channel grey, resize function imgResize_primary\n"
     ]
    },
    {
     "name": "stdout",
     "output_type": "stream",
     "text": [
      "1/1 [==============================] - 0s 21ms/step\n"
     ]
    },
    {
     "name": "stderr",
     "output_type": "stream",
     "text": [
      "2025-06-17 09:16:25,224 - INFO - Processing image /data/4-YQVM_9ac33726c539459d10cd6f6c97a6c9c77b0eefd4545f9eb551fbe334a9b59ad7/Dataset_4-YQVM/data/asset/Image/Multimodal_1205_Multimodal_2557_Multimodal_11357_Left_Field_2.jpg : , trial 2, color channel green, resize function imgResize_primary\n"
     ]
    },
    {
     "name": "stdout",
     "output_type": "stream",
     "text": [
      "1/1 [==============================] - 0s 20ms/step\n"
     ]
    },
    {
     "name": "stderr",
     "output_type": "stream",
     "text": [
      "2025-06-17 09:16:25,790 - INFO - Processing image /data/4-YQVM_9ac33726c539459d10cd6f6c97a6c9c77b0eefd4545f9eb551fbe334a9b59ad7/Dataset_4-YQVM/data/asset/Image/Multimodal_1205_Multimodal_2557_Multimodal_11357_Left_Field_2.jpg : , trial 3, color channel red, resize function imgResize_primary\n"
     ]
    },
    {
     "name": "stdout",
     "output_type": "stream",
     "text": [
      "1/1 [==============================] - 0s 20ms/step\n"
     ]
    },
    {
     "name": "stderr",
     "output_type": "stream",
     "text": [
      "2025-06-17 09:16:26,328 - INFO - Processing image /data/4-YQVM_9ac33726c539459d10cd6f6c97a6c9c77b0eefd4545f9eb551fbe334a9b59ad7/Dataset_4-YQVM/data/asset/Image/Multimodal_1205_Multimodal_2557_Multimodal_11357_Left_Field_2.jpg : , trial 4, color channel blue, resize function imgResize_primary\n"
     ]
    },
    {
     "name": "stdout",
     "output_type": "stream",
     "text": [
      "1/1 [==============================] - 0s 20ms/step\n"
     ]
    },
    {
     "name": "stderr",
     "output_type": "stream",
     "text": [
      "2025-06-17 09:16:26,897 - INFO - Processing image /data/4-YQVM_9ac33726c539459d10cd6f6c97a6c9c77b0eefd4545f9eb551fbe334a9b59ad7/Dataset_4-YQVM/data/asset/Image/Multimodal_1205_Multimodal_2557_Multimodal_11357_Left_Field_2.jpg : , trial 1, color channel grey, resize function imgResize_secondary\n"
     ]
    },
    {
     "name": "stdout",
     "output_type": "stream",
     "text": [
      "1/1 [==============================] - 0s 20ms/step\n"
     ]
    },
    {
     "name": "stderr",
     "output_type": "stream",
     "text": [
      "2025-06-17 09:16:27,939 - INFO - Processing image /data/4-YQVM_9ac33726c539459d10cd6f6c97a6c9c77b0eefd4545f9eb551fbe334a9b59ad7/Dataset_4-YQVM/data/asset/Image/Multimodal_1205_Multimodal_2557_Multimodal_11357_Left_Field_2.jpg : , trial 2, color channel green, resize function imgResize_secondary\n"
     ]
    },
    {
     "name": "stdout",
     "output_type": "stream",
     "text": [
      "1/1 [==============================] - 0s 20ms/step\n"
     ]
    },
    {
     "name": "stderr",
     "output_type": "stream",
     "text": [
      "2025-06-17 09:16:28,758 - INFO - Processing image /data/4-YQVM_9ac33726c539459d10cd6f6c97a6c9c77b0eefd4545f9eb551fbe334a9b59ad7/Dataset_4-YQVM/data/asset/Image/Multimodal_1205_Multimodal_2557_Multimodal_11357_Left_Field_2.jpg : , trial 3, color channel red, resize function imgResize_secondary\n"
     ]
    },
    {
     "name": "stdout",
     "output_type": "stream",
     "text": [
      "1/1 [==============================] - 0s 20ms/step\n"
     ]
    },
    {
     "name": "stderr",
     "output_type": "stream",
     "text": [
      "2025-06-17 09:16:29,783 - INFO - Processing image /data/4-YQVM_9ac33726c539459d10cd6f6c97a6c9c77b0eefd4545f9eb551fbe334a9b59ad7/Dataset_4-YQVM/data/asset/Image/Multimodal_1205_Multimodal_2557_Multimodal_11357_Left_Field_2.jpg : , trial 4, color channel blue, resize function imgResize_secondary\n"
     ]
    },
    {
     "name": "stdout",
     "output_type": "stream",
     "text": [
      "1/1 [==============================] - 0s 20ms/step\n"
     ]
    },
    {
     "name": "stderr",
     "output_type": "stream",
     "text": [
      "2025-06-17 09:16:30,615 - INFO - Processing image /data/4-YQVM_9ac33726c539459d10cd6f6c97a6c9c77b0eefd4545f9eb551fbe334a9b59ad7/Dataset_4-YQVM/data/asset/Image/Multimodal_1205_Multimodal_2557_Multimodal_11357_Left_Field_2.jpg : , trial 1, color channel grey, resize function imgResize_primary\n"
     ]
    },
    {
     "name": "stdout",
     "output_type": "stream",
     "text": [
      "1/1 [==============================] - 0s 20ms/step\n"
     ]
    },
    {
     "name": "stderr",
     "output_type": "stream",
     "text": [
      "2025-06-17 09:16:31,214 - INFO - Processing image /data/4-YQVM_9ac33726c539459d10cd6f6c97a6c9c77b0eefd4545f9eb551fbe334a9b59ad7/Dataset_4-YQVM/data/asset/Image/Multimodal_1205_Multimodal_2557_Multimodal_11357_Left_Field_2.jpg : , trial 2, color channel green, resize function imgResize_primary\n"
     ]
    },
    {
     "name": "stdout",
     "output_type": "stream",
     "text": [
      "1/1 [==============================] - 0s 20ms/step\n"
     ]
    },
    {
     "name": "stderr",
     "output_type": "stream",
     "text": [
      "2025-06-17 09:16:31,768 - INFO - Processing image /data/4-YQVM_9ac33726c539459d10cd6f6c97a6c9c77b0eefd4545f9eb551fbe334a9b59ad7/Dataset_4-YQVM/data/asset/Image/Multimodal_1205_Multimodal_2557_Multimodal_11357_Left_Field_2.jpg : , trial 3, color channel red, resize function imgResize_primary\n"
     ]
    },
    {
     "name": "stdout",
     "output_type": "stream",
     "text": [
      "1/1 [==============================] - 0s 20ms/step\n"
     ]
    },
    {
     "name": "stderr",
     "output_type": "stream",
     "text": [
      "2025-06-17 09:16:32,309 - INFO - Processing image /data/4-YQVM_9ac33726c539459d10cd6f6c97a6c9c77b0eefd4545f9eb551fbe334a9b59ad7/Dataset_4-YQVM/data/asset/Image/Multimodal_1205_Multimodal_2557_Multimodal_11357_Left_Field_2.jpg : , trial 4, color channel blue, resize function imgResize_primary\n"
     ]
    },
    {
     "name": "stdout",
     "output_type": "stream",
     "text": [
      "1/1 [==============================] - 0s 20ms/step\n"
     ]
    },
    {
     "name": "stderr",
     "output_type": "stream",
     "text": [
      "2025-06-17 09:16:32,928 - INFO - Processing image /data/4-YQVM_9ac33726c539459d10cd6f6c97a6c9c77b0eefd4545f9eb551fbe334a9b59ad7/Dataset_4-YQVM/data/asset/Image/Multimodal_1205_Multimodal_2557_Multimodal_11357_Left_Field_2.jpg : , trial 1, color channel grey, resize function imgResize_secondary\n"
     ]
    },
    {
     "name": "stdout",
     "output_type": "stream",
     "text": [
      "1/1 [==============================] - 0s 20ms/step\n"
     ]
    },
    {
     "name": "stderr",
     "output_type": "stream",
     "text": [
      "2025-06-17 09:16:33,772 - INFO - Processing image /data/4-YQVM_9ac33726c539459d10cd6f6c97a6c9c77b0eefd4545f9eb551fbe334a9b59ad7/Dataset_4-YQVM/data/asset/Image/Multimodal_1205_Multimodal_2557_Multimodal_11357_Left_Field_2.jpg : , trial 2, color channel green, resize function imgResize_secondary\n"
     ]
    },
    {
     "name": "stdout",
     "output_type": "stream",
     "text": [
      "1/1 [==============================] - 0s 20ms/step\n"
     ]
    },
    {
     "name": "stderr",
     "output_type": "stream",
     "text": [
      "2025-06-17 09:16:34,671 - INFO - Processing image /data/4-YQVM_9ac33726c539459d10cd6f6c97a6c9c77b0eefd4545f9eb551fbe334a9b59ad7/Dataset_4-YQVM/data/asset/Image/Multimodal_1205_Multimodal_2557_Multimodal_11357_Left_Field_2.jpg : , trial 3, color channel red, resize function imgResize_secondary\n"
     ]
    },
    {
     "name": "stdout",
     "output_type": "stream",
     "text": [
      "1/1 [==============================] - 0s 20ms/step\n"
     ]
    },
    {
     "name": "stderr",
     "output_type": "stream",
     "text": [
      "2025-06-17 09:16:35,576 - INFO - Processing image /data/4-YQVM_9ac33726c539459d10cd6f6c97a6c9c77b0eefd4545f9eb551fbe334a9b59ad7/Dataset_4-YQVM/data/asset/Image/Multimodal_1205_Multimodal_2557_Multimodal_11357_Left_Field_2.jpg : , trial 4, color channel blue, resize function imgResize_secondary\n"
     ]
    },
    {
     "name": "stdout",
     "output_type": "stream",
     "text": [
      "1/1 [==============================] - 0s 20ms/step\n"
     ]
    },
    {
     "name": "stderr",
     "output_type": "stream",
     "text": [
      "2025-06-17 09:16:36,610 - INFO - Processing image /data/4-YQVM_9ac33726c539459d10cd6f6c97a6c9c77b0eefd4545f9eb551fbe334a9b59ad7/Dataset_4-YQVM/data/asset/Image/Multimodal_1205_Multimodal_2557_Multimodal_11357_Left_Field_2.jpg : , trial 1, color channel grey, resize function imgResize_primary\n"
     ]
    },
    {
     "name": "stdout",
     "output_type": "stream",
     "text": [
      "1/1 [==============================] - 0s 20ms/step\n"
     ]
    },
    {
     "name": "stderr",
     "output_type": "stream",
     "text": [
      "2025-06-17 09:16:37,175 - INFO - Processing image /data/4-YQVM_9ac33726c539459d10cd6f6c97a6c9c77b0eefd4545f9eb551fbe334a9b59ad7/Dataset_4-YQVM/data/asset/Image/Multimodal_1205_Multimodal_2557_Multimodal_11357_Left_Field_2.jpg : , trial 2, color channel green, resize function imgResize_primary\n"
     ]
    },
    {
     "name": "stdout",
     "output_type": "stream",
     "text": [
      "1/1 [==============================] - 0s 21ms/step\n"
     ]
    },
    {
     "name": "stderr",
     "output_type": "stream",
     "text": [
      "2025-06-17 09:16:37,824 - INFO - Processing image /data/4-YQVM_9ac33726c539459d10cd6f6c97a6c9c77b0eefd4545f9eb551fbe334a9b59ad7/Dataset_4-YQVM/data/asset/Image/Multimodal_1205_Multimodal_2557_Multimodal_11357_Left_Field_2.jpg : , trial 3, color channel red, resize function imgResize_primary\n"
     ]
    },
    {
     "name": "stdout",
     "output_type": "stream",
     "text": [
      "1/1 [==============================] - 0s 20ms/step\n"
     ]
    },
    {
     "name": "stderr",
     "output_type": "stream",
     "text": [
      "2025-06-17 09:16:38,428 - INFO - Processing image /data/4-YQVM_9ac33726c539459d10cd6f6c97a6c9c77b0eefd4545f9eb551fbe334a9b59ad7/Dataset_4-YQVM/data/asset/Image/Multimodal_1205_Multimodal_2557_Multimodal_11357_Left_Field_2.jpg : , trial 4, color channel blue, resize function imgResize_primary\n"
     ]
    },
    {
     "name": "stdout",
     "output_type": "stream",
     "text": [
      "1/1 [==============================] - 0s 20ms/step\n"
     ]
    },
    {
     "name": "stderr",
     "output_type": "stream",
     "text": [
      "2025-06-17 09:16:39,057 - INFO - Processing image /data/4-YQVM_9ac33726c539459d10cd6f6c97a6c9c77b0eefd4545f9eb551fbe334a9b59ad7/Dataset_4-YQVM/data/asset/Image/Multimodal_1205_Multimodal_2557_Multimodal_11357_Left_Field_2.jpg : , trial 1, color channel grey, resize function imgResize_secondary\n"
     ]
    },
    {
     "name": "stdout",
     "output_type": "stream",
     "text": [
      "1/1 [==============================] - 0s 20ms/step\n"
     ]
    },
    {
     "name": "stderr",
     "output_type": "stream",
     "text": [
      "2025-06-17 09:16:39,938 - INFO - Processing image /data/4-YQVM_9ac33726c539459d10cd6f6c97a6c9c77b0eefd4545f9eb551fbe334a9b59ad7/Dataset_4-YQVM/data/asset/Image/Multimodal_1205_Multimodal_2557_Multimodal_11357_Left_Field_2.jpg : , trial 2, color channel green, resize function imgResize_secondary\n"
     ]
    },
    {
     "name": "stdout",
     "output_type": "stream",
     "text": [
      "1/1 [==============================] - 0s 20ms/step\n"
     ]
    },
    {
     "name": "stderr",
     "output_type": "stream",
     "text": [
      "2025-06-17 09:16:40,710 - INFO - Processing image /data/4-YQVM_9ac33726c539459d10cd6f6c97a6c9c77b0eefd4545f9eb551fbe334a9b59ad7/Dataset_4-YQVM/data/asset/Image/Multimodal_1205_Multimodal_2557_Multimodal_11357_Left_Field_2.jpg : , trial 3, color channel red, resize function imgResize_secondary\n"
     ]
    },
    {
     "name": "stdout",
     "output_type": "stream",
     "text": [
      "1/1 [==============================] - 0s 20ms/step\n"
     ]
    },
    {
     "name": "stderr",
     "output_type": "stream",
     "text": [
      "2025-06-17 09:16:41,724 - INFO - Processing image /data/4-YQVM_9ac33726c539459d10cd6f6c97a6c9c77b0eefd4545f9eb551fbe334a9b59ad7/Dataset_4-YQVM/data/asset/Image/Multimodal_1205_Multimodal_2557_Multimodal_11357_Left_Field_2.jpg : , trial 4, color channel blue, resize function imgResize_secondary\n"
     ]
    },
    {
     "name": "stdout",
     "output_type": "stream",
     "text": [
      "1/1 [==============================] - 0s 20ms/step\n"
     ]
    },
    {
     "name": "stderr",
     "output_type": "stream",
     "text": [
      "2025-06-17 09:16:42,614 - INFO - Processing image /data/4-YQVM_9ac33726c539459d10cd6f6c97a6c9c77b0eefd4545f9eb551fbe334a9b59ad7/Dataset_4-YQVM/data/asset/Image/Multimodal_1205_Multimodal_2557_Multimodal_11357_Left_Field_2.jpg : , trial 1, color channel grey, resize function imgResize_primary\n"
     ]
    },
    {
     "name": "stdout",
     "output_type": "stream",
     "text": [
      "1/1 [==============================] - 0s 20ms/step\n"
     ]
    },
    {
     "name": "stderr",
     "output_type": "stream",
     "text": [
      "2025-06-17 09:16:43,181 - INFO - Processing image /data/4-YQVM_9ac33726c539459d10cd6f6c97a6c9c77b0eefd4545f9eb551fbe334a9b59ad7/Dataset_4-YQVM/data/asset/Image/Multimodal_1205_Multimodal_2557_Multimodal_11357_Left_Field_2.jpg : , trial 2, color channel green, resize function imgResize_primary\n"
     ]
    },
    {
     "name": "stdout",
     "output_type": "stream",
     "text": [
      "1/1 [==============================] - 0s 21ms/step\n"
     ]
    },
    {
     "name": "stderr",
     "output_type": "stream",
     "text": [
      "2025-06-17 09:16:43,802 - INFO - Processing image /data/4-YQVM_9ac33726c539459d10cd6f6c97a6c9c77b0eefd4545f9eb551fbe334a9b59ad7/Dataset_4-YQVM/data/asset/Image/Multimodal_1205_Multimodal_2557_Multimodal_11357_Left_Field_2.jpg : , trial 3, color channel red, resize function imgResize_primary\n"
     ]
    },
    {
     "name": "stdout",
     "output_type": "stream",
     "text": [
      "1/1 [==============================] - 0s 20ms/step\n"
     ]
    },
    {
     "name": "stderr",
     "output_type": "stream",
     "text": [
      "2025-06-17 09:16:44,400 - INFO - Processing image /data/4-YQVM_9ac33726c539459d10cd6f6c97a6c9c77b0eefd4545f9eb551fbe334a9b59ad7/Dataset_4-YQVM/data/asset/Image/Multimodal_1205_Multimodal_2557_Multimodal_11357_Left_Field_2.jpg : , trial 4, color channel blue, resize function imgResize_primary\n"
     ]
    },
    {
     "name": "stdout",
     "output_type": "stream",
     "text": [
      "1/1 [==============================] - 0s 20ms/step\n"
     ]
    },
    {
     "name": "stderr",
     "output_type": "stream",
     "text": [
      "2025-06-17 09:16:45,004 - INFO - Processing image /data/4-YQVM_9ac33726c539459d10cd6f6c97a6c9c77b0eefd4545f9eb551fbe334a9b59ad7/Dataset_4-YQVM/data/asset/Image/Multimodal_1205_Multimodal_2557_Multimodal_11357_Left_Field_2.jpg : , trial 1, color channel grey, resize function imgResize_secondary\n"
     ]
    },
    {
     "name": "stdout",
     "output_type": "stream",
     "text": [
      "1/1 [==============================] - 0s 21ms/step\n"
     ]
    },
    {
     "name": "stderr",
     "output_type": "stream",
     "text": [
      "2025-06-17 09:16:45,913 - INFO - Processing image /data/4-YQVM_9ac33726c539459d10cd6f6c97a6c9c77b0eefd4545f9eb551fbe334a9b59ad7/Dataset_4-YQVM/data/asset/Image/Multimodal_1205_Multimodal_2557_Multimodal_11357_Left_Field_2.jpg : , trial 2, color channel green, resize function imgResize_secondary\n"
     ]
    },
    {
     "name": "stdout",
     "output_type": "stream",
     "text": [
      "1/1 [==============================] - 0s 20ms/step\n"
     ]
    },
    {
     "name": "stderr",
     "output_type": "stream",
     "text": [
      "2025-06-17 09:16:46,793 - INFO - Processing image /data/4-YQVM_9ac33726c539459d10cd6f6c97a6c9c77b0eefd4545f9eb551fbe334a9b59ad7/Dataset_4-YQVM/data/asset/Image/Multimodal_1205_Multimodal_2557_Multimodal_11357_Left_Field_2.jpg : , trial 3, color channel red, resize function imgResize_secondary\n"
     ]
    },
    {
     "name": "stdout",
     "output_type": "stream",
     "text": [
      "1/1 [==============================] - 0s 21ms/step\n"
     ]
    },
    {
     "name": "stderr",
     "output_type": "stream",
     "text": [
      "2025-06-17 09:16:47,756 - INFO - Processing image /data/4-YQVM_9ac33726c539459d10cd6f6c97a6c9c77b0eefd4545f9eb551fbe334a9b59ad7/Dataset_4-YQVM/data/asset/Image/Multimodal_1205_Multimodal_2557_Multimodal_11357_Left_Field_2.jpg : , trial 4, color channel blue, resize function imgResize_secondary\n"
     ]
    },
    {
     "name": "stdout",
     "output_type": "stream",
     "text": [
      "1/1 [==============================] - 0s 20ms/step\n"
     ]
    },
    {
     "name": "stderr",
     "output_type": "stream",
     "text": [
      "2025-06-17 09:16:48,773 - INFO - Processing image /data/4-YQVM_9ac33726c539459d10cd6f6c97a6c9c77b0eefd4545f9eb551fbe334a9b59ad7/Dataset_4-YQVM/data/asset/Image/Multimodal_1205_Multimodal_2557_Multimodal_11357_Left_Field_2.jpg : , trial 1, color channel grey, resize function imgResize_primary\n"
     ]
    },
    {
     "name": "stdout",
     "output_type": "stream",
     "text": [
      "1/1 [==============================] - 0s 20ms/step\n"
     ]
    },
    {
     "name": "stderr",
     "output_type": "stream",
     "text": [
      "2025-06-17 09:16:49,393 - INFO - Processing image /data/4-YQVM_9ac33726c539459d10cd6f6c97a6c9c77b0eefd4545f9eb551fbe334a9b59ad7/Dataset_4-YQVM/data/asset/Image/Multimodal_1205_Multimodal_2557_Multimodal_11357_Left_Field_2.jpg : , trial 2, color channel green, resize function imgResize_primary\n"
     ]
    },
    {
     "name": "stdout",
     "output_type": "stream",
     "text": [
      "1/1 [==============================] - 0s 20ms/step\n"
     ]
    },
    {
     "name": "stderr",
     "output_type": "stream",
     "text": [
      "2025-06-17 09:16:50,052 - INFO - Processing image /data/4-YQVM_9ac33726c539459d10cd6f6c97a6c9c77b0eefd4545f9eb551fbe334a9b59ad7/Dataset_4-YQVM/data/asset/Image/Multimodal_1205_Multimodal_2557_Multimodal_11357_Left_Field_2.jpg : , trial 3, color channel red, resize function imgResize_primary\n"
     ]
    },
    {
     "name": "stdout",
     "output_type": "stream",
     "text": [
      "1/1 [==============================] - 0s 21ms/step\n"
     ]
    },
    {
     "name": "stderr",
     "output_type": "stream",
     "text": [
      "2025-06-17 09:16:50,706 - INFO - Processing image /data/4-YQVM_9ac33726c539459d10cd6f6c97a6c9c77b0eefd4545f9eb551fbe334a9b59ad7/Dataset_4-YQVM/data/asset/Image/Multimodal_1205_Multimodal_2557_Multimodal_11357_Left_Field_2.jpg : , trial 4, color channel blue, resize function imgResize_primary\n"
     ]
    },
    {
     "name": "stdout",
     "output_type": "stream",
     "text": [
      "1/1 [==============================] - 0s 20ms/step\n"
     ]
    },
    {
     "name": "stderr",
     "output_type": "stream",
     "text": [
      "2025-06-17 09:16:51,354 - INFO - Processing image /data/4-YQVM_9ac33726c539459d10cd6f6c97a6c9c77b0eefd4545f9eb551fbe334a9b59ad7/Dataset_4-YQVM/data/asset/Image/Multimodal_1205_Multimodal_2557_Multimodal_11357_Left_Field_2.jpg : , trial 1, color channel grey, resize function imgResize_secondary\n"
     ]
    },
    {
     "name": "stdout",
     "output_type": "stream",
     "text": [
      "1/1 [==============================] - 0s 20ms/step\n"
     ]
    },
    {
     "name": "stderr",
     "output_type": "stream",
     "text": [
      "2025-06-17 09:16:52,136 - INFO - Processing image /data/4-YQVM_9ac33726c539459d10cd6f6c97a6c9c77b0eefd4545f9eb551fbe334a9b59ad7/Dataset_4-YQVM/data/asset/Image/Multimodal_1205_Multimodal_2557_Multimodal_11357_Left_Field_2.jpg : , trial 2, color channel green, resize function imgResize_secondary\n"
     ]
    },
    {
     "name": "stdout",
     "output_type": "stream",
     "text": [
      "1/1 [==============================] - 0s 20ms/step\n"
     ]
    },
    {
     "name": "stderr",
     "output_type": "stream",
     "text": [
      "2025-06-17 09:16:53,033 - INFO - Processing image /data/4-YQVM_9ac33726c539459d10cd6f6c97a6c9c77b0eefd4545f9eb551fbe334a9b59ad7/Dataset_4-YQVM/data/asset/Image/Multimodal_1205_Multimodal_2557_Multimodal_11357_Left_Field_2.jpg : , trial 3, color channel red, resize function imgResize_secondary\n"
     ]
    },
    {
     "name": "stdout",
     "output_type": "stream",
     "text": [
      "1/1 [==============================] - 0s 20ms/step\n"
     ]
    },
    {
     "name": "stderr",
     "output_type": "stream",
     "text": [
      "2025-06-17 09:16:53,903 - INFO - Processing image /data/4-YQVM_9ac33726c539459d10cd6f6c97a6c9c77b0eefd4545f9eb551fbe334a9b59ad7/Dataset_4-YQVM/data/asset/Image/Multimodal_1205_Multimodal_2557_Multimodal_11357_Left_Field_2.jpg : , trial 4, color channel blue, resize function imgResize_secondary\n"
     ]
    },
    {
     "name": "stdout",
     "output_type": "stream",
     "text": [
      "1/1 [==============================] - 0s 20ms/step\n"
     ]
    },
    {
     "name": "stderr",
     "output_type": "stream",
     "text": [
      "2025-06-17 09:16:54,803 - INFO - SVG for 4-YS2G saved.\n",
      "2025-06-17 09:16:54,862 - INFO - Processing image /data/4-YQVM_9ac33726c539459d10cd6f6c97a6c9c77b0eefd4545f9eb551fbe334a9b59ad7/Dataset_4-YQVM/data/asset/Image/Multimodal_1302_Multimodal_2728_Multimodal_11528_Left_Field_2.jpg : , trial 1, color channel grey, resize function imgResize_primary\n"
     ]
    },
    {
     "name": "stdout",
     "output_type": "stream",
     "text": [
      "1/1 [==============================] - 0s 20ms/step\n"
     ]
    },
    {
     "name": "stderr",
     "output_type": "stream",
     "text": [
      "2025-06-17 09:16:55,590 - INFO - Processing image /data/4-YQVM_9ac33726c539459d10cd6f6c97a6c9c77b0eefd4545f9eb551fbe334a9b59ad7/Dataset_4-YQVM/data/asset/Image/Multimodal_1302_Multimodal_2728_Multimodal_11528_Left_Field_2.jpg : , trial 2, color channel green, resize function imgResize_primary\n"
     ]
    },
    {
     "name": "stdout",
     "output_type": "stream",
     "text": [
      "1/1 [==============================] - 0s 21ms/step\n"
     ]
    },
    {
     "name": "stderr",
     "output_type": "stream",
     "text": [
      "2025-06-17 09:16:56,308 - INFO - Processing image /data/4-YQVM_9ac33726c539459d10cd6f6c97a6c9c77b0eefd4545f9eb551fbe334a9b59ad7/Dataset_4-YQVM/data/asset/Image/Multimodal_1302_Multimodal_2728_Multimodal_11528_Left_Field_2.jpg : , trial 3, color channel red, resize function imgResize_primary\n"
     ]
    },
    {
     "name": "stdout",
     "output_type": "stream",
     "text": [
      "1/1 [==============================] - 0s 20ms/step\n"
     ]
    },
    {
     "name": "stderr",
     "output_type": "stream",
     "text": [
      "2025-06-17 09:16:57,002 - INFO - Processing image /data/4-YQVM_9ac33726c539459d10cd6f6c97a6c9c77b0eefd4545f9eb551fbe334a9b59ad7/Dataset_4-YQVM/data/asset/Image/Multimodal_1302_Multimodal_2728_Multimodal_11528_Left_Field_2.jpg : , trial 4, color channel blue, resize function imgResize_primary\n"
     ]
    },
    {
     "name": "stdout",
     "output_type": "stream",
     "text": [
      "1/1 [==============================] - 0s 20ms/step\n"
     ]
    },
    {
     "name": "stderr",
     "output_type": "stream",
     "text": [
      "2025-06-17 09:16:57,688 - INFO - Processing image /data/4-YQVM_9ac33726c539459d10cd6f6c97a6c9c77b0eefd4545f9eb551fbe334a9b59ad7/Dataset_4-YQVM/data/asset/Image/Multimodal_1302_Multimodal_2728_Multimodal_11528_Left_Field_2.jpg : , trial 1, color channel grey, resize function imgResize_secondary\n"
     ]
    },
    {
     "name": "stdout",
     "output_type": "stream",
     "text": [
      "1/1 [==============================] - 0s 22ms/step\n"
     ]
    },
    {
     "name": "stderr",
     "output_type": "stream",
     "text": [
      "2025-06-17 09:16:58,870 - INFO - SVG for 4-YS2J saved.\n",
      "2025-06-17 09:16:58,931 - INFO - Processing image /data/4-YQVM_9ac33726c539459d10cd6f6c97a6c9c77b0eefd4545f9eb551fbe334a9b59ad7/Dataset_4-YQVM/data/asset/Image/Multimodal_1298_Multimodal_2720_Multimodal_11519_Right_Field_2.jpg : , trial 1, color channel grey, resize function imgResize_primary\n"
     ]
    },
    {
     "name": "stdout",
     "output_type": "stream",
     "text": [
      "1/1 [==============================] - 0s 20ms/step\n"
     ]
    },
    {
     "name": "stderr",
     "output_type": "stream",
     "text": [
      "2025-06-17 09:16:59,781 - INFO - SVG for 4-YS2M saved.\n",
      "2025-06-17 09:16:59,840 - INFO - Processing image /data/4-YQVM_9ac33726c539459d10cd6f6c97a6c9c77b0eefd4545f9eb551fbe334a9b59ad7/Dataset_4-YQVM/data/asset/Image/Multimodal_1286_Multimodal_2699_Multimodal_11499_Left_Field_2.jpg : , trial 1, color channel grey, resize function imgResize_primary\n"
     ]
    },
    {
     "name": "stdout",
     "output_type": "stream",
     "text": [
      "1/1 [==============================] - 0s 20ms/step\n"
     ]
    },
    {
     "name": "stderr",
     "output_type": "stream",
     "text": [
      "2025-06-17 09:17:00,452 - INFO - SVG for 4-YS2P saved.\n",
      "2025-06-17 09:17:00,511 - INFO - Processing image /data/4-YQVM_9ac33726c539459d10cd6f6c97a6c9c77b0eefd4545f9eb551fbe334a9b59ad7/Dataset_4-YQVM/data/asset/Image/Multimodal_1333_Multimodal_2785_Multimodal_11584_Right_Field_2.jpg : , trial 1, color channel grey, resize function imgResize_primary\n"
     ]
    },
    {
     "name": "stdout",
     "output_type": "stream",
     "text": [
      "1/1 [==============================] - 0s 20ms/step\n"
     ]
    },
    {
     "name": "stderr",
     "output_type": "stream",
     "text": [
      "2025-06-17 09:17:01,043 - INFO - SVG for 4-YS2R saved.\n",
      "2025-06-17 09:17:01,104 - INFO - Processing image /data/4-YQVM_9ac33726c539459d10cd6f6c97a6c9c77b0eefd4545f9eb551fbe334a9b59ad7/Dataset_4-YQVM/data/asset/Image/Multimodal_1314_Multimodal_2748_Multimodal_11547_Right_Field_2.jpg : , trial 1, color channel grey, resize function imgResize_primary\n"
     ]
    },
    {
     "name": "stdout",
     "output_type": "stream",
     "text": [
      "1/1 [==============================] - 0s 20ms/step\n"
     ]
    },
    {
     "name": "stderr",
     "output_type": "stream",
     "text": [
      "2025-06-17 09:17:01,840 - INFO - SVG for 4-YS2T saved.\n",
      "2025-06-17 09:17:01,899 - INFO - Processing image /data/4-YQVM_9ac33726c539459d10cd6f6c97a6c9c77b0eefd4545f9eb551fbe334a9b59ad7/Dataset_4-YQVM/data/asset/Image/Multimodal_1213_Multimodal_2572_Multimodal_11371_Right_Field_2.jpg : , trial 1, color channel grey, resize function imgResize_primary\n"
     ]
    },
    {
     "name": "stdout",
     "output_type": "stream",
     "text": [
      "1/1 [==============================] - 0s 20ms/step\n"
     ]
    },
    {
     "name": "stderr",
     "output_type": "stream",
     "text": [
      "2025-06-17 09:17:02,364 - INFO - Processing image /data/4-YQVM_9ac33726c539459d10cd6f6c97a6c9c77b0eefd4545f9eb551fbe334a9b59ad7/Dataset_4-YQVM/data/asset/Image/Multimodal_1213_Multimodal_2572_Multimodal_11371_Right_Field_2.jpg : , trial 2, color channel green, resize function imgResize_primary\n"
     ]
    },
    {
     "name": "stdout",
     "output_type": "stream",
     "text": [
      "1/1 [==============================] - 0s 20ms/step\n"
     ]
    },
    {
     "name": "stderr",
     "output_type": "stream",
     "text": [
      "2025-06-17 09:17:02,838 - INFO - SVG for 4-YS2W saved.\n",
      "2025-06-17 09:17:02,896 - INFO - Processing image /data/4-YQVM_9ac33726c539459d10cd6f6c97a6c9c77b0eefd4545f9eb551fbe334a9b59ad7/Dataset_4-YQVM/data/asset/Image/Multimodal_1223_Multimodal_2590_Multimodal_11389_Right_Field_2.jpg : , trial 1, color channel grey, resize function imgResize_primary\n"
     ]
    },
    {
     "name": "stdout",
     "output_type": "stream",
     "text": [
      "1/1 [==============================] - 0s 20ms/step\n"
     ]
    },
    {
     "name": "stderr",
     "output_type": "stream",
     "text": [
      "2025-06-17 09:17:03,735 - INFO - SVG for 4-YS2Y saved.\n",
      "2025-06-17 09:17:03,797 - INFO - Processing image /data/4-YQVM_9ac33726c539459d10cd6f6c97a6c9c77b0eefd4545f9eb551fbe334a9b59ad7/Dataset_4-YQVM/data/asset/Image/Multimodal_1259_Multimodal_2656_Multimodal_11456_Left_Field_2.jpg : , trial 1, color channel grey, resize function imgResize_primary\n"
     ]
    },
    {
     "name": "stdout",
     "output_type": "stream",
     "text": [
      "1/1 [==============================] - 0s 20ms/step\n"
     ]
    },
    {
     "name": "stderr",
     "output_type": "stream",
     "text": [
      "2025-06-17 09:17:04,456 - INFO - SVG for 4-YS30 saved.\n",
      "2025-06-17 09:17:04,514 - INFO - Processing image /data/4-YQVM_9ac33726c539459d10cd6f6c97a6c9c77b0eefd4545f9eb551fbe334a9b59ad7/Dataset_4-YQVM/data/asset/Image/Multimodal_1232_Multimodal_2606_Multimodal_11406_Left_Field_2.jpg : , trial 1, color channel grey, resize function imgResize_primary\n"
     ]
    },
    {
     "name": "stdout",
     "output_type": "stream",
     "text": [
      "1/1 [==============================] - 0s 20ms/step\n"
     ]
    },
    {
     "name": "stderr",
     "output_type": "stream",
     "text": [
      "2025-06-17 09:17:05,081 - INFO - SVG for 4-YS32 saved.\n",
      "2025-06-17 09:17:05,140 - INFO - Processing image /data/4-YQVM_9ac33726c539459d10cd6f6c97a6c9c77b0eefd4545f9eb551fbe334a9b59ad7/Dataset_4-YQVM/data/asset/Image/Multimodal_1241_Multimodal_2623_Multimodal_11423_Left_Field_2.jpg : , trial 1, color channel grey, resize function imgResize_primary\n"
     ]
    },
    {
     "name": "stdout",
     "output_type": "stream",
     "text": [
      "1/1 [==============================] - 0s 21ms/step\n"
     ]
    },
    {
     "name": "stderr",
     "output_type": "stream",
     "text": [
      "2025-06-17 09:17:05,783 - INFO - Processing image /data/4-YQVM_9ac33726c539459d10cd6f6c97a6c9c77b0eefd4545f9eb551fbe334a9b59ad7/Dataset_4-YQVM/data/asset/Image/Multimodal_1241_Multimodal_2623_Multimodal_11423_Left_Field_2.jpg : , trial 2, color channel green, resize function imgResize_primary\n"
     ]
    },
    {
     "name": "stdout",
     "output_type": "stream",
     "text": [
      "1/1 [==============================] - 0s 20ms/step\n"
     ]
    },
    {
     "name": "stderr",
     "output_type": "stream",
     "text": [
      "2025-06-17 09:17:06,540 - INFO - SVG for 4-YS34 saved.\n",
      "2025-06-17 09:17:06,598 - INFO - Processing image /data/4-YQVM_9ac33726c539459d10cd6f6c97a6c9c77b0eefd4545f9eb551fbe334a9b59ad7/Dataset_4-YQVM/data/asset/Image/Multimodal_1224_Multimodal_2592_Multimodal_11392_Left_Field_2.jpg : , trial 1, color channel grey, resize function imgResize_primary\n"
     ]
    },
    {
     "name": "stdout",
     "output_type": "stream",
     "text": [
      "1/1 [==============================] - 0s 20ms/step\n"
     ]
    },
    {
     "name": "stderr",
     "output_type": "stream",
     "text": [
      "2025-06-17 09:17:07,160 - INFO - SVG for 4-YS36 saved.\n",
      "2025-06-17 09:17:07,221 - INFO - Processing image /data/4-YQVM_9ac33726c539459d10cd6f6c97a6c9c77b0eefd4545f9eb551fbe334a9b59ad7/Dataset_4-YQVM/data/asset/Image/Multimodal_1324_Multimodal_2768_Multimodal_11568_Left_Field_1.jpg : , trial 1, color channel grey, resize function imgResize_primary\n"
     ]
    },
    {
     "name": "stdout",
     "output_type": "stream",
     "text": [
      "1/1 [==============================] - 0s 20ms/step\n"
     ]
    },
    {
     "name": "stderr",
     "output_type": "stream",
     "text": [
      "2025-06-17 09:17:07,808 - INFO - SVG for 4-YS38 saved.\n",
      "2025-06-17 09:17:07,866 - INFO - Processing image /data/4-YQVM_9ac33726c539459d10cd6f6c97a6c9c77b0eefd4545f9eb551fbe334a9b59ad7/Dataset_4-YQVM/data/asset/Image/Multimodal_1277_Multimodal_2683_Multimodal_11482_Right_Field_1.jpg : , trial 1, color channel grey, resize function imgResize_primary\n"
     ]
    },
    {
     "name": "stdout",
     "output_type": "stream",
     "text": [
      "1/1 [==============================] - 0s 21ms/step\n"
     ]
    },
    {
     "name": "stderr",
     "output_type": "stream",
     "text": [
      "2025-06-17 09:17:08,396 - INFO - Processing image /data/4-YQVM_9ac33726c539459d10cd6f6c97a6c9c77b0eefd4545f9eb551fbe334a9b59ad7/Dataset_4-YQVM/data/asset/Image/Multimodal_1277_Multimodal_2683_Multimodal_11482_Right_Field_1.jpg : , trial 2, color channel green, resize function imgResize_primary\n"
     ]
    },
    {
     "name": "stdout",
     "output_type": "stream",
     "text": [
      "1/1 [==============================] - 0s 20ms/step\n"
     ]
    },
    {
     "name": "stderr",
     "output_type": "stream",
     "text": [
      "2025-06-17 09:17:08,994 - INFO - Processing image /data/4-YQVM_9ac33726c539459d10cd6f6c97a6c9c77b0eefd4545f9eb551fbe334a9b59ad7/Dataset_4-YQVM/data/asset/Image/Multimodal_1277_Multimodal_2683_Multimodal_11482_Right_Field_1.jpg : , trial 3, color channel red, resize function imgResize_primary\n"
     ]
    },
    {
     "name": "stdout",
     "output_type": "stream",
     "text": [
      "1/1 [==============================] - 0s 20ms/step\n"
     ]
    },
    {
     "name": "stderr",
     "output_type": "stream",
     "text": [
      "2025-06-17 09:17:09,687 - INFO - Processing image /data/4-YQVM_9ac33726c539459d10cd6f6c97a6c9c77b0eefd4545f9eb551fbe334a9b59ad7/Dataset_4-YQVM/data/asset/Image/Multimodal_1277_Multimodal_2683_Multimodal_11482_Right_Field_1.jpg : , trial 4, color channel blue, resize function imgResize_primary\n"
     ]
    },
    {
     "name": "stdout",
     "output_type": "stream",
     "text": [
      "1/1 [==============================] - 0s 20ms/step\n"
     ]
    },
    {
     "name": "stderr",
     "output_type": "stream",
     "text": [
      "2025-06-17 09:17:10,141 - INFO - Processing image /data/4-YQVM_9ac33726c539459d10cd6f6c97a6c9c77b0eefd4545f9eb551fbe334a9b59ad7/Dataset_4-YQVM/data/asset/Image/Multimodal_1277_Multimodal_2683_Multimodal_11482_Right_Field_1.jpg : , trial 1, color channel grey, resize function imgResize_secondary\n"
     ]
    },
    {
     "name": "stdout",
     "output_type": "stream",
     "text": [
      "1/1 [==============================] - 0s 20ms/step\n"
     ]
    },
    {
     "name": "stderr",
     "output_type": "stream",
     "text": [
      "2025-06-17 09:17:10,865 - INFO - Processing image /data/4-YQVM_9ac33726c539459d10cd6f6c97a6c9c77b0eefd4545f9eb551fbe334a9b59ad7/Dataset_4-YQVM/data/asset/Image/Multimodal_1277_Multimodal_2683_Multimodal_11482_Right_Field_1.jpg : , trial 2, color channel green, resize function imgResize_secondary\n"
     ]
    },
    {
     "name": "stdout",
     "output_type": "stream",
     "text": [
      "1/1 [==============================] - 0s 21ms/step\n"
     ]
    },
    {
     "name": "stderr",
     "output_type": "stream",
     "text": [
      "2025-06-17 09:17:11,584 - INFO - Processing image /data/4-YQVM_9ac33726c539459d10cd6f6c97a6c9c77b0eefd4545f9eb551fbe334a9b59ad7/Dataset_4-YQVM/data/asset/Image/Multimodal_1277_Multimodal_2683_Multimodal_11482_Right_Field_1.jpg : , trial 3, color channel red, resize function imgResize_secondary\n"
     ]
    },
    {
     "name": "stdout",
     "output_type": "stream",
     "text": [
      "1/1 [==============================] - 0s 20ms/step\n"
     ]
    },
    {
     "name": "stderr",
     "output_type": "stream",
     "text": [
      "2025-06-17 09:17:12,434 - INFO - Processing image /data/4-YQVM_9ac33726c539459d10cd6f6c97a6c9c77b0eefd4545f9eb551fbe334a9b59ad7/Dataset_4-YQVM/data/asset/Image/Multimodal_1277_Multimodal_2683_Multimodal_11482_Right_Field_1.jpg : , trial 4, color channel blue, resize function imgResize_secondary\n"
     ]
    },
    {
     "name": "stdout",
     "output_type": "stream",
     "text": [
      "1/1 [==============================] - 0s 20ms/step\n"
     ]
    },
    {
     "name": "stderr",
     "output_type": "stream",
     "text": [
      "2025-06-17 09:17:13,124 - INFO - Processing image /data/4-YQVM_9ac33726c539459d10cd6f6c97a6c9c77b0eefd4545f9eb551fbe334a9b59ad7/Dataset_4-YQVM/data/asset/Image/Multimodal_1277_Multimodal_2683_Multimodal_11482_Right_Field_1.jpg : , trial 1, color channel grey, resize function imgResize_primary\n"
     ]
    },
    {
     "name": "stdout",
     "output_type": "stream",
     "text": [
      "1/1 [==============================] - 0s 20ms/step\n"
     ]
    },
    {
     "name": "stderr",
     "output_type": "stream",
     "text": [
      "2025-06-17 09:17:13,572 - INFO - Processing image /data/4-YQVM_9ac33726c539459d10cd6f6c97a6c9c77b0eefd4545f9eb551fbe334a9b59ad7/Dataset_4-YQVM/data/asset/Image/Multimodal_1277_Multimodal_2683_Multimodal_11482_Right_Field_1.jpg : , trial 2, color channel green, resize function imgResize_primary\n"
     ]
    },
    {
     "name": "stdout",
     "output_type": "stream",
     "text": [
      "1/1 [==============================] - 0s 20ms/step\n"
     ]
    },
    {
     "name": "stderr",
     "output_type": "stream",
     "text": [
      "2025-06-17 09:17:14,116 - INFO - Processing image /data/4-YQVM_9ac33726c539459d10cd6f6c97a6c9c77b0eefd4545f9eb551fbe334a9b59ad7/Dataset_4-YQVM/data/asset/Image/Multimodal_1277_Multimodal_2683_Multimodal_11482_Right_Field_1.jpg : , trial 3, color channel red, resize function imgResize_primary\n"
     ]
    },
    {
     "name": "stdout",
     "output_type": "stream",
     "text": [
      "1/1 [==============================] - 0s 20ms/step\n"
     ]
    },
    {
     "name": "stderr",
     "output_type": "stream",
     "text": [
      "2025-06-17 09:17:14,804 - INFO - Processing image /data/4-YQVM_9ac33726c539459d10cd6f6c97a6c9c77b0eefd4545f9eb551fbe334a9b59ad7/Dataset_4-YQVM/data/asset/Image/Multimodal_1277_Multimodal_2683_Multimodal_11482_Right_Field_1.jpg : , trial 4, color channel blue, resize function imgResize_primary\n"
     ]
    },
    {
     "name": "stdout",
     "output_type": "stream",
     "text": [
      "1/1 [==============================] - 0s 20ms/step\n"
     ]
    },
    {
     "name": "stderr",
     "output_type": "stream",
     "text": [
      "2025-06-17 09:17:15,309 - INFO - Processing image /data/4-YQVM_9ac33726c539459d10cd6f6c97a6c9c77b0eefd4545f9eb551fbe334a9b59ad7/Dataset_4-YQVM/data/asset/Image/Multimodal_1277_Multimodal_2683_Multimodal_11482_Right_Field_1.jpg : , trial 1, color channel grey, resize function imgResize_secondary\n"
     ]
    },
    {
     "name": "stdout",
     "output_type": "stream",
     "text": [
      "1/1 [==============================] - 0s 20ms/step\n"
     ]
    },
    {
     "name": "stderr",
     "output_type": "stream",
     "text": [
      "2025-06-17 09:17:16,032 - INFO - Processing image /data/4-YQVM_9ac33726c539459d10cd6f6c97a6c9c77b0eefd4545f9eb551fbe334a9b59ad7/Dataset_4-YQVM/data/asset/Image/Multimodal_1277_Multimodal_2683_Multimodal_11482_Right_Field_1.jpg : , trial 2, color channel green, resize function imgResize_secondary\n"
     ]
    },
    {
     "name": "stdout",
     "output_type": "stream",
     "text": [
      "1/1 [==============================] - 0s 21ms/step\n"
     ]
    },
    {
     "name": "stderr",
     "output_type": "stream",
     "text": [
      "2025-06-17 09:17:17,038 - INFO - Processing image /data/4-YQVM_9ac33726c539459d10cd6f6c97a6c9c77b0eefd4545f9eb551fbe334a9b59ad7/Dataset_4-YQVM/data/asset/Image/Multimodal_1277_Multimodal_2683_Multimodal_11482_Right_Field_1.jpg : , trial 3, color channel red, resize function imgResize_secondary\n"
     ]
    },
    {
     "name": "stdout",
     "output_type": "stream",
     "text": [
      "1/1 [==============================] - 0s 21ms/step\n"
     ]
    },
    {
     "name": "stderr",
     "output_type": "stream",
     "text": [
      "2025-06-17 09:17:18,018 - INFO - Processing image /data/4-YQVM_9ac33726c539459d10cd6f6c97a6c9c77b0eefd4545f9eb551fbe334a9b59ad7/Dataset_4-YQVM/data/asset/Image/Multimodal_1277_Multimodal_2683_Multimodal_11482_Right_Field_1.jpg : , trial 4, color channel blue, resize function imgResize_secondary\n"
     ]
    },
    {
     "name": "stdout",
     "output_type": "stream",
     "text": [
      "1/1 [==============================] - 0s 21ms/step\n"
     ]
    },
    {
     "name": "stderr",
     "output_type": "stream",
     "text": [
      "2025-06-17 09:17:18,665 - INFO - Processing image /data/4-YQVM_9ac33726c539459d10cd6f6c97a6c9c77b0eefd4545f9eb551fbe334a9b59ad7/Dataset_4-YQVM/data/asset/Image/Multimodal_1277_Multimodal_2683_Multimodal_11482_Right_Field_1.jpg : , trial 1, color channel grey, resize function imgResize_primary\n"
     ]
    },
    {
     "name": "stdout",
     "output_type": "stream",
     "text": [
      "1/1 [==============================] - 0s 21ms/step\n"
     ]
    },
    {
     "name": "stderr",
     "output_type": "stream",
     "text": [
      "2025-06-17 09:17:19,238 - INFO - Processing image /data/4-YQVM_9ac33726c539459d10cd6f6c97a6c9c77b0eefd4545f9eb551fbe334a9b59ad7/Dataset_4-YQVM/data/asset/Image/Multimodal_1277_Multimodal_2683_Multimodal_11482_Right_Field_1.jpg : , trial 2, color channel green, resize function imgResize_primary\n"
     ]
    },
    {
     "name": "stdout",
     "output_type": "stream",
     "text": [
      "1/1 [==============================] - 0s 21ms/step\n"
     ]
    },
    {
     "name": "stderr",
     "output_type": "stream",
     "text": [
      "2025-06-17 09:17:19,792 - INFO - Processing image /data/4-YQVM_9ac33726c539459d10cd6f6c97a6c9c77b0eefd4545f9eb551fbe334a9b59ad7/Dataset_4-YQVM/data/asset/Image/Multimodal_1277_Multimodal_2683_Multimodal_11482_Right_Field_1.jpg : , trial 3, color channel red, resize function imgResize_primary\n"
     ]
    },
    {
     "name": "stdout",
     "output_type": "stream",
     "text": [
      "1/1 [==============================] - 0s 21ms/step\n"
     ]
    },
    {
     "name": "stderr",
     "output_type": "stream",
     "text": [
      "2025-06-17 09:17:20,431 - INFO - Processing image /data/4-YQVM_9ac33726c539459d10cd6f6c97a6c9c77b0eefd4545f9eb551fbe334a9b59ad7/Dataset_4-YQVM/data/asset/Image/Multimodal_1277_Multimodal_2683_Multimodal_11482_Right_Field_1.jpg : , trial 4, color channel blue, resize function imgResize_primary\n"
     ]
    },
    {
     "name": "stdout",
     "output_type": "stream",
     "text": [
      "1/1 [==============================] - 0s 20ms/step\n"
     ]
    },
    {
     "name": "stderr",
     "output_type": "stream",
     "text": [
      "2025-06-17 09:17:20,966 - INFO - Processing image /data/4-YQVM_9ac33726c539459d10cd6f6c97a6c9c77b0eefd4545f9eb551fbe334a9b59ad7/Dataset_4-YQVM/data/asset/Image/Multimodal_1277_Multimodal_2683_Multimodal_11482_Right_Field_1.jpg : , trial 1, color channel grey, resize function imgResize_secondary\n"
     ]
    },
    {
     "name": "stdout",
     "output_type": "stream",
     "text": [
      "1/1 [==============================] - 0s 21ms/step\n"
     ]
    },
    {
     "name": "stderr",
     "output_type": "stream",
     "text": [
      "2025-06-17 09:17:21,917 - INFO - Processing image /data/4-YQVM_9ac33726c539459d10cd6f6c97a6c9c77b0eefd4545f9eb551fbe334a9b59ad7/Dataset_4-YQVM/data/asset/Image/Multimodal_1277_Multimodal_2683_Multimodal_11482_Right_Field_1.jpg : , trial 2, color channel green, resize function imgResize_secondary\n"
     ]
    },
    {
     "name": "stdout",
     "output_type": "stream",
     "text": [
      "1/1 [==============================] - 0s 21ms/step\n"
     ]
    },
    {
     "name": "stderr",
     "output_type": "stream",
     "text": [
      "2025-06-17 09:17:22,750 - INFO - Processing image /data/4-YQVM_9ac33726c539459d10cd6f6c97a6c9c77b0eefd4545f9eb551fbe334a9b59ad7/Dataset_4-YQVM/data/asset/Image/Multimodal_1277_Multimodal_2683_Multimodal_11482_Right_Field_1.jpg : , trial 3, color channel red, resize function imgResize_secondary\n"
     ]
    },
    {
     "name": "stdout",
     "output_type": "stream",
     "text": [
      "1/1 [==============================] - 0s 21ms/step\n"
     ]
    },
    {
     "name": "stderr",
     "output_type": "stream",
     "text": [
      "2025-06-17 09:17:23,564 - INFO - Processing image /data/4-YQVM_9ac33726c539459d10cd6f6c97a6c9c77b0eefd4545f9eb551fbe334a9b59ad7/Dataset_4-YQVM/data/asset/Image/Multimodal_1277_Multimodal_2683_Multimodal_11482_Right_Field_1.jpg : , trial 4, color channel blue, resize function imgResize_secondary\n"
     ]
    },
    {
     "name": "stdout",
     "output_type": "stream",
     "text": [
      "1/1 [==============================] - 0s 21ms/step\n"
     ]
    },
    {
     "name": "stderr",
     "output_type": "stream",
     "text": [
      "2025-06-17 09:17:24,297 - INFO - Processing image /data/4-YQVM_9ac33726c539459d10cd6f6c97a6c9c77b0eefd4545f9eb551fbe334a9b59ad7/Dataset_4-YQVM/data/asset/Image/Multimodal_1277_Multimodal_2683_Multimodal_11482_Right_Field_1.jpg : , trial 1, color channel grey, resize function imgResize_primary\n"
     ]
    },
    {
     "name": "stdout",
     "output_type": "stream",
     "text": [
      "1/1 [==============================] - 0s 21ms/step\n"
     ]
    },
    {
     "name": "stderr",
     "output_type": "stream",
     "text": [
      "2025-06-17 09:17:24,773 - INFO - Processing image /data/4-YQVM_9ac33726c539459d10cd6f6c97a6c9c77b0eefd4545f9eb551fbe334a9b59ad7/Dataset_4-YQVM/data/asset/Image/Multimodal_1277_Multimodal_2683_Multimodal_11482_Right_Field_1.jpg : , trial 2, color channel green, resize function imgResize_primary\n"
     ]
    },
    {
     "name": "stdout",
     "output_type": "stream",
     "text": [
      "1/1 [==============================] - 0s 21ms/step\n"
     ]
    },
    {
     "name": "stderr",
     "output_type": "stream",
     "text": [
      "2025-06-17 09:17:25,288 - INFO - Processing image /data/4-YQVM_9ac33726c539459d10cd6f6c97a6c9c77b0eefd4545f9eb551fbe334a9b59ad7/Dataset_4-YQVM/data/asset/Image/Multimodal_1277_Multimodal_2683_Multimodal_11482_Right_Field_1.jpg : , trial 3, color channel red, resize function imgResize_primary\n"
     ]
    },
    {
     "name": "stdout",
     "output_type": "stream",
     "text": [
      "1/1 [==============================] - 0s 20ms/step\n"
     ]
    },
    {
     "name": "stderr",
     "output_type": "stream",
     "text": [
      "2025-06-17 09:17:25,950 - INFO - Processing image /data/4-YQVM_9ac33726c539459d10cd6f6c97a6c9c77b0eefd4545f9eb551fbe334a9b59ad7/Dataset_4-YQVM/data/asset/Image/Multimodal_1277_Multimodal_2683_Multimodal_11482_Right_Field_1.jpg : , trial 4, color channel blue, resize function imgResize_primary\n"
     ]
    },
    {
     "name": "stdout",
     "output_type": "stream",
     "text": [
      "1/1 [==============================] - 0s 20ms/step\n"
     ]
    },
    {
     "name": "stderr",
     "output_type": "stream",
     "text": [
      "2025-06-17 09:17:26,520 - INFO - Processing image /data/4-YQVM_9ac33726c539459d10cd6f6c97a6c9c77b0eefd4545f9eb551fbe334a9b59ad7/Dataset_4-YQVM/data/asset/Image/Multimodal_1277_Multimodal_2683_Multimodal_11482_Right_Field_1.jpg : , trial 1, color channel grey, resize function imgResize_secondary\n"
     ]
    },
    {
     "name": "stdout",
     "output_type": "stream",
     "text": [
      "1/1 [==============================] - 0s 21ms/step\n"
     ]
    },
    {
     "name": "stderr",
     "output_type": "stream",
     "text": [
      "2025-06-17 09:17:27,241 - INFO - Processing image /data/4-YQVM_9ac33726c539459d10cd6f6c97a6c9c77b0eefd4545f9eb551fbe334a9b59ad7/Dataset_4-YQVM/data/asset/Image/Multimodal_1277_Multimodal_2683_Multimodal_11482_Right_Field_1.jpg : , trial 2, color channel green, resize function imgResize_secondary\n"
     ]
    },
    {
     "name": "stdout",
     "output_type": "stream",
     "text": [
      "1/1 [==============================] - 0s 21ms/step\n"
     ]
    },
    {
     "name": "stderr",
     "output_type": "stream",
     "text": [
      "2025-06-17 09:17:27,935 - INFO - Processing image /data/4-YQVM_9ac33726c539459d10cd6f6c97a6c9c77b0eefd4545f9eb551fbe334a9b59ad7/Dataset_4-YQVM/data/asset/Image/Multimodal_1277_Multimodal_2683_Multimodal_11482_Right_Field_1.jpg : , trial 3, color channel red, resize function imgResize_secondary\n"
     ]
    },
    {
     "name": "stdout",
     "output_type": "stream",
     "text": [
      "1/1 [==============================] - 0s 21ms/step\n"
     ]
    },
    {
     "name": "stderr",
     "output_type": "stream",
     "text": [
      "2025-06-17 09:17:28,752 - INFO - Processing image /data/4-YQVM_9ac33726c539459d10cd6f6c97a6c9c77b0eefd4545f9eb551fbe334a9b59ad7/Dataset_4-YQVM/data/asset/Image/Multimodal_1277_Multimodal_2683_Multimodal_11482_Right_Field_1.jpg : , trial 4, color channel blue, resize function imgResize_secondary\n"
     ]
    },
    {
     "name": "stdout",
     "output_type": "stream",
     "text": [
      "1/1 [==============================] - 0s 21ms/step\n"
     ]
    },
    {
     "name": "stderr",
     "output_type": "stream",
     "text": [
      "2025-06-17 09:17:29,516 - INFO - Processing image /data/4-YQVM_9ac33726c539459d10cd6f6c97a6c9c77b0eefd4545f9eb551fbe334a9b59ad7/Dataset_4-YQVM/data/asset/Image/Multimodal_1277_Multimodal_2683_Multimodal_11482_Right_Field_1.jpg : , trial 1, color channel grey, resize function imgResize_primary\n"
     ]
    },
    {
     "name": "stdout",
     "output_type": "stream",
     "text": [
      "1/1 [==============================] - 0s 21ms/step\n"
     ]
    },
    {
     "name": "stderr",
     "output_type": "stream",
     "text": [
      "2025-06-17 09:17:30,060 - INFO - Processing image /data/4-YQVM_9ac33726c539459d10cd6f6c97a6c9c77b0eefd4545f9eb551fbe334a9b59ad7/Dataset_4-YQVM/data/asset/Image/Multimodal_1277_Multimodal_2683_Multimodal_11482_Right_Field_1.jpg : , trial 2, color channel green, resize function imgResize_primary\n"
     ]
    },
    {
     "name": "stdout",
     "output_type": "stream",
     "text": [
      "1/1 [==============================] - 0s 21ms/step\n"
     ]
    },
    {
     "name": "stderr",
     "output_type": "stream",
     "text": [
      "2025-06-17 09:17:30,636 - INFO - Processing image /data/4-YQVM_9ac33726c539459d10cd6f6c97a6c9c77b0eefd4545f9eb551fbe334a9b59ad7/Dataset_4-YQVM/data/asset/Image/Multimodal_1277_Multimodal_2683_Multimodal_11482_Right_Field_1.jpg : , trial 3, color channel red, resize function imgResize_primary\n"
     ]
    },
    {
     "name": "stdout",
     "output_type": "stream",
     "text": [
      "1/1 [==============================] - 0s 21ms/step\n"
     ]
    },
    {
     "name": "stderr",
     "output_type": "stream",
     "text": [
      "2025-06-17 09:17:31,375 - INFO - Processing image /data/4-YQVM_9ac33726c539459d10cd6f6c97a6c9c77b0eefd4545f9eb551fbe334a9b59ad7/Dataset_4-YQVM/data/asset/Image/Multimodal_1277_Multimodal_2683_Multimodal_11482_Right_Field_1.jpg : , trial 4, color channel blue, resize function imgResize_primary\n"
     ]
    },
    {
     "name": "stdout",
     "output_type": "stream",
     "text": [
      "1/1 [==============================] - 0s 20ms/step\n"
     ]
    },
    {
     "name": "stderr",
     "output_type": "stream",
     "text": [
      "2025-06-17 09:17:31,858 - INFO - Processing image /data/4-YQVM_9ac33726c539459d10cd6f6c97a6c9c77b0eefd4545f9eb551fbe334a9b59ad7/Dataset_4-YQVM/data/asset/Image/Multimodal_1277_Multimodal_2683_Multimodal_11482_Right_Field_1.jpg : , trial 1, color channel grey, resize function imgResize_secondary\n"
     ]
    },
    {
     "name": "stdout",
     "output_type": "stream",
     "text": [
      "1/1 [==============================] - 0s 21ms/step\n"
     ]
    },
    {
     "name": "stderr",
     "output_type": "stream",
     "text": [
      "2025-06-17 09:17:32,643 - INFO - Processing image /data/4-YQVM_9ac33726c539459d10cd6f6c97a6c9c77b0eefd4545f9eb551fbe334a9b59ad7/Dataset_4-YQVM/data/asset/Image/Multimodal_1277_Multimodal_2683_Multimodal_11482_Right_Field_1.jpg : , trial 2, color channel green, resize function imgResize_secondary\n"
     ]
    },
    {
     "name": "stdout",
     "output_type": "stream",
     "text": [
      "1/1 [==============================] - 0s 21ms/step\n"
     ]
    },
    {
     "name": "stderr",
     "output_type": "stream",
     "text": [
      "2025-06-17 09:17:33,387 - INFO - Processing image /data/4-YQVM_9ac33726c539459d10cd6f6c97a6c9c77b0eefd4545f9eb551fbe334a9b59ad7/Dataset_4-YQVM/data/asset/Image/Multimodal_1277_Multimodal_2683_Multimodal_11482_Right_Field_1.jpg : , trial 3, color channel red, resize function imgResize_secondary\n"
     ]
    },
    {
     "name": "stdout",
     "output_type": "stream",
     "text": [
      "1/1 [==============================] - 0s 21ms/step\n"
     ]
    },
    {
     "name": "stderr",
     "output_type": "stream",
     "text": [
      "2025-06-17 09:17:34,403 - INFO - Processing image /data/4-YQVM_9ac33726c539459d10cd6f6c97a6c9c77b0eefd4545f9eb551fbe334a9b59ad7/Dataset_4-YQVM/data/asset/Image/Multimodal_1277_Multimodal_2683_Multimodal_11482_Right_Field_1.jpg : , trial 4, color channel blue, resize function imgResize_secondary\n"
     ]
    },
    {
     "name": "stdout",
     "output_type": "stream",
     "text": [
      "1/1 [==============================] - 0s 21ms/step\n"
     ]
    },
    {
     "name": "stderr",
     "output_type": "stream",
     "text": [
      "2025-06-17 09:17:35,188 - INFO - SVG for 4-YS3A saved.\n",
      "2025-06-17 09:17:35,250 - INFO - Processing image /data/4-YQVM_9ac33726c539459d10cd6f6c97a6c9c77b0eefd4545f9eb551fbe334a9b59ad7/Dataset_4-YQVM/data/asset/Image/Multimodal_1305_Multimodal_2734_Multimodal_11533_Right_Field_2.jpg : , trial 1, color channel grey, resize function imgResize_primary\n"
     ]
    },
    {
     "name": "stdout",
     "output_type": "stream",
     "text": [
      "1/1 [==============================] - 0s 21ms/step\n"
     ]
    },
    {
     "name": "stderr",
     "output_type": "stream",
     "text": [
      "2025-06-17 09:17:35,952 - INFO - SVG for 4-YS3C saved.\n",
      "2025-06-17 09:17:36,012 - INFO - Processing image /data/4-YQVM_9ac33726c539459d10cd6f6c97a6c9c77b0eefd4545f9eb551fbe334a9b59ad7/Dataset_4-YQVM/data/asset/Image/Multimodal_1291_Multimodal_2708_Multimodal_11507_Right_Field_2.jpg : , trial 1, color channel grey, resize function imgResize_primary\n"
     ]
    },
    {
     "name": "stdout",
     "output_type": "stream",
     "text": [
      "1/1 [==============================] - 0s 21ms/step\n"
     ]
    },
    {
     "name": "stderr",
     "output_type": "stream",
     "text": [
      "2025-06-17 09:17:37,106 - INFO - SVG for 4-YS3E saved.\n",
      "2025-06-17 09:17:37,166 - INFO - Processing image /data/4-YQVM_9ac33726c539459d10cd6f6c97a6c9c77b0eefd4545f9eb551fbe334a9b59ad7/Dataset_4-YQVM/data/asset/Image/Multimodal_1236_Multimodal_2613_Multimodal_11413_Left_Field_2.jpg : , trial 1, color channel grey, resize function imgResize_primary\n"
     ]
    },
    {
     "name": "stdout",
     "output_type": "stream",
     "text": [
      "1/1 [==============================] - 0s 21ms/step\n"
     ]
    },
    {
     "name": "stderr",
     "output_type": "stream",
     "text": [
      "2025-06-17 09:17:37,835 - INFO - SVG for 4-YS3G saved.\n",
      "2025-06-17 09:17:37,898 - INFO - Processing image /data/4-YQVM_9ac33726c539459d10cd6f6c97a6c9c77b0eefd4545f9eb551fbe334a9b59ad7/Dataset_4-YQVM/data/asset/Image/Multimodal_1330_Multimodal_2779_Multimodal_11579_Left_Field_2.jpg : , trial 1, color channel grey, resize function imgResize_primary\n"
     ]
    },
    {
     "name": "stdout",
     "output_type": "stream",
     "text": [
      "1/1 [==============================] - 0s 21ms/step\n"
     ]
    },
    {
     "name": "stderr",
     "output_type": "stream",
     "text": [
      "2025-06-17 09:17:38,640 - INFO - SVG for 4-YS3J saved.\n",
      "2025-06-17 09:17:38,698 - INFO - Processing image /data/4-YQVM_9ac33726c539459d10cd6f6c97a6c9c77b0eefd4545f9eb551fbe334a9b59ad7/Dataset_4-YQVM/data/asset/Image/Multimodal_1208_Multimodal_2563_Multimodal_11363_Left_Field_1.jpg : , trial 1, color channel grey, resize function imgResize_primary\n"
     ]
    },
    {
     "name": "stdout",
     "output_type": "stream",
     "text": [
      "1/1 [==============================] - 0s 21ms/step\n"
     ]
    },
    {
     "name": "stderr",
     "output_type": "stream",
     "text": [
      "2025-06-17 09:17:39,244 - INFO - SVG for 4-YS3M saved.\n",
      "2025-06-17 09:17:39,302 - INFO - Processing image /data/4-YQVM_9ac33726c539459d10cd6f6c97a6c9c77b0eefd4545f9eb551fbe334a9b59ad7/Dataset_4-YQVM/data/asset/Image/Multimodal_1323_Multimodal_2766_Multimodal_11565_Right_Field_2.jpg : , trial 1, color channel grey, resize function imgResize_primary\n"
     ]
    },
    {
     "name": "stdout",
     "output_type": "stream",
     "text": [
      "1/1 [==============================] - 0s 21ms/step\n"
     ]
    },
    {
     "name": "stderr",
     "output_type": "stream",
     "text": [
      "2025-06-17 09:17:40,024 - INFO - SVG for 4-YS3P saved.\n",
      "2025-06-17 09:17:40,079 - INFO - Processing image /data/4-YQVM_9ac33726c539459d10cd6f6c97a6c9c77b0eefd4545f9eb551fbe334a9b59ad7/Dataset_4-YQVM/data/asset/Image/Multimodal_1290_Multimodal_2706_Multimodal_11506_Left_Field_2.jpg : , trial 1, color channel grey, resize function imgResize_primary\n"
     ]
    },
    {
     "name": "stdout",
     "output_type": "stream",
     "text": [
      "1/1 [==============================] - 0s 21ms/step\n"
     ]
    },
    {
     "name": "stderr",
     "output_type": "stream",
     "text": [
      "2025-06-17 09:17:40,780 - INFO - SVG for 4-YS3R saved.\n",
      "2025-06-17 09:17:40,838 - INFO - Processing image /data/4-YQVM_9ac33726c539459d10cd6f6c97a6c9c77b0eefd4545f9eb551fbe334a9b59ad7/Dataset_4-YQVM/data/asset/Image/Multimodal_1280_Multimodal_2688_Multimodal_11488_Left_Field_2.jpg : , trial 1, color channel grey, resize function imgResize_primary\n"
     ]
    },
    {
     "name": "stdout",
     "output_type": "stream",
     "text": [
      "1/1 [==============================] - 0s 21ms/step\n"
     ]
    },
    {
     "name": "stderr",
     "output_type": "stream",
     "text": [
      "2025-06-17 09:17:41,696 - INFO - SVG for 4-YS3T saved.\n",
      "2025-06-17 09:17:41,757 - INFO - Processing image /data/4-YQVM_9ac33726c539459d10cd6f6c97a6c9c77b0eefd4545f9eb551fbe334a9b59ad7/Dataset_4-YQVM/data/asset/Image/Multimodal_1271_Multimodal_2674_Multimodal_11474_Left_Field_2.jpg : , trial 1, color channel grey, resize function imgResize_primary\n"
     ]
    },
    {
     "name": "stdout",
     "output_type": "stream",
     "text": [
      "1/1 [==============================] - 0s 21ms/step\n"
     ]
    },
    {
     "name": "stderr",
     "output_type": "stream",
     "text": [
      "2025-06-17 09:17:42,295 - INFO - Processing image /data/4-YQVM_9ac33726c539459d10cd6f6c97a6c9c77b0eefd4545f9eb551fbe334a9b59ad7/Dataset_4-YQVM/data/asset/Image/Multimodal_1271_Multimodal_2674_Multimodal_11474_Left_Field_2.jpg : , trial 2, color channel green, resize function imgResize_primary\n"
     ]
    },
    {
     "name": "stdout",
     "output_type": "stream",
     "text": [
      "1/1 [==============================] - 0s 21ms/step\n"
     ]
    },
    {
     "name": "stderr",
     "output_type": "stream",
     "text": [
      "2025-06-17 09:17:42,802 - INFO - Processing image /data/4-YQVM_9ac33726c539459d10cd6f6c97a6c9c77b0eefd4545f9eb551fbe334a9b59ad7/Dataset_4-YQVM/data/asset/Image/Multimodal_1271_Multimodal_2674_Multimodal_11474_Left_Field_2.jpg : , trial 3, color channel red, resize function imgResize_primary\n"
     ]
    },
    {
     "name": "stdout",
     "output_type": "stream",
     "text": [
      "1/1 [==============================] - 0s 21ms/step\n"
     ]
    },
    {
     "name": "stderr",
     "output_type": "stream",
     "text": [
      "2025-06-17 09:17:43,411 - INFO - Processing image /data/4-YQVM_9ac33726c539459d10cd6f6c97a6c9c77b0eefd4545f9eb551fbe334a9b59ad7/Dataset_4-YQVM/data/asset/Image/Multimodal_1271_Multimodal_2674_Multimodal_11474_Left_Field_2.jpg : , trial 4, color channel blue, resize function imgResize_primary\n"
     ]
    },
    {
     "name": "stdout",
     "output_type": "stream",
     "text": [
      "1/1 [==============================] - 0s 20ms/step\n"
     ]
    },
    {
     "name": "stderr",
     "output_type": "stream",
     "text": [
      "2025-06-17 09:17:43,814 - INFO - Processing image /data/4-YQVM_9ac33726c539459d10cd6f6c97a6c9c77b0eefd4545f9eb551fbe334a9b59ad7/Dataset_4-YQVM/data/asset/Image/Multimodal_1271_Multimodal_2674_Multimodal_11474_Left_Field_2.jpg : , trial 1, color channel grey, resize function imgResize_secondary\n"
     ]
    },
    {
     "name": "stdout",
     "output_type": "stream",
     "text": [
      "1/1 [==============================] - 0s 21ms/step\n"
     ]
    },
    {
     "name": "stderr",
     "output_type": "stream",
     "text": [
      "2025-06-17 09:17:44,668 - INFO - Processing image /data/4-YQVM_9ac33726c539459d10cd6f6c97a6c9c77b0eefd4545f9eb551fbe334a9b59ad7/Dataset_4-YQVM/data/asset/Image/Multimodal_1271_Multimodal_2674_Multimodal_11474_Left_Field_2.jpg : , trial 2, color channel green, resize function imgResize_secondary\n"
     ]
    },
    {
     "name": "stdout",
     "output_type": "stream",
     "text": [
      "1/1 [==============================] - 0s 21ms/step\n"
     ]
    },
    {
     "name": "stderr",
     "output_type": "stream",
     "text": [
      "2025-06-17 09:17:45,280 - INFO - Processing image /data/4-YQVM_9ac33726c539459d10cd6f6c97a6c9c77b0eefd4545f9eb551fbe334a9b59ad7/Dataset_4-YQVM/data/asset/Image/Multimodal_1271_Multimodal_2674_Multimodal_11474_Left_Field_2.jpg : , trial 3, color channel red, resize function imgResize_secondary\n"
     ]
    },
    {
     "name": "stdout",
     "output_type": "stream",
     "text": [
      "1/1 [==============================] - 0s 21ms/step\n"
     ]
    },
    {
     "name": "stderr",
     "output_type": "stream",
     "text": [
      "2025-06-17 09:17:46,349 - INFO - Processing image /data/4-YQVM_9ac33726c539459d10cd6f6c97a6c9c77b0eefd4545f9eb551fbe334a9b59ad7/Dataset_4-YQVM/data/asset/Image/Multimodal_1271_Multimodal_2674_Multimodal_11474_Left_Field_2.jpg : , trial 4, color channel blue, resize function imgResize_secondary\n"
     ]
    },
    {
     "name": "stdout",
     "output_type": "stream",
     "text": [
      "1/1 [==============================] - 0s 21ms/step\n"
     ]
    },
    {
     "name": "stderr",
     "output_type": "stream",
     "text": [
      "2025-06-17 09:17:46,992 - INFO - Processing image /data/4-YQVM_9ac33726c539459d10cd6f6c97a6c9c77b0eefd4545f9eb551fbe334a9b59ad7/Dataset_4-YQVM/data/asset/Image/Multimodal_1271_Multimodal_2674_Multimodal_11474_Left_Field_2.jpg : , trial 1, color channel grey, resize function imgResize_primary\n"
     ]
    },
    {
     "name": "stdout",
     "output_type": "stream",
     "text": [
      "1/1 [==============================] - 0s 21ms/step\n"
     ]
    },
    {
     "name": "stderr",
     "output_type": "stream",
     "text": [
      "2025-06-17 09:17:47,499 - INFO - Processing image /data/4-YQVM_9ac33726c539459d10cd6f6c97a6c9c77b0eefd4545f9eb551fbe334a9b59ad7/Dataset_4-YQVM/data/asset/Image/Multimodal_1271_Multimodal_2674_Multimodal_11474_Left_Field_2.jpg : , trial 2, color channel green, resize function imgResize_primary\n"
     ]
    },
    {
     "name": "stdout",
     "output_type": "stream",
     "text": [
      "1/1 [==============================] - 0s 20ms/step\n"
     ]
    },
    {
     "name": "stderr",
     "output_type": "stream",
     "text": [
      "2025-06-17 09:17:47,945 - INFO - Processing image /data/4-YQVM_9ac33726c539459d10cd6f6c97a6c9c77b0eefd4545f9eb551fbe334a9b59ad7/Dataset_4-YQVM/data/asset/Image/Multimodal_1271_Multimodal_2674_Multimodal_11474_Left_Field_2.jpg : , trial 3, color channel red, resize function imgResize_primary\n"
     ]
    },
    {
     "name": "stdout",
     "output_type": "stream",
     "text": [
      "1/1 [==============================] - 0s 21ms/step\n"
     ]
    },
    {
     "name": "stderr",
     "output_type": "stream",
     "text": [
      "2025-06-17 09:17:48,612 - INFO - Processing image /data/4-YQVM_9ac33726c539459d10cd6f6c97a6c9c77b0eefd4545f9eb551fbe334a9b59ad7/Dataset_4-YQVM/data/asset/Image/Multimodal_1271_Multimodal_2674_Multimodal_11474_Left_Field_2.jpg : , trial 4, color channel blue, resize function imgResize_primary\n"
     ]
    },
    {
     "name": "stdout",
     "output_type": "stream",
     "text": [
      "1/1 [==============================] - 0s 21ms/step\n"
     ]
    },
    {
     "name": "stderr",
     "output_type": "stream",
     "text": [
      "2025-06-17 09:17:49,056 - INFO - Processing image /data/4-YQVM_9ac33726c539459d10cd6f6c97a6c9c77b0eefd4545f9eb551fbe334a9b59ad7/Dataset_4-YQVM/data/asset/Image/Multimodal_1271_Multimodal_2674_Multimodal_11474_Left_Field_2.jpg : , trial 1, color channel grey, resize function imgResize_secondary\n"
     ]
    },
    {
     "name": "stdout",
     "output_type": "stream",
     "text": [
      "1/1 [==============================] - 0s 21ms/step\n"
     ]
    },
    {
     "name": "stderr",
     "output_type": "stream",
     "text": [
      "2025-06-17 09:17:49,783 - INFO - Processing image /data/4-YQVM_9ac33726c539459d10cd6f6c97a6c9c77b0eefd4545f9eb551fbe334a9b59ad7/Dataset_4-YQVM/data/asset/Image/Multimodal_1271_Multimodal_2674_Multimodal_11474_Left_Field_2.jpg : , trial 2, color channel green, resize function imgResize_secondary\n"
     ]
    },
    {
     "name": "stdout",
     "output_type": "stream",
     "text": [
      "1/1 [==============================] - 0s 21ms/step\n"
     ]
    },
    {
     "name": "stderr",
     "output_type": "stream",
     "text": [
      "2025-06-17 09:17:50,525 - INFO - Processing image /data/4-YQVM_9ac33726c539459d10cd6f6c97a6c9c77b0eefd4545f9eb551fbe334a9b59ad7/Dataset_4-YQVM/data/asset/Image/Multimodal_1271_Multimodal_2674_Multimodal_11474_Left_Field_2.jpg : , trial 3, color channel red, resize function imgResize_secondary\n"
     ]
    },
    {
     "name": "stdout",
     "output_type": "stream",
     "text": [
      "1/1 [==============================] - 0s 21ms/step\n"
     ]
    },
    {
     "name": "stderr",
     "output_type": "stream",
     "text": [
      "2025-06-17 09:17:51,557 - INFO - Processing image /data/4-YQVM_9ac33726c539459d10cd6f6c97a6c9c77b0eefd4545f9eb551fbe334a9b59ad7/Dataset_4-YQVM/data/asset/Image/Multimodal_1271_Multimodal_2674_Multimodal_11474_Left_Field_2.jpg : , trial 4, color channel blue, resize function imgResize_secondary\n"
     ]
    },
    {
     "name": "stdout",
     "output_type": "stream",
     "text": [
      "1/1 [==============================] - 0s 20ms/step\n"
     ]
    },
    {
     "name": "stderr",
     "output_type": "stream",
     "text": [
      "2025-06-17 09:17:52,258 - INFO - Processing image /data/4-YQVM_9ac33726c539459d10cd6f6c97a6c9c77b0eefd4545f9eb551fbe334a9b59ad7/Dataset_4-YQVM/data/asset/Image/Multimodal_1271_Multimodal_2674_Multimodal_11474_Left_Field_2.jpg : , trial 1, color channel grey, resize function imgResize_primary\n"
     ]
    },
    {
     "name": "stdout",
     "output_type": "stream",
     "text": [
      "1/1 [==============================] - 0s 20ms/step\n"
     ]
    },
    {
     "name": "stderr",
     "output_type": "stream",
     "text": [
      "2025-06-17 09:17:52,734 - INFO - Processing image /data/4-YQVM_9ac33726c539459d10cd6f6c97a6c9c77b0eefd4545f9eb551fbe334a9b59ad7/Dataset_4-YQVM/data/asset/Image/Multimodal_1271_Multimodal_2674_Multimodal_11474_Left_Field_2.jpg : , trial 2, color channel green, resize function imgResize_primary\n"
     ]
    },
    {
     "name": "stdout",
     "output_type": "stream",
     "text": [
      "1/1 [==============================] - 0s 20ms/step\n"
     ]
    },
    {
     "name": "stderr",
     "output_type": "stream",
     "text": [
      "2025-06-17 09:17:53,192 - INFO - Processing image /data/4-YQVM_9ac33726c539459d10cd6f6c97a6c9c77b0eefd4545f9eb551fbe334a9b59ad7/Dataset_4-YQVM/data/asset/Image/Multimodal_1271_Multimodal_2674_Multimodal_11474_Left_Field_2.jpg : , trial 3, color channel red, resize function imgResize_primary\n"
     ]
    },
    {
     "name": "stdout",
     "output_type": "stream",
     "text": [
      "1/1 [==============================] - 0s 21ms/step\n"
     ]
    },
    {
     "name": "stderr",
     "output_type": "stream",
     "text": [
      "2025-06-17 09:17:53,799 - INFO - Processing image /data/4-YQVM_9ac33726c539459d10cd6f6c97a6c9c77b0eefd4545f9eb551fbe334a9b59ad7/Dataset_4-YQVM/data/asset/Image/Multimodal_1271_Multimodal_2674_Multimodal_11474_Left_Field_2.jpg : , trial 4, color channel blue, resize function imgResize_primary\n"
     ]
    },
    {
     "name": "stdout",
     "output_type": "stream",
     "text": [
      "1/1 [==============================] - 0s 21ms/step\n"
     ]
    },
    {
     "name": "stderr",
     "output_type": "stream",
     "text": [
      "2025-06-17 09:17:54,221 - INFO - Processing image /data/4-YQVM_9ac33726c539459d10cd6f6c97a6c9c77b0eefd4545f9eb551fbe334a9b59ad7/Dataset_4-YQVM/data/asset/Image/Multimodal_1271_Multimodal_2674_Multimodal_11474_Left_Field_2.jpg : , trial 1, color channel grey, resize function imgResize_secondary\n"
     ]
    },
    {
     "name": "stdout",
     "output_type": "stream",
     "text": [
      "1/1 [==============================] - 0s 21ms/step\n"
     ]
    },
    {
     "name": "stderr",
     "output_type": "stream",
     "text": [
      "2025-06-17 09:17:54,920 - INFO - Processing image /data/4-YQVM_9ac33726c539459d10cd6f6c97a6c9c77b0eefd4545f9eb551fbe334a9b59ad7/Dataset_4-YQVM/data/asset/Image/Multimodal_1271_Multimodal_2674_Multimodal_11474_Left_Field_2.jpg : , trial 2, color channel green, resize function imgResize_secondary\n"
     ]
    },
    {
     "name": "stdout",
     "output_type": "stream",
     "text": [
      "1/1 [==============================] - 0s 21ms/step\n"
     ]
    },
    {
     "name": "stderr",
     "output_type": "stream",
     "text": [
      "2025-06-17 09:17:55,545 - INFO - Processing image /data/4-YQVM_9ac33726c539459d10cd6f6c97a6c9c77b0eefd4545f9eb551fbe334a9b59ad7/Dataset_4-YQVM/data/asset/Image/Multimodal_1271_Multimodal_2674_Multimodal_11474_Left_Field_2.jpg : , trial 3, color channel red, resize function imgResize_secondary\n"
     ]
    },
    {
     "name": "stdout",
     "output_type": "stream",
     "text": [
      "1/1 [==============================] - 0s 21ms/step\n"
     ]
    },
    {
     "name": "stderr",
     "output_type": "stream",
     "text": [
      "2025-06-17 09:17:56,568 - INFO - Processing image /data/4-YQVM_9ac33726c539459d10cd6f6c97a6c9c77b0eefd4545f9eb551fbe334a9b59ad7/Dataset_4-YQVM/data/asset/Image/Multimodal_1271_Multimodal_2674_Multimodal_11474_Left_Field_2.jpg : , trial 4, color channel blue, resize function imgResize_secondary\n"
     ]
    },
    {
     "name": "stdout",
     "output_type": "stream",
     "text": [
      "1/1 [==============================] - 0s 21ms/step\n"
     ]
    },
    {
     "name": "stderr",
     "output_type": "stream",
     "text": [
      "2025-06-17 09:17:57,191 - INFO - Processing image /data/4-YQVM_9ac33726c539459d10cd6f6c97a6c9c77b0eefd4545f9eb551fbe334a9b59ad7/Dataset_4-YQVM/data/asset/Image/Multimodal_1271_Multimodal_2674_Multimodal_11474_Left_Field_2.jpg : , trial 1, color channel grey, resize function imgResize_primary\n"
     ]
    },
    {
     "name": "stdout",
     "output_type": "stream",
     "text": [
      "1/1 [==============================] - 0s 21ms/step\n"
     ]
    },
    {
     "name": "stderr",
     "output_type": "stream",
     "text": [
      "2025-06-17 09:17:57,708 - INFO - Processing image /data/4-YQVM_9ac33726c539459d10cd6f6c97a6c9c77b0eefd4545f9eb551fbe334a9b59ad7/Dataset_4-YQVM/data/asset/Image/Multimodal_1271_Multimodal_2674_Multimodal_11474_Left_Field_2.jpg : , trial 2, color channel green, resize function imgResize_primary\n"
     ]
    },
    {
     "name": "stdout",
     "output_type": "stream",
     "text": [
      "1/1 [==============================] - 0s 20ms/step\n"
     ]
    },
    {
     "name": "stderr",
     "output_type": "stream",
     "text": [
      "2025-06-17 09:17:58,253 - INFO - Processing image /data/4-YQVM_9ac33726c539459d10cd6f6c97a6c9c77b0eefd4545f9eb551fbe334a9b59ad7/Dataset_4-YQVM/data/asset/Image/Multimodal_1271_Multimodal_2674_Multimodal_11474_Left_Field_2.jpg : , trial 3, color channel red, resize function imgResize_primary\n"
     ]
    },
    {
     "name": "stdout",
     "output_type": "stream",
     "text": [
      "1/1 [==============================] - 0s 20ms/step\n"
     ]
    },
    {
     "name": "stderr",
     "output_type": "stream",
     "text": [
      "2025-06-17 09:17:58,924 - INFO - Processing image /data/4-YQVM_9ac33726c539459d10cd6f6c97a6c9c77b0eefd4545f9eb551fbe334a9b59ad7/Dataset_4-YQVM/data/asset/Image/Multimodal_1271_Multimodal_2674_Multimodal_11474_Left_Field_2.jpg : , trial 4, color channel blue, resize function imgResize_primary\n"
     ]
    },
    {
     "name": "stdout",
     "output_type": "stream",
     "text": [
      "1/1 [==============================] - 0s 21ms/step\n"
     ]
    },
    {
     "name": "stderr",
     "output_type": "stream",
     "text": [
      "2025-06-17 09:17:59,367 - INFO - Processing image /data/4-YQVM_9ac33726c539459d10cd6f6c97a6c9c77b0eefd4545f9eb551fbe334a9b59ad7/Dataset_4-YQVM/data/asset/Image/Multimodal_1271_Multimodal_2674_Multimodal_11474_Left_Field_2.jpg : , trial 1, color channel grey, resize function imgResize_secondary\n"
     ]
    },
    {
     "name": "stdout",
     "output_type": "stream",
     "text": [
      "1/1 [==============================] - 0s 21ms/step\n"
     ]
    },
    {
     "name": "stderr",
     "output_type": "stream",
     "text": [
      "2025-06-17 09:18:00,292 - INFO - Processing image /data/4-YQVM_9ac33726c539459d10cd6f6c97a6c9c77b0eefd4545f9eb551fbe334a9b59ad7/Dataset_4-YQVM/data/asset/Image/Multimodal_1271_Multimodal_2674_Multimodal_11474_Left_Field_2.jpg : , trial 2, color channel green, resize function imgResize_secondary\n"
     ]
    },
    {
     "name": "stdout",
     "output_type": "stream",
     "text": [
      "1/1 [==============================] - 0s 21ms/step\n"
     ]
    },
    {
     "name": "stderr",
     "output_type": "stream",
     "text": [
      "2025-06-17 09:18:00,934 - INFO - Processing image /data/4-YQVM_9ac33726c539459d10cd6f6c97a6c9c77b0eefd4545f9eb551fbe334a9b59ad7/Dataset_4-YQVM/data/asset/Image/Multimodal_1271_Multimodal_2674_Multimodal_11474_Left_Field_2.jpg : , trial 3, color channel red, resize function imgResize_secondary\n"
     ]
    },
    {
     "name": "stdout",
     "output_type": "stream",
     "text": [
      "1/1 [==============================] - 0s 21ms/step\n"
     ]
    },
    {
     "name": "stderr",
     "output_type": "stream",
     "text": [
      "2025-06-17 09:18:01,686 - INFO - Processing image /data/4-YQVM_9ac33726c539459d10cd6f6c97a6c9c77b0eefd4545f9eb551fbe334a9b59ad7/Dataset_4-YQVM/data/asset/Image/Multimodal_1271_Multimodal_2674_Multimodal_11474_Left_Field_2.jpg : , trial 4, color channel blue, resize function imgResize_secondary\n"
     ]
    },
    {
     "name": "stdout",
     "output_type": "stream",
     "text": [
      "1/1 [==============================] - 0s 21ms/step\n"
     ]
    },
    {
     "name": "stderr",
     "output_type": "stream",
     "text": [
      "2025-06-17 09:18:02,367 - INFO - Processing image /data/4-YQVM_9ac33726c539459d10cd6f6c97a6c9c77b0eefd4545f9eb551fbe334a9b59ad7/Dataset_4-YQVM/data/asset/Image/Multimodal_1271_Multimodal_2674_Multimodal_11474_Left_Field_2.jpg : , trial 1, color channel grey, resize function imgResize_primary\n"
     ]
    },
    {
     "name": "stdout",
     "output_type": "stream",
     "text": [
      "1/1 [==============================] - 0s 20ms/step\n"
     ]
    },
    {
     "name": "stderr",
     "output_type": "stream",
     "text": [
      "2025-06-17 09:18:03,016 - INFO - Processing image /data/4-YQVM_9ac33726c539459d10cd6f6c97a6c9c77b0eefd4545f9eb551fbe334a9b59ad7/Dataset_4-YQVM/data/asset/Image/Multimodal_1271_Multimodal_2674_Multimodal_11474_Left_Field_2.jpg : , trial 2, color channel green, resize function imgResize_primary\n"
     ]
    },
    {
     "name": "stdout",
     "output_type": "stream",
     "text": [
      "1/1 [==============================] - 0s 21ms/step\n"
     ]
    },
    {
     "name": "stderr",
     "output_type": "stream",
     "text": [
      "2025-06-17 09:18:03,630 - INFO - Processing image /data/4-YQVM_9ac33726c539459d10cd6f6c97a6c9c77b0eefd4545f9eb551fbe334a9b59ad7/Dataset_4-YQVM/data/asset/Image/Multimodal_1271_Multimodal_2674_Multimodal_11474_Left_Field_2.jpg : , trial 3, color channel red, resize function imgResize_primary\n"
     ]
    },
    {
     "name": "stdout",
     "output_type": "stream",
     "text": [
      "1/1 [==============================] - 0s 20ms/step\n"
     ]
    },
    {
     "name": "stderr",
     "output_type": "stream",
     "text": [
      "2025-06-17 09:18:04,253 - INFO - Processing image /data/4-YQVM_9ac33726c539459d10cd6f6c97a6c9c77b0eefd4545f9eb551fbe334a9b59ad7/Dataset_4-YQVM/data/asset/Image/Multimodal_1271_Multimodal_2674_Multimodal_11474_Left_Field_2.jpg : , trial 4, color channel blue, resize function imgResize_primary\n"
     ]
    },
    {
     "name": "stdout",
     "output_type": "stream",
     "text": [
      "1/1 [==============================] - 0s 20ms/step\n"
     ]
    },
    {
     "name": "stderr",
     "output_type": "stream",
     "text": [
      "2025-06-17 09:18:04,670 - INFO - Processing image /data/4-YQVM_9ac33726c539459d10cd6f6c97a6c9c77b0eefd4545f9eb551fbe334a9b59ad7/Dataset_4-YQVM/data/asset/Image/Multimodal_1271_Multimodal_2674_Multimodal_11474_Left_Field_2.jpg : , trial 1, color channel grey, resize function imgResize_secondary\n"
     ]
    },
    {
     "name": "stdout",
     "output_type": "stream",
     "text": [
      "1/1 [==============================] - 0s 21ms/step\n"
     ]
    },
    {
     "name": "stderr",
     "output_type": "stream",
     "text": [
      "2025-06-17 09:18:05,366 - INFO - Processing image /data/4-YQVM_9ac33726c539459d10cd6f6c97a6c9c77b0eefd4545f9eb551fbe334a9b59ad7/Dataset_4-YQVM/data/asset/Image/Multimodal_1271_Multimodal_2674_Multimodal_11474_Left_Field_2.jpg : , trial 2, color channel green, resize function imgResize_secondary\n"
     ]
    },
    {
     "name": "stdout",
     "output_type": "stream",
     "text": [
      "1/1 [==============================] - 0s 21ms/step\n"
     ]
    },
    {
     "name": "stderr",
     "output_type": "stream",
     "text": [
      "2025-06-17 09:18:06,037 - INFO - Processing image /data/4-YQVM_9ac33726c539459d10cd6f6c97a6c9c77b0eefd4545f9eb551fbe334a9b59ad7/Dataset_4-YQVM/data/asset/Image/Multimodal_1271_Multimodal_2674_Multimodal_11474_Left_Field_2.jpg : , trial 3, color channel red, resize function imgResize_secondary\n"
     ]
    },
    {
     "name": "stdout",
     "output_type": "stream",
     "text": [
      "1/1 [==============================] - 0s 21ms/step\n"
     ]
    },
    {
     "name": "stderr",
     "output_type": "stream",
     "text": [
      "2025-06-17 09:18:07,021 - INFO - Processing image /data/4-YQVM_9ac33726c539459d10cd6f6c97a6c9c77b0eefd4545f9eb551fbe334a9b59ad7/Dataset_4-YQVM/data/asset/Image/Multimodal_1271_Multimodal_2674_Multimodal_11474_Left_Field_2.jpg : , trial 4, color channel blue, resize function imgResize_secondary\n"
     ]
    },
    {
     "name": "stdout",
     "output_type": "stream",
     "text": [
      "1/1 [==============================] - 0s 21ms/step\n"
     ]
    },
    {
     "name": "stderr",
     "output_type": "stream",
     "text": [
      "2025-06-17 09:18:07,707 - INFO - SVG for 4-YS3W saved.\n",
      "2025-06-17 09:18:07,766 - INFO - Processing image /data/4-YQVM_9ac33726c539459d10cd6f6c97a6c9c77b0eefd4545f9eb551fbe334a9b59ad7/Dataset_4-YQVM/data/asset/Image/Multimodal_1284_Multimodal_2695_Multimodal_11495_Left_Field_2.jpg : , trial 1, color channel grey, resize function imgResize_primary\n"
     ]
    },
    {
     "name": "stdout",
     "output_type": "stream",
     "text": [
      "1/1 [==============================] - 0s 21ms/step\n"
     ]
    },
    {
     "name": "stderr",
     "output_type": "stream",
     "text": [
      "2025-06-17 09:18:08,376 - INFO - SVG for 4-YS3Y saved.\n",
      "2025-06-17 09:18:08,432 - INFO - Processing image /data/4-YQVM_9ac33726c539459d10cd6f6c97a6c9c77b0eefd4545f9eb551fbe334a9b59ad7/Dataset_4-YQVM/data/asset/Image/Multimodal_1250_Multimodal_2640_Multimodal_11440_Left_Field_1.jpg : , trial 1, color channel grey, resize function imgResize_primary\n"
     ]
    },
    {
     "name": "stdout",
     "output_type": "stream",
     "text": [
      "1/1 [==============================] - 0s 20ms/step\n"
     ]
    },
    {
     "name": "stderr",
     "output_type": "stream",
     "text": [
      "2025-06-17 09:18:09,081 - INFO - SVG for 4-YS40 saved.\n",
      "2025-06-17 09:18:09,141 - INFO - Processing image /data/4-YQVM_9ac33726c539459d10cd6f6c97a6c9c77b0eefd4545f9eb551fbe334a9b59ad7/Dataset_4-YQVM/data/asset/Image/Multimodal_1227_Multimodal_2597_Multimodal_11396_Right_Field_2.jpg : , trial 1, color channel grey, resize function imgResize_primary\n"
     ]
    },
    {
     "name": "stdout",
     "output_type": "stream",
     "text": [
      "1/1 [==============================] - 0s 20ms/step\n"
     ]
    },
    {
     "name": "stderr",
     "output_type": "stream",
     "text": [
      "2025-06-17 09:18:09,774 - INFO - SVG for 4-YS42 saved.\n",
      "2025-06-17 09:18:09,832 - INFO - Processing image /data/4-YQVM_9ac33726c539459d10cd6f6c97a6c9c77b0eefd4545f9eb551fbe334a9b59ad7/Dataset_4-YQVM/data/asset/Image/Multimodal_1308_Multimodal_2740_Multimodal_11539_Left_Field_2.jpg : , trial 1, color channel grey, resize function imgResize_primary\n"
     ]
    },
    {
     "name": "stdout",
     "output_type": "stream",
     "text": [
      "1/1 [==============================] - 0s 22ms/step\n"
     ]
    },
    {
     "name": "stderr",
     "output_type": "stream",
     "text": [
      "2025-06-17 09:18:10,474 - INFO - SVG for 4-YS44 saved.\n",
      "2025-06-17 09:18:10,533 - INFO - Processing image /data/4-YQVM_9ac33726c539459d10cd6f6c97a6c9c77b0eefd4545f9eb551fbe334a9b59ad7/Dataset_4-YQVM/data/asset/Image/Multimodal_1266_Multimodal_2666_Multimodal_11466_Left_Field_1.jpg : , trial 1, color channel grey, resize function imgResize_primary\n"
     ]
    },
    {
     "name": "stdout",
     "output_type": "stream",
     "text": [
      "1/1 [==============================] - 0s 20ms/step\n"
     ]
    },
    {
     "name": "stderr",
     "output_type": "stream",
     "text": [
      "2025-06-17 09:18:11,193 - INFO - Processing image /data/4-YQVM_9ac33726c539459d10cd6f6c97a6c9c77b0eefd4545f9eb551fbe334a9b59ad7/Dataset_4-YQVM/data/asset/Image/Multimodal_1266_Multimodal_2666_Multimodal_11466_Left_Field_1.jpg : , trial 2, color channel green, resize function imgResize_primary\n"
     ]
    },
    {
     "name": "stdout",
     "output_type": "stream",
     "text": [
      "1/1 [==============================] - 0s 20ms/step\n"
     ]
    },
    {
     "name": "stderr",
     "output_type": "stream",
     "text": [
      "2025-06-17 09:18:11,842 - INFO - Processing image /data/4-YQVM_9ac33726c539459d10cd6f6c97a6c9c77b0eefd4545f9eb551fbe334a9b59ad7/Dataset_4-YQVM/data/asset/Image/Multimodal_1266_Multimodal_2666_Multimodal_11466_Left_Field_1.jpg : , trial 3, color channel red, resize function imgResize_primary\n"
     ]
    },
    {
     "name": "stdout",
     "output_type": "stream",
     "text": [
      "1/1 [==============================] - 0s 21ms/step\n"
     ]
    },
    {
     "name": "stderr",
     "output_type": "stream",
     "text": [
      "2025-06-17 09:18:12,581 - INFO - Processing image /data/4-YQVM_9ac33726c539459d10cd6f6c97a6c9c77b0eefd4545f9eb551fbe334a9b59ad7/Dataset_4-YQVM/data/asset/Image/Multimodal_1266_Multimodal_2666_Multimodal_11466_Left_Field_1.jpg : , trial 4, color channel blue, resize function imgResize_primary\n"
     ]
    },
    {
     "name": "stdout",
     "output_type": "stream",
     "text": [
      "1/1 [==============================] - 0s 20ms/step\n"
     ]
    },
    {
     "name": "stderr",
     "output_type": "stream",
     "text": [
      "2025-06-17 09:18:13,125 - INFO - Processing image /data/4-YQVM_9ac33726c539459d10cd6f6c97a6c9c77b0eefd4545f9eb551fbe334a9b59ad7/Dataset_4-YQVM/data/asset/Image/Multimodal_1266_Multimodal_2666_Multimodal_11466_Left_Field_1.jpg : , trial 1, color channel grey, resize function imgResize_secondary\n"
     ]
    },
    {
     "name": "stdout",
     "output_type": "stream",
     "text": [
      "1/1 [==============================] - 0s 21ms/step\n"
     ]
    },
    {
     "name": "stderr",
     "output_type": "stream",
     "text": [
      "2025-06-17 09:18:14,034 - INFO - SVG for 4-YS46 saved.\n",
      "2025-06-17 09:18:14,094 - INFO - Processing image /data/4-YQVM_9ac33726c539459d10cd6f6c97a6c9c77b0eefd4545f9eb551fbe334a9b59ad7/Dataset_4-YQVM/data/asset/Image/Multimodal_1269_Multimodal_2671_Multimodal_11470_Left_Field_2.jpg : , trial 1, color channel grey, resize function imgResize_primary\n"
     ]
    },
    {
     "name": "stdout",
     "output_type": "stream",
     "text": [
      "1/1 [==============================] - 0s 20ms/step\n"
     ]
    },
    {
     "name": "stderr",
     "output_type": "stream",
     "text": [
      "2025-06-17 09:18:14,684 - INFO - Processing image /data/4-YQVM_9ac33726c539459d10cd6f6c97a6c9c77b0eefd4545f9eb551fbe334a9b59ad7/Dataset_4-YQVM/data/asset/Image/Multimodal_1269_Multimodal_2671_Multimodal_11470_Left_Field_2.jpg : , trial 2, color channel green, resize function imgResize_primary\n"
     ]
    },
    {
     "name": "stdout",
     "output_type": "stream",
     "text": [
      "1/1 [==============================] - 0s 21ms/step\n"
     ]
    },
    {
     "name": "stderr",
     "output_type": "stream",
     "text": [
      "2025-06-17 09:18:15,304 - INFO - Processing image /data/4-YQVM_9ac33726c539459d10cd6f6c97a6c9c77b0eefd4545f9eb551fbe334a9b59ad7/Dataset_4-YQVM/data/asset/Image/Multimodal_1269_Multimodal_2671_Multimodal_11470_Left_Field_2.jpg : , trial 3, color channel red, resize function imgResize_primary\n"
     ]
    },
    {
     "name": "stdout",
     "output_type": "stream",
     "text": [
      "1/1 [==============================] - 0s 20ms/step\n"
     ]
    },
    {
     "name": "stderr",
     "output_type": "stream",
     "text": [
      "2025-06-17 09:18:15,917 - INFO - SVG for 4-YS48 saved.\n",
      "2025-06-17 09:18:15,974 - INFO - Processing image /data/4-YQVM_9ac33726c539459d10cd6f6c97a6c9c77b0eefd4545f9eb551fbe334a9b59ad7/Dataset_4-YQVM/data/asset/Image/Multimodal_1316_Multimodal_2752_Multimodal_11552_Left_Field_2.jpg : , trial 1, color channel grey, resize function imgResize_primary\n"
     ]
    },
    {
     "name": "stdout",
     "output_type": "stream",
     "text": [
      "1/1 [==============================] - 0s 21ms/step\n"
     ]
    },
    {
     "name": "stderr",
     "output_type": "stream",
     "text": [
      "2025-06-17 09:18:16,715 - INFO - SVG for 4-YS4A saved.\n",
      "2025-06-17 09:18:16,774 - INFO - Processing image /data/4-YQVM_9ac33726c539459d10cd6f6c97a6c9c77b0eefd4545f9eb551fbe334a9b59ad7/Dataset_4-YQVM/data/asset/Image/Multimodal_1331_Multimodal_2781_Multimodal_11580_Right_Field_2.jpg : , trial 1, color channel grey, resize function imgResize_primary\n"
     ]
    },
    {
     "name": "stdout",
     "output_type": "stream",
     "text": [
      "1/1 [==============================] - 0s 21ms/step\n"
     ]
    },
    {
     "name": "stderr",
     "output_type": "stream",
     "text": [
      "2025-06-17 09:18:17,490 - INFO - SVG for 4-YS4C saved.\n",
      "2025-06-17 09:18:17,549 - INFO - Processing image /data/4-YQVM_9ac33726c539459d10cd6f6c97a6c9c77b0eefd4545f9eb551fbe334a9b59ad7/Dataset_4-YQVM/data/asset/Image/Multimodal_1270_Multimodal_2672_Multimodal_11472_Left_Field_2.jpg : , trial 1, color channel grey, resize function imgResize_primary\n"
     ]
    },
    {
     "name": "stdout",
     "output_type": "stream",
     "text": [
      "1/1 [==============================] - 0s 20ms/step\n"
     ]
    },
    {
     "name": "stderr",
     "output_type": "stream",
     "text": [
      "2025-06-17 09:18:18,111 - INFO - Processing image /data/4-YQVM_9ac33726c539459d10cd6f6c97a6c9c77b0eefd4545f9eb551fbe334a9b59ad7/Dataset_4-YQVM/data/asset/Image/Multimodal_1270_Multimodal_2672_Multimodal_11472_Left_Field_2.jpg : , trial 2, color channel green, resize function imgResize_primary\n"
     ]
    },
    {
     "name": "stdout",
     "output_type": "stream",
     "text": [
      "1/1 [==============================] - 0s 21ms/step\n"
     ]
    },
    {
     "name": "stderr",
     "output_type": "stream",
     "text": [
      "2025-06-17 09:18:18,570 - INFO - Processing image /data/4-YQVM_9ac33726c539459d10cd6f6c97a6c9c77b0eefd4545f9eb551fbe334a9b59ad7/Dataset_4-YQVM/data/asset/Image/Multimodal_1270_Multimodal_2672_Multimodal_11472_Left_Field_2.jpg : , trial 3, color channel red, resize function imgResize_primary\n"
     ]
    },
    {
     "name": "stdout",
     "output_type": "stream",
     "text": [
      "1/1 [==============================] - 0s 20ms/step\n"
     ]
    },
    {
     "name": "stderr",
     "output_type": "stream",
     "text": [
      "2025-06-17 09:18:19,036 - INFO - Processing image /data/4-YQVM_9ac33726c539459d10cd6f6c97a6c9c77b0eefd4545f9eb551fbe334a9b59ad7/Dataset_4-YQVM/data/asset/Image/Multimodal_1270_Multimodal_2672_Multimodal_11472_Left_Field_2.jpg : , trial 4, color channel blue, resize function imgResize_primary\n"
     ]
    },
    {
     "name": "stdout",
     "output_type": "stream",
     "text": [
      "1/1 [==============================] - 0s 21ms/step\n"
     ]
    },
    {
     "name": "stderr",
     "output_type": "stream",
     "text": [
      "2025-06-17 09:18:19,516 - INFO - Processing image /data/4-YQVM_9ac33726c539459d10cd6f6c97a6c9c77b0eefd4545f9eb551fbe334a9b59ad7/Dataset_4-YQVM/data/asset/Image/Multimodal_1270_Multimodal_2672_Multimodal_11472_Left_Field_2.jpg : , trial 1, color channel grey, resize function imgResize_secondary\n"
     ]
    },
    {
     "name": "stdout",
     "output_type": "stream",
     "text": [
      "1/1 [==============================] - 0s 21ms/step\n"
     ]
    },
    {
     "name": "stderr",
     "output_type": "stream",
     "text": [
      "2025-06-17 09:18:20,190 - INFO - Processing image /data/4-YQVM_9ac33726c539459d10cd6f6c97a6c9c77b0eefd4545f9eb551fbe334a9b59ad7/Dataset_4-YQVM/data/asset/Image/Multimodal_1270_Multimodal_2672_Multimodal_11472_Left_Field_2.jpg : , trial 2, color channel green, resize function imgResize_secondary\n"
     ]
    },
    {
     "name": "stdout",
     "output_type": "stream",
     "text": [
      "1/1 [==============================] - 0s 21ms/step\n"
     ]
    },
    {
     "name": "stderr",
     "output_type": "stream",
     "text": [
      "2025-06-17 09:18:20,965 - INFO - Processing image /data/4-YQVM_9ac33726c539459d10cd6f6c97a6c9c77b0eefd4545f9eb551fbe334a9b59ad7/Dataset_4-YQVM/data/asset/Image/Multimodal_1270_Multimodal_2672_Multimodal_11472_Left_Field_2.jpg : , trial 3, color channel red, resize function imgResize_secondary\n"
     ]
    },
    {
     "name": "stdout",
     "output_type": "stream",
     "text": [
      "1/1 [==============================] - 0s 20ms/step\n"
     ]
    },
    {
     "name": "stderr",
     "output_type": "stream",
     "text": [
      "2025-06-17 09:18:21,674 - INFO - Processing image /data/4-YQVM_9ac33726c539459d10cd6f6c97a6c9c77b0eefd4545f9eb551fbe334a9b59ad7/Dataset_4-YQVM/data/asset/Image/Multimodal_1270_Multimodal_2672_Multimodal_11472_Left_Field_2.jpg : , trial 4, color channel blue, resize function imgResize_secondary\n"
     ]
    },
    {
     "name": "stdout",
     "output_type": "stream",
     "text": [
      "1/1 [==============================] - 0s 21ms/step\n"
     ]
    },
    {
     "name": "stderr",
     "output_type": "stream",
     "text": [
      "2025-06-17 09:18:22,359 - INFO - Processing image /data/4-YQVM_9ac33726c539459d10cd6f6c97a6c9c77b0eefd4545f9eb551fbe334a9b59ad7/Dataset_4-YQVM/data/asset/Image/Multimodal_1270_Multimodal_2672_Multimodal_11472_Left_Field_2.jpg : , trial 1, color channel grey, resize function imgResize_primary\n"
     ]
    },
    {
     "name": "stdout",
     "output_type": "stream",
     "text": [
      "1/1 [==============================] - 0s 20ms/step\n"
     ]
    },
    {
     "name": "stderr",
     "output_type": "stream",
     "text": [
      "2025-06-17 09:18:22,882 - INFO - Processing image /data/4-YQVM_9ac33726c539459d10cd6f6c97a6c9c77b0eefd4545f9eb551fbe334a9b59ad7/Dataset_4-YQVM/data/asset/Image/Multimodal_1270_Multimodal_2672_Multimodal_11472_Left_Field_2.jpg : , trial 2, color channel green, resize function imgResize_primary\n"
     ]
    },
    {
     "name": "stdout",
     "output_type": "stream",
     "text": [
      "1/1 [==============================] - 0s 20ms/step\n"
     ]
    },
    {
     "name": "stderr",
     "output_type": "stream",
     "text": [
      "2025-06-17 09:18:23,413 - INFO - Processing image /data/4-YQVM_9ac33726c539459d10cd6f6c97a6c9c77b0eefd4545f9eb551fbe334a9b59ad7/Dataset_4-YQVM/data/asset/Image/Multimodal_1270_Multimodal_2672_Multimodal_11472_Left_Field_2.jpg : , trial 3, color channel red, resize function imgResize_primary\n"
     ]
    },
    {
     "name": "stdout",
     "output_type": "stream",
     "text": [
      "1/1 [==============================] - 0s 20ms/step\n"
     ]
    },
    {
     "name": "stderr",
     "output_type": "stream",
     "text": [
      "2025-06-17 09:18:23,975 - INFO - Processing image /data/4-YQVM_9ac33726c539459d10cd6f6c97a6c9c77b0eefd4545f9eb551fbe334a9b59ad7/Dataset_4-YQVM/data/asset/Image/Multimodal_1270_Multimodal_2672_Multimodal_11472_Left_Field_2.jpg : , trial 4, color channel blue, resize function imgResize_primary\n"
     ]
    },
    {
     "name": "stdout",
     "output_type": "stream",
     "text": [
      "1/1 [==============================] - 0s 21ms/step\n"
     ]
    },
    {
     "name": "stderr",
     "output_type": "stream",
     "text": [
      "2025-06-17 09:18:24,433 - INFO - Processing image /data/4-YQVM_9ac33726c539459d10cd6f6c97a6c9c77b0eefd4545f9eb551fbe334a9b59ad7/Dataset_4-YQVM/data/asset/Image/Multimodal_1270_Multimodal_2672_Multimodal_11472_Left_Field_2.jpg : , trial 1, color channel grey, resize function imgResize_secondary\n"
     ]
    },
    {
     "name": "stdout",
     "output_type": "stream",
     "text": [
      "1/1 [==============================] - 0s 20ms/step\n"
     ]
    },
    {
     "name": "stderr",
     "output_type": "stream",
     "text": [
      "2025-06-17 09:18:25,151 - INFO - Processing image /data/4-YQVM_9ac33726c539459d10cd6f6c97a6c9c77b0eefd4545f9eb551fbe334a9b59ad7/Dataset_4-YQVM/data/asset/Image/Multimodal_1270_Multimodal_2672_Multimodal_11472_Left_Field_2.jpg : , trial 2, color channel green, resize function imgResize_secondary\n"
     ]
    },
    {
     "name": "stdout",
     "output_type": "stream",
     "text": [
      "1/1 [==============================] - 0s 21ms/step\n"
     ]
    },
    {
     "name": "stderr",
     "output_type": "stream",
     "text": [
      "2025-06-17 09:18:25,733 - INFO - Processing image /data/4-YQVM_9ac33726c539459d10cd6f6c97a6c9c77b0eefd4545f9eb551fbe334a9b59ad7/Dataset_4-YQVM/data/asset/Image/Multimodal_1270_Multimodal_2672_Multimodal_11472_Left_Field_2.jpg : , trial 3, color channel red, resize function imgResize_secondary\n"
     ]
    },
    {
     "name": "stdout",
     "output_type": "stream",
     "text": [
      "1/1 [==============================] - 0s 20ms/step\n"
     ]
    },
    {
     "name": "stderr",
     "output_type": "stream",
     "text": [
      "2025-06-17 09:18:26,647 - INFO - Processing image /data/4-YQVM_9ac33726c539459d10cd6f6c97a6c9c77b0eefd4545f9eb551fbe334a9b59ad7/Dataset_4-YQVM/data/asset/Image/Multimodal_1270_Multimodal_2672_Multimodal_11472_Left_Field_2.jpg : , trial 4, color channel blue, resize function imgResize_secondary\n"
     ]
    },
    {
     "name": "stdout",
     "output_type": "stream",
     "text": [
      "1/1 [==============================] - 0s 21ms/step\n"
     ]
    },
    {
     "name": "stderr",
     "output_type": "stream",
     "text": [
      "2025-06-17 09:18:27,283 - INFO - Processing image /data/4-YQVM_9ac33726c539459d10cd6f6c97a6c9c77b0eefd4545f9eb551fbe334a9b59ad7/Dataset_4-YQVM/data/asset/Image/Multimodal_1270_Multimodal_2672_Multimodal_11472_Left_Field_2.jpg : , trial 1, color channel grey, resize function imgResize_primary\n"
     ]
    },
    {
     "name": "stdout",
     "output_type": "stream",
     "text": [
      "1/1 [==============================] - 0s 20ms/step\n"
     ]
    },
    {
     "name": "stderr",
     "output_type": "stream",
     "text": [
      "2025-06-17 09:18:27,734 - INFO - Processing image /data/4-YQVM_9ac33726c539459d10cd6f6c97a6c9c77b0eefd4545f9eb551fbe334a9b59ad7/Dataset_4-YQVM/data/asset/Image/Multimodal_1270_Multimodal_2672_Multimodal_11472_Left_Field_2.jpg : , trial 2, color channel green, resize function imgResize_primary\n"
     ]
    },
    {
     "name": "stdout",
     "output_type": "stream",
     "text": [
      "1/1 [==============================] - 0s 20ms/step\n"
     ]
    },
    {
     "name": "stderr",
     "output_type": "stream",
     "text": [
      "2025-06-17 09:18:28,156 - INFO - Processing image /data/4-YQVM_9ac33726c539459d10cd6f6c97a6c9c77b0eefd4545f9eb551fbe334a9b59ad7/Dataset_4-YQVM/data/asset/Image/Multimodal_1270_Multimodal_2672_Multimodal_11472_Left_Field_2.jpg : , trial 3, color channel red, resize function imgResize_primary\n"
     ]
    },
    {
     "name": "stdout",
     "output_type": "stream",
     "text": [
      "1/1 [==============================] - 0s 20ms/step\n"
     ]
    },
    {
     "name": "stderr",
     "output_type": "stream",
     "text": [
      "2025-06-17 09:18:28,659 - INFO - Processing image /data/4-YQVM_9ac33726c539459d10cd6f6c97a6c9c77b0eefd4545f9eb551fbe334a9b59ad7/Dataset_4-YQVM/data/asset/Image/Multimodal_1270_Multimodal_2672_Multimodal_11472_Left_Field_2.jpg : , trial 4, color channel blue, resize function imgResize_primary\n"
     ]
    },
    {
     "name": "stdout",
     "output_type": "stream",
     "text": [
      "1/1 [==============================] - 0s 20ms/step\n"
     ]
    },
    {
     "name": "stderr",
     "output_type": "stream",
     "text": [
      "2025-06-17 09:18:29,053 - INFO - Processing image /data/4-YQVM_9ac33726c539459d10cd6f6c97a6c9c77b0eefd4545f9eb551fbe334a9b59ad7/Dataset_4-YQVM/data/asset/Image/Multimodal_1270_Multimodal_2672_Multimodal_11472_Left_Field_2.jpg : , trial 1, color channel grey, resize function imgResize_secondary\n"
     ]
    },
    {
     "name": "stdout",
     "output_type": "stream",
     "text": [
      "1/1 [==============================] - 0s 21ms/step\n"
     ]
    },
    {
     "name": "stderr",
     "output_type": "stream",
     "text": [
      "2025-06-17 09:18:29,739 - INFO - Processing image /data/4-YQVM_9ac33726c539459d10cd6f6c97a6c9c77b0eefd4545f9eb551fbe334a9b59ad7/Dataset_4-YQVM/data/asset/Image/Multimodal_1270_Multimodal_2672_Multimodal_11472_Left_Field_2.jpg : , trial 2, color channel green, resize function imgResize_secondary\n"
     ]
    },
    {
     "name": "stdout",
     "output_type": "stream",
     "text": [
      "1/1 [==============================] - 0s 21ms/step\n"
     ]
    },
    {
     "name": "stderr",
     "output_type": "stream",
     "text": [
      "2025-06-17 09:18:30,337 - INFO - Processing image /data/4-YQVM_9ac33726c539459d10cd6f6c97a6c9c77b0eefd4545f9eb551fbe334a9b59ad7/Dataset_4-YQVM/data/asset/Image/Multimodal_1270_Multimodal_2672_Multimodal_11472_Left_Field_2.jpg : , trial 3, color channel red, resize function imgResize_secondary\n"
     ]
    },
    {
     "name": "stdout",
     "output_type": "stream",
     "text": [
      "1/1 [==============================] - 0s 20ms/step\n"
     ]
    },
    {
     "name": "stderr",
     "output_type": "stream",
     "text": [
      "2025-06-17 09:18:31,170 - INFO - Processing image /data/4-YQVM_9ac33726c539459d10cd6f6c97a6c9c77b0eefd4545f9eb551fbe334a9b59ad7/Dataset_4-YQVM/data/asset/Image/Multimodal_1270_Multimodal_2672_Multimodal_11472_Left_Field_2.jpg : , trial 4, color channel blue, resize function imgResize_secondary\n"
     ]
    },
    {
     "name": "stdout",
     "output_type": "stream",
     "text": [
      "1/1 [==============================] - 0s 21ms/step\n"
     ]
    },
    {
     "name": "stderr",
     "output_type": "stream",
     "text": [
      "2025-06-17 09:18:31,755 - INFO - Processing image /data/4-YQVM_9ac33726c539459d10cd6f6c97a6c9c77b0eefd4545f9eb551fbe334a9b59ad7/Dataset_4-YQVM/data/asset/Image/Multimodal_1270_Multimodal_2672_Multimodal_11472_Left_Field_2.jpg : , trial 1, color channel grey, resize function imgResize_primary\n"
     ]
    },
    {
     "name": "stdout",
     "output_type": "stream",
     "text": [
      "1/1 [==============================] - 0s 20ms/step\n"
     ]
    },
    {
     "name": "stderr",
     "output_type": "stream",
     "text": [
      "2025-06-17 09:18:32,221 - INFO - Processing image /data/4-YQVM_9ac33726c539459d10cd6f6c97a6c9c77b0eefd4545f9eb551fbe334a9b59ad7/Dataset_4-YQVM/data/asset/Image/Multimodal_1270_Multimodal_2672_Multimodal_11472_Left_Field_2.jpg : , trial 2, color channel green, resize function imgResize_primary\n"
     ]
    },
    {
     "name": "stdout",
     "output_type": "stream",
     "text": [
      "1/1 [==============================] - 0s 20ms/step\n"
     ]
    },
    {
     "name": "stderr",
     "output_type": "stream",
     "text": [
      "2025-06-17 09:18:32,714 - INFO - Processing image /data/4-YQVM_9ac33726c539459d10cd6f6c97a6c9c77b0eefd4545f9eb551fbe334a9b59ad7/Dataset_4-YQVM/data/asset/Image/Multimodal_1270_Multimodal_2672_Multimodal_11472_Left_Field_2.jpg : , trial 3, color channel red, resize function imgResize_primary\n"
     ]
    },
    {
     "name": "stdout",
     "output_type": "stream",
     "text": [
      "1/1 [==============================] - 0s 20ms/step\n"
     ]
    },
    {
     "name": "stderr",
     "output_type": "stream",
     "text": [
      "2025-06-17 09:18:33,160 - INFO - Processing image /data/4-YQVM_9ac33726c539459d10cd6f6c97a6c9c77b0eefd4545f9eb551fbe334a9b59ad7/Dataset_4-YQVM/data/asset/Image/Multimodal_1270_Multimodal_2672_Multimodal_11472_Left_Field_2.jpg : , trial 4, color channel blue, resize function imgResize_primary\n"
     ]
    },
    {
     "name": "stdout",
     "output_type": "stream",
     "text": [
      "1/1 [==============================] - 0s 21ms/step\n"
     ]
    },
    {
     "name": "stderr",
     "output_type": "stream",
     "text": [
      "2025-06-17 09:18:33,599 - INFO - Processing image /data/4-YQVM_9ac33726c539459d10cd6f6c97a6c9c77b0eefd4545f9eb551fbe334a9b59ad7/Dataset_4-YQVM/data/asset/Image/Multimodal_1270_Multimodal_2672_Multimodal_11472_Left_Field_2.jpg : , trial 1, color channel grey, resize function imgResize_secondary\n"
     ]
    },
    {
     "name": "stdout",
     "output_type": "stream",
     "text": [
      "1/1 [==============================] - 0s 20ms/step\n"
     ]
    },
    {
     "name": "stderr",
     "output_type": "stream",
     "text": [
      "2025-06-17 09:18:34,298 - INFO - Processing image /data/4-YQVM_9ac33726c539459d10cd6f6c97a6c9c77b0eefd4545f9eb551fbe334a9b59ad7/Dataset_4-YQVM/data/asset/Image/Multimodal_1270_Multimodal_2672_Multimodal_11472_Left_Field_2.jpg : , trial 2, color channel green, resize function imgResize_secondary\n"
     ]
    },
    {
     "name": "stdout",
     "output_type": "stream",
     "text": [
      "1/1 [==============================] - 0s 20ms/step\n"
     ]
    },
    {
     "name": "stderr",
     "output_type": "stream",
     "text": [
      "2025-06-17 09:18:34,944 - INFO - Processing image /data/4-YQVM_9ac33726c539459d10cd6f6c97a6c9c77b0eefd4545f9eb551fbe334a9b59ad7/Dataset_4-YQVM/data/asset/Image/Multimodal_1270_Multimodal_2672_Multimodal_11472_Left_Field_2.jpg : , trial 3, color channel red, resize function imgResize_secondary\n"
     ]
    },
    {
     "name": "stdout",
     "output_type": "stream",
     "text": [
      "1/1 [==============================] - 0s 21ms/step\n"
     ]
    },
    {
     "name": "stderr",
     "output_type": "stream",
     "text": [
      "2025-06-17 09:18:35,754 - INFO - Processing image /data/4-YQVM_9ac33726c539459d10cd6f6c97a6c9c77b0eefd4545f9eb551fbe334a9b59ad7/Dataset_4-YQVM/data/asset/Image/Multimodal_1270_Multimodal_2672_Multimodal_11472_Left_Field_2.jpg : , trial 4, color channel blue, resize function imgResize_secondary\n"
     ]
    },
    {
     "name": "stdout",
     "output_type": "stream",
     "text": [
      "1/1 [==============================] - 0s 20ms/step\n"
     ]
    },
    {
     "name": "stderr",
     "output_type": "stream",
     "text": [
      "2025-06-17 09:18:36,391 - INFO - Processing image /data/4-YQVM_9ac33726c539459d10cd6f6c97a6c9c77b0eefd4545f9eb551fbe334a9b59ad7/Dataset_4-YQVM/data/asset/Image/Multimodal_1270_Multimodal_2672_Multimodal_11472_Left_Field_2.jpg : , trial 1, color channel grey, resize function imgResize_primary\n"
     ]
    },
    {
     "name": "stdout",
     "output_type": "stream",
     "text": [
      "1/1 [==============================] - 0s 20ms/step\n"
     ]
    },
    {
     "name": "stderr",
     "output_type": "stream",
     "text": [
      "2025-06-17 09:18:36,797 - INFO - Processing image /data/4-YQVM_9ac33726c539459d10cd6f6c97a6c9c77b0eefd4545f9eb551fbe334a9b59ad7/Dataset_4-YQVM/data/asset/Image/Multimodal_1270_Multimodal_2672_Multimodal_11472_Left_Field_2.jpg : , trial 2, color channel green, resize function imgResize_primary\n"
     ]
    },
    {
     "name": "stdout",
     "output_type": "stream",
     "text": [
      "1/1 [==============================] - 0s 20ms/step\n"
     ]
    },
    {
     "name": "stderr",
     "output_type": "stream",
     "text": [
      "2025-06-17 09:18:37,291 - INFO - Processing image /data/4-YQVM_9ac33726c539459d10cd6f6c97a6c9c77b0eefd4545f9eb551fbe334a9b59ad7/Dataset_4-YQVM/data/asset/Image/Multimodal_1270_Multimodal_2672_Multimodal_11472_Left_Field_2.jpg : , trial 3, color channel red, resize function imgResize_primary\n"
     ]
    },
    {
     "name": "stdout",
     "output_type": "stream",
     "text": [
      "1/1 [==============================] - 0s 20ms/step\n"
     ]
    },
    {
     "name": "stderr",
     "output_type": "stream",
     "text": [
      "2025-06-17 09:18:37,796 - INFO - Processing image /data/4-YQVM_9ac33726c539459d10cd6f6c97a6c9c77b0eefd4545f9eb551fbe334a9b59ad7/Dataset_4-YQVM/data/asset/Image/Multimodal_1270_Multimodal_2672_Multimodal_11472_Left_Field_2.jpg : , trial 4, color channel blue, resize function imgResize_primary\n"
     ]
    },
    {
     "name": "stdout",
     "output_type": "stream",
     "text": [
      "1/1 [==============================] - 0s 21ms/step\n"
     ]
    },
    {
     "name": "stderr",
     "output_type": "stream",
     "text": [
      "2025-06-17 09:18:38,223 - INFO - Processing image /data/4-YQVM_9ac33726c539459d10cd6f6c97a6c9c77b0eefd4545f9eb551fbe334a9b59ad7/Dataset_4-YQVM/data/asset/Image/Multimodal_1270_Multimodal_2672_Multimodal_11472_Left_Field_2.jpg : , trial 1, color channel grey, resize function imgResize_secondary\n"
     ]
    },
    {
     "name": "stdout",
     "output_type": "stream",
     "text": [
      "1/1 [==============================] - 0s 20ms/step\n"
     ]
    },
    {
     "name": "stderr",
     "output_type": "stream",
     "text": [
      "2025-06-17 09:18:38,857 - INFO - Processing image /data/4-YQVM_9ac33726c539459d10cd6f6c97a6c9c77b0eefd4545f9eb551fbe334a9b59ad7/Dataset_4-YQVM/data/asset/Image/Multimodal_1270_Multimodal_2672_Multimodal_11472_Left_Field_2.jpg : , trial 2, color channel green, resize function imgResize_secondary\n"
     ]
    },
    {
     "name": "stdout",
     "output_type": "stream",
     "text": [
      "1/1 [==============================] - 0s 21ms/step\n"
     ]
    },
    {
     "name": "stderr",
     "output_type": "stream",
     "text": [
      "2025-06-17 09:18:39,549 - INFO - Processing image /data/4-YQVM_9ac33726c539459d10cd6f6c97a6c9c77b0eefd4545f9eb551fbe334a9b59ad7/Dataset_4-YQVM/data/asset/Image/Multimodal_1270_Multimodal_2672_Multimodal_11472_Left_Field_2.jpg : , trial 3, color channel red, resize function imgResize_secondary\n"
     ]
    },
    {
     "name": "stdout",
     "output_type": "stream",
     "text": [
      "1/1 [==============================] - 0s 21ms/step\n"
     ]
    },
    {
     "name": "stderr",
     "output_type": "stream",
     "text": [
      "2025-06-17 09:18:40,301 - INFO - Processing image /data/4-YQVM_9ac33726c539459d10cd6f6c97a6c9c77b0eefd4545f9eb551fbe334a9b59ad7/Dataset_4-YQVM/data/asset/Image/Multimodal_1270_Multimodal_2672_Multimodal_11472_Left_Field_2.jpg : , trial 4, color channel blue, resize function imgResize_secondary\n"
     ]
    },
    {
     "name": "stdout",
     "output_type": "stream",
     "text": [
      "1/1 [==============================] - 0s 20ms/step\n"
     ]
    },
    {
     "name": "stderr",
     "output_type": "stream",
     "text": [
      "2025-06-17 09:18:40,995 - INFO - SVG for 4-YS4E saved.\n",
      "2025-06-17 09:18:41,056 - INFO - Processing image /data/4-YQVM_9ac33726c539459d10cd6f6c97a6c9c77b0eefd4545f9eb551fbe334a9b59ad7/Dataset_4-YQVM/data/asset/Image/Multimodal_1301_Multimodal_2726_Multimodal_11526_Left_Field_2.jpg : , trial 1, color channel grey, resize function imgResize_primary\n"
     ]
    },
    {
     "name": "stdout",
     "output_type": "stream",
     "text": [
      "1/1 [==============================] - 0s 21ms/step\n"
     ]
    },
    {
     "name": "stderr",
     "output_type": "stream",
     "text": [
      "2025-06-17 09:18:41,768 - INFO - SVG for 4-YS4G saved.\n",
      "2025-06-17 09:18:41,828 - INFO - Processing image /data/4-YQVM_9ac33726c539459d10cd6f6c97a6c9c77b0eefd4545f9eb551fbe334a9b59ad7/Dataset_4-YQVM/data/asset/Image/Multimodal_1248_Multimodal_2637_Multimodal_11436_Right_Field_2.jpg : , trial 1, color channel grey, resize function imgResize_primary\n"
     ]
    },
    {
     "name": "stdout",
     "output_type": "stream",
     "text": [
      "1/1 [==============================] - 0s 20ms/step\n"
     ]
    },
    {
     "name": "stderr",
     "output_type": "stream",
     "text": [
      "2025-06-17 09:18:42,450 - INFO - SVG for 4-YS4J saved.\n",
      "2025-06-17 09:18:42,509 - INFO - Processing image /data/4-YQVM_9ac33726c539459d10cd6f6c97a6c9c77b0eefd4545f9eb551fbe334a9b59ad7/Dataset_4-YQVM/data/asset/Image/Multimodal_1294_Multimodal_2714_Multimodal_11514_Left_Field_2.jpg : , trial 1, color channel grey, resize function imgResize_primary\n"
     ]
    },
    {
     "name": "stdout",
     "output_type": "stream",
     "text": [
      "1/1 [==============================] - 0s 21ms/step\n"
     ]
    },
    {
     "name": "stderr",
     "output_type": "stream",
     "text": [
      "2025-06-17 09:18:43,603 - INFO - SVG for 4-YS4M saved.\n",
      "2025-06-17 09:18:43,662 - INFO - Processing image /data/4-YQVM_9ac33726c539459d10cd6f6c97a6c9c77b0eefd4545f9eb551fbe334a9b59ad7/Dataset_4-YQVM/data/asset/Image/Multimodal_1238_Multimodal_2617_Multimodal_11416_Right_Field_1.jpg : , trial 1, color channel grey, resize function imgResize_primary\n"
     ]
    },
    {
     "name": "stdout",
     "output_type": "stream",
     "text": [
      "1/1 [==============================] - 0s 21ms/step\n"
     ]
    },
    {
     "name": "stderr",
     "output_type": "stream",
     "text": [
      "2025-06-17 09:18:44,532 - INFO - SVG for 4-YS4P saved.\n",
      "2025-06-17 09:18:44,592 - INFO - Processing image /data/4-YQVM_9ac33726c539459d10cd6f6c97a6c9c77b0eefd4545f9eb551fbe334a9b59ad7/Dataset_4-YQVM/data/asset/Image/Multimodal_1233_Multimodal_2608_Multimodal_11407_Right_Field_2.jpg : , trial 1, color channel grey, resize function imgResize_primary\n"
     ]
    },
    {
     "name": "stdout",
     "output_type": "stream",
     "text": [
      "1/1 [==============================] - 0s 20ms/step\n"
     ]
    },
    {
     "name": "stderr",
     "output_type": "stream",
     "text": [
      "2025-06-17 09:18:45,311 - INFO - SVG for 4-YS4R saved.\n",
      "2025-06-17 09:18:45,369 - INFO - Processing image /data/4-YQVM_9ac33726c539459d10cd6f6c97a6c9c77b0eefd4545f9eb551fbe334a9b59ad7/Dataset_4-YQVM/data/asset/Image/Multimodal_1334_Multimodal_2787_Multimodal_11586_Right_Field_2.jpg : , trial 1, color channel grey, resize function imgResize_primary\n"
     ]
    },
    {
     "name": "stdout",
     "output_type": "stream",
     "text": [
      "1/1 [==============================] - 0s 20ms/step\n"
     ]
    },
    {
     "name": "stderr",
     "output_type": "stream",
     "text": [
      "2025-06-17 09:18:46,005 - INFO - Processing image /data/4-YQVM_9ac33726c539459d10cd6f6c97a6c9c77b0eefd4545f9eb551fbe334a9b59ad7/Dataset_4-YQVM/data/asset/Image/Multimodal_1334_Multimodal_2787_Multimodal_11586_Right_Field_2.jpg : , trial 2, color channel green, resize function imgResize_primary\n"
     ]
    },
    {
     "name": "stdout",
     "output_type": "stream",
     "text": [
      "1/1 [==============================] - 0s 20ms/step\n"
     ]
    },
    {
     "name": "stderr",
     "output_type": "stream",
     "text": [
      "2025-06-17 09:18:46,627 - INFO - SVG for 4-YS4T saved.\n",
      "2025-06-17 09:18:46,689 - INFO - Processing image /data/4-YQVM_9ac33726c539459d10cd6f6c97a6c9c77b0eefd4545f9eb551fbe334a9b59ad7/Dataset_4-YQVM/data/asset/Image/Multimodal_1289_Multimodal_2704_Multimodal_11503_Right_Field_2.jpg : , trial 1, color channel grey, resize function imgResize_primary\n"
     ]
    },
    {
     "name": "stdout",
     "output_type": "stream",
     "text": [
      "1/1 [==============================] - 0s 21ms/step\n"
     ]
    },
    {
     "name": "stderr",
     "output_type": "stream",
     "text": [
      "2025-06-17 09:18:47,489 - INFO - SVG for 4-YS4W saved.\n",
      "2025-06-17 09:18:47,547 - INFO - Processing image /data/4-YQVM_9ac33726c539459d10cd6f6c97a6c9c77b0eefd4545f9eb551fbe334a9b59ad7/Dataset_4-YQVM/data/asset/Image/Multimodal_1234_Multimodal_2610_Multimodal_11410_Left_Field_2.jpg : , trial 1, color channel grey, resize function imgResize_primary\n"
     ]
    },
    {
     "name": "stdout",
     "output_type": "stream",
     "text": [
      "1/1 [==============================] - 0s 20ms/step\n"
     ]
    },
    {
     "name": "stderr",
     "output_type": "stream",
     "text": [
      "2025-06-17 09:18:48,204 - INFO - SVG for 4-YS4Y saved.\n",
      "2025-06-17 09:18:48,263 - INFO - Processing image /data/4-YQVM_9ac33726c539459d10cd6f6c97a6c9c77b0eefd4545f9eb551fbe334a9b59ad7/Dataset_4-YQVM/data/asset/Image/Multimodal_1205_Multimodal_2557_Multimodal_11356_Right_Field_2.jpg : , trial 1, color channel grey, resize function imgResize_primary\n"
     ]
    },
    {
     "name": "stdout",
     "output_type": "stream",
     "text": [
      "1/1 [==============================] - 0s 21ms/step\n"
     ]
    },
    {
     "name": "stderr",
     "output_type": "stream",
     "text": [
      "2025-06-17 09:18:48,928 - INFO - Processing image /data/4-YQVM_9ac33726c539459d10cd6f6c97a6c9c77b0eefd4545f9eb551fbe334a9b59ad7/Dataset_4-YQVM/data/asset/Image/Multimodal_1205_Multimodal_2557_Multimodal_11356_Right_Field_2.jpg : , trial 2, color channel green, resize function imgResize_primary\n"
     ]
    },
    {
     "name": "stdout",
     "output_type": "stream",
     "text": [
      "1/1 [==============================] - 0s 21ms/step\n"
     ]
    },
    {
     "name": "stderr",
     "output_type": "stream",
     "text": [
      "2025-06-17 09:18:49,474 - INFO - Processing image /data/4-YQVM_9ac33726c539459d10cd6f6c97a6c9c77b0eefd4545f9eb551fbe334a9b59ad7/Dataset_4-YQVM/data/asset/Image/Multimodal_1205_Multimodal_2557_Multimodal_11356_Right_Field_2.jpg : , trial 3, color channel red, resize function imgResize_primary\n"
     ]
    },
    {
     "name": "stdout",
     "output_type": "stream",
     "text": [
      "1/1 [==============================] - 0s 20ms/step\n"
     ]
    },
    {
     "name": "stderr",
     "output_type": "stream",
     "text": [
      "2025-06-17 09:18:50,091 - INFO - Processing image /data/4-YQVM_9ac33726c539459d10cd6f6c97a6c9c77b0eefd4545f9eb551fbe334a9b59ad7/Dataset_4-YQVM/data/asset/Image/Multimodal_1205_Multimodal_2557_Multimodal_11356_Right_Field_2.jpg : , trial 4, color channel blue, resize function imgResize_primary\n"
     ]
    },
    {
     "name": "stdout",
     "output_type": "stream",
     "text": [
      "1/1 [==============================] - 0s 20ms/step\n"
     ]
    },
    {
     "name": "stderr",
     "output_type": "stream",
     "text": [
      "2025-06-17 09:18:50,579 - INFO - Processing image /data/4-YQVM_9ac33726c539459d10cd6f6c97a6c9c77b0eefd4545f9eb551fbe334a9b59ad7/Dataset_4-YQVM/data/asset/Image/Multimodal_1205_Multimodal_2557_Multimodal_11356_Right_Field_2.jpg : , trial 1, color channel grey, resize function imgResize_secondary\n"
     ]
    },
    {
     "name": "stdout",
     "output_type": "stream",
     "text": [
      "1/1 [==============================] - 0s 20ms/step\n"
     ]
    },
    {
     "name": "stderr",
     "output_type": "stream",
     "text": [
      "2025-06-17 09:18:51,497 - INFO - Processing image /data/4-YQVM_9ac33726c539459d10cd6f6c97a6c9c77b0eefd4545f9eb551fbe334a9b59ad7/Dataset_4-YQVM/data/asset/Image/Multimodal_1205_Multimodal_2557_Multimodal_11356_Right_Field_2.jpg : , trial 2, color channel green, resize function imgResize_secondary\n"
     ]
    },
    {
     "name": "stdout",
     "output_type": "stream",
     "text": [
      "1/1 [==============================] - 0s 20ms/step\n"
     ]
    },
    {
     "name": "stderr",
     "output_type": "stream",
     "text": [
      "2025-06-17 09:18:52,281 - INFO - Processing image /data/4-YQVM_9ac33726c539459d10cd6f6c97a6c9c77b0eefd4545f9eb551fbe334a9b59ad7/Dataset_4-YQVM/data/asset/Image/Multimodal_1205_Multimodal_2557_Multimodal_11356_Right_Field_2.jpg : , trial 3, color channel red, resize function imgResize_secondary\n"
     ]
    },
    {
     "name": "stdout",
     "output_type": "stream",
     "text": [
      "1/1 [==============================] - 0s 20ms/step\n"
     ]
    },
    {
     "name": "stderr",
     "output_type": "stream",
     "text": [
      "2025-06-17 09:18:53,130 - INFO - Processing image /data/4-YQVM_9ac33726c539459d10cd6f6c97a6c9c77b0eefd4545f9eb551fbe334a9b59ad7/Dataset_4-YQVM/data/asset/Image/Multimodal_1205_Multimodal_2557_Multimodal_11356_Right_Field_2.jpg : , trial 4, color channel blue, resize function imgResize_secondary\n"
     ]
    },
    {
     "name": "stdout",
     "output_type": "stream",
     "text": [
      "1/1 [==============================] - 0s 21ms/step\n"
     ]
    },
    {
     "name": "stderr",
     "output_type": "stream",
     "text": [
      "2025-06-17 09:18:53,889 - INFO - Processing image /data/4-YQVM_9ac33726c539459d10cd6f6c97a6c9c77b0eefd4545f9eb551fbe334a9b59ad7/Dataset_4-YQVM/data/asset/Image/Multimodal_1205_Multimodal_2557_Multimodal_11356_Right_Field_2.jpg : , trial 1, color channel grey, resize function imgResize_primary\n"
     ]
    },
    {
     "name": "stdout",
     "output_type": "stream",
     "text": [
      "1/1 [==============================] - 0s 21ms/step\n"
     ]
    },
    {
     "name": "stderr",
     "output_type": "stream",
     "text": [
      "2025-06-17 09:18:54,383 - INFO - Processing image /data/4-YQVM_9ac33726c539459d10cd6f6c97a6c9c77b0eefd4545f9eb551fbe334a9b59ad7/Dataset_4-YQVM/data/asset/Image/Multimodal_1205_Multimodal_2557_Multimodal_11356_Right_Field_2.jpg : , trial 2, color channel green, resize function imgResize_primary\n"
     ]
    },
    {
     "name": "stdout",
     "output_type": "stream",
     "text": [
      "1/1 [==============================] - 0s 20ms/step\n"
     ]
    },
    {
     "name": "stderr",
     "output_type": "stream",
     "text": [
      "2025-06-17 09:18:54,910 - INFO - Processing image /data/4-YQVM_9ac33726c539459d10cd6f6c97a6c9c77b0eefd4545f9eb551fbe334a9b59ad7/Dataset_4-YQVM/data/asset/Image/Multimodal_1205_Multimodal_2557_Multimodal_11356_Right_Field_2.jpg : , trial 3, color channel red, resize function imgResize_primary\n"
     ]
    },
    {
     "name": "stdout",
     "output_type": "stream",
     "text": [
      "1/1 [==============================] - 0s 20ms/step\n"
     ]
    },
    {
     "name": "stderr",
     "output_type": "stream",
     "text": [
      "2025-06-17 09:18:55,539 - INFO - Processing image /data/4-YQVM_9ac33726c539459d10cd6f6c97a6c9c77b0eefd4545f9eb551fbe334a9b59ad7/Dataset_4-YQVM/data/asset/Image/Multimodal_1205_Multimodal_2557_Multimodal_11356_Right_Field_2.jpg : , trial 4, color channel blue, resize function imgResize_primary\n"
     ]
    },
    {
     "name": "stdout",
     "output_type": "stream",
     "text": [
      "1/1 [==============================] - 0s 20ms/step\n"
     ]
    },
    {
     "name": "stderr",
     "output_type": "stream",
     "text": [
      "2025-06-17 09:18:56,070 - INFO - Processing image /data/4-YQVM_9ac33726c539459d10cd6f6c97a6c9c77b0eefd4545f9eb551fbe334a9b59ad7/Dataset_4-YQVM/data/asset/Image/Multimodal_1205_Multimodal_2557_Multimodal_11356_Right_Field_2.jpg : , trial 1, color channel grey, resize function imgResize_secondary\n"
     ]
    },
    {
     "name": "stdout",
     "output_type": "stream",
     "text": [
      "1/1 [==============================] - 0s 20ms/step\n"
     ]
    },
    {
     "name": "stderr",
     "output_type": "stream",
     "text": [
      "2025-06-17 09:18:56,885 - INFO - Processing image /data/4-YQVM_9ac33726c539459d10cd6f6c97a6c9c77b0eefd4545f9eb551fbe334a9b59ad7/Dataset_4-YQVM/data/asset/Image/Multimodal_1205_Multimodal_2557_Multimodal_11356_Right_Field_2.jpg : , trial 2, color channel green, resize function imgResize_secondary\n"
     ]
    },
    {
     "name": "stdout",
     "output_type": "stream",
     "text": [
      "1/1 [==============================] - 0s 20ms/step\n"
     ]
    },
    {
     "name": "stderr",
     "output_type": "stream",
     "text": [
      "2025-06-17 09:18:57,648 - INFO - Processing image /data/4-YQVM_9ac33726c539459d10cd6f6c97a6c9c77b0eefd4545f9eb551fbe334a9b59ad7/Dataset_4-YQVM/data/asset/Image/Multimodal_1205_Multimodal_2557_Multimodal_11356_Right_Field_2.jpg : , trial 3, color channel red, resize function imgResize_secondary\n"
     ]
    },
    {
     "name": "stdout",
     "output_type": "stream",
     "text": [
      "1/1 [==============================] - 0s 20ms/step\n"
     ]
    },
    {
     "name": "stderr",
     "output_type": "stream",
     "text": [
      "2025-06-17 09:18:58,683 - INFO - Processing image /data/4-YQVM_9ac33726c539459d10cd6f6c97a6c9c77b0eefd4545f9eb551fbe334a9b59ad7/Dataset_4-YQVM/data/asset/Image/Multimodal_1205_Multimodal_2557_Multimodal_11356_Right_Field_2.jpg : , trial 4, color channel blue, resize function imgResize_secondary\n"
     ]
    },
    {
     "name": "stdout",
     "output_type": "stream",
     "text": [
      "1/1 [==============================] - 0s 21ms/step\n"
     ]
    },
    {
     "name": "stderr",
     "output_type": "stream",
     "text": [
      "2025-06-17 09:18:59,410 - INFO - Processing image /data/4-YQVM_9ac33726c539459d10cd6f6c97a6c9c77b0eefd4545f9eb551fbe334a9b59ad7/Dataset_4-YQVM/data/asset/Image/Multimodal_1205_Multimodal_2557_Multimodal_11356_Right_Field_2.jpg : , trial 1, color channel grey, resize function imgResize_primary\n"
     ]
    },
    {
     "name": "stdout",
     "output_type": "stream",
     "text": [
      "1/1 [==============================] - 0s 20ms/step\n"
     ]
    },
    {
     "name": "stderr",
     "output_type": "stream",
     "text": [
      "2025-06-17 09:18:59,971 - INFO - Processing image /data/4-YQVM_9ac33726c539459d10cd6f6c97a6c9c77b0eefd4545f9eb551fbe334a9b59ad7/Dataset_4-YQVM/data/asset/Image/Multimodal_1205_Multimodal_2557_Multimodal_11356_Right_Field_2.jpg : , trial 2, color channel green, resize function imgResize_primary\n"
     ]
    },
    {
     "name": "stdout",
     "output_type": "stream",
     "text": [
      "1/1 [==============================] - 0s 20ms/step\n"
     ]
    },
    {
     "name": "stderr",
     "output_type": "stream",
     "text": [
      "2025-06-17 09:19:00,490 - INFO - Processing image /data/4-YQVM_9ac33726c539459d10cd6f6c97a6c9c77b0eefd4545f9eb551fbe334a9b59ad7/Dataset_4-YQVM/data/asset/Image/Multimodal_1205_Multimodal_2557_Multimodal_11356_Right_Field_2.jpg : , trial 3, color channel red, resize function imgResize_primary\n"
     ]
    },
    {
     "name": "stdout",
     "output_type": "stream",
     "text": [
      "1/1 [==============================] - 0s 20ms/step\n"
     ]
    },
    {
     "name": "stderr",
     "output_type": "stream",
     "text": [
      "2025-06-17 09:19:01,104 - INFO - Processing image /data/4-YQVM_9ac33726c539459d10cd6f6c97a6c9c77b0eefd4545f9eb551fbe334a9b59ad7/Dataset_4-YQVM/data/asset/Image/Multimodal_1205_Multimodal_2557_Multimodal_11356_Right_Field_2.jpg : , trial 4, color channel blue, resize function imgResize_primary\n"
     ]
    },
    {
     "name": "stdout",
     "output_type": "stream",
     "text": [
      "1/1 [==============================] - 0s 22ms/step\n"
     ]
    },
    {
     "name": "stderr",
     "output_type": "stream",
     "text": [
      "2025-06-17 09:19:01,580 - INFO - Processing image /data/4-YQVM_9ac33726c539459d10cd6f6c97a6c9c77b0eefd4545f9eb551fbe334a9b59ad7/Dataset_4-YQVM/data/asset/Image/Multimodal_1205_Multimodal_2557_Multimodal_11356_Right_Field_2.jpg : , trial 1, color channel grey, resize function imgResize_secondary\n"
     ]
    },
    {
     "name": "stdout",
     "output_type": "stream",
     "text": [
      "1/1 [==============================] - 0s 21ms/step\n"
     ]
    },
    {
     "name": "stderr",
     "output_type": "stream",
     "text": [
      "2025-06-17 09:19:02,431 - INFO - Processing image /data/4-YQVM_9ac33726c539459d10cd6f6c97a6c9c77b0eefd4545f9eb551fbe334a9b59ad7/Dataset_4-YQVM/data/asset/Image/Multimodal_1205_Multimodal_2557_Multimodal_11356_Right_Field_2.jpg : , trial 2, color channel green, resize function imgResize_secondary\n"
     ]
    },
    {
     "name": "stdout",
     "output_type": "stream",
     "text": [
      "1/1 [==============================] - 0s 20ms/step\n"
     ]
    },
    {
     "name": "stderr",
     "output_type": "stream",
     "text": [
      "2025-06-17 09:19:03,184 - INFO - Processing image /data/4-YQVM_9ac33726c539459d10cd6f6c97a6c9c77b0eefd4545f9eb551fbe334a9b59ad7/Dataset_4-YQVM/data/asset/Image/Multimodal_1205_Multimodal_2557_Multimodal_11356_Right_Field_2.jpg : , trial 3, color channel red, resize function imgResize_secondary\n"
     ]
    },
    {
     "name": "stdout",
     "output_type": "stream",
     "text": [
      "1/1 [==============================] - 0s 21ms/step\n"
     ]
    },
    {
     "name": "stderr",
     "output_type": "stream",
     "text": [
      "2025-06-17 09:19:04,118 - INFO - Processing image /data/4-YQVM_9ac33726c539459d10cd6f6c97a6c9c77b0eefd4545f9eb551fbe334a9b59ad7/Dataset_4-YQVM/data/asset/Image/Multimodal_1205_Multimodal_2557_Multimodal_11356_Right_Field_2.jpg : , trial 4, color channel blue, resize function imgResize_secondary\n"
     ]
    },
    {
     "name": "stdout",
     "output_type": "stream",
     "text": [
      "1/1 [==============================] - 0s 20ms/step\n"
     ]
    },
    {
     "name": "stderr",
     "output_type": "stream",
     "text": [
      "2025-06-17 09:19:04,811 - INFO - Processing image /data/4-YQVM_9ac33726c539459d10cd6f6c97a6c9c77b0eefd4545f9eb551fbe334a9b59ad7/Dataset_4-YQVM/data/asset/Image/Multimodal_1205_Multimodal_2557_Multimodal_11356_Right_Field_2.jpg : , trial 1, color channel grey, resize function imgResize_primary\n"
     ]
    },
    {
     "name": "stdout",
     "output_type": "stream",
     "text": [
      "1/1 [==============================] - 0s 21ms/step\n"
     ]
    },
    {
     "name": "stderr",
     "output_type": "stream",
     "text": [
      "2025-06-17 09:19:05,424 - INFO - Processing image /data/4-YQVM_9ac33726c539459d10cd6f6c97a6c9c77b0eefd4545f9eb551fbe334a9b59ad7/Dataset_4-YQVM/data/asset/Image/Multimodal_1205_Multimodal_2557_Multimodal_11356_Right_Field_2.jpg : , trial 2, color channel green, resize function imgResize_primary\n"
     ]
    },
    {
     "name": "stdout",
     "output_type": "stream",
     "text": [
      "1/1 [==============================] - 0s 20ms/step\n"
     ]
    },
    {
     "name": "stderr",
     "output_type": "stream",
     "text": [
      "2025-06-17 09:19:05,942 - INFO - Processing image /data/4-YQVM_9ac33726c539459d10cd6f6c97a6c9c77b0eefd4545f9eb551fbe334a9b59ad7/Dataset_4-YQVM/data/asset/Image/Multimodal_1205_Multimodal_2557_Multimodal_11356_Right_Field_2.jpg : , trial 3, color channel red, resize function imgResize_primary\n"
     ]
    },
    {
     "name": "stdout",
     "output_type": "stream",
     "text": [
      "1/1 [==============================] - 0s 20ms/step\n"
     ]
    },
    {
     "name": "stderr",
     "output_type": "stream",
     "text": [
      "2025-06-17 09:19:06,601 - INFO - Processing image /data/4-YQVM_9ac33726c539459d10cd6f6c97a6c9c77b0eefd4545f9eb551fbe334a9b59ad7/Dataset_4-YQVM/data/asset/Image/Multimodal_1205_Multimodal_2557_Multimodal_11356_Right_Field_2.jpg : , trial 4, color channel blue, resize function imgResize_primary\n"
     ]
    },
    {
     "name": "stdout",
     "output_type": "stream",
     "text": [
      "1/1 [==============================] - 0s 20ms/step\n"
     ]
    },
    {
     "name": "stderr",
     "output_type": "stream",
     "text": [
      "2025-06-17 09:19:07,103 - INFO - Processing image /data/4-YQVM_9ac33726c539459d10cd6f6c97a6c9c77b0eefd4545f9eb551fbe334a9b59ad7/Dataset_4-YQVM/data/asset/Image/Multimodal_1205_Multimodal_2557_Multimodal_11356_Right_Field_2.jpg : , trial 1, color channel grey, resize function imgResize_secondary\n"
     ]
    },
    {
     "name": "stdout",
     "output_type": "stream",
     "text": [
      "1/1 [==============================] - 0s 20ms/step\n"
     ]
    },
    {
     "name": "stderr",
     "output_type": "stream",
     "text": [
      "2025-06-17 09:19:07,966 - INFO - Processing image /data/4-YQVM_9ac33726c539459d10cd6f6c97a6c9c77b0eefd4545f9eb551fbe334a9b59ad7/Dataset_4-YQVM/data/asset/Image/Multimodal_1205_Multimodal_2557_Multimodal_11356_Right_Field_2.jpg : , trial 2, color channel green, resize function imgResize_secondary\n"
     ]
    },
    {
     "name": "stdout",
     "output_type": "stream",
     "text": [
      "1/1 [==============================] - 0s 20ms/step\n"
     ]
    },
    {
     "name": "stderr",
     "output_type": "stream",
     "text": [
      "2025-06-17 09:19:08,760 - INFO - Processing image /data/4-YQVM_9ac33726c539459d10cd6f6c97a6c9c77b0eefd4545f9eb551fbe334a9b59ad7/Dataset_4-YQVM/data/asset/Image/Multimodal_1205_Multimodal_2557_Multimodal_11356_Right_Field_2.jpg : , trial 3, color channel red, resize function imgResize_secondary\n"
     ]
    },
    {
     "name": "stdout",
     "output_type": "stream",
     "text": [
      "1/1 [==============================] - 0s 21ms/step\n"
     ]
    },
    {
     "name": "stderr",
     "output_type": "stream",
     "text": [
      "2025-06-17 09:19:09,688 - INFO - Processing image /data/4-YQVM_9ac33726c539459d10cd6f6c97a6c9c77b0eefd4545f9eb551fbe334a9b59ad7/Dataset_4-YQVM/data/asset/Image/Multimodal_1205_Multimodal_2557_Multimodal_11356_Right_Field_2.jpg : , trial 4, color channel blue, resize function imgResize_secondary\n"
     ]
    },
    {
     "name": "stdout",
     "output_type": "stream",
     "text": [
      "1/1 [==============================] - 0s 20ms/step\n"
     ]
    },
    {
     "name": "stderr",
     "output_type": "stream",
     "text": [
      "2025-06-17 09:19:10,503 - INFO - Processing image /data/4-YQVM_9ac33726c539459d10cd6f6c97a6c9c77b0eefd4545f9eb551fbe334a9b59ad7/Dataset_4-YQVM/data/asset/Image/Multimodal_1205_Multimodal_2557_Multimodal_11356_Right_Field_2.jpg : , trial 1, color channel grey, resize function imgResize_primary\n"
     ]
    },
    {
     "name": "stdout",
     "output_type": "stream",
     "text": [
      "1/1 [==============================] - 0s 20ms/step\n"
     ]
    },
    {
     "name": "stderr",
     "output_type": "stream",
     "text": [
      "2025-06-17 09:19:11,056 - INFO - Processing image /data/4-YQVM_9ac33726c539459d10cd6f6c97a6c9c77b0eefd4545f9eb551fbe334a9b59ad7/Dataset_4-YQVM/data/asset/Image/Multimodal_1205_Multimodal_2557_Multimodal_11356_Right_Field_2.jpg : , trial 2, color channel green, resize function imgResize_primary\n"
     ]
    },
    {
     "name": "stdout",
     "output_type": "stream",
     "text": [
      "1/1 [==============================] - 0s 21ms/step\n"
     ]
    },
    {
     "name": "stderr",
     "output_type": "stream",
     "text": [
      "2025-06-17 09:19:11,561 - INFO - Processing image /data/4-YQVM_9ac33726c539459d10cd6f6c97a6c9c77b0eefd4545f9eb551fbe334a9b59ad7/Dataset_4-YQVM/data/asset/Image/Multimodal_1205_Multimodal_2557_Multimodal_11356_Right_Field_2.jpg : , trial 3, color channel red, resize function imgResize_primary\n"
     ]
    },
    {
     "name": "stdout",
     "output_type": "stream",
     "text": [
      "1/1 [==============================] - 0s 21ms/step\n"
     ]
    },
    {
     "name": "stderr",
     "output_type": "stream",
     "text": [
      "2025-06-17 09:19:12,085 - INFO - Processing image /data/4-YQVM_9ac33726c539459d10cd6f6c97a6c9c77b0eefd4545f9eb551fbe334a9b59ad7/Dataset_4-YQVM/data/asset/Image/Multimodal_1205_Multimodal_2557_Multimodal_11356_Right_Field_2.jpg : , trial 4, color channel blue, resize function imgResize_primary\n"
     ]
    },
    {
     "name": "stdout",
     "output_type": "stream",
     "text": [
      "1/1 [==============================] - 0s 21ms/step\n"
     ]
    },
    {
     "name": "stderr",
     "output_type": "stream",
     "text": [
      "2025-06-17 09:19:12,676 - INFO - Processing image /data/4-YQVM_9ac33726c539459d10cd6f6c97a6c9c77b0eefd4545f9eb551fbe334a9b59ad7/Dataset_4-YQVM/data/asset/Image/Multimodal_1205_Multimodal_2557_Multimodal_11356_Right_Field_2.jpg : , trial 1, color channel grey, resize function imgResize_secondary\n"
     ]
    },
    {
     "name": "stdout",
     "output_type": "stream",
     "text": [
      "1/1 [==============================] - 0s 21ms/step\n"
     ]
    },
    {
     "name": "stderr",
     "output_type": "stream",
     "text": [
      "2025-06-17 09:19:13,547 - INFO - Processing image /data/4-YQVM_9ac33726c539459d10cd6f6c97a6c9c77b0eefd4545f9eb551fbe334a9b59ad7/Dataset_4-YQVM/data/asset/Image/Multimodal_1205_Multimodal_2557_Multimodal_11356_Right_Field_2.jpg : , trial 2, color channel green, resize function imgResize_secondary\n"
     ]
    },
    {
     "name": "stdout",
     "output_type": "stream",
     "text": [
      "1/1 [==============================] - 0s 20ms/step\n"
     ]
    },
    {
     "name": "stderr",
     "output_type": "stream",
     "text": [
      "2025-06-17 09:19:14,315 - INFO - Processing image /data/4-YQVM_9ac33726c539459d10cd6f6c97a6c9c77b0eefd4545f9eb551fbe334a9b59ad7/Dataset_4-YQVM/data/asset/Image/Multimodal_1205_Multimodal_2557_Multimodal_11356_Right_Field_2.jpg : , trial 3, color channel red, resize function imgResize_secondary\n"
     ]
    },
    {
     "name": "stdout",
     "output_type": "stream",
     "text": [
      "1/1 [==============================] - 0s 20ms/step\n"
     ]
    },
    {
     "name": "stderr",
     "output_type": "stream",
     "text": [
      "2025-06-17 09:19:15,182 - INFO - Processing image /data/4-YQVM_9ac33726c539459d10cd6f6c97a6c9c77b0eefd4545f9eb551fbe334a9b59ad7/Dataset_4-YQVM/data/asset/Image/Multimodal_1205_Multimodal_2557_Multimodal_11356_Right_Field_2.jpg : , trial 4, color channel blue, resize function imgResize_secondary\n"
     ]
    },
    {
     "name": "stdout",
     "output_type": "stream",
     "text": [
      "1/1 [==============================] - 0s 20ms/step\n"
     ]
    },
    {
     "name": "stderr",
     "output_type": "stream",
     "text": [
      "2025-06-17 09:19:15,944 - INFO - SVG for 4-YS50 saved.\n",
      "2025-06-17 09:19:16,005 - INFO - Processing image /data/4-YQVM_9ac33726c539459d10cd6f6c97a6c9c77b0eefd4545f9eb551fbe334a9b59ad7/Dataset_4-YQVM/data/asset/Image/Multimodal_1241_Multimodal_2623_Multimodal_11422_Right_Field_2.jpg : , trial 1, color channel grey, resize function imgResize_primary\n"
     ]
    },
    {
     "name": "stdout",
     "output_type": "stream",
     "text": [
      "1/1 [==============================] - 0s 20ms/step\n"
     ]
    },
    {
     "name": "stderr",
     "output_type": "stream",
     "text": [
      "2025-06-17 09:19:16,647 - INFO - SVG for 4-YS52 saved.\n",
      "2025-06-17 09:19:16,706 - INFO - Processing image /data/4-YQVM_9ac33726c539459d10cd6f6c97a6c9c77b0eefd4545f9eb551fbe334a9b59ad7/Dataset_4-YQVM/data/asset/Image/Multimodal_1214_Multimodal_2574_Multimodal_11374_Left_Field_2.jpg : , trial 1, color channel grey, resize function imgResize_primary\n"
     ]
    },
    {
     "name": "stdout",
     "output_type": "stream",
     "text": [
      "1/1 [==============================] - 0s 20ms/step\n"
     ]
    },
    {
     "name": "stderr",
     "output_type": "stream",
     "text": [
      "2025-06-17 09:19:17,431 - INFO - SVG for 4-YS54 saved.\n",
      "2025-06-17 09:19:17,489 - INFO - Processing image /data/4-YQVM_9ac33726c539459d10cd6f6c97a6c9c77b0eefd4545f9eb551fbe334a9b59ad7/Dataset_4-YQVM/data/asset/Image/Multimodal_1210_Multimodal_2567_Multimodal_11367_Left_Field_2.jpg : , trial 1, color channel grey, resize function imgResize_primary\n"
     ]
    },
    {
     "name": "stdout",
     "output_type": "stream",
     "text": [
      "1/1 [==============================] - 0s 21ms/step\n"
     ]
    },
    {
     "name": "stderr",
     "output_type": "stream",
     "text": [
      "2025-06-17 09:19:18,221 - INFO - SVG for 4-YS56 saved.\n",
      "2025-06-17 09:19:18,282 - INFO - Processing image /data/4-YQVM_9ac33726c539459d10cd6f6c97a6c9c77b0eefd4545f9eb551fbe334a9b59ad7/Dataset_4-YQVM/data/asset/Image/Multimodal_1229_Multimodal_2600_Multimodal_11400_Left_Field_2.jpg : , trial 1, color channel grey, resize function imgResize_primary\n"
     ]
    },
    {
     "name": "stdout",
     "output_type": "stream",
     "text": [
      "1/1 [==============================] - 0s 21ms/step\n"
     ]
    },
    {
     "name": "stderr",
     "output_type": "stream",
     "text": [
      "2025-06-17 09:19:19,033 - INFO - Processing image /data/4-YQVM_9ac33726c539459d10cd6f6c97a6c9c77b0eefd4545f9eb551fbe334a9b59ad7/Dataset_4-YQVM/data/asset/Image/Multimodal_1229_Multimodal_2600_Multimodal_11400_Left_Field_2.jpg : , trial 2, color channel green, resize function imgResize_primary\n"
     ]
    },
    {
     "name": "stdout",
     "output_type": "stream",
     "text": [
      "1/1 [==============================] - 0s 21ms/step\n"
     ]
    },
    {
     "name": "stderr",
     "output_type": "stream",
     "text": [
      "2025-06-17 09:19:19,645 - INFO - SVG for 4-YS58 saved.\n",
      "2025-06-17 09:19:19,705 - INFO - Processing image /data/4-YQVM_9ac33726c539459d10cd6f6c97a6c9c77b0eefd4545f9eb551fbe334a9b59ad7/Dataset_4-YQVM/data/asset/Image/Multimodal_1227_Multimodal_2597_Multimodal_11397_Left_Field_2.jpg : , trial 1, color channel grey, resize function imgResize_primary\n"
     ]
    },
    {
     "name": "stdout",
     "output_type": "stream",
     "text": [
      "1/1 [==============================] - 0s 21ms/step\n"
     ]
    },
    {
     "name": "stderr",
     "output_type": "stream",
     "text": [
      "2025-06-17 09:19:20,474 - INFO - SVG for 4-YS5A saved.\n",
      "2025-06-17 09:19:20,533 - INFO - Processing image /data/4-YQVM_9ac33726c539459d10cd6f6c97a6c9c77b0eefd4545f9eb551fbe334a9b59ad7/Dataset_4-YQVM/data/asset/Image/Multimodal_1247_Multimodal_2635_Multimodal_11434_Right_Field_2.jpg : , trial 1, color channel grey, resize function imgResize_primary\n"
     ]
    },
    {
     "name": "stdout",
     "output_type": "stream",
     "text": [
      "1/1 [==============================] - 0s 20ms/step\n"
     ]
    },
    {
     "name": "stderr",
     "output_type": "stream",
     "text": [
      "2025-06-17 09:19:21,187 - INFO - SVG for 4-YS5C saved.\n",
      "2025-06-17 09:19:21,252 - INFO - Processing image /data/4-YQVM_9ac33726c539459d10cd6f6c97a6c9c77b0eefd4545f9eb551fbe334a9b59ad7/Dataset_4-YQVM/data/asset/Image/Multimodal_1255_Multimodal_2648_Multimodal_11448_Left_Field_2.jpg : , trial 1, color channel grey, resize function imgResize_primary\n"
     ]
    },
    {
     "name": "stdout",
     "output_type": "stream",
     "text": [
      "1/1 [==============================] - 0s 20ms/step\n"
     ]
    },
    {
     "name": "stderr",
     "output_type": "stream",
     "text": [
      "2025-06-17 09:19:21,933 - INFO - SVG for 4-YS5E saved.\n",
      "2025-06-17 09:19:21,995 - INFO - Processing image /data/4-YQVM_9ac33726c539459d10cd6f6c97a6c9c77b0eefd4545f9eb551fbe334a9b59ad7/Dataset_4-YQVM/data/asset/Image/Multimodal_1317_Multimodal_2754_Multimodal_11553_Right_Field_2.jpg : , trial 1, color channel grey, resize function imgResize_primary\n"
     ]
    },
    {
     "name": "stdout",
     "output_type": "stream",
     "text": [
      "1/1 [==============================] - 0s 20ms/step\n"
     ]
    },
    {
     "name": "stderr",
     "output_type": "stream",
     "text": [
      "2025-06-17 09:19:22,953 - INFO - Processing image /data/4-YQVM_9ac33726c539459d10cd6f6c97a6c9c77b0eefd4545f9eb551fbe334a9b59ad7/Dataset_4-YQVM/data/asset/Image/Multimodal_1317_Multimodal_2754_Multimodal_11553_Right_Field_2.jpg : , trial 2, color channel green, resize function imgResize_primary\n"
     ]
    },
    {
     "name": "stdout",
     "output_type": "stream",
     "text": [
      "1/1 [==============================] - 0s 20ms/step\n"
     ]
    },
    {
     "name": "stderr",
     "output_type": "stream",
     "text": [
      "2025-06-17 09:19:23,702 - INFO - SVG for 4-YS5G saved.\n",
      "2025-06-17 09:19:23,761 - INFO - Processing image /data/4-YQVM_9ac33726c539459d10cd6f6c97a6c9c77b0eefd4545f9eb551fbe334a9b59ad7/Dataset_4-YQVM/data/asset/Image/Multimodal_1215_Multimodal_2576_Multimodal_11376_Left_Field_2.jpg : , trial 1, color channel grey, resize function imgResize_primary\n"
     ]
    },
    {
     "name": "stdout",
     "output_type": "stream",
     "text": [
      "1/1 [==============================] - 0s 20ms/step\n"
     ]
    },
    {
     "name": "stderr",
     "output_type": "stream",
     "text": [
      "2025-06-17 09:19:24,536 - INFO - SVG for 4-YS5J saved.\n",
      "2025-06-17 09:19:24,594 - INFO - Processing image /data/4-YQVM_9ac33726c539459d10cd6f6c97a6c9c77b0eefd4545f9eb551fbe334a9b59ad7/Dataset_4-YQVM/data/asset/Image/Multimodal_1261_Multimodal_2659_Multimodal_11459_Left_Field_2.jpg : , trial 1, color channel grey, resize function imgResize_primary\n"
     ]
    },
    {
     "name": "stdout",
     "output_type": "stream",
     "text": [
      "1/1 [==============================] - 0s 20ms/step\n"
     ]
    },
    {
     "name": "stderr",
     "output_type": "stream",
     "text": [
      "2025-06-17 09:19:25,205 - INFO - SVG for 4-YS5M saved.\n",
      "2025-06-17 09:19:25,265 - INFO - Processing image /data/4-YQVM_9ac33726c539459d10cd6f6c97a6c9c77b0eefd4545f9eb551fbe334a9b59ad7/Dataset_4-YQVM/data/asset/Image/Multimodal_1222_Multimodal_2588_Multimodal_11387_Right_Field_1.jpg : , trial 1, color channel grey, resize function imgResize_primary\n"
     ]
    },
    {
     "name": "stdout",
     "output_type": "stream",
     "text": [
      "1/1 [==============================] - 0s 20ms/step\n"
     ]
    },
    {
     "name": "stderr",
     "output_type": "stream",
     "text": [
      "2025-06-17 09:19:25,955 - INFO - SVG for 4-YS5P saved.\n",
      "2025-06-17 09:19:26,015 - INFO - Processing image /data/4-YQVM_9ac33726c539459d10cd6f6c97a6c9c77b0eefd4545f9eb551fbe334a9b59ad7/Dataset_4-YQVM/data/asset/Image/Multimodal_1324_Multimodal_2768_Multimodal_11567_Right_Field_2.jpg : , trial 1, color channel grey, resize function imgResize_primary\n"
     ]
    },
    {
     "name": "stdout",
     "output_type": "stream",
     "text": [
      "1/1 [==============================] - 0s 20ms/step\n"
     ]
    },
    {
     "name": "stderr",
     "output_type": "stream",
     "text": [
      "2025-06-17 09:19:26,614 - INFO - SVG for 4-YS5R saved.\n",
      "2025-06-17 09:19:26,674 - INFO - Processing image /data/4-YQVM_9ac33726c539459d10cd6f6c97a6c9c77b0eefd4545f9eb551fbe334a9b59ad7/Dataset_4-YQVM/data/asset/Image/Multimodal_1321_Multimodal_2762_Multimodal_11561_Right_Field_2.jpg : , trial 1, color channel grey, resize function imgResize_primary\n"
     ]
    },
    {
     "name": "stdout",
     "output_type": "stream",
     "text": [
      "1/1 [==============================] - 0s 20ms/step\n"
     ]
    },
    {
     "name": "stderr",
     "output_type": "stream",
     "text": [
      "2025-06-17 09:19:27,542 - INFO - SVG for 4-YS5T saved.\n",
      "2025-06-17 09:19:27,550 - INFO - Number of images in CSV: 251\n",
      "2025-06-17 09:19:27,551 - INFO - Number of images in output directory: 251\n",
      "2025-06-17 09:19:27,551 - INFO - Number of cropped images: 251\n",
      "2025-06-17 09:19:27,552 - INFO - --- 754.6960508823395 seconds ---\n",
      "2025-06-17 09:19:27,554 - INFO - Successfully run Ml.\n",
      "2025-06-17 09:19:27,712 - INFO - Algorithm execution ended.\n"
     ]
    }
   ],
   "source": [
    "\n",
    "from models.vgg19.vgg19_disk_crop_predict import preprocess_and_crop\n",
    "with execution.execute() as exec:\n",
    "    preprocess_and_crop(\n",
    "      ds_bag,\n",
    "      csv_path,\n",
    "      execution._working_dir / 'output_train.csv',\n",
    "      'template.jpg',\n",
    "      str(output),\n",
    "      crop_image_model,\n",
    "      \"2-NK8E\",\n",
    "      \"Optic Nerve\",\n",
    "      False\n",
    "      )\n",
    "    "
   ]
  },
  {
   "cell_type": "code",
   "execution_count": 18,
   "id": "38605f46-c5f8-48b2-9794-a77c132cefb7",
   "metadata": {},
   "outputs": [],
   "source": [
    "angle_2_only = EA.filter_angle_2(ds_bag)"
   ]
  },
  {
   "cell_type": "code",
   "execution_count": 19,
   "id": "ee0e4eae-268f-41ad-8699-8c4b5ffa6edb",
   "metadata": {},
   "outputs": [],
   "source": [
    "csv_output  = Path(execution._working_dir / 'output_train.csv')"
   ]
  },
  {
   "cell_type": "code",
   "execution_count": 20,
   "id": "22d485b4-f5bb-4d2d-a7e8-40e99dd57688",
   "metadata": {},
   "outputs": [],
   "source": [
    "df_output = pd.read_csv(csv_output)"
   ]
  },
  {
   "cell_type": "code",
   "execution_count": 21,
   "id": "ca305eab-5f81-415e-920a-c0b36fea3504",
   "metadata": {},
   "outputs": [],
   "source": [
    "filtered_resulted_df = df_output[df_output[\"Image RID\"].isin(angle_2_only[\"RID\"])]"
   ]
  },
  {
   "cell_type": "code",
   "execution_count": 22,
   "id": "bd8af492-b43d-45ed-869c-b0bbe8e38dfc",
   "metadata": {},
   "outputs": [],
   "source": [
    "cropping_func_map_output = dict(zip(filtered_resulted_df[\"Image RID\"], filtered_resulted_df[\"Worked Image Cropping Function\"]))"
   ]
  },
  {
   "cell_type": "code",
   "execution_count": 23,
   "id": "5be3e794-5e02-4fc7-9be1-768bda16645b",
   "metadata": {},
   "outputs": [],
   "source": [
    "import shutil \n",
    "\n",
    "saved_svg_names = filtered_resulted_df[\"Saved SVG Name\"].values\n",
    "\n",
    "bounding_box_file_paths = []\n",
    "for file_name in os.listdir(output):\n",
    "    if file_name in saved_svg_names:\n",
    "        full_path_name = os.path.join(output, file_name)\n",
    "        \n",
    "        bounding_box_file = execution.asset_file_path(\n",
    "            \"Fundus_Bounding_Box\", full_path_name, \n",
    "        )\n",
    "        bounding_box_file_paths.append(bounding_box_file)"
   ]
  },
  {
   "cell_type": "code",
   "execution_count": 25,
   "id": "9466abcb-2b33-4c4c-bd49-7335fab62d5c",
   "metadata": {},
   "outputs": [
    {
     "data": {
      "text/plain": [
       "214"
      ]
     },
     "execution_count": 25,
     "metadata": {},
     "output_type": "execute_result"
    }
   ],
   "source": [
    "image_rids = []\n",
    "angle_2_rids = filtered_resulted_df[\"Image RID\"].values\n",
    "\n",
    "for file_name in os.listdir(output):\n",
    "    rid = file_name.split(\"_\")[1].split('.')[0]\n",
    "    if rid in angle_2_rids:\n",
    "        image_rids.append(rid)\n",
    "len(image_rids)"
   ]
  },
  {
   "cell_type": "code",
   "execution_count": 26,
   "id": "93794f5d-70ab-4106-8c6e-449ef91ac7cf",
   "metadata": {},
   "outputs": [],
   "source": [
    "image_bounding_box_feature_list = []\n",
    "\n",
    "for image_rid, asset_file_path in zip(image_rids, bounding_box_file_paths):\n",
    "    expected_name = f\"Cropped_{image_rid}.svg\"\n",
    "    actual_name = os.path.basename(asset_file_path)\n",
    "    assert expected_name == actual_name, f\"Expected {expected_name}, got {actual_name}\"\n",
    "\n",
    "    annotation_func = cropping_func_map_output.get(image_rid)\n",
    "    if annotation_func:\n",
    "        image_bounding_box_feature_list.append(\n",
    "            ImageAnnotationFeature(\n",
    "                Image=image_rid,\n",
    "                Execution=execution.execution_rid,\n",
    "                Fundus_Bounding_Box=asset_file_path,\n",
    "                Annotation_Function=annotation_func,\n",
    "                Annotation_Type='Optic Nerve',\n",
    "            )\n",
    "        )\n"
   ]
  },
  {
   "cell_type": "code",
   "execution_count": 27,
   "id": "faab0368-0d0c-45b6-87ca-222cf650b333",
   "metadata": {},
   "outputs": [
    {
     "name": "stderr",
     "output_type": "stream",
     "text": [
      "2025-06-17 09:21:26,001 - INFO - Start execution  ...\n",
      "2025-06-17 09:21:26,087 - INFO - Start execution  ...\n",
      "2025-06-17 09:21:26,146 - INFO - Successfully run Ml.\n",
      "2025-06-17 09:21:26,184 - INFO - Algorithm execution ended.\n"
     ]
    }
   ],
   "source": [
    "with execution.execute() as execution:\n",
    "    execution.add_features(image_bounding_box_feature_list)"
   ]
  },
  {
   "cell_type": "code",
   "execution_count": 28,
   "id": "90a35548-5d8e-4243-bea2-fa70e79e0417",
   "metadata": {},
   "outputs": [
    {
     "name": "stderr",
     "output_type": "stream",
     "text": [
      "2025-06-17 09:23:05,506 - INFO - Uploading execution files...\n",
      "2025-06-17 09:23:05,601 - INFO - Initializing uploader: GenericUploader v1.7.7 [Python 3.10.13, Linux-5.10.210-201.852.amzn2.x86_64-x86_64-with-glibc2.26]\n",
      "2025-06-17 09:23:05,602 - INFO - Creating client of type <class 'globus_sdk.services.auth.client.native_client.NativeAppAuthClient'> for service \"auth\"\n",
      "2025-06-17 09:23:05,603 - INFO - Finished initializing AuthLoginClient. client_id='8ef15ba9-2b4a-469c-a163-7fd910c9d111', type(authorizer)=<class 'globus_sdk.authorizers.base.NullAuthorizer'>\n",
      "2025-06-17 09:23:05,641 - INFO - Scanning files in directory [/data/kb_766/EyeAI_working/deriva-ml/execution/4-YTWW/asset]...\n",
      "2025-06-17 09:23:05,650 - INFO - Including file: [/data/kb_766/EyeAI_working/deriva-ml/execution/4-YTWW/asset/deriva-ml/Execution_Metadata/configuration.json].\n",
      "2025-06-17 09:23:05,650 - INFO - Including file: [/data/kb_766/EyeAI_working/deriva-ml/execution/4-YTWW/asset/deriva-ml/Execution_Metadata/environment_snapshot_20250617_090049.txt].\n",
      "2025-06-17 09:23:05,651 - INFO - Including file: [/data/kb_766/EyeAI_working/deriva-ml/execution/4-YTWW/asset/eye-ai/Fundus_Bounding_Box/Cropped_4-YRP6.svg].\n",
      "2025-06-17 09:23:05,651 - INFO - Including file: [/data/kb_766/EyeAI_working/deriva-ml/execution/4-YTWW/asset/eye-ai/Fundus_Bounding_Box/Cropped_4-YRP8.svg].\n",
      "2025-06-17 09:23:05,651 - INFO - Including file: [/data/kb_766/EyeAI_working/deriva-ml/execution/4-YTWW/asset/eye-ai/Fundus_Bounding_Box/Cropped_4-YRPA.svg].\n",
      "2025-06-17 09:23:05,652 - INFO - Including file: [/data/kb_766/EyeAI_working/deriva-ml/execution/4-YTWW/asset/eye-ai/Fundus_Bounding_Box/Cropped_4-YRPE.svg].\n",
      "2025-06-17 09:23:05,652 - INFO - Including file: [/data/kb_766/EyeAI_working/deriva-ml/execution/4-YTWW/asset/eye-ai/Fundus_Bounding_Box/Cropped_4-YRPG.svg].\n",
      "2025-06-17 09:23:05,653 - INFO - Including file: [/data/kb_766/EyeAI_working/deriva-ml/execution/4-YTWW/asset/eye-ai/Fundus_Bounding_Box/Cropped_4-YRPJ.svg].\n",
      "2025-06-17 09:23:05,653 - INFO - Including file: [/data/kb_766/EyeAI_working/deriva-ml/execution/4-YTWW/asset/eye-ai/Fundus_Bounding_Box/Cropped_4-YRPM.svg].\n",
      "2025-06-17 09:23:05,654 - INFO - Including file: [/data/kb_766/EyeAI_working/deriva-ml/execution/4-YTWW/asset/eye-ai/Fundus_Bounding_Box/Cropped_4-YRPP.svg].\n",
      "2025-06-17 09:23:05,654 - INFO - Including file: [/data/kb_766/EyeAI_working/deriva-ml/execution/4-YTWW/asset/eye-ai/Fundus_Bounding_Box/Cropped_4-YRPR.svg].\n",
      "2025-06-17 09:23:05,655 - INFO - Including file: [/data/kb_766/EyeAI_working/deriva-ml/execution/4-YTWW/asset/eye-ai/Fundus_Bounding_Box/Cropped_4-YRPT.svg].\n",
      "2025-06-17 09:23:05,655 - INFO - Including file: [/data/kb_766/EyeAI_working/deriva-ml/execution/4-YTWW/asset/eye-ai/Fundus_Bounding_Box/Cropped_4-YRPW.svg].\n",
      "2025-06-17 09:23:05,656 - INFO - Including file: [/data/kb_766/EyeAI_working/deriva-ml/execution/4-YTWW/asset/eye-ai/Fundus_Bounding_Box/Cropped_4-YRPY.svg].\n",
      "2025-06-17 09:23:05,656 - INFO - Including file: [/data/kb_766/EyeAI_working/deriva-ml/execution/4-YTWW/asset/eye-ai/Fundus_Bounding_Box/Cropped_4-YRQ0.svg].\n",
      "2025-06-17 09:23:05,657 - INFO - Including file: [/data/kb_766/EyeAI_working/deriva-ml/execution/4-YTWW/asset/eye-ai/Fundus_Bounding_Box/Cropped_4-YRQ2.svg].\n",
      "2025-06-17 09:23:05,657 - INFO - Including file: [/data/kb_766/EyeAI_working/deriva-ml/execution/4-YTWW/asset/eye-ai/Fundus_Bounding_Box/Cropped_4-YRQ4.svg].\n",
      "2025-06-17 09:23:05,658 - INFO - Including file: [/data/kb_766/EyeAI_working/deriva-ml/execution/4-YTWW/asset/eye-ai/Fundus_Bounding_Box/Cropped_4-YRQ6.svg].\n",
      "2025-06-17 09:23:05,658 - INFO - Including file: [/data/kb_766/EyeAI_working/deriva-ml/execution/4-YTWW/asset/eye-ai/Fundus_Bounding_Box/Cropped_4-YRQ8.svg].\n",
      "2025-06-17 09:23:05,659 - INFO - Including file: [/data/kb_766/EyeAI_working/deriva-ml/execution/4-YTWW/asset/eye-ai/Fundus_Bounding_Box/Cropped_4-YRQA.svg].\n",
      "2025-06-17 09:23:05,661 - INFO - Including file: [/data/kb_766/EyeAI_working/deriva-ml/execution/4-YTWW/asset/eye-ai/Fundus_Bounding_Box/Cropped_4-YRQC.svg].\n",
      "2025-06-17 09:23:05,661 - INFO - Including file: [/data/kb_766/EyeAI_working/deriva-ml/execution/4-YTWW/asset/eye-ai/Fundus_Bounding_Box/Cropped_4-YRQE.svg].\n",
      "2025-06-17 09:23:05,662 - INFO - Including file: [/data/kb_766/EyeAI_working/deriva-ml/execution/4-YTWW/asset/eye-ai/Fundus_Bounding_Box/Cropped_4-YRQG.svg].\n",
      "2025-06-17 09:23:05,662 - INFO - Including file: [/data/kb_766/EyeAI_working/deriva-ml/execution/4-YTWW/asset/eye-ai/Fundus_Bounding_Box/Cropped_4-YRQJ.svg].\n",
      "2025-06-17 09:23:05,663 - INFO - Including file: [/data/kb_766/EyeAI_working/deriva-ml/execution/4-YTWW/asset/eye-ai/Fundus_Bounding_Box/Cropped_4-YRQM.svg].\n",
      "2025-06-17 09:23:05,663 - INFO - Including file: [/data/kb_766/EyeAI_working/deriva-ml/execution/4-YTWW/asset/eye-ai/Fundus_Bounding_Box/Cropped_4-YRQP.svg].\n",
      "2025-06-17 09:23:05,664 - INFO - Including file: [/data/kb_766/EyeAI_working/deriva-ml/execution/4-YTWW/asset/eye-ai/Fundus_Bounding_Box/Cropped_4-YRQR.svg].\n",
      "2025-06-17 09:23:05,664 - INFO - Including file: [/data/kb_766/EyeAI_working/deriva-ml/execution/4-YTWW/asset/eye-ai/Fundus_Bounding_Box/Cropped_4-YRQT.svg].\n",
      "2025-06-17 09:23:05,665 - INFO - Including file: [/data/kb_766/EyeAI_working/deriva-ml/execution/4-YTWW/asset/eye-ai/Fundus_Bounding_Box/Cropped_4-YRQW.svg].\n",
      "2025-06-17 09:23:05,665 - INFO - Including file: [/data/kb_766/EyeAI_working/deriva-ml/execution/4-YTWW/asset/eye-ai/Fundus_Bounding_Box/Cropped_4-YRR0.svg].\n",
      "2025-06-17 09:23:05,666 - INFO - Including file: [/data/kb_766/EyeAI_working/deriva-ml/execution/4-YTWW/asset/eye-ai/Fundus_Bounding_Box/Cropped_4-YRR2.svg].\n",
      "2025-06-17 09:23:05,666 - INFO - Including file: [/data/kb_766/EyeAI_working/deriva-ml/execution/4-YTWW/asset/eye-ai/Fundus_Bounding_Box/Cropped_4-YRR6.svg].\n",
      "2025-06-17 09:23:05,667 - INFO - Including file: [/data/kb_766/EyeAI_working/deriva-ml/execution/4-YTWW/asset/eye-ai/Fundus_Bounding_Box/Cropped_4-YRR8.svg].\n",
      "2025-06-17 09:23:05,667 - INFO - Including file: [/data/kb_766/EyeAI_working/deriva-ml/execution/4-YTWW/asset/eye-ai/Fundus_Bounding_Box/Cropped_4-YRRA.svg].\n",
      "2025-06-17 09:23:05,668 - INFO - Including file: [/data/kb_766/EyeAI_working/deriva-ml/execution/4-YTWW/asset/eye-ai/Fundus_Bounding_Box/Cropped_4-YRRC.svg].\n",
      "2025-06-17 09:23:05,668 - INFO - Including file: [/data/kb_766/EyeAI_working/deriva-ml/execution/4-YTWW/asset/eye-ai/Fundus_Bounding_Box/Cropped_4-YRRJ.svg].\n",
      "2025-06-17 09:23:05,669 - INFO - Including file: [/data/kb_766/EyeAI_working/deriva-ml/execution/4-YTWW/asset/eye-ai/Fundus_Bounding_Box/Cropped_4-YRRM.svg].\n",
      "2025-06-17 09:23:05,669 - INFO - Including file: [/data/kb_766/EyeAI_working/deriva-ml/execution/4-YTWW/asset/eye-ai/Fundus_Bounding_Box/Cropped_4-YRRR.svg].\n",
      "2025-06-17 09:23:05,670 - INFO - Including file: [/data/kb_766/EyeAI_working/deriva-ml/execution/4-YTWW/asset/eye-ai/Fundus_Bounding_Box/Cropped_4-YRRT.svg].\n",
      "2025-06-17 09:23:05,670 - INFO - Including file: [/data/kb_766/EyeAI_working/deriva-ml/execution/4-YTWW/asset/eye-ai/Fundus_Bounding_Box/Cropped_4-YRRW.svg].\n",
      "2025-06-17 09:23:05,670 - INFO - Including file: [/data/kb_766/EyeAI_working/deriva-ml/execution/4-YTWW/asset/eye-ai/Fundus_Bounding_Box/Cropped_4-YRRY.svg].\n",
      "2025-06-17 09:23:05,671 - INFO - Including file: [/data/kb_766/EyeAI_working/deriva-ml/execution/4-YTWW/asset/eye-ai/Fundus_Bounding_Box/Cropped_4-YRS0.svg].\n",
      "2025-06-17 09:23:05,671 - INFO - Including file: [/data/kb_766/EyeAI_working/deriva-ml/execution/4-YTWW/asset/eye-ai/Fundus_Bounding_Box/Cropped_4-YRS2.svg].\n",
      "2025-06-17 09:23:05,672 - INFO - Including file: [/data/kb_766/EyeAI_working/deriva-ml/execution/4-YTWW/asset/eye-ai/Fundus_Bounding_Box/Cropped_4-YRS4.svg].\n",
      "2025-06-17 09:23:05,672 - INFO - Including file: [/data/kb_766/EyeAI_working/deriva-ml/execution/4-YTWW/asset/eye-ai/Fundus_Bounding_Box/Cropped_4-YRS6.svg].\n",
      "2025-06-17 09:23:05,673 - INFO - Including file: [/data/kb_766/EyeAI_working/deriva-ml/execution/4-YTWW/asset/eye-ai/Fundus_Bounding_Box/Cropped_4-YRS8.svg].\n",
      "2025-06-17 09:23:05,673 - INFO - Including file: [/data/kb_766/EyeAI_working/deriva-ml/execution/4-YTWW/asset/eye-ai/Fundus_Bounding_Box/Cropped_4-YRSC.svg].\n",
      "2025-06-17 09:23:05,677 - INFO - Including file: [/data/kb_766/EyeAI_working/deriva-ml/execution/4-YTWW/asset/eye-ai/Fundus_Bounding_Box/Cropped_4-YRSG.svg].\n",
      "2025-06-17 09:23:05,677 - INFO - Including file: [/data/kb_766/EyeAI_working/deriva-ml/execution/4-YTWW/asset/eye-ai/Fundus_Bounding_Box/Cropped_4-YRSJ.svg].\n",
      "2025-06-17 09:23:05,677 - INFO - Including file: [/data/kb_766/EyeAI_working/deriva-ml/execution/4-YTWW/asset/eye-ai/Fundus_Bounding_Box/Cropped_4-YRSM.svg].\n",
      "2025-06-17 09:23:05,678 - INFO - Including file: [/data/kb_766/EyeAI_working/deriva-ml/execution/4-YTWW/asset/eye-ai/Fundus_Bounding_Box/Cropped_4-YRSP.svg].\n",
      "2025-06-17 09:23:05,678 - INFO - Including file: [/data/kb_766/EyeAI_working/deriva-ml/execution/4-YTWW/asset/eye-ai/Fundus_Bounding_Box/Cropped_4-YRSR.svg].\n",
      "2025-06-17 09:23:05,679 - INFO - Including file: [/data/kb_766/EyeAI_working/deriva-ml/execution/4-YTWW/asset/eye-ai/Fundus_Bounding_Box/Cropped_4-YRST.svg].\n",
      "2025-06-17 09:23:05,679 - INFO - Including file: [/data/kb_766/EyeAI_working/deriva-ml/execution/4-YTWW/asset/eye-ai/Fundus_Bounding_Box/Cropped_4-YRSW.svg].\n",
      "2025-06-17 09:23:05,680 - INFO - Including file: [/data/kb_766/EyeAI_working/deriva-ml/execution/4-YTWW/asset/eye-ai/Fundus_Bounding_Box/Cropped_4-YRT0.svg].\n",
      "2025-06-17 09:23:05,680 - INFO - Including file: [/data/kb_766/EyeAI_working/deriva-ml/execution/4-YTWW/asset/eye-ai/Fundus_Bounding_Box/Cropped_4-YRT2.svg].\n",
      "2025-06-17 09:23:05,681 - INFO - Including file: [/data/kb_766/EyeAI_working/deriva-ml/execution/4-YTWW/asset/eye-ai/Fundus_Bounding_Box/Cropped_4-YRT4.svg].\n",
      "2025-06-17 09:23:05,681 - INFO - Including file: [/data/kb_766/EyeAI_working/deriva-ml/execution/4-YTWW/asset/eye-ai/Fundus_Bounding_Box/Cropped_4-YRT6.svg].\n",
      "2025-06-17 09:23:05,682 - INFO - Including file: [/data/kb_766/EyeAI_working/deriva-ml/execution/4-YTWW/asset/eye-ai/Fundus_Bounding_Box/Cropped_4-YRT8.svg].\n",
      "2025-06-17 09:23:05,682 - INFO - Including file: [/data/kb_766/EyeAI_working/deriva-ml/execution/4-YTWW/asset/eye-ai/Fundus_Bounding_Box/Cropped_4-YRTA.svg].\n",
      "2025-06-17 09:23:05,682 - INFO - Including file: [/data/kb_766/EyeAI_working/deriva-ml/execution/4-YTWW/asset/eye-ai/Fundus_Bounding_Box/Cropped_4-YRTC.svg].\n",
      "2025-06-17 09:23:05,683 - INFO - Including file: [/data/kb_766/EyeAI_working/deriva-ml/execution/4-YTWW/asset/eye-ai/Fundus_Bounding_Box/Cropped_4-YRTE.svg].\n",
      "2025-06-17 09:23:05,683 - INFO - Including file: [/data/kb_766/EyeAI_working/deriva-ml/execution/4-YTWW/asset/eye-ai/Fundus_Bounding_Box/Cropped_4-YRTG.svg].\n",
      "2025-06-17 09:23:05,684 - INFO - Including file: [/data/kb_766/EyeAI_working/deriva-ml/execution/4-YTWW/asset/eye-ai/Fundus_Bounding_Box/Cropped_4-YRTJ.svg].\n",
      "2025-06-17 09:23:05,684 - INFO - Including file: [/data/kb_766/EyeAI_working/deriva-ml/execution/4-YTWW/asset/eye-ai/Fundus_Bounding_Box/Cropped_4-YRTM.svg].\n",
      "2025-06-17 09:23:05,685 - INFO - Including file: [/data/kb_766/EyeAI_working/deriva-ml/execution/4-YTWW/asset/eye-ai/Fundus_Bounding_Box/Cropped_4-YRTR.svg].\n",
      "2025-06-17 09:23:05,685 - INFO - Including file: [/data/kb_766/EyeAI_working/deriva-ml/execution/4-YTWW/asset/eye-ai/Fundus_Bounding_Box/Cropped_4-YRTT.svg].\n",
      "2025-06-17 09:23:05,686 - INFO - Including file: [/data/kb_766/EyeAI_working/deriva-ml/execution/4-YTWW/asset/eye-ai/Fundus_Bounding_Box/Cropped_4-YRTW.svg].\n",
      "2025-06-17 09:23:05,686 - INFO - Including file: [/data/kb_766/EyeAI_working/deriva-ml/execution/4-YTWW/asset/eye-ai/Fundus_Bounding_Box/Cropped_4-YRTY.svg].\n",
      "2025-06-17 09:23:05,687 - INFO - Including file: [/data/kb_766/EyeAI_working/deriva-ml/execution/4-YTWW/asset/eye-ai/Fundus_Bounding_Box/Cropped_4-YRV2.svg].\n",
      "2025-06-17 09:23:05,687 - INFO - Including file: [/data/kb_766/EyeAI_working/deriva-ml/execution/4-YTWW/asset/eye-ai/Fundus_Bounding_Box/Cropped_4-YRV4.svg].\n",
      "2025-06-17 09:23:05,688 - INFO - Including file: [/data/kb_766/EyeAI_working/deriva-ml/execution/4-YTWW/asset/eye-ai/Fundus_Bounding_Box/Cropped_4-YRV6.svg].\n",
      "2025-06-17 09:23:05,688 - INFO - Including file: [/data/kb_766/EyeAI_working/deriva-ml/execution/4-YTWW/asset/eye-ai/Fundus_Bounding_Box/Cropped_4-YRV8.svg].\n",
      "2025-06-17 09:23:05,689 - INFO - Including file: [/data/kb_766/EyeAI_working/deriva-ml/execution/4-YTWW/asset/eye-ai/Fundus_Bounding_Box/Cropped_4-YRVE.svg].\n",
      "2025-06-17 09:23:05,689 - INFO - Including file: [/data/kb_766/EyeAI_working/deriva-ml/execution/4-YTWW/asset/eye-ai/Fundus_Bounding_Box/Cropped_4-YRVG.svg].\n",
      "2025-06-17 09:23:05,690 - INFO - Including file: [/data/kb_766/EyeAI_working/deriva-ml/execution/4-YTWW/asset/eye-ai/Fundus_Bounding_Box/Cropped_4-YRVJ.svg].\n",
      "2025-06-17 09:23:05,690 - INFO - Including file: [/data/kb_766/EyeAI_working/deriva-ml/execution/4-YTWW/asset/eye-ai/Fundus_Bounding_Box/Cropped_4-YRVR.svg].\n",
      "2025-06-17 09:23:05,691 - INFO - Including file: [/data/kb_766/EyeAI_working/deriva-ml/execution/4-YTWW/asset/eye-ai/Fundus_Bounding_Box/Cropped_4-YRVT.svg].\n",
      "2025-06-17 09:23:05,691 - INFO - Including file: [/data/kb_766/EyeAI_working/deriva-ml/execution/4-YTWW/asset/eye-ai/Fundus_Bounding_Box/Cropped_4-YRVW.svg].\n",
      "2025-06-17 09:23:05,691 - INFO - Including file: [/data/kb_766/EyeAI_working/deriva-ml/execution/4-YTWW/asset/eye-ai/Fundus_Bounding_Box/Cropped_4-YRVY.svg].\n",
      "2025-06-17 09:23:05,692 - INFO - Including file: [/data/kb_766/EyeAI_working/deriva-ml/execution/4-YTWW/asset/eye-ai/Fundus_Bounding_Box/Cropped_4-YRW0.svg].\n",
      "2025-06-17 09:23:05,692 - INFO - Including file: [/data/kb_766/EyeAI_working/deriva-ml/execution/4-YTWW/asset/eye-ai/Fundus_Bounding_Box/Cropped_4-YRW4.svg].\n",
      "2025-06-17 09:23:05,699 - INFO - Including file: [/data/kb_766/EyeAI_working/deriva-ml/execution/4-YTWW/asset/eye-ai/Fundus_Bounding_Box/Cropped_4-YRW6.svg].\n",
      "2025-06-17 09:23:05,699 - INFO - Including file: [/data/kb_766/EyeAI_working/deriva-ml/execution/4-YTWW/asset/eye-ai/Fundus_Bounding_Box/Cropped_4-YRW8.svg].\n",
      "2025-06-17 09:23:05,700 - INFO - Including file: [/data/kb_766/EyeAI_working/deriva-ml/execution/4-YTWW/asset/eye-ai/Fundus_Bounding_Box/Cropped_4-YRWA.svg].\n",
      "2025-06-17 09:23:05,701 - INFO - Including file: [/data/kb_766/EyeAI_working/deriva-ml/execution/4-YTWW/asset/eye-ai/Fundus_Bounding_Box/Cropped_4-YRWC.svg].\n",
      "2025-06-17 09:23:05,701 - INFO - Including file: [/data/kb_766/EyeAI_working/deriva-ml/execution/4-YTWW/asset/eye-ai/Fundus_Bounding_Box/Cropped_4-YRWE.svg].\n",
      "2025-06-17 09:23:05,702 - INFO - Including file: [/data/kb_766/EyeAI_working/deriva-ml/execution/4-YTWW/asset/eye-ai/Fundus_Bounding_Box/Cropped_4-YRWG.svg].\n",
      "2025-06-17 09:23:05,702 - INFO - Including file: [/data/kb_766/EyeAI_working/deriva-ml/execution/4-YTWW/asset/eye-ai/Fundus_Bounding_Box/Cropped_4-YRWJ.svg].\n",
      "2025-06-17 09:23:05,703 - INFO - Including file: [/data/kb_766/EyeAI_working/deriva-ml/execution/4-YTWW/asset/eye-ai/Fundus_Bounding_Box/Cropped_4-YRWR.svg].\n",
      "2025-06-17 09:23:05,703 - INFO - Including file: [/data/kb_766/EyeAI_working/deriva-ml/execution/4-YTWW/asset/eye-ai/Fundus_Bounding_Box/Cropped_4-YRWT.svg].\n",
      "2025-06-17 09:23:05,704 - INFO - Including file: [/data/kb_766/EyeAI_working/deriva-ml/execution/4-YTWW/asset/eye-ai/Fundus_Bounding_Box/Cropped_4-YRWW.svg].\n",
      "2025-06-17 09:23:05,704 - INFO - Including file: [/data/kb_766/EyeAI_working/deriva-ml/execution/4-YTWW/asset/eye-ai/Fundus_Bounding_Box/Cropped_4-YRWY.svg].\n",
      "2025-06-17 09:23:05,705 - INFO - Including file: [/data/kb_766/EyeAI_working/deriva-ml/execution/4-YTWW/asset/eye-ai/Fundus_Bounding_Box/Cropped_4-YRX0.svg].\n",
      "2025-06-17 09:23:05,707 - INFO - Including file: [/data/kb_766/EyeAI_working/deriva-ml/execution/4-YTWW/asset/eye-ai/Fundus_Bounding_Box/Cropped_4-YRX2.svg].\n",
      "2025-06-17 09:23:05,707 - INFO - Including file: [/data/kb_766/EyeAI_working/deriva-ml/execution/4-YTWW/asset/eye-ai/Fundus_Bounding_Box/Cropped_4-YRX4.svg].\n",
      "2025-06-17 09:23:05,708 - INFO - Including file: [/data/kb_766/EyeAI_working/deriva-ml/execution/4-YTWW/asset/eye-ai/Fundus_Bounding_Box/Cropped_4-YRX6.svg].\n",
      "2025-06-17 09:23:05,709 - INFO - Including file: [/data/kb_766/EyeAI_working/deriva-ml/execution/4-YTWW/asset/eye-ai/Fundus_Bounding_Box/Cropped_4-YRXA.svg].\n",
      "2025-06-17 09:23:05,709 - INFO - Including file: [/data/kb_766/EyeAI_working/deriva-ml/execution/4-YTWW/asset/eye-ai/Fundus_Bounding_Box/Cropped_4-YRXC.svg].\n",
      "2025-06-17 09:23:05,710 - INFO - Including file: [/data/kb_766/EyeAI_working/deriva-ml/execution/4-YTWW/asset/eye-ai/Fundus_Bounding_Box/Cropped_4-YRXE.svg].\n",
      "2025-06-17 09:23:05,710 - INFO - Including file: [/data/kb_766/EyeAI_working/deriva-ml/execution/4-YTWW/asset/eye-ai/Fundus_Bounding_Box/Cropped_4-YRXG.svg].\n",
      "2025-06-17 09:23:05,713 - INFO - Including file: [/data/kb_766/EyeAI_working/deriva-ml/execution/4-YTWW/asset/eye-ai/Fundus_Bounding_Box/Cropped_4-YRXJ.svg].\n",
      "2025-06-17 09:23:05,714 - INFO - Including file: [/data/kb_766/EyeAI_working/deriva-ml/execution/4-YTWW/asset/eye-ai/Fundus_Bounding_Box/Cropped_4-YRXM.svg].\n",
      "2025-06-17 09:23:05,714 - INFO - Including file: [/data/kb_766/EyeAI_working/deriva-ml/execution/4-YTWW/asset/eye-ai/Fundus_Bounding_Box/Cropped_4-YRXP.svg].\n",
      "2025-06-17 09:23:05,715 - INFO - Including file: [/data/kb_766/EyeAI_working/deriva-ml/execution/4-YTWW/asset/eye-ai/Fundus_Bounding_Box/Cropped_4-YRXT.svg].\n",
      "2025-06-17 09:23:05,715 - INFO - Including file: [/data/kb_766/EyeAI_working/deriva-ml/execution/4-YTWW/asset/eye-ai/Fundus_Bounding_Box/Cropped_4-YRXW.svg].\n",
      "2025-06-17 09:23:05,716 - INFO - Including file: [/data/kb_766/EyeAI_working/deriva-ml/execution/4-YTWW/asset/eye-ai/Fundus_Bounding_Box/Cropped_4-YRXY.svg].\n",
      "2025-06-17 09:23:05,717 - INFO - Including file: [/data/kb_766/EyeAI_working/deriva-ml/execution/4-YTWW/asset/eye-ai/Fundus_Bounding_Box/Cropped_4-YRY2.svg].\n",
      "2025-06-17 09:23:05,718 - INFO - Including file: [/data/kb_766/EyeAI_working/deriva-ml/execution/4-YTWW/asset/eye-ai/Fundus_Bounding_Box/Cropped_4-YRY4.svg].\n",
      "2025-06-17 09:23:05,719 - INFO - Including file: [/data/kb_766/EyeAI_working/deriva-ml/execution/4-YTWW/asset/eye-ai/Fundus_Bounding_Box/Cropped_4-YRY8.svg].\n",
      "2025-06-17 09:23:05,719 - INFO - Including file: [/data/kb_766/EyeAI_working/deriva-ml/execution/4-YTWW/asset/eye-ai/Fundus_Bounding_Box/Cropped_4-YRYA.svg].\n",
      "2025-06-17 09:23:05,720 - INFO - Including file: [/data/kb_766/EyeAI_working/deriva-ml/execution/4-YTWW/asset/eye-ai/Fundus_Bounding_Box/Cropped_4-YRYC.svg].\n",
      "2025-06-17 09:23:05,720 - INFO - Including file: [/data/kb_766/EyeAI_working/deriva-ml/execution/4-YTWW/asset/eye-ai/Fundus_Bounding_Box/Cropped_4-YRYE.svg].\n",
      "2025-06-17 09:23:05,721 - INFO - Including file: [/data/kb_766/EyeAI_working/deriva-ml/execution/4-YTWW/asset/eye-ai/Fundus_Bounding_Box/Cropped_4-YRYG.svg].\n",
      "2025-06-17 09:23:05,721 - INFO - Including file: [/data/kb_766/EyeAI_working/deriva-ml/execution/4-YTWW/asset/eye-ai/Fundus_Bounding_Box/Cropped_4-YRYJ.svg].\n",
      "2025-06-17 09:23:05,722 - INFO - Including file: [/data/kb_766/EyeAI_working/deriva-ml/execution/4-YTWW/asset/eye-ai/Fundus_Bounding_Box/Cropped_4-YRYM.svg].\n",
      "2025-06-17 09:23:05,723 - INFO - Including file: [/data/kb_766/EyeAI_working/deriva-ml/execution/4-YTWW/asset/eye-ai/Fundus_Bounding_Box/Cropped_4-YRYP.svg].\n",
      "2025-06-17 09:23:05,723 - INFO - Including file: [/data/kb_766/EyeAI_working/deriva-ml/execution/4-YTWW/asset/eye-ai/Fundus_Bounding_Box/Cropped_4-YRYR.svg].\n",
      "2025-06-17 09:23:05,724 - INFO - Including file: [/data/kb_766/EyeAI_working/deriva-ml/execution/4-YTWW/asset/eye-ai/Fundus_Bounding_Box/Cropped_4-YRYT.svg].\n",
      "2025-06-17 09:23:05,724 - INFO - Including file: [/data/kb_766/EyeAI_working/deriva-ml/execution/4-YTWW/asset/eye-ai/Fundus_Bounding_Box/Cropped_4-YRYW.svg].\n",
      "2025-06-17 09:23:05,725 - INFO - Including file: [/data/kb_766/EyeAI_working/deriva-ml/execution/4-YTWW/asset/eye-ai/Fundus_Bounding_Box/Cropped_4-YRYY.svg].\n",
      "2025-06-17 09:23:05,725 - INFO - Including file: [/data/kb_766/EyeAI_working/deriva-ml/execution/4-YTWW/asset/eye-ai/Fundus_Bounding_Box/Cropped_4-YRZ4.svg].\n",
      "2025-06-17 09:23:05,726 - INFO - Including file: [/data/kb_766/EyeAI_working/deriva-ml/execution/4-YTWW/asset/eye-ai/Fundus_Bounding_Box/Cropped_4-YRZ6.svg].\n",
      "2025-06-17 09:23:05,726 - INFO - Including file: [/data/kb_766/EyeAI_working/deriva-ml/execution/4-YTWW/asset/eye-ai/Fundus_Bounding_Box/Cropped_4-YRZ8.svg].\n",
      "2025-06-17 09:23:05,727 - INFO - Including file: [/data/kb_766/EyeAI_working/deriva-ml/execution/4-YTWW/asset/eye-ai/Fundus_Bounding_Box/Cropped_4-YRZA.svg].\n",
      "2025-06-17 09:23:05,728 - INFO - Including file: [/data/kb_766/EyeAI_working/deriva-ml/execution/4-YTWW/asset/eye-ai/Fundus_Bounding_Box/Cropped_4-YRZC.svg].\n",
      "2025-06-17 09:23:05,728 - INFO - Including file: [/data/kb_766/EyeAI_working/deriva-ml/execution/4-YTWW/asset/eye-ai/Fundus_Bounding_Box/Cropped_4-YRZE.svg].\n",
      "2025-06-17 09:23:05,729 - INFO - Including file: [/data/kb_766/EyeAI_working/deriva-ml/execution/4-YTWW/asset/eye-ai/Fundus_Bounding_Box/Cropped_4-YRZJ.svg].\n",
      "2025-06-17 09:23:05,729 - INFO - Including file: [/data/kb_766/EyeAI_working/deriva-ml/execution/4-YTWW/asset/eye-ai/Fundus_Bounding_Box/Cropped_4-YRZM.svg].\n",
      "2025-06-17 09:23:05,730 - INFO - Including file: [/data/kb_766/EyeAI_working/deriva-ml/execution/4-YTWW/asset/eye-ai/Fundus_Bounding_Box/Cropped_4-YRZP.svg].\n",
      "2025-06-17 09:23:05,730 - INFO - Including file: [/data/kb_766/EyeAI_working/deriva-ml/execution/4-YTWW/asset/eye-ai/Fundus_Bounding_Box/Cropped_4-YRZT.svg].\n",
      "2025-06-17 09:23:05,731 - INFO - Including file: [/data/kb_766/EyeAI_working/deriva-ml/execution/4-YTWW/asset/eye-ai/Fundus_Bounding_Box/Cropped_4-YRZW.svg].\n",
      "2025-06-17 09:23:05,731 - INFO - Including file: [/data/kb_766/EyeAI_working/deriva-ml/execution/4-YTWW/asset/eye-ai/Fundus_Bounding_Box/Cropped_4-YRZY.svg].\n",
      "2025-06-17 09:23:05,732 - INFO - Including file: [/data/kb_766/EyeAI_working/deriva-ml/execution/4-YTWW/asset/eye-ai/Fundus_Bounding_Box/Cropped_4-YS00.svg].\n",
      "2025-06-17 09:23:05,732 - INFO - Including file: [/data/kb_766/EyeAI_working/deriva-ml/execution/4-YTWW/asset/eye-ai/Fundus_Bounding_Box/Cropped_4-YS04.svg].\n",
      "2025-06-17 09:23:05,733 - INFO - Including file: [/data/kb_766/EyeAI_working/deriva-ml/execution/4-YTWW/asset/eye-ai/Fundus_Bounding_Box/Cropped_4-YS06.svg].\n",
      "2025-06-17 09:23:05,733 - INFO - Including file: [/data/kb_766/EyeAI_working/deriva-ml/execution/4-YTWW/asset/eye-ai/Fundus_Bounding_Box/Cropped_4-YS08.svg].\n",
      "2025-06-17 09:23:05,734 - INFO - Including file: [/data/kb_766/EyeAI_working/deriva-ml/execution/4-YTWW/asset/eye-ai/Fundus_Bounding_Box/Cropped_4-YS0A.svg].\n",
      "2025-06-17 09:23:05,734 - INFO - Including file: [/data/kb_766/EyeAI_working/deriva-ml/execution/4-YTWW/asset/eye-ai/Fundus_Bounding_Box/Cropped_4-YS0C.svg].\n",
      "2025-06-17 09:23:05,735 - INFO - Including file: [/data/kb_766/EyeAI_working/deriva-ml/execution/4-YTWW/asset/eye-ai/Fundus_Bounding_Box/Cropped_4-YS0E.svg].\n",
      "2025-06-17 09:23:05,735 - INFO - Including file: [/data/kb_766/EyeAI_working/deriva-ml/execution/4-YTWW/asset/eye-ai/Fundus_Bounding_Box/Cropped_4-YS0G.svg].\n",
      "2025-06-17 09:23:05,735 - INFO - Including file: [/data/kb_766/EyeAI_working/deriva-ml/execution/4-YTWW/asset/eye-ai/Fundus_Bounding_Box/Cropped_4-YS0J.svg].\n",
      "2025-06-17 09:23:05,736 - INFO - Including file: [/data/kb_766/EyeAI_working/deriva-ml/execution/4-YTWW/asset/eye-ai/Fundus_Bounding_Box/Cropped_4-YS0M.svg].\n",
      "2025-06-17 09:23:05,736 - INFO - Including file: [/data/kb_766/EyeAI_working/deriva-ml/execution/4-YTWW/asset/eye-ai/Fundus_Bounding_Box/Cropped_4-YS0R.svg].\n",
      "2025-06-17 09:23:05,737 - INFO - Including file: [/data/kb_766/EyeAI_working/deriva-ml/execution/4-YTWW/asset/eye-ai/Fundus_Bounding_Box/Cropped_4-YS0T.svg].\n",
      "2025-06-17 09:23:05,737 - INFO - Including file: [/data/kb_766/EyeAI_working/deriva-ml/execution/4-YTWW/asset/eye-ai/Fundus_Bounding_Box/Cropped_4-YS0W.svg].\n",
      "2025-06-17 09:23:05,738 - INFO - Including file: [/data/kb_766/EyeAI_working/deriva-ml/execution/4-YTWW/asset/eye-ai/Fundus_Bounding_Box/Cropped_4-YS0Y.svg].\n",
      "2025-06-17 09:23:05,738 - INFO - Including file: [/data/kb_766/EyeAI_working/deriva-ml/execution/4-YTWW/asset/eye-ai/Fundus_Bounding_Box/Cropped_4-YS10.svg].\n",
      "2025-06-17 09:23:05,739 - INFO - Including file: [/data/kb_766/EyeAI_working/deriva-ml/execution/4-YTWW/asset/eye-ai/Fundus_Bounding_Box/Cropped_4-YS12.svg].\n",
      "2025-06-17 09:23:05,739 - INFO - Including file: [/data/kb_766/EyeAI_working/deriva-ml/execution/4-YTWW/asset/eye-ai/Fundus_Bounding_Box/Cropped_4-YS14.svg].\n",
      "2025-06-17 09:23:05,740 - INFO - Including file: [/data/kb_766/EyeAI_working/deriva-ml/execution/4-YTWW/asset/eye-ai/Fundus_Bounding_Box/Cropped_4-YS16.svg].\n",
      "2025-06-17 09:23:05,740 - INFO - Including file: [/data/kb_766/EyeAI_working/deriva-ml/execution/4-YTWW/asset/eye-ai/Fundus_Bounding_Box/Cropped_4-YS18.svg].\n",
      "2025-06-17 09:23:05,740 - INFO - Including file: [/data/kb_766/EyeAI_working/deriva-ml/execution/4-YTWW/asset/eye-ai/Fundus_Bounding_Box/Cropped_4-YS1A.svg].\n",
      "2025-06-17 09:23:05,741 - INFO - Including file: [/data/kb_766/EyeAI_working/deriva-ml/execution/4-YTWW/asset/eye-ai/Fundus_Bounding_Box/Cropped_4-YS1C.svg].\n",
      "2025-06-17 09:23:05,741 - INFO - Including file: [/data/kb_766/EyeAI_working/deriva-ml/execution/4-YTWW/asset/eye-ai/Fundus_Bounding_Box/Cropped_4-YS1E.svg].\n",
      "2025-06-17 09:23:05,742 - INFO - Including file: [/data/kb_766/EyeAI_working/deriva-ml/execution/4-YTWW/asset/eye-ai/Fundus_Bounding_Box/Cropped_4-YS1G.svg].\n",
      "2025-06-17 09:23:05,742 - INFO - Including file: [/data/kb_766/EyeAI_working/deriva-ml/execution/4-YTWW/asset/eye-ai/Fundus_Bounding_Box/Cropped_4-YS1M.svg].\n",
      "2025-06-17 09:23:05,743 - INFO - Including file: [/data/kb_766/EyeAI_working/deriva-ml/execution/4-YTWW/asset/eye-ai/Fundus_Bounding_Box/Cropped_4-YS1P.svg].\n",
      "2025-06-17 09:23:05,743 - INFO - Including file: [/data/kb_766/EyeAI_working/deriva-ml/execution/4-YTWW/asset/eye-ai/Fundus_Bounding_Box/Cropped_4-YS1R.svg].\n",
      "2025-06-17 09:23:05,744 - INFO - Including file: [/data/kb_766/EyeAI_working/deriva-ml/execution/4-YTWW/asset/eye-ai/Fundus_Bounding_Box/Cropped_4-YS1T.svg].\n",
      "2025-06-17 09:23:05,744 - INFO - Including file: [/data/kb_766/EyeAI_working/deriva-ml/execution/4-YTWW/asset/eye-ai/Fundus_Bounding_Box/Cropped_4-YS1W.svg].\n",
      "2025-06-17 09:23:05,745 - INFO - Including file: [/data/kb_766/EyeAI_working/deriva-ml/execution/4-YTWW/asset/eye-ai/Fundus_Bounding_Box/Cropped_4-YS1Y.svg].\n",
      "2025-06-17 09:23:05,745 - INFO - Including file: [/data/kb_766/EyeAI_working/deriva-ml/execution/4-YTWW/asset/eye-ai/Fundus_Bounding_Box/Cropped_4-YS20.svg].\n",
      "2025-06-17 09:23:05,751 - INFO - Including file: [/data/kb_766/EyeAI_working/deriva-ml/execution/4-YTWW/asset/eye-ai/Fundus_Bounding_Box/Cropped_4-YS22.svg].\n",
      "2025-06-17 09:23:05,752 - INFO - Including file: [/data/kb_766/EyeAI_working/deriva-ml/execution/4-YTWW/asset/eye-ai/Fundus_Bounding_Box/Cropped_4-YS24.svg].\n",
      "2025-06-17 09:23:05,752 - INFO - Including file: [/data/kb_766/EyeAI_working/deriva-ml/execution/4-YTWW/asset/eye-ai/Fundus_Bounding_Box/Cropped_4-YS28.svg].\n",
      "2025-06-17 09:23:05,752 - INFO - Including file: [/data/kb_766/EyeAI_working/deriva-ml/execution/4-YTWW/asset/eye-ai/Fundus_Bounding_Box/Cropped_4-YS2A.svg].\n",
      "2025-06-17 09:23:05,753 - INFO - Including file: [/data/kb_766/EyeAI_working/deriva-ml/execution/4-YTWW/asset/eye-ai/Fundus_Bounding_Box/Cropped_4-YS2C.svg].\n",
      "2025-06-17 09:23:05,753 - INFO - Including file: [/data/kb_766/EyeAI_working/deriva-ml/execution/4-YTWW/asset/eye-ai/Fundus_Bounding_Box/Cropped_4-YS2E.svg].\n",
      "2025-06-17 09:23:05,754 - INFO - Including file: [/data/kb_766/EyeAI_working/deriva-ml/execution/4-YTWW/asset/eye-ai/Fundus_Bounding_Box/Cropped_4-YS2G.svg].\n",
      "2025-06-17 09:23:05,754 - INFO - Including file: [/data/kb_766/EyeAI_working/deriva-ml/execution/4-YTWW/asset/eye-ai/Fundus_Bounding_Box/Cropped_4-YS2J.svg].\n",
      "2025-06-17 09:23:05,755 - INFO - Including file: [/data/kb_766/EyeAI_working/deriva-ml/execution/4-YTWW/asset/eye-ai/Fundus_Bounding_Box/Cropped_4-YS2M.svg].\n",
      "2025-06-17 09:23:05,755 - INFO - Including file: [/data/kb_766/EyeAI_working/deriva-ml/execution/4-YTWW/asset/eye-ai/Fundus_Bounding_Box/Cropped_4-YS2P.svg].\n",
      "2025-06-17 09:23:05,757 - INFO - Including file: [/data/kb_766/EyeAI_working/deriva-ml/execution/4-YTWW/asset/eye-ai/Fundus_Bounding_Box/Cropped_4-YS2R.svg].\n",
      "2025-06-17 09:23:05,757 - INFO - Including file: [/data/kb_766/EyeAI_working/deriva-ml/execution/4-YTWW/asset/eye-ai/Fundus_Bounding_Box/Cropped_4-YS2T.svg].\n",
      "2025-06-17 09:23:05,758 - INFO - Including file: [/data/kb_766/EyeAI_working/deriva-ml/execution/4-YTWW/asset/eye-ai/Fundus_Bounding_Box/Cropped_4-YS2W.svg].\n",
      "2025-06-17 09:23:05,758 - INFO - Including file: [/data/kb_766/EyeAI_working/deriva-ml/execution/4-YTWW/asset/eye-ai/Fundus_Bounding_Box/Cropped_4-YS2Y.svg].\n",
      "2025-06-17 09:23:05,759 - INFO - Including file: [/data/kb_766/EyeAI_working/deriva-ml/execution/4-YTWW/asset/eye-ai/Fundus_Bounding_Box/Cropped_4-YS30.svg].\n",
      "2025-06-17 09:23:05,759 - INFO - Including file: [/data/kb_766/EyeAI_working/deriva-ml/execution/4-YTWW/asset/eye-ai/Fundus_Bounding_Box/Cropped_4-YS32.svg].\n",
      "2025-06-17 09:23:05,759 - INFO - Including file: [/data/kb_766/EyeAI_working/deriva-ml/execution/4-YTWW/asset/eye-ai/Fundus_Bounding_Box/Cropped_4-YS34.svg].\n",
      "2025-06-17 09:23:05,760 - INFO - Including file: [/data/kb_766/EyeAI_working/deriva-ml/execution/4-YTWW/asset/eye-ai/Fundus_Bounding_Box/Cropped_4-YS36.svg].\n",
      "2025-06-17 09:23:05,760 - INFO - Including file: [/data/kb_766/EyeAI_working/deriva-ml/execution/4-YTWW/asset/eye-ai/Fundus_Bounding_Box/Cropped_4-YS3C.svg].\n",
      "2025-06-17 09:23:05,761 - INFO - Including file: [/data/kb_766/EyeAI_working/deriva-ml/execution/4-YTWW/asset/eye-ai/Fundus_Bounding_Box/Cropped_4-YS3E.svg].\n",
      "2025-06-17 09:23:05,761 - INFO - Including file: [/data/kb_766/EyeAI_working/deriva-ml/execution/4-YTWW/asset/eye-ai/Fundus_Bounding_Box/Cropped_4-YS3G.svg].\n",
      "2025-06-17 09:23:05,762 - INFO - Including file: [/data/kb_766/EyeAI_working/deriva-ml/execution/4-YTWW/asset/eye-ai/Fundus_Bounding_Box/Cropped_4-YS3J.svg].\n",
      "2025-06-17 09:23:05,762 - INFO - Including file: [/data/kb_766/EyeAI_working/deriva-ml/execution/4-YTWW/asset/eye-ai/Fundus_Bounding_Box/Cropped_4-YS3P.svg].\n",
      "2025-06-17 09:23:05,764 - INFO - Including file: [/data/kb_766/EyeAI_working/deriva-ml/execution/4-YTWW/asset/eye-ai/Fundus_Bounding_Box/Cropped_4-YS3R.svg].\n",
      "2025-06-17 09:23:05,764 - INFO - Including file: [/data/kb_766/EyeAI_working/deriva-ml/execution/4-YTWW/asset/eye-ai/Fundus_Bounding_Box/Cropped_4-YS3T.svg].\n",
      "2025-06-17 09:23:05,765 - INFO - Including file: [/data/kb_766/EyeAI_working/deriva-ml/execution/4-YTWW/asset/eye-ai/Fundus_Bounding_Box/Cropped_4-YS3W.svg].\n",
      "2025-06-17 09:23:05,765 - INFO - Including file: [/data/kb_766/EyeAI_working/deriva-ml/execution/4-YTWW/asset/eye-ai/Fundus_Bounding_Box/Cropped_4-YS3Y.svg].\n",
      "2025-06-17 09:23:05,766 - INFO - Including file: [/data/kb_766/EyeAI_working/deriva-ml/execution/4-YTWW/asset/eye-ai/Fundus_Bounding_Box/Cropped_4-YS42.svg].\n",
      "2025-06-17 09:23:05,766 - INFO - Including file: [/data/kb_766/EyeAI_working/deriva-ml/execution/4-YTWW/asset/eye-ai/Fundus_Bounding_Box/Cropped_4-YS44.svg].\n",
      "2025-06-17 09:23:05,767 - INFO - Including file: [/data/kb_766/EyeAI_working/deriva-ml/execution/4-YTWW/asset/eye-ai/Fundus_Bounding_Box/Cropped_4-YS48.svg].\n",
      "2025-06-17 09:23:05,767 - INFO - Including file: [/data/kb_766/EyeAI_working/deriva-ml/execution/4-YTWW/asset/eye-ai/Fundus_Bounding_Box/Cropped_4-YS4A.svg].\n",
      "2025-06-17 09:23:05,768 - INFO - Including file: [/data/kb_766/EyeAI_working/deriva-ml/execution/4-YTWW/asset/eye-ai/Fundus_Bounding_Box/Cropped_4-YS4C.svg].\n",
      "2025-06-17 09:23:05,768 - INFO - Including file: [/data/kb_766/EyeAI_working/deriva-ml/execution/4-YTWW/asset/eye-ai/Fundus_Bounding_Box/Cropped_4-YS4E.svg].\n",
      "2025-06-17 09:23:05,769 - INFO - Including file: [/data/kb_766/EyeAI_working/deriva-ml/execution/4-YTWW/asset/eye-ai/Fundus_Bounding_Box/Cropped_4-YS4G.svg].\n",
      "2025-06-17 09:23:05,769 - INFO - Including file: [/data/kb_766/EyeAI_working/deriva-ml/execution/4-YTWW/asset/eye-ai/Fundus_Bounding_Box/Cropped_4-YS4J.svg].\n",
      "2025-06-17 09:23:05,770 - INFO - Including file: [/data/kb_766/EyeAI_working/deriva-ml/execution/4-YTWW/asset/eye-ai/Fundus_Bounding_Box/Cropped_4-YS4M.svg].\n",
      "2025-06-17 09:23:05,770 - INFO - Including file: [/data/kb_766/EyeAI_working/deriva-ml/execution/4-YTWW/asset/eye-ai/Fundus_Bounding_Box/Cropped_4-YS4R.svg].\n",
      "2025-06-17 09:23:05,771 - INFO - Including file: [/data/kb_766/EyeAI_working/deriva-ml/execution/4-YTWW/asset/eye-ai/Fundus_Bounding_Box/Cropped_4-YS4T.svg].\n",
      "2025-06-17 09:23:05,771 - INFO - Including file: [/data/kb_766/EyeAI_working/deriva-ml/execution/4-YTWW/asset/eye-ai/Fundus_Bounding_Box/Cropped_4-YS4W.svg].\n",
      "2025-06-17 09:23:05,772 - INFO - Including file: [/data/kb_766/EyeAI_working/deriva-ml/execution/4-YTWW/asset/eye-ai/Fundus_Bounding_Box/Cropped_4-YS4Y.svg].\n",
      "2025-06-17 09:23:05,772 - INFO - Including file: [/data/kb_766/EyeAI_working/deriva-ml/execution/4-YTWW/asset/eye-ai/Fundus_Bounding_Box/Cropped_4-YS50.svg].\n",
      "2025-06-17 09:23:05,773 - INFO - Including file: [/data/kb_766/EyeAI_working/deriva-ml/execution/4-YTWW/asset/eye-ai/Fundus_Bounding_Box/Cropped_4-YS52.svg].\n",
      "2025-06-17 09:23:05,773 - INFO - Including file: [/data/kb_766/EyeAI_working/deriva-ml/execution/4-YTWW/asset/eye-ai/Fundus_Bounding_Box/Cropped_4-YS54.svg].\n",
      "2025-06-17 09:23:05,774 - INFO - Including file: [/data/kb_766/EyeAI_working/deriva-ml/execution/4-YTWW/asset/eye-ai/Fundus_Bounding_Box/Cropped_4-YS56.svg].\n",
      "2025-06-17 09:23:05,774 - INFO - Including file: [/data/kb_766/EyeAI_working/deriva-ml/execution/4-YTWW/asset/eye-ai/Fundus_Bounding_Box/Cropped_4-YS58.svg].\n",
      "2025-06-17 09:23:05,775 - INFO - Including file: [/data/kb_766/EyeAI_working/deriva-ml/execution/4-YTWW/asset/eye-ai/Fundus_Bounding_Box/Cropped_4-YS5A.svg].\n",
      "2025-06-17 09:23:05,775 - INFO - Including file: [/data/kb_766/EyeAI_working/deriva-ml/execution/4-YTWW/asset/eye-ai/Fundus_Bounding_Box/Cropped_4-YS5C.svg].\n",
      "2025-06-17 09:23:05,779 - INFO - Including file: [/data/kb_766/EyeAI_working/deriva-ml/execution/4-YTWW/asset/eye-ai/Fundus_Bounding_Box/Cropped_4-YS5E.svg].\n",
      "2025-06-17 09:23:05,780 - INFO - Including file: [/data/kb_766/EyeAI_working/deriva-ml/execution/4-YTWW/asset/eye-ai/Fundus_Bounding_Box/Cropped_4-YS5G.svg].\n",
      "2025-06-17 09:23:05,780 - INFO - Including file: [/data/kb_766/EyeAI_working/deriva-ml/execution/4-YTWW/asset/eye-ai/Fundus_Bounding_Box/Cropped_4-YS5J.svg].\n",
      "2025-06-17 09:23:05,781 - INFO - Including file: [/data/kb_766/EyeAI_working/deriva-ml/execution/4-YTWW/asset/eye-ai/Fundus_Bounding_Box/Cropped_4-YS5M.svg].\n",
      "2025-06-17 09:23:05,781 - INFO - Including file: [/data/kb_766/EyeAI_working/deriva-ml/execution/4-YTWW/asset/eye-ai/Fundus_Bounding_Box/Cropped_4-YS5R.svg].\n",
      "2025-06-17 09:23:05,782 - INFO - Including file: [/data/kb_766/EyeAI_working/deriva-ml/execution/4-YTWW/asset/eye-ai/Fundus_Bounding_Box/Cropped_4-YS5T.svg].\n",
      "2025-06-17 09:23:05,783 - INFO - Processing: [/data/kb_766/EyeAI_working/deriva-ml/execution/4-YTWW/asset/deriva-ml/Execution_Metadata/configuration.json]\n",
      "2025-06-17 09:23:05,784 - INFO - Computed metadata for: [/data/kb_766/EyeAI_working/deriva-ml/execution/4-YTWW/asset/deriva-ml/Execution_Metadata/configuration.json].\n",
      "2025-06-17 09:23:05,784 - INFO - Computing checksums for file: [/data/kb_766/EyeAI_working/deriva-ml/execution/4-YTWW/asset/deriva-ml/Execution_Metadata/configuration.json]. Please wait...\n",
      "2025-06-17 09:23:05,786 - INFO - Uploading file: [/data/kb_766/EyeAI_working/deriva-ml/execution/4-YTWW/asset/deriva-ml/Execution_Metadata/configuration.json] to host https://www.eye-ai.org. Please wait...\n",
      "2025-06-17 09:23:06,219 - INFO - Processing: [/data/kb_766/EyeAI_working/deriva-ml/execution/4-YTWW/asset/deriva-ml/Execution_Metadata/environment_snapshot_20250617_090049.txt]\n",
      "2025-06-17 09:23:06,219 - INFO - Computed metadata for: [/data/kb_766/EyeAI_working/deriva-ml/execution/4-YTWW/asset/deriva-ml/Execution_Metadata/environment_snapshot_20250617_090049.txt].\n",
      "2025-06-17 09:23:06,220 - INFO - Computing checksums for file: [/data/kb_766/EyeAI_working/deriva-ml/execution/4-YTWW/asset/deriva-ml/Execution_Metadata/environment_snapshot_20250617_090049.txt]. Please wait...\n",
      "2025-06-17 09:23:06,221 - INFO - Uploading file: [/data/kb_766/EyeAI_working/deriva-ml/execution/4-YTWW/asset/deriva-ml/Execution_Metadata/environment_snapshot_20250617_090049.txt] to host https://www.eye-ai.org. Please wait...\n",
      "2025-06-17 09:23:06,444 - INFO - Processing: [/data/kb_766/EyeAI_working/deriva-ml/execution/4-YTWW/asset/eye-ai/Fundus_Bounding_Box/Cropped_4-YRP6.svg]\n",
      "2025-06-17 09:23:06,445 - INFO - Computed metadata for: [/data/kb_766/EyeAI_working/deriva-ml/execution/4-YTWW/asset/eye-ai/Fundus_Bounding_Box/Cropped_4-YRP6.svg].\n",
      "2025-06-17 09:23:06,446 - INFO - Computing checksums for file: [/data/kb_766/EyeAI_working/deriva-ml/execution/4-YTWW/asset/eye-ai/Fundus_Bounding_Box/Cropped_4-YRP6.svg]. Please wait...\n",
      "2025-06-17 09:23:06,447 - INFO - Uploading file: [/data/kb_766/EyeAI_working/deriva-ml/execution/4-YTWW/asset/eye-ai/Fundus_Bounding_Box/Cropped_4-YRP6.svg] to host https://www.eye-ai.org. Please wait...\n",
      "2025-06-17 09:23:06,578 - INFO - Processing: [/data/kb_766/EyeAI_working/deriva-ml/execution/4-YTWW/asset/eye-ai/Fundus_Bounding_Box/Cropped_4-YRP8.svg]\n",
      "2025-06-17 09:23:06,579 - INFO - Computed metadata for: [/data/kb_766/EyeAI_working/deriva-ml/execution/4-YTWW/asset/eye-ai/Fundus_Bounding_Box/Cropped_4-YRP8.svg].\n",
      "2025-06-17 09:23:06,580 - INFO - Computing checksums for file: [/data/kb_766/EyeAI_working/deriva-ml/execution/4-YTWW/asset/eye-ai/Fundus_Bounding_Box/Cropped_4-YRP8.svg]. Please wait...\n",
      "2025-06-17 09:23:06,581 - INFO - Uploading file: [/data/kb_766/EyeAI_working/deriva-ml/execution/4-YTWW/asset/eye-ai/Fundus_Bounding_Box/Cropped_4-YRP8.svg] to host https://www.eye-ai.org. Please wait...\n",
      "2025-06-17 09:23:06,705 - INFO - Processing: [/data/kb_766/EyeAI_working/deriva-ml/execution/4-YTWW/asset/eye-ai/Fundus_Bounding_Box/Cropped_4-YRPA.svg]\n",
      "2025-06-17 09:23:06,705 - INFO - Computed metadata for: [/data/kb_766/EyeAI_working/deriva-ml/execution/4-YTWW/asset/eye-ai/Fundus_Bounding_Box/Cropped_4-YRPA.svg].\n",
      "2025-06-17 09:23:06,706 - INFO - Computing checksums for file: [/data/kb_766/EyeAI_working/deriva-ml/execution/4-YTWW/asset/eye-ai/Fundus_Bounding_Box/Cropped_4-YRPA.svg]. Please wait...\n",
      "2025-06-17 09:23:06,707 - INFO - Uploading file: [/data/kb_766/EyeAI_working/deriva-ml/execution/4-YTWW/asset/eye-ai/Fundus_Bounding_Box/Cropped_4-YRPA.svg] to host https://www.eye-ai.org. Please wait...\n",
      "2025-06-17 09:23:06,824 - INFO - Processing: [/data/kb_766/EyeAI_working/deriva-ml/execution/4-YTWW/asset/eye-ai/Fundus_Bounding_Box/Cropped_4-YRPE.svg]\n",
      "2025-06-17 09:23:06,824 - INFO - Computed metadata for: [/data/kb_766/EyeAI_working/deriva-ml/execution/4-YTWW/asset/eye-ai/Fundus_Bounding_Box/Cropped_4-YRPE.svg].\n",
      "2025-06-17 09:23:06,824 - INFO - Computing checksums for file: [/data/kb_766/EyeAI_working/deriva-ml/execution/4-YTWW/asset/eye-ai/Fundus_Bounding_Box/Cropped_4-YRPE.svg]. Please wait...\n",
      "2025-06-17 09:23:06,826 - INFO - Uploading file: [/data/kb_766/EyeAI_working/deriva-ml/execution/4-YTWW/asset/eye-ai/Fundus_Bounding_Box/Cropped_4-YRPE.svg] to host https://www.eye-ai.org. Please wait...\n",
      "2025-06-17 09:23:06,963 - INFO - Processing: [/data/kb_766/EyeAI_working/deriva-ml/execution/4-YTWW/asset/eye-ai/Fundus_Bounding_Box/Cropped_4-YRPG.svg]\n",
      "2025-06-17 09:23:06,963 - INFO - Computed metadata for: [/data/kb_766/EyeAI_working/deriva-ml/execution/4-YTWW/asset/eye-ai/Fundus_Bounding_Box/Cropped_4-YRPG.svg].\n",
      "2025-06-17 09:23:06,964 - INFO - Computing checksums for file: [/data/kb_766/EyeAI_working/deriva-ml/execution/4-YTWW/asset/eye-ai/Fundus_Bounding_Box/Cropped_4-YRPG.svg]. Please wait...\n",
      "2025-06-17 09:23:06,965 - INFO - Uploading file: [/data/kb_766/EyeAI_working/deriva-ml/execution/4-YTWW/asset/eye-ai/Fundus_Bounding_Box/Cropped_4-YRPG.svg] to host https://www.eye-ai.org. Please wait...\n",
      "2025-06-17 09:23:07,092 - INFO - Processing: [/data/kb_766/EyeAI_working/deriva-ml/execution/4-YTWW/asset/eye-ai/Fundus_Bounding_Box/Cropped_4-YRPJ.svg]\n",
      "2025-06-17 09:23:07,093 - INFO - Computed metadata for: [/data/kb_766/EyeAI_working/deriva-ml/execution/4-YTWW/asset/eye-ai/Fundus_Bounding_Box/Cropped_4-YRPJ.svg].\n",
      "2025-06-17 09:23:07,093 - INFO - Computing checksums for file: [/data/kb_766/EyeAI_working/deriva-ml/execution/4-YTWW/asset/eye-ai/Fundus_Bounding_Box/Cropped_4-YRPJ.svg]. Please wait...\n",
      "2025-06-17 09:23:07,095 - INFO - Uploading file: [/data/kb_766/EyeAI_working/deriva-ml/execution/4-YTWW/asset/eye-ai/Fundus_Bounding_Box/Cropped_4-YRPJ.svg] to host https://www.eye-ai.org. Please wait...\n",
      "2025-06-17 09:23:07,207 - INFO - Processing: [/data/kb_766/EyeAI_working/deriva-ml/execution/4-YTWW/asset/eye-ai/Fundus_Bounding_Box/Cropped_4-YRPM.svg]\n",
      "2025-06-17 09:23:07,207 - INFO - Computed metadata for: [/data/kb_766/EyeAI_working/deriva-ml/execution/4-YTWW/asset/eye-ai/Fundus_Bounding_Box/Cropped_4-YRPM.svg].\n",
      "2025-06-17 09:23:07,208 - INFO - Computing checksums for file: [/data/kb_766/EyeAI_working/deriva-ml/execution/4-YTWW/asset/eye-ai/Fundus_Bounding_Box/Cropped_4-YRPM.svg]. Please wait...\n",
      "2025-06-17 09:23:07,209 - INFO - Uploading file: [/data/kb_766/EyeAI_working/deriva-ml/execution/4-YTWW/asset/eye-ai/Fundus_Bounding_Box/Cropped_4-YRPM.svg] to host https://www.eye-ai.org. Please wait...\n",
      "2025-06-17 09:23:07,320 - INFO - Processing: [/data/kb_766/EyeAI_working/deriva-ml/execution/4-YTWW/asset/eye-ai/Fundus_Bounding_Box/Cropped_4-YRPP.svg]\n",
      "2025-06-17 09:23:07,321 - INFO - Computed metadata for: [/data/kb_766/EyeAI_working/deriva-ml/execution/4-YTWW/asset/eye-ai/Fundus_Bounding_Box/Cropped_4-YRPP.svg].\n",
      "2025-06-17 09:23:07,322 - INFO - Computing checksums for file: [/data/kb_766/EyeAI_working/deriva-ml/execution/4-YTWW/asset/eye-ai/Fundus_Bounding_Box/Cropped_4-YRPP.svg]. Please wait...\n",
      "2025-06-17 09:23:07,323 - INFO - Uploading file: [/data/kb_766/EyeAI_working/deriva-ml/execution/4-YTWW/asset/eye-ai/Fundus_Bounding_Box/Cropped_4-YRPP.svg] to host https://www.eye-ai.org. Please wait...\n",
      "2025-06-17 09:23:07,486 - INFO - Processing: [/data/kb_766/EyeAI_working/deriva-ml/execution/4-YTWW/asset/eye-ai/Fundus_Bounding_Box/Cropped_4-YRPR.svg]\n",
      "2025-06-17 09:23:07,487 - INFO - Computed metadata for: [/data/kb_766/EyeAI_working/deriva-ml/execution/4-YTWW/asset/eye-ai/Fundus_Bounding_Box/Cropped_4-YRPR.svg].\n",
      "2025-06-17 09:23:07,487 - INFO - Computing checksums for file: [/data/kb_766/EyeAI_working/deriva-ml/execution/4-YTWW/asset/eye-ai/Fundus_Bounding_Box/Cropped_4-YRPR.svg]. Please wait...\n",
      "2025-06-17 09:23:07,489 - INFO - Uploading file: [/data/kb_766/EyeAI_working/deriva-ml/execution/4-YTWW/asset/eye-ai/Fundus_Bounding_Box/Cropped_4-YRPR.svg] to host https://www.eye-ai.org. Please wait...\n",
      "2025-06-17 09:23:07,589 - INFO - Processing: [/data/kb_766/EyeAI_working/deriva-ml/execution/4-YTWW/asset/eye-ai/Fundus_Bounding_Box/Cropped_4-YRPT.svg]\n",
      "2025-06-17 09:23:07,590 - INFO - Computed metadata for: [/data/kb_766/EyeAI_working/deriva-ml/execution/4-YTWW/asset/eye-ai/Fundus_Bounding_Box/Cropped_4-YRPT.svg].\n",
      "2025-06-17 09:23:07,590 - INFO - Computing checksums for file: [/data/kb_766/EyeAI_working/deriva-ml/execution/4-YTWW/asset/eye-ai/Fundus_Bounding_Box/Cropped_4-YRPT.svg]. Please wait...\n",
      "2025-06-17 09:23:07,592 - INFO - Uploading file: [/data/kb_766/EyeAI_working/deriva-ml/execution/4-YTWW/asset/eye-ai/Fundus_Bounding_Box/Cropped_4-YRPT.svg] to host https://www.eye-ai.org. Please wait...\n",
      "2025-06-17 09:23:07,733 - INFO - Processing: [/data/kb_766/EyeAI_working/deriva-ml/execution/4-YTWW/asset/eye-ai/Fundus_Bounding_Box/Cropped_4-YRPW.svg]\n",
      "2025-06-17 09:23:07,734 - INFO - Computed metadata for: [/data/kb_766/EyeAI_working/deriva-ml/execution/4-YTWW/asset/eye-ai/Fundus_Bounding_Box/Cropped_4-YRPW.svg].\n",
      "2025-06-17 09:23:07,734 - INFO - Computing checksums for file: [/data/kb_766/EyeAI_working/deriva-ml/execution/4-YTWW/asset/eye-ai/Fundus_Bounding_Box/Cropped_4-YRPW.svg]. Please wait...\n",
      "2025-06-17 09:23:07,736 - INFO - Uploading file: [/data/kb_766/EyeAI_working/deriva-ml/execution/4-YTWW/asset/eye-ai/Fundus_Bounding_Box/Cropped_4-YRPW.svg] to host https://www.eye-ai.org. Please wait...\n",
      "2025-06-17 09:23:07,825 - INFO - Processing: [/data/kb_766/EyeAI_working/deriva-ml/execution/4-YTWW/asset/eye-ai/Fundus_Bounding_Box/Cropped_4-YRPY.svg]\n",
      "2025-06-17 09:23:07,826 - INFO - Computed metadata for: [/data/kb_766/EyeAI_working/deriva-ml/execution/4-YTWW/asset/eye-ai/Fundus_Bounding_Box/Cropped_4-YRPY.svg].\n",
      "2025-06-17 09:23:07,827 - INFO - Computing checksums for file: [/data/kb_766/EyeAI_working/deriva-ml/execution/4-YTWW/asset/eye-ai/Fundus_Bounding_Box/Cropped_4-YRPY.svg]. Please wait...\n",
      "2025-06-17 09:23:07,828 - INFO - Uploading file: [/data/kb_766/EyeAI_working/deriva-ml/execution/4-YTWW/asset/eye-ai/Fundus_Bounding_Box/Cropped_4-YRPY.svg] to host https://www.eye-ai.org. Please wait...\n",
      "2025-06-17 09:23:07,920 - INFO - Processing: [/data/kb_766/EyeAI_working/deriva-ml/execution/4-YTWW/asset/eye-ai/Fundus_Bounding_Box/Cropped_4-YRQ0.svg]\n",
      "2025-06-17 09:23:07,920 - INFO - Computed metadata for: [/data/kb_766/EyeAI_working/deriva-ml/execution/4-YTWW/asset/eye-ai/Fundus_Bounding_Box/Cropped_4-YRQ0.svg].\n",
      "2025-06-17 09:23:07,921 - INFO - Computing checksums for file: [/data/kb_766/EyeAI_working/deriva-ml/execution/4-YTWW/asset/eye-ai/Fundus_Bounding_Box/Cropped_4-YRQ0.svg]. Please wait...\n",
      "2025-06-17 09:23:07,922 - INFO - Uploading file: [/data/kb_766/EyeAI_working/deriva-ml/execution/4-YTWW/asset/eye-ai/Fundus_Bounding_Box/Cropped_4-YRQ0.svg] to host https://www.eye-ai.org. Please wait...\n",
      "2025-06-17 09:23:08,041 - INFO - Processing: [/data/kb_766/EyeAI_working/deriva-ml/execution/4-YTWW/asset/eye-ai/Fundus_Bounding_Box/Cropped_4-YRQ2.svg]\n",
      "2025-06-17 09:23:08,042 - INFO - Computed metadata for: [/data/kb_766/EyeAI_working/deriva-ml/execution/4-YTWW/asset/eye-ai/Fundus_Bounding_Box/Cropped_4-YRQ2.svg].\n",
      "2025-06-17 09:23:08,042 - INFO - Computing checksums for file: [/data/kb_766/EyeAI_working/deriva-ml/execution/4-YTWW/asset/eye-ai/Fundus_Bounding_Box/Cropped_4-YRQ2.svg]. Please wait...\n",
      "2025-06-17 09:23:08,044 - INFO - Uploading file: [/data/kb_766/EyeAI_working/deriva-ml/execution/4-YTWW/asset/eye-ai/Fundus_Bounding_Box/Cropped_4-YRQ2.svg] to host https://www.eye-ai.org. Please wait...\n",
      "2025-06-17 09:23:08,178 - INFO - Processing: [/data/kb_766/EyeAI_working/deriva-ml/execution/4-YTWW/asset/eye-ai/Fundus_Bounding_Box/Cropped_4-YRQ4.svg]\n",
      "2025-06-17 09:23:08,178 - INFO - Computed metadata for: [/data/kb_766/EyeAI_working/deriva-ml/execution/4-YTWW/asset/eye-ai/Fundus_Bounding_Box/Cropped_4-YRQ4.svg].\n",
      "2025-06-17 09:23:08,179 - INFO - Computing checksums for file: [/data/kb_766/EyeAI_working/deriva-ml/execution/4-YTWW/asset/eye-ai/Fundus_Bounding_Box/Cropped_4-YRQ4.svg]. Please wait...\n",
      "2025-06-17 09:23:08,180 - INFO - Uploading file: [/data/kb_766/EyeAI_working/deriva-ml/execution/4-YTWW/asset/eye-ai/Fundus_Bounding_Box/Cropped_4-YRQ4.svg] to host https://www.eye-ai.org. Please wait...\n",
      "2025-06-17 09:23:08,340 - INFO - Processing: [/data/kb_766/EyeAI_working/deriva-ml/execution/4-YTWW/asset/eye-ai/Fundus_Bounding_Box/Cropped_4-YRQ6.svg]\n",
      "2025-06-17 09:23:08,341 - INFO - Computed metadata for: [/data/kb_766/EyeAI_working/deriva-ml/execution/4-YTWW/asset/eye-ai/Fundus_Bounding_Box/Cropped_4-YRQ6.svg].\n",
      "2025-06-17 09:23:08,342 - INFO - Computing checksums for file: [/data/kb_766/EyeAI_working/deriva-ml/execution/4-YTWW/asset/eye-ai/Fundus_Bounding_Box/Cropped_4-YRQ6.svg]. Please wait...\n",
      "2025-06-17 09:23:08,343 - INFO - Uploading file: [/data/kb_766/EyeAI_working/deriva-ml/execution/4-YTWW/asset/eye-ai/Fundus_Bounding_Box/Cropped_4-YRQ6.svg] to host https://www.eye-ai.org. Please wait...\n",
      "2025-06-17 09:23:08,434 - INFO - Processing: [/data/kb_766/EyeAI_working/deriva-ml/execution/4-YTWW/asset/eye-ai/Fundus_Bounding_Box/Cropped_4-YRQ8.svg]\n",
      "2025-06-17 09:23:08,435 - INFO - Computed metadata for: [/data/kb_766/EyeAI_working/deriva-ml/execution/4-YTWW/asset/eye-ai/Fundus_Bounding_Box/Cropped_4-YRQ8.svg].\n",
      "2025-06-17 09:23:08,435 - INFO - Computing checksums for file: [/data/kb_766/EyeAI_working/deriva-ml/execution/4-YTWW/asset/eye-ai/Fundus_Bounding_Box/Cropped_4-YRQ8.svg]. Please wait...\n",
      "2025-06-17 09:23:08,437 - INFO - Uploading file: [/data/kb_766/EyeAI_working/deriva-ml/execution/4-YTWW/asset/eye-ai/Fundus_Bounding_Box/Cropped_4-YRQ8.svg] to host https://www.eye-ai.org. Please wait...\n",
      "2025-06-17 09:23:08,545 - INFO - Processing: [/data/kb_766/EyeAI_working/deriva-ml/execution/4-YTWW/asset/eye-ai/Fundus_Bounding_Box/Cropped_4-YRQA.svg]\n",
      "2025-06-17 09:23:08,545 - INFO - Computed metadata for: [/data/kb_766/EyeAI_working/deriva-ml/execution/4-YTWW/asset/eye-ai/Fundus_Bounding_Box/Cropped_4-YRQA.svg].\n",
      "2025-06-17 09:23:08,546 - INFO - Computing checksums for file: [/data/kb_766/EyeAI_working/deriva-ml/execution/4-YTWW/asset/eye-ai/Fundus_Bounding_Box/Cropped_4-YRQA.svg]. Please wait...\n",
      "2025-06-17 09:23:08,547 - INFO - Uploading file: [/data/kb_766/EyeAI_working/deriva-ml/execution/4-YTWW/asset/eye-ai/Fundus_Bounding_Box/Cropped_4-YRQA.svg] to host https://www.eye-ai.org. Please wait...\n",
      "2025-06-17 09:23:08,659 - INFO - Processing: [/data/kb_766/EyeAI_working/deriva-ml/execution/4-YTWW/asset/eye-ai/Fundus_Bounding_Box/Cropped_4-YRQC.svg]\n",
      "2025-06-17 09:23:08,660 - INFO - Computed metadata for: [/data/kb_766/EyeAI_working/deriva-ml/execution/4-YTWW/asset/eye-ai/Fundus_Bounding_Box/Cropped_4-YRQC.svg].\n",
      "2025-06-17 09:23:08,661 - INFO - Computing checksums for file: [/data/kb_766/EyeAI_working/deriva-ml/execution/4-YTWW/asset/eye-ai/Fundus_Bounding_Box/Cropped_4-YRQC.svg]. Please wait...\n",
      "2025-06-17 09:23:08,662 - INFO - Uploading file: [/data/kb_766/EyeAI_working/deriva-ml/execution/4-YTWW/asset/eye-ai/Fundus_Bounding_Box/Cropped_4-YRQC.svg] to host https://www.eye-ai.org. Please wait...\n",
      "2025-06-17 09:23:08,757 - INFO - Processing: [/data/kb_766/EyeAI_working/deriva-ml/execution/4-YTWW/asset/eye-ai/Fundus_Bounding_Box/Cropped_4-YRQE.svg]\n",
      "2025-06-17 09:23:08,758 - INFO - Computed metadata for: [/data/kb_766/EyeAI_working/deriva-ml/execution/4-YTWW/asset/eye-ai/Fundus_Bounding_Box/Cropped_4-YRQE.svg].\n",
      "2025-06-17 09:23:08,758 - INFO - Computing checksums for file: [/data/kb_766/EyeAI_working/deriva-ml/execution/4-YTWW/asset/eye-ai/Fundus_Bounding_Box/Cropped_4-YRQE.svg]. Please wait...\n",
      "2025-06-17 09:23:08,759 - INFO - Uploading file: [/data/kb_766/EyeAI_working/deriva-ml/execution/4-YTWW/asset/eye-ai/Fundus_Bounding_Box/Cropped_4-YRQE.svg] to host https://www.eye-ai.org. Please wait...\n",
      "2025-06-17 09:23:08,853 - INFO - Processing: [/data/kb_766/EyeAI_working/deriva-ml/execution/4-YTWW/asset/eye-ai/Fundus_Bounding_Box/Cropped_4-YRQG.svg]\n",
      "2025-06-17 09:23:08,854 - INFO - Computed metadata for: [/data/kb_766/EyeAI_working/deriva-ml/execution/4-YTWW/asset/eye-ai/Fundus_Bounding_Box/Cropped_4-YRQG.svg].\n",
      "2025-06-17 09:23:08,854 - INFO - Computing checksums for file: [/data/kb_766/EyeAI_working/deriva-ml/execution/4-YTWW/asset/eye-ai/Fundus_Bounding_Box/Cropped_4-YRQG.svg]. Please wait...\n",
      "2025-06-17 09:23:08,856 - INFO - Uploading file: [/data/kb_766/EyeAI_working/deriva-ml/execution/4-YTWW/asset/eye-ai/Fundus_Bounding_Box/Cropped_4-YRQG.svg] to host https://www.eye-ai.org. Please wait...\n",
      "2025-06-17 09:23:08,947 - INFO - Processing: [/data/kb_766/EyeAI_working/deriva-ml/execution/4-YTWW/asset/eye-ai/Fundus_Bounding_Box/Cropped_4-YRQJ.svg]\n",
      "2025-06-17 09:23:08,948 - INFO - Computed metadata for: [/data/kb_766/EyeAI_working/deriva-ml/execution/4-YTWW/asset/eye-ai/Fundus_Bounding_Box/Cropped_4-YRQJ.svg].\n",
      "2025-06-17 09:23:08,949 - INFO - Computing checksums for file: [/data/kb_766/EyeAI_working/deriva-ml/execution/4-YTWW/asset/eye-ai/Fundus_Bounding_Box/Cropped_4-YRQJ.svg]. Please wait...\n",
      "2025-06-17 09:23:08,950 - INFO - Uploading file: [/data/kb_766/EyeAI_working/deriva-ml/execution/4-YTWW/asset/eye-ai/Fundus_Bounding_Box/Cropped_4-YRQJ.svg] to host https://www.eye-ai.org. Please wait...\n",
      "2025-06-17 09:23:09,102 - INFO - Processing: [/data/kb_766/EyeAI_working/deriva-ml/execution/4-YTWW/asset/eye-ai/Fundus_Bounding_Box/Cropped_4-YRQM.svg]\n",
      "2025-06-17 09:23:09,103 - INFO - Computed metadata for: [/data/kb_766/EyeAI_working/deriva-ml/execution/4-YTWW/asset/eye-ai/Fundus_Bounding_Box/Cropped_4-YRQM.svg].\n",
      "2025-06-17 09:23:09,104 - INFO - Computing checksums for file: [/data/kb_766/EyeAI_working/deriva-ml/execution/4-YTWW/asset/eye-ai/Fundus_Bounding_Box/Cropped_4-YRQM.svg]. Please wait...\n",
      "2025-06-17 09:23:09,105 - INFO - Uploading file: [/data/kb_766/EyeAI_working/deriva-ml/execution/4-YTWW/asset/eye-ai/Fundus_Bounding_Box/Cropped_4-YRQM.svg] to host https://www.eye-ai.org. Please wait...\n",
      "2025-06-17 09:23:09,214 - INFO - Processing: [/data/kb_766/EyeAI_working/deriva-ml/execution/4-YTWW/asset/eye-ai/Fundus_Bounding_Box/Cropped_4-YRQP.svg]\n",
      "2025-06-17 09:23:09,215 - INFO - Computed metadata for: [/data/kb_766/EyeAI_working/deriva-ml/execution/4-YTWW/asset/eye-ai/Fundus_Bounding_Box/Cropped_4-YRQP.svg].\n",
      "2025-06-17 09:23:09,216 - INFO - Computing checksums for file: [/data/kb_766/EyeAI_working/deriva-ml/execution/4-YTWW/asset/eye-ai/Fundus_Bounding_Box/Cropped_4-YRQP.svg]. Please wait...\n",
      "2025-06-17 09:23:09,217 - INFO - Uploading file: [/data/kb_766/EyeAI_working/deriva-ml/execution/4-YTWW/asset/eye-ai/Fundus_Bounding_Box/Cropped_4-YRQP.svg] to host https://www.eye-ai.org. Please wait...\n",
      "2025-06-17 09:23:09,302 - INFO - Processing: [/data/kb_766/EyeAI_working/deriva-ml/execution/4-YTWW/asset/eye-ai/Fundus_Bounding_Box/Cropped_4-YRQR.svg]\n",
      "2025-06-17 09:23:09,303 - INFO - Computed metadata for: [/data/kb_766/EyeAI_working/deriva-ml/execution/4-YTWW/asset/eye-ai/Fundus_Bounding_Box/Cropped_4-YRQR.svg].\n",
      "2025-06-17 09:23:09,303 - INFO - Computing checksums for file: [/data/kb_766/EyeAI_working/deriva-ml/execution/4-YTWW/asset/eye-ai/Fundus_Bounding_Box/Cropped_4-YRQR.svg]. Please wait...\n",
      "2025-06-17 09:23:09,305 - INFO - Uploading file: [/data/kb_766/EyeAI_working/deriva-ml/execution/4-YTWW/asset/eye-ai/Fundus_Bounding_Box/Cropped_4-YRQR.svg] to host https://www.eye-ai.org. Please wait...\n",
      "2025-06-17 09:23:09,391 - INFO - Processing: [/data/kb_766/EyeAI_working/deriva-ml/execution/4-YTWW/asset/eye-ai/Fundus_Bounding_Box/Cropped_4-YRQT.svg]\n",
      "2025-06-17 09:23:09,392 - INFO - Computed metadata for: [/data/kb_766/EyeAI_working/deriva-ml/execution/4-YTWW/asset/eye-ai/Fundus_Bounding_Box/Cropped_4-YRQT.svg].\n",
      "2025-06-17 09:23:09,392 - INFO - Computing checksums for file: [/data/kb_766/EyeAI_working/deriva-ml/execution/4-YTWW/asset/eye-ai/Fundus_Bounding_Box/Cropped_4-YRQT.svg]. Please wait...\n",
      "2025-06-17 09:23:09,394 - INFO - Uploading file: [/data/kb_766/EyeAI_working/deriva-ml/execution/4-YTWW/asset/eye-ai/Fundus_Bounding_Box/Cropped_4-YRQT.svg] to host https://www.eye-ai.org. Please wait...\n",
      "2025-06-17 09:23:09,481 - INFO - Processing: [/data/kb_766/EyeAI_working/deriva-ml/execution/4-YTWW/asset/eye-ai/Fundus_Bounding_Box/Cropped_4-YRQW.svg]\n",
      "2025-06-17 09:23:09,481 - INFO - Computed metadata for: [/data/kb_766/EyeAI_working/deriva-ml/execution/4-YTWW/asset/eye-ai/Fundus_Bounding_Box/Cropped_4-YRQW.svg].\n",
      "2025-06-17 09:23:09,482 - INFO - Computing checksums for file: [/data/kb_766/EyeAI_working/deriva-ml/execution/4-YTWW/asset/eye-ai/Fundus_Bounding_Box/Cropped_4-YRQW.svg]. Please wait...\n",
      "2025-06-17 09:23:09,483 - INFO - Uploading file: [/data/kb_766/EyeAI_working/deriva-ml/execution/4-YTWW/asset/eye-ai/Fundus_Bounding_Box/Cropped_4-YRQW.svg] to host https://www.eye-ai.org. Please wait...\n",
      "2025-06-17 09:23:09,576 - INFO - Processing: [/data/kb_766/EyeAI_working/deriva-ml/execution/4-YTWW/asset/eye-ai/Fundus_Bounding_Box/Cropped_4-YRR0.svg]\n",
      "2025-06-17 09:23:09,577 - INFO - Computed metadata for: [/data/kb_766/EyeAI_working/deriva-ml/execution/4-YTWW/asset/eye-ai/Fundus_Bounding_Box/Cropped_4-YRR0.svg].\n",
      "2025-06-17 09:23:09,577 - INFO - Computing checksums for file: [/data/kb_766/EyeAI_working/deriva-ml/execution/4-YTWW/asset/eye-ai/Fundus_Bounding_Box/Cropped_4-YRR0.svg]. Please wait...\n",
      "2025-06-17 09:23:09,578 - INFO - Uploading file: [/data/kb_766/EyeAI_working/deriva-ml/execution/4-YTWW/asset/eye-ai/Fundus_Bounding_Box/Cropped_4-YRR0.svg] to host https://www.eye-ai.org. Please wait...\n",
      "2025-06-17 09:23:09,677 - INFO - Processing: [/data/kb_766/EyeAI_working/deriva-ml/execution/4-YTWW/asset/eye-ai/Fundus_Bounding_Box/Cropped_4-YRR2.svg]\n",
      "2025-06-17 09:23:09,678 - INFO - Computed metadata for: [/data/kb_766/EyeAI_working/deriva-ml/execution/4-YTWW/asset/eye-ai/Fundus_Bounding_Box/Cropped_4-YRR2.svg].\n",
      "2025-06-17 09:23:09,679 - INFO - Computing checksums for file: [/data/kb_766/EyeAI_working/deriva-ml/execution/4-YTWW/asset/eye-ai/Fundus_Bounding_Box/Cropped_4-YRR2.svg]. Please wait...\n",
      "2025-06-17 09:23:09,680 - INFO - Uploading file: [/data/kb_766/EyeAI_working/deriva-ml/execution/4-YTWW/asset/eye-ai/Fundus_Bounding_Box/Cropped_4-YRR2.svg] to host https://www.eye-ai.org. Please wait...\n",
      "2025-06-17 09:23:09,768 - INFO - Processing: [/data/kb_766/EyeAI_working/deriva-ml/execution/4-YTWW/asset/eye-ai/Fundus_Bounding_Box/Cropped_4-YRR6.svg]\n",
      "2025-06-17 09:23:09,768 - INFO - Computed metadata for: [/data/kb_766/EyeAI_working/deriva-ml/execution/4-YTWW/asset/eye-ai/Fundus_Bounding_Box/Cropped_4-YRR6.svg].\n",
      "2025-06-17 09:23:09,769 - INFO - Computing checksums for file: [/data/kb_766/EyeAI_working/deriva-ml/execution/4-YTWW/asset/eye-ai/Fundus_Bounding_Box/Cropped_4-YRR6.svg]. Please wait...\n",
      "2025-06-17 09:23:09,770 - INFO - Uploading file: [/data/kb_766/EyeAI_working/deriva-ml/execution/4-YTWW/asset/eye-ai/Fundus_Bounding_Box/Cropped_4-YRR6.svg] to host https://www.eye-ai.org. Please wait...\n",
      "2025-06-17 09:23:09,939 - INFO - Processing: [/data/kb_766/EyeAI_working/deriva-ml/execution/4-YTWW/asset/eye-ai/Fundus_Bounding_Box/Cropped_4-YRR8.svg]\n",
      "2025-06-17 09:23:09,940 - INFO - Computed metadata for: [/data/kb_766/EyeAI_working/deriva-ml/execution/4-YTWW/asset/eye-ai/Fundus_Bounding_Box/Cropped_4-YRR8.svg].\n",
      "2025-06-17 09:23:09,941 - INFO - Computing checksums for file: [/data/kb_766/EyeAI_working/deriva-ml/execution/4-YTWW/asset/eye-ai/Fundus_Bounding_Box/Cropped_4-YRR8.svg]. Please wait...\n",
      "2025-06-17 09:23:09,941 - INFO - Uploading file: [/data/kb_766/EyeAI_working/deriva-ml/execution/4-YTWW/asset/eye-ai/Fundus_Bounding_Box/Cropped_4-YRR8.svg] to host https://www.eye-ai.org. Please wait...\n",
      "2025-06-17 09:23:10,031 - INFO - Processing: [/data/kb_766/EyeAI_working/deriva-ml/execution/4-YTWW/asset/eye-ai/Fundus_Bounding_Box/Cropped_4-YRRA.svg]\n",
      "2025-06-17 09:23:10,032 - INFO - Computed metadata for: [/data/kb_766/EyeAI_working/deriva-ml/execution/4-YTWW/asset/eye-ai/Fundus_Bounding_Box/Cropped_4-YRRA.svg].\n",
      "2025-06-17 09:23:10,032 - INFO - Computing checksums for file: [/data/kb_766/EyeAI_working/deriva-ml/execution/4-YTWW/asset/eye-ai/Fundus_Bounding_Box/Cropped_4-YRRA.svg]. Please wait...\n",
      "2025-06-17 09:23:10,034 - INFO - Uploading file: [/data/kb_766/EyeAI_working/deriva-ml/execution/4-YTWW/asset/eye-ai/Fundus_Bounding_Box/Cropped_4-YRRA.svg] to host https://www.eye-ai.org. Please wait...\n",
      "2025-06-17 09:23:10,124 - INFO - Processing: [/data/kb_766/EyeAI_working/deriva-ml/execution/4-YTWW/asset/eye-ai/Fundus_Bounding_Box/Cropped_4-YRRC.svg]\n",
      "2025-06-17 09:23:10,124 - INFO - Computed metadata for: [/data/kb_766/EyeAI_working/deriva-ml/execution/4-YTWW/asset/eye-ai/Fundus_Bounding_Box/Cropped_4-YRRC.svg].\n",
      "2025-06-17 09:23:10,125 - INFO - Computing checksums for file: [/data/kb_766/EyeAI_working/deriva-ml/execution/4-YTWW/asset/eye-ai/Fundus_Bounding_Box/Cropped_4-YRRC.svg]. Please wait...\n",
      "2025-06-17 09:23:10,126 - INFO - Uploading file: [/data/kb_766/EyeAI_working/deriva-ml/execution/4-YTWW/asset/eye-ai/Fundus_Bounding_Box/Cropped_4-YRRC.svg] to host https://www.eye-ai.org. Please wait...\n",
      "2025-06-17 09:23:10,287 - INFO - Processing: [/data/kb_766/EyeAI_working/deriva-ml/execution/4-YTWW/asset/eye-ai/Fundus_Bounding_Box/Cropped_4-YRRJ.svg]\n",
      "2025-06-17 09:23:10,287 - INFO - Computed metadata for: [/data/kb_766/EyeAI_working/deriva-ml/execution/4-YTWW/asset/eye-ai/Fundus_Bounding_Box/Cropped_4-YRRJ.svg].\n",
      "2025-06-17 09:23:10,288 - INFO - Computing checksums for file: [/data/kb_766/EyeAI_working/deriva-ml/execution/4-YTWW/asset/eye-ai/Fundus_Bounding_Box/Cropped_4-YRRJ.svg]. Please wait...\n",
      "2025-06-17 09:23:10,289 - INFO - Uploading file: [/data/kb_766/EyeAI_working/deriva-ml/execution/4-YTWW/asset/eye-ai/Fundus_Bounding_Box/Cropped_4-YRRJ.svg] to host https://www.eye-ai.org. Please wait...\n",
      "2025-06-17 09:23:10,401 - INFO - Processing: [/data/kb_766/EyeAI_working/deriva-ml/execution/4-YTWW/asset/eye-ai/Fundus_Bounding_Box/Cropped_4-YRRM.svg]\n",
      "2025-06-17 09:23:10,402 - INFO - Computed metadata for: [/data/kb_766/EyeAI_working/deriva-ml/execution/4-YTWW/asset/eye-ai/Fundus_Bounding_Box/Cropped_4-YRRM.svg].\n",
      "2025-06-17 09:23:10,402 - INFO - Computing checksums for file: [/data/kb_766/EyeAI_working/deriva-ml/execution/4-YTWW/asset/eye-ai/Fundus_Bounding_Box/Cropped_4-YRRM.svg]. Please wait...\n",
      "2025-06-17 09:23:10,403 - INFO - Uploading file: [/data/kb_766/EyeAI_working/deriva-ml/execution/4-YTWW/asset/eye-ai/Fundus_Bounding_Box/Cropped_4-YRRM.svg] to host https://www.eye-ai.org. Please wait...\n",
      "2025-06-17 09:23:10,490 - INFO - Processing: [/data/kb_766/EyeAI_working/deriva-ml/execution/4-YTWW/asset/eye-ai/Fundus_Bounding_Box/Cropped_4-YRRR.svg]\n",
      "2025-06-17 09:23:10,491 - INFO - Computed metadata for: [/data/kb_766/EyeAI_working/deriva-ml/execution/4-YTWW/asset/eye-ai/Fundus_Bounding_Box/Cropped_4-YRRR.svg].\n",
      "2025-06-17 09:23:10,491 - INFO - Computing checksums for file: [/data/kb_766/EyeAI_working/deriva-ml/execution/4-YTWW/asset/eye-ai/Fundus_Bounding_Box/Cropped_4-YRRR.svg]. Please wait...\n",
      "2025-06-17 09:23:10,493 - INFO - Uploading file: [/data/kb_766/EyeAI_working/deriva-ml/execution/4-YTWW/asset/eye-ai/Fundus_Bounding_Box/Cropped_4-YRRR.svg] to host https://www.eye-ai.org. Please wait...\n",
      "2025-06-17 09:23:10,619 - INFO - Processing: [/data/kb_766/EyeAI_working/deriva-ml/execution/4-YTWW/asset/eye-ai/Fundus_Bounding_Box/Cropped_4-YRRT.svg]\n",
      "2025-06-17 09:23:10,620 - INFO - Computed metadata for: [/data/kb_766/EyeAI_working/deriva-ml/execution/4-YTWW/asset/eye-ai/Fundus_Bounding_Box/Cropped_4-YRRT.svg].\n",
      "2025-06-17 09:23:10,620 - INFO - Computing checksums for file: [/data/kb_766/EyeAI_working/deriva-ml/execution/4-YTWW/asset/eye-ai/Fundus_Bounding_Box/Cropped_4-YRRT.svg]. Please wait...\n",
      "2025-06-17 09:23:10,621 - INFO - Uploading file: [/data/kb_766/EyeAI_working/deriva-ml/execution/4-YTWW/asset/eye-ai/Fundus_Bounding_Box/Cropped_4-YRRT.svg] to host https://www.eye-ai.org. Please wait...\n",
      "2025-06-17 09:23:10,793 - INFO - Processing: [/data/kb_766/EyeAI_working/deriva-ml/execution/4-YTWW/asset/eye-ai/Fundus_Bounding_Box/Cropped_4-YRRW.svg]\n",
      "2025-06-17 09:23:10,793 - INFO - Computed metadata for: [/data/kb_766/EyeAI_working/deriva-ml/execution/4-YTWW/asset/eye-ai/Fundus_Bounding_Box/Cropped_4-YRRW.svg].\n",
      "2025-06-17 09:23:10,794 - INFO - Computing checksums for file: [/data/kb_766/EyeAI_working/deriva-ml/execution/4-YTWW/asset/eye-ai/Fundus_Bounding_Box/Cropped_4-YRRW.svg]. Please wait...\n",
      "2025-06-17 09:23:10,795 - INFO - Uploading file: [/data/kb_766/EyeAI_working/deriva-ml/execution/4-YTWW/asset/eye-ai/Fundus_Bounding_Box/Cropped_4-YRRW.svg] to host https://www.eye-ai.org. Please wait...\n",
      "2025-06-17 09:23:10,883 - INFO - Processing: [/data/kb_766/EyeAI_working/deriva-ml/execution/4-YTWW/asset/eye-ai/Fundus_Bounding_Box/Cropped_4-YRRY.svg]\n",
      "2025-06-17 09:23:10,883 - INFO - Computed metadata for: [/data/kb_766/EyeAI_working/deriva-ml/execution/4-YTWW/asset/eye-ai/Fundus_Bounding_Box/Cropped_4-YRRY.svg].\n",
      "2025-06-17 09:23:10,884 - INFO - Computing checksums for file: [/data/kb_766/EyeAI_working/deriva-ml/execution/4-YTWW/asset/eye-ai/Fundus_Bounding_Box/Cropped_4-YRRY.svg]. Please wait...\n",
      "2025-06-17 09:23:10,885 - INFO - Uploading file: [/data/kb_766/EyeAI_working/deriva-ml/execution/4-YTWW/asset/eye-ai/Fundus_Bounding_Box/Cropped_4-YRRY.svg] to host https://www.eye-ai.org. Please wait...\n",
      "2025-06-17 09:23:10,976 - INFO - Processing: [/data/kb_766/EyeAI_working/deriva-ml/execution/4-YTWW/asset/eye-ai/Fundus_Bounding_Box/Cropped_4-YRS0.svg]\n",
      "2025-06-17 09:23:10,976 - INFO - Computed metadata for: [/data/kb_766/EyeAI_working/deriva-ml/execution/4-YTWW/asset/eye-ai/Fundus_Bounding_Box/Cropped_4-YRS0.svg].\n",
      "2025-06-17 09:23:10,977 - INFO - Computing checksums for file: [/data/kb_766/EyeAI_working/deriva-ml/execution/4-YTWW/asset/eye-ai/Fundus_Bounding_Box/Cropped_4-YRS0.svg]. Please wait...\n",
      "2025-06-17 09:23:10,978 - INFO - Uploading file: [/data/kb_766/EyeAI_working/deriva-ml/execution/4-YTWW/asset/eye-ai/Fundus_Bounding_Box/Cropped_4-YRS0.svg] to host https://www.eye-ai.org. Please wait...\n",
      "2025-06-17 09:23:11,067 - INFO - Processing: [/data/kb_766/EyeAI_working/deriva-ml/execution/4-YTWW/asset/eye-ai/Fundus_Bounding_Box/Cropped_4-YRS2.svg]\n",
      "2025-06-17 09:23:11,068 - INFO - Computed metadata for: [/data/kb_766/EyeAI_working/deriva-ml/execution/4-YTWW/asset/eye-ai/Fundus_Bounding_Box/Cropped_4-YRS2.svg].\n",
      "2025-06-17 09:23:11,068 - INFO - Computing checksums for file: [/data/kb_766/EyeAI_working/deriva-ml/execution/4-YTWW/asset/eye-ai/Fundus_Bounding_Box/Cropped_4-YRS2.svg]. Please wait...\n",
      "2025-06-17 09:23:11,070 - INFO - Uploading file: [/data/kb_766/EyeAI_working/deriva-ml/execution/4-YTWW/asset/eye-ai/Fundus_Bounding_Box/Cropped_4-YRS2.svg] to host https://www.eye-ai.org. Please wait...\n",
      "2025-06-17 09:23:11,168 - INFO - Processing: [/data/kb_766/EyeAI_working/deriva-ml/execution/4-YTWW/asset/eye-ai/Fundus_Bounding_Box/Cropped_4-YRS4.svg]\n",
      "2025-06-17 09:23:11,169 - INFO - Computed metadata for: [/data/kb_766/EyeAI_working/deriva-ml/execution/4-YTWW/asset/eye-ai/Fundus_Bounding_Box/Cropped_4-YRS4.svg].\n",
      "2025-06-17 09:23:11,169 - INFO - Computing checksums for file: [/data/kb_766/EyeAI_working/deriva-ml/execution/4-YTWW/asset/eye-ai/Fundus_Bounding_Box/Cropped_4-YRS4.svg]. Please wait...\n",
      "2025-06-17 09:23:11,171 - INFO - Uploading file: [/data/kb_766/EyeAI_working/deriva-ml/execution/4-YTWW/asset/eye-ai/Fundus_Bounding_Box/Cropped_4-YRS4.svg] to host https://www.eye-ai.org. Please wait...\n",
      "2025-06-17 09:23:11,260 - INFO - Processing: [/data/kb_766/EyeAI_working/deriva-ml/execution/4-YTWW/asset/eye-ai/Fundus_Bounding_Box/Cropped_4-YRS6.svg]\n",
      "2025-06-17 09:23:11,261 - INFO - Computed metadata for: [/data/kb_766/EyeAI_working/deriva-ml/execution/4-YTWW/asset/eye-ai/Fundus_Bounding_Box/Cropped_4-YRS6.svg].\n",
      "2025-06-17 09:23:11,261 - INFO - Computing checksums for file: [/data/kb_766/EyeAI_working/deriva-ml/execution/4-YTWW/asset/eye-ai/Fundus_Bounding_Box/Cropped_4-YRS6.svg]. Please wait...\n",
      "2025-06-17 09:23:11,262 - INFO - Uploading file: [/data/kb_766/EyeAI_working/deriva-ml/execution/4-YTWW/asset/eye-ai/Fundus_Bounding_Box/Cropped_4-YRS6.svg] to host https://www.eye-ai.org. Please wait...\n",
      "2025-06-17 09:23:11,351 - INFO - Processing: [/data/kb_766/EyeAI_working/deriva-ml/execution/4-YTWW/asset/eye-ai/Fundus_Bounding_Box/Cropped_4-YRS8.svg]\n",
      "2025-06-17 09:23:11,351 - INFO - Computed metadata for: [/data/kb_766/EyeAI_working/deriva-ml/execution/4-YTWW/asset/eye-ai/Fundus_Bounding_Box/Cropped_4-YRS8.svg].\n",
      "2025-06-17 09:23:11,352 - INFO - Computing checksums for file: [/data/kb_766/EyeAI_working/deriva-ml/execution/4-YTWW/asset/eye-ai/Fundus_Bounding_Box/Cropped_4-YRS8.svg]. Please wait...\n",
      "2025-06-17 09:23:11,353 - INFO - Uploading file: [/data/kb_766/EyeAI_working/deriva-ml/execution/4-YTWW/asset/eye-ai/Fundus_Bounding_Box/Cropped_4-YRS8.svg] to host https://www.eye-ai.org. Please wait...\n",
      "2025-06-17 09:23:11,438 - INFO - Processing: [/data/kb_766/EyeAI_working/deriva-ml/execution/4-YTWW/asset/eye-ai/Fundus_Bounding_Box/Cropped_4-YRSC.svg]\n",
      "2025-06-17 09:23:11,439 - INFO - Computed metadata for: [/data/kb_766/EyeAI_working/deriva-ml/execution/4-YTWW/asset/eye-ai/Fundus_Bounding_Box/Cropped_4-YRSC.svg].\n",
      "2025-06-17 09:23:11,439 - INFO - Computing checksums for file: [/data/kb_766/EyeAI_working/deriva-ml/execution/4-YTWW/asset/eye-ai/Fundus_Bounding_Box/Cropped_4-YRSC.svg]. Please wait...\n",
      "2025-06-17 09:23:11,441 - INFO - Uploading file: [/data/kb_766/EyeAI_working/deriva-ml/execution/4-YTWW/asset/eye-ai/Fundus_Bounding_Box/Cropped_4-YRSC.svg] to host https://www.eye-ai.org. Please wait...\n",
      "2025-06-17 09:23:11,523 - INFO - Processing: [/data/kb_766/EyeAI_working/deriva-ml/execution/4-YTWW/asset/eye-ai/Fundus_Bounding_Box/Cropped_4-YRSG.svg]\n",
      "2025-06-17 09:23:11,524 - INFO - Computed metadata for: [/data/kb_766/EyeAI_working/deriva-ml/execution/4-YTWW/asset/eye-ai/Fundus_Bounding_Box/Cropped_4-YRSG.svg].\n",
      "2025-06-17 09:23:11,524 - INFO - Computing checksums for file: [/data/kb_766/EyeAI_working/deriva-ml/execution/4-YTWW/asset/eye-ai/Fundus_Bounding_Box/Cropped_4-YRSG.svg]. Please wait...\n",
      "2025-06-17 09:23:11,525 - INFO - Uploading file: [/data/kb_766/EyeAI_working/deriva-ml/execution/4-YTWW/asset/eye-ai/Fundus_Bounding_Box/Cropped_4-YRSG.svg] to host https://www.eye-ai.org. Please wait...\n",
      "2025-06-17 09:23:11,607 - INFO - Processing: [/data/kb_766/EyeAI_working/deriva-ml/execution/4-YTWW/asset/eye-ai/Fundus_Bounding_Box/Cropped_4-YRSJ.svg]\n",
      "2025-06-17 09:23:11,608 - INFO - Computed metadata for: [/data/kb_766/EyeAI_working/deriva-ml/execution/4-YTWW/asset/eye-ai/Fundus_Bounding_Box/Cropped_4-YRSJ.svg].\n",
      "2025-06-17 09:23:11,608 - INFO - Computing checksums for file: [/data/kb_766/EyeAI_working/deriva-ml/execution/4-YTWW/asset/eye-ai/Fundus_Bounding_Box/Cropped_4-YRSJ.svg]. Please wait...\n",
      "2025-06-17 09:23:11,609 - INFO - Uploading file: [/data/kb_766/EyeAI_working/deriva-ml/execution/4-YTWW/asset/eye-ai/Fundus_Bounding_Box/Cropped_4-YRSJ.svg] to host https://www.eye-ai.org. Please wait...\n",
      "2025-06-17 09:23:11,722 - INFO - Processing: [/data/kb_766/EyeAI_working/deriva-ml/execution/4-YTWW/asset/eye-ai/Fundus_Bounding_Box/Cropped_4-YRSM.svg]\n",
      "2025-06-17 09:23:11,722 - INFO - Computed metadata for: [/data/kb_766/EyeAI_working/deriva-ml/execution/4-YTWW/asset/eye-ai/Fundus_Bounding_Box/Cropped_4-YRSM.svg].\n",
      "2025-06-17 09:23:11,723 - INFO - Computing checksums for file: [/data/kb_766/EyeAI_working/deriva-ml/execution/4-YTWW/asset/eye-ai/Fundus_Bounding_Box/Cropped_4-YRSM.svg]. Please wait...\n",
      "2025-06-17 09:23:11,724 - INFO - Uploading file: [/data/kb_766/EyeAI_working/deriva-ml/execution/4-YTWW/asset/eye-ai/Fundus_Bounding_Box/Cropped_4-YRSM.svg] to host https://www.eye-ai.org. Please wait...\n",
      "2025-06-17 09:23:11,833 - INFO - Processing: [/data/kb_766/EyeAI_working/deriva-ml/execution/4-YTWW/asset/eye-ai/Fundus_Bounding_Box/Cropped_4-YRSP.svg]\n",
      "2025-06-17 09:23:11,833 - INFO - Computed metadata for: [/data/kb_766/EyeAI_working/deriva-ml/execution/4-YTWW/asset/eye-ai/Fundus_Bounding_Box/Cropped_4-YRSP.svg].\n",
      "2025-06-17 09:23:11,834 - INFO - Computing checksums for file: [/data/kb_766/EyeAI_working/deriva-ml/execution/4-YTWW/asset/eye-ai/Fundus_Bounding_Box/Cropped_4-YRSP.svg]. Please wait...\n",
      "2025-06-17 09:23:11,835 - INFO - Uploading file: [/data/kb_766/EyeAI_working/deriva-ml/execution/4-YTWW/asset/eye-ai/Fundus_Bounding_Box/Cropped_4-YRSP.svg] to host https://www.eye-ai.org. Please wait...\n",
      "2025-06-17 09:23:11,967 - INFO - Processing: [/data/kb_766/EyeAI_working/deriva-ml/execution/4-YTWW/asset/eye-ai/Fundus_Bounding_Box/Cropped_4-YRSR.svg]\n",
      "2025-06-17 09:23:11,968 - INFO - Computed metadata for: [/data/kb_766/EyeAI_working/deriva-ml/execution/4-YTWW/asset/eye-ai/Fundus_Bounding_Box/Cropped_4-YRSR.svg].\n",
      "2025-06-17 09:23:11,969 - INFO - Computing checksums for file: [/data/kb_766/EyeAI_working/deriva-ml/execution/4-YTWW/asset/eye-ai/Fundus_Bounding_Box/Cropped_4-YRSR.svg]. Please wait...\n",
      "2025-06-17 09:23:11,970 - INFO - Uploading file: [/data/kb_766/EyeAI_working/deriva-ml/execution/4-YTWW/asset/eye-ai/Fundus_Bounding_Box/Cropped_4-YRSR.svg] to host https://www.eye-ai.org. Please wait...\n",
      "2025-06-17 09:23:12,066 - INFO - Processing: [/data/kb_766/EyeAI_working/deriva-ml/execution/4-YTWW/asset/eye-ai/Fundus_Bounding_Box/Cropped_4-YRST.svg]\n",
      "2025-06-17 09:23:12,066 - INFO - Computed metadata for: [/data/kb_766/EyeAI_working/deriva-ml/execution/4-YTWW/asset/eye-ai/Fundus_Bounding_Box/Cropped_4-YRST.svg].\n",
      "2025-06-17 09:23:12,067 - INFO - Computing checksums for file: [/data/kb_766/EyeAI_working/deriva-ml/execution/4-YTWW/asset/eye-ai/Fundus_Bounding_Box/Cropped_4-YRST.svg]. Please wait...\n",
      "2025-06-17 09:23:12,068 - INFO - Uploading file: [/data/kb_766/EyeAI_working/deriva-ml/execution/4-YTWW/asset/eye-ai/Fundus_Bounding_Box/Cropped_4-YRST.svg] to host https://www.eye-ai.org. Please wait...\n",
      "2025-06-17 09:23:12,185 - INFO - Processing: [/data/kb_766/EyeAI_working/deriva-ml/execution/4-YTWW/asset/eye-ai/Fundus_Bounding_Box/Cropped_4-YRSW.svg]\n",
      "2025-06-17 09:23:12,186 - INFO - Computed metadata for: [/data/kb_766/EyeAI_working/deriva-ml/execution/4-YTWW/asset/eye-ai/Fundus_Bounding_Box/Cropped_4-YRSW.svg].\n",
      "2025-06-17 09:23:12,186 - INFO - Computing checksums for file: [/data/kb_766/EyeAI_working/deriva-ml/execution/4-YTWW/asset/eye-ai/Fundus_Bounding_Box/Cropped_4-YRSW.svg]. Please wait...\n",
      "2025-06-17 09:23:12,188 - INFO - Uploading file: [/data/kb_766/EyeAI_working/deriva-ml/execution/4-YTWW/asset/eye-ai/Fundus_Bounding_Box/Cropped_4-YRSW.svg] to host https://www.eye-ai.org. Please wait...\n",
      "2025-06-17 09:23:12,271 - INFO - Processing: [/data/kb_766/EyeAI_working/deriva-ml/execution/4-YTWW/asset/eye-ai/Fundus_Bounding_Box/Cropped_4-YRT0.svg]\n",
      "2025-06-17 09:23:12,272 - INFO - Computed metadata for: [/data/kb_766/EyeAI_working/deriva-ml/execution/4-YTWW/asset/eye-ai/Fundus_Bounding_Box/Cropped_4-YRT0.svg].\n",
      "2025-06-17 09:23:12,272 - INFO - Computing checksums for file: [/data/kb_766/EyeAI_working/deriva-ml/execution/4-YTWW/asset/eye-ai/Fundus_Bounding_Box/Cropped_4-YRT0.svg]. Please wait...\n",
      "2025-06-17 09:23:12,273 - INFO - Uploading file: [/data/kb_766/EyeAI_working/deriva-ml/execution/4-YTWW/asset/eye-ai/Fundus_Bounding_Box/Cropped_4-YRT0.svg] to host https://www.eye-ai.org. Please wait...\n",
      "2025-06-17 09:23:12,361 - INFO - Processing: [/data/kb_766/EyeAI_working/deriva-ml/execution/4-YTWW/asset/eye-ai/Fundus_Bounding_Box/Cropped_4-YRT2.svg]\n",
      "2025-06-17 09:23:12,362 - INFO - Computed metadata for: [/data/kb_766/EyeAI_working/deriva-ml/execution/4-YTWW/asset/eye-ai/Fundus_Bounding_Box/Cropped_4-YRT2.svg].\n",
      "2025-06-17 09:23:12,362 - INFO - Computing checksums for file: [/data/kb_766/EyeAI_working/deriva-ml/execution/4-YTWW/asset/eye-ai/Fundus_Bounding_Box/Cropped_4-YRT2.svg]. Please wait...\n",
      "2025-06-17 09:23:12,364 - INFO - Uploading file: [/data/kb_766/EyeAI_working/deriva-ml/execution/4-YTWW/asset/eye-ai/Fundus_Bounding_Box/Cropped_4-YRT2.svg] to host https://www.eye-ai.org. Please wait...\n",
      "2025-06-17 09:23:12,449 - INFO - Processing: [/data/kb_766/EyeAI_working/deriva-ml/execution/4-YTWW/asset/eye-ai/Fundus_Bounding_Box/Cropped_4-YRT4.svg]\n",
      "2025-06-17 09:23:12,449 - INFO - Computed metadata for: [/data/kb_766/EyeAI_working/deriva-ml/execution/4-YTWW/asset/eye-ai/Fundus_Bounding_Box/Cropped_4-YRT4.svg].\n",
      "2025-06-17 09:23:12,450 - INFO - Computing checksums for file: [/data/kb_766/EyeAI_working/deriva-ml/execution/4-YTWW/asset/eye-ai/Fundus_Bounding_Box/Cropped_4-YRT4.svg]. Please wait...\n",
      "2025-06-17 09:23:12,451 - INFO - Uploading file: [/data/kb_766/EyeAI_working/deriva-ml/execution/4-YTWW/asset/eye-ai/Fundus_Bounding_Box/Cropped_4-YRT4.svg] to host https://www.eye-ai.org. Please wait...\n",
      "2025-06-17 09:23:12,560 - INFO - Processing: [/data/kb_766/EyeAI_working/deriva-ml/execution/4-YTWW/asset/eye-ai/Fundus_Bounding_Box/Cropped_4-YRT6.svg]\n",
      "2025-06-17 09:23:12,561 - INFO - Computed metadata for: [/data/kb_766/EyeAI_working/deriva-ml/execution/4-YTWW/asset/eye-ai/Fundus_Bounding_Box/Cropped_4-YRT6.svg].\n",
      "2025-06-17 09:23:12,562 - INFO - Computing checksums for file: [/data/kb_766/EyeAI_working/deriva-ml/execution/4-YTWW/asset/eye-ai/Fundus_Bounding_Box/Cropped_4-YRT6.svg]. Please wait...\n",
      "2025-06-17 09:23:12,563 - INFO - Uploading file: [/data/kb_766/EyeAI_working/deriva-ml/execution/4-YTWW/asset/eye-ai/Fundus_Bounding_Box/Cropped_4-YRT6.svg] to host https://www.eye-ai.org. Please wait...\n",
      "2025-06-17 09:23:12,680 - INFO - Processing: [/data/kb_766/EyeAI_working/deriva-ml/execution/4-YTWW/asset/eye-ai/Fundus_Bounding_Box/Cropped_4-YRT8.svg]\n",
      "2025-06-17 09:23:12,680 - INFO - Computed metadata for: [/data/kb_766/EyeAI_working/deriva-ml/execution/4-YTWW/asset/eye-ai/Fundus_Bounding_Box/Cropped_4-YRT8.svg].\n",
      "2025-06-17 09:23:12,681 - INFO - Computing checksums for file: [/data/kb_766/EyeAI_working/deriva-ml/execution/4-YTWW/asset/eye-ai/Fundus_Bounding_Box/Cropped_4-YRT8.svg]. Please wait...\n",
      "2025-06-17 09:23:12,682 - INFO - Uploading file: [/data/kb_766/EyeAI_working/deriva-ml/execution/4-YTWW/asset/eye-ai/Fundus_Bounding_Box/Cropped_4-YRT8.svg] to host https://www.eye-ai.org. Please wait...\n",
      "2025-06-17 09:23:12,774 - INFO - Processing: [/data/kb_766/EyeAI_working/deriva-ml/execution/4-YTWW/asset/eye-ai/Fundus_Bounding_Box/Cropped_4-YRTA.svg]\n",
      "2025-06-17 09:23:12,775 - INFO - Computed metadata for: [/data/kb_766/EyeAI_working/deriva-ml/execution/4-YTWW/asset/eye-ai/Fundus_Bounding_Box/Cropped_4-YRTA.svg].\n",
      "2025-06-17 09:23:12,775 - INFO - Computing checksums for file: [/data/kb_766/EyeAI_working/deriva-ml/execution/4-YTWW/asset/eye-ai/Fundus_Bounding_Box/Cropped_4-YRTA.svg]. Please wait...\n",
      "2025-06-17 09:23:12,776 - INFO - Uploading file: [/data/kb_766/EyeAI_working/deriva-ml/execution/4-YTWW/asset/eye-ai/Fundus_Bounding_Box/Cropped_4-YRTA.svg] to host https://www.eye-ai.org. Please wait...\n",
      "2025-06-17 09:23:12,867 - INFO - Processing: [/data/kb_766/EyeAI_working/deriva-ml/execution/4-YTWW/asset/eye-ai/Fundus_Bounding_Box/Cropped_4-YRTC.svg]\n",
      "2025-06-17 09:23:12,867 - INFO - Computed metadata for: [/data/kb_766/EyeAI_working/deriva-ml/execution/4-YTWW/asset/eye-ai/Fundus_Bounding_Box/Cropped_4-YRTC.svg].\n",
      "2025-06-17 09:23:12,868 - INFO - Computing checksums for file: [/data/kb_766/EyeAI_working/deriva-ml/execution/4-YTWW/asset/eye-ai/Fundus_Bounding_Box/Cropped_4-YRTC.svg]. Please wait...\n",
      "2025-06-17 09:23:12,868 - INFO - Uploading file: [/data/kb_766/EyeAI_working/deriva-ml/execution/4-YTWW/asset/eye-ai/Fundus_Bounding_Box/Cropped_4-YRTC.svg] to host https://www.eye-ai.org. Please wait...\n",
      "2025-06-17 09:23:12,953 - INFO - Processing: [/data/kb_766/EyeAI_working/deriva-ml/execution/4-YTWW/asset/eye-ai/Fundus_Bounding_Box/Cropped_4-YRTE.svg]\n",
      "2025-06-17 09:23:12,954 - INFO - Computed metadata for: [/data/kb_766/EyeAI_working/deriva-ml/execution/4-YTWW/asset/eye-ai/Fundus_Bounding_Box/Cropped_4-YRTE.svg].\n",
      "2025-06-17 09:23:12,954 - INFO - Computing checksums for file: [/data/kb_766/EyeAI_working/deriva-ml/execution/4-YTWW/asset/eye-ai/Fundus_Bounding_Box/Cropped_4-YRTE.svg]. Please wait...\n",
      "2025-06-17 09:23:12,955 - INFO - Uploading file: [/data/kb_766/EyeAI_working/deriva-ml/execution/4-YTWW/asset/eye-ai/Fundus_Bounding_Box/Cropped_4-YRTE.svg] to host https://www.eye-ai.org. Please wait...\n",
      "2025-06-17 09:23:13,038 - INFO - Processing: [/data/kb_766/EyeAI_working/deriva-ml/execution/4-YTWW/asset/eye-ai/Fundus_Bounding_Box/Cropped_4-YRTG.svg]\n",
      "2025-06-17 09:23:13,039 - INFO - Computed metadata for: [/data/kb_766/EyeAI_working/deriva-ml/execution/4-YTWW/asset/eye-ai/Fundus_Bounding_Box/Cropped_4-YRTG.svg].\n",
      "2025-06-17 09:23:13,040 - INFO - Computing checksums for file: [/data/kb_766/EyeAI_working/deriva-ml/execution/4-YTWW/asset/eye-ai/Fundus_Bounding_Box/Cropped_4-YRTG.svg]. Please wait...\n",
      "2025-06-17 09:23:13,041 - INFO - Uploading file: [/data/kb_766/EyeAI_working/deriva-ml/execution/4-YTWW/asset/eye-ai/Fundus_Bounding_Box/Cropped_4-YRTG.svg] to host https://www.eye-ai.org. Please wait...\n",
      "2025-06-17 09:23:13,124 - INFO - Processing: [/data/kb_766/EyeAI_working/deriva-ml/execution/4-YTWW/asset/eye-ai/Fundus_Bounding_Box/Cropped_4-YRTJ.svg]\n",
      "2025-06-17 09:23:13,125 - INFO - Computed metadata for: [/data/kb_766/EyeAI_working/deriva-ml/execution/4-YTWW/asset/eye-ai/Fundus_Bounding_Box/Cropped_4-YRTJ.svg].\n",
      "2025-06-17 09:23:13,125 - INFO - Computing checksums for file: [/data/kb_766/EyeAI_working/deriva-ml/execution/4-YTWW/asset/eye-ai/Fundus_Bounding_Box/Cropped_4-YRTJ.svg]. Please wait...\n",
      "2025-06-17 09:23:13,127 - INFO - Uploading file: [/data/kb_766/EyeAI_working/deriva-ml/execution/4-YTWW/asset/eye-ai/Fundus_Bounding_Box/Cropped_4-YRTJ.svg] to host https://www.eye-ai.org. Please wait...\n",
      "2025-06-17 09:23:13,207 - INFO - Processing: [/data/kb_766/EyeAI_working/deriva-ml/execution/4-YTWW/asset/eye-ai/Fundus_Bounding_Box/Cropped_4-YRTM.svg]\n",
      "2025-06-17 09:23:13,207 - INFO - Computed metadata for: [/data/kb_766/EyeAI_working/deriva-ml/execution/4-YTWW/asset/eye-ai/Fundus_Bounding_Box/Cropped_4-YRTM.svg].\n",
      "2025-06-17 09:23:13,208 - INFO - Computing checksums for file: [/data/kb_766/EyeAI_working/deriva-ml/execution/4-YTWW/asset/eye-ai/Fundus_Bounding_Box/Cropped_4-YRTM.svg]. Please wait...\n",
      "2025-06-17 09:23:13,209 - INFO - Uploading file: [/data/kb_766/EyeAI_working/deriva-ml/execution/4-YTWW/asset/eye-ai/Fundus_Bounding_Box/Cropped_4-YRTM.svg] to host https://www.eye-ai.org. Please wait...\n",
      "2025-06-17 09:23:13,305 - INFO - Processing: [/data/kb_766/EyeAI_working/deriva-ml/execution/4-YTWW/asset/eye-ai/Fundus_Bounding_Box/Cropped_4-YRTR.svg]\n",
      "2025-06-17 09:23:13,306 - INFO - Computed metadata for: [/data/kb_766/EyeAI_working/deriva-ml/execution/4-YTWW/asset/eye-ai/Fundus_Bounding_Box/Cropped_4-YRTR.svg].\n",
      "2025-06-17 09:23:13,306 - INFO - Computing checksums for file: [/data/kb_766/EyeAI_working/deriva-ml/execution/4-YTWW/asset/eye-ai/Fundus_Bounding_Box/Cropped_4-YRTR.svg]. Please wait...\n",
      "2025-06-17 09:23:13,308 - INFO - Uploading file: [/data/kb_766/EyeAI_working/deriva-ml/execution/4-YTWW/asset/eye-ai/Fundus_Bounding_Box/Cropped_4-YRTR.svg] to host https://www.eye-ai.org. Please wait...\n",
      "2025-06-17 09:23:13,440 - INFO - Processing: [/data/kb_766/EyeAI_working/deriva-ml/execution/4-YTWW/asset/eye-ai/Fundus_Bounding_Box/Cropped_4-YRTT.svg]\n",
      "2025-06-17 09:23:13,440 - INFO - Computed metadata for: [/data/kb_766/EyeAI_working/deriva-ml/execution/4-YTWW/asset/eye-ai/Fundus_Bounding_Box/Cropped_4-YRTT.svg].\n",
      "2025-06-17 09:23:13,440 - INFO - Computing checksums for file: [/data/kb_766/EyeAI_working/deriva-ml/execution/4-YTWW/asset/eye-ai/Fundus_Bounding_Box/Cropped_4-YRTT.svg]. Please wait...\n",
      "2025-06-17 09:23:13,442 - INFO - Uploading file: [/data/kb_766/EyeAI_working/deriva-ml/execution/4-YTWW/asset/eye-ai/Fundus_Bounding_Box/Cropped_4-YRTT.svg] to host https://www.eye-ai.org. Please wait...\n",
      "2025-06-17 09:23:13,529 - INFO - Processing: [/data/kb_766/EyeAI_working/deriva-ml/execution/4-YTWW/asset/eye-ai/Fundus_Bounding_Box/Cropped_4-YRTW.svg]\n",
      "2025-06-17 09:23:13,530 - INFO - Computed metadata for: [/data/kb_766/EyeAI_working/deriva-ml/execution/4-YTWW/asset/eye-ai/Fundus_Bounding_Box/Cropped_4-YRTW.svg].\n",
      "2025-06-17 09:23:13,531 - INFO - Computing checksums for file: [/data/kb_766/EyeAI_working/deriva-ml/execution/4-YTWW/asset/eye-ai/Fundus_Bounding_Box/Cropped_4-YRTW.svg]. Please wait...\n",
      "2025-06-17 09:23:13,532 - INFO - Uploading file: [/data/kb_766/EyeAI_working/deriva-ml/execution/4-YTWW/asset/eye-ai/Fundus_Bounding_Box/Cropped_4-YRTW.svg] to host https://www.eye-ai.org. Please wait...\n",
      "2025-06-17 09:23:13,615 - INFO - Processing: [/data/kb_766/EyeAI_working/deriva-ml/execution/4-YTWW/asset/eye-ai/Fundus_Bounding_Box/Cropped_4-YRTY.svg]\n",
      "2025-06-17 09:23:13,615 - INFO - Computed metadata for: [/data/kb_766/EyeAI_working/deriva-ml/execution/4-YTWW/asset/eye-ai/Fundus_Bounding_Box/Cropped_4-YRTY.svg].\n",
      "2025-06-17 09:23:13,616 - INFO - Computing checksums for file: [/data/kb_766/EyeAI_working/deriva-ml/execution/4-YTWW/asset/eye-ai/Fundus_Bounding_Box/Cropped_4-YRTY.svg]. Please wait...\n",
      "2025-06-17 09:23:13,617 - INFO - Uploading file: [/data/kb_766/EyeAI_working/deriva-ml/execution/4-YTWW/asset/eye-ai/Fundus_Bounding_Box/Cropped_4-YRTY.svg] to host https://www.eye-ai.org. Please wait...\n",
      "2025-06-17 09:23:13,736 - INFO - Processing: [/data/kb_766/EyeAI_working/deriva-ml/execution/4-YTWW/asset/eye-ai/Fundus_Bounding_Box/Cropped_4-YRV2.svg]\n",
      "2025-06-17 09:23:13,736 - INFO - Computed metadata for: [/data/kb_766/EyeAI_working/deriva-ml/execution/4-YTWW/asset/eye-ai/Fundus_Bounding_Box/Cropped_4-YRV2.svg].\n",
      "2025-06-17 09:23:13,737 - INFO - Computing checksums for file: [/data/kb_766/EyeAI_working/deriva-ml/execution/4-YTWW/asset/eye-ai/Fundus_Bounding_Box/Cropped_4-YRV2.svg]. Please wait...\n",
      "2025-06-17 09:23:13,738 - INFO - Uploading file: [/data/kb_766/EyeAI_working/deriva-ml/execution/4-YTWW/asset/eye-ai/Fundus_Bounding_Box/Cropped_4-YRV2.svg] to host https://www.eye-ai.org. Please wait...\n",
      "2025-06-17 09:23:13,828 - INFO - Processing: [/data/kb_766/EyeAI_working/deriva-ml/execution/4-YTWW/asset/eye-ai/Fundus_Bounding_Box/Cropped_4-YRV4.svg]\n",
      "2025-06-17 09:23:13,829 - INFO - Computed metadata for: [/data/kb_766/EyeAI_working/deriva-ml/execution/4-YTWW/asset/eye-ai/Fundus_Bounding_Box/Cropped_4-YRV4.svg].\n",
      "2025-06-17 09:23:13,829 - INFO - Computing checksums for file: [/data/kb_766/EyeAI_working/deriva-ml/execution/4-YTWW/asset/eye-ai/Fundus_Bounding_Box/Cropped_4-YRV4.svg]. Please wait...\n",
      "2025-06-17 09:23:13,831 - INFO - Uploading file: [/data/kb_766/EyeAI_working/deriva-ml/execution/4-YTWW/asset/eye-ai/Fundus_Bounding_Box/Cropped_4-YRV4.svg] to host https://www.eye-ai.org. Please wait...\n",
      "2025-06-17 09:23:13,921 - INFO - Processing: [/data/kb_766/EyeAI_working/deriva-ml/execution/4-YTWW/asset/eye-ai/Fundus_Bounding_Box/Cropped_4-YRV6.svg]\n",
      "2025-06-17 09:23:13,921 - INFO - Computed metadata for: [/data/kb_766/EyeAI_working/deriva-ml/execution/4-YTWW/asset/eye-ai/Fundus_Bounding_Box/Cropped_4-YRV6.svg].\n",
      "2025-06-17 09:23:13,922 - INFO - Computing checksums for file: [/data/kb_766/EyeAI_working/deriva-ml/execution/4-YTWW/asset/eye-ai/Fundus_Bounding_Box/Cropped_4-YRV6.svg]. Please wait...\n",
      "2025-06-17 09:23:13,923 - INFO - Uploading file: [/data/kb_766/EyeAI_working/deriva-ml/execution/4-YTWW/asset/eye-ai/Fundus_Bounding_Box/Cropped_4-YRV6.svg] to host https://www.eye-ai.org. Please wait...\n",
      "2025-06-17 09:23:14,010 - INFO - Processing: [/data/kb_766/EyeAI_working/deriva-ml/execution/4-YTWW/asset/eye-ai/Fundus_Bounding_Box/Cropped_4-YRV8.svg]\n",
      "2025-06-17 09:23:14,011 - INFO - Computed metadata for: [/data/kb_766/EyeAI_working/deriva-ml/execution/4-YTWW/asset/eye-ai/Fundus_Bounding_Box/Cropped_4-YRV8.svg].\n",
      "2025-06-17 09:23:14,011 - INFO - Computing checksums for file: [/data/kb_766/EyeAI_working/deriva-ml/execution/4-YTWW/asset/eye-ai/Fundus_Bounding_Box/Cropped_4-YRV8.svg]. Please wait...\n",
      "2025-06-17 09:23:14,012 - INFO - Uploading file: [/data/kb_766/EyeAI_working/deriva-ml/execution/4-YTWW/asset/eye-ai/Fundus_Bounding_Box/Cropped_4-YRV8.svg] to host https://www.eye-ai.org. Please wait...\n",
      "2025-06-17 09:23:14,255 - INFO - Processing: [/data/kb_766/EyeAI_working/deriva-ml/execution/4-YTWW/asset/eye-ai/Fundus_Bounding_Box/Cropped_4-YRVE.svg]\n",
      "2025-06-17 09:23:14,256 - INFO - Computed metadata for: [/data/kb_766/EyeAI_working/deriva-ml/execution/4-YTWW/asset/eye-ai/Fundus_Bounding_Box/Cropped_4-YRVE.svg].\n",
      "2025-06-17 09:23:14,256 - INFO - Computing checksums for file: [/data/kb_766/EyeAI_working/deriva-ml/execution/4-YTWW/asset/eye-ai/Fundus_Bounding_Box/Cropped_4-YRVE.svg]. Please wait...\n",
      "2025-06-17 09:23:14,258 - INFO - Uploading file: [/data/kb_766/EyeAI_working/deriva-ml/execution/4-YTWW/asset/eye-ai/Fundus_Bounding_Box/Cropped_4-YRVE.svg] to host https://www.eye-ai.org. Please wait...\n",
      "2025-06-17 09:23:14,346 - INFO - Processing: [/data/kb_766/EyeAI_working/deriva-ml/execution/4-YTWW/asset/eye-ai/Fundus_Bounding_Box/Cropped_4-YRVG.svg]\n",
      "2025-06-17 09:23:14,347 - INFO - Computed metadata for: [/data/kb_766/EyeAI_working/deriva-ml/execution/4-YTWW/asset/eye-ai/Fundus_Bounding_Box/Cropped_4-YRVG.svg].\n",
      "2025-06-17 09:23:14,347 - INFO - Computing checksums for file: [/data/kb_766/EyeAI_working/deriva-ml/execution/4-YTWW/asset/eye-ai/Fundus_Bounding_Box/Cropped_4-YRVG.svg]. Please wait...\n",
      "2025-06-17 09:23:14,348 - INFO - Uploading file: [/data/kb_766/EyeAI_working/deriva-ml/execution/4-YTWW/asset/eye-ai/Fundus_Bounding_Box/Cropped_4-YRVG.svg] to host https://www.eye-ai.org. Please wait...\n",
      "2025-06-17 09:23:14,448 - INFO - Processing: [/data/kb_766/EyeAI_working/deriva-ml/execution/4-YTWW/asset/eye-ai/Fundus_Bounding_Box/Cropped_4-YRVJ.svg]\n",
      "2025-06-17 09:23:14,449 - INFO - Computed metadata for: [/data/kb_766/EyeAI_working/deriva-ml/execution/4-YTWW/asset/eye-ai/Fundus_Bounding_Box/Cropped_4-YRVJ.svg].\n",
      "2025-06-17 09:23:14,449 - INFO - Computing checksums for file: [/data/kb_766/EyeAI_working/deriva-ml/execution/4-YTWW/asset/eye-ai/Fundus_Bounding_Box/Cropped_4-YRVJ.svg]. Please wait...\n",
      "2025-06-17 09:23:14,450 - INFO - Uploading file: [/data/kb_766/EyeAI_working/deriva-ml/execution/4-YTWW/asset/eye-ai/Fundus_Bounding_Box/Cropped_4-YRVJ.svg] to host https://www.eye-ai.org. Please wait...\n",
      "2025-06-17 09:23:14,532 - INFO - Processing: [/data/kb_766/EyeAI_working/deriva-ml/execution/4-YTWW/asset/eye-ai/Fundus_Bounding_Box/Cropped_4-YRVR.svg]\n",
      "2025-06-17 09:23:14,532 - INFO - Computed metadata for: [/data/kb_766/EyeAI_working/deriva-ml/execution/4-YTWW/asset/eye-ai/Fundus_Bounding_Box/Cropped_4-YRVR.svg].\n",
      "2025-06-17 09:23:14,533 - INFO - Computing checksums for file: [/data/kb_766/EyeAI_working/deriva-ml/execution/4-YTWW/asset/eye-ai/Fundus_Bounding_Box/Cropped_4-YRVR.svg]. Please wait...\n",
      "2025-06-17 09:23:14,534 - INFO - Uploading file: [/data/kb_766/EyeAI_working/deriva-ml/execution/4-YTWW/asset/eye-ai/Fundus_Bounding_Box/Cropped_4-YRVR.svg] to host https://www.eye-ai.org. Please wait...\n",
      "2025-06-17 09:23:14,613 - INFO - Processing: [/data/kb_766/EyeAI_working/deriva-ml/execution/4-YTWW/asset/eye-ai/Fundus_Bounding_Box/Cropped_4-YRVT.svg]\n",
      "2025-06-17 09:23:14,614 - INFO - Computed metadata for: [/data/kb_766/EyeAI_working/deriva-ml/execution/4-YTWW/asset/eye-ai/Fundus_Bounding_Box/Cropped_4-YRVT.svg].\n",
      "2025-06-17 09:23:14,615 - INFO - Computing checksums for file: [/data/kb_766/EyeAI_working/deriva-ml/execution/4-YTWW/asset/eye-ai/Fundus_Bounding_Box/Cropped_4-YRVT.svg]. Please wait...\n",
      "2025-06-17 09:23:14,616 - INFO - Uploading file: [/data/kb_766/EyeAI_working/deriva-ml/execution/4-YTWW/asset/eye-ai/Fundus_Bounding_Box/Cropped_4-YRVT.svg] to host https://www.eye-ai.org. Please wait...\n",
      "2025-06-17 09:23:14,697 - INFO - Processing: [/data/kb_766/EyeAI_working/deriva-ml/execution/4-YTWW/asset/eye-ai/Fundus_Bounding_Box/Cropped_4-YRVW.svg]\n",
      "2025-06-17 09:23:14,698 - INFO - Computed metadata for: [/data/kb_766/EyeAI_working/deriva-ml/execution/4-YTWW/asset/eye-ai/Fundus_Bounding_Box/Cropped_4-YRVW.svg].\n",
      "2025-06-17 09:23:14,698 - INFO - Computing checksums for file: [/data/kb_766/EyeAI_working/deriva-ml/execution/4-YTWW/asset/eye-ai/Fundus_Bounding_Box/Cropped_4-YRVW.svg]. Please wait...\n",
      "2025-06-17 09:23:14,699 - INFO - Uploading file: [/data/kb_766/EyeAI_working/deriva-ml/execution/4-YTWW/asset/eye-ai/Fundus_Bounding_Box/Cropped_4-YRVW.svg] to host https://www.eye-ai.org. Please wait...\n",
      "2025-06-17 09:23:14,781 - INFO - Processing: [/data/kb_766/EyeAI_working/deriva-ml/execution/4-YTWW/asset/eye-ai/Fundus_Bounding_Box/Cropped_4-YRVY.svg]\n",
      "2025-06-17 09:23:14,781 - INFO - Computed metadata for: [/data/kb_766/EyeAI_working/deriva-ml/execution/4-YTWW/asset/eye-ai/Fundus_Bounding_Box/Cropped_4-YRVY.svg].\n",
      "2025-06-17 09:23:14,782 - INFO - Computing checksums for file: [/data/kb_766/EyeAI_working/deriva-ml/execution/4-YTWW/asset/eye-ai/Fundus_Bounding_Box/Cropped_4-YRVY.svg]. Please wait...\n",
      "2025-06-17 09:23:14,783 - INFO - Uploading file: [/data/kb_766/EyeAI_working/deriva-ml/execution/4-YTWW/asset/eye-ai/Fundus_Bounding_Box/Cropped_4-YRVY.svg] to host https://www.eye-ai.org. Please wait...\n",
      "2025-06-17 09:23:14,870 - INFO - Processing: [/data/kb_766/EyeAI_working/deriva-ml/execution/4-YTWW/asset/eye-ai/Fundus_Bounding_Box/Cropped_4-YRW0.svg]\n",
      "2025-06-17 09:23:14,870 - INFO - Computed metadata for: [/data/kb_766/EyeAI_working/deriva-ml/execution/4-YTWW/asset/eye-ai/Fundus_Bounding_Box/Cropped_4-YRW0.svg].\n",
      "2025-06-17 09:23:14,871 - INFO - Computing checksums for file: [/data/kb_766/EyeAI_working/deriva-ml/execution/4-YTWW/asset/eye-ai/Fundus_Bounding_Box/Cropped_4-YRW0.svg]. Please wait...\n",
      "2025-06-17 09:23:14,872 - INFO - Uploading file: [/data/kb_766/EyeAI_working/deriva-ml/execution/4-YTWW/asset/eye-ai/Fundus_Bounding_Box/Cropped_4-YRW0.svg] to host https://www.eye-ai.org. Please wait...\n",
      "2025-06-17 09:23:14,956 - INFO - Processing: [/data/kb_766/EyeAI_working/deriva-ml/execution/4-YTWW/asset/eye-ai/Fundus_Bounding_Box/Cropped_4-YRW4.svg]\n",
      "2025-06-17 09:23:14,957 - INFO - Computed metadata for: [/data/kb_766/EyeAI_working/deriva-ml/execution/4-YTWW/asset/eye-ai/Fundus_Bounding_Box/Cropped_4-YRW4.svg].\n",
      "2025-06-17 09:23:14,958 - INFO - Computing checksums for file: [/data/kb_766/EyeAI_working/deriva-ml/execution/4-YTWW/asset/eye-ai/Fundus_Bounding_Box/Cropped_4-YRW4.svg]. Please wait...\n",
      "2025-06-17 09:23:14,959 - INFO - Uploading file: [/data/kb_766/EyeAI_working/deriva-ml/execution/4-YTWW/asset/eye-ai/Fundus_Bounding_Box/Cropped_4-YRW4.svg] to host https://www.eye-ai.org. Please wait...\n",
      "2025-06-17 09:23:15,035 - INFO - Processing: [/data/kb_766/EyeAI_working/deriva-ml/execution/4-YTWW/asset/eye-ai/Fundus_Bounding_Box/Cropped_4-YRW6.svg]\n",
      "2025-06-17 09:23:15,035 - INFO - Computed metadata for: [/data/kb_766/EyeAI_working/deriva-ml/execution/4-YTWW/asset/eye-ai/Fundus_Bounding_Box/Cropped_4-YRW6.svg].\n",
      "2025-06-17 09:23:15,036 - INFO - Computing checksums for file: [/data/kb_766/EyeAI_working/deriva-ml/execution/4-YTWW/asset/eye-ai/Fundus_Bounding_Box/Cropped_4-YRW6.svg]. Please wait...\n",
      "2025-06-17 09:23:15,037 - INFO - Uploading file: [/data/kb_766/EyeAI_working/deriva-ml/execution/4-YTWW/asset/eye-ai/Fundus_Bounding_Box/Cropped_4-YRW6.svg] to host https://www.eye-ai.org. Please wait...\n",
      "2025-06-17 09:23:15,125 - INFO - Processing: [/data/kb_766/EyeAI_working/deriva-ml/execution/4-YTWW/asset/eye-ai/Fundus_Bounding_Box/Cropped_4-YRW8.svg]\n",
      "2025-06-17 09:23:15,125 - INFO - Computed metadata for: [/data/kb_766/EyeAI_working/deriva-ml/execution/4-YTWW/asset/eye-ai/Fundus_Bounding_Box/Cropped_4-YRW8.svg].\n",
      "2025-06-17 09:23:15,126 - INFO - Computing checksums for file: [/data/kb_766/EyeAI_working/deriva-ml/execution/4-YTWW/asset/eye-ai/Fundus_Bounding_Box/Cropped_4-YRW8.svg]. Please wait...\n",
      "2025-06-17 09:23:15,127 - INFO - Uploading file: [/data/kb_766/EyeAI_working/deriva-ml/execution/4-YTWW/asset/eye-ai/Fundus_Bounding_Box/Cropped_4-YRW8.svg] to host https://www.eye-ai.org. Please wait...\n",
      "2025-06-17 09:23:15,224 - INFO - Processing: [/data/kb_766/EyeAI_working/deriva-ml/execution/4-YTWW/asset/eye-ai/Fundus_Bounding_Box/Cropped_4-YRWA.svg]\n",
      "2025-06-17 09:23:15,224 - INFO - Computed metadata for: [/data/kb_766/EyeAI_working/deriva-ml/execution/4-YTWW/asset/eye-ai/Fundus_Bounding_Box/Cropped_4-YRWA.svg].\n",
      "2025-06-17 09:23:15,225 - INFO - Computing checksums for file: [/data/kb_766/EyeAI_working/deriva-ml/execution/4-YTWW/asset/eye-ai/Fundus_Bounding_Box/Cropped_4-YRWA.svg]. Please wait...\n",
      "2025-06-17 09:23:15,226 - INFO - Uploading file: [/data/kb_766/EyeAI_working/deriva-ml/execution/4-YTWW/asset/eye-ai/Fundus_Bounding_Box/Cropped_4-YRWA.svg] to host https://www.eye-ai.org. Please wait...\n",
      "2025-06-17 09:23:15,371 - INFO - Processing: [/data/kb_766/EyeAI_working/deriva-ml/execution/4-YTWW/asset/eye-ai/Fundus_Bounding_Box/Cropped_4-YRWC.svg]\n",
      "2025-06-17 09:23:15,372 - INFO - Computed metadata for: [/data/kb_766/EyeAI_working/deriva-ml/execution/4-YTWW/asset/eye-ai/Fundus_Bounding_Box/Cropped_4-YRWC.svg].\n",
      "2025-06-17 09:23:15,372 - INFO - Computing checksums for file: [/data/kb_766/EyeAI_working/deriva-ml/execution/4-YTWW/asset/eye-ai/Fundus_Bounding_Box/Cropped_4-YRWC.svg]. Please wait...\n",
      "2025-06-17 09:23:15,373 - INFO - Uploading file: [/data/kb_766/EyeAI_working/deriva-ml/execution/4-YTWW/asset/eye-ai/Fundus_Bounding_Box/Cropped_4-YRWC.svg] to host https://www.eye-ai.org. Please wait...\n",
      "2025-06-17 09:23:15,486 - INFO - Processing: [/data/kb_766/EyeAI_working/deriva-ml/execution/4-YTWW/asset/eye-ai/Fundus_Bounding_Box/Cropped_4-YRWE.svg]\n",
      "2025-06-17 09:23:15,486 - INFO - Computed metadata for: [/data/kb_766/EyeAI_working/deriva-ml/execution/4-YTWW/asset/eye-ai/Fundus_Bounding_Box/Cropped_4-YRWE.svg].\n",
      "2025-06-17 09:23:15,487 - INFO - Computing checksums for file: [/data/kb_766/EyeAI_working/deriva-ml/execution/4-YTWW/asset/eye-ai/Fundus_Bounding_Box/Cropped_4-YRWE.svg]. Please wait...\n",
      "2025-06-17 09:23:15,488 - INFO - Uploading file: [/data/kb_766/EyeAI_working/deriva-ml/execution/4-YTWW/asset/eye-ai/Fundus_Bounding_Box/Cropped_4-YRWE.svg] to host https://www.eye-ai.org. Please wait...\n",
      "2025-06-17 09:23:15,570 - INFO - Processing: [/data/kb_766/EyeAI_working/deriva-ml/execution/4-YTWW/asset/eye-ai/Fundus_Bounding_Box/Cropped_4-YRWG.svg]\n",
      "2025-06-17 09:23:15,571 - INFO - Computed metadata for: [/data/kb_766/EyeAI_working/deriva-ml/execution/4-YTWW/asset/eye-ai/Fundus_Bounding_Box/Cropped_4-YRWG.svg].\n",
      "2025-06-17 09:23:15,572 - INFO - Computing checksums for file: [/data/kb_766/EyeAI_working/deriva-ml/execution/4-YTWW/asset/eye-ai/Fundus_Bounding_Box/Cropped_4-YRWG.svg]. Please wait...\n",
      "2025-06-17 09:23:15,573 - INFO - Uploading file: [/data/kb_766/EyeAI_working/deriva-ml/execution/4-YTWW/asset/eye-ai/Fundus_Bounding_Box/Cropped_4-YRWG.svg] to host https://www.eye-ai.org. Please wait...\n",
      "2025-06-17 09:23:15,655 - INFO - Processing: [/data/kb_766/EyeAI_working/deriva-ml/execution/4-YTWW/asset/eye-ai/Fundus_Bounding_Box/Cropped_4-YRWJ.svg]\n",
      "2025-06-17 09:23:15,655 - INFO - Computed metadata for: [/data/kb_766/EyeAI_working/deriva-ml/execution/4-YTWW/asset/eye-ai/Fundus_Bounding_Box/Cropped_4-YRWJ.svg].\n",
      "2025-06-17 09:23:15,656 - INFO - Computing checksums for file: [/data/kb_766/EyeAI_working/deriva-ml/execution/4-YTWW/asset/eye-ai/Fundus_Bounding_Box/Cropped_4-YRWJ.svg]. Please wait...\n",
      "2025-06-17 09:23:15,657 - INFO - Uploading file: [/data/kb_766/EyeAI_working/deriva-ml/execution/4-YTWW/asset/eye-ai/Fundus_Bounding_Box/Cropped_4-YRWJ.svg] to host https://www.eye-ai.org. Please wait...\n",
      "2025-06-17 09:23:15,783 - INFO - Processing: [/data/kb_766/EyeAI_working/deriva-ml/execution/4-YTWW/asset/eye-ai/Fundus_Bounding_Box/Cropped_4-YRWR.svg]\n",
      "2025-06-17 09:23:15,784 - INFO - Computed metadata for: [/data/kb_766/EyeAI_working/deriva-ml/execution/4-YTWW/asset/eye-ai/Fundus_Bounding_Box/Cropped_4-YRWR.svg].\n",
      "2025-06-17 09:23:15,784 - INFO - Computing checksums for file: [/data/kb_766/EyeAI_working/deriva-ml/execution/4-YTWW/asset/eye-ai/Fundus_Bounding_Box/Cropped_4-YRWR.svg]. Please wait...\n",
      "2025-06-17 09:23:15,785 - INFO - Uploading file: [/data/kb_766/EyeAI_working/deriva-ml/execution/4-YTWW/asset/eye-ai/Fundus_Bounding_Box/Cropped_4-YRWR.svg] to host https://www.eye-ai.org. Please wait...\n",
      "2025-06-17 09:23:15,899 - INFO - Processing: [/data/kb_766/EyeAI_working/deriva-ml/execution/4-YTWW/asset/eye-ai/Fundus_Bounding_Box/Cropped_4-YRWT.svg]\n",
      "2025-06-17 09:23:15,900 - INFO - Computed metadata for: [/data/kb_766/EyeAI_working/deriva-ml/execution/4-YTWW/asset/eye-ai/Fundus_Bounding_Box/Cropped_4-YRWT.svg].\n",
      "2025-06-17 09:23:15,900 - INFO - Computing checksums for file: [/data/kb_766/EyeAI_working/deriva-ml/execution/4-YTWW/asset/eye-ai/Fundus_Bounding_Box/Cropped_4-YRWT.svg]. Please wait...\n",
      "2025-06-17 09:23:15,901 - INFO - Uploading file: [/data/kb_766/EyeAI_working/deriva-ml/execution/4-YTWW/asset/eye-ai/Fundus_Bounding_Box/Cropped_4-YRWT.svg] to host https://www.eye-ai.org. Please wait...\n",
      "2025-06-17 09:23:15,985 - INFO - Processing: [/data/kb_766/EyeAI_working/deriva-ml/execution/4-YTWW/asset/eye-ai/Fundus_Bounding_Box/Cropped_4-YRWW.svg]\n",
      "2025-06-17 09:23:15,985 - INFO - Computed metadata for: [/data/kb_766/EyeAI_working/deriva-ml/execution/4-YTWW/asset/eye-ai/Fundus_Bounding_Box/Cropped_4-YRWW.svg].\n",
      "2025-06-17 09:23:15,986 - INFO - Computing checksums for file: [/data/kb_766/EyeAI_working/deriva-ml/execution/4-YTWW/asset/eye-ai/Fundus_Bounding_Box/Cropped_4-YRWW.svg]. Please wait...\n",
      "2025-06-17 09:23:15,987 - INFO - Uploading file: [/data/kb_766/EyeAI_working/deriva-ml/execution/4-YTWW/asset/eye-ai/Fundus_Bounding_Box/Cropped_4-YRWW.svg] to host https://www.eye-ai.org. Please wait...\n",
      "2025-06-17 09:23:16,071 - INFO - Processing: [/data/kb_766/EyeAI_working/deriva-ml/execution/4-YTWW/asset/eye-ai/Fundus_Bounding_Box/Cropped_4-YRWY.svg]\n",
      "2025-06-17 09:23:16,072 - INFO - Computed metadata for: [/data/kb_766/EyeAI_working/deriva-ml/execution/4-YTWW/asset/eye-ai/Fundus_Bounding_Box/Cropped_4-YRWY.svg].\n",
      "2025-06-17 09:23:16,072 - INFO - Computing checksums for file: [/data/kb_766/EyeAI_working/deriva-ml/execution/4-YTWW/asset/eye-ai/Fundus_Bounding_Box/Cropped_4-YRWY.svg]. Please wait...\n",
      "2025-06-17 09:23:16,073 - INFO - Uploading file: [/data/kb_766/EyeAI_working/deriva-ml/execution/4-YTWW/asset/eye-ai/Fundus_Bounding_Box/Cropped_4-YRWY.svg] to host https://www.eye-ai.org. Please wait...\n",
      "2025-06-17 09:23:16,174 - INFO - Processing: [/data/kb_766/EyeAI_working/deriva-ml/execution/4-YTWW/asset/eye-ai/Fundus_Bounding_Box/Cropped_4-YRX0.svg]\n",
      "2025-06-17 09:23:16,175 - INFO - Computed metadata for: [/data/kb_766/EyeAI_working/deriva-ml/execution/4-YTWW/asset/eye-ai/Fundus_Bounding_Box/Cropped_4-YRX0.svg].\n",
      "2025-06-17 09:23:16,175 - INFO - Computing checksums for file: [/data/kb_766/EyeAI_working/deriva-ml/execution/4-YTWW/asset/eye-ai/Fundus_Bounding_Box/Cropped_4-YRX0.svg]. Please wait...\n",
      "2025-06-17 09:23:16,176 - INFO - Uploading file: [/data/kb_766/EyeAI_working/deriva-ml/execution/4-YTWW/asset/eye-ai/Fundus_Bounding_Box/Cropped_4-YRX0.svg] to host https://www.eye-ai.org. Please wait...\n",
      "2025-06-17 09:23:16,265 - INFO - Processing: [/data/kb_766/EyeAI_working/deriva-ml/execution/4-YTWW/asset/eye-ai/Fundus_Bounding_Box/Cropped_4-YRX2.svg]\n",
      "2025-06-17 09:23:16,266 - INFO - Computed metadata for: [/data/kb_766/EyeAI_working/deriva-ml/execution/4-YTWW/asset/eye-ai/Fundus_Bounding_Box/Cropped_4-YRX2.svg].\n",
      "2025-06-17 09:23:16,267 - INFO - Computing checksums for file: [/data/kb_766/EyeAI_working/deriva-ml/execution/4-YTWW/asset/eye-ai/Fundus_Bounding_Box/Cropped_4-YRX2.svg]. Please wait...\n",
      "2025-06-17 09:23:16,268 - INFO - Uploading file: [/data/kb_766/EyeAI_working/deriva-ml/execution/4-YTWW/asset/eye-ai/Fundus_Bounding_Box/Cropped_4-YRX2.svg] to host https://www.eye-ai.org. Please wait...\n",
      "2025-06-17 09:23:16,359 - INFO - Processing: [/data/kb_766/EyeAI_working/deriva-ml/execution/4-YTWW/asset/eye-ai/Fundus_Bounding_Box/Cropped_4-YRX4.svg]\n",
      "2025-06-17 09:23:16,360 - INFO - Computed metadata for: [/data/kb_766/EyeAI_working/deriva-ml/execution/4-YTWW/asset/eye-ai/Fundus_Bounding_Box/Cropped_4-YRX4.svg].\n",
      "2025-06-17 09:23:16,360 - INFO - Computing checksums for file: [/data/kb_766/EyeAI_working/deriva-ml/execution/4-YTWW/asset/eye-ai/Fundus_Bounding_Box/Cropped_4-YRX4.svg]. Please wait...\n",
      "2025-06-17 09:23:16,362 - INFO - Uploading file: [/data/kb_766/EyeAI_working/deriva-ml/execution/4-YTWW/asset/eye-ai/Fundus_Bounding_Box/Cropped_4-YRX4.svg] to host https://www.eye-ai.org. Please wait...\n",
      "2025-06-17 09:23:16,442 - INFO - Processing: [/data/kb_766/EyeAI_working/deriva-ml/execution/4-YTWW/asset/eye-ai/Fundus_Bounding_Box/Cropped_4-YRX6.svg]\n",
      "2025-06-17 09:23:16,442 - INFO - Computed metadata for: [/data/kb_766/EyeAI_working/deriva-ml/execution/4-YTWW/asset/eye-ai/Fundus_Bounding_Box/Cropped_4-YRX6.svg].\n",
      "2025-06-17 09:23:16,443 - INFO - Computing checksums for file: [/data/kb_766/EyeAI_working/deriva-ml/execution/4-YTWW/asset/eye-ai/Fundus_Bounding_Box/Cropped_4-YRX6.svg]. Please wait...\n",
      "2025-06-17 09:23:16,444 - INFO - Uploading file: [/data/kb_766/EyeAI_working/deriva-ml/execution/4-YTWW/asset/eye-ai/Fundus_Bounding_Box/Cropped_4-YRX6.svg] to host https://www.eye-ai.org. Please wait...\n",
      "2025-06-17 09:23:16,527 - INFO - Processing: [/data/kb_766/EyeAI_working/deriva-ml/execution/4-YTWW/asset/eye-ai/Fundus_Bounding_Box/Cropped_4-YRXA.svg]\n",
      "2025-06-17 09:23:16,527 - INFO - Computed metadata for: [/data/kb_766/EyeAI_working/deriva-ml/execution/4-YTWW/asset/eye-ai/Fundus_Bounding_Box/Cropped_4-YRXA.svg].\n",
      "2025-06-17 09:23:16,528 - INFO - Computing checksums for file: [/data/kb_766/EyeAI_working/deriva-ml/execution/4-YTWW/asset/eye-ai/Fundus_Bounding_Box/Cropped_4-YRXA.svg]. Please wait...\n",
      "2025-06-17 09:23:16,529 - INFO - Uploading file: [/data/kb_766/EyeAI_working/deriva-ml/execution/4-YTWW/asset/eye-ai/Fundus_Bounding_Box/Cropped_4-YRXA.svg] to host https://www.eye-ai.org. Please wait...\n",
      "2025-06-17 09:23:16,605 - INFO - Processing: [/data/kb_766/EyeAI_working/deriva-ml/execution/4-YTWW/asset/eye-ai/Fundus_Bounding_Box/Cropped_4-YRXC.svg]\n",
      "2025-06-17 09:23:16,606 - INFO - Computed metadata for: [/data/kb_766/EyeAI_working/deriva-ml/execution/4-YTWW/asset/eye-ai/Fundus_Bounding_Box/Cropped_4-YRXC.svg].\n",
      "2025-06-17 09:23:16,606 - INFO - Computing checksums for file: [/data/kb_766/EyeAI_working/deriva-ml/execution/4-YTWW/asset/eye-ai/Fundus_Bounding_Box/Cropped_4-YRXC.svg]. Please wait...\n",
      "2025-06-17 09:23:16,608 - INFO - Uploading file: [/data/kb_766/EyeAI_working/deriva-ml/execution/4-YTWW/asset/eye-ai/Fundus_Bounding_Box/Cropped_4-YRXC.svg] to host https://www.eye-ai.org. Please wait...\n",
      "2025-06-17 09:23:16,687 - INFO - Processing: [/data/kb_766/EyeAI_working/deriva-ml/execution/4-YTWW/asset/eye-ai/Fundus_Bounding_Box/Cropped_4-YRXE.svg]\n",
      "2025-06-17 09:23:16,688 - INFO - Computed metadata for: [/data/kb_766/EyeAI_working/deriva-ml/execution/4-YTWW/asset/eye-ai/Fundus_Bounding_Box/Cropped_4-YRXE.svg].\n",
      "2025-06-17 09:23:16,688 - INFO - Computing checksums for file: [/data/kb_766/EyeAI_working/deriva-ml/execution/4-YTWW/asset/eye-ai/Fundus_Bounding_Box/Cropped_4-YRXE.svg]. Please wait...\n",
      "2025-06-17 09:23:16,690 - INFO - Uploading file: [/data/kb_766/EyeAI_working/deriva-ml/execution/4-YTWW/asset/eye-ai/Fundus_Bounding_Box/Cropped_4-YRXE.svg] to host https://www.eye-ai.org. Please wait...\n",
      "2025-06-17 09:23:16,807 - INFO - Processing: [/data/kb_766/EyeAI_working/deriva-ml/execution/4-YTWW/asset/eye-ai/Fundus_Bounding_Box/Cropped_4-YRXG.svg]\n",
      "2025-06-17 09:23:16,808 - INFO - Computed metadata for: [/data/kb_766/EyeAI_working/deriva-ml/execution/4-YTWW/asset/eye-ai/Fundus_Bounding_Box/Cropped_4-YRXG.svg].\n",
      "2025-06-17 09:23:16,809 - INFO - Computing checksums for file: [/data/kb_766/EyeAI_working/deriva-ml/execution/4-YTWW/asset/eye-ai/Fundus_Bounding_Box/Cropped_4-YRXG.svg]. Please wait...\n",
      "2025-06-17 09:23:16,810 - INFO - Uploading file: [/data/kb_766/EyeAI_working/deriva-ml/execution/4-YTWW/asset/eye-ai/Fundus_Bounding_Box/Cropped_4-YRXG.svg] to host https://www.eye-ai.org. Please wait...\n",
      "2025-06-17 09:23:16,901 - INFO - Processing: [/data/kb_766/EyeAI_working/deriva-ml/execution/4-YTWW/asset/eye-ai/Fundus_Bounding_Box/Cropped_4-YRXJ.svg]\n",
      "2025-06-17 09:23:16,901 - INFO - Computed metadata for: [/data/kb_766/EyeAI_working/deriva-ml/execution/4-YTWW/asset/eye-ai/Fundus_Bounding_Box/Cropped_4-YRXJ.svg].\n",
      "2025-06-17 09:23:16,902 - INFO - Computing checksums for file: [/data/kb_766/EyeAI_working/deriva-ml/execution/4-YTWW/asset/eye-ai/Fundus_Bounding_Box/Cropped_4-YRXJ.svg]. Please wait...\n",
      "2025-06-17 09:23:16,903 - INFO - Uploading file: [/data/kb_766/EyeAI_working/deriva-ml/execution/4-YTWW/asset/eye-ai/Fundus_Bounding_Box/Cropped_4-YRXJ.svg] to host https://www.eye-ai.org. Please wait...\n",
      "2025-06-17 09:23:17,015 - INFO - Processing: [/data/kb_766/EyeAI_working/deriva-ml/execution/4-YTWW/asset/eye-ai/Fundus_Bounding_Box/Cropped_4-YRXM.svg]\n",
      "2025-06-17 09:23:17,016 - INFO - Computed metadata for: [/data/kb_766/EyeAI_working/deriva-ml/execution/4-YTWW/asset/eye-ai/Fundus_Bounding_Box/Cropped_4-YRXM.svg].\n",
      "2025-06-17 09:23:17,016 - INFO - Computing checksums for file: [/data/kb_766/EyeAI_working/deriva-ml/execution/4-YTWW/asset/eye-ai/Fundus_Bounding_Box/Cropped_4-YRXM.svg]. Please wait...\n",
      "2025-06-17 09:23:17,018 - INFO - Uploading file: [/data/kb_766/EyeAI_working/deriva-ml/execution/4-YTWW/asset/eye-ai/Fundus_Bounding_Box/Cropped_4-YRXM.svg] to host https://www.eye-ai.org. Please wait...\n",
      "2025-06-17 09:23:17,139 - INFO - Processing: [/data/kb_766/EyeAI_working/deriva-ml/execution/4-YTWW/asset/eye-ai/Fundus_Bounding_Box/Cropped_4-YRXP.svg]\n",
      "2025-06-17 09:23:17,140 - INFO - Computed metadata for: [/data/kb_766/EyeAI_working/deriva-ml/execution/4-YTWW/asset/eye-ai/Fundus_Bounding_Box/Cropped_4-YRXP.svg].\n",
      "2025-06-17 09:23:17,140 - INFO - Computing checksums for file: [/data/kb_766/EyeAI_working/deriva-ml/execution/4-YTWW/asset/eye-ai/Fundus_Bounding_Box/Cropped_4-YRXP.svg]. Please wait...\n",
      "2025-06-17 09:23:17,142 - INFO - Uploading file: [/data/kb_766/EyeAI_working/deriva-ml/execution/4-YTWW/asset/eye-ai/Fundus_Bounding_Box/Cropped_4-YRXP.svg] to host https://www.eye-ai.org. Please wait...\n",
      "2025-06-17 09:23:17,221 - INFO - Processing: [/data/kb_766/EyeAI_working/deriva-ml/execution/4-YTWW/asset/eye-ai/Fundus_Bounding_Box/Cropped_4-YRXT.svg]\n",
      "2025-06-17 09:23:17,221 - INFO - Computed metadata for: [/data/kb_766/EyeAI_working/deriva-ml/execution/4-YTWW/asset/eye-ai/Fundus_Bounding_Box/Cropped_4-YRXT.svg].\n",
      "2025-06-17 09:23:17,222 - INFO - Computing checksums for file: [/data/kb_766/EyeAI_working/deriva-ml/execution/4-YTWW/asset/eye-ai/Fundus_Bounding_Box/Cropped_4-YRXT.svg]. Please wait...\n",
      "2025-06-17 09:23:17,223 - INFO - Uploading file: [/data/kb_766/EyeAI_working/deriva-ml/execution/4-YTWW/asset/eye-ai/Fundus_Bounding_Box/Cropped_4-YRXT.svg] to host https://www.eye-ai.org. Please wait...\n",
      "2025-06-17 09:23:17,346 - INFO - Processing: [/data/kb_766/EyeAI_working/deriva-ml/execution/4-YTWW/asset/eye-ai/Fundus_Bounding_Box/Cropped_4-YRXW.svg]\n",
      "2025-06-17 09:23:17,347 - INFO - Computed metadata for: [/data/kb_766/EyeAI_working/deriva-ml/execution/4-YTWW/asset/eye-ai/Fundus_Bounding_Box/Cropped_4-YRXW.svg].\n",
      "2025-06-17 09:23:17,347 - INFO - Computing checksums for file: [/data/kb_766/EyeAI_working/deriva-ml/execution/4-YTWW/asset/eye-ai/Fundus_Bounding_Box/Cropped_4-YRXW.svg]. Please wait...\n",
      "2025-06-17 09:23:17,349 - INFO - Uploading file: [/data/kb_766/EyeAI_working/deriva-ml/execution/4-YTWW/asset/eye-ai/Fundus_Bounding_Box/Cropped_4-YRXW.svg] to host https://www.eye-ai.org. Please wait...\n",
      "2025-06-17 09:23:17,443 - INFO - Processing: [/data/kb_766/EyeAI_working/deriva-ml/execution/4-YTWW/asset/eye-ai/Fundus_Bounding_Box/Cropped_4-YRXY.svg]\n",
      "2025-06-17 09:23:17,443 - INFO - Computed metadata for: [/data/kb_766/EyeAI_working/deriva-ml/execution/4-YTWW/asset/eye-ai/Fundus_Bounding_Box/Cropped_4-YRXY.svg].\n",
      "2025-06-17 09:23:17,444 - INFO - Computing checksums for file: [/data/kb_766/EyeAI_working/deriva-ml/execution/4-YTWW/asset/eye-ai/Fundus_Bounding_Box/Cropped_4-YRXY.svg]. Please wait...\n",
      "2025-06-17 09:23:17,445 - INFO - Uploading file: [/data/kb_766/EyeAI_working/deriva-ml/execution/4-YTWW/asset/eye-ai/Fundus_Bounding_Box/Cropped_4-YRXY.svg] to host https://www.eye-ai.org. Please wait...\n",
      "2025-06-17 09:23:17,525 - INFO - Processing: [/data/kb_766/EyeAI_working/deriva-ml/execution/4-YTWW/asset/eye-ai/Fundus_Bounding_Box/Cropped_4-YRY2.svg]\n",
      "2025-06-17 09:23:17,526 - INFO - Computed metadata for: [/data/kb_766/EyeAI_working/deriva-ml/execution/4-YTWW/asset/eye-ai/Fundus_Bounding_Box/Cropped_4-YRY2.svg].\n",
      "2025-06-17 09:23:17,526 - INFO - Computing checksums for file: [/data/kb_766/EyeAI_working/deriva-ml/execution/4-YTWW/asset/eye-ai/Fundus_Bounding_Box/Cropped_4-YRY2.svg]. Please wait...\n",
      "2025-06-17 09:23:17,527 - INFO - Uploading file: [/data/kb_766/EyeAI_working/deriva-ml/execution/4-YTWW/asset/eye-ai/Fundus_Bounding_Box/Cropped_4-YRY2.svg] to host https://www.eye-ai.org. Please wait...\n",
      "2025-06-17 09:23:17,626 - INFO - Processing: [/data/kb_766/EyeAI_working/deriva-ml/execution/4-YTWW/asset/eye-ai/Fundus_Bounding_Box/Cropped_4-YRY4.svg]\n",
      "2025-06-17 09:23:17,627 - INFO - Computed metadata for: [/data/kb_766/EyeAI_working/deriva-ml/execution/4-YTWW/asset/eye-ai/Fundus_Bounding_Box/Cropped_4-YRY4.svg].\n",
      "2025-06-17 09:23:17,628 - INFO - Computing checksums for file: [/data/kb_766/EyeAI_working/deriva-ml/execution/4-YTWW/asset/eye-ai/Fundus_Bounding_Box/Cropped_4-YRY4.svg]. Please wait...\n",
      "2025-06-17 09:23:17,629 - INFO - Uploading file: [/data/kb_766/EyeAI_working/deriva-ml/execution/4-YTWW/asset/eye-ai/Fundus_Bounding_Box/Cropped_4-YRY4.svg] to host https://www.eye-ai.org. Please wait...\n",
      "2025-06-17 09:23:17,711 - INFO - Processing: [/data/kb_766/EyeAI_working/deriva-ml/execution/4-YTWW/asset/eye-ai/Fundus_Bounding_Box/Cropped_4-YRY8.svg]\n",
      "2025-06-17 09:23:17,712 - INFO - Computed metadata for: [/data/kb_766/EyeAI_working/deriva-ml/execution/4-YTWW/asset/eye-ai/Fundus_Bounding_Box/Cropped_4-YRY8.svg].\n",
      "2025-06-17 09:23:17,713 - INFO - Computing checksums for file: [/data/kb_766/EyeAI_working/deriva-ml/execution/4-YTWW/asset/eye-ai/Fundus_Bounding_Box/Cropped_4-YRY8.svg]. Please wait...\n",
      "2025-06-17 09:23:17,714 - INFO - Uploading file: [/data/kb_766/EyeAI_working/deriva-ml/execution/4-YTWW/asset/eye-ai/Fundus_Bounding_Box/Cropped_4-YRY8.svg] to host https://www.eye-ai.org. Please wait...\n",
      "2025-06-17 09:23:17,802 - INFO - Processing: [/data/kb_766/EyeAI_working/deriva-ml/execution/4-YTWW/asset/eye-ai/Fundus_Bounding_Box/Cropped_4-YRYA.svg]\n",
      "2025-06-17 09:23:17,803 - INFO - Computed metadata for: [/data/kb_766/EyeAI_working/deriva-ml/execution/4-YTWW/asset/eye-ai/Fundus_Bounding_Box/Cropped_4-YRYA.svg].\n",
      "2025-06-17 09:23:17,804 - INFO - Computing checksums for file: [/data/kb_766/EyeAI_working/deriva-ml/execution/4-YTWW/asset/eye-ai/Fundus_Bounding_Box/Cropped_4-YRYA.svg]. Please wait...\n",
      "2025-06-17 09:23:17,805 - INFO - Uploading file: [/data/kb_766/EyeAI_working/deriva-ml/execution/4-YTWW/asset/eye-ai/Fundus_Bounding_Box/Cropped_4-YRYA.svg] to host https://www.eye-ai.org. Please wait...\n",
      "2025-06-17 09:23:17,881 - INFO - Processing: [/data/kb_766/EyeAI_working/deriva-ml/execution/4-YTWW/asset/eye-ai/Fundus_Bounding_Box/Cropped_4-YRYC.svg]\n",
      "2025-06-17 09:23:17,882 - INFO - Computed metadata for: [/data/kb_766/EyeAI_working/deriva-ml/execution/4-YTWW/asset/eye-ai/Fundus_Bounding_Box/Cropped_4-YRYC.svg].\n",
      "2025-06-17 09:23:17,883 - INFO - Computing checksums for file: [/data/kb_766/EyeAI_working/deriva-ml/execution/4-YTWW/asset/eye-ai/Fundus_Bounding_Box/Cropped_4-YRYC.svg]. Please wait...\n",
      "2025-06-17 09:23:17,884 - INFO - Uploading file: [/data/kb_766/EyeAI_working/deriva-ml/execution/4-YTWW/asset/eye-ai/Fundus_Bounding_Box/Cropped_4-YRYC.svg] to host https://www.eye-ai.org. Please wait...\n",
      "2025-06-17 09:23:17,977 - INFO - Processing: [/data/kb_766/EyeAI_working/deriva-ml/execution/4-YTWW/asset/eye-ai/Fundus_Bounding_Box/Cropped_4-YRYE.svg]\n",
      "2025-06-17 09:23:17,978 - INFO - Computed metadata for: [/data/kb_766/EyeAI_working/deriva-ml/execution/4-YTWW/asset/eye-ai/Fundus_Bounding_Box/Cropped_4-YRYE.svg].\n",
      "2025-06-17 09:23:17,978 - INFO - Computing checksums for file: [/data/kb_766/EyeAI_working/deriva-ml/execution/4-YTWW/asset/eye-ai/Fundus_Bounding_Box/Cropped_4-YRYE.svg]. Please wait...\n",
      "2025-06-17 09:23:17,979 - INFO - Uploading file: [/data/kb_766/EyeAI_working/deriva-ml/execution/4-YTWW/asset/eye-ai/Fundus_Bounding_Box/Cropped_4-YRYE.svg] to host https://www.eye-ai.org. Please wait...\n",
      "2025-06-17 09:23:18,099 - INFO - Processing: [/data/kb_766/EyeAI_working/deriva-ml/execution/4-YTWW/asset/eye-ai/Fundus_Bounding_Box/Cropped_4-YRYG.svg]\n",
      "2025-06-17 09:23:18,099 - INFO - Computed metadata for: [/data/kb_766/EyeAI_working/deriva-ml/execution/4-YTWW/asset/eye-ai/Fundus_Bounding_Box/Cropped_4-YRYG.svg].\n",
      "2025-06-17 09:23:18,100 - INFO - Computing checksums for file: [/data/kb_766/EyeAI_working/deriva-ml/execution/4-YTWW/asset/eye-ai/Fundus_Bounding_Box/Cropped_4-YRYG.svg]. Please wait...\n",
      "2025-06-17 09:23:18,101 - INFO - Uploading file: [/data/kb_766/EyeAI_working/deriva-ml/execution/4-YTWW/asset/eye-ai/Fundus_Bounding_Box/Cropped_4-YRYG.svg] to host https://www.eye-ai.org. Please wait...\n",
      "2025-06-17 09:23:18,180 - INFO - Processing: [/data/kb_766/EyeAI_working/deriva-ml/execution/4-YTWW/asset/eye-ai/Fundus_Bounding_Box/Cropped_4-YRYJ.svg]\n",
      "2025-06-17 09:23:18,181 - INFO - Computed metadata for: [/data/kb_766/EyeAI_working/deriva-ml/execution/4-YTWW/asset/eye-ai/Fundus_Bounding_Box/Cropped_4-YRYJ.svg].\n",
      "2025-06-17 09:23:18,181 - INFO - Computing checksums for file: [/data/kb_766/EyeAI_working/deriva-ml/execution/4-YTWW/asset/eye-ai/Fundus_Bounding_Box/Cropped_4-YRYJ.svg]. Please wait...\n",
      "2025-06-17 09:23:18,183 - INFO - Uploading file: [/data/kb_766/EyeAI_working/deriva-ml/execution/4-YTWW/asset/eye-ai/Fundus_Bounding_Box/Cropped_4-YRYJ.svg] to host https://www.eye-ai.org. Please wait...\n",
      "2025-06-17 09:23:18,266 - INFO - Processing: [/data/kb_766/EyeAI_working/deriva-ml/execution/4-YTWW/asset/eye-ai/Fundus_Bounding_Box/Cropped_4-YRYM.svg]\n",
      "2025-06-17 09:23:18,267 - INFO - Computed metadata for: [/data/kb_766/EyeAI_working/deriva-ml/execution/4-YTWW/asset/eye-ai/Fundus_Bounding_Box/Cropped_4-YRYM.svg].\n",
      "2025-06-17 09:23:18,268 - INFO - Computing checksums for file: [/data/kb_766/EyeAI_working/deriva-ml/execution/4-YTWW/asset/eye-ai/Fundus_Bounding_Box/Cropped_4-YRYM.svg]. Please wait...\n",
      "2025-06-17 09:23:18,269 - INFO - Uploading file: [/data/kb_766/EyeAI_working/deriva-ml/execution/4-YTWW/asset/eye-ai/Fundus_Bounding_Box/Cropped_4-YRYM.svg] to host https://www.eye-ai.org. Please wait...\n",
      "2025-06-17 09:23:18,359 - INFO - Processing: [/data/kb_766/EyeAI_working/deriva-ml/execution/4-YTWW/asset/eye-ai/Fundus_Bounding_Box/Cropped_4-YRYP.svg]\n",
      "2025-06-17 09:23:18,359 - INFO - Computed metadata for: [/data/kb_766/EyeAI_working/deriva-ml/execution/4-YTWW/asset/eye-ai/Fundus_Bounding_Box/Cropped_4-YRYP.svg].\n",
      "2025-06-17 09:23:18,360 - INFO - Computing checksums for file: [/data/kb_766/EyeAI_working/deriva-ml/execution/4-YTWW/asset/eye-ai/Fundus_Bounding_Box/Cropped_4-YRYP.svg]. Please wait...\n",
      "2025-06-17 09:23:18,361 - INFO - Uploading file: [/data/kb_766/EyeAI_working/deriva-ml/execution/4-YTWW/asset/eye-ai/Fundus_Bounding_Box/Cropped_4-YRYP.svg] to host https://www.eye-ai.org. Please wait...\n",
      "2025-06-17 09:23:18,474 - INFO - Processing: [/data/kb_766/EyeAI_working/deriva-ml/execution/4-YTWW/asset/eye-ai/Fundus_Bounding_Box/Cropped_4-YRYR.svg]\n",
      "2025-06-17 09:23:18,475 - INFO - Computed metadata for: [/data/kb_766/EyeAI_working/deriva-ml/execution/4-YTWW/asset/eye-ai/Fundus_Bounding_Box/Cropped_4-YRYR.svg].\n",
      "2025-06-17 09:23:18,476 - INFO - Computing checksums for file: [/data/kb_766/EyeAI_working/deriva-ml/execution/4-YTWW/asset/eye-ai/Fundus_Bounding_Box/Cropped_4-YRYR.svg]. Please wait...\n",
      "2025-06-17 09:23:18,477 - INFO - Uploading file: [/data/kb_766/EyeAI_working/deriva-ml/execution/4-YTWW/asset/eye-ai/Fundus_Bounding_Box/Cropped_4-YRYR.svg] to host https://www.eye-ai.org. Please wait...\n",
      "2025-06-17 09:23:18,558 - INFO - Processing: [/data/kb_766/EyeAI_working/deriva-ml/execution/4-YTWW/asset/eye-ai/Fundus_Bounding_Box/Cropped_4-YRYT.svg]\n",
      "2025-06-17 09:23:18,558 - INFO - Computed metadata for: [/data/kb_766/EyeAI_working/deriva-ml/execution/4-YTWW/asset/eye-ai/Fundus_Bounding_Box/Cropped_4-YRYT.svg].\n",
      "2025-06-17 09:23:18,559 - INFO - Computing checksums for file: [/data/kb_766/EyeAI_working/deriva-ml/execution/4-YTWW/asset/eye-ai/Fundus_Bounding_Box/Cropped_4-YRYT.svg]. Please wait...\n",
      "2025-06-17 09:23:18,560 - INFO - Uploading file: [/data/kb_766/EyeAI_working/deriva-ml/execution/4-YTWW/asset/eye-ai/Fundus_Bounding_Box/Cropped_4-YRYT.svg] to host https://www.eye-ai.org. Please wait...\n",
      "2025-06-17 09:23:18,643 - INFO - Processing: [/data/kb_766/EyeAI_working/deriva-ml/execution/4-YTWW/asset/eye-ai/Fundus_Bounding_Box/Cropped_4-YRYW.svg]\n",
      "2025-06-17 09:23:18,643 - INFO - Computed metadata for: [/data/kb_766/EyeAI_working/deriva-ml/execution/4-YTWW/asset/eye-ai/Fundus_Bounding_Box/Cropped_4-YRYW.svg].\n",
      "2025-06-17 09:23:18,644 - INFO - Computing checksums for file: [/data/kb_766/EyeAI_working/deriva-ml/execution/4-YTWW/asset/eye-ai/Fundus_Bounding_Box/Cropped_4-YRYW.svg]. Please wait...\n",
      "2025-06-17 09:23:18,645 - INFO - Uploading file: [/data/kb_766/EyeAI_working/deriva-ml/execution/4-YTWW/asset/eye-ai/Fundus_Bounding_Box/Cropped_4-YRYW.svg] to host https://www.eye-ai.org. Please wait...\n",
      "2025-06-17 09:23:18,731 - INFO - Processing: [/data/kb_766/EyeAI_working/deriva-ml/execution/4-YTWW/asset/eye-ai/Fundus_Bounding_Box/Cropped_4-YRYY.svg]\n",
      "2025-06-17 09:23:18,732 - INFO - Computed metadata for: [/data/kb_766/EyeAI_working/deriva-ml/execution/4-YTWW/asset/eye-ai/Fundus_Bounding_Box/Cropped_4-YRYY.svg].\n",
      "2025-06-17 09:23:18,732 - INFO - Computing checksums for file: [/data/kb_766/EyeAI_working/deriva-ml/execution/4-YTWW/asset/eye-ai/Fundus_Bounding_Box/Cropped_4-YRYY.svg]. Please wait...\n",
      "2025-06-17 09:23:18,734 - INFO - Uploading file: [/data/kb_766/EyeAI_working/deriva-ml/execution/4-YTWW/asset/eye-ai/Fundus_Bounding_Box/Cropped_4-YRYY.svg] to host https://www.eye-ai.org. Please wait...\n",
      "2025-06-17 09:23:18,873 - INFO - Processing: [/data/kb_766/EyeAI_working/deriva-ml/execution/4-YTWW/asset/eye-ai/Fundus_Bounding_Box/Cropped_4-YRZ4.svg]\n",
      "2025-06-17 09:23:18,874 - INFO - Computed metadata for: [/data/kb_766/EyeAI_working/deriva-ml/execution/4-YTWW/asset/eye-ai/Fundus_Bounding_Box/Cropped_4-YRZ4.svg].\n",
      "2025-06-17 09:23:18,874 - INFO - Computing checksums for file: [/data/kb_766/EyeAI_working/deriva-ml/execution/4-YTWW/asset/eye-ai/Fundus_Bounding_Box/Cropped_4-YRZ4.svg]. Please wait...\n",
      "2025-06-17 09:23:18,875 - INFO - Uploading file: [/data/kb_766/EyeAI_working/deriva-ml/execution/4-YTWW/asset/eye-ai/Fundus_Bounding_Box/Cropped_4-YRZ4.svg] to host https://www.eye-ai.org. Please wait...\n",
      "2025-06-17 09:23:18,954 - INFO - Processing: [/data/kb_766/EyeAI_working/deriva-ml/execution/4-YTWW/asset/eye-ai/Fundus_Bounding_Box/Cropped_4-YRZ6.svg]\n",
      "2025-06-17 09:23:18,955 - INFO - Computed metadata for: [/data/kb_766/EyeAI_working/deriva-ml/execution/4-YTWW/asset/eye-ai/Fundus_Bounding_Box/Cropped_4-YRZ6.svg].\n",
      "2025-06-17 09:23:18,956 - INFO - Computing checksums for file: [/data/kb_766/EyeAI_working/deriva-ml/execution/4-YTWW/asset/eye-ai/Fundus_Bounding_Box/Cropped_4-YRZ6.svg]. Please wait...\n",
      "2025-06-17 09:23:18,957 - INFO - Uploading file: [/data/kb_766/EyeAI_working/deriva-ml/execution/4-YTWW/asset/eye-ai/Fundus_Bounding_Box/Cropped_4-YRZ6.svg] to host https://www.eye-ai.org. Please wait...\n",
      "2025-06-17 09:23:19,036 - INFO - Processing: [/data/kb_766/EyeAI_working/deriva-ml/execution/4-YTWW/asset/eye-ai/Fundus_Bounding_Box/Cropped_4-YRZ8.svg]\n",
      "2025-06-17 09:23:19,036 - INFO - Computed metadata for: [/data/kb_766/EyeAI_working/deriva-ml/execution/4-YTWW/asset/eye-ai/Fundus_Bounding_Box/Cropped_4-YRZ8.svg].\n",
      "2025-06-17 09:23:19,037 - INFO - Computing checksums for file: [/data/kb_766/EyeAI_working/deriva-ml/execution/4-YTWW/asset/eye-ai/Fundus_Bounding_Box/Cropped_4-YRZ8.svg]. Please wait...\n",
      "2025-06-17 09:23:19,038 - INFO - Uploading file: [/data/kb_766/EyeAI_working/deriva-ml/execution/4-YTWW/asset/eye-ai/Fundus_Bounding_Box/Cropped_4-YRZ8.svg] to host https://www.eye-ai.org. Please wait...\n",
      "2025-06-17 09:23:19,158 - INFO - Processing: [/data/kb_766/EyeAI_working/deriva-ml/execution/4-YTWW/asset/eye-ai/Fundus_Bounding_Box/Cropped_4-YRZA.svg]\n",
      "2025-06-17 09:23:19,159 - INFO - Computed metadata for: [/data/kb_766/EyeAI_working/deriva-ml/execution/4-YTWW/asset/eye-ai/Fundus_Bounding_Box/Cropped_4-YRZA.svg].\n",
      "2025-06-17 09:23:19,159 - INFO - Computing checksums for file: [/data/kb_766/EyeAI_working/deriva-ml/execution/4-YTWW/asset/eye-ai/Fundus_Bounding_Box/Cropped_4-YRZA.svg]. Please wait...\n",
      "2025-06-17 09:23:19,161 - INFO - Uploading file: [/data/kb_766/EyeAI_working/deriva-ml/execution/4-YTWW/asset/eye-ai/Fundus_Bounding_Box/Cropped_4-YRZA.svg] to host https://www.eye-ai.org. Please wait...\n",
      "2025-06-17 09:23:19,245 - INFO - Processing: [/data/kb_766/EyeAI_working/deriva-ml/execution/4-YTWW/asset/eye-ai/Fundus_Bounding_Box/Cropped_4-YRZC.svg]\n",
      "2025-06-17 09:23:19,245 - INFO - Computed metadata for: [/data/kb_766/EyeAI_working/deriva-ml/execution/4-YTWW/asset/eye-ai/Fundus_Bounding_Box/Cropped_4-YRZC.svg].\n",
      "2025-06-17 09:23:19,246 - INFO - Computing checksums for file: [/data/kb_766/EyeAI_working/deriva-ml/execution/4-YTWW/asset/eye-ai/Fundus_Bounding_Box/Cropped_4-YRZC.svg]. Please wait...\n",
      "2025-06-17 09:23:19,247 - INFO - Uploading file: [/data/kb_766/EyeAI_working/deriva-ml/execution/4-YTWW/asset/eye-ai/Fundus_Bounding_Box/Cropped_4-YRZC.svg] to host https://www.eye-ai.org. Please wait...\n",
      "2025-06-17 09:23:19,339 - INFO - Processing: [/data/kb_766/EyeAI_working/deriva-ml/execution/4-YTWW/asset/eye-ai/Fundus_Bounding_Box/Cropped_4-YRZE.svg]\n",
      "2025-06-17 09:23:19,340 - INFO - Computed metadata for: [/data/kb_766/EyeAI_working/deriva-ml/execution/4-YTWW/asset/eye-ai/Fundus_Bounding_Box/Cropped_4-YRZE.svg].\n",
      "2025-06-17 09:23:19,340 - INFO - Computing checksums for file: [/data/kb_766/EyeAI_working/deriva-ml/execution/4-YTWW/asset/eye-ai/Fundus_Bounding_Box/Cropped_4-YRZE.svg]. Please wait...\n",
      "2025-06-17 09:23:19,342 - INFO - Uploading file: [/data/kb_766/EyeAI_working/deriva-ml/execution/4-YTWW/asset/eye-ai/Fundus_Bounding_Box/Cropped_4-YRZE.svg] to host https://www.eye-ai.org. Please wait...\n",
      "2025-06-17 09:23:19,421 - INFO - Processing: [/data/kb_766/EyeAI_working/deriva-ml/execution/4-YTWW/asset/eye-ai/Fundus_Bounding_Box/Cropped_4-YRZJ.svg]\n",
      "2025-06-17 09:23:19,422 - INFO - Computed metadata for: [/data/kb_766/EyeAI_working/deriva-ml/execution/4-YTWW/asset/eye-ai/Fundus_Bounding_Box/Cropped_4-YRZJ.svg].\n",
      "2025-06-17 09:23:19,422 - INFO - Computing checksums for file: [/data/kb_766/EyeAI_working/deriva-ml/execution/4-YTWW/asset/eye-ai/Fundus_Bounding_Box/Cropped_4-YRZJ.svg]. Please wait...\n",
      "2025-06-17 09:23:19,424 - INFO - Uploading file: [/data/kb_766/EyeAI_working/deriva-ml/execution/4-YTWW/asset/eye-ai/Fundus_Bounding_Box/Cropped_4-YRZJ.svg] to host https://www.eye-ai.org. Please wait...\n",
      "2025-06-17 09:23:19,499 - INFO - Processing: [/data/kb_766/EyeAI_working/deriva-ml/execution/4-YTWW/asset/eye-ai/Fundus_Bounding_Box/Cropped_4-YRZM.svg]\n",
      "2025-06-17 09:23:19,500 - INFO - Computed metadata for: [/data/kb_766/EyeAI_working/deriva-ml/execution/4-YTWW/asset/eye-ai/Fundus_Bounding_Box/Cropped_4-YRZM.svg].\n",
      "2025-06-17 09:23:19,500 - INFO - Computing checksums for file: [/data/kb_766/EyeAI_working/deriva-ml/execution/4-YTWW/asset/eye-ai/Fundus_Bounding_Box/Cropped_4-YRZM.svg]. Please wait...\n",
      "2025-06-17 09:23:19,501 - INFO - Uploading file: [/data/kb_766/EyeAI_working/deriva-ml/execution/4-YTWW/asset/eye-ai/Fundus_Bounding_Box/Cropped_4-YRZM.svg] to host https://www.eye-ai.org. Please wait...\n",
      "2025-06-17 09:23:19,580 - INFO - Processing: [/data/kb_766/EyeAI_working/deriva-ml/execution/4-YTWW/asset/eye-ai/Fundus_Bounding_Box/Cropped_4-YRZP.svg]\n",
      "2025-06-17 09:23:19,581 - INFO - Computed metadata for: [/data/kb_766/EyeAI_working/deriva-ml/execution/4-YTWW/asset/eye-ai/Fundus_Bounding_Box/Cropped_4-YRZP.svg].\n",
      "2025-06-17 09:23:19,581 - INFO - Computing checksums for file: [/data/kb_766/EyeAI_working/deriva-ml/execution/4-YTWW/asset/eye-ai/Fundus_Bounding_Box/Cropped_4-YRZP.svg]. Please wait...\n",
      "2025-06-17 09:23:19,583 - INFO - Uploading file: [/data/kb_766/EyeAI_working/deriva-ml/execution/4-YTWW/asset/eye-ai/Fundus_Bounding_Box/Cropped_4-YRZP.svg] to host https://www.eye-ai.org. Please wait...\n",
      "2025-06-17 09:23:19,667 - INFO - Processing: [/data/kb_766/EyeAI_working/deriva-ml/execution/4-YTWW/asset/eye-ai/Fundus_Bounding_Box/Cropped_4-YRZT.svg]\n",
      "2025-06-17 09:23:19,668 - INFO - Computed metadata for: [/data/kb_766/EyeAI_working/deriva-ml/execution/4-YTWW/asset/eye-ai/Fundus_Bounding_Box/Cropped_4-YRZT.svg].\n",
      "2025-06-17 09:23:19,668 - INFO - Computing checksums for file: [/data/kb_766/EyeAI_working/deriva-ml/execution/4-YTWW/asset/eye-ai/Fundus_Bounding_Box/Cropped_4-YRZT.svg]. Please wait...\n",
      "2025-06-17 09:23:19,669 - INFO - Uploading file: [/data/kb_766/EyeAI_working/deriva-ml/execution/4-YTWW/asset/eye-ai/Fundus_Bounding_Box/Cropped_4-YRZT.svg] to host https://www.eye-ai.org. Please wait...\n",
      "2025-06-17 09:23:19,757 - INFO - Processing: [/data/kb_766/EyeAI_working/deriva-ml/execution/4-YTWW/asset/eye-ai/Fundus_Bounding_Box/Cropped_4-YRZW.svg]\n",
      "2025-06-17 09:23:19,758 - INFO - Computed metadata for: [/data/kb_766/EyeAI_working/deriva-ml/execution/4-YTWW/asset/eye-ai/Fundus_Bounding_Box/Cropped_4-YRZW.svg].\n",
      "2025-06-17 09:23:19,758 - INFO - Computing checksums for file: [/data/kb_766/EyeAI_working/deriva-ml/execution/4-YTWW/asset/eye-ai/Fundus_Bounding_Box/Cropped_4-YRZW.svg]. Please wait...\n",
      "2025-06-17 09:23:19,759 - INFO - Uploading file: [/data/kb_766/EyeAI_working/deriva-ml/execution/4-YTWW/asset/eye-ai/Fundus_Bounding_Box/Cropped_4-YRZW.svg] to host https://www.eye-ai.org. Please wait...\n",
      "2025-06-17 09:23:19,845 - INFO - Processing: [/data/kb_766/EyeAI_working/deriva-ml/execution/4-YTWW/asset/eye-ai/Fundus_Bounding_Box/Cropped_4-YRZY.svg]\n",
      "2025-06-17 09:23:19,846 - INFO - Computed metadata for: [/data/kb_766/EyeAI_working/deriva-ml/execution/4-YTWW/asset/eye-ai/Fundus_Bounding_Box/Cropped_4-YRZY.svg].\n",
      "2025-06-17 09:23:19,847 - INFO - Computing checksums for file: [/data/kb_766/EyeAI_working/deriva-ml/execution/4-YTWW/asset/eye-ai/Fundus_Bounding_Box/Cropped_4-YRZY.svg]. Please wait...\n",
      "2025-06-17 09:23:19,848 - INFO - Uploading file: [/data/kb_766/EyeAI_working/deriva-ml/execution/4-YTWW/asset/eye-ai/Fundus_Bounding_Box/Cropped_4-YRZY.svg] to host https://www.eye-ai.org. Please wait...\n",
      "2025-06-17 09:23:19,935 - INFO - Processing: [/data/kb_766/EyeAI_working/deriva-ml/execution/4-YTWW/asset/eye-ai/Fundus_Bounding_Box/Cropped_4-YS00.svg]\n",
      "2025-06-17 09:23:19,936 - INFO - Computed metadata for: [/data/kb_766/EyeAI_working/deriva-ml/execution/4-YTWW/asset/eye-ai/Fundus_Bounding_Box/Cropped_4-YS00.svg].\n",
      "2025-06-17 09:23:19,937 - INFO - Computing checksums for file: [/data/kb_766/EyeAI_working/deriva-ml/execution/4-YTWW/asset/eye-ai/Fundus_Bounding_Box/Cropped_4-YS00.svg]. Please wait...\n",
      "2025-06-17 09:23:19,938 - INFO - Uploading file: [/data/kb_766/EyeAI_working/deriva-ml/execution/4-YTWW/asset/eye-ai/Fundus_Bounding_Box/Cropped_4-YS00.svg] to host https://www.eye-ai.org. Please wait...\n",
      "2025-06-17 09:23:20,020 - INFO - Processing: [/data/kb_766/EyeAI_working/deriva-ml/execution/4-YTWW/asset/eye-ai/Fundus_Bounding_Box/Cropped_4-YS04.svg]\n",
      "2025-06-17 09:23:20,020 - INFO - Computed metadata for: [/data/kb_766/EyeAI_working/deriva-ml/execution/4-YTWW/asset/eye-ai/Fundus_Bounding_Box/Cropped_4-YS04.svg].\n",
      "2025-06-17 09:23:20,021 - INFO - Computing checksums for file: [/data/kb_766/EyeAI_working/deriva-ml/execution/4-YTWW/asset/eye-ai/Fundus_Bounding_Box/Cropped_4-YS04.svg]. Please wait...\n",
      "2025-06-17 09:23:20,022 - INFO - Uploading file: [/data/kb_766/EyeAI_working/deriva-ml/execution/4-YTWW/asset/eye-ai/Fundus_Bounding_Box/Cropped_4-YS04.svg] to host https://www.eye-ai.org. Please wait...\n",
      "2025-06-17 09:23:20,101 - INFO - Processing: [/data/kb_766/EyeAI_working/deriva-ml/execution/4-YTWW/asset/eye-ai/Fundus_Bounding_Box/Cropped_4-YS06.svg]\n",
      "2025-06-17 09:23:20,102 - INFO - Computed metadata for: [/data/kb_766/EyeAI_working/deriva-ml/execution/4-YTWW/asset/eye-ai/Fundus_Bounding_Box/Cropped_4-YS06.svg].\n",
      "2025-06-17 09:23:20,102 - INFO - Computing checksums for file: [/data/kb_766/EyeAI_working/deriva-ml/execution/4-YTWW/asset/eye-ai/Fundus_Bounding_Box/Cropped_4-YS06.svg]. Please wait...\n",
      "2025-06-17 09:23:20,103 - INFO - Uploading file: [/data/kb_766/EyeAI_working/deriva-ml/execution/4-YTWW/asset/eye-ai/Fundus_Bounding_Box/Cropped_4-YS06.svg] to host https://www.eye-ai.org. Please wait...\n",
      "2025-06-17 09:23:20,186 - INFO - Processing: [/data/kb_766/EyeAI_working/deriva-ml/execution/4-YTWW/asset/eye-ai/Fundus_Bounding_Box/Cropped_4-YS08.svg]\n",
      "2025-06-17 09:23:20,187 - INFO - Computed metadata for: [/data/kb_766/EyeAI_working/deriva-ml/execution/4-YTWW/asset/eye-ai/Fundus_Bounding_Box/Cropped_4-YS08.svg].\n",
      "2025-06-17 09:23:20,187 - INFO - Computing checksums for file: [/data/kb_766/EyeAI_working/deriva-ml/execution/4-YTWW/asset/eye-ai/Fundus_Bounding_Box/Cropped_4-YS08.svg]. Please wait...\n",
      "2025-06-17 09:23:20,189 - INFO - Uploading file: [/data/kb_766/EyeAI_working/deriva-ml/execution/4-YTWW/asset/eye-ai/Fundus_Bounding_Box/Cropped_4-YS08.svg] to host https://www.eye-ai.org. Please wait...\n",
      "2025-06-17 09:23:20,269 - INFO - Processing: [/data/kb_766/EyeAI_working/deriva-ml/execution/4-YTWW/asset/eye-ai/Fundus_Bounding_Box/Cropped_4-YS0A.svg]\n",
      "2025-06-17 09:23:20,269 - INFO - Computed metadata for: [/data/kb_766/EyeAI_working/deriva-ml/execution/4-YTWW/asset/eye-ai/Fundus_Bounding_Box/Cropped_4-YS0A.svg].\n",
      "2025-06-17 09:23:20,270 - INFO - Computing checksums for file: [/data/kb_766/EyeAI_working/deriva-ml/execution/4-YTWW/asset/eye-ai/Fundus_Bounding_Box/Cropped_4-YS0A.svg]. Please wait...\n",
      "2025-06-17 09:23:20,271 - INFO - Uploading file: [/data/kb_766/EyeAI_working/deriva-ml/execution/4-YTWW/asset/eye-ai/Fundus_Bounding_Box/Cropped_4-YS0A.svg] to host https://www.eye-ai.org. Please wait...\n",
      "2025-06-17 09:23:20,356 - INFO - Processing: [/data/kb_766/EyeAI_working/deriva-ml/execution/4-YTWW/asset/eye-ai/Fundus_Bounding_Box/Cropped_4-YS0C.svg]\n",
      "2025-06-17 09:23:20,357 - INFO - Computed metadata for: [/data/kb_766/EyeAI_working/deriva-ml/execution/4-YTWW/asset/eye-ai/Fundus_Bounding_Box/Cropped_4-YS0C.svg].\n",
      "2025-06-17 09:23:20,357 - INFO - Computing checksums for file: [/data/kb_766/EyeAI_working/deriva-ml/execution/4-YTWW/asset/eye-ai/Fundus_Bounding_Box/Cropped_4-YS0C.svg]. Please wait...\n",
      "2025-06-17 09:23:20,358 - INFO - Uploading file: [/data/kb_766/EyeAI_working/deriva-ml/execution/4-YTWW/asset/eye-ai/Fundus_Bounding_Box/Cropped_4-YS0C.svg] to host https://www.eye-ai.org. Please wait...\n",
      "2025-06-17 09:23:20,438 - INFO - Processing: [/data/kb_766/EyeAI_working/deriva-ml/execution/4-YTWW/asset/eye-ai/Fundus_Bounding_Box/Cropped_4-YS0E.svg]\n",
      "2025-06-17 09:23:20,438 - INFO - Computed metadata for: [/data/kb_766/EyeAI_working/deriva-ml/execution/4-YTWW/asset/eye-ai/Fundus_Bounding_Box/Cropped_4-YS0E.svg].\n",
      "2025-06-17 09:23:20,439 - INFO - Computing checksums for file: [/data/kb_766/EyeAI_working/deriva-ml/execution/4-YTWW/asset/eye-ai/Fundus_Bounding_Box/Cropped_4-YS0E.svg]. Please wait...\n",
      "2025-06-17 09:23:20,440 - INFO - Uploading file: [/data/kb_766/EyeAI_working/deriva-ml/execution/4-YTWW/asset/eye-ai/Fundus_Bounding_Box/Cropped_4-YS0E.svg] to host https://www.eye-ai.org. Please wait...\n",
      "2025-06-17 09:23:20,531 - INFO - Processing: [/data/kb_766/EyeAI_working/deriva-ml/execution/4-YTWW/asset/eye-ai/Fundus_Bounding_Box/Cropped_4-YS0G.svg]\n",
      "2025-06-17 09:23:20,532 - INFO - Computed metadata for: [/data/kb_766/EyeAI_working/deriva-ml/execution/4-YTWW/asset/eye-ai/Fundus_Bounding_Box/Cropped_4-YS0G.svg].\n",
      "2025-06-17 09:23:20,532 - INFO - Computing checksums for file: [/data/kb_766/EyeAI_working/deriva-ml/execution/4-YTWW/asset/eye-ai/Fundus_Bounding_Box/Cropped_4-YS0G.svg]. Please wait...\n",
      "2025-06-17 09:23:20,534 - INFO - Uploading file: [/data/kb_766/EyeAI_working/deriva-ml/execution/4-YTWW/asset/eye-ai/Fundus_Bounding_Box/Cropped_4-YS0G.svg] to host https://www.eye-ai.org. Please wait...\n",
      "2025-06-17 09:23:20,621 - INFO - Processing: [/data/kb_766/EyeAI_working/deriva-ml/execution/4-YTWW/asset/eye-ai/Fundus_Bounding_Box/Cropped_4-YS0J.svg]\n",
      "2025-06-17 09:23:20,622 - INFO - Computed metadata for: [/data/kb_766/EyeAI_working/deriva-ml/execution/4-YTWW/asset/eye-ai/Fundus_Bounding_Box/Cropped_4-YS0J.svg].\n",
      "2025-06-17 09:23:20,623 - INFO - Computing checksums for file: [/data/kb_766/EyeAI_working/deriva-ml/execution/4-YTWW/asset/eye-ai/Fundus_Bounding_Box/Cropped_4-YS0J.svg]. Please wait...\n",
      "2025-06-17 09:23:20,624 - INFO - Uploading file: [/data/kb_766/EyeAI_working/deriva-ml/execution/4-YTWW/asset/eye-ai/Fundus_Bounding_Box/Cropped_4-YS0J.svg] to host https://www.eye-ai.org. Please wait...\n",
      "2025-06-17 09:23:20,708 - INFO - Processing: [/data/kb_766/EyeAI_working/deriva-ml/execution/4-YTWW/asset/eye-ai/Fundus_Bounding_Box/Cropped_4-YS0M.svg]\n",
      "2025-06-17 09:23:20,709 - INFO - Computed metadata for: [/data/kb_766/EyeAI_working/deriva-ml/execution/4-YTWW/asset/eye-ai/Fundus_Bounding_Box/Cropped_4-YS0M.svg].\n",
      "2025-06-17 09:23:20,709 - INFO - Computing checksums for file: [/data/kb_766/EyeAI_working/deriva-ml/execution/4-YTWW/asset/eye-ai/Fundus_Bounding_Box/Cropped_4-YS0M.svg]. Please wait...\n",
      "2025-06-17 09:23:20,710 - INFO - Uploading file: [/data/kb_766/EyeAI_working/deriva-ml/execution/4-YTWW/asset/eye-ai/Fundus_Bounding_Box/Cropped_4-YS0M.svg] to host https://www.eye-ai.org. Please wait...\n",
      "2025-06-17 09:23:20,790 - INFO - Processing: [/data/kb_766/EyeAI_working/deriva-ml/execution/4-YTWW/asset/eye-ai/Fundus_Bounding_Box/Cropped_4-YS0R.svg]\n",
      "2025-06-17 09:23:20,791 - INFO - Computed metadata for: [/data/kb_766/EyeAI_working/deriva-ml/execution/4-YTWW/asset/eye-ai/Fundus_Bounding_Box/Cropped_4-YS0R.svg].\n",
      "2025-06-17 09:23:20,792 - INFO - Computing checksums for file: [/data/kb_766/EyeAI_working/deriva-ml/execution/4-YTWW/asset/eye-ai/Fundus_Bounding_Box/Cropped_4-YS0R.svg]. Please wait...\n",
      "2025-06-17 09:23:20,793 - INFO - Uploading file: [/data/kb_766/EyeAI_working/deriva-ml/execution/4-YTWW/asset/eye-ai/Fundus_Bounding_Box/Cropped_4-YS0R.svg] to host https://www.eye-ai.org. Please wait...\n",
      "2025-06-17 09:23:20,886 - INFO - Processing: [/data/kb_766/EyeAI_working/deriva-ml/execution/4-YTWW/asset/eye-ai/Fundus_Bounding_Box/Cropped_4-YS0T.svg]\n",
      "2025-06-17 09:23:20,887 - INFO - Computed metadata for: [/data/kb_766/EyeAI_working/deriva-ml/execution/4-YTWW/asset/eye-ai/Fundus_Bounding_Box/Cropped_4-YS0T.svg].\n",
      "2025-06-17 09:23:20,887 - INFO - Computing checksums for file: [/data/kb_766/EyeAI_working/deriva-ml/execution/4-YTWW/asset/eye-ai/Fundus_Bounding_Box/Cropped_4-YS0T.svg]. Please wait...\n",
      "2025-06-17 09:23:20,889 - INFO - Uploading file: [/data/kb_766/EyeAI_working/deriva-ml/execution/4-YTWW/asset/eye-ai/Fundus_Bounding_Box/Cropped_4-YS0T.svg] to host https://www.eye-ai.org. Please wait...\n",
      "2025-06-17 09:23:20,966 - INFO - Processing: [/data/kb_766/EyeAI_working/deriva-ml/execution/4-YTWW/asset/eye-ai/Fundus_Bounding_Box/Cropped_4-YS0W.svg]\n",
      "2025-06-17 09:23:20,966 - INFO - Computed metadata for: [/data/kb_766/EyeAI_working/deriva-ml/execution/4-YTWW/asset/eye-ai/Fundus_Bounding_Box/Cropped_4-YS0W.svg].\n",
      "2025-06-17 09:23:20,967 - INFO - Computing checksums for file: [/data/kb_766/EyeAI_working/deriva-ml/execution/4-YTWW/asset/eye-ai/Fundus_Bounding_Box/Cropped_4-YS0W.svg]. Please wait...\n",
      "2025-06-17 09:23:20,968 - INFO - Uploading file: [/data/kb_766/EyeAI_working/deriva-ml/execution/4-YTWW/asset/eye-ai/Fundus_Bounding_Box/Cropped_4-YS0W.svg] to host https://www.eye-ai.org. Please wait...\n",
      "2025-06-17 09:23:21,097 - INFO - Processing: [/data/kb_766/EyeAI_working/deriva-ml/execution/4-YTWW/asset/eye-ai/Fundus_Bounding_Box/Cropped_4-YS0Y.svg]\n",
      "2025-06-17 09:23:21,098 - INFO - Computed metadata for: [/data/kb_766/EyeAI_working/deriva-ml/execution/4-YTWW/asset/eye-ai/Fundus_Bounding_Box/Cropped_4-YS0Y.svg].\n",
      "2025-06-17 09:23:21,098 - INFO - Computing checksums for file: [/data/kb_766/EyeAI_working/deriva-ml/execution/4-YTWW/asset/eye-ai/Fundus_Bounding_Box/Cropped_4-YS0Y.svg]. Please wait...\n",
      "2025-06-17 09:23:21,100 - INFO - Uploading file: [/data/kb_766/EyeAI_working/deriva-ml/execution/4-YTWW/asset/eye-ai/Fundus_Bounding_Box/Cropped_4-YS0Y.svg] to host https://www.eye-ai.org. Please wait...\n",
      "2025-06-17 09:23:21,204 - INFO - Processing: [/data/kb_766/EyeAI_working/deriva-ml/execution/4-YTWW/asset/eye-ai/Fundus_Bounding_Box/Cropped_4-YS10.svg]\n",
      "2025-06-17 09:23:21,205 - INFO - Computed metadata for: [/data/kb_766/EyeAI_working/deriva-ml/execution/4-YTWW/asset/eye-ai/Fundus_Bounding_Box/Cropped_4-YS10.svg].\n",
      "2025-06-17 09:23:21,205 - INFO - Computing checksums for file: [/data/kb_766/EyeAI_working/deriva-ml/execution/4-YTWW/asset/eye-ai/Fundus_Bounding_Box/Cropped_4-YS10.svg]. Please wait...\n",
      "2025-06-17 09:23:21,207 - INFO - Uploading file: [/data/kb_766/EyeAI_working/deriva-ml/execution/4-YTWW/asset/eye-ai/Fundus_Bounding_Box/Cropped_4-YS10.svg] to host https://www.eye-ai.org. Please wait...\n",
      "2025-06-17 09:23:21,292 - INFO - Processing: [/data/kb_766/EyeAI_working/deriva-ml/execution/4-YTWW/asset/eye-ai/Fundus_Bounding_Box/Cropped_4-YS12.svg]\n",
      "2025-06-17 09:23:21,293 - INFO - Computed metadata for: [/data/kb_766/EyeAI_working/deriva-ml/execution/4-YTWW/asset/eye-ai/Fundus_Bounding_Box/Cropped_4-YS12.svg].\n",
      "2025-06-17 09:23:21,294 - INFO - Computing checksums for file: [/data/kb_766/EyeAI_working/deriva-ml/execution/4-YTWW/asset/eye-ai/Fundus_Bounding_Box/Cropped_4-YS12.svg]. Please wait...\n",
      "2025-06-17 09:23:21,295 - INFO - Uploading file: [/data/kb_766/EyeAI_working/deriva-ml/execution/4-YTWW/asset/eye-ai/Fundus_Bounding_Box/Cropped_4-YS12.svg] to host https://www.eye-ai.org. Please wait...\n",
      "2025-06-17 09:23:21,374 - INFO - Processing: [/data/kb_766/EyeAI_working/deriva-ml/execution/4-YTWW/asset/eye-ai/Fundus_Bounding_Box/Cropped_4-YS14.svg]\n",
      "2025-06-17 09:23:21,375 - INFO - Computed metadata for: [/data/kb_766/EyeAI_working/deriva-ml/execution/4-YTWW/asset/eye-ai/Fundus_Bounding_Box/Cropped_4-YS14.svg].\n",
      "2025-06-17 09:23:21,375 - INFO - Computing checksums for file: [/data/kb_766/EyeAI_working/deriva-ml/execution/4-YTWW/asset/eye-ai/Fundus_Bounding_Box/Cropped_4-YS14.svg]. Please wait...\n",
      "2025-06-17 09:23:21,377 - INFO - Uploading file: [/data/kb_766/EyeAI_working/deriva-ml/execution/4-YTWW/asset/eye-ai/Fundus_Bounding_Box/Cropped_4-YS14.svg] to host https://www.eye-ai.org. Please wait...\n",
      "2025-06-17 09:23:21,461 - INFO - Processing: [/data/kb_766/EyeAI_working/deriva-ml/execution/4-YTWW/asset/eye-ai/Fundus_Bounding_Box/Cropped_4-YS16.svg]\n",
      "2025-06-17 09:23:21,462 - INFO - Computed metadata for: [/data/kb_766/EyeAI_working/deriva-ml/execution/4-YTWW/asset/eye-ai/Fundus_Bounding_Box/Cropped_4-YS16.svg].\n",
      "2025-06-17 09:23:21,462 - INFO - Computing checksums for file: [/data/kb_766/EyeAI_working/deriva-ml/execution/4-YTWW/asset/eye-ai/Fundus_Bounding_Box/Cropped_4-YS16.svg]. Please wait...\n",
      "2025-06-17 09:23:21,464 - INFO - Uploading file: [/data/kb_766/EyeAI_working/deriva-ml/execution/4-YTWW/asset/eye-ai/Fundus_Bounding_Box/Cropped_4-YS16.svg] to host https://www.eye-ai.org. Please wait...\n",
      "2025-06-17 09:23:21,575 - INFO - Processing: [/data/kb_766/EyeAI_working/deriva-ml/execution/4-YTWW/asset/eye-ai/Fundus_Bounding_Box/Cropped_4-YS18.svg]\n",
      "2025-06-17 09:23:21,575 - INFO - Computed metadata for: [/data/kb_766/EyeAI_working/deriva-ml/execution/4-YTWW/asset/eye-ai/Fundus_Bounding_Box/Cropped_4-YS18.svg].\n",
      "2025-06-17 09:23:21,576 - INFO - Computing checksums for file: [/data/kb_766/EyeAI_working/deriva-ml/execution/4-YTWW/asset/eye-ai/Fundus_Bounding_Box/Cropped_4-YS18.svg]. Please wait...\n",
      "2025-06-17 09:23:21,577 - INFO - Uploading file: [/data/kb_766/EyeAI_working/deriva-ml/execution/4-YTWW/asset/eye-ai/Fundus_Bounding_Box/Cropped_4-YS18.svg] to host https://www.eye-ai.org. Please wait...\n",
      "2025-06-17 09:23:21,695 - INFO - Processing: [/data/kb_766/EyeAI_working/deriva-ml/execution/4-YTWW/asset/eye-ai/Fundus_Bounding_Box/Cropped_4-YS1A.svg]\n",
      "2025-06-17 09:23:21,696 - INFO - Computed metadata for: [/data/kb_766/EyeAI_working/deriva-ml/execution/4-YTWW/asset/eye-ai/Fundus_Bounding_Box/Cropped_4-YS1A.svg].\n",
      "2025-06-17 09:23:21,696 - INFO - Computing checksums for file: [/data/kb_766/EyeAI_working/deriva-ml/execution/4-YTWW/asset/eye-ai/Fundus_Bounding_Box/Cropped_4-YS1A.svg]. Please wait...\n",
      "2025-06-17 09:23:21,698 - INFO - Uploading file: [/data/kb_766/EyeAI_working/deriva-ml/execution/4-YTWW/asset/eye-ai/Fundus_Bounding_Box/Cropped_4-YS1A.svg] to host https://www.eye-ai.org. Please wait...\n",
      "2025-06-17 09:23:21,784 - INFO - Processing: [/data/kb_766/EyeAI_working/deriva-ml/execution/4-YTWW/asset/eye-ai/Fundus_Bounding_Box/Cropped_4-YS1C.svg]\n",
      "2025-06-17 09:23:21,784 - INFO - Computed metadata for: [/data/kb_766/EyeAI_working/deriva-ml/execution/4-YTWW/asset/eye-ai/Fundus_Bounding_Box/Cropped_4-YS1C.svg].\n",
      "2025-06-17 09:23:21,785 - INFO - Computing checksums for file: [/data/kb_766/EyeAI_working/deriva-ml/execution/4-YTWW/asset/eye-ai/Fundus_Bounding_Box/Cropped_4-YS1C.svg]. Please wait...\n",
      "2025-06-17 09:23:21,786 - INFO - Uploading file: [/data/kb_766/EyeAI_working/deriva-ml/execution/4-YTWW/asset/eye-ai/Fundus_Bounding_Box/Cropped_4-YS1C.svg] to host https://www.eye-ai.org. Please wait...\n",
      "2025-06-17 09:23:21,866 - INFO - Processing: [/data/kb_766/EyeAI_working/deriva-ml/execution/4-YTWW/asset/eye-ai/Fundus_Bounding_Box/Cropped_4-YS1E.svg]\n",
      "2025-06-17 09:23:21,867 - INFO - Computed metadata for: [/data/kb_766/EyeAI_working/deriva-ml/execution/4-YTWW/asset/eye-ai/Fundus_Bounding_Box/Cropped_4-YS1E.svg].\n",
      "2025-06-17 09:23:21,867 - INFO - Computing checksums for file: [/data/kb_766/EyeAI_working/deriva-ml/execution/4-YTWW/asset/eye-ai/Fundus_Bounding_Box/Cropped_4-YS1E.svg]. Please wait...\n",
      "2025-06-17 09:23:21,868 - INFO - Uploading file: [/data/kb_766/EyeAI_working/deriva-ml/execution/4-YTWW/asset/eye-ai/Fundus_Bounding_Box/Cropped_4-YS1E.svg] to host https://www.eye-ai.org. Please wait...\n",
      "2025-06-17 09:23:21,968 - INFO - Processing: [/data/kb_766/EyeAI_working/deriva-ml/execution/4-YTWW/asset/eye-ai/Fundus_Bounding_Box/Cropped_4-YS1G.svg]\n",
      "2025-06-17 09:23:21,969 - INFO - Computed metadata for: [/data/kb_766/EyeAI_working/deriva-ml/execution/4-YTWW/asset/eye-ai/Fundus_Bounding_Box/Cropped_4-YS1G.svg].\n",
      "2025-06-17 09:23:21,969 - INFO - Computing checksums for file: [/data/kb_766/EyeAI_working/deriva-ml/execution/4-YTWW/asset/eye-ai/Fundus_Bounding_Box/Cropped_4-YS1G.svg]. Please wait...\n",
      "2025-06-17 09:23:21,971 - INFO - Uploading file: [/data/kb_766/EyeAI_working/deriva-ml/execution/4-YTWW/asset/eye-ai/Fundus_Bounding_Box/Cropped_4-YS1G.svg] to host https://www.eye-ai.org. Please wait...\n",
      "2025-06-17 09:23:22,050 - INFO - Processing: [/data/kb_766/EyeAI_working/deriva-ml/execution/4-YTWW/asset/eye-ai/Fundus_Bounding_Box/Cropped_4-YS1M.svg]\n",
      "2025-06-17 09:23:22,051 - INFO - Computed metadata for: [/data/kb_766/EyeAI_working/deriva-ml/execution/4-YTWW/asset/eye-ai/Fundus_Bounding_Box/Cropped_4-YS1M.svg].\n",
      "2025-06-17 09:23:22,052 - INFO - Computing checksums for file: [/data/kb_766/EyeAI_working/deriva-ml/execution/4-YTWW/asset/eye-ai/Fundus_Bounding_Box/Cropped_4-YS1M.svg]. Please wait...\n",
      "2025-06-17 09:23:22,053 - INFO - Uploading file: [/data/kb_766/EyeAI_working/deriva-ml/execution/4-YTWW/asset/eye-ai/Fundus_Bounding_Box/Cropped_4-YS1M.svg] to host https://www.eye-ai.org. Please wait...\n",
      "2025-06-17 09:23:22,140 - INFO - Processing: [/data/kb_766/EyeAI_working/deriva-ml/execution/4-YTWW/asset/eye-ai/Fundus_Bounding_Box/Cropped_4-YS1P.svg]\n",
      "2025-06-17 09:23:22,140 - INFO - Computed metadata for: [/data/kb_766/EyeAI_working/deriva-ml/execution/4-YTWW/asset/eye-ai/Fundus_Bounding_Box/Cropped_4-YS1P.svg].\n",
      "2025-06-17 09:23:22,141 - INFO - Computing checksums for file: [/data/kb_766/EyeAI_working/deriva-ml/execution/4-YTWW/asset/eye-ai/Fundus_Bounding_Box/Cropped_4-YS1P.svg]. Please wait...\n",
      "2025-06-17 09:23:22,142 - INFO - Uploading file: [/data/kb_766/EyeAI_working/deriva-ml/execution/4-YTWW/asset/eye-ai/Fundus_Bounding_Box/Cropped_4-YS1P.svg] to host https://www.eye-ai.org. Please wait...\n",
      "2025-06-17 09:23:22,227 - INFO - Processing: [/data/kb_766/EyeAI_working/deriva-ml/execution/4-YTWW/asset/eye-ai/Fundus_Bounding_Box/Cropped_4-YS1R.svg]\n",
      "2025-06-17 09:23:22,227 - INFO - Computed metadata for: [/data/kb_766/EyeAI_working/deriva-ml/execution/4-YTWW/asset/eye-ai/Fundus_Bounding_Box/Cropped_4-YS1R.svg].\n",
      "2025-06-17 09:23:22,228 - INFO - Computing checksums for file: [/data/kb_766/EyeAI_working/deriva-ml/execution/4-YTWW/asset/eye-ai/Fundus_Bounding_Box/Cropped_4-YS1R.svg]. Please wait...\n",
      "2025-06-17 09:23:22,229 - INFO - Uploading file: [/data/kb_766/EyeAI_working/deriva-ml/execution/4-YTWW/asset/eye-ai/Fundus_Bounding_Box/Cropped_4-YS1R.svg] to host https://www.eye-ai.org. Please wait...\n",
      "2025-06-17 09:23:22,312 - INFO - Processing: [/data/kb_766/EyeAI_working/deriva-ml/execution/4-YTWW/asset/eye-ai/Fundus_Bounding_Box/Cropped_4-YS1T.svg]\n",
      "2025-06-17 09:23:22,313 - INFO - Computed metadata for: [/data/kb_766/EyeAI_working/deriva-ml/execution/4-YTWW/asset/eye-ai/Fundus_Bounding_Box/Cropped_4-YS1T.svg].\n",
      "2025-06-17 09:23:22,314 - INFO - Computing checksums for file: [/data/kb_766/EyeAI_working/deriva-ml/execution/4-YTWW/asset/eye-ai/Fundus_Bounding_Box/Cropped_4-YS1T.svg]. Please wait...\n",
      "2025-06-17 09:23:22,315 - INFO - Uploading file: [/data/kb_766/EyeAI_working/deriva-ml/execution/4-YTWW/asset/eye-ai/Fundus_Bounding_Box/Cropped_4-YS1T.svg] to host https://www.eye-ai.org. Please wait...\n",
      "2025-06-17 09:23:22,390 - INFO - Processing: [/data/kb_766/EyeAI_working/deriva-ml/execution/4-YTWW/asset/eye-ai/Fundus_Bounding_Box/Cropped_4-YS1W.svg]\n",
      "2025-06-17 09:23:22,391 - INFO - Computed metadata for: [/data/kb_766/EyeAI_working/deriva-ml/execution/4-YTWW/asset/eye-ai/Fundus_Bounding_Box/Cropped_4-YS1W.svg].\n",
      "2025-06-17 09:23:22,392 - INFO - Computing checksums for file: [/data/kb_766/EyeAI_working/deriva-ml/execution/4-YTWW/asset/eye-ai/Fundus_Bounding_Box/Cropped_4-YS1W.svg]. Please wait...\n",
      "2025-06-17 09:23:22,393 - INFO - Uploading file: [/data/kb_766/EyeAI_working/deriva-ml/execution/4-YTWW/asset/eye-ai/Fundus_Bounding_Box/Cropped_4-YS1W.svg] to host https://www.eye-ai.org. Please wait...\n",
      "2025-06-17 09:23:22,474 - INFO - Processing: [/data/kb_766/EyeAI_working/deriva-ml/execution/4-YTWW/asset/eye-ai/Fundus_Bounding_Box/Cropped_4-YS1Y.svg]\n",
      "2025-06-17 09:23:22,474 - INFO - Computed metadata for: [/data/kb_766/EyeAI_working/deriva-ml/execution/4-YTWW/asset/eye-ai/Fundus_Bounding_Box/Cropped_4-YS1Y.svg].\n",
      "2025-06-17 09:23:22,475 - INFO - Computing checksums for file: [/data/kb_766/EyeAI_working/deriva-ml/execution/4-YTWW/asset/eye-ai/Fundus_Bounding_Box/Cropped_4-YS1Y.svg]. Please wait...\n",
      "2025-06-17 09:23:22,476 - INFO - Uploading file: [/data/kb_766/EyeAI_working/deriva-ml/execution/4-YTWW/asset/eye-ai/Fundus_Bounding_Box/Cropped_4-YS1Y.svg] to host https://www.eye-ai.org. Please wait...\n",
      "2025-06-17 09:23:22,559 - INFO - Processing: [/data/kb_766/EyeAI_working/deriva-ml/execution/4-YTWW/asset/eye-ai/Fundus_Bounding_Box/Cropped_4-YS20.svg]\n",
      "2025-06-17 09:23:22,559 - INFO - Computed metadata for: [/data/kb_766/EyeAI_working/deriva-ml/execution/4-YTWW/asset/eye-ai/Fundus_Bounding_Box/Cropped_4-YS20.svg].\n",
      "2025-06-17 09:23:22,560 - INFO - Computing checksums for file: [/data/kb_766/EyeAI_working/deriva-ml/execution/4-YTWW/asset/eye-ai/Fundus_Bounding_Box/Cropped_4-YS20.svg]. Please wait...\n",
      "2025-06-17 09:23:22,561 - INFO - Uploading file: [/data/kb_766/EyeAI_working/deriva-ml/execution/4-YTWW/asset/eye-ai/Fundus_Bounding_Box/Cropped_4-YS20.svg] to host https://www.eye-ai.org. Please wait...\n",
      "2025-06-17 09:23:22,645 - INFO - Processing: [/data/kb_766/EyeAI_working/deriva-ml/execution/4-YTWW/asset/eye-ai/Fundus_Bounding_Box/Cropped_4-YS22.svg]\n",
      "2025-06-17 09:23:22,645 - INFO - Computed metadata for: [/data/kb_766/EyeAI_working/deriva-ml/execution/4-YTWW/asset/eye-ai/Fundus_Bounding_Box/Cropped_4-YS22.svg].\n",
      "2025-06-17 09:23:22,646 - INFO - Computing checksums for file: [/data/kb_766/EyeAI_working/deriva-ml/execution/4-YTWW/asset/eye-ai/Fundus_Bounding_Box/Cropped_4-YS22.svg]. Please wait...\n",
      "2025-06-17 09:23:22,647 - INFO - Uploading file: [/data/kb_766/EyeAI_working/deriva-ml/execution/4-YTWW/asset/eye-ai/Fundus_Bounding_Box/Cropped_4-YS22.svg] to host https://www.eye-ai.org. Please wait...\n",
      "2025-06-17 09:23:22,732 - INFO - Processing: [/data/kb_766/EyeAI_working/deriva-ml/execution/4-YTWW/asset/eye-ai/Fundus_Bounding_Box/Cropped_4-YS24.svg]\n",
      "2025-06-17 09:23:22,733 - INFO - Computed metadata for: [/data/kb_766/EyeAI_working/deriva-ml/execution/4-YTWW/asset/eye-ai/Fundus_Bounding_Box/Cropped_4-YS24.svg].\n",
      "2025-06-17 09:23:22,733 - INFO - Computing checksums for file: [/data/kb_766/EyeAI_working/deriva-ml/execution/4-YTWW/asset/eye-ai/Fundus_Bounding_Box/Cropped_4-YS24.svg]. Please wait...\n",
      "2025-06-17 09:23:22,735 - INFO - Uploading file: [/data/kb_766/EyeAI_working/deriva-ml/execution/4-YTWW/asset/eye-ai/Fundus_Bounding_Box/Cropped_4-YS24.svg] to host https://www.eye-ai.org. Please wait...\n",
      "2025-06-17 09:23:22,843 - INFO - Processing: [/data/kb_766/EyeAI_working/deriva-ml/execution/4-YTWW/asset/eye-ai/Fundus_Bounding_Box/Cropped_4-YS28.svg]\n",
      "2025-06-17 09:23:22,844 - INFO - Computed metadata for: [/data/kb_766/EyeAI_working/deriva-ml/execution/4-YTWW/asset/eye-ai/Fundus_Bounding_Box/Cropped_4-YS28.svg].\n",
      "2025-06-17 09:23:22,844 - INFO - Computing checksums for file: [/data/kb_766/EyeAI_working/deriva-ml/execution/4-YTWW/asset/eye-ai/Fundus_Bounding_Box/Cropped_4-YS28.svg]. Please wait...\n",
      "2025-06-17 09:23:22,845 - INFO - Uploading file: [/data/kb_766/EyeAI_working/deriva-ml/execution/4-YTWW/asset/eye-ai/Fundus_Bounding_Box/Cropped_4-YS28.svg] to host https://www.eye-ai.org. Please wait...\n",
      "2025-06-17 09:23:22,933 - INFO - Processing: [/data/kb_766/EyeAI_working/deriva-ml/execution/4-YTWW/asset/eye-ai/Fundus_Bounding_Box/Cropped_4-YS2A.svg]\n",
      "2025-06-17 09:23:22,934 - INFO - Computed metadata for: [/data/kb_766/EyeAI_working/deriva-ml/execution/4-YTWW/asset/eye-ai/Fundus_Bounding_Box/Cropped_4-YS2A.svg].\n",
      "2025-06-17 09:23:22,934 - INFO - Computing checksums for file: [/data/kb_766/EyeAI_working/deriva-ml/execution/4-YTWW/asset/eye-ai/Fundus_Bounding_Box/Cropped_4-YS2A.svg]. Please wait...\n",
      "2025-06-17 09:23:22,935 - INFO - Uploading file: [/data/kb_766/EyeAI_working/deriva-ml/execution/4-YTWW/asset/eye-ai/Fundus_Bounding_Box/Cropped_4-YS2A.svg] to host https://www.eye-ai.org. Please wait...\n",
      "2025-06-17 09:23:23,018 - INFO - Processing: [/data/kb_766/EyeAI_working/deriva-ml/execution/4-YTWW/asset/eye-ai/Fundus_Bounding_Box/Cropped_4-YS2C.svg]\n",
      "2025-06-17 09:23:23,018 - INFO - Computed metadata for: [/data/kb_766/EyeAI_working/deriva-ml/execution/4-YTWW/asset/eye-ai/Fundus_Bounding_Box/Cropped_4-YS2C.svg].\n",
      "2025-06-17 09:23:23,019 - INFO - Computing checksums for file: [/data/kb_766/EyeAI_working/deriva-ml/execution/4-YTWW/asset/eye-ai/Fundus_Bounding_Box/Cropped_4-YS2C.svg]. Please wait...\n",
      "2025-06-17 09:23:23,020 - INFO - Uploading file: [/data/kb_766/EyeAI_working/deriva-ml/execution/4-YTWW/asset/eye-ai/Fundus_Bounding_Box/Cropped_4-YS2C.svg] to host https://www.eye-ai.org. Please wait...\n",
      "2025-06-17 09:23:23,103 - INFO - Processing: [/data/kb_766/EyeAI_working/deriva-ml/execution/4-YTWW/asset/eye-ai/Fundus_Bounding_Box/Cropped_4-YS2E.svg]\n",
      "2025-06-17 09:23:23,104 - INFO - Computed metadata for: [/data/kb_766/EyeAI_working/deriva-ml/execution/4-YTWW/asset/eye-ai/Fundus_Bounding_Box/Cropped_4-YS2E.svg].\n",
      "2025-06-17 09:23:23,105 - INFO - Computing checksums for file: [/data/kb_766/EyeAI_working/deriva-ml/execution/4-YTWW/asset/eye-ai/Fundus_Bounding_Box/Cropped_4-YS2E.svg]. Please wait...\n",
      "2025-06-17 09:23:23,106 - INFO - Uploading file: [/data/kb_766/EyeAI_working/deriva-ml/execution/4-YTWW/asset/eye-ai/Fundus_Bounding_Box/Cropped_4-YS2E.svg] to host https://www.eye-ai.org. Please wait...\n",
      "2025-06-17 09:23:23,186 - INFO - Processing: [/data/kb_766/EyeAI_working/deriva-ml/execution/4-YTWW/asset/eye-ai/Fundus_Bounding_Box/Cropped_4-YS2G.svg]\n",
      "2025-06-17 09:23:23,187 - INFO - Computed metadata for: [/data/kb_766/EyeAI_working/deriva-ml/execution/4-YTWW/asset/eye-ai/Fundus_Bounding_Box/Cropped_4-YS2G.svg].\n",
      "2025-06-17 09:23:23,187 - INFO - Computing checksums for file: [/data/kb_766/EyeAI_working/deriva-ml/execution/4-YTWW/asset/eye-ai/Fundus_Bounding_Box/Cropped_4-YS2G.svg]. Please wait...\n",
      "2025-06-17 09:23:23,189 - INFO - Uploading file: [/data/kb_766/EyeAI_working/deriva-ml/execution/4-YTWW/asset/eye-ai/Fundus_Bounding_Box/Cropped_4-YS2G.svg] to host https://www.eye-ai.org. Please wait...\n",
      "2025-06-17 09:23:23,369 - INFO - Processing: [/data/kb_766/EyeAI_working/deriva-ml/execution/4-YTWW/asset/eye-ai/Fundus_Bounding_Box/Cropped_4-YS2J.svg]\n",
      "2025-06-17 09:23:23,369 - INFO - Computed metadata for: [/data/kb_766/EyeAI_working/deriva-ml/execution/4-YTWW/asset/eye-ai/Fundus_Bounding_Box/Cropped_4-YS2J.svg].\n",
      "2025-06-17 09:23:23,370 - INFO - Computing checksums for file: [/data/kb_766/EyeAI_working/deriva-ml/execution/4-YTWW/asset/eye-ai/Fundus_Bounding_Box/Cropped_4-YS2J.svg]. Please wait...\n",
      "2025-06-17 09:23:23,371 - INFO - Uploading file: [/data/kb_766/EyeAI_working/deriva-ml/execution/4-YTWW/asset/eye-ai/Fundus_Bounding_Box/Cropped_4-YS2J.svg] to host https://www.eye-ai.org. Please wait...\n",
      "2025-06-17 09:23:23,481 - INFO - Processing: [/data/kb_766/EyeAI_working/deriva-ml/execution/4-YTWW/asset/eye-ai/Fundus_Bounding_Box/Cropped_4-YS2M.svg]\n",
      "2025-06-17 09:23:23,482 - INFO - Computed metadata for: [/data/kb_766/EyeAI_working/deriva-ml/execution/4-YTWW/asset/eye-ai/Fundus_Bounding_Box/Cropped_4-YS2M.svg].\n",
      "2025-06-17 09:23:23,482 - INFO - Computing checksums for file: [/data/kb_766/EyeAI_working/deriva-ml/execution/4-YTWW/asset/eye-ai/Fundus_Bounding_Box/Cropped_4-YS2M.svg]. Please wait...\n",
      "2025-06-17 09:23:23,483 - INFO - Uploading file: [/data/kb_766/EyeAI_working/deriva-ml/execution/4-YTWW/asset/eye-ai/Fundus_Bounding_Box/Cropped_4-YS2M.svg] to host https://www.eye-ai.org. Please wait...\n",
      "2025-06-17 09:23:23,564 - INFO - Processing: [/data/kb_766/EyeAI_working/deriva-ml/execution/4-YTWW/asset/eye-ai/Fundus_Bounding_Box/Cropped_4-YS2P.svg]\n",
      "2025-06-17 09:23:23,565 - INFO - Computed metadata for: [/data/kb_766/EyeAI_working/deriva-ml/execution/4-YTWW/asset/eye-ai/Fundus_Bounding_Box/Cropped_4-YS2P.svg].\n",
      "2025-06-17 09:23:23,566 - INFO - Computing checksums for file: [/data/kb_766/EyeAI_working/deriva-ml/execution/4-YTWW/asset/eye-ai/Fundus_Bounding_Box/Cropped_4-YS2P.svg]. Please wait...\n",
      "2025-06-17 09:23:23,567 - INFO - Uploading file: [/data/kb_766/EyeAI_working/deriva-ml/execution/4-YTWW/asset/eye-ai/Fundus_Bounding_Box/Cropped_4-YS2P.svg] to host https://www.eye-ai.org. Please wait...\n",
      "2025-06-17 09:23:23,669 - INFO - Processing: [/data/kb_766/EyeAI_working/deriva-ml/execution/4-YTWW/asset/eye-ai/Fundus_Bounding_Box/Cropped_4-YS2R.svg]\n",
      "2025-06-17 09:23:23,670 - INFO - Computed metadata for: [/data/kb_766/EyeAI_working/deriva-ml/execution/4-YTWW/asset/eye-ai/Fundus_Bounding_Box/Cropped_4-YS2R.svg].\n",
      "2025-06-17 09:23:23,670 - INFO - Computing checksums for file: [/data/kb_766/EyeAI_working/deriva-ml/execution/4-YTWW/asset/eye-ai/Fundus_Bounding_Box/Cropped_4-YS2R.svg]. Please wait...\n",
      "2025-06-17 09:23:23,671 - INFO - Uploading file: [/data/kb_766/EyeAI_working/deriva-ml/execution/4-YTWW/asset/eye-ai/Fundus_Bounding_Box/Cropped_4-YS2R.svg] to host https://www.eye-ai.org. Please wait...\n",
      "2025-06-17 09:23:23,755 - INFO - Processing: [/data/kb_766/EyeAI_working/deriva-ml/execution/4-YTWW/asset/eye-ai/Fundus_Bounding_Box/Cropped_4-YS2T.svg]\n",
      "2025-06-17 09:23:23,756 - INFO - Computed metadata for: [/data/kb_766/EyeAI_working/deriva-ml/execution/4-YTWW/asset/eye-ai/Fundus_Bounding_Box/Cropped_4-YS2T.svg].\n",
      "2025-06-17 09:23:23,756 - INFO - Computing checksums for file: [/data/kb_766/EyeAI_working/deriva-ml/execution/4-YTWW/asset/eye-ai/Fundus_Bounding_Box/Cropped_4-YS2T.svg]. Please wait...\n",
      "2025-06-17 09:23:23,758 - INFO - Uploading file: [/data/kb_766/EyeAI_working/deriva-ml/execution/4-YTWW/asset/eye-ai/Fundus_Bounding_Box/Cropped_4-YS2T.svg] to host https://www.eye-ai.org. Please wait...\n",
      "2025-06-17 09:23:23,856 - INFO - Processing: [/data/kb_766/EyeAI_working/deriva-ml/execution/4-YTWW/asset/eye-ai/Fundus_Bounding_Box/Cropped_4-YS2W.svg]\n",
      "2025-06-17 09:23:23,857 - INFO - Computed metadata for: [/data/kb_766/EyeAI_working/deriva-ml/execution/4-YTWW/asset/eye-ai/Fundus_Bounding_Box/Cropped_4-YS2W.svg].\n",
      "2025-06-17 09:23:23,857 - INFO - Computing checksums for file: [/data/kb_766/EyeAI_working/deriva-ml/execution/4-YTWW/asset/eye-ai/Fundus_Bounding_Box/Cropped_4-YS2W.svg]. Please wait...\n",
      "2025-06-17 09:23:23,859 - INFO - Uploading file: [/data/kb_766/EyeAI_working/deriva-ml/execution/4-YTWW/asset/eye-ai/Fundus_Bounding_Box/Cropped_4-YS2W.svg] to host https://www.eye-ai.org. Please wait...\n",
      "2025-06-17 09:23:23,944 - INFO - Processing: [/data/kb_766/EyeAI_working/deriva-ml/execution/4-YTWW/asset/eye-ai/Fundus_Bounding_Box/Cropped_4-YS2Y.svg]\n",
      "2025-06-17 09:23:23,945 - INFO - Computed metadata for: [/data/kb_766/EyeAI_working/deriva-ml/execution/4-YTWW/asset/eye-ai/Fundus_Bounding_Box/Cropped_4-YS2Y.svg].\n",
      "2025-06-17 09:23:23,945 - INFO - Computing checksums for file: [/data/kb_766/EyeAI_working/deriva-ml/execution/4-YTWW/asset/eye-ai/Fundus_Bounding_Box/Cropped_4-YS2Y.svg]. Please wait...\n",
      "2025-06-17 09:23:23,946 - INFO - Uploading file: [/data/kb_766/EyeAI_working/deriva-ml/execution/4-YTWW/asset/eye-ai/Fundus_Bounding_Box/Cropped_4-YS2Y.svg] to host https://www.eye-ai.org. Please wait...\n",
      "2025-06-17 09:23:24,025 - INFO - Processing: [/data/kb_766/EyeAI_working/deriva-ml/execution/4-YTWW/asset/eye-ai/Fundus_Bounding_Box/Cropped_4-YS30.svg]\n",
      "2025-06-17 09:23:24,026 - INFO - Computed metadata for: [/data/kb_766/EyeAI_working/deriva-ml/execution/4-YTWW/asset/eye-ai/Fundus_Bounding_Box/Cropped_4-YS30.svg].\n",
      "2025-06-17 09:23:24,026 - INFO - Computing checksums for file: [/data/kb_766/EyeAI_working/deriva-ml/execution/4-YTWW/asset/eye-ai/Fundus_Bounding_Box/Cropped_4-YS30.svg]. Please wait...\n",
      "2025-06-17 09:23:24,028 - INFO - Uploading file: [/data/kb_766/EyeAI_working/deriva-ml/execution/4-YTWW/asset/eye-ai/Fundus_Bounding_Box/Cropped_4-YS30.svg] to host https://www.eye-ai.org. Please wait...\n",
      "2025-06-17 09:23:24,158 - INFO - Processing: [/data/kb_766/EyeAI_working/deriva-ml/execution/4-YTWW/asset/eye-ai/Fundus_Bounding_Box/Cropped_4-YS32.svg]\n",
      "2025-06-17 09:23:24,159 - INFO - Computed metadata for: [/data/kb_766/EyeAI_working/deriva-ml/execution/4-YTWW/asset/eye-ai/Fundus_Bounding_Box/Cropped_4-YS32.svg].\n",
      "2025-06-17 09:23:24,160 - INFO - Computing checksums for file: [/data/kb_766/EyeAI_working/deriva-ml/execution/4-YTWW/asset/eye-ai/Fundus_Bounding_Box/Cropped_4-YS32.svg]. Please wait...\n",
      "2025-06-17 09:23:24,161 - INFO - Uploading file: [/data/kb_766/EyeAI_working/deriva-ml/execution/4-YTWW/asset/eye-ai/Fundus_Bounding_Box/Cropped_4-YS32.svg] to host https://www.eye-ai.org. Please wait...\n",
      "2025-06-17 09:23:24,242 - INFO - Processing: [/data/kb_766/EyeAI_working/deriva-ml/execution/4-YTWW/asset/eye-ai/Fundus_Bounding_Box/Cropped_4-YS34.svg]\n",
      "2025-06-17 09:23:24,243 - INFO - Computed metadata for: [/data/kb_766/EyeAI_working/deriva-ml/execution/4-YTWW/asset/eye-ai/Fundus_Bounding_Box/Cropped_4-YS34.svg].\n",
      "2025-06-17 09:23:24,244 - INFO - Computing checksums for file: [/data/kb_766/EyeAI_working/deriva-ml/execution/4-YTWW/asset/eye-ai/Fundus_Bounding_Box/Cropped_4-YS34.svg]. Please wait...\n",
      "2025-06-17 09:23:24,245 - INFO - Uploading file: [/data/kb_766/EyeAI_working/deriva-ml/execution/4-YTWW/asset/eye-ai/Fundus_Bounding_Box/Cropped_4-YS34.svg] to host https://www.eye-ai.org. Please wait...\n",
      "2025-06-17 09:23:24,328 - INFO - Processing: [/data/kb_766/EyeAI_working/deriva-ml/execution/4-YTWW/asset/eye-ai/Fundus_Bounding_Box/Cropped_4-YS36.svg]\n",
      "2025-06-17 09:23:24,329 - INFO - Computed metadata for: [/data/kb_766/EyeAI_working/deriva-ml/execution/4-YTWW/asset/eye-ai/Fundus_Bounding_Box/Cropped_4-YS36.svg].\n",
      "2025-06-17 09:23:24,329 - INFO - Computing checksums for file: [/data/kb_766/EyeAI_working/deriva-ml/execution/4-YTWW/asset/eye-ai/Fundus_Bounding_Box/Cropped_4-YS36.svg]. Please wait...\n",
      "2025-06-17 09:23:24,331 - INFO - Uploading file: [/data/kb_766/EyeAI_working/deriva-ml/execution/4-YTWW/asset/eye-ai/Fundus_Bounding_Box/Cropped_4-YS36.svg] to host https://www.eye-ai.org. Please wait...\n",
      "2025-06-17 09:23:24,410 - INFO - Processing: [/data/kb_766/EyeAI_working/deriva-ml/execution/4-YTWW/asset/eye-ai/Fundus_Bounding_Box/Cropped_4-YS3C.svg]\n",
      "2025-06-17 09:23:24,411 - INFO - Computed metadata for: [/data/kb_766/EyeAI_working/deriva-ml/execution/4-YTWW/asset/eye-ai/Fundus_Bounding_Box/Cropped_4-YS3C.svg].\n",
      "2025-06-17 09:23:24,412 - INFO - Computing checksums for file: [/data/kb_766/EyeAI_working/deriva-ml/execution/4-YTWW/asset/eye-ai/Fundus_Bounding_Box/Cropped_4-YS3C.svg]. Please wait...\n",
      "2025-06-17 09:23:24,413 - INFO - Uploading file: [/data/kb_766/EyeAI_working/deriva-ml/execution/4-YTWW/asset/eye-ai/Fundus_Bounding_Box/Cropped_4-YS3C.svg] to host https://www.eye-ai.org. Please wait...\n",
      "2025-06-17 09:23:24,493 - INFO - Processing: [/data/kb_766/EyeAI_working/deriva-ml/execution/4-YTWW/asset/eye-ai/Fundus_Bounding_Box/Cropped_4-YS3E.svg]\n",
      "2025-06-17 09:23:24,494 - INFO - Computed metadata for: [/data/kb_766/EyeAI_working/deriva-ml/execution/4-YTWW/asset/eye-ai/Fundus_Bounding_Box/Cropped_4-YS3E.svg].\n",
      "2025-06-17 09:23:24,494 - INFO - Computing checksums for file: [/data/kb_766/EyeAI_working/deriva-ml/execution/4-YTWW/asset/eye-ai/Fundus_Bounding_Box/Cropped_4-YS3E.svg]. Please wait...\n",
      "2025-06-17 09:23:24,496 - INFO - Uploading file: [/data/kb_766/EyeAI_working/deriva-ml/execution/4-YTWW/asset/eye-ai/Fundus_Bounding_Box/Cropped_4-YS3E.svg] to host https://www.eye-ai.org. Please wait...\n",
      "2025-06-17 09:23:24,574 - INFO - Processing: [/data/kb_766/EyeAI_working/deriva-ml/execution/4-YTWW/asset/eye-ai/Fundus_Bounding_Box/Cropped_4-YS3G.svg]\n",
      "2025-06-17 09:23:24,574 - INFO - Computed metadata for: [/data/kb_766/EyeAI_working/deriva-ml/execution/4-YTWW/asset/eye-ai/Fundus_Bounding_Box/Cropped_4-YS3G.svg].\n",
      "2025-06-17 09:23:24,575 - INFO - Computing checksums for file: [/data/kb_766/EyeAI_working/deriva-ml/execution/4-YTWW/asset/eye-ai/Fundus_Bounding_Box/Cropped_4-YS3G.svg]. Please wait...\n",
      "2025-06-17 09:23:24,576 - INFO - Uploading file: [/data/kb_766/EyeAI_working/deriva-ml/execution/4-YTWW/asset/eye-ai/Fundus_Bounding_Box/Cropped_4-YS3G.svg] to host https://www.eye-ai.org. Please wait...\n",
      "2025-06-17 09:23:24,659 - INFO - Processing: [/data/kb_766/EyeAI_working/deriva-ml/execution/4-YTWW/asset/eye-ai/Fundus_Bounding_Box/Cropped_4-YS3J.svg]\n",
      "2025-06-17 09:23:24,660 - INFO - Computed metadata for: [/data/kb_766/EyeAI_working/deriva-ml/execution/4-YTWW/asset/eye-ai/Fundus_Bounding_Box/Cropped_4-YS3J.svg].\n",
      "2025-06-17 09:23:24,660 - INFO - Computing checksums for file: [/data/kb_766/EyeAI_working/deriva-ml/execution/4-YTWW/asset/eye-ai/Fundus_Bounding_Box/Cropped_4-YS3J.svg]. Please wait...\n",
      "2025-06-17 09:23:24,662 - INFO - Uploading file: [/data/kb_766/EyeAI_working/deriva-ml/execution/4-YTWW/asset/eye-ai/Fundus_Bounding_Box/Cropped_4-YS3J.svg] to host https://www.eye-ai.org. Please wait...\n",
      "2025-06-17 09:23:24,792 - INFO - Processing: [/data/kb_766/EyeAI_working/deriva-ml/execution/4-YTWW/asset/eye-ai/Fundus_Bounding_Box/Cropped_4-YS3P.svg]\n",
      "2025-06-17 09:23:24,793 - INFO - Computed metadata for: [/data/kb_766/EyeAI_working/deriva-ml/execution/4-YTWW/asset/eye-ai/Fundus_Bounding_Box/Cropped_4-YS3P.svg].\n",
      "2025-06-17 09:23:24,793 - INFO - Computing checksums for file: [/data/kb_766/EyeAI_working/deriva-ml/execution/4-YTWW/asset/eye-ai/Fundus_Bounding_Box/Cropped_4-YS3P.svg]. Please wait...\n",
      "2025-06-17 09:23:24,794 - INFO - Uploading file: [/data/kb_766/EyeAI_working/deriva-ml/execution/4-YTWW/asset/eye-ai/Fundus_Bounding_Box/Cropped_4-YS3P.svg] to host https://www.eye-ai.org. Please wait...\n",
      "2025-06-17 09:23:24,876 - INFO - Processing: [/data/kb_766/EyeAI_working/deriva-ml/execution/4-YTWW/asset/eye-ai/Fundus_Bounding_Box/Cropped_4-YS3R.svg]\n",
      "2025-06-17 09:23:24,877 - INFO - Computed metadata for: [/data/kb_766/EyeAI_working/deriva-ml/execution/4-YTWW/asset/eye-ai/Fundus_Bounding_Box/Cropped_4-YS3R.svg].\n",
      "2025-06-17 09:23:24,877 - INFO - Computing checksums for file: [/data/kb_766/EyeAI_working/deriva-ml/execution/4-YTWW/asset/eye-ai/Fundus_Bounding_Box/Cropped_4-YS3R.svg]. Please wait...\n",
      "2025-06-17 09:23:24,879 - INFO - Uploading file: [/data/kb_766/EyeAI_working/deriva-ml/execution/4-YTWW/asset/eye-ai/Fundus_Bounding_Box/Cropped_4-YS3R.svg] to host https://www.eye-ai.org. Please wait...\n",
      "2025-06-17 09:23:24,961 - INFO - Processing: [/data/kb_766/EyeAI_working/deriva-ml/execution/4-YTWW/asset/eye-ai/Fundus_Bounding_Box/Cropped_4-YS3T.svg]\n",
      "2025-06-17 09:23:24,962 - INFO - Computed metadata for: [/data/kb_766/EyeAI_working/deriva-ml/execution/4-YTWW/asset/eye-ai/Fundus_Bounding_Box/Cropped_4-YS3T.svg].\n",
      "2025-06-17 09:23:24,963 - INFO - Computing checksums for file: [/data/kb_766/EyeAI_working/deriva-ml/execution/4-YTWW/asset/eye-ai/Fundus_Bounding_Box/Cropped_4-YS3T.svg]. Please wait...\n",
      "2025-06-17 09:23:24,964 - INFO - Uploading file: [/data/kb_766/EyeAI_working/deriva-ml/execution/4-YTWW/asset/eye-ai/Fundus_Bounding_Box/Cropped_4-YS3T.svg] to host https://www.eye-ai.org. Please wait...\n",
      "2025-06-17 09:23:25,066 - INFO - Processing: [/data/kb_766/EyeAI_working/deriva-ml/execution/4-YTWW/asset/eye-ai/Fundus_Bounding_Box/Cropped_4-YS3W.svg]\n",
      "2025-06-17 09:23:25,067 - INFO - Computed metadata for: [/data/kb_766/EyeAI_working/deriva-ml/execution/4-YTWW/asset/eye-ai/Fundus_Bounding_Box/Cropped_4-YS3W.svg].\n",
      "2025-06-17 09:23:25,067 - INFO - Computing checksums for file: [/data/kb_766/EyeAI_working/deriva-ml/execution/4-YTWW/asset/eye-ai/Fundus_Bounding_Box/Cropped_4-YS3W.svg]. Please wait...\n",
      "2025-06-17 09:23:25,068 - INFO - Uploading file: [/data/kb_766/EyeAI_working/deriva-ml/execution/4-YTWW/asset/eye-ai/Fundus_Bounding_Box/Cropped_4-YS3W.svg] to host https://www.eye-ai.org. Please wait...\n",
      "2025-06-17 09:23:25,163 - INFO - Processing: [/data/kb_766/EyeAI_working/deriva-ml/execution/4-YTWW/asset/eye-ai/Fundus_Bounding_Box/Cropped_4-YS3Y.svg]\n",
      "2025-06-17 09:23:25,163 - INFO - Computed metadata for: [/data/kb_766/EyeAI_working/deriva-ml/execution/4-YTWW/asset/eye-ai/Fundus_Bounding_Box/Cropped_4-YS3Y.svg].\n",
      "2025-06-17 09:23:25,164 - INFO - Computing checksums for file: [/data/kb_766/EyeAI_working/deriva-ml/execution/4-YTWW/asset/eye-ai/Fundus_Bounding_Box/Cropped_4-YS3Y.svg]. Please wait...\n",
      "2025-06-17 09:23:25,165 - INFO - Uploading file: [/data/kb_766/EyeAI_working/deriva-ml/execution/4-YTWW/asset/eye-ai/Fundus_Bounding_Box/Cropped_4-YS3Y.svg] to host https://www.eye-ai.org. Please wait...\n",
      "2025-06-17 09:23:25,265 - INFO - Processing: [/data/kb_766/EyeAI_working/deriva-ml/execution/4-YTWW/asset/eye-ai/Fundus_Bounding_Box/Cropped_4-YS42.svg]\n",
      "2025-06-17 09:23:25,265 - INFO - Computed metadata for: [/data/kb_766/EyeAI_working/deriva-ml/execution/4-YTWW/asset/eye-ai/Fundus_Bounding_Box/Cropped_4-YS42.svg].\n",
      "2025-06-17 09:23:25,266 - INFO - Computing checksums for file: [/data/kb_766/EyeAI_working/deriva-ml/execution/4-YTWW/asset/eye-ai/Fundus_Bounding_Box/Cropped_4-YS42.svg]. Please wait...\n",
      "2025-06-17 09:23:25,267 - INFO - Uploading file: [/data/kb_766/EyeAI_working/deriva-ml/execution/4-YTWW/asset/eye-ai/Fundus_Bounding_Box/Cropped_4-YS42.svg] to host https://www.eye-ai.org. Please wait...\n",
      "2025-06-17 09:23:25,351 - INFO - Processing: [/data/kb_766/EyeAI_working/deriva-ml/execution/4-YTWW/asset/eye-ai/Fundus_Bounding_Box/Cropped_4-YS44.svg]\n",
      "2025-06-17 09:23:25,352 - INFO - Computed metadata for: [/data/kb_766/EyeAI_working/deriva-ml/execution/4-YTWW/asset/eye-ai/Fundus_Bounding_Box/Cropped_4-YS44.svg].\n",
      "2025-06-17 09:23:25,353 - INFO - Computing checksums for file: [/data/kb_766/EyeAI_working/deriva-ml/execution/4-YTWW/asset/eye-ai/Fundus_Bounding_Box/Cropped_4-YS44.svg]. Please wait...\n",
      "2025-06-17 09:23:25,354 - INFO - Uploading file: [/data/kb_766/EyeAI_working/deriva-ml/execution/4-YTWW/asset/eye-ai/Fundus_Bounding_Box/Cropped_4-YS44.svg] to host https://www.eye-ai.org. Please wait...\n",
      "2025-06-17 09:23:25,436 - INFO - Processing: [/data/kb_766/EyeAI_working/deriva-ml/execution/4-YTWW/asset/eye-ai/Fundus_Bounding_Box/Cropped_4-YS48.svg]\n",
      "2025-06-17 09:23:25,437 - INFO - Computed metadata for: [/data/kb_766/EyeAI_working/deriva-ml/execution/4-YTWW/asset/eye-ai/Fundus_Bounding_Box/Cropped_4-YS48.svg].\n",
      "2025-06-17 09:23:25,437 - INFO - Computing checksums for file: [/data/kb_766/EyeAI_working/deriva-ml/execution/4-YTWW/asset/eye-ai/Fundus_Bounding_Box/Cropped_4-YS48.svg]. Please wait...\n",
      "2025-06-17 09:23:25,439 - INFO - Uploading file: [/data/kb_766/EyeAI_working/deriva-ml/execution/4-YTWW/asset/eye-ai/Fundus_Bounding_Box/Cropped_4-YS48.svg] to host https://www.eye-ai.org. Please wait...\n",
      "2025-06-17 09:23:25,524 - INFO - Processing: [/data/kb_766/EyeAI_working/deriva-ml/execution/4-YTWW/asset/eye-ai/Fundus_Bounding_Box/Cropped_4-YS4A.svg]\n",
      "2025-06-17 09:23:25,525 - INFO - Computed metadata for: [/data/kb_766/EyeAI_working/deriva-ml/execution/4-YTWW/asset/eye-ai/Fundus_Bounding_Box/Cropped_4-YS4A.svg].\n",
      "2025-06-17 09:23:25,525 - INFO - Computing checksums for file: [/data/kb_766/EyeAI_working/deriva-ml/execution/4-YTWW/asset/eye-ai/Fundus_Bounding_Box/Cropped_4-YS4A.svg]. Please wait...\n",
      "2025-06-17 09:23:25,527 - INFO - Uploading file: [/data/kb_766/EyeAI_working/deriva-ml/execution/4-YTWW/asset/eye-ai/Fundus_Bounding_Box/Cropped_4-YS4A.svg] to host https://www.eye-ai.org. Please wait...\n",
      "2025-06-17 09:23:25,649 - INFO - Processing: [/data/kb_766/EyeAI_working/deriva-ml/execution/4-YTWW/asset/eye-ai/Fundus_Bounding_Box/Cropped_4-YS4C.svg]\n",
      "2025-06-17 09:23:25,649 - INFO - Computed metadata for: [/data/kb_766/EyeAI_working/deriva-ml/execution/4-YTWW/asset/eye-ai/Fundus_Bounding_Box/Cropped_4-YS4C.svg].\n",
      "2025-06-17 09:23:25,650 - INFO - Computing checksums for file: [/data/kb_766/EyeAI_working/deriva-ml/execution/4-YTWW/asset/eye-ai/Fundus_Bounding_Box/Cropped_4-YS4C.svg]. Please wait...\n",
      "2025-06-17 09:23:25,651 - INFO - Uploading file: [/data/kb_766/EyeAI_working/deriva-ml/execution/4-YTWW/asset/eye-ai/Fundus_Bounding_Box/Cropped_4-YS4C.svg] to host https://www.eye-ai.org. Please wait...\n",
      "2025-06-17 09:23:25,771 - INFO - Processing: [/data/kb_766/EyeAI_working/deriva-ml/execution/4-YTWW/asset/eye-ai/Fundus_Bounding_Box/Cropped_4-YS4E.svg]\n",
      "2025-06-17 09:23:25,772 - INFO - Computed metadata for: [/data/kb_766/EyeAI_working/deriva-ml/execution/4-YTWW/asset/eye-ai/Fundus_Bounding_Box/Cropped_4-YS4E.svg].\n",
      "2025-06-17 09:23:25,772 - INFO - Computing checksums for file: [/data/kb_766/EyeAI_working/deriva-ml/execution/4-YTWW/asset/eye-ai/Fundus_Bounding_Box/Cropped_4-YS4E.svg]. Please wait...\n",
      "2025-06-17 09:23:25,773 - INFO - Uploading file: [/data/kb_766/EyeAI_working/deriva-ml/execution/4-YTWW/asset/eye-ai/Fundus_Bounding_Box/Cropped_4-YS4E.svg] to host https://www.eye-ai.org. Please wait...\n",
      "2025-06-17 09:23:25,854 - INFO - Processing: [/data/kb_766/EyeAI_working/deriva-ml/execution/4-YTWW/asset/eye-ai/Fundus_Bounding_Box/Cropped_4-YS4G.svg]\n",
      "2025-06-17 09:23:25,855 - INFO - Computed metadata for: [/data/kb_766/EyeAI_working/deriva-ml/execution/4-YTWW/asset/eye-ai/Fundus_Bounding_Box/Cropped_4-YS4G.svg].\n",
      "2025-06-17 09:23:25,855 - INFO - Computing checksums for file: [/data/kb_766/EyeAI_working/deriva-ml/execution/4-YTWW/asset/eye-ai/Fundus_Bounding_Box/Cropped_4-YS4G.svg]. Please wait...\n",
      "2025-06-17 09:23:25,856 - INFO - Uploading file: [/data/kb_766/EyeAI_working/deriva-ml/execution/4-YTWW/asset/eye-ai/Fundus_Bounding_Box/Cropped_4-YS4G.svg] to host https://www.eye-ai.org. Please wait...\n",
      "2025-06-17 09:23:25,957 - INFO - Processing: [/data/kb_766/EyeAI_working/deriva-ml/execution/4-YTWW/asset/eye-ai/Fundus_Bounding_Box/Cropped_4-YS4J.svg]\n",
      "2025-06-17 09:23:25,957 - INFO - Computed metadata for: [/data/kb_766/EyeAI_working/deriva-ml/execution/4-YTWW/asset/eye-ai/Fundus_Bounding_Box/Cropped_4-YS4J.svg].\n",
      "2025-06-17 09:23:25,958 - INFO - Computing checksums for file: [/data/kb_766/EyeAI_working/deriva-ml/execution/4-YTWW/asset/eye-ai/Fundus_Bounding_Box/Cropped_4-YS4J.svg]. Please wait...\n",
      "2025-06-17 09:23:25,959 - INFO - Uploading file: [/data/kb_766/EyeAI_working/deriva-ml/execution/4-YTWW/asset/eye-ai/Fundus_Bounding_Box/Cropped_4-YS4J.svg] to host https://www.eye-ai.org. Please wait...\n",
      "2025-06-17 09:23:26,052 - INFO - Processing: [/data/kb_766/EyeAI_working/deriva-ml/execution/4-YTWW/asset/eye-ai/Fundus_Bounding_Box/Cropped_4-YS4M.svg]\n",
      "2025-06-17 09:23:26,053 - INFO - Computed metadata for: [/data/kb_766/EyeAI_working/deriva-ml/execution/4-YTWW/asset/eye-ai/Fundus_Bounding_Box/Cropped_4-YS4M.svg].\n",
      "2025-06-17 09:23:26,054 - INFO - Computing checksums for file: [/data/kb_766/EyeAI_working/deriva-ml/execution/4-YTWW/asset/eye-ai/Fundus_Bounding_Box/Cropped_4-YS4M.svg]. Please wait...\n",
      "2025-06-17 09:23:26,055 - INFO - Uploading file: [/data/kb_766/EyeAI_working/deriva-ml/execution/4-YTWW/asset/eye-ai/Fundus_Bounding_Box/Cropped_4-YS4M.svg] to host https://www.eye-ai.org. Please wait...\n",
      "2025-06-17 09:23:26,181 - INFO - Processing: [/data/kb_766/EyeAI_working/deriva-ml/execution/4-YTWW/asset/eye-ai/Fundus_Bounding_Box/Cropped_4-YS4R.svg]\n",
      "2025-06-17 09:23:26,181 - INFO - Computed metadata for: [/data/kb_766/EyeAI_working/deriva-ml/execution/4-YTWW/asset/eye-ai/Fundus_Bounding_Box/Cropped_4-YS4R.svg].\n",
      "2025-06-17 09:23:26,182 - INFO - Computing checksums for file: [/data/kb_766/EyeAI_working/deriva-ml/execution/4-YTWW/asset/eye-ai/Fundus_Bounding_Box/Cropped_4-YS4R.svg]. Please wait...\n",
      "2025-06-17 09:23:26,183 - INFO - Uploading file: [/data/kb_766/EyeAI_working/deriva-ml/execution/4-YTWW/asset/eye-ai/Fundus_Bounding_Box/Cropped_4-YS4R.svg] to host https://www.eye-ai.org. Please wait...\n",
      "2025-06-17 09:23:26,271 - INFO - Processing: [/data/kb_766/EyeAI_working/deriva-ml/execution/4-YTWW/asset/eye-ai/Fundus_Bounding_Box/Cropped_4-YS4T.svg]\n",
      "2025-06-17 09:23:26,272 - INFO - Computed metadata for: [/data/kb_766/EyeAI_working/deriva-ml/execution/4-YTWW/asset/eye-ai/Fundus_Bounding_Box/Cropped_4-YS4T.svg].\n",
      "2025-06-17 09:23:26,272 - INFO - Computing checksums for file: [/data/kb_766/EyeAI_working/deriva-ml/execution/4-YTWW/asset/eye-ai/Fundus_Bounding_Box/Cropped_4-YS4T.svg]. Please wait...\n",
      "2025-06-17 09:23:26,274 - INFO - Uploading file: [/data/kb_766/EyeAI_working/deriva-ml/execution/4-YTWW/asset/eye-ai/Fundus_Bounding_Box/Cropped_4-YS4T.svg] to host https://www.eye-ai.org. Please wait...\n",
      "2025-06-17 09:23:26,386 - INFO - Processing: [/data/kb_766/EyeAI_working/deriva-ml/execution/4-YTWW/asset/eye-ai/Fundus_Bounding_Box/Cropped_4-YS4W.svg]\n",
      "2025-06-17 09:23:26,387 - INFO - Computed metadata for: [/data/kb_766/EyeAI_working/deriva-ml/execution/4-YTWW/asset/eye-ai/Fundus_Bounding_Box/Cropped_4-YS4W.svg].\n",
      "2025-06-17 09:23:26,387 - INFO - Computing checksums for file: [/data/kb_766/EyeAI_working/deriva-ml/execution/4-YTWW/asset/eye-ai/Fundus_Bounding_Box/Cropped_4-YS4W.svg]. Please wait...\n",
      "2025-06-17 09:23:26,389 - INFO - Uploading file: [/data/kb_766/EyeAI_working/deriva-ml/execution/4-YTWW/asset/eye-ai/Fundus_Bounding_Box/Cropped_4-YS4W.svg] to host https://www.eye-ai.org. Please wait...\n",
      "2025-06-17 09:23:26,471 - INFO - Processing: [/data/kb_766/EyeAI_working/deriva-ml/execution/4-YTWW/asset/eye-ai/Fundus_Bounding_Box/Cropped_4-YS4Y.svg]\n",
      "2025-06-17 09:23:26,471 - INFO - Computed metadata for: [/data/kb_766/EyeAI_working/deriva-ml/execution/4-YTWW/asset/eye-ai/Fundus_Bounding_Box/Cropped_4-YS4Y.svg].\n",
      "2025-06-17 09:23:26,472 - INFO - Computing checksums for file: [/data/kb_766/EyeAI_working/deriva-ml/execution/4-YTWW/asset/eye-ai/Fundus_Bounding_Box/Cropped_4-YS4Y.svg]. Please wait...\n",
      "2025-06-17 09:23:26,473 - INFO - Uploading file: [/data/kb_766/EyeAI_working/deriva-ml/execution/4-YTWW/asset/eye-ai/Fundus_Bounding_Box/Cropped_4-YS4Y.svg] to host https://www.eye-ai.org. Please wait...\n",
      "2025-06-17 09:23:26,591 - INFO - Processing: [/data/kb_766/EyeAI_working/deriva-ml/execution/4-YTWW/asset/eye-ai/Fundus_Bounding_Box/Cropped_4-YS50.svg]\n",
      "2025-06-17 09:23:26,591 - INFO - Computed metadata for: [/data/kb_766/EyeAI_working/deriva-ml/execution/4-YTWW/asset/eye-ai/Fundus_Bounding_Box/Cropped_4-YS50.svg].\n",
      "2025-06-17 09:23:26,592 - INFO - Computing checksums for file: [/data/kb_766/EyeAI_working/deriva-ml/execution/4-YTWW/asset/eye-ai/Fundus_Bounding_Box/Cropped_4-YS50.svg]. Please wait...\n",
      "2025-06-17 09:23:26,593 - INFO - Uploading file: [/data/kb_766/EyeAI_working/deriva-ml/execution/4-YTWW/asset/eye-ai/Fundus_Bounding_Box/Cropped_4-YS50.svg] to host https://www.eye-ai.org. Please wait...\n",
      "2025-06-17 09:23:26,718 - INFO - Processing: [/data/kb_766/EyeAI_working/deriva-ml/execution/4-YTWW/asset/eye-ai/Fundus_Bounding_Box/Cropped_4-YS52.svg]\n",
      "2025-06-17 09:23:26,719 - INFO - Computed metadata for: [/data/kb_766/EyeAI_working/deriva-ml/execution/4-YTWW/asset/eye-ai/Fundus_Bounding_Box/Cropped_4-YS52.svg].\n",
      "2025-06-17 09:23:26,720 - INFO - Computing checksums for file: [/data/kb_766/EyeAI_working/deriva-ml/execution/4-YTWW/asset/eye-ai/Fundus_Bounding_Box/Cropped_4-YS52.svg]. Please wait...\n",
      "2025-06-17 09:23:26,721 - INFO - Uploading file: [/data/kb_766/EyeAI_working/deriva-ml/execution/4-YTWW/asset/eye-ai/Fundus_Bounding_Box/Cropped_4-YS52.svg] to host https://www.eye-ai.org. Please wait...\n",
      "2025-06-17 09:23:26,800 - INFO - Processing: [/data/kb_766/EyeAI_working/deriva-ml/execution/4-YTWW/asset/eye-ai/Fundus_Bounding_Box/Cropped_4-YS54.svg]\n",
      "2025-06-17 09:23:26,802 - INFO - Computed metadata for: [/data/kb_766/EyeAI_working/deriva-ml/execution/4-YTWW/asset/eye-ai/Fundus_Bounding_Box/Cropped_4-YS54.svg].\n",
      "2025-06-17 09:23:26,802 - INFO - Computing checksums for file: [/data/kb_766/EyeAI_working/deriva-ml/execution/4-YTWW/asset/eye-ai/Fundus_Bounding_Box/Cropped_4-YS54.svg]. Please wait...\n",
      "2025-06-17 09:23:26,804 - INFO - Uploading file: [/data/kb_766/EyeAI_working/deriva-ml/execution/4-YTWW/asset/eye-ai/Fundus_Bounding_Box/Cropped_4-YS54.svg] to host https://www.eye-ai.org. Please wait...\n",
      "2025-06-17 09:23:26,889 - INFO - Processing: [/data/kb_766/EyeAI_working/deriva-ml/execution/4-YTWW/asset/eye-ai/Fundus_Bounding_Box/Cropped_4-YS56.svg]\n",
      "2025-06-17 09:23:26,890 - INFO - Computed metadata for: [/data/kb_766/EyeAI_working/deriva-ml/execution/4-YTWW/asset/eye-ai/Fundus_Bounding_Box/Cropped_4-YS56.svg].\n",
      "2025-06-17 09:23:26,890 - INFO - Computing checksums for file: [/data/kb_766/EyeAI_working/deriva-ml/execution/4-YTWW/asset/eye-ai/Fundus_Bounding_Box/Cropped_4-YS56.svg]. Please wait...\n",
      "2025-06-17 09:23:26,892 - INFO - Uploading file: [/data/kb_766/EyeAI_working/deriva-ml/execution/4-YTWW/asset/eye-ai/Fundus_Bounding_Box/Cropped_4-YS56.svg] to host https://www.eye-ai.org. Please wait...\n",
      "2025-06-17 09:23:26,975 - INFO - Processing: [/data/kb_766/EyeAI_working/deriva-ml/execution/4-YTWW/asset/eye-ai/Fundus_Bounding_Box/Cropped_4-YS58.svg]\n",
      "2025-06-17 09:23:26,976 - INFO - Computed metadata for: [/data/kb_766/EyeAI_working/deriva-ml/execution/4-YTWW/asset/eye-ai/Fundus_Bounding_Box/Cropped_4-YS58.svg].\n",
      "2025-06-17 09:23:26,976 - INFO - Computing checksums for file: [/data/kb_766/EyeAI_working/deriva-ml/execution/4-YTWW/asset/eye-ai/Fundus_Bounding_Box/Cropped_4-YS58.svg]. Please wait...\n",
      "2025-06-17 09:23:26,977 - INFO - Uploading file: [/data/kb_766/EyeAI_working/deriva-ml/execution/4-YTWW/asset/eye-ai/Fundus_Bounding_Box/Cropped_4-YS58.svg] to host https://www.eye-ai.org. Please wait...\n",
      "2025-06-17 09:23:27,085 - INFO - Processing: [/data/kb_766/EyeAI_working/deriva-ml/execution/4-YTWW/asset/eye-ai/Fundus_Bounding_Box/Cropped_4-YS5A.svg]\n",
      "2025-06-17 09:23:27,085 - INFO - Computed metadata for: [/data/kb_766/EyeAI_working/deriva-ml/execution/4-YTWW/asset/eye-ai/Fundus_Bounding_Box/Cropped_4-YS5A.svg].\n",
      "2025-06-17 09:23:27,086 - INFO - Computing checksums for file: [/data/kb_766/EyeAI_working/deriva-ml/execution/4-YTWW/asset/eye-ai/Fundus_Bounding_Box/Cropped_4-YS5A.svg]. Please wait...\n",
      "2025-06-17 09:23:27,087 - INFO - Uploading file: [/data/kb_766/EyeAI_working/deriva-ml/execution/4-YTWW/asset/eye-ai/Fundus_Bounding_Box/Cropped_4-YS5A.svg] to host https://www.eye-ai.org. Please wait...\n",
      "2025-06-17 09:23:27,172 - INFO - Processing: [/data/kb_766/EyeAI_working/deriva-ml/execution/4-YTWW/asset/eye-ai/Fundus_Bounding_Box/Cropped_4-YS5C.svg]\n",
      "2025-06-17 09:23:27,173 - INFO - Computed metadata for: [/data/kb_766/EyeAI_working/deriva-ml/execution/4-YTWW/asset/eye-ai/Fundus_Bounding_Box/Cropped_4-YS5C.svg].\n",
      "2025-06-17 09:23:27,173 - INFO - Computing checksums for file: [/data/kb_766/EyeAI_working/deriva-ml/execution/4-YTWW/asset/eye-ai/Fundus_Bounding_Box/Cropped_4-YS5C.svg]. Please wait...\n",
      "2025-06-17 09:23:27,174 - INFO - Uploading file: [/data/kb_766/EyeAI_working/deriva-ml/execution/4-YTWW/asset/eye-ai/Fundus_Bounding_Box/Cropped_4-YS5C.svg] to host https://www.eye-ai.org. Please wait...\n",
      "2025-06-17 09:23:27,258 - INFO - Processing: [/data/kb_766/EyeAI_working/deriva-ml/execution/4-YTWW/asset/eye-ai/Fundus_Bounding_Box/Cropped_4-YS5E.svg]\n",
      "2025-06-17 09:23:27,259 - INFO - Computed metadata for: [/data/kb_766/EyeAI_working/deriva-ml/execution/4-YTWW/asset/eye-ai/Fundus_Bounding_Box/Cropped_4-YS5E.svg].\n",
      "2025-06-17 09:23:27,260 - INFO - Computing checksums for file: [/data/kb_766/EyeAI_working/deriva-ml/execution/4-YTWW/asset/eye-ai/Fundus_Bounding_Box/Cropped_4-YS5E.svg]. Please wait...\n",
      "2025-06-17 09:23:27,261 - INFO - Uploading file: [/data/kb_766/EyeAI_working/deriva-ml/execution/4-YTWW/asset/eye-ai/Fundus_Bounding_Box/Cropped_4-YS5E.svg] to host https://www.eye-ai.org. Please wait...\n",
      "2025-06-17 09:23:27,340 - INFO - Processing: [/data/kb_766/EyeAI_working/deriva-ml/execution/4-YTWW/asset/eye-ai/Fundus_Bounding_Box/Cropped_4-YS5G.svg]\n",
      "2025-06-17 09:23:27,341 - INFO - Computed metadata for: [/data/kb_766/EyeAI_working/deriva-ml/execution/4-YTWW/asset/eye-ai/Fundus_Bounding_Box/Cropped_4-YS5G.svg].\n",
      "2025-06-17 09:23:27,342 - INFO - Computing checksums for file: [/data/kb_766/EyeAI_working/deriva-ml/execution/4-YTWW/asset/eye-ai/Fundus_Bounding_Box/Cropped_4-YS5G.svg]. Please wait...\n",
      "2025-06-17 09:23:27,343 - INFO - Uploading file: [/data/kb_766/EyeAI_working/deriva-ml/execution/4-YTWW/asset/eye-ai/Fundus_Bounding_Box/Cropped_4-YS5G.svg] to host https://www.eye-ai.org. Please wait...\n",
      "2025-06-17 09:23:27,430 - INFO - Processing: [/data/kb_766/EyeAI_working/deriva-ml/execution/4-YTWW/asset/eye-ai/Fundus_Bounding_Box/Cropped_4-YS5J.svg]\n",
      "2025-06-17 09:23:27,431 - INFO - Computed metadata for: [/data/kb_766/EyeAI_working/deriva-ml/execution/4-YTWW/asset/eye-ai/Fundus_Bounding_Box/Cropped_4-YS5J.svg].\n",
      "2025-06-17 09:23:27,431 - INFO - Computing checksums for file: [/data/kb_766/EyeAI_working/deriva-ml/execution/4-YTWW/asset/eye-ai/Fundus_Bounding_Box/Cropped_4-YS5J.svg]. Please wait...\n",
      "2025-06-17 09:23:27,432 - INFO - Uploading file: [/data/kb_766/EyeAI_working/deriva-ml/execution/4-YTWW/asset/eye-ai/Fundus_Bounding_Box/Cropped_4-YS5J.svg] to host https://www.eye-ai.org. Please wait...\n",
      "2025-06-17 09:23:27,534 - INFO - Processing: [/data/kb_766/EyeAI_working/deriva-ml/execution/4-YTWW/asset/eye-ai/Fundus_Bounding_Box/Cropped_4-YS5M.svg]\n",
      "2025-06-17 09:23:27,535 - INFO - Computed metadata for: [/data/kb_766/EyeAI_working/deriva-ml/execution/4-YTWW/asset/eye-ai/Fundus_Bounding_Box/Cropped_4-YS5M.svg].\n",
      "2025-06-17 09:23:27,536 - INFO - Computing checksums for file: [/data/kb_766/EyeAI_working/deriva-ml/execution/4-YTWW/asset/eye-ai/Fundus_Bounding_Box/Cropped_4-YS5M.svg]. Please wait...\n",
      "2025-06-17 09:23:27,536 - INFO - Uploading file: [/data/kb_766/EyeAI_working/deriva-ml/execution/4-YTWW/asset/eye-ai/Fundus_Bounding_Box/Cropped_4-YS5M.svg] to host https://www.eye-ai.org. Please wait...\n",
      "2025-06-17 09:23:27,648 - INFO - Processing: [/data/kb_766/EyeAI_working/deriva-ml/execution/4-YTWW/asset/eye-ai/Fundus_Bounding_Box/Cropped_4-YS5R.svg]\n",
      "2025-06-17 09:23:27,649 - INFO - Computed metadata for: [/data/kb_766/EyeAI_working/deriva-ml/execution/4-YTWW/asset/eye-ai/Fundus_Bounding_Box/Cropped_4-YS5R.svg].\n",
      "2025-06-17 09:23:27,649 - INFO - Computing checksums for file: [/data/kb_766/EyeAI_working/deriva-ml/execution/4-YTWW/asset/eye-ai/Fundus_Bounding_Box/Cropped_4-YS5R.svg]. Please wait...\n",
      "2025-06-17 09:23:27,651 - INFO - Uploading file: [/data/kb_766/EyeAI_working/deriva-ml/execution/4-YTWW/asset/eye-ai/Fundus_Bounding_Box/Cropped_4-YS5R.svg] to host https://www.eye-ai.org. Please wait...\n",
      "2025-06-17 09:23:27,733 - INFO - Processing: [/data/kb_766/EyeAI_working/deriva-ml/execution/4-YTWW/asset/eye-ai/Fundus_Bounding_Box/Cropped_4-YS5T.svg]\n",
      "2025-06-17 09:23:27,733 - INFO - Computed metadata for: [/data/kb_766/EyeAI_working/deriva-ml/execution/4-YTWW/asset/eye-ai/Fundus_Bounding_Box/Cropped_4-YS5T.svg].\n",
      "2025-06-17 09:23:27,734 - INFO - Computing checksums for file: [/data/kb_766/EyeAI_working/deriva-ml/execution/4-YTWW/asset/eye-ai/Fundus_Bounding_Box/Cropped_4-YS5T.svg]. Please wait...\n",
      "2025-06-17 09:23:27,735 - INFO - Uploading file: [/data/kb_766/EyeAI_working/deriva-ml/execution/4-YTWW/asset/eye-ai/Fundus_Bounding_Box/Cropped_4-YS5T.svg] to host https://www.eye-ai.org. Please wait...\n",
      "2025-06-17 09:23:27,827 - INFO - File upload processing completed: 216 files were uploaded successfully, 0 files failed to upload due to errors, 0 files were skipped because they did not satisfy the matching criteria of the configuration.\n",
      "2025-06-17 09:23:28,299 - INFO - Updating features...\n",
      "2025-06-17 09:23:28,555 - INFO - Upload assets complete\n",
      "2025-06-17 09:23:28,594 - INFO - Successfully end the execution.\n"
     ]
    },
    {
     "data": {
      "text/plain": [
       "{'deriva-ml/Execution_Metadata': [AssetFilePath('/data/kb_766/EyeAI_working/deriva-ml/execution/4-YTWW/asset/deriva-ml/Execution_Metadata/configuration.json'),\n",
       "  AssetFilePath('/data/kb_766/EyeAI_working/deriva-ml/execution/4-YTWW/asset/deriva-ml/Execution_Metadata/environment_snapshot_20250617_090049.txt')],\n",
       " 'eye-ai/Fundus_Bounding_Box': [AssetFilePath('/data/kb_766/EyeAI_working/deriva-ml/execution/4-YTWW/asset/eye-ai/Fundus_Bounding_Box/Cropped_4-YRP6.svg'),\n",
       "  AssetFilePath('/data/kb_766/EyeAI_working/deriva-ml/execution/4-YTWW/asset/eye-ai/Fundus_Bounding_Box/Cropped_4-YRP8.svg'),\n",
       "  AssetFilePath('/data/kb_766/EyeAI_working/deriva-ml/execution/4-YTWW/asset/eye-ai/Fundus_Bounding_Box/Cropped_4-YRPA.svg'),\n",
       "  AssetFilePath('/data/kb_766/EyeAI_working/deriva-ml/execution/4-YTWW/asset/eye-ai/Fundus_Bounding_Box/Cropped_4-YRPE.svg'),\n",
       "  AssetFilePath('/data/kb_766/EyeAI_working/deriva-ml/execution/4-YTWW/asset/eye-ai/Fundus_Bounding_Box/Cropped_4-YRPG.svg'),\n",
       "  AssetFilePath('/data/kb_766/EyeAI_working/deriva-ml/execution/4-YTWW/asset/eye-ai/Fundus_Bounding_Box/Cropped_4-YRPJ.svg'),\n",
       "  AssetFilePath('/data/kb_766/EyeAI_working/deriva-ml/execution/4-YTWW/asset/eye-ai/Fundus_Bounding_Box/Cropped_4-YRPM.svg'),\n",
       "  AssetFilePath('/data/kb_766/EyeAI_working/deriva-ml/execution/4-YTWW/asset/eye-ai/Fundus_Bounding_Box/Cropped_4-YRPP.svg'),\n",
       "  AssetFilePath('/data/kb_766/EyeAI_working/deriva-ml/execution/4-YTWW/asset/eye-ai/Fundus_Bounding_Box/Cropped_4-YRPR.svg'),\n",
       "  AssetFilePath('/data/kb_766/EyeAI_working/deriva-ml/execution/4-YTWW/asset/eye-ai/Fundus_Bounding_Box/Cropped_4-YRPT.svg'),\n",
       "  AssetFilePath('/data/kb_766/EyeAI_working/deriva-ml/execution/4-YTWW/asset/eye-ai/Fundus_Bounding_Box/Cropped_4-YRPW.svg'),\n",
       "  AssetFilePath('/data/kb_766/EyeAI_working/deriva-ml/execution/4-YTWW/asset/eye-ai/Fundus_Bounding_Box/Cropped_4-YRPY.svg'),\n",
       "  AssetFilePath('/data/kb_766/EyeAI_working/deriva-ml/execution/4-YTWW/asset/eye-ai/Fundus_Bounding_Box/Cropped_4-YRQ0.svg'),\n",
       "  AssetFilePath('/data/kb_766/EyeAI_working/deriva-ml/execution/4-YTWW/asset/eye-ai/Fundus_Bounding_Box/Cropped_4-YRQ2.svg'),\n",
       "  AssetFilePath('/data/kb_766/EyeAI_working/deriva-ml/execution/4-YTWW/asset/eye-ai/Fundus_Bounding_Box/Cropped_4-YRQ4.svg'),\n",
       "  AssetFilePath('/data/kb_766/EyeAI_working/deriva-ml/execution/4-YTWW/asset/eye-ai/Fundus_Bounding_Box/Cropped_4-YRQ6.svg'),\n",
       "  AssetFilePath('/data/kb_766/EyeAI_working/deriva-ml/execution/4-YTWW/asset/eye-ai/Fundus_Bounding_Box/Cropped_4-YRQ8.svg'),\n",
       "  AssetFilePath('/data/kb_766/EyeAI_working/deriva-ml/execution/4-YTWW/asset/eye-ai/Fundus_Bounding_Box/Cropped_4-YRQA.svg'),\n",
       "  AssetFilePath('/data/kb_766/EyeAI_working/deriva-ml/execution/4-YTWW/asset/eye-ai/Fundus_Bounding_Box/Cropped_4-YRQC.svg'),\n",
       "  AssetFilePath('/data/kb_766/EyeAI_working/deriva-ml/execution/4-YTWW/asset/eye-ai/Fundus_Bounding_Box/Cropped_4-YRQE.svg'),\n",
       "  AssetFilePath('/data/kb_766/EyeAI_working/deriva-ml/execution/4-YTWW/asset/eye-ai/Fundus_Bounding_Box/Cropped_4-YRQG.svg'),\n",
       "  AssetFilePath('/data/kb_766/EyeAI_working/deriva-ml/execution/4-YTWW/asset/eye-ai/Fundus_Bounding_Box/Cropped_4-YRQJ.svg'),\n",
       "  AssetFilePath('/data/kb_766/EyeAI_working/deriva-ml/execution/4-YTWW/asset/eye-ai/Fundus_Bounding_Box/Cropped_4-YRQM.svg'),\n",
       "  AssetFilePath('/data/kb_766/EyeAI_working/deriva-ml/execution/4-YTWW/asset/eye-ai/Fundus_Bounding_Box/Cropped_4-YRQP.svg'),\n",
       "  AssetFilePath('/data/kb_766/EyeAI_working/deriva-ml/execution/4-YTWW/asset/eye-ai/Fundus_Bounding_Box/Cropped_4-YRQR.svg'),\n",
       "  AssetFilePath('/data/kb_766/EyeAI_working/deriva-ml/execution/4-YTWW/asset/eye-ai/Fundus_Bounding_Box/Cropped_4-YRQT.svg'),\n",
       "  AssetFilePath('/data/kb_766/EyeAI_working/deriva-ml/execution/4-YTWW/asset/eye-ai/Fundus_Bounding_Box/Cropped_4-YRQW.svg'),\n",
       "  AssetFilePath('/data/kb_766/EyeAI_working/deriva-ml/execution/4-YTWW/asset/eye-ai/Fundus_Bounding_Box/Cropped_4-YRR0.svg'),\n",
       "  AssetFilePath('/data/kb_766/EyeAI_working/deriva-ml/execution/4-YTWW/asset/eye-ai/Fundus_Bounding_Box/Cropped_4-YRR2.svg'),\n",
       "  AssetFilePath('/data/kb_766/EyeAI_working/deriva-ml/execution/4-YTWW/asset/eye-ai/Fundus_Bounding_Box/Cropped_4-YRR6.svg'),\n",
       "  AssetFilePath('/data/kb_766/EyeAI_working/deriva-ml/execution/4-YTWW/asset/eye-ai/Fundus_Bounding_Box/Cropped_4-YRR8.svg'),\n",
       "  AssetFilePath('/data/kb_766/EyeAI_working/deriva-ml/execution/4-YTWW/asset/eye-ai/Fundus_Bounding_Box/Cropped_4-YRRA.svg'),\n",
       "  AssetFilePath('/data/kb_766/EyeAI_working/deriva-ml/execution/4-YTWW/asset/eye-ai/Fundus_Bounding_Box/Cropped_4-YRRC.svg'),\n",
       "  AssetFilePath('/data/kb_766/EyeAI_working/deriva-ml/execution/4-YTWW/asset/eye-ai/Fundus_Bounding_Box/Cropped_4-YRRJ.svg'),\n",
       "  AssetFilePath('/data/kb_766/EyeAI_working/deriva-ml/execution/4-YTWW/asset/eye-ai/Fundus_Bounding_Box/Cropped_4-YRRM.svg'),\n",
       "  AssetFilePath('/data/kb_766/EyeAI_working/deriva-ml/execution/4-YTWW/asset/eye-ai/Fundus_Bounding_Box/Cropped_4-YRRR.svg'),\n",
       "  AssetFilePath('/data/kb_766/EyeAI_working/deriva-ml/execution/4-YTWW/asset/eye-ai/Fundus_Bounding_Box/Cropped_4-YRRT.svg'),\n",
       "  AssetFilePath('/data/kb_766/EyeAI_working/deriva-ml/execution/4-YTWW/asset/eye-ai/Fundus_Bounding_Box/Cropped_4-YRRW.svg'),\n",
       "  AssetFilePath('/data/kb_766/EyeAI_working/deriva-ml/execution/4-YTWW/asset/eye-ai/Fundus_Bounding_Box/Cropped_4-YRRY.svg'),\n",
       "  AssetFilePath('/data/kb_766/EyeAI_working/deriva-ml/execution/4-YTWW/asset/eye-ai/Fundus_Bounding_Box/Cropped_4-YRS0.svg'),\n",
       "  AssetFilePath('/data/kb_766/EyeAI_working/deriva-ml/execution/4-YTWW/asset/eye-ai/Fundus_Bounding_Box/Cropped_4-YRS2.svg'),\n",
       "  AssetFilePath('/data/kb_766/EyeAI_working/deriva-ml/execution/4-YTWW/asset/eye-ai/Fundus_Bounding_Box/Cropped_4-YRS4.svg'),\n",
       "  AssetFilePath('/data/kb_766/EyeAI_working/deriva-ml/execution/4-YTWW/asset/eye-ai/Fundus_Bounding_Box/Cropped_4-YRS6.svg'),\n",
       "  AssetFilePath('/data/kb_766/EyeAI_working/deriva-ml/execution/4-YTWW/asset/eye-ai/Fundus_Bounding_Box/Cropped_4-YRS8.svg'),\n",
       "  AssetFilePath('/data/kb_766/EyeAI_working/deriva-ml/execution/4-YTWW/asset/eye-ai/Fundus_Bounding_Box/Cropped_4-YRSC.svg'),\n",
       "  AssetFilePath('/data/kb_766/EyeAI_working/deriva-ml/execution/4-YTWW/asset/eye-ai/Fundus_Bounding_Box/Cropped_4-YRSG.svg'),\n",
       "  AssetFilePath('/data/kb_766/EyeAI_working/deriva-ml/execution/4-YTWW/asset/eye-ai/Fundus_Bounding_Box/Cropped_4-YRSJ.svg'),\n",
       "  AssetFilePath('/data/kb_766/EyeAI_working/deriva-ml/execution/4-YTWW/asset/eye-ai/Fundus_Bounding_Box/Cropped_4-YRSM.svg'),\n",
       "  AssetFilePath('/data/kb_766/EyeAI_working/deriva-ml/execution/4-YTWW/asset/eye-ai/Fundus_Bounding_Box/Cropped_4-YRSP.svg'),\n",
       "  AssetFilePath('/data/kb_766/EyeAI_working/deriva-ml/execution/4-YTWW/asset/eye-ai/Fundus_Bounding_Box/Cropped_4-YRSR.svg'),\n",
       "  AssetFilePath('/data/kb_766/EyeAI_working/deriva-ml/execution/4-YTWW/asset/eye-ai/Fundus_Bounding_Box/Cropped_4-YRST.svg'),\n",
       "  AssetFilePath('/data/kb_766/EyeAI_working/deriva-ml/execution/4-YTWW/asset/eye-ai/Fundus_Bounding_Box/Cropped_4-YRSW.svg'),\n",
       "  AssetFilePath('/data/kb_766/EyeAI_working/deriva-ml/execution/4-YTWW/asset/eye-ai/Fundus_Bounding_Box/Cropped_4-YRT0.svg'),\n",
       "  AssetFilePath('/data/kb_766/EyeAI_working/deriva-ml/execution/4-YTWW/asset/eye-ai/Fundus_Bounding_Box/Cropped_4-YRT2.svg'),\n",
       "  AssetFilePath('/data/kb_766/EyeAI_working/deriva-ml/execution/4-YTWW/asset/eye-ai/Fundus_Bounding_Box/Cropped_4-YRT4.svg'),\n",
       "  AssetFilePath('/data/kb_766/EyeAI_working/deriva-ml/execution/4-YTWW/asset/eye-ai/Fundus_Bounding_Box/Cropped_4-YRT6.svg'),\n",
       "  AssetFilePath('/data/kb_766/EyeAI_working/deriva-ml/execution/4-YTWW/asset/eye-ai/Fundus_Bounding_Box/Cropped_4-YRT8.svg'),\n",
       "  AssetFilePath('/data/kb_766/EyeAI_working/deriva-ml/execution/4-YTWW/asset/eye-ai/Fundus_Bounding_Box/Cropped_4-YRTA.svg'),\n",
       "  AssetFilePath('/data/kb_766/EyeAI_working/deriva-ml/execution/4-YTWW/asset/eye-ai/Fundus_Bounding_Box/Cropped_4-YRTC.svg'),\n",
       "  AssetFilePath('/data/kb_766/EyeAI_working/deriva-ml/execution/4-YTWW/asset/eye-ai/Fundus_Bounding_Box/Cropped_4-YRTE.svg'),\n",
       "  AssetFilePath('/data/kb_766/EyeAI_working/deriva-ml/execution/4-YTWW/asset/eye-ai/Fundus_Bounding_Box/Cropped_4-YRTG.svg'),\n",
       "  AssetFilePath('/data/kb_766/EyeAI_working/deriva-ml/execution/4-YTWW/asset/eye-ai/Fundus_Bounding_Box/Cropped_4-YRTJ.svg'),\n",
       "  AssetFilePath('/data/kb_766/EyeAI_working/deriva-ml/execution/4-YTWW/asset/eye-ai/Fundus_Bounding_Box/Cropped_4-YRTM.svg'),\n",
       "  AssetFilePath('/data/kb_766/EyeAI_working/deriva-ml/execution/4-YTWW/asset/eye-ai/Fundus_Bounding_Box/Cropped_4-YRTR.svg'),\n",
       "  AssetFilePath('/data/kb_766/EyeAI_working/deriva-ml/execution/4-YTWW/asset/eye-ai/Fundus_Bounding_Box/Cropped_4-YRTT.svg'),\n",
       "  AssetFilePath('/data/kb_766/EyeAI_working/deriva-ml/execution/4-YTWW/asset/eye-ai/Fundus_Bounding_Box/Cropped_4-YRTW.svg'),\n",
       "  AssetFilePath('/data/kb_766/EyeAI_working/deriva-ml/execution/4-YTWW/asset/eye-ai/Fundus_Bounding_Box/Cropped_4-YRTY.svg'),\n",
       "  AssetFilePath('/data/kb_766/EyeAI_working/deriva-ml/execution/4-YTWW/asset/eye-ai/Fundus_Bounding_Box/Cropped_4-YRV2.svg'),\n",
       "  AssetFilePath('/data/kb_766/EyeAI_working/deriva-ml/execution/4-YTWW/asset/eye-ai/Fundus_Bounding_Box/Cropped_4-YRV4.svg'),\n",
       "  AssetFilePath('/data/kb_766/EyeAI_working/deriva-ml/execution/4-YTWW/asset/eye-ai/Fundus_Bounding_Box/Cropped_4-YRV6.svg'),\n",
       "  AssetFilePath('/data/kb_766/EyeAI_working/deriva-ml/execution/4-YTWW/asset/eye-ai/Fundus_Bounding_Box/Cropped_4-YRV8.svg'),\n",
       "  AssetFilePath('/data/kb_766/EyeAI_working/deriva-ml/execution/4-YTWW/asset/eye-ai/Fundus_Bounding_Box/Cropped_4-YRVE.svg'),\n",
       "  AssetFilePath('/data/kb_766/EyeAI_working/deriva-ml/execution/4-YTWW/asset/eye-ai/Fundus_Bounding_Box/Cropped_4-YRVG.svg'),\n",
       "  AssetFilePath('/data/kb_766/EyeAI_working/deriva-ml/execution/4-YTWW/asset/eye-ai/Fundus_Bounding_Box/Cropped_4-YRVJ.svg'),\n",
       "  AssetFilePath('/data/kb_766/EyeAI_working/deriva-ml/execution/4-YTWW/asset/eye-ai/Fundus_Bounding_Box/Cropped_4-YRVR.svg'),\n",
       "  AssetFilePath('/data/kb_766/EyeAI_working/deriva-ml/execution/4-YTWW/asset/eye-ai/Fundus_Bounding_Box/Cropped_4-YRVT.svg'),\n",
       "  AssetFilePath('/data/kb_766/EyeAI_working/deriva-ml/execution/4-YTWW/asset/eye-ai/Fundus_Bounding_Box/Cropped_4-YRVW.svg'),\n",
       "  AssetFilePath('/data/kb_766/EyeAI_working/deriva-ml/execution/4-YTWW/asset/eye-ai/Fundus_Bounding_Box/Cropped_4-YRVY.svg'),\n",
       "  AssetFilePath('/data/kb_766/EyeAI_working/deriva-ml/execution/4-YTWW/asset/eye-ai/Fundus_Bounding_Box/Cropped_4-YRW0.svg'),\n",
       "  AssetFilePath('/data/kb_766/EyeAI_working/deriva-ml/execution/4-YTWW/asset/eye-ai/Fundus_Bounding_Box/Cropped_4-YRW4.svg'),\n",
       "  AssetFilePath('/data/kb_766/EyeAI_working/deriva-ml/execution/4-YTWW/asset/eye-ai/Fundus_Bounding_Box/Cropped_4-YRW6.svg'),\n",
       "  AssetFilePath('/data/kb_766/EyeAI_working/deriva-ml/execution/4-YTWW/asset/eye-ai/Fundus_Bounding_Box/Cropped_4-YRW8.svg'),\n",
       "  AssetFilePath('/data/kb_766/EyeAI_working/deriva-ml/execution/4-YTWW/asset/eye-ai/Fundus_Bounding_Box/Cropped_4-YRWA.svg'),\n",
       "  AssetFilePath('/data/kb_766/EyeAI_working/deriva-ml/execution/4-YTWW/asset/eye-ai/Fundus_Bounding_Box/Cropped_4-YRWC.svg'),\n",
       "  AssetFilePath('/data/kb_766/EyeAI_working/deriva-ml/execution/4-YTWW/asset/eye-ai/Fundus_Bounding_Box/Cropped_4-YRWE.svg'),\n",
       "  AssetFilePath('/data/kb_766/EyeAI_working/deriva-ml/execution/4-YTWW/asset/eye-ai/Fundus_Bounding_Box/Cropped_4-YRWG.svg'),\n",
       "  AssetFilePath('/data/kb_766/EyeAI_working/deriva-ml/execution/4-YTWW/asset/eye-ai/Fundus_Bounding_Box/Cropped_4-YRWJ.svg'),\n",
       "  AssetFilePath('/data/kb_766/EyeAI_working/deriva-ml/execution/4-YTWW/asset/eye-ai/Fundus_Bounding_Box/Cropped_4-YRWR.svg'),\n",
       "  AssetFilePath('/data/kb_766/EyeAI_working/deriva-ml/execution/4-YTWW/asset/eye-ai/Fundus_Bounding_Box/Cropped_4-YRWT.svg'),\n",
       "  AssetFilePath('/data/kb_766/EyeAI_working/deriva-ml/execution/4-YTWW/asset/eye-ai/Fundus_Bounding_Box/Cropped_4-YRWW.svg'),\n",
       "  AssetFilePath('/data/kb_766/EyeAI_working/deriva-ml/execution/4-YTWW/asset/eye-ai/Fundus_Bounding_Box/Cropped_4-YRWY.svg'),\n",
       "  AssetFilePath('/data/kb_766/EyeAI_working/deriva-ml/execution/4-YTWW/asset/eye-ai/Fundus_Bounding_Box/Cropped_4-YRX0.svg'),\n",
       "  AssetFilePath('/data/kb_766/EyeAI_working/deriva-ml/execution/4-YTWW/asset/eye-ai/Fundus_Bounding_Box/Cropped_4-YRX2.svg'),\n",
       "  AssetFilePath('/data/kb_766/EyeAI_working/deriva-ml/execution/4-YTWW/asset/eye-ai/Fundus_Bounding_Box/Cropped_4-YRX4.svg'),\n",
       "  AssetFilePath('/data/kb_766/EyeAI_working/deriva-ml/execution/4-YTWW/asset/eye-ai/Fundus_Bounding_Box/Cropped_4-YRX6.svg'),\n",
       "  AssetFilePath('/data/kb_766/EyeAI_working/deriva-ml/execution/4-YTWW/asset/eye-ai/Fundus_Bounding_Box/Cropped_4-YRXA.svg'),\n",
       "  AssetFilePath('/data/kb_766/EyeAI_working/deriva-ml/execution/4-YTWW/asset/eye-ai/Fundus_Bounding_Box/Cropped_4-YRXC.svg'),\n",
       "  AssetFilePath('/data/kb_766/EyeAI_working/deriva-ml/execution/4-YTWW/asset/eye-ai/Fundus_Bounding_Box/Cropped_4-YRXE.svg'),\n",
       "  AssetFilePath('/data/kb_766/EyeAI_working/deriva-ml/execution/4-YTWW/asset/eye-ai/Fundus_Bounding_Box/Cropped_4-YRXG.svg'),\n",
       "  AssetFilePath('/data/kb_766/EyeAI_working/deriva-ml/execution/4-YTWW/asset/eye-ai/Fundus_Bounding_Box/Cropped_4-YRXJ.svg'),\n",
       "  AssetFilePath('/data/kb_766/EyeAI_working/deriva-ml/execution/4-YTWW/asset/eye-ai/Fundus_Bounding_Box/Cropped_4-YRXM.svg'),\n",
       "  AssetFilePath('/data/kb_766/EyeAI_working/deriva-ml/execution/4-YTWW/asset/eye-ai/Fundus_Bounding_Box/Cropped_4-YRXP.svg'),\n",
       "  AssetFilePath('/data/kb_766/EyeAI_working/deriva-ml/execution/4-YTWW/asset/eye-ai/Fundus_Bounding_Box/Cropped_4-YRXT.svg'),\n",
       "  AssetFilePath('/data/kb_766/EyeAI_working/deriva-ml/execution/4-YTWW/asset/eye-ai/Fundus_Bounding_Box/Cropped_4-YRXW.svg'),\n",
       "  AssetFilePath('/data/kb_766/EyeAI_working/deriva-ml/execution/4-YTWW/asset/eye-ai/Fundus_Bounding_Box/Cropped_4-YRXY.svg'),\n",
       "  AssetFilePath('/data/kb_766/EyeAI_working/deriva-ml/execution/4-YTWW/asset/eye-ai/Fundus_Bounding_Box/Cropped_4-YRY2.svg'),\n",
       "  AssetFilePath('/data/kb_766/EyeAI_working/deriva-ml/execution/4-YTWW/asset/eye-ai/Fundus_Bounding_Box/Cropped_4-YRY4.svg'),\n",
       "  AssetFilePath('/data/kb_766/EyeAI_working/deriva-ml/execution/4-YTWW/asset/eye-ai/Fundus_Bounding_Box/Cropped_4-YRY8.svg'),\n",
       "  AssetFilePath('/data/kb_766/EyeAI_working/deriva-ml/execution/4-YTWW/asset/eye-ai/Fundus_Bounding_Box/Cropped_4-YRYA.svg'),\n",
       "  AssetFilePath('/data/kb_766/EyeAI_working/deriva-ml/execution/4-YTWW/asset/eye-ai/Fundus_Bounding_Box/Cropped_4-YRYC.svg'),\n",
       "  AssetFilePath('/data/kb_766/EyeAI_working/deriva-ml/execution/4-YTWW/asset/eye-ai/Fundus_Bounding_Box/Cropped_4-YRYE.svg'),\n",
       "  AssetFilePath('/data/kb_766/EyeAI_working/deriva-ml/execution/4-YTWW/asset/eye-ai/Fundus_Bounding_Box/Cropped_4-YRYG.svg'),\n",
       "  AssetFilePath('/data/kb_766/EyeAI_working/deriva-ml/execution/4-YTWW/asset/eye-ai/Fundus_Bounding_Box/Cropped_4-YRYJ.svg'),\n",
       "  AssetFilePath('/data/kb_766/EyeAI_working/deriva-ml/execution/4-YTWW/asset/eye-ai/Fundus_Bounding_Box/Cropped_4-YRYM.svg'),\n",
       "  AssetFilePath('/data/kb_766/EyeAI_working/deriva-ml/execution/4-YTWW/asset/eye-ai/Fundus_Bounding_Box/Cropped_4-YRYP.svg'),\n",
       "  AssetFilePath('/data/kb_766/EyeAI_working/deriva-ml/execution/4-YTWW/asset/eye-ai/Fundus_Bounding_Box/Cropped_4-YRYR.svg'),\n",
       "  AssetFilePath('/data/kb_766/EyeAI_working/deriva-ml/execution/4-YTWW/asset/eye-ai/Fundus_Bounding_Box/Cropped_4-YRYT.svg'),\n",
       "  AssetFilePath('/data/kb_766/EyeAI_working/deriva-ml/execution/4-YTWW/asset/eye-ai/Fundus_Bounding_Box/Cropped_4-YRYW.svg'),\n",
       "  AssetFilePath('/data/kb_766/EyeAI_working/deriva-ml/execution/4-YTWW/asset/eye-ai/Fundus_Bounding_Box/Cropped_4-YRYY.svg'),\n",
       "  AssetFilePath('/data/kb_766/EyeAI_working/deriva-ml/execution/4-YTWW/asset/eye-ai/Fundus_Bounding_Box/Cropped_4-YRZ4.svg'),\n",
       "  AssetFilePath('/data/kb_766/EyeAI_working/deriva-ml/execution/4-YTWW/asset/eye-ai/Fundus_Bounding_Box/Cropped_4-YRZ6.svg'),\n",
       "  AssetFilePath('/data/kb_766/EyeAI_working/deriva-ml/execution/4-YTWW/asset/eye-ai/Fundus_Bounding_Box/Cropped_4-YRZ8.svg'),\n",
       "  AssetFilePath('/data/kb_766/EyeAI_working/deriva-ml/execution/4-YTWW/asset/eye-ai/Fundus_Bounding_Box/Cropped_4-YRZA.svg'),\n",
       "  AssetFilePath('/data/kb_766/EyeAI_working/deriva-ml/execution/4-YTWW/asset/eye-ai/Fundus_Bounding_Box/Cropped_4-YRZC.svg'),\n",
       "  AssetFilePath('/data/kb_766/EyeAI_working/deriva-ml/execution/4-YTWW/asset/eye-ai/Fundus_Bounding_Box/Cropped_4-YRZE.svg'),\n",
       "  AssetFilePath('/data/kb_766/EyeAI_working/deriva-ml/execution/4-YTWW/asset/eye-ai/Fundus_Bounding_Box/Cropped_4-YRZJ.svg'),\n",
       "  AssetFilePath('/data/kb_766/EyeAI_working/deriva-ml/execution/4-YTWW/asset/eye-ai/Fundus_Bounding_Box/Cropped_4-YRZM.svg'),\n",
       "  AssetFilePath('/data/kb_766/EyeAI_working/deriva-ml/execution/4-YTWW/asset/eye-ai/Fundus_Bounding_Box/Cropped_4-YRZP.svg'),\n",
       "  AssetFilePath('/data/kb_766/EyeAI_working/deriva-ml/execution/4-YTWW/asset/eye-ai/Fundus_Bounding_Box/Cropped_4-YRZT.svg'),\n",
       "  AssetFilePath('/data/kb_766/EyeAI_working/deriva-ml/execution/4-YTWW/asset/eye-ai/Fundus_Bounding_Box/Cropped_4-YRZW.svg'),\n",
       "  AssetFilePath('/data/kb_766/EyeAI_working/deriva-ml/execution/4-YTWW/asset/eye-ai/Fundus_Bounding_Box/Cropped_4-YRZY.svg'),\n",
       "  AssetFilePath('/data/kb_766/EyeAI_working/deriva-ml/execution/4-YTWW/asset/eye-ai/Fundus_Bounding_Box/Cropped_4-YS00.svg'),\n",
       "  AssetFilePath('/data/kb_766/EyeAI_working/deriva-ml/execution/4-YTWW/asset/eye-ai/Fundus_Bounding_Box/Cropped_4-YS04.svg'),\n",
       "  AssetFilePath('/data/kb_766/EyeAI_working/deriva-ml/execution/4-YTWW/asset/eye-ai/Fundus_Bounding_Box/Cropped_4-YS06.svg'),\n",
       "  AssetFilePath('/data/kb_766/EyeAI_working/deriva-ml/execution/4-YTWW/asset/eye-ai/Fundus_Bounding_Box/Cropped_4-YS08.svg'),\n",
       "  AssetFilePath('/data/kb_766/EyeAI_working/deriva-ml/execution/4-YTWW/asset/eye-ai/Fundus_Bounding_Box/Cropped_4-YS0A.svg'),\n",
       "  AssetFilePath('/data/kb_766/EyeAI_working/deriva-ml/execution/4-YTWW/asset/eye-ai/Fundus_Bounding_Box/Cropped_4-YS0C.svg'),\n",
       "  AssetFilePath('/data/kb_766/EyeAI_working/deriva-ml/execution/4-YTWW/asset/eye-ai/Fundus_Bounding_Box/Cropped_4-YS0E.svg'),\n",
       "  AssetFilePath('/data/kb_766/EyeAI_working/deriva-ml/execution/4-YTWW/asset/eye-ai/Fundus_Bounding_Box/Cropped_4-YS0G.svg'),\n",
       "  AssetFilePath('/data/kb_766/EyeAI_working/deriva-ml/execution/4-YTWW/asset/eye-ai/Fundus_Bounding_Box/Cropped_4-YS0J.svg'),\n",
       "  AssetFilePath('/data/kb_766/EyeAI_working/deriva-ml/execution/4-YTWW/asset/eye-ai/Fundus_Bounding_Box/Cropped_4-YS0M.svg'),\n",
       "  AssetFilePath('/data/kb_766/EyeAI_working/deriva-ml/execution/4-YTWW/asset/eye-ai/Fundus_Bounding_Box/Cropped_4-YS0R.svg'),\n",
       "  AssetFilePath('/data/kb_766/EyeAI_working/deriva-ml/execution/4-YTWW/asset/eye-ai/Fundus_Bounding_Box/Cropped_4-YS0T.svg'),\n",
       "  AssetFilePath('/data/kb_766/EyeAI_working/deriva-ml/execution/4-YTWW/asset/eye-ai/Fundus_Bounding_Box/Cropped_4-YS0W.svg'),\n",
       "  AssetFilePath('/data/kb_766/EyeAI_working/deriva-ml/execution/4-YTWW/asset/eye-ai/Fundus_Bounding_Box/Cropped_4-YS0Y.svg'),\n",
       "  AssetFilePath('/data/kb_766/EyeAI_working/deriva-ml/execution/4-YTWW/asset/eye-ai/Fundus_Bounding_Box/Cropped_4-YS10.svg'),\n",
       "  AssetFilePath('/data/kb_766/EyeAI_working/deriva-ml/execution/4-YTWW/asset/eye-ai/Fundus_Bounding_Box/Cropped_4-YS12.svg'),\n",
       "  AssetFilePath('/data/kb_766/EyeAI_working/deriva-ml/execution/4-YTWW/asset/eye-ai/Fundus_Bounding_Box/Cropped_4-YS14.svg'),\n",
       "  AssetFilePath('/data/kb_766/EyeAI_working/deriva-ml/execution/4-YTWW/asset/eye-ai/Fundus_Bounding_Box/Cropped_4-YS16.svg'),\n",
       "  AssetFilePath('/data/kb_766/EyeAI_working/deriva-ml/execution/4-YTWW/asset/eye-ai/Fundus_Bounding_Box/Cropped_4-YS18.svg'),\n",
       "  AssetFilePath('/data/kb_766/EyeAI_working/deriva-ml/execution/4-YTWW/asset/eye-ai/Fundus_Bounding_Box/Cropped_4-YS1A.svg'),\n",
       "  AssetFilePath('/data/kb_766/EyeAI_working/deriva-ml/execution/4-YTWW/asset/eye-ai/Fundus_Bounding_Box/Cropped_4-YS1C.svg'),\n",
       "  AssetFilePath('/data/kb_766/EyeAI_working/deriva-ml/execution/4-YTWW/asset/eye-ai/Fundus_Bounding_Box/Cropped_4-YS1E.svg'),\n",
       "  AssetFilePath('/data/kb_766/EyeAI_working/deriva-ml/execution/4-YTWW/asset/eye-ai/Fundus_Bounding_Box/Cropped_4-YS1G.svg'),\n",
       "  AssetFilePath('/data/kb_766/EyeAI_working/deriva-ml/execution/4-YTWW/asset/eye-ai/Fundus_Bounding_Box/Cropped_4-YS1M.svg'),\n",
       "  AssetFilePath('/data/kb_766/EyeAI_working/deriva-ml/execution/4-YTWW/asset/eye-ai/Fundus_Bounding_Box/Cropped_4-YS1P.svg'),\n",
       "  AssetFilePath('/data/kb_766/EyeAI_working/deriva-ml/execution/4-YTWW/asset/eye-ai/Fundus_Bounding_Box/Cropped_4-YS1R.svg'),\n",
       "  AssetFilePath('/data/kb_766/EyeAI_working/deriva-ml/execution/4-YTWW/asset/eye-ai/Fundus_Bounding_Box/Cropped_4-YS1T.svg'),\n",
       "  AssetFilePath('/data/kb_766/EyeAI_working/deriva-ml/execution/4-YTWW/asset/eye-ai/Fundus_Bounding_Box/Cropped_4-YS1W.svg'),\n",
       "  AssetFilePath('/data/kb_766/EyeAI_working/deriva-ml/execution/4-YTWW/asset/eye-ai/Fundus_Bounding_Box/Cropped_4-YS1Y.svg'),\n",
       "  AssetFilePath('/data/kb_766/EyeAI_working/deriva-ml/execution/4-YTWW/asset/eye-ai/Fundus_Bounding_Box/Cropped_4-YS20.svg'),\n",
       "  AssetFilePath('/data/kb_766/EyeAI_working/deriva-ml/execution/4-YTWW/asset/eye-ai/Fundus_Bounding_Box/Cropped_4-YS22.svg'),\n",
       "  AssetFilePath('/data/kb_766/EyeAI_working/deriva-ml/execution/4-YTWW/asset/eye-ai/Fundus_Bounding_Box/Cropped_4-YS24.svg'),\n",
       "  AssetFilePath('/data/kb_766/EyeAI_working/deriva-ml/execution/4-YTWW/asset/eye-ai/Fundus_Bounding_Box/Cropped_4-YS28.svg'),\n",
       "  AssetFilePath('/data/kb_766/EyeAI_working/deriva-ml/execution/4-YTWW/asset/eye-ai/Fundus_Bounding_Box/Cropped_4-YS2A.svg'),\n",
       "  AssetFilePath('/data/kb_766/EyeAI_working/deriva-ml/execution/4-YTWW/asset/eye-ai/Fundus_Bounding_Box/Cropped_4-YS2C.svg'),\n",
       "  AssetFilePath('/data/kb_766/EyeAI_working/deriva-ml/execution/4-YTWW/asset/eye-ai/Fundus_Bounding_Box/Cropped_4-YS2E.svg'),\n",
       "  AssetFilePath('/data/kb_766/EyeAI_working/deriva-ml/execution/4-YTWW/asset/eye-ai/Fundus_Bounding_Box/Cropped_4-YS2G.svg'),\n",
       "  AssetFilePath('/data/kb_766/EyeAI_working/deriva-ml/execution/4-YTWW/asset/eye-ai/Fundus_Bounding_Box/Cropped_4-YS2J.svg'),\n",
       "  AssetFilePath('/data/kb_766/EyeAI_working/deriva-ml/execution/4-YTWW/asset/eye-ai/Fundus_Bounding_Box/Cropped_4-YS2M.svg'),\n",
       "  AssetFilePath('/data/kb_766/EyeAI_working/deriva-ml/execution/4-YTWW/asset/eye-ai/Fundus_Bounding_Box/Cropped_4-YS2P.svg'),\n",
       "  AssetFilePath('/data/kb_766/EyeAI_working/deriva-ml/execution/4-YTWW/asset/eye-ai/Fundus_Bounding_Box/Cropped_4-YS2R.svg'),\n",
       "  AssetFilePath('/data/kb_766/EyeAI_working/deriva-ml/execution/4-YTWW/asset/eye-ai/Fundus_Bounding_Box/Cropped_4-YS2T.svg'),\n",
       "  AssetFilePath('/data/kb_766/EyeAI_working/deriva-ml/execution/4-YTWW/asset/eye-ai/Fundus_Bounding_Box/Cropped_4-YS2W.svg'),\n",
       "  AssetFilePath('/data/kb_766/EyeAI_working/deriva-ml/execution/4-YTWW/asset/eye-ai/Fundus_Bounding_Box/Cropped_4-YS2Y.svg'),\n",
       "  AssetFilePath('/data/kb_766/EyeAI_working/deriva-ml/execution/4-YTWW/asset/eye-ai/Fundus_Bounding_Box/Cropped_4-YS30.svg'),\n",
       "  AssetFilePath('/data/kb_766/EyeAI_working/deriva-ml/execution/4-YTWW/asset/eye-ai/Fundus_Bounding_Box/Cropped_4-YS32.svg'),\n",
       "  AssetFilePath('/data/kb_766/EyeAI_working/deriva-ml/execution/4-YTWW/asset/eye-ai/Fundus_Bounding_Box/Cropped_4-YS34.svg'),\n",
       "  AssetFilePath('/data/kb_766/EyeAI_working/deriva-ml/execution/4-YTWW/asset/eye-ai/Fundus_Bounding_Box/Cropped_4-YS36.svg'),\n",
       "  AssetFilePath('/data/kb_766/EyeAI_working/deriva-ml/execution/4-YTWW/asset/eye-ai/Fundus_Bounding_Box/Cropped_4-YS3C.svg'),\n",
       "  AssetFilePath('/data/kb_766/EyeAI_working/deriva-ml/execution/4-YTWW/asset/eye-ai/Fundus_Bounding_Box/Cropped_4-YS3E.svg'),\n",
       "  AssetFilePath('/data/kb_766/EyeAI_working/deriva-ml/execution/4-YTWW/asset/eye-ai/Fundus_Bounding_Box/Cropped_4-YS3G.svg'),\n",
       "  AssetFilePath('/data/kb_766/EyeAI_working/deriva-ml/execution/4-YTWW/asset/eye-ai/Fundus_Bounding_Box/Cropped_4-YS3J.svg'),\n",
       "  AssetFilePath('/data/kb_766/EyeAI_working/deriva-ml/execution/4-YTWW/asset/eye-ai/Fundus_Bounding_Box/Cropped_4-YS3P.svg'),\n",
       "  AssetFilePath('/data/kb_766/EyeAI_working/deriva-ml/execution/4-YTWW/asset/eye-ai/Fundus_Bounding_Box/Cropped_4-YS3R.svg'),\n",
       "  AssetFilePath('/data/kb_766/EyeAI_working/deriva-ml/execution/4-YTWW/asset/eye-ai/Fundus_Bounding_Box/Cropped_4-YS3T.svg'),\n",
       "  AssetFilePath('/data/kb_766/EyeAI_working/deriva-ml/execution/4-YTWW/asset/eye-ai/Fundus_Bounding_Box/Cropped_4-YS3W.svg'),\n",
       "  AssetFilePath('/data/kb_766/EyeAI_working/deriva-ml/execution/4-YTWW/asset/eye-ai/Fundus_Bounding_Box/Cropped_4-YS3Y.svg'),\n",
       "  AssetFilePath('/data/kb_766/EyeAI_working/deriva-ml/execution/4-YTWW/asset/eye-ai/Fundus_Bounding_Box/Cropped_4-YS42.svg'),\n",
       "  AssetFilePath('/data/kb_766/EyeAI_working/deriva-ml/execution/4-YTWW/asset/eye-ai/Fundus_Bounding_Box/Cropped_4-YS44.svg'),\n",
       "  AssetFilePath('/data/kb_766/EyeAI_working/deriva-ml/execution/4-YTWW/asset/eye-ai/Fundus_Bounding_Box/Cropped_4-YS48.svg'),\n",
       "  AssetFilePath('/data/kb_766/EyeAI_working/deriva-ml/execution/4-YTWW/asset/eye-ai/Fundus_Bounding_Box/Cropped_4-YS4A.svg'),\n",
       "  AssetFilePath('/data/kb_766/EyeAI_working/deriva-ml/execution/4-YTWW/asset/eye-ai/Fundus_Bounding_Box/Cropped_4-YS4C.svg'),\n",
       "  AssetFilePath('/data/kb_766/EyeAI_working/deriva-ml/execution/4-YTWW/asset/eye-ai/Fundus_Bounding_Box/Cropped_4-YS4E.svg'),\n",
       "  AssetFilePath('/data/kb_766/EyeAI_working/deriva-ml/execution/4-YTWW/asset/eye-ai/Fundus_Bounding_Box/Cropped_4-YS4G.svg'),\n",
       "  AssetFilePath('/data/kb_766/EyeAI_working/deriva-ml/execution/4-YTWW/asset/eye-ai/Fundus_Bounding_Box/Cropped_4-YS4J.svg'),\n",
       "  AssetFilePath('/data/kb_766/EyeAI_working/deriva-ml/execution/4-YTWW/asset/eye-ai/Fundus_Bounding_Box/Cropped_4-YS4M.svg'),\n",
       "  AssetFilePath('/data/kb_766/EyeAI_working/deriva-ml/execution/4-YTWW/asset/eye-ai/Fundus_Bounding_Box/Cropped_4-YS4R.svg'),\n",
       "  AssetFilePath('/data/kb_766/EyeAI_working/deriva-ml/execution/4-YTWW/asset/eye-ai/Fundus_Bounding_Box/Cropped_4-YS4T.svg'),\n",
       "  AssetFilePath('/data/kb_766/EyeAI_working/deriva-ml/execution/4-YTWW/asset/eye-ai/Fundus_Bounding_Box/Cropped_4-YS4W.svg'),\n",
       "  AssetFilePath('/data/kb_766/EyeAI_working/deriva-ml/execution/4-YTWW/asset/eye-ai/Fundus_Bounding_Box/Cropped_4-YS4Y.svg'),\n",
       "  AssetFilePath('/data/kb_766/EyeAI_working/deriva-ml/execution/4-YTWW/asset/eye-ai/Fundus_Bounding_Box/Cropped_4-YS50.svg'),\n",
       "  AssetFilePath('/data/kb_766/EyeAI_working/deriva-ml/execution/4-YTWW/asset/eye-ai/Fundus_Bounding_Box/Cropped_4-YS52.svg'),\n",
       "  AssetFilePath('/data/kb_766/EyeAI_working/deriva-ml/execution/4-YTWW/asset/eye-ai/Fundus_Bounding_Box/Cropped_4-YS54.svg'),\n",
       "  AssetFilePath('/data/kb_766/EyeAI_working/deriva-ml/execution/4-YTWW/asset/eye-ai/Fundus_Bounding_Box/Cropped_4-YS56.svg'),\n",
       "  AssetFilePath('/data/kb_766/EyeAI_working/deriva-ml/execution/4-YTWW/asset/eye-ai/Fundus_Bounding_Box/Cropped_4-YS58.svg'),\n",
       "  AssetFilePath('/data/kb_766/EyeAI_working/deriva-ml/execution/4-YTWW/asset/eye-ai/Fundus_Bounding_Box/Cropped_4-YS5A.svg'),\n",
       "  AssetFilePath('/data/kb_766/EyeAI_working/deriva-ml/execution/4-YTWW/asset/eye-ai/Fundus_Bounding_Box/Cropped_4-YS5C.svg'),\n",
       "  AssetFilePath('/data/kb_766/EyeAI_working/deriva-ml/execution/4-YTWW/asset/eye-ai/Fundus_Bounding_Box/Cropped_4-YS5E.svg'),\n",
       "  AssetFilePath('/data/kb_766/EyeAI_working/deriva-ml/execution/4-YTWW/asset/eye-ai/Fundus_Bounding_Box/Cropped_4-YS5G.svg'),\n",
       "  AssetFilePath('/data/kb_766/EyeAI_working/deriva-ml/execution/4-YTWW/asset/eye-ai/Fundus_Bounding_Box/Cropped_4-YS5J.svg'),\n",
       "  AssetFilePath('/data/kb_766/EyeAI_working/deriva-ml/execution/4-YTWW/asset/eye-ai/Fundus_Bounding_Box/Cropped_4-YS5M.svg'),\n",
       "  AssetFilePath('/data/kb_766/EyeAI_working/deriva-ml/execution/4-YTWW/asset/eye-ai/Fundus_Bounding_Box/Cropped_4-YS5R.svg'),\n",
       "  AssetFilePath('/data/kb_766/EyeAI_working/deriva-ml/execution/4-YTWW/asset/eye-ai/Fundus_Bounding_Box/Cropped_4-YS5T.svg')]}"
      ]
     },
     "execution_count": 28,
     "metadata": {},
     "output_type": "execute_result"
    }
   ],
   "source": [
    "execution.upload_execution_outputs()"
   ]
  },
  {
   "cell_type": "code",
   "execution_count": null,
   "id": "08dfd563-8297-4941-837c-45232bad1e08",
   "metadata": {},
   "outputs": [],
   "source": []
  }
 ],
 "metadata": {
  "kernelspec": {
   "display_name": "My TensorFlow (Conda)",
   "language": "python",
   "name": "my-tensorflow-conda"
  },
  "language_info": {
   "codemirror_mode": {
    "name": "ipython",
    "version": 3
   },
   "file_extension": ".py",
   "mimetype": "text/x-python",
   "name": "python",
   "nbconvert_exporter": "python",
   "pygments_lexer": "ipython3",
   "version": "3.10.13"
  }
 },
 "nbformat": 4,
 "nbformat_minor": 5
}
