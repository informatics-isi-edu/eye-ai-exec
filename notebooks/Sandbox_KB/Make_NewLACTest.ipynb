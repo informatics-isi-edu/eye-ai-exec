{
 "cells": [
  {
   "cell_type": "markdown",
   "id": "b2006ce9-6ca1-402d-b9ad-8853b85509cf",
   "metadata": {},
   "source": [
    "# Connect Eye-AI and Load Libraries"
   ]
  },
  {
   "cell_type": "code",
   "execution_count": 259,
   "id": "003248d9-3365-4aaa-874a-858234cb2f86",
   "metadata": {},
   "outputs": [],
   "source": [
    "# repo_dir = \"Repos\"   # Set this to be where your github repos are located.\n",
    "# %load_ext autoreload\n",
    "# %autoreload 2\n",
    "\n",
    "# # Update the load path so python can find modules for the model\n",
    "# import sys\n",
    "# from pathlib import Path\n",
    "# sys.path.insert(0, str(Path.home() / repo_dir / \"eye-ai-ml\"))\n",
    "# sys.path.insert(0, str(Path.home() / repo_dir / \"deriva-ml\"))"
   ]
  },
  {
   "cell_type": "code",
   "execution_count": 6,
   "id": "8499060d-4de0-4ab1-bf23-8f766d24dd5e",
   "metadata": {},
   "outputs": [],
   "source": [
    "# Prerequisites\n",
    "import json\n",
    "import os\n",
    "from eye_ai.eye_ai import EyeAI\n",
    "\n",
    "import pandas as pd\n",
    "import numpy as np\n",
    "from sklearn.calibration import calibration_curve\n",
    "import matplotlib.pyplot as plt\n",
    "from pathlib import Path, PurePath\n",
    "import logging\n",
    "\n",
    "#from deriva_ml import DatasetBag, Workflow, ExecutionConfiguration\n",
    "from deriva_ml import DerivaML, Workflow, ExecutionConfiguration, VersionPart\n",
    "from deriva_ml import MLVocab as vc\n",
    "logging.basicConfig(level=logging.INFO, format='%(asctime)s - %(levelname)s - %(message)s', force=True)"
   ]
  },
  {
   "cell_type": "code",
   "execution_count": 2,
   "id": "1f254b11-9f01-4185-95a0-cd7f80995c2f",
   "metadata": {},
   "outputs": [
    {
     "name": "stderr",
     "output_type": "stream",
     "text": [
      "2025-03-10 17:20:33,698 - INFO - Creating client of type <class 'globus_sdk.services.auth.client.native_client.NativeAppAuthClient'> for service \"auth\"\n",
      "2025-03-10 17:20:33,699 - INFO - Finished initializing AuthLoginClient. client_id='8ef15ba9-2b4a-469c-a163-7fd910c9d111', type(authorizer)=<class 'globus_sdk.authorizers.base.NullAuthorizer'>\n"
     ]
    },
    {
     "name": "stdout",
     "output_type": "stream",
     "text": [
      "You are already logged in.\n"
     ]
    }
   ],
   "source": [
    "# Login\n",
    "from deriva.core.utils.globus_auth_utils import GlobusNativeLogin\n",
    "host = 'www.eye-ai.org'\n",
    "#host = 'dev.eye-ai.org' #for dev testing\n",
    "catalog_id = \"eye-ai\"\n",
    "\n",
    "gnl = GlobusNativeLogin(host=host)\n",
    "if gnl.is_logged_in([host]):\n",
    "    print(\"You are already logged in.\")\n",
    "else:\n",
    "    gnl.login([host], no_local_server=True, no_browser=True, refresh_tokens=True, update_bdbag_keychain=True)\n",
    "    print(\"Login Successful\")"
   ]
  },
  {
   "cell_type": "markdown",
   "id": "420ee433-9dce-460f-ab4d-0aff7d4eea0e",
   "metadata": {},
   "source": [
    "# Configuration"
   ]
  },
  {
   "cell_type": "code",
   "execution_count": 3,
   "id": "3a40db10-6f64-4b6e-a22d-3c7011e2a3fa",
   "metadata": {},
   "outputs": [
    {
     "name": "stderr",
     "output_type": "stream",
     "text": [
      "2025-03-10 17:20:42,804 - INFO - Creating client of type <class 'globus_sdk.services.auth.client.native_client.NativeAppAuthClient'> for service \"auth\"\n",
      "2025-03-10 17:20:42,804 - INFO - Finished initializing AuthLoginClient. client_id='8ef15ba9-2b4a-469c-a163-7fd910c9d111', type(authorizer)=<class 'globus_sdk.authorizers.base.NullAuthorizer'>\n"
     ]
    }
   ],
   "source": [
    "cache_dir = '/data'\n",
    "working_dir = '/data'\n",
    "EA = EyeAI(hostname = host, catalog_id = catalog_id, cache_dir= cache_dir, working_dir=working_dir)"
   ]
  },
  {
   "cell_type": "code",
   "execution_count": 8,
   "id": "85ad0a5a-4bcc-423b-a020-3e84e7506055",
   "metadata": {},
   "outputs": [
    {
     "data": {
      "text/plain": [
       "DatasetVersion(major=2, minor=0, patch=1)"
      ]
     },
     "execution_count": 8,
     "metadata": {},
     "output_type": "execute_result"
    }
   ],
   "source": [
    "\n",
    "\n",
    "ml_instance.increment_dataset_version(dataset_rid='2-N93J', component= VersionPart.patch, description='Update to latest deriva-ml schema')"
   ]
  },
  {
   "cell_type": "code",
   "execution_count": 9,
   "id": "5c7340a9-2356-481b-bbd9-2f1f30955ca7",
   "metadata": {},
   "outputs": [
    {
     "name": "stderr",
     "output_type": "stream",
     "text": [
      "2025-03-10 17:27:31,538 - INFO - Creating client of type <class 'globus_sdk.services.auth.client.native_client.NativeAppAuthClient'> for service \"auth\"\n",
      "2025-03-10 17:27:31,539 - INFO - Finished initializing AuthLoginClient. client_id='8ef15ba9-2b4a-469c-a163-7fd910c9d111', type(authorizer)=<class 'globus_sdk.authorizers.base.NullAuthorizer'>\n",
      "2025-03-10 17:27:32,773 - INFO - Creating new MINID for dataset 2-N93J\n",
      "2025-03-10 17:27:33,041 - INFO - Downloading dataset minid for catalog: 2-N93J@2.0.1\n",
      "2025-03-10 17:27:33,043 - INFO - Creating client of type <class 'globus_sdk.services.auth.client.native_client.NativeAppAuthClient'> for service \"auth\"\n",
      "2025-03-10 17:27:33,044 - INFO - Finished initializing AuthLoginClient. client_id='8ef15ba9-2b4a-469c-a163-7fd910c9d111', type(authorizer)=<class 'globus_sdk.authorizers.base.NullAuthorizer'>\n",
      "2025-03-10 17:27:33,079 - INFO - Processing export config file: /tmp/tmpe6vb4xlu/download_spec.json\n",
      "2025-03-10 17:27:33,081 - INFO - Requesting bdbag export at: https://www.eye-ai.org/deriva/export/bdbag\n",
      "2025-03-10 17:29:08,131 - INFO - Export successful. Service responded with URL list: ['https://identifiers.fair-research.org/hdl:20.500.12582/18KB6jmhldEeM', 'https://www.eye-ai.org/deriva/export/bdbag/2059869c-0d7c-4500-837b-dee21e488892']\n",
      "2025-03-10 17:29:08,306 - INFO - Attempting GET from URL: https://eye-ai-shared.s3.amazonaws.com/2d9eac4317de4f06b31b70546003deca/2025-03-10_17.29.06/Dataset_2-N93J.zip\n",
      "2025-03-10 17:29:08,410 - INFO - File [/tmp/tmp4mah7y3uDataset_2-N93J.zip] transfer complete. 2.628 MB transferred. Elapsed time: 0:00:00.020313.\n",
      "2025-03-10 17:29:08,413 - INFO - Extracting ZIP archived file: /tmp/tmp4mah7y3uDataset_2-N93J.zip\n",
      "2025-03-10 17:29:08,489 - INFO - File /tmp/tmp4mah7y3uDataset_2-N93J.zip was successfully extracted to directory /home/kb_766/deriva-ml/cache/2-N93J_9a75d3c2b53de08134358a4de4fd06d182218938b6a737bce545ac887954bcb1/Dataset_2-N93J\n",
      "2025-03-10 17:29:08,490 - INFO - Validating bag structure: /home/kb_766/deriva-ml/cache/2-N93J_9a75d3c2b53de08134358a4de4fd06d182218938b6a737bce545ac887954bcb1/Dataset_2-N93J\n",
      "2025-03-10 17:29:10,206 - INFO - Checking payload consistency. This can take some time for large bags with many payload files...\n",
      "2025-03-10 17:29:11,872 - INFO - The directory /home/kb_766/deriva-ml/cache/2-N93J_9a75d3c2b53de08134358a4de4fd06d182218938b6a737bce545ac887954bcb1/Dataset_2-N93J is a valid bag structure\n",
      "2025-03-10 17:29:11,875 - INFO - Loading /home/kb_766/deriva-ml/cache/2-N93J_9a75d3c2b53de08134358a4de4fd06d182218938b6a737bce545ac887954bcb1/Dataset_2-N93J\n",
      "2025-03-10 17:29:13,031 - INFO - Creating new database for dataset: 2-N93J in /home/kb_766/deriva-ml/cache/2-N93J_9a75d3c2b53de08134358a4de4fd06d182218938b6a737bce545ac887954bcb1/2-N93J@330-1H6W-MEKW.db\n",
      "2025-03-10 17:29:13,311 - INFO - File [/home/kb_766/deriva-ml/DerivaML_working/4-QAC4/asset/predictions_results.csv] transfer successful. 59.57 KB transferred. Elapsed time: 0:00:00.000840.\n",
      "2025-03-10 17:29:13,311 - INFO - Verifying SHA256 checksum for downloaded file [/home/kb_766/deriva-ml/DerivaML_working/4-QAC4/asset/predictions_results.csv]\n"
     ]
    }
   ],
   "source": [
    "source_dataset = \"2-N93J\"\n",
    "asset_RID = [\"2-C8JM\"]\n",
    "ml_instance = DerivaML(host, catalog_id=\"eye-ai\")\n",
    "\n",
    "\n",
    "preds_workflow = EA.add_workflow( \n",
    "    Workflow(\n",
    "        name=\"LAC data template\",\n",
    "        url=\"https://github.com/informatics-isi-edu/eye-ai-exec/blob/main/notebooks/Sandbox_KB/Get_VGGPreds.ipynb\",\n",
    "        workflow_type=\"Test Workflow\",\n",
    "        )\n",
    "    )\n",
    "\n",
    "config = ExecutionConfiguration(\n",
    "    datasets=[\n",
    "        {\n",
    "            \"rid\": source_dataset,\n",
    "            \"materialize\": False,\n",
    "            \"version\": ml_instance.dataset_version(source_dataset),\n",
    "        }\n",
    "    ],\n",
    "    assets=asset_RID,\n",
    "    workflow=preds_workflow,\n",
    "    description=\"Instance of linking VGG19 predictions to patient-level data\",\n",
    "    )\n",
    "\n",
    "exec = ml_instance.create_execution(config)"
   ]
  },
  {
   "cell_type": "code",
   "execution_count": 10,
   "id": "9db71483-dce2-4fdf-bcbc-0c952989d8f3",
   "metadata": {},
   "outputs": [
    {
     "name": "stdout",
     "output_type": "stream",
     "text": [
      "caching_dir: /home/kb_766/deriva-ml/cache\n",
      "_working_dir: /home/kb_766/deriva-ml/DerivaML_working\n",
      "execution_rid: 4-QAC4\n",
      "workflow_rid: 4-M4TT\n",
      "asset_paths: [PosixPath('/home/kb_766/deriva-ml/DerivaML_working/4-QAC4/asset/predictions_results.csv')]\n",
      "configuration: datasets=[DatasetSpec(rid='2-N93J', materialize=False, version=DatasetVersion(major=2, minor=0, patch=1))] assets=['2-C8JM'] workflow='4-M4TT' description='Instance of linking VGG19 predictions to patient-level data'\n"
     ]
    }
   ],
   "source": [
    "print(exec)"
   ]
  },
  {
   "cell_type": "markdown",
   "id": "c97e75f7-8eb7-490c-8ba7-0e00d738a723",
   "metadata": {},
   "source": [
    "# Get Pertinent Datasets"
   ]
  },
  {
   "cell_type": "code",
   "execution_count": 12,
   "id": "64273618-87e3-40ed-8e39-a8d176728fb0",
   "metadata": {},
   "outputs": [],
   "source": [
    "ds_bag = exec.datasets[0]"
   ]
  },
  {
   "cell_type": "code",
   "execution_count": 26,
   "id": "dfd7cb1c-ad27-4680-af4b-2b7ba739cff1",
   "metadata": {},
   "outputs": [
    {
     "data": {
      "text/plain": [
       "Index(['RID', 'RCT', 'RMT', 'RCB', 'RMB', 'Observation_ID', 'Subject', 'hba1c',\n",
       "       'glaucoma_hx', 'visual_acuity_right', 'visual_acuity_left',\n",
       "       'date_of_encounter', 'reviewed_date', 'provider', 'consultant',\n",
       "       'dr_level', 'consult_id', 'assessment_and_recommendation',\n",
       "       'additional_comments', 'return_time_frame',\n",
       "       'referral_status_time_frame', 'Subject_hypertension',\n",
       "       'Subject_insulin_dependent', 'Subject_pregnant', 'Subject_cataract',\n",
       "       'Subject_maculopathy', 'Subject_other', 'Subject_image_quality', 'Age'],\n",
       "      dtype='object')"
      ]
     },
     "execution_count": 26,
     "metadata": {},
     "output_type": "execute_result"
    }
   ],
   "source": [
    "ds_bag.get_table_as_dataframe('Observation').columns"
   ]
  },
  {
   "cell_type": "code",
   "execution_count": 34,
   "id": "8a0aa74e-ad66-4587-91db-4dfdca3da10f",
   "metadata": {
    "scrolled": true
   },
   "outputs": [],
   "source": [
    "# Function to update column names\n",
    "pd.options.mode.copy_on_write = True\n",
    "def updateCols(df, cols, colDict):\n",
    "    df = df[cols]\n",
    "    df.rename( columns = colDict, inplace = True )\n",
    "    for c in set(cols).intersection( set(colDict) ): cols[cols.index(c)] = colDict.get(c)\n",
    "    return df\n",
    "\n",
    "cols = ['RID', 'Subject_ID', 'Subject_Gender', 'Subject_Ethnicity']\n",
    "colDict = {'Image':'RID_Image', 'Observation':'RID_Observation', 'Subject':'RID_Subject'}\n",
    "\n",
    "\n",
    "ds_bag.get_table_as_dataframe('Subject')\n",
    "\n",
    "\n",
    "\n",
    "\n",
    "\n",
    "\n",
    "\n",
    "# Build up diagnosis DF for Optom and CNN\n",
    "diags = ds_bag.get_table_as_dataframe('Image_Diagnosis')\n",
    "diags = pd.merge( diags[diags['Execution'] == '2-C6E0'],\n",
    "                   diags[diags['Diagnosis_Tag'] == 'Initial Diagnosis'],\n",
    "                   on = 'Image', how = 'left', suffixes = ['_CNN', '_Optom'])\n",
    "\n",
    "diags = updateCols( diags, cols, colDict )\n",
    "del(cols[0])\n",
    "cols[:0] = ['RID_Image', 'Diagnosis_Image_Expert', 'Diagnosis_Image_Expert_Count', 'Diagnosis_BYX', 'Diagnosis_BW', 'Diagnosis_VN', 'CDR_Expert']\n",
    "\n",
    "# Merge onto diagnosis DF for Expert\n",
    "diags = pd.merge( dxExpert, diags, on = 'RID_Image', how = 'left' )\n",
    "\n",
    "# Link to image data\n",
    "linkdDF = pd.merge( ds_bag.get_table_as_dataframe('Image'),\n",
    "                  diags,\n",
    "                  left_on = 'RID', right_on = 'RID_Image', \n",
    "                  how = 'right')\n",
    "\n",
    "cols[:0] = ['Observation', 'Image_Side']\n",
    "linkdDF = updateCols( linkdDF, cols, colDict )\n",
    "\n",
    "# Link to observation data\n",
    "linkdDF = pd.merge( ds_bag.get_table_as_dataframe('Observation'),\n",
    "                   linkdDF,\n",
    "                   left_on = 'RID', right_on = 'RID_Observation', \n",
    "                   how = 'right')\n",
    "\n",
    "cols[:0] = ['Subject', 'date_of_encounter','hba1c', 'dr_level', 'glaucoma_hx', 'consultant', 'Subject_image_quality']  # removed site_mrn\n",
    "linkdDF = updateCols( linkdDF, cols, colDict )\n",
    "\n",
    "# Link to subject data\n",
    "linkdDF = pd.merge( ds_bag.get_table_as_dataframe('Subject'),\n",
    "                   linkdDF,\n",
    "                   left_on = 'RID', right_on = 'RID_Subject', \n",
    "                   how = 'right')\n",
    "\n",
    "cols[:0] = ['RID_Subject', 'Subject_Gender', 'Subject_Ethnicity']  # removed site_mrn\n",
    "del(cols[ np.where( np.array(cols)=='RID_Subject' )[0][1] ]) # remove duplicated RID_Subject\n",
    "linkdDF = updateCols( linkdDF, cols, colDict )"
   ]
  },
  {
   "cell_type": "markdown",
   "id": "7b7f4c40-d50b-481a-b55b-d253ea01c37f",
   "metadata": {},
   "source": [
    "# Upload Results"
   ]
  },
  {
   "cell_type": "code",
   "execution_count": 156,
   "id": "f27d4849-0230-4722-afa5-47f03a9d90a2",
   "metadata": {},
   "outputs": [
    {
     "name": "stderr",
     "output_type": "stream",
     "text": [
      "2025-02-21 11:08:53,056 - INFO - Initializing uploader: GenericUploader v1.7.6 [Python 3.10.13, Linux-5.10.210-201.852.amzn2.x86_64-x86_64-with-glibc2.26]\n",
      "2025-02-21 11:08:53,058 - INFO - Creating client of type <class 'globus_sdk.services.auth.client.native_client.NativeAppAuthClient'> for service \"auth\"\n",
      "2025-02-21 11:08:53,058 - INFO - Finished initializing AuthLoginClient. client_id='8ef15ba9-2b4a-469c-a163-7fd910c9d111', type(authorizer)=<class 'globus_sdk.authorizers.base.NullAuthorizer'>\n",
      "2025-02-21 11:08:53,096 - INFO - Scanning files in directory [/home/kb_766/deriva-ml/DerivaML_working/deriva-ml/execution/4-Q6YM/execution-asset]...\n",
      "2025-02-21 11:08:53,097 - INFO - Including file: [/home/kb_766/deriva-ml/DerivaML_working/deriva-ml/execution/4-Q6YM/execution-asset/Diagnosis_Analysis/ImagesToVGG19.csv].\n",
      "2025-02-21 11:08:53,097 - INFO - Including file: [/home/kb_766/deriva-ml/DerivaML_working/deriva-ml/execution/4-Q6YM/execution-asset/Diagnosis_Analysis/SubjectsToVGG19.csv].\n",
      "2025-02-21 11:08:53,098 - INFO - Processing: [/home/kb_766/deriva-ml/DerivaML_working/deriva-ml/execution/4-Q6YM/execution-asset/Diagnosis_Analysis/ImagesToVGG19.csv]\n",
      "2025-02-21 11:08:53,099 - INFO - Computed metadata for: [/home/kb_766/deriva-ml/DerivaML_working/deriva-ml/execution/4-Q6YM/execution-asset/Diagnosis_Analysis/ImagesToVGG19.csv].\n",
      "2025-02-21 11:08:53,099 - INFO - Computing checksums for file: [/home/kb_766/deriva-ml/DerivaML_working/deriva-ml/execution/4-Q6YM/execution-asset/Diagnosis_Analysis/ImagesToVGG19.csv]. Please wait...\n",
      "2025-02-21 11:08:53,120 - INFO - Uploading file: [/home/kb_766/deriva-ml/DerivaML_working/deriva-ml/execution/4-Q6YM/execution-asset/Diagnosis_Analysis/ImagesToVGG19.csv] to host https://www.eye-ai.org. Please wait...\n",
      "2025-02-21 11:08:53,766 - INFO - Processing: [/home/kb_766/deriva-ml/DerivaML_working/deriva-ml/execution/4-Q6YM/execution-asset/Diagnosis_Analysis/SubjectsToVGG19.csv]\n",
      "2025-02-21 11:08:53,767 - INFO - Computed metadata for: [/home/kb_766/deriva-ml/DerivaML_working/deriva-ml/execution/4-Q6YM/execution-asset/Diagnosis_Analysis/SubjectsToVGG19.csv].\n",
      "2025-02-21 11:08:53,767 - INFO - Computing checksums for file: [/home/kb_766/deriva-ml/DerivaML_working/deriva-ml/execution/4-Q6YM/execution-asset/Diagnosis_Analysis/SubjectsToVGG19.csv]. Please wait...\n",
      "2025-02-21 11:08:53,783 - INFO - Uploading file: [/home/kb_766/deriva-ml/DerivaML_working/deriva-ml/execution/4-Q6YM/execution-asset/Diagnosis_Analysis/SubjectsToVGG19.csv] to host https://www.eye-ai.org. Please wait...\n",
      "2025-02-21 11:08:53,830 - INFO - File upload processing completed: 2 files were uploaded successfully, 0 files failed to upload due to errors, 0 files were skipped because they did not satisfy the matching criteria of the configuration.\n",
      "2025-02-21 11:08:53,959 - INFO - Initializing uploader: GenericUploader v1.7.6 [Python 3.10.13, Linux-5.10.210-201.852.amzn2.x86_64-x86_64-with-glibc2.26]\n",
      "2025-02-21 11:08:53,961 - INFO - Creating client of type <class 'globus_sdk.services.auth.client.native_client.NativeAppAuthClient'> for service \"auth\"\n",
      "2025-02-21 11:08:53,961 - INFO - Finished initializing AuthLoginClient. client_id='8ef15ba9-2b4a-469c-a163-7fd910c9d111', type(authorizer)=<class 'globus_sdk.authorizers.base.NullAuthorizer'>\n",
      "2025-02-21 11:08:54,002 - INFO - Scanning files in directory [/home/kb_766/deriva-ml/DerivaML_working/deriva-ml/execution/4-Q6YM/execution-metadata]...\n",
      "2025-02-21 11:08:54,002 - INFO - File upload processing completed: 0 files were uploaded successfully, 0 files failed to upload due to errors, 0 files were skipped because they did not satisfy the matching criteria of the configuration.\n"
     ]
    },
    {
     "data": {
      "text/plain": [
       "{'Diagnosis_Analysis/ImagesToVGG19.csv': FileUploadState(state=<UploadState.success: 0>, status='Complete', result={'URL': '/hatrac/execution_asset/6203f498f970ff62dc911033527f9bc4.ImagesToVGG19.csv:sS0V.K6SztU1SlnwwZqstYDpd4Fbdbj0', 'RID': '4-Q6ZA', 'RCT': '2025-02-21T19:08:53.720552+00:00', 'RMT': '2025-02-21T19:08:53.720552+00:00', 'RCB': 'https://auth.globus.org/6022643c-876c-4a47-bafa-5b9fac2c7782', 'RMB': 'https://auth.globus.org/6022643c-876c-4a47-bafa-5b9fac2c7782', 'Filename': 'ImagesToVGG19.csv', 'Description': None, 'Length': 230900, 'MD5': '6203f498f970ff62dc911033527f9bc4', 'Execution_Asset_Type': 'Diagnosis_Analysis'}, rid='4-Q6ZA'),\n",
       " 'Diagnosis_Analysis/SubjectsToVGG19.csv': FileUploadState(state=<UploadState.success: 0>, status='Complete', result={'RID': '4-Q6YW', 'RCT': '2025-02-21T18:27:52.987298+00:00', 'RMT': '2025-02-21T18:27:52.987298+00:00', 'RCB': 'https://auth.globus.org/6022643c-876c-4a47-bafa-5b9fac2c7782', 'RMB': 'https://auth.globus.org/6022643c-876c-4a47-bafa-5b9fac2c7782', 'URL': '/hatrac/execution_asset/f8f45bd6a09f390cdc513e7219feb09f.SubjectsToVGG19.csv:t1TJcOmy4lpnhPtWYE4s6ZdUIpBrlCpv', 'Filename': 'SubjectsToVGG19.csv', 'Description': None, 'Length': 41173, 'MD5': 'f8f45bd6a09f390cdc513e7219feb09f', 'Execution_Asset_Type': 'Diagnosis_Analysis'}, rid='4-Q6YW')}"
      ]
     },
     "execution_count": 156,
     "metadata": {},
     "output_type": "execute_result"
    }
   ],
   "source": [
    "# crete asset path\n",
    "asset_type_name = \"Diagnosis_Analysis\"\n",
    "asset_path = exec.execution_asset_path(asset_type_name)\n",
    "\n",
    "# save assets to asset_path\n",
    "linkdDF.to_csv(asset_path/'ImagesToVGG19.csv', index=False)\n",
    "dxSubjectDF.to_csv(asset_path/'SubjectsToVGG19.csv', index=False)\n",
    "#parityMetrics.to_csv(asset_path/'ParityMetrics.csv', index=False)\n",
    "\n",
    "# upload assets to catalog\n",
    "exec.upload_execution_outputs(clean_folder=True)"
   ]
  },
  {
   "cell_type": "code",
   "execution_count": null,
   "id": "aaf78fd5-8f9e-4abf-a946-c716b9c86ddd",
   "metadata": {},
   "outputs": [],
   "source": []
  }
 ],
 "metadata": {
  "kernelspec": {
   "display_name": "My TensorFlow (Conda)",
   "language": "python",
   "name": "my-tensorflow-conda"
  },
  "language_info": {
   "codemirror_mode": {
    "name": "ipython",
    "version": 3
   },
   "file_extension": ".py",
   "mimetype": "text/x-python",
   "name": "python",
   "nbconvert_exporter": "python",
   "pygments_lexer": "ipython3",
   "version": "3.10.13"
  }
 },
 "nbformat": 4,
 "nbformat_minor": 5
}
