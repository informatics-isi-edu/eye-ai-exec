{
 "cells": [
  {
   "cell_type": "markdown",
   "id": "b2006ce9-6ca1-402d-b9ad-8853b85509cf",
   "metadata": {},
   "source": [
    "# Connect Eye-AI and Load Libraries"
   ]
  },
  {
   "cell_type": "code",
   "execution_count": null,
   "id": "003248d9-3365-4aaa-874a-858234cb2f86",
   "metadata": {},
   "outputs": [],
   "source": [
    "# repo_dir = \"Repos\"   # Set this to be where your github repos are located.\n",
    "# %load_ext autoreload\n",
    "# %autoreload 2\n",
    "\n",
    "# # Update the load path so python can find modules for the model\n",
    "# import sys\n",
    "# from pathlib import Path\n",
    "# sys.path.insert(0, str(Path.home() / repo_dir / \"eye-ai-ml\"))\n",
    "# sys.path.insert(0, str(Path.home() / repo_dir / \"deriva-ml\"))"
   ]
  },
  {
   "cell_type": "code",
   "execution_count": null,
   "id": "8499060d-4de0-4ab1-bf23-8f766d24dd5e",
   "metadata": {},
   "outputs": [],
   "source": [
    "# Prerequisites\n",
    "import json\n",
    "import os\n",
    "from eye_ai.eye_ai import EyeAI\n",
    "\n",
    "import pandas as pd\n",
    "import numpy as np\n",
    "from sklearn.calibration import calibration_curve\n",
    "import matplotlib.pyplot as plt\n",
    "from pathlib import Path, PurePath\n",
    "import logging\n",
    "\n",
    "#from deriva_ml import DatasetBag, Workflow, ExecutionConfiguration\n",
    "from deriva_ml import DerivaML, Workflow, ExecutionConfiguration, VersionPart\n",
    "from deriva_ml import MLVocab as vc\n",
    "logging.basicConfig(level=logging.INFO, format='%(asctime)s - %(levelname)s - %(message)s', force=True)"
   ]
  },
  {
   "cell_type": "code",
   "execution_count": null,
   "id": "1f254b11-9f01-4185-95a0-cd7f80995c2f",
   "metadata": {},
   "outputs": [],
   "source": [
    "# Login\n",
    "from deriva.core.utils.globus_auth_utils import GlobusNativeLogin\n",
    "host = 'www.eye-ai.org'\n",
    "#host = 'dev.eye-ai.org' #for dev testing\n",
    "catalog_id = \"eye-ai\"\n",
    "\n",
    "gnl = GlobusNativeLogin(host=host)\n",
    "if gnl.is_logged_in([host]):\n",
    "    print(\"You are already logged in.\")\n",
    "else:\n",
    "    gnl.login([host], no_local_server=True, no_browser=True, refresh_tokens=True, update_bdbag_keychain=True)\n",
    "    print(\"Login Successful\")"
   ]
  },
  {
   "cell_type": "markdown",
   "id": "420ee433-9dce-460f-ab4d-0aff7d4eea0e",
   "metadata": {},
   "source": [
    "# Configuration"
   ]
  },
  {
   "cell_type": "code",
   "execution_count": null,
   "id": "3a40db10-6f64-4b6e-a22d-3c7011e2a3fa",
   "metadata": {},
   "outputs": [],
   "source": [
    "cache_dir = '/data'\n",
    "working_dir = '/data'\n",
    "EA = EyeAI(hostname = host, catalog_id = catalog_id, cache_dir= cache_dir, working_dir=working_dir)"
   ]
  },
  {
   "cell_type": "code",
   "execution_count": null,
   "id": "85ad0a5a-4bcc-423b-a020-3e84e7506055",
   "metadata": {},
   "outputs": [],
   "source": [
    "\n",
    "\n",
    "ml_instance.increment_dataset_version(dataset_rid='2-N93J', component= VersionPart.patch, description='Update to latest deriva-ml schema')"
   ]
  },
  {
   "cell_type": "code",
   "execution_count": null,
   "id": "5c7340a9-2356-481b-bbd9-2f1f30955ca7",
   "metadata": {},
   "outputs": [],
   "source": [
    "source_dataset = \"2-N93J\"\n",
    "asset_RID = [\"2-C8JM\"]\n",
    "ml_instance = DerivaML(host, catalog_id=\"eye-ai\")\n",
    "\n",
    "\n",
    "preds_workflow = EA.add_workflow( \n",
    "    Workflow(\n",
    "        name=\"LAC data template\",\n",
    "        url=\"https://github.com/informatics-isi-edu/eye-ai-exec/blob/main/notebooks/Sandbox_KB/Get_VGGPreds.ipynb\",\n",
    "        workflow_type=\"Test Workflow\",\n",
    "        )\n",
    "    )\n",
    "\n",
    "config = ExecutionConfiguration(\n",
    "    datasets=[\n",
    "        {\n",
    "            \"rid\": source_dataset,\n",
    "            \"materialize\": False,\n",
    "            \"version\": ml_instance.dataset_version(source_dataset),\n",
    "        }\n",
    "    ],\n",
    "    assets=asset_RID,\n",
    "    workflow=preds_workflow,\n",
    "    description=\"Instance of linking VGG19 predictions to patient-level data\",\n",
    "    )\n",
    "\n",
    "exec = ml_instance.create_execution(config)"
   ]
  },
  {
   "cell_type": "code",
   "execution_count": null,
   "id": "9db71483-dce2-4fdf-bcbc-0c952989d8f3",
   "metadata": {},
   "outputs": [],
   "source": [
    "print(exec)"
   ]
  },
  {
   "cell_type": "markdown",
   "id": "c97e75f7-8eb7-490c-8ba7-0e00d738a723",
   "metadata": {},
   "source": [
    "# Get Pertinent Datasets"
   ]
  },
  {
   "cell_type": "code",
   "execution_count": null,
   "id": "64273618-87e3-40ed-8e39-a8d176728fb0",
   "metadata": {},
   "outputs": [],
   "source": [
    "ds_bag = exec.datasets[0]"
   ]
  },
  {
   "cell_type": "code",
   "execution_count": null,
   "id": "dfd7cb1c-ad27-4680-af4b-2b7ba739cff1",
   "metadata": {},
   "outputs": [],
   "source": [
    "ds_bag.get_table_as_dataframe('Observation').columns"
   ]
  },
  {
   "cell_type": "code",
   "execution_count": null,
   "id": "8a0aa74e-ad66-4587-91db-4dfdca3da10f",
   "metadata": {},
   "outputs": [],
   "source": [
    "# Function to update column names\n",
    "pd.options.mode.copy_on_write = True\n",
    "def updateCols(df, cols, colDict):\n",
    "    df = df[cols]\n",
    "    df.rename( columns = colDict, inplace = True )\n",
    "    for c in set(cols).intersection( set(colDict) ): cols[cols.index(c)] = colDict.get(c)\n",
    "    return df\n",
    "\n",
    "cols = ['RID', 'Subject_ID', 'Subject_Gender', 'Subject_Ethnicity']\n",
    "colDict = {'Image':'RID_Image', 'Observation':'RID_Observation', 'Subject':'RID_Subject'}\n",
    "\n",
    "\n",
    "ds_bag.get_table_as_dataframe('Subject')\n",
    "\n",
    "\n",
    "\n",
    "\n",
    "\n",
    "\n",
    "\n",
    "# Build up diagnosis DF for Optom and CNN\n",
    "diags = ds_bag.get_table_as_dataframe('Image_Diagnosis')\n",
    "diags = pd.merge( diags[diags['Execution'] == '2-C6E0'],\n",
    "                   diags[diags['Diagnosis_Tag'] == 'Initial Diagnosis'],\n",
    "                   on = 'Image', how = 'left', suffixes = ['_CNN', '_Optom'])\n",
    "\n",
    "diags = updateCols( diags, cols, colDict )\n",
    "del(cols[0])\n",
    "cols[:0] = ['RID_Image', 'Diagnosis_Image_Expert', 'Diagnosis_Image_Expert_Count', 'Diagnosis_BYX', 'Diagnosis_BW', 'Diagnosis_VN', 'CDR_Expert']\n",
    "\n",
    "# Merge onto diagnosis DF for Expert\n",
    "diags = pd.merge( dxExpert, diags, on = 'RID_Image', how = 'left' )\n",
    "\n",
    "# Link to image data\n",
    "linkdDF = pd.merge( ds_bag.get_table_as_dataframe('Image'),\n",
    "                  diags,\n",
    "                  left_on = 'RID', right_on = 'RID_Image', \n",
    "                  how = 'right')\n",
    "\n",
    "cols[:0] = ['Observation', 'Image_Side']\n",
    "linkdDF = updateCols( linkdDF, cols, colDict )\n",
    "\n",
    "# Link to observation data\n",
    "linkdDF = pd.merge( ds_bag.get_table_as_dataframe('Observation'),\n",
    "                   linkdDF,\n",
    "                   left_on = 'RID', right_on = 'RID_Observation', \n",
    "                   how = 'right')\n",
    "\n",
    "cols[:0] = ['Subject', 'date_of_encounter','hba1c', 'dr_level', 'glaucoma_hx', 'consultant', 'Subject_image_quality']  # removed site_mrn\n",
    "linkdDF = updateCols( linkdDF, cols, colDict )\n",
    "\n",
    "# Link to subject data\n",
    "linkdDF = pd.merge( ds_bag.get_table_as_dataframe('Subject'),\n",
    "                   linkdDF,\n",
    "                   left_on = 'RID', right_on = 'RID_Subject', \n",
    "                   how = 'right')\n",
    "\n",
    "cols[:0] = ['RID_Subject', 'Subject_Gender', 'Subject_Ethnicity']  # removed site_mrn\n",
    "del(cols[ np.where( np.array(cols)=='RID_Subject' )[0][1] ]) # remove duplicated RID_Subject\n",
    "linkdDF = updateCols( linkdDF, cols, colDict )"
   ]
  },
  {
   "cell_type": "markdown",
   "id": "7b7f4c40-d50b-481a-b55b-d253ea01c37f",
   "metadata": {},
   "source": [
    "# Upload Results"
   ]
  },
  {
   "cell_type": "code",
   "execution_count": null,
   "id": "f27d4849-0230-4722-afa5-47f03a9d90a2",
   "metadata": {},
   "outputs": [],
   "source": [
    "# crete asset path\n",
    "asset_type_name = \"Diagnosis_Analysis\"\n",
    "asset_path = exec.execution_asset_path(asset_type_name)\n",
    "\n",
    "# save assets to asset_path\n",
    "linkdDF.to_csv(asset_path/'ImagesToVGG19.csv', index=False)\n",
    "dxSubjectDF.to_csv(asset_path/'SubjectsToVGG19.csv', index=False)\n",
    "#parityMetrics.to_csv(asset_path/'ParityMetrics.csv', index=False)\n",
    "\n",
    "# upload assets to catalog\n",
    "exec.upload_execution_outputs(clean_folder=True)"
   ]
  },
  {
   "cell_type": "code",
   "execution_count": null,
   "id": "aaf78fd5-8f9e-4abf-a946-c716b9c86ddd",
   "metadata": {},
   "outputs": [],
   "source": []
  }
 ],
 "metadata": {
  "language_info": {
   "name": "python"
  }
 },
 "nbformat": 4,
 "nbformat_minor": 5
}
