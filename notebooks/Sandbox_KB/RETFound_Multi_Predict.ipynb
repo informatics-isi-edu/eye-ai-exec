{
 "cells": [
  {
   "cell_type": "markdown",
   "metadata": {},
   "source": [
    "# Initial Setup:\n",
    "This step initializes the necessary configuration."
   ]
  },
  {
   "cell_type": "code",
   "execution_count": 1,
   "metadata": {},
   "outputs": [],
   "source": [
    "repo_dir = \"Repos\"   # Set this to be where your github repos are located.\n",
    "%load_ext autoreload\n",
    "%autoreload 2\n",
    "\n",
    "# Update the load path so python can find modules for the model\n",
    "import sys\n",
    "from pathlib import Path\n",
    "sys.path.insert(0, str(Path.home() / repo_dir / \"eye-ai-ml\"))\n",
    "sys.path.insert(0, str(Path.home() / repo_dir / \"RETFound_MAE\"))"
   ]
  },
  {
   "cell_type": "code",
   "execution_count": 2,
   "metadata": {},
   "outputs": [],
   "source": [
    "# Prerequisits\n",
    "import json\n",
    "import os\n",
    "import shutil\n",
    "from PIL import Image\n",
    "\n",
    "# EyeAI, Deriva, VGG19\n",
    "from deriva_ml import DatasetSpec, DatasetBag, Workflow, ExecutionConfiguration, VersionPart, DatasetVersion\n",
    "from deriva_ml import MLVocab as vc\n",
    "from eye_ai.eye_ai import EyeAI\n",
    "\n",
    "# ML Analytics\n",
    "import torch\n",
    "import pandas as pd\n",
    "import numpy as np\n",
    "from sklearn.calibration import calibration_curve\n",
    "from sklearn.metrics import roc_curve, auc\n",
    "import matplotlib.pyplot as plt\n",
    "\n",
    "# Other Utilities\n",
    "from pathlib import Path, PurePath\n",
    "import logging\n",
    "from datetime import datetime\n",
    "\n",
    "logging.basicConfig(level=logging.INFO, format='%(asctime)s - %(levelname)s - %(message)s', force=True)"
   ]
  },
  {
   "cell_type": "code",
   "execution_count": 3,
   "metadata": {},
   "outputs": [
    {
     "name": "stderr",
     "output_type": "stream",
     "text": [
      "2025-06-23 11:43:36,060 - INFO - Creating client of type <class 'globus_sdk.services.auth.client.native_client.NativeAppAuthClient'> for service \"auth\"\n",
      "2025-06-23 11:43:36,061 - INFO - Finished initializing AuthLoginClient. client_id='8ef15ba9-2b4a-469c-a163-7fd910c9d111', type(authorizer)=<class 'globus_sdk.authorizers.base.NullAuthorizer'>\n"
     ]
    },
    {
     "name": "stdout",
     "output_type": "stream",
     "text": [
      "You are already logged in.\n"
     ]
    }
   ],
   "source": [
    "from deriva.core.utils.globus_auth_utils import GlobusNativeLogin\n",
    "catalog_id = \"eye-ai\" #@param\n",
    "host = 'www.eye-ai.org'\n",
    "\n",
    "\n",
    "gnl = GlobusNativeLogin(host=host)\n",
    "if gnl.is_logged_in([host]):\n",
    "    print(\"You are already logged in.\")\n",
    "else:\n",
    "    gnl.login([host], no_local_server=True, no_browser=True, refresh_tokens=True, update_bdbag_keychain=True)\n",
    "    print(\"Login Successful\")"
   ]
  },
  {
   "cell_type": "code",
   "execution_count": 4,
   "metadata": {},
   "outputs": [
    {
     "name": "stderr",
     "output_type": "stream",
     "text": [
      "2025-06-23 11:43:36,932 - INFO - Creating client of type <class 'globus_sdk.services.auth.client.native_client.NativeAppAuthClient'> for service \"auth\"\n",
      "2025-06-23 11:43:36,933 - INFO - Finished initializing AuthLoginClient. client_id='8ef15ba9-2b4a-469c-a163-7fd910c9d111', type(authorizer)=<class 'globus_sdk.authorizers.base.NullAuthorizer'>\n"
     ]
    }
   ],
   "source": [
    "cache_dir = '/data'\n",
    "working_dir = '/data'\n",
    "EA = EyeAI(hostname = host, catalog_id = catalog_id, cache_dir= cache_dir, working_dir=working_dir)"
   ]
  },
  {
   "cell_type": "markdown",
   "metadata": {},
   "source": [
    "# Downloading Dataset:"
   ]
  },
  {
   "cell_type": "code",
   "execution_count": 5,
   "metadata": {},
   "outputs": [
    {
     "name": "stderr",
     "output_type": "stream",
     "text": [
      "2025-06-23 11:43:42,069 - INFO - Materialize bag 4-YWKJ... \n",
      "2025-06-23 11:43:42,302 - INFO - Creating client of type <class 'globus_sdk.services.auth.client.native_client.NativeAppAuthClient'> for service \"auth\"\n",
      "2025-06-23 11:43:42,303 - INFO - Finished initializing AuthLoginClient. client_id='8ef15ba9-2b4a-469c-a163-7fd910c9d111', type(authorizer)=<class 'globus_sdk.authorizers.base.NullAuthorizer'>\n",
      "2025-06-23 11:43:43,574 - INFO - Using cached bag for  4-YWKJ Version:0.2.0\n",
      "2025-06-23 11:43:43,574 - INFO - Loading /data/4-YWKJ_44b67c208c639554dd582f1575a7466fd853affad87411a7f99d28c7559acbbb/Dataset_4-YWKJ\n",
      "2025-06-23 11:43:44,192 - INFO - Creating new database for dataset: 4-YWKJ in /data/kb_766/EyeAI_working/4-YWKJ@33F-J5QX-5CCA.db\n",
      "2025-06-23 11:43:44,243 - INFO - Downloading assets ...\n",
      "2025-06-23 11:44:42,901 - INFO - File [/data/kb_766/EyeAI_working/deriva-ml/execution/4-YXAG/downloaded-assets/Execution_Asset/2-277G_cropped_Mar_11_2025.pth] transfer successful. 3471.44 MB transferred at 59.50 MB/second. Elapsed time: 0:00:58.341002.\n",
      "2025-06-23 11:44:44,754 - INFO - Initialize status finished.\n"
     ]
    }
   ],
   "source": [
    "source_dataset = \"4-YWKJ\" # USC test set\n",
    "crop = True\n",
    "\n",
    "if crop:\n",
    "    asset_RID = [\"4-QAGW\"]  # RETFound cropped\n",
    "else:\n",
    "    asset_RID = [\"4-QAGT\"]  # RETFound uncropped\n",
    "\n",
    "preds_workflow = EA.add_workflow( \n",
    "    Workflow(\n",
    "        name=\"RETFound Predictions by KB\",\n",
    "        url=\"https://github.com/informatics-isi-edu/eye-ai-exec/blob/main/notebooks/Sandbox_KB/RETFound_Multi_Predict.ipynb\",\n",
    "        workflow_type=\"Test Workflow\",\n",
    "        )\n",
    "    )\n",
    "\n",
    "config = ExecutionConfiguration(\n",
    "    datasets=[ DatasetSpec(rid=source_dataset, version=EA.dataset_version(source_dataset), materialize=True) ],\n",
    "    assets=asset_RID,\n",
    "    workflow=preds_workflow,\n",
    "    description=f\"Instance of creating RETFound predictions: RETFound on 4-YWKJ USC Test with Crop = {crop}\",\n",
    "    )\n",
    "\n",
    "execution = EA.create_execution(config)"
   ]
  },
  {
   "cell_type": "code",
   "execution_count": 6,
   "metadata": {},
   "outputs": [
    {
     "name": "stdout",
     "output_type": "stream",
     "text": [
      "caching_dir: /data\n",
      "_working_dir: /data/kb_766/EyeAI_working\n",
      "execution_rid: 4-YXAG\n",
      "workflow_rid: 4-YX8A\n",
      "asset_paths: {'Execution_Asset': [AssetFilePath('/data/kb_766/EyeAI_working/deriva-ml/execution/4-YXAG/downloaded-assets/Execution_Asset/2-277G_cropped_Mar_11_2025.pth')]}\n",
      "configuration: datasets=[DatasetSpec(rid='4-YWKJ', materialize=True, version=DatasetVersion(major=0, minor=2, patch=0))] assets=['4-QAGW'] workflow='4-YX8A' parameters={} description='Instance of creating RETFound predictions: RETFound Uncropped on 4-YWKJ USC Test' argv=['/home/kb_766/.conda/envs/eye-ai-retfound/lib/python3.10/site-packages/ipykernel_launcher.py', '-f', '/home/kb_766/.local/share/jupyter/runtime/kernel-fc264ea7-d1bc-498f-b427-e2efb050b8f9.json']\n"
     ]
    }
   ],
   "source": [
    "print(execution)"
   ]
  },
  {
   "cell_type": "markdown",
   "metadata": {},
   "source": [
    "# Preprocessing:\n",
    "Crop the images and move them to the designated folder for training, validation, and testing.          "
   ]
  },
  {
   "cell_type": "code",
   "execution_count": 7,
   "metadata": {},
   "outputs": [],
   "source": [
    "ds_bag_test = execution.datasets[0]\n",
    "model_path = str(execution.asset_paths['Execution_Asset'][0])"
   ]
  },
  {
   "cell_type": "code",
   "execution_count": 8,
   "metadata": {},
   "outputs": [
    {
     "data": {
      "text/plain": [
       "PosixPath('/data/kb_766/EyeAI_working/4-YXAG')"
      ]
     },
     "execution_count": 8,
     "metadata": {},
     "output_type": "execute_result"
    }
   ],
   "source": [
    "output_dir = execution._working_dir / execution.execution_rid\n",
    "output_dir.mkdir(parents=True, exist_ok=True)\n",
    "output_dir"
   ]
  },
  {
   "cell_type": "code",
   "execution_count": 9,
   "metadata": {},
   "outputs": [
    {
     "data": {
      "text/plain": [
       "PosixPath('/data/kb_766/EyeAI_working/4-YXAG/dataset/test')"
      ]
     },
     "execution_count": 9,
     "metadata": {},
     "output_type": "execute_result"
    }
   ],
   "source": [
    "# FOR USC MULTIMODAL DATA\n",
    "# Group files as glaucoma/not for RETFound evaluation\n",
    "\n",
    "imageDF = ds_bag_test.get_table_as_dataframe('Image')\n",
    "annotation_bounding_box =  pd.merge( ds_bag_test.get_table_as_dataframe('Annotation')[['Image', 'Fundus_Bounding_Box']], \n",
    "                                                ds_bag_test.get_table_as_dataframe('Fundus_Bounding_Box'), \n",
    "                                                left_on='Fundus_Bounding_Box', \n",
    "                                                right_on='RID')\n",
    "\n",
    "data_path = output_dir / \"dataset\"\n",
    "output_path =  data_path / \"test\"\n",
    "output_path_no = output_path / \"No_Glaucoma\"\n",
    "output_path_glaucoma = output_path / \"Suspected_Glaucoma\"\n",
    "\n",
    "output_path.mkdir(parents=True, exist_ok=True)\n",
    "output_path_no.mkdir(parents=True, exist_ok=True)\n",
    "output_path_glaucoma.mkdir(parents=True, exist_ok=True)\n",
    "\n",
    "for index, row in imageDF.iterrows():     \n",
    "    src_path = row[\"Filename\"]\n",
    "    image_rid = row[\"RID\"]\n",
    "    dest_name = image_rid + \".jpg\"\n",
    "    if crop: dest_name = \"Crop_\" + dest_name\n",
    "    label = image_rid.split( sep = \"-\" )[0]\n",
    "    \n",
    "    if label == \"4\":\n",
    "        dest_path = os.path.join(output_path_no, dest_name)\n",
    "    elif label == \"2\":\n",
    "        dest_path = os.path.join(output_path_glaucoma, dest_name)\n",
    "    else: \n",
    "        continue    \n",
    "    \n",
    "    if crop:\n",
    "        image = Image.open(src_path)\n",
    "        svg_path = annotation_bounding_box.loc[annotation_bounding_box['Image'] == image_rid, 'Filename'].values[0]\n",
    "        svg_path = Path(svg_path)\n",
    "        if not svg_path.exists():\n",
    "          continue\n",
    "        bbox = EA.get_bounding_box(svg_path)\n",
    "        cropped_image = image.crop(bbox)\n",
    "        cropped_image.save(dest_path)\n",
    "    else:\n",
    "        shutil.copy2(src_path, dest_path)\n",
    "\n",
    "output_path"
   ]
  },
  {
   "cell_type": "code",
   "execution_count": 10,
   "metadata": {},
   "outputs": [
    {
     "data": {
      "text/plain": [
       "'/data/kb_766/EyeAI_working/4-YXAG/dataset/val/Suspected_Glaucoma/Multimodal_1324_Multimodal_2768_Multimodal_11567_Right_Field_2.jpg'"
      ]
     },
     "execution_count": 10,
     "metadata": {},
     "output_type": "execute_result"
    }
   ],
   "source": [
    "# Make train/val directories\n",
    "# Necessary even if only evaluating\n",
    "\n",
    "train_no = output_dir / \"dataset\" / \"train\" / \"No_Glaucoma\"\n",
    "train_glacuoma = output_dir / \"dataset\" / \"train\" / \"Suspected_Glaucoma\"\n",
    "val_no = output_dir / \"dataset\" / \"val\" / \"No_Glaucoma\"\n",
    "val_glaucoma = output_dir / \"dataset\" / \"val\" / \"Suspected_Glaucoma\"\n",
    "\n",
    "train_no.mkdir(parents=True, exist_ok=True)\n",
    "train_glacuoma.mkdir(parents=True, exist_ok=True)\n",
    "val_no.mkdir(parents=True, exist_ok=True)\n",
    "val_glaucoma.mkdir(parents=True, exist_ok=True)\n",
    "\n",
    "# Add single image to each ... again, necessary even if only evaluating\n",
    "shutil.copy2( src_path, train_no )\n",
    "shutil.copy2( src_path, train_glacuoma )\n",
    "shutil.copy2( src_path, val_no )\n",
    "shutil.copy2( src_path, val_glaucoma )"
   ]
  },
  {
   "cell_type": "code",
   "execution_count": 11,
   "metadata": {},
   "outputs": [
    {
     "name": "stdout",
     "output_type": "stream",
     "text": [
      "Jun_23_2025\n"
     ]
    }
   ],
   "source": [
    "from datetime import datetime\n",
    "current_date = datetime.now().strftime(\"%b_%d_%Y\") \n",
    "print(current_date)"
   ]
  },
  {
   "cell_type": "code",
   "execution_count": 12,
   "metadata": {},
   "outputs": [],
   "source": [
    "! rm -r -f \"./RETFound_output/\""
   ]
  },
  {
   "cell_type": "code",
   "execution_count": 13,
   "metadata": {},
   "outputs": [],
   "source": [
    "RETFound_output = \"./RETFound_output/task\"\n",
    "os.makedirs(RETFound_output, exist_ok= True)"
   ]
  },
  {
   "cell_type": "markdown",
   "metadata": {},
   "source": [
    "# Training Arguments\n",
    "\n",
    "<details>\n",
    "  <summary>Click to expand</summary>\n",
    "\n",
    "## General Training\n",
    "- `--batch_size`: Batch size per GPU (default: `128`)\n",
    "- `--epochs`: Number of training epochs (default: `50`)\n",
    "- `--accum_iter`: Accumulate gradient iterations (default: `1`)\n",
    "\n",
    "## Model Parameters\n",
    "- `--model`: Name of model to train (default: `'RETFound_mae'`)\n",
    "- `--input_size`: Image input size (default: `256`)\n",
    "- `--drop_path`: Drop path rate (default: `0.2`)\n",
    "\n",
    "## Optimizer Parameters\n",
    "- `--clip_grad`: Clip gradient norm (default: `None`)\n",
    "- `--weight_decay`: Weight decay (default: `0.05`)\n",
    "- `--lr`: Learning rate (absolute) (default: `None`)\n",
    "- `--blr`: Base learning rate (default: `5e-3`)\n",
    "- `--layer_decay`: Layer-wise learning rate decay (default: `0.65`)\n",
    "- `--min_lr`: Lower bound for cyclic schedulers (default: `1e-6`)\n",
    "- `--warmup_epochs`: Number of warmup epochs (default: `10`)\n",
    "\n",
    "## Augmentation Parameters\n",
    "- `--color_jitter`: Color jitter factor (default: `None`)\n",
    "- `--aa`: AutoAugment policy (default: `'rand-m9-mstd0.5-inc1'`)\n",
    "- `--smoothing`: Label smoothing (default: `0.1`)\n",
    "\n",
    "## Random Erase Parameters\n",
    "- `--reprob`: Random erase probability (default: `0.25`)\n",
    "- `--remode`: Random erase mode (default: `'pixel'`)\n",
    "- `--recount`: Random erase count (default: `1`)\n",
    "- `--resplit`: Do not random erase first augmentation split (default: `False`)\n",
    "\n",
    "## Mixup Parameters\n",
    "- `--mixup`: Mixup alpha (default: `0`, enabled if > 0)\n",
    "- `--cutmix`: CutMix alpha (default: `0`, enabled if > 0)\n",
    "- `--cutmix_minmax`: CutMix min/max ratio (default: `None`)\n",
    "- `--mixup_prob`: Probability of performing Mixup or CutMix (default: `1.0`)\n",
    "- `--mixup_switch_prob`: Probability of switching to CutMix (default: `0.5`)\n",
    "- `--mixup_mode`: Mode of applying Mixup/CutMix (default: `'batch'`)\n",
    "\n",
    "## Finetuning Parameters\n",
    "- `--finetune`: Finetune from checkpoint (default: `''`)\n",
    "- `--task`: Task type for finetuning (default: `''`)\n",
    "- `--global_pool`: Use global pooling (default: `True`)\n",
    "- `--cls_token`: Use class token instead of global pool (default: `False`)\n",
    "\n",
    "## Dataset Parameters\n",
    "- `--data_path`: Dataset path (default: `'./data/'`)\n",
    "- `--nb_classes`: Number of classification categories (default: `8`)\n",
    "- `--output_dir`: Path to save output (default: `'./output_dir'`)\n",
    "- `--log_dir`: Path for TensorBoard logs (default: `'./output_logs'`)\n",
    "- `--device`: Device to use for training/testing (default: `'cuda'`)\n",
    "- `--seed`: Random seed (default: `0`)\n",
    "- `--resume`: Resume from checkpoint (default: `''`)\n",
    "- `--start_epoch`: Start epoch number (default: `0`)\n",
    "- `--eval`: Perform evaluation only (default: `False`)\n",
    "- `--dist_eval`: Enable distributed evaluation (default: `False`)\n",
    "- `--num_workers`: Number of DataLoader workers (default: `10`)\n",
    "- `--pin_mem`: Pin CPU memory in DataLoader for efficient GPU transfer (default: `True`)\n",
    "\n",
    "## Distributed Training Parameters\n",
    "- `--world_size`: Number of distributed processes (default: `1`)\n",
    "- `--local_rank`: Local rank for distributed training (default: `-1`)\n",
    "- `--dist_on_itp`: Enable distributed training on ITP (default: `False`)\n",
    "- `--dist_url`: URL for distributed training setup (default: `'env://'`)\n",
    "\n",
    "## Additional Fine-Tuning Parameters\n",
    "- `--savemodel`: Save the trained model (default: `True`)\n",
    "- `--norm`: Normalization method (default: `'IMAGENET'`)\n",
    "- `--enhance`: Use enhanced data (default: `False`)\n",
    "- `--datasets_seed`: Dataset random seed (default: `2026`)\n"
   ]
  },
  {
   "cell_type": "markdown",
   "metadata": {
    "jp-MarkdownHeadingCollapsed": true
   },
   "source": [
    "# Train and Evaluate:"
   ]
  },
  {
   "cell_type": "code",
   "execution_count": null,
   "metadata": {},
   "outputs": [],
   "source": [
    "from main_finetune import main, get_args_parser \n",
    "with execution.execute() as exec:\n",
    "    args_list = [\n",
    "        \"--model\", \"RETFound_mae\", # If you are using 4-S3KP asset, this would be RETFound_dinov2, which I would recommend take a look into.\n",
    "        \"--savemodel\",\n",
    "        \"--global_pool\",\n",
    "        \"--batch_size\", \"16\",\n",
    "        \"--world_size\", \"1\",\n",
    "        \"--epochs\", \"100\",\n",
    "        \"--blr\", \"5e-3\", \"--layer_decay\", \"0.65\",\n",
    "        \"--weight_decay\", \"0.05\", \"--drop_path\", \"0.2\",\n",
    "        \"--nb_classes\", \"2\",\n",
    "        \"--data_path\", str(dataset_dir),\n",
    "        \"--input_size\", \"224\",\n",
    "        \"--task\", str(RETFound_output),\n",
    "        \"--output_dir\", str(RETFound_output),\n",
    "        \"--finetune\", str(retfound_pretrained_weight),\n",
    "    ]\n",
    "\n",
    "    args = get_args_parser().parse_args(args_list)\n",
    "    if args.output_dir:\n",
    "        Path(args.output_dir).mkdir(parents=True, exist_ok=True)\n",
    "\n",
    "    main(args)"
   ]
  },
  {
   "cell_type": "markdown",
   "metadata": {},
   "source": [
    "# Evaluate Only:\n",
    "If you already have a RETFound model, provide its path here to evaluate it directly."
   ]
  },
  {
   "cell_type": "code",
   "execution_count": 14,
   "metadata": {},
   "outputs": [
    {
     "name": "stderr",
     "output_type": "stream",
     "text": [
      "2025-06-23 11:46:26.162832: E external/local_xla/xla/stream_executor/cuda/cuda_dnn.cc:9261] Unable to register cuDNN factory: Attempting to register factory for plugin cuDNN when one has already been registered\n",
      "2025-06-23 11:46:26.162878: E external/local_xla/xla/stream_executor/cuda/cuda_fft.cc:607] Unable to register cuFFT factory: Attempting to register factory for plugin cuFFT when one has already been registered\n",
      "2025-06-23 11:46:26.166615: E external/local_xla/xla/stream_executor/cuda/cuda_blas.cc:1515] Unable to register cuBLAS factory: Attempting to register factory for plugin cuBLAS when one has already been registered\n",
      "2025-06-23 11:46:26.179580: I tensorflow/core/platform/cpu_feature_guard.cc:182] This TensorFlow binary is optimized to use available CPU instructions in performance-critical operations.\n",
      "To enable the following instructions: AVX2 FMA, in other operations, rebuild TensorFlow with the appropriate compiler flags.\n",
      "2025-06-23 11:46:27.657711: W tensorflow/compiler/tf2tensorrt/utils/py_utils.cc:38] TF-TRT Warning: Could not find TensorRT\n",
      "2025-06-23 11:46:31,093 - INFO - Start execution  ...\n",
      "2025-06-23 11:46:31,378 - INFO - Start execution  ...\n"
     ]
    },
    {
     "name": "stdout",
     "output_type": "stream",
     "text": [
      "Not using distributed mode\n",
      "[11:46:31.434624] job dir: /home/kb_766/Repos/RETFound_MAE\n",
      "[11:46:31.434704] Namespace(batch_size=16,\n",
      "epochs=100,\n",
      "accum_iter=1,\n",
      "model='RETFound_mae',\n",
      "input_size=224,\n",
      "drop_path=0.2,\n",
      "clip_grad=None,\n",
      "weight_decay=0.05,\n",
      "lr=None,\n",
      "blr=0.005,\n",
      "layer_decay=0.65,\n",
      "min_lr=1e-06,\n",
      "warmup_epochs=10,\n",
      "color_jitter=None,\n",
      "aa='rand-m9-mstd0.5-inc1',\n",
      "smoothing=0.1,\n",
      "reprob=0.25,\n",
      "remode='pixel',\n",
      "recount=1,\n",
      "resplit=False,\n",
      "mixup=0,\n",
      "cutmix=0,\n",
      "cutmix_minmax=None,\n",
      "mixup_prob=1.0,\n",
      "mixup_switch_prob=0.5,\n",
      "mixup_mode='batch',\n",
      "finetune='',\n",
      "task='./RETFound_output/task',\n",
      "global_pool=True,\n",
      "data_path='/data/kb_766/EyeAI_working/4-YXAG/dataset',\n",
      "nb_classes=5,\n",
      "output_dir='./RETFound_output/task',\n",
      "log_dir='./output_logs',\n",
      "device='cuda',\n",
      "seed=0,\n",
      "resume='/data/kb_766/EyeAI_working/deriva-ml/execution/4-YXAG/downloaded-assets/Execution_Asset/2-277G_cropped_Mar_11_2025.pth',\n",
      "start_epoch=0,\n",
      "eval=True,\n",
      "dist_eval=False,\n",
      "num_workers=10,\n",
      "pin_mem=True,\n",
      "early_stop_patience=0,\n",
      "world_size=1,\n",
      "local_rank=-1,\n",
      "dist_on_itp=False,\n",
      "dist_url='env://',\n",
      "savemodel=True,\n",
      "norm='IMAGENET',\n",
      "enhance=False,\n",
      "datasets_seed=2026,\n",
      "distributed=False)\n",
      "[11:46:35.055669] Classes: ['No_Glaucoma', 'Suspected_Glaucoma']\n",
      "[11:46:35.055781] Class-to-Index Mapping: {'No_Glaucoma': 0, 'Suspected_Glaucoma': 1}\n",
      "[11:46:35.055802] Number of Classes: 2\n",
      "[11:46:35.056188] Classes: ['No_Glaucoma', 'Suspected_Glaucoma']\n",
      "[11:46:35.056215] Class-to-Index Mapping: {'No_Glaucoma': 0, 'Suspected_Glaucoma': 1}\n",
      "[11:46:35.056233] Number of Classes: 2\n",
      "[11:46:35.057021] Classes: ['No_Glaucoma', 'Suspected_Glaucoma']\n",
      "[11:46:35.057060] Class-to-Index Mapping: {'No_Glaucoma': 0, 'Suspected_Glaucoma': 1}\n",
      "[11:46:35.057078] Number of Classes: 2\n"
     ]
    },
    {
     "name": "stderr",
     "output_type": "stream",
     "text": [
      "/home/kb_766/.conda/envs/eye-ai-retfound/lib/python3.10/site-packages/torch/utils/data/dataloader.py:558: UserWarning: This DataLoader will create 10 worker processes in total. Our suggested max number of worker in current system is 4, which is smaller than what this DataLoader is going to create. Please be aware that excessive worker creation might get DataLoader running slow or even freeze, lower the worker number to avoid potential slowness/freeze if necessary.\n",
      "  warnings.warn(_create_warning_msg(\n"
     ]
    },
    {
     "name": "stdout",
     "output_type": "stream",
     "text": [
      "[11:46:36.229943] Load checkpoint from: /data/kb_766/EyeAI_working/deriva-ml/execution/4-YXAG/downloaded-assets/Execution_Asset/2-277G_cropped_Mar_11_2025.pth\n",
      "[11:46:36.671486] number of model params (M): 303.31\n",
      "[11:46:36.671615] base lr: 5.00e-03\n",
      "[11:46:36.671632] actual lr: 3.13e-04\n",
      "[11:46:36.671646] accumulate grad iterations: 1\n",
      "[11:46:36.671658] effective batch size: 16\n",
      "[11:46:36.676717] criterion = CrossEntropyLoss()\n",
      "[11:46:37.903240] Resume checkpoint /data/kb_766/EyeAI_working/deriva-ml/execution/4-YXAG/downloaded-assets/Execution_Asset/2-277G_cropped_Mar_11_2025.pth\n",
      "[11:46:38.003494] Test with the best model at epoch = 38\n",
      "[11:46:41.639115] test:  [ 0/19]  eta: 0:01:08  loss: 1.1102 (1.1102)  time: 3.6291  data: 2.4523  max mem: 1832\n",
      "[11:46:43.368942] test:  [10/19]  eta: 0:00:04  loss: 1.0950 (1.1380)  time: 0.4871  data: 0.3269  max mem: 1833\n",
      "[11:46:43.832529] test:  [18/19]  eta: 0:00:00  loss: 0.5700 (0.8352)  time: 0.3064  data: 0.1893  max mem: 1833\n",
      "[11:46:44.043792] test: Total time: 0:00:06 (0.3176 s / it)\n",
      "[11:46:44.063188] Skipping ROC AUC calculation due to error: Only one class present in y_true. ROC AUC score is not defined in that case.\n",
      "[11:46:44.063227] val loss: 0.8351692400480571\n",
      "[11:46:44.063248] Accuracy: 0.6867, F1 Score: 0.2719, ROC AUC: 0.0000, Hamming Loss: 0.1253,\n",
      " Jaccard Score: 0.2067, Precision: 0.2817, Recall: 0.2747,\n",
      " Average Precision: 0.3145, Kappa: 0.3733, Score: 0.2151\n"
     ]
    },
    {
     "name": "stderr",
     "output_type": "stream",
     "text": [
      "/home/kb_766/.conda/envs/eye-ai-retfound/lib/python3.10/site-packages/sklearn/metrics/_classification.py:1509: UndefinedMetricWarning: Jaccard is ill-defined and being set to 0.0 in labels with no true or predicted samples. Use `zero_division` parameter to control this behavior.\n",
      "  _warn_prf(average, modifier, f\"{metric.capitalize()} is\", len(result))\n",
      "/home/kb_766/.conda/envs/eye-ai-retfound/lib/python3.10/site-packages/sklearn/metrics/_ranking.py:993: UserWarning: No positive class found in y_true, recall is set to one for all thresholds.\n",
      "  warnings.warn(\n",
      "/home/kb_766/.conda/envs/eye-ai-retfound/lib/python3.10/site-packages/sklearn/metrics/_ranking.py:993: UserWarning: No positive class found in y_true, recall is set to one for all thresholds.\n",
      "  warnings.warn(\n",
      "/home/kb_766/.conda/envs/eye-ai-retfound/lib/python3.10/site-packages/sklearn/metrics/_ranking.py:993: UserWarning: No positive class found in y_true, recall is set to one for all thresholds.\n",
      "  warnings.warn(\n",
      "2025-06-23 11:46:44,878 - INFO - Successfully run Ml.\n",
      "2025-06-23 11:46:44,920 - INFO - Algorithm execution ended.\n"
     ]
    },
    {
     "data": {
      "image/png": "[encoded data removed]",
      "text/plain": [
       "<Figure size 640x480 with 2 Axes>"
      ]
     },
     "metadata": {},
     "output_type": "display_data"
    }
   ],
   "source": [
    "from main_finetune import main, get_args_parser \n",
    "with execution.execute() as exec:\n",
    "    path_to_model = model_path\n",
    "    args_list = [\n",
    "        \"--model\", \"RETFound_mae\",\n",
    "        \"--eval\",\n",
    "        \"--savemodel\",\n",
    "        \"--global_pool\",\n",
    "        \"--batch_size\", \"16\",\n",
    "        \"--world_size\", \"1\",\n",
    "        \"--epochs\", \"100\",\n",
    "        \"--blr\", \"5e-3\", \"--layer_decay\", \"0.65\",\n",
    "        \"--weight_decay\", \"0.05\", \"--drop_path\", \"0.2\",\n",
    "        \"--nb_classes\", \"5\",\n",
    "        \"--data_path\", str(data_path),\n",
    "        \"--input_size\", \"224\",\n",
    "        \"--task\", str(RETFound_output),\n",
    "        \"--output_dir\", str(RETFound_output),\n",
    "        \"--resume\", path_to_model,\n",
    "    ]\n",
    "\n",
    "    args = get_args_parser().parse_args(args_list)\n",
    "    if args.output_dir:\n",
    "        Path(args.output_dir).mkdir(parents=True, exist_ok=True)\n",
    "\n",
    "    main(args)"
   ]
  },
  {
   "cell_type": "code",
   "execution_count": 15,
   "metadata": {},
   "outputs": [
    {
     "data": {
      "text/html": [
       "<div>\n",
       "<style scoped>\n",
       "    .dataframe tbody tr th:only-of-type {\n",
       "        vertical-align: middle;\n",
       "    }\n",
       "\n",
       "    .dataframe tbody tr th {\n",
       "        vertical-align: top;\n",
       "    }\n",
       "\n",
       "    .dataframe thead th {\n",
       "        text-align: right;\n",
       "    }\n",
       "</style>\n",
       "<table border=\"1\" class=\"dataframe\">\n",
       "  <thead>\n",
       "    <tr style=\"text-align: right;\">\n",
       "      <th></th>\n",
       "      <th>Filename</th>\n",
       "      <th>True Label</th>\n",
       "      <th>Prediction</th>\n",
       "      <th>Probability Score</th>\n",
       "    </tr>\n",
       "  </thead>\n",
       "  <tbody>\n",
       "    <tr>\n",
       "      <th>0</th>\n",
       "      <td>Crop_4-YRP6.jpg</td>\n",
       "      <td>0</td>\n",
       "      <td>0</td>\n",
       "      <td>0.1880</td>\n",
       "    </tr>\n",
       "    <tr>\n",
       "      <th>1</th>\n",
       "      <td>Crop_4-YRPA.jpg</td>\n",
       "      <td>0</td>\n",
       "      <td>1</td>\n",
       "      <td>0.6016</td>\n",
       "    </tr>\n",
       "    <tr>\n",
       "      <th>2</th>\n",
       "      <td>Crop_4-YRPE.jpg</td>\n",
       "      <td>0</td>\n",
       "      <td>0</td>\n",
       "      <td>0.4458</td>\n",
       "    </tr>\n",
       "    <tr>\n",
       "      <th>3</th>\n",
       "      <td>Crop_4-YRPG.jpg</td>\n",
       "      <td>0</td>\n",
       "      <td>1</td>\n",
       "      <td>0.8604</td>\n",
       "    </tr>\n",
       "    <tr>\n",
       "      <th>4</th>\n",
       "      <td>Crop_4-YRPJ.jpg</td>\n",
       "      <td>0</td>\n",
       "      <td>0</td>\n",
       "      <td>0.4478</td>\n",
       "    </tr>\n",
       "    <tr>\n",
       "      <th>...</th>\n",
       "      <td>...</td>\n",
       "      <td>...</td>\n",
       "      <td>...</td>\n",
       "      <td>...</td>\n",
       "    </tr>\n",
       "    <tr>\n",
       "      <th>295</th>\n",
       "      <td>Crop_2-C2ZR.jpg</td>\n",
       "      <td>1</td>\n",
       "      <td>1</td>\n",
       "      <td>0.9450</td>\n",
       "    </tr>\n",
       "    <tr>\n",
       "      <th>296</th>\n",
       "      <td>Crop_2-C382.jpg</td>\n",
       "      <td>1</td>\n",
       "      <td>1</td>\n",
       "      <td>0.9487</td>\n",
       "    </tr>\n",
       "    <tr>\n",
       "      <th>297</th>\n",
       "      <td>Crop_2-C38R.jpg</td>\n",
       "      <td>1</td>\n",
       "      <td>1</td>\n",
       "      <td>0.8010</td>\n",
       "    </tr>\n",
       "    <tr>\n",
       "      <th>298</th>\n",
       "      <td>Crop_2-C3DG.jpg</td>\n",
       "      <td>1</td>\n",
       "      <td>1</td>\n",
       "      <td>0.9470</td>\n",
       "    </tr>\n",
       "    <tr>\n",
       "      <th>299</th>\n",
       "      <td>Crop_2-C3JM.jpg</td>\n",
       "      <td>1</td>\n",
       "      <td>1</td>\n",
       "      <td>0.9272</td>\n",
       "    </tr>\n",
       "  </tbody>\n",
       "</table>\n",
       "<p>300 rows × 4 columns</p>\n",
       "</div>"
      ],
      "text/plain": [
       "            Filename  True Label  Prediction  Probability Score\n",
       "0    Crop_4-YRP6.jpg           0           0             0.1880\n",
       "1    Crop_4-YRPA.jpg           0           1             0.6016\n",
       "2    Crop_4-YRPE.jpg           0           0             0.4458\n",
       "3    Crop_4-YRPG.jpg           0           1             0.8604\n",
       "4    Crop_4-YRPJ.jpg           0           0             0.4478\n",
       "..               ...         ...         ...                ...\n",
       "295  Crop_2-C2ZR.jpg           1           1             0.9450\n",
       "296  Crop_2-C382.jpg           1           1             0.9487\n",
       "297  Crop_2-C38R.jpg           1           1             0.8010\n",
       "298  Crop_2-C3DG.jpg           1           1             0.9470\n",
       "299  Crop_2-C3JM.jpg           1           1             0.9272\n",
       "\n",
       "[300 rows x 4 columns]"
      ]
     },
     "execution_count": 15,
     "metadata": {},
     "output_type": "execute_result"
    }
   ],
   "source": [
    "#pd.read_csv('./RETFound_output/task/RETFound_output/task/metrics_test.csv')\n",
    "pd.read_csv('./RETFound_output/task/RETFound_output/task/roc_predictions_test.csv')  "
   ]
  },
  {
   "cell_type": "code",
   "execution_count": 16,
   "metadata": {},
   "outputs": [
    {
     "data": {
      "image/png": "[encoded data removed]",
      "text/plain": [
       "<Figure size 640x480 with 1 Axes>"
      ]
     },
     "metadata": {},
     "output_type": "display_data"
    }
   ],
   "source": [
    "# Calibration curve\n",
    "from sklearn.calibration import calibration_curve\n",
    "import matplotlib.pyplot as plt\n",
    "\n",
    "preds = pd.read_csv('./RETFound_output/task/RETFound_output/task/roc_predictions_test.csv') \n",
    "prob_true, prob_pred = calibration_curve( preds[\"True Label\"], preds[\"Probability Score\"], n_bins=10, strategy='uniform')\n",
    "plt.plot(prob_pred, prob_true, marker='o', label='Model')\n",
    "plt.plot([0, 1], [0, 1], linestyle='--', label='Perfectly calibrated')\n",
    "plt.xlabel('Mean predicted probability')\n",
    "plt.ylabel('Fraction of positives')\n",
    "plt.title('Calibration curve')\n",
    "plt.legend()\n",
    "plt.show()"
   ]
  },
  {
   "cell_type": "code",
   "execution_count": 17,
   "metadata": {},
   "outputs": [
    {
     "data": {
      "image/png": "[encoded data removed]",
      "text/plain": [
       "<Figure size 640x480 with 1 Axes>"
      ]
     },
     "metadata": {},
     "output_type": "display_data"
    }
   ],
   "source": [
    "from sklearn.metrics import roc_curve, auc, accuracy_score, precision_score, recall_score, f1_score, classification_report\n",
    "\n",
    "y_true = preds[\"True Label\"]\n",
    "y_scores = preds[\"Probability Score\"]\n",
    "y_pred = preds[\"Prediction\"]\n",
    "\n",
    "# Compute ROC curve and AUC\n",
    "fpr, tpr, thresholds = roc_curve(y_true, y_scores)\n",
    "roc_auc = auc(fpr, tpr)\n",
    "\n",
    "plt.figure()\n",
    "plt.plot(fpr, tpr, color='darkorange', lw=2, label=f\"ROC curve (AUC = {roc_auc:.2f})\")\n",
    "plt.plot([0, 1], [0, 1], color='navy', lw=1, linestyle='--')  # Diagonal line\n",
    "plt.xlim([0.0, 1.0])\n",
    "plt.ylim([0.0, 1.05])\n",
    "plt.xlabel(\"False Positive Rate\")\n",
    "plt.ylabel(\"True Positive Rate\")\n",
    "plt.title(\"Receiver Operating Characteristic\")\n",
    "plt.legend(loc=\"lower right\")\n",
    "plt.grid(True)\n",
    "plt.show()"
   ]
  },
  {
   "cell_type": "code",
   "execution_count": 18,
   "metadata": {},
   "outputs": [
    {
     "name": "stdout",
     "output_type": "stream",
     "text": [
      "[11:47:23.549194] ROC:  0.7964666666666667\n",
      "[11:47:23.550664] Accuracy:  0.6866666666666666\n",
      "[11:47:23.552694] Precision:  0.6443298969072165\n",
      "[11:47:23.554707] Recall:  0.8333333333333334\n",
      "[11:47:23.556591] F1:  0.7267441860465116\n"
     ]
    }
   ],
   "source": [
    "print( \"ROC: \", roc_auc )\n",
    "print( \"Accuracy: \", accuracy_score(y_true, y_pred ) )\n",
    "print( \"Precision: \", precision_score(y_true, y_pred) )\n",
    "print( \"Recall: \", recall_score(y_true, y_pred) )\n",
    "print( \"F1: \", f1_score(y_true, y_pred) )"
   ]
  },
  {
   "cell_type": "markdown",
   "metadata": {},
   "source": [
    "# Upload results:\n",
    "We now need to set up the paths to upload the files to the catalog. Please note that this process uploads a copy of the files, even when clean_folder=True. The original files will remain on your system in case you wish to revisit them later. However, you should consider deleting them afterward to conserve storage.\n",
    "\n",
    "Alternatively, you can move the files directly to the corresponding path created by execution.asset_file_path(). This ensures that you are uploading the original files instead of creating a copy."
   ]
  },
  {
   "cell_type": "code",
   "execution_count": 34,
   "metadata": {},
   "outputs": [
    {
     "ename": "AttributeError",
     "evalue": "'Execution' object has no attribute 'execution_asset_path'",
     "output_type": "error",
     "traceback": [
      "\u001b[0;31m---------------------------------------------------------------------------\u001b[0m",
      "\u001b[0;31mAttributeError\u001b[0m                            Traceback (most recent call last)",
      "Cell \u001b[0;32mIn[34], line 11\u001b[0m\n\u001b[1;32m      9\u001b[0m     asset_type \u001b[38;5;241m=\u001b[39m \u001b[38;5;124m\"\u001b[39m\u001b[38;5;124mDiagnosis_Model\u001b[39m\u001b[38;5;124m\"\u001b[39m\n\u001b[1;32m     10\u001b[0m \u001b[38;5;28;01mif\u001b[39;00m asset_type \u001b[38;5;241m!=\u001b[39m \u001b[38;5;124m\"\u001b[39m\u001b[38;5;124m\"\u001b[39m:\n\u001b[0;32m---> 11\u001b[0m     path \u001b[38;5;241m=\u001b[39m \u001b[43mexecution\u001b[49m\u001b[38;5;241;43m.\u001b[39;49m\u001b[43mexecution_asset_path\u001b[49m( asset_type )\n\u001b[1;32m     12\u001b[0m     shutil\u001b[38;5;241m.\u001b[39mcopy2(file_path, path)\n",
      "\u001b[0;31mAttributeError\u001b[0m: 'Execution' object has no attribute 'execution_asset_path'"
     ]
    }
   ],
   "source": [
    "#This loop creates copies.\n",
    "# for filename in os.listdir('./RETFound_output/task/RETFound_output/task/'):\n",
    "#     file_path = os.path.join('./RETFound_output/task/RETFound_output/task/', filename)\n",
    "#     if os.path.isfile(file_path):\n",
    "#         asset_type = \"\"\n",
    "#         if filename.endswith(('csv', 'jpg', 'txt')):\n",
    "#             asset_type = \"Model_Prediction\"\n",
    "#         elif filename.endswith('pth'):\n",
    "#             asset_type = \"Diagnosis_Model\"\n",
    "#         if asset_type != \"\":\n",
    "#             path = execution.asset_file_path(\n",
    "#                 asset_name=\"Execution_Asset\",\n",
    "#                 file_name=file_path,\n",
    "#                 asset_types=asset_type\n",
    "#             )\n",
    "#             shutil.copy2(file_path, path)"
   ]
  },
  {
   "cell_type": "code",
   "execution_count": 21,
   "metadata": {},
   "outputs": [
    {
     "data": {
      "text/plain": [
       "PosixPath('/data/kb_766/EyeAI_working/4-YXAG/dataset/test')"
      ]
     },
     "execution_count": 21,
     "metadata": {},
     "output_type": "execute_result"
    }
   ],
   "source": [
    "output_path"
   ]
  },
  {
   "cell_type": "code",
   "execution_count": 30,
   "metadata": {},
   "outputs": [
    {
     "name": "stdout",
     "output_type": "stream",
     "text": [
      "[12:05:25.742147] confusion_matrix_test.jpg  metrics_test.csv  roc_predictions_test.csv\n"
     ]
    }
   ],
   "source": [
    "!ls /data/kb_766/EyeAI_working/deriva-ml/execution/4-YXAG/asset/deriva-ml/Execution_Asset/"
   ]
  },
  {
   "cell_type": "code",
   "execution_count": 28,
   "metadata": {},
   "outputs": [],
   "source": [
    "\n",
    "asset_path = \"/data/kb_766/EyeAI_working/deriva-ml/execution/4-YXAG/asset/deriva-ml/Execution_Asset/\"\n",
    "os.makedirs( asset_path, exist_ok=True )\n"
   ]
  },
  {
   "cell_type": "code",
   "execution_count": 29,
   "metadata": {},
   "outputs": [],
   "source": [
    "\n",
    "for filename in os.listdir('./RETFound_output/task/RETFound_output/task/'):\n",
    "    file_path = os.path.join('./RETFound_output/task/RETFound_output/task/', filename)\n",
    "    if os.path.isfile(file_path):\n",
    "        asset_type = \"\"\n",
    "        if filename.endswith(('csv', 'jpg', 'txt')):\n",
    "            asset_type = \"Model_Prediction\"\n",
    "        elif filename.endswith('pth'):\n",
    "            asset_type = \"Diagnosis_Model\"\n",
    "        if asset_type != \"\":\n",
    "            shutil.copy2(file_path, asset_path)"
   ]
  },
  {
   "cell_type": "code",
   "execution_count": 31,
   "metadata": {},
   "outputs": [
    {
     "name": "stderr",
     "output_type": "stream",
     "text": [
      "2025-06-23 12:05:28,340 - INFO - Uploading execution files...\n",
      "2025-06-23 12:05:28,501 - INFO - Initializing uploader: GenericUploader v1.7.7 [Python 3.10.13, Linux-5.10.210-201.852.amzn2.x86_64-x86_64-with-glibc2.26]\n",
      "2025-06-23 12:05:28,503 - INFO - Creating client of type <class 'globus_sdk.services.auth.client.native_client.NativeAppAuthClient'> for service \"auth\"\n",
      "2025-06-23 12:05:28,504 - INFO - Finished initializing AuthLoginClient. client_id='8ef15ba9-2b4a-469c-a163-7fd910c9d111', type(authorizer)=<class 'globus_sdk.authorizers.base.NullAuthorizer'>\n",
      "2025-06-23 12:05:28,515 - INFO - Scanning files in directory [/data/kb_766/EyeAI_working/deriva-ml/execution/4-YXAG/asset]...\n",
      "2025-06-23 12:05:28,517 - INFO - Including file: [/data/kb_766/EyeAI_working/deriva-ml/execution/4-YXAG/asset/deriva-ml/Execution_Metadata/configuration.json].\n",
      "2025-06-23 12:05:28,518 - INFO - Including file: [/data/kb_766/EyeAI_working/deriva-ml/execution/4-YXAG/asset/deriva-ml/Execution_Metadata/environment_snapshot_20250623_114443.txt].\n",
      "2025-06-23 12:05:28,518 - INFO - Including file: [/data/kb_766/EyeAI_working/deriva-ml/execution/4-YXAG/asset/deriva-ml/Execution_Asset/metrics_test.csv].\n",
      "2025-06-23 12:05:28,519 - INFO - Including file: [/data/kb_766/EyeAI_working/deriva-ml/execution/4-YXAG/asset/deriva-ml/Execution_Asset/roc_predictions_test.csv].\n",
      "2025-06-23 12:05:28,520 - INFO - Including file: [/data/kb_766/EyeAI_working/deriva-ml/execution/4-YXAG/asset/deriva-ml/Execution_Asset/confusion_matrix_test.jpg].\n",
      "2025-06-23 12:05:28,520 - INFO - Processing: [/data/kb_766/EyeAI_working/deriva-ml/execution/4-YXAG/asset/deriva-ml/Execution_Metadata/configuration.json]\n",
      "2025-06-23 12:05:28,521 - INFO - Computed metadata for: [/data/kb_766/EyeAI_working/deriva-ml/execution/4-YXAG/asset/deriva-ml/Execution_Metadata/configuration.json].\n",
      "2025-06-23 12:05:28,522 - INFO - Computing checksums for file: [/data/kb_766/EyeAI_working/deriva-ml/execution/4-YXAG/asset/deriva-ml/Execution_Metadata/configuration.json]. Please wait...\n",
      "2025-06-23 12:05:28,523 - INFO - Uploading file: [/data/kb_766/EyeAI_working/deriva-ml/execution/4-YXAG/asset/deriva-ml/Execution_Metadata/configuration.json] to host https://www.eye-ai.org. Please wait...\n",
      "2025-06-23 12:05:28,876 - INFO - Processing: [/data/kb_766/EyeAI_working/deriva-ml/execution/4-YXAG/asset/deriva-ml/Execution_Metadata/environment_snapshot_20250623_114443.txt]\n",
      "2025-06-23 12:05:28,876 - INFO - Computed metadata for: [/data/kb_766/EyeAI_working/deriva-ml/execution/4-YXAG/asset/deriva-ml/Execution_Metadata/environment_snapshot_20250623_114443.txt].\n",
      "2025-06-23 12:05:28,877 - INFO - Computing checksums for file: [/data/kb_766/EyeAI_working/deriva-ml/execution/4-YXAG/asset/deriva-ml/Execution_Metadata/environment_snapshot_20250623_114443.txt]. Please wait...\n",
      "2025-06-23 12:05:28,878 - INFO - Uploading file: [/data/kb_766/EyeAI_working/deriva-ml/execution/4-YXAG/asset/deriva-ml/Execution_Metadata/environment_snapshot_20250623_114443.txt] to host https://www.eye-ai.org. Please wait...\n",
      "2025-06-23 12:05:29,056 - INFO - Processing: [/data/kb_766/EyeAI_working/deriva-ml/execution/4-YXAG/asset/deriva-ml/Execution_Asset/metrics_test.csv]\n",
      "2025-06-23 12:05:29,057 - INFO - Computed metadata for: [/data/kb_766/EyeAI_working/deriva-ml/execution/4-YXAG/asset/deriva-ml/Execution_Asset/metrics_test.csv].\n",
      "2025-06-23 12:05:29,057 - INFO - Computing checksums for file: [/data/kb_766/EyeAI_working/deriva-ml/execution/4-YXAG/asset/deriva-ml/Execution_Asset/metrics_test.csv]. Please wait...\n",
      "2025-06-23 12:05:29,058 - INFO - Uploading file: [/data/kb_766/EyeAI_working/deriva-ml/execution/4-YXAG/asset/deriva-ml/Execution_Asset/metrics_test.csv] to host https://www.eye-ai.org. Please wait...\n",
      "2025-06-23 12:05:29,168 - INFO - Processing: [/data/kb_766/EyeAI_working/deriva-ml/execution/4-YXAG/asset/deriva-ml/Execution_Asset/roc_predictions_test.csv]\n",
      "2025-06-23 12:05:29,168 - INFO - Computed metadata for: [/data/kb_766/EyeAI_working/deriva-ml/execution/4-YXAG/asset/deriva-ml/Execution_Asset/roc_predictions_test.csv].\n",
      "2025-06-23 12:05:29,169 - INFO - Computing checksums for file: [/data/kb_766/EyeAI_working/deriva-ml/execution/4-YXAG/asset/deriva-ml/Execution_Asset/roc_predictions_test.csv]. Please wait...\n",
      "2025-06-23 12:05:29,170 - INFO - Uploading file: [/data/kb_766/EyeAI_working/deriva-ml/execution/4-YXAG/asset/deriva-ml/Execution_Asset/roc_predictions_test.csv] to host https://www.eye-ai.org. Please wait...\n",
      "2025-06-23 12:05:29,265 - INFO - Processing: [/data/kb_766/EyeAI_working/deriva-ml/execution/4-YXAG/asset/deriva-ml/Execution_Asset/confusion_matrix_test.jpg]\n",
      "2025-06-23 12:05:29,265 - INFO - Computed metadata for: [/data/kb_766/EyeAI_working/deriva-ml/execution/4-YXAG/asset/deriva-ml/Execution_Asset/confusion_matrix_test.jpg].\n",
      "2025-06-23 12:05:29,266 - INFO - Computing checksums for file: [/data/kb_766/EyeAI_working/deriva-ml/execution/4-YXAG/asset/deriva-ml/Execution_Asset/confusion_matrix_test.jpg]. Please wait...\n",
      "2025-06-23 12:05:29,267 - INFO - Uploading file: [/data/kb_766/EyeAI_working/deriva-ml/execution/4-YXAG/asset/deriva-ml/Execution_Asset/confusion_matrix_test.jpg] to host https://www.eye-ai.org. Please wait...\n",
      "2025-06-23 12:05:29,404 - INFO - File upload processing completed: 5 files were uploaded successfully, 0 files failed to upload due to errors, 0 files were skipped because they did not satisfy the matching criteria of the configuration.\n",
      "2025-06-23 12:05:29,807 - INFO - [FileNotFoundError] [Errno 2] No such file or directory: '/data/kb_766/EyeAI_working/deriva-ml/execution/4-YXAG/asset-type/deriva-ml/Execution_Asset.jsonl'\n"
     ]
    },
    {
     "ename": "FileNotFoundError",
     "evalue": "[Errno 2] No such file or directory: '/data/kb_766/EyeAI_working/deriva-ml/execution/4-YXAG/asset-type/deriva-ml/Execution_Asset.jsonl'",
     "output_type": "error",
     "traceback": [
      "\u001b[0;31m---------------------------------------------------------------------------\u001b[0m",
      "\u001b[0;31mFileNotFoundError\u001b[0m                         Traceback (most recent call last)",
      "Cell \u001b[0;32mIn[31], line 2\u001b[0m\n\u001b[1;32m      1\u001b[0m \u001b[38;5;66;03m#Upload and end the execution\u001b[39;00m\n\u001b[0;32m----> 2\u001b[0m \u001b[43mexecution\u001b[49m\u001b[38;5;241;43m.\u001b[39;49m\u001b[43mupload_execution_outputs\u001b[49m\u001b[43m(\u001b[49m\u001b[43mclean_folder\u001b[49m\u001b[38;5;241;43m=\u001b[39;49m\u001b[38;5;28;43;01mTrue\u001b[39;49;00m\u001b[43m)\u001b[49m\n",
      "File \u001b[0;32m~/.conda/envs/eye-ai-retfound/lib/python3.10/site-packages/deriva_ml/execution.py:613\u001b[0m, in \u001b[0;36mExecution.upload_execution_outputs\u001b[0;34m(self, clean_folder)\u001b[0m\n\u001b[1;32m    611\u001b[0m error \u001b[38;5;241m=\u001b[39m format_exception(e)\n\u001b[1;32m    612\u001b[0m \u001b[38;5;28mself\u001b[39m\u001b[38;5;241m.\u001b[39mupdate_status(Status\u001b[38;5;241m.\u001b[39mfailed, error)\n\u001b[0;32m--> 613\u001b[0m \u001b[38;5;28;01mraise\u001b[39;00m e\n",
      "File \u001b[0;32m~/.conda/envs/eye-ai-retfound/lib/python3.10/site-packages/deriva_ml/execution.py:605\u001b[0m, in \u001b[0;36mExecution.upload_execution_outputs\u001b[0;34m(self, clean_folder)\u001b[0m\n\u001b[1;32m    603\u001b[0m     \u001b[38;5;28;01mreturn\u001b[39;00m {}\n\u001b[1;32m    604\u001b[0m \u001b[38;5;28;01mtry\u001b[39;00m:\n\u001b[0;32m--> 605\u001b[0m     \u001b[38;5;28mself\u001b[39m\u001b[38;5;241m.\u001b[39muploaded_assets \u001b[38;5;241m=\u001b[39m \u001b[38;5;28;43mself\u001b[39;49m\u001b[38;5;241;43m.\u001b[39;49m\u001b[43m_upload_execution_dirs\u001b[49m\u001b[43m(\u001b[49m\u001b[43m)\u001b[49m\n\u001b[1;32m    606\u001b[0m     \u001b[38;5;28mself\u001b[39m\u001b[38;5;241m.\u001b[39mupdate_status(Status\u001b[38;5;241m.\u001b[39mcompleted, \u001b[38;5;124m\"\u001b[39m\u001b[38;5;124mSuccessfully end the execution.\u001b[39m\u001b[38;5;124m\"\u001b[39m)\n\u001b[1;32m    607\u001b[0m     \u001b[38;5;28;01mif\u001b[39;00m clean_folder:\n",
      "File \u001b[0;32m~/.conda/envs/eye-ai-retfound/lib/python3.10/site-packages/deriva_ml/execution.py:481\u001b[0m, in \u001b[0;36mExecution._upload_execution_dirs\u001b[0;34m(self)\u001b[0m\n\u001b[1;32m    464\u001b[0m     asset_table, file_name \u001b[38;5;241m=\u001b[39m normalize_asset_dir(path)\n\u001b[1;32m    466\u001b[0m     asset_map\u001b[38;5;241m.\u001b[39msetdefault(asset_table, [])\u001b[38;5;241m.\u001b[39mappend(\n\u001b[1;32m    467\u001b[0m         AssetFilePath(\n\u001b[1;32m    468\u001b[0m             asset_path\u001b[38;5;241m=\u001b[39mpath,\n\u001b[0;32m   (...)\u001b[0m\n\u001b[1;32m    478\u001b[0m         )\n\u001b[1;32m    479\u001b[0m     )\n\u001b[0;32m--> 481\u001b[0m \u001b[38;5;28;43mself\u001b[39;49m\u001b[38;5;241;43m.\u001b[39;49m\u001b[43m_update_asset_execution_table\u001b[49m\u001b[43m(\u001b[49m\u001b[43masset_map\u001b[49m\u001b[43m)\u001b[49m\n\u001b[1;32m    482\u001b[0m \u001b[38;5;28mself\u001b[39m\u001b[38;5;241m.\u001b[39mupdate_status(Status\u001b[38;5;241m.\u001b[39mrunning, \u001b[38;5;124m\"\u001b[39m\u001b[38;5;124mUpdating features...\u001b[39m\u001b[38;5;124m\"\u001b[39m)\n\u001b[1;32m    484\u001b[0m \u001b[38;5;28;01mfor\u001b[39;00m p \u001b[38;5;129;01min\u001b[39;00m \u001b[38;5;28mself\u001b[39m\u001b[38;5;241m.\u001b[39m_feature_root\u001b[38;5;241m.\u001b[39mglob(\u001b[38;5;124m\"\u001b[39m\u001b[38;5;124m**/*.jsonl\u001b[39m\u001b[38;5;124m\"\u001b[39m):\n",
      "File \u001b[0;32m~/.conda/envs/eye-ai-retfound/lib/python3.10/site-packages/deriva_ml/execution.py:727\u001b[0m, in \u001b[0;36mExecution._update_asset_execution_table\u001b[0;34m(self, uploaded_assets, asset_role)\u001b[0m\n\u001b[1;32m    725\u001b[0m     \u001b[38;5;28;01mreturn\u001b[39;00m\n\u001b[1;32m    726\u001b[0m asset_type_map \u001b[38;5;241m=\u001b[39m {}\n\u001b[0;32m--> 727\u001b[0m \u001b[38;5;28;01mwith\u001b[39;00m \u001b[38;5;28;43mopen\u001b[39;49m\u001b[43m(\u001b[49m\n\u001b[1;32m    728\u001b[0m \u001b[43m    \u001b[49m\u001b[43masset_type_path\u001b[49m\u001b[43m(\u001b[49m\n\u001b[1;32m    729\u001b[0m \u001b[43m        \u001b[49m\u001b[38;5;28;43mself\u001b[39;49m\u001b[38;5;241;43m.\u001b[39;49m\u001b[43m_working_dir\u001b[49m\u001b[43m,\u001b[49m\n\u001b[1;32m    730\u001b[0m \u001b[43m        \u001b[49m\u001b[38;5;28;43mself\u001b[39;49m\u001b[38;5;241;43m.\u001b[39;49m\u001b[43mexecution_rid\u001b[49m\u001b[43m,\u001b[49m\n\u001b[1;32m    731\u001b[0m \u001b[43m        \u001b[49m\u001b[38;5;28;43mself\u001b[39;49m\u001b[38;5;241;43m.\u001b[39;49m\u001b[43m_model\u001b[49m\u001b[38;5;241;43m.\u001b[39;49m\u001b[43mname_to_table\u001b[49m\u001b[43m(\u001b[49m\u001b[43masset_table_name\u001b[49m\u001b[43m)\u001b[49m\u001b[43m,\u001b[49m\n\u001b[1;32m    732\u001b[0m \u001b[43m    \u001b[49m\u001b[43m)\u001b[49m\u001b[43m,\u001b[49m\n\u001b[1;32m    733\u001b[0m \u001b[43m    \u001b[49m\u001b[38;5;124;43m\"\u001b[39;49m\u001b[38;5;124;43mr\u001b[39;49m\u001b[38;5;124;43m\"\u001b[39;49m\u001b[43m,\u001b[49m\n\u001b[1;32m    734\u001b[0m \u001b[43m\u001b[49m\u001b[43m)\u001b[49m \u001b[38;5;28;01mas\u001b[39;00m f:\n\u001b[1;32m    735\u001b[0m     \u001b[38;5;28;01mfor\u001b[39;00m line \u001b[38;5;129;01min\u001b[39;00m f:\n\u001b[1;32m    736\u001b[0m         asset_type_map\u001b[38;5;241m.\u001b[39mupdate(json\u001b[38;5;241m.\u001b[39mloads(line\u001b[38;5;241m.\u001b[39mstrip()))\n",
      "\u001b[0;31mFileNotFoundError\u001b[0m: [Errno 2] No such file or directory: '/data/kb_766/EyeAI_working/deriva-ml/execution/4-YXAG/asset-type/deriva-ml/Execution_Asset.jsonl'"
     ]
    }
   ],
   "source": [
    "#Upload and end the execution\n",
    "execution.upload_execution_outputs(clean_folder=True)"
   ]
  },
  {
   "cell_type": "code",
   "execution_count": null,
   "metadata": {},
   "outputs": [],
   "source": []
  }
 ],
 "metadata": {
  "kernelspec": {
   "display_name": "RETFound-kernel",
   "language": "python",
   "name": "eye-ai-retfound"
  },
  "language_info": {
   "codemirror_mode": {
    "name": "ipython",
    "version": 3
   },
   "file_extension": ".py",
   "mimetype": "text/x-python",
   "name": "python",
   "nbconvert_exporter": "python",
   "pygments_lexer": "ipython3",
   "version": "3.10.13"
  }
 },
 "nbformat": 4,
 "nbformat_minor": 4
}
