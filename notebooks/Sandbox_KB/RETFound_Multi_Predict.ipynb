{
 "cells": [
  {
   "cell_type": "markdown",
   "metadata": {},
   "source": [
    "# Initial Setup:\n",
    "This step initializes the necessary configuration."
   ]
  },
  {
   "cell_type": "code",
   "execution_count": 1,
   "metadata": {},
   "outputs": [],
   "source": [
    "repo_dir = \"Repos\"   # Set this to be where your github repos are located.\n",
    "%load_ext autoreload\n",
    "%autoreload 2\n",
    "\n",
    "# Update the load path so python can find modules for the model\n",
    "import sys\n",
    "from pathlib import Path\n",
    "sys.path.insert(0, str(Path.home() / repo_dir / \"eye-ai-ml\"))\n",
    "sys.path.insert(0, str(Path.home() / repo_dir / \"RETFound_MAE\"))"
   ]
  },
  {
   "cell_type": "code",
   "execution_count": 3,
   "metadata": {},
   "outputs": [],
   "source": [
    "# Prerequisits\n",
    "import json\n",
    "import os\n",
    "import shutil\n",
    "from PIL import Image\n",
    "\n",
    "# EyeAI, Deriva, VGG19\n",
    "from deriva_ml import DatasetSpec, DatasetBag, Workflow, ExecutionConfiguration, VersionPart, DatasetVersion\n",
    "from deriva_ml import MLVocab as vc\n",
    "from eye_ai.eye_ai import EyeAI\n",
    "from models.vgg19 import vgg19_diagnosis_train\n",
    "\n",
    "# ML Analytics\n",
    "import torch\n",
    "import pandas as pd\n",
    "import numpy as np\n",
    "from sklearn.calibration import calibration_curve\n",
    "from sklearn.metrics import roc_curve, auc\n",
    "import matplotlib.pyplot as plt\n",
    "\n",
    "# Other Utilities\n",
    "from pathlib import Path, PurePath\n",
    "import logging\n",
    "from datetime import datetime\n",
    "\n",
    "logging.basicConfig(level=logging.INFO, format='%(asctime)s - %(levelname)s - %(message)s', force=True)"
   ]
  },
  {
   "cell_type": "code",
   "execution_count": 4,
   "metadata": {},
   "outputs": [
    {
     "name": "stderr",
     "output_type": "stream",
     "text": [
      "2025-06-20 11:09:49,888 - INFO - Creating client of type <class 'globus_sdk.services.auth.client.native_client.NativeAppAuthClient'> for service \"auth\"\n",
      "2025-06-20 11:09:49,889 - INFO - Finished initializing AuthLoginClient. client_id='8ef15ba9-2b4a-469c-a163-7fd910c9d111', type(authorizer)=<class 'globus_sdk.authorizers.base.NullAuthorizer'>\n"
     ]
    },
    {
     "name": "stdout",
     "output_type": "stream",
     "text": [
      "You are already logged in.\n"
     ]
    }
   ],
   "source": [
    "from deriva.core.utils.globus_auth_utils import GlobusNativeLogin\n",
    "catalog_id = \"eye-ai\" #@param\n",
    "host = 'www.eye-ai.org'\n",
    "\n",
    "\n",
    "gnl = GlobusNativeLogin(host=host)\n",
    "if gnl.is_logged_in([host]):\n",
    "    print(\"You are already logged in.\")\n",
    "else:\n",
    "    gnl.login([host], no_local_server=True, no_browser=True, refresh_tokens=True, update_bdbag_keychain=True)\n",
    "    print(\"Login Successful\")"
   ]
  },
  {
   "cell_type": "code",
   "execution_count": 5,
   "metadata": {},
   "outputs": [
    {
     "name": "stderr",
     "output_type": "stream",
     "text": [
      "2025-06-20 11:09:52,564 - INFO - Creating client of type <class 'globus_sdk.services.auth.client.native_client.NativeAppAuthClient'> for service \"auth\"\n",
      "2025-06-20 11:09:52,565 - INFO - Finished initializing AuthLoginClient. client_id='8ef15ba9-2b4a-469c-a163-7fd910c9d111', type(authorizer)=<class 'globus_sdk.authorizers.base.NullAuthorizer'>\n"
     ]
    }
   ],
   "source": [
    "cache_dir = '/data'\n",
    "working_dir = '/data'\n",
    "EA = EyeAI(hostname = host, catalog_id = catalog_id, cache_dir= cache_dir, working_dir=working_dir)"
   ]
  },
  {
   "cell_type": "markdown",
   "metadata": {},
   "source": [
    "# Downloading Dataset:\n",
    "Downloading the datasets. We will work with three datasets: 2-A5T0 (train), 2-A5T2 (val), and 2-A5T4 (test). The dataset order when extracting is always set in the list provided when downloading. Additionally, this code will always download the latest version of the datasets."
   ]
  },
  {
   "cell_type": "code",
   "execution_count": 7,
   "metadata": {},
   "outputs": [
    {
     "name": "stderr",
     "output_type": "stream",
     "text": [
      "2025-06-20 11:15:11,072 - INFO - Materialize bag 2-277M... \n",
      "2025-06-20 11:15:11,399 - INFO - Creating client of type <class 'globus_sdk.services.auth.client.native_client.NativeAppAuthClient'> for service \"auth\"\n",
      "2025-06-20 11:15:11,399 - INFO - Finished initializing AuthLoginClient. client_id='8ef15ba9-2b4a-469c-a163-7fd910c9d111', type(authorizer)=<class 'globus_sdk.authorizers.base.NullAuthorizer'>\n",
      "2025-06-20 11:15:13,366 - INFO - Using cached bag for  2-277M Version:4.5.1\n",
      "2025-06-20 11:15:13,367 - INFO - Loading /data/2-277M_395876f849b6a2381769d7f9b9667f243d1295f1ae6b8e739c2a46d20110c6e6/Dataset_2-277M\n",
      "2025-06-20 11:15:14,221 - INFO - Creating new database for dataset: 2-277M in /data/kb_766/EyeAI_working/2-277M@33E-K95Z-QE1T.db\n",
      "2025-06-20 11:15:14,275 - INFO - Downloading assets ...\n",
      "2025-06-20 11:16:18,633 - INFO - File [/data/kb_766/EyeAI_working/deriva-ml/execution/4-YX84/downloaded-assets/Execution_Asset/2-277G_uncropped_Mar_11_2025.pth] transfer successful. 3471.44 MB transferred at 54.42 MB/second. Elapsed time: 0:01:03.790488.\n",
      "2025-06-20 11:16:19,064 - INFO - Initialize status finished.\n"
     ]
    }
   ],
   "source": [
    "datasets = [\n",
    "        '2-277M',\n",
    "    ]\n",
    "\n",
    "to_be_download = []\n",
    "for dataset in datasets:\n",
    "    ds_dict = {\n",
    "        'rid': dataset,\n",
    "        'materialize':True,\n",
    "        'version':EA.dataset_version(dataset_rid=dataset),\n",
    "    }\n",
    "    to_be_download.append(ds_dict)\n",
    "\n",
    "workflow_instance = EA.add_workflow(Workflow(\n",
    "    name=\"RETFound Model train\",\n",
    "    url=\"https://github.com/informatics-isi-edu/eye-ai-exec/blob/main/notebooks/RETFound_Huy/RETFOUND_DATA_TEMPLATE.ipynb\",\n",
    "    workflow_type=\"RETFound Model Train\",\n",
    "))\n",
    "\n",
    "download_assets = True\n",
    "\n",
    "config = ExecutionConfiguration(\n",
    "    # Comment out the following line if you don't need the assets.\n",
    "    datasets=to_be_download  if download_assets else [],\n",
    "    assets = ['4-QAGT',  \n",
    "             ],\n",
    "    workflow=workflow_instance,\n",
    "    description=\"Instance of testing RETFound model\")\n",
    "\n",
    "# Initialize execution\n",
    "execution = EA.create_execution(config)\n",
    "\n",
    "\n",
    "\n",
    "\n",
    "source_dataset = \"4-YWKJ\" # USC test set\n",
    "crop = True\n",
    "\n",
    "if crop:\n",
    "    asset_RID = [\"4-MWQ6\"]  # VGG19 cropped\n",
    "else:\n",
    "    asset_RID = [\"4-QAGT\"]  # RETFound uncropped\n",
    "\n",
    "preds_workflow = EA.add_workflow( \n",
    "    Workflow(\n",
    "        name=\"RETFound Predictions by KB\",\n",
    "        url=\"https://github.com/informatics-isi-edu/eye-ai-exec/blob/main/notebooks/Sandbox_KB/VGG_Predict.ipynb\",\n",
    "        workflow_type=\"Test Workflow\",\n",
    "        )\n",
    "    )\n",
    "\n",
    "config = ExecutionConfiguration(\n",
    "    datasets=[ DatasetSpec(rid=source_dataset, version=EA.dataset_version(source_dataset), materialize=True) ],\n",
    "    assets=asset_RID,\n",
    "    workflow=preds_workflow,\n",
    "    description=\"Instance of creating VGG19 predictions: VGG19 Uncropped on 4-YWKJ USC Test\",\n",
    "    )\n",
    "\n",
    "execution = EA.create_execution(config)"
   ]
  },
  {
   "cell_type": "code",
   "execution_count": 8,
   "metadata": {},
   "outputs": [
    {
     "name": "stdout",
     "output_type": "stream",
     "text": [
      "caching_dir: /data\n",
      "_working_dir: /data/kb_766/EyeAI_working\n",
      "execution_rid: 4-YX84\n",
      "workflow_rid: 4-Q8KR\n",
      "asset_paths: {'Execution_Asset': [AssetFilePath('/data/kb_766/EyeAI_working/deriva-ml/execution/4-YX84/downloaded-assets/Execution_Asset/2-277G_uncropped_Mar_11_2025.pth')]}\n",
      "configuration: datasets=[DatasetSpec(rid='2-277M', materialize=True, version=DatasetVersion(major=4, minor=5, patch=1))] assets=['4-QAGT'] workflow='4-Q8KR' parameters={} description='Instance of testing RETFound model' argv=['/home/kb_766/.conda/envs/eye-ai-retfound/lib/python3.10/site-packages/ipykernel_launcher.py', '-f', '/home/kb_766/.local/share/jupyter/runtime/kernel-fc264ea7-d1bc-498f-b427-e2efb050b8f9.json']\n"
     ]
    }
   ],
   "source": [
    "print(execution)"
   ]
  },
  {
   "cell_type": "markdown",
   "metadata": {},
   "source": [
    "# Preprocessing:\n",
    "Crop the images and move them to the designated folder for training, validation, and testing.          "
   ]
  },
  {
   "cell_type": "code",
   "execution_count": 9,
   "metadata": {},
   "outputs": [],
   "source": [
    "ds_bag_test = execution.datasets[0]\n",
    "model_path = str(execution.asset_paths['Execution_Asset'][0])"
   ]
  },
  {
   "cell_type": "code",
   "execution_count": 11,
   "metadata": {},
   "outputs": [
    {
     "data": {
      "text/plain": [
       "PosixPath('/data/kb_766/EyeAI_working/4-YX84')"
      ]
     },
     "execution_count": 11,
     "metadata": {},
     "output_type": "execute_result"
    }
   ],
   "source": [
    "output_dir = execution._working_dir / execution.execution_rid\n",
    "output_dir.mkdir(parents=True, exist_ok=True)\n",
    "output_dir"
   ]
  },
  {
   "cell_type": "code",
   "execution_count": 13,
   "metadata": {},
   "outputs": [],
   "source": [
    "test_image_path_cropped, test_csv_cropped = EA.create_cropped_images(ds_bag = ds_bag_test,\n",
    "                                                                     output_dir = output_dir / \"dataset\" / \"test\",\n",
    "                                                                     crop_to_eye = False)"
   ]
  },
  {
   "cell_type": "code",
   "execution_count": 14,
   "metadata": {},
   "outputs": [
    {
     "data": {
      "text/plain": [
       "PosixPath('/data/kb_766/EyeAI_working/4-YX84/dataset/test')"
      ]
     },
     "execution_count": 14,
     "metadata": {},
     "output_type": "execute_result"
    }
   ],
   "source": [
    "test_image_path_cropped"
   ]
  },
  {
   "cell_type": "code",
   "execution_count": 32,
   "metadata": {},
   "outputs": [
    {
     "name": "stdout",
     "output_type": "stream",
     "text": [
      "[11:38:59.041941] [11:38:59.041911] [11:38:59.042083] 7P0A.JPG  7X04.JPG  858A.JPG  8B58.JPG\t8FXW.JPG  8Q7R.JPG  8ZGP.JPG  96ZT.JPG\n",
      "7P0C.JPG  7X06.JPG  858J.JPG  8B5E.JPG\t8FY2.JPG  8Q7T.JPG  8ZGT.JPG  96ZY.JPG\n",
      "7P9A.JPG  7XAG.JPG  85DJ.JPG  8B5M.JPG\t8G4Y.JPG  8QWC.JPG  902A.JPG  97AW.JPG\n",
      "7P9J.JPG  7XAM.JPG  85DT.JPG  8B5R.JPG\t8G58.JPG  8QWJ.JPG  902M.JPG  97B0.JPG\n",
      "7PE8.JPG  7XGC.JPG  85QC.JPG  8B6W.JPG\t8G7Y.JPG  8R7R.JPG  90MT.JPG  97HC.JPG\n",
      "7PEA.JPG  7XGM.JPG  85QJ.JPG  8B6Y.JPG\t8G84.JPG  8R7T.JPG  90MY.JPG  97HE.JPG\n",
      "7PXP.JPG  7XN8.JPG  863A.JPG  8BBG.JPG\t8GB0.JPG  8RPE.JPG  90SJ.JPG  97PC.JPG\n",
      "7PXW.JPG  7XNA.JPG  863M.JPG  8BBM.JPG\t8GB4.JPG  8RPG.JPG  90SM.JPG  97PE.JPG\n",
      "7Q1P.JPG  7XYE.JPG  8662.JPG  8BVJ.JPG\t8GN4.JPG  8S38.JPG  9120.JPG  97T6.JPG\n",
      "7Q1T.JPG  7XYG.JPG  8668.JPG  8BVR.JPG\t8GN6.JPG  8S3A.JPG  9126.JPG  97T8.JPG\n",
      "7Q98.JPG  7YCW.JPG  86HT.JPG  8C4A.JPG\t8GNE.JPG  8S8T.JPG  917P.JPG  97YG.JPG\n",
      "7Q9E.JPG  7YD4.JPG  86HW.JPG  8C4J.JPG\t8GNM.JPG  8S8W.JPG  917W.JPG  97YP.JPG\n",
      "7QDC.JPG  7YYJ.JPG  86NY.JPG  8C4R.JPG\t8GTW.JPG  8SB0.JPG  91G8.JPG  9820.JPG\n",
      "7QDG.JPG  7YYM.JPG  86P0.JPG  8C4T.JPG\t8GTY.JPG  8SB4.JPG  91GC.JPG  9822.JPG\n",
      "7QDR.JPG  7ZA8.JPG  86P4.JPG  8C8G.JPG\t8HH8.JPG  8SF8.JPG  91RY.JPG  986T.JPG\n",
      "7QDW.JPG  7ZAE.JPG  86PA.JPG  8C8J.JPG\t8HHG.JPG  8SFE.JPG  91S0.JPG  986W.JPG\n",
      "7R0C.JPG  7ZG4.JPG  86QM.JPG  8C8Y.JPG\t8J90.JPG  8SRM.JPG  91VM.JPG  98P6.JPG\n",
      "7R0J.JPG  7ZG8.JPG  86QY.JPG  8C92.JPG\t8J94.JPG  8SRP.JPG  91VT.JPG  98P8.JPG\n",
      "7RA8.JPG  7ZJA.JPG  86R0.JPG  8CD2.JPG\t8JRC.JPG  8TAG.JPG  924C.JPG  98QJ.JPG\n",
      "7RAE.JPG  7ZJG.JPG  86R2.JPG  8CD6.JPG\t8JRG.JPG  8TAJ.JPG  924M.JPG  98QM.JPG\n",
      "7RRW.JPG  80B8.JPG  86Z2.JPG  8CHT.JPG\t8JXY.JPG  8TD6.JPG  92GY.JPG  98YA.JPG\n",
      "7RS0.JPG  80BA.JPG  86Z4.JPG  8CHW.JPG\t8JY0.JPG  8TDA.JPG  92H2.JPG  98YJ.JPG\n",
      "7RWM.JPG  80KP.JPG  877Y.JPG  8CVC.JPG\t8JYC.JPG  8TSW.JPG  92HG.JPG  992E.JPG\n",
      "7RWT.JPG  80KW.JPG  8782.JPG  8CVE.JPG\t8JYJ.JPG  8TT2.JPG  92HP.JPG  992M.JPG\n",
      "7S30.JPG  814P.JPG  878E.JPG  8DDA.JPG\t8K10.JPG  8VFW.JPG  92JT.JPG  99H0.JPG\n",
      "7S32.JPG  814R.JPG  878G.JPG  8DDE.JPG\t8K16.JPG  8VG2.JPG  92JW.JPG  99HA.JPG\n",
      "7SB2.JPG  819J.JPG  87NC.JPG  8DFT.JPG\t8K1W.JPG  8VKP.JPG  92M4.JPG  99J6.JPG\n",
      "7SB4.JPG  819P.JPG  87NM.JPG  8DG0.JPG\t8K1Y.JPG  8VKW.JPG  92M8.JPG  99J8.JPG\n",
      "7SH8.JPG  81MG.JPG  87NR.JPG  8DN4.JPG\t8K8T.JPG  8VPY.JPG  92X6.JPG  99WT.JPG\n",
      "7SHE.JPG  81MP.JPG  87NW.JPG  8DN8.JPG\t8K8Y.JPG  8VQ6.JPG  92X8.JPG  99WW.JPG\n",
      "7SZA.JPG  81NA.JPG  87SY.JPG  8DPM.JPG\t8K96.JPG  8VRE.JPG  939Y.JPG  99ZA.JPG\n",
      "7SZC.JPG  81NJ.JPG  87T2.JPG  8DPT.JPG\t8K98.JPG  8VRP.JPG  93A4.JPG  99ZJ.JPG\n",
      "7T0J.JPG  81R4.JPG  87ZJ.JPG  8DWG.JPG\t8KK0.JPG  8VYY.JPG  93EE.JPG  9A52.JPG\n",
      "7T0P.JPG  81R6.JPG  87ZP.JPG  8DWJ.JPG\t8KK6.JPG  8VZ0.JPG  93EG.JPG  9A56.JPG\n",
      "7TJE.JPG  821R.JPG  87ZT.JPG  8E28.JPG\t8KV2.JPG  8WDT.JPG  93HJ.JPG  9A62.JPG\n",
      "7TJM.JPG  821T.JPG  8802.JPG  8E2J.JPG\t8KV4.JPG  8WE4.JPG  93HM.JPG  9A6A.JPG\n",
      "7TRE.JPG  822A.JPG  8808.JPG  8EB0.JPG\t8KWT.JPG  8WF0.JPG  93YM.JPG  9A8C.JPG\n",
      "7TRM.JPG  822E.JPG  880E.JPG  8EB2.JPG\t8KWW.JPG  8WF6.JPG  93YP.JPG  9A8E.JPG\n",
      "7TSM.JPG  82BP.JPG  88SC.JPG  8EB6.JPG\t8M86.JPG  8WK2.JPG  9460.JPG  9AYE.JPG\n",
      "7TSR.JPG  82BR.JPG  88SJ.JPG  8EBG.JPG\t8M88.JPG  8WKA.JPG  9464.JPG  9AYM.JPG\n",
      "7TTR.JPG  82GM.JPG  88WC.JPG  8ED4.JPG\t8MAM.JPG  8WVP.JPG  947W.JPG  9BD2.JPG\n",
      "7TTT.JPG  82GP.JPG  88WM.JPG  8EDA.JPG\t8MAR.JPG  8WVT.JPG  9480.JPG  9BD6.JPG\n",
      "7V4J.JPG  82GY.JPG  892R.JPG  8EF2.JPG\t8MPR.JPG  8XA4.JPG  94RE.JPG  9BXT.JPG\n",
      "7V4R.JPG  82H2.JPG  892W.JPG  8EF4.JPG\t8MQ0.JPG  8XA8.JPG  94RG.JPG  9BY2.JPG\n",
      "7V4W.JPG  82ZM.JPG  895T.JPG  8EG2.JPG\t8MXG.JPG  8XB4.JPG  94W8.JPG  9CWG.JPG\n",
      "7V52.JPG  82ZT.JPG  895W.JPG  8EG8.JPG\t8MXJ.JPG  8XB6.JPG  94WE.JPG  9CWJ.JPG\n",
      "7V7Y.JPG  8344.JPG  897J.JPG  8EYE.JPG\t8NC8.JPG  8XCP.JPG  94YC.JPG  9CWT.JPG\n",
      "7V84.JPG  8348.JPG  897R.JPG  8EYJ.JPG\t8NCC.JPG  8XCT.JPG  94YE.JPG  9CWW.JPG\n",
      "7VJA.JPG  83BA.JPG  897Y.JPG  8EYW.JPG\t8NDT.JPG  8XFC.JPG  95FY.JPG  9D0T.JPG\n",
      "7VJC.JPG  83BG.JPG  8984.JPG  8EZ0.JPG\t8NDY.JPG  8XFM.JPG  95G0.JPG  9D0Y.JPG\n",
      "7VMT.JPG  83BR.JPG  89BE.JPG  8F5M.JPG\t8NGP.JPG  8Y0T.JPG  95GJ.JPG  9D1E.JPG\n",
      "7VN0.JPG  83BW.JPG  89BM.JPG  8F5T.JPG\t8NGW.JPG  8Y0W.JPG  95GM.JPG  9D1G.JPG\n",
      "7VN6.JPG  83CT.JPG  89GM.JPG  8F64.JPG\t8NSW.JPG  8Y1P.JPG  95X0.JPG  9D52.JPG\n",
      "7VNE.JPG  83CY.JPG  89GW.JPG  8F68.JPG\t8NT0.JPG  8Y20.JPG  95X2.JPG  9D56.JPG\n",
      "7VQG.JPG  83N4.JPG  8A8R.JPG  8FAA.JPG\t8P2G.JPG  8YMY.JPG  95YC.JPG  9D9R.JPG\n",
      "7VQJ.JPG  83NA.JPG  8A90.JPG  8FAG.JPG\t8P2M.JPG  8YN0.JPG  95YP.JPG  9D9W.JPG\n",
      "7VVY.JPG  83WM.JPG  8A9G.JPG  8FCJ.JPG\t8P6C.JPG  8YQT.JPG  960A.JPG  9DAY.JPG\n",
      "7VW6.JPG  83WP.JPG  8A9P.JPG  8FCR.JPG\t8P6G.JPG  8YQY.JPG  960C.JPG  9DB0.JPG\n",
      "7VZA.JPG  84AE.JPG  8A9W.JPG  8FEC.JPG\t8PG4.JPG  8Z82.JPG  969A.JPG  9DJ2.JPG\n",
      "7VZG.JPG  84AP.JPG  8AA6.JPG  8FEG.JPG\t8PG8.JPG  8Z88.JPG  969E.JPG  9DJ4.JPG\n",
      "7W48.JPG  84MY.JPG  8AP0.JPG  8FJJ.JPG\t8PKY.JPG  8ZAP.JPG  96R8.JPG  9DQ4.JPG\n",
      "7W4C.JPG  84N2.JPG  8AP4.JPG  8FJP.JPG\t8PM0.JPG  8ZAT.JPG  96RC.JPG  9DQA.JPG\n",
      "7W4M.JPG  84ZP.JPG  8AT2.JPG  8FKA.JPG\t8PN0.JPG  8ZBM.JPG  96XC.JPG  9DS2.JPG\n",
      "7W4R.JPG  84ZW.JPG  8ATA.JPG  8FKG.JPG\t8PN4.JPG  8ZBP.JPG  96XG.JPG  9DS8.JPG\n",
      "7WPA.JPG  850E.JPG  8ATG.JPG  8FRM.JPG\t8PR2.JPG  8ZF2.JPG  96YJ.JPG\n",
      "7WPG.JPG  850M.JPG  8ATP.JPG  8FRR.JPG\t8PR4.JPG  8ZF8.JPG  96YM.JPG\n"
     ]
    }
   ],
   "source": [
    "!ls /data/kb_766/EyeAI_working/4-YX84/dataset/test/No_Glaucoma"
   ]
  },
  {
   "cell_type": "code",
   "execution_count": 28,
   "metadata": {},
   "outputs": [],
   "source": [
    "os.makedirs( output_dir / \"dataset\" / \"train\" / \"No_Glaucoma\", exist_ok = True )\n",
    "os.makedirs( output_dir / \"dataset\" / \"train\" / \"Suspected_Glaucoma\", exist_ok = True )\n",
    "os.makedirs( output_dir / \"dataset\" / \"val\" / \"No_Glaucoma\", exist_ok = True )\n",
    "os.makedirs( output_dir / \"dataset\" / \"val\" / \"Suspected_Glaucoma\", exist_ok = True )\n"
   ]
  },
  {
   "cell_type": "code",
   "execution_count": 35,
   "metadata": {},
   "outputs": [
    {
     "data": {
      "text/plain": [
       "'/data/kb_766/EyeAI_working/4-YX84/dataset/val/Suspected_Glaucoma/96YM.JPG'"
      ]
     },
     "execution_count": 35,
     "metadata": {},
     "output_type": "execute_result"
    }
   ],
   "source": [
    "import shutil\n",
    "dummyImg = '/data/kb_766/EyeAI_working/4-YX84/dataset/test/No_Glaucoma/96YM.JPG'\n",
    "shutil.copy2( dummyImg, '/data/kb_766/EyeAI_working/4-YX84/dataset/train/No_Glaucoma/' )\n",
    "shutil.copy2( dummyImg, '/data/kb_766/EyeAI_working/4-YX84/dataset/train/Suspected_Glaucoma/' )\n",
    "shutil.copy2( dummyImg, '/data/kb_766/EyeAI_working/4-YX84/dataset/val/No_Glaucoma/' )\n",
    "shutil.copy2( dummyImg, '/data/kb_766/EyeAI_working/4-YX84/dataset/val/Suspected_Glaucoma/' )"
   ]
  },
  {
   "cell_type": "code",
   "execution_count": 15,
   "metadata": {},
   "outputs": [
    {
     "name": "stdout",
     "output_type": "stream",
     "text": [
      "Jun_20_2025\n"
     ]
    }
   ],
   "source": [
    "from datetime import datetime\n",
    "current_date = datetime.now().strftime(\"%b_%d_%Y\") \n",
    "print(current_date)"
   ]
  },
  {
   "cell_type": "code",
   "execution_count": 16,
   "metadata": {},
   "outputs": [],
   "source": [
    "RETFound_output = \"./RETFound_output/task\"\n",
    "os.makedirs(RETFound_output, exist_ok= True)"
   ]
  },
  {
   "cell_type": "markdown",
   "metadata": {},
   "source": [
    "# Training Arguments\n",
    "\n",
    "<details>\n",
    "  <summary>Click to expand</summary>\n",
    "\n",
    "## General Training\n",
    "- `--batch_size`: Batch size per GPU (default: `128`)\n",
    "- `--epochs`: Number of training epochs (default: `50`)\n",
    "- `--accum_iter`: Accumulate gradient iterations (default: `1`)\n",
    "\n",
    "## Model Parameters\n",
    "- `--model`: Name of model to train (default: `'RETFound_mae'`)\n",
    "- `--input_size`: Image input size (default: `256`)\n",
    "- `--drop_path`: Drop path rate (default: `0.2`)\n",
    "\n",
    "## Optimizer Parameters\n",
    "- `--clip_grad`: Clip gradient norm (default: `None`)\n",
    "- `--weight_decay`: Weight decay (default: `0.05`)\n",
    "- `--lr`: Learning rate (absolute) (default: `None`)\n",
    "- `--blr`: Base learning rate (default: `5e-3`)\n",
    "- `--layer_decay`: Layer-wise learning rate decay (default: `0.65`)\n",
    "- `--min_lr`: Lower bound for cyclic schedulers (default: `1e-6`)\n",
    "- `--warmup_epochs`: Number of warmup epochs (default: `10`)\n",
    "\n",
    "## Augmentation Parameters\n",
    "- `--color_jitter`: Color jitter factor (default: `None`)\n",
    "- `--aa`: AutoAugment policy (default: `'rand-m9-mstd0.5-inc1'`)\n",
    "- `--smoothing`: Label smoothing (default: `0.1`)\n",
    "\n",
    "## Random Erase Parameters\n",
    "- `--reprob`: Random erase probability (default: `0.25`)\n",
    "- `--remode`: Random erase mode (default: `'pixel'`)\n",
    "- `--recount`: Random erase count (default: `1`)\n",
    "- `--resplit`: Do not random erase first augmentation split (default: `False`)\n",
    "\n",
    "## Mixup Parameters\n",
    "- `--mixup`: Mixup alpha (default: `0`, enabled if > 0)\n",
    "- `--cutmix`: CutMix alpha (default: `0`, enabled if > 0)\n",
    "- `--cutmix_minmax`: CutMix min/max ratio (default: `None`)\n",
    "- `--mixup_prob`: Probability of performing Mixup or CutMix (default: `1.0`)\n",
    "- `--mixup_switch_prob`: Probability of switching to CutMix (default: `0.5`)\n",
    "- `--mixup_mode`: Mode of applying Mixup/CutMix (default: `'batch'`)\n",
    "\n",
    "## Finetuning Parameters\n",
    "- `--finetune`: Finetune from checkpoint (default: `''`)\n",
    "- `--task`: Task type for finetuning (default: `''`)\n",
    "- `--global_pool`: Use global pooling (default: `True`)\n",
    "- `--cls_token`: Use class token instead of global pool (default: `False`)\n",
    "\n",
    "## Dataset Parameters\n",
    "- `--data_path`: Dataset path (default: `'./data/'`)\n",
    "- `--nb_classes`: Number of classification categories (default: `8`)\n",
    "- `--output_dir`: Path to save output (default: `'./output_dir'`)\n",
    "- `--log_dir`: Path for TensorBoard logs (default: `'./output_logs'`)\n",
    "- `--device`: Device to use for training/testing (default: `'cuda'`)\n",
    "- `--seed`: Random seed (default: `0`)\n",
    "- `--resume`: Resume from checkpoint (default: `''`)\n",
    "- `--start_epoch`: Start epoch number (default: `0`)\n",
    "- `--eval`: Perform evaluation only (default: `False`)\n",
    "- `--dist_eval`: Enable distributed evaluation (default: `False`)\n",
    "- `--num_workers`: Number of DataLoader workers (default: `10`)\n",
    "- `--pin_mem`: Pin CPU memory in DataLoader for efficient GPU transfer (default: `True`)\n",
    "\n",
    "## Distributed Training Parameters\n",
    "- `--world_size`: Number of distributed processes (default: `1`)\n",
    "- `--local_rank`: Local rank for distributed training (default: `-1`)\n",
    "- `--dist_on_itp`: Enable distributed training on ITP (default: `False`)\n",
    "- `--dist_url`: URL for distributed training setup (default: `'env://'`)\n",
    "\n",
    "## Additional Fine-Tuning Parameters\n",
    "- `--savemodel`: Save the trained model (default: `True`)\n",
    "- `--norm`: Normalization method (default: `'IMAGENET'`)\n",
    "- `--enhance`: Use enhanced data (default: `False`)\n",
    "- `--datasets_seed`: Dataset random seed (default: `2026`)\n"
   ]
  },
  {
   "cell_type": "markdown",
   "metadata": {
    "jp-MarkdownHeadingCollapsed": true
   },
   "source": [
    "# Train and Evaluate:"
   ]
  },
  {
   "cell_type": "code",
   "execution_count": null,
   "metadata": {},
   "outputs": [],
   "source": [
    "from main_finetune import main, get_args_parser \n",
    "with execution.execute() as exec:\n",
    "    args_list = [\n",
    "        \"--model\", \"RETFound_mae\", # If you are using 4-S3KP asset, this would be RETFound_dinov2, which I would recommend take a look into.\n",
    "        \"--savemodel\",\n",
    "        \"--global_pool\",\n",
    "        \"--batch_size\", \"16\",\n",
    "        \"--world_size\", \"1\",\n",
    "        \"--epochs\", \"100\",\n",
    "        \"--blr\", \"5e-3\", \"--layer_decay\", \"0.65\",\n",
    "        \"--weight_decay\", \"0.05\", \"--drop_path\", \"0.2\",\n",
    "        \"--nb_classes\", \"2\",\n",
    "        \"--data_path\", str(dataset_dir),\n",
    "        \"--input_size\", \"224\",\n",
    "        \"--task\", str(RETFound_output),\n",
    "        \"--output_dir\", str(RETFound_output),\n",
    "        \"--finetune\", str(retfound_pretrained_weight),\n",
    "    ]\n",
    "\n",
    "    args = get_args_parser().parse_args(args_list)\n",
    "    if args.output_dir:\n",
    "        Path(args.output_dir).mkdir(parents=True, exist_ok=True)\n",
    "\n",
    "    main(args)"
   ]
  },
  {
   "cell_type": "markdown",
   "metadata": {},
   "source": [
    "# Evaluate Only:\n",
    "If you already have a RETFound model, provide its path here to evaluate it directly."
   ]
  },
  {
   "cell_type": "code",
   "execution_count": 38,
   "metadata": {},
   "outputs": [
    {
     "name": "stderr",
     "output_type": "stream",
     "text": [
      "2025-06-20 12:47:11,301 - INFO - Start execution  ...\n",
      "2025-06-20 12:47:12,901 - INFO - Start execution  ...\n"
     ]
    },
    {
     "name": "stdout",
     "output_type": "stream",
     "text": [
      "[12:47:13.013271] [12:47:13.013267] [12:47:13.013347] [12:47:13.013264] [12:47:13.013364] [12:47:13.013361] [12:47:13.013375] [12:47:13.013249] [12:47:13.013393] [12:47:13.013390] [12:47:13.013404] [12:47:13.013387] [12:47:13.013418] [12:47:13.013415] [12:47:13.013429] Not using distributed mode\n",
      "[12:47:13.013536] [12:47:13.013534] [12:47:13.013552] [12:47:13.013531] [12:47:13.013566] [12:47:13.013563] [12:47:13.013577] [12:47:13.013528] [12:47:13.013594] [12:47:13.013591] [12:47:13.013605] [12:47:13.013588] [12:47:13.013619] [12:47:13.013616] [12:47:13.013630] [12:47:13.013524] [12:47:13.013650] [12:47:13.013647] [12:47:13.013661] [12:47:13.013644] [12:47:13.013675] [12:47:13.013672] [12:47:13.013686] [12:47:13.013642] [12:47:13.013703] [12:47:13.013700] [12:47:13.013713] [12:47:13.013697] [12:47:13.013727] [12:47:13.013724] [12:47:13.013738] job dir: /home/kb_766/Repos/RETFound_MAE\n",
      "[12:47:13.013802] [12:47:13.013800] [12:47:13.013815] [12:47:13.013797] [12:47:13.013829] [12:47:13.013827] [12:47:13.013840] [12:47:13.013794] [12:47:13.013857] [12:47:13.013854] [12:47:13.013868] [12:47:13.013852] [12:47:13.013882] [12:47:13.013879] [12:47:13.013893] [12:47:13.013791] [12:47:13.013923] [12:47:13.013920] [12:47:13.013935] [12:47:13.013907] [12:47:13.013949] [12:47:13.013947] [12:47:13.013960] [12:47:13.013904] [12:47:13.013977] [12:47:13.013974] [12:47:13.013988] [12:47:13.013971] [12:47:13.014002] [12:47:13.013999] [12:47:13.014013] Namespace(batch_size=16,\n",
      "epochs=100,\n",
      "accum_iter=1,\n",
      "model='RETFound_mae',\n",
      "input_size=224,\n",
      "drop_path=0.2,\n",
      "clip_grad=None,\n",
      "weight_decay=0.05,\n",
      "lr=None,\n",
      "blr=0.005,\n",
      "layer_decay=0.65,\n",
      "min_lr=1e-06,\n",
      "warmup_epochs=10,\n",
      "color_jitter=None,\n",
      "aa='rand-m9-mstd0.5-inc1',\n",
      "smoothing=0.1,\n",
      "reprob=0.25,\n",
      "remode='pixel',\n",
      "recount=1,\n",
      "resplit=False,\n",
      "mixup=0,\n",
      "cutmix=0,\n",
      "cutmix_minmax=None,\n",
      "mixup_prob=1.0,\n",
      "mixup_switch_prob=0.5,\n",
      "mixup_mode='batch',\n",
      "finetune='',\n",
      "task='./RETFound_output/task',\n",
      "global_pool=True,\n",
      "data_path='/data/kb_766/EyeAI_working/4-YX84/dataset/',\n",
      "nb_classes=5,\n",
      "output_dir='./RETFound_output/task',\n",
      "log_dir='./output_logs',\n",
      "device='cuda',\n",
      "seed=0,\n",
      "resume='/data/kb_766/EyeAI_working/deriva-ml/execution/4-YX84/downloaded-assets/Execution_Asset/2-277G_uncropped_Mar_11_2025.pth',\n",
      "start_epoch=0,\n",
      "eval=True,\n",
      "dist_eval=False,\n",
      "num_workers=10,\n",
      "pin_mem=True,\n",
      "early_stop_patience=0,\n",
      "world_size=1,\n",
      "local_rank=-1,\n",
      "dist_on_itp=False,\n",
      "dist_url='env://',\n",
      "savemodel=True,\n",
      "norm='IMAGENET',\n",
      "enhance=False,\n",
      "datasets_seed=2026,\n",
      "distributed=False)\n",
      "[12:47:16.671093] [12:47:16.671090] [12:47:16.671178] [12:47:16.671086] [12:47:16.671203] [12:47:16.671199] [12:47:16.671215] [12:47:16.671082] [12:47:16.671232] [12:47:16.671229] [12:47:16.671243] [12:47:16.671226] [12:47:16.671256] [12:47:16.671254] [12:47:16.671267] [12:47:16.671063] [12:47:16.671287] [12:47:16.671284] [12:47:16.671298] [12:47:16.671281] [12:47:16.671312] [12:47:16.671309] [12:47:16.671325] [12:47:16.671279] [12:47:16.671342] [12:47:16.671339] [12:47:16.671353] [12:47:16.671336] [12:47:16.671367] [12:47:16.671364] [12:47:16.671378] Classes: ['No_Glaucoma', 'Suspected_Glaucoma']\n",
      "[12:47:16.671408] [12:47:16.671405] [12:47:16.671419] [12:47:16.671403] [12:47:16.671432] [12:47:16.671429] [12:47:16.671443] [12:47:16.671400] [12:47:16.671460] [12:47:16.671457] [12:47:16.671471] [12:47:16.671455] [12:47:16.671485] [12:47:16.671482] [12:47:16.671495] [12:47:16.671397] [12:47:16.671515] [12:47:16.671512] [12:47:16.671526] [12:47:16.671509] [12:47:16.671539] [12:47:16.671537] [12:47:16.671550] [12:47:16.671506] [12:47:16.671567] [12:47:16.671564] [12:47:16.671577] [12:47:16.671561] [12:47:16.671591] [12:47:16.671588] [12:47:16.671602] Class-to-Index Mapping: {'No_Glaucoma': 0, 'Suspected_Glaucoma': 1}\n",
      "[12:47:16.671630] [12:47:16.671627] [12:47:16.671641] [12:47:16.671625] [12:47:16.671655] [12:47:16.671652] [12:47:16.671665] [12:47:16.671622] [12:47:16.671683] [12:47:16.671680] [12:47:16.671694] [12:47:16.671677] [12:47:16.671710] [12:47:16.671707] [12:47:16.671722] [12:47:16.671619] [12:47:16.671743] [12:47:16.671740] [12:47:16.671753] [12:47:16.671737] [12:47:16.671767] [12:47:16.671764] [12:47:16.671778] [12:47:16.671734] [12:47:16.671795] [12:47:16.671792] [12:47:16.671805] [12:47:16.671789] [12:47:16.671819] [12:47:16.671816] [12:47:16.671830] Number of Classes: 2\n",
      "[12:47:16.673215] [12:47:16.673212] [12:47:16.673233] [12:47:16.673209] [12:47:16.673249] [12:47:16.673246] [12:47:16.673260] [12:47:16.673206] [12:47:16.673276] [12:47:16.673274] [12:47:16.673287] [12:47:16.673271] [12:47:16.673301] [12:47:16.673298] [12:47:16.673312] [12:47:16.673199] [12:47:16.673331] [12:47:16.673329] [12:47:16.673342] [12:47:16.673326] [12:47:16.673356] [12:47:16.673353] [12:47:16.673367] [12:47:16.673323] [12:47:16.673383] [12:47:16.673381] [12:47:16.673394] [12:47:16.673378] [12:47:16.673408] [12:47:16.673405] [12:47:16.673418] Classes: ['No_Glaucoma', 'Suspected_Glaucoma']\n",
      "[12:47:16.673446] [12:47:16.673443] [12:47:16.673457] [12:47:16.673440] [12:47:16.673470] [12:47:16.673467] [12:47:16.673481] [12:47:16.673438] [12:47:16.673497] [12:47:16.673494] [12:47:16.673508] [12:47:16.673492] [12:47:16.673522] [12:47:16.673519] [12:47:16.673533] [12:47:16.673435] [12:47:16.673552] [12:47:16.673549] [12:47:16.673563] [12:47:16.673547] [12:47:16.673576] [12:47:16.673573] [12:47:16.673587] [12:47:16.673544] [12:47:16.673603] [12:47:16.673600] [12:47:16.673614] [12:47:16.673598] [12:47:16.673627] [12:47:16.673625] [12:47:16.673638] Class-to-Index Mapping: {'No_Glaucoma': 0, 'Suspected_Glaucoma': 1}\n",
      "[12:47:16.673665] [12:47:16.673663] [12:47:16.673676] [12:47:16.673660] [12:47:16.673690] [12:47:16.673687] [12:47:16.673701] [12:47:16.673657] [12:47:16.673717] [12:47:16.673715] [12:47:16.673728] [12:47:16.673712] [12:47:16.673741] [12:47:16.673739] [12:47:16.673752] [12:47:16.673655] [12:47:16.673771] [12:47:16.673768] [12:47:16.673782] [12:47:16.673766] [12:47:16.673796] [12:47:16.673793] [12:47:16.673806] [12:47:16.673763] [12:47:16.673822] [12:47:16.673820] [12:47:16.673834] [12:47:16.673817] [12:47:16.673847] [12:47:16.673845] [12:47:16.673858] Number of Classes: 2\n",
      "[12:47:16.678067] [12:47:16.678064] [12:47:16.678084] [12:47:16.678061] [12:47:16.678099] [12:47:16.678096] [12:47:16.678110] [12:47:16.678058] [12:47:16.678127] [12:47:16.678125] [12:47:16.678138] [12:47:16.678122] [12:47:16.678152] [12:47:16.678149] [12:47:16.678163] [12:47:16.678051] [12:47:16.678182] [12:47:16.678180] [12:47:16.678193] [12:47:16.678177] [12:47:16.678207] [12:47:16.678204] [12:47:16.678218] [12:47:16.678174] [12:47:16.678235] [12:47:16.678232] [12:47:16.678246] [12:47:16.678229] [12:47:16.678259] [12:47:16.678257] [12:47:16.678270] Classes: ['No_Glaucoma', 'Suspected_Glaucoma']\n",
      "[12:47:16.678298] [12:47:16.678295] [12:47:16.678309] [12:47:16.678293] [12:47:16.678323] [12:47:16.678320] [12:47:16.678334] [12:47:16.678290] [12:47:16.678351] [12:47:16.678349] [12:47:16.678363] [12:47:16.678346] [12:47:16.678376] [12:47:16.678374] [12:47:16.678387] [12:47:16.678287] [12:47:16.678406] [12:47:16.678404] [12:47:16.678417] [12:47:16.678401] [12:47:16.678431] [12:47:16.678428] [12:47:16.678442] [12:47:16.678398] [12:47:16.678459] [12:47:16.678456] [12:47:16.678470] [12:47:16.678453] [12:47:16.678483] [12:47:16.678481] [12:47:16.678494] Class-to-Index Mapping: {'No_Glaucoma': 0, 'Suspected_Glaucoma': 1}\n",
      "[12:47:16.678521] [12:47:16.678518] [12:47:16.678532] [12:47:16.678516] [12:47:16.678545] [12:47:16.678543] [12:47:16.678556] [12:47:16.678513] [12:47:16.678573] [12:47:16.678570] [12:47:16.678584] [12:47:16.678567] [12:47:16.678598] [12:47:16.678595] [12:47:16.678608] [12:47:16.678510] [12:47:16.678628] [12:47:16.678625] [12:47:16.678674] [12:47:16.678622] [12:47:16.678690] [12:47:16.678687] [12:47:16.678701] [12:47:16.678620] [12:47:16.678718] [12:47:16.678715] [12:47:16.678729] [12:47:16.678712] [12:47:16.678743] [12:47:16.678740] [12:47:16.678754] Number of Classes: 2\n",
      "[12:47:43.522340] [12:47:43.522330] [12:47:43.522487] [12:47:43.522320] [12:47:43.522540] [12:47:43.522529] [12:47:43.522568] [12:47:43.522315] [12:47:43.522626] [12:47:43.522617] [12:47:43.522732] [12:47:43.522606] [12:47:43.522783] [12:47:43.522772] [12:47:43.522809] [12:47:43.522286] [12:47:43.522862] [12:47:43.522853] [12:47:43.522901] [12:47:43.522843] [12:47:43.522942] [12:47:43.522936] [12:47:43.522971] [12:47:43.522833] [12:47:43.523030] [12:47:43.523020] [12:47:43.523069] [12:47:43.523010] [12:47:43.523119] [12:47:43.523108] [12:47:43.523156] Load checkpoint from: /data/kb_766/EyeAI_working/deriva-ml/execution/4-YX84/downloaded-assets/Execution_Asset/2-277G_uncropped_Mar_11_2025.pth\n",
      "[12:47:43.765443] [12:47:43.765439] [12:47:43.765559] [12:47:43.765435] [12:47:43.765581] [12:47:43.765578] [12:47:43.765594] [12:47:43.765431] [12:47:43.765611] [12:47:43.765608] [12:47:43.765622] [12:47:43.765605] [12:47:43.765636] [12:47:43.765633] [12:47:43.765647] [12:47:43.765410] [12:47:43.765667] [12:47:43.765664] [12:47:43.765678] [12:47:43.765661] [12:47:43.765692] [12:47:43.765689] [12:47:43.765703] [12:47:43.765659] [12:47:43.765719] [12:47:43.765716] [12:47:43.765730] [12:47:43.765714] [12:47:43.765744] [12:47:43.765741] [12:47:43.765755] number of model params (M): 303.31\n",
      "[12:47:43.765786] [12:47:43.765783] [12:47:43.765797] [12:47:43.765781] [12:47:43.765812] [12:47:43.765809] [12:47:43.765822] [12:47:43.765778] [12:47:43.765841] [12:47:43.765837] [12:47:43.765853] [12:47:43.765834] [12:47:43.765866] [12:47:43.765864] [12:47:43.765877] [12:47:43.765775] [12:47:43.765896] [12:47:43.765894] [12:47:43.765908] [12:47:43.765891] [12:47:43.765935] [12:47:43.765932] [12:47:43.765946] [12:47:43.765888] [12:47:43.765962] [12:47:43.765960] [12:47:43.765973] [12:47:43.765957] [12:47:43.765987] [12:47:43.765984] [12:47:43.765998] base lr: 5.00e-03\n",
      "[12:47:43.766023] [12:47:43.766021] [12:47:43.766034] [12:47:43.766018] [12:47:43.766048] [12:47:43.766045] [12:47:43.766060] [12:47:43.766015] [12:47:43.766077] [12:47:43.766074] [12:47:43.766088] [12:47:43.766071] [12:47:43.766103] [12:47:43.766100] [12:47:43.766113] [12:47:43.766012] [12:47:43.766133] [12:47:43.766130] [12:47:43.766144] [12:47:43.766128] [12:47:43.766159] [12:47:43.766156] [12:47:43.766169] [12:47:43.766125] [12:47:43.766186] [12:47:43.766183] [12:47:43.766197] [12:47:43.766181] [12:47:43.766211] [12:47:43.766209] [12:47:43.766222] actual lr: 3.13e-04\n",
      "[12:47:43.766245] [12:47:43.766242] [12:47:43.766256] [12:47:43.766240] [12:47:43.766270] [12:47:43.766267] [12:47:43.766281] [12:47:43.766237] [12:47:43.766297] [12:47:43.766294] [12:47:43.766308] [12:47:43.766292] [12:47:43.766322] [12:47:43.766319] [12:47:43.766333] [12:47:43.766234] [12:47:43.766352] [12:47:43.766349] [12:47:43.766363] [12:47:43.766347] [12:47:43.766376] [12:47:43.766374] [12:47:43.766387] [12:47:43.766344] [12:47:43.766403] [12:47:43.766401] [12:47:43.766414] [12:47:43.766398] [12:47:43.766428] [12:47:43.766425] [12:47:43.766439] accumulate grad iterations: 1\n",
      "[12:47:43.766461] [12:47:43.766459] [12:47:43.766472] [12:47:43.766456] [12:47:43.766486] [12:47:43.766483] [12:47:43.766497] [12:47:43.766453] [12:47:43.766513] [12:47:43.766511] [12:47:43.766524] [12:47:43.766508] [12:47:43.766538] [12:47:43.766535] [12:47:43.766549] [12:47:43.766450] [12:47:43.766568] [12:47:43.766565] [12:47:43.766579] [12:47:43.766562] [12:47:43.766593] [12:47:43.766590] [12:47:43.766603] [12:47:43.766560] [12:47:43.766620] [12:47:43.766617] [12:47:43.766630] [12:47:43.766614] [12:47:43.766675] [12:47:43.766670] [12:47:43.766686] effective batch size: 16\n",
      "[12:47:43.773192] [12:47:43.773189] [12:47:43.773211] [12:47:43.773186] [12:47:43.773226] [12:47:43.773224] [12:47:43.773238] [12:47:43.773183] [12:47:43.773255] [12:47:43.773253] [12:47:43.773267] [12:47:43.773250] [12:47:43.773281] [12:47:43.773278] [12:47:43.773292] [12:47:43.773176] [12:47:43.773311] [12:47:43.773308] [12:47:43.773322] [12:47:43.773306] [12:47:43.773336] [12:47:43.773333] [12:47:43.773347] [12:47:43.773303] [12:47:43.773364] [12:47:43.773361] [12:47:43.773375] [12:47:43.773358] [12:47:43.773389] [12:47:43.773386] [12:47:43.773400] criterion = CrossEntropyLoss()\n",
      "[12:48:11.445445] [12:48:11.445441] [12:48:11.453195] [12:48:11.445438] [12:48:11.453216] [12:48:11.453212] [12:48:11.453227] [12:48:11.445433] [12:48:11.453245] [12:48:11.453242] [12:48:11.453256] [12:48:11.453239] [12:48:11.453270] [12:48:11.453267] [12:48:11.453282] [12:48:11.444740] [12:48:11.453305] [12:48:11.453302] [12:48:11.453317] [12:48:11.453299] [12:48:11.453331] [12:48:11.453328] [12:48:11.453342] [12:48:11.453295] [12:48:11.453361] [12:48:11.453358] [12:48:11.453375] [12:48:11.453355] [12:48:11.453388] [12:48:11.453386] [12:48:11.453399] Resume checkpoint /data/kb_766/EyeAI_working/deriva-ml/execution/4-YX84/downloaded-assets/Execution_Asset/2-277G_uncropped_Mar_11_2025.pth\n",
      "[12:48:11.458786] [12:48:11.458783] [12:48:11.458806] [12:48:11.458781] [12:48:11.458820] [12:48:11.458817] [12:48:11.458831] [12:48:11.458777] [12:48:11.458848] [12:48:11.458845] [12:48:11.458858] [12:48:11.458842] [12:48:11.458872] [12:48:11.458869] [12:48:11.458882] [12:48:11.458768] [12:48:11.458902] [12:48:11.458899] [12:48:11.458912] [12:48:11.458896] [12:48:11.458926] [12:48:11.458923] [12:48:11.458937] [12:48:11.458894] [12:48:11.458953] [12:48:11.458950] [12:48:11.458963] [12:48:11.458947] [12:48:11.458976] [12:48:11.458974] [12:48:11.458987] Test with the best model at epoch = 39\n",
      "[12:48:29.055171] [12:48:29.055153] [12:48:29.063012] [12:48:29.055137] [12:48:29.063066] [12:48:29.063056] [12:48:29.063097] [12:48:29.055120] [12:48:29.063149] [12:48:29.063144] [12:48:29.063185] [12:48:29.063127] [12:48:29.063227] [12:48:29.063218] [12:48:29.063256] [12:48:29.055086] [12:48:29.063312] [12:48:29.063308] [12:48:29.063332] [12:48:29.063304] [12:48:29.063366] [12:48:29.063356] [12:48:29.063395] [12:48:29.063287] [12:48:29.063443] [12:48:29.063434] [12:48:29.063463] [12:48:29.063428] [12:48:29.063502] [12:48:29.063492] [12:48:29.063531] test:  [ 0/69]  eta: 0:20:12  loss: 0.0854 (0.0854)  time: 17.5764  data: 15.7831  max mem: 3011\n",
      "[12:48:45.167188] [12:48:45.167183] [12:48:45.167315] [12:48:45.167179] [12:48:45.167341] [12:48:45.167336] [12:48:45.167359] [12:48:45.167174] [12:48:45.167383] [12:48:45.167379] [12:48:45.167399] [12:48:45.167375] [12:48:45.167422] [12:48:45.167418] [12:48:45.167437] [12:48:45.167156] [12:48:45.167467] [12:48:45.167464] [12:48:45.167483] [12:48:45.167460] [12:48:45.167503] [12:48:45.167499] [12:48:45.167518] [12:48:45.167456] [12:48:45.167541] [12:48:45.167538] [12:48:45.167557] [12:48:45.167534] [12:48:45.167576] [12:48:45.167572] [12:48:45.167591] test:  [10/69]  eta: 0:03:00  loss: 0.1931 (0.2973)  time: 3.0610  data: 2.8393  max mem: 3015\n",
      "[12:48:58.396348] [12:48:58.396339] [12:48:58.396490] [12:48:58.396330] [12:48:58.396525] [12:48:58.396516] [12:48:58.396562] [12:48:58.396324] [12:48:58.396610] [12:48:58.396602] [12:48:58.396639] [12:48:58.396592] [12:48:58.396677] [12:48:58.396671] [12:48:58.396707] [12:48:58.396301] [12:48:58.396758] [12:48:58.396750] [12:48:58.396787] [12:48:58.396745] [12:48:58.396825] [12:48:58.396820] [12:48:58.396846] [12:48:58.396736] [12:48:58.396889] [12:48:58.396880] [12:48:58.396918] [12:48:58.396875] [12:48:58.396955] [12:48:58.396950] [12:48:58.396979] test:  [20/69]  eta: 0:01:49  loss: 0.1931 (0.2655)  time: 1.4661  data: 1.4012  max mem: 3015\n",
      "[12:49:14.375553] [12:49:14.375549] [12:49:14.375862] [12:49:14.375543] [12:49:14.375887] [12:49:14.375882] [12:49:14.375904] [12:49:14.375538] [12:49:14.375929] [12:49:14.375925] [12:49:14.375946] [12:49:14.375921] [12:49:14.375967] [12:49:14.375963] [12:49:14.375984] [12:49:14.375515] [12:49:14.376023] [12:49:14.376019] [12:49:14.376040] [12:49:14.376016] [12:49:14.376061] [12:49:14.376057] [12:49:14.376078] [12:49:14.376012] [12:49:14.376102] [12:49:14.376098] [12:49:14.376119] [12:49:14.376094] [12:49:14.376138] [12:49:14.376135] [12:49:14.376155] test:  [30/69]  eta: 0:01:19  loss: 0.2363 (0.2843)  time: 1.4592  data: 1.3949  max mem: 3015\n",
      "[12:49:29.911842] [12:49:29.911837] [12:49:29.911984] [12:49:29.911833] [12:49:29.912007] [12:49:29.912003] [12:49:29.912022] [12:49:29.911829] [12:49:29.912046] [12:49:29.912042] [12:49:29.912061] [12:49:29.912039] [12:49:29.912081] [12:49:29.912077] [12:49:29.912096] [12:49:29.911813] [12:49:29.912123] [12:49:29.912119] [12:49:29.912139] [12:49:29.912116] [12:49:29.912158] [12:49:29.912154] [12:49:29.912173] [12:49:29.912112] [12:49:29.912196] [12:49:29.912192] [12:49:29.912211] [12:49:29.912189] [12:49:29.912231] [12:49:29.912227] [12:49:29.912246] test:  [40/69]  eta: 0:00:55  loss: 0.4797 (0.3800)  time: 1.5746  data: 1.5114  max mem: 3015\n",
      "[12:49:44.275551] [12:49:44.275547] [12:49:44.275660] [12:49:44.275542] [12:49:44.275684] [12:49:44.275680] [12:49:44.275701] [12:49:44.275536] [12:49:44.275726] [12:49:44.275722] [12:49:44.275742] [12:49:44.275718] [12:49:44.275762] [12:49:44.275759] [12:49:44.275779] [12:49:44.275522] [12:49:44.275807] [12:49:44.275803] [12:49:44.275824] [12:49:44.275799] [12:49:44.275844] [12:49:44.275840] [12:49:44.275860] [12:49:44.275796] [12:49:44.275884] [12:49:44.275880] [12:49:44.275900] [12:49:44.275876] [12:49:44.275920] [12:49:44.275916] [12:49:44.275936] test:  [50/69]  eta: 0:00:34  loss: 0.6614 (0.4454)  time: 1.4949  data: 1.4330  max mem: 3015\n",
      "[12:49:57.339610] [12:49:57.339606] [12:49:57.339716] [12:49:57.339603] [12:49:57.339733] [12:49:57.339730] [12:49:57.339744] [12:49:57.339599] [12:49:57.339761] [12:49:57.339758] [12:49:57.339772] [12:49:57.339755] [12:49:57.339786] [12:49:57.339783] [12:49:57.339797] [12:49:57.339586] [12:49:57.339817] [12:49:57.339815] [12:49:57.339828] [12:49:57.339812] [12:49:57.339842] [12:49:57.339840] [12:49:57.339853] [12:49:57.339809] [12:49:57.339870] [12:49:57.339867] [12:49:57.339881] [12:49:57.339864] [12:49:57.339894] [12:49:57.339891] [12:49:57.339905] test:  [60/69]  eta: 0:00:15  loss: 0.6786 (0.4846)  time: 1.3713  data: 1.3104  max mem: 3015\n",
      "[12:49:58.595749] [12:49:58.595746] [12:49:58.595845] [12:49:58.595742] [12:49:58.595865] [12:49:58.595862] [12:49:58.595877] [12:49:58.595738] [12:49:58.595894] [12:49:58.595892] [12:49:58.595905] [12:49:58.595889] [12:49:58.595919] [12:49:58.595917] [12:49:58.595930] [12:49:58.595726] [12:49:58.595950] [12:49:58.595947] [12:49:58.595961] [12:49:58.595944] [12:49:58.595974] [12:49:58.595972] [12:49:58.595985] [12:49:58.595942] [12:49:58.596001] [12:49:58.595999] [12:49:58.596012] [12:49:58.595996] [12:49:58.596026] [12:49:58.596023] [12:49:58.596036] test:  [68/69]  eta: 0:00:01  loss: 0.6196 (0.4981)  time: 1.1841  data: 1.0971  max mem: 3015\n",
      "[12:49:59.412443] [12:49:59.412440] [12:49:59.412534] [12:49:59.412437] [12:49:59.412552] [12:49:59.412549] [12:49:59.412566] [12:49:59.412433] [12:49:59.412584] [12:49:59.412581] [12:49:59.412596] [12:49:59.412578] [12:49:59.412610] [12:49:59.412607] [12:49:59.412621] [12:49:59.412422] [12:49:59.412641] [12:49:59.412638] [12:49:59.412653] [12:49:59.412635] [12:49:59.412667] [12:49:59.412664] [12:49:59.412678] [12:49:59.412633] [12:49:59.412694] [12:49:59.412692] [12:49:59.412706] [12:49:59.412689] [12:49:59.412720] [12:49:59.412717] [12:49:59.412731] test: Total time: 0:01:47 (1.5645 s / it)\n",
      "[12:49:59.496363] [12:49:59.496360] [12:49:59.496383] [12:49:59.496357] [12:49:59.496398] [12:49:59.496395] [12:49:59.496409] [12:49:59.496353] [12:49:59.496427] [12:49:59.496425] [12:49:59.496438] [12:49:59.496422] [12:49:59.496452] [12:49:59.496449] [12:49:59.496463] [12:49:59.496342] [12:49:59.496482] [12:49:59.496480] [12:49:59.496496] [12:49:59.496477] [12:49:59.496511] [12:49:59.496508] [12:49:59.496523] [12:49:59.496474] [12:49:59.496539] [12:49:59.496537] [12:49:59.496550] [12:49:59.496534] [12:49:59.496563] [12:49:59.496561] [12:49:59.496575] Skipping ROC AUC calculation due to error: Only one class present in y_true. ROC AUC score is not defined in that case.\n",
      "[12:49:59.496990] [12:49:59.496987] [12:49:59.497006] [12:49:59.496984] [12:49:59.497021] [12:49:59.497018] [12:49:59.497032] [12:49:59.496981] [12:49:59.497056] [12:49:59.497053] [12:49:59.497066] [12:49:59.497050] [12:49:59.497082] [12:49:59.497079] [12:49:59.497093] [12:49:59.496972] [12:49:59.497112] [12:49:59.497109] [12:49:59.497122] [12:49:59.497107] [12:49:59.497136] [12:49:59.497133] [12:49:59.497147] [12:49:59.497104] [12:49:59.497163] [12:49:59.497160] [12:49:59.497173] [12:49:59.497157] [12:49:59.497187] [12:49:59.497184] [12:49:59.497198] val loss: 0.49807234324406885\n",
      "[12:49:59.497233] [12:49:59.497230] [12:49:59.497244] [12:49:59.497228] [12:49:59.497258] [12:49:59.497255] [12:49:59.497268] [12:49:59.497225] [12:49:59.497286] [12:49:59.497283] [12:49:59.497297] [12:49:59.497280] [12:49:59.497311] [12:49:59.497308] [12:49:59.497322] [12:49:59.497222] [12:49:59.497341] [12:49:59.497338] [12:49:59.497352] [12:49:59.497336] [12:49:59.497365] [12:49:59.497363] [12:49:59.497376] [12:49:59.497333] [12:49:59.497392] [12:49:59.497390] [12:49:59.497403] [12:49:59.497387] [12:49:59.497417] [12:49:59.497414] [12:49:59.497428] Accuracy: 0.8364, F1 Score: 0.3345, ROC AUC: 0.0000, Hamming Loss: 0.0654,\n",
      " Jaccard Score: 0.2875, Precision: 0.3363, Recall: 0.3354,\n",
      " Average Precision: 0.3614, Kappa: 0.6739, Score: 0.3361\n"
     ]
    },
    {
     "name": "stderr",
     "output_type": "stream",
     "text": [
      "/home/kb_766/.conda/envs/eye-ai-retfound/lib/python3.10/site-packages/sklearn/metrics/_classification.py:1509: UndefinedMetricWarning: Jaccard is ill-defined and being set to 0.0 in labels with no true or predicted samples. Use `zero_division` parameter to control this behavior.\n",
      "  _warn_prf(average, modifier, f\"{metric.capitalize()} is\", len(result))\n",
      "/home/kb_766/.conda/envs/eye-ai-retfound/lib/python3.10/site-packages/sklearn/metrics/_ranking.py:993: UserWarning: No positive class found in y_true, recall is set to one for all thresholds.\n",
      "  warnings.warn(\n",
      "/home/kb_766/.conda/envs/eye-ai-retfound/lib/python3.10/site-packages/sklearn/metrics/_ranking.py:993: UserWarning: No positive class found in y_true, recall is set to one for all thresholds.\n",
      "  warnings.warn(\n",
      "/home/kb_766/.conda/envs/eye-ai-retfound/lib/python3.10/site-packages/sklearn/metrics/_ranking.py:993: UserWarning: No positive class found in y_true, recall is set to one for all thresholds.\n",
      "  warnings.warn(\n",
      "2025-06-20 12:50:00,754 - INFO - Successfully run Ml.\n",
      "2025-06-20 12:50:00,864 - INFO - Algorithm execution ended.\n"
     ]
    },
    {
     "data": {
      "image/png": "[encoded data removed]",
      "text/plain": [
       "<Figure size 640x480 with 2 Axes>"
      ]
     },
     "metadata": {},
     "output_type": "display_data"
    }
   ],
   "source": [
    "from main_finetune import main, get_args_parser \n",
    "with execution.execute() as exec:\n",
    "    path_to_model = model_path\n",
    "    args_list = [\n",
    "        \"--model\", \"RETFound_mae\",\n",
    "        \"--eval\",\n",
    "        \"--savemodel\",\n",
    "        \"--global_pool\",\n",
    "        \"--batch_size\", \"16\",\n",
    "        \"--world_size\", \"1\",\n",
    "        \"--epochs\", \"100\",\n",
    "        \"--blr\", \"5e-3\", \"--layer_decay\", \"0.65\",\n",
    "        \"--weight_decay\", \"0.05\", \"--drop_path\", \"0.2\",\n",
    "        \"--nb_classes\", \"5\",\n",
    "        \"--data_path\", '/data/kb_766/EyeAI_working/4-YX84/dataset/',\n",
    "        \"--input_size\", \"224\",\n",
    "        \"--task\", str(RETFound_output),\n",
    "        \"--output_dir\", str(RETFound_output),\n",
    "        \"--resume\", path_to_model,\n",
    "    ]\n",
    "\n",
    "    args = get_args_parser().parse_args(args_list)\n",
    "    if args.output_dir:\n",
    "        Path(args.output_dir).mkdir(parents=True, exist_ok=True)\n",
    "\n",
    "    main(args)"
   ]
  },
  {
   "cell_type": "code",
   "execution_count": 40,
   "metadata": {},
   "outputs": [
    {
     "data": {
      "text/plain": [
       "'./RETFound_output/task'"
      ]
     },
     "execution_count": 40,
     "metadata": {},
     "output_type": "execute_result"
    }
   ],
   "source": [
    "RETFound_output"
   ]
  },
  {
   "cell_type": "code",
   "execution_count": 49,
   "metadata": {},
   "outputs": [
    {
     "data": {
      "text/html": [
       "<div>\n",
       "<style scoped>\n",
       "    .dataframe tbody tr th:only-of-type {\n",
       "        vertical-align: middle;\n",
       "    }\n",
       "\n",
       "    .dataframe tbody tr th {\n",
       "        vertical-align: top;\n",
       "    }\n",
       "\n",
       "    .dataframe thead th {\n",
       "        text-align: right;\n",
       "    }\n",
       "</style>\n",
       "<table border=\"1\" class=\"dataframe\">\n",
       "  <thead>\n",
       "    <tr style=\"text-align: right;\">\n",
       "      <th></th>\n",
       "      <th>Filename</th>\n",
       "      <th>True Label</th>\n",
       "      <th>Prediction</th>\n",
       "      <th>Probability Score</th>\n",
       "    </tr>\n",
       "  </thead>\n",
       "  <tbody>\n",
       "    <tr>\n",
       "      <th>0</th>\n",
       "      <td>7P0A.JPG</td>\n",
       "      <td>0</td>\n",
       "      <td>0</td>\n",
       "      <td>0.011826</td>\n",
       "    </tr>\n",
       "    <tr>\n",
       "      <th>1</th>\n",
       "      <td>7P0C.JPG</td>\n",
       "      <td>0</td>\n",
       "      <td>0</td>\n",
       "      <td>0.016630</td>\n",
       "    </tr>\n",
       "    <tr>\n",
       "      <th>2</th>\n",
       "      <td>7P9A.JPG</td>\n",
       "      <td>0</td>\n",
       "      <td>0</td>\n",
       "      <td>0.006584</td>\n",
       "    </tr>\n",
       "    <tr>\n",
       "      <th>3</th>\n",
       "      <td>7P9J.JPG</td>\n",
       "      <td>0</td>\n",
       "      <td>0</td>\n",
       "      <td>0.020970</td>\n",
       "    </tr>\n",
       "    <tr>\n",
       "      <th>4</th>\n",
       "      <td>7PE8.JPG</td>\n",
       "      <td>0</td>\n",
       "      <td>0</td>\n",
       "      <td>0.007980</td>\n",
       "    </tr>\n",
       "    <tr>\n",
       "      <th>...</th>\n",
       "      <td>...</td>\n",
       "      <td>...</td>\n",
       "      <td>...</td>\n",
       "      <td>...</td>\n",
       "    </tr>\n",
       "    <tr>\n",
       "      <th>1089</th>\n",
       "      <td>AH5P.JPG</td>\n",
       "      <td>1</td>\n",
       "      <td>1</td>\n",
       "      <td>0.956500</td>\n",
       "    </tr>\n",
       "    <tr>\n",
       "      <th>1090</th>\n",
       "      <td>AH6P.JPG</td>\n",
       "      <td>1</td>\n",
       "      <td>1</td>\n",
       "      <td>0.919000</td>\n",
       "    </tr>\n",
       "    <tr>\n",
       "      <th>1091</th>\n",
       "      <td>AH6R.JPG</td>\n",
       "      <td>1</td>\n",
       "      <td>1</td>\n",
       "      <td>0.618700</td>\n",
       "    </tr>\n",
       "    <tr>\n",
       "      <th>1092</th>\n",
       "      <td>AHCR.JPG</td>\n",
       "      <td>1</td>\n",
       "      <td>1</td>\n",
       "      <td>0.927000</td>\n",
       "    </tr>\n",
       "    <tr>\n",
       "      <th>1093</th>\n",
       "      <td>AHCW.JPG</td>\n",
       "      <td>1</td>\n",
       "      <td>1</td>\n",
       "      <td>0.937000</td>\n",
       "    </tr>\n",
       "  </tbody>\n",
       "</table>\n",
       "<p>1094 rows × 4 columns</p>\n",
       "</div>"
      ],
      "text/plain": [
       "      Filename  True Label  Prediction  Probability Score\n",
       "0     7P0A.JPG           0           0           0.011826\n",
       "1     7P0C.JPG           0           0           0.016630\n",
       "2     7P9A.JPG           0           0           0.006584\n",
       "3     7P9J.JPG           0           0           0.020970\n",
       "4     7PE8.JPG           0           0           0.007980\n",
       "...        ...         ...         ...                ...\n",
       "1089  AH5P.JPG           1           1           0.956500\n",
       "1090  AH6P.JPG           1           1           0.919000\n",
       "1091  AH6R.JPG           1           1           0.618700\n",
       "1092  AHCR.JPG           1           1           0.927000\n",
       "1093  AHCW.JPG           1           1           0.937000\n",
       "\n",
       "[1094 rows x 4 columns]"
      ]
     },
     "execution_count": 49,
     "metadata": {},
     "output_type": "execute_result"
    }
   ],
   "source": [
    "#pd.read_csv('./RETFound_output/task/RETFound_output/task/metrics_test.csv')\n",
    "pd.read_csv('./RETFound_output/task/RETFound_output/task/roc_predictions_test.csv')  "
   ]
  },
  {
   "cell_type": "code",
   "execution_count": 54,
   "metadata": {},
   "outputs": [
    {
     "data": {
      "image/png": "[encoded data removed]",
      "text/plain": [
       "<Figure size 640x480 with 1 Axes>"
      ]
     },
     "metadata": {},
     "output_type": "display_data"
    }
   ],
   "source": [
    "# Calibration curve\n",
    "from sklearn.calibration import calibration_curve\n",
    "import matplotlib.pyplot as plt\n",
    "\n",
    "preds = pd.read_csv('./RETFound_output/task/RETFound_output/task/roc_predictions_test.csv') \n",
    "prob_true, prob_pred = calibration_curve( preds[\"True Label\"], preds[\"Probability Score\"], n_bins=10, strategy='uniform')\n",
    "plt.plot(prob_pred, prob_true, marker='o', label='Model')\n",
    "plt.plot([0, 1], [0, 1], linestyle='--', label='Perfectly calibrated')\n",
    "plt.xlabel('Mean predicted probability')\n",
    "plt.ylabel('Fraction of positives')\n",
    "plt.title('Calibration curve')\n",
    "plt.legend()\n",
    "plt.show()"
   ]
  },
  {
   "cell_type": "code",
   "execution_count": 58,
   "metadata": {},
   "outputs": [
    {
     "data": {
      "image/png": "[encoded data removed]",
      "text/plain": [
       "<Figure size 640x480 with 1 Axes>"
      ]
     },
     "metadata": {},
     "output_type": "display_data"
    }
   ],
   "source": [
    "from sklearn.metrics import roc_curve, auc\n",
    "\n",
    "y_true = preds[\"True Label\"]\n",
    "y_scores = preds[\"Probability Score\"]\n",
    "\n",
    "# Compute ROC curve and AUC\n",
    "fpr, tpr, thresholds = roc_curve(y_true, y_scores)\n",
    "roc_auc = auc(fpr, tpr)\n",
    "\n",
    "plt.figure()\n",
    "plt.plot(fpr, tpr, color='darkorange', lw=2, label=f\"ROC curve (AUC = {roc_auc:.2f})\")\n",
    "plt.plot([0, 1], [0, 1], color='navy', lw=1, linestyle='--')  # Diagonal line\n",
    "plt.xlim([0.0, 1.0])\n",
    "plt.ylim([0.0, 1.05])\n",
    "plt.xlabel(\"False Positive Rate\")\n",
    "plt.ylabel(\"True Positive Rate\")\n",
    "plt.title(\"Receiver Operating Characteristic\")\n",
    "plt.legend(loc=\"lower right\")\n",
    "plt.grid(True)\n",
    "plt.show()"
   ]
  },
  {
   "cell_type": "markdown",
   "metadata": {},
   "source": [
    "# Upload results:\n",
    "We now need to set up the paths to upload the files to the catalog. Please note that this process uploads a copy of the files, even when clean_folder=True. The original files will remain on your system in case you wish to revisit them later. However, you should consider deleting them afterward to conserve storage.\n",
    "\n",
    "Alternatively, you can move the files directly to the corresponding path created by execution.asset_file_path(). This ensures that you are uploading the original files instead of creating a copy."
   ]
  },
  {
   "cell_type": "code",
   "execution_count": null,
   "metadata": {},
   "outputs": [],
   "source": [
    "#This loop creates copies.\n",
    "for filename in os.listdir(RETFound_output):\n",
    "    file_path = os.path.join(RETFound_output, filename)\n",
    "    if os.path.isfile(file_path):\n",
    "        asset_type = \"\"\n",
    "        if filename.endswith(('csv', 'jpg', 'txt')):\n",
    "            asset_type = \"Model_Prediction\"\n",
    "        elif filename.endswith('pth'):\n",
    "            asset_type = \"Diagnosis_Model\"\n",
    "        if asset_type != \"\":\n",
    "            path = execution.asset_file_path(\n",
    "                asset_name=\"Execution_Asset\",\n",
    "                file_name=file_path,\n",
    "                asset_types=asset_type\n",
    "            )"
   ]
  },
  {
   "cell_type": "code",
   "execution_count": null,
   "metadata": {},
   "outputs": [],
   "source": [
    "#Upload and end the execution\n",
    "execution.upload_execution_outputs(clean_folder=True)"
   ]
  }
 ],
 "metadata": {
  "kernelspec": {
   "display_name": "RETFound-kernel",
   "language": "python",
   "name": "eye-ai-retfound"
  },
  "language_info": {
   "codemirror_mode": {
    "name": "ipython",
    "version": 3
   },
   "file_extension": ".py",
   "mimetype": "text/x-python",
   "name": "python",
   "nbconvert_exporter": "python",
   "pygments_lexer": "ipython3",
   "version": "3.10.13"
  }
 },
 "nbformat": 4,
 "nbformat_minor": 4
}
