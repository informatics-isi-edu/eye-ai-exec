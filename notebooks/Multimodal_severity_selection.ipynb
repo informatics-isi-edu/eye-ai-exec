{
 "cells": [
  {
   "cell_type": "code",
   "execution_count": null,
   "id": "98411793-13d3-4deb-b559-7a61f536b432",
   "metadata": {},
   "outputs": [],
   "source": [
    "repo_dir = \"Repos\"   # Set this to be where your github repos are located.\n",
    "%load_ext autoreload\n",
    "%autoreload 2\n",
    "\n",
    "# Update the load path so python can find modules for the model\n",
    "import sys\n",
    "from pathlib import Path\n",
    "sys.path.insert(0, str(Path.home() / repo_dir / \"eye-ai-ml\"))"
   ]
  },
  {
   "cell_type": "code",
   "execution_count": null,
   "id": "4ec94952-b138-4536-8223-a44c150f1cc8",
   "metadata": {},
   "outputs": [],
   "source": [
    "# Prerequisites\n",
    "\n",
    "import json\n",
    "import os\n",
    "from eye_ai.eye_ai import EyeAI\n",
    "import pandas as pd\n",
    "from pathlib import Path, PurePath\n",
    "import logging\n",
    "# import torch\n",
    "\n",
    "logging.basicConfig(level=logging.INFO, format='%(asctime)s - %(levelname)s - %(message)s', force=True)"
   ]
  },
  {
   "cell_type": "code",
   "execution_count": null,
   "id": "54c2963f-6805-44ab-a78f-dfff3a14ae80",
   "metadata": {},
   "outputs": [],
   "source": [
    "from deriva.core.utils.globus_auth_utils import GlobusNativeLogin\n",
    "catalog_id = \"eye-ai\" #@param\n",
    "host = 'www.eye-ai.org'\n",
    "# host = 'dev.eye-ai.org'\n",
    "\n",
    "gnl = GlobusNativeLogin(host=host)\n",
    "if gnl.is_logged_in([host]):\n",
    "    print(\"You are already logged in.\")\n",
    "else:\n",
    "    gnl.login([host], no_local_server=True, no_browser=True, refresh_tokens=True, update_bdbag_keychain=True)\n",
    "    print(\"Login Successful\")"
   ]
  },
  {
   "cell_type": "code",
   "execution_count": null,
   "id": "859fb65e-f7a1-4e65-abf8-f209390c0211",
   "metadata": {},
   "outputs": [],
   "source": [
    "# Variables to configure the rest of the notebook.\n",
    "\n",
    "cache_dir = '/data'        # Directory in which to cache materialized BDBags for datasets\n",
    "working_dir = '/data'    # Directory in which to place output files for later upload.\n",
    "\n",
    "configuration_rid=\"2-C62W\" # rid dev:2-BHAA prod:2-C62W\n"
   ]
  },
  {
   "cell_type": "code",
   "execution_count": null,
   "id": "4ef26797-d732-4289-bc06-899f4a0b3176",
   "metadata": {},
   "outputs": [],
   "source": [
    "EA = EyeAI(hostname = host, catalog_id = catalog_id, cache_dir= cache_dir, working_dir=working_dir)"
   ]
  },
  {
   "cell_type": "code",
   "execution_count": null,
   "id": "6f5059bd-0419-4468-a991-23c59875a400",
   "metadata": {},
   "outputs": [],
   "source": [
    "# @title Initiate an Execution\n",
    "configuration_records = EA.execution_init(configuration_rid=configuration_rid)\n",
    "configuration_records.model_dump()"
   ]
  },
  {
   "cell_type": "markdown",
   "id": "caf63bba-a4ca-45c6-99ff-b1512babc805",
   "metadata": {},
   "source": [
    "# Extract multimodal data"
   ]
  },
  {
   "cell_type": "code",
   "execution_count": null,
   "id": "60ff7a69-63dc-40ab-92c5-bfda30c3d5f1",
   "metadata": {},
   "outputs": [],
   "source": [
    "# this is duplicate code, already done in severity_analysis method\n",
    "\n",
    "# Extract four modalities from the multimodal dataset\n",
    "# modality_df = EA.extract_modality(configuration_records.bag_paths[0])\n",
    "# modality_df # returns the paths to four csv file for each modality (Clinical data, HVF reports, RNFL reports, fundus image)"
   ]
  },
  {
   "cell_type": "code",
   "execution_count": null,
   "id": "64560f77-5594-4c7e-abf8-450b1c021152",
   "metadata": {},
   "outputs": [],
   "source": [
    "# Extract and join four modalities from the multimodal dataset\n",
    "#wide =  EA.multimodal_wide(configuration_records.bag_paths[0])"
   ]
  },
  {
   "cell_type": "markdown",
   "id": "cf886cec-28cc-47dc-b27d-094c0c962ba8",
   "metadata": {},
   "source": [
    "# Severity analysis"
   ]
  },
  {
   "cell_type": "code",
   "execution_count": null,
   "id": "2eab770b-7b4d-4a2a-9300-940076e5c787",
   "metadata": {},
   "outputs": [],
   "source": [
    "wide = EA.severity_analysis(configuration_records.bag_paths[0])"
   ]
  },
  {
   "cell_type": "code",
   "execution_count": null,
   "id": "e99a7f0d-d3e9-48e4-8f03-0ea014406560",
   "metadata": {},
   "outputs": [],
   "source": [
    "# Save results\n",
    "severity_compare = wide[['RID_Subject', 'Subject_ID', 'Gender', 'Ethnicity', 'Side', 'Date_of_Encounter_Fundus', 'CDR', 'Date_of_Encounter_HVF', 'MD', \n",
    "                         'Date_of_Encounter_RNFL', 'Average_RNFL_Thickness(μm)', 'RNFL_severe', 'HVF_severe', 'CDR_severe', 'Severity_Mismatch']]\n",
    "\n",
    "os.mkdir(configuration_records.working_dir/'Execution_Assets/Multimodal_Analysis/')\n",
    "wide_path = configuration_records.working_dir/'Execution_Assets/Multimodal_Analysis/wide_multimodal_full.csv'\n",
    "severe_path = configuration_records.working_dir/'Execution_Assets/Multimodal_Analysis/severity_compare.csv'\n",
    "wide.to_csv(wide_path, index=False)\n",
    "severity_compare.to_csv(severe_path, index=False)"
   ]
  },
  {
   "cell_type": "code",
   "execution_count": null,
   "id": "a31cce7b-3fb2-4f56-b41f-8b397a72574b",
   "metadata": {},
   "outputs": [],
   "source": [
    "uploaded_assets = EA.execution_upload(configuration_records.execution_rid, False)\n"
   ]
  }
 ],
 "metadata": {
  "language_info": {
   "name": "python"
  }
 },
 "nbformat": 4,
 "nbformat_minor": 5
}
