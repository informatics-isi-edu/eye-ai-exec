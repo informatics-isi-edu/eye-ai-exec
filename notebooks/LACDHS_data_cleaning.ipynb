{
 "cells": [
  {
   "cell_type": "markdown",
   "id": "011ca013-b2db-4e0e-b238-4b11fce1ebe9",
   "metadata": {},
   "source": [
    "# LAC DHS Data Cleaning"
   ]
  },
  {
   "cell_type": "code",
   "execution_count": 1,
   "id": "98411793-13d3-4deb-b559-7a61f536b432",
   "metadata": {},
   "outputs": [],
   "source": [
    "repo_dir = \"Repos\"   # Set this to be where your github repos are located.\n",
    "%load_ext autoreload\n",
    "%autoreload 2\n",
    "\n",
    "# Update the load path so python can find modules for the model\n",
    "import sys\n",
    "from pathlib import Path\n",
    "sys.path.insert(0, str(Path.home() / repo_dir / \"eye-ai-ml\"))"
   ]
  },
  {
   "cell_type": "code",
   "execution_count": 2,
   "id": "4ec94952-b138-4536-8223-a44c150f1cc8",
   "metadata": {},
   "outputs": [],
   "source": [
    "# Prerequisites\n",
    "\n",
    "import json\n",
    "import os\n",
    "import re\n",
    "from eye_ai.eye_ai import EyeAI\n",
    "import pandas as pd\n",
    "import numpy as np\n",
    "from pathlib import Path, PurePath,PosixPath\n",
    "import logging\n",
    "\n",
    "\n",
    "logging.basicConfig(level=logging.INFO, format='%(asctime)s - %(levelname)s - %(message)s', force=True)"
   ]
  },
  {
   "cell_type": "code",
   "execution_count": 3,
   "id": "54c2963f-6805-44ab-a78f-dfff3a14ae80",
   "metadata": {},
   "outputs": [
    {
     "name": "stderr",
     "output_type": "stream",
     "text": [
      "2024-06-26 00:49:20,560 - INFO - Creating client of type <class 'globus_sdk.services.auth.client.native_client.NativeAppAuthClient'> for service \"auth\"\n",
      "2024-06-26 00:49:20,561 - INFO - Finished initializing AuthLoginClient. client_id='8ef15ba9-2b4a-469c-a163-7fd910c9d111', type(authorizer)=<class 'globus_sdk.authorizers.base.NullAuthorizer'>\n"
     ]
    },
    {
     "name": "stdout",
     "output_type": "stream",
     "text": [
      "You are already logged in.\n"
     ]
    }
   ],
   "source": [
    "from deriva.core.utils.globus_auth_utils import GlobusNativeLogin\n",
    "catalog_id = \"eye-ai\" #@param\n",
    "host = 'www.eye-ai.org'\n",
    "\n",
    "\n",
    "gnl = GlobusNativeLogin(host=host)\n",
    "if gnl.is_logged_in([host]):\n",
    "    print(\"You are already logged in.\")\n",
    "else:\n",
    "    gnl.login([host], no_local_server=True, no_browser=True, refresh_tokens=True, update_bdbag_keychain=True)\n",
    "    print(\"Login Successful\")"
   ]
  },
  {
   "cell_type": "code",
   "execution_count": 4,
   "id": "859fb65e-f7a1-4e65-abf8-f209390c0211",
   "metadata": {},
   "outputs": [],
   "source": [
    "# Variables to configure the rest of the notebook.\n",
    "\n",
    "cache_dir = '/data'        # Directory in which to cache materialized BDBags for datasets\n",
    "working_dir = '/data'    # Directory in which to place output files for later upload.\n",
    "\n",
    "configuration_rid=\"2-C6B8\" # rid"
   ]
  },
  {
   "cell_type": "code",
   "execution_count": 5,
   "id": "4ef26797-d732-4289-bc06-899f4a0b3176",
   "metadata": {},
   "outputs": [
    {
     "name": "stderr",
     "output_type": "stream",
     "text": [
      "2024-06-26 00:49:20,601 - INFO - Creating client of type <class 'globus_sdk.services.auth.client.native_client.NativeAppAuthClient'> for service \"auth\"\n",
      "2024-06-26 00:49:20,602 - INFO - Finished initializing AuthLoginClient. client_id='8ef15ba9-2b4a-469c-a163-7fd910c9d111', type(authorizer)=<class 'globus_sdk.authorizers.base.NullAuthorizer'>\n"
     ]
    }
   ],
   "source": [
    "EA = EyeAI(hostname = host, catalog_id = catalog_id, cache_dir= cache_dir, working_dir=working_dir)"
   ]
  },
  {
   "cell_type": "code",
   "execution_count": 6,
   "id": "6f5059bd-0419-4468-a991-23c59875a400",
   "metadata": {
    "scrolled": true
   },
   "outputs": [
    {
     "name": "stderr",
     "output_type": "stream",
     "text": [
      "2024-06-26 00:49:21,052 - INFO - File [/data/alyciaqiu/EyeAI_working/Execution_Metadata/Execution_Config-lac_data_cleaning.json] transfer successful. 0.65 KB transferred. Elapsed time: 0:00:00.000072.\n",
      "2024-06-26 00:49:21,053 - INFO - Verifying SHA256 checksum for downloaded file [/data/alyciaqiu/EyeAI_working/Execution_Metadata/Execution_Config-lac_data_cleaning.json]\n",
      "2024-06-26 00:49:21,079 - INFO - Configuration validation successful!\n",
      "2024-06-26 00:49:26,745 - INFO - File [/data/alyciaqiu/EyeAI_working/Execution_Assets/LACDHS_All_Data_to_2024-03-03.csv] transfer successful. 106.88 MB transferred at 21.98 MB/second. Elapsed time: 0:00:04.862632.\n"
     ]
    },
    {
     "data": {
      "text/plain": [
       "{'caching_dir': PosixPath('/data'),\n",
       " 'working_dir': PosixPath('/data/alyciaqiu/EyeAI_working'),\n",
       " 'vocabs': {'Workflow_Type': [{'name': 'lac_data_cleaning', 'rid': '2-C6BC'}],\n",
       "  'Execution_Asset_Type': [{'name': 'cleaned_data', 'rid': '2-C6BE'}]},\n",
       " 'execution_rid': '2-C6C8',\n",
       " 'workflow_rid': '2-C6BG',\n",
       " 'bag_paths': [],\n",
       " 'assets_paths': [PosixPath('/data/alyciaqiu/EyeAI_working/Execution_Assets/LACDHS_All_Data_to_2024-03-03.csv')],\n",
       " 'configuration_path': PosixPath('/data/alyciaqiu/EyeAI_working/Execution_Metadata/Execution_Config-lac_data_cleaning.json')}"
      ]
     },
     "execution_count": 6,
     "metadata": {},
     "output_type": "execute_result"
    }
   ],
   "source": [
    "# @title Initiate an Execution\n",
    "configuration_records = EA.execution_init(configuration_rid=configuration_rid)\n",
    "configuration_records.model_dump()"
   ]
  },
  {
   "cell_type": "code",
   "execution_count": 7,
   "id": "60ff7a69-63dc-40ab-92c5-bfda30c3d5f1",
   "metadata": {},
   "outputs": [],
   "source": [
    "# Helper Functions\n",
    "\n",
    "# Function to convert English numbers to Arabic numerals\n",
    "def convert_word_to_num(text):\n",
    "    \"\"\"\n",
    "    Converts English number words to Arabic numerals within the given text.\n",
    "    \n",
    "    Args:\n",
    "    text (str): Text containing English number words.\n",
    "    \n",
    "    Returns:\n",
    "    str: Modified text with number words converted to Arabic numerals.\n",
    "    \"\"\"\n",
    "    # Mapping of English words to Arabic numerals\n",
    "    word_to_num = {\n",
    "        \"one\": \"1\",\n",
    "        \"two\": \"2\",\n",
    "        \"three\": \"3\",\n",
    "        \"four\": \"4\",\n",
    "        \"five\": \"5\",\n",
    "        \"six\": \"6\",\n",
    "        \"seven\": \"7\",\n",
    "        \"eight\": \"8\",\n",
    "        \"nine\": \"9\",\n",
    "        \"ten\": \"10\"\n",
    "    }\n",
    "    for word, num in word_to_num.items():\n",
    "        text = re.sub(r'\\b' + word + r'\\b', num, text, flags=re.IGNORECASE)\n",
    "    return text\n",
    "\n",
    "# Define a function to replace the time frame values\n",
    "def replace_time_frame(value):\n",
    "    \"\"\"\n",
    "    Converts time descriptions into ISO 8601 duration format.\n",
    "    \n",
    "    Args:\n",
    "    value (str): String describing a time frame.\n",
    "    \n",
    "    Returns:\n",
    "    str: ISO 8601 formatted duration string.\n",
    "    \"\"\"\n",
    "    value = convert_word_to_num(value)\n",
    "    if re.match(r\"\\d+ Year\", value, re.IGNORECASE):\n",
    "        return re.sub(r\"(\\d+) Year\", r\"P\\1Y\", value, flags=re.IGNORECASE)\n",
    "    elif re.match(r\"\\d+ Month\", value, re.IGNORECASE):\n",
    "        return re.sub(r\"(\\d+) Month\", r\"P\\1M\", value, flags=re.IGNORECASE)\n",
    "    elif re.match(r\"\\d+ week(s)?\", value, re.IGNORECASE):\n",
    "        return re.sub(r\"(\\d+) week(s)?\", r\"P\\1W\", value, flags=re.IGNORECASE)\n",
    "    elif value == \"0\" or re.match(r\"Same day\", value, re.IGNORECASE):\n",
    "        return \"P0D\"\n",
    "    elif value == \"1\" or re.match(r\"Next Day\", value, re.IGNORECASE):\n",
    "        return \"P1D\"\n",
    "    else:\n",
    "        return value\n",
    "\n",
    "def to_01(value):\n",
    "    \"\"\"\n",
    "    Converts true/false and yes/no descriptions to binary (0, 1) representations.\n",
    "    \n",
    "    Args:\n",
    "    value (str or bool): Input representing a binary condition.\n",
    "    \n",
    "    Returns:\n",
    "    int or np.nan: Binary representation or NaN for undefined inputs.\n",
    "    \"\"\"\n",
    "    value = str(value)\n",
    "    value = value.lower()\n",
    "    if value == \"true\" or value == \"yes\":\n",
    "        return 1\n",
    "    elif value == \"false\" or value == \"no\":\n",
    "        return 0\n",
    "    elif value == \"unknown\" or value == None:\n",
    "        return np.nan  \n",
    "    else:\n",
    "        return value\n",
    "\n",
    "def to_FM(value):\n",
    "    \"\"\"\n",
    "    Converts full gender descriptions to single-character representations.\n",
    "    \n",
    "    Args:\n",
    "    value (str): Gender description (\"Female\" or \"Male\").\n",
    "    \n",
    "    Returns:\n",
    "    str: Single-character gender code (\"F\" or \"M\").\n",
    "    \"\"\"\n",
    "    if value == \"Female\":\n",
    "        return \"F\"\n",
    "    elif value == \"Male\":\n",
    "        return \"M\"\n",
    "    else:\n",
    "        return value\n",
    "\n",
    "def ethnicity(value):\n",
    "    \"\"\"\n",
    "    Ensures proper labeling of ethnicity, providing a default if unspecified.\n",
    "    \n",
    "    Args:\n",
    "    value (str): Ethnicity description.\n",
    "    \n",
    "    Returns:\n",
    "    str: Properly labeled ethnicity or a default value.\n",
    "    \"\"\"\n",
    "    if value == \"null\":\n",
    "        return \"ethnicity not specified\"\n",
    "    return value"
   ]
  },
  {
   "cell_type": "code",
   "execution_count": 8,
   "id": "71bd2cda-726b-43ae-b443-127f59b9d6b2",
   "metadata": {},
   "outputs": [],
   "source": [
    "# Main Function 1: Clean Data Types and Basic Processing\n",
    "def clean_data_types(df):\n",
    "    \"\"\"\n",
    "    Cleans and converts data types for DataFrame columns.\n",
    "    \n",
    "    Args:\n",
    "    df (pd.DataFrame): The DataFrame to clean.\n",
    "    \n",
    "    Returns:\n",
    "    pd.DataFrame: DataFrame with converted data types.\n",
    "    \"\"\"\n",
    "    # Conversion to float\n",
    "    float_cols = ['hba1c']\n",
    "    df[float_cols] = df[float_cols].astype(float)\n",
    "    \n",
    "    # Conversion to datetime\n",
    "    time_cols = ['date_of_encounter', 'reviewed_date']\n",
    "    for col in time_cols:\n",
    "        df[col] = pd.to_datetime(df[col])\n",
    "    \n",
    "    # Conversion to string and cleaning\n",
    "    str_cols = ['glaucoma_hx', 'provider', 'dr_level', 'assessment_and_recommendation', 'additional_comments', 'return_time_frame',\n",
    "                'referral_status_time_frame', 'gender', 'ethnicity', 'hypertension', 'image_quality', 'site_mrn', 'consultant']\n",
    "    for col in str_cols:\n",
    "        df[col] = df[col].astype(str).apply(str.strip)\n",
    "        df[col] = df[col].str.replace('\\r\\n', ' ')\n",
    "        df[col] = df[col].replace('', np.nan)\n",
    "        df[col] = df[col].replace('nan', 'null')\n",
    "    \n",
    "    # Conversion to Int64 for handling NaN\n",
    "    int_cols = ['insulin_dependent', 'pregnant', 'cataract', 'maculopathy', 'other', 'consult_id', 'visual_acuity_right', 'visual_acuity_left']\n",
    "    for col in int_cols:\n",
    "        df[col] = df[col].apply(to_01)\n",
    "        # Convert the column to float first\n",
    "        df[col] = df[col].astype(float)\n",
    "        # Convert the column to integers (Int64 to keep NaN values)\n",
    "        df[col] = df[col].astype('Int64')\n",
    "    \n",
    "    return df\n",
    "\n",
    "# Main Function 2: Process Special Fields\n",
    "def process_special_fields(df):\n",
    "    \"\"\"\n",
    "    Processes special fields like time frames, gender, and ethnicity using helper functions.\n",
    "    \n",
    "    Args:\n",
    "    df (pd.DataFrame): DataFrame with data to process.\n",
    "    \n",
    "    Returns:\n",
    "    pd.DataFrame: DataFrame with processed fields.\n",
    "    \"\"\"\n",
    "    df['return_time_frame'] = df['return_time_frame'].apply(replace_time_frame)\n",
    "    df['referral_status_time_frame'] = df['referral_status_time_frame'].apply(replace_time_frame)\n",
    "    df['gender'] = df['gender'].apply(to_FM)\n",
    "    df['ethnicity'] = df['ethnicity'].apply(ethnicity)\n",
    "    return df\n",
    "\n",
    "# Main Function 3: Process Data\n",
    "def process_data(filepath, output_path):\n",
    "    \"\"\"\n",
    "    Main function to process the CSV file. Reads, applies transformations, and saves the processed data.\n",
    "    \n",
    "    Args:\n",
    "    filepath (str): Path to the CSV data file.\n",
    "    \n",
    "    Returns:\n",
    "    None: Saves the processed data to a new CSV file.\n",
    "    \"\"\"\n",
    "    df = pd.read_csv(filepath, encoding=\"latin-1\")\n",
    "    df = clean_data_types(df)\n",
    "    df = process_special_fields(df)\n",
    "    df.to_csv(output_path, index=False)"
   ]
  },
  {
   "cell_type": "code",
   "execution_count": 10,
   "id": "0f5c7d78-6190-4518-a3e2-b3b5ff365d60",
   "metadata": {},
   "outputs": [],
   "source": [
    "# Define input and output path\n",
    "output_path = EA.execution_assets_path/'cleaned_data/LACDHS_All_Data_to_2024-03-03_cleaned.csv'\n",
    "input_path = configuration_records.assets_paths[0]"
   ]
  },
  {
   "cell_type": "code",
   "execution_count": 12,
   "id": "619d110d-1e17-43d2-98f3-aec795fa17a6",
   "metadata": {},
   "outputs": [],
   "source": [
    "# Clean & Save\n",
    "process_data(input_path,output_path)"
   ]
  },
  {
   "cell_type": "code",
   "execution_count": 13,
   "id": "a31cce7b-3fb2-4f56-b41f-8b397a72574b",
   "metadata": {},
   "outputs": [
    {
     "name": "stderr",
     "output_type": "stream",
     "text": [
      "2024-06-26 00:50:16,172 - INFO - Initializing uploader: GenericUploader v1.7.1 [Python 3.10.13, Linux-5.10.210-201.852.amzn2.x86_64-x86_64-with-glibc2.26]\n",
      "2024-06-26 00:50:16,173 - INFO - Creating client of type <class 'globus_sdk.services.auth.client.native_client.NativeAppAuthClient'> for service \"auth\"\n",
      "2024-06-26 00:50:16,173 - INFO - Finished initializing AuthLoginClient. client_id='8ef15ba9-2b4a-469c-a163-7fd910c9d111', type(authorizer)=<class 'globus_sdk.authorizers.base.NullAuthorizer'>\n",
      "2024-06-26 00:50:16,211 - INFO - Checking for updated configuration...\n",
      "2024-06-26 00:50:16,321 - INFO - Updated configuration found.\n",
      "2024-06-26 00:50:16,323 - INFO - Scanning files in directory [/data/alyciaqiu/EyeAI_working/Execution_Assets/cleaned_data]...\n",
      "2024-06-26 00:50:16,326 - INFO - Including file: [/data/alyciaqiu/EyeAI_working/Execution_Assets/cleaned_data/LACDHS_All_Data_to_2024-03-03_cleaned.csv].\n",
      "2024-06-26 00:50:16,327 - INFO - Processing: [/data/alyciaqiu/EyeAI_working/Execution_Assets/cleaned_data/LACDHS_All_Data_to_2024-03-03_cleaned.csv]\n",
      "2024-06-26 00:50:16,327 - INFO - Computed metadata for: [/data/alyciaqiu/EyeAI_working/Execution_Assets/cleaned_data/LACDHS_All_Data_to_2024-03-03_cleaned.csv].\n",
      "2024-06-26 00:50:16,328 - INFO - Computing checksums for file: [/data/alyciaqiu/EyeAI_working/Execution_Assets/cleaned_data/LACDHS_All_Data_to_2024-03-03_cleaned.csv]. Please wait...\n",
      "2024-06-26 00:50:16,543 - INFO - Uploading file: [/data/alyciaqiu/EyeAI_working/Execution_Assets/cleaned_data/LACDHS_All_Data_to_2024-03-03_cleaned.csv] to host https://www.eye-ai.org. Please wait...\n",
      "2024-06-26 00:50:18,529 - INFO - File [/data/alyciaqiu/EyeAI_working/Execution_Assets/cleaned_data/LACDHS_All_Data_to_2024-03-03_cleaned.csv] upload successful. 87.28 MB transferred at 49.65 MB/second. Elapsed time: 0:00:01.757812.\n",
      "2024-06-26 00:50:18,674 - INFO - File upload processing completed: 1 files were uploaded successfully, 0 files failed to upload due to errors, 0 files were skipped because they did not satisfy the matching criteria of the configuration.\n",
      "2024-06-26 00:50:18,729 - INFO - Initializing uploader: GenericUploader v1.7.1 [Python 3.10.13, Linux-5.10.210-201.852.amzn2.x86_64-x86_64-with-glibc2.26]\n",
      "2024-06-26 00:50:18,730 - INFO - Creating client of type <class 'globus_sdk.services.auth.client.native_client.NativeAppAuthClient'> for service \"auth\"\n",
      "2024-06-26 00:50:18,730 - INFO - Finished initializing AuthLoginClient. client_id='8ef15ba9-2b4a-469c-a163-7fd910c9d111', type(authorizer)=<class 'globus_sdk.authorizers.base.NullAuthorizer'>\n",
      "2024-06-26 00:50:18,765 - INFO - Checking for updated configuration...\n",
      "2024-06-26 00:50:18,873 - INFO - Updated configuration found.\n",
      "2024-06-26 00:50:18,875 - INFO - Attempting to acquire a dependent lock in [/data/alyciaqiu/EyeAI_working/Execution_Metadata]\n",
      "2024-06-26 00:50:18,875 - INFO - Scanning files in directory [/data/alyciaqiu/EyeAI_working/Execution_Metadata]...\n",
      "2024-06-26 00:50:18,877 - INFO - Including file: [/data/alyciaqiu/EyeAI_working/Execution_Metadata/Execution_Config-lac_data_cleaning.json].\n",
      "2024-06-26 00:50:18,878 - INFO - Including file: [/data/alyciaqiu/EyeAI_working/Execution_Metadata/Runtime_Env-python_environment_snapshot.txt].\n",
      "2024-06-26 00:50:18,878 - INFO - Processing: [/data/alyciaqiu/EyeAI_working/Execution_Metadata/Execution_Config-lac_data_cleaning.json]\n",
      "2024-06-26 00:50:18,879 - INFO - Computed metadata for: [/data/alyciaqiu/EyeAI_working/Execution_Metadata/Execution_Config-lac_data_cleaning.json].\n",
      "2024-06-26 00:50:18,879 - INFO - Computing checksums for file: [/data/alyciaqiu/EyeAI_working/Execution_Metadata/Execution_Config-lac_data_cleaning.json]. Please wait...\n",
      "2024-06-26 00:50:18,889 - INFO - Uploading file: [/data/alyciaqiu/EyeAI_working/Execution_Metadata/Execution_Config-lac_data_cleaning.json] to host https://www.eye-ai.org. Please wait...\n",
      "2024-06-26 00:50:18,934 - INFO - Processing: [/data/alyciaqiu/EyeAI_working/Execution_Metadata/Runtime_Env-python_environment_snapshot.txt]\n",
      "2024-06-26 00:50:18,934 - INFO - Computed metadata for: [/data/alyciaqiu/EyeAI_working/Execution_Metadata/Runtime_Env-python_environment_snapshot.txt].\n",
      "2024-06-26 00:50:18,935 - INFO - Computing checksums for file: [/data/alyciaqiu/EyeAI_working/Execution_Metadata/Runtime_Env-python_environment_snapshot.txt]. Please wait...\n",
      "2024-06-26 00:50:18,945 - INFO - Uploading file: [/data/alyciaqiu/EyeAI_working/Execution_Metadata/Runtime_Env-python_environment_snapshot.txt] to host https://www.eye-ai.org. Please wait...\n",
      "2024-06-26 00:50:18,963 - INFO - File upload processing completed: 2 files were uploaded successfully, 0 files failed to upload due to errors, 0 files were skipped because they did not satisfy the matching criteria of the configuration.\n"
     ]
    }
   ],
   "source": [
    "uploaded_assets = EA.execution_upload(configuration_records.execution_rid, False)"
   ]
  }
 ],
 "metadata": {
  "kernelspec": {
   "display_name": "My TensorFlow (Conda)",
   "language": "python",
   "name": "my-tensorflow-conda"
  },
  "language_info": {
   "codemirror_mode": {
    "name": "ipython",
    "version": 3
   },
   "file_extension": ".py",
   "mimetype": "text/x-python",
   "name": "python",
   "nbconvert_exporter": "python",
   "pygments_lexer": "ipython3",
   "version": "3.10.13"
  }
 },
 "nbformat": 4,
 "nbformat_minor": 5
}
