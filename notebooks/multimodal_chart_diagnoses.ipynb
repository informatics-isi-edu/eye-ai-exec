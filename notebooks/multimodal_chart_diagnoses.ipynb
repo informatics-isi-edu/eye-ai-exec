{
 "cells": [
  {
   "cell_type": "markdown",
   "id": "5119050a-16ac-41cd-a8e5-66173f28aeb1",
   "metadata": {},
   "source": [
    "# Determine proportion of chart diagnoses that are correct vs incorrect"
   ]
  },
  {
   "cell_type": "code",
   "execution_count": null,
   "id": "254868d6-1033-4cfe-9f4e-f08013459523",
   "metadata": {},
   "outputs": [],
   "source": [
    "import pandas as pd\n",
    "\n",
    "# load csv\n",
    "chart_path = \"/home/yukim3003/chart_diagnosis_input_part_filled.csv\"\n",
    "chart_df = pd.read_csv(chart_path)"
   ]
  },
  {
   "cell_type": "code",
   "execution_count": null,
   "id": "29eac161-4de0-44ac-bce1-56724c8d0f08",
   "metadata": {},
   "outputs": [],
   "source": [
    "# drop NaN chart diagnoses\n",
    "chart_df = chart_df.dropna(subset=['Chart diagnosis'])"
   ]
  },
  {
   "cell_type": "code",
   "execution_count": null,
   "id": "ba506885-7207-4ae1-bddf-ac242a717051",
   "metadata": {},
   "outputs": [],
   "source": [
    "GS_chart_labels = ['OAG suspect', 'OHTN', 'PAC suspect', 'PAC', 'ANA (anatomic narrow angle)']\n",
    "POAG_chart_labels = ['POAG, unspecified', 'mild POAG', 'mild/mod POAG', 'mod POAG', 'mod/severe POAG', 'severe POAG', 'pseudoexfoliation OAG', 'pigmentary OAG', 'NTG/LTG (normal/low tension)', 'other OAG (freetext)', 'MMG/CMG (mixed mechanism)', 'NVG (neovascular)']\n",
    "PACG_chart_labels = ['PACG, unspecified', 'mild PACG', 'mild/mod PACG', 'mod PACG', 'mod/severe PACG', 'severe PACG', 'other ACG (freetext)']\n",
    "Other_chart_labels = ['Other (freetext)']\n",
    "\n",
    "# combine PACG and POAG as glaucoma\n",
    "chart_df['chart_label']= chart_df['Chart diagnosis'].replace(GS_chart_labels, 'GS')\n",
    "chart_df['chart_label'] = chart_df['chart_label'].replace(POAG_chart_labels, 'POAG')\n",
    "chart_df['chart_label'] = chart_df['chart_label'].replace(PACG_chart_labels, 'PACG')\n",
    "chart_df['chart_label'] = chart_df['chart_label'].replace(Other_chart_labels, 'Other')"
   ]
  },
  {
   "cell_type": "code",
   "execution_count": null,
   "id": "3884b5ea-fa94-40e9-9c86-3730f4a7081e",
   "metadata": {},
   "outputs": [],
   "source": [
    "chart_df"
   ]
  },
  {
   "cell_type": "code",
   "execution_count": null,
   "id": "97a9125f-dde7-4b7d-b906-214013f6e958",
   "metadata": {},
   "outputs": [],
   "source": [
    "crosstab = pd.crosstab(chart_df['ICD-10 Label'], chart_df['chart_label'])\n",
    "crosstab"
   ]
  },
  {
   "cell_type": "code",
   "execution_count": null,
   "id": "56ad5fcc-509e-4388-b35a-d056d22dd636",
   "metadata": {},
   "outputs": [],
   "source": [
    "# Calculate row percentages\n",
    "row_percentages = crosstab.div(crosstab.sum(axis=1), axis=0) * 100\n",
    "\n",
    "# Calculate column percentages\n",
    "col_percentages = crosstab.div(crosstab.sum(axis=0), axis=1) * 100\n",
    "\n",
    "print(row_percentages)\n",
    "print(col_percentages)"
   ]
  },
  {
   "cell_type": "code",
   "execution_count": null,
   "id": "12b1dd90-42c8-45a5-b012-b51a9e5408d1",
   "metadata": {},
   "outputs": [],
   "source": [
    "cross_tab + col_percentages"
   ]
  },
  {
   "cell_type": "code",
   "execution_count": null,
   "id": "568dd94c-2700-401d-9e31-861e8f459885",
   "metadata": {},
   "outputs": [],
   "source": [
    "crosstab.astype(str) + \" (\" + col_percentages.round(2).astype(str) + \"%)\""
   ]
  },
  {
   "cell_type": "code",
   "execution_count": null,
   "id": "f4a5beed-bf5c-4440-bb42-d1c8093609cd",
   "metadata": {},
   "outputs": [],
   "source": [
    "chart_df.loc[(chart_df.chart_label=='GS') & (chart_df['ICD-10 Label']=='POAG')]"
   ]
  },
  {
   "cell_type": "code",
   "execution_count": null,
   "id": "c66f8c1f-1ed3-4e77-8226-a303bddc202a",
   "metadata": {},
   "outputs": [],
   "source": []
  }
 ],
 "metadata": {
  "language_info": {
   "name": "python"
  }
 },
 "nbformat": 4,
 "nbformat_minor": 5
}
