{
  "cells": [
    {
      "cell_type": "markdown",
      "metadata": {
        "id": "view-in-github",
        "colab_type": "text"
      },
      "source": [
        "<a href=\"https://colab.research.google.com/github/informatics-isi-edu/eye-ai-exec/blob/main/notebooks/Eye_ai_new_temp.ipynb\" target=\"_parent\"><img src=\"https://colab.research.google.com/assets/colab-badge.svg\" alt=\"Open In Colab\"/></a>"
      ]
    },
    {
      "cell_type": "code",
      "execution_count": 1,
      "metadata": {
        "id": "qBNfD8vlKgev",
        "colab": {
          "base_uri": "https://localhost:8080/",
          "height": 1000
        },
        "outputId": "d0a76a0e-21ba-4709-df8e-7e283d1ce318"
      },
      "outputs": [
        {
          "output_type": "stream",
          "name": "stdout",
          "text": [
            "Collecting git+https://github.com/fair-research/bdbag\n",
            "  Cloning https://github.com/fair-research/bdbag to /tmp/pip-req-build-adjk4qk6\n",
            "  Running command git clone --filter=blob:none --quiet https://github.com/fair-research/bdbag /tmp/pip-req-build-adjk4qk6\n",
            "  Resolved https://github.com/fair-research/bdbag to commit 4e8f87268ea4519d73eddeea7419aa1ae1ea2e37\n",
            "  Preparing metadata (setup.py) ... \u001b[?25l\u001b[?25hdone\n",
            "Collecting git+https://github.com/informatics-isi-edu/deriva-py\n",
            "  Cloning https://github.com/informatics-isi-edu/deriva-py to /tmp/pip-req-build-218hhx5h\n",
            "  Running command git clone --filter=blob:none --quiet https://github.com/informatics-isi-edu/deriva-py /tmp/pip-req-build-218hhx5h\n",
            "  Resolved https://github.com/informatics-isi-edu/deriva-py to commit c1bdae58a509a70a4e46b079343eee701e9a5fe6\n",
            "  Preparing metadata (setup.py) ... \u001b[?25l\u001b[?25hdone\n",
            "Collecting git+https://github.com/informatics-isi-edu/eye-ai-tools\n",
            "  Cloning https://github.com/informatics-isi-edu/eye-ai-tools to /tmp/pip-req-build-c4s4m30u\n",
            "  Running command git clone --filter=blob:none --quiet https://github.com/informatics-isi-edu/eye-ai-tools /tmp/pip-req-build-c4s4m30u\n",
            "  Resolved https://github.com/informatics-isi-edu/eye-ai-tools to commit 90da64290df3a593d37b8e789a630cdb0939da6c\n",
            "  Installing build dependencies ... \u001b[?25l\u001b[?25hdone\n",
            "  Getting requirements to build wheel ... \u001b[?25l\u001b[?25hdone\n",
            "  Preparing metadata (pyproject.toml) ... \u001b[?25l\u001b[?25hdone\n",
            "Collecting git+https://github.com/informatics-isi-edu/deriva-ml\n",
            "  Cloning https://github.com/informatics-isi-edu/deriva-ml to /tmp/pip-req-build-2nnbkd7k\n",
            "  Running command git clone --filter=blob:none --quiet https://github.com/informatics-isi-edu/deriva-ml /tmp/pip-req-build-2nnbkd7k\n",
            "  Resolved https://github.com/informatics-isi-edu/deriva-ml to commit c5e354f243a51106457350ad303c7de2d93339c3\n",
            "  Installing build dependencies ... \u001b[?25l\u001b[?25hdone\n",
            "  Getting requirements to build wheel ... \u001b[?25l\u001b[?25hdone\n",
            "  Preparing metadata (pyproject.toml) ... \u001b[?25l\u001b[?25hdone\n",
            "Collecting git+https://github.com/informatics-isi-edu/eye-ai-ml\n",
            "  Cloning https://github.com/informatics-isi-edu/eye-ai-ml to /tmp/pip-req-build-3u266d8o\n",
            "  Running command git clone --filter=blob:none --quiet https://github.com/informatics-isi-edu/eye-ai-ml /tmp/pip-req-build-3u266d8o\n",
            "  Resolved https://github.com/informatics-isi-edu/eye-ai-ml to commit 2513b4aa2dc583347df43d38a4fbc6706a0afdc5\n",
            "  Installing build dependencies ... \u001b[?25l\u001b[?25hdone\n",
            "  Getting requirements to build wheel ... \u001b[?25l\u001b[?25hdone\n",
            "  Preparing metadata (pyproject.toml) ... \u001b[?25l\u001b[?25hdone\n",
            "Collecting pydantic\n",
            "  Downloading pydantic-2.7.1-py3-none-any.whl (409 kB)\n",
            "\u001b[2K     \u001b[90m━━━━━━━━━━━━━━━━━━━━━━━━━━━━━━━━━━━━━━━━\u001b[0m \u001b[32m409.3/409.3 kB\u001b[0m \u001b[31m3.4 MB/s\u001b[0m eta \u001b[36m0:00:00\u001b[0m\n",
            "\u001b[?25hCollecting annotated-types>=0.4.0 (from pydantic)\n",
            "  Downloading annotated_types-0.6.0-py3-none-any.whl (12 kB)\n",
            "Collecting pydantic-core==2.18.2 (from pydantic)\n",
            "  Downloading pydantic_core-2.18.2-cp310-cp310-manylinux_2_17_x86_64.manylinux2014_x86_64.whl (2.1 MB)\n",
            "\u001b[2K     \u001b[90m━━━━━━━━━━━━━━━━━━━━━━━━━━━━━━━━━━━━━━━━\u001b[0m \u001b[32m2.1/2.1 MB\u001b[0m \u001b[31m22.9 MB/s\u001b[0m eta \u001b[36m0:00:00\u001b[0m\n",
            "\u001b[?25hCollecting typing-extensions>=4.6.1 (from pydantic)\n",
            "  Downloading typing_extensions-4.11.0-py3-none-any.whl (34 kB)\n",
            "Collecting pytz (from bdbag==1.7.2)\n",
            "  Downloading pytz-2024.1-py2.py3-none-any.whl (505 kB)\n",
            "\u001b[2K     \u001b[90m━━━━━━━━━━━━━━━━━━━━━━━━━━━━━━━━━━━━━━━━\u001b[0m \u001b[32m505.5/505.5 kB\u001b[0m \u001b[31m38.0 MB/s\u001b[0m eta \u001b[36m0:00:00\u001b[0m\n",
            "\u001b[?25hCollecting tzlocal (from bdbag==1.7.2)\n",
            "  Downloading tzlocal-5.2-py3-none-any.whl (17 kB)\n",
            "Collecting certifi (from bdbag==1.7.2)\n",
            "  Downloading certifi-2024.2.2-py3-none-any.whl (163 kB)\n",
            "\u001b[2K     \u001b[90m━━━━━━━━━━━━━━━━━━━━━━━━━━━━━━━━━━━━━━━━\u001b[0m \u001b[32m163.8/163.8 kB\u001b[0m \u001b[31m11.7 MB/s\u001b[0m eta \u001b[36m0:00:00\u001b[0m\n",
            "\u001b[?25hCollecting packaging (from bdbag==1.7.2)\n",
            "  Downloading packaging-24.0-py3-none-any.whl (53 kB)\n",
            "\u001b[2K     \u001b[90m━━━━━━━━━━━━━━━━━━━━━━━━━━━━━━━━━━━━━━━━\u001b[0m \u001b[32m53.5/53.5 kB\u001b[0m \u001b[31m5.9 MB/s\u001b[0m eta \u001b[36m0:00:00\u001b[0m\n",
            "\u001b[?25hCollecting requests (from bdbag==1.7.2)\n",
            "  Downloading requests-2.31.0-py3-none-any.whl (62 kB)\n",
            "\u001b[2K     \u001b[90m━━━━━━━━━━━━━━━━━━━━━━━━━━━━━━━━━━━━━━━━\u001b[0m \u001b[32m62.6/62.6 kB\u001b[0m \u001b[31m6.5 MB/s\u001b[0m eta \u001b[36m0:00:00\u001b[0m\n",
            "\u001b[?25hCollecting setuptools_scm<6.0 (from bdbag==1.7.2)\n",
            "  Downloading setuptools_scm-5.0.2-py2.py3-none-any.whl (29 kB)\n",
            "Collecting bagit==1.8.1 (from bdbag==1.7.2)\n",
            "  Downloading bagit-1.8.1-py2.py3-none-any.whl (35 kB)\n",
            "Collecting bagit-profile==1.3.1 (from bdbag==1.7.2)\n",
            "  Downloading bagit_profile-1.3.1-py3-none-any.whl (14 kB)\n",
            "Collecting pika (from deriva==1.7.1)\n",
            "  Downloading pika-1.3.2-py3-none-any.whl (155 kB)\n",
            "\u001b[2K     \u001b[90m━━━━━━━━━━━━━━━━━━━━━━━━━━━━━━━━━━━━━━━━\u001b[0m \u001b[32m155.4/155.4 kB\u001b[0m \u001b[31m14.3 MB/s\u001b[0m eta \u001b[36m0:00:00\u001b[0m\n",
            "\u001b[?25hCollecting urllib3<3,>=1.26 (from deriva==1.7.1)\n",
            "  Downloading urllib3-2.2.1-py3-none-any.whl (121 kB)\n",
            "\u001b[2K     \u001b[90m━━━━━━━━━━━━━━━━━━━━━━━━━━━━━━━━━━━━━━━━\u001b[0m \u001b[32m121.1/121.1 kB\u001b[0m \u001b[31m12.4 MB/s\u001b[0m eta \u001b[36m0:00:00\u001b[0m\n",
            "\u001b[?25hCollecting portalocker>=1.2.1 (from deriva==1.7.1)\n",
            "  Downloading portalocker-2.8.2-py3-none-any.whl (17 kB)\n",
            "Collecting globus_sdk<4,>=3 (from deriva==1.7.1)\n",
            "  Downloading globus_sdk-3.40.0-py3-none-any.whl (301 kB)\n",
            "\u001b[2K     \u001b[90m━━━━━━━━━━━━━━━━━━━━━━━━━━━━━━━━━━━━━━━━\u001b[0m \u001b[32m301.1/301.1 kB\u001b[0m \u001b[31m24.4 MB/s\u001b[0m eta \u001b[36m0:00:00\u001b[0m\n",
            "\u001b[?25hCollecting fair-research-login>=0.3.1 (from deriva==1.7.1)\n",
            "  Downloading fair_research_login-0.3.1-py3-none-any.whl (39 kB)\n",
            "Collecting fair-identifiers-client>=0.5.1 (from deriva==1.7.1)\n",
            "  Downloading fair_identifiers_client-0.5.1-py3-none-any.whl (45 kB)\n",
            "\u001b[2K     \u001b[90m━━━━━━━━━━━━━━━━━━━━━━━━━━━━━━━━━━━━━━━━\u001b[0m \u001b[32m45.7/45.7 kB\u001b[0m \u001b[31m4.6 MB/s\u001b[0m eta \u001b[36m0:00:00\u001b[0m\n",
            "\u001b[?25hCollecting jsonschema>=3.1 (from deriva==1.7.1)\n",
            "  Downloading jsonschema-4.21.1-py3-none-any.whl (85 kB)\n",
            "\u001b[2K     \u001b[90m━━━━━━━━━━━━━━━━━━━━━━━━━━━━━━━━━━━━━━━━\u001b[0m \u001b[32m85.5/85.5 kB\u001b[0m \u001b[31m7.0 MB/s\u001b[0m eta \u001b[36m0:00:00\u001b[0m\n",
            "\u001b[?25hCollecting six<2.0.0,>=1.10.0 (from fair-identifiers-client>=0.5.1->deriva==1.7.1)\n",
            "  Downloading six-1.16.0-py2.py3-none-any.whl (11 kB)\n",
            "Collecting pyjwt[crypto]<3.0.0,>=2.0.0 (from globus_sdk<4,>=3->deriva==1.7.1)\n",
            "  Downloading PyJWT-2.8.0-py3-none-any.whl (22 kB)\n",
            "Collecting cryptography!=3.4.0,>=3.3.1 (from globus_sdk<4,>=3->deriva==1.7.1)\n",
            "  Downloading cryptography-42.0.5-cp39-abi3-manylinux_2_28_x86_64.whl (4.6 MB)\n",
            "\u001b[2K     \u001b[90m━━━━━━━━━━━━━━━━━━━━━━━━━━━━━━━━━━━━━━━━\u001b[0m \u001b[32m4.6/4.6 MB\u001b[0m \u001b[31m56.1 MB/s\u001b[0m eta \u001b[36m0:00:00\u001b[0m\n",
            "\u001b[?25hCollecting attrs>=22.2.0 (from jsonschema>=3.1->deriva==1.7.1)\n",
            "  Downloading attrs-23.2.0-py3-none-any.whl (60 kB)\n",
            "\u001b[2K     \u001b[90m━━━━━━━━━━━━━━━━━━━━━━━━━━━━━━━━━━━━━━━━\u001b[0m \u001b[32m60.8/60.8 kB\u001b[0m \u001b[31m5.3 MB/s\u001b[0m eta \u001b[36m0:00:00\u001b[0m\n",
            "\u001b[?25hCollecting jsonschema-specifications>=2023.03.6 (from jsonschema>=3.1->deriva==1.7.1)\n",
            "  Downloading jsonschema_specifications-2023.12.1-py3-none-any.whl (18 kB)\n",
            "Collecting referencing>=0.28.4 (from jsonschema>=3.1->deriva==1.7.1)\n",
            "  Downloading referencing-0.35.0-py3-none-any.whl (26 kB)\n",
            "Collecting rpds-py>=0.7.1 (from jsonschema>=3.1->deriva==1.7.1)\n",
            "  Downloading rpds_py-0.18.0-cp310-cp310-manylinux_2_17_x86_64.manylinux2014_x86_64.whl (1.1 MB)\n",
            "\u001b[2K     \u001b[90m━━━━━━━━━━━━━━━━━━━━━━━━━━━━━━━━━━━━━━━━\u001b[0m \u001b[32m1.1/1.1 MB\u001b[0m \u001b[31m51.4 MB/s\u001b[0m eta \u001b[36m0:00:00\u001b[0m\n",
            "\u001b[?25hCollecting charset-normalizer<4,>=2 (from requests->bdbag==1.7.2)\n",
            "  Downloading charset_normalizer-3.3.2-cp310-cp310-manylinux_2_17_x86_64.manylinux2014_x86_64.whl (142 kB)\n",
            "\u001b[2K     \u001b[90m━━━━━━━━━━━━━━━━━━━━━━━━━━━━━━━━━━━━━━━━\u001b[0m \u001b[32m142.1/142.1 kB\u001b[0m \u001b[31m15.5 MB/s\u001b[0m eta \u001b[36m0:00:00\u001b[0m\n",
            "\u001b[?25hCollecting idna<4,>=2.5 (from requests->bdbag==1.7.2)\n",
            "  Downloading idna-3.7-py3-none-any.whl (66 kB)\n",
            "\u001b[2K     \u001b[90m━━━━━━━━━━━━━━━━━━━━━━━━━━━━━━━━━━━━━━━━\u001b[0m \u001b[32m66.8/66.8 kB\u001b[0m \u001b[31m7.7 MB/s\u001b[0m eta \u001b[36m0:00:00\u001b[0m\n",
            "\u001b[?25hCollecting setuptools (from setuptools_scm<6.0->bdbag==1.7.2)\n",
            "  Using cached setuptools-69.5.1-py3-none-any.whl (894 kB)\n",
            "Collecting cffi>=1.12 (from cryptography!=3.4.0,>=3.3.1->globus_sdk<4,>=3->deriva==1.7.1)\n",
            "  Using cached cffi-1.16.0-cp310-cp310-manylinux_2_17_x86_64.manylinux2014_x86_64.whl (443 kB)\n",
            "Collecting pycparser (from cffi>=1.12->cryptography!=3.4.0,>=3.3.1->globus_sdk<4,>=3->deriva==1.7.1)\n",
            "  Using cached pycparser-2.22-py3-none-any.whl (117 kB)\n",
            "Building wheels for collected packages: bdbag, deriva, eye-ai, deriva-ml, eye-ai-ml\n",
            "  Building wheel for bdbag (setup.py) ... \u001b[?25l\u001b[?25hdone\n",
            "  Created wheel for bdbag: filename=bdbag-1.7.2-py2.py3-none-any.whl size=75257 sha256=01bf3e5d96559698bbdb07156a5c4c8946e90e1542a9805f98ef72ac8c9d5030\n",
            "  Stored in directory: /tmp/pip-ephem-wheel-cache-m0vud5g5/wheels/e6/37/a1/ed335483cf88440ed32b8f918cc20fa31b2ee2c81dd9504f7a\n",
            "  Building wheel for deriva (setup.py) ... \u001b[?25l\u001b[?25hdone\n",
            "  Created wheel for deriva: filename=deriva-1.7.1-py3-none-any.whl size=217998 sha256=7a957544da66253d1736e3f42adf9b65dfcd47f5006e368379426670d593f501\n",
            "  Stored in directory: /tmp/pip-ephem-wheel-cache-m0vud5g5/wheels/f5/4a/e4/12bf545b4525249722e860b95e934babd35df222684152f80d\n",
            "  Building wheel for eye-ai (pyproject.toml) ... \u001b[?25l\u001b[?25hdone\n",
            "  Created wheel for eye-ai: filename=eye_ai-0.0.1-py3-none-any.whl size=10271 sha256=655cd564b7745525b854d48c09f627a57945f20aa7a84af5829aa32b731e32cc\n",
            "  Stored in directory: /tmp/pip-ephem-wheel-cache-m0vud5g5/wheels/b8/3d/ee/56cb93f0a37d21370f4ad75a02619f63503d0ba0c6987ccf30\n",
            "  Building wheel for deriva-ml (pyproject.toml) ... \u001b[?25l\u001b[?25hdone\n",
            "  Created wheel for deriva-ml: filename=deriva_ml-0.0.2-py3-none-any.whl size=21515 sha256=0ae307f3bfebc2413e6576f03da6f1aa24efb19054d0351f822c08019fb036ff\n",
            "  Stored in directory: /tmp/pip-ephem-wheel-cache-m0vud5g5/wheels/5e/44/fc/69aec1f5d3789673392eb399c637044c66aa264ce8ec4b43a7\n",
            "  Building wheel for eye-ai-ml (pyproject.toml) ... \u001b[?25l\u001b[?25hdone\n",
            "  Created wheel for eye-ai-ml: filename=eye_ai_ml-0.0.1-py3-none-any.whl size=13433 sha256=f75a12705e8b0cb65fedc7d9d0a4d16ad11187a3c405c199049499ac472ed244\n",
            "  Stored in directory: /tmp/pip-ephem-wheel-cache-m0vud5g5/wheels/1e/7f/76/67bd42d2c427a39149e1ebd833d93bd7aad1b774daba1f8c07\n",
            "Successfully built bdbag deriva eye-ai deriva-ml eye-ai-ml\n",
            "Installing collected packages: pytz, bagit, urllib3, tzlocal, typing-extensions, six, setuptools, rpds-py, pyjwt, pycparser, portalocker, pika, packaging, idna, eye-ai-ml, eye-ai, deriva-ml, charset-normalizer, certifi, attrs, annotated-types, setuptools_scm, requests, referencing, pydantic-core, cffi, pydantic, jsonschema-specifications, cryptography, bagit-profile, jsonschema, bdbag, globus_sdk, fair-research-login, fair-identifiers-client, deriva\n",
            "  Attempting uninstall: pytz\n",
            "    Found existing installation: pytz 2023.4\n",
            "    Uninstalling pytz-2023.4:\n",
            "      Successfully uninstalled pytz-2023.4\n",
            "  Attempting uninstall: urllib3\n",
            "    Found existing installation: urllib3 2.0.7\n",
            "    Uninstalling urllib3-2.0.7:\n",
            "      Successfully uninstalled urllib3-2.0.7\n",
            "  Attempting uninstall: tzlocal\n",
            "    Found existing installation: tzlocal 5.2\n",
            "    Uninstalling tzlocal-5.2:\n",
            "      Successfully uninstalled tzlocal-5.2\n",
            "  Attempting uninstall: typing-extensions\n",
            "    Found existing installation: typing_extensions 4.11.0\n",
            "    Uninstalling typing_extensions-4.11.0:\n",
            "      Successfully uninstalled typing_extensions-4.11.0\n",
            "  Attempting uninstall: six\n",
            "    Found existing installation: six 1.16.0\n",
            "    Uninstalling six-1.16.0:\n",
            "      Successfully uninstalled six-1.16.0\n",
            "  Attempting uninstall: setuptools\n",
            "    Found existing installation: setuptools 67.7.2\n",
            "    Uninstalling setuptools-67.7.2:\n",
            "      Successfully uninstalled setuptools-67.7.2\n",
            "  Attempting uninstall: rpds-py\n",
            "    Found existing installation: rpds-py 0.18.0\n",
            "    Uninstalling rpds-py-0.18.0:\n",
            "      Successfully uninstalled rpds-py-0.18.0\n",
            "  Attempting uninstall: pyjwt\n",
            "    Found existing installation: PyJWT 2.3.0\n",
            "    Uninstalling PyJWT-2.3.0:\n",
            "      Successfully uninstalled PyJWT-2.3.0\n",
            "  Attempting uninstall: pycparser\n",
            "    Found existing installation: pycparser 2.22\n",
            "    Uninstalling pycparser-2.22:\n",
            "      Successfully uninstalled pycparser-2.22\n",
            "  Attempting uninstall: packaging\n",
            "    Found existing installation: packaging 24.0\n",
            "    Uninstalling packaging-24.0:\n",
            "      Successfully uninstalled packaging-24.0\n",
            "  Attempting uninstall: idna\n",
            "    Found existing installation: idna 3.7\n",
            "    Uninstalling idna-3.7:\n",
            "      Successfully uninstalled idna-3.7\n",
            "  Attempting uninstall: charset-normalizer\n",
            "    Found existing installation: charset-normalizer 3.3.2\n",
            "    Uninstalling charset-normalizer-3.3.2:\n",
            "      Successfully uninstalled charset-normalizer-3.3.2\n",
            "  Attempting uninstall: certifi\n",
            "    Found existing installation: certifi 2024.2.2\n",
            "    Uninstalling certifi-2024.2.2:\n",
            "      Successfully uninstalled certifi-2024.2.2\n",
            "  Attempting uninstall: attrs\n",
            "    Found existing installation: attrs 23.2.0\n",
            "    Uninstalling attrs-23.2.0:\n",
            "      Successfully uninstalled attrs-23.2.0\n",
            "  Attempting uninstall: annotated-types\n",
            "    Found existing installation: annotated-types 0.6.0\n",
            "    Uninstalling annotated-types-0.6.0:\n",
            "      Successfully uninstalled annotated-types-0.6.0\n",
            "  Attempting uninstall: requests\n",
            "    Found existing installation: requests 2.31.0\n",
            "    Uninstalling requests-2.31.0:\n",
            "      Successfully uninstalled requests-2.31.0\n",
            "  Attempting uninstall: referencing\n",
            "    Found existing installation: referencing 0.34.0\n",
            "    Uninstalling referencing-0.34.0:\n",
            "      Successfully uninstalled referencing-0.34.0\n",
            "  Attempting uninstall: pydantic-core\n",
            "    Found existing installation: pydantic_core 2.18.1\n",
            "    Uninstalling pydantic_core-2.18.1:\n",
            "      Successfully uninstalled pydantic_core-2.18.1\n",
            "  Attempting uninstall: cffi\n",
            "    Found existing installation: cffi 1.16.0\n",
            "    Uninstalling cffi-1.16.0:\n",
            "      Successfully uninstalled cffi-1.16.0\n",
            "  Attempting uninstall: pydantic\n",
            "    Found existing installation: pydantic 2.7.0\n",
            "    Uninstalling pydantic-2.7.0:\n",
            "      Successfully uninstalled pydantic-2.7.0\n",
            "  Attempting uninstall: jsonschema-specifications\n",
            "    Found existing installation: jsonschema-specifications 2023.12.1\n",
            "    Uninstalling jsonschema-specifications-2023.12.1:\n",
            "      Successfully uninstalled jsonschema-specifications-2023.12.1\n",
            "  Attempting uninstall: cryptography\n",
            "    Found existing installation: cryptography 42.0.5\n",
            "    Uninstalling cryptography-42.0.5:\n",
            "      Successfully uninstalled cryptography-42.0.5\n",
            "  Attempting uninstall: jsonschema\n",
            "    Found existing installation: jsonschema 4.19.2\n",
            "    Uninstalling jsonschema-4.19.2:\n",
            "      Successfully uninstalled jsonschema-4.19.2\n",
            "\u001b[31mERROR: pip's dependency resolver does not currently take into account all the packages that are installed. This behaviour is the source of the following dependency conflicts.\n",
            "ipython 7.34.0 requires jedi>=0.16, which is not installed.\n",
            "torch 2.2.1+cu121 requires nvidia-cublas-cu12==12.1.3.1; platform_system == \"Linux\" and platform_machine == \"x86_64\", which is not installed.\n",
            "torch 2.2.1+cu121 requires nvidia-cuda-cupti-cu12==12.1.105; platform_system == \"Linux\" and platform_machine == \"x86_64\", which is not installed.\n",
            "torch 2.2.1+cu121 requires nvidia-cuda-nvrtc-cu12==12.1.105; platform_system == \"Linux\" and platform_machine == \"x86_64\", which is not installed.\n",
            "torch 2.2.1+cu121 requires nvidia-cuda-runtime-cu12==12.1.105; platform_system == \"Linux\" and platform_machine == \"x86_64\", which is not installed.\n",
            "torch 2.2.1+cu121 requires nvidia-cudnn-cu12==8.9.2.26; platform_system == \"Linux\" and platform_machine == \"x86_64\", which is not installed.\n",
            "torch 2.2.1+cu121 requires nvidia-cufft-cu12==11.0.2.54; platform_system == \"Linux\" and platform_machine == \"x86_64\", which is not installed.\n",
            "torch 2.2.1+cu121 requires nvidia-curand-cu12==10.3.2.106; platform_system == \"Linux\" and platform_machine == \"x86_64\", which is not installed.\n",
            "torch 2.2.1+cu121 requires nvidia-cusolver-cu12==11.4.5.107; platform_system == \"Linux\" and platform_machine == \"x86_64\", which is not installed.\n",
            "torch 2.2.1+cu121 requires nvidia-cusparse-cu12==12.1.0.106; platform_system == \"Linux\" and platform_machine == \"x86_64\", which is not installed.\n",
            "torch 2.2.1+cu121 requires nvidia-nccl-cu12==2.19.3; platform_system == \"Linux\" and platform_machine == \"x86_64\", which is not installed.\n",
            "torch 2.2.1+cu121 requires nvidia-nvtx-cu12==12.1.105; platform_system == \"Linux\" and platform_machine == \"x86_64\", which is not installed.\u001b[0m\u001b[31m\n",
            "\u001b[0mSuccessfully installed annotated-types-0.6.0 attrs-23.2.0 bagit-1.8.1 bagit-profile-1.3.1 bdbag-1.7.2 certifi-2024.2.2 cffi-1.16.0 charset-normalizer-3.3.2 cryptography-42.0.5 deriva-1.7.1 deriva-ml-0.0.2 eye-ai-0.0.1 eye-ai-ml-0.0.1 fair-identifiers-client-0.5.1 fair-research-login-0.3.1 globus_sdk-3.40.0 idna-3.7 jsonschema-4.21.1 jsonschema-specifications-2023.12.1 packaging-24.0 pika-1.3.2 portalocker-2.8.2 pycparser-2.22 pydantic-2.7.1 pydantic-core-2.18.2 pyjwt-2.8.0 pytz-2024.1 referencing-0.35.0 requests-2.31.0 rpds-py-0.18.0 setuptools-69.5.1 setuptools_scm-5.0.2 six-1.16.0 typing-extensions-4.11.0 tzlocal-5.2 urllib3-2.2.1\n"
          ]
        },
        {
          "output_type": "display_data",
          "data": {
            "application/vnd.colab-display-data+json": {
              "pip_warning": {
                "packages": [
                  "_distutils_hack",
                  "certifi",
                  "cffi",
                  "pkg_resources",
                  "setuptools",
                  "six"
                ]
              },
              "id": "1bc3102507094443beab8aa36a95c407"
            }
          },
          "metadata": {}
        }
      ],
      "source": [
        "# Prerequisites\n",
        "!pip install --upgrade --force pydantic git+https://github.com/fair-research/bdbag git+https://github.com/informatics-isi-edu/deriva-py git+https://github.com/informatics-isi-edu/eye-ai-tools git+https://github.com/informatics-isi-edu/deriva-ml git+https://github.com/informatics-isi-edu/eye-ai-ml\n",
        "import json\n",
        "import os\n",
        "from eye_ai import EyeAI\n",
        "import pandas as pd\n",
        "from pathlib import Path, PurePath\n",
        "import logging\n",
        "import torch\n"
      ]
    },
    {
      "cell_type": "code",
      "execution_count": 2,
      "metadata": {
        "id": "qw-bW4bORlqQ",
        "colab": {
          "base_uri": "https://localhost:8080/"
        },
        "outputId": "0ce058c8-0712-4d58-d2d9-f62b1c8d3bd9"
      },
      "outputs": [
        {
          "output_type": "stream",
          "name": "stdout",
          "text": [
            "2024-04-25 05:15:11,485 - INFO - No default configuration file found, attempting to create one at: /root/.deriva/config.json\n",
            "2024-04-25 05:15:11,921 - INFO - NoSavedTokens: No tokens were loaded\n",
            "Please paste the following URL in a browser:\n",
            "https://auth.globus.org/v2/oauth2/authorize?client_id=8ef15ba9-2b4a-469c-a163-7fd910c9d111&redirect_uri=https%3A%2F%2Fauth.globus.org%2Fv2%2Fweb%2Fauth-code&scope=https%3A%2F%2Fauth.globus.org%2Fscopes%2Fwww.eye-ai.org%2Fderiva_all+openid+urn%3Aglobus%3Aauth%3Ascope%3Agroups.api.globus.org%3Aview_my_groups_and_memberships&state=_default&response_type=code&code_challenge=Jb5i1ZX6UjPbDK4dYIP32gZ_om3xznbW9vdzdbCwMos&code_challenge_method=S256&access_type=online&prefill_named_grant=Login+from+deriva-client+on+5e36df61d470+%5BLinux-6.1.58%2B-x86_64-with-glibc2.35%5D+to+hosts+%5Bwww.eye-ai.org%5D+with+requested+scopes+%5Bhttps%3A%2F%2Fauth.globus.org%2Fscopes%2Fwww.eye-ai.org%2Fderiva_all%2C+openid%2C+urn%3Aglobus%3Aauth%3Ascope%3Agroups.api.globus.org%3Aview_my_groups_and_memberships%5D+\n",
            "Please Paste your Auth Code Below: \n",
            "Y4bEYuaYRMO5SxObS5kGgezyep0zRf\n",
            "Login Successful\n"
          ]
        }
      ],
      "source": [
        "# @title login to DERIVA via Globus Auth\n",
        "\n",
        "DEBUG_MODE = False #@param [\"False\", \"True\"] {type:\"raw\"}\n",
        "catalog_id = \"eye-ai\" #@param\n",
        "DEFAULT_SERVER = 'dev.eye-ai.org' if DEBUG_MODE else 'www.eye-ai.org'\n",
        "\n",
        "!deriva-globus-auth-utils login --no-browser --host {DEFAULT_SERVER}\n"
      ]
    },
    {
      "cell_type": "code",
      "execution_count": 3,
      "metadata": {
        "id": "A1Cg1lLQiSk4"
      },
      "outputs": [],
      "source": [
        "EA = EyeAI(hostname = DEFAULT_SERVER, catalog_id = catalog_id, cache_dir= 'content/cache/', working_dir='content/working/')\n",
        "logging.basicConfig(level=logging.INFO, format='%(asctime)s - %(levelname)s - %(message)s', force=True)\n"
      ]
    },
    {
      "cell_type": "code",
      "execution_count": null,
      "metadata": {
        "id": "kCIfOvbUXTGB"
      },
      "outputs": [],
      "source": [
        "# @title Initiate an Execution\n",
        "configuration_records = EA.execution_init(configuration_rid=\"2-90EP\")\n",
        "configuration_records.model_dump()"
      ]
    },
    {
      "cell_type": "code",
      "execution_count": null,
      "metadata": {
        "id": "iUuTRgyg7Ys1"
      },
      "outputs": [],
      "source": [
        "# @title Data Preprocessing (Filtering Image.csv for just Field_2 Images)\n",
        "field2_csv_path = EA.filter_angle_2(configuration_records.bag_paths[0])\n",
        "field2_csv_path"
      ]
    },
    {
      "cell_type": "code",
      "execution_count": null,
      "metadata": {
        "id": "YIJj6Uj73sOm"
      },
      "outputs": [],
      "source": [
        "# @title Execute Proecss algorithm (Cropping)\n",
        "from eye_ai_ml.glaucoma.optic_disk_crop import preprocess_and_crop\n",
        "with EA.execution(execution_rid=configuration_records.execution_rid) as exec:\n",
        "  model = torch.load(model_path)"
      ]
    },
    {
      "cell_type": "code",
      "source": [
        "# @title Save Execution Assets (model) and Metadata\n",
        "uploaded_assets = EA.execution_upload(configuration_records.execution_rid, False)"
      ],
      "metadata": {
        "id": "zHqtgNpxrISs"
      },
      "execution_count": null,
      "outputs": []
    },
    {
      "cell_type": "code",
      "execution_count": null,
      "metadata": {
        "id": "OKTMtNr24Za8"
      },
      "outputs": [],
      "source": [
        "# @title Save cropping metadata to Image Annotation table\n",
        "annot_metadata = pd.read_csv(str(EA.working_dir)+'/output.csv')\n",
        "EA.insert_image_annotation(uploaded_assets[str(EA.working_dir)+'/Execution_Assets/Image_Annotation'], annot_metadata)"
      ]
    },
    {
      "cell_type": "code",
      "source": [],
      "metadata": {
        "id": "sweKxvocr_uR"
      },
      "execution_count": null,
      "outputs": []
    }
  ],
  "metadata": {
    "colab": {
      "provenance": [],
      "include_colab_link": true
    },
    "kernelspec": {
      "display_name": "Python 3",
      "name": "python3"
    },
    "language_info": {
      "name": "python"
    }
  },
  "nbformat": 4,
  "nbformat_minor": 0
}