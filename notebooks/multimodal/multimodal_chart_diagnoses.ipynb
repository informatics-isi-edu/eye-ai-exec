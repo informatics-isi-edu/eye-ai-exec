{
 "cells": [
  {
   "cell_type": "markdown",
   "id": "5119050a-16ac-41cd-a8e5-66173f28aeb1",
   "metadata": {},
   "source": [
    "### Ingest chart diagnoses"
   ]
  },
  {
   "cell_type": "code",
   "execution_count": null,
   "id": "254868d6-1033-4cfe-9f4e-f08013459523",
   "metadata": {},
   "outputs": [],
   "source": [
    "import pandas as pd\n",
    "import numpy as np\n",
    "\n",
    "# load csv\n",
    "chart_path = \"/home/yukim3003/chart_diagnosis_input-02-09-2025.csv\"\n",
    "chart_df = pd.read_csv(chart_path,sep=\",\", encoding='mac_roman')"
   ]
  },
  {
   "cell_type": "code",
   "execution_count": null,
   "id": "e1a6f1af-75a8-493a-8453-c605834a69f0",
   "metadata": {},
   "outputs": [],
   "source": [
    "chart_df"
   ]
  },
  {
   "cell_type": "code",
   "execution_count": null,
   "id": "28b3a2fb-d3c2-4d3c-a039-d8d4db91cf18",
   "metadata": {},
   "outputs": [],
   "source": [
    "# some subsets to check\n",
    "chart_df[chart_df['Chart diagnosis'].isna()] # none (I labeled all of these as \"No diagnosis\")\n",
    "chart_df[chart_df['Actual provider not a glaucoma specialist (X)'].notna()] # 174 rows"
   ]
  },
  {
   "cell_type": "code",
   "execution_count": null,
   "id": "29eac161-4de0-44ac-bce1-56724c8d0f08",
   "metadata": {},
   "outputs": [],
   "source": [
    "# drop NaN chart diagnoses\n",
    "# chart_df = chart_df.dropna(subset=['Chart diagnosis'])"
   ]
  },
  {
   "cell_type": "code",
   "execution_count": null,
   "id": "ff7e5cb4-6cc9-4f83-a75f-b977dd45e608",
   "metadata": {},
   "outputs": [],
   "source": [
    "# if not a glaucoma provider, replace with glaucoma provider diagnosis. \n",
    "chart_df['Chart diagnosis'] = np.where(chart_df['Actual provider not a glaucoma specialist (X)'].notna(), chart_df['Chart diagnosis for column M'], chart_df['Chart diagnosis'])\n",
    "# if none available (4 rows), drop so only glaucoma providers included\n",
    "chart_df = chart_df.dropna(subset=['Chart diagnosis'])\n",
    "# create column for final provider\n",
    "chart_df['Final provider diagnosis used'] = np.where(chart_df['Actual provider not a glaucoma specialist (X)'].notna(), chart_df['Glaucoma provider  for column M'], chart_df['Actual provider'])"
   ]
  },
  {
   "cell_type": "code",
   "execution_count": null,
   "id": "5f15e4b2-6e0c-4a80-baec-a6d10cd8a9f0",
   "metadata": {},
   "outputs": [],
   "source": [
    "chart_df # 1838 -> 1834 rows"
   ]
  },
  {
   "cell_type": "code",
   "execution_count": null,
   "id": "ba506885-7207-4ae1-bddf-ac242a717051",
   "metadata": {},
   "outputs": [],
   "source": [
    "## chart_label: Generate simple GS vs POAG vs PACG vs _ column\n",
    "\n",
    "GS_chart_labels = ['OAG suspect', 'OHTN', 'PAC suspect', 'PAC', 'ANA (anatomic narrow angle)']\n",
    "POAG_chart_labels = ['POAG, unspecified', 'mild POAG', 'mild/mod POAG', 'mod POAG', 'mod/severe POAG', 'severe POAG', 'pseudoexfoliation OAG', 'pigmentary OAG', 'NTG/LTG (normal/low tension)']\n",
    "PACG_chart_labels = ['PACG, unspecified', 'mild PACG', 'mild/mod PACG', 'mod PACG', 'mod/severe PACG', 'severe PACG']\n",
    "Other_chart_labels = ['other OAG (freetext)', 'other ACG (freetext)', 'Other (freetext)', 'MMG/CMG (mixed mechanism)', 'NVG (neovascular)'] # other OAG and other ACG largely secondary\n",
    "Na_chart_labels = ['Normal', 'No diagnosis']\n",
    "\n",
    "# combine PACG and POAG as glaucoma\n",
    "chart_df['chart_label']= chart_df['Chart diagnosis'].replace(GS_chart_labels, 'GS')\n",
    "chart_df['chart_label'] = chart_df['chart_label'].replace(POAG_chart_labels, 'POAG')\n",
    "chart_df['chart_label'] = chart_df['chart_label'].replace(PACG_chart_labels, 'PACG')\n",
    "chart_df['chart_label'] = chart_df['chart_label'].replace(Other_chart_labels, 'Other Glaucoma')\n",
    "chart_df['chart_label'] = chart_df['chart_label'].replace(Na_chart_labels, 'Normal or No dx')"
   ]
  },
  {
   "cell_type": "code",
   "execution_count": null,
   "id": "b11896b0-84fc-46d6-804b-8de3244a8389",
   "metadata": {},
   "outputs": [],
   "source": [
    "## severity_chart_label: Generate GS vs mild vs moderate vs severe vs NA label\n",
    "# if mild/mod, saved as moderate\n",
    "# if mod/severe, saved as severe\n",
    "\n",
    "GS_severity = ['OAG suspect', 'OHTN', 'PAC suspect', 'PAC', 'ANA (anatomic narrow angle)']\n",
    "mild_severity = ['mild POAG', 'mild PACG']\n",
    "mod_severity = ['mild/mod POAG', 'mod POAG', 'mild/mod PACG', 'mod PACG']\n",
    "severe_severity = ['mod/severe POAG', 'mod/severe PACG', 'severe POAG', 'severe PACG']\n",
    "indeterminate_severity = ['POAG, unspecified', 'pseudoexfoliation OAG', 'pigmentary OAG', 'NTG/LTG (normal/low tension)', 'PACG, unspecified', 'other OAG (freetext)', 'other ACG (freetext)', 'Other (freetext)', 'MMG/CMG (mixed mechanism)', 'NVG (neovascular)']\n",
    "Na_chart_labels = ['Normal', 'No diagnosis']\n",
    "\n",
    "# combine PACG and POAG as glaucoma\n",
    "chart_df['severity_chart_label']= chart_df['Chart diagnosis'].replace(GS_severity, 'Suspect')\n",
    "chart_df['severity_chart_label'] = chart_df['severity_chart_label'].replace(mild_severity, 'Mild')\n",
    "chart_df['severity_chart_label'] = chart_df['severity_chart_label'].replace(mod_severity, 'Moderate')\n",
    "chart_df['severity_chart_label'] = chart_df['severity_chart_label'].replace(severe_severity, 'Severe')\n",
    "chart_df['severity_chart_label'] = chart_df['severity_chart_label'].replace(indeterminate_severity, 'Indeterminate')\n",
    "chart_df['severity_chart_label'] = chart_df['severity_chart_label'].replace(Na_chart_labels, 'Normal or No dx')"
   ]
  },
  {
   "cell_type": "code",
   "execution_count": null,
   "id": "c0a64ba9-22e1-4d0b-8f57-af28a4c4315e",
   "metadata": {},
   "outputs": [],
   "source": [
    "chart_df # note patients don't all have both eyes represented"
   ]
  },
  {
   "cell_type": "code",
   "execution_count": null,
   "id": "0ba013ad-b9f4-4fa1-826b-3f6f765eb771",
   "metadata": {},
   "outputs": [],
   "source": [
    "chart_df = chart_df.drop_duplicates(subset=['RID_Subject', 'Side'], keep='first', inplace=False)"
   ]
  },
  {
   "cell_type": "code",
   "execution_count": null,
   "id": "fcd86f3e-c0f0-4c65-bd8c-faa36697f097",
   "metadata": {},
   "outputs": [],
   "source": [
    "# drop rows with Other or Na chart label - nvm I'll do this later in my analysis doc so I know at least that these labels were obtained\n",
    "#chart_df = chart_df[chart_df['chart_label'].isin(['GS', 'POAG', 'PACG'])] #1834 -> 1700 rows"
   ]
  },
  {
   "cell_type": "code",
   "execution_count": null,
   "id": "e4d5ff66-1ae8-476e-86a5-959ae80ec30f",
   "metadata": {},
   "outputs": [],
   "source": [
    "chart_df.to_csv('/home/yukim3003/chart_diagnosis_output-05-28-2025.csv', index=False)"
   ]
  },
  {
   "cell_type": "markdown",
   "id": "1e89d9b4-da6c-4417-936a-f6abfe799449",
   "metadata": {
    "jp-MarkdownHeadingCollapsed": true
   },
   "source": [
    "### Cross-tab chart dx based on more severe eye"
   ]
  },
  {
   "cell_type": "code",
   "execution_count": null,
   "id": "e7429359-94d2-415c-9fd0-5e90c6a6da34",
   "metadata": {},
   "outputs": [],
   "source": [
    "#Filter chart_df for more severe eye only\n",
    "severe_eye_path = \"/data/yukim3003/EyeAI_working/Execution_Assets/Multimodal_Analysis/wide_full082024_severeeye.csv\"\n",
    "severe_eye = pd.read_csv(severe_eye_path, index_col=0)\n",
    "severe_eye = severe_eye.rename(columns={'Image_Side': 'Side'})\n",
    "\n",
    "chart_df_severe_eye = severe_eye.merge(chart_df, on=[\"RID_Subject\", \"Side\"])\n",
    "chart_df_severe_eye # 603 rows that have chart diagnoses done so far; 919 rows total"
   ]
  },
  {
   "cell_type": "code",
   "execution_count": null,
   "id": "94cf5b27-9147-4e65-b685-082cadf862d1",
   "metadata": {},
   "outputs": [],
   "source": [
    "def percentages(crosstab):\n",
    "    # Calculate row percentages\n",
    "    row_percentages = crosstab.div(crosstab.sum(axis=1), axis=0) * 100 # we decided not to use this one\n",
    "    # Calculate column percentages\n",
    "    col_percentages = crosstab.div(crosstab.sum(axis=0), axis=1) * 100\n",
    "\n",
    "    return (crosstab.astype(str) + \" (\" + col_percentages.round(2).astype(str) + \"%)\")"
   ]
  },
  {
   "cell_type": "code",
   "execution_count": null,
   "id": "fc153033-17cf-4804-b649-b302369f5651",
   "metadata": {},
   "outputs": [],
   "source": [
    "crosstab = pd.crosstab(chart_df_severe_eye['ICD-10 Label'], chart_df_severe_eye['chart_label'])\n",
    "percentages(crosstab)"
   ]
  },
  {
   "cell_type": "code",
   "execution_count": null,
   "id": "a1c62538-62fc-484f-a425-4168dab8f862",
   "metadata": {},
   "outputs": [],
   "source": [
    "chart_df"
   ]
  },
  {
   "cell_type": "code",
   "execution_count": null,
   "id": "d863a957-f6c9-4087-bc6e-fbaab798b0a1",
   "metadata": {},
   "outputs": [],
   "source": [
    "### Sanity check to confirm that the labels in the google sharepoint excel match the wide_multimodal_full.csv labels --> correct!\n",
    "# percent of labels that stayed the same\n",
    "#sum(chart_df_severe_eye['Condition_Label'] == chart_df_severe_eye['ICD-10 Label']) / len(chart_df_severe_eye) #--> =100%, yay!"
   ]
  },
  {
   "cell_type": "code",
   "execution_count": null,
   "id": "97a9125f-dde7-4b7d-b906-214013f6e958",
   "metadata": {},
   "outputs": [],
   "source": [
    "crosstab = pd.crosstab(chart_df['ICD-10 Label'], chart_df['chart_label'])\n",
    "percentages(crosstab)"
   ]
  },
  {
   "cell_type": "code",
   "execution_count": null,
   "id": "f4a5beed-bf5c-4440-bb42-d1c8093609cd",
   "metadata": {},
   "outputs": [],
   "source": [
    "chart_df.loc[(chart_df.chart_label=='GS') & (chart_df['ICD-10 Label']=='POAG')]"
   ]
  },
  {
   "cell_type": "markdown",
   "id": "d32186c0-4f65-4a0d-8799-66d0ae6e2d28",
   "metadata": {},
   "source": [
    "# Compare chart diagnoses with test set grader diagnoses 05-28-2025"
   ]
  },
  {
   "cell_type": "code",
   "execution_count": null,
   "id": "fdb6de09-e50e-49b8-a854-4f2776b0709c",
   "metadata": {},
   "outputs": [],
   "source": [
    "test_graded_df_pre = pd.read_csv('/home/yukim3003/test_set_grader_dx-05-28-2025.csv',sep=\",\", encoding='mac_roman')"
   ]
  },
  {
   "cell_type": "code",
   "execution_count": null,
   "id": "857163c4-1b2f-498c-a039-700a654db50a",
   "metadata": {},
   "outputs": [],
   "source": [
    "len(test_graded_df_pre)"
   ]
  },
  {
   "cell_type": "code",
   "execution_count": null,
   "id": "3c98d60b-1abc-4d2f-9dd6-8d7dbc78f37f",
   "metadata": {},
   "outputs": [],
   "source": [
    "# drop eyes if any of CFP, HVF, or RNFL missing or bad enough such that Van/Kyle chose not to grade\n",
    "columns_to_check = ['CDR', 'Grade', 'Severity']\n",
    "# Drop rows where any of the specified columns have NaN values\n",
    "test_graded_df = test_graded_df_pre.dropna(subset=columns_to_check, how='any')"
   ]
  },
  {
   "cell_type": "code",
   "execution_count": null,
   "id": "deac5d51-bbc6-4f13-891e-0a96b8e2dc51",
   "metadata": {},
   "outputs": [],
   "source": [
    "test_graded_df.rename(columns={'Eye': 'Side'}, inplace=True)"
   ]
  },
  {
   "cell_type": "code",
   "execution_count": null,
   "id": "69ad06c7-2052-4c7b-8a14-90c85e091b53",
   "metadata": {},
   "outputs": [],
   "source": [
    "df_merged = pd.merge(chart_df[['RID_Subject', 'Side', 'chart_label', 'severity_chart_label', 'Final provider diagnosis used']], test_graded_df, on=['RID_Subject', 'Side'], how='right')\n",
    "df_merged.rename(columns={'Severity': 'severity_testgrader_label'}, inplace=True)"
   ]
  },
  {
   "cell_type": "code",
   "execution_count": null,
   "id": "5188a92a-1923-4628-b151-51b5e5b24e6f",
   "metadata": {},
   "outputs": [],
   "source": [
    "# which cases disagree on GS vs Glaucoma?\n",
    "df_merged['chart_glaucoma_label'] = np.where(df_merged['chart_label'] =='GS', 'GS', 'Glaucoma')\n",
    "df_merged['testgrader_glaucoma_label'] = np.where(df_merged['severity_testgrader_label'] =='Suspect', 'GS', 'Glaucoma')\n",
    "\n",
    "# of both agreed Glaucoma (POAG of PACG) cases, which ones disagree in severity?\n",
    "df_merged_bothglaucoma = df_merged[(df_merged['chart_glaucoma_label']=='Glaucoma') & (df_merged['testgrader_glaucoma_label']=='Glaucoma')] # 110 out of 229 eyes"
   ]
  },
  {
   "cell_type": "code",
   "execution_count": null,
   "id": "4a86f4d4-5614-4897-96cc-289dbc47631d",
   "metadata": {},
   "outputs": [],
   "source": [
    "print(\"Percent agreement: \" + str(sum(df_merged['chart_glaucoma_label']==df_merged['testgrader_glaucoma_label']) / len(df_merged)))\n",
    "\n",
    "crosstab = pd.crosstab(df_merged['chart_glaucoma_label'], df_merged['testgrader_glaucoma_label'])\n",
    "percentages(crosstab)"
   ]
  },
  {
   "cell_type": "code",
   "execution_count": null,
   "id": "45203bc6-c7f0-4c1d-a444-327111493efe",
   "metadata": {},
   "outputs": [],
   "source": [
    "crosstab = pd.crosstab(df_merged_bothglaucoma['severity_chart_label'], df_merged_bothglaucoma['severity_testgrader_label'])\n",
    "percentages(crosstab)"
   ]
  },
  {
   "cell_type": "code",
   "execution_count": null,
   "id": "24bd5330-6d20-40d4-8591-ecc70d74da82",
   "metadata": {},
   "outputs": [],
   "source": [
    "# agreement on severity if remove Indeterminate\n",
    "df = df_merged_bothglaucoma[df_merged_bothglaucoma['severity_chart_label'] != 'Indeterminate'] # 62 rows\n",
    "crosstab = pd.crosstab(df['severity_chart_label'], df['severity_testgrader_label'])\n",
    "percentages(crosstab)"
   ]
  },
  {
   "cell_type": "code",
   "execution_count": null,
   "id": "ddb02246-1194-4e90-a0e4-de05a58837d7",
   "metadata": {},
   "outputs": [],
   "source": [
    "df_merged"
   ]
  },
  {
   "cell_type": "code",
   "execution_count": null,
   "id": "e9abc8ea-9fee-437a-8a19-ae6ec041ce8a",
   "metadata": {},
   "outputs": [],
   "source": [
    "# Generate document of patients for Xu/Do to adjudicate\n",
    "# drop rows where there is no disagreement in neither severity nor glaucoma label\n",
    "df_disagreed = df_merged[df_merged['severity_chart_label'] != df_merged['severity_testgrader_label']]\n",
    "len(df_disagreed)"
   ]
  },
  {
   "cell_type": "code",
   "execution_count": null,
   "id": "0bd89f4c-f301-4c7e-a923-7a5da76b8431",
   "metadata": {},
   "outputs": [],
   "source": [
    "df_disagreed.to_csv('/home/yukim3003/to_adjudicate_botheyes-05-28-2025.csv', index=False)"
   ]
  },
  {
   "cell_type": "code",
   "execution_count": null,
   "id": "a50ea798-0eb8-4a59-af4f-7d5e61c10323",
   "metadata": {},
   "outputs": [],
   "source": []
  }
 ],
 "metadata": {
  "language_info": {
   "name": "python"
  }
 },
 "nbformat": 4,
 "nbformat_minor": 5
}
