{
 "cells": [
  {
   "cell_type": "code",
   "execution_count": 1,
   "id": "8499060d-4de0-4ab1-bf23-8f766d24dd5e",
   "metadata": {},
   "outputs": [
    {
     "name": "stderr",
     "output_type": "stream",
     "text": [
      "2025-01-19 11:30:06.117569: E external/local_xla/xla/stream_executor/cuda/cuda_dnn.cc:9261] Unable to register cuDNN factory: Attempting to register factory for plugin cuDNN when one has already been registered\n",
      "2025-01-19 11:30:06.117617: E external/local_xla/xla/stream_executor/cuda/cuda_fft.cc:607] Unable to register cuFFT factory: Attempting to register factory for plugin cuFFT when one has already been registered\n",
      "2025-01-19 11:30:06.118501: E external/local_xla/xla/stream_executor/cuda/cuda_blas.cc:1515] Unable to register cuBLAS factory: Attempting to register factory for plugin cuBLAS when one has already been registered\n",
      "2025-01-19 11:30:06.125015: I tensorflow/core/platform/cpu_feature_guard.cc:182] This TensorFlow binary is optimized to use available CPU instructions in performance-critical operations.\n",
      "To enable the following instructions: AVX2 FMA, in other operations, rebuild TensorFlow with the appropriate compiler flags.\n",
      "2025-01-19 11:30:06.880563: W tensorflow/compiler/tf2tensorrt/utils/py_utils.cc:38] TF-TRT Warning: Could not find TensorRT\n"
     ]
    }
   ],
   "source": [
    "# Prerequisites\n",
    "import json\n",
    "import os\n",
    "from eye_ai.eye_ai import EyeAI\n",
    "\n",
    "import pandas as pd\n",
    "from pathlib import Path, PurePath\n",
    "import logging\n",
    "from IPython.display import Markdown, display\n",
    "\n",
    "from deriva_ml import DatasetBag, Workflow, ExecutionConfiguration\n",
    "from deriva_ml import MLVocab as vc\n",
    "from deriva_ml.deriva_definitions import ColumnDefinition, BuiltinTypes\n",
    "logging.basicConfig(level=logging.INFO, format='%(asctime)s - %(levelname)s - %(message)s', force=True)"
   ]
  },
  {
   "cell_type": "code",
   "execution_count": 2,
   "id": "1f254b11-9f01-4185-95a0-cd7f80995c2f",
   "metadata": {
    "scrolled": true
   },
   "outputs": [
    {
     "name": "stderr",
     "output_type": "stream",
     "text": [
      "2025-01-19 11:30:07,431 - INFO - Creating client of type <class 'globus_sdk.services.auth.client.native_client.NativeAppAuthClient'> for service \"auth\"\n",
      "2025-01-19 11:30:07,432 - INFO - Finished initializing AuthLoginClient. client_id='8ef15ba9-2b4a-469c-a163-7fd910c9d111', type(authorizer)=<class 'globus_sdk.authorizers.base.NullAuthorizer'>\n"
     ]
    },
    {
     "name": "stdout",
     "output_type": "stream",
     "text": [
      "You are already logged in.\n"
     ]
    }
   ],
   "source": [
    "# Login\n",
    "from deriva.core.utils.globus_auth_utils import GlobusNativeLogin\n",
    "host = 'www.eye-ai.org'\n",
    "# host = 'dev.eye-ai.org'\n",
    "catalog_id = \"eye-ai\"\n",
    "\n",
    "gnl = GlobusNativeLogin(host=host)\n",
    "if gnl.is_logged_in([host]):\n",
    "    print(\"You are already logged in.\")\n",
    "else:\n",
    "    gnl.login([host], no_local_server=True, no_browser=True, refresh_tokens=True, update_bdbag_keychain=True)\n",
    "    print(\"Login Successful\")"
   ]
  },
  {
   "cell_type": "code",
   "execution_count": 3,
   "id": "3a40db10-6f64-4b6e-a22d-3c7011e2a3fa",
   "metadata": {},
   "outputs": [
    {
     "name": "stderr",
     "output_type": "stream",
     "text": [
      "2025-01-19 11:30:10,592 - INFO - Creating client of type <class 'globus_sdk.services.auth.client.native_client.NativeAppAuthClient'> for service \"auth\"\n",
      "2025-01-19 11:30:10,593 - INFO - Finished initializing AuthLoginClient. client_id='8ef15ba9-2b4a-469c-a163-7fd910c9d111', type(authorizer)=<class 'globus_sdk.authorizers.base.NullAuthorizer'>\n"
     ]
    }
   ],
   "source": [
    "cache_dir = '/data'\n",
    "working_dir = '/data'\n",
    "EA = EyeAI(hostname = host, catalog_id = catalog_id, cache_dir= cache_dir, working_dir=working_dir)"
   ]
  },
  {
   "cell_type": "markdown",
   "id": "b2006ce9-6ca1-402d-b9ad-8853b85509cf",
   "metadata": {},
   "source": [
    "# Configuration"
   ]
  },
  {
   "cell_type": "code",
   "execution_count": 4,
   "id": "8f92f4b0-438a-4e57-9edf-76d7f655f82b",
   "metadata": {},
   "outputs": [
    {
     "name": "stderr",
     "output_type": "stream",
     "text": [
      "2025-01-19 11:30:13,893 - INFO - Configuration validation successful!\n",
      "2025-01-19 11:30:15,123 - INFO - File [/data/lizhiwei/EyeAI_working/4-410P/asset/feature_angle_laterality.csv] transfer successful. 54.02 KB transferred. Elapsed time: 0:00:00.001715.\n",
      "2025-01-19 11:30:15,124 - INFO - Verifying MD5 checksum for downloaded file [/data/lizhiwei/EyeAI_working/4-410P/asset/feature_angle_laterality.csv]\n"
     ]
    }
   ],
   "source": [
    "# Workflow instance\n",
    "cur_workflow = Workflow(\n",
    "    name=\"Create slected image datasets\",\n",
    "    url=\"https://github.com/informatics-isi-edu/eye-ai-exec/blob/main/notebooks/multimodal/selected_image_datasets.ipynb\",\n",
    "    workflow_type=\"multimodal_feature_engineering\"\n",
    ")\n",
    "# Configuration instance.\n",
    "\n",
    "# Set to False if you only need the metadata from the bag, and not the assets.\n",
    "download_assets = True\n",
    "\n",
    "config = ExecutionConfiguration(\n",
    "    # Comment out the following line if you don't need the assets.\n",
    "    # datasets=[source_dataset] if download_assets else [],\n",
    "    assets=['4-3S3G'], # dev: 5-SJFY prod: 4-3S3G\n",
    "    workflow=cur_workflow,\n",
    "    description=\"Create slected image datasets on dev\")\n",
    "\n",
    "# Initialize execution\n",
    "execution = EA.create_execution(config)\n",
    "\n"
   ]
  },
  {
   "cell_type": "code",
   "execution_count": 5,
   "id": "184cb7a9-b7ad-440b-b115-bb5831c92bad",
   "metadata": {},
   "outputs": [
    {
     "name": "stdout",
     "output_type": "stream",
     "text": [
      "caching_dir: /data\n",
      "working_dir: /data/lizhiwei/EyeAI_working\n",
      "execution_rid: 4-410P\n",
      "workflow_rid: 4-410M\n",
      "dataset_paths: []\n",
      "asset_paths: [PosixPath('/data/lizhiwei/EyeAI_working/4-410P/asset/feature_angle_laterality.csv')]\n",
      "configuration: datasets=[] assets=['4-3S3G'] workflow=Workflow(name='Create slected image datasets', url='https://github.com/informatics-isi-edu/eye-ai-exec/blob/main/notebooks/multimodal/selected_image_datasets.ipynb', workflow_type='multimodal_feature_engineering', version=None, description=None) description='Create slected image datasets on dev'\n"
     ]
    }
   ],
   "source": [
    "print(execution)"
   ]
  },
  {
   "cell_type": "code",
   "execution_count": 6,
   "id": "48eff055-2923-4c49-b328-25dcb090bd64",
   "metadata": {},
   "outputs": [],
   "source": [
    "feature = pd.read_csv(execution.asset_paths[0])\n",
    "feature.dropna(subset=['Image'], inplace=True)\n",
    "feature.drop_duplicates(subset=['Image'], inplace=True)\n",
    "selected_image = feature['Image'].tolist()"
   ]
  },
  {
   "cell_type": "code",
   "execution_count": 7,
   "id": "d1dac719-a388-4923-bdef-2aa75b1b67c8",
   "metadata": {
    "scrolled": true
   },
   "outputs": [],
   "source": [
    "\n",
    "def retrieve_image_rids(dataset_rid):\n",
    "    eye_ai = EA.domain_path\n",
    "    dataset_sub = eye_ai.Subject_Dataset\n",
    "    sub = eye_ai.Subject\n",
    "    obs = eye_ai.Observation\n",
    "    image = eye_ai.Image\n",
    "    \n",
    "    result = dataset_sub.path.filter(dataset_sub.Dataset == dataset_rid).\\\n",
    "    link(sub, on=dataset_sub.Subject==sub.RID).\\\n",
    "    link(obs, on=sub.RID==obs.Subject).\\\n",
    "    link(image, on=obs.RID==image.Observation)\n",
    "    return pd.DataFrame(result.entities())['RID'].to_list()\n",
    "\n",
    "train = '2-C9PP'\n",
    "test = '2-C9PR'\n",
    "train_list = retrieve_image_rids(train)\n",
    "test_list = retrieve_image_rids(test)\n",
    "train_selected_list = [rid for rid in selected_image if rid in train_list]\n",
    "test_selected_list = [rid for rid in selected_image if rid in test_list]"
   ]
  },
  {
   "cell_type": "code",
   "execution_count": 12,
   "id": "4fae5776-6756-451d-9b28-a56c82defdf6",
   "metadata": {
    "scrolled": true
   },
   "outputs": [],
   "source": [
    "train_image = execution.create_dataset(['USC', 'Image', 'Training'], \n",
    "                                       description='Selected images for multimodal training')\n",
    "test_image = execution.create_dataset(['USC', 'Image', 'Test'], \n",
    "                                      description='Selected images for multimodal test')"
   ]
  },
  {
   "cell_type": "code",
   "execution_count": 14,
   "id": "596ead11-5e84-4579-8196-71eae8a25fe0",
   "metadata": {},
   "outputs": [
    {
     "data": {
      "text/plain": [
       "'4-411G'"
      ]
     },
     "execution_count": 14,
     "metadata": {},
     "output_type": "execute_result"
    }
   ],
   "source": [
    "EA.add_dataset_members(dataset_rid=train_image, members=train_selected_list)\n",
    "EA.add_dataset_members(dataset_rid=test_image, members=test_selected_list)"
   ]
  },
  {
   "cell_type": "code",
   "execution_count": 15,
   "id": "a807e939-872d-48fc-81c4-30dea27c148f",
   "metadata": {
    "scrolled": true
   },
   "outputs": [
    {
     "data": {
      "text/plain": [
       "'2-C9PR'"
      ]
     },
     "execution_count": 15,
     "metadata": {},
     "output_type": "execute_result"
    }
   ],
   "source": [
    "EA.add_dataset_members(dataset_rid=train, members= [train_image])\n",
    "EA.add_dataset_members(dataset_rid=test, members= [test_image])"
   ]
  },
  {
   "cell_type": "markdown",
   "id": "1d3588de-cd3a-4c87-993b-cc0e5025a91f",
   "metadata": {},
   "source": [
    "# Upload results"
   ]
  },
  {
   "cell_type": "code",
   "execution_count": 16,
   "id": "f27d4849-0230-4722-afa5-47f03a9d90a2",
   "metadata": {
    "scrolled": true
   },
   "outputs": [
    {
     "name": "stderr",
     "output_type": "stream",
     "text": [
      "2025-01-19 11:38:30,469 - INFO - Initializing uploader: GenericUploader v1.7.5 [Python 3.10.13, Linux-5.10.210-201.852.amzn2.x86_64-x86_64-with-glibc2.26]\n",
      "2025-01-19 11:38:30,470 - INFO - Creating client of type <class 'globus_sdk.services.auth.client.native_client.NativeAppAuthClient'> for service \"auth\"\n",
      "2025-01-19 11:38:30,471 - INFO - Finished initializing AuthLoginClient. client_id='8ef15ba9-2b4a-469c-a163-7fd910c9d111', type(authorizer)=<class 'globus_sdk.authorizers.base.NullAuthorizer'>\n",
      "2025-01-19 11:38:30,482 - INFO - Scanning files in directory [/data/lizhiwei/EyeAI_working/deriva-ml/execution/4-410P/execution-asset]...\n",
      "2025-01-19 11:38:30,483 - INFO - File upload processing completed: 0 files were uploaded successfully, 0 files failed to upload due to errors, 0 files were skipped because they did not satisfy the matching criteria of the configuration.\n",
      "2025-01-19 11:38:30,554 - INFO - Initializing uploader: GenericUploader v1.7.5 [Python 3.10.13, Linux-5.10.210-201.852.amzn2.x86_64-x86_64-with-glibc2.26]\n",
      "2025-01-19 11:38:30,555 - INFO - Creating client of type <class 'globus_sdk.services.auth.client.native_client.NativeAppAuthClient'> for service \"auth\"\n",
      "2025-01-19 11:38:30,556 - INFO - Finished initializing AuthLoginClient. client_id='8ef15ba9-2b4a-469c-a163-7fd910c9d111', type(authorizer)=<class 'globus_sdk.authorizers.base.NullAuthorizer'>\n",
      "2025-01-19 11:38:30,568 - INFO - Scanning files in directory [/data/lizhiwei/EyeAI_working/deriva-ml/execution/4-410P/execution-metadata]...\n",
      "2025-01-19 11:38:30,569 - INFO - Including file: [/data/lizhiwei/EyeAI_working/deriva-ml/execution/4-410P/execution-metadata/Execution_Config/configuration.json].\n",
      "2025-01-19 11:38:30,570 - INFO - Including file: [/data/lizhiwei/EyeAI_working/deriva-ml/execution/4-410P/execution-metadata/Runtime_Env/environment_snapshot_pl_clz_c.txt].\n",
      "2025-01-19 11:38:30,570 - INFO - Processing: [/data/lizhiwei/EyeAI_working/deriva-ml/execution/4-410P/execution-metadata/Execution_Config/configuration.json]\n",
      "2025-01-19 11:38:30,571 - INFO - Computed metadata for: [/data/lizhiwei/EyeAI_working/deriva-ml/execution/4-410P/execution-metadata/Execution_Config/configuration.json].\n",
      "2025-01-19 11:38:30,572 - INFO - Computing checksums for file: [/data/lizhiwei/EyeAI_working/deriva-ml/execution/4-410P/execution-metadata/Execution_Config/configuration.json]. Please wait...\n",
      "2025-01-19 11:38:30,583 - INFO - Uploading file: [/data/lizhiwei/EyeAI_working/deriva-ml/execution/4-410P/execution-metadata/Execution_Config/configuration.json] to host https://www.eye-ai.org. Please wait...\n",
      "2025-01-19 11:38:31,143 - INFO - Processing: [/data/lizhiwei/EyeAI_working/deriva-ml/execution/4-410P/execution-metadata/Runtime_Env/environment_snapshot_pl_clz_c.txt]\n",
      "2025-01-19 11:38:31,144 - INFO - Computed metadata for: [/data/lizhiwei/EyeAI_working/deriva-ml/execution/4-410P/execution-metadata/Runtime_Env/environment_snapshot_pl_clz_c.txt].\n",
      "2025-01-19 11:38:31,144 - INFO - Computing checksums for file: [/data/lizhiwei/EyeAI_working/deriva-ml/execution/4-410P/execution-metadata/Runtime_Env/environment_snapshot_pl_clz_c.txt]. Please wait...\n",
      "2025-01-19 11:38:31,153 - INFO - Uploading file: [/data/lizhiwei/EyeAI_working/deriva-ml/execution/4-410P/execution-metadata/Runtime_Env/environment_snapshot_pl_clz_c.txt] to host https://www.eye-ai.org. Please wait...\n",
      "2025-01-19 11:38:31,377 - INFO - File upload processing completed: 2 files were uploaded successfully, 0 files failed to upload due to errors, 0 files were skipped because they did not satisfy the matching criteria of the configuration.\n"
     ]
    },
    {
     "data": {
      "text/plain": [
       "{'Execution_Config/configuration.json': FileUploadState(state=<UploadState.success: 0>, status='Complete', result={'URL': '/hatrac/execution_metadata/581715425ede233abbce9e37caa6b029.configuration.json:Kzldu6WIffBPTyrGeTuYEWEFudhDuuc0', 'RID': '4-44EP', 'RCT': '2025-01-19T19:38:31.124398+00:00', 'RMT': '2025-01-19T19:38:31.124398+00:00', 'RCB': 'https://auth.globus.org/3769492a-b197-4063-952e-2500351dbcdd', 'RMB': 'https://auth.globus.org/3769492a-b197-4063-952e-2500351dbcdd', 'Filename': 'configuration.json', 'Description': None, 'Length': 373, 'MD5': '581715425ede233abbce9e37caa6b029', 'Execution_Metadata_Type': 'Execution_Config'}, rid='4-44EP'),\n",
       " 'Runtime_Env/environment_snapshot_pl_clz_c.txt': FileUploadState(state=<UploadState.success: 0>, status='Complete', result={'URL': '/hatrac/execution_metadata/ff510496e7048767ace690657ae64bce.environment_snapshot_pl_clz_c.txt:cH2z3rBVa6M8OqLGFeqGFP9QyJm1ZYs0', 'RID': '4-44ER', 'RCT': '2025-01-19T19:38:31.355351+00:00', 'RMT': '2025-01-19T19:38:31.355351+00:00', 'RCB': 'https://auth.globus.org/3769492a-b197-4063-952e-2500351dbcdd', 'RMB': 'https://auth.globus.org/3769492a-b197-4063-952e-2500351dbcdd', 'Filename': 'environment_snapshot_pl_clz_c.txt', 'Description': None, 'Length': 5409, 'MD5': 'ff510496e7048767ace690657ae64bce', 'Execution_Metadata_Type': 'Runtime_Env'}, rid='4-44ER')}"
      ]
     },
     "execution_count": 16,
     "metadata": {},
     "output_type": "execute_result"
    }
   ],
   "source": [
    "# save assets to asset_path\n",
    "\n",
    "# upload assets to catalog\n",
    "execution.upload_execution_outputs(clean_folder=True)"
   ]
  },
  {
   "cell_type": "code",
   "execution_count": 13,
   "id": "0555f425-fece-4720-b983-47f90d4e1a31",
   "metadata": {
    "scrolled": true
   },
   "outputs": [
    {
     "ename": "ValueError",
     "evalue": "'right' is from a different catalog. Cannot link across catalogs.",
     "output_type": "error",
     "traceback": [
      "\u001b[0;31m---------------------------------------------------------------------------\u001b[0m",
      "\u001b[0;31mValueError\u001b[0m                                Traceback (most recent call last)",
      "Cell \u001b[0;32mIn[13], line 11\u001b[0m\n\u001b[1;32m      8\u001b[0m obs \u001b[38;5;241m=\u001b[39m eye_ai\u001b[38;5;241m.\u001b[39mObservation\n\u001b[1;32m      9\u001b[0m image \u001b[38;5;241m=\u001b[39m eye_ai\u001b[38;5;241m.\u001b[39mImage\n\u001b[0;32m---> 11\u001b[0m result \u001b[38;5;241m=\u001b[39m \u001b[43mdataset\u001b[49m\u001b[38;5;241;43m.\u001b[39;49m\u001b[43mpath\u001b[49m\u001b[38;5;241;43m.\u001b[39;49m\u001b[43mfilter\u001b[49m\u001b[43m(\u001b[49m\u001b[43mdataset\u001b[49m\u001b[38;5;241;43m.\u001b[39;49m\u001b[43mRID\u001b[49m\u001b[43m \u001b[49m\u001b[38;5;241;43m==\u001b[39;49m\u001b[43m \u001b[49m\u001b[38;5;124;43m'\u001b[39;49m\u001b[38;5;124;43m2-7P5P\u001b[39;49m\u001b[38;5;124;43m'\u001b[39;49m\u001b[43m)\u001b[49m\u001b[38;5;241;43m.\u001b[39;49m\u001b[43m\\\u001b[49m\n\u001b[1;32m     12\u001b[0m \u001b[43mlink\u001b[49m\u001b[43m(\u001b[49m\u001b[43mdataset_sub\u001b[49m\u001b[43m,\u001b[49m\u001b[43m \u001b[49m\u001b[43mon\u001b[49m\u001b[38;5;241;43m=\u001b[39;49m\u001b[43mdataset\u001b[49m\u001b[38;5;241;43m.\u001b[39;49m\u001b[43mRID\u001b[49m\u001b[38;5;241;43m==\u001b[39;49m\u001b[43mdataset_sub\u001b[49m\u001b[38;5;241;43m.\u001b[39;49m\u001b[43mDataset\u001b[49m\u001b[43m)\u001b[49m\u001b[38;5;241m.\u001b[39m\\\n\u001b[1;32m     13\u001b[0m link(sub, on\u001b[38;5;241m=\u001b[39mdataset_sub\u001b[38;5;241m.\u001b[39mSubject\u001b[38;5;241m==\u001b[39msub\u001b[38;5;241m.\u001b[39mRID)\u001b[38;5;241m.\u001b[39m\\\n\u001b[1;32m     14\u001b[0m link(obs, on\u001b[38;5;241m=\u001b[39msub\u001b[38;5;241m.\u001b[39mRID\u001b[38;5;241m==\u001b[39mobs\u001b[38;5;241m.\u001b[39mSubject)\u001b[38;5;241m.\u001b[39m\\\n\u001b[1;32m     15\u001b[0m link(image, on\u001b[38;5;241m=\u001b[39mobs\u001b[38;5;241m.\u001b[39mRID\u001b[38;5;241m==\u001b[39mimage\u001b[38;5;241m.\u001b[39mObservation)\n\u001b[1;32m     16\u001b[0m catalog_image \u001b[38;5;241m=\u001b[39m pd\u001b[38;5;241m.\u001b[39mDataFrame(result\u001b[38;5;241m.\u001b[39mentities())[[\u001b[38;5;124m'\u001b[39m\u001b[38;5;124mRID\u001b[39m\u001b[38;5;124m'\u001b[39m, \u001b[38;5;124m'\u001b[39m\u001b[38;5;124mMD5\u001b[39m\u001b[38;5;124m'\u001b[39m]]\n",
      "File \u001b[0;32m~/.conda/envs/my-tensorflow-conda/lib/python3.10/site-packages/deriva/core/datapath.py:417\u001b[0m, in \u001b[0;36mDataPath.link\u001b[0;34m(self, right, on, join_type)\u001b[0m\n\u001b[1;32m    415\u001b[0m     \u001b[38;5;28;01mraise\u001b[39;00m \u001b[38;5;167;01mValueError\u001b[39;00m(\u001b[38;5;124m\"\u001b[39m\u001b[38;5;124m'\u001b[39m\u001b[38;5;124mon\u001b[39m\u001b[38;5;124m'\u001b[39m\u001b[38;5;124m must be specified for outer joins\u001b[39m\u001b[38;5;124m\"\u001b[39m)\n\u001b[1;32m    416\u001b[0m \u001b[38;5;28;01mif\u001b[39;00m right\u001b[38;5;241m.\u001b[39m_schema\u001b[38;5;241m.\u001b[39m_catalog \u001b[38;5;241m!=\u001b[39m \u001b[38;5;28mself\u001b[39m\u001b[38;5;241m.\u001b[39m_root\u001b[38;5;241m.\u001b[39m_schema\u001b[38;5;241m.\u001b[39m_catalog:\n\u001b[0;32m--> 417\u001b[0m     \u001b[38;5;28;01mraise\u001b[39;00m \u001b[38;5;167;01mValueError\u001b[39;00m(\u001b[38;5;124m\"\u001b[39m\u001b[38;5;124m'\u001b[39m\u001b[38;5;124mright\u001b[39m\u001b[38;5;124m'\u001b[39m\u001b[38;5;124m is from a different catalog. Cannot link across catalogs.\u001b[39m\u001b[38;5;124m\"\u001b[39m)\n\u001b[1;32m    418\u001b[0m \u001b[38;5;28;01mif\u001b[39;00m \u001b[38;5;28misinstance\u001b[39m(right, _TableAlias) \u001b[38;5;129;01mand\u001b[39;00m right\u001b[38;5;241m.\u001b[39m_parent \u001b[38;5;241m==\u001b[39m \u001b[38;5;28mself\u001b[39m:\n\u001b[1;32m    419\u001b[0m     \u001b[38;5;28;01mraise\u001b[39;00m \u001b[38;5;167;01mValueError\u001b[39;00m(\u001b[38;5;124m\"\u001b[39m\u001b[38;5;124m'\u001b[39m\u001b[38;5;124mright\u001b[39m\u001b[38;5;124m'\u001b[39m\u001b[38;5;124m is a table alias that has already been used.\u001b[39m\u001b[38;5;124m\"\u001b[39m)\n",
      "\u001b[0;31mValueError\u001b[0m: 'right' is from a different catalog. Cannot link across catalogs."
     ]
    }
   ],
   "source": [
    "# eye_ai = EA.domain_path\n",
    "eye_ai = EA.pathBuilder.schemas['eye-ai']\n",
    "ml = EA.pathBuilder.schemas['deriva-ml']\n",
    "dataset = ml.Dataset\n",
    "\n",
    "dataset_sub = eye_ai.Subject_Dataset\n",
    "sub = eye_ai.Subject\n",
    "obs = eye_ai.Observation\n",
    "image = eye_ai.Image\n",
    "\n",
    "result = dataset.path.filter(dataset.RID == '2-7P5P').\\\n",
    "result\n",
    "link(dataset_sub, on=dataset.RID==dataset_sub.Dataset).\\\n",
    "link(sub, on=dataset_sub.Subject==sub.RID).\\\n",
    "link(obs, on=sub.RID==obs.Subject).\\\n",
    "link(image, on=obs.RID==image.Observation)\n",
    "catalog_image = pd.DataFrame(result.entities())[['RID', 'MD5']]"
   ]
  },
  {
   "cell_type": "code",
   "execution_count": null,
   "id": "c25768c9-fc0b-4400-a368-c43703e91245",
   "metadata": {},
   "outputs": [],
   "source": []
  }
 ],
 "metadata": {
  "kernelspec": {
   "display_name": "My TensorFlow (Conda)",
   "language": "python",
   "name": "my-tensorflow-conda"
  },
  "language_info": {
   "codemirror_mode": {
    "name": "ipython",
    "version": 3
   },
   "file_extension": ".py",
   "mimetype": "text/x-python",
   "name": "python",
   "nbconvert_exporter": "python",
   "pygments_lexer": "ipython3",
   "version": "3.10.13"
  }
 },
 "nbformat": 4,
 "nbformat_minor": 5
}
