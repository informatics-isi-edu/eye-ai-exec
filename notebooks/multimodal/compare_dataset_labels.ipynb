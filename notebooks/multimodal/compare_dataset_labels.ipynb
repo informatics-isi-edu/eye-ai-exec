{
 "cells": [
  {
   "cell_type": "markdown",
   "id": "0155fa20-3c21-4938-aefe-6b2637b48459",
   "metadata": {},
   "source": [
    "# compare ICD10 diagnoses of multimodal_wide_full.csv and multimodal_train and test from 12-26-24"
   ]
  },
  {
   "cell_type": "code",
   "execution_count": null,
   "id": "7a5f3d12-8239-42d1-a329-0ec098948d45",
   "metadata": {},
   "outputs": [],
   "source": [
    "import pandas as pd\n",
    "asset_path = '/data/yukim3003/EyeAI_working/Execution_Assets/Multimodal_Analysis/'\n"
   ]
  },
  {
   "cell_type": "code",
   "execution_count": null,
   "id": "166bb47e-cb2d-4640-8406-5ba2e4b9b2ab",
   "metadata": {},
   "outputs": [],
   "source": [
    "wide_full = pd.read_csv(asset_path + \"wide_multimodal_full.csv\")\n",
    "wide_full = wide_full.rename(columns={'Side': 'Image_Side', 'Gender': 'Subject_Gender', 'Ethnicity': 'Subject_Ethnicity', 'Label': 'Condition_Label'})\n"
   ]
  },
  {
   "cell_type": "code",
   "execution_count": null,
   "id": "686be710-b5f9-4017-a9ce-7bf784cb7b40",
   "metadata": {},
   "outputs": [],
   "source": [
    "import numpy as np\n",
    "np.unique(wide_full['Subject_Ethnicity'])"
   ]
  },
  {
   "cell_type": "code",
   "execution_count": null,
   "id": "74ae8e11-07c7-4ece-9fa0-9f1249af6ebc",
   "metadata": {},
   "outputs": [],
   "source": [
    "# alt using saved wide_train_raw and wide_test_raw from 12-26-2024 execution\n",
    "wide_train_raw = pd.read_csv(\"/home/yukim3003/KY-Scratch/wide_train_raw-4-3R4P-122624.csv\", index_col=0)\n",
    "wide_test_raw = pd.read_csv(\"/home/yukim3003/KY-Scratch/wide_test_raw-4-3R4R-122624.csv\", index_col=0)\n",
    "wide_full_2 = pd.concat([wide_train_raw, wide_test_raw])"
   ]
  },
  {
   "cell_type": "code",
   "execution_count": null,
   "id": "4d52995d-2767-4e35-89f1-e51c53037887",
   "metadata": {},
   "outputs": [],
   "source": [
    "wide_full_2"
   ]
  },
  {
   "cell_type": "code",
   "execution_count": null,
   "id": "459d18c7-0101-4533-bc00-f7f18b4bfc67",
   "metadata": {},
   "outputs": [],
   "source": [
    "# Merge the DataFrames using the index\n",
    "merged_df = wide_full.merge(wide_full_2, on=[\"RID_Subject\", \"Image_Side\"])"
   ]
  },
  {
   "cell_type": "code",
   "execution_count": null,
   "id": "a0991a33-c4d0-4014-982c-4ef41a6a0598",
   "metadata": {},
   "outputs": [],
   "source": [
    "len(merged_df)"
   ]
  },
  {
   "cell_type": "code",
   "execution_count": null,
   "id": "bc81f399-6160-4cf4-b549-f479822bb117",
   "metadata": {},
   "outputs": [],
   "source": [
    "merged_df[merged_df['Condition_Label_x'] != merged_df['Condition_Label_y']][['Condition_Label_x', 'Condition_Label_y']]"
   ]
  },
  {
   "cell_type": "code",
   "execution_count": null,
   "id": "cd06dd38-bc68-48cc-8703-4db69ba910a8",
   "metadata": {},
   "outputs": [],
   "source": [
    "print(list(merged_df.columns))"
   ]
  },
  {
   "cell_type": "code",
   "execution_count": null,
   "id": "e8964efa-cb62-4339-aae8-0f71f4a01f97",
   "metadata": {},
   "outputs": [],
   "source": [
    "# percent of labels that changed\n",
    "sum(merged_df['Condition_Label_x'] == merged_df['Condition_Label_y']) / len(merged_df)"
   ]
  },
  {
   "cell_type": "code",
   "execution_count": null,
   "id": "8e4f894b-e729-47f4-9105-c0c46bb1bc18",
   "metadata": {},
   "outputs": [],
   "source": [
    "crosstab = pd.crosstab(merged_df['Condition_Label_x'], merged_df['Condition_Label_y'])\n",
    "crosstab"
   ]
  },
  {
   "cell_type": "markdown",
   "id": "d520053a-f8c8-4d84-b01b-b2d915f1a5f8",
   "metadata": {},
   "source": [
    "# Compare ICD-10 and chart labels for any file with both - oops this is not what I want"
   ]
  },
  {
   "cell_type": "code",
   "execution_count": null,
   "id": "200fd49e-3fb5-47aa-ac95-ab052e6e4c32",
   "metadata": {},
   "outputs": [],
   "source": [
    "import pandas as pd\n",
    "asset_path = '/home/yukim3003/'\n",
    "wide_full = pd.read_csv(asset_path + \"wide_test_severeeye_02-09-2025.csv\")\n",
    "crosstab = pd.crosstab(wide_full['ICD10_label_full'], wide_full['chart_label'])\n",
    "crosstab"
   ]
  },
  {
   "cell_type": "code",
   "execution_count": null,
   "id": "af2d15c6-5b5d-4210-9bcd-1369c401eeb4",
   "metadata": {},
   "outputs": [],
   "source": [
    "len(wide_full)"
   ]
  }
 ],
 "metadata": {
  "language_info": {
   "name": "python"
  }
 },
 "nbformat": 4,
 "nbformat_minor": 5
}
