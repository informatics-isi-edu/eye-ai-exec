{
 "cells": [
  {
   "cell_type": "code",
   "execution_count": null,
   "id": "8499060d-4de0-4ab1-bf23-8f766d24dd5e",
   "metadata": {},
   "outputs": [],
   "source": [
    "# Prerequisites\n",
    "import json\n",
    "import os\n",
    "from eye_ai.eye_ai import EyeAI\n",
    "\n",
    "import pandas as pd\n",
    "from pathlib import Path, PurePath\n",
    "import logging\n",
    "from IPython.display import Markdown, display\n",
    "\n",
    "from deriva_ml import DatasetBag, Workflow, ExecutionConfiguration\n",
    "from deriva_ml import MLVocab as vc\n",
    "from deriva_ml.deriva_definitions import ColumnDefinition, BuiltinTypes\n",
    "logging.basicConfig(level=logging.INFO, format='%(asctime)s - %(levelname)s - %(message)s', force=True)"
   ]
  },
  {
   "cell_type": "code",
   "execution_count": null,
   "id": "1f254b11-9f01-4185-95a0-cd7f80995c2f",
   "metadata": {
    "scrolled": true
   },
   "outputs": [],
   "source": [
    "# Login\n",
    "from deriva.core.utils.globus_auth_utils import GlobusNativeLogin\n",
    "host = 'www.eye-ai.org'\n",
    "# host = 'dev.eye-ai.org'\n",
    "catalog_id = \"eye-ai\"\n",
    "\n",
    "gnl = GlobusNativeLogin(host=host)\n",
    "if gnl.is_logged_in([host]):\n",
    "    print(\"You are already logged in.\")\n",
    "else:\n",
    "    gnl.login([host], no_local_server=True, no_browser=True, refresh_tokens=True, update_bdbag_keychain=True)\n",
    "    print(\"Login Successful\")"
   ]
  },
  {
   "cell_type": "code",
   "execution_count": null,
   "id": "3a40db10-6f64-4b6e-a22d-3c7011e2a3fa",
   "metadata": {},
   "outputs": [],
   "source": [
    "cache_dir = '/data'\n",
    "working_dir = '/data'\n",
    "EA = EyeAI(hostname = host, catalog_id = catalog_id, cache_dir= cache_dir, working_dir=working_dir)"
   ]
  },
  {
   "cell_type": "markdown",
   "id": "b2006ce9-6ca1-402d-b9ad-8853b85509cf",
   "metadata": {},
   "source": [
    "# Configuration"
   ]
  },
  {
   "cell_type": "code",
   "execution_count": null,
   "id": "8f92f4b0-438a-4e57-9edf-76d7f655f82b",
   "metadata": {},
   "outputs": [],
   "source": [
    "# Workflow instance\n",
    "cur_workflow = Workflow(\n",
    "    name=\"Create feature angle and laterality\",\n",
    "    url=\"https://github.com/informatics-isi-edu/eye-ai-exec/blob/main/notebooks/multimodal/Ingest_angle_laterality.ipynb\",\n",
    "    workflow_type=\"multimodal_feature_engineering\"\n",
    ")\n",
    "# Configuration instance.\n",
    "\n",
    "# Set to False if you only need the metadata from the bag, and not the assets.\n",
    "download_assets = True\n",
    "\n",
    "config = ExecutionConfiguration(\n",
    "    # Comment out the following line if you don't need the assets.\n",
    "    # datasets=[source_dataset] if download_assets else [],\n",
    "    assets=['4-3S3G'],\n",
    "    workflow=cur_workflow,\n",
    "    description=\"Create feature angle and laterality on prod\")\n",
    "\n",
    "# Initialize execution\n",
    "execution = EA.create_execution(config)\n",
    "\n"
   ]
  },
  {
   "cell_type": "code",
   "execution_count": null,
   "id": "184cb7a9-b7ad-440b-b115-bb5831c92bad",
   "metadata": {},
   "outputs": [],
   "source": [
    "print(execution)"
   ]
  },
  {
   "cell_type": "markdown",
   "id": "2505089f-a9d0-4891-87a3-9ba93c96a76b",
   "metadata": {},
   "source": [
    "# Create Feature"
   ]
  },
  {
   "cell_type": "code",
   "execution_count": null,
   "id": "89977e07-07e3-418d-8827-0976a83b7238",
   "metadata": {},
   "outputs": [],
   "source": [
    "column_left = ColumnDefinition(name='Left_Prob', type=BuiltinTypes.float4, nullok=True)\n",
    "column_right = ColumnDefinition(name='Right_Prob', type=BuiltinTypes.float4, nullok=True)\n",
    "\n",
    "feature_image_laterality = EA.create_feature(target_table=\"Image\",\n",
    "                                        feature_name = \"Fundus_Laterality\", \n",
    "                                        terms = ['Image_Side'],\n",
    "                                        metadata = [column_left, column_right],\n",
    "                                        comment=\"Lateraliity of fundus images\")\n",
    "\n",
    "feature_image_angle = EA.create_feature(target_table=\"Image\",\n",
    "                                             feature_name = \"Fundus_Angle\",\n",
    "                                             terms = [\"Image_Angle\"], \n",
    "                                             comment=\"Angle of fundus images\")"
   ]
  },
  {
   "cell_type": "markdown",
   "id": "399b2b0c-a97e-4dc3-bb33-50cf4d2ae6b7",
   "metadata": {},
   "source": [
    "# Retrive a feature"
   ]
  },
  {
   "cell_type": "code",
   "execution_count": null,
   "id": "f2acb429-5344-4fb6-bfca-4f1cd8f9c480",
   "metadata": {},
   "outputs": [],
   "source": [
    "# Find all the features that attached to a table\n",
    "table_name = \"Image\"\n",
    "EA.find_features(table_name)"
   ]
  },
  {
   "cell_type": "code",
   "execution_count": null,
   "id": "fc4d7035-7486-4b10-8d55-8f7f79be7adc",
   "metadata": {},
   "outputs": [],
   "source": [
    "Feature_lat = EA.feature_record_class(table_name, 'Fundus_Laterality')\n",
    "Feature_angle = EA.feature_record_class(table_name, 'Fundus_Angle')\n",
    "display(\n",
    "    Markdown('### Fundus_Laterality'),\n",
    "    [ f'Column: {c.name}, Required: {not c.nullok}' for c in Feature_lat.feature.feature_columns],\n",
    "    Markdown('### Fundus_Angle'),\n",
    "    [ f'Column: {c.name}, Required: {not c.nullok}' for c in Feature_angle.feature.feature_columns]\n",
    ")"
   ]
  },
  {
   "cell_type": "markdown",
   "id": "f3762ce7-eea2-44fe-bb5c-0b3133add96a",
   "metadata": {},
   "source": [
    "# Ingest new values to a feature table"
   ]
  },
  {
   "cell_type": "code",
   "execution_count": null,
   "id": "48eff055-2923-4c49-b328-25dcb090bd64",
   "metadata": {},
   "outputs": [],
   "source": [
    "feature = pd.read_csv(execution.asset_paths[0])\n",
    "feature.dropna(subset=['Image'], inplace=True)\n",
    "feature.drop_duplicates(subset=['Image'], inplace=True)\n",
    "feature['Angle'] = feature['Angle'].astype(str)\n",
    "lat_feature_list = [\n",
    "    Feature_lat(\n",
    "        Execution=execution.execution_rid,\n",
    "        **{\n",
    "            \"Image\": row['Image'] if 'Image' in row and not pd.isna(row['Image']) else None,\n",
    "            \"Image_Side\": row['Side'] if 'Side' in row and not pd.isna(row['Side']) else None,\n",
    "            \"Left_Prob\": row['Left_Prob'] if 'Left_Prob' in row and not pd.isna(row['Left_Prob']) else None,\n",
    "            \"Right_Prob\": row['Right_Prob'] if 'Right_Prob' in row and not pd.isna(row['Right_Prob']) else None,\n",
    "        },\n",
    "        Feature_Name='Fundus_Laterality'\n",
    "    )\n",
    "    for index, row in feature.iterrows()\n",
    "]\n",
    "\n",
    "angle_feature_list = [Feature_angle(\n",
    "    Execution=execution.execution_rid,\n",
    "    Image= row['Image'],\n",
    "    Image_Angle = row['Angle'],\n",
    "    Feature_Name = 'Fundus_Angle'\n",
    "    ) for index, row in feature.iterrows()]"
   ]
  },
  {
   "cell_type": "code",
   "execution_count": null,
   "id": "aa3be9bb-4bb7-4c16-b740-f721be927b16",
   "metadata": {},
   "outputs": [],
   "source": [
    "lat_feature_list = [\n",
    "    Feature_lat(\n",
    "        Execution=execution.execution_rid,\n",
    "        **{\n",
    "            \"Image\": row['Image'] if 'Image' in row and not pd.isna(row['Image']) else None,\n",
    "            \"Image_Side\": row['Side'] if 'Side' in row and not pd.isna(row['Side']) else None,\n",
    "            \"Left_Prob\": row['Left_Prob'] if 'Left_Prob' in row and not pd.isna(row['Left_Prob']) else None,\n",
    "            \"Right_Prob\": row['Right_Prob'] if 'Right_Prob' in row and not pd.isna(row['Right_Prob']) else None,\n",
    "        },\n",
    "        Feature_Name='Fundus_Laterality'\n",
    "    )\n",
    "    for index, row in feature.iterrows()\n",
    "]"
   ]
  },
  {
   "cell_type": "code",
   "execution_count": null,
   "id": "0555f425-fece-4720-b983-47f90d4e1a31",
   "metadata": {
    "scrolled": true
   },
   "outputs": [],
   "source": [
    "lat_feature_list"
   ]
  },
  {
   "cell_type": "code",
   "execution_count": null,
   "id": "4fae5776-6756-451d-9b28-a56c82defdf6",
   "metadata": {},
   "outputs": [],
   "source": [
    "# Ingest new values to the feature table\n",
    "EA.add_features(angle_feature_list)\n",
    "EA.add_features(lat_feature_list)\n",
    "\n"
   ]
  },
  {
   "cell_type": "markdown",
   "id": "1d3588de-cd3a-4c87-993b-cc0e5025a91f",
   "metadata": {},
   "source": [
    "# Upload results"
   ]
  },
  {
   "cell_type": "code",
   "execution_count": null,
   "id": "f27d4849-0230-4722-afa5-47f03a9d90a2",
   "metadata": {
    "scrolled": true
   },
   "outputs": [],
   "source": [
    "# save assets to asset_path\n",
    "\n",
    "# upload assets to catalog\n",
    "execution.upload_execution_outputs(clean_folder=True)"
   ]
  }
 ],
 "metadata": {
  "kernelspec": {
   "display_name": "My TensorFlow (Conda)",
   "language": "python",
   "name": "my-tensorflow-conda"
  },
  "language_info": {
   "codemirror_mode": {
    "name": "ipython",
    "version": 3
   },
   "file_extension": ".py",
   "mimetype": "text/x-python",
   "name": "python",
   "nbconvert_exporter": "python",
   "pygments_lexer": "ipython3",
   "version": "3.10.13"
  }
 },
 "nbformat": 4,
 "nbformat_minor": 5
}
