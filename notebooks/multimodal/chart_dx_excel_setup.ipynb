{
 "cells": [
  {
   "cell_type": "code",
   "execution_count": null,
   "id": "f568f16d-46cf-4f94-b22b-578573d113a5",
   "metadata": {},
   "outputs": [],
   "source": [
    "# short notebook to create excel for chart diagnosis input"
   ]
  },
  {
   "cell_type": "code",
   "execution_count": null,
   "id": "1dfc5f63-498b-4f41-8425-769f8c8c8990",
   "metadata": {},
   "outputs": [],
   "source": [
    "repo_dir = \"Repos\"   # Set this to be where your github repos are located.\n",
    "%load_ext autoreload\n",
    "%autoreload 2\n",
    "\n",
    "# Update the load path so python can find modules for the model\n",
    "import sys\n",
    "from pathlib import Path\n",
    "sys.path.insert(0, str(Path.home() / repo_dir / \"eye-ai-ml\"))\n",
    "\n",
    "# Prerequisites\n",
    "\n",
    "import json\n",
    "import os\n",
    "from eye_ai.eye_ai import EyeAI\n",
    "import pandas as pd\n",
    "from pathlib import Path, PurePath\n",
    "import logging\n",
    "# import torch\n",
    "\n",
    "logging.basicConfig(level=logging.INFO, format='%(asctime)s - %(levelname)s - %(message)s', force=True)\n",
    "\n",
    "\n",
    "from deriva.core.utils.globus_auth_utils import GlobusNativeLogin\n",
    "catalog_id = \"eye-ai\" #@param\n",
    "host = 'www.eye-ai.org'\n",
    "\n",
    "\n",
    "gnl = GlobusNativeLogin(host=host)\n",
    "if gnl.is_logged_in([host]):\n",
    "    print(\"You are already logged in.\")\n",
    "else:\n",
    "    gnl.login([host], no_local_server=True, no_browser=True, refresh_tokens=True, update_bdbag_keychain=True)\n",
    "    print(\"Login Successful\")\n",
    "\n",
    "# Variables to configure the rest of the notebook.\n",
    "\n",
    "cache_dir = '/data'        # Directory in which to cache materialized BDBags for datasets\n",
    "working_dir = '/data'    # Directory in which to place output files for later upload.\n",
    "\n",
    "configuration_rid= \"2-CCD4\" # rid I created with my config containing minid for both train and test sets\n",
    "\n",
    "EA = EyeAI(hostname = host, catalog_id = catalog_id, cache_dir= cache_dir, working_dir=working_dir)\n",
    "\n",
    "# @title Initiate an Execution\n",
    "configuration_records = EA.execution_init(configuration_rid=configuration_rid)\n",
    "configuration_records.model_dump()"
   ]
  },
  {
   "cell_type": "code",
   "execution_count": null,
   "id": "54819f49-728c-4d36-8769-8680d640480c",
   "metadata": {},
   "outputs": [],
   "source": [
    "wide_train_raw = EA.severity_analysis(configuration_records.bag_paths[0])\n",
    "wide_test_raw = EA.severity_analysis(configuration_records.bag_paths[1])"
   ]
  },
  {
   "cell_type": "code",
   "execution_count": null,
   "id": "68984cb0-ceaa-49a4-9b55-9dab91d610a4",
   "metadata": {},
   "outputs": [],
   "source": [
    "len(wide_train_raw) + len(wide_test_raw)"
   ]
  },
  {
   "cell_type": "code",
   "execution_count": null,
   "id": "f58fe981-d615-454d-bfc3-3a44ac9cd262",
   "metadata": {},
   "outputs": [],
   "source": [
    "# add MRN to table\n",
    "mrn_path = \"/data/yukim3003/EyeAI_working/Execution_Assets/Multimodal_Analysis/multimodal_subject_age_MRN.csv\"\n",
    "mrn_df = pd.read_csv(mrn_path, dtype={'MRN': str})\n",
    "mrn_df.rename(columns={'RID': 'RID_Subject'}, inplace=True)\n",
    "wide_train_raw = wide_train_raw.merge(mrn_df, on='RID_Subject', how='left')\n",
    "wide_test_raw = wide_test_raw.merge(mrn_df, on='RID_Subject', how='left')"
   ]
  },
  {
   "cell_type": "code",
   "execution_count": null,
   "id": "e2c8bceb-26d6-4df1-98cd-a2ebb2942fb4",
   "metadata": {},
   "outputs": [],
   "source": [
    "wide_train_raw.columns"
   ]
  },
  {
   "cell_type": "code",
   "execution_count": null,
   "id": "5480fdca-8bf9-427c-bed6-f02edf7b0d62",
   "metadata": {},
   "outputs": [],
   "source": [
    "# select only the columns I want for excel\n",
    "selected_cols = ['RID_Subject', 'MRN', 'Date_of_Encounter_Clinic', 'Date_of_Encounter_Fundus', 'Provider', 'Side', 'Label']\n",
    "excel_train = wide_train_raw[selected_cols]\n",
    "excel_test = wide_test_raw[selected_cols]"
   ]
  },
  {
   "cell_type": "code",
   "execution_count": null,
   "id": "0cb240bd-1fe8-442b-bb83-3b54d5a9cc4f",
   "metadata": {},
   "outputs": [],
   "source": [
    "pd.set_option('display.max_columns', None)\n",
    "wide_train_raw[wide_train_raw['MRN']=='3772478']"
   ]
  },
  {
   "cell_type": "code",
   "execution_count": null,
   "id": "96cd19b2-245b-44c5-9d92-1a78c66f5063",
   "metadata": {},
   "outputs": [],
   "source": [
    "excel_test"
   ]
  },
  {
   "cell_type": "code",
   "execution_count": null,
   "id": "1b943663-d9c8-4f15-b4d7-83a0d4ed0b68",
   "metadata": {},
   "outputs": [],
   "source": [
    "excel = pd.concat([excel_train, excel_test], axis=0)\n",
    "excel[excel['RID_Subject']=='2-7P30']"
   ]
  },
  {
   "cell_type": "code",
   "execution_count": null,
   "id": "612fde9a-3361-49b8-8dba-990c95955d17",
   "metadata": {},
   "outputs": [],
   "source": [
    "# shuffle order but group by RID_Subject and keep Side in same order\n",
    "import random\n",
    "\n",
    "groups = [df for _, df in excel.groupby('RID_Subject')]\n",
    "random.shuffle(groups)\n",
    "\n",
    "excel = pd.concat(groups).reset_index(drop=True)\n"
   ]
  },
  {
   "cell_type": "code",
   "execution_count": null,
   "id": "a5565a19-ac2e-4bcf-9fa1-436db404568c",
   "metadata": {},
   "outputs": [],
   "source": [
    "excel['Provider'].value_counts(dropna=False)/len(excel)"
   ]
  },
  {
   "cell_type": "code",
   "execution_count": null,
   "id": "e8068bc9-3ef3-4ad2-800b-b7aeb5c1b138",
   "metadata": {},
   "outputs": [],
   "source": [
    "#os.mkdir(configuration_records.working_dir/'Execution_Assets/Multimodal_Analysis/')\n",
    "excel_path = '/home/yukim3003/chart_diagnosis_input2.csv' # configuration_records.working_dir/'Execution_Assets/Multimodal_Analysis/chart_diagnosis_input.csv'\n",
    "excel.to_csv(excel_path, index=False)"
   ]
  },
  {
   "cell_type": "markdown",
   "id": "88c34892-dd28-4984-91e0-06c6dfa7153d",
   "metadata": {},
   "source": [
    "## Ingest old list in correct order and match new dates"
   ]
  },
  {
   "cell_type": "code",
   "execution_count": null,
   "id": "4fac8eda-915e-44e7-a17a-e74c1ebc6e99",
   "metadata": {},
   "outputs": [],
   "source": [
    "orig_df = pd.read_csv('/home/yukim3003/chart_diagnosis_input.csv')"
   ]
  },
  {
   "cell_type": "code",
   "execution_count": null,
   "id": "16046d5d-aa4f-401c-b70d-6a833d605e9b",
   "metadata": {},
   "outputs": [],
   "source": [
    "orig_df[orig_df['RID_Subject']=='2-7NSJ']"
   ]
  },
  {
   "cell_type": "code",
   "execution_count": null,
   "id": "f72d25d2-bb84-4794-9d9e-70efb7ac1260",
   "metadata": {},
   "outputs": [],
   "source": [
    "excel[excel['RID_Subject']=='2-7NSJ']"
   ]
  },
  {
   "cell_type": "code",
   "execution_count": null,
   "id": "32b5f498-a5c0-4c75-bd53-0df69ccd7809",
   "metadata": {},
   "outputs": [],
   "source": [
    "merged_df = orig_df.merge(excel, on=['RID_Subject', 'Side', 'Label', 'Provider'], how='left')"
   ]
  },
  {
   "cell_type": "code",
   "execution_count": null,
   "id": "ccebb305-96d9-4654-a02c-a36c347418fb",
   "metadata": {},
   "outputs": [],
   "source": [
    "merged_df[merged_df['RID_Subject']=='2-7NSJ']"
   ]
  },
  {
   "cell_type": "code",
   "execution_count": null,
   "id": "03b9a65d-5f47-45c5-9597-116b8803b9fe",
   "metadata": {},
   "outputs": [],
   "source": [
    "merged_df['Date_of_Encounter_Clinic_x'].equals(merged_df['Date_of_Encounter_Fundus'])"
   ]
  },
  {
   "cell_type": "code",
   "execution_count": null,
   "id": "d049a984-281b-4b21-a0cd-eca44de52c02",
   "metadata": {},
   "outputs": [],
   "source": [
    "merged_df[merged_df['Date_of_Encounter_Clinic_x'] != (merged_df['Date_of_Encounter_Fundus'])]"
   ]
  },
  {
   "cell_type": "code",
   "execution_count": null,
   "id": "04814119-5dd2-4c46-85d9-b8db642a4ef3",
   "metadata": {},
   "outputs": [],
   "source": [
    "merged_df[merged_df.duplicated()]"
   ]
  },
  {
   "cell_type": "code",
   "execution_count": null,
   "id": "5db9dd39-4451-4c88-ae30-479a99804c8f",
   "metadata": {},
   "outputs": [],
   "source": [
    "merged_df = merged_df.drop_duplicates()"
   ]
  },
  {
   "cell_type": "code",
   "execution_count": null,
   "id": "460159df-798b-4085-8389-4844d378388f",
   "metadata": {},
   "outputs": [],
   "source": [
    "merged_df['Date_of_Encounter_Clinic_y'] = merged_df['Date_of_Encounter_Clinic_y'].str[:-9]"
   ]
  },
  {
   "cell_type": "code",
   "execution_count": null,
   "id": "f5c78abd-d490-4c2e-b025-0dc483df32c4",
   "metadata": {},
   "outputs": [],
   "source": [
    "merged_df.to_csv('/home/yukim3003/chart_diagnosis_input1-merged.csv', index=False)"
   ]
  },
  {
   "cell_type": "code",
   "execution_count": null,
   "id": "cc8e0830-1164-4d6f-8ec0-91c9f0ae3aa6",
   "metadata": {},
   "outputs": [],
   "source": [
    "merged_df"
   ]
  },
  {
   "cell_type": "code",
   "execution_count": null,
   "id": "95d8940c-8ee3-446c-9297-31fda5fba9f7",
   "metadata": {},
   "outputs": [],
   "source": []
  }
 ],
 "metadata": {
  "language_info": {
   "name": "python"
  }
 },
 "nbformat": 4,
 "nbformat_minor": 5
}
