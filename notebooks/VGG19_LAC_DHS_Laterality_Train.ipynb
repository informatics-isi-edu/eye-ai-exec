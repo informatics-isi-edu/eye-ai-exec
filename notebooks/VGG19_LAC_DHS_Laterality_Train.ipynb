{
 "cells": [
  {
   "cell_type": "code",
   "execution_count": 29,
   "id": "6c3f6e9b-57c2-4dd5-82bc-5834f32b1472",
   "metadata": {},
   "outputs": [],
   "source": [
    "# import sys\n",
    "# IN_COLAB = 'google.colab' in sys.modules\n",
    "\n",
    "# if IN_COLAB:\n",
    "#     !pip install deriva\n",
    "#     !pip install bdbag\n",
    "#     !pip install --upgrade --force pydantic\n",
    "#     !pip install git+https://github.com/informatics-isi-edu/deriva-ml git+https://github.com/informatics-isi-edu/eye-ai-ml"
   ]
  },
  {
   "cell_type": "code",
   "execution_count": 30,
   "id": "d235d595-c68f-4146-a0b7-fb2c754c9cf5",
   "metadata": {},
   "outputs": [
    {
     "name": "stdout",
     "output_type": "stream",
     "text": [
      "The autoreload extension is already loaded. To reload it, use:\n",
      "  %reload_ext autoreload\n"
     ]
    }
   ],
   "source": [
    "repo_dir = \"Repos\"   # Set this to be where your github repos are located.\n",
    "%load_ext autoreload\n",
    "%autoreload 2\n",
    "\n",
    "# Update the load path so python can find modules for the model\n",
    "import sys\n",
    "from pathlib import Path\n",
    "sys.path.insert(0, str(Path.home() / repo_dir / \"eye-ai-ml\"))"
   ]
  },
  {
   "cell_type": "code",
   "execution_count": 31,
   "id": "16c603cb-e1e1-4c90-8a91-a3e44451cfca",
   "metadata": {},
   "outputs": [],
   "source": [
    "# Prerequisites\n",
    "\n",
    "import json\n",
    "import os\n",
    "from eye_ai.eye_ai import EyeAI\n",
    "import pandas as pd\n",
    "from pathlib import Path, PurePath\n",
    "import logging\n",
    "# import torch\n",
    "\n",
    "logging.basicConfig(level=logging.INFO, format='%(asctime)s - %(levelname)s - %(message)s', force=True)"
   ]
  },
  {
   "cell_type": "code",
   "execution_count": 32,
   "id": "633c4d60-a01f-4b16-816f-228dc849ccc1",
   "metadata": {},
   "outputs": [
    {
     "name": "stderr",
     "output_type": "stream",
     "text": [
      "2024-06-28 07:02:36,888 - INFO - Creating client of type <class 'globus_sdk.services.auth.client.native_client.NativeAppAuthClient'> for service \"auth\"\n",
      "2024-06-28 07:02:36,889 - INFO - Finished initializing AuthLoginClient. client_id='8ef15ba9-2b4a-469c-a163-7fd910c9d111', type(authorizer)=<class 'globus_sdk.authorizers.base.NullAuthorizer'>\n"
     ]
    },
    {
     "name": "stdout",
     "output_type": "stream",
     "text": [
      "You are already logged in.\n"
     ]
    }
   ],
   "source": [
    "\n",
    "from deriva.core.utils.globus_auth_utils import GlobusNativeLogin\n",
    "catalog_id = \"eye-ai\" #@param\n",
    "host = 'www.eye-ai.org'\n",
    "\n",
    "\n",
    "gnl = GlobusNativeLogin(host=host)\n",
    "if gnl.is_logged_in([host]):\n",
    "    print(\"You are already logged in.\")\n",
    "else:\n",
    "    gnl.login([host], no_local_server=True, no_browser=True, refresh_tokens=True, update_bdbag_keychain=True)\n",
    "    print(\"Login Successful\")"
   ]
  },
  {
   "cell_type": "code",
   "execution_count": 33,
   "id": "5c1b7779-06d0-4678-adbe-a411da14ceab",
   "metadata": {},
   "outputs": [],
   "source": [
    "# Variables to configure the rest of the notebook.\n",
    "\n",
    "cache_dir = '/data'        # Directory in which to cache materialized BDBags for datasets\n",
    "working_dir = '/data'    # Directory in which to place output files for later upload.\n",
    "\n",
    "configuration_rid = \"2-C8RG\" # rid\n",
    "# Change the confi_file with bag_url=[\"minid: train\", \"minid: Valid\", \"minid: test\"]\n",
    "\n"
   ]
  },
  {
   "cell_type": "code",
   "execution_count": 34,
   "id": "f8ee651c-3c59-4f75-8f8b-2f8f41d79f5b",
   "metadata": {},
   "outputs": [
    {
     "name": "stderr",
     "output_type": "stream",
     "text": [
      "2024-06-28 07:02:43,456 - INFO - Creating client of type <class 'globus_sdk.services.auth.client.native_client.NativeAppAuthClient'> for service \"auth\"\n",
      "2024-06-28 07:02:43,457 - INFO - Finished initializing AuthLoginClient. client_id='8ef15ba9-2b4a-469c-a163-7fd910c9d111', type(authorizer)=<class 'globus_sdk.authorizers.base.NullAuthorizer'>\n"
     ]
    }
   ],
   "source": [
    "EA = EyeAI(hostname = host, catalog_id = catalog_id, cache_dir= cache_dir, working_dir=working_dir)"
   ]
  },
  {
   "cell_type": "code",
   "execution_count": 35,
   "id": "e7c50050-65da-4130-b56a-1d3fde5959b9",
   "metadata": {},
   "outputs": [
    {
     "name": "stderr",
     "output_type": "stream",
     "text": [
      "2024-06-28 07:02:45,456 - INFO - File [/data/sreenidhi/EyeAI_working/Execution_Metadata/Execution_Config-vgg19_catalog_model_training_LACDHS_laterality_sreenidhi_june_27_2024.json] transfer successful. 0.97 KB transferred. Elapsed time: 0:00:00.000060.\n",
      "2024-06-28 07:02:45,457 - INFO - Verifying MD5 checksum for downloaded file [/data/sreenidhi/EyeAI_working/Execution_Metadata/Execution_Config-vgg19_catalog_model_training_LACDHS_laterality_sreenidhi_june_27_2024.json]\n",
      "2024-06-28 07:02:45,495 - INFO - Configuration validation successful!\n",
      "2024-06-28 07:02:53,169 - INFO - File [/data/sreenidhi/EyeAI_working/Execution_Assets/best_hyperparameters_exluding_no_optic_disc_images_june_24_2024.json] transfer successful. 0.69 KB transferred. Elapsed time: 0:00:00.000098.\n",
      "2024-06-28 07:02:53,169 - INFO - Verifying SHA256 checksum for downloaded file [/data/sreenidhi/EyeAI_working/Execution_Assets/best_hyperparameters_exluding_no_optic_disc_images_june_24_2024.json]\n",
      "2024-06-28 07:02:53,369 - INFO - File [/data/sreenidhi/EyeAI_working/Execution_Assets/train_no_optic_disc_image_ids.csv] transfer successful. 0.34 KB transferred. Elapsed time: 0:00:00.000062.\n",
      "2024-06-28 07:02:53,369 - INFO - Verifying MD5 checksum for downloaded file [/data/sreenidhi/EyeAI_working/Execution_Assets/train_no_optic_disc_image_ids.csv]\n",
      "2024-06-28 07:02:53,583 - INFO - File [/data/sreenidhi/EyeAI_working/Execution_Assets/valid_no_optic_disc_image_ids.csv] transfer successful. 0.15 KB transferred. Elapsed time: 0:00:00.000057.\n",
      "2024-06-28 07:02:53,583 - INFO - Verifying MD5 checksum for downloaded file [/data/sreenidhi/EyeAI_working/Execution_Assets/valid_no_optic_disc_image_ids.csv]\n"
     ]
    },
    {
     "data": {
      "text/plain": [
       "{'caching_dir': PosixPath('/data'),\n",
       " 'working_dir': PosixPath('/data/sreenidhi/EyeAI_working'),\n",
       " 'vocabs': {'Workflow_Type': [{'name': 'VGG19_Catalog_Model_LACDHS_laterality_training',\n",
       "    'rid': '2-C8RM'}],\n",
       "  'Execution_Asset_Type': [{'name': 'VGG19_Catalog_Model_LACDHS_laterality_training',\n",
       "    'rid': '2-C8RP'}]},\n",
       " 'execution_rid': '2-C8RJ',\n",
       " 'workflow_rid': '2-C8RR',\n",
       " 'bag_paths': [PosixPath('/data/2-277G_6aa1a6861eee5a79bce4bf071065355f95a066c2a1ff326089d43048a7e0f185/Dataset_2-277G'),\n",
       "  PosixPath('/data/2-277J_81c873a311aa6a67cf2eef44bd9056cb19181b299a6e44327ea3553616f18725/Dataset_2-277J'),\n",
       "  PosixPath('/data/2-277M_8c4b855c2752e098580a5bb0d1b63a8cedde4462805fe74cddc912a72fb39963/Dataset_2-277M')],\n",
       " 'assets_paths': [PosixPath('/data/sreenidhi/EyeAI_working/Execution_Assets/best_hyperparameters_exluding_no_optic_disc_images_june_24_2024.json'),\n",
       "  PosixPath('/data/sreenidhi/EyeAI_working/Execution_Assets/train_no_optic_disc_image_ids.csv'),\n",
       "  PosixPath('/data/sreenidhi/EyeAI_working/Execution_Assets/valid_no_optic_disc_image_ids.csv')],\n",
       " 'configuration_path': PosixPath('/data/sreenidhi/EyeAI_working/Execution_Metadata/Execution_Config-vgg19_catalog_model_training_LACDHS_laterality_sreenidhi_june_27_2024.json')}"
      ]
     },
     "execution_count": 35,
     "metadata": {},
     "output_type": "execute_result"
    }
   ],
   "source": [
    "# @title Initiate an Execution\n",
    "configuration_records = EA.execution_init(configuration_rid=configuration_rid)\n",
    "configuration_records.model_dump()"
   ]
  },
  {
   "cell_type": "code",
   "execution_count": 36,
   "id": "4d005a2a-2edc-4d35-b508-969f2f2be5a5",
   "metadata": {},
   "outputs": [
    {
     "data": {
      "text/plain": [
       "ConfigurationRecord(caching_dir=PosixPath('/data'), working_dir=PosixPath('/data/sreenidhi/EyeAI_working'), vocabs={'Workflow_Type': [Term(name='VGG19_Catalog_Model_LACDHS_laterality_training', rid='2-C8RM')], 'Execution_Asset_Type': [Term(name='VGG19_Catalog_Model_LACDHS_laterality_training', rid='2-C8RP')]}, execution_rid='2-C8RJ', workflow_rid='2-C8RR', bag_paths=[PosixPath('/data/2-277G_6aa1a6861eee5a79bce4bf071065355f95a066c2a1ff326089d43048a7e0f185/Dataset_2-277G'), PosixPath('/data/2-277J_81c873a311aa6a67cf2eef44bd9056cb19181b299a6e44327ea3553616f18725/Dataset_2-277J'), PosixPath('/data/2-277M_8c4b855c2752e098580a5bb0d1b63a8cedde4462805fe74cddc912a72fb39963/Dataset_2-277M')], assets_paths=[PosixPath('/data/sreenidhi/EyeAI_working/Execution_Assets/best_hyperparameters_exluding_no_optic_disc_images_june_24_2024.json'), PosixPath('/data/sreenidhi/EyeAI_working/Execution_Assets/train_no_optic_disc_image_ids.csv'), PosixPath('/data/sreenidhi/EyeAI_working/Execution_Assets/valid_no_optic_disc_image_ids.csv')], configuration_path=PosixPath('/data/sreenidhi/EyeAI_working/Execution_Metadata/Execution_Config-vgg19_catalog_model_training_LACDHS_laterality_sreenidhi_june_27_2024.json'))"
      ]
     },
     "execution_count": 36,
     "metadata": {},
     "output_type": "execute_result"
    }
   ],
   "source": [
    "configuration_records"
   ]
  },
  {
   "cell_type": "code",
   "execution_count": 37,
   "id": "aff0eff0-f063-412c-b382-01d0a82ab33b",
   "metadata": {},
   "outputs": [],
   "source": [
    "exclude_train = pd.read_csv(configuration_records.assets_paths[1])['ID'].to_list()\n",
    "exclude_valid = pd.read_csv(configuration_records.assets_paths[2])['ID'].to_list()"
   ]
  },
  {
   "cell_type": "code",
   "execution_count": 38,
   "id": "99f6175f-2fc7-48b5-b2a7-6bc537e7857b",
   "metadata": {},
   "outputs": [],
   "source": [
    "\n",
    "import os\n",
    "import shutil\n",
    "import pandas as pd\n",
    "from pathlib import Path\n",
    "\n",
    "def create_LACDHS_laterality_dataset(train_dir: str, validation_dir: str, test_dir: str, output_dir: str, exclude_train: list = [], exclude_valid: list = []) -> tuple:\n",
    "    \"\"\"\n",
    "    Creates a dataset for LACDHS laterality classification by organizing images into train, valid, and test folders\n",
    "    based on their Image_Laterality.\n",
    "\n",
    "    Parameters:\n",
    "    - train_dir (str): Path to the raw train dataset bag.\n",
    "    - validation_dir (str): Path to the raw validation dataset bag.\n",
    "    - test_dir (str): Path to the raw test dataset bag.\n",
    "    - output_dir (str): Path to the output directory where the organized dataset will be created.\n",
    "    - exclude_train (list): List of image RIDs to exclude from the train set.\n",
    "    - exclude_valid (list): List of image RIDs to exclude from the validation set.\n",
    "\n",
    "    Returns:\n",
    "    - tuple: A tuple containing the paths to the train, validation, and test directories.\n",
    "    \"\"\"\n",
    "    def process_dataset(bag_path: str, output_subdir: str, exclude_list: list = []):\n",
    "        image_csv_path = os.path.join(bag_path, 'data', 'Image.csv')\n",
    "        image_df = pd.read_csv(image_csv_path)\n",
    "        image_root_path = os.path.join(bag_path, 'data', 'assets', 'Image')\n",
    "\n",
    "        for _, row in image_df.iterrows():\n",
    "            if row['RID'] not in exclude_list:\n",
    "                laterality = row['Image_Side_Vocab']\n",
    "                filename = row['Filename']\n",
    "                src_path = os.path.join(image_root_path, filename)\n",
    "                dst_dir = os.path.join(output_dir, output_subdir, laterality)\n",
    "                os.makedirs(dst_dir, exist_ok=True)\n",
    "                dst_path = os.path.join(dst_dir, filename)\n",
    "                shutil.copy2(src_path, dst_path)\n",
    "\n",
    "    # Process train dataset\n",
    "    process_dataset(train_dir, 'train', exclude_train)\n",
    "\n",
    "    # Process validation dataset\n",
    "    process_dataset(validation_dir, 'valid', exclude_valid)\n",
    "\n",
    "    # Process test dataset\n",
    "    process_dataset(test_dir, 'test')\n",
    "\n",
    "    train_path = os.path.join(output_dir, 'train')\n",
    "    valid_path = os.path.join(output_dir, 'valid')\n",
    "    test_path = os.path.join(output_dir, 'test')\n",
    "\n",
    "    return train_path, valid_path, test_path"
   ]
  },
  {
   "cell_type": "code",
   "execution_count": 39,
   "id": "334ed1a5-4a9c-4478-a110-6555a5066622",
   "metadata": {},
   "outputs": [
    {
     "data": {
      "text/plain": [
       "PosixPath('/data/sreenidhi/EyeAI_working')"
      ]
     },
     "execution_count": 39,
     "metadata": {},
     "output_type": "execute_result"
    }
   ],
   "source": [
    "configuration_records.working_dir"
   ]
  },
  {
   "cell_type": "code",
   "execution_count": 40,
   "id": "c1076c83-5acc-4668-bcef-bd00998ace6c",
   "metadata": {},
   "outputs": [
    {
     "name": "stdout",
     "output_type": "stream",
     "text": [
      "Train dataset path: /data/sreenidhi/EyeAI_working/train\n",
      "Validation dataset path: /data/sreenidhi/EyeAI_working/valid\n",
      "Test dataset path: /data/sreenidhi/EyeAI_working/test\n"
     ]
    }
   ],
   "source": [
    "# @title Data Preprocessing (Filtering Image.csv for just Field_2 Images)\n",
    "train_dir = configuration_records.bag_paths[0] # path to the raw train dataset\n",
    "validation_dir = configuration_records.bag_paths[1]\n",
    "test_dir = configuration_records.bag_paths[2]\n",
    "\n",
    "exclude_train = pd.read_csv(configuration_records.assets_paths[1])['ID'].to_list()\n",
    "exclude_valid = pd.read_csv(configuration_records.assets_paths[2])['ID'].to_list()\n",
    "\n",
    "# Call the create_LACDHS_angle_dataset function\n",
    "train_path, valid_path, test_path = create_LACDHS_laterality_dataset(\n",
    "    train_dir=str(train_dir),\n",
    "    validation_dir=str(validation_dir),\n",
    "    test_dir=str(test_dir),\n",
    "    output_dir=str(configuration_records.working_dir),\n",
    "    exclude_train=exclude_train,\n",
    "    exclude_valid=exclude_valid\n",
    ")\n",
    "\n",
    "# Print the paths to verify\n",
    "print(\"Train dataset path:\", train_path)\n",
    "print(\"Validation dataset path:\", valid_path)\n",
    "print(\"Test dataset path:\", test_path)"
   ]
  },
  {
   "cell_type": "code",
   "execution_count": null,
   "id": "45475801-2b48-4930-9fe2-befc1a79423d",
   "metadata": {},
   "outputs": [],
   "source": []
  },
  {
   "cell_type": "code",
   "execution_count": 41,
   "id": "9b600173-42b1-49d1-8602-2dac5ad97f95",
   "metadata": {},
   "outputs": [
    {
     "name": "stdout",
     "output_type": "stream",
     "text": [
      "\n",
      "Analyzing train folder:\n",
      "  2SK0: 13574 images\n",
      "  2SK2: 13593 images\n",
      "Total images in train: 27167\n",
      "\n",
      "Analyzing valid folder:\n",
      "  2SK2: 4530 images\n",
      "  2SK0: 4534 images\n",
      "Total images in valid: 9064\n",
      "\n",
      "Analyzing test folder:\n",
      "  2SK0: 1640 images\n",
      "  2SK2: 1648 images\n",
      "Total images in test: 3288\n"
     ]
    }
   ],
   "source": [
    "import os\n",
    "\n",
    "def count_files(directory):\n",
    "    return len([name for name in os.listdir(directory) if os.path.isfile(os.path.join(directory, name))])\n",
    "\n",
    "def analyze_lacdhs_angle_dataset(base_path):\n",
    "    main_folders = ['train', 'valid', 'test']\n",
    "    \n",
    "    for main_folder in main_folders:\n",
    "        main_folder_path = os.path.join(base_path, main_folder)\n",
    "        if not os.path.exists(main_folder_path):\n",
    "            print(f\"{main_folder} folder not found\")\n",
    "            continue\n",
    "        \n",
    "        print(f\"\\nAnalyzing {main_folder} folder:\")\n",
    "        \n",
    "        total_files = 0\n",
    "        for angle_folder in os.listdir(main_folder_path):\n",
    "            angle_folder_path = os.path.join(main_folder_path, angle_folder)\n",
    "            if os.path.isdir(angle_folder_path):\n",
    "                file_count = count_files(angle_folder_path)\n",
    "                print(f\"  {angle_folder}: {file_count} images\")\n",
    "                total_files += file_count\n",
    "        \n",
    "        print(f\"Total images in {main_folder}: {total_files}\")\n",
    "\n",
    "# Usage\n",
    "base_path = \"/data/sreenidhi/EyeAI_working/\"\n",
    "analyze_lacdhs_angle_dataset(base_path)"
   ]
  },
  {
   "cell_type": "code",
   "execution_count": null,
   "id": "380f149a-dbf7-44e3-8d15-0daa2f3158cb",
   "metadata": {},
   "outputs": [],
   "source": [
    "import os\n",
    "import random\n",
    "import matplotlib.pyplot as plt\n",
    "from PIL import Image\n",
    "\n",
    "def visualize_lacdhs_angle_dataset(base_path, samples_per_angle=6):\n",
    "    main_folders = ['train', 'valid', 'test']\n",
    "    \n",
    "    for main_folder in main_folders:\n",
    "        main_folder_path = os.path.join(base_path, main_folder)\n",
    "        if not os.path.exists(main_folder_path):\n",
    "            print(f\"{main_folder} folder not found\")\n",
    "            continue\n",
    "        \n",
    "        print(f\"\\nVisualizing samples from {main_folder} folder:\")\n",
    "        \n",
    "        angle_folders = [f for f in os.listdir(main_folder_path) if os.path.isdir(os.path.join(main_folder_path, f))]\n",
    "        \n",
    "        # Calculate grid size\n",
    "        n_angles = len(angle_folders)\n",
    "        n_cols = samples_per_angle\n",
    "        n_rows = n_angles\n",
    "        \n",
    "        fig, axes = plt.subplots(n_rows, n_cols, figsize=(n_cols*3, n_rows*3.5))\n",
    "        fig.suptitle(f'Sample Images from {main_folder.capitalize()} Set', fontsize=16)\n",
    "        \n",
    "        for i, angle_folder in enumerate(angle_folders):\n",
    "            angle_folder_path = os.path.join(main_folder_path, angle_folder)\n",
    "            image_files = [f for f in os.listdir(angle_folder_path) if f.lower().endswith(('.png', '.jpg', '.jpeg'))]\n",
    "            \n",
    "            if len(image_files) < samples_per_angle:\n",
    "                print(f\"Warning: Not enough images in {angle_folder}. Using all available images.\")\n",
    "                selected_files = image_files\n",
    "            else:\n",
    "                selected_files = random.sample(image_files, samples_per_angle)\n",
    "            \n",
    "            for j, image_file in enumerate(selected_files):\n",
    "                img_path = os.path.join(angle_folder_path, image_file)\n",
    "                img = Image.open(img_path)\n",
    "                axes[i, j].imshow(img)\n",
    "                axes[i, j].axis('off')\n",
    "                \n",
    "                # Add image filename as title for each subplot\n",
    "                axes[i, j].set_title(image_file, fontsize=8)\n",
    "                \n",
    "                if j == 0:\n",
    "                    axes[i, j].set_ylabel(angle_folder, rotation=0, labelpad=40, va='center', fontsize=10)\n",
    "        \n",
    "        plt.tight_layout()\n",
    "        plt.subplots_adjust(top=0.95, bottom=0.05, left=0.2, right=0.98)\n",
    "        plt.show()\n",
    "        \n",
    "        # Print confirmation of angles\n",
    "        print(f\"Angles in {main_folder} set:\")\n",
    "        for angle in angle_folders:\n",
    "            print(f\"  - {angle}\")\n",
    "\n",
    "# Usage\n",
    "base_path = \"/data/sreenidhi/EyeAI_working/\"\n",
    "# visualize_lacdhs_angle_dataset(base_path)"
   ]
  },
  {
   "cell_type": "code",
   "execution_count": 43,
   "id": "2e6312b8-9faa-4ea5-9f2e-4de7380ffb4a",
   "metadata": {},
   "outputs": [],
   "source": [
    "\n",
    "output_path = str(EA.working_dir) + \"/Execution_Assets/\" + configuration_records.vocabs['Execution_Asset_Type'][0].name\n",
    "os.mkdir(output_path)"
   ]
  },
  {
   "cell_type": "code",
   "execution_count": 44,
   "id": "49177652-13f5-4464-99fe-bc5a240e2557",
   "metadata": {},
   "outputs": [
    {
     "data": {
      "text/plain": [
       "'/data/sreenidhi/EyeAI_working/Execution_Assets/VGG19_Catalog_Model_LACDHS_laterality_training'"
      ]
     },
     "execution_count": 44,
     "metadata": {},
     "output_type": "execute_result"
    }
   ],
   "source": [
    "output_path"
   ]
  },
  {
   "cell_type": "code",
   "execution_count": 45,
   "id": "a799f240-96f7-473a-b9b4-3feb8cf6e248",
   "metadata": {},
   "outputs": [],
   "source": [
    "best_hyper_parameters_json_path = str(configuration_records.assets_paths[0])"
   ]
  },
  {
   "cell_type": "code",
   "execution_count": 46,
   "id": "f93ec10b-be38-404c-9a96-4df4f0e3ca1a",
   "metadata": {},
   "outputs": [
    {
     "data": {
      "text/plain": [
       "'/data/sreenidhi/EyeAI_working/Execution_Assets/best_hyperparameters_exluding_no_optic_disc_images_june_24_2024.json'"
      ]
     },
     "execution_count": 46,
     "metadata": {},
     "output_type": "execute_result"
    }
   ],
   "source": [
    "best_hyper_parameters_json_path"
   ]
  },
  {
   "cell_type": "code",
   "execution_count": 47,
   "id": "42b57610-80ee-43a1-9d43-c27f4acf3896",
   "metadata": {},
   "outputs": [
    {
     "name": "stdout",
     "output_type": "stream",
     "text": [
      "{\n",
      "    \"rotation_range\": -6,\n",
      "    \"width_shift_range\": 0.049283662164352315,\n",
      "    \"height_shift_range\": 0.062129040368351915,\n",
      "    \"horizontal_flip\": true,\n",
      "    \"vertical_flip\": true,\n",
      "    \"zoom_range\": -0.03493437617512693,\n",
      "    \"brightness_range\": 0.016808387649284325,\n",
      "    \"use_class_weights\": true,\n",
      "    \"pooling\": \"global_average\",\n",
      "    \"dense_layers\": 2,\n",
      "    \"units_layer_0\": 512,\n",
      "    \"activation_func_0\": \"sigmoid\",\n",
      "    \"batch_norm_0\": true,\n",
      "    \"dropout_0\": 0.10646478371824658,\n",
      "    \"units_layer_1\": 64,\n",
      "    \"activation_func_1\": \"relu\",\n",
      "    \"batch_norm_1\": false,\n",
      "    \"dropout_1\": 0.2830490167548361,\n",
      "    \"fine_tune_at\": 0,\n",
      "    \"fine_tuning_learning_rate_adam\": 1.1688327470992886e-05,\n",
      "    \"batch_size\": 32\n",
      "}\n"
     ]
    }
   ],
   "source": [
    "import json\n",
    "\n",
    "# Open and load the JSON file\n",
    "with open(best_hyper_parameters_json_path, 'r') as file:\n",
    "    data = json.load(file)\n",
    "\n",
    "# Print the contents of the JSON file\n",
    "print(json.dumps(data, indent=4))"
   ]
  },
  {
   "cell_type": "code",
   "execution_count": 48,
   "id": "aeccf0bb-c5b7-4d04-a84c-32e98e9870b0",
   "metadata": {},
   "outputs": [
    {
     "name": "stdout",
     "output_type": "stream",
     "text": [
      "Found 27167 images belonging to 2 classes.\n",
      "Found 9064 images belonging to 2 classes.\n",
      "Found 3288 images belonging to 2 classes.\n",
      "train_generator.class_indices :  {'2SK0': 0, '2SK2': 1}\n",
      "validation_generator.class_indices :  {'2SK0': 0, '2SK2': 1}\n",
      "test_generator.class_indices :  {'2SK0': 0, '2SK2': 1}\n",
      "Epoch 1/100\n",
      "849/849 [==============================] - 634s 735ms/step - loss: 0.0984 - roc_auc_score: 0.9931 - f1_score_normal: 0.9657 - accuracy_score: 0.9665 - val_loss: 0.0422 - val_roc_auc_score: 0.9966 - val_f1_score_normal: 0.9895 - val_accuracy_score: 0.9897\n",
      "Epoch 2/100\n",
      "849/849 [==============================] - 622s 729ms/step - loss: 0.0424 - roc_auc_score: 0.9971 - f1_score_normal: 0.9887 - accuracy_score: 0.9891 - val_loss: 0.0390 - val_roc_auc_score: 0.9972 - val_f1_score_normal: 0.9894 - val_accuracy_score: 0.9897\n",
      "Epoch 3/100\n",
      "849/849 [==============================] - 630s 738ms/step - loss: 0.0373 - roc_auc_score: 0.9974 - f1_score_normal: 0.9904 - accuracy_score: 0.9909 - val_loss: 0.0451 - val_roc_auc_score: 0.9966 - val_f1_score_normal: 0.9891 - val_accuracy_score: 0.9894\n",
      "Epoch 4/100\n",
      "849/849 [==============================] - 632s 743ms/step - loss: 0.0322 - roc_auc_score: 0.9978 - f1_score_normal: 0.9925 - accuracy_score: 0.9927 - val_loss: 0.0375 - val_roc_auc_score: 0.9969 - val_f1_score_normal: 0.9907 - val_accuracy_score: 0.9908\n",
      "Epoch 5/100\n",
      "849/849 [==============================] - 630s 740ms/step - loss: 0.0287 - roc_auc_score: 0.9982 - f1_score_normal: 0.9931 - accuracy_score: 0.9932 - val_loss: 0.0616 - val_roc_auc_score: 0.9969 - val_f1_score_normal: 0.9817 - val_accuracy_score: 0.9821\n",
      "Epoch 6/100\n",
      "849/849 [==============================] - 617s 725ms/step - loss: 0.0266 - roc_auc_score: 0.9985 - f1_score_normal: 0.9932 - accuracy_score: 0.9937 - val_loss: 0.0379 - val_roc_auc_score: 0.9970 - val_f1_score_normal: 0.9920 - val_accuracy_score: 0.9919\n",
      "Epoch 7/100\n",
      "849/849 [==============================] - 629s 738ms/step - loss: 0.0224 - roc_auc_score: 0.9987 - f1_score_normal: 0.9943 - accuracy_score: 0.9945 - val_loss: 0.0399 - val_roc_auc_score: 0.9967 - val_f1_score_normal: 0.9923 - val_accuracy_score: 0.9923\n",
      "Epoch 8/100\n",
      "849/849 [==============================] - 627s 736ms/step - loss: 0.0201 - roc_auc_score: 0.9989 - f1_score_normal: 0.9946 - accuracy_score: 0.9948 - val_loss: 0.0434 - val_roc_auc_score: 0.9966 - val_f1_score_normal: 0.9905 - val_accuracy_score: 0.9908\n",
      "Epoch 9/100\n",
      "849/849 [==============================] - 629s 739ms/step - loss: 0.0168 - roc_auc_score: 0.9993 - f1_score_normal: 0.9952 - accuracy_score: 0.9956 - val_loss: 0.0471 - val_roc_auc_score: 0.9959 - val_f1_score_normal: 0.9911 - val_accuracy_score: 0.9912\n",
      "Epoch 10/100\n",
      "849/849 [==============================] - ETA: 0s - loss: 0.0148 - roc_auc_score: 0.9996 - f1_score_normal: 0.9958 - accuracy_score: 0.9957Restoring model weights from the end of the best epoch: 2.\n",
      "849/849 [==============================] - 630s 740ms/step - loss: 0.0148 - roc_auc_score: 0.9996 - f1_score_normal: 0.9958 - accuracy_score: 0.9957 - val_loss: 0.0518 - val_roc_auc_score: 0.9958 - val_f1_score_normal: 0.9903 - val_accuracy_score: 0.9907\n",
      "Epoch 10: early stopping\n",
      "103/103 [==============================] - 131s 1s/step - loss: 0.0548 - roc_auc_score: 0.9956 - f1_score_normal: 0.9845 - accuracy_score: 0.9857\n"
     ]
    },
    {
     "name": "stderr",
     "output_type": "stream",
     "text": [
      "2024-06-28 09:11:02,641 - INFO - Test results - [0.054773248732089996, 0.9955582022666931, 0.9845349192619324, 0.9857056140899658]\n"
     ]
    },
    {
     "name": "stdout",
     "output_type": "stream",
     "text": [
      "Model Eval results: [0.054773248732089996, 0.9955582022666931, 0.9845349192619324, 0.9857056140899658]\n"
     ]
    },
    {
     "name": "stderr",
     "output_type": "stream",
     "text": [
      "/home/sreenidhi/.conda/envs/my-tensorflow-conda/lib/python3.10/site-packages/keras/src/engine/training.py:3103: UserWarning: You are saving your model as an HDF5 file via `model.save()`. This file format is considered legacy. We recommend using instead the native Keras format, e.g. `model.save('my_model.keras')`.\n",
      "  saving_api.save_model(\n",
      "2024-06-28 09:11:02,934 - INFO - VGG19_Catalog_LAC_DHS_Laterality_Trained_model_June_27_2024 Model trained, Model and training history are saved successfully.\n"
     ]
    }
   ],
   "source": [
    "# @title Execute Training algorithm\n",
    "\n",
    "from eye_ai.models.vgg19_lacdhs_laterality_train import main\n",
    "\n",
    "with EA.execution(execution_rid=configuration_records.execution_rid) as exec:\n",
    "  main(train_path=train_path,\n",
    "       valid_path=valid_path, \n",
    "       test_path=test_path, \n",
    "       output_path=output_path,\n",
    "       best_hyperparameters_json_path=best_hyper_parameters_json_path,\n",
    "       model_name=\"VGG19_Catalog_LAC_DHS_Laterality_Trained_model_June_27_2024\"\n",
    "      )\n"
   ]
  },
  {
   "cell_type": "code",
   "execution_count": 54,
   "id": "916dc9b5-12d3-4b2f-81c3-25e01c2310e7",
   "metadata": {},
   "outputs": [
    {
     "data": {
      "text/plain": [
       "'/data/sreenidhi/EyeAI_working/Execution_Assets/VGG19_Catalog_Model_LACDHS_laterality_training'"
      ]
     },
     "execution_count": 54,
     "metadata": {},
     "output_type": "execute_result"
    }
   ],
   "source": [
    "output_path"
   ]
  },
  {
   "cell_type": "code",
   "execution_count": 56,
   "id": "341b95cb-0c7a-4e6b-aaa8-b5be262412bb",
   "metadata": {},
   "outputs": [
    {
     "name": "stdout",
     "output_type": "stream",
     "text": [
      "Found 3288 images belonging to 2 classes.\n"
     ]
    },
    {
     "name": "stderr",
     "output_type": "stream",
     "text": [
      "2024-06-28 09:23:18,804 - INFO - Data saved to predictions.csv\n"
     ]
    }
   ],
   "source": [
    "# @title Execute Evaluation algorithm\n",
    "from eye_ai.models.vgg19_lacdhs_laterality_predict import prediction\n",
    "with EA.execution(execution_rid=configuration_records.execution_rid) as exec:\n",
    "    prediction(\n",
    "        model_path=output_path + '/VGG19_Catalog_LAC_DHS_Laterality_Trained_model_June_27_2024.h5',\n",
    "        cropped_image_path=test_path,\n",
    "        output_dir=Path(output_path),\n",
    "        best_hyperparameters_json_path=best_hyper_parameters_json_path\n",
    "    )\n",
    "\n",
    "\n"
   ]
  },
  {
   "cell_type": "code",
   "execution_count": 64,
   "id": "933ec6fc-517b-4e4c-a62a-ec66c36b3bb4",
   "metadata": {},
   "outputs": [
    {
     "name": "stdout",
     "output_type": "stream",
     "text": [
      "Found 3288 images belonging to 2 classes.\n",
      "True labels:\n",
      "[0. 0. 0. 0. 0. 0. 0. 0. 0. 0. 0. 0. 0. 0. 0. 0. 0. 0. 0. 0. 0. 0. 0. 0.\n",
      " 0. 0. 0. 0. 0. 0. 0. 0.]\n",
      "Predictions:\n",
      "[0 0 0 0 0 0 0 0 0 0 0 0 0 0 0 0 0 0 0 0 0 0 0 0 0 0 0 0 0 0 0 0]\n",
      "Data saved to predictions.csv\n",
      "Accuracy: 0.985705596107056\n",
      "Classification Report:\n",
      "               precision    recall  f1-score   support\n",
      "\n",
      "         0.0       0.98      0.99      0.99      1640\n",
      "         1.0       0.99      0.98      0.99      1648\n",
      "\n",
      "    accuracy                           0.99      3288\n",
      "   macro avg       0.99      0.99      0.99      3288\n",
      "weighted avg       0.99      0.99      0.99      3288\n",
      "\n",
      "AUC Score: 0.9963329534690979\n"
     ]
    },
    {
     "data": {
      "image/png": "[encoded data removed]",
      "text/plain": [
       "<Figure size 640x480 with 1 Axes>"
      ]
     },
     "metadata": {},
     "output_type": "display_data"
    }
   ],
   "source": [
    "import numpy as np\n",
    "import keras\n",
    "\n",
    "import tensorflow as tf\n",
    "from tensorflow.keras.preprocessing.image import ImageDataGenerator\n",
    "\n",
    "\n",
    "@keras.saving.register_keras_serializable()\n",
    "def f1_score_normal(y_true, y_pred): #taken from old keras source code\n",
    "    true_positives = K.sum(K.round(K.clip(y_true * y_pred, 0, 1)))\n",
    "    possible_positives = K.sum(K.round(K.clip(y_true, 0, 1)))\n",
    "    predicted_positives = K.sum(K.round(K.clip(y_pred, 0, 1)))\n",
    "    precision = true_positives / (predicted_positives + K.epsilon())\n",
    "    recall = true_positives / (possible_positives + K.epsilon())\n",
    "    f1_val = 2*(precision*recall)/(precision+recall+K.epsilon())\n",
    "    return f1_val\n",
    "\n",
    "model = tf.keras.models.load_model(output_path + '/VGG19_Catalog_LAC_DHS_Laterality_Trained_model_June_27_2024.h5',\n",
    "                                       custom_objects={'f1_score_normal': f1_score_normal})\n",
    "def preprocess_input_vgg19(x):\n",
    "    return tf.keras.applications.vgg19.preprocess_input(x)\n",
    "\n",
    "graded_test_datagen = ImageDataGenerator(preprocessing_function=preprocess_input_vgg19)\n",
    "\n",
    "classes = {'2SK0': 0, '2SK2': 1}\n",
    "\n",
    "graded_test_generator = graded_test_datagen.flow_from_directory(\n",
    "    test_path,\n",
    "    target_size=(224, 224),\n",
    "    batch_size=data['batch_size'],\n",
    "    class_mode='binary',\n",
    "    classes=classes,\n",
    "    shuffle=False\n",
    ")\n",
    "\n",
    "\n",
    "import csv\n",
    "\n",
    "# Make sure to reset the generator before starting the predictions\n",
    "# graded_test_generator.reset()\n",
    "\n",
    "import matplotlib.pyplot as plt\n",
    "from sklearn.metrics import classification_report, roc_auc_score, roc_curve\n",
    "\n",
    "# Initialize lists to store file names, true labels, and predicted labels\n",
    "filenames = []\n",
    "y_true = []\n",
    "y_pred = []\n",
    "scores = []\n",
    "\n",
    "# Iterate over all batches in the graded_test_generator\n",
    "\n",
    "for i in range(len(graded_test_generator)):\n",
    "    # Get a batch of data\n",
    "    batch_data = graded_test_generator[i]\n",
    "    image_batch, label_batch = batch_data[0], batch_data[1]\n",
    "    batch_filenames = graded_test_generator.filenames[i * graded_test_generator.batch_size : (i + 1) * graded_test_generator.batch_size]\n",
    "\n",
    "    # Make predictions\n",
    "    predictions = model.predict_on_batch(image_batch).flatten()\n",
    "\n",
    "    # append bacth data to lists\n",
    "    scores.extend(predictions)\n",
    "\n",
    "    # Binarize the predictions\n",
    "    predictions = tf.where(predictions < 0.5, 0, 1).numpy()\n",
    "\n",
    "    # Append batch data to lists\n",
    "    filenames.extend(batch_filenames)\n",
    "    y_true.extend(label_batch)\n",
    "    y_pred.extend(predictions)\n",
    "\n",
    "    # For debugging, print the first batch's results\n",
    "    if i == 0:\n",
    "        # print(\"Image batch:\")\n",
    "        # print(image_batch)\n",
    "        print(\"True labels:\")\n",
    "        print(label_batch)\n",
    "        print(\"Predictions:\")\n",
    "        print(predictions)\n",
    "\n",
    "# Write to CSV file\n",
    "# with open('predictions_with_correct_predictions_and_probability_score_SG_1_NG_0.csv', 'w', newline='') as file: #s\n",
    "#     writer = csv.writer(file)\n",
    "#     writer.writerow(['Filename', 'True Label', 'Prediction', 'Probability Score'])\n",
    "\n",
    "#     for i in range(len(filenames)):\n",
    "#         writer.writerow([filenames[i], y_true[i], y_pred[i], scores[i]])\n",
    "\n",
    "print(\"Data saved to predictions.csv\")\n",
    "\n",
    "\n",
    "# Compute the accuracy\n",
    "accuracy = np.mean(np.array(y_pred) == np.array(y_true))\n",
    "print('Accuracy:', accuracy)\n",
    "\n",
    "# Generate a classification report and AUC score\n",
    "print('Classification Report:\\n', classification_report(y_true, y_pred))\n",
    "print('AUC Score:', roc_auc_score(y_true, scores))\n",
    "\n",
    "# Plot the ROC curve\n",
    "fpr, tpr, thresholds = roc_curve(y_true, scores)\n",
    "plt.plot(fpr, tpr)\n",
    "plt.xlabel('False Positive Rate')\n",
    "plt.ylabel('True Positive Rate')\n",
    "plt.title('ROC Curve')\n",
    "plt.show()\n",
    "\n"
   ]
  },
  {
   "cell_type": "code",
   "execution_count": 66,
   "id": "57e9502f-634a-4c50-96a2-43e89d096f93",
   "metadata": {},
   "outputs": [
    {
     "name": "stdout",
     "output_type": "stream",
     "text": [
      "\n",
      "Scikit-learn Metrics:\n",
      "ROC AUC: 0.9963329534690979\n",
      "F1 Score: 0.9857055630515777\n",
      "F1 Score Normal: 0.9857273003340419\n",
      "Precision: 0.9866261398176291\n",
      "Recall: 0.9848300970873787\n",
      "Accuracy: 0.985705596107056\n",
      "Balanced Accuracy: 0.9857077314705186\n",
      "Matthews correlation coefficient: 0.9714127672916003\n"
     ]
    }
   ],
   "source": [
    "from sklearn.metrics import f1_score, precision_score, recall_score, accuracy_score, balanced_accuracy_score, matthews_corrcoef\n",
    "\n",
    "# Calculate metrics using scikit-learn\n",
    "sklearn_roc_auc = roc_auc_score(y_true, scores)\n",
    "sklearn_f1_score = f1_score(y_true, y_pred, average='macro')\n",
    "sklearn_f1_score_normal = f1_score(y_true, y_pred)\n",
    "sklearn_precision = precision_score(y_true, y_pred)\n",
    "sklearn_recall = recall_score(y_true, y_pred)\n",
    "sklearn_accuracy = accuracy_score(y_true, y_pred)\n",
    "sklearn_balanced_accuracy = balanced_accuracy_score(y_true, y_pred)\n",
    "sklearn_matthews_corrcoef = matthews_corrcoef(y_true, y_pred)\n",
    "\n",
    "print(f'\\nScikit-learn Metrics:')\n",
    "print(f'ROC AUC: {sklearn_roc_auc}')\n",
    "print(f'F1 Score: {sklearn_f1_score}')\n",
    "print(f'F1 Score Normal: {sklearn_f1_score_normal}') #t\n",
    "print(f'Precision: {sklearn_precision}')\n",
    "print(f'Recall: {sklearn_recall}')\n",
    "print(f'Accuracy: {sklearn_accuracy}')\n",
    "print(f'Balanced Accuracy: {sklearn_balanced_accuracy}')\n",
    "print(f'Matthews correlation coefficient: {sklearn_matthews_corrcoef}')\n"
   ]
  },
  {
   "cell_type": "code",
   "execution_count": 67,
   "id": "17a367dd-445a-41f9-bc97-354e6def6100",
   "metadata": {},
   "outputs": [
    {
     "name": "stderr",
     "output_type": "stream",
     "text": [
      "2024-06-28 09:54:32,765 - INFO - Initializing uploader: GenericUploader v1.7.1 [Python 3.10.13, Linux-5.10.210-201.852.amzn2.x86_64-x86_64-with-glibc2.26]\n",
      "2024-06-28 09:54:32,767 - INFO - Creating client of type <class 'globus_sdk.services.auth.client.native_client.NativeAppAuthClient'> for service \"auth\"\n",
      "2024-06-28 09:54:32,768 - INFO - Finished initializing AuthLoginClient. client_id='8ef15ba9-2b4a-469c-a163-7fd910c9d111', type(authorizer)=<class 'globus_sdk.authorizers.base.NullAuthorizer'>\n",
      "2024-06-28 09:54:32,818 - INFO - Checking for updated configuration...\n",
      "2024-06-28 09:54:32,959 - INFO - Updated configuration found.\n",
      "2024-06-28 09:54:32,962 - INFO - Scanning files in directory [/data/sreenidhi/EyeAI_working/Execution_Assets/VGG19_Catalog_Model_LACDHS_laterality_training]...\n",
      "2024-06-28 09:54:32,963 - INFO - Including file: [/data/sreenidhi/EyeAI_working/Execution_Assets/VGG19_Catalog_Model_LACDHS_laterality_training/VGG19_Catalog_LAC_DHS_Laterality_Trained_model_June_27_2024.h5].\n",
      "2024-06-28 09:54:32,963 - INFO - Including file: [/data/sreenidhi/EyeAI_working/Execution_Assets/VGG19_Catalog_Model_LACDHS_laterality_training/training_history_VGG19_Catalog_LAC_DHS_Laterality_Trained_model_June_27_2024.csv].\n",
      "2024-06-28 09:54:32,964 - INFO - Including file: [/data/sreenidhi/EyeAI_working/Execution_Assets/VGG19_Catalog_Model_LACDHS_laterality_training/predictions_results.csv].\n",
      "2024-06-28 09:54:32,964 - INFO - Processing: [/data/sreenidhi/EyeAI_working/Execution_Assets/VGG19_Catalog_Model_LACDHS_laterality_training/VGG19_Catalog_LAC_DHS_Laterality_Trained_model_June_27_2024.h5]\n",
      "2024-06-28 09:54:32,965 - INFO - Computed metadata for: [/data/sreenidhi/EyeAI_working/Execution_Assets/VGG19_Catalog_Model_LACDHS_laterality_training/VGG19_Catalog_LAC_DHS_Laterality_Trained_model_June_27_2024.h5].\n",
      "2024-06-28 09:54:32,966 - INFO - Computing checksums for file: [/data/sreenidhi/EyeAI_working/Execution_Assets/VGG19_Catalog_Model_LACDHS_laterality_training/VGG19_Catalog_LAC_DHS_Laterality_Trained_model_June_27_2024.h5]. Please wait...\n",
      "2024-06-28 09:54:33,527 - INFO - Uploading file: [/data/sreenidhi/EyeAI_working/Execution_Assets/VGG19_Catalog_Model_LACDHS_laterality_training/VGG19_Catalog_LAC_DHS_Laterality_Trained_model_June_27_2024.h5] to host https://www.eye-ai.org. Please wait...\n",
      "2024-06-28 09:54:38,117 - INFO - File [/data/sreenidhi/EyeAI_working/Execution_Assets/VGG19_Catalog_Model_LACDHS_laterality_training/VGG19_Catalog_LAC_DHS_Laterality_Trained_model_June_27_2024.h5] upload successful. 232.71 MB transferred at 53.27 MB/second. Elapsed time: 0:00:04.368521.\n",
      "2024-06-28 09:54:38,291 - INFO - Processing: [/data/sreenidhi/EyeAI_working/Execution_Assets/VGG19_Catalog_Model_LACDHS_laterality_training/training_history_VGG19_Catalog_LAC_DHS_Laterality_Trained_model_June_27_2024.csv]\n",
      "2024-06-28 09:54:38,292 - INFO - Computed metadata for: [/data/sreenidhi/EyeAI_working/Execution_Assets/VGG19_Catalog_Model_LACDHS_laterality_training/training_history_VGG19_Catalog_LAC_DHS_Laterality_Trained_model_June_27_2024.csv].\n",
      "2024-06-28 09:54:38,292 - INFO - Computing checksums for file: [/data/sreenidhi/EyeAI_working/Execution_Assets/VGG19_Catalog_Model_LACDHS_laterality_training/training_history_VGG19_Catalog_LAC_DHS_Laterality_Trained_model_June_27_2024.csv]. Please wait...\n",
      "2024-06-28 09:54:38,304 - INFO - Uploading file: [/data/sreenidhi/EyeAI_working/Execution_Assets/VGG19_Catalog_Model_LACDHS_laterality_training/training_history_VGG19_Catalog_LAC_DHS_Laterality_Trained_model_June_27_2024.csv] to host https://www.eye-ai.org. Please wait...\n",
      "2024-06-28 09:54:38,413 - INFO - Processing: [/data/sreenidhi/EyeAI_working/Execution_Assets/VGG19_Catalog_Model_LACDHS_laterality_training/predictions_results.csv]\n",
      "2024-06-28 09:54:38,414 - INFO - Computed metadata for: [/data/sreenidhi/EyeAI_working/Execution_Assets/VGG19_Catalog_Model_LACDHS_laterality_training/predictions_results.csv].\n",
      "2024-06-28 09:54:38,414 - INFO - Computing checksums for file: [/data/sreenidhi/EyeAI_working/Execution_Assets/VGG19_Catalog_Model_LACDHS_laterality_training/predictions_results.csv]. Please wait...\n",
      "2024-06-28 09:54:38,426 - INFO - Uploading file: [/data/sreenidhi/EyeAI_working/Execution_Assets/VGG19_Catalog_Model_LACDHS_laterality_training/predictions_results.csv] to host https://www.eye-ai.org. Please wait...\n",
      "2024-06-28 09:54:38,607 - INFO - File upload processing completed: 3 files were uploaded successfully, 0 files failed to upload due to errors, 0 files were skipped because they did not satisfy the matching criteria of the configuration.\n",
      "2024-06-28 09:54:38,715 - INFO - Initializing uploader: GenericUploader v1.7.1 [Python 3.10.13, Linux-5.10.210-201.852.amzn2.x86_64-x86_64-with-glibc2.26]\n",
      "2024-06-28 09:54:38,716 - INFO - Creating client of type <class 'globus_sdk.services.auth.client.native_client.NativeAppAuthClient'> for service \"auth\"\n",
      "2024-06-28 09:54:38,717 - INFO - Finished initializing AuthLoginClient. client_id='8ef15ba9-2b4a-469c-a163-7fd910c9d111', type(authorizer)=<class 'globus_sdk.authorizers.base.NullAuthorizer'>\n",
      "2024-06-28 09:54:38,752 - INFO - Checking for updated configuration...\n",
      "2024-06-28 09:54:38,861 - INFO - Updated configuration found.\n",
      "2024-06-28 09:54:38,863 - INFO - Scanning files in directory [/data/sreenidhi/EyeAI_working/Execution_Metadata]...\n",
      "2024-06-28 09:54:38,864 - INFO - Including file: [/data/sreenidhi/EyeAI_working/Execution_Metadata/Execution_Config-vgg19_catalog_model_training_LACDHS_laterality_sreenidhi_june_27_2024.json].\n",
      "2024-06-28 09:54:38,865 - INFO - Including file: [/data/sreenidhi/EyeAI_working/Execution_Metadata/Runtime_Env-python_environment_snapshot.txt].\n",
      "2024-06-28 09:54:38,865 - INFO - Including file: [/data/sreenidhi/EyeAI_working/Execution_Metadata/Execution_Config-multimodal_df_join.json].\n",
      "2024-06-28 09:54:38,865 - INFO - Processing: [/data/sreenidhi/EyeAI_working/Execution_Metadata/Execution_Config-vgg19_catalog_model_training_LACDHS_laterality_sreenidhi_june_27_2024.json]\n",
      "2024-06-28 09:54:38,866 - INFO - Computed metadata for: [/data/sreenidhi/EyeAI_working/Execution_Metadata/Execution_Config-vgg19_catalog_model_training_LACDHS_laterality_sreenidhi_june_27_2024.json].\n",
      "2024-06-28 09:54:38,867 - INFO - Computing checksums for file: [/data/sreenidhi/EyeAI_working/Execution_Metadata/Execution_Config-vgg19_catalog_model_training_LACDHS_laterality_sreenidhi_june_27_2024.json]. Please wait...\n",
      "2024-06-28 09:54:38,878 - INFO - Uploading file: [/data/sreenidhi/EyeAI_working/Execution_Metadata/Execution_Config-vgg19_catalog_model_training_LACDHS_laterality_sreenidhi_june_27_2024.json] to host https://www.eye-ai.org. Please wait...\n",
      "2024-06-28 09:54:38,973 - INFO - Updating catalog for file [Execution_Config-vgg19_catalog_model_training_LACDHS_laterality_sreenidhi_june_27_2024.json]\n",
      "2024-06-28 09:54:39,462 - INFO - Processing: [/data/sreenidhi/EyeAI_working/Execution_Metadata/Runtime_Env-python_environment_snapshot.txt]\n",
      "2024-06-28 09:54:39,463 - INFO - Computed metadata for: [/data/sreenidhi/EyeAI_working/Execution_Metadata/Runtime_Env-python_environment_snapshot.txt].\n",
      "2024-06-28 09:54:39,464 - INFO - Computing checksums for file: [/data/sreenidhi/EyeAI_working/Execution_Metadata/Runtime_Env-python_environment_snapshot.txt]. Please wait...\n",
      "2024-06-28 09:54:39,475 - INFO - Uploading file: [/data/sreenidhi/EyeAI_working/Execution_Metadata/Runtime_Env-python_environment_snapshot.txt] to host https://www.eye-ai.org. Please wait...\n",
      "2024-06-28 09:54:39,492 - INFO - Processing: [/data/sreenidhi/EyeAI_working/Execution_Metadata/Execution_Config-multimodal_df_join.json]\n",
      "2024-06-28 09:54:39,493 - INFO - Computed metadata for: [/data/sreenidhi/EyeAI_working/Execution_Metadata/Execution_Config-multimodal_df_join.json].\n",
      "2024-06-28 09:54:39,493 - INFO - Computing checksums for file: [/data/sreenidhi/EyeAI_working/Execution_Metadata/Execution_Config-multimodal_df_join.json]. Please wait...\n",
      "2024-06-28 09:54:39,503 - INFO - Uploading file: [/data/sreenidhi/EyeAI_working/Execution_Metadata/Execution_Config-multimodal_df_join.json] to host https://www.eye-ai.org. Please wait...\n",
      "2024-06-28 09:54:39,519 - INFO - File upload processing completed: 3 files were uploaded successfully, 0 files failed to upload due to errors, 0 files were skipped because they did not satisfy the matching criteria of the configuration.\n"
     ]
    }
   ],
   "source": [
    "# # @title Save Execution Assets (model) and Metadata\n",
    "uploaded_assets = EA.execution_upload(configuration_records.execution_rid, True)"
   ]
  },
  {
   "cell_type": "code",
   "execution_count": null,
   "id": "ab6bb207-df9b-4ddc-933c-045eb08388fb",
   "metadata": {},
   "outputs": [],
   "source": []
  }
 ],
 "metadata": {
  "kernelspec": {
   "display_name": "My TensorFlow (Conda)",
   "language": "python",
   "name": "my-tensorflow-conda"
  },
  "language_info": {
   "codemirror_mode": {
    "name": "ipython",
    "version": 3
   },
   "file_extension": ".py",
   "mimetype": "text/x-python",
   "name": "python",
   "nbconvert_exporter": "python",
   "pygments_lexer": "ipython3",
   "version": "3.10.13"
  }
 },
 "nbformat": 4,
 "nbformat_minor": 5
}
