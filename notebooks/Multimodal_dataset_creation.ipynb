{
 "cells": [
  {
   "cell_type": "code",
   "execution_count": null,
   "id": "98411793-13d3-4deb-b559-7a61f536b432",
   "metadata": {},
   "outputs": [],
   "source": [
    "repo_dir = \"Repos\"   # Set this to be where your github repos are located.\n",
    "%load_ext autoreload\n",
    "%autoreload 2\n",
    "\n",
    "# Update the load path so python can find modules for the model\n",
    "import sys\n",
    "from pathlib import Path\n",
    "sys.path.insert(0, str(Path.home() / repo_dir / \"eye-ai-ml\"))"
   ]
  },
  {
   "cell_type": "code",
   "execution_count": null,
   "id": "4ec94952-b138-4536-8223-a44c150f1cc8",
   "metadata": {},
   "outputs": [],
   "source": [
    "# Prerequisites\n",
    "\n",
    "import json\n",
    "import os\n",
    "from eye_ai.eye_ai import EyeAI\n",
    "import pandas as pd\n",
    "from pathlib import Path, PurePath\n",
    "import logging\n",
    "# import torch\n",
    "\n",
    "logging.basicConfig(level=logging.INFO, format='%(asctime)s - %(levelname)s - %(message)s', force=True)"
   ]
  },
  {
   "cell_type": "code",
   "execution_count": null,
   "id": "54c2963f-6805-44ab-a78f-dfff3a14ae80",
   "metadata": {},
   "outputs": [],
   "source": [
    "from deriva.core.utils.globus_auth_utils import GlobusNativeLogin\n",
    "catalog_id = \"eye-ai\" #@param\n",
    "host = 'www.eye-ai.org'\n",
    "\n",
    "\n",
    "gnl = GlobusNativeLogin(host=host)\n",
    "if gnl.is_logged_in([host]):\n",
    "    print(\"You are already logged in.\")\n",
    "else:\n",
    "    gnl.login([host], no_local_server=True, no_browser=True, refresh_tokens=True, update_bdbag_keychain=True)\n",
    "    print(\"Login Successful\")"
   ]
  },
  {
   "cell_type": "code",
   "execution_count": null,
   "id": "859fb65e-f7a1-4e65-abf8-f209390c0211",
   "metadata": {},
   "outputs": [],
   "source": [
    "# Variables to configure the rest of the notebook.\n",
    "\n",
    "cache_dir = '/data'        # Directory in which to cache materialized BDBags for datasets\n",
    "working_dir = '/data'    # Directory in which to place output files for later upload.\n",
    "\n",
    "configuration_rid=\"2-C61G\" # rid\n"
   ]
  },
  {
   "cell_type": "code",
   "execution_count": null,
   "id": "4ef26797-d732-4289-bc06-899f4a0b3176",
   "metadata": {},
   "outputs": [],
   "source": [
    "EA = EyeAI(hostname = host, catalog_id = catalog_id, cache_dir= cache_dir, working_dir=working_dir)"
   ]
  },
  {
   "cell_type": "code",
   "execution_count": null,
   "id": "6f5059bd-0419-4468-a991-23c59875a400",
   "metadata": {},
   "outputs": [],
   "source": [
    "# @title Initiate an Execution\n",
    "configuration_records = EA.execution_init(configuration_rid=configuration_rid)\n",
    "configuration_records.model_dump()"
   ]
  },
  {
   "cell_type": "code",
   "execution_count": null,
   "id": "60ff7a69-63dc-40ab-92c5-bfda30c3d5f1",
   "metadata": {},
   "outputs": [],
   "source": [
    "modality_wide = EA.multimodal_wide(configuration_records.bag_paths[0])"
   ]
  },
  {
   "cell_type": "code",
   "execution_count": null,
   "id": "ee6047b0-fba3-4ffe-a4ac-5c4169529aad",
   "metadata": {},
   "outputs": [],
   "source": [
    "filtered_wide = modality_wide[modality_wide['Label'].notna()]\n",
    "filtered_POAG = filtered_wide[filtered_wide['Label'] == 'POAG']['RID_Subject'].unique().tolist()\n",
    "filtered_GS = filtered_wide[filtered_wide['Label'] == 'GS']['RID_Subject'].unique().tolist()\n",
    "filtered_PACG = filtered_wide[filtered_wide['Label'] == 'PACG']['RID_Subject'].unique().tolist()\n"
   ]
  },
  {
   "cell_type": "code",
   "execution_count": null,
   "id": "18934d15-bf1b-4573-b6a0-68b4e765b2d3",
   "metadata": {},
   "outputs": [],
   "source": [
    "import numpy as np\n",
    "def split_data(data, pct):\n",
    "    RID_array = np.array(data)\n",
    "    n = len(RID_array)\n",
    "    np.random.seed(123456789)\n",
    "    idx = np.random.permutation(n)[:round(n*pct)]\n",
    "    return list(RID_array[idx]), list(np.delete(RID_array, idx))"
   ]
  },
  {
   "cell_type": "code",
   "execution_count": null,
   "id": "da5a900a-17e3-431f-9899-4f4cd6ce90a6",
   "metadata": {},
   "outputs": [],
   "source": [
    "POAG_test, POAG_train = split_data(filtered_POAG, 0.2)\n",
    "GS_test, GS_train = split_data(filtered_GS, 0.2)\n",
    "PACG_test, PACG_train = split_data(filtered_PACG, 0.2)"
   ]
  },
  {
   "cell_type": "code",
   "execution_count": null,
   "id": "d091dc82-2787-4dc1-895e-83eed58de622",
   "metadata": {},
   "outputs": [],
   "source": [
    "test = EA.extend_dataset(\"2-C9PR\", POAG_test)\n",
    "test = EA.extend_dataset(\"2-C9PR\", GS_test)\n",
    "test = EA.extend_dataset(\"2-C9PR\", PACG_test)\n",
    "\n",
    "train = EA.extend_dataset(\"2-C9PP\", POAG_train)\n",
    "train = EA.extend_dataset(\"2-C9PP\", GS_train)\n",
    "train = EA.extend_dataset(\"2-C9PP\", PACG_train)                     "
   ]
  },
  {
   "cell_type": "markdown",
   "id": "09331ed7-49ad-4eed-826f-7cfd35422d3b",
   "metadata": {},
   "source": [
    "Extract the rest of subjects and save in a separate dataset."
   ]
  },
  {
   "cell_type": "code",
   "execution_count": null,
   "id": "24b0c136-6969-4143-876f-8650de2bfbbb",
   "metadata": {},
   "outputs": [],
   "source": [
    "subject_all = pd.read_csv(configuration_records.bag_paths[0]/'data'/'Subject.csv')['RID'].unique().tolist()\n",
    "\n",
    "rest = list(set(subject_all) - set(filtered_POAG) - set(filtered_GS) - set(filtered_PACG))"
   ]
  },
  {
   "cell_type": "code",
   "execution_count": null,
   "id": "49730e11-7482-4724-aa16-cc05a84cfc80",
   "metadata": {},
   "outputs": [],
   "source": [
    "missing = EA.extend_dataset(\"2-C9PM\", rest)"
   ]
  },
  {
   "cell_type": "code",
   "execution_count": null,
   "id": "a31cce7b-3fb2-4f56-b41f-8b397a72574b",
   "metadata": {},
   "outputs": [],
   "source": [
    "uploaded_assets = EA.execution_upload(configuration_records.execution_rid, False)\n"
   ]
  },
  {
   "cell_type": "code",
   "execution_count": null,
   "id": "30c809ec-56ed-4a2c-829b-ef01dbe50e0f",
   "metadata": {},
   "outputs": [],
   "source": []
  }
 ],
 "metadata": {
  "kernelspec": {
   "display_name": "My Tensorflow",
   "language": "python",
   "name": "my-tensorflow"
  },
  "language_info": {
   "codemirror_mode": {
    "name": "ipython",
    "version": 3
   },
   "file_extension": ".py",
   "mimetype": "text/x-python",
   "name": "python",
   "nbconvert_exporter": "python",
   "pygments_lexer": "ipython3",
   "version": "3.10.13"
  }
 },
 "nbformat": 4,
 "nbformat_minor": 5
}
