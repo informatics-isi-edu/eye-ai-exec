{
 "cells": [
  {
   "cell_type": "code",
   "id": "003248d9-3365-4aaa-874a-858234cb2f86",
   "metadata": {},
   "source": [
    "# repo_dir = \"Repos\"   # Set this to be where your github repos are located.\n",
    "# %load_ext autoreload\n",
    "# %autoreload 2\n",
    "\n",
    "# # Update the load path so python can find modules for the model\n",
    "# import sys\n",
    "# from pathlib import Path\n",
    "# sys.path.insert(0, str(Path.home() / repo_dir / \"eye-ai-ml\"))\n",
    "# sys.path.insert(0, str(Path.home() / repo_dir / \"deriva-ml\"))"
   ],
   "outputs": [],
   "execution_count": null
  },
  {
   "cell_type": "code",
   "id": "8499060d-4de0-4ab1-bf23-8f766d24dd5e",
   "metadata": {
    "scrolled": true
   },
   "source": [
    "# Prerequisites\n",
    "from eye_ai.eye_ai import EyeAI\n",
    "from deriva_ml.dataset_bag import DatasetBag\n",
    "\n",
    "from pathlib import Path, PurePath\n",
    "\n",
    "from deriva_ml.deriva_ml_base import MLVocab as vc\n",
    "from deriva_ml.execution_configuration import ExecutionConfiguration, Workflow, Execution"
   ],
   "outputs": [],
   "execution_count": null
  },
  {
   "cell_type": "code",
   "id": "1f254b11-9f01-4185-95a0-cd7f80995c2f",
   "metadata": {
    "scrolled": true
   },
   "source": [
    "# Login\n",
    "from deriva.core.utils.globus_auth_utils import GlobusNativeLogin\n",
    "# host = 'www.eye-ai.org'\n",
    "host = 'dev.eye-ai.org'\n",
    "catalog_id = \"eye-ai\"\n",
    "\n",
    "gnl = GlobusNativeLogin(host=host)\n",
    "if gnl.is_logged_in([host]):\n",
    "    print(\"You are already logged in.\")\n",
    "else:\n",
    "    gnl.login([host], no_local_server=True, no_browser=True, refresh_tokens=True, update_bdbag_keychain=True)\n",
    "    print(\"Login Successful\")"
   ],
   "outputs": [],
   "execution_count": null
  },
  {
   "cell_type": "code",
   "id": "3a40db10-6f64-4b6e-a22d-3c7011e2a3fa",
   "metadata": {},
   "source": [
    "cache_dir = Path.home() / '/data'\n",
    "working_dir = Path.home() / '/data'\n",
    "EA = EyeAI(hostname = host, catalog_id = catalog_id, cache_dir= cache_dir, working_dir=working_dir)\n",
    "pb = EA.catalog.getPathBuilder()"
   ],
   "outputs": [],
   "execution_count": null
  },
  {
   "cell_type": "markdown",
   "id": "b2006ce9-6ca1-402d-b9ad-8853b85509cf",
   "metadata": {},
   "source": [
    "# Configuration"
   ]
  },
  {
   "cell_type": "code",
   "id": "8f92f4b0-438a-4e57-9edf-76d7f655f82b",
   "metadata": {
    "scrolled": true
   },
   "source": [
    "# Add Workflow Vocab terms\n",
    "EA.add_term(vc.workflow_type, \"Test Workflow\", description=\"A test Workflow for new DM\")\n",
    "# Workflow instance\n",
    "test_workflow = Workflow(\n",
    "    name=\"Dataset creation template\",\n",
    "    url=\"https://github.com/informatics-isi-edu/eye-ai-exec/blob/main/notebooks/templates/template_dataset.ipynb\",\n",
    "    workflow_type=\"Test Workflow\"\n",
    ")\n",
    "# Configuration instance\n",
    "config = ExecutionConfiguration(\n",
    "    bdbags=['2-7K8W'], #2-7K8W\n",
    "    models = ['2-4JR6'],\n",
    "    execution=Execution(description=\"Sample Test Execution\"),\n",
    "    workflow=test_workflow,\n",
    "    description=\"Our Test Workflow instance\")\n",
    "# Initialize execution\n",
    "configuration_record = EA.initialize_execution(config)\n",
    "execution_rid = configuration_record.execution_rid"
   ],
   "outputs": [],
   "execution_count": null
  },
  {
   "cell_type": "code",
   "id": "a51619bd-d32b-4554-880f-421b46c99b3a",
   "metadata": {},
   "source": [
    "print(configuration_record)"
   ],
   "outputs": [],
   "execution_count": null
  },
  {
   "cell_type": "markdown",
   "id": "c97e75f7-8eb7-490c-8ba7-0e00d738a723",
   "metadata": {},
   "source": [
    "# Create DatasetBag"
   ]
  },
  {
   "cell_type": "code",
   "id": "64273618-87e3-40ed-8e39-a8d176728fb0",
   "metadata": {},
   "source": [
    "ds_bag = DatasetBag(configuration_record.bag_paths[0])"
   ],
   "outputs": [],
   "execution_count": null
  },
  {
   "cell_type": "code",
   "id": "55f5062f-00e4-4c9f-837d-845bb238fddc",
   "metadata": {},
   "source": [
    "training_rids = #slice the dataset and extract a list of subject rid"
   ],
   "outputs": [],
   "execution_count": null
  },
  {
   "cell_type": "markdown",
   "id": "2505089f-a9d0-4891-87a3-9ba93c96a76b",
   "metadata": {},
   "source": [
    "# Create dataset"
   ]
  },
  {
   "cell_type": "code",
   "id": "ab43d780-57f9-4e5f-b6ed-6b9697b80f4b",
   "metadata": {},
   "source": [
    "new_dataset_rid = EA.create_dataset(['LAC', 'Training'], description='A test dataset')"
   ],
   "outputs": [],
   "execution_count": null
  },
  {
   "cell_type": "markdown",
   "id": "fb2b1471-2986-4fb6-82f1-7d2698ef52a4",
   "metadata": {},
   "source": [
    "# Add subjects into the new dataset"
   ]
  },
  {
   "cell_type": "code",
   "id": "dfc452c2-4dac-47ed-83a4-6d0eea736bb3",
   "metadata": {},
   "source": [
    "EA.add_dataset_members(dataset_rid=new_dataset_rid, members=training_rids)"
   ],
   "outputs": [],
   "execution_count": null
  },
  {
   "cell_type": "markdown",
   "id": "e0d71e38-2ca1-4cd7-b2eb-e8dde8758147",
   "metadata": {},
   "source": [
    "# Add subdatasets to a dataset"
   ]
  },
  {
   "cell_type": "code",
   "id": "00f93f00-9db4-4687-b399-17197152a4a0",
   "metadata": {},
   "source": [
    "subsets = [] # A list of (sub)dataset rids\n",
    "EA.add_dataset_members(dataset_rid=new_dataset_rid, members=subsets)"
   ],
   "outputs": [],
   "execution_count": null
  },
  {
   "cell_type": "markdown",
   "id": "1d3588de-cd3a-4c87-993b-cc0e5025a91f",
   "metadata": {},
   "source": [
    "# Upload results"
   ]
  },
  {
   "cell_type": "code",
   "id": "f27d4849-0230-4722-afa5-47f03a9d90a2",
   "metadata": {
    "scrolled": true
   },
   "source": [
    "# crete asset path\n",
    "asset_type_name = \"\"\n",
    "asset_path = configuration_record.execution_assets_path(asset_type_name)\n",
    "# save assets to asset_path\n",
    "\n",
    "\n",
    "# upload assets to catalog\n",
    "EA.upload_execution(configuration_record, True)"
   ],
   "outputs": [],
   "execution_count": null
  },
  {
   "cell_type": "code",
   "id": "aaf78fd5-8f9e-4abf-a946-c716b9c86ddd",
   "metadata": {},
   "source": [],
   "outputs": [],
   "execution_count": null
  }
 ],
 "metadata": {
  "kernelspec": {
   "display_name": "Python 3 (ipykernel)",
   "language": "python",
   "name": "python3"
  },
  "language_info": {
   "codemirror_mode": {
    "name": "ipython",
    "version": 3
   },
   "file_extension": ".py",
   "mimetype": "text/x-python",
   "name": "python",
   "nbconvert_exporter": "python",
   "pygments_lexer": "ipython3",
   "version": "3.10.13"
  }
 },
 "nbformat": 4,
 "nbformat_minor": 5
}
