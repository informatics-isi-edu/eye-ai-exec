{
 "cells": [
  {
   "cell_type": "code",
   "execution_count": 1,
   "id": "003248d9-3365-4aaa-874a-858234cb2f86",
   "metadata": {},
   "outputs": [],
   "source": [
    "repo_dir = \"Repos\"   # Set this to be where your github repos are located.\n",
    "%load_ext autoreload\n",
    "%autoreload 2\n",
    "\n",
    "# Update the load path so python can find modules for the model\n",
    "import sys\n",
    "from pathlib import Path\n",
    "sys.path.insert(0, str(Path.home() / repo_dir / \"eye-ai-ml\"))\n",
    "sys.path.insert(0, str(Path.home() / repo_dir / \"deriva-ml\"))"
   ]
  },
  {
   "cell_type": "code",
   "execution_count": 2,
   "id": "8499060d-4de0-4ab1-bf23-8f766d24dd5e",
   "metadata": {},
   "outputs": [],
   "source": [
    "# Prerequisites\n",
    "import json\n",
    "import os\n",
    "from eye_ai.eye_ai import EyeAI\n",
    "from deriva_ml.dataset_bag import DatasetBag\n",
    "\n",
    "import pandas as pd\n",
    "from pathlib import Path, PurePath\n",
    "import logging\n",
    "\n",
    "from deriva_ml.deriva_ml_base import MLVocab as vc\n",
    "from deriva_ml.execution_configuration import ExecutionConfiguration, Workflow, Execution\n",
    "logging.basicConfig(level=logging.INFO, format='%(asctime)s - %(levelname)s - %(message)s', force=True)"
   ]
  },
  {
   "cell_type": "code",
   "execution_count": 3,
   "id": "1f254b11-9f01-4185-95a0-cd7f80995c2f",
   "metadata": {
    "scrolled": true
   },
   "outputs": [
    {
     "name": "stderr",
     "output_type": "stream",
     "text": [
      "2024-11-29 15:58:21,079 - INFO - Creating client of type <class 'globus_sdk.services.auth.client.native_client.NativeAppAuthClient'> for service \"auth\"\n",
      "2024-11-29 15:58:21,080 - INFO - Finished initializing AuthLoginClient. client_id='8ef15ba9-2b4a-469c-a163-7fd910c9d111', type(authorizer)=<class 'globus_sdk.authorizers.base.NullAuthorizer'>\n"
     ]
    },
    {
     "name": "stdout",
     "output_type": "stream",
     "text": [
      "You are already logged in.\n"
     ]
    }
   ],
   "source": [
    "# Login\n",
    "from deriva.core.utils.globus_auth_utils import GlobusNativeLogin\n",
    "# host = 'www.eye-ai.org'\n",
    "host = 'dev.eye-ai.org'\n",
    "catalog_id = \"eye-ai\"\n",
    "\n",
    "gnl = GlobusNativeLogin(host=host)\n",
    "if gnl.is_logged_in([host]):\n",
    "    print(\"You are already logged in.\")\n",
    "else:\n",
    "    gnl.login([host], no_local_server=True, no_browser=True, refresh_tokens=True, update_bdbag_keychain=True)\n",
    "    print(\"Login Successful\")"
   ]
  },
  {
   "cell_type": "code",
   "execution_count": 4,
   "id": "3a40db10-6f64-4b6e-a22d-3c7011e2a3fa",
   "metadata": {},
   "outputs": [
    {
     "name": "stderr",
     "output_type": "stream",
     "text": [
      "2024-11-29 15:58:21,870 - INFO - Creating client of type <class 'globus_sdk.services.auth.client.native_client.NativeAppAuthClient'> for service \"auth\"\n",
      "2024-11-29 15:58:21,871 - INFO - Finished initializing AuthLoginClient. client_id='8ef15ba9-2b4a-469c-a163-7fd910c9d111', type(authorizer)=<class 'globus_sdk.authorizers.base.NullAuthorizer'>\n"
     ]
    }
   ],
   "source": [
    "cache_dir = Path.home() / '/data'\n",
    "working_dir = Path.home() / '/data'\n",
    "EA = EyeAI(hostname = host, catalog_id = catalog_id, cache_dir= cache_dir, working_dir=working_dir)"
   ]
  },
  {
   "cell_type": "markdown",
   "id": "b2006ce9-6ca1-402d-b9ad-8853b85509cf",
   "metadata": {},
   "source": [
    "# Configuration"
   ]
  },
  {
   "cell_type": "code",
   "execution_count": null,
   "id": "8f92f4b0-438a-4e57-9edf-76d7f655f82b",
   "metadata": {
    "scrolled": true
   },
   "outputs": [],
   "source": [
    "# Add Workflow Vocab terms\n",
    "EA.add_term(vc.workflow_type, \"Test Workflow\", description=\"A test Workflow for new DM\")\n",
    "# Workflow instance\n",
    "test_workflow = Workflow(\n",
    "    name=\"Test New Workflow_LAC\",\n",
    "    url=\"https://github.com/informatics-isi-edu/eye-ai-exec/blob/main/notebooks/templates/template_lac.ipynb\",\n",
    "    workflow_type=\"Test Workflow\"\n",
    ")\n",
    "# Configuration instance\n",
    "config = ExecutionConfiguration(\n",
    "    bdbags=['2-7K8W'],\n",
    "    models = ['2-4JR6'],\n",
    "    execution=Execution(description=\"Sample Test Execution\"),\n",
    "    workflow=test_workflow,\n",
    "    description=\"Our Test Workflow instance\")\n",
    "# Initialize execution\n",
    "configuration_record = EA.initialize_execution(config)\n",
    "execution_rid = configuration_record.execution_rid"
   ]
  },
  {
   "cell_type": "code",
   "execution_count": null,
   "id": "184cb7a9-b7ad-440b-b115-bb5831c92bad",
   "metadata": {},
   "outputs": [],
   "source": [
    "print(configuration_record)"
   ]
  },
  {
   "cell_type": "markdown",
   "id": "c97e75f7-8eb7-490c-8ba7-0e00d738a723",
   "metadata": {},
   "source": [
    "# Create DatasetBag"
   ]
  },
  {
   "cell_type": "code",
   "execution_count": null,
   "id": "64273618-87e3-40ed-8e39-a8d176728fb0",
   "metadata": {},
   "outputs": [],
   "source": [
    "ds_bag = DatasetBag(configuration_record.bag_paths[0])"
   ]
  },
  {
   "cell_type": "markdown",
   "id": "2505089f-a9d0-4891-87a3-9ba93c96a76b",
   "metadata": {},
   "source": [
    "# Feature Manipulation"
   ]
  },
  {
   "cell_type": "markdown",
   "id": "e99a6a6f-2bbd-42e8-85ca-6ba406b06da7",
   "metadata": {},
   "source": [
    "### Find Features associated with a table"
   ]
  },
  {
   "cell_type": "code",
   "execution_count": null,
   "id": "6fbcc859-b092-4213-a693-06edaa044c10",
   "metadata": {},
   "outputs": [],
   "source": [
    "EA.find_features('Image')"
   ]
  },
  {
   "cell_type": "markdown",
   "id": "c739c6c4-1733-46be-8064-236e7cbdad13",
   "metadata": {},
   "source": [
    "### Instanciate a Feature"
   ]
  },
  {
   "cell_type": "code",
   "execution_count": null,
   "id": "89977e07-07e3-418d-8827-0976a83b7238",
   "metadata": {},
   "outputs": [],
   "source": [
    "ImageAnnotationFeature =  EA.feature_record_class(\"Image\", \"Annotation\")\n",
    "DiagnosisFeature = EA.feature_record_class(\"Image\", \"Image_Diagnosis\")"
   ]
  },
  {
   "cell_type": "markdown",
   "id": "399b2b0c-a97e-4dc3-bb33-50cf4d2ae6b7",
   "metadata": {},
   "source": [
    "### Create a new tag before feature ingestion (if needed)"
   ]
  },
  {
   "cell_type": "code",
   "execution_count": null,
   "id": "329d5ebe-78f5-49c0-b802-0788717db01c",
   "metadata": {},
   "outputs": [],
   "source": [
    "EA.add_term(\"Diagnosis_Tag\", \"test_feature\", description=\"test feature ingestion routine\")"
   ]
  },
  {
   "cell_type": "markdown",
   "id": "379eaeeb-6fcc-4363-835d-dce3c57463f4",
   "metadata": {},
   "source": [
    "### Crop Image by bounding box\n"
   ]
  },
  {
   "cell_type": "code",
   "execution_count": 6,
   "id": "ce810c22-62f6-427d-9334-f988a24c065a",
   "metadata": {},
   "outputs": [
    {
     "ename": "NameError",
     "evalue": "name 'configuration_record' is not defined",
     "output_type": "error",
     "traceback": [
      "\u001b[0;31m---------------------------------------------------------------------------\u001b[0m",
      "\u001b[0;31mNameError\u001b[0m                                 Traceback (most recent call last)",
      "Cell \u001b[0;32mIn[6], line 1\u001b[0m\n\u001b[0;32m----> 1\u001b[0m bb_csv_path, bb_asset_paths \u001b[38;5;241m=\u001b[39m \u001b[43mconfiguration_record\u001b[49m\u001b[38;5;241m.\u001b[39mfeature_paths(\u001b[38;5;124m'\u001b[39m\u001b[38;5;124mImage\u001b[39m\u001b[38;5;124m'\u001b[39m, \u001b[38;5;124m'\u001b[39m\u001b[38;5;124mAnnotation\u001b[39m\u001b[38;5;124m'\u001b[39m)\n\u001b[1;32m      2\u001b[0m bounding_box_files \u001b[38;5;241m=\u001b[39m [bb_asset_paths[\u001b[38;5;124m'\u001b[39m\u001b[38;5;124mBoundingBox\u001b[39m\u001b[38;5;124m'\u001b[39m] \u001b[38;5;241m/\u001b[39m \u001b[38;5;124mf\u001b[39m\u001b[38;5;124m\"\u001b[39m\u001b[38;5;124mbox\u001b[39m\u001b[38;5;132;01m{\u001b[39;00mi\u001b[38;5;132;01m}\u001b[39;00m\u001b[38;5;124m.txt\u001b[39m\u001b[38;5;124m\"\u001b[39m \u001b[38;5;28;01mfor\u001b[39;00m i \u001b[38;5;129;01min\u001b[39;00m \u001b[38;5;28mrange\u001b[39m(\u001b[38;5;241m10\u001b[39m)]\n\u001b[1;32m      3\u001b[0m \u001b[38;5;28;01mfor\u001b[39;00m i \u001b[38;5;129;01min\u001b[39;00m \u001b[38;5;28mrange\u001b[39m(\u001b[38;5;241m10\u001b[39m):\n",
      "\u001b[0;31mNameError\u001b[0m: name 'configuration_record' is not defined"
     ]
    }
   ],
   "source": [
    "    bb_csv_path, bb_asset_paths = configuration_record.feature_paths('Image', 'Annotation')\n",
    "    bounding_box_files = [bb_asset_paths['BoundingBox'] / f\"box{i}.txt\" for i in range(10)]\n",
    "    for i in range(10):\n",
    "        bounding_box_files.append(fn := bb_asset_paths['BoundingBox'] / f\"box{i}.txt\")\n",
    "        with builtins.open(fn, \"w\") as fp:\n",
    "            fp.write(f\"Hi there {i}\")\n",
    "\n",
    "    image_bounding_box_feature_list = [ImageBoundingboxFeature(Image=image_rid,\n",
    "                                                               Execution=fs_execution.execution_rid,\n",
    "                                                               BoundingBox=asset_rid)\n",
    "                                       for image_rid, asset_rid in zip(image_rids, itertools.cycle(bounding_box_files))]"
   ]
  },
  {
   "cell_type": "markdown",
   "id": "cd00028e-0137-4237-a185-afce6bf7d799",
   "metadata": {},
   "source": [
    "# Execution of ML"
   ]
  },
  {
   "cell_type": "code",
   "execution_count": null,
   "id": "5b2174a3-735f-4f07-a77c-fc08496d596e",
   "metadata": {},
   "outputs": [],
   "source": [
    "with EA.execution(configuration=configuration_record) as exec:\n",
    "    print(\"An ML Execution.\") "
   ]
  },
  {
   "cell_type": "markdown",
   "id": "1d3588de-cd3a-4c87-993b-cc0e5025a91f",
   "metadata": {},
   "source": [
    "# Upload results"
   ]
  },
  {
   "cell_type": "code",
   "execution_count": null,
   "id": "f27d4849-0230-4722-afa5-47f03a9d90a2",
   "metadata": {
    "scrolled": true
   },
   "outputs": [],
   "source": [
    "# crete asset path\n",
    "asset_type_name = \"\"\n",
    "asset_path = configuration_record.execution_assets_path(asset_type_name)\n",
    "# save assets to asset_path\n",
    "\n",
    "\n",
    "# upload assets to catalog\n",
    "EA.upload_execution(configuration_record, True)"
   ]
  },
  {
   "cell_type": "code",
   "execution_count": null,
   "id": "aaf78fd5-8f9e-4abf-a946-c716b9c86ddd",
   "metadata": {},
   "outputs": [],
   "source": []
  }
 ],
 "metadata": {
  "kernelspec": {
   "display_name": "My Tensorflow",
   "language": "python",
   "name": "my-tensorflow"
  },
  "language_info": {
   "codemirror_mode": {
    "name": "ipython",
    "version": 3
   },
   "file_extension": ".py",
   "mimetype": "text/x-python",
   "name": "python",
   "nbconvert_exporter": "python",
   "pygments_lexer": "ipython3",
   "version": "3.10.13"
  }
 },
 "nbformat": 4,
 "nbformat_minor": 5
}
