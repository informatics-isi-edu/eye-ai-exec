{
 "cells": [
  {
   "cell_type": "code",
   "execution_count": null,
   "id": "initial_id",
   "metadata": {},
   "outputs": [],
   "source": [
    "from eye_ai.eye_ai import EyeAI\n",
    "from deriva_ml import DatasetBag\n",
    "from deriva.core.utils.globus_auth_utils import GlobusNativeLogin\n",
    "\n",
    "from pathlib import Path"
   ]
  },
  {
   "cell_type": "code",
   "execution_count": null,
   "id": "a0cf738321228972",
   "metadata": {},
   "outputs": [],
   "source": [
    "host = 'www.eye-ai.org'\n",
    "catalog_id = \"eye-ai\"\n",
    "\n",
    "gnl = GlobusNativeLogin(host=host)\n",
    "if gnl.is_logged_in([host]):\n",
    "    print(\"You are already logged in.\")\n",
    "else:\n",
    "    gnl.login([host], no_local_server=True, no_browser=True, refresh_tokens=True, update_bdbag_keychain=True)\n",
    "    print(\"Login Successful\")"
   ]
  },
  {
   "cell_type": "code",
   "execution_count": null,
   "id": "dfa5d6a335273bad",
   "metadata": {},
   "outputs": [],
   "source": [
    "cache_dir = 'data'\n",
    "working_dir = 'data'\n",
    "EA = EyeAI(hostname = host, catalog_id = catalog_id, cache_dir= cache_dir, working_dir=working_dir)"
   ]
  },
  {
   "cell_type": "code",
   "execution_count": null,
   "id": "6b102cd9154c74c6",
   "metadata": {},
   "outputs": [],
   "source": [
    "# Change this to be the RID of the desired dataset.\n",
    "DATASET_RID = '2-C9KE'\n",
    "bag_path, bag_rid = EA.download_dataset_bag(DATASET_RID)\n",
    "dataset_bag = DatasetBag(bag_path)"
   ]
  },
  {
   "cell_type": "code",
   "execution_count": null,
   "id": "294601f7ad5507e4",
   "metadata": {},
   "outputs": [],
   "source": [
    "df = EA.multimodal_wide(dataset_bag)\n",
    "display(df)"
   ]
  }
 ],
 "metadata": {
  "language_info": {
   "name": "python"
  }
 },
 "nbformat": 4,
 "nbformat_minor": 5
}
