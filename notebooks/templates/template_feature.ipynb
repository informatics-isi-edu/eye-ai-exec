{
 "cells": [
  {
   "cell_type": "code",
   "execution_count": null,
   "id": "8499060d-4de0-4ab1-bf23-8f766d24dd5e",
   "metadata": {},
   "outputs": [],
   "source": [
    "# Prerequisites\n",
    "import json\n",
    "import os\n",
    "from eye_ai.eye_ai import EyeAI\n",
    "from deriva_ml.dataset_bag import DatasetBag\n",
    "\n",
    "import pandas as pd\n",
    "from pathlib import Path, PurePath\n",
    "import logging\n",
    "\n",
    "from deriva_ml import DatasetBag, Workflow, ExecutionConfiguration\n",
    "from deriva_ml import MLVocab as vc\n",
    "from deriva_ml.deriva_definitions import ColumnDefinition, BuiltinTypes\n",
    "logging.basicConfig(level=logging.INFO, format='%(asctime)s - %(levelname)s - %(message)s', force=True)"
   ]
  },
  {
   "cell_type": "code",
   "execution_count": null,
   "id": "1f254b11-9f01-4185-95a0-cd7f80995c2f",
   "metadata": {},
   "outputs": [],
   "source": [
    "# Login\n",
    "from deriva.core.utils.globus_auth_utils import GlobusNativeLogin\n",
    "# host = 'www.eye-ai.org'\n",
    "host = 'dev.eye-ai.org'\n",
    "catalog_id = \"eye-ai\"\n",
    "\n",
    "gnl = GlobusNativeLogin(host=host)\n",
    "if gnl.is_logged_in([host]):\n",
    "    print(\"You are already logged in.\")\n",
    "else:\n",
    "    gnl.login([host], no_local_server=True, no_browser=True, refresh_tokens=True, update_bdbag_keychain=True)\n",
    "    print(\"Login Successful\")"
   ]
  },
  {
   "cell_type": "code",
   "execution_count": null,
   "id": "3a40db10-6f64-4b6e-a22d-3c7011e2a3fa",
   "metadata": {},
   "outputs": [],
   "source": [
    "cache_dir = '/data'\n",
    "working_dir = '/data'\n",
    "EA = EyeAI(hostname = host, catalog_id = catalog_id, cache_dir= cache_dir, working_dir=working_dir)"
   ]
  },
  {
   "cell_type": "markdown",
   "id": "b2006ce9-6ca1-402d-b9ad-8853b85509cf",
   "metadata": {},
   "source": [
    "# Configuration"
   ]
  },
  {
   "cell_type": "code",
   "execution_count": null,
   "id": "8f92f4b0-438a-4e57-9edf-76d7f655f82b",
   "metadata": {},
   "outputs": [],
   "source": [
    "EA.add_term(vc.workflow_type, \"Test Workflow\", description=\"A test Workflow for new DM\")\n",
    "\n",
    "workflow_instance = EA.create_workflow(\n",
    "    name=\"Feature creation template\",\n",
    "    workflow_type=\"Test Workflow\",\n",
    ")\n",
    "\n",
    "config = ExecutionConfiguration(\n",
    "    # Comment out the following line if you don't need the assets.\n",
    "    # datasets=[DatasetSpec(rid='2-277M', version=EA.dataset_version('2-277M'), materialize=False)],\n",
    "    # assets=[],\n",
    "    workflow= workflow_instance, \n",
    "    description=\"Template instance of a feature creation workflow.\")\n",
    "\n",
    "execution = EA.create_execution(config)"
   ]
  },
  {
   "cell_type": "code",
   "execution_count": null,
   "id": "184cb7a9-b7ad-440b-b115-bb5831c92bad",
   "metadata": {},
   "outputs": [],
   "source": [
    "print(execution)"
   ]
  },
  {
   "cell_type": "markdown",
   "id": "2505089f-a9d0-4891-87a3-9ba93c96a76b",
   "metadata": {},
   "source": [
    "# Create Feature"
   ]
  },
  {
   "cell_type": "code",
   "execution_count": null,
   "id": "89977e07-07e3-418d-8827-0976a83b7238",
   "metadata": {},
   "outputs": [],
   "source": [
    "# template\n",
    "new_feature = EA.create_feature(target_table=\"The table name that feature attached to\",\n",
    "                                feature_name = \"The Name of the feature\", \n",
    "                                terms = [\"Table name of the cv columns\"], \n",
    "                                metadata = [\"List of other value types that are associated with the feature\"],\n",
    "                                comment=\"Any comments\")\n",
    "\n",
    "# E.g. Feature table with predicted probabilities of each category\n",
    "column_angle1 = ColumnDefinition(name='1', type=BuiltinTypes.float4)\n",
    "column_angle2 = ColumnDefinition(name='2', type=BuiltinTypes.float4)\n",
    "column_angle3 = ColumnDefinition(name='3', type=BuiltinTypes.float4)\n",
    "feature_image_angle = EA.create_feature(target_table=\"Image\",\n",
    "                                        feature_name = \"Fundus_Angle\", \n",
    "                                        metadata = [column_angle1, column_angle2, column_angle3],\n",
    "                                        comment=\"Angle of fundus images\")                       \n",
    "# E.g. Feature table with predicted cv terms\n",
    "feature_image_laterality = EA.create_feature(target_table=\"Image\",\n",
    "                                             feature_name = \"Fundus_Laterality\",\n",
    "                                             terms = [\"Image_Side_Vocab\"], \n",
    "                                             comment=\"Lateraliity of fundus images\")"
   ]
  },
  {
   "cell_type": "markdown",
   "id": "399b2b0c-a97e-4dc3-bb33-50cf4d2ae6b7",
   "metadata": {},
   "source": [
    "# Retrive a feature"
   ]
  },
  {
   "cell_type": "code",
   "execution_count": null,
   "id": "f2acb429-5344-4fb6-bfca-4f1cd8f9c480",
   "metadata": {},
   "outputs": [],
   "source": [
    "# Find all the features that attached to a table\n",
    "table_name = \"Image\"\n",
    "EA.find_features(table_name)"
   ]
  },
  {
   "cell_type": "code",
   "execution_count": null,
   "id": "fc4d7035-7486-4b10-8d55-8f7f79be7adc",
   "metadata": {},
   "outputs": [],
   "source": [
    "feature_name = 'Fundus_Angle'\n",
    "Feature = EA.feature_record_class(table_name, feature_name)"
   ]
  },
  {
   "cell_type": "code",
   "execution_count": null,
   "id": "08712c2a-102b-4c2a-9f3f-2594381bbd9e",
   "metadata": {},
   "outputs": [],
   "source": [
    "from IPython.display import Markdown, display"
   ]
  },
  {
   "cell_type": "code",
   "execution_count": null,
   "id": "9085366f-fb19-4c27-8578-3ef9d2685cce",
   "metadata": {},
   "outputs": [],
   "source": [
    "# display all the columns in a feature table\n",
    "display(\n",
    "    Markdown('### Feature Name'),\n",
    "    [ f'Name: {c.name}, Required: {not c.nullok}' for c in Feature.feature.feature_columns]\n",
    ")"
   ]
  },
  {
   "cell_type": "code",
   "execution_count": null,
   "id": "516d594d-1e56-4252-aa19-36b8e1a37278",
   "metadata": {},
   "outputs": [],
   "source": [
    "cl = [c for c in Feature.feature.feature_columns]\n",
    "help(cl[0].type)\n"
   ]
  },
  {
   "cell_type": "markdown",
   "id": "f3762ce7-eea2-44fe-bb5c-0b3133add96a",
   "metadata": {},
   "source": [
    "# Ingest new values to a feature table"
   ]
  },
  {
   "cell_type": "markdown",
   "id": "07ca8940-ed1b-4269-8541-351173c9ff91",
   "metadata": {},
   "source": [
    "## Feature with only values"
   ]
  },
  {
   "cell_type": "code",
   "execution_count": null,
   "id": "380ef536-1e01-4738-a92b-399af8f7928f",
   "metadata": {},
   "outputs": [],
   "source": [
    "# Format ingestion values\n",
    "diag_feature_list = [Feature(\n",
    "    Execution=configuration_record.execution_rid,\n",
    "    Image= image_rid,\n",
    "    col1 = ,\n",
    "    col2 = ,\n",
    "    Feature_Name = feature_name,\n",
    "    ) for image_rid in image_rid_list]\n",
    "\n",
    "# E.g. Diagnosis \n",
    "diag_feature_list = [DiagnosisFeature(\n",
    "    Execution=configuration_record.execution_rid,\n",
    "    Image= image_rid,\n",
    "    Diagnosis_Image= [\"No Glaucoma\", \"Suspected Glaucoma\", \"Unknown\"][random.randint(0,2)],\n",
    "    Image_Quality= [\"Good\", \"Bad\", \"Unknown\"][random.randint(0,2)],\n",
    "    Feature_Name = \"Diagnosis\",\n",
    "    Cup_Disk_Ratio = 0.9000,\n",
    "    Diagnosis_Tag = \"test_feature\") for image_rid in ['2-BDAM', '2-BDAP', '2-BDAR']]\n",
    "\n",
    "# Ingest new values to the feature table\n",
    "EA.add_features(diag_feature_list)"
   ]
  },
  {
   "cell_type": "markdown",
   "id": "987d70de-a4a2-4987-9c94-03054d750dfd",
   "metadata": {},
   "source": [
    "## Feature with assets"
   ]
  },
  {
   "cell_type": "code",
   "execution_count": null,
   "id": "e384b476-17bc-4c8c-928f-2c7f0c64acf3",
   "metadata": {},
   "outputs": [],
   "source": [
    "ImageBoundingboxFeature = EA.feature_record_class(\"Image\", feature_name)\n",
    "# get the dir for saving feature assets and feature file.\n",
    "bb_csv_path, bb_asset_paths = fs_execution.feature_paths('Image', 'BoundingBox')\n",
    "\n",
    "# save the feature asset to the feature dir\n",
    "bounding_box_files = [bb_asset_paths['BoundingBox'] / f\"box{i}.txt\" for i in range(10)]\n",
    "\n",
    "image_bounding_box_feature_list = [ImageBoundingboxFeature(Image=image_rid,\n",
    "                                                           Execution=fs_execution.execution_rid,\n",
    "                                                           BoundingBox=asset_dir_name,\n",
    "                                                           Annotation_Function = 'Optic Nerve',\n",
    "                                                          # ....\n",
    "                                                          # Find all the columns for a feature from Feature.feature.feature_columns\n",
    "                                                          # see section Retrieve a feature)\n",
    "                                       for image_rid, asset_dir_name in zip(image_rids, itertools.cycle(bounding_box_files))]\n",
    "\n",
    "execution.write_feature_file(image_bounding_box_feature_list)\n",
    "execution.upload_execution_outputs()"
   ]
  }
 ],
 "metadata": {
  "kernelspec": {
   "display_name": "My TensorFlow (Conda)",
   "language": "python",
   "name": "my-tensorflow-conda"
  },
  "language_info": {
   "codemirror_mode": {
    "name": "ipython",
    "version": 3
   },
   "file_extension": ".py",
   "mimetype": "text/x-python",
   "name": "python",
   "nbconvert_exporter": "python",
   "pygments_lexer": "ipython3",
   "version": "3.10.13"
  }
 },
 "nbformat": 4,
 "nbformat_minor": 5
}
