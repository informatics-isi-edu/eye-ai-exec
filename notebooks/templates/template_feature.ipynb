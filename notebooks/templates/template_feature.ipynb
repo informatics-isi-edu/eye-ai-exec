{
 "cells": [
  {
   "cell_type": "code",
   "execution_count": null,
   "id": "8499060d-4de0-4ab1-bf23-8f766d24dd5e",
   "metadata": {},
   "outputs": [],
   "source": [
    "# Prerequisites\n",
    "import json\n",
    "import os\n",
    "from eye_ai.eye_ai import EyeAI\n",
    "from deriva_ml.dataset_bag import DatasetBag\n",
    "\n",
    "import pandas as pd\n",
    "from pathlib import Path, PurePath\n",
    "import logging\n",
    "\n",
    "from deriva_ml.deriva_ml_base import MLVocab as vc\n",
    "from deriva_ml.execution_configuration import ExecutionConfiguration, Workflow, Execution\n",
    "logging.basicConfig(level=logging.INFO, format='%(asctime)s - %(levelname)s - %(message)s', force=True)"
   ]
  },
  {
   "cell_type": "code",
   "execution_count": null,
   "id": "1f254b11-9f01-4185-95a0-cd7f80995c2f",
   "metadata": {},
   "outputs": [],
   "source": [
    "# Login\n",
    "from deriva.core.utils.globus_auth_utils import GlobusNativeLogin\n",
    "# host = 'www.eye-ai.org'\n",
    "host = 'dev.eye-ai.org'\n",
    "catalog_id = \"eye-ai\"\n",
    "\n",
    "gnl = GlobusNativeLogin(host=host)\n",
    "if gnl.is_logged_in([host]):\n",
    "    print(\"You are already logged in.\")\n",
    "else:\n",
    "    gnl.login([host], no_local_server=True, no_browser=True, refresh_tokens=True, update_bdbag_keychain=True)\n",
    "    print(\"Login Successful\")"
   ]
  },
  {
   "cell_type": "code",
   "execution_count": null,
   "id": "3a40db10-6f64-4b6e-a22d-3c7011e2a3fa",
   "metadata": {},
   "outputs": [],
   "source": [
    "cache_dir = '/data'\n",
    "working_dir = '/data'\n",
    "EA = EyeAI(hostname = host, catalog_id = catalog_id, cache_dir= cache_dir, working_dir=working_dir)"
   ]
  },
  {
   "cell_type": "markdown",
   "id": "b2006ce9-6ca1-402d-b9ad-8853b85509cf",
   "metadata": {},
   "source": [
    "# Configuration"
   ]
  },
  {
   "cell_type": "code",
   "execution_count": null,
   "id": "8f92f4b0-438a-4e57-9edf-76d7f655f82b",
   "metadata": {},
   "outputs": [],
   "source": [
    "# Add Workflow Vocab terms\n",
    "EA.add_term(vc.workflow_type, \"Test Workflow\", description=\"A test Workflow for new DM\")\n",
    "# Workflow instance\n",
    "test_workflow = Workflow(\n",
    "    name=\"Test New Workflow_LAC\",\n",
    "    url=\"https://github.com/informatics-isi-edu/eye-ai-exec/blob/main/notebooks/templates/template_lac.ipynb\",\n",
    "    workflow_type=\"Test Workflow\"\n",
    ")\n",
    "# Configuration instance\n",
    "config = ExecutionConfiguration(\n",
    "    bdbags=['2-7K8W'],\n",
    "    models = ['2-4JR6'],\n",
    "    execution=Execution(description=\"Sample Test Execution\"),\n",
    "    workflow=test_workflow,\n",
    "    description=\"Our Test Workflow instance\")\n",
    "# Initialize execution\n",
    "configuration_record = EA.initialize_execution(config)\n",
    "execution_rid = configuration_record.execution_rid"
   ]
  },
  {
   "cell_type": "code",
   "execution_count": null,
   "id": "184cb7a9-b7ad-440b-b115-bb5831c92bad",
   "metadata": {},
   "outputs": [],
   "source": [
    "print(configuration_record)"
   ]
  },
  {
   "cell_type": "markdown",
   "id": "c97e75f7-8eb7-490c-8ba7-0e00d738a723",
   "metadata": {},
   "source": [
    "# Create DatasetBag"
   ]
  },
  {
   "cell_type": "code",
   "execution_count": null,
   "id": "64273618-87e3-40ed-8e39-a8d176728fb0",
   "metadata": {},
   "outputs": [],
   "source": [
    "ds_bag = DatasetBag(configuration_record.bag_paths[0])"
   ]
  },
  {
   "cell_type": "markdown",
   "id": "2505089f-a9d0-4891-87a3-9ba93c96a76b",
   "metadata": {},
   "source": [
    "# Create Feature"
   ]
  },
  {
   "cell_type": "code",
   "execution_count": null,
   "id": "89977e07-07e3-418d-8827-0976a83b7238",
   "metadata": {},
   "outputs": [],
   "source": [
    "new_feature = EA.create_feature(feature_name = \"The Name of the feature\", \n",
    "                                table = \"The table name that feature attached to\", \n",
    "                                terms = [\"Table name of the cv columns\"], \n",
    "                                comment=\"Any comments\")\n",
    "\n",
    "feature_image_angle = EA.create_feature(feature_name = \"Fundus_Angle\", table = \"Image\", \n",
    "                                        terms = [\"Image_Angle_Vocab\"], comment=\"Angle of fundus images\")\n",
    "feature_image_laterality = EA.create_feature(feature_name = \"Fundus_Laterality\", table = \"Image\", \n",
    "                                             terms = [\"Image_Side_Vocab\"], comment=\"Lateraliity of fundus images\")"
   ]
  },
  {
   "cell_type": "markdown",
   "id": "399b2b0c-a97e-4dc3-bb33-50cf4d2ae6b7",
   "metadata": {},
   "source": [
    "# Retrive a feature"
   ]
  },
  {
   "cell_type": "code",
   "execution_count": null,
   "id": "f2acb429-5344-4fb6-bfca-4f1cd8f9c480",
   "metadata": {},
   "outputs": [],
   "source": [
    "# Find all the features that attached to a table\n",
    "EA.find_features(table_name)"
   ]
  },
  {
   "cell_type": "code",
   "execution_count": null,
   "id": "fc4d7035-7486-4b10-8d55-8f7f79be7adc",
   "metadata": {},
   "outputs": [],
   "source": [
    "Feature = EA.feature_record_class(table_name, feature_name)"
   ]
  },
  {
   "cell_type": "code",
   "execution_count": null,
   "id": "9085366f-fb19-4c27-8578-3ef9d2685cce",
   "metadata": {},
   "outputs": [],
   "source": [
    "# display all the columns in a feature table\n",
    "display(\n",
    "    Markdown('### Feature Name'),\n",
    "    [ f'Name: {c.name} Required {not c.nullok}' for c in DiagnosisFeature.feature.feature_columns]\n",
    ")"
   ]
  },
  {
   "cell_type": "markdown",
   "id": "f3762ce7-eea2-44fe-bb5c-0b3133add96a",
   "metadata": {},
   "source": [
    "# Ingest new values to a feature table"
   ]
  },
  {
   "cell_type": "code",
   "execution_count": null,
   "id": "380ef536-1e01-4738-a92b-399af8f7928f",
   "metadata": {},
   "outputs": [],
   "source": [
    "# Format ingestion values\n",
    "diag_feature_list = [Feature(\n",
    "    Execution=configuration_record.execution_rid,\n",
    "    Image= image_rid,\n",
    "    col1 = ,\n",
    "    col2 = ,\n",
    "    Feature_Name = feature_name,\n",
    "    ) for image_rid in image_rid_list]\n",
    "\n",
    "# E.g. Diagnosis \n",
    "diag_feature_list = [DiagnosisFeature(\n",
    "    Execution=configuration_record.execution_rid,\n",
    "    Image= image_rid,\n",
    "    Diagnosis_Image= [\"No Glaucoma\", \"Suspected Glaucoma\", \"Unknown\"][random.randint(0,2)],\n",
    "    Image_Quality= [\"Good\", \"Bad\", \"Unknown\"][random.randint(0,2)],\n",
    "    Feature_Name = \"Diagnosis\",\n",
    "    Cup_Disk_Ratio = 0.9000,\n",
    "    Diagnosis_Tag = \"test_feature\") for image_rid in ['2-BDAM', '2-BDAP', '2-BDAR']]"
   ]
  },
  {
   "cell_type": "code",
   "execution_count": null,
   "id": "4fae5776-6756-451d-9b28-a56c82defdf6",
   "metadata": {},
   "outputs": [],
   "source": [
    "# Ingest new values to the feature table\n",
    "EA.add_features(diag_feature_list)"
   ]
  },
  {
   "cell_type": "markdown",
   "id": "1d3588de-cd3a-4c87-993b-cc0e5025a91f",
   "metadata": {},
   "source": [
    "# Upload results"
   ]
  },
  {
   "cell_type": "code",
   "execution_count": null,
   "id": "f27d4849-0230-4722-afa5-47f03a9d90a2",
   "metadata": {},
   "outputs": [],
   "source": [
    "# crete asset path\n",
    "asset_type_name = \"\"\n",
    "asset_path = configuration_record.execution_assets_path(asset_type_name)\n",
    "# save assets to asset_path\n",
    "\n",
    "\n",
    "# upload assets to catalog\n",
    "EA.upload_execution(configuration_record, True)"
   ]
  },
  {
   "cell_type": "code",
   "execution_count": null,
   "id": "aaf78fd5-8f9e-4abf-a946-c716b9c86ddd",
   "metadata": {},
   "outputs": [],
   "source": []
  }
 ],
 "metadata": {
  "language_info": {
   "name": "python"
  }
 },
 "nbformat": 4,
 "nbformat_minor": 5
}
