{
 "cells": [
  {
   "cell_type": "code",
   "execution_count": null,
   "id": "883e2ca4-aeb2-4d6e-b0ed-15e227e96ad8",
   "metadata": {},
   "outputs": [],
   "source": [
    "# Prerequisites\n",
    "import json\n",
    "import os\n",
    "from eye_ai.eye_ai import EyeAI\n",
    "\n",
    "import pandas as pd\n",
    "from pathlib import Path, PurePath\n",
    "import logging\n",
    "\n",
    "from deriva_ml import DatasetSpec, DatasetBag, Workflow, ExecutionConfiguration, VersionPart\n",
    "from deriva_ml import MLVocab as vc\n",
    "logging.basicConfig(level=logging.INFO, format='%(asctime)s - %(levelname)s - %(message)s', force=True)"
   ]
  },
  {
   "cell_type": "code",
   "execution_count": null,
   "id": "39f5321f-73c0-4087-8849-fc20098bd891",
   "metadata": {},
   "outputs": [],
   "source": [
    "# Login\n",
    "from deriva.core.utils.globus_auth_utils import GlobusNativeLogin\n",
    "# host = 'www.eye-ai.org'\n",
    "host = 'dev.eye-ai.org'\n",
    "catalog_id = \"eye-ai\"\n",
    "\n",
    "gnl = GlobusNativeLogin(host=host)\n",
    "if gnl.is_logged_in([host]):\n",
    "    print(\"You are already logged in.\")\n",
    "else:\n",
    "    gnl.login([host], no_local_server=True, no_browser=True, refresh_tokens=True, update_bdbag_keychain=True)\n",
    "    print(\"Login Successful\")"
   ]
  },
  {
   "cell_type": "code",
   "execution_count": null,
   "id": "d9629016-a453-4404-956f-f1b116d40624",
   "metadata": {},
   "outputs": [],
   "source": [
    "cache_dir = '/data'\n",
    "working_dir = '/data'\n",
    "EA = EyeAI(hostname = host, catalog_id = catalog_id, cache_dir= cache_dir, working_dir=working_dir)"
   ]
  },
  {
   "cell_type": "code",
   "execution_count": null,
   "id": "ef8b2414-d30c-4a67-a7f1-66c3a025702a",
   "metadata": {
    "scrolled": true
   },
   "outputs": [],
   "source": [
    "# RID of source dataset, if any.\n",
    "source_dataset = '6-ACEJ' # Prod '4-YZPA' test'5-2GGR' Dev '5-YSK2' test'6-ACAJ'\n",
    "\n",
    "EA.add_term(vc.workflow_type, \"Test Workflow\", description=\"A test Workflow for new DM\")\n",
    "# Workflow instance\n",
    "workflow_instance = EA.create_workflow(\n",
    "    name=\"AI-Readi data template\",\n",
    "    workflow_type=\"Test Workflow\",\n",
    ")\n",
    "\n",
    "# Configuration instance.\n",
    "config = ExecutionConfiguration(\n",
    "    datasets=[DatasetSpec(rid=source_dataset, version=EA.dataset_version(source_dataset), materialize=True)],\n",
    "    # Materialize set to False if you only need the metadata from the bag, and not the assets,\n",
    "    workflow=workflow_instance,\n",
    "    description=\"Template instance of an AI-Readi data workflow\")\n",
    "\n",
    "# Initialize execution\n",
    "execution = EA.create_execution(config)\n"
   ]
  },
  {
   "cell_type": "code",
   "execution_count": null,
   "id": "ae661fad-ae8c-4644-b0da-3fc4d45381bb",
   "metadata": {},
   "outputs": [],
   "source": [
    "ds_bag = execution.datasets[0]"
   ]
  },
  {
   "cell_type": "code",
   "execution_count": null,
   "id": "7aac6657-b6c8-4ebe-9de5-0110afe236c1",
   "metadata": {},
   "outputs": [],
   "source": [
    "sys_col = ['RMB', 'RCB', 'RMT', 'RCT']\n",
    "subject = ds_bag.get_table_as_dataframe('Subject').drop(columns=sys_col).rename(columns={'RID': 'Subject'})\n",
    "subject\n",
    "observation = ds_bag.get_table_as_dataframe('Observation').drop(columns=sys_col).rename(columns={'RID': 'Observation',\n",
    "                                                                                                'Date_of_Encoutner': 'Date_of_Encoutner_Observation'})\n",
    "image = ds_bag.get_table_as_dataframe('Image').drop(columns=sys_col).rename(columns={'RID': 'Image',\n",
    "                                                                                    'Date_of_Encoutner': 'Date_of_Encoutner_Image'})\n",
    "device_detail = ds_bag.get_table_as_dataframe('Device').drop(columns=sys_col).rename(columns={'RID': 'Device'})\n",
    "clinic = ds_bag.get_table_as_dataframe('AIREADI_Clinical_Records').drop(columns=sys_col).rename(columns={'RID': 'Clinic',\n",
    "                                                                                                        'Date_of_Encounter': 'Date_of_Encoutner_Clinic'})"
   ]
  },
  {
   "cell_type": "code",
   "execution_count": null,
   "id": "f3cc5f33-df93-472e-8584-b68a2b6afbe1",
   "metadata": {},
   "outputs": [],
   "source": [
    "clinic"
   ]
  },
  {
   "cell_type": "code",
   "execution_count": null,
   "id": "ae68b5b5-254a-4cd0-a241-d39e813372d5",
   "metadata": {},
   "outputs": [],
   "source": [
    "wide = subject.merge(observation, on='Subject', how='left')\n",
    "wide = wide.merge(image, on='Observation', how='left')\n",
    "wide = wide.merge(clinic, on='Observation', how='left')\n",
    "# visit_occurance -> dateofencouter\n",
    "# visit_id -> Observation ID\n",
    "wide"
   ]
  },
  {
   "cell_type": "code",
   "execution_count": null,
   "id": "26838531-ea39-4783-b338-855b65389043",
   "metadata": {},
   "outputs": [],
   "source": [
    "\n",
    "execution.upload_execution_outputs(clean_folder=True)"
   ]
  },
  {
   "cell_type": "code",
   "execution_count": null,
   "id": "76d87eaa-98ce-4af1-820b-11208133051f",
   "metadata": {},
   "outputs": [],
   "source": []
  }
 ],
 "metadata": {
  "kernelspec": {
   "display_name": "My TensorFlow (Conda)",
   "language": "python",
   "name": "my-tensorflow-conda"
  },
  "language_info": {
   "codemirror_mode": {
    "name": "ipython",
    "version": 3
   },
   "file_extension": ".py",
   "mimetype": "text/x-python",
   "name": "python",
   "nbconvert_exporter": "python",
   "pygments_lexer": "ipython3",
   "version": "3.10.13"
  }
 },
 "nbformat": 4,
 "nbformat_minor": 5
}
