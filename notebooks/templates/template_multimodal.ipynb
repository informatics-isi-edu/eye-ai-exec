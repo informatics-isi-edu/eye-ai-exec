{
 "cells": [
  {
   "cell_type": "code",
   "execution_count": 1,
   "id": "003248d9-3365-4aaa-874a-858234cb2f86",
   "metadata": {},
   "outputs": [],
   "source": [
    "repo_dir = \"Repos\"   # Set this to be where your github repos are located.\n",
    "%load_ext autoreload\n",
    "%autoreload 2\n",
    "\n",
    "# Update the load path so python can find modules for the model\n",
    "import sys\n",
    "from pathlib import Path\n",
    "sys.path.insert(0, str(Path.home() / repo_dir / \"eye-ai-ml\"))\n",
    "sys.path.insert(0, str(Path.home() / repo_dir / \"deriva-ml\"))"
   ]
  },
  {
   "cell_type": "code",
   "execution_count": 2,
   "id": "8499060d-4de0-4ab1-bf23-8f766d24dd5e",
   "metadata": {},
   "outputs": [],
   "source": [
    "# Prerequisites\n",
    "\n",
    "import json\n",
    "import os\n",
    "from eye_ai.eye_ai import EyeAI\n",
    "from deriva_ml.dataset_bag import DatasetBag\n",
    "\n",
    "import pandas as pd\n",
    "from pathlib import Path, PurePath\n",
    "import logging\n",
    "\n",
    "from deriva_ml.deriva_ml_base import MLVocab as vc\n",
    "from deriva_ml.execution_configuration import ExecutionConfiguration, Workflow, Execution\n",
    "logging.basicConfig(level=logging.INFO, format='%(asctime)s - %(levelname)s - %(message)s', force=True)"
   ]
  },
  {
   "cell_type": "code",
   "execution_count": 3,
   "id": "1f254b11-9f01-4185-95a0-cd7f80995c2f",
   "metadata": {
    "scrolled": true
   },
   "outputs": [
    {
     "name": "stderr",
     "output_type": "stream",
     "text": [
      "2024-11-26 14:31:23,704 - INFO - Creating client of type <class 'globus_sdk.services.auth.client.native_client.NativeAppAuthClient'> for service \"auth\"\n",
      "2024-11-26 14:31:23,705 - INFO - Finished initializing AuthLoginClient. client_id='8ef15ba9-2b4a-469c-a163-7fd910c9d111', type(authorizer)=<class 'globus_sdk.authorizers.base.NullAuthorizer'>\n",
      "2024-11-26 14:31:23,706 - INFO - Setting up RefreshTokenAuthorizer with auth_client=[instance:140426036480368]\n",
      "2024-11-26 14:31:23,707 - INFO - Setting up a RenewingAuthorizer. It will use an auth type of Bearer and can handle 401s.\n",
      "2024-11-26 14:31:23,707 - INFO - RenewingAuthorizer will start by using access_token with hash \"0b928e6d0dfadd59785ee20ba0ffac77a9ed2033c98cd043b23f784d2ac0fd86\"\n",
      "2024-11-26 14:31:23,708 - INFO - Executing token refresh without client credentials\n",
      "2024-11-26 14:31:23,708 - INFO - Fetching new token from Globus Auth\n",
      "2024-11-26 14:31:24,128 - INFO - request done (success)\n",
      "2024-11-26 14:31:24,129 - INFO - RenewingAuthorizer.access_token updated to token with hash \"cdadec58e2d78d43790baab87b90dd3e1d8eb9a1b3e3080891102bd76c09e026\"\n",
      "2024-11-26 14:31:24,129 - INFO - Setting up RefreshTokenAuthorizer with auth_client=[instance:140426036480368]\n",
      "2024-11-26 14:31:24,130 - INFO - Setting up a RenewingAuthorizer. It will use an auth type of Bearer and can handle 401s.\n",
      "2024-11-26 14:31:24,131 - INFO - RenewingAuthorizer will start by using access_token with hash \"78fa2840d477fbf5e66002696141b71bf2dc0ee6f79a34c196b60a3b2d6dd866\"\n",
      "2024-11-26 14:31:24,131 - INFO - Executing token refresh without client credentials\n",
      "2024-11-26 14:31:24,132 - INFO - Fetching new token from Globus Auth\n",
      "2024-11-26 14:31:24,318 - INFO - request done (success)\n",
      "2024-11-26 14:31:24,319 - INFO - RenewingAuthorizer.access_token updated to token with hash \"bb93319a5aaa9576303011ea467e57323a4037473b9b7687ae6a6f866a4de266\"\n",
      "2024-11-26 14:31:24,319 - INFO - Setting up RefreshTokenAuthorizer with auth_client=[instance:140426036480368]\n",
      "2024-11-26 14:31:24,321 - INFO - Setting up a RenewingAuthorizer. It will use an auth type of Bearer and can handle 401s.\n",
      "2024-11-26 14:31:24,321 - INFO - RenewingAuthorizer will start by using access_token with hash \"4ab304cf1e42d452e36e351b342a3d7569416df454fdc27fff9cfae2eb37226f\"\n",
      "2024-11-26 14:31:24,322 - INFO - Executing token refresh without client credentials\n",
      "2024-11-26 14:31:24,322 - INFO - Fetching new token from Globus Auth\n",
      "2024-11-26 14:31:24,471 - INFO - request done (success)\n",
      "2024-11-26 14:31:24,472 - INFO - RenewingAuthorizer.access_token updated to token with hash \"19410df96aea936028d161aebce3ac083c3666cccd34c5af06522e0fce197c39\"\n"
     ]
    },
    {
     "name": "stdout",
     "output_type": "stream",
     "text": [
      "You are already logged in.\n"
     ]
    }
   ],
   "source": [
    "from deriva.core.utils.globus_auth_utils import GlobusNativeLogin\n",
    "host = 'dev.eye-ai.org'\n",
    "\n",
    "# host = 'www.eye-ai.org'\n",
    "catalog_id = \"eye-ai\"\n",
    "\n",
    "gnl = GlobusNativeLogin(host=host)\n",
    "if gnl.is_logged_in([host]):\n",
    "    print(\"You are already logged in.\")\n",
    "else:\n",
    "    gnl.login([host], no_local_server=True, no_browser=True, refresh_tokens=True, update_bdbag_keychain=True)\n",
    "    print(\"Login Successful\")"
   ]
  },
  {
   "cell_type": "code",
   "execution_count": 5,
   "id": "3a40db10-6f64-4b6e-a22d-3c7011e2a3fa",
   "metadata": {},
   "outputs": [
    {
     "name": "stderr",
     "output_type": "stream",
     "text": [
      "2024-11-26 15:00:50,171 - INFO - Creating client of type <class 'globus_sdk.services.auth.client.native_client.NativeAppAuthClient'> for service \"auth\"\n",
      "2024-11-26 15:00:50,171 - INFO - Finished initializing AuthLoginClient. client_id='8ef15ba9-2b4a-469c-a163-7fd910c9d111', type(authorizer)=<class 'globus_sdk.authorizers.base.NullAuthorizer'>\n"
     ]
    }
   ],
   "source": [
    "cache_dir = Path.home() / '/data'\n",
    "working_dir = Path.home() / '/data'\n",
    "EA = EyeAI(hostname = host, catalog_id = catalog_id, cache_dir= cache_dir, working_dir=working_dir)"
   ]
  },
  {
   "cell_type": "code",
   "execution_count": null,
   "id": "8f92f4b0-438a-4e57-9edf-76d7f655f82b",
   "metadata": {},
   "outputs": [],
   "source": [
    "# Add Workflow Vocab terms\n",
    "EA.add_term(vc.workflow_type, \"Test Workflow\", description=\"A test Workflow for new DM\")\n",
    "# Workflow instance\n",
    "test_workflow = Workflow(\n",
    "    name=\"Test New Workflow-multimodal\",\n",
    "    url=\"https://github.com/informatics-isi-edu/eye-ai-exec/blob/Data_Model_Update/notebooks/schema_changes/template_multimodal.ipynb\",\n",
    "    workflow_type=\"Test Workflow\"\n",
    ")\n",
    "# Configuration instance\n",
    "config = ExecutionConfiguration(\n",
    "    bdbags=['2-AGAW'],\n",
    "    models = ['2-4JR6'],\n",
    "    execution=Execution(description=\"Sample Test Execution\"),\n",
    "    workflow=test_workflow,\n",
    "    description=\"Our Test Workflow instance\")\n",
    "# Initialize execution\n",
    "configuration_record = EA.initialize_execution(config)\n",
    "execution_rid = configuration_record.execution_rid"
   ]
  }
 ],
 "metadata": {
  "kernelspec": {
   "display_name": "My Tensorflow",
   "language": "python",
   "name": "my-tensorflow"
  },
  "language_info": {
   "codemirror_mode": {
    "name": "ipython",
    "version": 3
   },
   "file_extension": ".py",
   "mimetype": "text/x-python",
   "name": "python",
   "nbconvert_exporter": "python",
   "pygments_lexer": "ipython3",
   "version": "3.10.13"
  }
 },
 "nbformat": 4,
 "nbformat_minor": 5
}
