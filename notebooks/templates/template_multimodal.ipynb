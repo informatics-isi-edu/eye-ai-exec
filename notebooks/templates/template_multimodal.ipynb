{
 "cells": [
  {
   "cell_type": "code",
   "execution_count": null,
   "id": "003248d9-3365-4aaa-874a-858234cb2f86",
   "metadata": {},
   "outputs": [],
   "source": [
    "# repo_dir = \"Repos\"   # Set this to be where your github repos are located.\n",
    "# %load_ext autoreload\n",
    "# %autoreload 2\n",
    "\n",
    "# # Update the load path so python can find modules for the model\n",
    "# import sys\n",
    "# from pathlib import Path\n",
    "# sys.path.insert(0, str(Path.home() / repo_dir / \"eye-ai-ml\"))\n",
    "# sys.path.insert(0, str(Path.home() / repo_dir / \"deriva-ml\"))"
   ]
  },
  {
   "cell_type": "code",
   "execution_count": null,
   "id": "8499060d-4de0-4ab1-bf23-8f766d24dd5e",
   "metadata": {},
   "outputs": [],
   "source": [
    "# Prerequisites\n",
    "import json\n",
    "import os\n",
    "from eye_ai.eye_ai import EyeAI\n",
    "\n",
    "import pandas as pd\n",
    "from pathlib import Path, PurePath\n",
    "import logging\n",
    "\n",
    "from deriva_ml import DatasetSpec, ExecutionConfiguration, DerivaML, Workflow\n",
    "from deriva_ml import MLVocab as vc\n",
    "from deriva_ml.deriva_definitions import ColumnDefinition, BuiltinTypes\n",
    "logging.basicConfig(level=logging.INFO, format='%(asctime)s - %(levelname)s - %(message)s', force=True)"
   ]
  },
  {
   "cell_type": "code",
   "execution_count": null,
   "id": "1f254b11-9f01-4185-95a0-cd7f80995c2f",
   "metadata": {},
   "outputs": [],
   "source": [
    "# Login\n",
    "from deriva.core.utils.globus_auth_utils import GlobusNativeLogin\n",
    "# host = 'dev.eye-ai.org'\n",
    "host = 'www.eye-ai.org'\n",
    "catalog_id = \"eye-ai\"\n",
    "\n",
    "gnl = GlobusNativeLogin(host=host)\n",
    "if gnl.is_logged_in([host]):\n",
    "    print(\"You are already logged in.\")\n",
    "else:\n",
    "    gnl.login([host], no_local_server=True, no_browser=True, refresh_tokens=True, update_bdbag_keychain=True)\n",
    "    print(\"Login Successful\")"
   ]
  },
  {
   "cell_type": "code",
   "execution_count": null,
   "id": "3a40db10-6f64-4b6e-a22d-3c7011e2a3fa",
   "metadata": {},
   "outputs": [],
   "source": [
    "cache_dir = '/data'\n",
    "working_dir = '/data'\n",
    "EA = EyeAI(hostname = host, catalog_id = catalog_id, cache_dir= cache_dir, working_dir=working_dir)"
   ]
  },
  {
   "cell_type": "markdown",
   "id": "b2006ce9-6ca1-402d-b9ad-8853b85509cf",
   "metadata": {},
   "source": [
    "# Configuration"
   ]
  },
  {
   "cell_type": "code",
   "execution_count": null,
   "id": "737c263c-2832-4dcc-9207-0656a877cab6",
   "metadata": {},
   "outputs": [],
   "source": [
    "# test_workflow = Workflow(\n",
    "#     name=\"Test New Workflow-multimodal\",\n",
    "#     url=\"https://github.com/informatics-isi-edu/eye-ai-exec/blob/main/notebooks/templates/template_multimodal.ipynb\",\n",
    "#     workflow_type=\"Test Workflow\"\n",
    "# )\n",
    "# test_workflow"
   ]
  },
  {
   "cell_type": "code",
   "execution_count": null,
   "id": "fe6a2c23-02dd-4dcd-8011-d9606305606c",
   "metadata": {},
   "outputs": [],
   "source": [
    "source_dataset = '4-4116' # '2-7P5P'#'2-AGAW'\t\n",
    "new_v = EA.dataset_version(source_dataset)\n",
    "new_v"
   ]
  },
  {
   "cell_type": "code",
   "execution_count": null,
   "id": "8f92f4b0-438a-4e57-9edf-76d7f655f82b",
   "metadata": {},
   "outputs": [],
   "source": [
    "# RID of source dataset, if any.\n",
    "source_dataset = '4-4116' # '2-7P5P'#'2-AGAW'\t\n",
    "new_v = EA.dataset_version(source_dataset)\n",
    "\n",
    "# EA.add_term(vc.workflow_type, \"Test Workflow\", description=\"A test Workflow for new DM\")\n",
    "# # Workflow instance\n",
    "# test_workflow = Workflow(\n",
    "#     name=\"Test New Workflow-multimodal\",\n",
    "#     url=\"https://github.com/informatics-isi-edu/eye-ai-exec/blob/main/notebooks/templates/template_multimodal.ipynb\",\n",
    "#     workflow_type=\"Test Workflow\"\n",
    "# )\n",
    "# # Configuration instance.\n",
    "\n",
    "# Set to False if you only need the metadata from the bag, and not the assets.\n",
    "\n",
    "config = ExecutionConfiguration(\n",
    "    # Comment out the following line if you don't need the assets.\n",
    "    datasets=[DatasetSpec(rid=source_dataset, version=new_v, materialize=False)],\n",
    "    assets=[],\n",
    "    workflow= '2-A51W', # dev'5-SG9W'\n",
    "    description=\"Template instance of a feature creation workflow\")\n",
    "\n",
    "# Initialize execution\n",
    "execution = EA.create_execution(config)\n"
   ]
  },
  {
   "cell_type": "code",
   "execution_count": null,
   "id": "184cb7a9-b7ad-440b-b115-bb5831c92bad",
   "metadata": {},
   "outputs": [],
   "source": [
    "print(execution)"
   ]
  },
  {
   "cell_type": "markdown",
   "id": "c97e75f7-8eb7-490c-8ba7-0e00d738a723",
   "metadata": {},
   "source": [
    "# Create DatasetBag"
   ]
  },
  {
   "cell_type": "code",
   "execution_count": null,
   "id": "e563b740-3e19-4697-b6b3-5b2f6554e48a",
   "metadata": {},
   "outputs": [],
   "source": [
    "ds_bag = execution.datasets[0]"
   ]
  },
  {
   "cell_type": "markdown",
   "id": "2505089f-a9d0-4891-87a3-9ba93c96a76b",
   "metadata": {},
   "source": [
    "# Methods for multimodal data"
   ]
  },
  {
   "cell_type": "markdown",
   "id": "75d76ea2-6926-4562-97d2-af13add508ec",
   "metadata": {},
   "source": [
    "### Extract modality"
   ]
  },
  {
   "cell_type": "code",
   "execution_count": null,
   "id": "89977e07-07e3-418d-8827-0976a83b7238",
   "metadata": {},
   "outputs": [],
   "source": [
    "modalities = EA.extract_modality(ds_bag)"
   ]
  },
  {
   "cell_type": "code",
   "execution_count": null,
   "id": "1f585df4-1242-4671-b36c-c8c2ad7cab9a",
   "metadata": {},
   "outputs": [],
   "source": [
    "modalities['HVF']"
   ]
  },
  {
   "cell_type": "code",
   "execution_count": null,
   "id": "1b38f956-8d3e-422d-9d7c-f4316d6ae8fe",
   "metadata": {},
   "outputs": [],
   "source": [
    "len(ds_bag.get_table_as_dataframe('Subject')) # 1180\n",
    "# ds_bag.get_table_as_dataframe('OCR_HVF')"
   ]
  },
  {
   "cell_type": "markdown",
   "id": "379eaeeb-6fcc-4363-835d-dce3c57463f4",
   "metadata": {},
   "source": [
    "### Retrive multimodal wide table"
   ]
  },
  {
   "cell_type": "code",
   "execution_count": null,
   "id": "ce810c22-62f6-427d-9334-f988a24c065a",
   "metadata": {},
   "outputs": [],
   "source": [
    "wide = EA.multimodal_wide(ds_bag)"
   ]
  },
  {
   "cell_type": "code",
   "execution_count": null,
   "id": "42bf7703-a3b4-415c-8488-271da08a9b60",
   "metadata": {},
   "outputs": [],
   "source": [
    "print(len(wide))\n",
    "wide.columns"
   ]
  },
  {
   "cell_type": "code",
   "execution_count": null,
   "id": "4a6621af-bd98-4cc5-9076-7831328ec57f",
   "metadata": {},
   "outputs": [],
   "source": [
    "wide[wide['MD'].isna()]"
   ]
  },
  {
   "cell_type": "code",
   "execution_count": null,
   "id": "d0548937-6dbc-4c00-8d24-c99025cbb5df",
   "metadata": {},
   "outputs": [],
   "source": [
    "wide.to_csv('new_wide.csv')"
   ]
  },
  {
   "cell_type": "markdown",
   "id": "1d3588de-cd3a-4c87-993b-cc0e5025a91f",
   "metadata": {},
   "source": [
    "# Upload results"
   ]
  },
  {
   "cell_type": "code",
   "execution_count": null,
   "id": "f27d4849-0230-4722-afa5-47f03a9d90a2",
   "metadata": {},
   "outputs": [],
   "source": [
    "# crete asset path\n",
    "asset_path = execution.execution_asset_path('Multimodal_Analysis')\n",
    "wide.to_csv(asset_path/'wide_test.csv')\n",
    "\n",
    "# upload assets to catalog\n",
    "execution.upload_execution_outputs(clean_folder=True)"
   ]
  }
 ],
 "metadata": {
  "language_info": {
   "name": "python"
  }
 },
 "nbformat": 4,
 "nbformat_minor": 5
}
