{
 "cells": [
  {
   "cell_type": "code",
   "execution_count": 1,
   "id": "4ca2c0b4",
   "metadata": {},
   "outputs": [],
   "source": [
    "import os\n",
    "import sys\n",
    "\n",
    "# Get the absolute path to your local repository\n",
    "repo_root = '/Users/vivi/Desktop/eye_ai/repos/eye-ai-ml'  # Point to the specific repository\n",
    "\n",
    "\n",
    "if repo_root not in sys.path:\n",
    "    sys.path.insert(0, repo_root)\n",
    "\n",
    "# Now you can import from your local repository\n",
    "from eye_ai.eye_ai import EyeAI"
   ]
  },
  {
   "cell_type": "code",
   "execution_count": 1,
   "id": "3029172a",
   "metadata": {},
   "outputs": [],
   "source": [
    "# Prerequisites\n",
    "import json\n",
    "import os\n",
    "from eye_ai.eye_ai import EyeAI\n",
    "\n",
    "import pandas as pd\n",
    "from pathlib import Path, PurePath\n",
    "import logging\n",
    "\n",
    "from deriva_ml import DatasetSpec, ExecutionConfiguration, DerivaML, Workflow, VersionPart\n",
    "from deriva_ml import MLVocab as vc\n",
    "from deriva_ml.deriva_definitions import ColumnDefinition, BuiltinTypes\n",
    "logging.basicConfig(level=logging.INFO, format='%(asctime)s - %(levelname)s - %(message)s', force=True)"
   ]
  },
  {
   "cell_type": "code",
   "execution_count": null,
   "id": "1f254b11-9f01-4185-95a0-cd7f80995c2f",
   "metadata": {},
   "outputs": [],
   "source": [
    "# Login\n",
    "from deriva.core.utils.globus_auth_utils import GlobusNativeLogin\n",
    "host = 'dev.eye-ai.org'\n",
    "# host = 'www.eye-ai.org'\n",
    "catalog_id = \"eye-ai\"\n",
    "\n",
    "gnl = GlobusNativeLogin(host=host)\n",
    "if gnl.is_logged_in([host]):\n",
    "    print(\"You are already logged in.\")\n",
    "else:\n",
    "    gnl.login([host], no_local_server=True, no_browser=True, refresh_tokens=True, update_bdbag_keychain=True)\n",
    "    print(\"Login Successful\")"
   ]
  },
  {
   "cell_type": "code",
   "execution_count": 3,
   "id": "3a40db10-6f64-4b6e-a22d-3c7011e2a3fa",
   "metadata": {},
   "outputs": [],
   "source": [
    "# cache_dir = '/data'\n",
    "# working_dir = '/data'\n",
    "cache_dir = '/Users/vivi/Desktop/eye_ai/execution_cache'\n",
    "working_dir = '/Users/vivi/Desktop/eye_ai/execution_cache'\n",
    "EA = EyeAI(hostname = host, catalog_id = catalog_id, cache_dir= cache_dir, working_dir=working_dir)"
   ]
  },
  {
   "cell_type": "markdown",
   "id": "b2006ce9-6ca1-402d-b9ad-8853b85509cf",
   "metadata": {},
   "source": [
    "# Configuration"
   ]
  },
  {
   "cell_type": "code",
   "execution_count": null,
   "id": "8f92f4b0-438a-4e57-9edf-76d7f655f82b",
   "metadata": {},
   "outputs": [],
   "source": [
    "# RID of source dataset, if any.\n",
    "source_dataset = '2-7P5P' #'2-C9PR' '2-7P5P' '2-AGAW'\n",
    "\n",
    "# workflow_instance = EA.create_workflow(\n",
    "#     name=\"Multimodal template\",\n",
    "#     workflow_type=\"Test Workflow\",\n",
    "# )\n",
    "\n",
    "workflow_instance = Workflow(\n",
    "    name=\"Create Condition_Label feature\",\n",
    "    workflow_type=\"Feature_Creation\",\n",
    "    url='https://github.com/informatics-isi-edu/eye-ai-exec/blob/main/notebooks/templates/template_multimodal.ipynb',\n",
    "    is_notebook=True\n",
    ")\n",
    "\n",
    "config = ExecutionConfiguration(\n",
    "    datasets=[DatasetSpec(rid=source_dataset, version=EA.dataset_version(source_dataset), materialize=False)],\n",
    "    assets=[],\n",
    "    workflow= workflow_instance, # dev'5-SG9W'\n",
    "    description=\"Template instance of a multimodal workflow\")\n",
    "\n",
    "# Initialize execution\n",
    "execution = EA.create_execution(config)\n"
   ]
  },
  {
   "cell_type": "code",
   "execution_count": null,
   "id": "184cb7a9-b7ad-440b-b115-bb5831c92bad",
   "metadata": {},
   "outputs": [],
   "source": [
    "print(execution)"
   ]
  },
  {
   "cell_type": "markdown",
   "id": "c97e75f7-8eb7-490c-8ba7-0e00d738a723",
   "metadata": {},
   "source": [
    "# Create DatasetBag"
   ]
  },
  {
   "cell_type": "code",
   "execution_count": 6,
   "id": "e563b740-3e19-4697-b6b3-5b2f6554e48a",
   "metadata": {},
   "outputs": [],
   "source": [
    "ds_bag = execution.datasets[0]"
   ]
  },
  {
   "cell_type": "markdown",
   "id": "2505089f-a9d0-4891-87a3-9ba93c96a76b",
   "metadata": {},
   "source": [
    "# Methods for multimodal data"
   ]
  },
  {
   "cell_type": "markdown",
   "id": "75d76ea2-6926-4562-97d2-af13add508ec",
   "metadata": {},
   "source": [
    "### Extract modality"
   ]
  },
  {
   "cell_type": "code",
   "execution_count": null,
   "id": "89977e07-07e3-418d-8827-0976a83b7238",
   "metadata": {},
   "outputs": [],
   "source": [
    "modalities = EA.extract_modality(ds_bag)"
   ]
  },
  {
   "cell_type": "code",
   "execution_count": null,
   "id": "1f585df4-1242-4671-b36c-c8c2ad7cab9a",
   "metadata": {},
   "outputs": [],
   "source": [
    "clinic = modalities['Clinic']\n",
    "clinic\n"
   ]
  },
  {
   "cell_type": "code",
   "execution_count": null,
   "id": "1b38f956-8d3e-422d-9d7c-f4316d6ae8fe",
   "metadata": {},
   "outputs": [],
   "source": [
    "len(ds_bag.get_table_as_dataframe('Subject')) # 1180\n",
    "# ds_bag.get_table_as_dataframe('OCR_HVF')"
   ]
  },
  {
   "cell_type": "markdown",
   "id": "379eaeeb-6fcc-4363-835d-dce3c57463f4",
   "metadata": {},
   "source": [
    "### Retrive multimodal wide table"
   ]
  },
  {
   "cell_type": "code",
   "execution_count": null,
   "id": "ce810c22-62f6-427d-9334-f988a24c065a",
   "metadata": {},
   "outputs": [],
   "source": [
    "wide = EA.multimodal_wide(ds_bag)"
   ]
  },
  {
   "cell_type": "code",
   "execution_count": null,
   "id": "42bf7703-a3b4-415c-8488-271da08a9b60",
   "metadata": {},
   "outputs": [],
   "source": [
    "print(len(wide))\n",
    "wide.columns"
   ]
  },
  {
   "cell_type": "markdown",
   "id": "1d3588de-cd3a-4c87-993b-cc0e5025a91f",
   "metadata": {},
   "source": [
    "# Upload results"
   ]
  },
  {
   "cell_type": "code",
   "execution_count": null,
   "id": "f27d4849-0230-4722-afa5-47f03a9d90a2",
   "metadata": {},
   "outputs": [],
   "source": [
    "# crete asset path\n",
    "asset_path = execution.asset_file_path(\"Execution_Asset\", \"wide_with_severity.csv\")\n",
    "wide.to_csv(asset_path)\n",
    "\n",
    "# upload assets to catalog\n",
    "execution.upload_execution_outputs(clean_folder=True)"
   ]
  },
  {
   "cell_type": "code",
   "execution_count": null,
   "id": "5d540ff3",
   "metadata": {},
   "outputs": [],
   "source": []
  }
 ],
 "metadata": {
  "kernelspec": {
   "display_name": "eye_ai",
   "language": "python",
   "name": "python3"
  },
  "language_info": {
   "codemirror_mode": {
    "name": "ipython",
    "version": 3
   },
   "file_extension": ".py",
   "mimetype": "text/x-python",
   "name": "python",
   "nbconvert_exporter": "python",
   "pygments_lexer": "ipython3",
   "version": "3.12.9"
  }
 },
 "nbformat": 4,
 "nbformat_minor": 5
}
