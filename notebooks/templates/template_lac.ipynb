{
 "cells": [
  {
   "cell_type": "code",
   "execution_count": null,
   "id": "003248d9-3365-4aaa-874a-858234cb2f86",
   "metadata": {},
   "outputs": [],
   "source": [
    "# repo_dir = \"Repos\"   # Set this to be where your github repos are located.\n",
    "# %load_ext autoreload\n",
    "# %autoreload 2\n",
    "\n",
    "# # Update the load path so python can find modules for the model\n",
    "# import sys\n",
    "# from pathlib import Path\n",
    "# sys.path.insert(0, str(Path.home() / repo_dir / \"eye-ai-ml\"))\n",
    "# sys.path.insert(0, str(Path.home() / repo_dir / \"deriva-ml\"))"
   ]
  },
  {
   "cell_type": "code",
   "execution_count": null,
   "id": "8499060d-4de0-4ab1-bf23-8f766d24dd5e",
   "metadata": {},
   "outputs": [],
   "source": [
    "# Prerequisites\n",
    "import json\n",
    "import os\n",
    "from eye_ai.eye_ai import EyeAI\n",
    "\n",
    "import pandas as pd\n",
    "from pathlib import Path, PurePath\n",
    "import logging\n",
    "\n",
    "from deriva_ml import DatasetSpec, DatasetBag, Workflow, ExecutionConfiguration, VersionPart\n",
    "from deriva_ml import MLVocab as vc\n",
    "logging.basicConfig(level=logging.INFO, format='%(asctime)s - %(levelname)s - %(message)s', force=True)"
   ]
  },
  {
   "cell_type": "code",
   "execution_count": null,
   "id": "1f254b11-9f01-4185-95a0-cd7f80995c2f",
   "metadata": {},
   "outputs": [],
   "source": [
    "# Login\n",
    "from deriva.core.utils.globus_auth_utils import GlobusNativeLogin\n",
    "# host = 'www.eye-ai.org'\n",
    "host = 'dev.eye-ai.org'\n",
    "catalog_id = \"eye-ai\"\n",
    "\n",
    "gnl = GlobusNativeLogin(host=host)\n",
    "if gnl.is_logged_in([host]):\n",
    "    print(\"You are already logged in.\")\n",
    "else:\n",
    "    gnl.login([host], no_local_server=True, no_browser=True, refresh_tokens=True, update_bdbag_keychain=True)\n",
    "    print(\"Login Successful\")"
   ]
  },
  {
   "cell_type": "code",
   "execution_count": null,
   "id": "3a40db10-6f64-4b6e-a22d-3c7011e2a3fa",
   "metadata": {},
   "outputs": [],
   "source": [
    "cache_dir = '/data'\n",
    "working_dir = '/data'\n",
    "EA = EyeAI(hostname = host, catalog_id = catalog_id, cache_dir= cache_dir, working_dir=working_dir)"
   ]
  },
  {
   "cell_type": "markdown",
   "id": "b2006ce9-6ca1-402d-b9ad-8853b85509cf",
   "metadata": {},
   "source": [
    "# 1. Configuration"
   ]
  },
  {
   "cell_type": "code",
   "execution_count": null,
   "id": "8f92f4b0-438a-4e57-9edf-76d7f655f82b",
   "metadata": {},
   "outputs": [],
   "source": [
    "# RID of source dataset, if any.\n",
    "source_dataset = '5-XW4J' #'4-SB3E' #'4-SS8W'#'5-STDM'#'2-7KA2'\n",
    "\n",
    "EA.add_term(vc.workflow_type, \"Test Workflow\", description=\"A test Workflow for new DM\")\n",
    "# Workflow instance\n",
    "workflow_instance = EA.create_workflow(\n",
    "    name=\"LAC data template\",\n",
    "    workflow_type=\"Test Workflow\",\n",
    ")\n",
    "\n",
    "# Configuration instance.\n",
    "config = ExecutionConfiguration(\n",
    "    datasets=[DatasetSpec(rid=source_dataset, version=EA.dataset_version(source_dataset), materialize=True)],\n",
    "    # Materialize set to False if you only need the metadata from the bag, and not the assets.\n",
    "    assets=['2-4JR6'],\n",
    "    workflow=workflow_instance,\n",
    "    description=\"Template instance of a feature creation workflow\")\n",
    "\n",
    "# Initialize execution\n",
    "execution = EA.create_execution(config)\n"
   ]
  },
  {
   "cell_type": "code",
   "execution_count": null,
   "id": "184cb7a9-b7ad-440b-b115-bb5831c92bad",
   "metadata": {},
   "outputs": [],
   "source": [
    "print(execution)"
   ]
  },
  {
   "cell_type": "markdown",
   "id": "c97e75f7-8eb7-490c-8ba7-0e00d738a723",
   "metadata": {},
   "source": [
    "# 2. Get access to the data"
   ]
  },
  {
   "cell_type": "code",
   "execution_count": null,
   "id": "11a04072-c3a1-40e1-ba36-9a5c9eb9be37",
   "metadata": {},
   "outputs": [],
   "source": [
    "# Find all the dataset bags get downloaded. (Here in this example, we only have one dataset)\n",
    "print(execution.datasets)\n",
    "\n",
    "# retrieve each dataset bag\n",
    "ds_bag = execution.datasets[0]\n",
    "ds_bag"
   ]
  },
  {
   "cell_type": "markdown",
   "id": "f7104f35-179c-44a2-8769-4608fde7c248",
   "metadata": {},
   "source": [
    "## 2.1 Check all the tables in the dataset bags"
   ]
  },
  {
   "cell_type": "code",
   "execution_count": null,
   "id": "cdbd54a3-da17-44bd-8f16-3456d8a316ac",
   "metadata": {},
   "outputs": [],
   "source": [
    "ds_bag.list_tables()"
   ]
  },
  {
   "cell_type": "markdown",
   "id": "05677c30-99c2-4ee0-ba99-321a0ebbe4a7",
   "metadata": {},
   "source": [
    "## 2.2 Load data in a table to a dataframe \n",
    "Use method `ds_bag.get_table_as_dataframe(<table_name>)`\\\n",
    "Examples:"
   ]
  },
  {
   "cell_type": "code",
   "execution_count": null,
   "id": "e6d442d2-f6ab-47b9-9dde-7c0420f52de1",
   "metadata": {},
   "outputs": [],
   "source": [
    "subject_table = ds_bag.get_table_as_dataframe('Subject')\n",
    "observation_table = ds_bag.get_table_as_dataframe('Observation')\n",
    "image_table = ds_bag.get_table_as_dataframe('Image')"
   ]
  },
  {
   "cell_type": "code",
   "execution_count": null,
   "id": "53ba9904-2ba7-485f-9013-4009c32e23d6",
   "metadata": {},
   "outputs": [],
   "source": [
    "subject_table"
   ]
  },
  {
   "cell_type": "markdown",
   "id": "fe195417-f4d0-492e-b69a-bfd4b19e48a6",
   "metadata": {},
   "source": [
    "## 2.3 Handling nested dataset\n",
    "We have already downloaded the dataset **2-7KA2**, which contains **15** subjects. We call it a full set.\\\n",
    "The dataset **2-7KA2** has a **subset 2-7K8W** which contains **10** subjects from the full set. \\\n",
    "The following scripts show how to get access to the data in a nested dataset.\n"
   ]
  },
  {
   "cell_type": "code",
   "execution_count": null,
   "id": "bc125ced-2cb0-4ce3-9989-08c5cb8db793",
   "metadata": {},
   "outputs": [],
   "source": [
    "subset_2_7K8W_members = EA.list_dataset_members('2-7K8W') # Only the 10 subjects from the subset will be listed here \n",
    "subset_2_7K8W_members"
   ]
  },
  {
   "cell_type": "code",
   "execution_count": null,
   "id": "64273618-87e3-40ed-8e39-a8d176728fb0",
   "metadata": {},
   "outputs": [],
   "source": [
    "# Create a dataframe of all the subjects in the subset.\n",
    "subject_2_7K8W = pd.DataFrame(subset_2_7K8W_members['Subject'])\n",
    "subject_2_7K8W\n",
    "\n",
    "# Use join to get the Observation/Image/Diagnosis that only belong to the subset\n",
    "observation_2_7K8W = pd.merge(subject_2_7K8W, observation_table, left_on='RID', right_on='Subject')\n",
    "image_2_7K8W = pd.merge(observation_2_7K8W, image_table, left_on='RID_y', right_on='Observation')\n",
    "image_2_7K8W"
   ]
  },
  {
   "cell_type": "markdown",
   "id": "b20b958f-0571-4da4-b170-c3a3a3403dae",
   "metadata": {},
   "source": [
    "# 3. Get access to the downloaded assets"
   ]
  },
  {
   "cell_type": "code",
   "execution_count": null,
   "id": "1d3503f6-744c-4572-afbf-063bdea44159",
   "metadata": {},
   "outputs": [],
   "source": [
    "print(execution.asset_paths)"
   ]
  },
  {
   "cell_type": "markdown",
   "id": "2505089f-a9d0-4891-87a3-9ba93c96a76b",
   "metadata": {},
   "source": [
    "# 4. Methods for LAC data"
   ]
  },
  {
   "cell_type": "markdown",
   "id": "75d76ea2-6926-4562-97d2-af13add508ec",
   "metadata": {},
   "source": [
    "### Filter on angle 2 image"
   ]
  },
  {
   "cell_type": "code",
   "execution_count": null,
   "id": "89977e07-07e3-418d-8827-0976a83b7238",
   "metadata": {},
   "outputs": [],
   "source": [
    "angle2_image = EA.filter_angle_2(ds_bag)"
   ]
  },
  {
   "cell_type": "markdown",
   "id": "399b2b0c-a97e-4dc3-bb33-50cf4d2ae6b7",
   "metadata": {},
   "source": [
    "### Diagnosis manipulation"
   ]
  },
  {
   "cell_type": "code",
   "execution_count": null,
   "id": "329d5ebe-78f5-49c0-b802-0788717db01c",
   "metadata": {},
   "outputs": [],
   "source": [
    "init_diag = EA.image_tall(ds_bag, 'Initial Diagnosis')\n",
    "grader_diag = EA.image_tall(ds_bag, 'AI_glaucomasuspect_test')\n",
    "long, wide = EA.reshape_table([init_diag, grader_diag], 'Diagnosis_Image')"
   ]
  },
  {
   "cell_type": "code",
   "execution_count": null,
   "id": "8d467ab5-1501-4f55-af22-9cd1fabe0eaf",
   "metadata": {},
   "outputs": [],
   "source": [
    "init_diag"
   ]
  },
  {
   "cell_type": "markdown",
   "id": "379eaeeb-6fcc-4363-835d-dce3c57463f4",
   "metadata": {},
   "source": [
    "### Crop Image by bounding box\n"
   ]
  },
  {
   "cell_type": "code",
   "execution_count": null,
   "id": "94edddcf-2f95-4ea5-b514-905fe64252e0",
   "metadata": {},
   "outputs": [],
   "source": [
    "execution.dataset_paths[0]"
   ]
  },
  {
   "cell_type": "code",
   "execution_count": null,
   "id": "ce810c22-62f6-427d-9334-f988a24c065a",
   "metadata": {},
   "outputs": [],
   "source": [
    "output_dir = execution.working_dir\n",
    "image_path, cropped_csv = EA.create_cropped_images(execution.dataset_paths[0], ds_bag, output_dir, crop_to_eye=True)"
   ]
  },
  {
   "cell_type": "markdown",
   "id": "cd00028e-0137-4237-a185-afce6bf7d799",
   "metadata": {},
   "source": [
    "# Execution of ML"
   ]
  },
  {
   "cell_type": "code",
   "execution_count": null,
   "id": "5b2174a3-735f-4f07-a77c-fc08496d596e",
   "metadata": {},
   "outputs": [],
   "source": [
    "with execution.execute() as exec:\n",
    "    print(\"An ML Execution.\") "
   ]
  },
  {
   "cell_type": "markdown",
   "id": "1d3588de-cd3a-4c87-993b-cc0e5025a91f",
   "metadata": {},
   "source": [
    "# Upload results"
   ]
  },
  {
   "cell_type": "code",
   "execution_count": null,
   "id": "f27d4849-0230-4722-afa5-47f03a9d90a2",
   "metadata": {},
   "outputs": [],
   "source": [
    "# crete asset path\n",
    "asset_type_name = \"\"\n",
    "asset_path = execution.execution_asset_path(\"Training_Log\")\n",
    "# save assets to asset_path\n",
    "df.to_csv(asset_path+'filename.csv', index=False)\n",
    "\n",
    "# upload assets to catalog\n",
    "execution.upload_execution_outputs(clean_folder=True)"
   ]
  },
  {
   "cell_type": "code",
   "execution_count": null,
   "id": "dfe415a8-9ada-4526-af72-ae7e474e70f7",
   "metadata": {},
   "outputs": [],
   "source": [
    "execution.upload_execution_outputs(clean_folder=True)"
   ]
  }
 ],
 "metadata": {
  "language_info": {
   "name": "python"
  }
 },
 "nbformat": 4,
 "nbformat_minor": 5
}
