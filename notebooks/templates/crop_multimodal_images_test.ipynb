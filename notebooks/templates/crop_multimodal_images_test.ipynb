{
 "cells": [
  {
   "cell_type": "code",
   "execution_count": 1,
   "id": "88bfec52-cdba-4f8d-919f-a79ef124a0e8",
   "metadata": {},
   "outputs": [],
   "source": [
    "# repo_dir = \"Repos\"  \n",
    "# %load_ext autoreload\n",
    "# %autoreload 2\n",
    "\n",
    "# import sys\n",
    "# from pathlib import Path\n",
    "# sys.path.insert(0, str(Path.home() / repo_dir / \"eye-ai-ml\"))\n",
    "# sys.path.insert(0, str(Path.home() / repo_dir / \"eye-ai-vgg19\" / \"src\" / \"vgg19\"))\n",
    "# sys.path.insert(0, str(Path.home() / repo_dir / \"RETFound_MAE\"))\n",
    "# sys.path.insert(0, str(Path.home() / repo_dir / \"eye-ai-exec\" / \"models\" / \"vgg19\")) "
   ]
  },
  {
   "cell_type": "code",
   "execution_count": 14,
   "id": "bb792c6d-c5d6-4a15-915e-d901863fa5ec",
   "metadata": {},
   "outputs": [],
   "source": [
    "# Prerequisites\n",
    "import json\n",
    "import os\n",
    "from eye_ai.eye_ai import EyeAI\n",
    "import pandas as pd\n",
    "from pathlib import Path, PurePath\n",
    "import logging\n",
    "import random\n",
    "\n",
    "from deriva_ml import DatasetBag, Workflow, ExecutionConfiguration, DatasetVersion\n",
    "from deriva_ml import MLVocab as vc\n",
    "logging.basicConfig(level=logging.INFO, format='%(asctime)s - %(levelname)s - %(message)s', force=True)"
   ]
  },
  {
   "cell_type": "code",
   "execution_count": 2,
   "id": "4909fad7-f14a-4276-a8c9-b2f91b29c753",
   "metadata": {},
   "outputs": [
    {
     "name": "stdout",
     "output_type": "stream",
     "text": [
      "You are already logged in.\n"
     ]
    }
   ],
   "source": [
    "from deriva.core.utils.globus_auth_utils import GlobusNativeLogin\n",
    "catalog_id = \"eye-ai\" #@param\n",
    "# host = 'www.eye-ai.org'\n",
    "host = 'dev.eye-ai.org'\n",
    "\n",
    "\n",
    "\n",
    "gnl = GlobusNativeLogin(host=host)\n",
    "if gnl.is_logged_in([host]):\n",
    "    print(\"You are already logged in.\")\n",
    "else:\n",
    "    gnl.login([host], no_local_server=True, no_browser=True, refresh_tokens=True, update_bdbag_keychain=True)\n",
    "    print(\"Login Successful\")"
   ]
  },
  {
   "cell_type": "code",
   "execution_count": 23,
   "id": "7246e454-9d83-4b52-af12-1d61b471cd8e",
   "metadata": {},
   "outputs": [
    {
     "name": "stderr",
     "output_type": "stream",
     "text": [
      "2025-04-12 13:17:59,012 - WARNING - nbstripout is not installed in repository. Please run nbstripout --install\n"
     ]
    }
   ],
   "source": [
    "cache_dir = '/data'\n",
    "working_dir = '/data'\n",
    "EA = EyeAI(hostname = host, catalog_id = catalog_id, cache_dir= cache_dir, working_dir=working_dir)"
   ]
  },
  {
   "cell_type": "code",
   "execution_count": 24,
   "id": "00b2edfa-8a58-4a7a-b346-a0755da019c1",
   "metadata": {},
   "outputs": [
    {
     "name": "stderr",
     "output_type": "stream",
     "text": [
      "2025-04-12 13:18:22,663 - WARNING - File /home/lizhiwei/Repos/eye-ai-exec/notebooks/templates/crop_multimodal_images_test.ipynb has been modified since last commit. Consider commiting before executing\n",
      "2025-04-12 13:18:23,224 - INFO - Materialize bag 5-XW4J... \n",
      "2025-04-12 13:18:23,964 - WARNING - nbstripout is not installed in repository. Please run nbstripout --install\n",
      "2025-04-12 13:18:24,975 - INFO - Loading /data/5-XW4J_01888e4042f24555eb76b5162749507ee5893239d85cd51eec8a9e73409a9c4a/Dataset_5-XW4J\n",
      "2025-04-12 13:18:25,279 - INFO - Creating new database for dataset: 5-XW4J in /data/lizhiwei/EyeAI_working/5-XW4J@334-PTGP-NSB2.db\n",
      "2025-04-12 13:18:25,337 - INFO - Downloading assets ...\n",
      "2025-04-12 13:18:31,226 - INFO - File [/data/lizhiwei/EyeAI_working/deriva-ml/execution/5-XXHW/downloaded-assets/Execution_Asset/optic_disk_crop_model.hdf5] transfer successful. 76.75 MB transferred at 14.19 MB/second. Elapsed time: 0:00:05.410616.\n",
      "2025-04-12 13:18:31,859 - INFO - Initialize status finished.\n"
     ]
    }
   ],
   "source": [
    "datasets = ['5-XW4J'] # a image dataset of multimodal for testing\n",
    "\n",
    "to_be_download = []\n",
    "for dataset in datasets:\n",
    "    ds_dict = {\n",
    "        'rid': dataset,\n",
    "        'materialize':True,\n",
    "        'version':EA.dataset_version(dataset_rid=dataset),\n",
    "    }\n",
    "    to_be_download.append(ds_dict)\n",
    "\n",
    "workflow_instance = EA.create_workflow(\n",
    "    name=\"Feature Ingestion\",\n",
    "    workflow_type=\"Test Workflow\"\n",
    ")\n",
    "\n",
    "config = ExecutionConfiguration(\n",
    "    datasets=to_be_download,\n",
    "    assets = ['2-4JR6'],\n",
    "    workflow=workflow_instance,\n",
    "    description=\"Test of feature asset with bounding box\")\n",
    "\n",
    "execution = EA.create_execution(config)"
   ]
  },
  {
   "cell_type": "code",
   "execution_count": 25,
   "id": "e2d5a104-349c-48a7-8a8c-8ba1e249f901",
   "metadata": {},
   "outputs": [
    {
     "name": "stdout",
     "output_type": "stream",
     "text": [
      "caching_dir: /data\n",
      "_working_dir: /data/lizhiwei/EyeAI_working\n",
      "execution_rid: 5-XXHW\n",
      "workflow_rid: 5-XXC6\n",
      "asset_paths: {'Execution_Asset': [AssetFilePath('/data/lizhiwei/EyeAI_working/deriva-ml/execution/5-XXHW/downloaded-assets/Execution_Asset/optic_disk_crop_model.hdf5')]}\n",
      "configuration: datasets=[DatasetSpec(rid='5-XW4J', materialize=True, version=DatasetVersion(major=0, minor=2, patch=0))] assets=['2-4JR6'] workflow=Workflow(name='Feature Ingestion', url='https://github.com/informatics-isi-edu/eye-ai-exec/blob//notebooks/templates/crop_multimodal_images_test.ipynb', workflow_type='Test Workflow', version=None, description='', rid=None, checksum='e69de29bb2d1d6434b8b29ae775ad8c2e48c5391') parameters={} description='Test of feature asset with bounding box' argv=['/home/lizhiwei/.conda/envs/my-tensorflow-conda/lib/python3.10/site-packages/ipykernel_launcher.py', '-f', '/home/lizhiwei/.local/share/jupyter/runtime/kernel-b1c468f9-2c01-4bbc-b327-33c7a8e6b74b.json']\n"
     ]
    }
   ],
   "source": [
    "print(execution)"
   ]
  },
  {
   "cell_type": "code",
   "execution_count": 26,
   "id": "090db8d3-775b-4b88-9a75-beaa63f584b3",
   "metadata": {},
   "outputs": [],
   "source": [
    "# training_ds_bag = execution.datasets[0]\n",
    "# testing_ds_bag = execution.datasets[1]\n",
    "# multimodal_full_ds_bag = execution.datasets[2]\n",
    "ds_bag = execution.datasets[0]\n",
    "image_rids = [d[\"RID\"] for d in execution.datasets[0].list_dataset_members()[\"Image\"]]\n",
    "crop_image_model = execution.asset_paths['Execution_Asset'][0]"
   ]
  },
  {
   "cell_type": "code",
   "execution_count": 27,
   "id": "04457a2f-3092-4634-b0a0-b0a7a3b5368f",
   "metadata": {},
   "outputs": [
    {
     "data": {
      "text/plain": [
       "deriva_ml.feature.ImageFeatureAnnotation"
      ]
     },
     "execution_count": 27,
     "metadata": {},
     "output_type": "execute_result"
    }
   ],
   "source": [
    "ImageAnnotationFeature = EA.feature_record_class(\"Image\", \"Annotation\")\n",
    "ImageAnnotationFeature"
   ]
  },
  {
   "cell_type": "code",
   "execution_count": 28,
   "id": "ae80ad61-76a1-43f1-97ea-041bd103a895",
   "metadata": {},
   "outputs": [],
   "source": [
    "bounding_box_files = []\n",
    "(EA.working_dir / \"scratch\").mkdir(exist_ok=True)\n",
    "for image_rid in image_rids:\n",
    "    fn = f\"{EA.working_dir}/scratch/box{image_rid}.txt\"\n",
    "    with open(fn, \"w\") as fp:\n",
    "        fp.write(f\"Hi there {image_rid} {random.random()}\")\n",
    "    bounding_box_files.append(fn)"
   ]
  },
  {
   "cell_type": "code",
   "execution_count": 29,
   "id": "78f27581-c7b6-4901-aa67-958a41561fc1",
   "metadata": {},
   "outputs": [],
   "source": [
    "annotation_feature_list = []\n",
    "for image_rid, bb_file in zip(image_rids, bounding_box_files):\n",
    "    bounding_box_file = execution.asset_file_path(\n",
    "        \"Fundus_Bounding_Box\", bb_file\n",
    "    )\n",
    "    annotation_feature_list.append(\n",
    "        ImageAnnotationFeature(\n",
    "            Image=image_rid,\n",
    "            Fundus_Bounding_Box=bounding_box_file,\n",
    "            Annotation_Function=\"Raw_Cropped_to_Eye\",\n",
    "            Annotation_Type=\"Optic Nerve\",\n",
    "        )\n",
    "    )"
   ]
  },
  {
   "cell_type": "code",
   "execution_count": 30,
   "id": "168493ee-84e1-4f18-8bc9-c26a0177f966",
   "metadata": {},
   "outputs": [
    {
     "name": "stderr",
     "output_type": "stream",
     "text": [
      "2025-04-12 13:19:17,834 - INFO - Start execution  ...\n",
      "2025-04-12 13:19:17,883 - INFO - Start execution  ...\n",
      "2025-04-12 13:19:17,924 - INFO - Successfully run Ml.\n",
      "2025-04-12 13:19:17,960 - INFO - Algorithm execution ended.\n"
     ]
    },
    {
     "name": "stdout",
     "output_type": "stream",
     "text": [
      "assets = {'Execution_Asset': [AssetFilePath('/data/lizhiwei/EyeAI_working/deriva-ml/execution/5-XXHW/downloaded-assets/Execution_Asset/optic_disk_crop_model.hdf5')]}\n",
      "datasets = [<deriva_ml.DatasetBag object 5-XW4J at 0x7f24cd9491b0>]\n"
     ]
    }
   ],
   "source": [
    "with execution.execute() as execution:\n",
    "    print(f\"assets = {execution.asset_paths}\")\n",
    "    print(f\"datasets = {execution.datasets}\")\n",
    "    execution.add_features(annotation_feature_list)"
   ]
  },
  {
   "cell_type": "code",
   "execution_count": 31,
   "id": "a113ab79-8f2c-48cf-adfb-0c780dfa97cc",
   "metadata": {
    "scrolled": true
   },
   "outputs": [
    {
     "name": "stderr",
     "output_type": "stream",
     "text": [
      "2025-04-12 13:19:19,803 - INFO - Uploading execution files...\n",
      "2025-04-12 13:19:19,855 - INFO - Initializing uploader: GenericUploader v1.7.7 [Python 3.10.13, Linux-5.10.210-201.852.amzn2.x86_64-x86_64-with-glibc2.26]\n",
      "2025-04-12 13:19:19,891 - INFO - Scanning files in directory [/data/lizhiwei/EyeAI_working/deriva-ml/execution/5-XXHW/asset]...\n",
      "2025-04-12 13:19:19,893 - INFO - Including file: [/data/lizhiwei/EyeAI_working/deriva-ml/execution/5-XXHW/asset/deriva-ml/Execution_Metadata/configuration.json].\n",
      "2025-04-12 13:19:19,893 - INFO - Including file: [/data/lizhiwei/EyeAI_working/deriva-ml/execution/5-XXHW/asset/deriva-ml/Execution_Metadata/environment_snapshot_20250412_131831.txt].\n",
      "2025-04-12 13:19:19,894 - INFO - Including file: [/data/lizhiwei/EyeAI_working/deriva-ml/execution/5-XXHW/asset/eye-ai/Fundus_Bounding_Box/box2-BDAM.txt].\n",
      "2025-04-12 13:19:19,895 - INFO - Including file: [/data/lizhiwei/EyeAI_working/deriva-ml/execution/5-XXHW/asset/eye-ai/Fundus_Bounding_Box/box2-BDB8.txt].\n",
      "2025-04-12 13:19:19,895 - INFO - Including file: [/data/lizhiwei/EyeAI_working/deriva-ml/execution/5-XXHW/asset/eye-ai/Fundus_Bounding_Box/box2-BDBT.txt].\n",
      "2025-04-12 13:19:19,896 - INFO - Including file: [/data/lizhiwei/EyeAI_working/deriva-ml/execution/5-XXHW/asset/eye-ai/Fundus_Bounding_Box/box2-BDC2.txt].\n",
      "2025-04-12 13:19:19,896 - INFO - Including file: [/data/lizhiwei/EyeAI_working/deriva-ml/execution/5-XXHW/asset/eye-ai/Fundus_Bounding_Box/box2-BDCM.txt].\n",
      "2025-04-12 13:19:19,897 - INFO - Including file: [/data/lizhiwei/EyeAI_working/deriva-ml/execution/5-XXHW/asset/eye-ai/Fundus_Bounding_Box/box2-BDD6.txt].\n",
      "2025-04-12 13:19:19,897 - INFO - Including file: [/data/lizhiwei/EyeAI_working/deriva-ml/execution/5-XXHW/asset/eye-ai/Fundus_Bounding_Box/box2-BDDE.txt].\n",
      "2025-04-12 13:19:19,898 - INFO - Including file: [/data/lizhiwei/EyeAI_working/deriva-ml/execution/5-XXHW/asset/eye-ai/Fundus_Bounding_Box/box2-BDDJ.txt].\n",
      "2025-04-12 13:19:19,899 - INFO - Including file: [/data/lizhiwei/EyeAI_working/deriva-ml/execution/5-XXHW/asset/eye-ai/Fundus_Bounding_Box/box2-BDDR.txt].\n",
      "2025-04-12 13:19:19,899 - INFO - Including file: [/data/lizhiwei/EyeAI_working/deriva-ml/execution/5-XXHW/asset/eye-ai/Fundus_Bounding_Box/box2-BDDT.txt].\n",
      "2025-04-12 13:19:19,900 - INFO - Processing: [/data/lizhiwei/EyeAI_working/deriva-ml/execution/5-XXHW/asset/deriva-ml/Execution_Metadata/configuration.json]\n",
      "2025-04-12 13:19:19,901 - INFO - Computed metadata for: [/data/lizhiwei/EyeAI_working/deriva-ml/execution/5-XXHW/asset/deriva-ml/Execution_Metadata/configuration.json].\n",
      "2025-04-12 13:19:19,902 - INFO - Computing checksums for file: [/data/lizhiwei/EyeAI_working/deriva-ml/execution/5-XXHW/asset/deriva-ml/Execution_Metadata/configuration.json]. Please wait...\n",
      "2025-04-12 13:19:19,903 - INFO - Uploading file: [/data/lizhiwei/EyeAI_working/deriva-ml/execution/5-XXHW/asset/deriva-ml/Execution_Metadata/configuration.json] to host https://dev.eye-ai.org. Please wait...\n",
      "2025-04-12 13:19:20,226 - INFO - Processing: [/data/lizhiwei/EyeAI_working/deriva-ml/execution/5-XXHW/asset/deriva-ml/Execution_Metadata/environment_snapshot_20250412_131831.txt]\n",
      "2025-04-12 13:19:20,226 - INFO - Computed metadata for: [/data/lizhiwei/EyeAI_working/deriva-ml/execution/5-XXHW/asset/deriva-ml/Execution_Metadata/environment_snapshot_20250412_131831.txt].\n",
      "2025-04-12 13:19:20,227 - INFO - Computing checksums for file: [/data/lizhiwei/EyeAI_working/deriva-ml/execution/5-XXHW/asset/deriva-ml/Execution_Metadata/environment_snapshot_20250412_131831.txt]. Please wait...\n",
      "2025-04-12 13:19:20,229 - INFO - Uploading file: [/data/lizhiwei/EyeAI_working/deriva-ml/execution/5-XXHW/asset/deriva-ml/Execution_Metadata/environment_snapshot_20250412_131831.txt] to host https://dev.eye-ai.org. Please wait...\n",
      "2025-04-12 13:19:20,401 - INFO - Processing: [/data/lizhiwei/EyeAI_working/deriva-ml/execution/5-XXHW/asset/eye-ai/Fundus_Bounding_Box/box2-BDAM.txt]\n",
      "2025-04-12 13:19:20,402 - INFO - Computed metadata for: [/data/lizhiwei/EyeAI_working/deriva-ml/execution/5-XXHW/asset/eye-ai/Fundus_Bounding_Box/box2-BDAM.txt].\n",
      "2025-04-12 13:19:20,403 - INFO - Computing checksums for file: [/data/lizhiwei/EyeAI_working/deriva-ml/execution/5-XXHW/asset/eye-ai/Fundus_Bounding_Box/box2-BDAM.txt]. Please wait...\n",
      "2025-04-12 13:19:20,404 - INFO - Uploading file: [/data/lizhiwei/EyeAI_working/deriva-ml/execution/5-XXHW/asset/eye-ai/Fundus_Bounding_Box/box2-BDAM.txt] to host https://dev.eye-ai.org. Please wait...\n",
      "2025-04-12 13:19:20,608 - INFO - Processing: [/data/lizhiwei/EyeAI_working/deriva-ml/execution/5-XXHW/asset/eye-ai/Fundus_Bounding_Box/box2-BDB8.txt]\n",
      "2025-04-12 13:19:20,609 - INFO - Computed metadata for: [/data/lizhiwei/EyeAI_working/deriva-ml/execution/5-XXHW/asset/eye-ai/Fundus_Bounding_Box/box2-BDB8.txt].\n",
      "2025-04-12 13:19:20,609 - INFO - Computing checksums for file: [/data/lizhiwei/EyeAI_working/deriva-ml/execution/5-XXHW/asset/eye-ai/Fundus_Bounding_Box/box2-BDB8.txt]. Please wait...\n",
      "2025-04-12 13:19:20,611 - INFO - Uploading file: [/data/lizhiwei/EyeAI_working/deriva-ml/execution/5-XXHW/asset/eye-ai/Fundus_Bounding_Box/box2-BDB8.txt] to host https://dev.eye-ai.org. Please wait...\n",
      "2025-04-12 13:19:20,684 - INFO - Processing: [/data/lizhiwei/EyeAI_working/deriva-ml/execution/5-XXHW/asset/eye-ai/Fundus_Bounding_Box/box2-BDBT.txt]\n",
      "2025-04-12 13:19:20,684 - INFO - Computed metadata for: [/data/lizhiwei/EyeAI_working/deriva-ml/execution/5-XXHW/asset/eye-ai/Fundus_Bounding_Box/box2-BDBT.txt].\n",
      "2025-04-12 13:19:20,685 - INFO - Computing checksums for file: [/data/lizhiwei/EyeAI_working/deriva-ml/execution/5-XXHW/asset/eye-ai/Fundus_Bounding_Box/box2-BDBT.txt]. Please wait...\n",
      "2025-04-12 13:19:20,686 - INFO - Uploading file: [/data/lizhiwei/EyeAI_working/deriva-ml/execution/5-XXHW/asset/eye-ai/Fundus_Bounding_Box/box2-BDBT.txt] to host https://dev.eye-ai.org. Please wait...\n",
      "2025-04-12 13:19:20,766 - INFO - Processing: [/data/lizhiwei/EyeAI_working/deriva-ml/execution/5-XXHW/asset/eye-ai/Fundus_Bounding_Box/box2-BDC2.txt]\n",
      "2025-04-12 13:19:20,766 - INFO - Computed metadata for: [/data/lizhiwei/EyeAI_working/deriva-ml/execution/5-XXHW/asset/eye-ai/Fundus_Bounding_Box/box2-BDC2.txt].\n",
      "2025-04-12 13:19:20,767 - INFO - Computing checksums for file: [/data/lizhiwei/EyeAI_working/deriva-ml/execution/5-XXHW/asset/eye-ai/Fundus_Bounding_Box/box2-BDC2.txt]. Please wait...\n",
      "2025-04-12 13:19:20,768 - INFO - Uploading file: [/data/lizhiwei/EyeAI_working/deriva-ml/execution/5-XXHW/asset/eye-ai/Fundus_Bounding_Box/box2-BDC2.txt] to host https://dev.eye-ai.org. Please wait...\n",
      "2025-04-12 13:19:20,834 - INFO - Processing: [/data/lizhiwei/EyeAI_working/deriva-ml/execution/5-XXHW/asset/eye-ai/Fundus_Bounding_Box/box2-BDCM.txt]\n",
      "2025-04-12 13:19:20,835 - INFO - Computed metadata for: [/data/lizhiwei/EyeAI_working/deriva-ml/execution/5-XXHW/asset/eye-ai/Fundus_Bounding_Box/box2-BDCM.txt].\n",
      "2025-04-12 13:19:20,835 - INFO - Computing checksums for file: [/data/lizhiwei/EyeAI_working/deriva-ml/execution/5-XXHW/asset/eye-ai/Fundus_Bounding_Box/box2-BDCM.txt]. Please wait...\n",
      "2025-04-12 13:19:20,836 - INFO - Uploading file: [/data/lizhiwei/EyeAI_working/deriva-ml/execution/5-XXHW/asset/eye-ai/Fundus_Bounding_Box/box2-BDCM.txt] to host https://dev.eye-ai.org. Please wait...\n",
      "2025-04-12 13:19:20,908 - INFO - Processing: [/data/lizhiwei/EyeAI_working/deriva-ml/execution/5-XXHW/asset/eye-ai/Fundus_Bounding_Box/box2-BDD6.txt]\n",
      "2025-04-12 13:19:20,909 - INFO - Computed metadata for: [/data/lizhiwei/EyeAI_working/deriva-ml/execution/5-XXHW/asset/eye-ai/Fundus_Bounding_Box/box2-BDD6.txt].\n",
      "2025-04-12 13:19:20,910 - INFO - Computing checksums for file: [/data/lizhiwei/EyeAI_working/deriva-ml/execution/5-XXHW/asset/eye-ai/Fundus_Bounding_Box/box2-BDD6.txt]. Please wait...\n",
      "2025-04-12 13:19:20,911 - INFO - Uploading file: [/data/lizhiwei/EyeAI_working/deriva-ml/execution/5-XXHW/asset/eye-ai/Fundus_Bounding_Box/box2-BDD6.txt] to host https://dev.eye-ai.org. Please wait...\n",
      "2025-04-12 13:19:20,985 - INFO - Processing: [/data/lizhiwei/EyeAI_working/deriva-ml/execution/5-XXHW/asset/eye-ai/Fundus_Bounding_Box/box2-BDDE.txt]\n",
      "2025-04-12 13:19:20,985 - INFO - Computed metadata for: [/data/lizhiwei/EyeAI_working/deriva-ml/execution/5-XXHW/asset/eye-ai/Fundus_Bounding_Box/box2-BDDE.txt].\n",
      "2025-04-12 13:19:20,986 - INFO - Computing checksums for file: [/data/lizhiwei/EyeAI_working/deriva-ml/execution/5-XXHW/asset/eye-ai/Fundus_Bounding_Box/box2-BDDE.txt]. Please wait...\n",
      "2025-04-12 13:19:20,987 - INFO - Uploading file: [/data/lizhiwei/EyeAI_working/deriva-ml/execution/5-XXHW/asset/eye-ai/Fundus_Bounding_Box/box2-BDDE.txt] to host https://dev.eye-ai.org. Please wait...\n",
      "2025-04-12 13:19:21,052 - INFO - Processing: [/data/lizhiwei/EyeAI_working/deriva-ml/execution/5-XXHW/asset/eye-ai/Fundus_Bounding_Box/box2-BDDJ.txt]\n",
      "2025-04-12 13:19:21,053 - INFO - Computed metadata for: [/data/lizhiwei/EyeAI_working/deriva-ml/execution/5-XXHW/asset/eye-ai/Fundus_Bounding_Box/box2-BDDJ.txt].\n",
      "2025-04-12 13:19:21,054 - INFO - Computing checksums for file: [/data/lizhiwei/EyeAI_working/deriva-ml/execution/5-XXHW/asset/eye-ai/Fundus_Bounding_Box/box2-BDDJ.txt]. Please wait...\n",
      "2025-04-12 13:19:21,055 - INFO - Uploading file: [/data/lizhiwei/EyeAI_working/deriva-ml/execution/5-XXHW/asset/eye-ai/Fundus_Bounding_Box/box2-BDDJ.txt] to host https://dev.eye-ai.org. Please wait...\n",
      "2025-04-12 13:19:21,134 - INFO - Processing: [/data/lizhiwei/EyeAI_working/deriva-ml/execution/5-XXHW/asset/eye-ai/Fundus_Bounding_Box/box2-BDDR.txt]\n",
      "2025-04-12 13:19:21,134 - INFO - Computed metadata for: [/data/lizhiwei/EyeAI_working/deriva-ml/execution/5-XXHW/asset/eye-ai/Fundus_Bounding_Box/box2-BDDR.txt].\n",
      "2025-04-12 13:19:21,135 - INFO - Computing checksums for file: [/data/lizhiwei/EyeAI_working/deriva-ml/execution/5-XXHW/asset/eye-ai/Fundus_Bounding_Box/box2-BDDR.txt]. Please wait...\n",
      "2025-04-12 13:19:21,136 - INFO - Uploading file: [/data/lizhiwei/EyeAI_working/deriva-ml/execution/5-XXHW/asset/eye-ai/Fundus_Bounding_Box/box2-BDDR.txt] to host https://dev.eye-ai.org. Please wait...\n",
      "2025-04-12 13:19:21,207 - INFO - Processing: [/data/lizhiwei/EyeAI_working/deriva-ml/execution/5-XXHW/asset/eye-ai/Fundus_Bounding_Box/box2-BDDT.txt]\n",
      "2025-04-12 13:19:21,208 - INFO - Computed metadata for: [/data/lizhiwei/EyeAI_working/deriva-ml/execution/5-XXHW/asset/eye-ai/Fundus_Bounding_Box/box2-BDDT.txt].\n",
      "2025-04-12 13:19:21,209 - INFO - Computing checksums for file: [/data/lizhiwei/EyeAI_working/deriva-ml/execution/5-XXHW/asset/eye-ai/Fundus_Bounding_Box/box2-BDDT.txt]. Please wait...\n",
      "2025-04-12 13:19:21,210 - INFO - Uploading file: [/data/lizhiwei/EyeAI_working/deriva-ml/execution/5-XXHW/asset/eye-ai/Fundus_Bounding_Box/box2-BDDT.txt] to host https://dev.eye-ai.org. Please wait...\n",
      "2025-04-12 13:19:21,273 - WARNING - The following 1 file(s) failed to upload due to errors:\n",
      "\n",
      "/data/lizhiwei/EyeAI_working/deriva-ml/execution/5-XXHW/asset/deriva-ml/Execution_Metadata/configuration.json -- [DerivaUploadCatalogCreateError] [HTTPError] 409 Client Error: CONFLICT for url: [https://dev.eye-ai.org/ermrest/catalog/eye-ai/entity/deriva-ml:Execution_Metadata?defaults=RID,Description,RCT,RMB,RMT,RCB] Details: b'Request conflicts with state of server. Detail: Input data violates model. ERROR:  duplicate key value violates unique constraint \"Execution_Metadata_URL_key\"\\nDETAIL:  Key (\"URL\")=(/hatrac/Execution_Metadata/33b2651c7254ad143cf06a0652b73a41.configuration.json.json:li3NRALf9pfhm2HgfkPHDpmIV5J9XNUk) already exists.\\n\\n' - Server responded: Request conflicts with state of server. Detail: Input data violates model. ERROR:  duplicate key value violates unique constraint \"Execution_Metadata_URL_key\": DETAIL:  Key (\"URL\")=(/hatrac/Execution_Metadata/33b2651c7254ad143cf06a0652b73a41.configuration.json.json:li3NRALf9pfhm2HgfkPHDpmIV5J9XNUk) already exists.\n",
      "\n",
      "2025-04-12 13:19:21,273 - INFO - File upload processing completed: 11 files were uploaded successfully, 1 files failed to upload due to errors, 0 files were skipped because they did not satisfy the matching criteria of the configuration.\n",
      "2025-04-12 13:19:21,274 - INFO - [RuntimeError] 1 file(s) failed to upload due to errors.\n",
      "2025-04-12 13:19:21,314 - INFO - [DerivaMLException] Fail to upload execution_assets. Error: [RuntimeError] 1 file(s) failed to upload due to errors.\n"
     ]
    },
    {
     "ename": "DerivaMLException",
     "evalue": "Fail to upload execution_assets. Error: [RuntimeError] 1 file(s) failed to upload due to errors.",
     "output_type": "error",
     "traceback": [
      "\u001b[0;31m---------------------------------------------------------------------------\u001b[0m",
      "\u001b[0;31mRuntimeError\u001b[0m                              Traceback (most recent call last)",
      "File \u001b[0;32m~/.conda/envs/my-tensorflow-conda/lib/python3.10/site-packages/deriva_ml/execution.py:401\u001b[0m, in \u001b[0;36mExecution._upload_execution_dirs\u001b[0;34m(self)\u001b[0m\n\u001b[1;32m    400\u001b[0m     \u001b[38;5;28mself\u001b[39m\u001b[38;5;241m.\u001b[39mupdate_status(Status\u001b[38;5;241m.\u001b[39mrunning, \u001b[38;5;124m\"\u001b[39m\u001b[38;5;124mUploading execution files...\u001b[39m\u001b[38;5;124m\"\u001b[39m)\n\u001b[0;32m--> 401\u001b[0m     results \u001b[38;5;241m=\u001b[39m \u001b[43mupload_directory\u001b[49m\u001b[43m(\u001b[49m\u001b[38;5;28;43mself\u001b[39;49m\u001b[38;5;241;43m.\u001b[39;49m\u001b[43m_model\u001b[49m\u001b[43m,\u001b[49m\u001b[43m \u001b[49m\u001b[38;5;28;43mself\u001b[39;49m\u001b[38;5;241;43m.\u001b[39;49m\u001b[43m_asset_root\u001b[49m\u001b[43m)\u001b[49m\n\u001b[1;32m    402\u001b[0m \u001b[38;5;28;01mexcept\u001b[39;00m \u001b[38;5;167;01mRuntimeError\u001b[39;00m \u001b[38;5;28;01mas\u001b[39;00m e:\n",
      "File \u001b[0;32m~/.conda/envs/my-tensorflow-conda/lib/python3.10/site-packages/pydantic/_internal/_validate_call.py:39\u001b[0m, in \u001b[0;36mupdate_wrapper_attributes.<locals>.wrapper_function\u001b[0;34m(*args, **kwargs)\u001b[0m\n\u001b[1;32m     37\u001b[0m \u001b[38;5;129m@functools\u001b[39m\u001b[38;5;241m.\u001b[39mwraps(wrapped)\n\u001b[1;32m     38\u001b[0m \u001b[38;5;28;01mdef\u001b[39;00m \u001b[38;5;21mwrapper_function\u001b[39m(\u001b[38;5;241m*\u001b[39margs, \u001b[38;5;241m*\u001b[39m\u001b[38;5;241m*\u001b[39mkwargs):\n\u001b[0;32m---> 39\u001b[0m     \u001b[38;5;28;01mreturn\u001b[39;00m \u001b[43mwrapper\u001b[49m\u001b[43m(\u001b[49m\u001b[38;5;241;43m*\u001b[39;49m\u001b[43margs\u001b[49m\u001b[43m,\u001b[49m\u001b[43m \u001b[49m\u001b[38;5;241;43m*\u001b[39;49m\u001b[38;5;241;43m*\u001b[39;49m\u001b[43mkwargs\u001b[49m\u001b[43m)\u001b[49m\n",
      "File \u001b[0;32m~/.conda/envs/my-tensorflow-conda/lib/python3.10/site-packages/pydantic/_internal/_validate_call.py:136\u001b[0m, in \u001b[0;36mValidateCallWrapper.__call__\u001b[0;34m(self, *args, **kwargs)\u001b[0m\n\u001b[1;32m    134\u001b[0m     \u001b[38;5;28mself\u001b[39m\u001b[38;5;241m.\u001b[39m_create_validators()\n\u001b[0;32m--> 136\u001b[0m res \u001b[38;5;241m=\u001b[39m \u001b[38;5;28;43mself\u001b[39;49m\u001b[38;5;241;43m.\u001b[39;49m\u001b[43m__pydantic_validator__\u001b[49m\u001b[38;5;241;43m.\u001b[39;49m\u001b[43mvalidate_python\u001b[49m\u001b[43m(\u001b[49m\u001b[43mpydantic_core\u001b[49m\u001b[38;5;241;43m.\u001b[39;49m\u001b[43mArgsKwargs\u001b[49m\u001b[43m(\u001b[49m\u001b[43margs\u001b[49m\u001b[43m,\u001b[49m\u001b[43m \u001b[49m\u001b[43mkwargs\u001b[49m\u001b[43m)\u001b[49m\u001b[43m)\u001b[49m\n\u001b[1;32m    137\u001b[0m \u001b[38;5;28;01mif\u001b[39;00m \u001b[38;5;28mself\u001b[39m\u001b[38;5;241m.\u001b[39m__return_pydantic_validator__:\n",
      "File \u001b[0;32m~/.conda/envs/my-tensorflow-conda/lib/python3.10/site-packages/deriva_ml/upload.py:326\u001b[0m, in \u001b[0;36mupload_directory\u001b[0;34m(model, directory)\u001b[0m\n\u001b[1;32m    319\u001b[0m     uploader\u001b[38;5;241m.\u001b[39mscanDirectory(directory)\n\u001b[1;32m    320\u001b[0m     results \u001b[38;5;241m=\u001b[39m {\n\u001b[1;32m    321\u001b[0m         path: FileUploadState(\n\u001b[1;32m    322\u001b[0m             state\u001b[38;5;241m=\u001b[39mUploadState(result[\u001b[38;5;124m\"\u001b[39m\u001b[38;5;124mState\u001b[39m\u001b[38;5;124m\"\u001b[39m]),\n\u001b[1;32m    323\u001b[0m             status\u001b[38;5;241m=\u001b[39mresult[\u001b[38;5;124m\"\u001b[39m\u001b[38;5;124mStatus\u001b[39m\u001b[38;5;124m\"\u001b[39m],\n\u001b[1;32m    324\u001b[0m             result\u001b[38;5;241m=\u001b[39mresult[\u001b[38;5;124m\"\u001b[39m\u001b[38;5;124mResult\u001b[39m\u001b[38;5;124m\"\u001b[39m],\n\u001b[1;32m    325\u001b[0m         )\n\u001b[0;32m--> 326\u001b[0m         \u001b[38;5;28;01mfor\u001b[39;00m path, result \u001b[38;5;129;01min\u001b[39;00m \u001b[43muploader\u001b[49m\u001b[38;5;241;43m.\u001b[39;49m\u001b[43muploadFiles\u001b[49m\u001b[43m(\u001b[49m\u001b[43m)\u001b[49m\u001b[38;5;241m.\u001b[39mitems()\n\u001b[1;32m    327\u001b[0m     }\n\u001b[1;32m    328\u001b[0m \u001b[38;5;28;01mfinally\u001b[39;00m:\n",
      "File \u001b[0;32m~/.conda/envs/my-tensorflow-conda/lib/python3.10/site-packages/deriva/transfer/upload/deriva_upload.py:630\u001b[0m, in \u001b[0;36mDerivaUpload.uploadFiles\u001b[0;34m(self, status_callback, file_callback)\u001b[0m\n\u001b[1;32m    627\u001b[0m         logger\u001b[38;5;241m.\u001b[39mwarning(\u001b[38;5;124m\"\u001b[39m\u001b[38;5;124mThe following \u001b[39m\u001b[38;5;132;01m%d\u001b[39;00m\u001b[38;5;124m file(s) failed to upload due to errors:\u001b[39m\u001b[38;5;130;01m\\n\u001b[39;00m\u001b[38;5;130;01m\\n\u001b[39;00m\u001b[38;5;132;01m%s\u001b[39;00m\u001b[38;5;130;01m\\n\u001b[39;00m\u001b[38;5;124m\"\u001b[39m \u001b[38;5;241m%\u001b[39m\n\u001b[1;32m    628\u001b[0m                        (\u001b[38;5;28mlen\u001b[39m(failed_uploads), \u001b[38;5;124m'\u001b[39m\u001b[38;5;130;01m\\n\u001b[39;00m\u001b[38;5;124m'\u001b[39m\u001b[38;5;241m.\u001b[39mjoin([\u001b[38;5;124m\"\u001b[39m\u001b[38;5;132;01m%s\u001b[39;00m\u001b[38;5;124m -- \u001b[39m\u001b[38;5;132;01m%s\u001b[39;00m\u001b[38;5;124m\"\u001b[39m \u001b[38;5;241m%\u001b[39m (key, failed_uploads[key])\n\u001b[1;32m    629\u001b[0m                                                         \u001b[38;5;28;01mfor\u001b[39;00m key \u001b[38;5;129;01min\u001b[39;00m \u001b[38;5;28msorted\u001b[39m(failed_uploads\u001b[38;5;241m.\u001b[39mkeys())])))\n\u001b[0;32m--> 630\u001b[0m         \u001b[38;5;28;01mraise\u001b[39;00m \u001b[38;5;167;01mRuntimeError\u001b[39;00m(\u001b[38;5;124m\"\u001b[39m\u001b[38;5;132;01m%s\u001b[39;00m\u001b[38;5;124m file(s) failed to upload due to errors.\u001b[39m\u001b[38;5;124m\"\u001b[39m \u001b[38;5;241m%\u001b[39m \u001b[38;5;28mlen\u001b[39m(failed_uploads))\n\u001b[1;32m    631\u001b[0m \u001b[38;5;28;01mfinally\u001b[39;00m:\n",
      "\u001b[0;31mRuntimeError\u001b[0m: 1 file(s) failed to upload due to errors.",
      "\nDuring handling of the above exception, another exception occurred:\n",
      "\u001b[0;31mDerivaMLException\u001b[0m                         Traceback (most recent call last)",
      "Cell \u001b[0;32mIn[31], line 1\u001b[0m\n\u001b[0;32m----> 1\u001b[0m out \u001b[38;5;241m=\u001b[39m \u001b[43mexecution\u001b[49m\u001b[38;5;241;43m.\u001b[39;49m\u001b[43mupload_execution_outputs\u001b[49m\u001b[43m(\u001b[49m\u001b[43m)\u001b[49m\n",
      "File \u001b[0;32m~/.conda/envs/my-tensorflow-conda/lib/python3.10/site-packages/deriva_ml/execution.py:558\u001b[0m, in \u001b[0;36mExecution.upload_execution_outputs\u001b[0;34m(self, clean_folder)\u001b[0m\n\u001b[1;32m    556\u001b[0m error \u001b[38;5;241m=\u001b[39m format_exception(e)\n\u001b[1;32m    557\u001b[0m \u001b[38;5;28mself\u001b[39m\u001b[38;5;241m.\u001b[39mupdate_status(Status\u001b[38;5;241m.\u001b[39mfailed, error)\n\u001b[0;32m--> 558\u001b[0m \u001b[38;5;28;01mraise\u001b[39;00m e\n",
      "File \u001b[0;32m~/.conda/envs/my-tensorflow-conda/lib/python3.10/site-packages/deriva_ml/execution.py:550\u001b[0m, in \u001b[0;36mExecution.upload_execution_outputs\u001b[0;34m(self, clean_folder)\u001b[0m\n\u001b[1;32m    548\u001b[0m     \u001b[38;5;28;01mreturn\u001b[39;00m {}\n\u001b[1;32m    549\u001b[0m \u001b[38;5;28;01mtry\u001b[39;00m:\n\u001b[0;32m--> 550\u001b[0m     \u001b[38;5;28mself\u001b[39m\u001b[38;5;241m.\u001b[39muploaded_assets \u001b[38;5;241m=\u001b[39m \u001b[38;5;28;43mself\u001b[39;49m\u001b[38;5;241;43m.\u001b[39;49m\u001b[43m_upload_execution_dirs\u001b[49m\u001b[43m(\u001b[49m\u001b[43m)\u001b[49m\n\u001b[1;32m    551\u001b[0m     \u001b[38;5;28mself\u001b[39m\u001b[38;5;241m.\u001b[39mupdate_status(Status\u001b[38;5;241m.\u001b[39mcompleted, \u001b[38;5;124m\"\u001b[39m\u001b[38;5;124mSuccessfully end the execution.\u001b[39m\u001b[38;5;124m\"\u001b[39m)\n\u001b[1;32m    552\u001b[0m     \u001b[38;5;28;01mif\u001b[39;00m clean_folder:\n",
      "File \u001b[0;32m~/.conda/envs/my-tensorflow-conda/lib/python3.10/site-packages/deriva_ml/execution.py:405\u001b[0m, in \u001b[0;36mExecution._upload_execution_dirs\u001b[0;34m(self)\u001b[0m\n\u001b[1;32m    403\u001b[0m     error \u001b[38;5;241m=\u001b[39m format_exception(e)\n\u001b[1;32m    404\u001b[0m     \u001b[38;5;28mself\u001b[39m\u001b[38;5;241m.\u001b[39mupdate_status(Status\u001b[38;5;241m.\u001b[39mfailed, error)\n\u001b[0;32m--> 405\u001b[0m     \u001b[38;5;28;01mraise\u001b[39;00m DerivaMLException(\u001b[38;5;124mf\u001b[39m\u001b[38;5;124m\"\u001b[39m\u001b[38;5;124mFail to upload execution_assets. Error: \u001b[39m\u001b[38;5;132;01m{\u001b[39;00merror\u001b[38;5;132;01m}\u001b[39;00m\u001b[38;5;124m\"\u001b[39m)\n\u001b[1;32m    407\u001b[0m asset_map \u001b[38;5;241m=\u001b[39m {}\n\u001b[1;32m    408\u001b[0m \u001b[38;5;28;01mfor\u001b[39;00m path, status \u001b[38;5;129;01min\u001b[39;00m results\u001b[38;5;241m.\u001b[39mitems():\n",
      "\u001b[0;31mDerivaMLException\u001b[0m: Fail to upload execution_assets. Error: [RuntimeError] 1 file(s) failed to upload due to errors."
     ]
    }
   ],
   "source": [
    "\n",
    "\n",
    "out = execution.upload_execution_outputs()"
   ]
  }
 ],
 "metadata": {
  "kernelspec": {
   "display_name": "My TensorFlow (Conda)",
   "language": "python",
   "name": "my-tensorflow-conda"
  },
  "language_info": {
   "codemirror_mode": {
    "name": "ipython",
    "version": 3
   },
   "file_extension": ".py",
   "mimetype": "text/x-python",
   "name": "python",
   "nbconvert_exporter": "python",
   "pygments_lexer": "ipython3",
   "version": "3.10.13"
  }
 },
 "nbformat": 4,
 "nbformat_minor": 5
}
