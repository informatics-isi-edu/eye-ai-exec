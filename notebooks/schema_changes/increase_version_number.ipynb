{
 "cells": [
  {
   "cell_type": "code",
   "execution_count": 8,
   "id": "5d00daab-005f-41d6-8ef5-37d85dfb85e6",
   "metadata": {},
   "outputs": [],
   "source": [
    "# Prerequisites\n",
    "import json\n",
    "import os\n",
    "from eye_ai.eye_ai import EyeAI\n",
    "\n",
    "import pandas as pd\n",
    "from pathlib import Path, PurePath\n",
    "import logging\n",
    "\n",
    "from deriva_ml import DatasetSpec, ExecutionConfiguration, DerivaML, Workflow, VersionPart\n",
    "from deriva_ml import MLVocab as vc\n",
    "from deriva_ml.deriva_definitions import ColumnDefinition, BuiltinTypes\n",
    "logging.basicConfig(level=logging.INFO, format='%(asctime)s - %(levelname)s - %(message)s', force=True)"
   ]
  },
  {
   "cell_type": "code",
   "execution_count": 2,
   "id": "3c1eaa9b-c0ae-467a-9520-c38c600413a2",
   "metadata": {},
   "outputs": [
    {
     "name": "stdout",
     "output_type": "stream",
     "text": [
      "You are already logged in.\n"
     ]
    }
   ],
   "source": [
    "# Login\n",
    "from deriva.core.utils.globus_auth_utils import GlobusNativeLogin\n",
    "host = 'dev.eye-ai.org'\n",
    "# host = 'www.eye-ai.org'\n",
    "catalog_id = \"eye-ai\"\n",
    "\n",
    "gnl = GlobusNativeLogin(host=host)\n",
    "if gnl.is_logged_in([host]):\n",
    "    print(\"You are already logged in.\")\n",
    "else:\n",
    "    gnl.login([host], no_local_server=True, no_browser=True, refresh_tokens=True, update_bdbag_keychain=True)\n",
    "    print(\"Login Successful\")"
   ]
  },
  {
   "cell_type": "code",
   "execution_count": 3,
   "id": "72454adf-2605-44ec-a4f4-e8f1ab507aa2",
   "metadata": {},
   "outputs": [
    {
     "name": "stderr",
     "output_type": "stream",
     "text": [
      "2025-04-09 10:14:13,874 - WARNING - nbstripout is not installed in repository. Please run nbstripout --install\n"
     ]
    }
   ],
   "source": [
    "cache_dir = '/data'\n",
    "working_dir = '/data'\n",
    "EA = EyeAI(hostname = host, catalog_id = catalog_id, cache_dir= cache_dir, working_dir=working_dir)"
   ]
  },
  {
   "cell_type": "code",
   "execution_count": 4,
   "id": "8aee3e9f-8e21-459e-90eb-e108e14876d0",
   "metadata": {},
   "outputs": [
    {
     "name": "stderr",
     "output_type": "stream",
     "text": [
      "2025-04-09 10:21:30,718 - WARNING - File /home/lizhiwei/Repos/eye-ai-exec/notebooks/schema_changes/increase_version_number.ipynb has been modified since last commit. Consider commiting before executing\n",
      "2025-04-09 10:21:31,115 - INFO - Downloading assets ...\n",
      "2025-04-09 10:21:31,675 - INFO - Initialize status finished.\n"
     ]
    }
   ],
   "source": [
    "EA.add_term(vc.workflow_type, \"Schema_Changes\", description=\"Workflows for schema changes.\")\n",
    "workflow_instance = EA.create_workflow(\n",
    "    name=\"Increase version number\",\n",
    "    workflow_type=\"Test Workflow\",\n",
    ")\n",
    "\n",
    "config = ExecutionConfiguration(\n",
    "    workflow= workflow_instance,\n",
    "    description=\"Increase the dataset version number due to schema/UI changes\")\n",
    "\n",
    "# Initialize execution\n",
    "execution = EA.create_execution(config)"
   ]
  },
  {
   "cell_type": "code",
   "execution_count": 12,
   "id": "daa793ac-200a-44dd-a080-20b5b69a4744",
   "metadata": {},
   "outputs": [],
   "source": [
    "# Full dataset RID\n",
    "lac = '2-1S12'\n",
    "usc = '2-7P5P'\n",
    "new_lac = '2-N93J'\n",
    "rot = '1-EATE'\n",
    "full_dataset = [lac, usc, new_lac, rot]"
   ]
  },
  {
   "cell_type": "code",
   "execution_count": 13,
   "id": "73647246-7498-4f92-92b2-740ccf7e91b6",
   "metadata": {},
   "outputs": [],
   "source": [
    "ma = VersionPart.major\n",
    "mi = VersionPart.minor\n",
    "pa = VersionPart.patch\n",
    "\n",
    "def increase_dataset(dataset_list, v_part):\n",
    "    for ds in dataset_list:\n",
    "        EA.increment_dataset_version(dataset_rid = ds, component = v_part)"
   ]
  },
  {
   "cell_type": "code",
   "execution_count": 14,
   "id": "523c150a-76fb-4c81-a744-2531a4670cec",
   "metadata": {},
   "outputs": [],
   "source": [
    "increase_dataset(full_dataset, ma)"
   ]
  }
 ],
 "metadata": {
  "kernelspec": {
   "display_name": "My TensorFlow (Conda)",
   "language": "python",
   "name": "my-tensorflow-conda"
  },
  "language_info": {
   "codemirror_mode": {
    "name": "ipython",
    "version": 3
   },
   "file_extension": ".py",
   "mimetype": "text/x-python",
   "name": "python",
   "nbconvert_exporter": "python",
   "pygments_lexer": "ipython3",
   "version": "3.10.13"
  }
 },
 "nbformat": 4,
 "nbformat_minor": 5
}
