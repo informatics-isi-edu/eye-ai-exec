{
 "cells": [
  {
   "cell_type": "code",
   "execution_count": 1,
   "id": "d0ca5209-1bae-464f-b8c9-7bb97153b812",
   "metadata": {},
   "outputs": [],
   "source": [
    "repo_dir = \"Repos\"   # Set this to be where your github repos are located.\n",
    "%load_ext autoreload\n",
    "%autoreload 2\n",
    "\n",
    "# Update the load path so python can find modules for the model\n",
    "import sys\n",
    "from pathlib import Path\n",
    "sys.path.insert(0, str(Path.home() / repo_dir / \"deriva-ml\"))\n",
    "sys.path.insert(0, str(Path.home() / repo_dir / \"eye-ai-ml\"))"
   ]
  },
  {
   "cell_type": "code",
   "execution_count": 2,
   "id": "65eea4ec-1e72-4015-a2cd-d72bf94fdefb",
   "metadata": {},
   "outputs": [],
   "source": [
    "# Prerequisites\n",
    "\n",
    "import json\n",
    "import os\n",
    "from eye_ai.eye_ai import EyeAI\n",
    "import pandas as pd\n",
    "from pathlib import Path, PurePath\n",
    "import logging\n",
    "from deriva.chisel import Model, Schema, Table, Column, Key, ForeignKey, builtin_types\n",
    "from deriva_ml.deriva_ml_base import DerivaML, DerivaMLException, FileUploadState, UploadState, ColumnDefinition, BuiltinTypes\n",
    "\n",
    "# import torch\n",
    "\n",
    "logging.basicConfig(level=logging.INFO, format='%(asctime)s - %(levelname)s - %(message)s', force=True)"
   ]
  },
  {
   "cell_type": "code",
   "execution_count": 3,
   "id": "19709707-f3ca-44f2-a148-1f5f6b5f5218",
   "metadata": {
    "scrolled": true
   },
   "outputs": [
    {
     "name": "stderr",
     "output_type": "stream",
     "text": [
      "2024-10-25 14:48:36,262 - INFO - Creating client of type <class 'globus_sdk.services.auth.client.native_client.NativeAppAuthClient'> for service \"auth\"\n",
      "2024-10-25 14:48:36,263 - INFO - Finished initializing AuthLoginClient. client_id='8ef15ba9-2b4a-469c-a163-7fd910c9d111', type(authorizer)=<class 'globus_sdk.authorizers.base.NullAuthorizer'>\n"
     ]
    },
    {
     "name": "stdout",
     "output_type": "stream",
     "text": [
      "You are already logged in.\n"
     ]
    }
   ],
   "source": [
    "from deriva.core.utils.globus_auth_utils import GlobusNativeLogin\n",
    "# catalog_id = \"362\" #@param\n",
    "catalog_id = \"428\" #@param\n",
    "# 411 412 426\n",
    "# host = 'www.eye-ai.org'\n",
    "host = 'dev.eye-ai.org'\n",
    "\n",
    "\n",
    "gnl = GlobusNativeLogin(host=host)\n",
    "if gnl.is_logged_in([host]):\n",
    "    print(\"You are already logged in.\")\n",
    "else:\n",
    "    gnl.login([host], no_local_server=True, no_browser=True, refresh_tokens=True, update_bdbag_keychain=True)\n",
    "    print(\"Login Successful\")"
   ]
  },
  {
   "cell_type": "code",
   "execution_count": 4,
   "id": "4864a327-59eb-4db1-bb22-5abb81fa8109",
   "metadata": {},
   "outputs": [
    {
     "name": "stderr",
     "output_type": "stream",
     "text": [
      "2024-10-25 14:48:36,288 - INFO - Creating client of type <class 'globus_sdk.services.auth.client.native_client.NativeAppAuthClient'> for service \"auth\"\n",
      "2024-10-25 14:48:36,289 - INFO - Finished initializing AuthLoginClient. client_id='8ef15ba9-2b4a-469c-a163-7fd910c9d111', type(authorizer)=<class 'globus_sdk.authorizers.base.NullAuthorizer'>\n"
     ]
    }
   ],
   "source": [
    "cache_dir = '/data'        # Directory in which to cache materialized BDBags for datasets\n",
    "working_dir = '/data'    # Directory in which to place output files for later upload.\n",
    "EA = EyeAI(hostname = host, catalog_id = catalog_id, \n",
    "           cache_dir= cache_dir, working_dir=working_dir)"
   ]
  },
  {
   "cell_type": "code",
   "execution_count": 36,
   "id": "b51bc500-f2a9-41a8-81ef-338e427f6c05",
   "metadata": {},
   "outputs": [],
   "source": [
    "def insert(table, mapping_list, num_up):\n",
    "    n = len(mapping_list)\n",
    "    for i in range(n // num_up):\n",
    "        table.insert(mapping_list[i * num_up: (i + 1) * num_up])\n",
    "        logging.info(f\"Updated indices: {i * num_up} to {(i + 1) * num_up}\")\n",
    "    remaining_start = (i + 1) * num_up if n >= num_up else 0\n",
    "    if remaining_start < n:\n",
    "        table.insert(mapping_list[remaining_start: n])\n",
    "        logging.info(f\"Updated indices: {remaining_start} to {n}\")"
   ]
  },
  {
   "cell_type": "code",
   "execution_count": 34,
   "id": "30dcaaa2-c982-4cce-9faa-3f22ed1d5d97",
   "metadata": {},
   "outputs": [],
   "source": [
    "column_cdratio = ColumnDefinition(\n",
    "    name='Cup/Disk_Ratio',\n",
    "    type=BuiltinTypes.float4,\n",
    "    nullok=True\n",
    ")\n",
    "\n",
    "column_comemnts = ColumnDefinition(\n",
    "    name='Comments',\n",
    "    type=builtin_types.text,\n",
    "    nullok=True\n",
    ")\n",
    "Process_table = EA.model.schemas['eye-ai'].tables['Process']\n",
    "\n",
    "feature_diagnosis = EA.create_feature(feature_name = \"Image_Diagnosis\", \n",
    "                                      table = \"Image\", \n",
    "                                      terms = [\"Diagnosis_Image\", \"Image_Quality\", \"Diagnosis_Tag\", \"Diagnosis_Status\"], \n",
    "                                      metadata = [column_cdratio, column_comemnts, Process_table],\n",
    "                                      comment=\"Image level diagnosis\")\n",
    "\n",
    "EA.model.schemas['eye-ai'].tables['Execution_Image_Image_Diagnosis'].alter(table_name='Image_Diagnosis')\n",
    "table = EA.model.schemas['eye-ai'].tables['Image_Diagnosis']\n",
    "process_column = table.column_definitions['Process']\n",
    "process_column.alter(nullok=True)\n",
    "execution_column = table.column_definitions['Execution']\n",
    "execution_column.alter(nullok=True)\n",
    "for col in [\"Diagnosis_Image\", \"Image_Quality\", \"Diagnosis_Tag\", \"Diagnosis_Status\"]:\n",
    "    column_def = table.column_definitions[col]\n",
    "    column_def.alter(nullok=True)\n",
    "\n",
    "feature_image_annot = EA.create_feature(feature_name = \"Image_Annotation\", \n",
    "                                        table = \"Image\", \n",
    "                                        terms = [\"Annotation_Function\", \"Annotation_Type\"], \n",
    "                                        assets = [\"Execution_Assets\"],\n",
    "                                        comment=\"Lateraliity of fundus images\")\n",
    "                                        \n",
    "EA.model.schemas['eye-ai'].tables['Execution_Image_Image_Annotation'].alter(table_name='Image_Diagnosis')\n",
    "table = EA.model.schemas['eye-ai'].tables['Execution_Image_Image_Annotation']\n",
    "execution_column = table.column_definitions['Execution']\n",
    "execution_column.alter(nullok=True)"
   ]
  },
  {
   "cell_type": "code",
   "execution_count": 17,
   "id": "a640ec1c-7eed-4d4e-9e74-c5cedda51c57",
   "metadata": {
    "scrolled": true
   },
   "outputs": [
    {
     "name": "stderr",
     "output_type": "stream",
     "text": [
      "2024-10-25 14:51:31,508 - INFO - Updated indices: 0 to 5000\n",
      "2024-10-25 14:51:33,787 - INFO - Updated indices: 5000 to 10000\n",
      "2024-10-25 14:51:35,941 - INFO - Updated indices: 10000 to 15000\n",
      "2024-10-25 14:51:36,004 - INFO - Updated indices: 15000 to 15111\n"
     ]
    }
   ],
   "source": [
    "image_annot_table = EA.domain_schema_instance.tables['Image_Annotation']\n",
    "image_annot_entities = pd.DataFrame(image_annot_table.path.entities())\n",
    "image_annot_ingest = image_annot_entities.drop(['RID', 'RID', 'RCT', 'RMT', 'RCB', 'RMB'], axis=1)\n",
    "image_annot_ingest['Feature_Name'] = \"Image_Annotation\"\n",
    "\n",
    "ingest_list = [\n",
    "    {k: v for k, v in record.items() if v is not None and not pd.isna(v)}\n",
    "    for record in image_annot_ingest.to_dict(orient='records')\n",
    "]\n",
    "\n",
    "new_image_annot_feature = EA.domain_schema_instance.tables['Execution_Image_Image_Annotation']\n",
    "insert(new_image_annot_feature, ingest_list, 5000)"
   ]
  },
  {
   "cell_type": "code",
   "execution_count": 37,
   "id": "1f3785c1-8443-45d2-82e3-141a8fb9bd7a",
   "metadata": {
    "scrolled": true
   },
   "outputs": [
    {
     "name": "stderr",
     "output_type": "stream",
     "text": [
      "2024-10-25 16:09:39,735 - INFO - Updated indices: 0 to 5000\n",
      "2024-10-25 16:09:42,380 - INFO - Updated indices: 5000 to 10000\n",
      "2024-10-25 16:09:44,935 - INFO - Updated indices: 10000 to 15000\n",
      "2024-10-25 16:09:47,736 - INFO - Updated indices: 15000 to 20000\n",
      "2024-10-25 16:09:50,519 - INFO - Updated indices: 20000 to 25000\n",
      "2024-10-25 16:09:53,646 - INFO - Updated indices: 25000 to 30000\n",
      "2024-10-25 16:09:56,816 - INFO - Updated indices: 30000 to 35000\n",
      "2024-10-25 16:09:59,555 - INFO - Updated indices: 35000 to 40000\n",
      "2024-10-25 16:10:02,190 - INFO - Updated indices: 40000 to 45000\n",
      "2024-10-25 16:10:04,908 - INFO - Updated indices: 45000 to 50000\n",
      "2024-10-25 16:10:07,705 - INFO - Updated indices: 50000 to 55000\n",
      "2024-10-25 16:10:10,579 - INFO - Updated indices: 55000 to 60000\n",
      "2024-10-25 16:10:13,823 - INFO - Updated indices: 60000 to 65000\n",
      "2024-10-25 16:10:16,876 - INFO - Updated indices: 65000 to 70000\n",
      "2024-10-25 16:10:20,143 - INFO - Updated indices: 70000 to 75000\n",
      "2024-10-25 16:10:23,039 - INFO - Updated indices: 75000 to 80000\n",
      "2024-10-25 16:10:25,564 - INFO - Updated indices: 80000 to 85000\n",
      "2024-10-25 16:10:28,492 - INFO - Updated indices: 85000 to 90000\n",
      "2024-10-25 16:10:30,930 - INFO - Updated indices: 90000 to 95000\n",
      "2024-10-25 16:10:33,406 - INFO - Updated indices: 95000 to 100000\n",
      "2024-10-25 16:10:36,058 - INFO - Updated indices: 100000 to 105000\n",
      "2024-10-25 16:10:38,830 - INFO - Updated indices: 105000 to 110000\n",
      "2024-10-25 16:10:41,383 - INFO - Updated indices: 110000 to 115000\n",
      "2024-10-25 16:10:44,481 - INFO - Updated indices: 115000 to 120000\n",
      "2024-10-25 16:10:47,247 - INFO - Updated indices: 120000 to 125000\n",
      "2024-10-25 16:10:50,483 - INFO - Updated indices: 125000 to 130000\n",
      "2024-10-25 16:10:53,076 - INFO - Updated indices: 130000 to 135000\n",
      "2024-10-25 16:10:55,457 - INFO - Updated indices: 135000 to 140000\n",
      "2024-10-25 16:10:58,538 - INFO - Updated indices: 140000 to 145000\n",
      "2024-10-25 16:11:00,965 - INFO - Updated indices: 145000 to 150000\n",
      "2024-10-25 16:11:03,721 - INFO - Updated indices: 150000 to 155000\n",
      "2024-10-25 16:11:06,877 - INFO - Updated indices: 155000 to 160000\n",
      "2024-10-25 16:11:09,717 - INFO - Updated indices: 160000 to 165000\n",
      "2024-10-25 16:11:12,288 - INFO - Updated indices: 165000 to 170000\n",
      "2024-10-25 16:11:15,536 - INFO - Updated indices: 170000 to 175000\n",
      "2024-10-25 16:11:18,935 - INFO - Updated indices: 175000 to 180000\n",
      "2024-10-25 16:11:21,770 - INFO - Updated indices: 180000 to 185000\n",
      "2024-10-25 16:11:24,650 - INFO - Updated indices: 185000 to 190000\n",
      "2024-10-25 16:11:24,713 - INFO - Updated indices: 190000 to 190082\n"
     ]
    }
   ],
   "source": [
    "diag_table = EA.domain_schema_instance.tables['Diagnosis']\n",
    "diag_entities = pd.DataFrame(diag_table.path.entities())\n",
    "diag_ingest = diag_entities.drop(['RID', 'RID', 'RCT', 'RMT', 'RCB', 'RMB'], axis=1)\n",
    "diag_ingest['Feature_Name'] = 'Diagnosis'\n",
    "ingest_list = diag_ingest.to_dict(orient='records')\n",
    "\n",
    "ingest_list = [\n",
    "    {k: v for k, v in record.items() if v is not None and not pd.isna(v)}\n",
    "    for record in diag_ingest.to_dict(orient='records')\n",
    "]\n",
    "new_diag_feature = EA.domain_schema_instance.tables['Image_Diagnosis']\n",
    "insert(new_diag_feature, ingest_list, 5000)"
   ]
  },
  {
   "cell_type": "code",
   "execution_count": 19,
   "id": "555c6cb9-3889-44f0-81be-043204b75e75",
   "metadata": {},
   "outputs": [],
   "source": [
    "table = EA.model.schemas['eye-ai'].tables['Image_Annotation']\n",
    "table.drop()\n",
    "EA.model.schemas['eye-ai'].tables['Execution_Image_Image_Annotation'].alter(table_name = 'Image_Annotation')"
   ]
  },
  {
   "cell_type": "code",
   "execution_count": 26,
   "id": "c39efa2f-ef2d-497a-bb72-c5d580850395",
   "metadata": {},
   "outputs": [
    {
     "name": "stderr",
     "output_type": "stream",
     "text": [
      "/tmp/ipykernel_4422/1182862097.py:4: SettingWithCopyWarning: \n",
      "A value is trying to be set on a copy of a slice from a DataFrame.\n",
      "Try using .loc[row_indexer,col_indexer] = value instead\n",
      "\n",
      "See the caveats in the documentation: https://pandas.pydata.org/pandas-docs/stable/user_guide/indexing.html#returning-a-view-versus-a-copy\n",
      "  image_annot_ingest['Feature_Name'] = \"Annotation\"\n",
      "2024-10-25 15:37:48,022 - INFO - Updated indices: 0 to 5000\n",
      "2024-10-25 15:37:50,160 - INFO - Updated indices: 5000 to 10000\n",
      "2024-10-25 15:37:51,988 - INFO - Updated indices: 10000 to 15000\n",
      "2024-10-25 15:37:52,052 - INFO - Updated indices: 15000 to 15111\n"
     ]
    }
   ],
   "source": [
    "image_annot_table = EA.domain_schema_instance.tables['Image_Annotation']\n",
    "image_annot_entities = pd.DataFrame(image_annot_table.path.entities())\n",
    "image_annot_ingest = image_annot_entities[['RID', 'Feature_Name']]\n",
    "image_annot_ingest['Feature_Name'] = \"Annotation\"\n",
    "\n",
    "ingest_list = [\n",
    "    {k: v for k, v in record.items() if v is not None and not pd.isna(v)}\n",
    "    for record in image_annot_ingest.to_dict(orient='records')\n",
    "]\n",
    "\n",
    "new_image_annot_feature = EA.domain_schema_instance.tables['Image_Annotation']\n",
    "update(new_image_annot_feature, ingest_list, 5000)"
   ]
  },
  {
   "cell_type": "code",
   "execution_count": 29,
   "id": "6a5a1f4a-69ab-46a5-bfc2-469bef4794bb",
   "metadata": {
    "scrolled": true
   },
   "outputs": [
    {
     "name": "stderr",
     "output_type": "stream",
     "text": [
      "/tmp/ipykernel_4422/990993981.py:4: SettingWithCopyWarning: \n",
      "A value is trying to be set on a copy of a slice from a DataFrame.\n",
      "Try using .loc[row_indexer,col_indexer] = value instead\n",
      "\n",
      "See the caveats in the documentation: https://pandas.pydata.org/pandas-docs/stable/user_guide/indexing.html#returning-a-view-versus-a-copy\n",
      "  diag_ingest['Feature_Name'] = \"Diagnosis\"\n",
      "2024-10-25 15:48:10,766 - INFO - Updated indices: 0 to 5000\n",
      "2024-10-25 15:48:13,025 - INFO - Updated indices: 5000 to 10000\n",
      "2024-10-25 15:48:15,514 - INFO - Updated indices: 10000 to 15000\n",
      "2024-10-25 15:48:17,146 - INFO - Updated indices: 15000 to 20000\n",
      "2024-10-25 15:48:18,670 - INFO - Updated indices: 20000 to 25000\n",
      "2024-10-25 15:48:20,449 - INFO - Updated indices: 25000 to 30000\n",
      "2024-10-25 15:48:22,454 - INFO - Updated indices: 30000 to 35000\n",
      "2024-10-25 15:48:24,117 - INFO - Updated indices: 35000 to 40000\n",
      "2024-10-25 15:48:26,159 - INFO - Updated indices: 40000 to 45000\n",
      "2024-10-25 15:48:28,517 - INFO - Updated indices: 45000 to 50000\n",
      "2024-10-25 15:48:30,566 - INFO - Updated indices: 50000 to 55000\n",
      "2024-10-25 15:48:32,193 - INFO - Updated indices: 55000 to 60000\n",
      "2024-10-25 15:48:33,872 - INFO - Updated indices: 60000 to 65000\n",
      "2024-10-25 15:48:35,603 - INFO - Updated indices: 65000 to 70000\n",
      "2024-10-25 15:48:37,343 - INFO - Updated indices: 70000 to 75000\n",
      "2024-10-25 15:48:39,004 - INFO - Updated indices: 75000 to 80000\n",
      "2024-10-25 15:48:40,984 - INFO - Updated indices: 80000 to 85000\n",
      "2024-10-25 15:48:43,005 - INFO - Updated indices: 85000 to 90000\n",
      "2024-10-25 15:48:45,716 - INFO - Updated indices: 90000 to 95000\n",
      "2024-10-25 15:48:47,649 - INFO - Updated indices: 95000 to 100000\n",
      "2024-10-25 15:48:50,003 - INFO - Updated indices: 100000 to 105000\n",
      "2024-10-25 15:48:52,566 - INFO - Updated indices: 105000 to 110000\n",
      "2024-10-25 15:48:54,739 - INFO - Updated indices: 110000 to 115000\n",
      "2024-10-25 15:48:57,067 - INFO - Updated indices: 115000 to 120000\n",
      "2024-10-25 15:48:59,500 - INFO - Updated indices: 120000 to 125000\n",
      "2024-10-25 15:49:01,164 - INFO - Updated indices: 125000 to 130000\n",
      "2024-10-25 15:49:03,483 - INFO - Updated indices: 130000 to 135000\n",
      "2024-10-25 15:49:05,833 - INFO - Updated indices: 135000 to 140000\n",
      "2024-10-25 15:49:08,859 - INFO - Updated indices: 140000 to 145000\n",
      "2024-10-25 15:49:11,551 - INFO - Updated indices: 145000 to 150000\n",
      "2024-10-25 15:49:14,031 - INFO - Updated indices: 150000 to 155000\n",
      "2024-10-25 15:49:25,859 - INFO - Updated indices: 155000 to 160000\n",
      "2024-10-25 15:49:36,550 - INFO - Updated indices: 160000 to 165000\n",
      "2024-10-25 15:49:38,822 - INFO - Updated indices: 165000 to 170000\n",
      "2024-10-25 15:49:40,433 - INFO - Updated indices: 170000 to 175000\n",
      "2024-10-25 15:49:42,776 - INFO - Updated indices: 175000 to 180000\n",
      "2024-10-25 15:49:44,751 - INFO - Updated indices: 180000 to 185000\n",
      "2024-10-25 15:49:54,703 - INFO - Updated indices: 185000 to 190000\n",
      "2024-10-25 15:49:54,849 - INFO - Updated indices: 190000 to 190082\n"
     ]
    }
   ],
   "source": [
    "diag_table = EA.domain_schema_instance.tables['Image_Diagnosis']\n",
    "diag_entities = pd.DataFrame(diag_table.path.entities())\n",
    "diag_ingest = diag_entities[['RID', 'Feature_Name']]\n",
    "diag_ingest['Feature_Name'] = \"Diagnosis\"\n",
    "\n",
    "ingest_list = [\n",
    "    {k: v for k, v in record.items() if v is not None and not pd.isna(v)}\n",
    "    for record in diag_ingest.to_dict(orient='records')\n",
    "]\n",
    "\n",
    "new_diag_feature = EA.domain_schema_instance.tables['Image_Diagnosis']\n",
    "update(new_diag_feature, ingest_list, 5000)"
   ]
  },
  {
   "cell_type": "code",
   "execution_count": 38,
   "id": "72d0834c-48e8-47a6-ba60-c1c66a21e6f8",
   "metadata": {},
   "outputs": [
    {
     "data": {
      "text/plain": [
       "<deriva.core.ermrest_model.Table object 'eye-ai'.'Diagnosis' at 0x7fbed2d6fe20>"
      ]
     },
     "execution_count": 38,
     "metadata": {},
     "output_type": "execute_result"
    }
   ],
   "source": [
    "EA.model.schemas['eye-ai'].tables['Diagnosis'].drop()\n",
    "EA.model.schemas['eye-ai'].tables['Image_Diagnosis'].alter(table_name='Diagnosis')"
   ]
  },
  {
   "cell_type": "code",
   "execution_count": null,
   "id": "5cc2ba6c-1740-44d2-974a-3a57ebceee96",
   "metadata": {},
   "outputs": [],
   "source": []
  }
 ],
 "metadata": {
  "kernelspec": {
   "display_name": "My Tensorflow",
   "language": "python",
   "name": "my-tensorflow"
  },
  "language_info": {
   "codemirror_mode": {
    "name": "ipython",
    "version": 3
   },
   "file_extension": ".py",
   "mimetype": "text/x-python",
   "name": "python",
   "nbconvert_exporter": "python",
   "pygments_lexer": "ipython3",
   "version": "3.10.13"
  }
 },
 "nbformat": 4,
 "nbformat_minor": 5
}
