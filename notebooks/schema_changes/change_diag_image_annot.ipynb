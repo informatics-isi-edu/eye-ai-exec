{
 "cells": [
  {
   "cell_type": "code",
   "execution_count": null,
   "id": "d0ca5209-1bae-464f-b8c9-7bb97153b812",
   "metadata": {},
   "outputs": [],
   "source": [
    "repo_dir = \"Repos\"   # Set this to be where your github repos are located.\n",
    "%load_ext autoreload\n",
    "%autoreload 2\n",
    "\n",
    "# Update the load path so python can find modules for the model\n",
    "import sys\n",
    "from pathlib import Path\n",
    "sys.path.insert(0, str(Path.home() / repo_dir / \"deriva-ml\"))\n",
    "sys.path.insert(0, str(Path.home() / repo_dir / \"eye-ai-ml\"))"
   ]
  },
  {
   "cell_type": "code",
   "execution_count": null,
   "id": "65eea4ec-1e72-4015-a2cd-d72bf94fdefb",
   "metadata": {},
   "outputs": [],
   "source": [
    "# Prerequisites\n",
    "\n",
    "import json\n",
    "import os\n",
    "from eye_ai.eye_ai import EyeAI\n",
    "import pandas as pd\n",
    "from pathlib import Path, PurePath\n",
    "import logging\n",
    "from deriva.chisel import Model, Schema, Table, Column, Key, ForeignKey, builtin_types\n",
    "from deriva_ml.deriva_ml_base import DerivaML, DerivaMLException, FileUploadState, UploadState, ColumnDefinition, BuiltinTypes\n",
    "\n",
    "# import torch\n",
    "\n",
    "logging.basicConfig(level=logging.INFO, format='%(asctime)s - %(levelname)s - %(message)s', force=True)"
   ]
  },
  {
   "cell_type": "code",
   "execution_count": null,
   "id": "19709707-f3ca-44f2-a148-1f5f6b5f5218",
   "metadata": {},
   "outputs": [],
   "source": [
    "from deriva.core.utils.globus_auth_utils import GlobusNativeLogin\n",
    "# catalog_id = \"362\" #@param\n",
    "catalog_id = \"428\" #@param\n",
    "# 411 412 426\n",
    "# host = 'www.eye-ai.org'\n",
    "host = 'dev.eye-ai.org'\n",
    "\n",
    "\n",
    "gnl = GlobusNativeLogin(host=host)\n",
    "if gnl.is_logged_in([host]):\n",
    "    print(\"You are already logged in.\")\n",
    "else:\n",
    "    gnl.login([host], no_local_server=True, no_browser=True, refresh_tokens=True, update_bdbag_keychain=True)\n",
    "    print(\"Login Successful\")"
   ]
  },
  {
   "cell_type": "code",
   "execution_count": null,
   "id": "4864a327-59eb-4db1-bb22-5abb81fa8109",
   "metadata": {},
   "outputs": [],
   "source": [
    "cache_dir = '/data'        # Directory in which to cache materialized BDBags for datasets\n",
    "working_dir = '/data'    # Directory in which to place output files for later upload.\n",
    "EA = EyeAI(hostname = host, catalog_id = catalog_id, \n",
    "           cache_dir= cache_dir, working_dir=working_dir)"
   ]
  },
  {
   "cell_type": "code",
   "execution_count": null,
   "id": "b51bc500-f2a9-41a8-81ef-338e427f6c05",
   "metadata": {},
   "outputs": [],
   "source": [
    "def insert(table, mapping_list, num_up):\n",
    "    n = len(mapping_list)\n",
    "    for i in range(n // num_up):\n",
    "        table.insert(mapping_list[i * num_up: (i + 1) * num_up])\n",
    "        logging.info(f\"Updated indices: {i * num_up} to {(i + 1) * num_up}\")\n",
    "    remaining_start = (i + 1) * num_up if n >= num_up else 0\n",
    "    if remaining_start < n:\n",
    "        table.insert(mapping_list[remaining_start: n])\n",
    "        logging.info(f\"Updated indices: {remaining_start} to {n}\")"
   ]
  },
  {
   "cell_type": "code",
   "execution_count": null,
   "id": "30dcaaa2-c982-4cce-9faa-3f22ed1d5d97",
   "metadata": {},
   "outputs": [],
   "source": [
    "column_cdratio = ColumnDefinition(\n",
    "    name='Cup/Disk_Ratio',\n",
    "    type=BuiltinTypes.float4,\n",
    "    nullok=True\n",
    ")\n",
    "\n",
    "column_comemnts = ColumnDefinition(\n",
    "    name='Comments',\n",
    "    type=builtin_types.text,\n",
    "    nullok=True\n",
    ")\n",
    "Process_table = EA.model.schemas['eye-ai'].tables['Process']\n",
    "\n",
    "feature_diagnosis = EA.create_feature(feature_name = \"Image_Diagnosis\", \n",
    "                                      table = \"Image\", \n",
    "                                      terms = [\"Diagnosis_Image\", \"Image_Quality\", \"Diagnosis_Tag\", \"Diagnosis_Status\"], \n",
    "                                      metadata = [column_cdratio, column_comemnts, Process_table],\n",
    "                                      comment=\"Image level diagnosis\")\n",
    "\n",
    "EA.model.schemas['eye-ai'].tables['Execution_Image_Image_Diagnosis'].alter(table_name='Image_Diagnosis')\n",
    "table = EA.model.schemas['eye-ai'].tables['Image_Diagnosis']\n",
    "process_column = table.column_definitions['Process']\n",
    "process_column.alter(nullok=True)\n",
    "execution_column = table.column_definitions['Execution']\n",
    "execution_column.alter(nullok=True)\n",
    "for col in [\"Diagnosis_Image\", \"Image_Quality\", \"Diagnosis_Tag\", \"Diagnosis_Status\"]:\n",
    "    column_def = table.column_definitions[col]\n",
    "    column_def.alter(nullok=True)\n",
    "\n",
    "feature_image_annot = EA.create_feature(feature_name = \"Image_Annotation\", \n",
    "                                        table = \"Image\", \n",
    "                                        terms = [\"Annotation_Function\", \"Annotation_Type\"], \n",
    "                                        assets = [\"Execution_Assets\"],\n",
    "                                        comment=\"Lateraliity of fundus images\")\n",
    "                                        \n",
    "EA.model.schemas['eye-ai'].tables['Execution_Image_Image_Annotation'].alter(table_name='Image_Diagnosis')\n",
    "table = EA.model.schemas['eye-ai'].tables['Execution_Image_Image_Annotation']\n",
    "execution_column = table.column_definitions['Execution']\n",
    "execution_column.alter(nullok=True)"
   ]
  },
  {
   "cell_type": "code",
   "execution_count": null,
   "id": "a640ec1c-7eed-4d4e-9e74-c5cedda51c57",
   "metadata": {},
   "outputs": [],
   "source": [
    "image_annot_table = EA.domain_schema_instance.tables['Image_Annotation']\n",
    "image_annot_entities = pd.DataFrame(image_annot_table.path.entities())\n",
    "image_annot_ingest = image_annot_entities.drop(['RID', 'RID', 'RCT', 'RMT', 'RCB', 'RMB'], axis=1)\n",
    "image_annot_ingest['Feature_Name'] = \"Image_Annotation\"\n",
    "\n",
    "ingest_list = [\n",
    "    {k: v for k, v in record.items() if v is not None and not pd.isna(v)}\n",
    "    for record in image_annot_ingest.to_dict(orient='records')\n",
    "]\n",
    "\n",
    "new_image_annot_feature = EA.domain_schema_instance.tables['Execution_Image_Image_Annotation']\n",
    "insert(new_image_annot_feature, ingest_list, 5000)"
   ]
  },
  {
   "cell_type": "code",
   "execution_count": null,
   "id": "1f3785c1-8443-45d2-82e3-141a8fb9bd7a",
   "metadata": {},
   "outputs": [],
   "source": [
    "diag_table = EA.domain_schema_instance.tables['Diagnosis']\n",
    "diag_entities = pd.DataFrame(diag_table.path.entities())\n",
    "diag_ingest = diag_entities.drop(['RID', 'RID', 'RCT', 'RMT', 'RCB', 'RMB'], axis=1)\n",
    "diag_ingest['Feature_Name'] = 'Diagnosis'\n",
    "ingest_list = diag_ingest.to_dict(orient='records')\n",
    "\n",
    "ingest_list = [\n",
    "    {k: v for k, v in record.items() if v is not None and not pd.isna(v)}\n",
    "    for record in diag_ingest.to_dict(orient='records')\n",
    "]\n",
    "new_diag_feature = EA.domain_schema_instance.tables['Image_Diagnosis']\n",
    "insert(new_diag_feature, ingest_list, 5000)"
   ]
  },
  {
   "cell_type": "code",
   "execution_count": null,
   "id": "555c6cb9-3889-44f0-81be-043204b75e75",
   "metadata": {},
   "outputs": [],
   "source": [
    "table = EA.model.schemas['eye-ai'].tables['Image_Annotation']\n",
    "table.drop()\n",
    "EA.model.schemas['eye-ai'].tables['Execution_Image_Image_Annotation'].alter(table_name = 'Image_Annotation')"
   ]
  },
  {
   "cell_type": "code",
   "execution_count": null,
   "id": "c39efa2f-ef2d-497a-bb72-c5d580850395",
   "metadata": {},
   "outputs": [],
   "source": [
    "image_annot_table = EA.domain_schema_instance.tables['Image_Annotation']\n",
    "image_annot_entities = pd.DataFrame(image_annot_table.path.entities())\n",
    "image_annot_ingest = image_annot_entities[['RID', 'Feature_Name']]\n",
    "image_annot_ingest['Feature_Name'] = \"Annotation\"\n",
    "\n",
    "ingest_list = [\n",
    "    {k: v for k, v in record.items() if v is not None and not pd.isna(v)}\n",
    "    for record in image_annot_ingest.to_dict(orient='records')\n",
    "]\n",
    "\n",
    "new_image_annot_feature = EA.domain_schema_instance.tables['Image_Annotation']\n",
    "update(new_image_annot_feature, ingest_list, 5000)"
   ]
  },
  {
   "cell_type": "code",
   "execution_count": null,
   "id": "6a5a1f4a-69ab-46a5-bfc2-469bef4794bb",
   "metadata": {},
   "outputs": [],
   "source": [
    "diag_table = EA.domain_schema_instance.tables['Image_Diagnosis']\n",
    "diag_entities = pd.DataFrame(diag_table.path.entities())\n",
    "diag_ingest = diag_entities[['RID', 'Feature_Name']]\n",
    "diag_ingest['Feature_Name'] = \"Diagnosis\"\n",
    "\n",
    "ingest_list = [\n",
    "    {k: v for k, v in record.items() if v is not None and not pd.isna(v)}\n",
    "    for record in diag_ingest.to_dict(orient='records')\n",
    "]\n",
    "\n",
    "new_diag_feature = EA.domain_schema_instance.tables['Image_Diagnosis']\n",
    "update(new_diag_feature, ingest_list, 5000)"
   ]
  },
  {
   "cell_type": "code",
   "execution_count": null,
   "id": "72d0834c-48e8-47a6-ba60-c1c66a21e6f8",
   "metadata": {},
   "outputs": [],
   "source": [
    "EA.model.schemas['eye-ai'].tables['Diagnosis'].drop()\n",
    "EA.model.schemas['eye-ai'].tables['Image_Diagnosis'].alter(table_name='Diagnosis')"
   ]
  },
  {
   "cell_type": "code",
   "execution_count": null,
   "id": "5cc2ba6c-1740-44d2-974a-3a57ebceee96",
   "metadata": {},
   "outputs": [],
   "source": []
  }
 ],
 "metadata": {
  "language_info": {
   "name": "python"
  }
 },
 "nbformat": 4,
 "nbformat_minor": 5
}
