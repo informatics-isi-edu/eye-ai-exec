{
 "cells": [
  {
   "cell_type": "code",
   "execution_count": null,
   "id": "99637222-c193-40b0-a5a8-f62d3a6d8571",
   "metadata": {},
   "outputs": [],
   "source": [
    "repo_dir = \"Repos\"   # Set this to be where your github repos are located.\n",
    "%load_ext autoreload\n",
    "%autoreload 2\n",
    "\n",
    "# Update the load path so python can find modules for the model\n",
    "import sys\n",
    "from pathlib import Path\n",
    "sys.path.insert(0, str(Path.home() / repo_dir / \"deriva-ml\"))\n",
    "sys.path.insert(0, str(Path.home() / repo_dir / \"eye-ai-ml\"))\n"
   ]
  },
  {
   "cell_type": "code",
   "execution_count": null,
   "id": "b916dc1e-07ce-4aa5-9833-0daee9ee9cf9",
   "metadata": {},
   "outputs": [],
   "source": [
    "# Prerequisites\n",
    "import json\n",
    "import os\n",
    "import pandas as pd\n",
    "from pathlib import Path, PurePath\n",
    "import logging\n",
    "\n",
    "from eye_ai.eye_ai import EyeAI\n",
    "\n",
    "from deriva_ml.deriva_ml_base import ColumnDefinition, BuiltinTypes\n",
    "from deriva_ml.deriva_ml_base import MLVocab as vc\n",
    "from deriva_ml.schema_setup.test_catalog import create_test_catalog, DemoML\n",
    "from deriva_ml.execution_configuration import ExecutionConfiguration, Workflow, Execution\n",
    "\n",
    "\n",
    "logging.basicConfig(level=logging.INFO, format='%(asctime)s - %(levelname)s - %(message)s', force=True)"
   ]
  },
  {
   "cell_type": "code",
   "execution_count": null,
   "id": "b50caf77-9b36-4f3a-94ba-dc7f5ac21e41",
   "metadata": {
    "scrolled": true
   },
   "outputs": [],
   "source": [
    "from deriva.core.utils.globus_auth_utils import GlobusNativeLogin\n",
    "# host = 'dev.eye-ai.org'\n",
    "# catalog_id = \"428\"\n",
    "\n",
    "host = 'www.eye-ai.org'\n",
    "catalog_id = \"21\"\n",
    "# catalog_id = \"eye-ai\"\n",
    "\n",
    "gnl = GlobusNativeLogin(host=host)\n",
    "if gnl.is_logged_in([host]):\n",
    "    print(\"You are already logged in.\")\n",
    "else:\n",
    "    gnl.login([host], no_local_server=True, no_browser=True, refresh_tokens=True, update_bdbag_keychain=True)\n",
    "    print(\"Login Successful\")"
   ]
  },
  {
   "cell_type": "code",
   "execution_count": null,
   "id": "10629c29-4ba4-413a-9e9d-576241c58564",
   "metadata": {},
   "outputs": [],
   "source": [
    "# Variables to configure the rest of the notebook.\n",
    "\n",
    "cache_dir = '/data'        # Directory in which to cache materialized BDBags for datasets\n",
    "working_dir = '/data'    # Directory in which to place output files for later upload.\n",
    "\n",
    "# configuration_rid = '2-CDBE' # dev'2-BHN6' 2-CDBE Prod'2-CCBC'"
   ]
  },
  {
   "cell_type": "code",
   "execution_count": null,
   "id": "0729f4a3-4d8f-477d-b3fa-1427a560189d",
   "metadata": {},
   "outputs": [],
   "source": [
    "EA = EyeAI(hostname = host, catalog_id = catalog_id, cache_dir= cache_dir, working_dir=working_dir)\n",
    "# EA = EyeAI(hostname = host, catalog_id = catalog_id, cache_dir= cache_dir, working_dir=working_dir, ml_schema = 'eye-ai')\n",
    "\n",
    "# configuration_records = EA.execution_init(configuration_rid=configuration_rid)\n",
    "# configuration_records.model_dump()"
   ]
  },
  {
   "cell_type": "code",
   "execution_count": null,
   "id": "6115efa0-793b-493f-bc22-9f553729b9e8",
   "metadata": {
    "scrolled": true
   },
   "outputs": [],
   "source": [
    "# EA.find_datasets()\n",
    "EA.download_dataset_bag('2-7K8W') # 2-7K8W 2-A5T4 minid:dUJKeiUSk8NN"
   ]
  },
  {
   "cell_type": "code",
   "execution_count": null,
   "id": "b9b3ef0c-d6de-49fa-912a-d2181623b83b",
   "metadata": {},
   "outputs": [],
   "source": [
    "subject = pd.read_csv('/data/2-7K8W_fe4292877a9bf1de734e29a0155553c1b1e14cce05f874a0994f6201caeee00b/Dataset_2-7K8W/data/Subject/Subject.csv')\n",
    "subject\n",
    "# EA.cache_dir\n",
    "# diag = pd.read_csv('/data/2-7K8W_c782011a6d5e8e6ec17b8c8a7d20c3f56750a1ffcb002d72b76de4c22528335a/Dataset_2-7K8W/data/Diagnosis_Image/Diagnosis_Image.csv')\n",
    "# diag\n",
    "\n",
    "\n",
    "\n"
   ]
  },
  {
   "cell_type": "code",
   "execution_count": null,
   "id": "b0dbd644-5313-4f73-bf77-58922b112bde",
   "metadata": {},
   "outputs": [],
   "source": [
    "from bdbag import bdbag_api as bdb\n",
    "minid = 'minid:1BQ7D7JwSrQcb'\n",
    "bdb.materialize(minid)"
   ]
  },
  {
   "cell_type": "markdown",
   "id": "85382d17-b2a6-461f-8898-181079ebf09e",
   "metadata": {},
   "source": [
    "# 1. Configuration"
   ]
  },
  {
   "cell_type": "code",
   "execution_count": null,
   "id": "0596b4cb-1824-4d15-a5aa-b8f00634f6f9",
   "metadata": {
    "scrolled": true
   },
   "outputs": [],
   "source": [
    "# Add Workflow Vocab terms\n",
    "EA.add_term(vc.workflow_type, \"Test Workflow\", description=\"A test Workflow for new DM\")\n",
    "# Workflow instance\n",
    "test_workflow = Workflow(\n",
    "    name=\"Test New Workflow\", \n",
    "    url=\"https://github.com/informatics-isi-edu/eye-ai-exec/blob/main/notebooks/schema_changes/test_eye-ai_changes.ipynb\",\n",
    "    workflow_type=\"API Workflow\"\n",
    ")\n",
    "# Configuration instance\n",
    "config = ExecutionConfiguration(\n",
    "    bdbag_url=['2-7K8W'], #minid:1JiKxaIcjAIaO\n",
    "    models = ['2-4JR6'],\n",
    "    execution=Execution(description=\"Sample Test Execution\"), \n",
    "    workflow=test_workflow, \n",
    "    description=\"Our Test Workflow instance\")\n",
    "# Initialize execution\n",
    "configuration_record = EA.initialize_execution(config)\n",
    "execution_rid = configuration_record.execution_rid\n",
    "  "
   ]
  },
  {
   "cell_type": "code",
   "execution_count": null,
   "id": "2404fbd6-251b-4d8f-99de-dac078132d5d",
   "metadata": {},
   "outputs": [],
   "source": [
    "EA.cache_dir\n"
   ]
  },
  {
   "cell_type": "code",
   "execution_count": null,
   "id": "2e5fc21b-5f21-46f1-9e77-3608fb188eda",
   "metadata": {},
   "outputs": [],
   "source": [
    "uploaded_assets = EA.execution_upload(configuration_records.execution_rid, True)"
   ]
  },
  {
   "cell_type": "code",
   "execution_count": null,
   "id": "7947836e-0edf-4d83-874c-faf4ccc29b95",
   "metadata": {},
   "outputs": [],
   "source": [
    "configuration_records.execution_rid"
   ]
  },
  {
   "cell_type": "code",
   "execution_count": null,
   "id": "3008407e-fc8b-4c1e-953a-7ca563b03399",
   "metadata": {},
   "outputs": [],
   "source": []
  }
 ],
 "metadata": {
  "kernelspec": {
   "display_name": "My Tensorflow",
   "language": "python",
   "name": "my-tensorflow"
  },
  "language_info": {
   "codemirror_mode": {
    "name": "ipython",
    "version": 3
   },
   "file_extension": ".py",
   "mimetype": "text/x-python",
   "name": "python",
   "nbconvert_exporter": "python",
   "pygments_lexer": "ipython3",
   "version": "3.10.13"
  }
 },
 "nbformat": 4,
 "nbformat_minor": 5
}
