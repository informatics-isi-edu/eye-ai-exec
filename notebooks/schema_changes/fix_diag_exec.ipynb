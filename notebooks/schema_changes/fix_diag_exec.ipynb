{
 "cells": [
  {
   "cell_type": "code",
   "execution_count": null,
   "id": "3518c6d3-4c4f-4e73-b64d-54d245a1f53c",
   "metadata": {},
   "outputs": [],
   "source": [
    "# Prerequisites\n",
    "import json\n",
    "import os\n",
    "from eye_ai.eye_ai import EyeAI\n",
    "\n",
    "import pandas as pd\n",
    "from pathlib import Path, PurePath\n",
    "import logging\n",
    "\n",
    "from deriva_ml import DatasetBag, Workflow, ExecutionConfiguration\n",
    "from deriva_ml import MLVocab as vc\n",
    "logging.basicConfig(level=logging.INFO, format='%(asctime)s - %(levelname)s - %(message)s', force=True)"
   ]
  },
  {
   "cell_type": "code",
   "execution_count": null,
   "id": "2f6acf7c-1d5c-46fa-a9ef-b5290fb8a10a",
   "metadata": {},
   "outputs": [],
   "source": [
    "# Login\n",
    "from deriva.core.utils.globus_auth_utils import GlobusNativeLogin\n",
    "host = 'www.eye-ai.org'\n",
    "# host = 'dev.eye-ai.org'\n",
    "catalog_id = \"eye-ai\"\n",
    "\n",
    "gnl = GlobusNativeLogin(host=host)\n",
    "if gnl.is_logged_in([host]):\n",
    "    print(\"You are already logged in.\")\n",
    "else:\n",
    "    gnl.login([host], no_local_server=True, no_browser=True, refresh_tokens=True, update_bdbag_keychain=True)\n",
    "    print(\"Login Successful\")"
   ]
  },
  {
   "cell_type": "code",
   "execution_count": null,
   "id": "a1f61bb0-b250-480d-b1e1-f308e8426e72",
   "metadata": {},
   "outputs": [],
   "source": [
    "cache_dir = '/data'\n",
    "working_dir = '/data'\n",
    "EA = EyeAI(hostname = host, catalog_id = catalog_id, cache_dir= cache_dir, working_dir=working_dir)"
   ]
  },
  {
   "cell_type": "code",
   "execution_count": null,
   "id": "93b7b2e0-a089-42d1-8851-0eab091c0cb5",
   "metadata": {},
   "outputs": [],
   "source": [
    "EA.add_term(vc.workflow_type, \"Test Workflow\", description=\"A test Workflow for new DM\")\n",
    "# Workflow instance\n",
    "new_workflow = Workflow(\n",
    "    name=\"Fill diag exec_rid\",\n",
    "    url=\"https://github.com/informatics-isi-edu/eye-ai-exec/blob/main/notebooks/schema_changes/fix_diag_exec.ipynb\",\n",
    "    workflow_type=\"Data_Model_Changes\"\n",
    ")\n",
    "\n",
    "config = ExecutionConfiguration(\n",
    "    workflow=new_workflow,\n",
    "    description=\"fill execution rid for UI annotation on prod\")\n"
   ]
  },
  {
   "cell_type": "code",
   "execution_count": null,
   "id": "5743cde4-fcd0-4839-b662-8d03eb3d70b8",
   "metadata": {},
   "outputs": [],
   "source": [
    "def batchinsert(table, entities):\n",
    "    n = len(entities)\n",
    "    batch_num = min(2000, n)\n",
    "    for i in range(n//batch_num):\n",
    "        table.insert(entities[i*batch_num: (i+1)*batch_num], nondefaults={'RCB', 'RCT'})\n",
    "        logging.info(\"Processed batch: %d to %d\", i * batch_num, (i + 1) * batch_num)\n",
    "    if (i+1)*batch_num < n:\n",
    "        table.insert(entities[(i+1)*batch_num: n], nondefaults={'RCB', 'RCT'})\n",
    "        logging.info(\"Processed batch: %d to %d\", (i + 1) * batch_num, n)"
   ]
  },
  {
   "cell_type": "code",
   "execution_count": null,
   "id": "4aee91a3-83d3-4840-a191-99024b552532",
   "metadata": {},
   "outputs": [],
   "source": [
    "def update_exec_rid(diag_records):\n",
    "    re = {}\n",
    "    diagnosis = EA.domain_path.Image_Diagnosis\n",
    "    tags = diag_records['Diagnosis_Tag'].unique()\n",
    "    graders = diag_records['RCB'].unique()\n",
    "    for tag in tags:\n",
    "        if tag == 'CNN_Prediction':\n",
    "            continue\n",
    "        elif tag == 'Initial Diagnosis':\n",
    "            insert_rec = diag_records[diag_records['Diagnosis_Tag'] == tag]\n",
    "            # initiate exec\n",
    "            execution = EA.create_execution(config)\n",
    "            execution_rid = execution.execution_rid\n",
    "            insert_rec = insert_rec.copy()\n",
    "            insert_rec['Execution'] = execution_rid\n",
    "            entities = insert_rec.apply(\n",
    "                lambda row: {k: v for k, v in row.items() if pd.notnull(v)}, axis=1).tolist()\n",
    "            batchinsert(diagnosis, entities)\n",
    "            re[tag] = entities\n",
    "        else:\n",
    "            print('else')\n",
    "            re[tag]={}\n",
    "            for grader in graders:\n",
    "                insert_rec = diag_records[(diag_records['Diagnosis_Tag'] == tag) & (diag_records['RCB'] == grader)]\n",
    "                if len(insert_rec) == 0:\n",
    "                    print(\"The DataFrame is empty.\")\n",
    "                else:\n",
    "                    execution = EA.create_execution(config)\n",
    "                    execution_rid = execution.execution_rid\n",
    "                    insert_rec = insert_rec.copy()\n",
    "                    insert_rec['Execution'] = execution_rid\n",
    "                    entities = insert_rec.apply(\n",
    "                        lambda row: {k: v for k, v in row.items() if pd.notnull(v)}, axis=1).tolist()\n",
    "                    batchinsert(diagnosis, entities)\n",
    "                    re[tag][grader] = entities\n",
    "    return re\n",
    "\n"
   ]
  },
  {
   "cell_type": "code",
   "execution_count": null,
   "id": "04cd0d35-dc50-4e7a-acf5-8d29e6883763",
   "metadata": {},
   "outputs": [],
   "source": [
    "newlac_diag = pd.read_csv('newlac_diag.csv')\n",
    "lac_diag = pd.read_csv('lac_diag.csv')\n",
    "rot_diag = pd.read_csv('rot_diag.csv')"
   ]
  },
  {
   "cell_type": "code",
   "execution_count": null,
   "id": "05c14022-c12b-4bab-9d08-247de3fad956",
   "metadata": {
    "scrolled": true
   },
   "outputs": [],
   "source": [
    "re_lac = update_exec_rid(lac_diag)"
   ]
  },
  {
   "cell_type": "code",
   "execution_count": null,
   "id": "13a00e93-819b-4a4e-8bae-58bc15c64ec2",
   "metadata": {
    "scrolled": true
   },
   "outputs": [],
   "source": [
    "re_rot = update_exec_rid(rot_diag)"
   ]
  },
  {
   "cell_type": "code",
   "execution_count": null,
   "id": "0ba6ed7d-bd1d-4645-a52e-fffc3e5037b9",
   "metadata": {},
   "outputs": [],
   "source": [
    "re_newlac = update_exec_rid(newlac_diag)"
   ]
  }
 ],
 "metadata": {
  "kernelspec": {
   "display_name": "My TensorFlow (Conda)",
   "language": "python",
   "name": "my-tensorflow-conda"
  },
  "language_info": {
   "codemirror_mode": {
    "name": "ipython",
    "version": 3
   },
   "file_extension": ".py",
   "mimetype": "text/x-python",
   "name": "python",
   "nbconvert_exporter": "python",
   "pygments_lexer": "ipython3",
   "version": "3.10.13"
  }
 },
 "nbformat": 4,
 "nbformat_minor": 5
}
