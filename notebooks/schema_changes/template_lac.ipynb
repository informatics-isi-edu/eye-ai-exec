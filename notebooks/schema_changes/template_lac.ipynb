{
 "cells": [
  {
   "cell_type": "code",
   "outputs": [],
   "source": [
    "from pathlib import Path\n",
    "import sys\n",
    "\n",
    "# Define the base repository directory\n",
    "repo_dir = Path.home() / \"Desktop\" / \"eye_ai\" / \"Github\"  # Update to your GitHub repo location\n",
    "\n",
    "# Update the load path so Python can find modules for the model\n",
    "sys.path.insert(0, str(repo_dir / \"deriva-ml\"))\n",
    "sys.path.insert(0, str(repo_dir / \"eye-ai-ml\"))\n",
    "\n",
    "# Reload extensions if needed\n",
    "%load_ext autoreload\n",
    "%autoreload 2\n"
   ],
   "metadata": {
    "collapsed": false,
    "ExecuteTime": {
     "end_time": "2024-11-22T00:51:52.893892Z",
     "start_time": "2024-11-22T00:51:52.876860Z"
    }
   },
   "id": "ebbe774c69abe790",
   "execution_count": 1
  },
  {
   "cell_type": "code",
   "outputs": [],
   "source": [
    "# Prerequisites\n",
    "import json\n",
    "import os\n",
    "from eye_ai.eye_ai import EyeAI\n",
    "from deriva_ml.dataset_bag import DatasetBag\n",
    "import pandas as pd\n",
    "from pathlib import Path, PurePath\n",
    "import logging\n",
    "\n",
    "from deriva_ml.deriva_ml_base import MLVocab as vc\n",
    "from deriva_ml.execution_configuration import ExecutionConfiguration, Workflow, Execution\n",
    "\n",
    "logging.basicConfig(level=logging.INFO, format='%(asctime)s - %(levelname)s - %(message)s', force=True)"
   ],
   "metadata": {
    "collapsed": false,
    "ExecuteTime": {
     "end_time": "2024-11-22T00:51:57.177820Z",
     "start_time": "2024-11-22T00:51:53.436823Z"
    }
   },
   "id": "7a4c63f1992a2f4b",
   "execution_count": 2
  },
  {
   "cell_type": "code",
   "outputs": [
    {
     "name": "stderr",
     "output_type": "stream",
     "text": [
      "2024-11-21 16:51:57,207 - INFO - Creating client of type <class 'globus_sdk.services.auth.client.native_client.NativeAppAuthClient'> for service \"auth\"\n",
      "2024-11-21 16:51:57,210 - INFO - Finished initializing AuthLoginClient. client_id='8ef15ba9-2b4a-469c-a163-7fd910c9d111', type(authorizer)=<class 'globus_sdk.authorizers.base.NullAuthorizer'>\n"
     ]
    },
    {
     "name": "stdout",
     "output_type": "stream",
     "text": [
      "You are already logged in.\n"
     ]
    }
   ],
   "source": [
    "from deriva.core.utils.globus_auth_utils import GlobusNativeLogin\n",
    "host = 'dev.eye-ai.org'\n",
    "catalog_id = \"428\"\n",
    "\n",
    "# host = 'www.eye-ai.org'\n",
    "# catalog_id = \"21\"\n",
    "# catalog_id = \"eye-ai\"\n",
    "\n",
    "gnl = GlobusNativeLogin(host=host)\n",
    "if gnl.is_logged_in([host]):\n",
    "    print(\"You are already logged in.\")\n",
    "else:\n",
    "    gnl.login([host], no_local_server=True, no_browser=True, refresh_tokens=True, update_bdbag_keychain=True)\n",
    "    print(\"Login Successful\")"
   ],
   "metadata": {
    "collapsed": false,
    "ExecuteTime": {
     "end_time": "2024-11-22T00:51:57.226237Z",
     "start_time": "2024-11-22T00:51:57.165173Z"
    }
   },
   "id": "5854dd2af49b17c6",
   "execution_count": 3
  },
  {
   "cell_type": "code",
   "outputs": [
    {
     "name": "stderr",
     "output_type": "stream",
     "text": [
      "2024-11-21 16:51:57,243 - INFO - Creating client of type <class 'globus_sdk.services.auth.client.native_client.NativeAppAuthClient'> for service \"auth\"\n",
      "2024-11-21 16:51:57,244 - INFO - Finished initializing AuthLoginClient. client_id='8ef15ba9-2b4a-469c-a163-7fd910c9d111', type(authorizer)=<class 'globus_sdk.authorizers.base.NullAuthorizer'>\n",
      "2024-11-21 16:51:57,842 - INFO - Loading dirty model.  Consider commiting and tagging: 1.1.0.post76+git.403fdd90.dirty\n"
     ]
    }
   ],
   "source": [
    "# Variables to configure the rest of the notebook.\n",
    "cache_dir = Path.home() / 'Desktop/test_cache'\n",
    "working_dir = Path.home() / 'Desktop/test_cache'\n",
    "EA = EyeAI(hostname = host, catalog_id = catalog_id, cache_dir= cache_dir, working_dir=working_dir)"
   ],
   "metadata": {
    "collapsed": false,
    "ExecuteTime": {
     "end_time": "2024-11-22T00:51:58.030762Z",
     "start_time": "2024-11-22T00:51:57.219755Z"
    }
   },
   "id": "ca73daf6aef44b55",
   "execution_count": 4
  },
  {
   "cell_type": "markdown",
   "source": [
    "# 1. Configuration"
   ],
   "metadata": {
    "collapsed": false
   },
   "id": "44e0d26997766f"
  },
  {
   "cell_type": "code",
   "outputs": [
    {
     "name": "stderr",
     "output_type": "stream",
     "text": [
      "2024-11-21 17:16:57,324 - INFO - Configuration validation successful!\n",
      "2024-11-21 17:16:59,402 - INFO - Initializing downloader: GenericDownloader v1.7.4 [Python 3.10.15, macOS-10.16-x86_64-i386-64bit]\n",
      "2024-11-21 17:16:59,406 - INFO - Creating client of type <class 'globus_sdk.services.auth.client.native_client.NativeAppAuthClient'> for service \"auth\"\n",
      "2024-11-21 17:16:59,406 - INFO - Finished initializing AuthLoginClient. client_id='8ef15ba9-2b4a-469c-a163-7fd910c9d111', type(authorizer)=<class 'globus_sdk.authorizers.base.NullAuthorizer'>\n",
      "2024-11-21 17:16:59,409 - INFO - Validating credentials for host: dev.eye-ai.org\n",
      "2024-11-21 17:16:59,569 - INFO - Creating bag directory: /var/folders/f8/85_209cx72l8mnt3km_8dx540000gn/T/tmpj0a963b9/Dataset_2-7K8W\n",
      "2024-11-21 17:16:59,572 - INFO - Creating bag for directory /var/folders/f8/85_209cx72l8mnt3km_8dx540000gn/T/tmpj0a963b9/Dataset_2-7K8W\n",
      "2024-11-21 17:16:59,573 - INFO - Creating data directory\n",
      "2024-11-21 17:16:59,574 - INFO - Moving /private/var/folders/f8/85_209cx72l8mnt3km_8dx540000gn/T/tmpj0a963b9/Dataset_2-7K8W/tmp2269lgl3 to data\n",
      "2024-11-21 17:16:59,575 - INFO - Using 1 processes to generate manifests: md5\n",
      "2024-11-21 17:16:59,576 - INFO - Creating bagit.txt\n",
      "2024-11-21 17:16:59,576 - INFO - Creating bag-info.txt\n",
      "2024-11-21 17:16:59,577 - INFO - Creating /var/folders/f8/85_209cx72l8mnt3km_8dx540000gn/T/tmpj0a963b9/Dataset_2-7K8W/tagmanifest-md5.txt\n",
      "2024-11-21 17:16:59,580 - INFO - Created bag: /var/folders/f8/85_209cx72l8mnt3km_8dx540000gn/T/tmpj0a963b9/Dataset_2-7K8W\n",
      "2024-11-21 17:16:59,962 - INFO - File [/var/folders/f8/85_209cx72l8mnt3km_8dx540000gn/T/tmpj0a963b9/Dataset_2-7K8W/data/schema.json] transfer successful. 347.04 KB transferred. Elapsed time: 0:00:00.310853. \n",
      "2024-11-21 17:17:00,011 - INFO - File [/var/folders/f8/85_209cx72l8mnt3km_8dx540000gn/T/tmpj0a963b9/Dataset_2-7K8W/data/Subject_image_quality_factor/Subject_image_quality_factor.csv] transfer successful. 1.40 KB transferred. Elapsed time: 0:00:00.043866. \n",
      "2024-11-21 17:17:00,057 - INFO - File [/var/folders/f8/85_209cx72l8mnt3km_8dx540000gn/T/tmpj0a963b9/Dataset_2-7K8W/data/Image_Quality/Image_Quality.csv] transfer successful. 0.71 KB transferred. Elapsed time: 0:00:00.044460. \n",
      "2024-11-21 17:17:00,101 - INFO - File [/var/folders/f8/85_209cx72l8mnt3km_8dx540000gn/T/tmpj0a963b9/Dataset_2-7K8W/data/Diagnosis_Subject/Diagnosis_Subject.csv] transfer successful. 0.53 KB transferred. Elapsed time: 0:00:00.042341. \n",
      "2024-11-21 17:17:00,145 - INFO - File [/var/folders/f8/85_209cx72l8mnt3km_8dx540000gn/T/tmpj0a963b9/Dataset_2-7K8W/data/Diagnosis_Observation/Diagnosis_Observation.csv] transfer successful. 0.53 KB transferred. Elapsed time: 0:00:00.042041. \n",
      "2024-11-21 17:17:00,188 - INFO - File [/var/folders/f8/85_209cx72l8mnt3km_8dx540000gn/T/tmpj0a963b9/Dataset_2-7K8W/data/Diagnosis_Image/Diagnosis_Image.csv] transfer successful. 0.82 KB transferred. Elapsed time: 0:00:00.042209. \n",
      "2024-11-21 17:17:00,233 - INFO - File [/var/folders/f8/85_209cx72l8mnt3km_8dx540000gn/T/tmpj0a963b9/Dataset_2-7K8W/data/Image_Side/Image_Side.csv] transfer successful. 0.72 KB transferred. Elapsed time: 0:00:00.042570. \n",
      "2024-11-21 17:17:00,277 - INFO - File [/var/folders/f8/85_209cx72l8mnt3km_8dx540000gn/T/tmpj0a963b9/Dataset_2-7K8W/data/Image_Angle/Image_Angle.csv] transfer successful. 0.92 KB transferred. Elapsed time: 0:00:00.042863. \n",
      "2024-11-21 17:17:00,378 - INFO - File [/var/folders/f8/85_209cx72l8mnt3km_8dx540000gn/T/tmpj0a963b9/Dataset_2-7K8W/data/Subject_Gender/Subject_Gender.csv] transfer successful. 0.92 KB transferred. Elapsed time: 0:00:00.099920. \n",
      "2024-11-21 17:17:00,423 - INFO - File [/var/folders/f8/85_209cx72l8mnt3km_8dx540000gn/T/tmpj0a963b9/Dataset_2-7K8W/data/Subject_Ethnicity/Subject_Ethnicity.csv] transfer successful. 2.44 KB transferred. Elapsed time: 0:00:00.043317. \n",
      "2024-11-21 17:17:00,471 - INFO - File [/var/folders/f8/85_209cx72l8mnt3km_8dx540000gn/T/tmpj0a963b9/Dataset_2-7K8W/data/Subject_hypertension/Subject_hypertension.csv] transfer successful. 0.74 KB transferred. Elapsed time: 0:00:00.047152. \n",
      "2024-11-21 17:17:00,515 - INFO - File [/var/folders/f8/85_209cx72l8mnt3km_8dx540000gn/T/tmpj0a963b9/Dataset_2-7K8W/data/Subject_insulin_dependent/Subject_insulin_dependent.csv] transfer successful. 0.48 KB transferred. Elapsed time: 0:00:00.041801. \n",
      "2024-11-21 17:17:00,560 - INFO - File [/var/folders/f8/85_209cx72l8mnt3km_8dx540000gn/T/tmpj0a963b9/Dataset_2-7K8W/data/Subject_pregnant/Subject_pregnant.csv] transfer successful. 0.48 KB transferred. Elapsed time: 0:00:00.042990. \n",
      "2024-11-21 17:17:00,603 - INFO - File [/var/folders/f8/85_209cx72l8mnt3km_8dx540000gn/T/tmpj0a963b9/Dataset_2-7K8W/data/Subject_cataract/Subject_cataract.csv] transfer successful. 0.27 KB transferred. Elapsed time: 0:00:00.042732. \n",
      "2024-11-21 17:17:00,649 - INFO - File [/var/folders/f8/85_209cx72l8mnt3km_8dx540000gn/T/tmpj0a963b9/Dataset_2-7K8W/data/Subject_maculopathy/Subject_maculopathy.csv] transfer successful. 0.27 KB transferred. Elapsed time: 0:00:00.043593. \n",
      "2024-11-21 17:17:00,692 - INFO - File [/var/folders/f8/85_209cx72l8mnt3km_8dx540000gn/T/tmpj0a963b9/Dataset_2-7K8W/data/Subject_other/Subject_other.csv] transfer successful. 0.27 KB transferred. Elapsed time: 0:00:00.041915. \n",
      "2024-11-21 17:17:00,738 - INFO - File [/var/folders/f8/85_209cx72l8mnt3km_8dx540000gn/T/tmpj0a963b9/Dataset_2-7K8W/data/Subject_image_quality/Subject_image_quality.csv] transfer successful. 1.30 KB transferred. Elapsed time: 0:00:00.044450. \n",
      "2024-11-21 17:17:00,782 - INFO - File [/var/folders/f8/85_209cx72l8mnt3km_8dx540000gn/T/tmpj0a963b9/Dataset_2-7K8W/data/Image_Output/Image_Output.csv] transfer successful. 0.53 KB transferred. Elapsed time: 0:00:00.042719. \n",
      "2024-11-21 17:17:00,904 - INFO - File [/var/folders/f8/85_209cx72l8mnt3km_8dx540000gn/T/tmpj0a963b9/Dataset_2-7K8W/data/Diagnosis_Tag/Diagnosis_Tag.csv] transfer successful. 2.36 KB transferred. Elapsed time: 0:00:00.120846. \n",
      "2024-11-21 17:17:00,960 - INFO - File [/var/folders/f8/85_209cx72l8mnt3km_8dx540000gn/T/tmpj0a963b9/Dataset_2-7K8W/data/Diagnosis_Status/Diagnosis_Status.csv] transfer successful. 0.73 KB transferred. Elapsed time: 0:00:00.053474. \n",
      "2024-11-21 17:17:01,003 - INFO - File [/var/folders/f8/85_209cx72l8mnt3km_8dx540000gn/T/tmpj0a963b9/Dataset_2-7K8W/data/Image_Tag/Image_Tag.csv] transfer successful. 0.55 KB transferred. Elapsed time: 0:00:00.041420. \n",
      "2024-11-21 17:17:01,046 - INFO - File [/var/folders/f8/85_209cx72l8mnt3km_8dx540000gn/T/tmpj0a963b9/Dataset_2-7K8W/data/Process_Tag/Process_Tag.csv] transfer successful. 0.33 KB transferred. Elapsed time: 0:00:00.040648. \n",
      "2024-11-21 17:17:01,094 - INFO - File [/var/folders/f8/85_209cx72l8mnt3km_8dx540000gn/T/tmpj0a963b9/Dataset_2-7K8W/data/Annotation_Function/Annotation_Function.csv] transfer successful. 0.77 KB transferred. Elapsed time: 0:00:00.046691. \n",
      "2024-11-21 17:17:01,137 - INFO - File [/var/folders/f8/85_209cx72l8mnt3km_8dx540000gn/T/tmpj0a963b9/Dataset_2-7K8W/data/Annotation_Type/Annotation_Type.csv] transfer successful. 0.28 KB transferred. Elapsed time: 0:00:00.041650. \n",
      "2024-11-21 17:17:01,181 - INFO - File [/var/folders/f8/85_209cx72l8mnt3km_8dx540000gn/T/tmpj0a963b9/Dataset_2-7K8W/data/ICD10_Eye/ICD10_Eye.csv] transfer successful. 44.98 KB transferred. Elapsed time: 0:00:00.041944. \n",
      "2024-11-21 17:17:01,222 - INFO - File [/var/folders/f8/85_209cx72l8mnt3km_8dx540000gn/T/tmpj0a963b9/Dataset_2-7K8W/data/Report_Type/Report_Type.csv] transfer successful. 0.54 KB transferred. Elapsed time: 0:00:00.040404. \n",
      "2024-11-21 17:17:01,264 - INFO - File [/var/folders/f8/85_209cx72l8mnt3km_8dx540000gn/T/tmpj0a963b9/Dataset_2-7K8W/data/Condition_Label/Condition_Label.csv] transfer successful. 1.12 KB transferred. Elapsed time: 0:00:00.040330. \n",
      "2024-11-21 17:17:01,306 - INFO - File [/var/folders/f8/85_209cx72l8mnt3km_8dx540000gn/T/tmpj0a963b9/Dataset_2-7K8W/data/Dataset_Type/Dataset_Type.csv] transfer successful. 1.73 KB transferred. Elapsed time: 0:00:00.040242. \n",
      "2024-11-21 17:17:01,427 - INFO - File [/var/folders/f8/85_209cx72l8mnt3km_8dx540000gn/T/tmpj0a963b9/Dataset_2-7K8W/data/Feature_Name/Feature_Name.csv] transfer successful. 0.55 KB transferred. Elapsed time: 0:00:00.119403. \n",
      "2024-11-21 17:17:01,469 - INFO - File [/var/folders/f8/85_209cx72l8mnt3km_8dx540000gn/T/tmpj0a963b9/Dataset_2-7K8W/data/Workflow_Type/Workflow_Type.csv] transfer successful. 5.48 KB transferred. Elapsed time: 0:00:00.040615. \n",
      "2024-11-21 17:17:01,511 - INFO - File [/var/folders/f8/85_209cx72l8mnt3km_8dx540000gn/T/tmpj0a963b9/Dataset_2-7K8W/data/Execution_Metadata_Type/Execution_Metadata_Type.csv] transfer successful. 0.57 KB transferred. Elapsed time: 0:00:00.041102. \n",
      "2024-11-21 17:17:01,554 - INFO - File [/var/folders/f8/85_209cx72l8mnt3km_8dx540000gn/T/tmpj0a963b9/Dataset_2-7K8W/data/Execution_Asset_Type/Execution_Asset_Type.csv] transfer successful. 5.84 KB transferred. Elapsed time: 0:00:00.041249. \n",
      "2024-11-21 17:17:01,599 - INFO - File [/var/folders/f8/85_209cx72l8mnt3km_8dx540000gn/T/tmpj0a963b9/Dataset_2-7K8W/data/Dataset/Image_Dataset.csv] transfer successful. 0.03 KB transferred. Elapsed time: 0:00:00.042337. File was automatically deleted due to empty content.\n",
      "2024-11-21 17:17:01,643 - INFO - File [/var/folders/f8/85_209cx72l8mnt3km_8dx540000gn/T/tmpj0a963b9/Dataset_2-7K8W/data/Dataset/Image/Image.csv] transfer successful. 0.12 KB transferred. Elapsed time: 0:00:00.042997. File was automatically deleted due to empty content.\n",
      "2024-11-21 17:17:01,686 - INFO - File [/var/folders/f8/85_209cx72l8mnt3km_8dx540000gn/T/tmpj0a963b9/Dataset_2-7K8W/fetch-manifest_e8c7403a-c1b4-443c-943c-2670f62fa125.json] transfer successful. 0.00 KB transferred. Elapsed time: 0:00:00.041273. File was automatically deleted due to empty content.\n",
      "2024-11-21 17:17:01,687 - INFO - Creating remote file manifest from results of query: /attribute/Dataset/RID=2-7K8W/eye-ai:Image_Dataset/eye-ai:Image/!(URL::null::)/url:=URL,length:=Length,filename:=Filename,md5:=MD5?limit=none\n",
      "2024-11-21 17:17:01,732 - INFO - File [/var/folders/f8/85_209cx72l8mnt3km_8dx540000gn/T/tmpj0a963b9/Dataset_2-7K8W/data/Dataset/Image/Image_Annotation/Image_Annotation.csv] transfer successful. 0.10 KB transferred. Elapsed time: 0:00:00.043699. File was automatically deleted due to empty content.\n",
      "2024-11-21 17:17:01,782 - INFO - File [/var/folders/f8/85_209cx72l8mnt3km_8dx540000gn/T/tmpj0a963b9/Dataset_2-7K8W/data/Dataset/Image/Image_Annotation/Fundus_Bounding_Box/Fundus_Bounding_Box.csv] transfer successful. 0.05 KB transferred. Elapsed time: 0:00:00.048357. File was automatically deleted due to empty content.\n",
      "2024-11-21 17:17:01,829 - INFO - File [/var/folders/f8/85_209cx72l8mnt3km_8dx540000gn/T/tmpj0a963b9/Dataset_2-7K8W/fetch-manifest_e6488b01-66ce-41f9-81a9-97628348fd74.json] transfer successful. 0.00 KB transferred. Elapsed time: 0:00:00.046484. File was automatically deleted due to empty content.\n",
      "2024-11-21 17:17:01,830 - INFO - Creating remote file manifest from results of query: /attribute/Dataset/RID=2-7K8W/eye-ai:Image_Dataset/eye-ai:Image/eye-ai:Image_Annotation/eye-ai:Fundus_Bounding_Box/!(URL::null::)/url:=URL,length:=Length,filename:=Filename,md5:=MD5?limit=none\n",
      "2024-11-21 17:17:01,952 - INFO - File [/var/folders/f8/85_209cx72l8mnt3km_8dx540000gn/T/tmpj0a963b9/Dataset_2-7K8W/data/Dataset/Image/Diagnosis/Diagnosis.csv] transfer successful. 0.14 KB transferred. Elapsed time: 0:00:00.120334. File was automatically deleted due to empty content.\n",
      "2024-11-21 17:17:01,999 - INFO - File [/var/folders/f8/85_209cx72l8mnt3km_8dx540000gn/T/tmpj0a963b9/Dataset_2-7K8W/data/Dataset/Image/Diagnosis/Process/Process.csv] transfer successful. 0.06 KB transferred. Elapsed time: 0:00:00.045333. File was automatically deleted due to empty content.\n",
      "2024-11-21 17:17:02,046 - INFO - File [/var/folders/f8/85_209cx72l8mnt3km_8dx540000gn/T/tmpj0a963b9/Dataset_2-7K8W/data/Dataset/Image/Diagnosis/Process/Observation_Diagnosis/Observation_Diagnosis.csv] transfer successful. 0.08 KB transferred. Elapsed time: 0:00:00.045638. File was automatically deleted due to empty content.\n",
      "2024-11-21 17:17:02,097 - INFO - File [/var/folders/f8/85_209cx72l8mnt3km_8dx540000gn/T/tmpj0a963b9/Dataset_2-7K8W/data/Dataset/Image/Diagnosis/Process/Observation_Diagnosis/Observation/Observation.csv] transfer successful. 0.40 KB transferred. Elapsed time: 0:00:00.048644. File was automatically deleted due to empty content.\n",
      "2024-11-21 17:17:02,149 - INFO - File [/var/folders/f8/85_209cx72l8mnt3km_8dx540000gn/T/tmpj0a963b9/Dataset_2-7K8W/data/Dataset/Image/Diagnosis/Process/Observation_Diagnosis/Observation/Subject/Subject.csv] transfer successful. 0.06 KB transferred. Elapsed time: 0:00:00.049688. File was automatically deleted due to empty content.\n",
      "2024-11-21 17:17:02,199 - INFO - File [/var/folders/f8/85_209cx72l8mnt3km_8dx540000gn/T/tmpj0a963b9/Dataset_2-7K8W/data/Dataset/Image/Diagnosis/Process/Observation_Diagnosis/Observation/Subject/Subject_image_quality_factor_Subject.csv] transfer successful. 0.06 KB transferred. Elapsed time: 0:00:00.048855. File was automatically deleted due to empty content.\n",
      "2024-11-21 17:17:02,253 - INFO - File [/var/folders/f8/85_209cx72l8mnt3km_8dx540000gn/T/tmpj0a963b9/Dataset_2-7K8W/data/Dataset/Image/Diagnosis/Process/Observation_Diagnosis/Observation/Subject/Subject_Diagnosis/Subject_Diagnosis.csv] transfer successful. 0.08 KB transferred. Elapsed time: 0:00:00.052028. File was automatically deleted due to empty content.\n",
      "2024-11-21 17:17:02,318 - INFO - File [/var/folders/f8/85_209cx72l8mnt3km_8dx540000gn/T/tmpj0a963b9/Dataset_2-7K8W/data/Dataset/Image/Diagnosis/Process/Observation_Diagnosis/Observation/Report/Report.csv] transfer successful. 0.08 KB transferred. Elapsed time: 0:00:00.063584. File was automatically deleted due to empty content.\n",
      "2024-11-21 17:17:02,369 - INFO - File [/var/folders/f8/85_209cx72l8mnt3km_8dx540000gn/T/tmpj0a963b9/Dataset_2-7K8W/fetch-manifest_caccf62a-5108-4d21-8449-0cc76ceb0e1b.json] transfer successful. 0.00 KB transferred. Elapsed time: 0:00:00.049543. File was automatically deleted due to empty content.\n",
      "2024-11-21 17:17:02,369 - INFO - Creating remote file manifest from results of query: /attribute/Dataset/RID=2-7K8W/eye-ai:Image_Dataset/eye-ai:Image/eye-ai:Diagnosis/eye-ai:Process/eye-ai:Observation_Diagnosis/eye-ai:Observation/eye-ai:Report/!(URL::null::)/url:=URL,length:=Length,filename:=Filename,md5:=MD5?limit=none\n",
      "2024-11-21 17:17:02,476 - INFO - File [/var/folders/f8/85_209cx72l8mnt3km_8dx540000gn/T/tmpj0a963b9/Dataset_2-7K8W/data/Dataset/Image/Diagnosis/Process/Observation_Diagnosis/Observation/Report/OCR_RNFL/OCR_RNFL.csv] transfer successful. 0.39 KB transferred. Elapsed time: 0:00:00.104746. File was automatically deleted due to empty content.\n",
      "2024-11-21 17:17:02,530 - INFO - File [/var/folders/f8/85_209cx72l8mnt3km_8dx540000gn/T/tmpj0a963b9/Dataset_2-7K8W/data/Dataset/Image/Diagnosis/Process/Observation_Diagnosis/Observation/Report/OCR_HVF/OCR_HVF.csv] transfer successful. 0.26 KB transferred. Elapsed time: 0:00:00.052553. File was automatically deleted due to empty content.\n",
      "2024-11-21 17:17:02,589 - INFO - File [/var/folders/f8/85_209cx72l8mnt3km_8dx540000gn/T/tmpj0a963b9/Dataset_2-7K8W/data/Dataset/Image/Diagnosis/Process/Observation_Diagnosis/Observation/Clinical_Records_Observation.csv] transfer successful. 0.05 KB transferred. Elapsed time: 0:00:00.057064. File was automatically deleted due to empty content.\n",
      "2024-11-21 17:17:02,647 - INFO - File [/var/folders/f8/85_209cx72l8mnt3km_8dx540000gn/T/tmpj0a963b9/Dataset_2-7K8W/data/Dataset/Image/Diagnosis/Process/Observation_Diagnosis/Observation/Clinical_Records/Clinical_Records.csv] transfer successful. 0.18 KB transferred. Elapsed time: 0:00:00.055546. File was automatically deleted due to empty content.\n",
      "2024-11-21 17:17:02,703 - INFO - File [/var/folders/f8/85_209cx72l8mnt3km_8dx540000gn/T/tmpj0a963b9/Dataset_2-7K8W/data/Dataset/Image/Diagnosis/Process/Observation_Diagnosis/Observation/Clinical_Records/Clinical_Records_ICD10_Eye/Clinical_Records_ICD10_Eye.csv] transfer successful. 0.05 KB transferred. Elapsed time: 0:00:00.054042. File was automatically deleted due to empty content.\n",
      "2024-11-21 17:17:02,749 - INFO - File [/var/folders/f8/85_209cx72l8mnt3km_8dx540000gn/T/tmpj0a963b9/Dataset_2-7K8W/data/Dataset/Image/Diagnosis/Process/Subject_Diagnosis/Subject_Diagnosis.csv] transfer successful. 0.08 KB transferred. Elapsed time: 0:00:00.044803. File was automatically deleted due to empty content.\n",
      "2024-11-21 17:17:02,795 - INFO - File [/var/folders/f8/85_209cx72l8mnt3km_8dx540000gn/T/tmpj0a963b9/Dataset_2-7K8W/data/Dataset/Image/Diagnosis/Process/Subject_Diagnosis/Subject/Subject.csv] transfer successful. 0.06 KB transferred. Elapsed time: 0:00:00.045273. File was automatically deleted due to empty content.\n",
      "2024-11-21 17:17:02,849 - INFO - File [/var/folders/f8/85_209cx72l8mnt3km_8dx540000gn/T/tmpj0a963b9/Dataset_2-7K8W/data/Dataset/Image/Diagnosis/Process/Subject_Diagnosis/Subject/Observation/Observation.csv] transfer successful. 0.40 KB transferred. Elapsed time: 0:00:00.052327. File was automatically deleted due to empty content.\n",
      "2024-11-21 17:17:02,902 - INFO - File [/var/folders/f8/85_209cx72l8mnt3km_8dx540000gn/T/tmpj0a963b9/Dataset_2-7K8W/data/Dataset/Image/Diagnosis/Process/Subject_Diagnosis/Subject/Observation/Report/Report.csv] transfer successful. 0.08 KB transferred. Elapsed time: 0:00:00.051317. File was automatically deleted due to empty content.\n",
      "2024-11-21 17:17:03,001 - INFO - File [/var/folders/f8/85_209cx72l8mnt3km_8dx540000gn/T/tmpj0a963b9/Dataset_2-7K8W/fetch-manifest_19324297-bb7e-4aca-b1c9-b5c1296e9c1d.json] transfer successful. 0.00 KB transferred. Elapsed time: 0:00:00.097866. File was automatically deleted due to empty content.\n",
      "2024-11-21 17:17:03,002 - INFO - Creating remote file manifest from results of query: /attribute/Dataset/RID=2-7K8W/eye-ai:Image_Dataset/eye-ai:Image/eye-ai:Diagnosis/eye-ai:Process/eye-ai:Subject_Diagnosis/eye-ai:Subject/eye-ai:Observation/eye-ai:Report/!(URL::null::)/url:=URL,length:=Length,filename:=Filename,md5:=MD5?limit=none\n",
      "2024-11-21 17:17:03,072 - INFO - File [/var/folders/f8/85_209cx72l8mnt3km_8dx540000gn/T/tmpj0a963b9/Dataset_2-7K8W/data/Dataset/Image/Diagnosis/Process/Subject_Diagnosis/Subject/Observation/Report/OCR_RNFL/OCR_RNFL.csv] transfer successful. 0.39 KB transferred. Elapsed time: 0:00:00.068305. File was automatically deleted due to empty content.\n",
      "2024-11-21 17:17:03,124 - INFO - File [/var/folders/f8/85_209cx72l8mnt3km_8dx540000gn/T/tmpj0a963b9/Dataset_2-7K8W/data/Dataset/Image/Diagnosis/Process/Subject_Diagnosis/Subject/Observation/Report/OCR_HVF/OCR_HVF.csv] transfer successful. 0.26 KB transferred. Elapsed time: 0:00:00.050394. File was automatically deleted due to empty content.\n",
      "2024-11-21 17:17:03,174 - INFO - File [/var/folders/f8/85_209cx72l8mnt3km_8dx540000gn/T/tmpj0a963b9/Dataset_2-7K8W/data/Dataset/Image/Diagnosis/Process/Subject_Diagnosis/Subject/Observation/Observation_Diagnosis/Observation_Diagnosis.csv] transfer successful. 0.08 KB transferred. Elapsed time: 0:00:00.048089. File was automatically deleted due to empty content.\n",
      "2024-11-21 17:17:03,223 - INFO - File [/var/folders/f8/85_209cx72l8mnt3km_8dx540000gn/T/tmpj0a963b9/Dataset_2-7K8W/data/Dataset/Image/Diagnosis/Process/Subject_Diagnosis/Subject/Observation/Clinical_Records_Observation.csv] transfer successful. 0.05 KB transferred. Elapsed time: 0:00:00.048103. File was automatically deleted due to empty content.\n",
      "2024-11-21 17:17:03,274 - INFO - File [/var/folders/f8/85_209cx72l8mnt3km_8dx540000gn/T/tmpj0a963b9/Dataset_2-7K8W/data/Dataset/Image/Diagnosis/Process/Subject_Diagnosis/Subject/Observation/Clinical_Records/Clinical_Records.csv] transfer successful. 0.18 KB transferred. Elapsed time: 0:00:00.049306. File was automatically deleted due to empty content.\n",
      "2024-11-21 17:17:03,327 - INFO - File [/var/folders/f8/85_209cx72l8mnt3km_8dx540000gn/T/tmpj0a963b9/Dataset_2-7K8W/data/Dataset/Image/Diagnosis/Process/Subject_Diagnosis/Subject/Observation/Clinical_Records/Clinical_Records_ICD10_Eye/Clinical_Records_ICD10_Eye.csv] transfer successful. 0.05 KB transferred. Elapsed time: 0:00:00.050709. File was automatically deleted due to empty content.\n",
      "2024-11-21 17:17:03,375 - INFO - File [/var/folders/f8/85_209cx72l8mnt3km_8dx540000gn/T/tmpj0a963b9/Dataset_2-7K8W/data/Dataset/Image/Diagnosis/Process/Subject_Diagnosis/Subject/Subject_image_quality_factor_Subject.csv] transfer successful. 0.06 KB transferred. Elapsed time: 0:00:00.046214. File was automatically deleted due to empty content.\n",
      "2024-11-21 17:17:03,419 - INFO - File [/var/folders/f8/85_209cx72l8mnt3km_8dx540000gn/T/tmpj0a963b9/Dataset_2-7K8W/data/Dataset/Image/Observation/Observation.csv] transfer successful. 0.40 KB transferred. Elapsed time: 0:00:00.043359. File was automatically deleted due to empty content.\n",
      "2024-11-21 17:17:03,514 - INFO - File [/var/folders/f8/85_209cx72l8mnt3km_8dx540000gn/T/tmpj0a963b9/Dataset_2-7K8W/data/Dataset/Image/Observation/Subject/Subject.csv] transfer successful. 0.06 KB transferred. Elapsed time: 0:00:00.093331. File was automatically deleted due to empty content.\n",
      "2024-11-21 17:17:03,568 - INFO - File [/var/folders/f8/85_209cx72l8mnt3km_8dx540000gn/T/tmpj0a963b9/Dataset_2-7K8W/data/Dataset/Image/Observation/Subject/Subject_image_quality_factor_Subject.csv] transfer successful. 0.06 KB transferred. Elapsed time: 0:00:00.051855. File was automatically deleted due to empty content.\n",
      "2024-11-21 17:17:03,613 - INFO - File [/var/folders/f8/85_209cx72l8mnt3km_8dx540000gn/T/tmpj0a963b9/Dataset_2-7K8W/data/Dataset/Image/Observation/Subject/Subject_Diagnosis/Subject_Diagnosis.csv] transfer successful. 0.08 KB transferred. Elapsed time: 0:00:00.044128. File was automatically deleted due to empty content.\n",
      "2024-11-21 17:17:03,659 - INFO - File [/var/folders/f8/85_209cx72l8mnt3km_8dx540000gn/T/tmpj0a963b9/Dataset_2-7K8W/data/Dataset/Image/Observation/Subject/Subject_Diagnosis/Process/Process.csv] transfer successful. 0.06 KB transferred. Elapsed time: 0:00:00.044584. File was automatically deleted due to empty content.\n",
      "2024-11-21 17:17:03,708 - INFO - File [/var/folders/f8/85_209cx72l8mnt3km_8dx540000gn/T/tmpj0a963b9/Dataset_2-7K8W/data/Dataset/Image/Observation/Subject/Subject_Diagnosis/Process/Observation_Diagnosis/Observation_Diagnosis.csv] transfer successful. 0.08 KB transferred. Elapsed time: 0:00:00.047358. File was automatically deleted due to empty content.\n",
      "2024-11-21 17:17:03,755 - INFO - File [/var/folders/f8/85_209cx72l8mnt3km_8dx540000gn/T/tmpj0a963b9/Dataset_2-7K8W/data/Dataset/Image/Observation/Subject/Subject_Diagnosis/Process/Diagnosis/Diagnosis.csv] transfer successful. 0.14 KB transferred. Elapsed time: 0:00:00.045458. File was automatically deleted due to empty content.\n",
      "2024-11-21 17:17:03,800 - INFO - File [/var/folders/f8/85_209cx72l8mnt3km_8dx540000gn/T/tmpj0a963b9/Dataset_2-7K8W/data/Dataset/Image/Observation/Report/Report.csv] transfer successful. 0.08 KB transferred. Elapsed time: 0:00:00.042884. File was automatically deleted due to empty content.\n",
      "2024-11-21 17:17:03,847 - INFO - File [/var/folders/f8/85_209cx72l8mnt3km_8dx540000gn/T/tmpj0a963b9/Dataset_2-7K8W/fetch-manifest_4bd9c049-afa4-41c2-9e83-7141c9035eb8.json] transfer successful. 0.00 KB transferred. Elapsed time: 0:00:00.045847. File was automatically deleted due to empty content.\n",
      "2024-11-21 17:17:03,847 - INFO - Creating remote file manifest from results of query: /attribute/Dataset/RID=2-7K8W/eye-ai:Image_Dataset/eye-ai:Image/eye-ai:Observation/eye-ai:Report/!(URL::null::)/url:=URL,length:=Length,filename:=Filename,md5:=MD5?limit=none\n",
      "2024-11-21 17:17:03,894 - INFO - File [/var/folders/f8/85_209cx72l8mnt3km_8dx540000gn/T/tmpj0a963b9/Dataset_2-7K8W/data/Dataset/Image/Observation/Report/OCR_RNFL/OCR_RNFL.csv] transfer successful. 0.39 KB transferred. Elapsed time: 0:00:00.045191. File was automatically deleted due to empty content.\n",
      "2024-11-21 17:17:03,940 - INFO - File [/var/folders/f8/85_209cx72l8mnt3km_8dx540000gn/T/tmpj0a963b9/Dataset_2-7K8W/data/Dataset/Image/Observation/Report/OCR_HVF/OCR_HVF.csv] transfer successful. 0.26 KB transferred. Elapsed time: 0:00:00.045246. File was automatically deleted due to empty content.\n",
      "2024-11-21 17:17:04,039 - INFO - File [/var/folders/f8/85_209cx72l8mnt3km_8dx540000gn/T/tmpj0a963b9/Dataset_2-7K8W/data/Dataset/Image/Observation/Observation_Diagnosis/Observation_Diagnosis.csv] transfer successful. 0.08 KB transferred. Elapsed time: 0:00:00.096424. File was automatically deleted due to empty content.\n",
      "2024-11-21 17:17:04,085 - INFO - File [/var/folders/f8/85_209cx72l8mnt3km_8dx540000gn/T/tmpj0a963b9/Dataset_2-7K8W/data/Dataset/Image/Observation/Observation_Diagnosis/Process/Process.csv] transfer successful. 0.06 KB transferred. Elapsed time: 0:00:00.044689. File was automatically deleted due to empty content.\n",
      "2024-11-21 17:17:04,137 - INFO - File [/var/folders/f8/85_209cx72l8mnt3km_8dx540000gn/T/tmpj0a963b9/Dataset_2-7K8W/data/Dataset/Image/Observation/Observation_Diagnosis/Process/Diagnosis/Diagnosis.csv] transfer successful. 0.14 KB transferred. Elapsed time: 0:00:00.050653. File was automatically deleted due to empty content.\n",
      "2024-11-21 17:17:04,189 - INFO - File [/var/folders/f8/85_209cx72l8mnt3km_8dx540000gn/T/tmpj0a963b9/Dataset_2-7K8W/data/Dataset/Image/Observation/Observation_Diagnosis/Process/Subject_Diagnosis/Subject_Diagnosis.csv] transfer successful. 0.08 KB transferred. Elapsed time: 0:00:00.050083. File was automatically deleted due to empty content.\n",
      "2024-11-21 17:17:04,239 - INFO - File [/var/folders/f8/85_209cx72l8mnt3km_8dx540000gn/T/tmpj0a963b9/Dataset_2-7K8W/data/Dataset/Image/Observation/Observation_Diagnosis/Process/Subject_Diagnosis/Subject/Subject.csv] transfer successful. 0.06 KB transferred. Elapsed time: 0:00:00.048812. File was automatically deleted due to empty content.\n",
      "2024-11-21 17:17:04,289 - INFO - File [/var/folders/f8/85_209cx72l8mnt3km_8dx540000gn/T/tmpj0a963b9/Dataset_2-7K8W/data/Dataset/Image/Observation/Observation_Diagnosis/Process/Subject_Diagnosis/Subject/Subject_image_quality_factor_Subject.csv] transfer successful. 0.06 KB transferred. Elapsed time: 0:00:00.048603. File was automatically deleted due to empty content.\n",
      "2024-11-21 17:17:04,335 - INFO - File [/var/folders/f8/85_209cx72l8mnt3km_8dx540000gn/T/tmpj0a963b9/Dataset_2-7K8W/data/Dataset/Image/Observation/Clinical_Records_Observation.csv] transfer successful. 0.05 KB transferred. Elapsed time: 0:00:00.044571. File was automatically deleted due to empty content.\n",
      "2024-11-21 17:17:04,381 - INFO - File [/var/folders/f8/85_209cx72l8mnt3km_8dx540000gn/T/tmpj0a963b9/Dataset_2-7K8W/data/Dataset/Image/Observation/Clinical_Records/Clinical_Records.csv] transfer successful. 0.18 KB transferred. Elapsed time: 0:00:00.044109. File was automatically deleted due to empty content.\n",
      "2024-11-21 17:17:04,428 - INFO - File [/var/folders/f8/85_209cx72l8mnt3km_8dx540000gn/T/tmpj0a963b9/Dataset_2-7K8W/data/Dataset/Image/Observation/Clinical_Records/Clinical_Records_ICD10_Eye/Clinical_Records_ICD10_Eye.csv] transfer successful. 0.05 KB transferred. Elapsed time: 0:00:00.045667. File was automatically deleted due to empty content.\n",
      "2024-11-21 17:17:04,470 - INFO - File [/var/folders/f8/85_209cx72l8mnt3km_8dx540000gn/T/tmpj0a963b9/Dataset_2-7K8W/data/Dataset/Image/Process/Process.csv] transfer successful. 0.06 KB transferred. Elapsed time: 0:00:00.040844. File was automatically deleted due to empty content.\n",
      "2024-11-21 17:17:04,604 - INFO - File [/var/folders/f8/85_209cx72l8mnt3km_8dx540000gn/T/tmpj0a963b9/Dataset_2-7K8W/data/Dataset/Image/Process/Observation_Diagnosis/Observation_Diagnosis.csv] transfer successful. 0.08 KB transferred. Elapsed time: 0:00:00.132341. File was automatically deleted due to empty content.\n",
      "2024-11-21 17:17:04,650 - INFO - File [/var/folders/f8/85_209cx72l8mnt3km_8dx540000gn/T/tmpj0a963b9/Dataset_2-7K8W/data/Dataset/Image/Process/Observation_Diagnosis/Observation/Observation.csv] transfer successful. 0.40 KB transferred. Elapsed time: 0:00:00.043808. File was automatically deleted due to empty content.\n",
      "2024-11-21 17:17:04,695 - INFO - File [/var/folders/f8/85_209cx72l8mnt3km_8dx540000gn/T/tmpj0a963b9/Dataset_2-7K8W/data/Dataset/Image/Process/Observation_Diagnosis/Observation/Subject/Subject.csv] transfer successful. 0.06 KB transferred. Elapsed time: 0:00:00.044039. File was automatically deleted due to empty content.\n",
      "2024-11-21 17:17:04,742 - INFO - File [/var/folders/f8/85_209cx72l8mnt3km_8dx540000gn/T/tmpj0a963b9/Dataset_2-7K8W/data/Dataset/Image/Process/Observation_Diagnosis/Observation/Subject/Subject_image_quality_factor_Subject.csv] transfer successful. 0.06 KB transferred. Elapsed time: 0:00:00.045977. File was automatically deleted due to empty content.\n",
      "2024-11-21 17:17:04,789 - INFO - File [/var/folders/f8/85_209cx72l8mnt3km_8dx540000gn/T/tmpj0a963b9/Dataset_2-7K8W/data/Dataset/Image/Process/Observation_Diagnosis/Observation/Subject/Subject_Diagnosis/Subject_Diagnosis.csv] transfer successful. 0.08 KB transferred. Elapsed time: 0:00:00.045058. File was automatically deleted due to empty content.\n",
      "2024-11-21 17:17:04,836 - INFO - File [/var/folders/f8/85_209cx72l8mnt3km_8dx540000gn/T/tmpj0a963b9/Dataset_2-7K8W/data/Dataset/Image/Process/Observation_Diagnosis/Observation/Report/Report.csv] transfer successful. 0.08 KB transferred. Elapsed time: 0:00:00.044904. File was automatically deleted due to empty content.\n",
      "2024-11-21 17:17:04,883 - INFO - File [/var/folders/f8/85_209cx72l8mnt3km_8dx540000gn/T/tmpj0a963b9/Dataset_2-7K8W/fetch-manifest_18409752-f6a5-489c-a7f5-b5545aa7b03f.json] transfer successful. 0.00 KB transferred. Elapsed time: 0:00:00.045780. File was automatically deleted due to empty content.\n",
      "2024-11-21 17:17:04,883 - INFO - Creating remote file manifest from results of query: /attribute/Dataset/RID=2-7K8W/eye-ai:Image_Dataset/eye-ai:Image/eye-ai:Process/eye-ai:Observation_Diagnosis/eye-ai:Observation/eye-ai:Report/!(URL::null::)/url:=URL,length:=Length,filename:=Filename,md5:=MD5?limit=none\n",
      "2024-11-21 17:17:04,932 - INFO - File [/var/folders/f8/85_209cx72l8mnt3km_8dx540000gn/T/tmpj0a963b9/Dataset_2-7K8W/data/Dataset/Image/Process/Observation_Diagnosis/Observation/Report/OCR_RNFL/OCR_RNFL.csv] transfer successful. 0.39 KB transferred. Elapsed time: 0:00:00.046810. File was automatically deleted due to empty content.\n",
      "2024-11-21 17:17:04,981 - INFO - File [/var/folders/f8/85_209cx72l8mnt3km_8dx540000gn/T/tmpj0a963b9/Dataset_2-7K8W/data/Dataset/Image/Process/Observation_Diagnosis/Observation/Report/OCR_HVF/OCR_HVF.csv] transfer successful. 0.26 KB transferred. Elapsed time: 0:00:00.047941. File was automatically deleted due to empty content.\n",
      "2024-11-21 17:17:05,089 - INFO - File [/var/folders/f8/85_209cx72l8mnt3km_8dx540000gn/T/tmpj0a963b9/Dataset_2-7K8W/data/Dataset/Image/Process/Observation_Diagnosis/Observation/Clinical_Records_Observation.csv] transfer successful. 0.05 KB transferred. Elapsed time: 0:00:00.106237. File was automatically deleted due to empty content.\n",
      "2024-11-21 17:17:05,160 - INFO - File [/var/folders/f8/85_209cx72l8mnt3km_8dx540000gn/T/tmpj0a963b9/Dataset_2-7K8W/data/Dataset/Image/Process/Observation_Diagnosis/Observation/Clinical_Records/Clinical_Records.csv] transfer successful. 0.18 KB transferred. Elapsed time: 0:00:00.069830. File was automatically deleted due to empty content.\n",
      "2024-11-21 17:17:05,221 - INFO - File [/var/folders/f8/85_209cx72l8mnt3km_8dx540000gn/T/tmpj0a963b9/Dataset_2-7K8W/data/Dataset/Image/Process/Observation_Diagnosis/Observation/Clinical_Records/Clinical_Records_ICD10_Eye/Clinical_Records_ICD10_Eye.csv] transfer successful. 0.05 KB transferred. Elapsed time: 0:00:00.058715. File was automatically deleted due to empty content.\n",
      "2024-11-21 17:17:05,453 - INFO - File [/var/folders/f8/85_209cx72l8mnt3km_8dx540000gn/T/tmpj0a963b9/Dataset_2-7K8W/data/Dataset/Image/Process/Diagnosis/Diagnosis.csv] transfer successful. 0.14 KB transferred. Elapsed time: 0:00:00.228924. File was automatically deleted due to empty content.\n",
      "2024-11-21 17:17:05,510 - INFO - File [/var/folders/f8/85_209cx72l8mnt3km_8dx540000gn/T/tmpj0a963b9/Dataset_2-7K8W/data/Dataset/Image/Process/Subject_Diagnosis/Subject_Diagnosis.csv] transfer successful. 0.08 KB transferred. Elapsed time: 0:00:00.053890. File was automatically deleted due to empty content.\n",
      "2024-11-21 17:17:05,700 - INFO - File [/var/folders/f8/85_209cx72l8mnt3km_8dx540000gn/T/tmpj0a963b9/Dataset_2-7K8W/data/Dataset/Image/Process/Subject_Diagnosis/Subject/Subject.csv] transfer successful. 0.06 KB transferred. Elapsed time: 0:00:00.187290. File was automatically deleted due to empty content.\n",
      "2024-11-21 17:17:05,755 - INFO - File [/var/folders/f8/85_209cx72l8mnt3km_8dx540000gn/T/tmpj0a963b9/Dataset_2-7K8W/data/Dataset/Image/Process/Subject_Diagnosis/Subject/Observation/Observation.csv] transfer successful. 0.40 KB transferred. Elapsed time: 0:00:00.052369. File was automatically deleted due to empty content.\n",
      "2024-11-21 17:17:05,806 - INFO - File [/var/folders/f8/85_209cx72l8mnt3km_8dx540000gn/T/tmpj0a963b9/Dataset_2-7K8W/data/Dataset/Image/Process/Subject_Diagnosis/Subject/Observation/Report/Report.csv] transfer successful. 0.08 KB transferred. Elapsed time: 0:00:00.048760. File was automatically deleted due to empty content.\n",
      "2024-11-21 17:17:05,871 - INFO - File [/var/folders/f8/85_209cx72l8mnt3km_8dx540000gn/T/tmpj0a963b9/Dataset_2-7K8W/fetch-manifest_9e3dfd96-a5e9-456f-b9a9-6377fdc55172.json] transfer successful. 0.00 KB transferred. Elapsed time: 0:00:00.062950. File was automatically deleted due to empty content.\n",
      "2024-11-21 17:17:05,872 - INFO - Creating remote file manifest from results of query: /attribute/Dataset/RID=2-7K8W/eye-ai:Image_Dataset/eye-ai:Image/eye-ai:Process/eye-ai:Subject_Diagnosis/eye-ai:Subject/eye-ai:Observation/eye-ai:Report/!(URL::null::)/url:=URL,length:=Length,filename:=Filename,md5:=MD5?limit=none\n",
      "2024-11-21 17:17:05,957 - INFO - File [/var/folders/f8/85_209cx72l8mnt3km_8dx540000gn/T/tmpj0a963b9/Dataset_2-7K8W/data/Dataset/Image/Process/Subject_Diagnosis/Subject/Observation/Report/OCR_RNFL/OCR_RNFL.csv] transfer successful. 0.39 KB transferred. Elapsed time: 0:00:00.082906. File was automatically deleted due to empty content.\n",
      "2024-11-21 17:17:06,011 - INFO - File [/var/folders/f8/85_209cx72l8mnt3km_8dx540000gn/T/tmpj0a963b9/Dataset_2-7K8W/data/Dataset/Image/Process/Subject_Diagnosis/Subject/Observation/Report/OCR_HVF/OCR_HVF.csv] transfer successful. 0.26 KB transferred. Elapsed time: 0:00:00.052443. File was automatically deleted due to empty content.\n",
      "2024-11-21 17:17:06,137 - INFO - File [/var/folders/f8/85_209cx72l8mnt3km_8dx540000gn/T/tmpj0a963b9/Dataset_2-7K8W/data/Dataset/Image/Process/Subject_Diagnosis/Subject/Observation/Observation_Diagnosis/Observation_Diagnosis.csv] transfer successful. 0.08 KB transferred. Elapsed time: 0:00:00.123638. File was automatically deleted due to empty content.\n",
      "2024-11-21 17:17:06,196 - INFO - File [/var/folders/f8/85_209cx72l8mnt3km_8dx540000gn/T/tmpj0a963b9/Dataset_2-7K8W/data/Dataset/Image/Process/Subject_Diagnosis/Subject/Observation/Clinical_Records_Observation.csv] transfer successful. 0.05 KB transferred. Elapsed time: 0:00:00.056819. File was automatically deleted due to empty content.\n",
      "2024-11-21 17:17:06,251 - INFO - File [/var/folders/f8/85_209cx72l8mnt3km_8dx540000gn/T/tmpj0a963b9/Dataset_2-7K8W/data/Dataset/Image/Process/Subject_Diagnosis/Subject/Observation/Clinical_Records/Clinical_Records.csv] transfer successful. 0.18 KB transferred. Elapsed time: 0:00:00.053188. File was automatically deleted due to empty content.\n",
      "2024-11-21 17:17:06,304 - INFO - File [/var/folders/f8/85_209cx72l8mnt3km_8dx540000gn/T/tmpj0a963b9/Dataset_2-7K8W/data/Dataset/Image/Process/Subject_Diagnosis/Subject/Observation/Clinical_Records/Clinical_Records_ICD10_Eye/Clinical_Records_ICD10_Eye.csv] transfer successful. 0.05 KB transferred. Elapsed time: 0:00:00.052141. File was automatically deleted due to empty content.\n",
      "2024-11-21 17:17:06,385 - INFO - File [/var/folders/f8/85_209cx72l8mnt3km_8dx540000gn/T/tmpj0a963b9/Dataset_2-7K8W/data/Dataset/Image/Process/Subject_Diagnosis/Subject/Subject_image_quality_factor_Subject.csv] transfer successful. 0.06 KB transferred. Elapsed time: 0:00:00.079459. File was automatically deleted due to empty content.\n",
      "2024-11-21 17:17:06,435 - INFO - File [/var/folders/f8/85_209cx72l8mnt3km_8dx540000gn/T/tmpj0a963b9/Dataset_2-7K8W/data/Dataset/Subject_Dataset.csv] transfer successful. 1.99 KB transferred. Elapsed time: 0:00:00.048478. \n",
      "2024-11-21 17:17:06,481 - INFO - File [/var/folders/f8/85_209cx72l8mnt3km_8dx540000gn/T/tmpj0a963b9/Dataset_2-7K8W/data/Dataset/Subject/Subject.csv] transfer successful. 2.16 KB transferred. Elapsed time: 0:00:00.044686. \n",
      "2024-11-21 17:17:06,529 - INFO - File [/var/folders/f8/85_209cx72l8mnt3km_8dx540000gn/T/tmpj0a963b9/Dataset_2-7K8W/data/Dataset/Subject/Observation/Observation.csv] transfer successful. 4.48 KB transferred. Elapsed time: 0:00:00.047018. \n",
      "2024-11-21 17:17:06,662 - INFO - File [/var/folders/f8/85_209cx72l8mnt3km_8dx540000gn/T/tmpj0a963b9/Dataset_2-7K8W/data/Dataset/Subject/Observation/Report/Report.csv] transfer successful. 0.08 KB transferred. Elapsed time: 0:00:00.130561. File was automatically deleted due to empty content.\n",
      "2024-11-21 17:17:06,712 - INFO - File [/var/folders/f8/85_209cx72l8mnt3km_8dx540000gn/T/tmpj0a963b9/Dataset_2-7K8W/fetch-manifest_81e3ebaa-8d99-4742-8b16-7fe45ab0b6a7.json] transfer successful. 0.00 KB transferred. Elapsed time: 0:00:00.048608. File was automatically deleted due to empty content.\n",
      "2024-11-21 17:17:06,712 - INFO - Creating remote file manifest from results of query: /attribute/Dataset/RID=2-7K8W/eye-ai:Subject_Dataset/eye-ai:Subject/eye-ai:Observation/eye-ai:Report/!(URL::null::)/url:=URL,length:=Length,filename:=Filename,md5:=MD5?limit=none\n",
      "2024-11-21 17:17:06,762 - INFO - File [/var/folders/f8/85_209cx72l8mnt3km_8dx540000gn/T/tmpj0a963b9/Dataset_2-7K8W/data/Dataset/Subject/Observation/Report/OCR_RNFL/OCR_RNFL.csv] transfer successful. 0.39 KB transferred. Elapsed time: 0:00:00.047960. File was automatically deleted due to empty content.\n",
      "2024-11-21 17:17:06,817 - INFO - File [/var/folders/f8/85_209cx72l8mnt3km_8dx540000gn/T/tmpj0a963b9/Dataset_2-7K8W/data/Dataset/Subject/Observation/Report/OCR_HVF/OCR_HVF.csv] transfer successful. 0.26 KB transferred. Elapsed time: 0:00:00.052776. File was automatically deleted due to empty content.\n",
      "2024-11-21 17:17:06,863 - INFO - File [/var/folders/f8/85_209cx72l8mnt3km_8dx540000gn/T/tmpj0a963b9/Dataset_2-7K8W/data/Dataset/Subject/Observation/Observation_Diagnosis/Observation_Diagnosis.csv] transfer successful. 2.33 KB transferred. Elapsed time: 0:00:00.044976. \n",
      "2024-11-21 17:17:06,919 - INFO - File [/var/folders/f8/85_209cx72l8mnt3km_8dx540000gn/T/tmpj0a963b9/Dataset_2-7K8W/data/Dataset/Subject/Observation/Observation_Diagnosis/Process/Process.csv] transfer successful. 0.06 KB transferred. Elapsed time: 0:00:00.055104. File was automatically deleted due to empty content.\n",
      "2024-11-21 17:17:06,966 - INFO - File [/var/folders/f8/85_209cx72l8mnt3km_8dx540000gn/T/tmpj0a963b9/Dataset_2-7K8W/data/Dataset/Subject/Observation/Observation_Diagnosis/Process/Image/Image.csv] transfer successful. 0.12 KB transferred. Elapsed time: 0:00:00.045807. File was automatically deleted due to empty content.\n",
      "2024-11-21 17:17:07,014 - INFO - File [/var/folders/f8/85_209cx72l8mnt3km_8dx540000gn/T/tmpj0a963b9/Dataset_2-7K8W/fetch-manifest_a4c593a5-9fde-4120-b88a-86f53563980c.json] transfer successful. 0.00 KB transferred. Elapsed time: 0:00:00.046363. File was automatically deleted due to empty content.\n",
      "2024-11-21 17:17:07,014 - INFO - Creating remote file manifest from results of query: /attribute/Dataset/RID=2-7K8W/eye-ai:Subject_Dataset/eye-ai:Subject/eye-ai:Observation/eye-ai:Observation_Diagnosis/eye-ai:Process/eye-ai:Image/!(URL::null::)/url:=URL,length:=Length,filename:=Filename,md5:=MD5?limit=none\n",
      "2024-11-21 17:17:07,063 - INFO - File [/var/folders/f8/85_209cx72l8mnt3km_8dx540000gn/T/tmpj0a963b9/Dataset_2-7K8W/data/Dataset/Subject/Observation/Observation_Diagnosis/Process/Image/Image_Annotation/Image_Annotation.csv] transfer successful. 0.10 KB transferred. Elapsed time: 0:00:00.047121. File was automatically deleted due to empty content.\n",
      "2024-11-21 17:17:07,184 - INFO - File [/var/folders/f8/85_209cx72l8mnt3km_8dx540000gn/T/tmpj0a963b9/Dataset_2-7K8W/data/Dataset/Subject/Observation/Observation_Diagnosis/Process/Image/Image_Annotation/Fundus_Bounding_Box/Fundus_Bounding_Box.csv] transfer successful. 0.05 KB transferred. Elapsed time: 0:00:00.119579. File was automatically deleted due to empty content.\n",
      "2024-11-21 17:17:07,234 - INFO - File [/var/folders/f8/85_209cx72l8mnt3km_8dx540000gn/T/tmpj0a963b9/Dataset_2-7K8W/fetch-manifest_27d516ef-e102-40be-b443-23f3304a7663.json] transfer successful. 0.00 KB transferred. Elapsed time: 0:00:00.048254. File was automatically deleted due to empty content.\n",
      "2024-11-21 17:17:07,234 - INFO - Creating remote file manifest from results of query: /attribute/Dataset/RID=2-7K8W/eye-ai:Subject_Dataset/eye-ai:Subject/eye-ai:Observation/eye-ai:Observation_Diagnosis/eye-ai:Process/eye-ai:Image/eye-ai:Image_Annotation/eye-ai:Fundus_Bounding_Box/!(URL::null::)/url:=URL,length:=Length,filename:=Filename,md5:=MD5?limit=none\n",
      "2024-11-21 17:17:07,283 - INFO - File [/var/folders/f8/85_209cx72l8mnt3km_8dx540000gn/T/tmpj0a963b9/Dataset_2-7K8W/data/Dataset/Subject/Observation/Observation_Diagnosis/Process/Image/Diagnosis/Diagnosis.csv] transfer successful. 0.14 KB transferred. Elapsed time: 0:00:00.047816. File was automatically deleted due to empty content.\n",
      "2024-11-21 17:17:07,331 - INFO - File [/var/folders/f8/85_209cx72l8mnt3km_8dx540000gn/T/tmpj0a963b9/Dataset_2-7K8W/data/Dataset/Subject/Observation/Observation_Diagnosis/Process/Diagnosis/Diagnosis.csv] transfer successful. 0.14 KB transferred. Elapsed time: 0:00:00.045939. File was automatically deleted due to empty content.\n",
      "2024-11-21 17:17:07,387 - INFO - File [/var/folders/f8/85_209cx72l8mnt3km_8dx540000gn/T/tmpj0a963b9/Dataset_2-7K8W/data/Dataset/Subject/Observation/Observation_Diagnosis/Process/Diagnosis/Image/Image.csv] transfer successful. 0.12 KB transferred. Elapsed time: 0:00:00.051787. File was automatically deleted due to empty content.\n",
      "2024-11-21 17:17:07,471 - INFO - File [/var/folders/f8/85_209cx72l8mnt3km_8dx540000gn/T/tmpj0a963b9/Dataset_2-7K8W/fetch-manifest_ac6bb08e-9205-4523-85c1-7e4026432079.json] transfer successful. 0.00 KB transferred. Elapsed time: 0:00:00.075476. File was automatically deleted due to empty content.\n",
      "2024-11-21 17:17:07,478 - INFO - Creating remote file manifest from results of query: /attribute/Dataset/RID=2-7K8W/eye-ai:Subject_Dataset/eye-ai:Subject/eye-ai:Observation/eye-ai:Observation_Diagnosis/eye-ai:Process/eye-ai:Diagnosis/eye-ai:Image/!(URL::null::)/url:=URL,length:=Length,filename:=Filename,md5:=MD5?limit=none\n",
      "2024-11-21 17:17:07,610 - INFO - File [/var/folders/f8/85_209cx72l8mnt3km_8dx540000gn/T/tmpj0a963b9/Dataset_2-7K8W/data/Dataset/Subject/Observation/Observation_Diagnosis/Process/Diagnosis/Image/Image_Annotation/Image_Annotation.csv] transfer successful. 0.10 KB transferred. Elapsed time: 0:00:00.064502. File was automatically deleted due to empty content.\n",
      "2024-11-21 17:17:07,758 - INFO - File [/var/folders/f8/85_209cx72l8mnt3km_8dx540000gn/T/tmpj0a963b9/Dataset_2-7K8W/data/Dataset/Subject/Observation/Observation_Diagnosis/Process/Diagnosis/Image/Image_Annotation/Fundus_Bounding_Box/Fundus_Bounding_Box.csv] transfer successful. 0.05 KB transferred. Elapsed time: 0:00:00.138279. File was automatically deleted due to empty content.\n",
      "2024-11-21 17:17:07,830 - INFO - File [/var/folders/f8/85_209cx72l8mnt3km_8dx540000gn/T/tmpj0a963b9/Dataset_2-7K8W/fetch-manifest_81ec0415-7272-4a61-a4cc-1e13bdedeb28.json] transfer successful. 0.00 KB transferred. Elapsed time: 0:00:00.071029. File was automatically deleted due to empty content.\n",
      "2024-11-21 17:17:07,831 - INFO - Creating remote file manifest from results of query: /attribute/Dataset/RID=2-7K8W/eye-ai:Subject_Dataset/eye-ai:Subject/eye-ai:Observation/eye-ai:Observation_Diagnosis/eye-ai:Process/eye-ai:Diagnosis/eye-ai:Image/eye-ai:Image_Annotation/eye-ai:Fundus_Bounding_Box/!(URL::null::)/url:=URL,length:=Length,filename:=Filename,md5:=MD5?limit=none\n",
      "2024-11-21 17:17:07,880 - INFO - File [/var/folders/f8/85_209cx72l8mnt3km_8dx540000gn/T/tmpj0a963b9/Dataset_2-7K8W/data/Dataset/Subject/Observation/Observation_Diagnosis/Process/Subject_Diagnosis/Subject_Diagnosis.csv] transfer successful. 0.08 KB transferred. Elapsed time: 0:00:00.048211. File was automatically deleted due to empty content.\n",
      "2024-11-21 17:17:07,928 - INFO - File [/var/folders/f8/85_209cx72l8mnt3km_8dx540000gn/T/tmpj0a963b9/Dataset_2-7K8W/data/Dataset/Subject/Observation/Clinical_Records_Observation.csv] transfer successful. 0.05 KB transferred. Elapsed time: 0:00:00.046486. File was automatically deleted due to empty content.\n",
      "2024-11-21 17:17:07,979 - INFO - File [/var/folders/f8/85_209cx72l8mnt3km_8dx540000gn/T/tmpj0a963b9/Dataset_2-7K8W/data/Dataset/Subject/Observation/Clinical_Records/Clinical_Records.csv] transfer successful. 0.18 KB transferred. Elapsed time: 0:00:00.049008. File was automatically deleted due to empty content.\n",
      "2024-11-21 17:17:08,029 - INFO - File [/var/folders/f8/85_209cx72l8mnt3km_8dx540000gn/T/tmpj0a963b9/Dataset_2-7K8W/data/Dataset/Subject/Observation/Clinical_Records/Clinical_Records_ICD10_Eye/Clinical_Records_ICD10_Eye.csv] transfer successful. 0.05 KB transferred. Elapsed time: 0:00:00.049064. File was automatically deleted due to empty content.\n",
      "2024-11-21 17:17:08,109 - INFO - File [/var/folders/f8/85_209cx72l8mnt3km_8dx540000gn/T/tmpj0a963b9/Dataset_2-7K8W/data/Dataset/Subject/Observation/Image/Image.csv] transfer successful. 26.33 KB transferred. Elapsed time: 0:00:00.078817. \n",
      "2024-11-21 17:17:08,234 - INFO - File [/var/folders/f8/85_209cx72l8mnt3km_8dx540000gn/T/tmpj0a963b9/Dataset_2-7K8W/fetch-manifest_bb5b7f6e-8683-44bb-9677-d75cdb8cb40b.json] transfer successful. 14.74 KB transferred. Elapsed time: 0:00:00.123989. \n",
      "2024-11-21 17:17:08,235 - INFO - Creating remote file manifest from results of query: /attribute/Dataset/RID=2-7K8W/eye-ai:Subject_Dataset/eye-ai:Subject/eye-ai:Observation/eye-ai:Image/!(URL::null::)/url:=URL,length:=Length,filename:=Filename,md5:=MD5?limit=none\n",
      "2024-11-21 17:17:08,288 - INFO - File [/var/folders/f8/85_209cx72l8mnt3km_8dx540000gn/T/tmpj0a963b9/Dataset_2-7K8W/data/Dataset/Subject/Observation/Image/Image_Annotation/Image_Annotation.csv] transfer successful. 5.69 KB transferred. Elapsed time: 0:00:00.049398. \n",
      "2024-11-21 17:17:08,337 - INFO - File [/var/folders/f8/85_209cx72l8mnt3km_8dx540000gn/T/tmpj0a963b9/Dataset_2-7K8W/data/Dataset/Subject/Observation/Image/Image_Annotation/Fundus_Bounding_Box/Fundus_Bounding_Box.csv] transfer successful. 7.62 KB transferred. Elapsed time: 0:00:00.047230. \n",
      "2024-11-21 17:17:08,389 - INFO - File [/var/folders/f8/85_209cx72l8mnt3km_8dx540000gn/T/tmpj0a963b9/Dataset_2-7K8W/fetch-manifest_697ece21-7c7e-4700-9c52-ec228fc1d775.json] transfer successful. 4.34 KB transferred. Elapsed time: 0:00:00.050473. \n",
      "2024-11-21 17:17:08,390 - INFO - Creating remote file manifest from results of query: /attribute/Dataset/RID=2-7K8W/eye-ai:Subject_Dataset/eye-ai:Subject/eye-ai:Observation/eye-ai:Image/eye-ai:Image_Annotation/eye-ai:Fundus_Bounding_Box/!(URL::null::)/url:=URL,length:=Length,filename:=Filename,md5:=MD5?limit=none\n",
      "2024-11-21 17:17:08,476 - INFO - File [/var/folders/f8/85_209cx72l8mnt3km_8dx540000gn/T/tmpj0a963b9/Dataset_2-7K8W/data/Dataset/Subject/Observation/Image/Diagnosis/Diagnosis.csv] transfer successful. 101.73 KB transferred. Elapsed time: 0:00:00.083635. \n",
      "2024-11-21 17:17:08,525 - INFO - File [/var/folders/f8/85_209cx72l8mnt3km_8dx540000gn/T/tmpj0a963b9/Dataset_2-7K8W/data/Dataset/Subject/Observation/Image/Diagnosis/Process/Process.csv] transfer successful. 0.27 KB transferred. Elapsed time: 0:00:00.047872. \n",
      "2024-11-21 17:17:08,758 - INFO - File [/var/folders/f8/85_209cx72l8mnt3km_8dx540000gn/T/tmpj0a963b9/Dataset_2-7K8W/data/Dataset/Subject/Observation/Image/Diagnosis/Process/Observation_Diagnosis/Observation_Diagnosis.csv] transfer successful. 0.08 KB transferred. Elapsed time: 0:00:00.230461. File was automatically deleted due to empty content.\n",
      "2024-11-21 17:17:08,968 - INFO - File [/var/folders/f8/85_209cx72l8mnt3km_8dx540000gn/T/tmpj0a963b9/Dataset_2-7K8W/data/Dataset/Subject/Observation/Image/Diagnosis/Process/Subject_Diagnosis/Subject_Diagnosis.csv] transfer successful. 0.08 KB transferred. Elapsed time: 0:00:00.207654. File was automatically deleted due to empty content.\n",
      "2024-11-21 17:17:09,021 - INFO - File [/var/folders/f8/85_209cx72l8mnt3km_8dx540000gn/T/tmpj0a963b9/Dataset_2-7K8W/data/Dataset/Subject/Observation/Image/Process/Process.csv] transfer successful. 0.06 KB transferred. Elapsed time: 0:00:00.049091. File was automatically deleted due to empty content.\n",
      "2024-11-21 17:17:09,097 - INFO - File [/var/folders/f8/85_209cx72l8mnt3km_8dx540000gn/T/tmpj0a963b9/Dataset_2-7K8W/data/Dataset/Subject/Observation/Image/Process/Observation_Diagnosis/Observation_Diagnosis.csv] transfer successful. 0.08 KB transferred. Elapsed time: 0:00:00.073324. File was automatically deleted due to empty content.\n",
      "2024-11-21 17:17:09,281 - INFO - File [/var/folders/f8/85_209cx72l8mnt3km_8dx540000gn/T/tmpj0a963b9/Dataset_2-7K8W/data/Dataset/Subject/Observation/Image/Process/Diagnosis/Diagnosis.csv] transfer successful. 0.14 KB transferred. Elapsed time: 0:00:00.180645. File was automatically deleted due to empty content.\n",
      "2024-11-21 17:17:09,378 - INFO - File [/var/folders/f8/85_209cx72l8mnt3km_8dx540000gn/T/tmpj0a963b9/Dataset_2-7K8W/data/Dataset/Subject/Observation/Image/Process/Subject_Diagnosis/Subject_Diagnosis.csv] transfer successful. 0.08 KB transferred. Elapsed time: 0:00:00.095334. File was automatically deleted due to empty content.\n",
      "2024-11-21 17:17:09,422 - INFO - File [/var/folders/f8/85_209cx72l8mnt3km_8dx540000gn/T/tmpj0a963b9/Dataset_2-7K8W/data/Dataset/Subject/Subject_Diagnosis/Subject_Diagnosis.csv] transfer successful. 2.33 KB transferred. Elapsed time: 0:00:00.042946. \n",
      "2024-11-21 17:17:09,467 - INFO - File [/var/folders/f8/85_209cx72l8mnt3km_8dx540000gn/T/tmpj0a963b9/Dataset_2-7K8W/data/Dataset/Subject/Subject_Diagnosis/Process/Process.csv] transfer successful. 0.06 KB transferred. Elapsed time: 0:00:00.043226. File was automatically deleted due to empty content.\n",
      "2024-11-21 17:17:09,515 - INFO - File [/var/folders/f8/85_209cx72l8mnt3km_8dx540000gn/T/tmpj0a963b9/Dataset_2-7K8W/data/Dataset/Subject/Subject_Diagnosis/Process/Image/Image.csv] transfer successful. 0.12 KB transferred. Elapsed time: 0:00:00.045942. File was automatically deleted due to empty content.\n",
      "2024-11-21 17:17:09,570 - INFO - File [/var/folders/f8/85_209cx72l8mnt3km_8dx540000gn/T/tmpj0a963b9/Dataset_2-7K8W/fetch-manifest_97c2c19e-eead-4696-abdd-b086333e65a8.json] transfer successful. 0.00 KB transferred. Elapsed time: 0:00:00.050324. File was automatically deleted due to empty content.\n",
      "2024-11-21 17:17:09,574 - INFO - Creating remote file manifest from results of query: /attribute/Dataset/RID=2-7K8W/eye-ai:Subject_Dataset/eye-ai:Subject/eye-ai:Subject_Diagnosis/eye-ai:Process/eye-ai:Image/!(URL::null::)/url:=URL,length:=Length,filename:=Filename,md5:=MD5?limit=none\n",
      "2024-11-21 17:17:09,655 - INFO - File [/var/folders/f8/85_209cx72l8mnt3km_8dx540000gn/T/tmpj0a963b9/Dataset_2-7K8W/data/Dataset/Subject/Subject_Diagnosis/Process/Image/Observation/Observation.csv] transfer successful. 0.40 KB transferred. Elapsed time: 0:00:00.078415. File was automatically deleted due to empty content.\n",
      "2024-11-21 17:17:09,705 - INFO - File [/var/folders/f8/85_209cx72l8mnt3km_8dx540000gn/T/tmpj0a963b9/Dataset_2-7K8W/data/Dataset/Subject/Subject_Diagnosis/Process/Image/Observation/Report/Report.csv] transfer successful. 0.08 KB transferred. Elapsed time: 0:00:00.048326. File was automatically deleted due to empty content.\n",
      "2024-11-21 17:17:09,805 - INFO - File [/var/folders/f8/85_209cx72l8mnt3km_8dx540000gn/T/tmpj0a963b9/Dataset_2-7K8W/fetch-manifest_169d7465-903f-40c8-84ea-32f49e757733.json] transfer successful. 0.00 KB transferred. Elapsed time: 0:00:00.098064. File was automatically deleted due to empty content.\n",
      "2024-11-21 17:17:09,806 - INFO - Creating remote file manifest from results of query: /attribute/Dataset/RID=2-7K8W/eye-ai:Subject_Dataset/eye-ai:Subject/eye-ai:Subject_Diagnosis/eye-ai:Process/eye-ai:Image/eye-ai:Observation/eye-ai:Report/!(URL::null::)/url:=URL,length:=Length,filename:=Filename,md5:=MD5?limit=none\n",
      "2024-11-21 17:17:09,858 - INFO - File [/var/folders/f8/85_209cx72l8mnt3km_8dx540000gn/T/tmpj0a963b9/Dataset_2-7K8W/data/Dataset/Subject/Subject_Diagnosis/Process/Image/Observation/Report/OCR_RNFL/OCR_RNFL.csv] transfer successful. 0.39 KB transferred. Elapsed time: 0:00:00.050387. File was automatically deleted due to empty content.\n",
      "2024-11-21 17:17:09,915 - INFO - File [/var/folders/f8/85_209cx72l8mnt3km_8dx540000gn/T/tmpj0a963b9/Dataset_2-7K8W/data/Dataset/Subject/Subject_Diagnosis/Process/Image/Observation/Report/OCR_HVF/OCR_HVF.csv] transfer successful. 0.26 KB transferred. Elapsed time: 0:00:00.055467. File was automatically deleted due to empty content.\n",
      "2024-11-21 17:17:09,968 - INFO - File [/var/folders/f8/85_209cx72l8mnt3km_8dx540000gn/T/tmpj0a963b9/Dataset_2-7K8W/data/Dataset/Subject/Subject_Diagnosis/Process/Image/Observation/Observation_Diagnosis/Observation_Diagnosis.csv] transfer successful. 0.08 KB transferred. Elapsed time: 0:00:00.051405. File was automatically deleted due to empty content.\n",
      "2024-11-21 17:17:10,020 - INFO - File [/var/folders/f8/85_209cx72l8mnt3km_8dx540000gn/T/tmpj0a963b9/Dataset_2-7K8W/data/Dataset/Subject/Subject_Diagnosis/Process/Image/Observation/Clinical_Records_Observation.csv] transfer successful. 0.05 KB transferred. Elapsed time: 0:00:00.051207. File was automatically deleted due to empty content.\n",
      "2024-11-21 17:17:10,072 - INFO - File [/var/folders/f8/85_209cx72l8mnt3km_8dx540000gn/T/tmpj0a963b9/Dataset_2-7K8W/data/Dataset/Subject/Subject_Diagnosis/Process/Image/Observation/Clinical_Records/Clinical_Records.csv] transfer successful. 0.18 KB transferred. Elapsed time: 0:00:00.050396. File was automatically deleted due to empty content.\n",
      "2024-11-21 17:17:10,123 - INFO - File [/var/folders/f8/85_209cx72l8mnt3km_8dx540000gn/T/tmpj0a963b9/Dataset_2-7K8W/data/Dataset/Subject/Subject_Diagnosis/Process/Image/Observation/Clinical_Records/Clinical_Records_ICD10_Eye/Clinical_Records_ICD10_Eye.csv] transfer successful. 0.05 KB transferred. Elapsed time: 0:00:00.049157. File was automatically deleted due to empty content.\n",
      "2024-11-21 17:17:10,181 - INFO - File [/var/folders/f8/85_209cx72l8mnt3km_8dx540000gn/T/tmpj0a963b9/Dataset_2-7K8W/data/Dataset/Subject/Subject_Diagnosis/Process/Image/Image_Annotation/Image_Annotation.csv] transfer successful. 0.10 KB transferred. Elapsed time: 0:00:00.055574. File was automatically deleted due to empty content.\n",
      "2024-11-21 17:17:10,330 - INFO - File [/var/folders/f8/85_209cx72l8mnt3km_8dx540000gn/T/tmpj0a963b9/Dataset_2-7K8W/data/Dataset/Subject/Subject_Diagnosis/Process/Image/Image_Annotation/Fundus_Bounding_Box/Fundus_Bounding_Box.csv] transfer successful. 0.05 KB transferred. Elapsed time: 0:00:00.145166. File was automatically deleted due to empty content.\n",
      "2024-11-21 17:17:10,382 - INFO - File [/var/folders/f8/85_209cx72l8mnt3km_8dx540000gn/T/tmpj0a963b9/Dataset_2-7K8W/fetch-manifest_2a8abb7d-56fc-4cf6-807f-146b623ac791.json] transfer successful. 0.00 KB transferred. Elapsed time: 0:00:00.050327. File was automatically deleted due to empty content.\n",
      "2024-11-21 17:17:10,382 - INFO - Creating remote file manifest from results of query: /attribute/Dataset/RID=2-7K8W/eye-ai:Subject_Dataset/eye-ai:Subject/eye-ai:Subject_Diagnosis/eye-ai:Process/eye-ai:Image/eye-ai:Image_Annotation/eye-ai:Fundus_Bounding_Box/!(URL::null::)/url:=URL,length:=Length,filename:=Filename,md5:=MD5?limit=none\n",
      "2024-11-21 17:17:10,440 - INFO - File [/var/folders/f8/85_209cx72l8mnt3km_8dx540000gn/T/tmpj0a963b9/Dataset_2-7K8W/data/Dataset/Subject/Subject_Diagnosis/Process/Image/Diagnosis/Diagnosis.csv] transfer successful. 0.14 KB transferred. Elapsed time: 0:00:00.055785. File was automatically deleted due to empty content.\n",
      "2024-11-21 17:17:10,489 - INFO - File [/var/folders/f8/85_209cx72l8mnt3km_8dx540000gn/T/tmpj0a963b9/Dataset_2-7K8W/data/Dataset/Subject/Subject_Diagnosis/Process/Observation_Diagnosis/Observation_Diagnosis.csv] transfer successful. 0.08 KB transferred. Elapsed time: 0:00:00.048089. File was automatically deleted due to empty content.\n",
      "2024-11-21 17:17:10,551 - INFO - File [/var/folders/f8/85_209cx72l8mnt3km_8dx540000gn/T/tmpj0a963b9/Dataset_2-7K8W/data/Dataset/Subject/Subject_Diagnosis/Process/Observation_Diagnosis/Observation/Observation.csv] transfer successful. 0.40 KB transferred. Elapsed time: 0:00:00.060618. File was automatically deleted due to empty content.\n",
      "2024-11-21 17:17:10,607 - INFO - File [/var/folders/f8/85_209cx72l8mnt3km_8dx540000gn/T/tmpj0a963b9/Dataset_2-7K8W/data/Dataset/Subject/Subject_Diagnosis/Process/Observation_Diagnosis/Observation/Report/Report.csv] transfer successful. 0.08 KB transferred. Elapsed time: 0:00:00.054265. File was automatically deleted due to empty content.\n",
      "2024-11-21 17:17:10,660 - INFO - File [/var/folders/f8/85_209cx72l8mnt3km_8dx540000gn/T/tmpj0a963b9/Dataset_2-7K8W/fetch-manifest_26d3297c-9611-444f-beb0-e40be31de94b.json] transfer successful. 0.00 KB transferred. Elapsed time: 0:00:00.051417. File was automatically deleted due to empty content.\n",
      "2024-11-21 17:17:10,660 - INFO - Creating remote file manifest from results of query: /attribute/Dataset/RID=2-7K8W/eye-ai:Subject_Dataset/eye-ai:Subject/eye-ai:Subject_Diagnosis/eye-ai:Process/eye-ai:Observation_Diagnosis/eye-ai:Observation/eye-ai:Report/!(URL::null::)/url:=URL,length:=Length,filename:=Filename,md5:=MD5?limit=none\n",
      "2024-11-21 17:17:10,714 - INFO - File [/var/folders/f8/85_209cx72l8mnt3km_8dx540000gn/T/tmpj0a963b9/Dataset_2-7K8W/data/Dataset/Subject/Subject_Diagnosis/Process/Observation_Diagnosis/Observation/Report/OCR_RNFL/OCR_RNFL.csv] transfer successful. 0.39 KB transferred. Elapsed time: 0:00:00.052682. File was automatically deleted due to empty content.\n",
      "2024-11-21 17:17:10,854 - INFO - File [/var/folders/f8/85_209cx72l8mnt3km_8dx540000gn/T/tmpj0a963b9/Dataset_2-7K8W/data/Dataset/Subject/Subject_Diagnosis/Process/Observation_Diagnosis/Observation/Report/OCR_HVF/OCR_HVF.csv] transfer successful. 0.26 KB transferred. Elapsed time: 0:00:00.138014. File was automatically deleted due to empty content.\n",
      "2024-11-21 17:17:10,904 - INFO - File [/var/folders/f8/85_209cx72l8mnt3km_8dx540000gn/T/tmpj0a963b9/Dataset_2-7K8W/data/Dataset/Subject/Subject_Diagnosis/Process/Observation_Diagnosis/Observation/Clinical_Records_Observation.csv] transfer successful. 0.05 KB transferred. Elapsed time: 0:00:00.048522. File was automatically deleted due to empty content.\n",
      "2024-11-21 17:17:10,953 - INFO - File [/var/folders/f8/85_209cx72l8mnt3km_8dx540000gn/T/tmpj0a963b9/Dataset_2-7K8W/data/Dataset/Subject/Subject_Diagnosis/Process/Observation_Diagnosis/Observation/Clinical_Records/Clinical_Records.csv] transfer successful. 0.18 KB transferred. Elapsed time: 0:00:00.047425. File was automatically deleted due to empty content.\n",
      "2024-11-21 17:17:11,004 - INFO - File [/var/folders/f8/85_209cx72l8mnt3km_8dx540000gn/T/tmpj0a963b9/Dataset_2-7K8W/data/Dataset/Subject/Subject_Diagnosis/Process/Observation_Diagnosis/Observation/Clinical_Records/Clinical_Records_ICD10_Eye/Clinical_Records_ICD10_Eye.csv] transfer successful. 0.05 KB transferred. Elapsed time: 0:00:00.048901. File was automatically deleted due to empty content.\n",
      "2024-11-21 17:17:11,054 - INFO - File [/var/folders/f8/85_209cx72l8mnt3km_8dx540000gn/T/tmpj0a963b9/Dataset_2-7K8W/data/Dataset/Subject/Subject_Diagnosis/Process/Observation_Diagnosis/Observation/Image/Image.csv] transfer successful. 0.12 KB transferred. Elapsed time: 0:00:00.048938. File was automatically deleted due to empty content.\n",
      "2024-11-21 17:17:11,104 - INFO - File [/var/folders/f8/85_209cx72l8mnt3km_8dx540000gn/T/tmpj0a963b9/Dataset_2-7K8W/fetch-manifest_fd31f65a-badf-4fef-aa4b-51186901bd9f.json] transfer successful. 0.00 KB transferred. Elapsed time: 0:00:00.048182. File was automatically deleted due to empty content.\n",
      "2024-11-21 17:17:11,105 - INFO - Creating remote file manifest from results of query: /attribute/Dataset/RID=2-7K8W/eye-ai:Subject_Dataset/eye-ai:Subject/eye-ai:Subject_Diagnosis/eye-ai:Process/eye-ai:Observation_Diagnosis/eye-ai:Observation/eye-ai:Image/!(URL::null::)/url:=URL,length:=Length,filename:=Filename,md5:=MD5?limit=none\n",
      "2024-11-21 17:17:11,159 - INFO - File [/var/folders/f8/85_209cx72l8mnt3km_8dx540000gn/T/tmpj0a963b9/Dataset_2-7K8W/data/Dataset/Subject/Subject_Diagnosis/Process/Observation_Diagnosis/Observation/Image/Image_Annotation/Image_Annotation.csv] transfer successful. 0.10 KB transferred. Elapsed time: 0:00:00.052311. File was automatically deleted due to empty content.\n",
      "2024-11-21 17:17:11,210 - INFO - File [/var/folders/f8/85_209cx72l8mnt3km_8dx540000gn/T/tmpj0a963b9/Dataset_2-7K8W/data/Dataset/Subject/Subject_Diagnosis/Process/Observation_Diagnosis/Observation/Image/Image_Annotation/Fundus_Bounding_Box/Fundus_Bounding_Box.csv] transfer successful. 0.05 KB transferred. Elapsed time: 0:00:00.049928. File was automatically deleted due to empty content.\n",
      "2024-11-21 17:17:11,262 - INFO - File [/var/folders/f8/85_209cx72l8mnt3km_8dx540000gn/T/tmpj0a963b9/Dataset_2-7K8W/fetch-manifest_0689459b-0a2a-44ce-b44d-d482b470245e.json] transfer successful. 0.00 KB transferred. Elapsed time: 0:00:00.050643. File was automatically deleted due to empty content.\n",
      "2024-11-21 17:17:11,262 - INFO - Creating remote file manifest from results of query: /attribute/Dataset/RID=2-7K8W/eye-ai:Subject_Dataset/eye-ai:Subject/eye-ai:Subject_Diagnosis/eye-ai:Process/eye-ai:Observation_Diagnosis/eye-ai:Observation/eye-ai:Image/eye-ai:Image_Annotation/eye-ai:Fundus_Bounding_Box/!(URL::null::)/url:=URL,length:=Length,filename:=Filename,md5:=MD5?limit=none\n",
      "2024-11-21 17:17:11,379 - INFO - File [/var/folders/f8/85_209cx72l8mnt3km_8dx540000gn/T/tmpj0a963b9/Dataset_2-7K8W/data/Dataset/Subject/Subject_Diagnosis/Process/Observation_Diagnosis/Observation/Image/Diagnosis/Diagnosis.csv] transfer successful. 0.14 KB transferred. Elapsed time: 0:00:00.115081. File was automatically deleted due to empty content.\n",
      "2024-11-21 17:17:11,426 - INFO - File [/var/folders/f8/85_209cx72l8mnt3km_8dx540000gn/T/tmpj0a963b9/Dataset_2-7K8W/data/Dataset/Subject/Subject_Diagnosis/Process/Diagnosis/Diagnosis.csv] transfer successful. 0.14 KB transferred. Elapsed time: 0:00:00.045989. File was automatically deleted due to empty content.\n",
      "2024-11-21 17:17:11,476 - INFO - File [/var/folders/f8/85_209cx72l8mnt3km_8dx540000gn/T/tmpj0a963b9/Dataset_2-7K8W/data/Dataset/Subject/Subject_Diagnosis/Process/Diagnosis/Image/Image.csv] transfer successful. 0.12 KB transferred. Elapsed time: 0:00:00.048330. File was automatically deleted due to empty content.\n",
      "2024-11-21 17:17:11,525 - INFO - File [/var/folders/f8/85_209cx72l8mnt3km_8dx540000gn/T/tmpj0a963b9/Dataset_2-7K8W/fetch-manifest_430ac057-d8e8-45c7-a46e-6f5c1a6d7c45.json] transfer successful. 0.00 KB transferred. Elapsed time: 0:00:00.047734. File was automatically deleted due to empty content.\n",
      "2024-11-21 17:17:11,526 - INFO - Creating remote file manifest from results of query: /attribute/Dataset/RID=2-7K8W/eye-ai:Subject_Dataset/eye-ai:Subject/eye-ai:Subject_Diagnosis/eye-ai:Process/eye-ai:Diagnosis/eye-ai:Image/!(URL::null::)/url:=URL,length:=Length,filename:=Filename,md5:=MD5?limit=none\n",
      "2024-11-21 17:17:11,578 - INFO - File [/var/folders/f8/85_209cx72l8mnt3km_8dx540000gn/T/tmpj0a963b9/Dataset_2-7K8W/data/Dataset/Subject/Subject_Diagnosis/Process/Diagnosis/Image/Observation/Observation.csv] transfer successful. 0.40 KB transferred. Elapsed time: 0:00:00.050201. File was automatically deleted due to empty content.\n",
      "2024-11-21 17:17:11,634 - INFO - File [/var/folders/f8/85_209cx72l8mnt3km_8dx540000gn/T/tmpj0a963b9/Dataset_2-7K8W/data/Dataset/Subject/Subject_Diagnosis/Process/Diagnosis/Image/Observation/Report/Report.csv] transfer successful. 0.08 KB transferred. Elapsed time: 0:00:00.055138. File was automatically deleted due to empty content.\n",
      "2024-11-21 17:17:11,694 - INFO - File [/var/folders/f8/85_209cx72l8mnt3km_8dx540000gn/T/tmpj0a963b9/Dataset_2-7K8W/fetch-manifest_3b8ad518-f358-4cd2-8010-0d40d9fcb19b.json] transfer successful. 0.00 KB transferred. Elapsed time: 0:00:00.058576. File was automatically deleted due to empty content.\n",
      "2024-11-21 17:17:11,695 - INFO - Creating remote file manifest from results of query: /attribute/Dataset/RID=2-7K8W/eye-ai:Subject_Dataset/eye-ai:Subject/eye-ai:Subject_Diagnosis/eye-ai:Process/eye-ai:Diagnosis/eye-ai:Image/eye-ai:Observation/eye-ai:Report/!(URL::null::)/url:=URL,length:=Length,filename:=Filename,md5:=MD5?limit=none\n",
      "2024-11-21 17:17:11,755 - INFO - File [/var/folders/f8/85_209cx72l8mnt3km_8dx540000gn/T/tmpj0a963b9/Dataset_2-7K8W/data/Dataset/Subject/Subject_Diagnosis/Process/Diagnosis/Image/Observation/Report/OCR_RNFL/OCR_RNFL.csv] transfer successful. 0.39 KB transferred. Elapsed time: 0:00:00.059323. File was automatically deleted due to empty content.\n",
      "2024-11-21 17:17:11,902 - INFO - File [/var/folders/f8/85_209cx72l8mnt3km_8dx540000gn/T/tmpj0a963b9/Dataset_2-7K8W/data/Dataset/Subject/Subject_Diagnosis/Process/Diagnosis/Image/Observation/Report/OCR_HVF/OCR_HVF.csv] transfer successful. 0.26 KB transferred. Elapsed time: 0:00:00.144596. File was automatically deleted due to empty content.\n",
      "2024-11-21 17:17:11,955 - INFO - File [/var/folders/f8/85_209cx72l8mnt3km_8dx540000gn/T/tmpj0a963b9/Dataset_2-7K8W/data/Dataset/Subject/Subject_Diagnosis/Process/Diagnosis/Image/Observation/Observation_Diagnosis/Observation_Diagnosis.csv] transfer successful. 0.08 KB transferred. Elapsed time: 0:00:00.051687. File was automatically deleted due to empty content.\n",
      "2024-11-21 17:17:12,006 - INFO - File [/var/folders/f8/85_209cx72l8mnt3km_8dx540000gn/T/tmpj0a963b9/Dataset_2-7K8W/data/Dataset/Subject/Subject_Diagnosis/Process/Diagnosis/Image/Observation/Clinical_Records_Observation.csv] transfer successful. 0.05 KB transferred. Elapsed time: 0:00:00.049564. File was automatically deleted due to empty content.\n",
      "2024-11-21 17:17:12,065 - INFO - File [/var/folders/f8/85_209cx72l8mnt3km_8dx540000gn/T/tmpj0a963b9/Dataset_2-7K8W/data/Dataset/Subject/Subject_Diagnosis/Process/Diagnosis/Image/Observation/Clinical_Records/Clinical_Records.csv] transfer successful. 0.18 KB transferred. Elapsed time: 0:00:00.057396. File was automatically deleted due to empty content.\n",
      "2024-11-21 17:17:12,122 - INFO - File [/var/folders/f8/85_209cx72l8mnt3km_8dx540000gn/T/tmpj0a963b9/Dataset_2-7K8W/data/Dataset/Subject/Subject_Diagnosis/Process/Diagnosis/Image/Observation/Clinical_Records/Clinical_Records_ICD10_Eye/Clinical_Records_ICD10_Eye.csv] transfer successful. 0.05 KB transferred. Elapsed time: 0:00:00.055953. File was automatically deleted due to empty content.\n",
      "2024-11-21 17:17:12,171 - INFO - File [/var/folders/f8/85_209cx72l8mnt3km_8dx540000gn/T/tmpj0a963b9/Dataset_2-7K8W/data/Dataset/Subject/Subject_Diagnosis/Process/Diagnosis/Image/Image_Annotation/Image_Annotation.csv] transfer successful. 0.10 KB transferred. Elapsed time: 0:00:00.047272. File was automatically deleted due to empty content.\n",
      "2024-11-21 17:17:12,224 - INFO - File [/var/folders/f8/85_209cx72l8mnt3km_8dx540000gn/T/tmpj0a963b9/Dataset_2-7K8W/data/Dataset/Subject/Subject_Diagnosis/Process/Diagnosis/Image/Image_Annotation/Fundus_Bounding_Box/Fundus_Bounding_Box.csv] transfer successful. 0.05 KB transferred. Elapsed time: 0:00:00.050910. File was automatically deleted due to empty content.\n",
      "2024-11-21 17:17:12,276 - INFO - File [/var/folders/f8/85_209cx72l8mnt3km_8dx540000gn/T/tmpj0a963b9/Dataset_2-7K8W/fetch-manifest_aac3a62c-ed28-463f-a3a0-fe8b72c580d7.json] transfer successful. 0.00 KB transferred. Elapsed time: 0:00:00.050627. File was automatically deleted due to empty content.\n",
      "2024-11-21 17:17:12,276 - INFO - Creating remote file manifest from results of query: /attribute/Dataset/RID=2-7K8W/eye-ai:Subject_Dataset/eye-ai:Subject/eye-ai:Subject_Diagnosis/eye-ai:Process/eye-ai:Diagnosis/eye-ai:Image/eye-ai:Image_Annotation/eye-ai:Fundus_Bounding_Box/!(URL::null::)/url:=URL,length:=Length,filename:=Filename,md5:=MD5?limit=none\n",
      "2024-11-21 17:17:12,321 - INFO - File [/var/folders/f8/85_209cx72l8mnt3km_8dx540000gn/T/tmpj0a963b9/Dataset_2-7K8W/data/Dataset/Subject/Subject_image_quality_factor_Subject.csv] transfer successful. 0.06 KB transferred. Elapsed time: 0:00:00.042997. File was automatically deleted due to empty content.\n",
      "2024-11-21 17:17:12,427 - INFO - File [/var/folders/f8/85_209cx72l8mnt3km_8dx540000gn/T/tmpj0a963b9/Dataset_2-7K8W/data/Dataset/Process_Dataset.csv] transfer successful. 0.04 KB transferred. Elapsed time: 0:00:00.105086. File was automatically deleted due to empty content.\n",
      "2024-11-21 17:17:12,470 - INFO - File [/var/folders/f8/85_209cx72l8mnt3km_8dx540000gn/T/tmpj0a963b9/Dataset_2-7K8W/data/Dataset/Process/Process.csv] transfer successful. 0.06 KB transferred. Elapsed time: 0:00:00.041393. File was automatically deleted due to empty content.\n",
      "2024-11-21 17:17:12,514 - INFO - File [/var/folders/f8/85_209cx72l8mnt3km_8dx540000gn/T/tmpj0a963b9/Dataset_2-7K8W/data/Dataset/Process/Subject_Diagnosis/Subject_Diagnosis.csv] transfer successful. 0.08 KB transferred. Elapsed time: 0:00:00.042422. File was automatically deleted due to empty content.\n",
      "2024-11-21 17:17:12,560 - INFO - File [/var/folders/f8/85_209cx72l8mnt3km_8dx540000gn/T/tmpj0a963b9/Dataset_2-7K8W/data/Dataset/Process/Subject_Diagnosis/Subject/Subject.csv] transfer successful. 0.06 KB transferred. Elapsed time: 0:00:00.044692. File was automatically deleted due to empty content.\n",
      "2024-11-21 17:17:12,687 - INFO - File [/var/folders/f8/85_209cx72l8mnt3km_8dx540000gn/T/tmpj0a963b9/Dataset_2-7K8W/data/Dataset/Process/Subject_Diagnosis/Subject/Observation/Observation.csv] transfer successful. 0.40 KB transferred. Elapsed time: 0:00:00.125084. File was automatically deleted due to empty content.\n",
      "2024-11-21 17:17:12,743 - INFO - File [/var/folders/f8/85_209cx72l8mnt3km_8dx540000gn/T/tmpj0a963b9/Dataset_2-7K8W/data/Dataset/Process/Subject_Diagnosis/Subject/Observation/Report/Report.csv] transfer successful. 0.08 KB transferred. Elapsed time: 0:00:00.054147. File was automatically deleted due to empty content.\n",
      "2024-11-21 17:17:12,792 - INFO - File [/var/folders/f8/85_209cx72l8mnt3km_8dx540000gn/T/tmpj0a963b9/Dataset_2-7K8W/fetch-manifest_cb9c37d2-4100-4baf-b13c-9f81984233a5.json] transfer successful. 0.00 KB transferred. Elapsed time: 0:00:00.048142. File was automatically deleted due to empty content.\n",
      "2024-11-21 17:17:12,793 - INFO - Creating remote file manifest from results of query: /attribute/Dataset/RID=2-7K8W/eye-ai:Process_Dataset/eye-ai:Process/eye-ai:Subject_Diagnosis/eye-ai:Subject/eye-ai:Observation/eye-ai:Report/!(URL::null::)/url:=URL,length:=Length,filename:=Filename,md5:=MD5?limit=none\n",
      "2024-11-21 17:17:12,845 - INFO - File [/var/folders/f8/85_209cx72l8mnt3km_8dx540000gn/T/tmpj0a963b9/Dataset_2-7K8W/data/Dataset/Process/Subject_Diagnosis/Subject/Observation/Report/OCR_RNFL/OCR_RNFL.csv] transfer successful. 0.39 KB transferred. Elapsed time: 0:00:00.051426. File was automatically deleted due to empty content.\n",
      "2024-11-21 17:17:12,951 - INFO - File [/var/folders/f8/85_209cx72l8mnt3km_8dx540000gn/T/tmpj0a963b9/Dataset_2-7K8W/data/Dataset/Process/Subject_Diagnosis/Subject/Observation/Report/OCR_HVF/OCR_HVF.csv] transfer successful. 0.26 KB transferred. Elapsed time: 0:00:00.104240. File was automatically deleted due to empty content.\n",
      "2024-11-21 17:17:13,011 - INFO - File [/var/folders/f8/85_209cx72l8mnt3km_8dx540000gn/T/tmpj0a963b9/Dataset_2-7K8W/data/Dataset/Process/Subject_Diagnosis/Subject/Observation/Observation_Diagnosis/Observation_Diagnosis.csv] transfer successful. 0.08 KB transferred. Elapsed time: 0:00:00.057662. File was automatically deleted due to empty content.\n",
      "2024-11-21 17:17:13,058 - INFO - File [/var/folders/f8/85_209cx72l8mnt3km_8dx540000gn/T/tmpj0a963b9/Dataset_2-7K8W/data/Dataset/Process/Subject_Diagnosis/Subject/Observation/Clinical_Records_Observation.csv] transfer successful. 0.05 KB transferred. Elapsed time: 0:00:00.045064. File was automatically deleted due to empty content.\n",
      "2024-11-21 17:17:13,125 - INFO - File [/var/folders/f8/85_209cx72l8mnt3km_8dx540000gn/T/tmpj0a963b9/Dataset_2-7K8W/data/Dataset/Process/Subject_Diagnosis/Subject/Observation/Clinical_Records/Clinical_Records.csv] transfer successful. 0.18 KB transferred. Elapsed time: 0:00:00.064852. File was automatically deleted due to empty content.\n",
      "2024-11-21 17:17:13,177 - INFO - File [/var/folders/f8/85_209cx72l8mnt3km_8dx540000gn/T/tmpj0a963b9/Dataset_2-7K8W/data/Dataset/Process/Subject_Diagnosis/Subject/Observation/Clinical_Records/Clinical_Records_ICD10_Eye/Clinical_Records_ICD10_Eye.csv] transfer successful. 0.05 KB transferred. Elapsed time: 0:00:00.049484. File was automatically deleted due to empty content.\n",
      "2024-11-21 17:17:13,240 - INFO - File [/var/folders/f8/85_209cx72l8mnt3km_8dx540000gn/T/tmpj0a963b9/Dataset_2-7K8W/data/Dataset/Process/Subject_Diagnosis/Subject/Observation/Image/Image.csv] transfer successful. 0.12 KB transferred. Elapsed time: 0:00:00.050570. File was automatically deleted due to empty content.\n",
      "2024-11-21 17:17:13,294 - INFO - File [/var/folders/f8/85_209cx72l8mnt3km_8dx540000gn/T/tmpj0a963b9/Dataset_2-7K8W/fetch-manifest_b9a72b93-d2f3-4da8-a52d-6cc4d219db5c.json] transfer successful. 0.00 KB transferred. Elapsed time: 0:00:00.049891. File was automatically deleted due to empty content.\n",
      "2024-11-21 17:17:13,295 - INFO - Creating remote file manifest from results of query: /attribute/Dataset/RID=2-7K8W/eye-ai:Process_Dataset/eye-ai:Process/eye-ai:Subject_Diagnosis/eye-ai:Subject/eye-ai:Observation/eye-ai:Image/!(URL::null::)/url:=URL,length:=Length,filename:=Filename,md5:=MD5?limit=none\n",
      "2024-11-21 17:17:13,342 - INFO - File [/var/folders/f8/85_209cx72l8mnt3km_8dx540000gn/T/tmpj0a963b9/Dataset_2-7K8W/data/Dataset/Process/Subject_Diagnosis/Subject/Observation/Image/Image_Annotation/Image_Annotation.csv] transfer successful. 0.10 KB transferred. Elapsed time: 0:00:00.046234. File was automatically deleted due to empty content.\n",
      "2024-11-21 17:17:13,476 - INFO - File [/var/folders/f8/85_209cx72l8mnt3km_8dx540000gn/T/tmpj0a963b9/Dataset_2-7K8W/data/Dataset/Process/Subject_Diagnosis/Subject/Observation/Image/Image_Annotation/Fundus_Bounding_Box/Fundus_Bounding_Box.csv] transfer successful. 0.05 KB transferred. Elapsed time: 0:00:00.132372. File was automatically deleted due to empty content.\n",
      "2024-11-21 17:17:13,525 - INFO - File [/var/folders/f8/85_209cx72l8mnt3km_8dx540000gn/T/tmpj0a963b9/Dataset_2-7K8W/fetch-manifest_7cbcae3b-aff1-4f28-9cd3-d37a08657255.json] transfer successful. 0.00 KB transferred. Elapsed time: 0:00:00.046819. File was automatically deleted due to empty content.\n",
      "2024-11-21 17:17:13,526 - INFO - Creating remote file manifest from results of query: /attribute/Dataset/RID=2-7K8W/eye-ai:Process_Dataset/eye-ai:Process/eye-ai:Subject_Diagnosis/eye-ai:Subject/eye-ai:Observation/eye-ai:Image/eye-ai:Image_Annotation/eye-ai:Fundus_Bounding_Box/!(URL::null::)/url:=URL,length:=Length,filename:=Filename,md5:=MD5?limit=none\n",
      "2024-11-21 17:17:13,573 - INFO - File [/var/folders/f8/85_209cx72l8mnt3km_8dx540000gn/T/tmpj0a963b9/Dataset_2-7K8W/data/Dataset/Process/Subject_Diagnosis/Subject/Observation/Image/Diagnosis/Diagnosis.csv] transfer successful. 0.14 KB transferred. Elapsed time: 0:00:00.045505. File was automatically deleted due to empty content.\n",
      "2024-11-21 17:17:13,623 - INFO - File [/var/folders/f8/85_209cx72l8mnt3km_8dx540000gn/T/tmpj0a963b9/Dataset_2-7K8W/data/Dataset/Process/Subject_Diagnosis/Subject/Subject_image_quality_factor_Subject.csv] transfer successful. 0.06 KB transferred. Elapsed time: 0:00:00.046001. File was automatically deleted due to empty content.\n",
      "2024-11-21 17:17:13,788 - INFO - File [/var/folders/f8/85_209cx72l8mnt3km_8dx540000gn/T/tmpj0a963b9/Dataset_2-7K8W/data/Dataset/Process/Image/Image.csv] transfer successful. 0.12 KB transferred. Elapsed time: 0:00:00.163213. File was automatically deleted due to empty content.\n",
      "2024-11-21 17:17:13,831 - INFO - File [/var/folders/f8/85_209cx72l8mnt3km_8dx540000gn/T/tmpj0a963b9/Dataset_2-7K8W/fetch-manifest_b7d8a1fc-3776-41e6-89e1-69a27e42b632.json] transfer successful. 0.00 KB transferred. Elapsed time: 0:00:00.042149. File was automatically deleted due to empty content.\n",
      "2024-11-21 17:17:13,832 - INFO - Creating remote file manifest from results of query: /attribute/Dataset/RID=2-7K8W/eye-ai:Process_Dataset/eye-ai:Process/eye-ai:Image/!(URL::null::)/url:=URL,length:=Length,filename:=Filename,md5:=MD5?limit=none\n",
      "2024-11-21 17:17:13,877 - INFO - File [/var/folders/f8/85_209cx72l8mnt3km_8dx540000gn/T/tmpj0a963b9/Dataset_2-7K8W/data/Dataset/Process/Image/Observation/Observation.csv] transfer successful. 0.40 KB transferred. Elapsed time: 0:00:00.043583. File was automatically deleted due to empty content.\n",
      "2024-11-21 17:17:14,004 - INFO - File [/var/folders/f8/85_209cx72l8mnt3km_8dx540000gn/T/tmpj0a963b9/Dataset_2-7K8W/data/Dataset/Process/Image/Observation/Subject/Subject.csv] transfer successful. 0.06 KB transferred. Elapsed time: 0:00:00.124566. File was automatically deleted due to empty content.\n",
      "2024-11-21 17:17:14,065 - INFO - File [/var/folders/f8/85_209cx72l8mnt3km_8dx540000gn/T/tmpj0a963b9/Dataset_2-7K8W/data/Dataset/Process/Image/Observation/Subject/Subject_image_quality_factor_Subject.csv] transfer successful. 0.06 KB transferred. Elapsed time: 0:00:00.059553. File was automatically deleted due to empty content.\n",
      "2024-11-21 17:17:14,142 - INFO - File [/var/folders/f8/85_209cx72l8mnt3km_8dx540000gn/T/tmpj0a963b9/Dataset_2-7K8W/data/Dataset/Process/Image/Observation/Subject/Subject_Diagnosis/Subject_Diagnosis.csv] transfer successful. 0.08 KB transferred. Elapsed time: 0:00:00.069399. File was automatically deleted due to empty content.\n",
      "2024-11-21 17:17:14,218 - INFO - File [/var/folders/f8/85_209cx72l8mnt3km_8dx540000gn/T/tmpj0a963b9/Dataset_2-7K8W/data/Dataset/Process/Image/Observation/Report/Report.csv] transfer successful. 0.08 KB transferred. Elapsed time: 0:00:00.048980. File was automatically deleted due to empty content.\n",
      "2024-11-21 17:17:14,267 - INFO - File [/var/folders/f8/85_209cx72l8mnt3km_8dx540000gn/T/tmpj0a963b9/Dataset_2-7K8W/fetch-manifest_6a7cb7a3-10a4-4e1f-8cd1-6d0a931d6ee0.json] transfer successful. 0.00 KB transferred. Elapsed time: 0:00:00.047374. File was automatically deleted due to empty content.\n",
      "2024-11-21 17:17:14,267 - INFO - Creating remote file manifest from results of query: /attribute/Dataset/RID=2-7K8W/eye-ai:Process_Dataset/eye-ai:Process/eye-ai:Image/eye-ai:Observation/eye-ai:Report/!(URL::null::)/url:=URL,length:=Length,filename:=Filename,md5:=MD5?limit=none\n",
      "2024-11-21 17:17:14,316 - INFO - File [/var/folders/f8/85_209cx72l8mnt3km_8dx540000gn/T/tmpj0a963b9/Dataset_2-7K8W/data/Dataset/Process/Image/Observation/Report/OCR_RNFL/OCR_RNFL.csv] transfer successful. 0.39 KB transferred. Elapsed time: 0:00:00.047758. File was automatically deleted due to empty content.\n",
      "2024-11-21 17:17:14,526 - INFO - File [/var/folders/f8/85_209cx72l8mnt3km_8dx540000gn/T/tmpj0a963b9/Dataset_2-7K8W/data/Dataset/Process/Image/Observation/Report/OCR_HVF/OCR_HVF.csv] transfer successful. 0.26 KB transferred. Elapsed time: 0:00:00.207845. File was automatically deleted due to empty content.\n",
      "2024-11-21 17:17:14,616 - INFO - File [/var/folders/f8/85_209cx72l8mnt3km_8dx540000gn/T/tmpj0a963b9/Dataset_2-7K8W/data/Dataset/Process/Image/Observation/Observation_Diagnosis/Observation_Diagnosis.csv] transfer successful. 0.08 KB transferred. Elapsed time: 0:00:00.085543. File was automatically deleted due to empty content.\n",
      "2024-11-21 17:17:14,701 - INFO - File [/var/folders/f8/85_209cx72l8mnt3km_8dx540000gn/T/tmpj0a963b9/Dataset_2-7K8W/data/Dataset/Process/Image/Observation/Clinical_Records_Observation.csv] transfer successful. 0.05 KB transferred. Elapsed time: 0:00:00.078712. File was automatically deleted due to empty content.\n",
      "2024-11-21 17:17:14,763 - INFO - File [/var/folders/f8/85_209cx72l8mnt3km_8dx540000gn/T/tmpj0a963b9/Dataset_2-7K8W/data/Dataset/Process/Image/Observation/Clinical_Records/Clinical_Records.csv] transfer successful. 0.18 KB transferred. Elapsed time: 0:00:00.060640. File was automatically deleted due to empty content.\n",
      "2024-11-21 17:17:14,822 - INFO - File [/var/folders/f8/85_209cx72l8mnt3km_8dx540000gn/T/tmpj0a963b9/Dataset_2-7K8W/data/Dataset/Process/Image/Observation/Clinical_Records/Clinical_Records_ICD10_Eye/Clinical_Records_ICD10_Eye.csv] transfer successful. 0.05 KB transferred. Elapsed time: 0:00:00.057509. File was automatically deleted due to empty content.\n",
      "2024-11-21 17:17:14,871 - INFO - File [/var/folders/f8/85_209cx72l8mnt3km_8dx540000gn/T/tmpj0a963b9/Dataset_2-7K8W/data/Dataset/Process/Image/Image_Annotation/Image_Annotation.csv] transfer successful. 0.10 KB transferred. Elapsed time: 0:00:00.046460. File was automatically deleted due to empty content.\n",
      "2024-11-21 17:17:14,918 - INFO - File [/var/folders/f8/85_209cx72l8mnt3km_8dx540000gn/T/tmpj0a963b9/Dataset_2-7K8W/data/Dataset/Process/Image/Image_Annotation/Fundus_Bounding_Box/Fundus_Bounding_Box.csv] transfer successful. 0.05 KB transferred. Elapsed time: 0:00:00.044743. File was automatically deleted due to empty content.\n",
      "2024-11-21 17:17:15,050 - INFO - File [/var/folders/f8/85_209cx72l8mnt3km_8dx540000gn/T/tmpj0a963b9/Dataset_2-7K8W/fetch-manifest_7746abb6-db79-40f8-825e-1f5535e1c011.json] transfer successful. 0.00 KB transferred. Elapsed time: 0:00:00.130650. File was automatically deleted due to empty content.\n",
      "2024-11-21 17:17:15,052 - INFO - Creating remote file manifest from results of query: /attribute/Dataset/RID=2-7K8W/eye-ai:Process_Dataset/eye-ai:Process/eye-ai:Image/eye-ai:Image_Annotation/eye-ai:Fundus_Bounding_Box/!(URL::null::)/url:=URL,length:=Length,filename:=Filename,md5:=MD5?limit=none\n",
      "2024-11-21 17:17:15,135 - INFO - File [/var/folders/f8/85_209cx72l8mnt3km_8dx540000gn/T/tmpj0a963b9/Dataset_2-7K8W/data/Dataset/Process/Image/Diagnosis/Diagnosis.csv] transfer successful. 0.14 KB transferred. Elapsed time: 0:00:00.080682. File was automatically deleted due to empty content.\n",
      "2024-11-21 17:17:15,178 - INFO - File [/var/folders/f8/85_209cx72l8mnt3km_8dx540000gn/T/tmpj0a963b9/Dataset_2-7K8W/data/Dataset/Process/Observation_Diagnosis/Observation_Diagnosis.csv] transfer successful. 0.08 KB transferred. Elapsed time: 0:00:00.041517. File was automatically deleted due to empty content.\n",
      "2024-11-21 17:17:15,223 - INFO - File [/var/folders/f8/85_209cx72l8mnt3km_8dx540000gn/T/tmpj0a963b9/Dataset_2-7K8W/data/Dataset/Process/Observation_Diagnosis/Observation/Observation.csv] transfer successful. 0.40 KB transferred. Elapsed time: 0:00:00.043293. File was automatically deleted due to empty content.\n",
      "2024-11-21 17:17:15,269 - INFO - File [/var/folders/f8/85_209cx72l8mnt3km_8dx540000gn/T/tmpj0a963b9/Dataset_2-7K8W/data/Dataset/Process/Observation_Diagnosis/Observation/Subject/Subject.csv] transfer successful. 0.06 KB transferred. Elapsed time: 0:00:00.044382. File was automatically deleted due to empty content.\n",
      "2024-11-21 17:17:15,315 - INFO - File [/var/folders/f8/85_209cx72l8mnt3km_8dx540000gn/T/tmpj0a963b9/Dataset_2-7K8W/data/Dataset/Process/Observation_Diagnosis/Observation/Subject/Subject_image_quality_factor_Subject.csv] transfer successful. 0.06 KB transferred. Elapsed time: 0:00:00.045060. File was automatically deleted due to empty content.\n",
      "2024-11-21 17:17:15,362 - INFO - File [/var/folders/f8/85_209cx72l8mnt3km_8dx540000gn/T/tmpj0a963b9/Dataset_2-7K8W/data/Dataset/Process/Observation_Diagnosis/Observation/Subject/Subject_Diagnosis/Subject_Diagnosis.csv] transfer successful. 0.08 KB transferred. Elapsed time: 0:00:00.044803. File was automatically deleted due to empty content.\n",
      "2024-11-21 17:17:15,407 - INFO - File [/var/folders/f8/85_209cx72l8mnt3km_8dx540000gn/T/tmpj0a963b9/Dataset_2-7K8W/data/Dataset/Process/Observation_Diagnosis/Observation/Report/Report.csv] transfer successful. 0.08 KB transferred. Elapsed time: 0:00:00.043564. File was automatically deleted due to empty content.\n",
      "2024-11-21 17:17:15,458 - INFO - File [/var/folders/f8/85_209cx72l8mnt3km_8dx540000gn/T/tmpj0a963b9/Dataset_2-7K8W/fetch-manifest_a34a243a-7439-4c3d-be1f-d9ebf2b2f95a.json] transfer successful. 0.00 KB transferred. Elapsed time: 0:00:00.048889. File was automatically deleted due to empty content.\n",
      "2024-11-21 17:17:15,458 - INFO - Creating remote file manifest from results of query: /attribute/Dataset/RID=2-7K8W/eye-ai:Process_Dataset/eye-ai:Process/eye-ai:Observation_Diagnosis/eye-ai:Observation/eye-ai:Report/!(URL::null::)/url:=URL,length:=Length,filename:=Filename,md5:=MD5?limit=none\n",
      "2024-11-21 17:17:15,573 - INFO - File [/var/folders/f8/85_209cx72l8mnt3km_8dx540000gn/T/tmpj0a963b9/Dataset_2-7K8W/data/Dataset/Process/Observation_Diagnosis/Observation/Report/OCR_RNFL/OCR_RNFL.csv] transfer successful. 0.39 KB transferred. Elapsed time: 0:00:00.112505. File was automatically deleted due to empty content.\n",
      "2024-11-21 17:17:15,621 - INFO - File [/var/folders/f8/85_209cx72l8mnt3km_8dx540000gn/T/tmpj0a963b9/Dataset_2-7K8W/data/Dataset/Process/Observation_Diagnosis/Observation/Report/OCR_HVF/OCR_HVF.csv] transfer successful. 0.26 KB transferred. Elapsed time: 0:00:00.046278. File was automatically deleted due to empty content.\n",
      "2024-11-21 17:17:15,667 - INFO - File [/var/folders/f8/85_209cx72l8mnt3km_8dx540000gn/T/tmpj0a963b9/Dataset_2-7K8W/data/Dataset/Process/Observation_Diagnosis/Observation/Clinical_Records_Observation.csv] transfer successful. 0.05 KB transferred. Elapsed time: 0:00:00.044873. File was automatically deleted due to empty content.\n",
      "2024-11-21 17:17:15,715 - INFO - File [/var/folders/f8/85_209cx72l8mnt3km_8dx540000gn/T/tmpj0a963b9/Dataset_2-7K8W/data/Dataset/Process/Observation_Diagnosis/Observation/Clinical_Records/Clinical_Records.csv] transfer successful. 0.18 KB transferred. Elapsed time: 0:00:00.046613. File was automatically deleted due to empty content.\n",
      "2024-11-21 17:17:15,774 - INFO - File [/var/folders/f8/85_209cx72l8mnt3km_8dx540000gn/T/tmpj0a963b9/Dataset_2-7K8W/data/Dataset/Process/Observation_Diagnosis/Observation/Clinical_Records/Clinical_Records_ICD10_Eye/Clinical_Records_ICD10_Eye.csv] transfer successful. 0.05 KB transferred. Elapsed time: 0:00:00.057548. File was automatically deleted due to empty content.\n",
      "2024-11-21 17:17:15,828 - INFO - File [/var/folders/f8/85_209cx72l8mnt3km_8dx540000gn/T/tmpj0a963b9/Dataset_2-7K8W/data/Dataset/Process/Observation_Diagnosis/Observation/Image/Image.csv] transfer successful. 0.12 KB transferred. Elapsed time: 0:00:00.051726. File was automatically deleted due to empty content.\n",
      "2024-11-21 17:17:15,877 - INFO - File [/var/folders/f8/85_209cx72l8mnt3km_8dx540000gn/T/tmpj0a963b9/Dataset_2-7K8W/fetch-manifest_38167d31-599d-45e1-83a6-54544a06a292.json] transfer successful. 0.00 KB transferred. Elapsed time: 0:00:00.047959. File was automatically deleted due to empty content.\n",
      "2024-11-21 17:17:15,878 - INFO - Creating remote file manifest from results of query: /attribute/Dataset/RID=2-7K8W/eye-ai:Process_Dataset/eye-ai:Process/eye-ai:Observation_Diagnosis/eye-ai:Observation/eye-ai:Image/!(URL::null::)/url:=URL,length:=Length,filename:=Filename,md5:=MD5?limit=none\n",
      "2024-11-21 17:17:15,934 - INFO - File [/var/folders/f8/85_209cx72l8mnt3km_8dx540000gn/T/tmpj0a963b9/Dataset_2-7K8W/data/Dataset/Process/Observation_Diagnosis/Observation/Image/Image_Annotation/Image_Annotation.csv] transfer successful. 0.10 KB transferred. Elapsed time: 0:00:00.054531. File was automatically deleted due to empty content.\n",
      "2024-11-21 17:17:16,000 - INFO - File [/var/folders/f8/85_209cx72l8mnt3km_8dx540000gn/T/tmpj0a963b9/Dataset_2-7K8W/data/Dataset/Process/Observation_Diagnosis/Observation/Image/Image_Annotation/Fundus_Bounding_Box/Fundus_Bounding_Box.csv] transfer successful. 0.05 KB transferred. Elapsed time: 0:00:00.064698. File was automatically deleted due to empty content.\n",
      "2024-11-21 17:17:16,098 - INFO - File [/var/folders/f8/85_209cx72l8mnt3km_8dx540000gn/T/tmpj0a963b9/Dataset_2-7K8W/fetch-manifest_5765ba81-7888-451b-b766-ed44f5633887.json] transfer successful. 0.00 KB transferred. Elapsed time: 0:00:00.096450. File was automatically deleted due to empty content.\n",
      "2024-11-21 17:17:16,099 - INFO - Creating remote file manifest from results of query: /attribute/Dataset/RID=2-7K8W/eye-ai:Process_Dataset/eye-ai:Process/eye-ai:Observation_Diagnosis/eye-ai:Observation/eye-ai:Image/eye-ai:Image_Annotation/eye-ai:Fundus_Bounding_Box/!(URL::null::)/url:=URL,length:=Length,filename:=Filename,md5:=MD5?limit=none\n",
      "2024-11-21 17:17:16,151 - INFO - File [/var/folders/f8/85_209cx72l8mnt3km_8dx540000gn/T/tmpj0a963b9/Dataset_2-7K8W/data/Dataset/Process/Observation_Diagnosis/Observation/Image/Diagnosis/Diagnosis.csv] transfer successful. 0.14 KB transferred. Elapsed time: 0:00:00.050256. File was automatically deleted due to empty content.\n",
      "2024-11-21 17:17:16,263 - INFO - File [/var/folders/f8/85_209cx72l8mnt3km_8dx540000gn/T/tmpj0a963b9/Dataset_2-7K8W/data/Dataset/Process/Diagnosis/Diagnosis.csv] transfer successful. 0.14 KB transferred. Elapsed time: 0:00:00.110799. File was automatically deleted due to empty content.\n",
      "2024-11-21 17:17:16,412 - INFO - File [/var/folders/f8/85_209cx72l8mnt3km_8dx540000gn/T/tmpj0a963b9/Dataset_2-7K8W/data/Dataset/Process/Diagnosis/Image/Image.csv] transfer successful. 0.12 KB transferred. Elapsed time: 0:00:00.146494. File was automatically deleted due to empty content.\n",
      "2024-11-21 17:17:16,623 - INFO - File [/var/folders/f8/85_209cx72l8mnt3km_8dx540000gn/T/tmpj0a963b9/Dataset_2-7K8W/fetch-manifest_7ece2912-30b0-4f86-a852-3d77785ae05d.json] transfer successful. 0.00 KB transferred. Elapsed time: 0:00:00.209744. File was automatically deleted due to empty content.\n",
      "2024-11-21 17:17:16,625 - INFO - Creating remote file manifest from results of query: /attribute/Dataset/RID=2-7K8W/eye-ai:Process_Dataset/eye-ai:Process/eye-ai:Diagnosis/eye-ai:Image/!(URL::null::)/url:=URL,length:=Length,filename:=Filename,md5:=MD5?limit=none\n",
      "2024-11-21 17:17:16,674 - INFO - File [/var/folders/f8/85_209cx72l8mnt3km_8dx540000gn/T/tmpj0a963b9/Dataset_2-7K8W/data/Dataset/Process/Diagnosis/Image/Observation/Observation.csv] transfer successful. 0.40 KB transferred. Elapsed time: 0:00:00.046820. File was automatically deleted due to empty content.\n",
      "2024-11-21 17:17:16,721 - INFO - File [/var/folders/f8/85_209cx72l8mnt3km_8dx540000gn/T/tmpj0a963b9/Dataset_2-7K8W/data/Dataset/Process/Diagnosis/Image/Observation/Subject/Subject.csv] transfer successful. 0.06 KB transferred. Elapsed time: 0:00:00.045254. File was automatically deleted due to empty content.\n",
      "2024-11-21 17:17:16,769 - INFO - File [/var/folders/f8/85_209cx72l8mnt3km_8dx540000gn/T/tmpj0a963b9/Dataset_2-7K8W/data/Dataset/Process/Diagnosis/Image/Observation/Subject/Subject_image_quality_factor_Subject.csv] transfer successful. 0.06 KB transferred. Elapsed time: 0:00:00.045694. File was automatically deleted due to empty content.\n",
      "2024-11-21 17:17:16,817 - INFO - File [/var/folders/f8/85_209cx72l8mnt3km_8dx540000gn/T/tmpj0a963b9/Dataset_2-7K8W/data/Dataset/Process/Diagnosis/Image/Observation/Subject/Subject_Diagnosis/Subject_Diagnosis.csv] transfer successful. 0.08 KB transferred. Elapsed time: 0:00:00.045774. File was automatically deleted due to empty content.\n",
      "2024-11-21 17:17:16,864 - INFO - File [/var/folders/f8/85_209cx72l8mnt3km_8dx540000gn/T/tmpj0a963b9/Dataset_2-7K8W/data/Dataset/Process/Diagnosis/Image/Observation/Report/Report.csv] transfer successful. 0.08 KB transferred. Elapsed time: 0:00:00.045433. File was automatically deleted due to empty content.\n",
      "2024-11-21 17:17:16,910 - INFO - File [/var/folders/f8/85_209cx72l8mnt3km_8dx540000gn/T/tmpj0a963b9/Dataset_2-7K8W/fetch-manifest_7607a018-3a40-4194-a3bd-94b87fc16a9b.json] transfer successful. 0.00 KB transferred. Elapsed time: 0:00:00.045107. File was automatically deleted due to empty content.\n",
      "2024-11-21 17:17:16,911 - INFO - Creating remote file manifest from results of query: /attribute/Dataset/RID=2-7K8W/eye-ai:Process_Dataset/eye-ai:Process/eye-ai:Diagnosis/eye-ai:Image/eye-ai:Observation/eye-ai:Report/!(URL::null::)/url:=URL,length:=Length,filename:=Filename,md5:=MD5?limit=none\n",
      "2024-11-21 17:17:16,959 - INFO - File [/var/folders/f8/85_209cx72l8mnt3km_8dx540000gn/T/tmpj0a963b9/Dataset_2-7K8W/data/Dataset/Process/Diagnosis/Image/Observation/Report/OCR_RNFL/OCR_RNFL.csv] transfer successful. 0.39 KB transferred. Elapsed time: 0:00:00.047354. File was automatically deleted due to empty content.\n",
      "2024-11-21 17:17:17,148 - INFO - File [/var/folders/f8/85_209cx72l8mnt3km_8dx540000gn/T/tmpj0a963b9/Dataset_2-7K8W/data/Dataset/Process/Diagnosis/Image/Observation/Report/OCR_HVF/OCR_HVF.csv] transfer successful. 0.26 KB transferred. Elapsed time: 0:00:00.187124. File was automatically deleted due to empty content.\n",
      "2024-11-21 17:17:17,199 - INFO - File [/var/folders/f8/85_209cx72l8mnt3km_8dx540000gn/T/tmpj0a963b9/Dataset_2-7K8W/data/Dataset/Process/Diagnosis/Image/Observation/Observation_Diagnosis/Observation_Diagnosis.csv] transfer successful. 0.08 KB transferred. Elapsed time: 0:00:00.047814. File was automatically deleted due to empty content.\n",
      "2024-11-21 17:17:17,250 - INFO - File [/var/folders/f8/85_209cx72l8mnt3km_8dx540000gn/T/tmpj0a963b9/Dataset_2-7K8W/data/Dataset/Process/Diagnosis/Image/Observation/Clinical_Records_Observation.csv] transfer successful. 0.05 KB transferred. Elapsed time: 0:00:00.048908. File was automatically deleted due to empty content.\n",
      "2024-11-21 17:17:17,302 - INFO - File [/var/folders/f8/85_209cx72l8mnt3km_8dx540000gn/T/tmpj0a963b9/Dataset_2-7K8W/data/Dataset/Process/Diagnosis/Image/Observation/Clinical_Records/Clinical_Records.csv] transfer successful. 0.18 KB transferred. Elapsed time: 0:00:00.050054. File was automatically deleted due to empty content.\n",
      "2024-11-21 17:17:17,354 - INFO - File [/var/folders/f8/85_209cx72l8mnt3km_8dx540000gn/T/tmpj0a963b9/Dataset_2-7K8W/data/Dataset/Process/Diagnosis/Image/Observation/Clinical_Records/Clinical_Records_ICD10_Eye/Clinical_Records_ICD10_Eye.csv] transfer successful. 0.05 KB transferred. Elapsed time: 0:00:00.049710. File was automatically deleted due to empty content.\n",
      "2024-11-21 17:17:17,400 - INFO - File [/var/folders/f8/85_209cx72l8mnt3km_8dx540000gn/T/tmpj0a963b9/Dataset_2-7K8W/data/Dataset/Process/Diagnosis/Image/Image_Annotation/Image_Annotation.csv] transfer successful. 0.10 KB transferred. Elapsed time: 0:00:00.044788. File was automatically deleted due to empty content.\n",
      "2024-11-21 17:17:17,450 - INFO - File [/var/folders/f8/85_209cx72l8mnt3km_8dx540000gn/T/tmpj0a963b9/Dataset_2-7K8W/data/Dataset/Process/Diagnosis/Image/Image_Annotation/Fundus_Bounding_Box/Fundus_Bounding_Box.csv] transfer successful. 0.05 KB transferred. Elapsed time: 0:00:00.048607. File was automatically deleted due to empty content.\n",
      "2024-11-21 17:17:17,498 - INFO - File [/var/folders/f8/85_209cx72l8mnt3km_8dx540000gn/T/tmpj0a963b9/Dataset_2-7K8W/fetch-manifest_3fdeb6a0-7f52-4a77-b177-dc0cfb4a80ba.json] transfer successful. 0.00 KB transferred. Elapsed time: 0:00:00.046799. File was automatically deleted due to empty content.\n",
      "2024-11-21 17:17:17,499 - INFO - Creating remote file manifest from results of query: /attribute/Dataset/RID=2-7K8W/eye-ai:Process_Dataset/eye-ai:Process/eye-ai:Diagnosis/eye-ai:Image/eye-ai:Image_Annotation/eye-ai:Fundus_Bounding_Box/!(URL::null::)/url:=URL,length:=Length,filename:=Filename,md5:=MD5?limit=none\n",
      "2024-11-21 17:17:17,502 - INFO - Updating bag: /var/folders/f8/85_209cx72l8mnt3km_8dx540000gn/T/tmpj0a963b9/Dataset_2-7K8W\n",
      "2024-11-21 17:17:17,502 - INFO - Generating remote file references from /var/folders/f8/85_209cx72l8mnt3km_8dx540000gn/T/tmpj0a963b9/remote-file-manifest_7093dd6c-bbf8-4cfa-8724-a1a0ecebd336.json\n",
      "2024-11-21 17:17:17,505 - INFO - Checking payload consistency. This can take some time for large bags with many payload files...\n",
      "2024-11-21 17:17:17,539 - INFO - Using 1 processes to generate manifests: md5\n",
      "2024-11-21 17:17:17,539 - INFO - Generating manifest lines for file data/schema.json\n",
      "2024-11-21 17:17:17,542 - INFO - Generating manifest lines for file data/Annotation_Function/Annotation_Function.csv\n",
      "2024-11-21 17:17:17,542 - INFO - Generating manifest lines for file data/Annotation_Type/Annotation_Type.csv\n",
      "2024-11-21 17:17:17,543 - INFO - Generating manifest lines for file data/Condition_Label/Condition_Label.csv\n",
      "2024-11-21 17:17:17,544 - INFO - Generating manifest lines for file data/Dataset/Subject_Dataset.csv\n",
      "2024-11-21 17:17:17,547 - INFO - Generating manifest lines for file data/Dataset/Subject/Subject.csv\n",
      "2024-11-21 17:17:17,548 - INFO - Generating manifest lines for file data/Dataset/Subject/Observation/Observation.csv\n",
      "2024-11-21 17:17:17,549 - INFO - Generating manifest lines for file data/Dataset/Subject/Observation/Image/Image.csv\n",
      "2024-11-21 17:17:17,549 - INFO - Generating manifest lines for file data/Dataset/Subject/Observation/Image/Diagnosis/Diagnosis.csv\n",
      "2024-11-21 17:17:17,550 - INFO - Generating manifest lines for file data/Dataset/Subject/Observation/Image/Diagnosis/Process/Process.csv\n",
      "2024-11-21 17:17:17,551 - INFO - Generating manifest lines for file data/Dataset/Subject/Observation/Image/Image_Annotation/Image_Annotation.csv\n",
      "2024-11-21 17:17:17,552 - INFO - Generating manifest lines for file data/Dataset/Subject/Observation/Image/Image_Annotation/Fundus_Bounding_Box/Fundus_Bounding_Box.csv\n",
      "2024-11-21 17:17:17,553 - INFO - Generating manifest lines for file data/Dataset/Subject/Observation/Observation_Diagnosis/Observation_Diagnosis.csv\n",
      "2024-11-21 17:17:17,554 - INFO - Generating manifest lines for file data/Dataset/Subject/Subject_Diagnosis/Subject_Diagnosis.csv\n",
      "2024-11-21 17:17:17,555 - INFO - Generating manifest lines for file data/Dataset_Type/Dataset_Type.csv\n",
      "2024-11-21 17:17:17,556 - INFO - Generating manifest lines for file data/Diagnosis_Image/Diagnosis_Image.csv\n",
      "2024-11-21 17:17:17,557 - INFO - Generating manifest lines for file data/Diagnosis_Observation/Diagnosis_Observation.csv\n",
      "2024-11-21 17:17:17,558 - INFO - Generating manifest lines for file data/Diagnosis_Status/Diagnosis_Status.csv\n",
      "2024-11-21 17:17:17,558 - INFO - Generating manifest lines for file data/Diagnosis_Subject/Diagnosis_Subject.csv\n",
      "2024-11-21 17:17:17,559 - INFO - Generating manifest lines for file data/Diagnosis_Tag/Diagnosis_Tag.csv\n",
      "2024-11-21 17:17:17,560 - INFO - Generating manifest lines for file data/Execution_Asset_Type/Execution_Asset_Type.csv\n",
      "2024-11-21 17:17:17,560 - INFO - Generating manifest lines for file data/Execution_Metadata_Type/Execution_Metadata_Type.csv\n",
      "2024-11-21 17:17:17,561 - INFO - Generating manifest lines for file data/Feature_Name/Feature_Name.csv\n",
      "2024-11-21 17:17:17,562 - INFO - Generating manifest lines for file data/ICD10_Eye/ICD10_Eye.csv\n",
      "2024-11-21 17:17:17,563 - INFO - Generating manifest lines for file data/Image_Angle/Image_Angle.csv\n",
      "2024-11-21 17:17:17,564 - INFO - Generating manifest lines for file data/Image_Output/Image_Output.csv\n",
      "2024-11-21 17:17:17,564 - INFO - Generating manifest lines for file data/Image_Quality/Image_Quality.csv\n",
      "2024-11-21 17:17:17,565 - INFO - Generating manifest lines for file data/Image_Side/Image_Side.csv\n",
      "2024-11-21 17:17:17,565 - INFO - Generating manifest lines for file data/Image_Tag/Image_Tag.csv\n",
      "2024-11-21 17:17:17,566 - INFO - Generating manifest lines for file data/Process_Tag/Process_Tag.csv\n",
      "2024-11-21 17:17:17,567 - INFO - Generating manifest lines for file data/Report_Type/Report_Type.csv\n",
      "2024-11-21 17:17:17,567 - INFO - Generating manifest lines for file data/Subject_Ethnicity/Subject_Ethnicity.csv\n",
      "2024-11-21 17:17:17,568 - INFO - Generating manifest lines for file data/Subject_Gender/Subject_Gender.csv\n",
      "2024-11-21 17:17:17,568 - INFO - Generating manifest lines for file data/Subject_cataract/Subject_cataract.csv\n",
      "2024-11-21 17:17:17,569 - INFO - Generating manifest lines for file data/Subject_hypertension/Subject_hypertension.csv\n",
      "2024-11-21 17:17:17,570 - INFO - Generating manifest lines for file data/Subject_image_quality/Subject_image_quality.csv\n",
      "2024-11-21 17:17:17,571 - INFO - Generating manifest lines for file data/Subject_image_quality_factor/Subject_image_quality_factor.csv\n",
      "2024-11-21 17:17:17,571 - INFO - Generating manifest lines for file data/Subject_insulin_dependent/Subject_insulin_dependent.csv\n",
      "2024-11-21 17:17:17,572 - INFO - Generating manifest lines for file data/Subject_maculopathy/Subject_maculopathy.csv\n",
      "2024-11-21 17:17:17,573 - INFO - Generating manifest lines for file data/Subject_other/Subject_other.csv\n",
      "2024-11-21 17:17:17,574 - INFO - Generating manifest lines for file data/Subject_pregnant/Subject_pregnant.csv\n",
      "2024-11-21 17:17:17,574 - INFO - Generating manifest lines for file data/Workflow_Type/Workflow_Type.csv\n",
      "2024-11-21 17:17:17,575 - INFO - Generating manifest lines for remote files\n",
      "2024-11-21 17:17:17,576 - INFO - Writing fetch.txt\n",
      "2024-11-21 17:17:17,577 - INFO - Updating Payload-Oxum in bag-info.txt\n",
      "2024-11-21 17:17:17,578 - INFO - Creating /var/folders/f8/85_209cx72l8mnt3km_8dx540000gn/T/tmpj0a963b9/Dataset_2-7K8W/tagmanifest-md5.txt\n",
      "2024-11-21 17:17:17,596 - INFO - Created bag: /var/folders/f8/85_209cx72l8mnt3km_8dx540000gn/T/tmpj0a963b9/Dataset_2-7K8W\n",
      "2024-11-21 17:17:17,597 - INFO - Validating bag structure: /var/folders/f8/85_209cx72l8mnt3km_8dx540000gn/T/tmpj0a963b9/Dataset_2-7K8W\n",
      "2024-11-21 17:17:17,615 - INFO - Checking payload consistency. This can take some time for large bags with many payload files...\n",
      "2024-11-21 17:17:17,634 - INFO - The directory /var/folders/f8/85_209cx72l8mnt3km_8dx540000gn/T/tmpj0a963b9/Dataset_2-7K8W is a valid bag structure\n",
      "2024-11-21 17:17:17,635 - INFO - Archiving bag (zip): /var/folders/f8/85_209cx72l8mnt3km_8dx540000gn/T/tmpj0a963b9/Dataset_2-7K8W\n",
      "2024-11-21 17:17:17,668 - INFO - Created bag archive: /var/folders/f8/85_209cx72l8mnt3km_8dx540000gn/T/tmpj0a963b9/Dataset_2-7K8W.zip\n",
      "2024-11-21 17:17:17,669 - INFO - Cleaning up bag dir: /var/folders/f8/85_209cx72l8mnt3km_8dx540000gn/T/tmpj0a963b9/Dataset_2-7K8W\n",
      "2024-11-21 17:17:26,783 - INFO - File [/Users/zhiweili/Desktop/test_cache/zhiweili/EyeAI_working/5-R6F6/models/optic_disk_crop_model.hdf5] transfer successful. 76.75 MB transferred at 10.07 MB/second. Elapsed time: 0:00:07.623974.\n"
     ]
    }
   ],
   "source": [
    "# Add Workflow Vocab terms\n",
    "EA.add_term(vc.workflow_type, \"Test Workflow\", description=\"A test Workflow for new DM\")\n",
    "# Workflow instance\n",
    "test_workflow = Workflow(\n",
    "    name=\"Test New Workflow\",\n",
    "    url=\"https://github.com/informatics-isi-edu/eye-ai-exec/blob/main/notebooks/schema_changes/template_lac.ipynb\",\n",
    "    workflow_type=\"Test Workflow\"\n",
    ")\n",
    "# Configuration instance\n",
    "config = ExecutionConfiguration(\n",
    "    bdbags=['2-7K8W'], #minid:1JiKxaIcjAIaO\n",
    "    models = ['2-4JR6'],\n",
    "    execution=Execution(description=\"Sample Test Execution\"),\n",
    "    workflow=test_workflow,\n",
    "    description=\"Our Test Workflow instance\")\n",
    "# Initialize execution\n",
    "configuration_record = EA.initialize_execution(config)\n",
    "execution_rid = configuration_record.execution_rid\n"
   ],
   "metadata": {
    "collapsed": false,
    "ExecuteTime": {
     "end_time": "2024-11-22T01:17:28.274445Z",
     "start_time": "2024-11-22T01:16:56.066342Z"
    }
   },
   "id": "7438a3b956e576e5",
   "execution_count": 16
  },
  {
   "cell_type": "code",
   "outputs": [
    {
     "name": "stdout",
     "output_type": "stream",
     "text": [
      "caching_dir: /Users/zhiweili/Desktop/test_cache\n",
      "working_dir: /Users/zhiweili/Desktop/test_cache/zhiweili/EyeAI_working\n",
      "execution_rid: 5-R6F6\n",
      "workflow_rid: 5-R6B4\n",
      "bag_paths: [PosixPath('/Users/zhiweili/Desktop/test_cache/2-7K8W_d1ead67f8439d2eca28191477fdb771f579043af01ea5817ed2763c9b7b9a2d2/Dataset_2-7K8W')]\n",
      "asset_paths: [PosixPath('/Users/zhiweili/Desktop/test_cache/zhiweili/EyeAI_working/5-R6F6/models/optic_disk_crop_model.hdf5')]\n",
      "configuration: bdbags=['2-7K8W'] models=['2-4JR6'] workflow=Workflow(name='Test New Workflow', url='https://github.com/informatics-isi-edu/eye-ai-exec/blob/main/notebooks/schema_changes/test_eye-ai_changes.ipynb', workflow_type='Test Workflow', version=None, description=None) execution=Execution(description='Sample Test Execution') description='Our Test Workflow instance'\n"
     ]
    },
    {
     "data": {
      "text/plain": "PosixPath('/Users/zhiweili/Desktop/test_cache/2-7K8W_d1ead67f8439d2eca28191477fdb771f579043af01ea5817ed2763c9b7b9a2d2/Dataset_2-7K8W')"
     },
     "execution_count": 17,
     "metadata": {},
     "output_type": "execute_result"
    }
   ],
   "source": [
    "print(configuration_record)\n",
    "configuration_record.bag_paths[0]"
   ],
   "metadata": {
    "collapsed": false,
    "ExecuteTime": {
     "end_time": "2024-11-22T01:17:45.258029Z",
     "start_time": "2024-11-22T01:17:45.185103Z"
    }
   },
   "id": "3d0c540fb8d7f576",
   "execution_count": 17
  },
  {
   "cell_type": "code",
   "outputs": [],
   "source": [
    "ds_bag = DatasetBag(configuration_record.bag_paths[0])"
   ],
   "metadata": {
    "collapsed": false,
    "ExecuteTime": {
     "end_time": "2024-11-22T00:53:25.003902Z",
     "start_time": "2024-11-22T00:53:24.713484Z"
    }
   },
   "id": "54a6c1add2df83d5",
   "execution_count": 7
  },
  {
   "cell_type": "markdown",
   "source": [
    "# Test extract image and reshape method"
   ],
   "metadata": {
    "collapsed": false
   },
   "id": "3f3e774ccf3ee9d1"
  },
  {
   "cell_type": "code",
   "outputs": [],
   "source": [
    "init_diag = EA.image_tall(ds_bag, 'Initial Diagnosis')\n",
    "grader_diag = EA.image_tall(ds_bag, 'AI_glaucomasuspect_test')\n",
    "long, wide = EA.reshape_table([init_diag, grader_diag], 'Diagnosis_Image')"
   ],
   "metadata": {
    "collapsed": false,
    "ExecuteTime": {
     "end_time": "2024-11-21T23:56:17.188158Z",
     "start_time": "2024-11-21T23:56:16.592029Z"
    }
   },
   "id": "dc1af315aa9076ba",
   "execution_count": 26
  },
  {
   "cell_type": "markdown",
   "source": [
    "# Test extract diagnosis and gold standard calculation"
   ],
   "metadata": {
    "collapsed": false
   },
   "id": "68854356e1436423"
  },
  {
   "cell_type": "code",
   "outputs": [],
   "source": [
    "def CDR_func(values):\n",
    "    return values.mean()\n",
    "\n",
    "def Diag_func(values):\n",
    "    # Use the mode function to get the most frequent diagnosis value\n",
    "    mode_diagnosis = values.mode()\n",
    "\n",
    "    # If there are multiple modes, take the first one\n",
    "    if not mode_diagnosis.empty:\n",
    "        return mode_diagnosis.iloc[0]\n",
    "    else:\n",
    "        # Handle the case where there is no mode (e.g., all values are unique)\n",
    "        return 'Unknown'\n",
    "\n",
    "def ImageQuality_func(values):\n",
    "    mode_quality = values.mode()\n",
    "    if not mode_quality.empty:\n",
    "        return mode_quality.iloc[0]\n",
    "    else:\n",
    "        return \"Unknown\"\n",
    "    "
   ],
   "metadata": {
    "collapsed": false,
    "ExecuteTime": {
     "end_time": "2024-11-22T00:06:33.021693Z",
     "start_time": "2024-11-22T00:06:32.896129Z"
    }
   },
   "id": "d193438571dc27f3",
   "execution_count": 30
  },
  {
   "cell_type": "code",
   "outputs": [
    {
     "name": "stderr",
     "output_type": "stream",
     "text": [
      "/Users/zhiweili/Desktop/eye_ai/Github/eye-ai-ml/eye_ai/eye_ai.py:202: SettingWithCopyWarning: \n",
      "A value is trying to be set on a copy of a slice from a DataFrame.\n",
      "Try using .loc[row_indexer,col_indexer] = value instead\n",
      "\n",
      "See the caveats in the documentation: https://pandas.pydata.org/pandas-docs/stable/user_guide/indexing.html#returning-a-view-versus-a-copy\n",
      "  \n"
     ]
    }
   ],
   "source": [
    "grader_list = [\"Benjamin Xu\", \"Kendra Hong\", \"Kent Nguyen\"]\n",
    "result = EA.compute_diagnosis(grader_diag[grader_diag[\"Full_Name\"].isin(grader_list)],\n",
    "                                 Diag_func,\n",
    "                                 CDR_func,\n",
    "                                 ImageQuality_func)"
   ],
   "metadata": {
    "collapsed": false,
    "ExecuteTime": {
     "end_time": "2024-11-22T00:16:29.245778Z",
     "start_time": "2024-11-22T00:16:28.810472Z"
    }
   },
   "id": "acde9e3cfaff5cb2",
   "execution_count": 33
  },
  {
   "cell_type": "markdown",
   "source": [
    "# Test Crop Image "
   ],
   "metadata": {
    "collapsed": false
   },
   "id": "1f0153800fbe56b4"
  },
  {
   "cell_type": "code",
   "outputs": [
    {
     "data": {
      "text/plain": "(PosixPath('/Users/zhiweili/Desktop/test_cache/zhiweili/EyeAI_working/Image_cropped'),\n PurePosixPath('/Users/zhiweili/Desktop/test_cache/zhiweili/EyeAI_working/Cropped_Image.csv'))"
     },
     "execution_count": 36,
     "metadata": {},
     "output_type": "execute_result"
    }
   ],
   "source": [
    "output_dir = configuration_record.working_dir\n",
    "EA.create_cropped_images(configuration_record.bag_paths[0], ds_bag, output_dir, crop_to_eye=True)"
   ],
   "metadata": {
    "collapsed": false,
    "ExecuteTime": {
     "end_time": "2024-11-22T05:56:48.308715Z",
     "start_time": "2024-11-22T05:56:45.832474Z"
    }
   },
   "id": "bf57e0fd3dd9583f",
   "execution_count": 36
  },
  {
   "cell_type": "code",
   "outputs": [],
   "source": [
    "# with ml_instance.execution(configuration=configuration_record) as exec:\n",
    "#     output_dir = ml_instance.execution_assets_path / \"Feature1\"\n",
    "#     output_dir.mkdir(parents=True, exist_ok=True)\n",
    "#     with open(output_dir / \"test.txt\", \"w+\") as f:\n",
    "#         f.write(\"Hello there\\n\")    "
   ],
   "metadata": {
    "collapsed": false
   },
   "id": "34c16d5ebd8276a1"
  },
  {
   "cell_type": "code",
   "execution_count": 37,
   "id": "2e5fc21b-5f21-46f1-9e77-3608fb188eda",
   "metadata": {
    "ExecuteTime": {
     "end_time": "2024-11-22T06:29:42.204344Z",
     "start_time": "2024-11-22T06:29:37.560434Z"
    }
   },
   "outputs": [
    {
     "name": "stderr",
     "output_type": "stream",
     "text": [
      "2024-11-21 22:29:39,774 - INFO - Initializing uploader: GenericUploader v1.7.4 [Python 3.10.15, macOS-10.16-x86_64-i386-64bit]\n",
      "2024-11-21 22:29:39,779 - INFO - Creating client of type <class 'globus_sdk.services.auth.client.native_client.NativeAppAuthClient'> for service \"auth\"\n",
      "2024-11-21 22:29:39,780 - INFO - Finished initializing AuthLoginClient. client_id='8ef15ba9-2b4a-469c-a163-7fd910c9d111', type(authorizer)=<class 'globus_sdk.authorizers.base.NullAuthorizer'>\n",
      "2024-11-21 22:29:39,952 - INFO - Scanning files in directory [/Users/zhiweili/Desktop/test_cache/zhiweili/EyeAI_working/deriva-ml/execution/5-R6F6/execution-assets]...\n",
      "2024-11-21 22:29:39,953 - INFO - File upload processing completed: 0 files were uploaded successfully, 0 files failed to upload due to errors, 0 files were skipped because they did not satisfy the matching criteria of the configuration.\n",
      "2024-11-21 22:29:40,414 - INFO - Initializing uploader: GenericUploader v1.7.4 [Python 3.10.15, macOS-10.16-x86_64-i386-64bit]\n",
      "2024-11-21 22:29:40,415 - INFO - Creating client of type <class 'globus_sdk.services.auth.client.native_client.NativeAppAuthClient'> for service \"auth\"\n",
      "2024-11-21 22:29:40,416 - INFO - Finished initializing AuthLoginClient. client_id='8ef15ba9-2b4a-469c-a163-7fd910c9d111', type(authorizer)=<class 'globus_sdk.authorizers.base.NullAuthorizer'>\n",
      "2024-11-21 22:29:40,570 - INFO - Scanning files in directory [/Users/zhiweili/Desktop/test_cache/zhiweili/EyeAI_working/deriva-ml/execution/5-R6F6/execution-metadata]...\n",
      "2024-11-21 22:29:40,576 - INFO - Skipping file: [/Users/zhiweili/Desktop/test_cache/zhiweili/EyeAI_working/deriva-ml/execution/5-R6F6/execution-metadata/ExecMetadataVocab.execution_config/configuration.json] -- Invalid file type or directory location.\n",
      "2024-11-21 22:29:40,576 - INFO - Including file: [/Users/zhiweili/Desktop/test_cache/zhiweili/EyeAI_working/deriva-ml/execution/5-R6F6/execution-metadata/Runtime_Env/environment_snapshot_s359fg5r.txt].\n",
      "2024-11-21 22:29:40,577 - INFO - Processing: [/Users/zhiweili/Desktop/test_cache/zhiweili/EyeAI_working/deriva-ml/execution/5-R6F6/execution-metadata/Runtime_Env/environment_snapshot_s359fg5r.txt]\n",
      "2024-11-21 22:29:40,579 - INFO - Computed metadata for: [/Users/zhiweili/Desktop/test_cache/zhiweili/EyeAI_working/deriva-ml/execution/5-R6F6/execution-metadata/Runtime_Env/environment_snapshot_s359fg5r.txt].\n",
      "2024-11-21 22:29:40,579 - INFO - Computing checksums for file: [/Users/zhiweili/Desktop/test_cache/zhiweili/EyeAI_working/deriva-ml/execution/5-R6F6/execution-metadata/Runtime_Env/environment_snapshot_s359fg5r.txt]. Please wait...\n",
      "2024-11-21 22:29:40,635 - INFO - Uploading file: [/Users/zhiweili/Desktop/test_cache/zhiweili/EyeAI_working/deriva-ml/execution/5-R6F6/execution-metadata/Runtime_Env/environment_snapshot_s359fg5r.txt] to host https://dev.eye-ai.org. Please wait...\n",
      "2024-11-21 22:29:41,523 - WARNING - The following 1 file(s) were skipped because they did not satisfy the matching criteria of the configuration:\n",
      "\n",
      "/Users/zhiweili/Desktop/test_cache/zhiweili/EyeAI_working/deriva-ml/execution/5-R6F6/execution-metadata/ExecMetadataVocab.execution_config/configuration.json\n",
      "\n",
      "2024-11-21 22:29:41,524 - INFO - File upload processing completed: 1 files were uploaded successfully, 0 files failed to upload due to errors, 1 files were skipped because they did not satisfy the matching criteria of the configuration.\n"
     ]
    }
   ],
   "source": [
    "uploaded_assets = EA.upload_execution(configuration_record, True)"
   ]
  }
 ],
 "metadata": {
  "kernelspec": {
   "name": "python3",
   "language": "python",
   "display_name": "Python 3 (ipykernel)"
  },
  "language_info": {
   "codemirror_mode": {
    "name": "ipython",
    "version": 3
   },
   "file_extension": ".py",
   "mimetype": "text/x-python",
   "name": "python",
   "nbconvert_exporter": "python",
   "pygments_lexer": "ipython3",
   "version": "3.10.13"
  }
 },
 "nbformat": 4,
 "nbformat_minor": 5
}
