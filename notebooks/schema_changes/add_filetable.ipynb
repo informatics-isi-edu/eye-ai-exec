{
 "cells": [
  {
   "cell_type": "code",
   "execution_count": 12,
   "metadata": {},
   "outputs": [],
   "source": [
    "# Prerequisites\n",
    "import json\n",
    "import os\n",
    "from eye_ai.eye_ai import EyeAI\n",
    "\n",
    "import pandas as pd\n",
    "from pathlib import Path, PurePath\n",
    "import logging\n",
    "\n",
    "from deriva.core.ermrest_model import Model, Schema, Table, Column, Key, ForeignKey, builtin_types\n",
    "\n",
    "from deriva_ml import DatasetSpec, FileSpec, ExecutionConfiguration, DerivaML, Workflow, VersionPart\n",
    "from deriva_ml import MLVocab as vc\n",
    "from deriva_ml.deriva_definitions import ColumnDefinition, BuiltinTypes\n",
    "logging.basicConfig(level=logging.INFO, format='%(asctime)s - %(levelname)s - %(message)s', force=True)"
   ]
  },
  {
   "cell_type": "code",
   "execution_count": 8,
   "metadata": {},
   "outputs": [
    {
     "name": "stdout",
     "output_type": "stream",
     "text": [
      "The autoreload extension is already loaded. To reload it, use:\n",
      "  %reload_ext autoreload\n"
     ]
    }
   ],
   "source": [
    "repo_dir = \"/Users/vivi/Desktop/eye_ai/repos\"   # Set this to be where your github repos are located.\n",
    "%load_ext autoreload\n",
    "%autoreload 2\n",
    "\n",
    "# Update the load path so python can find modules for the model\n",
    "import sys\n",
    "from pathlib import Path\n",
    "sys.path.insert(0, str(Path.home() / repo_dir / \"deriva-ml\"))\n",
    "sys.path.insert(0, str(Path.home() / repo_dir / \"eye-ai-ml\"))\n",
    "\n",
    "# Then you can import DerivaML\n",
    "from deriva_ml import DerivaML, Workflow, ExecutionConfiguration, FileSpec\n",
    "from deriva_ml import MLVocab as vc\n",
    "from eye_ai.eye_ai import EyeAI"
   ]
  },
  {
   "cell_type": "code",
   "execution_count": 5,
   "metadata": {},
   "outputs": [
    {
     "name": "stdout",
     "output_type": "stream",
     "text": [
      "You are already logged in.\n"
     ]
    }
   ],
   "source": [
    "from deriva.core.utils.globus_auth_utils import GlobusNativeLogin\n",
    "\n",
    "# host = 'www.eye-ai.org'\n",
    "host = 'dev.eye-ai.org'\n",
    "catalog_id = \"1908\"\n",
    "\n",
    "gnl = GlobusNativeLogin(host=host)\n",
    "if gnl.is_logged_in([host]):\n",
    "    print(\"You are already logged in.\")\n",
    "else:\n",
    "    gnl.login([host], no_local_server=True, no_browser=True, refresh_tokens=True, update_bdbag_keychain=True)\n",
    "    print(\"Login Successful\")"
   ]
  },
  {
   "cell_type": "code",
   "execution_count": 6,
   "metadata": {},
   "outputs": [],
   "source": [
    "cache_dir = '/Users/vivi/Desktop/eye_ai/execution_cache'\n",
    "working_dir = '/Users/vivi/Desktop/eye_ai/execution_cache'\n",
    "EA = EyeAI(hostname = host, catalog_id = catalog_id, cache_dir= cache_dir, working_dir=working_dir)"
   ]
  },
  {
   "cell_type": "code",
   "execution_count": 5,
   "metadata": {},
   "outputs": [],
   "source": [
    "c_domain = EA.catalog.getPathBuilder().schemas['eye-ai']\n",
    "c_ml = EA.catalog.getPathBuilder().schemas['deriva-ml']\n",
    "\n",
    "m_domain = EA.model.schemas['eye-ai']\n",
    "m_ml = EA.model.schemas['deriva-ml']"
   ]
  },
  {
   "cell_type": "code",
   "execution_count": 10,
   "metadata": {},
   "outputs": [],
   "source": [
    "def create_asso(table1, table2, schema):\n",
    "    asso_def = Table.define_association([table1, table2])\n",
    "    return schema.create_table(asso_def)\n",
    "    \n",
    "def create_file():\n",
    "    table_def_file_type_vocab = Table.define_vocabulary(\n",
    "        tname='File_Type', curie_template='eye-ai:{RID}'\n",
    "    )\n",
    "    file_type_table = m_ml.create_table(table_def_file_type_vocab)\n",
    "\n",
    "    table_def_file = Table.define_asset(sname='deriva-ml', tname='File')\n",
    "    file_table = m_ml.create_table(table_def_file)\n",
    "    \n",
    "    create_asso(file_table, file_type_table, m_ml)"
   ]
  },
  {
   "cell_type": "code",
   "execution_count": 11,
   "metadata": {},
   "outputs": [],
   "source": [
    "# create_file()"
   ]
  },
  {
   "cell_type": "code",
   "execution_count": 9,
   "metadata": {},
   "outputs": [
    {
     "name": "stdout",
     "output_type": "stream",
     "text": [
      "{'RID': '6-48PY', 'URL': 'tag:aireadi.eye-ai.org,2025:file:///data/aireadi/1f152774-13b8-4298-a6dc-cdc94bac3d94/dataset/CHANGELOG.md', 'MD5': 'b550f131cddfcd183e35c9360d6f5c02', 'Length': 2460, 'Description': '', 'File_Types': ['RFM_Image']}\n",
      "{'RID': '6-48Q0', 'URL': 'tag:aireadi.eye-ai.org,2025:file:///data/aireadi/1f152774-13b8-4298-a6dc-cdc94bac3d94/dataset/LICENSE.txt', 'MD5': 'ce461cfc4e301e996c273dc50e82ed5f', 'Length': 8840, 'Description': '', 'File_Types': ['RFM_Image']}\n",
      "{'RID': '6-48Q2', 'URL': 'tag:aireadi.eye-ai.org,2025:file:///data/aireadi/1f152774-13b8-4298-a6dc-cdc94bac3d94/dataset/README.md', 'MD5': '383699d710266f0ce88f6a9b87434d61', 'Length': 13804, 'Description': '', 'File_Types': ['RFM_Image']}\n",
      "{'RID': '6-48Q4', 'URL': 'tag:aireadi.eye-ai.org,2025:file:///data/aireadi/1f152774-13b8-4298-a6dc-cdc94bac3d94/dataset/dataset_description.json', 'MD5': 'c1cf4261353a66b6560068faf80944fd', 'Length': 6121, 'Description': '', 'File_Types': ['RFM_Image']}\n",
      "{'RID': '6-48Q6', 'URL': 'tag:aireadi.eye-ai.org,2025:file:///data/aireadi/1f152774-13b8-4298-a6dc-cdc94bac3d94/dataset/dataset_structure_description.json', 'MD5': '281f1c6f8c3c2a197ad6d7d3613a88ff', 'Length': 48348, 'Description': '', 'File_Types': ['RFM_Image']}\n"
     ]
    }
   ],
   "source": [
    "\n",
    "filespec_iter = FileSpec.read_filespec(r\"ai-ready-rfm-clean.json\")\n",
    "filespec_list = list(filespec_iter)[:5]\n",
    "rids = EA.add_files(files=filespec_list, file_types=[\"RFM_Image\"])\n",
    "\n",
    "files = EA.list_files()\n",
    "for f in files[:5]:\n",
    "    print(f)"
   ]
  },
  {
   "cell_type": "code",
   "execution_count": 18,
   "metadata": {},
   "outputs": [
    {
     "data": {
      "text/plain": [
       "'File_Type'"
      ]
     },
     "execution_count": 18,
     "metadata": {},
     "output_type": "execute_result"
    }
   ],
   "source": [
    "vc.file_type.value"
   ]
  },
  {
   "cell_type": "code",
   "execution_count": null,
   "metadata": {},
   "outputs": [],
   "source": [
    "# m_ml.tables['File_File_Type'].drop()\n",
    "# m_ml.tables['File_Type'].drop()\n",
    "# m_ml.tables['File'].drop()"
   ]
  },
  {
   "cell_type": "code",
   "execution_count": null,
   "metadata": {},
   "outputs": [],
   "source": []
  }
 ],
 "metadata": {
  "kernelspec": {
   "display_name": "eye_ai",
   "language": "python",
   "name": "python3"
  },
  "language_info": {
   "codemirror_mode": {
    "name": "ipython",
    "version": 3
   },
   "file_extension": ".py",
   "mimetype": "text/x-python",
   "name": "python",
   "nbconvert_exporter": "python",
   "pygments_lexer": "ipython3",
   "version": "3.12.9"
  }
 },
 "nbformat": 4,
 "nbformat_minor": 2
}
