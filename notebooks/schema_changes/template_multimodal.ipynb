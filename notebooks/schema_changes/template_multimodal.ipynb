{
 "cells": [
  {
   "cell_type": "code",
   "outputs": [],
   "source": [
    "from pathlib import Path\n",
    "import sys\n",
    "\n",
    "# Define the base repository directory\n",
    "repo_dir = Path.home() / \"Desktop\" / \"eye_ai\" / \"Github\"  # Update to your GitHub repo location\n",
    "\n",
    "# Update the load path so Python can find modules for the model\n",
    "sys.path.insert(0, str(repo_dir / \"deriva-ml\"))\n",
    "sys.path.insert(0, str(repo_dir / \"eye-ai-ml\"))\n",
    "\n",
    "# Reload extensions if needed\n",
    "%load_ext autoreload\n",
    "%autoreload 2\n"
   ],
   "metadata": {
    "collapsed": false,
    "ExecuteTime": {
     "end_time": "2024-11-22T06:43:22.751643Z",
     "start_time": "2024-11-22T06:43:22.733921Z"
    }
   },
   "id": "ebbe774c69abe790",
   "execution_count": 1
  },
  {
   "cell_type": "code",
   "outputs": [],
   "source": [
    "# Prerequisites\n",
    "import json\n",
    "import os\n",
    "from eye_ai.eye_ai import EyeAI\n",
    "from deriva_ml.dataset_bag import DatasetBag\n",
    "import pandas as pd\n",
    "from pathlib import Path, PurePath\n",
    "import logging\n",
    "\n",
    "from deriva_ml.deriva_ml_base import MLVocab as vc\n",
    "from deriva_ml.execution_configuration import ExecutionConfiguration, Workflow, Execution\n",
    "\n",
    "logging.basicConfig(level=logging.INFO, format='%(asctime)s - %(levelname)s - %(message)s', force=True)"
   ],
   "metadata": {
    "collapsed": false,
    "ExecuteTime": {
     "end_time": "2024-11-22T06:43:25.577386Z",
     "start_time": "2024-11-22T06:43:22.752449Z"
    }
   },
   "id": "7a4c63f1992a2f4b",
   "execution_count": 2
  },
  {
   "cell_type": "code",
   "outputs": [
    {
     "name": "stderr",
     "output_type": "stream",
     "text": [
      "2024-11-21 22:43:25,626 - INFO - Creating client of type <class 'globus_sdk.services.auth.client.native_client.NativeAppAuthClient'> for service \"auth\"\n",
      "2024-11-21 22:43:25,628 - INFO - Finished initializing AuthLoginClient. client_id='8ef15ba9-2b4a-469c-a163-7fd910c9d111', type(authorizer)=<class 'globus_sdk.authorizers.base.NullAuthorizer'>\n"
     ]
    },
    {
     "name": "stdout",
     "output_type": "stream",
     "text": [
      "You are already logged in.\n"
     ]
    }
   ],
   "source": [
    "from deriva.core.utils.globus_auth_utils import GlobusNativeLogin\n",
    "host = 'dev.eye-ai.org'\n",
    "catalog_id = \"428\"\n",
    "\n",
    "# host = 'www.eye-ai.org'\n",
    "# catalog_id = \"21\"\n",
    "# catalog_id = \"eye-ai\"\n",
    "\n",
    "gnl = GlobusNativeLogin(host=host)\n",
    "if gnl.is_logged_in([host]):\n",
    "    print(\"You are already logged in.\")\n",
    "else:\n",
    "    gnl.login([host], no_local_server=True, no_browser=True, refresh_tokens=True, update_bdbag_keychain=True)\n",
    "    print(\"Login Successful\")"
   ],
   "metadata": {
    "collapsed": false,
    "ExecuteTime": {
     "end_time": "2024-11-22T06:43:25.637262Z",
     "start_time": "2024-11-22T06:43:25.576861Z"
    }
   },
   "id": "5854dd2af49b17c6",
   "execution_count": 3
  },
  {
   "cell_type": "code",
   "outputs": [
    {
     "name": "stderr",
     "output_type": "stream",
     "text": [
      "2024-11-21 22:43:25,659 - INFO - Creating client of type <class 'globus_sdk.services.auth.client.native_client.NativeAppAuthClient'> for service \"auth\"\n",
      "2024-11-21 22:43:25,659 - INFO - Finished initializing AuthLoginClient. client_id='8ef15ba9-2b4a-469c-a163-7fd910c9d111', type(authorizer)=<class 'globus_sdk.authorizers.base.NullAuthorizer'>\n",
      "2024-11-21 22:43:26,264 - INFO - Loading dirty model.  Consider commiting and tagging: 1.1.0.post76+git.403fdd90.dirty\n"
     ]
    }
   ],
   "source": [
    "# Variables to configure the rest of the notebook.\n",
    "cache_dir = Path.home() / 'Desktop/test_cache'\n",
    "working_dir = Path.home() / 'Desktop/test_cache'\n",
    "EA = EyeAI(hostname = host, catalog_id = catalog_id, cache_dir= cache_dir, working_dir=working_dir)"
   ],
   "metadata": {
    "collapsed": false,
    "ExecuteTime": {
     "end_time": "2024-11-22T06:43:33.265410Z",
     "start_time": "2024-11-22T06:43:25.639173Z"
    }
   },
   "id": "ca73daf6aef44b55",
   "execution_count": 4
  },
  {
   "cell_type": "markdown",
   "source": [
    "# 1. Configuration"
   ],
   "metadata": {
    "collapsed": false
   },
   "id": "44e0d26997766f"
  },
  {
   "cell_type": "code",
   "outputs": [
    {
     "name": "stderr",
     "output_type": "stream",
     "text": [
      "2024-11-21 22:45:24,003 - INFO - Configuration validation successful!\n"
     ]
    },
    {
     "ename": "DerivaMLException",
     "evalue": "Failed to insert workflow. Error: [DerivaMLException] Invalid URL: https://github.com/informatics-isi-edu/eye-ai-exec/blob/main/notebooks/schema_changes/template_multimodal.ipynb",
     "output_type": "error",
     "traceback": [
      "\u001B[0;31m---------------------------------------------------------------------------\u001B[0m",
      "\u001B[0;31mIndexError\u001B[0m                                Traceback (most recent call last)",
      "File \u001B[0;32m~/Desktop/eye_ai/Github/deriva-ml/deriva_ml/deriva_ml_base.py:505\u001B[0m, in \u001B[0;36mDerivaML.add_workflow\u001B[0;34m(self, workflow_name, url, workflow_type, version, description)\u001B[0m\n\u001B[1;32m    504\u001B[0m url_column \u001B[38;5;241m=\u001B[39m ml_schema_path\u001B[38;5;241m.\u001B[39mWorkflow\u001B[38;5;241m.\u001B[39mURL\n\u001B[0;32m--> 505\u001B[0m workflow_record \u001B[38;5;241m=\u001B[39m \u001B[38;5;28;43mlist\u001B[39;49m\u001B[43m(\u001B[49m\u001B[43mml_schema_path\u001B[49m\u001B[38;5;241;43m.\u001B[39;49m\u001B[43mWorkflow\u001B[49m\u001B[38;5;241;43m.\u001B[39;49m\u001B[43mfilter\u001B[49m\u001B[43m(\u001B[49m\u001B[43murl_column\u001B[49m\u001B[43m \u001B[49m\u001B[38;5;241;43m==\u001B[39;49m\u001B[43m \u001B[49m\u001B[43murl\u001B[49m\u001B[43m)\u001B[49m\u001B[38;5;241;43m.\u001B[39;49m\u001B[43mentities\u001B[49m\u001B[43m(\u001B[49m\u001B[43m)\u001B[49m\u001B[43m)\u001B[49m\u001B[43m[\u001B[49m\u001B[38;5;241;43m0\u001B[39;49m\u001B[43m]\u001B[49m\n\u001B[1;32m    506\u001B[0m workflow_rid \u001B[38;5;241m=\u001B[39m workflow_record[\u001B[38;5;124m'\u001B[39m\u001B[38;5;124mRID\u001B[39m\u001B[38;5;124m'\u001B[39m]\n",
      "\u001B[0;31mIndexError\u001B[0m: list index out of range",
      "\nDuring handling of the above exception, another exception occurred:\n",
      "\u001B[0;31mHTTPError\u001B[0m                                 Traceback (most recent call last)",
      "File \u001B[0;32m~/Desktop/eye_ai/Github/deriva-ml/deriva_ml/deriva_ml_base.py:1112\u001B[0m, in \u001B[0;36mDerivaML._get_checksum\u001B[0;34m(url)\u001B[0m\n\u001B[1;32m   1111\u001B[0m     response \u001B[38;5;241m=\u001B[39m requests\u001B[38;5;241m.\u001B[39mget(url)\n\u001B[0;32m-> 1112\u001B[0m     \u001B[43mresponse\u001B[49m\u001B[38;5;241;43m.\u001B[39;49m\u001B[43mraise_for_status\u001B[49m\u001B[43m(\u001B[49m\u001B[43m)\u001B[49m\n\u001B[1;32m   1113\u001B[0m \u001B[38;5;28;01mexcept\u001B[39;00m \u001B[38;5;167;01mException\u001B[39;00m:\n",
      "File \u001B[0;32m~/opt/anaconda3/envs/Eye_ai/lib/python3.10/site-packages/requests/models.py:1024\u001B[0m, in \u001B[0;36mResponse.raise_for_status\u001B[0;34m(self)\u001B[0m\n\u001B[1;32m   1023\u001B[0m \u001B[38;5;28;01mif\u001B[39;00m http_error_msg:\n\u001B[0;32m-> 1024\u001B[0m     \u001B[38;5;28;01mraise\u001B[39;00m HTTPError(http_error_msg, response\u001B[38;5;241m=\u001B[39m\u001B[38;5;28mself\u001B[39m)\n",
      "\u001B[0;31mHTTPError\u001B[0m: 404 Client Error: Not Found for url: https://github.com/informatics-isi-edu/eye-ai-exec/blob/main/notebooks/schema_changes/template_multimodal.ipynb",
      "\nDuring handling of the above exception, another exception occurred:\n",
      "\u001B[0;31mDerivaMLException\u001B[0m                         Traceback (most recent call last)",
      "File \u001B[0;32m~/Desktop/eye_ai/Github/deriva-ml/deriva_ml/deriva_ml_base.py:1635\u001B[0m, in \u001B[0;36mDerivaML.initialize_execution\u001B[0;34m(self, configuration)\u001B[0m\n\u001B[1;32m   1634\u001B[0m     \u001B[38;5;28mself\u001B[39m\u001B[38;5;241m.\u001B[39mupdate_status(Status\u001B[38;5;241m.\u001B[39mrunning, \u001B[38;5;124m'\u001B[39m\u001B[38;5;124mInserting workflow... \u001B[39m\u001B[38;5;124m'\u001B[39m, execution_rid)\n\u001B[0;32m-> 1635\u001B[0m     workflow_rid \u001B[38;5;241m=\u001B[39m \u001B[38;5;28;43mself\u001B[39;49m\u001B[38;5;241;43m.\u001B[39;49m\u001B[43madd_workflow\u001B[49m\u001B[43m(\u001B[49m\u001B[38;5;28;43mself\u001B[39;49m\u001B[38;5;241;43m.\u001B[39;49m\u001B[43mconfiguration\u001B[49m\u001B[38;5;241;43m.\u001B[39;49m\u001B[43mworkflow\u001B[49m\u001B[38;5;241;43m.\u001B[39;49m\u001B[43mname\u001B[49m\u001B[43m,\u001B[49m\n\u001B[1;32m   1636\u001B[0m \u001B[43m                                     \u001B[49m\u001B[38;5;28;43mself\u001B[39;49m\u001B[38;5;241;43m.\u001B[39;49m\u001B[43mconfiguration\u001B[49m\u001B[38;5;241;43m.\u001B[39;49m\u001B[43mworkflow\u001B[49m\u001B[38;5;241;43m.\u001B[39;49m\u001B[43murl\u001B[49m\u001B[43m,\u001B[49m\n\u001B[1;32m   1637\u001B[0m \u001B[43m                                     \u001B[49m\u001B[38;5;28;43mself\u001B[39;49m\u001B[38;5;241;43m.\u001B[39;49m\u001B[43mconfiguration\u001B[49m\u001B[38;5;241;43m.\u001B[39;49m\u001B[43mworkflow\u001B[49m\u001B[38;5;241;43m.\u001B[39;49m\u001B[43mworkflow_type\u001B[49m\u001B[43m,\u001B[49m\n\u001B[1;32m   1638\u001B[0m \u001B[43m                                     \u001B[49m\u001B[38;5;28;43mself\u001B[39;49m\u001B[38;5;241;43m.\u001B[39;49m\u001B[43mconfiguration\u001B[49m\u001B[38;5;241;43m.\u001B[39;49m\u001B[43mworkflow\u001B[49m\u001B[38;5;241;43m.\u001B[39;49m\u001B[43mversion\u001B[49m\u001B[43m,\u001B[49m\n\u001B[1;32m   1639\u001B[0m \u001B[43m                                     \u001B[49m\u001B[38;5;28;43mself\u001B[39;49m\u001B[38;5;241;43m.\u001B[39;49m\u001B[43mconfiguration\u001B[49m\u001B[38;5;241;43m.\u001B[39;49m\u001B[43mworkflow\u001B[49m\u001B[38;5;241;43m.\u001B[39;49m\u001B[43mdescription\u001B[49m\u001B[43m)\u001B[49m\n\u001B[1;32m   1640\u001B[0m \u001B[38;5;28;01mexcept\u001B[39;00m \u001B[38;5;167;01mException\u001B[39;00m \u001B[38;5;28;01mas\u001B[39;00m e:\n",
      "File \u001B[0;32m~/Desktop/eye_ai/Github/deriva-ml/deriva_ml/deriva_ml_base.py:513\u001B[0m, in \u001B[0;36mDerivaML.add_workflow\u001B[0;34m(self, workflow_name, url, workflow_type, version, description)\u001B[0m\n\u001B[1;32m    507\u001B[0m \u001B[38;5;28;01mexcept\u001B[39;00m \u001B[38;5;167;01mIndexError\u001B[39;00m:\n\u001B[1;32m    508\u001B[0m     \u001B[38;5;66;03m# Record doesn't exist already\u001B[39;00m\n\u001B[1;32m    509\u001B[0m     workflow_record \u001B[38;5;241m=\u001B[39m {\n\u001B[1;32m    510\u001B[0m         \u001B[38;5;124m'\u001B[39m\u001B[38;5;124mURL\u001B[39m\u001B[38;5;124m'\u001B[39m: url,\n\u001B[1;32m    511\u001B[0m         \u001B[38;5;124m'\u001B[39m\u001B[38;5;124mName\u001B[39m\u001B[38;5;124m'\u001B[39m: workflow_name,\n\u001B[1;32m    512\u001B[0m         \u001B[38;5;124m'\u001B[39m\u001B[38;5;124mDescription\u001B[39m\u001B[38;5;124m'\u001B[39m: description,\n\u001B[0;32m--> 513\u001B[0m         \u001B[38;5;124m'\u001B[39m\u001B[38;5;124mChecksum\u001B[39m\u001B[38;5;124m'\u001B[39m: \u001B[38;5;28;43mself\u001B[39;49m\u001B[38;5;241;43m.\u001B[39;49m\u001B[43m_get_checksum\u001B[49m\u001B[43m(\u001B[49m\u001B[43murl\u001B[49m\u001B[43m)\u001B[49m,\n\u001B[1;32m    514\u001B[0m         \u001B[38;5;124m'\u001B[39m\u001B[38;5;124mVersion\u001B[39m\u001B[38;5;124m'\u001B[39m: version,\n\u001B[1;32m    515\u001B[0m         MLVocab\u001B[38;5;241m.\u001B[39mworkflow_type: \u001B[38;5;28mself\u001B[39m\u001B[38;5;241m.\u001B[39mlookup_term(MLVocab\u001B[38;5;241m.\u001B[39mworkflow_type, workflow_type)\u001B[38;5;241m.\u001B[39mname}\n\u001B[1;32m    516\u001B[0m     workflow_rid \u001B[38;5;241m=\u001B[39m ml_schema_path\u001B[38;5;241m.\u001B[39mWorkflow\u001B[38;5;241m.\u001B[39minsert([workflow_record])[\u001B[38;5;241m0\u001B[39m][\u001B[38;5;124m'\u001B[39m\u001B[38;5;124mRID\u001B[39m\u001B[38;5;124m'\u001B[39m]\n",
      "File \u001B[0;32m~/Desktop/eye_ai/Github/deriva-ml/deriva_ml/deriva_ml_base.py:1114\u001B[0m, in \u001B[0;36mDerivaML._get_checksum\u001B[0;34m(url)\u001B[0m\n\u001B[1;32m   1113\u001B[0m \u001B[38;5;28;01mexcept\u001B[39;00m \u001B[38;5;167;01mException\u001B[39;00m:\n\u001B[0;32m-> 1114\u001B[0m     \u001B[38;5;28;01mraise\u001B[39;00m DerivaMLException(\u001B[38;5;124mf\u001B[39m\u001B[38;5;124m'\u001B[39m\u001B[38;5;124mInvalid URL: \u001B[39m\u001B[38;5;132;01m{\u001B[39;00murl\u001B[38;5;132;01m}\u001B[39;00m\u001B[38;5;124m'\u001B[39m)\n\u001B[1;32m   1115\u001B[0m \u001B[38;5;28;01melse\u001B[39;00m:\n",
      "\u001B[0;31mDerivaMLException\u001B[0m: Invalid URL: https://github.com/informatics-isi-edu/eye-ai-exec/blob/main/notebooks/schema_changes/template_multimodal.ipynb",
      "\nDuring handling of the above exception, another exception occurred:\n",
      "\u001B[0;31mDerivaMLException\u001B[0m                         Traceback (most recent call last)",
      "Cell \u001B[0;32mIn[5], line 17\u001B[0m\n\u001B[1;32m     10\u001B[0m config \u001B[38;5;241m=\u001B[39m ExecutionConfiguration(\n\u001B[1;32m     11\u001B[0m     bdbags\u001B[38;5;241m=\u001B[39m[\u001B[38;5;124m'\u001B[39m\u001B[38;5;124m2-AGAW\u001B[39m\u001B[38;5;124m'\u001B[39m], \u001B[38;5;66;03m#minid:1JiKxaIcjAIaO\u001B[39;00m\n\u001B[1;32m     12\u001B[0m     models \u001B[38;5;241m=\u001B[39m [\u001B[38;5;124m'\u001B[39m\u001B[38;5;124m2-4JR6\u001B[39m\u001B[38;5;124m'\u001B[39m],\n\u001B[1;32m     13\u001B[0m     execution\u001B[38;5;241m=\u001B[39mExecution(description\u001B[38;5;241m=\u001B[39m\u001B[38;5;124m\"\u001B[39m\u001B[38;5;124mSample Test Execution\u001B[39m\u001B[38;5;124m\"\u001B[39m),\n\u001B[1;32m     14\u001B[0m     workflow\u001B[38;5;241m=\u001B[39mtest_workflow,\n\u001B[1;32m     15\u001B[0m     description\u001B[38;5;241m=\u001B[39m\u001B[38;5;124m\"\u001B[39m\u001B[38;5;124mOur Test Workflow instance\u001B[39m\u001B[38;5;124m\"\u001B[39m)\n\u001B[1;32m     16\u001B[0m \u001B[38;5;66;03m# Initialize execution\u001B[39;00m\n\u001B[0;32m---> 17\u001B[0m configuration_record \u001B[38;5;241m=\u001B[39m \u001B[43mEA\u001B[49m\u001B[38;5;241;43m.\u001B[39;49m\u001B[43minitialize_execution\u001B[49m\u001B[43m(\u001B[49m\u001B[43mconfig\u001B[49m\u001B[43m)\u001B[49m\n\u001B[1;32m     18\u001B[0m execution_rid \u001B[38;5;241m=\u001B[39m configuration_record\u001B[38;5;241m.\u001B[39mexecution_rid\n",
      "File \u001B[0;32m~/Desktop/eye_ai/Github/deriva-ml/deriva_ml/deriva_ml_base.py:1643\u001B[0m, in \u001B[0;36mDerivaML.initialize_execution\u001B[0;34m(self, configuration)\u001B[0m\n\u001B[1;32m   1641\u001B[0m     error \u001B[38;5;241m=\u001B[39m format_exception(e)\n\u001B[1;32m   1642\u001B[0m     \u001B[38;5;28mself\u001B[39m\u001B[38;5;241m.\u001B[39mupdate_status(Status\u001B[38;5;241m.\u001B[39mfailed, error, execution_rid)\n\u001B[0;32m-> 1643\u001B[0m     \u001B[38;5;28;01mraise\u001B[39;00m DerivaMLException(\u001B[38;5;124mf\u001B[39m\u001B[38;5;124m'\u001B[39m\u001B[38;5;124mFailed to insert workflow. Error: \u001B[39m\u001B[38;5;132;01m{\u001B[39;00merror\u001B[38;5;132;01m}\u001B[39;00m\u001B[38;5;124m'\u001B[39m)\n\u001B[1;32m   1645\u001B[0m \u001B[38;5;66;03m# Materialize bdbag\u001B[39;00m\n\u001B[1;32m   1646\u001B[0m dataset_rids \u001B[38;5;241m=\u001B[39m []\n",
      "\u001B[0;31mDerivaMLException\u001B[0m: Failed to insert workflow. Error: [DerivaMLException] Invalid URL: https://github.com/informatics-isi-edu/eye-ai-exec/blob/main/notebooks/schema_changes/template_multimodal.ipynb"
     ]
    }
   ],
   "source": [
    "# Add Workflow Vocab terms\n",
    "EA.add_term(vc.workflow_type, \"Test Workflow\", description=\"A test Workflow for new DM\")\n",
    "# Workflow instance\n",
    "test_workflow = Workflow(\n",
    "    name=\"Test New Workflow-multimodal\",\n",
    "    url=\"https://github.com/informatics-isi-edu/eye-ai-exec/blob/main/notebooks/schema_changes/template_multimodal.ipynb\",\n",
    "    workflow_type=\"Test Workflow\"\n",
    ")\n",
    "# Configuration instance\n",
    "config = ExecutionConfiguration(\n",
    "    bdbags=['2-AGAW'], #minid:1JiKxaIcjAIaO\n",
    "    models = ['2-4JR6'],\n",
    "    execution=Execution(description=\"Sample Test Execution\"),\n",
    "    workflow=test_workflow,\n",
    "    description=\"Our Test Workflow instance\")\n",
    "# Initialize execution\n",
    "configuration_record = EA.initialize_execution(config)\n",
    "execution_rid = configuration_record.execution_rid\n"
   ],
   "metadata": {
    "collapsed": false,
    "ExecuteTime": {
     "end_time": "2024-11-22T06:45:25.937144Z",
     "start_time": "2024-11-22T06:45:22.380836Z"
    }
   },
   "id": "7438a3b956e576e5",
   "execution_count": 5
  },
  {
   "cell_type": "code",
   "outputs": [
    {
     "name": "stdout",
     "output_type": "stream",
     "text": [
      "caching_dir: /Users/zhiweili/Desktop/test_cache\n",
      "working_dir: /Users/zhiweili/Desktop/test_cache/zhiweili/EyeAI_working\n",
      "execution_rid: 5-R6F6\n",
      "workflow_rid: 5-R6B4\n",
      "bag_paths: [PosixPath('/Users/zhiweili/Desktop/test_cache/2-7K8W_d1ead67f8439d2eca28191477fdb771f579043af01ea5817ed2763c9b7b9a2d2/Dataset_2-7K8W')]\n",
      "asset_paths: [PosixPath('/Users/zhiweili/Desktop/test_cache/zhiweili/EyeAI_working/5-R6F6/models/optic_disk_crop_model.hdf5')]\n",
      "configuration: bdbags=['2-7K8W'] models=['2-4JR6'] workflow=Workflow(name='Test New Workflow', url='https://github.com/informatics-isi-edu/eye-ai-exec/blob/main/notebooks/schema_changes/test_eye-ai_changes.ipynb', workflow_type='Test Workflow', version=None, description=None) execution=Execution(description='Sample Test Execution') description='Our Test Workflow instance'\n"
     ]
    },
    {
     "data": {
      "text/plain": "PosixPath('/Users/zhiweili/Desktop/test_cache/2-7K8W_d1ead67f8439d2eca28191477fdb771f579043af01ea5817ed2763c9b7b9a2d2/Dataset_2-7K8W')"
     },
     "execution_count": 17,
     "metadata": {},
     "output_type": "execute_result"
    }
   ],
   "source": [
    "print(configuration_record)\n",
    "configuration_record.bag_paths[0]"
   ],
   "metadata": {
    "collapsed": false,
    "ExecuteTime": {
     "end_time": "2024-11-22T01:17:45.258029Z",
     "start_time": "2024-11-22T01:17:45.185103Z"
    }
   },
   "id": "3d0c540fb8d7f576",
   "execution_count": 17
  },
  {
   "cell_type": "code",
   "outputs": [],
   "source": [
    "ds_bag = DatasetBag(configuration_record.bag_paths[0])"
   ],
   "metadata": {
    "collapsed": false,
    "ExecuteTime": {
     "end_time": "2024-11-22T00:53:25.003902Z",
     "start_time": "2024-11-22T00:53:24.713484Z"
    }
   },
   "id": "54a6c1add2df83d5",
   "execution_count": 7
  },
  {
   "cell_type": "markdown",
   "source": [
    "# Test extract image and reshape method"
   ],
   "metadata": {
    "collapsed": false
   },
   "id": "3f3e774ccf3ee9d1"
  },
  {
   "cell_type": "code",
   "outputs": [],
   "source": [
    "init_diag = EA.image_tall(ds_bag, 'Initial Diagnosis')\n",
    "grader_diag = EA.image_tall(ds_bag, 'AI_glaucomasuspect_test')\n",
    "long, wide = EA.reshape_table([init_diag, grader_diag], 'Diagnosis_Image')"
   ],
   "metadata": {
    "collapsed": false,
    "ExecuteTime": {
     "end_time": "2024-11-21T23:56:17.188158Z",
     "start_time": "2024-11-21T23:56:16.592029Z"
    }
   },
   "id": "dc1af315aa9076ba",
   "execution_count": 26
  },
  {
   "cell_type": "markdown",
   "source": [
    "# Test extract diagnosis and gold standard calculation"
   ],
   "metadata": {
    "collapsed": false
   },
   "id": "68854356e1436423"
  },
  {
   "cell_type": "code",
   "outputs": [],
   "source": [
    "def CDR_func(values):\n",
    "    return values.mean()\n",
    "\n",
    "def Diag_func(values):\n",
    "    # Use the mode function to get the most frequent diagnosis value\n",
    "    mode_diagnosis = values.mode()\n",
    "\n",
    "    # If there are multiple modes, take the first one\n",
    "    if not mode_diagnosis.empty:\n",
    "        return mode_diagnosis.iloc[0]\n",
    "    else:\n",
    "        # Handle the case where there is no mode (e.g., all values are unique)\n",
    "        return 'Unknown'\n",
    "\n",
    "def ImageQuality_func(values):\n",
    "    mode_quality = values.mode()\n",
    "    if not mode_quality.empty:\n",
    "        return mode_quality.iloc[0]\n",
    "    else:\n",
    "        return \"Unknown\"\n",
    "    "
   ],
   "metadata": {
    "collapsed": false,
    "ExecuteTime": {
     "end_time": "2024-11-22T00:06:33.021693Z",
     "start_time": "2024-11-22T00:06:32.896129Z"
    }
   },
   "id": "d193438571dc27f3",
   "execution_count": 30
  },
  {
   "cell_type": "code",
   "outputs": [
    {
     "name": "stderr",
     "output_type": "stream",
     "text": [
      "/Users/zhiweili/Desktop/eye_ai/Github/eye-ai-ml/eye_ai/eye_ai.py:202: SettingWithCopyWarning: \n",
      "A value is trying to be set on a copy of a slice from a DataFrame.\n",
      "Try using .loc[row_indexer,col_indexer] = value instead\n",
      "\n",
      "See the caveats in the documentation: https://pandas.pydata.org/pandas-docs/stable/user_guide/indexing.html#returning-a-view-versus-a-copy\n",
      "  \n"
     ]
    }
   ],
   "source": [
    "grader_list = [\"Benjamin Xu\", \"Kendra Hong\", \"Kent Nguyen\"]\n",
    "result = EA.compute_diagnosis(grader_diag[grader_diag[\"Full_Name\"].isin(grader_list)],\n",
    "                                 Diag_func,\n",
    "                                 CDR_func,\n",
    "                                 ImageQuality_func)"
   ],
   "metadata": {
    "collapsed": false,
    "ExecuteTime": {
     "end_time": "2024-11-22T00:16:29.245778Z",
     "start_time": "2024-11-22T00:16:28.810472Z"
    }
   },
   "id": "acde9e3cfaff5cb2",
   "execution_count": 33
  },
  {
   "cell_type": "markdown",
   "source": [
    "# Test Crop Image "
   ],
   "metadata": {
    "collapsed": false
   },
   "id": "1f0153800fbe56b4"
  },
  {
   "cell_type": "code",
   "outputs": [
    {
     "data": {
      "text/plain": "(PosixPath('/Users/zhiweili/Desktop/test_cache/zhiweili/EyeAI_working/Image_cropped'),\n PurePosixPath('/Users/zhiweili/Desktop/test_cache/zhiweili/EyeAI_working/Cropped_Image.csv'))"
     },
     "execution_count": 36,
     "metadata": {},
     "output_type": "execute_result"
    }
   ],
   "source": [
    "output_dir = configuration_record.working_dir\n",
    "EA.create_cropped_images(configuration_record.bag_paths[0], ds_bag, output_dir, crop_to_eye=True)"
   ],
   "metadata": {
    "collapsed": false,
    "ExecuteTime": {
     "end_time": "2024-11-22T05:56:48.308715Z",
     "start_time": "2024-11-22T05:56:45.832474Z"
    }
   },
   "id": "bf57e0fd3dd9583f",
   "execution_count": 36
  },
  {
   "cell_type": "code",
   "outputs": [],
   "source": [
    "# with ml_instance.execution(configuration=configuration_record) as exec:\n",
    "#     output_dir = ml_instance.execution_assets_path / \"Feature1\"\n",
    "#     output_dir.mkdir(parents=True, exist_ok=True)\n",
    "#     with open(output_dir / \"test.txt\", \"w+\") as f:\n",
    "#         f.write(\"Hello there\\n\")    "
   ],
   "metadata": {
    "collapsed": false
   },
   "id": "34c16d5ebd8276a1"
  },
  {
   "cell_type": "code",
   "execution_count": 37,
   "id": "2e5fc21b-5f21-46f1-9e77-3608fb188eda",
   "metadata": {
    "ExecuteTime": {
     "end_time": "2024-11-22T06:29:42.204344Z",
     "start_time": "2024-11-22T06:29:37.560434Z"
    }
   },
   "outputs": [
    {
     "name": "stderr",
     "output_type": "stream",
     "text": [
      "2024-11-21 22:29:39,774 - INFO - Initializing uploader: GenericUploader v1.7.4 [Python 3.10.15, macOS-10.16-x86_64-i386-64bit]\n",
      "2024-11-21 22:29:39,779 - INFO - Creating client of type <class 'globus_sdk.services.auth.client.native_client.NativeAppAuthClient'> for service \"auth\"\n",
      "2024-11-21 22:29:39,780 - INFO - Finished initializing AuthLoginClient. client_id='8ef15ba9-2b4a-469c-a163-7fd910c9d111', type(authorizer)=<class 'globus_sdk.authorizers.base.NullAuthorizer'>\n",
      "2024-11-21 22:29:39,952 - INFO - Scanning files in directory [/Users/zhiweili/Desktop/test_cache/zhiweili/EyeAI_working/deriva-ml/execution/5-R6F6/execution-assets]...\n",
      "2024-11-21 22:29:39,953 - INFO - File upload processing completed: 0 files were uploaded successfully, 0 files failed to upload due to errors, 0 files were skipped because they did not satisfy the matching criteria of the configuration.\n",
      "2024-11-21 22:29:40,414 - INFO - Initializing uploader: GenericUploader v1.7.4 [Python 3.10.15, macOS-10.16-x86_64-i386-64bit]\n",
      "2024-11-21 22:29:40,415 - INFO - Creating client of type <class 'globus_sdk.services.auth.client.native_client.NativeAppAuthClient'> for service \"auth\"\n",
      "2024-11-21 22:29:40,416 - INFO - Finished initializing AuthLoginClient. client_id='8ef15ba9-2b4a-469c-a163-7fd910c9d111', type(authorizer)=<class 'globus_sdk.authorizers.base.NullAuthorizer'>\n",
      "2024-11-21 22:29:40,570 - INFO - Scanning files in directory [/Users/zhiweili/Desktop/test_cache/zhiweili/EyeAI_working/deriva-ml/execution/5-R6F6/execution-metadata]...\n",
      "2024-11-21 22:29:40,576 - INFO - Skipping file: [/Users/zhiweili/Desktop/test_cache/zhiweili/EyeAI_working/deriva-ml/execution/5-R6F6/execution-metadata/ExecMetadataVocab.execution_config/configuration.json] -- Invalid file type or directory location.\n",
      "2024-11-21 22:29:40,576 - INFO - Including file: [/Users/zhiweili/Desktop/test_cache/zhiweili/EyeAI_working/deriva-ml/execution/5-R6F6/execution-metadata/Runtime_Env/environment_snapshot_s359fg5r.txt].\n",
      "2024-11-21 22:29:40,577 - INFO - Processing: [/Users/zhiweili/Desktop/test_cache/zhiweili/EyeAI_working/deriva-ml/execution/5-R6F6/execution-metadata/Runtime_Env/environment_snapshot_s359fg5r.txt]\n",
      "2024-11-21 22:29:40,579 - INFO - Computed metadata for: [/Users/zhiweili/Desktop/test_cache/zhiweili/EyeAI_working/deriva-ml/execution/5-R6F6/execution-metadata/Runtime_Env/environment_snapshot_s359fg5r.txt].\n",
      "2024-11-21 22:29:40,579 - INFO - Computing checksums for file: [/Users/zhiweili/Desktop/test_cache/zhiweili/EyeAI_working/deriva-ml/execution/5-R6F6/execution-metadata/Runtime_Env/environment_snapshot_s359fg5r.txt]. Please wait...\n",
      "2024-11-21 22:29:40,635 - INFO - Uploading file: [/Users/zhiweili/Desktop/test_cache/zhiweili/EyeAI_working/deriva-ml/execution/5-R6F6/execution-metadata/Runtime_Env/environment_snapshot_s359fg5r.txt] to host https://dev.eye-ai.org. Please wait...\n",
      "2024-11-21 22:29:41,523 - WARNING - The following 1 file(s) were skipped because they did not satisfy the matching criteria of the configuration:\n",
      "\n",
      "/Users/zhiweili/Desktop/test_cache/zhiweili/EyeAI_working/deriva-ml/execution/5-R6F6/execution-metadata/ExecMetadataVocab.execution_config/configuration.json\n",
      "\n",
      "2024-11-21 22:29:41,524 - INFO - File upload processing completed: 1 files were uploaded successfully, 0 files failed to upload due to errors, 1 files were skipped because they did not satisfy the matching criteria of the configuration.\n"
     ]
    }
   ],
   "source": [
    "uploaded_assets = EA.upload_execution(configuration_record, True)"
   ]
  }
 ],
 "metadata": {
  "kernelspec": {
   "name": "python3",
   "language": "python",
   "display_name": "Python 3 (ipykernel)"
  },
  "language_info": {
   "codemirror_mode": {
    "name": "ipython",
    "version": 3
   },
   "file_extension": ".py",
   "mimetype": "text/x-python",
   "name": "python",
   "nbconvert_exporter": "python",
   "pygments_lexer": "ipython3",
   "version": "3.10.13"
  }
 },
 "nbformat": 4,
 "nbformat_minor": 5
}
