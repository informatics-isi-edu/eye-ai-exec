{
 "cells": [
  {
   "cell_type": "code",
   "outputs": [],
   "source": [
    "from pathlib import Path\n",
    "import sys\n",
    "\n",
    "# Define the base repository directory\n",
    "repo_dir = Path.home() / \"Desktop\" / \"eye_ai\" / \"Github\"  # Update to your GitHub repo location\n",
    "\n",
    "# Update the load path so Python can find modules for the model\n",
    "sys.path.insert(0, str(repo_dir / \"deriva-ml\"))\n",
    "sys.path.insert(0, str(repo_dir / \"eye-ai-ml\"))\n",
    "\n",
    "# Reload extensions if needed\n",
    "%load_ext autoreload\n",
    "%autoreload 2\n"
   ],
   "metadata": {
    "collapsed": false,
    "ExecuteTime": {
     "end_time": "2024-11-22T18:34:11.753245Z",
     "start_time": "2024-11-22T18:34:11.736404Z"
    }
   },
   "id": "ebbe774c69abe790",
   "execution_count": 1
  },
  {
   "cell_type": "code",
   "outputs": [],
   "source": [
    "# Prerequisites\n",
    "import json\n",
    "import os\n",
    "from eye_ai.eye_ai import EyeAI\n",
    "from deriva_ml.dataset_bag import DatasetBag\n",
    "import pandas as pd\n",
    "from pathlib import Path, PurePath\n",
    "import logging\n",
    "\n",
    "from deriva_ml.deriva_ml_base import MLVocab as vc\n",
    "from deriva_ml.execution_configuration import ExecutionConfiguration, Workflow, Execution\n",
    "\n",
    "logging.basicConfig(level=logging.INFO, format='%(asctime)s - %(levelname)s - %(message)s', force=True)"
   ],
   "metadata": {
    "collapsed": false,
    "ExecuteTime": {
     "end_time": "2024-11-22T18:34:15.605644Z",
     "start_time": "2024-11-22T18:34:12.129394Z"
    }
   },
   "id": "7a4c63f1992a2f4b",
   "execution_count": 2
  },
  {
   "cell_type": "code",
   "outputs": [
    {
     "name": "stderr",
     "output_type": "stream",
     "text": [
      "2024-11-22 10:34:15,643 - INFO - Creating client of type <class 'globus_sdk.services.auth.client.native_client.NativeAppAuthClient'> for service \"auth\"\n",
      "2024-11-22 10:34:15,645 - INFO - Finished initializing AuthLoginClient. client_id='8ef15ba9-2b4a-469c-a163-7fd910c9d111', type(authorizer)=<class 'globus_sdk.authorizers.base.NullAuthorizer'>\n"
     ]
    },
    {
     "name": "stdout",
     "output_type": "stream",
     "text": [
      "You are already logged in.\n"
     ]
    }
   ],
   "source": [
    "from deriva.core.utils.globus_auth_utils import GlobusNativeLogin\n",
    "host = 'dev.eye-ai.org'\n",
    "catalog_id = \"428\"\n",
    "\n",
    "# host = 'www.eye-ai.org'\n",
    "# catalog_id = \"21\"\n",
    "# catalog_id = \"eye-ai\"\n",
    "\n",
    "gnl = GlobusNativeLogin(host=host)\n",
    "if gnl.is_logged_in([host]):\n",
    "    print(\"You are already logged in.\")\n",
    "else:\n",
    "    gnl.login([host], no_local_server=True, no_browser=True, refresh_tokens=True, update_bdbag_keychain=True)\n",
    "    print(\"Login Successful\")"
   ],
   "metadata": {
    "collapsed": false,
    "ExecuteTime": {
     "end_time": "2024-11-22T18:34:15.659342Z",
     "start_time": "2024-11-22T18:34:15.607225Z"
    }
   },
   "id": "5854dd2af49b17c6",
   "execution_count": 3
  },
  {
   "cell_type": "code",
   "outputs": [
    {
     "name": "stderr",
     "output_type": "stream",
     "text": [
      "2024-11-22 10:34:15,679 - INFO - Creating client of type <class 'globus_sdk.services.auth.client.native_client.NativeAppAuthClient'> for service \"auth\"\n",
      "2024-11-22 10:34:15,680 - INFO - Finished initializing AuthLoginClient. client_id='8ef15ba9-2b4a-469c-a163-7fd910c9d111', type(authorizer)=<class 'globus_sdk.authorizers.base.NullAuthorizer'>\n",
      "2024-11-22 10:34:17,928 - INFO - Loading dirty model.  Consider commiting and tagging: 1.1.0.post76+git.403fdd90.dirty\n"
     ]
    }
   ],
   "source": [
    "# Variables to configure the rest of the notebook.\n",
    "cache_dir = Path.home() / 'Desktop/test_cache'\n",
    "working_dir = Path.home() / 'Desktop/test_cache'\n",
    "EA = EyeAI(hostname = host, catalog_id = catalog_id, cache_dir= cache_dir, working_dir=working_dir)"
   ],
   "metadata": {
    "collapsed": false,
    "ExecuteTime": {
     "end_time": "2024-11-22T18:34:18.122572Z",
     "start_time": "2024-11-22T18:34:15.659480Z"
    }
   },
   "id": "ca73daf6aef44b55",
   "execution_count": 4
  },
  {
   "cell_type": "markdown",
   "source": [
    "# 1. Configuration"
   ],
   "metadata": {
    "collapsed": false
   },
   "id": "44e0d26997766f"
  },
  {
   "cell_type": "code",
   "outputs": [
    {
     "name": "stderr",
     "output_type": "stream",
     "text": [
      "2024-11-22 10:34:25,652 - INFO - Configuration validation successful!\n",
      "2024-11-22 10:34:28,090 - INFO - Initializing downloader: GenericDownloader v1.7.4 [Python 3.10.15, macOS-10.16-x86_64-i386-64bit]\n",
      "2024-11-22 10:34:28,098 - INFO - Creating client of type <class 'globus_sdk.services.auth.client.native_client.NativeAppAuthClient'> for service \"auth\"\n",
      "2024-11-22 10:34:28,101 - INFO - Finished initializing AuthLoginClient. client_id='8ef15ba9-2b4a-469c-a163-7fd910c9d111', type(authorizer)=<class 'globus_sdk.authorizers.base.NullAuthorizer'>\n",
      "2024-11-22 10:34:28,112 - INFO - Validating credentials for host: dev.eye-ai.org\n",
      "2024-11-22 10:34:28,269 - INFO - Creating bag directory: /var/folders/f8/85_209cx72l8mnt3km_8dx540000gn/T/tmp3z8eeumm/Dataset_2-AGAW\n",
      "2024-11-22 10:34:28,272 - INFO - Creating bag for directory /var/folders/f8/85_209cx72l8mnt3km_8dx540000gn/T/tmp3z8eeumm/Dataset_2-AGAW\n",
      "2024-11-22 10:34:28,276 - INFO - Creating data directory\n",
      "2024-11-22 10:34:28,278 - INFO - Moving /private/var/folders/f8/85_209cx72l8mnt3km_8dx540000gn/T/tmp3z8eeumm/Dataset_2-AGAW/tmpujdhrri9 to data\n",
      "2024-11-22 10:34:28,278 - INFO - Using 1 processes to generate manifests: md5\n",
      "2024-11-22 10:34:28,284 - INFO - Creating bagit.txt\n",
      "2024-11-22 10:34:28,287 - INFO - Creating bag-info.txt\n",
      "2024-11-22 10:34:28,290 - INFO - Creating /var/folders/f8/85_209cx72l8mnt3km_8dx540000gn/T/tmp3z8eeumm/Dataset_2-AGAW/tagmanifest-md5.txt\n",
      "2024-11-22 10:34:28,296 - INFO - Created bag: /var/folders/f8/85_209cx72l8mnt3km_8dx540000gn/T/tmp3z8eeumm/Dataset_2-AGAW\n",
      "2024-11-22 10:34:28,709 - INFO - File [/var/folders/f8/85_209cx72l8mnt3km_8dx540000gn/T/tmp3z8eeumm/Dataset_2-AGAW/data/schema.json] transfer successful. 347.04 KB transferred. Elapsed time: 0:00:00.316214. \n",
      "2024-11-22 10:34:28,767 - INFO - File [/var/folders/f8/85_209cx72l8mnt3km_8dx540000gn/T/tmp3z8eeumm/Dataset_2-AGAW/data/Subject_image_quality_factor/Subject_image_quality_factor.csv] transfer successful. 1.40 KB transferred. Elapsed time: 0:00:00.056556. \n",
      "2024-11-22 10:34:28,823 - INFO - File [/var/folders/f8/85_209cx72l8mnt3km_8dx540000gn/T/tmp3z8eeumm/Dataset_2-AGAW/data/Image_Quality/Image_Quality.csv] transfer successful. 0.71 KB transferred. Elapsed time: 0:00:00.055091. \n",
      "2024-11-22 10:34:28,878 - INFO - File [/var/folders/f8/85_209cx72l8mnt3km_8dx540000gn/T/tmp3z8eeumm/Dataset_2-AGAW/data/Diagnosis_Subject/Diagnosis_Subject.csv] transfer successful. 0.53 KB transferred. Elapsed time: 0:00:00.053329. \n",
      "2024-11-22 10:34:28,935 - INFO - File [/var/folders/f8/85_209cx72l8mnt3km_8dx540000gn/T/tmp3z8eeumm/Dataset_2-AGAW/data/Diagnosis_Observation/Diagnosis_Observation.csv] transfer successful. 0.53 KB transferred. Elapsed time: 0:00:00.055945. \n",
      "2024-11-22 10:34:28,992 - INFO - File [/var/folders/f8/85_209cx72l8mnt3km_8dx540000gn/T/tmp3z8eeumm/Dataset_2-AGAW/data/Diagnosis_Image/Diagnosis_Image.csv] transfer successful. 0.82 KB transferred. Elapsed time: 0:00:00.055205. \n",
      "2024-11-22 10:34:29,050 - INFO - File [/var/folders/f8/85_209cx72l8mnt3km_8dx540000gn/T/tmp3z8eeumm/Dataset_2-AGAW/data/Image_Side/Image_Side.csv] transfer successful. 0.72 KB transferred. Elapsed time: 0:00:00.056943. \n",
      "2024-11-22 10:34:29,108 - INFO - File [/var/folders/f8/85_209cx72l8mnt3km_8dx540000gn/T/tmp3z8eeumm/Dataset_2-AGAW/data/Image_Angle/Image_Angle.csv] transfer successful. 0.92 KB transferred. Elapsed time: 0:00:00.057060. \n",
      "2024-11-22 10:34:29,170 - INFO - File [/var/folders/f8/85_209cx72l8mnt3km_8dx540000gn/T/tmp3z8eeumm/Dataset_2-AGAW/data/Subject_Gender/Subject_Gender.csv] transfer successful. 0.92 KB transferred. Elapsed time: 0:00:00.059807. \n",
      "2024-11-22 10:34:29,234 - INFO - File [/var/folders/f8/85_209cx72l8mnt3km_8dx540000gn/T/tmp3z8eeumm/Dataset_2-AGAW/data/Subject_Ethnicity/Subject_Ethnicity.csv] transfer successful. 2.44 KB transferred. Elapsed time: 0:00:00.056266. \n",
      "2024-11-22 10:34:29,298 - INFO - File [/var/folders/f8/85_209cx72l8mnt3km_8dx540000gn/T/tmp3z8eeumm/Dataset_2-AGAW/data/Subject_hypertension/Subject_hypertension.csv] transfer successful. 0.74 KB transferred. Elapsed time: 0:00:00.062311. \n",
      "2024-11-22 10:34:29,359 - INFO - File [/var/folders/f8/85_209cx72l8mnt3km_8dx540000gn/T/tmp3z8eeumm/Dataset_2-AGAW/data/Subject_insulin_dependent/Subject_insulin_dependent.csv] transfer successful. 0.48 KB transferred. Elapsed time: 0:00:00.060338. \n",
      "2024-11-22 10:34:29,417 - INFO - File [/var/folders/f8/85_209cx72l8mnt3km_8dx540000gn/T/tmp3z8eeumm/Dataset_2-AGAW/data/Subject_pregnant/Subject_pregnant.csv] transfer successful. 0.48 KB transferred. Elapsed time: 0:00:00.056646. \n",
      "2024-11-22 10:34:29,475 - INFO - File [/var/folders/f8/85_209cx72l8mnt3km_8dx540000gn/T/tmp3z8eeumm/Dataset_2-AGAW/data/Subject_cataract/Subject_cataract.csv] transfer successful. 0.27 KB transferred. Elapsed time: 0:00:00.056243. \n",
      "2024-11-22 10:34:29,534 - INFO - File [/var/folders/f8/85_209cx72l8mnt3km_8dx540000gn/T/tmp3z8eeumm/Dataset_2-AGAW/data/Subject_maculopathy/Subject_maculopathy.csv] transfer successful. 0.27 KB transferred. Elapsed time: 0:00:00.058486. \n",
      "2024-11-22 10:34:29,590 - INFO - File [/var/folders/f8/85_209cx72l8mnt3km_8dx540000gn/T/tmp3z8eeumm/Dataset_2-AGAW/data/Subject_other/Subject_other.csv] transfer successful. 0.27 KB transferred. Elapsed time: 0:00:00.054284. \n",
      "2024-11-22 10:34:29,650 - INFO - File [/var/folders/f8/85_209cx72l8mnt3km_8dx540000gn/T/tmp3z8eeumm/Dataset_2-AGAW/data/Subject_image_quality/Subject_image_quality.csv] transfer successful. 1.30 KB transferred. Elapsed time: 0:00:00.057956. \n",
      "2024-11-22 10:34:29,704 - INFO - File [/var/folders/f8/85_209cx72l8mnt3km_8dx540000gn/T/tmp3z8eeumm/Dataset_2-AGAW/data/Image_Output/Image_Output.csv] transfer successful. 0.53 KB transferred. Elapsed time: 0:00:00.051841. \n",
      "2024-11-22 10:34:29,764 - INFO - File [/var/folders/f8/85_209cx72l8mnt3km_8dx540000gn/T/tmp3z8eeumm/Dataset_2-AGAW/data/Diagnosis_Tag/Diagnosis_Tag.csv] transfer successful. 2.36 KB transferred. Elapsed time: 0:00:00.059057. \n",
      "2024-11-22 10:34:29,822 - INFO - File [/var/folders/f8/85_209cx72l8mnt3km_8dx540000gn/T/tmp3z8eeumm/Dataset_2-AGAW/data/Diagnosis_Status/Diagnosis_Status.csv] transfer successful. 0.73 KB transferred. Elapsed time: 0:00:00.055947. \n",
      "2024-11-22 10:34:29,879 - INFO - File [/var/folders/f8/85_209cx72l8mnt3km_8dx540000gn/T/tmp3z8eeumm/Dataset_2-AGAW/data/Image_Tag/Image_Tag.csv] transfer successful. 0.55 KB transferred. Elapsed time: 0:00:00.056722. \n",
      "2024-11-22 10:34:29,935 - INFO - File [/var/folders/f8/85_209cx72l8mnt3km_8dx540000gn/T/tmp3z8eeumm/Dataset_2-AGAW/data/Process_Tag/Process_Tag.csv] transfer successful. 0.33 KB transferred. Elapsed time: 0:00:00.054214. \n",
      "2024-11-22 10:34:29,993 - INFO - File [/var/folders/f8/85_209cx72l8mnt3km_8dx540000gn/T/tmp3z8eeumm/Dataset_2-AGAW/data/Annotation_Function/Annotation_Function.csv] transfer successful. 0.77 KB transferred. Elapsed time: 0:00:00.057172. \n",
      "2024-11-22 10:34:30,048 - INFO - File [/var/folders/f8/85_209cx72l8mnt3km_8dx540000gn/T/tmp3z8eeumm/Dataset_2-AGAW/data/Annotation_Type/Annotation_Type.csv] transfer successful. 0.28 KB transferred. Elapsed time: 0:00:00.054167. \n",
      "2024-11-22 10:34:30,106 - INFO - File [/var/folders/f8/85_209cx72l8mnt3km_8dx540000gn/T/tmp3z8eeumm/Dataset_2-AGAW/data/ICD10_Eye/ICD10_Eye.csv] transfer successful. 44.98 KB transferred. Elapsed time: 0:00:00.056486. \n",
      "2024-11-22 10:34:30,161 - INFO - File [/var/folders/f8/85_209cx72l8mnt3km_8dx540000gn/T/tmp3z8eeumm/Dataset_2-AGAW/data/Report_Type/Report_Type.csv] transfer successful. 0.54 KB transferred. Elapsed time: 0:00:00.053632. \n",
      "2024-11-22 10:34:30,221 - INFO - File [/var/folders/f8/85_209cx72l8mnt3km_8dx540000gn/T/tmp3z8eeumm/Dataset_2-AGAW/data/Condition_Label/Condition_Label.csv] transfer successful. 1.12 KB transferred. Elapsed time: 0:00:00.057755. \n",
      "2024-11-22 10:34:30,276 - INFO - File [/var/folders/f8/85_209cx72l8mnt3km_8dx540000gn/T/tmp3z8eeumm/Dataset_2-AGAW/data/Dataset_Type/Dataset_Type.csv] transfer successful. 1.73 KB transferred. Elapsed time: 0:00:00.054584. \n",
      "2024-11-22 10:34:30,334 - INFO - File [/var/folders/f8/85_209cx72l8mnt3km_8dx540000gn/T/tmp3z8eeumm/Dataset_2-AGAW/data/Feature_Name/Feature_Name.csv] transfer successful. 0.55 KB transferred. Elapsed time: 0:00:00.057244. \n",
      "2024-11-22 10:34:30,406 - INFO - File [/var/folders/f8/85_209cx72l8mnt3km_8dx540000gn/T/tmp3z8eeumm/Dataset_2-AGAW/data/Workflow_Type/Workflow_Type.csv] transfer successful. 5.48 KB transferred. Elapsed time: 0:00:00.070523. \n",
      "2024-11-22 10:34:30,464 - INFO - File [/var/folders/f8/85_209cx72l8mnt3km_8dx540000gn/T/tmp3z8eeumm/Dataset_2-AGAW/data/Execution_Metadata_Type/Execution_Metadata_Type.csv] transfer successful. 0.57 KB transferred. Elapsed time: 0:00:00.056703. \n",
      "2024-11-22 10:34:30,520 - INFO - File [/var/folders/f8/85_209cx72l8mnt3km_8dx540000gn/T/tmp3z8eeumm/Dataset_2-AGAW/data/Execution_Asset_Type/Execution_Asset_Type.csv] transfer successful. 5.84 KB transferred. Elapsed time: 0:00:00.054700. \n",
      "2024-11-22 10:34:30,581 - INFO - File [/var/folders/f8/85_209cx72l8mnt3km_8dx540000gn/T/tmp3z8eeumm/Dataset_2-AGAW/data/Dataset/Image_Dataset.csv] transfer successful. 0.03 KB transferred. Elapsed time: 0:00:00.059431. File was automatically deleted due to empty content.\n",
      "2024-11-22 10:34:30,649 - INFO - File [/var/folders/f8/85_209cx72l8mnt3km_8dx540000gn/T/tmp3z8eeumm/Dataset_2-AGAW/data/Dataset/Image/Image.csv] transfer successful. 0.12 KB transferred. Elapsed time: 0:00:00.066561. File was automatically deleted due to empty content.\n",
      "2024-11-22 10:34:30,708 - INFO - File [/var/folders/f8/85_209cx72l8mnt3km_8dx540000gn/T/tmp3z8eeumm/Dataset_2-AGAW/fetch-manifest_26b01492-ae3e-4704-bf22-a71f9e288121.json] transfer successful. 0.00 KB transferred. Elapsed time: 0:00:00.057142. File was automatically deleted due to empty content.\n",
      "2024-11-22 10:34:30,708 - INFO - Creating remote file manifest from results of query: /attribute/Dataset/RID=2-AGAW/eye-ai:Image_Dataset/eye-ai:Image/!(URL::null::)/url:=URL,length:=Length,filename:=Filename,md5:=MD5?limit=none\n",
      "2024-11-22 10:34:30,771 - INFO - File [/var/folders/f8/85_209cx72l8mnt3km_8dx540000gn/T/tmp3z8eeumm/Dataset_2-AGAW/data/Dataset/Image/Image_Annotation/Image_Annotation.csv] transfer successful. 0.10 KB transferred. Elapsed time: 0:00:00.061743. File was automatically deleted due to empty content.\n",
      "2024-11-22 10:34:30,833 - INFO - File [/var/folders/f8/85_209cx72l8mnt3km_8dx540000gn/T/tmp3z8eeumm/Dataset_2-AGAW/data/Dataset/Image/Image_Annotation/Fundus_Bounding_Box/Fundus_Bounding_Box.csv] transfer successful. 0.05 KB transferred. Elapsed time: 0:00:00.060959. File was automatically deleted due to empty content.\n",
      "2024-11-22 10:34:30,891 - INFO - File [/var/folders/f8/85_209cx72l8mnt3km_8dx540000gn/T/tmp3z8eeumm/Dataset_2-AGAW/fetch-manifest_8e7cf3e7-1fdf-4a1e-86fd-c4db70c1bfd0.json] transfer successful. 0.00 KB transferred. Elapsed time: 0:00:00.056188. File was automatically deleted due to empty content.\n",
      "2024-11-22 10:34:30,892 - INFO - Creating remote file manifest from results of query: /attribute/Dataset/RID=2-AGAW/eye-ai:Image_Dataset/eye-ai:Image/eye-ai:Image_Annotation/eye-ai:Fundus_Bounding_Box/!(URL::null::)/url:=URL,length:=Length,filename:=Filename,md5:=MD5?limit=none\n",
      "2024-11-22 10:34:30,955 - INFO - File [/var/folders/f8/85_209cx72l8mnt3km_8dx540000gn/T/tmp3z8eeumm/Dataset_2-AGAW/data/Dataset/Image/Diagnosis/Diagnosis.csv] transfer successful. 0.14 KB transferred. Elapsed time: 0:00:00.061145. File was automatically deleted due to empty content.\n",
      "2024-11-22 10:34:31,016 - INFO - File [/var/folders/f8/85_209cx72l8mnt3km_8dx540000gn/T/tmp3z8eeumm/Dataset_2-AGAW/data/Dataset/Image/Diagnosis/Process/Process.csv] transfer successful. 0.06 KB transferred. Elapsed time: 0:00:00.057803. File was automatically deleted due to empty content.\n",
      "2024-11-22 10:34:31,078 - INFO - File [/var/folders/f8/85_209cx72l8mnt3km_8dx540000gn/T/tmp3z8eeumm/Dataset_2-AGAW/data/Dataset/Image/Diagnosis/Process/Subject_Diagnosis/Subject_Diagnosis.csv] transfer successful. 0.08 KB transferred. Elapsed time: 0:00:00.060928. File was automatically deleted due to empty content.\n",
      "2024-11-22 10:34:31,155 - INFO - File [/var/folders/f8/85_209cx72l8mnt3km_8dx540000gn/T/tmp3z8eeumm/Dataset_2-AGAW/data/Dataset/Image/Diagnosis/Process/Subject_Diagnosis/Subject/Subject.csv] transfer successful. 0.06 KB transferred. Elapsed time: 0:00:00.074882. File was automatically deleted due to empty content.\n",
      "2024-11-22 10:34:31,228 - INFO - File [/var/folders/f8/85_209cx72l8mnt3km_8dx540000gn/T/tmp3z8eeumm/Dataset_2-AGAW/data/Dataset/Image/Diagnosis/Process/Subject_Diagnosis/Subject/Observation/Observation.csv] transfer successful. 0.40 KB transferred. Elapsed time: 0:00:00.071158. File was automatically deleted due to empty content.\n",
      "2024-11-22 10:34:31,291 - INFO - File [/var/folders/f8/85_209cx72l8mnt3km_8dx540000gn/T/tmp3z8eeumm/Dataset_2-AGAW/data/Dataset/Image/Diagnosis/Process/Subject_Diagnosis/Subject/Observation/Observation_Diagnosis/Observation_Diagnosis.csv] transfer successful. 0.08 KB transferred. Elapsed time: 0:00:00.061803. File was automatically deleted due to empty content.\n",
      "2024-11-22 10:34:31,368 - INFO - File [/var/folders/f8/85_209cx72l8mnt3km_8dx540000gn/T/tmp3z8eeumm/Dataset_2-AGAW/data/Dataset/Image/Diagnosis/Process/Subject_Diagnosis/Subject/Observation/Clinical_Records_Observation.csv] transfer successful. 0.05 KB transferred. Elapsed time: 0:00:00.076079. File was automatically deleted due to empty content.\n",
      "2024-11-22 10:34:31,435 - INFO - File [/var/folders/f8/85_209cx72l8mnt3km_8dx540000gn/T/tmp3z8eeumm/Dataset_2-AGAW/data/Dataset/Image/Diagnosis/Process/Subject_Diagnosis/Subject/Observation/Clinical_Records/Clinical_Records.csv] transfer successful. 0.18 KB transferred. Elapsed time: 0:00:00.065546. File was automatically deleted due to empty content.\n",
      "2024-11-22 10:34:31,505 - INFO - File [/var/folders/f8/85_209cx72l8mnt3km_8dx540000gn/T/tmp3z8eeumm/Dataset_2-AGAW/data/Dataset/Image/Diagnosis/Process/Subject_Diagnosis/Subject/Observation/Clinical_Records/Clinical_Records_ICD10_Eye/Clinical_Records_ICD10_Eye.csv] transfer successful. 0.05 KB transferred. Elapsed time: 0:00:00.068612. File was automatically deleted due to empty content.\n",
      "2024-11-22 10:34:31,573 - INFO - File [/var/folders/f8/85_209cx72l8mnt3km_8dx540000gn/T/tmp3z8eeumm/Dataset_2-AGAW/data/Dataset/Image/Diagnosis/Process/Subject_Diagnosis/Subject/Observation/Report/Report.csv] transfer successful. 0.08 KB transferred. Elapsed time: 0:00:00.066329. File was automatically deleted due to empty content.\n",
      "2024-11-22 10:34:31,639 - INFO - File [/var/folders/f8/85_209cx72l8mnt3km_8dx540000gn/T/tmp3z8eeumm/Dataset_2-AGAW/fetch-manifest_24eac30c-08aa-455d-b47e-fc32c60730d8.json] transfer successful. 0.00 KB transferred. Elapsed time: 0:00:00.064418. File was automatically deleted due to empty content.\n",
      "2024-11-22 10:34:31,639 - INFO - Creating remote file manifest from results of query: /attribute/Dataset/RID=2-AGAW/eye-ai:Image_Dataset/eye-ai:Image/eye-ai:Diagnosis/eye-ai:Process/eye-ai:Subject_Diagnosis/eye-ai:Subject/eye-ai:Observation/eye-ai:Report/!(URL::null::)/url:=URL,length:=Length,filename:=Filename,md5:=MD5?limit=none\n",
      "2024-11-22 10:34:31,711 - INFO - File [/var/folders/f8/85_209cx72l8mnt3km_8dx540000gn/T/tmp3z8eeumm/Dataset_2-AGAW/data/Dataset/Image/Diagnosis/Process/Subject_Diagnosis/Subject/Observation/Report/OCR_RNFL/OCR_RNFL.csv] transfer successful. 0.39 KB transferred. Elapsed time: 0:00:00.070444. File was automatically deleted due to empty content.\n",
      "2024-11-22 10:34:31,784 - INFO - File [/var/folders/f8/85_209cx72l8mnt3km_8dx540000gn/T/tmp3z8eeumm/Dataset_2-AGAW/data/Dataset/Image/Diagnosis/Process/Subject_Diagnosis/Subject/Observation/Report/OCR_HVF/OCR_HVF.csv] transfer successful. 0.26 KB transferred. Elapsed time: 0:00:00.070836. File was automatically deleted due to empty content.\n",
      "2024-11-22 10:34:31,847 - INFO - File [/var/folders/f8/85_209cx72l8mnt3km_8dx540000gn/T/tmp3z8eeumm/Dataset_2-AGAW/data/Dataset/Image/Diagnosis/Process/Subject_Diagnosis/Subject/Subject_image_quality_factor_Subject.csv] transfer successful. 0.06 KB transferred. Elapsed time: 0:00:00.062055. File was automatically deleted due to empty content.\n",
      "2024-11-22 10:34:31,909 - INFO - File [/var/folders/f8/85_209cx72l8mnt3km_8dx540000gn/T/tmp3z8eeumm/Dataset_2-AGAW/data/Dataset/Image/Diagnosis/Process/Observation_Diagnosis/Observation_Diagnosis.csv] transfer successful. 0.08 KB transferred. Elapsed time: 0:00:00.060840. File was automatically deleted due to empty content.\n",
      "2024-11-22 10:34:31,973 - INFO - File [/var/folders/f8/85_209cx72l8mnt3km_8dx540000gn/T/tmp3z8eeumm/Dataset_2-AGAW/data/Dataset/Image/Diagnosis/Process/Observation_Diagnosis/Observation/Observation.csv] transfer successful. 0.40 KB transferred. Elapsed time: 0:00:00.062022. File was automatically deleted due to empty content.\n",
      "2024-11-22 10:34:32,039 - INFO - File [/var/folders/f8/85_209cx72l8mnt3km_8dx540000gn/T/tmp3z8eeumm/Dataset_2-AGAW/data/Dataset/Image/Diagnosis/Process/Observation_Diagnosis/Observation/Clinical_Records_Observation.csv] transfer successful. 0.05 KB transferred. Elapsed time: 0:00:00.064259. File was automatically deleted due to empty content.\n",
      "2024-11-22 10:34:32,120 - INFO - File [/var/folders/f8/85_209cx72l8mnt3km_8dx540000gn/T/tmp3z8eeumm/Dataset_2-AGAW/data/Dataset/Image/Diagnosis/Process/Observation_Diagnosis/Observation/Clinical_Records/Clinical_Records.csv] transfer successful. 0.18 KB transferred. Elapsed time: 0:00:00.080030. File was automatically deleted due to empty content.\n",
      "2024-11-22 10:34:32,192 - INFO - File [/var/folders/f8/85_209cx72l8mnt3km_8dx540000gn/T/tmp3z8eeumm/Dataset_2-AGAW/data/Dataset/Image/Diagnosis/Process/Observation_Diagnosis/Observation/Clinical_Records/Clinical_Records_ICD10_Eye/Clinical_Records_ICD10_Eye.csv] transfer successful. 0.05 KB transferred. Elapsed time: 0:00:00.069127. File was automatically deleted due to empty content.\n",
      "2024-11-22 10:34:32,261 - INFO - File [/var/folders/f8/85_209cx72l8mnt3km_8dx540000gn/T/tmp3z8eeumm/Dataset_2-AGAW/data/Dataset/Image/Diagnosis/Process/Observation_Diagnosis/Observation/Subject/Subject.csv] transfer successful. 0.06 KB transferred. Elapsed time: 0:00:00.067767. File was automatically deleted due to empty content.\n",
      "2024-11-22 10:34:32,324 - INFO - File [/var/folders/f8/85_209cx72l8mnt3km_8dx540000gn/T/tmp3z8eeumm/Dataset_2-AGAW/data/Dataset/Image/Diagnosis/Process/Observation_Diagnosis/Observation/Subject/Subject_Diagnosis/Subject_Diagnosis.csv] transfer successful. 0.08 KB transferred. Elapsed time: 0:00:00.060871. File was automatically deleted due to empty content.\n",
      "2024-11-22 10:34:32,391 - INFO - File [/var/folders/f8/85_209cx72l8mnt3km_8dx540000gn/T/tmp3z8eeumm/Dataset_2-AGAW/data/Dataset/Image/Diagnosis/Process/Observation_Diagnosis/Observation/Subject/Subject_image_quality_factor_Subject.csv] transfer successful. 0.06 KB transferred. Elapsed time: 0:00:00.066241. File was automatically deleted due to empty content.\n",
      "2024-11-22 10:34:32,457 - INFO - File [/var/folders/f8/85_209cx72l8mnt3km_8dx540000gn/T/tmp3z8eeumm/Dataset_2-AGAW/data/Dataset/Image/Diagnosis/Process/Observation_Diagnosis/Observation/Report/Report.csv] transfer successful. 0.08 KB transferred. Elapsed time: 0:00:00.064597. File was automatically deleted due to empty content.\n",
      "2024-11-22 10:34:32,521 - INFO - File [/var/folders/f8/85_209cx72l8mnt3km_8dx540000gn/T/tmp3z8eeumm/Dataset_2-AGAW/fetch-manifest_02539972-7a00-4309-8b45-afbc99177076.json] transfer successful. 0.00 KB transferred. Elapsed time: 0:00:00.062220. File was automatically deleted due to empty content.\n",
      "2024-11-22 10:34:32,522 - INFO - Creating remote file manifest from results of query: /attribute/Dataset/RID=2-AGAW/eye-ai:Image_Dataset/eye-ai:Image/eye-ai:Diagnosis/eye-ai:Process/eye-ai:Observation_Diagnosis/eye-ai:Observation/eye-ai:Report/!(URL::null::)/url:=URL,length:=Length,filename:=Filename,md5:=MD5?limit=none\n",
      "2024-11-22 10:34:32,585 - INFO - File [/var/folders/f8/85_209cx72l8mnt3km_8dx540000gn/T/tmp3z8eeumm/Dataset_2-AGAW/data/Dataset/Image/Diagnosis/Process/Observation_Diagnosis/Observation/Report/OCR_RNFL/OCR_RNFL.csv] transfer successful. 0.39 KB transferred. Elapsed time: 0:00:00.062502. File was automatically deleted due to empty content.\n",
      "2024-11-22 10:34:32,664 - INFO - File [/var/folders/f8/85_209cx72l8mnt3km_8dx540000gn/T/tmp3z8eeumm/Dataset_2-AGAW/data/Dataset/Image/Diagnosis/Process/Observation_Diagnosis/Observation/Report/OCR_HVF/OCR_HVF.csv] transfer successful. 0.26 KB transferred. Elapsed time: 0:00:00.077096. File was automatically deleted due to empty content.\n",
      "2024-11-22 10:34:32,725 - INFO - File [/var/folders/f8/85_209cx72l8mnt3km_8dx540000gn/T/tmp3z8eeumm/Dataset_2-AGAW/data/Dataset/Image/Observation/Observation.csv] transfer successful. 0.40 KB transferred. Elapsed time: 0:00:00.059884. File was automatically deleted due to empty content.\n",
      "2024-11-22 10:34:32,789 - INFO - File [/var/folders/f8/85_209cx72l8mnt3km_8dx540000gn/T/tmp3z8eeumm/Dataset_2-AGAW/data/Dataset/Image/Observation/Observation_Diagnosis/Observation_Diagnosis.csv] transfer successful. 0.08 KB transferred. Elapsed time: 0:00:00.061508. File was automatically deleted due to empty content.\n",
      "2024-11-22 10:34:32,849 - INFO - File [/var/folders/f8/85_209cx72l8mnt3km_8dx540000gn/T/tmp3z8eeumm/Dataset_2-AGAW/data/Dataset/Image/Observation/Observation_Diagnosis/Process/Process.csv] transfer successful. 0.06 KB transferred. Elapsed time: 0:00:00.058487. File was automatically deleted due to empty content.\n",
      "2024-11-22 10:34:32,914 - INFO - File [/var/folders/f8/85_209cx72l8mnt3km_8dx540000gn/T/tmp3z8eeumm/Dataset_2-AGAW/data/Dataset/Image/Observation/Observation_Diagnosis/Process/Subject_Diagnosis/Subject_Diagnosis.csv] transfer successful. 0.08 KB transferred. Elapsed time: 0:00:00.062832. File was automatically deleted due to empty content.\n",
      "2024-11-22 10:34:32,999 - INFO - File [/var/folders/f8/85_209cx72l8mnt3km_8dx540000gn/T/tmp3z8eeumm/Dataset_2-AGAW/data/Dataset/Image/Observation/Observation_Diagnosis/Process/Subject_Diagnosis/Subject/Subject.csv] transfer successful. 0.06 KB transferred. Elapsed time: 0:00:00.081067. File was automatically deleted due to empty content.\n",
      "2024-11-22 10:34:33,065 - INFO - File [/var/folders/f8/85_209cx72l8mnt3km_8dx540000gn/T/tmp3z8eeumm/Dataset_2-AGAW/data/Dataset/Image/Observation/Observation_Diagnosis/Process/Subject_Diagnosis/Subject/Subject_image_quality_factor_Subject.csv] transfer successful. 0.06 KB transferred. Elapsed time: 0:00:00.063931. File was automatically deleted due to empty content.\n",
      "2024-11-22 10:34:33,128 - INFO - File [/var/folders/f8/85_209cx72l8mnt3km_8dx540000gn/T/tmp3z8eeumm/Dataset_2-AGAW/data/Dataset/Image/Observation/Observation_Diagnosis/Process/Diagnosis/Diagnosis.csv] transfer successful. 0.14 KB transferred. Elapsed time: 0:00:00.060230. File was automatically deleted due to empty content.\n",
      "2024-11-22 10:34:33,190 - INFO - File [/var/folders/f8/85_209cx72l8mnt3km_8dx540000gn/T/tmp3z8eeumm/Dataset_2-AGAW/data/Dataset/Image/Observation/Clinical_Records_Observation.csv] transfer successful. 0.05 KB transferred. Elapsed time: 0:00:00.059742. File was automatically deleted due to empty content.\n",
      "2024-11-22 10:34:33,275 - INFO - File [/var/folders/f8/85_209cx72l8mnt3km_8dx540000gn/T/tmp3z8eeumm/Dataset_2-AGAW/data/Dataset/Image/Observation/Clinical_Records/Clinical_Records.csv] transfer successful. 0.18 KB transferred. Elapsed time: 0:00:00.082984. File was automatically deleted due to empty content.\n",
      "2024-11-22 10:34:33,346 - INFO - File [/var/folders/f8/85_209cx72l8mnt3km_8dx540000gn/T/tmp3z8eeumm/Dataset_2-AGAW/data/Dataset/Image/Observation/Clinical_Records/Clinical_Records_ICD10_Eye/Clinical_Records_ICD10_Eye.csv] transfer successful. 0.05 KB transferred. Elapsed time: 0:00:00.069866. File was automatically deleted due to empty content.\n",
      "2024-11-22 10:34:33,405 - INFO - File [/var/folders/f8/85_209cx72l8mnt3km_8dx540000gn/T/tmp3z8eeumm/Dataset_2-AGAW/data/Dataset/Image/Observation/Subject/Subject.csv] transfer successful. 0.06 KB transferred. Elapsed time: 0:00:00.056616. File was automatically deleted due to empty content.\n",
      "2024-11-22 10:34:33,467 - INFO - File [/var/folders/f8/85_209cx72l8mnt3km_8dx540000gn/T/tmp3z8eeumm/Dataset_2-AGAW/data/Dataset/Image/Observation/Subject/Subject_Diagnosis/Subject_Diagnosis.csv] transfer successful. 0.08 KB transferred. Elapsed time: 0:00:00.060769. File was automatically deleted due to empty content.\n",
      "2024-11-22 10:34:33,528 - INFO - File [/var/folders/f8/85_209cx72l8mnt3km_8dx540000gn/T/tmp3z8eeumm/Dataset_2-AGAW/data/Dataset/Image/Observation/Subject/Subject_Diagnosis/Process/Process.csv] transfer successful. 0.06 KB transferred. Elapsed time: 0:00:00.059185. File was automatically deleted due to empty content.\n",
      "2024-11-22 10:34:33,669 - INFO - File [/var/folders/f8/85_209cx72l8mnt3km_8dx540000gn/T/tmp3z8eeumm/Dataset_2-AGAW/data/Dataset/Image/Observation/Subject/Subject_Diagnosis/Process/Observation_Diagnosis/Observation_Diagnosis.csv] transfer successful. 0.08 KB transferred. Elapsed time: 0:00:00.092475. File was automatically deleted due to empty content.\n",
      "2024-11-22 10:34:33,739 - INFO - File [/var/folders/f8/85_209cx72l8mnt3km_8dx540000gn/T/tmp3z8eeumm/Dataset_2-AGAW/data/Dataset/Image/Observation/Subject/Subject_Diagnosis/Process/Diagnosis/Diagnosis.csv] transfer successful. 0.14 KB transferred. Elapsed time: 0:00:00.063906. File was automatically deleted due to empty content.\n",
      "2024-11-22 10:34:33,804 - INFO - File [/var/folders/f8/85_209cx72l8mnt3km_8dx540000gn/T/tmp3z8eeumm/Dataset_2-AGAW/data/Dataset/Image/Observation/Subject/Subject_image_quality_factor_Subject.csv] transfer successful. 0.06 KB transferred. Elapsed time: 0:00:00.062862. File was automatically deleted due to empty content.\n",
      "2024-11-22 10:34:33,866 - INFO - File [/var/folders/f8/85_209cx72l8mnt3km_8dx540000gn/T/tmp3z8eeumm/Dataset_2-AGAW/data/Dataset/Image/Observation/Report/Report.csv] transfer successful. 0.08 KB transferred. Elapsed time: 0:00:00.060125. File was automatically deleted due to empty content.\n",
      "2024-11-22 10:34:33,926 - INFO - File [/var/folders/f8/85_209cx72l8mnt3km_8dx540000gn/T/tmp3z8eeumm/Dataset_2-AGAW/fetch-manifest_db137e60-66cf-4fbc-98db-4e13818cfd08.json] transfer successful. 0.00 KB transferred. Elapsed time: 0:00:00.058501. File was automatically deleted due to empty content.\n",
      "2024-11-22 10:34:33,927 - INFO - Creating remote file manifest from results of query: /attribute/Dataset/RID=2-AGAW/eye-ai:Image_Dataset/eye-ai:Image/eye-ai:Observation/eye-ai:Report/!(URL::null::)/url:=URL,length:=Length,filename:=Filename,md5:=MD5?limit=none\n",
      "2024-11-22 10:34:34,004 - INFO - File [/var/folders/f8/85_209cx72l8mnt3km_8dx540000gn/T/tmp3z8eeumm/Dataset_2-AGAW/data/Dataset/Image/Observation/Report/OCR_RNFL/OCR_RNFL.csv] transfer successful. 0.39 KB transferred. Elapsed time: 0:00:00.075408. File was automatically deleted due to empty content.\n",
      "2024-11-22 10:34:34,069 - INFO - File [/var/folders/f8/85_209cx72l8mnt3km_8dx540000gn/T/tmp3z8eeumm/Dataset_2-AGAW/data/Dataset/Image/Observation/Report/OCR_HVF/OCR_HVF.csv] transfer successful. 0.26 KB transferred. Elapsed time: 0:00:00.063765. File was automatically deleted due to empty content.\n",
      "2024-11-22 10:34:34,127 - INFO - File [/var/folders/f8/85_209cx72l8mnt3km_8dx540000gn/T/tmp3z8eeumm/Dataset_2-AGAW/data/Dataset/Image/Process/Process.csv] transfer successful. 0.06 KB transferred. Elapsed time: 0:00:00.056353. File was automatically deleted due to empty content.\n",
      "2024-11-22 10:34:34,184 - INFO - File [/var/folders/f8/85_209cx72l8mnt3km_8dx540000gn/T/tmp3z8eeumm/Dataset_2-AGAW/data/Dataset/Image/Process/Subject_Diagnosis/Subject_Diagnosis.csv] transfer successful. 0.08 KB transferred. Elapsed time: 0:00:00.055031. File was automatically deleted due to empty content.\n",
      "2024-11-22 10:34:34,246 - INFO - File [/var/folders/f8/85_209cx72l8mnt3km_8dx540000gn/T/tmp3z8eeumm/Dataset_2-AGAW/data/Dataset/Image/Process/Subject_Diagnosis/Subject/Subject.csv] transfer successful. 0.06 KB transferred. Elapsed time: 0:00:00.060531. File was automatically deleted due to empty content.\n",
      "2024-11-22 10:34:34,307 - INFO - File [/var/folders/f8/85_209cx72l8mnt3km_8dx540000gn/T/tmp3z8eeumm/Dataset_2-AGAW/data/Dataset/Image/Process/Subject_Diagnosis/Subject/Observation/Observation.csv] transfer successful. 0.40 KB transferred. Elapsed time: 0:00:00.059208. File was automatically deleted due to empty content.\n",
      "2024-11-22 10:34:34,372 - INFO - File [/var/folders/f8/85_209cx72l8mnt3km_8dx540000gn/T/tmp3z8eeumm/Dataset_2-AGAW/data/Dataset/Image/Process/Subject_Diagnosis/Subject/Observation/Observation_Diagnosis/Observation_Diagnosis.csv] transfer successful. 0.08 KB transferred. Elapsed time: 0:00:00.062430. File was automatically deleted due to empty content.\n",
      "2024-11-22 10:34:34,435 - INFO - File [/var/folders/f8/85_209cx72l8mnt3km_8dx540000gn/T/tmp3z8eeumm/Dataset_2-AGAW/data/Dataset/Image/Process/Subject_Diagnosis/Subject/Observation/Clinical_Records_Observation.csv] transfer successful. 0.05 KB transferred. Elapsed time: 0:00:00.061837. File was automatically deleted due to empty content.\n",
      "2024-11-22 10:34:34,502 - INFO - File [/var/folders/f8/85_209cx72l8mnt3km_8dx540000gn/T/tmp3z8eeumm/Dataset_2-AGAW/data/Dataset/Image/Process/Subject_Diagnosis/Subject/Observation/Clinical_Records/Clinical_Records.csv] transfer successful. 0.18 KB transferred. Elapsed time: 0:00:00.064882. File was automatically deleted due to empty content.\n",
      "2024-11-22 10:34:34,570 - INFO - File [/var/folders/f8/85_209cx72l8mnt3km_8dx540000gn/T/tmp3z8eeumm/Dataset_2-AGAW/data/Dataset/Image/Process/Subject_Diagnosis/Subject/Observation/Clinical_Records/Clinical_Records_ICD10_Eye/Clinical_Records_ICD10_Eye.csv] transfer successful. 0.05 KB transferred. Elapsed time: 0:00:00.066040. File was automatically deleted due to empty content.\n",
      "2024-11-22 10:34:34,635 - INFO - File [/var/folders/f8/85_209cx72l8mnt3km_8dx540000gn/T/tmp3z8eeumm/Dataset_2-AGAW/data/Dataset/Image/Process/Subject_Diagnosis/Subject/Observation/Report/Report.csv] transfer successful. 0.08 KB transferred. Elapsed time: 0:00:00.064161. File was automatically deleted due to empty content.\n",
      "2024-11-22 10:34:34,704 - INFO - File [/var/folders/f8/85_209cx72l8mnt3km_8dx540000gn/T/tmp3z8eeumm/Dataset_2-AGAW/fetch-manifest_bda5215f-7824-4641-8590-0825a4056586.json] transfer successful. 0.00 KB transferred. Elapsed time: 0:00:00.067546. File was automatically deleted due to empty content.\n",
      "2024-11-22 10:34:34,705 - INFO - Creating remote file manifest from results of query: /attribute/Dataset/RID=2-AGAW/eye-ai:Image_Dataset/eye-ai:Image/eye-ai:Process/eye-ai:Subject_Diagnosis/eye-ai:Subject/eye-ai:Observation/eye-ai:Report/!(URL::null::)/url:=URL,length:=Length,filename:=Filename,md5:=MD5?limit=none\n",
      "2024-11-22 10:34:34,773 - INFO - File [/var/folders/f8/85_209cx72l8mnt3km_8dx540000gn/T/tmp3z8eeumm/Dataset_2-AGAW/data/Dataset/Image/Process/Subject_Diagnosis/Subject/Observation/Report/OCR_RNFL/OCR_RNFL.csv] transfer successful. 0.39 KB transferred. Elapsed time: 0:00:00.067345. File was automatically deleted due to empty content.\n",
      "2024-11-22 10:34:34,838 - INFO - File [/var/folders/f8/85_209cx72l8mnt3km_8dx540000gn/T/tmp3z8eeumm/Dataset_2-AGAW/data/Dataset/Image/Process/Subject_Diagnosis/Subject/Observation/Report/OCR_HVF/OCR_HVF.csv] transfer successful. 0.26 KB transferred. Elapsed time: 0:00:00.062701. File was automatically deleted due to empty content.\n",
      "2024-11-22 10:34:34,901 - INFO - File [/var/folders/f8/85_209cx72l8mnt3km_8dx540000gn/T/tmp3z8eeumm/Dataset_2-AGAW/data/Dataset/Image/Process/Subject_Diagnosis/Subject/Subject_image_quality_factor_Subject.csv] transfer successful. 0.06 KB transferred. Elapsed time: 0:00:00.061627. File was automatically deleted due to empty content.\n",
      "2024-11-22 10:34:34,958 - INFO - File [/var/folders/f8/85_209cx72l8mnt3km_8dx540000gn/T/tmp3z8eeumm/Dataset_2-AGAW/data/Dataset/Image/Process/Observation_Diagnosis/Observation_Diagnosis.csv] transfer successful. 0.08 KB transferred. Elapsed time: 0:00:00.056285. File was automatically deleted due to empty content.\n",
      "2024-11-22 10:34:35,019 - INFO - File [/var/folders/f8/85_209cx72l8mnt3km_8dx540000gn/T/tmp3z8eeumm/Dataset_2-AGAW/data/Dataset/Image/Process/Observation_Diagnosis/Observation/Observation.csv] transfer successful. 0.40 KB transferred. Elapsed time: 0:00:00.059216. File was automatically deleted due to empty content.\n",
      "2024-11-22 10:34:35,190 - INFO - File [/var/folders/f8/85_209cx72l8mnt3km_8dx540000gn/T/tmp3z8eeumm/Dataset_2-AGAW/data/Dataset/Image/Process/Observation_Diagnosis/Observation/Clinical_Records_Observation.csv] transfer successful. 0.05 KB transferred. Elapsed time: 0:00:00.168633. File was automatically deleted due to empty content.\n",
      "2024-11-22 10:34:35,264 - INFO - File [/var/folders/f8/85_209cx72l8mnt3km_8dx540000gn/T/tmp3z8eeumm/Dataset_2-AGAW/data/Dataset/Image/Process/Observation_Diagnosis/Observation/Clinical_Records/Clinical_Records.csv] transfer successful. 0.18 KB transferred. Elapsed time: 0:00:00.071853. File was automatically deleted due to empty content.\n",
      "2024-11-22 10:34:35,336 - INFO - File [/var/folders/f8/85_209cx72l8mnt3km_8dx540000gn/T/tmp3z8eeumm/Dataset_2-AGAW/data/Dataset/Image/Process/Observation_Diagnosis/Observation/Clinical_Records/Clinical_Records_ICD10_Eye/Clinical_Records_ICD10_Eye.csv] transfer successful. 0.05 KB transferred. Elapsed time: 0:00:00.071213. File was automatically deleted due to empty content.\n",
      "2024-11-22 10:34:35,402 - INFO - File [/var/folders/f8/85_209cx72l8mnt3km_8dx540000gn/T/tmp3z8eeumm/Dataset_2-AGAW/data/Dataset/Image/Process/Observation_Diagnosis/Observation/Subject/Subject.csv] transfer successful. 0.06 KB transferred. Elapsed time: 0:00:00.064274. File was automatically deleted due to empty content.\n",
      "2024-11-22 10:34:35,470 - INFO - File [/var/folders/f8/85_209cx72l8mnt3km_8dx540000gn/T/tmp3z8eeumm/Dataset_2-AGAW/data/Dataset/Image/Process/Observation_Diagnosis/Observation/Subject/Subject_Diagnosis/Subject_Diagnosis.csv] transfer successful. 0.08 KB transferred. Elapsed time: 0:00:00.066924. File was automatically deleted due to empty content.\n",
      "2024-11-22 10:34:35,536 - INFO - File [/var/folders/f8/85_209cx72l8mnt3km_8dx540000gn/T/tmp3z8eeumm/Dataset_2-AGAW/data/Dataset/Image/Process/Observation_Diagnosis/Observation/Subject/Subject_image_quality_factor_Subject.csv] transfer successful. 0.06 KB transferred. Elapsed time: 0:00:00.063911. File was automatically deleted due to empty content.\n",
      "2024-11-22 10:34:35,600 - INFO - File [/var/folders/f8/85_209cx72l8mnt3km_8dx540000gn/T/tmp3z8eeumm/Dataset_2-AGAW/data/Dataset/Image/Process/Observation_Diagnosis/Observation/Report/Report.csv] transfer successful. 0.08 KB transferred. Elapsed time: 0:00:00.062312. File was automatically deleted due to empty content.\n",
      "2024-11-22 10:34:35,665 - INFO - File [/var/folders/f8/85_209cx72l8mnt3km_8dx540000gn/T/tmp3z8eeumm/Dataset_2-AGAW/fetch-manifest_0be4a4b9-b052-4f7e-a13d-b93d2dfb05ef.json] transfer successful. 0.00 KB transferred. Elapsed time: 0:00:00.063509. File was automatically deleted due to empty content.\n",
      "2024-11-22 10:34:35,666 - INFO - Creating remote file manifest from results of query: /attribute/Dataset/RID=2-AGAW/eye-ai:Image_Dataset/eye-ai:Image/eye-ai:Process/eye-ai:Observation_Diagnosis/eye-ai:Observation/eye-ai:Report/!(URL::null::)/url:=URL,length:=Length,filename:=Filename,md5:=MD5?limit=none\n",
      "2024-11-22 10:34:35,730 - INFO - File [/var/folders/f8/85_209cx72l8mnt3km_8dx540000gn/T/tmp3z8eeumm/Dataset_2-AGAW/data/Dataset/Image/Process/Observation_Diagnosis/Observation/Report/OCR_RNFL/OCR_RNFL.csv] transfer successful. 0.39 KB transferred. Elapsed time: 0:00:00.062652. File was automatically deleted due to empty content.\n",
      "2024-11-22 10:34:35,800 - INFO - File [/var/folders/f8/85_209cx72l8mnt3km_8dx540000gn/T/tmp3z8eeumm/Dataset_2-AGAW/data/Dataset/Image/Process/Observation_Diagnosis/Observation/Report/OCR_HVF/OCR_HVF.csv] transfer successful. 0.26 KB transferred. Elapsed time: 0:00:00.068423. File was automatically deleted due to empty content.\n",
      "2024-11-22 10:34:35,995 - INFO - File [/var/folders/f8/85_209cx72l8mnt3km_8dx540000gn/T/tmp3z8eeumm/Dataset_2-AGAW/data/Dataset/Image/Process/Diagnosis/Diagnosis.csv] transfer successful. 0.14 KB transferred. Elapsed time: 0:00:00.193310. File was automatically deleted due to empty content.\n",
      "2024-11-22 10:34:36,056 - INFO - File [/var/folders/f8/85_209cx72l8mnt3km_8dx540000gn/T/tmp3z8eeumm/Dataset_2-AGAW/data/Dataset/Subject_Dataset.csv] transfer successful. 1.03 KB transferred. Elapsed time: 0:00:00.059349. \n",
      "2024-11-22 10:34:36,120 - INFO - File [/var/folders/f8/85_209cx72l8mnt3km_8dx540000gn/T/tmp3z8eeumm/Dataset_2-AGAW/data/Dataset/Subject/Subject.csv] transfer successful. 1.12 KB transferred. Elapsed time: 0:00:00.063455. \n",
      "2024-11-22 10:34:36,179 - INFO - File [/var/folders/f8/85_209cx72l8mnt3km_8dx540000gn/T/tmp3z8eeumm/Dataset_2-AGAW/data/Dataset/Subject/Subject_Diagnosis/Subject_Diagnosis.csv] transfer successful. 0.08 KB transferred. Elapsed time: 0:00:00.056807. File was automatically deleted due to empty content.\n",
      "2024-11-22 10:34:36,243 - INFO - File [/var/folders/f8/85_209cx72l8mnt3km_8dx540000gn/T/tmp3z8eeumm/Dataset_2-AGAW/data/Dataset/Subject/Subject_Diagnosis/Process/Process.csv] transfer successful. 0.06 KB transferred. Elapsed time: 0:00:00.062024. File was automatically deleted due to empty content.\n",
      "2024-11-22 10:34:36,305 - INFO - File [/var/folders/f8/85_209cx72l8mnt3km_8dx540000gn/T/tmp3z8eeumm/Dataset_2-AGAW/data/Dataset/Subject/Subject_Diagnosis/Process/Image/Image.csv] transfer successful. 0.12 KB transferred. Elapsed time: 0:00:00.060530. File was automatically deleted due to empty content.\n",
      "2024-11-22 10:34:36,369 - INFO - File [/var/folders/f8/85_209cx72l8mnt3km_8dx540000gn/T/tmp3z8eeumm/Dataset_2-AGAW/fetch-manifest_b2850676-cc01-471d-8a67-54f8ae7f2088.json] transfer successful. 0.00 KB transferred. Elapsed time: 0:00:00.062145. File was automatically deleted due to empty content.\n",
      "2024-11-22 10:34:36,369 - INFO - Creating remote file manifest from results of query: /attribute/Dataset/RID=2-AGAW/eye-ai:Subject_Dataset/eye-ai:Subject/eye-ai:Subject_Diagnosis/eye-ai:Process/eye-ai:Image/!(URL::null::)/url:=URL,length:=Length,filename:=Filename,md5:=MD5?limit=none\n",
      "2024-11-22 10:34:36,434 - INFO - File [/var/folders/f8/85_209cx72l8mnt3km_8dx540000gn/T/tmp3z8eeumm/Dataset_2-AGAW/data/Dataset/Subject/Subject_Diagnosis/Process/Image/Observation/Observation.csv] transfer successful. 0.40 KB transferred. Elapsed time: 0:00:00.063225. File was automatically deleted due to empty content.\n",
      "2024-11-22 10:34:36,503 - INFO - File [/var/folders/f8/85_209cx72l8mnt3km_8dx540000gn/T/tmp3z8eeumm/Dataset_2-AGAW/data/Dataset/Subject/Subject_Diagnosis/Process/Image/Observation/Observation_Diagnosis/Observation_Diagnosis.csv] transfer successful. 0.08 KB transferred. Elapsed time: 0:00:00.067966. File was automatically deleted due to empty content.\n",
      "2024-11-22 10:34:36,578 - INFO - File [/var/folders/f8/85_209cx72l8mnt3km_8dx540000gn/T/tmp3z8eeumm/Dataset_2-AGAW/data/Dataset/Subject/Subject_Diagnosis/Process/Image/Observation/Clinical_Records_Observation.csv] transfer successful. 0.05 KB transferred. Elapsed time: 0:00:00.073385. File was automatically deleted due to empty content.\n",
      "2024-11-22 10:34:36,647 - INFO - File [/var/folders/f8/85_209cx72l8mnt3km_8dx540000gn/T/tmp3z8eeumm/Dataset_2-AGAW/data/Dataset/Subject/Subject_Diagnosis/Process/Image/Observation/Clinical_Records/Clinical_Records.csv] transfer successful. 0.18 KB transferred. Elapsed time: 0:00:00.067544. File was automatically deleted due to empty content.\n",
      "2024-11-22 10:34:36,717 - INFO - File [/var/folders/f8/85_209cx72l8mnt3km_8dx540000gn/T/tmp3z8eeumm/Dataset_2-AGAW/data/Dataset/Subject/Subject_Diagnosis/Process/Image/Observation/Clinical_Records/Clinical_Records_ICD10_Eye/Clinical_Records_ICD10_Eye.csv] transfer successful. 0.05 KB transferred. Elapsed time: 0:00:00.067450. File was automatically deleted due to empty content.\n",
      "2024-11-22 10:34:36,786 - INFO - File [/var/folders/f8/85_209cx72l8mnt3km_8dx540000gn/T/tmp3z8eeumm/Dataset_2-AGAW/data/Dataset/Subject/Subject_Diagnosis/Process/Image/Observation/Report/Report.csv] transfer successful. 0.08 KB transferred. Elapsed time: 0:00:00.067512. File was automatically deleted due to empty content.\n",
      "2024-11-22 10:34:36,857 - INFO - File [/var/folders/f8/85_209cx72l8mnt3km_8dx540000gn/T/tmp3z8eeumm/Dataset_2-AGAW/fetch-manifest_aa995f63-06f5-4663-baf7-9026ce70af65.json] transfer successful. 0.00 KB transferred. Elapsed time: 0:00:00.069388. File was automatically deleted due to empty content.\n",
      "2024-11-22 10:34:36,857 - INFO - Creating remote file manifest from results of query: /attribute/Dataset/RID=2-AGAW/eye-ai:Subject_Dataset/eye-ai:Subject/eye-ai:Subject_Diagnosis/eye-ai:Process/eye-ai:Image/eye-ai:Observation/eye-ai:Report/!(URL::null::)/url:=URL,length:=Length,filename:=Filename,md5:=MD5?limit=none\n",
      "2024-11-22 10:34:36,933 - INFO - File [/var/folders/f8/85_209cx72l8mnt3km_8dx540000gn/T/tmp3z8eeumm/Dataset_2-AGAW/data/Dataset/Subject/Subject_Diagnosis/Process/Image/Observation/Report/OCR_RNFL/OCR_RNFL.csv] transfer successful. 0.39 KB transferred. Elapsed time: 0:00:00.074612. File was automatically deleted due to empty content.\n",
      "2024-11-22 10:34:37,008 - INFO - File [/var/folders/f8/85_209cx72l8mnt3km_8dx540000gn/T/tmp3z8eeumm/Dataset_2-AGAW/data/Dataset/Subject/Subject_Diagnosis/Process/Image/Observation/Report/OCR_HVF/OCR_HVF.csv] transfer successful. 0.26 KB transferred. Elapsed time: 0:00:00.072956. File was automatically deleted due to empty content.\n",
      "2024-11-22 10:34:37,078 - INFO - File [/var/folders/f8/85_209cx72l8mnt3km_8dx540000gn/T/tmp3z8eeumm/Dataset_2-AGAW/data/Dataset/Subject/Subject_Diagnosis/Process/Image/Image_Annotation/Image_Annotation.csv] transfer successful. 0.10 KB transferred. Elapsed time: 0:00:00.068597. File was automatically deleted due to empty content.\n",
      "2024-11-22 10:34:37,151 - INFO - File [/var/folders/f8/85_209cx72l8mnt3km_8dx540000gn/T/tmp3z8eeumm/Dataset_2-AGAW/data/Dataset/Subject/Subject_Diagnosis/Process/Image/Image_Annotation/Fundus_Bounding_Box/Fundus_Bounding_Box.csv] transfer successful. 0.05 KB transferred. Elapsed time: 0:00:00.071565. File was automatically deleted due to empty content.\n",
      "2024-11-22 10:34:37,222 - INFO - File [/var/folders/f8/85_209cx72l8mnt3km_8dx540000gn/T/tmp3z8eeumm/Dataset_2-AGAW/fetch-manifest_c4c1acf5-6e2f-479f-ad9b-379396408d2b.json] transfer successful. 0.00 KB transferred. Elapsed time: 0:00:00.069783. File was automatically deleted due to empty content.\n",
      "2024-11-22 10:34:37,223 - INFO - Creating remote file manifest from results of query: /attribute/Dataset/RID=2-AGAW/eye-ai:Subject_Dataset/eye-ai:Subject/eye-ai:Subject_Diagnosis/eye-ai:Process/eye-ai:Image/eye-ai:Image_Annotation/eye-ai:Fundus_Bounding_Box/!(URL::null::)/url:=URL,length:=Length,filename:=Filename,md5:=MD5?limit=none\n",
      "2024-11-22 10:34:37,289 - INFO - File [/var/folders/f8/85_209cx72l8mnt3km_8dx540000gn/T/tmp3z8eeumm/Dataset_2-AGAW/data/Dataset/Subject/Subject_Diagnosis/Process/Image/Diagnosis/Diagnosis.csv] transfer successful. 0.14 KB transferred. Elapsed time: 0:00:00.065371. File was automatically deleted due to empty content.\n",
      "2024-11-22 10:34:37,351 - INFO - File [/var/folders/f8/85_209cx72l8mnt3km_8dx540000gn/T/tmp3z8eeumm/Dataset_2-AGAW/data/Dataset/Subject/Subject_Diagnosis/Process/Observation_Diagnosis/Observation_Diagnosis.csv] transfer successful. 0.08 KB transferred. Elapsed time: 0:00:00.060248. File was automatically deleted due to empty content.\n",
      "2024-11-22 10:34:37,429 - INFO - File [/var/folders/f8/85_209cx72l8mnt3km_8dx540000gn/T/tmp3z8eeumm/Dataset_2-AGAW/data/Dataset/Subject/Subject_Diagnosis/Process/Observation_Diagnosis/Observation/Observation.csv] transfer successful. 0.40 KB transferred. Elapsed time: 0:00:00.075392. File was automatically deleted due to empty content.\n",
      "2024-11-22 10:34:37,503 - INFO - File [/var/folders/f8/85_209cx72l8mnt3km_8dx540000gn/T/tmp3z8eeumm/Dataset_2-AGAW/data/Dataset/Subject/Subject_Diagnosis/Process/Observation_Diagnosis/Observation/Clinical_Records_Observation.csv] transfer successful. 0.05 KB transferred. Elapsed time: 0:00:00.073439. File was automatically deleted due to empty content.\n",
      "2024-11-22 10:34:37,571 - INFO - File [/var/folders/f8/85_209cx72l8mnt3km_8dx540000gn/T/tmp3z8eeumm/Dataset_2-AGAW/data/Dataset/Subject/Subject_Diagnosis/Process/Observation_Diagnosis/Observation/Clinical_Records/Clinical_Records.csv] transfer successful. 0.18 KB transferred. Elapsed time: 0:00:00.065642. File was automatically deleted due to empty content.\n",
      "2024-11-22 10:34:37,645 - INFO - File [/var/folders/f8/85_209cx72l8mnt3km_8dx540000gn/T/tmp3z8eeumm/Dataset_2-AGAW/data/Dataset/Subject/Subject_Diagnosis/Process/Observation_Diagnosis/Observation/Clinical_Records/Clinical_Records_ICD10_Eye/Clinical_Records_ICD10_Eye.csv] transfer successful. 0.05 KB transferred. Elapsed time: 0:00:00.072227. File was automatically deleted due to empty content.\n",
      "2024-11-22 10:34:37,710 - INFO - File [/var/folders/f8/85_209cx72l8mnt3km_8dx540000gn/T/tmp3z8eeumm/Dataset_2-AGAW/data/Dataset/Subject/Subject_Diagnosis/Process/Observation_Diagnosis/Observation/Image/Image.csv] transfer successful. 0.12 KB transferred. Elapsed time: 0:00:00.063758. File was automatically deleted due to empty content.\n",
      "2024-11-22 10:34:37,779 - INFO - File [/var/folders/f8/85_209cx72l8mnt3km_8dx540000gn/T/tmp3z8eeumm/Dataset_2-AGAW/fetch-manifest_912f6b33-8d77-4b50-b8e1-cd1053d3b28b.json] transfer successful. 0.00 KB transferred. Elapsed time: 0:00:00.067675. File was automatically deleted due to empty content.\n",
      "2024-11-22 10:34:37,780 - INFO - Creating remote file manifest from results of query: /attribute/Dataset/RID=2-AGAW/eye-ai:Subject_Dataset/eye-ai:Subject/eye-ai:Subject_Diagnosis/eye-ai:Process/eye-ai:Observation_Diagnosis/eye-ai:Observation/eye-ai:Image/!(URL::null::)/url:=URL,length:=Length,filename:=Filename,md5:=MD5?limit=none\n",
      "2024-11-22 10:34:37,857 - INFO - File [/var/folders/f8/85_209cx72l8mnt3km_8dx540000gn/T/tmp3z8eeumm/Dataset_2-AGAW/data/Dataset/Subject/Subject_Diagnosis/Process/Observation_Diagnosis/Observation/Image/Image_Annotation/Image_Annotation.csv] transfer successful. 0.10 KB transferred. Elapsed time: 0:00:00.075994. File was automatically deleted due to empty content.\n",
      "2024-11-22 10:34:37,927 - INFO - File [/var/folders/f8/85_209cx72l8mnt3km_8dx540000gn/T/tmp3z8eeumm/Dataset_2-AGAW/data/Dataset/Subject/Subject_Diagnosis/Process/Observation_Diagnosis/Observation/Image/Image_Annotation/Fundus_Bounding_Box/Fundus_Bounding_Box.csv] transfer successful. 0.05 KB transferred. Elapsed time: 0:00:00.068435. File was automatically deleted due to empty content.\n",
      "2024-11-22 10:34:37,998 - INFO - File [/var/folders/f8/85_209cx72l8mnt3km_8dx540000gn/T/tmp3z8eeumm/Dataset_2-AGAW/fetch-manifest_640928c8-3f32-42b6-b7a4-b70a46988039.json] transfer successful. 0.00 KB transferred. Elapsed time: 0:00:00.069848. File was automatically deleted due to empty content.\n",
      "2024-11-22 10:34:37,998 - INFO - Creating remote file manifest from results of query: /attribute/Dataset/RID=2-AGAW/eye-ai:Subject_Dataset/eye-ai:Subject/eye-ai:Subject_Diagnosis/eye-ai:Process/eye-ai:Observation_Diagnosis/eye-ai:Observation/eye-ai:Image/eye-ai:Image_Annotation/eye-ai:Fundus_Bounding_Box/!(URL::null::)/url:=URL,length:=Length,filename:=Filename,md5:=MD5?limit=none\n",
      "2024-11-22 10:34:38,067 - INFO - File [/var/folders/f8/85_209cx72l8mnt3km_8dx540000gn/T/tmp3z8eeumm/Dataset_2-AGAW/data/Dataset/Subject/Subject_Diagnosis/Process/Observation_Diagnosis/Observation/Image/Diagnosis/Diagnosis.csv] transfer successful. 0.14 KB transferred. Elapsed time: 0:00:00.065981. File was automatically deleted due to empty content.\n",
      "2024-11-22 10:34:38,132 - INFO - File [/var/folders/f8/85_209cx72l8mnt3km_8dx540000gn/T/tmp3z8eeumm/Dataset_2-AGAW/data/Dataset/Subject/Subject_Diagnosis/Process/Observation_Diagnosis/Observation/Report/Report.csv] transfer successful. 0.08 KB transferred. Elapsed time: 0:00:00.063768. File was automatically deleted due to empty content.\n",
      "2024-11-22 10:34:38,203 - INFO - File [/var/folders/f8/85_209cx72l8mnt3km_8dx540000gn/T/tmp3z8eeumm/Dataset_2-AGAW/fetch-manifest_bc653a9f-d8c2-4fab-a9d2-aada54de704c.json] transfer successful. 0.00 KB transferred. Elapsed time: 0:00:00.070023. File was automatically deleted due to empty content.\n",
      "2024-11-22 10:34:38,204 - INFO - Creating remote file manifest from results of query: /attribute/Dataset/RID=2-AGAW/eye-ai:Subject_Dataset/eye-ai:Subject/eye-ai:Subject_Diagnosis/eye-ai:Process/eye-ai:Observation_Diagnosis/eye-ai:Observation/eye-ai:Report/!(URL::null::)/url:=URL,length:=Length,filename:=Filename,md5:=MD5?limit=none\n",
      "2024-11-22 10:34:38,304 - INFO - File [/var/folders/f8/85_209cx72l8mnt3km_8dx540000gn/T/tmp3z8eeumm/Dataset_2-AGAW/data/Dataset/Subject/Subject_Diagnosis/Process/Observation_Diagnosis/Observation/Report/OCR_RNFL/OCR_RNFL.csv] transfer successful. 0.39 KB transferred. Elapsed time: 0:00:00.099016. File was automatically deleted due to empty content.\n",
      "2024-11-22 10:34:38,379 - INFO - File [/var/folders/f8/85_209cx72l8mnt3km_8dx540000gn/T/tmp3z8eeumm/Dataset_2-AGAW/data/Dataset/Subject/Subject_Diagnosis/Process/Observation_Diagnosis/Observation/Report/OCR_HVF/OCR_HVF.csv] transfer successful. 0.26 KB transferred. Elapsed time: 0:00:00.073832. File was automatically deleted due to empty content.\n",
      "2024-11-22 10:34:38,444 - INFO - File [/var/folders/f8/85_209cx72l8mnt3km_8dx540000gn/T/tmp3z8eeumm/Dataset_2-AGAW/data/Dataset/Subject/Subject_Diagnosis/Process/Diagnosis/Diagnosis.csv] transfer successful. 0.14 KB transferred. Elapsed time: 0:00:00.063601. File was automatically deleted due to empty content.\n",
      "2024-11-22 10:34:38,516 - INFO - File [/var/folders/f8/85_209cx72l8mnt3km_8dx540000gn/T/tmp3z8eeumm/Dataset_2-AGAW/data/Dataset/Subject/Subject_Diagnosis/Process/Diagnosis/Image/Image.csv] transfer successful. 0.12 KB transferred. Elapsed time: 0:00:00.069452. File was automatically deleted due to empty content.\n",
      "2024-11-22 10:34:38,610 - INFO - File [/var/folders/f8/85_209cx72l8mnt3km_8dx540000gn/T/tmp3z8eeumm/Dataset_2-AGAW/fetch-manifest_a7a087d8-e2f8-4f93-8ac6-4c3723e9e178.json] transfer successful. 0.00 KB transferred. Elapsed time: 0:00:00.092720. File was automatically deleted due to empty content.\n",
      "2024-11-22 10:34:38,610 - INFO - Creating remote file manifest from results of query: /attribute/Dataset/RID=2-AGAW/eye-ai:Subject_Dataset/eye-ai:Subject/eye-ai:Subject_Diagnosis/eye-ai:Process/eye-ai:Diagnosis/eye-ai:Image/!(URL::null::)/url:=URL,length:=Length,filename:=Filename,md5:=MD5?limit=none\n",
      "2024-11-22 10:34:38,700 - INFO - File [/var/folders/f8/85_209cx72l8mnt3km_8dx540000gn/T/tmp3z8eeumm/Dataset_2-AGAW/data/Dataset/Subject/Subject_Diagnosis/Process/Diagnosis/Image/Observation/Observation.csv] transfer successful. 0.40 KB transferred. Elapsed time: 0:00:00.088626. File was automatically deleted due to empty content.\n",
      "2024-11-22 10:34:38,782 - INFO - File [/var/folders/f8/85_209cx72l8mnt3km_8dx540000gn/T/tmp3z8eeumm/Dataset_2-AGAW/data/Dataset/Subject/Subject_Diagnosis/Process/Diagnosis/Image/Observation/Observation_Diagnosis/Observation_Diagnosis.csv] transfer successful. 0.08 KB transferred. Elapsed time: 0:00:00.079806. File was automatically deleted due to empty content.\n",
      "2024-11-22 10:34:38,846 - INFO - File [/var/folders/f8/85_209cx72l8mnt3km_8dx540000gn/T/tmp3z8eeumm/Dataset_2-AGAW/data/Dataset/Subject/Subject_Diagnosis/Process/Diagnosis/Image/Observation/Clinical_Records_Observation.csv] transfer successful. 0.05 KB transferred. Elapsed time: 0:00:00.063288. File was automatically deleted due to empty content.\n",
      "2024-11-22 10:34:38,923 - INFO - File [/var/folders/f8/85_209cx72l8mnt3km_8dx540000gn/T/tmp3z8eeumm/Dataset_2-AGAW/data/Dataset/Subject/Subject_Diagnosis/Process/Diagnosis/Image/Observation/Clinical_Records/Clinical_Records.csv] transfer successful. 0.18 KB transferred. Elapsed time: 0:00:00.074939. File was automatically deleted due to empty content.\n",
      "2024-11-22 10:34:39,007 - INFO - File [/var/folders/f8/85_209cx72l8mnt3km_8dx540000gn/T/tmp3z8eeumm/Dataset_2-AGAW/data/Dataset/Subject/Subject_Diagnosis/Process/Diagnosis/Image/Observation/Clinical_Records/Clinical_Records_ICD10_Eye/Clinical_Records_ICD10_Eye.csv] transfer successful. 0.05 KB transferred. Elapsed time: 0:00:00.082764. File was automatically deleted due to empty content.\n",
      "2024-11-22 10:34:39,103 - INFO - File [/var/folders/f8/85_209cx72l8mnt3km_8dx540000gn/T/tmp3z8eeumm/Dataset_2-AGAW/data/Dataset/Subject/Subject_Diagnosis/Process/Diagnosis/Image/Observation/Report/Report.csv] transfer successful. 0.08 KB transferred. Elapsed time: 0:00:00.093258. File was automatically deleted due to empty content.\n",
      "2024-11-22 10:34:39,211 - INFO - File [/var/folders/f8/85_209cx72l8mnt3km_8dx540000gn/T/tmp3z8eeumm/Dataset_2-AGAW/fetch-manifest_13a5d2fd-f958-445d-a6f3-4dc01ba915e3.json] transfer successful. 0.00 KB transferred. Elapsed time: 0:00:00.107109. File was automatically deleted due to empty content.\n",
      "2024-11-22 10:34:39,212 - INFO - Creating remote file manifest from results of query: /attribute/Dataset/RID=2-AGAW/eye-ai:Subject_Dataset/eye-ai:Subject/eye-ai:Subject_Diagnosis/eye-ai:Process/eye-ai:Diagnosis/eye-ai:Image/eye-ai:Observation/eye-ai:Report/!(URL::null::)/url:=URL,length:=Length,filename:=Filename,md5:=MD5?limit=none\n",
      "2024-11-22 10:34:39,317 - INFO - File [/var/folders/f8/85_209cx72l8mnt3km_8dx540000gn/T/tmp3z8eeumm/Dataset_2-AGAW/data/Dataset/Subject/Subject_Diagnosis/Process/Diagnosis/Image/Observation/Report/OCR_RNFL/OCR_RNFL.csv] transfer successful. 0.39 KB transferred. Elapsed time: 0:00:00.103355. File was automatically deleted due to empty content.\n",
      "2024-11-22 10:34:39,395 - INFO - File [/var/folders/f8/85_209cx72l8mnt3km_8dx540000gn/T/tmp3z8eeumm/Dataset_2-AGAW/data/Dataset/Subject/Subject_Diagnosis/Process/Diagnosis/Image/Observation/Report/OCR_HVF/OCR_HVF.csv] transfer successful. 0.26 KB transferred. Elapsed time: 0:00:00.076597. File was automatically deleted due to empty content.\n",
      "2024-11-22 10:34:39,462 - INFO - File [/var/folders/f8/85_209cx72l8mnt3km_8dx540000gn/T/tmp3z8eeumm/Dataset_2-AGAW/data/Dataset/Subject/Subject_Diagnosis/Process/Diagnosis/Image/Image_Annotation/Image_Annotation.csv] transfer successful. 0.10 KB transferred. Elapsed time: 0:00:00.065418. File was automatically deleted due to empty content.\n",
      "2024-11-22 10:34:39,532 - INFO - File [/var/folders/f8/85_209cx72l8mnt3km_8dx540000gn/T/tmp3z8eeumm/Dataset_2-AGAW/data/Dataset/Subject/Subject_Diagnosis/Process/Diagnosis/Image/Image_Annotation/Fundus_Bounding_Box/Fundus_Bounding_Box.csv] transfer successful. 0.05 KB transferred. Elapsed time: 0:00:00.068708. File was automatically deleted due to empty content.\n",
      "2024-11-22 10:34:39,608 - INFO - File [/var/folders/f8/85_209cx72l8mnt3km_8dx540000gn/T/tmp3z8eeumm/Dataset_2-AGAW/fetch-manifest_028af503-8583-4126-833a-cc6b28b96959.json] transfer successful. 0.00 KB transferred. Elapsed time: 0:00:00.074282. File was automatically deleted due to empty content.\n",
      "2024-11-22 10:34:39,608 - INFO - Creating remote file manifest from results of query: /attribute/Dataset/RID=2-AGAW/eye-ai:Subject_Dataset/eye-ai:Subject/eye-ai:Subject_Diagnosis/eye-ai:Process/eye-ai:Diagnosis/eye-ai:Image/eye-ai:Image_Annotation/eye-ai:Fundus_Bounding_Box/!(URL::null::)/url:=URL,length:=Length,filename:=Filename,md5:=MD5?limit=none\n",
      "2024-11-22 10:34:39,672 - INFO - File [/var/folders/f8/85_209cx72l8mnt3km_8dx540000gn/T/tmp3z8eeumm/Dataset_2-AGAW/data/Dataset/Subject/Observation/Observation.csv] transfer successful. 3.00 KB transferred. Elapsed time: 0:00:00.062531. \n",
      "2024-11-22 10:34:39,735 - INFO - File [/var/folders/f8/85_209cx72l8mnt3km_8dx540000gn/T/tmp3z8eeumm/Dataset_2-AGAW/data/Dataset/Subject/Observation/Observation_Diagnosis/Observation_Diagnosis.csv] transfer successful. 0.08 KB transferred. Elapsed time: 0:00:00.061851. File was automatically deleted due to empty content.\n",
      "2024-11-22 10:34:39,795 - INFO - File [/var/folders/f8/85_209cx72l8mnt3km_8dx540000gn/T/tmp3z8eeumm/Dataset_2-AGAW/data/Dataset/Subject/Observation/Observation_Diagnosis/Process/Process.csv] transfer successful. 0.06 KB transferred. Elapsed time: 0:00:00.059270. File was automatically deleted due to empty content.\n",
      "2024-11-22 10:34:39,858 - INFO - File [/var/folders/f8/85_209cx72l8mnt3km_8dx540000gn/T/tmp3z8eeumm/Dataset_2-AGAW/data/Dataset/Subject/Observation/Observation_Diagnosis/Process/Subject_Diagnosis/Subject_Diagnosis.csv] transfer successful. 0.08 KB transferred. Elapsed time: 0:00:00.061265. File was automatically deleted due to empty content.\n",
      "2024-11-22 10:34:39,920 - INFO - File [/var/folders/f8/85_209cx72l8mnt3km_8dx540000gn/T/tmp3z8eeumm/Dataset_2-AGAW/data/Dataset/Subject/Observation/Observation_Diagnosis/Process/Image/Image.csv] transfer successful. 0.12 KB transferred. Elapsed time: 0:00:00.060843. File was automatically deleted due to empty content.\n",
      "2024-11-22 10:34:39,984 - INFO - File [/var/folders/f8/85_209cx72l8mnt3km_8dx540000gn/T/tmp3z8eeumm/Dataset_2-AGAW/fetch-manifest_871b2c5d-8131-4164-925c-36d4c3ce3bb1.json] transfer successful. 0.00 KB transferred. Elapsed time: 0:00:00.062492. File was automatically deleted due to empty content.\n",
      "2024-11-22 10:34:39,984 - INFO - Creating remote file manifest from results of query: /attribute/Dataset/RID=2-AGAW/eye-ai:Subject_Dataset/eye-ai:Subject/eye-ai:Observation/eye-ai:Observation_Diagnosis/eye-ai:Process/eye-ai:Image/!(URL::null::)/url:=URL,length:=Length,filename:=Filename,md5:=MD5?limit=none\n",
      "2024-11-22 10:34:40,049 - INFO - File [/var/folders/f8/85_209cx72l8mnt3km_8dx540000gn/T/tmp3z8eeumm/Dataset_2-AGAW/data/Dataset/Subject/Observation/Observation_Diagnosis/Process/Image/Image_Annotation/Image_Annotation.csv] transfer successful. 0.10 KB transferred. Elapsed time: 0:00:00.064003. File was automatically deleted due to empty content.\n",
      "2024-11-22 10:34:40,118 - INFO - File [/var/folders/f8/85_209cx72l8mnt3km_8dx540000gn/T/tmp3z8eeumm/Dataset_2-AGAW/data/Dataset/Subject/Observation/Observation_Diagnosis/Process/Image/Image_Annotation/Fundus_Bounding_Box/Fundus_Bounding_Box.csv] transfer successful. 0.05 KB transferred. Elapsed time: 0:00:00.067768. File was automatically deleted due to empty content.\n",
      "2024-11-22 10:34:40,193 - INFO - File [/var/folders/f8/85_209cx72l8mnt3km_8dx540000gn/T/tmp3z8eeumm/Dataset_2-AGAW/fetch-manifest_2c3340ee-4385-4af3-bcc5-5577b15ba350.json] transfer successful. 0.00 KB transferred. Elapsed time: 0:00:00.074068. File was automatically deleted due to empty content.\n",
      "2024-11-22 10:34:40,194 - INFO - Creating remote file manifest from results of query: /attribute/Dataset/RID=2-AGAW/eye-ai:Subject_Dataset/eye-ai:Subject/eye-ai:Observation/eye-ai:Observation_Diagnosis/eye-ai:Process/eye-ai:Image/eye-ai:Image_Annotation/eye-ai:Fundus_Bounding_Box/!(URL::null::)/url:=URL,length:=Length,filename:=Filename,md5:=MD5?limit=none\n",
      "2024-11-22 10:34:40,256 - INFO - File [/var/folders/f8/85_209cx72l8mnt3km_8dx540000gn/T/tmp3z8eeumm/Dataset_2-AGAW/data/Dataset/Subject/Observation/Observation_Diagnosis/Process/Image/Diagnosis/Diagnosis.csv] transfer successful. 0.14 KB transferred. Elapsed time: 0:00:00.060819. File was automatically deleted due to empty content.\n",
      "2024-11-22 10:34:40,321 - INFO - File [/var/folders/f8/85_209cx72l8mnt3km_8dx540000gn/T/tmp3z8eeumm/Dataset_2-AGAW/data/Dataset/Subject/Observation/Observation_Diagnosis/Process/Diagnosis/Diagnosis.csv] transfer successful. 0.14 KB transferred. Elapsed time: 0:00:00.063321. File was automatically deleted due to empty content.\n",
      "2024-11-22 10:34:40,387 - INFO - File [/var/folders/f8/85_209cx72l8mnt3km_8dx540000gn/T/tmp3z8eeumm/Dataset_2-AGAW/data/Dataset/Subject/Observation/Observation_Diagnosis/Process/Diagnosis/Image/Image.csv] transfer successful. 0.12 KB transferred. Elapsed time: 0:00:00.064058. File was automatically deleted due to empty content.\n",
      "2024-11-22 10:34:40,454 - INFO - File [/var/folders/f8/85_209cx72l8mnt3km_8dx540000gn/T/tmp3z8eeumm/Dataset_2-AGAW/fetch-manifest_3dc99301-34ae-44ea-900a-516767aa131d.json] transfer successful. 0.00 KB transferred. Elapsed time: 0:00:00.065638. File was automatically deleted due to empty content.\n",
      "2024-11-22 10:34:40,454 - INFO - Creating remote file manifest from results of query: /attribute/Dataset/RID=2-AGAW/eye-ai:Subject_Dataset/eye-ai:Subject/eye-ai:Observation/eye-ai:Observation_Diagnosis/eye-ai:Process/eye-ai:Diagnosis/eye-ai:Image/!(URL::null::)/url:=URL,length:=Length,filename:=Filename,md5:=MD5?limit=none\n",
      "2024-11-22 10:34:40,520 - INFO - File [/var/folders/f8/85_209cx72l8mnt3km_8dx540000gn/T/tmp3z8eeumm/Dataset_2-AGAW/data/Dataset/Subject/Observation/Observation_Diagnosis/Process/Diagnosis/Image/Image_Annotation/Image_Annotation.csv] transfer successful. 0.10 KB transferred. Elapsed time: 0:00:00.064461. File was automatically deleted due to empty content.\n",
      "2024-11-22 10:34:40,588 - INFO - File [/var/folders/f8/85_209cx72l8mnt3km_8dx540000gn/T/tmp3z8eeumm/Dataset_2-AGAW/data/Dataset/Subject/Observation/Observation_Diagnosis/Process/Diagnosis/Image/Image_Annotation/Fundus_Bounding_Box/Fundus_Bounding_Box.csv] transfer successful. 0.05 KB transferred. Elapsed time: 0:00:00.066787. File was automatically deleted due to empty content.\n",
      "2024-11-22 10:34:40,667 - INFO - File [/var/folders/f8/85_209cx72l8mnt3km_8dx540000gn/T/tmp3z8eeumm/Dataset_2-AGAW/fetch-manifest_aeaf3bc9-c631-4b3d-9eac-a793854de3af.json] transfer successful. 0.00 KB transferred. Elapsed time: 0:00:00.078655. File was automatically deleted due to empty content.\n",
      "2024-11-22 10:34:40,668 - INFO - Creating remote file manifest from results of query: /attribute/Dataset/RID=2-AGAW/eye-ai:Subject_Dataset/eye-ai:Subject/eye-ai:Observation/eye-ai:Observation_Diagnosis/eye-ai:Process/eye-ai:Diagnosis/eye-ai:Image/eye-ai:Image_Annotation/eye-ai:Fundus_Bounding_Box/!(URL::null::)/url:=URL,length:=Length,filename:=Filename,md5:=MD5?limit=none\n",
      "2024-11-22 10:34:40,731 - INFO - File [/var/folders/f8/85_209cx72l8mnt3km_8dx540000gn/T/tmp3z8eeumm/Dataset_2-AGAW/data/Dataset/Subject/Observation/Clinical_Records_Observation.csv] transfer successful. 4.01 KB transferred. Elapsed time: 0:00:00.062211. \n",
      "2024-11-22 10:34:40,798 - INFO - File [/var/folders/f8/85_209cx72l8mnt3km_8dx540000gn/T/tmp3z8eeumm/Dataset_2-AGAW/data/Dataset/Subject/Observation/Clinical_Records/Clinical_Records.csv] transfer successful. 5.33 KB transferred. Elapsed time: 0:00:00.066014. \n",
      "2024-11-22 10:34:40,918 - INFO - File [/var/folders/f8/85_209cx72l8mnt3km_8dx540000gn/T/tmp3z8eeumm/Dataset_2-AGAW/data/Dataset/Subject/Observation/Clinical_Records/Clinical_Records_ICD10_Eye/Clinical_Records_ICD10_Eye.csv] transfer successful. 3.63 KB transferred. Elapsed time: 0:00:00.119073. \n",
      "2024-11-22 10:34:40,981 - INFO - File [/var/folders/f8/85_209cx72l8mnt3km_8dx540000gn/T/tmp3z8eeumm/Dataset_2-AGAW/data/Dataset/Subject/Observation/Image/Image.csv] transfer successful. 16.88 KB transferred. Elapsed time: 0:00:00.061997. \n",
      "2024-11-22 10:34:41,048 - INFO - File [/var/folders/f8/85_209cx72l8mnt3km_8dx540000gn/T/tmp3z8eeumm/Dataset_2-AGAW/fetch-manifest_659d33af-0d78-43eb-8bd8-d97e5db2ad53.json] transfer successful. 9.51 KB transferred. Elapsed time: 0:00:00.065171. \n",
      "2024-11-22 10:34:41,049 - INFO - Creating remote file manifest from results of query: /attribute/Dataset/RID=2-AGAW/eye-ai:Subject_Dataset/eye-ai:Subject/eye-ai:Observation/eye-ai:Image/!(URL::null::)/url:=URL,length:=Length,filename:=Filename,md5:=MD5?limit=none\n",
      "2024-11-22 10:34:41,118 - INFO - File [/var/folders/f8/85_209cx72l8mnt3km_8dx540000gn/T/tmp3z8eeumm/Dataset_2-AGAW/data/Dataset/Subject/Observation/Image/Image_Annotation/Image_Annotation.csv] transfer successful. 0.10 KB transferred. Elapsed time: 0:00:00.065589. File was automatically deleted due to empty content.\n",
      "2024-11-22 10:34:41,181 - INFO - File [/var/folders/f8/85_209cx72l8mnt3km_8dx540000gn/T/tmp3z8eeumm/Dataset_2-AGAW/data/Dataset/Subject/Observation/Image/Image_Annotation/Fundus_Bounding_Box/Fundus_Bounding_Box.csv] transfer successful. 0.05 KB transferred. Elapsed time: 0:00:00.061807. File was automatically deleted due to empty content.\n",
      "2024-11-22 10:34:41,245 - INFO - File [/var/folders/f8/85_209cx72l8mnt3km_8dx540000gn/T/tmp3z8eeumm/Dataset_2-AGAW/fetch-manifest_ef3f696b-15b7-47fc-9be8-8b25eb5586c9.json] transfer successful. 0.00 KB transferred. Elapsed time: 0:00:00.061964. File was automatically deleted due to empty content.\n",
      "2024-11-22 10:34:41,245 - INFO - Creating remote file manifest from results of query: /attribute/Dataset/RID=2-AGAW/eye-ai:Subject_Dataset/eye-ai:Subject/eye-ai:Observation/eye-ai:Image/eye-ai:Image_Annotation/eye-ai:Fundus_Bounding_Box/!(URL::null::)/url:=URL,length:=Length,filename:=Filename,md5:=MD5?limit=none\n",
      "2024-11-22 10:34:41,313 - INFO - File [/var/folders/f8/85_209cx72l8mnt3km_8dx540000gn/T/tmp3z8eeumm/Dataset_2-AGAW/data/Dataset/Subject/Observation/Image/Diagnosis/Diagnosis.csv] transfer successful. 0.14 KB transferred. Elapsed time: 0:00:00.066602. File was automatically deleted due to empty content.\n",
      "2024-11-22 10:34:41,379 - INFO - File [/var/folders/f8/85_209cx72l8mnt3km_8dx540000gn/T/tmp3z8eeumm/Dataset_2-AGAW/data/Dataset/Subject/Observation/Image/Diagnosis/Process/Process.csv] transfer successful. 0.06 KB transferred. Elapsed time: 0:00:00.064390. File was automatically deleted due to empty content.\n",
      "2024-11-22 10:34:41,447 - INFO - File [/var/folders/f8/85_209cx72l8mnt3km_8dx540000gn/T/tmp3z8eeumm/Dataset_2-AGAW/data/Dataset/Subject/Observation/Image/Diagnosis/Process/Subject_Diagnosis/Subject_Diagnosis.csv] transfer successful. 0.08 KB transferred. Elapsed time: 0:00:00.065659. File was automatically deleted due to empty content.\n",
      "2024-11-22 10:34:41,513 - INFO - File [/var/folders/f8/85_209cx72l8mnt3km_8dx540000gn/T/tmp3z8eeumm/Dataset_2-AGAW/data/Dataset/Subject/Observation/Image/Diagnosis/Process/Observation_Diagnosis/Observation_Diagnosis.csv] transfer successful. 0.08 KB transferred. Elapsed time: 0:00:00.065056. File was automatically deleted due to empty content.\n",
      "2024-11-22 10:34:41,578 - INFO - File [/var/folders/f8/85_209cx72l8mnt3km_8dx540000gn/T/tmp3z8eeumm/Dataset_2-AGAW/data/Dataset/Subject/Observation/Image/Process/Process.csv] transfer successful. 0.06 KB transferred. Elapsed time: 0:00:00.064709. File was automatically deleted due to empty content.\n",
      "2024-11-22 10:34:41,682 - INFO - File [/var/folders/f8/85_209cx72l8mnt3km_8dx540000gn/T/tmp3z8eeumm/Dataset_2-AGAW/data/Dataset/Subject/Observation/Image/Process/Subject_Diagnosis/Subject_Diagnosis.csv] transfer successful. 0.08 KB transferred. Elapsed time: 0:00:00.102386. File was automatically deleted due to empty content.\n",
      "2024-11-22 10:34:41,789 - INFO - File [/var/folders/f8/85_209cx72l8mnt3km_8dx540000gn/T/tmp3z8eeumm/Dataset_2-AGAW/data/Dataset/Subject/Observation/Image/Process/Observation_Diagnosis/Observation_Diagnosis.csv] transfer successful. 0.08 KB transferred. Elapsed time: 0:00:00.104992. File was automatically deleted due to empty content.\n",
      "2024-11-22 10:34:41,950 - INFO - File [/var/folders/f8/85_209cx72l8mnt3km_8dx540000gn/T/tmp3z8eeumm/Dataset_2-AGAW/data/Dataset/Subject/Observation/Image/Process/Diagnosis/Diagnosis.csv] transfer successful. 0.14 KB transferred. Elapsed time: 0:00:00.160468. File was automatically deleted due to empty content.\n",
      "2024-11-22 10:34:42,013 - INFO - File [/var/folders/f8/85_209cx72l8mnt3km_8dx540000gn/T/tmp3z8eeumm/Dataset_2-AGAW/data/Dataset/Subject/Observation/Report/Report.csv] transfer successful. 5.48 KB transferred. Elapsed time: 0:00:00.061191. \n",
      "2024-11-22 10:34:42,076 - INFO - File [/var/folders/f8/85_209cx72l8mnt3km_8dx540000gn/T/tmp3z8eeumm/Dataset_2-AGAW/fetch-manifest_789316b8-d76e-462d-9983-d0529d07abde.json] transfer successful. 0.00 KB transferred. Elapsed time: 0:00:00.062238. File was automatically deleted due to empty content.\n",
      "2024-11-22 10:34:42,077 - INFO - Creating remote file manifest from results of query: /attribute/Dataset/RID=2-AGAW/eye-ai:Subject_Dataset/eye-ai:Subject/eye-ai:Observation/eye-ai:Report/!(URL::null::)/url:=URL,length:=Length,filename:=Filename,md5:=MD5?limit=none\n",
      "2024-11-22 10:34:42,149 - INFO - File [/var/folders/f8/85_209cx72l8mnt3km_8dx540000gn/T/tmp3z8eeumm/Dataset_2-AGAW/data/Dataset/Subject/Observation/Report/OCR_RNFL/OCR_RNFL.csv] transfer successful. 2.91 KB transferred. Elapsed time: 0:00:00.071723. \n",
      "2024-11-22 10:34:42,264 - INFO - File [/var/folders/f8/85_209cx72l8mnt3km_8dx540000gn/T/tmp3z8eeumm/Dataset_2-AGAW/data/Dataset/Subject/Observation/Report/OCR_HVF/OCR_HVF.csv] transfer successful. 23.72 KB transferred. Elapsed time: 0:00:00.113210. \n",
      "2024-11-22 10:34:42,330 - INFO - File [/var/folders/f8/85_209cx72l8mnt3km_8dx540000gn/T/tmp3z8eeumm/Dataset_2-AGAW/data/Dataset/Subject/Subject_image_quality_factor_Subject.csv] transfer successful. 0.06 KB transferred. Elapsed time: 0:00:00.064920. File was automatically deleted due to empty content.\n",
      "2024-11-22 10:34:42,410 - INFO - File [/var/folders/f8/85_209cx72l8mnt3km_8dx540000gn/T/tmp3z8eeumm/Dataset_2-AGAW/data/Dataset/Process_Dataset.csv] transfer successful. 0.04 KB transferred. Elapsed time: 0:00:00.077457. File was automatically deleted due to empty content.\n",
      "2024-11-22 10:34:42,469 - INFO - File [/var/folders/f8/85_209cx72l8mnt3km_8dx540000gn/T/tmp3z8eeumm/Dataset_2-AGAW/data/Dataset/Process/Process.csv] transfer successful. 0.06 KB transferred. Elapsed time: 0:00:00.057492. File was automatically deleted due to empty content.\n",
      "2024-11-22 10:34:42,529 - INFO - File [/var/folders/f8/85_209cx72l8mnt3km_8dx540000gn/T/tmp3z8eeumm/Dataset_2-AGAW/data/Dataset/Process/Subject_Diagnosis/Subject_Diagnosis.csv] transfer successful. 0.08 KB transferred. Elapsed time: 0:00:00.058560. File was automatically deleted due to empty content.\n",
      "2024-11-22 10:34:42,592 - INFO - File [/var/folders/f8/85_209cx72l8mnt3km_8dx540000gn/T/tmp3z8eeumm/Dataset_2-AGAW/data/Dataset/Process/Subject_Diagnosis/Subject/Subject.csv] transfer successful. 0.06 KB transferred. Elapsed time: 0:00:00.061259. File was automatically deleted due to empty content.\n",
      "2024-11-22 10:34:42,757 - INFO - File [/var/folders/f8/85_209cx72l8mnt3km_8dx540000gn/T/tmp3z8eeumm/Dataset_2-AGAW/data/Dataset/Process/Subject_Diagnosis/Subject/Observation/Observation.csv] transfer successful. 0.40 KB transferred. Elapsed time: 0:00:00.163487. File was automatically deleted due to empty content.\n",
      "2024-11-22 10:34:42,827 - INFO - File [/var/folders/f8/85_209cx72l8mnt3km_8dx540000gn/T/tmp3z8eeumm/Dataset_2-AGAW/data/Dataset/Process/Subject_Diagnosis/Subject/Observation/Observation_Diagnosis/Observation_Diagnosis.csv] transfer successful. 0.08 KB transferred. Elapsed time: 0:00:00.067420. File was automatically deleted due to empty content.\n",
      "2024-11-22 10:34:42,906 - INFO - File [/var/folders/f8/85_209cx72l8mnt3km_8dx540000gn/T/tmp3z8eeumm/Dataset_2-AGAW/data/Dataset/Process/Subject_Diagnosis/Subject/Observation/Clinical_Records_Observation.csv] transfer successful. 0.05 KB transferred. Elapsed time: 0:00:00.077777. File was automatically deleted due to empty content.\n",
      "2024-11-22 10:34:42,987 - INFO - File [/var/folders/f8/85_209cx72l8mnt3km_8dx540000gn/T/tmp3z8eeumm/Dataset_2-AGAW/data/Dataset/Process/Subject_Diagnosis/Subject/Observation/Clinical_Records/Clinical_Records.csv] transfer successful. 0.18 KB transferred. Elapsed time: 0:00:00.078620. File was automatically deleted due to empty content.\n",
      "2024-11-22 10:34:43,073 - INFO - File [/var/folders/f8/85_209cx72l8mnt3km_8dx540000gn/T/tmp3z8eeumm/Dataset_2-AGAW/data/Dataset/Process/Subject_Diagnosis/Subject/Observation/Clinical_Records/Clinical_Records_ICD10_Eye/Clinical_Records_ICD10_Eye.csv] transfer successful. 0.05 KB transferred. Elapsed time: 0:00:00.083560. File was automatically deleted due to empty content.\n",
      "2024-11-22 10:34:43,138 - INFO - File [/var/folders/f8/85_209cx72l8mnt3km_8dx540000gn/T/tmp3z8eeumm/Dataset_2-AGAW/data/Dataset/Process/Subject_Diagnosis/Subject/Observation/Image/Image.csv] transfer successful. 0.12 KB transferred. Elapsed time: 0:00:00.064578. File was automatically deleted due to empty content.\n",
      "2024-11-22 10:34:43,202 - INFO - File [/var/folders/f8/85_209cx72l8mnt3km_8dx540000gn/T/tmp3z8eeumm/Dataset_2-AGAW/fetch-manifest_39d97867-c0db-4bd9-ac15-5c533909d47d.json] transfer successful. 0.00 KB transferred. Elapsed time: 0:00:00.061880. File was automatically deleted due to empty content.\n",
      "2024-11-22 10:34:43,202 - INFO - Creating remote file manifest from results of query: /attribute/Dataset/RID=2-AGAW/eye-ai:Process_Dataset/eye-ai:Process/eye-ai:Subject_Diagnosis/eye-ai:Subject/eye-ai:Observation/eye-ai:Image/!(URL::null::)/url:=URL,length:=Length,filename:=Filename,md5:=MD5?limit=none\n",
      "2024-11-22 10:34:43,268 - INFO - File [/var/folders/f8/85_209cx72l8mnt3km_8dx540000gn/T/tmp3z8eeumm/Dataset_2-AGAW/data/Dataset/Process/Subject_Diagnosis/Subject/Observation/Image/Image_Annotation/Image_Annotation.csv] transfer successful. 0.10 KB transferred. Elapsed time: 0:00:00.063745. File was automatically deleted due to empty content.\n",
      "2024-11-22 10:34:43,334 - INFO - File [/var/folders/f8/85_209cx72l8mnt3km_8dx540000gn/T/tmp3z8eeumm/Dataset_2-AGAW/data/Dataset/Process/Subject_Diagnosis/Subject/Observation/Image/Image_Annotation/Fundus_Bounding_Box/Fundus_Bounding_Box.csv] transfer successful. 0.05 KB transferred. Elapsed time: 0:00:00.065044. File was automatically deleted due to empty content.\n",
      "2024-11-22 10:34:43,404 - INFO - File [/var/folders/f8/85_209cx72l8mnt3km_8dx540000gn/T/tmp3z8eeumm/Dataset_2-AGAW/fetch-manifest_d90d8824-d926-4bdd-a3c1-193b95c825af.json] transfer successful. 0.00 KB transferred. Elapsed time: 0:00:00.068989. File was automatically deleted due to empty content.\n",
      "2024-11-22 10:34:43,405 - INFO - Creating remote file manifest from results of query: /attribute/Dataset/RID=2-AGAW/eye-ai:Process_Dataset/eye-ai:Process/eye-ai:Subject_Diagnosis/eye-ai:Subject/eye-ai:Observation/eye-ai:Image/eye-ai:Image_Annotation/eye-ai:Fundus_Bounding_Box/!(URL::null::)/url:=URL,length:=Length,filename:=Filename,md5:=MD5?limit=none\n",
      "2024-11-22 10:34:43,470 - INFO - File [/var/folders/f8/85_209cx72l8mnt3km_8dx540000gn/T/tmp3z8eeumm/Dataset_2-AGAW/data/Dataset/Process/Subject_Diagnosis/Subject/Observation/Image/Diagnosis/Diagnosis.csv] transfer successful. 0.14 KB transferred. Elapsed time: 0:00:00.064363. File was automatically deleted due to empty content.\n",
      "2024-11-22 10:34:43,538 - INFO - File [/var/folders/f8/85_209cx72l8mnt3km_8dx540000gn/T/tmp3z8eeumm/Dataset_2-AGAW/data/Dataset/Process/Subject_Diagnosis/Subject/Observation/Report/Report.csv] transfer successful. 0.08 KB transferred. Elapsed time: 0:00:00.066239. File was automatically deleted due to empty content.\n",
      "2024-11-22 10:34:43,606 - INFO - File [/var/folders/f8/85_209cx72l8mnt3km_8dx540000gn/T/tmp3z8eeumm/Dataset_2-AGAW/fetch-manifest_26af532f-9da2-4b20-be5f-ebf4bb9fcbb7.json] transfer successful. 0.00 KB transferred. Elapsed time: 0:00:00.067036. File was automatically deleted due to empty content.\n",
      "2024-11-22 10:34:43,606 - INFO - Creating remote file manifest from results of query: /attribute/Dataset/RID=2-AGAW/eye-ai:Process_Dataset/eye-ai:Process/eye-ai:Subject_Diagnosis/eye-ai:Subject/eye-ai:Observation/eye-ai:Report/!(URL::null::)/url:=URL,length:=Length,filename:=Filename,md5:=MD5?limit=none\n",
      "2024-11-22 10:34:43,672 - INFO - File [/var/folders/f8/85_209cx72l8mnt3km_8dx540000gn/T/tmp3z8eeumm/Dataset_2-AGAW/data/Dataset/Process/Subject_Diagnosis/Subject/Observation/Report/OCR_RNFL/OCR_RNFL.csv] transfer successful. 0.39 KB transferred. Elapsed time: 0:00:00.063212. File was automatically deleted due to empty content.\n",
      "2024-11-22 10:34:43,740 - INFO - File [/var/folders/f8/85_209cx72l8mnt3km_8dx540000gn/T/tmp3z8eeumm/Dataset_2-AGAW/data/Dataset/Process/Subject_Diagnosis/Subject/Observation/Report/OCR_HVF/OCR_HVF.csv] transfer successful. 0.26 KB transferred. Elapsed time: 0:00:00.067401. File was automatically deleted due to empty content.\n",
      "2024-11-22 10:34:43,803 - INFO - File [/var/folders/f8/85_209cx72l8mnt3km_8dx540000gn/T/tmp3z8eeumm/Dataset_2-AGAW/data/Dataset/Process/Subject_Diagnosis/Subject/Subject_image_quality_factor_Subject.csv] transfer successful. 0.06 KB transferred. Elapsed time: 0:00:00.061311. File was automatically deleted due to empty content.\n",
      "2024-11-22 10:34:43,979 - INFO - File [/var/folders/f8/85_209cx72l8mnt3km_8dx540000gn/T/tmp3z8eeumm/Dataset_2-AGAW/data/Dataset/Process/Image/Image.csv] transfer successful. 0.12 KB transferred. Elapsed time: 0:00:00.174005. File was automatically deleted due to empty content.\n",
      "2024-11-22 10:34:44,043 - INFO - File [/var/folders/f8/85_209cx72l8mnt3km_8dx540000gn/T/tmp3z8eeumm/Dataset_2-AGAW/fetch-manifest_d0b88cbe-ecd3-4f09-bebc-816178cb179a.json] transfer successful. 0.00 KB transferred. Elapsed time: 0:00:00.063241. File was automatically deleted due to empty content.\n",
      "2024-11-22 10:34:44,043 - INFO - Creating remote file manifest from results of query: /attribute/Dataset/RID=2-AGAW/eye-ai:Process_Dataset/eye-ai:Process/eye-ai:Image/!(URL::null::)/url:=URL,length:=Length,filename:=Filename,md5:=MD5?limit=none\n",
      "2024-11-22 10:34:44,105 - INFO - File [/var/folders/f8/85_209cx72l8mnt3km_8dx540000gn/T/tmp3z8eeumm/Dataset_2-AGAW/data/Dataset/Process/Image/Observation/Observation.csv] transfer successful. 0.40 KB transferred. Elapsed time: 0:00:00.059676. File was automatically deleted due to empty content.\n",
      "2024-11-22 10:34:44,170 - INFO - File [/var/folders/f8/85_209cx72l8mnt3km_8dx540000gn/T/tmp3z8eeumm/Dataset_2-AGAW/data/Dataset/Process/Image/Observation/Observation_Diagnosis/Observation_Diagnosis.csv] transfer successful. 0.08 KB transferred. Elapsed time: 0:00:00.064146. File was automatically deleted due to empty content.\n",
      "2024-11-22 10:34:44,235 - INFO - File [/var/folders/f8/85_209cx72l8mnt3km_8dx540000gn/T/tmp3z8eeumm/Dataset_2-AGAW/data/Dataset/Process/Image/Observation/Clinical_Records_Observation.csv] transfer successful. 0.05 KB transferred. Elapsed time: 0:00:00.062464. File was automatically deleted due to empty content.\n",
      "2024-11-22 10:34:44,309 - INFO - File [/var/folders/f8/85_209cx72l8mnt3km_8dx540000gn/T/tmp3z8eeumm/Dataset_2-AGAW/data/Dataset/Process/Image/Observation/Clinical_Records/Clinical_Records.csv] transfer successful. 0.18 KB transferred. Elapsed time: 0:00:00.072307. File was automatically deleted due to empty content.\n",
      "2024-11-22 10:34:44,392 - INFO - File [/var/folders/f8/85_209cx72l8mnt3km_8dx540000gn/T/tmp3z8eeumm/Dataset_2-AGAW/data/Dataset/Process/Image/Observation/Clinical_Records/Clinical_Records_ICD10_Eye/Clinical_Records_ICD10_Eye.csv] transfer successful. 0.05 KB transferred. Elapsed time: 0:00:00.081377. File was automatically deleted due to empty content.\n",
      "2024-11-22 10:34:44,461 - INFO - File [/var/folders/f8/85_209cx72l8mnt3km_8dx540000gn/T/tmp3z8eeumm/Dataset_2-AGAW/data/Dataset/Process/Image/Observation/Subject/Subject.csv] transfer successful. 0.06 KB transferred. Elapsed time: 0:00:00.066439. File was automatically deleted due to empty content.\n",
      "2024-11-22 10:34:44,526 - INFO - File [/var/folders/f8/85_209cx72l8mnt3km_8dx540000gn/T/tmp3z8eeumm/Dataset_2-AGAW/data/Dataset/Process/Image/Observation/Subject/Subject_Diagnosis/Subject_Diagnosis.csv] transfer successful. 0.08 KB transferred. Elapsed time: 0:00:00.064233. File was automatically deleted due to empty content.\n",
      "2024-11-22 10:34:44,609 - INFO - File [/var/folders/f8/85_209cx72l8mnt3km_8dx540000gn/T/tmp3z8eeumm/Dataset_2-AGAW/data/Dataset/Process/Image/Observation/Subject/Subject_image_quality_factor_Subject.csv] transfer successful. 0.06 KB transferred. Elapsed time: 0:00:00.080782. File was automatically deleted due to empty content.\n",
      "2024-11-22 10:34:44,675 - INFO - File [/var/folders/f8/85_209cx72l8mnt3km_8dx540000gn/T/tmp3z8eeumm/Dataset_2-AGAW/data/Dataset/Process/Image/Observation/Report/Report.csv] transfer successful. 0.08 KB transferred. Elapsed time: 0:00:00.064772. File was automatically deleted due to empty content.\n",
      "2024-11-22 10:34:44,738 - INFO - File [/var/folders/f8/85_209cx72l8mnt3km_8dx540000gn/T/tmp3z8eeumm/Dataset_2-AGAW/fetch-manifest_6b203fcb-ac7d-4405-9a72-20ad4ff79d45.json] transfer successful. 0.00 KB transferred. Elapsed time: 0:00:00.061848. File was automatically deleted due to empty content.\n",
      "2024-11-22 10:34:44,739 - INFO - Creating remote file manifest from results of query: /attribute/Dataset/RID=2-AGAW/eye-ai:Process_Dataset/eye-ai:Process/eye-ai:Image/eye-ai:Observation/eye-ai:Report/!(URL::null::)/url:=URL,length:=Length,filename:=Filename,md5:=MD5?limit=none\n",
      "2024-11-22 10:34:44,813 - INFO - File [/var/folders/f8/85_209cx72l8mnt3km_8dx540000gn/T/tmp3z8eeumm/Dataset_2-AGAW/data/Dataset/Process/Image/Observation/Report/OCR_RNFL/OCR_RNFL.csv] transfer successful. 0.39 KB transferred. Elapsed time: 0:00:00.071880. File was automatically deleted due to empty content.\n",
      "2024-11-22 10:34:44,886 - INFO - File [/var/folders/f8/85_209cx72l8mnt3km_8dx540000gn/T/tmp3z8eeumm/Dataset_2-AGAW/data/Dataset/Process/Image/Observation/Report/OCR_HVF/OCR_HVF.csv] transfer successful. 0.26 KB transferred. Elapsed time: 0:00:00.071010. File was automatically deleted due to empty content.\n",
      "2024-11-22 10:34:44,944 - INFO - File [/var/folders/f8/85_209cx72l8mnt3km_8dx540000gn/T/tmp3z8eeumm/Dataset_2-AGAW/data/Dataset/Process/Image/Image_Annotation/Image_Annotation.csv] transfer successful. 0.10 KB transferred. Elapsed time: 0:00:00.057321. File was automatically deleted due to empty content.\n",
      "2024-11-22 10:34:45,006 - INFO - File [/var/folders/f8/85_209cx72l8mnt3km_8dx540000gn/T/tmp3z8eeumm/Dataset_2-AGAW/data/Dataset/Process/Image/Image_Annotation/Fundus_Bounding_Box/Fundus_Bounding_Box.csv] transfer successful. 0.05 KB transferred. Elapsed time: 0:00:00.060446. File was automatically deleted due to empty content.\n",
      "2024-11-22 10:34:45,067 - INFO - File [/var/folders/f8/85_209cx72l8mnt3km_8dx540000gn/T/tmp3z8eeumm/Dataset_2-AGAW/fetch-manifest_81bc99a2-3c32-4ccf-9b5e-d7cafe7fec84.json] transfer successful. 0.00 KB transferred. Elapsed time: 0:00:00.059333. File was automatically deleted due to empty content.\n",
      "2024-11-22 10:34:45,067 - INFO - Creating remote file manifest from results of query: /attribute/Dataset/RID=2-AGAW/eye-ai:Process_Dataset/eye-ai:Process/eye-ai:Image/eye-ai:Image_Annotation/eye-ai:Fundus_Bounding_Box/!(URL::null::)/url:=URL,length:=Length,filename:=Filename,md5:=MD5?limit=none\n",
      "2024-11-22 10:34:45,232 - INFO - File [/var/folders/f8/85_209cx72l8mnt3km_8dx540000gn/T/tmp3z8eeumm/Dataset_2-AGAW/data/Dataset/Process/Image/Diagnosis/Diagnosis.csv] transfer successful. 0.14 KB transferred. Elapsed time: 0:00:00.163621. File was automatically deleted due to empty content.\n",
      "2024-11-22 10:34:45,298 - INFO - File [/var/folders/f8/85_209cx72l8mnt3km_8dx540000gn/T/tmp3z8eeumm/Dataset_2-AGAW/data/Dataset/Process/Observation_Diagnosis/Observation_Diagnosis.csv] transfer successful. 0.08 KB transferred. Elapsed time: 0:00:00.063433. File was automatically deleted due to empty content.\n",
      "2024-11-22 10:34:45,376 - INFO - File [/var/folders/f8/85_209cx72l8mnt3km_8dx540000gn/T/tmp3z8eeumm/Dataset_2-AGAW/data/Dataset/Process/Observation_Diagnosis/Observation/Observation.csv] transfer successful. 0.40 KB transferred. Elapsed time: 0:00:00.076839. File was automatically deleted due to empty content.\n",
      "2024-11-22 10:34:45,448 - INFO - File [/var/folders/f8/85_209cx72l8mnt3km_8dx540000gn/T/tmp3z8eeumm/Dataset_2-AGAW/data/Dataset/Process/Observation_Diagnosis/Observation/Clinical_Records_Observation.csv] transfer successful. 0.05 KB transferred. Elapsed time: 0:00:00.070651. File was automatically deleted due to empty content.\n",
      "2024-11-22 10:34:45,542 - INFO - File [/var/folders/f8/85_209cx72l8mnt3km_8dx540000gn/T/tmp3z8eeumm/Dataset_2-AGAW/data/Dataset/Process/Observation_Diagnosis/Observation/Clinical_Records/Clinical_Records.csv] transfer successful. 0.18 KB transferred. Elapsed time: 0:00:00.092438. File was automatically deleted due to empty content.\n",
      "2024-11-22 10:34:45,636 - INFO - File [/var/folders/f8/85_209cx72l8mnt3km_8dx540000gn/T/tmp3z8eeumm/Dataset_2-AGAW/data/Dataset/Process/Observation_Diagnosis/Observation/Clinical_Records/Clinical_Records_ICD10_Eye/Clinical_Records_ICD10_Eye.csv] transfer successful. 0.05 KB transferred. Elapsed time: 0:00:00.091664. File was automatically deleted due to empty content.\n",
      "2024-11-22 10:34:45,712 - INFO - File [/var/folders/f8/85_209cx72l8mnt3km_8dx540000gn/T/tmp3z8eeumm/Dataset_2-AGAW/data/Dataset/Process/Observation_Diagnosis/Observation/Image/Image.csv] transfer successful. 0.12 KB transferred. Elapsed time: 0:00:00.071647. File was automatically deleted due to empty content.\n",
      "2024-11-22 10:34:45,778 - INFO - File [/var/folders/f8/85_209cx72l8mnt3km_8dx540000gn/T/tmp3z8eeumm/Dataset_2-AGAW/fetch-manifest_cda6ab22-dde1-4951-949d-a9a8116fe739.json] transfer successful. 0.00 KB transferred. Elapsed time: 0:00:00.064109. File was automatically deleted due to empty content.\n",
      "2024-11-22 10:34:45,778 - INFO - Creating remote file manifest from results of query: /attribute/Dataset/RID=2-AGAW/eye-ai:Process_Dataset/eye-ai:Process/eye-ai:Observation_Diagnosis/eye-ai:Observation/eye-ai:Image/!(URL::null::)/url:=URL,length:=Length,filename:=Filename,md5:=MD5?limit=none\n",
      "2024-11-22 10:34:45,840 - INFO - File [/var/folders/f8/85_209cx72l8mnt3km_8dx540000gn/T/tmp3z8eeumm/Dataset_2-AGAW/data/Dataset/Process/Observation_Diagnosis/Observation/Image/Image_Annotation/Image_Annotation.csv] transfer successful. 0.10 KB transferred. Elapsed time: 0:00:00.059976. File was automatically deleted due to empty content.\n",
      "2024-11-22 10:34:45,909 - INFO - File [/var/folders/f8/85_209cx72l8mnt3km_8dx540000gn/T/tmp3z8eeumm/Dataset_2-AGAW/data/Dataset/Process/Observation_Diagnosis/Observation/Image/Image_Annotation/Fundus_Bounding_Box/Fundus_Bounding_Box.csv] transfer successful. 0.05 KB transferred. Elapsed time: 0:00:00.068352. File was automatically deleted due to empty content.\n",
      "2024-11-22 10:34:45,978 - INFO - File [/var/folders/f8/85_209cx72l8mnt3km_8dx540000gn/T/tmp3z8eeumm/Dataset_2-AGAW/fetch-manifest_c1090556-154a-4e0f-8525-098d727192ed.json] transfer successful. 0.00 KB transferred. Elapsed time: 0:00:00.067370. File was automatically deleted due to empty content.\n",
      "2024-11-22 10:34:45,980 - INFO - Creating remote file manifest from results of query: /attribute/Dataset/RID=2-AGAW/eye-ai:Process_Dataset/eye-ai:Process/eye-ai:Observation_Diagnosis/eye-ai:Observation/eye-ai:Image/eye-ai:Image_Annotation/eye-ai:Fundus_Bounding_Box/!(URL::null::)/url:=URL,length:=Length,filename:=Filename,md5:=MD5?limit=none\n",
      "2024-11-22 10:34:46,070 - INFO - File [/var/folders/f8/85_209cx72l8mnt3km_8dx540000gn/T/tmp3z8eeumm/Dataset_2-AGAW/data/Dataset/Process/Observation_Diagnosis/Observation/Image/Diagnosis/Diagnosis.csv] transfer successful. 0.14 KB transferred. Elapsed time: 0:00:00.084853. File was automatically deleted due to empty content.\n",
      "2024-11-22 10:34:46,214 - INFO - File [/var/folders/f8/85_209cx72l8mnt3km_8dx540000gn/T/tmp3z8eeumm/Dataset_2-AGAW/data/Dataset/Process/Observation_Diagnosis/Observation/Subject/Subject.csv] transfer successful. 0.06 KB transferred. Elapsed time: 0:00:00.093784. File was automatically deleted due to empty content.\n",
      "2024-11-22 10:34:46,318 - INFO - File [/var/folders/f8/85_209cx72l8mnt3km_8dx540000gn/T/tmp3z8eeumm/Dataset_2-AGAW/data/Dataset/Process/Observation_Diagnosis/Observation/Subject/Subject_Diagnosis/Subject_Diagnosis.csv] transfer successful. 0.08 KB transferred. Elapsed time: 0:00:00.095183. File was automatically deleted due to empty content.\n",
      "2024-11-22 10:34:46,383 - INFO - File [/var/folders/f8/85_209cx72l8mnt3km_8dx540000gn/T/tmp3z8eeumm/Dataset_2-AGAW/data/Dataset/Process/Observation_Diagnosis/Observation/Subject/Subject_image_quality_factor_Subject.csv] transfer successful. 0.06 KB transferred. Elapsed time: 0:00:00.062900. File was automatically deleted due to empty content.\n",
      "2024-11-22 10:34:46,446 - INFO - File [/var/folders/f8/85_209cx72l8mnt3km_8dx540000gn/T/tmp3z8eeumm/Dataset_2-AGAW/data/Dataset/Process/Observation_Diagnosis/Observation/Report/Report.csv] transfer successful. 0.08 KB transferred. Elapsed time: 0:00:00.061434. File was automatically deleted due to empty content.\n",
      "2024-11-22 10:34:46,505 - INFO - File [/var/folders/f8/85_209cx72l8mnt3km_8dx540000gn/T/tmp3z8eeumm/Dataset_2-AGAW/fetch-manifest_43a92694-350c-46e3-bf00-3c091d3963a0.json] transfer successful. 0.00 KB transferred. Elapsed time: 0:00:00.057944. File was automatically deleted due to empty content.\n",
      "2024-11-22 10:34:46,506 - INFO - Creating remote file manifest from results of query: /attribute/Dataset/RID=2-AGAW/eye-ai:Process_Dataset/eye-ai:Process/eye-ai:Observation_Diagnosis/eye-ai:Observation/eye-ai:Report/!(URL::null::)/url:=URL,length:=Length,filename:=Filename,md5:=MD5?limit=none\n",
      "2024-11-22 10:34:46,570 - INFO - File [/var/folders/f8/85_209cx72l8mnt3km_8dx540000gn/T/tmp3z8eeumm/Dataset_2-AGAW/data/Dataset/Process/Observation_Diagnosis/Observation/Report/OCR_RNFL/OCR_RNFL.csv] transfer successful. 0.39 KB transferred. Elapsed time: 0:00:00.063057. File was automatically deleted due to empty content.\n",
      "2024-11-22 10:34:46,636 - INFO - File [/var/folders/f8/85_209cx72l8mnt3km_8dx540000gn/T/tmp3z8eeumm/Dataset_2-AGAW/data/Dataset/Process/Observation_Diagnosis/Observation/Report/OCR_HVF/OCR_HVF.csv] transfer successful. 0.26 KB transferred. Elapsed time: 0:00:00.063881. File was automatically deleted due to empty content.\n",
      "2024-11-22 10:34:46,771 - INFO - File [/var/folders/f8/85_209cx72l8mnt3km_8dx540000gn/T/tmp3z8eeumm/Dataset_2-AGAW/data/Dataset/Process/Diagnosis/Diagnosis.csv] transfer successful. 0.14 KB transferred. Elapsed time: 0:00:00.132940. File was automatically deleted due to empty content.\n",
      "2024-11-22 10:34:46,919 - INFO - File [/var/folders/f8/85_209cx72l8mnt3km_8dx540000gn/T/tmp3z8eeumm/Dataset_2-AGAW/data/Dataset/Process/Diagnosis/Image/Image.csv] transfer successful. 0.12 KB transferred. Elapsed time: 0:00:00.146357. File was automatically deleted due to empty content.\n",
      "2024-11-22 10:34:47,082 - INFO - File [/var/folders/f8/85_209cx72l8mnt3km_8dx540000gn/T/tmp3z8eeumm/Dataset_2-AGAW/fetch-manifest_fc602548-2c1c-4b6d-a438-295f714332d0.json] transfer successful. 0.00 KB transferred. Elapsed time: 0:00:00.162253. File was automatically deleted due to empty content.\n",
      "2024-11-22 10:34:47,083 - INFO - Creating remote file manifest from results of query: /attribute/Dataset/RID=2-AGAW/eye-ai:Process_Dataset/eye-ai:Process/eye-ai:Diagnosis/eye-ai:Image/!(URL::null::)/url:=URL,length:=Length,filename:=Filename,md5:=MD5?limit=none\n",
      "2024-11-22 10:34:47,161 - INFO - File [/var/folders/f8/85_209cx72l8mnt3km_8dx540000gn/T/tmp3z8eeumm/Dataset_2-AGAW/data/Dataset/Process/Diagnosis/Image/Observation/Observation.csv] transfer successful. 0.40 KB transferred. Elapsed time: 0:00:00.074046. File was automatically deleted due to empty content.\n",
      "2024-11-22 10:34:47,304 - INFO - File [/var/folders/f8/85_209cx72l8mnt3km_8dx540000gn/T/tmp3z8eeumm/Dataset_2-AGAW/data/Dataset/Process/Diagnosis/Image/Observation/Observation_Diagnosis/Observation_Diagnosis.csv] transfer successful. 0.08 KB transferred. Elapsed time: 0:00:00.081534. File was automatically deleted due to empty content.\n",
      "2024-11-22 10:34:47,370 - INFO - File [/var/folders/f8/85_209cx72l8mnt3km_8dx540000gn/T/tmp3z8eeumm/Dataset_2-AGAW/data/Dataset/Process/Diagnosis/Image/Observation/Clinical_Records_Observation.csv] transfer successful. 0.05 KB transferred. Elapsed time: 0:00:00.063515. File was automatically deleted due to empty content.\n",
      "2024-11-22 10:34:47,439 - INFO - File [/var/folders/f8/85_209cx72l8mnt3km_8dx540000gn/T/tmp3z8eeumm/Dataset_2-AGAW/data/Dataset/Process/Diagnosis/Image/Observation/Clinical_Records/Clinical_Records.csv] transfer successful. 0.18 KB transferred. Elapsed time: 0:00:00.067964. File was automatically deleted due to empty content.\n",
      "2024-11-22 10:34:47,509 - INFO - File [/var/folders/f8/85_209cx72l8mnt3km_8dx540000gn/T/tmp3z8eeumm/Dataset_2-AGAW/data/Dataset/Process/Diagnosis/Image/Observation/Clinical_Records/Clinical_Records_ICD10_Eye/Clinical_Records_ICD10_Eye.csv] transfer successful. 0.05 KB transferred. Elapsed time: 0:00:00.068229. File was automatically deleted due to empty content.\n",
      "2024-11-22 10:34:47,572 - INFO - File [/var/folders/f8/85_209cx72l8mnt3km_8dx540000gn/T/tmp3z8eeumm/Dataset_2-AGAW/data/Dataset/Process/Diagnosis/Image/Observation/Subject/Subject.csv] transfer successful. 0.06 KB transferred. Elapsed time: 0:00:00.061643. File was automatically deleted due to empty content.\n",
      "2024-11-22 10:34:47,636 - INFO - File [/var/folders/f8/85_209cx72l8mnt3km_8dx540000gn/T/tmp3z8eeumm/Dataset_2-AGAW/data/Dataset/Process/Diagnosis/Image/Observation/Subject/Subject_Diagnosis/Subject_Diagnosis.csv] transfer successful. 0.08 KB transferred. Elapsed time: 0:00:00.063375. File was automatically deleted due to empty content.\n",
      "2024-11-22 10:34:47,702 - INFO - File [/var/folders/f8/85_209cx72l8mnt3km_8dx540000gn/T/tmp3z8eeumm/Dataset_2-AGAW/data/Dataset/Process/Diagnosis/Image/Observation/Subject/Subject_image_quality_factor_Subject.csv] transfer successful. 0.06 KB transferred. Elapsed time: 0:00:00.063872. File was automatically deleted due to empty content.\n",
      "2024-11-22 10:34:47,767 - INFO - File [/var/folders/f8/85_209cx72l8mnt3km_8dx540000gn/T/tmp3z8eeumm/Dataset_2-AGAW/data/Dataset/Process/Diagnosis/Image/Observation/Report/Report.csv] transfer successful. 0.08 KB transferred. Elapsed time: 0:00:00.063458. File was automatically deleted due to empty content.\n",
      "2024-11-22 10:34:47,833 - INFO - File [/var/folders/f8/85_209cx72l8mnt3km_8dx540000gn/T/tmp3z8eeumm/Dataset_2-AGAW/fetch-manifest_6dbad986-32d0-4b03-8206-95545508e49c.json] transfer successful. 0.00 KB transferred. Elapsed time: 0:00:00.065555. File was automatically deleted due to empty content.\n",
      "2024-11-22 10:34:47,834 - INFO - Creating remote file manifest from results of query: /attribute/Dataset/RID=2-AGAW/eye-ai:Process_Dataset/eye-ai:Process/eye-ai:Diagnosis/eye-ai:Image/eye-ai:Observation/eye-ai:Report/!(URL::null::)/url:=URL,length:=Length,filename:=Filename,md5:=MD5?limit=none\n",
      "2024-11-22 10:34:47,913 - INFO - File [/var/folders/f8/85_209cx72l8mnt3km_8dx540000gn/T/tmp3z8eeumm/Dataset_2-AGAW/data/Dataset/Process/Diagnosis/Image/Observation/Report/OCR_RNFL/OCR_RNFL.csv] transfer successful. 0.39 KB transferred. Elapsed time: 0:00:00.077775. File was automatically deleted due to empty content.\n",
      "2024-11-22 10:34:48,043 - INFO - File [/var/folders/f8/85_209cx72l8mnt3km_8dx540000gn/T/tmp3z8eeumm/Dataset_2-AGAW/data/Dataset/Process/Diagnosis/Image/Observation/Report/OCR_HVF/OCR_HVF.csv] transfer successful. 0.26 KB transferred. Elapsed time: 0:00:00.128580. File was automatically deleted due to empty content.\n",
      "2024-11-22 10:34:48,103 - INFO - File [/var/folders/f8/85_209cx72l8mnt3km_8dx540000gn/T/tmp3z8eeumm/Dataset_2-AGAW/data/Dataset/Process/Diagnosis/Image/Image_Annotation/Image_Annotation.csv] transfer successful. 0.10 KB transferred. Elapsed time: 0:00:00.058447. File was automatically deleted due to empty content.\n",
      "2024-11-22 10:34:48,174 - INFO - File [/var/folders/f8/85_209cx72l8mnt3km_8dx540000gn/T/tmp3z8eeumm/Dataset_2-AGAW/data/Dataset/Process/Diagnosis/Image/Image_Annotation/Fundus_Bounding_Box/Fundus_Bounding_Box.csv] transfer successful. 0.05 KB transferred. Elapsed time: 0:00:00.069466. File was automatically deleted due to empty content.\n",
      "2024-11-22 10:34:48,244 - INFO - File [/var/folders/f8/85_209cx72l8mnt3km_8dx540000gn/T/tmp3z8eeumm/Dataset_2-AGAW/fetch-manifest_6270cef1-e413-4fae-b2f7-2218c06a42df.json] transfer successful. 0.00 KB transferred. Elapsed time: 0:00:00.068696. File was automatically deleted due to empty content.\n",
      "2024-11-22 10:34:48,245 - INFO - Creating remote file manifest from results of query: /attribute/Dataset/RID=2-AGAW/eye-ai:Process_Dataset/eye-ai:Process/eye-ai:Diagnosis/eye-ai:Image/eye-ai:Image_Annotation/eye-ai:Fundus_Bounding_Box/!(URL::null::)/url:=URL,length:=Length,filename:=Filename,md5:=MD5?limit=none\n",
      "2024-11-22 10:34:48,249 - INFO - Updating bag: /var/folders/f8/85_209cx72l8mnt3km_8dx540000gn/T/tmp3z8eeumm/Dataset_2-AGAW\n",
      "2024-11-22 10:34:48,249 - INFO - Generating remote file references from /var/folders/f8/85_209cx72l8mnt3km_8dx540000gn/T/tmp3z8eeumm/remote-file-manifest_06a368a5-113c-4ac8-a142-8eaa7570b8a6.json\n",
      "2024-11-22 10:34:48,251 - INFO - Checking payload consistency. This can take some time for large bags with many payload files...\n",
      "2024-11-22 10:34:48,276 - INFO - Using 1 processes to generate manifests: md5\n",
      "2024-11-22 10:34:48,277 - INFO - Generating manifest lines for file data/schema.json\n",
      "2024-11-22 10:34:48,279 - INFO - Generating manifest lines for file data/Annotation_Function/Annotation_Function.csv\n",
      "2024-11-22 10:34:48,281 - INFO - Generating manifest lines for file data/Annotation_Type/Annotation_Type.csv\n",
      "2024-11-22 10:34:48,282 - INFO - Generating manifest lines for file data/Condition_Label/Condition_Label.csv\n",
      "2024-11-22 10:34:48,282 - INFO - Generating manifest lines for file data/Dataset/Subject_Dataset.csv\n",
      "2024-11-22 10:34:48,285 - INFO - Generating manifest lines for file data/Dataset/Subject/Subject.csv\n",
      "2024-11-22 10:34:48,286 - INFO - Generating manifest lines for file data/Dataset/Subject/Observation/Clinical_Records_Observation.csv\n",
      "2024-11-22 10:34:48,287 - INFO - Generating manifest lines for file data/Dataset/Subject/Observation/Observation.csv\n",
      "2024-11-22 10:34:48,287 - INFO - Generating manifest lines for file data/Dataset/Subject/Observation/Clinical_Records/Clinical_Records.csv\n",
      "2024-11-22 10:34:48,288 - INFO - Generating manifest lines for file data/Dataset/Subject/Observation/Clinical_Records/Clinical_Records_ICD10_Eye/Clinical_Records_ICD10_Eye.csv\n",
      "2024-11-22 10:34:48,289 - INFO - Generating manifest lines for file data/Dataset/Subject/Observation/Image/Image.csv\n",
      "2024-11-22 10:34:48,290 - INFO - Generating manifest lines for file data/Dataset/Subject/Observation/Report/Report.csv\n",
      "2024-11-22 10:34:48,291 - INFO - Generating manifest lines for file data/Dataset/Subject/Observation/Report/OCR_HVF/OCR_HVF.csv\n",
      "2024-11-22 10:34:48,292 - INFO - Generating manifest lines for file data/Dataset/Subject/Observation/Report/OCR_RNFL/OCR_RNFL.csv\n",
      "2024-11-22 10:34:48,294 - INFO - Generating manifest lines for file data/Dataset_Type/Dataset_Type.csv\n",
      "2024-11-22 10:34:48,295 - INFO - Generating manifest lines for file data/Diagnosis_Image/Diagnosis_Image.csv\n",
      "2024-11-22 10:34:48,295 - INFO - Generating manifest lines for file data/Diagnosis_Observation/Diagnosis_Observation.csv\n",
      "2024-11-22 10:34:48,296 - INFO - Generating manifest lines for file data/Diagnosis_Status/Diagnosis_Status.csv\n",
      "2024-11-22 10:34:48,297 - INFO - Generating manifest lines for file data/Diagnosis_Subject/Diagnosis_Subject.csv\n",
      "2024-11-22 10:34:48,297 - INFO - Generating manifest lines for file data/Diagnosis_Tag/Diagnosis_Tag.csv\n",
      "2024-11-22 10:34:48,298 - INFO - Generating manifest lines for file data/Execution_Asset_Type/Execution_Asset_Type.csv\n",
      "2024-11-22 10:34:48,299 - INFO - Generating manifest lines for file data/Execution_Metadata_Type/Execution_Metadata_Type.csv\n",
      "2024-11-22 10:34:48,300 - INFO - Generating manifest lines for file data/Feature_Name/Feature_Name.csv\n",
      "2024-11-22 10:34:48,300 - INFO - Generating manifest lines for file data/ICD10_Eye/ICD10_Eye.csv\n",
      "2024-11-22 10:34:48,301 - INFO - Generating manifest lines for file data/Image_Angle/Image_Angle.csv\n",
      "2024-11-22 10:34:48,301 - INFO - Generating manifest lines for file data/Image_Output/Image_Output.csv\n",
      "2024-11-22 10:34:48,302 - INFO - Generating manifest lines for file data/Image_Quality/Image_Quality.csv\n",
      "2024-11-22 10:34:48,303 - INFO - Generating manifest lines for file data/Image_Side/Image_Side.csv\n",
      "2024-11-22 10:34:48,303 - INFO - Generating manifest lines for file data/Image_Tag/Image_Tag.csv\n",
      "2024-11-22 10:34:48,304 - INFO - Generating manifest lines for file data/Process_Tag/Process_Tag.csv\n",
      "2024-11-22 10:34:48,305 - INFO - Generating manifest lines for file data/Report_Type/Report_Type.csv\n",
      "2024-11-22 10:34:48,305 - INFO - Generating manifest lines for file data/Subject_Ethnicity/Subject_Ethnicity.csv\n",
      "2024-11-22 10:34:48,306 - INFO - Generating manifest lines for file data/Subject_Gender/Subject_Gender.csv\n",
      "2024-11-22 10:34:48,307 - INFO - Generating manifest lines for file data/Subject_cataract/Subject_cataract.csv\n",
      "2024-11-22 10:34:48,307 - INFO - Generating manifest lines for file data/Subject_hypertension/Subject_hypertension.csv\n",
      "2024-11-22 10:34:48,308 - INFO - Generating manifest lines for file data/Subject_image_quality/Subject_image_quality.csv\n",
      "2024-11-22 10:34:48,309 - INFO - Generating manifest lines for file data/Subject_image_quality_factor/Subject_image_quality_factor.csv\n",
      "2024-11-22 10:34:48,310 - INFO - Generating manifest lines for file data/Subject_insulin_dependent/Subject_insulin_dependent.csv\n",
      "2024-11-22 10:34:48,310 - INFO - Generating manifest lines for file data/Subject_maculopathy/Subject_maculopathy.csv\n",
      "2024-11-22 10:34:48,311 - INFO - Generating manifest lines for file data/Subject_other/Subject_other.csv\n",
      "2024-11-22 10:34:48,312 - INFO - Generating manifest lines for file data/Subject_pregnant/Subject_pregnant.csv\n",
      "2024-11-22 10:34:48,313 - INFO - Generating manifest lines for file data/Workflow_Type/Workflow_Type.csv\n",
      "2024-11-22 10:34:48,313 - INFO - Generating manifest lines for remote files\n",
      "2024-11-22 10:34:48,315 - INFO - Writing fetch.txt\n",
      "2024-11-22 10:34:48,316 - INFO - Updating Payload-Oxum in bag-info.txt\n",
      "2024-11-22 10:34:48,317 - INFO - Creating /var/folders/f8/85_209cx72l8mnt3km_8dx540000gn/T/tmp3z8eeumm/Dataset_2-AGAW/tagmanifest-md5.txt\n",
      "2024-11-22 10:34:48,328 - INFO - Created bag: /var/folders/f8/85_209cx72l8mnt3km_8dx540000gn/T/tmp3z8eeumm/Dataset_2-AGAW\n",
      "2024-11-22 10:34:48,329 - INFO - Validating bag structure: /var/folders/f8/85_209cx72l8mnt3km_8dx540000gn/T/tmp3z8eeumm/Dataset_2-AGAW\n",
      "2024-11-22 10:34:48,339 - INFO - Checking payload consistency. This can take some time for large bags with many payload files...\n",
      "2024-11-22 10:34:48,350 - INFO - The directory /var/folders/f8/85_209cx72l8mnt3km_8dx540000gn/T/tmp3z8eeumm/Dataset_2-AGAW is a valid bag structure\n",
      "2024-11-22 10:34:48,351 - INFO - Archiving bag (zip): /var/folders/f8/85_209cx72l8mnt3km_8dx540000gn/T/tmp3z8eeumm/Dataset_2-AGAW\n",
      "2024-11-22 10:34:48,376 - INFO - Created bag archive: /var/folders/f8/85_209cx72l8mnt3km_8dx540000gn/T/tmp3z8eeumm/Dataset_2-AGAW.zip\n",
      "2024-11-22 10:34:48,377 - INFO - Cleaning up bag dir: /var/folders/f8/85_209cx72l8mnt3km_8dx540000gn/T/tmp3z8eeumm/Dataset_2-AGAW\n",
      "2024-11-22 10:34:56,434 - INFO - File [/Users/zhiweili/Desktop/test_cache/zhiweili/EyeAI_working/5-R6G4/models/optic_disk_crop_model.hdf5] transfer successful. 76.75 MB transferred at 11.70 MB/second. Elapsed time: 0:00:06.560743.\n"
     ]
    }
   ],
   "source": [
    "# Add Workflow Vocab terms\n",
    "EA.add_term(vc.workflow_type, \"Test Workflow\", description=\"A test Workflow for new DM\")\n",
    "# Workflow instance\n",
    "test_workflow = Workflow(\n",
    "    name=\"Test New Workflow-multimodal\",\n",
    "    url=\"https://github.com/informatics-isi-edu/eye-ai-exec/blob/Data_Model_Update/notebooks/schema_changes/template_multimodal.ipynb\",\n",
    "    workflow_type=\"Test Workflow\"\n",
    ")\n",
    "# Configuration instance\n",
    "config = ExecutionConfiguration(\n",
    "    bdbags=['2-AGAW'],\n",
    "    models = ['2-4JR6'],\n",
    "    execution=Execution(description=\"Sample Test Execution\"),\n",
    "    workflow=test_workflow,\n",
    "    description=\"Our Test Workflow instance\")\n",
    "# Initialize execution\n",
    "configuration_record = EA.initialize_execution(config)\n",
    "execution_rid = configuration_record.execution_rid\n"
   ],
   "metadata": {
    "collapsed": false,
    "ExecuteTime": {
     "end_time": "2024-11-22T18:34:58.001370Z",
     "start_time": "2024-11-22T18:34:25.196331Z"
    }
   },
   "id": "7438a3b956e576e5",
   "execution_count": 5
  },
  {
   "cell_type": "code",
   "outputs": [
    {
     "name": "stdout",
     "output_type": "stream",
     "text": [
      "caching_dir: /Users/zhiweili/Desktop/test_cache\n",
      "working_dir: /Users/zhiweili/Desktop/test_cache/zhiweili/EyeAI_working\n",
      "execution_rid: 5-R6G4\n",
      "workflow_rid: 5-R6FW\n",
      "bag_paths: [PosixPath('/Users/zhiweili/Desktop/test_cache/2-AGAW_fdfe65b9206c3db5327d1d9da43573a14f12610c5ff14b8c4dd7a02f68207d30/Dataset_2-AGAW')]\n",
      "asset_paths: [PosixPath('/Users/zhiweili/Desktop/test_cache/zhiweili/EyeAI_working/5-R6G4/models/optic_disk_crop_model.hdf5')]\n",
      "configuration: bdbags=['2-AGAW'] models=['2-4JR6'] workflow=Workflow(name='Test New Workflow-multimodal', url='https://github.com/informatics-isi-edu/eye-ai-exec/blob/Data_Model_Update/notebooks/schema_changes/template_multimodal.ipynb', workflow_type='Test Workflow', version=None, description=None) execution=Execution(description='Sample Test Execution') description='Our Test Workflow instance'\n"
     ]
    },
    {
     "data": {
      "text/plain": "PosixPath('/Users/zhiweili/Desktop/test_cache/2-AGAW_fdfe65b9206c3db5327d1d9da43573a14f12610c5ff14b8c4dd7a02f68207d30/Dataset_2-AGAW')"
     },
     "execution_count": 6,
     "metadata": {},
     "output_type": "execute_result"
    }
   ],
   "source": [
    "print(configuration_record)\n",
    "configuration_record.bag_paths[0]"
   ],
   "metadata": {
    "collapsed": false,
    "ExecuteTime": {
     "end_time": "2024-11-22T18:34:58.058805Z",
     "start_time": "2024-11-22T18:34:58.001286Z"
    }
   },
   "id": "3d0c540fb8d7f576",
   "execution_count": 6
  },
  {
   "cell_type": "code",
   "outputs": [],
   "source": [
    "ds_bag = DatasetBag(configuration_record.bag_paths[0])"
   ],
   "metadata": {
    "collapsed": false,
    "ExecuteTime": {
     "end_time": "2024-11-22T19:47:32.924392Z",
     "start_time": "2024-11-22T19:47:32.240810Z"
    }
   },
   "id": "54a6c1add2df83d5",
   "execution_count": 18
  },
  {
   "cell_type": "markdown",
   "source": [
    "# Test modality extraction"
   ],
   "metadata": {
    "collapsed": false
   },
   "id": "3f3e774ccf3ee9d1"
  },
  {
   "cell_type": "code",
   "outputs": [
    {
     "data": {
      "text/plain": "      RID                            RCT                            RMT  \\\n0  2-7KTR  2024-04-15 23:44:22.184165+00  2024-10-18 18:01:12.957676+00   \n1  2-7KTT  2024-04-15 23:44:22.184165+00  2024-10-18 18:01:12.957676+00   \n2  2-7KTW  2024-04-15 23:44:22.184165+00  2024-10-18 18:01:12.957676+00   \n3  2-7KTY  2024-04-15 23:44:22.184165+00  2024-10-18 18:01:12.957676+00   \n4  2-7KV0  2024-04-15 23:44:22.184165+00  2024-10-18 18:01:12.957676+00   \n\n                                                 RCB  \\\n0  https://auth.globus.org/3769492a-b197-4063-952...   \n1  https://auth.globus.org/3769492a-b197-4063-952...   \n2  https://auth.globus.org/3769492a-b197-4063-952...   \n3  https://auth.globus.org/3769492a-b197-4063-952...   \n4  https://auth.globus.org/3769492a-b197-4063-952...   \n\n                                                 RMB    Subject_ID  \\\n0  https://auth.globus.org/3769492a-b197-4063-952...  Multimodal_1   \n1  https://auth.globus.org/3769492a-b197-4063-952...  Multimodal_2   \n2  https://auth.globus.org/3769492a-b197-4063-952...  Multimodal_3   \n3  https://auth.globus.org/3769492a-b197-4063-952...  Multimodal_4   \n4  https://auth.globus.org/3769492a-b197-4063-952...  Multimodal_5   \n\n  Subject_Gender Subject_Ethnicity  \n0              F         Caucasian  \n1              M         Caucasian  \n2              M   African Descent  \n3              F    Latin American  \n4              M   African Descent  ",
      "text/html": "<div>\n<style scoped>\n    .dataframe tbody tr th:only-of-type {\n        vertical-align: middle;\n    }\n\n    .dataframe tbody tr th {\n        vertical-align: top;\n    }\n\n    .dataframe thead th {\n        text-align: right;\n    }\n</style>\n<table border=\"1\" class=\"dataframe\">\n  <thead>\n    <tr style=\"text-align: right;\">\n      <th></th>\n      <th>RID</th>\n      <th>RCT</th>\n      <th>RMT</th>\n      <th>RCB</th>\n      <th>RMB</th>\n      <th>Subject_ID</th>\n      <th>Subject_Gender</th>\n      <th>Subject_Ethnicity</th>\n    </tr>\n  </thead>\n  <tbody>\n    <tr>\n      <th>0</th>\n      <td>2-7KTR</td>\n      <td>2024-04-15 23:44:22.184165+00</td>\n      <td>2024-10-18 18:01:12.957676+00</td>\n      <td>https://auth.globus.org/3769492a-b197-4063-952...</td>\n      <td>https://auth.globus.org/3769492a-b197-4063-952...</td>\n      <td>Multimodal_1</td>\n      <td>F</td>\n      <td>Caucasian</td>\n    </tr>\n    <tr>\n      <th>1</th>\n      <td>2-7KTT</td>\n      <td>2024-04-15 23:44:22.184165+00</td>\n      <td>2024-10-18 18:01:12.957676+00</td>\n      <td>https://auth.globus.org/3769492a-b197-4063-952...</td>\n      <td>https://auth.globus.org/3769492a-b197-4063-952...</td>\n      <td>Multimodal_2</td>\n      <td>M</td>\n      <td>Caucasian</td>\n    </tr>\n    <tr>\n      <th>2</th>\n      <td>2-7KTW</td>\n      <td>2024-04-15 23:44:22.184165+00</td>\n      <td>2024-10-18 18:01:12.957676+00</td>\n      <td>https://auth.globus.org/3769492a-b197-4063-952...</td>\n      <td>https://auth.globus.org/3769492a-b197-4063-952...</td>\n      <td>Multimodal_3</td>\n      <td>M</td>\n      <td>African Descent</td>\n    </tr>\n    <tr>\n      <th>3</th>\n      <td>2-7KTY</td>\n      <td>2024-04-15 23:44:22.184165+00</td>\n      <td>2024-10-18 18:01:12.957676+00</td>\n      <td>https://auth.globus.org/3769492a-b197-4063-952...</td>\n      <td>https://auth.globus.org/3769492a-b197-4063-952...</td>\n      <td>Multimodal_4</td>\n      <td>F</td>\n      <td>Latin American</td>\n    </tr>\n    <tr>\n      <th>4</th>\n      <td>2-7KV0</td>\n      <td>2024-04-15 23:44:22.184165+00</td>\n      <td>2024-10-18 18:01:12.957676+00</td>\n      <td>https://auth.globus.org/3769492a-b197-4063-952...</td>\n      <td>https://auth.globus.org/3769492a-b197-4063-952...</td>\n      <td>Multimodal_5</td>\n      <td>M</td>\n      <td>African Descent</td>\n    </tr>\n  </tbody>\n</table>\n</div>"
     },
     "execution_count": 22,
     "metadata": {},
     "output_type": "execute_result"
    }
   ],
   "source": [
    "subject = ds_bag.get_table_as_dataframe('Subject')\n",
    "observation = ds_bag.get_table_as_dataframe('Observation')\n",
    "image = ds_bag.get_table_as_dataframe('Image')\n",
    "clinic = ds_bag.get_table_as_dataframe('Clinical_Records')\n",
    "report = ds_bag.get_table_as_dataframe('Report')\n",
    "RNFL_OCR = ds_bag.get_table_as_dataframe('OCR_RNFL')\n"
   ],
   "metadata": {
    "collapsed": false,
    "ExecuteTime": {
     "end_time": "2024-11-22T19:55:30.745013Z",
     "start_time": "2024-11-22T19:55:30.718962Z"
    }
   },
   "id": "8f603a5002f83d28",
   "execution_count": 22
  },
  {
   "cell_type": "code",
   "outputs": [
    {
     "data": {
      "text/plain": "      RID                           RCT                            RMT  \\\n0  2-C2SR  2024-05-30 09:19:13.08829+00  2024-10-18 17:58:23.664889+00   \n\n                                                 RCB  \\\n0  https://auth.globus.org/3769492a-b197-4063-952...   \n\n                                                 RMB  \\\n0  https://auth.globus.org/3769492a-b197-4063-952...   \n\n                                                 URL  \\\n0  /hatrac/images/multimodal/scans/subject/2/obse...   \n\n                                   Filename Description   Length  \\\n0  data/assets/Image/2-660-IMAGE_0_(33).jpg              6067012   \n\n                                MD5 Observation Image Source_Image Process  \\\n0  8d01bcdf8b5e70b9c05848c9a60718a9      2-7RGW                              \n\n  Image_Side Image_Angle Image_Tag  \n0    Unknown     Unknown            ",
      "text/html": "<div>\n<style scoped>\n    .dataframe tbody tr th:only-of-type {\n        vertical-align: middle;\n    }\n\n    .dataframe tbody tr th {\n        vertical-align: top;\n    }\n\n    .dataframe thead th {\n        text-align: right;\n    }\n</style>\n<table border=\"1\" class=\"dataframe\">\n  <thead>\n    <tr style=\"text-align: right;\">\n      <th></th>\n      <th>RID</th>\n      <th>RCT</th>\n      <th>RMT</th>\n      <th>RCB</th>\n      <th>RMB</th>\n      <th>URL</th>\n      <th>Filename</th>\n      <th>Description</th>\n      <th>Length</th>\n      <th>MD5</th>\n      <th>Observation</th>\n      <th>Image</th>\n      <th>Source_Image</th>\n      <th>Process</th>\n      <th>Image_Side</th>\n      <th>Image_Angle</th>\n      <th>Image_Tag</th>\n    </tr>\n  </thead>\n  <tbody>\n    <tr>\n      <th>0</th>\n      <td>2-C2SR</td>\n      <td>2024-05-30 09:19:13.08829+00</td>\n      <td>2024-10-18 17:58:23.664889+00</td>\n      <td>https://auth.globus.org/3769492a-b197-4063-952...</td>\n      <td>https://auth.globus.org/3769492a-b197-4063-952...</td>\n      <td>/hatrac/images/multimodal/scans/subject/2/obse...</td>\n      <td>data/assets/Image/2-660-IMAGE_0_(33).jpg</td>\n      <td></td>\n      <td>6067012</td>\n      <td>8d01bcdf8b5e70b9c05848c9a60718a9</td>\n      <td>2-7RGW</td>\n      <td></td>\n      <td></td>\n      <td></td>\n      <td>Unknown</td>\n      <td>Unknown</td>\n      <td></td>\n    </tr>\n  </tbody>\n</table>\n</div>"
     },
     "execution_count": 30,
     "metadata": {},
     "output_type": "execute_result"
    }
   ],
   "source": [
    "image"
   ],
   "metadata": {
    "collapsed": false,
    "ExecuteTime": {
     "end_time": "2024-11-22T20:27:59.454914Z",
     "start_time": "2024-11-22T20:27:59.404094Z"
    }
   },
   "id": "9eb406d8939a27eb",
   "execution_count": 30
  },
  {
   "cell_type": "code",
   "outputs": [
    {
     "data": {
      "text/plain": "      RID                            RCT                            RMT  \\\n0  2-B93Y  2024-05-20 23:15:48.182905+00  2024-10-18 18:55:11.793875+00   \n1  2-B940  2024-05-20 23:15:48.182905+00  2024-10-18 18:55:11.793875+00   \n2  2-B942  2024-05-20 23:15:48.182905+00  2024-10-18 18:55:11.793875+00   \n3  2-B944  2024-05-20 23:15:48.182905+00  2024-10-18 18:55:11.793875+00   \n4  2-B946  2024-05-20 23:15:48.182905+00  2024-10-18 18:55:11.793875+00   \n5  2-BB32  2024-05-20 23:59:49.438927+00  2024-10-18 18:55:13.758981+00   \n6  2-BB34  2024-05-20 23:59:49.438927+00  2024-10-18 18:55:13.758981+00   \n7  2-BB36  2024-05-20 23:59:49.438927+00  2024-10-18 18:55:13.758981+00   \n8  2-BB38  2024-05-20 23:59:49.438927+00  2024-10-18 18:55:13.758981+00   \n\n                                                 RCB  \\\n0  https://auth.globus.org/3769492a-b197-4063-952...   \n1  https://auth.globus.org/3769492a-b197-4063-952...   \n2  https://auth.globus.org/3769492a-b197-4063-952...   \n3  https://auth.globus.org/3769492a-b197-4063-952...   \n4  https://auth.globus.org/3769492a-b197-4063-952...   \n5  https://auth.globus.org/3769492a-b197-4063-952...   \n6  https://auth.globus.org/3769492a-b197-4063-952...   \n7  https://auth.globus.org/3769492a-b197-4063-952...   \n8  https://auth.globus.org/3769492a-b197-4063-952...   \n\n                                                 RMB Field_Size  \\\n0  https://auth.globus.org/3769492a-b197-4063-952...       24-2   \n1  https://auth.globus.org/3769492a-b197-4063-952...       24-2   \n2  https://auth.globus.org/3769492a-b197-4063-952...       24-2   \n3  https://auth.globus.org/3769492a-b197-4063-952...       24-2   \n4  https://auth.globus.org/3769492a-b197-4063-952...       24-2   \n5  https://auth.globus.org/3769492a-b197-4063-952...       24-2   \n6  https://auth.globus.org/3769492a-b197-4063-952...       24-2   \n7  https://auth.globus.org/3769492a-b197-4063-952...       24-2   \n8  https://auth.globus.org/3769492a-b197-4063-952...       24-2   \n\n        Strategy False_Neg False_Pos Fixation_Loss  ... Visual_Acuity  \\\n0  SITA Standard        5%        7%          5/15  ...         20/30   \n1      SITA Fast       Off        0%                ...                 \n2  SITA Standard        0%        0%          0/15  ...                 \n3  SITA Standard        0%        1%          0/15  ...         20/30   \n4      SITA Fast        0%        0%          0/11  ...         20/20   \n5  SITA Standard        0%        8%                ...         20/25   \n6      SITA Fast       Off       13%                ...                 \n7  SITA Standard        0%        2%          0/15  ...         20/40   \n8      SITA Fast                  3%          4/11  ...         20/20   \n\n                     GHT  PSD.1  \\\n0  Outside Normal Limits   5.19   \n1  Outside Normal Limits   7.85   \n2  Outside Normal Limits   5.12   \n3   Within Normal Limits          \n4   Within Normal Limits          \n5  Outside Normal Limits   7.25   \n6  Outside Normal Limits   8.73   \n7             Borderline          \n8   Within Normal Limits   2.23   \n\n                                            Abs_Perc  \\\n0   \\n                                     \\n\\n  ...   \n1   \\n                                     \\n\\n  ...   \n2   \\n                                     \\n\\n  ...   \n3   \\n                                     \\n\\n  ...   \n4   \\n                                     \\n\\n  ...   \n5   \\n                                     \\n\\n  ...   \n6   \\n                                     \\n\\n  ...   \n7   \\n                                     \\n\\n  ...   \n8   \\n                                     \\n\\n  ...   \n\n                                             Abs_Val  \\\n0   \\n                                       \\n\\n...   \n1   \\n                                       \\n\\n...   \n2   \\n                                       \\n\\n...   \n3   \\n                                       \\n\\n...   \n4   \\n                                       \\n\\n...   \n5   \\n                                       \\n\\n...   \n6   \\n                                       \\n\\n...   \n7   \\n                                       \\n\\n...   \n8   \\n                                       \\n\\n...   \n\n                                            Pat_Perc  \\\n0   \\n                                     \\n\\n  ...   \n1   \\n                                     \\n\\n  ...   \n2   \\n                                     \\n\\n  ...   \n3   \\n                                     \\n\\n  ...   \n4   \\n                                     \\n\\n  ...   \n5   \\n                                     \\n\\n  ...   \n6   \\n                                     \\n\\n  ...   \n7   \\n                                     \\n\\n  ...   \n8   \\n                                     \\n\\n  ...   \n\n                                             Pat_Val  \\\n0   \\n                                       \\n\\n...   \n1   \\n                                       \\n\\n...   \n2   \\n                                       \\n\\n...   \n3   \\n                                       \\n\\n...   \n4   \\n                                       \\n\\n...   \n5   \\n                                       \\n\\n...   \n6   \\n                                       \\n\\n...   \n7   \\n                                       \\n\\n...   \n8   \\n                                       \\n\\n...   \n\n                                             Raw_Val  Report Image_Side  \n0   \\n                                       \\n\\n...  2-ATX0      Right  \n1   \\n                                       \\n\\n...  2-ATX8      Right  \n2   \\n                                       \\n\\n...  2-ATXG      Right  \n3   \\n                                       \\n\\n...  2-ATXM      Right  \n4   \\n                                       \\n\\n...  2-ATXR      Right  \n5   \\n                                       \\n\\n...  2-ATX2       Left  \n6   \\n                                       \\n\\n...  2-ATXA       Left  \n7   \\n                                       \\n\\n...  2-ATXP       Left  \n8   \\n                                       \\n\\n...  2-ATXT       Left  \n\n[9 rows x 32 columns]",
      "text/html": "<div>\n<style scoped>\n    .dataframe tbody tr th:only-of-type {\n        vertical-align: middle;\n    }\n\n    .dataframe tbody tr th {\n        vertical-align: top;\n    }\n\n    .dataframe thead th {\n        text-align: right;\n    }\n</style>\n<table border=\"1\" class=\"dataframe\">\n  <thead>\n    <tr style=\"text-align: right;\">\n      <th></th>\n      <th>RID</th>\n      <th>RCT</th>\n      <th>RMT</th>\n      <th>RCB</th>\n      <th>RMB</th>\n      <th>Field_Size</th>\n      <th>Strategy</th>\n      <th>False_Neg</th>\n      <th>False_Pos</th>\n      <th>Fixation_Loss</th>\n      <th>...</th>\n      <th>Visual_Acuity</th>\n      <th>GHT</th>\n      <th>PSD.1</th>\n      <th>Abs_Perc</th>\n      <th>Abs_Val</th>\n      <th>Pat_Perc</th>\n      <th>Pat_Val</th>\n      <th>Raw_Val</th>\n      <th>Report</th>\n      <th>Image_Side</th>\n    </tr>\n  </thead>\n  <tbody>\n    <tr>\n      <th>0</th>\n      <td>2-B93Y</td>\n      <td>2024-05-20 23:15:48.182905+00</td>\n      <td>2024-10-18 18:55:11.793875+00</td>\n      <td>https://auth.globus.org/3769492a-b197-4063-952...</td>\n      <td>https://auth.globus.org/3769492a-b197-4063-952...</td>\n      <td>24-2</td>\n      <td>SITA Standard</td>\n      <td>5%</td>\n      <td>7%</td>\n      <td>5/15</td>\n      <td>...</td>\n      <td>20/30</td>\n      <td>Outside Normal Limits</td>\n      <td>5.19</td>\n      <td>\\n                                     \\n\\n  ...</td>\n      <td>\\n                                       \\n\\n...</td>\n      <td>\\n                                     \\n\\n  ...</td>\n      <td>\\n                                       \\n\\n...</td>\n      <td>\\n                                       \\n\\n...</td>\n      <td>2-ATX0</td>\n      <td>Right</td>\n    </tr>\n    <tr>\n      <th>1</th>\n      <td>2-B940</td>\n      <td>2024-05-20 23:15:48.182905+00</td>\n      <td>2024-10-18 18:55:11.793875+00</td>\n      <td>https://auth.globus.org/3769492a-b197-4063-952...</td>\n      <td>https://auth.globus.org/3769492a-b197-4063-952...</td>\n      <td>24-2</td>\n      <td>SITA Fast</td>\n      <td>Off</td>\n      <td>0%</td>\n      <td></td>\n      <td>...</td>\n      <td></td>\n      <td>Outside Normal Limits</td>\n      <td>7.85</td>\n      <td>\\n                                     \\n\\n  ...</td>\n      <td>\\n                                       \\n\\n...</td>\n      <td>\\n                                     \\n\\n  ...</td>\n      <td>\\n                                       \\n\\n...</td>\n      <td>\\n                                       \\n\\n...</td>\n      <td>2-ATX8</td>\n      <td>Right</td>\n    </tr>\n    <tr>\n      <th>2</th>\n      <td>2-B942</td>\n      <td>2024-05-20 23:15:48.182905+00</td>\n      <td>2024-10-18 18:55:11.793875+00</td>\n      <td>https://auth.globus.org/3769492a-b197-4063-952...</td>\n      <td>https://auth.globus.org/3769492a-b197-4063-952...</td>\n      <td>24-2</td>\n      <td>SITA Standard</td>\n      <td>0%</td>\n      <td>0%</td>\n      <td>0/15</td>\n      <td>...</td>\n      <td></td>\n      <td>Outside Normal Limits</td>\n      <td>5.12</td>\n      <td>\\n                                     \\n\\n  ...</td>\n      <td>\\n                                       \\n\\n...</td>\n      <td>\\n                                     \\n\\n  ...</td>\n      <td>\\n                                       \\n\\n...</td>\n      <td>\\n                                       \\n\\n...</td>\n      <td>2-ATXG</td>\n      <td>Right</td>\n    </tr>\n    <tr>\n      <th>3</th>\n      <td>2-B944</td>\n      <td>2024-05-20 23:15:48.182905+00</td>\n      <td>2024-10-18 18:55:11.793875+00</td>\n      <td>https://auth.globus.org/3769492a-b197-4063-952...</td>\n      <td>https://auth.globus.org/3769492a-b197-4063-952...</td>\n      <td>24-2</td>\n      <td>SITA Standard</td>\n      <td>0%</td>\n      <td>1%</td>\n      <td>0/15</td>\n      <td>...</td>\n      <td>20/30</td>\n      <td>Within Normal Limits</td>\n      <td></td>\n      <td>\\n                                     \\n\\n  ...</td>\n      <td>\\n                                       \\n\\n...</td>\n      <td>\\n                                     \\n\\n  ...</td>\n      <td>\\n                                       \\n\\n...</td>\n      <td>\\n                                       \\n\\n...</td>\n      <td>2-ATXM</td>\n      <td>Right</td>\n    </tr>\n    <tr>\n      <th>4</th>\n      <td>2-B946</td>\n      <td>2024-05-20 23:15:48.182905+00</td>\n      <td>2024-10-18 18:55:11.793875+00</td>\n      <td>https://auth.globus.org/3769492a-b197-4063-952...</td>\n      <td>https://auth.globus.org/3769492a-b197-4063-952...</td>\n      <td>24-2</td>\n      <td>SITA Fast</td>\n      <td>0%</td>\n      <td>0%</td>\n      <td>0/11</td>\n      <td>...</td>\n      <td>20/20</td>\n      <td>Within Normal Limits</td>\n      <td></td>\n      <td>\\n                                     \\n\\n  ...</td>\n      <td>\\n                                       \\n\\n...</td>\n      <td>\\n                                     \\n\\n  ...</td>\n      <td>\\n                                       \\n\\n...</td>\n      <td>\\n                                       \\n\\n...</td>\n      <td>2-ATXR</td>\n      <td>Right</td>\n    </tr>\n    <tr>\n      <th>5</th>\n      <td>2-BB32</td>\n      <td>2024-05-20 23:59:49.438927+00</td>\n      <td>2024-10-18 18:55:13.758981+00</td>\n      <td>https://auth.globus.org/3769492a-b197-4063-952...</td>\n      <td>https://auth.globus.org/3769492a-b197-4063-952...</td>\n      <td>24-2</td>\n      <td>SITA Standard</td>\n      <td>0%</td>\n      <td>8%</td>\n      <td></td>\n      <td>...</td>\n      <td>20/25</td>\n      <td>Outside Normal Limits</td>\n      <td>7.25</td>\n      <td>\\n                                     \\n\\n  ...</td>\n      <td>\\n                                       \\n\\n...</td>\n      <td>\\n                                     \\n\\n  ...</td>\n      <td>\\n                                       \\n\\n...</td>\n      <td>\\n                                       \\n\\n...</td>\n      <td>2-ATX2</td>\n      <td>Left</td>\n    </tr>\n    <tr>\n      <th>6</th>\n      <td>2-BB34</td>\n      <td>2024-05-20 23:59:49.438927+00</td>\n      <td>2024-10-18 18:55:13.758981+00</td>\n      <td>https://auth.globus.org/3769492a-b197-4063-952...</td>\n      <td>https://auth.globus.org/3769492a-b197-4063-952...</td>\n      <td>24-2</td>\n      <td>SITA Fast</td>\n      <td>Off</td>\n      <td>13%</td>\n      <td></td>\n      <td>...</td>\n      <td></td>\n      <td>Outside Normal Limits</td>\n      <td>8.73</td>\n      <td>\\n                                     \\n\\n  ...</td>\n      <td>\\n                                       \\n\\n...</td>\n      <td>\\n                                     \\n\\n  ...</td>\n      <td>\\n                                       \\n\\n...</td>\n      <td>\\n                                       \\n\\n...</td>\n      <td>2-ATXA</td>\n      <td>Left</td>\n    </tr>\n    <tr>\n      <th>7</th>\n      <td>2-BB36</td>\n      <td>2024-05-20 23:59:49.438927+00</td>\n      <td>2024-10-18 18:55:13.758981+00</td>\n      <td>https://auth.globus.org/3769492a-b197-4063-952...</td>\n      <td>https://auth.globus.org/3769492a-b197-4063-952...</td>\n      <td>24-2</td>\n      <td>SITA Standard</td>\n      <td>0%</td>\n      <td>2%</td>\n      <td>0/15</td>\n      <td>...</td>\n      <td>20/40</td>\n      <td>Borderline</td>\n      <td></td>\n      <td>\\n                                     \\n\\n  ...</td>\n      <td>\\n                                       \\n\\n...</td>\n      <td>\\n                                     \\n\\n  ...</td>\n      <td>\\n                                       \\n\\n...</td>\n      <td>\\n                                       \\n\\n...</td>\n      <td>2-ATXP</td>\n      <td>Left</td>\n    </tr>\n    <tr>\n      <th>8</th>\n      <td>2-BB38</td>\n      <td>2024-05-20 23:59:49.438927+00</td>\n      <td>2024-10-18 18:55:13.758981+00</td>\n      <td>https://auth.globus.org/3769492a-b197-4063-952...</td>\n      <td>https://auth.globus.org/3769492a-b197-4063-952...</td>\n      <td>24-2</td>\n      <td>SITA Fast</td>\n      <td></td>\n      <td>3%</td>\n      <td>4/11</td>\n      <td>...</td>\n      <td>20/20</td>\n      <td>Within Normal Limits</td>\n      <td>2.23</td>\n      <td>\\n                                     \\n\\n  ...</td>\n      <td>\\n                                       \\n\\n...</td>\n      <td>\\n                                     \\n\\n  ...</td>\n      <td>\\n                                       \\n\\n...</td>\n      <td>\\n                                       \\n\\n...</td>\n      <td>2-ATXT</td>\n      <td>Left</td>\n    </tr>\n  </tbody>\n</table>\n<p>9 rows × 32 columns</p>\n</div>"
     },
     "execution_count": 29,
     "metadata": {},
     "output_type": "execute_result"
    }
   ],
   "source": [
    "# data_path = configuration_record.bag_paths[0]\n",
    "# subject_path = data_path/ 'data/Dataset/Subject'\n",
    "# subject = pd.read_csv(subject_path / 'Subject.csv').drop(columns=['RCT', 'RMT', 'RCB', 'RMB'])\n",
    "# obs_path = subject_path/ 'Observation'\n",
    "# observation = pd.read_csv(obs_path / 'Observation.csv').drop(columns=['RCT', 'RMT', 'RCB', 'RMB'])\n",
    "# image = pd.read_csv(obs_path / 'Image/Image.csv').drop(columns=['RCT', 'RMT', 'RCB', 'RMB'])\n",
    "# clinic_path = obs_path/ 'Clinical_Records'\n",
    "# clinic = pd.read_csv(clinic_path / 'Clinical_Records.csv').drop(columns=['RCT', 'RMT', 'RCB', 'RMB'])\n",
    "# observation_clinic_asso = pd.read_csv(obs_path / 'Clinical_Records_Observation.csv').drop(\n",
    "#     columns=['RCT', 'RMT', 'RCB', 'RMB'])\n",
    "# report = pd.read_csv(obs_path / 'Report/Report.csv').drop(columns=['RCT', 'RMT', 'RCB', 'RMB'])\n",
    "# RNFL_OCR = pd.read_csv(obs_path / 'Report/OCR_RNFL/OCR_RNFL.csv').drop(columns=['RCT', 'RMT', 'RCB', 'RMB'])\n",
    "# HVF_OCR = pd.read_csv(obs_path / 'Report/OCR_HVF/OCR_HVF.csv').drop(columns=['RCT', 'RMT', 'RCB', 'RMB'])"
   ],
   "metadata": {
    "collapsed": false,
    "ExecuteTime": {
     "end_time": "2024-11-22T20:13:54.412334Z",
     "start_time": "2024-11-22T20:13:54.213464Z"
    }
   },
   "id": "dc1af315aa9076ba",
   "execution_count": 29
  }
 ],
 "metadata": {
  "kernelspec": {
   "name": "python3",
   "language": "python",
   "display_name": "Python 3 (ipykernel)"
  },
  "language_info": {
   "codemirror_mode": {
    "name": "ipython",
    "version": 3
   },
   "file_extension": ".py",
   "mimetype": "text/x-python",
   "name": "python",
   "nbconvert_exporter": "python",
   "pygments_lexer": "ipython3",
   "version": "3.10.13"
  }
 },
 "nbformat": 4,
 "nbformat_minor": 5
}
