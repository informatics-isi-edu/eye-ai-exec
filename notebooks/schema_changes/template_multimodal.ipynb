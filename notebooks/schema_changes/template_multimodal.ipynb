{
 "cells": [
  {
   "cell_type": "code",
   "outputs": [],
   "source": [
    "from pathlib import Path\n",
    "import sys\n",
    "\n",
    "# Define the base repository directory\n",
    "repo_dir = Path.home() / \"Desktop\" / \"eye_ai\" / \"Github\"  # Update to your GitHub repo location\n",
    "\n",
    "# Update the load path so Python can find modules for the model\n",
    "sys.path.insert(0, str(repo_dir / \"deriva-ml\"))\n",
    "sys.path.insert(0, str(repo_dir / \"eye-ai-ml\"))\n",
    "\n",
    "# Reload extensions if needed\n",
    "%load_ext autoreload\n",
    "%autoreload 2\n"
   ],
   "metadata": {
    "collapsed": false,
    "ExecuteTime": {
     "end_time": "2024-11-22T22:55:19.767789Z",
     "start_time": "2024-11-22T22:55:19.753170Z"
    }
   },
   "id": "ebbe774c69abe790",
   "execution_count": 1
  },
  {
   "cell_type": "code",
   "outputs": [],
   "source": [
    "# Prerequisites\n",
    "import json\n",
    "import os\n",
    "from eye_ai.eye_ai import EyeAI\n",
    "from deriva_ml.dataset_bag import DatasetBag\n",
    "import pandas as pd\n",
    "from pathlib import Path, PurePath\n",
    "import logging\n",
    "\n",
    "from deriva_ml.deriva_ml_base import MLVocab as vc\n",
    "from deriva_ml.execution_configuration import ExecutionConfiguration, Workflow, Execution\n",
    "\n",
    "logging.basicConfig(level=logging.INFO, format='%(asctime)s - %(levelname)s - %(message)s', force=True)"
   ],
   "metadata": {
    "collapsed": false,
    "ExecuteTime": {
     "end_time": "2024-11-22T22:55:23.504233Z",
     "start_time": "2024-11-22T22:55:20.182365Z"
    }
   },
   "id": "7a4c63f1992a2f4b",
   "execution_count": 2
  },
  {
   "cell_type": "code",
   "outputs": [],
   "source": [
    "from deriva.core.utils.globus_auth_utils import GlobusNativeLogin\n",
    "host = 'dev.eye-ai.org'\n",
    "catalog_id = \"428\"\n",
    "\n",
    "# host = 'www.eye-ai.org'\n",
    "# catalog_id = \"21\"\n",
    "# catalog_id = \"eye-ai\"\n",
    "\n",
    "gnl = GlobusNativeLogin(host=host)\n",
    "if gnl.is_logged_in([host]):\n",
    "    print(\"You are already logged in.\")\n",
    "else:\n",
    "    gnl.login([host], no_local_server=True, no_browser=True, refresh_tokens=True, update_bdbag_keychain=True)\n",
    "    print(\"Login Successful\")"
   ],
   "metadata": {
    "collapsed": false
   },
   "id": "5854dd2af49b17c6",
   "execution_count": null
  },
  {
   "cell_type": "code",
   "outputs": [],
   "source": [
    "# Variables to configure the rest of the notebook.\n",
    "cache_dir = Path.home() / 'Desktop/test_cache'\n",
    "working_dir = Path.home() / 'Desktop/test_cache'\n",
    "EA = EyeAI(hostname = host, catalog_id = catalog_id, cache_dir= cache_dir, working_dir=working_dir)"
   ],
   "metadata": {
    "collapsed": false
   },
   "id": "ca73daf6aef44b55",
   "execution_count": null
  },
  {
   "cell_type": "markdown",
   "source": [
    "# 1. Configuration"
   ],
   "metadata": {
    "collapsed": false
   },
   "id": "44e0d26997766f"
  },
  {
   "cell_type": "code",
   "outputs": [],
   "source": [
    "# Add Workflow Vocab terms\n",
    "EA.add_term(vc.workflow_type, \"Test Workflow\", description=\"A test Workflow for new DM\")\n",
    "# Workflow instance\n",
    "test_workflow = Workflow(\n",
    "    name=\"Test New Workflow-multimodal\",\n",
    "    url=\"https://github.com/informatics-isi-edu/eye-ai-exec/blob/Data_Model_Update/notebooks/schema_changes/template_multimodal.ipynb\",\n",
    "    workflow_type=\"Test Workflow\"\n",
    ")\n",
    "# Configuration instance\n",
    "config = ExecutionConfiguration(\n",
    "    bdbags=['2-AGAW'],\n",
    "    models = ['2-4JR6'],\n",
    "    execution=Execution(description=\"Sample Test Execution\"),\n",
    "    workflow=test_workflow,\n",
    "    description=\"Our Test Workflow instance\")\n",
    "# Initialize execution\n",
    "configuration_record = EA.initialize_execution(config)\n",
    "execution_rid = configuration_record.execution_rid\n"
   ],
   "metadata": {
    "collapsed": false
   },
   "id": "7438a3b956e576e5",
   "execution_count": null
  },
  {
   "cell_type": "code",
   "outputs": [],
   "source": [
    "print(configuration_record)"
   ],
   "metadata": {
    "collapsed": false
   },
   "id": "3d0c540fb8d7f576",
   "execution_count": null
  },
  {
   "cell_type": "code",
   "outputs": [],
   "source": [
    "ds_bag = DatasetBag(configuration_record.bag_paths[0])"
   ],
   "metadata": {
    "collapsed": false,
    "ExecuteTime": {
     "end_time": "2024-11-22T22:57:01.594186Z",
     "start_time": "2024-11-22T22:57:01.360615Z"
    }
   },
   "id": "54a6c1add2df83d5",
   "execution_count": 7
  },
  {
   "cell_type": "markdown",
   "source": [
    "# Test modality extraction"
   ],
   "metadata": {
    "collapsed": false
   },
   "id": "3f3e774ccf3ee9d1"
  },
  {
   "cell_type": "code",
   "outputs": [],
   "source": [
    "modalities = EA.extract_modality(ds_bag)"
   ],
   "metadata": {
    "collapsed": false
   },
   "id": "dc1af315aa9076ba",
   "execution_count": null
  },
  {
   "cell_type": "code",
   "outputs": [],
   "source": [
    "modalities"
   ],
   "metadata": {
    "collapsed": false
   },
   "id": "9eb406d8939a27eb",
   "execution_count": null
  },
  {
   "cell_type": "code",
   "outputs": [],
   "source": [
    "wide = EA.multimodal_wide(ds_bag)"
   ],
   "metadata": {
    "collapsed": false
   },
   "id": "169e589599cb3e9",
   "execution_count": null
  },
  {
   "cell_type": "code",
   "outputs": [],
   "source": [
    "EA.severity_analysis(ds_bag)"
   ],
   "metadata": {
    "collapsed": false
   },
   "id": "a1b83bd0a3121eac",
   "execution_count": null
  },
  {
   "cell_type": "code",
   "outputs": [],
   "source": [
    "EA.upload_execution(configuration_record, True)"
   ],
   "metadata": {
    "collapsed": false
   },
   "id": "2d4dc3656a5e22cd",
   "execution_count": null
  },
  {
   "cell_type": "code",
   "outputs": [],
   "source": [],
   "metadata": {
    "collapsed": false
   },
   "id": "9a6d085dcf6d4699"
  }
 ],
 "metadata": {
  "kernelspec": {
   "name": "python3",
   "language": "python",
   "display_name": "Python 3 (ipykernel)"
  },
  "language_info": {
   "codemirror_mode": {
    "name": "ipython",
    "version": 3
   },
   "file_extension": ".py",
   "mimetype": "text/x-python",
   "name": "python",
   "nbconvert_exporter": "python",
   "pygments_lexer": "ipython3",
   "version": "3.10.13"
  }
 },
 "nbformat": 4,
 "nbformat_minor": 5
}
