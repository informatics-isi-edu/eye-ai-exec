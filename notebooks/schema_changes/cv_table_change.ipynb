{
 "cells": [
  {
   "cell_type": "code",
   "execution_count": null,
   "id": "d0ca5209-1bae-464f-b8c9-7bb97153b812",
   "metadata": {},
   "outputs": [],
   "source": [
    "repo_dir = \"Repos\"   # Set this to be where your github repos are located.\n",
    "%load_ext autoreload\n",
    "%autoreload 2\n",
    "\n",
    "# Update the load path so python can find modules for the model\n",
    "import sys\n",
    "from pathlib import Path\n",
    "sys.path.insert(0, str(Path.home() / repo_dir / \"deriva-ml\"))\n",
    "sys.path.insert(0, str(Path.home() / repo_dir / \"eye-ai-ml\"))"
   ]
  },
  {
   "cell_type": "code",
   "execution_count": null,
   "id": "65eea4ec-1e72-4015-a2cd-d72bf94fdefb",
   "metadata": {},
   "outputs": [],
   "source": [
    "# Prerequisites\n",
    "\n",
    "import json\n",
    "import os\n",
    "from eye_ai.eye_ai import EyeAI\n",
    "import pandas as pd\n",
    "from pathlib import Path, PurePath\n",
    "import logging\n",
    "from deriva.chisel import Model, Schema, Table, Column, Key, ForeignKey, builtin_types\n",
    "# import torch\n",
    "\n",
    "logging.basicConfig(level=logging.INFO, format='%(asctime)s - %(levelname)s - %(message)s', force=True)"
   ]
  },
  {
   "cell_type": "code",
   "execution_count": null,
   "id": "19709707-f3ca-44f2-a148-1f5f6b5f5218",
   "metadata": {},
   "outputs": [],
   "source": [
    "from deriva.core.utils.globus_auth_utils import GlobusNativeLogin\n",
    "# catalog_id = \"362\" #@param\n",
    "catalog_id = \"428\" #@param\n",
    "# 411 412 426\n",
    "# host = 'www.eye-ai.org'\n",
    "host = 'dev.eye-ai.org'\n",
    "\n",
    "\n",
    "gnl = GlobusNativeLogin(host=host)\n",
    "if gnl.is_logged_in([host]):\n",
    "    print(\"You are already logged in.\")\n",
    "else:\n",
    "    gnl.login([host], no_local_server=True, no_browser=True, refresh_tokens=True, update_bdbag_keychain=True)\n",
    "    print(\"Login Successful\")"
   ]
  },
  {
   "cell_type": "code",
   "execution_count": null,
   "id": "4864a327-59eb-4db1-bb22-5abb81fa8109",
   "metadata": {},
   "outputs": [],
   "source": [
    "cache_dir = '/data'        # Directory in which to cache materialized BDBags for datasets\n",
    "working_dir = '/data'    # Directory in which to place output files for later upload.\n",
    "EA = EyeAI(hostname = host, catalog_id = catalog_id, \n",
    "           cache_dir= cache_dir, working_dir=working_dir)"
   ]
  },
  {
   "cell_type": "code",
   "execution_count": null,
   "id": "8ff3d3ef-05b2-4df8-b15c-c727bfe5ec1a",
   "metadata": {},
   "outputs": [],
   "source": [
    "cv_list = {}\n",
    "for t in EA.find_vocabularies():\n",
    "    cv_list[t.name] = {'schema': t.schema.name, 'fks': t.referenced_by}\n",
    "\n",
    "full_list = cv_list\n",
    "full_list.pop('Subject_image_quality_factor')\n",
    "full_list"
   ]
  },
  {
   "cell_type": "code",
   "execution_count": null,
   "id": "b8737186-fb88-4272-990f-b1f476c5520d",
   "metadata": {},
   "outputs": [],
   "source": [
    "# cleanup_table_names(cv_list)"
   ]
  },
  {
   "cell_type": "code",
   "execution_count": null,
   "id": "124266c7-c30c-4fa3-9925-5275be4302d4",
   "metadata": {},
   "outputs": [],
   "source": [
    "def create_new_cv_table(EA, cv_schema_name, old_cv_table_name, t_name):\n",
    "    cv_schema = EA.catalog.getPathBuilder().schemas[cv_schema_name]\n",
    "    \n",
    "    # retrieve exiting terms\n",
    "    old_cv_table = cv_schema.tables[old_cv_table_name]\n",
    "    path = old_cv_table.path\n",
    "    entities = pd.DataFrame(path.entities())\n",
    "    terms_ingest = entities[['Name', 'Description', 'Synonyms']]\n",
    "    terms_ingest_mapping = entities[['RID', 'Name']]\n",
    "    \n",
    "    # create new table\n",
    "    if(t_name not in cv_schema.tables):\n",
    "        new_vocab_table = EA.create_vocabulary(\n",
    "            vocab_name = t_name,\n",
    "            schema= cv_schema_name)\n",
    "\n",
    "        # ingest exiting terms\n",
    "        ingest_list = terms_ingest.to_dict(orient='records')\n",
    "        cv_schema = EA.catalog.getPathBuilder().schemas[cv_schema_name]\n",
    "        new_vocab = cv_schema.tables[t_name]\n",
    "        new_vocab.insert(ingest_list, defaults={'ID', 'URI'})\n",
    "    return terms_ingest_mapping\n",
    "\n",
    "def update(table, mapping_list, num_up):\n",
    "    n = len(mapping_list)\n",
    "    for i in range(n // num_up):\n",
    "        table.update(mapping_list[i * num_up: (i + 1) * num_up], [table.RID])\n",
    "        logging.info(f\"Updated indices: {i * num_up} to {(i + 1) * num_up}\")\n",
    "    remaining_start = (i + 1) * num_up if n >= num_up else 0\n",
    "    if remaining_start < n:\n",
    "        table.update(mapping_list[remaining_start: n], [table.RID])\n",
    "        logging.info(f\"Updated indices: {remaining_start} to {n}\")\n",
    "\n",
    "\n",
    "def build_association(EA, cv_schema_name, old_cv_table_name, asso_schema_name, asso_table_name, \n",
    "                      t_name, fk_col_name, terms_ingest_mapping):\n",
    "    # EA = EyeAI(hostname = host, catalog_id = catalog_id, \n",
    "    #        cache_dir= cache_dir, working_dir=working_dir)\n",
    "    cv_model_schema = EA.model.schemas[cv_schema_name]\n",
    "    asso_model_schema = EA.model.schemas[asso_schema_name]\n",
    "    \n",
    "    # 3. build FK\n",
    "    asso_table = asso_model_schema.tables[asso_table_name]\n",
    "    new_vocab_table = cv_model_schema.tables[t_name]\n",
    "    try:\n",
    "        asso_table.create_reference((t_name, True, new_vocab_table))\n",
    "    except:\n",
    "        pass\n",
    "\n",
    "    # 4. add new references - Name\n",
    "    asso_schema = EA.catalog.getPathBuilder().schemas[asso_schema_name]\n",
    "    asso_entities = asso_schema.tables[asso_table_name]\n",
    "    path = asso_entities.path\n",
    "\n",
    "    terms_ingest = pd.DataFrame(path.entities())[['RID', fk_col_name]]\n",
    "    terms_ingest = pd.merge(terms_ingest, terms_ingest_mapping, how='left', left_on=fk_col_name, right_on='RID')\n",
    "    \n",
    "    mapping_ingest = terms_ingest[['RID_x', 'Name']]\n",
    "    mapping_ingest.rename(columns={'RID_x':'RID', 'Name':t_name}, inplace=True)\n",
    "\n",
    "    mapping_ingest.dropna(inplace=True)\n",
    "    mapping_list = mapping_ingest.to_dict(orient='records')\n",
    "    update(asso_entities, mapping_list, 500)\n",
    "    "
   ]
  },
  {
   "cell_type": "code",
   "execution_count": null,
   "id": "0ae95e87-009b-4f01-81cd-88163b98212c",
   "metadata": {},
   "outputs": [],
   "source": [
    "def refactor_cv_tables(cv_table_dict):\n",
    "    for key, values in cv_table_dict.items():\n",
    "        old_cv_table_name = key\n",
    "        logging.info(f\"Updating cv table {key}\")\n",
    "        if old_cv_table_name.endswith('_Vocab'):\n",
    "            t_name = old_cv_table_name[:-6]\n",
    "        else:\n",
    "            t_name = old_cv_table_name+'_Vocab'\n",
    "        cv_schema_name = values['schema']\n",
    "        # create new cv table with values:\n",
    "        terms_ingest_mapping = create_new_cv_table(EA, cv_schema_name, old_cv_table_name, t_name)\n",
    "        \n",
    "        # find associated tables\n",
    "        for fk in values['fks']:\n",
    "            print(fk)\n",
    "            fk_cols = []\n",
    "            for col in fk.columns:\n",
    "                asso_schema_name = col.table.schema.name\n",
    "                asso_table_name = col.table.name\n",
    "                fk_col_name = col.name\n",
    "                # Build association and update FK col\n",
    "                build_association(EA, cv_schema_name, old_cv_table_name, \n",
    "                                  asso_schema_name, asso_table_name, \n",
    "                                  t_name, fk_col_name,\n",
    "                                  terms_ingest_mapping)\n",
    "                fk_cols.append(col)\n",
    "            fk.drop()\n",
    "            for c in fk_cols:\n",
    "                c.drop()"
   ]
  },
  {
   "cell_type": "code",
   "execution_count": null,
   "id": "1b9f0cb0-6708-48e5-8578-3f60db8f6d6b",
   "metadata": {},
   "outputs": [],
   "source": [
    "# refactor_cv_tables(results_cv)\n",
    "# test_list"
   ]
  },
  {
   "cell_type": "code",
   "execution_count": null,
   "id": "0a91af6c-daef-40d5-a2cf-2f88c10286f5",
   "metadata": {},
   "outputs": [],
   "source": [
    "keys = ['Diagnosis_Image_Vocab','Image_Side_Vocab', 'Diagnosis_Tag', 'Diagnosis_Status']\n",
    "\n",
    "remaining_list = {k: full_list[k] for k in keys if k in full_list}\n",
    "remaining_list\n",
    "refactor_cv_tables(remaining_list)"
   ]
  },
  {
   "cell_type": "code",
   "execution_count": null,
   "id": "226c7b60-5bab-4859-b09b-d6b6b6c9f490",
   "metadata": {},
   "outputs": [],
   "source": [
    "remaining_list2 = {}\n",
    "remaining_list2['Image_Side_Vocab'] = remaining_list['Image_Side_Vocab']\n",
    "remaining_list2\n",
    "refactor_cv_tables(remaining_list2)"
   ]
  },
  {
   "cell_type": "code",
   "execution_count": null,
   "id": "40239a85-bc3d-4e44-85e7-9efe410bedb7",
   "metadata": {},
   "outputs": [],
   "source": [
    "def clean_old_cv_table(cv_list):\n",
    "    for key, values in cv_list.items():\n",
    "        table = EA.model.schemas[values['schema']].tables[key]\n",
    "        for fk in values['fks']:\n",
    "            fk_cols = [col for col in fk.columns]\n",
    "            fk.drop()\n",
    "            for c in fk_cols:\n",
    "                c.drop()\n",
    "        table.drop()"
   ]
  },
  {
   "cell_type": "code",
   "execution_count": null,
   "id": "ed0da2c9-a36a-4087-acd5-7f759a218ad8",
   "metadata": {},
   "outputs": [],
   "source": [
    "clean_old_cv_table(full_list)"
   ]
  },
  {
   "cell_type": "code",
   "execution_count": null,
   "id": "5257cfdf-d012-40c3-a106-a11660610e02",
   "metadata": {},
   "outputs": [],
   "source": [
    "def consistent_cv_name(cv_tables):\n",
    "    for key, values in cv_tables.items():\n",
    "        tname = key\n",
    "        logging.info(f\"==== Updating cv table {tname}\")\n",
    "        if tname.endswith('_Vocab'):\n",
    "            new_tname = tname[:-6]\n",
    "            table = EA.model.table(values['schema'], tname)\n",
    "            table.alter(table_name = new_tname)\n",
    "            for fk in values['fks']:\n",
    "                for col in fk.columns:\n",
    "                    cname = col.name\n",
    "                    new_cname = cname[:-6]\n",
    "                    col.alter(name=new_cname)\n",
    "            \n",
    "# len(full_list)\n",
    "consistent_cv_name(full_list)"
   ]
  },
  {
   "cell_type": "code",
   "execution_count": null,
   "id": "4803056f-8022-45e1-a759-65777fda9156",
   "metadata": {},
   "outputs": [],
   "source": []
  }
 ],
 "metadata": {
  "language_info": {
   "name": "python"
  }
 },
 "nbformat": 4,
 "nbformat_minor": 5
}
