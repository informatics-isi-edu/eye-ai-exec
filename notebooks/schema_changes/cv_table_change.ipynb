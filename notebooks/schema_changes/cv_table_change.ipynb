{
 "cells": [
  {
   "cell_type": "code",
   "execution_count": 1,
   "id": "d0ca5209-1bae-464f-b8c9-7bb97153b812",
   "metadata": {},
   "outputs": [],
   "source": [
    "repo_dir = \"Repos\"   # Set this to be where your github repos are located.\n",
    "%load_ext autoreload\n",
    "%autoreload 2\n",
    "\n",
    "# Update the load path so python can find modules for the model\n",
    "import sys\n",
    "from pathlib import Path\n",
    "sys.path.insert(0, str(Path.home() / repo_dir / \"deriva-ml\"))\n",
    "sys.path.insert(0, str(Path.home() / repo_dir / \"eye-ai-ml\"))"
   ]
  },
  {
   "cell_type": "code",
   "execution_count": 2,
   "id": "65eea4ec-1e72-4015-a2cd-d72bf94fdefb",
   "metadata": {},
   "outputs": [],
   "source": [
    "# Prerequisites\n",
    "\n",
    "import json\n",
    "import os\n",
    "from eye_ai.eye_ai import EyeAI\n",
    "import pandas as pd\n",
    "from pathlib import Path, PurePath\n",
    "import logging\n",
    "from deriva.chisel import Model, Schema, Table, Column, Key, ForeignKey, builtin_types\n",
    "# import torch\n",
    "\n",
    "logging.basicConfig(level=logging.INFO, format='%(asctime)s - %(levelname)s - %(message)s', force=True)"
   ]
  },
  {
   "cell_type": "code",
   "execution_count": 3,
   "id": "19709707-f3ca-44f2-a148-1f5f6b5f5218",
   "metadata": {},
   "outputs": [
    {
     "name": "stderr",
     "output_type": "stream",
     "text": [
      "2024-10-10 14:28:37,111 - INFO - Creating client of type <class 'globus_sdk.services.auth.client.native_client.NativeAppAuthClient'> for service \"auth\"\n",
      "2024-10-10 14:28:37,112 - INFO - Finished initializing AuthLoginClient. client_id='8ef15ba9-2b4a-469c-a163-7fd910c9d111', type(authorizer)=<class 'globus_sdk.authorizers.base.NullAuthorizer'>\n"
     ]
    },
    {
     "name": "stdout",
     "output_type": "stream",
     "text": [
      "You are already logged in.\n"
     ]
    }
   ],
   "source": [
    "from deriva.core.utils.globus_auth_utils import GlobusNativeLogin\n",
    "catalog_id = \"362\" #@param\n",
    "# host = 'www.eye-ai.org'\n",
    "host = 'dev.eye-ai.org'\n",
    "\n",
    "\n",
    "gnl = GlobusNativeLogin(host=host)\n",
    "if gnl.is_logged_in([host]):\n",
    "    print(\"You are already logged in.\")\n",
    "else:\n",
    "    gnl.login([host], no_local_server=True, no_browser=True, refresh_tokens=True, update_bdbag_keychain=True)\n",
    "    print(\"Login Successful\")"
   ]
  },
  {
   "cell_type": "code",
   "execution_count": 4,
   "id": "4864a327-59eb-4db1-bb22-5abb81fa8109",
   "metadata": {},
   "outputs": [
    {
     "name": "stderr",
     "output_type": "stream",
     "text": [
      "2024-10-10 14:28:38,660 - INFO - Creating client of type <class 'globus_sdk.services.auth.client.native_client.NativeAppAuthClient'> for service \"auth\"\n",
      "2024-10-10 14:28:38,660 - INFO - Finished initializing AuthLoginClient. client_id='8ef15ba9-2b4a-469c-a163-7fd910c9d111', type(authorizer)=<class 'globus_sdk.authorizers.base.NullAuthorizer'>\n"
     ]
    }
   ],
   "source": [
    "\n",
    "cache_dir = '/data'        # Directory in which to cache materialized BDBags for datasets\n",
    "working_dir = '/data'    # Directory in which to place output files for later upload.\n",
    "EA = EyeAI(hostname = host, catalog_id = catalog_id, \n",
    "           cache_dir= cache_dir, working_dir=working_dir)"
   ]
  },
  {
   "cell_type": "code",
   "execution_count": 82,
   "id": "8ff3d3ef-05b2-4df8-b15c-c727bfe5ec1a",
   "metadata": {
    "scrolled": true
   },
   "outputs": [
    {
     "data": {
      "text/plain": [
       "{'Diagnosis_Subject_Vocab': {'schema': 'eye-ai', 'fks': []},\n",
       " 'Diagnosis_Observation_Vocab': {'schema': 'eye-ai', 'fks': []},\n",
       " 'Diagnosis_Image_Vocab': {'schema': 'eye-ai',\n",
       "  'fks': [<deriva.core.ermrest_model.ForeignKey object 'eye-ai'.'Diagnosis_Diagnosis_Vocab_fkey' at 0x7f2f627ca560>,\n",
       "   <deriva.core.ermrest_model.ForeignKey object 'eye-ai'.'Subject_Diagnosis_Diagnosis_Vocab_fkey' at 0x7f2f627c87c0>,\n",
       "   <deriva.core.ermrest_model.ForeignKey object 'eye-ai'.'Observation_Diagnosis_Diagnosis_Vocab_fkey' at 0x7f2f635db130>]},\n",
       " 'Image_Side_Vocab': {'schema': 'eye-ai',\n",
       "  'fks': [<deriva.core.ermrest_model.ForeignKey object 'eye-ai'.'Image_Image_Side_Vocab_fkey' at 0x7f2f633cfe50>,\n",
       "   <deriva.core.ermrest_model.ForeignKey object 'eye-ai'.'Clinical_Records_Image_Side_Vocab_fkey' at 0x7f2f62b3d840>,\n",
       "   <deriva.core.ermrest_model.ForeignKey object 'eye-ai'.'OCR_RNFL_Image_Side_Vocab_fkey' at 0x7f2f634ae6b0>,\n",
       "   <deriva.core.ermrest_model.ForeignKey object 'eye-ai'.'OCR_HVF_Image_Side_Vocab_fkey' at 0x7f2f634acf70>]},\n",
       " 'Image_Angle_Vocab': {'schema': 'eye-ai',\n",
       "  'fks': [<deriva.core.ermrest_model.ForeignKey object 'eye-ai'.'Image_Image_Angle_Vocab_fkey' at 0x7f2f633cf7c0>]},\n",
       " 'Image_Quality_Vocab': {'schema': 'eye-ai',\n",
       "  'fks': [<deriva.core.ermrest_model.ForeignKey object 'eye-ai'.'Diagnosis_Image_Quality_Vocab_fkey' at 0x7f2f627ca830>]},\n",
       " 'Subject_Gender': {'schema': 'eye-ai',\n",
       "  'fks': [<deriva.core.ermrest_model.ForeignKey object 'eye-ai'.'Subject_Subject_Gender_fkey' at 0x7f2f633cd450>]},\n",
       " 'Subject_Ethnicity': {'schema': 'eye-ai',\n",
       "  'fks': [<deriva.core.ermrest_model.ForeignKey object 'eye-ai'.'Subject_Subject_Ethnicity_fkey' at 0x7f2f633cc5b0>]},\n",
       " 'Subject_hypertension': {'schema': 'eye-ai',\n",
       "  'fks': [<deriva.core.ermrest_model.ForeignKey object 'eye-ai'.'Observation_hypertension_fkey' at 0x7f2f645b30d0>]},\n",
       " 'Subject_insulin_dependent': {'schema': 'eye-ai',\n",
       "  'fks': [<deriva.core.ermrest_model.ForeignKey object 'eye-ai'.'Observation_insulin_dependent_fkey' at 0x7f2f645b3190>]},\n",
       " 'Subject_pregnant': {'schema': 'eye-ai',\n",
       "  'fks': [<deriva.core.ermrest_model.ForeignKey object 'eye-ai'.'Observation_pregnant_fkey' at 0x7f2f645b28c0>]},\n",
       " 'Subject_cataract': {'schema': 'eye-ai',\n",
       "  'fks': [<deriva.core.ermrest_model.ForeignKey object 'eye-ai'.'Observation_cataract_fkey' at 0x7f2f645b2950>]},\n",
       " 'Subject_maculopathy': {'schema': 'eye-ai',\n",
       "  'fks': [<deriva.core.ermrest_model.ForeignKey object 'eye-ai'.'Observation_maculopathy_fkey' at 0x7f2f645b28f0>]},\n",
       " 'Subject_other': {'schema': 'eye-ai',\n",
       "  'fks': [<deriva.core.ermrest_model.ForeignKey object 'eye-ai'.'Observation_other_fkey' at 0x7f2f633ce650>]},\n",
       " 'Subject_image_quality': {'schema': 'eye-ai',\n",
       "  'fks': [<deriva.core.ermrest_model.ForeignKey object 'eye-ai'.'Observation_image_quality_fkey' at 0x7f2f633cf640>]},\n",
       " 'Subject_image_quality_factor': {'schema': 'eye-ai',\n",
       "  'fks': [<deriva.core.ermrest_model.ForeignKey object 'eye-ai'.'Subject_image.._Subject_image_quality_factor_fkey_g12gJ' at 0x7f2f627dc160>]},\n",
       " 'Image_Output': {'schema': 'eye-ai', 'fks': []},\n",
       " 'Diagnosis_Tag': {'schema': 'eye-ai',\n",
       "  'fks': [<deriva.core.ermrest_model.ForeignKey object 'eye-ai'.'Diagnosis_Diagnosis_Tag_fkey' at 0x7f2f627c9c60>,\n",
       "   <deriva.core.ermrest_model.ForeignKey object 'eye-ai'.'Subject_Diagnosis_Diagnosis_Tag_fkey' at 0x7f2f627c88b0>,\n",
       "   <deriva.core.ermrest_model.ForeignKey object 'eye-ai'.'Observation_Diagnosis_Diagnosis_Tag_fkey' at 0x7f2f635d8fd0>]},\n",
       " 'Diagnosis_Status': {'schema': 'eye-ai',\n",
       "  'fks': [<deriva.core.ermrest_model.ForeignKey object 'eye-ai'.'Diagnosis_Diagnosis_Status_fkey' at 0x7f2f627ca6e0>,\n",
       "   <deriva.core.ermrest_model.ForeignKey object 'eye-ai'.'Subject_Diagnosis_Diagnosis_Status_fkey' at 0x7f2f627c88e0>,\n",
       "   <deriva.core.ermrest_model.ForeignKey object 'eye-ai'.'Observation_Diagnosis_Diagnosis_Status_fkey' at 0x7f2f635dbaf0>]},\n",
       " 'Image_Tag': {'schema': 'eye-ai',\n",
       "  'fks': [<deriva.core.ermrest_model.ForeignKey object 'eye-ai'.'Image_Image_Tag_fkey' at 0x7f2f633cc820>]},\n",
       " 'Process_Tag': {'schema': 'eye-ai',\n",
       "  'fks': [<deriva.core.ermrest_model.ForeignKey object 'eye-ai'.'Process_Process_Tag_fkey' at 0x7f2f627cb6a0>]},\n",
       " 'Annotation_Function': {'schema': 'eye-ai',\n",
       "  'fks': [<deriva.core.ermrest_model.ForeignKey object 'eye-ai'.'Image_Execution_Assets_Annotation_Function_fkey' at 0x7f2f63543b80>]},\n",
       " 'Annotation_Type': {'schema': 'eye-ai',\n",
       "  'fks': [<deriva.core.ermrest_model.ForeignKey object 'eye-ai'.'Image_Execution_Assets_Annotation_Type_fkey' at 0x7f2f63543610>]},\n",
       " 'ICD10_Eye': {'schema': 'eye-ai',\n",
       "  'fks': [<deriva.core.ermrest_model.ForeignKey object 'eye-ai'.'Clinical_Records_ICD10_Eye_ICD10_Eye_fkey' at 0x7f2f62b3e410>]},\n",
       " 'Report_Type': {'schema': 'eye-ai',\n",
       "  'fks': [<deriva.core.ermrest_model.ForeignKey object 'eye-ai'.'Report_Report_Type_fkey' at 0x7f2f62b3f250>]},\n",
       " 'Condition_Label': {'schema': 'eye-ai',\n",
       "  'fks': [<deriva.core.ermrest_model.ForeignKey object 'eye-ai'.'Clinical_Records_Condition_Label_fkey' at 0x7f2f62b3d6c0>]},\n",
       " 'Execution_Metadata_Type': {'schema': 'deriva-ml',\n",
       "  'fks': [<deriva.core.ermrest_model.ForeignKey object 'deriva-ml'.'Execution_Metadata_Execution_Metadata_Type_fkey' at 0x7f2f63005780>]},\n",
       " 'Workflow_Type_vocab': {'schema': 'deriva-ml',\n",
       "  'fks': [<deriva.core.ermrest_model.ForeignKey object 'deriva-ml'.'Workflow_Workflow_Type_vocab_fkey' at 0x7f2f627584f0>]},\n",
       " 'Execution_Asset_Type_Vocab': {'schema': 'deriva-ml',\n",
       "  'fks': [<deriva.core.ermrest_model.ForeignKey object 'deriva-ml'.'Execution_Assets_Execution_Asset_Type_Vocab_fkey' at 0x7f2f63006da0>]}}"
      ]
     },
     "execution_count": 82,
     "metadata": {},
     "output_type": "execute_result"
    }
   ],
   "source": [
    "cv_list = {}\n",
    "for t in EA.find_vocabularies():\n",
    "    cv_list[t.name] = {'schema': t.schema.name, 'fks': t.referenced_by}\n",
    "\n",
    "full_list = cv_list"
   ]
  },
  {
   "cell_type": "code",
   "execution_count": 159,
   "id": "0bc51315-b45f-4fa3-933c-45e4e23265e4",
   "metadata": {
    "scrolled": true
   },
   "outputs": [
    {
     "data": {
      "text/plain": [
       "{'Image_Side_Vocab': {'schema': 'eye-ai',\n",
       "  'fks': [<deriva.core.ermrest_model.ForeignKey object 'eye-ai'.'Image_Image_Side_Vocab_fkey' at 0x7f2f633cfe50>,\n",
       "   <deriva.core.ermrest_model.ForeignKey object 'eye-ai'.'Clinical_Records_Image_Side_Vocab_fkey' at 0x7f2f62b3d840>,\n",
       "   <deriva.core.ermrest_model.ForeignKey object 'eye-ai'.'OCR_RNFL_Image_Side_Vocab_fkey' at 0x7f2f634ae6b0>,\n",
       "   <deriva.core.ermrest_model.ForeignKey object 'eye-ai'.'OCR_HVF_Image_Side_Vocab_fkey' at 0x7f2f634acf70>]},\n",
       " 'Image_Angle_Vocab': {'schema': 'eye-ai',\n",
       "  'fks': [<deriva.core.ermrest_model.ForeignKey object 'eye-ai'.'Image_Image_Angle_Vocab_fkey' at 0x7f2f633cf7c0>]},\n",
       " 'Image_Quality_Vocab': {'schema': 'eye-ai',\n",
       "  'fks': [<deriva.core.ermrest_model.ForeignKey object 'eye-ai'.'Diagnosis_Image_Quality_Vocab_fkey' at 0x7f2f627ca830>]},\n",
       " 'Subject_Gender': {'schema': 'eye-ai',\n",
       "  'fks': [<deriva.core.ermrest_model.ForeignKey object 'eye-ai'.'Subject_Subject_Gender_fkey' at 0x7f2f633cd450>]},\n",
       " 'Subject_Ethnicity': {'schema': 'eye-ai',\n",
       "  'fks': [<deriva.core.ermrest_model.ForeignKey object 'eye-ai'.'Subject_Subject_Ethnicity_fkey' at 0x7f2f633cc5b0>]},\n",
       " 'Subject_hypertension': {'schema': 'eye-ai',\n",
       "  'fks': [<deriva.core.ermrest_model.ForeignKey object 'eye-ai'.'Observation_hypertension_fkey' at 0x7f2f645b30d0>]},\n",
       " 'Subject_insulin_dependent': {'schema': 'eye-ai',\n",
       "  'fks': [<deriva.core.ermrest_model.ForeignKey object 'eye-ai'.'Observation_insulin_dependent_fkey' at 0x7f2f645b3190>]},\n",
       " 'Subject_pregnant': {'schema': 'eye-ai',\n",
       "  'fks': [<deriva.core.ermrest_model.ForeignKey object 'eye-ai'.'Observation_pregnant_fkey' at 0x7f2f645b28c0>]},\n",
       " 'Subject_cataract': {'schema': 'eye-ai',\n",
       "  'fks': [<deriva.core.ermrest_model.ForeignKey object 'eye-ai'.'Observation_cataract_fkey' at 0x7f2f645b2950>]},\n",
       " 'Subject_maculopathy': {'schema': 'eye-ai',\n",
       "  'fks': [<deriva.core.ermrest_model.ForeignKey object 'eye-ai'.'Observation_maculopathy_fkey' at 0x7f2f645b28f0>]},\n",
       " 'Subject_other': {'schema': 'eye-ai',\n",
       "  'fks': [<deriva.core.ermrest_model.ForeignKey object 'eye-ai'.'Observation_other_fkey' at 0x7f2f633ce650>]},\n",
       " 'Subject_image_quality': {'schema': 'eye-ai',\n",
       "  'fks': [<deriva.core.ermrest_model.ForeignKey object 'eye-ai'.'Observation_image_quality_fkey' at 0x7f2f633cf640>]},\n",
       " 'Subject_image_quality_factor': {'schema': 'eye-ai',\n",
       "  'fks': [<deriva.core.ermrest_model.ForeignKey object 'eye-ai'.'Subject_image.._Subject_image_quality_factor_fkey_g12gJ' at 0x7f2f627dc160>]},\n",
       " 'Image_Output': {'schema': 'eye-ai', 'fks': []},\n",
       " 'Diagnosis_Tag': {'schema': 'eye-ai',\n",
       "  'fks': [<deriva.core.ermrest_model.ForeignKey object 'eye-ai'.'Diagnosis_Diagnosis_Tag_fkey' at 0x7f2f627c9c60>,\n",
       "   <deriva.core.ermrest_model.ForeignKey object 'eye-ai'.'Subject_Diagnosis_Diagnosis_Tag_fkey' at 0x7f2f627c88b0>,\n",
       "   <deriva.core.ermrest_model.ForeignKey object 'eye-ai'.'Observation_Diagnosis_Diagnosis_Tag_fkey' at 0x7f2f635d8fd0>]},\n",
       " 'Diagnosis_Status': {'schema': 'eye-ai',\n",
       "  'fks': [<deriva.core.ermrest_model.ForeignKey object 'eye-ai'.'Diagnosis_Diagnosis_Status_fkey' at 0x7f2f627ca6e0>,\n",
       "   <deriva.core.ermrest_model.ForeignKey object 'eye-ai'.'Subject_Diagnosis_Diagnosis_Status_fkey' at 0x7f2f627c88e0>,\n",
       "   <deriva.core.ermrest_model.ForeignKey object 'eye-ai'.'Observation_Diagnosis_Diagnosis_Status_fkey' at 0x7f2f635dbaf0>]},\n",
       " 'Image_Tag': {'schema': 'eye-ai',\n",
       "  'fks': [<deriva.core.ermrest_model.ForeignKey object 'eye-ai'.'Image_Image_Tag_fkey' at 0x7f2f633cc820>]},\n",
       " 'Process_Tag': {'schema': 'eye-ai',\n",
       "  'fks': [<deriva.core.ermrest_model.ForeignKey object 'eye-ai'.'Process_Process_Tag_fkey' at 0x7f2f627cb6a0>]},\n",
       " 'Annotation_Function': {'schema': 'eye-ai',\n",
       "  'fks': [<deriva.core.ermrest_model.ForeignKey object 'eye-ai'.'Image_Execution_Assets_Annotation_Function_fkey' at 0x7f2f63543b80>]},\n",
       " 'Annotation_Type': {'schema': 'eye-ai',\n",
       "  'fks': [<deriva.core.ermrest_model.ForeignKey object 'eye-ai'.'Image_Execution_Assets_Annotation_Type_fkey' at 0x7f2f63543610>]},\n",
       " 'ICD10_Eye': {'schema': 'eye-ai',\n",
       "  'fks': [<deriva.core.ermrest_model.ForeignKey object 'eye-ai'.'Clinical_Records_ICD10_Eye_ICD10_Eye_fkey' at 0x7f2f62b3e410>]},\n",
       " 'Report_Type': {'schema': 'eye-ai',\n",
       "  'fks': [<deriva.core.ermrest_model.ForeignKey object 'eye-ai'.'Report_Report_Type_fkey' at 0x7f2f62b3f250>]},\n",
       " 'Condition_Label': {'schema': 'eye-ai',\n",
       "  'fks': [<deriva.core.ermrest_model.ForeignKey object 'eye-ai'.'Clinical_Records_Condition_Label_fkey' at 0x7f2f62b3d6c0>]},\n",
       " 'Execution_Metadata_Type': {'schema': 'deriva-ml',\n",
       "  'fks': [<deriva.core.ermrest_model.ForeignKey object 'deriva-ml'.'Execution_Metadata_Execution_Metadata_Type_fkey' at 0x7f2f63005780>]}}"
      ]
     },
     "execution_count": 159,
     "metadata": {},
     "output_type": "execute_result"
    }
   ],
   "source": [
    "# del cv_list['Execution_Asset_Type_Vocab']\n",
    "# del cv_list['Workflow_Type_vocab']\n",
    "# del cv_list['Diagnosis_Subject_Vocab']\n",
    "# del cv_list['Diagnosis_Observation_Vocab']\n",
    "del cv_list['Diagnosis_Image_Vocab']\n",
    "cv_list"
   ]
  },
  {
   "cell_type": "code",
   "execution_count": 160,
   "id": "0ae95e87-009b-4f01-81cd-88163b98212c",
   "metadata": {},
   "outputs": [],
   "source": [
    "def refactor_cv_tables(cv_table_dict):\n",
    "    for key, values in cv_table_dict.items():\n",
    "        old_cv_table_name = key\n",
    "        logging.info(f\"Updated table {key}\")\n",
    "        t_name = old_cv_table_name+'_Vocab'\n",
    "        cv_schema_name = values['schema']\n",
    "        # create new cv table with values:\n",
    "        terms_ingest_mapping = create_new_cv_table(cv_schema_name, old_cv_table_name, t_name)\n",
    "        \n",
    "        # find associated tables\n",
    "        for fk in values['fks']:\n",
    "            fk_cols = []\n",
    "            for col in fk.columns:\n",
    "                asso_schema_name = col.table.schema.name\n",
    "                asso_table_name = col.table.name\n",
    "                fk_col_name = col.name\n",
    "                # Build association and update FK col\n",
    "                build_association(cv_schema_name, old_cv_table_name, \n",
    "                                  asso_schema_name, asso_table_name, \n",
    "                                  t_name, fk_col_name,\n",
    "                                  terms_ingest_mapping)\n",
    "                fk_cols.append(col)\n",
    "            fk.drop()\n",
    "            for c in fk_cols:\n",
    "                c.drop()"
   ]
  },
  {
   "cell_type": "code",
   "execution_count": null,
   "id": "1b9f0cb0-6708-48e5-8578-3f60db8f6d6b",
   "metadata": {
    "scrolled": true
   },
   "outputs": [],
   "source": [
    "# test_list = {}\n",
    "# test_list['Diagnosis_Image_Vocab'] = cv_list['Diagnosis_Image_Vocab']\n",
    "\n",
    "refactor_cv_tables(cv_list)\n",
    "test_list"
   ]
  },
  {
   "cell_type": "code",
   "execution_count": 163,
   "id": "124266c7-c30c-4fa3-9925-5275be4302d4",
   "metadata": {},
   "outputs": [],
   "source": [
    "def create_new_cv_table(cv_schema_name, old_cv_table_name, t_name):\n",
    "    cv_schema = EA.catalog.getPathBuilder().schemas[cv_schema_name]\n",
    "    \n",
    "    # retrieve exiting terms\n",
    "    old_cv_table = cv_schema.tables[old_cv_table_name]\n",
    "    path = old_cv_table.path\n",
    "    entities = pd.DataFrame(path.entities())\n",
    "    terms_ingest = entities[['Name', 'Description', 'Synonyms']]\n",
    "    terms_ingest_mapping = entities[['RID', 'Name']]\n",
    "    \n",
    "    # create new table\n",
    "    if(t_name not in cv_schema.tables):\n",
    "        new_vocab_table = EA.create_vocabulary(\n",
    "            vocab_name = t_name,\n",
    "            schema= cv_schema_name)\n",
    "\n",
    "        # ingest exiting terms\n",
    "        ingest_list = terms_ingest.to_dict(orient='records')\n",
    "        cv_schema = EA.catalog.getPathBuilder().schemas[cv_schema_name]\n",
    "        new_vocab = cv_schema.tables[t_name]\n",
    "        new_vocab.insert(ingest_list, defaults={'ID', 'URI'})\n",
    "    return terms_ingest_mapping\n",
    "\n",
    "def update(table, mapping_list, num_up):\n",
    "    n = len(mapping_list)\n",
    "    for i in range(n // num_up):\n",
    "        table.update(mapping_list[i * num_up: (i + 1) * num_up], [table.RID])\n",
    "        logging.info(f\"Updated indices: {i * num_up} to {(i + 1) * num_up}\")\n",
    "    remaining_start = (i + 1) * num_up if n >= num_up else 0\n",
    "    if remaining_start < n:\n",
    "        table.update(mapping_list[remaining_start: n], [table.RID])\n",
    "        logging.info(f\"Updated indices: {remaining_start} to {n}\")\n",
    "\n",
    "\n",
    "def build_association(cv_schema_name, old_cv_table_name, asso_schema_name, asso_table_name, \n",
    "                      t_name, fk_col_name, terms_ingest_mapping):\n",
    "    EA = EyeAI(hostname = host, catalog_id = catalog_id, \n",
    "           cache_dir= cache_dir, working_dir=working_dir)\n",
    "    cv_model_schema = EA.model.schemas[cv_schema_name]\n",
    "    asso_model_schema = EA.model.schemas[asso_schema_name]\n",
    "    \n",
    "    # 3. build FK\n",
    "    asso_table = asso_model_schema.tables[asso_table_name]\n",
    "    new_vocab_table = cv_model_schema.tables[t_name]\n",
    "    try:\n",
    "        asso_table.create_reference((t_name, True, new_vocab_table))\n",
    "    except:\n",
    "        pass\n",
    "\n",
    "    # 4. add new references - Name\n",
    "    asso_schema = EA.catalog.getPathBuilder().schemas[asso_schema_name]\n",
    "    asso_entities = asso_schema.tables[asso_table_name]\n",
    "    path = asso_entities.path\n",
    "\n",
    "    terms_ingest = pd.DataFrame(path.entities())[['RID', fk_col_name]]\n",
    "    terms_ingest = pd.merge(terms_ingest, terms_ingest_mapping, how='left', left_on=fk_col_name, right_on='RID')\n",
    "    \n",
    "    mapping_ingest = terms_ingest[['RID_x', 'Name']]\n",
    "    mapping_ingest.rename(columns={'RID_x':'RID', 'Name':t_name}, inplace=True)\n",
    "    \n",
    "    mapping_list = mapping_ingest.to_dict(orient='records')\n",
    "    update(asso_entities, mapping_list, 500)\n",
    "    # asso_entities.update(mapping_list, [asso_entities.RID])\n",
    "    "
   ]
  }
 ],
 "metadata": {
  "kernelspec": {
   "display_name": "My Tensorflow",
   "language": "python",
   "name": "my-tensorflow"
  },
  "language_info": {
   "codemirror_mode": {
    "name": "ipython",
    "version": 3
   },
   "file_extension": ".py",
   "mimetype": "text/x-python",
   "name": "python",
   "nbconvert_exporter": "python",
   "pygments_lexer": "ipython3",
   "version": "3.10.13"
  }
 },
 "nbformat": 4,
 "nbformat_minor": 5
}
