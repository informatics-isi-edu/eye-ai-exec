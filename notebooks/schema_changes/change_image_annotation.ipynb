{
 "cells": [
  {
   "cell_type": "code",
   "execution_count": null,
   "id": "d0ca5209-1bae-464f-b8c9-7bb97153b812",
   "metadata": {},
   "outputs": [],
   "source": [
    "repo_dir = \"Repos\"   # Set this to be where your github repos are located.\n",
    "%load_ext autoreload\n",
    "%autoreload 2\n",
    "\n",
    "# Update the load path so python can find modules for the model\n",
    "import sys\n",
    "from pathlib import Path\n",
    "sys.path.insert(0, str(Path.home() / repo_dir / \"deriva-ml\"))\n",
    "sys.path.insert(0, str(Path.home() / repo_dir / \"eye-ai-ml\"))"
   ]
  },
  {
   "cell_type": "code",
   "execution_count": null,
   "id": "65eea4ec-1e72-4015-a2cd-d72bf94fdefb",
   "metadata": {},
   "outputs": [],
   "source": [
    "# Prerequisites\n",
    "\n",
    "import json\n",
    "import os\n",
    "from eye_ai.eye_ai import EyeAI\n",
    "import pandas as pd\n",
    "from pathlib import Path, PurePath\n",
    "import logging\n",
    "from deriva.chisel import Model, Schema, Table, Column, Key, ForeignKey, builtin_types\n",
    "from deriva_ml.deriva_ml_base import DerivaML, DerivaMLException, FileUploadState, UploadState, ColumnDefinition, BuiltinTypes\n",
    "\n",
    "# import torch\n",
    "\n",
    "logging.basicConfig(level=logging.INFO, format='%(asctime)s - %(levelname)s - %(message)s', force=True)"
   ]
  },
  {
   "cell_type": "code",
   "execution_count": null,
   "id": "19709707-f3ca-44f2-a148-1f5f6b5f5218",
   "metadata": {},
   "outputs": [],
   "source": [
    "from deriva.core.utils.globus_auth_utils import GlobusNativeLogin\n",
    "# host = 'dev.eye-ai.org'\n",
    "# catalog_id = \"428\"\n",
    "\n",
    "host = 'www.eye-ai.org'\n",
    "catalog_id = \"21\"\n",
    "\n",
    "\n",
    "gnl = GlobusNativeLogin(host=host)\n",
    "if gnl.is_logged_in([host]):\n",
    "    print(\"You are already logged in.\")\n",
    "else:\n",
    "    gnl.login([host], no_local_server=True, no_browser=True, refresh_tokens=True, update_bdbag_keychain=True)\n",
    "    print(\"Login Successful\")"
   ]
  },
  {
   "cell_type": "code",
   "execution_count": null,
   "id": "4864a327-59eb-4db1-bb22-5abb81fa8109",
   "metadata": {},
   "outputs": [],
   "source": [
    "cache_dir = '/data'        # Directory in which to cache materialized BDBags for datasets\n",
    "working_dir = '/data'    # Directory in which to place output files for later upload.\n",
    "EA = EyeAI(hostname = host, catalog_id = catalog_id, \n",
    "           cache_dir= cache_dir, working_dir=working_dir)"
   ]
  },
  {
   "cell_type": "code",
   "execution_count": null,
   "id": "b51bc500-f2a9-41a8-81ef-338e427f6c05",
   "metadata": {},
   "outputs": [],
   "source": [
    "def insert(table, mapping_list, num_up):\n",
    "    n = len(mapping_list)\n",
    "    for i in range(n // num_up):\n",
    "        table.insert(mapping_list[i * num_up: (i + 1) * num_up])\n",
    "        logging.info(f\"Updated indices: {i * num_up} to {(i + 1) * num_up}\")\n",
    "    remaining_start = (i + 1) * num_up if n >= num_up else 0\n",
    "    if remaining_start < n:\n",
    "        table.insert(mapping_list[remaining_start: n])\n",
    "        logging.info(f\"Updated indices: {remaining_start} to {n}\")"
   ]
  },
  {
   "cell_type": "code",
   "execution_count": null,
   "id": "30dcaaa2-c982-4cce-9faa-3f22ed1d5d97",
   "metadata": {},
   "outputs": [],
   "source": [
    "feature_image_annot = EA.create_feature(feature_name = \"Annotation\", \n",
    "                                        table = \"Image\", \n",
    "                                        terms = [\"Annotation_Function\", \"Annotation_Type\"], \n",
    "                                        assets = [\"Fundus_Bounding_Box\"],\n",
    "                                        comment=\"Bounding box SVG on fundus images\")    \n",
    "\n",
    "# table = EA.model.schemas['eye-ai'].tables['Execution_Image_Annotation']\n",
    "# execution_column = table.column_definitions['Execution']\n",
    "# execution_column.alter(nullok=True)"
   ]
  },
  {
   "cell_type": "code",
   "execution_count": null,
   "id": "47bc7eaa-1621-414b-a740-7be905509289",
   "metadata": {},
   "outputs": [],
   "source": [
    "exec_asset = EA.ml_schema_instance.tables['Execution_Assets']\n",
    "bounding_box = pd.DataFrame(exec_asset.path.\n",
    "                            filter(exec_asset.Execution_Asset_Type == 'Image_Annotation').\n",
    "                            entities()).drop(['RCT', 'RMT', 'RCB', 'RMB'], \n",
    "                                             axis=1)\t\n",
    "\n",
    "exec_asset_exec = EA.ml_schema_instance.tables['Execution_Assets_Execution']\n",
    "exec_asset_exec_data = pd.DataFrame(exec_asset_exec.path.entities())[['Execution_Assets', 'Execution']]\n",
    "\n",
    "image_annot = EA.domain_schema_instance.tables['Image_Annotation']\n",
    "image_annot_data = pd.DataFrame(image_annot.path.entities()).drop(['RID', 'RCT', 'RMT', 'RCB', 'RMB'], axis=1)\n",
    "\n",
    "feature_complete = pd.merge(bounding_box, exec_asset_exec_data, how='left', left_on='RID', right_on='Execution_Assets')\n",
    "feature_complete = pd.merge(feature_complete, image_annot_data, how='left', on='Execution_Assets')\n",
    "feature_complete.drop(['RID', 'Execution_Assets'], axis=1, inplace=True)\n",
    "feature_complete\n"
   ]
  },
  {
   "cell_type": "code",
   "execution_count": null,
   "id": "5cc2ba6c-1740-44d2-974a-3a57ebceee96",
   "metadata": {},
   "outputs": [],
   "source": [
    "bounding_box = feature_complete[['URL', 'Filename', 'Description', 'Length', 'MD5']]\n",
    "bounding_box\n",
    "\n",
    "ingest_list = [\n",
    "    {k: v for k, v in record.items() if v is not None and not pd.isna(v)}\n",
    "    for record in bounding_box.to_dict(orient='records')\n",
    "]\n",
    "\n",
    "bb_table = EA.domain_schema_instance.tables['Fundus_Bounding_Box']\n",
    "# insert(bb_table, ingest_list, 5000)"
   ]
  },
  {
   "cell_type": "code",
   "execution_count": null,
   "id": "f84056f3-5a6d-4eb1-9c3c-54045e9954f0",
   "metadata": {},
   "outputs": [],
   "source": [
    "bbx = EA.domain_schema_instance.tables['Fundus_Bounding_Box']\n",
    "bbx = pd.DataFrame(bbx.path.entities())[['RID', 'Filename']]\n",
    "bbx\n",
    "annot_feature = feature_complete[['Execution', 'Image', 'Annotation_Function', 'Annotation_Type', 'Filename']]\n",
    "\n",
    "annot_feature = pd.merge(annot_feature, bbx, how='left', on='Filename')\n",
    "annot_feature.drop(['Filename'], axis=1, inplace=True)\n",
    "annot_feature['Feature_Name'] = 'Annotation'\n",
    "annot_feature.rename(columns={'RID':'Fundus_Bounding_Box'}, inplace=True)\n"
   ]
  },
  {
   "cell_type": "code",
   "execution_count": null,
   "id": "e08c1216-ac30-4786-96e8-119acf8e5038",
   "metadata": {},
   "outputs": [],
   "source": [
    "ingest_list = [\n",
    "    {k: v for k, v in record.items() if v is not None and not pd.isna(v)}\n",
    "    for record in annot_feature.to_dict(orient='records')\n",
    "]\n",
    "\n",
    "exec_image_annnot = EA.domain_schema_instance.tables['Execution_Image_Annotation']\n",
    "insert(exec_image_annnot, ingest_list, 5000)\n"
   ]
  },
  {
   "cell_type": "code",
   "execution_count": null,
   "id": "976ce078-350a-4327-85de-8744bac377d1",
   "metadata": {},
   "outputs": [],
   "source": [
    "EA.model.schemas['eye-ai'].tables['Image_Annotation'].drop()\n",
    "EA.model.schemas['eye-ai'].tables['Execution_Image_Annotation'].alter(table_name='Image_Annotation')"
   ]
  },
  {
   "cell_type": "code",
   "execution_count": null,
   "id": "2e758e0b-95ce-49e7-8649-da569319b910",
   "metadata": {},
   "outputs": [],
   "source": [
    "EA.model.schemas['deriva-ml'].tables['Dataset'].foreign_keys[0].drop()"
   ]
  },
  {
   "cell_type": "code",
   "execution_count": null,
   "id": "de3e7c6f-2208-4a52-bfc5-c23bf13c9fe1",
   "metadata": {},
   "outputs": [],
   "source": [
    "\n",
    "EA.model.schemas['deriva-ml'].tables['Dataset_Dataset_Type'].foreign_keys\n"
   ]
  },
  {
   "cell_type": "code",
   "execution_count": null,
   "id": "0e52e6b4-5293-4133-babd-ad7277951855",
   "metadata": {},
   "outputs": [],
   "source": [
    "EA.model.schemas['deriva-ml'].tables['Dataset_Type'].foreign_keys"
   ]
  },
  {
   "cell_type": "code",
   "execution_count": null,
   "id": "033cc786-bfbc-4db6-b635-92f2bc5c2327",
   "metadata": {},
   "outputs": [],
   "source": []
  }
 ],
 "metadata": {
  "language_info": {
   "name": "python"
  }
 },
 "nbformat": 4,
 "nbformat_minor": 5
}
