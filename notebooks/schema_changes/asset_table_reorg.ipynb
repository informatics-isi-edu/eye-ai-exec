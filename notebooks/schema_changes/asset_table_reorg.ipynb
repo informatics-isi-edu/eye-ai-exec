{
 "cells": [
  {
   "cell_type": "code",
   "execution_count": 1,
   "id": "6036f709-6ac6-49b1-bdbe-b9d2348b542b",
   "metadata": {},
   "outputs": [
    {
     "name": "stderr",
     "output_type": "stream",
     "text": [
      "2025-04-09 17:02:11.581894: E external/local_xla/xla/stream_executor/cuda/cuda_dnn.cc:9261] Unable to register cuDNN factory: Attempting to register factory for plugin cuDNN when one has already been registered\n",
      "2025-04-09 17:02:11.581952: E external/local_xla/xla/stream_executor/cuda/cuda_fft.cc:607] Unable to register cuFFT factory: Attempting to register factory for plugin cuFFT when one has already been registered\n",
      "2025-04-09 17:02:11.591467: E external/local_xla/xla/stream_executor/cuda/cuda_blas.cc:1515] Unable to register cuBLAS factory: Attempting to register factory for plugin cuBLAS when one has already been registered\n",
      "2025-04-09 17:02:11.616838: I tensorflow/core/platform/cpu_feature_guard.cc:182] This TensorFlow binary is optimized to use available CPU instructions in performance-critical operations.\n",
      "To enable the following instructions: AVX2 FMA, in other operations, rebuild TensorFlow with the appropriate compiler flags.\n",
      "2025-04-09 17:02:14.418179: W tensorflow/compiler/tf2tensorrt/utils/py_utils.cc:38] TF-TRT Warning: Could not find TensorRT\n"
     ]
    }
   ],
   "source": [
    "# Prerequisites\n",
    "import json\n",
    "import os\n",
    "from eye_ai.eye_ai import EyeAI\n",
    "from deriva_ml.dataset_bag import DatasetBag\n",
    "\n",
    "import pandas as pd\n",
    "from pathlib import Path, PurePath\n",
    "import logging\n",
    "\n",
    "from deriva.core.ermrest_model import Model, Schema, Table, Column, Key, ForeignKey, builtin_types\n",
    "\n",
    "from deriva_ml import DatasetSpec, ExecutionConfiguration, DerivaML, Workflow, VersionPart\n",
    "from deriva_ml import MLVocab as vc\n",
    "from deriva_ml.deriva_definitions import ColumnDefinition, BuiltinTypes\n",
    "logging.basicConfig(level=logging.INFO, format='%(asctime)s - %(levelname)s - %(message)s', force=True)"
   ]
  },
  {
   "cell_type": "code",
   "execution_count": 2,
   "id": "1aadc96e-e972-4611-bdf5-aaad7095974f",
   "metadata": {},
   "outputs": [
    {
     "name": "stdout",
     "output_type": "stream",
     "text": [
      "You are already logged in.\n"
     ]
    }
   ],
   "source": [
    "from deriva.core.utils.globus_auth_utils import GlobusNativeLogin\n",
    "\n",
    "# host = 'www.eye-ai.org'\n",
    "host = 'dev.eye-ai.org'\n",
    "catalog_id = \"eye-ai\"\n",
    "\n",
    "gnl = GlobusNativeLogin(host=host)\n",
    "if gnl.is_logged_in([host]):\n",
    "    print(\"You are already logged in.\")\n",
    "else:\n",
    "    gnl.login([host], no_local_server=True, no_browser=True, refresh_tokens=True, update_bdbag_keychain=True)\n",
    "    print(\"Login Successful\")"
   ]
  },
  {
   "cell_type": "code",
   "execution_count": 3,
   "id": "f0e81355-92d4-4554-8205-fb71ae9da75e",
   "metadata": {},
   "outputs": [
    {
     "name": "stderr",
     "output_type": "stream",
     "text": [
      "2025-04-09 17:02:17,502 - WARNING - nbstripout is not installed in repository. Please run nbstripout --install\n"
     ]
    }
   ],
   "source": [
    "cache_dir = '/data'\n",
    "working_dir = '/data'\n",
    "EA = EyeAI(hostname = host, catalog_id = catalog_id, cache_dir= cache_dir, working_dir=working_dir)"
   ]
  },
  {
   "cell_type": "code",
   "execution_count": 4,
   "id": "5138dd61-8919-4a95-a497-ae8e73f2a80f",
   "metadata": {},
   "outputs": [],
   "source": [
    "c_domain = EA.catalog.getPathBuilder().schemas['eye-ai']\n",
    "c_ml = EA.catalog.getPathBuilder().schemas['deriva-ml']\n",
    "\n",
    "m_domain = EA.model.schemas['eye-ai']\n",
    "m_ml = EA.model.schemas['deriva-ml']\n",
    "\n",
    "exec_asset_c = c_ml.tables['Execution_Asset']\n",
    "exec_meta_c = c_ml.tables['Execution_Metadata']\n",
    "exec_c = c_ml.tables['Execution']\n",
    "exec_asset_type_c = c_ml.tables['Execution_Asset_Type']\n",
    "exec_meta_type_c = c_ml.tables['Execution_Metadata_Type']\n",
    "\n",
    "\n",
    "exec_asset_m = m_ml.tables['Execution_Asset']\n",
    "exec_meta_m = m_ml.tables['Execution_Metadata']\n",
    "exec_m = m_ml.tables['Execution']"
   ]
  },
  {
   "cell_type": "code",
   "execution_count": 6,
   "id": "29fc93d0-bf3c-4467-8db6-2a4f46a1c956",
   "metadata": {},
   "outputs": [],
   "source": [
    "def create_asso(table1, table2, schema):\n",
    "    asso_def = Table.define_association([table1, table2])\n",
    "    return schema.create_table(asso_def)\n",
    "    \n",
    "def create_asset_type():\n",
    "    table_def_asset_type_vocab = Table.define_vocabulary(\n",
    "        tname='Asset_Type', curie_template='eye-ai:{RID}'\n",
    "    )\n",
    "\n",
    "    asset_type_table = m_ml.create_table(table_def_asset_type_vocab)\n",
    "    # asset_type_table = m_ml.tables['Asset_Type']\n",
    "\n",
    "    for t in [exec_asset_m, exec_meta_m]:\n",
    "        create_asso(t, asset_type_table, m_ml)"
   ]
  },
  {
   "cell_type": "code",
   "execution_count": null,
   "id": "2522fb0b-134e-414e-a0a6-ca99a7acaf1d",
   "metadata": {},
   "outputs": [],
   "source": [
    "# create_asset_type()"
   ]
  },
  {
   "cell_type": "code",
   "execution_count": null,
   "id": "f62d3613-8538-49f3-aa3e-b81caf89053d",
   "metadata": {},
   "outputs": [],
   "source": [
    "def ingest_asset_type():\n",
    "    asset_type_table = c_ml.tables['Asset_Type']\n",
    "    cols = [\"Name\", \"Description\"]\n",
    "    asset_type = [{c: item[c] for c in cols} for item in exec_asset_type_c.entities()]\n",
    "    meta_type = [{c: item[c] for c in cols} for item in exec_meta_type_c.entities()]\n",
    "    asset_type_table.insert(asset_type, defaults={'URI', 'ID'})\n",
    "    asset_type_table.insert(meta_type, defaults={'URI', 'ID'})\n",
    "\n",
    "def ingest_asset_type_asso(old_asset_t, old_asset_name, asso_t, old_type_name):\n",
    "    entities = [{old_asset_name: item['RID'], \"Asset_Type\": item[old_type_name]} for item in old_asset_t.entities()]\n",
    "    asso_t.insert(entities)\n",
    "    "
   ]
  },
  {
   "cell_type": "code",
   "execution_count": null,
   "id": "ca255cce-1b39-46fe-949a-0368a06020ac",
   "metadata": {},
   "outputs": [],
   "source": [
    "# ingest_asset_type()\n",
    "# ingest_asset_type_asso(exec_asset_c, 'Execution_Asset', c_ml.tables['Execution_Asset_Asset_Type'], 'Execution_Asset_Type')\n",
    "# ingest_asset_type_asso(exec_meta_c, 'Execution_Metadata', c_ml.tables['Execution_Metadata_Asset_Type'], 'Execution_Metadata_Type')\n"
   ]
  },
  {
   "cell_type": "code",
   "execution_count": null,
   "id": "bd821c19-5774-477c-aa22-a22a76586152",
   "metadata": {},
   "outputs": [],
   "source": [
    "def create_asset_role():\n",
    "    table_def_role_vocab = Table.define_vocabulary(\n",
    "        tname='Asset_Role', curie_template='eye-ai:{RID}'\n",
    "    )\n",
    "    # asset_type_table = m_ml.create_table(table_def_role_vocab)\n",
    "    asset_type_table = m_ml.tables['Asset_Role']\n",
    "    \n",
    "    ass_asso_table = m_ml.tables['Execution_Asset_Execution']\n",
    "    meta_asso_table = m_ml.tables['Execution_Metadata_Execution']\n",
    "    ass_asso_table.create_column(Column.define('Asset_Role', builtin_types.text, nullok=True))\n",
    "    meta_asso_table.create_column(Column.define('Asset_Role', builtin_types.text, nullok=True))\n",
    "\n",
    "    ass_asso_table.create_fkey(\n",
    "        ForeignKey.define(\n",
    "        ['Asset_Role'],\n",
    "        'deriva-ml', 'Asset_Type',\n",
    "        ['Name']\n",
    "    ))\n",
    "    meta_asso_table.create_fkey(\n",
    "        ForeignKey.define(\n",
    "        ['Asset_Role'],\n",
    "        'deriva-ml', 'Asset_Type',\n",
    "        ['Name']\n",
    "    ))\n"
   ]
  },
  {
   "cell_type": "code",
   "execution_count": null,
   "id": "ca5cf1d8-8ff2-486d-bbc7-9a1d2aa0dc59",
   "metadata": {},
   "outputs": [],
   "source": [
    "# create_asset_role()"
   ]
  },
  {
   "cell_type": "code",
   "execution_count": 8,
   "id": "06f43fa0-9cca-4ab4-90e6-badc76d99959",
   "metadata": {},
   "outputs": [],
   "source": [
    "fbx_table = m_domain.tables['Fundus_Bounding_Box']\n",
    "exec_m = m_ml.tables['Execution']\n",
    "asset_type_m = m_ml.tables['Asset_Type']\n",
    "# asso = create_asso(fbx_table, exec_m, m_domain)\n",
    "# asso = create_asso(fbx_table, asset_type_m, m_domain)"
   ]
  }
 ],
 "metadata": {
  "kernelspec": {
   "display_name": "My TensorFlow (Conda)",
   "language": "python",
   "name": "my-tensorflow-conda"
  },
  "language_info": {
   "codemirror_mode": {
    "name": "ipython",
    "version": 3
   },
   "file_extension": ".py",
   "mimetype": "text/x-python",
   "name": "python",
   "nbconvert_exporter": "python",
   "pygments_lexer": "ipython3",
   "version": "3.10.13"
  }
 },
 "nbformat": 4,
 "nbformat_minor": 5
}
