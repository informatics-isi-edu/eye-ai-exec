{
 "cells": [
  {
   "cell_type": "code",
   "execution_count": null,
   "id": "99637222-c193-40b0-a5a8-f62d3a6d8571",
   "metadata": {},
   "outputs": [],
   "source": [
    "repo_dir = \"Repos\"   # Set this to be where your github repos are located.\n",
    "%load_ext autoreload\n",
    "%autoreload 2\n",
    "\n",
    "# Update the load path so python can find modules for the model\n",
    "import sys\n",
    "from pathlib import Path\n",
    "sys.path.insert(0, str(Path.home() / repo_dir / \"deriva-ml\"))\n",
    "sys.path.insert(0, str(Path.home() / repo_dir / \"eye-ai-ml\"))\n"
   ]
  },
  {
   "cell_type": "code",
   "execution_count": null,
   "id": "b916dc1e-07ce-4aa5-9833-0daee9ee9cf9",
   "metadata": {},
   "outputs": [],
   "source": [
    "# Prerequisites\n",
    "import json\n",
    "import os\n",
    "from eye_ai.eye_ai import EyeAI\n",
    "import pandas as pd\n",
    "from pathlib import Path, PurePath\n",
    "import logging\n",
    "# import torch\n",
    "\n",
    "logging.basicConfig(level=logging.INFO, format='%(asctime)s - %(levelname)s - %(message)s', force=True)"
   ]
  },
  {
   "cell_type": "code",
   "execution_count": null,
   "id": "b50caf77-9b36-4f3a-94ba-dc7f5ac21e41",
   "metadata": {},
   "outputs": [],
   "source": [
    "from deriva.core.utils.globus_auth_utils import GlobusNativeLogin\n",
    "catalog_id = \"eye-ai\" #@param\n",
    "host = 'dev.eye-ai.org'\n",
    "# host = 'www.eye-ai.org'\n",
    "\n",
    "\n",
    "gnl = GlobusNativeLogin(host=host)\n",
    "if gnl.is_logged_in([host]):\n",
    "    print(\"You are already logged in.\")\n",
    "else:\n",
    "    gnl.login([host], no_local_server=True, no_browser=True, refresh_tokens=True, update_bdbag_keychain=True)\n",
    "    print(\"Login Successful\")"
   ]
  },
  {
   "cell_type": "code",
   "execution_count": null,
   "id": "10629c29-4ba4-413a-9e9d-576241c58564",
   "metadata": {},
   "outputs": [],
   "source": [
    "# Variables to configure the rest of the notebook.\n",
    "\n",
    "cache_dir = '/data'        # Directory in which to cache materialized BDBags for datasets\n",
    "working_dir = '/data'    # Directory in which to place output files for later upload.\n",
    "\n",
    "configuration_rid = '2-CDBE' # dev'2-BHN6' 2-CDBE Prod'2-CCBC'"
   ]
  },
  {
   "cell_type": "code",
   "execution_count": null,
   "id": "0729f4a3-4d8f-477d-b3fa-1427a560189d",
   "metadata": {},
   "outputs": [],
   "source": [
    "EA = EyeAI(hostname = host, catalog_id = catalog_id, cache_dir= cache_dir, working_dir=working_dir)\n",
    "\n",
    "configuration_records = EA.execution_init(configuration_rid=configuration_rid)\n",
    "configuration_records.model_dump()"
   ]
  },
  {
   "cell_type": "code",
   "execution_count": null,
   "id": "f7580563-9e35-4e45-9954-926cdcefb8a4",
   "metadata": {},
   "outputs": [],
   "source": [
    "# feature_image_angle = EA.create_feature(feature_name = \"Image_Angle\", table = \"Image\", terms = [\"Image_Angle_Vocab\"], comment=\"Angle of fundus images\")\n",
    "feature_image_laterality = EA.create_feature(feature_name = \"Image_Laterality\", table = \"Image\", terms = [\"Image_Side_Vocab\"], comment=\"Lateraliity of fundus images\")\n",
    "\n"
   ]
  },
  {
   "cell_type": "code",
   "execution_count": null,
   "id": "2e5fc21b-5f21-46f1-9e77-3608fb188eda",
   "metadata": {},
   "outputs": [],
   "source": [
    "uploaded_assets = EA.execution_upload(configuration_records.execution_rid, True)"
   ]
  },
  {
   "cell_type": "code",
   "execution_count": null,
   "id": "7947836e-0edf-4d83-874c-faf4ccc29b95",
   "metadata": {},
   "outputs": [],
   "source": [
    "configuration_records.execution_rid"
   ]
  },
  {
   "cell_type": "code",
   "execution_count": null,
   "id": "3008407e-fc8b-4c1e-953a-7ca563b03399",
   "metadata": {},
   "outputs": [],
   "source": []
  }
 ],
 "metadata": {
  "language_info": {
   "name": "python"
  }
 },
 "nbformat": 4,
 "nbformat_minor": 5
}
