{
 "cells": [
  {
   "cell_type": "code",
   "execution_count": 1,
   "id": "99637222-c193-40b0-a5a8-f62d3a6d8571",
   "metadata": {},
   "outputs": [],
   "source": [
    "repo_dir = \"Repos\"   # Set this to be where your github repos are located.\n",
    "%load_ext autoreload\n",
    "%autoreload 2\n",
    "\n",
    "# Update the load path so python can find modules for the model\n",
    "import sys\n",
    "from pathlib import Path\n",
    "sys.path.insert(0, str(Path.home() / repo_dir / \"deriva-ml\"))\n",
    "sys.path.insert(0, str(Path.home() / repo_dir / \"eye-ai-ml\"))\n"
   ]
  },
  {
   "cell_type": "code",
   "execution_count": 2,
   "id": "b916dc1e-07ce-4aa5-9833-0daee9ee9cf9",
   "metadata": {},
   "outputs": [],
   "source": [
    "# Prerequisites\n",
    "import json\n",
    "import os\n",
    "from eye_ai.eye_ai import EyeAI\n",
    "import pandas as pd\n",
    "from pathlib import Path, PurePath\n",
    "import logging\n",
    "# import torch\n",
    "\n",
    "logging.basicConfig(level=logging.INFO, format='%(asctime)s - %(levelname)s - %(message)s', force=True)"
   ]
  },
  {
   "cell_type": "code",
   "execution_count": 3,
   "id": "b50caf77-9b36-4f3a-94ba-dc7f5ac21e41",
   "metadata": {
    "scrolled": true
   },
   "outputs": [
    {
     "name": "stderr",
     "output_type": "stream",
     "text": [
      "2024-09-08 14:44:24,352 - INFO - Creating client of type <class 'globus_sdk.services.auth.client.native_client.NativeAppAuthClient'> for service \"auth\"\n",
      "2024-09-08 14:44:24,353 - INFO - Finished initializing AuthLoginClient. client_id='8ef15ba9-2b4a-469c-a163-7fd910c9d111', type(authorizer)=<class 'globus_sdk.authorizers.base.NullAuthorizer'>\n",
      "2024-09-08 14:44:24,355 - INFO - Setting up RefreshTokenAuthorizer with auth_client=[instance:139635503224992]\n",
      "2024-09-08 14:44:24,355 - INFO - Setting up a RenewingAuthorizer. It will use an auth type of Bearer and can handle 401s.\n",
      "2024-09-08 14:44:24,356 - INFO - RenewingAuthorizer will start by using access_token with hash \"5e4ebc76318a54a1c0ba4ae51e98c814311b2288f8ec3dd21022a0a805cf3666\"\n",
      "2024-09-08 14:44:24,357 - INFO - Executing token refresh without client credentials\n",
      "2024-09-08 14:44:24,357 - INFO - Fetching new token from Globus Auth\n",
      "2024-09-08 14:44:24,729 - INFO - request done (success)\n",
      "2024-09-08 14:44:24,729 - INFO - RenewingAuthorizer.access_token updated to token with hash \"c67cf0c30f17e3972f0e9ad4e93ca49daaeb9a552c7639ae47c3b70f05246b9e\"\n",
      "2024-09-08 14:44:24,730 - INFO - Setting up RefreshTokenAuthorizer with auth_client=[instance:139635503224992]\n",
      "2024-09-08 14:44:24,731 - INFO - Setting up a RenewingAuthorizer. It will use an auth type of Bearer and can handle 401s.\n",
      "2024-09-08 14:44:24,731 - INFO - RenewingAuthorizer will start by using access_token with hash \"6a4ceb8d3573ff3985ca30cc7043478f1ac50645a3d4f623f3fc9ebe67ebd5a2\"\n",
      "2024-09-08 14:44:24,732 - INFO - Executing token refresh without client credentials\n",
      "2024-09-08 14:44:24,732 - INFO - Fetching new token from Globus Auth\n",
      "2024-09-08 14:44:24,909 - INFO - request done (success)\n",
      "2024-09-08 14:44:24,909 - INFO - RenewingAuthorizer.access_token updated to token with hash \"400d33d13da5b76cab8cb2bbac92eb9621658b8adfddaebb00d4fd467504b668\"\n",
      "2024-09-08 14:44:24,910 - INFO - Setting up RefreshTokenAuthorizer with auth_client=[instance:139635503224992]\n",
      "2024-09-08 14:44:24,911 - INFO - Setting up a RenewingAuthorizer. It will use an auth type of Bearer and can handle 401s.\n",
      "2024-09-08 14:44:24,911 - INFO - RenewingAuthorizer will start by using access_token with hash \"a276fa70af086d9d524f5acba7035690efa2f5160814d48907d63ed2ccb6c618\"\n",
      "2024-09-08 14:44:24,912 - INFO - Executing token refresh without client credentials\n",
      "2024-09-08 14:44:24,912 - INFO - Fetching new token from Globus Auth\n",
      "2024-09-08 14:44:25,046 - INFO - request done (success)\n",
      "2024-09-08 14:44:25,047 - INFO - RenewingAuthorizer.access_token updated to token with hash \"e8bc25672d7a6ea6478dad27fecdd6b4c5608230005a6b3bc1431401fb30bb57\"\n"
     ]
    },
    {
     "name": "stdout",
     "output_type": "stream",
     "text": [
      "You are already logged in.\n"
     ]
    }
   ],
   "source": [
    "from deriva.core.utils.globus_auth_utils import GlobusNativeLogin\n",
    "catalog_id = \"eye-ai\" #@param\n",
    "host = 'dev.eye-ai.org'\n",
    "# host = 'www.eye-ai.org'\n",
    "\n",
    "\n",
    "gnl = GlobusNativeLogin(host=host)\n",
    "if gnl.is_logged_in([host]):\n",
    "    print(\"You are already logged in.\")\n",
    "else:\n",
    "    gnl.login([host], no_local_server=True, no_browser=True, refresh_tokens=True, update_bdbag_keychain=True)\n",
    "    print(\"Login Successful\")"
   ]
  },
  {
   "cell_type": "code",
   "execution_count": 4,
   "id": "10629c29-4ba4-413a-9e9d-576241c58564",
   "metadata": {},
   "outputs": [],
   "source": [
    "# Variables to configure the rest of the notebook.\n",
    "\n",
    "cache_dir = '/data'        # Directory in which to cache materialized BDBags for datasets\n",
    "working_dir = '/data'    # Directory in which to place output files for later upload.\n",
    "\n",
    "configuration_rid = '2-CDBE' # dev'2-BHN6' 2-CDBE Prod'2-CCBC'"
   ]
  },
  {
   "cell_type": "code",
   "execution_count": 5,
   "id": "0729f4a3-4d8f-477d-b3fa-1427a560189d",
   "metadata": {},
   "outputs": [
    {
     "name": "stderr",
     "output_type": "stream",
     "text": [
      "2024-09-08 14:44:25,090 - INFO - Creating client of type <class 'globus_sdk.services.auth.client.native_client.NativeAppAuthClient'> for service \"auth\"\n",
      "2024-09-08 14:44:25,090 - INFO - Finished initializing AuthLoginClient. client_id='8ef15ba9-2b4a-469c-a163-7fd910c9d111', type(authorizer)=<class 'globus_sdk.authorizers.base.NullAuthorizer'>\n",
      "2024-09-08 14:44:27,283 - INFO - File [/data/lizhiwei/EyeAI_working/Execution_Metadata/Execution_Config-add_feature_angle_laterality.json] transfer successful. 0.57 KB transferred. Elapsed time: 0:00:00.000117.\n",
      "2024-09-08 14:44:27,284 - INFO - Verifying MD5 checksum for downloaded file [/data/lizhiwei/EyeAI_working/Execution_Metadata/Execution_Config-add_feature_angle_laterality.json]\n",
      "2024-09-08 14:44:27,319 - INFO - Configuration validation successful!\n"
     ]
    },
    {
     "data": {
      "text/plain": [
       "{'caching_dir': PosixPath('/data'),\n",
       " 'working_dir': PosixPath('/data/lizhiwei/EyeAI_working'),\n",
       " 'vocabs': {'Workflow_Type': [{'name': 'Add_Feature',\n",
       "    'synonyms': [],\n",
       "    'id': 'eye-ai:2-CDE6',\n",
       "    'uri': '/id/2-CDE6',\n",
       "    'description': '',\n",
       "    'rid': '2-CDE6'}]},\n",
       " 'execution_rid': '2-CDE4',\n",
       " 'workflow_rid': '2-CDCE',\n",
       " 'bag_paths': [],\n",
       " 'assets_paths': [],\n",
       " 'configuration_path': PosixPath('/data/lizhiwei/EyeAI_working/Execution_Metadata/Execution_Config-add_feature_angle_laterality.json')}"
      ]
     },
     "execution_count": 5,
     "metadata": {},
     "output_type": "execute_result"
    }
   ],
   "source": [
    "EA = EyeAI(hostname = host, catalog_id = catalog_id, cache_dir= cache_dir, working_dir=working_dir)\n",
    "\n",
    "configuration_records = EA.execution_init(configuration_rid=configuration_rid)\n",
    "configuration_records.model_dump()"
   ]
  },
  {
   "cell_type": "code",
   "execution_count": 8,
   "id": "f7580563-9e35-4e45-9954-926cdcefb8a4",
   "metadata": {},
   "outputs": [],
   "source": [
    "# feature_image_angle = EA.create_feature(feature_name = \"Image_Angle\", table = \"Image\", terms = [\"Image_Angle_Vocab\"], comment=\"Angle of fundus images\")\n",
    "feature_image_laterality = EA.create_feature(feature_name = \"Image_Laterality\", table = \"Image\", terms = [\"Image_Side_Vocab\"], comment=\"Lateraliity of fundus images\")\n",
    "\n"
   ]
  },
  {
   "cell_type": "code",
   "execution_count": 12,
   "id": "2e5fc21b-5f21-46f1-9e77-3608fb188eda",
   "metadata": {},
   "outputs": [
    {
     "name": "stderr",
     "output_type": "stream",
     "text": [
      "2024-09-08 15:14:13,847 - INFO - Initializing uploader: GenericUploader v1.7.3 [Python 3.10.13, Linux-5.10.210-201.852.amzn2.x86_64-x86_64-with-glibc2.26]\n",
      "2024-09-08 15:14:13,848 - INFO - Creating client of type <class 'globus_sdk.services.auth.client.native_client.NativeAppAuthClient'> for service \"auth\"\n",
      "2024-09-08 15:14:13,849 - INFO - Finished initializing AuthLoginClient. client_id='8ef15ba9-2b4a-469c-a163-7fd910c9d111', type(authorizer)=<class 'globus_sdk.authorizers.base.NullAuthorizer'>\n",
      "2024-09-08 15:14:13,860 - INFO - Checking for updated configuration...\n",
      "2024-09-08 15:14:13,986 - INFO - Updated configuration found.\n",
      "2024-09-08 15:14:13,987 - INFO - Attempting to acquire a dependent lock in [/data/lizhiwei/EyeAI_working/Execution_Metadata]\n"
     ]
    }
   ],
   "source": [
    "uploaded_assets = EA.execution_upload(configuration_records.execution_rid, True)"
   ]
  },
  {
   "cell_type": "code",
   "execution_count": 10,
   "id": "7947836e-0edf-4d83-874c-faf4ccc29b95",
   "metadata": {},
   "outputs": [
    {
     "data": {
      "text/plain": [
       "'2-CDE4'"
      ]
     },
     "execution_count": 10,
     "metadata": {},
     "output_type": "execute_result"
    }
   ],
   "source": [
    "configuration_records.execution_rid"
   ]
  },
  {
   "cell_type": "code",
   "execution_count": null,
   "id": "3008407e-fc8b-4c1e-953a-7ca563b03399",
   "metadata": {},
   "outputs": [],
   "source": []
  }
 ],
 "metadata": {
  "kernelspec": {
   "display_name": "My Tensorflow",
   "language": "python",
   "name": "my-tensorflow"
  },
  "language_info": {
   "codemirror_mode": {
    "name": "ipython",
    "version": 3
   },
   "file_extension": ".py",
   "mimetype": "text/x-python",
   "name": "python",
   "nbconvert_exporter": "python",
   "pygments_lexer": "ipython3",
   "version": "3.10.13"
  }
 },
 "nbformat": 4,
 "nbformat_minor": 5
}
