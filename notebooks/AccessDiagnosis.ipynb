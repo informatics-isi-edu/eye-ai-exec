{
  "cells": [
    {
      "cell_type": "markdown",
      "metadata": {
        "id": "view-in-github",
        "colab_type": "text"
      },
      "source": [
        "<a href=\"https://colab.research.google.com/github/informatics-isi-edu/eye-ai-exec/blob/main/notebooks/AccessDiagnosis.ipynb\" target=\"_parent\"><img src=\"https://colab.research.google.com/assets/colab-badge.svg\" alt=\"Open In Colab\"/></a>"
      ]
    },
    {
      "cell_type": "code",
      "execution_count": null,
      "metadata": {
        "id": "QxhaFfawhfE2"
      },
      "outputs": [],
      "source": [
        "# Prerequisites\n",
        "!pip install --upgrade --force pydantic git+https://github.com/fair-research/bdbag git+https://github.com/informatics-isi-edu/deriva-py git+https://github.com/informatics-isi-edu/eye-ai-tools git+https://github.com/informatics-isi-edu/deriva-ml git+https://github.com/informatics-isi-edu/eye-ai-ml\n",
        "from eye_ai import EyeAI\n"
      ]
    },
    {
      "cell_type": "code",
      "execution_count": null,
      "metadata": {
        "id": "mVLFcQpzhi_0"
      },
      "outputs": [],
      "source": [
        "# login to DERIVA via Globus Auth\n",
        "DEBUG_MODE = False #@param\n",
        "DEFAULT_SERVER = 'dev.eye-ai.org' if DEBUG_MODE else 'www.eye-ai.org'\n",
        "!deriva-globus-auth-utils login --no-browser --host {DEFAULT_SERVER}"
      ]
    },
    {
      "cell_type": "markdown",
      "metadata": {
        "id": "kiBJIR0E7XUE"
      },
      "source": [
        "Make a connection to the Eye AI catalog and get a reference to the main schema: eye-ai"
      ]
    },
    {
      "cell_type": "code",
      "execution_count": null,
      "metadata": {
        "id": "b1Gs4lGihs4U"
      },
      "outputs": [],
      "source": [
        "import pandas as pd\n",
        "\n",
        "from deriva.core import ErmrestCatalog, get_credential\n",
        "protocol = 'https'\n",
        "catalog_number = 'eye-ai'\n",
        "credential = get_credential(DEFAULT_SERVER)\n",
        "catalog = ErmrestCatalog(protocol, DEFAULT_SERVER, catalog_number, credential)\n",
        "# Get the path builder interface for this catalog\n",
        "pb = catalog.getPathBuilder()\n",
        "eye_ai = pb.schemas['eye-ai']\n",
        "\n",
        "# Initialize the tool\n",
        "EA = EyeAI(hostname = DEFAULT_SERVER, catalog_id = 'eye-ai')"
      ]
    },
    {
      "cell_type": "code",
      "execution_count": null,
      "metadata": {
        "id": "BVHFGaL0iigj"
      },
      "outputs": [],
      "source": [
        "# @title Dataset Tags\n",
        "\n",
        "pd.DataFrame(eye_ai.Dataset.path.attributes(eye_ai.Dataset.RID, eye_ai.Dataset.Description))"
      ]
    },
    {
      "cell_type": "code",
      "execution_count": null,
      "metadata": {
        "id": "q93PWW2a9eHI"
      },
      "outputs": [],
      "source": [
        "# @title Diagnosis Tags\n",
        "pd.DataFrame(eye_ai.Diagnosis_Tag.path.attributes(\n",
        "    eye_ai.Diagnosis_Tag.RID,\n",
        "    eye_ai.Diagnosis_Tag.Name,\n",
        "    eye_ai.Diagnosis_Tag.Description))\n"
      ]
    },
    {
      "cell_type": "code",
      "execution_count": null,
      "metadata": {
        "id": "7vyUQWbIA79J"
      },
      "outputs": [],
      "source": [
        "# @title Configure\n",
        "diagnosis = eye_ai.Diagnosis  # All of the diagnosis in the catalog\n",
        "dataset_rid = \"2-277M\" # @param {type:\"string\"}\n",
        "diagnosis_tag_rid = \"2-35RM\" # @param {type:\"string\"}\n",
        "compare_value = \"Cup/Disk_Ratio\" #@param {type:\"string\"}[\"Diagnosis\", \"Image_Quality\", \"Cup/Disk_Ratio\"]\n",
        "initial_diagnosis_tag_rid = \"C1T4\"\n",
        "angle_two_rid = '2SK6'\n",
        "\n",
        "dataset = eye_ai.Dataset\n",
        "ds = dataset.path.filter(dataset.RID==dataset_rid).attributes(dataset.RID, dataset.Description).fetch()[0]\n",
        "print(f\"Dataset tag (RID:{dataset_rid}):\\n\\tdescription: {ds['Description']}\")\n",
        "\n",
        "diagnosis_tag = eye_ai.Diagnosis_Tag\n",
        "diagnosis_info = diagnosis_tag.path.filter(diagnosis_tag.RID==diagnosis_tag_rid).attributes(diagnosis_tag.RID, diagnosis_tag.Name, diagnosis_tag.Description).fetch()[0]\n",
        "print(f\"Diagnosis tag (RID:{diagnosis_tag_rid}):\\n\\tname {diagnosis_info['Name']} \\n\\tdescription: {diagnosis_info['Description']}\")\n",
        "\n",
        "print(f\"In the wide table, {compare_value} will be compared among graders and the initial diagnosis.\")"
      ]
    },
    {
      "cell_type": "code",
      "execution_count": null,
      "metadata": {
        "id": "hCdLnrCH9UJs"
      },
      "outputs": [],
      "source": [
        "# @title Example of Graded Test Dataset\n",
        "\n",
        "Graded_test_initial_diag = EA.image_tall(dataset_rid, initial_diagnosis_tag_rid)\n",
        "Graded_test_grader_diag = EA.image_tall(dataset_rid, diagnosis_tag_rid)\n",
        "# Graded_test_gold = EA.image_tall(dataset_rid, \"2-5GXP\")\n",
        "long, wide = EA.reshape_table([Graded_test_initial_diag, Graded_test_grader_diag], compare_value)\n",
        "\n",
        "\n",
        "# long.to_csv(\"GradedTest_diag_long.csv\")\n",
        "# wide.to_csv(\"GradedTest_diag_wide.csv\")\n"
      ]
    },
    {
      "cell_type": "code",
      "source": [
        "long"
      ],
      "metadata": {
        "id": "du3To_N3O4cE"
      },
      "execution_count": null,
      "outputs": []
    },
    {
      "cell_type": "code",
      "source": [
        "wide"
      ],
      "metadata": {
        "id": "9sHtCREZfB6k"
      },
      "execution_count": null,
      "outputs": []
    },
    {
      "cell_type": "code",
      "source": [],
      "metadata": {
        "id": "JoLVk6sHI0Rc"
      },
      "execution_count": null,
      "outputs": []
    }
  ],
  "metadata": {
    "colab": {
      "provenance": [],
      "include_colab_link": true
    },
    "kernelspec": {
      "display_name": "Python 3",
      "name": "python3"
    },
    "language_info": {
      "name": "python"
    }
  },
  "nbformat": 4,
  "nbformat_minor": 0
}