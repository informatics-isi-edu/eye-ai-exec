{
 "cells": [
  {
   "cell_type": "markdown",
   "metadata": {
    "colab_type": "text",
    "id": "view-in-github"
   },
   "source": [
    "<a href=\"https://colab.research.google.com/github/informatics-isi-edu/eye-ai-exec/blob/main/notebooks/VGG19_Diagnosis_Train.ipynb\" target=\"_parent\"><img src=\"https://colab.research.google.com/assets/colab-badge.svg\" alt=\"Open In Colab\"/></a>"
   ]
  },
  {
   "cell_type": "markdown",
   "metadata": {
    "id": "yVq_jMdfx7Ni"
   },
   "source": [
    "# VGG19 Hyper Parameter Tuning\n",
    "\n",
    "This notebook is used to train VGG19 model for glacoma diagnosis."
   ]
  },
  {
   "cell_type": "code",
   "execution_count": 1,
   "metadata": {
    "id": "0B5DczZgx7Nl"
   },
   "outputs": [],
   "source": [
    "# import sys\n",
    "# IN_COLAB = 'google.colab' in sys.modules\n",
    "\n",
    "# if IN_COLAB:\n",
    "#     !pip install deriva\n",
    "#     !pip install bdbag\n",
    "#     !pip install --upgrade --force pydantic\n",
    "#     !pip install git+https://github.com/informatics-isi-edu/deriva-ml git+https://github.com/informatics-isi-edu/eye-ai-ml"
   ]
  },
  {
   "cell_type": "code",
   "execution_count": 1,
   "metadata": {},
   "outputs": [],
   "source": [
    "repo_dir = \"Repos\"   # Set this to be where your github repos are located.\n",
    "%load_ext autoreload\n",
    "%autoreload 2\n",
    "\n",
    "# Update the load path so python can find modules for the model\n",
    "import sys\n",
    "from pathlib import Path\n",
    "sys.path.insert(0, str(Path.home() / repo_dir / \"eye-ai-ml\"))"
   ]
  },
  {
   "cell_type": "code",
   "execution_count": 2,
   "metadata": {
    "id": "ZgmzhX4Fx7Nm"
   },
   "outputs": [],
   "source": [
    "# Prerequisites\n",
    "\n",
    "import json\n",
    "import os\n",
    "from eye_ai.eye_ai import EyeAI\n",
    "import pandas as pd\n",
    "from pathlib import Path, PurePath\n",
    "import logging\n",
    "# import torch\n",
    "\n",
    "logging.basicConfig(level=logging.INFO, format='%(asctime)s - %(levelname)s - %(message)s', force=True)"
   ]
  },
  {
   "cell_type": "code",
   "execution_count": 3,
   "metadata": {
    "id": "qw-bW4bORlqQ"
   },
   "outputs": [
    {
     "name": "stderr",
     "output_type": "stream",
     "text": [
      "2024-04-30 20:04:52,078 - INFO - Creating client of type <class 'globus_sdk.services.auth.client.native_client.NativeAppAuthClient'> for service \"auth\"\n",
      "2024-04-30 20:04:52,079 - INFO - Finished initializing AuthLoginClient. client_id='8ef15ba9-2b4a-469c-a163-7fd910c9d111', type(authorizer)=<class 'globus_sdk.authorizers.base.NullAuthorizer'>\n"
     ]
    },
    {
     "name": "stdout",
     "output_type": "stream",
     "text": [
      "You are already logged in.\n"
     ]
    }
   ],
   "source": [
    "\n",
    "from deriva.core.utils.globus_auth_utils import GlobusNativeLogin\n",
    "catalog_id = \"eye-ai\" #@param\n",
    "host = 'www.eye-ai.org'\n",
    "\n",
    "\n",
    "gnl = GlobusNativeLogin(host=host)\n",
    "if gnl.is_logged_in([host]):\n",
    "    print(\"You are already logged in.\")\n",
    "else:\n",
    "    gnl.login([host], no_local_server=True, no_browser=True, refresh_tokens=True, update_bdbag_keychain=True)\n",
    "    print(\"Login Successful\")"
   ]
  },
  {
   "cell_type": "markdown",
   "metadata": {
    "id": "imD3DJ4lx7Nm"
   },
   "source": [
    "Connect to Eye-AI catalog.  Configure to store data local cache and working directories.  Initialize Eye-AI for pending execution based on the provided configuration file."
   ]
  },
  {
   "cell_type": "code",
   "execution_count": 4,
   "metadata": {
    "id": "m5U3w6SPx7Nn"
   },
   "outputs": [],
   "source": [
    "# Variables to configure the rest of the notebook.\n",
    "\n",
    "cache_dir = '/data'        # Directory in which to cache materialized BDBags for datasets\n",
    "working_dir = '/data'    # Directory in which to place output files for later upload.\n",
    "\n",
    "configuration_rid=\"2-A7D4\" # rid\n",
    "# Change the confi_file with bag_url=[\"minid: train\", \"minid: Valid\", \"minid: test\"]\n"
   ]
  },
  {
   "cell_type": "code",
   "execution_count": 5,
   "metadata": {
    "id": "KkHsSCJXx7Nn"
   },
   "outputs": [
    {
     "name": "stderr",
     "output_type": "stream",
     "text": [
      "2024-04-30 20:04:55,449 - INFO - Creating client of type <class 'globus_sdk.services.auth.client.native_client.NativeAppAuthClient'> for service \"auth\"\n",
      "2024-04-30 20:04:55,450 - INFO - Finished initializing AuthLoginClient. client_id='8ef15ba9-2b4a-469c-a163-7fd910c9d111', type(authorizer)=<class 'globus_sdk.authorizers.base.NullAuthorizer'>\n"
     ]
    }
   ],
   "source": [
    "EA = EyeAI(hostname = host, catalog_id = catalog_id, cache_dir= cache_dir, working_dir=working_dir)"
   ]
  },
  {
   "cell_type": "code",
   "execution_count": 6,
   "metadata": {
    "colab": {
     "background_save": true
    },
    "id": "kCIfOvbUXTGB",
    "scrolled": true
   },
   "outputs": [
    {
     "name": "stderr",
     "output_type": "stream",
     "text": [
      "2024-04-30 20:04:56,117 - INFO - File [/data/munimadu/EyeAI_working/Execution_Metadata/Execution_Config-vgg19_catalog_model_training_sreenidhi_apr_27_2024.json] transfer successful. 0.74 KB transferred. Elapsed time: 0:00:00.000071.\n",
      "2024-04-30 20:04:56,117 - INFO - Verifying MD5 checksum for downloaded file [/data/munimadu/EyeAI_working/Execution_Metadata/Execution_Config-vgg19_catalog_model_training_sreenidhi_apr_27_2024.json]\n",
      "2024-04-30 20:04:56,144 - INFO - Configuration validation successful!\n"
     ]
    },
    {
     "data": {
      "text/plain": [
       "{'caching_dir': PosixPath('/data'),\n",
       " 'working_dir': PosixPath('/data/munimadu/EyeAI_working'),\n",
       " 'vocabs': {'Workflow_Type': [{'name': 'VGG19_Catalog_Model_training',\n",
       "    'rid': '2-A7D8'}],\n",
       "  'Execution_Asset_Type': [{'name': 'VGG19_Catalog_Model', 'rid': '2-A7DA'}]},\n",
       " 'execution_rid': '2-A7DJ',\n",
       " 'workflow_rid': '2-A7CR',\n",
       " 'bag_paths': [PosixPath('/data/2-277G_6aa1a6861eee5a79bce4bf071065355f95a066c2a1ff326089d43048a7e0f185/Dataset_2-277G'),\n",
       "  PosixPath('/data/2-277J_81c873a311aa6a67cf2eef44bd9056cb19181b299a6e44327ea3553616f18725/Dataset_2-277J'),\n",
       "  PosixPath('/data/2-277M_8c4b855c2752e098580a5bb0d1b63a8cedde4462805fe74cddc912a72fb39963/Dataset_2-277M')],\n",
       " 'assets_paths': [],\n",
       " 'configuration_path': PosixPath('/data/munimadu/EyeAI_working/Execution_Metadata/Execution_Config-vgg19_catalog_model_training_sreenidhi_apr_27_2024.json')}"
      ]
     },
     "execution_count": 6,
     "metadata": {},
     "output_type": "execute_result"
    }
   ],
   "source": [
    "# @title Initiate an Execution\n",
    "configuration_records = EA.execution_init(configuration_rid=configuration_rid)\n",
    "configuration_records.model_dump()"
   ]
  },
  {
   "cell_type": "code",
   "execution_count": 7,
   "metadata": {},
   "outputs": [
    {
     "data": {
      "text/plain": [
       "ConfigurationRecord(caching_dir=PosixPath('/data'), working_dir=PosixPath('/data/munimadu/EyeAI_working'), vocabs={'Workflow_Type': [Term(name='VGG19_Catalog_Model_training', rid='2-A7D8')], 'Execution_Asset_Type': [Term(name='VGG19_Catalog_Model', rid='2-A7DA')]}, execution_rid='2-A7DJ', workflow_rid='2-A7CR', bag_paths=[PosixPath('/data/2-277G_6aa1a6861eee5a79bce4bf071065355f95a066c2a1ff326089d43048a7e0f185/Dataset_2-277G'), PosixPath('/data/2-277J_81c873a311aa6a67cf2eef44bd9056cb19181b299a6e44327ea3553616f18725/Dataset_2-277J'), PosixPath('/data/2-277M_8c4b855c2752e098580a5bb0d1b63a8cedde4462805fe74cddc912a72fb39963/Dataset_2-277M')], assets_paths=[], configuration_path=PosixPath('/data/munimadu/EyeAI_working/Execution_Metadata/Execution_Config-vgg19_catalog_model_training_sreenidhi_apr_27_2024.json'))"
      ]
     },
     "execution_count": 7,
     "metadata": {},
     "output_type": "execute_result"
    }
   ],
   "source": [
    "configuration_records"
   ]
  },
  {
   "cell_type": "code",
   "execution_count": 9,
   "metadata": {
    "id": "iUuTRgyg7Ys1"
   },
   "outputs": [],
   "source": [
    "# @title Data Preprocessing (Filtering Image.csv for just Field_2 Images)\n",
    "train_dir = configuration_records.bag_paths[0] # path to the raw train dataset\n",
    "validation_dir = configuration_records.bag_paths[1]\n",
    "test_dir = configuration_records.bag_paths[2]\n",
    "\n",
    "# train_cropped_image_path = path to training cropped images\n",
    "train_cropped_image_path, train_cropped_csv = EA.create_cropped_images(str(train_dir),\n",
    "                                                                     output_dir = str(EA.working_dir) +'/train',\n",
    "                                                                       crop_to_eye=True)\n",
    "validation_cropped_image_path, validation_cropped_csv = EA.create_cropped_images(str(validation_dir),\n",
    "                                                                                 output_dir = str(EA.working_dir) +'/valid',\n",
    "                                                                                 crop_to_eye=True)\n",
    "test_cropped_image_path, test_cropped_csv = EA.create_cropped_images(str(test_dir),\n",
    "                                                                     output_dir = str(EA.working_dir) +'/test',\n",
    "                                                                     crop_to_eye=True)\n"
   ]
  },
  {
   "cell_type": "code",
   "execution_count": 10,
   "metadata": {},
   "outputs": [],
   "source": [
    "output_path = str(EA.working_dir) + configuration_records.vocabs['Execution_Asset_Type'][0].name\n",
    "os.mkdir(output_path)"
   ]
  },
  {
   "cell_type": "code",
   "execution_count": 11,
   "metadata": {
    "id": "YIJj6Uj73sOm"
   },
   "outputs": [
    {
     "name": "stderr",
     "output_type": "stream",
     "text": [
      "2024-04-30 20:16:14.595738: E external/local_xla/xla/stream_executor/cuda/cuda_dnn.cc:9261] Unable to register cuDNN factory: Attempting to register factory for plugin cuDNN when one has already been registered\n",
      "2024-04-30 20:16:14.595779: E external/local_xla/xla/stream_executor/cuda/cuda_fft.cc:607] Unable to register cuFFT factory: Attempting to register factory for plugin cuFFT when one has already been registered\n",
      "2024-04-30 20:16:14.597810: E external/local_xla/xla/stream_executor/cuda/cuda_blas.cc:1515] Unable to register cuBLAS factory: Attempting to register factory for plugin cuBLAS when one has already been registered\n",
      "2024-04-30 20:16:14.609562: I tensorflow/core/platform/cpu_feature_guard.cc:182] This TensorFlow binary is optimized to use available CPU instructions in performance-critical operations.\n",
      "To enable the following instructions: AVX2 FMA, in other operations, rebuild TensorFlow with the appropriate compiler flags.\n",
      "2024-04-30 20:16:16.390480: W tensorflow/compiler/tf2tensorrt/utils/py_utils.cc:38] TF-TRT Warning: Could not find TensorRT\n"
     ]
    },
    {
     "name": "stdout",
     "output_type": "stream",
     "text": [
      "Found 9065 images belonging to 2 classes.\n",
      "Found 3033 images belonging to 2 classes.\n",
      "Found 1094 images belonging to 2 classes.\n",
      "train_generator.class_indices :  {'2SKC_No_Glaucoma': 0, '2SKA_Suspected_Glaucoma': 1}\n",
      "validation_generator.class_indices :  {'2SKC_No_Glaucoma': 0, '2SKA_Suspected_Glaucoma': 1}\n",
      "test_generator.class_indices :  {'2SKC_No_Glaucoma': 0, '2SKA_Suspected_Glaucoma': 1}\n"
     ]
    },
    {
     "name": "stderr",
     "output_type": "stream",
     "text": [
      "2024-04-30 20:16:18.472667: I external/local_xla/xla/stream_executor/cuda/cuda_executor.cc:901] successful NUMA node read from SysFS had negative value (-1), but there must be at least one NUMA node, so returning NUMA node zero. See more at https://github.com/torvalds/linux/blob/v6.0/Documentation/ABI/testing/sysfs-bus-pci#L344-L355\n",
      "2024-04-30 20:16:18.603301: I external/local_xla/xla/stream_executor/cuda/cuda_executor.cc:901] successful NUMA node read from SysFS had negative value (-1), but there must be at least one NUMA node, so returning NUMA node zero. See more at https://github.com/torvalds/linux/blob/v6.0/Documentation/ABI/testing/sysfs-bus-pci#L344-L355\n",
      "2024-04-30 20:16:18.607034: I external/local_xla/xla/stream_executor/cuda/cuda_executor.cc:901] successful NUMA node read from SysFS had negative value (-1), but there must be at least one NUMA node, so returning NUMA node zero. See more at https://github.com/torvalds/linux/blob/v6.0/Documentation/ABI/testing/sysfs-bus-pci#L344-L355\n",
      "2024-04-30 20:16:18.611400: I external/local_xla/xla/stream_executor/cuda/cuda_executor.cc:901] successful NUMA node read from SysFS had negative value (-1), but there must be at least one NUMA node, so returning NUMA node zero. See more at https://github.com/torvalds/linux/blob/v6.0/Documentation/ABI/testing/sysfs-bus-pci#L344-L355\n",
      "2024-04-30 20:16:18.615274: I external/local_xla/xla/stream_executor/cuda/cuda_executor.cc:901] successful NUMA node read from SysFS had negative value (-1), but there must be at least one NUMA node, so returning NUMA node zero. See more at https://github.com/torvalds/linux/blob/v6.0/Documentation/ABI/testing/sysfs-bus-pci#L344-L355\n",
      "2024-04-30 20:16:18.618721: I external/local_xla/xla/stream_executor/cuda/cuda_executor.cc:901] successful NUMA node read from SysFS had negative value (-1), but there must be at least one NUMA node, so returning NUMA node zero. See more at https://github.com/torvalds/linux/blob/v6.0/Documentation/ABI/testing/sysfs-bus-pci#L344-L355\n",
      "2024-04-30 20:16:18.744878: I external/local_xla/xla/stream_executor/cuda/cuda_executor.cc:901] successful NUMA node read from SysFS had negative value (-1), but there must be at least one NUMA node, so returning NUMA node zero. See more at https://github.com/torvalds/linux/blob/v6.0/Documentation/ABI/testing/sysfs-bus-pci#L344-L355\n",
      "2024-04-30 20:16:18.746343: I external/local_xla/xla/stream_executor/cuda/cuda_executor.cc:901] successful NUMA node read from SysFS had negative value (-1), but there must be at least one NUMA node, so returning NUMA node zero. See more at https://github.com/torvalds/linux/blob/v6.0/Documentation/ABI/testing/sysfs-bus-pci#L344-L355\n",
      "2024-04-30 20:16:18.747736: I external/local_xla/xla/stream_executor/cuda/cuda_executor.cc:901] successful NUMA node read from SysFS had negative value (-1), but there must be at least one NUMA node, so returning NUMA node zero. See more at https://github.com/torvalds/linux/blob/v6.0/Documentation/ABI/testing/sysfs-bus-pci#L344-L355\n",
      "2024-04-30 20:16:18.749184: I tensorflow/core/common_runtime/gpu/gpu_device.cc:1929] Created device /job:localhost/replica:0/task:0/device:GPU:0 with 20723 MB memory:  -> device: 0, name: NVIDIA A10G, pci bus id: 0000:00:1e.0, compute capability: 8.6\n"
     ]
    },
    {
     "name": "stdout",
     "output_type": "stream",
     "text": [
      "Epoch 1/100\n"
     ]
    },
    {
     "name": "stderr",
     "output_type": "stream",
     "text": [
      "2024-04-30 20:16:23.060354: I external/local_xla/xla/stream_executor/cuda/cuda_dnn.cc:454] Loaded cuDNN version 8907\n",
      "2024-04-30 20:16:27.954536: I external/local_xla/xla/service/service.cc:168] XLA service 0x7f332cd70d70 initialized for platform CUDA (this does not guarantee that XLA will be used). Devices:\n",
      "2024-04-30 20:16:27.954576: I external/local_xla/xla/service/service.cc:176]   StreamExecutor device (0): NVIDIA A10G, Compute Capability 8.6\n",
      "2024-04-30 20:16:27.960309: I tensorflow/compiler/mlir/tensorflow/utils/dump_mlir_util.cc:269] disabling MLIR crash reproducer, set env var `MLIR_CRASH_REPRODUCER_DIRECTORY` to enable.\n",
      "WARNING: All log messages before absl::InitializeLog() is called are written to STDERR\n",
      "I0000 00:00:1714533388.051344   31596 device_compiler.h:186] Compiled cluster using XLA!  This line is logged at most once for the lifetime of the process.\n"
     ]
    },
    {
     "name": "stdout",
     "output_type": "stream",
     "text": [
      "284/284 [==============================] - 79s 233ms/step - loss: 0.7186 - roc_auc_score: 0.6969 - f1_score_normal: 0.5268 - accuracy_score: 0.6684 - val_loss: 0.5629 - val_roc_auc_score: 0.8241 - val_f1_score_normal: 0.6870 - val_accuracy_score: 0.7102\n",
      "Epoch 2/100\n",
      "284/284 [==============================] - 68s 235ms/step - loss: 0.5722 - roc_auc_score: 0.8033 - f1_score_normal: 0.6597 - accuracy_score: 0.7356 - val_loss: 0.5005 - val_roc_auc_score: 0.8520 - val_f1_score_normal: 0.7136 - val_accuracy_score: 0.7692\n",
      "Epoch 3/100\n",
      "284/284 [==============================] - 65s 227ms/step - loss: 0.5379 - roc_auc_score: 0.8298 - f1_score_normal: 0.6979 - accuracy_score: 0.7609 - val_loss: 0.4608 - val_roc_auc_score: 0.8534 - val_f1_score_normal: 0.6894 - val_accuracy_score: 0.7709\n",
      "Epoch 4/100\n",
      "284/284 [==============================] - 70s 241ms/step - loss: 0.5044 - roc_auc_score: 0.8477 - f1_score_normal: 0.7160 - accuracy_score: 0.7711 - val_loss: 0.7082 - val_roc_auc_score: 0.8710 - val_f1_score_normal: 0.6935 - val_accuracy_score: 0.6897\n",
      "Epoch 5/100\n",
      "284/284 [==============================] - 66s 231ms/step - loss: 0.4810 - roc_auc_score: 0.8626 - f1_score_normal: 0.7311 - accuracy_score: 0.7862 - val_loss: 0.4440 - val_roc_auc_score: 0.8747 - val_f1_score_normal: 0.7236 - val_accuracy_score: 0.7933\n",
      "Epoch 6/100\n",
      "284/284 [==============================] - 75s 259ms/step - loss: 0.4685 - roc_auc_score: 0.8702 - f1_score_normal: 0.7406 - accuracy_score: 0.7939 - val_loss: 0.4756 - val_roc_auc_score: 0.8748 - val_f1_score_normal: 0.6387 - val_accuracy_score: 0.7784\n",
      "Epoch 7/100\n",
      "284/284 [==============================] - 70s 243ms/step - loss: 0.4581 - roc_auc_score: 0.8753 - f1_score_normal: 0.7484 - accuracy_score: 0.8007 - val_loss: 0.5464 - val_roc_auc_score: 0.8926 - val_f1_score_normal: 0.7460 - val_accuracy_score: 0.7672\n",
      "Epoch 8/100\n",
      "284/284 [==============================] - 70s 243ms/step - loss: 0.4426 - roc_auc_score: 0.8844 - f1_score_normal: 0.7547 - accuracy_score: 0.8052 - val_loss: 0.5450 - val_roc_auc_score: 0.8857 - val_f1_score_normal: 0.7393 - val_accuracy_score: 0.7583\n",
      "Epoch 9/100\n",
      "284/284 [==============================] - 69s 240ms/step - loss: 0.4361 - roc_auc_score: 0.8872 - f1_score_normal: 0.7629 - accuracy_score: 0.8088 - val_loss: 0.5472 - val_roc_auc_score: 0.8814 - val_f1_score_normal: 0.7375 - val_accuracy_score: 0.7656\n",
      "Epoch 10/100\n",
      "284/284 [==============================] - 66s 229ms/step - loss: 0.4332 - roc_auc_score: 0.8893 - f1_score_normal: 0.7645 - accuracy_score: 0.8116 - val_loss: 0.4258 - val_roc_auc_score: 0.8901 - val_f1_score_normal: 0.7552 - val_accuracy_score: 0.7995\n",
      "Epoch 11/100\n",
      "284/284 [==============================] - 70s 243ms/step - loss: 0.4148 - roc_auc_score: 0.8977 - f1_score_normal: 0.7741 - accuracy_score: 0.8189 - val_loss: 0.4113 - val_roc_auc_score: 0.8851 - val_f1_score_normal: 0.7322 - val_accuracy_score: 0.8091\n",
      "Epoch 12/100\n",
      "284/284 [==============================] - 69s 240ms/step - loss: 0.4180 - roc_auc_score: 0.8966 - f1_score_normal: 0.7716 - accuracy_score: 0.8183 - val_loss: 0.6206 - val_roc_auc_score: 0.8926 - val_f1_score_normal: 0.7394 - val_accuracy_score: 0.7593\n",
      "Epoch 13/100\n",
      "284/284 [==============================] - 76s 263ms/step - loss: 0.4011 - roc_auc_score: 0.9043 - f1_score_normal: 0.7778 - accuracy_score: 0.8237 - val_loss: 0.5865 - val_roc_auc_score: 0.8928 - val_f1_score_normal: 0.7237 - val_accuracy_score: 0.7362\n",
      "Epoch 14/100\n",
      "284/284 [==============================] - 74s 258ms/step - loss: 0.3994 - roc_auc_score: 0.9062 - f1_score_normal: 0.7819 - accuracy_score: 0.8270 - val_loss: 0.4523 - val_roc_auc_score: 0.8907 - val_f1_score_normal: 0.7555 - val_accuracy_score: 0.8018\n",
      "Epoch 15/100\n",
      "284/284 [==============================] - 70s 245ms/step - loss: 0.3863 - roc_auc_score: 0.9115 - f1_score_normal: 0.7844 - accuracy_score: 0.8293 - val_loss: 0.7554 - val_roc_auc_score: 0.8634 - val_f1_score_normal: 0.6049 - val_accuracy_score: 0.7685\n",
      "Epoch 16/100\n",
      "284/284 [==============================] - 74s 258ms/step - loss: 0.3833 - roc_auc_score: 0.9119 - f1_score_normal: 0.7900 - accuracy_score: 0.8327 - val_loss: 0.4190 - val_roc_auc_score: 0.8951 - val_f1_score_normal: 0.7601 - val_accuracy_score: 0.8051\n",
      "Epoch 17/100\n",
      "284/284 [==============================] - 69s 239ms/step - loss: 0.3668 - roc_auc_score: 0.9188 - f1_score_normal: 0.7952 - accuracy_score: 0.8364 - val_loss: 0.4332 - val_roc_auc_score: 0.8923 - val_f1_score_normal: 0.7454 - val_accuracy_score: 0.8131\n",
      "Epoch 18/100\n",
      "284/284 [==============================] - 75s 259ms/step - loss: 0.3751 - roc_auc_score: 0.9162 - f1_score_normal: 0.7909 - accuracy_score: 0.8341 - val_loss: 0.4103 - val_roc_auc_score: 0.8919 - val_f1_score_normal: 0.7576 - val_accuracy_score: 0.8098\n",
      "Epoch 19/100\n",
      "284/284 [==============================] - 69s 241ms/step - loss: 0.3708 - roc_auc_score: 0.9185 - f1_score_normal: 0.8007 - accuracy_score: 0.8430 - val_loss: 0.4111 - val_roc_auc_score: 0.8889 - val_f1_score_normal: 0.7294 - val_accuracy_score: 0.8107\n",
      "Epoch 20/100\n",
      "284/284 [==============================] - 70s 243ms/step - loss: 0.3565 - roc_auc_score: 0.9242 - f1_score_normal: 0.8059 - accuracy_score: 0.8457 - val_loss: 0.4263 - val_roc_auc_score: 0.8938 - val_f1_score_normal: 0.7568 - val_accuracy_score: 0.8170\n",
      "Epoch 21/100\n",
      "284/284 [==============================] - 70s 242ms/step - loss: 0.3489 - roc_auc_score: 0.9263 - f1_score_normal: 0.8034 - accuracy_score: 0.8448 - val_loss: 0.5111 - val_roc_auc_score: 0.8876 - val_f1_score_normal: 0.7488 - val_accuracy_score: 0.7728\n",
      "Epoch 22/100\n",
      "284/284 [==============================] - 71s 246ms/step - loss: 0.3391 - roc_auc_score: 0.9312 - f1_score_normal: 0.8128 - accuracy_score: 0.8527 - val_loss: 0.5055 - val_roc_auc_score: 0.8934 - val_f1_score_normal: 0.7447 - val_accuracy_score: 0.7689\n",
      "Epoch 23/100\n",
      "284/284 [==============================] - 66s 228ms/step - loss: 0.3341 - roc_auc_score: 0.9329 - f1_score_normal: 0.8203 - accuracy_score: 0.8581 - val_loss: 0.4279 - val_roc_auc_score: 0.8971 - val_f1_score_normal: 0.7705 - val_accuracy_score: 0.8140\n",
      "Epoch 24/100\n",
      "284/284 [==============================] - 75s 261ms/step - loss: 0.3232 - roc_auc_score: 0.9376 - f1_score_normal: 0.8295 - accuracy_score: 0.8652 - val_loss: 0.4310 - val_roc_auc_score: 0.8844 - val_f1_score_normal: 0.7350 - val_accuracy_score: 0.8107\n",
      "Epoch 25/100\n",
      "284/284 [==============================] - 65s 227ms/step - loss: 0.3156 - roc_auc_score: 0.9402 - f1_score_normal: 0.8305 - accuracy_score: 0.8664 - val_loss: 0.4641 - val_roc_auc_score: 0.8837 - val_f1_score_normal: 0.7208 - val_accuracy_score: 0.8061\n",
      "Epoch 26/100\n",
      "284/284 [==============================] - 70s 240ms/step - loss: 0.3118 - roc_auc_score: 0.9421 - f1_score_normal: 0.8341 - accuracy_score: 0.8696 - val_loss: 0.4643 - val_roc_auc_score: 0.8944 - val_f1_score_normal: 0.7637 - val_accuracy_score: 0.8009\n",
      "Epoch 27/100\n",
      "284/284 [==============================] - 65s 227ms/step - loss: 0.3069 - roc_auc_score: 0.9438 - f1_score_normal: 0.8328 - accuracy_score: 0.8697 - val_loss: 0.5009 - val_roc_auc_score: 0.8844 - val_f1_score_normal: 0.7161 - val_accuracy_score: 0.8055\n",
      "Epoch 28/100\n",
      "284/284 [==============================] - 75s 260ms/step - loss: 0.2963 - roc_auc_score: 0.9471 - f1_score_normal: 0.8390 - accuracy_score: 0.8739 - val_loss: 0.5266 - val_roc_auc_score: 0.8835 - val_f1_score_normal: 0.7471 - val_accuracy_score: 0.7903\n",
      "Epoch 28: early stopping\n",
      "35/35 [==============================] - 6s 177ms/step - loss: 0.4617 - roc_auc_score: 0.8892 - f1_score_normal: 0.8133 - accuracy_score: 0.8099\n"
     ]
    },
    {
     "name": "stderr",
     "output_type": "stream",
     "text": [
      "2024-04-30 20:49:25,179 - INFO - Test results - [0.46174943447113037, 0.8891581296920776, 0.8132581114768982, 0.809872031211853]\n",
      "/home/munimadu/.conda/envs/my-tensorflow-conda/lib/python3.10/site-packages/keras/src/engine/training.py:3103: UserWarning: You are saving your model as an HDF5 file via `model.save()`. This file format is considered legacy. We recommend using instead the native Keras format, e.g. `model.save('my_model.keras')`.\n",
      "  saving_api.save_model(\n"
     ]
    },
    {
     "name": "stdout",
     "output_type": "stream",
     "text": [
      "Model Eval results: [0.46174943447113037, 0.8891581296920776, 0.8132581114768982, 0.809872031211853]\n"
     ]
    },
    {
     "name": "stderr",
     "output_type": "stream",
     "text": [
      "2024-04-30 20:49:25,424 - INFO - VGG19_Catalog_LAC_DHS_Cropped_Data_Trained_model.h5 Model trained, Model and training history are saved successfully.\n"
     ]
    }
   ],
   "source": [
    "# @title Execute Training algorithm\n",
    "from eye_ai.models.vgg19_diagnosis_train import main\n",
    "with EA.execution(execution_rid=configuration_records.execution_rid) as exec:\n",
    "  main(train_path=train_cropped_image_path,\n",
    "       valid_path=validation_cropped_image_path, \n",
    "       test_path=test_cropped_image_path, \n",
    "       output_path = output_path                    )\n",
    "                    \n"
   ]
  },
  {
   "cell_type": "code",
   "execution_count": 15,
   "metadata": {
    "id": "zHqtgNpxrISs"
   },
   "outputs": [
    {
     "name": "stderr",
     "output_type": "stream",
     "text": [
      "2024-04-30 20:49:37,178 - INFO - Initializing uploader: GenericUploader v1.7.0 [Python 3.10.13, Linux-5.10.210-201.852.amzn2.x86_64-x86_64-with-glibc2.26]\n",
      "2024-04-30 20:49:37,179 - INFO - Creating client of type <class 'globus_sdk.services.auth.client.native_client.NativeAppAuthClient'> for service \"auth\"\n",
      "2024-04-30 20:49:37,180 - INFO - Finished initializing AuthLoginClient. client_id='8ef15ba9-2b4a-469c-a163-7fd910c9d111', type(authorizer)=<class 'globus_sdk.authorizers.base.NullAuthorizer'>\n",
      "2024-04-30 20:49:37,215 - INFO - Checking for updated configuration...\n",
      "2024-04-30 20:49:37,371 - INFO - Updated configuration found.\n",
      "2024-04-30 20:49:37,372 - INFO - Scanning files in directory [/data/munimadu/EyeAI_working/Execution_Assets/VGG19_Catalog_Model]...\n",
      "2024-04-30 20:49:37,376 - INFO - Including file: [/data/munimadu/EyeAI_working/Execution_Assets/VGG19_Catalog_Model/VGG19_Catalog_LAC_DHS_Cropped_Data_Trained_model.h5].\n",
      "2024-04-30 20:49:37,377 - INFO - Including file: [/data/munimadu/EyeAI_working/Execution_Assets/VGG19_Catalog_Model/training_history.csv].\n",
      "2024-04-30 20:49:37,377 - INFO - Processing: [/data/munimadu/EyeAI_working/Execution_Assets/VGG19_Catalog_Model/VGG19_Catalog_LAC_DHS_Cropped_Data_Trained_model.h5]\n",
      "2024-04-30 20:49:37,378 - INFO - Computed metadata for: [/data/munimadu/EyeAI_working/Execution_Assets/VGG19_Catalog_Model/VGG19_Catalog_LAC_DHS_Cropped_Data_Trained_model.h5].\n",
      "2024-04-30 20:49:37,379 - INFO - Computing checksums for file: [/data/munimadu/EyeAI_working/Execution_Assets/VGG19_Catalog_Model/VGG19_Catalog_LAC_DHS_Cropped_Data_Trained_model.h5]. Please wait...\n",
      "2024-04-30 20:49:37,933 - INFO - Uploading file: [/data/munimadu/EyeAI_working/Execution_Assets/VGG19_Catalog_Model/VGG19_Catalog_LAC_DHS_Cropped_Data_Trained_model.h5] to host https://www.eye-ai.org. Please wait...\n",
      "2024-04-30 20:49:42,481 - INFO - File [/data/munimadu/EyeAI_working/Execution_Assets/VGG19_Catalog_Model/VGG19_Catalog_LAC_DHS_Cropped_Data_Trained_model.h5] upload successful. 227.78 MB transferred at 52.45 MB/second. Elapsed time: 0:00:04.343080.\n",
      "2024-04-30 20:49:42,624 - INFO - Processing: [/data/munimadu/EyeAI_working/Execution_Assets/VGG19_Catalog_Model/training_history.csv]\n",
      "2024-04-30 20:49:42,624 - INFO - Computed metadata for: [/data/munimadu/EyeAI_working/Execution_Assets/VGG19_Catalog_Model/training_history.csv].\n",
      "2024-04-30 20:49:42,625 - INFO - Computing checksums for file: [/data/munimadu/EyeAI_working/Execution_Assets/VGG19_Catalog_Model/training_history.csv]. Please wait...\n",
      "2024-04-30 20:49:42,635 - INFO - Uploading file: [/data/munimadu/EyeAI_working/Execution_Assets/VGG19_Catalog_Model/training_history.csv] to host https://www.eye-ai.org. Please wait...\n",
      "2024-04-30 20:49:42,735 - INFO - File upload processing completed: 2 files were uploaded successfully, 0 files failed to upload due to errors, 0 files were skipped because they did not satisfy the matching criteria of the configuration.\n",
      "2024-04-30 20:49:42,819 - INFO - Initializing uploader: GenericUploader v1.7.0 [Python 3.10.13, Linux-5.10.210-201.852.amzn2.x86_64-x86_64-with-glibc2.26]\n",
      "2024-04-30 20:49:42,820 - INFO - Creating client of type <class 'globus_sdk.services.auth.client.native_client.NativeAppAuthClient'> for service \"auth\"\n",
      "2024-04-30 20:49:42,820 - INFO - Finished initializing AuthLoginClient. client_id='8ef15ba9-2b4a-469c-a163-7fd910c9d111', type(authorizer)=<class 'globus_sdk.authorizers.base.NullAuthorizer'>\n",
      "2024-04-30 20:49:42,855 - INFO - Checking for updated configuration...\n",
      "2024-04-30 20:49:42,946 - INFO - Updated configuration found.\n",
      "2024-04-30 20:49:42,947 - INFO - Scanning files in directory [/data/munimadu/EyeAI_working/Execution_Metadata]...\n",
      "2024-04-30 20:49:42,949 - INFO - Including file: [/data/munimadu/EyeAI_working/Execution_Metadata/Execution_Config-vgg19_catalog_model_training_sreenidhi_apr_27_2024.json].\n",
      "2024-04-30 20:49:42,949 - INFO - Including file: [/data/munimadu/EyeAI_working/Execution_Metadata/Runtime_Env-python_environment_snapshot.txt].\n",
      "2024-04-30 20:49:42,950 - INFO - Processing: [/data/munimadu/EyeAI_working/Execution_Metadata/Execution_Config-vgg19_catalog_model_training_sreenidhi_apr_27_2024.json]\n",
      "2024-04-30 20:49:42,951 - INFO - Computed metadata for: [/data/munimadu/EyeAI_working/Execution_Metadata/Execution_Config-vgg19_catalog_model_training_sreenidhi_apr_27_2024.json].\n",
      "2024-04-30 20:49:42,951 - INFO - Computing checksums for file: [/data/munimadu/EyeAI_working/Execution_Metadata/Execution_Config-vgg19_catalog_model_training_sreenidhi_apr_27_2024.json]. Please wait...\n",
      "2024-04-30 20:49:42,961 - INFO - Uploading file: [/data/munimadu/EyeAI_working/Execution_Metadata/Execution_Config-vgg19_catalog_model_training_sreenidhi_apr_27_2024.json] to host https://www.eye-ai.org. Please wait...\n",
      "2024-04-30 20:49:43,054 - INFO - Updating catalog for file [Execution_Config-vgg19_catalog_model_training_sreenidhi_apr_27_2024.json]\n",
      "2024-04-30 20:49:43,301 - INFO - Processing: [/data/munimadu/EyeAI_working/Execution_Metadata/Runtime_Env-python_environment_snapshot.txt]\n",
      "2024-04-30 20:49:43,302 - INFO - Computed metadata for: [/data/munimadu/EyeAI_working/Execution_Metadata/Runtime_Env-python_environment_snapshot.txt].\n",
      "2024-04-30 20:49:43,302 - INFO - Computing checksums for file: [/data/munimadu/EyeAI_working/Execution_Metadata/Runtime_Env-python_environment_snapshot.txt]. Please wait...\n",
      "2024-04-30 20:49:43,313 - INFO - Uploading file: [/data/munimadu/EyeAI_working/Execution_Metadata/Runtime_Env-python_environment_snapshot.txt] to host https://www.eye-ai.org. Please wait...\n",
      "2024-04-30 20:49:43,330 - INFO - File upload processing completed: 2 files were uploaded successfully, 0 files failed to upload due to errors, 0 files were skipped because they did not satisfy the matching criteria of the configuration.\n"
     ]
    }
   ],
   "source": [
    "# @title Save Execution Assets (model) and Metadata\n",
    "uploaded_assets = EA.execution_upload(configuration_records.execution_rid, False)"
   ]
  },
  {
   "cell_type": "markdown",
   "metadata": {},
   "source": [
    "# "
   ]
  }
 ],
 "metadata": {
  "colab": {
   "include_colab_link": true,
   "provenance": []
  },
  "kernelspec": {
   "display_name": "My TensorFlow (Conda)",
   "language": "python",
   "name": "my-tensorflow-conda"
  },
  "language_info": {
   "codemirror_mode": {
    "name": "ipython",
    "version": 3
   },
   "file_extension": ".py",
   "mimetype": "text/x-python",
   "name": "python",
   "nbconvert_exporter": "python",
   "pygments_lexer": "ipython3",
   "version": "3.10.13"
  }
 },
 "nbformat": 4,
 "nbformat_minor": 4
}
