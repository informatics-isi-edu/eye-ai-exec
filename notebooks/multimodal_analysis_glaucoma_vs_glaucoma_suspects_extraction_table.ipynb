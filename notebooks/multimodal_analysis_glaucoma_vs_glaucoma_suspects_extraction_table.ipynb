{
 "cells": [
  {
   "cell_type": "markdown",
   "metadata": {
    "colab_type": "text",
    "id": "view-in-github"
   },
   "source": [
    "<a href=\"https://colab.research.google.com/github/informatics-isi-edu/eye-ai-exec/blob/main/notebooks/VGG19_Diagnosis_Train.ipynb\" target=\"_parent\"><img src=\"https://colab.research.google.com/assets/colab-badge.svg\" alt=\"Open In Colab\"/></a>"
   ]
  },
  {
   "cell_type": "markdown",
   "metadata": {
    "id": "yVq_jMdfx7Ni"
   },
   "source": [
    "# Multimodal Template"
   ]
  },
  {
   "cell_type": "code",
   "execution_count": null,
   "metadata": {},
   "outputs": [],
   "source": [
    "# import sys\n",
    "# IN_COLAB = 'google.colab' in sys.modules\n",
    "\n",
    "# if IN_COLAB:\n",
    "#     !pip install deriva\n",
    "#     !pip install bdbag\n",
    "#     !pip install --upgrade --force pydantic\n",
    "#     !pip install git+https://github.com/informatics-isi-edu/deriva-ml git+https://github.com/informatics-isi-edu/eye-ai-ml"
   ]
  },
  {
   "cell_type": "code",
   "execution_count": null,
   "metadata": {},
   "outputs": [],
   "source": [
    "repo_dir = \"Repos\"   # Set this to be where your github repos are located.\n",
    "%load_ext autoreload\n",
    "%autoreload 2\n",
    "\n",
    "# Update the load path so python can find modules for the model\n",
    "import sys\n",
    "from pathlib import Path\n",
    "sys.path.insert(0, str(Path.home() / repo_dir / \"eye-ai-ml\"))"
   ]
  },
  {
   "cell_type": "code",
   "execution_count": null,
   "metadata": {},
   "outputs": [],
   "source": [
    "# Prerequisites\n",
    "\n",
    "import json\n",
    "import os\n",
    "from eye_ai.eye_ai import EyeAI\n",
    "import pandas as pd\n",
    "from pathlib import Path, PurePath\n",
    "import logging\n",
    "# import torch\n",
    "\n",
    "logging.basicConfig(level=logging.INFO, format='%(asctime)s - %(levelname)s - %(message)s', force=True)"
   ]
  },
  {
   "cell_type": "code",
   "execution_count": null,
   "metadata": {},
   "outputs": [],
   "source": [
    "\n",
    "from deriva.core.utils.globus_auth_utils import GlobusNativeLogin\n",
    "catalog_id = \"eye-ai\" #@param\n",
    "host = 'www.eye-ai.org'\n",
    "\n",
    "\n",
    "gnl = GlobusNativeLogin(host=host)\n",
    "if gnl.is_logged_in([host]):\n",
    "    print(\"You are already logged in.\")\n",
    "else:\n",
    "    gnl.login([host], no_local_server=True, no_browser=True, refresh_tokens=True, update_bdbag_keychain=True)\n",
    "    print(\"Login Successful\")"
   ]
  },
  {
   "cell_type": "markdown",
   "metadata": {
    "id": "imD3DJ4lx7Nm"
   },
   "source": [
    "Connect to Eye-AI catalog.  Configure to store data local cache and working directories.  Initialize Eye-AI for pending execution based on the provided configuration file."
   ]
  },
  {
   "cell_type": "code",
   "execution_count": null,
   "metadata": {},
   "outputs": [],
   "source": [
    "# Variables to configure the rest of the notebook.\n",
    "\n",
    "cache_dir = '/data'        # Directory in which to cache materialized BDBags for datasets\n",
    "working_dir = '/data'    # Directory in which to place output files for later upload.\n",
    "\n",
    "configuration_rid=\"2-C61G\" # rid\n",
    "\n"
   ]
  },
  {
   "cell_type": "code",
   "execution_count": null,
   "metadata": {},
   "outputs": [],
   "source": [
    "EA = EyeAI(hostname = host, catalog_id = catalog_id, cache_dir= cache_dir, working_dir=working_dir)"
   ]
  },
  {
   "cell_type": "code",
   "execution_count": null,
   "metadata": {},
   "outputs": [],
   "source": [
    "# @title Initiate an Execution\n",
    "configuration_records = EA.execution_init(configuration_rid=configuration_rid)\n",
    "configuration_records.model_dump()"
   ]
  },
  {
   "cell_type": "code",
   "execution_count": null,
   "metadata": {},
   "outputs": [],
   "source": [
    "# View data\n",
    "\n",
    "subject = pd.read_csv(configuration_records.bag_paths[0]/'data/Subject.csv')\n",
    "subject\n",
    "\n",
    "observation = pd.read_csv(configuration_records.bag_paths[0]/'data/Observation.csv')\n",
    "observation\n",
    "\n",
    "clinic = pd.read_csv(configuration_records.bag_paths[0]/'data/Clinical_Records.csv')\n",
    "clinic\n",
    "\n",
    "observation_clinic_asso = pd.read_csv(configuration_records.bag_paths[0]/'data/Observation_Clinic_Asso.csv')\n",
    "observation_clinic_asso # association table between observation table and clinic record table\n",
    "\n",
    "icd10 = pd.read_csv(configuration_records.bag_paths[0]/'data/Clinic_ICD10.csv')\n",
    "icd10\n",
    "\n",
    "icd10_asso = pd.read_csv(configuration_records.bag_paths[0]/'data/Clinic_ICD_Asso.csv')\n",
    "icd10_asso # association table between clinic record table and ICD10 code\n",
    "\n",
    "# report = pd.read_csv(configuration_records.bag_paths[0]/'data/Report.csv')\n",
    "# report\n",
    "\n",
    "# RNFL_OCR = pd.read_csv(configuration_records.bag_paths[0]/'data/RNFL_OCR.csv')\n",
    "# RNFL_OCR\n",
    "\n",
    "# HVF_OCR = pd.read_csv(configuration_records.bag_paths[0]/'data/HVF_OCR.csv')\n",
    "# HVF_OCR\n",
    "\n",
    "print()"
   ]
  },
  {
   "cell_type": "code",
   "execution_count": null,
   "metadata": {},
   "outputs": [],
   "source": [
    "subject\n"
   ]
  },
  {
   "cell_type": "code",
   "execution_count": null,
   "metadata": {},
   "outputs": [],
   "source": [
    "observation"
   ]
  },
  {
   "cell_type": "code",
   "execution_count": null,
   "metadata": {},
   "outputs": [],
   "source": [
    "# Merge Subject with Observation\n",
    "subject_observation = pd.merge(subject, observation, left_on='RID', right_on='Subject', how='inner', suffixes=('_subject_df', '_observation_df'))\n",
    "subject_observation"
   ]
  },
  {
   "cell_type": "code",
   "execution_count": null,
   "metadata": {},
   "outputs": [],
   "source": [
    "# Merge with Observation_Clinical_Association\n",
    "subject_obs_clinic = pd.merge(subject_observation, observation_clinic_asso, left_on= 'RID_observation_df', right_on='Observation', suffixes=('_subject_observation_df', \"_observation_clinic_asso_df\"), how='inner')\n",
    "\n",
    "subject_obs_clinic"
   ]
  },
  {
   "cell_type": "code",
   "execution_count": null,
   "metadata": {},
   "outputs": [],
   "source": [
    "clinic"
   ]
  },
  {
   "cell_type": "code",
   "execution_count": null,
   "metadata": {},
   "outputs": [],
   "source": [
    "clinic['Condition_Label'].unique()"
   ]
  },
  {
   "cell_type": "code",
   "execution_count": null,
   "metadata": {},
   "outputs": [],
   "source": [
    "import numpy as np\n",
    "\n",
    "# Create the first new column with condition names\n",
    "condition_map = {\n",
    "    '2-C60J': 'GS',\n",
    "    '2-C60M': 'POAG',\n",
    "    '2-C60P': 'PACG'\n",
    "}\n",
    "\n",
    "clinic['Condition_Name'] = clinic['Condition_Label'].map(condition_map)\n",
    "\n",
    "# Create the second new column with Glaucoma classification\n",
    "def classify_glaucoma(condition):\n",
    "    if condition in ['POAG', 'PACG']:\n",
    "        return 'Glaucoma'\n",
    "    elif condition == 'GS':\n",
    "        return 'Glaucoma suspects'\n",
    "    else:\n",
    "        return np.nan\n",
    "\n",
    "clinic['Glaucoma_Classification'] = clinic['Condition_Name'].apply(classify_glaucoma)\n",
    "\n",
    "clinic"
   ]
  },
  {
   "cell_type": "code",
   "execution_count": null,
   "metadata": {},
   "outputs": [],
   "source": [
    "clinic['Glaucoma_Classification'].unique()"
   ]
  },
  {
   "cell_type": "code",
   "execution_count": null,
   "metadata": {},
   "outputs": [],
   "source": [
    "subject_obs_clinic_data = pd.merge(subject_obs_clinic, clinic, left_on='Clinical_Records', right_on='RID', suffixes=(\"_subject_obs_clinic_df\", \"_clinic_df\"), how='inner')\n",
    "\n",
    "\n",
    "\n",
    "\n",
    "subject_obs_clinic_data"
   ]
  },
  {
   "cell_type": "code",
   "execution_count": null,
   "metadata": {},
   "outputs": [],
   "source": [
    "subject_obs_clinic_data['Glaucoma_Classification'].unique()"
   ]
  },
  {
   "cell_type": "code",
   "execution_count": null,
   "metadata": {},
   "outputs": [],
   "source": [
    "subject_obs_clinic_data['RID_subject_df'].nunique()"
   ]
  },
  {
   "cell_type": "code",
   "execution_count": null,
   "metadata": {},
   "outputs": [],
   "source": [
    "\n",
    "# Assuming subject_obs_clinic_data is your final merged dataframe\n",
    "unique_subject_counts = subject_obs_clinic_data.groupby('Glaucoma_Classification')['RID_subject_df'].nunique()\n",
    "\n",
    "# Print the unique subject counts for each classification\n",
    "print(unique_subject_counts)"
   ]
  },
  {
   "cell_type": "code",
   "execution_count": null,
   "metadata": {},
   "outputs": [],
   "source": [
    "\n",
    "# Assuming subject_obs_clinic_data is your final merged dataframe\n",
    "unique_subject_counts = subject_obs_clinic_data.groupby('Glaucoma_Classification')['Subject_ID'].nunique()\n",
    "\n",
    "# Print the unique subject counts for each classification\n",
    "print(unique_subject_counts)"
   ]
  },
  {
   "cell_type": "markdown",
   "metadata": {},
   "source": [
    "# GS "
   ]
  },
  {
   "cell_type": "code",
   "execution_count": null,
   "metadata": {},
   "outputs": [],
   "source": [
    "# All code for creating GS suspect entries\n",
    "\n",
    "subject_obs_clinic_data_gs = subject_obs_clinic_data.copy(deep=True)\n",
    "\n",
    "subject_obs_clinic_data_gs"
   ]
  },
  {
   "cell_type": "code",
   "execution_count": null,
   "metadata": {},
   "outputs": [],
   "source": [
    "subject_obs_clinic_data_gs = subject_obs_clinic_data_gs[\n",
    "    (subject_obs_clinic_data_gs['IOP'] >= 0) &\n",
    "    (subject_obs_clinic_data_gs['IOP'] <= 21) &\n",
    "    (subject_obs_clinic_data_gs['Condition_Name'] == 'GS')\n",
    "]\n",
    "\n",
    "subject_obs_clinic_data_gs"
   ]
  },
  {
   "cell_type": "code",
   "execution_count": null,
   "metadata": {},
   "outputs": [],
   "source": [
    "icd10_gs = icd10.copy(deep=True)\n",
    "\n",
    "icd10_gs"
   ]
  },
  {
   "cell_type": "code",
   "execution_count": null,
   "metadata": {},
   "outputs": [],
   "source": [
    "icd10_gs = icd10_gs[icd10_gs['ICD10'].isin(['H40.003', 'H40.013', 'H40.023'])]\n",
    "\n",
    "icd10_gs "
   ]
  },
  {
   "cell_type": "code",
   "execution_count": null,
   "metadata": {},
   "outputs": [],
   "source": [
    "icd10_asso_gs = icd10_asso.copy(deep=True)\n",
    "\n",
    "icd10_asso_gs"
   ]
  },
  {
   "cell_type": "code",
   "execution_count": null,
   "metadata": {},
   "outputs": [],
   "source": [
    "# Merge the dataframes\n",
    "icd10_and_icd10_asso_merged_df = pd.merge(icd10_gs, icd10_asso_gs, left_on='RID', right_on='ICD10_Eye', how='left',  suffixes=(\"_icd10_gs_df\", \"_icd10_asso_gs_df\"))\n",
    "\n",
    "\n",
    "icd10_and_icd10_asso_merged_df"
   ]
  },
  {
   "cell_type": "code",
   "execution_count": null,
   "metadata": {},
   "outputs": [],
   "source": [
    "# Merging the dataframes based on Clinical_ID and Clinical_Records\n",
    "final_merged_df_gs = pd.merge(subject_obs_clinic_data_gs, icd10_and_icd10_asso_merged_df, \n",
    "                           left_on='RID_clinic_df', right_on='Clinical_Records', how='inner')\n",
    "\n",
    "# Display the result\n",
    "# print(final_merged_df)\n",
    "\n",
    "final_merged_df_gs"
   ]
  },
  {
   "cell_type": "code",
   "execution_count": null,
   "metadata": {},
   "outputs": [],
   "source": [
    "final_merged_df_gs.Clinical_Records_y.nunique()"
   ]
  },
  {
   "cell_type": "code",
   "execution_count": null,
   "metadata": {},
   "outputs": [],
   "source": [
    "final_merged_df_gs.Subject_ID"
   ]
  },
  {
   "cell_type": "code",
   "execution_count": null,
   "metadata": {},
   "outputs": [],
   "source": [
    "final_merged_df_gs.to_csv(\"final_merged_df_gs.csv\", index=False)"
   ]
  },
  {
   "cell_type": "markdown",
   "metadata": {},
   "source": [
    "## Another way to test GS"
   ]
  },
  {
   "cell_type": "code",
   "execution_count": null,
   "metadata": {},
   "outputs": [],
   "source": [
    "import pandas as pd\n",
    "import numpy as np\n",
    "\n",
    "# Load data\n",
    "subject = pd.read_csv(configuration_records.bag_paths[0]/'data/Subject.csv')\n",
    "observation = pd.read_csv(configuration_records.bag_paths[0]/'data/Observation.csv')\n",
    "clinic = pd.read_csv(configuration_records.bag_paths[0]/'data/Clinical_Records.csv')\n",
    "observation_clinic_asso = pd.read_csv(configuration_records.bag_paths[0]/'data/Observation_Clinic_Asso.csv')\n",
    "icd10 = pd.read_csv(configuration_records.bag_paths[0]/'data/Clinic_ICD10.csv')\n",
    "icd10_asso = pd.read_csv(configuration_records.bag_paths[0]/'data/Clinic_ICD_Asso.csv')\n",
    "\n",
    "# Step 1: Apply initial filters to clinical records\n",
    "clinic_filtered = clinic[\n",
    "    (clinic['IOP'] >= 0) & \n",
    "    (clinic['IOP'] <= 21) & \n",
    "    (clinic['Condition_Label'] == '2-C60J')\n",
    "]\n",
    "print(f\"Number of records with IOP 0-21 and GS condition: {len(clinic_filtered)}\")\n",
    "\n",
    "# Step 2: Prepare ICD-10 data\n",
    "valid_icd10 = ['H40.003', 'H40.013', 'H40.023']\n",
    "icd10_filtered = icd10[icd10['ICD10'].isin(valid_icd10)]\n",
    "icd10_asso_filtered = icd10_asso[icd10_asso['ICD10_Eye'].isin(icd10_filtered['RID'])]\n",
    "\n",
    "# Step 3: Merge clinical records with ICD-10 associations\n",
    "merged_df = pd.merge(clinic_filtered, icd10_asso_filtered, \n",
    "                     left_on='RID', right_on='Clinical_Records', \n",
    "                     how='inner')\n",
    "\n",
    "# Step 4: Add ICD-10 code to merged dataframe\n",
    "merged_df = pd.merge(merged_df, icd10_filtered[['RID', 'ICD10']], \n",
    "                     left_on='ICD10_Eye', right_on='RID', \n",
    "                     suffixes=('', '_icd10'))\n",
    "\n",
    "# Step 5: Group by Clinical_Records and aggregate ICD10 codes\n",
    "grouped_df = merged_df.groupby('Clinical_Records').agg({\n",
    "    'RID': 'first',\n",
    "    'IOP': 'first',\n",
    "    'Condition_Label': 'first',\n",
    "    'ICD10': lambda x: ','.join(sorted(set(x)))\n",
    "}).reset_index()\n",
    "\n",
    "print(f\"Number of unique clinical records: {len(grouped_df)}\")\n",
    "\n",
    "# Function to filter by specific ICD-10 codes\n",
    "def filter_by_icd10(df, codes):\n",
    "    return df[df['ICD10'].apply(lambda x: any(code in x.split(',') for code in codes))]\n",
    "\n",
    "# Individual ICD-10 code filters\n",
    "for code in valid_icd10:\n",
    "    filtered = filter_by_icd10(grouped_df, [code])\n",
    "    print(f\"Number of unique clinical records for {code}: {len(filtered)}\")\n",
    "\n",
    "# Combined H40.003 and H40.013\n",
    "combined_filtered = filter_by_icd10(grouped_df, ['H40.003', 'H40.013'])\n",
    "print(f\"Number of unique clinical records for H40.003 and H40.013 combined: {len(combined_filtered)}\")\n",
    "\n",
    "# Combined H40.023 and H40.013\n",
    "combined_filtered = filter_by_icd10(grouped_df, ['H40.023', 'H40.013'])\n",
    "print(f\"Number of unique clinical records for H40.023 and H40.013 combined: {len(combined_filtered)}\")\n",
    "\n",
    "# Combined H40.003 and H40.023\n",
    "combined_filtered = filter_by_icd10(grouped_df, ['H40.003', 'H40.023'])\n",
    "print(f\"Number of unique clinical records for H40.003 and H40.023 combined: {len(combined_filtered)}\")\n",
    "\n",
    "# All ICD-10 codes combined\n",
    "all_filtered = filter_by_icd10(grouped_df, valid_icd10)\n",
    "print(f\"Total number of unique clinical records with any of the ICD-10 codes: {len(all_filtered)}\")\n",
    "\n",
    "# Display distribution of ICD-10 codes\n",
    "print(\"\\nDistribution of ICD-10 codes:\")\n",
    "icd10_distribution = grouped_df['ICD10'].apply(lambda x: x.split(',')).explode().value_counts()\n",
    "print(icd10_distribution)\n",
    "\n",
    "# Display a few rows to verify the result\n",
    "print(\"\\nSample of final dataframe:\")\n",
    "print(grouped_df.head())\n",
    "\n",
    "print(f\"\\nTotal rows in final dataframe: {len(grouped_df)}\")\n",
    "\n",
    "# Optional: Save the final dataframe to a CSV file\n",
    "# grouped_df.to_csv('final_clinical_icd10_data.csv', index=False)\n",
    "print(\"Final dataframe saved to 'final_clinical_icd10_data.csv'\")"
   ]
  },
  {
   "cell_type": "code",
   "execution_count": null,
   "metadata": {},
   "outputs": [],
   "source": [
    "set(grouped_df.Clinical_Records) == set(final_merged_df_gs.Clinical_Records_y)"
   ]
  },
  {
   "cell_type": "markdown",
   "metadata": {},
   "source": [
    "# Glaucoma"
   ]
  },
  {
   "cell_type": "code",
   "execution_count": null,
   "metadata": {},
   "outputs": [],
   "source": [
    "# All code for creating Glaucoma entries\n",
    "\n",
    "subject_obs_clinic_data_g = subject_obs_clinic_data.copy(deep=True)\n",
    "\n",
    "subject_obs_clinic_data_g\n"
   ]
  },
  {
   "cell_type": "code",
   "execution_count": null,
   "metadata": {},
   "outputs": [],
   "source": [
    "\n",
    "subject_obs_clinic_data_g = subject_obs_clinic_data_g[\n",
    "    (subject_obs_clinic_data_g['Condition_Name'] == 'POAG')\n",
    "]\n",
    "\n",
    "subject_obs_clinic_data_g"
   ]
  },
  {
   "cell_type": "code",
   "execution_count": null,
   "metadata": {},
   "outputs": [],
   "source": [
    "\n",
    "\n",
    "icd10_g = icd10.copy(deep=True)\n",
    "\n",
    "icd10_g"
   ]
  },
  {
   "cell_type": "code",
   "execution_count": null,
   "metadata": {},
   "outputs": [],
   "source": [
    "\n",
    "\n",
    "\n",
    "icd10_g = icd10_g[icd10_g['ICD10'].isin([\n",
    "    \"H40.1130\",\n",
    "    \"H40.1131\",\n",
    "    \"H40.1132\",\n",
    "    \"H40.1133\",\n",
    "    \"H40.1134\",\n",
    "    \"H40.1231\",\n",
    "    \"H40.1232\",\n",
    "    \"H40.1233\",\n",
    "    \"H40.1234\"\n",
    "])]\n",
    "\n",
    "icd10_g "
   ]
  },
  {
   "cell_type": "code",
   "execution_count": null,
   "metadata": {},
   "outputs": [],
   "source": [
    "\n",
    "\n",
    "\n",
    "icd10_asso_g = icd10_asso.copy(deep=True)\n",
    "\n",
    "icd10_asso_g"
   ]
  },
  {
   "cell_type": "code",
   "execution_count": null,
   "metadata": {},
   "outputs": [],
   "source": [
    "\n",
    "\n",
    "\n",
    "# Merge the dataframes\n",
    "icd10_and_icd10_asso_merged_df = pd.merge(icd10_g, icd10_asso_g, left_on='RID', right_on='ICD10_Eye', how='left',  suffixes=(\"_icd10_g_df\", \"_icd10_asso_g_df\"))\n",
    "\n",
    "\n",
    "icd10_and_icd10_asso_merged_df\n"
   ]
  },
  {
   "cell_type": "code",
   "execution_count": null,
   "metadata": {},
   "outputs": [],
   "source": [
    "\n",
    "# Merging the dataframes based on Clinical_ID and Clinical_Records\n",
    "final_merged_df_g = pd.merge(subject_obs_clinic_data_g, icd10_and_icd10_asso_merged_df, \n",
    "                           left_on='RID_clinic_df', right_on='Clinical_Records', how='inner')\n",
    "\n",
    "# Display the result\n",
    "# print(final_merged_df)\n",
    "\n",
    "final_merged_df_g\n"
   ]
  },
  {
   "cell_type": "code",
   "execution_count": null,
   "metadata": {},
   "outputs": [],
   "source": [
    "\n",
    "\n",
    "final_merged_df_g.Clinical_Records_y.nunique()\n"
   ]
  },
  {
   "cell_type": "code",
   "execution_count": null,
   "metadata": {},
   "outputs": [],
   "source": [
    "\n",
    "\n",
    "final_merged_df_g.Subject_ID"
   ]
  },
  {
   "cell_type": "code",
   "execution_count": null,
   "metadata": {},
   "outputs": [],
   "source": [
    "final_merged_df_g.to_csv(\"final_merged_df_g.csv\", index=False)"
   ]
  },
  {
   "cell_type": "code",
   "execution_count": null,
   "metadata": {},
   "outputs": [],
   "source": [
    "# # @title Execute Training algorithm\n",
    "# from eye_ai.models.vgg19_hyper_parameter_tuning import main #import the new logistic module.\n",
    "# with EA.execution(execution_rid=configuration_records.execution_rid) as exec:\n",
    "#   main()\n"
   ]
  },
  {
   "cell_type": "code",
   "execution_count": null,
   "metadata": {},
   "outputs": [],
   "source": [
    "# # @title Save Execution Assets (model) and Metadata\n",
    "# uploaded_assets = EA.execution_upload(configuration_records.execution_rid, False)"
   ]
  },
  {
   "cell_type": "markdown",
   "metadata": {},
   "source": [
    "# "
   ]
  }
 ],
 "metadata": {
  "language_info": {
   "name": "python"
  }
 },
 "nbformat": 4,
 "nbformat_minor": 4
}
