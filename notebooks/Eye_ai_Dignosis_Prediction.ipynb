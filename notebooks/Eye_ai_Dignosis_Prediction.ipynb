{
  "cells": [
    {
      "cell_type": "markdown",
      "metadata": {
        "id": "view-in-github",
        "colab_type": "text"
      },
      "source": [
        "<a href=\"https://colab.research.google.com/github/informatics-isi-edu/eye-ai-exec/blob/main/notebooks/Eye_ai_Dignosis_Prediction.ipynb\" target=\"_parent\"><img src=\"https://colab.research.google.com/assets/colab-badge.svg\" alt=\"Open In Colab\"/></a>"
      ]
    },
    {
      "cell_type": "code",
      "execution_count": null,
      "metadata": {
        "id": "qBNfD8vlKgev",
        "jupyter": {
          "is_executing": true
        }
      },
      "outputs": [],
      "source": [
        "# Prerequisites\n",
        "!pip install deriva\n",
        "!pip install bdbag\n",
        "!pip install --upgrade --force pydantic\n",
        "!pip install git+https://github.com/informatics-isi-edu/deriva-ml git+https://github.com/informatics-isi-edu/eye-ai-ml\n"
      ]
    },
    {
      "cell_type": "code",
      "execution_count": null,
      "metadata": {
        "jupyter": {
          "is_executing": true
        },
        "id": "iCtEohU8lV-W"
      },
      "outputs": [],
      "source": [
        "import json\n",
        "import os\n",
        "from eye_ai.eye_ai import EyeAI\n",
        "import pandas as pd\n",
        "from pathlib import Path, PurePath\n",
        "import logging"
      ]
    },
    {
      "cell_type": "code",
      "execution_count": null,
      "metadata": {
        "id": "qw-bW4bORlqQ"
      },
      "outputs": [],
      "source": [
        "# @title login to DERIVA via Globus Auth\n",
        "\n",
        "DEBUG_MODE = False #@param [\"False\", \"True\"] {type:\"raw\"}\n",
        "catalog_id = \"eye-ai\" #@param\n",
        "DEFAULT_SERVER = 'dev.eye-ai.org' if DEBUG_MODE else 'www.eye-ai.org'\n",
        "\n",
        "!deriva-globus-auth-utils login --no-browser --host {DEFAULT_SERVER}\n"
      ]
    },
    {
      "cell_type": "code",
      "execution_count": null,
      "metadata": {
        "id": "A1Cg1lLQiSk4"
      },
      "outputs": [],
      "source": [
        "EA = EyeAI(hostname = DEFAULT_SERVER, catalog_id = catalog_id, cache_dir= 'cache/', working_dir='working/')\n",
        "logging.basicConfig(level=logging.INFO, format='%(asctime)s - %(levelname)s - %(message)s', force=True)\n"
      ]
    },
    {
      "cell_type": "code",
      "execution_count": null,
      "metadata": {
        "id": "kCIfOvbUXTGB"
      },
      "outputs": [],
      "source": [
        "# @title Initiate an Execution\n",
        "configuration_records = EA.execution_init(configuration_rid=\"2-A5KC\")\n",
        "configuration_records.model_dump()"
      ]
    },
    {
      "cell_type": "code",
      "execution_count": null,
      "metadata": {
        "id": "iUuTRgyg7Ys1"
      },
      "outputs": [],
      "source": [
        "# @title Get Cropped Images\n",
        "cropped_image_path, cropped_csv = EA.create_cropped_images(str(configuration_records.bag_paths[0]),\n",
        "                                                           output_dir = 'working/',\n",
        "                                                           crop_to_eye=False)"
      ]
    },
    {
      "cell_type": "code",
      "execution_count": null,
      "metadata": {
        "id": "YIJj6Uj73sOm"
      },
      "outputs": [],
      "source": [
        "# @title Execute Proecss algorithm (Test model)\n",
        "from eye_ai.models.diagnosis_prediction import prediction\n",
        "with EA.execution(execution_rid=configuration_records.execution_rid) as exec:\n",
        "  output_path = EA.execution_assets_path/Path(\"Model_Prediction\")\n",
        "  pred_csv_path = prediction(configuration_records.assets_paths[0], cropped_image_path, output_path)"
      ]
    },
    {
      "cell_type": "code",
      "execution_count": null,
      "metadata": {
        "id": "hra5M6G8-dh9"
      },
      "outputs": [],
      "source": [
        "# @title Plot ROC.\n",
        "roc_value_path = EA.plot_roc(pred_csv_path)"
      ]
    },
    {
      "cell_type": "code",
      "source": [
        "# @title Save Diagnosis\n",
        "import re\n",
        "pred_df = pd.read_csv(pred_csv_path)\n",
        "pred_df['Image'] = pred_df['Filename'].apply(lambda x: re.search(r'Cropped_(.*?)\\.', x).group(1))\n",
        "# The input dataframe need two columns: Image (containing image rid) and Prediction (containing 0/1)\n",
        "EA.insert_new_diagnosis(pred_df,\n",
        "                        configuration_records.vocabs['Diagnosis_Tag'][0].rid,\n",
        "                        configuration_records.execution_rid)\n"
      ],
      "metadata": {
        "id": "YEAmAgRM3im3"
      },
      "execution_count": null,
      "outputs": []
    },
    {
      "cell_type": "code",
      "execution_count": null,
      "metadata": {
        "id": "zHqtgNpxrISs"
      },
      "outputs": [],
      "source": [
        "# @title Save Execution Assets (model) and Metadata\n",
        "uploaded_assets = EA.execution_upload(configuration_records.execution_rid, False)\n"
      ]
    },
    {
      "cell_type": "code",
      "source": [],
      "metadata": {
        "id": "gjiUH8yp84Il"
      },
      "execution_count": null,
      "outputs": []
    }
  ],
  "metadata": {
    "colab": {
      "provenance": [],
      "include_colab_link": true
    },
    "kernelspec": {
      "display_name": "Python 3 (ipykernel)",
      "language": "python",
      "name": "python3"
    },
    "language_info": {
      "codemirror_mode": {
        "name": "ipython",
        "version": 3
      },
      "file_extension": ".py",
      "mimetype": "text/x-python",
      "name": "python",
      "nbconvert_exporter": "python",
      "pygments_lexer": "ipython3",
      "version": "3.12.2"
    }
  },
  "nbformat": 4,
  "nbformat_minor": 0
}