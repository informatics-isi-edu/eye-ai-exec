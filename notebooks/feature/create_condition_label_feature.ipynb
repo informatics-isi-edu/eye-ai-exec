{
 "cells": [
  {
   "cell_type": "code",
   "execution_count": 1,
   "metadata": {},
   "outputs": [],
   "source": [
    "import os\n",
    "import sys\n",
    "\n",
    "# Add the repository root to the Python path\n",
    "repo_root = os.path.abspath(os.path.join(os.getcwd(), '..', '..'))\n",
    "sys.path.insert(0, repo_root)\n",
    "\n",
    "# Set the working directory to the repository root\n",
    "os.chdir(repo_root)"
   ]
  },
  {
   "cell_type": "code",
   "execution_count": 2,
   "metadata": {},
   "outputs": [],
   "source": [
    "# Prerequisites\n",
    "import json\n",
    "import os\n",
    "from eye_ai.eye_ai import EyeAI\n",
    "\n",
    "import pandas as pd\n",
    "from pathlib import Path, PurePath\n",
    "import logging\n",
    "\n",
    "from deriva_ml import DatasetSpec, ExecutionConfiguration, DerivaML, Workflow\n",
    "from deriva_ml import MLVocab as vc\n",
    "from deriva_ml.deriva_definitions import ColumnDefinition, BuiltinTypes\n",
    "logging.basicConfig(level=logging.INFO, format='%(asctime)s - %(levelname)s - %(message)s', force=True)"
   ]
  },
  {
   "cell_type": "code",
   "execution_count": null,
   "metadata": {},
   "outputs": [],
   "source": [
    "# Login\n",
    "from deriva.core.utils.globus_auth_utils import GlobusNativeLogin\n",
    "host = 'dev.eye-ai.org'\n",
    "# host = 'www.eye-ai.org'\n",
    "catalog_id = \"eye-ai\"\n",
    "\n",
    "gnl = GlobusNativeLogin(host=host)\n",
    "if gnl.is_logged_in([host]):\n",
    "    print(\"You are already logged in.\")\n",
    "else:\n",
    "    gnl.login([host], no_local_server=True, no_browser=True, refresh_tokens=True, update_bdbag_keychain=True)\n",
    "    print(\"Login Successful\")"
   ]
  },
  {
   "cell_type": "code",
   "execution_count": 4,
   "metadata": {},
   "outputs": [],
   "source": [
    "cache_dir = '/Users/vivi/Desktop/eye_ai/execution_cache'\n",
    "working_dir = '/Users/vivi/Desktop/eye_ai/execution_cache'\n",
    "EA = EyeAI(hostname = host, catalog_id = catalog_id, cache_dir= cache_dir, working_dir=working_dir)"
   ]
  },
  {
   "cell_type": "code",
   "execution_count": null,
   "metadata": {},
   "outputs": [],
   "source": [
    "source_dataset = '2-7P5P'\n",
    "\n",
    "EA.add_term(\"Workflow_Type\", term_name=\"Feature_Creation\", \n",
    "            description=\"Workflow for feature creation\")\n",
    "\n",
    "workflow_instance = Workflow(\n",
    "    name=\"Create Condition_Label feature\",\n",
    "    workflow_type=\"Feature_Creation\",\n",
    "    url='https://github.com/informatics-isi-edu/eye-ai-exec/blob/401b5e35129da24017277a00b0ac429c421396bb--/notebooks/feature/create_condition_label_feature.ipynb',\n",
    "    is_notebook=True\n",
    ")\n",
    "\n",
    "config = ExecutionConfiguration(\n",
    "    datasets=[DatasetSpec(rid=source_dataset, version=EA.dataset_version(source_dataset), materialize=False)],\n",
    "    workflow= workflow_instance, # dev'5-SG9W'\n",
    "    description=\"Create Condition_Label for multimodal data\")\n",
    "\n",
    "# Initialize execution\n",
    "execution = EA.create_execution(config)"
   ]
  },
  {
   "cell_type": "code",
   "execution_count": null,
   "metadata": {},
   "outputs": [],
   "source": [
    "print(execution)"
   ]
  },
  {
   "cell_type": "markdown",
   "metadata": {},
   "source": [
    "# Create Feature"
   ]
  },
  {
   "cell_type": "code",
   "execution_count": 28,
   "metadata": {},
   "outputs": [],
   "source": [
    "severity_cv = EA.create_vocabulary(vocab_name='Severity_Label', schema='eye-ai')\n",
    "severity_feature = EA.create_feature(target_table='Clinical_Records', feature_name='Glaucoma_Severity', \n",
    "                  terms=[severity_cv])"
   ]
  },
  {
   "cell_type": "markdown",
   "metadata": {},
   "source": [
    "# Compute Feature\n",
    "## Retrived data"
   ]
  },
  {
   "cell_type": "code",
   "execution_count": null,
   "metadata": {},
   "outputs": [],
   "source": [
    "ds_bag = execution.datasets[0]\n",
    "tables = ds_bag.list_tables()\n",
    "# tables"
   ]
  },
  {
   "cell_type": "code",
   "execution_count": 44,
   "metadata": {},
   "outputs": [],
   "source": [
    "clinical_records = ds_bag.get_table_as_dataframe('Clinical_Records')\n",
    "icd_mapping = ds_bag.get_table_as_dataframe('Clinical_Records_ICD10_Eye')\n",
    "icd_codes = ds_bag.get_table_as_dataframe('ICD10_Eye')[['Name']]"
   ]
  },
  {
   "cell_type": "markdown",
   "metadata": {},
   "source": [
    "## Attatch label to the icd discription"
   ]
  },
  {
   "cell_type": "code",
   "execution_count": null,
   "metadata": {},
   "outputs": [],
   "source": [
    "# GS, Mild Glaucoma, Moderate Glaucoma, Severe Glaucoma, Unspecified/Indeterminate Glaucoma\n",
    "glaucoma_codes = icd_codes[icd_codes['Name'].str.startswith('H40')]\n",
    "glaucoma_codes.loc[glaucoma_codes['Name'].str.startswith('H40.0'),'Label'] = 'GS'\n",
    "glaucoma_codes.loc[glaucoma_codes['Name'].str[7] == '0', 'Label'] = 'Unspecified/Indeterminate'\n",
    "glaucoma_codes.loc[glaucoma_codes['Name'].str[7] == '1', 'Label'] = 'Mild'\n",
    "glaucoma_codes.loc[glaucoma_codes['Name'].str[7] == '2', 'Label'] = 'Moderate'\n",
    "glaucoma_codes.loc[glaucoma_codes['Name'].str[7] == '3', 'Label'] = 'Severe'\n",
    "glaucoma_codes.loc[glaucoma_codes['Name'].str[7] == '4', 'Label'] = 'Unspecified/Indeterminate'\n",
    "glaucoma_codes.dropna(subset=['Label'], inplace=True)"
   ]
  },
  {
   "cell_type": "markdown",
   "metadata": {},
   "source": [
    "## Attatch label to clinical records"
   ]
  },
  {
   "cell_type": "code",
   "execution_count": null,
   "metadata": {},
   "outputs": [],
   "source": [
    "mapping = icd_mapping[['Clinical_Records', \n",
    "                       'ICD10_Eye']].merge(glaucoma_codes, \n",
    "                                           left_on='ICD10_Eye', \n",
    "                                           right_on='Name', \n",
    "                                           how='left')\n",
    "# Define severity order\n",
    "severity_order = {\n",
    "    'Severe': 4,\n",
    "    'Moderate': 3,\n",
    "    'Mild': 2,\n",
    "    'Unspecified/Indeterminate': 1,\n",
    "    'GS': 0\n",
    "}\n",
    "\n",
    "# Create a function to get the most severe label\n",
    "def get_most_severe(labels):\n",
    "    if labels.isna().all():\n",
    "        return pd.NA\n",
    "    valid_labels = labels.dropna()\n",
    "    if len(valid_labels) == 0:\n",
    "        return pd.NA\n",
    "    return max(valid_labels, key=lambda x: severity_order.get(x, -1))\n",
    "\n",
    "# Group by clinical_records and apply the function\n",
    "result = mapping.groupby('Clinical_Records')['Label'].agg(get_most_severe).reset_index()\n",
    "result.dropna(subset=['Label'], inplace=True)\n",
    "result"
   ]
  },
  {
   "cell_type": "markdown",
   "metadata": {},
   "source": [
    "# Feature ingestion"
   ]
  },
  {
   "cell_type": "code",
   "execution_count": null,
   "metadata": {},
   "outputs": [],
   "source": [
    "EA.find_features('Clinical_Records')"
   ]
  },
  {
   "cell_type": "code",
   "execution_count": 50,
   "metadata": {},
   "outputs": [],
   "source": [
    "feature_name = 'Glaucoma_Severity'\n",
    "Feature = EA.feature_record_class('Clinical_Records', feature_name)\n",
    "from IPython.display import Markdown, display\n",
    "display(\n",
    "    Markdown('### Feature Name'),\n",
    "    [ f'Name: {c.name}, Required: {not c.nullok}' for c in Feature.feature.feature_columns]\n",
    ")"
   ]
  },
  {
   "cell_type": "code",
   "execution_count": 76,
   "metadata": {},
   "outputs": [],
   "source": [
    "EA.add_term(\"Severity_Label\", term_name=\"Moderate\", description=\"Moderate stage\")\n",
    "EA.add_term(\"Severity_Label\", term_name=\"Severe\", description=\"Severe stage\")\n",
    "EA.add_term(\"Severity_Label\", term_name=\"Mild\", description=\"Mild stage\")\n",
    "EA.add_term(\"Severity_Label\", term_name=\"Unspecified/Indeterminate\", \n",
    "            description=\"Indeterminate stage or stage unspecified\")\n",
    "EA.add_term(\"Severity_Label\", term_name=\"GS\", description=\"Glaucoma Suspect\")\n",
    "\n",
    "severe_feature_list = [Feature(\n",
    "    Execution=execution.execution_rid,\n",
    "    Clinical_Records=row['Clinical_Records'],\n",
    "    Severity_Label=row['Label'],\n",
    "    Feature_Name=feature_name,\n",
    "    ) for index, row in result.iterrows()]"
   ]
  },
  {
   "cell_type": "code",
   "execution_count": 89,
   "metadata": {},
   "outputs": [],
   "source": [
    "execution.add_features(severe_feature_list)"
   ]
  },
  {
   "cell_type": "code",
   "execution_count": null,
   "metadata": {},
   "outputs": [],
   "source": [
    "execution.upload_execution_outputs()"
   ]
  }
 ],
 "metadata": {
  "kernelspec": {
   "display_name": "eye_ai",
   "language": "python",
   "name": "python3"
  },
  "language_info": {
   "codemirror_mode": {
    "name": "ipython",
    "version": 3
   },
   "file_extension": ".py",
   "mimetype": "text/x-python",
   "name": "python",
   "nbconvert_exporter": "python",
   "pygments_lexer": "ipython3",
   "version": "3.12.9"
  }
 },
 "nbformat": 4,
 "nbformat_minor": 4
}
