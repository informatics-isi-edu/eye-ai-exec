{
 "cells": [
  {
   "cell_type": "code",
   "execution_count": 1,
   "metadata": {},
   "outputs": [],
   "source": [
    "import os\n",
    "import sys\n",
    "\n",
    "# Add the repository root to the Python path\n",
    "repo_root = os.path.abspath(os.path.join(os.getcwd(), '..', '..'))\n",
    "sys.path.insert(0, repo_root)\n",
    "\n",
    "# Set the working directory to the repository root\n",
    "os.chdir(repo_root)"
   ]
  },
  {
   "cell_type": "code",
   "execution_count": 2,
   "metadata": {},
   "outputs": [],
   "source": [
    "# Prerequisites\n",
    "import json\n",
    "import os\n",
    "from eye_ai.eye_ai import EyeAI\n",
    "\n",
    "import pandas as pd\n",
    "from pathlib import Path, PurePath\n",
    "import logging\n",
    "\n",
    "from deriva_ml import DatasetSpec, ExecutionConfiguration, DerivaML, Workflow\n",
    "from deriva_ml import MLVocab as vc\n",
    "from deriva_ml.deriva_definitions import ColumnDefinition, BuiltinTypes\n",
    "logging.basicConfig(level=logging.INFO, format='%(asctime)s - %(levelname)s - %(message)s', force=True)"
   ]
  },
  {
   "cell_type": "code",
   "execution_count": 3,
   "metadata": {},
   "outputs": [
    {
     "name": "stdout",
     "output_type": "stream",
     "text": [
      "You are already logged in.\n"
     ]
    }
   ],
   "source": [
    "# Login\n",
    "from deriva.core.utils.globus_auth_utils import GlobusNativeLogin\n",
    "host = 'dev.eye-ai.org'\n",
    "# host = 'www.eye-ai.org'\n",
    "catalog_id = \"eye-ai\"\n",
    "\n",
    "gnl = GlobusNativeLogin(host=host)\n",
    "if gnl.is_logged_in([host]):\n",
    "    print(\"You are already logged in.\")\n",
    "else:\n",
    "    gnl.login([host], no_local_server=True, no_browser=True, refresh_tokens=True, update_bdbag_keychain=True)\n",
    "    print(\"Login Successful\")"
   ]
  },
  {
   "cell_type": "code",
   "execution_count": 4,
   "metadata": {},
   "outputs": [],
   "source": [
    "cache_dir = '/Users/vivi/Desktop/eye_ai/execution_cache'\n",
    "working_dir = '/Users/vivi/Desktop/eye_ai/execution_cache'\n",
    "EA = EyeAI(hostname = host, catalog_id = catalog_id, cache_dir= cache_dir, working_dir=working_dir)"
   ]
  },
  {
   "cell_type": "code",
   "execution_count": 7,
   "metadata": {},
   "outputs": [
    {
     "data": {
      "text/markdown": [
       "Execution RID: https://dev.eye-ai.org/id/eye-ai/5-Y0V2@33D-D3Y7-61V0"
      ],
      "text/plain": [
       "<IPython.core.display.Markdown object>"
      ]
     },
     "metadata": {},
     "output_type": "display_data"
    },
    {
     "name": "stderr",
     "output_type": "stream",
     "text": [
      "2025-06-03 17:58:20,154 - INFO - Materialize bag 2-7P5P... \n",
      "2025-06-03 17:58:25,559 - INFO - Wrote configuration file: /Users/vivi/.bdbag/bdbag.json\n",
      "2025-06-03 17:58:25,562 - INFO - Attempting GET from URL: https://eye-ai-shared.s3.amazonaws.com/6656e08709b2f7c0bbed8284fdfb550d/2025-06-03_17.44.04/Dataset_2-7P5P.zip\n",
      "2025-06-03 17:58:29,341 - INFO - File [/Users/vivi/Desktop/eye_ai/repos/eye-ai-exec/Dataset_2-7P5P.zip] transfer complete. 6.373 MB transferred at 2.14 MB/second. Elapsed time: 0:00:02.985160.\n",
      "2025-06-03 17:58:29,345 - INFO - Extracting ZIP archived file: /Users/vivi/Desktop/eye_ai/repos/eye-ai-exec/Dataset_2-7P5P.zip\n",
      "2025-06-03 17:58:29,504 - INFO - File /Users/vivi/Desktop/eye_ai/repos/eye-ai-exec/Dataset_2-7P5P.zip was successfully extracted to directory /Users/vivi/Desktop/eye_ai/execution_cache/2-7P5P_c927e5b390530adf1e9987a518dd6d740631eea5b3956d1bd697d7b4c4438842/Dataset_2-7P5P\n",
      "2025-06-03 17:58:29,505 - INFO - Validating bag structure: /Users/vivi/Desktop/eye_ai/execution_cache/2-7P5P_c927e5b390530adf1e9987a518dd6d740631eea5b3956d1bd697d7b4c4438842/Dataset_2-7P5P\n",
      "2025-06-03 17:58:30,044 - INFO - Checking payload consistency. This can take some time for large bags with many payload files...\n",
      "2025-06-03 17:58:30,547 - INFO - The directory /Users/vivi/Desktop/eye_ai/execution_cache/2-7P5P_c927e5b390530adf1e9987a518dd6d740631eea5b3956d1bd697d7b4c4438842/Dataset_2-7P5P is a valid bag structure\n",
      "2025-06-03 17:58:30,548 - INFO - Loading /Users/vivi/Desktop/eye_ai/execution_cache/2-7P5P_c927e5b390530adf1e9987a518dd6d740631eea5b3956d1bd697d7b4c4438842/Dataset_2-7P5P\n",
      "2025-06-03 17:58:31,925 - INFO - Creating new database for dataset: 2-7P5P in /Users/vivi/Desktop/eye_ai/execution_cache/vivi/EyeAI_working/2-7P5P@33D-D1NE-T68C.db\n",
      "2025-06-03 17:58:32,107 - INFO - Downloading assets ...\n",
      "2025-06-03 17:58:32,558 - INFO - Initialize status finished.\n"
     ]
    }
   ],
   "source": [
    "source_dataset = '2-7P5P'\n",
    "\n",
    "EA.add_term(\"Workflow_Type\", term_name=\"Feature_Creation\", \n",
    "            description=\"Workflow for feature creation\")\n",
    "\n",
    "workflow_instance = Workflow(\n",
    "    name=\"Create Condition_Label feature\",\n",
    "    workflow_type=\"Feature_Creation\",\n",
    "    url='https://github.com/informatics-isi-edu/eye-ai-exec/blob/401b5e35129da24017277a00b0ac429c421396bb--/notebooks/feature/create_condition_label_feature.ipynb',\n",
    "    is_notebook=True\n",
    ")\n",
    "\n",
    "config = ExecutionConfiguration(\n",
    "    datasets=[DatasetSpec(rid=source_dataset, version=EA.dataset_version(source_dataset), materialize=False)],\n",
    "    workflow= workflow_instance, # dev'5-SG9W'\n",
    "    description=\"Create Condition_Label for multimodal data\")\n",
    "\n",
    "# Initialize execution\n",
    "execution = EA.create_execution(config)"
   ]
  },
  {
   "cell_type": "code",
   "execution_count": 8,
   "metadata": {},
   "outputs": [
    {
     "name": "stdout",
     "output_type": "stream",
     "text": [
      "caching_dir: /Users/vivi/Desktop/eye_ai/execution_cache\n",
      "_working_dir: /Users/vivi/Desktop/eye_ai/execution_cache/vivi/EyeAI_working\n",
      "execution_rid: 5-Y0V2\n",
      "workflow_rid: 5-Y0TW\n",
      "asset_paths: {}\n",
      "configuration: datasets=[DatasetSpec(rid='2-7P5P', materialize=False, version=DatasetVersion(major=4, minor=1, patch=2))] assets=[] workflow=Workflow(name='Create Condition_Label feature', url='https://github.com/informatics-isi-edu/eye-ai-exec/blob/401b5e35129da24017277a00b0ac429c421396bb--/notebooks/feature/create_condition_label_feature.ipynb', workflow_type='Feature_Creation', version=None, description=None, rid=None, checksum=None, is_notebook=True) parameters={} description='Create Condition_Label for multimodal data' argv=['/opt/anaconda3/envs/eye_ai/lib/python3.12/site-packages/ipykernel_launcher.py', '--f=/Users/vivi/Library/Jupyter/runtime/kernel-v35a9dde05e98689cce3b83bd75c4c7fc0cbf79fe3.json']\n"
     ]
    }
   ],
   "source": [
    "print(execution)"
   ]
  },
  {
   "cell_type": "markdown",
   "metadata": {},
   "source": [
    "# Create Feature"
   ]
  },
  {
   "cell_type": "code",
   "execution_count": 28,
   "metadata": {},
   "outputs": [],
   "source": [
    "severity_cv = EA.create_vocabulary(vocab_name='Severity_Label', schema='eye-ai')\n",
    "severity_feature = EA.create_feature(target_table='Clinical_Records', feature_name='Glaucoma_Severity', \n",
    "                  terms=[severity_cv])"
   ]
  },
  {
   "cell_type": "markdown",
   "metadata": {},
   "source": [
    "# Compute Feature\n",
    "## Retrived data"
   ]
  },
  {
   "cell_type": "code",
   "execution_count": 13,
   "metadata": {},
   "outputs": [
    {
     "data": {
      "text/plain": [
       "['deriva-ml:Asset_Role',\n",
       " 'deriva-ml:Asset_Type',\n",
       " 'deriva-ml:Dataset',\n",
       " 'deriva-ml:Dataset_Dataset',\n",
       " 'deriva-ml:Dataset_Dataset_Type',\n",
       " 'deriva-ml:Dataset_Execution',\n",
       " 'deriva-ml:Dataset_Type',\n",
       " 'deriva-ml:Dataset_Version',\n",
       " 'deriva-ml:Execution',\n",
       " 'deriva-ml:Execution_Asset',\n",
       " 'deriva-ml:Execution_Asset_Asset_Type',\n",
       " 'deriva-ml:Execution_Asset_Execution',\n",
       " 'deriva-ml:Execution_Asset_Type',\n",
       " 'deriva-ml:Execution_Metadata',\n",
       " 'deriva-ml:Execution_Metadata_Asset_Type',\n",
       " 'deriva-ml:Execution_Metadata_Execution',\n",
       " 'deriva-ml:Execution_Metadata_Type',\n",
       " 'deriva-ml:Feature_Name',\n",
       " 'deriva-ml:File',\n",
       " 'deriva-ml:File_File_Type',\n",
       " 'deriva-ml:File_Type',\n",
       " 'deriva-ml:Workflow',\n",
       " 'deriva-ml:Workflow_Type',\n",
       " 'eye-ai:Annotation',\n",
       " 'eye-ai:Annotation_Function',\n",
       " 'eye-ai:Annotation_Type',\n",
       " 'eye-ai:Clinical_Records',\n",
       " 'eye-ai:Clinical_Records_ICD10_Eye',\n",
       " 'eye-ai:Clinical_Records_Observation',\n",
       " 'eye-ai:Condition_Label',\n",
       " 'eye-ai:Diagnosis_Image',\n",
       " 'eye-ai:Diagnosis_Observation',\n",
       " 'eye-ai:Diagnosis_Status',\n",
       " 'eye-ai:Diagnosis_Subject',\n",
       " 'eye-ai:Diagnosis_Tag',\n",
       " 'eye-ai:Execution_Clinical_Records_Glaucoma_Severity',\n",
       " 'eye-ai:Execution_Image_Fundus_Angle',\n",
       " 'eye-ai:Execution_Image_Fundus_Laterality',\n",
       " 'eye-ai:Execution_VGG19_Catalog_Model_Asset',\n",
       " 'eye-ai:Fundus_Bounding_Box',\n",
       " 'eye-ai:Fundus_Bounding_Box_Asset_Type',\n",
       " 'eye-ai:Fundus_Bounding_Box_Execution',\n",
       " 'eye-ai:ICD10_Eye',\n",
       " 'eye-ai:Image',\n",
       " 'eye-ai:Image_Angle',\n",
       " 'eye-ai:Image_Dataset',\n",
       " 'eye-ai:Image_Diagnosis',\n",
       " 'eye-ai:Image_Output',\n",
       " 'eye-ai:Image_Quality',\n",
       " 'eye-ai:Image_Side',\n",
       " 'eye-ai:Image_Tag',\n",
       " 'eye-ai:OCR_HVF',\n",
       " 'eye-ai:OCR_RNFL',\n",
       " 'eye-ai:Observation',\n",
       " 'eye-ai:Observation_Diagnosis',\n",
       " 'eye-ai:Process',\n",
       " 'eye-ai:Process_Tag',\n",
       " 'eye-ai:Report',\n",
       " 'eye-ai:Report_Type',\n",
       " 'eye-ai:Severity_Label',\n",
       " 'eye-ai:Subject',\n",
       " 'eye-ai:Subject_Dataset',\n",
       " 'eye-ai:Subject_Diagnosis',\n",
       " 'eye-ai:Subject_Ethnicity',\n",
       " 'eye-ai:Subject_Gender',\n",
       " 'eye-ai:Subject_Metadata',\n",
       " 'eye-ai:Subject_cataract',\n",
       " 'eye-ai:Subject_hypertension',\n",
       " 'eye-ai:Subject_image_quality',\n",
       " 'eye-ai:Subject_image_quality_factor',\n",
       " 'eye-ai:Subject_image_quality_factor_Subject',\n",
       " 'eye-ai:Subject_insulin_dependent',\n",
       " 'eye-ai:Subject_maculopathy',\n",
       " 'eye-ai:Subject_other',\n",
       " 'eye-ai:Subject_pregnant',\n",
       " 'eye-ai:VGG19_Catalog_Model_Asset',\n",
       " 'eye-ai:VGG19_Catalog_Model_Asset_Asset_Type']"
      ]
     },
     "execution_count": 13,
     "metadata": {},
     "output_type": "execute_result"
    }
   ],
   "source": [
    "ds_bag = execution.datasets[0]\n",
    "tables = ds_bag.list_tables()\n",
    "# tables"
   ]
  },
  {
   "cell_type": "code",
   "execution_count": 44,
   "metadata": {},
   "outputs": [],
   "source": [
    "clinical_records = ds_bag.get_table_as_dataframe('Clinical_Records')\n",
    "icd_mapping = ds_bag.get_table_as_dataframe('Clinical_Records_ICD10_Eye')\n",
    "icd_codes = ds_bag.get_table_as_dataframe('ICD10_Eye')[['Name']]"
   ]
  },
  {
   "cell_type": "markdown",
   "metadata": {},
   "source": [
    "## Attatch label to the icd discription"
   ]
  },
  {
   "cell_type": "code",
   "execution_count": 45,
   "metadata": {},
   "outputs": [
    {
     "name": "stderr",
     "output_type": "stream",
     "text": [
      "/var/folders/s7/rszpcsp94xg4t97j3xy7v6800000gn/T/ipykernel_87854/1777724836.py:3: SettingWithCopyWarning: \n",
      "A value is trying to be set on a copy of a slice from a DataFrame.\n",
      "Try using .loc[row_indexer,col_indexer] = value instead\n",
      "\n",
      "See the caveats in the documentation: https://pandas.pydata.org/pandas-docs/stable/user_guide/indexing.html#returning-a-view-versus-a-copy\n",
      "  glaucoma_codes.loc[glaucoma_codes['Name'].str.startswith('H40.0'),'Label'] = 'GS'\n",
      "/var/folders/s7/rszpcsp94xg4t97j3xy7v6800000gn/T/ipykernel_87854/1777724836.py:9: SettingWithCopyWarning: \n",
      "A value is trying to be set on a copy of a slice from a DataFrame\n",
      "\n",
      "See the caveats in the documentation: https://pandas.pydata.org/pandas-docs/stable/user_guide/indexing.html#returning-a-view-versus-a-copy\n",
      "  glaucoma_codes.dropna(subset=['Label'], inplace=True)\n"
     ]
    }
   ],
   "source": [
    "# GS, Mild Glaucoma, Moderate Glaucoma, Severe Glaucoma, Unspecified/Indeterminate Glaucoma\n",
    "glaucoma_codes = icd_codes[icd_codes['Name'].str.startswith('H40')]\n",
    "glaucoma_codes.loc[glaucoma_codes['Name'].str.startswith('H40.0'),'Label'] = 'GS'\n",
    "glaucoma_codes.loc[glaucoma_codes['Name'].str[7] == '0', 'Label'] = 'Unspecified/Indeterminate'\n",
    "glaucoma_codes.loc[glaucoma_codes['Name'].str[7] == '1', 'Label'] = 'Mild'\n",
    "glaucoma_codes.loc[glaucoma_codes['Name'].str[7] == '2', 'Label'] = 'Moderate'\n",
    "glaucoma_codes.loc[glaucoma_codes['Name'].str[7] == '3', 'Label'] = 'Severe'\n",
    "glaucoma_codes.loc[glaucoma_codes['Name'].str[7] == '4', 'Label'] = 'Unspecified/Indeterminate'\n",
    "glaucoma_codes.dropna(subset=['Label'], inplace=True)"
   ]
  },
  {
   "cell_type": "markdown",
   "metadata": {},
   "source": [
    "## Attatch label to clinical records"
   ]
  },
  {
   "cell_type": "code",
   "execution_count": 47,
   "metadata": {},
   "outputs": [
    {
     "data": {
      "text/html": [
       "<div>\n",
       "<style scoped>\n",
       "    .dataframe tbody tr th:only-of-type {\n",
       "        vertical-align: middle;\n",
       "    }\n",
       "\n",
       "    .dataframe tbody tr th {\n",
       "        vertical-align: top;\n",
       "    }\n",
       "\n",
       "    .dataframe thead th {\n",
       "        text-align: right;\n",
       "    }\n",
       "</style>\n",
       "<table border=\"1\" class=\"dataframe\">\n",
       "  <thead>\n",
       "    <tr style=\"text-align: right;\">\n",
       "      <th></th>\n",
       "      <th>Clinical_Records</th>\n",
       "      <th>Label</th>\n",
       "    </tr>\n",
       "  </thead>\n",
       "  <tbody>\n",
       "    <tr>\n",
       "      <th>0</th>\n",
       "      <td>5-Q50Y</td>\n",
       "      <td>Moderate</td>\n",
       "    </tr>\n",
       "    <tr>\n",
       "      <th>1</th>\n",
       "      <td>5-Q510</td>\n",
       "      <td>Moderate</td>\n",
       "    </tr>\n",
       "    <tr>\n",
       "      <th>2</th>\n",
       "      <td>5-Q512</td>\n",
       "      <td>Moderate</td>\n",
       "    </tr>\n",
       "    <tr>\n",
       "      <th>3</th>\n",
       "      <td>5-Q514</td>\n",
       "      <td>Moderate</td>\n",
       "    </tr>\n",
       "    <tr>\n",
       "      <th>4</th>\n",
       "      <td>5-Q516</td>\n",
       "      <td>Moderate</td>\n",
       "    </tr>\n",
       "    <tr>\n",
       "      <th>...</th>\n",
       "      <td>...</td>\n",
       "      <td>...</td>\n",
       "    </tr>\n",
       "    <tr>\n",
       "      <th>3719</th>\n",
       "      <td>5-QCAG</td>\n",
       "      <td>GS</td>\n",
       "    </tr>\n",
       "    <tr>\n",
       "      <th>3720</th>\n",
       "      <td>5-QCAJ</td>\n",
       "      <td>GS</td>\n",
       "    </tr>\n",
       "    <tr>\n",
       "      <th>3721</th>\n",
       "      <td>5-QCAM</td>\n",
       "      <td>GS</td>\n",
       "    </tr>\n",
       "    <tr>\n",
       "      <th>3722</th>\n",
       "      <td>5-QCAP</td>\n",
       "      <td>GS</td>\n",
       "    </tr>\n",
       "    <tr>\n",
       "      <th>3723</th>\n",
       "      <td>5-QCAR</td>\n",
       "      <td>GS</td>\n",
       "    </tr>\n",
       "  </tbody>\n",
       "</table>\n",
       "<p>3724 rows × 2 columns</p>\n",
       "</div>"
      ],
      "text/plain": [
       "     Clinical_Records     Label\n",
       "0              5-Q50Y  Moderate\n",
       "1              5-Q510  Moderate\n",
       "2              5-Q512  Moderate\n",
       "3              5-Q514  Moderate\n",
       "4              5-Q516  Moderate\n",
       "...               ...       ...\n",
       "3719           5-QCAG        GS\n",
       "3720           5-QCAJ        GS\n",
       "3721           5-QCAM        GS\n",
       "3722           5-QCAP        GS\n",
       "3723           5-QCAR        GS\n",
       "\n",
       "[3724 rows x 2 columns]"
      ]
     },
     "execution_count": 47,
     "metadata": {},
     "output_type": "execute_result"
    }
   ],
   "source": [
    "mapping = icd_mapping[['Clinical_Records', \n",
    "                       'ICD10_Eye']].merge(glaucoma_codes, \n",
    "                                           left_on='ICD10_Eye', \n",
    "                                           right_on='Name', \n",
    "                                           how='left')\n",
    "# Define severity order\n",
    "severity_order = {\n",
    "    'Severe': 4,\n",
    "    'Moderate': 3,\n",
    "    'Mild': 2,\n",
    "    'Unspecified/Indeterminate': 1,\n",
    "    'GS': 0\n",
    "}\n",
    "\n",
    "# Create a function to get the most severe label\n",
    "def get_most_severe(labels):\n",
    "    if labels.isna().all():\n",
    "        return pd.NA\n",
    "    valid_labels = labels.dropna()\n",
    "    if len(valid_labels) == 0:\n",
    "        return pd.NA\n",
    "    return max(valid_labels, key=lambda x: severity_order.get(x, -1))\n",
    "\n",
    "# Group by clinical_records and apply the function\n",
    "result = mapping.groupby('Clinical_Records')['Label'].agg(get_most_severe).reset_index()\n",
    "result.dropna(subset=['Label'], inplace=True)\n",
    "result"
   ]
  },
  {
   "cell_type": "markdown",
   "metadata": {},
   "source": [
    "# Feature ingestion"
   ]
  },
  {
   "cell_type": "code",
   "execution_count": 49,
   "metadata": {},
   "outputs": [
    {
     "data": {
      "text/plain": [
       "[Feature(target_table=Clinical_Records, feature_name=Glaucoma_Severity, feature_table=Execution_Clinical_Records_Glaucoma_Severity)]"
      ]
     },
     "execution_count": 49,
     "metadata": {},
     "output_type": "execute_result"
    }
   ],
   "source": [
    "EA.find_features('Clinical_Records')"
   ]
  },
  {
   "cell_type": "code",
   "execution_count": 50,
   "metadata": {},
   "outputs": [],
   "source": [
    "feature_name = 'Glaucoma_Severity'\n",
    "Feature = EA.feature_record_class('Clinical_Records', feature_name)\n",
    "from IPython.display import Markdown, display\n",
    "display(\n",
    "    Markdown('### Feature Name'),\n",
    "    [ f'Name: {c.name}, Required: {not c.nullok}' for c in Feature.feature.feature_columns]\n",
    ")"
   ]
  },
  {
   "cell_type": "code",
   "execution_count": 76,
   "metadata": {},
   "outputs": [],
   "source": [
    "EA.add_term(\"Severity_Label\", term_name=\"Moderate\", description=\"Moderate stage\")\n",
    "EA.add_term(\"Severity_Label\", term_name=\"Severe\", description=\"Severe stage\")\n",
    "EA.add_term(\"Severity_Label\", term_name=\"Mild\", description=\"Mild stage\")\n",
    "EA.add_term(\"Severity_Label\", term_name=\"Unspecified/Indeterminate\", \n",
    "            description=\"Indeterminate stage or stage unspecified\")\n",
    "EA.add_term(\"Severity_Label\", term_name=\"GS\", description=\"Glaucoma Suspect\")\n",
    "\n",
    "severe_feature_list = [Feature(\n",
    "    Execution=execution.execution_rid,\n",
    "    Clinical_Records=row['Clinical_Records'],\n",
    "    Severity_Label=row['Label'],\n",
    "    Feature_Name=feature_name,\n",
    "    ) for index, row in result.iterrows()]"
   ]
  },
  {
   "cell_type": "code",
   "execution_count": 89,
   "metadata": {},
   "outputs": [],
   "source": [
    "execution.add_features(severe_feature_list)"
   ]
  },
  {
   "cell_type": "code",
   "execution_count": 90,
   "metadata": {},
   "outputs": [
    {
     "name": "stderr",
     "output_type": "stream",
     "text": [
      "2025-06-03 23:22:03,804 - INFO - Uploading execution files...\n",
      "2025-06-03 23:22:04,088 - INFO - Initializing uploader: GenericUploader v1.7.8 [Python 3.12.9, macOS-15.5-arm64-arm-64bit]\n",
      "2025-06-03 23:22:04,251 - INFO - Attempting to acquire a dependent lock in [/Users/vivi/Desktop/eye_ai/execution_cache/vivi/EyeAI_working/deriva-ml/execution/5-Y0V2/asset]\n",
      "2025-06-03 23:22:04,253 - INFO - Scanning files in directory [/Users/vivi/Desktop/eye_ai/execution_cache/vivi/EyeAI_working/deriva-ml/execution/5-Y0V2/asset]...\n",
      "2025-06-03 23:22:04,254 - INFO - Skipping file: [/Users/vivi/Desktop/eye_ai/execution_cache/vivi/EyeAI_working/deriva-ml/execution/5-Y0V2/asset/.DS_Store] -- Invalid file type or directory location.\n",
      "2025-06-03 23:22:04,255 - INFO - Skipping file: [/Users/vivi/Desktop/eye_ai/execution_cache/vivi/EyeAI_working/deriva-ml/execution/5-Y0V2/asset/deriva-ml/.DS_Store] -- Invalid file type or directory location.\n",
      "2025-06-03 23:22:04,255 - INFO - Including file: [/Users/vivi/Desktop/eye_ai/execution_cache/vivi/EyeAI_working/deriva-ml/execution/5-Y0V2/asset/deriva-ml/Execution_Metadata/configuration.json].\n",
      "2025-06-03 23:22:04,256 - INFO - Including file: [/Users/vivi/Desktop/eye_ai/execution_cache/vivi/EyeAI_working/deriva-ml/execution/5-Y0V2/asset/deriva-ml/Execution_Metadata/environment_snapshot_20250603_175832.txt].\n",
      "2025-06-03 23:22:04,256 - INFO - Processing: [/Users/vivi/Desktop/eye_ai/execution_cache/vivi/EyeAI_working/deriva-ml/execution/5-Y0V2/asset/deriva-ml/Execution_Metadata/configuration.json]\n",
      "2025-06-03 23:22:04,257 - INFO - Computed metadata for: [/Users/vivi/Desktop/eye_ai/execution_cache/vivi/EyeAI_working/deriva-ml/execution/5-Y0V2/asset/deriva-ml/Execution_Metadata/configuration.json].\n",
      "2025-06-03 23:22:04,257 - INFO - Computing checksums for file: [/Users/vivi/Desktop/eye_ai/execution_cache/vivi/EyeAI_working/deriva-ml/execution/5-Y0V2/asset/deriva-ml/Execution_Metadata/configuration.json]. Please wait...\n",
      "2025-06-03 23:22:04,258 - INFO - Uploading file: [/Users/vivi/Desktop/eye_ai/execution_cache/vivi/EyeAI_working/deriva-ml/execution/5-Y0V2/asset/deriva-ml/Execution_Metadata/configuration.json] to host https://dev.eye-ai.org. Please wait...\n",
      "2025-06-03 23:22:04,484 - INFO - Processing: [/Users/vivi/Desktop/eye_ai/execution_cache/vivi/EyeAI_working/deriva-ml/execution/5-Y0V2/asset/deriva-ml/Execution_Metadata/environment_snapshot_20250603_175832.txt]\n",
      "2025-06-03 23:22:04,485 - INFO - Computed metadata for: [/Users/vivi/Desktop/eye_ai/execution_cache/vivi/EyeAI_working/deriva-ml/execution/5-Y0V2/asset/deriva-ml/Execution_Metadata/environment_snapshot_20250603_175832.txt].\n",
      "2025-06-03 23:22:04,488 - INFO - Computing checksums for file: [/Users/vivi/Desktop/eye_ai/execution_cache/vivi/EyeAI_working/deriva-ml/execution/5-Y0V2/asset/deriva-ml/Execution_Metadata/environment_snapshot_20250603_175832.txt]. Please wait...\n",
      "2025-06-03 23:22:04,490 - INFO - Uploading file: [/Users/vivi/Desktop/eye_ai/execution_cache/vivi/EyeAI_working/deriva-ml/execution/5-Y0V2/asset/deriva-ml/Execution_Metadata/environment_snapshot_20250603_175832.txt] to host https://dev.eye-ai.org. Please wait...\n",
      "2025-06-03 23:22:04,611 - WARNING - The following 2 file(s) were skipped because they did not satisfy the matching criteria of the configuration:\n",
      "\n",
      "/Users/vivi/Desktop/eye_ai/execution_cache/vivi/EyeAI_working/deriva-ml/execution/5-Y0V2/asset/.DS_Store\n",
      "/Users/vivi/Desktop/eye_ai/execution_cache/vivi/EyeAI_working/deriva-ml/execution/5-Y0V2/asset/deriva-ml/.DS_Store\n",
      "\n",
      "2025-06-03 23:22:04,612 - INFO - File upload processing completed: 2 files were uploaded successfully, 0 files failed to upload due to errors, 2 files were skipped because they did not satisfy the matching criteria of the configuration.\n",
      "2025-06-03 23:22:04,903 - INFO - Updating features...\n",
      "2025-06-03 23:22:07,386 - INFO - Upload assets complete\n",
      "2025-06-03 23:22:07,501 - INFO - Successfully end the execution.\n"
     ]
    },
    {
     "data": {
      "text/plain": [
       "{'deriva-ml/Execution_Metadata': [AssetFilePath('/Users/vivi/Desktop/eye_ai/execution_cache/vivi/EyeAI_working/deriva-ml/execution/5-Y0V2/asset/deriva-ml/Execution_Metadata/configuration.json'),\n",
       "  AssetFilePath('/Users/vivi/Desktop/eye_ai/execution_cache/vivi/EyeAI_working/deriva-ml/execution/5-Y0V2/asset/deriva-ml/Execution_Metadata/environment_snapshot_20250603_175832.txt')]}"
      ]
     },
     "execution_count": 90,
     "metadata": {},
     "output_type": "execute_result"
    }
   ],
   "source": [
    "execution.upload_execution_outputs()"
   ]
  },
  {
   "cell_type": "code",
   "execution_count": null,
   "metadata": {},
   "outputs": [],
   "source": []
  }
 ],
 "metadata": {
  "kernelspec": {
   "display_name": "eye_ai",
   "language": "python",
   "name": "python3"
  },
  "language_info": {
   "codemirror_mode": {
    "name": "ipython",
    "version": 3
   },
   "file_extension": ".py",
   "mimetype": "text/x-python",
   "name": "python",
   "nbconvert_exporter": "python",
   "pygments_lexer": "ipython3",
   "version": "3.12.9"
  }
 },
 "nbformat": 4,
 "nbformat_minor": 4
}
