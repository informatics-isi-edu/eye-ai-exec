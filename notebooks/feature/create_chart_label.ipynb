{
 "cells": [
  {
   "cell_type": "code",
   "execution_count": 1,
   "metadata": {},
   "outputs": [],
   "source": [
    "import os\n",
    "import sys\n",
    "\n",
    "# Add the repository root to the Python path\n",
    "repo_root = os.path.abspath(os.path.join(os.getcwd(), '..', '..'))\n",
    "sys.path.insert(0, repo_root)\n",
    "\n",
    "# Set the working directory to the repository root\n",
    "os.chdir(repo_root)"
   ]
  },
  {
   "cell_type": "code",
   "execution_count": 28,
   "metadata": {},
   "outputs": [],
   "source": [
    "# Prerequisites\n",
    "import json\n",
    "import os\n",
    "from eye_ai.eye_ai import EyeAI\n",
    "\n",
    "import pandas as pd\n",
    "from pathlib import Path, PurePath\n",
    "import logging\n",
    "\n",
    "from deriva.core.ermrest_model import (\n",
    "    builtin_types, \n",
    "    Schema, \n",
    "    Table, \n",
    "    Column, \n",
    "    Key, \n",
    "    ForeignKey\n",
    ")\n",
    "from deriva_ml import DatasetSpec, ExecutionConfiguration, DerivaML, Workflow, VersionPart\n",
    "from deriva_ml import MLVocab as vc\n",
    "logging.basicConfig(level=logging.INFO, format='%(asctime)s - %(levelname)s - %(message)s', force=True)"
   ]
  },
  {
   "cell_type": "code",
   "execution_count": null,
   "metadata": {},
   "outputs": [],
   "source": [
    "# Login\n",
    "from deriva.core.utils.globus_auth_utils import GlobusNativeLogin\n",
    "# host = 'dev.eye-ai.org'\n",
    "host = 'www.eye-ai.org'\n",
    "catalog_id = \"eye-ai\"\n",
    "\n",
    "gnl = GlobusNativeLogin(host=host)\n",
    "if gnl.is_logged_in([host]):\n",
    "    print(\"You are already logged in.\")\n",
    "else:\n",
    "    gnl.login([host], no_local_server=True, no_browser=True, refresh_tokens=True, update_bdbag_keychain=True)\n",
    "    print(\"Login Successful\")"
   ]
  },
  {
   "cell_type": "code",
   "execution_count": 19,
   "metadata": {},
   "outputs": [],
   "source": [
    "cache_dir = '/Users/vivi/Desktop/eye_ai/execution_cache'\n",
    "working_dir = '/Users/vivi/Desktop/eye_ai/execution_cache'\n",
    "EA = EyeAI(hostname = host, catalog_id = catalog_id, cache_dir= cache_dir, working_dir=working_dir)"
   ]
  },
  {
   "cell_type": "code",
   "execution_count": null,
   "metadata": {},
   "outputs": [],
   "source": [
    "workflow_instance = Workflow(\n",
    "    name=\"Create Condition_Label feature\",\n",
    "    workflow_type=\"Feature_Creation\",\n",
    "    url='https://github.com/informatics-isi-edu/eye-ai-exec/blob/main/notebooks/feature/create_chart_label.ipynb',\n",
    "    is_notebook=True\n",
    ")\n",
    "\n",
    "config = ExecutionConfiguration(\n",
    "    workflow= workflow_instance, # dev'5-SG9W'\n",
    "    description=\"Create Condition_Label for multimodal data\")\n",
    "\n",
    "# Initialize execution\n",
    "execution = EA.create_execution(config)"
   ]
  },
  {
   "cell_type": "code",
   "execution_count": null,
   "metadata": {},
   "outputs": [],
   "source": [
    "print(execution)"
   ]
  },
  {
   "cell_type": "markdown",
   "metadata": {},
   "source": [
    "# Create Feature"
   ]
  },
  {
   "cell_type": "code",
   "execution_count": 8,
   "metadata": {},
   "outputs": [],
   "source": [
    "image_side_table = EA.model.schemas['eye-ai'].tables['Image_Side']\n",
    "condition_label_table = EA.model.schemas['eye-ai'].tables['Condition_Label']\n",
    "severity_label_table = EA.model.schemas['eye-ai'].tables['Severity_Label']\n"
   ]
  },
  {
   "cell_type": "code",
   "execution_count": null,
   "metadata": {},
   "outputs": [],
   "source": [
    "# severity_cv = EA.create_vocabulary(vocab_name='Chart_Label', schema='eye-ai')\n",
    "chart_label_provider = Column.define(\n",
    "    'Chart_Label_Provider',\n",
    "    builtin_types.text,\n",
    "    nullok=True\n",
    "    )\n",
    "\n",
    "severity_feature = EA.create_feature(target_table='Subject', feature_name='Chart_Label',\n",
    "                                     terms=[condition_label_table, severity_label_table, image_side_table],\n",
    "                                     metadata=[chart_label_provider])\n"
   ]
  },
  {
   "cell_type": "markdown",
   "metadata": {},
   "source": [
    "# Compute Feature\n",
    "## Retrived data"
   ]
  },
  {
   "cell_type": "code",
   "execution_count": 12,
   "metadata": {},
   "outputs": [],
   "source": [
    "chart_label = pd.read_excel('/Users/vivi/Desktop/eye_ai/data_collection/chart_diagnosis_output-05-28-2025_NP.xlsx')\n",
    "chart_label['chart_label_provider'] = chart_label['chart_label_provider'].astype(str)\n",
    "\n",
    "chart_label['chart_label'] = chart_label['chart_label'].replace('Other Glaucoma', 'Other')\n",
    "chart_label['severity_chart_label'] = chart_label['severity_chart_label'].replace('Indeterminate', 'Unspecified/Indeterminate')\n",
    "chart_label['severity_chart_label'] = chart_label['severity_chart_label'].replace('Suspect', 'GS')\n",
    "# chart_label"
   ]
  },
  {
   "cell_type": "markdown",
   "metadata": {},
   "source": [
    "# Feature ingestion"
   ]
  },
  {
   "cell_type": "code",
   "execution_count": null,
   "metadata": {},
   "outputs": [],
   "source": [
    "feature_name = 'Chart_Label'\n",
    "Feature = EA.feature_record_class('Subject', feature_name)\n",
    "Feature"
   ]
  },
  {
   "cell_type": "code",
   "execution_count": null,
   "metadata": {},
   "outputs": [],
   "source": [
    "from IPython.display import Markdown, display\n",
    "display(\n",
    "    Markdown('### Feature Name'),\n",
    "    [ f'Name: {c.name}, Required: {not c.nullok}' for c in Feature.feature.feature_columns]\n",
    ")"
   ]
  },
  {
   "cell_type": "code",
   "execution_count": 15,
   "metadata": {},
   "outputs": [],
   "source": [
    "chart_label_feature_list = [Feature(\n",
    "    Execution=execution.execution_rid,\n",
    "    Subject=row['RID_Subject'],\n",
    "    Chart_Label_Provider=row['chart_label_provider'],\n",
    "    Image_Side=row['Side'],\n",
    "    Condition_Label=row['chart_label'],\n",
    "    Severity_Label=row['severity_chart_label'],\n",
    "    Feature_Name=feature_name,\n",
    "    ) for index, row in chart_label.iterrows()]"
   ]
  },
  {
   "cell_type": "code",
   "execution_count": null,
   "metadata": {},
   "outputs": [],
   "source": [
    "len(chart_label_feature_list)\n",
    "# chart_label_feature_list"
   ]
  },
  {
   "cell_type": "code",
   "execution_count": 17,
   "metadata": {},
   "outputs": [],
   "source": [
    "execution.add_features(chart_label_feature_list)"
   ]
  },
  {
   "cell_type": "code",
   "execution_count": null,
   "metadata": {},
   "outputs": [],
   "source": [
    "execution.upload_execution_outputs()"
   ]
  },
  {
   "cell_type": "code",
   "execution_count": 31,
   "metadata": {},
   "outputs": [],
   "source": [
    "for dataset in ['2-1S12', '2-7P5P', '2-N93J']:\n",
    "    EA.increment_dataset_version(dataset_rid = dataset, \n",
    "                                 component = VersionPart.minor,\n",
    "                                 description = 'Update Chart_Label feature',\n",
    "                                 execution_rid = execution.execution_rid)\n"
   ]
  }
 ],
 "metadata": {
  "kernelspec": {
   "display_name": "eye_ai",
   "language": "python",
   "name": "python3"
  },
  "language_info": {
   "codemirror_mode": {
    "name": "ipython",
    "version": 3
   },
   "file_extension": ".py",
   "mimetype": "text/x-python",
   "name": "python",
   "nbconvert_exporter": "python",
   "pygments_lexer": "ipython3",
   "version": "3.12.9"
  }
 },
 "nbformat": 4,
 "nbformat_minor": 4
}
