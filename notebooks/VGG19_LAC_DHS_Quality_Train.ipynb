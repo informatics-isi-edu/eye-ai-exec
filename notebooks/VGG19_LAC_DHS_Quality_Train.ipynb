{
 "cells": [
  {
   "cell_type": "code",
   "execution_count": 2,
   "id": "6c3f6e9b-57c2-4dd5-82bc-5834f32b1472",
   "metadata": {},
   "outputs": [],
   "source": [
    "# import sys\n",
    "# IN_COLAB = 'google.colab' in sys.modules\n",
    "\n",
    "# if IN_COLAB:\n",
    "#     !pip install deriva\n",
    "#     !pip install bdbag\n",
    "#     !pip install --upgrade --force pydantic\n",
    "#     !pip install git+https://github.com/informatics-isi-edu/deriva-ml git+https://github.com/informatics-isi-edu/eye-ai-ml"
   ]
  },
  {
   "cell_type": "code",
   "execution_count": 3,
   "id": "d235d595-c68f-4146-a0b7-fb2c754c9cf5",
   "metadata": {},
   "outputs": [],
   "source": [
    "repo_dir = \"Repos\"   # Set this to be where your github repos are located.\n",
    "%load_ext autoreload\n",
    "%autoreload 2\n",
    "\n",
    "# Update the load path so python can find modules for the model\n",
    "import sys\n",
    "from pathlib import Path\n",
    "sys.path.insert(0, str(Path.home() / repo_dir / \"eye-ai-ml\"))"
   ]
  },
  {
   "cell_type": "code",
   "execution_count": 4,
   "id": "16c603cb-e1e1-4c90-8a91-a3e44451cfca",
   "metadata": {},
   "outputs": [],
   "source": [
    "# Prerequisites\n",
    "\n",
    "import json\n",
    "import os\n",
    "from eye_ai.eye_ai import EyeAI\n",
    "import pandas as pd\n",
    "from pathlib import Path, PurePath\n",
    "import logging\n",
    "# import torch\n",
    "\n",
    "logging.basicConfig(level=logging.INFO, format='%(asctime)s - %(levelname)s - %(message)s', force=True)"
   ]
  },
  {
   "cell_type": "code",
   "execution_count": 5,
   "id": "633c4d60-a01f-4b16-816f-228dc849ccc1",
   "metadata": {},
   "outputs": [
    {
     "name": "stderr",
     "output_type": "stream",
     "text": [
      "2024-06-30 16:07:20,583 - INFO - Creating client of type <class 'globus_sdk.services.auth.client.native_client.NativeAppAuthClient'> for service \"auth\"\n",
      "2024-06-30 16:07:20,584 - INFO - Finished initializing AuthLoginClient. client_id='8ef15ba9-2b4a-469c-a163-7fd910c9d111', type(authorizer)=<class 'globus_sdk.authorizers.base.NullAuthorizer'>\n",
      "2024-06-30 16:07:20,586 - INFO - Setting up RefreshTokenAuthorizer with auth_client=[instance:140152729768896]\n",
      "2024-06-30 16:07:20,586 - INFO - Setting up a RenewingAuthorizer. It will use an auth type of Bearer and can handle 401s.\n",
      "2024-06-30 16:07:20,587 - INFO - RenewingAuthorizer will start by using access_token with hash \"4b84a6ba5a19d3fec1774ba585ebd6379414a44f7852c6d9faf9763462506e6e\"\n",
      "2024-06-30 16:07:20,588 - INFO - Executing token refresh without client credentials\n",
      "2024-06-30 16:07:20,589 - INFO - Fetching new token from Globus Auth\n",
      "2024-06-30 16:07:20,978 - INFO - request done (success)\n",
      "2024-06-30 16:07:20,979 - INFO - RenewingAuthorizer.access_token updated to token with hash \"b60731af50decb0b73b2055b178d1a64510d2f07d487f8f0d19cd8e37af56b5f\"\n",
      "2024-06-30 16:07:20,979 - INFO - Setting up RefreshTokenAuthorizer with auth_client=[instance:140152729768896]\n",
      "2024-06-30 16:07:20,980 - INFO - Setting up a RenewingAuthorizer. It will use an auth type of Bearer and can handle 401s.\n",
      "2024-06-30 16:07:20,980 - INFO - RenewingAuthorizer will start by using access_token with hash \"d0a9aa34936f292688c2f43814892b654a7fb9f86a3071279f4b25f91f023ac9\"\n",
      "2024-06-30 16:07:20,981 - INFO - Executing token refresh without client credentials\n",
      "2024-06-30 16:07:20,981 - INFO - Fetching new token from Globus Auth\n",
      "2024-06-30 16:07:21,120 - INFO - request done (success)\n",
      "2024-06-30 16:07:21,121 - INFO - RenewingAuthorizer.access_token updated to token with hash \"d2a800c589631a7ef8694dc191ce4e3e6a87842208b6aa82d0638c0e9a065aaa\"\n"
     ]
    },
    {
     "name": "stdout",
     "output_type": "stream",
     "text": [
      "You are already logged in.\n"
     ]
    }
   ],
   "source": [
    "\n",
    "from deriva.core.utils.globus_auth_utils import GlobusNativeLogin\n",
    "catalog_id = \"eye-ai\" #@param\n",
    "host = 'www.eye-ai.org'\n",
    "\n",
    "\n",
    "gnl = GlobusNativeLogin(host=host)\n",
    "if gnl.is_logged_in([host]):\n",
    "    print(\"You are already logged in.\")\n",
    "else:\n",
    "    gnl.login([host], no_local_server=True, no_browser=True, refresh_tokens=True, update_bdbag_keychain=True)\n",
    "    print(\"Login Successful\")"
   ]
  },
  {
   "cell_type": "code",
   "execution_count": 6,
   "id": "5c1b7779-06d0-4678-adbe-a411da14ceab",
   "metadata": {},
   "outputs": [],
   "source": [
    "# Variables to configure the rest of the notebook.\n",
    "\n",
    "cache_dir = '/data'        # Directory in which to cache materialized BDBags for datasets\n",
    "working_dir = '/data'    # Directory in which to place output files for later upload.\n",
    "\n",
    "configuration_rid = \"2-C8W6\" # rid\n",
    "# Change the confi_file with bag_url=[\"minid: train\", \"minid: Valid\", \"minid: test\"]\n",
    "\n"
   ]
  },
  {
   "cell_type": "code",
   "execution_count": 7,
   "id": "f8ee651c-3c59-4f75-8f8b-2f8f41d79f5b",
   "metadata": {},
   "outputs": [
    {
     "name": "stderr",
     "output_type": "stream",
     "text": [
      "2024-06-30 16:07:21,164 - INFO - Creating client of type <class 'globus_sdk.services.auth.client.native_client.NativeAppAuthClient'> for service \"auth\"\n",
      "2024-06-30 16:07:21,165 - INFO - Finished initializing AuthLoginClient. client_id='8ef15ba9-2b4a-469c-a163-7fd910c9d111', type(authorizer)=<class 'globus_sdk.authorizers.base.NullAuthorizer'>\n"
     ]
    }
   ],
   "source": [
    "EA = EyeAI(hostname = host, catalog_id = catalog_id, cache_dir= cache_dir, working_dir=working_dir)"
   ]
  },
  {
   "cell_type": "code",
   "execution_count": 8,
   "id": "e7c50050-65da-4130-b56a-1d3fde5959b9",
   "metadata": {},
   "outputs": [
    {
     "name": "stderr",
     "output_type": "stream",
     "text": [
      "2024-06-30 16:07:23,158 - INFO - File [/data/sreenidhi/EyeAI_working/Execution_Metadata/Execution_Config-vgg19_catalog_model_training_LACDHS_quality_sreenidhi_june_27_2024.json] transfer successful. 0.95 KB transferred. Elapsed time: 0:00:00.000078.\n",
      "2024-06-30 16:07:23,159 - INFO - Verifying MD5 checksum for downloaded file [/data/sreenidhi/EyeAI_working/Execution_Metadata/Execution_Config-vgg19_catalog_model_training_LACDHS_quality_sreenidhi_june_27_2024.json]\n",
      "2024-06-30 16:07:23,177 - INFO - Configuration validation successful!\n",
      "2024-06-30 16:07:32,560 - INFO - File [/data/sreenidhi/EyeAI_working/Execution_Assets/best_hyperparameters_exluding_no_optic_disc_images_june_24_2024.json] transfer successful. 0.69 KB transferred. Elapsed time: 0:00:00.000117.\n",
      "2024-06-30 16:07:32,561 - INFO - Verifying SHA256 checksum for downloaded file [/data/sreenidhi/EyeAI_working/Execution_Assets/best_hyperparameters_exluding_no_optic_disc_images_june_24_2024.json]\n",
      "2024-06-30 16:07:32,902 - INFO - File [/data/sreenidhi/EyeAI_working/Execution_Assets/train_no_optic_disc_image_ids.csv] transfer successful. 0.34 KB transferred. Elapsed time: 0:00:00.000058.\n",
      "2024-06-30 16:07:32,902 - INFO - Verifying MD5 checksum for downloaded file [/data/sreenidhi/EyeAI_working/Execution_Assets/train_no_optic_disc_image_ids.csv]\n",
      "2024-06-30 16:07:33,155 - INFO - File [/data/sreenidhi/EyeAI_working/Execution_Assets/valid_no_optic_disc_image_ids.csv] transfer successful. 0.15 KB transferred. Elapsed time: 0:00:00.000071.\n",
      "2024-06-30 16:07:33,156 - INFO - Verifying MD5 checksum for downloaded file [/data/sreenidhi/EyeAI_working/Execution_Assets/valid_no_optic_disc_image_ids.csv]\n"
     ]
    },
    {
     "data": {
      "text/plain": [
       "{'caching_dir': PosixPath('/data'),\n",
       " 'working_dir': PosixPath('/data/sreenidhi/EyeAI_working'),\n",
       " 'vocabs': {'Workflow_Type': [{'name': 'VGG19_Catalog_Model_LACDHS_quality_training',\n",
       "    'rid': '2-C8WA'}],\n",
       "  'Execution_Asset_Type': [{'name': 'VGG19_Catalog_Model_LACDHS_quality_training',\n",
       "    'rid': '2-C8WC'}]},\n",
       " 'execution_rid': '2-C92M',\n",
       " 'workflow_rid': '2-C8WE',\n",
       " 'bag_paths': [PosixPath('/data/2-277G_6aa1a6861eee5a79bce4bf071065355f95a066c2a1ff326089d43048a7e0f185/Dataset_2-277G'),\n",
       "  PosixPath('/data/2-277J_81c873a311aa6a67cf2eef44bd9056cb19181b299a6e44327ea3553616f18725/Dataset_2-277J'),\n",
       "  PosixPath('/data/2-277M_8c4b855c2752e098580a5bb0d1b63a8cedde4462805fe74cddc912a72fb39963/Dataset_2-277M')],\n",
       " 'assets_paths': [PosixPath('/data/sreenidhi/EyeAI_working/Execution_Assets/best_hyperparameters_exluding_no_optic_disc_images_june_24_2024.json'),\n",
       "  PosixPath('/data/sreenidhi/EyeAI_working/Execution_Assets/train_no_optic_disc_image_ids.csv'),\n",
       "  PosixPath('/data/sreenidhi/EyeAI_working/Execution_Assets/valid_no_optic_disc_image_ids.csv')],\n",
       " 'configuration_path': PosixPath('/data/sreenidhi/EyeAI_working/Execution_Metadata/Execution_Config-vgg19_catalog_model_training_LACDHS_quality_sreenidhi_june_27_2024.json')}"
      ]
     },
     "execution_count": 8,
     "metadata": {},
     "output_type": "execute_result"
    }
   ],
   "source": [
    "# @title Initiate an Execution\n",
    "configuration_records = EA.execution_init(configuration_rid=configuration_rid)\n",
    "configuration_records.model_dump()"
   ]
  },
  {
   "cell_type": "code",
   "execution_count": 9,
   "id": "4d005a2a-2edc-4d35-b508-969f2f2be5a5",
   "metadata": {},
   "outputs": [
    {
     "data": {
      "text/plain": [
       "ConfigurationRecord(caching_dir=PosixPath('/data'), working_dir=PosixPath('/data/sreenidhi/EyeAI_working'), vocabs={'Workflow_Type': [Term(name='VGG19_Catalog_Model_LACDHS_quality_training', rid='2-C8WA')], 'Execution_Asset_Type': [Term(name='VGG19_Catalog_Model_LACDHS_quality_training', rid='2-C8WC')]}, execution_rid='2-C92M', workflow_rid='2-C8WE', bag_paths=[PosixPath('/data/2-277G_6aa1a6861eee5a79bce4bf071065355f95a066c2a1ff326089d43048a7e0f185/Dataset_2-277G'), PosixPath('/data/2-277J_81c873a311aa6a67cf2eef44bd9056cb19181b299a6e44327ea3553616f18725/Dataset_2-277J'), PosixPath('/data/2-277M_8c4b855c2752e098580a5bb0d1b63a8cedde4462805fe74cddc912a72fb39963/Dataset_2-277M')], assets_paths=[PosixPath('/data/sreenidhi/EyeAI_working/Execution_Assets/best_hyperparameters_exluding_no_optic_disc_images_june_24_2024.json'), PosixPath('/data/sreenidhi/EyeAI_working/Execution_Assets/train_no_optic_disc_image_ids.csv'), PosixPath('/data/sreenidhi/EyeAI_working/Execution_Assets/valid_no_optic_disc_image_ids.csv')], configuration_path=PosixPath('/data/sreenidhi/EyeAI_working/Execution_Metadata/Execution_Config-vgg19_catalog_model_training_LACDHS_quality_sreenidhi_june_27_2024.json'))"
      ]
     },
     "execution_count": 9,
     "metadata": {},
     "output_type": "execute_result"
    }
   ],
   "source": [
    "configuration_records"
   ]
  },
  {
   "cell_type": "code",
   "execution_count": null,
   "id": "2a648c3f-b517-4261-984f-2bcd469f67b0",
   "metadata": {},
   "outputs": [],
   "source": []
  },
  {
   "cell_type": "markdown",
   "id": "3bd06770-2646-4b3c-96d2-fd40480a56e9",
   "metadata": {},
   "source": [
    "# 5 classes and Full fundus converted to 2 classes simialr to van quality labels good and bad (first 3 classes are good and last 2 are bad)"
   ]
  },
  {
   "cell_type": "code",
   "execution_count": 12,
   "id": "99f6175f-2fc7-48b5-b2a7-6bc537e7857b",
   "metadata": {},
   "outputs": [],
   "source": [
    "\n",
    "\n",
    "\n",
    "# import os\n",
    "# import shutil\n",
    "# import pandas as pd\n",
    "# from pathlib import Path\n",
    "\n",
    "# def create_LACDHS_quality_dataset(train_dir: str, validation_dir: str, test_dir: str, output_dir: str, exclude_train: list = [], exclude_valid: list = []) -> tuple:\n",
    "#     \"\"\"\n",
    "#     Creates a dataset for LACDHS image quality classification by organizing images into train, valid, and test folders\n",
    "#     based on their Subject_image_quality from the subject table.\n",
    "\n",
    "#     Parameters:\n",
    "#     - train_dir (str): Path to the raw train dataset bag.\n",
    "#     - validation_dir (str): Path to the raw validation dataset bag.\n",
    "#     - test_dir (str): Path to the raw test dataset bag.\n",
    "#     - output_dir (str): Path to the output directory where the organized dataset will be created.\n",
    "#     - exclude_train (list): List of image RIDs to exclude from the train set.\n",
    "#     - exclude_valid (list): List of image RIDs to exclude from the validation set.\n",
    "\n",
    "#     Returns:\n",
    "#     - tuple: A tuple containing the paths to the train, validation, and test directories.\n",
    "#     \"\"\"\n",
    "#     def process_dataset(bag_path: str, output_subdir: str, exclude_list: list = []):\n",
    "#         image_csv_path = os.path.join(bag_path, 'data', 'Image.csv')\n",
    "#         observation_csv_path = os.path.join(bag_path, 'data', 'Observation.csv')\n",
    "#         subject_csv_path = os.path.join(bag_path, 'data', 'Subject.csv')\n",
    "\n",
    "#         image_df = pd.read_csv(image_csv_path)\n",
    "#         observation_df = pd.read_csv(observation_csv_path)\n",
    "#         subject_df = pd.read_csv(subject_csv_path)\n",
    "\n",
    "#         # Merge dataframes\n",
    "#         merged_df = image_df.merge(observation_df, left_on='Observation', right_on='RID')\n",
    "#         merged_df = merged_df.merge(subject_df, left_on='Subject', right_on='RID')\n",
    "\n",
    "#         # Filter for specific quality categories\n",
    "#         quality_categories = ['69XP', '69XJ', '69XT', '69XM', '69XR']\n",
    "#         merged_df = merged_df[merged_df['Subject_image_quality'].isin(quality_categories)]\n",
    "\n",
    "#         image_root_path = os.path.join(bag_path, 'data', 'assets', 'Image')\n",
    "\n",
    "#         for _, row in merged_df.iterrows():\n",
    "#             if row['RID_x'] not in exclude_list:  # RID_x is the Image RID\n",
    "#                 quality = row['Subject_image_quality']\n",
    "#                 filename = row['Filename']\n",
    "#                 src_path = os.path.join(image_root_path, filename)\n",
    "#                 dst_dir = os.path.join(output_dir, output_subdir, quality)\n",
    "#                 os.makedirs(dst_dir, exist_ok=True)\n",
    "#                 dst_path = os.path.join(dst_dir, filename)\n",
    "#                 shutil.copy2(src_path, dst_path)\n",
    "\n",
    "#     # Process train dataset\n",
    "#     process_dataset(train_dir, 'train', exclude_train)\n",
    "\n",
    "#     # Process validation dataset\n",
    "#     process_dataset(validation_dir, 'valid', exclude_valid)\n",
    "\n",
    "#     # Process test dataset\n",
    "#     process_dataset(test_dir, 'test')\n",
    "\n",
    "#     train_path = os.path.join(output_dir, 'train')\n",
    "#     valid_path = os.path.join(output_dir, 'valid')\n",
    "#     test_path = os.path.join(output_dir, 'test')\n",
    "\n",
    "#     return train_path, valid_path, test_path\n",
    "\n",
    "\n",
    "import os\n",
    "import shutil\n",
    "import pandas as pd\n",
    "from pathlib import Path\n",
    "from tqdm import tqdm\n",
    "\n",
    "def create_LACDHS_binary_quality_dataset(train_dir: str, validation_dir: str, test_dir: str, output_dir: str) -> tuple:\n",
    "    \"\"\"\n",
    "    Creates a binary dataset for LACDHS image quality classification by organizing images into train, valid, and test folders\n",
    "    based on their Subject_image_quality from the subject table, mapped to binary \"Good\" and \"Bad\" categories.\n",
    "    \n",
    "    Parameters:\n",
    "    - train_dir (str): Path to the raw train dataset bag.\n",
    "    - validation_dir (str): Path to the raw validation dataset bag.\n",
    "    - test_dir (str): Path to the raw test dataset bag.\n",
    "    - output_dir (str): Path to the output directory where the organized dataset will be created.\n",
    "    \n",
    "    Returns:\n",
    "    - tuple: A tuple containing the paths to the train, validation, and test directories.\n",
    "    \"\"\"\n",
    "    def process_dataset(bag_path: str, output_subdir: str):\n",
    "        image_csv_path = os.path.join(bag_path, 'data', 'Image.csv')\n",
    "        observation_csv_path = os.path.join(bag_path, 'data', 'Observation.csv')\n",
    "        subject_csv_path = os.path.join(bag_path, 'data', 'Subject.csv')\n",
    "        \n",
    "        image_df = pd.read_csv(image_csv_path)\n",
    "        observation_df = pd.read_csv(observation_csv_path)\n",
    "        subject_df = pd.read_csv(subject_csv_path)\n",
    "        \n",
    "        # Merge dataframes\n",
    "        merged_df = image_df.merge(observation_df, left_on='Observation', right_on='RID')\n",
    "        merged_df = merged_df.merge(subject_df, left_on='Subject', right_on='RID')\n",
    "        \n",
    "        # Define quality mapping\n",
    "        quality_mapping = { \n",
    "            '69XT': '690J',  # Excellent #690J eye-ai:690J Good\n",
    "            '69XP': '690J',  # Adequate #690J eye-ai:690J Good\n",
    "            '69XJ': '690J',  # Good #690J eye-ai:690J Good\n",
    "            '69XM': '692J',   # Insufficient for Full Interpretation # 692J eye-ai:692J Bad\n",
    "            '69XR': '692J'    # Insufficient for Any Interpretation # 692J eye-ai:692J Bad\n",
    "        }\n",
    "        \n",
    "        # Filter for specific quality categories and map to binary categories\n",
    "        merged_df = merged_df[merged_df['Subject_image_quality'].isin(quality_mapping.keys())]\n",
    "        merged_df['binary_quality'] = merged_df['Subject_image_quality'].map(quality_mapping)\n",
    "        \n",
    "        image_root_path = os.path.join(bag_path, 'data', 'assets', 'Image')\n",
    "        \n",
    "        # Using tqdm to show progress\n",
    "        for _, row in tqdm(merged_df.iterrows(), total=len(merged_df), desc=f\"Processing {output_subdir}\"):\n",
    "            binary_quality = row['binary_quality']\n",
    "            filename = row['Filename']\n",
    "            src_path = os.path.join(image_root_path, filename)\n",
    "            dst_dir = os.path.join(output_dir, output_subdir, binary_quality)\n",
    "            os.makedirs(dst_dir, exist_ok=True)\n",
    "            dst_path = os.path.join(dst_dir, filename)\n",
    "            shutil.copy2(src_path, dst_path)\n",
    "\n",
    "    print(\"Starting dataset creation...\")\n",
    "    \n",
    "    # Process train dataset\n",
    "    process_dataset(train_dir, 'train')\n",
    "    \n",
    "    # Process validation dataset\n",
    "    process_dataset(validation_dir, 'valid')\n",
    "    \n",
    "    # Process test dataset\n",
    "    process_dataset(test_dir, 'test')\n",
    "\n",
    "    train_path = os.path.join(output_dir, 'train')\n",
    "    valid_path = os.path.join(output_dir, 'valid')\n",
    "    test_path = os.path.join(output_dir, 'test')\n",
    "\n",
    "    print(\"Dataset creation completed.\")\n",
    "    return train_path, valid_path, test_path\n",
    "\n"
   ]
  },
  {
   "cell_type": "code",
   "execution_count": 13,
   "id": "334ed1a5-4a9c-4478-a110-6555a5066622",
   "metadata": {},
   "outputs": [
    {
     "data": {
      "text/plain": [
       "PosixPath('/data/sreenidhi/EyeAI_working')"
      ]
     },
     "execution_count": 13,
     "metadata": {},
     "output_type": "execute_result"
    }
   ],
   "source": [
    "configuration_records.working_dir"
   ]
  },
  {
   "cell_type": "code",
   "execution_count": 15,
   "id": "c1076c83-5acc-4668-bcef-bd00998ace6c",
   "metadata": {},
   "outputs": [
    {
     "name": "stdout",
     "output_type": "stream",
     "text": [
      "Starting dataset creation...\n"
     ]
    },
    {
     "name": "stderr",
     "output_type": "stream",
     "text": [
      "Processing train: 100%|██████████| 26322/26322 [03:34<00:00, 122.94it/s]\n",
      "Processing valid: 100%|██████████| 8675/8675 [01:16<00:00, 113.49it/s]\n",
      "Processing test: 100%|██████████| 3144/3144 [00:29<00:00, 105.12it/s]"
     ]
    },
    {
     "name": "stdout",
     "output_type": "stream",
     "text": [
      "Dataset creation completed.\n",
      "Train dataset path: /data/sreenidhi/EyeAI_working/train\n",
      "Validation dataset path: /data/sreenidhi/EyeAI_working/valid\n",
      "Test dataset path: /data/sreenidhi/EyeAI_working/test\n"
     ]
    },
    {
     "name": "stderr",
     "output_type": "stream",
     "text": [
      "\n"
     ]
    }
   ],
   "source": [
    "# @title Data Preprocessing (Filtering Image.csv for just Field_2 Images)\n",
    "train_dir = configuration_records.bag_paths[0] # path to the raw train dataset\n",
    "validation_dir = configuration_records.bag_paths[1]\n",
    "test_dir = configuration_records.bag_paths[2]\n",
    "\n",
    "# Call the create_LACDHS_binary_quality_dataset function\n",
    "train_path, valid_path, test_path = create_LACDHS_binary_quality_dataset(\n",
    "    train_dir=str(configuration_records.bag_paths[0]),\n",
    "    validation_dir=str(configuration_records.bag_paths[1]),\n",
    "    test_dir=str(configuration_records.bag_paths[2]),\n",
    "    output_dir=str(configuration_records.working_dir),\n",
    ")\n",
    "\n",
    "# Print the paths to verify\n",
    "print(\"Train dataset path:\", train_path)\n",
    "print(\"Validation dataset path:\", valid_path)\n",
    "print(\"Test dataset path:\", test_path)"
   ]
  },
  {
   "cell_type": "code",
   "execution_count": null,
   "id": "45475801-2b48-4930-9fe2-befc1a79423d",
   "metadata": {},
   "outputs": [],
   "source": []
  },
  {
   "cell_type": "code",
   "execution_count": 16,
   "id": "9b600173-42b1-49d1-8602-2dac5ad97f95",
   "metadata": {},
   "outputs": [
    {
     "name": "stdout",
     "output_type": "stream",
     "text": [
      "\n",
      "Analyzing train folder:\n",
      "  690J: 25091 images\n",
      "  692J: 1231 images\n",
      "Total images in train: 26322\n",
      "\n",
      "Analyzing valid folder:\n",
      "  690J: 8234 images\n",
      "  692J: 441 images\n",
      "Total images in valid: 8675\n",
      "\n",
      "Analyzing test folder:\n",
      "  690J: 3015 images\n",
      "  692J: 129 images\n",
      "Total images in test: 3144\n"
     ]
    }
   ],
   "source": [
    "import os\n",
    "\n",
    "def count_files(directory):\n",
    "    return len([name for name in os.listdir(directory) if os.path.isfile(os.path.join(directory, name))])\n",
    "\n",
    "def analyze_lacdhs_angle_dataset(base_path):\n",
    "    main_folders = ['train', 'valid', 'test']\n",
    "    \n",
    "    for main_folder in main_folders:\n",
    "        main_folder_path = os.path.join(base_path, main_folder)\n",
    "        if not os.path.exists(main_folder_path):\n",
    "            print(f\"{main_folder} folder not found\")\n",
    "            continue\n",
    "        \n",
    "        print(f\"\\nAnalyzing {main_folder} folder:\")\n",
    "        \n",
    "        total_files = 0\n",
    "        for angle_folder in os.listdir(main_folder_path):\n",
    "            angle_folder_path = os.path.join(main_folder_path, angle_folder)\n",
    "            if os.path.isdir(angle_folder_path):\n",
    "                file_count = count_files(angle_folder_path)\n",
    "                print(f\"  {angle_folder}: {file_count} images\")\n",
    "                total_files += file_count\n",
    "        \n",
    "        print(f\"Total images in {main_folder}: {total_files}\")\n",
    "\n",
    "# Usage\n",
    "base_path = \"/data/sreenidhi/EyeAI_working/\"\n",
    "analyze_lacdhs_angle_dataset(base_path)\n",
    "\n",
    "\n",
    "\n"
   ]
  },
  {
   "cell_type": "code",
   "execution_count": null,
   "id": "380f149a-dbf7-44e3-8d15-0daa2f3158cb",
   "metadata": {},
   "outputs": [],
   "source": [
    "import os\n",
    "import random\n",
    "import matplotlib.pyplot as plt\n",
    "from PIL import Image\n",
    "\n",
    "def visualize_lacdhs_quality_dataset(base_path, samples_per_angle=6):\n",
    "    main_folders = ['train', 'valid', 'test']\n",
    "    \n",
    "    for main_folder in main_folders:\n",
    "        main_folder_path = os.path.join(base_path, main_folder)\n",
    "        if not os.path.exists(main_folder_path):\n",
    "            print(f\"{main_folder} folder not found\")\n",
    "            continue\n",
    "        \n",
    "        print(f\"\\nVisualizing samples from {main_folder} folder:\")\n",
    "        \n",
    "        angle_folders = [f for f in os.listdir(main_folder_path) if os.path.isdir(os.path.join(main_folder_path, f))]\n",
    "        \n",
    "        # Calculate grid size\n",
    "        n_angles = len(angle_folders)\n",
    "        n_cols = samples_per_angle\n",
    "        n_rows = n_angles\n",
    "        \n",
    "        fig, axes = plt.subplots(n_rows, n_cols, figsize=(n_cols*3, n_rows*3.5))\n",
    "        fig.suptitle(f'Sample Images from {main_folder.capitalize()} Set', fontsize=16)\n",
    "        \n",
    "        for i, angle_folder in enumerate(angle_folders):\n",
    "            angle_folder_path = os.path.join(main_folder_path, angle_folder)\n",
    "            image_files = [f for f in os.listdir(angle_folder_path) if f.lower().endswith(('.png', '.jpg', '.jpeg'))]\n",
    "            \n",
    "            if len(image_files) < samples_per_angle:\n",
    "                print(f\"Warning: Not enough images in {angle_folder}. Using all available images.\")\n",
    "                selected_files = image_files\n",
    "            else:\n",
    "                selected_files = random.sample(image_files, samples_per_angle)\n",
    "            \n",
    "            for j, image_file in enumerate(selected_files):\n",
    "                img_path = os.path.join(angle_folder_path, image_file)\n",
    "                img = Image.open(img_path)\n",
    "                axes[i, j].imshow(img)\n",
    "                axes[i, j].axis('off')\n",
    "                \n",
    "                # Add image filename as title for each subplot\n",
    "                axes[i, j].set_title(image_file, fontsize=8)\n",
    "                \n",
    "                if j == 0:\n",
    "                    axes[i, j].set_ylabel(angle_folder, rotation=0, labelpad=40, va='center', fontsize=10)\n",
    "        \n",
    "        plt.tight_layout()\n",
    "        plt.subplots_adjust(top=0.95, bottom=0.05, left=0.2, right=0.98)\n",
    "        plt.show()\n",
    "        \n",
    "        # Print confirmation of angles\n",
    "        print(f\"Angles in {main_folder} set:\")\n",
    "        for angle in angle_folders:\n",
    "            print(f\"  - {angle}\")\n",
    "\n",
    "# Usage\n",
    "base_path = \"/data/sreenidhi/EyeAI_working/\"\n",
    "# visualize_lacdhs_quality_dataset(base_path)"
   ]
  },
  {
   "cell_type": "code",
   "execution_count": 18,
   "id": "2e6312b8-9faa-4ea5-9f2e-4de7380ffb4a",
   "metadata": {},
   "outputs": [],
   "source": [
    "\n",
    "output_path = str(EA.working_dir) + \"/Execution_Assets/\" + configuration_records.vocabs['Execution_Asset_Type'][0].name\n",
    "os.mkdir(output_path)"
   ]
  },
  {
   "cell_type": "code",
   "execution_count": 19,
   "id": "49177652-13f5-4464-99fe-bc5a240e2557",
   "metadata": {},
   "outputs": [
    {
     "data": {
      "text/plain": [
       "'/data/sreenidhi/EyeAI_working/Execution_Assets/VGG19_Catalog_Model_LACDHS_quality_training'"
      ]
     },
     "execution_count": 19,
     "metadata": {},
     "output_type": "execute_result"
    }
   ],
   "source": [
    "output_path"
   ]
  },
  {
   "cell_type": "code",
   "execution_count": 20,
   "id": "a799f240-96f7-473a-b9b4-3feb8cf6e248",
   "metadata": {},
   "outputs": [],
   "source": [
    "best_hyper_parameters_json_path = str(configuration_records.assets_paths[0])"
   ]
  },
  {
   "cell_type": "code",
   "execution_count": 21,
   "id": "f93ec10b-be38-404c-9a96-4df4f0e3ca1a",
   "metadata": {},
   "outputs": [
    {
     "data": {
      "text/plain": [
       "'/data/sreenidhi/EyeAI_working/Execution_Assets/best_hyperparameters_exluding_no_optic_disc_images_june_24_2024.json'"
      ]
     },
     "execution_count": 21,
     "metadata": {},
     "output_type": "execute_result"
    }
   ],
   "source": [
    "best_hyper_parameters_json_path"
   ]
  },
  {
   "cell_type": "code",
   "execution_count": 22,
   "id": "42b57610-80ee-43a1-9d43-c27f4acf3896",
   "metadata": {},
   "outputs": [
    {
     "name": "stdout",
     "output_type": "stream",
     "text": [
      "{\n",
      "    \"rotation_range\": -6,\n",
      "    \"width_shift_range\": 0.049283662164352315,\n",
      "    \"height_shift_range\": 0.062129040368351915,\n",
      "    \"horizontal_flip\": true,\n",
      "    \"vertical_flip\": true,\n",
      "    \"zoom_range\": -0.03493437617512693,\n",
      "    \"brightness_range\": 0.016808387649284325,\n",
      "    \"use_class_weights\": true,\n",
      "    \"pooling\": \"global_average\",\n",
      "    \"dense_layers\": 2,\n",
      "    \"units_layer_0\": 512,\n",
      "    \"activation_func_0\": \"sigmoid\",\n",
      "    \"batch_norm_0\": true,\n",
      "    \"dropout_0\": 0.10646478371824658,\n",
      "    \"units_layer_1\": 64,\n",
      "    \"activation_func_1\": \"relu\",\n",
      "    \"batch_norm_1\": false,\n",
      "    \"dropout_1\": 0.2830490167548361,\n",
      "    \"fine_tune_at\": 0,\n",
      "    \"fine_tuning_learning_rate_adam\": 1.1688327470992886e-05,\n",
      "    \"batch_size\": 32\n",
      "}\n"
     ]
    }
   ],
   "source": [
    "import json\n",
    "\n",
    "# Open and load the JSON file\n",
    "with open(best_hyper_parameters_json_path, 'r') as file:\n",
    "    data = json.load(file)\n",
    "\n",
    "# Print the contents of the JSON file\n",
    "print(json.dumps(data, indent=4))"
   ]
  },
  {
   "cell_type": "code",
   "execution_count": 24,
   "id": "aeccf0bb-c5b7-4d04-a84c-32e98e9870b0",
   "metadata": {},
   "outputs": [
    {
     "name": "stdout",
     "output_type": "stream",
     "text": [
      "Found 26322 images belonging to 2 classes.\n",
      "Found 8675 images belonging to 2 classes.\n",
      "train_generator.class_indices :  {'692J': 0, '690J': 1}\n",
      "validation_generator.class_indices :  {'692J': 0, '690J': 1}\n"
     ]
    },
    {
     "name": "stderr",
     "output_type": "stream",
     "text": [
      "2024-06-30 16:24:08.916959: I external/local_xla/xla/stream_executor/cuda/cuda_executor.cc:901] successful NUMA node read from SysFS had negative value (-1), but there must be at least one NUMA node, so returning NUMA node zero. See more at https://github.com/torvalds/linux/blob/v6.0/Documentation/ABI/testing/sysfs-bus-pci#L344-L355\n",
      "2024-06-30 16:24:09.332117: I external/local_xla/xla/stream_executor/cuda/cuda_executor.cc:901] successful NUMA node read from SysFS had negative value (-1), but there must be at least one NUMA node, so returning NUMA node zero. See more at https://github.com/torvalds/linux/blob/v6.0/Documentation/ABI/testing/sysfs-bus-pci#L344-L355\n",
      "2024-06-30 16:24:09.335854: I external/local_xla/xla/stream_executor/cuda/cuda_executor.cc:901] successful NUMA node read from SysFS had negative value (-1), but there must be at least one NUMA node, so returning NUMA node zero. See more at https://github.com/torvalds/linux/blob/v6.0/Documentation/ABI/testing/sysfs-bus-pci#L344-L355\n",
      "2024-06-30 16:24:09.340265: I external/local_xla/xla/stream_executor/cuda/cuda_executor.cc:901] successful NUMA node read from SysFS had negative value (-1), but there must be at least one NUMA node, so returning NUMA node zero. See more at https://github.com/torvalds/linux/blob/v6.0/Documentation/ABI/testing/sysfs-bus-pci#L344-L355\n",
      "2024-06-30 16:24:09.343832: I external/local_xla/xla/stream_executor/cuda/cuda_executor.cc:901] successful NUMA node read from SysFS had negative value (-1), but there must be at least one NUMA node, so returning NUMA node zero. See more at https://github.com/torvalds/linux/blob/v6.0/Documentation/ABI/testing/sysfs-bus-pci#L344-L355\n",
      "2024-06-30 16:24:09.347273: I external/local_xla/xla/stream_executor/cuda/cuda_executor.cc:901] successful NUMA node read from SysFS had negative value (-1), but there must be at least one NUMA node, so returning NUMA node zero. See more at https://github.com/torvalds/linux/blob/v6.0/Documentation/ABI/testing/sysfs-bus-pci#L344-L355\n",
      "2024-06-30 16:24:09.497222: I external/local_xla/xla/stream_executor/cuda/cuda_executor.cc:901] successful NUMA node read from SysFS had negative value (-1), but there must be at least one NUMA node, so returning NUMA node zero. See more at https://github.com/torvalds/linux/blob/v6.0/Documentation/ABI/testing/sysfs-bus-pci#L344-L355\n",
      "2024-06-30 16:24:09.498681: I external/local_xla/xla/stream_executor/cuda/cuda_executor.cc:901] successful NUMA node read from SysFS had negative value (-1), but there must be at least one NUMA node, so returning NUMA node zero. See more at https://github.com/torvalds/linux/blob/v6.0/Documentation/ABI/testing/sysfs-bus-pci#L344-L355\n",
      "2024-06-30 16:24:09.500069: I external/local_xla/xla/stream_executor/cuda/cuda_executor.cc:901] successful NUMA node read from SysFS had negative value (-1), but there must be at least one NUMA node, so returning NUMA node zero. See more at https://github.com/torvalds/linux/blob/v6.0/Documentation/ABI/testing/sysfs-bus-pci#L344-L355\n",
      "2024-06-30 16:24:09.501475: I tensorflow/core/common_runtime/gpu/gpu_device.cc:1929] Created device /job:localhost/replica:0/task:0/device:GPU:0 with 20723 MB memory:  -> device: 0, name: NVIDIA A10G, pci bus id: 0000:00:1e.0, compute capability: 8.6\n"
     ]
    },
    {
     "name": "stdout",
     "output_type": "stream",
     "text": [
      "Epoch 1/100\n"
     ]
    },
    {
     "name": "stderr",
     "output_type": "stream",
     "text": [
      "2024-06-30 16:24:16.602824: I external/local_xla/xla/stream_executor/cuda/cuda_dnn.cc:454] Loaded cuDNN version 8907\n",
      "2024-06-30 16:24:23.061108: I external/local_xla/xla/service/service.cc:168] XLA service 0x7f76d134eae0 initialized for platform CUDA (this does not guarantee that XLA will be used). Devices:\n",
      "2024-06-30 16:24:23.062000: I external/local_xla/xla/service/service.cc:176]   StreamExecutor device (0): NVIDIA A10G, Compute Capability 8.6\n",
      "2024-06-30 16:24:23.093368: I tensorflow/compiler/mlir/tensorflow/utils/dump_mlir_util.cc:269] disabling MLIR crash reproducer, set env var `MLIR_CRASH_REPRODUCER_DIRECTORY` to enable.\n",
      "WARNING: All log messages before absl::InitializeLog() is called are written to STDERR\n",
      "I0000 00:00:1719789863.326783   23642 device_compiler.h:186] Compiled cluster using XLA!  This line is logged at most once for the lifetime of the process.\n"
     ]
    },
    {
     "name": "stdout",
     "output_type": "stream",
     "text": [
      "823/823 [==============================] - 621s 728ms/step - loss: 0.6069 - roc_auc_score: 0.7569 - f1_score_normal: 0.7355 - accuracy_score: 0.6014 - val_loss: 0.8830 - val_roc_auc_score: 0.8164 - val_f1_score_normal: 0.6400 - val_accuracy_score: 0.5006\n",
      "Epoch 2/100\n",
      "823/823 [==============================] - 607s 735ms/step - loss: 0.5555 - roc_auc_score: 0.8033 - f1_score_normal: 0.7710 - accuracy_score: 0.6454 - val_loss: 1.6207 - val_roc_auc_score: 0.8386 - val_f1_score_normal: 0.2918 - val_accuracy_score: 0.2169\n",
      "Epoch 3/100\n",
      "823/823 [==============================] - 600s 727ms/step - loss: 0.5335 - roc_auc_score: 0.8185 - f1_score_normal: 0.7765 - accuracy_score: 0.6523 - val_loss: 0.2094 - val_roc_auc_score: 0.8375 - val_f1_score_normal: 0.9472 - val_accuracy_score: 0.9032\n",
      "Epoch 4/100\n",
      "823/823 [==============================] - 613s 740ms/step - loss: 0.5147 - roc_auc_score: 0.8303 - f1_score_normal: 0.8048 - accuracy_score: 0.6892 - val_loss: 0.5968 - val_roc_auc_score: 0.8433 - val_f1_score_normal: 0.8162 - val_accuracy_score: 0.7058\n",
      "Epoch 5/100\n",
      "823/823 [==============================] - 613s 742ms/step - loss: 0.4991 - roc_auc_score: 0.8396 - f1_score_normal: 0.8226 - accuracy_score: 0.7126 - val_loss: 0.5391 - val_roc_auc_score: 0.8289 - val_f1_score_normal: 0.8419 - val_accuracy_score: 0.7407\n",
      "Epoch 6/100\n",
      "823/823 [==============================] - 609s 738ms/step - loss: 0.4941 - roc_auc_score: 0.8425 - f1_score_normal: 0.8173 - accuracy_score: 0.7052 - val_loss: 0.3636 - val_roc_auc_score: 0.8237 - val_f1_score_normal: 0.9472 - val_accuracy_score: 0.9048\n",
      "Epoch 7/100\n",
      "823/823 [==============================] - 601s 728ms/step - loss: 0.4698 - roc_auc_score: 0.8600 - f1_score_normal: 0.8365 - accuracy_score: 0.7320 - val_loss: 0.1788 - val_roc_auc_score: 0.8404 - val_f1_score_normal: 0.9656 - val_accuracy_score: 0.9353\n",
      "Epoch 8/100\n",
      "823/823 [==============================] - 603s 730ms/step - loss: 0.4691 - roc_auc_score: 0.8604 - f1_score_normal: 0.8293 - accuracy_score: 0.7222 - val_loss: 0.4295 - val_roc_auc_score: 0.8460 - val_f1_score_normal: 0.8794 - val_accuracy_score: 0.7968\n",
      "Epoch 9/100\n",
      "823/823 [==============================] - 607s 735ms/step - loss: 0.4639 - roc_auc_score: 0.8645 - f1_score_normal: 0.8329 - accuracy_score: 0.7270 - val_loss: 1.4240 - val_roc_auc_score: 0.8332 - val_f1_score_normal: 0.5469 - val_accuracy_score: 0.4103\n",
      "Epoch 10/100\n",
      "823/823 [==============================] - 608s 736ms/step - loss: 0.4517 - roc_auc_score: 0.8697 - f1_score_normal: 0.8335 - accuracy_score: 0.7283 - val_loss: 0.2074 - val_roc_auc_score: 0.8214 - val_f1_score_normal: 0.9613 - val_accuracy_score: 0.9281\n",
      "Epoch 11/100\n",
      "823/823 [==============================] - 611s 739ms/step - loss: 0.4440 - roc_auc_score: 0.8742 - f1_score_normal: 0.8437 - accuracy_score: 0.7422 - val_loss: 0.1674 - val_roc_auc_score: 0.8384 - val_f1_score_normal: 0.9726 - val_accuracy_score: 0.9484\n",
      "Epoch 12/100\n",
      "823/823 [==============================] - 602s 729ms/step - loss: 0.4259 - roc_auc_score: 0.8843 - f1_score_normal: 0.8443 - accuracy_score: 0.7434 - val_loss: 0.1654 - val_roc_auc_score: 0.8548 - val_f1_score_normal: 0.9684 - val_accuracy_score: 0.9405\n",
      "Epoch 13/100\n",
      "823/823 [==============================] - 612s 742ms/step - loss: 0.4182 - roc_auc_score: 0.8882 - f1_score_normal: 0.8488 - accuracy_score: 0.7496 - val_loss: 0.2603 - val_roc_auc_score: 0.8618 - val_f1_score_normal: 0.9230 - val_accuracy_score: 0.8632\n",
      "Epoch 14/100\n",
      "823/823 [==============================] - 609s 737ms/step - loss: 0.4117 - roc_auc_score: 0.8920 - f1_score_normal: 0.8529 - accuracy_score: 0.7556 - val_loss: 0.4283 - val_roc_auc_score: 0.8539 - val_f1_score_normal: 0.8799 - val_accuracy_score: 0.7961\n",
      "Epoch 15/100\n",
      "823/823 [==============================] - 616s 743ms/step - loss: 0.4007 - roc_auc_score: 0.8983 - f1_score_normal: 0.8620 - accuracy_score: 0.7689 - val_loss: 0.1970 - val_roc_auc_score: 0.8446 - val_f1_score_normal: 0.9557 - val_accuracy_score: 0.9184\n",
      "Epoch 16/100\n",
      "823/823 [==============================] - 609s 737ms/step - loss: 0.3845 - roc_auc_score: 0.9061 - f1_score_normal: 0.8631 - accuracy_score: 0.7709 - val_loss: 0.1986 - val_roc_auc_score: 0.8211 - val_f1_score_normal: 0.9650 - val_accuracy_score: 0.9342\n",
      "Epoch 17/100\n",
      "823/823 [==============================] - 608s 735ms/step - loss: 0.3743 - roc_auc_score: 0.9101 - f1_score_normal: 0.8683 - accuracy_score: 0.7785 - val_loss: 0.2073 - val_roc_auc_score: 0.8471 - val_f1_score_normal: 0.9573 - val_accuracy_score: 0.9208\n",
      "Epoch 18/100\n",
      "823/823 [==============================] - 607s 735ms/step - loss: 0.3583 - roc_auc_score: 0.9167 - f1_score_normal: 0.8688 - accuracy_score: 0.7798 - val_loss: 0.2850 - val_roc_auc_score: 0.8502 - val_f1_score_normal: 0.9246 - val_accuracy_score: 0.8657\n",
      "Epoch 19/100\n",
      "823/823 [==============================] - 619s 750ms/step - loss: 0.3525 - roc_auc_score: 0.9198 - f1_score_normal: 0.8769 - accuracy_score: 0.7914 - val_loss: 0.3934 - val_roc_auc_score: 0.8507 - val_f1_score_normal: 0.8656 - val_accuracy_score: 0.7760\n",
      "Epoch 20/100\n",
      "823/823 [==============================] - 600s 727ms/step - loss: 0.3473 - roc_auc_score: 0.9226 - f1_score_normal: 0.8826 - accuracy_score: 0.8001 - val_loss: 0.3381 - val_roc_auc_score: 0.8510 - val_f1_score_normal: 0.9043 - val_accuracy_score: 0.8332\n",
      "Epoch 21/100\n",
      "823/823 [==============================] - ETA: 0s - loss: 0.3316 - roc_auc_score: 0.9293 - f1_score_normal: 0.8851 - accuracy_score: 0.8040Restoring model weights from the end of the best epoch: 13.\n",
      "823/823 [==============================] - 611s 737ms/step - loss: 0.3316 - roc_auc_score: 0.9293 - f1_score_normal: 0.8851 - accuracy_score: 0.8040 - val_loss: 0.2206 - val_roc_auc_score: 0.8101 - val_f1_score_normal: 0.9607 - val_accuracy_score: 0.9269\n",
      "Epoch 21: early stopping\n"
     ]
    },
    {
     "name": "stderr",
     "output_type": "stream",
     "text": [
      "/home/sreenidhi/.conda/envs/my-tensorflow-conda/lib/python3.10/site-packages/keras/src/engine/training.py:3103: UserWarning: You are saving your model as an HDF5 file via `model.save()`. This file format is considered legacy. We recommend using instead the native Keras format, e.g. `model.save('my_model.keras')`.\n",
      "  saving_api.save_model(\n",
      "2024-06-30 19:57:59,030 - INFO - VGG19_Catalog_LAC_DHS_Quality_Trained_model_June_30_2024 Model trained, Model and training history are saved successfully.\n"
     ]
    }
   ],
   "source": [
    "# @title Execute Training algorithm\n",
    "\n",
    "from eye_ai.models.vgg19_lacdhs_quality_train import main\n",
    "\n",
    "with EA.execution(execution_rid=configuration_records.execution_rid) as exec:\n",
    "  main(train_path=train_path,\n",
    "       valid_path=valid_path, \n",
    "       output_path=output_path,\n",
    "       best_hyperparameters_json_path=best_hyper_parameters_json_path,\n",
    "       model_name=\"VGG19_Catalog_LAC_DHS_Quality_Trained_model_June_30_2024\"\n",
    "      )\n"
   ]
  },
  {
   "cell_type": "code",
   "execution_count": 25,
   "id": "9b860a35-6c33-489c-bca1-fff1c3fe2eed",
   "metadata": {},
   "outputs": [
    {
     "data": {
      "text/plain": [
       "{'rotation_range': -6,\n",
       " 'width_shift_range': 0.049283662164352315,\n",
       " 'height_shift_range': 0.062129040368351915,\n",
       " 'horizontal_flip': True,\n",
       " 'vertical_flip': True,\n",
       " 'zoom_range': -0.03493437617512693,\n",
       " 'brightness_range': 0.016808387649284325,\n",
       " 'use_class_weights': True,\n",
       " 'pooling': 'global_average',\n",
       " 'dense_layers': 2,\n",
       " 'units_layer_0': 512,\n",
       " 'activation_func_0': 'sigmoid',\n",
       " 'batch_norm_0': True,\n",
       " 'dropout_0': 0.10646478371824658,\n",
       " 'units_layer_1': 64,\n",
       " 'activation_func_1': 'relu',\n",
       " 'batch_norm_1': False,\n",
       " 'dropout_1': 0.2830490167548361,\n",
       " 'fine_tune_at': 0,\n",
       " 'fine_tuning_learning_rate_adam': 1.1688327470992886e-05,\n",
       " 'batch_size': 32}"
      ]
     },
     "execution_count": 25,
     "metadata": {},
     "output_type": "execute_result"
    }
   ],
   "source": [
    "data"
   ]
  },
  {
   "cell_type": "code",
   "execution_count": 31,
   "id": "6ec1e397-61df-45dc-a642-49304fdefba6",
   "metadata": {},
   "outputs": [
    {
     "name": "stdout",
     "output_type": "stream",
     "text": [
      "Found 3144 images belonging to 2 classes.\n",
      "99/99 [==============================] - 120s 1s/step\n"
     ]
    },
    {
     "name": "stderr",
     "output_type": "stream",
     "text": [
      "2024-06-30 22:19:10,239 - INFO - \n",
      "Evaluation Metrics:\n",
      "2024-06-30 22:19:10,240 - INFO - Accuracy: 0.8584605597964376\n",
      "2024-06-30 22:19:10,240 - INFO - Precision: 0.9838102409638554\n",
      "2024-06-30 22:19:10,241 - INFO - Recall: 0.8666666666666667\n",
      "2024-06-30 22:19:10,241 - INFO - F1 Score: 0.9215305942514548\n",
      "2024-06-30 22:19:10,241 - INFO - ROC AUC: 0.8578477123426794\n",
      "2024-06-30 22:19:10,258 - INFO - Classification Report:\n",
      "2024-06-30 22:19:10,259 - INFO - {\n",
      "  \"692J\": {\n",
      "    \"precision\": 0.1762295081967213,\n",
      "    \"recall\": 0.6666666666666666,\n",
      "    \"f1-score\": 0.2787682333873582,\n",
      "    \"support\": 129.0\n",
      "  },\n",
      "  \"690J\": {\n",
      "    \"precision\": 0.9838102409638554,\n",
      "    \"recall\": 0.8666666666666667,\n",
      "    \"f1-score\": 0.9215305942514548,\n",
      "    \"support\": 3015.0\n",
      "  },\n",
      "  \"accuracy\": 0.8584605597964376,\n",
      "  \"macro avg\": {\n",
      "    \"precision\": 0.5800198745802884,\n",
      "    \"recall\": 0.7666666666666666,\n",
      "    \"f1-score\": 0.6001494138194065,\n",
      "    \"support\": 3144.0\n",
      "  },\n",
      "  \"weighted avg\": {\n",
      "    \"precision\": 0.9506747719667308,\n",
      "    \"recall\": 0.8584605597964376,\n",
      "    \"f1-score\": 0.8951577111243973,\n",
      "    \"support\": 3144.0\n",
      "  }\n",
      "}\n"
     ]
    },
    {
     "name": "stdout",
     "output_type": "stream",
     "text": [
      "\n",
      "Evaluation Metrics:\n",
      "Accuracy: 0.8584605597964376\n",
      "Precision: 0.9838102409638554\n",
      "Recall: 0.8666666666666667\n",
      "F1 Score: 0.9215305942514548\n",
      "ROC AUC: 0.8578477123426794\n",
      "\n",
      "Classification Report:\n",
      "              precision    recall  f1-score   support\n",
      "\n",
      "        692J       0.18      0.67      0.28       129\n",
      "        690J       0.98      0.87      0.92      3015\n",
      "\n",
      "    accuracy                           0.86      3144\n",
      "   macro avg       0.58      0.77      0.60      3144\n",
      "weighted avg       0.95      0.86      0.90      3144\n",
      "\n",
      "Predictions saved to quality_predictions.csv\n",
      "Confusion matrix saved as confusion_matrix.png\n",
      "ROC curve saved as roc_curve.png\n"
     ]
    }
   ],
   "source": [
    "# @title Execute Evaluation algorithm\n",
    "\n",
    "from eye_ai.models.vgg19_lacdhs_quality_predict import predict_and_evaluate\n",
    "with EA.execution(execution_rid=configuration_records.execution_rid) as exec:\n",
    "    predict_and_evaluate(\n",
    "        model_path=output_path + '/VGG19_Catalog_LAC_DHS_Quality_Trained_model_June_30_2024.h5',\n",
    "        image_path=test_path,\n",
    "        output_dir=output_path,\n",
    "        best_hyperparameters_json_path=best_hyper_parameters_json_path\n",
    "    )"
   ]
  },
  {
   "cell_type": "code",
   "execution_count": null,
   "id": "852a3f3d-d49d-4899-af5a-c1565de9a28e",
   "metadata": {},
   "outputs": [],
   "source": []
  },
  {
   "cell_type": "code",
   "execution_count": 32,
   "id": "17a367dd-445a-41f9-bc97-354e6def6100",
   "metadata": {},
   "outputs": [
    {
     "name": "stderr",
     "output_type": "stream",
     "text": [
      "2024-06-30 22:20:22,992 - INFO - Initializing uploader: GenericUploader v1.7.1 [Python 3.10.13, Linux-5.10.210-201.852.amzn2.x86_64-x86_64-with-glibc2.26]\n",
      "2024-06-30 22:20:22,994 - INFO - Creating client of type <class 'globus_sdk.services.auth.client.native_client.NativeAppAuthClient'> for service \"auth\"\n",
      "2024-06-30 22:20:22,995 - INFO - Finished initializing AuthLoginClient. client_id='8ef15ba9-2b4a-469c-a163-7fd910c9d111', type(authorizer)=<class 'globus_sdk.authorizers.base.NullAuthorizer'>\n",
      "2024-06-30 22:20:23,033 - INFO - Checking for updated configuration...\n",
      "2024-06-30 22:20:23,150 - INFO - Updated configuration found.\n",
      "2024-06-30 22:20:23,152 - INFO - Scanning files in directory [/data/sreenidhi/EyeAI_working/Execution_Assets/VGG19_Catalog_Model_LACDHS_quality_training]...\n",
      "2024-06-30 22:20:23,156 - INFO - Including file: [/data/sreenidhi/EyeAI_working/Execution_Assets/VGG19_Catalog_Model_LACDHS_quality_training/VGG19_Catalog_LAC_DHS_Quality_Trained_model_June_30_2024.h5].\n",
      "2024-06-30 22:20:23,157 - INFO - Including file: [/data/sreenidhi/EyeAI_working/Execution_Assets/VGG19_Catalog_Model_LACDHS_quality_training/training_history_VGG19_Catalog_LAC_DHS_Quality_Trained_model_June_30_2024.csv].\n",
      "2024-06-30 22:20:23,157 - INFO - Including file: [/data/sreenidhi/EyeAI_working/Execution_Assets/VGG19_Catalog_Model_LACDHS_quality_training/quality_predictions.csv].\n",
      "2024-06-30 22:20:23,158 - INFO - Including file: [/data/sreenidhi/EyeAI_working/Execution_Assets/VGG19_Catalog_Model_LACDHS_quality_training/confusion_matrix.png].\n",
      "2024-06-30 22:20:23,158 - INFO - Including file: [/data/sreenidhi/EyeAI_working/Execution_Assets/VGG19_Catalog_Model_LACDHS_quality_training/roc_curve.png].\n",
      "2024-06-30 22:20:23,159 - INFO - Processing: [/data/sreenidhi/EyeAI_working/Execution_Assets/VGG19_Catalog_Model_LACDHS_quality_training/VGG19_Catalog_LAC_DHS_Quality_Trained_model_June_30_2024.h5]\n",
      "2024-06-30 22:20:23,160 - INFO - Computed metadata for: [/data/sreenidhi/EyeAI_working/Execution_Assets/VGG19_Catalog_Model_LACDHS_quality_training/VGG19_Catalog_LAC_DHS_Quality_Trained_model_June_30_2024.h5].\n",
      "2024-06-30 22:20:23,161 - INFO - Computing checksums for file: [/data/sreenidhi/EyeAI_working/Execution_Assets/VGG19_Catalog_Model_LACDHS_quality_training/VGG19_Catalog_LAC_DHS_Quality_Trained_model_June_30_2024.h5]. Please wait...\n",
      "2024-06-30 22:20:23,723 - INFO - Uploading file: [/data/sreenidhi/EyeAI_working/Execution_Assets/VGG19_Catalog_Model_LACDHS_quality_training/VGG19_Catalog_LAC_DHS_Quality_Trained_model_June_30_2024.h5] to host https://www.eye-ai.org. Please wait...\n",
      "2024-06-30 22:20:28,501 - INFO - File [/data/sreenidhi/EyeAI_working/Execution_Assets/VGG19_Catalog_Model_LACDHS_quality_training/VGG19_Catalog_LAC_DHS_Quality_Trained_model_June_30_2024.h5] upload successful. 232.71 MB transferred at 50.85 MB/second. Elapsed time: 0:00:04.576323.\n",
      "2024-06-30 22:20:28,660 - INFO - Processing: [/data/sreenidhi/EyeAI_working/Execution_Assets/VGG19_Catalog_Model_LACDHS_quality_training/training_history_VGG19_Catalog_LAC_DHS_Quality_Trained_model_June_30_2024.csv]\n",
      "2024-06-30 22:20:28,661 - INFO - Computed metadata for: [/data/sreenidhi/EyeAI_working/Execution_Assets/VGG19_Catalog_Model_LACDHS_quality_training/training_history_VGG19_Catalog_LAC_DHS_Quality_Trained_model_June_30_2024.csv].\n",
      "2024-06-30 22:20:28,661 - INFO - Computing checksums for file: [/data/sreenidhi/EyeAI_working/Execution_Assets/VGG19_Catalog_Model_LACDHS_quality_training/training_history_VGG19_Catalog_LAC_DHS_Quality_Trained_model_June_30_2024.csv]. Please wait...\n",
      "2024-06-30 22:20:28,670 - INFO - Uploading file: [/data/sreenidhi/EyeAI_working/Execution_Assets/VGG19_Catalog_Model_LACDHS_quality_training/training_history_VGG19_Catalog_LAC_DHS_Quality_Trained_model_June_30_2024.csv] to host https://www.eye-ai.org. Please wait...\n",
      "2024-06-30 22:20:28,781 - INFO - Processing: [/data/sreenidhi/EyeAI_working/Execution_Assets/VGG19_Catalog_Model_LACDHS_quality_training/quality_predictions.csv]\n",
      "2024-06-30 22:20:28,782 - INFO - Computed metadata for: [/data/sreenidhi/EyeAI_working/Execution_Assets/VGG19_Catalog_Model_LACDHS_quality_training/quality_predictions.csv].\n",
      "2024-06-30 22:20:28,783 - INFO - Computing checksums for file: [/data/sreenidhi/EyeAI_working/Execution_Assets/VGG19_Catalog_Model_LACDHS_quality_training/quality_predictions.csv]. Please wait...\n",
      "2024-06-30 22:20:28,792 - INFO - Uploading file: [/data/sreenidhi/EyeAI_working/Execution_Assets/VGG19_Catalog_Model_LACDHS_quality_training/quality_predictions.csv] to host https://www.eye-ai.org. Please wait...\n",
      "2024-06-30 22:20:28,923 - INFO - Processing: [/data/sreenidhi/EyeAI_working/Execution_Assets/VGG19_Catalog_Model_LACDHS_quality_training/confusion_matrix.png]\n",
      "2024-06-30 22:20:28,923 - INFO - Computed metadata for: [/data/sreenidhi/EyeAI_working/Execution_Assets/VGG19_Catalog_Model_LACDHS_quality_training/confusion_matrix.png].\n",
      "2024-06-30 22:20:28,924 - INFO - Computing checksums for file: [/data/sreenidhi/EyeAI_working/Execution_Assets/VGG19_Catalog_Model_LACDHS_quality_training/confusion_matrix.png]. Please wait...\n",
      "2024-06-30 22:20:28,933 - INFO - Uploading file: [/data/sreenidhi/EyeAI_working/Execution_Assets/VGG19_Catalog_Model_LACDHS_quality_training/confusion_matrix.png] to host https://www.eye-ai.org. Please wait...\n",
      "2024-06-30 22:20:29,062 - INFO - Processing: [/data/sreenidhi/EyeAI_working/Execution_Assets/VGG19_Catalog_Model_LACDHS_quality_training/roc_curve.png]\n",
      "2024-06-30 22:20:29,063 - INFO - Computed metadata for: [/data/sreenidhi/EyeAI_working/Execution_Assets/VGG19_Catalog_Model_LACDHS_quality_training/roc_curve.png].\n",
      "2024-06-30 22:20:29,063 - INFO - Computing checksums for file: [/data/sreenidhi/EyeAI_working/Execution_Assets/VGG19_Catalog_Model_LACDHS_quality_training/roc_curve.png]. Please wait...\n",
      "2024-06-30 22:20:29,072 - INFO - Uploading file: [/data/sreenidhi/EyeAI_working/Execution_Assets/VGG19_Catalog_Model_LACDHS_quality_training/roc_curve.png] to host https://www.eye-ai.org. Please wait...\n",
      "2024-06-30 22:20:29,232 - INFO - File upload processing completed: 5 files were uploaded successfully, 0 files failed to upload due to errors, 0 files were skipped because they did not satisfy the matching criteria of the configuration.\n",
      "2024-06-30 22:20:29,317 - INFO - Initializing uploader: GenericUploader v1.7.1 [Python 3.10.13, Linux-5.10.210-201.852.amzn2.x86_64-x86_64-with-glibc2.26]\n",
      "2024-06-30 22:20:29,317 - INFO - Creating client of type <class 'globus_sdk.services.auth.client.native_client.NativeAppAuthClient'> for service \"auth\"\n",
      "2024-06-30 22:20:29,318 - INFO - Finished initializing AuthLoginClient. client_id='8ef15ba9-2b4a-469c-a163-7fd910c9d111', type(authorizer)=<class 'globus_sdk.authorizers.base.NullAuthorizer'>\n",
      "2024-06-30 22:20:29,353 - INFO - Checking for updated configuration...\n",
      "2024-06-30 22:20:29,456 - INFO - Updated configuration found.\n",
      "2024-06-30 22:20:29,459 - INFO - Scanning files in directory [/data/sreenidhi/EyeAI_working/Execution_Metadata]...\n",
      "2024-06-30 22:20:29,461 - INFO - Including file: [/data/sreenidhi/EyeAI_working/Execution_Metadata/Execution_Config-vgg19_catalog_model_training_LACDHS_quality_sreenidhi_june_27_2024.json].\n",
      "2024-06-30 22:20:29,461 - INFO - Including file: [/data/sreenidhi/EyeAI_working/Execution_Metadata/Runtime_Env-python_environment_snapshot.txt].\n",
      "2024-06-30 22:20:29,462 - INFO - Processing: [/data/sreenidhi/EyeAI_working/Execution_Metadata/Execution_Config-vgg19_catalog_model_training_LACDHS_quality_sreenidhi_june_27_2024.json]\n",
      "2024-06-30 22:20:29,462 - INFO - Computed metadata for: [/data/sreenidhi/EyeAI_working/Execution_Metadata/Execution_Config-vgg19_catalog_model_training_LACDHS_quality_sreenidhi_june_27_2024.json].\n",
      "2024-06-30 22:20:29,463 - INFO - Computing checksums for file: [/data/sreenidhi/EyeAI_working/Execution_Metadata/Execution_Config-vgg19_catalog_model_training_LACDHS_quality_sreenidhi_june_27_2024.json]. Please wait...\n",
      "2024-06-30 22:20:29,474 - INFO - Uploading file: [/data/sreenidhi/EyeAI_working/Execution_Metadata/Execution_Config-vgg19_catalog_model_training_LACDHS_quality_sreenidhi_june_27_2024.json] to host https://www.eye-ai.org. Please wait...\n",
      "2024-06-30 22:20:29,570 - INFO - Updating catalog for file [Execution_Config-vgg19_catalog_model_training_LACDHS_quality_sreenidhi_june_27_2024.json]\n",
      "2024-06-30 22:20:29,624 - INFO - Processing: [/data/sreenidhi/EyeAI_working/Execution_Metadata/Runtime_Env-python_environment_snapshot.txt]\n",
      "2024-06-30 22:20:29,625 - INFO - Computed metadata for: [/data/sreenidhi/EyeAI_working/Execution_Metadata/Runtime_Env-python_environment_snapshot.txt].\n",
      "2024-06-30 22:20:29,625 - INFO - Computing checksums for file: [/data/sreenidhi/EyeAI_working/Execution_Metadata/Runtime_Env-python_environment_snapshot.txt]. Please wait...\n",
      "2024-06-30 22:20:29,634 - INFO - Uploading file: [/data/sreenidhi/EyeAI_working/Execution_Metadata/Runtime_Env-python_environment_snapshot.txt] to host https://www.eye-ai.org. Please wait...\n",
      "2024-06-30 22:20:29,649 - INFO - File upload processing completed: 2 files were uploaded successfully, 0 files failed to upload due to errors, 0 files were skipped because they did not satisfy the matching criteria of the configuration.\n"
     ]
    }
   ],
   "source": [
    "# # @title Save Execution Assets (model) and Metadata\n",
    "uploaded_assets = EA.execution_upload(configuration_records.execution_rid, True)"
   ]
  },
  {
   "cell_type": "code",
   "execution_count": null,
   "id": "ab6bb207-df9b-4ddc-933c-045eb08388fb",
   "metadata": {},
   "outputs": [],
   "source": []
  }
 ],
 "metadata": {
  "kernelspec": {
   "display_name": "My TensorFlow (Conda)",
   "language": "python",
   "name": "my-tensorflow-conda"
  },
  "language_info": {
   "codemirror_mode": {
    "name": "ipython",
    "version": 3
   },
   "file_extension": ".py",
   "mimetype": "text/x-python",
   "name": "python",
   "nbconvert_exporter": "python",
   "pygments_lexer": "ipython3",
   "version": "3.10.13"
  }
 },
 "nbformat": 4,
 "nbformat_minor": 5
}
