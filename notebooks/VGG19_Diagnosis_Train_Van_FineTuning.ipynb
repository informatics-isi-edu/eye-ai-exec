{
 "cells": [
  {
   "cell_type": "markdown",
   "metadata": {
    "colab_type": "text",
    "id": "view-in-github"
   },
   "source": [
    "<a href=\"https://colab.research.google.com/github/informatics-isi-edu/eye-ai-exec/blob/main/notebooks/VGG19_Diagnosis_Train.ipynb\" target=\"_parent\"><img src=\"https://colab.research.google.com/assets/colab-badge.svg\" alt=\"Open In Colab\"/></a>"
   ]
  },
  {
   "cell_type": "markdown",
   "metadata": {
    "id": "yVq_jMdfx7Ni"
   },
   "source": [
    "# VGG19 Training\n",
    "\n",
    "This notebook is used to train VGG19 model for glacoma diagnosis."
   ]
  },
  {
   "cell_type": "code",
   "execution_count": 1,
   "metadata": {
    "id": "0B5DczZgx7Nl"
   },
   "outputs": [],
   "source": [
    "# import sys\n",
    "# IN_COLAB = 'google.colab' in sys.modules\n",
    "\n",
    "# if IN_COLAB:\n",
    "#     !pip install deriva\n",
    "#     !pip install bdbag\n",
    "#     !pip install --upgrade --force pydantic\n",
    "#     !pip install git+https://github.com/informatics-isi-edu/deriva-ml git+https://github.com/informatics-isi-edu/eye-ai-ml"
   ]
  },
  {
   "cell_type": "code",
   "execution_count": 2,
   "metadata": {},
   "outputs": [],
   "source": [
    "repo_dir = \"Repos\"   # Set this to be where your github repos are located.\n",
    "%load_ext autoreload\n",
    "%autoreload 2\n",
    "\n",
    "# Update the load path so python can find modules for the model\n",
    "import sys\n",
    "from pathlib import Path\n",
    "sys.path.insert(0, str(Path.home() / repo_dir / \"eye-ai-ml\"))"
   ]
  },
  {
   "cell_type": "code",
   "execution_count": 3,
   "metadata": {
    "id": "ZgmzhX4Fx7Nm"
   },
   "outputs": [],
   "source": [
    "# Prerequisites\n",
    "\n",
    "import json\n",
    "import os\n",
    "from eye_ai.eye_ai import EyeAI\n",
    "import pandas as pd\n",
    "from pathlib import Path, PurePath\n",
    "import logging\n",
    "# import torch\n",
    "\n",
    "logging.basicConfig(level=logging.INFO, format='%(asctime)s - %(levelname)s - %(message)s', force=True)"
   ]
  },
  {
   "cell_type": "code",
   "execution_count": 4,
   "metadata": {
    "id": "qw-bW4bORlqQ"
   },
   "outputs": [
    {
     "name": "stderr",
     "output_type": "stream",
     "text": [
      "2024-06-26 06:37:01,683 - INFO - Creating client of type <class 'globus_sdk.services.auth.client.native_client.NativeAppAuthClient'> for service \"auth\"\n",
      "2024-06-26 06:37:01,684 - INFO - Finished initializing AuthLoginClient. client_id='8ef15ba9-2b4a-469c-a163-7fd910c9d111', type(authorizer)=<class 'globus_sdk.authorizers.base.NullAuthorizer'>\n"
     ]
    },
    {
     "name": "stdout",
     "output_type": "stream",
     "text": [
      "You are already logged in.\n"
     ]
    }
   ],
   "source": [
    "\n",
    "from deriva.core.utils.globus_auth_utils import GlobusNativeLogin\n",
    "catalog_id = \"eye-ai\" #@param\n",
    "host = 'www.eye-ai.org'\n",
    "\n",
    "\n",
    "gnl = GlobusNativeLogin(host=host)\n",
    "if gnl.is_logged_in([host]):\n",
    "    print(\"You are already logged in.\")\n",
    "else:\n",
    "    gnl.login([host], no_local_server=True, no_browser=True, refresh_tokens=True, update_bdbag_keychain=True)\n",
    "    print(\"Login Successful\")"
   ]
  },
  {
   "cell_type": "markdown",
   "metadata": {
    "id": "imD3DJ4lx7Nm"
   },
   "source": [
    "Connect to Eye-AI catalog.  Configure to store data local cache and working directories.  Initialize Eye-AI for pending execution based on the provided configuration file."
   ]
  },
  {
   "cell_type": "code",
   "execution_count": 5,
   "metadata": {
    "id": "m5U3w6SPx7Nn"
   },
   "outputs": [],
   "source": [
    "# Variables to configure the rest of the notebook.\n",
    "\n",
    "cache_dir = '/data'        # Directory in which to cache materialized BDBags for datasets\n",
    "working_dir = '/data'    # Directory in which to place output files for later upload.\n",
    "\n",
    "configuration_rid = \"2-C94P\" # rid\n",
    "# Change the confi_file with bag_url=[\"minid: train\", \"minid: Valid\", \"minid: test\"]\n"
   ]
  },
  {
   "cell_type": "code",
   "execution_count": 6,
   "metadata": {
    "id": "KkHsSCJXx7Nn"
   },
   "outputs": [
    {
     "name": "stderr",
     "output_type": "stream",
     "text": [
      "2024-06-26 06:37:01,727 - INFO - Creating client of type <class 'globus_sdk.services.auth.client.native_client.NativeAppAuthClient'> for service \"auth\"\n",
      "2024-06-26 06:37:01,728 - INFO - Finished initializing AuthLoginClient. client_id='8ef15ba9-2b4a-469c-a163-7fd910c9d111', type(authorizer)=<class 'globus_sdk.authorizers.base.NullAuthorizer'>\n"
     ]
    }
   ],
   "source": [
    "EA = EyeAI(hostname = host, catalog_id = catalog_id, cache_dir= cache_dir, working_dir=working_dir)"
   ]
  },
  {
   "cell_type": "code",
   "execution_count": 7,
   "metadata": {
    "colab": {
     "background_save": true
    },
    "id": "kCIfOvbUXTGB",
    "scrolled": true
   },
   "outputs": [
    {
     "name": "stderr",
     "output_type": "stream",
     "text": [
      "2024-06-26 06:37:03,524 - INFO - File [/data/sreenidhi/EyeAI_working/Execution_Metadata/Execution_Config-vgg19_catalog_model_training_sreenidhi_june_24_2024.json] transfer successful. 0.87 KB transferred. Elapsed time: 0:00:00.000075.\n",
      "2024-06-26 06:37:03,525 - INFO - Verifying MD5 checksum for downloaded file [/data/sreenidhi/EyeAI_working/Execution_Metadata/Execution_Config-vgg19_catalog_model_training_sreenidhi_june_24_2024.json]\n",
      "2024-06-26 06:37:03,545 - INFO - Configuration validation successful!\n",
      "2024-06-26 06:37:14,024 - INFO - File [/data/sreenidhi/EyeAI_working/Execution_Assets/best_hyperparameters_exluding_no_optic_disc_images_june_24_2024.json] transfer successful. 0.69 KB transferred. Elapsed time: 0:00:00.000054.\n",
      "2024-06-26 06:37:14,025 - INFO - Verifying SHA256 checksum for downloaded file [/data/sreenidhi/EyeAI_working/Execution_Assets/best_hyperparameters_exluding_no_optic_disc_images_june_24_2024.json]\n",
      "2024-06-26 06:37:14,296 - INFO - File [/data/sreenidhi/EyeAI_working/Execution_Assets/train_no_optic_disc_image_ids.csv] transfer successful. 0.34 KB transferred. Elapsed time: 0:00:00.000075.\n",
      "2024-06-26 06:37:14,297 - INFO - Verifying MD5 checksum for downloaded file [/data/sreenidhi/EyeAI_working/Execution_Assets/train_no_optic_disc_image_ids.csv]\n",
      "2024-06-26 06:37:14,510 - INFO - File [/data/sreenidhi/EyeAI_working/Execution_Assets/valid_no_optic_disc_image_ids.csv] transfer successful. 0.15 KB transferred. Elapsed time: 0:00:00.000053.\n",
      "2024-06-26 06:37:14,510 - INFO - Verifying MD5 checksum for downloaded file [/data/sreenidhi/EyeAI_working/Execution_Assets/valid_no_optic_disc_image_ids.csv]\n"
     ]
    },
    {
     "data": {
      "text/plain": [
       "{'caching_dir': PosixPath('/data'),\n",
       " 'working_dir': PosixPath('/data/sreenidhi/EyeAI_working'),\n",
       " 'vocabs': {'Workflow_Type': [{'name': 'VGG19_Catalog_Model_training',\n",
       "    'rid': '2-A7D8'}],\n",
       "  'Execution_Asset_Type': [{'name': 'VGG19_Catalog_Model', 'rid': '2-A7DA'}]},\n",
       " 'execution_rid': '2-C6CM',\n",
       " 'workflow_rid': '2-A7CR',\n",
       " 'bag_paths': [PosixPath('/data/2-277G_6aa1a6861eee5a79bce4bf071065355f95a066c2a1ff326089d43048a7e0f185/Dataset_2-277G'),\n",
       "  PosixPath('/data/2-277J_81c873a311aa6a67cf2eef44bd9056cb19181b299a6e44327ea3553616f18725/Dataset_2-277J'),\n",
       "  PosixPath('/data/2-277M_8c4b855c2752e098580a5bb0d1b63a8cedde4462805fe74cddc912a72fb39963/Dataset_2-277M')],\n",
       " 'assets_paths': [PosixPath('/data/sreenidhi/EyeAI_working/Execution_Assets/best_hyperparameters_exluding_no_optic_disc_images_june_24_2024.json'),\n",
       "  PosixPath('/data/sreenidhi/EyeAI_working/Execution_Assets/train_no_optic_disc_image_ids.csv'),\n",
       "  PosixPath('/data/sreenidhi/EyeAI_working/Execution_Assets/valid_no_optic_disc_image_ids.csv')],\n",
       " 'configuration_path': PosixPath('/data/sreenidhi/EyeAI_working/Execution_Metadata/Execution_Config-vgg19_catalog_model_training_sreenidhi_june_24_2024.json')}"
      ]
     },
     "execution_count": 7,
     "metadata": {},
     "output_type": "execute_result"
    }
   ],
   "source": [
    "# @title Initiate an Execution\n",
    "configuration_records = EA.execution_init(configuration_rid=configuration_rid)\n",
    "configuration_records.model_dump()"
   ]
  },
  {
   "cell_type": "code",
   "execution_count": 8,
   "metadata": {},
   "outputs": [
    {
     "data": {
      "text/plain": [
       "ConfigurationRecord(caching_dir=PosixPath('/data'), working_dir=PosixPath('/data/sreenidhi/EyeAI_working'), vocabs={'Workflow_Type': [Term(name='VGG19_Catalog_Model_training', rid='2-A7D8')], 'Execution_Asset_Type': [Term(name='VGG19_Catalog_Model', rid='2-A7DA')]}, execution_rid='2-C6CM', workflow_rid='2-A7CR', bag_paths=[PosixPath('/data/2-277G_6aa1a6861eee5a79bce4bf071065355f95a066c2a1ff326089d43048a7e0f185/Dataset_2-277G'), PosixPath('/data/2-277J_81c873a311aa6a67cf2eef44bd9056cb19181b299a6e44327ea3553616f18725/Dataset_2-277J'), PosixPath('/data/2-277M_8c4b855c2752e098580a5bb0d1b63a8cedde4462805fe74cddc912a72fb39963/Dataset_2-277M')], assets_paths=[PosixPath('/data/sreenidhi/EyeAI_working/Execution_Assets/best_hyperparameters_exluding_no_optic_disc_images_june_24_2024.json'), PosixPath('/data/sreenidhi/EyeAI_working/Execution_Assets/train_no_optic_disc_image_ids.csv'), PosixPath('/data/sreenidhi/EyeAI_working/Execution_Assets/valid_no_optic_disc_image_ids.csv')], configuration_path=PosixPath('/data/sreenidhi/EyeAI_working/Execution_Metadata/Execution_Config-vgg19_catalog_model_training_sreenidhi_june_24_2024.json'))"
      ]
     },
     "execution_count": 8,
     "metadata": {},
     "output_type": "execute_result"
    }
   ],
   "source": [
    "configuration_records"
   ]
  },
  {
   "cell_type": "code",
   "execution_count": 9,
   "metadata": {},
   "outputs": [],
   "source": [
    "exclude_train = pd.read_csv(configuration_records.assets_paths[1])['ID'].to_list()\n",
    "exclude_valid = pd.read_csv(configuration_records.assets_paths[2])['ID'].to_list()"
   ]
  },
  {
   "cell_type": "code",
   "execution_count": 11,
   "metadata": {
    "id": "iUuTRgyg7Ys1"
   },
   "outputs": [],
   "source": [
    "# @title Data Preprocessing (Filtering Image.csv for just Field_2 Images)\n",
    "train_dir = configuration_records.bag_paths[0] # path to the raw train dataset\n",
    "validation_dir = configuration_records.bag_paths[1]\n",
    "test_dir = configuration_records.bag_paths[2]\n",
    "\n",
    "train_cropped_image_path, train_cropped_csv = EA.create_cropped_images(str(train_dir),\n",
    "                                                                       output_dir = str(EA.working_dir) +'/train',\n",
    "                                                                       crop_to_eye=True,\n",
    "                                                                       exclude_list=exclude_train)\n",
    "validation_cropped_image_path, validation_cropped_csv = EA.create_cropped_images(str(validation_dir),\n",
    "                                                                                 output_dir = str(EA.working_dir) +'/valid',\n",
    "                                                                                 crop_to_eye=True,\n",
    "                                                                                 exclude_list=exclude_valid)\n",
    "test_cropped_image_path, test_cropped_csv = EA.create_cropped_images(str(test_dir),\n",
    "                                                                     output_dir = str(EA.working_dir) +'/test',\n",
    "                                                                     crop_to_eye=True)\n"
   ]
  },
  {
   "cell_type": "code",
   "execution_count": 12,
   "metadata": {},
   "outputs": [
    {
     "name": "stdout",
     "output_type": "stream",
     "text": [
      "\n",
      "Analyzing train folder:\n",
      "  2SKC_No_Glaucoma: 5490 files\n",
      "  2SKA_Suspected_Glaucoma: 3506 files\n",
      "Total files in train: 8996\n",
      "\n",
      "Analyzing test folder:\n",
      "  2SKC_No_Glaucoma: 526 files\n",
      "  2SKA_Suspected_Glaucoma: 568 files\n",
      "Total files in test: 1094\n",
      "\n",
      "Analyzing valid folder:\n",
      "  2SKC_No_Glaucoma: 1840 files\n",
      "  2SKA_Suspected_Glaucoma: 1162 files\n",
      "Total files in valid: 3002\n"
     ]
    }
   ],
   "source": [
    "# # without no optic disc images\n",
    "\n",
    "import os\n",
    "\n",
    "def count_files(directory):\n",
    "    return len([name for name in os.listdir(directory) if os.path.isfile(os.path.join(directory, name))])\n",
    "\n",
    "def analyze_directory(base_path):\n",
    "    main_folders = ['train', 'test', 'valid']\n",
    "    \n",
    "    for main_folder in main_folders:\n",
    "        main_folder_path = os.path.join(base_path, main_folder)\n",
    "        if not os.path.exists(main_folder_path):\n",
    "            print(f\"{main_folder} folder not found\")\n",
    "            continue\n",
    "        \n",
    "        print(f\"\\nAnalyzing {main_folder} folder:\")\n",
    "        \n",
    "        image_cropped_path = os.path.join(main_folder_path, 'Image_cropped')\n",
    "        if not os.path.exists(image_cropped_path):\n",
    "            print(\"Image_cropped folder not found\")\n",
    "            continue\n",
    "        \n",
    "        total_files = 0\n",
    "        for subfolder in os.listdir(image_cropped_path):\n",
    "            subfolder_path = os.path.join(image_cropped_path, subfolder)\n",
    "            if os.path.isdir(subfolder_path):\n",
    "                file_count = count_files(subfolder_path)\n",
    "                print(f\"  {subfolder}: {file_count} files\")\n",
    "                total_files += file_count\n",
    "        \n",
    "        print(f\"Total files in {main_folder}: {total_files}\")\n",
    "\n",
    "# Assuming you're running this script from the directory containing train, test, and valid folders\n",
    "base_path = \"/data/sreenidhi/EyeAI_working/\" #os.getcwd()\n",
    "analyze_directory(base_path)"
   ]
  },
  {
   "cell_type": "code",
   "execution_count": 18,
   "metadata": {},
   "outputs": [
    {
     "name": "stdout",
     "output_type": "stream",
     "text": [
      "\n",
      "Analyzing train folder:\n",
      "  2SKC_No_Glaucoma: 5525 files\n",
      "  2SKA_Suspected_Glaucoma: 3540 files\n",
      "Total files in train: 9065\n",
      "\n",
      "Analyzing test folder:\n",
      "  2SKC_No_Glaucoma: 526 files\n",
      "  2SKA_Suspected_Glaucoma: 568 files\n",
      "Total files in test: 1094\n",
      "\n",
      "Analyzing valid folder:\n",
      "  2SKC_No_Glaucoma: 1860 files\n",
      "  2SKA_Suspected_Glaucoma: 1173 files\n",
      "Total files in valid: 3033\n"
     ]
    }
   ],
   "source": [
    "# before with no optic disc images\n",
    "import os\n",
    "\n",
    "def count_files(directory):\n",
    "    return len([name for name in os.listdir(directory) if os.path.isfile(os.path.join(directory, name))])\n",
    "\n",
    "def analyze_directory(base_path):\n",
    "    main_folders = ['train', 'test', 'valid']\n",
    "    \n",
    "    for main_folder in main_folders:\n",
    "        main_folder_path = os.path.join(base_path, main_folder)\n",
    "        if not os.path.exists(main_folder_path):\n",
    "            print(f\"{main_folder} folder not found\")\n",
    "            continue\n",
    "        \n",
    "        print(f\"\\nAnalyzing {main_folder} folder:\")\n",
    "        \n",
    "        image_cropped_path = os.path.join(main_folder_path, 'Image_cropped')\n",
    "        if not os.path.exists(image_cropped_path):\n",
    "            print(\"Image_cropped folder not found\")\n",
    "            continue\n",
    "        \n",
    "        total_files = 0\n",
    "        for subfolder in os.listdir(image_cropped_path):\n",
    "            subfolder_path = os.path.join(image_cropped_path, subfolder)\n",
    "            if os.path.isdir(subfolder_path):\n",
    "                file_count = count_files(subfolder_path)\n",
    "                print(f\"  {subfolder}: {file_count} files\")\n",
    "                total_files += file_count\n",
    "        \n",
    "        print(f\"Total files in {main_folder}: {total_files}\")\n",
    "\n",
    "# Assuming you're running this script from the directory containing train, test, and valid folders\n",
    "base_path = \"/data/sreenidhi/EyeAI_working/\" #os.getcwd()\n",
    "analyze_directory(base_path)"
   ]
  },
  {
   "cell_type": "code",
   "execution_count": 13,
   "metadata": {},
   "outputs": [],
   "source": [
    "\n",
    "output_path = str(EA.working_dir) + \"/Execution_Assets/\" + configuration_records.vocabs['Execution_Asset_Type'][0].name\n",
    "os.mkdir(output_path)"
   ]
  },
  {
   "cell_type": "code",
   "execution_count": 14,
   "metadata": {},
   "outputs": [
    {
     "data": {
      "text/plain": [
       "'/data/sreenidhi/EyeAI_working/Execution_Assets/VGG19_Catalog_Model'"
      ]
     },
     "execution_count": 14,
     "metadata": {},
     "output_type": "execute_result"
    }
   ],
   "source": [
    "output_path"
   ]
  },
  {
   "cell_type": "code",
   "execution_count": 15,
   "metadata": {},
   "outputs": [],
   "source": [
    "best_hyper_parameters_json_path = str(configuration_records.assets_paths[0])"
   ]
  },
  {
   "cell_type": "code",
   "execution_count": 16,
   "metadata": {},
   "outputs": [
    {
     "data": {
      "text/plain": [
       "'/data/sreenidhi/EyeAI_working/Execution_Assets/best_hyperparameters_exluding_no_optic_disc_images_june_24_2024.json'"
      ]
     },
     "execution_count": 16,
     "metadata": {},
     "output_type": "execute_result"
    }
   ],
   "source": [
    "best_hyper_parameters_json_path"
   ]
  },
  {
   "cell_type": "code",
   "execution_count": 17,
   "metadata": {},
   "outputs": [
    {
     "name": "stderr",
     "output_type": "stream",
     "text": [
      "2024-06-26 07:04:46.580653: E external/local_xla/xla/stream_executor/cuda/cuda_dnn.cc:9261] Unable to register cuDNN factory: Attempting to register factory for plugin cuDNN when one has already been registered\n",
      "2024-06-26 07:04:46.580712: E external/local_xla/xla/stream_executor/cuda/cuda_fft.cc:607] Unable to register cuFFT factory: Attempting to register factory for plugin cuFFT when one has already been registered\n",
      "2024-06-26 07:04:46.717774: E external/local_xla/xla/stream_executor/cuda/cuda_blas.cc:1515] Unable to register cuBLAS factory: Attempting to register factory for plugin cuBLAS when one has already been registered\n",
      "2024-06-26 07:04:46.993452: I tensorflow/core/platform/cpu_feature_guard.cc:182] This TensorFlow binary is optimized to use available CPU instructions in performance-critical operations.\n",
      "To enable the following instructions: AVX2 FMA, in other operations, rebuild TensorFlow with the appropriate compiler flags.\n",
      "2024-06-26 07:04:48.432593: W tensorflow/compiler/tf2tensorrt/utils/py_utils.cc:38] TF-TRT Warning: Could not find TensorRT\n"
     ]
    },
    {
     "name": "stdout",
     "output_type": "stream",
     "text": [
      "Found 8996 images belonging to 2 classes.\n",
      "Found 3002 images belonging to 2 classes.\n",
      "Found 1094 images belonging to 2 classes.\n",
      "train_generator.class_indices :  {'2SKC_No_Glaucoma': 0, '2SKA_Suspected_Glaucoma': 1}\n",
      "validation_generator.class_indices :  {'2SKC_No_Glaucoma': 0, '2SKA_Suspected_Glaucoma': 1}\n",
      "test_generator.class_indices :  {'2SKC_No_Glaucoma': 0, '2SKA_Suspected_Glaucoma': 1}\n"
     ]
    },
    {
     "name": "stderr",
     "output_type": "stream",
     "text": [
      "2024-06-26 07:04:50.260668: I external/local_xla/xla/stream_executor/cuda/cuda_executor.cc:901] successful NUMA node read from SysFS had negative value (-1), but there must be at least one NUMA node, so returning NUMA node zero. See more at https://github.com/torvalds/linux/blob/v6.0/Documentation/ABI/testing/sysfs-bus-pci#L344-L355\n",
      "2024-06-26 07:04:50.720607: I external/local_xla/xla/stream_executor/cuda/cuda_executor.cc:901] successful NUMA node read from SysFS had negative value (-1), but there must be at least one NUMA node, so returning NUMA node zero. See more at https://github.com/torvalds/linux/blob/v6.0/Documentation/ABI/testing/sysfs-bus-pci#L344-L355\n",
      "2024-06-26 07:04:50.724838: I external/local_xla/xla/stream_executor/cuda/cuda_executor.cc:901] successful NUMA node read from SysFS had negative value (-1), but there must be at least one NUMA node, so returning NUMA node zero. See more at https://github.com/torvalds/linux/blob/v6.0/Documentation/ABI/testing/sysfs-bus-pci#L344-L355\n",
      "2024-06-26 07:04:50.729187: I external/local_xla/xla/stream_executor/cuda/cuda_executor.cc:901] successful NUMA node read from SysFS had negative value (-1), but there must be at least one NUMA node, so returning NUMA node zero. See more at https://github.com/torvalds/linux/blob/v6.0/Documentation/ABI/testing/sysfs-bus-pci#L344-L355\n",
      "2024-06-26 07:04:50.732735: I external/local_xla/xla/stream_executor/cuda/cuda_executor.cc:901] successful NUMA node read from SysFS had negative value (-1), but there must be at least one NUMA node, so returning NUMA node zero. See more at https://github.com/torvalds/linux/blob/v6.0/Documentation/ABI/testing/sysfs-bus-pci#L344-L355\n",
      "2024-06-26 07:04:50.736138: I external/local_xla/xla/stream_executor/cuda/cuda_executor.cc:901] successful NUMA node read from SysFS had negative value (-1), but there must be at least one NUMA node, so returning NUMA node zero. See more at https://github.com/torvalds/linux/blob/v6.0/Documentation/ABI/testing/sysfs-bus-pci#L344-L355\n",
      "2024-06-26 07:04:50.889711: I external/local_xla/xla/stream_executor/cuda/cuda_executor.cc:901] successful NUMA node read from SysFS had negative value (-1), but there must be at least one NUMA node, so returning NUMA node zero. See more at https://github.com/torvalds/linux/blob/v6.0/Documentation/ABI/testing/sysfs-bus-pci#L344-L355\n",
      "2024-06-26 07:04:50.891170: I external/local_xla/xla/stream_executor/cuda/cuda_executor.cc:901] successful NUMA node read from SysFS had negative value (-1), but there must be at least one NUMA node, so returning NUMA node zero. See more at https://github.com/torvalds/linux/blob/v6.0/Documentation/ABI/testing/sysfs-bus-pci#L344-L355\n",
      "2024-06-26 07:04:50.892684: I external/local_xla/xla/stream_executor/cuda/cuda_executor.cc:901] successful NUMA node read from SysFS had negative value (-1), but there must be at least one NUMA node, so returning NUMA node zero. See more at https://github.com/torvalds/linux/blob/v6.0/Documentation/ABI/testing/sysfs-bus-pci#L344-L355\n",
      "2024-06-26 07:04:50.894012: I tensorflow/core/common_runtime/gpu/gpu_device.cc:1929] Created device /job:localhost/replica:0/task:0/device:GPU:0 with 20723 MB memory:  -> device: 0, name: NVIDIA A10G, pci bus id: 0000:00:1e.0, compute capability: 8.6\n"
     ]
    },
    {
     "name": "stdout",
     "output_type": "stream",
     "text": [
      "Epoch 1/100\n"
     ]
    },
    {
     "name": "stderr",
     "output_type": "stream",
     "text": [
      "2024-06-26 07:04:55.939700: I external/local_xla/xla/stream_executor/cuda/cuda_dnn.cc:454] Loaded cuDNN version 8907\n",
      "2024-06-26 07:05:01.216789: I external/local_xla/xla/service/service.cc:168] XLA service 0x7f34dcd11670 initialized for platform CUDA (this does not guarantee that XLA will be used). Devices:\n",
      "2024-06-26 07:05:01.216829: I external/local_xla/xla/service/service.cc:176]   StreamExecutor device (0): NVIDIA A10G, Compute Capability 8.6\n",
      "2024-06-26 07:05:01.242315: I tensorflow/compiler/mlir/tensorflow/utils/dump_mlir_util.cc:269] disabling MLIR crash reproducer, set env var `MLIR_CRASH_REPRODUCER_DIRECTORY` to enable.\n",
      "WARNING: All log messages before absl::InitializeLog() is called are written to STDERR\n",
      "I0000 00:00:1719410701.368375   10544 device_compiler.h:186] Compiled cluster using XLA!  This line is logged at most once for the lifetime of the process.\n"
     ]
    },
    {
     "name": "stdout",
     "output_type": "stream",
     "text": [
      "282/282 [==============================] - 88s 246ms/step - loss: 0.6169 - roc_auc_score: 0.7531 - f1_score_normal: 0.6313 - accuracy_score: 0.6865 - val_loss: 0.5790 - val_roc_auc_score: 0.8001 - val_f1_score_normal: 0.3782 - val_accuracy_score: 0.6875\n",
      "Epoch 2/100\n",
      "282/282 [==============================] - 73s 257ms/step - loss: 0.5130 - roc_auc_score: 0.8346 - f1_score_normal: 0.7053 - accuracy_score: 0.7539 - val_loss: 0.5677 - val_roc_auc_score: 0.8465 - val_f1_score_normal: 0.7131 - val_accuracy_score: 0.7335\n",
      "Epoch 3/100\n",
      "282/282 [==============================] - 68s 236ms/step - loss: 0.4683 - roc_auc_score: 0.8630 - f1_score_normal: 0.7403 - accuracy_score: 0.7863 - val_loss: 0.5852 - val_roc_auc_score: 0.8542 - val_f1_score_normal: 0.5294 - val_accuracy_score: 0.7425\n",
      "Epoch 4/100\n",
      "282/282 [==============================] - 72s 251ms/step - loss: 0.4490 - roc_auc_score: 0.8739 - f1_score_normal: 0.7514 - accuracy_score: 0.7967 - val_loss: 0.5048 - val_roc_auc_score: 0.8715 - val_f1_score_normal: 0.5975 - val_accuracy_score: 0.7652\n",
      "Epoch 5/100\n",
      "282/282 [==============================] - 72s 251ms/step - loss: 0.4293 - roc_auc_score: 0.8850 - f1_score_normal: 0.7617 - accuracy_score: 0.8082 - val_loss: 0.4397 - val_roc_auc_score: 0.8809 - val_f1_score_normal: 0.7469 - val_accuracy_score: 0.7935\n",
      "Epoch 6/100\n",
      "282/282 [==============================] - 67s 235ms/step - loss: 0.4212 - roc_auc_score: 0.8904 - f1_score_normal: 0.7678 - accuracy_score: 0.8137 - val_loss: 0.4301 - val_roc_auc_score: 0.8763 - val_f1_score_normal: 0.7040 - val_accuracy_score: 0.7971\n",
      "Epoch 7/100\n",
      "282/282 [==============================] - 72s 251ms/step - loss: 0.4172 - roc_auc_score: 0.8923 - f1_score_normal: 0.7656 - accuracy_score: 0.8128 - val_loss: 0.4464 - val_roc_auc_score: 0.8871 - val_f1_score_normal: 0.7112 - val_accuracy_score: 0.8058\n",
      "Epoch 8/100\n",
      "282/282 [==============================] - 72s 253ms/step - loss: 0.3973 - roc_auc_score: 0.9026 - f1_score_normal: 0.7816 - accuracy_score: 0.8236 - val_loss: 0.4150 - val_roc_auc_score: 0.8840 - val_f1_score_normal: 0.7299 - val_accuracy_score: 0.8051\n",
      "281/282 [============================>.] - ETA: 0s - loss: 0.3963 - roc_auc_score: 0.9031 - f1_score_normal: 0.7824 - accuracy_score: 0.8244Epoch 9/100\n",
      "282/282 [==============================] - 68s 236ms/step - loss: 0.3888 - roc_auc_score: 0.9063 - f1_score_normal: 0.7849 - accuracy_score: 0.8277 - val_loss: 0.5718 - val_roc_auc_score: 0.8888 - val_f1_score_normal: 0.7240 - val_accuracy_score: 0.7312\n",
      "Epoch 10/100\n",
      "282/282 [==============================] - 73s 254ms/step - loss: 0.3846 - roc_auc_score: 0.9092 - f1_score_normal: 0.7910 - accuracy_score: 0.8310 - val_loss: 0.4728 - val_roc_auc_score: 0.8927 - val_f1_score_normal: 0.7562 - val_accuracy_score: 0.7838\n",
      "Epoch 11/100\n",
      "282/282 [==============================] - 71s 248ms/step - loss: 0.3873 - roc_auc_score: 0.9073 - f1_score_normal: 0.7824 - accuracy_score: 0.8279 - val_loss: 0.6100 - val_roc_auc_score: 0.8865 - val_f1_score_normal: 0.7151 - val_accuracy_score: 0.7239\n",
      "Epoch 12/100\n",
      "282/282 [==============================] - 74s 258ms/step - loss: 0.3702 - roc_auc_score: 0.9160 - f1_score_normal: 0.8030 - accuracy_score: 0.8426 - val_loss: 0.4686 - val_roc_auc_score: 0.8901 - val_f1_score_normal: 0.7439 - val_accuracy_score: 0.7685\n",
      "Epoch 13/100\n",
      "282/282 [==============================] - 72s 250ms/step - loss: 0.3693 - roc_auc_score: 0.9163 - f1_score_normal: 0.8031 - accuracy_score: 0.8442 - val_loss: 0.4566 - val_roc_auc_score: 0.8966 - val_f1_score_normal: 0.7690 - val_accuracy_score: 0.8065\n",
      "Epoch 14/100\n",
      "282/282 [==============================] - 77s 271ms/step - loss: 0.3561 - roc_auc_score: 0.9222 - f1_score_normal: 0.8056 - accuracy_score: 0.8463 - val_loss: 0.4093 - val_roc_auc_score: 0.8959 - val_f1_score_normal: 0.7676 - val_accuracy_score: 0.8145\n",
      "Epoch 15/100\n",
      "282/282 [==============================] - 72s 252ms/step - loss: 0.3514 - roc_auc_score: 0.9246 - f1_score_normal: 0.8137 - accuracy_score: 0.8514 - val_loss: 0.4325 - val_roc_auc_score: 0.8949 - val_f1_score_normal: 0.7319 - val_accuracy_score: 0.8121\n",
      "Epoch 16/100\n",
      "282/282 [==============================] - 72s 252ms/step - loss: 0.3426 - roc_auc_score: 0.9280 - f1_score_normal: 0.8122 - accuracy_score: 0.8520 - val_loss: 0.4195 - val_roc_auc_score: 0.8882 - val_f1_score_normal: 0.7463 - val_accuracy_score: 0.8025\n",
      "Epoch 17/100\n",
      "282/282 [==============================] - 71s 249ms/step - loss: 0.3352 - roc_auc_score: 0.9314 - f1_score_normal: 0.8187 - accuracy_score: 0.8590 - val_loss: 0.4022 - val_roc_auc_score: 0.8972 - val_f1_score_normal: 0.7453 - val_accuracy_score: 0.8225\n",
      "Epoch 18/100\n",
      "282/282 [==============================] - 68s 241ms/step - loss: 0.3205 - roc_auc_score: 0.9376 - f1_score_normal: 0.8254 - accuracy_score: 0.8622 - val_loss: 0.4078 - val_roc_auc_score: 0.8990 - val_f1_score_normal: 0.7615 - val_accuracy_score: 0.8241\n",
      "Epoch 19/100\n",
      "282/282 [==============================] - 72s 251ms/step - loss: 0.3171 - roc_auc_score: 0.9385 - f1_score_normal: 0.8259 - accuracy_score: 0.8624 - val_loss: 0.5004 - val_roc_auc_score: 0.8900 - val_f1_score_normal: 0.7598 - val_accuracy_score: 0.8085\n",
      "Epoch 20/100\n",
      "282/282 [==============================] - 72s 251ms/step - loss: 0.3115 - roc_auc_score: 0.9406 - f1_score_normal: 0.8293 - accuracy_score: 0.8657 - val_loss: 0.4271 - val_roc_auc_score: 0.8956 - val_f1_score_normal: 0.7564 - val_accuracy_score: 0.8251\n",
      "Epoch 21/100\n",
      "282/282 [==============================] - 73s 255ms/step - loss: 0.2939 - roc_auc_score: 0.9473 - f1_score_normal: 0.8379 - accuracy_score: 0.8723 - val_loss: 0.6169 - val_roc_auc_score: 0.8837 - val_f1_score_normal: 0.6608 - val_accuracy_score: 0.7935\n",
      "Epoch 22/100\n",
      "282/282 [==============================] - 67s 236ms/step - loss: 0.2947 - roc_auc_score: 0.9472 - f1_score_normal: 0.8428 - accuracy_score: 0.8765 - val_loss: 0.4783 - val_roc_auc_score: 0.8874 - val_f1_score_normal: 0.6977 - val_accuracy_score: 0.8021\n",
      "Epoch 23/100\n",
      "282/282 [==============================] - 72s 250ms/step - loss: 0.2901 - roc_auc_score: 0.9488 - f1_score_normal: 0.8444 - accuracy_score: 0.8771 - val_loss: 0.5010 - val_roc_auc_score: 0.8792 - val_f1_score_normal: 0.6336 - val_accuracy_score: 0.7795\n",
      "Epoch 24/100\n",
      "282/282 [==============================] - 71s 250ms/step - loss: 0.2757 - roc_auc_score: 0.9536 - f1_score_normal: 0.8492 - accuracy_score: 0.8844 - val_loss: 0.6457 - val_roc_auc_score: 0.8863 - val_f1_score_normal: 0.7330 - val_accuracy_score: 0.7485\n",
      "Epoch 25/100\n",
      "282/282 [==============================] - 67s 234ms/step - loss: 0.2609 - roc_auc_score: 0.9585 - f1_score_normal: 0.8610 - accuracy_score: 0.8907 - val_loss: 0.5386 - val_roc_auc_score: 0.8705 - val_f1_score_normal: 0.7311 - val_accuracy_score: 0.7825\n",
      "Epoch 26/100\n",
      "282/282 [==============================] - ETA: 0s - loss: 0.2490 - roc_auc_score: 0.9622 - f1_score_normal: 0.8668 - accuracy_score: 0.8965Restoring model weights from the end of the best epoch: 18.\n",
      "282/282 [==============================] - 72s 249ms/step - loss: 0.2490 - roc_auc_score: 0.9622 - f1_score_normal: 0.8668 - accuracy_score: 0.8965 - val_loss: 0.5508 - val_roc_auc_score: 0.8785 - val_f1_score_normal: 0.6990 - val_accuracy_score: 0.8045\n",
      "Epoch 26: early stopping\n",
      "35/35 [==============================] - 6s 181ms/step - loss: 0.4728 - roc_auc_score: 0.8924 - f1_score_normal: 0.8004 - accuracy_score: 0.8080\n"
     ]
    },
    {
     "name": "stderr",
     "output_type": "stream",
     "text": [
      "2024-06-26 07:36:23,895 - INFO - Test results - [0.4728105068206787, 0.8924482464790344, 0.8003986477851868, 0.808043897151947]\n"
     ]
    },
    {
     "name": "stdout",
     "output_type": "stream",
     "text": [
      "Model Eval results: [0.4728105068206787, 0.8924482464790344, 0.8003986477851868, 0.808043897151947]\n"
     ]
    },
    {
     "name": "stderr",
     "output_type": "stream",
     "text": [
      "/home/sreenidhi/.conda/envs/my-tensorflow-conda/lib/python3.10/site-packages/keras/src/engine/training.py:3103: UserWarning: You are saving your model as an HDF5 file via `model.save()`. This file format is considered legacy. We recommend using instead the native Keras format, e.g. `model.save('my_model.keras')`.\n",
      "  saving_api.save_model(\n",
      "2024-06-26 07:36:24,108 - INFO - VGG19_Catalog_LAC_DHS_Cropped_Data_exlcuding_no_Optic_disc_fundus_Trained_model_June_24_2024 Model trained, Model and training history are saved successfully.\n"
     ]
    }
   ],
   "source": [
    "# @title Execute Training algorithm\n",
    "from eye_ai.models.vgg19_diagnosis_train import main\n",
    "with EA.execution(execution_rid=configuration_records.execution_rid) as exec:\n",
    "  main(train_path=train_cropped_image_path,\n",
    "       valid_path=validation_cropped_image_path, \n",
    "       test_path=test_cropped_image_path, \n",
    "       output_path = output_path,\n",
    "       best_hyperparameters_json_path = best_hyper_parameters_json_path,\n",
    "       model_name = \"VGG19_Catalog_LAC_DHS_Cropped_Data_exlcuding_no_Optic_disc_fundus_Trained_model_June_24_2024\"\n",
    "       )\n",
    "                    \n"
   ]
  },
  {
   "cell_type": "code",
   "execution_count": 18,
   "metadata": {
    "id": "zHqtgNpxrISs"
   },
   "outputs": [
    {
     "name": "stderr",
     "output_type": "stream",
     "text": [
      "2024-06-26 07:36:25,719 - INFO - Initializing uploader: GenericUploader v1.7.1 [Python 3.10.13, Linux-5.10.210-201.852.amzn2.x86_64-x86_64-with-glibc2.26]\n",
      "2024-06-26 07:36:25,721 - INFO - Creating client of type <class 'globus_sdk.services.auth.client.native_client.NativeAppAuthClient'> for service \"auth\"\n",
      "2024-06-26 07:36:25,721 - INFO - Finished initializing AuthLoginClient. client_id='8ef15ba9-2b4a-469c-a163-7fd910c9d111', type(authorizer)=<class 'globus_sdk.authorizers.base.NullAuthorizer'>\n",
      "2024-06-26 07:36:25,760 - INFO - Checking for updated configuration...\n",
      "2024-06-26 07:36:25,864 - INFO - Updated configuration found.\n",
      "2024-06-26 07:36:25,866 - INFO - Scanning files in directory [/data/sreenidhi/EyeAI_working/Execution_Assets/VGG19_Catalog_Model]...\n",
      "2024-06-26 07:36:25,869 - INFO - Including file: [/data/sreenidhi/EyeAI_working/Execution_Assets/VGG19_Catalog_Model/VGG19_Catalog_LAC_DHS_Cropped_Data_exlcuding_no_Optic_disc_fundus_Trained_model_June_24_2024.h5].\n",
      "2024-06-26 07:36:25,870 - INFO - Including file: [/data/sreenidhi/EyeAI_working/Execution_Assets/VGG19_Catalog_Model/training_history_VGG19_Catalog_LAC_DHS_Cropped_Data_exlcuding_no_Optic_disc_fundus_Trained_model_June_24_2024.csv].\n",
      "2024-06-26 07:36:25,870 - INFO - Processing: [/data/sreenidhi/EyeAI_working/Execution_Assets/VGG19_Catalog_Model/VGG19_Catalog_LAC_DHS_Cropped_Data_exlcuding_no_Optic_disc_fundus_Trained_model_June_24_2024.h5]\n",
      "2024-06-26 07:36:25,871 - INFO - Computed metadata for: [/data/sreenidhi/EyeAI_working/Execution_Assets/VGG19_Catalog_Model/VGG19_Catalog_LAC_DHS_Cropped_Data_exlcuding_no_Optic_disc_fundus_Trained_model_June_24_2024.h5].\n",
      "2024-06-26 07:36:25,872 - INFO - Computing checksums for file: [/data/sreenidhi/EyeAI_working/Execution_Assets/VGG19_Catalog_Model/VGG19_Catalog_LAC_DHS_Cropped_Data_exlcuding_no_Optic_disc_fundus_Trained_model_June_24_2024.h5]. Please wait...\n",
      "2024-06-26 07:36:26,430 - INFO - Uploading file: [/data/sreenidhi/EyeAI_working/Execution_Assets/VGG19_Catalog_Model/VGG19_Catalog_LAC_DHS_Cropped_Data_exlcuding_no_Optic_disc_fundus_Trained_model_June_24_2024.h5] to host https://www.eye-ai.org. Please wait...\n",
      "2024-06-26 07:36:31,365 - INFO - File [/data/sreenidhi/EyeAI_working/Execution_Assets/VGG19_Catalog_Model/VGG19_Catalog_LAC_DHS_Cropped_Data_exlcuding_no_Optic_disc_fundus_Trained_model_June_24_2024.h5] upload successful. 232.71 MB transferred at 49.51 MB/second. Elapsed time: 0:00:04.699725.\n",
      "2024-06-26 07:36:31,550 - INFO - Processing: [/data/sreenidhi/EyeAI_working/Execution_Assets/VGG19_Catalog_Model/training_history_VGG19_Catalog_LAC_DHS_Cropped_Data_exlcuding_no_Optic_disc_fundus_Trained_model_June_24_2024.csv]\n",
      "2024-06-26 07:36:31,550 - INFO - Computed metadata for: [/data/sreenidhi/EyeAI_working/Execution_Assets/VGG19_Catalog_Model/training_history_VGG19_Catalog_LAC_DHS_Cropped_Data_exlcuding_no_Optic_disc_fundus_Trained_model_June_24_2024.csv].\n",
      "2024-06-26 07:36:31,551 - INFO - Computing checksums for file: [/data/sreenidhi/EyeAI_working/Execution_Assets/VGG19_Catalog_Model/training_history_VGG19_Catalog_LAC_DHS_Cropped_Data_exlcuding_no_Optic_disc_fundus_Trained_model_June_24_2024.csv]. Please wait...\n",
      "2024-06-26 07:36:31,561 - INFO - Uploading file: [/data/sreenidhi/EyeAI_working/Execution_Assets/VGG19_Catalog_Model/training_history_VGG19_Catalog_LAC_DHS_Cropped_Data_exlcuding_no_Optic_disc_fundus_Trained_model_June_24_2024.csv] to host https://www.eye-ai.org. Please wait...\n",
      "2024-06-26 07:36:31,766 - INFO - File upload processing completed: 2 files were uploaded successfully, 0 files failed to upload due to errors, 0 files were skipped because they did not satisfy the matching criteria of the configuration.\n",
      "2024-06-26 07:36:31,862 - INFO - Initializing uploader: GenericUploader v1.7.1 [Python 3.10.13, Linux-5.10.210-201.852.amzn2.x86_64-x86_64-with-glibc2.26]\n",
      "2024-06-26 07:36:31,863 - INFO - Creating client of type <class 'globus_sdk.services.auth.client.native_client.NativeAppAuthClient'> for service \"auth\"\n",
      "2024-06-26 07:36:31,864 - INFO - Finished initializing AuthLoginClient. client_id='8ef15ba9-2b4a-469c-a163-7fd910c9d111', type(authorizer)=<class 'globus_sdk.authorizers.base.NullAuthorizer'>\n",
      "2024-06-26 07:36:31,900 - INFO - Checking for updated configuration...\n",
      "2024-06-26 07:36:32,026 - INFO - Updated configuration found.\n",
      "2024-06-26 07:36:32,027 - INFO - Scanning files in directory [/data/sreenidhi/EyeAI_working/Execution_Metadata]...\n",
      "2024-06-26 07:36:32,029 - INFO - Including file: [/data/sreenidhi/EyeAI_working/Execution_Metadata/Execution_Config-vgg19_catalog_model_training_sreenidhi_june_24_2024.json].\n",
      "2024-06-26 07:36:32,029 - INFO - Including file: [/data/sreenidhi/EyeAI_working/Execution_Metadata/Runtime_Env-python_environment_snapshot.txt].\n",
      "2024-06-26 07:36:32,030 - INFO - Processing: [/data/sreenidhi/EyeAI_working/Execution_Metadata/Execution_Config-vgg19_catalog_model_training_sreenidhi_june_24_2024.json]\n",
      "2024-06-26 07:36:32,030 - INFO - Computed metadata for: [/data/sreenidhi/EyeAI_working/Execution_Metadata/Execution_Config-vgg19_catalog_model_training_sreenidhi_june_24_2024.json].\n",
      "2024-06-26 07:36:32,031 - INFO - Computing checksums for file: [/data/sreenidhi/EyeAI_working/Execution_Metadata/Execution_Config-vgg19_catalog_model_training_sreenidhi_june_24_2024.json]. Please wait...\n",
      "2024-06-26 07:36:32,043 - INFO - Uploading file: [/data/sreenidhi/EyeAI_working/Execution_Metadata/Execution_Config-vgg19_catalog_model_training_sreenidhi_june_24_2024.json] to host https://www.eye-ai.org. Please wait...\n",
      "2024-06-26 07:36:32,142 - INFO - Updating catalog for file [Execution_Config-vgg19_catalog_model_training_sreenidhi_june_24_2024.json]\n",
      "2024-06-26 07:36:32,186 - INFO - Processing: [/data/sreenidhi/EyeAI_working/Execution_Metadata/Runtime_Env-python_environment_snapshot.txt]\n",
      "2024-06-26 07:36:32,187 - INFO - Computed metadata for: [/data/sreenidhi/EyeAI_working/Execution_Metadata/Runtime_Env-python_environment_snapshot.txt].\n",
      "2024-06-26 07:36:32,187 - INFO - Computing checksums for file: [/data/sreenidhi/EyeAI_working/Execution_Metadata/Runtime_Env-python_environment_snapshot.txt]. Please wait...\n",
      "2024-06-26 07:36:32,197 - INFO - Uploading file: [/data/sreenidhi/EyeAI_working/Execution_Metadata/Runtime_Env-python_environment_snapshot.txt] to host https://www.eye-ai.org. Please wait...\n",
      "2024-06-26 07:36:32,214 - INFO - File upload processing completed: 2 files were uploaded successfully, 0 files failed to upload due to errors, 0 files were skipped because they did not satisfy the matching criteria of the configuration.\n"
     ]
    }
   ],
   "source": [
    "# @title Save Execution Assets (model) and Metadata\n",
    "uploaded_assets = EA.execution_upload(configuration_records.execution_rid, True)"
   ]
  }
 ],
 "metadata": {
  "colab": {
   "include_colab_link": true,
   "provenance": []
  },
  "kernelspec": {
   "display_name": "My TensorFlow (Conda)",
   "language": "python",
   "name": "my-tensorflow-conda"
  },
  "language_info": {
   "codemirror_mode": {
    "name": "ipython",
    "version": 3
   },
   "file_extension": ".py",
   "mimetype": "text/x-python",
   "name": "python",
   "nbconvert_exporter": "python",
   "pygments_lexer": "ipython3",
   "version": "3.10.13"
  }
 },
 "nbformat": 4,
 "nbformat_minor": 4
}
