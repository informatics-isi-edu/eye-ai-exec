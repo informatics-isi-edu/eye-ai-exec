{
 "cells": [
  {
   "cell_type": "markdown",
   "metadata": {
    "colab_type": "text",
    "id": "view-in-github"
   },
   "source": [
    "<a href=\"https://colab.research.google.com/github/informatics-isi-edu/eye-ai-tools/blob/main/notebooks/Eye_ai_get_cropped_image.ipynb\" target=\"_parent\"><img src=\"https://colab.research.google.com/assets/colab-badge.svg\" alt=\"Open In Colab\"/></a>"
   ]
  },
  {
   "cell_type": "markdown",
   "metadata": {},
   "source": [
    "# Image Cropping\n",
    "\n",
    "This notebook applied a pre-trained model to a dataset specified in the configuration file and uploads the cropped images' bounding box to the catalog."
   ]
  },
  {
   "cell_type": "code",
   "execution_count": 1,
   "metadata": {},
   "outputs": [],
   "source": [
    "# Prerequisites to configure colab\n",
    "import sys\n",
    "IN_COLAB = 'google.colab' in sys.modules\n",
    "\n",
    "if IN_COLAB:\n",
    "    !pip install deriva\n",
    "    !pip install bdbag\n",
    "    !pip install --upgrade --force pydantic\n",
    "    !pip install git+https://github.com/informatics-isi-edu/deriva-ml git+https://github.com/informatics-isi-edu/eye-ai-ml\n",
    "    !pip install setuptools_git_versioning\n"
   ]
  },
  {
   "cell_type": "code",
   "execution_count": 2,
   "metadata": {},
   "outputs": [],
   "source": [
    "repo_dir = \"Repos\"   # Set this to be where your github repos are located.\n",
    "%load_ext autoreload\n",
    "%autoreload 2\n",
    "\n",
    "# Update the load path so python can find modules for the model\n",
    "import sys\n",
    "from pathlib import Path\n",
    "sys.path.insert(0, str(Path.home() / repo_dir / \"eye-ai-ml\"))"
   ]
  },
  {
   "cell_type": "code",
   "execution_count": 4,
   "metadata": {
    "id": "qBNfD8vlKgev"
   },
   "outputs": [
    {
     "name": "stdout",
     "output_type": "stream",
     "text": [
      "Using eye_ai version: 1.1.0.post11+git.a4520290\n"
     ]
    }
   ],
   "source": [
    "import json\n",
    "import os\n",
    "import eye_ai\n",
    "from eye_ai.eye_ai import EyeAI\n",
    "import pandas as pd\n",
    "from pathlib import Path, PurePath\n",
    "import logging\n",
    "print(f\"Using eye_ai version: {eye_ai.__version__}\")\n",
    "logging.basicConfig(level=logging.INFO, format='%(asctime)s - %(levelname)s - %(message)s', force=True)"
   ]
  },
  {
   "cell_type": "code",
   "execution_count": 6,
   "metadata": {
    "id": "qw-bW4bORlqQ"
   },
   "outputs": [
    {
     "name": "stdout",
     "output_type": "stream",
     "text": [
      "You are already logged in.\n"
     ]
    }
   ],
   "source": [
    "# @title login to DERIVA via Globus Auth\n",
    "\n",
    "DEBUG_MODE = True #@param [\"False\", \"True\"] {type:\"raw\"}\n",
    "catalog_id = \"eye-ai\" #@param\n",
    "DEFAULT_SERVER = 'dev.eye-ai.org' if DEBUG_MODE else 'www.eye-ai.org'\n",
    "\n",
    "!deriva-globus-auth-utils login --no-browser --host {DEFAULT_SERVER}"
   ]
  },
  {
   "cell_type": "code",
   "execution_count": 18,
   "metadata": {},
   "outputs": [],
   "source": [
    "# Variables to configure the rest of the notebook.\n",
    "\n",
    "cache_dir = '/data'        # Directory in which to cache materialized BDBags for datasets\n",
    "working_dir = '/data'    # Directory in which to place output files for later upload.\n",
    "\n",
    "configuration_rid=\"2-9F8W\"      # Configuration file for this run.  Needs to be changed for each execution."
   ]
  },
  {
   "cell_type": "code",
   "execution_count": 8,
   "metadata": {},
   "outputs": [
    {
     "name": "stderr",
     "output_type": "stream",
     "text": [
      "2024-05-03 11:35:01,198 - INFO - Creating client of type <class 'globus_sdk.services.auth.client.native_client.NativeAppAuthClient'> for service \"auth\"\n",
      "2024-05-03 11:35:01,199 - INFO - Finished initializing AuthLoginClient. client_id='8ef15ba9-2b4a-469c-a163-7fd910c9d111', type(authorizer)=<class 'globus_sdk.authorizers.base.NullAuthorizer'>\n"
     ]
    }
   ],
   "source": [
    "EA = EyeAI(hostname = DEFAULT_SERVER, catalog_id = catalog_id, cache_dir= cache_dir, working_dir=working_dir)\n"
   ]
  },
  {
   "cell_type": "code",
   "execution_count": 19,
   "metadata": {
    "id": "A1Cg1lLQiSk4",
    "scrolled": true
   },
   "outputs": [
    {
     "name": "stderr",
     "output_type": "stream",
     "text": [
      "2024-05-03 11:45:00,186 - INFO - File [/data/lizhiwei/EyeAI_working/Execution_Metadata/Execution_Config-test_cropping.json] transfer successful. 0.69 KB transferred. Elapsed time: 0:00:00.000052.\n",
      "2024-05-03 11:45:00,187 - INFO - Verifying MD5 checksum for downloaded file [/data/lizhiwei/EyeAI_working/Execution_Metadata/Execution_Config-test_cropping.json]\n",
      "2024-05-03 11:45:00,201 - INFO - Configuration validation successful!\n",
      "2024-05-03 11:45:06,856 - INFO - File [/data/lizhiwei/EyeAI_working/Execution_Assets/optic_disk_crop_model.hdf5] transfer successful. 76.75 MB transferred at 15.72 MB/second. Elapsed time: 0:00:04.882836.\n",
      "2024-05-03 11:45:06,857 - INFO - Verifying MD5 checksum for downloaded file [/data/lizhiwei/EyeAI_working/Execution_Assets/optic_disk_crop_model.hdf5]\n"
     ]
    },
    {
     "data": {
      "text/plain": [
       "{'caching_dir': PosixPath('/data'),\n",
       " 'working_dir': PosixPath('/data/lizhiwei/EyeAI_working'),\n",
       " 'vocabs': {'Workflow_Type': [{'name': 'Image Cropping', 'rid': '2-5NRG'}],\n",
       "  'Annotation_Type': [{'name': 'Optic Nerve', 'rid': '2-5PWP'}]},\n",
       " 'execution_rid': '2-9F8Y',\n",
       " 'workflow_rid': '2-9F90',\n",
       " 'bag_paths': [PosixPath('/data/2-5K94_a0c5a1bf0b299df693e906b0314883cdb52b6c29f7a3493fde66e3e5d10dca00/Dataset_2-5K94')],\n",
       " 'assets_paths': [PosixPath('/data/lizhiwei/EyeAI_working/Execution_Assets/optic_disk_crop_model.hdf5')],\n",
       " 'configuration_path': PosixPath('/data/lizhiwei/EyeAI_working/Execution_Metadata/Execution_Config-test_cropping.json')}"
      ]
     },
     "execution_count": 19,
     "metadata": {},
     "output_type": "execute_result"
    }
   ],
   "source": [
    "# @title Initiate an Execution\n",
    "configuration_records = EA.execution_init(configuration_rid=configuration_rid)\n",
    "input_dataset = configuration_records.bag_paths[0] # Assumes that the configuration file only specifies one dataset.\n",
    "configuration_records.model_dump()"
   ]
  },
  {
   "cell_type": "code",
   "execution_count": 20,
   "metadata": {
    "id": "4-fvuHzQ-GFk"
   },
   "outputs": [
    {
     "data": {
      "text/plain": [
       "PurePosixPath('/data/lizhiwei/EyeAI_working/Field_2.csv')"
      ]
     },
     "execution_count": 20,
     "metadata": {},
     "output_type": "execute_result"
    }
   ],
   "source": [
    "# @title Data Preprocessing (Filtering Image.csv for just Field_2 Images)\n",
    "field2_csv_path = EA.filter_angle_2(configuration_records.bag_paths[0])\n",
    "field2_csv_path"
   ]
  },
  {
   "cell_type": "code",
   "execution_count": 22,
   "metadata": {},
   "outputs": [
    {
     "data": {
      "text/plain": [
       "PosixPath('/data/lizhiwei/EyeAI_working/Execution_Assets')"
      ]
     },
     "execution_count": 22,
     "metadata": {},
     "output_type": "execute_result"
    }
   ],
   "source": [
    "EA.execution_assets_path"
   ]
  },
  {
   "cell_type": "code",
   "execution_count": 23,
   "metadata": {
    "id": "AOEOElMhFbP4",
    "scrolled": true
   },
   "outputs": [
    {
     "name": "stderr",
     "output_type": "stream",
     "text": [
      "2024-05-03 11:52:51.295216: E external/local_xla/xla/stream_executor/cuda/cuda_dnn.cc:9261] Unable to register cuDNN factory: Attempting to register factory for plugin cuDNN when one has already been registered\n",
      "2024-05-03 11:52:51.295267: E external/local_xla/xla/stream_executor/cuda/cuda_fft.cc:607] Unable to register cuFFT factory: Attempting to register factory for plugin cuFFT when one has already been registered\n",
      "2024-05-03 11:52:51.296079: E external/local_xla/xla/stream_executor/cuda/cuda_blas.cc:1515] Unable to register cuBLAS factory: Attempting to register factory for plugin cuBLAS when one has already been registered\n",
      "2024-05-03 11:52:51.302389: I tensorflow/core/platform/cpu_feature_guard.cc:182] This TensorFlow binary is optimized to use available CPU instructions in performance-critical operations.\n",
      "To enable the following instructions: AVX2 FMA, in other operations, rebuild TensorFlow with the appropriate compiler flags.\n",
      "2024-05-03 11:52:52.107586: W tensorflow/compiler/tf2tensorrt/utils/py_utils.cc:38] TF-TRT Warning: Could not find TensorRT\n"
     ]
    },
    {
     "name": "stdout",
     "output_type": "stream",
     "text": [
      "Downloading data from https://storage.googleapis.com/tensorflow/keras-applications/vgg19/vgg19_weights_tf_dim_ordering_tf_kernels_notop.h5\n"
     ]
    },
    {
     "name": "stderr",
     "output_type": "stream",
     "text": [
      "2024-05-03 11:52:52.802239: I external/local_xla/xla/stream_executor/cuda/cuda_executor.cc:901] successful NUMA node read from SysFS had negative value (-1), but there must be at least one NUMA node, so returning NUMA node zero. See more at https://github.com/torvalds/linux/blob/v6.0/Documentation/ABI/testing/sysfs-bus-pci#L344-L355\n",
      "2024-05-03 11:52:52.831672: I external/local_xla/xla/stream_executor/cuda/cuda_executor.cc:901] successful NUMA node read from SysFS had negative value (-1), but there must be at least one NUMA node, so returning NUMA node zero. See more at https://github.com/torvalds/linux/blob/v6.0/Documentation/ABI/testing/sysfs-bus-pci#L344-L355\n",
      "2024-05-03 11:52:52.833306: I external/local_xla/xla/stream_executor/cuda/cuda_executor.cc:901] successful NUMA node read from SysFS had negative value (-1), but there must be at least one NUMA node, so returning NUMA node zero. See more at https://github.com/torvalds/linux/blob/v6.0/Documentation/ABI/testing/sysfs-bus-pci#L344-L355\n",
      "2024-05-03 11:52:52.835267: I external/local_xla/xla/stream_executor/cuda/cuda_executor.cc:901] successful NUMA node read from SysFS had negative value (-1), but there must be at least one NUMA node, so returning NUMA node zero. See more at https://github.com/torvalds/linux/blob/v6.0/Documentation/ABI/testing/sysfs-bus-pci#L344-L355\n",
      "2024-05-03 11:52:52.836728: I external/local_xla/xla/stream_executor/cuda/cuda_executor.cc:901] successful NUMA node read from SysFS had negative value (-1), but there must be at least one NUMA node, so returning NUMA node zero. See more at https://github.com/torvalds/linux/blob/v6.0/Documentation/ABI/testing/sysfs-bus-pci#L344-L355\n",
      "2024-05-03 11:52:52.838154: I external/local_xla/xla/stream_executor/cuda/cuda_executor.cc:901] successful NUMA node read from SysFS had negative value (-1), but there must be at least one NUMA node, so returning NUMA node zero. See more at https://github.com/torvalds/linux/blob/v6.0/Documentation/ABI/testing/sysfs-bus-pci#L344-L355\n",
      "2024-05-03 11:52:52.961718: I external/local_xla/xla/stream_executor/cuda/cuda_executor.cc:901] successful NUMA node read from SysFS had negative value (-1), but there must be at least one NUMA node, so returning NUMA node zero. See more at https://github.com/torvalds/linux/blob/v6.0/Documentation/ABI/testing/sysfs-bus-pci#L344-L355\n",
      "2024-05-03 11:52:52.963202: I external/local_xla/xla/stream_executor/cuda/cuda_executor.cc:901] successful NUMA node read from SysFS had negative value (-1), but there must be at least one NUMA node, so returning NUMA node zero. See more at https://github.com/torvalds/linux/blob/v6.0/Documentation/ABI/testing/sysfs-bus-pci#L344-L355\n",
      "2024-05-03 11:52:52.964602: I external/local_xla/xla/stream_executor/cuda/cuda_executor.cc:901] successful NUMA node read from SysFS had negative value (-1), but there must be at least one NUMA node, so returning NUMA node zero. See more at https://github.com/torvalds/linux/blob/v6.0/Documentation/ABI/testing/sysfs-bus-pci#L344-L355\n",
      "2024-05-03 11:52:52.966024: I tensorflow/core/common_runtime/gpu/gpu_device.cc:1929] Created device /job:localhost/replica:0/task:0/device:GPU:0 with 1033 MB memory:  -> device: 0, name: NVIDIA A10G, pci bus id: 0000:00:1e.0, compute capability: 8.6\n"
     ]
    },
    {
     "name": "stdout",
     "output_type": "stream",
     "text": [
      "80134624/80134624 [==============================] - 1s 0us/step\n"
     ]
    },
    {
     "name": "stderr",
     "output_type": "stream",
     "text": [
      "2024-05-03 11:52:54,538 - INFO - Processing image 432880_701304_8649867_Left Field 2.jpg : , trial 1, color channel grey, resize function imgResize_primary\n",
      "2024-05-03 11:52:55.480244: I external/local_xla/xla/stream_executor/cuda/cuda_dnn.cc:454] Loaded cuDNN version 8907\n"
     ]
    },
    {
     "name": "stdout",
     "output_type": "stream",
     "text": [
      "1/1 [==============================] - 1s 747ms/step\n"
     ]
    },
    {
     "name": "stderr",
     "output_type": "stream",
     "text": [
      "2024-05-03 11:52:56,055 - INFO - SVG for 7RBG saved.\n",
      "2024-05-03 11:52:56,128 - INFO - Processing image 432880_701304_8649868_Right Field 2.jpg : , trial 1, color channel grey, resize function imgResize_primary\n"
     ]
    },
    {
     "name": "stdout",
     "output_type": "stream",
     "text": [
      "1/1 [==============================] - 0s 21ms/step\n"
     ]
    },
    {
     "name": "stderr",
     "output_type": "stream",
     "text": [
      "2024-05-03 11:52:56,942 - INFO - SVG for 7RBJ saved.\n",
      "2024-05-03 11:52:57,013 - INFO - Processing image 509908_704433_8674589_Right Field 2.JPG : , trial 1, color channel grey, resize function imgResize_primary\n"
     ]
    },
    {
     "name": "stdout",
     "output_type": "stream",
     "text": [
      "1/1 [==============================] - 0s 21ms/step\n"
     ]
    },
    {
     "name": "stderr",
     "output_type": "stream",
     "text": [
      "2024-05-03 11:52:57,788 - INFO - SVG for 7Z3Y saved.\n",
      "2024-05-03 11:52:57,858 - INFO - Processing image 509908_704433_8674592_Left Field 2.JPG : , trial 1, color channel grey, resize function imgResize_primary\n"
     ]
    },
    {
     "name": "stdout",
     "output_type": "stream",
     "text": [
      "1/1 [==============================] - 0s 20ms/step\n"
     ]
    },
    {
     "name": "stderr",
     "output_type": "stream",
     "text": [
      "2024-05-03 11:52:58,574 - INFO - SVG for 7Z40 saved.\n",
      "2024-05-03 11:52:58,716 - INFO - Processing image 590804_814279_9539350_Right Field 2.JPG : , trial 1, color channel grey, resize function imgResize_primary\n"
     ]
    },
    {
     "name": "stdout",
     "output_type": "stream",
     "text": [
      "1/1 [==============================] - 0s 20ms/step\n"
     ]
    },
    {
     "name": "stderr",
     "output_type": "stream",
     "text": [
      "2024-05-03 11:52:59,402 - INFO - SVG for 9SK8 saved.\n",
      "2024-05-03 11:52:59,533 - INFO - Processing image 590804_814279_9539357_Left Field 2.JPG : , trial 1, color channel grey, resize function imgResize_primary\n"
     ]
    },
    {
     "name": "stdout",
     "output_type": "stream",
     "text": [
      "1/1 [==============================] - 0s 20ms/step\n"
     ]
    },
    {
     "name": "stderr",
     "output_type": "stream",
     "text": [
      "2024-05-03 11:53:00,463 - INFO - SVG for 9SKE saved.\n",
      "2024-05-03 11:53:00,593 - INFO - Processing image 696040_1125153_12014103_Left Field 2.jpg : , trial 1, color channel grey, resize function imgResize_primary\n"
     ]
    },
    {
     "name": "stdout",
     "output_type": "stream",
     "text": [
      "1/1 [==============================] - 0s 20ms/step\n"
     ]
    },
    {
     "name": "stderr",
     "output_type": "stream",
     "text": [
      "2024-05-03 11:53:01,133 - INFO - Processing image 696040_1125153_12014103_Left Field 2.jpg : , trial 2, color channel green, resize function imgResize_primary\n"
     ]
    },
    {
     "name": "stdout",
     "output_type": "stream",
     "text": [
      "1/1 [==============================] - 0s 20ms/step\n"
     ]
    },
    {
     "name": "stderr",
     "output_type": "stream",
     "text": [
      "2024-05-03 11:53:01,932 - INFO - SVG for 9ZYM saved.\n",
      "2024-05-03 11:53:02,063 - INFO - Processing image 696040_1125153_12014105_Right Field 2.jpg : , trial 1, color channel grey, resize function imgResize_primary\n"
     ]
    },
    {
     "name": "stdout",
     "output_type": "stream",
     "text": [
      "1/1 [==============================] - 0s 20ms/step\n"
     ]
    },
    {
     "name": "stderr",
     "output_type": "stream",
     "text": [
      "2024-05-03 11:53:02,840 - INFO - SVG for 9ZYR saved.\n",
      "2024-05-03 11:53:02,971 - INFO - Processing image 696040_967596_10744915_Left Field 2.jpg : , trial 1, color channel grey, resize function imgResize_primary\n"
     ]
    },
    {
     "name": "stdout",
     "output_type": "stream",
     "text": [
      "1/1 [==============================] - 0s 21ms/step\n"
     ]
    },
    {
     "name": "stderr",
     "output_type": "stream",
     "text": [
      "2024-05-03 11:53:03,604 - INFO - Processing image 696040_967596_10744915_Left Field 2.jpg : , trial 2, color channel green, resize function imgResize_primary\n"
     ]
    },
    {
     "name": "stdout",
     "output_type": "stream",
     "text": [
      "1/1 [==============================] - 0s 20ms/step\n"
     ]
    },
    {
     "name": "stderr",
     "output_type": "stream",
     "text": [
      "2024-05-03 11:53:04,306 - INFO - SVG for 9ZZ6 saved.\n",
      "2024-05-03 11:53:04,436 - INFO - Processing image 696040_967596_10744917_Right Field 2.jpg : , trial 1, color channel grey, resize function imgResize_primary\n"
     ]
    },
    {
     "name": "stdout",
     "output_type": "stream",
     "text": [
      "1/1 [==============================] - 0s 20ms/step\n"
     ]
    },
    {
     "name": "stderr",
     "output_type": "stream",
     "text": [
      "2024-05-03 11:53:05,175 - INFO - SVG for 9ZZA saved.\n",
      "2024-05-03 11:53:05,382 - INFO - Processing image 945750_1358563_13780648_Right Field 2.jpg : , trial 1, color channel grey, resize function imgResize_primary\n"
     ]
    },
    {
     "name": "stdout",
     "output_type": "stream",
     "text": [
      "1/1 [==============================] - 0s 20ms/step\n"
     ]
    },
    {
     "name": "stderr",
     "output_type": "stream",
     "text": [
      "2024-05-03 11:53:06,323 - INFO - SVG for AE4P saved.\n",
      "2024-05-03 11:53:06,526 - INFO - Processing image 945750_1358563_13780649_Left Field 2.jpg : , trial 1, color channel grey, resize function imgResize_primary\n"
     ]
    },
    {
     "name": "stdout",
     "output_type": "stream",
     "text": [
      "1/1 [==============================] - 0s 20ms/step\n"
     ]
    },
    {
     "name": "stderr",
     "output_type": "stream",
     "text": [
      "2024-05-03 11:53:07,306 - INFO - SVG for AE4R saved.\n",
      "2024-05-03 11:53:07,411 - INFO - Processing image 974325_1401774_14092247_Left Field 2.jpg : , trial 1, color channel grey, resize function imgResize_primary\n"
     ]
    },
    {
     "name": "stdout",
     "output_type": "stream",
     "text": [
      "1/1 [==============================] - 0s 21ms/step\n"
     ]
    },
    {
     "name": "stderr",
     "output_type": "stream",
     "text": [
      "2024-05-03 11:53:08,098 - INFO - SVG for AFQY saved.\n",
      "2024-05-03 11:53:08,205 - INFO - Processing image 974325_1401774_14092253_Right Field 2.jpg : , trial 1, color channel grey, resize function imgResize_primary\n"
     ]
    },
    {
     "name": "stdout",
     "output_type": "stream",
     "text": [
      "1/1 [==============================] - 0s 20ms/step\n"
     ]
    },
    {
     "name": "stderr",
     "output_type": "stream",
     "text": [
      "2024-05-03 11:53:08,918 - INFO - SVG for AFR6 saved.\n",
      "2024-05-03 11:53:08,921 - INFO - Number of images in CSV: 14\n",
      "2024-05-03 11:53:08,921 - INFO - Number of images in directory: 42\n",
      "2024-05-03 11:53:08,922 - INFO - Number of images in output directory: 2\n",
      "2024-05-03 11:53:08,923 - INFO - Number of cropped images: 14\n",
      "2024-05-03 11:53:08,923 - INFO - --- 14.491947174072266 seconds ---\n"
     ]
    }
   ],
   "source": [
    "# @title Execute Proecss algorithm (Cropping)\n",
    "from eye_ai_ml.glaucoma.optic_disk_crop import preprocess_and_crop\n",
    "with EA.execution(execution_rid=configuration_records.execution_rid) as exec:\n",
    "  preprocess_and_crop(\n",
    "      str(configuration_records.bag_paths[0])+\"/data/assets/Image/\",\n",
    "      field2_csv_path,\n",
    "      str(EA.working_dir)+'/output.csv',\n",
    "      'template.jpg',\n",
    "      str(EA.execution_assets_path),\n",
    "      configuration_records.assets_paths[0],\n",
    "      configuration_records.vocabs['Annotation_Type'][0].rid,\n",
    "      configuration_records.vocabs['Annotation_Type'][0].name,\n",
    "      False\n",
    "      )"
   ]
  },
  {
   "cell_type": "code",
   "execution_count": 24,
   "metadata": {},
   "outputs": [
    {
     "name": "stderr",
     "output_type": "stream",
     "text": [
      "2024-05-03 11:53:27,591 - INFO - Initializing uploader: GenericUploader v1.7.0 [Python 3.10.13, Linux-5.10.210-201.852.amzn2.x86_64-x86_64-with-glibc2.26]\n",
      "2024-05-03 11:53:27,592 - INFO - Creating client of type <class 'globus_sdk.services.auth.client.native_client.NativeAppAuthClient'> for service \"auth\"\n",
      "2024-05-03 11:53:27,593 - INFO - Finished initializing AuthLoginClient. client_id='8ef15ba9-2b4a-469c-a163-7fd910c9d111', type(authorizer)=<class 'globus_sdk.authorizers.base.NullAuthorizer'>\n",
      "2024-05-03 11:53:27,608 - INFO - Checking for updated configuration...\n",
      "2024-05-03 11:53:27,721 - INFO - Updated configuration found.\n",
      "2024-05-03 11:53:27,722 - INFO - Scanning files in directory [/data/lizhiwei/EyeAI_working/Execution_Assets/Execution_Assets]...\n",
      "2024-05-03 11:53:27,726 - INFO - Including file: [/data/lizhiwei/EyeAI_working/Execution_Assets/Execution_Assets/Image_Annotation/Cropped_7RBG.svg].\n",
      "2024-05-03 11:53:27,727 - INFO - Including file: [/data/lizhiwei/EyeAI_working/Execution_Assets/Execution_Assets/Image_Annotation/Cropped_7RBJ.svg].\n",
      "2024-05-03 11:53:27,728 - INFO - Including file: [/data/lizhiwei/EyeAI_working/Execution_Assets/Execution_Assets/Image_Annotation/Cropped_7Z3Y.svg].\n",
      "2024-05-03 11:53:27,728 - INFO - Including file: [/data/lizhiwei/EyeAI_working/Execution_Assets/Execution_Assets/Image_Annotation/Cropped_7Z40.svg].\n",
      "2024-05-03 11:53:27,729 - INFO - Including file: [/data/lizhiwei/EyeAI_working/Execution_Assets/Execution_Assets/Image_Annotation/Cropped_9SK8.svg].\n",
      "2024-05-03 11:53:27,729 - INFO - Including file: [/data/lizhiwei/EyeAI_working/Execution_Assets/Execution_Assets/Image_Annotation/Cropped_9SKE.svg].\n",
      "2024-05-03 11:53:27,730 - INFO - Including file: [/data/lizhiwei/EyeAI_working/Execution_Assets/Execution_Assets/Image_Annotation/Cropped_9ZYM.svg].\n",
      "2024-05-03 11:53:27,730 - INFO - Including file: [/data/lizhiwei/EyeAI_working/Execution_Assets/Execution_Assets/Image_Annotation/Cropped_9ZYR.svg].\n",
      "2024-05-03 11:53:27,731 - INFO - Including file: [/data/lizhiwei/EyeAI_working/Execution_Assets/Execution_Assets/Image_Annotation/Cropped_9ZZ6.svg].\n",
      "2024-05-03 11:53:27,731 - INFO - Including file: [/data/lizhiwei/EyeAI_working/Execution_Assets/Execution_Assets/Image_Annotation/Cropped_9ZZA.svg].\n",
      "2024-05-03 11:53:27,732 - INFO - Including file: [/data/lizhiwei/EyeAI_working/Execution_Assets/Execution_Assets/Image_Annotation/Cropped_AE4P.svg].\n",
      "2024-05-03 11:53:27,732 - INFO - Including file: [/data/lizhiwei/EyeAI_working/Execution_Assets/Execution_Assets/Image_Annotation/Cropped_AE4R.svg].\n",
      "2024-05-03 11:53:27,733 - INFO - Including file: [/data/lizhiwei/EyeAI_working/Execution_Assets/Execution_Assets/Image_Annotation/Cropped_AFQY.svg].\n",
      "2024-05-03 11:53:27,733 - INFO - Including file: [/data/lizhiwei/EyeAI_working/Execution_Assets/Execution_Assets/Image_Annotation/Cropped_AFR6.svg].\n",
      "2024-05-03 11:53:27,735 - INFO - Processing: [/data/lizhiwei/EyeAI_working/Execution_Assets/Execution_Assets/Image_Annotation/Cropped_7RBG.svg]\n",
      "2024-05-03 11:53:27,736 - INFO - Computed metadata for: [/data/lizhiwei/EyeAI_working/Execution_Assets/Execution_Assets/Image_Annotation/Cropped_7RBG.svg].\n",
      "2024-05-03 11:53:27,736 - INFO - Computing checksums for file: [/data/lizhiwei/EyeAI_working/Execution_Assets/Execution_Assets/Image_Annotation/Cropped_7RBG.svg]. Please wait...\n",
      "2024-05-03 11:53:27,746 - INFO - Uploading file: [/data/lizhiwei/EyeAI_working/Execution_Assets/Execution_Assets/Image_Annotation/Cropped_7RBG.svg] to host https://dev.eye-ai.org. Please wait...\n",
      "2024-05-03 11:53:27,780 - INFO - Processing: [/data/lizhiwei/EyeAI_working/Execution_Assets/Execution_Assets/Image_Annotation/Cropped_7RBJ.svg]\n",
      "2024-05-03 11:53:27,781 - INFO - Computed metadata for: [/data/lizhiwei/EyeAI_working/Execution_Assets/Execution_Assets/Image_Annotation/Cropped_7RBJ.svg].\n",
      "2024-05-03 11:53:27,781 - INFO - Computing checksums for file: [/data/lizhiwei/EyeAI_working/Execution_Assets/Execution_Assets/Image_Annotation/Cropped_7RBJ.svg]. Please wait...\n",
      "2024-05-03 11:53:27,788 - INFO - Uploading file: [/data/lizhiwei/EyeAI_working/Execution_Assets/Execution_Assets/Image_Annotation/Cropped_7RBJ.svg] to host https://dev.eye-ai.org. Please wait...\n",
      "2024-05-03 11:53:27,807 - INFO - Processing: [/data/lizhiwei/EyeAI_working/Execution_Assets/Execution_Assets/Image_Annotation/Cropped_7Z3Y.svg]\n",
      "2024-05-03 11:53:27,808 - INFO - Computed metadata for: [/data/lizhiwei/EyeAI_working/Execution_Assets/Execution_Assets/Image_Annotation/Cropped_7Z3Y.svg].\n",
      "2024-05-03 11:53:27,809 - INFO - Computing checksums for file: [/data/lizhiwei/EyeAI_working/Execution_Assets/Execution_Assets/Image_Annotation/Cropped_7Z3Y.svg]. Please wait...\n",
      "2024-05-03 11:53:27,815 - INFO - Uploading file: [/data/lizhiwei/EyeAI_working/Execution_Assets/Execution_Assets/Image_Annotation/Cropped_7Z3Y.svg] to host https://dev.eye-ai.org. Please wait...\n",
      "2024-05-03 11:53:27,834 - INFO - Processing: [/data/lizhiwei/EyeAI_working/Execution_Assets/Execution_Assets/Image_Annotation/Cropped_7Z40.svg]\n",
      "2024-05-03 11:53:27,834 - INFO - Computed metadata for: [/data/lizhiwei/EyeAI_working/Execution_Assets/Execution_Assets/Image_Annotation/Cropped_7Z40.svg].\n",
      "2024-05-03 11:53:27,835 - INFO - Computing checksums for file: [/data/lizhiwei/EyeAI_working/Execution_Assets/Execution_Assets/Image_Annotation/Cropped_7Z40.svg]. Please wait...\n",
      "2024-05-03 11:53:27,841 - INFO - Uploading file: [/data/lizhiwei/EyeAI_working/Execution_Assets/Execution_Assets/Image_Annotation/Cropped_7Z40.svg] to host https://dev.eye-ai.org. Please wait...\n",
      "2024-05-03 11:53:27,859 - INFO - Processing: [/data/lizhiwei/EyeAI_working/Execution_Assets/Execution_Assets/Image_Annotation/Cropped_9SK8.svg]\n",
      "2024-05-03 11:53:27,860 - INFO - Computed metadata for: [/data/lizhiwei/EyeAI_working/Execution_Assets/Execution_Assets/Image_Annotation/Cropped_9SK8.svg].\n",
      "2024-05-03 11:53:27,860 - INFO - Computing checksums for file: [/data/lizhiwei/EyeAI_working/Execution_Assets/Execution_Assets/Image_Annotation/Cropped_9SK8.svg]. Please wait...\n",
      "2024-05-03 11:53:27,866 - INFO - Uploading file: [/data/lizhiwei/EyeAI_working/Execution_Assets/Execution_Assets/Image_Annotation/Cropped_9SK8.svg] to host https://dev.eye-ai.org. Please wait...\n",
      "2024-05-03 11:53:27,880 - INFO - Processing: [/data/lizhiwei/EyeAI_working/Execution_Assets/Execution_Assets/Image_Annotation/Cropped_9SKE.svg]\n",
      "2024-05-03 11:53:27,880 - INFO - Computed metadata for: [/data/lizhiwei/EyeAI_working/Execution_Assets/Execution_Assets/Image_Annotation/Cropped_9SKE.svg].\n",
      "2024-05-03 11:53:27,881 - INFO - Computing checksums for file: [/data/lizhiwei/EyeAI_working/Execution_Assets/Execution_Assets/Image_Annotation/Cropped_9SKE.svg]. Please wait...\n",
      "2024-05-03 11:53:27,887 - INFO - Uploading file: [/data/lizhiwei/EyeAI_working/Execution_Assets/Execution_Assets/Image_Annotation/Cropped_9SKE.svg] to host https://dev.eye-ai.org. Please wait...\n",
      "2024-05-03 11:53:27,900 - INFO - Processing: [/data/lizhiwei/EyeAI_working/Execution_Assets/Execution_Assets/Image_Annotation/Cropped_9ZYM.svg]\n",
      "2024-05-03 11:53:27,900 - INFO - Computed metadata for: [/data/lizhiwei/EyeAI_working/Execution_Assets/Execution_Assets/Image_Annotation/Cropped_9ZYM.svg].\n",
      "2024-05-03 11:53:27,901 - INFO - Computing checksums for file: [/data/lizhiwei/EyeAI_working/Execution_Assets/Execution_Assets/Image_Annotation/Cropped_9ZYM.svg]. Please wait...\n",
      "2024-05-03 11:53:27,907 - INFO - Uploading file: [/data/lizhiwei/EyeAI_working/Execution_Assets/Execution_Assets/Image_Annotation/Cropped_9ZYM.svg] to host https://dev.eye-ai.org. Please wait...\n",
      "2024-05-03 11:53:27,920 - INFO - Processing: [/data/lizhiwei/EyeAI_working/Execution_Assets/Execution_Assets/Image_Annotation/Cropped_9ZYR.svg]\n",
      "2024-05-03 11:53:27,920 - INFO - Computed metadata for: [/data/lizhiwei/EyeAI_working/Execution_Assets/Execution_Assets/Image_Annotation/Cropped_9ZYR.svg].\n",
      "2024-05-03 11:53:27,921 - INFO - Computing checksums for file: [/data/lizhiwei/EyeAI_working/Execution_Assets/Execution_Assets/Image_Annotation/Cropped_9ZYR.svg]. Please wait...\n",
      "2024-05-03 11:53:27,927 - INFO - Uploading file: [/data/lizhiwei/EyeAI_working/Execution_Assets/Execution_Assets/Image_Annotation/Cropped_9ZYR.svg] to host https://dev.eye-ai.org. Please wait...\n",
      "2024-05-03 11:53:27,939 - INFO - Processing: [/data/lizhiwei/EyeAI_working/Execution_Assets/Execution_Assets/Image_Annotation/Cropped_9ZZ6.svg]\n",
      "2024-05-03 11:53:27,940 - INFO - Computed metadata for: [/data/lizhiwei/EyeAI_working/Execution_Assets/Execution_Assets/Image_Annotation/Cropped_9ZZ6.svg].\n",
      "2024-05-03 11:53:27,940 - INFO - Computing checksums for file: [/data/lizhiwei/EyeAI_working/Execution_Assets/Execution_Assets/Image_Annotation/Cropped_9ZZ6.svg]. Please wait...\n",
      "2024-05-03 11:53:27,947 - INFO - Uploading file: [/data/lizhiwei/EyeAI_working/Execution_Assets/Execution_Assets/Image_Annotation/Cropped_9ZZ6.svg] to host https://dev.eye-ai.org. Please wait...\n",
      "2024-05-03 11:53:27,961 - INFO - Processing: [/data/lizhiwei/EyeAI_working/Execution_Assets/Execution_Assets/Image_Annotation/Cropped_9ZZA.svg]\n",
      "2024-05-03 11:53:27,961 - INFO - Computed metadata for: [/data/lizhiwei/EyeAI_working/Execution_Assets/Execution_Assets/Image_Annotation/Cropped_9ZZA.svg].\n",
      "2024-05-03 11:53:27,962 - INFO - Computing checksums for file: [/data/lizhiwei/EyeAI_working/Execution_Assets/Execution_Assets/Image_Annotation/Cropped_9ZZA.svg]. Please wait...\n",
      "2024-05-03 11:53:27,968 - INFO - Uploading file: [/data/lizhiwei/EyeAI_working/Execution_Assets/Execution_Assets/Image_Annotation/Cropped_9ZZA.svg] to host https://dev.eye-ai.org. Please wait...\n",
      "2024-05-03 11:53:27,981 - INFO - Processing: [/data/lizhiwei/EyeAI_working/Execution_Assets/Execution_Assets/Image_Annotation/Cropped_AE4P.svg]\n",
      "2024-05-03 11:53:27,982 - INFO - Computed metadata for: [/data/lizhiwei/EyeAI_working/Execution_Assets/Execution_Assets/Image_Annotation/Cropped_AE4P.svg].\n",
      "2024-05-03 11:53:27,982 - INFO - Computing checksums for file: [/data/lizhiwei/EyeAI_working/Execution_Assets/Execution_Assets/Image_Annotation/Cropped_AE4P.svg]. Please wait...\n",
      "2024-05-03 11:53:27,989 - INFO - Uploading file: [/data/lizhiwei/EyeAI_working/Execution_Assets/Execution_Assets/Image_Annotation/Cropped_AE4P.svg] to host https://dev.eye-ai.org. Please wait...\n",
      "2024-05-03 11:53:28,002 - INFO - Processing: [/data/lizhiwei/EyeAI_working/Execution_Assets/Execution_Assets/Image_Annotation/Cropped_AE4R.svg]\n",
      "2024-05-03 11:53:28,003 - INFO - Computed metadata for: [/data/lizhiwei/EyeAI_working/Execution_Assets/Execution_Assets/Image_Annotation/Cropped_AE4R.svg].\n",
      "2024-05-03 11:53:28,004 - INFO - Computing checksums for file: [/data/lizhiwei/EyeAI_working/Execution_Assets/Execution_Assets/Image_Annotation/Cropped_AE4R.svg]. Please wait...\n",
      "2024-05-03 11:53:28,011 - INFO - Uploading file: [/data/lizhiwei/EyeAI_working/Execution_Assets/Execution_Assets/Image_Annotation/Cropped_AE4R.svg] to host https://dev.eye-ai.org. Please wait...\n",
      "2024-05-03 11:53:28,025 - INFO - Processing: [/data/lizhiwei/EyeAI_working/Execution_Assets/Execution_Assets/Image_Annotation/Cropped_AFQY.svg]\n",
      "2024-05-03 11:53:28,025 - INFO - Computed metadata for: [/data/lizhiwei/EyeAI_working/Execution_Assets/Execution_Assets/Image_Annotation/Cropped_AFQY.svg].\n",
      "2024-05-03 11:53:28,026 - INFO - Computing checksums for file: [/data/lizhiwei/EyeAI_working/Execution_Assets/Execution_Assets/Image_Annotation/Cropped_AFQY.svg]. Please wait...\n",
      "2024-05-03 11:53:28,033 - INFO - Uploading file: [/data/lizhiwei/EyeAI_working/Execution_Assets/Execution_Assets/Image_Annotation/Cropped_AFQY.svg] to host https://dev.eye-ai.org. Please wait...\n",
      "2024-05-03 11:53:28,047 - INFO - Processing: [/data/lizhiwei/EyeAI_working/Execution_Assets/Execution_Assets/Image_Annotation/Cropped_AFR6.svg]\n",
      "2024-05-03 11:53:28,048 - INFO - Computed metadata for: [/data/lizhiwei/EyeAI_working/Execution_Assets/Execution_Assets/Image_Annotation/Cropped_AFR6.svg].\n",
      "2024-05-03 11:53:28,048 - INFO - Computing checksums for file: [/data/lizhiwei/EyeAI_working/Execution_Assets/Execution_Assets/Image_Annotation/Cropped_AFR6.svg]. Please wait...\n",
      "2024-05-03 11:53:28,055 - INFO - Uploading file: [/data/lizhiwei/EyeAI_working/Execution_Assets/Execution_Assets/Image_Annotation/Cropped_AFR6.svg] to host https://dev.eye-ai.org. Please wait...\n",
      "2024-05-03 11:53:28,069 - INFO - File upload processing completed: 14 files were uploaded successfully, 0 files failed to upload due to errors, 0 files were skipped because they did not satisfy the matching criteria of the configuration.\n",
      "2024-05-03 11:53:28,126 - INFO - Initializing uploader: GenericUploader v1.7.0 [Python 3.10.13, Linux-5.10.210-201.852.amzn2.x86_64-x86_64-with-glibc2.26]\n",
      "2024-05-03 11:53:28,126 - INFO - Creating client of type <class 'globus_sdk.services.auth.client.native_client.NativeAppAuthClient'> for service \"auth\"\n",
      "2024-05-03 11:53:28,127 - INFO - Finished initializing AuthLoginClient. client_id='8ef15ba9-2b4a-469c-a163-7fd910c9d111', type(authorizer)=<class 'globus_sdk.authorizers.base.NullAuthorizer'>\n",
      "2024-05-03 11:53:28,144 - INFO - Checking for updated configuration...\n",
      "2024-05-03 11:53:28,231 - INFO - Updated configuration found.\n",
      "2024-05-03 11:53:28,232 - INFO - Scanning files in directory [/data/lizhiwei/EyeAI_working/Execution_Metadata]...\n",
      "2024-05-03 11:53:28,234 - INFO - Including file: [/data/lizhiwei/EyeAI_working/Execution_Metadata/Runtime_Env-python_environment_snapshot.txt].\n",
      "2024-05-03 11:53:28,234 - INFO - Including file: [/data/lizhiwei/EyeAI_working/Execution_Metadata/Execution_Config-test_cropping.json].\n",
      "2024-05-03 11:53:28,235 - INFO - Processing: [/data/lizhiwei/EyeAI_working/Execution_Metadata/Runtime_Env-python_environment_snapshot.txt]\n",
      "2024-05-03 11:53:28,236 - INFO - Computed metadata for: [/data/lizhiwei/EyeAI_working/Execution_Metadata/Runtime_Env-python_environment_snapshot.txt].\n",
      "2024-05-03 11:53:28,236 - INFO - Computing checksums for file: [/data/lizhiwei/EyeAI_working/Execution_Metadata/Runtime_Env-python_environment_snapshot.txt]. Please wait...\n",
      "2024-05-03 11:53:28,246 - INFO - Uploading file: [/data/lizhiwei/EyeAI_working/Execution_Metadata/Runtime_Env-python_environment_snapshot.txt] to host https://dev.eye-ai.org. Please wait...\n",
      "2024-05-03 11:53:28,439 - INFO - Processing: [/data/lizhiwei/EyeAI_working/Execution_Metadata/Execution_Config-test_cropping.json]\n",
      "2024-05-03 11:53:28,439 - INFO - Computed metadata for: [/data/lizhiwei/EyeAI_working/Execution_Metadata/Execution_Config-test_cropping.json].\n",
      "2024-05-03 11:53:28,440 - INFO - Computing checksums for file: [/data/lizhiwei/EyeAI_working/Execution_Metadata/Execution_Config-test_cropping.json]. Please wait...\n",
      "2024-05-03 11:53:28,448 - INFO - Uploading file: [/data/lizhiwei/EyeAI_working/Execution_Metadata/Execution_Config-test_cropping.json] to host https://dev.eye-ai.org. Please wait...\n",
      "2024-05-03 11:53:28,610 - INFO - Updating catalog for file [Execution_Config-test_cropping.json]\n",
      "2024-05-03 11:53:28,649 - INFO - File upload processing completed: 2 files were uploaded successfully, 0 files failed to upload due to errors, 0 files were skipped because they did not satisfy the matching criteria of the configuration.\n"
     ]
    }
   ],
   "source": [
    "# @title Save Execution Assets (model) and Metadata\n",
    "uploaded_assets = EA.execution_upload(configuration_records.execution_rid, False)\n"
   ]
  },
  {
   "cell_type": "code",
   "execution_count": null,
   "metadata": {},
   "outputs": [],
   "source": []
  }
 ],
 "metadata": {
  "colab": {
   "include_colab_link": true,
   "provenance": []
  },
  "kernelspec": {
   "display_name": "My Tensorflow",
   "language": "python",
   "name": "my-tensorflow"
  },
  "language_info": {
   "codemirror_mode": {
    "name": "ipython",
    "version": 3
   },
   "file_extension": ".py",
   "mimetype": "text/x-python",
   "name": "python",
   "nbconvert_exporter": "python",
   "pygments_lexer": "ipython3",
   "version": "3.10.13"
  }
 },
 "nbformat": 4,
 "nbformat_minor": 4
}
