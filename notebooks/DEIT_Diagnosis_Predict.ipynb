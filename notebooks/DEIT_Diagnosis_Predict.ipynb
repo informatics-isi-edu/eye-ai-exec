{
 "cells": [
  {
   "cell_type": "markdown",
   "metadata": {
    "id": "view-in-github",
    "colab_type": "text"
   },
   "source": "<a href=\"https://colab.research.google.com/github/informatics-isi-edu/eye-ai-exec/blob/main/notebooks/DEIT_Diagnosis_Predict\" target=\"_parent\"><img src=\"https://colab.research.google.com/assets/colab-badge.svg\" alt=\"Open In Colab\"/></a>"
  },
  {
   "metadata": {},
   "cell_type": "markdown",
   "source": [
    "# DEIT Training\n",
    "\n",
    "This notebook is used to train DEIT model for glacoma diagnosis."
   ]
  },
  {
   "metadata": {},
   "cell_type": "code",
   "outputs": [],
   "execution_count": null,
   "source": [
    "import sys\n",
    "IN_COLAB = 'google.colab' in sys.modules\n",
    "\n",
    "if IN_COLAB:\n",
    "    !pip install deriva\n",
    "    !pip install bdbag\n",
    "    !pip install --upgrade --force pydantic\n",
    "    !pip install git+https://github.com/informatics-isi-edu/deriva-ml git+https://github.com/informatics-isi-edu/eye-ai-ml"
   ]
  },
  {
   "metadata": {},
   "cell_type": "code",
   "outputs": [],
   "execution_count": null,
   "source": [
    "# Prerequisites\n",
    "\n",
    "import json\n",
    "import os\n",
    "from eye_ai.eye_ai import EyeAI\n",
    "import pandas as pd\n",
    "from pathlib import Path, PurePath\n",
    "import logging\n",
    "import torch\n"
   ]
  },
  {
   "cell_type": "code",
   "execution_count": null,
   "metadata": {
    "id": "qw-bW4bORlqQ"
   },
   "outputs": [],
   "source": [
    "# @title login to DERIVA via Globus Auth\n",
    "\n",
    "DEBUG_MODE = False #@param [\"False\", \"True\"] {type:\"raw\"}\n",
    "catalog_id = \"eye-ai\" #@param\n",
    "DEFAULT_SERVER = 'dev.eye-ai.org' if DEBUG_MODE else 'www.eye-ai.org'\n",
    "\n",
    "!deriva-globus-auth-utils login --no-browser --host {DEFAULT_SERVER}\n"
   ]
  },
  {
   "metadata": {},
   "cell_type": "markdown",
   "source": "Connect to Eye-AI catalog.  Configure to store data local cache and working directories.  Initialize Eye-AI for pending execution based on the provided configuration file."
  },
  {
   "metadata": {},
   "cell_type": "code",
   "outputs": [],
   "execution_count": null,
   "source": [
    "# Variables to configure the rest of the notebook.\n",
    "\n",
    "cache_dir = 'cache'        # Directory in which to cache materialized BDBags for datasets\n",
    "working_dir = 'working'    # Directory in which to place output files for later upload.\n",
    "\n",
    "configuration_rid=\"2-A5JP\"  # 10% of subjects for train, validation, and test set\n",
    "# configuration_rid=\"2-A5JR\"   Full set of subjects for train, validation, and test set"
   ]
  },
  {
   "metadata": {},
   "cell_type": "code",
   "outputs": [],
   "execution_count": null,
   "source": [
    "EA = EyeAI(hostname = DEFAULT_SERVER, catalog_id = catalog_id, cache_dir= cache_dir, working_dir=working_dir)\n",
    "logging.basicConfig(level=logging.INFO, format='%(asctime)s - %(levelname)s - %(message)s', force=True)"
   ]
  },
  {
   "cell_type": "code",
   "execution_count": null,
   "metadata": {
    "colab": {
     "background_save": true
    },
    "id": "kCIfOvbUXTGB"
   },
   "outputs": [],
   "source": [
    "# @title Initiate an Execution\n",
    "configuration_records = EA.execution_init(configuration_rid=configuration_rid)\n",
    "configuration_records.model_dump()"
   ]
  },
  {
   "cell_type": "code",
   "execution_count": null,
   "metadata": {
    "id": "iUuTRgyg7Ys1"
   },
   "outputs": [],
   "source": [
    "# @title Data Preprocessing (Filtering Image.csv for just Field_2 Images)\n",
    "train_dir = configuration_records.bag_paths[0]\n",
    "validation_dir = configuration_records.bag_paths[1]\n",
    "test_dir = configuration_records.bag_paths[2]\n",
    "\n",
    "train_cropped_image_path, train_cropped_csv = EA.create_cropped_images(str(train_dir), \n",
    "                                                                       output_dir = working_dir, \n",
    "                                                                       crop_to_eye=False)\n",
    "validation_cropped_image_path, validation_cropped_csv = EA.create_cropped_images(str(validation_dir), \n",
    "                                                                                 output_dir = working_dir, \n",
    "                                                                                 crop_to_eye=False)\n",
    "test_cropped_image_path, test_cropped_csv = EA.create_cropped_images(str(test_dir), \n",
    "                                                                     output_dir = working_dir, \n",
    "                                                                     crop_to_eye=False)\n"
   ]
  },
  {
   "cell_type": "code",
   "execution_count": null,
   "metadata": {
    "id": "YIJj6Uj73sOm"
   },
   "outputs": [],
   "source": [
    "# @title Execute Proecss algorithm (Cropping)\n",
    "from eye_ai.models.deit_diagnosis_predict import predict\n",
    "with EA.execution(execution_rid=configuration_records.execution_rid) as exec:\n",
    "  model = torch.load(PATH)"
   ]
  },
  {
   "cell_type": "code",
   "execution_count": null,
   "metadata": {
    "id": "zHqtgNpxrISs"
   },
   "outputs": [],
   "source": [
    "# @title Save Execution Assets (model) and Metadata\n",
    "uploaded_assets = EA.execution_upload(configuration_records.execution_rid, False)"
   ]
  },
  {
   "cell_type": "code",
   "execution_count": null,
   "metadata": {
    "id": "sweKxvocr_uR"
   },
   "outputs": [],
   "source": []
  }
 ],
 "metadata": {
  "colab": {
   "provenance": [],
   "include_colab_link": true
  },
  "kernelspec": {
   "display_name": "Python 3",
   "name": "python3"
  },
  "language_info": {
   "name": "python"
  }
 },
 "nbformat": 4,
 "nbformat_minor": 0
}
