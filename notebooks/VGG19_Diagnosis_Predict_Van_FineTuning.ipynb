{
 "cells": [
  {
   "cell_type": "markdown",
   "metadata": {
    "colab_type": "text",
    "id": "view-in-github"
   },
   "source": [
    "<a href=\"https://colab.research.google.com/github/informatics-isi-edu/eye-ai-exec/blob/main/notebooks/VGG19_Diagnosis_Train.ipynb\" target=\"_parent\"><img src=\"https://colab.research.google.com/assets/colab-badge.svg\" alt=\"Open In Colab\"/></a>"
   ]
  },
  {
   "cell_type": "markdown",
   "metadata": {
    "id": "yVq_jMdfx7Ni"
   },
   "source": [
    "# VGG19 Training --- Fine tuning on Van's Labels\n",
    "\n",
    "This notebook is used to train VGG19 model for glacoma diagnosis."
   ]
  },
  {
   "cell_type": "code",
   "execution_count": 7,
   "metadata": {
    "id": "0B5DczZgx7Nl"
   },
   "outputs": [],
   "source": [
    "# import sys\n",
    "# IN_COLAB = 'google.colab' in sys.modules\n",
    "\n",
    "# if IN_COLAB:\n",
    "#     !pip install deriva\n",
    "#     !pip install bdbag\n",
    "#     !pip install --upgrade --force pydantic\n",
    "#     !pip install git+https://github.com/informatics-isi-edu/deriva-ml git+https://github.com/informatics-isi-edu/eye-ai-ml"
   ]
  },
  {
   "cell_type": "code",
   "execution_count": 8,
   "metadata": {},
   "outputs": [],
   "source": [
    "repo_dir = \"Repos\"   # Set this to be where your github repos are located.\n",
    "%load_ext autoreload\n",
    "%autoreload 2\n",
    "\n",
    "# Update the load path so python can find modules for the model\n",
    "import sys\n",
    "from pathlib import Path\n",
    "sys.path.insert(0, str(Path.home() / repo_dir / \"eye-ai-ml\"))"
   ]
  },
  {
   "cell_type": "code",
   "execution_count": 9,
   "metadata": {
    "id": "ZgmzhX4Fx7Nm"
   },
   "outputs": [],
   "source": [
    "# Prerequisites\n",
    "\n",
    "import json\n",
    "import os\n",
    "from eye_ai.eye_ai import EyeAI\n",
    "import pandas as pd\n",
    "from pathlib import Path, PurePath\n",
    "import logging\n",
    "# import torch\n",
    "\n",
    "logging.basicConfig(level=logging.INFO, format='%(asctime)s - %(levelname)s - %(message)s', force=True)"
   ]
  },
  {
   "cell_type": "code",
   "execution_count": 10,
   "metadata": {
    "id": "qw-bW4bORlqQ"
   },
   "outputs": [
    {
     "name": "stderr",
     "output_type": "stream",
     "text": [
      "2024-07-01 07:39:04,787 - INFO - Creating client of type <class 'globus_sdk.services.auth.client.native_client.NativeAppAuthClient'> for service \"auth\"\n",
      "2024-07-01 07:39:04,788 - INFO - Finished initializing AuthLoginClient. client_id='8ef15ba9-2b4a-469c-a163-7fd910c9d111', type(authorizer)=<class 'globus_sdk.authorizers.base.NullAuthorizer'>\n"
     ]
    },
    {
     "name": "stdout",
     "output_type": "stream",
     "text": [
      "You are already logged in.\n"
     ]
    }
   ],
   "source": [
    "\n",
    "from deriva.core.utils.globus_auth_utils import GlobusNativeLogin\n",
    "catalog_id = \"eye-ai\" #@param\n",
    "host = 'www.eye-ai.org'\n",
    "\n",
    "\n",
    "gnl = GlobusNativeLogin(host=host)\n",
    "if gnl.is_logged_in([host]):\n",
    "    print(\"You are already logged in.\")\n",
    "else:\n",
    "    gnl.login([host], no_local_server=True, no_browser=True, refresh_tokens=True, update_bdbag_keychain=True)\n",
    "    print(\"Login Successful\")"
   ]
  },
  {
   "cell_type": "markdown",
   "metadata": {
    "id": "imD3DJ4lx7Nm"
   },
   "source": [
    "Connect to Eye-AI catalog.  Configure to store data local cache and working directories.  Initialize Eye-AI for pending execution based on the provided configuration file."
   ]
  },
  {
   "cell_type": "code",
   "execution_count": 11,
   "metadata": {
    "id": "m5U3w6SPx7Nn"
   },
   "outputs": [],
   "source": [
    "# Variables to configure the rest of the notebook.\n",
    "\n",
    "cache_dir = '/data'        # Directory in which to cache materialized BDBags for datasets\n",
    "working_dir = '/data'    # Directory in which to place output files for later upload.\n",
    "\n",
    "configuration_rid = \"2-C94P\" # rid\n",
    "# Change the confi_file with bag_url=[\"minid: train\", \"minid: Valid\", \"minid: test\"]\n"
   ]
  },
  {
   "cell_type": "code",
   "execution_count": 12,
   "metadata": {
    "id": "KkHsSCJXx7Nn"
   },
   "outputs": [
    {
     "name": "stderr",
     "output_type": "stream",
     "text": [
      "2024-07-01 07:39:04,843 - INFO - Creating client of type <class 'globus_sdk.services.auth.client.native_client.NativeAppAuthClient'> for service \"auth\"\n",
      "2024-07-01 07:39:04,844 - INFO - Finished initializing AuthLoginClient. client_id='8ef15ba9-2b4a-469c-a163-7fd910c9d111', type(authorizer)=<class 'globus_sdk.authorizers.base.NullAuthorizer'>\n"
     ]
    }
   ],
   "source": [
    "EA = EyeAI(hostname = host, catalog_id = catalog_id, cache_dir= cache_dir, working_dir=working_dir)"
   ]
  },
  {
   "cell_type": "code",
   "execution_count": 13,
   "metadata": {
    "colab": {
     "background_save": true
    },
    "id": "kCIfOvbUXTGB",
    "scrolled": true
   },
   "outputs": [
    {
     "name": "stderr",
     "output_type": "stream",
     "text": [
      "2024-07-01 07:39:05,396 - INFO - File [/data/sreenidhi/EyeAI_working/Execution_Metadata/Execution_Config-vgg19_catalog_model_training_LACDHS_van_finetuning_graded_labels_sreenidhi_june_30_2024.json] transfer successful. 1.05 KB transferred. Elapsed time: 0:00:00.000126.\n",
      "2024-07-01 07:39:05,397 - INFO - Verifying MD5 checksum for downloaded file [/data/sreenidhi/EyeAI_working/Execution_Metadata/Execution_Config-vgg19_catalog_model_training_LACDHS_van_finetuning_graded_labels_sreenidhi_june_30_2024.json]\n",
      "2024-07-01 07:39:05,414 - INFO - Configuration validation successful!\n",
      "2024-07-01 07:39:14,690 - INFO - File [/data/sreenidhi/EyeAI_working/Execution_Assets/best_hyperparameters_exluding_no_optic_disc_images_june_24_2024.json] transfer successful. 0.69 KB transferred. Elapsed time: 0:00:00.000076.\n",
      "2024-07-01 07:39:14,690 - INFO - Verifying SHA256 checksum for downloaded file [/data/sreenidhi/EyeAI_working/Execution_Assets/best_hyperparameters_exluding_no_optic_disc_images_june_24_2024.json]\n",
      "2024-07-01 07:39:14,983 - INFO - File [/data/sreenidhi/EyeAI_working/Execution_Assets/train_no_optic_disc_image_ids.csv] transfer successful. 0.34 KB transferred. Elapsed time: 0:00:00.000052.\n",
      "2024-07-01 07:39:14,983 - INFO - Verifying MD5 checksum for downloaded file [/data/sreenidhi/EyeAI_working/Execution_Assets/train_no_optic_disc_image_ids.csv]\n",
      "2024-07-01 07:39:15,239 - INFO - File [/data/sreenidhi/EyeAI_working/Execution_Assets/valid_no_optic_disc_image_ids.csv] transfer successful. 0.15 KB transferred. Elapsed time: 0:00:00.000054.\n",
      "2024-07-01 07:39:15,239 - INFO - Verifying MD5 checksum for downloaded file [/data/sreenidhi/EyeAI_working/Execution_Assets/valid_no_optic_disc_image_ids.csv]\n",
      "2024-07-01 07:39:20,445 - INFO - File [/data/sreenidhi/EyeAI_working/Execution_Assets/VGG19_Catalog_LAC_DHS_Cropped_Data_exlcuding_no_Optic_disc_fundus_Trained_model_June_24_2024.h5] transfer successful. 232.71 MB transferred at 48.04 MB/second. Elapsed time: 0:00:04.843961.\n"
     ]
    },
    {
     "data": {
      "text/plain": [
       "{'caching_dir': PosixPath('/data'),\n",
       " 'working_dir': PosixPath('/data/sreenidhi/EyeAI_working'),\n",
       " 'vocabs': {'Workflow_Type': [{'name': 'VGG19_Catalog_Model_LACDHS_Van_Finetuning',\n",
       "    'rid': '2-C94T'}],\n",
       "  'Execution_Asset_Type': [{'name': 'VGG19_Catalog_Model_LACDHS_Van_Finetuning',\n",
       "    'rid': '2-C94W'}]},\n",
       " 'execution_rid': '2-C96R',\n",
       " 'workflow_rid': '2-C8ZM',\n",
       " 'bag_paths': [PosixPath('/data/2-277G_6aa1a6861eee5a79bce4bf071065355f95a066c2a1ff326089d43048a7e0f185/Dataset_2-277G'),\n",
       "  PosixPath('/data/2-277J_81c873a311aa6a67cf2eef44bd9056cb19181b299a6e44327ea3553616f18725/Dataset_2-277J'),\n",
       "  PosixPath('/data/2-36BW_772f62deab4b12b67bf6fa0cd347a095ec28f75aa11c9c9f068e22ee390aec36/Dataset_2-36BW'),\n",
       "  PosixPath('/data/2-39FY_1d2a0510049e238d0206d75476122ce12750ea9a5da642328afc62d52bd34813/Dataset_2-39FY'),\n",
       "  PosixPath('/data/2-277M_8c4b855c2752e098580a5bb0d1b63a8cedde4462805fe74cddc912a72fb39963/Dataset_2-277M')],\n",
       " 'assets_paths': [PosixPath('/data/sreenidhi/EyeAI_working/Execution_Assets/best_hyperparameters_exluding_no_optic_disc_images_june_24_2024.json'),\n",
       "  PosixPath('/data/sreenidhi/EyeAI_working/Execution_Assets/train_no_optic_disc_image_ids.csv'),\n",
       "  PosixPath('/data/sreenidhi/EyeAI_working/Execution_Assets/valid_no_optic_disc_image_ids.csv'),\n",
       "  PosixPath('/data/sreenidhi/EyeAI_working/Execution_Assets/VGG19_Catalog_LAC_DHS_Cropped_Data_exlcuding_no_Optic_disc_fundus_Trained_model_June_24_2024.h5')],\n",
       " 'configuration_path': PosixPath('/data/sreenidhi/EyeAI_working/Execution_Metadata/Execution_Config-vgg19_catalog_model_training_LACDHS_van_finetuning_graded_labels_sreenidhi_june_30_2024.json')}"
      ]
     },
     "execution_count": 13,
     "metadata": {},
     "output_type": "execute_result"
    }
   ],
   "source": [
    "# @title Initiate an Execution\n",
    "configuration_records = EA.execution_init(configuration_rid=configuration_rid)\n",
    "configuration_records.model_dump()"
   ]
  },
  {
   "cell_type": "code",
   "execution_count": 14,
   "metadata": {},
   "outputs": [
    {
     "data": {
      "text/plain": [
       "ConfigurationRecord(caching_dir=PosixPath('/data'), working_dir=PosixPath('/data/sreenidhi/EyeAI_working'), vocabs={'Workflow_Type': [Term(name='VGG19_Catalog_Model_LACDHS_Van_Finetuning', rid='2-C94T')], 'Execution_Asset_Type': [Term(name='VGG19_Catalog_Model_LACDHS_Van_Finetuning', rid='2-C94W')]}, execution_rid='2-C96R', workflow_rid='2-C8ZM', bag_paths=[PosixPath('/data/2-277G_6aa1a6861eee5a79bce4bf071065355f95a066c2a1ff326089d43048a7e0f185/Dataset_2-277G'), PosixPath('/data/2-277J_81c873a311aa6a67cf2eef44bd9056cb19181b299a6e44327ea3553616f18725/Dataset_2-277J'), PosixPath('/data/2-36BW_772f62deab4b12b67bf6fa0cd347a095ec28f75aa11c9c9f068e22ee390aec36/Dataset_2-36BW'), PosixPath('/data/2-39FY_1d2a0510049e238d0206d75476122ce12750ea9a5da642328afc62d52bd34813/Dataset_2-39FY'), PosixPath('/data/2-277M_8c4b855c2752e098580a5bb0d1b63a8cedde4462805fe74cddc912a72fb39963/Dataset_2-277M')], assets_paths=[PosixPath('/data/sreenidhi/EyeAI_working/Execution_Assets/best_hyperparameters_exluding_no_optic_disc_images_june_24_2024.json'), PosixPath('/data/sreenidhi/EyeAI_working/Execution_Assets/train_no_optic_disc_image_ids.csv'), PosixPath('/data/sreenidhi/EyeAI_working/Execution_Assets/valid_no_optic_disc_image_ids.csv'), PosixPath('/data/sreenidhi/EyeAI_working/Execution_Assets/VGG19_Catalog_LAC_DHS_Cropped_Data_exlcuding_no_Optic_disc_fundus_Trained_model_June_24_2024.h5')], configuration_path=PosixPath('/data/sreenidhi/EyeAI_working/Execution_Metadata/Execution_Config-vgg19_catalog_model_training_LACDHS_van_finetuning_graded_labels_sreenidhi_june_30_2024.json'))"
      ]
     },
     "execution_count": 14,
     "metadata": {},
     "output_type": "execute_result"
    }
   ],
   "source": [
    "configuration_records"
   ]
  },
  {
   "cell_type": "code",
   "execution_count": 15,
   "metadata": {},
   "outputs": [],
   "source": [
    "exclude_train = pd.read_csv(configuration_records.assets_paths[1])['ID'].to_list()\n",
    "exclude_valid = pd.read_csv(configuration_records.assets_paths[2])['ID'].to_list()"
   ]
  },
  {
   "cell_type": "code",
   "execution_count": 23,
   "metadata": {
    "id": "iUuTRgyg7Ys1"
   },
   "outputs": [],
   "source": [
    "# @title Data Preprocessing (Filtering Image.csv for just Field_2 Images)\n",
    "train_dir = configuration_records.bag_paths[2] # path to the raw train dataset\n",
    "validation_dir = configuration_records.bag_paths[3]\n",
    "test_dir = configuration_records.bag_paths[4]\n",
    "\n",
    "train_cropped_image_path, train_cropped_csv = EA.create_cropped_images(str(train_dir),\n",
    "                                                                       output_dir = str(EA.working_dir) +'/train',\n",
    "                                                                       crop_to_eye=True,\n",
    "                                                                       exclude_list=exclude_train)\n",
    "validation_cropped_image_path, validation_cropped_csv = EA.create_cropped_images(str(validation_dir),\n",
    "                                                                                 output_dir = str(EA.working_dir) +'/valid',\n",
    "                                                                                 crop_to_eye=True,\n",
    "                                                                                 exclude_list=exclude_valid)\n",
    "test_cropped_image_path, test_cropped_csv = EA.create_cropped_images(str(test_dir),\n",
    "                                                                     output_dir = str(EA.working_dir) +'/test',\n",
    "                                                                     crop_to_eye=True)\n"
   ]
  },
  {
   "cell_type": "code",
   "execution_count": 26,
   "metadata": {},
   "outputs": [
    {
     "name": "stdout",
     "output_type": "stream",
     "text": [
      "\n",
      "Analyzing train folder:\n",
      "  2SKC_No_Glaucoma: 1653 files\n",
      "  2SKA_Suspected_Glaucoma: 1770 files\n",
      "Total files in train: 3423\n",
      "\n",
      "Analyzing test folder:\n",
      "  2SKC_No_Glaucoma: 526 files\n",
      "  2SKA_Suspected_Glaucoma: 568 files\n",
      "Total files in test: 1094\n",
      "\n",
      "Analyzing valid folder:\n",
      "  2SKC_No_Glaucoma: 423 files\n",
      "  2SKA_Suspected_Glaucoma: 438 files\n",
      "Total files in valid: 861\n"
     ]
    }
   ],
   "source": [
    "# # without no optic disc images\n",
    "\n",
    "import os\n",
    "\n",
    "def count_files(directory):\n",
    "    return len([name for name in os.listdir(directory) if os.path.isfile(os.path.join(directory, name))])\n",
    "\n",
    "def analyze_directory(base_path):\n",
    "    main_folders = ['train', 'test', 'valid']\n",
    "    \n",
    "    for main_folder in main_folders:\n",
    "        main_folder_path = os.path.join(base_path, main_folder)\n",
    "        if not os.path.exists(main_folder_path):\n",
    "            print(f\"{main_folder} folder not found\")\n",
    "            continue\n",
    "        \n",
    "        print(f\"\\nAnalyzing {main_folder} folder:\")\n",
    "        \n",
    "        image_cropped_path = os.path.join(main_folder_path, 'Image_cropped')\n",
    "        if not os.path.exists(image_cropped_path):\n",
    "            print(\"Image_cropped folder not found\")\n",
    "            continue\n",
    "        \n",
    "        total_files = 0\n",
    "        for subfolder in os.listdir(image_cropped_path):\n",
    "            subfolder_path = os.path.join(image_cropped_path, subfolder)\n",
    "            if os.path.isdir(subfolder_path):\n",
    "                file_count = count_files(subfolder_path)\n",
    "                print(f\"  {subfolder}: {file_count} files\")\n",
    "                total_files += file_count\n",
    "        \n",
    "        print(f\"Total files in {main_folder}: {total_files}\")\n",
    "\n",
    "# Assuming you're running this script from the directory containing train, test, and valid folders\n",
    "base_path = \"/data/sreenidhi/EyeAI_working/\" #os.getcwd()\n",
    "analyze_directory(base_path)\n",
    "\n"
   ]
  },
  {
   "cell_type": "code",
   "execution_count": 27,
   "metadata": {},
   "outputs": [],
   "source": [
    "\n",
    "output_path = str(EA.working_dir) + \"/Execution_Assets/\" + configuration_records.vocabs['Execution_Asset_Type'][0].name\n",
    "os.mkdir(output_path)"
   ]
  },
  {
   "cell_type": "code",
   "execution_count": 44,
   "metadata": {},
   "outputs": [
    {
     "data": {
      "text/plain": [
       "'/data/sreenidhi/EyeAI_working/Execution_Assets/VGG19_Catalog_Model_LACDHS_Van_Finetuning'"
      ]
     },
     "execution_count": 44,
     "metadata": {},
     "output_type": "execute_result"
    }
   ],
   "source": [
    "output_path"
   ]
  },
  {
   "cell_type": "code",
   "execution_count": 45,
   "metadata": {},
   "outputs": [],
   "source": [
    "best_hyper_parameters_json_path = str(configuration_records.assets_paths[0])"
   ]
  },
  {
   "cell_type": "code",
   "execution_count": 46,
   "metadata": {},
   "outputs": [
    {
     "data": {
      "text/plain": [
       "'/data/sreenidhi/EyeAI_working/Execution_Assets/best_hyperparameters_exluding_no_optic_disc_images_june_24_2024.json'"
      ]
     },
     "execution_count": 46,
     "metadata": {},
     "output_type": "execute_result"
    }
   ],
   "source": [
    "best_hyper_parameters_json_path"
   ]
  },
  {
   "cell_type": "code",
   "execution_count": 51,
   "metadata": {},
   "outputs": [
    {
     "name": "stdout",
     "output_type": "stream",
     "text": [
      "Found 3423 images belonging to 2 classes.\n",
      "Found 861 images belonging to 2 classes.\n",
      "Found 1094 images belonging to 2 classes.\n",
      "train_generator.class_indices :  {'2SKC_No_Glaucoma': 0, '2SKA_Suspected_Glaucoma': 1}\n",
      "validation_generator.class_indices :  {'2SKC_No_Glaucoma': 0, '2SKA_Suspected_Glaucoma': 1}\n",
      "test_generator.class_indices :  {'2SKC_No_Glaucoma': 0, '2SKA_Suspected_Glaucoma': 1}\n",
      "Layer input_2: trainable = True\n",
      "Layer vgg19: trainable = True\n",
      "  Inner Layer input_1: trainable = True\n",
      "  Inner Layer block1_conv1: trainable = True\n",
      "  Inner Layer block1_conv2: trainable = True\n",
      "  Inner Layer block1_pool: trainable = True\n",
      "  Inner Layer block2_conv1: trainable = True\n",
      "  Inner Layer block2_conv2: trainable = True\n",
      "  Inner Layer block2_pool: trainable = True\n",
      "  Inner Layer block3_conv1: trainable = True\n",
      "  Inner Layer block3_conv2: trainable = True\n",
      "  Inner Layer block3_conv3: trainable = True\n",
      "  Inner Layer block3_conv4: trainable = True\n",
      "  Inner Layer block3_pool: trainable = True\n",
      "  Inner Layer block4_conv1: trainable = True\n",
      "  Inner Layer block4_conv2: trainable = True\n",
      "  Inner Layer block4_conv3: trainable = True\n",
      "  Inner Layer block4_conv4: trainable = True\n",
      "  Inner Layer block4_pool: trainable = True\n",
      "  Inner Layer block5_conv1: trainable = True\n",
      "  Inner Layer block5_conv2: trainable = True\n",
      "  Inner Layer block5_conv3: trainable = True\n",
      "  Inner Layer block5_conv4: trainable = True\n",
      "  Inner Layer block5_pool: trainable = True\n",
      "Layer global_average_pooling2d: trainable = True\n",
      "Layer dense: trainable = True\n",
      "Layer batch_normalization: trainable = True\n",
      "Layer dropout: trainable = True\n",
      "Layer dense_1: trainable = True\n",
      "Layer dropout_1: trainable = True\n",
      "Layer dense_2: trainable = True\n",
      "Epoch 1/50\n",
      "107/107 [==============================] - 41s 323ms/step - loss: 0.3248 - roc_auc_score: 0.9387 - f1_score_normal: 0.8676 - accuracy_score: 0.8677 - val_loss: 0.4115 - val_roc_auc_score: 0.9001 - val_f1_score_normal: 0.8238 - val_accuracy_score: 0.8246\n",
      "Epoch 2/50\n",
      "107/107 [==============================] - 32s 296ms/step - loss: 0.2968 - roc_auc_score: 0.9470 - f1_score_normal: 0.8843 - accuracy_score: 0.8834 - val_loss: 0.4318 - val_roc_auc_score: 0.8985 - val_f1_score_normal: 0.8139 - val_accuracy_score: 0.8200\n",
      "Epoch 3/50\n",
      "107/107 [==============================] - 31s 286ms/step - loss: 0.2842 - roc_auc_score: 0.9518 - f1_score_normal: 0.8838 - accuracy_score: 0.8831 - val_loss: 0.4400 - val_roc_auc_score: 0.8967 - val_f1_score_normal: 0.8078 - val_accuracy_score: 0.8188\n",
      "Epoch 4/50\n",
      "107/107 [==============================] - 32s 292ms/step - loss: 0.2850 - roc_auc_score: 0.9510 - f1_score_normal: 0.8846 - accuracy_score: 0.8849 - val_loss: 0.4426 - val_roc_auc_score: 0.8972 - val_f1_score_normal: 0.8029 - val_accuracy_score: 0.8107\n",
      "Epoch 5/50\n",
      "107/107 [==============================] - 32s 289ms/step - loss: 0.2870 - roc_auc_score: 0.9502 - f1_score_normal: 0.8870 - accuracy_score: 0.8861 - val_loss: 0.4399 - val_roc_auc_score: 0.8966 - val_f1_score_normal: 0.8063 - val_accuracy_score: 0.8153\n",
      "Epoch 6/50\n",
      "107/107 [==============================] - 32s 289ms/step - loss: 0.2775 - roc_auc_score: 0.9542 - f1_score_normal: 0.8854 - accuracy_score: 0.8831 - val_loss: 0.4355 - val_roc_auc_score: 0.8947 - val_f1_score_normal: 0.8041 - val_accuracy_score: 0.8095\n",
      "Epoch 7/50\n",
      "107/107 [==============================] - 32s 287ms/step - loss: 0.2764 - roc_auc_score: 0.9536 - f1_score_normal: 0.8831 - accuracy_score: 0.8820 - val_loss: 0.4670 - val_roc_auc_score: 0.8966 - val_f1_score_normal: 0.8006 - val_accuracy_score: 0.8118\n",
      "Epoch 8/50\n",
      "107/107 [==============================] - 32s 294ms/step - loss: 0.2762 - roc_auc_score: 0.9537 - f1_score_normal: 0.8882 - accuracy_score: 0.8875 - val_loss: 0.4405 - val_roc_auc_score: 0.8954 - val_f1_score_normal: 0.8208 - val_accuracy_score: 0.8235\n",
      "Epoch 9/50\n",
      "107/107 [==============================] - ETA: 0s - loss: 0.2676 - roc_auc_score: 0.9567 - f1_score_normal: 0.8917 - accuracy_score: 0.8902Restoring model weights from the end of the best epoch: 1.\n",
      "107/107 [==============================] - 31s 286ms/step - loss: 0.2676 - roc_auc_score: 0.9567 - f1_score_normal: 0.8917 - accuracy_score: 0.8902 - val_loss: 0.4460 - val_roc_auc_score: 0.8965 - val_f1_score_normal: 0.8104 - val_accuracy_score: 0.8165\n",
      "Epoch 9: early stopping\n",
      "35/35 [==============================] - 6s 174ms/step - loss: 0.4420 - roc_auc_score: 0.8901 - f1_score_normal: 0.8184 - accuracy_score: 0.8181\n"
     ]
    },
    {
     "name": "stderr",
     "output_type": "stream",
     "text": [
      "2024-07-01 08:49:25,612 - INFO - Test results - [0.4419810175895691, 0.8901255130767822, 0.8184044361114502, 0.8180987238883972]\n"
     ]
    },
    {
     "name": "stdout",
     "output_type": "stream",
     "text": [
      "Model Eval results: [0.4419810175895691, 0.8901255130767822, 0.8184044361114502, 0.8180987238883972]\n"
     ]
    },
    {
     "name": "stderr",
     "output_type": "stream",
     "text": [
      "/home/sreenidhi/.conda/envs/my-tensorflow-conda/lib/python3.10/site-packages/keras/src/engine/training.py:3103: UserWarning: You are saving your model as an HDF5 file via `model.save()`. This file format is considered legacy. We recommend using instead the native Keras format, e.g. `model.save('my_model.keras')`.\n",
      "  saving_api.save_model(\n",
      "2024-07-01 08:49:25,842 - INFO - VGG19_Catalog_LAC_DHS_Cropped_Data_exlcuding_no_Optic_disc_fundus_Trained_model_June_24_2024_Van_Fine_Tuned Model fine-tuned, Model and training history are saved successfully.\n"
     ]
    }
   ],
   "source": [
    "# @title Execute Training algorithm\n",
    "from eye_ai.models.vgg19_diagnosis_fine_tune_train import main\n",
    "with EA.execution(execution_rid=configuration_records.execution_rid) as exec:\n",
    "  main(train_path=train_cropped_image_path,\n",
    "       valid_path=validation_cropped_image_path, \n",
    "       test_path=test_cropped_image_path, \n",
    "       output_path = output_path,\n",
    "       best_hyperparameters_json_path = best_hyper_parameters_json_path,\n",
    "       model_name = \"VGG19_Catalog_LAC_DHS_Cropped_Data_exlcuding_no_Optic_disc_fundus_Trained_model_June_24_2024_Van_Fine_Tuned\",\n",
    "       original_model_path = str(configuration_records.assets_paths[3])\n",
    "       )\n",
    "                    \n"
   ]
  },
  {
   "cell_type": "code",
   "execution_count": 52,
   "metadata": {
    "id": "zHqtgNpxrISs"
   },
   "outputs": [
    {
     "name": "stderr",
     "output_type": "stream",
     "text": [
      "2024-07-01 08:50:16,314 - INFO - Initializing uploader: GenericUploader v1.7.1 [Python 3.10.13, Linux-5.10.210-201.852.amzn2.x86_64-x86_64-with-glibc2.26]\n",
      "2024-07-01 08:50:16,316 - INFO - Creating client of type <class 'globus_sdk.services.auth.client.native_client.NativeAppAuthClient'> for service \"auth\"\n",
      "2024-07-01 08:50:16,317 - INFO - Finished initializing AuthLoginClient. client_id='8ef15ba9-2b4a-469c-a163-7fd910c9d111', type(authorizer)=<class 'globus_sdk.authorizers.base.NullAuthorizer'>\n",
      "2024-07-01 08:50:16,353 - INFO - Checking for updated configuration...\n",
      "2024-07-01 08:50:16,469 - INFO - Updated configuration found.\n",
      "2024-07-01 08:50:16,471 - INFO - Scanning files in directory [/data/sreenidhi/EyeAI_working/Execution_Assets/VGG19_Catalog_Model_LACDHS_Van_Finetuning]...\n",
      "2024-07-01 08:50:16,474 - INFO - Including file: [/data/sreenidhi/EyeAI_working/Execution_Assets/VGG19_Catalog_Model_LACDHS_Van_Finetuning/VGG19_Catalog_LAC_DHS_Cropped_Data_exlcuding_no_Optic_disc_fundus_Trained_model_June_24_2024_Van_Fine_Tuned.h5].\n",
      "2024-07-01 08:50:16,474 - INFO - Including file: [/data/sreenidhi/EyeAI_working/Execution_Assets/VGG19_Catalog_Model_LACDHS_Van_Finetuning/training_history_VGG19_Catalog_LAC_DHS_Cropped_Data_exlcuding_no_Optic_disc_fundus_Trained_model_June_24_2024_Van_Fine_Tuned.csv].\n",
      "2024-07-01 08:50:16,475 - INFO - Processing: [/data/sreenidhi/EyeAI_working/Execution_Assets/VGG19_Catalog_Model_LACDHS_Van_Finetuning/VGG19_Catalog_LAC_DHS_Cropped_Data_exlcuding_no_Optic_disc_fundus_Trained_model_June_24_2024_Van_Fine_Tuned.h5]\n",
      "2024-07-01 08:50:16,476 - INFO - Computed metadata for: [/data/sreenidhi/EyeAI_working/Execution_Assets/VGG19_Catalog_Model_LACDHS_Van_Finetuning/VGG19_Catalog_LAC_DHS_Cropped_Data_exlcuding_no_Optic_disc_fundus_Trained_model_June_24_2024_Van_Fine_Tuned.h5].\n",
      "2024-07-01 08:50:16,476 - INFO - Computing checksums for file: [/data/sreenidhi/EyeAI_working/Execution_Assets/VGG19_Catalog_Model_LACDHS_Van_Finetuning/VGG19_Catalog_LAC_DHS_Cropped_Data_exlcuding_no_Optic_disc_fundus_Trained_model_June_24_2024_Van_Fine_Tuned.h5]. Please wait...\n",
      "2024-07-01 08:50:17,036 - INFO - Uploading file: [/data/sreenidhi/EyeAI_working/Execution_Assets/VGG19_Catalog_Model_LACDHS_Van_Finetuning/VGG19_Catalog_LAC_DHS_Cropped_Data_exlcuding_no_Optic_disc_fundus_Trained_model_June_24_2024_Van_Fine_Tuned.h5] to host https://www.eye-ai.org. Please wait...\n",
      "2024-07-01 08:50:22,466 - INFO - File [/data/sreenidhi/EyeAI_working/Execution_Assets/VGG19_Catalog_Model_LACDHS_Van_Finetuning/VGG19_Catalog_LAC_DHS_Cropped_Data_exlcuding_no_Optic_disc_fundus_Trained_model_June_24_2024_Van_Fine_Tuned.h5] upload successful. 232.71 MB transferred at 44.74 MB/second. Elapsed time: 0:00:05.201380.\n",
      "2024-07-01 08:50:22,662 - INFO - Processing: [/data/sreenidhi/EyeAI_working/Execution_Assets/VGG19_Catalog_Model_LACDHS_Van_Finetuning/training_history_VGG19_Catalog_LAC_DHS_Cropped_Data_exlcuding_no_Optic_disc_fundus_Trained_model_June_24_2024_Van_Fine_Tuned.csv]\n",
      "2024-07-01 08:50:22,663 - INFO - Computed metadata for: [/data/sreenidhi/EyeAI_working/Execution_Assets/VGG19_Catalog_Model_LACDHS_Van_Finetuning/training_history_VGG19_Catalog_LAC_DHS_Cropped_Data_exlcuding_no_Optic_disc_fundus_Trained_model_June_24_2024_Van_Fine_Tuned.csv].\n",
      "2024-07-01 08:50:22,663 - INFO - Computing checksums for file: [/data/sreenidhi/EyeAI_working/Execution_Assets/VGG19_Catalog_Model_LACDHS_Van_Finetuning/training_history_VGG19_Catalog_LAC_DHS_Cropped_Data_exlcuding_no_Optic_disc_fundus_Trained_model_June_24_2024_Van_Fine_Tuned.csv]. Please wait...\n",
      "2024-07-01 08:50:22,673 - INFO - Uploading file: [/data/sreenidhi/EyeAI_working/Execution_Assets/VGG19_Catalog_Model_LACDHS_Van_Finetuning/training_history_VGG19_Catalog_LAC_DHS_Cropped_Data_exlcuding_no_Optic_disc_fundus_Trained_model_June_24_2024_Van_Fine_Tuned.csv] to host https://www.eye-ai.org. Please wait...\n",
      "2024-07-01 08:50:22,855 - INFO - File upload processing completed: 2 files were uploaded successfully, 0 files failed to upload due to errors, 0 files were skipped because they did not satisfy the matching criteria of the configuration.\n",
      "2024-07-01 08:50:22,961 - INFO - Initializing uploader: GenericUploader v1.7.1 [Python 3.10.13, Linux-5.10.210-201.852.amzn2.x86_64-x86_64-with-glibc2.26]\n",
      "2024-07-01 08:50:22,962 - INFO - Creating client of type <class 'globus_sdk.services.auth.client.native_client.NativeAppAuthClient'> for service \"auth\"\n",
      "2024-07-01 08:50:22,963 - INFO - Finished initializing AuthLoginClient. client_id='8ef15ba9-2b4a-469c-a163-7fd910c9d111', type(authorizer)=<class 'globus_sdk.authorizers.base.NullAuthorizer'>\n",
      "2024-07-01 08:50:22,998 - INFO - Checking for updated configuration...\n",
      "2024-07-01 08:50:23,104 - INFO - Updated configuration found.\n",
      "2024-07-01 08:50:23,105 - INFO - Scanning files in directory [/data/sreenidhi/EyeAI_working/Execution_Metadata]...\n",
      "2024-07-01 08:50:23,107 - INFO - Including file: [/data/sreenidhi/EyeAI_working/Execution_Metadata/Execution_Config-vgg19_catalog_model_training_LACDHS_van_finetuning_graded_labels_sreenidhi_june_30_2024.json].\n",
      "2024-07-01 08:50:23,107 - INFO - Including file: [/data/sreenidhi/EyeAI_working/Execution_Metadata/Runtime_Env-python_environment_snapshot.txt].\n",
      "2024-07-01 08:50:23,108 - INFO - Processing: [/data/sreenidhi/EyeAI_working/Execution_Metadata/Execution_Config-vgg19_catalog_model_training_LACDHS_van_finetuning_graded_labels_sreenidhi_june_30_2024.json]\n",
      "2024-07-01 08:50:23,109 - INFO - Computed metadata for: [/data/sreenidhi/EyeAI_working/Execution_Metadata/Execution_Config-vgg19_catalog_model_training_LACDHS_van_finetuning_graded_labels_sreenidhi_june_30_2024.json].\n",
      "2024-07-01 08:50:23,109 - INFO - Computing checksums for file: [/data/sreenidhi/EyeAI_working/Execution_Metadata/Execution_Config-vgg19_catalog_model_training_LACDHS_van_finetuning_graded_labels_sreenidhi_june_30_2024.json]. Please wait...\n",
      "2024-07-01 08:50:23,121 - INFO - Uploading file: [/data/sreenidhi/EyeAI_working/Execution_Metadata/Execution_Config-vgg19_catalog_model_training_LACDHS_van_finetuning_graded_labels_sreenidhi_june_30_2024.json] to host https://www.eye-ai.org. Please wait...\n",
      "2024-07-01 08:50:23,253 - INFO - Updating catalog for file [Execution_Config-vgg19_catalog_model_training_LACDHS_van_finetuning_graded_labels_sreenidhi_june_30_2024.json]\n",
      "2024-07-01 08:50:23,309 - INFO - Processing: [/data/sreenidhi/EyeAI_working/Execution_Metadata/Runtime_Env-python_environment_snapshot.txt]\n",
      "2024-07-01 08:50:23,310 - INFO - Computed metadata for: [/data/sreenidhi/EyeAI_working/Execution_Metadata/Runtime_Env-python_environment_snapshot.txt].\n",
      "2024-07-01 08:50:23,311 - INFO - Computing checksums for file: [/data/sreenidhi/EyeAI_working/Execution_Metadata/Runtime_Env-python_environment_snapshot.txt]. Please wait...\n",
      "2024-07-01 08:50:23,322 - INFO - Uploading file: [/data/sreenidhi/EyeAI_working/Execution_Metadata/Runtime_Env-python_environment_snapshot.txt] to host https://www.eye-ai.org. Please wait...\n",
      "2024-07-01 08:50:23,343 - INFO - File upload processing completed: 2 files were uploaded successfully, 0 files failed to upload due to errors, 0 files were skipped because they did not satisfy the matching criteria of the configuration.\n"
     ]
    }
   ],
   "source": [
    "# @title Save Execution Assets (model) and Metadata\n",
    "uploaded_assets = EA.execution_upload(configuration_records.execution_rid, True)"
   ]
  },
  {
   "cell_type": "code",
   "execution_count": null,
   "metadata": {},
   "outputs": [],
   "source": []
  }
 ],
 "metadata": {
  "colab": {
   "include_colab_link": true,
   "provenance": []
  },
  "kernelspec": {
   "display_name": "My TensorFlow (Conda)",
   "language": "python",
   "name": "my-tensorflow-conda"
  },
  "language_info": {
   "codemirror_mode": {
    "name": "ipython",
    "version": 3
   },
   "file_extension": ".py",
   "mimetype": "text/x-python",
   "name": "python",
   "nbconvert_exporter": "python",
   "pygments_lexer": "ipython3",
   "version": "3.10.13"
  }
 },
 "nbformat": 4,
 "nbformat_minor": 4
}
