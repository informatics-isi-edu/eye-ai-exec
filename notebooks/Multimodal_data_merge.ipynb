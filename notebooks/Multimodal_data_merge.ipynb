{
 "cells": [
  {
   "cell_type": "code",
   "execution_count": null,
   "id": "98411793-13d3-4deb-b559-7a61f536b432",
   "metadata": {},
   "outputs": [],
   "source": [
    "repo_dir = \"Repos\"   # Set this to be where your github repos are located.\n",
    "%load_ext autoreload\n",
    "%autoreload 2\n",
    "\n",
    "# Update the load path so python can find modules for the model\n",
    "import sys\n",
    "from pathlib import Path\n",
    "sys.path.insert(0, str(Path.home() / repo_dir / \"eye-ai-ml\"))"
   ]
  },
  {
   "cell_type": "code",
   "execution_count": null,
   "id": "4ec94952-b138-4536-8223-a44c150f1cc8",
   "metadata": {},
   "outputs": [],
   "source": [
    "# Prerequisites\n",
    "\n",
    "import json\n",
    "import os\n",
    "from eye_ai.eye_ai import EyeAI\n",
    "import pandas as pd\n",
    "from pathlib import Path, PurePath\n",
    "import logging\n",
    "# import torch\n",
    "\n",
    "logging.basicConfig(level=logging.INFO, format='%(asctime)s - %(levelname)s - %(message)s', force=True)"
   ]
  },
  {
   "cell_type": "code",
   "execution_count": null,
   "id": "54c2963f-6805-44ab-a78f-dfff3a14ae80",
   "metadata": {},
   "outputs": [],
   "source": [
    "from deriva.core.utils.globus_auth_utils import GlobusNativeLogin\n",
    "catalog_id = \"eye-ai\" #@param\n",
    "host = 'www.eye-ai.org'\n",
    "\n",
    "\n",
    "gnl = GlobusNativeLogin(host=host)\n",
    "if gnl.is_logged_in([host]):\n",
    "    print(\"You are already logged in.\")\n",
    "else:\n",
    "    gnl.login([host], no_local_server=True, no_browser=True, refresh_tokens=True, update_bdbag_keychain=True)\n",
    "    print(\"Login Successful\")"
   ]
  },
  {
   "cell_type": "code",
   "execution_count": null,
   "id": "859fb65e-f7a1-4e65-abf8-f209390c0211",
   "metadata": {},
   "outputs": [],
   "source": [
    "# Variables to configure the rest of the notebook.\n",
    "\n",
    "cache_dir = '/data'        # Directory in which to cache materialized BDBags for datasets\n",
    "working_dir = '/data'    # Directory in which to place output files for later upload.\n",
    "\n",
    "configuration_rid=\"2-BDA8\" # rid\n"
   ]
  },
  {
   "cell_type": "code",
   "execution_count": null,
   "id": "4ef26797-d732-4289-bc06-899f4a0b3176",
   "metadata": {},
   "outputs": [],
   "source": [
    "EA = EyeAI(hostname = host, catalog_id = catalog_id, cache_dir= cache_dir, working_dir=working_dir)"
   ]
  },
  {
   "cell_type": "code",
   "execution_count": null,
   "id": "6f5059bd-0419-4468-a991-23c59875a400",
   "metadata": {},
   "outputs": [],
   "source": [
    "# @title Initiate an Execution\n",
    "configuration_records = EA.execution_init(configuration_rid=configuration_rid)\n",
    "configuration_records.model_dump()"
   ]
  },
  {
   "cell_type": "code",
   "execution_count": null,
   "id": "8786e088-9c9e-40aa-bb56-a9949d1c8000",
   "metadata": {},
   "outputs": [],
   "source": [
    "# View data\n",
    "\n",
    "subject = pd.read_csv(configuration_records.bag_paths[0]/'data/Subject.csv').drop(columns=['RCT', 'RMT', 'RCB', 'RMB'])\n",
    "subject\n",
    "\n",
    "observation = pd.read_csv(configuration_records.bag_paths[0]/'data/Observation.csv').drop(columns=['RCT', 'RMT', 'RCB', 'RMB'])\n",
    "observation\n",
    "\n",
    "clinic = pd.read_csv(configuration_records.bag_paths[0]/'data/Clinical_Records.csv').drop(columns=['RCT', 'RMT', 'RCB', 'RMB'])\n",
    "clinic\n",
    "\n",
    "observation_clinic_asso = pd.read_csv(configuration_records.bag_paths[0]/'data/Observation_Clinic_Asso.csv').drop(columns=['RCT', 'RMT', 'RCB', 'RMB'])\n",
    "observation_clinic_asso # association table between observation table and clinic record table\n",
    "\n",
    "icd10 = pd.read_csv(configuration_records.bag_paths[0]/'data/Clinic_ICD10.csv').drop(columns=['RCT', 'RMT', 'RCB', 'RMB'])\n",
    "icd10\n",
    "\n",
    "icd10_asso = pd.read_csv(configuration_records.bag_paths[0]/'data/Clinic_ICD_Asso.csv').drop(columns=['RCT', 'RMT', 'RCB', 'RMB'])\n",
    "icd10_asso # association table between clinic record table and ICD10 code\n",
    "\n",
    "report = pd.read_csv(configuration_records.bag_paths[0]/'data/Report.csv').drop(columns=['RCT', 'RMT', 'RCB', 'RMB'])\n",
    "report\n",
    "\n",
    "RNFL_OCR = pd.read_csv(configuration_records.bag_paths[0]/'data/RNFL_OCR.csv').drop(columns=['RCT', 'RMT', 'RCB', 'RMB'])\n",
    "RNFL_OCR\n",
    "\n",
    "HVF_OCR = pd.read_csv(configuration_records.bag_paths[0]/'data/HVF_OCR.csv').drop(columns=['RCT', 'RMT', 'RCB', 'RMB'])\n",
    "HVF_OCR\n"
   ]
  },
  {
   "cell_type": "code",
   "execution_count": null,
   "id": "e96aeb5c-1739-4d5b-bd9c-eaf9ee6bc8c4",
   "metadata": {},
   "outputs": [],
   "source": [
    "import pandas as pd\n",
    "# Merge Subject with Observation\n",
    "subject = subject.drop(columns=['hba1c', 'glaucoma_hx', 'visual_acuity_right',\n",
    "       'visual_acuity_left', 'date_of_encounter', 'provider', 'reviewed_date',\n",
    "       'dr_level', 'consult_id', 'date_created', 'assessment_and_recommendation', 'additional_comments',\n",
    "       'return_time_frame', 'referral_status_time_frame', 'Subject_hypertension',\n",
    "       'Subject_insulin_dependent', 'Subject_pregnant', 'Subject_cataract',\n",
    "       'Subject_maculopathy', 'Subject_other', 'Subject_image_quality', 'site_mrn', 'Consultant'])\n",
    "\n",
    "subject_observation = pd.merge(subject, observation, left_on='RID', right_on='Subject', how='left',\n",
    "                               suffixes=('_Subject', '_Observation')).drop(columns=['Subject'])\n",
    "subject_observation\n"
   ]
  },
  {
   "cell_type": "code",
   "execution_count": null,
   "id": "bc6d18f5-7c0e-4463-8547-2542df483545",
   "metadata": {},
   "outputs": [],
   "source": [
    "# Merge with Observation_Clinical_Association\n",
    "subject_obs_clinic = pd.merge(subject_observation, \n",
    "                              observation_clinic_asso, \n",
    "                              left_on= 'RID_Observation', \n",
    "                              right_on='Observation', \n",
    "                              suffixes=('_subject_observation_df', \"_observation_clinic_asso_df\"),\n",
    "                              how='left').drop(columns=['RID', 'Observation'])\n"
   ]
  },
  {
   "cell_type": "code",
   "execution_count": null,
   "id": "0ebdc014-8909-454a-a429-6e5264509bde",
   "metadata": {},
   "outputs": [],
   "source": [
    "subject_obs_clinic"
   ]
  },
  {
   "cell_type": "code",
   "execution_count": null,
   "id": "13e98694-e63d-4dbf-91d1-10d911438ded",
   "metadata": {},
   "outputs": [],
   "source": [
    "# Merge with Clinical_Data\n",
    "subject_obs_clinic_data = pd.merge(subject_obs_clinic, \n",
    "                                   clinic,\n",
    "                                   left_on='Clinical_Records', \n",
    "                                   right_on='RID',\n",
    "                                   suffixes=(\"_Subject_Obs_Clinic\", \"_Clinic\"),\n",
    "                                   how='left').drop(columns = ['Clinical_Records']).rename(columns={'RID':'RID_Clinic'})\n"
   ]
  },
  {
   "cell_type": "code",
   "execution_count": null,
   "id": "be4d06cf-0578-4dea-b856-bc1ffaea4bbd",
   "metadata": {},
   "outputs": [],
   "source": [
    "subject_obs_clinic_data\n"
   ]
  },
  {
   "cell_type": "code",
   "execution_count": null,
   "id": "1c09b588-0749-43b3-9a86-e33e389d8fc5",
   "metadata": {},
   "outputs": [],
   "source": [
    "subject_obs_clinic_data[['IOP', 'CDR']]"
   ]
  },
  {
   "cell_type": "code",
   "execution_count": null,
   "id": "ed64296e-36c1-4d66-9417-4883fc206072",
   "metadata": {},
   "outputs": [],
   "source": [
    "count_clinic = pd.DataFrame(subject_obs_clinic_data.groupby(['RID_Observation', 'Powerform_Laterality'])['RID_Clinic'].count())\n",
    "count_clinic\n"
   ]
  },
  {
   "cell_type": "code",
   "execution_count": null,
   "id": "44e07d0f-8a25-41f0-a411-a94a2f1ffc33",
   "metadata": {},
   "outputs": [],
   "source": [
    "count_clinic[count_clinic['RID_Clinic'] != 1]"
   ]
  },
  {
   "cell_type": "code",
   "execution_count": null,
   "id": "4770ef2b-8d47-4413-8393-506d2bf18205",
   "metadata": {},
   "outputs": [],
   "source": [
    "HVF_OCR"
   ]
  },
  {
   "cell_type": "code",
   "execution_count": null,
   "id": "23f90fa5-e16f-43b9-90c4-616e10bb6f54",
   "metadata": {},
   "outputs": [],
   "source": [
    "# create subject, observation, report, hvf\n",
    "\n",
    "\n",
    "subject_observation_for_HVF = subject_observation.copy()\n",
    "\n",
    "subject_observation_for_HVF\n"
   ]
  },
  {
   "cell_type": "code",
   "execution_count": null,
   "id": "bf5f350d-3f77-4b57-8dbd-c04bf18928b4",
   "metadata": {},
   "outputs": [],
   "source": [
    "# Merge with Report\n",
    "subject_observation_for_HVF_report = pd.merge(subject_observation_for_HVF, report, left_on='RID_Observation', right_on='Observation', suffixes=(\"subject_observation_for_HVF\", \"report\"), how='left')\n",
    "\n",
    "\n",
    "subject_observation_for_HVF_report\n"
   ]
  },
  {
   "cell_type": "code",
   "execution_count": null,
   "id": "aad4c9ff-9558-40d1-a6af-901befd53b14",
   "metadata": {},
   "outputs": [],
   "source": [
    "# Merge with HVF_OCR\n",
    "subject_observation_for_HVF_report_hvf = pd.merge(subject_observation_for_HVF_report, HVF_OCR, left_on='RID', right_on='Report', suffixes=(\"_subject_observation_for_HVF_report\", \"_HVF_OCR\"), how='left')\n",
    "\n",
    "subject_observation_for_HVF_report_hvf"
   ]
  },
  {
   "cell_type": "code",
   "execution_count": null,
   "id": "36c75dd7-79b1-4054-bd16-50c70f781dab",
   "metadata": {},
   "outputs": [],
   "source": [
    "\n",
    "# create subject, observation, report, RNFL\n",
    "\n",
    "\n",
    "subject_observation_for_RNFL = subject_observation.copy()\n",
    "\n",
    "subject_observation_for_RNFL\n"
   ]
  },
  {
   "cell_type": "code",
   "execution_count": null,
   "id": "009969d9-ec6a-40fb-b5ac-fd6eec0bea3b",
   "metadata": {},
   "outputs": [],
   "source": [
    "# Merge with Report\n",
    "subject_observation_for_RNFL_report = pd.merge(subject_observation_for_RNFL, report, left_on='RID_Observation', right_on='Observation', suffixes=(\"_subject_observation_for_RNFL\", \"_report\"), how='left')\n",
    "\n",
    "\n",
    "subject_observation_for_RNFL_report\n"
   ]
  },
  {
   "cell_type": "code",
   "execution_count": null,
   "id": "54abc8be-f1e1-4a88-a4aa-987b483a9b59",
   "metadata": {},
   "outputs": [],
   "source": [
    "# Merge with RNFL_OCR\n",
    "subject_observation_for_RNFL_report_rnfl = pd.merge(subject_observation_for_RNFL_report, RNFL_OCR, left_on='RID', right_on='Report', suffixes=(\"_subject_observation_for_RNFL_report\", \"_RNFL_OCR\"), how='left')\n",
    "\n",
    "subject_observation_for_RNFL_report_rnfl\n",
    "\n"
   ]
  },
  {
   "cell_type": "code",
   "execution_count": null,
   "id": "03e7611c-f227-439d-9c78-88c671f0d428",
   "metadata": {},
   "outputs": [],
   "source": [
    "\n",
    "# do create subject, observation, image\n",
    "\n",
    "subject_observation_for_image = subject_observation.copy()\n",
    "\n",
    "subject_observation_for_image"
   ]
  },
  {
   "cell_type": "code",
   "execution_count": null,
   "id": "cf1521bb-9262-4bc9-976a-478f2bd5cc6a",
   "metadata": {},
   "outputs": [],
   "source": [
    "pd.read_csv(configuration_records.bag_paths[0]/'data/Image.csv') "
   ]
  },
  {
   "cell_type": "code",
   "execution_count": null,
   "id": "2fbe5cd1-2b2b-49f5-bb6a-e5726549855f",
   "metadata": {},
   "outputs": [],
   "source": [
    "icd10_asso"
   ]
  },
  {
   "cell_type": "code",
   "execution_count": null,
   "id": "f5de744d-e4c8-4c15-b293-f4eadbb467ab",
   "metadata": {},
   "outputs": [],
   "source": [
    "# ICD10_Eye find H 40.0 .1 and .2 find rid and do group by clinical record and count number from either 3 of them...\n",
    "\n",
    "# convert 40. 0 \\\\\\\\\n",
    "\n",
    "\n",
    "\n",
    "# we need to do the mapping icd rid with icd 10 code (3 digits code in the table)... map this with icd 10 code 1 digit\n",
    "\n",
    "\n",
    "\n",
    "# Join icd10 and icd 10 asso, then group by 3 categories and assign new categories, and push the code... \n",
    "# see group by clinical record to see if more than 1 of the categories belong to the same row if duplicates or missing \n"
   ]
  },
  {
   "cell_type": "code",
   "execution_count": null,
   "id": "0b2d6f42-529f-4461-91c4-8099f65923fc",
   "metadata": {},
   "outputs": [],
   "source": [
    "icd10"
   ]
  },
  {
   "cell_type": "code",
   "execution_count": null,
   "id": "8bda3475-64ce-47de-81b2-a98799c7a9a0",
   "metadata": {},
   "outputs": [],
   "source": [
    "\n",
    "# Mapping ICD10 codes to categories\n",
    "icd_mapping = {\n",
    "    'H40.0*': 'GS', \n",
    "    'H40.1*': 'POAG', \n",
    "    'H40.2*': 'PACG'\n",
    "}\n",
    "\n",
    "# Function to apply the mapping\n",
    "def map_icd_to_category(icd_code):\n",
    "    for key, value in icd_mapping.items():\n",
    "        if icd_code.startswith(key[:-1]):\n",
    "            return value\n",
    "    return 'Other'\n",
    "\n",
    "# Apply the mapping\n",
    "icd10['Category'] = icd10['ICD10'].apply(map_icd_to_category)\n",
    "\n",
    "# Joining the tables\n",
    "combined = pd.merge(icd10_asso, icd10, left_on='ICD10_Eye', right_on='RID', how='left')\n",
    "combined"
   ]
  },
  {
   "cell_type": "code",
   "execution_count": null,
   "id": "2e795835-f426-43af-98c6-b110307b550f",
   "metadata": {},
   "outputs": [],
   "source": [
    "import pandas as pd\n",
    "\n",
    "# Filter for relevant categories (GS, POAG, PACG), but allow 'Other' in the mix\n",
    "relevant_categories = {'GS', 'POAG', 'PACG'}\n",
    "combined['Relevant'] = combined['Category'].apply(lambda x: x in relevant_categories)\n",
    "\n",
    "# Group by 'Clinical_Records' to collect unique categories for each record\n",
    "grouped = combined.groupby('Clinical_Records')['Category'].agg(set).reset_index()\n",
    "\n",
    "# Filter to find records containing any combination of GS, POAG, and PACG\n",
    "grouped['Has_Relevant_Combination'] = grouped['Category'].apply(lambda categories: len(categories.intersection(relevant_categories)) >= 2)\n",
    "\n",
    "# Get the details of these records from the original DataFrame\n",
    "detailed_records = pd.merge(grouped[grouped['Has_Relevant_Combination']], combined, on='Clinical_Records')\n",
    "\n",
    "# Optionally, drop duplicates if you only want to see unique rows per clinical record\n",
    "detailed_records = detailed_records.drop_duplicates(subset=['Clinical_Records'])\n",
    "\n",
    "# Print the result\n",
    "print(detailed_records[['Clinical_Records', 'Category_x', 'ICD10', 'Name', 'Category_y']])\n"
   ]
  },
  {
   "cell_type": "code",
   "execution_count": null,
   "id": "1575ffb9-e315-4f72-b329-4652d1c4050a",
   "metadata": {},
   "outputs": [],
   "source": [
    "# Filter for rows where both 'POAG' and 'PACG' are present in the 'Category_x' column\n",
    "poag_pacg_rows = detailed_records[detailed_records['Category_x'].apply(lambda x: {'POAG', 'PACG'}.issubset(x))]\n",
    "\n",
    "# Print the filtered rows\n",
    "print(poag_pacg_rows[['Clinical_Records', 'Category_x', 'ICD10', 'Name', 'Category_y']])\n"
   ]
  },
  {
   "cell_type": "code",
   "execution_count": null,
   "id": "d4bfd18c-fd40-44d9-b3ac-fe04dd47d7ee",
   "metadata": {},
   "outputs": [],
   "source": []
  }
 ],
 "metadata": {
  "language_info": {
   "name": "python"
  }
 },
 "nbformat": 4,
 "nbformat_minor": 5
}
