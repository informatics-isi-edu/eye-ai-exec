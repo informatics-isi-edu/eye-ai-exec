{
 "cells": [
  {
   "cell_type": "markdown",
   "metadata": {
    "colab_type": "text",
    "id": "view-in-github"
   },
   "source": [
    "<a href=\"https://colab.research.google.com/github/informatics-isi-edu/eye-ai-tools/blob/main/notebooks/Compute_Diagnosis.ipynb\" target=\"_parent\"><img src=\"https://colab.research.google.com/assets/colab-badge.svg\" alt=\"Open In Colab\"/></a>"
   ]
  },
  {
   "cell_type": "code",
   "execution_count": null,
   "metadata": {
    "colab": {
     "base_uri": "https://localhost:8080/"
    },
    "id": "QxhaFfawhfE2",
    "outputId": "df0dcf55-5cef-4336-c965-3b3e69d9db31"
   },
   "outputs": [],
   "source": [
    "# Prerequisites\n",
    "!pip install git+https://github.com/fair-research/bdbag\n",
    "!pip install deriva\n",
    "!pip install 'git+https://github.com/informatics-isi-edu/eye-ai-tools@main' --upgrade --force\n"
   ]
  },
  {
   "cell_type": "code",
   "execution_count": null,
   "metadata": {
    "colab": {
     "base_uri": "https://localhost:8080/"
    },
    "id": "mVLFcQpzhi_0",
    "outputId": "ba220d66-9367-4890-80d9-68a966955976"
   },
   "outputs": [],
   "source": [
    "# login to DERIVA via Globus Auth\n",
    "DEBUG_MODE = True #@param\n",
    "DEFAULT_SERVER = 'dev.eye-ai.org' if DEBUG_MODE else 'www.eye-ai.org'\n",
    "!deriva-globus-auth-utils login --no-browser --host {DEFAULT_SERVER}\n"
   ]
  },
  {
   "cell_type": "markdown",
   "metadata": {
    "id": "kiBJIR0E7XUE"
   },
   "source": [
    "Make a connection to the Eye AI catalog and get a reference to the main schema: eye-ai"
   ]
  },
  {
   "cell_type": "code",
   "execution_count": null,
   "metadata": {
    "id": "7vyUQWbIA79J"
   },
   "outputs": [],
   "source": [
    "# @title Configure Grader groups\n",
    "grader_list = [\"Benjamin Xu\", \"Kendra Hong\", \"Kent Nguyen\"] # @param\n",
    "dataset_rid = \"2-277M\" # @param {type:\"string\"}\n",
    "diagnosis_tag_rid = \"2-35RM\" # @param {type:\"string\"}\n"
   ]
  },
  {
   "cell_type": "code",
   "execution_count": null,
   "metadata": {
    "id": "F-WtiyLWgHHl"
   },
   "outputs": [],
   "source": [
    "# @title Configure Process and Diagnosis Tag\n",
    "process_tag_name = \"Test Diagnosis Generation\" # @param {type:\"string\"}\n",
    "Metadata = \"Test Diagnosis Generation\" # @param {type:\"string\"}\n",
    "Github_URL=\"\" # @param {type:\"string\"}\n",
    "Process_Tag = \"\" # @param {type: \"string\"}\n",
    "Description = \"\" # @param {type: \"string\"}\n",
    "Github_Checksum = \"\" # @param {type: \"string\"}\n",
    "\n",
    "\n",
    "\n",
    "Diagnosis_Tag_name = \"Test Diagnosis Generation\" # @param {type:\"string\"}\n",
    "Description = \"Generate new diagnosis based on a group of graders: \"+str(grader_list) # @param {type:\"string\"}\n",
    "synonyms = [] # @param\n"
   ]
  },
  {
   "cell_type": "code",
   "execution_count": null,
   "metadata": {
    "id": "szzQ3ItUb2il"
   },
   "outputs": [],
   "source": [
    "from ml_utils import EyeAI\n",
    "EA = EyeAI(hostname = DEFAULT_SERVER, catalog_number = 'eye-ai')"
   ]
  },
  {
   "cell_type": "code",
   "execution_count": null,
   "metadata": {
    "id": "TiGtTYw5cyyQ"
   },
   "outputs": [],
   "source": [
    "# @title Define Diagnosis Generation Rule\n",
    "def CDR_func(values):\n",
    "    return values.mean()\n",
    "\n",
    "def Diag_func(values):\n",
    "    # Use the mode function to get the most frequent diagnosis value\n",
    "    mode_diagnosis = values.mode()\n",
    "\n",
    "    # If there are multiple modes, take the first one\n",
    "    if not mode_diagnosis.empty:\n",
    "        return mode_diagnosis.iloc[0]\n",
    "    else:\n",
    "        # Handle the case where there is no mode (e.g., all values are unique)\n",
    "        return 'Unknown'\n",
    "\n",
    "def ImageQuality_func(values):\n",
    "    mode_quality = values.mode()\n",
    "    if not mode_quality.empty:\n",
    "        return mode_quality.iloc[0]\n",
    "    else:\n",
    "        return \"Unknown\""
   ]
  },
  {
   "cell_type": "code",
   "execution_count": null,
   "metadata": {
    "id": "JtoHFwVscdLQ"
   },
   "outputs": [],
   "source": [
    "# @title Extract the diagnosis in the catalog and generate new Diagnosis\n",
    "all_diag = EA.image_tall(dataset_rid, diagnosis_tag_rid)\n",
    "result = EA.compute_diagnosis(all_diag[all_diag[\"Full_Name\"].isin(grader_list)],\n",
    "                                 Diag_func,\n",
    "                                 CDR_func,\n",
    "                                 ImageQuality_func)"
   ]
  },
  {
   "cell_type": "code",
   "execution_count": null,
   "metadata": {
    "id": "8jTE1iy9c19R"
   },
   "outputs": [],
   "source": [
    "# @title Insert New Process_Tag, Proecess, and Diagnosis_Tag\n",
    "new_process_tag_RID = EA.add_term('Process_Tag', name=process_tag_name, description=grader_list, synonyms=[], exist_ok=False)\n",
    "Process_RID = EA.add_process(Metadata, Github_URL, new_process_tag_RID, Description, Github_Checksum, exist_ok=False)\n",
    "\n",
    "new_diag_tag_RID = EA.add_term('Diagnosis_Tag', Diagnosis_Tag_name, Description, exist_ok=False)\n"
   ]
  },
  {
   "cell_type": "markdown",
   "metadata": {
    "id": "Z78HePWLJBVM"
   },
   "source": [
    "# New Section"
   ]
  },
  {
   "cell_type": "code",
   "execution_count": null,
   "metadata": {
    "id": "nwwG4pVSehMc"
   },
   "outputs": [],
   "source": [
    "entities = EA.insert_new_diagnosis(result, new_diag_tag_RID, Process_RID)"
   ]
  },
  {
   "cell_type": "code",
   "execution_count": null,
   "metadata": {
    "id": "MLE2uTL-Lnph"
   },
   "outputs": [],
   "source": []
  }
 ],
 "metadata": {
  "colab": {
   "include_colab_link": true,
   "provenance": [],
   "toc_visible": true
  },
  "kernelspec": {
   "display_name": "Python 3",
   "name": "python3"
  },
  "language_info": {
   "name": "python"
  }
 },
 "nbformat": 4,
 "nbformat_minor": 0
}
