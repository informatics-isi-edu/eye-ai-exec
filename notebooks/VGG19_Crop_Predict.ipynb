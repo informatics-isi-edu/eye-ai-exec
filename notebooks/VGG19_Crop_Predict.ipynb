{
 "cells": [
  {
   "cell_type": "markdown",
   "metadata": {
    "id": "view-in-github",
    "colab_type": "text"
   },
   "source": [
    "<a href=\"https://colab.research.google.com/github/informatics-isi-edu/eye-ai-exec/blob/main/notebooks/Eye_ai_Image_Cropping_workflow.ipynb\" target=\"_parent\"><img src=\"https://colab.research.google.com/assets/colab-badge.svg\" alt=\"Open In Colab\"/></a>"
   ]
  },
  {
   "metadata": {},
   "cell_type": "code",
   "outputs": [],
   "execution_count": null,
   "source": [
    "import sys\n",
    "IN_COLAB = 'google.colab' in sys.modules\n",
    "\n",
    "if IN_COLAB:\n",
    "    !pip install deriva\n",
    "    !pip install bdbag\n",
    "    !pip install --upgrade --force pydantic\n",
    "    !pip install git+https://github.com/informatics-isi-edu/deriva-ml git+https://github.com/informatics-isi-edu/eye-ai-ml"
   ]
  },
  {
   "metadata": {},
   "cell_type": "code",
   "outputs": [],
   "execution_count": null,
   "source": [
    "# Prerequisites\n",
    "import json\n",
    "import os\n",
    "from eye_ai import EyeAI\n",
    "import pandas as pd\n",
    "from pathlib import Path, PurePath\n",
    "import logging\n"
   ]
  },
  {
   "cell_type": "code",
   "execution_count": null,
   "metadata": {
    "id": "qw-bW4bORlqQ"
   },
   "outputs": [],
   "source": [
    "# @title login to DERIVA via Globus Auth\n",
    "\n",
    "DEBUG_MODE = True #@param [\"False\", \"True\"] {type:\"raw\"}\n",
    "catalog_id = \"eye-ai\" #@param\n",
    "DEFAULT_SERVER = 'dev.eye-ai.org' if DEBUG_MODE else 'www.eye-ai.org'\n",
    "\n",
    "!deriva-globus-auth-utils login --no-browser --host {DEFAULT_SERVER}\n"
   ]
  },
  {
   "metadata": {},
   "cell_type": "code",
   "outputs": [],
   "execution_count": null,
   "source": [
    "# Variables to configure the rest of the notebook.\n",
    "\n",
    "cache_dir = 'cache'        # Directory in which to cache materialized BDBags for datasets\n",
    "working_dir = 'working'    # Directory in which to place output files for later upload.\n",
    "\n",
    "configuration_rid=\"2-90EP\"  "
   ]
  },
  {
   "metadata": {},
   "cell_type": "code",
   "outputs": [],
   "execution_count": null,
   "source": [
    "EA = EyeAI(hostname = DEFAULT_SERVER, catalog_id = catalog_id, cache_dir= cache_dir, working_dir=working_dir)\n",
    "logging.basicConfig(level=logging.INFO, format='%(asctime)s - %(levelname)s - %(message)s', force=True)"
   ]
  },
  {
   "cell_type": "code",
   "execution_count": null,
   "metadata": {
    "id": "kCIfOvbUXTGB"
   },
   "outputs": [],
   "source": [
    "# @title Initiate an Execution\n",
    "configuration_records = EA.execution_init(configuration_rid=configuration_rid)\n",
    "configuration_records.model_dump()"
   ]
  },
  {
   "cell_type": "code",
   "execution_count": null,
   "metadata": {
    "id": "iUuTRgyg7Ys1"
   },
   "outputs": [],
   "source": [
    "# @title Data Preprocessing (Filtering Image.csv for just Field_2 Images)\n",
    "field2_csv_path = EA.filter_angle_2(configuration_records.bag_paths[0])\n",
    "field2_csv_path"
   ]
  },
  {
   "cell_type": "code",
   "execution_count": null,
   "metadata": {
    "id": "YIJj6Uj73sOm"
   },
   "outputs": [],
   "source": [
    "# @title Execute Proecss algorithm (Cropping)\n",
    "from eye_ai_ml.model.optic_disk_crop import preprocess_and_crop\n",
    "with EA.execution(execution_rid=configuration_records.execution_rid) as exec:\n",
    "  preprocess_and_crop(\n",
    "      str(configuration_records.bag_paths[0])+\"/data/assets/Image/\",\n",
    "      field2_csv_path,\n",
    "      str(EA.working_dir)+'/output.csv',\n",
    "      'template.jpg',\n",
    "      str(EA.working_dir),\n",
    "      configuration_records.assets_paths[0],\n",
    "      configuration_records.vocabs['Annotation_Type'][0].rid,\n",
    "      configuration_records.vocabs['Annotation_Type'][0].name,\n",
    "      False\n",
    "      )"
   ]
  },
  {
   "cell_type": "code",
   "source": [
    "# @title Save Execution Assets (model) and Metadata\n",
    "uploaded_assets = EA.execution_upload(configuration_records.execution_rid, False)"
   ],
   "metadata": {
    "id": "zHqtgNpxrISs"
   },
   "execution_count": null,
   "outputs": []
  },
  {
   "cell_type": "code",
   "execution_count": null,
   "metadata": {
    "id": "OKTMtNr24Za8"
   },
   "outputs": [],
   "source": [
    "# @title Save cropping metadata to Image Annotation table\n",
    "annot_metadata = pd.read_csv(str(EA.working_dir)+'/output.csv')\n",
    "EA.insert_image_annotation(uploaded_assets[str(EA.working_dir)+'/Execution_Assets/Image_Annotation'], annot_metadata)"
   ]
  },
  {
   "cell_type": "code",
   "source": [],
   "metadata": {
    "id": "sweKxvocr_uR"
   },
   "execution_count": null,
   "outputs": []
  }
 ],
 "metadata": {
  "colab": {
   "provenance": [],
   "include_colab_link": true
  },
  "kernelspec": {
   "display_name": "Python 3",
   "name": "python3"
  },
  "language_info": {
   "name": "python"
  }
 },
 "nbformat": 4,
 "nbformat_minor": 0
}
