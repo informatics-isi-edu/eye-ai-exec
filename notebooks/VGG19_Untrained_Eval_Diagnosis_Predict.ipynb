{
 "cells": [
  {
   "cell_type": "markdown",
   "metadata": {
    "colab_type": "text",
    "id": "view-in-github"
   },
   "source": [
    "<a href=\"https://colab.research.google.com/github/informatics-isi-edu/eye-ai-exec/blob/main/notebooks/VGG19_Diagnosis_Predict.ipynb\" target=\"_parent\"><img src=\"https://colab.research.google.com/assets/colab-badge.svg\" alt=\"Open In Colab\"/></a>"
   ]
  },
  {
   "cell_type": "markdown",
   "metadata": {
    "editable": true,
    "id": "VYGZ3N0tChY9",
    "tags": []
   },
   "source": [
    "# VGG19 Model Application\n",
    "\n",
    "This notebook applied a pre-trained model to a dataset specified in the configuration file and uploads the labels to the catalog.  The ROC curve is also calculated and uploaded.\n"
   ]
  },
  {
   "cell_type": "code",
   "execution_count": 1,
   "metadata": {},
   "outputs": [],
   "source": [
    "# Prerequisites to configure colab\n",
    "import sys\n",
    "IN_COLAB = 'google.colab' in sys.modules\n",
    "\n",
    "if IN_COLAB:\n",
    "    !pip install deriva\n",
    "    !pip install bdbag\n",
    "    !pip install --upgrade --force pydantic\n",
    "    !pip install git+https://github.com/informatics-isi-edu/deriva-ml git+https://github.com/informatics-isi-edu/eye-ai-ml\n",
    "    !pip install setuptools_git_versioning\n"
   ]
  },
  {
   "cell_type": "code",
   "execution_count": 2,
   "metadata": {},
   "outputs": [],
   "source": [
    "repo_dir = \"Repos\"   # Set this to be where your github repos are located.\n",
    "%load_ext autoreload\n",
    "%autoreload 2\n",
    "\n",
    "# Update the load path so python can find modules for the model\n",
    "import sys\n",
    "from pathlib import Path\n",
    "sys.path.insert(0, str(Path.home() / repo_dir / \"eye-ai-ml\"))"
   ]
  },
  {
   "cell_type": "code",
   "execution_count": 3,
   "metadata": {},
   "outputs": [],
   "source": [
    "# Prerequisites\n",
    "\n",
    "import json\n",
    "import os\n",
    "from eye_ai.eye_ai import EyeAI\n",
    "import pandas as pd\n",
    "from pathlib import Path, PurePath\n",
    "import logging\n",
    "# import torch\n",
    "\n",
    "logging.basicConfig(level=logging.INFO, format='%(asctime)s - %(levelname)s - %(message)s', force=True)"
   ]
  },
  {
   "cell_type": "code",
   "execution_count": 4,
   "metadata": {},
   "outputs": [
    {
     "name": "stderr",
     "output_type": "stream",
     "text": [
      "2024-06-27 08:41:39,990 - INFO - Creating client of type <class 'globus_sdk.services.auth.client.native_client.NativeAppAuthClient'> for service \"auth\"\n",
      "2024-06-27 08:41:39,991 - INFO - Finished initializing AuthLoginClient. client_id='8ef15ba9-2b4a-469c-a163-7fd910c9d111', type(authorizer)=<class 'globus_sdk.authorizers.base.NullAuthorizer'>\n"
     ]
    },
    {
     "name": "stdout",
     "output_type": "stream",
     "text": [
      "You are already logged in.\n"
     ]
    }
   ],
   "source": [
    "\n",
    "from deriva.core.utils.globus_auth_utils import GlobusNativeLogin\n",
    "catalog_id = \"eye-ai\" #@param\n",
    "host = 'www.eye-ai.org'\n",
    "\n",
    "\n",
    "gnl = GlobusNativeLogin(host=host)\n",
    "if gnl.is_logged_in([host]):\n",
    "    print(\"You are already logged in.\")\n",
    "else:\n",
    "    gnl.login([host], no_local_server=True, no_browser=True, refresh_tokens=True, update_bdbag_keychain=True)\n",
    "    print(\"Login Successful\")"
   ]
  },
  {
   "cell_type": "markdown",
   "metadata": {
    "editable": true,
    "id": "aW2Qx1MAChZA",
    "tags": []
   },
   "source": [
    "Connect to Eye-AI catalog.  Configure to store data local cache and working directories.  Initialize Eye-AI for pending execution based on the provided configuration file."
   ]
  },
  {
   "cell_type": "code",
   "execution_count": 5,
   "metadata": {},
   "outputs": [],
   "source": [
    "# Variables to configure the rest of the notebook.\n",
    "\n",
    "cache_dir = '/data'        # Directory in which to cache materialized BDBags for datasets\n",
    "working_dir = '/data'    # Directory in which to place output files for later upload.\n",
    "\n",
    "configuration_rid=\"2-C8MM\"      # Configuration file for this run.  Needs to be changed for each execution."
   ]
  },
  {
   "cell_type": "code",
   "execution_count": 6,
   "metadata": {},
   "outputs": [
    {
     "name": "stderr",
     "output_type": "stream",
     "text": [
      "2024-06-27 08:41:40,943 - INFO - Creating client of type <class 'globus_sdk.services.auth.client.native_client.NativeAppAuthClient'> for service \"auth\"\n",
      "2024-06-27 08:41:40,944 - INFO - Finished initializing AuthLoginClient. client_id='8ef15ba9-2b4a-469c-a163-7fd910c9d111', type(authorizer)=<class 'globus_sdk.authorizers.base.NullAuthorizer'>\n"
     ]
    }
   ],
   "source": [
    "EA = EyeAI(hostname = host, catalog_id = catalog_id, cache_dir= cache_dir, working_dir=working_dir)"
   ]
  },
  {
   "cell_type": "code",
   "execution_count": 7,
   "metadata": {
    "scrolled": true
   },
   "outputs": [
    {
     "name": "stderr",
     "output_type": "stream",
     "text": [
      "2024-06-27 08:41:42,583 - INFO - File [/data/sreenidhi/EyeAI_working/Execution_Metadata/Execution_Config-Vgg19_Untrained_Eval_LAC_DHS_diagnosis_insert_june_27_2024_.json] transfer successful. 0.83 KB transferred. Elapsed time: 0:00:00.000082.\n",
      "2024-06-27 08:41:42,584 - INFO - Verifying MD5 checksum for downloaded file [/data/sreenidhi/EyeAI_working/Execution_Metadata/Execution_Config-Vgg19_Untrained_Eval_LAC_DHS_diagnosis_insert_june_27_2024_.json]\n",
      "2024-06-27 08:41:42,604 - INFO - Configuration validation successful!\n"
     ]
    },
    {
     "data": {
      "text/plain": [
       "{'caching_dir': PosixPath('/data'),\n",
       " 'working_dir': PosixPath('/data/sreenidhi/EyeAI_working'),\n",
       " 'vocabs': {'Workflow_Type': [{'name': 'VGG19_Untrained_Eval_Diagnosis_Predict',\n",
       "    'rid': '2-C8MY'}],\n",
       "  'Execution_Asset_Type': [{'name': 'VGG19_Untrained_Eval_Diagnosis_Predict',\n",
       "    'rid': '2-C8N0'}]},\n",
       " 'execution_rid': '2-C8MW',\n",
       " 'workflow_rid': '2-C8MR',\n",
       " 'bag_paths': [PosixPath('/data/2-277M_6b713c2652c2d45c4bc0e0633e9a739569e98dcf0f10d3cfd403e29468d9d5d0/Dataset_2-277M')],\n",
       " 'assets_paths': [],\n",
       " 'configuration_path': PosixPath('/data/sreenidhi/EyeAI_working/Execution_Metadata/Execution_Config-Vgg19_Untrained_Eval_LAC_DHS_diagnosis_insert_june_27_2024_.json')}"
      ]
     },
     "execution_count": 7,
     "metadata": {},
     "output_type": "execute_result"
    }
   ],
   "source": [
    "# @title Initiate an Execution\n",
    "configuration_records = EA.execution_init(configuration_rid=configuration_rid)\n",
    "input_dataset = configuration_records.bag_paths[0] # Assumes that the configuration file only specifies one dataset.\n",
    "configuration_records.model_dump()\n",
    "\n"
   ]
  },
  {
   "cell_type": "markdown",
   "metadata": {
    "editable": true,
    "id": "zi8M9eVhChZA",
    "tags": []
   },
   "source": [
    "Algorithm was trained on cropped images, so take the raw images and bounding boxes and apply, storing the results in the working directory."
   ]
  },
  {
   "cell_type": "code",
   "execution_count": 8,
   "metadata": {},
   "outputs": [
    {
     "data": {
      "text/plain": [
       "ConfigurationRecord(caching_dir=PosixPath('/data'), working_dir=PosixPath('/data/sreenidhi/EyeAI_working'), vocabs={'Workflow_Type': [Term(name='VGG19_Untrained_Eval_Diagnosis_Predict', rid='2-C8MY')], 'Execution_Asset_Type': [Term(name='VGG19_Untrained_Eval_Diagnosis_Predict', rid='2-C8N0')]}, execution_rid='2-C8MW', workflow_rid='2-C8MR', bag_paths=[PosixPath('/data/2-277M_6b713c2652c2d45c4bc0e0633e9a739569e98dcf0f10d3cfd403e29468d9d5d0/Dataset_2-277M')], assets_paths=[], configuration_path=PosixPath('/data/sreenidhi/EyeAI_working/Execution_Metadata/Execution_Config-Vgg19_Untrained_Eval_LAC_DHS_diagnosis_insert_june_27_2024_.json'))"
      ]
     },
     "execution_count": 8,
     "metadata": {},
     "output_type": "execute_result"
    }
   ],
   "source": [
    "configuration_records"
   ]
  },
  {
   "cell_type": "code",
   "execution_count": 9,
   "metadata": {},
   "outputs": [
    {
     "data": {
      "text/plain": [
       "'/data/sreenidhi/EyeAI_working'"
      ]
     },
     "execution_count": 9,
     "metadata": {},
     "output_type": "execute_result"
    }
   ],
   "source": [
    "str(EA.working_dir)"
   ]
  },
  {
   "cell_type": "code",
   "execution_count": 10,
   "metadata": {},
   "outputs": [],
   "source": [
    "# @title Get Cropped Images\n",
    "cropped_image_path, cropped_csv = EA.create_cropped_images(str(configuration_records.bag_paths[0]),\n",
    "                                                           output_dir = str(EA.working_dir),\n",
    "                                                           crop_to_eye=True)"
   ]
  },
  {
   "cell_type": "code",
   "execution_count": 11,
   "metadata": {},
   "outputs": [
    {
     "data": {
      "text/plain": [
       "'/data/sreenidhi/EyeAI_working/Execution_Assets/VGG19_Untrained_Eval_Diagnosis_Predict'"
      ]
     },
     "execution_count": 11,
     "metadata": {},
     "output_type": "execute_result"
    }
   ],
   "source": [
    "output_path = str(EA.working_dir) + \"/Execution_Assets/\" + configuration_records.vocabs['Execution_Asset_Type'][0].name\n",
    "output_path"
   ]
  },
  {
   "cell_type": "markdown",
   "metadata": {
    "editable": true,
    "id": "UBIaFJ1fChZB",
    "tags": []
   },
   "source": [
    "Import the actual model code and then run against the input dataset specified in the configuration file.  "
   ]
  },
  {
   "cell_type": "code",
   "execution_count": 12,
   "metadata": {},
   "outputs": [
    {
     "name": "stderr",
     "output_type": "stream",
     "text": [
      "2024-06-27 08:44:09.191102: E external/local_xla/xla/stream_executor/cuda/cuda_dnn.cc:9261] Unable to register cuDNN factory: Attempting to register factory for plugin cuDNN when one has already been registered\n",
      "2024-06-27 08:44:09.191149: E external/local_xla/xla/stream_executor/cuda/cuda_fft.cc:607] Unable to register cuFFT factory: Attempting to register factory for plugin cuFFT when one has already been registered\n",
      "2024-06-27 08:44:09.191997: E external/local_xla/xla/stream_executor/cuda/cuda_blas.cc:1515] Unable to register cuBLAS factory: Attempting to register factory for plugin cuBLAS when one has already been registered\n",
      "2024-06-27 08:44:09.198120: I tensorflow/core/platform/cpu_feature_guard.cc:182] This TensorFlow binary is optimized to use available CPU instructions in performance-critical operations.\n",
      "To enable the following instructions: AVX2 FMA, in other operations, rebuild TensorFlow with the appropriate compiler flags.\n",
      "2024-06-27 08:44:09.986388: W tensorflow/compiler/tf2tensorrt/utils/py_utils.cc:38] TF-TRT Warning: Could not find TensorRT\n",
      "2024-06-27 08:44:10.641543: I external/local_xla/xla/stream_executor/cuda/cuda_executor.cc:901] successful NUMA node read from SysFS had negative value (-1), but there must be at least one NUMA node, so returning NUMA node zero. See more at https://github.com/torvalds/linux/blob/v6.0/Documentation/ABI/testing/sysfs-bus-pci#L344-L355\n",
      "2024-06-27 08:44:10.670825: I external/local_xla/xla/stream_executor/cuda/cuda_executor.cc:901] successful NUMA node read from SysFS had negative value (-1), but there must be at least one NUMA node, so returning NUMA node zero. See more at https://github.com/torvalds/linux/blob/v6.0/Documentation/ABI/testing/sysfs-bus-pci#L344-L355\n",
      "2024-06-27 08:44:10.674468: I external/local_xla/xla/stream_executor/cuda/cuda_executor.cc:901] successful NUMA node read from SysFS had negative value (-1), but there must be at least one NUMA node, so returning NUMA node zero. See more at https://github.com/torvalds/linux/blob/v6.0/Documentation/ABI/testing/sysfs-bus-pci#L344-L355\n",
      "2024-06-27 08:44:10.678401: I external/local_xla/xla/stream_executor/cuda/cuda_executor.cc:901] successful NUMA node read from SysFS had negative value (-1), but there must be at least one NUMA node, so returning NUMA node zero. See more at https://github.com/torvalds/linux/blob/v6.0/Documentation/ABI/testing/sysfs-bus-pci#L344-L355\n",
      "2024-06-27 08:44:10.681964: I external/local_xla/xla/stream_executor/cuda/cuda_executor.cc:901] successful NUMA node read from SysFS had negative value (-1), but there must be at least one NUMA node, so returning NUMA node zero. See more at https://github.com/torvalds/linux/blob/v6.0/Documentation/ABI/testing/sysfs-bus-pci#L344-L355\n",
      "2024-06-27 08:44:10.685407: I external/local_xla/xla/stream_executor/cuda/cuda_executor.cc:901] successful NUMA node read from SysFS had negative value (-1), but there must be at least one NUMA node, so returning NUMA node zero. See more at https://github.com/torvalds/linux/blob/v6.0/Documentation/ABI/testing/sysfs-bus-pci#L344-L355\n",
      "2024-06-27 08:44:10.803084: I external/local_xla/xla/stream_executor/cuda/cuda_executor.cc:901] successful NUMA node read from SysFS had negative value (-1), but there must be at least one NUMA node, so returning NUMA node zero. See more at https://github.com/torvalds/linux/blob/v6.0/Documentation/ABI/testing/sysfs-bus-pci#L344-L355\n",
      "2024-06-27 08:44:10.804704: I external/local_xla/xla/stream_executor/cuda/cuda_executor.cc:901] successful NUMA node read from SysFS had negative value (-1), but there must be at least one NUMA node, so returning NUMA node zero. See more at https://github.com/torvalds/linux/blob/v6.0/Documentation/ABI/testing/sysfs-bus-pci#L344-L355\n",
      "2024-06-27 08:44:10.806093: I external/local_xla/xla/stream_executor/cuda/cuda_executor.cc:901] successful NUMA node read from SysFS had negative value (-1), but there must be at least one NUMA node, so returning NUMA node zero. See more at https://github.com/torvalds/linux/blob/v6.0/Documentation/ABI/testing/sysfs-bus-pci#L344-L355\n",
      "2024-06-27 08:44:10.807433: I tensorflow/core/common_runtime/gpu/gpu_device.cc:1929] Created device /job:localhost/replica:0/task:0/device:GPU:0 with 20723 MB memory:  -> device: 0, name: NVIDIA A10G, pci bus id: 0000:00:1e.0, compute capability: 8.6\n"
     ]
    },
    {
     "name": "stdout",
     "output_type": "stream",
     "text": [
      "Found 1094 images belonging to 2 classes.\n"
     ]
    },
    {
     "name": "stderr",
     "output_type": "stream",
     "text": [
      "2024-06-27 08:44:11.695539: I external/local_xla/xla/stream_executor/cuda/cuda_dnn.cc:454] Loaded cuDNN version 8907\n",
      "2024-06-27 08:44:23,264 - INFO - Predictions saved to /data/sreenidhi/EyeAI_working/Execution_Assets/VGG19_Untrained_Eval_Diagnosis_Predict/untrained_vgg19_predictions.csv\n",
      "/home/sreenidhi/.conda/envs/my-tensorflow-conda/lib/python3.10/site-packages/sklearn/metrics/_classification.py:1509: UndefinedMetricWarning: Precision is ill-defined and being set to 0.0 due to no predicted samples. Use `zero_division` parameter to control this behavior.\n",
      "  _warn_prf(average, modifier, f\"{metric.capitalize()} is\", len(result))\n",
      "/home/sreenidhi/.conda/envs/my-tensorflow-conda/lib/python3.10/site-packages/sklearn/metrics/_classification.py:1509: UndefinedMetricWarning: Precision is ill-defined and being set to 0.0 in labels with no predicted samples. Use `zero_division` parameter to control this behavior.\n",
      "  _warn_prf(average, modifier, f\"{metric.capitalize()} is\", len(result))\n",
      "/home/sreenidhi/.conda/envs/my-tensorflow-conda/lib/python3.10/site-packages/sklearn/metrics/_classification.py:1509: UndefinedMetricWarning: Precision is ill-defined and being set to 0.0 in labels with no predicted samples. Use `zero_division` parameter to control this behavior.\n",
      "  _warn_prf(average, modifier, f\"{metric.capitalize()} is\", len(result))\n",
      "/home/sreenidhi/.conda/envs/my-tensorflow-conda/lib/python3.10/site-packages/sklearn/metrics/_classification.py:1509: UndefinedMetricWarning: Precision is ill-defined and being set to 0.0 in labels with no predicted samples. Use `zero_division` parameter to control this behavior.\n",
      "  _warn_prf(average, modifier, f\"{metric.capitalize()} is\", len(result))\n",
      "2024-06-27 08:44:23,391 - INFO - ROC curve saved to /data/sreenidhi/EyeAI_working/Execution_Assets/VGG19_Untrained_Eval_Diagnosis_Predict/roc_curve.png\n"
     ]
    },
    {
     "name": "stdout",
     "output_type": "stream",
     "text": [
      "\n",
      "Scikit-learn Metrics:\n",
      "ROC AUC: 0.46870648797729336\n",
      "F1 Score: 0.32469135802469135\n",
      "F1 Score Normal: 0.0\n",
      "Precision: 0.0\n",
      "Recall: 0.0\n",
      "Accuracy: 0.48080438756855576\n",
      "Balanced Accuracy: 0.5\n",
      "Matthews correlation coefficient: 0.0\n",
      "\n",
      "Classification Report:\n",
      "               precision    recall  f1-score   support\n",
      "\n",
      "         0.0       0.48      1.00      0.65       526\n",
      "         1.0       0.00      0.00      0.00       568\n",
      "\n",
      "    accuracy                           0.48      1094\n",
      "   macro avg       0.24      0.50      0.32      1094\n",
      "weighted avg       0.23      0.48      0.31      1094\n",
      "\n"
     ]
    }
   ],
   "source": [
    "# @title Execute Proecss algorithm (Test model)\n",
    "from eye_ai.models.vgg19_untrained_eval import evaluate_untrained_model\n",
    "\n",
    "with EA.execution(execution_rid=configuration_records.execution_rid) as exec:\n",
    "  evaluate_untrained_model(cropped_image_path, output_path)"
   ]
  },
  {
   "cell_type": "markdown",
   "metadata": {
    "editable": true,
    "id": "rG-AvXsKChZB",
    "tags": []
   },
   "source": [
    "Add the new lables to the catalog using the provided diagnosis tage for this execution.  Also upload any additional assets that were produced by this execution.."
   ]
  },
  {
   "cell_type": "code",
   "execution_count": 14,
   "metadata": {},
   "outputs": [
    {
     "name": "stderr",
     "output_type": "stream",
     "text": [
      "2024-06-27 08:46:11,959 - INFO - Initializing uploader: GenericUploader v1.7.1 [Python 3.10.13, Linux-5.10.210-201.852.amzn2.x86_64-x86_64-with-glibc2.26]\n",
      "2024-06-27 08:46:11,960 - INFO - Creating client of type <class 'globus_sdk.services.auth.client.native_client.NativeAppAuthClient'> for service \"auth\"\n",
      "2024-06-27 08:46:11,961 - INFO - Finished initializing AuthLoginClient. client_id='8ef15ba9-2b4a-469c-a163-7fd910c9d111', type(authorizer)=<class 'globus_sdk.authorizers.base.NullAuthorizer'>\n",
      "2024-06-27 08:46:11,998 - INFO - Checking for updated configuration...\n",
      "2024-06-27 08:46:12,118 - INFO - Updated configuration found.\n",
      "2024-06-27 08:46:12,119 - INFO - Scanning files in directory [/data/sreenidhi/EyeAI_working/Execution_Assets/VGG19_Untrained_Eval_Diagnosis_Predict]...\n",
      "2024-06-27 08:46:12,123 - INFO - Including file: [/data/sreenidhi/EyeAI_working/Execution_Assets/VGG19_Untrained_Eval_Diagnosis_Predict/untrained_vgg19_predictions.csv].\n",
      "2024-06-27 08:46:12,124 - INFO - Including file: [/data/sreenidhi/EyeAI_working/Execution_Assets/VGG19_Untrained_Eval_Diagnosis_Predict/roc_curve.png].\n",
      "2024-06-27 08:46:12,125 - INFO - Processing: [/data/sreenidhi/EyeAI_working/Execution_Assets/VGG19_Untrained_Eval_Diagnosis_Predict/untrained_vgg19_predictions.csv]\n",
      "2024-06-27 08:46:12,125 - INFO - Computed metadata for: [/data/sreenidhi/EyeAI_working/Execution_Assets/VGG19_Untrained_Eval_Diagnosis_Predict/untrained_vgg19_predictions.csv].\n",
      "2024-06-27 08:46:12,126 - INFO - Computing checksums for file: [/data/sreenidhi/EyeAI_working/Execution_Assets/VGG19_Untrained_Eval_Diagnosis_Predict/untrained_vgg19_predictions.csv]. Please wait...\n",
      "2024-06-27 08:46:12,155 - INFO - Uploading file: [/data/sreenidhi/EyeAI_working/Execution_Assets/VGG19_Untrained_Eval_Diagnosis_Predict/untrained_vgg19_predictions.csv] to host https://www.eye-ai.org. Please wait...\n",
      "2024-06-27 08:46:12,402 - INFO - Processing: [/data/sreenidhi/EyeAI_working/Execution_Assets/VGG19_Untrained_Eval_Diagnosis_Predict/roc_curve.png]\n",
      "2024-06-27 08:46:12,403 - INFO - Computed metadata for: [/data/sreenidhi/EyeAI_working/Execution_Assets/VGG19_Untrained_Eval_Diagnosis_Predict/roc_curve.png].\n",
      "2024-06-27 08:46:12,403 - INFO - Computing checksums for file: [/data/sreenidhi/EyeAI_working/Execution_Assets/VGG19_Untrained_Eval_Diagnosis_Predict/roc_curve.png]. Please wait...\n",
      "2024-06-27 08:46:12,416 - INFO - Uploading file: [/data/sreenidhi/EyeAI_working/Execution_Assets/VGG19_Untrained_Eval_Diagnosis_Predict/roc_curve.png] to host https://www.eye-ai.org. Please wait...\n",
      "2024-06-27 08:46:12,670 - INFO - File upload processing completed: 2 files were uploaded successfully, 0 files failed to upload due to errors, 0 files were skipped because they did not satisfy the matching criteria of the configuration.\n",
      "2024-06-27 08:46:12,727 - INFO - Initializing uploader: GenericUploader v1.7.1 [Python 3.10.13, Linux-5.10.210-201.852.amzn2.x86_64-x86_64-with-glibc2.26]\n",
      "2024-06-27 08:46:12,728 - INFO - Creating client of type <class 'globus_sdk.services.auth.client.native_client.NativeAppAuthClient'> for service \"auth\"\n",
      "2024-06-27 08:46:12,729 - INFO - Finished initializing AuthLoginClient. client_id='8ef15ba9-2b4a-469c-a163-7fd910c9d111', type(authorizer)=<class 'globus_sdk.authorizers.base.NullAuthorizer'>\n",
      "2024-06-27 08:46:12,768 - INFO - Checking for updated configuration...\n",
      "2024-06-27 08:46:12,869 - INFO - Updated configuration found.\n",
      "2024-06-27 08:46:12,871 - INFO - Scanning files in directory [/data/sreenidhi/EyeAI_working/Execution_Metadata]...\n",
      "2024-06-27 08:46:12,872 - INFO - Including file: [/data/sreenidhi/EyeAI_working/Execution_Metadata/Execution_Config-Vgg19_final_model_LAC_DHS_june_26_best_params_model_architecture_visualiz.json].\n",
      "2024-06-27 08:46:12,873 - INFO - Including file: [/data/sreenidhi/EyeAI_working/Execution_Metadata/Runtime_Env-python_environment_snapshot.txt].\n",
      "2024-06-27 08:46:12,873 - INFO - Including file: [/data/sreenidhi/EyeAI_working/Execution_Metadata/Execution_Config-Vgg19_Untrained_Eval_LAC_DHS_diagnosis_insert_june_27_2024.json].\n",
      "2024-06-27 08:46:12,874 - INFO - Including file: [/data/sreenidhi/EyeAI_working/Execution_Metadata/Execution_Config-Vgg19_Untrained_Eval_LAC_DHS_diagnosis_insert_june_27_2024_.json].\n",
      "2024-06-27 08:46:12,875 - INFO - Processing: [/data/sreenidhi/EyeAI_working/Execution_Metadata/Execution_Config-Vgg19_final_model_LAC_DHS_june_26_best_params_model_architecture_visualiz.json]\n",
      "2024-06-27 08:46:12,875 - INFO - Computed metadata for: [/data/sreenidhi/EyeAI_working/Execution_Metadata/Execution_Config-Vgg19_final_model_LAC_DHS_june_26_best_params_model_architecture_visualiz.json].\n",
      "2024-06-27 08:46:12,876 - INFO - Computing checksums for file: [/data/sreenidhi/EyeAI_working/Execution_Metadata/Execution_Config-Vgg19_final_model_LAC_DHS_june_26_best_params_model_architecture_visualiz.json]. Please wait...\n",
      "2024-06-27 08:46:12,887 - INFO - Uploading file: [/data/sreenidhi/EyeAI_working/Execution_Metadata/Execution_Config-Vgg19_final_model_LAC_DHS_june_26_best_params_model_architecture_visualiz.json] to host https://www.eye-ai.org. Please wait...\n",
      "2024-06-27 08:46:12,934 - INFO - Processing: [/data/sreenidhi/EyeAI_working/Execution_Metadata/Runtime_Env-python_environment_snapshot.txt]\n",
      "2024-06-27 08:46:12,934 - INFO - Computed metadata for: [/data/sreenidhi/EyeAI_working/Execution_Metadata/Runtime_Env-python_environment_snapshot.txt].\n",
      "2024-06-27 08:46:12,935 - INFO - Computing checksums for file: [/data/sreenidhi/EyeAI_working/Execution_Metadata/Runtime_Env-python_environment_snapshot.txt]. Please wait...\n",
      "2024-06-27 08:46:12,944 - INFO - Uploading file: [/data/sreenidhi/EyeAI_working/Execution_Metadata/Runtime_Env-python_environment_snapshot.txt] to host https://www.eye-ai.org. Please wait...\n",
      "2024-06-27 08:46:12,961 - INFO - Processing: [/data/sreenidhi/EyeAI_working/Execution_Metadata/Execution_Config-Vgg19_Untrained_Eval_LAC_DHS_diagnosis_insert_june_27_2024.json]\n",
      "2024-06-27 08:46:12,961 - INFO - Computed metadata for: [/data/sreenidhi/EyeAI_working/Execution_Metadata/Execution_Config-Vgg19_Untrained_Eval_LAC_DHS_diagnosis_insert_june_27_2024.json].\n",
      "2024-06-27 08:46:12,962 - INFO - Computing checksums for file: [/data/sreenidhi/EyeAI_working/Execution_Metadata/Execution_Config-Vgg19_Untrained_Eval_LAC_DHS_diagnosis_insert_june_27_2024.json]. Please wait...\n",
      "2024-06-27 08:46:12,970 - INFO - Uploading file: [/data/sreenidhi/EyeAI_working/Execution_Metadata/Execution_Config-Vgg19_Untrained_Eval_LAC_DHS_diagnosis_insert_june_27_2024.json] to host https://www.eye-ai.org. Please wait...\n",
      "2024-06-27 08:46:13,105 - INFO - Processing: [/data/sreenidhi/EyeAI_working/Execution_Metadata/Execution_Config-Vgg19_Untrained_Eval_LAC_DHS_diagnosis_insert_june_27_2024_.json]\n",
      "2024-06-27 08:46:13,106 - INFO - Computed metadata for: [/data/sreenidhi/EyeAI_working/Execution_Metadata/Execution_Config-Vgg19_Untrained_Eval_LAC_DHS_diagnosis_insert_june_27_2024_.json].\n",
      "2024-06-27 08:46:13,107 - INFO - Computing checksums for file: [/data/sreenidhi/EyeAI_working/Execution_Metadata/Execution_Config-Vgg19_Untrained_Eval_LAC_DHS_diagnosis_insert_june_27_2024_.json]. Please wait...\n",
      "2024-06-27 08:46:13,115 - INFO - Uploading file: [/data/sreenidhi/EyeAI_working/Execution_Metadata/Execution_Config-Vgg19_Untrained_Eval_LAC_DHS_diagnosis_insert_june_27_2024_.json] to host https://www.eye-ai.org. Please wait...\n",
      "2024-06-27 08:46:13,182 - INFO - Updating catalog for file [Execution_Config-Vgg19_Untrained_Eval_LAC_DHS_diagnosis_insert_june_27_2024_.json]\n",
      "2024-06-27 08:46:13,228 - INFO - File upload processing completed: 4 files were uploaded successfully, 0 files failed to upload due to errors, 0 files were skipped because they did not satisfy the matching criteria of the configuration.\n"
     ]
    }
   ],
   "source": [
    "# @title Save Execution Assets (model) and Metadata\n",
    "uploaded_assets = EA.execution_upload(configuration_records.execution_rid, True)\n"
   ]
  },
  {
   "cell_type": "code",
   "execution_count": null,
   "metadata": {},
   "outputs": [],
   "source": []
  }
 ],
 "metadata": {
  "kernelspec": {
   "display_name": "My TensorFlow (Conda)",
   "language": "python",
   "name": "my-tensorflow-conda"
  },
  "language_info": {
   "codemirror_mode": {
    "name": "ipython",
    "version": 3
   },
   "file_extension": ".py",
   "mimetype": "text/x-python",
   "name": "python",
   "nbconvert_exporter": "python",
   "pygments_lexer": "ipython3",
   "version": "3.10.13"
  }
 },
 "nbformat": 4,
 "nbformat_minor": 4
}
